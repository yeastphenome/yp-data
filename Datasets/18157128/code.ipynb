{
 "cells": [
  {
   "cell_type": "code",
   "execution_count": 1,
   "metadata": {},
   "outputs": [],
   "source": [
    "%run ../../Utils/yp_utils.py"
   ]
  },
  {
   "cell_type": "markdown",
   "metadata": {},
   "source": [
    "# Initial setup"
   ]
  },
  {
   "cell_type": "code",
   "execution_count": 2,
   "metadata": {},
   "outputs": [],
   "source": [
    "paper_pmid = 18157128\n",
    "paper_name = 'delneri_oliver_2008' "
   ]
  },
  {
   "cell_type": "code",
   "execution_count": 3,
   "metadata": {},
   "outputs": [],
   "source": [
    "datasets = pd.read_csv('extras/YeastPhenome_' + str(paper_pmid) + '_datasets_list.txt', sep='\\t', header=None, names=['dataset_id', 'name'])"
   ]
  },
  {
   "cell_type": "code",
   "execution_count": 4,
   "metadata": {},
   "outputs": [],
   "source": [
    "datasets.set_index('dataset_id', inplace=True)"
   ]
  },
  {
   "cell_type": "markdown",
   "metadata": {},
   "source": [
    "# Load & process the data"
   ]
  },
  {
   "cell_type": "code",
   "execution_count": 91,
   "metadata": {},
   "outputs": [],
   "source": [
    "original_data = pd.read_excel('raw_data/Table 4s_NewForPublishing.xlsx', sheet_name='CL, NL, PL & GJ  data', skiprows=10)"
   ]
  },
  {
   "cell_type": "code",
   "execution_count": 92,
   "metadata": {},
   "outputs": [
    {
     "name": "stdout",
     "output_type": "stream",
     "text": [
      "Original data dimensions: 1247 x 49\n"
     ]
    }
   ],
   "source": [
    "print('Original data dimensions: %d x %d' % (original_data.shape))"
   ]
  },
  {
   "cell_type": "code",
   "execution_count": 93,
   "metadata": {},
   "outputs": [
    {
     "data": {
      "text/html": [
       "<div>\n",
       "<style scoped>\n",
       "    .dataframe tbody tr th:only-of-type {\n",
       "        vertical-align: middle;\n",
       "    }\n",
       "\n",
       "    .dataframe tbody tr th {\n",
       "        vertical-align: top;\n",
       "    }\n",
       "\n",
       "    .dataframe thead th {\n",
       "        text-align: right;\n",
       "    }\n",
       "</style>\n",
       "<table border=\"1\" class=\"dataframe\">\n",
       "  <thead>\n",
       "    <tr style=\"text-align: right;\">\n",
       "      <th></th>\n",
       "      <th>ORF</th>\n",
       "      <th>Growth Rate</th>\n",
       "      <th>FDR(BH)</th>\n",
       "      <th>Unnamed: 3</th>\n",
       "      <th>Unnamed: 4</th>\n",
       "      <th>Unnamed: 5</th>\n",
       "      <th>Unnamed: 6</th>\n",
       "      <th>ORF.1</th>\n",
       "      <th>Growth Rate.1</th>\n",
       "      <th>FDR(BH).1</th>\n",
       "      <th>...</th>\n",
       "      <th>Unnamed: 39</th>\n",
       "      <th>ORF.6</th>\n",
       "      <th>Growth Rate.6</th>\n",
       "      <th>FDR(BH).6</th>\n",
       "      <th>Unnamed: 43</th>\n",
       "      <th>Unnamed: 44</th>\n",
       "      <th>Unnamed: 45</th>\n",
       "      <th>ORF.7</th>\n",
       "      <th>Growth Rate.7</th>\n",
       "      <th>FDR(BH).7</th>\n",
       "    </tr>\n",
       "  </thead>\n",
       "  <tbody>\n",
       "    <tr>\n",
       "      <th>0</th>\n",
       "      <td>NaN</td>\n",
       "      <td>NaN</td>\n",
       "      <td>NaN</td>\n",
       "      <td>NaN</td>\n",
       "      <td>NaN</td>\n",
       "      <td>NaN</td>\n",
       "      <td>NaN</td>\n",
       "      <td>NaN</td>\n",
       "      <td>NaN</td>\n",
       "      <td>NaN</td>\n",
       "      <td>...</td>\n",
       "      <td>NaN</td>\n",
       "      <td>NaN</td>\n",
       "      <td>NaN</td>\n",
       "      <td>NaN</td>\n",
       "      <td>NaN</td>\n",
       "      <td>NaN</td>\n",
       "      <td>NaN</td>\n",
       "      <td>NaN</td>\n",
       "      <td>NaN</td>\n",
       "      <td>NaN</td>\n",
       "    </tr>\n",
       "    <tr>\n",
       "      <th>1</th>\n",
       "      <td>YEL027W</td>\n",
       "      <td>-0.107896</td>\n",
       "      <td>0.00096997</td>\n",
       "      <td>NaN</td>\n",
       "      <td>NaN</td>\n",
       "      <td>NaN</td>\n",
       "      <td>NaN</td>\n",
       "      <td>YOR182C</td>\n",
       "      <td>0.081684</td>\n",
       "      <td>0.00097</td>\n",
       "      <td>...</td>\n",
       "      <td>NaN</td>\n",
       "      <td>YIL086C</td>\n",
       "      <td>-0.097003</td>\n",
       "      <td>0.000855</td>\n",
       "      <td>NaN</td>\n",
       "      <td>NaN</td>\n",
       "      <td>NaN</td>\n",
       "      <td>YPL202C</td>\n",
       "      <td>0.078349</td>\n",
       "      <td>0.000855</td>\n",
       "    </tr>\n",
       "    <tr>\n",
       "      <th>2</th>\n",
       "      <td>YAL005C</td>\n",
       "      <td>-0.097399</td>\n",
       "      <td>0.00096997</td>\n",
       "      <td>NaN</td>\n",
       "      <td>NaN</td>\n",
       "      <td>NaN</td>\n",
       "      <td>NaN</td>\n",
       "      <td>YGL087C</td>\n",
       "      <td>0.076773</td>\n",
       "      <td>0.00097</td>\n",
       "      <td>...</td>\n",
       "      <td>NaN</td>\n",
       "      <td>YCR037C</td>\n",
       "      <td>-0.057828</td>\n",
       "      <td>0.000855</td>\n",
       "      <td>NaN</td>\n",
       "      <td>NaN</td>\n",
       "      <td>NaN</td>\n",
       "      <td>YJR154W</td>\n",
       "      <td>0.059105</td>\n",
       "      <td>0.000855</td>\n",
       "    </tr>\n",
       "    <tr>\n",
       "      <th>3</th>\n",
       "      <td>YNL039W</td>\n",
       "      <td>-0.094801</td>\n",
       "      <td>0.00096997</td>\n",
       "      <td>NaN</td>\n",
       "      <td>NaN</td>\n",
       "      <td>NaN</td>\n",
       "      <td>NaN</td>\n",
       "      <td>YGR257C</td>\n",
       "      <td>0.076172</td>\n",
       "      <td>0.00097</td>\n",
       "      <td>...</td>\n",
       "      <td>NaN</td>\n",
       "      <td>YBR300C</td>\n",
       "      <td>-0.052981</td>\n",
       "      <td>0.000855</td>\n",
       "      <td>NaN</td>\n",
       "      <td>NaN</td>\n",
       "      <td>NaN</td>\n",
       "      <td>YLR417W</td>\n",
       "      <td>0.032742</td>\n",
       "      <td>0.000855</td>\n",
       "    </tr>\n",
       "    <tr>\n",
       "      <th>4</th>\n",
       "      <td>YMR033W</td>\n",
       "      <td>-0.092898</td>\n",
       "      <td>0.00096997</td>\n",
       "      <td>NaN</td>\n",
       "      <td>NaN</td>\n",
       "      <td>NaN</td>\n",
       "      <td>NaN</td>\n",
       "      <td>YLR315W</td>\n",
       "      <td>0.069649</td>\n",
       "      <td>0.00097</td>\n",
       "      <td>...</td>\n",
       "      <td>NaN</td>\n",
       "      <td>YCR006C</td>\n",
       "      <td>-0.052366</td>\n",
       "      <td>0.000855</td>\n",
       "      <td>NaN</td>\n",
       "      <td>NaN</td>\n",
       "      <td>NaN</td>\n",
       "      <td>YKR036C</td>\n",
       "      <td>0.031759</td>\n",
       "      <td>0.000855</td>\n",
       "    </tr>\n",
       "  </tbody>\n",
       "</table>\n",
       "<p>5 rows × 49 columns</p>\n",
       "</div>"
      ],
      "text/plain": [
       "       ORF Growth Rate     FDR(BH) Unnamed: 3  Unnamed: 4  Unnamed: 5  \\\n",
       "0      NaN         NaN         NaN        NaN         NaN         NaN   \n",
       "1  YEL027W   -0.107896  0.00096997        NaN         NaN         NaN   \n",
       "2  YAL005C   -0.097399  0.00096997        NaN         NaN         NaN   \n",
       "3  YNL039W   -0.094801  0.00096997        NaN         NaN         NaN   \n",
       "4  YMR033W   -0.092898  0.00096997        NaN         NaN         NaN   \n",
       "\n",
       "   Unnamed: 6    ORF.1  Growth Rate.1  FDR(BH).1  ... Unnamed: 39    ORF.6  \\\n",
       "0         NaN      NaN            NaN        NaN  ...         NaN      NaN   \n",
       "1         NaN  YOR182C       0.081684    0.00097  ...         NaN  YIL086C   \n",
       "2         NaN  YGL087C       0.076773    0.00097  ...         NaN  YCR037C   \n",
       "3         NaN  YGR257C       0.076172    0.00097  ...         NaN  YBR300C   \n",
       "4         NaN  YLR315W       0.069649    0.00097  ...         NaN  YCR006C   \n",
       "\n",
       "   Growth Rate.6 FDR(BH).6  Unnamed: 43  Unnamed: 44 Unnamed: 45    ORF.7  \\\n",
       "0            NaN       NaN          NaN          NaN         NaN      NaN   \n",
       "1      -0.097003  0.000855          NaN          NaN         NaN  YPL202C   \n",
       "2      -0.057828  0.000855          NaN          NaN         NaN  YJR154W   \n",
       "3      -0.052981  0.000855          NaN          NaN         NaN  YLR417W   \n",
       "4      -0.052366  0.000855          NaN          NaN         NaN  YKR036C   \n",
       "\n",
       "   Growth Rate.7  FDR(BH).7  \n",
       "0            NaN        NaN  \n",
       "1       0.078349   0.000855  \n",
       "2       0.059105   0.000855  \n",
       "3       0.032742   0.000855  \n",
       "4       0.031759   0.000855  \n",
       "\n",
       "[5 rows x 49 columns]"
      ]
     },
     "execution_count": 93,
     "metadata": {},
     "output_type": "execute_result"
    }
   ],
   "source": [
    "original_data.head()"
   ]
  },
  {
   "cell_type": "code",
   "execution_count": 94,
   "metadata": {},
   "outputs": [],
   "source": [
    "orf_cols = [c for c in original_data.columns if 'ORF' in c]\n",
    "data_cols = [c for c in original_data.columns if 'Growth Rate' in c]"
   ]
  },
  {
   "cell_type": "code",
   "execution_count": 95,
   "metadata": {},
   "outputs": [],
   "source": [
    "original_data_list = []\n",
    "for o,d in zip(orf_cols, data_cols):\n",
    "    t = original_data.loc[:,[o,d]].copy()\n",
    "    t.columns = ['orf','data']\n",
    "    original_data_list.append(t)"
   ]
  },
  {
   "cell_type": "code",
   "execution_count": 96,
   "metadata": {},
   "outputs": [
    {
     "name": "stdout",
     "output_type": "stream",
     "text": [
      "      orf data\n",
      "0     NAN  NaN\n",
      "665   NAN  NaN\n",
      "666   NAN  NaN\n",
      "667   NAN  NaN\n",
      "668   NAN  NaN\n",
      "...   ...  ...\n",
      "1242  NAN  NaN\n",
      "1243  NAN  NaN\n",
      "1244  NAN  NaN\n",
      "1245  NAN  NaN\n",
      "1246  NAN  NaN\n",
      "\n",
      "[583 rows x 2 columns]\n",
      "(663, 1)\n",
      "      orf  data\n",
      "0     NAN   NaN\n",
      "748   NAN   NaN\n",
      "749   NAN   NaN\n",
      "750   NAN   NaN\n",
      "751   NAN   NaN\n",
      "...   ...   ...\n",
      "1242  NAN   NaN\n",
      "1243  NAN   NaN\n",
      "1244  NAN   NaN\n",
      "1245  NAN   NaN\n",
      "1246  NAN   NaN\n",
      "\n",
      "[500 rows x 2 columns]\n",
      "(745, 1)\n",
      "   orf  data\n",
      "0  NAN   NaN\n",
      "(1244, 1)\n",
      "      orf  data\n",
      "0     NAN   NaN\n",
      "208   NAN   NaN\n",
      "209   NAN   NaN\n",
      "210   NAN   NaN\n",
      "211   NAN   NaN\n",
      "...   ...   ...\n",
      "1242  NAN   NaN\n",
      "1243  NAN   NaN\n",
      "1244  NAN   NaN\n",
      "1245  NAN   NaN\n",
      "1246  NAN   NaN\n",
      "\n",
      "[1040 rows x 2 columns]\n",
      "(207, 1)\n"
     ]
    }
   ],
   "source": [
    "original_data_list2 = []\n",
    "for d in np.arange(4):\n",
    "    df = pd.concat(original_data_list[d*2:d*2+1], axis=0)\n",
    "    \n",
    "    df['orf'] = df['orf'].astype(str)\n",
    "    df['orf'] = clean_orf(df['orf'])\n",
    "    df['orf'] = translate_sc(df['orf'].values, to='orf')\n",
    "    \n",
    "    # Make sure everything translated ok\n",
    "    t = looks_like_orf(df['orf'])\n",
    "    print(df.loc[~t,])\n",
    "    df = df.loc[t,:]\n",
    "    \n",
    "    df.set_index('orf', inplace=True)\n",
    "    df = df[['data']].copy()\n",
    "    df['data'] = pd.to_numeric(df['data'], errors='coerce')\n",
    "    \n",
    "    df = df.groupby(df.index).mean()\n",
    "    print(df.shape)\n",
    "    \n",
    "    original_data_list2.append(df)"
   ]
  },
  {
   "cell_type": "code",
   "execution_count": 97,
   "metadata": {},
   "outputs": [],
   "source": [
    "original_data = pd.concat(original_data_list2, axis=1)"
   ]
  },
  {
   "cell_type": "code",
   "execution_count": 98,
   "metadata": {},
   "outputs": [
    {
     "data": {
      "text/html": [
       "<div>\n",
       "<style scoped>\n",
       "    .dataframe tbody tr th:only-of-type {\n",
       "        vertical-align: middle;\n",
       "    }\n",
       "\n",
       "    .dataframe tbody tr th {\n",
       "        vertical-align: top;\n",
       "    }\n",
       "\n",
       "    .dataframe thead th {\n",
       "        text-align: right;\n",
       "    }\n",
       "</style>\n",
       "<table border=\"1\" class=\"dataframe\">\n",
       "  <thead>\n",
       "    <tr style=\"text-align: right;\">\n",
       "      <th></th>\n",
       "      <th>data</th>\n",
       "      <th>data</th>\n",
       "      <th>data</th>\n",
       "      <th>data</th>\n",
       "    </tr>\n",
       "  </thead>\n",
       "  <tbody>\n",
       "    <tr>\n",
       "      <th>YAL002W</th>\n",
       "      <td>-0.014847</td>\n",
       "      <td>-0.021817</td>\n",
       "      <td>NaN</td>\n",
       "      <td>NaN</td>\n",
       "    </tr>\n",
       "    <tr>\n",
       "      <th>YAL005C</th>\n",
       "      <td>-0.097399</td>\n",
       "      <td>-0.085828</td>\n",
       "      <td>-0.046165</td>\n",
       "      <td>NaN</td>\n",
       "    </tr>\n",
       "    <tr>\n",
       "      <th>YAL021C</th>\n",
       "      <td>-0.021303</td>\n",
       "      <td>-0.013752</td>\n",
       "      <td>-0.052153</td>\n",
       "      <td>NaN</td>\n",
       "    </tr>\n",
       "    <tr>\n",
       "      <th>YAL035W</th>\n",
       "      <td>-0.073469</td>\n",
       "      <td>-0.048445</td>\n",
       "      <td>-0.044732</td>\n",
       "      <td>NaN</td>\n",
       "    </tr>\n",
       "    <tr>\n",
       "      <th>YAL036C</th>\n",
       "      <td>-0.082845</td>\n",
       "      <td>-0.065893</td>\n",
       "      <td>-0.124891</td>\n",
       "      <td>-0.0283</td>\n",
       "    </tr>\n",
       "  </tbody>\n",
       "</table>\n",
       "</div>"
      ],
      "text/plain": [
       "             data      data      data    data\n",
       "YAL002W -0.014847 -0.021817       NaN     NaN\n",
       "YAL005C -0.097399 -0.085828 -0.046165     NaN\n",
       "YAL021C -0.021303 -0.013752 -0.052153     NaN\n",
       "YAL035W -0.073469 -0.048445 -0.044732     NaN\n",
       "YAL036C -0.082845 -0.065893 -0.124891 -0.0283"
      ]
     },
     "execution_count": 98,
     "metadata": {},
     "output_type": "execute_result"
    }
   ],
   "source": [
    "original_data.head()"
   ]
  },
  {
   "cell_type": "code",
   "execution_count": 99,
   "metadata": {},
   "outputs": [],
   "source": [
    "original_data.index.name = 'orf'"
   ]
  },
  {
   "cell_type": "code",
   "execution_count": 100,
   "metadata": {},
   "outputs": [
    {
     "data": {
      "text/plain": [
       "(1622, 4)"
      ]
     },
     "execution_count": 100,
     "metadata": {},
     "output_type": "execute_result"
    }
   ],
   "source": [
    "original_data.shape"
   ]
  },
  {
   "cell_type": "markdown",
   "metadata": {},
   "source": [
    "# Prepare the final dataset"
   ]
  },
  {
   "cell_type": "code",
   "execution_count": 101,
   "metadata": {},
   "outputs": [],
   "source": [
    "data = original_data.copy()"
   ]
  },
  {
   "cell_type": "code",
   "execution_count": 102,
   "metadata": {},
   "outputs": [],
   "source": [
    "dataset_ids = [11813,11815,11816,11814]\n",
    "datasets = datasets.reindex(index=dataset_ids)"
   ]
  },
  {
   "cell_type": "code",
   "execution_count": 103,
   "metadata": {},
   "outputs": [],
   "source": [
    "lst = [datasets.index.values, ['value']*datasets.shape[0]]\n",
    "tuples = list(zip(*lst))\n",
    "idx = pd.MultiIndex.from_tuples(tuples, names=['dataset_id','data_type'])\n",
    "data.columns = idx"
   ]
  },
  {
   "cell_type": "code",
   "execution_count": 104,
   "metadata": {},
   "outputs": [
    {
     "data": {
      "text/html": [
       "<div>\n",
       "<style scoped>\n",
       "    .dataframe tbody tr th:only-of-type {\n",
       "        vertical-align: middle;\n",
       "    }\n",
       "\n",
       "    .dataframe tbody tr th {\n",
       "        vertical-align: top;\n",
       "    }\n",
       "\n",
       "    .dataframe thead tr th {\n",
       "        text-align: left;\n",
       "    }\n",
       "\n",
       "    .dataframe thead tr:last-of-type th {\n",
       "        text-align: right;\n",
       "    }\n",
       "</style>\n",
       "<table border=\"1\" class=\"dataframe\">\n",
       "  <thead>\n",
       "    <tr>\n",
       "      <th>dataset_id</th>\n",
       "      <th>11813</th>\n",
       "      <th>11815</th>\n",
       "      <th>11816</th>\n",
       "      <th>11814</th>\n",
       "    </tr>\n",
       "    <tr>\n",
       "      <th>data_type</th>\n",
       "      <th>value</th>\n",
       "      <th>value</th>\n",
       "      <th>value</th>\n",
       "      <th>value</th>\n",
       "    </tr>\n",
       "    <tr>\n",
       "      <th>orf</th>\n",
       "      <th></th>\n",
       "      <th></th>\n",
       "      <th></th>\n",
       "      <th></th>\n",
       "    </tr>\n",
       "  </thead>\n",
       "  <tbody>\n",
       "    <tr>\n",
       "      <th>YAL002W</th>\n",
       "      <td>-0.014847</td>\n",
       "      <td>-0.021817</td>\n",
       "      <td>NaN</td>\n",
       "      <td>NaN</td>\n",
       "    </tr>\n",
       "    <tr>\n",
       "      <th>YAL005C</th>\n",
       "      <td>-0.097399</td>\n",
       "      <td>-0.085828</td>\n",
       "      <td>-0.046165</td>\n",
       "      <td>NaN</td>\n",
       "    </tr>\n",
       "    <tr>\n",
       "      <th>YAL021C</th>\n",
       "      <td>-0.021303</td>\n",
       "      <td>-0.013752</td>\n",
       "      <td>-0.052153</td>\n",
       "      <td>NaN</td>\n",
       "    </tr>\n",
       "    <tr>\n",
       "      <th>YAL035W</th>\n",
       "      <td>-0.073469</td>\n",
       "      <td>-0.048445</td>\n",
       "      <td>-0.044732</td>\n",
       "      <td>NaN</td>\n",
       "    </tr>\n",
       "    <tr>\n",
       "      <th>YAL036C</th>\n",
       "      <td>-0.082845</td>\n",
       "      <td>-0.065893</td>\n",
       "      <td>-0.124891</td>\n",
       "      <td>-0.0283</td>\n",
       "    </tr>\n",
       "  </tbody>\n",
       "</table>\n",
       "</div>"
      ],
      "text/plain": [
       "dataset_id     11813     11815     11816   11814\n",
       "data_type      value     value     value   value\n",
       "orf                                             \n",
       "YAL002W    -0.014847 -0.021817       NaN     NaN\n",
       "YAL005C    -0.097399 -0.085828 -0.046165     NaN\n",
       "YAL021C    -0.021303 -0.013752 -0.052153     NaN\n",
       "YAL035W    -0.073469 -0.048445 -0.044732     NaN\n",
       "YAL036C    -0.082845 -0.065893 -0.124891 -0.0283"
      ]
     },
     "execution_count": 104,
     "metadata": {},
     "output_type": "execute_result"
    }
   ],
   "source": [
    "data.head()"
   ]
  },
  {
   "cell_type": "markdown",
   "metadata": {},
   "source": [
    "## Subset to the genes currently in SGD"
   ]
  },
  {
   "cell_type": "code",
   "execution_count": 105,
   "metadata": {},
   "outputs": [
    {
     "name": "stdout",
     "output_type": "stream",
     "text": [
      "ORFs missing from SGD: 5\n"
     ]
    }
   ],
   "source": [
    "genes = pd.read_csv(path_to_genes, sep='\\t', index_col='id')\n",
    "genes = genes.reset_index().set_index('systematic_name')\n",
    "gene_ids = genes.reindex(index=data.index.values)['id'].values\n",
    "num_missing = np.sum(np.isnan(gene_ids))\n",
    "print('ORFs missing from SGD: %d' % num_missing)"
   ]
  },
  {
   "cell_type": "code",
   "execution_count": 106,
   "metadata": {},
   "outputs": [
    {
     "data": {
      "text/html": [
       "<div>\n",
       "<style scoped>\n",
       "    .dataframe tbody tr th:only-of-type {\n",
       "        vertical-align: middle;\n",
       "    }\n",
       "\n",
       "    .dataframe tbody tr th {\n",
       "        vertical-align: top;\n",
       "    }\n",
       "\n",
       "    .dataframe thead tr th {\n",
       "        text-align: left;\n",
       "    }\n",
       "\n",
       "    .dataframe thead tr:last-of-type th {\n",
       "        text-align: right;\n",
       "    }\n",
       "</style>\n",
       "<table border=\"1\" class=\"dataframe\">\n",
       "  <thead>\n",
       "    <tr>\n",
       "      <th></th>\n",
       "      <th>dataset_id</th>\n",
       "      <th>11813</th>\n",
       "      <th>11815</th>\n",
       "      <th>11816</th>\n",
       "      <th>11814</th>\n",
       "    </tr>\n",
       "    <tr>\n",
       "      <th></th>\n",
       "      <th>data_type</th>\n",
       "      <th>value</th>\n",
       "      <th>value</th>\n",
       "      <th>value</th>\n",
       "      <th>value</th>\n",
       "    </tr>\n",
       "    <tr>\n",
       "      <th>gene_id</th>\n",
       "      <th>orf</th>\n",
       "      <th></th>\n",
       "      <th></th>\n",
       "      <th></th>\n",
       "      <th></th>\n",
       "    </tr>\n",
       "  </thead>\n",
       "  <tbody>\n",
       "    <tr>\n",
       "      <th>2</th>\n",
       "      <th>YAL002W</th>\n",
       "      <td>-0.014847</td>\n",
       "      <td>-0.021817</td>\n",
       "      <td>NaN</td>\n",
       "      <td>NaN</td>\n",
       "    </tr>\n",
       "    <tr>\n",
       "      <th>4</th>\n",
       "      <th>YAL005C</th>\n",
       "      <td>-0.097399</td>\n",
       "      <td>-0.085828</td>\n",
       "      <td>-0.046165</td>\n",
       "      <td>NaN</td>\n",
       "    </tr>\n",
       "    <tr>\n",
       "      <th>19</th>\n",
       "      <th>YAL021C</th>\n",
       "      <td>-0.021303</td>\n",
       "      <td>-0.013752</td>\n",
       "      <td>-0.052153</td>\n",
       "      <td>NaN</td>\n",
       "    </tr>\n",
       "    <tr>\n",
       "      <th>33</th>\n",
       "      <th>YAL035W</th>\n",
       "      <td>-0.073469</td>\n",
       "      <td>-0.048445</td>\n",
       "      <td>-0.044732</td>\n",
       "      <td>NaN</td>\n",
       "    </tr>\n",
       "    <tr>\n",
       "      <th>34</th>\n",
       "      <th>YAL036C</th>\n",
       "      <td>-0.082845</td>\n",
       "      <td>-0.065893</td>\n",
       "      <td>-0.124891</td>\n",
       "      <td>-0.0283</td>\n",
       "    </tr>\n",
       "  </tbody>\n",
       "</table>\n",
       "</div>"
      ],
      "text/plain": [
       "dataset_id          11813     11815     11816   11814\n",
       "data_type           value     value     value   value\n",
       "gene_id orf                                          \n",
       "2       YAL002W -0.014847 -0.021817       NaN     NaN\n",
       "4       YAL005C -0.097399 -0.085828 -0.046165     NaN\n",
       "19      YAL021C -0.021303 -0.013752 -0.052153     NaN\n",
       "33      YAL035W -0.073469 -0.048445 -0.044732     NaN\n",
       "34      YAL036C -0.082845 -0.065893 -0.124891 -0.0283"
      ]
     },
     "execution_count": 106,
     "metadata": {},
     "output_type": "execute_result"
    }
   ],
   "source": [
    "data['gene_id'] = gene_ids\n",
    "data = data.loc[data['gene_id'].notnull()]\n",
    "data['gene_id'] = data['gene_id'].astype(int)\n",
    "data = data.reset_index().set_index(['gene_id','orf'])\n",
    "\n",
    "data.head()"
   ]
  },
  {
   "cell_type": "markdown",
   "metadata": {},
   "source": [
    "# Normalize"
   ]
  },
  {
   "cell_type": "code",
   "execution_count": 107,
   "metadata": {},
   "outputs": [],
   "source": [
    "data_norm = normalize_phenotypic_scores(data, has_tested=False)"
   ]
  },
  {
   "cell_type": "code",
   "execution_count": 108,
   "metadata": {},
   "outputs": [],
   "source": [
    "# Assign proper column names\n",
    "lst = [datasets.index.values, ['valuez']*datasets.shape[0]]\n",
    "tuples = list(zip(*lst))\n",
    "idx = pd.MultiIndex.from_tuples(tuples, names=['dataset_id','data_type'])\n",
    "data_norm.columns = idx"
   ]
  },
  {
   "cell_type": "code",
   "execution_count": 109,
   "metadata": {},
   "outputs": [
    {
     "data": {
      "text/html": [
       "<div>\n",
       "<style scoped>\n",
       "    .dataframe tbody tr th:only-of-type {\n",
       "        vertical-align: middle;\n",
       "    }\n",
       "\n",
       "    .dataframe tbody tr th {\n",
       "        vertical-align: top;\n",
       "    }\n",
       "\n",
       "    .dataframe thead tr th {\n",
       "        text-align: left;\n",
       "    }\n",
       "\n",
       "    .dataframe thead tr:last-of-type th {\n",
       "        text-align: right;\n",
       "    }\n",
       "</style>\n",
       "<table border=\"1\" class=\"dataframe\">\n",
       "  <thead>\n",
       "    <tr>\n",
       "      <th></th>\n",
       "      <th>dataset_id</th>\n",
       "      <th>11813</th>\n",
       "      <th>11815</th>\n",
       "      <th>11816</th>\n",
       "      <th>11814</th>\n",
       "      <th>11813</th>\n",
       "      <th>11815</th>\n",
       "      <th>11816</th>\n",
       "      <th>11814</th>\n",
       "    </tr>\n",
       "    <tr>\n",
       "      <th></th>\n",
       "      <th>data_type</th>\n",
       "      <th>value</th>\n",
       "      <th>value</th>\n",
       "      <th>value</th>\n",
       "      <th>value</th>\n",
       "      <th>valuez</th>\n",
       "      <th>valuez</th>\n",
       "      <th>valuez</th>\n",
       "      <th>valuez</th>\n",
       "    </tr>\n",
       "    <tr>\n",
       "      <th>gene_id</th>\n",
       "      <th>orf</th>\n",
       "      <th></th>\n",
       "      <th></th>\n",
       "      <th></th>\n",
       "      <th></th>\n",
       "      <th></th>\n",
       "      <th></th>\n",
       "      <th></th>\n",
       "      <th></th>\n",
       "    </tr>\n",
       "  </thead>\n",
       "  <tbody>\n",
       "    <tr>\n",
       "      <th>2</th>\n",
       "      <th>YAL002W</th>\n",
       "      <td>-0.014847</td>\n",
       "      <td>-0.021817</td>\n",
       "      <td>NaN</td>\n",
       "      <td>NaN</td>\n",
       "      <td>-0.984363</td>\n",
       "      <td>-1.353954</td>\n",
       "      <td>NaN</td>\n",
       "      <td>NaN</td>\n",
       "    </tr>\n",
       "    <tr>\n",
       "      <th>4</th>\n",
       "      <th>YAL005C</th>\n",
       "      <td>-0.097399</td>\n",
       "      <td>-0.085828</td>\n",
       "      <td>-0.046165</td>\n",
       "      <td>NaN</td>\n",
       "      <td>-6.457598</td>\n",
       "      <td>-5.326449</td>\n",
       "      <td>-2.251078</td>\n",
       "      <td>NaN</td>\n",
       "    </tr>\n",
       "    <tr>\n",
       "      <th>19</th>\n",
       "      <th>YAL021C</th>\n",
       "      <td>-0.021303</td>\n",
       "      <td>-0.013752</td>\n",
       "      <td>-0.052153</td>\n",
       "      <td>NaN</td>\n",
       "      <td>-1.412399</td>\n",
       "      <td>-0.853443</td>\n",
       "      <td>-2.543062</td>\n",
       "      <td>NaN</td>\n",
       "    </tr>\n",
       "    <tr>\n",
       "      <th>33</th>\n",
       "      <th>YAL035W</th>\n",
       "      <td>-0.073469</td>\n",
       "      <td>-0.048445</td>\n",
       "      <td>-0.044732</td>\n",
       "      <td>NaN</td>\n",
       "      <td>-4.871028</td>\n",
       "      <td>-3.006476</td>\n",
       "      <td>-2.181203</td>\n",
       "      <td>NaN</td>\n",
       "    </tr>\n",
       "    <tr>\n",
       "      <th>34</th>\n",
       "      <th>YAL036C</th>\n",
       "      <td>-0.082845</td>\n",
       "      <td>-0.065893</td>\n",
       "      <td>-0.124891</td>\n",
       "      <td>-0.0283</td>\n",
       "      <td>-5.492662</td>\n",
       "      <td>-4.089292</td>\n",
       "      <td>-6.089882</td>\n",
       "      <td>-4.422099</td>\n",
       "    </tr>\n",
       "  </tbody>\n",
       "</table>\n",
       "</div>"
      ],
      "text/plain": [
       "dataset_id          11813     11815     11816   11814     11813     11815  \\\n",
       "data_type           value     value     value   value    valuez    valuez   \n",
       "gene_id orf                                                                 \n",
       "2       YAL002W -0.014847 -0.021817       NaN     NaN -0.984363 -1.353954   \n",
       "4       YAL005C -0.097399 -0.085828 -0.046165     NaN -6.457598 -5.326449   \n",
       "19      YAL021C -0.021303 -0.013752 -0.052153     NaN -1.412399 -0.853443   \n",
       "33      YAL035W -0.073469 -0.048445 -0.044732     NaN -4.871028 -3.006476   \n",
       "34      YAL036C -0.082845 -0.065893 -0.124891 -0.0283 -5.492662 -4.089292   \n",
       "\n",
       "dataset_id          11816     11814  \n",
       "data_type          valuez    valuez  \n",
       "gene_id orf                          \n",
       "2       YAL002W       NaN       NaN  \n",
       "4       YAL005C -2.251078       NaN  \n",
       "19      YAL021C -2.543062       NaN  \n",
       "33      YAL035W -2.181203       NaN  \n",
       "34      YAL036C -6.089882 -4.422099  "
      ]
     },
     "execution_count": 109,
     "metadata": {},
     "output_type": "execute_result"
    }
   ],
   "source": [
    "data_norm[data.isnull()] = np.nan\n",
    "data_all = data.join(data_norm)\n",
    "\n",
    "data_all.head()"
   ]
  },
  {
   "cell_type": "markdown",
   "metadata": {},
   "source": [
    "# Print out"
   ]
  },
  {
   "cell_type": "code",
   "execution_count": 110,
   "metadata": {},
   "outputs": [],
   "source": [
    "for f in ['value','valuez']:\n",
    "    df = data_all.xs(f, level='data_type', axis=1).copy()\n",
    "    df.columns = datasets['name'].values\n",
    "    df = df.droplevel('gene_id', axis=0)\n",
    "    df.to_csv(paper_name + '_' + f + '.txt', sep='\\t')"
   ]
  },
  {
   "cell_type": "markdown",
   "metadata": {},
   "source": [
    "# Save to DB"
   ]
  },
  {
   "cell_type": "code",
   "execution_count": 111,
   "metadata": {},
   "outputs": [],
   "source": [
    "from IO.save_data_to_db3 import *"
   ]
  },
  {
   "cell_type": "code",
   "execution_count": 112,
   "metadata": {},
   "outputs": [
    {
     "name": "stderr",
     "output_type": "stream",
     "text": [
      "  0%|          | 0/4 [00:00<?, ?it/s]"
     ]
    },
    {
     "name": "stdout",
     "output_type": "stream",
     "text": [
      "Deleting all datasets for PMID 18157128...\n",
      "Inserting the new data...\n"
     ]
    },
    {
     "name": "stderr",
     "output_type": "stream",
     "text": [
      "100%|██████████| 4/4 [00:09<00:00,  2.42s/it]"
     ]
    },
    {
     "name": "stdout",
     "output_type": "stream",
     "text": [
      "Updating the data_modified_on field...\n"
     ]
    },
    {
     "name": "stderr",
     "output_type": "stream",
     "text": [
      "\n"
     ]
    }
   ],
   "source": [
    "save_data_to_db(data_all, paper_pmid)"
   ]
  },
  {
   "cell_type": "code",
   "execution_count": null,
   "metadata": {},
   "outputs": [],
   "source": []
  }
 ],
 "metadata": {
  "kernelspec": {
   "display_name": "yp-data",
   "language": "python",
   "name": "yp-data"
  },
  "language_info": {
   "codemirror_mode": {
    "name": "ipython",
    "version": 3
   },
   "file_extension": ".py",
   "mimetype": "text/x-python",
   "name": "python",
   "nbconvert_exporter": "python",
   "pygments_lexer": "ipython3",
   "version": "3.7.7"
  }
 },
 "nbformat": 4,
 "nbformat_minor": 4
}
