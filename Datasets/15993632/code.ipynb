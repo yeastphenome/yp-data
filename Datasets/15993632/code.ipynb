{
 "cells": [
  {
   "cell_type": "code",
   "execution_count": 1,
   "metadata": {},
   "outputs": [],
   "source": [
    "%run ../../Utils/yp_utils.py"
   ]
  },
  {
   "cell_type": "markdown",
   "metadata": {},
   "source": [
    "# Initial setup"
   ]
  },
  {
   "cell_type": "code",
   "execution_count": 2,
   "metadata": {},
   "outputs": [],
   "source": [
    "paper_pmid = 15993632\n",
    "paper_name = 'corbacho_hernandez_2005' "
   ]
  },
  {
   "cell_type": "code",
   "execution_count": 3,
   "metadata": {},
   "outputs": [],
   "source": [
    "datasets = pd.read_csv('extras/YeastPhenome_' + str(paper_pmid) + '_datasets_list.txt', sep='\\t', header=None, names=['dataset_id', 'name'])"
   ]
  },
  {
   "cell_type": "code",
   "execution_count": 4,
   "metadata": {},
   "outputs": [],
   "source": [
    "datasets.set_index('dataset_id', inplace=True)"
   ]
  },
  {
   "cell_type": "markdown",
   "metadata": {},
   "source": [
    "# Load & process the data"
   ]
  },
  {
   "cell_type": "code",
   "execution_count": 11,
   "metadata": {},
   "outputs": [],
   "source": [
    "original_data = pd.read_csv('raw_data/Corbacho_tables.txt', sep='\\t', encoding = \"ISO-8859-1\", skiprows=2)"
   ]
  },
  {
   "cell_type": "code",
   "execution_count": 12,
   "metadata": {},
   "outputs": [
    {
     "name": "stdout",
     "output_type": "stream",
     "text": [
      "Original data dimensions: 268 x 7\n"
     ]
    }
   ],
   "source": [
    "print('Original data dimensions: %d x %d' % (original_data.shape))"
   ]
  },
  {
   "cell_type": "code",
   "execution_count": 13,
   "metadata": {},
   "outputs": [
    {
     "data": {
      "text/html": [
       "<div>\n",
       "<style scoped>\n",
       "    .dataframe tbody tr th:only-of-type {\n",
       "        vertical-align: middle;\n",
       "    }\n",
       "\n",
       "    .dataframe tbody tr th {\n",
       "        vertical-align: top;\n",
       "    }\n",
       "\n",
       "    .dataframe thead th {\n",
       "        text-align: right;\n",
       "    }\n",
       "</style>\n",
       "<table border=\"1\" class=\"dataframe\">\n",
       "  <thead>\n",
       "    <tr style=\"text-align: right;\">\n",
       "      <th></th>\n",
       "      <th>ORF</th>\n",
       "      <th>Gene name</th>\n",
       "      <th>Short description</th>\n",
       "      <th>Ldb group</th>\n",
       "      <th>Invertase size(a)</th>\n",
       "      <th></th>\n",
       "      <th>Unnamed: 6</th>\n",
       "    </tr>\n",
       "  </thead>\n",
       "  <tbody>\n",
       "    <tr>\n",
       "      <th>0</th>\n",
       "      <td>YBL082C</td>\n",
       "      <td>RHK1/ALG3</td>\n",
       "      <td>DolP-Man dependent alpha-1,3-mannosyl transfer...</td>\n",
       "      <td>3</td>\n",
       "      <td>R1</td>\n",
       "      <td></td>\n",
       "      <td>NaN</td>\n",
       "    </tr>\n",
       "    <tr>\n",
       "      <th>1</th>\n",
       "      <td>YBR015C</td>\n",
       "      <td>MNN2/LDB8</td>\n",
       "      <td>Golgi alpha-1,2-mannosyltransferase</td>\n",
       "      <td>1</td>\n",
       "      <td>R2</td>\n",
       "      <td></td>\n",
       "      <td>NaN</td>\n",
       "    </tr>\n",
       "    <tr>\n",
       "      <th>2</th>\n",
       "      <td>YDL232W</td>\n",
       "      <td>OST4</td>\n",
       "      <td>3.6 kDa subunit of ER DolPP-oligosaccharide/pr...</td>\n",
       "      <td>1</td>\n",
       "      <td>R1</td>\n",
       "      <td></td>\n",
       "      <td>NaN</td>\n",
       "    </tr>\n",
       "    <tr>\n",
       "      <th>3</th>\n",
       "      <td>YDR245W</td>\n",
       "      <td>MNN10</td>\n",
       "      <td>Subunit of Golgi mannan polymerase II (Man Pol...</td>\n",
       "      <td>1</td>\n",
       "      <td>R2</td>\n",
       "      <td></td>\n",
       "      <td>NaN</td>\n",
       "    </tr>\n",
       "    <tr>\n",
       "      <th>4</th>\n",
       "      <td>YEL036C</td>\n",
       "      <td>ANP1/MNN8</td>\n",
       "      <td>Subunit of Golgi Man Pol II</td>\n",
       "      <td>1</td>\n",
       "      <td>R1</td>\n",
       "      <td></td>\n",
       "      <td>NaN</td>\n",
       "    </tr>\n",
       "  </tbody>\n",
       "</table>\n",
       "</div>"
      ],
      "text/plain": [
       "       ORF   Gene name                                  Short description   \\\n",
       "0  YBL082C   RHK1/ALG3   DolP-Man dependent alpha-1,3-mannosyl transfer...   \n",
       "1  YBR015C   MNN2/LDB8                Golgi alpha-1,2-mannosyltransferase    \n",
       "2  YDL232W        OST4   3.6 kDa subunit of ER DolPP-oligosaccharide/pr...   \n",
       "3  YDR245W       MNN10   Subunit of Golgi mannan polymerase II (Man Pol...   \n",
       "4  YEL036C   ANP1/MNN8                        Subunit of Golgi Man Pol II    \n",
       "\n",
       "  Ldb group  Invertase size(a)     Unnamed: 6  \n",
       "0          3                R1            NaN  \n",
       "1          1                R2            NaN  \n",
       "2          1                R1            NaN  \n",
       "3          1                R2            NaN  \n",
       "4          1                R1            NaN  "
      ]
     },
     "execution_count": 13,
     "metadata": {},
     "output_type": "execute_result"
    }
   ],
   "source": [
    "original_data.head()"
   ]
  },
  {
   "cell_type": "code",
   "execution_count": 16,
   "metadata": {},
   "outputs": [],
   "source": [
    "original_data['orf'] = original_data['ORF '].astype(str)"
   ]
  },
  {
   "cell_type": "code",
   "execution_count": 17,
   "metadata": {},
   "outputs": [],
   "source": [
    "# Eliminate all white spaces & capitalize\n",
    "original_data['orf'] = clean_orf(original_data['orf'])"
   ]
  },
  {
   "cell_type": "code",
   "execution_count": 18,
   "metadata": {},
   "outputs": [],
   "source": [
    "# Translate to ORFs \n",
    "original_data['orf'] = translate_sc(original_data['orf'], to='orf')"
   ]
  },
  {
   "cell_type": "code",
   "execution_count": 19,
   "metadata": {},
   "outputs": [
    {
     "name": "stdout",
     "output_type": "stream",
     "text": [
      "                                                          ORF   Gene name   \\\n",
      "index_input                                                                  \n",
      "19                                            (a) See Fig. 3.          NaN   \n",
      "20                                                         NaN         NaN   \n",
      "21                                                    Table 2          NaN   \n",
      "22           Genes related to vacuolar acidifcation whose d...         NaN   \n",
      "23                                                        ORF   Gene name    \n",
      "40                                            (a) See Fig. 3.          NaN   \n",
      "41                                                         NaN         NaN   \n",
      "42                                                    Table 3                \n",
      "43           Genes related to vacuolar targeting whose dele...               \n",
      "44                                                        ORF   Gene name    \n",
      "66                                            (a) See Fig. 3.          NaN   \n",
      "67                                                         NaN         NaN   \n",
      "68                                                    Table 4          NaN   \n",
      "69           Genes related to secretion-transport of protei...         NaN   \n",
      "70                                                        ORF   Gene name    \n",
      "92                                            (a) See Fig. 3.          NaN   \n",
      "93                                                         NaN         NaN   \n",
      "94                                                    Table 5                \n",
      "95           Genes related to actin-cytoskeleton organizati...               \n",
      "96                                                        ORF   Gene name    \n",
      "119                                           (a) See Fig. 3.          NaN   \n",
      "120                                                        NaN         NaN   \n",
      "121                                                   Table 6          NaN   \n",
      "122          Genes related to transcription whose deletion ...         NaN   \n",
      "123                                                       ORF   Gene name    \n",
      "149                                           (a) See Fig. 3.          NaN   \n",
      "150                                                        NaN         NaN   \n",
      "151                                                   Table 7                \n",
      "152          Genes encoding protein kinases or related to s...               \n",
      "153                                                       ORF   Gene name    \n",
      "171                                           (a) See Fig. 3.          NaN   \n",
      "172                                                        NaN         NaN   \n",
      "173                                                   Table 8          NaN   \n",
      "174          Genes related to cell wall organization whose ...         NaN   \n",
      "175                                                       ORF   Gene name    \n",
      "182                                           (a) See Fig. 3.          NaN   \n",
      "183                                                        NaN         NaN   \n",
      "184                                                   Table 9          NaN   \n",
      "185            Genes related to protein synthesis/degradation          NaN   \n",
      "186                                                       ORF   Gene name    \n",
      "199                                           (a) See Fig. 3.          NaN   \n",
      "200                                                        NaN         NaN   \n",
      "201                                                   Table 10               \n",
      "202          Genes related to nucleic acid synthesis/modifi...               \n",
      "203                                                        ORF   Gene name   \n",
      "216                                            (a) See Fig. 3.         NaN   \n",
      "217                                                        NaN         NaN   \n",
      "218                                                   Table 11         NaN   \n",
      "219          Genes of various functions (miscellaneous) who...         NaN   \n",
      "220                                                        ORF   Gene name   \n",
      "245                                            (a) See Fig. 3.         NaN   \n",
      "246                                                        NaN         NaN   \n",
      "247                                                  Table 12                \n",
      "248          Uncharacterized and dubious ORFs whose deletio...               \n",
      "249                                                       ORF   Gene name    \n",
      "267                                           (a) See Fig. 3.          NaN   \n",
      "\n",
      "             Short description   Ldb group   Invertase size(a)   \\\n",
      "index_input                                                       \n",
      "19                          NaN         NaN                       \n",
      "20                          NaN         NaN                 NaN   \n",
      "21                          NaN         NaN                       \n",
      "22                          NaN                             NaN   \n",
      "23           Short description   Ldb group     Invertase sizea    \n",
      "40                                      NaN                 NaN   \n",
      "41                          NaN         NaN                 NaN   \n",
      "42                          NaN         NaN                 NaN   \n",
      "43                          NaN         NaN                 NaN   \n",
      "44           Short description   Ldb group   Invertase size(a)    \n",
      "66                          NaN         NaN                       \n",
      "67                          NaN         NaN                 NaN   \n",
      "68                          NaN         NaN                       \n",
      "69                          NaN                             NaN   \n",
      "70           Short description   Ldb group   Invertase size(a)    \n",
      "92                                      NaN                 NaN   \n",
      "93                          NaN         NaN                 NaN   \n",
      "94                          NaN         NaN                 NaN   \n",
      "95                          NaN         NaN                 NaN   \n",
      "96           Short description   Ldb group   Invertase size(a)    \n",
      "119                         NaN         NaN                       \n",
      "120                         NaN         NaN                 NaN   \n",
      "121                         NaN         NaN                       \n",
      "122                         NaN                             NaN   \n",
      "123          Short description   Ldb group   Invertase size(a)    \n",
      "149                                     NaN                 NaN   \n",
      "150                         NaN         NaN                 NaN   \n",
      "151                         NaN         NaN                 NaN   \n",
      "152                         NaN         NaN                 NaN   \n",
      "153          Short description   Ldb group    Invertase size(a)   \n",
      "171                         NaN         NaN                 NaN   \n",
      "172                         NaN         NaN                 NaN   \n",
      "173                         NaN         NaN                 NaN   \n",
      "174                         NaN                             NaN   \n",
      "175          Short description   Ldb group    Invertase size(a)   \n",
      "182                         NaN         NaN                 NaN   \n",
      "183                         NaN         NaN                 NaN   \n",
      "184                         NaN         NaN                 NaN   \n",
      "185                         NaN                             NaN   \n",
      "186          Short description   Ldb group    Invertase size(a)   \n",
      "199                                     NaN                 NaN   \n",
      "200                         NaN         NaN                 NaN   \n",
      "201                         NaN         NaN                 NaN   \n",
      "202                         NaN         NaN                 NaN   \n",
      "203           Short description   Ldb group   Invertase size(a)   \n",
      "216                         NaN         NaN                 NaN   \n",
      "217                         NaN         NaN                 NaN   \n",
      "218                         NaN         NaN                 NaN   \n",
      "219                         NaN                             NaN   \n",
      "220           Short description   Ldb group   Invertase size(a)   \n",
      "245                                     NaN                 NaN   \n",
      "246                         NaN         NaN                 NaN   \n",
      "247                         NaN         NaN                 NaN   \n",
      "248                         NaN         NaN                 NaN   \n",
      "249          Short description   Ldb group   Invertase size(a)    \n",
      "267                                     NaN                 NaN   \n",
      "\n",
      "                                Unnamed: 6  \\\n",
      "index_input                                  \n",
      "19                      NaN            NaN   \n",
      "20                      NaN            NaN   \n",
      "21                      NaN            NaN   \n",
      "22                      NaN            NaN   \n",
      "23                                     NaN   \n",
      "40                      NaN            NaN   \n",
      "41                      NaN            NaN   \n",
      "42                      NaN            NaN   \n",
      "43                      NaN            NaN   \n",
      "44                                     NaN   \n",
      "66                      NaN            NaN   \n",
      "67                      NaN            NaN   \n",
      "68                      NaN            NaN   \n",
      "69                      NaN            NaN   \n",
      "70                                     NaN   \n",
      "92                      NaN            NaN   \n",
      "93                      NaN            NaN   \n",
      "94                      NaN            NaN   \n",
      "95                      NaN            NaN   \n",
      "96                                     NaN   \n",
      "119                     NaN            NaN   \n",
      "120                     NaN            NaN   \n",
      "121                     NaN            NaN   \n",
      "122                     NaN            NaN   \n",
      "123                                    NaN   \n",
      "149                     NaN            NaN   \n",
      "150                     NaN            NaN   \n",
      "151                     NaN            NaN   \n",
      "152                     NaN            NaN   \n",
      "153                                    NaN   \n",
      "171                                    NaN   \n",
      "172                     NaN            NaN   \n",
      "173                                    NaN   \n",
      "174                     NaN            NaN   \n",
      "175                                    NaN   \n",
      "182                                    NaN   \n",
      "183                     NaN            NaN   \n",
      "184                                    NaN   \n",
      "185                     NaN            NaN   \n",
      "186                                    NaN   \n",
      "199                     NaN            NaN   \n",
      "200                     NaN            NaN   \n",
      "201                     NaN            NaN   \n",
      "202                     NaN            NaN   \n",
      "203                                    NaN   \n",
      "216                                    NaN   \n",
      "217                     NaN            NaN   \n",
      "218                                    NaN   \n",
      "219                     NaN            NaN   \n",
      "220                                    NaN   \n",
      "245                     NaN            NaN   \n",
      "246                     NaN            NaN   \n",
      "247                     NaN            NaN   \n",
      "248                     NaN            NaN   \n",
      "249          Proposed name   overlap with    \n",
      "267                     NaN            NaN   \n",
      "\n",
      "                                                           orf  \n",
      "index_input                                                     \n",
      "19                                                    ASEEFIG3  \n",
      "20                                                         NAN  \n",
      "21                                                      TABLE2  \n",
      "22           GENESRELATEDTOVACUOLARACIDIFCATIONWHOSEDELETIO...  \n",
      "23                                                         ORF  \n",
      "40                                                    ASEEFIG3  \n",
      "41                                                         NAN  \n",
      "42                                                      TABLE3  \n",
      "43           GENESRELATEDTOVACUOLARTARGETINGWHOSEDELETIONRE...  \n",
      "44                                                         ORF  \n",
      "66                                                    ASEEFIG3  \n",
      "67                                                         NAN  \n",
      "68                                                      TABLE4  \n",
      "69           GENESRELATEDTOSECRETION-TRANSPORTOFPROTEINSWHO...  \n",
      "70                                                         ORF  \n",
      "92                                                    ASEEFIG3  \n",
      "93                                                         NAN  \n",
      "94                                                      TABLE5  \n",
      "95           GENESRELATEDTOACTIN-CYTOSKELETONORGANIZATIONWH...  \n",
      "96                                                         ORF  \n",
      "119                                                   ASEEFIG3  \n",
      "120                                                        NAN  \n",
      "121                                                     TABLE6  \n",
      "122          GENESRELATEDTOTRANSCRIPTIONWHOSEDELETIONRESULT...  \n",
      "123                                                        ORF  \n",
      "149                                                   ASEEFIG3  \n",
      "150                                                        NAN  \n",
      "151                                                     TABLE7  \n",
      "152          GENESENCODINGPROTEINKINASESORRELATEDTOSIGNALTR...  \n",
      "153                                                        ORF  \n",
      "171                                                   ASEEFIG3  \n",
      "172                                                        NAN  \n",
      "173                                                     TABLE8  \n",
      "174          GENESRELATEDTOCELLWALLORGANIZATIONWHOSEDELETIO...  \n",
      "175                                                        ORF  \n",
      "182                                                   ASEEFIG3  \n",
      "183                                                        NAN  \n",
      "184                                                     TABLE9  \n",
      "185                  GENESRELATEDTOPROTEINSYNTHESISDEGRADATION  \n",
      "186                                                        ORF  \n",
      "199                                                   ASEEFIG3  \n",
      "200                                                        NAN  \n",
      "201                                                    TABLE10  \n",
      "202          GENESRELATEDTONUCLEICACIDSYNTHESISMODIFICATION...  \n",
      "203                                                        ORF  \n",
      "216                                                   ASEEFIG3  \n",
      "217                                                        NAN  \n",
      "218                                                    TABLE11  \n",
      "219          GENESOFVARIOUSFUNCTIONSMISCELLANEOUSWHOSEDELET...  \n",
      "220                                                        ORF  \n",
      "245                                                   ASEEFIG3  \n",
      "246                                                        NAN  \n",
      "247                                                    TABLE12  \n",
      "248          UNCHARACTERIZEDANDDUBIOUSORFSWHOSEDELETIONRESU...  \n",
      "249                                                        ORF  \n",
      "267                                                   ASEEFIG3  \n"
     ]
    }
   ],
   "source": [
    "# Make sure everything translated ok\n",
    "t = looks_like_orf(original_data['orf'])\n",
    "print(original_data.loc[~t,])"
   ]
  },
  {
   "cell_type": "code",
   "execution_count": 20,
   "metadata": {},
   "outputs": [],
   "source": [
    "original_data = original_data.loc[t,:]"
   ]
  },
  {
   "cell_type": "code",
   "execution_count": 23,
   "metadata": {},
   "outputs": [
    {
     "name": "stderr",
     "output_type": "stream",
     "text": [
      "/opt/anaconda3/envs/yp-data/lib/python3.7/site-packages/ipykernel_launcher.py:1: SettingWithCopyWarning: \n",
      "A value is trying to be set on a copy of a slice from a DataFrame.\n",
      "Try using .loc[row_indexer,col_indexer] = value instead\n",
      "\n",
      "See the caveats in the documentation: https://pandas.pydata.org/pandas-docs/stable/user_guide/indexing.html#returning-a-view-versus-a-copy\n",
      "  \"\"\"Entry point for launching an IPython kernel.\n"
     ]
    }
   ],
   "source": [
    "original_data['data'] = original_data['Ldb group ']"
   ]
  },
  {
   "cell_type": "code",
   "execution_count": 25,
   "metadata": {},
   "outputs": [
    {
     "name": "stderr",
     "output_type": "stream",
     "text": [
      "/opt/anaconda3/envs/yp-data/lib/python3.7/site-packages/pandas/core/indexing.py:671: SettingWithCopyWarning: \n",
      "A value is trying to be set on a copy of a slice from a DataFrame\n",
      "\n",
      "See the caveats in the documentation: https://pandas.pydata.org/pandas-docs/stable/user_guide/indexing.html#returning-a-view-versus-a-copy\n",
      "  self._setitem_with_indexer(indexer, value)\n",
      "/opt/anaconda3/envs/yp-data/lib/python3.7/site-packages/ipykernel_launcher.py:1: SettingWithCopyWarning: \n",
      "A value is trying to be set on a copy of a slice from a DataFrame\n",
      "\n",
      "See the caveats in the documentation: https://pandas.pydata.org/pandas-docs/stable/user_guide/indexing.html#returning-a-view-versus-a-copy\n",
      "  \"\"\"Entry point for launching an IPython kernel.\n"
     ]
    }
   ],
   "source": [
    "original_data.loc[original_data['data']=='1 (alpha)','data'] = '1'"
   ]
  },
  {
   "cell_type": "code",
   "execution_count": 26,
   "metadata": {},
   "outputs": [
    {
     "name": "stderr",
     "output_type": "stream",
     "text": [
      "/opt/anaconda3/envs/yp-data/lib/python3.7/site-packages/ipykernel_launcher.py:1: SettingWithCopyWarning: \n",
      "A value is trying to be set on a copy of a slice from a DataFrame.\n",
      "Try using .loc[row_indexer,col_indexer] = value instead\n",
      "\n",
      "See the caveats in the documentation: https://pandas.pydata.org/pandas-docs/stable/user_guide/indexing.html#returning-a-view-versus-a-copy\n",
      "  \"\"\"Entry point for launching an IPython kernel.\n"
     ]
    }
   ],
   "source": [
    "original_data['data'] = pd.to_numeric(original_data['data'], errors='coerce')"
   ]
  },
  {
   "cell_type": "code",
   "execution_count": 28,
   "metadata": {},
   "outputs": [],
   "source": [
    "original_data.set_index('orf', inplace=True)"
   ]
  },
  {
   "cell_type": "code",
   "execution_count": 29,
   "metadata": {},
   "outputs": [],
   "source": [
    "original_data = original_data[['data']].copy()"
   ]
  },
  {
   "cell_type": "code",
   "execution_count": 30,
   "metadata": {},
   "outputs": [],
   "source": [
    "original_data = original_data.groupby(original_data.index).mean()"
   ]
  },
  {
   "cell_type": "code",
   "execution_count": 32,
   "metadata": {},
   "outputs": [],
   "source": [
    "original_data['data'] = original_data['data']-4"
   ]
  },
  {
   "cell_type": "code",
   "execution_count": 33,
   "metadata": {},
   "outputs": [
    {
     "data": {
      "text/plain": [
       "(212, 1)"
      ]
     },
     "execution_count": 33,
     "metadata": {},
     "output_type": "execute_result"
    }
   ],
   "source": [
    "original_data.shape"
   ]
  },
  {
   "cell_type": "markdown",
   "metadata": {},
   "source": [
    "# Prepare the final dataset"
   ]
  },
  {
   "cell_type": "code",
   "execution_count": 34,
   "metadata": {},
   "outputs": [],
   "source": [
    "data = original_data.copy()"
   ]
  },
  {
   "cell_type": "code",
   "execution_count": 35,
   "metadata": {},
   "outputs": [],
   "source": [
    "dataset_ids = [582]\n",
    "datasets = datasets.reindex(index=dataset_ids)"
   ]
  },
  {
   "cell_type": "code",
   "execution_count": 36,
   "metadata": {},
   "outputs": [],
   "source": [
    "lst = [datasets.index.values, ['value']*datasets.shape[0]]\n",
    "tuples = list(zip(*lst))\n",
    "idx = pd.MultiIndex.from_tuples(tuples, names=['dataset_id','data_type'])\n",
    "data.columns = idx"
   ]
  },
  {
   "cell_type": "code",
   "execution_count": 37,
   "metadata": {},
   "outputs": [
    {
     "data": {
      "text/html": [
       "<div>\n",
       "<style scoped>\n",
       "    .dataframe tbody tr th:only-of-type {\n",
       "        vertical-align: middle;\n",
       "    }\n",
       "\n",
       "    .dataframe tbody tr th {\n",
       "        vertical-align: top;\n",
       "    }\n",
       "\n",
       "    .dataframe thead tr th {\n",
       "        text-align: left;\n",
       "    }\n",
       "\n",
       "    .dataframe thead tr:last-of-type th {\n",
       "        text-align: right;\n",
       "    }\n",
       "</style>\n",
       "<table border=\"1\" class=\"dataframe\">\n",
       "  <thead>\n",
       "    <tr>\n",
       "      <th>dataset_id</th>\n",
       "      <th>582</th>\n",
       "    </tr>\n",
       "    <tr>\n",
       "      <th>data_type</th>\n",
       "      <th>value</th>\n",
       "    </tr>\n",
       "    <tr>\n",
       "      <th>orf</th>\n",
       "      <th></th>\n",
       "    </tr>\n",
       "  </thead>\n",
       "  <tbody>\n",
       "    <tr>\n",
       "      <th>YAL016W</th>\n",
       "      <td>-2</td>\n",
       "    </tr>\n",
       "    <tr>\n",
       "      <th>YAL047C</th>\n",
       "      <td>-2</td>\n",
       "    </tr>\n",
       "    <tr>\n",
       "      <th>YAL056W</th>\n",
       "      <td>-1</td>\n",
       "    </tr>\n",
       "    <tr>\n",
       "      <th>YBL006C</th>\n",
       "      <td>-2</td>\n",
       "    </tr>\n",
       "    <tr>\n",
       "      <th>YBL007C</th>\n",
       "      <td>-2</td>\n",
       "    </tr>\n",
       "  </tbody>\n",
       "</table>\n",
       "</div>"
      ],
      "text/plain": [
       "dataset_id   582\n",
       "data_type  value\n",
       "orf             \n",
       "YAL016W       -2\n",
       "YAL047C       -2\n",
       "YAL056W       -1\n",
       "YBL006C       -2\n",
       "YBL007C       -2"
      ]
     },
     "execution_count": 37,
     "metadata": {},
     "output_type": "execute_result"
    }
   ],
   "source": [
    "data.head()"
   ]
  },
  {
   "cell_type": "markdown",
   "metadata": {},
   "source": [
    "## Subset to the genes currently in SGD"
   ]
  },
  {
   "cell_type": "code",
   "execution_count": 38,
   "metadata": {},
   "outputs": [
    {
     "name": "stdout",
     "output_type": "stream",
     "text": [
      "ORFs missing from SGD: 1\n"
     ]
    }
   ],
   "source": [
    "genes = pd.read_csv(path_to_genes, sep='\\t', index_col='id')\n",
    "genes = genes.reset_index().set_index('systematic_name')\n",
    "gene_ids = genes.reindex(index=data.index.values)['id'].values\n",
    "num_missing = np.sum(np.isnan(gene_ids))\n",
    "print('ORFs missing from SGD: %d' % num_missing)"
   ]
  },
  {
   "cell_type": "code",
   "execution_count": 39,
   "metadata": {},
   "outputs": [
    {
     "data": {
      "text/html": [
       "<div>\n",
       "<style scoped>\n",
       "    .dataframe tbody tr th:only-of-type {\n",
       "        vertical-align: middle;\n",
       "    }\n",
       "\n",
       "    .dataframe tbody tr th {\n",
       "        vertical-align: top;\n",
       "    }\n",
       "\n",
       "    .dataframe thead tr th {\n",
       "        text-align: left;\n",
       "    }\n",
       "\n",
       "    .dataframe thead tr:last-of-type th {\n",
       "        text-align: right;\n",
       "    }\n",
       "</style>\n",
       "<table border=\"1\" class=\"dataframe\">\n",
       "  <thead>\n",
       "    <tr>\n",
       "      <th></th>\n",
       "      <th>dataset_id</th>\n",
       "      <th>582</th>\n",
       "    </tr>\n",
       "    <tr>\n",
       "      <th></th>\n",
       "      <th>data_type</th>\n",
       "      <th>value</th>\n",
       "    </tr>\n",
       "    <tr>\n",
       "      <th>gene_id</th>\n",
       "      <th>orf</th>\n",
       "      <th></th>\n",
       "    </tr>\n",
       "  </thead>\n",
       "  <tbody>\n",
       "    <tr>\n",
       "      <th>14</th>\n",
       "      <th>YAL016W</th>\n",
       "      <td>-2</td>\n",
       "    </tr>\n",
       "    <tr>\n",
       "      <th>45</th>\n",
       "      <th>YAL047C</th>\n",
       "      <td>-2</td>\n",
       "    </tr>\n",
       "    <tr>\n",
       "      <th>52</th>\n",
       "      <th>YAL056W</th>\n",
       "      <td>-1</td>\n",
       "    </tr>\n",
       "    <tr>\n",
       "      <th>94</th>\n",
       "      <th>YBL006C</th>\n",
       "      <td>-2</td>\n",
       "    </tr>\n",
       "    <tr>\n",
       "      <th>95</th>\n",
       "      <th>YBL007C</th>\n",
       "      <td>-2</td>\n",
       "    </tr>\n",
       "  </tbody>\n",
       "</table>\n",
       "</div>"
      ],
      "text/plain": [
       "dataset_id        582\n",
       "data_type       value\n",
       "gene_id orf          \n",
       "14      YAL016W    -2\n",
       "45      YAL047C    -2\n",
       "52      YAL056W    -1\n",
       "94      YBL006C    -2\n",
       "95      YBL007C    -2"
      ]
     },
     "execution_count": 39,
     "metadata": {},
     "output_type": "execute_result"
    }
   ],
   "source": [
    "data['gene_id'] = gene_ids\n",
    "data = data.loc[data['gene_id'].notnull()]\n",
    "data['gene_id'] = data['gene_id'].astype(int)\n",
    "data = data.reset_index().set_index(['gene_id','orf'])\n",
    "\n",
    "data.head()"
   ]
  },
  {
   "cell_type": "markdown",
   "metadata": {},
   "source": [
    "# Normalize"
   ]
  },
  {
   "cell_type": "code",
   "execution_count": 40,
   "metadata": {},
   "outputs": [],
   "source": [
    "data_norm = normalize_phenotypic_scores(data, has_tested=False)"
   ]
  },
  {
   "cell_type": "code",
   "execution_count": 41,
   "metadata": {},
   "outputs": [],
   "source": [
    "# Assign proper column names\n",
    "lst = [datasets.index.values, ['valuez']*datasets.shape[0]]\n",
    "tuples = list(zip(*lst))\n",
    "idx = pd.MultiIndex.from_tuples(tuples, names=['dataset_id','data_type'])\n",
    "data_norm.columns = idx"
   ]
  },
  {
   "cell_type": "code",
   "execution_count": 42,
   "metadata": {},
   "outputs": [
    {
     "data": {
      "text/html": [
       "<div>\n",
       "<style scoped>\n",
       "    .dataframe tbody tr th:only-of-type {\n",
       "        vertical-align: middle;\n",
       "    }\n",
       "\n",
       "    .dataframe tbody tr th {\n",
       "        vertical-align: top;\n",
       "    }\n",
       "\n",
       "    .dataframe thead tr th {\n",
       "        text-align: left;\n",
       "    }\n",
       "\n",
       "    .dataframe thead tr:last-of-type th {\n",
       "        text-align: right;\n",
       "    }\n",
       "</style>\n",
       "<table border=\"1\" class=\"dataframe\">\n",
       "  <thead>\n",
       "    <tr>\n",
       "      <th></th>\n",
       "      <th>dataset_id</th>\n",
       "      <th colspan=\"2\" halign=\"left\">582</th>\n",
       "    </tr>\n",
       "    <tr>\n",
       "      <th></th>\n",
       "      <th>data_type</th>\n",
       "      <th>value</th>\n",
       "      <th>valuez</th>\n",
       "    </tr>\n",
       "    <tr>\n",
       "      <th>gene_id</th>\n",
       "      <th>orf</th>\n",
       "      <th></th>\n",
       "      <th></th>\n",
       "    </tr>\n",
       "  </thead>\n",
       "  <tbody>\n",
       "    <tr>\n",
       "      <th>14</th>\n",
       "      <th>YAL016W</th>\n",
       "      <td>-2</td>\n",
       "      <td>-5.310135</td>\n",
       "    </tr>\n",
       "    <tr>\n",
       "      <th>45</th>\n",
       "      <th>YAL047C</th>\n",
       "      <td>-2</td>\n",
       "      <td>-5.310135</td>\n",
       "    </tr>\n",
       "    <tr>\n",
       "      <th>52</th>\n",
       "      <th>YAL056W</th>\n",
       "      <td>-1</td>\n",
       "      <td>-2.655067</td>\n",
       "    </tr>\n",
       "    <tr>\n",
       "      <th>94</th>\n",
       "      <th>YBL006C</th>\n",
       "      <td>-2</td>\n",
       "      <td>-5.310135</td>\n",
       "    </tr>\n",
       "    <tr>\n",
       "      <th>95</th>\n",
       "      <th>YBL007C</th>\n",
       "      <td>-2</td>\n",
       "      <td>-5.310135</td>\n",
       "    </tr>\n",
       "  </tbody>\n",
       "</table>\n",
       "</div>"
      ],
      "text/plain": [
       "dataset_id        582          \n",
       "data_type       value    valuez\n",
       "gene_id orf                    \n",
       "14      YAL016W    -2 -5.310135\n",
       "45      YAL047C    -2 -5.310135\n",
       "52      YAL056W    -1 -2.655067\n",
       "94      YBL006C    -2 -5.310135\n",
       "95      YBL007C    -2 -5.310135"
      ]
     },
     "execution_count": 42,
     "metadata": {},
     "output_type": "execute_result"
    }
   ],
   "source": [
    "data_norm[data.isnull()] = np.nan\n",
    "data_all = data.join(data_norm)\n",
    "\n",
    "data_all.head()"
   ]
  },
  {
   "cell_type": "markdown",
   "metadata": {},
   "source": [
    "# Print out"
   ]
  },
  {
   "cell_type": "code",
   "execution_count": 43,
   "metadata": {},
   "outputs": [],
   "source": [
    "for f in ['value','valuez']:\n",
    "    df = data_all.xs(f, level='data_type', axis=1).copy()\n",
    "    df.columns = datasets['name'].values\n",
    "    df = df.droplevel('gene_id', axis=0)\n",
    "    df.to_csv(paper_name + '_' + f + '.txt', sep='\\t')"
   ]
  },
  {
   "cell_type": "markdown",
   "metadata": {},
   "source": [
    "# Save to DB"
   ]
  },
  {
   "cell_type": "code",
   "execution_count": 44,
   "metadata": {},
   "outputs": [],
   "source": [
    "from IO.save_data_to_db3 import *"
   ]
  },
  {
   "cell_type": "code",
   "execution_count": 45,
   "metadata": {},
   "outputs": [
    {
     "name": "stderr",
     "output_type": "stream",
     "text": [
      "  0%|          | 0/1 [00:00<?, ?it/s]"
     ]
    },
    {
     "name": "stdout",
     "output_type": "stream",
     "text": [
      "Deleting all datasets for PMID 15993632...\n",
      "Inserting the new data...\n"
     ]
    },
    {
     "name": "stderr",
     "output_type": "stream",
     "text": [
      "100%|██████████| 1/1 [00:00<00:00,  1.81it/s]"
     ]
    },
    {
     "name": "stdout",
     "output_type": "stream",
     "text": [
      "Updating the data_modified_on field...\n"
     ]
    },
    {
     "name": "stderr",
     "output_type": "stream",
     "text": [
      "\n"
     ]
    }
   ],
   "source": [
    "save_data_to_db(data_all, paper_pmid)"
   ]
  },
  {
   "cell_type": "code",
   "execution_count": null,
   "metadata": {},
   "outputs": [],
   "source": []
  }
 ],
 "metadata": {
  "kernelspec": {
   "display_name": "yp-data",
   "language": "python",
   "name": "yp-data"
  },
  "language_info": {
   "codemirror_mode": {
    "name": "ipython",
    "version": 3
   },
   "file_extension": ".py",
   "mimetype": "text/x-python",
   "name": "python",
   "nbconvert_exporter": "python",
   "pygments_lexer": "ipython3",
   "version": "3.7.7"
  }
 },
 "nbformat": 4,
 "nbformat_minor": 4
}
