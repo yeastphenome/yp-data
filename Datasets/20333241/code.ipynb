{
 "cells": [
  {
   "cell_type": "code",
   "execution_count": 1,
   "metadata": {},
   "outputs": [],
   "source": [
    "%run ../../Utils/yp_utils.py"
   ]
  },
  {
   "cell_type": "markdown",
   "metadata": {},
   "source": [
    "# Initial setup"
   ]
  },
  {
   "cell_type": "code",
   "execution_count": 2,
   "metadata": {},
   "outputs": [],
   "source": [
    "paper_pmid = 20333241\n",
    "paper_name = 'chavel_cullen_2010' "
   ]
  },
  {
   "cell_type": "code",
   "execution_count": 3,
   "metadata": {},
   "outputs": [],
   "source": [
    "datasets = pd.read_csv('extras/YeastPhenome_' + str(paper_pmid) + '_datasets_list.txt', sep='\\t', header=None, names=['dataset_id', 'name'])"
   ]
  },
  {
   "cell_type": "code",
   "execution_count": 4,
   "metadata": {},
   "outputs": [],
   "source": [
    "datasets.set_index('dataset_id', inplace=True)"
   ]
  },
  {
   "cell_type": "markdown",
   "metadata": {},
   "source": [
    "# Load & process the data"
   ]
  },
  {
   "cell_type": "code",
   "execution_count": 8,
   "metadata": {},
   "outputs": [],
   "source": [
    "original_data = pd.read_excel('raw_data/journal.pgen.1000883.s011.xlsx', sheet_name='Complete Screen', skiprows=2)"
   ]
  },
  {
   "cell_type": "code",
   "execution_count": 9,
   "metadata": {},
   "outputs": [
    {
     "name": "stdout",
     "output_type": "stream",
     "text": [
      "Original data dimensions: 5229 x 13\n"
     ]
    }
   ],
   "source": [
    "print('Original data dimensions: %d x %d' % (original_data.shape))"
   ]
  },
  {
   "cell_type": "code",
   "execution_count": 10,
   "metadata": {},
   "outputs": [
    {
     "data": {
      "text/html": [
       "<div>\n",
       "<style scoped>\n",
       "    .dataframe tbody tr th:only-of-type {\n",
       "        vertical-align: middle;\n",
       "    }\n",
       "\n",
       "    .dataframe tbody tr th {\n",
       "        vertical-align: top;\n",
       "    }\n",
       "\n",
       "    .dataframe thead th {\n",
       "        text-align: right;\n",
       "    }\n",
       "</style>\n",
       "<table border=\"1\" class=\"dataframe\">\n",
       "  <thead>\n",
       "    <tr style=\"text-align: right;\">\n",
       "      <th></th>\n",
       "      <th>Gene</th>\n",
       "      <th>ORF</th>\n",
       "      <th>Position</th>\n",
       "      <th>Phenotype</th>\n",
       "      <th>Raw data</th>\n",
       "      <th>Normalized data</th>\n",
       "      <th>False Positives a</th>\n",
       "      <th>Comments</th>\n",
       "      <th>Unnamed: 8</th>\n",
       "      <th>Unnamed: 9</th>\n",
       "      <th>Unnamed: 10</th>\n",
       "      <th>Unnamed: 11</th>\n",
       "      <th>Unnamed: 12</th>\n",
       "    </tr>\n",
       "  </thead>\n",
       "  <tbody>\n",
       "    <tr>\n",
       "      <th>0</th>\n",
       "      <td>LDB16</td>\n",
       "      <td>YCL005W</td>\n",
       "      <td>16B2</td>\n",
       "      <td>Undersecreter</td>\n",
       "      <td>2.04</td>\n",
       "      <td>2.38680</td>\n",
       "      <td>NaN</td>\n",
       "      <td>NaN</td>\n",
       "      <td>NaN</td>\n",
       "      <td>NaN</td>\n",
       "      <td>NaN</td>\n",
       "      <td>NaN</td>\n",
       "      <td>NaN</td>\n",
       "    </tr>\n",
       "    <tr>\n",
       "      <th>1</th>\n",
       "      <td>0</td>\n",
       "      <td>YCL002C</td>\n",
       "      <td>16B1</td>\n",
       "      <td>Undersecreter</td>\n",
       "      <td>2.36</td>\n",
       "      <td>2.76120</td>\n",
       "      <td>NaN</td>\n",
       "      <td>NaN</td>\n",
       "      <td>NaN</td>\n",
       "      <td>NaN</td>\n",
       "      <td>NaN</td>\n",
       "      <td>NaN</td>\n",
       "      <td>NaN</td>\n",
       "    </tr>\n",
       "    <tr>\n",
       "      <th>2</th>\n",
       "      <td>RPS0A</td>\n",
       "      <td>YGR214W</td>\n",
       "      <td>14D9</td>\n",
       "      <td>Undersecreter</td>\n",
       "      <td>2.41</td>\n",
       "      <td>3.08721</td>\n",
       "      <td>NaN</td>\n",
       "      <td>NaN</td>\n",
       "      <td>NaN</td>\n",
       "      <td>NaN</td>\n",
       "      <td>NaN</td>\n",
       "      <td>NaN</td>\n",
       "      <td>NaN</td>\n",
       "    </tr>\n",
       "    <tr>\n",
       "      <th>3</th>\n",
       "      <td>KIM1</td>\n",
       "      <td>YOR008C-A</td>\n",
       "      <td>70H12</td>\n",
       "      <td>Undersecreter</td>\n",
       "      <td>2.81</td>\n",
       "      <td>4.51005</td>\n",
       "      <td>NaN</td>\n",
       "      <td>NaN</td>\n",
       "      <td>NaN</td>\n",
       "      <td>NaN</td>\n",
       "      <td>NaN</td>\n",
       "      <td>NaN</td>\n",
       "      <td>NaN</td>\n",
       "    </tr>\n",
       "    <tr>\n",
       "      <th>4</th>\n",
       "      <td>LSC2</td>\n",
       "      <td>YGR244C</td>\n",
       "      <td>26H9</td>\n",
       "      <td>Undersecreter</td>\n",
       "      <td>3.60</td>\n",
       "      <td>4.24080</td>\n",
       "      <td>NaN</td>\n",
       "      <td>NaN</td>\n",
       "      <td>NaN</td>\n",
       "      <td>NaN</td>\n",
       "      <td>NaN</td>\n",
       "      <td>NaN</td>\n",
       "      <td>NaN</td>\n",
       "    </tr>\n",
       "  </tbody>\n",
       "</table>\n",
       "</div>"
      ],
      "text/plain": [
       "    Gene        ORF Position       Phenotype  Raw data  Normalized data  \\\n",
       "0  LDB16    YCL005W     16B2   Undersecreter      2.04          2.38680   \n",
       "1      0    YCL002C     16B1   Undersecreter      2.36          2.76120   \n",
       "2  RPS0A    YGR214W     14D9   Undersecreter      2.41          3.08721   \n",
       "3   KIM1  YOR008C-A    70H12   Undersecreter      2.81          4.51005   \n",
       "4   LSC2    YGR244C     26H9   Undersecreter      3.60          4.24080   \n",
       "\n",
       "  False Positives a Comments  Unnamed: 8  Unnamed: 9  Unnamed: 10  \\\n",
       "0               NaN      NaN         NaN         NaN          NaN   \n",
       "1               NaN      NaN         NaN         NaN          NaN   \n",
       "2               NaN      NaN         NaN         NaN          NaN   \n",
       "3               NaN      NaN         NaN         NaN          NaN   \n",
       "4               NaN      NaN         NaN         NaN          NaN   \n",
       "\n",
       "   Unnamed: 11 Unnamed: 12  \n",
       "0          NaN         NaN  \n",
       "1          NaN         NaN  \n",
       "2          NaN         NaN  \n",
       "3          NaN         NaN  \n",
       "4          NaN         NaN  "
      ]
     },
     "execution_count": 10,
     "metadata": {},
     "output_type": "execute_result"
    }
   ],
   "source": [
    "original_data.head()"
   ]
  },
  {
   "cell_type": "code",
   "execution_count": 11,
   "metadata": {},
   "outputs": [],
   "source": [
    "original_data['orf'] = original_data['ORF'].astype(str)"
   ]
  },
  {
   "cell_type": "code",
   "execution_count": 12,
   "metadata": {},
   "outputs": [],
   "source": [
    "# Eliminate all white spaces & capitalize\n",
    "original_data['orf'] = clean_orf(original_data['orf'])"
   ]
  },
  {
   "cell_type": "code",
   "execution_count": 16,
   "metadata": {},
   "outputs": [],
   "source": [
    "original_data.loc[original_data['orf']=='YLR287-A','orf'] = 'YLR287C-A'"
   ]
  },
  {
   "cell_type": "code",
   "execution_count": 17,
   "metadata": {},
   "outputs": [],
   "source": [
    "# Translate to ORFs \n",
    "original_data['orf'] = translate_sc(original_data['orf'], to='orf')"
   ]
  },
  {
   "cell_type": "code",
   "execution_count": 18,
   "metadata": {},
   "outputs": [
    {
     "name": "stdout",
     "output_type": "stream",
     "text": [
      "            Gene       ORF Position                        Phenotype  \\\n",
      "index_input                                                            \n",
      "337          NaN    Blank      71G4  Not determined - Blank position   \n",
      "338          NaN   Blank16     16B4  Not determined - Blank position   \n",
      "339          NaN    Blank     71F10  Not determined - Blank position   \n",
      "340          NaN  BlankH48     48H2  Not determined - Blank position   \n",
      "341          NaN  BlankH35     35H2  Not determined - Blank position   \n",
      "...          ...       ...      ...                              ...   \n",
      "5224         NaN       NaN      NaN                              NaN   \n",
      "5225         NaN       NaN      NaN                              NaN   \n",
      "5226         NaN       NaN      NaN                              NaN   \n",
      "5227         NaN       NaN      NaN                              NaN   \n",
      "5228         NaN       NaN      NaN                              NaN   \n",
      "\n",
      "             Raw data  Normalized data False Positives a Comments  Unnamed: 8  \\\n",
      "index_input                                                                     \n",
      "337              1.59          1.59000               NaN      NaN         NaN   \n",
      "338              1.60          1.87200               NaN      NaN         NaN   \n",
      "339              1.72          1.72000               NaN      NaN         NaN   \n",
      "340              1.72          1.54456               NaN      NaN         NaN   \n",
      "341              1.75          1.91975               NaN      NaN         NaN   \n",
      "...               ...              ...               ...      ...         ...   \n",
      "5224              NaN              NaN               NaN      NaN         NaN   \n",
      "5225              NaN              NaN               NaN      NaN         NaN   \n",
      "5226              NaN              NaN               NaN      NaN         NaN   \n",
      "5227              NaN              NaN               NaN      NaN         NaN   \n",
      "5228              NaN              NaN               NaN      NaN         NaN   \n",
      "\n",
      "             Unnamed: 9  Unnamed: 10  Unnamed: 11  \\\n",
      "index_input                                         \n",
      "337                 NaN          NaN          NaN   \n",
      "338                 NaN          NaN          NaN   \n",
      "339                 NaN          NaN          NaN   \n",
      "340                 NaN          NaN          NaN   \n",
      "341                 NaN          NaN          NaN   \n",
      "...                 ...          ...          ...   \n",
      "5224                NaN          NaN          NaN   \n",
      "5225                NaN          NaN          NaN   \n",
      "5226                NaN          NaN          NaN   \n",
      "5227                NaN          NaN          NaN   \n",
      "5228                NaN          NaN          NaN   \n",
      "\n",
      "                                Unnamed: 12       orf  \n",
      "index_input                                            \n",
      "337                                     NaN     BLANK  \n",
      "338                                     NaN   BLANK16  \n",
      "339                                     NaN     BLANK  \n",
      "340                                     NaN  BLANKH48  \n",
      "341                                     NaN  BLANKH35  \n",
      "...                                     ...       ...  \n",
      "5224                                    NaN       NAN  \n",
      "5225                                    NaN       NAN  \n",
      "5226                                    NaN       NAN  \n",
      "5227                                    NaN       NAN  \n",
      "5228         was not used for that exposure       NAN  \n",
      "\n",
      "[382 rows x 14 columns]\n"
     ]
    }
   ],
   "source": [
    "# Make sure everything translated ok\n",
    "t = looks_like_orf(original_data['orf'])\n",
    "print(original_data.loc[~t,])"
   ]
  },
  {
   "cell_type": "code",
   "execution_count": 20,
   "metadata": {},
   "outputs": [],
   "source": [
    "original_data = original_data.loc[t,:]"
   ]
  },
  {
   "cell_type": "code",
   "execution_count": 23,
   "metadata": {},
   "outputs": [],
   "source": [
    "# Remove false positives\n",
    "original_data = original_data.loc[original_data['False Positives a'].isnull(),:]"
   ]
  },
  {
   "cell_type": "code",
   "execution_count": 24,
   "metadata": {},
   "outputs": [
    {
     "data": {
      "text/html": [
       "<div>\n",
       "<style scoped>\n",
       "    .dataframe tbody tr th:only-of-type {\n",
       "        vertical-align: middle;\n",
       "    }\n",
       "\n",
       "    .dataframe tbody tr th {\n",
       "        vertical-align: top;\n",
       "    }\n",
       "\n",
       "    .dataframe thead th {\n",
       "        text-align: right;\n",
       "    }\n",
       "</style>\n",
       "<table border=\"1\" class=\"dataframe\">\n",
       "  <thead>\n",
       "    <tr style=\"text-align: right;\">\n",
       "      <th></th>\n",
       "      <th>Gene</th>\n",
       "      <th>ORF</th>\n",
       "      <th>Position</th>\n",
       "      <th>Phenotype</th>\n",
       "      <th>Raw data</th>\n",
       "      <th>Normalized data</th>\n",
       "      <th>False Positives a</th>\n",
       "      <th>Comments</th>\n",
       "      <th>Unnamed: 8</th>\n",
       "      <th>Unnamed: 9</th>\n",
       "      <th>Unnamed: 10</th>\n",
       "      <th>Unnamed: 11</th>\n",
       "      <th>Unnamed: 12</th>\n",
       "      <th>orf</th>\n",
       "    </tr>\n",
       "    <tr>\n",
       "      <th>index_input</th>\n",
       "      <th></th>\n",
       "      <th></th>\n",
       "      <th></th>\n",
       "      <th></th>\n",
       "      <th></th>\n",
       "      <th></th>\n",
       "      <th></th>\n",
       "      <th></th>\n",
       "      <th></th>\n",
       "      <th></th>\n",
       "      <th></th>\n",
       "      <th></th>\n",
       "      <th></th>\n",
       "      <th></th>\n",
       "    </tr>\n",
       "  </thead>\n",
       "  <tbody>\n",
       "    <tr>\n",
       "      <th>0</th>\n",
       "      <td>LDB16</td>\n",
       "      <td>YCL005W</td>\n",
       "      <td>16B2</td>\n",
       "      <td>Undersecreter</td>\n",
       "      <td>2.04</td>\n",
       "      <td>2.38680</td>\n",
       "      <td>NaN</td>\n",
       "      <td>NaN</td>\n",
       "      <td>NaN</td>\n",
       "      <td>NaN</td>\n",
       "      <td>NaN</td>\n",
       "      <td>NaN</td>\n",
       "      <td>NaN</td>\n",
       "      <td>YCL005W</td>\n",
       "    </tr>\n",
       "    <tr>\n",
       "      <th>1</th>\n",
       "      <td>0</td>\n",
       "      <td>YCL002C</td>\n",
       "      <td>16B1</td>\n",
       "      <td>Undersecreter</td>\n",
       "      <td>2.36</td>\n",
       "      <td>2.76120</td>\n",
       "      <td>NaN</td>\n",
       "      <td>NaN</td>\n",
       "      <td>NaN</td>\n",
       "      <td>NaN</td>\n",
       "      <td>NaN</td>\n",
       "      <td>NaN</td>\n",
       "      <td>NaN</td>\n",
       "      <td>YCL002C</td>\n",
       "    </tr>\n",
       "    <tr>\n",
       "      <th>2</th>\n",
       "      <td>RPS0A</td>\n",
       "      <td>YGR214W</td>\n",
       "      <td>14D9</td>\n",
       "      <td>Undersecreter</td>\n",
       "      <td>2.41</td>\n",
       "      <td>3.08721</td>\n",
       "      <td>NaN</td>\n",
       "      <td>NaN</td>\n",
       "      <td>NaN</td>\n",
       "      <td>NaN</td>\n",
       "      <td>NaN</td>\n",
       "      <td>NaN</td>\n",
       "      <td>NaN</td>\n",
       "      <td>YGR214W</td>\n",
       "    </tr>\n",
       "    <tr>\n",
       "      <th>3</th>\n",
       "      <td>KIM1</td>\n",
       "      <td>YOR008C-A</td>\n",
       "      <td>70H12</td>\n",
       "      <td>Undersecreter</td>\n",
       "      <td>2.81</td>\n",
       "      <td>4.51005</td>\n",
       "      <td>NaN</td>\n",
       "      <td>NaN</td>\n",
       "      <td>NaN</td>\n",
       "      <td>NaN</td>\n",
       "      <td>NaN</td>\n",
       "      <td>NaN</td>\n",
       "      <td>NaN</td>\n",
       "      <td>YOR008C-A</td>\n",
       "    </tr>\n",
       "    <tr>\n",
       "      <th>4</th>\n",
       "      <td>LSC2</td>\n",
       "      <td>YGR244C</td>\n",
       "      <td>26H9</td>\n",
       "      <td>Undersecreter</td>\n",
       "      <td>3.60</td>\n",
       "      <td>4.24080</td>\n",
       "      <td>NaN</td>\n",
       "      <td>NaN</td>\n",
       "      <td>NaN</td>\n",
       "      <td>NaN</td>\n",
       "      <td>NaN</td>\n",
       "      <td>NaN</td>\n",
       "      <td>NaN</td>\n",
       "      <td>YGR244C</td>\n",
       "    </tr>\n",
       "  </tbody>\n",
       "</table>\n",
       "</div>"
      ],
      "text/plain": [
       "              Gene        ORF Position       Phenotype  Raw data  \\\n",
       "index_input                                                        \n",
       "0            LDB16    YCL005W     16B2   Undersecreter      2.04   \n",
       "1                0    YCL002C     16B1   Undersecreter      2.36   \n",
       "2            RPS0A    YGR214W     14D9   Undersecreter      2.41   \n",
       "3             KIM1  YOR008C-A    70H12   Undersecreter      2.81   \n",
       "4             LSC2    YGR244C     26H9   Undersecreter      3.60   \n",
       "\n",
       "             Normalized data False Positives a Comments  Unnamed: 8  \\\n",
       "index_input                                                           \n",
       "0                    2.38680               NaN      NaN         NaN   \n",
       "1                    2.76120               NaN      NaN         NaN   \n",
       "2                    3.08721               NaN      NaN         NaN   \n",
       "3                    4.51005               NaN      NaN         NaN   \n",
       "4                    4.24080               NaN      NaN         NaN   \n",
       "\n",
       "             Unnamed: 9  Unnamed: 10  Unnamed: 11 Unnamed: 12        orf  \n",
       "index_input                                                               \n",
       "0                   NaN          NaN          NaN         NaN    YCL005W  \n",
       "1                   NaN          NaN          NaN         NaN    YCL002C  \n",
       "2                   NaN          NaN          NaN         NaN    YGR214W  \n",
       "3                   NaN          NaN          NaN         NaN  YOR008C-A  \n",
       "4                   NaN          NaN          NaN         NaN    YGR244C  "
      ]
     },
     "execution_count": 24,
     "metadata": {},
     "output_type": "execute_result"
    }
   ],
   "source": [
    "original_data.head()"
   ]
  },
  {
   "cell_type": "code",
   "execution_count": 25,
   "metadata": {},
   "outputs": [],
   "source": [
    "original_data['data'] = original_data['Normalized data'].astype(float)"
   ]
  },
  {
   "cell_type": "code",
   "execution_count": 26,
   "metadata": {},
   "outputs": [],
   "source": [
    "original_data.set_index('orf', inplace=True)"
   ]
  },
  {
   "cell_type": "code",
   "execution_count": 27,
   "metadata": {},
   "outputs": [],
   "source": [
    "original_data = original_data[['data']].copy()"
   ]
  },
  {
   "cell_type": "code",
   "execution_count": 28,
   "metadata": {},
   "outputs": [],
   "source": [
    "original_data = original_data.groupby(original_data.index).mean()"
   ]
  },
  {
   "cell_type": "code",
   "execution_count": 29,
   "metadata": {},
   "outputs": [
    {
     "data": {
      "text/plain": [
       "(4564, 1)"
      ]
     },
     "execution_count": 29,
     "metadata": {},
     "output_type": "execute_result"
    }
   ],
   "source": [
    "original_data.shape"
   ]
  },
  {
   "cell_type": "markdown",
   "metadata": {},
   "source": [
    "# Prepare the final dataset"
   ]
  },
  {
   "cell_type": "code",
   "execution_count": 30,
   "metadata": {},
   "outputs": [],
   "source": [
    "data = original_data.copy()"
   ]
  },
  {
   "cell_type": "code",
   "execution_count": 31,
   "metadata": {},
   "outputs": [],
   "source": [
    "dataset_ids = [11]\n",
    "datasets = datasets.reindex(index=dataset_ids)"
   ]
  },
  {
   "cell_type": "code",
   "execution_count": 32,
   "metadata": {},
   "outputs": [],
   "source": [
    "lst = [datasets.index.values, ['value']*datasets.shape[0]]\n",
    "tuples = list(zip(*lst))\n",
    "idx = pd.MultiIndex.from_tuples(tuples, names=['dataset_id','data_type'])\n",
    "data.columns = idx"
   ]
  },
  {
   "cell_type": "code",
   "execution_count": 33,
   "metadata": {},
   "outputs": [
    {
     "data": {
      "text/html": [
       "<div>\n",
       "<style scoped>\n",
       "    .dataframe tbody tr th:only-of-type {\n",
       "        vertical-align: middle;\n",
       "    }\n",
       "\n",
       "    .dataframe tbody tr th {\n",
       "        vertical-align: top;\n",
       "    }\n",
       "\n",
       "    .dataframe thead tr th {\n",
       "        text-align: left;\n",
       "    }\n",
       "\n",
       "    .dataframe thead tr:last-of-type th {\n",
       "        text-align: right;\n",
       "    }\n",
       "</style>\n",
       "<table border=\"1\" class=\"dataframe\">\n",
       "  <thead>\n",
       "    <tr>\n",
       "      <th>dataset_id</th>\n",
       "      <th>11</th>\n",
       "    </tr>\n",
       "    <tr>\n",
       "      <th>data_type</th>\n",
       "      <th>value</th>\n",
       "    </tr>\n",
       "    <tr>\n",
       "      <th>orf</th>\n",
       "      <th></th>\n",
       "    </tr>\n",
       "  </thead>\n",
       "  <tbody>\n",
       "    <tr>\n",
       "      <th>YAL002W</th>\n",
       "      <td>7.22139</td>\n",
       "    </tr>\n",
       "    <tr>\n",
       "      <th>YAL007C</th>\n",
       "      <td>41.42535</td>\n",
       "    </tr>\n",
       "    <tr>\n",
       "      <th>YAL008W</th>\n",
       "      <td>33.23169</td>\n",
       "    </tr>\n",
       "    <tr>\n",
       "      <th>YAL009W</th>\n",
       "      <td>33.43113</td>\n",
       "    </tr>\n",
       "    <tr>\n",
       "      <th>YAL010C</th>\n",
       "      <td>40.28688</td>\n",
       "    </tr>\n",
       "  </tbody>\n",
       "</table>\n",
       "</div>"
      ],
      "text/plain": [
       "dataset_id        11\n",
       "data_type      value\n",
       "orf                 \n",
       "YAL002W      7.22139\n",
       "YAL007C     41.42535\n",
       "YAL008W     33.23169\n",
       "YAL009W     33.43113\n",
       "YAL010C     40.28688"
      ]
     },
     "execution_count": 33,
     "metadata": {},
     "output_type": "execute_result"
    }
   ],
   "source": [
    "data.head()"
   ]
  },
  {
   "cell_type": "markdown",
   "metadata": {},
   "source": [
    "## Subset to the genes currently in SGD"
   ]
  },
  {
   "cell_type": "code",
   "execution_count": 34,
   "metadata": {},
   "outputs": [
    {
     "name": "stdout",
     "output_type": "stream",
     "text": [
      "ORFs missing from SGD: 22\n"
     ]
    }
   ],
   "source": [
    "genes = pd.read_csv(path_to_genes, sep='\\t', index_col='id')\n",
    "genes = genes.reset_index().set_index('systematic_name')\n",
    "gene_ids = genes.reindex(index=data.index.values)['id'].values\n",
    "num_missing = np.sum(np.isnan(gene_ids))\n",
    "print('ORFs missing from SGD: %d' % num_missing)"
   ]
  },
  {
   "cell_type": "code",
   "execution_count": 35,
   "metadata": {},
   "outputs": [
    {
     "data": {
      "text/html": [
       "<div>\n",
       "<style scoped>\n",
       "    .dataframe tbody tr th:only-of-type {\n",
       "        vertical-align: middle;\n",
       "    }\n",
       "\n",
       "    .dataframe tbody tr th {\n",
       "        vertical-align: top;\n",
       "    }\n",
       "\n",
       "    .dataframe thead tr th {\n",
       "        text-align: left;\n",
       "    }\n",
       "\n",
       "    .dataframe thead tr:last-of-type th {\n",
       "        text-align: right;\n",
       "    }\n",
       "</style>\n",
       "<table border=\"1\" class=\"dataframe\">\n",
       "  <thead>\n",
       "    <tr>\n",
       "      <th></th>\n",
       "      <th>dataset_id</th>\n",
       "      <th>11</th>\n",
       "    </tr>\n",
       "    <tr>\n",
       "      <th></th>\n",
       "      <th>data_type</th>\n",
       "      <th>value</th>\n",
       "    </tr>\n",
       "    <tr>\n",
       "      <th>gene_id</th>\n",
       "      <th>orf</th>\n",
       "      <th></th>\n",
       "    </tr>\n",
       "  </thead>\n",
       "  <tbody>\n",
       "    <tr>\n",
       "      <th>2</th>\n",
       "      <th>YAL002W</th>\n",
       "      <td>7.22139</td>\n",
       "    </tr>\n",
       "    <tr>\n",
       "      <th>5</th>\n",
       "      <th>YAL007C</th>\n",
       "      <td>41.42535</td>\n",
       "    </tr>\n",
       "    <tr>\n",
       "      <th>6</th>\n",
       "      <th>YAL008W</th>\n",
       "      <td>33.23169</td>\n",
       "    </tr>\n",
       "    <tr>\n",
       "      <th>7</th>\n",
       "      <th>YAL009W</th>\n",
       "      <td>33.43113</td>\n",
       "    </tr>\n",
       "    <tr>\n",
       "      <th>8</th>\n",
       "      <th>YAL010C</th>\n",
       "      <td>40.28688</td>\n",
       "    </tr>\n",
       "  </tbody>\n",
       "</table>\n",
       "</div>"
      ],
      "text/plain": [
       "dataset_id             11\n",
       "data_type           value\n",
       "gene_id orf              \n",
       "2       YAL002W   7.22139\n",
       "5       YAL007C  41.42535\n",
       "6       YAL008W  33.23169\n",
       "7       YAL009W  33.43113\n",
       "8       YAL010C  40.28688"
      ]
     },
     "execution_count": 35,
     "metadata": {},
     "output_type": "execute_result"
    }
   ],
   "source": [
    "data['gene_id'] = gene_ids\n",
    "data = data.loc[data['gene_id'].notnull()]\n",
    "data['gene_id'] = data['gene_id'].astype(int)\n",
    "data = data.reset_index().set_index(['gene_id','orf'])\n",
    "\n",
    "data.head()"
   ]
  },
  {
   "cell_type": "markdown",
   "metadata": {},
   "source": [
    "# Normalize"
   ]
  },
  {
   "cell_type": "code",
   "execution_count": 36,
   "metadata": {},
   "outputs": [],
   "source": [
    "data_norm = normalize_phenotypic_scores(data, has_tested=True)"
   ]
  },
  {
   "cell_type": "code",
   "execution_count": 37,
   "metadata": {},
   "outputs": [],
   "source": [
    "# Assign proper column names\n",
    "lst = [datasets.index.values, ['valuez']*datasets.shape[0]]\n",
    "tuples = list(zip(*lst))\n",
    "idx = pd.MultiIndex.from_tuples(tuples, names=['dataset_id','data_type'])\n",
    "data_norm.columns = idx"
   ]
  },
  {
   "cell_type": "code",
   "execution_count": 38,
   "metadata": {},
   "outputs": [
    {
     "data": {
      "text/html": [
       "<div>\n",
       "<style scoped>\n",
       "    .dataframe tbody tr th:only-of-type {\n",
       "        vertical-align: middle;\n",
       "    }\n",
       "\n",
       "    .dataframe tbody tr th {\n",
       "        vertical-align: top;\n",
       "    }\n",
       "\n",
       "    .dataframe thead tr th {\n",
       "        text-align: left;\n",
       "    }\n",
       "\n",
       "    .dataframe thead tr:last-of-type th {\n",
       "        text-align: right;\n",
       "    }\n",
       "</style>\n",
       "<table border=\"1\" class=\"dataframe\">\n",
       "  <thead>\n",
       "    <tr>\n",
       "      <th></th>\n",
       "      <th>dataset_id</th>\n",
       "      <th colspan=\"2\" halign=\"left\">11</th>\n",
       "    </tr>\n",
       "    <tr>\n",
       "      <th></th>\n",
       "      <th>data_type</th>\n",
       "      <th>value</th>\n",
       "      <th>valuez</th>\n",
       "    </tr>\n",
       "    <tr>\n",
       "      <th>gene_id</th>\n",
       "      <th>orf</th>\n",
       "      <th></th>\n",
       "      <th></th>\n",
       "    </tr>\n",
       "  </thead>\n",
       "  <tbody>\n",
       "    <tr>\n",
       "      <th>2</th>\n",
       "      <th>YAL002W</th>\n",
       "      <td>7.22139</td>\n",
       "      <td>-2.640542</td>\n",
       "    </tr>\n",
       "    <tr>\n",
       "      <th>5</th>\n",
       "      <th>YAL007C</th>\n",
       "      <td>41.42535</td>\n",
       "      <td>1.111820</td>\n",
       "    </tr>\n",
       "    <tr>\n",
       "      <th>6</th>\n",
       "      <th>YAL008W</th>\n",
       "      <td>33.23169</td>\n",
       "      <td>0.212931</td>\n",
       "    </tr>\n",
       "    <tr>\n",
       "      <th>7</th>\n",
       "      <th>YAL009W</th>\n",
       "      <td>33.43113</td>\n",
       "      <td>0.234810</td>\n",
       "    </tr>\n",
       "    <tr>\n",
       "      <th>8</th>\n",
       "      <th>YAL010C</th>\n",
       "      <td>40.28688</td>\n",
       "      <td>0.986924</td>\n",
       "    </tr>\n",
       "  </tbody>\n",
       "</table>\n",
       "</div>"
      ],
      "text/plain": [
       "dataset_id             11          \n",
       "data_type           value    valuez\n",
       "gene_id orf                        \n",
       "2       YAL002W   7.22139 -2.640542\n",
       "5       YAL007C  41.42535  1.111820\n",
       "6       YAL008W  33.23169  0.212931\n",
       "7       YAL009W  33.43113  0.234810\n",
       "8       YAL010C  40.28688  0.986924"
      ]
     },
     "execution_count": 38,
     "metadata": {},
     "output_type": "execute_result"
    }
   ],
   "source": [
    "data_norm[data.isnull()] = np.nan\n",
    "data_all = data.join(data_norm)\n",
    "\n",
    "data_all.head()"
   ]
  },
  {
   "cell_type": "markdown",
   "metadata": {},
   "source": [
    "# Print out"
   ]
  },
  {
   "cell_type": "code",
   "execution_count": 39,
   "metadata": {},
   "outputs": [],
   "source": [
    "for f in ['value','valuez']:\n",
    "    df = data_all.xs(f, level='data_type', axis=1).copy()\n",
    "    df.columns = datasets['name'].values\n",
    "    df = df.droplevel('gene_id', axis=0)\n",
    "    df.to_csv(paper_name + '_' + f + '.txt', sep='\\t')"
   ]
  },
  {
   "cell_type": "markdown",
   "metadata": {},
   "source": [
    "# Save to DB"
   ]
  },
  {
   "cell_type": "code",
   "execution_count": 40,
   "metadata": {},
   "outputs": [],
   "source": [
    "from IO.save_data_to_db3 import *"
   ]
  },
  {
   "cell_type": "code",
   "execution_count": 41,
   "metadata": {},
   "outputs": [
    {
     "name": "stderr",
     "output_type": "stream",
     "text": [
      "  0%|          | 0/1 [00:00<?, ?it/s]"
     ]
    },
    {
     "name": "stdout",
     "output_type": "stream",
     "text": [
      "Deleting all datasets for PMID 20333241...\n",
      "Inserting the new data...\n"
     ]
    },
    {
     "name": "stderr",
     "output_type": "stream",
     "text": [
      "100%|██████████| 1/1 [00:07<00:00,  7.38s/it]"
     ]
    },
    {
     "name": "stdout",
     "output_type": "stream",
     "text": [
      "Updating the data_modified_on field...\n"
     ]
    },
    {
     "name": "stderr",
     "output_type": "stream",
     "text": [
      "\n"
     ]
    }
   ],
   "source": [
    "save_data_to_db(data_all, paper_pmid)"
   ]
  },
  {
   "cell_type": "code",
   "execution_count": null,
   "metadata": {},
   "outputs": [],
   "source": []
  }
 ],
 "metadata": {
  "kernelspec": {
   "display_name": "yp-data",
   "language": "python",
   "name": "yp-data"
  },
  "language_info": {
   "codemirror_mode": {
    "name": "ipython",
    "version": 3
   },
   "file_extension": ".py",
   "mimetype": "text/x-python",
   "name": "python",
   "nbconvert_exporter": "python",
   "pygments_lexer": "ipython3",
   "version": "3.7.7"
  }
 },
 "nbformat": 4,
 "nbformat_minor": 4
}
