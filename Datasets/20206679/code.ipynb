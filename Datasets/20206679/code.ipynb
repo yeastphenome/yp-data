{
 "cells": [
  {
   "cell_type": "code",
   "execution_count": 1,
   "metadata": {},
   "outputs": [],
   "source": [
    "import numpy as np\n",
    "import pandas as pd\n",
    "\n",
    "import sys\n",
    "\n",
    "from os.path import expanduser\n",
    "sys.path.append(expanduser('~') + '/Lab/Utils/Python/')\n",
    "\n",
    "from Conversions.translate import *\n",
    "from Strings.is_a import *"
   ]
  },
  {
   "cell_type": "markdown",
   "metadata": {},
   "source": [
    "# Initial setup"
   ]
  },
  {
   "cell_type": "code",
   "execution_count": 2,
   "metadata": {},
   "outputs": [],
   "source": [
    "paper_pmid = 20206679\n",
    "paper_name = 'zhao_jiang_2010' "
   ]
  },
  {
   "cell_type": "code",
   "execution_count": 3,
   "metadata": {},
   "outputs": [],
   "source": [
    "datasets = pd.read_csv('extras/YeastPhenome_' + str(paper_pmid) + '_datasets_list.txt', sep='\\t', header=None, names=['pmid', 'name'])"
   ]
  },
  {
   "cell_type": "code",
   "execution_count": 4,
   "metadata": {},
   "outputs": [],
   "source": [
    "datasets.set_index('pmid', inplace=True)"
   ]
  },
  {
   "cell_type": "markdown",
   "metadata": {},
   "source": [
    "# Load & process the data"
   ]
  },
  {
   "cell_type": "code",
   "execution_count": 5,
   "metadata": {},
   "outputs": [],
   "source": [
    "original_data = pd.read_excel('raw_data/hits.xlsx', sheet_name='Sheet1')"
   ]
  },
  {
   "cell_type": "code",
   "execution_count": 6,
   "metadata": {},
   "outputs": [],
   "source": [
    "original_data.columns = [x.strip() for x in original_data.columns]"
   ]
  },
  {
   "cell_type": "code",
   "execution_count": 7,
   "metadata": {},
   "outputs": [
    {
     "data": {
      "text/html": [
       "<div>\n",
       "<style scoped>\n",
       "    .dataframe tbody tr th:only-of-type {\n",
       "        vertical-align: middle;\n",
       "    }\n",
       "\n",
       "    .dataframe tbody tr th {\n",
       "        vertical-align: top;\n",
       "    }\n",
       "\n",
       "    .dataframe thead th {\n",
       "        text-align: right;\n",
       "    }\n",
       "</style>\n",
       "<table border=\"1\" class=\"dataframe\">\n",
       "  <thead>\n",
       "    <tr style=\"text-align: right;\">\n",
       "      <th></th>\n",
       "      <th>Systemic Name</th>\n",
       "      <th>Standard Name</th>\n",
       "      <th>Systemic Name.1</th>\n",
       "      <th>Standard Name.1</th>\n",
       "      <th>Systemic Name.2</th>\n",
       "      <th>Standard Name.2</th>\n",
       "      <th>Systemic Name.3</th>\n",
       "      <th>Standard Name.3</th>\n",
       "    </tr>\n",
       "  </thead>\n",
       "  <tbody>\n",
       "    <tr>\n",
       "      <th>0</th>\n",
       "      <td>Mutants sensitive to 0.4 M LiCl</td>\n",
       "      <td>NaN</td>\n",
       "      <td>NaN</td>\n",
       "      <td>NaN</td>\n",
       "      <td>NaN</td>\n",
       "      <td>NaN</td>\n",
       "      <td>NaN</td>\n",
       "      <td>NaN</td>\n",
       "    </tr>\n",
       "    <tr>\n",
       "      <th>1</th>\n",
       "      <td>YAL002W</td>\n",
       "      <td>VPS8</td>\n",
       "      <td>YDR486C</td>\n",
       "      <td>VPS60</td>\n",
       "      <td>YKL114C</td>\n",
       "      <td>APN1</td>\n",
       "      <td>YMR077C</td>\n",
       "      <td>VPS20</td>\n",
       "    </tr>\n",
       "    <tr>\n",
       "      <th>2</th>\n",
       "      <td>YCL008C</td>\n",
       "      <td>VPS23</td>\n",
       "      <td>YDR495C</td>\n",
       "      <td>VPS3</td>\n",
       "      <td>YKL213C</td>\n",
       "      <td>DOA1</td>\n",
       "      <td>YNL001W</td>\n",
       "      <td>DOM34</td>\n",
       "    </tr>\n",
       "    <tr>\n",
       "      <th>3</th>\n",
       "      <td>YCR009C</td>\n",
       "      <td>RVS161</td>\n",
       "      <td>YFR010W</td>\n",
       "      <td>UBP6</td>\n",
       "      <td>YKR035W-A</td>\n",
       "      <td>VPS46</td>\n",
       "      <td>YNL027W</td>\n",
       "      <td>CRZ1</td>\n",
       "    </tr>\n",
       "    <tr>\n",
       "      <th>4</th>\n",
       "      <td>YCR053W</td>\n",
       "      <td>THR4</td>\n",
       "      <td>YFR040W</td>\n",
       "      <td>SAP155</td>\n",
       "      <td>YLR025W</td>\n",
       "      <td>VPS32</td>\n",
       "      <td>YNL246W</td>\n",
       "      <td>VPS75</td>\n",
       "    </tr>\n",
       "  </tbody>\n",
       "</table>\n",
       "</div>"
      ],
      "text/plain": [
       "                     Systemic Name Standard Name Systemic Name.1  \\\n",
       "0  Mutants sensitive to 0.4 M LiCl           NaN             NaN   \n",
       "1                          YAL002W          VPS8         YDR486C   \n",
       "2                          YCL008C         VPS23         YDR495C   \n",
       "3                          YCR009C        RVS161         YFR010W   \n",
       "4                          YCR053W          THR4         YFR040W   \n",
       "\n",
       "  Standard Name.1 Systemic Name.2 Standard Name.2 Systemic Name.3  \\\n",
       "0             NaN             NaN             NaN             NaN   \n",
       "1           VPS60         YKL114C            APN1         YMR077C   \n",
       "2            VPS3         YKL213C            DOA1         YNL001W   \n",
       "3            UBP6       YKR035W-A           VPS46         YNL027W   \n",
       "4          SAP155         YLR025W           VPS32         YNL246W   \n",
       "\n",
       "  Standard Name.3  \n",
       "0             NaN  \n",
       "1           VPS20  \n",
       "2           DOM34  \n",
       "3            CRZ1  \n",
       "4           VPS75  "
      ]
     },
     "execution_count": 7,
     "metadata": {},
     "output_type": "execute_result"
    }
   ],
   "source": [
    "original_data.head()"
   ]
  },
  {
   "cell_type": "code",
   "execution_count": 8,
   "metadata": {},
   "outputs": [],
   "source": [
    "cols = ['Systemic Name','Systemic Name.1','Systemic Name.2','Systemic Name.3']\n",
    "original_data = pd.concat([original_data[col] for col in cols], axis=0).to_frame()"
   ]
  },
  {
   "cell_type": "code",
   "execution_count": 9,
   "metadata": {},
   "outputs": [
    {
     "name": "stdout",
     "output_type": "stream",
     "text": [
      "Original data dimensions: 136 x 1\n"
     ]
    }
   ],
   "source": [
    "print('Original data dimensions: %d x %d' % (original_data.shape))"
   ]
  },
  {
   "cell_type": "code",
   "execution_count": 10,
   "metadata": {},
   "outputs": [],
   "source": [
    "original_data[0] = original_data[0].astype(str)"
   ]
  },
  {
   "cell_type": "code",
   "execution_count": 11,
   "metadata": {},
   "outputs": [],
   "source": [
    "# Eliminate all white spaces & capitalize\n",
    "original_data['orfs'] = clean_orf(original_data[0])"
   ]
  },
  {
   "cell_type": "code",
   "execution_count": 12,
   "metadata": {},
   "outputs": [],
   "source": [
    "# Translate to ORFs \n",
    "original_data['orfs'] = translate_sc(original_data['orfs'].values, to='orf')"
   ]
  },
  {
   "cell_type": "code",
   "execution_count": 13,
   "metadata": {},
   "outputs": [
    {
     "name": "stdout",
     "output_type": "stream",
     "text": [
      "                                                    0  \\\n",
      "0                     Mutants sensitive to 0.4 M LiCl   \n",
      "13                                                nan   \n",
      "14  Mutants sensitive to 0.2 M LiCl but not to 0.1...   \n",
      "22                                                nan   \n",
      "23                 Mutants sensitive up to 0.1 M LiCl   \n",
      "0                                                 nan   \n",
      "13                                                nan   \n",
      "14                                                nan   \n",
      "22                                                nan   \n",
      "23                                                nan   \n",
      "0                                                 nan   \n",
      "13                                                nan   \n",
      "14                                                nan   \n",
      "22                                                nan   \n",
      "23                                                nan   \n",
      "0                                                 nan   \n",
      "13                                                nan   \n",
      "14                                                nan   \n",
      "22                                                nan   \n",
      "23                                                nan   \n",
      "32                                                nan   \n",
      "33                                                nan   \n",
      "\n",
      "                                        orfs  \n",
      "0                  MUTANTSSENSITIVETO04MLICL  \n",
      "13                                       NAN  \n",
      "14  MUTANTSSENSITIVETO02MLICLBUTNOTTO01MLICL  \n",
      "22                                       NAN  \n",
      "23               MUTANTSSENSITIVEUPTO01MLICL  \n",
      "0                                        NAN  \n",
      "13                                       NAN  \n",
      "14                                       NAN  \n",
      "22                                       NAN  \n",
      "23                                       NAN  \n",
      "0                                        NAN  \n",
      "13                                       NAN  \n",
      "14                                       NAN  \n",
      "22                                       NAN  \n",
      "23                                       NAN  \n",
      "0                                        NAN  \n",
      "13                                       NAN  \n",
      "14                                       NAN  \n",
      "22                                       NAN  \n",
      "23                                       NAN  \n",
      "32                                       NAN  \n",
      "33                                       NAN  \n"
     ]
    }
   ],
   "source": [
    "# Make sure everything translated ok\n",
    "t = looks_like_orf(original_data['orfs'])\n",
    "print(original_data.loc[~t,])"
   ]
  },
  {
   "cell_type": "code",
   "execution_count": 14,
   "metadata": {},
   "outputs": [],
   "source": [
    "original_data.drop(index=original_data.loc[~t,].index, inplace=True)"
   ]
  },
  {
   "cell_type": "code",
   "execution_count": 15,
   "metadata": {},
   "outputs": [],
   "source": [
    "original_data['data'] = -1"
   ]
  },
  {
   "cell_type": "code",
   "execution_count": 16,
   "metadata": {},
   "outputs": [],
   "source": [
    "original_data.set_index('orfs', inplace=True)"
   ]
  },
  {
   "cell_type": "markdown",
   "metadata": {},
   "source": [
    "# Load & process tested strains"
   ]
  },
  {
   "cell_type": "code",
   "execution_count": 17,
   "metadata": {},
   "outputs": [
    {
     "name": "stdout",
     "output_type": "stream",
     "text": [
      "['YMR41W']\n"
     ]
    }
   ],
   "source": [
    "tested = pd.read_excel('raw_data/DELETION LIBRARY.xlsx', sheet_name='DELETION LIBRARY', skiprows=1)\n",
    "tested = np.array(tested['ORF name'].unique())\n",
    "tested = clean_orf(tested)\n",
    "tested = translate_sc(tested, to='orf')\n",
    "tested[tested == 'YELOO1C'] = 'YEL001C'\n",
    "# Make sure everything translated ok\n",
    "t = looks_like_orf(tested)\n",
    "print(tested[~np.array(t)])\n",
    "tested = np.setdiff1d(tested, np.array(['YMR41W']))"
   ]
  },
  {
   "cell_type": "code",
   "execution_count": 18,
   "metadata": {},
   "outputs": [],
   "source": [
    "tested = pd.DataFrame(index=tested)"
   ]
  },
  {
   "cell_type": "markdown",
   "metadata": {},
   "source": [
    "# Prepare the final dataset"
   ]
  },
  {
   "cell_type": "code",
   "execution_count": 19,
   "metadata": {},
   "outputs": [],
   "source": [
    "dataset_ids = [16456]"
   ]
  },
  {
   "cell_type": "code",
   "execution_count": 20,
   "metadata": {},
   "outputs": [],
   "source": [
    "datasets = datasets.reindex(index=dataset_ids)"
   ]
  },
  {
   "cell_type": "code",
   "execution_count": 21,
   "metadata": {},
   "outputs": [],
   "source": [
    "data = tested.join(original_data['data'], how='outer')"
   ]
  },
  {
   "cell_type": "code",
   "execution_count": 22,
   "metadata": {},
   "outputs": [],
   "source": [
    "data[data['data'].isnull()] = 0"
   ]
  },
  {
   "cell_type": "code",
   "execution_count": 23,
   "metadata": {},
   "outputs": [],
   "source": [
    "data = data.groupby(data.index).mean()"
   ]
  },
  {
   "cell_type": "code",
   "execution_count": 24,
   "metadata": {},
   "outputs": [],
   "source": [
    "# Create row index\n",
    "data.index.name='orf'"
   ]
  },
  {
   "cell_type": "code",
   "execution_count": 25,
   "metadata": {},
   "outputs": [],
   "source": [
    "data.columns = datasets['name'].values"
   ]
  },
  {
   "cell_type": "code",
   "execution_count": 26,
   "metadata": {},
   "outputs": [
    {
     "name": "stdout",
     "output_type": "stream",
     "text": [
      "Final data dimensions: 4718 x 1\n"
     ]
    }
   ],
   "source": [
    "print('Final data dimensions: %d x %d' % (data.shape))"
   ]
  },
  {
   "cell_type": "code",
   "execution_count": 27,
   "metadata": {},
   "outputs": [
    {
     "name": "stdout",
     "output_type": "stream",
     "text": [
      "hom | growth (colony size) | lithium chloride [0.4 M] | YPD | Zhao J~Jiang L, 2010    107\n",
      "dtype: int64\n"
     ]
    }
   ],
   "source": [
    "print((data<0).sum(axis=0))"
   ]
  },
  {
   "cell_type": "markdown",
   "metadata": {},
   "source": [
    "# Print out"
   ]
  },
  {
   "cell_type": "code",
   "execution_count": 28,
   "metadata": {},
   "outputs": [],
   "source": [
    "data.to_csv(paper_name + '.txt', sep='\\t')"
   ]
  },
  {
   "cell_type": "markdown",
   "metadata": {},
   "source": [
    "# Save to DB"
   ]
  },
  {
   "cell_type": "code",
   "execution_count": 51,
   "metadata": {},
   "outputs": [],
   "source": [
    "from IO.save_data_to_db2 import *"
   ]
  },
  {
   "cell_type": "code",
   "execution_count": 52,
   "metadata": {},
   "outputs": [],
   "source": [
    "# Create column index\n",
    "lst = [datasets.index.values, datasets['name'].values]\n",
    "tuples = list(zip(*lst))\n",
    "idx = pd.MultiIndex.from_tuples(tuples, names=['dataset_id','dataset_name'])\n",
    "data.columns = idx"
   ]
  },
  {
   "cell_type": "code",
   "execution_count": 53,
   "metadata": {},
   "outputs": [],
   "source": [
    "save_data_to_db(data, paper_pmid)"
   ]
  },
  {
   "cell_type": "code",
   "execution_count": null,
   "metadata": {},
   "outputs": [],
   "source": []
  }
 ],
 "metadata": {
  "kernelspec": {
   "display_name": "yp-data",
   "language": "python",
   "name": "yp-data"
  },
  "language_info": {
   "codemirror_mode": {
    "name": "ipython",
    "version": 3
   },
   "file_extension": ".py",
   "mimetype": "text/x-python",
   "name": "python",
   "nbconvert_exporter": "python",
   "pygments_lexer": "ipython3",
   "version": "3.7.7"
  }
 },
 "nbformat": 4,
 "nbformat_minor": 4
}
