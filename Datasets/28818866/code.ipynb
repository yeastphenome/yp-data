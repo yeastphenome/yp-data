{
 "cells": [
  {
   "cell_type": "code",
   "execution_count": 1,
   "metadata": {},
   "outputs": [],
   "source": [
    "%run ../../Utils/yp_utils.py"
   ]
  },
  {
   "cell_type": "markdown",
   "metadata": {},
   "source": [
    "# Initial setup"
   ]
  },
  {
   "cell_type": "code",
   "execution_count": 2,
   "metadata": {},
   "outputs": [],
   "source": [
    "paper_pmid = 28818866\n",
    "paper_name = 'segura_wang_korbel_2017' "
   ]
  },
  {
   "cell_type": "code",
   "execution_count": 3,
   "metadata": {},
   "outputs": [],
   "source": [
    "datasets = pd.read_csv('extras/YeastPhenome_' + str(paper_pmid) + '_datasets_list.txt', sep='\\t', header=None, names=['dataset_id', 'name'])"
   ]
  },
  {
   "cell_type": "code",
   "execution_count": 4,
   "metadata": {},
   "outputs": [],
   "source": [
    "datasets.set_index('dataset_id', inplace=True)"
   ]
  },
  {
   "cell_type": "markdown",
   "metadata": {},
   "source": [
    "# Load & process the data"
   ]
  },
  {
   "cell_type": "code",
   "execution_count": 23,
   "metadata": {},
   "outputs": [],
   "source": [
    "original_data_all = pd.read_excel('raw_data/TableS5.xlsx', sheet_name='Tabelle1', skiprows=2)"
   ]
  },
  {
   "cell_type": "code",
   "execution_count": 24,
   "metadata": {},
   "outputs": [
    {
     "name": "stdout",
     "output_type": "stream",
     "text": [
      "Original data dimensions: 118 x 5\n"
     ]
    }
   ],
   "source": [
    "print('Original data dimensions: %d x %d' % (original_data.shape))"
   ]
  },
  {
   "cell_type": "code",
   "execution_count": 25,
   "metadata": {},
   "outputs": [],
   "source": [
    "drugs = ['Campt','Doxo','HU','MMS']"
   ]
  },
  {
   "cell_type": "code",
   "execution_count": 26,
   "metadata": {},
   "outputs": [
    {
     "name": "stdout",
     "output_type": "stream",
     "text": [
      "            Strain Gene Name  Fold enrich. in Drug  Fold enrich. in YPAD  \\\n",
      "index_input                                                                \n",
      "0            Campt       NaN                   NaN                   NaN   \n",
      "\n",
      "            Function    orf  \n",
      "index_input                  \n",
      "0                NaN  CAMPT  \n",
      "(29, 1)\n",
      "            Strain Gene Name  Fold enrich. in Drug  Fold enrich. in YPAD  \\\n",
      "index_input                                                                \n",
      "30            Doxo       NaN                   NaN                   NaN   \n",
      "\n",
      "            Function  orf  \n",
      "index_input                \n",
      "30               NaN  NaN  \n",
      "(29, 1)\n",
      "            Strain Gene Name  Fold enrich. in Drug  Fold enrich. in YPAD  \\\n",
      "index_input                                                                \n",
      "60              HU       NaN                   NaN                   NaN   \n",
      "\n",
      "            Function  orf  \n",
      "index_input                \n",
      "60               NaN  NaN  \n",
      "(31, 1)\n",
      "            Strain Gene Name  Fold enrich. in Drug  Fold enrich. in YPAD  \\\n",
      "index_input                                                                \n",
      "92             MMS       NaN                   NaN                   NaN   \n",
      "\n",
      "            Function  orf  \n",
      "index_input                \n",
      "92               NaN  NaN  \n",
      "(24, 1)\n"
     ]
    }
   ],
   "source": [
    "original_data_list = []\n",
    "for di, d in enumerate(drugs):\n",
    "    start = original_data_all.loc[original_data_all['Strain'] == drugs[di]].index.values[0]\n",
    "    if di < 3:\n",
    "        stop = original_data_all.loc[original_data_all['Strain'] == drugs[di+1]].index.values[0]\n",
    "    else:\n",
    "        stop = -1\n",
    "    \n",
    "    original_data = original_data_all.iloc[start:stop].copy()\n",
    "    original_data['orf'] = original_data['Strain'].astype(str)\n",
    "    original_data['orf'] = clean_orf(original_data['orf'])\n",
    "    original_data['orf'] = translate_sc(original_data['orf'], to='orf')\n",
    "    t = looks_like_orf(original_data['orf'])\n",
    "    print(original_data.loc[~t,])\n",
    "    original_data = original_data.loc[t,:]\n",
    "    \n",
    "    original_data.set_index('orf', inplace=True)\n",
    "\n",
    "    original_data['data'] = (original_data['Fold enrich. in Drug'] - original_data['Fold enrich. in YPAD'])/original_data['Fold enrich. in YPAD']\n",
    "    original_data = original_data[['data']].copy()\n",
    "    original_data = original_data.groupby(original_data.index).mean()\n",
    "    \n",
    "    print(original_data.shape)\n",
    "    \n",
    "    original_data_list.append(original_data)"
   ]
  },
  {
   "cell_type": "code",
   "execution_count": 27,
   "metadata": {},
   "outputs": [],
   "source": [
    "original_data1, original_data2, original_data3, original_data4 = original_data_list"
   ]
  },
  {
   "cell_type": "code",
   "execution_count": 28,
   "metadata": {},
   "outputs": [],
   "source": [
    "original_data = original_data1.join(original_data2, how='outer', lsuffix='_1', rsuffix='_2')\n",
    "original_data = original_data.join(original_data3, how='outer', lsuffix='', rsuffix='_3')\n",
    "original_data = original_data.join(original_data4, how='outer', lsuffix='', rsuffix='_4')"
   ]
  },
  {
   "cell_type": "code",
   "execution_count": 36,
   "metadata": {},
   "outputs": [],
   "source": [
    "original_data[original_data.isnull()] = 0"
   ]
  },
  {
   "cell_type": "code",
   "execution_count": 37,
   "metadata": {},
   "outputs": [
    {
     "data": {
      "text/plain": [
       "(51, 4)"
      ]
     },
     "execution_count": 37,
     "metadata": {},
     "output_type": "execute_result"
    }
   ],
   "source": [
    "original_data.shape"
   ]
  },
  {
   "cell_type": "code",
   "execution_count": 38,
   "metadata": {},
   "outputs": [
    {
     "data": {
      "text/html": [
       "<div>\n",
       "<style scoped>\n",
       "    .dataframe tbody tr th:only-of-type {\n",
       "        vertical-align: middle;\n",
       "    }\n",
       "\n",
       "    .dataframe tbody tr th {\n",
       "        vertical-align: top;\n",
       "    }\n",
       "\n",
       "    .dataframe thead th {\n",
       "        text-align: right;\n",
       "    }\n",
       "</style>\n",
       "<table border=\"1\" class=\"dataframe\">\n",
       "  <thead>\n",
       "    <tr style=\"text-align: right;\">\n",
       "      <th></th>\n",
       "      <th>data_1</th>\n",
       "      <th>data_2</th>\n",
       "      <th>data</th>\n",
       "      <th>data_4</th>\n",
       "    </tr>\n",
       "    <tr>\n",
       "      <th>orf</th>\n",
       "      <th></th>\n",
       "      <th></th>\n",
       "      <th></th>\n",
       "      <th></th>\n",
       "    </tr>\n",
       "  </thead>\n",
       "  <tbody>\n",
       "    <tr>\n",
       "      <th>YAR042W</th>\n",
       "      <td>1.555556</td>\n",
       "      <td>-0.009009</td>\n",
       "      <td>2.027778</td>\n",
       "      <td>0.090090</td>\n",
       "    </tr>\n",
       "    <tr>\n",
       "      <th>YBL002W</th>\n",
       "      <td>1.459459</td>\n",
       "      <td>2.083333</td>\n",
       "      <td>0.000000</td>\n",
       "      <td>0.000000</td>\n",
       "    </tr>\n",
       "    <tr>\n",
       "      <th>YBR057C</th>\n",
       "      <td>0.700000</td>\n",
       "      <td>1.620000</td>\n",
       "      <td>1.420000</td>\n",
       "      <td>1.000000</td>\n",
       "    </tr>\n",
       "    <tr>\n",
       "      <th>YBR066C</th>\n",
       "      <td>0.846154</td>\n",
       "      <td>1.235294</td>\n",
       "      <td>1.254902</td>\n",
       "      <td>1.388889</td>\n",
       "    </tr>\n",
       "    <tr>\n",
       "      <th>YBR073W</th>\n",
       "      <td>1.115385</td>\n",
       "      <td>1.076923</td>\n",
       "      <td>0.000000</td>\n",
       "      <td>0.000000</td>\n",
       "    </tr>\n",
       "  </tbody>\n",
       "</table>\n",
       "</div>"
      ],
      "text/plain": [
       "           data_1    data_2      data    data_4\n",
       "orf                                            \n",
       "YAR042W  1.555556 -0.009009  2.027778  0.090090\n",
       "YBL002W  1.459459  2.083333  0.000000  0.000000\n",
       "YBR057C  0.700000  1.620000  1.420000  1.000000\n",
       "YBR066C  0.846154  1.235294  1.254902  1.388889\n",
       "YBR073W  1.115385  1.076923  0.000000  0.000000"
      ]
     },
     "execution_count": 38,
     "metadata": {},
     "output_type": "execute_result"
    }
   ],
   "source": [
    "original_data.head()"
   ]
  },
  {
   "cell_type": "code",
   "execution_count": 39,
   "metadata": {},
   "outputs": [],
   "source": [
    "dataset_ids = [16150, 16149, 16147, 16148]"
   ]
  },
  {
   "cell_type": "markdown",
   "metadata": {},
   "source": [
    "# Prepare the final dataset"
   ]
  },
  {
   "cell_type": "code",
   "execution_count": 40,
   "metadata": {},
   "outputs": [],
   "source": [
    "data = original_data.copy()"
   ]
  },
  {
   "cell_type": "code",
   "execution_count": 41,
   "metadata": {},
   "outputs": [],
   "source": [
    "datasets = datasets.reindex(index=dataset_ids)"
   ]
  },
  {
   "cell_type": "code",
   "execution_count": 42,
   "metadata": {},
   "outputs": [],
   "source": [
    "lst = [datasets.index.values, ['value']*datasets.shape[0]]\n",
    "tuples = list(zip(*lst))\n",
    "idx = pd.MultiIndex.from_tuples(tuples, names=['dataset_id','data_type'])\n",
    "data.columns = idx"
   ]
  },
  {
   "cell_type": "code",
   "execution_count": 43,
   "metadata": {},
   "outputs": [
    {
     "data": {
      "text/html": [
       "<div>\n",
       "<style scoped>\n",
       "    .dataframe tbody tr th:only-of-type {\n",
       "        vertical-align: middle;\n",
       "    }\n",
       "\n",
       "    .dataframe tbody tr th {\n",
       "        vertical-align: top;\n",
       "    }\n",
       "\n",
       "    .dataframe thead tr th {\n",
       "        text-align: left;\n",
       "    }\n",
       "\n",
       "    .dataframe thead tr:last-of-type th {\n",
       "        text-align: right;\n",
       "    }\n",
       "</style>\n",
       "<table border=\"1\" class=\"dataframe\">\n",
       "  <thead>\n",
       "    <tr>\n",
       "      <th>dataset_id</th>\n",
       "      <th>16150</th>\n",
       "      <th>16149</th>\n",
       "      <th>16147</th>\n",
       "      <th>16148</th>\n",
       "    </tr>\n",
       "    <tr>\n",
       "      <th>data_type</th>\n",
       "      <th>value</th>\n",
       "      <th>value</th>\n",
       "      <th>value</th>\n",
       "      <th>value</th>\n",
       "    </tr>\n",
       "    <tr>\n",
       "      <th>orf</th>\n",
       "      <th></th>\n",
       "      <th></th>\n",
       "      <th></th>\n",
       "      <th></th>\n",
       "    </tr>\n",
       "  </thead>\n",
       "  <tbody>\n",
       "    <tr>\n",
       "      <th>YAR042W</th>\n",
       "      <td>1.555556</td>\n",
       "      <td>-0.009009</td>\n",
       "      <td>2.027778</td>\n",
       "      <td>0.090090</td>\n",
       "    </tr>\n",
       "    <tr>\n",
       "      <th>YBL002W</th>\n",
       "      <td>1.459459</td>\n",
       "      <td>2.083333</td>\n",
       "      <td>0.000000</td>\n",
       "      <td>0.000000</td>\n",
       "    </tr>\n",
       "    <tr>\n",
       "      <th>YBR057C</th>\n",
       "      <td>0.700000</td>\n",
       "      <td>1.620000</td>\n",
       "      <td>1.420000</td>\n",
       "      <td>1.000000</td>\n",
       "    </tr>\n",
       "    <tr>\n",
       "      <th>YBR066C</th>\n",
       "      <td>0.846154</td>\n",
       "      <td>1.235294</td>\n",
       "      <td>1.254902</td>\n",
       "      <td>1.388889</td>\n",
       "    </tr>\n",
       "    <tr>\n",
       "      <th>YBR073W</th>\n",
       "      <td>1.115385</td>\n",
       "      <td>1.076923</td>\n",
       "      <td>0.000000</td>\n",
       "      <td>0.000000</td>\n",
       "    </tr>\n",
       "  </tbody>\n",
       "</table>\n",
       "</div>"
      ],
      "text/plain": [
       "dataset_id     16150     16149     16147     16148\n",
       "data_type      value     value     value     value\n",
       "orf                                               \n",
       "YAR042W     1.555556 -0.009009  2.027778  0.090090\n",
       "YBL002W     1.459459  2.083333  0.000000  0.000000\n",
       "YBR057C     0.700000  1.620000  1.420000  1.000000\n",
       "YBR066C     0.846154  1.235294  1.254902  1.388889\n",
       "YBR073W     1.115385  1.076923  0.000000  0.000000"
      ]
     },
     "execution_count": 43,
     "metadata": {},
     "output_type": "execute_result"
    }
   ],
   "source": [
    "data.head()"
   ]
  },
  {
   "cell_type": "markdown",
   "metadata": {},
   "source": [
    "## Subset to the genes currently in SGD"
   ]
  },
  {
   "cell_type": "code",
   "execution_count": 44,
   "metadata": {},
   "outputs": [
    {
     "name": "stdout",
     "output_type": "stream",
     "text": [
      "ORFs missing from SGD: 0\n"
     ]
    }
   ],
   "source": [
    "genes = pd.read_csv(path_to_genes, sep='\\t', index_col='id')\n",
    "genes = genes.reset_index().set_index('systematic_name')\n",
    "gene_ids = genes.reindex(index=data.index.values)['id'].values\n",
    "num_missing = np.sum(np.isnan(gene_ids))\n",
    "print('ORFs missing from SGD: %d' % num_missing)"
   ]
  },
  {
   "cell_type": "code",
   "execution_count": 45,
   "metadata": {},
   "outputs": [],
   "source": [
    "data['gene_id'] = gene_ids\n",
    "data = data.loc[data['gene_id'].notnull()]\n",
    "data['gene_id'] = data['gene_id'].astype(int)\n",
    "data = data.reset_index().set_index(['gene_id','orf'])"
   ]
  },
  {
   "cell_type": "code",
   "execution_count": 46,
   "metadata": {},
   "outputs": [
    {
     "data": {
      "text/html": [
       "<div>\n",
       "<style scoped>\n",
       "    .dataframe tbody tr th:only-of-type {\n",
       "        vertical-align: middle;\n",
       "    }\n",
       "\n",
       "    .dataframe tbody tr th {\n",
       "        vertical-align: top;\n",
       "    }\n",
       "\n",
       "    .dataframe thead tr th {\n",
       "        text-align: left;\n",
       "    }\n",
       "\n",
       "    .dataframe thead tr:last-of-type th {\n",
       "        text-align: right;\n",
       "    }\n",
       "</style>\n",
       "<table border=\"1\" class=\"dataframe\">\n",
       "  <thead>\n",
       "    <tr>\n",
       "      <th></th>\n",
       "      <th>dataset_id</th>\n",
       "      <th>16150</th>\n",
       "      <th>16149</th>\n",
       "      <th>16147</th>\n",
       "      <th>16148</th>\n",
       "    </tr>\n",
       "    <tr>\n",
       "      <th></th>\n",
       "      <th>data_type</th>\n",
       "      <th>value</th>\n",
       "      <th>value</th>\n",
       "      <th>value</th>\n",
       "      <th>value</th>\n",
       "    </tr>\n",
       "    <tr>\n",
       "      <th>gene_id</th>\n",
       "      <th>orf</th>\n",
       "      <th></th>\n",
       "      <th></th>\n",
       "      <th></th>\n",
       "      <th></th>\n",
       "    </tr>\n",
       "  </thead>\n",
       "  <tbody>\n",
       "    <tr>\n",
       "      <th>78</th>\n",
       "      <th>YAR042W</th>\n",
       "      <td>1.555556</td>\n",
       "      <td>-0.009009</td>\n",
       "      <td>2.027778</td>\n",
       "      <td>0.090090</td>\n",
       "    </tr>\n",
       "    <tr>\n",
       "      <th>90</th>\n",
       "      <th>YBL002W</th>\n",
       "      <td>1.459459</td>\n",
       "      <td>2.083333</td>\n",
       "      <td>0.000000</td>\n",
       "      <td>0.000000</td>\n",
       "    </tr>\n",
       "    <tr>\n",
       "      <th>253</th>\n",
       "      <th>YBR057C</th>\n",
       "      <td>0.700000</td>\n",
       "      <td>1.620000</td>\n",
       "      <td>1.420000</td>\n",
       "      <td>1.000000</td>\n",
       "    </tr>\n",
       "    <tr>\n",
       "      <th>262</th>\n",
       "      <th>YBR066C</th>\n",
       "      <td>0.846154</td>\n",
       "      <td>1.235294</td>\n",
       "      <td>1.254902</td>\n",
       "      <td>1.388889</td>\n",
       "    </tr>\n",
       "    <tr>\n",
       "      <th>269</th>\n",
       "      <th>YBR073W</th>\n",
       "      <td>1.115385</td>\n",
       "      <td>1.076923</td>\n",
       "      <td>0.000000</td>\n",
       "      <td>0.000000</td>\n",
       "    </tr>\n",
       "  </tbody>\n",
       "</table>\n",
       "</div>"
      ],
      "text/plain": [
       "dataset_id          16150     16149     16147     16148\n",
       "data_type           value     value     value     value\n",
       "gene_id orf                                            \n",
       "78      YAR042W  1.555556 -0.009009  2.027778  0.090090\n",
       "90      YBL002W  1.459459  2.083333  0.000000  0.000000\n",
       "253     YBR057C  0.700000  1.620000  1.420000  1.000000\n",
       "262     YBR066C  0.846154  1.235294  1.254902  1.388889\n",
       "269     YBR073W  1.115385  1.076923  0.000000  0.000000"
      ]
     },
     "execution_count": 46,
     "metadata": {},
     "output_type": "execute_result"
    }
   ],
   "source": [
    "data.head()"
   ]
  },
  {
   "cell_type": "markdown",
   "metadata": {},
   "source": [
    "# Normalize"
   ]
  },
  {
   "cell_type": "code",
   "execution_count": 47,
   "metadata": {},
   "outputs": [],
   "source": [
    "data_norm = normalize_phenotypic_scores(data, has_tested=False)"
   ]
  },
  {
   "cell_type": "code",
   "execution_count": 48,
   "metadata": {},
   "outputs": [],
   "source": [
    "# Assign proper column names\n",
    "lst = [datasets.index.values, ['valuez']*datasets.shape[0]]\n",
    "tuples = list(zip(*lst))\n",
    "idx = pd.MultiIndex.from_tuples(tuples, names=['dataset_id','data_type'])\n",
    "data_norm.columns = idx"
   ]
  },
  {
   "cell_type": "code",
   "execution_count": 49,
   "metadata": {},
   "outputs": [],
   "source": [
    "data_norm[data.isnull()] = np.nan\n",
    "data_all = data.join(data_norm)"
   ]
  },
  {
   "cell_type": "code",
   "execution_count": 50,
   "metadata": {},
   "outputs": [
    {
     "data": {
      "text/html": [
       "<div>\n",
       "<style scoped>\n",
       "    .dataframe tbody tr th:only-of-type {\n",
       "        vertical-align: middle;\n",
       "    }\n",
       "\n",
       "    .dataframe tbody tr th {\n",
       "        vertical-align: top;\n",
       "    }\n",
       "\n",
       "    .dataframe thead tr th {\n",
       "        text-align: left;\n",
       "    }\n",
       "\n",
       "    .dataframe thead tr:last-of-type th {\n",
       "        text-align: right;\n",
       "    }\n",
       "</style>\n",
       "<table border=\"1\" class=\"dataframe\">\n",
       "  <thead>\n",
       "    <tr>\n",
       "      <th></th>\n",
       "      <th>dataset_id</th>\n",
       "      <th>16150</th>\n",
       "      <th>16149</th>\n",
       "      <th>16147</th>\n",
       "      <th>16148</th>\n",
       "      <th>16150</th>\n",
       "      <th>16149</th>\n",
       "      <th>16147</th>\n",
       "      <th>16148</th>\n",
       "    </tr>\n",
       "    <tr>\n",
       "      <th></th>\n",
       "      <th>data_type</th>\n",
       "      <th>value</th>\n",
       "      <th>value</th>\n",
       "      <th>value</th>\n",
       "      <th>value</th>\n",
       "      <th>valuez</th>\n",
       "      <th>valuez</th>\n",
       "      <th>valuez</th>\n",
       "      <th>valuez</th>\n",
       "    </tr>\n",
       "    <tr>\n",
       "      <th>gene_id</th>\n",
       "      <th>orf</th>\n",
       "      <th></th>\n",
       "      <th></th>\n",
       "      <th></th>\n",
       "      <th></th>\n",
       "      <th></th>\n",
       "      <th></th>\n",
       "      <th></th>\n",
       "      <th></th>\n",
       "    </tr>\n",
       "  </thead>\n",
       "  <tbody>\n",
       "    <tr>\n",
       "      <th>78</th>\n",
       "      <th>YAR042W</th>\n",
       "      <td>1.555556</td>\n",
       "      <td>-0.009009</td>\n",
       "      <td>2.027778</td>\n",
       "      <td>0.090090</td>\n",
       "      <td>33.067189</td>\n",
       "      <td>0.000000</td>\n",
       "      <td>34.820718</td>\n",
       "      <td>2.200234</td>\n",
       "    </tr>\n",
       "    <tr>\n",
       "      <th>90</th>\n",
       "      <th>YBL002W</th>\n",
       "      <td>1.459459</td>\n",
       "      <td>2.083333</td>\n",
       "      <td>0.000000</td>\n",
       "      <td>0.000000</td>\n",
       "      <td>31.027796</td>\n",
       "      <td>30.002126</td>\n",
       "      <td>0.000000</td>\n",
       "      <td>0.000000</td>\n",
       "    </tr>\n",
       "    <tr>\n",
       "      <th>253</th>\n",
       "      <th>YBR057C</th>\n",
       "      <td>0.700000</td>\n",
       "      <td>1.620000</td>\n",
       "      <td>1.420000</td>\n",
       "      <td>1.000000</td>\n",
       "      <td>14.910217</td>\n",
       "      <td>23.358383</td>\n",
       "      <td>24.384042</td>\n",
       "      <td>24.422602</td>\n",
       "    </tr>\n",
       "    <tr>\n",
       "      <th>262</th>\n",
       "      <th>YBR066C</th>\n",
       "      <td>0.846154</td>\n",
       "      <td>1.235294</td>\n",
       "      <td>1.254902</td>\n",
       "      <td>1.388889</td>\n",
       "      <td>18.011957</td>\n",
       "      <td>17.842080</td>\n",
       "      <td>21.549002</td>\n",
       "      <td>33.920280</td>\n",
       "    </tr>\n",
       "    <tr>\n",
       "      <th>269</th>\n",
       "      <th>YBR073W</th>\n",
       "      <td>1.115385</td>\n",
       "      <td>1.076923</td>\n",
       "      <td>0.000000</td>\n",
       "      <td>0.000000</td>\n",
       "      <td>23.725690</td>\n",
       "      <td>15.571195</td>\n",
       "      <td>0.000000</td>\n",
       "      <td>0.000000</td>\n",
       "    </tr>\n",
       "  </tbody>\n",
       "</table>\n",
       "</div>"
      ],
      "text/plain": [
       "dataset_id          16150     16149     16147     16148      16150      16149  \\\n",
       "data_type           value     value     value     value     valuez     valuez   \n",
       "gene_id orf                                                                     \n",
       "78      YAR042W  1.555556 -0.009009  2.027778  0.090090  33.067189   0.000000   \n",
       "90      YBL002W  1.459459  2.083333  0.000000  0.000000  31.027796  30.002126   \n",
       "253     YBR057C  0.700000  1.620000  1.420000  1.000000  14.910217  23.358383   \n",
       "262     YBR066C  0.846154  1.235294  1.254902  1.388889  18.011957  17.842080   \n",
       "269     YBR073W  1.115385  1.076923  0.000000  0.000000  23.725690  15.571195   \n",
       "\n",
       "dataset_id           16147      16148  \n",
       "data_type           valuez     valuez  \n",
       "gene_id orf                            \n",
       "78      YAR042W  34.820718   2.200234  \n",
       "90      YBL002W   0.000000   0.000000  \n",
       "253     YBR057C  24.384042  24.422602  \n",
       "262     YBR066C  21.549002  33.920280  \n",
       "269     YBR073W   0.000000   0.000000  "
      ]
     },
     "execution_count": 50,
     "metadata": {},
     "output_type": "execute_result"
    }
   ],
   "source": [
    "data_all.head()\n"
   ]
  },
  {
   "cell_type": "markdown",
   "metadata": {},
   "source": [
    "# Print out"
   ]
  },
  {
   "cell_type": "code",
   "execution_count": 51,
   "metadata": {},
   "outputs": [],
   "source": [
    "for f in ['value','valuez']:\n",
    "    df = data_all.xs(f, level='data_type', axis=1).copy()\n",
    "    df.columns = datasets['name'].values\n",
    "    df = df.droplevel('gene_id', axis=0)\n",
    "    df.to_csv(paper_name + '_' + f + '.txt', sep='\\t')"
   ]
  },
  {
   "cell_type": "markdown",
   "metadata": {},
   "source": [
    "# Save to DB"
   ]
  },
  {
   "cell_type": "code",
   "execution_count": 52,
   "metadata": {},
   "outputs": [],
   "source": [
    "from IO.save_data_to_db3 import *"
   ]
  },
  {
   "cell_type": "code",
   "execution_count": 53,
   "metadata": {},
   "outputs": [
    {
     "name": "stderr",
     "output_type": "stream",
     "text": [
      "  0%|          | 0/4 [00:00<?, ?it/s]"
     ]
    },
    {
     "name": "stdout",
     "output_type": "stream",
     "text": [
      "Deleting all datasets for PMID 28818866...\n",
      "Inserting the new data...\n"
     ]
    },
    {
     "name": "stderr",
     "output_type": "stream",
     "text": [
      "100%|██████████| 4/4 [00:00<00:00,  7.03it/s]"
     ]
    },
    {
     "name": "stdout",
     "output_type": "stream",
     "text": [
      "Updating the data_modified_on field...\n"
     ]
    },
    {
     "name": "stderr",
     "output_type": "stream",
     "text": [
      "\n"
     ]
    }
   ],
   "source": [
    "save_data_to_db(data_all, paper_pmid)"
   ]
  },
  {
   "cell_type": "code",
   "execution_count": null,
   "metadata": {},
   "outputs": [],
   "source": []
  }
 ],
 "metadata": {
  "kernelspec": {
   "display_name": "yp-data",
   "language": "python",
   "name": "yp-data"
  },
  "language_info": {
   "codemirror_mode": {
    "name": "ipython",
    "version": 3
   },
   "file_extension": ".py",
   "mimetype": "text/x-python",
   "name": "python",
   "nbconvert_exporter": "python",
   "pygments_lexer": "ipython3",
   "version": "3.7.7"
  }
 },
 "nbformat": 4,
 "nbformat_minor": 4
}
