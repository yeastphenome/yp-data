{
 "cells": [
  {
   "cell_type": "code",
   "execution_count": 1,
   "metadata": {},
   "outputs": [],
   "source": [
    "%run ../../Utils/yp_utils.py"
   ]
  },
  {
   "cell_type": "markdown",
   "metadata": {},
   "source": [
    "# Initial setup"
   ]
  },
  {
   "cell_type": "code",
   "execution_count": 2,
   "metadata": {},
   "outputs": [],
   "source": [
    "paper_pmid = 34645498\n",
    "paper_name = 'liu_li_2021' "
   ]
  },
  {
   "cell_type": "code",
   "execution_count": 3,
   "metadata": {},
   "outputs": [],
   "source": [
    "datasets = pd.read_csv('extras/YeastPhenome_' + str(paper_pmid) + '_datasets_list.txt', sep='\\t', header=None, names=['dataset_id', 'name'])"
   ]
  },
  {
   "cell_type": "code",
   "execution_count": 4,
   "metadata": {},
   "outputs": [],
   "source": [
    "datasets.set_index('dataset_id', inplace=True)"
   ]
  },
  {
   "cell_type": "markdown",
   "metadata": {},
   "source": [
    "# Load & process the data"
   ]
  },
  {
   "cell_type": "code",
   "execution_count": 8,
   "metadata": {},
   "outputs": [],
   "source": [
    "original_data = pd.read_excel('raw_data/Sc KO Screen all 1 - IsoBuOH vs Ctrl.xlsx', sheet_name='工作表1', skiprows=1)"
   ]
  },
  {
   "cell_type": "code",
   "execution_count": 9,
   "metadata": {},
   "outputs": [
    {
     "name": "stdout",
     "output_type": "stream",
     "text": [
      "Original data dimensions: 5376 x 26\n"
     ]
    }
   ],
   "source": [
    "print('Original data dimensions: %d x %d' % (original_data.shape))"
   ]
  },
  {
   "cell_type": "code",
   "execution_count": 10,
   "metadata": {},
   "outputs": [
    {
     "data": {
      "text/html": [
       "<div>\n",
       "<style scoped>\n",
       "    .dataframe tbody tr th:only-of-type {\n",
       "        vertical-align: middle;\n",
       "    }\n",
       "\n",
       "    .dataframe tbody tr th {\n",
       "        vertical-align: top;\n",
       "    }\n",
       "\n",
       "    .dataframe thead th {\n",
       "        text-align: right;\n",
       "    }\n",
       "</style>\n",
       "<table border=\"1\" class=\"dataframe\">\n",
       "  <thead>\n",
       "    <tr style=\"text-align: right;\">\n",
       "      <th></th>\n",
       "      <th>ID Column</th>\n",
       "      <th>Plate #</th>\n",
       "      <th>Row</th>\n",
       "      <th>Column</th>\n",
       "      <th>P-Value</th>\n",
       "      <th>Z-Score</th>\n",
       "      <th>Normalized Ratio (Comparer::Exp)</th>\n",
       "      <th>Calculated Log Ratio (Comparer::Exp)</th>\n",
       "      <th>Average Normalized Size</th>\n",
       "      <th>Normalized Colony Size 1</th>\n",
       "      <th>...</th>\n",
       "      <th>Colony Circularity 4</th>\n",
       "      <th>Average Normalized Size.1</th>\n",
       "      <th>Normalized Colony Size 1.1</th>\n",
       "      <th>Normalized Colony Size 2.1</th>\n",
       "      <th>Normalized Colony Size 3.1</th>\n",
       "      <th>Normalized Colony Size 4.1</th>\n",
       "      <th>Colony Circularity 1.1</th>\n",
       "      <th>Colony Circularity 2.1</th>\n",
       "      <th>Colony Circularity 3.1</th>\n",
       "      <th>Colony Circularity 4.1</th>\n",
       "    </tr>\n",
       "  </thead>\n",
       "  <tbody>\n",
       "    <tr>\n",
       "      <th>0</th>\n",
       "      <td>NC</td>\n",
       "      <td>[1]</td>\n",
       "      <td>A</td>\n",
       "      <td>1</td>\n",
       "      <td>0.86270</td>\n",
       "      <td>-0.17294</td>\n",
       "      <td>0.10::0.10</td>\n",
       "      <td>0.00000</td>\n",
       "      <td>dead</td>\n",
       "      <td>0</td>\n",
       "      <td>...</td>\n",
       "      <td>0</td>\n",
       "      <td>0.0000</td>\n",
       "      <td>0</td>\n",
       "      <td>0</td>\n",
       "      <td>0</td>\n",
       "      <td>0</td>\n",
       "      <td>0</td>\n",
       "      <td>0</td>\n",
       "      <td>0</td>\n",
       "      <td>0</td>\n",
       "    </tr>\n",
       "    <tr>\n",
       "      <th>1</th>\n",
       "      <td>YLR119W</td>\n",
       "      <td>[1]</td>\n",
       "      <td>B</td>\n",
       "      <td>1</td>\n",
       "      <td>0.92918</td>\n",
       "      <td>-0.08889</td>\n",
       "      <td>1.53::1.50</td>\n",
       "      <td>0.01690</td>\n",
       "      <td>1.52557</td>\n",
       "      <td>1.69</td>\n",
       "      <td>...</td>\n",
       "      <td>0.9397</td>\n",
       "      <td>1.5000</td>\n",
       "      <td>1.65</td>\n",
       "      <td>1.44</td>\n",
       "      <td>1.55</td>\n",
       "      <td>1.36</td>\n",
       "      <td>0.9799</td>\n",
       "      <td>0.9629</td>\n",
       "      <td>0.9782</td>\n",
       "      <td>0.9705</td>\n",
       "    </tr>\n",
       "    <tr>\n",
       "      <th>2</th>\n",
       "      <td>YAL053W</td>\n",
       "      <td>[1]</td>\n",
       "      <td>C</td>\n",
       "      <td>1</td>\n",
       "      <td>0.57726</td>\n",
       "      <td>-0.55739</td>\n",
       "      <td>1.35::1.46</td>\n",
       "      <td>-0.07731</td>\n",
       "      <td>1.34943</td>\n",
       "      <td>1.45</td>\n",
       "      <td>...</td>\n",
       "      <td>0.9545</td>\n",
       "      <td>1.4575</td>\n",
       "      <td>1.64</td>\n",
       "      <td>1.28</td>\n",
       "      <td>1.54</td>\n",
       "      <td>1.37</td>\n",
       "      <td>0.9737</td>\n",
       "      <td>0.9562</td>\n",
       "      <td>0.9608</td>\n",
       "      <td>0.978</td>\n",
       "    </tr>\n",
       "    <tr>\n",
       "      <th>3</th>\n",
       "      <td>YML084W</td>\n",
       "      <td>[1]</td>\n",
       "      <td>D</td>\n",
       "      <td>1</td>\n",
       "      <td>0.76266</td>\n",
       "      <td>-0.30200</td>\n",
       "      <td>1.29::1.32</td>\n",
       "      <td>-0.02595</td>\n",
       "      <td>1.28977</td>\n",
       "      <td>1.39</td>\n",
       "      <td>...</td>\n",
       "      <td>0.9113</td>\n",
       "      <td>1.3225</td>\n",
       "      <td>1.41</td>\n",
       "      <td>1.25</td>\n",
       "      <td>1.44</td>\n",
       "      <td>1.19</td>\n",
       "      <td>0.9418</td>\n",
       "      <td>0.9606</td>\n",
       "      <td>0.9629</td>\n",
       "      <td>0.9638</td>\n",
       "    </tr>\n",
       "    <tr>\n",
       "      <th>4</th>\n",
       "      <td>YAL036C</td>\n",
       "      <td>[1]</td>\n",
       "      <td>E</td>\n",
       "      <td>1</td>\n",
       "      <td>0.93704</td>\n",
       "      <td>-0.07898</td>\n",
       "      <td>1.29::1.27</td>\n",
       "      <td>0.01889</td>\n",
       "      <td>1.29261</td>\n",
       "      <td>1.36</td>\n",
       "      <td>...</td>\n",
       "      <td>0.872</td>\n",
       "      <td>1.2675</td>\n",
       "      <td>1.26</td>\n",
       "      <td>1.2</td>\n",
       "      <td>1.43</td>\n",
       "      <td>1.18</td>\n",
       "      <td>0.9807</td>\n",
       "      <td>0.9899</td>\n",
       "      <td>0.9829</td>\n",
       "      <td>0.9433</td>\n",
       "    </tr>\n",
       "  </tbody>\n",
       "</table>\n",
       "<p>5 rows × 26 columns</p>\n",
       "</div>"
      ],
      "text/plain": [
       "  ID Column Plate # Row  Column  P-Value  Z-Score  \\\n",
       "0        NC     [1]   A       1  0.86270 -0.17294   \n",
       "1   YLR119W     [1]   B       1  0.92918 -0.08889   \n",
       "2   YAL053W     [1]   C       1  0.57726 -0.55739   \n",
       "3   YML084W     [1]   D       1  0.76266 -0.30200   \n",
       "4   YAL036C     [1]   E       1  0.93704 -0.07898   \n",
       "\n",
       "  Normalized Ratio (Comparer::Exp)  Calculated Log Ratio (Comparer::Exp)  \\\n",
       "0                       0.10::0.10                               0.00000   \n",
       "1                       1.53::1.50                               0.01690   \n",
       "2                       1.35::1.46                              -0.07731   \n",
       "3                       1.29::1.32                              -0.02595   \n",
       "4                       1.29::1.27                               0.01889   \n",
       "\n",
       "  Average Normalized Size Normalized Colony Size 1  ... Colony Circularity 4  \\\n",
       "0                    dead                        0  ...                    0   \n",
       "1                 1.52557                     1.69  ...               0.9397   \n",
       "2                 1.34943                     1.45  ...               0.9545   \n",
       "3                 1.28977                     1.39  ...               0.9113   \n",
       "4                 1.29261                     1.36  ...                0.872   \n",
       "\n",
       "  Average Normalized Size.1 Normalized Colony Size 1.1  \\\n",
       "0                    0.0000                          0   \n",
       "1                    1.5000                       1.65   \n",
       "2                    1.4575                       1.64   \n",
       "3                    1.3225                       1.41   \n",
       "4                    1.2675                       1.26   \n",
       "\n",
       "  Normalized Colony Size 2.1 Normalized Colony Size 3.1  \\\n",
       "0                          0                          0   \n",
       "1                       1.44                       1.55   \n",
       "2                       1.28                       1.54   \n",
       "3                       1.25                       1.44   \n",
       "4                        1.2                       1.43   \n",
       "\n",
       "  Normalized Colony Size 4.1 Colony Circularity 1.1  Colony Circularity 2.1  \\\n",
       "0                          0                      0                       0   \n",
       "1                       1.36                 0.9799                  0.9629   \n",
       "2                       1.37                 0.9737                  0.9562   \n",
       "3                       1.19                 0.9418                  0.9606   \n",
       "4                       1.18                 0.9807                  0.9899   \n",
       "\n",
       "  Colony Circularity 3.1 Colony Circularity 4.1  \n",
       "0                      0                      0  \n",
       "1                 0.9782                 0.9705  \n",
       "2                 0.9608                  0.978  \n",
       "3                 0.9629                 0.9638  \n",
       "4                 0.9829                 0.9433  \n",
       "\n",
       "[5 rows x 26 columns]"
      ]
     },
     "execution_count": 10,
     "metadata": {},
     "output_type": "execute_result"
    }
   ],
   "source": [
    "original_data.head()"
   ]
  },
  {
   "cell_type": "code",
   "execution_count": 21,
   "metadata": {},
   "outputs": [],
   "source": [
    "original_data['orf'] = original_data['ID Column'].astype(str)"
   ]
  },
  {
   "cell_type": "code",
   "execution_count": 22,
   "metadata": {},
   "outputs": [],
   "source": [
    "# Eliminate all white spaces & capitalize\n",
    "original_data['orf'] = clean_orf(original_data['orf'])"
   ]
  },
  {
   "cell_type": "code",
   "execution_count": 23,
   "metadata": {},
   "outputs": [],
   "source": [
    "original_data.loc[original_data['orf']=='YLR287-A','orf'] = 'YLR287C-A'"
   ]
  },
  {
   "cell_type": "code",
   "execution_count": 24,
   "metadata": {},
   "outputs": [],
   "source": [
    "# Translate to ORFs \n",
    "original_data['orf'] = translate_sc(original_data['orf'], to='orf')"
   ]
  },
  {
   "cell_type": "code",
   "execution_count": 26,
   "metadata": {},
   "outputs": [
    {
     "name": "stdout",
     "output_type": "stream",
     "text": [
      "            ID Column Plate # Row  Column  P-Value  Z-Score  \\\n",
      "index_input                                                   \n",
      "0                  NC     [1]   A       1  0.86270 -0.17294   \n",
      "46                 NC     [1]   O       3      NaN      NaN   \n",
      "47                 NC     [1]   P       3      NaN      NaN   \n",
      "48                 NC     [1]   A       4  0.86270 -0.17294   \n",
      "62                 NC     [1]   O       4      NaN      NaN   \n",
      "...               ...     ...  ..     ...      ...      ...   \n",
      "5370               NC    [14]   K      24  0.75322 -0.31441   \n",
      "5372               NC    [14]   M      24  0.75322 -0.31441   \n",
      "5373               NC    [14]   N      24  0.75322 -0.31441   \n",
      "5374               NC    [14]   O      24  0.75322 -0.31441   \n",
      "5375               NC    [14]   P      24      NaN      NaN   \n",
      "\n",
      "            Normalized Ratio (Comparer::Exp)  \\\n",
      "index_input                                    \n",
      "0                                 0.10::0.10   \n",
      "46              excluded-0.00::0.00-excluded   \n",
      "47              excluded-0.00::0.00-excluded   \n",
      "48                                0.10::0.10   \n",
      "62              excluded-0.00::0.00-excluded   \n",
      "...                                      ...   \n",
      "5370                              0.10::0.10   \n",
      "5372                              0.10::0.10   \n",
      "5373                              0.10::0.10   \n",
      "5374                              0.10::0.10   \n",
      "5375            excluded-0.00::0.00-excluded   \n",
      "\n",
      "             Calculated Log Ratio (Comparer::Exp) Average Normalized Size  \\\n",
      "index_input                                                                 \n",
      "0                                             0.0                    dead   \n",
      "46                                            0.1                      ^0   \n",
      "47                                            0.1                      ^0   \n",
      "48                                            0.0                    dead   \n",
      "62                                            0.1                      ^0   \n",
      "...                                           ...                     ...   \n",
      "5370                                          0.0                    dead   \n",
      "5372                                          0.0                    dead   \n",
      "5373                                          0.0                    dead   \n",
      "5374                                          0.0                    dead   \n",
      "5375                                          0.1                      ^0   \n",
      "\n",
      "            Normalized Colony Size 1  ... Average Normalized Size.1  \\\n",
      "index_input                           ...                             \n",
      "0                                  0  ...                       0.0   \n",
      "46                               0*^  ...                       NaN   \n",
      "47                               0*^  ...                       NaN   \n",
      "48                                 0  ...                       0.0   \n",
      "62                               0*^  ...                       NaN   \n",
      "...                              ...  ...                       ...   \n",
      "5370                               0  ...                       0.0   \n",
      "5372                               0  ...                       0.0   \n",
      "5373                               0  ...                       0.0   \n",
      "5374                              0*  ...                       0.0   \n",
      "5375                             0*^  ...                       NaN   \n",
      "\n",
      "            Normalized Colony Size 1.1 Normalized Colony Size 2.1  \\\n",
      "index_input                                                         \n",
      "0                                    0                          0   \n",
      "46                                 0*^                        0*^   \n",
      "47                                 0*^                        0*^   \n",
      "48                                   0                          0   \n",
      "62                                 0*^                        0*^   \n",
      "...                                ...                        ...   \n",
      "5370                                 0                          0   \n",
      "5372                                 0                          0   \n",
      "5373                                 0                          0   \n",
      "5374                                0*                          0   \n",
      "5375                               0*^                        0*^   \n",
      "\n",
      "            Normalized Colony Size 3.1 Normalized Colony Size 4.1  \\\n",
      "index_input                                                         \n",
      "0                                    0                          0   \n",
      "46                                 0*^                        0*^   \n",
      "47                                 0*^                        0*^   \n",
      "48                                   0                          0   \n",
      "62                                 0*^                        0*^   \n",
      "...                                ...                        ...   \n",
      "5370                                 0                          0   \n",
      "5372                                 0                          0   \n",
      "5373                                 0                          0   \n",
      "5374                                0*                         0*   \n",
      "5375                               0*^                        0*^   \n",
      "\n",
      "            Colony Circularity 1.1 Colony Circularity 2.1  \\\n",
      "index_input                                                 \n",
      "0                                0                      0   \n",
      "46                              0*                     0*   \n",
      "47                              0*                     0*   \n",
      "48                               0                      0   \n",
      "62                              0*                     0*   \n",
      "...                            ...                    ...   \n",
      "5370                             0                      0   \n",
      "5372                             0                      0   \n",
      "5373                             0                      0   \n",
      "5374                            0*                      0   \n",
      "5375                            0*                     0*   \n",
      "\n",
      "             Colony Circularity 3.1 Colony Circularity 4.1 orf  \n",
      "index_input                                                     \n",
      "0                                 0                      0  NC  \n",
      "46                               0*                     0*  NC  \n",
      "47                               0*                     0*  NC  \n",
      "48                                0                      0  NC  \n",
      "62                               0*                     0*  NC  \n",
      "...                             ...                    ...  ..  \n",
      "5370                              0                      0  NC  \n",
      "5372                              0                      0  NC  \n",
      "5373                              0                      0  NC  \n",
      "5374                             0*                     0*  NC  \n",
      "5375                             0*                     0*  NC  \n",
      "\n",
      "[371 rows x 27 columns]\n"
     ]
    }
   ],
   "source": [
    "# Make sure everything translated ok\n",
    "t = looks_like_orf(original_data['orf'])\n",
    "print(original_data.loc[~t,])"
   ]
  },
  {
   "cell_type": "code",
   "execution_count": 28,
   "metadata": {},
   "outputs": [],
   "source": [
    "original_data = original_data.loc[t,:]"
   ]
  },
  {
   "cell_type": "code",
   "execution_count": 30,
   "metadata": {},
   "outputs": [],
   "source": [
    "original_data['data1'] = pd.to_numeric(original_data['Average Normalized Size'], errors='coerce')\n",
    "original_data['data2'] = pd.to_numeric(original_data['Average Normalized Size.1'], errors='coerce')"
   ]
  },
  {
   "cell_type": "code",
   "execution_count": 31,
   "metadata": {},
   "outputs": [],
   "source": [
    "original_data['data'] = original_data['data2'] / original_data['data1']"
   ]
  },
  {
   "cell_type": "code",
   "execution_count": 32,
   "metadata": {},
   "outputs": [],
   "source": [
    "original_data.set_index('orf', inplace=True)"
   ]
  },
  {
   "cell_type": "code",
   "execution_count": 33,
   "metadata": {},
   "outputs": [],
   "source": [
    "original_data = original_data[['data']].copy()"
   ]
  },
  {
   "cell_type": "code",
   "execution_count": 34,
   "metadata": {},
   "outputs": [],
   "source": [
    "original_data = original_data.groupby(original_data.index).mean()"
   ]
  },
  {
   "cell_type": "code",
   "execution_count": 35,
   "metadata": {},
   "outputs": [
    {
     "data": {
      "text/plain": [
       "(4903, 1)"
      ]
     },
     "execution_count": 35,
     "metadata": {},
     "output_type": "execute_result"
    }
   ],
   "source": [
    "original_data.shape"
   ]
  },
  {
   "cell_type": "code",
   "execution_count": 36,
   "metadata": {},
   "outputs": [
    {
     "data": {
      "text/html": [
       "<div>\n",
       "<style scoped>\n",
       "    .dataframe tbody tr th:only-of-type {\n",
       "        vertical-align: middle;\n",
       "    }\n",
       "\n",
       "    .dataframe tbody tr th {\n",
       "        vertical-align: top;\n",
       "    }\n",
       "\n",
       "    .dataframe thead th {\n",
       "        text-align: right;\n",
       "    }\n",
       "</style>\n",
       "<table border=\"1\" class=\"dataframe\">\n",
       "  <thead>\n",
       "    <tr style=\"text-align: right;\">\n",
       "      <th></th>\n",
       "      <th>data</th>\n",
       "    </tr>\n",
       "    <tr>\n",
       "      <th>orf</th>\n",
       "      <th></th>\n",
       "    </tr>\n",
       "  </thead>\n",
       "  <tbody>\n",
       "    <tr>\n",
       "      <th>YAL002W</th>\n",
       "      <td>1.059618</td>\n",
       "    </tr>\n",
       "    <tr>\n",
       "      <th>YAL004W</th>\n",
       "      <td>0.872862</td>\n",
       "    </tr>\n",
       "    <tr>\n",
       "      <th>YAL005C</th>\n",
       "      <td>0.988207</td>\n",
       "    </tr>\n",
       "    <tr>\n",
       "      <th>YAL007C</th>\n",
       "      <td>1.241954</td>\n",
       "    </tr>\n",
       "    <tr>\n",
       "      <th>YAL008W</th>\n",
       "      <td>1.149438</td>\n",
       "    </tr>\n",
       "  </tbody>\n",
       "</table>\n",
       "</div>"
      ],
      "text/plain": [
       "             data\n",
       "orf              \n",
       "YAL002W  1.059618\n",
       "YAL004W  0.872862\n",
       "YAL005C  0.988207\n",
       "YAL007C  1.241954\n",
       "YAL008W  1.149438"
      ]
     },
     "execution_count": 36,
     "metadata": {},
     "output_type": "execute_result"
    }
   ],
   "source": [
    "original_data.head()"
   ]
  },
  {
   "cell_type": "markdown",
   "metadata": {},
   "source": [
    "# Prepare the final dataset"
   ]
  },
  {
   "cell_type": "code",
   "execution_count": 40,
   "metadata": {},
   "outputs": [],
   "source": [
    "data = original_data.copy()"
   ]
  },
  {
   "cell_type": "code",
   "execution_count": 41,
   "metadata": {},
   "outputs": [],
   "source": [
    "dataset_ids = [22065]\n",
    "datasets = datasets.reindex(index=dataset_ids)"
   ]
  },
  {
   "cell_type": "code",
   "execution_count": 42,
   "metadata": {},
   "outputs": [],
   "source": [
    "lst = [datasets.index.values, ['value']*datasets.shape[0]]\n",
    "tuples = list(zip(*lst))\n",
    "idx = pd.MultiIndex.from_tuples(tuples, names=['dataset_id','data_type'])\n",
    "data.columns = idx"
   ]
  },
  {
   "cell_type": "code",
   "execution_count": 43,
   "metadata": {},
   "outputs": [
    {
     "data": {
      "text/html": [
       "<div>\n",
       "<style scoped>\n",
       "    .dataframe tbody tr th:only-of-type {\n",
       "        vertical-align: middle;\n",
       "    }\n",
       "\n",
       "    .dataframe tbody tr th {\n",
       "        vertical-align: top;\n",
       "    }\n",
       "\n",
       "    .dataframe thead tr th {\n",
       "        text-align: left;\n",
       "    }\n",
       "\n",
       "    .dataframe thead tr:last-of-type th {\n",
       "        text-align: right;\n",
       "    }\n",
       "</style>\n",
       "<table border=\"1\" class=\"dataframe\">\n",
       "  <thead>\n",
       "    <tr>\n",
       "      <th>dataset_id</th>\n",
       "      <th>22065</th>\n",
       "    </tr>\n",
       "    <tr>\n",
       "      <th>data_type</th>\n",
       "      <th>value</th>\n",
       "    </tr>\n",
       "    <tr>\n",
       "      <th>orf</th>\n",
       "      <th></th>\n",
       "    </tr>\n",
       "  </thead>\n",
       "  <tbody>\n",
       "    <tr>\n",
       "      <th>YAL002W</th>\n",
       "      <td>1.059618</td>\n",
       "    </tr>\n",
       "    <tr>\n",
       "      <th>YAL004W</th>\n",
       "      <td>0.872862</td>\n",
       "    </tr>\n",
       "    <tr>\n",
       "      <th>YAL005C</th>\n",
       "      <td>0.988207</td>\n",
       "    </tr>\n",
       "    <tr>\n",
       "      <th>YAL007C</th>\n",
       "      <td>1.241954</td>\n",
       "    </tr>\n",
       "    <tr>\n",
       "      <th>YAL008W</th>\n",
       "      <td>1.149438</td>\n",
       "    </tr>\n",
       "  </tbody>\n",
       "</table>\n",
       "</div>"
      ],
      "text/plain": [
       "dataset_id     22065\n",
       "data_type      value\n",
       "orf                 \n",
       "YAL002W     1.059618\n",
       "YAL004W     0.872862\n",
       "YAL005C     0.988207\n",
       "YAL007C     1.241954\n",
       "YAL008W     1.149438"
      ]
     },
     "execution_count": 43,
     "metadata": {},
     "output_type": "execute_result"
    }
   ],
   "source": [
    "data.head()"
   ]
  },
  {
   "cell_type": "markdown",
   "metadata": {},
   "source": [
    "## Subset to the genes currently in SGD"
   ]
  },
  {
   "cell_type": "code",
   "execution_count": 44,
   "metadata": {},
   "outputs": [
    {
     "name": "stdout",
     "output_type": "stream",
     "text": [
      "ORFs missing from SGD: 24\n"
     ]
    }
   ],
   "source": [
    "genes = pd.read_csv(path_to_genes, sep='\\t', index_col='id')\n",
    "genes = genes.reset_index().set_index('systematic_name')\n",
    "gene_ids = genes.reindex(index=data.index.values)['id'].values\n",
    "num_missing = np.sum(np.isnan(gene_ids))\n",
    "print('ORFs missing from SGD: %d' % num_missing)"
   ]
  },
  {
   "cell_type": "code",
   "execution_count": 45,
   "metadata": {},
   "outputs": [
    {
     "data": {
      "text/html": [
       "<div>\n",
       "<style scoped>\n",
       "    .dataframe tbody tr th:only-of-type {\n",
       "        vertical-align: middle;\n",
       "    }\n",
       "\n",
       "    .dataframe tbody tr th {\n",
       "        vertical-align: top;\n",
       "    }\n",
       "\n",
       "    .dataframe thead tr th {\n",
       "        text-align: left;\n",
       "    }\n",
       "\n",
       "    .dataframe thead tr:last-of-type th {\n",
       "        text-align: right;\n",
       "    }\n",
       "</style>\n",
       "<table border=\"1\" class=\"dataframe\">\n",
       "  <thead>\n",
       "    <tr>\n",
       "      <th></th>\n",
       "      <th>dataset_id</th>\n",
       "      <th>22065</th>\n",
       "    </tr>\n",
       "    <tr>\n",
       "      <th></th>\n",
       "      <th>data_type</th>\n",
       "      <th>value</th>\n",
       "    </tr>\n",
       "    <tr>\n",
       "      <th>gene_id</th>\n",
       "      <th>orf</th>\n",
       "      <th></th>\n",
       "    </tr>\n",
       "  </thead>\n",
       "  <tbody>\n",
       "    <tr>\n",
       "      <th>2</th>\n",
       "      <th>YAL002W</th>\n",
       "      <td>1.059618</td>\n",
       "    </tr>\n",
       "    <tr>\n",
       "      <th>1863</th>\n",
       "      <th>YAL004W</th>\n",
       "      <td>0.872862</td>\n",
       "    </tr>\n",
       "    <tr>\n",
       "      <th>4</th>\n",
       "      <th>YAL005C</th>\n",
       "      <td>0.988207</td>\n",
       "    </tr>\n",
       "    <tr>\n",
       "      <th>5</th>\n",
       "      <th>YAL007C</th>\n",
       "      <td>1.241954</td>\n",
       "    </tr>\n",
       "    <tr>\n",
       "      <th>6</th>\n",
       "      <th>YAL008W</th>\n",
       "      <td>1.149438</td>\n",
       "    </tr>\n",
       "  </tbody>\n",
       "</table>\n",
       "</div>"
      ],
      "text/plain": [
       "dataset_id          22065\n",
       "data_type           value\n",
       "gene_id orf              \n",
       "2       YAL002W  1.059618\n",
       "1863    YAL004W  0.872862\n",
       "4       YAL005C  0.988207\n",
       "5       YAL007C  1.241954\n",
       "6       YAL008W  1.149438"
      ]
     },
     "execution_count": 45,
     "metadata": {},
     "output_type": "execute_result"
    }
   ],
   "source": [
    "data['gene_id'] = gene_ids\n",
    "data = data.loc[data['gene_id'].notnull()]\n",
    "data['gene_id'] = data['gene_id'].astype(int)\n",
    "data = data.reset_index().set_index(['gene_id','orf'])\n",
    "\n",
    "data.head()"
   ]
  },
  {
   "cell_type": "markdown",
   "metadata": {},
   "source": [
    "# Normalize"
   ]
  },
  {
   "cell_type": "code",
   "execution_count": 46,
   "metadata": {},
   "outputs": [],
   "source": [
    "data_norm = normalize_phenotypic_scores(data, has_tested=True)"
   ]
  },
  {
   "cell_type": "code",
   "execution_count": 47,
   "metadata": {},
   "outputs": [],
   "source": [
    "# Assign proper column names\n",
    "lst = [datasets.index.values, ['valuez']*datasets.shape[0]]\n",
    "tuples = list(zip(*lst))\n",
    "idx = pd.MultiIndex.from_tuples(tuples, names=['dataset_id','data_type'])\n",
    "data_norm.columns = idx"
   ]
  },
  {
   "cell_type": "code",
   "execution_count": 48,
   "metadata": {},
   "outputs": [
    {
     "data": {
      "text/html": [
       "<div>\n",
       "<style scoped>\n",
       "    .dataframe tbody tr th:only-of-type {\n",
       "        vertical-align: middle;\n",
       "    }\n",
       "\n",
       "    .dataframe tbody tr th {\n",
       "        vertical-align: top;\n",
       "    }\n",
       "\n",
       "    .dataframe thead tr th {\n",
       "        text-align: left;\n",
       "    }\n",
       "\n",
       "    .dataframe thead tr:last-of-type th {\n",
       "        text-align: right;\n",
       "    }\n",
       "</style>\n",
       "<table border=\"1\" class=\"dataframe\">\n",
       "  <thead>\n",
       "    <tr>\n",
       "      <th></th>\n",
       "      <th>dataset_id</th>\n",
       "      <th colspan=\"2\" halign=\"left\">22065</th>\n",
       "    </tr>\n",
       "    <tr>\n",
       "      <th></th>\n",
       "      <th>data_type</th>\n",
       "      <th>value</th>\n",
       "      <th>valuez</th>\n",
       "    </tr>\n",
       "    <tr>\n",
       "      <th>gene_id</th>\n",
       "      <th>orf</th>\n",
       "      <th></th>\n",
       "      <th></th>\n",
       "    </tr>\n",
       "  </thead>\n",
       "  <tbody>\n",
       "    <tr>\n",
       "      <th>2</th>\n",
       "      <th>YAL002W</th>\n",
       "      <td>1.059618</td>\n",
       "      <td>0.188681</td>\n",
       "    </tr>\n",
       "    <tr>\n",
       "      <th>1863</th>\n",
       "      <th>YAL004W</th>\n",
       "      <td>0.872862</td>\n",
       "      <td>-0.600751</td>\n",
       "    </tr>\n",
       "    <tr>\n",
       "      <th>4</th>\n",
       "      <th>YAL005C</th>\n",
       "      <td>0.988207</td>\n",
       "      <td>-0.113178</td>\n",
       "    </tr>\n",
       "    <tr>\n",
       "      <th>5</th>\n",
       "      <th>YAL007C</th>\n",
       "      <td>1.241954</td>\n",
       "      <td>0.959426</td>\n",
       "    </tr>\n",
       "    <tr>\n",
       "      <th>6</th>\n",
       "      <th>YAL008W</th>\n",
       "      <td>1.149438</td>\n",
       "      <td>0.568356</td>\n",
       "    </tr>\n",
       "  </tbody>\n",
       "</table>\n",
       "</div>"
      ],
      "text/plain": [
       "dataset_id          22065          \n",
       "data_type           value    valuez\n",
       "gene_id orf                        \n",
       "2       YAL002W  1.059618  0.188681\n",
       "1863    YAL004W  0.872862 -0.600751\n",
       "4       YAL005C  0.988207 -0.113178\n",
       "5       YAL007C  1.241954  0.959426\n",
       "6       YAL008W  1.149438  0.568356"
      ]
     },
     "execution_count": 48,
     "metadata": {},
     "output_type": "execute_result"
    }
   ],
   "source": [
    "data_norm[data.isnull()] = np.nan\n",
    "data_all = data.join(data_norm)\n",
    "\n",
    "data_all.head()"
   ]
  },
  {
   "cell_type": "markdown",
   "metadata": {},
   "source": [
    "# Print out"
   ]
  },
  {
   "cell_type": "code",
   "execution_count": 49,
   "metadata": {},
   "outputs": [],
   "source": [
    "for f in ['value','valuez']:\n",
    "    df = data_all.xs(f, level='data_type', axis=1).copy()\n",
    "    df.columns = datasets['name'].values\n",
    "    df = df.droplevel('gene_id', axis=0)\n",
    "    df.to_csv(paper_name + '_' + f + '.txt', sep='\\t')"
   ]
  },
  {
   "cell_type": "markdown",
   "metadata": {},
   "source": [
    "# Save to DB"
   ]
  },
  {
   "cell_type": "code",
   "execution_count": 50,
   "metadata": {},
   "outputs": [],
   "source": [
    "from IO.save_data_to_db3 import *"
   ]
  },
  {
   "cell_type": "code",
   "execution_count": 51,
   "metadata": {},
   "outputs": [
    {
     "name": "stderr",
     "output_type": "stream",
     "text": [
      "  0%|          | 0/1 [00:00<?, ?it/s]"
     ]
    },
    {
     "name": "stdout",
     "output_type": "stream",
     "text": [
      "Deleting all datasets for PMID 34645498...\n",
      "Inserting the new data...\n"
     ]
    },
    {
     "name": "stderr",
     "output_type": "stream",
     "text": [
      "100%|██████████| 1/1 [00:06<00:00,  6.18s/it]"
     ]
    },
    {
     "name": "stdout",
     "output_type": "stream",
     "text": [
      "Updating the data_modified_on field...\n"
     ]
    },
    {
     "name": "stderr",
     "output_type": "stream",
     "text": [
      "\n"
     ]
    }
   ],
   "source": [
    "save_data_to_db(data_all, paper_pmid)"
   ]
  },
  {
   "cell_type": "code",
   "execution_count": null,
   "metadata": {},
   "outputs": [],
   "source": []
  }
 ],
 "metadata": {
  "kernelspec": {
   "display_name": "yp-data",
   "language": "python",
   "name": "yp-data"
  },
  "language_info": {
   "codemirror_mode": {
    "name": "ipython",
    "version": 3
   },
   "file_extension": ".py",
   "mimetype": "text/x-python",
   "name": "python",
   "nbconvert_exporter": "python",
   "pygments_lexer": "ipython3",
   "version": "3.7.7"
  }
 },
 "nbformat": 4,
 "nbformat_minor": 4
}
