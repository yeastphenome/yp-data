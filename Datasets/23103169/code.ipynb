{
 "cells": [
  {
   "cell_type": "code",
   "execution_count": 1,
   "metadata": {},
   "outputs": [],
   "source": [
    "%run ../../Utils/yp_utils.py"
   ]
  },
  {
   "cell_type": "markdown",
   "metadata": {},
   "source": [
    "# Initial setup"
   ]
  },
  {
   "cell_type": "code",
   "execution_count": 2,
   "metadata": {},
   "outputs": [],
   "source": [
    "paper_pmid = 23103169\n",
    "paper_name = 'qian_zhang_2012' "
   ]
  },
  {
   "cell_type": "code",
   "execution_count": 3,
   "metadata": {},
   "outputs": [],
   "source": [
    "datasets = pd.read_csv('extras/YeastPhenome_' + str(paper_pmid) + '_datasets_list.txt', sep='\\t', header=None, names=['pmid', 'name'])"
   ]
  },
  {
   "cell_type": "code",
   "execution_count": 4,
   "metadata": {},
   "outputs": [],
   "source": [
    "datasets.set_index('pmid', inplace=True)"
   ]
  },
  {
   "cell_type": "markdown",
   "metadata": {},
   "source": [
    "# Load & process the data"
   ]
  },
  {
   "cell_type": "code",
   "execution_count": 5,
   "metadata": {},
   "outputs": [],
   "source": [
    "original_data = pd.read_excel('raw_data/mmc2.xls', sheet_name='fitness_combined', skiprows=1)"
   ]
  },
  {
   "cell_type": "code",
   "execution_count": 6,
   "metadata": {},
   "outputs": [
    {
     "name": "stdout",
     "output_type": "stream",
     "text": [
      "Original data dimensions: 4449 x 22\n"
     ]
    }
   ],
   "source": [
    "print('Original data dimensions: %d x %d' % (original_data.shape))"
   ]
  },
  {
   "cell_type": "code",
   "execution_count": 7,
   "metadata": {},
   "outputs": [],
   "source": [
    "original_data = original_data[['ORF','YPD rep1 fitness','YPD rep2 fitness','YPG fitness','YPE fitness','SC fitness','OAK fitness','ETH fitness']]"
   ]
  },
  {
   "cell_type": "code",
   "execution_count": 8,
   "metadata": {},
   "outputs": [
    {
     "data": {
      "text/html": [
       "<div>\n",
       "<style scoped>\n",
       "    .dataframe tbody tr th:only-of-type {\n",
       "        vertical-align: middle;\n",
       "    }\n",
       "\n",
       "    .dataframe tbody tr th {\n",
       "        vertical-align: top;\n",
       "    }\n",
       "\n",
       "    .dataframe thead th {\n",
       "        text-align: right;\n",
       "    }\n",
       "</style>\n",
       "<table border=\"1\" class=\"dataframe\">\n",
       "  <thead>\n",
       "    <tr style=\"text-align: right;\">\n",
       "      <th></th>\n",
       "      <th>ORF</th>\n",
       "      <th>YPD rep1 fitness</th>\n",
       "      <th>YPD rep2 fitness</th>\n",
       "      <th>YPG fitness</th>\n",
       "      <th>YPE fitness</th>\n",
       "      <th>SC fitness</th>\n",
       "      <th>OAK fitness</th>\n",
       "      <th>ETH fitness</th>\n",
       "    </tr>\n",
       "  </thead>\n",
       "  <tbody>\n",
       "    <tr>\n",
       "      <th>0</th>\n",
       "      <td>YAL001C</td>\n",
       "      <td>0.968989</td>\n",
       "      <td>0.990349</td>\n",
       "      <td>0.887079</td>\n",
       "      <td>0.960186</td>\n",
       "      <td>1.013147</td>\n",
       "      <td>0.867756</td>\n",
       "      <td>0.999240</td>\n",
       "    </tr>\n",
       "    <tr>\n",
       "      <th>1</th>\n",
       "      <td>YAL002W</td>\n",
       "      <td>0.918527</td>\n",
       "      <td>0.900021</td>\n",
       "      <td>0.923468</td>\n",
       "      <td>0.895325</td>\n",
       "      <td>0.948552</td>\n",
       "      <td>0.159949</td>\n",
       "      <td>0.963964</td>\n",
       "    </tr>\n",
       "    <tr>\n",
       "      <th>2</th>\n",
       "      <td>YAL004W</td>\n",
       "      <td>1.008346</td>\n",
       "      <td>1.009375</td>\n",
       "      <td>0.951429</td>\n",
       "      <td>0.960195</td>\n",
       "      <td>1.037183</td>\n",
       "      <td>0.811660</td>\n",
       "      <td>1.005849</td>\n",
       "    </tr>\n",
       "    <tr>\n",
       "      <th>3</th>\n",
       "      <td>YAL005C</td>\n",
       "      <td>0.996644</td>\n",
       "      <td>1.003788</td>\n",
       "      <td>0.937373</td>\n",
       "      <td>0.919715</td>\n",
       "      <td>1.030085</td>\n",
       "      <td>0.788691</td>\n",
       "      <td>1.001668</td>\n",
       "    </tr>\n",
       "    <tr>\n",
       "      <th>4</th>\n",
       "      <td>YAL007C</td>\n",
       "      <td>0.990941</td>\n",
       "      <td>1.004294</td>\n",
       "      <td>1.012650</td>\n",
       "      <td>1.018167</td>\n",
       "      <td>1.027506</td>\n",
       "      <td>0.947705</td>\n",
       "      <td>1.007461</td>\n",
       "    </tr>\n",
       "  </tbody>\n",
       "</table>\n",
       "</div>"
      ],
      "text/plain": [
       "       ORF  YPD rep1 fitness  YPD rep2 fitness  YPG fitness  YPE fitness  \\\n",
       "0  YAL001C          0.968989          0.990349     0.887079     0.960186   \n",
       "1  YAL002W          0.918527          0.900021     0.923468     0.895325   \n",
       "2  YAL004W          1.008346          1.009375     0.951429     0.960195   \n",
       "3  YAL005C          0.996644          1.003788     0.937373     0.919715   \n",
       "4  YAL007C          0.990941          1.004294     1.012650     1.018167   \n",
       "\n",
       "   SC fitness  OAK fitness  ETH fitness  \n",
       "0    1.013147     0.867756     0.999240  \n",
       "1    0.948552     0.159949     0.963964  \n",
       "2    1.037183     0.811660     1.005849  \n",
       "3    1.030085     0.788691     1.001668  \n",
       "4    1.027506     0.947705     1.007461  "
      ]
     },
     "execution_count": 8,
     "metadata": {},
     "output_type": "execute_result"
    }
   ],
   "source": [
    "original_data.head()"
   ]
  },
  {
   "cell_type": "code",
   "execution_count": 9,
   "metadata": {},
   "outputs": [],
   "source": [
    "original_data['ORF'] = original_data['ORF'].astype(str)"
   ]
  },
  {
   "cell_type": "code",
   "execution_count": 10,
   "metadata": {},
   "outputs": [],
   "source": [
    "# Eliminate all white spaces & capitalize\n",
    "original_data['ORF'] = clean_orf(original_data['ORF'])"
   ]
  },
  {
   "cell_type": "code",
   "execution_count": 11,
   "metadata": {},
   "outputs": [],
   "source": [
    "# Translate to ORFs \n",
    "original_data['ORF'] = translate_sc(original_data['ORF'], to='orf')"
   ]
  },
  {
   "cell_type": "code",
   "execution_count": 12,
   "metadata": {},
   "outputs": [
    {
     "name": "stdout",
     "output_type": "stream",
     "text": [
      "Empty DataFrame\n",
      "Columns: [ORF, YPD rep1 fitness, YPD rep2 fitness, YPG fitness, YPE fitness, SC fitness, OAK fitness, ETH fitness]\n",
      "Index: []\n"
     ]
    }
   ],
   "source": [
    "# Make sure everything translated ok\n",
    "t = looks_like_orf(original_data['ORF'])\n",
    "print(original_data.loc[~t,])"
   ]
  },
  {
   "cell_type": "code",
   "execution_count": 13,
   "metadata": {},
   "outputs": [],
   "source": [
    "original_data['YPD fitness'] = original_data[['YPD rep1 fitness','YPD rep2 fitness']].mean(axis=1)"
   ]
  },
  {
   "cell_type": "code",
   "execution_count": 14,
   "metadata": {},
   "outputs": [],
   "source": [
    "original_data.drop(columns=['YPD rep1 fitness','YPD rep2 fitness'], inplace=True)"
   ]
  },
  {
   "cell_type": "code",
   "execution_count": 15,
   "metadata": {},
   "outputs": [],
   "source": [
    "original_data.set_index('ORF', inplace=True)\n",
    "original_data.index.name = 'orf'"
   ]
  },
  {
   "cell_type": "code",
   "execution_count": 16,
   "metadata": {},
   "outputs": [],
   "source": [
    "original_data = original_data.groupby(original_data.index).mean()"
   ]
  },
  {
   "cell_type": "code",
   "execution_count": 17,
   "metadata": {},
   "outputs": [
    {
     "data": {
      "text/html": [
       "<div>\n",
       "<style scoped>\n",
       "    .dataframe tbody tr th:only-of-type {\n",
       "        vertical-align: middle;\n",
       "    }\n",
       "\n",
       "    .dataframe tbody tr th {\n",
       "        vertical-align: top;\n",
       "    }\n",
       "\n",
       "    .dataframe thead th {\n",
       "        text-align: right;\n",
       "    }\n",
       "</style>\n",
       "<table border=\"1\" class=\"dataframe\">\n",
       "  <thead>\n",
       "    <tr style=\"text-align: right;\">\n",
       "      <th></th>\n",
       "      <th>YPG fitness</th>\n",
       "      <th>YPE fitness</th>\n",
       "      <th>SC fitness</th>\n",
       "      <th>OAK fitness</th>\n",
       "      <th>ETH fitness</th>\n",
       "      <th>YPD fitness</th>\n",
       "    </tr>\n",
       "    <tr>\n",
       "      <th>orf</th>\n",
       "      <th></th>\n",
       "      <th></th>\n",
       "      <th></th>\n",
       "      <th></th>\n",
       "      <th></th>\n",
       "      <th></th>\n",
       "    </tr>\n",
       "  </thead>\n",
       "  <tbody>\n",
       "    <tr>\n",
       "      <th>YAL001C</th>\n",
       "      <td>0.887079</td>\n",
       "      <td>0.960186</td>\n",
       "      <td>1.013147</td>\n",
       "      <td>0.867756</td>\n",
       "      <td>0.999240</td>\n",
       "      <td>0.979669</td>\n",
       "    </tr>\n",
       "    <tr>\n",
       "      <th>YAL002W</th>\n",
       "      <td>0.923468</td>\n",
       "      <td>0.895325</td>\n",
       "      <td>0.948552</td>\n",
       "      <td>0.159949</td>\n",
       "      <td>0.963964</td>\n",
       "      <td>0.909274</td>\n",
       "    </tr>\n",
       "    <tr>\n",
       "      <th>YAL004W</th>\n",
       "      <td>0.951429</td>\n",
       "      <td>0.960195</td>\n",
       "      <td>1.037183</td>\n",
       "      <td>0.811660</td>\n",
       "      <td>1.005849</td>\n",
       "      <td>1.008860</td>\n",
       "    </tr>\n",
       "    <tr>\n",
       "      <th>YAL005C</th>\n",
       "      <td>0.937373</td>\n",
       "      <td>0.919715</td>\n",
       "      <td>1.030085</td>\n",
       "      <td>0.788691</td>\n",
       "      <td>1.001668</td>\n",
       "      <td>1.000216</td>\n",
       "    </tr>\n",
       "    <tr>\n",
       "      <th>YAL007C</th>\n",
       "      <td>1.012650</td>\n",
       "      <td>1.018167</td>\n",
       "      <td>1.027506</td>\n",
       "      <td>0.947705</td>\n",
       "      <td>1.007461</td>\n",
       "      <td>0.997618</td>\n",
       "    </tr>\n",
       "  </tbody>\n",
       "</table>\n",
       "</div>"
      ],
      "text/plain": [
       "         YPG fitness  YPE fitness  SC fitness  OAK fitness  ETH fitness  \\\n",
       "orf                                                                       \n",
       "YAL001C     0.887079     0.960186    1.013147     0.867756     0.999240   \n",
       "YAL002W     0.923468     0.895325    0.948552     0.159949     0.963964   \n",
       "YAL004W     0.951429     0.960195    1.037183     0.811660     1.005849   \n",
       "YAL005C     0.937373     0.919715    1.030085     0.788691     1.001668   \n",
       "YAL007C     1.012650     1.018167    1.027506     0.947705     1.007461   \n",
       "\n",
       "         YPD fitness  \n",
       "orf                   \n",
       "YAL001C     0.979669  \n",
       "YAL002W     0.909274  \n",
       "YAL004W     1.008860  \n",
       "YAL005C     1.000216  \n",
       "YAL007C     0.997618  "
      ]
     },
     "execution_count": 17,
     "metadata": {},
     "output_type": "execute_result"
    }
   ],
   "source": [
    "original_data.head()"
   ]
  },
  {
   "cell_type": "code",
   "execution_count": 18,
   "metadata": {},
   "outputs": [
    {
     "data": {
      "text/plain": [
       "(4424, 6)"
      ]
     },
     "execution_count": 18,
     "metadata": {},
     "output_type": "execute_result"
    }
   ],
   "source": [
    "original_data.shape"
   ]
  },
  {
   "cell_type": "markdown",
   "metadata": {},
   "source": [
    "# Prepare the final dataset"
   ]
  },
  {
   "cell_type": "code",
   "execution_count": 19,
   "metadata": {},
   "outputs": [],
   "source": [
    "data = original_data.copy()"
   ]
  },
  {
   "cell_type": "code",
   "execution_count": 20,
   "metadata": {},
   "outputs": [],
   "source": [
    "dataset_ids = [16489, 16488, 16490, 16492, 16491, 16487]\n",
    "datasets = datasets.reindex(index=dataset_ids)"
   ]
  },
  {
   "cell_type": "code",
   "execution_count": 21,
   "metadata": {},
   "outputs": [],
   "source": [
    "lst = [datasets.index.values, ['value']*datasets.shape[0]]\n",
    "tuples = list(zip(*lst))\n",
    "idx = pd.MultiIndex.from_tuples(tuples, names=['dataset_id','data_type'])\n",
    "data.columns = idx"
   ]
  },
  {
   "cell_type": "code",
   "execution_count": 22,
   "metadata": {},
   "outputs": [
    {
     "data": {
      "text/html": [
       "<div>\n",
       "<style scoped>\n",
       "    .dataframe tbody tr th:only-of-type {\n",
       "        vertical-align: middle;\n",
       "    }\n",
       "\n",
       "    .dataframe tbody tr th {\n",
       "        vertical-align: top;\n",
       "    }\n",
       "\n",
       "    .dataframe thead tr th {\n",
       "        text-align: left;\n",
       "    }\n",
       "\n",
       "    .dataframe thead tr:last-of-type th {\n",
       "        text-align: right;\n",
       "    }\n",
       "</style>\n",
       "<table border=\"1\" class=\"dataframe\">\n",
       "  <thead>\n",
       "    <tr>\n",
       "      <th>dataset_id</th>\n",
       "      <th>16489</th>\n",
       "      <th>16488</th>\n",
       "      <th>16490</th>\n",
       "      <th>16492</th>\n",
       "      <th>16491</th>\n",
       "      <th>16487</th>\n",
       "    </tr>\n",
       "    <tr>\n",
       "      <th>data_type</th>\n",
       "      <th>value</th>\n",
       "      <th>value</th>\n",
       "      <th>value</th>\n",
       "      <th>value</th>\n",
       "      <th>value</th>\n",
       "      <th>value</th>\n",
       "    </tr>\n",
       "    <tr>\n",
       "      <th>orf</th>\n",
       "      <th></th>\n",
       "      <th></th>\n",
       "      <th></th>\n",
       "      <th></th>\n",
       "      <th></th>\n",
       "      <th></th>\n",
       "    </tr>\n",
       "  </thead>\n",
       "  <tbody>\n",
       "    <tr>\n",
       "      <th>YAL001C</th>\n",
       "      <td>0.887079</td>\n",
       "      <td>0.960186</td>\n",
       "      <td>1.013147</td>\n",
       "      <td>0.867756</td>\n",
       "      <td>0.999240</td>\n",
       "      <td>0.979669</td>\n",
       "    </tr>\n",
       "    <tr>\n",
       "      <th>YAL002W</th>\n",
       "      <td>0.923468</td>\n",
       "      <td>0.895325</td>\n",
       "      <td>0.948552</td>\n",
       "      <td>0.159949</td>\n",
       "      <td>0.963964</td>\n",
       "      <td>0.909274</td>\n",
       "    </tr>\n",
       "    <tr>\n",
       "      <th>YAL004W</th>\n",
       "      <td>0.951429</td>\n",
       "      <td>0.960195</td>\n",
       "      <td>1.037183</td>\n",
       "      <td>0.811660</td>\n",
       "      <td>1.005849</td>\n",
       "      <td>1.008860</td>\n",
       "    </tr>\n",
       "    <tr>\n",
       "      <th>YAL005C</th>\n",
       "      <td>0.937373</td>\n",
       "      <td>0.919715</td>\n",
       "      <td>1.030085</td>\n",
       "      <td>0.788691</td>\n",
       "      <td>1.001668</td>\n",
       "      <td>1.000216</td>\n",
       "    </tr>\n",
       "    <tr>\n",
       "      <th>YAL007C</th>\n",
       "      <td>1.012650</td>\n",
       "      <td>1.018167</td>\n",
       "      <td>1.027506</td>\n",
       "      <td>0.947705</td>\n",
       "      <td>1.007461</td>\n",
       "      <td>0.997618</td>\n",
       "    </tr>\n",
       "  </tbody>\n",
       "</table>\n",
       "</div>"
      ],
      "text/plain": [
       "dataset_id     16489     16488     16490     16492     16491     16487\n",
       "data_type      value     value     value     value     value     value\n",
       "orf                                                                   \n",
       "YAL001C     0.887079  0.960186  1.013147  0.867756  0.999240  0.979669\n",
       "YAL002W     0.923468  0.895325  0.948552  0.159949  0.963964  0.909274\n",
       "YAL004W     0.951429  0.960195  1.037183  0.811660  1.005849  1.008860\n",
       "YAL005C     0.937373  0.919715  1.030085  0.788691  1.001668  1.000216\n",
       "YAL007C     1.012650  1.018167  1.027506  0.947705  1.007461  0.997618"
      ]
     },
     "execution_count": 22,
     "metadata": {},
     "output_type": "execute_result"
    }
   ],
   "source": [
    "data.head()"
   ]
  },
  {
   "cell_type": "markdown",
   "metadata": {},
   "source": [
    "## Subset to the genes currently in SGD"
   ]
  },
  {
   "cell_type": "code",
   "execution_count": 23,
   "metadata": {},
   "outputs": [
    {
     "name": "stdout",
     "output_type": "stream",
     "text": [
      "ORFs missing from SGD: 21\n"
     ]
    }
   ],
   "source": [
    "genes = pd.read_csv(path_to_genes, sep='\\t', index_col='id')\n",
    "genes = genes.reset_index().set_index('systematic_name')\n",
    "gene_ids = genes.reindex(index=data.index.values)['id'].values\n",
    "num_missing = np.sum(np.isnan(gene_ids))\n",
    "print('ORFs missing from SGD: %d' % num_missing)"
   ]
  },
  {
   "cell_type": "code",
   "execution_count": 24,
   "metadata": {},
   "outputs": [
    {
     "data": {
      "text/html": [
       "<div>\n",
       "<style scoped>\n",
       "    .dataframe tbody tr th:only-of-type {\n",
       "        vertical-align: middle;\n",
       "    }\n",
       "\n",
       "    .dataframe tbody tr th {\n",
       "        vertical-align: top;\n",
       "    }\n",
       "\n",
       "    .dataframe thead tr th {\n",
       "        text-align: left;\n",
       "    }\n",
       "\n",
       "    .dataframe thead tr:last-of-type th {\n",
       "        text-align: right;\n",
       "    }\n",
       "</style>\n",
       "<table border=\"1\" class=\"dataframe\">\n",
       "  <thead>\n",
       "    <tr>\n",
       "      <th></th>\n",
       "      <th>dataset_id</th>\n",
       "      <th>16489</th>\n",
       "      <th>16488</th>\n",
       "      <th>16490</th>\n",
       "      <th>16492</th>\n",
       "      <th>16491</th>\n",
       "      <th>16487</th>\n",
       "    </tr>\n",
       "    <tr>\n",
       "      <th></th>\n",
       "      <th>data_type</th>\n",
       "      <th>value</th>\n",
       "      <th>value</th>\n",
       "      <th>value</th>\n",
       "      <th>value</th>\n",
       "      <th>value</th>\n",
       "      <th>value</th>\n",
       "    </tr>\n",
       "    <tr>\n",
       "      <th>gene_id</th>\n",
       "      <th>orf</th>\n",
       "      <th></th>\n",
       "      <th></th>\n",
       "      <th></th>\n",
       "      <th></th>\n",
       "      <th></th>\n",
       "      <th></th>\n",
       "    </tr>\n",
       "  </thead>\n",
       "  <tbody>\n",
       "    <tr>\n",
       "      <th>1</th>\n",
       "      <th>YAL001C</th>\n",
       "      <td>0.887079</td>\n",
       "      <td>0.960186</td>\n",
       "      <td>1.013147</td>\n",
       "      <td>0.867756</td>\n",
       "      <td>0.999240</td>\n",
       "      <td>0.979669</td>\n",
       "    </tr>\n",
       "    <tr>\n",
       "      <th>2</th>\n",
       "      <th>YAL002W</th>\n",
       "      <td>0.923468</td>\n",
       "      <td>0.895325</td>\n",
       "      <td>0.948552</td>\n",
       "      <td>0.159949</td>\n",
       "      <td>0.963964</td>\n",
       "      <td>0.909274</td>\n",
       "    </tr>\n",
       "    <tr>\n",
       "      <th>1863</th>\n",
       "      <th>YAL004W</th>\n",
       "      <td>0.951429</td>\n",
       "      <td>0.960195</td>\n",
       "      <td>1.037183</td>\n",
       "      <td>0.811660</td>\n",
       "      <td>1.005849</td>\n",
       "      <td>1.008860</td>\n",
       "    </tr>\n",
       "    <tr>\n",
       "      <th>4</th>\n",
       "      <th>YAL005C</th>\n",
       "      <td>0.937373</td>\n",
       "      <td>0.919715</td>\n",
       "      <td>1.030085</td>\n",
       "      <td>0.788691</td>\n",
       "      <td>1.001668</td>\n",
       "      <td>1.000216</td>\n",
       "    </tr>\n",
       "    <tr>\n",
       "      <th>5</th>\n",
       "      <th>YAL007C</th>\n",
       "      <td>1.012650</td>\n",
       "      <td>1.018167</td>\n",
       "      <td>1.027506</td>\n",
       "      <td>0.947705</td>\n",
       "      <td>1.007461</td>\n",
       "      <td>0.997618</td>\n",
       "    </tr>\n",
       "  </tbody>\n",
       "</table>\n",
       "</div>"
      ],
      "text/plain": [
       "dataset_id          16489     16488     16490     16492     16491     16487\n",
       "data_type           value     value     value     value     value     value\n",
       "gene_id orf                                                                \n",
       "1       YAL001C  0.887079  0.960186  1.013147  0.867756  0.999240  0.979669\n",
       "2       YAL002W  0.923468  0.895325  0.948552  0.159949  0.963964  0.909274\n",
       "1863    YAL004W  0.951429  0.960195  1.037183  0.811660  1.005849  1.008860\n",
       "4       YAL005C  0.937373  0.919715  1.030085  0.788691  1.001668  1.000216\n",
       "5       YAL007C  1.012650  1.018167  1.027506  0.947705  1.007461  0.997618"
      ]
     },
     "execution_count": 24,
     "metadata": {},
     "output_type": "execute_result"
    }
   ],
   "source": [
    "data['gene_id'] = gene_ids\n",
    "data = data.loc[data['gene_id'].notnull()]\n",
    "data['gene_id'] = data['gene_id'].astype(int)\n",
    "data = data.reset_index().set_index(['gene_id','orf'])\n",
    "\n",
    "data.head()"
   ]
  },
  {
   "cell_type": "markdown",
   "metadata": {},
   "source": [
    "# Normalize"
   ]
  },
  {
   "cell_type": "code",
   "execution_count": 25,
   "metadata": {},
   "outputs": [],
   "source": [
    "data_norm = normalize_phenotypic_scores(data, has_tested=True)"
   ]
  },
  {
   "cell_type": "code",
   "execution_count": 26,
   "metadata": {},
   "outputs": [],
   "source": [
    "# Assign proper column names\n",
    "lst = [datasets.index.values, ['valuez']*datasets.shape[0]]\n",
    "tuples = list(zip(*lst))\n",
    "idx = pd.MultiIndex.from_tuples(tuples, names=['dataset_id','data_type'])\n",
    "data_norm.columns = idx"
   ]
  },
  {
   "cell_type": "code",
   "execution_count": 27,
   "metadata": {},
   "outputs": [
    {
     "data": {
      "text/html": [
       "<div>\n",
       "<style scoped>\n",
       "    .dataframe tbody tr th:only-of-type {\n",
       "        vertical-align: middle;\n",
       "    }\n",
       "\n",
       "    .dataframe tbody tr th {\n",
       "        vertical-align: top;\n",
       "    }\n",
       "\n",
       "    .dataframe thead tr th {\n",
       "        text-align: left;\n",
       "    }\n",
       "\n",
       "    .dataframe thead tr:last-of-type th {\n",
       "        text-align: right;\n",
       "    }\n",
       "</style>\n",
       "<table border=\"1\" class=\"dataframe\">\n",
       "  <thead>\n",
       "    <tr>\n",
       "      <th></th>\n",
       "      <th>dataset_id</th>\n",
       "      <th>16489</th>\n",
       "      <th>16488</th>\n",
       "      <th>16490</th>\n",
       "      <th>16492</th>\n",
       "      <th>16491</th>\n",
       "      <th>16487</th>\n",
       "      <th>16489</th>\n",
       "      <th>16488</th>\n",
       "      <th>16490</th>\n",
       "      <th>16492</th>\n",
       "      <th>16491</th>\n",
       "      <th>16487</th>\n",
       "    </tr>\n",
       "    <tr>\n",
       "      <th></th>\n",
       "      <th>data_type</th>\n",
       "      <th>value</th>\n",
       "      <th>value</th>\n",
       "      <th>value</th>\n",
       "      <th>value</th>\n",
       "      <th>value</th>\n",
       "      <th>value</th>\n",
       "      <th>valuez</th>\n",
       "      <th>valuez</th>\n",
       "      <th>valuez</th>\n",
       "      <th>valuez</th>\n",
       "      <th>valuez</th>\n",
       "      <th>valuez</th>\n",
       "    </tr>\n",
       "    <tr>\n",
       "      <th>gene_id</th>\n",
       "      <th>orf</th>\n",
       "      <th></th>\n",
       "      <th></th>\n",
       "      <th></th>\n",
       "      <th></th>\n",
       "      <th></th>\n",
       "      <th></th>\n",
       "      <th></th>\n",
       "      <th></th>\n",
       "      <th></th>\n",
       "      <th></th>\n",
       "      <th></th>\n",
       "      <th></th>\n",
       "    </tr>\n",
       "  </thead>\n",
       "  <tbody>\n",
       "    <tr>\n",
       "      <th>1</th>\n",
       "      <th>YAL001C</th>\n",
       "      <td>0.887079</td>\n",
       "      <td>0.960186</td>\n",
       "      <td>1.013147</td>\n",
       "      <td>0.867756</td>\n",
       "      <td>0.999240</td>\n",
       "      <td>0.979669</td>\n",
       "      <td>-0.771201</td>\n",
       "      <td>-0.293547</td>\n",
       "      <td>0.095695</td>\n",
       "      <td>-0.831484</td>\n",
       "      <td>-0.050607</td>\n",
       "      <td>-0.208412</td>\n",
       "    </tr>\n",
       "    <tr>\n",
       "      <th>2</th>\n",
       "      <th>YAL002W</th>\n",
       "      <td>0.923468</td>\n",
       "      <td>0.895325</td>\n",
       "      <td>0.948552</td>\n",
       "      <td>0.159949</td>\n",
       "      <td>0.963964</td>\n",
       "      <td>0.909274</td>\n",
       "      <td>-0.525830</td>\n",
       "      <td>-0.696229</td>\n",
       "      <td>-0.477261</td>\n",
       "      <td>-4.714370</td>\n",
       "      <td>-0.292987</td>\n",
       "      <td>-1.040578</td>\n",
       "    </tr>\n",
       "    <tr>\n",
       "      <th>1863</th>\n",
       "      <th>YAL004W</th>\n",
       "      <td>0.951429</td>\n",
       "      <td>0.960195</td>\n",
       "      <td>1.037183</td>\n",
       "      <td>0.811660</td>\n",
       "      <td>1.005849</td>\n",
       "      <td>1.008860</td>\n",
       "      <td>-0.337290</td>\n",
       "      <td>-0.293493</td>\n",
       "      <td>0.308887</td>\n",
       "      <td>-1.139216</td>\n",
       "      <td>-0.005194</td>\n",
       "      <td>0.136668</td>\n",
       "    </tr>\n",
       "    <tr>\n",
       "      <th>4</th>\n",
       "      <th>YAL005C</th>\n",
       "      <td>0.937373</td>\n",
       "      <td>0.919715</td>\n",
       "      <td>1.030085</td>\n",
       "      <td>0.788691</td>\n",
       "      <td>1.001668</td>\n",
       "      <td>1.000216</td>\n",
       "      <td>-0.432065</td>\n",
       "      <td>-0.544805</td>\n",
       "      <td>0.245934</td>\n",
       "      <td>-1.265223</td>\n",
       "      <td>-0.033925</td>\n",
       "      <td>0.034477</td>\n",
       "    </tr>\n",
       "    <tr>\n",
       "      <th>5</th>\n",
       "      <th>YAL007C</th>\n",
       "      <td>1.012650</td>\n",
       "      <td>1.018167</td>\n",
       "      <td>1.027506</td>\n",
       "      <td>0.947705</td>\n",
       "      <td>1.007461</td>\n",
       "      <td>0.997618</td>\n",
       "      <td>0.075530</td>\n",
       "      <td>0.066419</td>\n",
       "      <td>0.223056</td>\n",
       "      <td>-0.392900</td>\n",
       "      <td>0.005882</td>\n",
       "      <td>0.003764</td>\n",
       "    </tr>\n",
       "  </tbody>\n",
       "</table>\n",
       "</div>"
      ],
      "text/plain": [
       "dataset_id          16489     16488     16490     16492     16491     16487  \\\n",
       "data_type           value     value     value     value     value     value   \n",
       "gene_id orf                                                                   \n",
       "1       YAL001C  0.887079  0.960186  1.013147  0.867756  0.999240  0.979669   \n",
       "2       YAL002W  0.923468  0.895325  0.948552  0.159949  0.963964  0.909274   \n",
       "1863    YAL004W  0.951429  0.960195  1.037183  0.811660  1.005849  1.008860   \n",
       "4       YAL005C  0.937373  0.919715  1.030085  0.788691  1.001668  1.000216   \n",
       "5       YAL007C  1.012650  1.018167  1.027506  0.947705  1.007461  0.997618   \n",
       "\n",
       "dataset_id          16489     16488     16490     16492     16491     16487  \n",
       "data_type          valuez    valuez    valuez    valuez    valuez    valuez  \n",
       "gene_id orf                                                                  \n",
       "1       YAL001C -0.771201 -0.293547  0.095695 -0.831484 -0.050607 -0.208412  \n",
       "2       YAL002W -0.525830 -0.696229 -0.477261 -4.714370 -0.292987 -1.040578  \n",
       "1863    YAL004W -0.337290 -0.293493  0.308887 -1.139216 -0.005194  0.136668  \n",
       "4       YAL005C -0.432065 -0.544805  0.245934 -1.265223 -0.033925  0.034477  \n",
       "5       YAL007C  0.075530  0.066419  0.223056 -0.392900  0.005882  0.003764  "
      ]
     },
     "execution_count": 27,
     "metadata": {},
     "output_type": "execute_result"
    }
   ],
   "source": [
    "data_norm[data.isnull()] = np.nan\n",
    "data_all = data.join(data_norm)\n",
    "\n",
    "data_all.head()"
   ]
  },
  {
   "cell_type": "markdown",
   "metadata": {},
   "source": [
    "# Print out"
   ]
  },
  {
   "cell_type": "code",
   "execution_count": 28,
   "metadata": {},
   "outputs": [],
   "source": [
    "for f in ['value','valuez']:\n",
    "    df = data_all.xs(f, level='data_type', axis=1).copy()\n",
    "    df.columns = datasets['name'].values\n",
    "    df = df.droplevel('gene_id', axis=0)\n",
    "    df.to_csv(paper_name + '_' + f + '.txt', sep='\\t')"
   ]
  },
  {
   "cell_type": "markdown",
   "metadata": {},
   "source": [
    "# Save to DB"
   ]
  },
  {
   "cell_type": "code",
   "execution_count": 29,
   "metadata": {},
   "outputs": [],
   "source": [
    "from IO.save_data_to_db3 import *"
   ]
  },
  {
   "cell_type": "code",
   "execution_count": 30,
   "metadata": {},
   "outputs": [
    {
     "name": "stderr",
     "output_type": "stream",
     "text": [
      "  0%|          | 0/6 [00:00<?, ?it/s]"
     ]
    },
    {
     "name": "stdout",
     "output_type": "stream",
     "text": [
      "Deleting all datasets for PMID 23103169...\n",
      "Inserting the new data...\n"
     ]
    },
    {
     "name": "stderr",
     "output_type": "stream",
     "text": [
      "100%|██████████| 6/6 [00:41<00:00,  6.95s/it]"
     ]
    },
    {
     "name": "stdout",
     "output_type": "stream",
     "text": [
      "Updating the data_modified_on field...\n"
     ]
    },
    {
     "name": "stderr",
     "output_type": "stream",
     "text": [
      "\n"
     ]
    }
   ],
   "source": [
    "save_data_to_db(data_all, paper_pmid)"
   ]
  },
  {
   "cell_type": "code",
   "execution_count": null,
   "metadata": {},
   "outputs": [],
   "source": []
  }
 ],
 "metadata": {
  "kernelspec": {
   "display_name": "yp-data",
   "language": "python",
   "name": "yp-data"
  },
  "language_info": {
   "codemirror_mode": {
    "name": "ipython",
    "version": 3
   },
   "file_extension": ".py",
   "mimetype": "text/x-python",
   "name": "python",
   "nbconvert_exporter": "python",
   "pygments_lexer": "ipython3",
   "version": "3.7.7"
  }
 },
 "nbformat": 4,
 "nbformat_minor": 4
}
