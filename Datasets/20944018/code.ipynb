{
 "cells": [
  {
   "cell_type": "code",
   "execution_count": 1,
   "metadata": {},
   "outputs": [],
   "source": [
    "%run ../../Utils/yp_utils.py"
   ]
  },
  {
   "cell_type": "markdown",
   "metadata": {},
   "source": [
    "# Initial setup"
   ]
  },
  {
   "cell_type": "code",
   "execution_count": 2,
   "metadata": {},
   "outputs": [],
   "source": [
    "paper_pmid = 20944018\n",
    "paper_name = 'gresham_botstein_2011' "
   ]
  },
  {
   "cell_type": "code",
   "execution_count": 3,
   "metadata": {},
   "outputs": [],
   "source": [
    "datasets = pd.read_csv('extras/YeastPhenome_' + str(paper_pmid) + '_datasets_list.txt', sep='\\t', header=None, names=['dataset_id', 'name'])"
   ]
  },
  {
   "cell_type": "code",
   "execution_count": 4,
   "metadata": {},
   "outputs": [],
   "source": [
    "datasets.set_index('dataset_id', inplace=True)"
   ]
  },
  {
   "cell_type": "markdown",
   "metadata": {},
   "source": [
    "# Load & process the data"
   ]
  },
  {
   "cell_type": "code",
   "execution_count": 5,
   "metadata": {},
   "outputs": [],
   "source": [
    "files = ['TABLES4.xlsx','TABLES5.xlsx']\n",
    "sheets = ['phoAbs.txt','leuAbs.txt']"
   ]
  },
  {
   "cell_type": "code",
   "execution_count": 6,
   "metadata": {},
   "outputs": [
    {
     "name": "stdout",
     "output_type": "stream",
     "text": [
      "Original data dimensions: 6806 x 10\n",
      "              gene  deathrate   p-value   q-value        SD  \\\n",
      "index_input                                                   \n",
      "156           FLO8   0.003366  0.000041  0.000187  0.000251   \n",
      "186           FLO8   0.002343  0.000050  0.000190  0.000181   \n",
      "240           YSN1   0.001897  0.000067  0.000195  0.000156   \n",
      "322           WSP1   0.002659  0.000093  0.000205  0.000234   \n",
      "629           CRS5   0.002406  0.000197  0.000226  0.000248   \n",
      "763           SDL1   0.002106  0.000258  0.000244  0.000230   \n",
      "800           WSP1   0.002943  0.000275  0.000248  0.000325   \n",
      "913          SDC25   0.002334  0.000331  0.000261  0.000268   \n",
      "1412          MNI2   0.003401  0.000599  0.000306  0.000443   \n",
      "1440         FMP35   0.007090  0.000616  0.000309  0.000929   \n",
      "1559         TMA29   0.002595  0.000718  0.000332  0.000352   \n",
      "1567          YSN1   0.002056  0.000727  0.000334  0.000279   \n",
      "1891         FMP31   0.002714  0.001030  0.000393  0.000398   \n",
      "2722         SDC25   0.002492  0.002396  0.000636  0.000440   \n",
      "2773          CRS5   0.002510  0.002508  0.000653  0.000448   \n",
      "3027          MNI2   0.002824  0.003178  0.000758  0.000532   \n",
      "3083         HXT12   0.001358  0.003330  0.000780  0.000259   \n",
      "3392          FLO8   0.003058  0.004461  0.000950  0.000624   \n",
      "3813         FMP35   0.007233  0.006856  0.001299  0.001634   \n",
      "5455         FMP31   0.005990  0.064580  0.008554  0.002536   \n",
      "6340          ZSP1  -0.000513  0.448038  0.051062  0.000623   \n",
      "6499          AAD6  -0.003054  0.605659  0.067337  0.005547   \n",
      "\n",
      "             low-confidence interval  upper-confidence interval     halflife  \\\n",
      "index_input                                                                    \n",
      "156                         0.002722                   0.004010   205.904848   \n",
      "186                         0.001877                   0.002810   295.808980   \n",
      "240                         0.001496                   0.002298   365.479570   \n",
      "322                         0.002056                   0.003261   260.721372   \n",
      "629                         0.001768                   0.003043   288.122356   \n",
      "763                         0.001516                   0.002697   329.080269   \n",
      "800                         0.002107                   0.003779   235.493510   \n",
      "913                         0.001645                   0.003023   296.976486   \n",
      "1412                        0.002262                   0.004541   203.786398   \n",
      "1440                        0.004701                   0.009479    97.768287   \n",
      "1559                        0.001691                   0.003499   267.107400   \n",
      "1567                        0.001338                   0.002773   337.207083   \n",
      "1891                        0.001692                   0.003737   255.357755   \n",
      "2722                        0.001360                   0.003623   278.197114   \n",
      "2773                        0.001358                   0.003662   276.199959   \n",
      "3027                        0.001456                   0.004192   245.469571   \n",
      "3083                        0.000693                   0.002024   510.274342   \n",
      "3392                        0.001455                   0.004662   226.634492   \n",
      "3813                        0.003032                   0.011434    95.836591   \n",
      "5455                       -0.000529                   0.012508   115.722645   \n",
      "6340                       -0.002116                   0.001090 -1351.098100   \n",
      "6499                       -0.017313                   0.011206  -226.983284   \n",
      "\n",
      "              tag Hyperlink    orf  \n",
      "index_input                         \n",
      "156          down      FLO8   FLO8  \n",
      "186          down    FLO8_p   FLO8  \n",
      "240          down      YSN1   YSN1  \n",
      "322          down      WSP1   WSP1  \n",
      "629          down      CRS5   CRS5  \n",
      "763          down      SDL1   SDL1  \n",
      "800            up      WSP1   WSP1  \n",
      "913          down     SDC25  SDC25  \n",
      "1412         down      MNI2   MNI2  \n",
      "1440           up     FMP35  FMP35  \n",
      "1559         down     TMA29  TMA29  \n",
      "1567           up      YSN1   YSN1  \n",
      "1891         down     FMP31  FMP31  \n",
      "2722           up     SDC25  SDC25  \n",
      "2773           up      CRS5   CRS5  \n",
      "3027           up      MNI2   MNI2  \n",
      "3083           up     HXT12  HXT12  \n",
      "3392           up      FLO8   FLO8  \n",
      "3813         down     FMP35  FMP35  \n",
      "5455           up     FMP31  FMP31  \n",
      "6340         down      ZSP1   ZSP1  \n",
      "6499           up      AAD6   AAD6  \n",
      "(4304, 1)\n",
      "Original data dimensions: 6730 x 10\n",
      "              gene  deathrate   p-value   q-value        SD  \\\n",
      "index_input                                                   \n",
      "506           ZSP1   0.041306  0.000761  0.000533  0.005667   \n",
      "1780          FLO8   0.027149  0.536910  0.115080  0.040975   \n",
      "1781          FLO8   0.028920  0.247830  0.057301  0.022113   \n",
      "1782          FLO8   0.028721  0.162540  0.038860  0.017544   \n",
      "1937          AAD6   0.029943  0.000604  0.000475  0.003909   \n",
      "3072         FMP35   0.051411  0.000010  0.000070  0.002875   \n",
      "3073         FMP35   0.057865  0.291208  0.066592  0.049053   \n",
      "3090          SDL1   0.032707  0.000160  0.000267  0.003225   \n",
      "3093         HXT12   0.002070  0.531513  0.114207  0.003081   \n",
      "3094         HXT12   0.001217  0.294062  0.067197  0.001038   \n",
      "3921         SDC25   0.028828  0.000439  0.000410  0.003516   \n",
      "3922         SDC25   0.026998  0.001542  0.000774  0.004323   \n",
      "4913         TMA29   0.020941  0.011259  0.003426  0.005351   \n",
      "5510          YSN1   0.031879  0.004468  0.001627  0.006504   \n",
      "5511          YSN1   0.032966  0.001572  0.000783  0.005301   \n",
      "5757          CRS5   0.030618  0.001804  0.000861  0.005077   \n",
      "5758          CRS5   0.031563  0.000717  0.000515  0.004275   \n",
      "5974          WSP1   0.027842  0.002240  0.000989  0.004846   \n",
      "5975          WSP1   0.028755  0.001931  0.000895  0.004841   \n",
      "6052         FMP31   0.038815  0.000024  0.000108  0.002585   \n",
      "6053         FMP31   0.044883  0.000574  0.000461  0.005795   \n",
      "6561          MNI2   0.029625  0.006593  0.002202  0.006631   \n",
      "6562          MNI2   0.030017  0.001902  0.000887  0.005036   \n",
      "\n",
      "             low-confidence interval  upper-confidence interval    halflife  \\\n",
      "index_input                                                                   \n",
      "506                         0.026738                   0.055874   16.780713   \n",
      "1780                       -0.078179                   0.132478   25.530902   \n",
      "1781                       -0.027924                   0.085764   23.967456   \n",
      "1782                       -0.016377                   0.073820   24.133668   \n",
      "1937                        0.019896                   0.039990   23.148701   \n",
      "3072                        0.044020                   0.058801   13.482584   \n",
      "3073                       -0.068230                   0.183961   11.978606   \n",
      "3090                        0.024417                   0.040997   21.192588   \n",
      "3093                       -0.005850                   0.009990  334.888356   \n",
      "3094                       -0.001452                   0.003885  569.749077   \n",
      "3921                        0.019789                   0.037867   24.044265   \n",
      "3922                        0.015885                   0.038111   25.673739   \n",
      "4913                        0.007185                   0.034697   33.100511   \n",
      "5510                        0.015160                   0.048598   21.742752   \n",
      "5511                        0.019338                   0.046594   21.026192   \n",
      "5757                        0.017567                   0.043669   22.638758   \n",
      "5758                        0.020573                   0.042553   21.960793   \n",
      "5974                        0.015385                   0.040299   24.895882   \n",
      "5975                        0.016311                   0.041200   24.105004   \n",
      "6052                        0.032170                   0.045460   17.857644   \n",
      "6053                        0.029986                   0.059780   15.443520   \n",
      "6561                        0.012580                   0.046670   23.397410   \n",
      "6562                        0.017071                   0.042962   23.092181   \n",
      "\n",
      "              tag Hyperlink    orf  \n",
      "index_input                         \n",
      "506          down      ZSP1   ZSP1  \n",
      "1780         down    FLO8_p   FLO8  \n",
      "1781         down      FLO8   FLO8  \n",
      "1782           up      FLO8   FLO8  \n",
      "1937           up      AAD6   AAD6  \n",
      "3072         down     FMP35  FMP35  \n",
      "3073           up     FMP35  FMP35  \n",
      "3090         down      SDL1   SDL1  \n",
      "3093         down     HXT12  HXT12  \n",
      "3094           up     HXT12  HXT12  \n",
      "3921         down     SDC25  SDC25  \n",
      "3922           up     SDC25  SDC25  \n",
      "4913         down     TMA29  TMA29  \n",
      "5510         down      YSN1   YSN1  \n",
      "5511           up      YSN1   YSN1  \n",
      "5757         down      CRS5   CRS5  \n",
      "5758           up      CRS5   CRS5  \n",
      "5974         down      WSP1   WSP1  \n",
      "5975           up      WSP1   WSP1  \n",
      "6052         down     FMP31  FMP31  \n",
      "6053           up     FMP31  FMP31  \n",
      "6561         down      MNI2   MNI2  \n",
      "6562           up      MNI2   MNI2  \n",
      "(4260, 1)\n"
     ]
    }
   ],
   "source": [
    "original_data_list = []\n",
    "for ixf, f in enumerate(files):\n",
    "    original_data = pd.read_excel('raw_data/' + f, sheet_name=sheets[ixf])\n",
    "    print('Original data dimensions: %d x %d' % (original_data.shape))\n",
    "#     print(original_data.head())\n",
    "    original_data['gene'] = original_data['gene'].astype(str)\n",
    "    original_data['gene'] = original_data['gene'].apply(lambda x: x.split('_')[0])\n",
    "    original_data['gene'] = clean_genename(original_data['gene'])\n",
    "    original_data['orf'] = translate_sc(original_data['gene'], to='orf')\n",
    "    t = looks_like_orf(original_data['orf'])\n",
    "    print(original_data.loc[~t,])\n",
    "    original_data = original_data.loc[t,:]\n",
    "    original_data['data'] = original_data['halflife'].astype(float)\n",
    "    original_data.set_index('orf', inplace=True)\n",
    "    \n",
    "    original_data = original_data[['data']].copy()\n",
    "    original_data = original_data.groupby(original_data.index).mean()\n",
    "    print(original_data.shape)\n",
    "    \n",
    "    original_data_list.append(original_data)"
   ]
  },
  {
   "cell_type": "code",
   "execution_count": 7,
   "metadata": {},
   "outputs": [],
   "source": [
    "original_data = pd.concat(original_data_list, axis=1)"
   ]
  },
  {
   "cell_type": "code",
   "execution_count": 8,
   "metadata": {},
   "outputs": [],
   "source": [
    "original_data.index.name='orf'"
   ]
  },
  {
   "cell_type": "code",
   "execution_count": 9,
   "metadata": {},
   "outputs": [
    {
     "data": {
      "text/plain": [
       "(4317, 2)"
      ]
     },
     "execution_count": 9,
     "metadata": {},
     "output_type": "execute_result"
    }
   ],
   "source": [
    "original_data.shape"
   ]
  },
  {
   "cell_type": "code",
   "execution_count": 10,
   "metadata": {},
   "outputs": [
    {
     "data": {
      "text/html": [
       "<div>\n",
       "<style scoped>\n",
       "    .dataframe tbody tr th:only-of-type {\n",
       "        vertical-align: middle;\n",
       "    }\n",
       "\n",
       "    .dataframe tbody tr th {\n",
       "        vertical-align: top;\n",
       "    }\n",
       "\n",
       "    .dataframe thead th {\n",
       "        text-align: right;\n",
       "    }\n",
       "</style>\n",
       "<table border=\"1\" class=\"dataframe\">\n",
       "  <thead>\n",
       "    <tr style=\"text-align: right;\">\n",
       "      <th></th>\n",
       "      <th>data</th>\n",
       "      <th>data</th>\n",
       "    </tr>\n",
       "    <tr>\n",
       "      <th>orf</th>\n",
       "      <th></th>\n",
       "      <th></th>\n",
       "    </tr>\n",
       "  </thead>\n",
       "  <tbody>\n",
       "    <tr>\n",
       "      <th>YAL002W</th>\n",
       "      <td>54.827553</td>\n",
       "      <td>28.600328</td>\n",
       "    </tr>\n",
       "    <tr>\n",
       "      <th>YAL004W</th>\n",
       "      <td>376.148747</td>\n",
       "      <td>15.677022</td>\n",
       "    </tr>\n",
       "    <tr>\n",
       "      <th>YAL005C</th>\n",
       "      <td>255.345049</td>\n",
       "      <td>18.101803</td>\n",
       "    </tr>\n",
       "    <tr>\n",
       "      <th>YAL007C</th>\n",
       "      <td>453.525695</td>\n",
       "      <td>28.618490</td>\n",
       "    </tr>\n",
       "    <tr>\n",
       "      <th>YAL008W</th>\n",
       "      <td>555.615837</td>\n",
       "      <td>45.128964</td>\n",
       "    </tr>\n",
       "  </tbody>\n",
       "</table>\n",
       "</div>"
      ],
      "text/plain": [
       "               data       data\n",
       "orf                           \n",
       "YAL002W   54.827553  28.600328\n",
       "YAL004W  376.148747  15.677022\n",
       "YAL005C  255.345049  18.101803\n",
       "YAL007C  453.525695  28.618490\n",
       "YAL008W  555.615837  45.128964"
      ]
     },
     "execution_count": 10,
     "metadata": {},
     "output_type": "execute_result"
    }
   ],
   "source": [
    "original_data.head()"
   ]
  },
  {
   "cell_type": "markdown",
   "metadata": {},
   "source": [
    "# Prepare the final dataset"
   ]
  },
  {
   "cell_type": "code",
   "execution_count": 11,
   "metadata": {},
   "outputs": [],
   "source": [
    "data = original_data.copy()"
   ]
  },
  {
   "cell_type": "code",
   "execution_count": 12,
   "metadata": {},
   "outputs": [],
   "source": [
    "dataset_ids = [93,451]\n",
    "datasets = datasets.reindex(index=dataset_ids)"
   ]
  },
  {
   "cell_type": "code",
   "execution_count": 13,
   "metadata": {},
   "outputs": [],
   "source": [
    "lst = [datasets.index.values, ['value']*datasets.shape[0]]\n",
    "tuples = list(zip(*lst))\n",
    "idx = pd.MultiIndex.from_tuples(tuples, names=['dataset_id','data_type'])\n",
    "data.columns = idx"
   ]
  },
  {
   "cell_type": "code",
   "execution_count": 14,
   "metadata": {},
   "outputs": [
    {
     "data": {
      "text/html": [
       "<div>\n",
       "<style scoped>\n",
       "    .dataframe tbody tr th:only-of-type {\n",
       "        vertical-align: middle;\n",
       "    }\n",
       "\n",
       "    .dataframe tbody tr th {\n",
       "        vertical-align: top;\n",
       "    }\n",
       "\n",
       "    .dataframe thead tr th {\n",
       "        text-align: left;\n",
       "    }\n",
       "\n",
       "    .dataframe thead tr:last-of-type th {\n",
       "        text-align: right;\n",
       "    }\n",
       "</style>\n",
       "<table border=\"1\" class=\"dataframe\">\n",
       "  <thead>\n",
       "    <tr>\n",
       "      <th>dataset_id</th>\n",
       "      <th>93</th>\n",
       "      <th>451</th>\n",
       "    </tr>\n",
       "    <tr>\n",
       "      <th>data_type</th>\n",
       "      <th>value</th>\n",
       "      <th>value</th>\n",
       "    </tr>\n",
       "    <tr>\n",
       "      <th>orf</th>\n",
       "      <th></th>\n",
       "      <th></th>\n",
       "    </tr>\n",
       "  </thead>\n",
       "  <tbody>\n",
       "    <tr>\n",
       "      <th>YAL002W</th>\n",
       "      <td>54.827553</td>\n",
       "      <td>28.600328</td>\n",
       "    </tr>\n",
       "    <tr>\n",
       "      <th>YAL004W</th>\n",
       "      <td>376.148747</td>\n",
       "      <td>15.677022</td>\n",
       "    </tr>\n",
       "    <tr>\n",
       "      <th>YAL005C</th>\n",
       "      <td>255.345049</td>\n",
       "      <td>18.101803</td>\n",
       "    </tr>\n",
       "    <tr>\n",
       "      <th>YAL007C</th>\n",
       "      <td>453.525695</td>\n",
       "      <td>28.618490</td>\n",
       "    </tr>\n",
       "    <tr>\n",
       "      <th>YAL008W</th>\n",
       "      <td>555.615837</td>\n",
       "      <td>45.128964</td>\n",
       "    </tr>\n",
       "  </tbody>\n",
       "</table>\n",
       "</div>"
      ],
      "text/plain": [
       "dataset_id         93         451\n",
       "data_type        value      value\n",
       "orf                              \n",
       "YAL002W      54.827553  28.600328\n",
       "YAL004W     376.148747  15.677022\n",
       "YAL005C     255.345049  18.101803\n",
       "YAL007C     453.525695  28.618490\n",
       "YAL008W     555.615837  45.128964"
      ]
     },
     "execution_count": 14,
     "metadata": {},
     "output_type": "execute_result"
    }
   ],
   "source": [
    "data.head()"
   ]
  },
  {
   "cell_type": "markdown",
   "metadata": {},
   "source": [
    "## Subset to the genes currently in SGD"
   ]
  },
  {
   "cell_type": "code",
   "execution_count": 15,
   "metadata": {},
   "outputs": [
    {
     "name": "stdout",
     "output_type": "stream",
     "text": [
      "ORFs missing from SGD: 12\n"
     ]
    }
   ],
   "source": [
    "genes = pd.read_csv(path_to_genes, sep='\\t', index_col='id')\n",
    "genes = genes.reset_index().set_index('systematic_name')\n",
    "gene_ids = genes.reindex(index=data.index.values)['id'].values\n",
    "num_missing = np.sum(np.isnan(gene_ids))\n",
    "print('ORFs missing from SGD: %d' % num_missing)"
   ]
  },
  {
   "cell_type": "code",
   "execution_count": 16,
   "metadata": {},
   "outputs": [
    {
     "data": {
      "text/html": [
       "<div>\n",
       "<style scoped>\n",
       "    .dataframe tbody tr th:only-of-type {\n",
       "        vertical-align: middle;\n",
       "    }\n",
       "\n",
       "    .dataframe tbody tr th {\n",
       "        vertical-align: top;\n",
       "    }\n",
       "\n",
       "    .dataframe thead tr th {\n",
       "        text-align: left;\n",
       "    }\n",
       "\n",
       "    .dataframe thead tr:last-of-type th {\n",
       "        text-align: right;\n",
       "    }\n",
       "</style>\n",
       "<table border=\"1\" class=\"dataframe\">\n",
       "  <thead>\n",
       "    <tr>\n",
       "      <th></th>\n",
       "      <th>dataset_id</th>\n",
       "      <th>93</th>\n",
       "      <th>451</th>\n",
       "    </tr>\n",
       "    <tr>\n",
       "      <th></th>\n",
       "      <th>data_type</th>\n",
       "      <th>value</th>\n",
       "      <th>value</th>\n",
       "    </tr>\n",
       "    <tr>\n",
       "      <th>gene_id</th>\n",
       "      <th>orf</th>\n",
       "      <th></th>\n",
       "      <th></th>\n",
       "    </tr>\n",
       "  </thead>\n",
       "  <tbody>\n",
       "    <tr>\n",
       "      <th>2</th>\n",
       "      <th>YAL002W</th>\n",
       "      <td>54.827553</td>\n",
       "      <td>28.600328</td>\n",
       "    </tr>\n",
       "    <tr>\n",
       "      <th>1863</th>\n",
       "      <th>YAL004W</th>\n",
       "      <td>376.148747</td>\n",
       "      <td>15.677022</td>\n",
       "    </tr>\n",
       "    <tr>\n",
       "      <th>4</th>\n",
       "      <th>YAL005C</th>\n",
       "      <td>255.345049</td>\n",
       "      <td>18.101803</td>\n",
       "    </tr>\n",
       "    <tr>\n",
       "      <th>5</th>\n",
       "      <th>YAL007C</th>\n",
       "      <td>453.525695</td>\n",
       "      <td>28.618490</td>\n",
       "    </tr>\n",
       "    <tr>\n",
       "      <th>6</th>\n",
       "      <th>YAL008W</th>\n",
       "      <td>555.615837</td>\n",
       "      <td>45.128964</td>\n",
       "    </tr>\n",
       "  </tbody>\n",
       "</table>\n",
       "</div>"
      ],
      "text/plain": [
       "dataset_id              93         451\n",
       "data_type             value      value\n",
       "gene_id orf                           \n",
       "2       YAL002W   54.827553  28.600328\n",
       "1863    YAL004W  376.148747  15.677022\n",
       "4       YAL005C  255.345049  18.101803\n",
       "5       YAL007C  453.525695  28.618490\n",
       "6       YAL008W  555.615837  45.128964"
      ]
     },
     "execution_count": 16,
     "metadata": {},
     "output_type": "execute_result"
    }
   ],
   "source": [
    "data['gene_id'] = gene_ids\n",
    "data = data.loc[data['gene_id'].notnull()]\n",
    "data['gene_id'] = data['gene_id'].astype(int)\n",
    "data = data.reset_index().set_index(['gene_id','orf'])\n",
    "\n",
    "data.head()"
   ]
  },
  {
   "cell_type": "markdown",
   "metadata": {},
   "source": [
    "# Normalize"
   ]
  },
  {
   "cell_type": "code",
   "execution_count": 38,
   "metadata": {},
   "outputs": [],
   "source": [
    "# Cap the maximum value at 1e10 (due to the database field limitations)\n",
    "data[data > 1e9] = 1e9\n",
    "data[data < -1e9] = -1e9"
   ]
  },
  {
   "cell_type": "code",
   "execution_count": 39,
   "metadata": {},
   "outputs": [],
   "source": [
    "data_norm = normalize_phenotypic_scores(data, has_tested=True)"
   ]
  },
  {
   "cell_type": "code",
   "execution_count": 40,
   "metadata": {},
   "outputs": [],
   "source": [
    "# Assign proper column names\n",
    "lst = [datasets.index.values, ['valuez']*datasets.shape[0]]\n",
    "tuples = list(zip(*lst))\n",
    "idx = pd.MultiIndex.from_tuples(tuples, names=['dataset_id','data_type'])\n",
    "data_norm.columns = idx"
   ]
  },
  {
   "cell_type": "code",
   "execution_count": 41,
   "metadata": {},
   "outputs": [
    {
     "data": {
      "text/html": [
       "<div>\n",
       "<style scoped>\n",
       "    .dataframe tbody tr th:only-of-type {\n",
       "        vertical-align: middle;\n",
       "    }\n",
       "\n",
       "    .dataframe tbody tr th {\n",
       "        vertical-align: top;\n",
       "    }\n",
       "\n",
       "    .dataframe thead tr th {\n",
       "        text-align: left;\n",
       "    }\n",
       "\n",
       "    .dataframe thead tr:last-of-type th {\n",
       "        text-align: right;\n",
       "    }\n",
       "</style>\n",
       "<table border=\"1\" class=\"dataframe\">\n",
       "  <thead>\n",
       "    <tr>\n",
       "      <th></th>\n",
       "      <th>dataset_id</th>\n",
       "      <th>93</th>\n",
       "      <th>451</th>\n",
       "      <th>93</th>\n",
       "      <th>451</th>\n",
       "    </tr>\n",
       "    <tr>\n",
       "      <th></th>\n",
       "      <th>data_type</th>\n",
       "      <th>value</th>\n",
       "      <th>value</th>\n",
       "      <th>valuez</th>\n",
       "      <th>valuez</th>\n",
       "    </tr>\n",
       "    <tr>\n",
       "      <th>gene_id</th>\n",
       "      <th>orf</th>\n",
       "      <th></th>\n",
       "      <th></th>\n",
       "      <th></th>\n",
       "      <th></th>\n",
       "    </tr>\n",
       "  </thead>\n",
       "  <tbody>\n",
       "    <tr>\n",
       "      <th>2</th>\n",
       "      <th>YAL002W</th>\n",
       "      <td>54.827553</td>\n",
       "      <td>28.600328</td>\n",
       "      <td>-0.164015</td>\n",
       "      <td>-0.356347</td>\n",
       "    </tr>\n",
       "    <tr>\n",
       "      <th>1863</th>\n",
       "      <th>YAL004W</th>\n",
       "      <td>376.148747</td>\n",
       "      <td>15.677022</td>\n",
       "      <td>-0.091490</td>\n",
       "      <td>-0.356348</td>\n",
       "    </tr>\n",
       "    <tr>\n",
       "      <th>4</th>\n",
       "      <th>YAL005C</th>\n",
       "      <td>255.345049</td>\n",
       "      <td>18.101803</td>\n",
       "      <td>-0.118757</td>\n",
       "      <td>-0.356348</td>\n",
       "    </tr>\n",
       "    <tr>\n",
       "      <th>5</th>\n",
       "      <th>YAL007C</th>\n",
       "      <td>453.525695</td>\n",
       "      <td>28.618490</td>\n",
       "      <td>-0.074026</td>\n",
       "      <td>-0.356347</td>\n",
       "    </tr>\n",
       "    <tr>\n",
       "      <th>6</th>\n",
       "      <th>YAL008W</th>\n",
       "      <td>555.615837</td>\n",
       "      <td>45.128964</td>\n",
       "      <td>-0.050984</td>\n",
       "      <td>-0.356347</td>\n",
       "    </tr>\n",
       "  </tbody>\n",
       "</table>\n",
       "</div>"
      ],
      "text/plain": [
       "dataset_id              93         451       93        451\n",
       "data_type             value      value    valuez    valuez\n",
       "gene_id orf                                               \n",
       "2       YAL002W   54.827553  28.600328 -0.164015 -0.356347\n",
       "1863    YAL004W  376.148747  15.677022 -0.091490 -0.356348\n",
       "4       YAL005C  255.345049  18.101803 -0.118757 -0.356348\n",
       "5       YAL007C  453.525695  28.618490 -0.074026 -0.356347\n",
       "6       YAL008W  555.615837  45.128964 -0.050984 -0.356347"
      ]
     },
     "execution_count": 41,
     "metadata": {},
     "output_type": "execute_result"
    }
   ],
   "source": [
    "data_norm[data.isnull()] = np.nan\n",
    "data_all = data.join(data_norm)\n",
    "\n",
    "data_all.head()"
   ]
  },
  {
   "cell_type": "markdown",
   "metadata": {},
   "source": [
    "# Print out"
   ]
  },
  {
   "cell_type": "code",
   "execution_count": 42,
   "metadata": {},
   "outputs": [],
   "source": [
    "for f in ['value','valuez']:\n",
    "    df = data_all.xs(f, level='data_type', axis=1).copy()\n",
    "    df.columns = datasets['name'].values\n",
    "    df = df.droplevel('gene_id', axis=0)\n",
    "    df.to_csv(paper_name + '_' + f + '.txt', sep='\\t')"
   ]
  },
  {
   "cell_type": "markdown",
   "metadata": {},
   "source": [
    "# Save to DB"
   ]
  },
  {
   "cell_type": "code",
   "execution_count": 43,
   "metadata": {},
   "outputs": [],
   "source": [
    "from IO.save_data_to_db3 import *"
   ]
  },
  {
   "cell_type": "code",
   "execution_count": 44,
   "metadata": {},
   "outputs": [
    {
     "name": "stderr",
     "output_type": "stream",
     "text": [
      "  0%|          | 0/2 [00:00<?, ?it/s]"
     ]
    },
    {
     "name": "stdout",
     "output_type": "stream",
     "text": [
      "Deleting all datasets for PMID 20944018...\n",
      "Inserting the new data...\n"
     ]
    },
    {
     "name": "stderr",
     "output_type": "stream",
     "text": [
      "100%|██████████| 2/2 [00:12<00:00,  6.33s/it]"
     ]
    },
    {
     "name": "stdout",
     "output_type": "stream",
     "text": [
      "Updating the data_modified_on field...\n"
     ]
    },
    {
     "name": "stderr",
     "output_type": "stream",
     "text": [
      "\n"
     ]
    }
   ],
   "source": [
    "save_data_to_db(data_all, paper_pmid)"
   ]
  },
  {
   "cell_type": "code",
   "execution_count": null,
   "metadata": {},
   "outputs": [],
   "source": []
  }
 ],
 "metadata": {
  "kernelspec": {
   "display_name": "yp-data",
   "language": "python",
   "name": "yp-data"
  },
  "language_info": {
   "codemirror_mode": {
    "name": "ipython",
    "version": 3
   },
   "file_extension": ".py",
   "mimetype": "text/x-python",
   "name": "python",
   "nbconvert_exporter": "python",
   "pygments_lexer": "ipython3",
   "version": "3.7.7"
  }
 },
 "nbformat": 4,
 "nbformat_minor": 4
}
