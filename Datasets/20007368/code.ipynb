{
 "cells": [
  {
   "cell_type": "code",
   "execution_count": 1,
   "metadata": {},
   "outputs": [],
   "source": [
    "%run ../../Utils/yp_utils.py"
   ]
  },
  {
   "cell_type": "markdown",
   "metadata": {},
   "source": [
    "# Initial setup"
   ]
  },
  {
   "cell_type": "code",
   "execution_count": 2,
   "metadata": {},
   "outputs": [],
   "source": [
    "paper_pmid = 20007368\n",
    "paper_name = 'mclaughlin_tumer_2009' "
   ]
  },
  {
   "cell_type": "code",
   "execution_count": 3,
   "metadata": {},
   "outputs": [],
   "source": [
    "datasets = pd.read_csv('extras/YeastPhenome_' + str(paper_pmid) + '_datasets_list.txt', sep='\\t', header=None, names=['dataset_id', 'name'])"
   ]
  },
  {
   "cell_type": "code",
   "execution_count": 4,
   "metadata": {},
   "outputs": [],
   "source": [
    "datasets.set_index('dataset_id', inplace=True)"
   ]
  },
  {
   "cell_type": "markdown",
   "metadata": {},
   "source": [
    "# Load & process the data"
   ]
  },
  {
   "cell_type": "code",
   "execution_count": 41,
   "metadata": {},
   "outputs": [],
   "source": [
    "original_data = pd.read_excel('raw_data/0909777106_0909777106S.xlsx', sheet_name='0909777106_0909777106S', header=None)"
   ]
  },
  {
   "cell_type": "code",
   "execution_count": 42,
   "metadata": {},
   "outputs": [
    {
     "name": "stdout",
     "output_type": "stream",
     "text": [
      "Original data dimensions: 16 x 11\n"
     ]
    }
   ],
   "source": [
    "print('Original data dimensions: %d x %d' % (original_data.shape))"
   ]
  },
  {
   "cell_type": "code",
   "execution_count": 43,
   "metadata": {},
   "outputs": [
    {
     "data": {
      "text/html": [
       "<div>\n",
       "<style scoped>\n",
       "    .dataframe tbody tr th:only-of-type {\n",
       "        vertical-align: middle;\n",
       "    }\n",
       "\n",
       "    .dataframe tbody tr th {\n",
       "        vertical-align: top;\n",
       "    }\n",
       "\n",
       "    .dataframe thead th {\n",
       "        text-align: right;\n",
       "    }\n",
       "</style>\n",
       "<table border=\"1\" class=\"dataframe\">\n",
       "  <thead>\n",
       "    <tr style=\"text-align: right;\">\n",
       "      <th></th>\n",
       "      <th>0</th>\n",
       "      <th>1</th>\n",
       "      <th>2</th>\n",
       "      <th>3</th>\n",
       "      <th>4</th>\n",
       "      <th>5</th>\n",
       "      <th>6</th>\n",
       "      <th>7</th>\n",
       "      <th>8</th>\n",
       "      <th>9</th>\n",
       "      <th>10</th>\n",
       "    </tr>\n",
       "  </thead>\n",
       "  <tbody>\n",
       "    <tr>\n",
       "      <th>0</th>\n",
       "      <td>BY4743</td>\n",
       "      <td>NaN</td>\n",
       "      <td>0.08</td>\n",
       "      <td>(0.15)</td>\n",
       "      <td>0.05</td>\n",
       "      <td>(0.09)</td>\n",
       "      <td>0.06</td>\n",
       "      <td>(0.32)</td>\n",
       "      <td>0.03</td>\n",
       "      <td>(0.31)</td>\n",
       "      <td>0.22</td>\n",
       "    </tr>\n",
       "    <tr>\n",
       "      <th>1</th>\n",
       "      <td>YHR014W</td>\n",
       "      <td>SPO13</td>\n",
       "      <td>0.74</td>\n",
       "      <td>(0.37)</td>\n",
       "      <td>0.80</td>\n",
       "      <td>(0.01)</td>\n",
       "      <td>0.84</td>\n",
       "      <td>(0.11)</td>\n",
       "      <td>0.64</td>\n",
       "      <td>(0.15)</td>\n",
       "      <td>3.02</td>\n",
       "    </tr>\n",
       "    <tr>\n",
       "      <th>2</th>\n",
       "      <td>YLR193C</td>\n",
       "      <td>UPS1</td>\n",
       "      <td>0.90</td>\n",
       "      <td>(0.09)</td>\n",
       "      <td>0.90</td>\n",
       "      <td>(0.07)</td>\n",
       "      <td>0.60</td>\n",
       "      <td>(0.05)</td>\n",
       "      <td>0.50</td>\n",
       "      <td>(0.78)</td>\n",
       "      <td>2.90</td>\n",
       "    </tr>\n",
       "    <tr>\n",
       "      <th>3</th>\n",
       "      <td>YLR262C-A</td>\n",
       "      <td>TMA7</td>\n",
       "      <td>1.02</td>\n",
       "      <td>(0.07)</td>\n",
       "      <td>0.94</td>\n",
       "      <td>(0.05)</td>\n",
       "      <td>0.98</td>\n",
       "      <td>(0.01)</td>\n",
       "      <td>0.46</td>\n",
       "      <td>(0.47)</td>\n",
       "      <td>3.40</td>\n",
       "    </tr>\n",
       "    <tr>\n",
       "      <th>4</th>\n",
       "      <td>YKR010C</td>\n",
       "      <td>TOF2</td>\n",
       "      <td>0.98</td>\n",
       "      <td>(0.14)</td>\n",
       "      <td>0.98</td>\n",
       "      <td>(0.04)</td>\n",
       "      <td>0.71</td>\n",
       "      <td>(0.09)</td>\n",
       "      <td>0.27</td>\n",
       "      <td>(0.76)</td>\n",
       "      <td>2.94</td>\n",
       "    </tr>\n",
       "  </tbody>\n",
       "</table>\n",
       "</div>"
      ],
      "text/plain": [
       "          0      1     2       3     4       5     6       7     8       9   \\\n",
       "0     BY4743    NaN  0.08  (0.15)  0.05  (0.09)  0.06  (0.32)  0.03  (0.31)   \n",
       "1    YHR014W  SPO13  0.74  (0.37)  0.80  (0.01)  0.84  (0.11)  0.64  (0.15)   \n",
       "2    YLR193C   UPS1  0.90  (0.09)  0.90  (0.07)  0.60  (0.05)  0.50  (0.78)   \n",
       "3  YLR262C-A   TMA7  1.02  (0.07)  0.94  (0.05)  0.98  (0.01)  0.46  (0.47)   \n",
       "4    YKR010C   TOF2  0.98  (0.14)  0.98  (0.04)  0.71  (0.09)  0.27  (0.76)   \n",
       "\n",
       "     10  \n",
       "0  0.22  \n",
       "1  3.02  \n",
       "2  2.90  \n",
       "3  3.40  \n",
       "4  2.94  "
      ]
     },
     "execution_count": 43,
     "metadata": {},
     "output_type": "execute_result"
    }
   ],
   "source": [
    "original_data.head()"
   ]
  },
  {
   "cell_type": "code",
   "execution_count": 44,
   "metadata": {},
   "outputs": [],
   "source": [
    "original_data['orf'] = original_data[0].astype(str)"
   ]
  },
  {
   "cell_type": "code",
   "execution_count": 45,
   "metadata": {},
   "outputs": [],
   "source": [
    "# Eliminate all white spaces & capitalize\n",
    "original_data['orf'] = clean_orf(original_data['orf'])"
   ]
  },
  {
   "cell_type": "code",
   "execution_count": 46,
   "metadata": {},
   "outputs": [],
   "source": [
    "# Translate to ORFs \n",
    "original_data['orf'] = translate_sc(original_data['orf'], to='orf')"
   ]
  },
  {
   "cell_type": "code",
   "execution_count": 47,
   "metadata": {},
   "outputs": [
    {
     "name": "stdout",
     "output_type": "stream",
     "text": [
      "                  0    1     2       3     4       5     6       7     8  \\\n",
      "index_input                                                                \n",
      "0            BY4743  NaN  0.08  (0.15)  0.05  (0.09)  0.06  (0.32)  0.03   \n",
      "\n",
      "                  9    10     orf  \n",
      "index_input                        \n",
      "0            (0.31)  0.22  BY4743  \n"
     ]
    }
   ],
   "source": [
    "# Make sure everything translated ok\n",
    "t = looks_like_orf(original_data['orf'])\n",
    "print(original_data.loc[~t,])"
   ]
  },
  {
   "cell_type": "code",
   "execution_count": 48,
   "metadata": {},
   "outputs": [],
   "source": [
    "original_data.set_index('orf', inplace=True)"
   ]
  },
  {
   "cell_type": "code",
   "execution_count": 49,
   "metadata": {},
   "outputs": [],
   "source": [
    "original_data = original_data[[2,4,6,8]].astype(float)"
   ]
  },
  {
   "cell_type": "code",
   "execution_count": 50,
   "metadata": {},
   "outputs": [],
   "source": [
    "# Normalize by WT\n",
    "original_data = original_data.div(original_data.loc['BY4743',:], axis=1) - 1"
   ]
  },
  {
   "cell_type": "code",
   "execution_count": 51,
   "metadata": {},
   "outputs": [
    {
     "data": {
      "text/html": [
       "<div>\n",
       "<style scoped>\n",
       "    .dataframe tbody tr th:only-of-type {\n",
       "        vertical-align: middle;\n",
       "    }\n",
       "\n",
       "    .dataframe tbody tr th {\n",
       "        vertical-align: top;\n",
       "    }\n",
       "\n",
       "    .dataframe thead th {\n",
       "        text-align: right;\n",
       "    }\n",
       "</style>\n",
       "<table border=\"1\" class=\"dataframe\">\n",
       "  <thead>\n",
       "    <tr style=\"text-align: right;\">\n",
       "      <th></th>\n",
       "      <th>2</th>\n",
       "      <th>4</th>\n",
       "      <th>6</th>\n",
       "      <th>8</th>\n",
       "    </tr>\n",
       "    <tr>\n",
       "      <th>orf</th>\n",
       "      <th></th>\n",
       "      <th></th>\n",
       "      <th></th>\n",
       "      <th></th>\n",
       "    </tr>\n",
       "  </thead>\n",
       "  <tbody>\n",
       "    <tr>\n",
       "      <th>BY4743</th>\n",
       "      <td>0.00</td>\n",
       "      <td>0.0</td>\n",
       "      <td>0.000000</td>\n",
       "      <td>0.000000</td>\n",
       "    </tr>\n",
       "    <tr>\n",
       "      <th>YHR014W</th>\n",
       "      <td>8.25</td>\n",
       "      <td>15.0</td>\n",
       "      <td>13.000000</td>\n",
       "      <td>20.333333</td>\n",
       "    </tr>\n",
       "    <tr>\n",
       "      <th>YLR193C</th>\n",
       "      <td>10.25</td>\n",
       "      <td>17.0</td>\n",
       "      <td>9.000000</td>\n",
       "      <td>15.666667</td>\n",
       "    </tr>\n",
       "    <tr>\n",
       "      <th>YLR262C-A</th>\n",
       "      <td>11.75</td>\n",
       "      <td>17.8</td>\n",
       "      <td>15.333333</td>\n",
       "      <td>14.333333</td>\n",
       "    </tr>\n",
       "    <tr>\n",
       "      <th>YKR010C</th>\n",
       "      <td>11.25</td>\n",
       "      <td>18.6</td>\n",
       "      <td>10.833333</td>\n",
       "      <td>8.000000</td>\n",
       "    </tr>\n",
       "  </tbody>\n",
       "</table>\n",
       "</div>"
      ],
      "text/plain": [
       "               2     4          6          8\n",
       "orf                                         \n",
       "BY4743      0.00   0.0   0.000000   0.000000\n",
       "YHR014W     8.25  15.0  13.000000  20.333333\n",
       "YLR193C    10.25  17.0   9.000000  15.666667\n",
       "YLR262C-A  11.75  17.8  15.333333  14.333333\n",
       "YKR010C    11.25  18.6  10.833333   8.000000"
      ]
     },
     "execution_count": 51,
     "metadata": {},
     "output_type": "execute_result"
    }
   ],
   "source": [
    "original_data.head()"
   ]
  },
  {
   "cell_type": "code",
   "execution_count": 52,
   "metadata": {},
   "outputs": [],
   "source": [
    "original_data.drop(index='BY4743', inplace=True)"
   ]
  },
  {
   "cell_type": "code",
   "execution_count": 53,
   "metadata": {},
   "outputs": [],
   "source": [
    "original_data = original_data.groupby(original_data.index).mean()"
   ]
  },
  {
   "cell_type": "code",
   "execution_count": 54,
   "metadata": {},
   "outputs": [
    {
     "data": {
      "text/plain": [
       "(15, 4)"
      ]
     },
     "execution_count": 54,
     "metadata": {},
     "output_type": "execute_result"
    }
   ],
   "source": [
    "original_data.shape"
   ]
  },
  {
   "cell_type": "markdown",
   "metadata": {},
   "source": [
    "# Prepare the final dataset"
   ]
  },
  {
   "cell_type": "code",
   "execution_count": 55,
   "metadata": {},
   "outputs": [],
   "source": [
    "data = original_data.copy()"
   ]
  },
  {
   "cell_type": "code",
   "execution_count": 56,
   "metadata": {},
   "outputs": [],
   "source": [
    "dataset_ids = [603, 5359, 5360, 5361]\n",
    "datasets = datasets.reindex(index=dataset_ids)"
   ]
  },
  {
   "cell_type": "code",
   "execution_count": 57,
   "metadata": {},
   "outputs": [],
   "source": [
    "lst = [datasets.index.values, ['value']*datasets.shape[0]]\n",
    "tuples = list(zip(*lst))\n",
    "idx = pd.MultiIndex.from_tuples(tuples, names=['dataset_id','data_type'])\n",
    "data.columns = idx"
   ]
  },
  {
   "cell_type": "code",
   "execution_count": 58,
   "metadata": {},
   "outputs": [
    {
     "data": {
      "text/html": [
       "<div>\n",
       "<style scoped>\n",
       "    .dataframe tbody tr th:only-of-type {\n",
       "        vertical-align: middle;\n",
       "    }\n",
       "\n",
       "    .dataframe tbody tr th {\n",
       "        vertical-align: top;\n",
       "    }\n",
       "\n",
       "    .dataframe thead tr th {\n",
       "        text-align: left;\n",
       "    }\n",
       "\n",
       "    .dataframe thead tr:last-of-type th {\n",
       "        text-align: right;\n",
       "    }\n",
       "</style>\n",
       "<table border=\"1\" class=\"dataframe\">\n",
       "  <thead>\n",
       "    <tr>\n",
       "      <th>dataset_id</th>\n",
       "      <th>603</th>\n",
       "      <th>5359</th>\n",
       "      <th>5360</th>\n",
       "      <th>5361</th>\n",
       "    </tr>\n",
       "    <tr>\n",
       "      <th>data_type</th>\n",
       "      <th>value</th>\n",
       "      <th>value</th>\n",
       "      <th>value</th>\n",
       "      <th>value</th>\n",
       "    </tr>\n",
       "    <tr>\n",
       "      <th>orf</th>\n",
       "      <th></th>\n",
       "      <th></th>\n",
       "      <th></th>\n",
       "      <th></th>\n",
       "    </tr>\n",
       "  </thead>\n",
       "  <tbody>\n",
       "    <tr>\n",
       "      <th>YDL054C</th>\n",
       "      <td>12.625</td>\n",
       "      <td>18.8</td>\n",
       "      <td>12.833333</td>\n",
       "      <td>1.000000</td>\n",
       "    </tr>\n",
       "    <tr>\n",
       "      <th>YDL173W</th>\n",
       "      <td>10.500</td>\n",
       "      <td>17.8</td>\n",
       "      <td>8.833333</td>\n",
       "      <td>-0.666667</td>\n",
       "    </tr>\n",
       "    <tr>\n",
       "      <th>YGL110C</th>\n",
       "      <td>10.500</td>\n",
       "      <td>16.0</td>\n",
       "      <td>10.833333</td>\n",
       "      <td>-0.333333</td>\n",
       "    </tr>\n",
       "    <tr>\n",
       "      <th>YGL139W</th>\n",
       "      <td>11.250</td>\n",
       "      <td>15.8</td>\n",
       "      <td>9.333333</td>\n",
       "      <td>-0.666667</td>\n",
       "    </tr>\n",
       "    <tr>\n",
       "      <th>YGR241C</th>\n",
       "      <td>11.000</td>\n",
       "      <td>18.6</td>\n",
       "      <td>14.000000</td>\n",
       "      <td>2.000000</td>\n",
       "    </tr>\n",
       "  </tbody>\n",
       "</table>\n",
       "</div>"
      ],
      "text/plain": [
       "dataset_id    603   5359       5360      5361\n",
       "data_type    value value      value     value\n",
       "orf                                          \n",
       "YDL054C     12.625  18.8  12.833333  1.000000\n",
       "YDL173W     10.500  17.8   8.833333 -0.666667\n",
       "YGL110C     10.500  16.0  10.833333 -0.333333\n",
       "YGL139W     11.250  15.8   9.333333 -0.666667\n",
       "YGR241C     11.000  18.6  14.000000  2.000000"
      ]
     },
     "execution_count": 58,
     "metadata": {},
     "output_type": "execute_result"
    }
   ],
   "source": [
    "data.head()"
   ]
  },
  {
   "cell_type": "markdown",
   "metadata": {},
   "source": [
    "## Subset to the genes currently in SGD"
   ]
  },
  {
   "cell_type": "code",
   "execution_count": 59,
   "metadata": {},
   "outputs": [
    {
     "name": "stdout",
     "output_type": "stream",
     "text": [
      "ORFs missing from SGD: 0\n"
     ]
    }
   ],
   "source": [
    "genes = pd.read_csv(path_to_genes, sep='\\t', index_col='id')\n",
    "genes = genes.reset_index().set_index('systematic_name')\n",
    "gene_ids = genes.reindex(index=data.index.values)['id'].values\n",
    "num_missing = np.sum(np.isnan(gene_ids))\n",
    "print('ORFs missing from SGD: %d' % num_missing)"
   ]
  },
  {
   "cell_type": "code",
   "execution_count": 60,
   "metadata": {},
   "outputs": [
    {
     "data": {
      "text/html": [
       "<div>\n",
       "<style scoped>\n",
       "    .dataframe tbody tr th:only-of-type {\n",
       "        vertical-align: middle;\n",
       "    }\n",
       "\n",
       "    .dataframe tbody tr th {\n",
       "        vertical-align: top;\n",
       "    }\n",
       "\n",
       "    .dataframe thead tr th {\n",
       "        text-align: left;\n",
       "    }\n",
       "\n",
       "    .dataframe thead tr:last-of-type th {\n",
       "        text-align: right;\n",
       "    }\n",
       "</style>\n",
       "<table border=\"1\" class=\"dataframe\">\n",
       "  <thead>\n",
       "    <tr>\n",
       "      <th></th>\n",
       "      <th>dataset_id</th>\n",
       "      <th>603</th>\n",
       "      <th>5359</th>\n",
       "      <th>5360</th>\n",
       "      <th>5361</th>\n",
       "    </tr>\n",
       "    <tr>\n",
       "      <th></th>\n",
       "      <th>data_type</th>\n",
       "      <th>value</th>\n",
       "      <th>value</th>\n",
       "      <th>value</th>\n",
       "      <th>value</th>\n",
       "    </tr>\n",
       "    <tr>\n",
       "      <th>gene_id</th>\n",
       "      <th>orf</th>\n",
       "      <th></th>\n",
       "      <th></th>\n",
       "      <th></th>\n",
       "      <th></th>\n",
       "    </tr>\n",
       "  </thead>\n",
       "  <tbody>\n",
       "    <tr>\n",
       "      <th>1932</th>\n",
       "      <th>YDL054C</th>\n",
       "      <td>12.625</td>\n",
       "      <td>18.8</td>\n",
       "      <td>12.833333</td>\n",
       "      <td>1.000000</td>\n",
       "    </tr>\n",
       "    <tr>\n",
       "      <th>2052</th>\n",
       "      <th>YDL173W</th>\n",
       "      <td>10.500</td>\n",
       "      <td>17.8</td>\n",
       "      <td>8.833333</td>\n",
       "      <td>-0.666667</td>\n",
       "    </tr>\n",
       "    <tr>\n",
       "      <th>2791</th>\n",
       "      <th>YGL110C</th>\n",
       "      <td>10.500</td>\n",
       "      <td>16.0</td>\n",
       "      <td>10.833333</td>\n",
       "      <td>-0.333333</td>\n",
       "    </tr>\n",
       "    <tr>\n",
       "      <th>2820</th>\n",
       "      <th>YGL139W</th>\n",
       "      <td>11.250</td>\n",
       "      <td>15.8</td>\n",
       "      <td>9.333333</td>\n",
       "      <td>-0.666667</td>\n",
       "    </tr>\n",
       "    <tr>\n",
       "      <th>3186</th>\n",
       "      <th>YGR241C</th>\n",
       "      <td>11.000</td>\n",
       "      <td>18.6</td>\n",
       "      <td>14.000000</td>\n",
       "      <td>2.000000</td>\n",
       "    </tr>\n",
       "  </tbody>\n",
       "</table>\n",
       "</div>"
      ],
      "text/plain": [
       "dataset_id         603   5359       5360      5361\n",
       "data_type         value value      value     value\n",
       "gene_id orf                                       \n",
       "1932    YDL054C  12.625  18.8  12.833333  1.000000\n",
       "2052    YDL173W  10.500  17.8   8.833333 -0.666667\n",
       "2791    YGL110C  10.500  16.0  10.833333 -0.333333\n",
       "2820    YGL139W  11.250  15.8   9.333333 -0.666667\n",
       "3186    YGR241C  11.000  18.6  14.000000  2.000000"
      ]
     },
     "execution_count": 60,
     "metadata": {},
     "output_type": "execute_result"
    }
   ],
   "source": [
    "data['gene_id'] = gene_ids\n",
    "data = data.loc[data['gene_id'].notnull()]\n",
    "data['gene_id'] = data['gene_id'].astype(int)\n",
    "data = data.reset_index().set_index(['gene_id','orf'])\n",
    "\n",
    "data.head()"
   ]
  },
  {
   "cell_type": "markdown",
   "metadata": {},
   "source": [
    "# Normalize"
   ]
  },
  {
   "cell_type": "code",
   "execution_count": 61,
   "metadata": {},
   "outputs": [],
   "source": [
    "data_norm = normalize_phenotypic_scores(data, has_tested=False)"
   ]
  },
  {
   "cell_type": "code",
   "execution_count": 62,
   "metadata": {},
   "outputs": [],
   "source": [
    "# Assign proper column names\n",
    "lst = [datasets.index.values, ['valuez']*datasets.shape[0]]\n",
    "tuples = list(zip(*lst))\n",
    "idx = pd.MultiIndex.from_tuples(tuples, names=['dataset_id','data_type'])\n",
    "data_norm.columns = idx"
   ]
  },
  {
   "cell_type": "code",
   "execution_count": 63,
   "metadata": {},
   "outputs": [
    {
     "data": {
      "text/html": [
       "<div>\n",
       "<style scoped>\n",
       "    .dataframe tbody tr th:only-of-type {\n",
       "        vertical-align: middle;\n",
       "    }\n",
       "\n",
       "    .dataframe tbody tr th {\n",
       "        vertical-align: top;\n",
       "    }\n",
       "\n",
       "    .dataframe thead tr th {\n",
       "        text-align: left;\n",
       "    }\n",
       "\n",
       "    .dataframe thead tr:last-of-type th {\n",
       "        text-align: right;\n",
       "    }\n",
       "</style>\n",
       "<table border=\"1\" class=\"dataframe\">\n",
       "  <thead>\n",
       "    <tr>\n",
       "      <th></th>\n",
       "      <th>dataset_id</th>\n",
       "      <th>603</th>\n",
       "      <th>5359</th>\n",
       "      <th>5360</th>\n",
       "      <th>5361</th>\n",
       "      <th>603</th>\n",
       "      <th>5359</th>\n",
       "      <th>5360</th>\n",
       "      <th>5361</th>\n",
       "    </tr>\n",
       "    <tr>\n",
       "      <th></th>\n",
       "      <th>data_type</th>\n",
       "      <th>value</th>\n",
       "      <th>value</th>\n",
       "      <th>value</th>\n",
       "      <th>value</th>\n",
       "      <th>valuez</th>\n",
       "      <th>valuez</th>\n",
       "      <th>valuez</th>\n",
       "      <th>valuez</th>\n",
       "    </tr>\n",
       "    <tr>\n",
       "      <th>gene_id</th>\n",
       "      <th>orf</th>\n",
       "      <th></th>\n",
       "      <th></th>\n",
       "      <th></th>\n",
       "      <th></th>\n",
       "      <th></th>\n",
       "      <th></th>\n",
       "      <th></th>\n",
       "      <th></th>\n",
       "    </tr>\n",
       "  </thead>\n",
       "  <tbody>\n",
       "    <tr>\n",
       "      <th>1932</th>\n",
       "      <th>YDL054C</th>\n",
       "      <td>12.625</td>\n",
       "      <td>18.8</td>\n",
       "      <td>12.833333</td>\n",
       "      <td>1.000000</td>\n",
       "      <td>20.487298</td>\n",
       "      <td>18.991847</td>\n",
       "      <td>19.979264</td>\n",
       "      <td>2.221008</td>\n",
       "    </tr>\n",
       "    <tr>\n",
       "      <th>2052</th>\n",
       "      <th>YDL173W</th>\n",
       "      <td>10.500</td>\n",
       "      <td>17.8</td>\n",
       "      <td>8.833333</td>\n",
       "      <td>-0.666667</td>\n",
       "      <td>17.038941</td>\n",
       "      <td>17.981642</td>\n",
       "      <td>13.751961</td>\n",
       "      <td>-1.371799</td>\n",
       "    </tr>\n",
       "    <tr>\n",
       "      <th>2791</th>\n",
       "      <th>YGL110C</th>\n",
       "      <td>10.500</td>\n",
       "      <td>16.0</td>\n",
       "      <td>10.833333</td>\n",
       "      <td>-0.333333</td>\n",
       "      <td>17.038941</td>\n",
       "      <td>16.163274</td>\n",
       "      <td>16.865613</td>\n",
       "      <td>-0.653238</td>\n",
       "    </tr>\n",
       "    <tr>\n",
       "      <th>2820</th>\n",
       "      <th>YGL139W</th>\n",
       "      <td>11.250</td>\n",
       "      <td>15.8</td>\n",
       "      <td>9.333333</td>\n",
       "      <td>-0.666667</td>\n",
       "      <td>18.256008</td>\n",
       "      <td>15.961233</td>\n",
       "      <td>14.530374</td>\n",
       "      <td>-1.371799</td>\n",
       "    </tr>\n",
       "    <tr>\n",
       "      <th>3186</th>\n",
       "      <th>YGR241C</th>\n",
       "      <td>11.000</td>\n",
       "      <td>18.6</td>\n",
       "      <td>14.000000</td>\n",
       "      <td>2.000000</td>\n",
       "      <td>17.850319</td>\n",
       "      <td>18.789806</td>\n",
       "      <td>21.795561</td>\n",
       "      <td>4.376693</td>\n",
       "    </tr>\n",
       "  </tbody>\n",
       "</table>\n",
       "</div>"
      ],
      "text/plain": [
       "dataset_id         603   5359       5360      5361       603        5359  \\\n",
       "data_type         value value      value     value     valuez     valuez   \n",
       "gene_id orf                                                                \n",
       "1932    YDL054C  12.625  18.8  12.833333  1.000000  20.487298  18.991847   \n",
       "2052    YDL173W  10.500  17.8   8.833333 -0.666667  17.038941  17.981642   \n",
       "2791    YGL110C  10.500  16.0  10.833333 -0.333333  17.038941  16.163274   \n",
       "2820    YGL139W  11.250  15.8   9.333333 -0.666667  18.256008  15.961233   \n",
       "3186    YGR241C  11.000  18.6  14.000000  2.000000  17.850319  18.789806   \n",
       "\n",
       "dataset_id            5360      5361  \n",
       "data_type           valuez    valuez  \n",
       "gene_id orf                           \n",
       "1932    YDL054C  19.979264  2.221008  \n",
       "2052    YDL173W  13.751961 -1.371799  \n",
       "2791    YGL110C  16.865613 -0.653238  \n",
       "2820    YGL139W  14.530374 -1.371799  \n",
       "3186    YGR241C  21.795561  4.376693  "
      ]
     },
     "execution_count": 63,
     "metadata": {},
     "output_type": "execute_result"
    }
   ],
   "source": [
    "data_norm[data.isnull()] = np.nan\n",
    "data_all = data.join(data_norm)\n",
    "\n",
    "data_all.head()"
   ]
  },
  {
   "cell_type": "markdown",
   "metadata": {},
   "source": [
    "# Print out"
   ]
  },
  {
   "cell_type": "code",
   "execution_count": 64,
   "metadata": {},
   "outputs": [],
   "source": [
    "for f in ['value','valuez']:\n",
    "    df = data_all.xs(f, level='data_type', axis=1).copy()\n",
    "    df.columns = datasets['name'].values\n",
    "    df = df.droplevel('gene_id', axis=0)\n",
    "    df.to_csv(paper_name + '_' + f + '.txt', sep='\\t')"
   ]
  },
  {
   "cell_type": "markdown",
   "metadata": {},
   "source": [
    "# Save to DB"
   ]
  },
  {
   "cell_type": "code",
   "execution_count": 65,
   "metadata": {},
   "outputs": [],
   "source": [
    "from IO.save_data_to_db3 import *"
   ]
  },
  {
   "cell_type": "code",
   "execution_count": 66,
   "metadata": {},
   "outputs": [
    {
     "name": "stderr",
     "output_type": "stream",
     "text": [
      "  0%|          | 0/4 [00:00<?, ?it/s]"
     ]
    },
    {
     "name": "stdout",
     "output_type": "stream",
     "text": [
      "Deleting all datasets for PMID 20007368...\n",
      "Inserting the new data...\n"
     ]
    },
    {
     "name": "stderr",
     "output_type": "stream",
     "text": [
      "100%|██████████| 4/4 [00:00<00:00, 12.78it/s]\n"
     ]
    },
    {
     "name": "stdout",
     "output_type": "stream",
     "text": [
      "Updating the data_modified_on field...\n"
     ]
    }
   ],
   "source": [
    "save_data_to_db(data_all, paper_pmid)"
   ]
  },
  {
   "cell_type": "code",
   "execution_count": null,
   "metadata": {},
   "outputs": [],
   "source": []
  }
 ],
 "metadata": {
  "kernelspec": {
   "display_name": "yp-data",
   "language": "python",
   "name": "yp-data"
  },
  "language_info": {
   "codemirror_mode": {
    "name": "ipython",
    "version": 3
   },
   "file_extension": ".py",
   "mimetype": "text/x-python",
   "name": "python",
   "nbconvert_exporter": "python",
   "pygments_lexer": "ipython3",
   "version": "3.7.7"
  }
 },
 "nbformat": 4,
 "nbformat_minor": 4
}
