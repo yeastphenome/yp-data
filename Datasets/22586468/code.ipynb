{
 "cells": [
  {
   "cell_type": "code",
   "execution_count": 1,
   "metadata": {},
   "outputs": [],
   "source": [
    "%run ../../Utils/yp_utils.py"
   ]
  },
  {
   "cell_type": "markdown",
   "metadata": {},
   "source": [
    "# Initial setup"
   ]
  },
  {
   "cell_type": "code",
   "execution_count": 2,
   "metadata": {},
   "outputs": [],
   "source": [
    "paper_pmid = 22586468\n",
    "paper_name = 'peyroche_plateau_2012' "
   ]
  },
  {
   "cell_type": "code",
   "execution_count": 3,
   "metadata": {},
   "outputs": [],
   "source": [
    "datasets = pd.read_csv('extras/YeastPhenome_' + str(paper_pmid) + '_datasets_list.txt', sep='\\t', header=None, names=['dataset_id', 'name'])"
   ]
  },
  {
   "cell_type": "code",
   "execution_count": 4,
   "metadata": {},
   "outputs": [],
   "source": [
    "datasets.set_index('dataset_id', inplace=True)"
   ]
  },
  {
   "cell_type": "markdown",
   "metadata": {},
   "source": [
    "# Load & process the data"
   ]
  },
  {
   "cell_type": "code",
   "execution_count": 5,
   "metadata": {},
   "outputs": [],
   "source": [
    "original_data = pd.read_excel('raw_data/journal.pone.0036343.s004.xlsx', sheet_name='data')"
   ]
  },
  {
   "cell_type": "code",
   "execution_count": 6,
   "metadata": {},
   "outputs": [
    {
     "name": "stdout",
     "output_type": "stream",
     "text": [
      "Original data dimensions: 4520 x 12\n"
     ]
    }
   ],
   "source": [
    "print('Original data dimensions: %d x %d' % (original_data.shape))"
   ]
  },
  {
   "cell_type": "code",
   "execution_count": 7,
   "metadata": {},
   "outputs": [
    {
     "data": {
      "text/html": [
       "<div>\n",
       "<style scoped>\n",
       "    .dataframe tbody tr th:only-of-type {\n",
       "        vertical-align: middle;\n",
       "    }\n",
       "\n",
       "    .dataframe tbody tr th {\n",
       "        vertical-align: top;\n",
       "    }\n",
       "\n",
       "    .dataframe thead th {\n",
       "        text-align: right;\n",
       "    }\n",
       "</style>\n",
       "<table border=\"1\" class=\"dataframe\">\n",
       "  <thead>\n",
       "    <tr style=\"text-align: right;\">\n",
       "      <th></th>\n",
       "      <th>ORF</th>\n",
       "      <th>NAME</th>\n",
       "      <th>Synonym</th>\n",
       "      <th>d</th>\n",
       "      <th>s (1 µM, 16 h)</th>\n",
       "      <th>s (2 µM, 16 h)</th>\n",
       "      <th>s (1 µM, 27 h)</th>\n",
       "      <th>s (2 µM, 27 h)</th>\n",
       "      <th>s</th>\n",
       "      <th>log2(s)</th>\n",
       "      <th>ORF type</th>\n",
       "      <th>SGD description</th>\n",
       "    </tr>\n",
       "  </thead>\n",
       "  <tbody>\n",
       "    <tr>\n",
       "      <th>0</th>\n",
       "      <td>YJL101C</td>\n",
       "      <td>GSH1</td>\n",
       "      <td>NaN</td>\n",
       "      <td>1.028368</td>\n",
       "      <td>0.157521</td>\n",
       "      <td>0.195512</td>\n",
       "      <td>0.399111</td>\n",
       "      <td>0.465400</td>\n",
       "      <td>0.297312</td>\n",
       "      <td>-1.749951</td>\n",
       "      <td>Verified</td>\n",
       "      <td>Gamma glutamylcysteine synthetase catalyzes th...</td>\n",
       "    </tr>\n",
       "    <tr>\n",
       "      <th>1</th>\n",
       "      <td>YDR004W</td>\n",
       "      <td>RAD57</td>\n",
       "      <td>NaN</td>\n",
       "      <td>0.897125</td>\n",
       "      <td>0.243763</td>\n",
       "      <td>0.373507</td>\n",
       "      <td>0.613142</td>\n",
       "      <td>0.092539</td>\n",
       "      <td>0.308635</td>\n",
       "      <td>-1.696026</td>\n",
       "      <td>Verified</td>\n",
       "      <td>Protein that stimulates strand exchange by sta...</td>\n",
       "    </tr>\n",
       "    <tr>\n",
       "      <th>2</th>\n",
       "      <td>YPL091W</td>\n",
       "      <td>GLR1</td>\n",
       "      <td>LPG17</td>\n",
       "      <td>1.050194</td>\n",
       "      <td>0.107089</td>\n",
       "      <td>0.178998</td>\n",
       "      <td>0.461548</td>\n",
       "      <td>0.444078</td>\n",
       "      <td>0.311538</td>\n",
       "      <td>-1.682520</td>\n",
       "      <td>Verified</td>\n",
       "      <td>Cytosolic and mitochondrial glutathione oxidor...</td>\n",
       "    </tr>\n",
       "    <tr>\n",
       "      <th>3</th>\n",
       "      <td>YJR139C</td>\n",
       "      <td>HOM6</td>\n",
       "      <td>NaN</td>\n",
       "      <td>0.916193</td>\n",
       "      <td>0.260004</td>\n",
       "      <td>0.238142</td>\n",
       "      <td>0.370637</td>\n",
       "      <td>0.599299</td>\n",
       "      <td>0.315320</td>\n",
       "      <td>-1.665109</td>\n",
       "      <td>Verified</td>\n",
       "      <td>Homoserine dehydrogenase (L-homoserine:NADP ox...</td>\n",
       "    </tr>\n",
       "    <tr>\n",
       "      <th>4</th>\n",
       "      <td>YNL107W</td>\n",
       "      <td>YAF9</td>\n",
       "      <td>NaN</td>\n",
       "      <td>0.970198</td>\n",
       "      <td>0.300925</td>\n",
       "      <td>0.350154</td>\n",
       "      <td>0.478594</td>\n",
       "      <td>0.259199</td>\n",
       "      <td>0.325540</td>\n",
       "      <td>-1.619094</td>\n",
       "      <td>Verified</td>\n",
       "      <td>Subunit of both the NuA4 histone H4 acetyltran...</td>\n",
       "    </tr>\n",
       "  </tbody>\n",
       "</table>\n",
       "</div>"
      ],
      "text/plain": [
       "       ORF   NAME Synonym         d  s (1 µM, 16 h)  s (2 µM, 16 h)  \\\n",
       "0  YJL101C   GSH1     NaN  1.028368        0.157521        0.195512   \n",
       "1  YDR004W  RAD57     NaN  0.897125        0.243763        0.373507   \n",
       "2  YPL091W   GLR1   LPG17  1.050194        0.107089        0.178998   \n",
       "3  YJR139C   HOM6     NaN  0.916193        0.260004        0.238142   \n",
       "4  YNL107W   YAF9     NaN  0.970198        0.300925        0.350154   \n",
       "\n",
       "   s (1 µM, 27 h)  s (2 µM, 27 h)         s   log2(s)  ORF type  \\\n",
       "0        0.399111        0.465400  0.297312 -1.749951  Verified   \n",
       "1        0.613142        0.092539  0.308635 -1.696026  Verified   \n",
       "2        0.461548        0.444078  0.311538 -1.682520  Verified   \n",
       "3        0.370637        0.599299  0.315320 -1.665109  Verified   \n",
       "4        0.478594        0.259199  0.325540 -1.619094  Verified   \n",
       "\n",
       "                                     SGD description  \n",
       "0  Gamma glutamylcysteine synthetase catalyzes th...  \n",
       "1  Protein that stimulates strand exchange by sta...  \n",
       "2  Cytosolic and mitochondrial glutathione oxidor...  \n",
       "3  Homoserine dehydrogenase (L-homoserine:NADP ox...  \n",
       "4  Subunit of both the NuA4 histone H4 acetyltran...  "
      ]
     },
     "execution_count": 7,
     "metadata": {},
     "output_type": "execute_result"
    }
   ],
   "source": [
    "original_data.head()"
   ]
  },
  {
   "cell_type": "code",
   "execution_count": 8,
   "metadata": {},
   "outputs": [],
   "source": [
    "original_data['orf'] = original_data['ORF'].astype(str)"
   ]
  },
  {
   "cell_type": "code",
   "execution_count": 9,
   "metadata": {},
   "outputs": [],
   "source": [
    "# Eliminate all white spaces & capitalize\n",
    "original_data['orf'] = clean_orf(original_data['orf'])"
   ]
  },
  {
   "cell_type": "code",
   "execution_count": 10,
   "metadata": {},
   "outputs": [],
   "source": [
    "# Translate to ORFs \n",
    "original_data['orf'] = translate_sc(original_data['orf'], to='orf')"
   ]
  },
  {
   "cell_type": "code",
   "execution_count": 11,
   "metadata": {},
   "outputs": [
    {
     "name": "stdout",
     "output_type": "stream",
     "text": [
      "Empty DataFrame\n",
      "Columns: [ORF, NAME, Synonym, d, s (1 µM, 16 h), s (2 µM, 16 h), s (1 µM, 27 h), s (2 µM, 27 h), s, log2(s), ORF type, SGD description, orf]\n",
      "Index: []\n"
     ]
    }
   ],
   "source": [
    "# Make sure everything translated ok\n",
    "t = looks_like_orf(original_data['orf'])\n",
    "print(original_data.loc[~t,])"
   ]
  },
  {
   "cell_type": "code",
   "execution_count": 12,
   "metadata": {},
   "outputs": [],
   "source": [
    "original_data.set_index('orf', inplace=True)"
   ]
  },
  {
   "cell_type": "code",
   "execution_count": 13,
   "metadata": {},
   "outputs": [],
   "source": [
    "original_data = original_data[['s (1 µM, 16 h)','s (2 µM, 16 h)','s (1 µM, 27 h)','s (2 µM, 27 h)']].copy()"
   ]
  },
  {
   "cell_type": "code",
   "execution_count": 14,
   "metadata": {},
   "outputs": [],
   "source": [
    "original_data = original_data.groupby(original_data.index).mean()"
   ]
  },
  {
   "cell_type": "code",
   "execution_count": 15,
   "metadata": {},
   "outputs": [
    {
     "data": {
      "text/plain": [
       "(4520, 4)"
      ]
     },
     "execution_count": 15,
     "metadata": {},
     "output_type": "execute_result"
    }
   ],
   "source": [
    "original_data.shape"
   ]
  },
  {
   "cell_type": "markdown",
   "metadata": {},
   "source": [
    "# Prepare the final dataset"
   ]
  },
  {
   "cell_type": "code",
   "execution_count": 16,
   "metadata": {},
   "outputs": [],
   "source": [
    "data = original_data.copy()"
   ]
  },
  {
   "cell_type": "code",
   "execution_count": 17,
   "metadata": {},
   "outputs": [],
   "source": [
    "dataset_ids = [57, 58, 525, 526]\n",
    "datasets = datasets.reindex(index=dataset_ids)"
   ]
  },
  {
   "cell_type": "code",
   "execution_count": 18,
   "metadata": {},
   "outputs": [],
   "source": [
    "lst = [datasets.index.values, ['value']*datasets.shape[0]]\n",
    "tuples = list(zip(*lst))\n",
    "idx = pd.MultiIndex.from_tuples(tuples, names=['dataset_id','data_type'])\n",
    "data.columns = idx"
   ]
  },
  {
   "cell_type": "code",
   "execution_count": 19,
   "metadata": {},
   "outputs": [
    {
     "data": {
      "text/html": [
       "<div>\n",
       "<style scoped>\n",
       "    .dataframe tbody tr th:only-of-type {\n",
       "        vertical-align: middle;\n",
       "    }\n",
       "\n",
       "    .dataframe tbody tr th {\n",
       "        vertical-align: top;\n",
       "    }\n",
       "\n",
       "    .dataframe thead tr th {\n",
       "        text-align: left;\n",
       "    }\n",
       "\n",
       "    .dataframe thead tr:last-of-type th {\n",
       "        text-align: right;\n",
       "    }\n",
       "</style>\n",
       "<table border=\"1\" class=\"dataframe\">\n",
       "  <thead>\n",
       "    <tr>\n",
       "      <th>dataset_id</th>\n",
       "      <th>57</th>\n",
       "      <th>58</th>\n",
       "      <th>525</th>\n",
       "      <th>526</th>\n",
       "    </tr>\n",
       "    <tr>\n",
       "      <th>data_type</th>\n",
       "      <th>value</th>\n",
       "      <th>value</th>\n",
       "      <th>value</th>\n",
       "      <th>value</th>\n",
       "    </tr>\n",
       "    <tr>\n",
       "      <th>orf</th>\n",
       "      <th></th>\n",
       "      <th></th>\n",
       "      <th></th>\n",
       "      <th></th>\n",
       "    </tr>\n",
       "  </thead>\n",
       "  <tbody>\n",
       "    <tr>\n",
       "      <th>YAL002W</th>\n",
       "      <td>0.796998</td>\n",
       "      <td>0.789628</td>\n",
       "      <td>0.854570</td>\n",
       "      <td>0.838197</td>\n",
       "    </tr>\n",
       "    <tr>\n",
       "      <th>YAL004W</th>\n",
       "      <td>1.053887</td>\n",
       "      <td>0.973368</td>\n",
       "      <td>1.010200</td>\n",
       "      <td>0.975580</td>\n",
       "    </tr>\n",
       "    <tr>\n",
       "      <th>YAL005C</th>\n",
       "      <td>0.913742</td>\n",
       "      <td>0.945826</td>\n",
       "      <td>0.932066</td>\n",
       "      <td>0.956808</td>\n",
       "    </tr>\n",
       "    <tr>\n",
       "      <th>YAL007C</th>\n",
       "      <td>0.989577</td>\n",
       "      <td>0.982781</td>\n",
       "      <td>1.002409</td>\n",
       "      <td>1.012799</td>\n",
       "    </tr>\n",
       "    <tr>\n",
       "      <th>YAL008W</th>\n",
       "      <td>0.956052</td>\n",
       "      <td>1.016716</td>\n",
       "      <td>1.002986</td>\n",
       "      <td>1.034916</td>\n",
       "    </tr>\n",
       "  </tbody>\n",
       "</table>\n",
       "</div>"
      ],
      "text/plain": [
       "dataset_id       57        58        525       526\n",
       "data_type      value     value     value     value\n",
       "orf                                               \n",
       "YAL002W     0.796998  0.789628  0.854570  0.838197\n",
       "YAL004W     1.053887  0.973368  1.010200  0.975580\n",
       "YAL005C     0.913742  0.945826  0.932066  0.956808\n",
       "YAL007C     0.989577  0.982781  1.002409  1.012799\n",
       "YAL008W     0.956052  1.016716  1.002986  1.034916"
      ]
     },
     "execution_count": 19,
     "metadata": {},
     "output_type": "execute_result"
    }
   ],
   "source": [
    "data.head()"
   ]
  },
  {
   "cell_type": "markdown",
   "metadata": {},
   "source": [
    "## Subset to the genes currently in SGD"
   ]
  },
  {
   "cell_type": "code",
   "execution_count": 20,
   "metadata": {},
   "outputs": [
    {
     "name": "stdout",
     "output_type": "stream",
     "text": [
      "ORFs missing from SGD: 15\n"
     ]
    }
   ],
   "source": [
    "genes = pd.read_csv(path_to_genes, sep='\\t', index_col='id')\n",
    "genes = genes.reset_index().set_index('systematic_name')\n",
    "gene_ids = genes.reindex(index=data.index.values)['id'].values\n",
    "num_missing = np.sum(np.isnan(gene_ids))\n",
    "print('ORFs missing from SGD: %d' % num_missing)"
   ]
  },
  {
   "cell_type": "code",
   "execution_count": 21,
   "metadata": {},
   "outputs": [
    {
     "data": {
      "text/html": [
       "<div>\n",
       "<style scoped>\n",
       "    .dataframe tbody tr th:only-of-type {\n",
       "        vertical-align: middle;\n",
       "    }\n",
       "\n",
       "    .dataframe tbody tr th {\n",
       "        vertical-align: top;\n",
       "    }\n",
       "\n",
       "    .dataframe thead tr th {\n",
       "        text-align: left;\n",
       "    }\n",
       "\n",
       "    .dataframe thead tr:last-of-type th {\n",
       "        text-align: right;\n",
       "    }\n",
       "</style>\n",
       "<table border=\"1\" class=\"dataframe\">\n",
       "  <thead>\n",
       "    <tr>\n",
       "      <th></th>\n",
       "      <th>dataset_id</th>\n",
       "      <th>57</th>\n",
       "      <th>58</th>\n",
       "      <th>525</th>\n",
       "      <th>526</th>\n",
       "    </tr>\n",
       "    <tr>\n",
       "      <th></th>\n",
       "      <th>data_type</th>\n",
       "      <th>value</th>\n",
       "      <th>value</th>\n",
       "      <th>value</th>\n",
       "      <th>value</th>\n",
       "    </tr>\n",
       "    <tr>\n",
       "      <th>gene_id</th>\n",
       "      <th>orf</th>\n",
       "      <th></th>\n",
       "      <th></th>\n",
       "      <th></th>\n",
       "      <th></th>\n",
       "    </tr>\n",
       "  </thead>\n",
       "  <tbody>\n",
       "    <tr>\n",
       "      <th>2</th>\n",
       "      <th>YAL002W</th>\n",
       "      <td>0.796998</td>\n",
       "      <td>0.789628</td>\n",
       "      <td>0.854570</td>\n",
       "      <td>0.838197</td>\n",
       "    </tr>\n",
       "    <tr>\n",
       "      <th>1863</th>\n",
       "      <th>YAL004W</th>\n",
       "      <td>1.053887</td>\n",
       "      <td>0.973368</td>\n",
       "      <td>1.010200</td>\n",
       "      <td>0.975580</td>\n",
       "    </tr>\n",
       "    <tr>\n",
       "      <th>4</th>\n",
       "      <th>YAL005C</th>\n",
       "      <td>0.913742</td>\n",
       "      <td>0.945826</td>\n",
       "      <td>0.932066</td>\n",
       "      <td>0.956808</td>\n",
       "    </tr>\n",
       "    <tr>\n",
       "      <th>5</th>\n",
       "      <th>YAL007C</th>\n",
       "      <td>0.989577</td>\n",
       "      <td>0.982781</td>\n",
       "      <td>1.002409</td>\n",
       "      <td>1.012799</td>\n",
       "    </tr>\n",
       "    <tr>\n",
       "      <th>6</th>\n",
       "      <th>YAL008W</th>\n",
       "      <td>0.956052</td>\n",
       "      <td>1.016716</td>\n",
       "      <td>1.002986</td>\n",
       "      <td>1.034916</td>\n",
       "    </tr>\n",
       "  </tbody>\n",
       "</table>\n",
       "</div>"
      ],
      "text/plain": [
       "dataset_id            57        58        525       526\n",
       "data_type           value     value     value     value\n",
       "gene_id orf                                            \n",
       "2       YAL002W  0.796998  0.789628  0.854570  0.838197\n",
       "1863    YAL004W  1.053887  0.973368  1.010200  0.975580\n",
       "4       YAL005C  0.913742  0.945826  0.932066  0.956808\n",
       "5       YAL007C  0.989577  0.982781  1.002409  1.012799\n",
       "6       YAL008W  0.956052  1.016716  1.002986  1.034916"
      ]
     },
     "execution_count": 21,
     "metadata": {},
     "output_type": "execute_result"
    }
   ],
   "source": [
    "data['gene_id'] = gene_ids\n",
    "data = data.loc[data['gene_id'].notnull()]\n",
    "data['gene_id'] = data['gene_id'].astype(int)\n",
    "data = data.reset_index().set_index(['gene_id','orf'])\n",
    "\n",
    "data.head()"
   ]
  },
  {
   "cell_type": "markdown",
   "metadata": {},
   "source": [
    "# Normalize"
   ]
  },
  {
   "cell_type": "code",
   "execution_count": 22,
   "metadata": {},
   "outputs": [],
   "source": [
    "data_norm = normalize_phenotypic_scores(data, has_tested=True)"
   ]
  },
  {
   "cell_type": "code",
   "execution_count": 23,
   "metadata": {},
   "outputs": [],
   "source": [
    "# Assign proper column names\n",
    "lst = [datasets.index.values, ['valuez']*datasets.shape[0]]\n",
    "tuples = list(zip(*lst))\n",
    "idx = pd.MultiIndex.from_tuples(tuples, names=['dataset_id','data_type'])\n",
    "data_norm.columns = idx"
   ]
  },
  {
   "cell_type": "code",
   "execution_count": 24,
   "metadata": {},
   "outputs": [
    {
     "data": {
      "text/html": [
       "<div>\n",
       "<style scoped>\n",
       "    .dataframe tbody tr th:only-of-type {\n",
       "        vertical-align: middle;\n",
       "    }\n",
       "\n",
       "    .dataframe tbody tr th {\n",
       "        vertical-align: top;\n",
       "    }\n",
       "\n",
       "    .dataframe thead tr th {\n",
       "        text-align: left;\n",
       "    }\n",
       "\n",
       "    .dataframe thead tr:last-of-type th {\n",
       "        text-align: right;\n",
       "    }\n",
       "</style>\n",
       "<table border=\"1\" class=\"dataframe\">\n",
       "  <thead>\n",
       "    <tr>\n",
       "      <th></th>\n",
       "      <th>dataset_id</th>\n",
       "      <th>57</th>\n",
       "      <th>58</th>\n",
       "      <th>525</th>\n",
       "      <th>526</th>\n",
       "      <th>57</th>\n",
       "      <th>58</th>\n",
       "      <th>525</th>\n",
       "      <th>526</th>\n",
       "    </tr>\n",
       "    <tr>\n",
       "      <th></th>\n",
       "      <th>data_type</th>\n",
       "      <th>value</th>\n",
       "      <th>value</th>\n",
       "      <th>value</th>\n",
       "      <th>value</th>\n",
       "      <th>valuez</th>\n",
       "      <th>valuez</th>\n",
       "      <th>valuez</th>\n",
       "      <th>valuez</th>\n",
       "    </tr>\n",
       "    <tr>\n",
       "      <th>gene_id</th>\n",
       "      <th>orf</th>\n",
       "      <th></th>\n",
       "      <th></th>\n",
       "      <th></th>\n",
       "      <th></th>\n",
       "      <th></th>\n",
       "      <th></th>\n",
       "      <th></th>\n",
       "      <th></th>\n",
       "    </tr>\n",
       "  </thead>\n",
       "  <tbody>\n",
       "    <tr>\n",
       "      <th>2</th>\n",
       "      <th>YAL002W</th>\n",
       "      <td>0.796998</td>\n",
       "      <td>0.789628</td>\n",
       "      <td>0.854570</td>\n",
       "      <td>0.838197</td>\n",
       "      <td>-1.390791</td>\n",
       "      <td>-1.451114</td>\n",
       "      <td>-1.317392</td>\n",
       "      <td>-1.576471</td>\n",
       "    </tr>\n",
       "    <tr>\n",
       "      <th>1863</th>\n",
       "      <th>YAL004W</th>\n",
       "      <td>1.053887</td>\n",
       "      <td>0.973368</td>\n",
       "      <td>1.010200</td>\n",
       "      <td>0.975580</td>\n",
       "      <td>0.306551</td>\n",
       "      <td>-0.174642</td>\n",
       "      <td>0.143331</td>\n",
       "      <td>-0.310917</td>\n",
       "    </tr>\n",
       "    <tr>\n",
       "      <th>4</th>\n",
       "      <th>YAL005C</th>\n",
       "      <td>0.913742</td>\n",
       "      <td>0.945826</td>\n",
       "      <td>0.932066</td>\n",
       "      <td>0.956808</td>\n",
       "      <td>-0.619428</td>\n",
       "      <td>-0.365983</td>\n",
       "      <td>-0.590021</td>\n",
       "      <td>-0.483844</td>\n",
       "    </tr>\n",
       "    <tr>\n",
       "      <th>5</th>\n",
       "      <th>YAL007C</th>\n",
       "      <td>0.989577</td>\n",
       "      <td>0.982781</td>\n",
       "      <td>1.002409</td>\n",
       "      <td>1.012799</td>\n",
       "      <td>-0.118366</td>\n",
       "      <td>-0.109251</td>\n",
       "      <td>0.070213</td>\n",
       "      <td>0.031946</td>\n",
       "    </tr>\n",
       "    <tr>\n",
       "      <th>6</th>\n",
       "      <th>YAL008W</th>\n",
       "      <td>0.956052</td>\n",
       "      <td>1.016716</td>\n",
       "      <td>1.002986</td>\n",
       "      <td>1.034916</td>\n",
       "      <td>-0.339873</td>\n",
       "      <td>0.126504</td>\n",
       "      <td>0.075620</td>\n",
       "      <td>0.235676</td>\n",
       "    </tr>\n",
       "  </tbody>\n",
       "</table>\n",
       "</div>"
      ],
      "text/plain": [
       "dataset_id            57        58        525       526       57        58   \\\n",
       "data_type           value     value     value     value    valuez    valuez   \n",
       "gene_id orf                                                                   \n",
       "2       YAL002W  0.796998  0.789628  0.854570  0.838197 -1.390791 -1.451114   \n",
       "1863    YAL004W  1.053887  0.973368  1.010200  0.975580  0.306551 -0.174642   \n",
       "4       YAL005C  0.913742  0.945826  0.932066  0.956808 -0.619428 -0.365983   \n",
       "5       YAL007C  0.989577  0.982781  1.002409  1.012799 -0.118366 -0.109251   \n",
       "6       YAL008W  0.956052  1.016716  1.002986  1.034916 -0.339873  0.126504   \n",
       "\n",
       "dataset_id            525       526  \n",
       "data_type          valuez    valuez  \n",
       "gene_id orf                          \n",
       "2       YAL002W -1.317392 -1.576471  \n",
       "1863    YAL004W  0.143331 -0.310917  \n",
       "4       YAL005C -0.590021 -0.483844  \n",
       "5       YAL007C  0.070213  0.031946  \n",
       "6       YAL008W  0.075620  0.235676  "
      ]
     },
     "execution_count": 24,
     "metadata": {},
     "output_type": "execute_result"
    }
   ],
   "source": [
    "data_norm[data.isnull()] = np.nan\n",
    "data_all = data.join(data_norm)\n",
    "\n",
    "data_all.head()"
   ]
  },
  {
   "cell_type": "markdown",
   "metadata": {},
   "source": [
    "# Print out"
   ]
  },
  {
   "cell_type": "code",
   "execution_count": 25,
   "metadata": {},
   "outputs": [],
   "source": [
    "for f in ['value','valuez']:\n",
    "    df = data_all.xs(f, level='data_type', axis=1).copy()\n",
    "    df.columns = datasets['name'].values\n",
    "    df = df.droplevel('gene_id', axis=0)\n",
    "    df.to_csv(paper_name + '_' + f + '.txt', sep='\\t')"
   ]
  },
  {
   "cell_type": "markdown",
   "metadata": {},
   "source": [
    "# Save to DB"
   ]
  },
  {
   "cell_type": "code",
   "execution_count": 26,
   "metadata": {},
   "outputs": [],
   "source": [
    "from IO.save_data_to_db3 import *"
   ]
  },
  {
   "cell_type": "code",
   "execution_count": 27,
   "metadata": {},
   "outputs": [
    {
     "name": "stderr",
     "output_type": "stream",
     "text": [
      "  0%|          | 0/4 [00:00<?, ?it/s]"
     ]
    },
    {
     "name": "stdout",
     "output_type": "stream",
     "text": [
      "Deleting all datasets for PMID 22586468...\n",
      "Inserting the new data...\n"
     ]
    },
    {
     "name": "stderr",
     "output_type": "stream",
     "text": [
      "100%|██████████| 4/4 [00:29<00:00,  7.27s/it]"
     ]
    },
    {
     "name": "stdout",
     "output_type": "stream",
     "text": [
      "Updating the data_modified_on field...\n"
     ]
    },
    {
     "name": "stderr",
     "output_type": "stream",
     "text": [
      "\n"
     ]
    }
   ],
   "source": [
    "save_data_to_db(data_all, paper_pmid)"
   ]
  },
  {
   "cell_type": "code",
   "execution_count": null,
   "metadata": {},
   "outputs": [],
   "source": []
  }
 ],
 "metadata": {
  "kernelspec": {
   "display_name": "yp-data",
   "language": "python",
   "name": "yp-data"
  },
  "language_info": {
   "codemirror_mode": {
    "name": "ipython",
    "version": 3
   },
   "file_extension": ".py",
   "mimetype": "text/x-python",
   "name": "python",
   "nbconvert_exporter": "python",
   "pygments_lexer": "ipython3",
   "version": "3.7.7"
  }
 },
 "nbformat": 4,
 "nbformat_minor": 4
}
