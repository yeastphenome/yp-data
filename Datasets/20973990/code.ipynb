{
 "cells": [
  {
   "cell_type": "code",
   "execution_count": 1,
   "metadata": {},
   "outputs": [],
   "source": [
    "%run ../../Utils/yp_utils.py"
   ]
  },
  {
   "cell_type": "markdown",
   "metadata": {},
   "source": [
    "# Initial setup"
   ]
  },
  {
   "cell_type": "code",
   "execution_count": 2,
   "metadata": {},
   "outputs": [],
   "source": [
    "paper_pmid = 20973990\n",
    "paper_name = 'mira_sa_correia_2010' "
   ]
  },
  {
   "cell_type": "code",
   "execution_count": 3,
   "metadata": {},
   "outputs": [],
   "source": [
    "datasets = pd.read_csv('extras/YeastPhenome_' + str(paper_pmid) + '_datasets_list.txt', sep='\\t', header=None, names=['dataset_id', 'name'])"
   ]
  },
  {
   "cell_type": "code",
   "execution_count": 4,
   "metadata": {},
   "outputs": [],
   "source": [
    "datasets.set_index('dataset_id', inplace=True)"
   ]
  },
  {
   "cell_type": "markdown",
   "metadata": {},
   "source": [
    "# Load & process the data"
   ]
  },
  {
   "cell_type": "code",
   "execution_count": 5,
   "metadata": {},
   "outputs": [],
   "source": [
    "original_data = pd.read_excel('raw_data/1475-2859-9-79-s1.xlsx', sheet_name='Sheet1', skiprows=4)"
   ]
  },
  {
   "cell_type": "code",
   "execution_count": 6,
   "metadata": {},
   "outputs": [
    {
     "name": "stdout",
     "output_type": "stream",
     "text": [
      "Original data dimensions: 692 x 4\n"
     ]
    }
   ],
   "source": [
    "print('Original data dimensions: %d x %d' % (original_data.shape))"
   ]
  },
  {
   "cell_type": "code",
   "execution_count": 7,
   "metadata": {},
   "outputs": [
    {
     "data": {
      "text/html": [
       "<div>\n",
       "<style scoped>\n",
       "    .dataframe tbody tr th:only-of-type {\n",
       "        vertical-align: middle;\n",
       "    }\n",
       "\n",
       "    .dataframe tbody tr th {\n",
       "        vertical-align: top;\n",
       "    }\n",
       "\n",
       "    .dataframe thead th {\n",
       "        text-align: right;\n",
       "    }\n",
       "</style>\n",
       "<table border=\"1\" class=\"dataframe\">\n",
       "  <thead>\n",
       "    <tr style=\"text-align: right;\">\n",
       "      <th></th>\n",
       "      <th>Gene</th>\n",
       "      <th>Function1</th>\n",
       "      <th>Susceptibility to acetic acid2</th>\n",
       "      <th>Unnamed: 3</th>\n",
       "    </tr>\n",
       "  </thead>\n",
       "  <tbody>\n",
       "    <tr>\n",
       "      <th>0</th>\n",
       "      <td>NaN</td>\n",
       "      <td>NaN</td>\n",
       "      <td>NaN</td>\n",
       "      <td>NaN</td>\n",
       "    </tr>\n",
       "    <tr>\n",
       "      <th>1</th>\n",
       "      <td>Lipid metabolism</td>\n",
       "      <td>NaN</td>\n",
       "      <td>NaN</td>\n",
       "      <td>NaN</td>\n",
       "    </tr>\n",
       "    <tr>\n",
       "      <th>2</th>\n",
       "      <td>NaN</td>\n",
       "      <td>NaN</td>\n",
       "      <td>NaN</td>\n",
       "      <td>NaN</td>\n",
       "    </tr>\n",
       "    <tr>\n",
       "      <th>3</th>\n",
       "      <td>CHO2</td>\n",
       "      <td>Phosphatidylethanolamine methyltransferase (PE...</td>\n",
       "      <td>+</td>\n",
       "      <td>NaN</td>\n",
       "    </tr>\n",
       "    <tr>\n",
       "      <th>4</th>\n",
       "      <td>CRD1</td>\n",
       "      <td>Cardiolipin synthase; produces cardiolipin, wh...</td>\n",
       "      <td>++</td>\n",
       "      <td>NaN</td>\n",
       "    </tr>\n",
       "  </tbody>\n",
       "</table>\n",
       "</div>"
      ],
      "text/plain": [
       "               Gene                                          Function1  \\\n",
       "0               NaN                                                NaN   \n",
       "1  Lipid metabolism                                                NaN   \n",
       "2               NaN                                                NaN   \n",
       "3              CHO2  Phosphatidylethanolamine methyltransferase (PE...   \n",
       "4              CRD1  Cardiolipin synthase; produces cardiolipin, wh...   \n",
       "\n",
       "  Susceptibility to acetic acid2  Unnamed: 3  \n",
       "0                            NaN         NaN  \n",
       "1                            NaN         NaN  \n",
       "2                            NaN         NaN  \n",
       "3                              +         NaN  \n",
       "4                             ++         NaN  "
      ]
     },
     "execution_count": 7,
     "metadata": {},
     "output_type": "execute_result"
    }
   ],
   "source": [
    "original_data.head()"
   ]
  },
  {
   "cell_type": "code",
   "execution_count": 8,
   "metadata": {},
   "outputs": [],
   "source": [
    "original_data['gene'] = original_data['Gene'].astype(str)"
   ]
  },
  {
   "cell_type": "code",
   "execution_count": 9,
   "metadata": {},
   "outputs": [],
   "source": [
    "# Eliminate all white spaces & capitalize\n",
    "original_data['gene'] = clean_genename(original_data['gene'])"
   ]
  },
  {
   "cell_type": "code",
   "execution_count": 10,
   "metadata": {},
   "outputs": [],
   "source": [
    "# Translate to ORFs \n",
    "original_data['orf'] = translate_sc(original_data['gene'], to='orf')"
   ]
  },
  {
   "cell_type": "code",
   "execution_count": 11,
   "metadata": {},
   "outputs": [
    {
     "name": "stdout",
     "output_type": "stream",
     "text": [
      "                                                          Gene Function1  \\\n",
      "index_input                                                                \n",
      "0                                                          NaN       NaN   \n",
      "1                                             Lipid metabolism       NaN   \n",
      "2                                                          NaN       NaN   \n",
      "20                                                         NaN       NaN   \n",
      "21                                          Response to stress       NaN   \n",
      "29                                                         NaN       NaN   \n",
      "30                                      Mitochondrial function       NaN   \n",
      "31                                                         NaN       NaN   \n",
      "71                                                         NaN       NaN   \n",
      "72           Chromatin remodelling, nucleic acid metabolism...       NaN   \n",
      "171                                                        NaN       NaN   \n",
      "172                                                        NaN       NaN   \n",
      "173                                                        NaN       NaN   \n",
      "174                                      Nucleotide metabolism       NaN   \n",
      "179                                                        NaN       NaN   \n",
      "180                                      Transcription factors       NaN   \n",
      "205                                                        NaN       NaN   \n",
      "206                                                  Transport       NaN   \n",
      "228                                                        NaN       NaN   \n",
      "229                                                  Autophagy       NaN   \n",
      "234                                       Protein modification       NaN   \n",
      "274                                                        NaN       NaN   \n",
      "275                                            Protein folding       NaN   \n",
      "282                                                        NaN       NaN   \n",
      "283                                    Carbohydrate metabolism       NaN   \n",
      "305                                                        NaN       NaN   \n",
      "306                                                        NaN       NaN   \n",
      "307                Cytoskeleton organization and morphogenesis       NaN   \n",
      "338                                                        NaN       NaN   \n",
      "339               Intracellular traficking and protein sorting       NaN   \n",
      "414                                                        NaN       NaN   \n",
      "415                                            Ion homeostasis       NaN   \n",
      "424                                                        NaN       NaN   \n",
      "425                                                 DNA repair       NaN   \n",
      "431                                                        NaN       NaN   \n",
      "432                                                        NaN       NaN   \n",
      "433                                          Protein synthesis       NaN   \n",
      "482                                                        NaN       NaN   \n",
      "483               Ammonium, amino acids and vitamin metabolism       NaN   \n",
      "506                                                        NaN       NaN   \n",
      "507                                       Phosphate metabolism       NaN   \n",
      "510                                                        NaN       NaN   \n",
      "511                                         Cell wall function       NaN   \n",
      "524                                                        NaN       NaN   \n",
      "525                                      Peroxissomal function       NaN   \n",
      "528                                                        NaN       NaN   \n",
      "529                                        Signal transduction       NaN   \n",
      "553                                                        NaN       NaN   \n",
      "554                                                        NaN       NaN   \n",
      "555                                                 Cell cycle       NaN   \n",
      "558                                                        NaN       NaN   \n",
      "559                                                        NaN       NaN   \n",
      "560                                    Internal pH homeostasis       NaN   \n",
      "570                                                        NaN       NaN   \n",
      "571                                                    Unknown       NaN   \n",
      "572                                                        NaN       NaN   \n",
      "\n",
      "            Susceptibility to acetic acid2  Unnamed: 3  \\\n",
      "index_input                                              \n",
      "0                                      NaN         NaN   \n",
      "1                                      NaN         NaN   \n",
      "2                                      NaN         NaN   \n",
      "20                                     NaN         NaN   \n",
      "21                                     NaN         NaN   \n",
      "29                                     NaN         NaN   \n",
      "30                                     NaN         NaN   \n",
      "31                                     NaN         NaN   \n",
      "71                                     NaN         NaN   \n",
      "72                                     NaN         NaN   \n",
      "171                                    NaN         NaN   \n",
      "172                                    NaN         NaN   \n",
      "173                                    NaN         NaN   \n",
      "174                                    NaN         NaN   \n",
      "179                                    NaN         NaN   \n",
      "180                                    NaN         NaN   \n",
      "205                                    NaN         NaN   \n",
      "206                                    NaN         NaN   \n",
      "228                                    NaN         NaN   \n",
      "229                                    NaN         NaN   \n",
      "234                                    NaN         NaN   \n",
      "274                                    NaN         NaN   \n",
      "275                                    NaN         NaN   \n",
      "282                                    NaN         NaN   \n",
      "283                                    NaN         NaN   \n",
      "305                                    NaN         NaN   \n",
      "306                                    NaN         NaN   \n",
      "307                                    NaN         NaN   \n",
      "338                                    NaN         NaN   \n",
      "339                                    NaN         NaN   \n",
      "414                                    NaN         NaN   \n",
      "415                                    NaN         NaN   \n",
      "424                                    NaN         NaN   \n",
      "425                                    NaN         NaN   \n",
      "431                                    NaN         NaN   \n",
      "432                                    NaN         NaN   \n",
      "433                                    NaN         NaN   \n",
      "482                                    NaN         NaN   \n",
      "483                                    NaN         NaN   \n",
      "506                                    NaN         NaN   \n",
      "507                                    NaN         NaN   \n",
      "510                                    NaN         NaN   \n",
      "511                                    NaN         NaN   \n",
      "524                                    NaN         NaN   \n",
      "525                                    NaN         NaN   \n",
      "528                                    NaN         NaN   \n",
      "529                                    NaN         NaN   \n",
      "553                                    NaN         NaN   \n",
      "554                                    NaN         NaN   \n",
      "555                                    NaN         NaN   \n",
      "558                                    NaN         NaN   \n",
      "559                                    NaN         NaN   \n",
      "560                                    NaN         NaN   \n",
      "570                                    NaN         NaN   \n",
      "571                                    NaN         NaN   \n",
      "572                                    NaN         NaN   \n",
      "\n",
      "                                                          gene  \\\n",
      "index_input                                                      \n",
      "0                                                          NAN   \n",
      "1                                              LIPIDMETABOLISM   \n",
      "2                                                          NAN   \n",
      "20                                                         NAN   \n",
      "21                                            RESPONSETOSTRESS   \n",
      "29                                                         NAN   \n",
      "30                                       MITOCHONDRIALFUNCTION   \n",
      "31                                                         NAN   \n",
      "71                                                         NAN   \n",
      "72           CHROMATINREMODELLING,NUCLEICACIDMETABOLISMANDT...   \n",
      "171                                                        NAN   \n",
      "172                                                        NAN   \n",
      "173                                                        NAN   \n",
      "174                                       NUCLEOTIDEMETABOLISM   \n",
      "179                                                        NAN   \n",
      "180                                       TRANSCRIPTIONFACTORS   \n",
      "205                                                        NAN   \n",
      "206                                                  TRANSPORT   \n",
      "228                                                        NAN   \n",
      "229                                                  AUTOPHAGY   \n",
      "234                                        PROTEINMODIFICATION   \n",
      "274                                                        NAN   \n",
      "275                                             PROTEINFOLDING   \n",
      "282                                                        NAN   \n",
      "283                                     CARBOHYDRATEMETABOLISM   \n",
      "305                                                        NAN   \n",
      "306                                                        NAN   \n",
      "307                   CYTOSKELETONORGANIZATIONANDMORPHOGENESIS   \n",
      "338                                                        NAN   \n",
      "339                   INTRACELLULARTRAFICKINGANDPROTEINSORTING   \n",
      "414                                                        NAN   \n",
      "415                                             IONHOMEOSTASIS   \n",
      "424                                                        NAN   \n",
      "425                                                  DNAREPAIR   \n",
      "431                                                        NAN   \n",
      "432                                                        NAN   \n",
      "433                                           PROTEINSYNTHESIS   \n",
      "482                                                        NAN   \n",
      "483                    AMMONIUM,AMINOACIDSANDVITAMINMETABOLISM   \n",
      "506                                                        NAN   \n",
      "507                                        PHOSPHATEMETABOLISM   \n",
      "510                                                        NAN   \n",
      "511                                           CELLWALLFUNCTION   \n",
      "524                                                        NAN   \n",
      "525                                       PEROXISSOMALFUNCTION   \n",
      "528                                                        NAN   \n",
      "529                                         SIGNALTRANSDUCTION   \n",
      "553                                                        NAN   \n",
      "554                                                        NAN   \n",
      "555                                                  CELLCYCLE   \n",
      "558                                                        NAN   \n",
      "559                                                        NAN   \n",
      "560                                      INTERNALPHHOMEOSTASIS   \n",
      "570                                                        NAN   \n",
      "571                                                    UNKNOWN   \n",
      "572                                                        NAN   \n",
      "\n",
      "                                                           orf  \n",
      "index_input                                                     \n",
      "0                                                          NAN  \n",
      "1                                              LIPIDMETABOLISM  \n",
      "2                                                          NAN  \n",
      "20                                                         NAN  \n",
      "21                                            RESPONSETOSTRESS  \n",
      "29                                                         NAN  \n",
      "30                                       MITOCHONDRIALFUNCTION  \n",
      "31                                                         NAN  \n",
      "71                                                         NAN  \n",
      "72           CHROMATINREMODELLING,NUCLEICACIDMETABOLISMANDT...  \n",
      "171                                                        NAN  \n",
      "172                                                        NAN  \n",
      "173                                                        NAN  \n",
      "174                                       NUCLEOTIDEMETABOLISM  \n",
      "179                                                        NAN  \n",
      "180                                       TRANSCRIPTIONFACTORS  \n",
      "205                                                        NAN  \n",
      "206                                                  TRANSPORT  \n",
      "228                                                        NAN  \n",
      "229                                                  AUTOPHAGY  \n",
      "234                                        PROTEINMODIFICATION  \n",
      "274                                                        NAN  \n",
      "275                                             PROTEINFOLDING  \n",
      "282                                                        NAN  \n",
      "283                                     CARBOHYDRATEMETABOLISM  \n",
      "305                                                        NAN  \n",
      "306                                                        NAN  \n",
      "307                   CYTOSKELETONORGANIZATIONANDMORPHOGENESIS  \n",
      "338                                                        NAN  \n",
      "339                   INTRACELLULARTRAFICKINGANDPROTEINSORTING  \n",
      "414                                                        NAN  \n",
      "415                                             IONHOMEOSTASIS  \n",
      "424                                                        NAN  \n",
      "425                                                  DNAREPAIR  \n",
      "431                                                        NAN  \n",
      "432                                                        NAN  \n",
      "433                                           PROTEINSYNTHESIS  \n",
      "482                                                        NAN  \n",
      "483                    AMMONIUM,AMINOACIDSANDVITAMINMETABOLISM  \n",
      "506                                                        NAN  \n",
      "507                                        PHOSPHATEMETABOLISM  \n",
      "510                                                        NAN  \n",
      "511                                           CELLWALLFUNCTION  \n",
      "524                                                        NAN  \n",
      "525                                       PEROXISSOMALFUNCTION  \n",
      "528                                                        NAN  \n",
      "529                                         SIGNALTRANSDUCTION  \n",
      "553                                                        NAN  \n",
      "554                                                        NAN  \n",
      "555                                                  CELLCYCLE  \n",
      "558                                                        NAN  \n",
      "559                                                        NAN  \n",
      "560                                      INTERNALPHHOMEOSTASIS  \n",
      "570                                                        NAN  \n",
      "571                                                    UNKNOWN  \n",
      "572                                                        NAN  \n"
     ]
    }
   ],
   "source": [
    "# Make sure everything translated ok\n",
    "t = looks_like_orf(original_data['orf'])\n",
    "print(original_data.loc[~t,])"
   ]
  },
  {
   "cell_type": "code",
   "execution_count": 12,
   "metadata": {},
   "outputs": [],
   "source": [
    "original_data = original_data.loc[t,:]"
   ]
  },
  {
   "cell_type": "code",
   "execution_count": 13,
   "metadata": {},
   "outputs": [],
   "source": [
    "original_data['data'] = original_data['Susceptibility to acetic acid2'].apply(lambda x: -len(x) if isinstance(x, str) else 0)"
   ]
  },
  {
   "cell_type": "code",
   "execution_count": 14,
   "metadata": {},
   "outputs": [],
   "source": [
    "original_data.set_index('orf', inplace=True)"
   ]
  },
  {
   "cell_type": "code",
   "execution_count": 15,
   "metadata": {},
   "outputs": [],
   "source": [
    "original_data = original_data[['data']].copy()"
   ]
  },
  {
   "cell_type": "code",
   "execution_count": 16,
   "metadata": {},
   "outputs": [],
   "source": [
    "original_data = original_data.groupby(original_data.index).mean()"
   ]
  },
  {
   "cell_type": "code",
   "execution_count": 17,
   "metadata": {},
   "outputs": [
    {
     "data": {
      "text/plain": [
       "(625, 1)"
      ]
     },
     "execution_count": 17,
     "metadata": {},
     "output_type": "execute_result"
    }
   ],
   "source": [
    "original_data.shape"
   ]
  },
  {
   "cell_type": "markdown",
   "metadata": {},
   "source": [
    "# Load & process tested strains"
   ]
  },
  {
   "cell_type": "code",
   "execution_count": 18,
   "metadata": {},
   "outputs": [],
   "source": [
    "# tested = pd.read_excel('raw_data/List of strains tested.xlsx', sheet_name='Tabelle2')"
   ]
  },
  {
   "cell_type": "code",
   "execution_count": 19,
   "metadata": {},
   "outputs": [],
   "source": [
    "# tested.head()"
   ]
  },
  {
   "cell_type": "code",
   "execution_count": 20,
   "metadata": {},
   "outputs": [],
   "source": [
    "# tested['orf'] = tested['ORF'].astype(str)"
   ]
  },
  {
   "cell_type": "code",
   "execution_count": 21,
   "metadata": {},
   "outputs": [],
   "source": [
    "# tested['orf'] = clean_orf(tested['orf'])"
   ]
  },
  {
   "cell_type": "code",
   "execution_count": 22,
   "metadata": {},
   "outputs": [],
   "source": [
    "# tested['orf'] = translate_sc(tested['orf'], to='orf')"
   ]
  },
  {
   "cell_type": "code",
   "execution_count": 23,
   "metadata": {},
   "outputs": [],
   "source": [
    "# # Make sure everything translated ok\n",
    "# t = looks_like_orf(tested['orf'])\n",
    "# print(tested.loc[~t,])"
   ]
  },
  {
   "cell_type": "code",
   "execution_count": 24,
   "metadata": {},
   "outputs": [],
   "source": [
    "# tested_orfs = tested['orf'].unique()"
   ]
  },
  {
   "cell_type": "code",
   "execution_count": 25,
   "metadata": {},
   "outputs": [],
   "source": [
    "# missing = [orf for orf in original_data.index.values if orf not in tested_orfs]\n",
    "# missing"
   ]
  },
  {
   "cell_type": "code",
   "execution_count": 26,
   "metadata": {},
   "outputs": [],
   "source": [
    "# tested_orfs = list(tested_orfs) + missing"
   ]
  },
  {
   "cell_type": "code",
   "execution_count": 27,
   "metadata": {},
   "outputs": [],
   "source": [
    "# original_data = original_data.reindex(index=tested_orfs, fill_value=0)"
   ]
  },
  {
   "cell_type": "markdown",
   "metadata": {},
   "source": [
    "# Prepare the final dataset"
   ]
  },
  {
   "cell_type": "code",
   "execution_count": 28,
   "metadata": {},
   "outputs": [],
   "source": [
    "data = original_data.copy()"
   ]
  },
  {
   "cell_type": "code",
   "execution_count": 29,
   "metadata": {},
   "outputs": [],
   "source": [
    "dataset_ids = [101]\n",
    "datasets = datasets.reindex(index=dataset_ids)"
   ]
  },
  {
   "cell_type": "code",
   "execution_count": 30,
   "metadata": {},
   "outputs": [],
   "source": [
    "lst = [datasets.index.values, ['value']*datasets.shape[0]]\n",
    "tuples = list(zip(*lst))\n",
    "idx = pd.MultiIndex.from_tuples(tuples, names=['dataset_id','data_type'])\n",
    "data.columns = idx"
   ]
  },
  {
   "cell_type": "code",
   "execution_count": 31,
   "metadata": {},
   "outputs": [
    {
     "data": {
      "text/html": [
       "<div>\n",
       "<style scoped>\n",
       "    .dataframe tbody tr th:only-of-type {\n",
       "        vertical-align: middle;\n",
       "    }\n",
       "\n",
       "    .dataframe tbody tr th {\n",
       "        vertical-align: top;\n",
       "    }\n",
       "\n",
       "    .dataframe thead tr th {\n",
       "        text-align: left;\n",
       "    }\n",
       "\n",
       "    .dataframe thead tr:last-of-type th {\n",
       "        text-align: right;\n",
       "    }\n",
       "</style>\n",
       "<table border=\"1\" class=\"dataframe\">\n",
       "  <thead>\n",
       "    <tr>\n",
       "      <th>dataset_id</th>\n",
       "      <th>101</th>\n",
       "    </tr>\n",
       "    <tr>\n",
       "      <th>data_type</th>\n",
       "      <th>value</th>\n",
       "    </tr>\n",
       "    <tr>\n",
       "      <th>orf</th>\n",
       "      <th></th>\n",
       "    </tr>\n",
       "  </thead>\n",
       "  <tbody>\n",
       "    <tr>\n",
       "      <th>YAL002W</th>\n",
       "      <td>-1.0</td>\n",
       "    </tr>\n",
       "    <tr>\n",
       "      <th>YAL011W</th>\n",
       "      <td>-1.0</td>\n",
       "    </tr>\n",
       "    <tr>\n",
       "      <th>YAL012W</th>\n",
       "      <td>-1.0</td>\n",
       "    </tr>\n",
       "    <tr>\n",
       "      <th>YAL013W</th>\n",
       "      <td>-1.0</td>\n",
       "    </tr>\n",
       "    <tr>\n",
       "      <th>YAL021C</th>\n",
       "      <td>-2.0</td>\n",
       "    </tr>\n",
       "  </tbody>\n",
       "</table>\n",
       "</div>"
      ],
      "text/plain": [
       "dataset_id   101\n",
       "data_type  value\n",
       "orf             \n",
       "YAL002W     -1.0\n",
       "YAL011W     -1.0\n",
       "YAL012W     -1.0\n",
       "YAL013W     -1.0\n",
       "YAL021C     -2.0"
      ]
     },
     "execution_count": 31,
     "metadata": {},
     "output_type": "execute_result"
    }
   ],
   "source": [
    "data.head()"
   ]
  },
  {
   "cell_type": "markdown",
   "metadata": {},
   "source": [
    "## Subset to the genes currently in SGD"
   ]
  },
  {
   "cell_type": "code",
   "execution_count": 32,
   "metadata": {},
   "outputs": [
    {
     "name": "stdout",
     "output_type": "stream",
     "text": [
      "ORFs missing from SGD: 0\n"
     ]
    }
   ],
   "source": [
    "genes = pd.read_csv(path_to_genes, sep='\\t', index_col='id')\n",
    "genes = genes.reset_index().set_index('systematic_name')\n",
    "gene_ids = genes.reindex(index=data.index.values)['id'].values\n",
    "num_missing = np.sum(np.isnan(gene_ids))\n",
    "print('ORFs missing from SGD: %d' % num_missing)"
   ]
  },
  {
   "cell_type": "code",
   "execution_count": 33,
   "metadata": {},
   "outputs": [
    {
     "data": {
      "text/html": [
       "<div>\n",
       "<style scoped>\n",
       "    .dataframe tbody tr th:only-of-type {\n",
       "        vertical-align: middle;\n",
       "    }\n",
       "\n",
       "    .dataframe tbody tr th {\n",
       "        vertical-align: top;\n",
       "    }\n",
       "\n",
       "    .dataframe thead tr th {\n",
       "        text-align: left;\n",
       "    }\n",
       "\n",
       "    .dataframe thead tr:last-of-type th {\n",
       "        text-align: right;\n",
       "    }\n",
       "</style>\n",
       "<table border=\"1\" class=\"dataframe\">\n",
       "  <thead>\n",
       "    <tr>\n",
       "      <th></th>\n",
       "      <th>dataset_id</th>\n",
       "      <th>101</th>\n",
       "    </tr>\n",
       "    <tr>\n",
       "      <th></th>\n",
       "      <th>data_type</th>\n",
       "      <th>value</th>\n",
       "    </tr>\n",
       "    <tr>\n",
       "      <th>gene_id</th>\n",
       "      <th>orf</th>\n",
       "      <th></th>\n",
       "    </tr>\n",
       "  </thead>\n",
       "  <tbody>\n",
       "    <tr>\n",
       "      <th>2</th>\n",
       "      <th>YAL002W</th>\n",
       "      <td>-1.0</td>\n",
       "    </tr>\n",
       "    <tr>\n",
       "      <th>9</th>\n",
       "      <th>YAL011W</th>\n",
       "      <td>-1.0</td>\n",
       "    </tr>\n",
       "    <tr>\n",
       "      <th>10</th>\n",
       "      <th>YAL012W</th>\n",
       "      <td>-1.0</td>\n",
       "    </tr>\n",
       "    <tr>\n",
       "      <th>11</th>\n",
       "      <th>YAL013W</th>\n",
       "      <td>-1.0</td>\n",
       "    </tr>\n",
       "    <tr>\n",
       "      <th>19</th>\n",
       "      <th>YAL021C</th>\n",
       "      <td>-2.0</td>\n",
       "    </tr>\n",
       "  </tbody>\n",
       "</table>\n",
       "</div>"
      ],
      "text/plain": [
       "dataset_id        101\n",
       "data_type       value\n",
       "gene_id orf          \n",
       "2       YAL002W  -1.0\n",
       "9       YAL011W  -1.0\n",
       "10      YAL012W  -1.0\n",
       "11      YAL013W  -1.0\n",
       "19      YAL021C  -2.0"
      ]
     },
     "execution_count": 33,
     "metadata": {},
     "output_type": "execute_result"
    }
   ],
   "source": [
    "data['gene_id'] = gene_ids\n",
    "data = data.loc[data['gene_id'].notnull()]\n",
    "data['gene_id'] = data['gene_id'].astype(int)\n",
    "data = data.reset_index().set_index(['gene_id','orf'])\n",
    "\n",
    "data.head()"
   ]
  },
  {
   "cell_type": "markdown",
   "metadata": {},
   "source": [
    "# Normalize"
   ]
  },
  {
   "cell_type": "code",
   "execution_count": 34,
   "metadata": {},
   "outputs": [],
   "source": [
    "data_norm = normalize_phenotypic_scores(data, has_tested=False)"
   ]
  },
  {
   "cell_type": "code",
   "execution_count": 35,
   "metadata": {},
   "outputs": [],
   "source": [
    "# Assign proper column names\n",
    "lst = [datasets.index.values, ['valuez']*datasets.shape[0]]\n",
    "tuples = list(zip(*lst))\n",
    "idx = pd.MultiIndex.from_tuples(tuples, names=['dataset_id','data_type'])\n",
    "data_norm.columns = idx"
   ]
  },
  {
   "cell_type": "code",
   "execution_count": 36,
   "metadata": {},
   "outputs": [
    {
     "data": {
      "text/html": [
       "<div>\n",
       "<style scoped>\n",
       "    .dataframe tbody tr th:only-of-type {\n",
       "        vertical-align: middle;\n",
       "    }\n",
       "\n",
       "    .dataframe tbody tr th {\n",
       "        vertical-align: top;\n",
       "    }\n",
       "\n",
       "    .dataframe thead tr th {\n",
       "        text-align: left;\n",
       "    }\n",
       "\n",
       "    .dataframe thead tr:last-of-type th {\n",
       "        text-align: right;\n",
       "    }\n",
       "</style>\n",
       "<table border=\"1\" class=\"dataframe\">\n",
       "  <thead>\n",
       "    <tr>\n",
       "      <th></th>\n",
       "      <th>dataset_id</th>\n",
       "      <th colspan=\"2\" halign=\"left\">101</th>\n",
       "    </tr>\n",
       "    <tr>\n",
       "      <th></th>\n",
       "      <th>data_type</th>\n",
       "      <th>value</th>\n",
       "      <th>valuez</th>\n",
       "    </tr>\n",
       "    <tr>\n",
       "      <th>gene_id</th>\n",
       "      <th>orf</th>\n",
       "      <th></th>\n",
       "      <th></th>\n",
       "    </tr>\n",
       "  </thead>\n",
       "  <tbody>\n",
       "    <tr>\n",
       "      <th>2</th>\n",
       "      <th>YAL002W</th>\n",
       "      <td>-1.0</td>\n",
       "      <td>-1.71965</td>\n",
       "    </tr>\n",
       "    <tr>\n",
       "      <th>9</th>\n",
       "      <th>YAL011W</th>\n",
       "      <td>-1.0</td>\n",
       "      <td>-1.71965</td>\n",
       "    </tr>\n",
       "    <tr>\n",
       "      <th>10</th>\n",
       "      <th>YAL012W</th>\n",
       "      <td>-1.0</td>\n",
       "      <td>-1.71965</td>\n",
       "    </tr>\n",
       "    <tr>\n",
       "      <th>11</th>\n",
       "      <th>YAL013W</th>\n",
       "      <td>-1.0</td>\n",
       "      <td>-1.71965</td>\n",
       "    </tr>\n",
       "    <tr>\n",
       "      <th>19</th>\n",
       "      <th>YAL021C</th>\n",
       "      <td>-2.0</td>\n",
       "      <td>-3.43930</td>\n",
       "    </tr>\n",
       "  </tbody>\n",
       "</table>\n",
       "</div>"
      ],
      "text/plain": [
       "dataset_id        101         \n",
       "data_type       value   valuez\n",
       "gene_id orf                   \n",
       "2       YAL002W  -1.0 -1.71965\n",
       "9       YAL011W  -1.0 -1.71965\n",
       "10      YAL012W  -1.0 -1.71965\n",
       "11      YAL013W  -1.0 -1.71965\n",
       "19      YAL021C  -2.0 -3.43930"
      ]
     },
     "execution_count": 36,
     "metadata": {},
     "output_type": "execute_result"
    }
   ],
   "source": [
    "data_norm[data.isnull()] = np.nan\n",
    "data_all = data.join(data_norm)\n",
    "\n",
    "data_all.head()"
   ]
  },
  {
   "cell_type": "markdown",
   "metadata": {},
   "source": [
    "# Print out"
   ]
  },
  {
   "cell_type": "code",
   "execution_count": 37,
   "metadata": {},
   "outputs": [],
   "source": [
    "for f in ['value','valuez']:\n",
    "    df = data_all.xs(f, level='data_type', axis=1).copy()\n",
    "    df.columns = datasets['name'].values\n",
    "    df = df.droplevel('gene_id', axis=0)\n",
    "    df.to_csv(paper_name + '_' + f + '.txt', sep='\\t')"
   ]
  },
  {
   "cell_type": "markdown",
   "metadata": {},
   "source": [
    "# Save to DB"
   ]
  },
  {
   "cell_type": "code",
   "execution_count": 41,
   "metadata": {},
   "outputs": [],
   "source": [
    "# from IO.save_data_to_db3 import *"
   ]
  },
  {
   "cell_type": "code",
   "execution_count": 42,
   "metadata": {},
   "outputs": [],
   "source": [
    "# save_data_to_db(data_all, paper_pmid)"
   ]
  },
  {
   "cell_type": "code",
   "execution_count": null,
   "metadata": {},
   "outputs": [],
   "source": []
  }
 ],
 "metadata": {
  "kernelspec": {
   "display_name": "yp-data",
   "language": "python",
   "name": "yp-data"
  },
  "language_info": {
   "codemirror_mode": {
    "name": "ipython",
    "version": 3
   },
   "file_extension": ".py",
   "mimetype": "text/x-python",
   "name": "python",
   "nbconvert_exporter": "python",
   "pygments_lexer": "ipython3",
   "version": "3.7.7"
  }
 },
 "nbformat": 4,
 "nbformat_minor": 4
}
