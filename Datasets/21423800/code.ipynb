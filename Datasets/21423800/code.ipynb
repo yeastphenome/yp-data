{
 "cells": [
  {
   "cell_type": "code",
   "execution_count": 1,
   "metadata": {},
   "outputs": [],
   "source": [
    "%run ../../Utils/yp_utils.py"
   ]
  },
  {
   "cell_type": "markdown",
   "metadata": {},
   "source": [
    "# Initial setup"
   ]
  },
  {
   "cell_type": "code",
   "execution_count": 2,
   "metadata": {},
   "outputs": [],
   "source": [
    "paper_pmid = 21423800\n",
    "paper_name = 'brett_rao_2011' "
   ]
  },
  {
   "cell_type": "code",
   "execution_count": 3,
   "metadata": {},
   "outputs": [],
   "source": [
    "datasets = pd.read_csv('extras/YeastPhenome_' + str(paper_pmid) + '_datasets_list.txt', sep='\\t', header=None, names=['pmid', 'name'])"
   ]
  },
  {
   "cell_type": "code",
   "execution_count": 4,
   "metadata": {},
   "outputs": [],
   "source": [
    "datasets.set_index('pmid', inplace=True)"
   ]
  },
  {
   "cell_type": "markdown",
   "metadata": {},
   "source": [
    "# Load & process the data"
   ]
  },
  {
   "cell_type": "code",
   "execution_count": 5,
   "metadata": {},
   "outputs": [],
   "source": [
    "original_data = pd.read_excel('raw_data/journal.pone.0017619.s003.xlsx', sheet_name='Unsorted Data')"
   ]
  },
  {
   "cell_type": "code",
   "execution_count": 6,
   "metadata": {},
   "outputs": [
    {
     "name": "stdout",
     "output_type": "stream",
     "text": [
      "Original data dimensions: 4827 x 10\n"
     ]
    }
   ],
   "source": [
    "print('Original data dimensions: %d x %d' % (original_data.shape))"
   ]
  },
  {
   "cell_type": "code",
   "execution_count": 7,
   "metadata": {},
   "outputs": [],
   "source": [
    "original_data['ORF name'] = original_data['ORF name'].astype(str)"
   ]
  },
  {
   "cell_type": "code",
   "execution_count": 8,
   "metadata": {},
   "outputs": [],
   "source": [
    "# Eliminate all white spaces & capitalize\n",
    "original_data['ORF name'] = clean_orf(original_data['ORF name'])"
   ]
  },
  {
   "cell_type": "code",
   "execution_count": 9,
   "metadata": {},
   "outputs": [],
   "source": [
    "# Translate to ORFs \n",
    "original_data['ORF name'] = translate_sc(original_data['ORF name'], to='orf')"
   ]
  },
  {
   "cell_type": "code",
   "execution_count": 10,
   "metadata": {},
   "outputs": [
    {
     "name": "stdout",
     "output_type": "stream",
     "text": [
      "Empty DataFrame\n",
      "Columns: [Order, ORF name, Gene name, Growth at pH 2.7, Growth at pH 4.0, Growth at pH 7.0, Unnamed: 6, pHv at pH 2.7, pHv at pH 4.0, pHv at pH 7.0]\n",
      "Index: []\n"
     ]
    }
   ],
   "source": [
    "# Make sure everything translated ok\n",
    "t = looks_like_orf(original_data['ORF name'])\n",
    "print(original_data.loc[~t,])"
   ]
  },
  {
   "cell_type": "code",
   "execution_count": 11,
   "metadata": {},
   "outputs": [],
   "source": [
    "original_data.set_index('ORF name', inplace=True)\n",
    "original_data.index.name='orf'"
   ]
  },
  {
   "cell_type": "code",
   "execution_count": 13,
   "metadata": {},
   "outputs": [],
   "source": [
    "original_data = original_data[['Growth at pH 2.7','Growth at pH 4.0','Growth at pH 7.0','pHv at pH 2.7','pHv at pH 4.0','pHv at pH 7.0']].copy()"
   ]
  },
  {
   "cell_type": "code",
   "execution_count": 14,
   "metadata": {},
   "outputs": [],
   "source": [
    "original_data = original_data.apply(pd.to_numeric, axis=1, errors='coerce')"
   ]
  },
  {
   "cell_type": "code",
   "execution_count": 15,
   "metadata": {},
   "outputs": [],
   "source": [
    "original_data = original_data.groupby(original_data.index).mean()"
   ]
  },
  {
   "cell_type": "code",
   "execution_count": 16,
   "metadata": {},
   "outputs": [
    {
     "data": {
      "text/plain": [
       "(4750, 6)"
      ]
     },
     "execution_count": 16,
     "metadata": {},
     "output_type": "execute_result"
    }
   ],
   "source": [
    "original_data.shape"
   ]
  },
  {
   "cell_type": "markdown",
   "metadata": {},
   "source": [
    "# Prepare the final dataset"
   ]
  },
  {
   "cell_type": "code",
   "execution_count": 17,
   "metadata": {},
   "outputs": [],
   "source": [
    "data = original_data.copy()"
   ]
  },
  {
   "cell_type": "code",
   "execution_count": 18,
   "metadata": {},
   "outputs": [],
   "source": [
    "dataset_ids = [529,530,531,59,60,61]\n",
    "datasets = datasets.reindex(index=dataset_ids)"
   ]
  },
  {
   "cell_type": "code",
   "execution_count": 19,
   "metadata": {},
   "outputs": [],
   "source": [
    "lst = [datasets.index.values, ['value']*datasets.shape[0]]\n",
    "tuples = list(zip(*lst))\n",
    "idx = pd.MultiIndex.from_tuples(tuples, names=['dataset_id','data_type'])\n",
    "data.columns = idx"
   ]
  },
  {
   "cell_type": "code",
   "execution_count": 20,
   "metadata": {},
   "outputs": [
    {
     "data": {
      "text/html": [
       "<div>\n",
       "<style scoped>\n",
       "    .dataframe tbody tr th:only-of-type {\n",
       "        vertical-align: middle;\n",
       "    }\n",
       "\n",
       "    .dataframe tbody tr th {\n",
       "        vertical-align: top;\n",
       "    }\n",
       "\n",
       "    .dataframe thead tr th {\n",
       "        text-align: left;\n",
       "    }\n",
       "\n",
       "    .dataframe thead tr:last-of-type th {\n",
       "        text-align: right;\n",
       "    }\n",
       "</style>\n",
       "<table border=\"1\" class=\"dataframe\">\n",
       "  <thead>\n",
       "    <tr>\n",
       "      <th>dataset_id</th>\n",
       "      <th>529</th>\n",
       "      <th>530</th>\n",
       "      <th>531</th>\n",
       "      <th>59</th>\n",
       "      <th>60</th>\n",
       "      <th>61</th>\n",
       "    </tr>\n",
       "    <tr>\n",
       "      <th>data_type</th>\n",
       "      <th>value</th>\n",
       "      <th>value</th>\n",
       "      <th>value</th>\n",
       "      <th>value</th>\n",
       "      <th>value</th>\n",
       "      <th>value</th>\n",
       "    </tr>\n",
       "    <tr>\n",
       "      <th>orf</th>\n",
       "      <th></th>\n",
       "      <th></th>\n",
       "      <th></th>\n",
       "      <th></th>\n",
       "      <th></th>\n",
       "      <th></th>\n",
       "    </tr>\n",
       "  </thead>\n",
       "  <tbody>\n",
       "    <tr>\n",
       "      <th>YAL002W</th>\n",
       "      <td>71.886879</td>\n",
       "      <td>86.421370</td>\n",
       "      <td>92.608908</td>\n",
       "      <td>5.270618</td>\n",
       "      <td>5.433458</td>\n",
       "      <td>6.118308</td>\n",
       "    </tr>\n",
       "    <tr>\n",
       "      <th>YAL004W</th>\n",
       "      <td>103.177741</td>\n",
       "      <td>96.241980</td>\n",
       "      <td>93.379834</td>\n",
       "      <td>5.353766</td>\n",
       "      <td>5.189489</td>\n",
       "      <td>6.050693</td>\n",
       "    </tr>\n",
       "    <tr>\n",
       "      <th>YAL005C</th>\n",
       "      <td>96.746237</td>\n",
       "      <td>98.153725</td>\n",
       "      <td>95.349976</td>\n",
       "      <td>5.285176</td>\n",
       "      <td>5.289227</td>\n",
       "      <td>6.131817</td>\n",
       "    </tr>\n",
       "    <tr>\n",
       "      <th>YAL007C</th>\n",
       "      <td>101.414019</td>\n",
       "      <td>97.066911</td>\n",
       "      <td>96.059716</td>\n",
       "      <td>5.253891</td>\n",
       "      <td>5.288743</td>\n",
       "      <td>6.079146</td>\n",
       "    </tr>\n",
       "    <tr>\n",
       "      <th>YAL008W</th>\n",
       "      <td>107.313365</td>\n",
       "      <td>102.383135</td>\n",
       "      <td>96.145374</td>\n",
       "      <td>5.284032</td>\n",
       "      <td>5.277184</td>\n",
       "      <td>6.071707</td>\n",
       "    </tr>\n",
       "  </tbody>\n",
       "</table>\n",
       "</div>"
      ],
      "text/plain": [
       "dataset_id         529         530        531       59        60        61 \n",
       "data_type        value       value      value     value     value     value\n",
       "orf                                                                        \n",
       "YAL002W      71.886879   86.421370  92.608908  5.270618  5.433458  6.118308\n",
       "YAL004W     103.177741   96.241980  93.379834  5.353766  5.189489  6.050693\n",
       "YAL005C      96.746237   98.153725  95.349976  5.285176  5.289227  6.131817\n",
       "YAL007C     101.414019   97.066911  96.059716  5.253891  5.288743  6.079146\n",
       "YAL008W     107.313365  102.383135  96.145374  5.284032  5.277184  6.071707"
      ]
     },
     "execution_count": 20,
     "metadata": {},
     "output_type": "execute_result"
    }
   ],
   "source": [
    "data.head()"
   ]
  },
  {
   "cell_type": "markdown",
   "metadata": {},
   "source": [
    "## Subset to the genes currently in SGD"
   ]
  },
  {
   "cell_type": "code",
   "execution_count": 21,
   "metadata": {},
   "outputs": [
    {
     "name": "stdout",
     "output_type": "stream",
     "text": [
      "ORFs missing from SGD: 26\n"
     ]
    }
   ],
   "source": [
    "genes = pd.read_csv(path_to_genes, sep='\\t', index_col='id')\n",
    "genes = genes.reset_index().set_index('systematic_name')\n",
    "gene_ids = genes.reindex(index=data.index.values)['id'].values\n",
    "num_missing = np.sum(np.isnan(gene_ids))\n",
    "print('ORFs missing from SGD: %d' % num_missing)"
   ]
  },
  {
   "cell_type": "code",
   "execution_count": 22,
   "metadata": {},
   "outputs": [
    {
     "data": {
      "text/html": [
       "<div>\n",
       "<style scoped>\n",
       "    .dataframe tbody tr th:only-of-type {\n",
       "        vertical-align: middle;\n",
       "    }\n",
       "\n",
       "    .dataframe tbody tr th {\n",
       "        vertical-align: top;\n",
       "    }\n",
       "\n",
       "    .dataframe thead tr th {\n",
       "        text-align: left;\n",
       "    }\n",
       "\n",
       "    .dataframe thead tr:last-of-type th {\n",
       "        text-align: right;\n",
       "    }\n",
       "</style>\n",
       "<table border=\"1\" class=\"dataframe\">\n",
       "  <thead>\n",
       "    <tr>\n",
       "      <th></th>\n",
       "      <th>dataset_id</th>\n",
       "      <th>529</th>\n",
       "      <th>530</th>\n",
       "      <th>531</th>\n",
       "      <th>59</th>\n",
       "      <th>60</th>\n",
       "      <th>61</th>\n",
       "    </tr>\n",
       "    <tr>\n",
       "      <th></th>\n",
       "      <th>data_type</th>\n",
       "      <th>value</th>\n",
       "      <th>value</th>\n",
       "      <th>value</th>\n",
       "      <th>value</th>\n",
       "      <th>value</th>\n",
       "      <th>value</th>\n",
       "    </tr>\n",
       "    <tr>\n",
       "      <th>gene_id</th>\n",
       "      <th>orf</th>\n",
       "      <th></th>\n",
       "      <th></th>\n",
       "      <th></th>\n",
       "      <th></th>\n",
       "      <th></th>\n",
       "      <th></th>\n",
       "    </tr>\n",
       "  </thead>\n",
       "  <tbody>\n",
       "    <tr>\n",
       "      <th>2</th>\n",
       "      <th>YAL002W</th>\n",
       "      <td>71.886879</td>\n",
       "      <td>86.421370</td>\n",
       "      <td>92.608908</td>\n",
       "      <td>5.270618</td>\n",
       "      <td>5.433458</td>\n",
       "      <td>6.118308</td>\n",
       "    </tr>\n",
       "    <tr>\n",
       "      <th>1863</th>\n",
       "      <th>YAL004W</th>\n",
       "      <td>103.177741</td>\n",
       "      <td>96.241980</td>\n",
       "      <td>93.379834</td>\n",
       "      <td>5.353766</td>\n",
       "      <td>5.189489</td>\n",
       "      <td>6.050693</td>\n",
       "    </tr>\n",
       "    <tr>\n",
       "      <th>4</th>\n",
       "      <th>YAL005C</th>\n",
       "      <td>96.746237</td>\n",
       "      <td>98.153725</td>\n",
       "      <td>95.349976</td>\n",
       "      <td>5.285176</td>\n",
       "      <td>5.289227</td>\n",
       "      <td>6.131817</td>\n",
       "    </tr>\n",
       "    <tr>\n",
       "      <th>5</th>\n",
       "      <th>YAL007C</th>\n",
       "      <td>101.414019</td>\n",
       "      <td>97.066911</td>\n",
       "      <td>96.059716</td>\n",
       "      <td>5.253891</td>\n",
       "      <td>5.288743</td>\n",
       "      <td>6.079146</td>\n",
       "    </tr>\n",
       "    <tr>\n",
       "      <th>6</th>\n",
       "      <th>YAL008W</th>\n",
       "      <td>107.313365</td>\n",
       "      <td>102.383135</td>\n",
       "      <td>96.145374</td>\n",
       "      <td>5.284032</td>\n",
       "      <td>5.277184</td>\n",
       "      <td>6.071707</td>\n",
       "    </tr>\n",
       "  </tbody>\n",
       "</table>\n",
       "</div>"
      ],
      "text/plain": [
       "dataset_id              529         530        531       59        60   \\\n",
       "data_type             value       value      value     value     value   \n",
       "gene_id orf                                                              \n",
       "2       YAL002W   71.886879   86.421370  92.608908  5.270618  5.433458   \n",
       "1863    YAL004W  103.177741   96.241980  93.379834  5.353766  5.189489   \n",
       "4       YAL005C   96.746237   98.153725  95.349976  5.285176  5.289227   \n",
       "5       YAL007C  101.414019   97.066911  96.059716  5.253891  5.288743   \n",
       "6       YAL008W  107.313365  102.383135  96.145374  5.284032  5.277184   \n",
       "\n",
       "dataset_id            61   \n",
       "data_type           value  \n",
       "gene_id orf                \n",
       "2       YAL002W  6.118308  \n",
       "1863    YAL004W  6.050693  \n",
       "4       YAL005C  6.131817  \n",
       "5       YAL007C  6.079146  \n",
       "6       YAL008W  6.071707  "
      ]
     },
     "execution_count": 22,
     "metadata": {},
     "output_type": "execute_result"
    }
   ],
   "source": [
    "data['gene_id'] = gene_ids\n",
    "data = data.loc[data['gene_id'].notnull()]\n",
    "data['gene_id'] = data['gene_id'].astype(int)\n",
    "data = data.reset_index().set_index(['gene_id','orf'])\n",
    "\n",
    "data.head()"
   ]
  },
  {
   "cell_type": "markdown",
   "metadata": {},
   "source": [
    "# Normalize"
   ]
  },
  {
   "cell_type": "code",
   "execution_count": 24,
   "metadata": {},
   "outputs": [],
   "source": [
    "data_norm = normalize_phenotypic_scores(data, has_tested=True)"
   ]
  },
  {
   "cell_type": "code",
   "execution_count": 25,
   "metadata": {},
   "outputs": [],
   "source": [
    "# Assign proper column names\n",
    "lst = [datasets.index.values, ['valuez']*datasets.shape[0]]\n",
    "tuples = list(zip(*lst))\n",
    "idx = pd.MultiIndex.from_tuples(tuples, names=['dataset_id','data_type'])\n",
    "data_norm.columns = idx"
   ]
  },
  {
   "cell_type": "code",
   "execution_count": 26,
   "metadata": {},
   "outputs": [
    {
     "data": {
      "text/html": [
       "<div>\n",
       "<style scoped>\n",
       "    .dataframe tbody tr th:only-of-type {\n",
       "        vertical-align: middle;\n",
       "    }\n",
       "\n",
       "    .dataframe tbody tr th {\n",
       "        vertical-align: top;\n",
       "    }\n",
       "\n",
       "    .dataframe thead tr th {\n",
       "        text-align: left;\n",
       "    }\n",
       "\n",
       "    .dataframe thead tr:last-of-type th {\n",
       "        text-align: right;\n",
       "    }\n",
       "</style>\n",
       "<table border=\"1\" class=\"dataframe\">\n",
       "  <thead>\n",
       "    <tr>\n",
       "      <th></th>\n",
       "      <th>dataset_id</th>\n",
       "      <th>529</th>\n",
       "      <th>530</th>\n",
       "      <th>531</th>\n",
       "      <th>59</th>\n",
       "      <th>60</th>\n",
       "      <th>61</th>\n",
       "      <th>529</th>\n",
       "      <th>530</th>\n",
       "      <th>531</th>\n",
       "      <th>59</th>\n",
       "      <th>60</th>\n",
       "      <th>61</th>\n",
       "    </tr>\n",
       "    <tr>\n",
       "      <th></th>\n",
       "      <th>data_type</th>\n",
       "      <th>value</th>\n",
       "      <th>value</th>\n",
       "      <th>value</th>\n",
       "      <th>value</th>\n",
       "      <th>value</th>\n",
       "      <th>value</th>\n",
       "      <th>valuez</th>\n",
       "      <th>valuez</th>\n",
       "      <th>valuez</th>\n",
       "      <th>valuez</th>\n",
       "      <th>valuez</th>\n",
       "      <th>valuez</th>\n",
       "    </tr>\n",
       "    <tr>\n",
       "      <th>gene_id</th>\n",
       "      <th>orf</th>\n",
       "      <th></th>\n",
       "      <th></th>\n",
       "      <th></th>\n",
       "      <th></th>\n",
       "      <th></th>\n",
       "      <th></th>\n",
       "      <th></th>\n",
       "      <th></th>\n",
       "      <th></th>\n",
       "      <th></th>\n",
       "      <th></th>\n",
       "      <th></th>\n",
       "    </tr>\n",
       "  </thead>\n",
       "  <tbody>\n",
       "    <tr>\n",
       "      <th>2</th>\n",
       "      <th>YAL002W</th>\n",
       "      <td>71.886879</td>\n",
       "      <td>86.421370</td>\n",
       "      <td>92.608908</td>\n",
       "      <td>5.270618</td>\n",
       "      <td>5.433458</td>\n",
       "      <td>6.118308</td>\n",
       "      <td>-1.796609</td>\n",
       "      <td>-1.048740</td>\n",
       "      <td>-0.625472</td>\n",
       "      <td>-0.113409</td>\n",
       "      <td>0.584226</td>\n",
       "      <td>1.376541</td>\n",
       "    </tr>\n",
       "    <tr>\n",
       "      <th>1863</th>\n",
       "      <th>YAL004W</th>\n",
       "      <td>103.177741</td>\n",
       "      <td>96.241980</td>\n",
       "      <td>93.379834</td>\n",
       "      <td>5.353766</td>\n",
       "      <td>5.189489</td>\n",
       "      <td>6.050693</td>\n",
       "      <td>0.309493</td>\n",
       "      <td>-0.092979</td>\n",
       "      <td>-0.555658</td>\n",
       "      <td>0.244646</td>\n",
       "      <td>-0.551986</td>\n",
       "      <td>1.033818</td>\n",
       "    </tr>\n",
       "    <tr>\n",
       "      <th>4</th>\n",
       "      <th>YAL005C</th>\n",
       "      <td>96.746237</td>\n",
       "      <td>98.153725</td>\n",
       "      <td>95.349976</td>\n",
       "      <td>5.285176</td>\n",
       "      <td>5.289227</td>\n",
       "      <td>6.131817</td>\n",
       "      <td>-0.123394</td>\n",
       "      <td>0.093076</td>\n",
       "      <td>-0.377242</td>\n",
       "      <td>-0.050719</td>\n",
       "      <td>-0.087487</td>\n",
       "      <td>1.445016</td>\n",
       "    </tr>\n",
       "    <tr>\n",
       "      <th>5</th>\n",
       "      <th>YAL007C</th>\n",
       "      <td>101.414019</td>\n",
       "      <td>97.066911</td>\n",
       "      <td>96.059716</td>\n",
       "      <td>5.253891</td>\n",
       "      <td>5.288743</td>\n",
       "      <td>6.079146</td>\n",
       "      <td>0.190781</td>\n",
       "      <td>-0.012695</td>\n",
       "      <td>-0.312968</td>\n",
       "      <td>-0.185438</td>\n",
       "      <td>-0.089737</td>\n",
       "      <td>1.178039</td>\n",
       "    </tr>\n",
       "    <tr>\n",
       "      <th>6</th>\n",
       "      <th>YAL008W</th>\n",
       "      <td>107.313365</td>\n",
       "      <td>102.383135</td>\n",
       "      <td>96.145374</td>\n",
       "      <td>5.284032</td>\n",
       "      <td>5.277184</td>\n",
       "      <td>6.071707</td>\n",
       "      <td>0.587850</td>\n",
       "      <td>0.504690</td>\n",
       "      <td>-0.305211</td>\n",
       "      <td>-0.055642</td>\n",
       "      <td>-0.143572</td>\n",
       "      <td>1.140332</td>\n",
       "    </tr>\n",
       "  </tbody>\n",
       "</table>\n",
       "</div>"
      ],
      "text/plain": [
       "dataset_id              529         530        531       59        60   \\\n",
       "data_type             value       value      value     value     value   \n",
       "gene_id orf                                                              \n",
       "2       YAL002W   71.886879   86.421370  92.608908  5.270618  5.433458   \n",
       "1863    YAL004W  103.177741   96.241980  93.379834  5.353766  5.189489   \n",
       "4       YAL005C   96.746237   98.153725  95.349976  5.285176  5.289227   \n",
       "5       YAL007C  101.414019   97.066911  96.059716  5.253891  5.288743   \n",
       "6       YAL008W  107.313365  102.383135  96.145374  5.284032  5.277184   \n",
       "\n",
       "dataset_id            61        529       530       531       59        60   \\\n",
       "data_type           value    valuez    valuez    valuez    valuez    valuez   \n",
       "gene_id orf                                                                   \n",
       "2       YAL002W  6.118308 -1.796609 -1.048740 -0.625472 -0.113409  0.584226   \n",
       "1863    YAL004W  6.050693  0.309493 -0.092979 -0.555658  0.244646 -0.551986   \n",
       "4       YAL005C  6.131817 -0.123394  0.093076 -0.377242 -0.050719 -0.087487   \n",
       "5       YAL007C  6.079146  0.190781 -0.012695 -0.312968 -0.185438 -0.089737   \n",
       "6       YAL008W  6.071707  0.587850  0.504690 -0.305211 -0.055642 -0.143572   \n",
       "\n",
       "dataset_id            61   \n",
       "data_type          valuez  \n",
       "gene_id orf                \n",
       "2       YAL002W  1.376541  \n",
       "1863    YAL004W  1.033818  \n",
       "4       YAL005C  1.445016  \n",
       "5       YAL007C  1.178039  \n",
       "6       YAL008W  1.140332  "
      ]
     },
     "execution_count": 26,
     "metadata": {},
     "output_type": "execute_result"
    }
   ],
   "source": [
    "data_norm[data.isnull()] = np.nan\n",
    "data_all = data.join(data_norm)\n",
    "\n",
    "data_all.head()"
   ]
  },
  {
   "cell_type": "markdown",
   "metadata": {},
   "source": [
    "# Print out"
   ]
  },
  {
   "cell_type": "code",
   "execution_count": 27,
   "metadata": {},
   "outputs": [],
   "source": [
    "for f in ['value','valuez']:\n",
    "    df = data_all.xs(f, level='data_type', axis=1).copy()\n",
    "    df.columns = datasets['name'].values\n",
    "    df = df.droplevel('gene_id', axis=0)\n",
    "    df.to_csv(paper_name + '_' + f + '.txt', sep='\\t')"
   ]
  },
  {
   "cell_type": "markdown",
   "metadata": {},
   "source": [
    "# Save to DB"
   ]
  },
  {
   "cell_type": "code",
   "execution_count": 28,
   "metadata": {},
   "outputs": [],
   "source": [
    "from IO.save_data_to_db3 import *"
   ]
  },
  {
   "cell_type": "code",
   "execution_count": 29,
   "metadata": {},
   "outputs": [
    {
     "name": "stdout",
     "output_type": "stream",
     "text": [
      "Deleting all datasets for PMID 21423800...\n"
     ]
    },
    {
     "name": "stderr",
     "output_type": "stream",
     "text": [
      "  0%|          | 0/6 [00:00<?, ?it/s]"
     ]
    },
    {
     "name": "stdout",
     "output_type": "stream",
     "text": [
      "Inserting the new data...\n"
     ]
    },
    {
     "name": "stderr",
     "output_type": "stream",
     "text": [
      "100%|██████████| 6/6 [00:39<00:00,  6.52s/it]"
     ]
    },
    {
     "name": "stdout",
     "output_type": "stream",
     "text": [
      "Updating the data_modified_on field...\n"
     ]
    },
    {
     "name": "stderr",
     "output_type": "stream",
     "text": [
      "\n"
     ]
    }
   ],
   "source": [
    "save_data_to_db(data_all, paper_pmid)"
   ]
  },
  {
   "cell_type": "code",
   "execution_count": null,
   "metadata": {},
   "outputs": [],
   "source": []
  }
 ],
 "metadata": {
  "kernelspec": {
   "display_name": "yp-data",
   "language": "python",
   "name": "yp-data"
  },
  "language_info": {
   "codemirror_mode": {
    "name": "ipython",
    "version": 3
   },
   "file_extension": ".py",
   "mimetype": "text/x-python",
   "name": "python",
   "nbconvert_exporter": "python",
   "pygments_lexer": "ipython3",
   "version": "3.7.7"
  }
 },
 "nbformat": 4,
 "nbformat_minor": 4
}
