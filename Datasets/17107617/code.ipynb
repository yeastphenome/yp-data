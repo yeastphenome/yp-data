{
 "cells": [
  {
   "cell_type": "code",
   "execution_count": 1,
   "metadata": {},
   "outputs": [],
   "source": [
    "%run ../../Utils/yp_utils.py"
   ]
  },
  {
   "cell_type": "markdown",
   "metadata": {},
   "source": [
    "# Initial setup"
   ]
  },
  {
   "cell_type": "code",
   "execution_count": 2,
   "metadata": {},
   "outputs": [],
   "source": [
    "paper_pmid = 17107617\n",
    "paper_name = 'freimoser_amrhein_2006' "
   ]
  },
  {
   "cell_type": "code",
   "execution_count": 3,
   "metadata": {},
   "outputs": [],
   "source": [
    "datasets = pd.read_csv('extras/YeastPhenome_' + str(paper_pmid) + '_datasets_list.txt', sep='\\t', header=None, names=['dataset_id', 'name'])"
   ]
  },
  {
   "cell_type": "code",
   "execution_count": 4,
   "metadata": {},
   "outputs": [],
   "source": [
    "datasets.set_index('dataset_id', inplace=True)"
   ]
  },
  {
   "cell_type": "markdown",
   "metadata": {},
   "source": [
    "# Load & process the data"
   ]
  },
  {
   "cell_type": "code",
   "execution_count": 7,
   "metadata": {},
   "outputs": [
    {
     "data": {
      "text/html": [
       "<div>\n",
       "<style scoped>\n",
       "    .dataframe tbody tr th:only-of-type {\n",
       "        vertical-align: middle;\n",
       "    }\n",
       "\n",
       "    .dataframe tbody tr th {\n",
       "        vertical-align: top;\n",
       "    }\n",
       "\n",
       "    .dataframe thead th {\n",
       "        text-align: right;\n",
       "    }\n",
       "</style>\n",
       "<table border=\"1\" class=\"dataframe\">\n",
       "  <thead>\n",
       "    <tr style=\"text-align: right;\">\n",
       "      <th></th>\n",
       "      <th>Plate</th>\n",
       "      <th>row</th>\n",
       "      <th>col</th>\n",
       "      <th>ORF</th>\n",
       "      <th>gene name(s)</th>\n",
       "      <th>SL/wt: Boone</th>\n",
       "      <th>Euroscarf comments</th>\n",
       "      <th>Freezing comments</th>\n",
       "      <th>Duplication in our collection</th>\n",
       "      <th>brief id</th>\n",
       "    </tr>\n",
       "  </thead>\n",
       "  <tbody>\n",
       "    <tr>\n",
       "      <th>0</th>\n",
       "      <td>1.0</td>\n",
       "      <td>A</td>\n",
       "      <td>1.0</td>\n",
       "      <td>YAL068C</td>\n",
       "      <td>NaN</td>\n",
       "      <td>NaN</td>\n",
       "      <td>NaN</td>\n",
       "      <td>NaN</td>\n",
       "      <td>NaN</td>\n",
       "      <td>biological_process unknown, molecular_function...</td>\n",
       "    </tr>\n",
       "    <tr>\n",
       "      <th>1</th>\n",
       "      <td>1.0</td>\n",
       "      <td>A</td>\n",
       "      <td>2.0</td>\n",
       "      <td>YAL067C</td>\n",
       "      <td>SEO1</td>\n",
       "      <td>NaN</td>\n",
       "      <td>NaN</td>\n",
       "      <td>NaN</td>\n",
       "      <td>NaN</td>\n",
       "      <td>putative permease</td>\n",
       "    </tr>\n",
       "    <tr>\n",
       "      <th>2</th>\n",
       "      <td>1.0</td>\n",
       "      <td>A</td>\n",
       "      <td>3.0</td>\n",
       "      <td>YAL066W</td>\n",
       "      <td>NaN</td>\n",
       "      <td>NaN</td>\n",
       "      <td>NaN</td>\n",
       "      <td>NaN</td>\n",
       "      <td>NaN</td>\n",
       "      <td>biological_process unknown, molecular_function...</td>\n",
       "    </tr>\n",
       "    <tr>\n",
       "      <th>3</th>\n",
       "      <td>1.0</td>\n",
       "      <td>A</td>\n",
       "      <td>4.0</td>\n",
       "      <td>YAL065C</td>\n",
       "      <td>NaN</td>\n",
       "      <td>NaN</td>\n",
       "      <td>NaN</td>\n",
       "      <td>NaN</td>\n",
       "      <td>NaN</td>\n",
       "      <td>biological_process unknown, molecular_function...</td>\n",
       "    </tr>\n",
       "    <tr>\n",
       "      <th>4</th>\n",
       "      <td>1.0</td>\n",
       "      <td>A</td>\n",
       "      <td>5.0</td>\n",
       "      <td>YAL062W</td>\n",
       "      <td>GDH3, FUN51</td>\n",
       "      <td>NaN</td>\n",
       "      <td>NaN</td>\n",
       "      <td>NaN</td>\n",
       "      <td>NaN</td>\n",
       "      <td>NADP-linked glutamate dehydrogenase,glutamate ...</td>\n",
       "    </tr>\n",
       "  </tbody>\n",
       "</table>\n",
       "</div>"
      ],
      "text/plain": [
       "   Plate row  col      ORF gene name(s) SL/wt: Boone Euroscarf comments  \\\n",
       "0    1.0   A  1.0  YAL068C          NaN          NaN                NaN   \n",
       "1    1.0   A  2.0  YAL067C         SEO1          NaN                NaN   \n",
       "2    1.0   A  3.0  YAL066W          NaN          NaN                NaN   \n",
       "3    1.0   A  4.0  YAL065C          NaN          NaN                NaN   \n",
       "4    1.0   A  5.0  YAL062W  GDH3, FUN51          NaN                NaN   \n",
       "\n",
       "  Freezing comments Duplication in our collection  \\\n",
       "0               NaN                           NaN   \n",
       "1               NaN                           NaN   \n",
       "2               NaN                           NaN   \n",
       "3               NaN                           NaN   \n",
       "4               NaN                           NaN   \n",
       "\n",
       "                                           brief id   \n",
       "0  biological_process unknown, molecular_function...  \n",
       "1                                 putative permease   \n",
       "2  biological_process unknown, molecular_function...  \n",
       "3  biological_process unknown, molecular_function...  \n",
       "4  NADP-linked glutamate dehydrogenase,glutamate ...  "
      ]
     },
     "execution_count": 7,
     "metadata": {},
     "output_type": "execute_result"
    }
   ],
   "source": [
    "mp = pd.read_excel('raw_data/Strains_plates_annotation.xlsx', sheet_name='Sheet1', skiprows=2)\n",
    "mp.head()"
   ]
  },
  {
   "cell_type": "code",
   "execution_count": 9,
   "metadata": {},
   "outputs": [],
   "source": [
    "mp = mp.loc[mp['col'].notnull(),]"
   ]
  },
  {
   "cell_type": "code",
   "execution_count": 10,
   "metadata": {},
   "outputs": [],
   "source": [
    "mp['Plate'] = mp['Plate'].astype(int)\n",
    "mp['col'] = mp['col'].astype(int)"
   ]
  },
  {
   "cell_type": "code",
   "execution_count": 20,
   "metadata": {},
   "outputs": [],
   "source": [
    "mp = mp[['Plate','row','col','ORF']].copy()\n",
    "mp.columns = ['plate','row','col','orf']"
   ]
  },
  {
   "cell_type": "code",
   "execution_count": 17,
   "metadata": {},
   "outputs": [
    {
     "data": {
      "text/html": [
       "<div>\n",
       "<style scoped>\n",
       "    .dataframe tbody tr th:only-of-type {\n",
       "        vertical-align: middle;\n",
       "    }\n",
       "\n",
       "    .dataframe tbody tr th {\n",
       "        vertical-align: top;\n",
       "    }\n",
       "\n",
       "    .dataframe thead th {\n",
       "        text-align: right;\n",
       "    }\n",
       "</style>\n",
       "<table border=\"1\" class=\"dataframe\">\n",
       "  <thead>\n",
       "    <tr style=\"text-align: right;\">\n",
       "      <th></th>\n",
       "      <th>File</th>\n",
       "      <th>Sheet</th>\n",
       "      <th>Plate</th>\n",
       "      <th>Row</th>\n",
       "      <th>Col</th>\n",
       "      <th>Data</th>\n",
       "    </tr>\n",
       "  </thead>\n",
       "  <tbody>\n",
       "    <tr>\n",
       "      <th>0</th>\n",
       "      <td>Plates1-10.xlsx</td>\n",
       "      <td>1</td>\n",
       "      <td>A</td>\n",
       "      <td>B</td>\n",
       "      <td>C</td>\n",
       "      <td>I</td>\n",
       "    </tr>\n",
       "    <tr>\n",
       "      <th>1</th>\n",
       "      <td>Plates1-10.xlsx</td>\n",
       "      <td>2</td>\n",
       "      <td>A</td>\n",
       "      <td>B</td>\n",
       "      <td>C</td>\n",
       "      <td>I</td>\n",
       "    </tr>\n",
       "    <tr>\n",
       "      <th>2</th>\n",
       "      <td>Plates1-10.xlsx</td>\n",
       "      <td>3</td>\n",
       "      <td>A</td>\n",
       "      <td>B</td>\n",
       "      <td>C</td>\n",
       "      <td>I</td>\n",
       "    </tr>\n",
       "    <tr>\n",
       "      <th>3</th>\n",
       "      <td>Plates1-10.xlsx</td>\n",
       "      <td>4</td>\n",
       "      <td>A</td>\n",
       "      <td>B</td>\n",
       "      <td>C</td>\n",
       "      <td>I</td>\n",
       "    </tr>\n",
       "    <tr>\n",
       "      <th>4</th>\n",
       "      <td>Plates1-10.xlsx</td>\n",
       "      <td>5</td>\n",
       "      <td>B</td>\n",
       "      <td>C</td>\n",
       "      <td>D</td>\n",
       "      <td>H</td>\n",
       "    </tr>\n",
       "  </tbody>\n",
       "</table>\n",
       "</div>"
      ],
      "text/plain": [
       "              File Sheet Plate Row Col Data\n",
       "0  Plates1-10.xlsx     1     A   B   C    I\n",
       "1  Plates1-10.xlsx     2     A   B   C    I\n",
       "2  Plates1-10.xlsx     3     A   B   C    I\n",
       "3  Plates1-10.xlsx     4     A   B   C    I\n",
       "4  Plates1-10.xlsx     5     B   C   D    H"
      ]
     },
     "execution_count": 17,
     "metadata": {},
     "output_type": "execute_result"
    }
   ],
   "source": [
    "c = pd.read_csv('raw_data/columns_to_extract.txt', sep='\\t')\n",
    "c.head()"
   ]
  },
  {
   "cell_type": "code",
   "execution_count": 18,
   "metadata": {},
   "outputs": [],
   "source": [
    "# Transform to numbers:\n",
    "alph = 'ABCDEFGHIJKLMNOPQRSTUVWXYZ'\n",
    "c['Plate'] = c['Plate'].apply(lambda x: alph.index(x))\n",
    "c['Row'] = c['Row'].apply(lambda x: alph.index(x))\n",
    "c['Col'] = c['Col'].apply(lambda x: alph.index(x))\n",
    "c['Data'] = c['Data'].apply(lambda x: alph.index(x))"
   ]
  },
  {
   "cell_type": "code",
   "execution_count": 19,
   "metadata": {},
   "outputs": [
    {
     "data": {
      "text/html": [
       "<div>\n",
       "<style scoped>\n",
       "    .dataframe tbody tr th:only-of-type {\n",
       "        vertical-align: middle;\n",
       "    }\n",
       "\n",
       "    .dataframe tbody tr th {\n",
       "        vertical-align: top;\n",
       "    }\n",
       "\n",
       "    .dataframe thead th {\n",
       "        text-align: right;\n",
       "    }\n",
       "</style>\n",
       "<table border=\"1\" class=\"dataframe\">\n",
       "  <thead>\n",
       "    <tr style=\"text-align: right;\">\n",
       "      <th></th>\n",
       "      <th>File</th>\n",
       "      <th>Sheet</th>\n",
       "      <th>Plate</th>\n",
       "      <th>Row</th>\n",
       "      <th>Col</th>\n",
       "      <th>Data</th>\n",
       "    </tr>\n",
       "  </thead>\n",
       "  <tbody>\n",
       "    <tr>\n",
       "      <th>0</th>\n",
       "      <td>Plates1-10.xlsx</td>\n",
       "      <td>1</td>\n",
       "      <td>0</td>\n",
       "      <td>1</td>\n",
       "      <td>2</td>\n",
       "      <td>8</td>\n",
       "    </tr>\n",
       "    <tr>\n",
       "      <th>1</th>\n",
       "      <td>Plates1-10.xlsx</td>\n",
       "      <td>2</td>\n",
       "      <td>0</td>\n",
       "      <td>1</td>\n",
       "      <td>2</td>\n",
       "      <td>8</td>\n",
       "    </tr>\n",
       "    <tr>\n",
       "      <th>2</th>\n",
       "      <td>Plates1-10.xlsx</td>\n",
       "      <td>3</td>\n",
       "      <td>0</td>\n",
       "      <td>1</td>\n",
       "      <td>2</td>\n",
       "      <td>8</td>\n",
       "    </tr>\n",
       "    <tr>\n",
       "      <th>3</th>\n",
       "      <td>Plates1-10.xlsx</td>\n",
       "      <td>4</td>\n",
       "      <td>0</td>\n",
       "      <td>1</td>\n",
       "      <td>2</td>\n",
       "      <td>8</td>\n",
       "    </tr>\n",
       "    <tr>\n",
       "      <th>4</th>\n",
       "      <td>Plates1-10.xlsx</td>\n",
       "      <td>5</td>\n",
       "      <td>1</td>\n",
       "      <td>2</td>\n",
       "      <td>3</td>\n",
       "      <td>7</td>\n",
       "    </tr>\n",
       "  </tbody>\n",
       "</table>\n",
       "</div>"
      ],
      "text/plain": [
       "              File Sheet  Plate  Row  Col  Data\n",
       "0  Plates1-10.xlsx     1      0    1    2     8\n",
       "1  Plates1-10.xlsx     2      0    1    2     8\n",
       "2  Plates1-10.xlsx     3      0    1    2     8\n",
       "3  Plates1-10.xlsx     4      0    1    2     8\n",
       "4  Plates1-10.xlsx     5      1    2    3     7"
      ]
     },
     "execution_count": 19,
     "metadata": {},
     "output_type": "execute_result"
    }
   ],
   "source": [
    "c.head()"
   ]
  },
  {
   "cell_type": "code",
   "execution_count": 31,
   "metadata": {},
   "outputs": [],
   "source": [
    "files = ['Plates1-10.xlsx','Plates11-20.xlsx','Plates21-30.xlsx','Plates31-40.xlsx','Plates41-50.xlsx','Plate51.xlsx']"
   ]
  },
  {
   "cell_type": "code",
   "execution_count": 32,
   "metadata": {},
   "outputs": [
    {
     "data": {
      "text/html": [
       "<div>\n",
       "<style scoped>\n",
       "    .dataframe tbody tr th:only-of-type {\n",
       "        vertical-align: middle;\n",
       "    }\n",
       "\n",
       "    .dataframe tbody tr th {\n",
       "        vertical-align: top;\n",
       "    }\n",
       "\n",
       "    .dataframe thead th {\n",
       "        text-align: right;\n",
       "    }\n",
       "</style>\n",
       "<table border=\"1\" class=\"dataframe\">\n",
       "  <thead>\n",
       "    <tr style=\"text-align: right;\">\n",
       "      <th></th>\n",
       "      <th>plate</th>\n",
       "      <th>row</th>\n",
       "      <th>col</th>\n",
       "      <th>data</th>\n",
       "      <th>orf</th>\n",
       "    </tr>\n",
       "  </thead>\n",
       "  <tbody>\n",
       "    <tr>\n",
       "      <th>0</th>\n",
       "      <td>10.0</td>\n",
       "      <td>A</td>\n",
       "      <td>1.0</td>\n",
       "      <td>1.24683</td>\n",
       "      <td>YOR309C</td>\n",
       "    </tr>\n",
       "    <tr>\n",
       "      <th>1</th>\n",
       "      <td>10.0</td>\n",
       "      <td>A</td>\n",
       "      <td>2.0</td>\n",
       "      <td>1.20843</td>\n",
       "      <td>YOR311C</td>\n",
       "    </tr>\n",
       "    <tr>\n",
       "      <th>2</th>\n",
       "      <td>10.0</td>\n",
       "      <td>A</td>\n",
       "      <td>3.0</td>\n",
       "      <td>1.2601</td>\n",
       "      <td>YOR312C</td>\n",
       "    </tr>\n",
       "    <tr>\n",
       "      <th>3</th>\n",
       "      <td>10.0</td>\n",
       "      <td>A</td>\n",
       "      <td>4.0</td>\n",
       "      <td>1.3613</td>\n",
       "      <td>YOR313C</td>\n",
       "    </tr>\n",
       "    <tr>\n",
       "      <th>4</th>\n",
       "      <td>10.0</td>\n",
       "      <td>A</td>\n",
       "      <td>5.0</td>\n",
       "      <td>0.961515</td>\n",
       "      <td>YOR314W</td>\n",
       "    </tr>\n",
       "  </tbody>\n",
       "</table>\n",
       "</div>"
      ],
      "text/plain": [
       "   plate row  col      data      orf\n",
       "0   10.0   A  1.0   1.24683  YOR309C\n",
       "1   10.0   A  2.0   1.20843  YOR311C\n",
       "2   10.0   A  3.0    1.2601  YOR312C\n",
       "3   10.0   A  4.0    1.3613  YOR313C\n",
       "4   10.0   A  5.0  0.961515  YOR314W"
      ]
     },
     "execution_count": 32,
     "metadata": {},
     "output_type": "execute_result"
    }
   ],
   "source": [
    "original_data.head()"
   ]
  },
  {
   "cell_type": "code",
   "execution_count": 29,
   "metadata": {},
   "outputs": [
    {
     "data": {
      "text/plain": [
       "array([0])"
      ]
     },
     "execution_count": 29,
     "metadata": {},
     "output_type": "execute_result"
    }
   ],
   "source": [
    "plate_col"
   ]
  },
  {
   "cell_type": "code",
   "execution_count": 35,
   "metadata": {},
   "outputs": [
    {
     "name": "stdout",
     "output_type": "stream",
     "text": [
      "Original data dimensions: 99 x 11\n",
      "Empty DataFrame\n",
      "Columns: [plate, row, col, data, orf]\n",
      "Index: []\n",
      "(95, 1)\n",
      "Original data dimensions: 99 x 11\n",
      "Empty DataFrame\n",
      "Columns: [plate, row, col, data, orf]\n",
      "Index: []\n",
      "(96, 1)\n",
      "Original data dimensions: 99 x 11\n",
      "Empty DataFrame\n",
      "Columns: [plate, row, col, data, orf]\n",
      "Index: []\n",
      "(96, 1)\n",
      "Original data dimensions: 99 x 11\n",
      "Empty DataFrame\n",
      "Columns: [plate, row, col, data, orf]\n",
      "Index: []\n",
      "(95, 1)\n",
      "Original data dimensions: 99 x 10\n",
      "Empty DataFrame\n",
      "Columns: [plate, row, col, data, orf]\n",
      "Index: []\n",
      "(96, 1)\n",
      "Original data dimensions: 99 x 10\n",
      "Empty DataFrame\n",
      "Columns: [plate, row, col, data, orf]\n",
      "Index: []\n",
      "(96, 1)\n",
      "Original data dimensions: 99 x 10\n",
      "Empty DataFrame\n",
      "Columns: [plate, row, col, data, orf]\n",
      "Index: []\n",
      "(96, 1)\n",
      "Original data dimensions: 99 x 13\n",
      "Empty DataFrame\n",
      "Columns: [plate, row, col, data, orf]\n",
      "Index: []\n",
      "(96, 1)\n",
      "Original data dimensions: 99 x 13\n",
      "Empty DataFrame\n",
      "Columns: [plate, row, col, data, orf]\n",
      "Index: []\n",
      "(95, 1)\n",
      "Original data dimensions: 99 x 11\n",
      "Empty DataFrame\n",
      "Columns: [plate, row, col, data, orf]\n",
      "Index: []\n",
      "(95, 1)\n",
      "Original data dimensions: 99 x 11\n",
      "Empty DataFrame\n",
      "Columns: [plate, row, col, data, orf]\n",
      "Index: []\n",
      "(96, 1)\n",
      "Original data dimensions: 99 x 11\n",
      "Empty DataFrame\n",
      "Columns: [plate, row, col, data, orf]\n",
      "Index: []\n",
      "(96, 1)\n",
      "Original data dimensions: 99 x 11\n",
      "Empty DataFrame\n",
      "Columns: [plate, row, col, data, orf]\n",
      "Index: []\n",
      "(96, 1)\n",
      "Original data dimensions: 99 x 10\n",
      "Empty DataFrame\n",
      "Columns: [plate, row, col, data, orf]\n",
      "Index: []\n",
      "(96, 1)\n",
      "Original data dimensions: 99 x 10\n",
      "Empty DataFrame\n",
      "Columns: [plate, row, col, data, orf]\n",
      "Index: []\n",
      "(96, 1)\n",
      "Original data dimensions: 99 x 10\n",
      "Empty DataFrame\n",
      "Columns: [plate, row, col, data, orf]\n",
      "Index: []\n",
      "(96, 1)\n",
      "Original data dimensions: 99 x 10\n",
      "             plate row  col      data  orf\n",
      "index_input                               \n",
      "7               16   H    1  0.742120  NAN\n",
      "15              16   H    2  0.845582  NAN\n",
      "23              16   H    3  0.882255  NAN\n",
      "31              16   H    4  1.032381  NAN\n",
      "39              16   H    5  1.050033  NAN\n",
      "47              16   H    6  0.976598  NAN\n",
      "55              16   H    7  1.044586  NAN\n",
      "63              16   H    8  0.831840  NAN\n",
      "71              16   H    9  0.889702  NAN\n",
      "79              16   H   10  0.969527  NAN\n",
      "87              16   H   11  0.922278  NAN\n",
      "95              16   H   12  0.952144  NAN\n",
      "(85, 1)\n",
      "Original data dimensions: 99 x 10\n",
      "Empty DataFrame\n",
      "Columns: [plate, row, col, data, orf]\n",
      "Index: []\n",
      "(96, 1)\n",
      "Original data dimensions: 99 x 10\n",
      "Empty DataFrame\n",
      "Columns: [plate, row, col, data, orf]\n",
      "Index: []\n",
      "(96, 1)\n",
      "Original data dimensions: 99 x 10\n",
      "Empty DataFrame\n",
      "Columns: [plate, row, col, data, orf]\n",
      "Index: []\n",
      "(94, 1)\n",
      "Original data dimensions: 99 x 10\n",
      "Empty DataFrame\n",
      "Columns: [plate, row, col, data, orf]\n",
      "Index: []\n",
      "(96, 1)\n",
      "Original data dimensions: 99 x 10\n",
      "Empty DataFrame\n",
      "Columns: [plate, row, col, data, orf]\n",
      "Index: []\n",
      "(96, 1)\n",
      "Original data dimensions: 99 x 10\n",
      "Empty DataFrame\n",
      "Columns: [plate, row, col, data, orf]\n",
      "Index: []\n",
      "(96, 1)\n",
      "Original data dimensions: 99 x 10\n",
      "Empty DataFrame\n",
      "Columns: [plate, row, col, data, orf]\n",
      "Index: []\n",
      "(96, 1)\n",
      "Original data dimensions: 99 x 10\n",
      "Empty DataFrame\n",
      "Columns: [plate, row, col, data, orf]\n",
      "Index: []\n",
      "(96, 1)\n",
      "Original data dimensions: 99 x 10\n",
      "Empty DataFrame\n",
      "Columns: [plate, row, col, data, orf]\n",
      "Index: []\n",
      "(96, 1)\n",
      "Original data dimensions: 99 x 10\n",
      "Empty DataFrame\n",
      "Columns: [plate, row, col, data, orf]\n",
      "Index: []\n",
      "(96, 1)\n",
      "Original data dimensions: 99 x 10\n",
      "Empty DataFrame\n",
      "Columns: [plate, row, col, data, orf]\n",
      "Index: []\n",
      "(96, 1)\n",
      "Original data dimensions: 99 x 10\n",
      "Empty DataFrame\n",
      "Columns: [plate, row, col, data, orf]\n",
      "Index: []\n",
      "(96, 1)\n",
      "Original data dimensions: 99 x 10\n",
      "Empty DataFrame\n",
      "Columns: [plate, row, col, data, orf]\n",
      "Index: []\n",
      "(96, 1)\n",
      "Original data dimensions: 99 x 10\n",
      "Empty DataFrame\n",
      "Columns: [plate, row, col, data, orf]\n",
      "Index: []\n",
      "(96, 1)\n",
      "Original data dimensions: 99 x 10\n",
      "Empty DataFrame\n",
      "Columns: [plate, row, col, data, orf]\n",
      "Index: []\n",
      "(96, 1)\n",
      "Original data dimensions: 99 x 10\n",
      "Empty DataFrame\n",
      "Columns: [plate, row, col, data, orf]\n",
      "Index: []\n",
      "(96, 1)\n",
      "Original data dimensions: 99 x 10\n",
      "Empty DataFrame\n",
      "Columns: [plate, row, col, data, orf]\n",
      "Index: []\n",
      "(96, 1)\n",
      "Original data dimensions: 99 x 10\n",
      "Empty DataFrame\n",
      "Columns: [plate, row, col, data, orf]\n",
      "Index: []\n",
      "(96, 1)\n",
      "Original data dimensions: 99 x 13\n",
      "Empty DataFrame\n",
      "Columns: [plate, row, col, data, orf]\n",
      "Index: []\n",
      "(95, 1)\n",
      "Original data dimensions: 99 x 13\n",
      "Empty DataFrame\n",
      "Columns: [plate, row, col, data, orf]\n",
      "Index: []\n",
      "(95, 1)\n",
      "Original data dimensions: 99 x 13\n",
      "Empty DataFrame\n",
      "Columns: [plate, row, col, data, orf]\n",
      "Index: []\n",
      "(96, 1)\n",
      "Original data dimensions: 99 x 10\n",
      "Empty DataFrame\n",
      "Columns: [plate, row, col, data, orf]\n",
      "Index: []\n",
      "(96, 1)\n",
      "Original data dimensions: 99 x 13\n",
      "Empty DataFrame\n",
      "Columns: [plate, row, col, data, orf]\n",
      "Index: []\n",
      "(95, 1)\n",
      "Original data dimensions: 99 x 13\n",
      "Empty DataFrame\n",
      "Columns: [plate, row, col, data, orf]\n",
      "Index: []\n",
      "(96, 1)\n",
      "Original data dimensions: 99 x 13\n",
      "Empty DataFrame\n",
      "Columns: [plate, row, col, data, orf]\n",
      "Index: []\n",
      "(96, 1)\n",
      "Original data dimensions: 99 x 10\n",
      "Empty DataFrame\n",
      "Columns: [plate, row, col, data, orf]\n",
      "Index: []\n",
      "(96, 1)\n",
      "Original data dimensions: 99 x 10\n",
      "Empty DataFrame\n",
      "Columns: [plate, row, col, data, orf]\n",
      "Index: []\n",
      "(96, 1)\n",
      "Original data dimensions: 99 x 10\n",
      "Empty DataFrame\n",
      "Columns: [plate, row, col, data, orf]\n",
      "Index: []\n",
      "(96, 1)\n",
      "Original data dimensions: 99 x 10\n",
      "             plate row  col      data  orf\n",
      "index_input                               \n",
      "69              39   F    9  0.819693  NAN\n",
      "(94, 1)\n",
      "Original data dimensions: 99 x 10\n",
      "Empty DataFrame\n",
      "Columns: [plate, row, col, data, orf]\n",
      "Index: []\n",
      "(95, 1)\n",
      "Original data dimensions: 99 x 10\n",
      "Empty DataFrame\n",
      "Columns: [plate, row, col, data, orf]\n",
      "Index: []\n",
      "(93, 1)\n",
      "Original data dimensions: 99 x 10\n",
      "Empty DataFrame\n",
      "Columns: [plate, row, col, data, orf]\n",
      "Index: []\n",
      "(96, 1)\n",
      "Original data dimensions: 99 x 10\n",
      "Empty DataFrame\n",
      "Columns: [plate, row, col, data, orf]\n",
      "Index: []\n",
      "(96, 1)\n",
      "Original data dimensions: 99 x 10\n",
      "Empty DataFrame\n",
      "Columns: [plate, row, col, data, orf]\n",
      "Index: []\n",
      "(96, 1)\n",
      "Original data dimensions: 99 x 10\n",
      "Empty DataFrame\n",
      "Columns: [plate, row, col, data, orf]\n",
      "Index: []\n",
      "(96, 1)\n",
      "Original data dimensions: 99 x 10\n",
      "Empty DataFrame\n",
      "Columns: [plate, row, col, data, orf]\n",
      "Index: []\n",
      "(96, 1)\n",
      "Original data dimensions: 99 x 10\n",
      "Empty DataFrame\n",
      "Columns: [plate, row, col, data, orf]\n",
      "Index: []\n",
      "(94, 1)\n",
      "Original data dimensions: 99 x 10\n",
      "Empty DataFrame\n",
      "Columns: [plate, row, col, data, orf]\n",
      "Index: []\n",
      "(96, 1)\n",
      "Original data dimensions: 99 x 10\n",
      "Empty DataFrame\n",
      "Columns: [plate, row, col, data, orf]\n",
      "Index: []\n",
      "(96, 1)\n",
      "Original data dimensions: 99 x 10\n",
      "Empty DataFrame\n",
      "Columns: [plate, row, col, data, orf]\n",
      "Index: []\n",
      "(96, 1)\n",
      "Original data dimensions: 99 x 10\n",
      "             plate row  col      data  orf\n",
      "index_input                               \n",
      "6               51   G    1  0.719779  NAN\n",
      "7               51   H    1  1.001777  NAN\n",
      "14              51   G    2  0.922089  NAN\n",
      "15              51   H    2  0.813313  NAN\n",
      "22              51   G    3  0.624917  NAN\n",
      "23              51   H    3  0.853754  NAN\n",
      "30              51   G    4  0.806157  NAN\n",
      "31              51   H    4  1.536070  NAN\n",
      "38              51   G    5  0.803821  NAN\n",
      "39              51   H    5  0.998223  NAN\n",
      "46              51   G    6  0.687631  NAN\n",
      "47              51   H    6  0.796140  NAN\n",
      "54              51   G    7  0.929299  NAN\n",
      "55              51   H    7  1.370193  NAN\n",
      "62              51   G    8  1.208888  NAN\n",
      "63              51   H    8  1.124271  NAN\n",
      "70              51   G    9  0.564321  NAN\n",
      "71              51   H    9  0.582397  NAN\n",
      "77              51   F   10  1.128475  NAN\n",
      "78              51   G   10  1.464748  NAN\n",
      "79              51   H   10  1.323947  NAN\n",
      "85              51   F   11  0.953641  NAN\n",
      "86              51   G   11  0.550900  NAN\n",
      "87              51   H   11  1.159953  NAN\n",
      "93              51   F   12  1.109240  NAN\n",
      "94              51   G   12  1.156611  NAN\n",
      "95              51   H   12  0.759569  NAN\n",
      "(66, 1)\n"
     ]
    }
   ],
   "source": [
    "original_data_list = []\n",
    "for f in files:\n",
    "    xl = pd.ExcelFile('raw_data/' + f)\n",
    "    \n",
    "    sheet_names = c.loc[c['File']==f,'Sheet'].values\n",
    "    \n",
    "    for s in sheet_names:\n",
    "        original_data = xl.parse(s, header=None)\n",
    "        \n",
    "        plate_col = c.loc[(c['File']==f) & (c['Sheet']==s),'Plate'].values[0]\n",
    "        row_col = c.loc[(c['File']==f) & (c['Sheet']==s),'Row'].values[0]\n",
    "        col_col = c.loc[(c['File']==f) & (c['Sheet']==s),'Col'].values[0]\n",
    "        data_col = c.loc[(c['File']==f) & (c['Sheet']==s),'Data'].values[0]\n",
    "        \n",
    "        print('Original data dimensions: %d x %d' % (original_data.shape))\n",
    "#         print(original_data.head())\n",
    "        \n",
    "        original_data = original_data.iloc[:, [plate_col, row_col, col_col, data_col]].copy()\n",
    "        original_data.columns = ['plate','row','col','data']\n",
    "        \n",
    "        original_data = original_data.loc[original_data['plate'].notnull()]\n",
    "        for cl in ['plate','col']:\n",
    "            original_data[cl] = original_data[cl].astype(int)\n",
    "        \n",
    "        original_data = original_data.merge(mp, how='left', on=['plate','row','col'])\n",
    "        \n",
    "        original_data['orf'] = original_data['orf'].astype(str)\n",
    "        original_data['orf'] = clean_orf(original_data['orf'])\n",
    "        \n",
    "        original_data['orf'] = translate_sc(original_data['orf'], to='orf')\n",
    "        t = looks_like_orf(original_data['orf'])\n",
    "        print(original_data.loc[~t,])\n",
    "        \n",
    "        original_data['data'] = pd.to_numeric(original_data['data'], errors='coerce')\n",
    "        original_data.set_index('orf', inplace=True)\n",
    "        original_data = original_data[['data']].copy()\n",
    "        original_data = original_data.groupby(original_data.index).mean()\n",
    "        \n",
    "        print(original_data.shape)\n",
    "        \n",
    "        original_data_list.append(original_data)"
   ]
  },
  {
   "cell_type": "code",
   "execution_count": 36,
   "metadata": {},
   "outputs": [],
   "source": [
    "original_data = pd.concat(original_data_list, axis=0)"
   ]
  },
  {
   "cell_type": "code",
   "execution_count": 37,
   "metadata": {},
   "outputs": [
    {
     "data": {
      "text/plain": [
       "(5510, 1)"
      ]
     },
     "execution_count": 37,
     "metadata": {},
     "output_type": "execute_result"
    }
   ],
   "source": [
    "original_data.shape"
   ]
  },
  {
   "cell_type": "code",
   "execution_count": 38,
   "metadata": {},
   "outputs": [
    {
     "data": {
      "text/html": [
       "<div>\n",
       "<style scoped>\n",
       "    .dataframe tbody tr th:only-of-type {\n",
       "        vertical-align: middle;\n",
       "    }\n",
       "\n",
       "    .dataframe tbody tr th {\n",
       "        vertical-align: top;\n",
       "    }\n",
       "\n",
       "    .dataframe thead th {\n",
       "        text-align: right;\n",
       "    }\n",
       "</style>\n",
       "<table border=\"1\" class=\"dataframe\">\n",
       "  <thead>\n",
       "    <tr style=\"text-align: right;\">\n",
       "      <th></th>\n",
       "      <th>data</th>\n",
       "    </tr>\n",
       "    <tr>\n",
       "      <th>orf</th>\n",
       "      <th></th>\n",
       "    </tr>\n",
       "  </thead>\n",
       "  <tbody>\n",
       "    <tr>\n",
       "      <th>YAL002W</th>\n",
       "      <td>1.094756</td>\n",
       "    </tr>\n",
       "    <tr>\n",
       "      <th>YAL004W</th>\n",
       "      <td>0.877053</td>\n",
       "    </tr>\n",
       "    <tr>\n",
       "      <th>YAL005C</th>\n",
       "      <td>1.113184</td>\n",
       "    </tr>\n",
       "    <tr>\n",
       "      <th>YAL007C</th>\n",
       "      <td>0.912592</td>\n",
       "    </tr>\n",
       "    <tr>\n",
       "      <th>YAL008W</th>\n",
       "      <td>0.790073</td>\n",
       "    </tr>\n",
       "  </tbody>\n",
       "</table>\n",
       "</div>"
      ],
      "text/plain": [
       "             data\n",
       "orf              \n",
       "YAL002W  1.094756\n",
       "YAL004W  0.877053\n",
       "YAL005C  1.113184\n",
       "YAL007C  0.912592\n",
       "YAL008W  0.790073"
      ]
     },
     "execution_count": 38,
     "metadata": {},
     "output_type": "execute_result"
    }
   ],
   "source": [
    "original_data.head()"
   ]
  },
  {
   "cell_type": "code",
   "execution_count": 44,
   "metadata": {},
   "outputs": [
    {
     "name": "stdout",
     "output_type": "stream",
     "text": [
      "         data\n",
      "orf          \n",
      "NAN  0.928254\n",
      "NAN  0.819693\n",
      "NAN  0.961116\n"
     ]
    }
   ],
   "source": [
    "t = looks_like_orf(original_data.index.values)\n",
    "print(original_data.loc[~np.array(t),])"
   ]
  },
  {
   "cell_type": "code",
   "execution_count": 45,
   "metadata": {},
   "outputs": [],
   "source": [
    "original_data = original_data.loc[np.array(t),:]"
   ]
  },
  {
   "cell_type": "code",
   "execution_count": 46,
   "metadata": {},
   "outputs": [],
   "source": [
    "original_data = original_data.groupby(original_data.index).mean()"
   ]
  },
  {
   "cell_type": "code",
   "execution_count": 47,
   "metadata": {},
   "outputs": [
    {
     "data": {
      "text/plain": [
       "(4761, 1)"
      ]
     },
     "execution_count": 47,
     "metadata": {},
     "output_type": "execute_result"
    }
   ],
   "source": [
    "original_data.shape"
   ]
  },
  {
   "cell_type": "markdown",
   "metadata": {},
   "source": [
    "# Prepare the final dataset"
   ]
  },
  {
   "cell_type": "code",
   "execution_count": 48,
   "metadata": {},
   "outputs": [],
   "source": [
    "data = original_data.copy()"
   ]
  },
  {
   "cell_type": "code",
   "execution_count": 49,
   "metadata": {},
   "outputs": [],
   "source": [
    "dataset_ids = [119]\n",
    "datasets = datasets.reindex(index=dataset_ids)"
   ]
  },
  {
   "cell_type": "code",
   "execution_count": 50,
   "metadata": {},
   "outputs": [],
   "source": [
    "lst = [datasets.index.values, ['value']*datasets.shape[0]]\n",
    "tuples = list(zip(*lst))\n",
    "idx = pd.MultiIndex.from_tuples(tuples, names=['dataset_id','data_type'])\n",
    "data.columns = idx"
   ]
  },
  {
   "cell_type": "code",
   "execution_count": 51,
   "metadata": {},
   "outputs": [
    {
     "data": {
      "text/html": [
       "<div>\n",
       "<style scoped>\n",
       "    .dataframe tbody tr th:only-of-type {\n",
       "        vertical-align: middle;\n",
       "    }\n",
       "\n",
       "    .dataframe tbody tr th {\n",
       "        vertical-align: top;\n",
       "    }\n",
       "\n",
       "    .dataframe thead tr th {\n",
       "        text-align: left;\n",
       "    }\n",
       "\n",
       "    .dataframe thead tr:last-of-type th {\n",
       "        text-align: right;\n",
       "    }\n",
       "</style>\n",
       "<table border=\"1\" class=\"dataframe\">\n",
       "  <thead>\n",
       "    <tr>\n",
       "      <th>dataset_id</th>\n",
       "      <th>119</th>\n",
       "    </tr>\n",
       "    <tr>\n",
       "      <th>data_type</th>\n",
       "      <th>value</th>\n",
       "    </tr>\n",
       "    <tr>\n",
       "      <th>orf</th>\n",
       "      <th></th>\n",
       "    </tr>\n",
       "  </thead>\n",
       "  <tbody>\n",
       "    <tr>\n",
       "      <th>YAL002W</th>\n",
       "      <td>1.094756</td>\n",
       "    </tr>\n",
       "    <tr>\n",
       "      <th>YAL004W</th>\n",
       "      <td>0.877053</td>\n",
       "    </tr>\n",
       "    <tr>\n",
       "      <th>YAL005C</th>\n",
       "      <td>1.113184</td>\n",
       "    </tr>\n",
       "    <tr>\n",
       "      <th>YAL007C</th>\n",
       "      <td>0.912592</td>\n",
       "    </tr>\n",
       "    <tr>\n",
       "      <th>YAL008W</th>\n",
       "      <td>0.790073</td>\n",
       "    </tr>\n",
       "  </tbody>\n",
       "</table>\n",
       "</div>"
      ],
      "text/plain": [
       "dataset_id       119\n",
       "data_type      value\n",
       "orf                 \n",
       "YAL002W     1.094756\n",
       "YAL004W     0.877053\n",
       "YAL005C     1.113184\n",
       "YAL007C     0.912592\n",
       "YAL008W     0.790073"
      ]
     },
     "execution_count": 51,
     "metadata": {},
     "output_type": "execute_result"
    }
   ],
   "source": [
    "data.head()"
   ]
  },
  {
   "cell_type": "markdown",
   "metadata": {},
   "source": [
    "## Subset to the genes currently in SGD"
   ]
  },
  {
   "cell_type": "code",
   "execution_count": 52,
   "metadata": {},
   "outputs": [
    {
     "name": "stdout",
     "output_type": "stream",
     "text": [
      "ORFs missing from SGD: 22\n"
     ]
    }
   ],
   "source": [
    "genes = pd.read_csv(path_to_genes, sep='\\t', index_col='id')\n",
    "genes = genes.reset_index().set_index('systematic_name')\n",
    "gene_ids = genes.reindex(index=data.index.values)['id'].values\n",
    "num_missing = np.sum(np.isnan(gene_ids))\n",
    "print('ORFs missing from SGD: %d' % num_missing)"
   ]
  },
  {
   "cell_type": "code",
   "execution_count": 53,
   "metadata": {},
   "outputs": [
    {
     "data": {
      "text/html": [
       "<div>\n",
       "<style scoped>\n",
       "    .dataframe tbody tr th:only-of-type {\n",
       "        vertical-align: middle;\n",
       "    }\n",
       "\n",
       "    .dataframe tbody tr th {\n",
       "        vertical-align: top;\n",
       "    }\n",
       "\n",
       "    .dataframe thead tr th {\n",
       "        text-align: left;\n",
       "    }\n",
       "\n",
       "    .dataframe thead tr:last-of-type th {\n",
       "        text-align: right;\n",
       "    }\n",
       "</style>\n",
       "<table border=\"1\" class=\"dataframe\">\n",
       "  <thead>\n",
       "    <tr>\n",
       "      <th></th>\n",
       "      <th>dataset_id</th>\n",
       "      <th>119</th>\n",
       "    </tr>\n",
       "    <tr>\n",
       "      <th></th>\n",
       "      <th>data_type</th>\n",
       "      <th>value</th>\n",
       "    </tr>\n",
       "    <tr>\n",
       "      <th>gene_id</th>\n",
       "      <th>orf</th>\n",
       "      <th></th>\n",
       "    </tr>\n",
       "  </thead>\n",
       "  <tbody>\n",
       "    <tr>\n",
       "      <th>2</th>\n",
       "      <th>YAL002W</th>\n",
       "      <td>1.094756</td>\n",
       "    </tr>\n",
       "    <tr>\n",
       "      <th>1863</th>\n",
       "      <th>YAL004W</th>\n",
       "      <td>0.877053</td>\n",
       "    </tr>\n",
       "    <tr>\n",
       "      <th>4</th>\n",
       "      <th>YAL005C</th>\n",
       "      <td>1.113184</td>\n",
       "    </tr>\n",
       "    <tr>\n",
       "      <th>5</th>\n",
       "      <th>YAL007C</th>\n",
       "      <td>0.912592</td>\n",
       "    </tr>\n",
       "    <tr>\n",
       "      <th>6</th>\n",
       "      <th>YAL008W</th>\n",
       "      <td>0.790073</td>\n",
       "    </tr>\n",
       "  </tbody>\n",
       "</table>\n",
       "</div>"
      ],
      "text/plain": [
       "dataset_id            119\n",
       "data_type           value\n",
       "gene_id orf              \n",
       "2       YAL002W  1.094756\n",
       "1863    YAL004W  0.877053\n",
       "4       YAL005C  1.113184\n",
       "5       YAL007C  0.912592\n",
       "6       YAL008W  0.790073"
      ]
     },
     "execution_count": 53,
     "metadata": {},
     "output_type": "execute_result"
    }
   ],
   "source": [
    "data['gene_id'] = gene_ids\n",
    "data = data.loc[data['gene_id'].notnull()]\n",
    "data['gene_id'] = data['gene_id'].astype(int)\n",
    "data = data.reset_index().set_index(['gene_id','orf'])\n",
    "\n",
    "data.head()"
   ]
  },
  {
   "cell_type": "markdown",
   "metadata": {},
   "source": [
    "# Normalize"
   ]
  },
  {
   "cell_type": "code",
   "execution_count": 54,
   "metadata": {},
   "outputs": [],
   "source": [
    "data_norm = normalize_phenotypic_scores(data, has_tested=True)"
   ]
  },
  {
   "cell_type": "code",
   "execution_count": 55,
   "metadata": {},
   "outputs": [],
   "source": [
    "# Assign proper column names\n",
    "lst = [datasets.index.values, ['valuez']*datasets.shape[0]]\n",
    "tuples = list(zip(*lst))\n",
    "idx = pd.MultiIndex.from_tuples(tuples, names=['dataset_id','data_type'])\n",
    "data_norm.columns = idx"
   ]
  },
  {
   "cell_type": "code",
   "execution_count": 56,
   "metadata": {},
   "outputs": [
    {
     "data": {
      "text/html": [
       "<div>\n",
       "<style scoped>\n",
       "    .dataframe tbody tr th:only-of-type {\n",
       "        vertical-align: middle;\n",
       "    }\n",
       "\n",
       "    .dataframe tbody tr th {\n",
       "        vertical-align: top;\n",
       "    }\n",
       "\n",
       "    .dataframe thead tr th {\n",
       "        text-align: left;\n",
       "    }\n",
       "\n",
       "    .dataframe thead tr:last-of-type th {\n",
       "        text-align: right;\n",
       "    }\n",
       "</style>\n",
       "<table border=\"1\" class=\"dataframe\">\n",
       "  <thead>\n",
       "    <tr>\n",
       "      <th></th>\n",
       "      <th>dataset_id</th>\n",
       "      <th colspan=\"2\" halign=\"left\">119</th>\n",
       "    </tr>\n",
       "    <tr>\n",
       "      <th></th>\n",
       "      <th>data_type</th>\n",
       "      <th>value</th>\n",
       "      <th>valuez</th>\n",
       "    </tr>\n",
       "    <tr>\n",
       "      <th>gene_id</th>\n",
       "      <th>orf</th>\n",
       "      <th></th>\n",
       "      <th></th>\n",
       "    </tr>\n",
       "  </thead>\n",
       "  <tbody>\n",
       "    <tr>\n",
       "      <th>2</th>\n",
       "      <th>YAL002W</th>\n",
       "      <td>1.094756</td>\n",
       "      <td>0.041309</td>\n",
       "    </tr>\n",
       "    <tr>\n",
       "      <th>1863</th>\n",
       "      <th>YAL004W</th>\n",
       "      <td>0.877053</td>\n",
       "      <td>-0.090280</td>\n",
       "    </tr>\n",
       "    <tr>\n",
       "      <th>4</th>\n",
       "      <th>YAL005C</th>\n",
       "      <td>1.113184</td>\n",
       "      <td>0.052447</td>\n",
       "    </tr>\n",
       "    <tr>\n",
       "      <th>5</th>\n",
       "      <th>YAL007C</th>\n",
       "      <td>0.912592</td>\n",
       "      <td>-0.068799</td>\n",
       "    </tr>\n",
       "    <tr>\n",
       "      <th>6</th>\n",
       "      <th>YAL008W</th>\n",
       "      <td>0.790073</td>\n",
       "      <td>-0.142855</td>\n",
       "    </tr>\n",
       "  </tbody>\n",
       "</table>\n",
       "</div>"
      ],
      "text/plain": [
       "dataset_id            119          \n",
       "data_type           value    valuez\n",
       "gene_id orf                        \n",
       "2       YAL002W  1.094756  0.041309\n",
       "1863    YAL004W  0.877053 -0.090280\n",
       "4       YAL005C  1.113184  0.052447\n",
       "5       YAL007C  0.912592 -0.068799\n",
       "6       YAL008W  0.790073 -0.142855"
      ]
     },
     "execution_count": 56,
     "metadata": {},
     "output_type": "execute_result"
    }
   ],
   "source": [
    "data_norm[data.isnull()] = np.nan\n",
    "data_all = data.join(data_norm)\n",
    "\n",
    "data_all.head()"
   ]
  },
  {
   "cell_type": "markdown",
   "metadata": {},
   "source": [
    "# Print out"
   ]
  },
  {
   "cell_type": "code",
   "execution_count": 57,
   "metadata": {},
   "outputs": [],
   "source": [
    "for f in ['value','valuez']:\n",
    "    df = data_all.xs(f, level='data_type', axis=1).copy()\n",
    "    df.columns = datasets['name'].values\n",
    "    df = df.droplevel('gene_id', axis=0)\n",
    "    df.to_csv(paper_name + '_' + f + '.txt', sep='\\t')"
   ]
  },
  {
   "cell_type": "markdown",
   "metadata": {},
   "source": [
    "# Save to DB"
   ]
  },
  {
   "cell_type": "code",
   "execution_count": 58,
   "metadata": {},
   "outputs": [],
   "source": [
    "from IO.save_data_to_db3 import *"
   ]
  },
  {
   "cell_type": "code",
   "execution_count": 59,
   "metadata": {},
   "outputs": [
    {
     "name": "stderr",
     "output_type": "stream",
     "text": [
      "  0%|          | 0/1 [00:00<?, ?it/s]"
     ]
    },
    {
     "name": "stdout",
     "output_type": "stream",
     "text": [
      "Deleting all datasets for PMID 17107617...\n",
      "Inserting the new data...\n"
     ]
    },
    {
     "name": "stderr",
     "output_type": "stream",
     "text": [
      "100%|██████████| 1/1 [00:07<00:00,  7.23s/it]"
     ]
    },
    {
     "name": "stdout",
     "output_type": "stream",
     "text": [
      "Updating the data_modified_on field...\n"
     ]
    },
    {
     "name": "stderr",
     "output_type": "stream",
     "text": [
      "\n"
     ]
    }
   ],
   "source": [
    "save_data_to_db(data_all, paper_pmid)"
   ]
  },
  {
   "cell_type": "code",
   "execution_count": null,
   "metadata": {},
   "outputs": [],
   "source": []
  }
 ],
 "metadata": {
  "kernelspec": {
   "display_name": "yp-data",
   "language": "python",
   "name": "yp-data"
  },
  "language_info": {
   "codemirror_mode": {
    "name": "ipython",
    "version": 3
   },
   "file_extension": ".py",
   "mimetype": "text/x-python",
   "name": "python",
   "nbconvert_exporter": "python",
   "pygments_lexer": "ipython3",
   "version": "3.7.7"
  }
 },
 "nbformat": 4,
 "nbformat_minor": 4
}
