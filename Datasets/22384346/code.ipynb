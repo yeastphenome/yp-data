{
 "cells": [
  {
   "cell_type": "code",
   "execution_count": 1,
   "metadata": {},
   "outputs": [],
   "source": [
    "%run ../yp_utils.py"
   ]
  },
  {
   "cell_type": "markdown",
   "metadata": {},
   "source": [
    "# Initial setup"
   ]
  },
  {
   "cell_type": "code",
   "execution_count": 2,
   "metadata": {},
   "outputs": [],
   "source": [
    "paper_pmid = 22384346\n",
    "paper_name = 'piggott_nislow_2011' "
   ]
  },
  {
   "cell_type": "code",
   "execution_count": 3,
   "metadata": {},
   "outputs": [],
   "source": [
    "datasets = pd.read_csv('extras/YeastPhenome_' + str(paper_pmid) + '_datasets_list.txt', sep='\\t', header=None, names=['dataset_id', 'name'])"
   ]
  },
  {
   "cell_type": "code",
   "execution_count": 4,
   "metadata": {},
   "outputs": [],
   "source": [
    "datasets.set_index('dataset_id', inplace=True)"
   ]
  },
  {
   "cell_type": "markdown",
   "metadata": {},
   "source": [
    "# Load & process the data"
   ]
  },
  {
   "cell_type": "code",
   "execution_count": 11,
   "metadata": {},
   "outputs": [],
   "source": [
    "original_data = pd.read_excel('raw_data/TableS3.xlsx', sheet_name='ORF sort')"
   ]
  },
  {
   "cell_type": "code",
   "execution_count": 12,
   "metadata": {},
   "outputs": [
    {
     "name": "stdout",
     "output_type": "stream",
     "text": [
      "Original data dimensions: 7051 x 27\n"
     ]
    }
   ],
   "source": [
    "print('Original data dimensions: %d x %d' % (original_data.shape))"
   ]
  },
  {
   "cell_type": "code",
   "execution_count": 14,
   "metadata": {},
   "outputs": [
    {
     "data": {
      "text/html": [
       "<div>\n",
       "<style scoped>\n",
       "    .dataframe tbody tr th:only-of-type {\n",
       "        vertical-align: middle;\n",
       "    }\n",
       "\n",
       "    .dataframe tbody tr th {\n",
       "        vertical-align: top;\n",
       "    }\n",
       "\n",
       "    .dataframe thead th {\n",
       "        text-align: right;\n",
       "    }\n",
       "</style>\n",
       "<table border=\"1\" class=\"dataframe\">\n",
       "  <thead>\n",
       "    <tr style=\"text-align: right;\">\n",
       "      <th></th>\n",
       "      <th>Gene</th>\n",
       "      <th>Name</th>\n",
       "      <th>ID</th>\n",
       "      <th>Tag</th>\n",
       "      <th>2vs1</th>\n",
       "      <th>4vs1</th>\n",
       "      <th>6vs1</th>\n",
       "      <th>8vs1</th>\n",
       "      <th>10vs1</th>\n",
       "      <th>14vs1</th>\n",
       "      <th>...</th>\n",
       "      <th>Unnamed: 17</th>\n",
       "      <th>Unnamed: 18</th>\n",
       "      <th>Unnamed: 19</th>\n",
       "      <th>Unnamed: 20</th>\n",
       "      <th>Unnamed: 21</th>\n",
       "      <th>Unnamed: 22</th>\n",
       "      <th>Unnamed: 23</th>\n",
       "      <th>Unnamed: 24</th>\n",
       "      <th>Unnamed: 25</th>\n",
       "      <th>Unnamed: 26</th>\n",
       "    </tr>\n",
       "  </thead>\n",
       "  <tbody>\n",
       "    <tr>\n",
       "      <th>0</th>\n",
       "      <td>YAL002W</td>\n",
       "      <td>VPS8</td>\n",
       "      <td>VPS8</td>\n",
       "      <td>U</td>\n",
       "      <td>-0.841049</td>\n",
       "      <td>-7.689850</td>\n",
       "      <td>-0.141234</td>\n",
       "      <td>1.259199</td>\n",
       "      <td>-1.013566</td>\n",
       "      <td>0.640347</td>\n",
       "      <td>...</td>\n",
       "      <td>NaN</td>\n",
       "      <td>NaN</td>\n",
       "      <td>NaN</td>\n",
       "      <td>NaN</td>\n",
       "      <td>NaN</td>\n",
       "      <td>NaN</td>\n",
       "      <td>NaN</td>\n",
       "      <td>NaN</td>\n",
       "      <td>NaN</td>\n",
       "      <td>NaN</td>\n",
       "    </tr>\n",
       "    <tr>\n",
       "      <th>1</th>\n",
       "      <td>YAL004W</td>\n",
       "      <td>0</td>\n",
       "      <td>YAL004W</td>\n",
       "      <td>U</td>\n",
       "      <td>-0.294741</td>\n",
       "      <td>-1.022835</td>\n",
       "      <td>0.049940</td>\n",
       "      <td>0.165930</td>\n",
       "      <td>-0.076213</td>\n",
       "      <td>-0.115223</td>\n",
       "      <td>...</td>\n",
       "      <td>NaN</td>\n",
       "      <td>NaN</td>\n",
       "      <td>NaN</td>\n",
       "      <td>NaN</td>\n",
       "      <td>NaN</td>\n",
       "      <td>NaN</td>\n",
       "      <td>NaN</td>\n",
       "      <td>NaN</td>\n",
       "      <td>NaN</td>\n",
       "      <td>NaN</td>\n",
       "    </tr>\n",
       "    <tr>\n",
       "      <th>2</th>\n",
       "      <td>YAL005C</td>\n",
       "      <td>SSA1</td>\n",
       "      <td>SSA1</td>\n",
       "      <td>U</td>\n",
       "      <td>-1.223968</td>\n",
       "      <td>-0.898407</td>\n",
       "      <td>-0.490983</td>\n",
       "      <td>-0.038527</td>\n",
       "      <td>0.104799</td>\n",
       "      <td>-0.121057</td>\n",
       "      <td>...</td>\n",
       "      <td>NaN</td>\n",
       "      <td>NaN</td>\n",
       "      <td>NaN</td>\n",
       "      <td>NaN</td>\n",
       "      <td>NaN</td>\n",
       "      <td>NaN</td>\n",
       "      <td>NaN</td>\n",
       "      <td>NaN</td>\n",
       "      <td>NaN</td>\n",
       "      <td>NaN</td>\n",
       "    </tr>\n",
       "    <tr>\n",
       "      <th>3</th>\n",
       "      <td>YAL007C</td>\n",
       "      <td>ERP2</td>\n",
       "      <td>ERP2</td>\n",
       "      <td>U</td>\n",
       "      <td>-0.461506</td>\n",
       "      <td>0.450762</td>\n",
       "      <td>-0.414188</td>\n",
       "      <td>-0.036244</td>\n",
       "      <td>0.228332</td>\n",
       "      <td>0.136455</td>\n",
       "      <td>...</td>\n",
       "      <td>NaN</td>\n",
       "      <td>NaN</td>\n",
       "      <td>NaN</td>\n",
       "      <td>NaN</td>\n",
       "      <td>NaN</td>\n",
       "      <td>NaN</td>\n",
       "      <td>NaN</td>\n",
       "      <td>NaN</td>\n",
       "      <td>NaN</td>\n",
       "      <td>NaN</td>\n",
       "    </tr>\n",
       "    <tr>\n",
       "      <th>4</th>\n",
       "      <td>YAL008W</td>\n",
       "      <td>FUN14</td>\n",
       "      <td>FUN14</td>\n",
       "      <td>U</td>\n",
       "      <td>0.747904</td>\n",
       "      <td>-0.190254</td>\n",
       "      <td>-0.250540</td>\n",
       "      <td>-0.057264</td>\n",
       "      <td>-0.107475</td>\n",
       "      <td>-0.658144</td>\n",
       "      <td>...</td>\n",
       "      <td>NaN</td>\n",
       "      <td>NaN</td>\n",
       "      <td>NaN</td>\n",
       "      <td>NaN</td>\n",
       "      <td>NaN</td>\n",
       "      <td>NaN</td>\n",
       "      <td>NaN</td>\n",
       "      <td>NaN</td>\n",
       "      <td>NaN</td>\n",
       "      <td>NaN</td>\n",
       "    </tr>\n",
       "  </tbody>\n",
       "</table>\n",
       "<p>5 rows × 27 columns</p>\n",
       "</div>"
      ],
      "text/plain": [
       "      Gene   Name       ID Tag      2vs1      4vs1      6vs1      8vs1  \\\n",
       "0  YAL002W   VPS8     VPS8   U -0.841049 -7.689850 -0.141234  1.259199   \n",
       "1  YAL004W      0  YAL004W   U -0.294741 -1.022835  0.049940  0.165930   \n",
       "2  YAL005C   SSA1     SSA1   U -1.223968 -0.898407 -0.490983 -0.038527   \n",
       "3  YAL007C   ERP2     ERP2   U -0.461506  0.450762 -0.414188 -0.036244   \n",
       "4  YAL008W  FUN14    FUN14   U  0.747904 -0.190254 -0.250540 -0.057264   \n",
       "\n",
       "      10vs1     14vs1  ...  Unnamed: 17  Unnamed: 18  Unnamed: 19  \\\n",
       "0 -1.013566  0.640347  ...          NaN          NaN          NaN   \n",
       "1 -0.076213 -0.115223  ...          NaN          NaN          NaN   \n",
       "2  0.104799 -0.121057  ...          NaN          NaN          NaN   \n",
       "3  0.228332  0.136455  ...          NaN          NaN          NaN   \n",
       "4 -0.107475 -0.658144  ...          NaN          NaN          NaN   \n",
       "\n",
       "   Unnamed: 20  Unnamed: 21  Unnamed: 22  Unnamed: 23  Unnamed: 24  \\\n",
       "0          NaN          NaN          NaN          NaN          NaN   \n",
       "1          NaN          NaN          NaN          NaN          NaN   \n",
       "2          NaN          NaN          NaN          NaN          NaN   \n",
       "3          NaN          NaN          NaN          NaN          NaN   \n",
       "4          NaN          NaN          NaN          NaN          NaN   \n",
       "\n",
       "  Unnamed: 25 Unnamed: 26  \n",
       "0         NaN         NaN  \n",
       "1         NaN         NaN  \n",
       "2         NaN         NaN  \n",
       "3         NaN         NaN  \n",
       "4         NaN         NaN  \n",
       "\n",
       "[5 rows x 27 columns]"
      ]
     },
     "execution_count": 14,
     "metadata": {},
     "output_type": "execute_result"
    }
   ],
   "source": [
    "original_data.head()"
   ]
  },
  {
   "cell_type": "code",
   "execution_count": 15,
   "metadata": {},
   "outputs": [],
   "source": [
    "original_data['orf'] = original_data['Gene'].astype(str)"
   ]
  },
  {
   "cell_type": "code",
   "execution_count": 16,
   "metadata": {},
   "outputs": [],
   "source": [
    "# Eliminate all white spaces & capitalize\n",
    "original_data['orf'] = clean_orf(original_data['orf'])"
   ]
  },
  {
   "cell_type": "code",
   "execution_count": 17,
   "metadata": {},
   "outputs": [],
   "source": [
    "# Translate to ORFs \n",
    "original_data['orf'] = translate_sc(original_data['orf'], to='orf')"
   ]
  },
  {
   "cell_type": "code",
   "execution_count": 18,
   "metadata": {},
   "outputs": [
    {
     "name": "stdout",
     "output_type": "stream",
     "text": [
      "Empty DataFrame\n",
      "Columns: [Gene, Name, ID, Tag, 2vs1, 4vs1, 6vs1, 8vs1, 10vs1, 14vs1, Unnamed: 10, Unnamed: 11, Unnamed: 12, Unnamed: 13, Unnamed: 14, Unnamed: 15, Unnamed: 16, Unnamed: 17, Unnamed: 18, Unnamed: 19, Unnamed: 20, Unnamed: 21, Unnamed: 22, Unnamed: 23, Unnamed: 24, Unnamed: 25, Unnamed: 26, orf]\n",
      "Index: []\n",
      "\n",
      "[0 rows x 28 columns]\n"
     ]
    }
   ],
   "source": [
    "# Make sure everything translated ok\n",
    "t = looks_like_orf(original_data['orf'])\n",
    "print(original_data.loc[~t,])"
   ]
  },
  {
   "cell_type": "code",
   "execution_count": 19,
   "metadata": {},
   "outputs": [],
   "source": [
    "original_data.set_index('orf', inplace=True)"
   ]
  },
  {
   "cell_type": "code",
   "execution_count": 20,
   "metadata": {},
   "outputs": [],
   "source": [
    "original_data = original_data[['2vs1','4vs1','6vs1','8vs1','10vs1','14vs1']].copy()"
   ]
  },
  {
   "cell_type": "code",
   "execution_count": 21,
   "metadata": {},
   "outputs": [],
   "source": [
    "original_data = original_data.groupby(original_data.index).mean()"
   ]
  },
  {
   "cell_type": "code",
   "execution_count": 22,
   "metadata": {},
   "outputs": [
    {
     "data": {
      "text/plain": [
       "(3713, 6)"
      ]
     },
     "execution_count": 22,
     "metadata": {},
     "output_type": "execute_result"
    }
   ],
   "source": [
    "original_data.shape"
   ]
  },
  {
   "cell_type": "markdown",
   "metadata": {},
   "source": [
    "# Load Het data"
   ]
  },
  {
   "cell_type": "code",
   "execution_count": 26,
   "metadata": {},
   "outputs": [],
   "source": [
    "original_data2 = pd.read_excel('raw_data/TableS6.xlsx', sheet_name='Sheet1', skiprows=2)"
   ]
  },
  {
   "cell_type": "code",
   "execution_count": 27,
   "metadata": {},
   "outputs": [
    {
     "name": "stdout",
     "output_type": "stream",
     "text": [
      "Original data dimensions: 9505 x 9\n"
     ]
    }
   ],
   "source": [
    "print('Original data dimensions: %d x %d' % (original_data2.shape))"
   ]
  },
  {
   "cell_type": "code",
   "execution_count": 28,
   "metadata": {},
   "outputs": [
    {
     "data": {
      "text/html": [
       "<div>\n",
       "<style scoped>\n",
       "    .dataframe tbody tr th:only-of-type {\n",
       "        vertical-align: middle;\n",
       "    }\n",
       "\n",
       "    .dataframe tbody tr th {\n",
       "        vertical-align: top;\n",
       "    }\n",
       "\n",
       "    .dataframe thead th {\n",
       "        text-align: right;\n",
       "    }\n",
       "</style>\n",
       "<table border=\"1\" class=\"dataframe\">\n",
       "  <thead>\n",
       "    <tr style=\"text-align: right;\">\n",
       "      <th></th>\n",
       "      <th>ORF</th>\n",
       "      <th>Name</th>\n",
       "      <th>Tag</th>\n",
       "      <th>2vs1</th>\n",
       "      <th>4vs1</th>\n",
       "      <th>6vs1</th>\n",
       "      <th>8vs1</th>\n",
       "      <th>10vs1</th>\n",
       "      <th>14vs1</th>\n",
       "    </tr>\n",
       "  </thead>\n",
       "  <tbody>\n",
       "    <tr>\n",
       "      <th>0</th>\n",
       "      <td>YMR056C</td>\n",
       "      <td>AAC1</td>\n",
       "      <td>D</td>\n",
       "      <td>-0.098519</td>\n",
       "      <td>0.593711</td>\n",
       "      <td>0.501568</td>\n",
       "      <td>-0.548638</td>\n",
       "      <td>0.638022</td>\n",
       "      <td>0.038102</td>\n",
       "    </tr>\n",
       "    <tr>\n",
       "      <th>1</th>\n",
       "      <td>YMR056C</td>\n",
       "      <td>AAC1</td>\n",
       "      <td>U</td>\n",
       "      <td>-0.318029</td>\n",
       "      <td>0.894036</td>\n",
       "      <td>-0.029645</td>\n",
       "      <td>0.053836</td>\n",
       "      <td>0.641215</td>\n",
       "      <td>-0.459805</td>\n",
       "    </tr>\n",
       "    <tr>\n",
       "      <th>2</th>\n",
       "      <td>YBR085W</td>\n",
       "      <td>AAC3</td>\n",
       "      <td>U</td>\n",
       "      <td>-2.453802</td>\n",
       "      <td>-2.110001</td>\n",
       "      <td>-1.039459</td>\n",
       "      <td>-4.673432</td>\n",
       "      <td>-1.725280</td>\n",
       "      <td>-0.720205</td>\n",
       "    </tr>\n",
       "    <tr>\n",
       "      <th>3</th>\n",
       "      <td>YNL331C</td>\n",
       "      <td>AAD14</td>\n",
       "      <td>D</td>\n",
       "      <td>-2.168076</td>\n",
       "      <td>-1.030625</td>\n",
       "      <td>-2.732474</td>\n",
       "      <td>0.981656</td>\n",
       "      <td>-0.385349</td>\n",
       "      <td>1.946294</td>\n",
       "    </tr>\n",
       "    <tr>\n",
       "      <th>4</th>\n",
       "      <td>YCR107W</td>\n",
       "      <td>AAD3</td>\n",
       "      <td>U</td>\n",
       "      <td>-2.334676</td>\n",
       "      <td>2.176522</td>\n",
       "      <td>-2.072614</td>\n",
       "      <td>-3.900493</td>\n",
       "      <td>NaN</td>\n",
       "      <td>NaN</td>\n",
       "    </tr>\n",
       "  </tbody>\n",
       "</table>\n",
       "</div>"
      ],
      "text/plain": [
       "       ORF   Name Tag      2vs1      4vs1      6vs1      8vs1     10vs1  \\\n",
       "0  YMR056C   AAC1   D -0.098519  0.593711  0.501568 -0.548638  0.638022   \n",
       "1  YMR056C   AAC1   U -0.318029  0.894036 -0.029645  0.053836  0.641215   \n",
       "2  YBR085W   AAC3   U -2.453802 -2.110001 -1.039459 -4.673432 -1.725280   \n",
       "3  YNL331C  AAD14   D -2.168076 -1.030625 -2.732474  0.981656 -0.385349   \n",
       "4  YCR107W   AAD3   U -2.334676  2.176522 -2.072614 -3.900493       NaN   \n",
       "\n",
       "      14vs1  \n",
       "0  0.038102  \n",
       "1 -0.459805  \n",
       "2 -0.720205  \n",
       "3  1.946294  \n",
       "4       NaN  "
      ]
     },
     "execution_count": 28,
     "metadata": {},
     "output_type": "execute_result"
    }
   ],
   "source": [
    "original_data2.head()"
   ]
  },
  {
   "cell_type": "code",
   "execution_count": 32,
   "metadata": {},
   "outputs": [],
   "source": [
    "original_data2['orf'] = original_data2['ORF'].astype(str)"
   ]
  },
  {
   "cell_type": "code",
   "execution_count": 33,
   "metadata": {},
   "outputs": [],
   "source": [
    "# Eliminate all white spaces & capitalize\n",
    "original_data2['orf'] = clean_orf(original_data2['orf'])"
   ]
  },
  {
   "cell_type": "code",
   "execution_count": 34,
   "metadata": {},
   "outputs": [],
   "source": [
    "# Translate to ORFs \n",
    "original_data2['orf'] = translate_sc(original_data2['orf'], to='orf')"
   ]
  },
  {
   "cell_type": "code",
   "execution_count": 35,
   "metadata": {},
   "outputs": [
    {
     "name": "stdout",
     "output_type": "stream",
     "text": [
      "Empty DataFrame\n",
      "Columns: [ORF, Name, Tag, 2vs1, 4vs1, 6vs1, 8vs1, 10vs1, 14vs1, orf]\n",
      "Index: []\n"
     ]
    }
   ],
   "source": [
    "# Make sure everything translated ok\n",
    "t = looks_like_orf(original_data2['orf'])\n",
    "print(original_data2.loc[~t,])"
   ]
  },
  {
   "cell_type": "code",
   "execution_count": 36,
   "metadata": {},
   "outputs": [],
   "source": [
    "original_data2.set_index('orf', inplace=True)"
   ]
  },
  {
   "cell_type": "code",
   "execution_count": 37,
   "metadata": {},
   "outputs": [],
   "source": [
    "original_data2 = original_data2[['2vs1','4vs1','6vs1','8vs1','10vs1','14vs1']].copy()"
   ]
  },
  {
   "cell_type": "code",
   "execution_count": 38,
   "metadata": {},
   "outputs": [],
   "source": [
    "original_data2 = original_data2.groupby(original_data2.index).mean()"
   ]
  },
  {
   "cell_type": "code",
   "execution_count": 39,
   "metadata": {},
   "outputs": [
    {
     "data": {
      "text/plain": [
       "(5446, 6)"
      ]
     },
     "execution_count": 39,
     "metadata": {},
     "output_type": "execute_result"
    }
   ],
   "source": [
    "original_data2.shape"
   ]
  },
  {
   "cell_type": "markdown",
   "metadata": {},
   "source": [
    "# Merge"
   ]
  },
  {
   "cell_type": "code",
   "execution_count": 40,
   "metadata": {},
   "outputs": [],
   "source": [
    "original_data = original_data.join(original_data2, how='outer', lsuffix='_1', rsuffix='_2')"
   ]
  },
  {
   "cell_type": "code",
   "execution_count": 41,
   "metadata": {},
   "outputs": [
    {
     "data": {
      "text/html": [
       "<div>\n",
       "<style scoped>\n",
       "    .dataframe tbody tr th:only-of-type {\n",
       "        vertical-align: middle;\n",
       "    }\n",
       "\n",
       "    .dataframe tbody tr th {\n",
       "        vertical-align: top;\n",
       "    }\n",
       "\n",
       "    .dataframe thead th {\n",
       "        text-align: right;\n",
       "    }\n",
       "</style>\n",
       "<table border=\"1\" class=\"dataframe\">\n",
       "  <thead>\n",
       "    <tr style=\"text-align: right;\">\n",
       "      <th></th>\n",
       "      <th>2vs1_1</th>\n",
       "      <th>4vs1_1</th>\n",
       "      <th>6vs1_1</th>\n",
       "      <th>8vs1_1</th>\n",
       "      <th>10vs1_1</th>\n",
       "      <th>14vs1_1</th>\n",
       "      <th>2vs1_2</th>\n",
       "      <th>4vs1_2</th>\n",
       "      <th>6vs1_2</th>\n",
       "      <th>8vs1_2</th>\n",
       "      <th>10vs1_2</th>\n",
       "      <th>14vs1_2</th>\n",
       "    </tr>\n",
       "    <tr>\n",
       "      <th>orf</th>\n",
       "      <th></th>\n",
       "      <th></th>\n",
       "      <th></th>\n",
       "      <th></th>\n",
       "      <th></th>\n",
       "      <th></th>\n",
       "      <th></th>\n",
       "      <th></th>\n",
       "      <th></th>\n",
       "      <th></th>\n",
       "      <th></th>\n",
       "      <th></th>\n",
       "    </tr>\n",
       "  </thead>\n",
       "  <tbody>\n",
       "    <tr>\n",
       "      <th>YAL001C</th>\n",
       "      <td>NaN</td>\n",
       "      <td>NaN</td>\n",
       "      <td>NaN</td>\n",
       "      <td>NaN</td>\n",
       "      <td>NaN</td>\n",
       "      <td>NaN</td>\n",
       "      <td>0.246153</td>\n",
       "      <td>0.024975</td>\n",
       "      <td>-0.368841</td>\n",
       "      <td>-0.133006</td>\n",
       "      <td>0.278983</td>\n",
       "      <td>-0.759745</td>\n",
       "    </tr>\n",
       "    <tr>\n",
       "      <th>YAL002W</th>\n",
       "      <td>-0.841049</td>\n",
       "      <td>-7.689850</td>\n",
       "      <td>-0.141234</td>\n",
       "      <td>1.259199</td>\n",
       "      <td>-1.013566</td>\n",
       "      <td>0.640347</td>\n",
       "      <td>0.996179</td>\n",
       "      <td>-0.877163</td>\n",
       "      <td>-0.871235</td>\n",
       "      <td>0.065126</td>\n",
       "      <td>1.713675</td>\n",
       "      <td>2.705321</td>\n",
       "    </tr>\n",
       "    <tr>\n",
       "      <th>YAL003W</th>\n",
       "      <td>NaN</td>\n",
       "      <td>NaN</td>\n",
       "      <td>NaN</td>\n",
       "      <td>NaN</td>\n",
       "      <td>NaN</td>\n",
       "      <td>NaN</td>\n",
       "      <td>-1.331451</td>\n",
       "      <td>1.142709</td>\n",
       "      <td>-0.122686</td>\n",
       "      <td>1.462129</td>\n",
       "      <td>0.224788</td>\n",
       "      <td>-0.668123</td>\n",
       "    </tr>\n",
       "    <tr>\n",
       "      <th>YAL004W</th>\n",
       "      <td>-0.294741</td>\n",
       "      <td>-1.022835</td>\n",
       "      <td>0.049940</td>\n",
       "      <td>0.165930</td>\n",
       "      <td>-0.076213</td>\n",
       "      <td>-0.115223</td>\n",
       "      <td>0.546199</td>\n",
       "      <td>-0.418754</td>\n",
       "      <td>0.175109</td>\n",
       "      <td>-0.443581</td>\n",
       "      <td>-0.157899</td>\n",
       "      <td>0.538201</td>\n",
       "    </tr>\n",
       "    <tr>\n",
       "      <th>YAL005C</th>\n",
       "      <td>-1.223968</td>\n",
       "      <td>-0.898407</td>\n",
       "      <td>-0.490983</td>\n",
       "      <td>-0.038527</td>\n",
       "      <td>0.104799</td>\n",
       "      <td>-0.121057</td>\n",
       "      <td>-0.346914</td>\n",
       "      <td>-0.340998</td>\n",
       "      <td>0.615853</td>\n",
       "      <td>-2.484278</td>\n",
       "      <td>-0.764022</td>\n",
       "      <td>-0.683653</td>\n",
       "    </tr>\n",
       "  </tbody>\n",
       "</table>\n",
       "</div>"
      ],
      "text/plain": [
       "           2vs1_1    4vs1_1    6vs1_1    8vs1_1   10vs1_1   14vs1_1    2vs1_2  \\\n",
       "orf                                                                             \n",
       "YAL001C       NaN       NaN       NaN       NaN       NaN       NaN  0.246153   \n",
       "YAL002W -0.841049 -7.689850 -0.141234  1.259199 -1.013566  0.640347  0.996179   \n",
       "YAL003W       NaN       NaN       NaN       NaN       NaN       NaN -1.331451   \n",
       "YAL004W -0.294741 -1.022835  0.049940  0.165930 -0.076213 -0.115223  0.546199   \n",
       "YAL005C -1.223968 -0.898407 -0.490983 -0.038527  0.104799 -0.121057 -0.346914   \n",
       "\n",
       "           4vs1_2    6vs1_2    8vs1_2   10vs1_2   14vs1_2  \n",
       "orf                                                        \n",
       "YAL001C  0.024975 -0.368841 -0.133006  0.278983 -0.759745  \n",
       "YAL002W -0.877163 -0.871235  0.065126  1.713675  2.705321  \n",
       "YAL003W  1.142709 -0.122686  1.462129  0.224788 -0.668123  \n",
       "YAL004W -0.418754  0.175109 -0.443581 -0.157899  0.538201  \n",
       "YAL005C -0.340998  0.615853 -2.484278 -0.764022 -0.683653  "
      ]
     },
     "execution_count": 41,
     "metadata": {},
     "output_type": "execute_result"
    }
   ],
   "source": [
    "original_data.head()"
   ]
  },
  {
   "cell_type": "code",
   "execution_count": 42,
   "metadata": {},
   "outputs": [
    {
     "data": {
      "text/plain": [
       "(5672, 12)"
      ]
     },
     "execution_count": 42,
     "metadata": {},
     "output_type": "execute_result"
    }
   ],
   "source": [
    "original_data.shape"
   ]
  },
  {
   "cell_type": "markdown",
   "metadata": {},
   "source": [
    "# Prepare the final dataset"
   ]
  },
  {
   "cell_type": "code",
   "execution_count": 43,
   "metadata": {},
   "outputs": [],
   "source": [
    "data = original_data.copy()"
   ]
  },
  {
   "cell_type": "code",
   "execution_count": 44,
   "metadata": {},
   "outputs": [],
   "source": [
    "dataset_ids = [11836, 11838, 11839, 11840, 11841, 11842, 11837, 11843, 11844, 11845, 11846, 11847]\n",
    "datasets = datasets.reindex(index=dataset_ids)"
   ]
  },
  {
   "cell_type": "code",
   "execution_count": 45,
   "metadata": {},
   "outputs": [],
   "source": [
    "lst = [datasets.index.values, ['value']*datasets.shape[0]]\n",
    "tuples = list(zip(*lst))\n",
    "idx = pd.MultiIndex.from_tuples(tuples, names=['dataset_id','data_type'])\n",
    "data.columns = idx"
   ]
  },
  {
   "cell_type": "code",
   "execution_count": 46,
   "metadata": {},
   "outputs": [
    {
     "data": {
      "text/html": [
       "<div>\n",
       "<style scoped>\n",
       "    .dataframe tbody tr th:only-of-type {\n",
       "        vertical-align: middle;\n",
       "    }\n",
       "\n",
       "    .dataframe tbody tr th {\n",
       "        vertical-align: top;\n",
       "    }\n",
       "\n",
       "    .dataframe thead tr th {\n",
       "        text-align: left;\n",
       "    }\n",
       "\n",
       "    .dataframe thead tr:last-of-type th {\n",
       "        text-align: right;\n",
       "    }\n",
       "</style>\n",
       "<table border=\"1\" class=\"dataframe\">\n",
       "  <thead>\n",
       "    <tr>\n",
       "      <th>dataset_id</th>\n",
       "      <th>11836</th>\n",
       "      <th>11838</th>\n",
       "      <th>11839</th>\n",
       "      <th>11840</th>\n",
       "      <th>11841</th>\n",
       "      <th>11842</th>\n",
       "      <th>11837</th>\n",
       "      <th>11843</th>\n",
       "      <th>11844</th>\n",
       "      <th>11845</th>\n",
       "      <th>11846</th>\n",
       "      <th>11847</th>\n",
       "    </tr>\n",
       "    <tr>\n",
       "      <th>data_type</th>\n",
       "      <th>value</th>\n",
       "      <th>value</th>\n",
       "      <th>value</th>\n",
       "      <th>value</th>\n",
       "      <th>value</th>\n",
       "      <th>value</th>\n",
       "      <th>value</th>\n",
       "      <th>value</th>\n",
       "      <th>value</th>\n",
       "      <th>value</th>\n",
       "      <th>value</th>\n",
       "      <th>value</th>\n",
       "    </tr>\n",
       "    <tr>\n",
       "      <th>orf</th>\n",
       "      <th></th>\n",
       "      <th></th>\n",
       "      <th></th>\n",
       "      <th></th>\n",
       "      <th></th>\n",
       "      <th></th>\n",
       "      <th></th>\n",
       "      <th></th>\n",
       "      <th></th>\n",
       "      <th></th>\n",
       "      <th></th>\n",
       "      <th></th>\n",
       "    </tr>\n",
       "  </thead>\n",
       "  <tbody>\n",
       "    <tr>\n",
       "      <th>YAL001C</th>\n",
       "      <td>NaN</td>\n",
       "      <td>NaN</td>\n",
       "      <td>NaN</td>\n",
       "      <td>NaN</td>\n",
       "      <td>NaN</td>\n",
       "      <td>NaN</td>\n",
       "      <td>0.246153</td>\n",
       "      <td>0.024975</td>\n",
       "      <td>-0.368841</td>\n",
       "      <td>-0.133006</td>\n",
       "      <td>0.278983</td>\n",
       "      <td>-0.759745</td>\n",
       "    </tr>\n",
       "    <tr>\n",
       "      <th>YAL002W</th>\n",
       "      <td>-0.841049</td>\n",
       "      <td>-7.689850</td>\n",
       "      <td>-0.141234</td>\n",
       "      <td>1.259199</td>\n",
       "      <td>-1.013566</td>\n",
       "      <td>0.640347</td>\n",
       "      <td>0.996179</td>\n",
       "      <td>-0.877163</td>\n",
       "      <td>-0.871235</td>\n",
       "      <td>0.065126</td>\n",
       "      <td>1.713675</td>\n",
       "      <td>2.705321</td>\n",
       "    </tr>\n",
       "    <tr>\n",
       "      <th>YAL003W</th>\n",
       "      <td>NaN</td>\n",
       "      <td>NaN</td>\n",
       "      <td>NaN</td>\n",
       "      <td>NaN</td>\n",
       "      <td>NaN</td>\n",
       "      <td>NaN</td>\n",
       "      <td>-1.331451</td>\n",
       "      <td>1.142709</td>\n",
       "      <td>-0.122686</td>\n",
       "      <td>1.462129</td>\n",
       "      <td>0.224788</td>\n",
       "      <td>-0.668123</td>\n",
       "    </tr>\n",
       "    <tr>\n",
       "      <th>YAL004W</th>\n",
       "      <td>-0.294741</td>\n",
       "      <td>-1.022835</td>\n",
       "      <td>0.049940</td>\n",
       "      <td>0.165930</td>\n",
       "      <td>-0.076213</td>\n",
       "      <td>-0.115223</td>\n",
       "      <td>0.546199</td>\n",
       "      <td>-0.418754</td>\n",
       "      <td>0.175109</td>\n",
       "      <td>-0.443581</td>\n",
       "      <td>-0.157899</td>\n",
       "      <td>0.538201</td>\n",
       "    </tr>\n",
       "    <tr>\n",
       "      <th>YAL005C</th>\n",
       "      <td>-1.223968</td>\n",
       "      <td>-0.898407</td>\n",
       "      <td>-0.490983</td>\n",
       "      <td>-0.038527</td>\n",
       "      <td>0.104799</td>\n",
       "      <td>-0.121057</td>\n",
       "      <td>-0.346914</td>\n",
       "      <td>-0.340998</td>\n",
       "      <td>0.615853</td>\n",
       "      <td>-2.484278</td>\n",
       "      <td>-0.764022</td>\n",
       "      <td>-0.683653</td>\n",
       "    </tr>\n",
       "  </tbody>\n",
       "</table>\n",
       "</div>"
      ],
      "text/plain": [
       "dataset_id     11836     11838     11839     11840     11841     11842  \\\n",
       "data_type      value     value     value     value     value     value   \n",
       "orf                                                                      \n",
       "YAL001C          NaN       NaN       NaN       NaN       NaN       NaN   \n",
       "YAL002W    -0.841049 -7.689850 -0.141234  1.259199 -1.013566  0.640347   \n",
       "YAL003W          NaN       NaN       NaN       NaN       NaN       NaN   \n",
       "YAL004W    -0.294741 -1.022835  0.049940  0.165930 -0.076213 -0.115223   \n",
       "YAL005C    -1.223968 -0.898407 -0.490983 -0.038527  0.104799 -0.121057   \n",
       "\n",
       "dataset_id     11837     11843     11844     11845     11846     11847  \n",
       "data_type      value     value     value     value     value     value  \n",
       "orf                                                                     \n",
       "YAL001C     0.246153  0.024975 -0.368841 -0.133006  0.278983 -0.759745  \n",
       "YAL002W     0.996179 -0.877163 -0.871235  0.065126  1.713675  2.705321  \n",
       "YAL003W    -1.331451  1.142709 -0.122686  1.462129  0.224788 -0.668123  \n",
       "YAL004W     0.546199 -0.418754  0.175109 -0.443581 -0.157899  0.538201  \n",
       "YAL005C    -0.346914 -0.340998  0.615853 -2.484278 -0.764022 -0.683653  "
      ]
     },
     "execution_count": 46,
     "metadata": {},
     "output_type": "execute_result"
    }
   ],
   "source": [
    "data.head()"
   ]
  },
  {
   "cell_type": "markdown",
   "metadata": {},
   "source": [
    "## Subset to the genes currently in SGD"
   ]
  },
  {
   "cell_type": "code",
   "execution_count": 47,
   "metadata": {},
   "outputs": [
    {
     "name": "stdout",
     "output_type": "stream",
     "text": [
      "ORFs missing from SGD: 24\n"
     ]
    }
   ],
   "source": [
    "genes = pd.read_csv(path_to_genes, sep='\\t', index_col='id')\n",
    "genes = genes.reset_index().set_index('systematic_name')\n",
    "gene_ids = genes.reindex(index=data.index.values)['id'].values\n",
    "num_missing = np.sum(np.isnan(gene_ids))\n",
    "print('ORFs missing from SGD: %d' % num_missing)"
   ]
  },
  {
   "cell_type": "code",
   "execution_count": 48,
   "metadata": {},
   "outputs": [
    {
     "data": {
      "text/html": [
       "<div>\n",
       "<style scoped>\n",
       "    .dataframe tbody tr th:only-of-type {\n",
       "        vertical-align: middle;\n",
       "    }\n",
       "\n",
       "    .dataframe tbody tr th {\n",
       "        vertical-align: top;\n",
       "    }\n",
       "\n",
       "    .dataframe thead tr th {\n",
       "        text-align: left;\n",
       "    }\n",
       "\n",
       "    .dataframe thead tr:last-of-type th {\n",
       "        text-align: right;\n",
       "    }\n",
       "</style>\n",
       "<table border=\"1\" class=\"dataframe\">\n",
       "  <thead>\n",
       "    <tr>\n",
       "      <th></th>\n",
       "      <th>dataset_id</th>\n",
       "      <th>11836</th>\n",
       "      <th>11838</th>\n",
       "      <th>11839</th>\n",
       "      <th>11840</th>\n",
       "      <th>11841</th>\n",
       "      <th>11842</th>\n",
       "      <th>11837</th>\n",
       "      <th>11843</th>\n",
       "      <th>11844</th>\n",
       "      <th>11845</th>\n",
       "      <th>11846</th>\n",
       "      <th>11847</th>\n",
       "    </tr>\n",
       "    <tr>\n",
       "      <th></th>\n",
       "      <th>data_type</th>\n",
       "      <th>value</th>\n",
       "      <th>value</th>\n",
       "      <th>value</th>\n",
       "      <th>value</th>\n",
       "      <th>value</th>\n",
       "      <th>value</th>\n",
       "      <th>value</th>\n",
       "      <th>value</th>\n",
       "      <th>value</th>\n",
       "      <th>value</th>\n",
       "      <th>value</th>\n",
       "      <th>value</th>\n",
       "    </tr>\n",
       "    <tr>\n",
       "      <th>gene_id</th>\n",
       "      <th>orf</th>\n",
       "      <th></th>\n",
       "      <th></th>\n",
       "      <th></th>\n",
       "      <th></th>\n",
       "      <th></th>\n",
       "      <th></th>\n",
       "      <th></th>\n",
       "      <th></th>\n",
       "      <th></th>\n",
       "      <th></th>\n",
       "      <th></th>\n",
       "      <th></th>\n",
       "    </tr>\n",
       "  </thead>\n",
       "  <tbody>\n",
       "    <tr>\n",
       "      <th>1</th>\n",
       "      <th>YAL001C</th>\n",
       "      <td>NaN</td>\n",
       "      <td>NaN</td>\n",
       "      <td>NaN</td>\n",
       "      <td>NaN</td>\n",
       "      <td>NaN</td>\n",
       "      <td>NaN</td>\n",
       "      <td>0.246153</td>\n",
       "      <td>0.024975</td>\n",
       "      <td>-0.368841</td>\n",
       "      <td>-0.133006</td>\n",
       "      <td>0.278983</td>\n",
       "      <td>-0.759745</td>\n",
       "    </tr>\n",
       "    <tr>\n",
       "      <th>2</th>\n",
       "      <th>YAL002W</th>\n",
       "      <td>-0.841049</td>\n",
       "      <td>-7.689850</td>\n",
       "      <td>-0.141234</td>\n",
       "      <td>1.259199</td>\n",
       "      <td>-1.013566</td>\n",
       "      <td>0.640347</td>\n",
       "      <td>0.996179</td>\n",
       "      <td>-0.877163</td>\n",
       "      <td>-0.871235</td>\n",
       "      <td>0.065126</td>\n",
       "      <td>1.713675</td>\n",
       "      <td>2.705321</td>\n",
       "    </tr>\n",
       "    <tr>\n",
       "      <th>3</th>\n",
       "      <th>YAL003W</th>\n",
       "      <td>NaN</td>\n",
       "      <td>NaN</td>\n",
       "      <td>NaN</td>\n",
       "      <td>NaN</td>\n",
       "      <td>NaN</td>\n",
       "      <td>NaN</td>\n",
       "      <td>-1.331451</td>\n",
       "      <td>1.142709</td>\n",
       "      <td>-0.122686</td>\n",
       "      <td>1.462129</td>\n",
       "      <td>0.224788</td>\n",
       "      <td>-0.668123</td>\n",
       "    </tr>\n",
       "    <tr>\n",
       "      <th>1863</th>\n",
       "      <th>YAL004W</th>\n",
       "      <td>-0.294741</td>\n",
       "      <td>-1.022835</td>\n",
       "      <td>0.049940</td>\n",
       "      <td>0.165930</td>\n",
       "      <td>-0.076213</td>\n",
       "      <td>-0.115223</td>\n",
       "      <td>0.546199</td>\n",
       "      <td>-0.418754</td>\n",
       "      <td>0.175109</td>\n",
       "      <td>-0.443581</td>\n",
       "      <td>-0.157899</td>\n",
       "      <td>0.538201</td>\n",
       "    </tr>\n",
       "    <tr>\n",
       "      <th>4</th>\n",
       "      <th>YAL005C</th>\n",
       "      <td>-1.223968</td>\n",
       "      <td>-0.898407</td>\n",
       "      <td>-0.490983</td>\n",
       "      <td>-0.038527</td>\n",
       "      <td>0.104799</td>\n",
       "      <td>-0.121057</td>\n",
       "      <td>-0.346914</td>\n",
       "      <td>-0.340998</td>\n",
       "      <td>0.615853</td>\n",
       "      <td>-2.484278</td>\n",
       "      <td>-0.764022</td>\n",
       "      <td>-0.683653</td>\n",
       "    </tr>\n",
       "  </tbody>\n",
       "</table>\n",
       "</div>"
      ],
      "text/plain": [
       "dataset_id          11836     11838     11839     11840     11841     11842  \\\n",
       "data_type           value     value     value     value     value     value   \n",
       "gene_id orf                                                                   \n",
       "1       YAL001C       NaN       NaN       NaN       NaN       NaN       NaN   \n",
       "2       YAL002W -0.841049 -7.689850 -0.141234  1.259199 -1.013566  0.640347   \n",
       "3       YAL003W       NaN       NaN       NaN       NaN       NaN       NaN   \n",
       "1863    YAL004W -0.294741 -1.022835  0.049940  0.165930 -0.076213 -0.115223   \n",
       "4       YAL005C -1.223968 -0.898407 -0.490983 -0.038527  0.104799 -0.121057   \n",
       "\n",
       "dataset_id          11837     11843     11844     11845     11846     11847  \n",
       "data_type           value     value     value     value     value     value  \n",
       "gene_id orf                                                                  \n",
       "1       YAL001C  0.246153  0.024975 -0.368841 -0.133006  0.278983 -0.759745  \n",
       "2       YAL002W  0.996179 -0.877163 -0.871235  0.065126  1.713675  2.705321  \n",
       "3       YAL003W -1.331451  1.142709 -0.122686  1.462129  0.224788 -0.668123  \n",
       "1863    YAL004W  0.546199 -0.418754  0.175109 -0.443581 -0.157899  0.538201  \n",
       "4       YAL005C -0.346914 -0.340998  0.615853 -2.484278 -0.764022 -0.683653  "
      ]
     },
     "execution_count": 48,
     "metadata": {},
     "output_type": "execute_result"
    }
   ],
   "source": [
    "data['gene_id'] = gene_ids\n",
    "data = data.loc[data['gene_id'].notnull()]\n",
    "data['gene_id'] = data['gene_id'].astype(int)\n",
    "data = data.reset_index().set_index(['gene_id','orf'])\n",
    "\n",
    "data.head()"
   ]
  },
  {
   "cell_type": "markdown",
   "metadata": {},
   "source": [
    "# Normalize"
   ]
  },
  {
   "cell_type": "code",
   "execution_count": 49,
   "metadata": {},
   "outputs": [],
   "source": [
    "data_norm = normalize_phenotypic_scores(data, has_tested=True)"
   ]
  },
  {
   "cell_type": "code",
   "execution_count": 50,
   "metadata": {},
   "outputs": [],
   "source": [
    "# Assign proper column names\n",
    "lst = [datasets.index.values, ['valuez']*datasets.shape[0]]\n",
    "tuples = list(zip(*lst))\n",
    "idx = pd.MultiIndex.from_tuples(tuples, names=['dataset_id','data_type'])\n",
    "data_norm.columns = idx"
   ]
  },
  {
   "cell_type": "code",
   "execution_count": 51,
   "metadata": {},
   "outputs": [
    {
     "data": {
      "text/html": [
       "<div>\n",
       "<style scoped>\n",
       "    .dataframe tbody tr th:only-of-type {\n",
       "        vertical-align: middle;\n",
       "    }\n",
       "\n",
       "    .dataframe tbody tr th {\n",
       "        vertical-align: top;\n",
       "    }\n",
       "\n",
       "    .dataframe thead tr th {\n",
       "        text-align: left;\n",
       "    }\n",
       "\n",
       "    .dataframe thead tr:last-of-type th {\n",
       "        text-align: right;\n",
       "    }\n",
       "</style>\n",
       "<table border=\"1\" class=\"dataframe\">\n",
       "  <thead>\n",
       "    <tr>\n",
       "      <th></th>\n",
       "      <th>dataset_id</th>\n",
       "      <th>11836</th>\n",
       "      <th>11838</th>\n",
       "      <th>11839</th>\n",
       "      <th>11840</th>\n",
       "      <th>11841</th>\n",
       "      <th>11842</th>\n",
       "      <th>11837</th>\n",
       "      <th>11843</th>\n",
       "      <th>11844</th>\n",
       "      <th>11845</th>\n",
       "      <th>...</th>\n",
       "      <th>11839</th>\n",
       "      <th>11840</th>\n",
       "      <th>11841</th>\n",
       "      <th>11842</th>\n",
       "      <th>11837</th>\n",
       "      <th>11843</th>\n",
       "      <th>11844</th>\n",
       "      <th>11845</th>\n",
       "      <th>11846</th>\n",
       "      <th>11847</th>\n",
       "    </tr>\n",
       "    <tr>\n",
       "      <th></th>\n",
       "      <th>data_type</th>\n",
       "      <th>value</th>\n",
       "      <th>value</th>\n",
       "      <th>value</th>\n",
       "      <th>value</th>\n",
       "      <th>value</th>\n",
       "      <th>value</th>\n",
       "      <th>value</th>\n",
       "      <th>value</th>\n",
       "      <th>value</th>\n",
       "      <th>value</th>\n",
       "      <th>...</th>\n",
       "      <th>valuez</th>\n",
       "      <th>valuez</th>\n",
       "      <th>valuez</th>\n",
       "      <th>valuez</th>\n",
       "      <th>valuez</th>\n",
       "      <th>valuez</th>\n",
       "      <th>valuez</th>\n",
       "      <th>valuez</th>\n",
       "      <th>valuez</th>\n",
       "      <th>valuez</th>\n",
       "    </tr>\n",
       "    <tr>\n",
       "      <th>gene_id</th>\n",
       "      <th>orf</th>\n",
       "      <th></th>\n",
       "      <th></th>\n",
       "      <th></th>\n",
       "      <th></th>\n",
       "      <th></th>\n",
       "      <th></th>\n",
       "      <th></th>\n",
       "      <th></th>\n",
       "      <th></th>\n",
       "      <th></th>\n",
       "      <th></th>\n",
       "      <th></th>\n",
       "      <th></th>\n",
       "      <th></th>\n",
       "      <th></th>\n",
       "      <th></th>\n",
       "      <th></th>\n",
       "      <th></th>\n",
       "      <th></th>\n",
       "      <th></th>\n",
       "      <th></th>\n",
       "    </tr>\n",
       "  </thead>\n",
       "  <tbody>\n",
       "    <tr>\n",
       "      <th>1</th>\n",
       "      <th>YAL001C</th>\n",
       "      <td>NaN</td>\n",
       "      <td>NaN</td>\n",
       "      <td>NaN</td>\n",
       "      <td>NaN</td>\n",
       "      <td>NaN</td>\n",
       "      <td>NaN</td>\n",
       "      <td>0.246153</td>\n",
       "      <td>0.024975</td>\n",
       "      <td>-0.368841</td>\n",
       "      <td>-0.133006</td>\n",
       "      <td>...</td>\n",
       "      <td>NaN</td>\n",
       "      <td>NaN</td>\n",
       "      <td>NaN</td>\n",
       "      <td>NaN</td>\n",
       "      <td>0.316843</td>\n",
       "      <td>0.011792</td>\n",
       "      <td>-0.347664</td>\n",
       "      <td>-0.041522</td>\n",
       "      <td>0.369486</td>\n",
       "      <td>-0.838583</td>\n",
       "    </tr>\n",
       "    <tr>\n",
       "      <th>2</th>\n",
       "      <th>YAL002W</th>\n",
       "      <td>-0.841049</td>\n",
       "      <td>-7.689850</td>\n",
       "      <td>-0.141234</td>\n",
       "      <td>1.259199</td>\n",
       "      <td>-1.013566</td>\n",
       "      <td>0.640347</td>\n",
       "      <td>0.996179</td>\n",
       "      <td>-0.877163</td>\n",
       "      <td>-0.871235</td>\n",
       "      <td>0.065126</td>\n",
       "      <td>...</td>\n",
       "      <td>-0.177743</td>\n",
       "      <td>1.149992</td>\n",
       "      <td>-1.126047</td>\n",
       "      <td>0.574124</td>\n",
       "      <td>1.196978</td>\n",
       "      <td>-1.024149</td>\n",
       "      <td>-0.941540</td>\n",
       "      <td>0.191383</td>\n",
       "      <td>2.053873</td>\n",
       "      <td>3.254771</td>\n",
       "    </tr>\n",
       "    <tr>\n",
       "      <th>3</th>\n",
       "      <th>YAL003W</th>\n",
       "      <td>NaN</td>\n",
       "      <td>NaN</td>\n",
       "      <td>NaN</td>\n",
       "      <td>NaN</td>\n",
       "      <td>NaN</td>\n",
       "      <td>NaN</td>\n",
       "      <td>-1.331451</td>\n",
       "      <td>1.142709</td>\n",
       "      <td>-0.122686</td>\n",
       "      <td>1.462129</td>\n",
       "      <td>...</td>\n",
       "      <td>NaN</td>\n",
       "      <td>NaN</td>\n",
       "      <td>NaN</td>\n",
       "      <td>NaN</td>\n",
       "      <td>-1.534433</td>\n",
       "      <td>1.295306</td>\n",
       "      <td>-0.056686</td>\n",
       "      <td>1.833567</td>\n",
       "      <td>0.305858</td>\n",
       "      <td>-0.730348</td>\n",
       "    </tr>\n",
       "    <tr>\n",
       "      <th>1863</th>\n",
       "      <th>YAL004W</th>\n",
       "      <td>-0.294741</td>\n",
       "      <td>-1.022835</td>\n",
       "      <td>0.049940</td>\n",
       "      <td>0.165930</td>\n",
       "      <td>-0.076213</td>\n",
       "      <td>-0.115223</td>\n",
       "      <td>0.546199</td>\n",
       "      <td>-0.418754</td>\n",
       "      <td>0.175109</td>\n",
       "      <td>-0.443581</td>\n",
       "      <td>...</td>\n",
       "      <td>0.032735</td>\n",
       "      <td>0.033620</td>\n",
       "      <td>-0.152013</td>\n",
       "      <td>-0.233972</td>\n",
       "      <td>0.668939</td>\n",
       "      <td>-0.497750</td>\n",
       "      <td>0.295336</td>\n",
       "      <td>-0.406605</td>\n",
       "      <td>-0.143432</td>\n",
       "      <td>0.694707</td>\n",
       "    </tr>\n",
       "    <tr>\n",
       "      <th>4</th>\n",
       "      <th>YAL005C</th>\n",
       "      <td>-1.223968</td>\n",
       "      <td>-0.898407</td>\n",
       "      <td>-0.490983</td>\n",
       "      <td>-0.038527</td>\n",
       "      <td>0.104799</td>\n",
       "      <td>-0.121057</td>\n",
       "      <td>-0.346914</td>\n",
       "      <td>-0.340998</td>\n",
       "      <td>0.615853</td>\n",
       "      <td>-2.484278</td>\n",
       "      <td>...</td>\n",
       "      <td>-0.562809</td>\n",
       "      <td>-0.175157</td>\n",
       "      <td>0.036082</td>\n",
       "      <td>-0.240212</td>\n",
       "      <td>-0.379105</td>\n",
       "      <td>-0.408462</td>\n",
       "      <td>0.816336</td>\n",
       "      <td>-2.805456</td>\n",
       "      <td>-0.855046</td>\n",
       "      <td>-0.748695</td>\n",
       "    </tr>\n",
       "  </tbody>\n",
       "</table>\n",
       "<p>5 rows × 24 columns</p>\n",
       "</div>"
      ],
      "text/plain": [
       "dataset_id          11836     11838     11839     11840     11841     11842  \\\n",
       "data_type           value     value     value     value     value     value   \n",
       "gene_id orf                                                                   \n",
       "1       YAL001C       NaN       NaN       NaN       NaN       NaN       NaN   \n",
       "2       YAL002W -0.841049 -7.689850 -0.141234  1.259199 -1.013566  0.640347   \n",
       "3       YAL003W       NaN       NaN       NaN       NaN       NaN       NaN   \n",
       "1863    YAL004W -0.294741 -1.022835  0.049940  0.165930 -0.076213 -0.115223   \n",
       "4       YAL005C -1.223968 -0.898407 -0.490983 -0.038527  0.104799 -0.121057   \n",
       "\n",
       "dataset_id          11837     11843     11844     11845  ...     11839  \\\n",
       "data_type           value     value     value     value  ...    valuez   \n",
       "gene_id orf                                              ...             \n",
       "1       YAL001C  0.246153  0.024975 -0.368841 -0.133006  ...       NaN   \n",
       "2       YAL002W  0.996179 -0.877163 -0.871235  0.065126  ... -0.177743   \n",
       "3       YAL003W -1.331451  1.142709 -0.122686  1.462129  ...       NaN   \n",
       "1863    YAL004W  0.546199 -0.418754  0.175109 -0.443581  ...  0.032735   \n",
       "4       YAL005C -0.346914 -0.340998  0.615853 -2.484278  ... -0.562809   \n",
       "\n",
       "dataset_id          11840     11841     11842     11837     11843     11844  \\\n",
       "data_type          valuez    valuez    valuez    valuez    valuez    valuez   \n",
       "gene_id orf                                                                   \n",
       "1       YAL001C       NaN       NaN       NaN  0.316843  0.011792 -0.347664   \n",
       "2       YAL002W  1.149992 -1.126047  0.574124  1.196978 -1.024149 -0.941540   \n",
       "3       YAL003W       NaN       NaN       NaN -1.534433  1.295306 -0.056686   \n",
       "1863    YAL004W  0.033620 -0.152013 -0.233972  0.668939 -0.497750  0.295336   \n",
       "4       YAL005C -0.175157  0.036082 -0.240212 -0.379105 -0.408462  0.816336   \n",
       "\n",
       "dataset_id          11845     11846     11847  \n",
       "data_type          valuez    valuez    valuez  \n",
       "gene_id orf                                    \n",
       "1       YAL001C -0.041522  0.369486 -0.838583  \n",
       "2       YAL002W  0.191383  2.053873  3.254771  \n",
       "3       YAL003W  1.833567  0.305858 -0.730348  \n",
       "1863    YAL004W -0.406605 -0.143432  0.694707  \n",
       "4       YAL005C -2.805456 -0.855046 -0.748695  \n",
       "\n",
       "[5 rows x 24 columns]"
      ]
     },
     "execution_count": 51,
     "metadata": {},
     "output_type": "execute_result"
    }
   ],
   "source": [
    "data_norm[data.isnull()] = np.nan\n",
    "data_all = data.join(data_norm)\n",
    "\n",
    "data_all.head()"
   ]
  },
  {
   "cell_type": "markdown",
   "metadata": {},
   "source": [
    "# Print out"
   ]
  },
  {
   "cell_type": "code",
   "execution_count": 52,
   "metadata": {},
   "outputs": [],
   "source": [
    "for f in ['value','valuez']:\n",
    "    df = data_all.xs(f, level='data_type', axis=1).copy()\n",
    "    df.columns = datasets['name'].values\n",
    "    df = df.droplevel('gene_id', axis=0)\n",
    "    df.to_csv(paper_name + '_' + f + '.txt', sep='\\t')"
   ]
  },
  {
   "cell_type": "markdown",
   "metadata": {},
   "source": [
    "# Save to DB"
   ]
  },
  {
   "cell_type": "code",
   "execution_count": 53,
   "metadata": {},
   "outputs": [],
   "source": [
    "from IO.save_data_to_db3 import *"
   ]
  },
  {
   "cell_type": "code",
   "execution_count": 54,
   "metadata": {},
   "outputs": [
    {
     "name": "stdout",
     "output_type": "stream",
     "text": [
      "Deleting all datasets for PMID 22384346...\n"
     ]
    },
    {
     "name": "stderr",
     "output_type": "stream",
     "text": [
      "  0%|          | 0/12 [00:00<?, ?it/s]"
     ]
    },
    {
     "name": "stdout",
     "output_type": "stream",
     "text": [
      "Inserting the new data...\n"
     ]
    },
    {
     "name": "stderr",
     "output_type": "stream",
     "text": [
      "100%|██████████| 12/12 [01:47<00:00,  9.00s/it]"
     ]
    },
    {
     "name": "stdout",
     "output_type": "stream",
     "text": [
      "Updating the data_modified_on field...\n"
     ]
    },
    {
     "name": "stderr",
     "output_type": "stream",
     "text": [
      "\n"
     ]
    }
   ],
   "source": [
    "save_data_to_db(data_all, paper_pmid)"
   ]
  },
  {
   "cell_type": "code",
   "execution_count": null,
   "metadata": {},
   "outputs": [],
   "source": []
  }
 ],
 "metadata": {
  "kernelspec": {
   "display_name": "yp-data",
   "language": "python",
   "name": "yp-data"
  },
  "language_info": {
   "codemirror_mode": {
    "name": "ipython",
    "version": 3
   },
   "file_extension": ".py",
   "mimetype": "text/x-python",
   "name": "python",
   "nbconvert_exporter": "python",
   "pygments_lexer": "ipython3",
   "version": "3.7.7"
  }
 },
 "nbformat": 4,
 "nbformat_minor": 4
}
