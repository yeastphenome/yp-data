{
 "cells": [
  {
   "cell_type": "code",
   "execution_count": 1,
   "metadata": {},
   "outputs": [],
   "source": [
    "%run ../yp_utils.py"
   ]
  },
  {
   "cell_type": "markdown",
   "metadata": {},
   "source": [
    "# Initial setup"
   ]
  },
  {
   "cell_type": "code",
   "execution_count": 2,
   "metadata": {},
   "outputs": [],
   "source": [
    "paper_pmid = 27711131\n",
    "paper_name = 'jakubkova_tomaska_2016' "
   ]
  },
  {
   "cell_type": "code",
   "execution_count": 3,
   "metadata": {},
   "outputs": [],
   "source": [
    "datasets = pd.read_csv('extras/YeastPhenome_' + str(paper_pmid) + '_datasets_list.txt', sep='\\t', header=None, names=['dataset_id', 'name'])"
   ]
  },
  {
   "cell_type": "code",
   "execution_count": 4,
   "metadata": {},
   "outputs": [],
   "source": [
    "datasets.set_index('dataset_id', inplace=True)"
   ]
  },
  {
   "cell_type": "markdown",
   "metadata": {},
   "source": [
    "# Load & process the data"
   ]
  },
  {
   "cell_type": "code",
   "execution_count": 7,
   "metadata": {},
   "outputs": [],
   "source": [
    "original_data = pd.read_excel('raw_data/journal.pone.0164175.s006.xlsx', sheet_name='Tab S2', skiprows=1)"
   ]
  },
  {
   "cell_type": "code",
   "execution_count": 8,
   "metadata": {},
   "outputs": [
    {
     "name": "stdout",
     "output_type": "stream",
     "text": [
      "Original data dimensions: 130 x 10\n"
     ]
    }
   ],
   "source": [
    "print('Original data dimensions: %d x %d' % (original_data.shape))"
   ]
  },
  {
   "cell_type": "code",
   "execution_count": 9,
   "metadata": {},
   "outputs": [
    {
     "data": {
      "text/html": [
       "<div>\n",
       "<style scoped>\n",
       "    .dataframe tbody tr th:only-of-type {\n",
       "        vertical-align: middle;\n",
       "    }\n",
       "\n",
       "    .dataframe tbody tr th {\n",
       "        vertical-align: top;\n",
       "    }\n",
       "\n",
       "    .dataframe thead th {\n",
       "        text-align: right;\n",
       "    }\n",
       "</style>\n",
       "<table border=\"1\" class=\"dataframe\">\n",
       "  <thead>\n",
       "    <tr style=\"text-align: right;\">\n",
       "      <th></th>\n",
       "      <th>ORF</th>\n",
       "      <th>standard name</th>\n",
       "      <th>phenotype of the deletant on Val/Nig</th>\n",
       "      <th>localization of the protein</th>\n",
       "      <th>biological process</th>\n",
       "      <th>molecular function / description</th>\n",
       "      <th>some of the GO anotations</th>\n",
       "      <th>* depicts mutants with \"stabile ionophore phenotype\"</th>\n",
       "      <th>Unnamed: 8</th>\n",
       "      <th>Unnamed: 9</th>\n",
       "    </tr>\n",
       "  </thead>\n",
       "  <tbody>\n",
       "    <tr>\n",
       "      <th>0</th>\n",
       "      <td>YBL025W</td>\n",
       "      <td>RRN10</td>\n",
       "      <td>Nig hypersensitive</td>\n",
       "      <td>nucleus</td>\n",
       "      <td>regulation of expression</td>\n",
       "      <td>subunit of upstream activation factor for RNA ...</td>\n",
       "      <td>decreased resistance to ethanol, decreased oxi...</td>\n",
       "      <td>*</td>\n",
       "      <td>NaN</td>\n",
       "      <td>NaN</td>\n",
       "    </tr>\n",
       "    <tr>\n",
       "      <th>1</th>\n",
       "      <td>YBL094C</td>\n",
       "      <td>-</td>\n",
       "      <td>Nig hypersensitive</td>\n",
       "      <td>u</td>\n",
       "      <td>u</td>\n",
       "      <td>Dubious open reading frame unlikely to encode ...</td>\n",
       "      <td>increased Mg2+ accumulation, decreased resista...</td>\n",
       "      <td>*</td>\n",
       "      <td>NaN</td>\n",
       "      <td>NaN</td>\n",
       "    </tr>\n",
       "    <tr>\n",
       "      <th>2</th>\n",
       "      <td>YDL077C</td>\n",
       "      <td>VAM6</td>\n",
       "      <td>Nig hypersensitive</td>\n",
       "      <td>vacuole</td>\n",
       "      <td>vacuolar biogenesis</td>\n",
       "      <td>increased sensitivity to nigericin in liquid Y...</td>\n",
       "      <td>decreased respiratory growth rate, altered tel...</td>\n",
       "      <td>NaN</td>\n",
       "      <td>NaN</td>\n",
       "      <td>NaN</td>\n",
       "    </tr>\n",
       "    <tr>\n",
       "      <th>3</th>\n",
       "      <td>YDR080W</td>\n",
       "      <td>VPS41</td>\n",
       "      <td>Nig hypersensitive</td>\n",
       "      <td>vacuole</td>\n",
       "      <td>vacuolar biogenesis</td>\n",
       "      <td>subunit of the homotypic vacuole fusion and va...</td>\n",
       "      <td>increased sensitivity to nigericin in liquid Y...</td>\n",
       "      <td>*</td>\n",
       "      <td>NaN</td>\n",
       "      <td>NaN</td>\n",
       "    </tr>\n",
       "    <tr>\n",
       "      <th>4</th>\n",
       "      <td>YDR264C</td>\n",
       "      <td>AKR1</td>\n",
       "      <td>Nig hypersensitive</td>\n",
       "      <td>ER</td>\n",
       "      <td>regulation of pheromone response pathway</td>\n",
       "      <td>protein-cysteine S-palmitoleyltransferase</td>\n",
       "      <td>decreased respiratory growth rate, decreased r...</td>\n",
       "      <td>NaN</td>\n",
       "      <td>resistance to palmitoleate: decreased - Lockshon</td>\n",
       "      <td>NaN</td>\n",
       "    </tr>\n",
       "  </tbody>\n",
       "</table>\n",
       "</div>"
      ],
      "text/plain": [
       "       ORF standard name phenotype of the deletant on Val/Nig  \\\n",
       "0  YBL025W         RRN10                   Nig hypersensitive   \n",
       "1  YBL094C             -                   Nig hypersensitive   \n",
       "2  YDL077C          VAM6                   Nig hypersensitive   \n",
       "3  YDR080W         VPS41                   Nig hypersensitive   \n",
       "4  YDR264C          AKR1                   Nig hypersensitive   \n",
       "\n",
       "  localization of the protein                        biological process  \\\n",
       "0                     nucleus                  regulation of expression   \n",
       "1                           u                                         u   \n",
       "2                     vacuole                       vacuolar biogenesis   \n",
       "3                     vacuole                       vacuolar biogenesis   \n",
       "4                          ER  regulation of pheromone response pathway   \n",
       "\n",
       "                    molecular function / description  \\\n",
       "0  subunit of upstream activation factor for RNA ...   \n",
       "1  Dubious open reading frame unlikely to encode ...   \n",
       "2  increased sensitivity to nigericin in liquid Y...   \n",
       "3  subunit of the homotypic vacuole fusion and va...   \n",
       "4          protein-cysteine S-palmitoleyltransferase   \n",
       "\n",
       "                           some of the GO anotations  \\\n",
       "0  decreased resistance to ethanol, decreased oxi...   \n",
       "1  increased Mg2+ accumulation, decreased resista...   \n",
       "2  decreased respiratory growth rate, altered tel...   \n",
       "3  increased sensitivity to nigericin in liquid Y...   \n",
       "4  decreased respiratory growth rate, decreased r...   \n",
       "\n",
       "  * depicts mutants with \"stabile ionophore phenotype\"  \\\n",
       "0                                                  *     \n",
       "1                                                  *     \n",
       "2                                                NaN     \n",
       "3                                                  *     \n",
       "4                                                NaN     \n",
       "\n",
       "                                         Unnamed: 8 Unnamed: 9  \n",
       "0                                               NaN        NaN  \n",
       "1                                               NaN        NaN  \n",
       "2                                               NaN        NaN  \n",
       "3                                               NaN        NaN  \n",
       "4  resistance to palmitoleate: decreased - Lockshon        NaN  "
      ]
     },
     "execution_count": 9,
     "metadata": {},
     "output_type": "execute_result"
    }
   ],
   "source": [
    "original_data.head()"
   ]
  },
  {
   "cell_type": "code",
   "execution_count": 10,
   "metadata": {},
   "outputs": [],
   "source": [
    "original_data['orf'] = original_data['ORF'].astype(str)"
   ]
  },
  {
   "cell_type": "code",
   "execution_count": 11,
   "metadata": {},
   "outputs": [],
   "source": [
    "# Eliminate all white spaces & capitalize\n",
    "original_data['orf'] = clean_orf(original_data['orf'])"
   ]
  },
  {
   "cell_type": "code",
   "execution_count": 12,
   "metadata": {},
   "outputs": [],
   "source": [
    "# Translate to ORFs \n",
    "original_data['orf'] = translate_sc(original_data['orf'], to='orf')"
   ]
  },
  {
   "cell_type": "code",
   "execution_count": 13,
   "metadata": {},
   "outputs": [
    {
     "name": "stdout",
     "output_type": "stream",
     "text": [
      "             ORF standard name phenotype of the deletant on Val/Nig  \\\n",
      "index_input                                                           \n",
      "127          NaN           NaN                                  NaN   \n",
      "128          NaN           NaN                                  NaN   \n",
      "129          NaN           NaN                                  NaN   \n",
      "\n",
      "            localization of the protein biological process  \\\n",
      "index_input                                                  \n",
      "127                                 NaN                NaN   \n",
      "128                                 NaN                NaN   \n",
      "129                         u = unknown                NaN   \n",
      "\n",
      "            molecular function / description some of the GO anotations  \\\n",
      "index_input                                                              \n",
      "127                                      NaN                       NaN   \n",
      "128                                      NaN                       NaN   \n",
      "129                                      NaN                       NaN   \n",
      "\n",
      "            * depicts mutants with \"stabile ionophore phenotype\" Unnamed: 8  \\\n",
      "index_input                                                                   \n",
      "127                                                        NaN          NaN   \n",
      "128                                                        NaN          NaN   \n",
      "129                                                        NaN          NaN   \n",
      "\n",
      "            Unnamed: 9  orf  \n",
      "index_input                  \n",
      "127                NaN  NAN  \n",
      "128                NaN  NAN  \n",
      "129                NaN  NAN  \n"
     ]
    }
   ],
   "source": [
    "# Make sure everything translated ok\n",
    "t = looks_like_orf(original_data['orf'])\n",
    "print(original_data.loc[~t,])"
   ]
  },
  {
   "cell_type": "code",
   "execution_count": 14,
   "metadata": {},
   "outputs": [],
   "source": [
    "original_data = original_data.loc[t,:]"
   ]
  },
  {
   "cell_type": "code",
   "execution_count": 16,
   "metadata": {},
   "outputs": [],
   "source": [
    "original_data.set_index('orf', inplace=True)"
   ]
  },
  {
   "cell_type": "code",
   "execution_count": 20,
   "metadata": {},
   "outputs": [],
   "source": [
    "original_data['Nig'] = 0\n",
    "original_data['Val'] = 0\n",
    "p = 'phenotype of the deletant on Val/Nig'"
   ]
  },
  {
   "cell_type": "code",
   "execution_count": 21,
   "metadata": {},
   "outputs": [],
   "source": [
    "original_data.loc[original_data[p]=='Nig hypersensitive','Nig'] = -1\n",
    "original_data.loc[original_data[p]=='Nig resistant','Nig'] = 1\n",
    "original_data.loc[original_data[p]=='Val and Nig hypersensitive',:] = -1\n",
    "original_data.loc[original_data[p]=='Val and Nig resistant',:] = 1\n",
    "original_data.loc[original_data[p]=='Val hypersensitive','Val'] = -1\n",
    "original_data.loc[original_data[p]=='Val resistant','Val'] = 1"
   ]
  },
  {
   "cell_type": "code",
   "execution_count": 24,
   "metadata": {},
   "outputs": [],
   "source": [
    "original_data = original_data[['Nig','Val']].copy()"
   ]
  },
  {
   "cell_type": "code",
   "execution_count": 25,
   "metadata": {},
   "outputs": [],
   "source": [
    "original_data = original_data.groupby(original_data.index).mean()"
   ]
  },
  {
   "cell_type": "code",
   "execution_count": 26,
   "metadata": {},
   "outputs": [
    {
     "data": {
      "text/plain": [
       "(127, 2)"
      ]
     },
     "execution_count": 26,
     "metadata": {},
     "output_type": "execute_result"
    }
   ],
   "source": [
    "original_data.shape"
   ]
  },
  {
   "cell_type": "markdown",
   "metadata": {},
   "source": [
    "# Load & process tested strains"
   ]
  },
  {
   "cell_type": "code",
   "execution_count": 29,
   "metadata": {},
   "outputs": [],
   "source": [
    "tested = pd.read_csv('raw_data/strain_a_mating_type.txt', sep='\\t', skiprows=2, header=None)"
   ]
  },
  {
   "cell_type": "code",
   "execution_count": 30,
   "metadata": {},
   "outputs": [
    {
     "data": {
      "text/html": [
       "<div>\n",
       "<style scoped>\n",
       "    .dataframe tbody tr th:only-of-type {\n",
       "        vertical-align: middle;\n",
       "    }\n",
       "\n",
       "    .dataframe tbody tr th {\n",
       "        vertical-align: top;\n",
       "    }\n",
       "\n",
       "    .dataframe thead th {\n",
       "        text-align: right;\n",
       "    }\n",
       "</style>\n",
       "<table border=\"1\" class=\"dataframe\">\n",
       "  <thead>\n",
       "    <tr style=\"text-align: right;\">\n",
       "      <th></th>\n",
       "      <th>0</th>\n",
       "      <th>1</th>\n",
       "      <th>2</th>\n",
       "      <th>3</th>\n",
       "      <th>4</th>\n",
       "      <th>5</th>\n",
       "      <th>6</th>\n",
       "      <th>7</th>\n",
       "      <th>8</th>\n",
       "      <th>9</th>\n",
       "      <th>...</th>\n",
       "      <th>18</th>\n",
       "      <th>19</th>\n",
       "      <th>20</th>\n",
       "      <th>21</th>\n",
       "      <th>22</th>\n",
       "      <th>23</th>\n",
       "      <th>24</th>\n",
       "      <th>25</th>\n",
       "      <th>26</th>\n",
       "      <th>27</th>\n",
       "    </tr>\n",
       "  </thead>\n",
       "  <tbody>\n",
       "    <tr>\n",
       "      <th>0</th>\n",
       "      <td>405</td>\n",
       "      <td>YAL002W</td>\n",
       "      <td></td>\n",
       "      <td>CTTCATATACGGCACTCCCCTGAA</td>\n",
       "      <td>CTCAGATAAGGTCGGCACTAGGATTG</td>\n",
       "      <td>ATGTACAGCGCCACCAAGATATGA</td>\n",
       "      <td>TAGGTGTCGTGAAGTACTTTCGCTT</td>\n",
       "      <td>GATGTCCACGAGGTCTCTATACTGACAGCACGCATGGCCGTACGCT...</td>\n",
       "      <td>...</td>\n",
       "      <td>GGAGGGCCCACGTGCTTGTATCCGACAGCCACGTATTTTTTGATGG...</td>\n",
       "      <td>...</td>\n",
       "      <td>3904</td>\n",
       "      <td>1918</td>\n",
       "      <td></td>\n",
       "      <td></td>\n",
       "      <td>ATACTGACAGCACGCATGGC</td>\n",
       "      <td>NaN</td>\n",
       "      <td>NaN</td>\n",
       "      <td>NaN</td>\n",
       "      <td>NaN</td>\n",
       "      <td>NaN</td>\n",
       "    </tr>\n",
       "    <tr>\n",
       "      <th>1</th>\n",
       "      <td>402</td>\n",
       "      <td>YAL004W</td>\n",
       "      <td></td>\n",
       "      <td>AATCTGGCTCTGGTGATGGAAGTGTA</td>\n",
       "      <td>TCTCTTTGTTGTTCATTGAAGACGGTA</td>\n",
       "      <td>AGATTCGGCAGTTTCCTTCATCTTACC</td>\n",
       "      <td>TTAGCTGATCGTTTCGAGGACTTCAA</td>\n",
       "      <td>GATGTCCACGAGGTCTCTTATGGCACGGCAGACATTCCCGTACGCT...</td>\n",
       "      <td>...</td>\n",
       "      <td>GAAGTGGTTGACCAATCTGTTGTCAAAATCTTCACCACCCAAATGG...</td>\n",
       "      <td>...</td>\n",
       "      <td>1094</td>\n",
       "      <td>1991</td>\n",
       "      <td></td>\n",
       "      <td></td>\n",
       "      <td>TATGGCACGGCAGACATTCC</td>\n",
       "      <td>NaN</td>\n",
       "      <td>NaN</td>\n",
       "      <td>NaN</td>\n",
       "      <td>NaN</td>\n",
       "      <td>NaN</td>\n",
       "    </tr>\n",
       "    <tr>\n",
       "      <th>2</th>\n",
       "      <td>403</td>\n",
       "      <td>YAL005C</td>\n",
       "      <td></td>\n",
       "      <td>GTGGATTGATGTATCTTCGAGAAGG</td>\n",
       "      <td>AAGCGACAAAAGATGGAGTGGTTC</td>\n",
       "      <td>TAAGTTGTACCAAGCTGGTGGTGCTC</td>\n",
       "      <td>AGCAGTACTTCAACCATTAGTGTTAGCG</td>\n",
       "      <td>GATGTCCACGAGGTCTCTAGGCATACTACACAGATTCCCGTACGCT...</td>\n",
       "      <td>...</td>\n",
       "      <td>AAGTATTACAAGAAACAAAAATTCAAGTAAATAACAGATAATATGG...</td>\n",
       "      <td>...</td>\n",
       "      <td>2300</td>\n",
       "      <td>1916</td>\n",
       "      <td></td>\n",
       "      <td></td>\n",
       "      <td>AGGCATACTACACAGATTCC</td>\n",
       "      <td>NaN</td>\n",
       "      <td>NaN</td>\n",
       "      <td>NaN</td>\n",
       "      <td>NaN</td>\n",
       "      <td>NaN</td>\n",
       "    </tr>\n",
       "    <tr>\n",
       "      <th>3</th>\n",
       "      <td>401</td>\n",
       "      <td>YAL007C</td>\n",
       "      <td></td>\n",
       "      <td>TCATTAACCTTAGGGATCGACACC</td>\n",
       "      <td>CTATTTCCTCCACGGCGTTATTGG</td>\n",
       "      <td>GCCGTTATAAGTATTGCCCAAGTTCT</td>\n",
       "      <td>AACAAATGAGCAAGACAAATGACCAG</td>\n",
       "      <td>GATGTCCACGAGGTCTCTGAGTGATCCATACACATTCCCGTACGCT...</td>\n",
       "      <td>...</td>\n",
       "      <td>AATAAGATAAACAGTGGAGTACACTCATTGTAAAGGAAAACCATGG...</td>\n",
       "      <td>...</td>\n",
       "      <td>943</td>\n",
       "      <td>1840</td>\n",
       "      <td></td>\n",
       "      <td></td>\n",
       "      <td>GAGTGATCCATACACATTCC</td>\n",
       "      <td>NaN</td>\n",
       "      <td>NaN</td>\n",
       "      <td>NaN</td>\n",
       "      <td>NaN</td>\n",
       "      <td>NaN</td>\n",
       "    </tr>\n",
       "    <tr>\n",
       "      <th>4</th>\n",
       "      <td>400</td>\n",
       "      <td>YAL008W</td>\n",
       "      <td></td>\n",
       "      <td>AGAAGTGAAGCTGTTGTGTCGTGAA</td>\n",
       "      <td>TACTGTTGCCCACAGTTGGTTCCA</td>\n",
       "      <td>GGATCATTATTCGGTGTTGTTTTAGGA</td>\n",
       "      <td>TTCCTCTTCACTGGTCGTCAAAAAAA</td>\n",
       "      <td>GATGTCCACGAGGTCTCTATGAACTTGCGCTCAATTCCCGTACGCT...</td>\n",
       "      <td>...</td>\n",
       "      <td>CTAGAGGGGCAAGAAGGAAGAACTTAAAATAATAGGTGTAAAATGG...</td>\n",
       "      <td>...</td>\n",
       "      <td>1003</td>\n",
       "      <td>1951</td>\n",
       "      <td></td>\n",
       "      <td></td>\n",
       "      <td>ATGAACTTGCGCTCAATTCC</td>\n",
       "      <td>NaN</td>\n",
       "      <td>NaN</td>\n",
       "      <td>NaN</td>\n",
       "      <td>NaN</td>\n",
       "      <td>NaN</td>\n",
       "    </tr>\n",
       "  </tbody>\n",
       "</table>\n",
       "<p>5 rows × 28 columns</p>\n",
       "</div>"
      ],
      "text/plain": [
       "    0          1               2                               3   \\\n",
       "0  405  YAL002W                    CTTCATATACGGCACTCCCCTGAA         \n",
       "1  402  YAL004W                    AATCTGGCTCTGGTGATGGAAGTGTA       \n",
       "2  403  YAL005C                    GTGGATTGATGTATCTTCGAGAAGG        \n",
       "3  401  YAL007C                    TCATTAACCTTAGGGATCGACACC         \n",
       "4  400  YAL008W                    AGAAGTGAAGCTGTTGTGTCGTGAA        \n",
       "\n",
       "                               4                               5   \\\n",
       "0  CTCAGATAAGGTCGGCACTAGGATTG      ATGTACAGCGCCACCAAGATATGA         \n",
       "1  TCTCTTTGTTGTTCATTGAAGACGGTA     AGATTCGGCAGTTTCCTTCATCTTACC      \n",
       "2  AAGCGACAAAAGATGGAGTGGTTC        TAAGTTGTACCAAGCTGGTGGTGCTC       \n",
       "3  CTATTTCCTCCACGGCGTTATTGG        GCCGTTATAAGTATTGCCCAAGTTCT       \n",
       "4  TACTGTTGCCCACAGTTGGTTCCA        GGATCATTATTCGGTGTTGTTTTAGGA      \n",
       "\n",
       "                               6   \\\n",
       "0  TAGGTGTCGTGAAGTACTTTCGCTT        \n",
       "1  TTAGCTGATCGTTTCGAGGACTTCAA       \n",
       "2  AGCAGTACTTCAACCATTAGTGTTAGCG     \n",
       "3  AACAAATGAGCAAGACAAATGACCAG       \n",
       "4  TTCCTCTTCACTGGTCGTCAAAAAAA       \n",
       "\n",
       "                                                  7   \\\n",
       "0  GATGTCCACGAGGTCTCTATACTGACAGCACGCATGGCCGTACGCT...   \n",
       "1  GATGTCCACGAGGTCTCTTATGGCACGGCAGACATTCCCGTACGCT...   \n",
       "2  GATGTCCACGAGGTCTCTAGGCATACTACACAGATTCCCGTACGCT...   \n",
       "3  GATGTCCACGAGGTCTCTGAGTGATCCATACACATTCCCGTACGCT...   \n",
       "4  GATGTCCACGAGGTCTCTATGAACTTGCGCTCAATTCCCGTACGCT...   \n",
       "\n",
       "                                                  8   \\\n",
       "0                                                ...   \n",
       "1                                                ...   \n",
       "2                                                ...   \n",
       "3                                                ...   \n",
       "4                                                ...   \n",
       "\n",
       "                                                  9   ...        18    19  \\\n",
       "0  GGAGGGCCCACGTGCTTGTATCCGACAGCCACGTATTTTTTGATGG...  ...  3904      1918   \n",
       "1  GAAGTGGTTGACCAATCTGTTGTCAAAATCTTCACCACCCAAATGG...  ...  1094      1991   \n",
       "2  AAGTATTACAAGAAACAAAAATTCAAGTAAATAACAGATAATATGG...  ...  2300      1916   \n",
       "3  AATAAGATAAACAGTGGAGTACACTCATTGTAAAGGAAAACCATGG...  ...  943       1840   \n",
       "4  CTAGAGGGGCAAGAAGGAAGAACTTAAAATAATAGGTGTAAAATGG...  ...  1003      1951   \n",
       "\n",
       "           20          21                    22   23  24  25  26  27  \n",
       "0                          ATACTGACAGCACGCATGGC  NaN NaN NaN NaN NaN  \n",
       "1                          TATGGCACGGCAGACATTCC  NaN NaN NaN NaN NaN  \n",
       "2                          AGGCATACTACACAGATTCC  NaN NaN NaN NaN NaN  \n",
       "3                          GAGTGATCCATACACATTCC  NaN NaN NaN NaN NaN  \n",
       "4                          ATGAACTTGCGCTCAATTCC  NaN NaN NaN NaN NaN  \n",
       "\n",
       "[5 rows x 28 columns]"
      ]
     },
     "execution_count": 30,
     "metadata": {},
     "output_type": "execute_result"
    }
   ],
   "source": [
    "tested.head()"
   ]
  },
  {
   "cell_type": "code",
   "execution_count": 31,
   "metadata": {},
   "outputs": [],
   "source": [
    "tested['orf'] = tested[1].astype(str)"
   ]
  },
  {
   "cell_type": "code",
   "execution_count": 32,
   "metadata": {},
   "outputs": [],
   "source": [
    "tested['orf'] = clean_orf(tested['orf'])"
   ]
  },
  {
   "cell_type": "code",
   "execution_count": 33,
   "metadata": {},
   "outputs": [],
   "source": [
    "tested['orf'] = translate_sc(tested['orf'], to='orf')"
   ]
  },
  {
   "cell_type": "code",
   "execution_count": 34,
   "metadata": {},
   "outputs": [
    {
     "name": "stdout",
     "output_type": "stream",
     "text": [
      "Empty DataFrame\n",
      "Columns: [0, 1, 2, 3, 4, 5, 6, 7, 8, 9, 10, 11, 12, 13, 14, 15, 16, 17, 18, 19, 20, 21, 22, 23, 24, 25, 26, 27, orf]\n",
      "Index: []\n",
      "\n",
      "[0 rows x 29 columns]\n"
     ]
    }
   ],
   "source": [
    "# Make sure everything translated ok\n",
    "t = looks_like_orf(tested['orf'])\n",
    "print(tested.loc[~t,])"
   ]
  },
  {
   "cell_type": "code",
   "execution_count": 35,
   "metadata": {},
   "outputs": [],
   "source": [
    "tested_orfs = np.unique(tested['orf'].values)"
   ]
  },
  {
   "cell_type": "code",
   "execution_count": 37,
   "metadata": {},
   "outputs": [
    {
     "data": {
      "text/plain": [
       "[]"
      ]
     },
     "execution_count": 37,
     "metadata": {},
     "output_type": "execute_result"
    }
   ],
   "source": [
    "missing = [orf for orf in original_data.index.values if orf not in tested_orfs]\n",
    "missing"
   ]
  },
  {
   "cell_type": "code",
   "execution_count": 38,
   "metadata": {},
   "outputs": [],
   "source": [
    "original_data = original_data.reindex(index=tested_orfs, fill_value=0)"
   ]
  },
  {
   "cell_type": "code",
   "execution_count": 39,
   "metadata": {},
   "outputs": [
    {
     "data": {
      "text/plain": [
       "(4961, 2)"
      ]
     },
     "execution_count": 39,
     "metadata": {},
     "output_type": "execute_result"
    }
   ],
   "source": [
    "original_data.shape"
   ]
  },
  {
   "cell_type": "markdown",
   "metadata": {},
   "source": [
    "# Prepare the final dataset"
   ]
  },
  {
   "cell_type": "code",
   "execution_count": 40,
   "metadata": {},
   "outputs": [],
   "source": [
    "data = original_data.copy()"
   ]
  },
  {
   "cell_type": "code",
   "execution_count": 41,
   "metadata": {},
   "outputs": [],
   "source": [
    "dataset_ids = [5182, 5176]\n",
    "datasets = datasets.reindex(index=dataset_ids)"
   ]
  },
  {
   "cell_type": "code",
   "execution_count": 42,
   "metadata": {},
   "outputs": [],
   "source": [
    "lst = [datasets.index.values, ['value']*datasets.shape[0]]\n",
    "tuples = list(zip(*lst))\n",
    "idx = pd.MultiIndex.from_tuples(tuples, names=['dataset_id','data_type'])\n",
    "data.columns = idx"
   ]
  },
  {
   "cell_type": "code",
   "execution_count": 43,
   "metadata": {},
   "outputs": [
    {
     "data": {
      "text/html": [
       "<div>\n",
       "<style scoped>\n",
       "    .dataframe tbody tr th:only-of-type {\n",
       "        vertical-align: middle;\n",
       "    }\n",
       "\n",
       "    .dataframe tbody tr th {\n",
       "        vertical-align: top;\n",
       "    }\n",
       "\n",
       "    .dataframe thead tr th {\n",
       "        text-align: left;\n",
       "    }\n",
       "\n",
       "    .dataframe thead tr:last-of-type th {\n",
       "        text-align: right;\n",
       "    }\n",
       "</style>\n",
       "<table border=\"1\" class=\"dataframe\">\n",
       "  <thead>\n",
       "    <tr>\n",
       "      <th>dataset_id</th>\n",
       "      <th>5182</th>\n",
       "      <th>5176</th>\n",
       "    </tr>\n",
       "    <tr>\n",
       "      <th>data_type</th>\n",
       "      <th>value</th>\n",
       "      <th>value</th>\n",
       "    </tr>\n",
       "    <tr>\n",
       "      <th>orf</th>\n",
       "      <th></th>\n",
       "      <th></th>\n",
       "    </tr>\n",
       "  </thead>\n",
       "  <tbody>\n",
       "    <tr>\n",
       "      <th>YAL002W</th>\n",
       "      <td>0</td>\n",
       "      <td>0</td>\n",
       "    </tr>\n",
       "    <tr>\n",
       "      <th>YAL004W</th>\n",
       "      <td>0</td>\n",
       "      <td>0</td>\n",
       "    </tr>\n",
       "    <tr>\n",
       "      <th>YAL005C</th>\n",
       "      <td>0</td>\n",
       "      <td>0</td>\n",
       "    </tr>\n",
       "    <tr>\n",
       "      <th>YAL007C</th>\n",
       "      <td>0</td>\n",
       "      <td>0</td>\n",
       "    </tr>\n",
       "    <tr>\n",
       "      <th>YAL008W</th>\n",
       "      <td>0</td>\n",
       "      <td>0</td>\n",
       "    </tr>\n",
       "  </tbody>\n",
       "</table>\n",
       "</div>"
      ],
      "text/plain": [
       "dataset_id  5182  5176\n",
       "data_type  value value\n",
       "orf                   \n",
       "YAL002W        0     0\n",
       "YAL004W        0     0\n",
       "YAL005C        0     0\n",
       "YAL007C        0     0\n",
       "YAL008W        0     0"
      ]
     },
     "execution_count": 43,
     "metadata": {},
     "output_type": "execute_result"
    }
   ],
   "source": [
    "data.head()"
   ]
  },
  {
   "cell_type": "markdown",
   "metadata": {},
   "source": [
    "## Subset to the genes currently in SGD"
   ]
  },
  {
   "cell_type": "code",
   "execution_count": 44,
   "metadata": {},
   "outputs": [
    {
     "name": "stdout",
     "output_type": "stream",
     "text": [
      "ORFs missing from SGD: 23\n"
     ]
    }
   ],
   "source": [
    "genes = pd.read_csv(path_to_genes, sep='\\t', index_col='id')\n",
    "genes = genes.reset_index().set_index('systematic_name')\n",
    "gene_ids = genes.reindex(index=data.index.values)['id'].values\n",
    "num_missing = np.sum(np.isnan(gene_ids))\n",
    "print('ORFs missing from SGD: %d' % num_missing)"
   ]
  },
  {
   "cell_type": "code",
   "execution_count": 45,
   "metadata": {},
   "outputs": [],
   "source": [
    "data['gene_id'] = gene_ids\n",
    "data = data.loc[data['gene_id'].notnull()]\n",
    "data['gene_id'] = data['gene_id'].astype(int)\n",
    "data = data.reset_index().set_index(['gene_id','orf'])"
   ]
  },
  {
   "cell_type": "code",
   "execution_count": 46,
   "metadata": {},
   "outputs": [
    {
     "data": {
      "text/html": [
       "<div>\n",
       "<style scoped>\n",
       "    .dataframe tbody tr th:only-of-type {\n",
       "        vertical-align: middle;\n",
       "    }\n",
       "\n",
       "    .dataframe tbody tr th {\n",
       "        vertical-align: top;\n",
       "    }\n",
       "\n",
       "    .dataframe thead tr th {\n",
       "        text-align: left;\n",
       "    }\n",
       "\n",
       "    .dataframe thead tr:last-of-type th {\n",
       "        text-align: right;\n",
       "    }\n",
       "</style>\n",
       "<table border=\"1\" class=\"dataframe\">\n",
       "  <thead>\n",
       "    <tr>\n",
       "      <th></th>\n",
       "      <th>dataset_id</th>\n",
       "      <th>5182</th>\n",
       "      <th>5176</th>\n",
       "    </tr>\n",
       "    <tr>\n",
       "      <th></th>\n",
       "      <th>data_type</th>\n",
       "      <th>value</th>\n",
       "      <th>value</th>\n",
       "    </tr>\n",
       "    <tr>\n",
       "      <th>gene_id</th>\n",
       "      <th>orf</th>\n",
       "      <th></th>\n",
       "      <th></th>\n",
       "    </tr>\n",
       "  </thead>\n",
       "  <tbody>\n",
       "    <tr>\n",
       "      <th>2</th>\n",
       "      <th>YAL002W</th>\n",
       "      <td>0</td>\n",
       "      <td>0</td>\n",
       "    </tr>\n",
       "    <tr>\n",
       "      <th>1863</th>\n",
       "      <th>YAL004W</th>\n",
       "      <td>0</td>\n",
       "      <td>0</td>\n",
       "    </tr>\n",
       "    <tr>\n",
       "      <th>4</th>\n",
       "      <th>YAL005C</th>\n",
       "      <td>0</td>\n",
       "      <td>0</td>\n",
       "    </tr>\n",
       "    <tr>\n",
       "      <th>5</th>\n",
       "      <th>YAL007C</th>\n",
       "      <td>0</td>\n",
       "      <td>0</td>\n",
       "    </tr>\n",
       "    <tr>\n",
       "      <th>6</th>\n",
       "      <th>YAL008W</th>\n",
       "      <td>0</td>\n",
       "      <td>0</td>\n",
       "    </tr>\n",
       "  </tbody>\n",
       "</table>\n",
       "</div>"
      ],
      "text/plain": [
       "dataset_id       5182  5176\n",
       "data_type       value value\n",
       "gene_id orf                \n",
       "2       YAL002W     0     0\n",
       "1863    YAL004W     0     0\n",
       "4       YAL005C     0     0\n",
       "5       YAL007C     0     0\n",
       "6       YAL008W     0     0"
      ]
     },
     "execution_count": 46,
     "metadata": {},
     "output_type": "execute_result"
    }
   ],
   "source": [
    "data.head()"
   ]
  },
  {
   "cell_type": "markdown",
   "metadata": {},
   "source": [
    "# Normalize"
   ]
  },
  {
   "cell_type": "code",
   "execution_count": 47,
   "metadata": {},
   "outputs": [],
   "source": [
    "data_norm = normalize_phenotypic_scores(data, has_tested=True)"
   ]
  },
  {
   "cell_type": "code",
   "execution_count": 48,
   "metadata": {},
   "outputs": [],
   "source": [
    "# Assign proper column names\n",
    "lst = [datasets.index.values, ['valuez']*datasets.shape[0]]\n",
    "tuples = list(zip(*lst))\n",
    "idx = pd.MultiIndex.from_tuples(tuples, names=['dataset_id','data_type'])\n",
    "data_norm.columns = idx"
   ]
  },
  {
   "cell_type": "code",
   "execution_count": 49,
   "metadata": {},
   "outputs": [],
   "source": [
    "data_norm[data.isnull()] = np.nan\n",
    "data_all = data.join(data_norm)"
   ]
  },
  {
   "cell_type": "code",
   "execution_count": 50,
   "metadata": {},
   "outputs": [
    {
     "data": {
      "text/html": [
       "<div>\n",
       "<style scoped>\n",
       "    .dataframe tbody tr th:only-of-type {\n",
       "        vertical-align: middle;\n",
       "    }\n",
       "\n",
       "    .dataframe tbody tr th {\n",
       "        vertical-align: top;\n",
       "    }\n",
       "\n",
       "    .dataframe thead tr th {\n",
       "        text-align: left;\n",
       "    }\n",
       "\n",
       "    .dataframe thead tr:last-of-type th {\n",
       "        text-align: right;\n",
       "    }\n",
       "</style>\n",
       "<table border=\"1\" class=\"dataframe\">\n",
       "  <thead>\n",
       "    <tr>\n",
       "      <th></th>\n",
       "      <th>dataset_id</th>\n",
       "      <th>5182</th>\n",
       "      <th>5176</th>\n",
       "      <th>5182</th>\n",
       "      <th>5176</th>\n",
       "    </tr>\n",
       "    <tr>\n",
       "      <th></th>\n",
       "      <th>data_type</th>\n",
       "      <th>value</th>\n",
       "      <th>value</th>\n",
       "      <th>valuez</th>\n",
       "      <th>valuez</th>\n",
       "    </tr>\n",
       "    <tr>\n",
       "      <th>gene_id</th>\n",
       "      <th>orf</th>\n",
       "      <th></th>\n",
       "      <th></th>\n",
       "      <th></th>\n",
       "      <th></th>\n",
       "    </tr>\n",
       "  </thead>\n",
       "  <tbody>\n",
       "    <tr>\n",
       "      <th>2</th>\n",
       "      <th>YAL002W</th>\n",
       "      <td>0</td>\n",
       "      <td>0</td>\n",
       "      <td>0.107993</td>\n",
       "      <td>0.068222</td>\n",
       "    </tr>\n",
       "    <tr>\n",
       "      <th>1863</th>\n",
       "      <th>YAL004W</th>\n",
       "      <td>0</td>\n",
       "      <td>0</td>\n",
       "      <td>0.107993</td>\n",
       "      <td>0.068222</td>\n",
       "    </tr>\n",
       "    <tr>\n",
       "      <th>4</th>\n",
       "      <th>YAL005C</th>\n",
       "      <td>0</td>\n",
       "      <td>0</td>\n",
       "      <td>0.107993</td>\n",
       "      <td>0.068222</td>\n",
       "    </tr>\n",
       "    <tr>\n",
       "      <th>5</th>\n",
       "      <th>YAL007C</th>\n",
       "      <td>0</td>\n",
       "      <td>0</td>\n",
       "      <td>0.107993</td>\n",
       "      <td>0.068222</td>\n",
       "    </tr>\n",
       "    <tr>\n",
       "      <th>6</th>\n",
       "      <th>YAL008W</th>\n",
       "      <td>0</td>\n",
       "      <td>0</td>\n",
       "      <td>0.107993</td>\n",
       "      <td>0.068222</td>\n",
       "    </tr>\n",
       "  </tbody>\n",
       "</table>\n",
       "</div>"
      ],
      "text/plain": [
       "dataset_id       5182  5176      5182      5176\n",
       "data_type       value value    valuez    valuez\n",
       "gene_id orf                                    \n",
       "2       YAL002W     0     0  0.107993  0.068222\n",
       "1863    YAL004W     0     0  0.107993  0.068222\n",
       "4       YAL005C     0     0  0.107993  0.068222\n",
       "5       YAL007C     0     0  0.107993  0.068222\n",
       "6       YAL008W     0     0  0.107993  0.068222"
      ]
     },
     "execution_count": 50,
     "metadata": {},
     "output_type": "execute_result"
    }
   ],
   "source": [
    "data_all.head()\n"
   ]
  },
  {
   "cell_type": "markdown",
   "metadata": {},
   "source": [
    "# Print out"
   ]
  },
  {
   "cell_type": "code",
   "execution_count": 51,
   "metadata": {},
   "outputs": [],
   "source": [
    "for f in ['value','valuez']:\n",
    "    df = data_all.xs(f, level='data_type', axis=1).copy()\n",
    "    df.columns = datasets['name'].values\n",
    "    df = df.droplevel('gene_id', axis=0)\n",
    "    df.to_csv(paper_name + '_' + f + '.txt', sep='\\t')"
   ]
  },
  {
   "cell_type": "markdown",
   "metadata": {},
   "source": [
    "# Save to DB"
   ]
  },
  {
   "cell_type": "code",
   "execution_count": 52,
   "metadata": {},
   "outputs": [],
   "source": [
    "from IO.save_data_to_db3 import *"
   ]
  },
  {
   "cell_type": "code",
   "execution_count": 53,
   "metadata": {},
   "outputs": [
    {
     "name": "stderr",
     "output_type": "stream",
     "text": [
      "  0%|          | 0/2 [00:00<?, ?it/s]"
     ]
    },
    {
     "name": "stdout",
     "output_type": "stream",
     "text": [
      "Deleting all datasets for PMID 27711131...\n",
      "Inserting the new data...\n"
     ]
    },
    {
     "name": "stderr",
     "output_type": "stream",
     "text": [
      "100%|██████████| 2/2 [00:17<00:00,  8.56s/it]"
     ]
    },
    {
     "name": "stdout",
     "output_type": "stream",
     "text": [
      "Updating the data_modified_on field...\n"
     ]
    },
    {
     "name": "stderr",
     "output_type": "stream",
     "text": [
      "\n"
     ]
    }
   ],
   "source": [
    "save_data_to_db(data_all, paper_pmid)"
   ]
  },
  {
   "cell_type": "code",
   "execution_count": null,
   "metadata": {},
   "outputs": [],
   "source": []
  }
 ],
 "metadata": {
  "kernelspec": {
   "display_name": "yp-data",
   "language": "python",
   "name": "yp-data"
  },
  "language_info": {
   "codemirror_mode": {
    "name": "ipython",
    "version": 3
   },
   "file_extension": ".py",
   "mimetype": "text/x-python",
   "name": "python",
   "nbconvert_exporter": "python",
   "pygments_lexer": "ipython3",
   "version": "3.7.7"
  }
 },
 "nbformat": 4,
 "nbformat_minor": 4
}
