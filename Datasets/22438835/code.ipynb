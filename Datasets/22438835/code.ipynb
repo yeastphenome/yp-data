{
 "cells": [
  {
   "cell_type": "code",
   "execution_count": 1,
   "metadata": {},
   "outputs": [],
   "source": [
    "%run ../yp_utils.py"
   ]
  },
  {
   "cell_type": "markdown",
   "metadata": {},
   "source": [
    "# Initial setup"
   ]
  },
  {
   "cell_type": "code",
   "execution_count": 2,
   "metadata": {},
   "outputs": [],
   "source": [
    "paper_pmid = 22438835\n",
    "paper_name = 'hoose_polymenis_2012' "
   ]
  },
  {
   "cell_type": "code",
   "execution_count": 3,
   "metadata": {},
   "outputs": [],
   "source": [
    "datasets = pd.read_csv('extras/YeastPhenome_' + str(paper_pmid) + '_datasets_list.txt', sep='\\t', header=None, names=['dataset_id', 'name'])"
   ]
  },
  {
   "cell_type": "code",
   "execution_count": 4,
   "metadata": {},
   "outputs": [],
   "source": [
    "datasets.set_index('dataset_id', inplace=True)"
   ]
  },
  {
   "cell_type": "markdown",
   "metadata": {},
   "source": [
    "# Load & process the data"
   ]
  },
  {
   "cell_type": "code",
   "execution_count": 8,
   "metadata": {},
   "outputs": [],
   "source": [
    "original_data = pd.read_excel('raw_data/Dataset_S1.xlsx', sheet_name='Data and Correlation', skiprows=1)"
   ]
  },
  {
   "cell_type": "code",
   "execution_count": 9,
   "metadata": {},
   "outputs": [
    {
     "name": "stdout",
     "output_type": "stream",
     "text": [
      "Original data dimensions: 4342 x 19\n"
     ]
    }
   ],
   "source": [
    "print('Original data dimensions: %d x %d' % (original_data.shape))"
   ]
  },
  {
   "cell_type": "code",
   "execution_count": 10,
   "metadata": {},
   "outputs": [
    {
     "data": {
      "text/html": [
       "<div>\n",
       "<style scoped>\n",
       "    .dataframe tbody tr th:only-of-type {\n",
       "        vertical-align: middle;\n",
       "    }\n",
       "\n",
       "    .dataframe tbody tr th {\n",
       "        vertical-align: top;\n",
       "    }\n",
       "\n",
       "    .dataframe thead th {\n",
       "        text-align: right;\n",
       "    }\n",
       "</style>\n",
       "<table border=\"1\" class=\"dataframe\">\n",
       "  <thead>\n",
       "    <tr style=\"text-align: right;\">\n",
       "      <th></th>\n",
       "      <th>Plate ID / gene</th>\n",
       "      <th>ORF</th>\n",
       "      <th># exp</th>\n",
       "      <th>%G1 (avg)</th>\n",
       "      <th>%G1 (std)</th>\n",
       "      <th>Mean FSC-H (avg)</th>\n",
       "      <th>Mean FSC-H (std)</th>\n",
       "      <th>Median FSC-H (avg)</th>\n",
       "      <th>Median FSC-H (std)</th>\n",
       "      <th>Growth coefficient</th>\n",
       "      <th>Mean</th>\n",
       "      <th>Median</th>\n",
       "      <th>Mean.1</th>\n",
       "      <th>Median.1</th>\n",
       "      <th>Mode</th>\n",
       "      <th>ORF.1</th>\n",
       "      <th>Common</th>\n",
       "      <th>Alias(es)</th>\n",
       "      <th>Description</th>\n",
       "    </tr>\n",
       "  </thead>\n",
       "  <tbody>\n",
       "    <tr>\n",
       "      <th>0</th>\n",
       "      <td>335B10</td>\n",
       "      <td>YDR004W</td>\n",
       "      <td>3</td>\n",
       "      <td>0.088046</td>\n",
       "      <td>0.030646</td>\n",
       "      <td>121.803333</td>\n",
       "      <td>13.366287</td>\n",
       "      <td>113.023333</td>\n",
       "      <td>12.199362</td>\n",
       "      <td>3.5</td>\n",
       "      <td>48.4691</td>\n",
       "      <td>43.9967</td>\n",
       "      <td>61.98</td>\n",
       "      <td>63.93</td>\n",
       "      <td>57.08</td>\n",
       "      <td>YDR004W</td>\n",
       "      <td>RAD57</td>\n",
       "      <td>NaN</td>\n",
       "      <td>Protein that stimulates strand exchange by sta...</td>\n",
       "    </tr>\n",
       "    <tr>\n",
       "      <th>1</th>\n",
       "      <td>302F01</td>\n",
       "      <td>YLR079W</td>\n",
       "      <td>7</td>\n",
       "      <td>0.103702</td>\n",
       "      <td>0.075621</td>\n",
       "      <td>130.492857</td>\n",
       "      <td>16.641394</td>\n",
       "      <td>125.784286</td>\n",
       "      <td>20.333919</td>\n",
       "      <td>7.8</td>\n",
       "      <td>48.1552</td>\n",
       "      <td>41.6297</td>\n",
       "      <td>53.53</td>\n",
       "      <td>55.87</td>\n",
       "      <td>25.11</td>\n",
       "      <td>YLR079W</td>\n",
       "      <td>SIC1</td>\n",
       "      <td>SDB25</td>\n",
       "      <td>Inhibitor of Cdc28-Clb kinase complexes that c...</td>\n",
       "    </tr>\n",
       "    <tr>\n",
       "      <th>2</th>\n",
       "      <td>344H08</td>\n",
       "      <td>YBR119W</td>\n",
       "      <td>4</td>\n",
       "      <td>0.116522</td>\n",
       "      <td>0.039177</td>\n",
       "      <td>113.107500</td>\n",
       "      <td>7.757016</td>\n",
       "      <td>105.770000</td>\n",
       "      <td>7.793857</td>\n",
       "      <td>1.0</td>\n",
       "      <td>43.1939</td>\n",
       "      <td>40.1944</td>\n",
       "      <td>61.37</td>\n",
       "      <td>66.36</td>\n",
       "      <td>65.29</td>\n",
       "      <td>YBR119W</td>\n",
       "      <td>MUD1</td>\n",
       "      <td>U1A U1-A</td>\n",
       "      <td>U1 snRNP A protein, homolog of human U1-A; inv...</td>\n",
       "    </tr>\n",
       "    <tr>\n",
       "      <th>3</th>\n",
       "      <td>330F02</td>\n",
       "      <td>YNL250W</td>\n",
       "      <td>3</td>\n",
       "      <td>0.120508</td>\n",
       "      <td>0.042201</td>\n",
       "      <td>162.136667</td>\n",
       "      <td>7.371651</td>\n",
       "      <td>160.326667</td>\n",
       "      <td>9.029354</td>\n",
       "      <td>8.4</td>\n",
       "      <td>57.2188</td>\n",
       "      <td>51.9686</td>\n",
       "      <td>67.08</td>\n",
       "      <td>72.58</td>\n",
       "      <td>47.95</td>\n",
       "      <td>YNL250W</td>\n",
       "      <td>RAD50</td>\n",
       "      <td>NaN</td>\n",
       "      <td>Subunit of MRX complex, with Mre11p and Xrs2p,...</td>\n",
       "    </tr>\n",
       "    <tr>\n",
       "      <th>4</th>\n",
       "      <td>317C01</td>\n",
       "      <td>YKL101W</td>\n",
       "      <td>3</td>\n",
       "      <td>0.125289</td>\n",
       "      <td>0.040510</td>\n",
       "      <td>149.546667</td>\n",
       "      <td>3.786031</td>\n",
       "      <td>143.620000</td>\n",
       "      <td>3.800776</td>\n",
       "      <td>1.0</td>\n",
       "      <td>55.2519</td>\n",
       "      <td>51.9686</td>\n",
       "      <td>61.56</td>\n",
       "      <td>65.53</td>\n",
       "      <td>59.81</td>\n",
       "      <td>YKL101W</td>\n",
       "      <td>HSL1</td>\n",
       "      <td>ELM2 NIK1</td>\n",
       "      <td>Nim1p-related protein kinase that regulates th...</td>\n",
       "    </tr>\n",
       "  </tbody>\n",
       "</table>\n",
       "</div>"
      ],
      "text/plain": [
       "  Plate ID / gene      ORF  # exp  %G1 (avg)  %G1 (std)  Mean FSC-H (avg)  \\\n",
       "0          335B10  YDR004W      3   0.088046   0.030646        121.803333   \n",
       "1          302F01  YLR079W      7   0.103702   0.075621        130.492857   \n",
       "2          344H08  YBR119W      4   0.116522   0.039177        113.107500   \n",
       "3          330F02  YNL250W      3   0.120508   0.042201        162.136667   \n",
       "4          317C01  YKL101W      3   0.125289   0.040510        149.546667   \n",
       "\n",
       "   Mean FSC-H (std)  Median FSC-H (avg)  Median FSC-H (std)  \\\n",
       "0         13.366287          113.023333           12.199362   \n",
       "1         16.641394          125.784286           20.333919   \n",
       "2          7.757016          105.770000            7.793857   \n",
       "3          7.371651          160.326667            9.029354   \n",
       "4          3.786031          143.620000            3.800776   \n",
       "\n",
       "   Growth coefficient     Mean   Median  Mean.1  Median.1   Mode    ORF.1  \\\n",
       "0                 3.5  48.4691  43.9967   61.98     63.93  57.08  YDR004W   \n",
       "1                 7.8  48.1552  41.6297   53.53     55.87  25.11  YLR079W   \n",
       "2                 1.0  43.1939  40.1944   61.37     66.36  65.29  YBR119W   \n",
       "3                 8.4  57.2188  51.9686   67.08     72.58  47.95  YNL250W   \n",
       "4                 1.0  55.2519  51.9686   61.56     65.53  59.81  YKL101W   \n",
       "\n",
       "  Common  Alias(es)                                        Description  \n",
       "0  RAD57        NaN  Protein that stimulates strand exchange by sta...  \n",
       "1   SIC1      SDB25  Inhibitor of Cdc28-Clb kinase complexes that c...  \n",
       "2   MUD1   U1A U1-A  U1 snRNP A protein, homolog of human U1-A; inv...  \n",
       "3  RAD50        NaN  Subunit of MRX complex, with Mre11p and Xrs2p,...  \n",
       "4   HSL1  ELM2 NIK1  Nim1p-related protein kinase that regulates th...  "
      ]
     },
     "execution_count": 10,
     "metadata": {},
     "output_type": "execute_result"
    }
   ],
   "source": [
    "original_data.head()"
   ]
  },
  {
   "cell_type": "code",
   "execution_count": 11,
   "metadata": {},
   "outputs": [],
   "source": [
    "original_data['orf'] = original_data['ORF'].astype(str)"
   ]
  },
  {
   "cell_type": "code",
   "execution_count": 12,
   "metadata": {},
   "outputs": [],
   "source": [
    "# Eliminate all white spaces & capitalize\n",
    "original_data['orf'] = clean_orf(original_data['orf'])"
   ]
  },
  {
   "cell_type": "code",
   "execution_count": 15,
   "metadata": {},
   "outputs": [],
   "source": [
    "original_data.loc[original_data['orf']=='YELOO1C','orf'] = 'YEL001C'"
   ]
  },
  {
   "cell_type": "code",
   "execution_count": 16,
   "metadata": {},
   "outputs": [],
   "source": [
    "# Translate to ORFs \n",
    "original_data['orf'] = translate_sc(original_data['orf'], to='orf')"
   ]
  },
  {
   "cell_type": "code",
   "execution_count": 17,
   "metadata": {},
   "outputs": [
    {
     "name": "stdout",
     "output_type": "stream",
     "text": [
      "            Plate ID / gene     ORF  # exp  %G1 (avg)  %G1 (std)  \\\n",
      "index_input                                                        \n",
      "1511                 BY4743     NaN    250   0.311694   0.051983   \n",
      "3226                 304F06  YMR41W      2   0.364966   0.026440   \n",
      "\n",
      "             Mean FSC-H (avg)  Mean FSC-H (std)  Median FSC-H (avg)  \\\n",
      "index_input                                                           \n",
      "1511                 100.0894          6.789526            91.96456   \n",
      "3226                  94.6250          2.213244            87.30000   \n",
      "\n",
      "             Median FSC-H (std)  Growth coefficient  Mean  Median  Mean.1  \\\n",
      "index_input                                                                 \n",
      "1511                   6.403580                 NaN   NaN     NaN     NaN   \n",
      "3226                   1.400071                 1.0   NaN     NaN   44.09   \n",
      "\n",
      "             Median.1   Mode   ORF.1 Common Alias(es) Description     orf  \n",
      "index_input                                                                \n",
      "1511              NaN    NaN     NaN    NaN       NaN         NaN     NAN  \n",
      "3226            47.08  47.94  YMR41W    NaN       NaN         NaN  YMR41W  \n"
     ]
    }
   ],
   "source": [
    "# Make sure everything translated ok\n",
    "t = looks_like_orf(original_data['orf'])\n",
    "print(original_data.loc[~t,])"
   ]
  },
  {
   "cell_type": "code",
   "execution_count": 18,
   "metadata": {},
   "outputs": [],
   "source": [
    "original_data = original_data.loc[t,:]"
   ]
  },
  {
   "cell_type": "code",
   "execution_count": 19,
   "metadata": {},
   "outputs": [],
   "source": [
    "original_data['data'] = original_data['%G1 (avg)']"
   ]
  },
  {
   "cell_type": "code",
   "execution_count": 20,
   "metadata": {},
   "outputs": [],
   "source": [
    "original_data.set_index('orf', inplace=True)"
   ]
  },
  {
   "cell_type": "code",
   "execution_count": 21,
   "metadata": {},
   "outputs": [],
   "source": [
    "original_data = original_data[['data']].copy()"
   ]
  },
  {
   "cell_type": "code",
   "execution_count": 22,
   "metadata": {},
   "outputs": [],
   "source": [
    "original_data = original_data.groupby(original_data.index).mean()"
   ]
  },
  {
   "cell_type": "code",
   "execution_count": 23,
   "metadata": {},
   "outputs": [
    {
     "data": {
      "text/plain": [
       "(4240, 1)"
      ]
     },
     "execution_count": 23,
     "metadata": {},
     "output_type": "execute_result"
    }
   ],
   "source": [
    "original_data.shape"
   ]
  },
  {
   "cell_type": "markdown",
   "metadata": {},
   "source": [
    "# Prepare the final dataset"
   ]
  },
  {
   "cell_type": "code",
   "execution_count": 24,
   "metadata": {},
   "outputs": [],
   "source": [
    "data = original_data.copy()"
   ]
  },
  {
   "cell_type": "code",
   "execution_count": 25,
   "metadata": {},
   "outputs": [],
   "source": [
    "dataset_ids = [515]\n",
    "datasets = datasets.reindex(index=dataset_ids)"
   ]
  },
  {
   "cell_type": "code",
   "execution_count": 26,
   "metadata": {},
   "outputs": [],
   "source": [
    "lst = [datasets.index.values, ['value']*datasets.shape[0]]\n",
    "tuples = list(zip(*lst))\n",
    "idx = pd.MultiIndex.from_tuples(tuples, names=['dataset_id','data_type'])\n",
    "data.columns = idx"
   ]
  },
  {
   "cell_type": "code",
   "execution_count": 27,
   "metadata": {},
   "outputs": [
    {
     "data": {
      "text/html": [
       "<div>\n",
       "<style scoped>\n",
       "    .dataframe tbody tr th:only-of-type {\n",
       "        vertical-align: middle;\n",
       "    }\n",
       "\n",
       "    .dataframe tbody tr th {\n",
       "        vertical-align: top;\n",
       "    }\n",
       "\n",
       "    .dataframe thead tr th {\n",
       "        text-align: left;\n",
       "    }\n",
       "\n",
       "    .dataframe thead tr:last-of-type th {\n",
       "        text-align: right;\n",
       "    }\n",
       "</style>\n",
       "<table border=\"1\" class=\"dataframe\">\n",
       "  <thead>\n",
       "    <tr>\n",
       "      <th>dataset_id</th>\n",
       "      <th>515</th>\n",
       "    </tr>\n",
       "    <tr>\n",
       "      <th>data_type</th>\n",
       "      <th>value</th>\n",
       "    </tr>\n",
       "    <tr>\n",
       "      <th>orf</th>\n",
       "      <th></th>\n",
       "    </tr>\n",
       "  </thead>\n",
       "  <tbody>\n",
       "    <tr>\n",
       "      <th>YAL002W</th>\n",
       "      <td>0.322576</td>\n",
       "    </tr>\n",
       "    <tr>\n",
       "      <th>YAL004W</th>\n",
       "      <td>0.321099</td>\n",
       "    </tr>\n",
       "    <tr>\n",
       "      <th>YAL005C</th>\n",
       "      <td>0.260488</td>\n",
       "    </tr>\n",
       "    <tr>\n",
       "      <th>YAL007C</th>\n",
       "      <td>0.315864</td>\n",
       "    </tr>\n",
       "    <tr>\n",
       "      <th>YAL008W</th>\n",
       "      <td>0.366145</td>\n",
       "    </tr>\n",
       "  </tbody>\n",
       "</table>\n",
       "</div>"
      ],
      "text/plain": [
       "dataset_id       515\n",
       "data_type      value\n",
       "orf                 \n",
       "YAL002W     0.322576\n",
       "YAL004W     0.321099\n",
       "YAL005C     0.260488\n",
       "YAL007C     0.315864\n",
       "YAL008W     0.366145"
      ]
     },
     "execution_count": 27,
     "metadata": {},
     "output_type": "execute_result"
    }
   ],
   "source": [
    "data.head()"
   ]
  },
  {
   "cell_type": "markdown",
   "metadata": {},
   "source": [
    "## Subset to the genes currently in SGD"
   ]
  },
  {
   "cell_type": "code",
   "execution_count": 28,
   "metadata": {},
   "outputs": [
    {
     "name": "stdout",
     "output_type": "stream",
     "text": [
      "ORFs missing from SGD: 24\n"
     ]
    }
   ],
   "source": [
    "genes = pd.read_csv(path_to_genes, sep='\\t', index_col='id')\n",
    "genes = genes.reset_index().set_index('systematic_name')\n",
    "gene_ids = genes.reindex(index=data.index.values)['id'].values\n",
    "num_missing = np.sum(np.isnan(gene_ids))\n",
    "print('ORFs missing from SGD: %d' % num_missing)"
   ]
  },
  {
   "cell_type": "code",
   "execution_count": 29,
   "metadata": {},
   "outputs": [
    {
     "data": {
      "text/html": [
       "<div>\n",
       "<style scoped>\n",
       "    .dataframe tbody tr th:only-of-type {\n",
       "        vertical-align: middle;\n",
       "    }\n",
       "\n",
       "    .dataframe tbody tr th {\n",
       "        vertical-align: top;\n",
       "    }\n",
       "\n",
       "    .dataframe thead tr th {\n",
       "        text-align: left;\n",
       "    }\n",
       "\n",
       "    .dataframe thead tr:last-of-type th {\n",
       "        text-align: right;\n",
       "    }\n",
       "</style>\n",
       "<table border=\"1\" class=\"dataframe\">\n",
       "  <thead>\n",
       "    <tr>\n",
       "      <th></th>\n",
       "      <th>dataset_id</th>\n",
       "      <th>515</th>\n",
       "    </tr>\n",
       "    <tr>\n",
       "      <th></th>\n",
       "      <th>data_type</th>\n",
       "      <th>value</th>\n",
       "    </tr>\n",
       "    <tr>\n",
       "      <th>gene_id</th>\n",
       "      <th>orf</th>\n",
       "      <th></th>\n",
       "    </tr>\n",
       "  </thead>\n",
       "  <tbody>\n",
       "    <tr>\n",
       "      <th>2</th>\n",
       "      <th>YAL002W</th>\n",
       "      <td>0.322576</td>\n",
       "    </tr>\n",
       "    <tr>\n",
       "      <th>1863</th>\n",
       "      <th>YAL004W</th>\n",
       "      <td>0.321099</td>\n",
       "    </tr>\n",
       "    <tr>\n",
       "      <th>4</th>\n",
       "      <th>YAL005C</th>\n",
       "      <td>0.260488</td>\n",
       "    </tr>\n",
       "    <tr>\n",
       "      <th>5</th>\n",
       "      <th>YAL007C</th>\n",
       "      <td>0.315864</td>\n",
       "    </tr>\n",
       "    <tr>\n",
       "      <th>6</th>\n",
       "      <th>YAL008W</th>\n",
       "      <td>0.366145</td>\n",
       "    </tr>\n",
       "  </tbody>\n",
       "</table>\n",
       "</div>"
      ],
      "text/plain": [
       "dataset_id            515\n",
       "data_type           value\n",
       "gene_id orf              \n",
       "2       YAL002W  0.322576\n",
       "1863    YAL004W  0.321099\n",
       "4       YAL005C  0.260488\n",
       "5       YAL007C  0.315864\n",
       "6       YAL008W  0.366145"
      ]
     },
     "execution_count": 29,
     "metadata": {},
     "output_type": "execute_result"
    }
   ],
   "source": [
    "data['gene_id'] = gene_ids\n",
    "data = data.loc[data['gene_id'].notnull()]\n",
    "data['gene_id'] = data['gene_id'].astype(int)\n",
    "data = data.reset_index().set_index(['gene_id','orf'])\n",
    "\n",
    "data.head()"
   ]
  },
  {
   "cell_type": "markdown",
   "metadata": {},
   "source": [
    "# Normalize"
   ]
  },
  {
   "cell_type": "code",
   "execution_count": 30,
   "metadata": {},
   "outputs": [],
   "source": [
    "data_norm = normalize_phenotypic_scores(data, has_tested=True)"
   ]
  },
  {
   "cell_type": "code",
   "execution_count": 31,
   "metadata": {},
   "outputs": [],
   "source": [
    "# Assign proper column names\n",
    "lst = [datasets.index.values, ['valuez']*datasets.shape[0]]\n",
    "tuples = list(zip(*lst))\n",
    "idx = pd.MultiIndex.from_tuples(tuples, names=['dataset_id','data_type'])\n",
    "data_norm.columns = idx"
   ]
  },
  {
   "cell_type": "code",
   "execution_count": 32,
   "metadata": {},
   "outputs": [
    {
     "data": {
      "text/html": [
       "<div>\n",
       "<style scoped>\n",
       "    .dataframe tbody tr th:only-of-type {\n",
       "        vertical-align: middle;\n",
       "    }\n",
       "\n",
       "    .dataframe tbody tr th {\n",
       "        vertical-align: top;\n",
       "    }\n",
       "\n",
       "    .dataframe thead tr th {\n",
       "        text-align: left;\n",
       "    }\n",
       "\n",
       "    .dataframe thead tr:last-of-type th {\n",
       "        text-align: right;\n",
       "    }\n",
       "</style>\n",
       "<table border=\"1\" class=\"dataframe\">\n",
       "  <thead>\n",
       "    <tr>\n",
       "      <th></th>\n",
       "      <th>dataset_id</th>\n",
       "      <th colspan=\"2\" halign=\"left\">515</th>\n",
       "    </tr>\n",
       "    <tr>\n",
       "      <th></th>\n",
       "      <th>data_type</th>\n",
       "      <th>value</th>\n",
       "      <th>valuez</th>\n",
       "    </tr>\n",
       "    <tr>\n",
       "      <th>gene_id</th>\n",
       "      <th>orf</th>\n",
       "      <th></th>\n",
       "      <th></th>\n",
       "    </tr>\n",
       "  </thead>\n",
       "  <tbody>\n",
       "    <tr>\n",
       "      <th>2</th>\n",
       "      <th>YAL002W</th>\n",
       "      <td>0.322576</td>\n",
       "      <td>-0.119306</td>\n",
       "    </tr>\n",
       "    <tr>\n",
       "      <th>1863</th>\n",
       "      <th>YAL004W</th>\n",
       "      <td>0.321099</td>\n",
       "      <td>-0.146495</td>\n",
       "    </tr>\n",
       "    <tr>\n",
       "      <th>4</th>\n",
       "      <th>YAL005C</th>\n",
       "      <td>0.260488</td>\n",
       "      <td>-1.261890</td>\n",
       "    </tr>\n",
       "    <tr>\n",
       "      <th>5</th>\n",
       "      <th>YAL007C</th>\n",
       "      <td>0.315864</td>\n",
       "      <td>-0.242832</td>\n",
       "    </tr>\n",
       "    <tr>\n",
       "      <th>6</th>\n",
       "      <th>YAL008W</th>\n",
       "      <td>0.366145</td>\n",
       "      <td>0.682484</td>\n",
       "    </tr>\n",
       "  </tbody>\n",
       "</table>\n",
       "</div>"
      ],
      "text/plain": [
       "dataset_id            515          \n",
       "data_type           value    valuez\n",
       "gene_id orf                        \n",
       "2       YAL002W  0.322576 -0.119306\n",
       "1863    YAL004W  0.321099 -0.146495\n",
       "4       YAL005C  0.260488 -1.261890\n",
       "5       YAL007C  0.315864 -0.242832\n",
       "6       YAL008W  0.366145  0.682484"
      ]
     },
     "execution_count": 32,
     "metadata": {},
     "output_type": "execute_result"
    }
   ],
   "source": [
    "data_norm[data.isnull()] = np.nan\n",
    "data_all = data.join(data_norm)\n",
    "\n",
    "data_all.head()"
   ]
  },
  {
   "cell_type": "markdown",
   "metadata": {},
   "source": [
    "# Print out"
   ]
  },
  {
   "cell_type": "code",
   "execution_count": 33,
   "metadata": {},
   "outputs": [],
   "source": [
    "for f in ['value','valuez']:\n",
    "    df = data_all.xs(f, level='data_type', axis=1).copy()\n",
    "    df.columns = datasets['name'].values\n",
    "    df = df.droplevel('gene_id', axis=0)\n",
    "    df.to_csv(paper_name + '_' + f + '.txt', sep='\\t')"
   ]
  },
  {
   "cell_type": "markdown",
   "metadata": {},
   "source": [
    "# Save to DB"
   ]
  },
  {
   "cell_type": "code",
   "execution_count": 34,
   "metadata": {},
   "outputs": [],
   "source": [
    "from IO.save_data_to_db3 import *"
   ]
  },
  {
   "cell_type": "code",
   "execution_count": 35,
   "metadata": {},
   "outputs": [
    {
     "name": "stderr",
     "output_type": "stream",
     "text": [
      "  0%|          | 0/1 [00:00<?, ?it/s]"
     ]
    },
    {
     "name": "stdout",
     "output_type": "stream",
     "text": [
      "Deleting all datasets for PMID 22438835...\n",
      "Inserting the new data...\n"
     ]
    },
    {
     "name": "stderr",
     "output_type": "stream",
     "text": [
      "100%|██████████| 1/1 [00:06<00:00,  6.96s/it]"
     ]
    },
    {
     "name": "stdout",
     "output_type": "stream",
     "text": [
      "Updating the data_modified_on field...\n"
     ]
    },
    {
     "name": "stderr",
     "output_type": "stream",
     "text": [
      "\n"
     ]
    }
   ],
   "source": [
    "save_data_to_db(data_all, paper_pmid)"
   ]
  },
  {
   "cell_type": "code",
   "execution_count": null,
   "metadata": {},
   "outputs": [],
   "source": []
  }
 ],
 "metadata": {
  "kernelspec": {
   "display_name": "yp-data",
   "language": "python",
   "name": "yp-data"
  },
  "language_info": {
   "codemirror_mode": {
    "name": "ipython",
    "version": 3
   },
   "file_extension": ".py",
   "mimetype": "text/x-python",
   "name": "python",
   "nbconvert_exporter": "python",
   "pygments_lexer": "ipython3",
   "version": "3.7.7"
  }
 },
 "nbformat": 4,
 "nbformat_minor": 4
}
