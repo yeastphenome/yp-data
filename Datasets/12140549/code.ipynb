{
 "cells": [
  {
   "cell_type": "code",
   "execution_count": 1,
   "metadata": {},
   "outputs": [],
   "source": [
    "%run ../../Utils/yp_utils.py"
   ]
  },
  {
   "cell_type": "markdown",
   "metadata": {},
   "source": [
    "# Initial setup"
   ]
  },
  {
   "cell_type": "code",
   "execution_count": 2,
   "metadata": {},
   "outputs": [],
   "source": [
    "paper_pmid = 12140549\n",
    "paper_name = 'giaever_johnston_2002' "
   ]
  },
  {
   "cell_type": "code",
   "execution_count": 3,
   "metadata": {},
   "outputs": [],
   "source": [
    "datasets = pd.read_csv('extras/YeastPhenome_' + str(paper_pmid) + '_datasets_list.txt', sep='\\t', header=None, names=['dataset_id', 'name'])"
   ]
  },
  {
   "cell_type": "code",
   "execution_count": 4,
   "metadata": {},
   "outputs": [],
   "source": [
    "datasets.set_index('dataset_id', inplace=True)"
   ]
  },
  {
   "cell_type": "code",
   "execution_count": 5,
   "metadata": {},
   "outputs": [
    {
     "data": {
      "text/plain": [
       "(22, 1)"
      ]
     },
     "execution_count": 5,
     "metadata": {},
     "output_type": "execute_result"
    }
   ],
   "source": [
    "datasets.shape"
   ]
  },
  {
   "cell_type": "markdown",
   "metadata": {},
   "source": [
    "# Load & process the data"
   ]
  },
  {
   "cell_type": "code",
   "execution_count": 6,
   "metadata": {},
   "outputs": [
    {
     "data": {
      "text/plain": [
       "62"
      ]
     },
     "execution_count": 6,
     "metadata": {},
     "output_type": "execute_result"
    }
   ],
   "source": [
    "data_files = [f for f in os.listdir('raw_data/') if f.endswith('.txt') and not f.startswith('ypd') and not f.startswith('Cell')]\n",
    "len(data_files)"
   ]
  },
  {
   "cell_type": "code",
   "execution_count": 7,
   "metadata": {},
   "outputs": [
    {
     "name": "stdout",
     "output_type": "stream",
     "text": [
      "0\n",
      "1\n",
      "2\n",
      "3\n",
      "4\n",
      "5\n",
      "6\n",
      "7\n",
      "8\n",
      "9\n",
      "10\n",
      "11\n",
      "12\n",
      "13\n",
      "14\n",
      "15\n",
      "16\n",
      "17\n",
      "18\n",
      "19\n",
      "20\n",
      "21\n",
      "22\n",
      "23\n",
      "24\n",
      "25\n",
      "26\n",
      "27\n",
      "28\n",
      "29\n",
      "30\n",
      "31\n",
      "32\n",
      "33\n",
      "34\n",
      "35\n",
      "36\n",
      "37\n",
      "38\n",
      "39\n",
      "40\n",
      "41\n",
      "42\n",
      "43\n",
      "44\n",
      "45\n",
      "46\n",
      "47\n",
      "48\n",
      "49\n",
      "50\n",
      "51\n",
      "52\n",
      "53\n",
      "54\n",
      "55\n",
      "56\n",
      "57\n",
      "58\n",
      "59\n",
      "60\n",
      "61\n"
     ]
    }
   ],
   "source": [
    "original_data_list = []\n",
    "original_data_experiment_list = []\n",
    "for ixf, f in enumerate(data_files):\n",
    "    print(ixf)\n",
    "    experiment_id = int(f.split('_')[0])\n",
    "    sign = -1 if f.split('_')[-1] == 'sen.txt' else 1\n",
    "    original_data = pd.read_csv('raw_data/' + f, header=None, sep='\\t')\n",
    "#     print('Original data dimensions: %d x %d' % (original_data.shape))\n",
    "#     print(original_data.head())\n",
    "    original_data['orf'] = original_data[0].astype(str)    \n",
    "    original_data['orf'] = clean_orf(original_data['orf'])\n",
    "    original_data['orf'] = translate_sc(original_data['orf'], to='orf')\n",
    "    t = looks_like_orf(original_data['orf'])\n",
    "#     print(original_data.loc[~t,])\n",
    "    \n",
    "    original_data.set_index('orf', inplace=True)\n",
    "    original_data['data'] = sign * pd.to_numeric(original_data[1], errors='coerce')\n",
    "    original_data = original_data[['data']].copy()\n",
    "    original_data = original_data.groupby(original_data.index).mean()\n",
    "    \n",
    "    original_data_list.append(original_data)\n",
    "    original_data_experiment_list.append(experiment_id)"
   ]
  },
  {
   "cell_type": "code",
   "execution_count": 8,
   "metadata": {},
   "outputs": [],
   "source": [
    "original_data = pd.concat(original_data_list, axis=1)"
   ]
  },
  {
   "cell_type": "code",
   "execution_count": 9,
   "metadata": {},
   "outputs": [],
   "source": [
    "original_data.columns = original_data_experiment_list"
   ]
  },
  {
   "cell_type": "code",
   "execution_count": 10,
   "metadata": {},
   "outputs": [
    {
     "data": {
      "text/plain": [
       "(4715, 62)"
      ]
     },
     "execution_count": 10,
     "metadata": {},
     "output_type": "execute_result"
    }
   ],
   "source": [
    "original_data.shape"
   ]
  },
  {
   "cell_type": "code",
   "execution_count": 11,
   "metadata": {},
   "outputs": [],
   "source": [
    "# Load dataset ids\n",
    "dt = pd.read_excel('raw_data/phenotype_mapping.xlsx', sheet_name='Sheet1')"
   ]
  },
  {
   "cell_type": "code",
   "execution_count": 12,
   "metadata": {},
   "outputs": [],
   "source": [
    "dt.set_index('Experiment', inplace=True)"
   ]
  },
  {
   "cell_type": "code",
   "execution_count": 13,
   "metadata": {},
   "outputs": [],
   "source": [
    "dt = dt.reindex(index=original_data_experiment_list)"
   ]
  },
  {
   "cell_type": "code",
   "execution_count": 14,
   "metadata": {},
   "outputs": [],
   "source": [
    "dataset_ids = dt['Dataset id'].values"
   ]
  },
  {
   "cell_type": "code",
   "execution_count": 15,
   "metadata": {},
   "outputs": [
    {
     "data": {
      "text/plain": [
       "array([720, 714, 723, 710, 710, 715, 719, 712, 711, 720, 718, 472, 722,\n",
       "       721, 718, 721, 713, 723, 714, 719, 712, 717, 713, 716, 722, 724,\n",
       "       717, 717, 472, 716, 715, 720, 716, 714, 723, 716, 713, 715, 719,\n",
       "       710, 710, 712, 718, 472, 722, 720, 718, 721, 721, 711, 714, 711,\n",
       "       723, 717, 712, 719, 724, 713, 722, 711, 715, 472])"
      ]
     },
     "execution_count": 15,
     "metadata": {},
     "output_type": "execute_result"
    }
   ],
   "source": [
    "dataset_ids"
   ]
  },
  {
   "cell_type": "code",
   "execution_count": 16,
   "metadata": {},
   "outputs": [],
   "source": [
    "original_data.columns = dataset_ids"
   ]
  },
  {
   "cell_type": "code",
   "execution_count": 17,
   "metadata": {},
   "outputs": [],
   "source": [
    "original_data = original_data.T\n",
    "original_data = original_data.groupby(original_data.index).mean()\n",
    "original_data = original_data.T"
   ]
  },
  {
   "cell_type": "code",
   "execution_count": 18,
   "metadata": {},
   "outputs": [
    {
     "data": {
      "text/plain": [
       "(4715, 16)"
      ]
     },
     "execution_count": 18,
     "metadata": {},
     "output_type": "execute_result"
    }
   ],
   "source": [
    "original_data.shape"
   ]
  },
  {
   "cell_type": "code",
   "execution_count": 19,
   "metadata": {},
   "outputs": [
    {
     "data": {
      "text/plain": [
       "472    4715\n",
       "710    4715\n",
       "711    4715\n",
       "712    4715\n",
       "713    4715\n",
       "714    4715\n",
       "715    4715\n",
       "716    4715\n",
       "717    4715\n",
       "718    4715\n",
       "719    4715\n",
       "720    4715\n",
       "721    4715\n",
       "722    4715\n",
       "723    4715\n",
       "724    4715\n",
       "dtype: int64"
      ]
     },
     "execution_count": 19,
     "metadata": {},
     "output_type": "execute_result"
    }
   ],
   "source": [
    "original_data.notnull().sum(axis=0)"
   ]
  },
  {
   "cell_type": "markdown",
   "metadata": {},
   "source": [
    "# Load data (2)"
   ]
  },
  {
   "cell_type": "code",
   "execution_count": 20,
   "metadata": {},
   "outputs": [],
   "source": [
    "ypd = pd.read_csv('raw_data/ypd.txt', sep='\\t')"
   ]
  },
  {
   "cell_type": "code",
   "execution_count": 21,
   "metadata": {},
   "outputs": [
    {
     "data": {
      "text/html": [
       "<div>\n",
       "<style scoped>\n",
       "    .dataframe tbody tr th:only-of-type {\n",
       "        vertical-align: middle;\n",
       "    }\n",
       "\n",
       "    .dataframe tbody tr th {\n",
       "        vertical-align: top;\n",
       "    }\n",
       "\n",
       "    .dataframe thead th {\n",
       "        text-align: right;\n",
       "    }\n",
       "</style>\n",
       "<table border=\"1\" class=\"dataframe\">\n",
       "  <thead>\n",
       "    <tr style=\"text-align: right;\">\n",
       "      <th></th>\n",
       "      <th>ORF</th>\n",
       "      <th>Gene</th>\n",
       "      <th>Average Ratio</th>\n",
       "      <th>Gene Description</th>\n",
       "    </tr>\n",
       "  </thead>\n",
       "  <tbody>\n",
       "    <tr>\n",
       "      <th>0</th>\n",
       "      <td>YNL138W</td>\n",
       "      <td>SRV2</td>\n",
       "      <td>30.6</td>\n",
       "      <td>70-kDa adenylyl cyclase-associated protein, cy...</td>\n",
       "    </tr>\n",
       "    <tr>\n",
       "      <th>1</th>\n",
       "      <td>YER070W</td>\n",
       "      <td>RNR1</td>\n",
       "      <td>22.3</td>\n",
       "      <td>ribonucleotide reductase, DNA replication, rib...</td>\n",
       "    </tr>\n",
       "    <tr>\n",
       "      <th>2</th>\n",
       "      <td>YNL054W</td>\n",
       "      <td>VAC7</td>\n",
       "      <td>21.0</td>\n",
       "      <td>Integral vacuolar membrane protein,molecular_f...</td>\n",
       "    </tr>\n",
       "    <tr>\n",
       "      <th>3</th>\n",
       "      <td>YFL023W</td>\n",
       "      <td>FYV11</td>\n",
       "      <td>20.9</td>\n",
       "      <td>biological_process unknown, molecular_function...</td>\n",
       "    </tr>\n",
       "    <tr>\n",
       "      <th>4</th>\n",
       "      <td>YBR200W</td>\n",
       "      <td>BEM1</td>\n",
       "      <td>20.3</td>\n",
       "      <td>contains two SH3 domains</td>\n",
       "    </tr>\n",
       "  </tbody>\n",
       "</table>\n",
       "</div>"
      ],
      "text/plain": [
       "       ORF   Gene  Average Ratio  \\\n",
       "0  YNL138W   SRV2           30.6   \n",
       "1  YER070W   RNR1           22.3   \n",
       "2  YNL054W   VAC7           21.0   \n",
       "3  YFL023W  FYV11           20.9   \n",
       "4  YBR200W   BEM1           20.3   \n",
       "\n",
       "                                    Gene Description  \n",
       "0  70-kDa adenylyl cyclase-associated protein, cy...  \n",
       "1  ribonucleotide reductase, DNA replication, rib...  \n",
       "2  Integral vacuolar membrane protein,molecular_f...  \n",
       "3  biological_process unknown, molecular_function...  \n",
       "4                           contains two SH3 domains  "
      ]
     },
     "execution_count": 21,
     "metadata": {},
     "output_type": "execute_result"
    }
   ],
   "source": [
    "ypd.head()"
   ]
  },
  {
   "cell_type": "code",
   "execution_count": 22,
   "metadata": {},
   "outputs": [
    {
     "name": "stdout",
     "output_type": "stream",
     "text": [
      "Empty DataFrame\n",
      "Columns: [ORF, Gene, Average Ratio, Gene Description, orf]\n",
      "Index: []\n"
     ]
    }
   ],
   "source": [
    "ypd['orf'] = ypd['ORF'].astype(str)    \n",
    "ypd['orf'] = clean_orf(ypd['orf'])\n",
    "ypd['orf'] = translate_sc(ypd['orf'], to='orf')\n",
    "t = looks_like_orf(ypd['orf'])\n",
    "print(ypd.loc[~t,])\n",
    "\n"
   ]
  },
  {
   "cell_type": "code",
   "execution_count": 23,
   "metadata": {},
   "outputs": [],
   "source": [
    "ypd.set_index('orf', inplace=True)\n",
    "ypd['data'] = -pd.to_numeric(ypd['Average Ratio'], errors='coerce')\n",
    "ypd = ypd[['data']].copy()\n",
    "ypd = ypd.groupby(ypd.index).mean()"
   ]
  },
  {
   "cell_type": "code",
   "execution_count": 24,
   "metadata": {},
   "outputs": [
    {
     "data": {
      "text/html": [
       "<div>\n",
       "<style scoped>\n",
       "    .dataframe tbody tr th:only-of-type {\n",
       "        vertical-align: middle;\n",
       "    }\n",
       "\n",
       "    .dataframe tbody tr th {\n",
       "        vertical-align: top;\n",
       "    }\n",
       "\n",
       "    .dataframe thead th {\n",
       "        text-align: right;\n",
       "    }\n",
       "</style>\n",
       "<table border=\"1\" class=\"dataframe\">\n",
       "  <thead>\n",
       "    <tr style=\"text-align: right;\">\n",
       "      <th></th>\n",
       "      <th>data</th>\n",
       "    </tr>\n",
       "    <tr>\n",
       "      <th>orf</th>\n",
       "      <th></th>\n",
       "    </tr>\n",
       "  </thead>\n",
       "  <tbody>\n",
       "    <tr>\n",
       "      <th>YAL010C</th>\n",
       "      <td>-3.8</td>\n",
       "    </tr>\n",
       "    <tr>\n",
       "      <th>YAL016W</th>\n",
       "      <td>-9.5</td>\n",
       "    </tr>\n",
       "    <tr>\n",
       "      <th>YAL021C</th>\n",
       "      <td>-3.1</td>\n",
       "    </tr>\n",
       "    <tr>\n",
       "      <th>YAL023C</th>\n",
       "      <td>-6.3</td>\n",
       "    </tr>\n",
       "    <tr>\n",
       "      <th>YAL035W</th>\n",
       "      <td>-5.2</td>\n",
       "    </tr>\n",
       "  </tbody>\n",
       "</table>\n",
       "</div>"
      ],
      "text/plain": [
       "         data\n",
       "orf          \n",
       "YAL010C  -3.8\n",
       "YAL016W  -9.5\n",
       "YAL021C  -3.1\n",
       "YAL023C  -6.3\n",
       "YAL035W  -5.2"
      ]
     },
     "execution_count": 24,
     "metadata": {},
     "output_type": "execute_result"
    }
   ],
   "source": [
    "ypd.head()"
   ]
  },
  {
   "cell_type": "code",
   "execution_count": 25,
   "metadata": {},
   "outputs": [],
   "source": [
    "ypd.columns = [16187]"
   ]
  },
  {
   "cell_type": "code",
   "execution_count": 26,
   "metadata": {},
   "outputs": [
    {
     "data": {
      "text/plain": [
       "(618, 1)"
      ]
     },
     "execution_count": 26,
     "metadata": {},
     "output_type": "execute_result"
    }
   ],
   "source": [
    "ypd.shape"
   ]
  },
  {
   "cell_type": "code",
   "execution_count": 27,
   "metadata": {},
   "outputs": [],
   "source": [
    "original_data2 = original_data.join(ypd, how='outer')"
   ]
  },
  {
   "cell_type": "code",
   "execution_count": 28,
   "metadata": {},
   "outputs": [
    {
     "data": {
      "text/plain": [
       "(4715, 17)"
      ]
     },
     "execution_count": 28,
     "metadata": {},
     "output_type": "execute_result"
    }
   ],
   "source": [
    "original_data2.shape"
   ]
  },
  {
   "cell_type": "code",
   "execution_count": 30,
   "metadata": {},
   "outputs": [],
   "source": [
    "# Set missing YPD values to 0\n",
    "original_data2.loc[original_data2[16187].isnull(), 16187] = 0"
   ]
  },
  {
   "cell_type": "markdown",
   "metadata": {},
   "source": [
    "# Load data (3)"
   ]
  },
  {
   "cell_type": "code",
   "execution_count": 31,
   "metadata": {},
   "outputs": [],
   "source": [
    "morph = pd.read_csv('raw_data/Cell_Morph_Screen_Table.txt', sep='\\t')"
   ]
  },
  {
   "cell_type": "code",
   "execution_count": 32,
   "metadata": {},
   "outputs": [
    {
     "data": {
      "text/html": [
       "<div>\n",
       "<style scoped>\n",
       "    .dataframe tbody tr th:only-of-type {\n",
       "        vertical-align: middle;\n",
       "    }\n",
       "\n",
       "    .dataframe tbody tr th {\n",
       "        vertical-align: top;\n",
       "    }\n",
       "\n",
       "    .dataframe thead th {\n",
       "        text-align: right;\n",
       "    }\n",
       "</style>\n",
       "<table border=\"1\" class=\"dataframe\">\n",
       "  <thead>\n",
       "    <tr style=\"text-align: right;\">\n",
       "      <th></th>\n",
       "      <th>ORF</th>\n",
       "      <th>strain background</th>\n",
       "      <th>Gene Names</th>\n",
       "      <th>Cell Shape Morphologies</th>\n",
       "    </tr>\n",
       "  </thead>\n",
       "  <tbody>\n",
       "    <tr>\n",
       "      <th>0</th>\n",
       "      <td>---------</td>\n",
       "      <td>------------------</td>\n",
       "      <td>----------------------------------</td>\n",
       "      <td>------------------------------------------------</td>\n",
       "    </tr>\n",
       "    <tr>\n",
       "      <th>1</th>\n",
       "      <td>YAL002W</td>\n",
       "      <td>homozygous diploid</td>\n",
       "      <td>VPS8, FUN15, VPT8</td>\n",
       "      <td>WT</td>\n",
       "    </tr>\n",
       "    <tr>\n",
       "      <th>2</th>\n",
       "      <td>YAL004W</td>\n",
       "      <td>homozygous diploid</td>\n",
       "      <td></td>\n",
       "      <td>WT</td>\n",
       "    </tr>\n",
       "    <tr>\n",
       "      <th>3</th>\n",
       "      <td>YAL005C</td>\n",
       "      <td>homozygous diploid</td>\n",
       "      <td>SSA1, YG100</td>\n",
       "      <td>WT</td>\n",
       "    </tr>\n",
       "    <tr>\n",
       "      <th>4</th>\n",
       "      <td>YAL007C</td>\n",
       "      <td>homozygous diploid</td>\n",
       "      <td>ERP2</td>\n",
       "      <td>WT</td>\n",
       "    </tr>\n",
       "  </tbody>\n",
       "</table>\n",
       "</div>"
      ],
      "text/plain": [
       "   ORF         strain background   Gene Names                          \\\n",
       "0  ---------   ------------------  ----------------------------------   \n",
       "1  YAL002W    homozygous diploid    VPS8, FUN15, VPT8                   \n",
       "2  YAL004W     homozygous diploid                                       \n",
       "3  YAL005C     homozygous diploid  SSA1, YG100                          \n",
       "4  YAL007C     homozygous diploid  ERP2                                 \n",
       "\n",
       "   Cell Shape Morphologies                           \n",
       "0  ------------------------------------------------  \n",
       "1  WT                                                \n",
       "2  WT                                                \n",
       "3  WT                                                \n",
       "4  WT                                                "
      ]
     },
     "execution_count": 32,
     "metadata": {},
     "output_type": "execute_result"
    }
   ],
   "source": [
    "morph.head()"
   ]
  },
  {
   "cell_type": "code",
   "execution_count": 33,
   "metadata": {},
   "outputs": [],
   "source": [
    "morph.columns = [c.strip() for c in morph.columns]"
   ]
  },
  {
   "cell_type": "code",
   "execution_count": 34,
   "metadata": {},
   "outputs": [
    {
     "name": "stdout",
     "output_type": "stream",
     "text": [
      "                   ORF   strain background  \\\n",
      "index_input                                  \n",
      "0            ---------  ------------------   \n",
      "3631          YMR41W    homozygous diploid   \n",
      "\n",
      "                                     Gene Names  \\\n",
      "index_input                                       \n",
      "0            ----------------------------------   \n",
      "3631                                              \n",
      "\n",
      "                                      Cell Shape Morphologies        orf  \n",
      "index_input                                                               \n",
      "0            ------------------------------------------------  ---------  \n",
      "3631         WT                                                   YMR41W  \n"
     ]
    }
   ],
   "source": [
    "morph['orf'] = morph['ORF'].astype(str)    \n",
    "morph['orf'] = clean_orf(morph['orf'])\n",
    "morph.loc[morph['orf']=='YELOO1C','orf'] = 'YEL001C'\n",
    "morph['orf'] = translate_sc(morph['orf'], to='orf')\n",
    "t = looks_like_orf(morph['orf'])\n",
    "print(morph.loc[~t,])\n",
    "morph = morph.loc[t,:]\n"
   ]
  },
  {
   "cell_type": "code",
   "execution_count": 35,
   "metadata": {},
   "outputs": [
    {
     "data": {
      "text/html": [
       "<div>\n",
       "<style scoped>\n",
       "    .dataframe tbody tr th:only-of-type {\n",
       "        vertical-align: middle;\n",
       "    }\n",
       "\n",
       "    .dataframe tbody tr th {\n",
       "        vertical-align: top;\n",
       "    }\n",
       "\n",
       "    .dataframe thead th {\n",
       "        text-align: right;\n",
       "    }\n",
       "</style>\n",
       "<table border=\"1\" class=\"dataframe\">\n",
       "  <thead>\n",
       "    <tr style=\"text-align: right;\">\n",
       "      <th></th>\n",
       "      <th>ORIGINAL</th>\n",
       "      <th>WHO</th>\n",
       "      <th>WHAT</th>\n",
       "      <th>WHERE</th>\n",
       "      <th>WHEN</th>\n",
       "      <th>HOW</th>\n",
       "      <th>COEFFICIENT</th>\n",
       "      <th>Dataset id</th>\n",
       "    </tr>\n",
       "  </thead>\n",
       "  <tbody>\n",
       "    <tr>\n",
       "      <th>0</th>\n",
       "      <td>Large</td>\n",
       "      <td>cells</td>\n",
       "      <td>size</td>\n",
       "      <td>NaN</td>\n",
       "      <td>in log phase</td>\n",
       "      <td>visual inspection</td>\n",
       "      <td>1</td>\n",
       "      <td>725</td>\n",
       "    </tr>\n",
       "    <tr>\n",
       "      <th>1</th>\n",
       "      <td>Small</td>\n",
       "      <td>cells</td>\n",
       "      <td>size</td>\n",
       "      <td>NaN</td>\n",
       "      <td>in log phase</td>\n",
       "      <td>visual inspection</td>\n",
       "      <td>-1</td>\n",
       "      <td>725</td>\n",
       "    </tr>\n",
       "    <tr>\n",
       "      <th>2</th>\n",
       "      <td>Elongate</td>\n",
       "      <td>cells</td>\n",
       "      <td>shape (elongate)</td>\n",
       "      <td>NaN</td>\n",
       "      <td>in log phase</td>\n",
       "      <td>visual inspection</td>\n",
       "      <td>1</td>\n",
       "      <td>726</td>\n",
       "    </tr>\n",
       "    <tr>\n",
       "      <th>3</th>\n",
       "      <td>Round</td>\n",
       "      <td>cells</td>\n",
       "      <td>shape (round)</td>\n",
       "      <td>NaN</td>\n",
       "      <td>in log phase</td>\n",
       "      <td>visual inspection</td>\n",
       "      <td>1</td>\n",
       "      <td>727</td>\n",
       "    </tr>\n",
       "    <tr>\n",
       "      <th>4</th>\n",
       "      <td>Football</td>\n",
       "      <td>cells</td>\n",
       "      <td>shape (football)</td>\n",
       "      <td>NaN</td>\n",
       "      <td>in log phase</td>\n",
       "      <td>visual inspection</td>\n",
       "      <td>1</td>\n",
       "      <td>729</td>\n",
       "    </tr>\n",
       "  </tbody>\n",
       "</table>\n",
       "</div>"
      ],
      "text/plain": [
       "   ORIGINAL    WHO              WHAT  WHERE          WHEN                HOW  \\\n",
       "0     Large  cells              size    NaN  in log phase  visual inspection   \n",
       "1     Small  cells              size    NaN  in log phase  visual inspection   \n",
       "2  Elongate  cells  shape (elongate)    NaN  in log phase  visual inspection   \n",
       "3     Round  cells     shape (round)    NaN  in log phase  visual inspection   \n",
       "4  Football  cells  shape (football)    NaN  in log phase  visual inspection   \n",
       "\n",
       "   COEFFICIENT  Dataset id  \n",
       "0            1         725  \n",
       "1           -1         725  \n",
       "2            1         726  \n",
       "3            1         727  \n",
       "4            1         729  "
      ]
     },
     "execution_count": 35,
     "metadata": {},
     "output_type": "execute_result"
    }
   ],
   "source": [
    "mp = pd.read_excel('raw_data/phenotype_mapping2.xlsx', sheet_name='Sheet1')\n",
    "mp.head()"
   ]
  },
  {
   "cell_type": "code",
   "execution_count": 36,
   "metadata": {},
   "outputs": [],
   "source": [
    "mp.set_index('ORIGINAL', inplace=True)"
   ]
  },
  {
   "cell_type": "code",
   "execution_count": 37,
   "metadata": {},
   "outputs": [],
   "source": [
    "for d in mp['Dataset id'].unique():\n",
    "    morph[d] = 0"
   ]
  },
  {
   "cell_type": "code",
   "execution_count": 38,
   "metadata": {},
   "outputs": [],
   "source": [
    "for ixr, row in morph.iterrows():\n",
    "    ps = [x.strip() for x in row['Cell Shape Morphologies'].split(';')]\n",
    "    \n",
    "    for p in ps:\n",
    "        parts = p.split(' ')\n",
    "        if len(parts) > 1:\n",
    "            ph = parts[0]\n",
    "            try:\n",
    "                score = int(parts[1])\n",
    "            except ValueError as e:\n",
    "                next\n",
    "    \n",
    "            if ph in mp.index.values:\n",
    "                morph.loc[ixr, mp.loc[ph,'Dataset id']] = score * mp.loc[ph, 'COEFFICIENT']"
   ]
  },
  {
   "cell_type": "code",
   "execution_count": 39,
   "metadata": {},
   "outputs": [],
   "source": [
    "morph.set_index('orf', inplace=True)\n",
    "morph = morph[[725, 726, 727, 729, 728]].copy()"
   ]
  },
  {
   "cell_type": "code",
   "execution_count": 40,
   "metadata": {},
   "outputs": [],
   "source": [
    "morph = morph.groupby(morph.index).mean()"
   ]
  },
  {
   "cell_type": "code",
   "execution_count": 41,
   "metadata": {},
   "outputs": [
    {
     "data": {
      "text/plain": [
       "725     -4.5\n",
       "726    377.0\n",
       "727    547.0\n",
       "729    286.0\n",
       "728     81.0\n",
       "dtype: float64"
      ]
     },
     "execution_count": 41,
     "metadata": {},
     "output_type": "execute_result"
    }
   ],
   "source": [
    "morph.sum(axis=0)"
   ]
  },
  {
   "cell_type": "code",
   "execution_count": 42,
   "metadata": {},
   "outputs": [],
   "source": [
    "original_data2 = original_data2.join(morph, how='outer')"
   ]
  },
  {
   "cell_type": "code",
   "execution_count": 43,
   "metadata": {},
   "outputs": [
    {
     "data": {
      "text/plain": [
       "(4759, 22)"
      ]
     },
     "execution_count": 43,
     "metadata": {},
     "output_type": "execute_result"
    }
   ],
   "source": [
    "original_data2.shape"
   ]
  },
  {
   "cell_type": "code",
   "execution_count": 44,
   "metadata": {},
   "outputs": [],
   "source": [
    "original_data2.index.name='orf'"
   ]
  },
  {
   "cell_type": "code",
   "execution_count": 45,
   "metadata": {},
   "outputs": [
    {
     "data": {
      "text/plain": [
       "Int64Index([  472,   710,   711,   712,   713,   714,   715,   716,   717,\n",
       "              718,   719,   720,   721,   722,   723,   724, 16187,   725,\n",
       "              726,   727,   729,   728],\n",
       "           dtype='int64')"
      ]
     },
     "execution_count": 45,
     "metadata": {},
     "output_type": "execute_result"
    }
   ],
   "source": [
    "original_data2.columns"
   ]
  },
  {
   "cell_type": "code",
   "execution_count": 46,
   "metadata": {},
   "outputs": [
    {
     "data": {
      "text/plain": [
       "472      4715\n",
       "710      4715\n",
       "711      4715\n",
       "712      4715\n",
       "713      4715\n",
       "714      4715\n",
       "715      4715\n",
       "716      4715\n",
       "717      4715\n",
       "718      4715\n",
       "719      4715\n",
       "720      4715\n",
       "721      4715\n",
       "722      4715\n",
       "723      4715\n",
       "724      4715\n",
       "16187    4715\n",
       "725      4726\n",
       "726      4726\n",
       "727      4726\n",
       "729      4726\n",
       "728      4726\n",
       "dtype: int64"
      ]
     },
     "execution_count": 46,
     "metadata": {},
     "output_type": "execute_result"
    }
   ],
   "source": [
    "original_data2.notnull().sum(axis=0)"
   ]
  },
  {
   "cell_type": "markdown",
   "metadata": {},
   "source": [
    "# Prepare the final dataset"
   ]
  },
  {
   "cell_type": "code",
   "execution_count": 47,
   "metadata": {},
   "outputs": [],
   "source": [
    "data = original_data2.copy()"
   ]
  },
  {
   "cell_type": "code",
   "execution_count": 48,
   "metadata": {},
   "outputs": [],
   "source": [
    "dataset_ids = original_data2.columns.values\n",
    "datasets = datasets.reindex(index=dataset_ids)"
   ]
  },
  {
   "cell_type": "code",
   "execution_count": 49,
   "metadata": {},
   "outputs": [],
   "source": [
    "lst = [datasets.index.values, ['value']*datasets.shape[0]]\n",
    "tuples = list(zip(*lst))\n",
    "idx = pd.MultiIndex.from_tuples(tuples, names=['dataset_id','data_type'])\n",
    "data.columns = idx"
   ]
  },
  {
   "cell_type": "code",
   "execution_count": 50,
   "metadata": {},
   "outputs": [
    {
     "data": {
      "text/html": [
       "<div>\n",
       "<style scoped>\n",
       "    .dataframe tbody tr th:only-of-type {\n",
       "        vertical-align: middle;\n",
       "    }\n",
       "\n",
       "    .dataframe tbody tr th {\n",
       "        vertical-align: top;\n",
       "    }\n",
       "\n",
       "    .dataframe thead tr th {\n",
       "        text-align: left;\n",
       "    }\n",
       "\n",
       "    .dataframe thead tr:last-of-type th {\n",
       "        text-align: right;\n",
       "    }\n",
       "</style>\n",
       "<table border=\"1\" class=\"dataframe\">\n",
       "  <thead>\n",
       "    <tr>\n",
       "      <th>dataset_id</th>\n",
       "      <th>472</th>\n",
       "      <th>710</th>\n",
       "      <th>711</th>\n",
       "      <th>712</th>\n",
       "      <th>713</th>\n",
       "      <th>714</th>\n",
       "      <th>715</th>\n",
       "      <th>716</th>\n",
       "      <th>717</th>\n",
       "      <th>718</th>\n",
       "      <th>...</th>\n",
       "      <th>721</th>\n",
       "      <th>722</th>\n",
       "      <th>723</th>\n",
       "      <th>724</th>\n",
       "      <th>16187</th>\n",
       "      <th>725</th>\n",
       "      <th>726</th>\n",
       "      <th>727</th>\n",
       "      <th>729</th>\n",
       "      <th>728</th>\n",
       "    </tr>\n",
       "    <tr>\n",
       "      <th>data_type</th>\n",
       "      <th>value</th>\n",
       "      <th>value</th>\n",
       "      <th>value</th>\n",
       "      <th>value</th>\n",
       "      <th>value</th>\n",
       "      <th>value</th>\n",
       "      <th>value</th>\n",
       "      <th>value</th>\n",
       "      <th>value</th>\n",
       "      <th>value</th>\n",
       "      <th>...</th>\n",
       "      <th>value</th>\n",
       "      <th>value</th>\n",
       "      <th>value</th>\n",
       "      <th>value</th>\n",
       "      <th>value</th>\n",
       "      <th>value</th>\n",
       "      <th>value</th>\n",
       "      <th>value</th>\n",
       "      <th>value</th>\n",
       "      <th>value</th>\n",
       "    </tr>\n",
       "    <tr>\n",
       "      <th>orf</th>\n",
       "      <th></th>\n",
       "      <th></th>\n",
       "      <th></th>\n",
       "      <th></th>\n",
       "      <th></th>\n",
       "      <th></th>\n",
       "      <th></th>\n",
       "      <th></th>\n",
       "      <th></th>\n",
       "      <th></th>\n",
       "      <th></th>\n",
       "      <th></th>\n",
       "      <th></th>\n",
       "      <th></th>\n",
       "      <th></th>\n",
       "      <th></th>\n",
       "      <th></th>\n",
       "      <th></th>\n",
       "      <th></th>\n",
       "      <th></th>\n",
       "      <th></th>\n",
       "    </tr>\n",
       "  </thead>\n",
       "  <tbody>\n",
       "    <tr>\n",
       "      <th>YAL002W</th>\n",
       "      <td>-32.692653</td>\n",
       "      <td>5.029054</td>\n",
       "      <td>-16.206715</td>\n",
       "      <td>-7.335546</td>\n",
       "      <td>32.626678</td>\n",
       "      <td>0.699607</td>\n",
       "      <td>5.608615</td>\n",
       "      <td>-1.852476</td>\n",
       "      <td>-1.461604</td>\n",
       "      <td>-3.859650</td>\n",
       "      <td>...</td>\n",
       "      <td>0.134520</td>\n",
       "      <td>0.848066</td>\n",
       "      <td>4.292242</td>\n",
       "      <td>-1.906391</td>\n",
       "      <td>0.0</td>\n",
       "      <td>0.0</td>\n",
       "      <td>0.0</td>\n",
       "      <td>0.0</td>\n",
       "      <td>0.0</td>\n",
       "      <td>0.0</td>\n",
       "    </tr>\n",
       "    <tr>\n",
       "      <th>YAL004W</th>\n",
       "      <td>-2.725167</td>\n",
       "      <td>4.471172</td>\n",
       "      <td>-3.277725</td>\n",
       "      <td>-46.122972</td>\n",
       "      <td>-23.488141</td>\n",
       "      <td>-3.093093</td>\n",
       "      <td>-1.130027</td>\n",
       "      <td>2.401893</td>\n",
       "      <td>0.168420</td>\n",
       "      <td>2.882906</td>\n",
       "      <td>...</td>\n",
       "      <td>3.581689</td>\n",
       "      <td>3.421117</td>\n",
       "      <td>5.179082</td>\n",
       "      <td>-1.715363</td>\n",
       "      <td>0.0</td>\n",
       "      <td>0.0</td>\n",
       "      <td>0.0</td>\n",
       "      <td>0.0</td>\n",
       "      <td>0.0</td>\n",
       "      <td>0.0</td>\n",
       "    </tr>\n",
       "    <tr>\n",
       "      <th>YAL005C</th>\n",
       "      <td>-1.686238</td>\n",
       "      <td>-1.919843</td>\n",
       "      <td>-2.191420</td>\n",
       "      <td>-0.105042</td>\n",
       "      <td>-2.285902</td>\n",
       "      <td>-0.131624</td>\n",
       "      <td>0.337556</td>\n",
       "      <td>-2.694712</td>\n",
       "      <td>-0.520130</td>\n",
       "      <td>-0.733481</td>\n",
       "      <td>...</td>\n",
       "      <td>0.480521</td>\n",
       "      <td>0.692410</td>\n",
       "      <td>0.073457</td>\n",
       "      <td>1.107479</td>\n",
       "      <td>0.0</td>\n",
       "      <td>0.0</td>\n",
       "      <td>0.0</td>\n",
       "      <td>0.0</td>\n",
       "      <td>0.0</td>\n",
       "      <td>0.0</td>\n",
       "    </tr>\n",
       "    <tr>\n",
       "      <th>YAL007C</th>\n",
       "      <td>0.077490</td>\n",
       "      <td>-2.840667</td>\n",
       "      <td>-1.996056</td>\n",
       "      <td>-4.411874</td>\n",
       "      <td>-1.079484</td>\n",
       "      <td>0.187968</td>\n",
       "      <td>0.681174</td>\n",
       "      <td>-2.742676</td>\n",
       "      <td>2.415878</td>\n",
       "      <td>0.053325</td>\n",
       "      <td>...</td>\n",
       "      <td>0.771273</td>\n",
       "      <td>1.262348</td>\n",
       "      <td>-2.487375</td>\n",
       "      <td>2.720904</td>\n",
       "      <td>0.0</td>\n",
       "      <td>0.0</td>\n",
       "      <td>0.0</td>\n",
       "      <td>0.0</td>\n",
       "      <td>0.0</td>\n",
       "      <td>0.0</td>\n",
       "    </tr>\n",
       "    <tr>\n",
       "      <th>YAL008W</th>\n",
       "      <td>0.870972</td>\n",
       "      <td>0.990254</td>\n",
       "      <td>-2.301183</td>\n",
       "      <td>-14.160435</td>\n",
       "      <td>-9.156816</td>\n",
       "      <td>-1.376510</td>\n",
       "      <td>0.458605</td>\n",
       "      <td>-14.712105</td>\n",
       "      <td>-5.781510</td>\n",
       "      <td>-8.503072</td>\n",
       "      <td>...</td>\n",
       "      <td>0.551308</td>\n",
       "      <td>0.500345</td>\n",
       "      <td>-1.120764</td>\n",
       "      <td>2.390691</td>\n",
       "      <td>0.0</td>\n",
       "      <td>0.0</td>\n",
       "      <td>0.0</td>\n",
       "      <td>0.0</td>\n",
       "      <td>0.0</td>\n",
       "      <td>0.0</td>\n",
       "    </tr>\n",
       "  </tbody>\n",
       "</table>\n",
       "<p>5 rows × 22 columns</p>\n",
       "</div>"
      ],
      "text/plain": [
       "dataset_id      472       710        711        712        713       714    \\\n",
       "data_type       value     value      value      value      value     value   \n",
       "orf                                                                          \n",
       "YAL002W    -32.692653  5.029054 -16.206715  -7.335546  32.626678  0.699607   \n",
       "YAL004W     -2.725167  4.471172  -3.277725 -46.122972 -23.488141 -3.093093   \n",
       "YAL005C     -1.686238 -1.919843  -2.191420  -0.105042  -2.285902 -0.131624   \n",
       "YAL007C      0.077490 -2.840667  -1.996056  -4.411874  -1.079484  0.187968   \n",
       "YAL008W      0.870972  0.990254  -2.301183 -14.160435  -9.156816 -1.376510   \n",
       "\n",
       "dataset_id     715        716       717       718    ...     721       722    \\\n",
       "data_type      value      value     value     value  ...     value     value   \n",
       "orf                                                  ...                       \n",
       "YAL002W     5.608615  -1.852476 -1.461604 -3.859650  ...  0.134520  0.848066   \n",
       "YAL004W    -1.130027   2.401893  0.168420  2.882906  ...  3.581689  3.421117   \n",
       "YAL005C     0.337556  -2.694712 -0.520130 -0.733481  ...  0.480521  0.692410   \n",
       "YAL007C     0.681174  -2.742676  2.415878  0.053325  ...  0.771273  1.262348   \n",
       "YAL008W     0.458605 -14.712105 -5.781510 -8.503072  ...  0.551308  0.500345   \n",
       "\n",
       "dataset_id     723       724   16187 725   726   727   729   728    \n",
       "data_type      value     value value value value value value value  \n",
       "orf                                                                 \n",
       "YAL002W     4.292242 -1.906391   0.0   0.0   0.0   0.0   0.0   0.0  \n",
       "YAL004W     5.179082 -1.715363   0.0   0.0   0.0   0.0   0.0   0.0  \n",
       "YAL005C     0.073457  1.107479   0.0   0.0   0.0   0.0   0.0   0.0  \n",
       "YAL007C    -2.487375  2.720904   0.0   0.0   0.0   0.0   0.0   0.0  \n",
       "YAL008W    -1.120764  2.390691   0.0   0.0   0.0   0.0   0.0   0.0  \n",
       "\n",
       "[5 rows x 22 columns]"
      ]
     },
     "execution_count": 50,
     "metadata": {},
     "output_type": "execute_result"
    }
   ],
   "source": [
    "data.head()"
   ]
  },
  {
   "cell_type": "markdown",
   "metadata": {},
   "source": [
    "## Subset to the genes currently in SGD"
   ]
  },
  {
   "cell_type": "code",
   "execution_count": 51,
   "metadata": {},
   "outputs": [
    {
     "name": "stdout",
     "output_type": "stream",
     "text": [
      "ORFs missing from SGD: 27\n"
     ]
    }
   ],
   "source": [
    "genes = pd.read_csv(path_to_genes, sep='\\t', index_col='id')\n",
    "genes = genes.reset_index().set_index('systematic_name')\n",
    "gene_ids = genes.reindex(index=data.index.values)['id'].values\n",
    "num_missing = np.sum(np.isnan(gene_ids))\n",
    "print('ORFs missing from SGD: %d' % num_missing)"
   ]
  },
  {
   "cell_type": "code",
   "execution_count": 52,
   "metadata": {},
   "outputs": [
    {
     "data": {
      "text/html": [
       "<div>\n",
       "<style scoped>\n",
       "    .dataframe tbody tr th:only-of-type {\n",
       "        vertical-align: middle;\n",
       "    }\n",
       "\n",
       "    .dataframe tbody tr th {\n",
       "        vertical-align: top;\n",
       "    }\n",
       "\n",
       "    .dataframe thead tr th {\n",
       "        text-align: left;\n",
       "    }\n",
       "\n",
       "    .dataframe thead tr:last-of-type th {\n",
       "        text-align: right;\n",
       "    }\n",
       "</style>\n",
       "<table border=\"1\" class=\"dataframe\">\n",
       "  <thead>\n",
       "    <tr>\n",
       "      <th></th>\n",
       "      <th>dataset_id</th>\n",
       "      <th>472</th>\n",
       "      <th>710</th>\n",
       "      <th>711</th>\n",
       "      <th>712</th>\n",
       "      <th>713</th>\n",
       "      <th>714</th>\n",
       "      <th>715</th>\n",
       "      <th>716</th>\n",
       "      <th>717</th>\n",
       "      <th>718</th>\n",
       "      <th>...</th>\n",
       "      <th>721</th>\n",
       "      <th>722</th>\n",
       "      <th>723</th>\n",
       "      <th>724</th>\n",
       "      <th>16187</th>\n",
       "      <th>725</th>\n",
       "      <th>726</th>\n",
       "      <th>727</th>\n",
       "      <th>729</th>\n",
       "      <th>728</th>\n",
       "    </tr>\n",
       "    <tr>\n",
       "      <th></th>\n",
       "      <th>data_type</th>\n",
       "      <th>value</th>\n",
       "      <th>value</th>\n",
       "      <th>value</th>\n",
       "      <th>value</th>\n",
       "      <th>value</th>\n",
       "      <th>value</th>\n",
       "      <th>value</th>\n",
       "      <th>value</th>\n",
       "      <th>value</th>\n",
       "      <th>value</th>\n",
       "      <th>...</th>\n",
       "      <th>value</th>\n",
       "      <th>value</th>\n",
       "      <th>value</th>\n",
       "      <th>value</th>\n",
       "      <th>value</th>\n",
       "      <th>value</th>\n",
       "      <th>value</th>\n",
       "      <th>value</th>\n",
       "      <th>value</th>\n",
       "      <th>value</th>\n",
       "    </tr>\n",
       "    <tr>\n",
       "      <th>gene_id</th>\n",
       "      <th>orf</th>\n",
       "      <th></th>\n",
       "      <th></th>\n",
       "      <th></th>\n",
       "      <th></th>\n",
       "      <th></th>\n",
       "      <th></th>\n",
       "      <th></th>\n",
       "      <th></th>\n",
       "      <th></th>\n",
       "      <th></th>\n",
       "      <th></th>\n",
       "      <th></th>\n",
       "      <th></th>\n",
       "      <th></th>\n",
       "      <th></th>\n",
       "      <th></th>\n",
       "      <th></th>\n",
       "      <th></th>\n",
       "      <th></th>\n",
       "      <th></th>\n",
       "      <th></th>\n",
       "    </tr>\n",
       "  </thead>\n",
       "  <tbody>\n",
       "    <tr>\n",
       "      <th>2</th>\n",
       "      <th>YAL002W</th>\n",
       "      <td>-32.692653</td>\n",
       "      <td>5.029054</td>\n",
       "      <td>-16.206715</td>\n",
       "      <td>-7.335546</td>\n",
       "      <td>32.626678</td>\n",
       "      <td>0.699607</td>\n",
       "      <td>5.608615</td>\n",
       "      <td>-1.852476</td>\n",
       "      <td>-1.461604</td>\n",
       "      <td>-3.859650</td>\n",
       "      <td>...</td>\n",
       "      <td>0.134520</td>\n",
       "      <td>0.848066</td>\n",
       "      <td>4.292242</td>\n",
       "      <td>-1.906391</td>\n",
       "      <td>0.0</td>\n",
       "      <td>0.0</td>\n",
       "      <td>0.0</td>\n",
       "      <td>0.0</td>\n",
       "      <td>0.0</td>\n",
       "      <td>0.0</td>\n",
       "    </tr>\n",
       "    <tr>\n",
       "      <th>1863</th>\n",
       "      <th>YAL004W</th>\n",
       "      <td>-2.725167</td>\n",
       "      <td>4.471172</td>\n",
       "      <td>-3.277725</td>\n",
       "      <td>-46.122972</td>\n",
       "      <td>-23.488141</td>\n",
       "      <td>-3.093093</td>\n",
       "      <td>-1.130027</td>\n",
       "      <td>2.401893</td>\n",
       "      <td>0.168420</td>\n",
       "      <td>2.882906</td>\n",
       "      <td>...</td>\n",
       "      <td>3.581689</td>\n",
       "      <td>3.421117</td>\n",
       "      <td>5.179082</td>\n",
       "      <td>-1.715363</td>\n",
       "      <td>0.0</td>\n",
       "      <td>0.0</td>\n",
       "      <td>0.0</td>\n",
       "      <td>0.0</td>\n",
       "      <td>0.0</td>\n",
       "      <td>0.0</td>\n",
       "    </tr>\n",
       "    <tr>\n",
       "      <th>4</th>\n",
       "      <th>YAL005C</th>\n",
       "      <td>-1.686238</td>\n",
       "      <td>-1.919843</td>\n",
       "      <td>-2.191420</td>\n",
       "      <td>-0.105042</td>\n",
       "      <td>-2.285902</td>\n",
       "      <td>-0.131624</td>\n",
       "      <td>0.337556</td>\n",
       "      <td>-2.694712</td>\n",
       "      <td>-0.520130</td>\n",
       "      <td>-0.733481</td>\n",
       "      <td>...</td>\n",
       "      <td>0.480521</td>\n",
       "      <td>0.692410</td>\n",
       "      <td>0.073457</td>\n",
       "      <td>1.107479</td>\n",
       "      <td>0.0</td>\n",
       "      <td>0.0</td>\n",
       "      <td>0.0</td>\n",
       "      <td>0.0</td>\n",
       "      <td>0.0</td>\n",
       "      <td>0.0</td>\n",
       "    </tr>\n",
       "    <tr>\n",
       "      <th>5</th>\n",
       "      <th>YAL007C</th>\n",
       "      <td>0.077490</td>\n",
       "      <td>-2.840667</td>\n",
       "      <td>-1.996056</td>\n",
       "      <td>-4.411874</td>\n",
       "      <td>-1.079484</td>\n",
       "      <td>0.187968</td>\n",
       "      <td>0.681174</td>\n",
       "      <td>-2.742676</td>\n",
       "      <td>2.415878</td>\n",
       "      <td>0.053325</td>\n",
       "      <td>...</td>\n",
       "      <td>0.771273</td>\n",
       "      <td>1.262348</td>\n",
       "      <td>-2.487375</td>\n",
       "      <td>2.720904</td>\n",
       "      <td>0.0</td>\n",
       "      <td>0.0</td>\n",
       "      <td>0.0</td>\n",
       "      <td>0.0</td>\n",
       "      <td>0.0</td>\n",
       "      <td>0.0</td>\n",
       "    </tr>\n",
       "    <tr>\n",
       "      <th>6</th>\n",
       "      <th>YAL008W</th>\n",
       "      <td>0.870972</td>\n",
       "      <td>0.990254</td>\n",
       "      <td>-2.301183</td>\n",
       "      <td>-14.160435</td>\n",
       "      <td>-9.156816</td>\n",
       "      <td>-1.376510</td>\n",
       "      <td>0.458605</td>\n",
       "      <td>-14.712105</td>\n",
       "      <td>-5.781510</td>\n",
       "      <td>-8.503072</td>\n",
       "      <td>...</td>\n",
       "      <td>0.551308</td>\n",
       "      <td>0.500345</td>\n",
       "      <td>-1.120764</td>\n",
       "      <td>2.390691</td>\n",
       "      <td>0.0</td>\n",
       "      <td>0.0</td>\n",
       "      <td>0.0</td>\n",
       "      <td>0.0</td>\n",
       "      <td>0.0</td>\n",
       "      <td>0.0</td>\n",
       "    </tr>\n",
       "  </tbody>\n",
       "</table>\n",
       "<p>5 rows × 22 columns</p>\n",
       "</div>"
      ],
      "text/plain": [
       "dataset_id           472       710        711        712        713    \\\n",
       "data_type            value     value      value      value      value   \n",
       "gene_id orf                                                             \n",
       "2       YAL002W -32.692653  5.029054 -16.206715  -7.335546  32.626678   \n",
       "1863    YAL004W  -2.725167  4.471172  -3.277725 -46.122972 -23.488141   \n",
       "4       YAL005C  -1.686238 -1.919843  -2.191420  -0.105042  -2.285902   \n",
       "5       YAL007C   0.077490 -2.840667  -1.996056  -4.411874  -1.079484   \n",
       "6       YAL008W   0.870972  0.990254  -2.301183 -14.160435  -9.156816   \n",
       "\n",
       "dataset_id          714       715        716       717       718    ...  \\\n",
       "data_type           value     value      value     value     value  ...   \n",
       "gene_id orf                                                         ...   \n",
       "2       YAL002W  0.699607  5.608615  -1.852476 -1.461604 -3.859650  ...   \n",
       "1863    YAL004W -3.093093 -1.130027   2.401893  0.168420  2.882906  ...   \n",
       "4       YAL005C -0.131624  0.337556  -2.694712 -0.520130 -0.733481  ...   \n",
       "5       YAL007C  0.187968  0.681174  -2.742676  2.415878  0.053325  ...   \n",
       "6       YAL008W -1.376510  0.458605 -14.712105 -5.781510 -8.503072  ...   \n",
       "\n",
       "dataset_id          721       722       723       724   16187 725   726    \\\n",
       "data_type           value     value     value     value value value value   \n",
       "gene_id orf                                                                 \n",
       "2       YAL002W  0.134520  0.848066  4.292242 -1.906391   0.0   0.0   0.0   \n",
       "1863    YAL004W  3.581689  3.421117  5.179082 -1.715363   0.0   0.0   0.0   \n",
       "4       YAL005C  0.480521  0.692410  0.073457  1.107479   0.0   0.0   0.0   \n",
       "5       YAL007C  0.771273  1.262348 -2.487375  2.720904   0.0   0.0   0.0   \n",
       "6       YAL008W  0.551308  0.500345 -1.120764  2.390691   0.0   0.0   0.0   \n",
       "\n",
       "dataset_id      727   729   728    \n",
       "data_type       value value value  \n",
       "gene_id orf                        \n",
       "2       YAL002W   0.0   0.0   0.0  \n",
       "1863    YAL004W   0.0   0.0   0.0  \n",
       "4       YAL005C   0.0   0.0   0.0  \n",
       "5       YAL007C   0.0   0.0   0.0  \n",
       "6       YAL008W   0.0   0.0   0.0  \n",
       "\n",
       "[5 rows x 22 columns]"
      ]
     },
     "execution_count": 52,
     "metadata": {},
     "output_type": "execute_result"
    }
   ],
   "source": [
    "data['gene_id'] = gene_ids\n",
    "data = data.loc[data['gene_id'].notnull()]\n",
    "data['gene_id'] = data['gene_id'].astype(int)\n",
    "data = data.reset_index().set_index(['gene_id','orf'])\n",
    "\n",
    "data.head()"
   ]
  },
  {
   "cell_type": "markdown",
   "metadata": {},
   "source": [
    "# Normalize"
   ]
  },
  {
   "cell_type": "code",
   "execution_count": 53,
   "metadata": {},
   "outputs": [],
   "source": [
    "data_norm = normalize_phenotypic_scores(data, has_tested=True)"
   ]
  },
  {
   "cell_type": "code",
   "execution_count": 54,
   "metadata": {},
   "outputs": [],
   "source": [
    "# Assign proper column names\n",
    "lst = [datasets.index.values, ['valuez']*datasets.shape[0]]\n",
    "tuples = list(zip(*lst))\n",
    "idx = pd.MultiIndex.from_tuples(tuples, names=['dataset_id','data_type'])\n",
    "data_norm.columns = idx"
   ]
  },
  {
   "cell_type": "code",
   "execution_count": 55,
   "metadata": {},
   "outputs": [
    {
     "data": {
      "text/html": [
       "<div>\n",
       "<style scoped>\n",
       "    .dataframe tbody tr th:only-of-type {\n",
       "        vertical-align: middle;\n",
       "    }\n",
       "\n",
       "    .dataframe tbody tr th {\n",
       "        vertical-align: top;\n",
       "    }\n",
       "\n",
       "    .dataframe thead tr th {\n",
       "        text-align: left;\n",
       "    }\n",
       "\n",
       "    .dataframe thead tr:last-of-type th {\n",
       "        text-align: right;\n",
       "    }\n",
       "</style>\n",
       "<table border=\"1\" class=\"dataframe\">\n",
       "  <thead>\n",
       "    <tr>\n",
       "      <th></th>\n",
       "      <th>dataset_id</th>\n",
       "      <th>472</th>\n",
       "      <th>710</th>\n",
       "      <th>711</th>\n",
       "      <th>712</th>\n",
       "      <th>713</th>\n",
       "      <th>714</th>\n",
       "      <th>715</th>\n",
       "      <th>716</th>\n",
       "      <th>717</th>\n",
       "      <th>718</th>\n",
       "      <th>...</th>\n",
       "      <th>721</th>\n",
       "      <th>722</th>\n",
       "      <th>723</th>\n",
       "      <th>724</th>\n",
       "      <th>16187</th>\n",
       "      <th>725</th>\n",
       "      <th>726</th>\n",
       "      <th>727</th>\n",
       "      <th>729</th>\n",
       "      <th>728</th>\n",
       "    </tr>\n",
       "    <tr>\n",
       "      <th></th>\n",
       "      <th>data_type</th>\n",
       "      <th>value</th>\n",
       "      <th>value</th>\n",
       "      <th>value</th>\n",
       "      <th>value</th>\n",
       "      <th>value</th>\n",
       "      <th>value</th>\n",
       "      <th>value</th>\n",
       "      <th>value</th>\n",
       "      <th>value</th>\n",
       "      <th>value</th>\n",
       "      <th>...</th>\n",
       "      <th>valuez</th>\n",
       "      <th>valuez</th>\n",
       "      <th>valuez</th>\n",
       "      <th>valuez</th>\n",
       "      <th>valuez</th>\n",
       "      <th>valuez</th>\n",
       "      <th>valuez</th>\n",
       "      <th>valuez</th>\n",
       "      <th>valuez</th>\n",
       "      <th>valuez</th>\n",
       "    </tr>\n",
       "    <tr>\n",
       "      <th>gene_id</th>\n",
       "      <th>orf</th>\n",
       "      <th></th>\n",
       "      <th></th>\n",
       "      <th></th>\n",
       "      <th></th>\n",
       "      <th></th>\n",
       "      <th></th>\n",
       "      <th></th>\n",
       "      <th></th>\n",
       "      <th></th>\n",
       "      <th></th>\n",
       "      <th></th>\n",
       "      <th></th>\n",
       "      <th></th>\n",
       "      <th></th>\n",
       "      <th></th>\n",
       "      <th></th>\n",
       "      <th></th>\n",
       "      <th></th>\n",
       "      <th></th>\n",
       "      <th></th>\n",
       "      <th></th>\n",
       "    </tr>\n",
       "  </thead>\n",
       "  <tbody>\n",
       "    <tr>\n",
       "      <th>2</th>\n",
       "      <th>YAL002W</th>\n",
       "      <td>-32.692653</td>\n",
       "      <td>5.029054</td>\n",
       "      <td>-16.206715</td>\n",
       "      <td>-7.335546</td>\n",
       "      <td>32.626678</td>\n",
       "      <td>0.699607</td>\n",
       "      <td>5.608615</td>\n",
       "      <td>-1.852476</td>\n",
       "      <td>-1.461604</td>\n",
       "      <td>-3.859650</td>\n",
       "      <td>...</td>\n",
       "      <td>-0.044276</td>\n",
       "      <td>-0.041177</td>\n",
       "      <td>0.320699</td>\n",
       "      <td>0.128168</td>\n",
       "      <td>0.0</td>\n",
       "      <td>-0.059673</td>\n",
       "      <td>0.0</td>\n",
       "      <td>0.0</td>\n",
       "      <td>0.0</td>\n",
       "      <td>0.0</td>\n",
       "    </tr>\n",
       "    <tr>\n",
       "      <th>1863</th>\n",
       "      <th>YAL004W</th>\n",
       "      <td>-2.725167</td>\n",
       "      <td>4.471172</td>\n",
       "      <td>-3.277725</td>\n",
       "      <td>-46.122972</td>\n",
       "      <td>-23.488141</td>\n",
       "      <td>-3.093093</td>\n",
       "      <td>-1.130027</td>\n",
       "      <td>2.401893</td>\n",
       "      <td>0.168420</td>\n",
       "      <td>2.882906</td>\n",
       "      <td>...</td>\n",
       "      <td>0.271315</td>\n",
       "      <td>0.163301</td>\n",
       "      <td>0.382314</td>\n",
       "      <td>0.143625</td>\n",
       "      <td>0.0</td>\n",
       "      <td>-0.059673</td>\n",
       "      <td>0.0</td>\n",
       "      <td>0.0</td>\n",
       "      <td>0.0</td>\n",
       "      <td>0.0</td>\n",
       "    </tr>\n",
       "    <tr>\n",
       "      <th>4</th>\n",
       "      <th>YAL005C</th>\n",
       "      <td>-1.686238</td>\n",
       "      <td>-1.919843</td>\n",
       "      <td>-2.191420</td>\n",
       "      <td>-0.105042</td>\n",
       "      <td>-2.285902</td>\n",
       "      <td>-0.131624</td>\n",
       "      <td>0.337556</td>\n",
       "      <td>-2.694712</td>\n",
       "      <td>-0.520130</td>\n",
       "      <td>-0.733481</td>\n",
       "      <td>...</td>\n",
       "      <td>-0.012600</td>\n",
       "      <td>-0.053547</td>\n",
       "      <td>0.027588</td>\n",
       "      <td>0.372038</td>\n",
       "      <td>0.0</td>\n",
       "      <td>-0.059673</td>\n",
       "      <td>0.0</td>\n",
       "      <td>0.0</td>\n",
       "      <td>0.0</td>\n",
       "      <td>0.0</td>\n",
       "    </tr>\n",
       "    <tr>\n",
       "      <th>5</th>\n",
       "      <th>YAL007C</th>\n",
       "      <td>0.077490</td>\n",
       "      <td>-2.840667</td>\n",
       "      <td>-1.996056</td>\n",
       "      <td>-4.411874</td>\n",
       "      <td>-1.079484</td>\n",
       "      <td>0.187968</td>\n",
       "      <td>0.681174</td>\n",
       "      <td>-2.742676</td>\n",
       "      <td>2.415878</td>\n",
       "      <td>0.053325</td>\n",
       "      <td>...</td>\n",
       "      <td>0.014019</td>\n",
       "      <td>-0.008254</td>\n",
       "      <td>-0.150332</td>\n",
       "      <td>0.502589</td>\n",
       "      <td>0.0</td>\n",
       "      <td>-0.059673</td>\n",
       "      <td>0.0</td>\n",
       "      <td>0.0</td>\n",
       "      <td>0.0</td>\n",
       "      <td>0.0</td>\n",
       "    </tr>\n",
       "    <tr>\n",
       "      <th>6</th>\n",
       "      <th>YAL008W</th>\n",
       "      <td>0.870972</td>\n",
       "      <td>0.990254</td>\n",
       "      <td>-2.301183</td>\n",
       "      <td>-14.160435</td>\n",
       "      <td>-9.156816</td>\n",
       "      <td>-1.376510</td>\n",
       "      <td>0.458605</td>\n",
       "      <td>-14.712105</td>\n",
       "      <td>-5.781510</td>\n",
       "      <td>-8.503072</td>\n",
       "      <td>...</td>\n",
       "      <td>-0.006119</td>\n",
       "      <td>-0.068810</td>\n",
       "      <td>-0.055383</td>\n",
       "      <td>0.475870</td>\n",
       "      <td>0.0</td>\n",
       "      <td>-0.059673</td>\n",
       "      <td>0.0</td>\n",
       "      <td>0.0</td>\n",
       "      <td>0.0</td>\n",
       "      <td>0.0</td>\n",
       "    </tr>\n",
       "  </tbody>\n",
       "</table>\n",
       "<p>5 rows × 44 columns</p>\n",
       "</div>"
      ],
      "text/plain": [
       "dataset_id           472       710        711        712        713    \\\n",
       "data_type            value     value      value      value      value   \n",
       "gene_id orf                                                             \n",
       "2       YAL002W -32.692653  5.029054 -16.206715  -7.335546  32.626678   \n",
       "1863    YAL004W  -2.725167  4.471172  -3.277725 -46.122972 -23.488141   \n",
       "4       YAL005C  -1.686238 -1.919843  -2.191420  -0.105042  -2.285902   \n",
       "5       YAL007C   0.077490 -2.840667  -1.996056  -4.411874  -1.079484   \n",
       "6       YAL008W   0.870972  0.990254  -2.301183 -14.160435  -9.156816   \n",
       "\n",
       "dataset_id          714       715        716       717       718    ...  \\\n",
       "data_type           value     value      value     value     value  ...   \n",
       "gene_id orf                                                         ...   \n",
       "2       YAL002W  0.699607  5.608615  -1.852476 -1.461604 -3.859650  ...   \n",
       "1863    YAL004W -3.093093 -1.130027   2.401893  0.168420  2.882906  ...   \n",
       "4       YAL005C -0.131624  0.337556  -2.694712 -0.520130 -0.733481  ...   \n",
       "5       YAL007C  0.187968  0.681174  -2.742676  2.415878  0.053325  ...   \n",
       "6       YAL008W -1.376510  0.458605 -14.712105 -5.781510 -8.503072  ...   \n",
       "\n",
       "dataset_id          721       722       723       724    16187     725    \\\n",
       "data_type          valuez    valuez    valuez    valuez valuez    valuez   \n",
       "gene_id orf                                                                \n",
       "2       YAL002W -0.044276 -0.041177  0.320699  0.128168    0.0 -0.059673   \n",
       "1863    YAL004W  0.271315  0.163301  0.382314  0.143625    0.0 -0.059673   \n",
       "4       YAL005C -0.012600 -0.053547  0.027588  0.372038    0.0 -0.059673   \n",
       "5       YAL007C  0.014019 -0.008254 -0.150332  0.502589    0.0 -0.059673   \n",
       "6       YAL008W -0.006119 -0.068810 -0.055383  0.475870    0.0 -0.059673   \n",
       "\n",
       "dataset_id       726    727    729    728    \n",
       "data_type       valuez valuez valuez valuez  \n",
       "gene_id orf                                  \n",
       "2       YAL002W    0.0    0.0    0.0    0.0  \n",
       "1863    YAL004W    0.0    0.0    0.0    0.0  \n",
       "4       YAL005C    0.0    0.0    0.0    0.0  \n",
       "5       YAL007C    0.0    0.0    0.0    0.0  \n",
       "6       YAL008W    0.0    0.0    0.0    0.0  \n",
       "\n",
       "[5 rows x 44 columns]"
      ]
     },
     "execution_count": 55,
     "metadata": {},
     "output_type": "execute_result"
    }
   ],
   "source": [
    "data_norm[data.isnull()] = np.nan\n",
    "data_all = data.join(data_norm)\n",
    "\n",
    "data_all.head()"
   ]
  },
  {
   "cell_type": "markdown",
   "metadata": {},
   "source": [
    "# Print out"
   ]
  },
  {
   "cell_type": "code",
   "execution_count": 56,
   "metadata": {},
   "outputs": [],
   "source": [
    "for f in ['value','valuez']:\n",
    "    df = data_all.xs(f, level='data_type', axis=1).copy()\n",
    "    df.columns = datasets['name'].values\n",
    "    df = df.droplevel('gene_id', axis=0)\n",
    "    df.to_csv(paper_name + '_' + f + '.txt', sep='\\t')"
   ]
  },
  {
   "cell_type": "markdown",
   "metadata": {},
   "source": [
    "# Save to DB"
   ]
  },
  {
   "cell_type": "code",
   "execution_count": 57,
   "metadata": {},
   "outputs": [],
   "source": [
    "from IO.save_data_to_db3 import *"
   ]
  },
  {
   "cell_type": "code",
   "execution_count": 58,
   "metadata": {},
   "outputs": [
    {
     "name": "stdout",
     "output_type": "stream",
     "text": [
      "Deleting all datasets for PMID 12140549...\n"
     ]
    },
    {
     "name": "stderr",
     "output_type": "stream",
     "text": [
      "  0%|          | 0/22 [00:00<?, ?it/s]"
     ]
    },
    {
     "name": "stdout",
     "output_type": "stream",
     "text": [
      "Inserting the new data...\n"
     ]
    },
    {
     "name": "stderr",
     "output_type": "stream",
     "text": [
      "100%|██████████| 22/22 [02:43<00:00,  7.43s/it]"
     ]
    },
    {
     "name": "stdout",
     "output_type": "stream",
     "text": [
      "Updating the data_modified_on field...\n"
     ]
    },
    {
     "name": "stderr",
     "output_type": "stream",
     "text": [
      "\n"
     ]
    }
   ],
   "source": [
    "save_data_to_db(data_all, paper_pmid)"
   ]
  },
  {
   "cell_type": "code",
   "execution_count": null,
   "metadata": {},
   "outputs": [],
   "source": []
  }
 ],
 "metadata": {
  "kernelspec": {
   "display_name": "yp-data",
   "language": "python",
   "name": "yp-data"
  },
  "language_info": {
   "codemirror_mode": {
    "name": "ipython",
    "version": 3
   },
   "file_extension": ".py",
   "mimetype": "text/x-python",
   "name": "python",
   "nbconvert_exporter": "python",
   "pygments_lexer": "ipython3",
   "version": "3.7.7"
  }
 },
 "nbformat": 4,
 "nbformat_minor": 4
}
