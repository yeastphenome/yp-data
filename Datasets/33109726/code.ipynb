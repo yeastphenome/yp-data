{
 "cells": [
  {
   "cell_type": "code",
   "execution_count": 1,
   "metadata": {},
   "outputs": [],
   "source": [
    "%run ../yp_utils.py"
   ]
  },
  {
   "cell_type": "markdown",
   "metadata": {},
   "source": [
    "# Initial setup"
   ]
  },
  {
   "cell_type": "code",
   "execution_count": 4,
   "metadata": {},
   "outputs": [],
   "source": [
    "paper_pmid = 33109726\n",
    "paper_name = 'ayers_gallagher_2020' "
   ]
  },
  {
   "cell_type": "code",
   "execution_count": 5,
   "metadata": {},
   "outputs": [],
   "source": [
    "datasets = pd.read_csv('extras/YeastPhenome_' + str(paper_pmid) + '_datasets_list.txt', sep='\\t', header=None, names=['dataset_id', 'name'])"
   ]
  },
  {
   "cell_type": "code",
   "execution_count": 6,
   "metadata": {},
   "outputs": [],
   "source": [
    "datasets.set_index('dataset_id', inplace=True)"
   ]
  },
  {
   "cell_type": "markdown",
   "metadata": {},
   "source": [
    "# Load & process the data"
   ]
  },
  {
   "cell_type": "code",
   "execution_count": 7,
   "metadata": {},
   "outputs": [],
   "source": [
    "original_data = pd.read_excel('raw_data/MCHMs KO full list.xlsx', sheet_name='ScreenKOs_withNames_v3')"
   ]
  },
  {
   "cell_type": "code",
   "execution_count": 8,
   "metadata": {},
   "outputs": [
    {
     "name": "stdout",
     "output_type": "stream",
     "text": [
      "Original data dimensions: 930 x 20\n"
     ]
    }
   ],
   "source": [
    "print('Original data dimensions: %d x %d' % (original_data.shape))"
   ]
  },
  {
   "cell_type": "code",
   "execution_count": 9,
   "metadata": {},
   "outputs": [],
   "source": [
    "original_data['orfs'] = original_data['Systematic.Name'].astype(str)"
   ]
  },
  {
   "cell_type": "code",
   "execution_count": 10,
   "metadata": {},
   "outputs": [],
   "source": [
    "# Eliminate all white spaces & capitalize\n",
    "original_data['orfs'] = clean_orf(original_data['orfs'])"
   ]
  },
  {
   "cell_type": "code",
   "execution_count": 11,
   "metadata": {},
   "outputs": [],
   "source": [
    "# Translate to ORFs \n",
    "original_data['orfs'] = translate_sc(original_data['orfs'], to='orf')"
   ]
  },
  {
   "cell_type": "code",
   "execution_count": 12,
   "metadata": {},
   "outputs": [
    {
     "name": "stdout",
     "output_type": "stream",
     "text": [
      "            Systematic.Name Gene Name  Plate  Row  Column Rep.1 Rep.2 Rep.3  \\\n",
      "index_input                                                                   \n",
      "815                     NaN       NaN    3.0    D     4.0   NaN   NaN     X   \n",
      "816                     NaN       NaN    3.0    D     7.0   NaN     X   NaN   \n",
      "821                     NaN       NaN    4.0    F     9.0     X     X   NaN   \n",
      "822                     NaN       NaN    4.0    F    10.0   NaN     X   NaN   \n",
      "838                     NaN       NaN    7.0    F    12.0     X   NaN     X   \n",
      "862                     NaN       NaN   15.0    F     4.0     X   NaN     X   \n",
      "863                     NaN       NaN   15.0    F     5.0     X   NaN   NaN   \n",
      "864                     NaN       NaN   15.0    F     6.0     X     X     X   \n",
      "867                     NaN       NaN   16.0    A     7.0   NaN     X   NaN   \n",
      "868                     NaN       NaN   16.0    A     8.0   NaN     X     X   \n",
      "872                     NaN       NaN   16.0    G    11.0   NaN     X     X   \n",
      "874                     NaN       NaN   17.0    E     5.0     X   NaN   NaN   \n",
      "875                     NaN       NaN   18.0    C    12.0   NaN     X     X   \n",
      "898                     NaN       NaN   27.0    D    10.0     X     X   NaN   \n",
      "900                     NaN       NaN   29.0    B     9.0     X     X     X   \n",
      "901                     NaN       NaN   29.0    B    11.0     X     X     X   \n",
      "917                     NaN       NaN   40.0    F    12.0     X   NaN     X   \n",
      "927                     NaN       NaN    NaN  NaN     NaN   NaN   NaN   NaN   \n",
      "928                     NaN       NaN    NaN  NaN     NaN   NaN   NaN   NaN   \n",
      "929                     NaN       NaN    NaN  NaN     NaN   NaN   NaN   NaN   \n",
      "\n",
      "            questionable Definite  ... SGD ID   X4 Verified ORF?   X7  \\\n",
      "index_input                        ...                                  \n",
      "815                    X      NaN  ...    NaN  NaN           NaN  NaN   \n",
      "816                    X      NaN  ...    NaN  NaN           NaN  NaN   \n",
      "821                  NaN        X  ...    NaN  NaN           NaN  NaN   \n",
      "822                    X      NaN  ...    NaN  NaN           NaN  NaN   \n",
      "838                  NaN        X  ...    NaN  NaN           NaN  NaN   \n",
      "862                  NaN      NaN  ...    NaN  NaN           NaN  NaN   \n",
      "863                  NaN      NaN  ...    NaN  NaN           NaN  NaN   \n",
      "864                  NaN        X  ...    NaN  NaN           NaN  NaN   \n",
      "867                  NaN      NaN  ...    NaN  NaN           NaN  NaN   \n",
      "868                  NaN        X  ...    NaN  NaN           NaN  NaN   \n",
      "872                  NaN      NaN  ...    NaN  NaN           NaN  NaN   \n",
      "874                  NaN      NaN  ...    NaN  NaN           NaN  NaN   \n",
      "875                  NaN      NaN  ...    NaN  NaN           NaN  NaN   \n",
      "898                  NaN        X  ...    NaN  NaN           NaN  NaN   \n",
      "900                  NaN        X  ...    NaN  NaN           NaN  NaN   \n",
      "901                  NaN        X  ...    NaN  NaN           NaN  NaN   \n",
      "917                    X      NaN  ...    NaN  NaN           NaN  NaN   \n",
      "927                  NaN      NaN  ...    NaN  NaN           NaN  NaN   \n",
      "928                  NaN      NaN  ...    NaN  NaN           NaN  NaN   \n",
      "929                  NaN      NaN  ...    NaN  NaN           NaN  NaN   \n",
      "\n",
      "            Chromosome Location Start  Location End  Description  \\\n",
      "index_input                                                        \n",
      "815                NaN            NaN           NaN          NaN   \n",
      "816                NaN            NaN           NaN          NaN   \n",
      "821                NaN            NaN           NaN          NaN   \n",
      "822                NaN            NaN           NaN          NaN   \n",
      "838                NaN            NaN           NaN          NaN   \n",
      "862                NaN            NaN           NaN          NaN   \n",
      "863                NaN            NaN           NaN          NaN   \n",
      "864                NaN            NaN           NaN          NaN   \n",
      "867                NaN            NaN           NaN          NaN   \n",
      "868                NaN            NaN           NaN          NaN   \n",
      "872                NaN            NaN           NaN          NaN   \n",
      "874                NaN            NaN           NaN          NaN   \n",
      "875                NaN            NaN           NaN          NaN   \n",
      "898                NaN            NaN           NaN          NaN   \n",
      "900                NaN            NaN           NaN          NaN   \n",
      "901                NaN            NaN           NaN          NaN   \n",
      "917                NaN            NaN           NaN          NaN   \n",
      "927                NaN            NaN           NaN          NaN   \n",
      "928                NaN            NaN           NaN          NaN   \n",
      "929                NaN            NaN           NaN          NaN   \n",
      "\n",
      "            all 3 plates but not most extreme  orfs  \n",
      "index_input                                          \n",
      "815                                       NaN   NAN  \n",
      "816                                       NaN   NAN  \n",
      "821                                       NaN   NAN  \n",
      "822                                       NaN   NAN  \n",
      "838                                       NaN   NAN  \n",
      "862                                       NaN   NAN  \n",
      "863                                       NaN   NAN  \n",
      "864                                       NaN   NAN  \n",
      "867                                       NaN   NAN  \n",
      "868                                       NaN   NAN  \n",
      "872                                       NaN   NAN  \n",
      "874                                       NaN   NAN  \n",
      "875                                       NaN   NAN  \n",
      "898                                       NaN   NAN  \n",
      "900                                       NaN   NAN  \n",
      "901                                       NaN   NAN  \n",
      "917                                       NaN   NAN  \n",
      "927                                       NaN   NAN  \n",
      "928                                       NaN   NAN  \n",
      "929                                       NaN   NAN  \n",
      "\n",
      "[20 rows x 21 columns]\n"
     ]
    }
   ],
   "source": [
    "# Make sure everything translated ok\n",
    "t = looks_like_orf(original_data['orfs'])\n",
    "print(original_data.loc[~t,])"
   ]
  },
  {
   "cell_type": "code",
   "execution_count": 13,
   "metadata": {},
   "outputs": [],
   "source": [
    "original_data = original_data.loc[t,:]"
   ]
  },
  {
   "cell_type": "code",
   "execution_count": 14,
   "metadata": {},
   "outputs": [],
   "source": [
    "for c in ['Rep.1','Rep.2','Rep.3','Definite']:\n",
    "    original_data.loc[original_data.loc[:,c]=='X',c] = -1\n",
    "    original_data.loc[original_data.loc[:,c].isnull(),c] = 0\n",
    "    original_data.loc[:,c] = original_data.loc[:,c].astype(int)"
   ]
  },
  {
   "cell_type": "code",
   "execution_count": 15,
   "metadata": {},
   "outputs": [],
   "source": [
    "original_data['data'] = original_data[['Rep.1','Rep.2','Rep.3']].sum(axis=1)"
   ]
  },
  {
   "cell_type": "code",
   "execution_count": 16,
   "metadata": {},
   "outputs": [],
   "source": [
    "original_data.set_index('orfs', inplace=True)\n",
    "original_data.index.name='orf'"
   ]
  },
  {
   "cell_type": "code",
   "execution_count": 17,
   "metadata": {},
   "outputs": [
    {
     "data": {
      "text/html": [
       "<div>\n",
       "<style scoped>\n",
       "    .dataframe tbody tr th:only-of-type {\n",
       "        vertical-align: middle;\n",
       "    }\n",
       "\n",
       "    .dataframe tbody tr th {\n",
       "        vertical-align: top;\n",
       "    }\n",
       "\n",
       "    .dataframe thead th {\n",
       "        text-align: right;\n",
       "    }\n",
       "</style>\n",
       "<table border=\"1\" class=\"dataframe\">\n",
       "  <thead>\n",
       "    <tr style=\"text-align: right;\">\n",
       "      <th></th>\n",
       "      <th>Systematic.Name</th>\n",
       "      <th>Gene Name</th>\n",
       "      <th>Plate</th>\n",
       "      <th>Row</th>\n",
       "      <th>Column</th>\n",
       "      <th>Rep.1</th>\n",
       "      <th>Rep.2</th>\n",
       "      <th>Rep.3</th>\n",
       "      <th>questionable</th>\n",
       "      <th>Definite</th>\n",
       "      <th>...</th>\n",
       "      <th>SGD ID</th>\n",
       "      <th>X4</th>\n",
       "      <th>Verified ORF?</th>\n",
       "      <th>X7</th>\n",
       "      <th>Chromosome</th>\n",
       "      <th>Location Start</th>\n",
       "      <th>Location End</th>\n",
       "      <th>Description</th>\n",
       "      <th>all 3 plates but not most extreme</th>\n",
       "      <th>data</th>\n",
       "    </tr>\n",
       "    <tr>\n",
       "      <th>orf</th>\n",
       "      <th></th>\n",
       "      <th></th>\n",
       "      <th></th>\n",
       "      <th></th>\n",
       "      <th></th>\n",
       "      <th></th>\n",
       "      <th></th>\n",
       "      <th></th>\n",
       "      <th></th>\n",
       "      <th></th>\n",
       "      <th></th>\n",
       "      <th></th>\n",
       "      <th></th>\n",
       "      <th></th>\n",
       "      <th></th>\n",
       "      <th></th>\n",
       "      <th></th>\n",
       "      <th></th>\n",
       "      <th></th>\n",
       "      <th></th>\n",
       "      <th></th>\n",
       "    </tr>\n",
       "  </thead>\n",
       "  <tbody>\n",
       "    <tr>\n",
       "      <th>YKL134C</th>\n",
       "      <td>YKL134C</td>\n",
       "      <td>2019-10-01 00:00:00</td>\n",
       "      <td>18.0</td>\n",
       "      <td>F</td>\n",
       "      <td>7.0</td>\n",
       "      <td>0</td>\n",
       "      <td>-1</td>\n",
       "      <td>0</td>\n",
       "      <td>NaN</td>\n",
       "      <td>0</td>\n",
       "      <td>...</td>\n",
       "      <td>S000001617</td>\n",
       "      <td>OCTapeptidyl aminopeptidase</td>\n",
       "      <td>Verified</td>\n",
       "      <td>metalloendopeptidase</td>\n",
       "      <td>chrXI</td>\n",
       "      <td>189124.0</td>\n",
       "      <td>191442.0</td>\n",
       "      <td>Mitochondrial intermediate peptidase; cleaves ...</td>\n",
       "      <td>NaN</td>\n",
       "      <td>-1</td>\n",
       "    </tr>\n",
       "    <tr>\n",
       "      <th>YBR085W</th>\n",
       "      <td>YBR085W</td>\n",
       "      <td>AAC3</td>\n",
       "      <td>1.0</td>\n",
       "      <td>H</td>\n",
       "      <td>4.0</td>\n",
       "      <td>0</td>\n",
       "      <td>-1</td>\n",
       "      <td>0</td>\n",
       "      <td>X</td>\n",
       "      <td>0</td>\n",
       "      <td>...</td>\n",
       "      <td>S000000289</td>\n",
       "      <td>ADP/ATP Carrier</td>\n",
       "      <td>Verified</td>\n",
       "      <td>ADP/ATP carrier protein AAC3|ANC3</td>\n",
       "      <td>chrII</td>\n",
       "      <td>415983.0</td>\n",
       "      <td>416906.0</td>\n",
       "      <td>Mitochondrial inner membrane ADP/ATP transloca...</td>\n",
       "      <td>NaN</td>\n",
       "      <td>-1</td>\n",
       "    </tr>\n",
       "    <tr>\n",
       "      <th>YDL243C</th>\n",
       "      <td>YDL243C</td>\n",
       "      <td>AAD4</td>\n",
       "      <td>7.0</td>\n",
       "      <td>D</td>\n",
       "      <td>3.0</td>\n",
       "      <td>-1</td>\n",
       "      <td>0</td>\n",
       "      <td>-1</td>\n",
       "      <td>NaN</td>\n",
       "      <td>0</td>\n",
       "      <td>...</td>\n",
       "      <td>S000002402</td>\n",
       "      <td>Aryl-Alcohol Dehydrogenase</td>\n",
       "      <td>Verified</td>\n",
       "      <td>putative aryl-alcohol dehydrogenase</td>\n",
       "      <td>chrIV</td>\n",
       "      <td>17577.0</td>\n",
       "      <td>18566.0</td>\n",
       "      <td>Putative aryl-alcohol dehydrogenase; involved ...</td>\n",
       "      <td>NaN</td>\n",
       "      <td>-2</td>\n",
       "    </tr>\n",
       "    <tr>\n",
       "      <th>YMR072W</th>\n",
       "      <td>YMR072W</td>\n",
       "      <td>ABF2</td>\n",
       "      <td>29.0</td>\n",
       "      <td>C</td>\n",
       "      <td>11.0</td>\n",
       "      <td>-1</td>\n",
       "      <td>-1</td>\n",
       "      <td>-1</td>\n",
       "      <td>NaN</td>\n",
       "      <td>-1</td>\n",
       "      <td>...</td>\n",
       "      <td>S000004676</td>\n",
       "      <td>ARS-Binding Factor</td>\n",
       "      <td>Verified</td>\n",
       "      <td>DNA-binding protein ABF2|HM|mtTFA|p19</td>\n",
       "      <td>chrXIII</td>\n",
       "      <td>411569.0</td>\n",
       "      <td>412120.0</td>\n",
       "      <td>Mitochondrial DNA-binding protein; involved in...</td>\n",
       "      <td>NaN</td>\n",
       "      <td>-3</td>\n",
       "    </tr>\n",
       "    <tr>\n",
       "      <th>YGR037C</th>\n",
       "      <td>YGR037C</td>\n",
       "      <td>ACB1</td>\n",
       "      <td>11.0</td>\n",
       "      <td>F</td>\n",
       "      <td>7.0</td>\n",
       "      <td>-1</td>\n",
       "      <td>0</td>\n",
       "      <td>-1</td>\n",
       "      <td>NaN</td>\n",
       "      <td>-1</td>\n",
       "      <td>...</td>\n",
       "      <td>S000003269</td>\n",
       "      <td>Acyl-CoA-Binding</td>\n",
       "      <td>Verified</td>\n",
       "      <td>long-chain fatty acid transporter ACB1</td>\n",
       "      <td>chrVII</td>\n",
       "      <td>559731.0</td>\n",
       "      <td>559994.0</td>\n",
       "      <td>Acyl-CoA-binding protein; transports newly syn...</td>\n",
       "      <td>NaN</td>\n",
       "      <td>-2</td>\n",
       "    </tr>\n",
       "  </tbody>\n",
       "</table>\n",
       "<p>5 rows × 21 columns</p>\n",
       "</div>"
      ],
      "text/plain": [
       "        Systematic.Name            Gene Name  Plate Row  Column  Rep.1  Rep.2  \\\n",
       "orf                                                                             \n",
       "YKL134C         YKL134C  2019-10-01 00:00:00   18.0   F     7.0      0     -1   \n",
       "YBR085W         YBR085W                 AAC3    1.0   H     4.0      0     -1   \n",
       "YDL243C         YDL243C                 AAD4    7.0   D     3.0     -1      0   \n",
       "YMR072W         YMR072W                 ABF2   29.0   C    11.0     -1     -1   \n",
       "YGR037C         YGR037C                 ACB1   11.0   F     7.0     -1      0   \n",
       "\n",
       "         Rep.3 questionable  Definite  ...      SGD ID  \\\n",
       "orf                                    ...               \n",
       "YKL134C      0          NaN         0  ...  S000001617   \n",
       "YBR085W      0            X         0  ...  S000000289   \n",
       "YDL243C     -1          NaN         0  ...  S000002402   \n",
       "YMR072W     -1          NaN        -1  ...  S000004676   \n",
       "YGR037C     -1          NaN        -1  ...  S000003269   \n",
       "\n",
       "                                  X4 Verified ORF?  \\\n",
       "orf                                                  \n",
       "YKL134C  OCTapeptidyl aminopeptidase      Verified   \n",
       "YBR085W              ADP/ATP Carrier      Verified   \n",
       "YDL243C   Aryl-Alcohol Dehydrogenase      Verified   \n",
       "YMR072W           ARS-Binding Factor      Verified   \n",
       "YGR037C             Acyl-CoA-Binding      Verified   \n",
       "\n",
       "                                             X7 Chromosome Location Start  \\\n",
       "orf                                                                         \n",
       "YKL134C                    metalloendopeptidase      chrXI       189124.0   \n",
       "YBR085W       ADP/ATP carrier protein AAC3|ANC3      chrII       415983.0   \n",
       "YDL243C     putative aryl-alcohol dehydrogenase      chrIV        17577.0   \n",
       "YMR072W   DNA-binding protein ABF2|HM|mtTFA|p19    chrXIII       411569.0   \n",
       "YGR037C  long-chain fatty acid transporter ACB1     chrVII       559731.0   \n",
       "\n",
       "         Location End                                        Description  \\\n",
       "orf                                                                        \n",
       "YKL134C      191442.0  Mitochondrial intermediate peptidase; cleaves ...   \n",
       "YBR085W      416906.0  Mitochondrial inner membrane ADP/ATP transloca...   \n",
       "YDL243C       18566.0  Putative aryl-alcohol dehydrogenase; involved ...   \n",
       "YMR072W      412120.0  Mitochondrial DNA-binding protein; involved in...   \n",
       "YGR037C      559994.0  Acyl-CoA-binding protein; transports newly syn...   \n",
       "\n",
       "        all 3 plates but not most extreme  data  \n",
       "orf                                              \n",
       "YKL134C                               NaN    -1  \n",
       "YBR085W                               NaN    -1  \n",
       "YDL243C                               NaN    -2  \n",
       "YMR072W                               NaN    -3  \n",
       "YGR037C                               NaN    -2  \n",
       "\n",
       "[5 rows x 21 columns]"
      ]
     },
     "execution_count": 17,
     "metadata": {},
     "output_type": "execute_result"
    }
   ],
   "source": [
    "original_data.head()"
   ]
  },
  {
   "cell_type": "code",
   "execution_count": 18,
   "metadata": {},
   "outputs": [],
   "source": [
    "original_data = original_data.groupby(original_data.index).mean()"
   ]
  },
  {
   "cell_type": "code",
   "execution_count": 19,
   "metadata": {},
   "outputs": [
    {
     "data": {
      "text/plain": [
       "(889, 10)"
      ]
     },
     "execution_count": 19,
     "metadata": {},
     "output_type": "execute_result"
    }
   ],
   "source": [
    "original_data.shape"
   ]
  },
  {
   "cell_type": "code",
   "execution_count": 20,
   "metadata": {},
   "outputs": [
    {
     "data": {
      "text/html": [
       "<div>\n",
       "<style scoped>\n",
       "    .dataframe tbody tr th:only-of-type {\n",
       "        vertical-align: middle;\n",
       "    }\n",
       "\n",
       "    .dataframe tbody tr th {\n",
       "        vertical-align: top;\n",
       "    }\n",
       "\n",
       "    .dataframe thead th {\n",
       "        text-align: right;\n",
       "    }\n",
       "</style>\n",
       "<table border=\"1\" class=\"dataframe\">\n",
       "  <thead>\n",
       "    <tr style=\"text-align: right;\">\n",
       "      <th></th>\n",
       "      <th>Plate</th>\n",
       "      <th>Column</th>\n",
       "      <th>Rep.1</th>\n",
       "      <th>Rep.2</th>\n",
       "      <th>Rep.3</th>\n",
       "      <th>Definite</th>\n",
       "      <th>Location Start</th>\n",
       "      <th>Location End</th>\n",
       "      <th>all 3 plates but not most extreme</th>\n",
       "      <th>data</th>\n",
       "    </tr>\n",
       "    <tr>\n",
       "      <th>orf</th>\n",
       "      <th></th>\n",
       "      <th></th>\n",
       "      <th></th>\n",
       "      <th></th>\n",
       "      <th></th>\n",
       "      <th></th>\n",
       "      <th></th>\n",
       "      <th></th>\n",
       "      <th></th>\n",
       "      <th></th>\n",
       "    </tr>\n",
       "  </thead>\n",
       "  <tbody>\n",
       "    <tr>\n",
       "      <th>YAL010C</th>\n",
       "      <td>39.0</td>\n",
       "      <td>8.0</td>\n",
       "      <td>-1.0</td>\n",
       "      <td>-1.0</td>\n",
       "      <td>-1.0</td>\n",
       "      <td>-1.0</td>\n",
       "      <td>134184.0</td>\n",
       "      <td>135665.0</td>\n",
       "      <td>NaN</td>\n",
       "      <td>-3.0</td>\n",
       "    </tr>\n",
       "    <tr>\n",
       "      <th>YAL016W</th>\n",
       "      <td>32.0</td>\n",
       "      <td>2.0</td>\n",
       "      <td>-1.0</td>\n",
       "      <td>-1.0</td>\n",
       "      <td>-1.0</td>\n",
       "      <td>-1.0</td>\n",
       "      <td>124879.0</td>\n",
       "      <td>126786.0</td>\n",
       "      <td>NaN</td>\n",
       "      <td>-3.0</td>\n",
       "    </tr>\n",
       "    <tr>\n",
       "      <th>YAL024C</th>\n",
       "      <td>36.0</td>\n",
       "      <td>1.0</td>\n",
       "      <td>-1.0</td>\n",
       "      <td>-1.0</td>\n",
       "      <td>-1.0</td>\n",
       "      <td>0.0</td>\n",
       "      <td>101565.0</td>\n",
       "      <td>105872.0</td>\n",
       "      <td>NaN</td>\n",
       "      <td>-3.0</td>\n",
       "    </tr>\n",
       "    <tr>\n",
       "      <th>YAL035W</th>\n",
       "      <td>39.0</td>\n",
       "      <td>1.0</td>\n",
       "      <td>-1.0</td>\n",
       "      <td>-1.0</td>\n",
       "      <td>-1.0</td>\n",
       "      <td>-1.0</td>\n",
       "      <td>76427.0</td>\n",
       "      <td>79435.0</td>\n",
       "      <td>NaN</td>\n",
       "      <td>-3.0</td>\n",
       "    </tr>\n",
       "    <tr>\n",
       "      <th>YAL039C</th>\n",
       "      <td>39.0</td>\n",
       "      <td>10.0</td>\n",
       "      <td>0.0</td>\n",
       "      <td>0.0</td>\n",
       "      <td>-1.0</td>\n",
       "      <td>0.0</td>\n",
       "      <td>68716.0</td>\n",
       "      <td>69525.0</td>\n",
       "      <td>NaN</td>\n",
       "      <td>-1.0</td>\n",
       "    </tr>\n",
       "  </tbody>\n",
       "</table>\n",
       "</div>"
      ],
      "text/plain": [
       "         Plate  Column  Rep.1  Rep.2  Rep.3  Definite  Location Start  \\\n",
       "orf                                                                     \n",
       "YAL010C   39.0     8.0   -1.0   -1.0   -1.0      -1.0        134184.0   \n",
       "YAL016W   32.0     2.0   -1.0   -1.0   -1.0      -1.0        124879.0   \n",
       "YAL024C   36.0     1.0   -1.0   -1.0   -1.0       0.0        101565.0   \n",
       "YAL035W   39.0     1.0   -1.0   -1.0   -1.0      -1.0         76427.0   \n",
       "YAL039C   39.0    10.0    0.0    0.0   -1.0       0.0         68716.0   \n",
       "\n",
       "         Location End  all 3 plates but not most extreme  data  \n",
       "orf                                                             \n",
       "YAL010C      135665.0                                NaN  -3.0  \n",
       "YAL016W      126786.0                                NaN  -3.0  \n",
       "YAL024C      105872.0                                NaN  -3.0  \n",
       "YAL035W       79435.0                                NaN  -3.0  \n",
       "YAL039C       69525.0                                NaN  -1.0  "
      ]
     },
     "execution_count": 20,
     "metadata": {},
     "output_type": "execute_result"
    }
   ],
   "source": [
    "original_data.head()"
   ]
  },
  {
   "cell_type": "markdown",
   "metadata": {},
   "source": [
    "# Load & process tested strains"
   ]
  },
  {
   "cell_type": "code",
   "execution_count": 21,
   "metadata": {},
   "outputs": [],
   "source": [
    "tested = pd.read_excel('raw_data/MATalpha yeast knockout collection.xls', sheet_name='list')"
   ]
  },
  {
   "cell_type": "code",
   "execution_count": 22,
   "metadata": {},
   "outputs": [],
   "source": [
    "tested['orfs'] = tested['ORF'].astype(str)"
   ]
  },
  {
   "cell_type": "code",
   "execution_count": 23,
   "metadata": {},
   "outputs": [],
   "source": [
    "tested['orfs'] = clean_orf(tested['orfs'])"
   ]
  },
  {
   "cell_type": "code",
   "execution_count": 24,
   "metadata": {},
   "outputs": [],
   "source": [
    "tested['orfs'] = translate_sc(tested['orfs'], to='orf')"
   ]
  },
  {
   "cell_type": "code",
   "execution_count": 25,
   "metadata": {},
   "outputs": [
    {
     "name": "stdout",
     "output_type": "stream",
     "text": [
      "            instructions below fill in record information  count   \\\n",
      "index_input                                                         \n",
      "80                         NaN                        NaN    81.0   \n",
      "81                         NaN                        NaN    82.0   \n",
      "82                         NaN                        NaN    83.0   \n",
      "83                         NaN                        NaN    84.0   \n",
      "148                        NaN                        NaN   149.0   \n",
      "...                        ...                        ...     ...   \n",
      "5851                       NaN                        NaN     NaN   \n",
      "5852                       NaN                        NaN     NaN   \n",
      "5853                       NaN                        NaN     NaN   \n",
      "5854                       NaN                        NaN     NaN   \n",
      "5855                       NaN                        NaN     NaN   \n",
      "\n",
      "             record number  ORF batch original box position Unnamed: 7  \\\n",
      "index_input                                                              \n",
      "80                     NaN  NaN   NaN                   NaN        NaN   \n",
      "81                     NaN  NaN   NaN                   NaN        NaN   \n",
      "82                     NaN  NaN   NaN                   NaN        NaN   \n",
      "83                     NaN  NaN   NaN                   NaN        NaN   \n",
      "148                    NaN  NaN   NaN                   NaN        NaN   \n",
      "...                    ...  ...   ...                   ...        ...   \n",
      "5851                   NaN  NaN   NaN                   NaN        NaN   \n",
      "5852                   NaN  NaN   NaN                   NaN        NaN   \n",
      "5853                   NaN  NaN   NaN                   NaN        NaN   \n",
      "5854                   NaN  NaN   NaN                   NaN        NaN   \n",
      "5855                   NaN  NaN   NaN                   NaN        NaN   \n",
      "\n",
      "            new box positio MTP ST  received? test calculations  Unnamed: 11  \\\n",
      "index_input                                                                    \n",
      "80                           G9             n                G9          NaN   \n",
      "81                          G10             n               G10          NaN   \n",
      "82                          G11             n               G11          NaN   \n",
      "83                          G12             n               G12          NaN   \n",
      "148                          E5             n                E5          NaN   \n",
      "...                         ...           ...               ...          ...   \n",
      "5851                         H8           NaN               NaN          NaN   \n",
      "5852                         H9           NaN               NaN          NaN   \n",
      "5853                        H10           NaN               NaN          NaN   \n",
      "5854                        H11           NaN               NaN          NaN   \n",
      "5855                        H12           NaN               NaN          NaN   \n",
      "\n",
      "             Unnamed: 12  Unnamed: 13 orfs  \n",
      "index_input                                 \n",
      "80                   NaN          NaN  NAN  \n",
      "81                   NaN          NaN  NAN  \n",
      "82                   NaN          NaN  NAN  \n",
      "83                   NaN          NaN  NAN  \n",
      "148                  NaN          NaN  NAN  \n",
      "...                  ...          ...  ...  \n",
      "5851                 NaN          NaN  NAN  \n",
      "5852                 NaN          NaN  NAN  \n",
      "5853                 NaN          NaN  NAN  \n",
      "5854                 NaN          NaN  NAN  \n",
      "5855                 NaN          NaN  NAN  \n",
      "\n",
      "[702 rows x 15 columns]\n"
     ]
    }
   ],
   "source": [
    "# Make sure everything translated ok\n",
    "t = looks_like_orf(tested['orfs'])\n",
    "print(tested.loc[~t,])"
   ]
  },
  {
   "cell_type": "code",
   "execution_count": 26,
   "metadata": {},
   "outputs": [],
   "source": [
    "tested = tested.loc[t,]"
   ]
  },
  {
   "cell_type": "code",
   "execution_count": 27,
   "metadata": {},
   "outputs": [],
   "source": [
    "tested_orfs = np.unique(tested['orfs'].values)"
   ]
  },
  {
   "cell_type": "code",
   "execution_count": 28,
   "metadata": {},
   "outputs": [
    {
     "data": {
      "text/plain": [
       "['YPL183W-C']"
      ]
     },
     "execution_count": 28,
     "metadata": {},
     "output_type": "execute_result"
    }
   ],
   "source": [
    "missing = [orf for orf in original_data.index.values if orf not in tested_orfs]\n",
    "missing"
   ]
  },
  {
   "cell_type": "code",
   "execution_count": 29,
   "metadata": {},
   "outputs": [],
   "source": [
    "tested_orfs = np.append(tested_orfs, 'YPL183W-C')"
   ]
  },
  {
   "cell_type": "code",
   "execution_count": 30,
   "metadata": {},
   "outputs": [],
   "source": [
    "# tested_orfs"
   ]
  },
  {
   "cell_type": "code",
   "execution_count": 31,
   "metadata": {},
   "outputs": [],
   "source": [
    "original_data = original_data.reindex(index=tested_orfs, fill_value=0)"
   ]
  },
  {
   "cell_type": "markdown",
   "metadata": {},
   "source": [
    "# Prepare the final dataset"
   ]
  },
  {
   "cell_type": "code",
   "execution_count": 32,
   "metadata": {},
   "outputs": [],
   "source": [
    "data = original_data[['data']].copy()"
   ]
  },
  {
   "cell_type": "code",
   "execution_count": 33,
   "metadata": {},
   "outputs": [],
   "source": [
    "dataset_ids = [16680]\n",
    "datasets = datasets.reindex(index=dataset_ids)"
   ]
  },
  {
   "cell_type": "code",
   "execution_count": 34,
   "metadata": {},
   "outputs": [],
   "source": [
    "lst = [datasets.index.values, ['value']*datasets.shape[0]]\n",
    "tuples = list(zip(*lst))\n",
    "idx = pd.MultiIndex.from_tuples(tuples, names=['dataset_id','data_type'])\n",
    "data.columns = idx"
   ]
  },
  {
   "cell_type": "code",
   "execution_count": 35,
   "metadata": {},
   "outputs": [
    {
     "data": {
      "text/html": [
       "<div>\n",
       "<style scoped>\n",
       "    .dataframe tbody tr th:only-of-type {\n",
       "        vertical-align: middle;\n",
       "    }\n",
       "\n",
       "    .dataframe tbody tr th {\n",
       "        vertical-align: top;\n",
       "    }\n",
       "\n",
       "    .dataframe thead tr th {\n",
       "        text-align: left;\n",
       "    }\n",
       "\n",
       "    .dataframe thead tr:last-of-type th {\n",
       "        text-align: right;\n",
       "    }\n",
       "</style>\n",
       "<table border=\"1\" class=\"dataframe\">\n",
       "  <thead>\n",
       "    <tr>\n",
       "      <th>dataset_id</th>\n",
       "      <th>16680</th>\n",
       "    </tr>\n",
       "    <tr>\n",
       "      <th>data_type</th>\n",
       "      <th>value</th>\n",
       "    </tr>\n",
       "    <tr>\n",
       "      <th>orf</th>\n",
       "      <th></th>\n",
       "    </tr>\n",
       "  </thead>\n",
       "  <tbody>\n",
       "    <tr>\n",
       "      <th>YAL002W</th>\n",
       "      <td>0.0</td>\n",
       "    </tr>\n",
       "    <tr>\n",
       "      <th>YAL004W</th>\n",
       "      <td>0.0</td>\n",
       "    </tr>\n",
       "    <tr>\n",
       "      <th>YAL005C</th>\n",
       "      <td>0.0</td>\n",
       "    </tr>\n",
       "    <tr>\n",
       "      <th>YAL007C</th>\n",
       "      <td>0.0</td>\n",
       "    </tr>\n",
       "    <tr>\n",
       "      <th>YAL008W</th>\n",
       "      <td>0.0</td>\n",
       "    </tr>\n",
       "  </tbody>\n",
       "</table>\n",
       "</div>"
      ],
      "text/plain": [
       "dataset_id 16680\n",
       "data_type  value\n",
       "orf             \n",
       "YAL002W      0.0\n",
       "YAL004W      0.0\n",
       "YAL005C      0.0\n",
       "YAL007C      0.0\n",
       "YAL008W      0.0"
      ]
     },
     "execution_count": 35,
     "metadata": {},
     "output_type": "execute_result"
    }
   ],
   "source": [
    "data.head()"
   ]
  },
  {
   "cell_type": "code",
   "execution_count": 36,
   "metadata": {},
   "outputs": [
    {
     "data": {
      "text/plain": [
       "(4952, 1)"
      ]
     },
     "execution_count": 36,
     "metadata": {},
     "output_type": "execute_result"
    }
   ],
   "source": [
    "data.shape"
   ]
  },
  {
   "cell_type": "markdown",
   "metadata": {},
   "source": [
    "## Subset to the genes currently in SGD"
   ]
  },
  {
   "cell_type": "code",
   "execution_count": 37,
   "metadata": {},
   "outputs": [
    {
     "name": "stdout",
     "output_type": "stream",
     "text": [
      "ORFs missing from SGD: 24\n"
     ]
    }
   ],
   "source": [
    "genes = pd.read_csv(path_to_genes, sep='\\t', index_col='id')\n",
    "genes = genes.reset_index().set_index('systematic_name')\n",
    "gene_ids = genes.reindex(index=data.index.values)['id'].values\n",
    "num_missing = np.sum(np.isnan(gene_ids))\n",
    "print('ORFs missing from SGD: %d' % num_missing)"
   ]
  },
  {
   "cell_type": "code",
   "execution_count": 38,
   "metadata": {},
   "outputs": [],
   "source": [
    "data['gene_id'] = gene_ids\n",
    "data = data.loc[data['gene_id'].notnull()]\n",
    "data['gene_id'] = data['gene_id'].astype(int)\n",
    "data = data.reset_index().set_index(['gene_id','orf'])"
   ]
  },
  {
   "cell_type": "code",
   "execution_count": 39,
   "metadata": {},
   "outputs": [
    {
     "data": {
      "text/html": [
       "<div>\n",
       "<style scoped>\n",
       "    .dataframe tbody tr th:only-of-type {\n",
       "        vertical-align: middle;\n",
       "    }\n",
       "\n",
       "    .dataframe tbody tr th {\n",
       "        vertical-align: top;\n",
       "    }\n",
       "\n",
       "    .dataframe thead tr th {\n",
       "        text-align: left;\n",
       "    }\n",
       "\n",
       "    .dataframe thead tr:last-of-type th {\n",
       "        text-align: right;\n",
       "    }\n",
       "</style>\n",
       "<table border=\"1\" class=\"dataframe\">\n",
       "  <thead>\n",
       "    <tr>\n",
       "      <th></th>\n",
       "      <th>dataset_id</th>\n",
       "      <th>16680</th>\n",
       "    </tr>\n",
       "    <tr>\n",
       "      <th></th>\n",
       "      <th>data_type</th>\n",
       "      <th>value</th>\n",
       "    </tr>\n",
       "    <tr>\n",
       "      <th>gene_id</th>\n",
       "      <th>orf</th>\n",
       "      <th></th>\n",
       "    </tr>\n",
       "  </thead>\n",
       "  <tbody>\n",
       "    <tr>\n",
       "      <th>2</th>\n",
       "      <th>YAL002W</th>\n",
       "      <td>0.0</td>\n",
       "    </tr>\n",
       "    <tr>\n",
       "      <th>1863</th>\n",
       "      <th>YAL004W</th>\n",
       "      <td>0.0</td>\n",
       "    </tr>\n",
       "    <tr>\n",
       "      <th>4</th>\n",
       "      <th>YAL005C</th>\n",
       "      <td>0.0</td>\n",
       "    </tr>\n",
       "    <tr>\n",
       "      <th>5</th>\n",
       "      <th>YAL007C</th>\n",
       "      <td>0.0</td>\n",
       "    </tr>\n",
       "    <tr>\n",
       "      <th>6</th>\n",
       "      <th>YAL008W</th>\n",
       "      <td>0.0</td>\n",
       "    </tr>\n",
       "  </tbody>\n",
       "</table>\n",
       "</div>"
      ],
      "text/plain": [
       "dataset_id      16680\n",
       "data_type       value\n",
       "gene_id orf          \n",
       "2       YAL002W   0.0\n",
       "1863    YAL004W   0.0\n",
       "4       YAL005C   0.0\n",
       "5       YAL007C   0.0\n",
       "6       YAL008W   0.0"
      ]
     },
     "execution_count": 39,
     "metadata": {},
     "output_type": "execute_result"
    }
   ],
   "source": [
    "data.head()"
   ]
  },
  {
   "cell_type": "markdown",
   "metadata": {},
   "source": [
    "# Normalize"
   ]
  },
  {
   "cell_type": "code",
   "execution_count": 40,
   "metadata": {},
   "outputs": [],
   "source": [
    "data_norm = normalize_phenotypic_scores(data, has_tested=True)"
   ]
  },
  {
   "cell_type": "code",
   "execution_count": 41,
   "metadata": {},
   "outputs": [],
   "source": [
    "# Assign proper column names\n",
    "lst = [datasets.index.values, ['valuez']*datasets.shape[0]]\n",
    "tuples = list(zip(*lst))\n",
    "idx = pd.MultiIndex.from_tuples(tuples, names=['dataset_id','data_type'])\n",
    "data_norm.columns = idx"
   ]
  },
  {
   "cell_type": "code",
   "execution_count": 42,
   "metadata": {},
   "outputs": [],
   "source": [
    "data_norm[data.isnull()] = np.nan"
   ]
  },
  {
   "cell_type": "code",
   "execution_count": 43,
   "metadata": {},
   "outputs": [],
   "source": [
    "data_all = data.join(data_norm)"
   ]
  },
  {
   "cell_type": "code",
   "execution_count": 44,
   "metadata": {},
   "outputs": [
    {
     "data": {
      "text/html": [
       "<div>\n",
       "<style scoped>\n",
       "    .dataframe tbody tr th:only-of-type {\n",
       "        vertical-align: middle;\n",
       "    }\n",
       "\n",
       "    .dataframe tbody tr th {\n",
       "        vertical-align: top;\n",
       "    }\n",
       "\n",
       "    .dataframe thead tr th {\n",
       "        text-align: left;\n",
       "    }\n",
       "\n",
       "    .dataframe thead tr:last-of-type th {\n",
       "        text-align: right;\n",
       "    }\n",
       "</style>\n",
       "<table border=\"1\" class=\"dataframe\">\n",
       "  <thead>\n",
       "    <tr>\n",
       "      <th></th>\n",
       "      <th>dataset_id</th>\n",
       "      <th colspan=\"2\" halign=\"left\">16680</th>\n",
       "    </tr>\n",
       "    <tr>\n",
       "      <th></th>\n",
       "      <th>data_type</th>\n",
       "      <th>value</th>\n",
       "      <th>valuez</th>\n",
       "    </tr>\n",
       "    <tr>\n",
       "      <th>gene_id</th>\n",
       "      <th>orf</th>\n",
       "      <th></th>\n",
       "      <th></th>\n",
       "    </tr>\n",
       "  </thead>\n",
       "  <tbody>\n",
       "    <tr>\n",
       "      <th>2</th>\n",
       "      <th>YAL002W</th>\n",
       "      <td>0.0</td>\n",
       "      <td>0.0</td>\n",
       "    </tr>\n",
       "    <tr>\n",
       "      <th>1863</th>\n",
       "      <th>YAL004W</th>\n",
       "      <td>0.0</td>\n",
       "      <td>0.0</td>\n",
       "    </tr>\n",
       "    <tr>\n",
       "      <th>4</th>\n",
       "      <th>YAL005C</th>\n",
       "      <td>0.0</td>\n",
       "      <td>0.0</td>\n",
       "    </tr>\n",
       "    <tr>\n",
       "      <th>5</th>\n",
       "      <th>YAL007C</th>\n",
       "      <td>0.0</td>\n",
       "      <td>0.0</td>\n",
       "    </tr>\n",
       "    <tr>\n",
       "      <th>6</th>\n",
       "      <th>YAL008W</th>\n",
       "      <td>0.0</td>\n",
       "      <td>0.0</td>\n",
       "    </tr>\n",
       "  </tbody>\n",
       "</table>\n",
       "</div>"
      ],
      "text/plain": [
       "dataset_id      16680       \n",
       "data_type       value valuez\n",
       "gene_id orf                 \n",
       "2       YAL002W   0.0    0.0\n",
       "1863    YAL004W   0.0    0.0\n",
       "4       YAL005C   0.0    0.0\n",
       "5       YAL007C   0.0    0.0\n",
       "6       YAL008W   0.0    0.0"
      ]
     },
     "execution_count": 44,
     "metadata": {},
     "output_type": "execute_result"
    }
   ],
   "source": [
    "data_all.head()\n"
   ]
  },
  {
   "cell_type": "markdown",
   "metadata": {},
   "source": [
    "# Print out"
   ]
  },
  {
   "cell_type": "code",
   "execution_count": 45,
   "metadata": {},
   "outputs": [],
   "source": [
    "for f in ['value','valuez']:\n",
    "    df = data_all.xs(f, level='data_type', axis=1).copy()\n",
    "    df.columns = datasets['name'].values\n",
    "    df = df.droplevel('gene_id', axis=0)\n",
    "    df.to_csv(paper_name + '_' + f + '.txt', sep='\\t')"
   ]
  },
  {
   "cell_type": "markdown",
   "metadata": {},
   "source": [
    "# Save to DB"
   ]
  },
  {
   "cell_type": "code",
   "execution_count": 47,
   "metadata": {},
   "outputs": [],
   "source": [
    "from IO.save_data_to_db3 import *"
   ]
  },
  {
   "cell_type": "code",
   "execution_count": 48,
   "metadata": {},
   "outputs": [
    {
     "name": "stderr",
     "output_type": "stream",
     "text": [
      "  0%|          | 0/1 [00:00<?, ?it/s]"
     ]
    },
    {
     "name": "stdout",
     "output_type": "stream",
     "text": [
      "Deleting all datasets for PMID 33109726...\n",
      "Inserting the new data...\n"
     ]
    },
    {
     "name": "stderr",
     "output_type": "stream",
     "text": [
      "100%|██████████| 1/1 [00:07<00:00,  7.40s/it]"
     ]
    },
    {
     "name": "stdout",
     "output_type": "stream",
     "text": [
      "Updating the data_modified_on field...\n"
     ]
    },
    {
     "name": "stderr",
     "output_type": "stream",
     "text": [
      "\n"
     ]
    }
   ],
   "source": [
    "save_data_to_db(data_all, paper_pmid)"
   ]
  },
  {
   "cell_type": "code",
   "execution_count": null,
   "metadata": {},
   "outputs": [],
   "source": []
  }
 ],
 "metadata": {
  "kernelspec": {
   "display_name": "yp-data",
   "language": "python",
   "name": "yp-data"
  },
  "language_info": {
   "codemirror_mode": {
    "name": "ipython",
    "version": 3
   },
   "file_extension": ".py",
   "mimetype": "text/x-python",
   "name": "python",
   "nbconvert_exporter": "python",
   "pygments_lexer": "ipython3",
   "version": "3.7.7"
  }
 },
 "nbformat": 4,
 "nbformat_minor": 4
}
