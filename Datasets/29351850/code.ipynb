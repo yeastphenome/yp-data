{
 "cells": [
  {
   "cell_type": "code",
   "execution_count": 1,
   "metadata": {},
   "outputs": [],
   "source": [
    "%run ../yp_utils.py"
   ]
  },
  {
   "cell_type": "markdown",
   "metadata": {},
   "source": [
    "# Initial setup"
   ]
  },
  {
   "cell_type": "code",
   "execution_count": 2,
   "metadata": {},
   "outputs": [],
   "source": [
    "paper_pmid = 29351850\n",
    "paper_name = 'jaeger_ideker_2018' "
   ]
  },
  {
   "cell_type": "code",
   "execution_count": 3,
   "metadata": {},
   "outputs": [],
   "source": [
    "datasets = pd.read_csv('extras/YeastPhenome_' + str(paper_pmid) + '_datasets_list.txt', sep='\\t', header=None, names=['dataset_id', 'name'])"
   ]
  },
  {
   "cell_type": "code",
   "execution_count": 4,
   "metadata": {},
   "outputs": [],
   "source": [
    "datasets.set_index('dataset_id', inplace=True)"
   ]
  },
  {
   "cell_type": "markdown",
   "metadata": {},
   "source": [
    "# Load & process the data"
   ]
  },
  {
   "cell_type": "code",
   "execution_count": 30,
   "metadata": {},
   "outputs": [],
   "source": [
    "sheet_names = ['GLU GAL Fitness','GLU GAL Fluorescence Data','CPY Fluorescent Data']\n",
    "data_cols = [['SC-GLU','SC-GAL'],['GLU','GAL','GLU.1','GAL.1'],['Ctrl (fluo.)','CPY-GFP (fluo.)']]"
   ]
  },
  {
   "cell_type": "code",
   "execution_count": 31,
   "metadata": {},
   "outputs": [
    {
     "name": "stdout",
     "output_type": "stream",
     "text": [
      "Original data dimensions: 5835 x 4\n",
      "Empty DataFrame\n",
      "Columns: [Gene, ORF, SC-GLU, SC-GAL, orf]\n",
      "Index: []\n",
      "Original data dimensions: 5807 x 6\n",
      "Empty DataFrame\n",
      "Columns: [Gene, ORF, GLU, GAL, GLU.1, GAL.1, orf]\n",
      "Index: []\n",
      "Original data dimensions: 5807 x 8\n",
      "Empty DataFrame\n",
      "Columns: [Gene, ORF, Ctrl (size), CPY-GFP (size), Ctrl (fluo.), CPY-GFP (fluo.), CPY-NES-GFP (fluo.), CPY-GFP san1D (fluo.), orf]\n",
      "Index: []\n"
     ]
    }
   ],
   "source": [
    "original_data_list = []\n",
    "for si, s in enumerate(sheet_names):\n",
    "    original_data = pd.read_excel('raw_data/Calico_Data_v1.xlsx', sheet_name=s, skiprows=1)\n",
    "    print('Original data dimensions: %d x %d' % (original_data.shape))\n",
    "    original_data['orf'] = original_data['ORF'].astype(str)\n",
    "    original_data['orf'] = clean_orf(original_data['orf'])\n",
    "    original_data.loc[original_data['orf']=='YLR287-A','orf'] = 'YLR287C-A'\n",
    "    original_data['orf'] = translate_sc(original_data['orf'], to='orf')\n",
    "    t = looks_like_orf(original_data['orf'])\n",
    "    print(original_data.loc[~t,])\n",
    "    original_data.set_index('orf', inplace=True)\n",
    "    \n",
    "    original_data = original_data.loc[:,data_cols[si]]\n",
    "    original_data = original_data.groupby(original_data.index).mean()\n",
    "    \n",
    "    original_data_list.append(original_data)"
   ]
  },
  {
   "cell_type": "code",
   "execution_count": 32,
   "metadata": {},
   "outputs": [],
   "source": [
    "original_data1, original_data2, original_data3 = original_data_list"
   ]
  },
  {
   "cell_type": "code",
   "execution_count": 33,
   "metadata": {},
   "outputs": [],
   "source": [
    "original_data = original_data1.join(original_data2, how='outer', lsuffix='_1', rsuffix='_2')\n",
    "original_data = original_data.join(original_data3, how='outer', lsuffix='', rsuffix='_3')"
   ]
  },
  {
   "cell_type": "code",
   "execution_count": 35,
   "metadata": {},
   "outputs": [
    {
     "data": {
      "text/plain": [
       "(5830, 8)"
      ]
     },
     "execution_count": 35,
     "metadata": {},
     "output_type": "execute_result"
    }
   ],
   "source": [
    "original_data.shape"
   ]
  },
  {
   "cell_type": "code",
   "execution_count": 34,
   "metadata": {},
   "outputs": [
    {
     "data": {
      "text/html": [
       "<div>\n",
       "<style scoped>\n",
       "    .dataframe tbody tr th:only-of-type {\n",
       "        vertical-align: middle;\n",
       "    }\n",
       "\n",
       "    .dataframe tbody tr th {\n",
       "        vertical-align: top;\n",
       "    }\n",
       "\n",
       "    .dataframe thead th {\n",
       "        text-align: right;\n",
       "    }\n",
       "</style>\n",
       "<table border=\"1\" class=\"dataframe\">\n",
       "  <thead>\n",
       "    <tr style=\"text-align: right;\">\n",
       "      <th></th>\n",
       "      <th>SC-GLU</th>\n",
       "      <th>SC-GAL</th>\n",
       "      <th>GLU</th>\n",
       "      <th>GAL</th>\n",
       "      <th>GLU.1</th>\n",
       "      <th>GAL.1</th>\n",
       "      <th>Ctrl (fluo.)</th>\n",
       "      <th>CPY-GFP (fluo.)</th>\n",
       "    </tr>\n",
       "    <tr>\n",
       "      <th>orf</th>\n",
       "      <th></th>\n",
       "      <th></th>\n",
       "      <th></th>\n",
       "      <th></th>\n",
       "      <th></th>\n",
       "      <th></th>\n",
       "      <th></th>\n",
       "      <th></th>\n",
       "    </tr>\n",
       "  </thead>\n",
       "  <tbody>\n",
       "    <tr>\n",
       "      <th>YAL002W</th>\n",
       "      <td>-0.406263</td>\n",
       "      <td>0.245177</td>\n",
       "      <td>-0.634156</td>\n",
       "      <td>-0.319514</td>\n",
       "      <td>-0.060031</td>\n",
       "      <td>-0.122411</td>\n",
       "      <td>-1.049142</td>\n",
       "      <td>-0.415537</td>\n",
       "    </tr>\n",
       "    <tr>\n",
       "      <th>YAL003W</th>\n",
       "      <td>-0.196194</td>\n",
       "      <td>0.171792</td>\n",
       "      <td>-0.842585</td>\n",
       "      <td>-0.163610</td>\n",
       "      <td>-0.025241</td>\n",
       "      <td>-0.093237</td>\n",
       "      <td>-0.865258</td>\n",
       "      <td>0.572071</td>\n",
       "    </tr>\n",
       "    <tr>\n",
       "      <th>YAL004W</th>\n",
       "      <td>0.353014</td>\n",
       "      <td>0.293261</td>\n",
       "      <td>-0.607665</td>\n",
       "      <td>0.213934</td>\n",
       "      <td>0.098942</td>\n",
       "      <td>-0.028650</td>\n",
       "      <td>0.427745</td>\n",
       "      <td>1.372855</td>\n",
       "    </tr>\n",
       "    <tr>\n",
       "      <th>YAL005C</th>\n",
       "      <td>0.295915</td>\n",
       "      <td>-0.469302</td>\n",
       "      <td>-0.298648</td>\n",
       "      <td>0.196771</td>\n",
       "      <td>0.163048</td>\n",
       "      <td>-0.054926</td>\n",
       "      <td>0.669254</td>\n",
       "      <td>0.689108</td>\n",
       "    </tr>\n",
       "    <tr>\n",
       "      <th>YAL007C</th>\n",
       "      <td>-0.029866</td>\n",
       "      <td>0.254167</td>\n",
       "      <td>0.302599</td>\n",
       "      <td>0.154397</td>\n",
       "      <td>-0.111000</td>\n",
       "      <td>-0.011036</td>\n",
       "      <td>-0.059514</td>\n",
       "      <td>0.188327</td>\n",
       "    </tr>\n",
       "  </tbody>\n",
       "</table>\n",
       "</div>"
      ],
      "text/plain": [
       "           SC-GLU    SC-GAL       GLU       GAL     GLU.1     GAL.1  \\\n",
       "orf                                                                   \n",
       "YAL002W -0.406263  0.245177 -0.634156 -0.319514 -0.060031 -0.122411   \n",
       "YAL003W -0.196194  0.171792 -0.842585 -0.163610 -0.025241 -0.093237   \n",
       "YAL004W  0.353014  0.293261 -0.607665  0.213934  0.098942 -0.028650   \n",
       "YAL005C  0.295915 -0.469302 -0.298648  0.196771  0.163048 -0.054926   \n",
       "YAL007C -0.029866  0.254167  0.302599  0.154397 -0.111000 -0.011036   \n",
       "\n",
       "         Ctrl (fluo.)  CPY-GFP (fluo.)  \n",
       "orf                                     \n",
       "YAL002W     -1.049142        -0.415537  \n",
       "YAL003W     -0.865258         0.572071  \n",
       "YAL004W      0.427745         1.372855  \n",
       "YAL005C      0.669254         0.689108  \n",
       "YAL007C     -0.059514         0.188327  "
      ]
     },
     "execution_count": 34,
     "metadata": {},
     "output_type": "execute_result"
    }
   ],
   "source": [
    "original_data.head()"
   ]
  },
  {
   "cell_type": "code",
   "execution_count": 36,
   "metadata": {},
   "outputs": [],
   "source": [
    "original_data['Fluo'] = original_data['CPY-GFP (fluo.)'] - original_data['Ctrl (fluo.)']\n",
    "original_data.drop(columns=['Ctrl (fluo.)','CPY-GFP (fluo.)'], inplace=True)"
   ]
  },
  {
   "cell_type": "code",
   "execution_count": 37,
   "metadata": {},
   "outputs": [],
   "source": [
    "dataset_ids = [16153, 16154] + [16165, 16166, 16319, 16318] + [16155]"
   ]
  },
  {
   "cell_type": "code",
   "execution_count": 40,
   "metadata": {},
   "outputs": [
    {
     "name": "stdout",
     "output_type": "stream",
     "text": [
      "Loading SGD features from 2017-04-03.\n"
     ]
    }
   ],
   "source": [
    "essentials = ~is_essential(original_data.index.values)"
   ]
  },
  {
   "cell_type": "code",
   "execution_count": 43,
   "metadata": {},
   "outputs": [],
   "source": [
    "original_data = original_data.loc[essentials.values,:]"
   ]
  },
  {
   "cell_type": "code",
   "execution_count": 44,
   "metadata": {},
   "outputs": [
    {
     "data": {
      "text/plain": [
       "(4952, 7)"
      ]
     },
     "execution_count": 44,
     "metadata": {},
     "output_type": "execute_result"
    }
   ],
   "source": [
    "original_data.shape"
   ]
  },
  {
   "cell_type": "markdown",
   "metadata": {},
   "source": [
    "# Prepare the final dataset"
   ]
  },
  {
   "cell_type": "code",
   "execution_count": 45,
   "metadata": {},
   "outputs": [],
   "source": [
    "data = original_data.copy()"
   ]
  },
  {
   "cell_type": "code",
   "execution_count": 46,
   "metadata": {},
   "outputs": [],
   "source": [
    "datasets = datasets.reindex(index=dataset_ids)"
   ]
  },
  {
   "cell_type": "code",
   "execution_count": 47,
   "metadata": {},
   "outputs": [],
   "source": [
    "lst = [datasets.index.values, ['value']*datasets.shape[0]]\n",
    "tuples = list(zip(*lst))\n",
    "idx = pd.MultiIndex.from_tuples(tuples, names=['dataset_id','data_type'])\n",
    "data.columns = idx"
   ]
  },
  {
   "cell_type": "code",
   "execution_count": 48,
   "metadata": {},
   "outputs": [
    {
     "data": {
      "text/html": [
       "<div>\n",
       "<style scoped>\n",
       "    .dataframe tbody tr th:only-of-type {\n",
       "        vertical-align: middle;\n",
       "    }\n",
       "\n",
       "    .dataframe tbody tr th {\n",
       "        vertical-align: top;\n",
       "    }\n",
       "\n",
       "    .dataframe thead tr th {\n",
       "        text-align: left;\n",
       "    }\n",
       "\n",
       "    .dataframe thead tr:last-of-type th {\n",
       "        text-align: right;\n",
       "    }\n",
       "</style>\n",
       "<table border=\"1\" class=\"dataframe\">\n",
       "  <thead>\n",
       "    <tr>\n",
       "      <th>dataset_id</th>\n",
       "      <th>16153</th>\n",
       "      <th>16154</th>\n",
       "      <th>16165</th>\n",
       "      <th>16166</th>\n",
       "      <th>16319</th>\n",
       "      <th>16318</th>\n",
       "      <th>16155</th>\n",
       "    </tr>\n",
       "    <tr>\n",
       "      <th>data_type</th>\n",
       "      <th>value</th>\n",
       "      <th>value</th>\n",
       "      <th>value</th>\n",
       "      <th>value</th>\n",
       "      <th>value</th>\n",
       "      <th>value</th>\n",
       "      <th>value</th>\n",
       "    </tr>\n",
       "    <tr>\n",
       "      <th>orf</th>\n",
       "      <th></th>\n",
       "      <th></th>\n",
       "      <th></th>\n",
       "      <th></th>\n",
       "      <th></th>\n",
       "      <th></th>\n",
       "      <th></th>\n",
       "    </tr>\n",
       "  </thead>\n",
       "  <tbody>\n",
       "    <tr>\n",
       "      <th>YAL002W</th>\n",
       "      <td>-0.406263</td>\n",
       "      <td>0.245177</td>\n",
       "      <td>-0.634156</td>\n",
       "      <td>-0.319514</td>\n",
       "      <td>-0.060031</td>\n",
       "      <td>-0.122411</td>\n",
       "      <td>0.633605</td>\n",
       "    </tr>\n",
       "    <tr>\n",
       "      <th>YAL004W</th>\n",
       "      <td>0.353014</td>\n",
       "      <td>0.293261</td>\n",
       "      <td>-0.607665</td>\n",
       "      <td>0.213934</td>\n",
       "      <td>0.098942</td>\n",
       "      <td>-0.028650</td>\n",
       "      <td>0.945110</td>\n",
       "    </tr>\n",
       "    <tr>\n",
       "      <th>YAL005C</th>\n",
       "      <td>0.295915</td>\n",
       "      <td>-0.469302</td>\n",
       "      <td>-0.298648</td>\n",
       "      <td>0.196771</td>\n",
       "      <td>0.163048</td>\n",
       "      <td>-0.054926</td>\n",
       "      <td>0.019854</td>\n",
       "    </tr>\n",
       "    <tr>\n",
       "      <th>YAL007C</th>\n",
       "      <td>-0.029866</td>\n",
       "      <td>0.254167</td>\n",
       "      <td>0.302599</td>\n",
       "      <td>0.154397</td>\n",
       "      <td>-0.111000</td>\n",
       "      <td>-0.011036</td>\n",
       "      <td>0.247841</td>\n",
       "    </tr>\n",
       "    <tr>\n",
       "      <th>YAL008W</th>\n",
       "      <td>-0.501140</td>\n",
       "      <td>0.161716</td>\n",
       "      <td>0.713786</td>\n",
       "      <td>0.122458</td>\n",
       "      <td>0.069959</td>\n",
       "      <td>-0.006048</td>\n",
       "      <td>-0.089864</td>\n",
       "    </tr>\n",
       "  </tbody>\n",
       "</table>\n",
       "</div>"
      ],
      "text/plain": [
       "dataset_id     16153     16154     16165     16166     16319     16318  \\\n",
       "data_type      value     value     value     value     value     value   \n",
       "orf                                                                      \n",
       "YAL002W    -0.406263  0.245177 -0.634156 -0.319514 -0.060031 -0.122411   \n",
       "YAL004W     0.353014  0.293261 -0.607665  0.213934  0.098942 -0.028650   \n",
       "YAL005C     0.295915 -0.469302 -0.298648  0.196771  0.163048 -0.054926   \n",
       "YAL007C    -0.029866  0.254167  0.302599  0.154397 -0.111000 -0.011036   \n",
       "YAL008W    -0.501140  0.161716  0.713786  0.122458  0.069959 -0.006048   \n",
       "\n",
       "dataset_id     16155  \n",
       "data_type      value  \n",
       "orf                   \n",
       "YAL002W     0.633605  \n",
       "YAL004W     0.945110  \n",
       "YAL005C     0.019854  \n",
       "YAL007C     0.247841  \n",
       "YAL008W    -0.089864  "
      ]
     },
     "execution_count": 48,
     "metadata": {},
     "output_type": "execute_result"
    }
   ],
   "source": [
    "data.head()"
   ]
  },
  {
   "cell_type": "markdown",
   "metadata": {},
   "source": [
    "## Subset to the genes currently in SGD"
   ]
  },
  {
   "cell_type": "code",
   "execution_count": 49,
   "metadata": {},
   "outputs": [
    {
     "name": "stdout",
     "output_type": "stream",
     "text": [
      "ORFs missing from SGD: 25\n"
     ]
    }
   ],
   "source": [
    "genes = pd.read_csv(path_to_genes, sep='\\t', index_col='id')\n",
    "genes = genes.reset_index().set_index('systematic_name')\n",
    "gene_ids = genes.reindex(index=data.index.values)['id'].values\n",
    "num_missing = np.sum(np.isnan(gene_ids))\n",
    "print('ORFs missing from SGD: %d' % num_missing)"
   ]
  },
  {
   "cell_type": "code",
   "execution_count": 50,
   "metadata": {},
   "outputs": [],
   "source": [
    "data['gene_id'] = gene_ids\n",
    "data = data.loc[data['gene_id'].notnull()]\n",
    "data['gene_id'] = data['gene_id'].astype(int)\n",
    "data = data.reset_index().set_index(['gene_id','orf'])"
   ]
  },
  {
   "cell_type": "code",
   "execution_count": 51,
   "metadata": {},
   "outputs": [
    {
     "data": {
      "text/html": [
       "<div>\n",
       "<style scoped>\n",
       "    .dataframe tbody tr th:only-of-type {\n",
       "        vertical-align: middle;\n",
       "    }\n",
       "\n",
       "    .dataframe tbody tr th {\n",
       "        vertical-align: top;\n",
       "    }\n",
       "\n",
       "    .dataframe thead tr th {\n",
       "        text-align: left;\n",
       "    }\n",
       "\n",
       "    .dataframe thead tr:last-of-type th {\n",
       "        text-align: right;\n",
       "    }\n",
       "</style>\n",
       "<table border=\"1\" class=\"dataframe\">\n",
       "  <thead>\n",
       "    <tr>\n",
       "      <th></th>\n",
       "      <th>dataset_id</th>\n",
       "      <th>16153</th>\n",
       "      <th>16154</th>\n",
       "      <th>16165</th>\n",
       "      <th>16166</th>\n",
       "      <th>16319</th>\n",
       "      <th>16318</th>\n",
       "      <th>16155</th>\n",
       "    </tr>\n",
       "    <tr>\n",
       "      <th></th>\n",
       "      <th>data_type</th>\n",
       "      <th>value</th>\n",
       "      <th>value</th>\n",
       "      <th>value</th>\n",
       "      <th>value</th>\n",
       "      <th>value</th>\n",
       "      <th>value</th>\n",
       "      <th>value</th>\n",
       "    </tr>\n",
       "    <tr>\n",
       "      <th>gene_id</th>\n",
       "      <th>orf</th>\n",
       "      <th></th>\n",
       "      <th></th>\n",
       "      <th></th>\n",
       "      <th></th>\n",
       "      <th></th>\n",
       "      <th></th>\n",
       "      <th></th>\n",
       "    </tr>\n",
       "  </thead>\n",
       "  <tbody>\n",
       "    <tr>\n",
       "      <th>2</th>\n",
       "      <th>YAL002W</th>\n",
       "      <td>-0.406263</td>\n",
       "      <td>0.245177</td>\n",
       "      <td>-0.634156</td>\n",
       "      <td>-0.319514</td>\n",
       "      <td>-0.060031</td>\n",
       "      <td>-0.122411</td>\n",
       "      <td>0.633605</td>\n",
       "    </tr>\n",
       "    <tr>\n",
       "      <th>1863</th>\n",
       "      <th>YAL004W</th>\n",
       "      <td>0.353014</td>\n",
       "      <td>0.293261</td>\n",
       "      <td>-0.607665</td>\n",
       "      <td>0.213934</td>\n",
       "      <td>0.098942</td>\n",
       "      <td>-0.028650</td>\n",
       "      <td>0.945110</td>\n",
       "    </tr>\n",
       "    <tr>\n",
       "      <th>4</th>\n",
       "      <th>YAL005C</th>\n",
       "      <td>0.295915</td>\n",
       "      <td>-0.469302</td>\n",
       "      <td>-0.298648</td>\n",
       "      <td>0.196771</td>\n",
       "      <td>0.163048</td>\n",
       "      <td>-0.054926</td>\n",
       "      <td>0.019854</td>\n",
       "    </tr>\n",
       "    <tr>\n",
       "      <th>5</th>\n",
       "      <th>YAL007C</th>\n",
       "      <td>-0.029866</td>\n",
       "      <td>0.254167</td>\n",
       "      <td>0.302599</td>\n",
       "      <td>0.154397</td>\n",
       "      <td>-0.111000</td>\n",
       "      <td>-0.011036</td>\n",
       "      <td>0.247841</td>\n",
       "    </tr>\n",
       "    <tr>\n",
       "      <th>6</th>\n",
       "      <th>YAL008W</th>\n",
       "      <td>-0.501140</td>\n",
       "      <td>0.161716</td>\n",
       "      <td>0.713786</td>\n",
       "      <td>0.122458</td>\n",
       "      <td>0.069959</td>\n",
       "      <td>-0.006048</td>\n",
       "      <td>-0.089864</td>\n",
       "    </tr>\n",
       "  </tbody>\n",
       "</table>\n",
       "</div>"
      ],
      "text/plain": [
       "dataset_id          16153     16154     16165     16166     16319     16318  \\\n",
       "data_type           value     value     value     value     value     value   \n",
       "gene_id orf                                                                   \n",
       "2       YAL002W -0.406263  0.245177 -0.634156 -0.319514 -0.060031 -0.122411   \n",
       "1863    YAL004W  0.353014  0.293261 -0.607665  0.213934  0.098942 -0.028650   \n",
       "4       YAL005C  0.295915 -0.469302 -0.298648  0.196771  0.163048 -0.054926   \n",
       "5       YAL007C -0.029866  0.254167  0.302599  0.154397 -0.111000 -0.011036   \n",
       "6       YAL008W -0.501140  0.161716  0.713786  0.122458  0.069959 -0.006048   \n",
       "\n",
       "dataset_id          16155  \n",
       "data_type           value  \n",
       "gene_id orf                \n",
       "2       YAL002W  0.633605  \n",
       "1863    YAL004W  0.945110  \n",
       "4       YAL005C  0.019854  \n",
       "5       YAL007C  0.247841  \n",
       "6       YAL008W -0.089864  "
      ]
     },
     "execution_count": 51,
     "metadata": {},
     "output_type": "execute_result"
    }
   ],
   "source": [
    "data.head()"
   ]
  },
  {
   "cell_type": "markdown",
   "metadata": {},
   "source": [
    "# Normalize"
   ]
  },
  {
   "cell_type": "code",
   "execution_count": 52,
   "metadata": {},
   "outputs": [],
   "source": [
    "data_norm = normalize_phenotypic_scores(data, has_tested=True)"
   ]
  },
  {
   "cell_type": "code",
   "execution_count": 53,
   "metadata": {},
   "outputs": [],
   "source": [
    "# Assign proper column names\n",
    "lst = [datasets.index.values, ['valuez']*datasets.shape[0]]\n",
    "tuples = list(zip(*lst))\n",
    "idx = pd.MultiIndex.from_tuples(tuples, names=['dataset_id','data_type'])\n",
    "data_norm.columns = idx"
   ]
  },
  {
   "cell_type": "code",
   "execution_count": 54,
   "metadata": {},
   "outputs": [],
   "source": [
    "data_norm[data.isnull()] = np.nan\n",
    "data_all = data.join(data_norm)"
   ]
  },
  {
   "cell_type": "code",
   "execution_count": 55,
   "metadata": {},
   "outputs": [
    {
     "data": {
      "text/html": [
       "<div>\n",
       "<style scoped>\n",
       "    .dataframe tbody tr th:only-of-type {\n",
       "        vertical-align: middle;\n",
       "    }\n",
       "\n",
       "    .dataframe tbody tr th {\n",
       "        vertical-align: top;\n",
       "    }\n",
       "\n",
       "    .dataframe thead tr th {\n",
       "        text-align: left;\n",
       "    }\n",
       "\n",
       "    .dataframe thead tr:last-of-type th {\n",
       "        text-align: right;\n",
       "    }\n",
       "</style>\n",
       "<table border=\"1\" class=\"dataframe\">\n",
       "  <thead>\n",
       "    <tr>\n",
       "      <th></th>\n",
       "      <th>dataset_id</th>\n",
       "      <th>16153</th>\n",
       "      <th>16154</th>\n",
       "      <th>16165</th>\n",
       "      <th>16166</th>\n",
       "      <th>16319</th>\n",
       "      <th>16318</th>\n",
       "      <th>16155</th>\n",
       "      <th>16153</th>\n",
       "      <th>16154</th>\n",
       "      <th>16165</th>\n",
       "      <th>16166</th>\n",
       "      <th>16319</th>\n",
       "      <th>16318</th>\n",
       "      <th>16155</th>\n",
       "    </tr>\n",
       "    <tr>\n",
       "      <th></th>\n",
       "      <th>data_type</th>\n",
       "      <th>value</th>\n",
       "      <th>value</th>\n",
       "      <th>value</th>\n",
       "      <th>value</th>\n",
       "      <th>value</th>\n",
       "      <th>value</th>\n",
       "      <th>value</th>\n",
       "      <th>valuez</th>\n",
       "      <th>valuez</th>\n",
       "      <th>valuez</th>\n",
       "      <th>valuez</th>\n",
       "      <th>valuez</th>\n",
       "      <th>valuez</th>\n",
       "      <th>valuez</th>\n",
       "    </tr>\n",
       "    <tr>\n",
       "      <th>gene_id</th>\n",
       "      <th>orf</th>\n",
       "      <th></th>\n",
       "      <th></th>\n",
       "      <th></th>\n",
       "      <th></th>\n",
       "      <th></th>\n",
       "      <th></th>\n",
       "      <th></th>\n",
       "      <th></th>\n",
       "      <th></th>\n",
       "      <th></th>\n",
       "      <th></th>\n",
       "      <th></th>\n",
       "      <th></th>\n",
       "      <th></th>\n",
       "    </tr>\n",
       "  </thead>\n",
       "  <tbody>\n",
       "    <tr>\n",
       "      <th>2</th>\n",
       "      <th>YAL002W</th>\n",
       "      <td>-0.406263</td>\n",
       "      <td>0.245177</td>\n",
       "      <td>-0.634156</td>\n",
       "      <td>-0.319514</td>\n",
       "      <td>-0.060031</td>\n",
       "      <td>-0.122411</td>\n",
       "      <td>0.633605</td>\n",
       "      <td>-0.748932</td>\n",
       "      <td>-0.064546</td>\n",
       "      <td>-0.902801</td>\n",
       "      <td>-1.238670</td>\n",
       "      <td>-0.533078</td>\n",
       "      <td>-0.769564</td>\n",
       "      <td>0.835368</td>\n",
       "    </tr>\n",
       "    <tr>\n",
       "      <th>1863</th>\n",
       "      <th>YAL004W</th>\n",
       "      <td>0.353014</td>\n",
       "      <td>0.293261</td>\n",
       "      <td>-0.607665</td>\n",
       "      <td>0.213934</td>\n",
       "      <td>0.098942</td>\n",
       "      <td>-0.028650</td>\n",
       "      <td>0.945110</td>\n",
       "      <td>0.086021</td>\n",
       "      <td>-0.020049</td>\n",
       "      <td>-0.875303</td>\n",
       "      <td>0.309118</td>\n",
       "      <td>0.039638</td>\n",
       "      <td>-0.090073</td>\n",
       "      <td>1.131224</td>\n",
       "    </tr>\n",
       "    <tr>\n",
       "      <th>4</th>\n",
       "      <th>YAL005C</th>\n",
       "      <td>0.295915</td>\n",
       "      <td>-0.469302</td>\n",
       "      <td>-0.298648</td>\n",
       "      <td>0.196771</td>\n",
       "      <td>0.163048</td>\n",
       "      <td>-0.054926</td>\n",
       "      <td>0.019854</td>\n",
       "      <td>0.023232</td>\n",
       "      <td>-0.725717</td>\n",
       "      <td>-0.554542</td>\n",
       "      <td>0.259318</td>\n",
       "      <td>0.270585</td>\n",
       "      <td>-0.280495</td>\n",
       "      <td>0.252453</td>\n",
       "    </tr>\n",
       "    <tr>\n",
       "      <th>5</th>\n",
       "      <th>YAL007C</th>\n",
       "      <td>-0.029866</td>\n",
       "      <td>0.254167</td>\n",
       "      <td>0.302599</td>\n",
       "      <td>0.154397</td>\n",
       "      <td>-0.111000</td>\n",
       "      <td>-0.011036</td>\n",
       "      <td>0.247841</td>\n",
       "      <td>-0.335019</td>\n",
       "      <td>-0.056226</td>\n",
       "      <td>0.069557</td>\n",
       "      <td>0.136373</td>\n",
       "      <td>-0.716697</td>\n",
       "      <td>0.037578</td>\n",
       "      <td>0.468986</td>\n",
       "    </tr>\n",
       "    <tr>\n",
       "      <th>6</th>\n",
       "      <th>YAL008W</th>\n",
       "      <td>-0.501140</td>\n",
       "      <td>0.161716</td>\n",
       "      <td>0.713786</td>\n",
       "      <td>0.122458</td>\n",
       "      <td>0.069959</td>\n",
       "      <td>-0.006048</td>\n",
       "      <td>-0.089864</td>\n",
       "      <td>-0.853265</td>\n",
       "      <td>-0.141779</td>\n",
       "      <td>0.496372</td>\n",
       "      <td>0.043703</td>\n",
       "      <td>-0.064776</td>\n",
       "      <td>0.073728</td>\n",
       "      <td>0.148248</td>\n",
       "    </tr>\n",
       "  </tbody>\n",
       "</table>\n",
       "</div>"
      ],
      "text/plain": [
       "dataset_id          16153     16154     16165     16166     16319     16318  \\\n",
       "data_type           value     value     value     value     value     value   \n",
       "gene_id orf                                                                   \n",
       "2       YAL002W -0.406263  0.245177 -0.634156 -0.319514 -0.060031 -0.122411   \n",
       "1863    YAL004W  0.353014  0.293261 -0.607665  0.213934  0.098942 -0.028650   \n",
       "4       YAL005C  0.295915 -0.469302 -0.298648  0.196771  0.163048 -0.054926   \n",
       "5       YAL007C -0.029866  0.254167  0.302599  0.154397 -0.111000 -0.011036   \n",
       "6       YAL008W -0.501140  0.161716  0.713786  0.122458  0.069959 -0.006048   \n",
       "\n",
       "dataset_id          16155     16153     16154     16165     16166     16319  \\\n",
       "data_type           value    valuez    valuez    valuez    valuez    valuez   \n",
       "gene_id orf                                                                   \n",
       "2       YAL002W  0.633605 -0.748932 -0.064546 -0.902801 -1.238670 -0.533078   \n",
       "1863    YAL004W  0.945110  0.086021 -0.020049 -0.875303  0.309118  0.039638   \n",
       "4       YAL005C  0.019854  0.023232 -0.725717 -0.554542  0.259318  0.270585   \n",
       "5       YAL007C  0.247841 -0.335019 -0.056226  0.069557  0.136373 -0.716697   \n",
       "6       YAL008W -0.089864 -0.853265 -0.141779  0.496372  0.043703 -0.064776   \n",
       "\n",
       "dataset_id          16318     16155  \n",
       "data_type          valuez    valuez  \n",
       "gene_id orf                          \n",
       "2       YAL002W -0.769564  0.835368  \n",
       "1863    YAL004W -0.090073  1.131224  \n",
       "4       YAL005C -0.280495  0.252453  \n",
       "5       YAL007C  0.037578  0.468986  \n",
       "6       YAL008W  0.073728  0.148248  "
      ]
     },
     "execution_count": 55,
     "metadata": {},
     "output_type": "execute_result"
    }
   ],
   "source": [
    "data_all.head()\n"
   ]
  },
  {
   "cell_type": "markdown",
   "metadata": {},
   "source": [
    "# Print out"
   ]
  },
  {
   "cell_type": "code",
   "execution_count": 56,
   "metadata": {},
   "outputs": [],
   "source": [
    "for f in ['value','valuez']:\n",
    "    df = data_all.xs(f, level='data_type', axis=1).copy()\n",
    "    df.columns = datasets['name'].values\n",
    "    df = df.droplevel('gene_id', axis=0)\n",
    "    df.to_csv(paper_name + '_' + f + '.txt', sep='\\t')"
   ]
  },
  {
   "cell_type": "markdown",
   "metadata": {},
   "source": [
    "# Save to DB"
   ]
  },
  {
   "cell_type": "code",
   "execution_count": 57,
   "metadata": {},
   "outputs": [],
   "source": [
    "# from IO.save_data_to_db3 import *"
   ]
  },
  {
   "cell_type": "code",
   "execution_count": 1,
   "metadata": {},
   "outputs": [],
   "source": [
    "# save_data_to_db(data_all, paper_pmid)"
   ]
  },
  {
   "cell_type": "code",
   "execution_count": null,
   "metadata": {},
   "outputs": [],
   "source": []
  }
 ],
 "metadata": {
  "kernelspec": {
   "display_name": "yp-data",
   "language": "python",
   "name": "yp-data"
  },
  "language_info": {
   "codemirror_mode": {
    "name": "ipython",
    "version": 3
   },
   "file_extension": ".py",
   "mimetype": "text/x-python",
   "name": "python",
   "nbconvert_exporter": "python",
   "pygments_lexer": "ipython3",
   "version": "3.7.7"
  }
 },
 "nbformat": 4,
 "nbformat_minor": 4
}
