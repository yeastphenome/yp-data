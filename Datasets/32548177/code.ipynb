{
 "cells": [
  {
   "cell_type": "code",
   "execution_count": 3,
   "metadata": {},
   "outputs": [],
   "source": [
    "%run ../../Utils/yp_utils.py"
   ]
  },
  {
   "cell_type": "markdown",
   "metadata": {},
   "source": [
    "# Initial setup"
   ]
  },
  {
   "cell_type": "code",
   "execution_count": 4,
   "metadata": {},
   "outputs": [],
   "source": [
    "paper_pmid = 32548177\n",
    "paper_name = 'edouarzin_vediyappan_2020' "
   ]
  },
  {
   "cell_type": "code",
   "execution_count": 5,
   "metadata": {},
   "outputs": [],
   "source": [
    "datasets = pd.read_csv('extras/YeastPhenome_' + str(paper_pmid) + '_datasets_list.txt', sep='\\t', header=None, names=['dataset_id', 'name'])"
   ]
  },
  {
   "cell_type": "code",
   "execution_count": 6,
   "metadata": {},
   "outputs": [],
   "source": [
    "datasets.set_index('dataset_id', inplace=True)"
   ]
  },
  {
   "cell_type": "markdown",
   "metadata": {},
   "source": [
    "# Load & process the data"
   ]
  },
  {
   "cell_type": "code",
   "execution_count": 8,
   "metadata": {},
   "outputs": [],
   "source": [
    "original_data = pd.read_excel('raw_data/mic-07-146-s02.xls', sheet_name='12_27_11_15_06_18_nQuantile_nq', skiprows=2)"
   ]
  },
  {
   "cell_type": "code",
   "execution_count": 9,
   "metadata": {},
   "outputs": [
    {
     "name": "stdout",
     "output_type": "stream",
     "text": [
      "Original data dimensions: 5802 x 17\n"
     ]
    }
   ],
   "source": [
    "print('Original data dimensions: %d x %d' % (original_data.shape))"
   ]
  },
  {
   "cell_type": "code",
   "execution_count": 10,
   "metadata": {},
   "outputs": [
    {
     "data": {
      "text/html": [
       "<div>\n",
       "<style scoped>\n",
       "    .dataframe tbody tr th:only-of-type {\n",
       "        vertical-align: middle;\n",
       "    }\n",
       "\n",
       "    .dataframe tbody tr th {\n",
       "        vertical-align: top;\n",
       "    }\n",
       "\n",
       "    .dataframe thead th {\n",
       "        text-align: right;\n",
       "    }\n",
       "</style>\n",
       "<table border=\"1\" class=\"dataframe\">\n",
       "  <thead>\n",
       "    <tr style=\"text-align: right;\">\n",
       "      <th></th>\n",
       "      <th>probeid</th>\n",
       "      <th>21_12_2011_T11C4_EP6_2.5</th>\n",
       "      <th>21_12_2011_T11C5_EP9_1.25</th>\n",
       "      <th>21_12_2011_T11C6_EP9_1.875</th>\n",
       "      <th>log2(REF)</th>\n",
       "      <th>(2) (Albicanol) EP6_0.05mg/ml</th>\n",
       "      <th>(1) (Drimenol) EP9_0.025mg/ml</th>\n",
       "      <th>(1) ( Drimenol) EP9_0.0375mg/ml</th>\n",
       "      <th>gene</th>\n",
       "      <th>essential_gene</th>\n",
       "      <th>feature_type</th>\n",
       "      <th>GO_process</th>\n",
       "      <th>GO_function</th>\n",
       "      <th>GO_component</th>\n",
       "      <th>notes</th>\n",
       "      <th>Cross_Del_Count</th>\n",
       "      <th>Cross_Dels</th>\n",
       "    </tr>\n",
       "  </thead>\n",
       "  <tbody>\n",
       "    <tr>\n",
       "      <th>0</th>\n",
       "      <td>YBR171W::CHR2_3</td>\n",
       "      <td>1.023</td>\n",
       "      <td>4.589</td>\n",
       "      <td>4.321</td>\n",
       "      <td>10.889</td>\n",
       "      <td>1.023</td>\n",
       "      <td>4.589</td>\n",
       "      <td>4.321</td>\n",
       "      <td>SEC66</td>\n",
       "      <td>no</td>\n",
       "      <td>ORF::Verified</td>\n",
       "      <td>filamentous growth*</td>\n",
       "      <td>protein transporter activity</td>\n",
       "      <td>endoplasmic reticulum membrane*</td>\n",
       "      <td>NaN</td>\n",
       "      <td>0.0</td>\n",
       "      <td>NaN</td>\n",
       "    </tr>\n",
       "    <tr>\n",
       "      <th>1</th>\n",
       "      <td>YHR060W::CHR8_2</td>\n",
       "      <td>0.966</td>\n",
       "      <td>3.352</td>\n",
       "      <td>1.055</td>\n",
       "      <td>10.118</td>\n",
       "      <td>0.966</td>\n",
       "      <td>3.352</td>\n",
       "      <td>1.055</td>\n",
       "      <td>VMA22</td>\n",
       "      <td>no</td>\n",
       "      <td>ORF::Verified</td>\n",
       "      <td>protein complex assembly*</td>\n",
       "      <td>unfolded protein binding</td>\n",
       "      <td>endoplasmic reticulum membrane</td>\n",
       "      <td>NaN</td>\n",
       "      <td>0.0</td>\n",
       "      <td>NaN</td>\n",
       "    </tr>\n",
       "    <tr>\n",
       "      <th>2</th>\n",
       "      <td>YBR289W::CHR00_16A</td>\n",
       "      <td>1.526</td>\n",
       "      <td>3.234</td>\n",
       "      <td>0.549</td>\n",
       "      <td>9.856</td>\n",
       "      <td>1.526</td>\n",
       "      <td>3.234</td>\n",
       "      <td>0.549</td>\n",
       "      <td>SNF5</td>\n",
       "      <td>no</td>\n",
       "      <td>ORF::Verified</td>\n",
       "      <td>chromatin remodeling*</td>\n",
       "      <td>general RNA polymerase II transcription factor...</td>\n",
       "      <td>SWI/SNF complex*</td>\n",
       "      <td>NaN</td>\n",
       "      <td>0.0</td>\n",
       "      <td>NaN</td>\n",
       "    </tr>\n",
       "    <tr>\n",
       "      <th>3</th>\n",
       "      <td>YMR309C::CHR13_5</td>\n",
       "      <td>1.091</td>\n",
       "      <td>2.992</td>\n",
       "      <td>0.354</td>\n",
       "      <td>9.900</td>\n",
       "      <td>1.091</td>\n",
       "      <td>2.992</td>\n",
       "      <td>0.354</td>\n",
       "      <td>NIP1</td>\n",
       "      <td>yes</td>\n",
       "      <td>ORF::Verified</td>\n",
       "      <td>translational initiation</td>\n",
       "      <td>translation initiation factor activity</td>\n",
       "      <td>cytoplasm*</td>\n",
       "      <td>NaN</td>\n",
       "      <td>0.0</td>\n",
       "      <td>NaN</td>\n",
       "    </tr>\n",
       "    <tr>\n",
       "      <th>4</th>\n",
       "      <td>YKL119C::CHR11_2</td>\n",
       "      <td>0.375</td>\n",
       "      <td>2.910</td>\n",
       "      <td>2.797</td>\n",
       "      <td>9.622</td>\n",
       "      <td>0.375</td>\n",
       "      <td>2.910</td>\n",
       "      <td>2.797</td>\n",
       "      <td>VPH2</td>\n",
       "      <td>no</td>\n",
       "      <td>ORF::Verified</td>\n",
       "      <td>protein complex assembly*</td>\n",
       "      <td>molecular function unknown</td>\n",
       "      <td>endoplasmic reticulum membrane</td>\n",
       "      <td>NaN</td>\n",
       "      <td>1.0</td>\n",
       "      <td>YKL118W Dubious antisense 92 nt 1-92 of 312 bases</td>\n",
       "    </tr>\n",
       "  </tbody>\n",
       "</table>\n",
       "</div>"
      ],
      "text/plain": [
       "              probeid  21_12_2011_T11C4_EP6_2.5  21_12_2011_T11C5_EP9_1.25  \\\n",
       "0     YBR171W::CHR2_3                     1.023                      4.589   \n",
       "1     YHR060W::CHR8_2                     0.966                      3.352   \n",
       "2  YBR289W::CHR00_16A                     1.526                      3.234   \n",
       "3    YMR309C::CHR13_5                     1.091                      2.992   \n",
       "4    YKL119C::CHR11_2                     0.375                      2.910   \n",
       "\n",
       "   21_12_2011_T11C6_EP9_1.875  log2(REF)  (2) (Albicanol) EP6_0.05mg/ml  \\\n",
       "0                       4.321     10.889                          1.023   \n",
       "1                       1.055     10.118                          0.966   \n",
       "2                       0.549      9.856                          1.526   \n",
       "3                       0.354      9.900                          1.091   \n",
       "4                       2.797      9.622                          0.375   \n",
       "\n",
       "   (1) (Drimenol) EP9_0.025mg/ml  (1) ( Drimenol) EP9_0.0375mg/ml   gene  \\\n",
       "0                          4.589                            4.321  SEC66   \n",
       "1                          3.352                            1.055  VMA22   \n",
       "2                          3.234                            0.549   SNF5   \n",
       "3                          2.992                            0.354   NIP1   \n",
       "4                          2.910                            2.797   VPH2   \n",
       "\n",
       "  essential_gene   feature_type                 GO_process  \\\n",
       "0             no  ORF::Verified        filamentous growth*   \n",
       "1             no  ORF::Verified  protein complex assembly*   \n",
       "2             no  ORF::Verified      chromatin remodeling*   \n",
       "3            yes  ORF::Verified   translational initiation   \n",
       "4             no  ORF::Verified  protein complex assembly*   \n",
       "\n",
       "                                         GO_function  \\\n",
       "0                       protein transporter activity   \n",
       "1                           unfolded protein binding   \n",
       "2  general RNA polymerase II transcription factor...   \n",
       "3             translation initiation factor activity   \n",
       "4                         molecular function unknown   \n",
       "\n",
       "                      GO_component  notes  Cross_Del_Count  \\\n",
       "0  endoplasmic reticulum membrane*    NaN              0.0   \n",
       "1   endoplasmic reticulum membrane    NaN              0.0   \n",
       "2                 SWI/SNF complex*    NaN              0.0   \n",
       "3                       cytoplasm*    NaN              0.0   \n",
       "4   endoplasmic reticulum membrane    NaN              1.0   \n",
       "\n",
       "                                          Cross_Dels  \n",
       "0                                                NaN  \n",
       "1                                                NaN  \n",
       "2                                                NaN  \n",
       "3                                                NaN  \n",
       "4  YKL118W Dubious antisense 92 nt 1-92 of 312 bases  "
      ]
     },
     "execution_count": 10,
     "metadata": {},
     "output_type": "execute_result"
    }
   ],
   "source": [
    "original_data.head()"
   ]
  },
  {
   "cell_type": "code",
   "execution_count": 11,
   "metadata": {},
   "outputs": [],
   "source": [
    "original_data['orf'] = original_data['probeid'].astype(str)"
   ]
  },
  {
   "cell_type": "code",
   "execution_count": 12,
   "metadata": {},
   "outputs": [],
   "source": [
    "original_data['orf'] = original_data['orf'].apply(lambda x: x.split(':')[0])"
   ]
  },
  {
   "cell_type": "code",
   "execution_count": 13,
   "metadata": {},
   "outputs": [],
   "source": [
    "# Eliminate all white spaces & capitalize\n",
    "original_data['orf'] = clean_orf(original_data['orf'])"
   ]
  },
  {
   "cell_type": "code",
   "execution_count": 14,
   "metadata": {},
   "outputs": [],
   "source": [
    "# Translate to ORFs \n",
    "original_data['orf'] = translate_sc(original_data['orf'], to='orf')"
   ]
  },
  {
   "cell_type": "code",
   "execution_count": 15,
   "metadata": {},
   "outputs": [
    {
     "name": "stdout",
     "output_type": "stream",
     "text": [
      "Empty DataFrame\n",
      "Columns: [probeid, 21_12_2011_T11C4_EP6_2.5, 21_12_2011_T11C5_EP9_1.25, 21_12_2011_T11C6_EP9_1.875, log2(REF), (2) (Albicanol) EP6_0.05mg/ml, (1) (Drimenol) EP9_0.025mg/ml, (1) ( Drimenol) EP9_0.0375mg/ml, gene, essential_gene, feature_type, GO_process, GO_function, GO_component, notes, Cross_Del_Count, Cross_Dels, orf]\n",
      "Index: []\n"
     ]
    }
   ],
   "source": [
    "# Make sure everything translated ok\n",
    "t = looks_like_orf(original_data['orf'])\n",
    "print(original_data.loc[~t,])"
   ]
  },
  {
   "cell_type": "code",
   "execution_count": 16,
   "metadata": {},
   "outputs": [],
   "source": [
    "data_cols = ['(2) (Albicanol) EP6_0.05mg/ml','(1) (Drimenol) EP9_0.025mg/ml','(1) ( Drimenol) EP9_0.0375mg/ml']"
   ]
  },
  {
   "cell_type": "code",
   "execution_count": 17,
   "metadata": {},
   "outputs": [],
   "source": [
    "original_data.set_index('orf', inplace=True)"
   ]
  },
  {
   "cell_type": "code",
   "execution_count": 18,
   "metadata": {},
   "outputs": [],
   "source": [
    "original_data1 = original_data.loc[original_data['essential_gene']=='no', data_cols].copy()\n",
    "original_data2 = original_data.loc[original_data['essential_gene']=='yes', data_cols].copy()"
   ]
  },
  {
   "cell_type": "code",
   "execution_count": 19,
   "metadata": {},
   "outputs": [],
   "source": [
    "original_data1 = original_data1.apply(pd.to_numeric, axis=1, errors='coerce')\n",
    "original_data2 = original_data2.apply(pd.to_numeric, axis=1, errors='coerce')"
   ]
  },
  {
   "cell_type": "code",
   "execution_count": 20,
   "metadata": {},
   "outputs": [],
   "source": [
    "original_data1 = original_data1.groupby(original_data1.index).mean()\n",
    "original_data2 = original_data2.groupby(original_data2.index).mean()"
   ]
  },
  {
   "cell_type": "code",
   "execution_count": 21,
   "metadata": {},
   "outputs": [
    {
     "data": {
      "text/plain": [
       "(4629, 3)"
      ]
     },
     "execution_count": 21,
     "metadata": {},
     "output_type": "execute_result"
    }
   ],
   "source": [
    "original_data1.shape"
   ]
  },
  {
   "cell_type": "code",
   "execution_count": 22,
   "metadata": {},
   "outputs": [
    {
     "data": {
      "text/plain": [
       "(1098, 3)"
      ]
     },
     "execution_count": 22,
     "metadata": {},
     "output_type": "execute_result"
    }
   ],
   "source": [
    "original_data2.shape"
   ]
  },
  {
   "cell_type": "code",
   "execution_count": 24,
   "metadata": {},
   "outputs": [],
   "source": [
    "original_data = original_data1.join(original_data2, how='outer', lsuffix='_1', rsuffix='_2')"
   ]
  },
  {
   "cell_type": "code",
   "execution_count": 25,
   "metadata": {},
   "outputs": [
    {
     "data": {
      "text/html": [
       "<div>\n",
       "<style scoped>\n",
       "    .dataframe tbody tr th:only-of-type {\n",
       "        vertical-align: middle;\n",
       "    }\n",
       "\n",
       "    .dataframe tbody tr th {\n",
       "        vertical-align: top;\n",
       "    }\n",
       "\n",
       "    .dataframe thead th {\n",
       "        text-align: right;\n",
       "    }\n",
       "</style>\n",
       "<table border=\"1\" class=\"dataframe\">\n",
       "  <thead>\n",
       "    <tr style=\"text-align: right;\">\n",
       "      <th></th>\n",
       "      <th>(2) (Albicanol) EP6_0.05mg/ml_1</th>\n",
       "      <th>(1) (Drimenol) EP9_0.025mg/ml_1</th>\n",
       "      <th>(1) ( Drimenol) EP9_0.0375mg/ml_1</th>\n",
       "      <th>(2) (Albicanol) EP6_0.05mg/ml_2</th>\n",
       "      <th>(1) (Drimenol) EP9_0.025mg/ml_2</th>\n",
       "      <th>(1) ( Drimenol) EP9_0.0375mg/ml_2</th>\n",
       "    </tr>\n",
       "    <tr>\n",
       "      <th>orf</th>\n",
       "      <th></th>\n",
       "      <th></th>\n",
       "      <th></th>\n",
       "      <th></th>\n",
       "      <th></th>\n",
       "      <th></th>\n",
       "    </tr>\n",
       "  </thead>\n",
       "  <tbody>\n",
       "    <tr>\n",
       "      <th>YAL001C</th>\n",
       "      <td>NaN</td>\n",
       "      <td>NaN</td>\n",
       "      <td>NaN</td>\n",
       "      <td>0.085</td>\n",
       "      <td>-0.197</td>\n",
       "      <td>0.122</td>\n",
       "    </tr>\n",
       "    <tr>\n",
       "      <th>YAL002W</th>\n",
       "      <td>-0.118</td>\n",
       "      <td>-0.201</td>\n",
       "      <td>-0.360</td>\n",
       "      <td>NaN</td>\n",
       "      <td>NaN</td>\n",
       "      <td>NaN</td>\n",
       "    </tr>\n",
       "    <tr>\n",
       "      <th>YAL003W</th>\n",
       "      <td>NaN</td>\n",
       "      <td>NaN</td>\n",
       "      <td>NaN</td>\n",
       "      <td>0.015</td>\n",
       "      <td>-0.182</td>\n",
       "      <td>-0.119</td>\n",
       "    </tr>\n",
       "    <tr>\n",
       "      <th>YAL004W</th>\n",
       "      <td>0.003</td>\n",
       "      <td>-0.063</td>\n",
       "      <td>-0.271</td>\n",
       "      <td>NaN</td>\n",
       "      <td>NaN</td>\n",
       "      <td>NaN</td>\n",
       "    </tr>\n",
       "    <tr>\n",
       "      <th>YAL005C</th>\n",
       "      <td>-0.002</td>\n",
       "      <td>-0.160</td>\n",
       "      <td>-0.173</td>\n",
       "      <td>NaN</td>\n",
       "      <td>NaN</td>\n",
       "      <td>NaN</td>\n",
       "    </tr>\n",
       "  </tbody>\n",
       "</table>\n",
       "</div>"
      ],
      "text/plain": [
       "         (2) (Albicanol) EP6_0.05mg/ml_1  (1) (Drimenol) EP9_0.025mg/ml_1  \\\n",
       "orf                                                                         \n",
       "YAL001C                              NaN                              NaN   \n",
       "YAL002W                           -0.118                           -0.201   \n",
       "YAL003W                              NaN                              NaN   \n",
       "YAL004W                            0.003                           -0.063   \n",
       "YAL005C                           -0.002                           -0.160   \n",
       "\n",
       "         (1) ( Drimenol) EP9_0.0375mg/ml_1  (2) (Albicanol) EP6_0.05mg/ml_2  \\\n",
       "orf                                                                           \n",
       "YAL001C                                NaN                            0.085   \n",
       "YAL002W                             -0.360                              NaN   \n",
       "YAL003W                                NaN                            0.015   \n",
       "YAL004W                             -0.271                              NaN   \n",
       "YAL005C                             -0.173                              NaN   \n",
       "\n",
       "         (1) (Drimenol) EP9_0.025mg/ml_2  (1) ( Drimenol) EP9_0.0375mg/ml_2  \n",
       "orf                                                                          \n",
       "YAL001C                           -0.197                              0.122  \n",
       "YAL002W                              NaN                                NaN  \n",
       "YAL003W                           -0.182                             -0.119  \n",
       "YAL004W                              NaN                                NaN  \n",
       "YAL005C                              NaN                                NaN  "
      ]
     },
     "execution_count": 25,
     "metadata": {},
     "output_type": "execute_result"
    }
   ],
   "source": [
    "original_data.head()"
   ]
  },
  {
   "cell_type": "markdown",
   "metadata": {},
   "source": [
    "# Prepare the final dataset"
   ]
  },
  {
   "cell_type": "code",
   "execution_count": 26,
   "metadata": {},
   "outputs": [],
   "source": [
    "data = original_data.copy()"
   ]
  },
  {
   "cell_type": "code",
   "execution_count": 27,
   "metadata": {},
   "outputs": [],
   "source": [
    "dataset_ids = [21872, 21865, 21870, 21871, 21866, 21869]\n",
    "datasets = datasets.reindex(index=dataset_ids)"
   ]
  },
  {
   "cell_type": "code",
   "execution_count": 28,
   "metadata": {},
   "outputs": [],
   "source": [
    "lst = [datasets.index.values, ['value']*datasets.shape[0]]\n",
    "tuples = list(zip(*lst))\n",
    "idx = pd.MultiIndex.from_tuples(tuples, names=['dataset_id','data_type'])\n",
    "data.columns = idx"
   ]
  },
  {
   "cell_type": "code",
   "execution_count": 29,
   "metadata": {},
   "outputs": [
    {
     "data": {
      "text/html": [
       "<div>\n",
       "<style scoped>\n",
       "    .dataframe tbody tr th:only-of-type {\n",
       "        vertical-align: middle;\n",
       "    }\n",
       "\n",
       "    .dataframe tbody tr th {\n",
       "        vertical-align: top;\n",
       "    }\n",
       "\n",
       "    .dataframe thead tr th {\n",
       "        text-align: left;\n",
       "    }\n",
       "\n",
       "    .dataframe thead tr:last-of-type th {\n",
       "        text-align: right;\n",
       "    }\n",
       "</style>\n",
       "<table border=\"1\" class=\"dataframe\">\n",
       "  <thead>\n",
       "    <tr>\n",
       "      <th>dataset_id</th>\n",
       "      <th>21872</th>\n",
       "      <th>21865</th>\n",
       "      <th>21870</th>\n",
       "      <th>21871</th>\n",
       "      <th>21866</th>\n",
       "      <th>21869</th>\n",
       "    </tr>\n",
       "    <tr>\n",
       "      <th>data_type</th>\n",
       "      <th>value</th>\n",
       "      <th>value</th>\n",
       "      <th>value</th>\n",
       "      <th>value</th>\n",
       "      <th>value</th>\n",
       "      <th>value</th>\n",
       "    </tr>\n",
       "    <tr>\n",
       "      <th>orf</th>\n",
       "      <th></th>\n",
       "      <th></th>\n",
       "      <th></th>\n",
       "      <th></th>\n",
       "      <th></th>\n",
       "      <th></th>\n",
       "    </tr>\n",
       "  </thead>\n",
       "  <tbody>\n",
       "    <tr>\n",
       "      <th>YAL001C</th>\n",
       "      <td>NaN</td>\n",
       "      <td>NaN</td>\n",
       "      <td>NaN</td>\n",
       "      <td>0.085</td>\n",
       "      <td>-0.197</td>\n",
       "      <td>0.122</td>\n",
       "    </tr>\n",
       "    <tr>\n",
       "      <th>YAL002W</th>\n",
       "      <td>-0.118</td>\n",
       "      <td>-0.201</td>\n",
       "      <td>-0.360</td>\n",
       "      <td>NaN</td>\n",
       "      <td>NaN</td>\n",
       "      <td>NaN</td>\n",
       "    </tr>\n",
       "    <tr>\n",
       "      <th>YAL003W</th>\n",
       "      <td>NaN</td>\n",
       "      <td>NaN</td>\n",
       "      <td>NaN</td>\n",
       "      <td>0.015</td>\n",
       "      <td>-0.182</td>\n",
       "      <td>-0.119</td>\n",
       "    </tr>\n",
       "    <tr>\n",
       "      <th>YAL004W</th>\n",
       "      <td>0.003</td>\n",
       "      <td>-0.063</td>\n",
       "      <td>-0.271</td>\n",
       "      <td>NaN</td>\n",
       "      <td>NaN</td>\n",
       "      <td>NaN</td>\n",
       "    </tr>\n",
       "    <tr>\n",
       "      <th>YAL005C</th>\n",
       "      <td>-0.002</td>\n",
       "      <td>-0.160</td>\n",
       "      <td>-0.173</td>\n",
       "      <td>NaN</td>\n",
       "      <td>NaN</td>\n",
       "      <td>NaN</td>\n",
       "    </tr>\n",
       "  </tbody>\n",
       "</table>\n",
       "</div>"
      ],
      "text/plain": [
       "dataset_id  21872  21865  21870  21871  21866  21869\n",
       "data_type   value  value  value  value  value  value\n",
       "orf                                                 \n",
       "YAL001C       NaN    NaN    NaN  0.085 -0.197  0.122\n",
       "YAL002W    -0.118 -0.201 -0.360    NaN    NaN    NaN\n",
       "YAL003W       NaN    NaN    NaN  0.015 -0.182 -0.119\n",
       "YAL004W     0.003 -0.063 -0.271    NaN    NaN    NaN\n",
       "YAL005C    -0.002 -0.160 -0.173    NaN    NaN    NaN"
      ]
     },
     "execution_count": 29,
     "metadata": {},
     "output_type": "execute_result"
    }
   ],
   "source": [
    "data.head()"
   ]
  },
  {
   "cell_type": "markdown",
   "metadata": {},
   "source": [
    "## Subset to the genes currently in SGD"
   ]
  },
  {
   "cell_type": "code",
   "execution_count": 30,
   "metadata": {},
   "outputs": [
    {
     "name": "stdout",
     "output_type": "stream",
     "text": [
      "ORFs missing from SGD: 24\n"
     ]
    }
   ],
   "source": [
    "genes = pd.read_csv(path_to_genes, sep='\\t', index_col='id')\n",
    "genes = genes.reset_index().set_index('systematic_name')\n",
    "gene_ids = genes.reindex(index=data.index.values)['id'].values\n",
    "num_missing = np.sum(np.isnan(gene_ids))\n",
    "print('ORFs missing from SGD: %d' % num_missing)"
   ]
  },
  {
   "cell_type": "code",
   "execution_count": 31,
   "metadata": {},
   "outputs": [
    {
     "data": {
      "text/html": [
       "<div>\n",
       "<style scoped>\n",
       "    .dataframe tbody tr th:only-of-type {\n",
       "        vertical-align: middle;\n",
       "    }\n",
       "\n",
       "    .dataframe tbody tr th {\n",
       "        vertical-align: top;\n",
       "    }\n",
       "\n",
       "    .dataframe thead tr th {\n",
       "        text-align: left;\n",
       "    }\n",
       "\n",
       "    .dataframe thead tr:last-of-type th {\n",
       "        text-align: right;\n",
       "    }\n",
       "</style>\n",
       "<table border=\"1\" class=\"dataframe\">\n",
       "  <thead>\n",
       "    <tr>\n",
       "      <th></th>\n",
       "      <th>dataset_id</th>\n",
       "      <th>21872</th>\n",
       "      <th>21865</th>\n",
       "      <th>21870</th>\n",
       "      <th>21871</th>\n",
       "      <th>21866</th>\n",
       "      <th>21869</th>\n",
       "    </tr>\n",
       "    <tr>\n",
       "      <th></th>\n",
       "      <th>data_type</th>\n",
       "      <th>value</th>\n",
       "      <th>value</th>\n",
       "      <th>value</th>\n",
       "      <th>value</th>\n",
       "      <th>value</th>\n",
       "      <th>value</th>\n",
       "    </tr>\n",
       "    <tr>\n",
       "      <th>gene_id</th>\n",
       "      <th>orf</th>\n",
       "      <th></th>\n",
       "      <th></th>\n",
       "      <th></th>\n",
       "      <th></th>\n",
       "      <th></th>\n",
       "      <th></th>\n",
       "    </tr>\n",
       "  </thead>\n",
       "  <tbody>\n",
       "    <tr>\n",
       "      <th>1</th>\n",
       "      <th>YAL001C</th>\n",
       "      <td>NaN</td>\n",
       "      <td>NaN</td>\n",
       "      <td>NaN</td>\n",
       "      <td>0.085</td>\n",
       "      <td>-0.197</td>\n",
       "      <td>0.122</td>\n",
       "    </tr>\n",
       "    <tr>\n",
       "      <th>2</th>\n",
       "      <th>YAL002W</th>\n",
       "      <td>-0.118</td>\n",
       "      <td>-0.201</td>\n",
       "      <td>-0.360</td>\n",
       "      <td>NaN</td>\n",
       "      <td>NaN</td>\n",
       "      <td>NaN</td>\n",
       "    </tr>\n",
       "    <tr>\n",
       "      <th>3</th>\n",
       "      <th>YAL003W</th>\n",
       "      <td>NaN</td>\n",
       "      <td>NaN</td>\n",
       "      <td>NaN</td>\n",
       "      <td>0.015</td>\n",
       "      <td>-0.182</td>\n",
       "      <td>-0.119</td>\n",
       "    </tr>\n",
       "    <tr>\n",
       "      <th>1863</th>\n",
       "      <th>YAL004W</th>\n",
       "      <td>0.003</td>\n",
       "      <td>-0.063</td>\n",
       "      <td>-0.271</td>\n",
       "      <td>NaN</td>\n",
       "      <td>NaN</td>\n",
       "      <td>NaN</td>\n",
       "    </tr>\n",
       "    <tr>\n",
       "      <th>4</th>\n",
       "      <th>YAL005C</th>\n",
       "      <td>-0.002</td>\n",
       "      <td>-0.160</td>\n",
       "      <td>-0.173</td>\n",
       "      <td>NaN</td>\n",
       "      <td>NaN</td>\n",
       "      <td>NaN</td>\n",
       "    </tr>\n",
       "  </tbody>\n",
       "</table>\n",
       "</div>"
      ],
      "text/plain": [
       "dataset_id       21872  21865  21870  21871  21866  21869\n",
       "data_type        value  value  value  value  value  value\n",
       "gene_id orf                                              \n",
       "1       YAL001C    NaN    NaN    NaN  0.085 -0.197  0.122\n",
       "2       YAL002W -0.118 -0.201 -0.360    NaN    NaN    NaN\n",
       "3       YAL003W    NaN    NaN    NaN  0.015 -0.182 -0.119\n",
       "1863    YAL004W  0.003 -0.063 -0.271    NaN    NaN    NaN\n",
       "4       YAL005C -0.002 -0.160 -0.173    NaN    NaN    NaN"
      ]
     },
     "execution_count": 31,
     "metadata": {},
     "output_type": "execute_result"
    }
   ],
   "source": [
    "data['gene_id'] = gene_ids\n",
    "data = data.loc[data['gene_id'].notnull()]\n",
    "data['gene_id'] = data['gene_id'].astype(int)\n",
    "data = data.reset_index().set_index(['gene_id','orf'])\n",
    "\n",
    "data.head()"
   ]
  },
  {
   "cell_type": "markdown",
   "metadata": {},
   "source": [
    "# Normalize"
   ]
  },
  {
   "cell_type": "code",
   "execution_count": 32,
   "metadata": {},
   "outputs": [],
   "source": [
    "data_norm = normalize_phenotypic_scores(data, has_tested=True)"
   ]
  },
  {
   "cell_type": "code",
   "execution_count": 33,
   "metadata": {},
   "outputs": [],
   "source": [
    "# Assign proper column names\n",
    "lst = [datasets.index.values, ['valuez']*datasets.shape[0]]\n",
    "tuples = list(zip(*lst))\n",
    "idx = pd.MultiIndex.from_tuples(tuples, names=['dataset_id','data_type'])\n",
    "data_norm.columns = idx"
   ]
  },
  {
   "cell_type": "code",
   "execution_count": 34,
   "metadata": {},
   "outputs": [
    {
     "data": {
      "text/html": [
       "<div>\n",
       "<style scoped>\n",
       "    .dataframe tbody tr th:only-of-type {\n",
       "        vertical-align: middle;\n",
       "    }\n",
       "\n",
       "    .dataframe tbody tr th {\n",
       "        vertical-align: top;\n",
       "    }\n",
       "\n",
       "    .dataframe thead tr th {\n",
       "        text-align: left;\n",
       "    }\n",
       "\n",
       "    .dataframe thead tr:last-of-type th {\n",
       "        text-align: right;\n",
       "    }\n",
       "</style>\n",
       "<table border=\"1\" class=\"dataframe\">\n",
       "  <thead>\n",
       "    <tr>\n",
       "      <th></th>\n",
       "      <th>dataset_id</th>\n",
       "      <th>21872</th>\n",
       "      <th>21865</th>\n",
       "      <th>21870</th>\n",
       "      <th>21871</th>\n",
       "      <th>21866</th>\n",
       "      <th>21869</th>\n",
       "      <th>21872</th>\n",
       "      <th>21865</th>\n",
       "      <th>21870</th>\n",
       "      <th>21871</th>\n",
       "      <th>21866</th>\n",
       "      <th>21869</th>\n",
       "    </tr>\n",
       "    <tr>\n",
       "      <th></th>\n",
       "      <th>data_type</th>\n",
       "      <th>value</th>\n",
       "      <th>value</th>\n",
       "      <th>value</th>\n",
       "      <th>value</th>\n",
       "      <th>value</th>\n",
       "      <th>value</th>\n",
       "      <th>valuez</th>\n",
       "      <th>valuez</th>\n",
       "      <th>valuez</th>\n",
       "      <th>valuez</th>\n",
       "      <th>valuez</th>\n",
       "      <th>valuez</th>\n",
       "    </tr>\n",
       "    <tr>\n",
       "      <th>gene_id</th>\n",
       "      <th>orf</th>\n",
       "      <th></th>\n",
       "      <th></th>\n",
       "      <th></th>\n",
       "      <th></th>\n",
       "      <th></th>\n",
       "      <th></th>\n",
       "      <th></th>\n",
       "      <th></th>\n",
       "      <th></th>\n",
       "      <th></th>\n",
       "      <th></th>\n",
       "      <th></th>\n",
       "    </tr>\n",
       "  </thead>\n",
       "  <tbody>\n",
       "    <tr>\n",
       "      <th>1</th>\n",
       "      <th>YAL001C</th>\n",
       "      <td>NaN</td>\n",
       "      <td>NaN</td>\n",
       "      <td>NaN</td>\n",
       "      <td>0.085</td>\n",
       "      <td>-0.197</td>\n",
       "      <td>0.122</td>\n",
       "      <td>NaN</td>\n",
       "      <td>NaN</td>\n",
       "      <td>NaN</td>\n",
       "      <td>0.382497</td>\n",
       "      <td>-0.478398</td>\n",
       "      <td>0.418646</td>\n",
       "    </tr>\n",
       "    <tr>\n",
       "      <th>2</th>\n",
       "      <th>YAL002W</th>\n",
       "      <td>-0.118</td>\n",
       "      <td>-0.201</td>\n",
       "      <td>-0.360</td>\n",
       "      <td>NaN</td>\n",
       "      <td>NaN</td>\n",
       "      <td>NaN</td>\n",
       "      <td>-0.368740</td>\n",
       "      <td>-0.732638</td>\n",
       "      <td>-0.418735</td>\n",
       "      <td>NaN</td>\n",
       "      <td>NaN</td>\n",
       "      <td>NaN</td>\n",
       "    </tr>\n",
       "    <tr>\n",
       "      <th>3</th>\n",
       "      <th>YAL003W</th>\n",
       "      <td>NaN</td>\n",
       "      <td>NaN</td>\n",
       "      <td>NaN</td>\n",
       "      <td>0.015</td>\n",
       "      <td>-0.182</td>\n",
       "      <td>-0.119</td>\n",
       "      <td>NaN</td>\n",
       "      <td>NaN</td>\n",
       "      <td>NaN</td>\n",
       "      <td>0.126366</td>\n",
       "      <td>-0.423880</td>\n",
       "      <td>-0.295224</td>\n",
       "    </tr>\n",
       "    <tr>\n",
       "      <th>1863</th>\n",
       "      <th>YAL004W</th>\n",
       "      <td>0.003</td>\n",
       "      <td>-0.063</td>\n",
       "      <td>-0.271</td>\n",
       "      <td>NaN</td>\n",
       "      <td>NaN</td>\n",
       "      <td>NaN</td>\n",
       "      <td>0.049906</td>\n",
       "      <td>-0.311371</td>\n",
       "      <td>-0.279724</td>\n",
       "      <td>NaN</td>\n",
       "      <td>NaN</td>\n",
       "      <td>NaN</td>\n",
       "    </tr>\n",
       "    <tr>\n",
       "      <th>4</th>\n",
       "      <th>YAL005C</th>\n",
       "      <td>-0.002</td>\n",
       "      <td>-0.160</td>\n",
       "      <td>-0.173</td>\n",
       "      <td>NaN</td>\n",
       "      <td>NaN</td>\n",
       "      <td>NaN</td>\n",
       "      <td>0.032607</td>\n",
       "      <td>-0.607479</td>\n",
       "      <td>-0.126657</td>\n",
       "      <td>NaN</td>\n",
       "      <td>NaN</td>\n",
       "      <td>NaN</td>\n",
       "    </tr>\n",
       "  </tbody>\n",
       "</table>\n",
       "</div>"
      ],
      "text/plain": [
       "dataset_id       21872  21865  21870  21871  21866  21869     21872     21865  \\\n",
       "data_type        value  value  value  value  value  value    valuez    valuez   \n",
       "gene_id orf                                                                     \n",
       "1       YAL001C    NaN    NaN    NaN  0.085 -0.197  0.122       NaN       NaN   \n",
       "2       YAL002W -0.118 -0.201 -0.360    NaN    NaN    NaN -0.368740 -0.732638   \n",
       "3       YAL003W    NaN    NaN    NaN  0.015 -0.182 -0.119       NaN       NaN   \n",
       "1863    YAL004W  0.003 -0.063 -0.271    NaN    NaN    NaN  0.049906 -0.311371   \n",
       "4       YAL005C -0.002 -0.160 -0.173    NaN    NaN    NaN  0.032607 -0.607479   \n",
       "\n",
       "dataset_id          21870     21871     21866     21869  \n",
       "data_type          valuez    valuez    valuez    valuez  \n",
       "gene_id orf                                              \n",
       "1       YAL001C       NaN  0.382497 -0.478398  0.418646  \n",
       "2       YAL002W -0.418735       NaN       NaN       NaN  \n",
       "3       YAL003W       NaN  0.126366 -0.423880 -0.295224  \n",
       "1863    YAL004W -0.279724       NaN       NaN       NaN  \n",
       "4       YAL005C -0.126657       NaN       NaN       NaN  "
      ]
     },
     "execution_count": 34,
     "metadata": {},
     "output_type": "execute_result"
    }
   ],
   "source": [
    "data_norm[data.isnull()] = np.nan\n",
    "data_all = data.join(data_norm)\n",
    "\n",
    "data_all.head()"
   ]
  },
  {
   "cell_type": "markdown",
   "metadata": {},
   "source": [
    "# Print out"
   ]
  },
  {
   "cell_type": "code",
   "execution_count": 35,
   "metadata": {},
   "outputs": [],
   "source": [
    "for f in ['value','valuez']:\n",
    "    df = data_all.xs(f, level='data_type', axis=1).copy()\n",
    "    df.columns = datasets['name'].values\n",
    "    df = df.droplevel('gene_id', axis=0)\n",
    "    df.to_csv(paper_name + '_' + f + '.txt', sep='\\t')"
   ]
  },
  {
   "cell_type": "markdown",
   "metadata": {},
   "source": [
    "# Save to DB"
   ]
  },
  {
   "cell_type": "code",
   "execution_count": 36,
   "metadata": {},
   "outputs": [],
   "source": [
    "from IO.save_data_to_db3 import *"
   ]
  },
  {
   "cell_type": "code",
   "execution_count": 37,
   "metadata": {},
   "outputs": [
    {
     "name": "stderr",
     "output_type": "stream",
     "text": [
      "  0%|          | 0/6 [00:00<?, ?it/s]"
     ]
    },
    {
     "name": "stdout",
     "output_type": "stream",
     "text": [
      "Deleting all datasets for PMID 32548177...\n",
      "Inserting the new data...\n"
     ]
    },
    {
     "name": "stderr",
     "output_type": "stream",
     "text": [
      "100%|██████████| 6/6 [00:43<00:00,  7.25s/it]"
     ]
    },
    {
     "name": "stdout",
     "output_type": "stream",
     "text": [
      "Updating the data_modified_on field...\n"
     ]
    },
    {
     "name": "stderr",
     "output_type": "stream",
     "text": [
      "\n"
     ]
    }
   ],
   "source": [
    "save_data_to_db(data_all, paper_pmid)"
   ]
  },
  {
   "cell_type": "code",
   "execution_count": null,
   "metadata": {},
   "outputs": [],
   "source": []
  }
 ],
 "metadata": {
  "kernelspec": {
   "display_name": "yp-data",
   "language": "python",
   "name": "yp-data"
  },
  "language_info": {
   "codemirror_mode": {
    "name": "ipython",
    "version": 3
   },
   "file_extension": ".py",
   "mimetype": "text/x-python",
   "name": "python",
   "nbconvert_exporter": "python",
   "pygments_lexer": "ipython3",
   "version": "3.7.7"
  }
 },
 "nbformat": 4,
 "nbformat_minor": 4
}
