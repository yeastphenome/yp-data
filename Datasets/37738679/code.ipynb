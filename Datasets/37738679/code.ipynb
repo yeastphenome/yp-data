{
 "cells": [
  {
   "cell_type": "code",
   "execution_count": 1,
   "metadata": {},
   "outputs": [],
   "source": [
    "%run ../../Utils/yp_utils.py"
   ]
  },
  {
   "cell_type": "markdown",
   "metadata": {},
   "source": [
    "# Initial setup"
   ]
  },
  {
   "cell_type": "code",
   "execution_count": 2,
   "metadata": {},
   "outputs": [],
   "source": [
    "paper_pmid = 37738679\n",
    "paper_name = 'dolan_fasullo_2023' "
   ]
  },
  {
   "cell_type": "code",
   "execution_count": 3,
   "metadata": {},
   "outputs": [],
   "source": [
    "datasets = pd.read_csv('extras/YeastPhenome_' + str(paper_pmid) + '_datasets_list.txt', sep='\\t', header=None, names=['dataset_id', 'name'])"
   ]
  },
  {
   "cell_type": "code",
   "execution_count": 4,
   "metadata": {},
   "outputs": [],
   "source": [
    "datasets.set_index('dataset_id', inplace=True)"
   ]
  },
  {
   "cell_type": "markdown",
   "metadata": {},
   "source": [
    "# Load & process the data"
   ]
  },
  {
   "cell_type": "code",
   "execution_count": 5,
   "metadata": {},
   "outputs": [],
   "source": [
    "sheet_names = ['NoP450_400uM_IQ','No_P450_800uM_IQ','Humanized_400uM_IQ','Humanized_800uM_IQ']"
   ]
  },
  {
   "cell_type": "code",
   "execution_count": 9,
   "metadata": {},
   "outputs": [
    {
     "name": "stdout",
     "output_type": "stream",
     "text": [
      "(5927, 1)\n",
      "(5927, 1)\n",
      "(5927, 1)\n",
      "(5927, 1)\n"
     ]
    }
   ],
   "source": [
    "original_data_all = []\n",
    "for sheet_name in sheet_names:\n",
    "    t = pd.read_excel('raw_data/File S2.xlsx', sheet_name=sheet_name)\n",
    "    t = t[['Strain','m.value']].set_index('Strain')\n",
    "    t.columns = [sheet_name]\n",
    "    print(t.shape)\n",
    "    original_data_all.append(t)"
   ]
  },
  {
   "cell_type": "code",
   "execution_count": 10,
   "metadata": {},
   "outputs": [],
   "source": [
    "original_data = pd.concat(original_data_all, axis=1)"
   ]
  },
  {
   "cell_type": "code",
   "execution_count": 12,
   "metadata": {},
   "outputs": [],
   "source": [
    "original_data = original_data.reset_index()"
   ]
  },
  {
   "cell_type": "code",
   "execution_count": 13,
   "metadata": {},
   "outputs": [],
   "source": [
    "original_data['orf'] = original_data['Strain'].astype(str)"
   ]
  },
  {
   "cell_type": "code",
   "execution_count": 14,
   "metadata": {},
   "outputs": [],
   "source": [
    "# Eliminate all white spaces & capitalize\n",
    "original_data['orf'] = clean_orf(original_data['orf'])"
   ]
  },
  {
   "cell_type": "code",
   "execution_count": 15,
   "metadata": {},
   "outputs": [],
   "source": [
    "# Translate to ORFs \n",
    "original_data['orf'] = translate_sc(original_data['orf'], to='orf')"
   ]
  },
  {
   "cell_type": "code",
   "execution_count": 16,
   "metadata": {},
   "outputs": [
    {
     "name": "stdout",
     "output_type": "stream",
     "text": [
      "                 Strain  NoP450_400uM_IQ  No_P450_800uM_IQ  \\\n",
      "index_input                                                  \n",
      "361          YBR160W_AS         0.097887          0.498823   \n",
      "\n",
      "             Humanized_400uM_IQ  Humanized_800uM_IQ        orf  \n",
      "index_input                                                     \n",
      "361                    1.818383            1.237866  YBR160WAS  \n"
     ]
    }
   ],
   "source": [
    "# Make sure everything translated ok\n",
    "t = looks_like_orf(original_data['orf'])\n",
    "print(original_data.loc[~t,])"
   ]
  },
  {
   "cell_type": "code",
   "execution_count": 17,
   "metadata": {},
   "outputs": [],
   "source": [
    "original_data = original_data.loc[t,]"
   ]
  },
  {
   "cell_type": "code",
   "execution_count": 18,
   "metadata": {},
   "outputs": [],
   "source": [
    "original_data.set_index('orf', inplace=True)"
   ]
  },
  {
   "cell_type": "code",
   "execution_count": 19,
   "metadata": {},
   "outputs": [],
   "source": [
    "original_data = original_data.groupby(original_data.index).mean()"
   ]
  },
  {
   "cell_type": "code",
   "execution_count": 20,
   "metadata": {},
   "outputs": [
    {
     "data": {
      "text/plain": [
       "(5898, 4)"
      ]
     },
     "execution_count": 20,
     "metadata": {},
     "output_type": "execute_result"
    }
   ],
   "source": [
    "original_data.shape"
   ]
  },
  {
   "cell_type": "markdown",
   "metadata": {},
   "source": [
    "# Prepare the final dataset"
   ]
  },
  {
   "cell_type": "code",
   "execution_count": 21,
   "metadata": {},
   "outputs": [],
   "source": [
    "data = original_data.copy()"
   ]
  },
  {
   "cell_type": "code",
   "execution_count": 22,
   "metadata": {},
   "outputs": [],
   "source": [
    "dataset_ids = [22260,22261,22262,22263]\n",
    "datasets = datasets.reindex(index=dataset_ids)"
   ]
  },
  {
   "cell_type": "code",
   "execution_count": 23,
   "metadata": {},
   "outputs": [],
   "source": [
    "lst = [datasets.index.values, ['value']*datasets.shape[0]]\n",
    "tuples = list(zip(*lst))\n",
    "idx = pd.MultiIndex.from_tuples(tuples, names=['dataset_id','data_type'])\n",
    "data.columns = idx"
   ]
  },
  {
   "cell_type": "code",
   "execution_count": 24,
   "metadata": {},
   "outputs": [
    {
     "data": {
      "text/html": [
       "<div>\n",
       "<style scoped>\n",
       "    .dataframe tbody tr th:only-of-type {\n",
       "        vertical-align: middle;\n",
       "    }\n",
       "\n",
       "    .dataframe tbody tr th {\n",
       "        vertical-align: top;\n",
       "    }\n",
       "\n",
       "    .dataframe thead tr th {\n",
       "        text-align: left;\n",
       "    }\n",
       "\n",
       "    .dataframe thead tr:last-of-type th {\n",
       "        text-align: right;\n",
       "    }\n",
       "</style>\n",
       "<table border=\"1\" class=\"dataframe\">\n",
       "  <thead>\n",
       "    <tr>\n",
       "      <th>dataset_id</th>\n",
       "      <th>22260</th>\n",
       "      <th>22261</th>\n",
       "      <th>22262</th>\n",
       "      <th>22263</th>\n",
       "    </tr>\n",
       "    <tr>\n",
       "      <th>data_type</th>\n",
       "      <th>value</th>\n",
       "      <th>value</th>\n",
       "      <th>value</th>\n",
       "      <th>value</th>\n",
       "    </tr>\n",
       "    <tr>\n",
       "      <th>orf</th>\n",
       "      <th></th>\n",
       "      <th></th>\n",
       "      <th></th>\n",
       "      <th></th>\n",
       "    </tr>\n",
       "  </thead>\n",
       "  <tbody>\n",
       "    <tr>\n",
       "      <th>YAL001C</th>\n",
       "      <td>-3.845008</td>\n",
       "      <td>0.345754</td>\n",
       "      <td>-0.809804</td>\n",
       "      <td>-0.839039</td>\n",
       "    </tr>\n",
       "    <tr>\n",
       "      <th>YAL002W</th>\n",
       "      <td>0.099423</td>\n",
       "      <td>0.305412</td>\n",
       "      <td>0.544468</td>\n",
       "      <td>0.325272</td>\n",
       "    </tr>\n",
       "    <tr>\n",
       "      <th>YAL003W</th>\n",
       "      <td>0.097887</td>\n",
       "      <td>0.498823</td>\n",
       "      <td>1.818383</td>\n",
       "      <td>1.237866</td>\n",
       "    </tr>\n",
       "    <tr>\n",
       "      <th>YAL004W</th>\n",
       "      <td>0.097774</td>\n",
       "      <td>0.260891</td>\n",
       "      <td>0.024210</td>\n",
       "      <td>-0.056975</td>\n",
       "    </tr>\n",
       "    <tr>\n",
       "      <th>YAL005C</th>\n",
       "      <td>0.389332</td>\n",
       "      <td>0.604285</td>\n",
       "      <td>0.996898</td>\n",
       "      <td>0.872035</td>\n",
       "    </tr>\n",
       "  </tbody>\n",
       "</table>\n",
       "</div>"
      ],
      "text/plain": [
       "dataset_id     22260     22261     22262     22263\n",
       "data_type      value     value     value     value\n",
       "orf                                               \n",
       "YAL001C    -3.845008  0.345754 -0.809804 -0.839039\n",
       "YAL002W     0.099423  0.305412  0.544468  0.325272\n",
       "YAL003W     0.097887  0.498823  1.818383  1.237866\n",
       "YAL004W     0.097774  0.260891  0.024210 -0.056975\n",
       "YAL005C     0.389332  0.604285  0.996898  0.872035"
      ]
     },
     "execution_count": 24,
     "metadata": {},
     "output_type": "execute_result"
    }
   ],
   "source": [
    "data.head()"
   ]
  },
  {
   "cell_type": "markdown",
   "metadata": {},
   "source": [
    "## Subset to the genes currently in SGD"
   ]
  },
  {
   "cell_type": "code",
   "execution_count": 25,
   "metadata": {},
   "outputs": [
    {
     "name": "stdout",
     "output_type": "stream",
     "text": [
      "ORFs missing from SGD: 24\n"
     ]
    }
   ],
   "source": [
    "genes = pd.read_csv(path_to_genes, sep='\\t', index_col='id')\n",
    "genes = genes.reset_index().set_index('systematic_name')\n",
    "gene_ids = genes.reindex(index=data.index.values)['id'].values\n",
    "num_missing = np.sum(np.isnan(gene_ids))\n",
    "print('ORFs missing from SGD: %d' % num_missing)"
   ]
  },
  {
   "cell_type": "code",
   "execution_count": 26,
   "metadata": {},
   "outputs": [
    {
     "data": {
      "text/html": [
       "<div>\n",
       "<style scoped>\n",
       "    .dataframe tbody tr th:only-of-type {\n",
       "        vertical-align: middle;\n",
       "    }\n",
       "\n",
       "    .dataframe tbody tr th {\n",
       "        vertical-align: top;\n",
       "    }\n",
       "\n",
       "    .dataframe thead tr th {\n",
       "        text-align: left;\n",
       "    }\n",
       "\n",
       "    .dataframe thead tr:last-of-type th {\n",
       "        text-align: right;\n",
       "    }\n",
       "</style>\n",
       "<table border=\"1\" class=\"dataframe\">\n",
       "  <thead>\n",
       "    <tr>\n",
       "      <th></th>\n",
       "      <th>dataset_id</th>\n",
       "      <th>22260</th>\n",
       "      <th>22261</th>\n",
       "      <th>22262</th>\n",
       "      <th>22263</th>\n",
       "    </tr>\n",
       "    <tr>\n",
       "      <th></th>\n",
       "      <th>data_type</th>\n",
       "      <th>value</th>\n",
       "      <th>value</th>\n",
       "      <th>value</th>\n",
       "      <th>value</th>\n",
       "    </tr>\n",
       "    <tr>\n",
       "      <th>gene_id</th>\n",
       "      <th>orf</th>\n",
       "      <th></th>\n",
       "      <th></th>\n",
       "      <th></th>\n",
       "      <th></th>\n",
       "    </tr>\n",
       "  </thead>\n",
       "  <tbody>\n",
       "    <tr>\n",
       "      <th>1</th>\n",
       "      <th>YAL001C</th>\n",
       "      <td>-3.845008</td>\n",
       "      <td>0.345754</td>\n",
       "      <td>-0.809804</td>\n",
       "      <td>-0.839039</td>\n",
       "    </tr>\n",
       "    <tr>\n",
       "      <th>2</th>\n",
       "      <th>YAL002W</th>\n",
       "      <td>0.099423</td>\n",
       "      <td>0.305412</td>\n",
       "      <td>0.544468</td>\n",
       "      <td>0.325272</td>\n",
       "    </tr>\n",
       "    <tr>\n",
       "      <th>3</th>\n",
       "      <th>YAL003W</th>\n",
       "      <td>0.097887</td>\n",
       "      <td>0.498823</td>\n",
       "      <td>1.818383</td>\n",
       "      <td>1.237866</td>\n",
       "    </tr>\n",
       "    <tr>\n",
       "      <th>1863</th>\n",
       "      <th>YAL004W</th>\n",
       "      <td>0.097774</td>\n",
       "      <td>0.260891</td>\n",
       "      <td>0.024210</td>\n",
       "      <td>-0.056975</td>\n",
       "    </tr>\n",
       "    <tr>\n",
       "      <th>4</th>\n",
       "      <th>YAL005C</th>\n",
       "      <td>0.389332</td>\n",
       "      <td>0.604285</td>\n",
       "      <td>0.996898</td>\n",
       "      <td>0.872035</td>\n",
       "    </tr>\n",
       "  </tbody>\n",
       "</table>\n",
       "</div>"
      ],
      "text/plain": [
       "dataset_id          22260     22261     22262     22263\n",
       "data_type           value     value     value     value\n",
       "gene_id orf                                            \n",
       "1       YAL001C -3.845008  0.345754 -0.809804 -0.839039\n",
       "2       YAL002W  0.099423  0.305412  0.544468  0.325272\n",
       "3       YAL003W  0.097887  0.498823  1.818383  1.237866\n",
       "1863    YAL004W  0.097774  0.260891  0.024210 -0.056975\n",
       "4       YAL005C  0.389332  0.604285  0.996898  0.872035"
      ]
     },
     "execution_count": 26,
     "metadata": {},
     "output_type": "execute_result"
    }
   ],
   "source": [
    "data['gene_id'] = gene_ids\n",
    "data = data.loc[data['gene_id'].notnull()]\n",
    "data['gene_id'] = data['gene_id'].astype(int)\n",
    "data = data.reset_index().set_index(['gene_id','orf'])\n",
    "\n",
    "data.head()"
   ]
  },
  {
   "cell_type": "markdown",
   "metadata": {},
   "source": [
    "# Normalize"
   ]
  },
  {
   "cell_type": "code",
   "execution_count": 27,
   "metadata": {},
   "outputs": [],
   "source": [
    "data_norm = normalize_phenotypic_scores(data, has_tested=True)"
   ]
  },
  {
   "cell_type": "code",
   "execution_count": 28,
   "metadata": {},
   "outputs": [],
   "source": [
    "# Assign proper column names\n",
    "lst = [datasets.index.values, ['valuez']*datasets.shape[0]]\n",
    "tuples = list(zip(*lst))\n",
    "idx = pd.MultiIndex.from_tuples(tuples, names=['dataset_id','data_type'])\n",
    "data_norm.columns = idx"
   ]
  },
  {
   "cell_type": "code",
   "execution_count": 29,
   "metadata": {},
   "outputs": [
    {
     "data": {
      "text/html": [
       "<div>\n",
       "<style scoped>\n",
       "    .dataframe tbody tr th:only-of-type {\n",
       "        vertical-align: middle;\n",
       "    }\n",
       "\n",
       "    .dataframe tbody tr th {\n",
       "        vertical-align: top;\n",
       "    }\n",
       "\n",
       "    .dataframe thead tr th {\n",
       "        text-align: left;\n",
       "    }\n",
       "\n",
       "    .dataframe thead tr:last-of-type th {\n",
       "        text-align: right;\n",
       "    }\n",
       "</style>\n",
       "<table border=\"1\" class=\"dataframe\">\n",
       "  <thead>\n",
       "    <tr>\n",
       "      <th></th>\n",
       "      <th>dataset_id</th>\n",
       "      <th>22260</th>\n",
       "      <th>22261</th>\n",
       "      <th>22262</th>\n",
       "      <th>22263</th>\n",
       "      <th>22260</th>\n",
       "      <th>22261</th>\n",
       "      <th>22262</th>\n",
       "      <th>22263</th>\n",
       "    </tr>\n",
       "    <tr>\n",
       "      <th></th>\n",
       "      <th>data_type</th>\n",
       "      <th>value</th>\n",
       "      <th>value</th>\n",
       "      <th>value</th>\n",
       "      <th>value</th>\n",
       "      <th>valuez</th>\n",
       "      <th>valuez</th>\n",
       "      <th>valuez</th>\n",
       "      <th>valuez</th>\n",
       "    </tr>\n",
       "    <tr>\n",
       "      <th>gene_id</th>\n",
       "      <th>orf</th>\n",
       "      <th></th>\n",
       "      <th></th>\n",
       "      <th></th>\n",
       "      <th></th>\n",
       "      <th></th>\n",
       "      <th></th>\n",
       "      <th></th>\n",
       "      <th></th>\n",
       "    </tr>\n",
       "  </thead>\n",
       "  <tbody>\n",
       "    <tr>\n",
       "      <th>1</th>\n",
       "      <th>YAL001C</th>\n",
       "      <td>-3.845008</td>\n",
       "      <td>0.345754</td>\n",
       "      <td>-0.809804</td>\n",
       "      <td>-0.839039</td>\n",
       "      <td>-3.780795</td>\n",
       "      <td>0.469165</td>\n",
       "      <td>-0.718497</td>\n",
       "      <td>-0.878183</td>\n",
       "    </tr>\n",
       "    <tr>\n",
       "      <th>2</th>\n",
       "      <th>YAL002W</th>\n",
       "      <td>0.099423</td>\n",
       "      <td>0.305412</td>\n",
       "      <td>0.544468</td>\n",
       "      <td>0.325272</td>\n",
       "      <td>0.101922</td>\n",
       "      <td>0.416753</td>\n",
       "      <td>0.381382</td>\n",
       "      <td>0.161683</td>\n",
       "    </tr>\n",
       "    <tr>\n",
       "      <th>3</th>\n",
       "      <th>YAL003W</th>\n",
       "      <td>0.097887</td>\n",
       "      <td>0.498823</td>\n",
       "      <td>1.818383</td>\n",
       "      <td>1.237866</td>\n",
       "      <td>0.100409</td>\n",
       "      <td>0.668033</td>\n",
       "      <td>1.415999</td>\n",
       "      <td>0.976737</td>\n",
       "    </tr>\n",
       "    <tr>\n",
       "      <th>1863</th>\n",
       "      <th>YAL004W</th>\n",
       "      <td>0.097774</td>\n",
       "      <td>0.260891</td>\n",
       "      <td>0.024210</td>\n",
       "      <td>-0.056975</td>\n",
       "      <td>0.100299</td>\n",
       "      <td>0.358911</td>\n",
       "      <td>-0.041148</td>\n",
       "      <td>-0.179708</td>\n",
       "    </tr>\n",
       "    <tr>\n",
       "      <th>4</th>\n",
       "      <th>YAL005C</th>\n",
       "      <td>0.389332</td>\n",
       "      <td>0.604285</td>\n",
       "      <td>0.996898</td>\n",
       "      <td>0.872035</td>\n",
       "      <td>0.387295</td>\n",
       "      <td>0.805049</td>\n",
       "      <td>0.748825</td>\n",
       "      <td>0.650007</td>\n",
       "    </tr>\n",
       "  </tbody>\n",
       "</table>\n",
       "</div>"
      ],
      "text/plain": [
       "dataset_id          22260     22261     22262     22263     22260     22261  \\\n",
       "data_type           value     value     value     value    valuez    valuez   \n",
       "gene_id orf                                                                   \n",
       "1       YAL001C -3.845008  0.345754 -0.809804 -0.839039 -3.780795  0.469165   \n",
       "2       YAL002W  0.099423  0.305412  0.544468  0.325272  0.101922  0.416753   \n",
       "3       YAL003W  0.097887  0.498823  1.818383  1.237866  0.100409  0.668033   \n",
       "1863    YAL004W  0.097774  0.260891  0.024210 -0.056975  0.100299  0.358911   \n",
       "4       YAL005C  0.389332  0.604285  0.996898  0.872035  0.387295  0.805049   \n",
       "\n",
       "dataset_id          22262     22263  \n",
       "data_type          valuez    valuez  \n",
       "gene_id orf                          \n",
       "1       YAL001C -0.718497 -0.878183  \n",
       "2       YAL002W  0.381382  0.161683  \n",
       "3       YAL003W  1.415999  0.976737  \n",
       "1863    YAL004W -0.041148 -0.179708  \n",
       "4       YAL005C  0.748825  0.650007  "
      ]
     },
     "execution_count": 29,
     "metadata": {},
     "output_type": "execute_result"
    }
   ],
   "source": [
    "data_norm[data.isnull()] = np.nan\n",
    "data_all = data.join(data_norm)\n",
    "\n",
    "data_all.head()"
   ]
  },
  {
   "cell_type": "markdown",
   "metadata": {},
   "source": [
    "# Print out"
   ]
  },
  {
   "cell_type": "code",
   "execution_count": 30,
   "metadata": {},
   "outputs": [],
   "source": [
    "for f in ['value','valuez']:\n",
    "    df = data_all.xs(f, level='data_type', axis=1).copy()\n",
    "    df.columns = datasets['name'].values\n",
    "    df = df.droplevel('gene_id', axis=0)\n",
    "    df.to_csv(paper_name + '_' + f + '.txt', sep='\\t')"
   ]
  }
 ],
 "metadata": {
  "kernelspec": {
   "display_name": "yp-data",
   "language": "python",
   "name": "yp-data"
  },
  "language_info": {
   "codemirror_mode": {
    "name": "ipython",
    "version": 3
   },
   "file_extension": ".py",
   "mimetype": "text/x-python",
   "name": "python",
   "nbconvert_exporter": "python",
   "pygments_lexer": "ipython3",
   "version": "3.7.7"
  }
 },
 "nbformat": 4,
 "nbformat_minor": 4
}
