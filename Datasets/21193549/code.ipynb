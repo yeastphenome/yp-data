{
 "cells": [
  {
   "cell_type": "code",
   "execution_count": 1,
   "metadata": {},
   "outputs": [],
   "source": [
    "%run ../../Utils/yp_utils.py"
   ]
  },
  {
   "cell_type": "markdown",
   "metadata": {},
   "source": [
    "# Initial setup"
   ]
  },
  {
   "cell_type": "code",
   "execution_count": 2,
   "metadata": {},
   "outputs": [],
   "source": [
    "paper_pmid = 21193549\n",
    "paper_name = 'decastro_goldman_2011' "
   ]
  },
  {
   "cell_type": "code",
   "execution_count": 3,
   "metadata": {},
   "outputs": [],
   "source": [
    "datasets = pd.read_csv('extras/YeastPhenome_' + str(paper_pmid) + '_datasets_list.txt', sep='\\t', header=None, names=['dataset_id', 'name'])"
   ]
  },
  {
   "cell_type": "code",
   "execution_count": 4,
   "metadata": {},
   "outputs": [],
   "source": [
    "datasets.set_index('dataset_id', inplace=True)"
   ]
  },
  {
   "cell_type": "markdown",
   "metadata": {},
   "source": [
    "# Load & process the data"
   ]
  },
  {
   "cell_type": "code",
   "execution_count": 5,
   "metadata": {},
   "outputs": [],
   "source": [
    "original_data = pd.read_excel('raw_data/Supplementary_Table_2S.xlsx', sheet_name='Plan2')"
   ]
  },
  {
   "cell_type": "code",
   "execution_count": 6,
   "metadata": {},
   "outputs": [
    {
     "name": "stdout",
     "output_type": "stream",
     "text": [
      "Original data dimensions: 159 x 3\n"
     ]
    }
   ],
   "source": [
    "print('Original data dimensions: %d x %d' % (original_data.shape))"
   ]
  },
  {
   "cell_type": "code",
   "execution_count": 7,
   "metadata": {},
   "outputs": [
    {
     "data": {
      "text/html": [
       "<div>\n",
       "<style scoped>\n",
       "    .dataframe tbody tr th:only-of-type {\n",
       "        vertical-align: middle;\n",
       "    }\n",
       "\n",
       "    .dataframe tbody tr th {\n",
       "        vertical-align: top;\n",
       "    }\n",
       "\n",
       "    .dataframe thead th {\n",
       "        text-align: right;\n",
       "    }\n",
       "</style>\n",
       "<table border=\"1\" class=\"dataframe\">\n",
       "  <thead>\n",
       "    <tr style=\"text-align: right;\">\n",
       "      <th></th>\n",
       "      <th>Unnamed: 0</th>\n",
       "      <th>Unnamed: 1</th>\n",
       "      <th>Unnamed: 2</th>\n",
       "    </tr>\n",
       "  </thead>\n",
       "  <tbody>\n",
       "    <tr>\n",
       "      <th>0</th>\n",
       "      <td>Metabolic process (GO:0008152)</td>\n",
       "      <td>NaN</td>\n",
       "      <td>NaN</td>\n",
       "    </tr>\n",
       "    <tr>\n",
       "      <th>1</th>\n",
       "      <td>THR1</td>\n",
       "      <td>YHR025W</td>\n",
       "      <td>Homoserine kinase, conserved protein required ...</td>\n",
       "    </tr>\n",
       "    <tr>\n",
       "      <th>2</th>\n",
       "      <td>HOM6</td>\n",
       "      <td>YJR139C</td>\n",
       "      <td>Homoserine dehydrogenase (L-homoserine:NADP ox...</td>\n",
       "    </tr>\n",
       "    <tr>\n",
       "      <th>3</th>\n",
       "      <td>NONE</td>\n",
       "      <td>YGR012W</td>\n",
       "      <td>Putative cysteine synthase, localized to the m...</td>\n",
       "    </tr>\n",
       "    <tr>\n",
       "      <th>4</th>\n",
       "      <td>TRP3</td>\n",
       "      <td>YKL211C</td>\n",
       "      <td>Bifunctional enzyme exhibiting both indole-3-g...</td>\n",
       "    </tr>\n",
       "  </tbody>\n",
       "</table>\n",
       "</div>"
      ],
      "text/plain": [
       "                       Unnamed: 0 Unnamed: 1  \\\n",
       "0  Metabolic process (GO:0008152)        NaN   \n",
       "1                            THR1    YHR025W   \n",
       "2                            HOM6    YJR139C   \n",
       "3                            NONE    YGR012W   \n",
       "4                            TRP3    YKL211C   \n",
       "\n",
       "                                          Unnamed: 2  \n",
       "0                                                NaN  \n",
       "1  Homoserine kinase, conserved protein required ...  \n",
       "2  Homoserine dehydrogenase (L-homoserine:NADP ox...  \n",
       "3  Putative cysteine synthase, localized to the m...  \n",
       "4  Bifunctional enzyme exhibiting both indole-3-g...  "
      ]
     },
     "execution_count": 7,
     "metadata": {},
     "output_type": "execute_result"
    }
   ],
   "source": [
    "original_data.head()"
   ]
  },
  {
   "cell_type": "code",
   "execution_count": 8,
   "metadata": {},
   "outputs": [],
   "source": [
    "original_data['orf'] = original_data['Unnamed: 1'].astype(str)"
   ]
  },
  {
   "cell_type": "code",
   "execution_count": 9,
   "metadata": {},
   "outputs": [],
   "source": [
    "# Eliminate all white spaces & capitalize\n",
    "original_data['orf'] = clean_orf(original_data['orf'])"
   ]
  },
  {
   "cell_type": "code",
   "execution_count": 10,
   "metadata": {},
   "outputs": [],
   "source": [
    "# Translate to ORFs \n",
    "original_data['orf'] = translate_sc(original_data['orf'], to='orf')"
   ]
  },
  {
   "cell_type": "code",
   "execution_count": 11,
   "metadata": {},
   "outputs": [
    {
     "name": "stdout",
     "output_type": "stream",
     "text": [
      "                                                    Unnamed: 0 Unnamed: 1  \\\n",
      "index_input                                                                 \n",
      "0                               Metabolic process (GO:0008152)        NaN   \n",
      "28                                                         NaN        NaN   \n",
      "29           Protein Transport (GO:0015031) and Transport (...        NaN   \n",
      "67                                                         NaN        NaN   \n",
      "68           Cellular component organization and biogenesis...        NaN   \n",
      "80                                                         NaN        NaN   \n",
      "81           DNA metabolic process (GO:0006259) and Transcr...        NaN   \n",
      "110                                                        NaN        NaN   \n",
      "111                                RNA processing (GO:0006396)        NaN   \n",
      "120                                                        NaN        NaN   \n",
      "121                                  Translation (GO:0006412;)        NaN   \n",
      "130                                                        NaN        NaN   \n",
      "131                           Signal transduction (GO:0007165)        NaN   \n",
      "136                                                        NaN        NaN   \n",
      "137                Carbohydrate metabolic process (GO:0005975)        NaN   \n",
      "141                                                        NaN        NaN   \n",
      "142                            Response to stress (GO:0006950)        NaN   \n",
      "144                                                        NaN        NaN   \n",
      "145                                    Cell cycle (GO:0007049)        NaN   \n",
      "148                                                        NaN        NaN   \n",
      "149                                 Biological process unknown        NaN   \n",
      "\n",
      "            Unnamed: 2  orf  \n",
      "index_input                  \n",
      "0                  NaN  NAN  \n",
      "28                 NaN  NAN  \n",
      "29                 NaN  NAN  \n",
      "67                 NaN  NAN  \n",
      "68                 NaN  NAN  \n",
      "80                 NaN  NAN  \n",
      "81                 NaN  NAN  \n",
      "110                NaN  NAN  \n",
      "111                NaN  NAN  \n",
      "120                NaN  NAN  \n",
      "121                NaN  NAN  \n",
      "130                NaN  NAN  \n",
      "131                NaN  NAN  \n",
      "136                NaN  NAN  \n",
      "137                NaN  NAN  \n",
      "141                NaN  NAN  \n",
      "142                NaN  NAN  \n",
      "144                NaN  NAN  \n",
      "145                NaN  NAN  \n",
      "148                NaN  NAN  \n",
      "149                NaN  NAN  \n"
     ]
    }
   ],
   "source": [
    "# Make sure everything translated ok\n",
    "t = looks_like_orf(original_data['orf'])\n",
    "print(original_data.loc[~t,])"
   ]
  },
  {
   "cell_type": "code",
   "execution_count": 12,
   "metadata": {},
   "outputs": [],
   "source": [
    "original_data = original_data.loc[t,:]"
   ]
  },
  {
   "cell_type": "code",
   "execution_count": 13,
   "metadata": {},
   "outputs": [],
   "source": [
    "original_data['data'] = -1"
   ]
  },
  {
   "cell_type": "code",
   "execution_count": 14,
   "metadata": {},
   "outputs": [],
   "source": [
    "original_data.set_index('orf', inplace=True)"
   ]
  },
  {
   "cell_type": "code",
   "execution_count": 15,
   "metadata": {},
   "outputs": [],
   "source": [
    "original_data = original_data[['data']].copy()"
   ]
  },
  {
   "cell_type": "code",
   "execution_count": 16,
   "metadata": {},
   "outputs": [],
   "source": [
    "original_data = original_data.groupby(original_data.index).mean()"
   ]
  },
  {
   "cell_type": "code",
   "execution_count": 17,
   "metadata": {},
   "outputs": [
    {
     "data": {
      "text/plain": [
       "(138, 1)"
      ]
     },
     "execution_count": 17,
     "metadata": {},
     "output_type": "execute_result"
    }
   ],
   "source": [
    "original_data.shape"
   ]
  },
  {
   "cell_type": "markdown",
   "metadata": {},
   "source": [
    "# Load & process tested strains"
   ]
  },
  {
   "cell_type": "code",
   "execution_count": 18,
   "metadata": {},
   "outputs": [],
   "source": [
    "tested = pd.read_csv('raw_data/strain_a_mating_type.txt', sep='\\t')"
   ]
  },
  {
   "cell_type": "code",
   "execution_count": 19,
   "metadata": {},
   "outputs": [
    {
     "data": {
      "text/html": [
       "<div>\n",
       "<style scoped>\n",
       "    .dataframe tbody tr th:only-of-type {\n",
       "        vertical-align: middle;\n",
       "    }\n",
       "\n",
       "    .dataframe tbody tr th {\n",
       "        vertical-align: top;\n",
       "    }\n",
       "\n",
       "    .dataframe thead th {\n",
       "        text-align: right;\n",
       "    }\n",
       "</style>\n",
       "<table border=\"1\" class=\"dataframe\">\n",
       "  <thead>\n",
       "    <tr style=\"text-align: right;\">\n",
       "      <th></th>\n",
       "      <th>rec_num</th>\n",
       "      <th>ORF_name</th>\n",
       "      <th>deletion_alias</th>\n",
       "      <th>A_confirmation_primer_sequence</th>\n",
       "      <th>B_confirmation_primer_sequence</th>\n",
       "      <th>C_confirmation_primer_sequence</th>\n",
       "      <th>D_confirmation_primer_sequence</th>\n",
       "      <th>UPTAG_primer_sequence</th>\n",
       "      <th>DNTAG_primer_sequence</th>\n",
       "      <th>UPstream45_primer_sequence</th>\n",
       "      <th>...</th>\n",
       "      <th>AD_wt</th>\n",
       "      <th>AD_del</th>\n",
       "      <th>AB_del_PCR</th>\n",
       "      <th>CD_del_PCR</th>\n",
       "      <th>UPTAG_sequence_20mer</th>\n",
       "      <th>DNTAG_sequence_20mer</th>\n",
       "      <th>Unnamed: 24</th>\n",
       "      <th>Unnamed: 25</th>\n",
       "      <th>Unnamed: 26</th>\n",
       "      <th>Unnamed: 27</th>\n",
       "    </tr>\n",
       "  </thead>\n",
       "  <tbody>\n",
       "    <tr>\n",
       "      <th>0</th>\n",
       "      <td>=====</td>\n",
       "      <td>=========</td>\n",
       "      <td>==============</td>\n",
       "      <td>==============================</td>\n",
       "      <td>==============================</td>\n",
       "      <td>==============================</td>\n",
       "      <td>==============================</td>\n",
       "      <td>==============================================...</td>\n",
       "      <td>==============================================...</td>\n",
       "      <td>==============================================...</td>\n",
       "      <td>...</td>\n",
       "      <td>========</td>\n",
       "      <td>========</td>\n",
       "      <td>==========</td>\n",
       "      <td>==========</td>\n",
       "      <td>====================</td>\n",
       "      <td>====================</td>\n",
       "      <td>NaN</td>\n",
       "      <td>NaN</td>\n",
       "      <td>NaN</td>\n",
       "      <td>NaN</td>\n",
       "    </tr>\n",
       "    <tr>\n",
       "      <th>1</th>\n",
       "      <td>405</td>\n",
       "      <td>YAL002W</td>\n",
       "      <td></td>\n",
       "      <td>CTTCATATACGGCACTCCCCTGAA</td>\n",
       "      <td>CTCAGATAAGGTCGGCACTAGGATTG</td>\n",
       "      <td>ATGTACAGCGCCACCAAGATATGA</td>\n",
       "      <td>TAGGTGTCGTGAAGTACTTTCGCTT</td>\n",
       "      <td>GATGTCCACGAGGTCTCTATACTGACAGCACGCATGGCCGTACGCT...</td>\n",
       "      <td>...</td>\n",
       "      <td>GGAGGGCCCACGTGCTTGTATCCGACAGCCACGTATTTTTTGATGG...</td>\n",
       "      <td>...</td>\n",
       "      <td>3904</td>\n",
       "      <td>1918</td>\n",
       "      <td></td>\n",
       "      <td></td>\n",
       "      <td>ATACTGACAGCACGCATGGC</td>\n",
       "      <td>NaN</td>\n",
       "      <td>NaN</td>\n",
       "      <td>NaN</td>\n",
       "      <td>NaN</td>\n",
       "      <td>NaN</td>\n",
       "    </tr>\n",
       "    <tr>\n",
       "      <th>2</th>\n",
       "      <td>402</td>\n",
       "      <td>YAL004W</td>\n",
       "      <td></td>\n",
       "      <td>AATCTGGCTCTGGTGATGGAAGTGTA</td>\n",
       "      <td>TCTCTTTGTTGTTCATTGAAGACGGTA</td>\n",
       "      <td>AGATTCGGCAGTTTCCTTCATCTTACC</td>\n",
       "      <td>TTAGCTGATCGTTTCGAGGACTTCAA</td>\n",
       "      <td>GATGTCCACGAGGTCTCTTATGGCACGGCAGACATTCCCGTACGCT...</td>\n",
       "      <td>...</td>\n",
       "      <td>GAAGTGGTTGACCAATCTGTTGTCAAAATCTTCACCACCCAAATGG...</td>\n",
       "      <td>...</td>\n",
       "      <td>1094</td>\n",
       "      <td>1991</td>\n",
       "      <td></td>\n",
       "      <td></td>\n",
       "      <td>TATGGCACGGCAGACATTCC</td>\n",
       "      <td>NaN</td>\n",
       "      <td>NaN</td>\n",
       "      <td>NaN</td>\n",
       "      <td>NaN</td>\n",
       "      <td>NaN</td>\n",
       "    </tr>\n",
       "    <tr>\n",
       "      <th>3</th>\n",
       "      <td>403</td>\n",
       "      <td>YAL005C</td>\n",
       "      <td></td>\n",
       "      <td>GTGGATTGATGTATCTTCGAGAAGG</td>\n",
       "      <td>AAGCGACAAAAGATGGAGTGGTTC</td>\n",
       "      <td>TAAGTTGTACCAAGCTGGTGGTGCTC</td>\n",
       "      <td>AGCAGTACTTCAACCATTAGTGTTAGCG</td>\n",
       "      <td>GATGTCCACGAGGTCTCTAGGCATACTACACAGATTCCCGTACGCT...</td>\n",
       "      <td>...</td>\n",
       "      <td>AAGTATTACAAGAAACAAAAATTCAAGTAAATAACAGATAATATGG...</td>\n",
       "      <td>...</td>\n",
       "      <td>2300</td>\n",
       "      <td>1916</td>\n",
       "      <td></td>\n",
       "      <td></td>\n",
       "      <td>AGGCATACTACACAGATTCC</td>\n",
       "      <td>NaN</td>\n",
       "      <td>NaN</td>\n",
       "      <td>NaN</td>\n",
       "      <td>NaN</td>\n",
       "      <td>NaN</td>\n",
       "    </tr>\n",
       "    <tr>\n",
       "      <th>4</th>\n",
       "      <td>401</td>\n",
       "      <td>YAL007C</td>\n",
       "      <td></td>\n",
       "      <td>TCATTAACCTTAGGGATCGACACC</td>\n",
       "      <td>CTATTTCCTCCACGGCGTTATTGG</td>\n",
       "      <td>GCCGTTATAAGTATTGCCCAAGTTCT</td>\n",
       "      <td>AACAAATGAGCAAGACAAATGACCAG</td>\n",
       "      <td>GATGTCCACGAGGTCTCTGAGTGATCCATACACATTCCCGTACGCT...</td>\n",
       "      <td>...</td>\n",
       "      <td>AATAAGATAAACAGTGGAGTACACTCATTGTAAAGGAAAACCATGG...</td>\n",
       "      <td>...</td>\n",
       "      <td>943</td>\n",
       "      <td>1840</td>\n",
       "      <td></td>\n",
       "      <td></td>\n",
       "      <td>GAGTGATCCATACACATTCC</td>\n",
       "      <td>NaN</td>\n",
       "      <td>NaN</td>\n",
       "      <td>NaN</td>\n",
       "      <td>NaN</td>\n",
       "      <td>NaN</td>\n",
       "    </tr>\n",
       "  </tbody>\n",
       "</table>\n",
       "<p>5 rows × 28 columns</p>\n",
       "</div>"
      ],
      "text/plain": [
       "  rec_num   ORF_name  deletion_alias  A_confirmation_primer_sequence  \\\n",
       "0   =====  =========  ==============  ==============================   \n",
       "1     405  YAL002W                    CTTCATATACGGCACTCCCCTGAA         \n",
       "2     402  YAL004W                    AATCTGGCTCTGGTGATGGAAGTGTA       \n",
       "3     403  YAL005C                    GTGGATTGATGTATCTTCGAGAAGG        \n",
       "4     401  YAL007C                    TCATTAACCTTAGGGATCGACACC         \n",
       "\n",
       "   B_confirmation_primer_sequence  C_confirmation_primer_sequence  \\\n",
       "0  ==============================  ==============================   \n",
       "1  CTCAGATAAGGTCGGCACTAGGATTG      ATGTACAGCGCCACCAAGATATGA         \n",
       "2  TCTCTTTGTTGTTCATTGAAGACGGTA     AGATTCGGCAGTTTCCTTCATCTTACC      \n",
       "3  AAGCGACAAAAGATGGAGTGGTTC        TAAGTTGTACCAAGCTGGTGGTGCTC       \n",
       "4  CTATTTCCTCCACGGCGTTATTGG        GCCGTTATAAGTATTGCCCAAGTTCT       \n",
       "\n",
       "   D_confirmation_primer_sequence  \\\n",
       "0  ==============================   \n",
       "1  TAGGTGTCGTGAAGTACTTTCGCTT        \n",
       "2  TTAGCTGATCGTTTCGAGGACTTCAA       \n",
       "3  AGCAGTACTTCAACCATTAGTGTTAGCG     \n",
       "4  AACAAATGAGCAAGACAAATGACCAG       \n",
       "\n",
       "  UPTAG_primer_sequence                                                       \\\n",
       "0  ==============================================...                           \n",
       "1  GATGTCCACGAGGTCTCTATACTGACAGCACGCATGGCCGTACGCT...                           \n",
       "2  GATGTCCACGAGGTCTCTTATGGCACGGCAGACATTCCCGTACGCT...                           \n",
       "3  GATGTCCACGAGGTCTCTAGGCATACTACACAGATTCCCGTACGCT...                           \n",
       "4  GATGTCCACGAGGTCTCTGAGTGATCCATACACATTCCCGTACGCT...                           \n",
       "\n",
       "  DNTAG_primer_sequence                                                        \\\n",
       "0  ==============================================...                            \n",
       "1                                                ...                            \n",
       "2                                                ...                            \n",
       "3                                                ...                            \n",
       "4                                                ...                            \n",
       "\n",
       "  UPstream45_primer_sequence                                                 \\\n",
       "0  ==============================================...                          \n",
       "1  GGAGGGCCCACGTGCTTGTATCCGACAGCCACGTATTTTTTGATGG...                          \n",
       "2  GAAGTGGTTGACCAATCTGTTGTCAAAATCTTCACCACCCAAATGG...                          \n",
       "3  AAGTATTACAAGAAACAAAAATTCAAGTAAATAACAGATAATATGG...                          \n",
       "4  AATAAGATAAACAGTGGAGTACACTCATTGTAAAGGAAAACCATGG...                          \n",
       "\n",
       "   ...  AD_wt     AD_del    AB_del_PCR  CD_del_PCR  UPTAG_sequence_20mer  \\\n",
       "0  ...  ========  ========  ==========  ==========  ====================   \n",
       "1  ...  3904      1918                              ATACTGACAGCACGCATGGC   \n",
       "2  ...  1094      1991                              TATGGCACGGCAGACATTCC   \n",
       "3  ...  2300      1916                              AGGCATACTACACAGATTCC   \n",
       "4  ...  943       1840                              GAGTGATCCATACACATTCC   \n",
       "\n",
       "   DNTAG_sequence_20mer Unnamed: 24 Unnamed: 25 Unnamed: 26 Unnamed: 27  \n",
       "0  ====================         NaN         NaN         NaN         NaN  \n",
       "1                   NaN         NaN         NaN         NaN         NaN  \n",
       "2                   NaN         NaN         NaN         NaN         NaN  \n",
       "3                   NaN         NaN         NaN         NaN         NaN  \n",
       "4                   NaN         NaN         NaN         NaN         NaN  \n",
       "\n",
       "[5 rows x 28 columns]"
      ]
     },
     "execution_count": 19,
     "metadata": {},
     "output_type": "execute_result"
    }
   ],
   "source": [
    "tested.head()"
   ]
  },
  {
   "cell_type": "code",
   "execution_count": 20,
   "metadata": {},
   "outputs": [],
   "source": [
    "tested['orf'] = tested['ORF_name'].astype(str)"
   ]
  },
  {
   "cell_type": "code",
   "execution_count": 21,
   "metadata": {},
   "outputs": [],
   "source": [
    "tested['orf'] = clean_orf(tested['orf'])"
   ]
  },
  {
   "cell_type": "code",
   "execution_count": null,
   "metadata": {},
   "outputs": [],
   "source": [
    "tested.loc[tested['orf']=='YLR287-A','orf'] = 'YLR287C-A'"
   ]
  },
  {
   "cell_type": "code",
   "execution_count": 22,
   "metadata": {},
   "outputs": [],
   "source": [
    "tested['orf'] = translate_sc(tested['orf'], to='orf')"
   ]
  },
  {
   "cell_type": "code",
   "execution_count": 23,
   "metadata": {},
   "outputs": [
    {
     "name": "stdout",
     "output_type": "stream",
     "text": [
      "            rec_num   ORF_name  deletion_alias  \\\n",
      "index_input                                      \n",
      "0             =====  =========  ==============   \n",
      "\n",
      "             A_confirmation_primer_sequence  B_confirmation_primer_sequence  \\\n",
      "index_input                                                                   \n",
      "0            ==============================  ==============================   \n",
      "\n",
      "             C_confirmation_primer_sequence  D_confirmation_primer_sequence  \\\n",
      "index_input                                                                   \n",
      "0            ==============================  ==============================   \n",
      "\n",
      "            UPTAG_primer_sequence                                                       \\\n",
      "index_input                                                                              \n",
      "0            ==============================================...                           \n",
      "\n",
      "            DNTAG_primer_sequence                                                        \\\n",
      "index_input                                                                               \n",
      "0            ==============================================...                            \n",
      "\n",
      "            UPstream45_primer_sequence                                                 \\\n",
      "index_input                                                                             \n",
      "0            ==============================================...                          \n",
      "\n",
      "             ...  AD_del    AB_del_PCR  CD_del_PCR  UPTAG_sequence_20mer  \\\n",
      "index_input  ...                                                           \n",
      "0            ...  ========  ==========  ==========  ====================   \n",
      "\n",
      "             DNTAG_sequence_20mer Unnamed: 24 Unnamed: 25 Unnamed: 26  \\\n",
      "index_input                                                             \n",
      "0            ====================         NaN         NaN         NaN   \n",
      "\n",
      "            Unnamed: 27 orf  \n",
      "index_input                  \n",
      "0                   NaN      \n",
      "\n",
      "[1 rows x 29 columns]\n"
     ]
    }
   ],
   "source": [
    "# Make sure everything translated ok\n",
    "t = looks_like_orf(tested['orf'])\n",
    "print(tested.loc[~t,])"
   ]
  },
  {
   "cell_type": "code",
   "execution_count": 24,
   "metadata": {},
   "outputs": [],
   "source": [
    "tested = tested.loc[t,:]"
   ]
  },
  {
   "cell_type": "code",
   "execution_count": 25,
   "metadata": {},
   "outputs": [],
   "source": [
    "tested_orfs = tested['orf'].unique()"
   ]
  },
  {
   "cell_type": "code",
   "execution_count": 26,
   "metadata": {},
   "outputs": [
    {
     "data": {
      "text/plain": [
       "[]"
      ]
     },
     "execution_count": 26,
     "metadata": {},
     "output_type": "execute_result"
    }
   ],
   "source": [
    "missing = [orf for orf in original_data.index.values if orf not in tested_orfs]\n",
    "missing"
   ]
  },
  {
   "cell_type": "code",
   "execution_count": 27,
   "metadata": {},
   "outputs": [],
   "source": [
    "original_data = original_data.reindex(index=tested_orfs, fill_value=0)"
   ]
  },
  {
   "cell_type": "markdown",
   "metadata": {},
   "source": [
    "# Prepare the final dataset"
   ]
  },
  {
   "cell_type": "code",
   "execution_count": 28,
   "metadata": {},
   "outputs": [],
   "source": [
    "data = original_data.copy()"
   ]
  },
  {
   "cell_type": "code",
   "execution_count": 29,
   "metadata": {},
   "outputs": [],
   "source": [
    "dataset_ids = [150]\n",
    "datasets = datasets.reindex(index=dataset_ids)"
   ]
  },
  {
   "cell_type": "code",
   "execution_count": 30,
   "metadata": {},
   "outputs": [],
   "source": [
    "lst = [datasets.index.values, ['value']*datasets.shape[0]]\n",
    "tuples = list(zip(*lst))\n",
    "idx = pd.MultiIndex.from_tuples(tuples, names=['dataset_id','data_type'])\n",
    "data.columns = idx"
   ]
  },
  {
   "cell_type": "code",
   "execution_count": 31,
   "metadata": {},
   "outputs": [
    {
     "data": {
      "text/html": [
       "<div>\n",
       "<style scoped>\n",
       "    .dataframe tbody tr th:only-of-type {\n",
       "        vertical-align: middle;\n",
       "    }\n",
       "\n",
       "    .dataframe tbody tr th {\n",
       "        vertical-align: top;\n",
       "    }\n",
       "\n",
       "    .dataframe thead tr th {\n",
       "        text-align: left;\n",
       "    }\n",
       "\n",
       "    .dataframe thead tr:last-of-type th {\n",
       "        text-align: right;\n",
       "    }\n",
       "</style>\n",
       "<table border=\"1\" class=\"dataframe\">\n",
       "  <thead>\n",
       "    <tr>\n",
       "      <th>dataset_id</th>\n",
       "      <th>150</th>\n",
       "    </tr>\n",
       "    <tr>\n",
       "      <th>data_type</th>\n",
       "      <th>value</th>\n",
       "    </tr>\n",
       "    <tr>\n",
       "      <th>orf</th>\n",
       "      <th></th>\n",
       "    </tr>\n",
       "  </thead>\n",
       "  <tbody>\n",
       "    <tr>\n",
       "      <th>YAL002W</th>\n",
       "      <td>0</td>\n",
       "    </tr>\n",
       "    <tr>\n",
       "      <th>YAL004W</th>\n",
       "      <td>0</td>\n",
       "    </tr>\n",
       "    <tr>\n",
       "      <th>YAL005C</th>\n",
       "      <td>0</td>\n",
       "    </tr>\n",
       "    <tr>\n",
       "      <th>YAL007C</th>\n",
       "      <td>0</td>\n",
       "    </tr>\n",
       "    <tr>\n",
       "      <th>YAL008W</th>\n",
       "      <td>0</td>\n",
       "    </tr>\n",
       "  </tbody>\n",
       "</table>\n",
       "</div>"
      ],
      "text/plain": [
       "dataset_id   150\n",
       "data_type  value\n",
       "orf             \n",
       "YAL002W        0\n",
       "YAL004W        0\n",
       "YAL005C        0\n",
       "YAL007C        0\n",
       "YAL008W        0"
      ]
     },
     "execution_count": 31,
     "metadata": {},
     "output_type": "execute_result"
    }
   ],
   "source": [
    "data.head()"
   ]
  },
  {
   "cell_type": "markdown",
   "metadata": {},
   "source": [
    "## Subset to the genes currently in SGD"
   ]
  },
  {
   "cell_type": "code",
   "execution_count": 32,
   "metadata": {},
   "outputs": [
    {
     "name": "stdout",
     "output_type": "stream",
     "text": [
      "ORFs missing from SGD: 23\n"
     ]
    }
   ],
   "source": [
    "genes = pd.read_csv(path_to_genes, sep='\\t', index_col='id')\n",
    "genes = genes.reset_index().set_index('systematic_name')\n",
    "gene_ids = genes.reindex(index=data.index.values)['id'].values\n",
    "num_missing = np.sum(np.isnan(gene_ids))\n",
    "print('ORFs missing from SGD: %d' % num_missing)"
   ]
  },
  {
   "cell_type": "code",
   "execution_count": 33,
   "metadata": {},
   "outputs": [
    {
     "data": {
      "text/html": [
       "<div>\n",
       "<style scoped>\n",
       "    .dataframe tbody tr th:only-of-type {\n",
       "        vertical-align: middle;\n",
       "    }\n",
       "\n",
       "    .dataframe tbody tr th {\n",
       "        vertical-align: top;\n",
       "    }\n",
       "\n",
       "    .dataframe thead tr th {\n",
       "        text-align: left;\n",
       "    }\n",
       "\n",
       "    .dataframe thead tr:last-of-type th {\n",
       "        text-align: right;\n",
       "    }\n",
       "</style>\n",
       "<table border=\"1\" class=\"dataframe\">\n",
       "  <thead>\n",
       "    <tr>\n",
       "      <th></th>\n",
       "      <th>dataset_id</th>\n",
       "      <th>150</th>\n",
       "    </tr>\n",
       "    <tr>\n",
       "      <th></th>\n",
       "      <th>data_type</th>\n",
       "      <th>value</th>\n",
       "    </tr>\n",
       "    <tr>\n",
       "      <th>gene_id</th>\n",
       "      <th>orf</th>\n",
       "      <th></th>\n",
       "    </tr>\n",
       "  </thead>\n",
       "  <tbody>\n",
       "    <tr>\n",
       "      <th>2</th>\n",
       "      <th>YAL002W</th>\n",
       "      <td>0</td>\n",
       "    </tr>\n",
       "    <tr>\n",
       "      <th>1863</th>\n",
       "      <th>YAL004W</th>\n",
       "      <td>0</td>\n",
       "    </tr>\n",
       "    <tr>\n",
       "      <th>4</th>\n",
       "      <th>YAL005C</th>\n",
       "      <td>0</td>\n",
       "    </tr>\n",
       "    <tr>\n",
       "      <th>5</th>\n",
       "      <th>YAL007C</th>\n",
       "      <td>0</td>\n",
       "    </tr>\n",
       "    <tr>\n",
       "      <th>6</th>\n",
       "      <th>YAL008W</th>\n",
       "      <td>0</td>\n",
       "    </tr>\n",
       "  </tbody>\n",
       "</table>\n",
       "</div>"
      ],
      "text/plain": [
       "dataset_id        150\n",
       "data_type       value\n",
       "gene_id orf          \n",
       "2       YAL002W     0\n",
       "1863    YAL004W     0\n",
       "4       YAL005C     0\n",
       "5       YAL007C     0\n",
       "6       YAL008W     0"
      ]
     },
     "execution_count": 33,
     "metadata": {},
     "output_type": "execute_result"
    }
   ],
   "source": [
    "data['gene_id'] = gene_ids\n",
    "data = data.loc[data['gene_id'].notnull()]\n",
    "data['gene_id'] = data['gene_id'].astype(int)\n",
    "data = data.reset_index().set_index(['gene_id','orf'])\n",
    "\n",
    "data.head()"
   ]
  },
  {
   "cell_type": "markdown",
   "metadata": {},
   "source": [
    "# Normalize"
   ]
  },
  {
   "cell_type": "code",
   "execution_count": 34,
   "metadata": {},
   "outputs": [],
   "source": [
    "data_norm = normalize_phenotypic_scores(data, has_tested=True)"
   ]
  },
  {
   "cell_type": "code",
   "execution_count": 35,
   "metadata": {},
   "outputs": [],
   "source": [
    "# Assign proper column names\n",
    "lst = [datasets.index.values, ['valuez']*datasets.shape[0]]\n",
    "tuples = list(zip(*lst))\n",
    "idx = pd.MultiIndex.from_tuples(tuples, names=['dataset_id','data_type'])\n",
    "data_norm.columns = idx"
   ]
  },
  {
   "cell_type": "code",
   "execution_count": 36,
   "metadata": {},
   "outputs": [
    {
     "data": {
      "text/html": [
       "<div>\n",
       "<style scoped>\n",
       "    .dataframe tbody tr th:only-of-type {\n",
       "        vertical-align: middle;\n",
       "    }\n",
       "\n",
       "    .dataframe tbody tr th {\n",
       "        vertical-align: top;\n",
       "    }\n",
       "\n",
       "    .dataframe thead tr th {\n",
       "        text-align: left;\n",
       "    }\n",
       "\n",
       "    .dataframe thead tr:last-of-type th {\n",
       "        text-align: right;\n",
       "    }\n",
       "</style>\n",
       "<table border=\"1\" class=\"dataframe\">\n",
       "  <thead>\n",
       "    <tr>\n",
       "      <th></th>\n",
       "      <th>dataset_id</th>\n",
       "      <th colspan=\"2\" halign=\"left\">150</th>\n",
       "    </tr>\n",
       "    <tr>\n",
       "      <th></th>\n",
       "      <th>data_type</th>\n",
       "      <th>value</th>\n",
       "      <th>valuez</th>\n",
       "    </tr>\n",
       "    <tr>\n",
       "      <th>gene_id</th>\n",
       "      <th>orf</th>\n",
       "      <th></th>\n",
       "      <th></th>\n",
       "    </tr>\n",
       "  </thead>\n",
       "  <tbody>\n",
       "    <tr>\n",
       "      <th>2</th>\n",
       "      <th>YAL002W</th>\n",
       "      <td>0</td>\n",
       "      <td>0.0</td>\n",
       "    </tr>\n",
       "    <tr>\n",
       "      <th>1863</th>\n",
       "      <th>YAL004W</th>\n",
       "      <td>0</td>\n",
       "      <td>0.0</td>\n",
       "    </tr>\n",
       "    <tr>\n",
       "      <th>4</th>\n",
       "      <th>YAL005C</th>\n",
       "      <td>0</td>\n",
       "      <td>0.0</td>\n",
       "    </tr>\n",
       "    <tr>\n",
       "      <th>5</th>\n",
       "      <th>YAL007C</th>\n",
       "      <td>0</td>\n",
       "      <td>0.0</td>\n",
       "    </tr>\n",
       "    <tr>\n",
       "      <th>6</th>\n",
       "      <th>YAL008W</th>\n",
       "      <td>0</td>\n",
       "      <td>0.0</td>\n",
       "    </tr>\n",
       "  </tbody>\n",
       "</table>\n",
       "</div>"
      ],
      "text/plain": [
       "dataset_id        150       \n",
       "data_type       value valuez\n",
       "gene_id orf                 \n",
       "2       YAL002W     0    0.0\n",
       "1863    YAL004W     0    0.0\n",
       "4       YAL005C     0    0.0\n",
       "5       YAL007C     0    0.0\n",
       "6       YAL008W     0    0.0"
      ]
     },
     "execution_count": 36,
     "metadata": {},
     "output_type": "execute_result"
    }
   ],
   "source": [
    "data_norm[data.isnull()] = np.nan\n",
    "data_all = data.join(data_norm)\n",
    "\n",
    "data_all.head()"
   ]
  },
  {
   "cell_type": "markdown",
   "metadata": {},
   "source": [
    "# Print out"
   ]
  },
  {
   "cell_type": "code",
   "execution_count": 37,
   "metadata": {},
   "outputs": [],
   "source": [
    "for f in ['value','valuez']:\n",
    "    df = data_all.xs(f, level='data_type', axis=1).copy()\n",
    "    df.columns = datasets['name'].values\n",
    "    df = df.droplevel('gene_id', axis=0)\n",
    "    df.to_csv(paper_name + '_' + f + '.txt', sep='\\t')"
   ]
  },
  {
   "cell_type": "markdown",
   "metadata": {},
   "source": [
    "# Save to DB"
   ]
  },
  {
   "cell_type": "code",
   "execution_count": 38,
   "metadata": {},
   "outputs": [],
   "source": [
    "from IO.save_data_to_db3 import *"
   ]
  },
  {
   "cell_type": "code",
   "execution_count": 39,
   "metadata": {},
   "outputs": [
    {
     "name": "stderr",
     "output_type": "stream",
     "text": [
      "  0%|          | 0/1 [00:00<?, ?it/s]"
     ]
    },
    {
     "name": "stdout",
     "output_type": "stream",
     "text": [
      "Deleting all datasets for PMID 21193549...\n",
      "Inserting the new data...\n"
     ]
    },
    {
     "name": "stderr",
     "output_type": "stream",
     "text": [
      "100%|██████████| 1/1 [00:08<00:00,  8.03s/it]"
     ]
    },
    {
     "name": "stdout",
     "output_type": "stream",
     "text": [
      "Updating the data_modified_on field...\n"
     ]
    },
    {
     "name": "stderr",
     "output_type": "stream",
     "text": [
      "\n"
     ]
    }
   ],
   "source": [
    "save_data_to_db(data_all, paper_pmid)"
   ]
  },
  {
   "cell_type": "code",
   "execution_count": null,
   "metadata": {},
   "outputs": [],
   "source": []
  }
 ],
 "metadata": {
  "kernelspec": {
   "display_name": "yp-data",
   "language": "python",
   "name": "yp-data"
  },
  "language_info": {
   "codemirror_mode": {
    "name": "ipython",
    "version": 3
   },
   "file_extension": ".py",
   "mimetype": "text/x-python",
   "name": "python",
   "nbconvert_exporter": "python",
   "pygments_lexer": "ipython3",
   "version": "3.7.7"
  }
 },
 "nbformat": 4,
 "nbformat_minor": 4
}
