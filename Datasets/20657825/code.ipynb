{
 "cells": [
  {
   "cell_type": "code",
   "execution_count": 1,
   "metadata": {},
   "outputs": [],
   "source": [
    "%run ../../Utils/yp_utils.py"
   ]
  },
  {
   "cell_type": "markdown",
   "metadata": {},
   "source": [
    "# Initial setup"
   ]
  },
  {
   "cell_type": "code",
   "execution_count": 2,
   "metadata": {},
   "outputs": [],
   "source": [
    "paper_pmid = 20657825\n",
    "paper_name = 'fabrizio_longo_2010' "
   ]
  },
  {
   "cell_type": "code",
   "execution_count": 46,
   "metadata": {},
   "outputs": [],
   "source": [
    "datasets = pd.read_csv('extras/YeastPhenome_' + str(paper_pmid) + '_datasets_list.txt', sep='\\t', header=None, names=['dataset_id', 'name'])"
   ]
  },
  {
   "cell_type": "code",
   "execution_count": 47,
   "metadata": {},
   "outputs": [],
   "source": [
    "datasets.set_index('dataset_id', inplace=True)"
   ]
  },
  {
   "cell_type": "markdown",
   "metadata": {},
   "source": [
    "# Load & process the data"
   ]
  },
  {
   "cell_type": "code",
   "execution_count": 27,
   "metadata": {},
   "outputs": [],
   "source": [
    "original_data = pd.read_excel('raw_data/journal.pgen.1001024.s006.xlsx', sheet_name='SuppleTable2_v2.txt', skiprows=2)"
   ]
  },
  {
   "cell_type": "code",
   "execution_count": 28,
   "metadata": {},
   "outputs": [
    {
     "name": "stdout",
     "output_type": "stream",
     "text": [
      "Original data dimensions: 4130 x 17\n"
     ]
    }
   ],
   "source": [
    "print('Original data dimensions: %d x %d' % (original_data.shape))"
   ]
  },
  {
   "cell_type": "code",
   "execution_count": 29,
   "metadata": {},
   "outputs": [
    {
     "data": {
      "text/html": [
       "<div>\n",
       "<style scoped>\n",
       "    .dataframe tbody tr th:only-of-type {\n",
       "        vertical-align: middle;\n",
       "    }\n",
       "\n",
       "    .dataframe tbody tr th {\n",
       "        vertical-align: top;\n",
       "    }\n",
       "\n",
       "    .dataframe thead th {\n",
       "        text-align: right;\n",
       "    }\n",
       "</style>\n",
       "<table border=\"1\" class=\"dataframe\">\n",
       "  <thead>\n",
       "    <tr style=\"text-align: right;\">\n",
       "      <th></th>\n",
       "      <th>ORF</th>\n",
       "      <th>GENE</th>\n",
       "      <th>RMSE</th>\n",
       "      <th>Correlation</th>\n",
       "      <th>yko1d9/yko1d3</th>\n",
       "      <th>yko1d11/yko1d3</th>\n",
       "      <th>yko1d15/yko1d3</th>\n",
       "      <th>yko1d20/yko1d3</th>\n",
       "      <th>yko2d9/yko2d3</th>\n",
       "      <th>yko2d11/yko2d3</th>\n",
       "      <th>yko2d15/yko2d3</th>\n",
       "      <th>yko2d20/yko2d3</th>\n",
       "      <th>Avg(d9/d3)</th>\n",
       "      <th>Avg(d11/d3)</th>\n",
       "      <th>Avg(d15/d3)</th>\n",
       "      <th>Avg(d20/d3)</th>\n",
       "      <th>Used for Clustering</th>\n",
       "    </tr>\n",
       "  </thead>\n",
       "  <tbody>\n",
       "    <tr>\n",
       "      <th>0</th>\n",
       "      <td>YER107C</td>\n",
       "      <td>GLE2</td>\n",
       "      <td>2.164961</td>\n",
       "      <td>0.895598</td>\n",
       "      <td>0.232</td>\n",
       "      <td>0.349</td>\n",
       "      <td>1.939</td>\n",
       "      <td>3.201</td>\n",
       "      <td>-0.450</td>\n",
       "      <td>2.509</td>\n",
       "      <td>2.842</td>\n",
       "      <td>6.779</td>\n",
       "      <td>-0.1090</td>\n",
       "      <td>1.4290</td>\n",
       "      <td>2.3905</td>\n",
       "      <td>4.9900</td>\n",
       "      <td>0</td>\n",
       "    </tr>\n",
       "    <tr>\n",
       "      <th>1</th>\n",
       "      <td>YDR463W</td>\n",
       "      <td>STP1</td>\n",
       "      <td>3.098199</td>\n",
       "      <td>0.578208</td>\n",
       "      <td>0.407</td>\n",
       "      <td>0.479</td>\n",
       "      <td>3.732</td>\n",
       "      <td>1.522</td>\n",
       "      <td>0.350</td>\n",
       "      <td>4.112</td>\n",
       "      <td>5.383</td>\n",
       "      <td>6.262</td>\n",
       "      <td>0.3785</td>\n",
       "      <td>2.2955</td>\n",
       "      <td>4.5575</td>\n",
       "      <td>3.8920</td>\n",
       "      <td>0</td>\n",
       "    </tr>\n",
       "    <tr>\n",
       "      <th>2</th>\n",
       "      <td>YMR275C</td>\n",
       "      <td>BUL1</td>\n",
       "      <td>0.476648</td>\n",
       "      <td>0.984977</td>\n",
       "      <td>2.028</td>\n",
       "      <td>2.659</td>\n",
       "      <td>3.375</td>\n",
       "      <td>3.580</td>\n",
       "      <td>1.431</td>\n",
       "      <td>2.222</td>\n",
       "      <td>2.806</td>\n",
       "      <td>3.386</td>\n",
       "      <td>1.7295</td>\n",
       "      <td>2.4405</td>\n",
       "      <td>3.0905</td>\n",
       "      <td>3.4830</td>\n",
       "      <td>1</td>\n",
       "    </tr>\n",
       "    <tr>\n",
       "      <th>3</th>\n",
       "      <td>YDR443C</td>\n",
       "      <td>SSN2</td>\n",
       "      <td>0.967582</td>\n",
       "      <td>0.869372</td>\n",
       "      <td>-0.472</td>\n",
       "      <td>0.157</td>\n",
       "      <td>2.811</td>\n",
       "      <td>3.494</td>\n",
       "      <td>-0.078</td>\n",
       "      <td>2.018</td>\n",
       "      <td>2.500</td>\n",
       "      <td>3.322</td>\n",
       "      <td>-0.2750</td>\n",
       "      <td>1.0875</td>\n",
       "      <td>2.6555</td>\n",
       "      <td>3.4080</td>\n",
       "      <td>1</td>\n",
       "    </tr>\n",
       "    <tr>\n",
       "      <th>4</th>\n",
       "      <td>YOR061W</td>\n",
       "      <td>CKA2</td>\n",
       "      <td>0.284371</td>\n",
       "      <td>0.927151</td>\n",
       "      <td>0.943</td>\n",
       "      <td>1.242</td>\n",
       "      <td>1.686</td>\n",
       "      <td>2.299</td>\n",
       "      <td>0.594</td>\n",
       "      <td>1.550</td>\n",
       "      <td>2.005</td>\n",
       "      <td>2.370</td>\n",
       "      <td>0.7685</td>\n",
       "      <td>1.3960</td>\n",
       "      <td>1.8455</td>\n",
       "      <td>2.3345</td>\n",
       "      <td>1</td>\n",
       "    </tr>\n",
       "  </tbody>\n",
       "</table>\n",
       "</div>"
      ],
      "text/plain": [
       "       ORF  GENE      RMSE  Correlation  yko1d9/yko1d3  yko1d11/yko1d3  \\\n",
       "0  YER107C  GLE2  2.164961     0.895598          0.232           0.349   \n",
       "1  YDR463W  STP1  3.098199     0.578208          0.407           0.479   \n",
       "2  YMR275C  BUL1  0.476648     0.984977          2.028           2.659   \n",
       "3  YDR443C  SSN2  0.967582     0.869372         -0.472           0.157   \n",
       "4  YOR061W  CKA2  0.284371     0.927151          0.943           1.242   \n",
       "\n",
       "   yko1d15/yko1d3  yko1d20/yko1d3  yko2d9/yko2d3  yko2d11/yko2d3  \\\n",
       "0           1.939           3.201         -0.450           2.509   \n",
       "1           3.732           1.522          0.350           4.112   \n",
       "2           3.375           3.580          1.431           2.222   \n",
       "3           2.811           3.494         -0.078           2.018   \n",
       "4           1.686           2.299          0.594           1.550   \n",
       "\n",
       "   yko2d15/yko2d3  yko2d20/yko2d3  Avg(d9/d3)  Avg(d11/d3)  Avg(d15/d3)  \\\n",
       "0           2.842           6.779     -0.1090       1.4290       2.3905   \n",
       "1           5.383           6.262      0.3785       2.2955       4.5575   \n",
       "2           2.806           3.386      1.7295       2.4405       3.0905   \n",
       "3           2.500           3.322     -0.2750       1.0875       2.6555   \n",
       "4           2.005           2.370      0.7685       1.3960       1.8455   \n",
       "\n",
       "   Avg(d20/d3)  Used for Clustering  \n",
       "0       4.9900                    0  \n",
       "1       3.8920                    0  \n",
       "2       3.4830                    1  \n",
       "3       3.4080                    1  \n",
       "4       2.3345                    1  "
      ]
     },
     "execution_count": 29,
     "metadata": {},
     "output_type": "execute_result"
    }
   ],
   "source": [
    "original_data.head()"
   ]
  },
  {
   "cell_type": "code",
   "execution_count": 30,
   "metadata": {},
   "outputs": [],
   "source": [
    "original_data['orf'] = original_data['ORF'].astype(str)"
   ]
  },
  {
   "cell_type": "code",
   "execution_count": 31,
   "metadata": {},
   "outputs": [],
   "source": [
    "# Eliminate all white spaces & capitalize\n",
    "original_data['orf'] = clean_orf(original_data['orf'])"
   ]
  },
  {
   "cell_type": "code",
   "execution_count": 32,
   "metadata": {},
   "outputs": [],
   "source": [
    "# Translate to ORFs \n",
    "original_data['orf'] = translate_sc(original_data['orf'], to='orf')"
   ]
  },
  {
   "cell_type": "code",
   "execution_count": 33,
   "metadata": {},
   "outputs": [
    {
     "name": "stdout",
     "output_type": "stream",
     "text": [
      "Empty DataFrame\n",
      "Columns: [ORF, GENE, RMSE, Correlation, yko1d9/yko1d3, yko1d11/yko1d3, yko1d15/yko1d3, yko1d20/yko1d3, yko2d9/yko2d3, yko2d11/yko2d3, yko2d15/yko2d3, yko2d20/yko2d3, Avg(d9/d3), Avg(d11/d3), Avg(d15/d3), Avg(d20/d3), Used for Clustering, orf]\n",
      "Index: []\n"
     ]
    }
   ],
   "source": [
    "# Make sure everything translated ok\n",
    "t = looks_like_orf(original_data['orf'])\n",
    "print(original_data.loc[~t,])"
   ]
  },
  {
   "cell_type": "code",
   "execution_count": 34,
   "metadata": {},
   "outputs": [],
   "source": [
    "original_data.set_index('orf', inplace=True)"
   ]
  },
  {
   "cell_type": "code",
   "execution_count": 35,
   "metadata": {},
   "outputs": [
    {
     "data": {
      "text/plain": [
       "['yko1d9/yko1d3',\n",
       " 'yko1d11/yko1d3',\n",
       " 'yko1d15/yko1d3',\n",
       " 'yko1d20/yko1d3',\n",
       " 'yko2d9/yko2d3',\n",
       " 'yko2d11/yko2d3',\n",
       " 'yko2d15/yko2d3',\n",
       " 'yko2d20/yko2d3']"
      ]
     },
     "execution_count": 35,
     "metadata": {},
     "output_type": "execute_result"
    }
   ],
   "source": [
    "data_cols = [c for c in original_data.columns if 'yko' in c]\n",
    "data_cols"
   ]
  },
  {
   "cell_type": "code",
   "execution_count": 36,
   "metadata": {},
   "outputs": [],
   "source": [
    "original_data = original_data[data_cols].copy()"
   ]
  },
  {
   "cell_type": "code",
   "execution_count": 37,
   "metadata": {},
   "outputs": [],
   "source": [
    "original_data = original_data.apply(pd.to_numeric, axis=1, errors='coerce')"
   ]
  },
  {
   "cell_type": "code",
   "execution_count": 38,
   "metadata": {},
   "outputs": [],
   "source": [
    "original_data = original_data.groupby(original_data.index).mean()"
   ]
  },
  {
   "cell_type": "code",
   "execution_count": 39,
   "metadata": {},
   "outputs": [
    {
     "data": {
      "text/plain": [
       "(4105, 8)"
      ]
     },
     "execution_count": 39,
     "metadata": {},
     "output_type": "execute_result"
    }
   ],
   "source": [
    "original_data.shape"
   ]
  },
  {
   "cell_type": "code",
   "execution_count": 40,
   "metadata": {},
   "outputs": [],
   "source": [
    "original_data.columns = [4711, 4781, 4782, 4783, 4711, 4781, 4782, 4783]"
   ]
  },
  {
   "cell_type": "code",
   "execution_count": 41,
   "metadata": {},
   "outputs": [],
   "source": [
    "original_data = original_data.T\n",
    "original_data = original_data.groupby(original_data.index).mean()\n",
    "original_data = original_data.T"
   ]
  },
  {
   "cell_type": "code",
   "execution_count": 42,
   "metadata": {},
   "outputs": [
    {
     "data": {
      "text/plain": [
       "(4105, 4)"
      ]
     },
     "execution_count": 42,
     "metadata": {},
     "output_type": "execute_result"
    }
   ],
   "source": [
    "original_data.shape"
   ]
  },
  {
   "cell_type": "code",
   "execution_count": 43,
   "metadata": {},
   "outputs": [
    {
     "data": {
      "text/html": [
       "<div>\n",
       "<style scoped>\n",
       "    .dataframe tbody tr th:only-of-type {\n",
       "        vertical-align: middle;\n",
       "    }\n",
       "\n",
       "    .dataframe tbody tr th {\n",
       "        vertical-align: top;\n",
       "    }\n",
       "\n",
       "    .dataframe thead th {\n",
       "        text-align: right;\n",
       "    }\n",
       "</style>\n",
       "<table border=\"1\" class=\"dataframe\">\n",
       "  <thead>\n",
       "    <tr style=\"text-align: right;\">\n",
       "      <th></th>\n",
       "      <th>4711</th>\n",
       "      <th>4781</th>\n",
       "      <th>4782</th>\n",
       "      <th>4783</th>\n",
       "    </tr>\n",
       "    <tr>\n",
       "      <th>orf</th>\n",
       "      <th></th>\n",
       "      <th></th>\n",
       "      <th></th>\n",
       "      <th></th>\n",
       "    </tr>\n",
       "  </thead>\n",
       "  <tbody>\n",
       "    <tr>\n",
       "      <th>YAL002W</th>\n",
       "      <td>-1.3615</td>\n",
       "      <td>-1.3550</td>\n",
       "      <td>-1.1645</td>\n",
       "      <td>-0.9160</td>\n",
       "    </tr>\n",
       "    <tr>\n",
       "      <th>YAL004W</th>\n",
       "      <td>-0.1650</td>\n",
       "      <td>-0.1945</td>\n",
       "      <td>-0.6020</td>\n",
       "      <td>-0.2100</td>\n",
       "    </tr>\n",
       "    <tr>\n",
       "      <th>YAL005C</th>\n",
       "      <td>0.0850</td>\n",
       "      <td>-0.1490</td>\n",
       "      <td>0.4745</td>\n",
       "      <td>0.6225</td>\n",
       "    </tr>\n",
       "    <tr>\n",
       "      <th>YAL007C</th>\n",
       "      <td>0.2400</td>\n",
       "      <td>-0.0855</td>\n",
       "      <td>-0.0790</td>\n",
       "      <td>-0.0265</td>\n",
       "    </tr>\n",
       "    <tr>\n",
       "      <th>YAL008W</th>\n",
       "      <td>0.2355</td>\n",
       "      <td>-0.1405</td>\n",
       "      <td>-0.5285</td>\n",
       "      <td>-0.2160</td>\n",
       "    </tr>\n",
       "  </tbody>\n",
       "</table>\n",
       "</div>"
      ],
      "text/plain": [
       "           4711    4781    4782    4783\n",
       "orf                                    \n",
       "YAL002W -1.3615 -1.3550 -1.1645 -0.9160\n",
       "YAL004W -0.1650 -0.1945 -0.6020 -0.2100\n",
       "YAL005C  0.0850 -0.1490  0.4745  0.6225\n",
       "YAL007C  0.2400 -0.0855 -0.0790 -0.0265\n",
       "YAL008W  0.2355 -0.1405 -0.5285 -0.2160"
      ]
     },
     "execution_count": 43,
     "metadata": {},
     "output_type": "execute_result"
    }
   ],
   "source": [
    "original_data.head()"
   ]
  },
  {
   "cell_type": "markdown",
   "metadata": {},
   "source": [
    "# Prepare the final dataset"
   ]
  },
  {
   "cell_type": "code",
   "execution_count": 48,
   "metadata": {},
   "outputs": [],
   "source": [
    "data = original_data.copy()"
   ]
  },
  {
   "cell_type": "code",
   "execution_count": 49,
   "metadata": {},
   "outputs": [],
   "source": [
    "dataset_ids = [4711, 4781, 4782, 4783]\n",
    "datasets = datasets.reindex(index=dataset_ids)"
   ]
  },
  {
   "cell_type": "code",
   "execution_count": 50,
   "metadata": {},
   "outputs": [],
   "source": [
    "lst = [datasets.index.values, ['value']*datasets.shape[0]]\n",
    "tuples = list(zip(*lst))\n",
    "idx = pd.MultiIndex.from_tuples(tuples, names=['dataset_id','data_type'])\n",
    "data.columns = idx"
   ]
  },
  {
   "cell_type": "code",
   "execution_count": 51,
   "metadata": {},
   "outputs": [
    {
     "data": {
      "text/html": [
       "<div>\n",
       "<style scoped>\n",
       "    .dataframe tbody tr th:only-of-type {\n",
       "        vertical-align: middle;\n",
       "    }\n",
       "\n",
       "    .dataframe tbody tr th {\n",
       "        vertical-align: top;\n",
       "    }\n",
       "\n",
       "    .dataframe thead tr th {\n",
       "        text-align: left;\n",
       "    }\n",
       "\n",
       "    .dataframe thead tr:last-of-type th {\n",
       "        text-align: right;\n",
       "    }\n",
       "</style>\n",
       "<table border=\"1\" class=\"dataframe\">\n",
       "  <thead>\n",
       "    <tr>\n",
       "      <th>dataset_id</th>\n",
       "      <th>4711</th>\n",
       "      <th>4781</th>\n",
       "      <th>4782</th>\n",
       "      <th>4783</th>\n",
       "    </tr>\n",
       "    <tr>\n",
       "      <th>data_type</th>\n",
       "      <th>value</th>\n",
       "      <th>value</th>\n",
       "      <th>value</th>\n",
       "      <th>value</th>\n",
       "    </tr>\n",
       "    <tr>\n",
       "      <th>orf</th>\n",
       "      <th></th>\n",
       "      <th></th>\n",
       "      <th></th>\n",
       "      <th></th>\n",
       "    </tr>\n",
       "  </thead>\n",
       "  <tbody>\n",
       "    <tr>\n",
       "      <th>YAL002W</th>\n",
       "      <td>-1.3615</td>\n",
       "      <td>-1.3550</td>\n",
       "      <td>-1.1645</td>\n",
       "      <td>-0.9160</td>\n",
       "    </tr>\n",
       "    <tr>\n",
       "      <th>YAL004W</th>\n",
       "      <td>-0.1650</td>\n",
       "      <td>-0.1945</td>\n",
       "      <td>-0.6020</td>\n",
       "      <td>-0.2100</td>\n",
       "    </tr>\n",
       "    <tr>\n",
       "      <th>YAL005C</th>\n",
       "      <td>0.0850</td>\n",
       "      <td>-0.1490</td>\n",
       "      <td>0.4745</td>\n",
       "      <td>0.6225</td>\n",
       "    </tr>\n",
       "    <tr>\n",
       "      <th>YAL007C</th>\n",
       "      <td>0.2400</td>\n",
       "      <td>-0.0855</td>\n",
       "      <td>-0.0790</td>\n",
       "      <td>-0.0265</td>\n",
       "    </tr>\n",
       "    <tr>\n",
       "      <th>YAL008W</th>\n",
       "      <td>0.2355</td>\n",
       "      <td>-0.1405</td>\n",
       "      <td>-0.5285</td>\n",
       "      <td>-0.2160</td>\n",
       "    </tr>\n",
       "  </tbody>\n",
       "</table>\n",
       "</div>"
      ],
      "text/plain": [
       "dataset_id    4711    4781    4782    4783\n",
       "data_type    value   value   value   value\n",
       "orf                                       \n",
       "YAL002W    -1.3615 -1.3550 -1.1645 -0.9160\n",
       "YAL004W    -0.1650 -0.1945 -0.6020 -0.2100\n",
       "YAL005C     0.0850 -0.1490  0.4745  0.6225\n",
       "YAL007C     0.2400 -0.0855 -0.0790 -0.0265\n",
       "YAL008W     0.2355 -0.1405 -0.5285 -0.2160"
      ]
     },
     "execution_count": 51,
     "metadata": {},
     "output_type": "execute_result"
    }
   ],
   "source": [
    "data.head()"
   ]
  },
  {
   "cell_type": "markdown",
   "metadata": {},
   "source": [
    "## Subset to the genes currently in SGD"
   ]
  },
  {
   "cell_type": "code",
   "execution_count": 52,
   "metadata": {},
   "outputs": [
    {
     "name": "stdout",
     "output_type": "stream",
     "text": [
      "ORFs missing from SGD: 22\n"
     ]
    }
   ],
   "source": [
    "genes = pd.read_csv(path_to_genes, sep='\\t', index_col='id')\n",
    "genes = genes.reset_index().set_index('systematic_name')\n",
    "gene_ids = genes.reindex(index=data.index.values)['id'].values\n",
    "num_missing = np.sum(np.isnan(gene_ids))\n",
    "print('ORFs missing from SGD: %d' % num_missing)"
   ]
  },
  {
   "cell_type": "code",
   "execution_count": 53,
   "metadata": {},
   "outputs": [
    {
     "data": {
      "text/html": [
       "<div>\n",
       "<style scoped>\n",
       "    .dataframe tbody tr th:only-of-type {\n",
       "        vertical-align: middle;\n",
       "    }\n",
       "\n",
       "    .dataframe tbody tr th {\n",
       "        vertical-align: top;\n",
       "    }\n",
       "\n",
       "    .dataframe thead tr th {\n",
       "        text-align: left;\n",
       "    }\n",
       "\n",
       "    .dataframe thead tr:last-of-type th {\n",
       "        text-align: right;\n",
       "    }\n",
       "</style>\n",
       "<table border=\"1\" class=\"dataframe\">\n",
       "  <thead>\n",
       "    <tr>\n",
       "      <th></th>\n",
       "      <th>dataset_id</th>\n",
       "      <th>4711</th>\n",
       "      <th>4781</th>\n",
       "      <th>4782</th>\n",
       "      <th>4783</th>\n",
       "    </tr>\n",
       "    <tr>\n",
       "      <th></th>\n",
       "      <th>data_type</th>\n",
       "      <th>value</th>\n",
       "      <th>value</th>\n",
       "      <th>value</th>\n",
       "      <th>value</th>\n",
       "    </tr>\n",
       "    <tr>\n",
       "      <th>gene_id</th>\n",
       "      <th>orf</th>\n",
       "      <th></th>\n",
       "      <th></th>\n",
       "      <th></th>\n",
       "      <th></th>\n",
       "    </tr>\n",
       "  </thead>\n",
       "  <tbody>\n",
       "    <tr>\n",
       "      <th>2</th>\n",
       "      <th>YAL002W</th>\n",
       "      <td>-1.3615</td>\n",
       "      <td>-1.3550</td>\n",
       "      <td>-1.1645</td>\n",
       "      <td>-0.9160</td>\n",
       "    </tr>\n",
       "    <tr>\n",
       "      <th>1863</th>\n",
       "      <th>YAL004W</th>\n",
       "      <td>-0.1650</td>\n",
       "      <td>-0.1945</td>\n",
       "      <td>-0.6020</td>\n",
       "      <td>-0.2100</td>\n",
       "    </tr>\n",
       "    <tr>\n",
       "      <th>4</th>\n",
       "      <th>YAL005C</th>\n",
       "      <td>0.0850</td>\n",
       "      <td>-0.1490</td>\n",
       "      <td>0.4745</td>\n",
       "      <td>0.6225</td>\n",
       "    </tr>\n",
       "    <tr>\n",
       "      <th>5</th>\n",
       "      <th>YAL007C</th>\n",
       "      <td>0.2400</td>\n",
       "      <td>-0.0855</td>\n",
       "      <td>-0.0790</td>\n",
       "      <td>-0.0265</td>\n",
       "    </tr>\n",
       "    <tr>\n",
       "      <th>6</th>\n",
       "      <th>YAL008W</th>\n",
       "      <td>0.2355</td>\n",
       "      <td>-0.1405</td>\n",
       "      <td>-0.5285</td>\n",
       "      <td>-0.2160</td>\n",
       "    </tr>\n",
       "  </tbody>\n",
       "</table>\n",
       "</div>"
      ],
      "text/plain": [
       "dataset_id         4711    4781    4782    4783\n",
       "data_type         value   value   value   value\n",
       "gene_id orf                                    \n",
       "2       YAL002W -1.3615 -1.3550 -1.1645 -0.9160\n",
       "1863    YAL004W -0.1650 -0.1945 -0.6020 -0.2100\n",
       "4       YAL005C  0.0850 -0.1490  0.4745  0.6225\n",
       "5       YAL007C  0.2400 -0.0855 -0.0790 -0.0265\n",
       "6       YAL008W  0.2355 -0.1405 -0.5285 -0.2160"
      ]
     },
     "execution_count": 53,
     "metadata": {},
     "output_type": "execute_result"
    }
   ],
   "source": [
    "data['gene_id'] = gene_ids\n",
    "data = data.loc[data['gene_id'].notnull()]\n",
    "data['gene_id'] = data['gene_id'].astype(int)\n",
    "data = data.reset_index().set_index(['gene_id','orf'])\n",
    "\n",
    "data.head()"
   ]
  },
  {
   "cell_type": "markdown",
   "metadata": {},
   "source": [
    "# Normalize"
   ]
  },
  {
   "cell_type": "code",
   "execution_count": 54,
   "metadata": {},
   "outputs": [],
   "source": [
    "data_norm = normalize_phenotypic_scores(data, has_tested=True)"
   ]
  },
  {
   "cell_type": "code",
   "execution_count": 55,
   "metadata": {},
   "outputs": [],
   "source": [
    "# Assign proper column names\n",
    "lst = [datasets.index.values, ['valuez']*datasets.shape[0]]\n",
    "tuples = list(zip(*lst))\n",
    "idx = pd.MultiIndex.from_tuples(tuples, names=['dataset_id','data_type'])\n",
    "data_norm.columns = idx"
   ]
  },
  {
   "cell_type": "code",
   "execution_count": 56,
   "metadata": {},
   "outputs": [
    {
     "data": {
      "text/html": [
       "<div>\n",
       "<style scoped>\n",
       "    .dataframe tbody tr th:only-of-type {\n",
       "        vertical-align: middle;\n",
       "    }\n",
       "\n",
       "    .dataframe tbody tr th {\n",
       "        vertical-align: top;\n",
       "    }\n",
       "\n",
       "    .dataframe thead tr th {\n",
       "        text-align: left;\n",
       "    }\n",
       "\n",
       "    .dataframe thead tr:last-of-type th {\n",
       "        text-align: right;\n",
       "    }\n",
       "</style>\n",
       "<table border=\"1\" class=\"dataframe\">\n",
       "  <thead>\n",
       "    <tr>\n",
       "      <th></th>\n",
       "      <th>dataset_id</th>\n",
       "      <th>4711</th>\n",
       "      <th>4781</th>\n",
       "      <th>4782</th>\n",
       "      <th>4783</th>\n",
       "      <th>4711</th>\n",
       "      <th>4781</th>\n",
       "      <th>4782</th>\n",
       "      <th>4783</th>\n",
       "    </tr>\n",
       "    <tr>\n",
       "      <th></th>\n",
       "      <th>data_type</th>\n",
       "      <th>value</th>\n",
       "      <th>value</th>\n",
       "      <th>value</th>\n",
       "      <th>value</th>\n",
       "      <th>valuez</th>\n",
       "      <th>valuez</th>\n",
       "      <th>valuez</th>\n",
       "      <th>valuez</th>\n",
       "    </tr>\n",
       "    <tr>\n",
       "      <th>gene_id</th>\n",
       "      <th>orf</th>\n",
       "      <th></th>\n",
       "      <th></th>\n",
       "      <th></th>\n",
       "      <th></th>\n",
       "      <th></th>\n",
       "      <th></th>\n",
       "      <th></th>\n",
       "      <th></th>\n",
       "    </tr>\n",
       "  </thead>\n",
       "  <tbody>\n",
       "    <tr>\n",
       "      <th>2</th>\n",
       "      <th>YAL002W</th>\n",
       "      <td>-1.3615</td>\n",
       "      <td>-1.3550</td>\n",
       "      <td>-1.1645</td>\n",
       "      <td>-0.9160</td>\n",
       "      <td>-2.838911</td>\n",
       "      <td>-2.448770</td>\n",
       "      <td>-1.607520</td>\n",
       "      <td>-1.207497</td>\n",
       "    </tr>\n",
       "    <tr>\n",
       "      <th>1863</th>\n",
       "      <th>YAL004W</th>\n",
       "      <td>-0.1650</td>\n",
       "      <td>-0.1945</td>\n",
       "      <td>-0.6020</td>\n",
       "      <td>-0.2100</td>\n",
       "      <td>-0.447994</td>\n",
       "      <td>-0.436453</td>\n",
       "      <td>-0.864466</td>\n",
       "      <td>-0.274049</td>\n",
       "    </tr>\n",
       "    <tr>\n",
       "      <th>4</th>\n",
       "      <th>YAL005C</th>\n",
       "      <td>0.0850</td>\n",
       "      <td>-0.1490</td>\n",
       "      <td>0.4745</td>\n",
       "      <td>0.6225</td>\n",
       "      <td>0.051571</td>\n",
       "      <td>-0.357556</td>\n",
       "      <td>0.557576</td>\n",
       "      <td>0.826653</td>\n",
       "    </tr>\n",
       "    <tr>\n",
       "      <th>5</th>\n",
       "      <th>YAL007C</th>\n",
       "      <td>0.2400</td>\n",
       "      <td>-0.0855</td>\n",
       "      <td>-0.0790</td>\n",
       "      <td>-0.0265</td>\n",
       "      <td>0.361301</td>\n",
       "      <td>-0.247446</td>\n",
       "      <td>-0.173590</td>\n",
       "      <td>-0.031431</td>\n",
       "    </tr>\n",
       "    <tr>\n",
       "      <th>6</th>\n",
       "      <th>YAL008W</th>\n",
       "      <td>0.2355</td>\n",
       "      <td>-0.1405</td>\n",
       "      <td>-0.5285</td>\n",
       "      <td>-0.2160</td>\n",
       "      <td>0.352309</td>\n",
       "      <td>-0.342817</td>\n",
       "      <td>-0.767373</td>\n",
       "      <td>-0.281982</td>\n",
       "    </tr>\n",
       "  </tbody>\n",
       "</table>\n",
       "</div>"
      ],
      "text/plain": [
       "dataset_id         4711    4781    4782    4783      4711      4781      4782  \\\n",
       "data_type         value   value   value   value    valuez    valuez    valuez   \n",
       "gene_id orf                                                                     \n",
       "2       YAL002W -1.3615 -1.3550 -1.1645 -0.9160 -2.838911 -2.448770 -1.607520   \n",
       "1863    YAL004W -0.1650 -0.1945 -0.6020 -0.2100 -0.447994 -0.436453 -0.864466   \n",
       "4       YAL005C  0.0850 -0.1490  0.4745  0.6225  0.051571 -0.357556  0.557576   \n",
       "5       YAL007C  0.2400 -0.0855 -0.0790 -0.0265  0.361301 -0.247446 -0.173590   \n",
       "6       YAL008W  0.2355 -0.1405 -0.5285 -0.2160  0.352309 -0.342817 -0.767373   \n",
       "\n",
       "dataset_id           4783  \n",
       "data_type          valuez  \n",
       "gene_id orf                \n",
       "2       YAL002W -1.207497  \n",
       "1863    YAL004W -0.274049  \n",
       "4       YAL005C  0.826653  \n",
       "5       YAL007C -0.031431  \n",
       "6       YAL008W -0.281982  "
      ]
     },
     "execution_count": 56,
     "metadata": {},
     "output_type": "execute_result"
    }
   ],
   "source": [
    "data_norm[data.isnull()] = np.nan\n",
    "data_all = data.join(data_norm)\n",
    "\n",
    "data_all.head()"
   ]
  },
  {
   "cell_type": "markdown",
   "metadata": {},
   "source": [
    "# Print out"
   ]
  },
  {
   "cell_type": "code",
   "execution_count": 57,
   "metadata": {},
   "outputs": [],
   "source": [
    "for f in ['value','valuez']:\n",
    "    df = data_all.xs(f, level='data_type', axis=1).copy()\n",
    "    df.columns = datasets['name'].values\n",
    "    df = df.droplevel('gene_id', axis=0)\n",
    "    df.to_csv(paper_name + '_' + f + '.txt', sep='\\t')"
   ]
  },
  {
   "cell_type": "markdown",
   "metadata": {},
   "source": [
    "# Save to DB"
   ]
  },
  {
   "cell_type": "code",
   "execution_count": 58,
   "metadata": {},
   "outputs": [],
   "source": [
    "from IO.save_data_to_db3 import *"
   ]
  },
  {
   "cell_type": "code",
   "execution_count": 59,
   "metadata": {},
   "outputs": [
    {
     "name": "stderr",
     "output_type": "stream",
     "text": [
      "  0%|          | 0/4 [00:00<?, ?it/s]"
     ]
    },
    {
     "name": "stdout",
     "output_type": "stream",
     "text": [
      "Deleting all datasets for PMID 20657825...\n",
      "Inserting the new data...\n"
     ]
    },
    {
     "name": "stderr",
     "output_type": "stream",
     "text": [
      "100%|██████████| 4/4 [00:26<00:00,  6.53s/it]"
     ]
    },
    {
     "name": "stdout",
     "output_type": "stream",
     "text": [
      "Updating the data_modified_on field...\n"
     ]
    },
    {
     "name": "stderr",
     "output_type": "stream",
     "text": [
      "\n"
     ]
    }
   ],
   "source": [
    "save_data_to_db(data_all, paper_pmid)"
   ]
  },
  {
   "cell_type": "code",
   "execution_count": null,
   "metadata": {},
   "outputs": [],
   "source": []
  }
 ],
 "metadata": {
  "kernelspec": {
   "display_name": "yp-data",
   "language": "python",
   "name": "yp-data"
  },
  "language_info": {
   "codemirror_mode": {
    "name": "ipython",
    "version": 3
   },
   "file_extension": ".py",
   "mimetype": "text/x-python",
   "name": "python",
   "nbconvert_exporter": "python",
   "pygments_lexer": "ipython3",
   "version": "3.7.7"
  }
 },
 "nbformat": 4,
 "nbformat_minor": 4
}
