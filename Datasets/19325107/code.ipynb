{
 "cells": [
  {
   "cell_type": "code",
   "execution_count": 1,
   "metadata": {},
   "outputs": [],
   "source": [
    "%run ../../Utils/yp_utils.py"
   ]
  },
  {
   "cell_type": "markdown",
   "metadata": {},
   "source": [
    "# Initial setup"
   ]
  },
  {
   "cell_type": "code",
   "execution_count": 2,
   "metadata": {},
   "outputs": [],
   "source": [
    "paper_pmid = 19325107\n",
    "paper_name = 'jonikas_schuldiner_2009' "
   ]
  },
  {
   "cell_type": "code",
   "execution_count": 3,
   "metadata": {},
   "outputs": [],
   "source": [
    "datasets = pd.read_csv('extras/YeastPhenome_' + str(paper_pmid) + '_datasets_list.txt', sep='\\t', header=None, names=['dataset_id', 'name'])"
   ]
  },
  {
   "cell_type": "code",
   "execution_count": 4,
   "metadata": {},
   "outputs": [],
   "source": [
    "datasets.set_index('dataset_id', inplace=True)"
   ]
  },
  {
   "cell_type": "markdown",
   "metadata": {},
   "source": [
    "# Load & process the data"
   ]
  },
  {
   "cell_type": "code",
   "execution_count": 8,
   "metadata": {},
   "outputs": [],
   "source": [
    "original_data = pd.read_excel('raw_data/NIHMS201195-supplement-st1.xlsx', sheet_name='Table_S1', skiprows=1)"
   ]
  },
  {
   "cell_type": "code",
   "execution_count": 9,
   "metadata": {},
   "outputs": [
    {
     "name": "stdout",
     "output_type": "stream",
     "text": [
      "Original data dimensions: 4563 x 19\n"
     ]
    }
   ],
   "source": [
    "print('Original data dimensions: %d x %d' % (original_data.shape))"
   ]
  },
  {
   "cell_type": "code",
   "execution_count": 10,
   "metadata": {},
   "outputs": [
    {
     "data": {
      "text/html": [
       "<div>\n",
       "<style scoped>\n",
       "    .dataframe tbody tr th:only-of-type {\n",
       "        vertical-align: middle;\n",
       "    }\n",
       "\n",
       "    .dataframe tbody tr th {\n",
       "        vertical-align: top;\n",
       "    }\n",
       "\n",
       "    .dataframe thead th {\n",
       "        text-align: right;\n",
       "    }\n",
       "</style>\n",
       "<table border=\"1\" class=\"dataframe\">\n",
       "  <thead>\n",
       "    <tr style=\"text-align: right;\">\n",
       "      <th></th>\n",
       "      <th>ORF</th>\n",
       "      <th>Name</th>\n",
       "      <th>Localization</th>\n",
       "      <th>Description</th>\n",
       "      <th>caution_flanking_ORF_is_a_hit</th>\n",
       "      <th>caution_high_variation_in_multiple_measurements</th>\n",
       "      <th>caution_library_strain_suspicious</th>\n",
       "      <th>notes (concatenation from the notes of all the library wells containing this strain which were combined into this data)</th>\n",
       "      <th>hit</th>\n",
       "      <th>number_of_measurements</th>\n",
       "      <th>average_log2_fluorescence</th>\n",
       "      <th>stdev_log2_fluorescence</th>\n",
       "      <th>p-val</th>\n",
       "      <th>average_log2_fluorescence.1</th>\n",
       "      <th>stdev_log2_fluorescence.1</th>\n",
       "      <th>p-val.1</th>\n",
       "      <th>average_log2_fluorescence.2</th>\n",
       "      <th>stdev_log2_fluorescence.2</th>\n",
       "      <th>p-val.2</th>\n",
       "    </tr>\n",
       "  </thead>\n",
       "  <tbody>\n",
       "    <tr>\n",
       "      <th>0</th>\n",
       "      <td>YMR214W</td>\n",
       "      <td>SCJ1</td>\n",
       "      <td>ambiguous</td>\n",
       "      <td>One of several homologs of bacterial chaperone...</td>\n",
       "      <td>0</td>\n",
       "      <td>0</td>\n",
       "      <td>0</td>\n",
       "      <td>NaN</td>\n",
       "      <td>1</td>\n",
       "      <td>6</td>\n",
       "      <td>4.225318</td>\n",
       "      <td>0.150919</td>\n",
       "      <td>1.723876e-41</td>\n",
       "      <td>0.025008</td>\n",
       "      <td>0.080239</td>\n",
       "      <td>5.994497e-01</td>\n",
       "      <td>4.238204</td>\n",
       "      <td>0.087689</td>\n",
       "      <td>2.744758e-40</td>\n",
       "    </tr>\n",
       "    <tr>\n",
       "      <th>1</th>\n",
       "      <td>YLR242C</td>\n",
       "      <td>ARV1</td>\n",
       "      <td>NaN</td>\n",
       "      <td>Protein required for normal intracellular ster...</td>\n",
       "      <td>0</td>\n",
       "      <td>0</td>\n",
       "      <td>0</td>\n",
       "      <td>NaN</td>\n",
       "      <td>1</td>\n",
       "      <td>4</td>\n",
       "      <td>4.991960</td>\n",
       "      <td>0.477557</td>\n",
       "      <td>2.886062e-35</td>\n",
       "      <td>0.905251</td>\n",
       "      <td>0.639754</td>\n",
       "      <td>1.377534e-10</td>\n",
       "      <td>4.042453</td>\n",
       "      <td>0.266554</td>\n",
       "      <td>6.187046e-26</td>\n",
       "    </tr>\n",
       "    <tr>\n",
       "      <th>2</th>\n",
       "      <td>YEL031W</td>\n",
       "      <td>SPF1</td>\n",
       "      <td>ER</td>\n",
       "      <td>P-type ATPase, ion transporter of the ER membr...</td>\n",
       "      <td>0</td>\n",
       "      <td>0</td>\n",
       "      <td>0</td>\n",
       "      <td>NaN</td>\n",
       "      <td>1</td>\n",
       "      <td>4</td>\n",
       "      <td>4.183607</td>\n",
       "      <td>0.177025</td>\n",
       "      <td>7.372473e-28</td>\n",
       "      <td>0.464356</td>\n",
       "      <td>0.099590</td>\n",
       "      <td>1.278965e-05</td>\n",
       "      <td>3.784655</td>\n",
       "      <td>0.119467</td>\n",
       "      <td>4.855611e-24</td>\n",
       "    </tr>\n",
       "    <tr>\n",
       "      <th>3</th>\n",
       "      <td>YJR117W</td>\n",
       "      <td>STE24</td>\n",
       "      <td>ER</td>\n",
       "      <td>Highly conserved zinc metalloprotease that fun...</td>\n",
       "      <td>1</td>\n",
       "      <td>0</td>\n",
       "      <td>0</td>\n",
       "      <td>NaN</td>\n",
       "      <td>1</td>\n",
       "      <td>6</td>\n",
       "      <td>3.676340</td>\n",
       "      <td>0.067443</td>\n",
       "      <td>5.750513e-35</td>\n",
       "      <td>-0.030228</td>\n",
       "      <td>0.109646</td>\n",
       "      <td>4.278406e-01</td>\n",
       "      <td>3.729102</td>\n",
       "      <td>0.120586</td>\n",
       "      <td>1.305719e-34</td>\n",
       "    </tr>\n",
       "    <tr>\n",
       "      <th>4</th>\n",
       "      <td>YFL025C</td>\n",
       "      <td>BST1</td>\n",
       "      <td>ER</td>\n",
       "      <td>GPI inositol deacylase of the ER that negative...</td>\n",
       "      <td>0</td>\n",
       "      <td>0</td>\n",
       "      <td>1</td>\n",
       "      <td>grows well on -met, no growth on -lys, no grow...</td>\n",
       "      <td>1</td>\n",
       "      <td>2</td>\n",
       "      <td>3.873617</td>\n",
       "      <td>0.001030</td>\n",
       "      <td>2.092727e-13</td>\n",
       "      <td>0.507844</td>\n",
       "      <td>0.034808</td>\n",
       "      <td>5.622330e-04</td>\n",
       "      <td>3.398601</td>\n",
       "      <td>0.031882</td>\n",
       "      <td>2.028541e-11</td>\n",
       "    </tr>\n",
       "  </tbody>\n",
       "</table>\n",
       "</div>"
      ],
      "text/plain": [
       "       ORF   Name Localization  \\\n",
       "0  YMR214W   SCJ1    ambiguous   \n",
       "1  YLR242C   ARV1          NaN   \n",
       "2  YEL031W   SPF1           ER   \n",
       "3  YJR117W  STE24           ER   \n",
       "4  YFL025C   BST1           ER   \n",
       "\n",
       "                                         Description  \\\n",
       "0  One of several homologs of bacterial chaperone...   \n",
       "1  Protein required for normal intracellular ster...   \n",
       "2  P-type ATPase, ion transporter of the ER membr...   \n",
       "3  Highly conserved zinc metalloprotease that fun...   \n",
       "4  GPI inositol deacylase of the ER that negative...   \n",
       "\n",
       "   caution_flanking_ORF_is_a_hit  \\\n",
       "0                              0   \n",
       "1                              0   \n",
       "2                              0   \n",
       "3                              1   \n",
       "4                              0   \n",
       "\n",
       "   caution_high_variation_in_multiple_measurements  \\\n",
       "0                                                0   \n",
       "1                                                0   \n",
       "2                                                0   \n",
       "3                                                0   \n",
       "4                                                0   \n",
       "\n",
       "   caution_library_strain_suspicious  \\\n",
       "0                                  0   \n",
       "1                                  0   \n",
       "2                                  0   \n",
       "3                                  0   \n",
       "4                                  1   \n",
       "\n",
       "  notes (concatenation from the notes of all the library wells containing this strain which were combined into this data)  \\\n",
       "0                                                NaN                                                                        \n",
       "1                                                NaN                                                                        \n",
       "2                                                NaN                                                                        \n",
       "3                                                NaN                                                                        \n",
       "4  grows well on -met, no growth on -lys, no grow...                                                                        \n",
       "\n",
       "   hit  number_of_measurements  average_log2_fluorescence  \\\n",
       "0    1                       6                   4.225318   \n",
       "1    1                       4                   4.991960   \n",
       "2    1                       4                   4.183607   \n",
       "3    1                       6                   3.676340   \n",
       "4    1                       2                   3.873617   \n",
       "\n",
       "   stdev_log2_fluorescence         p-val  average_log2_fluorescence.1  \\\n",
       "0                 0.150919  1.723876e-41                     0.025008   \n",
       "1                 0.477557  2.886062e-35                     0.905251   \n",
       "2                 0.177025  7.372473e-28                     0.464356   \n",
       "3                 0.067443  5.750513e-35                    -0.030228   \n",
       "4                 0.001030  2.092727e-13                     0.507844   \n",
       "\n",
       "   stdev_log2_fluorescence.1       p-val.1  average_log2_fluorescence.2  \\\n",
       "0                   0.080239  5.994497e-01                     4.238204   \n",
       "1                   0.639754  1.377534e-10                     4.042453   \n",
       "2                   0.099590  1.278965e-05                     3.784655   \n",
       "3                   0.109646  4.278406e-01                     3.729102   \n",
       "4                   0.034808  5.622330e-04                     3.398601   \n",
       "\n",
       "   stdev_log2_fluorescence.2       p-val.2  \n",
       "0                   0.087689  2.744758e-40  \n",
       "1                   0.266554  6.187046e-26  \n",
       "2                   0.119467  4.855611e-24  \n",
       "3                   0.120586  1.305719e-34  \n",
       "4                   0.031882  2.028541e-11  "
      ]
     },
     "execution_count": 10,
     "metadata": {},
     "output_type": "execute_result"
    }
   ],
   "source": [
    "original_data.head()"
   ]
  },
  {
   "cell_type": "code",
   "execution_count": 11,
   "metadata": {},
   "outputs": [],
   "source": [
    "original_data['orf'] = original_data['ORF'].astype(str)"
   ]
  },
  {
   "cell_type": "code",
   "execution_count": 12,
   "metadata": {},
   "outputs": [],
   "source": [
    "# Eliminate all white spaces & capitalize\n",
    "original_data['orf'] = clean_orf(original_data['orf'])"
   ]
  },
  {
   "cell_type": "code",
   "execution_count": 16,
   "metadata": {},
   "outputs": [],
   "source": [
    "typo_fixes = {'YOLO62C':'YOL062C','YKLO72W':'YKL072W','YOLO57W':'YOL057W','YLR287-A':'YLR287C-A'}\n",
    "original_data['orf'] = original_data['orf'].apply(lambda x: typo_fixes[x] if x in typo_fixes.keys() else x)"
   ]
  },
  {
   "cell_type": "code",
   "execution_count": 17,
   "metadata": {},
   "outputs": [],
   "source": [
    "# Translate to ORFs \n",
    "original_data['orf'] = translate_sc(original_data['orf'], to='orf')"
   ]
  },
  {
   "cell_type": "code",
   "execution_count": 18,
   "metadata": {},
   "outputs": [
    {
     "name": "stdout",
     "output_type": "stream",
     "text": [
      "                                                ORF Name Localization  \\\n",
      "index_input                                                             \n",
      "2477         control WT with KANr in the HIS3 locus  NaN          NaN   \n",
      "\n",
      "            Description  caution_flanking_ORF_is_a_hit  \\\n",
      "index_input                                              \n",
      "2477                NaN                              0   \n",
      "\n",
      "             caution_high_variation_in_multiple_measurements  \\\n",
      "index_input                                                    \n",
      "2477                                                       0   \n",
      "\n",
      "             caution_library_strain_suspicious  \\\n",
      "index_input                                      \n",
      "2477                                         1   \n",
      "\n",
      "            notes (concatenation from the notes of all the library wells containing this strain which were combined into this data)  \\\n",
      "index_input                                                                                                                           \n",
      "2477         This well contains a control BY4741 strain wit...                                                                        \n",
      "\n",
      "             hit  number_of_measurements  average_log2_fluorescence  \\\n",
      "index_input                                                           \n",
      "2477           0                      48                  -0.135021   \n",
      "\n",
      "             stdev_log2_fluorescence     p-val  average_log2_fluorescence.1  \\\n",
      "index_input                                                                   \n",
      "2477                        0.103658  0.011039                      -0.1412   \n",
      "\n",
      "             stdev_log2_fluorescence.1   p-val.1  average_log2_fluorescence.2  \\\n",
      "index_input                                                                     \n",
      "2477                          0.151153  0.000888                    -0.009106   \n",
      "\n",
      "             stdev_log2_fluorescence.2   p-val.2  \\\n",
      "index_input                                        \n",
      "2477                          0.111143  1.016287   \n",
      "\n",
      "                                         orf  \n",
      "index_input                                   \n",
      "2477         CONTROLWTWITHKANRINTHEHIS3LOCUS  \n"
     ]
    }
   ],
   "source": [
    "# Make sure everything translated ok\n",
    "t = looks_like_orf(original_data['orf'])\n",
    "print(original_data.loc[~t,])"
   ]
  },
  {
   "cell_type": "code",
   "execution_count": 19,
   "metadata": {},
   "outputs": [],
   "source": [
    "original_data = original_data.loc[t,:]"
   ]
  },
  {
   "cell_type": "code",
   "execution_count": 21,
   "metadata": {},
   "outputs": [],
   "source": [
    "original_data['data'] = original_data['average_log2_fluorescence.2'].astype(float)"
   ]
  },
  {
   "cell_type": "code",
   "execution_count": 22,
   "metadata": {},
   "outputs": [],
   "source": [
    "original_data.set_index('orf', inplace=True)"
   ]
  },
  {
   "cell_type": "code",
   "execution_count": 23,
   "metadata": {},
   "outputs": [],
   "source": [
    "original_data = original_data[['data']].copy()"
   ]
  },
  {
   "cell_type": "code",
   "execution_count": 24,
   "metadata": {},
   "outputs": [],
   "source": [
    "original_data = original_data.groupby(original_data.index).mean()"
   ]
  },
  {
   "cell_type": "code",
   "execution_count": 25,
   "metadata": {},
   "outputs": [
    {
     "data": {
      "text/plain": [
       "(4527, 1)"
      ]
     },
     "execution_count": 25,
     "metadata": {},
     "output_type": "execute_result"
    }
   ],
   "source": [
    "original_data.shape"
   ]
  },
  {
   "cell_type": "markdown",
   "metadata": {},
   "source": [
    "# Prepare the final dataset"
   ]
  },
  {
   "cell_type": "code",
   "execution_count": 26,
   "metadata": {},
   "outputs": [],
   "source": [
    "data = original_data.copy()"
   ]
  },
  {
   "cell_type": "code",
   "execution_count": 27,
   "metadata": {},
   "outputs": [],
   "source": [
    "dataset_ids = [699]\n",
    "datasets = datasets.reindex(index=dataset_ids)"
   ]
  },
  {
   "cell_type": "code",
   "execution_count": 28,
   "metadata": {},
   "outputs": [],
   "source": [
    "lst = [datasets.index.values, ['value']*datasets.shape[0]]\n",
    "tuples = list(zip(*lst))\n",
    "idx = pd.MultiIndex.from_tuples(tuples, names=['dataset_id','data_type'])\n",
    "data.columns = idx"
   ]
  },
  {
   "cell_type": "code",
   "execution_count": 29,
   "metadata": {},
   "outputs": [
    {
     "data": {
      "text/html": [
       "<div>\n",
       "<style scoped>\n",
       "    .dataframe tbody tr th:only-of-type {\n",
       "        vertical-align: middle;\n",
       "    }\n",
       "\n",
       "    .dataframe tbody tr th {\n",
       "        vertical-align: top;\n",
       "    }\n",
       "\n",
       "    .dataframe thead tr th {\n",
       "        text-align: left;\n",
       "    }\n",
       "\n",
       "    .dataframe thead tr:last-of-type th {\n",
       "        text-align: right;\n",
       "    }\n",
       "</style>\n",
       "<table border=\"1\" class=\"dataframe\">\n",
       "  <thead>\n",
       "    <tr>\n",
       "      <th>dataset_id</th>\n",
       "      <th>699</th>\n",
       "    </tr>\n",
       "    <tr>\n",
       "      <th>data_type</th>\n",
       "      <th>value</th>\n",
       "    </tr>\n",
       "    <tr>\n",
       "      <th>orf</th>\n",
       "      <th></th>\n",
       "    </tr>\n",
       "  </thead>\n",
       "  <tbody>\n",
       "    <tr>\n",
       "      <th>YAL002W</th>\n",
       "      <td>0.378510</td>\n",
       "    </tr>\n",
       "    <tr>\n",
       "      <th>YAL004W</th>\n",
       "      <td>-0.255485</td>\n",
       "    </tr>\n",
       "    <tr>\n",
       "      <th>YAL005C</th>\n",
       "      <td>-0.304026</td>\n",
       "    </tr>\n",
       "    <tr>\n",
       "      <th>YAL007C</th>\n",
       "      <td>0.391689</td>\n",
       "    </tr>\n",
       "    <tr>\n",
       "      <th>YAL008W</th>\n",
       "      <td>0.013989</td>\n",
       "    </tr>\n",
       "  </tbody>\n",
       "</table>\n",
       "</div>"
      ],
      "text/plain": [
       "dataset_id       699\n",
       "data_type      value\n",
       "orf                 \n",
       "YAL002W     0.378510\n",
       "YAL004W    -0.255485\n",
       "YAL005C    -0.304026\n",
       "YAL007C     0.391689\n",
       "YAL008W     0.013989"
      ]
     },
     "execution_count": 29,
     "metadata": {},
     "output_type": "execute_result"
    }
   ],
   "source": [
    "data.head()"
   ]
  },
  {
   "cell_type": "markdown",
   "metadata": {},
   "source": [
    "## Subset to the genes currently in SGD"
   ]
  },
  {
   "cell_type": "code",
   "execution_count": 30,
   "metadata": {},
   "outputs": [
    {
     "name": "stdout",
     "output_type": "stream",
     "text": [
      "ORFs missing from SGD: 25\n"
     ]
    }
   ],
   "source": [
    "genes = pd.read_csv(path_to_genes, sep='\\t', index_col='id')\n",
    "genes = genes.reset_index().set_index('systematic_name')\n",
    "gene_ids = genes.reindex(index=data.index.values)['id'].values\n",
    "num_missing = np.sum(np.isnan(gene_ids))\n",
    "print('ORFs missing from SGD: %d' % num_missing)"
   ]
  },
  {
   "cell_type": "code",
   "execution_count": 31,
   "metadata": {},
   "outputs": [
    {
     "data": {
      "text/html": [
       "<div>\n",
       "<style scoped>\n",
       "    .dataframe tbody tr th:only-of-type {\n",
       "        vertical-align: middle;\n",
       "    }\n",
       "\n",
       "    .dataframe tbody tr th {\n",
       "        vertical-align: top;\n",
       "    }\n",
       "\n",
       "    .dataframe thead tr th {\n",
       "        text-align: left;\n",
       "    }\n",
       "\n",
       "    .dataframe thead tr:last-of-type th {\n",
       "        text-align: right;\n",
       "    }\n",
       "</style>\n",
       "<table border=\"1\" class=\"dataframe\">\n",
       "  <thead>\n",
       "    <tr>\n",
       "      <th></th>\n",
       "      <th>dataset_id</th>\n",
       "      <th>699</th>\n",
       "    </tr>\n",
       "    <tr>\n",
       "      <th></th>\n",
       "      <th>data_type</th>\n",
       "      <th>value</th>\n",
       "    </tr>\n",
       "    <tr>\n",
       "      <th>gene_id</th>\n",
       "      <th>orf</th>\n",
       "      <th></th>\n",
       "    </tr>\n",
       "  </thead>\n",
       "  <tbody>\n",
       "    <tr>\n",
       "      <th>2</th>\n",
       "      <th>YAL002W</th>\n",
       "      <td>0.378510</td>\n",
       "    </tr>\n",
       "    <tr>\n",
       "      <th>1863</th>\n",
       "      <th>YAL004W</th>\n",
       "      <td>-0.255485</td>\n",
       "    </tr>\n",
       "    <tr>\n",
       "      <th>4</th>\n",
       "      <th>YAL005C</th>\n",
       "      <td>-0.304026</td>\n",
       "    </tr>\n",
       "    <tr>\n",
       "      <th>5</th>\n",
       "      <th>YAL007C</th>\n",
       "      <td>0.391689</td>\n",
       "    </tr>\n",
       "    <tr>\n",
       "      <th>6</th>\n",
       "      <th>YAL008W</th>\n",
       "      <td>0.013989</td>\n",
       "    </tr>\n",
       "  </tbody>\n",
       "</table>\n",
       "</div>"
      ],
      "text/plain": [
       "dataset_id            699\n",
       "data_type           value\n",
       "gene_id orf              \n",
       "2       YAL002W  0.378510\n",
       "1863    YAL004W -0.255485\n",
       "4       YAL005C -0.304026\n",
       "5       YAL007C  0.391689\n",
       "6       YAL008W  0.013989"
      ]
     },
     "execution_count": 31,
     "metadata": {},
     "output_type": "execute_result"
    }
   ],
   "source": [
    "data['gene_id'] = gene_ids\n",
    "data = data.loc[data['gene_id'].notnull()]\n",
    "data['gene_id'] = data['gene_id'].astype(int)\n",
    "data = data.reset_index().set_index(['gene_id','orf'])\n",
    "\n",
    "data.head()"
   ]
  },
  {
   "cell_type": "markdown",
   "metadata": {},
   "source": [
    "# Normalize"
   ]
  },
  {
   "cell_type": "code",
   "execution_count": 32,
   "metadata": {},
   "outputs": [],
   "source": [
    "data_norm = normalize_phenotypic_scores(data, has_tested=True)"
   ]
  },
  {
   "cell_type": "code",
   "execution_count": 33,
   "metadata": {},
   "outputs": [],
   "source": [
    "# Assign proper column names\n",
    "lst = [datasets.index.values, ['valuez']*datasets.shape[0]]\n",
    "tuples = list(zip(*lst))\n",
    "idx = pd.MultiIndex.from_tuples(tuples, names=['dataset_id','data_type'])\n",
    "data_norm.columns = idx"
   ]
  },
  {
   "cell_type": "code",
   "execution_count": 34,
   "metadata": {},
   "outputs": [
    {
     "data": {
      "text/html": [
       "<div>\n",
       "<style scoped>\n",
       "    .dataframe tbody tr th:only-of-type {\n",
       "        vertical-align: middle;\n",
       "    }\n",
       "\n",
       "    .dataframe tbody tr th {\n",
       "        vertical-align: top;\n",
       "    }\n",
       "\n",
       "    .dataframe thead tr th {\n",
       "        text-align: left;\n",
       "    }\n",
       "\n",
       "    .dataframe thead tr:last-of-type th {\n",
       "        text-align: right;\n",
       "    }\n",
       "</style>\n",
       "<table border=\"1\" class=\"dataframe\">\n",
       "  <thead>\n",
       "    <tr>\n",
       "      <th></th>\n",
       "      <th>dataset_id</th>\n",
       "      <th colspan=\"2\" halign=\"left\">699</th>\n",
       "    </tr>\n",
       "    <tr>\n",
       "      <th></th>\n",
       "      <th>data_type</th>\n",
       "      <th>value</th>\n",
       "      <th>valuez</th>\n",
       "    </tr>\n",
       "    <tr>\n",
       "      <th>gene_id</th>\n",
       "      <th>orf</th>\n",
       "      <th></th>\n",
       "      <th></th>\n",
       "    </tr>\n",
       "  </thead>\n",
       "  <tbody>\n",
       "    <tr>\n",
       "      <th>2</th>\n",
       "      <th>YAL002W</th>\n",
       "      <td>0.378510</td>\n",
       "      <td>0.965771</td>\n",
       "    </tr>\n",
       "    <tr>\n",
       "      <th>1863</th>\n",
       "      <th>YAL004W</th>\n",
       "      <td>-0.255485</td>\n",
       "      <td>-0.610610</td>\n",
       "    </tr>\n",
       "    <tr>\n",
       "      <th>4</th>\n",
       "      <th>YAL005C</th>\n",
       "      <td>-0.304026</td>\n",
       "      <td>-0.731304</td>\n",
       "    </tr>\n",
       "    <tr>\n",
       "      <th>5</th>\n",
       "      <th>YAL007C</th>\n",
       "      <td>0.391689</td>\n",
       "      <td>0.998538</td>\n",
       "    </tr>\n",
       "    <tr>\n",
       "      <th>6</th>\n",
       "      <th>YAL008W</th>\n",
       "      <td>0.013989</td>\n",
       "      <td>0.059416</td>\n",
       "    </tr>\n",
       "  </tbody>\n",
       "</table>\n",
       "</div>"
      ],
      "text/plain": [
       "dataset_id            699          \n",
       "data_type           value    valuez\n",
       "gene_id orf                        \n",
       "2       YAL002W  0.378510  0.965771\n",
       "1863    YAL004W -0.255485 -0.610610\n",
       "4       YAL005C -0.304026 -0.731304\n",
       "5       YAL007C  0.391689  0.998538\n",
       "6       YAL008W  0.013989  0.059416"
      ]
     },
     "execution_count": 34,
     "metadata": {},
     "output_type": "execute_result"
    }
   ],
   "source": [
    "data_norm[data.isnull()] = np.nan\n",
    "data_all = data.join(data_norm)\n",
    "\n",
    "data_all.head()"
   ]
  },
  {
   "cell_type": "markdown",
   "metadata": {},
   "source": [
    "# Print out"
   ]
  },
  {
   "cell_type": "code",
   "execution_count": 35,
   "metadata": {},
   "outputs": [],
   "source": [
    "for f in ['value','valuez']:\n",
    "    df = data_all.xs(f, level='data_type', axis=1).copy()\n",
    "    df.columns = datasets['name'].values\n",
    "    df = df.droplevel('gene_id', axis=0)\n",
    "    df.to_csv(paper_name + '_' + f + '.txt', sep='\\t')"
   ]
  },
  {
   "cell_type": "markdown",
   "metadata": {},
   "source": [
    "# Save to DB"
   ]
  },
  {
   "cell_type": "code",
   "execution_count": 36,
   "metadata": {},
   "outputs": [],
   "source": [
    "from IO.save_data_to_db3 import *"
   ]
  },
  {
   "cell_type": "code",
   "execution_count": 37,
   "metadata": {},
   "outputs": [
    {
     "name": "stderr",
     "output_type": "stream",
     "text": [
      "  0%|          | 0/1 [00:00<?, ?it/s]"
     ]
    },
    {
     "name": "stdout",
     "output_type": "stream",
     "text": [
      "Deleting all datasets for PMID 19325107...\n",
      "Inserting the new data...\n"
     ]
    },
    {
     "name": "stderr",
     "output_type": "stream",
     "text": [
      "100%|██████████| 1/1 [00:09<00:00,  9.24s/it]"
     ]
    },
    {
     "name": "stdout",
     "output_type": "stream",
     "text": [
      "Updating the data_modified_on field...\n"
     ]
    },
    {
     "name": "stderr",
     "output_type": "stream",
     "text": [
      "\n"
     ]
    }
   ],
   "source": [
    "save_data_to_db(data_all, paper_pmid)"
   ]
  },
  {
   "cell_type": "code",
   "execution_count": null,
   "metadata": {},
   "outputs": [],
   "source": []
  }
 ],
 "metadata": {
  "kernelspec": {
   "display_name": "yp-data",
   "language": "python",
   "name": "yp-data"
  },
  "language_info": {
   "codemirror_mode": {
    "name": "ipython",
    "version": 3
   },
   "file_extension": ".py",
   "mimetype": "text/x-python",
   "name": "python",
   "nbconvert_exporter": "python",
   "pygments_lexer": "ipython3",
   "version": "3.7.7"
  }
 },
 "nbformat": 4,
 "nbformat_minor": 4
}
