{
 "cells": [
  {
   "cell_type": "code",
   "execution_count": 1,
   "metadata": {},
   "outputs": [],
   "source": [
    "%run ../../Utils/yp_utils.py"
   ]
  },
  {
   "cell_type": "markdown",
   "metadata": {},
   "source": [
    "# Initial setup"
   ]
  },
  {
   "cell_type": "code",
   "execution_count": 2,
   "metadata": {},
   "outputs": [],
   "source": [
    "paper_pmid = 17308930\n",
    "paper_name = 'wang_zhou_2007' "
   ]
  },
  {
   "cell_type": "code",
   "execution_count": 3,
   "metadata": {},
   "outputs": [],
   "source": [
    "datasets = pd.read_csv('extras/YeastPhenome_' + str(paper_pmid) + '_datasets_list.txt', sep='\\t', header=None, names=['dataset_id', 'name'])"
   ]
  },
  {
   "cell_type": "code",
   "execution_count": 4,
   "metadata": {},
   "outputs": [],
   "source": [
    "datasets.set_index('dataset_id', inplace=True)"
   ]
  },
  {
   "cell_type": "markdown",
   "metadata": {},
   "source": [
    "# Load & process the data"
   ]
  },
  {
   "cell_type": "code",
   "execution_count": 53,
   "metadata": {},
   "outputs": [],
   "source": [
    "original_data = pd.read_excel('raw_data/mutants sensitive to metal scarcity.xlsx', sheet_name='Sheet1')"
   ]
  },
  {
   "cell_type": "code",
   "execution_count": 54,
   "metadata": {},
   "outputs": [
    {
     "name": "stdout",
     "output_type": "stream",
     "text": [
      "Original data dimensions: 28 x 10\n"
     ]
    }
   ],
   "source": [
    "print('Original data dimensions: %d x %d' % (original_data.shape))"
   ]
  },
  {
   "cell_type": "code",
   "execution_count": 55,
   "metadata": {},
   "outputs": [
    {
     "data": {
      "text/html": [
       "<div>\n",
       "<style scoped>\n",
       "    .dataframe tbody tr th:only-of-type {\n",
       "        vertical-align: middle;\n",
       "    }\n",
       "\n",
       "    .dataframe tbody tr th {\n",
       "        vertical-align: top;\n",
       "    }\n",
       "\n",
       "    .dataframe thead th {\n",
       "        text-align: right;\n",
       "    }\n",
       "</style>\n",
       "<table border=\"1\" class=\"dataframe\">\n",
       "  <thead>\n",
       "    <tr style=\"text-align: right;\">\n",
       "      <th></th>\n",
       "      <th>ORF</th>\n",
       "      <th>Gene name</th>\n",
       "      <th>Sensitivity to EDTA</th>\n",
       "      <th>Rescued by Cu (50uM/200uM)</th>\n",
       "      <th>Rescued by Fe (50uM/200uM)</th>\n",
       "      <th>Rescued by Mn (50uM/200uM)</th>\n",
       "      <th>Rescued by Zn (50uM/200uM)</th>\n",
       "      <th>Other phenotypes</th>\n",
       "      <th>Functional categories</th>\n",
       "      <th>Possible  biological process</th>\n",
       "    </tr>\n",
       "  </thead>\n",
       "  <tbody>\n",
       "    <tr>\n",
       "      <th>0</th>\n",
       "      <td>YGL124C</td>\n",
       "      <td>MON1</td>\n",
       "      <td>S, M</td>\n",
       "      <td>-/-</td>\n",
       "      <td>-/-</td>\n",
       "      <td>-/-</td>\n",
       "      <td>F/F</td>\n",
       "      <td>Zn- sensitive</td>\n",
       "      <td>Vacuolar function</td>\n",
       "      <td>Fusion of cvt-vesicles and autophagosomes with...</td>\n",
       "    </tr>\n",
       "    <tr>\n",
       "      <th>1</th>\n",
       "      <td>YKR001C</td>\n",
       "      <td>VPS1</td>\n",
       "      <td>S, M</td>\n",
       "      <td>-/-</td>\n",
       "      <td>-/-</td>\n",
       "      <td>F/F</td>\n",
       "      <td>F/F</td>\n",
       "      <td>Mn, Zn- sensitive</td>\n",
       "      <td>Vacuolar function</td>\n",
       "      <td>GTPase required for vacuolar protein sorting; ...</td>\n",
       "    </tr>\n",
       "    <tr>\n",
       "      <th>2</th>\n",
       "      <td>YDR495C</td>\n",
       "      <td>VPS3</td>\n",
       "      <td>S, M</td>\n",
       "      <td>-/-</td>\n",
       "      <td>-/-</td>\n",
       "      <td>-/-</td>\n",
       "      <td>P/F</td>\n",
       "      <td>Zn- sensitive</td>\n",
       "      <td>Vacuolar function</td>\n",
       "      <td>Protein targeting to vacuole; vacuolar acidifi...</td>\n",
       "    </tr>\n",
       "    <tr>\n",
       "      <th>3</th>\n",
       "      <td>YPL045W</td>\n",
       "      <td>VPS16</td>\n",
       "      <td>S, M</td>\n",
       "      <td>-/F</td>\n",
       "      <td>-/P</td>\n",
       "      <td>-/F</td>\n",
       "      <td>-/-</td>\n",
       "      <td>Mn- sensitive</td>\n",
       "      <td>Vacuolar function</td>\n",
       "      <td>Vacuole fusion and vacuolar protein sorting</td>\n",
       "    </tr>\n",
       "    <tr>\n",
       "      <th>4</th>\n",
       "      <td>YGL095C</td>\n",
       "      <td>VPS45</td>\n",
       "      <td>S, M</td>\n",
       "      <td>-/-</td>\n",
       "      <td>-/-</td>\n",
       "      <td>-/-</td>\n",
       "      <td>P/F</td>\n",
       "      <td>Fe, Zn- sensitive</td>\n",
       "      <td>Vacuolar function</td>\n",
       "      <td>Protein of the Sec1p /Munc-18 family; essentia...</td>\n",
       "    </tr>\n",
       "  </tbody>\n",
       "</table>\n",
       "</div>"
      ],
      "text/plain": [
       "       ORF Gene name Sensitivity to EDTA Rescued by Cu (50uM/200uM)  \\\n",
       "0  YGL124C      MON1                S, M                        -/-   \n",
       "1  YKR001C      VPS1                S, M                        -/-   \n",
       "2  YDR495C      VPS3                S, M                        -/-   \n",
       "3  YPL045W     VPS16                S, M                        -/F   \n",
       "4  YGL095C     VPS45                S, M                        -/-   \n",
       "\n",
       "  Rescued by Fe (50uM/200uM) Rescued by Mn (50uM/200uM)  \\\n",
       "0                        -/-                        -/-   \n",
       "1                        -/-                        F/F   \n",
       "2                        -/-                        -/-   \n",
       "3                        -/P                        -/F   \n",
       "4                        -/-                        -/-   \n",
       "\n",
       "  Rescued by Zn (50uM/200uM)   Other phenotypes Functional categories  \\\n",
       "0                       F/F      Zn- sensitive      Vacuolar function   \n",
       "1                        F/F  Mn, Zn- sensitive     Vacuolar function   \n",
       "2                        P/F      Zn- sensitive     Vacuolar function   \n",
       "3                        -/-      Mn- sensitive     Vacuolar function   \n",
       "4                        P/F  Fe, Zn- sensitive     Vacuolar function   \n",
       "\n",
       "                        Possible  biological process  \n",
       "0  Fusion of cvt-vesicles and autophagosomes with...  \n",
       "1  GTPase required for vacuolar protein sorting; ...  \n",
       "2  Protein targeting to vacuole; vacuolar acidifi...  \n",
       "3        Vacuole fusion and vacuolar protein sorting  \n",
       "4  Protein of the Sec1p /Munc-18 family; essentia...  "
      ]
     },
     "execution_count": 55,
     "metadata": {},
     "output_type": "execute_result"
    }
   ],
   "source": [
    "original_data.head()"
   ]
  },
  {
   "cell_type": "code",
   "execution_count": 56,
   "metadata": {},
   "outputs": [],
   "source": [
    "original_data['orf'] = original_data['ORF'].astype(str)"
   ]
  },
  {
   "cell_type": "code",
   "execution_count": 57,
   "metadata": {},
   "outputs": [],
   "source": [
    "# Eliminate all white spaces & capitalize\n",
    "original_data['orf'] = clean_orf(original_data['orf'])"
   ]
  },
  {
   "cell_type": "code",
   "execution_count": 58,
   "metadata": {},
   "outputs": [],
   "source": [
    "# Translate to ORFs \n",
    "original_data['orf'] = translate_sc(original_data['orf'], to='orf')"
   ]
  },
  {
   "cell_type": "code",
   "execution_count": 59,
   "metadata": {},
   "outputs": [
    {
     "name": "stdout",
     "output_type": "stream",
     "text": [
      "Empty DataFrame\n",
      "Columns: [ORF, Gene name, Sensitivity to EDTA, Rescued by Cu (50uM/200uM), Rescued by Fe (50uM/200uM), Rescued by Mn (50uM/200uM), Rescued by Zn (50uM/200uM), Other phenotypes, Functional categories, Possible  biological process, orf]\n",
      "Index: []\n"
     ]
    }
   ],
   "source": [
    "# Make sure everything translated ok\n",
    "t = looks_like_orf(original_data['orf'])\n",
    "print(original_data.loc[~t,])"
   ]
  },
  {
   "cell_type": "code",
   "execution_count": 60,
   "metadata": {},
   "outputs": [],
   "source": [
    "data_switch = {'S': -1, 'S, M': -1, 'HS': -2, 'HS, M': -2}\n",
    "original_data['data'] = original_data['Sensitivity to EDTA'].apply(lambda x: data_switch[x])"
   ]
  },
  {
   "cell_type": "code",
   "execution_count": 61,
   "metadata": {},
   "outputs": [],
   "source": [
    "original_data.set_index('orf', inplace=True)"
   ]
  },
  {
   "cell_type": "code",
   "execution_count": 62,
   "metadata": {},
   "outputs": [],
   "source": [
    "original_data = original_data[['data']].copy()"
   ]
  },
  {
   "cell_type": "code",
   "execution_count": 63,
   "metadata": {},
   "outputs": [],
   "source": [
    "original_data = original_data.groupby(original_data.index).mean()"
   ]
  },
  {
   "cell_type": "code",
   "execution_count": 64,
   "metadata": {},
   "outputs": [
    {
     "data": {
      "text/plain": [
       "(28, 1)"
      ]
     },
     "execution_count": 64,
     "metadata": {},
     "output_type": "execute_result"
    }
   ],
   "source": [
    "original_data.shape"
   ]
  },
  {
   "cell_type": "markdown",
   "metadata": {},
   "source": [
    "# Load data (2)"
   ]
  },
  {
   "cell_type": "code",
   "execution_count": 65,
   "metadata": {},
   "outputs": [
    {
     "data": {
      "text/html": [
       "<div>\n",
       "<style scoped>\n",
       "    .dataframe tbody tr th:only-of-type {\n",
       "        vertical-align: middle;\n",
       "    }\n",
       "\n",
       "    .dataframe tbody tr th {\n",
       "        vertical-align: top;\n",
       "    }\n",
       "\n",
       "    .dataframe thead th {\n",
       "        text-align: right;\n",
       "    }\n",
       "</style>\n",
       "<table border=\"1\" class=\"dataframe\">\n",
       "  <thead>\n",
       "    <tr style=\"text-align: right;\">\n",
       "      <th></th>\n",
       "      <th>ORF</th>\n",
       "      <th>Gene name</th>\n",
       "      <th>Senitivity to Cu</th>\n",
       "      <th>Senitivity to Fe</th>\n",
       "      <th>Senitivity to Mn</th>\n",
       "      <th>Senitivity to Zn</th>\n",
       "      <th>Other phenotypes</th>\n",
       "      <th>Functional categories</th>\n",
       "      <th>Possible  biological process</th>\n",
       "    </tr>\n",
       "  </thead>\n",
       "  <tbody>\n",
       "    <tr>\n",
       "      <th>0</th>\n",
       "      <td>YKR001C</td>\n",
       "      <td>VPS1</td>\n",
       "      <td>－</td>\n",
       "      <td>－</td>\n",
       "      <td>S, M</td>\n",
       "      <td>S, M</td>\n",
       "      <td>EDTA-sensitive (rescued by Mn, Zn)</td>\n",
       "      <td>Vacuolar function</td>\n",
       "      <td>GTPase required for vacuolar protein sorting; ...</td>\n",
       "    </tr>\n",
       "    <tr>\n",
       "      <th>1</th>\n",
       "      <td>YDR495C</td>\n",
       "      <td>VPS3</td>\n",
       "      <td>－</td>\n",
       "      <td>－</td>\n",
       "      <td>－</td>\n",
       "      <td>HS, M</td>\n",
       "      <td>EDTA-sensitive (rescued by Zn)</td>\n",
       "      <td>Vacuolar function</td>\n",
       "      <td>Protein targeting to vacuole; vacuolar acidifi...</td>\n",
       "    </tr>\n",
       "    <tr>\n",
       "      <th>2</th>\n",
       "      <td>YPR173C</td>\n",
       "      <td>VPS4</td>\n",
       "      <td>－</td>\n",
       "      <td>S, M</td>\n",
       "      <td>S, M</td>\n",
       "      <td>HS, M</td>\n",
       "      <td>NaN</td>\n",
       "      <td>Vacuolar function</td>\n",
       "      <td>AAA-type ATPase; late endosome to vacuole tran...</td>\n",
       "    </tr>\n",
       "    <tr>\n",
       "      <th>3</th>\n",
       "      <td>YGL095C</td>\n",
       "      <td>VPS45</td>\n",
       "      <td>－</td>\n",
       "      <td>S, M</td>\n",
       "      <td>－</td>\n",
       "      <td>HS</td>\n",
       "      <td>EDTA-sensitive (rescued by Zn)</td>\n",
       "      <td>Vacuolar function</td>\n",
       "      <td>Protein of the Sec1p /Munc-18 family; essentia...</td>\n",
       "    </tr>\n",
       "    <tr>\n",
       "      <th>4</th>\n",
       "      <td>YGL124C</td>\n",
       "      <td>MON1</td>\n",
       "      <td>－</td>\n",
       "      <td>－</td>\n",
       "      <td>－</td>\n",
       "      <td>HS,M</td>\n",
       "      <td>EDTA-sensitive (rescued by Zn)</td>\n",
       "      <td>Vacuolar function</td>\n",
       "      <td>Fusion of cvt-vesicles and autophagosomes with...</td>\n",
       "    </tr>\n",
       "  </tbody>\n",
       "</table>\n",
       "</div>"
      ],
      "text/plain": [
       "       ORF Gene name Senitivity to Cu Senitivity to Fe Senitivity to Mn  \\\n",
       "0  YKR001C      VPS1                －                －             S, M   \n",
       "1  YDR495C      VPS3                －                －                －   \n",
       "2  YPR173C      VPS4                －             S, M             S, M   \n",
       "3  YGL095C     VPS45                －             S, M                －   \n",
       "4  YGL124C      MON1                －                －                －   \n",
       "\n",
       "  Senitivity to Zn                    Other phenotypes Functional categories  \\\n",
       "0             S, M  EDTA-sensitive (rescued by Mn, Zn)     Vacuolar function   \n",
       "1            HS, M      EDTA-sensitive (rescued by Zn)     Vacuolar function   \n",
       "2            HS, M                                 NaN     Vacuolar function   \n",
       "3               HS      EDTA-sensitive (rescued by Zn)     Vacuolar function   \n",
       "4             HS,M      EDTA-sensitive (rescued by Zn)     Vacuolar function   \n",
       "\n",
       "                        Possible  biological process  \n",
       "0  GTPase required for vacuolar protein sorting; ...  \n",
       "1  Protein targeting to vacuole; vacuolar acidifi...  \n",
       "2  AAA-type ATPase; late endosome to vacuole tran...  \n",
       "3  Protein of the Sec1p /Munc-18 family; essentia...  \n",
       "4  Fusion of cvt-vesicles and autophagosomes with...  "
      ]
     },
     "execution_count": 65,
     "metadata": {},
     "output_type": "execute_result"
    }
   ],
   "source": [
    "original_data2 = pd.read_excel('raw_data/mutants sensitive to metal excess.xlsx', sheet_name='Sheet1')\n",
    "original_data2.head()"
   ]
  },
  {
   "cell_type": "code",
   "execution_count": 66,
   "metadata": {},
   "outputs": [],
   "source": [
    "original_data2['orf'] = original_data2['ORF'].astype(str)"
   ]
  },
  {
   "cell_type": "code",
   "execution_count": 67,
   "metadata": {},
   "outputs": [],
   "source": [
    "original_data2['orf'] = clean_orf(original_data2['orf'])"
   ]
  },
  {
   "cell_type": "code",
   "execution_count": 68,
   "metadata": {},
   "outputs": [],
   "source": [
    "original_data2['orf'] = translate_sc(original_data2['orf'], to='orf')"
   ]
  },
  {
   "cell_type": "code",
   "execution_count": 69,
   "metadata": {},
   "outputs": [
    {
     "name": "stdout",
     "output_type": "stream",
     "text": [
      "Empty DataFrame\n",
      "Columns: [ORF, Gene name, Senitivity to Cu, Senitivity to Fe, Senitivity to Mn, Senitivity to Zn, Other phenotypes, Functional categories, Possible  biological process, orf]\n",
      "Index: []\n"
     ]
    }
   ],
   "source": [
    "# Make sure everything translated ok\n",
    "t = looks_like_orf(original_data2['orf'])\n",
    "print(original_data2.loc[~t,])"
   ]
  },
  {
   "cell_type": "code",
   "execution_count": 70,
   "metadata": {},
   "outputs": [],
   "source": [
    "original_data2.set_index('orf', inplace=True)"
   ]
  },
  {
   "cell_type": "code",
   "execution_count": 71,
   "metadata": {},
   "outputs": [],
   "source": [
    "original_data2 = original_data2[['Senitivity to Cu','Senitivity to Fe','Senitivity to Mn','Senitivity to Zn']].copy()"
   ]
  },
  {
   "cell_type": "code",
   "execution_count": 72,
   "metadata": {},
   "outputs": [],
   "source": [
    "data_switch = {'－': 0, 'S': -1, 'S, M': -1, 'HS': -2, 'HS, M': -2, 'HS,M': -2}\n",
    "for c in original_data2.columns:\n",
    "    original_data2[c] = original_data2[c].apply(lambda x: data_switch[x])"
   ]
  },
  {
   "cell_type": "code",
   "execution_count": 73,
   "metadata": {},
   "outputs": [],
   "source": [
    "original_data2 = original_data2.groupby(original_data2.index).mean()"
   ]
  },
  {
   "cell_type": "code",
   "execution_count": 74,
   "metadata": {},
   "outputs": [
    {
     "data": {
      "text/plain": [
       "(31, 4)"
      ]
     },
     "execution_count": 74,
     "metadata": {},
     "output_type": "execute_result"
    }
   ],
   "source": [
    "original_data2.shape"
   ]
  },
  {
   "cell_type": "code",
   "execution_count": 75,
   "metadata": {},
   "outputs": [
    {
     "data": {
      "text/html": [
       "<div>\n",
       "<style scoped>\n",
       "    .dataframe tbody tr th:only-of-type {\n",
       "        vertical-align: middle;\n",
       "    }\n",
       "\n",
       "    .dataframe tbody tr th {\n",
       "        vertical-align: top;\n",
       "    }\n",
       "\n",
       "    .dataframe thead th {\n",
       "        text-align: right;\n",
       "    }\n",
       "</style>\n",
       "<table border=\"1\" class=\"dataframe\">\n",
       "  <thead>\n",
       "    <tr style=\"text-align: right;\">\n",
       "      <th></th>\n",
       "      <th>Senitivity to Cu</th>\n",
       "      <th>Senitivity to Fe</th>\n",
       "      <th>Senitivity to Mn</th>\n",
       "      <th>Senitivity to Zn</th>\n",
       "    </tr>\n",
       "    <tr>\n",
       "      <th>orf</th>\n",
       "      <th></th>\n",
       "      <th></th>\n",
       "      <th></th>\n",
       "      <th></th>\n",
       "    </tr>\n",
       "  </thead>\n",
       "  <tbody>\n",
       "    <tr>\n",
       "      <th>YAL009W</th>\n",
       "      <td>0</td>\n",
       "      <td>0</td>\n",
       "      <td>-1</td>\n",
       "      <td>-1</td>\n",
       "    </tr>\n",
       "    <tr>\n",
       "      <th>YBR036C</th>\n",
       "      <td>0</td>\n",
       "      <td>0</td>\n",
       "      <td>-2</td>\n",
       "      <td>0</td>\n",
       "    </tr>\n",
       "    <tr>\n",
       "      <th>YBR145W</th>\n",
       "      <td>0</td>\n",
       "      <td>-1</td>\n",
       "      <td>0</td>\n",
       "      <td>0</td>\n",
       "    </tr>\n",
       "    <tr>\n",
       "      <th>YDL006W</th>\n",
       "      <td>-2</td>\n",
       "      <td>0</td>\n",
       "      <td>-2</td>\n",
       "      <td>-2</td>\n",
       "    </tr>\n",
       "    <tr>\n",
       "      <th>YDL047W</th>\n",
       "      <td>0</td>\n",
       "      <td>-1</td>\n",
       "      <td>0</td>\n",
       "      <td>0</td>\n",
       "    </tr>\n",
       "  </tbody>\n",
       "</table>\n",
       "</div>"
      ],
      "text/plain": [
       "         Senitivity to Cu  Senitivity to Fe  Senitivity to Mn  \\\n",
       "orf                                                             \n",
       "YAL009W                 0                 0                -1   \n",
       "YBR036C                 0                 0                -2   \n",
       "YBR145W                 0                -1                 0   \n",
       "YDL006W                -2                 0                -2   \n",
       "YDL047W                 0                -1                 0   \n",
       "\n",
       "         Senitivity to Zn  \n",
       "orf                        \n",
       "YAL009W                -1  \n",
       "YBR036C                 0  \n",
       "YBR145W                 0  \n",
       "YDL006W                -2  \n",
       "YDL047W                 0  "
      ]
     },
     "execution_count": 75,
     "metadata": {},
     "output_type": "execute_result"
    }
   ],
   "source": [
    "original_data2.head()"
   ]
  },
  {
   "cell_type": "markdown",
   "metadata": {},
   "source": [
    "# Merge"
   ]
  },
  {
   "cell_type": "code",
   "execution_count": 76,
   "metadata": {},
   "outputs": [],
   "source": [
    "original_data = original_data.join(original_data2, how='outer')"
   ]
  },
  {
   "cell_type": "code",
   "execution_count": 77,
   "metadata": {},
   "outputs": [
    {
     "data": {
      "text/plain": [
       "(45, 5)"
      ]
     },
     "execution_count": 77,
     "metadata": {},
     "output_type": "execute_result"
    }
   ],
   "source": [
    "original_data.shape"
   ]
  },
  {
   "cell_type": "code",
   "execution_count": 78,
   "metadata": {},
   "outputs": [],
   "source": [
    "original_data[original_data.isnull()] = 0"
   ]
  },
  {
   "cell_type": "code",
   "execution_count": 79,
   "metadata": {},
   "outputs": [
    {
     "data": {
      "text/html": [
       "<div>\n",
       "<style scoped>\n",
       "    .dataframe tbody tr th:only-of-type {\n",
       "        vertical-align: middle;\n",
       "    }\n",
       "\n",
       "    .dataframe tbody tr th {\n",
       "        vertical-align: top;\n",
       "    }\n",
       "\n",
       "    .dataframe thead th {\n",
       "        text-align: right;\n",
       "    }\n",
       "</style>\n",
       "<table border=\"1\" class=\"dataframe\">\n",
       "  <thead>\n",
       "    <tr style=\"text-align: right;\">\n",
       "      <th></th>\n",
       "      <th>data</th>\n",
       "      <th>Senitivity to Cu</th>\n",
       "      <th>Senitivity to Fe</th>\n",
       "      <th>Senitivity to Mn</th>\n",
       "      <th>Senitivity to Zn</th>\n",
       "    </tr>\n",
       "    <tr>\n",
       "      <th>orf</th>\n",
       "      <th></th>\n",
       "      <th></th>\n",
       "      <th></th>\n",
       "      <th></th>\n",
       "      <th></th>\n",
       "    </tr>\n",
       "  </thead>\n",
       "  <tbody>\n",
       "    <tr>\n",
       "      <th>YAL009W</th>\n",
       "      <td>-1.0</td>\n",
       "      <td>0.0</td>\n",
       "      <td>0.0</td>\n",
       "      <td>-1.0</td>\n",
       "      <td>-1.0</td>\n",
       "    </tr>\n",
       "    <tr>\n",
       "      <th>YBR036C</th>\n",
       "      <td>0.0</td>\n",
       "      <td>0.0</td>\n",
       "      <td>0.0</td>\n",
       "      <td>-2.0</td>\n",
       "      <td>0.0</td>\n",
       "    </tr>\n",
       "    <tr>\n",
       "      <th>YBR145W</th>\n",
       "      <td>0.0</td>\n",
       "      <td>0.0</td>\n",
       "      <td>-1.0</td>\n",
       "      <td>0.0</td>\n",
       "      <td>0.0</td>\n",
       "    </tr>\n",
       "    <tr>\n",
       "      <th>YCR084C</th>\n",
       "      <td>-2.0</td>\n",
       "      <td>0.0</td>\n",
       "      <td>0.0</td>\n",
       "      <td>0.0</td>\n",
       "      <td>0.0</td>\n",
       "    </tr>\n",
       "    <tr>\n",
       "      <th>YDL006W</th>\n",
       "      <td>-2.0</td>\n",
       "      <td>-2.0</td>\n",
       "      <td>0.0</td>\n",
       "      <td>-2.0</td>\n",
       "      <td>-2.0</td>\n",
       "    </tr>\n",
       "  </tbody>\n",
       "</table>\n",
       "</div>"
      ],
      "text/plain": [
       "         data  Senitivity to Cu  Senitivity to Fe  Senitivity to Mn  \\\n",
       "orf                                                                   \n",
       "YAL009W  -1.0               0.0               0.0              -1.0   \n",
       "YBR036C   0.0               0.0               0.0              -2.0   \n",
       "YBR145W   0.0               0.0              -1.0               0.0   \n",
       "YCR084C  -2.0               0.0               0.0               0.0   \n",
       "YDL006W  -2.0              -2.0               0.0              -2.0   \n",
       "\n",
       "         Senitivity to Zn  \n",
       "orf                        \n",
       "YAL009W              -1.0  \n",
       "YBR036C               0.0  \n",
       "YBR145W               0.0  \n",
       "YCR084C               0.0  \n",
       "YDL006W              -2.0  "
      ]
     },
     "execution_count": 79,
     "metadata": {},
     "output_type": "execute_result"
    }
   ],
   "source": [
    "original_data.head()"
   ]
  },
  {
   "cell_type": "markdown",
   "metadata": {},
   "source": [
    "# Prepare the final dataset"
   ]
  },
  {
   "cell_type": "code",
   "execution_count": 80,
   "metadata": {},
   "outputs": [],
   "source": [
    "data = original_data.copy()"
   ]
  },
  {
   "cell_type": "code",
   "execution_count": 81,
   "metadata": {},
   "outputs": [],
   "source": [
    "dataset_ids = [5246, 5247, 5248, 5249, 5250]\n",
    "datasets = datasets.reindex(index=dataset_ids)"
   ]
  },
  {
   "cell_type": "code",
   "execution_count": 82,
   "metadata": {},
   "outputs": [],
   "source": [
    "lst = [datasets.index.values, ['value']*datasets.shape[0]]\n",
    "tuples = list(zip(*lst))\n",
    "idx = pd.MultiIndex.from_tuples(tuples, names=['dataset_id','data_type'])\n",
    "data.columns = idx"
   ]
  },
  {
   "cell_type": "code",
   "execution_count": 83,
   "metadata": {},
   "outputs": [
    {
     "data": {
      "text/html": [
       "<div>\n",
       "<style scoped>\n",
       "    .dataframe tbody tr th:only-of-type {\n",
       "        vertical-align: middle;\n",
       "    }\n",
       "\n",
       "    .dataframe tbody tr th {\n",
       "        vertical-align: top;\n",
       "    }\n",
       "\n",
       "    .dataframe thead tr th {\n",
       "        text-align: left;\n",
       "    }\n",
       "\n",
       "    .dataframe thead tr:last-of-type th {\n",
       "        text-align: right;\n",
       "    }\n",
       "</style>\n",
       "<table border=\"1\" class=\"dataframe\">\n",
       "  <thead>\n",
       "    <tr>\n",
       "      <th>dataset_id</th>\n",
       "      <th>5246</th>\n",
       "      <th>5247</th>\n",
       "      <th>5248</th>\n",
       "      <th>5249</th>\n",
       "      <th>5250</th>\n",
       "    </tr>\n",
       "    <tr>\n",
       "      <th>data_type</th>\n",
       "      <th>value</th>\n",
       "      <th>value</th>\n",
       "      <th>value</th>\n",
       "      <th>value</th>\n",
       "      <th>value</th>\n",
       "    </tr>\n",
       "    <tr>\n",
       "      <th>orf</th>\n",
       "      <th></th>\n",
       "      <th></th>\n",
       "      <th></th>\n",
       "      <th></th>\n",
       "      <th></th>\n",
       "    </tr>\n",
       "  </thead>\n",
       "  <tbody>\n",
       "    <tr>\n",
       "      <th>YAL009W</th>\n",
       "      <td>-1.0</td>\n",
       "      <td>0.0</td>\n",
       "      <td>0.0</td>\n",
       "      <td>-1.0</td>\n",
       "      <td>-1.0</td>\n",
       "    </tr>\n",
       "    <tr>\n",
       "      <th>YBR036C</th>\n",
       "      <td>0.0</td>\n",
       "      <td>0.0</td>\n",
       "      <td>0.0</td>\n",
       "      <td>-2.0</td>\n",
       "      <td>0.0</td>\n",
       "    </tr>\n",
       "    <tr>\n",
       "      <th>YBR145W</th>\n",
       "      <td>0.0</td>\n",
       "      <td>0.0</td>\n",
       "      <td>-1.0</td>\n",
       "      <td>0.0</td>\n",
       "      <td>0.0</td>\n",
       "    </tr>\n",
       "    <tr>\n",
       "      <th>YCR084C</th>\n",
       "      <td>-2.0</td>\n",
       "      <td>0.0</td>\n",
       "      <td>0.0</td>\n",
       "      <td>0.0</td>\n",
       "      <td>0.0</td>\n",
       "    </tr>\n",
       "    <tr>\n",
       "      <th>YDL006W</th>\n",
       "      <td>-2.0</td>\n",
       "      <td>-2.0</td>\n",
       "      <td>0.0</td>\n",
       "      <td>-2.0</td>\n",
       "      <td>-2.0</td>\n",
       "    </tr>\n",
       "  </tbody>\n",
       "</table>\n",
       "</div>"
      ],
      "text/plain": [
       "dataset_id  5246  5247  5248  5249  5250\n",
       "data_type  value value value value value\n",
       "orf                                     \n",
       "YAL009W     -1.0   0.0   0.0  -1.0  -1.0\n",
       "YBR036C      0.0   0.0   0.0  -2.0   0.0\n",
       "YBR145W      0.0   0.0  -1.0   0.0   0.0\n",
       "YCR084C     -2.0   0.0   0.0   0.0   0.0\n",
       "YDL006W     -2.0  -2.0   0.0  -2.0  -2.0"
      ]
     },
     "execution_count": 83,
     "metadata": {},
     "output_type": "execute_result"
    }
   ],
   "source": [
    "data.head()"
   ]
  },
  {
   "cell_type": "markdown",
   "metadata": {},
   "source": [
    "## Subset to the genes currently in SGD"
   ]
  },
  {
   "cell_type": "code",
   "execution_count": 84,
   "metadata": {},
   "outputs": [
    {
     "name": "stdout",
     "output_type": "stream",
     "text": [
      "ORFs missing from SGD: 0\n"
     ]
    }
   ],
   "source": [
    "genes = pd.read_csv(path_to_genes, sep='\\t', index_col='id')\n",
    "genes = genes.reset_index().set_index('systematic_name')\n",
    "gene_ids = genes.reindex(index=data.index.values)['id'].values\n",
    "num_missing = np.sum(np.isnan(gene_ids))\n",
    "print('ORFs missing from SGD: %d' % num_missing)"
   ]
  },
  {
   "cell_type": "code",
   "execution_count": 85,
   "metadata": {},
   "outputs": [
    {
     "data": {
      "text/html": [
       "<div>\n",
       "<style scoped>\n",
       "    .dataframe tbody tr th:only-of-type {\n",
       "        vertical-align: middle;\n",
       "    }\n",
       "\n",
       "    .dataframe tbody tr th {\n",
       "        vertical-align: top;\n",
       "    }\n",
       "\n",
       "    .dataframe thead tr th {\n",
       "        text-align: left;\n",
       "    }\n",
       "\n",
       "    .dataframe thead tr:last-of-type th {\n",
       "        text-align: right;\n",
       "    }\n",
       "</style>\n",
       "<table border=\"1\" class=\"dataframe\">\n",
       "  <thead>\n",
       "    <tr>\n",
       "      <th></th>\n",
       "      <th>dataset_id</th>\n",
       "      <th>5246</th>\n",
       "      <th>5247</th>\n",
       "      <th>5248</th>\n",
       "      <th>5249</th>\n",
       "      <th>5250</th>\n",
       "    </tr>\n",
       "    <tr>\n",
       "      <th></th>\n",
       "      <th>data_type</th>\n",
       "      <th>value</th>\n",
       "      <th>value</th>\n",
       "      <th>value</th>\n",
       "      <th>value</th>\n",
       "      <th>value</th>\n",
       "    </tr>\n",
       "    <tr>\n",
       "      <th>gene_id</th>\n",
       "      <th>orf</th>\n",
       "      <th></th>\n",
       "      <th></th>\n",
       "      <th></th>\n",
       "      <th></th>\n",
       "      <th></th>\n",
       "    </tr>\n",
       "  </thead>\n",
       "  <tbody>\n",
       "    <tr>\n",
       "      <th>7</th>\n",
       "      <th>YAL009W</th>\n",
       "      <td>-1.0</td>\n",
       "      <td>0.0</td>\n",
       "      <td>0.0</td>\n",
       "      <td>-1.0</td>\n",
       "      <td>-1.0</td>\n",
       "    </tr>\n",
       "    <tr>\n",
       "      <th>232</th>\n",
       "      <th>YBR036C</th>\n",
       "      <td>0.0</td>\n",
       "      <td>0.0</td>\n",
       "      <td>0.0</td>\n",
       "      <td>-2.0</td>\n",
       "      <td>0.0</td>\n",
       "    </tr>\n",
       "    <tr>\n",
       "      <th>339</th>\n",
       "      <th>YBR145W</th>\n",
       "      <td>0.0</td>\n",
       "      <td>0.0</td>\n",
       "      <td>-1.0</td>\n",
       "      <td>0.0</td>\n",
       "      <td>0.0</td>\n",
       "    </tr>\n",
       "    <tr>\n",
       "      <th>632</th>\n",
       "      <th>YCR084C</th>\n",
       "      <td>-2.0</td>\n",
       "      <td>0.0</td>\n",
       "      <td>0.0</td>\n",
       "      <td>0.0</td>\n",
       "      <td>0.0</td>\n",
       "    </tr>\n",
       "    <tr>\n",
       "      <th>1885</th>\n",
       "      <th>YDL006W</th>\n",
       "      <td>-2.0</td>\n",
       "      <td>-2.0</td>\n",
       "      <td>0.0</td>\n",
       "      <td>-2.0</td>\n",
       "      <td>-2.0</td>\n",
       "    </tr>\n",
       "  </tbody>\n",
       "</table>\n",
       "</div>"
      ],
      "text/plain": [
       "dataset_id       5246  5247  5248  5249  5250\n",
       "data_type       value value value value value\n",
       "gene_id orf                                  \n",
       "7       YAL009W  -1.0   0.0   0.0  -1.0  -1.0\n",
       "232     YBR036C   0.0   0.0   0.0  -2.0   0.0\n",
       "339     YBR145W   0.0   0.0  -1.0   0.0   0.0\n",
       "632     YCR084C  -2.0   0.0   0.0   0.0   0.0\n",
       "1885    YDL006W  -2.0  -2.0   0.0  -2.0  -2.0"
      ]
     },
     "execution_count": 85,
     "metadata": {},
     "output_type": "execute_result"
    }
   ],
   "source": [
    "data['gene_id'] = gene_ids\n",
    "data = data.loc[data['gene_id'].notnull()]\n",
    "data['gene_id'] = data['gene_id'].astype(int)\n",
    "data = data.reset_index().set_index(['gene_id','orf'])\n",
    "\n",
    "data.head()"
   ]
  },
  {
   "cell_type": "markdown",
   "metadata": {},
   "source": [
    "# Normalize"
   ]
  },
  {
   "cell_type": "code",
   "execution_count": 86,
   "metadata": {},
   "outputs": [],
   "source": [
    "data_norm = normalize_phenotypic_scores(data, has_tested=False)"
   ]
  },
  {
   "cell_type": "code",
   "execution_count": 87,
   "metadata": {},
   "outputs": [],
   "source": [
    "# Assign proper column names\n",
    "lst = [datasets.index.values, ['valuez']*datasets.shape[0]]\n",
    "tuples = list(zip(*lst))\n",
    "idx = pd.MultiIndex.from_tuples(tuples, names=['dataset_id','data_type'])\n",
    "data_norm.columns = idx"
   ]
  },
  {
   "cell_type": "code",
   "execution_count": 88,
   "metadata": {},
   "outputs": [
    {
     "data": {
      "text/html": [
       "<div>\n",
       "<style scoped>\n",
       "    .dataframe tbody tr th:only-of-type {\n",
       "        vertical-align: middle;\n",
       "    }\n",
       "\n",
       "    .dataframe tbody tr th {\n",
       "        vertical-align: top;\n",
       "    }\n",
       "\n",
       "    .dataframe thead tr th {\n",
       "        text-align: left;\n",
       "    }\n",
       "\n",
       "    .dataframe thead tr:last-of-type th {\n",
       "        text-align: right;\n",
       "    }\n",
       "</style>\n",
       "<table border=\"1\" class=\"dataframe\">\n",
       "  <thead>\n",
       "    <tr>\n",
       "      <th></th>\n",
       "      <th>dataset_id</th>\n",
       "      <th>5246</th>\n",
       "      <th>5247</th>\n",
       "      <th>5248</th>\n",
       "      <th>5249</th>\n",
       "      <th>5250</th>\n",
       "      <th>5246</th>\n",
       "      <th>5247</th>\n",
       "      <th>5248</th>\n",
       "      <th>5249</th>\n",
       "      <th>5250</th>\n",
       "    </tr>\n",
       "    <tr>\n",
       "      <th></th>\n",
       "      <th>data_type</th>\n",
       "      <th>value</th>\n",
       "      <th>value</th>\n",
       "      <th>value</th>\n",
       "      <th>value</th>\n",
       "      <th>value</th>\n",
       "      <th>valuez</th>\n",
       "      <th>valuez</th>\n",
       "      <th>valuez</th>\n",
       "      <th>valuez</th>\n",
       "      <th>valuez</th>\n",
       "    </tr>\n",
       "    <tr>\n",
       "      <th>gene_id</th>\n",
       "      <th>orf</th>\n",
       "      <th></th>\n",
       "      <th></th>\n",
       "      <th></th>\n",
       "      <th></th>\n",
       "      <th></th>\n",
       "      <th></th>\n",
       "      <th></th>\n",
       "      <th></th>\n",
       "      <th></th>\n",
       "      <th></th>\n",
       "    </tr>\n",
       "  </thead>\n",
       "  <tbody>\n",
       "    <tr>\n",
       "      <th>7</th>\n",
       "      <th>YAL009W</th>\n",
       "      <td>-1.0</td>\n",
       "      <td>0.0</td>\n",
       "      <td>0.0</td>\n",
       "      <td>-1.0</td>\n",
       "      <td>-1.0</td>\n",
       "      <td>-8.861968</td>\n",
       "      <td>0.000000</td>\n",
       "      <td>0.000000</td>\n",
       "      <td>-10.671223</td>\n",
       "      <td>-9.018830</td>\n",
       "    </tr>\n",
       "    <tr>\n",
       "      <th>232</th>\n",
       "      <th>YBR036C</th>\n",
       "      <td>0.0</td>\n",
       "      <td>0.0</td>\n",
       "      <td>0.0</td>\n",
       "      <td>-2.0</td>\n",
       "      <td>0.0</td>\n",
       "      <td>0.000000</td>\n",
       "      <td>0.000000</td>\n",
       "      <td>0.000000</td>\n",
       "      <td>-21.342446</td>\n",
       "      <td>0.000000</td>\n",
       "    </tr>\n",
       "    <tr>\n",
       "      <th>339</th>\n",
       "      <th>YBR145W</th>\n",
       "      <td>0.0</td>\n",
       "      <td>0.0</td>\n",
       "      <td>-1.0</td>\n",
       "      <td>0.0</td>\n",
       "      <td>0.0</td>\n",
       "      <td>0.000000</td>\n",
       "      <td>0.000000</td>\n",
       "      <td>-22.496913</td>\n",
       "      <td>0.000000</td>\n",
       "      <td>0.000000</td>\n",
       "    </tr>\n",
       "    <tr>\n",
       "      <th>632</th>\n",
       "      <th>YCR084C</th>\n",
       "      <td>-2.0</td>\n",
       "      <td>0.0</td>\n",
       "      <td>0.0</td>\n",
       "      <td>0.0</td>\n",
       "      <td>0.0</td>\n",
       "      <td>-17.723937</td>\n",
       "      <td>0.000000</td>\n",
       "      <td>0.000000</td>\n",
       "      <td>0.000000</td>\n",
       "      <td>0.000000</td>\n",
       "    </tr>\n",
       "    <tr>\n",
       "      <th>1885</th>\n",
       "      <th>YDL006W</th>\n",
       "      <td>-2.0</td>\n",
       "      <td>-2.0</td>\n",
       "      <td>0.0</td>\n",
       "      <td>-2.0</td>\n",
       "      <td>-2.0</td>\n",
       "      <td>-17.723937</td>\n",
       "      <td>-42.684892</td>\n",
       "      <td>0.000000</td>\n",
       "      <td>-21.342446</td>\n",
       "      <td>-18.037659</td>\n",
       "    </tr>\n",
       "  </tbody>\n",
       "</table>\n",
       "</div>"
      ],
      "text/plain": [
       "dataset_id       5246  5247  5248  5249  5250       5246       5247  \\\n",
       "data_type       value value value value value     valuez     valuez   \n",
       "gene_id orf                                                           \n",
       "7       YAL009W  -1.0   0.0   0.0  -1.0  -1.0  -8.861968   0.000000   \n",
       "232     YBR036C   0.0   0.0   0.0  -2.0   0.0   0.000000   0.000000   \n",
       "339     YBR145W   0.0   0.0  -1.0   0.0   0.0   0.000000   0.000000   \n",
       "632     YCR084C  -2.0   0.0   0.0   0.0   0.0 -17.723937   0.000000   \n",
       "1885    YDL006W  -2.0  -2.0   0.0  -2.0  -2.0 -17.723937 -42.684892   \n",
       "\n",
       "dataset_id            5248       5249       5250  \n",
       "data_type           valuez     valuez     valuez  \n",
       "gene_id orf                                       \n",
       "7       YAL009W   0.000000 -10.671223  -9.018830  \n",
       "232     YBR036C   0.000000 -21.342446   0.000000  \n",
       "339     YBR145W -22.496913   0.000000   0.000000  \n",
       "632     YCR084C   0.000000   0.000000   0.000000  \n",
       "1885    YDL006W   0.000000 -21.342446 -18.037659  "
      ]
     },
     "execution_count": 88,
     "metadata": {},
     "output_type": "execute_result"
    }
   ],
   "source": [
    "data_norm[data.isnull()] = np.nan\n",
    "data_all = data.join(data_norm)\n",
    "\n",
    "data_all.head()"
   ]
  },
  {
   "cell_type": "markdown",
   "metadata": {},
   "source": [
    "# Print out"
   ]
  },
  {
   "cell_type": "code",
   "execution_count": 89,
   "metadata": {},
   "outputs": [],
   "source": [
    "for f in ['value','valuez']:\n",
    "    df = data_all.xs(f, level='data_type', axis=1).copy()\n",
    "    df.columns = datasets['name'].values\n",
    "    df = df.droplevel('gene_id', axis=0)\n",
    "    df.to_csv(paper_name + '_' + f + '.txt', sep='\\t')"
   ]
  },
  {
   "cell_type": "markdown",
   "metadata": {},
   "source": [
    "# Save to DB"
   ]
  },
  {
   "cell_type": "code",
   "execution_count": 90,
   "metadata": {},
   "outputs": [],
   "source": [
    "from IO.save_data_to_db3 import *"
   ]
  },
  {
   "cell_type": "code",
   "execution_count": 91,
   "metadata": {},
   "outputs": [
    {
     "name": "stderr",
     "output_type": "stream",
     "text": [
      "  0%|          | 0/5 [00:00<?, ?it/s]"
     ]
    },
    {
     "name": "stdout",
     "output_type": "stream",
     "text": [
      "Deleting all datasets for PMID 17308930...\n",
      "Inserting the new data...\n"
     ]
    },
    {
     "name": "stderr",
     "output_type": "stream",
     "text": [
      "100%|██████████| 5/5 [00:00<00:00,  7.86it/s]"
     ]
    },
    {
     "name": "stdout",
     "output_type": "stream",
     "text": [
      "Updating the data_modified_on field...\n"
     ]
    },
    {
     "name": "stderr",
     "output_type": "stream",
     "text": [
      "\n"
     ]
    }
   ],
   "source": [
    "save_data_to_db(data_all, paper_pmid)"
   ]
  },
  {
   "cell_type": "code",
   "execution_count": null,
   "metadata": {},
   "outputs": [],
   "source": []
  }
 ],
 "metadata": {
  "kernelspec": {
   "display_name": "yp-data",
   "language": "python",
   "name": "yp-data"
  },
  "language_info": {
   "codemirror_mode": {
    "name": "ipython",
    "version": 3
   },
   "file_extension": ".py",
   "mimetype": "text/x-python",
   "name": "python",
   "nbconvert_exporter": "python",
   "pygments_lexer": "ipython3",
   "version": "3.7.7"
  }
 },
 "nbformat": 4,
 "nbformat_minor": 4
}
