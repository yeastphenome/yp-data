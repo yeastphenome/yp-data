{
 "cells": [
  {
   "cell_type": "code",
   "execution_count": 1,
   "metadata": {},
   "outputs": [],
   "source": [
    "%run ../../Utils/yp_utils.py"
   ]
  },
  {
   "cell_type": "markdown",
   "metadata": {},
   "source": [
    "# Initial setup"
   ]
  },
  {
   "cell_type": "code",
   "execution_count": 2,
   "metadata": {},
   "outputs": [],
   "source": [
    "paper_pmid = 11606770\n",
    "paper_name = 'birrell_brown_2001' "
   ]
  },
  {
   "cell_type": "code",
   "execution_count": 3,
   "metadata": {},
   "outputs": [],
   "source": [
    "datasets = pd.read_csv('extras/YeastPhenome_' + str(paper_pmid) + '_datasets_list.txt', sep='\\t', header=None, names=['dataset_id', 'name'])"
   ]
  },
  {
   "cell_type": "code",
   "execution_count": 4,
   "metadata": {},
   "outputs": [],
   "source": [
    "datasets.set_index('dataset_id', inplace=True)"
   ]
  },
  {
   "cell_type": "markdown",
   "metadata": {},
   "source": [
    "# Load & process the data"
   ]
  },
  {
   "cell_type": "code",
   "execution_count": 7,
   "metadata": {},
   "outputs": [],
   "source": [
    "original_data = pd.read_csv('raw_data/inline-supplementary-material-1.txt', sep='\\t')"
   ]
  },
  {
   "cell_type": "code",
   "execution_count": 8,
   "metadata": {},
   "outputs": [
    {
     "name": "stdout",
     "output_type": "stream",
     "text": [
      "Original data dimensions: 4297 x 55\n"
     ]
    }
   ],
   "source": [
    "print('Original data dimensions: %d x %d' % (original_data.shape))"
   ]
  },
  {
   "cell_type": "code",
   "execution_count": 9,
   "metadata": {},
   "outputs": [
    {
     "data": {
      "text/html": [
       "<div>\n",
       "<style scoped>\n",
       "    .dataframe tbody tr th:only-of-type {\n",
       "        vertical-align: middle;\n",
       "    }\n",
       "\n",
       "    .dataframe tbody tr th {\n",
       "        vertical-align: top;\n",
       "    }\n",
       "\n",
       "    .dataframe thead th {\n",
       "        text-align: right;\n",
       "    }\n",
       "</style>\n",
       "<table border=\"1\" class=\"dataframe\">\n",
       "  <thead>\n",
       "    <tr style=\"text-align: right;\">\n",
       "      <th></th>\n",
       "      <th>20040824</th>\n",
       "      <th>NAME</th>\n",
       "      <th>WEIGHT</th>\n",
       "      <th>DESC</th>\n",
       "      <th>AAPO</th>\n",
       "      <th>YPD</th>\n",
       "      <th>Wort</th>\n",
       "      <th>RafA</th>\n",
       "      <th>Lova</th>\n",
       "      <th>HygB</th>\n",
       "      <th>...</th>\n",
       "      <th>SC</th>\n",
       "      <th>Sorb-5g</th>\n",
       "      <th>Sorb-15g</th>\n",
       "      <th>Thr</th>\n",
       "      <th>Tpt</th>\n",
       "      <th>TPZ</th>\n",
       "      <th>Trp</th>\n",
       "      <th>UVA</th>\n",
       "      <th>UVB</th>\n",
       "      <th>UVC</th>\n",
       "    </tr>\n",
       "  </thead>\n",
       "  <tbody>\n",
       "    <tr>\n",
       "      <th>0</th>\n",
       "      <td>YML095C</td>\n",
       "      <td>RAD10</td>\n",
       "      <td>1</td>\n",
       "      <td>removal of nonhomologous ends*</td>\n",
       "      <td>-0.480</td>\n",
       "      <td>0.014</td>\n",
       "      <td>-0.233</td>\n",
       "      <td>-0.137</td>\n",
       "      <td>0.035</td>\n",
       "      <td>0.063</td>\n",
       "      <td>...</td>\n",
       "      <td>-0.210</td>\n",
       "      <td>-0.085</td>\n",
       "      <td>-0.152</td>\n",
       "      <td>-0.211</td>\n",
       "      <td>-0.045</td>\n",
       "      <td>-1.540</td>\n",
       "      <td>-0.171</td>\n",
       "      <td>-0.248</td>\n",
       "      <td>-3.200</td>\n",
       "      <td>-3.082</td>\n",
       "    </tr>\n",
       "    <tr>\n",
       "      <th>1</th>\n",
       "      <td>YER162C</td>\n",
       "      <td>RAD4</td>\n",
       "      <td>1</td>\n",
       "      <td>nucleotide-excision repair, DNA damage recogni...</td>\n",
       "      <td>-0.091</td>\n",
       "      <td>0.047</td>\n",
       "      <td>-0.059</td>\n",
       "      <td>0.052</td>\n",
       "      <td>0.054</td>\n",
       "      <td>0.106</td>\n",
       "      <td>...</td>\n",
       "      <td>-0.220</td>\n",
       "      <td>-0.093</td>\n",
       "      <td>-0.042</td>\n",
       "      <td>-0.201</td>\n",
       "      <td>0.128</td>\n",
       "      <td>-1.301</td>\n",
       "      <td>-0.239</td>\n",
       "      <td>-0.230</td>\n",
       "      <td>-3.296</td>\n",
       "      <td>-3.205</td>\n",
       "    </tr>\n",
       "    <tr>\n",
       "      <th>2</th>\n",
       "      <td>YLR032W</td>\n",
       "      <td>RAD5</td>\n",
       "      <td>1</td>\n",
       "      <td>DNA repair</td>\n",
       "      <td>-0.134</td>\n",
       "      <td>-0.544</td>\n",
       "      <td>-0.105</td>\n",
       "      <td>0.047</td>\n",
       "      <td>0.117</td>\n",
       "      <td>-0.257</td>\n",
       "      <td>...</td>\n",
       "      <td>-0.039</td>\n",
       "      <td>0.327</td>\n",
       "      <td>0.388</td>\n",
       "      <td>0.233</td>\n",
       "      <td>-0.046</td>\n",
       "      <td>-1.182</td>\n",
       "      <td>-0.074</td>\n",
       "      <td>-0.332</td>\n",
       "      <td>-2.529</td>\n",
       "      <td>-2.556</td>\n",
       "    </tr>\n",
       "    <tr>\n",
       "      <th>3</th>\n",
       "      <td>YMR201C</td>\n",
       "      <td>RAD14</td>\n",
       "      <td>1</td>\n",
       "      <td>nucleotide-excision repair, DNA damage recogni...</td>\n",
       "      <td>-0.242</td>\n",
       "      <td>0.085</td>\n",
       "      <td>0.005</td>\n",
       "      <td>0.034</td>\n",
       "      <td>-0.078</td>\n",
       "      <td>-0.034</td>\n",
       "      <td>...</td>\n",
       "      <td>-0.234</td>\n",
       "      <td>-0.136</td>\n",
       "      <td>-0.224</td>\n",
       "      <td>-0.401</td>\n",
       "      <td>-0.208</td>\n",
       "      <td>-1.135</td>\n",
       "      <td>-0.220</td>\n",
       "      <td>0.178</td>\n",
       "      <td>-2.912</td>\n",
       "      <td>-2.762</td>\n",
       "    </tr>\n",
       "    <tr>\n",
       "      <th>4</th>\n",
       "      <td>YGR258C</td>\n",
       "      <td>RAD2</td>\n",
       "      <td>1</td>\n",
       "      <td>nucleotide-excision repair, DNA incision, 3'-t...</td>\n",
       "      <td>-0.044</td>\n",
       "      <td>0.016</td>\n",
       "      <td>0.080</td>\n",
       "      <td>-0.060</td>\n",
       "      <td>0.131</td>\n",
       "      <td>0.047</td>\n",
       "      <td>...</td>\n",
       "      <td>-0.115</td>\n",
       "      <td>-0.066</td>\n",
       "      <td>0.007</td>\n",
       "      <td>-0.089</td>\n",
       "      <td>0.087</td>\n",
       "      <td>-0.675</td>\n",
       "      <td>-0.100</td>\n",
       "      <td>-0.098</td>\n",
       "      <td>-3.555</td>\n",
       "      <td>-3.417</td>\n",
       "    </tr>\n",
       "  </tbody>\n",
       "</table>\n",
       "<p>5 rows × 55 columns</p>\n",
       "</div>"
      ],
      "text/plain": [
       "  20040824   NAME  WEIGHT                                               DESC  \\\n",
       "0  YML095C  RAD10       1                     removal of nonhomologous ends*   \n",
       "1  YER162C   RAD4       1  nucleotide-excision repair, DNA damage recogni...   \n",
       "2  YLR032W   RAD5       1                                         DNA repair   \n",
       "3  YMR201C  RAD14       1  nucleotide-excision repair, DNA damage recogni...   \n",
       "4  YGR258C   RAD2       1  nucleotide-excision repair, DNA incision, 3'-t...   \n",
       "\n",
       "    AAPO    YPD   Wort   RafA   Lova   HygB  ...     SC  Sorb-5g  Sorb-15g  \\\n",
       "0 -0.480  0.014 -0.233 -0.137  0.035  0.063  ... -0.210   -0.085    -0.152   \n",
       "1 -0.091  0.047 -0.059  0.052  0.054  0.106  ... -0.220   -0.093    -0.042   \n",
       "2 -0.134 -0.544 -0.105  0.047  0.117 -0.257  ... -0.039    0.327     0.388   \n",
       "3 -0.242  0.085  0.005  0.034 -0.078 -0.034  ... -0.234   -0.136    -0.224   \n",
       "4 -0.044  0.016  0.080 -0.060  0.131  0.047  ... -0.115   -0.066     0.007   \n",
       "\n",
       "     Thr    Tpt    TPZ    Trp    UVA    UVB    UVC  \n",
       "0 -0.211 -0.045 -1.540 -0.171 -0.248 -3.200 -3.082  \n",
       "1 -0.201  0.128 -1.301 -0.239 -0.230 -3.296 -3.205  \n",
       "2  0.233 -0.046 -1.182 -0.074 -0.332 -2.529 -2.556  \n",
       "3 -0.401 -0.208 -1.135 -0.220  0.178 -2.912 -2.762  \n",
       "4 -0.089  0.087 -0.675 -0.100 -0.098 -3.555 -3.417  \n",
       "\n",
       "[5 rows x 55 columns]"
      ]
     },
     "execution_count": 9,
     "metadata": {},
     "output_type": "execute_result"
    }
   ],
   "source": [
    "original_data.head()"
   ]
  },
  {
   "cell_type": "code",
   "execution_count": 10,
   "metadata": {},
   "outputs": [],
   "source": [
    "original_data['orf'] = original_data['20040824'].astype(str)"
   ]
  },
  {
   "cell_type": "code",
   "execution_count": 11,
   "metadata": {},
   "outputs": [],
   "source": [
    "# Eliminate all white spaces & capitalize\n",
    "original_data['orf'] = clean_orf(original_data['orf'])"
   ]
  },
  {
   "cell_type": "code",
   "execution_count": 12,
   "metadata": {},
   "outputs": [],
   "source": [
    "# Translate to ORFs \n",
    "original_data['orf'] = translate_sc(original_data['orf'], to='orf')"
   ]
  },
  {
   "cell_type": "code",
   "execution_count": 13,
   "metadata": {},
   "outputs": [
    {
     "name": "stdout",
     "output_type": "stream",
     "text": [
      "Empty DataFrame\n",
      "Columns: [20040824, NAME, WEIGHT, DESC, AAPO, YPD, Wort, RafA, Lova, HygB, GlyE, Calc, Caff, AntA, ActD, Alk-5g, Alk-15g, AraC, Arn, Ars, Ben, Bleo, Cis1, Cis4, CPTa, CPTc, Dox, Gal-5g, Gal-15g, H2O2, HU, Ida, IR, Lys, Mech, Mel, Min-5g, Min-15g, MMC, MMS, NaCl-5g, NaCl-15g, Nys-5g, Nys-15g, Oxa, SC, Sorb-5g, Sorb-15g, Thr, Tpt, TPZ, Trp, UVA, UVB, UVC, orf]\n",
      "Index: []\n",
      "\n",
      "[0 rows x 56 columns]\n"
     ]
    }
   ],
   "source": [
    "# Make sure everything translated ok\n",
    "t = looks_like_orf(original_data['orf'])\n",
    "print(original_data.loc[~t,])"
   ]
  },
  {
   "cell_type": "code",
   "execution_count": 14,
   "metadata": {},
   "outputs": [],
   "source": [
    "original_data.set_index('orf', inplace=True)"
   ]
  },
  {
   "cell_type": "code",
   "execution_count": 15,
   "metadata": {},
   "outputs": [],
   "source": [
    "original_data = original_data[['UVB','UVC']].apply(pd.to_numeric, axis=1, errors='coerce')"
   ]
  },
  {
   "cell_type": "code",
   "execution_count": 16,
   "metadata": {},
   "outputs": [],
   "source": [
    "original_data = original_data.groupby(original_data.index).mean()"
   ]
  },
  {
   "cell_type": "code",
   "execution_count": 17,
   "metadata": {},
   "outputs": [
    {
     "data": {
      "text/plain": [
       "(4258, 2)"
      ]
     },
     "execution_count": 17,
     "metadata": {},
     "output_type": "execute_result"
    }
   ],
   "source": [
    "original_data.shape"
   ]
  },
  {
   "cell_type": "markdown",
   "metadata": {},
   "source": [
    "# Prepare the final dataset"
   ]
  },
  {
   "cell_type": "code",
   "execution_count": 18,
   "metadata": {},
   "outputs": [],
   "source": [
    "data = original_data.copy()"
   ]
  },
  {
   "cell_type": "code",
   "execution_count": 19,
   "metadata": {},
   "outputs": [],
   "source": [
    "dataset_ids = [745, 466]\n",
    "datasets = datasets.reindex(index=dataset_ids)"
   ]
  },
  {
   "cell_type": "code",
   "execution_count": 20,
   "metadata": {},
   "outputs": [],
   "source": [
    "lst = [datasets.index.values, ['value']*datasets.shape[0]]\n",
    "tuples = list(zip(*lst))\n",
    "idx = pd.MultiIndex.from_tuples(tuples, names=['dataset_id','data_type'])\n",
    "data.columns = idx"
   ]
  },
  {
   "cell_type": "code",
   "execution_count": 21,
   "metadata": {},
   "outputs": [
    {
     "data": {
      "text/html": [
       "<div>\n",
       "<style scoped>\n",
       "    .dataframe tbody tr th:only-of-type {\n",
       "        vertical-align: middle;\n",
       "    }\n",
       "\n",
       "    .dataframe tbody tr th {\n",
       "        vertical-align: top;\n",
       "    }\n",
       "\n",
       "    .dataframe thead tr th {\n",
       "        text-align: left;\n",
       "    }\n",
       "\n",
       "    .dataframe thead tr:last-of-type th {\n",
       "        text-align: right;\n",
       "    }\n",
       "</style>\n",
       "<table border=\"1\" class=\"dataframe\">\n",
       "  <thead>\n",
       "    <tr>\n",
       "      <th>dataset_id</th>\n",
       "      <th>745</th>\n",
       "      <th>466</th>\n",
       "    </tr>\n",
       "    <tr>\n",
       "      <th>data_type</th>\n",
       "      <th>value</th>\n",
       "      <th>value</th>\n",
       "    </tr>\n",
       "    <tr>\n",
       "      <th>orf</th>\n",
       "      <th></th>\n",
       "      <th></th>\n",
       "    </tr>\n",
       "  </thead>\n",
       "  <tbody>\n",
       "    <tr>\n",
       "      <th>YAL002W</th>\n",
       "      <td>-0.013</td>\n",
       "      <td>0.106</td>\n",
       "    </tr>\n",
       "    <tr>\n",
       "      <th>YAL004W</th>\n",
       "      <td>-0.049</td>\n",
       "      <td>-0.028</td>\n",
       "    </tr>\n",
       "    <tr>\n",
       "      <th>YAL005C</th>\n",
       "      <td>-0.074</td>\n",
       "      <td>-0.055</td>\n",
       "    </tr>\n",
       "    <tr>\n",
       "      <th>YAL007C</th>\n",
       "      <td>-0.008</td>\n",
       "      <td>-0.018</td>\n",
       "    </tr>\n",
       "    <tr>\n",
       "      <th>YAL008W</th>\n",
       "      <td>-0.034</td>\n",
       "      <td>-0.028</td>\n",
       "    </tr>\n",
       "  </tbody>\n",
       "</table>\n",
       "</div>"
      ],
      "text/plain": [
       "dataset_id    745    466\n",
       "data_type   value  value\n",
       "orf                     \n",
       "YAL002W    -0.013  0.106\n",
       "YAL004W    -0.049 -0.028\n",
       "YAL005C    -0.074 -0.055\n",
       "YAL007C    -0.008 -0.018\n",
       "YAL008W    -0.034 -0.028"
      ]
     },
     "execution_count": 21,
     "metadata": {},
     "output_type": "execute_result"
    }
   ],
   "source": [
    "data.head()"
   ]
  },
  {
   "cell_type": "markdown",
   "metadata": {},
   "source": [
    "## Subset to the genes currently in SGD"
   ]
  },
  {
   "cell_type": "code",
   "execution_count": 22,
   "metadata": {},
   "outputs": [
    {
     "name": "stdout",
     "output_type": "stream",
     "text": [
      "ORFs missing from SGD: 22\n"
     ]
    }
   ],
   "source": [
    "genes = pd.read_csv(path_to_genes, sep='\\t', index_col='id')\n",
    "genes = genes.reset_index().set_index('systematic_name')\n",
    "gene_ids = genes.reindex(index=data.index.values)['id'].values\n",
    "num_missing = np.sum(np.isnan(gene_ids))\n",
    "print('ORFs missing from SGD: %d' % num_missing)"
   ]
  },
  {
   "cell_type": "code",
   "execution_count": 23,
   "metadata": {},
   "outputs": [
    {
     "data": {
      "text/html": [
       "<div>\n",
       "<style scoped>\n",
       "    .dataframe tbody tr th:only-of-type {\n",
       "        vertical-align: middle;\n",
       "    }\n",
       "\n",
       "    .dataframe tbody tr th {\n",
       "        vertical-align: top;\n",
       "    }\n",
       "\n",
       "    .dataframe thead tr th {\n",
       "        text-align: left;\n",
       "    }\n",
       "\n",
       "    .dataframe thead tr:last-of-type th {\n",
       "        text-align: right;\n",
       "    }\n",
       "</style>\n",
       "<table border=\"1\" class=\"dataframe\">\n",
       "  <thead>\n",
       "    <tr>\n",
       "      <th></th>\n",
       "      <th>dataset_id</th>\n",
       "      <th>745</th>\n",
       "      <th>466</th>\n",
       "    </tr>\n",
       "    <tr>\n",
       "      <th></th>\n",
       "      <th>data_type</th>\n",
       "      <th>value</th>\n",
       "      <th>value</th>\n",
       "    </tr>\n",
       "    <tr>\n",
       "      <th>gene_id</th>\n",
       "      <th>orf</th>\n",
       "      <th></th>\n",
       "      <th></th>\n",
       "    </tr>\n",
       "  </thead>\n",
       "  <tbody>\n",
       "    <tr>\n",
       "      <th>2</th>\n",
       "      <th>YAL002W</th>\n",
       "      <td>-0.013</td>\n",
       "      <td>0.106</td>\n",
       "    </tr>\n",
       "    <tr>\n",
       "      <th>1863</th>\n",
       "      <th>YAL004W</th>\n",
       "      <td>-0.049</td>\n",
       "      <td>-0.028</td>\n",
       "    </tr>\n",
       "    <tr>\n",
       "      <th>4</th>\n",
       "      <th>YAL005C</th>\n",
       "      <td>-0.074</td>\n",
       "      <td>-0.055</td>\n",
       "    </tr>\n",
       "    <tr>\n",
       "      <th>5</th>\n",
       "      <th>YAL007C</th>\n",
       "      <td>-0.008</td>\n",
       "      <td>-0.018</td>\n",
       "    </tr>\n",
       "    <tr>\n",
       "      <th>6</th>\n",
       "      <th>YAL008W</th>\n",
       "      <td>-0.034</td>\n",
       "      <td>-0.028</td>\n",
       "    </tr>\n",
       "  </tbody>\n",
       "</table>\n",
       "</div>"
      ],
      "text/plain": [
       "dataset_id         745    466\n",
       "data_type        value  value\n",
       "gene_id orf                  \n",
       "2       YAL002W -0.013  0.106\n",
       "1863    YAL004W -0.049 -0.028\n",
       "4       YAL005C -0.074 -0.055\n",
       "5       YAL007C -0.008 -0.018\n",
       "6       YAL008W -0.034 -0.028"
      ]
     },
     "execution_count": 23,
     "metadata": {},
     "output_type": "execute_result"
    }
   ],
   "source": [
    "data['gene_id'] = gene_ids\n",
    "data = data.loc[data['gene_id'].notnull()]\n",
    "data['gene_id'] = data['gene_id'].astype(int)\n",
    "data = data.reset_index().set_index(['gene_id','orf'])\n",
    "\n",
    "data.head()"
   ]
  },
  {
   "cell_type": "markdown",
   "metadata": {},
   "source": [
    "# Normalize"
   ]
  },
  {
   "cell_type": "code",
   "execution_count": 24,
   "metadata": {},
   "outputs": [],
   "source": [
    "data_norm = normalize_phenotypic_scores(data, has_tested=True)"
   ]
  },
  {
   "cell_type": "code",
   "execution_count": 25,
   "metadata": {},
   "outputs": [],
   "source": [
    "# Assign proper column names\n",
    "lst = [datasets.index.values, ['valuez']*datasets.shape[0]]\n",
    "tuples = list(zip(*lst))\n",
    "idx = pd.MultiIndex.from_tuples(tuples, names=['dataset_id','data_type'])\n",
    "data_norm.columns = idx"
   ]
  },
  {
   "cell_type": "code",
   "execution_count": 26,
   "metadata": {},
   "outputs": [
    {
     "data": {
      "text/html": [
       "<div>\n",
       "<style scoped>\n",
       "    .dataframe tbody tr th:only-of-type {\n",
       "        vertical-align: middle;\n",
       "    }\n",
       "\n",
       "    .dataframe tbody tr th {\n",
       "        vertical-align: top;\n",
       "    }\n",
       "\n",
       "    .dataframe thead tr th {\n",
       "        text-align: left;\n",
       "    }\n",
       "\n",
       "    .dataframe thead tr:last-of-type th {\n",
       "        text-align: right;\n",
       "    }\n",
       "</style>\n",
       "<table border=\"1\" class=\"dataframe\">\n",
       "  <thead>\n",
       "    <tr>\n",
       "      <th></th>\n",
       "      <th>dataset_id</th>\n",
       "      <th>745</th>\n",
       "      <th>466</th>\n",
       "      <th>745</th>\n",
       "      <th>466</th>\n",
       "    </tr>\n",
       "    <tr>\n",
       "      <th></th>\n",
       "      <th>data_type</th>\n",
       "      <th>value</th>\n",
       "      <th>value</th>\n",
       "      <th>valuez</th>\n",
       "      <th>valuez</th>\n",
       "    </tr>\n",
       "    <tr>\n",
       "      <th>gene_id</th>\n",
       "      <th>orf</th>\n",
       "      <th></th>\n",
       "      <th></th>\n",
       "      <th></th>\n",
       "      <th></th>\n",
       "    </tr>\n",
       "  </thead>\n",
       "  <tbody>\n",
       "    <tr>\n",
       "      <th>2</th>\n",
       "      <th>YAL002W</th>\n",
       "      <td>-0.013</td>\n",
       "      <td>0.106</td>\n",
       "      <td>0.009707</td>\n",
       "      <td>0.600346</td>\n",
       "    </tr>\n",
       "    <tr>\n",
       "      <th>1863</th>\n",
       "      <th>YAL004W</th>\n",
       "      <td>-0.049</td>\n",
       "      <td>-0.028</td>\n",
       "      <td>-0.192609</td>\n",
       "      <td>-0.053690</td>\n",
       "    </tr>\n",
       "    <tr>\n",
       "      <th>4</th>\n",
       "      <th>YAL005C</th>\n",
       "      <td>-0.074</td>\n",
       "      <td>-0.055</td>\n",
       "      <td>-0.333106</td>\n",
       "      <td>-0.185473</td>\n",
       "    </tr>\n",
       "    <tr>\n",
       "      <th>5</th>\n",
       "      <th>YAL007C</th>\n",
       "      <td>-0.008</td>\n",
       "      <td>-0.018</td>\n",
       "      <td>0.037806</td>\n",
       "      <td>-0.004881</td>\n",
       "    </tr>\n",
       "    <tr>\n",
       "      <th>6</th>\n",
       "      <th>YAL008W</th>\n",
       "      <td>-0.034</td>\n",
       "      <td>-0.028</td>\n",
       "      <td>-0.108310</td>\n",
       "      <td>-0.053690</td>\n",
       "    </tr>\n",
       "  </tbody>\n",
       "</table>\n",
       "</div>"
      ],
      "text/plain": [
       "dataset_id         745    466       745       466\n",
       "data_type        value  value    valuez    valuez\n",
       "gene_id orf                                      \n",
       "2       YAL002W -0.013  0.106  0.009707  0.600346\n",
       "1863    YAL004W -0.049 -0.028 -0.192609 -0.053690\n",
       "4       YAL005C -0.074 -0.055 -0.333106 -0.185473\n",
       "5       YAL007C -0.008 -0.018  0.037806 -0.004881\n",
       "6       YAL008W -0.034 -0.028 -0.108310 -0.053690"
      ]
     },
     "execution_count": 26,
     "metadata": {},
     "output_type": "execute_result"
    }
   ],
   "source": [
    "data_norm[data.isnull()] = np.nan\n",
    "data_all = data.join(data_norm)\n",
    "\n",
    "data_all.head()"
   ]
  },
  {
   "cell_type": "markdown",
   "metadata": {},
   "source": [
    "# Print out"
   ]
  },
  {
   "cell_type": "code",
   "execution_count": 27,
   "metadata": {},
   "outputs": [],
   "source": [
    "for f in ['value','valuez']:\n",
    "    df = data_all.xs(f, level='data_type', axis=1).copy()\n",
    "    df.columns = datasets['name'].values\n",
    "    df = df.droplevel('gene_id', axis=0)\n",
    "    df.to_csv(paper_name + '_' + f + '.txt', sep='\\t')"
   ]
  },
  {
   "cell_type": "markdown",
   "metadata": {},
   "source": [
    "# Save to DB"
   ]
  },
  {
   "cell_type": "code",
   "execution_count": 1,
   "metadata": {},
   "outputs": [],
   "source": [
    "# from IO.save_data_to_db3 import *"
   ]
  },
  {
   "cell_type": "code",
   "execution_count": 2,
   "metadata": {},
   "outputs": [],
   "source": [
    "# save_data_to_db(data_all, paper_pmid)"
   ]
  },
  {
   "cell_type": "code",
   "execution_count": null,
   "metadata": {},
   "outputs": [],
   "source": []
  }
 ],
 "metadata": {
  "kernelspec": {
   "display_name": "yp-data",
   "language": "python",
   "name": "yp-data"
  },
  "language_info": {
   "codemirror_mode": {
    "name": "ipython",
    "version": 3
   },
   "file_extension": ".py",
   "mimetype": "text/x-python",
   "name": "python",
   "nbconvert_exporter": "python",
   "pygments_lexer": "ipython3",
   "version": "3.7.7"
  }
 },
 "nbformat": 4,
 "nbformat_minor": 4
}
