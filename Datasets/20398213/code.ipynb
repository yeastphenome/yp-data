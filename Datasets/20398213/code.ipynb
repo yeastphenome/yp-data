{
 "cells": [
  {
   "cell_type": "code",
   "execution_count": 1,
   "metadata": {},
   "outputs": [],
   "source": [
    "%run ../../Utils/yp_utils.py"
   ]
  },
  {
   "cell_type": "markdown",
   "metadata": {},
   "source": [
    "# Initial setup"
   ]
  },
  {
   "cell_type": "code",
   "execution_count": 2,
   "metadata": {},
   "outputs": [],
   "source": [
    "paper_pmid = 20398213\n",
    "paper_name = 'ruiz_roig_de_nadal_2010' "
   ]
  },
  {
   "cell_type": "code",
   "execution_count": 3,
   "metadata": {},
   "outputs": [],
   "source": [
    "datasets = pd.read_csv('extras/YeastPhenome_' + str(paper_pmid) + '_datasets_list.txt', sep='\\t', header=None, names=['dataset_id', 'name'])"
   ]
  },
  {
   "cell_type": "code",
   "execution_count": 4,
   "metadata": {},
   "outputs": [],
   "source": [
    "datasets.set_index('dataset_id', inplace=True)"
   ]
  },
  {
   "cell_type": "markdown",
   "metadata": {},
   "source": [
    "# Load & process the data"
   ]
  },
  {
   "cell_type": "code",
   "execution_count": 5,
   "metadata": {},
   "outputs": [],
   "source": [
    "original_data = pd.read_excel('raw_data/TableS1.xlsx', sheet_name='Sheet1')"
   ]
  },
  {
   "cell_type": "code",
   "execution_count": 6,
   "metadata": {},
   "outputs": [
    {
     "name": "stdout",
     "output_type": "stream",
     "text": [
      "Original data dimensions: 277 x 4\n"
     ]
    }
   ],
   "source": [
    "print('Original data dimensions: %d x %d' % (original_data.shape))"
   ]
  },
  {
   "cell_type": "code",
   "execution_count": 7,
   "metadata": {},
   "outputs": [
    {
     "data": {
      "text/html": [
       "<div>\n",
       "<style scoped>\n",
       "    .dataframe tbody tr th:only-of-type {\n",
       "        vertical-align: middle;\n",
       "    }\n",
       "\n",
       "    .dataframe tbody tr th {\n",
       "        vertical-align: top;\n",
       "    }\n",
       "\n",
       "    .dataframe thead th {\n",
       "        text-align: right;\n",
       "    }\n",
       "</style>\n",
       "<table border=\"1\" class=\"dataframe\">\n",
       "  <thead>\n",
       "    <tr style=\"text-align: right;\">\n",
       "      <th></th>\n",
       "      <th>ORF code</th>\n",
       "      <th>Gene name</th>\n",
       "      <th>Gene description</th>\n",
       "      <th>Unnamed: 3</th>\n",
       "    </tr>\n",
       "  </thead>\n",
       "  <tbody>\n",
       "    <tr>\n",
       "      <th>0</th>\n",
       "      <td>NaN</td>\n",
       "      <td>NaN</td>\n",
       "      <td>NaN</td>\n",
       "      <td>NaN</td>\n",
       "    </tr>\n",
       "    <tr>\n",
       "      <th>1</th>\n",
       "      <td>YAL021C</td>\n",
       "      <td>CCR4</td>\n",
       "      <td>Transcriptional regulator</td>\n",
       "      <td>-3.0</td>\n",
       "    </tr>\n",
       "    <tr>\n",
       "      <th>2</th>\n",
       "      <td>YBL007C</td>\n",
       "      <td>SLA1</td>\n",
       "      <td>Cytoskeleton assembly control protein</td>\n",
       "      <td>-3.0</td>\n",
       "    </tr>\n",
       "    <tr>\n",
       "      <th>3</th>\n",
       "      <td>YBL024W</td>\n",
       "      <td>NCL1</td>\n",
       "      <td>tRNA (cytosine-5-)-methyltransferase</td>\n",
       "      <td>-3.0</td>\n",
       "    </tr>\n",
       "    <tr>\n",
       "      <th>4</th>\n",
       "      <td>YBL058W</td>\n",
       "      <td>SHP1</td>\n",
       "      <td>Potential regulatory subunit for Glc7p</td>\n",
       "      <td>-3.0</td>\n",
       "    </tr>\n",
       "  </tbody>\n",
       "</table>\n",
       "</div>"
      ],
      "text/plain": [
       "  ORF code Gene name                        Gene description  Unnamed: 3\n",
       "0      NaN       NaN                                     NaN         NaN\n",
       "1  YAL021C      CCR4               Transcriptional regulator        -3.0\n",
       "2  YBL007C      SLA1   Cytoskeleton assembly control protein        -3.0\n",
       "3  YBL024W      NCL1    tRNA (cytosine-5-)-methyltransferase        -3.0\n",
       "4  YBL058W      SHP1  Potential regulatory subunit for Glc7p        -3.0"
      ]
     },
     "execution_count": 7,
     "metadata": {},
     "output_type": "execute_result"
    }
   ],
   "source": [
    "original_data.head()"
   ]
  },
  {
   "cell_type": "code",
   "execution_count": 8,
   "metadata": {},
   "outputs": [],
   "source": [
    "original_data['orf'] = original_data['ORF code'].astype(str)"
   ]
  },
  {
   "cell_type": "code",
   "execution_count": 9,
   "metadata": {},
   "outputs": [],
   "source": [
    "# Eliminate all white spaces & capitalize\n",
    "original_data['orf'] = clean_orf(original_data['orf'])"
   ]
  },
  {
   "cell_type": "code",
   "execution_count": 10,
   "metadata": {},
   "outputs": [],
   "source": [
    "# Translate to ORFs \n",
    "original_data['orf'] = translate_sc(original_data['orf'], to='orf')"
   ]
  },
  {
   "cell_type": "code",
   "execution_count": 11,
   "metadata": {},
   "outputs": [
    {
     "name": "stdout",
     "output_type": "stream",
     "text": [
      "            ORF code Gene name Gene description  Unnamed: 3  orf\n",
      "index_input                                                     \n",
      "0                NaN       NaN              NaN         NaN  NAN\n"
     ]
    }
   ],
   "source": [
    "# Make sure everything translated ok\n",
    "t = looks_like_orf(original_data['orf'])\n",
    "print(original_data.loc[~t,])"
   ]
  },
  {
   "cell_type": "code",
   "execution_count": 12,
   "metadata": {},
   "outputs": [],
   "source": [
    "original_data = original_data.loc[t,:]"
   ]
  },
  {
   "cell_type": "code",
   "execution_count": 13,
   "metadata": {},
   "outputs": [],
   "source": [
    "original_data['data'] = original_data['Unnamed: 3'].astype(float)"
   ]
  },
  {
   "cell_type": "code",
   "execution_count": 14,
   "metadata": {},
   "outputs": [],
   "source": [
    "original_data.set_index('orf', inplace=True)"
   ]
  },
  {
   "cell_type": "code",
   "execution_count": 15,
   "metadata": {},
   "outputs": [],
   "source": [
    "original_data = original_data[['data']].copy()"
   ]
  },
  {
   "cell_type": "code",
   "execution_count": 16,
   "metadata": {},
   "outputs": [],
   "source": [
    "original_data = original_data.groupby(original_data.index).mean()"
   ]
  },
  {
   "cell_type": "code",
   "execution_count": 17,
   "metadata": {},
   "outputs": [
    {
     "data": {
      "text/plain": [
       "(276, 1)"
      ]
     },
     "execution_count": 17,
     "metadata": {},
     "output_type": "execute_result"
    }
   ],
   "source": [
    "original_data.shape"
   ]
  },
  {
   "cell_type": "markdown",
   "metadata": {},
   "source": [
    "# Load & process tested strains"
   ]
  },
  {
   "cell_type": "code",
   "execution_count": 20,
   "metadata": {},
   "outputs": [],
   "source": [
    "tested = pd.read_excel('raw_data/KO_386.xlsx', sheet_name='Sheet1', skiprows=2)"
   ]
  },
  {
   "cell_type": "code",
   "execution_count": 21,
   "metadata": {},
   "outputs": [
    {
     "data": {
      "text/html": [
       "<div>\n",
       "<style scoped>\n",
       "    .dataframe tbody tr th:only-of-type {\n",
       "        vertical-align: middle;\n",
       "    }\n",
       "\n",
       "    .dataframe tbody tr th {\n",
       "        vertical-align: top;\n",
       "    }\n",
       "\n",
       "    .dataframe thead th {\n",
       "        text-align: right;\n",
       "    }\n",
       "</style>\n",
       "<table border=\"1\" class=\"dataframe\">\n",
       "  <thead>\n",
       "    <tr style=\"text-align: right;\">\n",
       "      <th></th>\n",
       "      <th>Unnamed: 0</th>\n",
       "      <th>Unnamed: 1</th>\n",
       "      <th>Plate</th>\n",
       "      <th>row</th>\n",
       "      <th>col</th>\n",
       "      <th>record #</th>\n",
       "      <th>ORF</th>\n",
       "      <th>strain</th>\n",
       "      <th>batch</th>\n",
       "      <th>row.1</th>\n",
       "      <th>col.1</th>\n",
       "      <th>Euroscarf comments</th>\n",
       "      <th>Freezing comments</th>\n",
       "      <th>Duplication in our collection</th>\n",
       "      <th>SL/wt: Boone</th>\n",
       "      <th>gene name(s)</th>\n",
       "      <th>brief id (fromSGD)</th>\n",
       "      <th>notes about QC</th>\n",
       "      <th>QC results</th>\n",
       "      <th>comments about QC</th>\n",
       "    </tr>\n",
       "  </thead>\n",
       "  <tbody>\n",
       "    <tr>\n",
       "      <th>0</th>\n",
       "      <td>1+2</td>\n",
       "      <td>NaN</td>\n",
       "      <td>1</td>\n",
       "      <td>A</td>\n",
       "      <td>1</td>\n",
       "      <td>338.0</td>\n",
       "      <td>YAL068C</td>\n",
       "      <td>BY4741</td>\n",
       "      <td>chr1_1</td>\n",
       "      <td>A</td>\n",
       "      <td>2.0</td>\n",
       "      <td>NaN</td>\n",
       "      <td>NaN</td>\n",
       "      <td>NaN</td>\n",
       "      <td>NaN</td>\n",
       "      <td>NaN</td>\n",
       "      <td>biological_process unknown, molecular_function...</td>\n",
       "      <td>NaN</td>\n",
       "      <td>NaN</td>\n",
       "      <td>NaN</td>\n",
       "    </tr>\n",
       "    <tr>\n",
       "      <th>1</th>\n",
       "      <td>1+2</td>\n",
       "      <td>NaN</td>\n",
       "      <td>1</td>\n",
       "      <td>A</td>\n",
       "      <td>2</td>\n",
       "      <td>339.0</td>\n",
       "      <td>YAL067C</td>\n",
       "      <td>BY4741</td>\n",
       "      <td>chr1_1</td>\n",
       "      <td>A</td>\n",
       "      <td>3.0</td>\n",
       "      <td>NaN</td>\n",
       "      <td>NaN</td>\n",
       "      <td>NaN</td>\n",
       "      <td>NaN</td>\n",
       "      <td>SEO1</td>\n",
       "      <td>putative permease</td>\n",
       "      <td>NaN</td>\n",
       "      <td>NaN</td>\n",
       "      <td>NaN</td>\n",
       "    </tr>\n",
       "    <tr>\n",
       "      <th>2</th>\n",
       "      <td>1+2</td>\n",
       "      <td>1</td>\n",
       "      <td>1</td>\n",
       "      <td>A</td>\n",
       "      <td>3</td>\n",
       "      <td>340.0</td>\n",
       "      <td>YAL066W</td>\n",
       "      <td>BY4741</td>\n",
       "      <td>chr1_1</td>\n",
       "      <td>A</td>\n",
       "      <td>4.0</td>\n",
       "      <td>NaN</td>\n",
       "      <td>NaN</td>\n",
       "      <td>NaN</td>\n",
       "      <td>NaN</td>\n",
       "      <td>NaN</td>\n",
       "      <td>biological_process unknown, molecular_function...</td>\n",
       "      <td>NaN</td>\n",
       "      <td>NaN</td>\n",
       "      <td>NaN</td>\n",
       "    </tr>\n",
       "    <tr>\n",
       "      <th>3</th>\n",
       "      <td>1+2</td>\n",
       "      <td>NaN</td>\n",
       "      <td>1</td>\n",
       "      <td>A</td>\n",
       "      <td>4</td>\n",
       "      <td>341.0</td>\n",
       "      <td>YAL065C</td>\n",
       "      <td>BY4741</td>\n",
       "      <td>chr1_1</td>\n",
       "      <td>A</td>\n",
       "      <td>5.0</td>\n",
       "      <td>NaN</td>\n",
       "      <td>NaN</td>\n",
       "      <td>NaN</td>\n",
       "      <td>NaN</td>\n",
       "      <td>NaN</td>\n",
       "      <td>biological_process unknown, molecular_function...</td>\n",
       "      <td>NaN</td>\n",
       "      <td>NaN</td>\n",
       "      <td>NaN</td>\n",
       "    </tr>\n",
       "    <tr>\n",
       "      <th>4</th>\n",
       "      <td>1+2</td>\n",
       "      <td>NaN</td>\n",
       "      <td>1</td>\n",
       "      <td>A</td>\n",
       "      <td>5</td>\n",
       "      <td>345.0</td>\n",
       "      <td>YAL062W</td>\n",
       "      <td>BY4741</td>\n",
       "      <td>chr1_1</td>\n",
       "      <td>A</td>\n",
       "      <td>9.0</td>\n",
       "      <td>NaN</td>\n",
       "      <td>NaN</td>\n",
       "      <td>NaN</td>\n",
       "      <td>NaN</td>\n",
       "      <td>GDH3, FUN51</td>\n",
       "      <td>NADP-linked glutamate dehydrogenase,glutamate ...</td>\n",
       "      <td>NaN</td>\n",
       "      <td>NaN</td>\n",
       "      <td>NaN</td>\n",
       "    </tr>\n",
       "  </tbody>\n",
       "</table>\n",
       "</div>"
      ],
      "text/plain": [
       "  Unnamed: 0 Unnamed: 1  Plate row  col  record #      ORF  strain   batch  \\\n",
       "0        1+2        NaN      1   A    1     338.0  YAL068C  BY4741  chr1_1   \n",
       "1        1+2        NaN      1   A    2     339.0  YAL067C  BY4741  chr1_1   \n",
       "2        1+2          1      1   A    3     340.0  YAL066W  BY4741  chr1_1   \n",
       "3        1+2        NaN      1   A    4     341.0  YAL065C  BY4741  chr1_1   \n",
       "4        1+2        NaN      1   A    5     345.0  YAL062W  BY4741  chr1_1   \n",
       "\n",
       "  row.1  col.1 Euroscarf comments Freezing comments  \\\n",
       "0     A    2.0                NaN               NaN   \n",
       "1     A    3.0                NaN               NaN   \n",
       "2     A    4.0                NaN               NaN   \n",
       "3     A    5.0                NaN               NaN   \n",
       "4     A    9.0                NaN               NaN   \n",
       "\n",
       "  Duplication in our collection SL/wt: Boone gene name(s)  \\\n",
       "0                           NaN          NaN          NaN   \n",
       "1                           NaN          NaN         SEO1   \n",
       "2                           NaN          NaN          NaN   \n",
       "3                           NaN          NaN          NaN   \n",
       "4                           NaN          NaN  GDH3, FUN51   \n",
       "\n",
       "                                  brief id (fromSGD) notes about QC  \\\n",
       "0  biological_process unknown, molecular_function...            NaN   \n",
       "1                                 putative permease             NaN   \n",
       "2  biological_process unknown, molecular_function...            NaN   \n",
       "3  biological_process unknown, molecular_function...            NaN   \n",
       "4  NADP-linked glutamate dehydrogenase,glutamate ...            NaN   \n",
       "\n",
       "  QC results comments about QC  \n",
       "0        NaN               NaN  \n",
       "1        NaN               NaN  \n",
       "2        NaN               NaN  \n",
       "3        NaN               NaN  \n",
       "4        NaN               NaN  "
      ]
     },
     "execution_count": 21,
     "metadata": {},
     "output_type": "execute_result"
    }
   ],
   "source": [
    "tested.head()"
   ]
  },
  {
   "cell_type": "code",
   "execution_count": 22,
   "metadata": {},
   "outputs": [],
   "source": [
    "tested['orf'] = tested['ORF'].astype(str)"
   ]
  },
  {
   "cell_type": "code",
   "execution_count": 23,
   "metadata": {},
   "outputs": [],
   "source": [
    "tested['orf'] = clean_orf(tested['orf'])"
   ]
  },
  {
   "cell_type": "code",
   "execution_count": 24,
   "metadata": {},
   "outputs": [],
   "source": [
    "tested['orf'] = translate_sc(tested['orf'], to='orf')"
   ]
  },
  {
   "cell_type": "code",
   "execution_count": 25,
   "metadata": {},
   "outputs": [
    {
     "name": "stdout",
     "output_type": "stream",
     "text": [
      "            Unnamed: 0 Unnamed: 1  Plate row  col  record #  ORF strain batch  \\\n",
      "index_input                                                                     \n",
      "756              15+16        NaN     16   H    1       NaN  NaN    NaN   NaN   \n",
      "757              15+16        NaN     16   H    2       NaN  NaN    NaN   NaN   \n",
      "758              15+16        NaN     16   H    3       NaN  NaN    NaN   NaN   \n",
      "759              15+16        NaN     16   H    4       NaN  NaN    NaN   NaN   \n",
      "760              15+16        NaN     16   H    5       NaN  NaN    NaN   NaN   \n",
      "761              15+16        NaN     16   H    6       NaN  NaN    NaN   NaN   \n",
      "762              15+16        NaN     16   H    7       NaN  NaN    NaN   NaN   \n",
      "763              15+16        NaN     16   H    8       NaN  NaN    NaN   NaN   \n",
      "764              15+16        NaN     16   H    9       NaN  NaN    NaN   NaN   \n",
      "765              15+16        NaN     16   H   10       NaN  NaN    NaN   NaN   \n",
      "766              15+16        NaN     16   H   11       NaN  NaN    NaN   NaN   \n",
      "767              15+16        NaN     16   H   12       NaN  NaN    NaN   NaN   \n",
      "3200             39+40          1     39   F    9       NaN  NaN    NaN   NaN   \n",
      "4485             51+52      51+52     51   F   10       NaN  NaN    NaN   NaN   \n",
      "4486             51+52      51+52     51   F   11       NaN  NaN    NaN   NaN   \n",
      "4487             51+52      51+52     51   F   12       NaN  NaN    NaN   NaN   \n",
      "4488             51+52      51+52     51   G    1       NaN  NaN    NaN   NaN   \n",
      "4489             51+52      51+52     51   G    2       NaN  NaN    NaN   NaN   \n",
      "4490             51+52      51+52     51   G    3       NaN  NaN    NaN   NaN   \n",
      "4491             51+52      51+52     51   G    4       NaN  NaN    NaN   NaN   \n",
      "4492             51+52      51+52     51   G    5       NaN  NaN    NaN   NaN   \n",
      "4493             51+52      51+52     51   G    6       NaN  NaN    NaN   NaN   \n",
      "4494             51+52      51+52     51   G    7       NaN  NaN    NaN   NaN   \n",
      "4495             51+52      51+52     51   G    8       NaN  NaN    NaN   NaN   \n",
      "4496             51+52      51+52     51   G    9       NaN  NaN    NaN   NaN   \n",
      "4497             51+52      51+52     51   G   10       NaN  NaN    NaN   NaN   \n",
      "4498             51+52      51+52     51   G   11       NaN  NaN    NaN   NaN   \n",
      "4499             51+52      51+52     51   G   12       NaN  NaN    NaN   NaN   \n",
      "4500             51+52      51+52     51   H    1       NaN  NaN    NaN   NaN   \n",
      "4501             51+52      51+52     51   H    2       NaN  NaN    NaN   NaN   \n",
      "4502             51+52      51+52     51   H    3       NaN  NaN    NaN   NaN   \n",
      "4503             51+52      51+52     51   H    4       NaN  NaN    NaN   NaN   \n",
      "4504             51+52      51+52     51   H    5       NaN  NaN    NaN   NaN   \n",
      "4505             51+52      51+52     51   H    6       NaN  NaN    NaN   NaN   \n",
      "4506             51+52      51+52     51   H    7       NaN  NaN    NaN   NaN   \n",
      "4507             51+52      51+52     51   H    8       NaN  NaN    NaN   NaN   \n",
      "4508             51+52      51+52     51   H    9       NaN  NaN    NaN   NaN   \n",
      "4509             51+52      51+52     51   H   10       NaN  NaN    NaN   NaN   \n",
      "4510             51+52      51+52     51   H   11       NaN  NaN    NaN   NaN   \n",
      "4511             51+52        NaN     51   H   12       NaN  NaN    NaN   NaN   \n",
      "\n",
      "            row.1  ...  Euroscarf comments  \\\n",
      "index_input        ...                       \n",
      "756           NaN  ...                 NaN   \n",
      "757           NaN  ...                 NaN   \n",
      "758           NaN  ...                 NaN   \n",
      "759           NaN  ...                 NaN   \n",
      "760           NaN  ...                 NaN   \n",
      "761           NaN  ...                 NaN   \n",
      "762           NaN  ...                 NaN   \n",
      "763           NaN  ...                 NaN   \n",
      "764           NaN  ...                 NaN   \n",
      "765           NaN  ...                 NaN   \n",
      "766           NaN  ...                 NaN   \n",
      "767           NaN  ...                 NaN   \n",
      "3200          NaN  ...                 NaN   \n",
      "4485          NaN  ...                 NaN   \n",
      "4486          NaN  ...                 NaN   \n",
      "4487          NaN  ...                 NaN   \n",
      "4488          NaN  ...                 NaN   \n",
      "4489          NaN  ...                 NaN   \n",
      "4490          NaN  ...                 NaN   \n",
      "4491          NaN  ...                 NaN   \n",
      "4492          NaN  ...                 NaN   \n",
      "4493          NaN  ...                 NaN   \n",
      "4494          NaN  ...                 NaN   \n",
      "4495          NaN  ...                 NaN   \n",
      "4496          NaN  ...                 NaN   \n",
      "4497          NaN  ...                 NaN   \n",
      "4498          NaN  ...                 NaN   \n",
      "4499          NaN  ...                 NaN   \n",
      "4500          NaN  ...                 NaN   \n",
      "4501          NaN  ...                 NaN   \n",
      "4502          NaN  ...                 NaN   \n",
      "4503          NaN  ...                 NaN   \n",
      "4504          NaN  ...                 NaN   \n",
      "4505          NaN  ...                 NaN   \n",
      "4506          NaN  ...                 NaN   \n",
      "4507          NaN  ...                 NaN   \n",
      "4508          NaN  ...                 NaN   \n",
      "4509          NaN  ...                 NaN   \n",
      "4510          NaN  ...                 NaN   \n",
      "4511          NaN  ...                 NaN   \n",
      "\n",
      "                                             Freezing comments  \\\n",
      "index_input                                                      \n",
      "756                 <<<<----- empty space in our ko collection   \n",
      "757                 <<<<----- empty space in our ko collection   \n",
      "758                 <<<<----- empty space in our ko collection   \n",
      "759                 <<<<----- empty space in our ko collection   \n",
      "760                 <<<<----- empty space in our ko collection   \n",
      "761                 <<<<----- empty space in our ko collection   \n",
      "762                 <<<<----- empty space in our ko collection   \n",
      "763                 <<<<----- empty space in our ko collection   \n",
      "764                 <<<<----- empty space in our ko collection   \n",
      "765                 <<<<----- empty space in our ko collection   \n",
      "766                 <<<<----- empty space in our ko collection   \n",
      "767                 <<<<----- empty space in our ko collection   \n",
      "3200         <<<<---- The strain at position 39F9 (chr2_3 E...   \n",
      "4485                                                       NaN   \n",
      "4486                                                       NaN   \n",
      "4487                                                       NaN   \n",
      "4488                                                       NaN   \n",
      "4489                                                       NaN   \n",
      "4490                                                       NaN   \n",
      "4491                                                       NaN   \n",
      "4492                                                       NaN   \n",
      "4493                                                       NaN   \n",
      "4494                                                       NaN   \n",
      "4495                                                       NaN   \n",
      "4496                                                       NaN   \n",
      "4497                                                       NaN   \n",
      "4498                                                       NaN   \n",
      "4499                                                       NaN   \n",
      "4500                                                       NaN   \n",
      "4501                                                       NaN   \n",
      "4502                                                       NaN   \n",
      "4503                                                       NaN   \n",
      "4504                                                       NaN   \n",
      "4505                                                       NaN   \n",
      "4506                                                       NaN   \n",
      "4507                                                       NaN   \n",
      "4508                                                       NaN   \n",
      "4509                                                       NaN   \n",
      "4510                                                       NaN   \n",
      "4511                                                       NaN   \n",
      "\n",
      "            Duplication in our collection SL/wt: Boone gene name(s)  \\\n",
      "index_input                                                           \n",
      "756                                   NaN          NaN          NaN   \n",
      "757                                   NaN          NaN          NaN   \n",
      "758                                   NaN          NaN          NaN   \n",
      "759                                   NaN          NaN          NaN   \n",
      "760                                   NaN          NaN          NaN   \n",
      "761                                   NaN          NaN          NaN   \n",
      "762                                   NaN          NaN          NaN   \n",
      "763                                   NaN          NaN          NaN   \n",
      "764                                   NaN          NaN          NaN   \n",
      "765                                   NaN          NaN          NaN   \n",
      "766                                   NaN          NaN          NaN   \n",
      "767                                   NaN          NaN          NaN   \n",
      "3200                                  NaN          NaN          NaN   \n",
      "4485                                  NaN          NaN          NaN   \n",
      "4486                                  NaN          NaN          NaN   \n",
      "4487                                  NaN          NaN          NaN   \n",
      "4488                                  NaN          NaN          NaN   \n",
      "4489                                  NaN          NaN          NaN   \n",
      "4490                                  NaN          NaN          NaN   \n",
      "4491                                  NaN          NaN          NaN   \n",
      "4492                                  NaN          NaN          NaN   \n",
      "4493                                  NaN          NaN          NaN   \n",
      "4494                                  NaN          NaN          NaN   \n",
      "4495                                  NaN          NaN          NaN   \n",
      "4496                                  NaN          NaN          NaN   \n",
      "4497                                  NaN          NaN          NaN   \n",
      "4498                                  NaN          NaN          NaN   \n",
      "4499                                  NaN          NaN          NaN   \n",
      "4500                                  NaN          NaN          NaN   \n",
      "4501                                  NaN          NaN          NaN   \n",
      "4502                                  NaN          NaN          NaN   \n",
      "4503                                  NaN          NaN          NaN   \n",
      "4504                                  NaN          NaN          NaN   \n",
      "4505                                  NaN          NaN          NaN   \n",
      "4506                                  NaN          NaN          NaN   \n",
      "4507                                  NaN          NaN          NaN   \n",
      "4508                                  NaN          NaN          NaN   \n",
      "4509                                  NaN          NaN          NaN   \n",
      "4510                                  NaN          NaN          NaN   \n",
      "4511                                  NaN          NaN          NaN   \n",
      "\n",
      "            brief id (fromSGD) notes about QC QC results comments about QC  \\\n",
      "index_input                                                                  \n",
      "756                        NaN            NaN        NaN               NaN   \n",
      "757                        NaN            NaN        NaN               NaN   \n",
      "758                        NaN            NaN        NaN               NaN   \n",
      "759                        NaN            NaN        NaN               NaN   \n",
      "760                        NaN            NaN        NaN               NaN   \n",
      "761                        NaN            NaN        NaN               NaN   \n",
      "762                        NaN            NaN        NaN               NaN   \n",
      "763                        NaN            NaN        NaN               NaN   \n",
      "764                        NaN            NaN        NaN               NaN   \n",
      "765                        NaN            NaN        NaN               NaN   \n",
      "766                        NaN            NaN        NaN               NaN   \n",
      "767                        NaN            NaN        NaN               NaN   \n",
      "3200                       NaN            NaN        NaN               NaN   \n",
      "4485                       NaN            NaN        NaN               NaN   \n",
      "4486                       NaN            NaN        NaN               NaN   \n",
      "4487                       NaN            NaN        NaN               NaN   \n",
      "4488                       NaN            NaN        NaN               NaN   \n",
      "4489                       NaN            NaN        NaN               NaN   \n",
      "4490                       NaN            NaN        NaN               NaN   \n",
      "4491                       NaN            NaN        NaN               NaN   \n",
      "4492                       NaN            NaN        NaN               NaN   \n",
      "4493                       NaN            NaN        NaN               NaN   \n",
      "4494                       NaN            NaN        NaN               NaN   \n",
      "4495                       NaN            NaN        NaN               NaN   \n",
      "4496                       NaN            NaN        NaN               NaN   \n",
      "4497                       NaN            NaN        NaN               NaN   \n",
      "4498                       NaN            NaN        NaN               NaN   \n",
      "4499                       NaN            NaN        NaN               NaN   \n",
      "4500                       NaN            NaN        NaN               NaN   \n",
      "4501                       NaN            NaN        NaN               NaN   \n",
      "4502                       NaN            NaN        NaN               NaN   \n",
      "4503                       NaN            NaN        NaN               NaN   \n",
      "4504                       NaN            NaN        NaN               NaN   \n",
      "4505                       NaN            NaN        NaN               NaN   \n",
      "4506                       NaN            NaN        NaN               NaN   \n",
      "4507                       NaN            NaN        NaN               NaN   \n",
      "4508                       NaN            NaN        NaN               NaN   \n",
      "4509                       NaN            NaN        NaN               NaN   \n",
      "4510                       NaN            NaN        NaN               NaN   \n",
      "4511                       NaN            NaN        NaN               NaN   \n",
      "\n",
      "             orf  \n",
      "index_input       \n",
      "756          NAN  \n",
      "757          NAN  \n",
      "758          NAN  \n",
      "759          NAN  \n",
      "760          NAN  \n",
      "761          NAN  \n",
      "762          NAN  \n",
      "763          NAN  \n",
      "764          NAN  \n",
      "765          NAN  \n",
      "766          NAN  \n",
      "767          NAN  \n",
      "3200         NAN  \n",
      "4485         NAN  \n",
      "4486         NAN  \n",
      "4487         NAN  \n",
      "4488         NAN  \n",
      "4489         NAN  \n",
      "4490         NAN  \n",
      "4491         NAN  \n",
      "4492         NAN  \n",
      "4493         NAN  \n",
      "4494         NAN  \n",
      "4495         NAN  \n",
      "4496         NAN  \n",
      "4497         NAN  \n",
      "4498         NAN  \n",
      "4499         NAN  \n",
      "4500         NAN  \n",
      "4501         NAN  \n",
      "4502         NAN  \n",
      "4503         NAN  \n",
      "4504         NAN  \n",
      "4505         NAN  \n",
      "4506         NAN  \n",
      "4507         NAN  \n",
      "4508         NAN  \n",
      "4509         NAN  \n",
      "4510         NAN  \n",
      "4511         NAN  \n",
      "\n",
      "[40 rows x 21 columns]\n"
     ]
    }
   ],
   "source": [
    "# Make sure everything translated ok\n",
    "t = looks_like_orf(tested['orf'])\n",
    "print(tested.loc[~t,])"
   ]
  },
  {
   "cell_type": "code",
   "execution_count": 26,
   "metadata": {},
   "outputs": [],
   "source": [
    "tested = tested.loc[t,:]"
   ]
  },
  {
   "cell_type": "code",
   "execution_count": 27,
   "metadata": {},
   "outputs": [],
   "source": [
    "tested_orfs = tested['orf'].unique()"
   ]
  },
  {
   "cell_type": "code",
   "execution_count": 28,
   "metadata": {},
   "outputs": [
    {
     "data": {
      "text/plain": [
       "[]"
      ]
     },
     "execution_count": 28,
     "metadata": {},
     "output_type": "execute_result"
    }
   ],
   "source": [
    "missing = [orf for orf in original_data.index.values if orf not in tested_orfs]\n",
    "missing"
   ]
  },
  {
   "cell_type": "code",
   "execution_count": 29,
   "metadata": {},
   "outputs": [],
   "source": [
    "original_data = original_data.reindex(index=tested_orfs, fill_value=0)"
   ]
  },
  {
   "cell_type": "markdown",
   "metadata": {},
   "source": [
    "# Prepare the final dataset"
   ]
  },
  {
   "cell_type": "code",
   "execution_count": 30,
   "metadata": {},
   "outputs": [],
   "source": [
    "data = original_data.copy()"
   ]
  },
  {
   "cell_type": "code",
   "execution_count": 31,
   "metadata": {},
   "outputs": [],
   "source": [
    "dataset_ids = [15983]\n",
    "datasets = datasets.reindex(index=dataset_ids)"
   ]
  },
  {
   "cell_type": "code",
   "execution_count": 32,
   "metadata": {},
   "outputs": [],
   "source": [
    "lst = [datasets.index.values, ['value']*datasets.shape[0]]\n",
    "tuples = list(zip(*lst))\n",
    "idx = pd.MultiIndex.from_tuples(tuples, names=['dataset_id','data_type'])\n",
    "data.columns = idx"
   ]
  },
  {
   "cell_type": "code",
   "execution_count": 33,
   "metadata": {},
   "outputs": [
    {
     "data": {
      "text/html": [
       "<div>\n",
       "<style scoped>\n",
       "    .dataframe tbody tr th:only-of-type {\n",
       "        vertical-align: middle;\n",
       "    }\n",
       "\n",
       "    .dataframe tbody tr th {\n",
       "        vertical-align: top;\n",
       "    }\n",
       "\n",
       "    .dataframe thead tr th {\n",
       "        text-align: left;\n",
       "    }\n",
       "\n",
       "    .dataframe thead tr:last-of-type th {\n",
       "        text-align: right;\n",
       "    }\n",
       "</style>\n",
       "<table border=\"1\" class=\"dataframe\">\n",
       "  <thead>\n",
       "    <tr>\n",
       "      <th>dataset_id</th>\n",
       "      <th>15983</th>\n",
       "    </tr>\n",
       "    <tr>\n",
       "      <th>data_type</th>\n",
       "      <th>value</th>\n",
       "    </tr>\n",
       "    <tr>\n",
       "      <th>orf</th>\n",
       "      <th></th>\n",
       "    </tr>\n",
       "  </thead>\n",
       "  <tbody>\n",
       "    <tr>\n",
       "      <th>YAL068C</th>\n",
       "      <td>0.0</td>\n",
       "    </tr>\n",
       "    <tr>\n",
       "      <th>YAL067C</th>\n",
       "      <td>0.0</td>\n",
       "    </tr>\n",
       "    <tr>\n",
       "      <th>YAL066W</th>\n",
       "      <td>0.0</td>\n",
       "    </tr>\n",
       "    <tr>\n",
       "      <th>YAL065C</th>\n",
       "      <td>0.0</td>\n",
       "    </tr>\n",
       "    <tr>\n",
       "      <th>YAL062W</th>\n",
       "      <td>0.0</td>\n",
       "    </tr>\n",
       "  </tbody>\n",
       "</table>\n",
       "</div>"
      ],
      "text/plain": [
       "dataset_id 15983\n",
       "data_type  value\n",
       "orf             \n",
       "YAL068C      0.0\n",
       "YAL067C      0.0\n",
       "YAL066W      0.0\n",
       "YAL065C      0.0\n",
       "YAL062W      0.0"
      ]
     },
     "execution_count": 33,
     "metadata": {},
     "output_type": "execute_result"
    }
   ],
   "source": [
    "data.head()"
   ]
  },
  {
   "cell_type": "markdown",
   "metadata": {},
   "source": [
    "## Subset to the genes currently in SGD"
   ]
  },
  {
   "cell_type": "code",
   "execution_count": 34,
   "metadata": {},
   "outputs": [
    {
     "name": "stdout",
     "output_type": "stream",
     "text": [
      "ORFs missing from SGD: 22\n"
     ]
    }
   ],
   "source": [
    "genes = pd.read_csv(path_to_genes, sep='\\t', index_col='id')\n",
    "genes = genes.reset_index().set_index('systematic_name')\n",
    "gene_ids = genes.reindex(index=data.index.values)['id'].values\n",
    "num_missing = np.sum(np.isnan(gene_ids))\n",
    "print('ORFs missing from SGD: %d' % num_missing)"
   ]
  },
  {
   "cell_type": "code",
   "execution_count": 35,
   "metadata": {},
   "outputs": [
    {
     "data": {
      "text/html": [
       "<div>\n",
       "<style scoped>\n",
       "    .dataframe tbody tr th:only-of-type {\n",
       "        vertical-align: middle;\n",
       "    }\n",
       "\n",
       "    .dataframe tbody tr th {\n",
       "        vertical-align: top;\n",
       "    }\n",
       "\n",
       "    .dataframe thead tr th {\n",
       "        text-align: left;\n",
       "    }\n",
       "\n",
       "    .dataframe thead tr:last-of-type th {\n",
       "        text-align: right;\n",
       "    }\n",
       "</style>\n",
       "<table border=\"1\" class=\"dataframe\">\n",
       "  <thead>\n",
       "    <tr>\n",
       "      <th></th>\n",
       "      <th>dataset_id</th>\n",
       "      <th>15983</th>\n",
       "    </tr>\n",
       "    <tr>\n",
       "      <th></th>\n",
       "      <th>data_type</th>\n",
       "      <th>value</th>\n",
       "    </tr>\n",
       "    <tr>\n",
       "      <th>gene_id</th>\n",
       "      <th>orf</th>\n",
       "      <th></th>\n",
       "    </tr>\n",
       "  </thead>\n",
       "  <tbody>\n",
       "    <tr>\n",
       "      <th>1869</th>\n",
       "      <th>YAL068C</th>\n",
       "      <td>0.0</td>\n",
       "    </tr>\n",
       "    <tr>\n",
       "      <th>61</th>\n",
       "      <th>YAL067C</th>\n",
       "      <td>0.0</td>\n",
       "    </tr>\n",
       "    <tr>\n",
       "      <th>60</th>\n",
       "      <th>YAL066W</th>\n",
       "      <td>0.0</td>\n",
       "    </tr>\n",
       "    <tr>\n",
       "      <th>1727</th>\n",
       "      <th>YAL065C</th>\n",
       "      <td>0.0</td>\n",
       "    </tr>\n",
       "    <tr>\n",
       "      <th>57</th>\n",
       "      <th>YAL062W</th>\n",
       "      <td>0.0</td>\n",
       "    </tr>\n",
       "  </tbody>\n",
       "</table>\n",
       "</div>"
      ],
      "text/plain": [
       "dataset_id      15983\n",
       "data_type       value\n",
       "gene_id orf          \n",
       "1869    YAL068C   0.0\n",
       "61      YAL067C   0.0\n",
       "60      YAL066W   0.0\n",
       "1727    YAL065C   0.0\n",
       "57      YAL062W   0.0"
      ]
     },
     "execution_count": 35,
     "metadata": {},
     "output_type": "execute_result"
    }
   ],
   "source": [
    "data['gene_id'] = gene_ids\n",
    "data = data.loc[data['gene_id'].notnull()]\n",
    "data['gene_id'] = data['gene_id'].astype(int)\n",
    "data = data.reset_index().set_index(['gene_id','orf'])\n",
    "\n",
    "data.head()"
   ]
  },
  {
   "cell_type": "markdown",
   "metadata": {},
   "source": [
    "# Normalize"
   ]
  },
  {
   "cell_type": "code",
   "execution_count": 36,
   "metadata": {},
   "outputs": [],
   "source": [
    "data_norm = normalize_phenotypic_scores(data, has_tested=True)"
   ]
  },
  {
   "cell_type": "code",
   "execution_count": 37,
   "metadata": {},
   "outputs": [],
   "source": [
    "# Assign proper column names\n",
    "lst = [datasets.index.values, ['valuez']*datasets.shape[0]]\n",
    "tuples = list(zip(*lst))\n",
    "idx = pd.MultiIndex.from_tuples(tuples, names=['dataset_id','data_type'])\n",
    "data_norm.columns = idx"
   ]
  },
  {
   "cell_type": "code",
   "execution_count": 38,
   "metadata": {},
   "outputs": [
    {
     "data": {
      "text/html": [
       "<div>\n",
       "<style scoped>\n",
       "    .dataframe tbody tr th:only-of-type {\n",
       "        vertical-align: middle;\n",
       "    }\n",
       "\n",
       "    .dataframe tbody tr th {\n",
       "        vertical-align: top;\n",
       "    }\n",
       "\n",
       "    .dataframe thead tr th {\n",
       "        text-align: left;\n",
       "    }\n",
       "\n",
       "    .dataframe thead tr:last-of-type th {\n",
       "        text-align: right;\n",
       "    }\n",
       "</style>\n",
       "<table border=\"1\" class=\"dataframe\">\n",
       "  <thead>\n",
       "    <tr>\n",
       "      <th></th>\n",
       "      <th>dataset_id</th>\n",
       "      <th colspan=\"2\" halign=\"left\">15983</th>\n",
       "    </tr>\n",
       "    <tr>\n",
       "      <th></th>\n",
       "      <th>data_type</th>\n",
       "      <th>value</th>\n",
       "      <th>valuez</th>\n",
       "    </tr>\n",
       "    <tr>\n",
       "      <th>gene_id</th>\n",
       "      <th>orf</th>\n",
       "      <th></th>\n",
       "      <th></th>\n",
       "    </tr>\n",
       "  </thead>\n",
       "  <tbody>\n",
       "    <tr>\n",
       "      <th>1869</th>\n",
       "      <th>YAL068C</th>\n",
       "      <td>0.0</td>\n",
       "      <td>0.0</td>\n",
       "    </tr>\n",
       "    <tr>\n",
       "      <th>61</th>\n",
       "      <th>YAL067C</th>\n",
       "      <td>0.0</td>\n",
       "      <td>0.0</td>\n",
       "    </tr>\n",
       "    <tr>\n",
       "      <th>60</th>\n",
       "      <th>YAL066W</th>\n",
       "      <td>0.0</td>\n",
       "      <td>0.0</td>\n",
       "    </tr>\n",
       "    <tr>\n",
       "      <th>1727</th>\n",
       "      <th>YAL065C</th>\n",
       "      <td>0.0</td>\n",
       "      <td>0.0</td>\n",
       "    </tr>\n",
       "    <tr>\n",
       "      <th>57</th>\n",
       "      <th>YAL062W</th>\n",
       "      <td>0.0</td>\n",
       "      <td>0.0</td>\n",
       "    </tr>\n",
       "  </tbody>\n",
       "</table>\n",
       "</div>"
      ],
      "text/plain": [
       "dataset_id      15983       \n",
       "data_type       value valuez\n",
       "gene_id orf                 \n",
       "1869    YAL068C   0.0    0.0\n",
       "61      YAL067C   0.0    0.0\n",
       "60      YAL066W   0.0    0.0\n",
       "1727    YAL065C   0.0    0.0\n",
       "57      YAL062W   0.0    0.0"
      ]
     },
     "execution_count": 38,
     "metadata": {},
     "output_type": "execute_result"
    }
   ],
   "source": [
    "data_norm[data.isnull()] = np.nan\n",
    "data_all = data.join(data_norm)\n",
    "\n",
    "data_all.head()"
   ]
  },
  {
   "cell_type": "markdown",
   "metadata": {},
   "source": [
    "# Print out"
   ]
  },
  {
   "cell_type": "code",
   "execution_count": 39,
   "metadata": {},
   "outputs": [],
   "source": [
    "for f in ['value','valuez']:\n",
    "    df = data_all.xs(f, level='data_type', axis=1).copy()\n",
    "    df.columns = datasets['name'].values\n",
    "    df = df.droplevel('gene_id', axis=0)\n",
    "    df.to_csv(paper_name + '_' + f + '.txt', sep='\\t')"
   ]
  },
  {
   "cell_type": "markdown",
   "metadata": {},
   "source": [
    "# Save to DB"
   ]
  },
  {
   "cell_type": "code",
   "execution_count": 40,
   "metadata": {},
   "outputs": [],
   "source": [
    "from IO.save_data_to_db3 import *"
   ]
  },
  {
   "cell_type": "code",
   "execution_count": 41,
   "metadata": {},
   "outputs": [
    {
     "name": "stderr",
     "output_type": "stream",
     "text": [
      "  0%|          | 0/1 [00:00<?, ?it/s]"
     ]
    },
    {
     "name": "stdout",
     "output_type": "stream",
     "text": [
      "Deleting all datasets for PMID 20398213...\n",
      "Inserting the new data...\n"
     ]
    },
    {
     "name": "stderr",
     "output_type": "stream",
     "text": [
      "100%|██████████| 1/1 [00:08<00:00,  8.05s/it]"
     ]
    },
    {
     "name": "stdout",
     "output_type": "stream",
     "text": [
      "Updating the data_modified_on field...\n"
     ]
    },
    {
     "name": "stderr",
     "output_type": "stream",
     "text": [
      "\n"
     ]
    }
   ],
   "source": [
    "save_data_to_db(data_all, paper_pmid)"
   ]
  },
  {
   "cell_type": "code",
   "execution_count": null,
   "metadata": {},
   "outputs": [],
   "source": []
  }
 ],
 "metadata": {
  "kernelspec": {
   "display_name": "yp-data",
   "language": "python",
   "name": "yp-data"
  },
  "language_info": {
   "codemirror_mode": {
    "name": "ipython",
    "version": 3
   },
   "file_extension": ".py",
   "mimetype": "text/x-python",
   "name": "python",
   "nbconvert_exporter": "python",
   "pygments_lexer": "ipython3",
   "version": "3.7.7"
  }
 },
 "nbformat": 4,
 "nbformat_minor": 4
}
