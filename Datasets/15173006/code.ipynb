{
 "cells": [
  {
   "cell_type": "code",
   "execution_count": 1,
   "metadata": {},
   "outputs": [],
   "source": [
    "%run ../yp_utils.py"
   ]
  },
  {
   "cell_type": "markdown",
   "metadata": {},
   "source": [
    "# Initial setup"
   ]
  },
  {
   "cell_type": "code",
   "execution_count": 2,
   "metadata": {},
   "outputs": [],
   "source": [
    "paper_pmid = 15173006\n",
    "paper_name = 'wu_brown_2004' "
   ]
  },
  {
   "cell_type": "code",
   "execution_count": 3,
   "metadata": {},
   "outputs": [],
   "source": [
    "datasets = pd.read_csv('extras/YeastPhenome_' + str(paper_pmid) + '_datasets_list.txt', sep='\\t', header=None, names=['dataset_id', 'name'])"
   ]
  },
  {
   "cell_type": "code",
   "execution_count": 4,
   "metadata": {},
   "outputs": [],
   "source": [
    "datasets.set_index('dataset_id', inplace=True)"
   ]
  },
  {
   "cell_type": "markdown",
   "metadata": {},
   "source": [
    "# Load & process the data"
   ]
  },
  {
   "cell_type": "code",
   "execution_count": 5,
   "metadata": {},
   "outputs": [],
   "source": [
    "original_data = pd.read_csv('raw_data/inline-supplementary-material-1.txt', sep='\\t')"
   ]
  },
  {
   "cell_type": "code",
   "execution_count": 6,
   "metadata": {},
   "outputs": [
    {
     "name": "stdout",
     "output_type": "stream",
     "text": [
      "Original data dimensions: 4297 x 55\n"
     ]
    }
   ],
   "source": [
    "print('Original data dimensions: %d x %d' % (original_data.shape))"
   ]
  },
  {
   "cell_type": "code",
   "execution_count": 7,
   "metadata": {},
   "outputs": [
    {
     "data": {
      "text/html": [
       "<div>\n",
       "<style scoped>\n",
       "    .dataframe tbody tr th:only-of-type {\n",
       "        vertical-align: middle;\n",
       "    }\n",
       "\n",
       "    .dataframe tbody tr th {\n",
       "        vertical-align: top;\n",
       "    }\n",
       "\n",
       "    .dataframe thead th {\n",
       "        text-align: right;\n",
       "    }\n",
       "</style>\n",
       "<table border=\"1\" class=\"dataframe\">\n",
       "  <thead>\n",
       "    <tr style=\"text-align: right;\">\n",
       "      <th></th>\n",
       "      <th>20040824</th>\n",
       "      <th>NAME</th>\n",
       "      <th>WEIGHT</th>\n",
       "      <th>DESC</th>\n",
       "      <th>AAPO</th>\n",
       "      <th>YPD</th>\n",
       "      <th>Wort</th>\n",
       "      <th>RafA</th>\n",
       "      <th>Lova</th>\n",
       "      <th>HygB</th>\n",
       "      <th>...</th>\n",
       "      <th>SC</th>\n",
       "      <th>Sorb-5g</th>\n",
       "      <th>Sorb-15g</th>\n",
       "      <th>Thr</th>\n",
       "      <th>Tpt</th>\n",
       "      <th>TPZ</th>\n",
       "      <th>Trp</th>\n",
       "      <th>UVA</th>\n",
       "      <th>UVB</th>\n",
       "      <th>UVC</th>\n",
       "    </tr>\n",
       "  </thead>\n",
       "  <tbody>\n",
       "    <tr>\n",
       "      <th>0</th>\n",
       "      <td>YML095C</td>\n",
       "      <td>RAD10</td>\n",
       "      <td>1</td>\n",
       "      <td>removal of nonhomologous ends*</td>\n",
       "      <td>-0.480</td>\n",
       "      <td>0.014</td>\n",
       "      <td>-0.233</td>\n",
       "      <td>-0.137</td>\n",
       "      <td>0.035</td>\n",
       "      <td>0.063</td>\n",
       "      <td>...</td>\n",
       "      <td>-0.210</td>\n",
       "      <td>-0.085</td>\n",
       "      <td>-0.152</td>\n",
       "      <td>-0.211</td>\n",
       "      <td>-0.045</td>\n",
       "      <td>-1.540</td>\n",
       "      <td>-0.171</td>\n",
       "      <td>-0.248</td>\n",
       "      <td>-3.200</td>\n",
       "      <td>-3.082</td>\n",
       "    </tr>\n",
       "    <tr>\n",
       "      <th>1</th>\n",
       "      <td>YER162C</td>\n",
       "      <td>RAD4</td>\n",
       "      <td>1</td>\n",
       "      <td>nucleotide-excision repair, DNA damage recogni...</td>\n",
       "      <td>-0.091</td>\n",
       "      <td>0.047</td>\n",
       "      <td>-0.059</td>\n",
       "      <td>0.052</td>\n",
       "      <td>0.054</td>\n",
       "      <td>0.106</td>\n",
       "      <td>...</td>\n",
       "      <td>-0.220</td>\n",
       "      <td>-0.093</td>\n",
       "      <td>-0.042</td>\n",
       "      <td>-0.201</td>\n",
       "      <td>0.128</td>\n",
       "      <td>-1.301</td>\n",
       "      <td>-0.239</td>\n",
       "      <td>-0.230</td>\n",
       "      <td>-3.296</td>\n",
       "      <td>-3.205</td>\n",
       "    </tr>\n",
       "    <tr>\n",
       "      <th>2</th>\n",
       "      <td>YLR032W</td>\n",
       "      <td>RAD5</td>\n",
       "      <td>1</td>\n",
       "      <td>DNA repair</td>\n",
       "      <td>-0.134</td>\n",
       "      <td>-0.544</td>\n",
       "      <td>-0.105</td>\n",
       "      <td>0.047</td>\n",
       "      <td>0.117</td>\n",
       "      <td>-0.257</td>\n",
       "      <td>...</td>\n",
       "      <td>-0.039</td>\n",
       "      <td>0.327</td>\n",
       "      <td>0.388</td>\n",
       "      <td>0.233</td>\n",
       "      <td>-0.046</td>\n",
       "      <td>-1.182</td>\n",
       "      <td>-0.074</td>\n",
       "      <td>-0.332</td>\n",
       "      <td>-2.529</td>\n",
       "      <td>-2.556</td>\n",
       "    </tr>\n",
       "    <tr>\n",
       "      <th>3</th>\n",
       "      <td>YMR201C</td>\n",
       "      <td>RAD14</td>\n",
       "      <td>1</td>\n",
       "      <td>nucleotide-excision repair, DNA damage recogni...</td>\n",
       "      <td>-0.242</td>\n",
       "      <td>0.085</td>\n",
       "      <td>0.005</td>\n",
       "      <td>0.034</td>\n",
       "      <td>-0.078</td>\n",
       "      <td>-0.034</td>\n",
       "      <td>...</td>\n",
       "      <td>-0.234</td>\n",
       "      <td>-0.136</td>\n",
       "      <td>-0.224</td>\n",
       "      <td>-0.401</td>\n",
       "      <td>-0.208</td>\n",
       "      <td>-1.135</td>\n",
       "      <td>-0.220</td>\n",
       "      <td>0.178</td>\n",
       "      <td>-2.912</td>\n",
       "      <td>-2.762</td>\n",
       "    </tr>\n",
       "    <tr>\n",
       "      <th>4</th>\n",
       "      <td>YGR258C</td>\n",
       "      <td>RAD2</td>\n",
       "      <td>1</td>\n",
       "      <td>nucleotide-excision repair, DNA incision, 3'-t...</td>\n",
       "      <td>-0.044</td>\n",
       "      <td>0.016</td>\n",
       "      <td>0.080</td>\n",
       "      <td>-0.060</td>\n",
       "      <td>0.131</td>\n",
       "      <td>0.047</td>\n",
       "      <td>...</td>\n",
       "      <td>-0.115</td>\n",
       "      <td>-0.066</td>\n",
       "      <td>0.007</td>\n",
       "      <td>-0.089</td>\n",
       "      <td>0.087</td>\n",
       "      <td>-0.675</td>\n",
       "      <td>-0.100</td>\n",
       "      <td>-0.098</td>\n",
       "      <td>-3.555</td>\n",
       "      <td>-3.417</td>\n",
       "    </tr>\n",
       "  </tbody>\n",
       "</table>\n",
       "<p>5 rows × 55 columns</p>\n",
       "</div>"
      ],
      "text/plain": [
       "  20040824   NAME  WEIGHT                                               DESC  \\\n",
       "0  YML095C  RAD10       1                     removal of nonhomologous ends*   \n",
       "1  YER162C   RAD4       1  nucleotide-excision repair, DNA damage recogni...   \n",
       "2  YLR032W   RAD5       1                                         DNA repair   \n",
       "3  YMR201C  RAD14       1  nucleotide-excision repair, DNA damage recogni...   \n",
       "4  YGR258C   RAD2       1  nucleotide-excision repair, DNA incision, 3'-t...   \n",
       "\n",
       "    AAPO    YPD   Wort   RafA   Lova   HygB  ...     SC  Sorb-5g  Sorb-15g  \\\n",
       "0 -0.480  0.014 -0.233 -0.137  0.035  0.063  ... -0.210   -0.085    -0.152   \n",
       "1 -0.091  0.047 -0.059  0.052  0.054  0.106  ... -0.220   -0.093    -0.042   \n",
       "2 -0.134 -0.544 -0.105  0.047  0.117 -0.257  ... -0.039    0.327     0.388   \n",
       "3 -0.242  0.085  0.005  0.034 -0.078 -0.034  ... -0.234   -0.136    -0.224   \n",
       "4 -0.044  0.016  0.080 -0.060  0.131  0.047  ... -0.115   -0.066     0.007   \n",
       "\n",
       "     Thr    Tpt    TPZ    Trp    UVA    UVB    UVC  \n",
       "0 -0.211 -0.045 -1.540 -0.171 -0.248 -3.200 -3.082  \n",
       "1 -0.201  0.128 -1.301 -0.239 -0.230 -3.296 -3.205  \n",
       "2  0.233 -0.046 -1.182 -0.074 -0.332 -2.529 -2.556  \n",
       "3 -0.401 -0.208 -1.135 -0.220  0.178 -2.912 -2.762  \n",
       "4 -0.089  0.087 -0.675 -0.100 -0.098 -3.555 -3.417  \n",
       "\n",
       "[5 rows x 55 columns]"
      ]
     },
     "execution_count": 7,
     "metadata": {},
     "output_type": "execute_result"
    }
   ],
   "source": [
    "original_data.head()"
   ]
  },
  {
   "cell_type": "code",
   "execution_count": 8,
   "metadata": {},
   "outputs": [],
   "source": [
    "original_data['orf'] = original_data['20040824'].astype(str)"
   ]
  },
  {
   "cell_type": "code",
   "execution_count": 9,
   "metadata": {},
   "outputs": [],
   "source": [
    "# Eliminate all white spaces & capitalize\n",
    "original_data['orf'] = clean_orf(original_data['orf'])"
   ]
  },
  {
   "cell_type": "code",
   "execution_count": 10,
   "metadata": {},
   "outputs": [],
   "source": [
    "# Translate to ORFs \n",
    "original_data['orf'] = translate_sc(original_data['orf'], to='orf')"
   ]
  },
  {
   "cell_type": "code",
   "execution_count": 11,
   "metadata": {},
   "outputs": [
    {
     "name": "stdout",
     "output_type": "stream",
     "text": [
      "Empty DataFrame\n",
      "Columns: [20040824, NAME, WEIGHT, DESC, AAPO, YPD, Wort, RafA, Lova, HygB, GlyE, Calc, Caff, AntA, ActD, Alk-5g, Alk-15g, AraC, Arn, Ars, Ben, Bleo, Cis1, Cis4, CPTa, CPTc, Dox, Gal-5g, Gal-15g, H2O2, HU, Ida, IR, Lys, Mech, Mel, Min-5g, Min-15g, MMC, MMS, NaCl-5g, NaCl-15g, Nys-5g, Nys-15g, Oxa, SC, Sorb-5g, Sorb-15g, Thr, Tpt, TPZ, Trp, UVA, UVB, UVC, orf]\n",
      "Index: []\n",
      "\n",
      "[0 rows x 56 columns]\n"
     ]
    }
   ],
   "source": [
    "# Make sure everything translated ok\n",
    "t = looks_like_orf(original_data['orf'])\n",
    "print(original_data.loc[~t,])"
   ]
  },
  {
   "cell_type": "code",
   "execution_count": 12,
   "metadata": {},
   "outputs": [],
   "source": [
    "original_data.set_index('orf', inplace=True)"
   ]
  },
  {
   "cell_type": "code",
   "execution_count": 14,
   "metadata": {},
   "outputs": [],
   "source": [
    "original_data.drop(columns = ['20040824','NAME','WEIGHT','DESC'], inplace=True)"
   ]
  },
  {
   "cell_type": "code",
   "execution_count": 15,
   "metadata": {},
   "outputs": [],
   "source": [
    "original_data = original_data.apply(pd.to_numeric, axis=1, errors='coerce')"
   ]
  },
  {
   "cell_type": "code",
   "execution_count": 16,
   "metadata": {},
   "outputs": [],
   "source": [
    "original_data = original_data.groupby(original_data.index).mean()"
   ]
  },
  {
   "cell_type": "code",
   "execution_count": 17,
   "metadata": {},
   "outputs": [
    {
     "data": {
      "text/plain": [
       "(4258, 51)"
      ]
     },
     "execution_count": 17,
     "metadata": {},
     "output_type": "execute_result"
    }
   ],
   "source": [
    "original_data.shape"
   ]
  },
  {
   "cell_type": "code",
   "execution_count": 33,
   "metadata": {},
   "outputs": [],
   "source": [
    "original_data.columns = original_data.columns.str.upper()"
   ]
  },
  {
   "cell_type": "code",
   "execution_count": 34,
   "metadata": {},
   "outputs": [
    {
     "data": {
      "text/html": [
       "<div>\n",
       "<style scoped>\n",
       "    .dataframe tbody tr th:only-of-type {\n",
       "        vertical-align: middle;\n",
       "    }\n",
       "\n",
       "    .dataframe tbody tr th {\n",
       "        vertical-align: top;\n",
       "    }\n",
       "\n",
       "    .dataframe thead th {\n",
       "        text-align: right;\n",
       "    }\n",
       "</style>\n",
       "<table border=\"1\" class=\"dataframe\">\n",
       "  <thead>\n",
       "    <tr style=\"text-align: right;\">\n",
       "      <th></th>\n",
       "      <th>AAPO</th>\n",
       "      <th>YPD</th>\n",
       "      <th>WORT</th>\n",
       "      <th>RAFA</th>\n",
       "      <th>LOVA</th>\n",
       "      <th>HYGB</th>\n",
       "      <th>GLYE</th>\n",
       "      <th>CALC</th>\n",
       "      <th>CAFF</th>\n",
       "      <th>ANTA</th>\n",
       "      <th>...</th>\n",
       "      <th>SC</th>\n",
       "      <th>SORB-5G</th>\n",
       "      <th>SORB-15G</th>\n",
       "      <th>THR</th>\n",
       "      <th>TPT</th>\n",
       "      <th>TPZ</th>\n",
       "      <th>TRP</th>\n",
       "      <th>UVA</th>\n",
       "      <th>UVB</th>\n",
       "      <th>UVC</th>\n",
       "    </tr>\n",
       "    <tr>\n",
       "      <th>orf</th>\n",
       "      <th></th>\n",
       "      <th></th>\n",
       "      <th></th>\n",
       "      <th></th>\n",
       "      <th></th>\n",
       "      <th></th>\n",
       "      <th></th>\n",
       "      <th></th>\n",
       "      <th></th>\n",
       "      <th></th>\n",
       "      <th></th>\n",
       "      <th></th>\n",
       "      <th></th>\n",
       "      <th></th>\n",
       "      <th></th>\n",
       "      <th></th>\n",
       "      <th></th>\n",
       "      <th></th>\n",
       "      <th></th>\n",
       "      <th></th>\n",
       "      <th></th>\n",
       "    </tr>\n",
       "  </thead>\n",
       "  <tbody>\n",
       "    <tr>\n",
       "      <th>YAL002W</th>\n",
       "      <td>-1.347</td>\n",
       "      <td>-0.308</td>\n",
       "      <td>0.117</td>\n",
       "      <td>-0.425</td>\n",
       "      <td>-0.327</td>\n",
       "      <td>-1.672</td>\n",
       "      <td>-0.287</td>\n",
       "      <td>-1.268</td>\n",
       "      <td>-0.663</td>\n",
       "      <td>-0.001</td>\n",
       "      <td>...</td>\n",
       "      <td>0.190</td>\n",
       "      <td>0.500</td>\n",
       "      <td>0.391</td>\n",
       "      <td>0.058</td>\n",
       "      <td>-0.035</td>\n",
       "      <td>-0.920</td>\n",
       "      <td>0.409</td>\n",
       "      <td>-0.251</td>\n",
       "      <td>-0.013</td>\n",
       "      <td>0.106</td>\n",
       "    </tr>\n",
       "    <tr>\n",
       "      <th>YAL004W</th>\n",
       "      <td>-0.167</td>\n",
       "      <td>0.052</td>\n",
       "      <td>-0.102</td>\n",
       "      <td>-0.144</td>\n",
       "      <td>-0.144</td>\n",
       "      <td>-0.055</td>\n",
       "      <td>-0.003</td>\n",
       "      <td>0.110</td>\n",
       "      <td>0.079</td>\n",
       "      <td>0.205</td>\n",
       "      <td>...</td>\n",
       "      <td>0.139</td>\n",
       "      <td>0.139</td>\n",
       "      <td>0.119</td>\n",
       "      <td>0.161</td>\n",
       "      <td>-0.046</td>\n",
       "      <td>0.054</td>\n",
       "      <td>0.200</td>\n",
       "      <td>-0.063</td>\n",
       "      <td>-0.049</td>\n",
       "      <td>-0.028</td>\n",
       "    </tr>\n",
       "    <tr>\n",
       "      <th>YAL005C</th>\n",
       "      <td>-0.299</td>\n",
       "      <td>0.127</td>\n",
       "      <td>-0.073</td>\n",
       "      <td>-0.227</td>\n",
       "      <td>-0.203</td>\n",
       "      <td>-0.227</td>\n",
       "      <td>-0.076</td>\n",
       "      <td>-0.198</td>\n",
       "      <td>-0.175</td>\n",
       "      <td>0.112</td>\n",
       "      <td>...</td>\n",
       "      <td>-0.206</td>\n",
       "      <td>0.029</td>\n",
       "      <td>0.184</td>\n",
       "      <td>-0.203</td>\n",
       "      <td>-0.123</td>\n",
       "      <td>0.016</td>\n",
       "      <td>-0.057</td>\n",
       "      <td>0.212</td>\n",
       "      <td>-0.074</td>\n",
       "      <td>-0.055</td>\n",
       "    </tr>\n",
       "    <tr>\n",
       "      <th>YAL007C</th>\n",
       "      <td>-0.435</td>\n",
       "      <td>0.146</td>\n",
       "      <td>-0.137</td>\n",
       "      <td>-0.169</td>\n",
       "      <td>-0.194</td>\n",
       "      <td>-0.188</td>\n",
       "      <td>-0.076</td>\n",
       "      <td>-0.191</td>\n",
       "      <td>-0.234</td>\n",
       "      <td>0.117</td>\n",
       "      <td>...</td>\n",
       "      <td>-0.136</td>\n",
       "      <td>0.045</td>\n",
       "      <td>0.070</td>\n",
       "      <td>0.010</td>\n",
       "      <td>0.017</td>\n",
       "      <td>0.053</td>\n",
       "      <td>-0.003</td>\n",
       "      <td>0.002</td>\n",
       "      <td>-0.008</td>\n",
       "      <td>-0.018</td>\n",
       "    </tr>\n",
       "    <tr>\n",
       "      <th>YAL008W</th>\n",
       "      <td>-0.126</td>\n",
       "      <td>0.048</td>\n",
       "      <td>-0.007</td>\n",
       "      <td>-0.031</td>\n",
       "      <td>-0.329</td>\n",
       "      <td>-0.025</td>\n",
       "      <td>-0.242</td>\n",
       "      <td>-0.144</td>\n",
       "      <td>-0.155</td>\n",
       "      <td>-0.012</td>\n",
       "      <td>...</td>\n",
       "      <td>-0.171</td>\n",
       "      <td>0.044</td>\n",
       "      <td>0.267</td>\n",
       "      <td>-0.031</td>\n",
       "      <td>-0.104</td>\n",
       "      <td>0.031</td>\n",
       "      <td>-0.069</td>\n",
       "      <td>0.034</td>\n",
       "      <td>-0.034</td>\n",
       "      <td>-0.028</td>\n",
       "    </tr>\n",
       "  </tbody>\n",
       "</table>\n",
       "<p>5 rows × 51 columns</p>\n",
       "</div>"
      ],
      "text/plain": [
       "          AAPO    YPD   WORT   RAFA   LOVA   HYGB   GLYE   CALC   CAFF   ANTA  \\\n",
       "orf                                                                             \n",
       "YAL002W -1.347 -0.308  0.117 -0.425 -0.327 -1.672 -0.287 -1.268 -0.663 -0.001   \n",
       "YAL004W -0.167  0.052 -0.102 -0.144 -0.144 -0.055 -0.003  0.110  0.079  0.205   \n",
       "YAL005C -0.299  0.127 -0.073 -0.227 -0.203 -0.227 -0.076 -0.198 -0.175  0.112   \n",
       "YAL007C -0.435  0.146 -0.137 -0.169 -0.194 -0.188 -0.076 -0.191 -0.234  0.117   \n",
       "YAL008W -0.126  0.048 -0.007 -0.031 -0.329 -0.025 -0.242 -0.144 -0.155 -0.012   \n",
       "\n",
       "         ...     SC  SORB-5G  SORB-15G    THR    TPT    TPZ    TRP    UVA  \\\n",
       "orf      ...                                                                \n",
       "YAL002W  ...  0.190    0.500     0.391  0.058 -0.035 -0.920  0.409 -0.251   \n",
       "YAL004W  ...  0.139    0.139     0.119  0.161 -0.046  0.054  0.200 -0.063   \n",
       "YAL005C  ... -0.206    0.029     0.184 -0.203 -0.123  0.016 -0.057  0.212   \n",
       "YAL007C  ... -0.136    0.045     0.070  0.010  0.017  0.053 -0.003  0.002   \n",
       "YAL008W  ... -0.171    0.044     0.267 -0.031 -0.104  0.031 -0.069  0.034   \n",
       "\n",
       "           UVB    UVC  \n",
       "orf                    \n",
       "YAL002W -0.013  0.106  \n",
       "YAL004W -0.049 -0.028  \n",
       "YAL005C -0.074 -0.055  \n",
       "YAL007C -0.008 -0.018  \n",
       "YAL008W -0.034 -0.028  \n",
       "\n",
       "[5 rows x 51 columns]"
      ]
     },
     "execution_count": 34,
     "metadata": {},
     "output_type": "execute_result"
    }
   ],
   "source": [
    "original_data.head()"
   ]
  },
  {
   "cell_type": "markdown",
   "metadata": {},
   "source": [
    "# Load dataset ids"
   ]
  },
  {
   "cell_type": "code",
   "execution_count": 59,
   "metadata": {},
   "outputs": [],
   "source": [
    "dt = pd.read_csv('extras/dataset_id_name.txt', sep='\\t', header=None)"
   ]
  },
  {
   "cell_type": "code",
   "execution_count": 60,
   "metadata": {},
   "outputs": [],
   "source": [
    "dt[1] = dt[1].str.upper()"
   ]
  },
  {
   "cell_type": "code",
   "execution_count": 61,
   "metadata": {},
   "outputs": [],
   "source": [
    "original_data = original_data[dt[1].values]"
   ]
  },
  {
   "cell_type": "code",
   "execution_count": 62,
   "metadata": {},
   "outputs": [
    {
     "data": {
      "text/html": [
       "<div>\n",
       "<style scoped>\n",
       "    .dataframe tbody tr th:only-of-type {\n",
       "        vertical-align: middle;\n",
       "    }\n",
       "\n",
       "    .dataframe tbody tr th {\n",
       "        vertical-align: top;\n",
       "    }\n",
       "\n",
       "    .dataframe thead th {\n",
       "        text-align: right;\n",
       "    }\n",
       "</style>\n",
       "<table border=\"1\" class=\"dataframe\">\n",
       "  <thead>\n",
       "    <tr style=\"text-align: right;\">\n",
       "      <th></th>\n",
       "      <th>CIS1</th>\n",
       "      <th>OXA</th>\n",
       "      <th>MMC</th>\n",
       "      <th>CIS4</th>\n",
       "    </tr>\n",
       "    <tr>\n",
       "      <th>orf</th>\n",
       "      <th></th>\n",
       "      <th></th>\n",
       "      <th></th>\n",
       "      <th></th>\n",
       "    </tr>\n",
       "  </thead>\n",
       "  <tbody>\n",
       "    <tr>\n",
       "      <th>YAL002W</th>\n",
       "      <td>-0.188</td>\n",
       "      <td>-0.877</td>\n",
       "      <td>-0.032</td>\n",
       "      <td>-0.375</td>\n",
       "    </tr>\n",
       "    <tr>\n",
       "      <th>YAL004W</th>\n",
       "      <td>-0.022</td>\n",
       "      <td>-0.032</td>\n",
       "      <td>0.065</td>\n",
       "      <td>-0.112</td>\n",
       "    </tr>\n",
       "    <tr>\n",
       "      <th>YAL005C</th>\n",
       "      <td>-0.054</td>\n",
       "      <td>-0.043</td>\n",
       "      <td>-0.010</td>\n",
       "      <td>-0.067</td>\n",
       "    </tr>\n",
       "    <tr>\n",
       "      <th>YAL007C</th>\n",
       "      <td>-0.072</td>\n",
       "      <td>-0.049</td>\n",
       "      <td>-0.040</td>\n",
       "      <td>-0.077</td>\n",
       "    </tr>\n",
       "    <tr>\n",
       "      <th>YAL008W</th>\n",
       "      <td>-0.035</td>\n",
       "      <td>-0.121</td>\n",
       "      <td>-0.082</td>\n",
       "      <td>-0.141</td>\n",
       "    </tr>\n",
       "  </tbody>\n",
       "</table>\n",
       "</div>"
      ],
      "text/plain": [
       "          CIS1    OXA    MMC   CIS4\n",
       "orf                                \n",
       "YAL002W -0.188 -0.877 -0.032 -0.375\n",
       "YAL004W -0.022 -0.032  0.065 -0.112\n",
       "YAL005C -0.054 -0.043 -0.010 -0.067\n",
       "YAL007C -0.072 -0.049 -0.040 -0.077\n",
       "YAL008W -0.035 -0.121 -0.082 -0.141"
      ]
     },
     "execution_count": 62,
     "metadata": {},
     "output_type": "execute_result"
    }
   ],
   "source": [
    "original_data.head()"
   ]
  },
  {
   "cell_type": "code",
   "execution_count": 64,
   "metadata": {},
   "outputs": [],
   "source": [
    "dataset_ids = dt[0].values"
   ]
  },
  {
   "cell_type": "markdown",
   "metadata": {},
   "source": [
    "# Prepare the final dataset"
   ]
  },
  {
   "cell_type": "code",
   "execution_count": 65,
   "metadata": {},
   "outputs": [],
   "source": [
    "data = original_data.copy()"
   ]
  },
  {
   "cell_type": "code",
   "execution_count": 66,
   "metadata": {},
   "outputs": [],
   "source": [
    "datasets = datasets.reindex(index=dataset_ids)"
   ]
  },
  {
   "cell_type": "code",
   "execution_count": 67,
   "metadata": {},
   "outputs": [],
   "source": [
    "lst = [datasets.index.values, ['value']*datasets.shape[0]]\n",
    "tuples = list(zip(*lst))\n",
    "idx = pd.MultiIndex.from_tuples(tuples, names=['dataset_id','data_type'])\n",
    "data.columns = idx"
   ]
  },
  {
   "cell_type": "code",
   "execution_count": 68,
   "metadata": {},
   "outputs": [
    {
     "data": {
      "text/html": [
       "<div>\n",
       "<style scoped>\n",
       "    .dataframe tbody tr th:only-of-type {\n",
       "        vertical-align: middle;\n",
       "    }\n",
       "\n",
       "    .dataframe tbody tr th {\n",
       "        vertical-align: top;\n",
       "    }\n",
       "\n",
       "    .dataframe thead tr th {\n",
       "        text-align: left;\n",
       "    }\n",
       "\n",
       "    .dataframe thead tr:last-of-type th {\n",
       "        text-align: right;\n",
       "    }\n",
       "</style>\n",
       "<table border=\"1\" class=\"dataframe\">\n",
       "  <thead>\n",
       "    <tr>\n",
       "      <th>dataset_id</th>\n",
       "      <th>489</th>\n",
       "      <th>4749</th>\n",
       "      <th>4750</th>\n",
       "      <th>4754</th>\n",
       "    </tr>\n",
       "    <tr>\n",
       "      <th>data_type</th>\n",
       "      <th>value</th>\n",
       "      <th>value</th>\n",
       "      <th>value</th>\n",
       "      <th>value</th>\n",
       "    </tr>\n",
       "    <tr>\n",
       "      <th>orf</th>\n",
       "      <th></th>\n",
       "      <th></th>\n",
       "      <th></th>\n",
       "      <th></th>\n",
       "    </tr>\n",
       "  </thead>\n",
       "  <tbody>\n",
       "    <tr>\n",
       "      <th>YAL002W</th>\n",
       "      <td>-0.188</td>\n",
       "      <td>-0.877</td>\n",
       "      <td>-0.032</td>\n",
       "      <td>-0.375</td>\n",
       "    </tr>\n",
       "    <tr>\n",
       "      <th>YAL004W</th>\n",
       "      <td>-0.022</td>\n",
       "      <td>-0.032</td>\n",
       "      <td>0.065</td>\n",
       "      <td>-0.112</td>\n",
       "    </tr>\n",
       "    <tr>\n",
       "      <th>YAL005C</th>\n",
       "      <td>-0.054</td>\n",
       "      <td>-0.043</td>\n",
       "      <td>-0.010</td>\n",
       "      <td>-0.067</td>\n",
       "    </tr>\n",
       "    <tr>\n",
       "      <th>YAL007C</th>\n",
       "      <td>-0.072</td>\n",
       "      <td>-0.049</td>\n",
       "      <td>-0.040</td>\n",
       "      <td>-0.077</td>\n",
       "    </tr>\n",
       "    <tr>\n",
       "      <th>YAL008W</th>\n",
       "      <td>-0.035</td>\n",
       "      <td>-0.121</td>\n",
       "      <td>-0.082</td>\n",
       "      <td>-0.141</td>\n",
       "    </tr>\n",
       "  </tbody>\n",
       "</table>\n",
       "</div>"
      ],
      "text/plain": [
       "dataset_id   489    4749   4750   4754\n",
       "data_type   value  value  value  value\n",
       "orf                                   \n",
       "YAL002W    -0.188 -0.877 -0.032 -0.375\n",
       "YAL004W    -0.022 -0.032  0.065 -0.112\n",
       "YAL005C    -0.054 -0.043 -0.010 -0.067\n",
       "YAL007C    -0.072 -0.049 -0.040 -0.077\n",
       "YAL008W    -0.035 -0.121 -0.082 -0.141"
      ]
     },
     "execution_count": 68,
     "metadata": {},
     "output_type": "execute_result"
    }
   ],
   "source": [
    "data.head()"
   ]
  },
  {
   "cell_type": "markdown",
   "metadata": {},
   "source": [
    "## Subset to the genes currently in SGD"
   ]
  },
  {
   "cell_type": "code",
   "execution_count": 69,
   "metadata": {},
   "outputs": [
    {
     "name": "stdout",
     "output_type": "stream",
     "text": [
      "ORFs missing from SGD: 22\n"
     ]
    }
   ],
   "source": [
    "genes = pd.read_csv(path_to_genes, sep='\\t', index_col='id')\n",
    "genes = genes.reset_index().set_index('systematic_name')\n",
    "gene_ids = genes.reindex(index=data.index.values)['id'].values\n",
    "num_missing = np.sum(np.isnan(gene_ids))\n",
    "print('ORFs missing from SGD: %d' % num_missing)"
   ]
  },
  {
   "cell_type": "code",
   "execution_count": 70,
   "metadata": {},
   "outputs": [
    {
     "data": {
      "text/html": [
       "<div>\n",
       "<style scoped>\n",
       "    .dataframe tbody tr th:only-of-type {\n",
       "        vertical-align: middle;\n",
       "    }\n",
       "\n",
       "    .dataframe tbody tr th {\n",
       "        vertical-align: top;\n",
       "    }\n",
       "\n",
       "    .dataframe thead tr th {\n",
       "        text-align: left;\n",
       "    }\n",
       "\n",
       "    .dataframe thead tr:last-of-type th {\n",
       "        text-align: right;\n",
       "    }\n",
       "</style>\n",
       "<table border=\"1\" class=\"dataframe\">\n",
       "  <thead>\n",
       "    <tr>\n",
       "      <th></th>\n",
       "      <th>dataset_id</th>\n",
       "      <th>489</th>\n",
       "      <th>4749</th>\n",
       "      <th>4750</th>\n",
       "      <th>4754</th>\n",
       "    </tr>\n",
       "    <tr>\n",
       "      <th></th>\n",
       "      <th>data_type</th>\n",
       "      <th>value</th>\n",
       "      <th>value</th>\n",
       "      <th>value</th>\n",
       "      <th>value</th>\n",
       "    </tr>\n",
       "    <tr>\n",
       "      <th>gene_id</th>\n",
       "      <th>orf</th>\n",
       "      <th></th>\n",
       "      <th></th>\n",
       "      <th></th>\n",
       "      <th></th>\n",
       "    </tr>\n",
       "  </thead>\n",
       "  <tbody>\n",
       "    <tr>\n",
       "      <th>2</th>\n",
       "      <th>YAL002W</th>\n",
       "      <td>-0.188</td>\n",
       "      <td>-0.877</td>\n",
       "      <td>-0.032</td>\n",
       "      <td>-0.375</td>\n",
       "    </tr>\n",
       "    <tr>\n",
       "      <th>1863</th>\n",
       "      <th>YAL004W</th>\n",
       "      <td>-0.022</td>\n",
       "      <td>-0.032</td>\n",
       "      <td>0.065</td>\n",
       "      <td>-0.112</td>\n",
       "    </tr>\n",
       "    <tr>\n",
       "      <th>4</th>\n",
       "      <th>YAL005C</th>\n",
       "      <td>-0.054</td>\n",
       "      <td>-0.043</td>\n",
       "      <td>-0.010</td>\n",
       "      <td>-0.067</td>\n",
       "    </tr>\n",
       "    <tr>\n",
       "      <th>5</th>\n",
       "      <th>YAL007C</th>\n",
       "      <td>-0.072</td>\n",
       "      <td>-0.049</td>\n",
       "      <td>-0.040</td>\n",
       "      <td>-0.077</td>\n",
       "    </tr>\n",
       "    <tr>\n",
       "      <th>6</th>\n",
       "      <th>YAL008W</th>\n",
       "      <td>-0.035</td>\n",
       "      <td>-0.121</td>\n",
       "      <td>-0.082</td>\n",
       "      <td>-0.141</td>\n",
       "    </tr>\n",
       "  </tbody>\n",
       "</table>\n",
       "</div>"
      ],
      "text/plain": [
       "dataset_id        489    4749   4750   4754\n",
       "data_type        value  value  value  value\n",
       "gene_id orf                                \n",
       "2       YAL002W -0.188 -0.877 -0.032 -0.375\n",
       "1863    YAL004W -0.022 -0.032  0.065 -0.112\n",
       "4       YAL005C -0.054 -0.043 -0.010 -0.067\n",
       "5       YAL007C -0.072 -0.049 -0.040 -0.077\n",
       "6       YAL008W -0.035 -0.121 -0.082 -0.141"
      ]
     },
     "execution_count": 70,
     "metadata": {},
     "output_type": "execute_result"
    }
   ],
   "source": [
    "data['gene_id'] = gene_ids\n",
    "data = data.loc[data['gene_id'].notnull()]\n",
    "data['gene_id'] = data['gene_id'].astype(int)\n",
    "data = data.reset_index().set_index(['gene_id','orf'])\n",
    "\n",
    "data.head()"
   ]
  },
  {
   "cell_type": "markdown",
   "metadata": {},
   "source": [
    "# Normalize"
   ]
  },
  {
   "cell_type": "code",
   "execution_count": 71,
   "metadata": {},
   "outputs": [],
   "source": [
    "data_norm = normalize_phenotypic_scores(data, has_tested=True)"
   ]
  },
  {
   "cell_type": "code",
   "execution_count": 72,
   "metadata": {},
   "outputs": [],
   "source": [
    "# Assign proper column names\n",
    "lst = [datasets.index.values, ['valuez']*datasets.shape[0]]\n",
    "tuples = list(zip(*lst))\n",
    "idx = pd.MultiIndex.from_tuples(tuples, names=['dataset_id','data_type'])\n",
    "data_norm.columns = idx"
   ]
  },
  {
   "cell_type": "code",
   "execution_count": 73,
   "metadata": {},
   "outputs": [
    {
     "data": {
      "text/html": [
       "<div>\n",
       "<style scoped>\n",
       "    .dataframe tbody tr th:only-of-type {\n",
       "        vertical-align: middle;\n",
       "    }\n",
       "\n",
       "    .dataframe tbody tr th {\n",
       "        vertical-align: top;\n",
       "    }\n",
       "\n",
       "    .dataframe thead tr th {\n",
       "        text-align: left;\n",
       "    }\n",
       "\n",
       "    .dataframe thead tr:last-of-type th {\n",
       "        text-align: right;\n",
       "    }\n",
       "</style>\n",
       "<table border=\"1\" class=\"dataframe\">\n",
       "  <thead>\n",
       "    <tr>\n",
       "      <th></th>\n",
       "      <th>dataset_id</th>\n",
       "      <th>489</th>\n",
       "      <th>4749</th>\n",
       "      <th>4750</th>\n",
       "      <th>4754</th>\n",
       "      <th>489</th>\n",
       "      <th>4749</th>\n",
       "      <th>4750</th>\n",
       "      <th>4754</th>\n",
       "    </tr>\n",
       "    <tr>\n",
       "      <th></th>\n",
       "      <th>data_type</th>\n",
       "      <th>value</th>\n",
       "      <th>value</th>\n",
       "      <th>value</th>\n",
       "      <th>value</th>\n",
       "      <th>valuez</th>\n",
       "      <th>valuez</th>\n",
       "      <th>valuez</th>\n",
       "      <th>valuez</th>\n",
       "    </tr>\n",
       "    <tr>\n",
       "      <th>gene_id</th>\n",
       "      <th>orf</th>\n",
       "      <th></th>\n",
       "      <th></th>\n",
       "      <th></th>\n",
       "      <th></th>\n",
       "      <th></th>\n",
       "      <th></th>\n",
       "      <th></th>\n",
       "      <th></th>\n",
       "    </tr>\n",
       "  </thead>\n",
       "  <tbody>\n",
       "    <tr>\n",
       "      <th>2</th>\n",
       "      <th>YAL002W</th>\n",
       "      <td>-0.188</td>\n",
       "      <td>-0.877</td>\n",
       "      <td>-0.032</td>\n",
       "      <td>-0.375</td>\n",
       "      <td>-0.771768</td>\n",
       "      <td>-2.386752</td>\n",
       "      <td>-0.309212</td>\n",
       "      <td>-1.901084</td>\n",
       "    </tr>\n",
       "    <tr>\n",
       "      <th>1863</th>\n",
       "      <th>YAL004W</th>\n",
       "      <td>-0.022</td>\n",
       "      <td>-0.032</td>\n",
       "      <td>0.065</td>\n",
       "      <td>-0.112</td>\n",
       "      <td>-0.097164</td>\n",
       "      <td>-0.088147</td>\n",
       "      <td>0.529828</td>\n",
       "      <td>-0.568759</td>\n",
       "    </tr>\n",
       "    <tr>\n",
       "      <th>4</th>\n",
       "      <th>YAL005C</th>\n",
       "      <td>-0.054</td>\n",
       "      <td>-0.043</td>\n",
       "      <td>-0.010</td>\n",
       "      <td>-0.067</td>\n",
       "      <td>-0.227208</td>\n",
       "      <td>-0.118070</td>\n",
       "      <td>-0.118914</td>\n",
       "      <td>-0.340795</td>\n",
       "    </tr>\n",
       "    <tr>\n",
       "      <th>5</th>\n",
       "      <th>YAL007C</th>\n",
       "      <td>-0.072</td>\n",
       "      <td>-0.049</td>\n",
       "      <td>-0.040</td>\n",
       "      <td>-0.077</td>\n",
       "      <td>-0.300358</td>\n",
       "      <td>-0.134391</td>\n",
       "      <td>-0.378411</td>\n",
       "      <td>-0.391454</td>\n",
       "    </tr>\n",
       "    <tr>\n",
       "      <th>6</th>\n",
       "      <th>YAL008W</th>\n",
       "      <td>-0.035</td>\n",
       "      <td>-0.121</td>\n",
       "      <td>-0.082</td>\n",
       "      <td>-0.141</td>\n",
       "      <td>-0.149994</td>\n",
       "      <td>-0.330248</td>\n",
       "      <td>-0.741706</td>\n",
       "      <td>-0.715670</td>\n",
       "    </tr>\n",
       "  </tbody>\n",
       "</table>\n",
       "</div>"
      ],
      "text/plain": [
       "dataset_id        489    4749   4750   4754      489       4749      4750  \\\n",
       "data_type        value  value  value  value    valuez    valuez    valuez   \n",
       "gene_id orf                                                                 \n",
       "2       YAL002W -0.188 -0.877 -0.032 -0.375 -0.771768 -2.386752 -0.309212   \n",
       "1863    YAL004W -0.022 -0.032  0.065 -0.112 -0.097164 -0.088147  0.529828   \n",
       "4       YAL005C -0.054 -0.043 -0.010 -0.067 -0.227208 -0.118070 -0.118914   \n",
       "5       YAL007C -0.072 -0.049 -0.040 -0.077 -0.300358 -0.134391 -0.378411   \n",
       "6       YAL008W -0.035 -0.121 -0.082 -0.141 -0.149994 -0.330248 -0.741706   \n",
       "\n",
       "dataset_id           4754  \n",
       "data_type          valuez  \n",
       "gene_id orf                \n",
       "2       YAL002W -1.901084  \n",
       "1863    YAL004W -0.568759  \n",
       "4       YAL005C -0.340795  \n",
       "5       YAL007C -0.391454  \n",
       "6       YAL008W -0.715670  "
      ]
     },
     "execution_count": 73,
     "metadata": {},
     "output_type": "execute_result"
    }
   ],
   "source": [
    "data_norm[data.isnull()] = np.nan\n",
    "data_all = data.join(data_norm)\n",
    "\n",
    "data_all.head()"
   ]
  },
  {
   "cell_type": "markdown",
   "metadata": {},
   "source": [
    "# Print out"
   ]
  },
  {
   "cell_type": "code",
   "execution_count": 74,
   "metadata": {},
   "outputs": [],
   "source": [
    "for f in ['value','valuez']:\n",
    "    df = data_all.xs(f, level='data_type', axis=1).copy()\n",
    "    df.columns = datasets['name'].values\n",
    "    df = df.droplevel('gene_id', axis=0)\n",
    "    df.to_csv(paper_name + '_' + f + '.txt', sep='\\t')"
   ]
  },
  {
   "cell_type": "markdown",
   "metadata": {},
   "source": [
    "# Save to DB"
   ]
  },
  {
   "cell_type": "code",
   "execution_count": 75,
   "metadata": {},
   "outputs": [],
   "source": [
    "from IO.save_data_to_db3 import *"
   ]
  },
  {
   "cell_type": "code",
   "execution_count": 76,
   "metadata": {},
   "outputs": [
    {
     "name": "stderr",
     "output_type": "stream",
     "text": [
      "  0%|          | 0/4 [00:00<?, ?it/s]"
     ]
    },
    {
     "name": "stdout",
     "output_type": "stream",
     "text": [
      "Deleting all datasets for PMID 15173006...\n",
      "Inserting the new data...\n"
     ]
    },
    {
     "name": "stderr",
     "output_type": "stream",
     "text": [
      "100%|██████████| 4/4 [00:24<00:00,  6.03s/it]"
     ]
    },
    {
     "name": "stdout",
     "output_type": "stream",
     "text": [
      "Updating the data_modified_on field...\n"
     ]
    },
    {
     "name": "stderr",
     "output_type": "stream",
     "text": [
      "\n"
     ]
    }
   ],
   "source": [
    "save_data_to_db(data_all, paper_pmid)"
   ]
  },
  {
   "cell_type": "code",
   "execution_count": null,
   "metadata": {},
   "outputs": [],
   "source": []
  }
 ],
 "metadata": {
  "kernelspec": {
   "display_name": "yp-data",
   "language": "python",
   "name": "yp-data"
  },
  "language_info": {
   "codemirror_mode": {
    "name": "ipython",
    "version": 3
   },
   "file_extension": ".py",
   "mimetype": "text/x-python",
   "name": "python",
   "nbconvert_exporter": "python",
   "pygments_lexer": "ipython3",
   "version": "3.7.7"
  }
 },
 "nbformat": 4,
 "nbformat_minor": 4
}
