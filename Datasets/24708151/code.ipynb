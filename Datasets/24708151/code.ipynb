{
 "cells": [
  {
   "cell_type": "code",
   "execution_count": 1,
   "metadata": {},
   "outputs": [],
   "source": [
    "%run ../yp_utils.py"
   ]
  },
  {
   "cell_type": "markdown",
   "metadata": {},
   "source": [
    "# Initial setup"
   ]
  },
  {
   "cell_type": "code",
   "execution_count": 2,
   "metadata": {},
   "outputs": [],
   "source": [
    "paper_pmid = 24708151\n",
    "paper_name = 'schlecht_stonge_2014' "
   ]
  },
  {
   "cell_type": "code",
   "execution_count": 3,
   "metadata": {},
   "outputs": [],
   "source": [
    "datasets = pd.read_csv('extras/YeastPhenome_' + str(paper_pmid) + '_datasets_list.txt', sep='\\t', header=None, names=['dataset_id', 'name'])"
   ]
  },
  {
   "cell_type": "code",
   "execution_count": 4,
   "metadata": {},
   "outputs": [],
   "source": [
    "datasets.set_index('dataset_id', inplace=True)"
   ]
  },
  {
   "cell_type": "markdown",
   "metadata": {},
   "source": [
    "# Load & process the data"
   ]
  },
  {
   "cell_type": "code",
   "execution_count": 20,
   "metadata": {},
   "outputs": [],
   "source": [
    "original_data = pd.read_excel('raw_data/Table.S1.xlsx', sheet_name='Table S1')"
   ]
  },
  {
   "cell_type": "code",
   "execution_count": 21,
   "metadata": {},
   "outputs": [
    {
     "name": "stdout",
     "output_type": "stream",
     "text": [
      "Original data dimensions: 5050 x 17\n"
     ]
    }
   ],
   "source": [
    "print('Original data dimensions: %d x %d' % (original_data.shape))"
   ]
  },
  {
   "cell_type": "code",
   "execution_count": 22,
   "metadata": {},
   "outputs": [
    {
     "data": {
      "text/html": [
       "<div>\n",
       "<style scoped>\n",
       "    .dataframe tbody tr th:only-of-type {\n",
       "        vertical-align: middle;\n",
       "    }\n",
       "\n",
       "    .dataframe tbody tr th {\n",
       "        vertical-align: top;\n",
       "    }\n",
       "\n",
       "    .dataframe thead th {\n",
       "        text-align: right;\n",
       "    }\n",
       "</style>\n",
       "<table border=\"1\" class=\"dataframe\">\n",
       "  <thead>\n",
       "    <tr style=\"text-align: right;\">\n",
       "      <th></th>\n",
       "      <th>Identifier</th>\n",
       "      <th>Gene</th>\n",
       "      <th>ORF</th>\n",
       "      <th>HD</th>\n",
       "      <th>RD</th>\n",
       "      <th>ENH</th>\n",
       "      <th>DIM</th>\n",
       "      <th>YPD (CRS)</th>\n",
       "      <th>YPD (q-value)</th>\n",
       "      <th>YPE (CRS)</th>\n",
       "      <th>YPE (q-value)</th>\n",
       "      <th>YPG (CRS)</th>\n",
       "      <th>YPG (q-value)</th>\n",
       "      <th>YPL (CRS)</th>\n",
       "      <th>YPL (q-value)</th>\n",
       "      <th>YPE* (CRS)</th>\n",
       "      <th>YPE* (q-value)</th>\n",
       "    </tr>\n",
       "  </thead>\n",
       "  <tbody>\n",
       "    <tr>\n",
       "      <th>0</th>\n",
       "      <td>YAL002W::chr1_1</td>\n",
       "      <td>VPS8</td>\n",
       "      <td>YAL002W</td>\n",
       "      <td>Y</td>\n",
       "      <td>NaN</td>\n",
       "      <td>NaN</td>\n",
       "      <td>NaN</td>\n",
       "      <td>-0.209411</td>\n",
       "      <td>0.575205</td>\n",
       "      <td>-0.184952</td>\n",
       "      <td>0.486516</td>\n",
       "      <td>-0.319782</td>\n",
       "      <td>0.273658</td>\n",
       "      <td>-0.267636</td>\n",
       "      <td>0.385426</td>\n",
       "      <td>NaN</td>\n",
       "      <td>NaN</td>\n",
       "    </tr>\n",
       "    <tr>\n",
       "      <th>1</th>\n",
       "      <td>YAL004W::chr1_1</td>\n",
       "      <td>YAL004W</td>\n",
       "      <td>YAL004W</td>\n",
       "      <td>Y</td>\n",
       "      <td>NaN</td>\n",
       "      <td>NaN</td>\n",
       "      <td>NaN</td>\n",
       "      <td>-0.197994</td>\n",
       "      <td>0.451079</td>\n",
       "      <td>0.220628</td>\n",
       "      <td>0.190319</td>\n",
       "      <td>-0.049425</td>\n",
       "      <td>0.753078</td>\n",
       "      <td>0.020632</td>\n",
       "      <td>0.885515</td>\n",
       "      <td>NaN</td>\n",
       "      <td>NaN</td>\n",
       "    </tr>\n",
       "    <tr>\n",
       "      <th>2</th>\n",
       "      <td>YAL005C::chr1_1</td>\n",
       "      <td>SSA1</td>\n",
       "      <td>YAL005C</td>\n",
       "      <td>Y</td>\n",
       "      <td>NaN</td>\n",
       "      <td>NaN</td>\n",
       "      <td>NaN</td>\n",
       "      <td>0.019326</td>\n",
       "      <td>0.853493</td>\n",
       "      <td>0.091281</td>\n",
       "      <td>0.389141</td>\n",
       "      <td>0.086033</td>\n",
       "      <td>0.446926</td>\n",
       "      <td>-0.001708</td>\n",
       "      <td>0.982579</td>\n",
       "      <td>NaN</td>\n",
       "      <td>NaN</td>\n",
       "    </tr>\n",
       "    <tr>\n",
       "      <th>3</th>\n",
       "      <td>YAL007C::chr1_1</td>\n",
       "      <td>ERP2</td>\n",
       "      <td>YAL007C</td>\n",
       "      <td>Y</td>\n",
       "      <td>NaN</td>\n",
       "      <td>NaN</td>\n",
       "      <td>NaN</td>\n",
       "      <td>0.121335</td>\n",
       "      <td>0.493788</td>\n",
       "      <td>0.151073</td>\n",
       "      <td>0.198637</td>\n",
       "      <td>0.120506</td>\n",
       "      <td>0.332264</td>\n",
       "      <td>0.117534</td>\n",
       "      <td>0.368390</td>\n",
       "      <td>NaN</td>\n",
       "      <td>NaN</td>\n",
       "    </tr>\n",
       "    <tr>\n",
       "      <th>4</th>\n",
       "      <td>YAL008W::chr1_1</td>\n",
       "      <td>FUN14</td>\n",
       "      <td>YAL008W</td>\n",
       "      <td>Y</td>\n",
       "      <td>NaN</td>\n",
       "      <td>NaN</td>\n",
       "      <td>NaN</td>\n",
       "      <td>0.122860</td>\n",
       "      <td>0.643783</td>\n",
       "      <td>-0.177721</td>\n",
       "      <td>0.382949</td>\n",
       "      <td>0.195369</td>\n",
       "      <td>0.374872</td>\n",
       "      <td>-0.080636</td>\n",
       "      <td>0.702752</td>\n",
       "      <td>NaN</td>\n",
       "      <td>NaN</td>\n",
       "    </tr>\n",
       "  </tbody>\n",
       "</table>\n",
       "</div>"
      ],
      "text/plain": [
       "        Identifier     Gene      ORF HD   RD  ENH  DIM  YPD (CRS)  \\\n",
       "0  YAL002W::chr1_1     VPS8  YAL002W  Y  NaN  NaN  NaN  -0.209411   \n",
       "1  YAL004W::chr1_1  YAL004W  YAL004W  Y  NaN  NaN  NaN  -0.197994   \n",
       "2  YAL005C::chr1_1     SSA1  YAL005C  Y  NaN  NaN  NaN   0.019326   \n",
       "3  YAL007C::chr1_1     ERP2  YAL007C  Y  NaN  NaN  NaN   0.121335   \n",
       "4  YAL008W::chr1_1    FUN14  YAL008W  Y  NaN  NaN  NaN   0.122860   \n",
       "\n",
       "   YPD (q-value)  YPE (CRS)  YPE (q-value)  YPG (CRS)  YPG (q-value)  \\\n",
       "0       0.575205  -0.184952       0.486516  -0.319782       0.273658   \n",
       "1       0.451079   0.220628       0.190319  -0.049425       0.753078   \n",
       "2       0.853493   0.091281       0.389141   0.086033       0.446926   \n",
       "3       0.493788   0.151073       0.198637   0.120506       0.332264   \n",
       "4       0.643783  -0.177721       0.382949   0.195369       0.374872   \n",
       "\n",
       "   YPL (CRS)  YPL (q-value)  YPE* (CRS)  YPE* (q-value)  \n",
       "0  -0.267636       0.385426         NaN             NaN  \n",
       "1   0.020632       0.885515         NaN             NaN  \n",
       "2  -0.001708       0.982579         NaN             NaN  \n",
       "3   0.117534       0.368390         NaN             NaN  \n",
       "4  -0.080636       0.702752         NaN             NaN  "
      ]
     },
     "execution_count": 22,
     "metadata": {},
     "output_type": "execute_result"
    }
   ],
   "source": [
    "original_data.head()"
   ]
  },
  {
   "cell_type": "code",
   "execution_count": 23,
   "metadata": {},
   "outputs": [],
   "source": [
    "original_data['orf'] = original_data['ORF'].astype(str)"
   ]
  },
  {
   "cell_type": "code",
   "execution_count": 24,
   "metadata": {},
   "outputs": [],
   "source": [
    "# Eliminate all white spaces & capitalize\n",
    "original_data['orf'] = clean_orf(original_data['orf'])"
   ]
  },
  {
   "cell_type": "code",
   "execution_count": 25,
   "metadata": {},
   "outputs": [],
   "source": [
    "# Translate to ORFs \n",
    "original_data['orf'] = translate_sc(original_data['orf'], to='orf')"
   ]
  },
  {
   "cell_type": "code",
   "execution_count": 26,
   "metadata": {},
   "outputs": [
    {
     "name": "stdout",
     "output_type": "stream",
     "text": [
      "Empty DataFrame\n",
      "Columns: [Identifier, Gene, ORF, HD, RD, ENH, DIM, YPD (CRS), YPD (q-value), YPE (CRS), YPE (q-value), YPG (CRS), YPG (q-value), YPL (CRS), YPL (q-value), YPE* (CRS), YPE* (q-value), orf]\n",
      "Index: []\n"
     ]
    }
   ],
   "source": [
    "# Make sure everything translated ok\n",
    "t = looks_like_orf(original_data['orf'])\n",
    "print(original_data.loc[~t,])"
   ]
  },
  {
   "cell_type": "code",
   "execution_count": 27,
   "metadata": {},
   "outputs": [],
   "source": [
    "original_data.set_index('orf', inplace=True)"
   ]
  },
  {
   "cell_type": "code",
   "execution_count": 28,
   "metadata": {},
   "outputs": [],
   "source": [
    "data_cols = [c for c in original_data.columns.values if '(CRS)' in c and 'YPE*' not in c]"
   ]
  },
  {
   "cell_type": "code",
   "execution_count": 29,
   "metadata": {},
   "outputs": [
    {
     "data": {
      "text/plain": [
       "['YPD (CRS)', 'YPE (CRS)', 'YPG (CRS)', 'YPL (CRS)']"
      ]
     },
     "execution_count": 29,
     "metadata": {},
     "output_type": "execute_result"
    }
   ],
   "source": [
    "data_cols"
   ]
  },
  {
   "cell_type": "code",
   "execution_count": 30,
   "metadata": {},
   "outputs": [],
   "source": [
    "original_data = original_data[data_cols].copy()"
   ]
  },
  {
   "cell_type": "code",
   "execution_count": 31,
   "metadata": {},
   "outputs": [],
   "source": [
    "original_data = original_data.groupby(original_data.index).mean()"
   ]
  },
  {
   "cell_type": "code",
   "execution_count": 32,
   "metadata": {},
   "outputs": [
    {
     "data": {
      "text/plain": [
       "(4882, 4)"
      ]
     },
     "execution_count": 32,
     "metadata": {},
     "output_type": "execute_result"
    }
   ],
   "source": [
    "original_data.shape"
   ]
  },
  {
   "cell_type": "markdown",
   "metadata": {},
   "source": [
    "# Prepare the final dataset"
   ]
  },
  {
   "cell_type": "code",
   "execution_count": 34,
   "metadata": {},
   "outputs": [],
   "source": [
    "data = original_data.copy()"
   ]
  },
  {
   "cell_type": "code",
   "execution_count": 35,
   "metadata": {},
   "outputs": [],
   "source": [
    "dataset_ids = [692, 453, 690, 691]\n",
    "datasets = datasets.reindex(index=dataset_ids)"
   ]
  },
  {
   "cell_type": "code",
   "execution_count": 36,
   "metadata": {},
   "outputs": [],
   "source": [
    "lst = [datasets.index.values, ['value']*datasets.shape[0]]\n",
    "tuples = list(zip(*lst))\n",
    "idx = pd.MultiIndex.from_tuples(tuples, names=['dataset_id','data_type'])\n",
    "data.columns = idx"
   ]
  },
  {
   "cell_type": "code",
   "execution_count": 37,
   "metadata": {},
   "outputs": [
    {
     "data": {
      "text/html": [
       "<div>\n",
       "<style scoped>\n",
       "    .dataframe tbody tr th:only-of-type {\n",
       "        vertical-align: middle;\n",
       "    }\n",
       "\n",
       "    .dataframe tbody tr th {\n",
       "        vertical-align: top;\n",
       "    }\n",
       "\n",
       "    .dataframe thead tr th {\n",
       "        text-align: left;\n",
       "    }\n",
       "\n",
       "    .dataframe thead tr:last-of-type th {\n",
       "        text-align: right;\n",
       "    }\n",
       "</style>\n",
       "<table border=\"1\" class=\"dataframe\">\n",
       "  <thead>\n",
       "    <tr>\n",
       "      <th>dataset_id</th>\n",
       "      <th>692</th>\n",
       "      <th>453</th>\n",
       "      <th>690</th>\n",
       "      <th>691</th>\n",
       "    </tr>\n",
       "    <tr>\n",
       "      <th>data_type</th>\n",
       "      <th>value</th>\n",
       "      <th>value</th>\n",
       "      <th>value</th>\n",
       "      <th>value</th>\n",
       "    </tr>\n",
       "    <tr>\n",
       "      <th>orf</th>\n",
       "      <th></th>\n",
       "      <th></th>\n",
       "      <th></th>\n",
       "      <th></th>\n",
       "    </tr>\n",
       "  </thead>\n",
       "  <tbody>\n",
       "    <tr>\n",
       "      <th>YAL002W</th>\n",
       "      <td>-0.209411</td>\n",
       "      <td>-0.184952</td>\n",
       "      <td>-0.319782</td>\n",
       "      <td>-0.267636</td>\n",
       "    </tr>\n",
       "    <tr>\n",
       "      <th>YAL004W</th>\n",
       "      <td>-0.197994</td>\n",
       "      <td>0.220628</td>\n",
       "      <td>-0.049425</td>\n",
       "      <td>0.020632</td>\n",
       "    </tr>\n",
       "    <tr>\n",
       "      <th>YAL005C</th>\n",
       "      <td>0.019326</td>\n",
       "      <td>0.091281</td>\n",
       "      <td>0.086033</td>\n",
       "      <td>-0.001708</td>\n",
       "    </tr>\n",
       "    <tr>\n",
       "      <th>YAL007C</th>\n",
       "      <td>0.121335</td>\n",
       "      <td>0.151073</td>\n",
       "      <td>0.120506</td>\n",
       "      <td>0.117534</td>\n",
       "    </tr>\n",
       "    <tr>\n",
       "      <th>YAL008W</th>\n",
       "      <td>0.122860</td>\n",
       "      <td>-0.177721</td>\n",
       "      <td>0.195369</td>\n",
       "      <td>-0.080636</td>\n",
       "    </tr>\n",
       "  </tbody>\n",
       "</table>\n",
       "</div>"
      ],
      "text/plain": [
       "dataset_id       692       453       690       691\n",
       "data_type      value     value     value     value\n",
       "orf                                               \n",
       "YAL002W    -0.209411 -0.184952 -0.319782 -0.267636\n",
       "YAL004W    -0.197994  0.220628 -0.049425  0.020632\n",
       "YAL005C     0.019326  0.091281  0.086033 -0.001708\n",
       "YAL007C     0.121335  0.151073  0.120506  0.117534\n",
       "YAL008W     0.122860 -0.177721  0.195369 -0.080636"
      ]
     },
     "execution_count": 37,
     "metadata": {},
     "output_type": "execute_result"
    }
   ],
   "source": [
    "data.head()"
   ]
  },
  {
   "cell_type": "markdown",
   "metadata": {},
   "source": [
    "## Subset to the genes currently in SGD"
   ]
  },
  {
   "cell_type": "code",
   "execution_count": 38,
   "metadata": {},
   "outputs": [
    {
     "name": "stdout",
     "output_type": "stream",
     "text": [
      "ORFs missing from SGD: 22\n"
     ]
    }
   ],
   "source": [
    "genes = pd.read_csv(path_to_genes, sep='\\t', index_col='id')\n",
    "genes = genes.reset_index().set_index('systematic_name')\n",
    "gene_ids = genes.reindex(index=data.index.values)['id'].values\n",
    "num_missing = np.sum(np.isnan(gene_ids))\n",
    "print('ORFs missing from SGD: %d' % num_missing)"
   ]
  },
  {
   "cell_type": "code",
   "execution_count": 39,
   "metadata": {},
   "outputs": [
    {
     "data": {
      "text/html": [
       "<div>\n",
       "<style scoped>\n",
       "    .dataframe tbody tr th:only-of-type {\n",
       "        vertical-align: middle;\n",
       "    }\n",
       "\n",
       "    .dataframe tbody tr th {\n",
       "        vertical-align: top;\n",
       "    }\n",
       "\n",
       "    .dataframe thead tr th {\n",
       "        text-align: left;\n",
       "    }\n",
       "\n",
       "    .dataframe thead tr:last-of-type th {\n",
       "        text-align: right;\n",
       "    }\n",
       "</style>\n",
       "<table border=\"1\" class=\"dataframe\">\n",
       "  <thead>\n",
       "    <tr>\n",
       "      <th></th>\n",
       "      <th>dataset_id</th>\n",
       "      <th>692</th>\n",
       "      <th>453</th>\n",
       "      <th>690</th>\n",
       "      <th>691</th>\n",
       "    </tr>\n",
       "    <tr>\n",
       "      <th></th>\n",
       "      <th>data_type</th>\n",
       "      <th>value</th>\n",
       "      <th>value</th>\n",
       "      <th>value</th>\n",
       "      <th>value</th>\n",
       "    </tr>\n",
       "    <tr>\n",
       "      <th>gene_id</th>\n",
       "      <th>orf</th>\n",
       "      <th></th>\n",
       "      <th></th>\n",
       "      <th></th>\n",
       "      <th></th>\n",
       "    </tr>\n",
       "  </thead>\n",
       "  <tbody>\n",
       "    <tr>\n",
       "      <th>2</th>\n",
       "      <th>YAL002W</th>\n",
       "      <td>-0.209411</td>\n",
       "      <td>-0.184952</td>\n",
       "      <td>-0.319782</td>\n",
       "      <td>-0.267636</td>\n",
       "    </tr>\n",
       "    <tr>\n",
       "      <th>1863</th>\n",
       "      <th>YAL004W</th>\n",
       "      <td>-0.197994</td>\n",
       "      <td>0.220628</td>\n",
       "      <td>-0.049425</td>\n",
       "      <td>0.020632</td>\n",
       "    </tr>\n",
       "    <tr>\n",
       "      <th>4</th>\n",
       "      <th>YAL005C</th>\n",
       "      <td>0.019326</td>\n",
       "      <td>0.091281</td>\n",
       "      <td>0.086033</td>\n",
       "      <td>-0.001708</td>\n",
       "    </tr>\n",
       "    <tr>\n",
       "      <th>5</th>\n",
       "      <th>YAL007C</th>\n",
       "      <td>0.121335</td>\n",
       "      <td>0.151073</td>\n",
       "      <td>0.120506</td>\n",
       "      <td>0.117534</td>\n",
       "    </tr>\n",
       "    <tr>\n",
       "      <th>6</th>\n",
       "      <th>YAL008W</th>\n",
       "      <td>0.122860</td>\n",
       "      <td>-0.177721</td>\n",
       "      <td>0.195369</td>\n",
       "      <td>-0.080636</td>\n",
       "    </tr>\n",
       "  </tbody>\n",
       "</table>\n",
       "</div>"
      ],
      "text/plain": [
       "dataset_id            692       453       690       691\n",
       "data_type           value     value     value     value\n",
       "gene_id orf                                            \n",
       "2       YAL002W -0.209411 -0.184952 -0.319782 -0.267636\n",
       "1863    YAL004W -0.197994  0.220628 -0.049425  0.020632\n",
       "4       YAL005C  0.019326  0.091281  0.086033 -0.001708\n",
       "5       YAL007C  0.121335  0.151073  0.120506  0.117534\n",
       "6       YAL008W  0.122860 -0.177721  0.195369 -0.080636"
      ]
     },
     "execution_count": 39,
     "metadata": {},
     "output_type": "execute_result"
    }
   ],
   "source": [
    "data['gene_id'] = gene_ids\n",
    "data = data.loc[data['gene_id'].notnull()]\n",
    "data['gene_id'] = data['gene_id'].astype(int)\n",
    "data = data.reset_index().set_index(['gene_id','orf'])\n",
    "\n",
    "data.head()"
   ]
  },
  {
   "cell_type": "markdown",
   "metadata": {},
   "source": [
    "# Normalize"
   ]
  },
  {
   "cell_type": "code",
   "execution_count": 40,
   "metadata": {},
   "outputs": [],
   "source": [
    "data_norm = normalize_phenotypic_scores(data, has_tested=True)"
   ]
  },
  {
   "cell_type": "code",
   "execution_count": 41,
   "metadata": {},
   "outputs": [],
   "source": [
    "# Assign proper column names\n",
    "lst = [datasets.index.values, ['valuez']*datasets.shape[0]]\n",
    "tuples = list(zip(*lst))\n",
    "idx = pd.MultiIndex.from_tuples(tuples, names=['dataset_id','data_type'])\n",
    "data_norm.columns = idx"
   ]
  },
  {
   "cell_type": "code",
   "execution_count": 42,
   "metadata": {},
   "outputs": [
    {
     "data": {
      "text/html": [
       "<div>\n",
       "<style scoped>\n",
       "    .dataframe tbody tr th:only-of-type {\n",
       "        vertical-align: middle;\n",
       "    }\n",
       "\n",
       "    .dataframe tbody tr th {\n",
       "        vertical-align: top;\n",
       "    }\n",
       "\n",
       "    .dataframe thead tr th {\n",
       "        text-align: left;\n",
       "    }\n",
       "\n",
       "    .dataframe thead tr:last-of-type th {\n",
       "        text-align: right;\n",
       "    }\n",
       "</style>\n",
       "<table border=\"1\" class=\"dataframe\">\n",
       "  <thead>\n",
       "    <tr>\n",
       "      <th></th>\n",
       "      <th>dataset_id</th>\n",
       "      <th>692</th>\n",
       "      <th>453</th>\n",
       "      <th>690</th>\n",
       "      <th>691</th>\n",
       "      <th>692</th>\n",
       "      <th>453</th>\n",
       "      <th>690</th>\n",
       "      <th>691</th>\n",
       "    </tr>\n",
       "    <tr>\n",
       "      <th></th>\n",
       "      <th>data_type</th>\n",
       "      <th>value</th>\n",
       "      <th>value</th>\n",
       "      <th>value</th>\n",
       "      <th>value</th>\n",
       "      <th>valuez</th>\n",
       "      <th>valuez</th>\n",
       "      <th>valuez</th>\n",
       "      <th>valuez</th>\n",
       "    </tr>\n",
       "    <tr>\n",
       "      <th>gene_id</th>\n",
       "      <th>orf</th>\n",
       "      <th></th>\n",
       "      <th></th>\n",
       "      <th></th>\n",
       "      <th></th>\n",
       "      <th></th>\n",
       "      <th></th>\n",
       "      <th></th>\n",
       "      <th></th>\n",
       "    </tr>\n",
       "  </thead>\n",
       "  <tbody>\n",
       "    <tr>\n",
       "      <th>2</th>\n",
       "      <th>YAL002W</th>\n",
       "      <td>-0.209411</td>\n",
       "      <td>-0.184952</td>\n",
       "      <td>-0.319782</td>\n",
       "      <td>-0.267636</td>\n",
       "      <td>-0.858381</td>\n",
       "      <td>-0.495023</td>\n",
       "      <td>-0.771995</td>\n",
       "      <td>-0.508150</td>\n",
       "    </tr>\n",
       "    <tr>\n",
       "      <th>1863</th>\n",
       "      <th>YAL004W</th>\n",
       "      <td>-0.197994</td>\n",
       "      <td>0.220628</td>\n",
       "      <td>-0.049425</td>\n",
       "      <td>0.020632</td>\n",
       "      <td>-0.826809</td>\n",
       "      <td>0.297433</td>\n",
       "      <td>-0.214839</td>\n",
       "      <td>0.052529</td>\n",
       "    </tr>\n",
       "    <tr>\n",
       "      <th>4</th>\n",
       "      <th>YAL005C</th>\n",
       "      <td>0.019326</td>\n",
       "      <td>0.091281</td>\n",
       "      <td>0.086033</td>\n",
       "      <td>-0.001708</td>\n",
       "      <td>-0.225871</td>\n",
       "      <td>0.044702</td>\n",
       "      <td>0.064315</td>\n",
       "      <td>0.009077</td>\n",
       "    </tr>\n",
       "    <tr>\n",
       "      <th>5</th>\n",
       "      <th>YAL007C</th>\n",
       "      <td>0.121335</td>\n",
       "      <td>0.151073</td>\n",
       "      <td>0.120506</td>\n",
       "      <td>0.117534</td>\n",
       "      <td>0.056205</td>\n",
       "      <td>0.161529</td>\n",
       "      <td>0.135359</td>\n",
       "      <td>0.241002</td>\n",
       "    </tr>\n",
       "    <tr>\n",
       "      <th>6</th>\n",
       "      <th>YAL008W</th>\n",
       "      <td>0.122860</td>\n",
       "      <td>-0.177721</td>\n",
       "      <td>0.195369</td>\n",
       "      <td>-0.080636</td>\n",
       "      <td>0.060422</td>\n",
       "      <td>-0.480895</td>\n",
       "      <td>0.289637</td>\n",
       "      <td>-0.144437</td>\n",
       "    </tr>\n",
       "  </tbody>\n",
       "</table>\n",
       "</div>"
      ],
      "text/plain": [
       "dataset_id            692       453       690       691       692       453  \\\n",
       "data_type           value     value     value     value    valuez    valuez   \n",
       "gene_id orf                                                                   \n",
       "2       YAL002W -0.209411 -0.184952 -0.319782 -0.267636 -0.858381 -0.495023   \n",
       "1863    YAL004W -0.197994  0.220628 -0.049425  0.020632 -0.826809  0.297433   \n",
       "4       YAL005C  0.019326  0.091281  0.086033 -0.001708 -0.225871  0.044702   \n",
       "5       YAL007C  0.121335  0.151073  0.120506  0.117534  0.056205  0.161529   \n",
       "6       YAL008W  0.122860 -0.177721  0.195369 -0.080636  0.060422 -0.480895   \n",
       "\n",
       "dataset_id            690       691  \n",
       "data_type          valuez    valuez  \n",
       "gene_id orf                          \n",
       "2       YAL002W -0.771995 -0.508150  \n",
       "1863    YAL004W -0.214839  0.052529  \n",
       "4       YAL005C  0.064315  0.009077  \n",
       "5       YAL007C  0.135359  0.241002  \n",
       "6       YAL008W  0.289637 -0.144437  "
      ]
     },
     "execution_count": 42,
     "metadata": {},
     "output_type": "execute_result"
    }
   ],
   "source": [
    "data_norm[data.isnull()] = np.nan\n",
    "data_all = data.join(data_norm)\n",
    "\n",
    "data_all.head()"
   ]
  },
  {
   "cell_type": "markdown",
   "metadata": {},
   "source": [
    "# Print out"
   ]
  },
  {
   "cell_type": "code",
   "execution_count": 43,
   "metadata": {},
   "outputs": [],
   "source": [
    "for f in ['value','valuez']:\n",
    "    df = data_all.xs(f, level='data_type', axis=1).copy()\n",
    "    df.columns = datasets['name'].values\n",
    "    df = df.droplevel('gene_id', axis=0)\n",
    "    df.to_csv(paper_name + '_' + f + '.txt', sep='\\t')"
   ]
  },
  {
   "cell_type": "markdown",
   "metadata": {},
   "source": [
    "# Save to DB"
   ]
  },
  {
   "cell_type": "code",
   "execution_count": 44,
   "metadata": {},
   "outputs": [],
   "source": [
    "from IO.save_data_to_db3 import *"
   ]
  },
  {
   "cell_type": "code",
   "execution_count": 45,
   "metadata": {},
   "outputs": [
    {
     "name": "stderr",
     "output_type": "stream",
     "text": [
      "  0%|          | 0/4 [00:00<?, ?it/s]"
     ]
    },
    {
     "name": "stdout",
     "output_type": "stream",
     "text": [
      "Deleting all datasets for PMID 24708151...\n",
      "Inserting the new data...\n"
     ]
    },
    {
     "name": "stderr",
     "output_type": "stream",
     "text": [
      "100%|██████████| 4/4 [00:30<00:00,  7.61s/it]"
     ]
    },
    {
     "name": "stdout",
     "output_type": "stream",
     "text": [
      "Updating the data_modified_on field...\n"
     ]
    },
    {
     "name": "stderr",
     "output_type": "stream",
     "text": [
      "\n"
     ]
    }
   ],
   "source": [
    "save_data_to_db(data_all, paper_pmid)"
   ]
  },
  {
   "cell_type": "code",
   "execution_count": null,
   "metadata": {},
   "outputs": [],
   "source": []
  }
 ],
 "metadata": {
  "kernelspec": {
   "display_name": "yp-data",
   "language": "python",
   "name": "yp-data"
  },
  "language_info": {
   "codemirror_mode": {
    "name": "ipython",
    "version": 3
   },
   "file_extension": ".py",
   "mimetype": "text/x-python",
   "name": "python",
   "nbconvert_exporter": "python",
   "pygments_lexer": "ipython3",
   "version": "3.7.7"
  }
 },
 "nbformat": 4,
 "nbformat_minor": 4
}
