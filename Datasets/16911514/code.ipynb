{
 "cells": [
  {
   "cell_type": "code",
   "execution_count": 1,
   "metadata": {},
   "outputs": [],
   "source": [
    "%run ../../Utils/yp_utils.py"
   ]
  },
  {
   "cell_type": "markdown",
   "metadata": {},
   "source": [
    "# Initial setup"
   ]
  },
  {
   "cell_type": "code",
   "execution_count": 2,
   "metadata": {},
   "outputs": [],
   "source": [
    "paper_pmid = 16911514\n",
    "paper_name = 'kawahata_iefuji_2006' "
   ]
  },
  {
   "cell_type": "code",
   "execution_count": 3,
   "metadata": {},
   "outputs": [],
   "source": [
    "datasets = pd.read_csv('extras/YeastPhenome_' + str(paper_pmid) + '_datasets_list.txt', sep='\\t', header=None, names=['dataset_id', 'name'])"
   ]
  },
  {
   "cell_type": "code",
   "execution_count": 4,
   "metadata": {},
   "outputs": [],
   "source": [
    "datasets.set_index('dataset_id', inplace=True)"
   ]
  },
  {
   "cell_type": "markdown",
   "metadata": {},
   "source": [
    "# Load & process the data"
   ]
  },
  {
   "cell_type": "code",
   "execution_count": 42,
   "metadata": {},
   "outputs": [
    {
     "name": "stdout",
     "output_type": "stream",
     "text": [
      "Original data dimensions: 61 x 10\n",
      "                                            ORF name  Gene Lactic acid  \\\n",
      "0  A plus sign indicates that the gene deletion s...   NaN         NaN   \n",
      "1                                          Cell wall   NaN         NaN   \n",
      "2                                            YLR286C  CTS1           +   \n",
      "3                                            YHR143W  DSE2           +   \n",
      "4                                            YNL327W  EGT2           +   \n",
      "\n",
      "  Acetic acid Hydrochloric acid      ORF name.1 Gene.1 Lactic acid.1  \\\n",
      "0         NaN               NaN             NaN    NaN           NaN   \n",
      "1         NaN               NaN  Other function    NaN           NaN   \n",
      "2         NaN               NaN         YLR131C   ACE2             +   \n",
      "3         NaN               NaN         YPL078C   ATP4             +   \n",
      "4           +                 +         YJR092W   BUD4           NaN   \n",
      "\n",
      "  Acetic acid.1 Hydrochloric acid.1  \n",
      "0           NaN                 NaN  \n",
      "1           NaN                 NaN  \n",
      "2           NaN                   +  \n",
      "3             +                   +  \n",
      "4           NaN                   +  \n",
      "                                                  orf lactic acetic  \\\n",
      "0   APLUSSIGNINDICATESTHATTHEGENEDELETIONSTRAINHAS...    NaN    NaN   \n",
      "1                                            CELLWALL    NaN    NaN   \n",
      "8                            HISTONEACETYLTRANSFERASE    NaN    NaN   \n",
      "14                                  VACUOLARTRANSPORT    NaN    NaN   \n",
      "24                                        PROTEINFATE    NaN    NaN   \n",
      "44                     BIOGENESISOFCELLULARCOMPONENTS    NaN    NaN   \n",
      "54                                           CELLFATE    NaN    NaN   \n",
      "0                                                 NAN    NaN    NaN   \n",
      "1                                       OTHERFUNCTION    NaN    NaN   \n",
      "58                                                NAN    NaN    NaN   \n",
      "59                                                NAN    NaN    NaN   \n",
      "60                                                NAN    NaN    NaN   \n",
      "\n",
      "   hydrochloric  \n",
      "0           NaN  \n",
      "1           NaN  \n",
      "8           NaN  \n",
      "14          NaN  \n",
      "24          NaN  \n",
      "44          NaN  \n",
      "54          NaN  \n",
      "0           NaN  \n",
      "1           NaN  \n",
      "58          NaN  \n",
      "59          NaN  \n",
      "60          NaN  \n",
      "(109, 3)\n",
      "Original data dimensions: 181 x 10\n",
      "                                            ORF name  Gene Lactic acid  \\\n",
      "0  A dash indicates that the gene deletion strain...   NaN         NaN   \n",
      "1  Cellular transport, transport facilitation and...   NaN         NaN   \n",
      "2                                 Vacuolar transport   NaN         NaN   \n",
      "3                                            YBR164C  ARL1         NaN   \n",
      "4                                            YBR290W  BSD2         NaN   \n",
      "\n",
      "  Acetic acid Hydrochloric acid                                ORF name.1  \\\n",
      "0         NaN               NaN                                       NaN   \n",
      "1         NaN               NaN                                       NaN   \n",
      "2         NaN               NaN  Vesicular transport (Golgi network etc.)   \n",
      "3           -               NaN                                   YFL025C   \n",
      "4           -               NaN                                   YNL051W   \n",
      "\n",
      "  Gene.1 Lactic acid.1 Acetic acid.1 Hydrochloric acid.1  \n",
      "0    NaN           NaN           NaN                 NaN  \n",
      "1    NaN           NaN           NaN                 NaN  \n",
      "2    NaN           NaN           NaN                 NaN  \n",
      "3   BST1             -             -                   -  \n",
      "4   COG5             -           NaN                 NaN  \n",
      "                                                   orf lactic acetic  \\\n",
      "0    ADASHINDICATESTHATTHEGENEDELETIONSTRAINHASASEN...    NaN    NaN   \n",
      "1    CELLULARTRANSPORTTRANSPORTFACILITATIONANDTRANS...    NaN    NaN   \n",
      "2                                    VACUOLARTRANSPORT    NaN    NaN   \n",
      "45           PROTEINFATEFOLDINGMODIFICATIONDESTINATION    NaN    NaN   \n",
      "46                                 PROTEINMODIFICATION    NaN    NaN   \n",
      "66               INTERACTIONWITHTHECELLULARENVIRONMENT    NaN    NaN   \n",
      "67                                         OSMOSENSING    NaN    NaN   \n",
      "74                                    IONICHOMEOSTASIS    NaN    NaN   \n",
      "82                                          METABOLISM    NaN    NaN   \n",
      "83                                 AMINOACIDMETABOLISM    NaN    NaN   \n",
      "103              LIPIDFATTYACIDANDISOPRENOIDMETABOLISM    NaN    NaN   \n",
      "118                                      OTHERFUNCTION    NaN    NaN   \n",
      "0                                                  NAN    NaN    NaN   \n",
      "1                                                  NAN    NaN    NaN   \n",
      "2                    VESICULARTRANSPORTGOLGINETWORKETC    NaN    NaN   \n",
      "17                                        IONTRANSPORT    NaN    NaN   \n",
      "25                                               OTHER    NaN    NaN   \n",
      "43                                                 NAN    NaN    NaN   \n",
      "44                                                 NAN    NaN    NaN   \n",
      "45                                                 NAN    NaN    NaN   \n",
      "46                                                 NAN    NaN    NaN   \n",
      "66                                                 NAN    NaN    NaN   \n",
      "67                          CELLULARSENSINGANDRESPONSE    NaN    NaN   \n",
      "77                                                 NAN    NaN    NaN   \n",
      "78                                                 NAN    NaN    NaN   \n",
      "79                                                 NAN    NaN    NaN   \n",
      "80                                                 NAN    NaN    NaN   \n",
      "81                                                 NAN    NaN    NaN   \n",
      "82                                                 NAN    NaN    NaN   \n",
      "83                 C-COMPOUNDANDCARBOHYDRATEMETABOLISM    NaN    NaN   \n",
      "103                                                NAN    NaN    NaN   \n",
      "104                                                NAN    NaN    NaN   \n",
      "105                                                NAN    NaN    NaN   \n",
      "106                                                NAN    NaN    NaN   \n",
      "107                                                NAN    NaN    NaN   \n",
      "108                                                NAN    NaN    NaN   \n",
      "109                                                NAN    NaN    NaN   \n",
      "110                                                NAN    NaN    NaN   \n",
      "111                                                NAN    NaN    NaN   \n",
      "112                                                NAN    NaN    NaN   \n",
      "113                                                NAN    NaN    NaN   \n",
      "114                                                NAN    NaN    NaN   \n",
      "115                                                NAN    NaN    NaN   \n",
      "116                                                NAN    NaN    NaN   \n",
      "117                                                NAN    NaN    NaN   \n",
      "118                                                NAN    NaN    NaN   \n",
      "180                                                NAN    NaN    NaN   \n",
      "\n",
      "    hydrochloric  \n",
      "0            NaN  \n",
      "1            NaN  \n",
      "2            NaN  \n",
      "45           NaN  \n",
      "46           NaN  \n",
      "66           NaN  \n",
      "67           NaN  \n",
      "74           NaN  \n",
      "82           NaN  \n",
      "83           NaN  \n",
      "103          NaN  \n",
      "118          NaN  \n",
      "0            NaN  \n",
      "1            NaN  \n",
      "2            NaN  \n",
      "17           NaN  \n",
      "25           NaN  \n",
      "43           NaN  \n",
      "44           NaN  \n",
      "45           NaN  \n",
      "46           NaN  \n",
      "66           NaN  \n",
      "67           NaN  \n",
      "77           NaN  \n",
      "78           NaN  \n",
      "79           NaN  \n",
      "80           NaN  \n",
      "81           NaN  \n",
      "82           NaN  \n",
      "83           NaN  \n",
      "103          NaN  \n",
      "104          NaN  \n",
      "105          NaN  \n",
      "106          NaN  \n",
      "107          NaN  \n",
      "108          NaN  \n",
      "109          NaN  \n",
      "110          NaN  \n",
      "111          NaN  \n",
      "112          NaN  \n",
      "113          NaN  \n",
      "114          NaN  \n",
      "115          NaN  \n",
      "116          NaN  \n",
      "117          NaN  \n",
      "118          NaN  \n",
      "180          NaN  \n",
      "(315, 3)\n"
     ]
    }
   ],
   "source": [
    "sheets = ['Resistant','Sensitive']\n",
    "\n",
    "original_data_list = []\n",
    "for ixs, s in enumerate(sheets):\n",
    "    original_data = pd.read_excel('raw_data/hits.xlsx', sheet_name=s)\n",
    "    print('Original data dimensions: %d x %d' % (original_data.shape))\n",
    "    print(original_data.head())\n",
    "    \n",
    "    original_data1 = original_data.iloc[:,[0,2,3,4]].copy()\n",
    "    original_data1.columns = ['orf','lactic','acetic','hydrochloric']\n",
    "    \n",
    "    original_data2 = original_data.iloc[:,[5,7,8,9]].copy()\n",
    "    original_data2.columns = ['orf','lactic','acetic','hydrochloric']\n",
    "    \n",
    "    original_data = pd.concat([original_data1, original_data2], axis=0)\n",
    "    \n",
    "    original_data['orf'] = original_data['orf'].astype(str)\n",
    "    original_data['orf'] = clean_orf(original_data['orf'])\n",
    "    original_data['orf'] = translate_sc(original_data['orf'].values, to='orf')\n",
    "    \n",
    "    t = looks_like_orf(original_data['orf'])\n",
    "    print(original_data.loc[~t,])\n",
    "    \n",
    "    original_data = original_data.loc[t,:]\n",
    "    \n",
    "    original_data.set_index('orf', inplace=True)\n",
    "    \n",
    "    for c in original_data.columns:\n",
    "        original_data[c] = original_data[c].apply(lambda x: 0 if str(x) == 'nan' else np.power(-1, ixs) * len(x))\n",
    "    \n",
    "    original_data = original_data.groupby(original_data.index).mean()\n",
    "    print(original_data.shape)\n",
    "    \n",
    "    original_data_list.append(original_data)"
   ]
  },
  {
   "cell_type": "code",
   "execution_count": 43,
   "metadata": {},
   "outputs": [],
   "source": [
    "original_data = pd.concat(original_data_list, axis=1)"
   ]
  },
  {
   "cell_type": "code",
   "execution_count": 44,
   "metadata": {},
   "outputs": [
    {
     "data": {
      "text/plain": [
       "(420, 6)"
      ]
     },
     "execution_count": 44,
     "metadata": {},
     "output_type": "execute_result"
    }
   ],
   "source": [
    "original_data.shape"
   ]
  },
  {
   "cell_type": "code",
   "execution_count": 45,
   "metadata": {},
   "outputs": [],
   "source": [
    "original_data = original_data.groupby(original_data.index).mean()"
   ]
  },
  {
   "cell_type": "code",
   "execution_count": 46,
   "metadata": {},
   "outputs": [
    {
     "data": {
      "text/plain": [
       "(420, 6)"
      ]
     },
     "execution_count": 46,
     "metadata": {},
     "output_type": "execute_result"
    }
   ],
   "source": [
    "original_data.shape"
   ]
  },
  {
   "cell_type": "code",
   "execution_count": 47,
   "metadata": {},
   "outputs": [],
   "source": [
    "original_data.index.name = 'orf'"
   ]
  },
  {
   "cell_type": "code",
   "execution_count": 48,
   "metadata": {},
   "outputs": [],
   "source": [
    "original_data[original_data.isnull()] = 0"
   ]
  },
  {
   "cell_type": "code",
   "execution_count": 49,
   "metadata": {},
   "outputs": [
    {
     "data": {
      "text/html": [
       "<div>\n",
       "<style scoped>\n",
       "    .dataframe tbody tr th:only-of-type {\n",
       "        vertical-align: middle;\n",
       "    }\n",
       "\n",
       "    .dataframe tbody tr th {\n",
       "        vertical-align: top;\n",
       "    }\n",
       "\n",
       "    .dataframe thead th {\n",
       "        text-align: right;\n",
       "    }\n",
       "</style>\n",
       "<table border=\"1\" class=\"dataframe\">\n",
       "  <thead>\n",
       "    <tr style=\"text-align: right;\">\n",
       "      <th></th>\n",
       "      <th>lactic</th>\n",
       "      <th>acetic</th>\n",
       "      <th>hydrochloric</th>\n",
       "      <th>lactic</th>\n",
       "      <th>acetic</th>\n",
       "      <th>hydrochloric</th>\n",
       "    </tr>\n",
       "    <tr>\n",
       "      <th>orf</th>\n",
       "      <th></th>\n",
       "      <th></th>\n",
       "      <th></th>\n",
       "      <th></th>\n",
       "      <th></th>\n",
       "      <th></th>\n",
       "    </tr>\n",
       "  </thead>\n",
       "  <tbody>\n",
       "    <tr>\n",
       "      <th>YAL014C</th>\n",
       "      <td>1.0</td>\n",
       "      <td>0.0</td>\n",
       "      <td>1.0</td>\n",
       "      <td>0.0</td>\n",
       "      <td>0.0</td>\n",
       "      <td>0.0</td>\n",
       "    </tr>\n",
       "    <tr>\n",
       "      <th>YAL016W</th>\n",
       "      <td>0.0</td>\n",
       "      <td>0.0</td>\n",
       "      <td>0.0</td>\n",
       "      <td>0.0</td>\n",
       "      <td>-1.0</td>\n",
       "      <td>-1.0</td>\n",
       "    </tr>\n",
       "    <tr>\n",
       "      <th>YAL021C</th>\n",
       "      <td>0.0</td>\n",
       "      <td>0.0</td>\n",
       "      <td>0.0</td>\n",
       "      <td>0.0</td>\n",
       "      <td>-1.0</td>\n",
       "      <td>-1.0</td>\n",
       "    </tr>\n",
       "    <tr>\n",
       "      <th>YAL026C</th>\n",
       "      <td>0.0</td>\n",
       "      <td>0.0</td>\n",
       "      <td>0.0</td>\n",
       "      <td>-1.0</td>\n",
       "      <td>-1.0</td>\n",
       "      <td>-1.0</td>\n",
       "    </tr>\n",
       "    <tr>\n",
       "      <th>YAL031C</th>\n",
       "      <td>0.0</td>\n",
       "      <td>0.0</td>\n",
       "      <td>1.0</td>\n",
       "      <td>0.0</td>\n",
       "      <td>0.0</td>\n",
       "      <td>0.0</td>\n",
       "    </tr>\n",
       "  </tbody>\n",
       "</table>\n",
       "</div>"
      ],
      "text/plain": [
       "         lactic  acetic  hydrochloric  lactic  acetic  hydrochloric\n",
       "orf                                                                \n",
       "YAL014C     1.0     0.0           1.0     0.0     0.0           0.0\n",
       "YAL016W     0.0     0.0           0.0     0.0    -1.0          -1.0\n",
       "YAL021C     0.0     0.0           0.0     0.0    -1.0          -1.0\n",
       "YAL026C     0.0     0.0           0.0    -1.0    -1.0          -1.0\n",
       "YAL031C     0.0     0.0           1.0     0.0     0.0           0.0"
      ]
     },
     "execution_count": 49,
     "metadata": {},
     "output_type": "execute_result"
    }
   ],
   "source": [
    "original_data.head()"
   ]
  },
  {
   "cell_type": "markdown",
   "metadata": {},
   "source": [
    "# Prepare the final dataset"
   ]
  },
  {
   "cell_type": "code",
   "execution_count": 64,
   "metadata": {},
   "outputs": [],
   "source": [
    "data = original_data.copy()"
   ]
  },
  {
   "cell_type": "code",
   "execution_count": 65,
   "metadata": {},
   "outputs": [],
   "source": [
    "dataset_ids = [422, 420, 418, 177, 421, 419]\n",
    "datasets = datasets.reindex(index=dataset_ids)"
   ]
  },
  {
   "cell_type": "code",
   "execution_count": 66,
   "metadata": {},
   "outputs": [],
   "source": [
    "lst = [datasets.index.values, ['value']*datasets.shape[0]]\n",
    "tuples = list(zip(*lst))\n",
    "idx = pd.MultiIndex.from_tuples(tuples, names=['dataset_id','data_type'])\n",
    "data.columns = idx"
   ]
  },
  {
   "cell_type": "code",
   "execution_count": 67,
   "metadata": {},
   "outputs": [
    {
     "data": {
      "text/html": [
       "<div>\n",
       "<style scoped>\n",
       "    .dataframe tbody tr th:only-of-type {\n",
       "        vertical-align: middle;\n",
       "    }\n",
       "\n",
       "    .dataframe tbody tr th {\n",
       "        vertical-align: top;\n",
       "    }\n",
       "\n",
       "    .dataframe thead tr th {\n",
       "        text-align: left;\n",
       "    }\n",
       "\n",
       "    .dataframe thead tr:last-of-type th {\n",
       "        text-align: right;\n",
       "    }\n",
       "</style>\n",
       "<table border=\"1\" class=\"dataframe\">\n",
       "  <thead>\n",
       "    <tr>\n",
       "      <th>dataset_id</th>\n",
       "      <th>422</th>\n",
       "      <th>420</th>\n",
       "      <th>418</th>\n",
       "      <th>177</th>\n",
       "      <th>421</th>\n",
       "      <th>419</th>\n",
       "    </tr>\n",
       "    <tr>\n",
       "      <th>data_type</th>\n",
       "      <th>value</th>\n",
       "      <th>value</th>\n",
       "      <th>value</th>\n",
       "      <th>value</th>\n",
       "      <th>value</th>\n",
       "      <th>value</th>\n",
       "    </tr>\n",
       "    <tr>\n",
       "      <th>orf</th>\n",
       "      <th></th>\n",
       "      <th></th>\n",
       "      <th></th>\n",
       "      <th></th>\n",
       "      <th></th>\n",
       "      <th></th>\n",
       "    </tr>\n",
       "  </thead>\n",
       "  <tbody>\n",
       "    <tr>\n",
       "      <th>YAL014C</th>\n",
       "      <td>1.0</td>\n",
       "      <td>0.0</td>\n",
       "      <td>1.0</td>\n",
       "      <td>0.0</td>\n",
       "      <td>0.0</td>\n",
       "      <td>0.0</td>\n",
       "    </tr>\n",
       "    <tr>\n",
       "      <th>YAL016W</th>\n",
       "      <td>0.0</td>\n",
       "      <td>0.0</td>\n",
       "      <td>0.0</td>\n",
       "      <td>0.0</td>\n",
       "      <td>-1.0</td>\n",
       "      <td>-1.0</td>\n",
       "    </tr>\n",
       "    <tr>\n",
       "      <th>YAL021C</th>\n",
       "      <td>0.0</td>\n",
       "      <td>0.0</td>\n",
       "      <td>0.0</td>\n",
       "      <td>0.0</td>\n",
       "      <td>-1.0</td>\n",
       "      <td>-1.0</td>\n",
       "    </tr>\n",
       "    <tr>\n",
       "      <th>YAL026C</th>\n",
       "      <td>0.0</td>\n",
       "      <td>0.0</td>\n",
       "      <td>0.0</td>\n",
       "      <td>-1.0</td>\n",
       "      <td>-1.0</td>\n",
       "      <td>-1.0</td>\n",
       "    </tr>\n",
       "    <tr>\n",
       "      <th>YAL031C</th>\n",
       "      <td>0.0</td>\n",
       "      <td>0.0</td>\n",
       "      <td>1.0</td>\n",
       "      <td>0.0</td>\n",
       "      <td>0.0</td>\n",
       "      <td>0.0</td>\n",
       "    </tr>\n",
       "  </tbody>\n",
       "</table>\n",
       "</div>"
      ],
      "text/plain": [
       "dataset_id   422   420   418   177   421   419\n",
       "data_type  value value value value value value\n",
       "orf                                           \n",
       "YAL014C      1.0   0.0   1.0   0.0   0.0   0.0\n",
       "YAL016W      0.0   0.0   0.0   0.0  -1.0  -1.0\n",
       "YAL021C      0.0   0.0   0.0   0.0  -1.0  -1.0\n",
       "YAL026C      0.0   0.0   0.0  -1.0  -1.0  -1.0\n",
       "YAL031C      0.0   0.0   1.0   0.0   0.0   0.0"
      ]
     },
     "execution_count": 67,
     "metadata": {},
     "output_type": "execute_result"
    }
   ],
   "source": [
    "data.head()"
   ]
  },
  {
   "cell_type": "markdown",
   "metadata": {},
   "source": [
    "## Subset to the genes currently in SGD"
   ]
  },
  {
   "cell_type": "code",
   "execution_count": 68,
   "metadata": {},
   "outputs": [
    {
     "name": "stdout",
     "output_type": "stream",
     "text": [
      "ORFs missing from SGD: 0\n"
     ]
    }
   ],
   "source": [
    "genes = pd.read_csv(path_to_genes, sep='\\t', index_col='id')\n",
    "genes = genes.reset_index().set_index('systematic_name')\n",
    "gene_ids = genes.reindex(index=data.index.values)['id'].values\n",
    "num_missing = np.sum(np.isnan(gene_ids))\n",
    "print('ORFs missing from SGD: %d' % num_missing)"
   ]
  },
  {
   "cell_type": "code",
   "execution_count": 69,
   "metadata": {},
   "outputs": [
    {
     "data": {
      "text/html": [
       "<div>\n",
       "<style scoped>\n",
       "    .dataframe tbody tr th:only-of-type {\n",
       "        vertical-align: middle;\n",
       "    }\n",
       "\n",
       "    .dataframe tbody tr th {\n",
       "        vertical-align: top;\n",
       "    }\n",
       "\n",
       "    .dataframe thead tr th {\n",
       "        text-align: left;\n",
       "    }\n",
       "\n",
       "    .dataframe thead tr:last-of-type th {\n",
       "        text-align: right;\n",
       "    }\n",
       "</style>\n",
       "<table border=\"1\" class=\"dataframe\">\n",
       "  <thead>\n",
       "    <tr>\n",
       "      <th></th>\n",
       "      <th>dataset_id</th>\n",
       "      <th>422</th>\n",
       "      <th>420</th>\n",
       "      <th>418</th>\n",
       "      <th>177</th>\n",
       "      <th>421</th>\n",
       "      <th>419</th>\n",
       "    </tr>\n",
       "    <tr>\n",
       "      <th></th>\n",
       "      <th>data_type</th>\n",
       "      <th>value</th>\n",
       "      <th>value</th>\n",
       "      <th>value</th>\n",
       "      <th>value</th>\n",
       "      <th>value</th>\n",
       "      <th>value</th>\n",
       "    </tr>\n",
       "    <tr>\n",
       "      <th>gene_id</th>\n",
       "      <th>orf</th>\n",
       "      <th></th>\n",
       "      <th></th>\n",
       "      <th></th>\n",
       "      <th></th>\n",
       "      <th></th>\n",
       "      <th></th>\n",
       "    </tr>\n",
       "  </thead>\n",
       "  <tbody>\n",
       "    <tr>\n",
       "      <th>12</th>\n",
       "      <th>YAL014C</th>\n",
       "      <td>1.0</td>\n",
       "      <td>0.0</td>\n",
       "      <td>1.0</td>\n",
       "      <td>0.0</td>\n",
       "      <td>0.0</td>\n",
       "      <td>0.0</td>\n",
       "    </tr>\n",
       "    <tr>\n",
       "      <th>14</th>\n",
       "      <th>YAL016W</th>\n",
       "      <td>0.0</td>\n",
       "      <td>0.0</td>\n",
       "      <td>0.0</td>\n",
       "      <td>0.0</td>\n",
       "      <td>-1.0</td>\n",
       "      <td>-1.0</td>\n",
       "    </tr>\n",
       "    <tr>\n",
       "      <th>19</th>\n",
       "      <th>YAL021C</th>\n",
       "      <td>0.0</td>\n",
       "      <td>0.0</td>\n",
       "      <td>0.0</td>\n",
       "      <td>0.0</td>\n",
       "      <td>-1.0</td>\n",
       "      <td>-1.0</td>\n",
       "    </tr>\n",
       "    <tr>\n",
       "      <th>24</th>\n",
       "      <th>YAL026C</th>\n",
       "      <td>0.0</td>\n",
       "      <td>0.0</td>\n",
       "      <td>0.0</td>\n",
       "      <td>-1.0</td>\n",
       "      <td>-1.0</td>\n",
       "      <td>-1.0</td>\n",
       "    </tr>\n",
       "    <tr>\n",
       "      <th>29</th>\n",
       "      <th>YAL031C</th>\n",
       "      <td>0.0</td>\n",
       "      <td>0.0</td>\n",
       "      <td>1.0</td>\n",
       "      <td>0.0</td>\n",
       "      <td>0.0</td>\n",
       "      <td>0.0</td>\n",
       "    </tr>\n",
       "  </tbody>\n",
       "</table>\n",
       "</div>"
      ],
      "text/plain": [
       "dataset_id        422   420   418   177   421   419\n",
       "data_type       value value value value value value\n",
       "gene_id orf                                        \n",
       "12      YAL014C   1.0   0.0   1.0   0.0   0.0   0.0\n",
       "14      YAL016W   0.0   0.0   0.0   0.0  -1.0  -1.0\n",
       "19      YAL021C   0.0   0.0   0.0   0.0  -1.0  -1.0\n",
       "24      YAL026C   0.0   0.0   0.0  -1.0  -1.0  -1.0\n",
       "29      YAL031C   0.0   0.0   1.0   0.0   0.0   0.0"
      ]
     },
     "execution_count": 69,
     "metadata": {},
     "output_type": "execute_result"
    }
   ],
   "source": [
    "data['gene_id'] = gene_ids\n",
    "data = data.loc[data['gene_id'].notnull()]\n",
    "data['gene_id'] = data['gene_id'].astype(int)\n",
    "data = data.reset_index().set_index(['gene_id','orf'])\n",
    "\n",
    "data.head()"
   ]
  },
  {
   "cell_type": "markdown",
   "metadata": {},
   "source": [
    "# Normalize"
   ]
  },
  {
   "cell_type": "code",
   "execution_count": 70,
   "metadata": {},
   "outputs": [],
   "source": [
    "data_norm = normalize_phenotypic_scores(data, has_tested=False)"
   ]
  },
  {
   "cell_type": "code",
   "execution_count": 71,
   "metadata": {},
   "outputs": [],
   "source": [
    "# Assign proper column names\n",
    "lst = [datasets.index.values, ['valuez']*datasets.shape[0]]\n",
    "tuples = list(zip(*lst))\n",
    "idx = pd.MultiIndex.from_tuples(tuples, names=['dataset_id','data_type'])\n",
    "data_norm.columns = idx"
   ]
  },
  {
   "cell_type": "code",
   "execution_count": 72,
   "metadata": {},
   "outputs": [
    {
     "data": {
      "text/html": [
       "<div>\n",
       "<style scoped>\n",
       "    .dataframe tbody tr th:only-of-type {\n",
       "        vertical-align: middle;\n",
       "    }\n",
       "\n",
       "    .dataframe tbody tr th {\n",
       "        vertical-align: top;\n",
       "    }\n",
       "\n",
       "    .dataframe thead tr th {\n",
       "        text-align: left;\n",
       "    }\n",
       "\n",
       "    .dataframe thead tr:last-of-type th {\n",
       "        text-align: right;\n",
       "    }\n",
       "</style>\n",
       "<table border=\"1\" class=\"dataframe\">\n",
       "  <thead>\n",
       "    <tr>\n",
       "      <th></th>\n",
       "      <th>dataset_id</th>\n",
       "      <th>422</th>\n",
       "      <th>420</th>\n",
       "      <th>418</th>\n",
       "      <th>177</th>\n",
       "      <th>421</th>\n",
       "      <th>419</th>\n",
       "      <th>422</th>\n",
       "      <th>420</th>\n",
       "      <th>418</th>\n",
       "      <th>177</th>\n",
       "      <th>421</th>\n",
       "      <th>419</th>\n",
       "    </tr>\n",
       "    <tr>\n",
       "      <th></th>\n",
       "      <th>data_type</th>\n",
       "      <th>value</th>\n",
       "      <th>value</th>\n",
       "      <th>value</th>\n",
       "      <th>value</th>\n",
       "      <th>value</th>\n",
       "      <th>value</th>\n",
       "      <th>valuez</th>\n",
       "      <th>valuez</th>\n",
       "      <th>valuez</th>\n",
       "      <th>valuez</th>\n",
       "      <th>valuez</th>\n",
       "      <th>valuez</th>\n",
       "    </tr>\n",
       "    <tr>\n",
       "      <th>gene_id</th>\n",
       "      <th>orf</th>\n",
       "      <th></th>\n",
       "      <th></th>\n",
       "      <th></th>\n",
       "      <th></th>\n",
       "      <th></th>\n",
       "      <th></th>\n",
       "      <th></th>\n",
       "      <th></th>\n",
       "      <th></th>\n",
       "      <th></th>\n",
       "      <th></th>\n",
       "      <th></th>\n",
       "    </tr>\n",
       "  </thead>\n",
       "  <tbody>\n",
       "    <tr>\n",
       "      <th>12</th>\n",
       "      <th>YAL014C</th>\n",
       "      <td>1.0</td>\n",
       "      <td>0.0</td>\n",
       "      <td>1.0</td>\n",
       "      <td>0.0</td>\n",
       "      <td>0.0</td>\n",
       "      <td>0.0</td>\n",
       "      <td>9.981505</td>\n",
       "      <td>0.0</td>\n",
       "      <td>9.671123</td>\n",
       "      <td>0.000000</td>\n",
       "      <td>0.000000</td>\n",
       "      <td>0.000000</td>\n",
       "    </tr>\n",
       "    <tr>\n",
       "      <th>14</th>\n",
       "      <th>YAL016W</th>\n",
       "      <td>0.0</td>\n",
       "      <td>0.0</td>\n",
       "      <td>0.0</td>\n",
       "      <td>0.0</td>\n",
       "      <td>-1.0</td>\n",
       "      <td>-1.0</td>\n",
       "      <td>0.000000</td>\n",
       "      <td>0.0</td>\n",
       "      <td>0.000000</td>\n",
       "      <td>0.000000</td>\n",
       "      <td>-4.606256</td>\n",
       "      <td>-5.146973</td>\n",
       "    </tr>\n",
       "    <tr>\n",
       "      <th>19</th>\n",
       "      <th>YAL021C</th>\n",
       "      <td>0.0</td>\n",
       "      <td>0.0</td>\n",
       "      <td>0.0</td>\n",
       "      <td>0.0</td>\n",
       "      <td>-1.0</td>\n",
       "      <td>-1.0</td>\n",
       "      <td>0.000000</td>\n",
       "      <td>0.0</td>\n",
       "      <td>0.000000</td>\n",
       "      <td>0.000000</td>\n",
       "      <td>-4.606256</td>\n",
       "      <td>-5.146973</td>\n",
       "    </tr>\n",
       "    <tr>\n",
       "      <th>24</th>\n",
       "      <th>YAL026C</th>\n",
       "      <td>0.0</td>\n",
       "      <td>0.0</td>\n",
       "      <td>0.0</td>\n",
       "      <td>-1.0</td>\n",
       "      <td>-1.0</td>\n",
       "      <td>-1.0</td>\n",
       "      <td>0.000000</td>\n",
       "      <td>0.0</td>\n",
       "      <td>0.000000</td>\n",
       "      <td>-5.983702</td>\n",
       "      <td>-4.606256</td>\n",
       "      <td>-5.146973</td>\n",
       "    </tr>\n",
       "    <tr>\n",
       "      <th>29</th>\n",
       "      <th>YAL031C</th>\n",
       "      <td>0.0</td>\n",
       "      <td>0.0</td>\n",
       "      <td>1.0</td>\n",
       "      <td>0.0</td>\n",
       "      <td>0.0</td>\n",
       "      <td>0.0</td>\n",
       "      <td>0.000000</td>\n",
       "      <td>0.0</td>\n",
       "      <td>9.671123</td>\n",
       "      <td>0.000000</td>\n",
       "      <td>0.000000</td>\n",
       "      <td>0.000000</td>\n",
       "    </tr>\n",
       "  </tbody>\n",
       "</table>\n",
       "</div>"
      ],
      "text/plain": [
       "dataset_id        422   420   418   177   421   419       422    420  \\\n",
       "data_type       value value value value value value    valuez valuez   \n",
       "gene_id orf                                                            \n",
       "12      YAL014C   1.0   0.0   1.0   0.0   0.0   0.0  9.981505    0.0   \n",
       "14      YAL016W   0.0   0.0   0.0   0.0  -1.0  -1.0  0.000000    0.0   \n",
       "19      YAL021C   0.0   0.0   0.0   0.0  -1.0  -1.0  0.000000    0.0   \n",
       "24      YAL026C   0.0   0.0   0.0  -1.0  -1.0  -1.0  0.000000    0.0   \n",
       "29      YAL031C   0.0   0.0   1.0   0.0   0.0   0.0  0.000000    0.0   \n",
       "\n",
       "dataset_id            418       177       421       419  \n",
       "data_type          valuez    valuez    valuez    valuez  \n",
       "gene_id orf                                              \n",
       "12      YAL014C  9.671123  0.000000  0.000000  0.000000  \n",
       "14      YAL016W  0.000000  0.000000 -4.606256 -5.146973  \n",
       "19      YAL021C  0.000000  0.000000 -4.606256 -5.146973  \n",
       "24      YAL026C  0.000000 -5.983702 -4.606256 -5.146973  \n",
       "29      YAL031C  9.671123  0.000000  0.000000  0.000000  "
      ]
     },
     "execution_count": 72,
     "metadata": {},
     "output_type": "execute_result"
    }
   ],
   "source": [
    "data_norm[data.isnull()] = np.nan\n",
    "data_all = data.join(data_norm)\n",
    "\n",
    "data_all.head()"
   ]
  },
  {
   "cell_type": "markdown",
   "metadata": {},
   "source": [
    "# Print out"
   ]
  },
  {
   "cell_type": "code",
   "execution_count": 73,
   "metadata": {},
   "outputs": [],
   "source": [
    "for f in ['value','valuez']:\n",
    "    df = data_all.xs(f, level='data_type', axis=1).copy()\n",
    "    df.columns = datasets['name'].values\n",
    "    df = df.droplevel('gene_id', axis=0)\n",
    "    df.to_csv(paper_name + '_' + f + '.txt', sep='\\t')"
   ]
  },
  {
   "cell_type": "markdown",
   "metadata": {},
   "source": [
    "# Save to DB"
   ]
  },
  {
   "cell_type": "code",
   "execution_count": 74,
   "metadata": {},
   "outputs": [],
   "source": [
    "from IO.save_data_to_db3 import *"
   ]
  },
  {
   "cell_type": "code",
   "execution_count": 75,
   "metadata": {},
   "outputs": [
    {
     "name": "stderr",
     "output_type": "stream",
     "text": [
      "  0%|          | 0/6 [00:00<?, ?it/s]"
     ]
    },
    {
     "name": "stdout",
     "output_type": "stream",
     "text": [
      "Deleting all datasets for PMID 16911514...\n",
      "Inserting the new data...\n"
     ]
    },
    {
     "name": "stderr",
     "output_type": "stream",
     "text": [
      "100%|██████████| 6/6 [00:04<00:00,  1.47it/s]"
     ]
    },
    {
     "name": "stdout",
     "output_type": "stream",
     "text": [
      "Updating the data_modified_on field...\n"
     ]
    },
    {
     "name": "stderr",
     "output_type": "stream",
     "text": [
      "\n"
     ]
    }
   ],
   "source": [
    "save_data_to_db(data_all, paper_pmid)"
   ]
  },
  {
   "cell_type": "code",
   "execution_count": null,
   "metadata": {},
   "outputs": [],
   "source": []
  }
 ],
 "metadata": {
  "kernelspec": {
   "display_name": "yp-data",
   "language": "python",
   "name": "yp-data"
  },
  "language_info": {
   "codemirror_mode": {
    "name": "ipython",
    "version": 3
   },
   "file_extension": ".py",
   "mimetype": "text/x-python",
   "name": "python",
   "nbconvert_exporter": "python",
   "pygments_lexer": "ipython3",
   "version": "3.7.7"
  }
 },
 "nbformat": 4,
 "nbformat_minor": 4
}
