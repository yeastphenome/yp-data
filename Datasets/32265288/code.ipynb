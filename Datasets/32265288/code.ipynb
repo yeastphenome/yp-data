{
 "cells": [
  {
   "cell_type": "code",
   "execution_count": 1,
   "metadata": {},
   "outputs": [],
   "source": [
    "import numpy as np\n",
    "import pandas as pd\n",
    "\n",
    "import sys\n",
    "import regex\n",
    "\n",
    "from os.path import expanduser\n",
    "sys.path.append(expanduser('~') + '/Lab/Utils/Python/')\n",
    "\n",
    "from Conversions.translate import *\n",
    "from Strings.is_a import *"
   ]
  },
  {
   "cell_type": "markdown",
   "metadata": {},
   "source": [
    "# Initial setup"
   ]
  },
  {
   "cell_type": "code",
   "execution_count": 2,
   "metadata": {},
   "outputs": [],
   "source": [
    "paper_pmid = 32265288\n",
    "paper_name = 'novarina_chang_2020' "
   ]
  },
  {
   "cell_type": "code",
   "execution_count": 3,
   "metadata": {},
   "outputs": [],
   "source": [
    "datasets = pd.read_csv('extras/YeastPhenome_' + str(paper_pmid) + '_datasets_list.txt', sep='\\t', header=None, names=['pmid', 'name'])"
   ]
  },
  {
   "cell_type": "code",
   "execution_count": 4,
   "metadata": {},
   "outputs": [],
   "source": [
    "datasets.set_index('pmid', inplace=True)"
   ]
  },
  {
   "cell_type": "markdown",
   "metadata": {},
   "source": [
    "# Load & process the data"
   ]
  },
  {
   "cell_type": "code",
   "execution_count": 5,
   "metadata": {},
   "outputs": [],
   "source": [
    "original_data1 = pd.read_excel('raw_data/Supp_Tables_v4.xlsx', sheet_name='Table S2', skiprows=2)\n",
    "original_data2 = pd.read_excel('raw_data/Supp_Tables_v4.xlsx', sheet_name='Table S4', skiprows=2)"
   ]
  },
  {
   "cell_type": "code",
   "execution_count": 6,
   "metadata": {},
   "outputs": [
    {
     "name": "stdout",
     "output_type": "stream",
     "text": [
      "Original data dimensions: 200 x 10\n"
     ]
    }
   ],
   "source": [
    "print('Original data dimensions: %d x %d' % (original_data1.shape))"
   ]
  },
  {
   "cell_type": "code",
   "execution_count": 7,
   "metadata": {},
   "outputs": [
    {
     "name": "stdout",
     "output_type": "stream",
     "text": [
      "Original data dimensions: 4819 x 5\n"
     ]
    }
   ],
   "source": [
    "print('Original data dimensions: %d x %d' % (original_data2.shape))"
   ]
  },
  {
   "cell_type": "markdown",
   "metadata": {},
   "source": [
    "### Dataset 1"
   ]
  },
  {
   "cell_type": "code",
   "execution_count": 8,
   "metadata": {},
   "outputs": [],
   "source": [
    "gene_col1 = 'Positives from patch assay'"
   ]
  },
  {
   "cell_type": "code",
   "execution_count": 9,
   "metadata": {},
   "outputs": [],
   "source": [
    "original_data1['genes'] = original_data1[gene_col1].astype(str)"
   ]
  },
  {
   "cell_type": "code",
   "execution_count": 10,
   "metadata": {},
   "outputs": [],
   "source": [
    "# Eliminate all white spaces & capitalize\n",
    "original_data1['genes'] = clean_genename(original_data1['genes'])"
   ]
  },
  {
   "cell_type": "code",
   "execution_count": 11,
   "metadata": {},
   "outputs": [],
   "source": [
    "# Translate to ORFs \n",
    "original_data1['orfs'] = translate_sc(original_data1['genes'], to='orf')"
   ]
  },
  {
   "cell_type": "code",
   "execution_count": 12,
   "metadata": {},
   "outputs": [
    {
     "name": "stdout",
     "output_type": "stream",
     "text": [
      "                                    Positives from patch assay  \\\n",
      "index_input                                                      \n",
      "0                                                           WT   \n",
      "196                                                        NaN   \n",
      "197          a Recombination rate calculated from one fluct...   \n",
      "198                 b p-values from one-sided Student's t-test   \n",
      "199          c Jackpot refers to fluctuation tests where al...   \n",
      "\n",
      "            Recombination Rate 1a  Recombination Rate 2 Recombination Rate 3  \\\n",
      "index_input                                                                    \n",
      "0                     1.05393e-05              0.000011          8.22623e-06   \n",
      "196                           NaN                   NaN                  NaN   \n",
      "197                           NaN                   NaN                  NaN   \n",
      "198                           NaN                   NaN                  NaN   \n",
      "199                           NaN                   NaN                  NaN   \n",
      "\n",
      "             Recombination Rate 4  Recombination Rate 5  Recombination Rate 6  \\\n",
      "index_input                                                                     \n",
      "0                        0.000011              0.000017              0.000011   \n",
      "196                           NaN                   NaN                   NaN   \n",
      "197                           NaN                   NaN                   NaN   \n",
      "198                           NaN                   NaN                   NaN   \n",
      "199                           NaN                   NaN                   NaN   \n",
      "\n",
      "             Mean Recombination Rate  Standard Deviation  t-testb  \\\n",
      "index_input                                                         \n",
      "0                           0.000011            0.000003      NaN   \n",
      "196                              NaN                 NaN      NaN   \n",
      "197                              NaN                 NaN      NaN   \n",
      "198                              NaN                 NaN      NaN   \n",
      "199                              NaN                 NaN      NaN   \n",
      "\n",
      "                                                         genes  \\\n",
      "index_input                                                      \n",
      "0                                                           WT   \n",
      "196                                                        NAN   \n",
      "197          ARECOMBINATIONRATECALCULATEDFROMONEFLUCTUATION...   \n",
      "198                      BP-VALUESFROMONE-SIDEDSTUDENT'ST-TEST   \n",
      "199          CJACKPOTREFERSTOFLUCTUATIONTESTSWHEREALLCOLONI...   \n",
      "\n",
      "                                                          orfs  \n",
      "index_input                                                     \n",
      "0                                                           WT  \n",
      "196                                                        NAN  \n",
      "197          ARECOMBINATIONRATECALCULATEDFROMONEFLUCTUATION...  \n",
      "198                      BP-VALUESFROMONE-SIDEDSTUDENT'ST-TEST  \n",
      "199          CJACKPOTREFERSTOFLUCTUATIONTESTSWHEREALLCOLONI...  \n"
     ]
    }
   ],
   "source": [
    "# Make sure everything translated ok\n",
    "t = looks_like_orf(original_data1['orfs'])\n",
    "print(original_data1.loc[~t,])"
   ]
  },
  {
   "cell_type": "code",
   "execution_count": 13,
   "metadata": {},
   "outputs": [],
   "source": [
    "original_data1 = original_data1.loc[t,:]"
   ]
  },
  {
   "cell_type": "code",
   "execution_count": 14,
   "metadata": {},
   "outputs": [],
   "source": [
    "original_data1['data'] = 1"
   ]
  },
  {
   "cell_type": "code",
   "execution_count": 15,
   "metadata": {},
   "outputs": [],
   "source": [
    "original_data1.set_index('orfs', inplace=True)"
   ]
  },
  {
   "cell_type": "code",
   "execution_count": 49,
   "metadata": {},
   "outputs": [],
   "source": [
    "original_data1 = original_data1.groupby(original_data1.index).mean()"
   ]
  },
  {
   "cell_type": "markdown",
   "metadata": {},
   "source": [
    "### Dataset 2"
   ]
  },
  {
   "cell_type": "code",
   "execution_count": 16,
   "metadata": {},
   "outputs": [],
   "source": [
    "orf_col = 'ORF name'"
   ]
  },
  {
   "cell_type": "code",
   "execution_count": 17,
   "metadata": {},
   "outputs": [],
   "source": [
    "original_data2['orfs'] = original_data2[orf_col].astype(str)"
   ]
  },
  {
   "cell_type": "code",
   "execution_count": 18,
   "metadata": {},
   "outputs": [],
   "source": [
    "# Eliminate all white spaces & capitalize\n",
    "original_data2['orfs'] = clean_orf(original_data2['orfs'])"
   ]
  },
  {
   "cell_type": "code",
   "execution_count": 19,
   "metadata": {},
   "outputs": [],
   "source": [
    "# Translate to ORFs \n",
    "original_data2['orfs'] = translate_sc(original_data2['orfs'], to='orf')"
   ]
  },
  {
   "cell_type": "code",
   "execution_count": 20,
   "metadata": {},
   "outputs": [],
   "source": [
    "original_data2.loc[original_data2['orfs']=='YLR287-A','orfs'] = 'YLR287C-A'"
   ]
  },
  {
   "cell_type": "code",
   "execution_count": 21,
   "metadata": {},
   "outputs": [
    {
     "name": "stdout",
     "output_type": "stream",
     "text": [
      "Empty DataFrame\n",
      "Columns: [ORF name, Gene name, Colonies on SD-leu, Colonies on YPD, Percent recombinants, orfs]\n",
      "Index: []\n"
     ]
    }
   ],
   "source": [
    "# Make sure everything translated ok\n",
    "t = looks_like_orf(original_data2['orfs'])\n",
    "print(original_data2.loc[~t,])"
   ]
  },
  {
   "cell_type": "code",
   "execution_count": 22,
   "metadata": {},
   "outputs": [],
   "source": [
    "wt_phenotype = 56 # from main text\n",
    "original_data2['data'] = (original_data2['Percent recombinants'] / wt_phenotype) - 1"
   ]
  },
  {
   "cell_type": "code",
   "execution_count": 23,
   "metadata": {},
   "outputs": [],
   "source": [
    "original_data2.set_index('orfs', inplace=True)"
   ]
  },
  {
   "cell_type": "code",
   "execution_count": 50,
   "metadata": {},
   "outputs": [],
   "source": [
    "original_data2 = original_data2.groupby(original_data2.index).mean()"
   ]
  },
  {
   "cell_type": "markdown",
   "metadata": {},
   "source": [
    "### Join the 2 datasets"
   ]
  },
  {
   "cell_type": "code",
   "execution_count": 51,
   "metadata": {},
   "outputs": [],
   "source": [
    "original_data = original_data1[['data']].join(original_data2[['data']], how='outer', lsuffix='_1', rsuffix='_2')"
   ]
  },
  {
   "cell_type": "code",
   "execution_count": 52,
   "metadata": {},
   "outputs": [
    {
     "data": {
      "text/plain": [
       "(4652, 2)"
      ]
     },
     "execution_count": 52,
     "metadata": {},
     "output_type": "execute_result"
    }
   ],
   "source": [
    "original_data.shape"
   ]
  },
  {
   "cell_type": "code",
   "execution_count": 53,
   "metadata": {},
   "outputs": [],
   "source": [
    "# Orfs from dataset 1 that were not present in dataset 2\n",
    "unmatched_orfs = original_data.loc[original_data['data_2'].isnull()].index.values"
   ]
  },
  {
   "cell_type": "code",
   "execution_count": 54,
   "metadata": {},
   "outputs": [
    {
     "name": "stdout",
     "output_type": "stream",
     "text": [
      "YCL102W\t4\n",
      "YEL004W\t11\n",
      "YHR163W\t11\n",
      "YML022W\t14\n",
      "YNL264C\t9\n",
      "YOR107W\t7\n",
      "YOR121C\t7\n",
      "YOR144C\t5\n"
     ]
    }
   ],
   "source": [
    "# Check for partial matches of hits from dataset1 in the list from dataset2 (possible typos in dataset1)\n",
    "orfs_ref = pd.Series(original_data2.index.values)\n",
    "\n",
    "for orf in unmatched_orfs:\n",
    "    s = '(' + orf + '){e<=1}'\n",
    "    \n",
    "    m = orfs_ref.apply(lambda x: len(regex.findall(s, x)))\n",
    "    nm = m.sum()\n",
    "    \n",
    "    print('%s\\t%d' % (orf, nm))"
   ]
  },
  {
   "cell_type": "code",
   "execution_count": 55,
   "metadata": {},
   "outputs": [],
   "source": [
    "# No obvious typo fixes. Decided to leave dataset 2 values for unmatched orfs at NaN. But use dataset 2 list as the tested universe for dataset 1 (best approximation).\n",
    "original_data['data_1'].loc[original_data['data_1'].isnull()] = 0"
   ]
  },
  {
   "cell_type": "code",
   "execution_count": 56,
   "metadata": {},
   "outputs": [
    {
     "data": {
      "text/plain": [
       "data_1    4652\n",
       "data_2    4644\n",
       "dtype: int64"
      ]
     },
     "execution_count": 56,
     "metadata": {},
     "output_type": "execute_result"
    }
   ],
   "source": [
    "original_data.notnull().sum(axis=0)"
   ]
  },
  {
   "cell_type": "markdown",
   "metadata": {},
   "source": [
    "# Prepare the final dataset"
   ]
  },
  {
   "cell_type": "code",
   "execution_count": 57,
   "metadata": {},
   "outputs": [],
   "source": [
    "dataset_ids = [16617, 16618]"
   ]
  },
  {
   "cell_type": "code",
   "execution_count": 58,
   "metadata": {},
   "outputs": [],
   "source": [
    "datasets = datasets.reindex(index=dataset_ids)"
   ]
  },
  {
   "cell_type": "code",
   "execution_count": 59,
   "metadata": {},
   "outputs": [],
   "source": [
    "data = original_data[['data_1','data_2']].copy()"
   ]
  },
  {
   "cell_type": "code",
   "execution_count": 60,
   "metadata": {},
   "outputs": [],
   "source": [
    "data.columns = datasets['name'].values"
   ]
  },
  {
   "cell_type": "code",
   "execution_count": 61,
   "metadata": {},
   "outputs": [],
   "source": [
    "data = data.groupby(data.index).mean()"
   ]
  },
  {
   "cell_type": "code",
   "execution_count": 62,
   "metadata": {},
   "outputs": [],
   "source": [
    "# Create row index\n",
    "data.index.name='orf'"
   ]
  },
  {
   "cell_type": "code",
   "execution_count": 63,
   "metadata": {},
   "outputs": [
    {
     "name": "stdout",
     "output_type": "stream",
     "text": [
      "Final data dimensions: 4652 x 2\n"
     ]
    }
   ],
   "source": [
    "print('Final data dimensions: %d x %d' % (data.shape))"
   ]
  },
  {
   "cell_type": "markdown",
   "metadata": {},
   "source": [
    "# Print out"
   ]
  },
  {
   "cell_type": "code",
   "execution_count": 64,
   "metadata": {},
   "outputs": [],
   "source": [
    "data.to_csv(paper_name + '.txt', sep='\\t')"
   ]
  },
  {
   "cell_type": "markdown",
   "metadata": {},
   "source": [
    "# Save to DB"
   ]
  },
  {
   "cell_type": "code",
   "execution_count": 66,
   "metadata": {},
   "outputs": [],
   "source": [
    "from IO.save_data_to_db2 import *"
   ]
  },
  {
   "cell_type": "code",
   "execution_count": 67,
   "metadata": {},
   "outputs": [],
   "source": [
    "# Create column index\n",
    "lst = [datasets.index.values, datasets['name'].values]\n",
    "tuples = list(zip(*lst))\n",
    "idx = pd.MultiIndex.from_tuples(tuples, names=['dataset_id','dataset_name'])\n",
    "data.columns = idx"
   ]
  },
  {
   "cell_type": "code",
   "execution_count": 68,
   "metadata": {},
   "outputs": [],
   "source": [
    "save_data_to_db(data, paper_pmid)"
   ]
  },
  {
   "cell_type": "code",
   "execution_count": null,
   "metadata": {},
   "outputs": [],
   "source": []
  }
 ],
 "metadata": {
  "kernelspec": {
   "display_name": "yp-data",
   "language": "python",
   "name": "yp-data"
  },
  "language_info": {
   "codemirror_mode": {
    "name": "ipython",
    "version": 3
   },
   "file_extension": ".py",
   "mimetype": "text/x-python",
   "name": "python",
   "nbconvert_exporter": "python",
   "pygments_lexer": "ipython3",
   "version": "3.7.7"
  }
 },
 "nbformat": 4,
 "nbformat_minor": 4
}
