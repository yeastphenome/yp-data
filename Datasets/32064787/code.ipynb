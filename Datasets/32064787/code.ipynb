{
 "cells": [
  {
   "cell_type": "code",
   "execution_count": 1,
   "metadata": {},
   "outputs": [],
   "source": [
    "import numpy as np\n",
    "import pandas as pd\n",
    "\n",
    "import sys\n",
    "\n",
    "from os.path import expanduser\n",
    "sys.path.append(expanduser('~') + '/Lab/Utils/Python/')\n",
    "\n",
    "from Conversions.translate import *\n",
    "from Strings.is_a import *"
   ]
  },
  {
   "cell_type": "markdown",
   "metadata": {},
   "source": [
    "# Initial setup"
   ]
  },
  {
   "cell_type": "code",
   "execution_count": 2,
   "metadata": {},
   "outputs": [],
   "source": [
    "paper_pmid = 32064787\n",
    "paper_name = 'mattiazzi_usaj_andrews_2020' "
   ]
  },
  {
   "cell_type": "code",
   "execution_count": 3,
   "metadata": {},
   "outputs": [],
   "source": [
    "datasets = pd.read_csv('extras/YeastPhenome_' + str(paper_pmid) + '_datasets_list.txt', sep='\\t', header=None, names=['pmid', 'name'])"
   ]
  },
  {
   "cell_type": "code",
   "execution_count": 4,
   "metadata": {},
   "outputs": [],
   "source": [
    "datasets.set_index('pmid', inplace=True)"
   ]
  },
  {
   "cell_type": "markdown",
   "metadata": {},
   "source": [
    "# Load & process the data"
   ]
  },
  {
   "cell_type": "code",
   "execution_count": 5,
   "metadata": {},
   "outputs": [],
   "source": [
    "original_data = pd.read_excel('raw_data/msb199243-sup-0003-tableev2.xlsx', sheet_name='penetrance_phenotype_data')"
   ]
  },
  {
   "cell_type": "code",
   "execution_count": 6,
   "metadata": {},
   "outputs": [
    {
     "name": "stdout",
     "output_type": "stream",
     "text": [
      "Original data dimensions: 5627 x 119\n"
     ]
    }
   ],
   "source": [
    "print('Original data dimensions: %d x %d' % (original_data.shape))"
   ]
  },
  {
   "cell_type": "code",
   "execution_count": 7,
   "metadata": {},
   "outputs": [],
   "source": [
    "original_data['ORF'] = original_data['ORF'].astype(str)"
   ]
  },
  {
   "cell_type": "code",
   "execution_count": 8,
   "metadata": {},
   "outputs": [],
   "source": [
    "# Eliminate all white spaces & capitalize\n",
    "original_data['ORF'] = clean_orf(original_data['ORF'])"
   ]
  },
  {
   "cell_type": "code",
   "execution_count": 9,
   "metadata": {},
   "outputs": [],
   "source": [
    "# Make sure everything translated ok\n",
    "t = looks_like_orf(original_data['ORF'])"
   ]
  },
  {
   "cell_type": "code",
   "execution_count": 10,
   "metadata": {},
   "outputs": [
    {
     "name": "stdout",
     "output_type": "stream",
     "text": [
      "Empty DataFrame\n",
      "Columns: [ORF, Name, Allele, StrainID, Mean_SMF, Stdev_SMF, seccondary_array, unknown, penetrance_rank, phenotype_rank, actin_num_cells, actin_num_wells, actin_penetrance, coat_num_cells, coat_num_wells, coat_penetrance, LE_num_cells, LE_num_wells, LE_penetrance, vacuole_num_cells, vacuole_num_wells, vacuole_penetrance, actin_aggregate, actin_bright_patches, actin_decreased_patch_number, actin_depolarized_patches, actin_none, coat_aggregate, coat_decreased_patch_number, coat_depolarized_patches, coat_increased_patch_number, coat_none, LE_fragmented, LE_membrane, LE_condensed, LE_none, vacuole_class_E, vacuole_enlarged, vacuole_VATPase_defect, vacuole_fragmented, vacuole_class_G, vacuole_multilobed, vacuole_none, actin_penetrance_hit, actin_penetrance_threshold, actin_aggregate_hit, actin_aggregate_hit_stringent, actin_aggregate_threshold, actin_aggregate_threshold_stringent, actin_bright_patches_hit, actin_bright_patches_hit_stringent, actin_bright_patches_threshold, actin_bright_patches_threshold_stringent, actin_decreased_patch_number_hit, actin_decreased_patch_number_hit_stringent, actin_decreased_patch_number_threshold, actin_decreased_patch_number_threshold_stringent, actin_depolarized_patches_hit, actin_depolarized_patches_hit_stringent, actin_depolarized_patches_threshold, actin_depolarized_patches_threshold_stringent, coat_penetrance_hit, coat_penetrance_threshold, coat_aggregate_hit, coat_aggregate_hit_stringent, coat_aggregate_threshold, coat_aggregate_threshold_stringent, coat_decreased_patch_number_hit, coat_decreased_patch_number_hit_stringent, coat_decreased_patch_number_threshold, coat_decreased_patch_number_threshold_stringent, coat_depolarized_patches_hit, coat_depolarized_patches_hit_stringent, coat_depolarized_patches_threshold, coat_depolarized_patches_threshold_stringent, coat_increased_patch_number_hit, coat_increased_patch_number_hit_stringent, coat_increased_patch_number_threshold, coat_increased_patch_number_threshold_stringent, LE_penetrance_hit, LE_penetrance_threshold, LE_fragmented_hit, LE_fragmented_hit_stringent, LE_fragmented_threshold, LE_fragmented_threshold_stringent, LE_membrane_hit, LE_membrane_hit_stringent, LE_membrane_threshold, LE_membrane_threshold_stringent, LE_condensed_hit, LE_condensed_hit_stringent, LE_condensed_threshold, LE_condensed_threshold_stringent, vacuole_penetrance_hit, vacuole_penetrance_threshold, vacuole_class_E_hit, vacuole_class_E_hit_stringent, vacuole_class_E_threshold, vacuole_class_E_threshold_stringent, vacuole_enlarged_hit, ...]\n",
      "Index: []\n",
      "\n",
      "[0 rows x 119 columns]\n"
     ]
    }
   ],
   "source": [
    "print(original_data.loc[~t,])"
   ]
  },
  {
   "cell_type": "code",
   "execution_count": 11,
   "metadata": {},
   "outputs": [
    {
     "name": "stdout",
     "output_type": "stream",
     "text": [
      "(4628, 119)\n"
     ]
    }
   ],
   "source": [
    "# Eliminate strains that are not deletions\n",
    "dels = original_data['StrainID'].str.startswith('DMA')\n",
    "original_data = original_data.loc[dels.values,:]\n",
    "print(original_data.shape)"
   ]
  },
  {
   "cell_type": "code",
   "execution_count": 12,
   "metadata": {},
   "outputs": [],
   "source": [
    "original_data.set_index('ORF', inplace=True)"
   ]
  },
  {
   "cell_type": "code",
   "execution_count": 13,
   "metadata": {},
   "outputs": [],
   "source": [
    "dataset_map = {'actin_aggregate': 16403,\n",
    "               'actin_bright_patches': 16415,\n",
    "               'actin_decreased_patch_number': 16416,\n",
    "               'actin_depolarized_patches': 16417,\n",
    "               'coat_aggregate': 16418,\n",
    "               'coat_decreased_patch_number': 16419,\n",
    "               'coat_depolarized_patches': 16420,\n",
    "               'coat_increased_patch_number': 16421,\n",
    "               'LE_fragmented': 16422,\n",
    "               'LE_membrane': 16423,\n",
    "               'LE_condensed': 16424,\n",
    "               'vacuole_class_E': 16425,\n",
    "               'vacuole_enlarged': 16426,\n",
    "               'vacuole_VATPase_defect': 16427,\n",
    "               'vacuole_fragmented': 16428,\n",
    "               'vacuole_class_G': 16429,\n",
    "               'vacuole_multilobed': 16430}"
   ]
  },
  {
   "cell_type": "code",
   "execution_count": 14,
   "metadata": {},
   "outputs": [],
   "source": [
    "# Get the relevant columns\n",
    "original_data = original_data.loc[:, dataset_map.keys()]"
   ]
  },
  {
   "cell_type": "code",
   "execution_count": 15,
   "metadata": {},
   "outputs": [
    {
     "name": "stdout",
     "output_type": "stream",
     "text": [
      "(4628, 17)\n"
     ]
    }
   ],
   "source": [
    "print(original_data.shape)"
   ]
  },
  {
   "cell_type": "code",
   "execution_count": 25,
   "metadata": {},
   "outputs": [],
   "source": [
    "# If the same strain is present more than once, average its values\n",
    "data = original_data.groupby(original_data.index.values).mean()"
   ]
  },
  {
   "cell_type": "code",
   "execution_count": 18,
   "metadata": {},
   "outputs": [
    {
     "name": "stdout",
     "output_type": "stream",
     "text": [
      "Final data dimensions: 4625 x 17\n"
     ]
    }
   ],
   "source": [
    "print('Final data dimensions: %d x %d' % (data.shape))"
   ]
  },
  {
   "cell_type": "markdown",
   "metadata": {},
   "source": [
    "# Prepare the final dataset"
   ]
  },
  {
   "cell_type": "code",
   "execution_count": 28,
   "metadata": {},
   "outputs": [],
   "source": [
    "dataset_ids = [dataset_map[c] for c in data.columns.values]"
   ]
  },
  {
   "cell_type": "code",
   "execution_count": 29,
   "metadata": {},
   "outputs": [],
   "source": [
    "datasets = datasets.reindex(index=dataset_ids)"
   ]
  },
  {
   "cell_type": "code",
   "execution_count": null,
   "metadata": {},
   "outputs": [],
   "source": [
    "# Create row index\n",
    "data.index.name='orf'\n",
    "data.columns = datasets['name']"
   ]
  },
  {
   "cell_type": "markdown",
   "metadata": {},
   "source": [
    "# Print out"
   ]
  },
  {
   "cell_type": "code",
   "execution_count": 35,
   "metadata": {},
   "outputs": [],
   "source": [
    "data.to_csv(paper_name + '.txt', sep='\\t')"
   ]
  },
  {
   "cell_type": "markdown",
   "metadata": {},
   "source": [
    "# Save to DB"
   ]
  },
  {
   "cell_type": "code",
   "execution_count": 36,
   "metadata": {},
   "outputs": [],
   "source": [
    "from IO.save_data_to_db2 import *"
   ]
  },
  {
   "cell_type": "code",
   "execution_count": 38,
   "metadata": {},
   "outputs": [],
   "source": [
    "# Create column index\n",
    "lst = [datasets.index.values, datasets['name'].values]\n",
    "tuples = list(zip(*lst))\n",
    "idx = pd.MultiIndex.from_tuples(tuples, names=['dataset_id','dataset_name'])\n",
    "data.columns = idx"
   ]
  },
  {
   "cell_type": "code",
   "execution_count": 39,
   "metadata": {},
   "outputs": [],
   "source": [
    "save_data_to_db(data, paper_pmid)"
   ]
  },
  {
   "cell_type": "code",
   "execution_count": null,
   "metadata": {},
   "outputs": [],
   "source": []
  }
 ],
 "metadata": {
  "kernelspec": {
   "display_name": "yp-data",
   "language": "python",
   "name": "yp-data"
  },
  "language_info": {
   "codemirror_mode": {
    "name": "ipython",
    "version": 3
   },
   "file_extension": ".py",
   "mimetype": "text/x-python",
   "name": "python",
   "nbconvert_exporter": "python",
   "pygments_lexer": "ipython3",
   "version": "3.7.7"
  }
 },
 "nbformat": 4,
 "nbformat_minor": 4
}
