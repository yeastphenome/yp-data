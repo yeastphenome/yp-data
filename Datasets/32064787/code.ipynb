{
 "cells": [
  {
   "cell_type": "code",
   "execution_count": 1,
   "metadata": {},
   "outputs": [],
   "source": [
    "%run ../yp_utils.py"
   ]
  },
  {
   "cell_type": "markdown",
   "metadata": {},
   "source": [
    "# Initial setup"
   ]
  },
  {
   "cell_type": "code",
   "execution_count": 46,
   "metadata": {},
   "outputs": [],
   "source": [
    "paper_pmid = 32064787\n",
    "paper_name = 'mattiazzi_usaj_andrews_2020' "
   ]
  },
  {
   "cell_type": "code",
   "execution_count": 47,
   "metadata": {},
   "outputs": [],
   "source": [
    "datasets = pd.read_csv('extras/YeastPhenome_' + str(paper_pmid) + '_datasets_list.txt', sep='\\t', header=None, names=['pmid', 'name'])"
   ]
  },
  {
   "cell_type": "code",
   "execution_count": 48,
   "metadata": {},
   "outputs": [],
   "source": [
    "datasets.set_index('pmid', inplace=True)"
   ]
  },
  {
   "cell_type": "markdown",
   "metadata": {},
   "source": [
    "# Load & process the data"
   ]
  },
  {
   "cell_type": "code",
   "execution_count": 96,
   "metadata": {},
   "outputs": [],
   "source": [
    "original_data = pd.read_excel('raw_data/msb199243-sup-0003-tableev2.xlsx', sheet_name='penetrance_phenotype_data')"
   ]
  },
  {
   "cell_type": "code",
   "execution_count": 97,
   "metadata": {},
   "outputs": [
    {
     "name": "stdout",
     "output_type": "stream",
     "text": [
      "Original data dimensions: 5627 x 119\n"
     ]
    }
   ],
   "source": [
    "print('Original data dimensions: %d x %d' % (original_data.shape))"
   ]
  },
  {
   "cell_type": "code",
   "execution_count": 98,
   "metadata": {},
   "outputs": [],
   "source": [
    "original_data['ORF'] = original_data['ORF'].astype(str)"
   ]
  },
  {
   "cell_type": "code",
   "execution_count": 99,
   "metadata": {},
   "outputs": [],
   "source": [
    "# Eliminate all white spaces & capitalize\n",
    "original_data['ORF'] = clean_orf(original_data['ORF'])"
   ]
  },
  {
   "cell_type": "code",
   "execution_count": 100,
   "metadata": {},
   "outputs": [],
   "source": [
    "original_data['ORF'] = translate_sc(original_data['ORF'], to='orf')"
   ]
  },
  {
   "cell_type": "code",
   "execution_count": 101,
   "metadata": {},
   "outputs": [],
   "source": [
    "# Make sure everything translated ok\n",
    "t = looks_like_orf(original_data['ORF'])"
   ]
  },
  {
   "cell_type": "code",
   "execution_count": 102,
   "metadata": {},
   "outputs": [
    {
     "name": "stdout",
     "output_type": "stream",
     "text": [
      "Empty DataFrame\n",
      "Columns: [ORF, Name, Allele, StrainID, Mean_SMF, Stdev_SMF, seccondary_array, unknown, penetrance_rank, phenotype_rank, actin_num_cells, actin_num_wells, actin_penetrance, coat_num_cells, coat_num_wells, coat_penetrance, LE_num_cells, LE_num_wells, LE_penetrance, vacuole_num_cells, vacuole_num_wells, vacuole_penetrance, actin_aggregate, actin_bright_patches, actin_decreased_patch_number, actin_depolarized_patches, actin_none, coat_aggregate, coat_decreased_patch_number, coat_depolarized_patches, coat_increased_patch_number, coat_none, LE_fragmented, LE_membrane, LE_condensed, LE_none, vacuole_class_E, vacuole_enlarged, vacuole_VATPase_defect, vacuole_fragmented, vacuole_class_G, vacuole_multilobed, vacuole_none, actin_penetrance_hit, actin_penetrance_threshold, actin_aggregate_hit, actin_aggregate_hit_stringent, actin_aggregate_threshold, actin_aggregate_threshold_stringent, actin_bright_patches_hit, actin_bright_patches_hit_stringent, actin_bright_patches_threshold, actin_bright_patches_threshold_stringent, actin_decreased_patch_number_hit, actin_decreased_patch_number_hit_stringent, actin_decreased_patch_number_threshold, actin_decreased_patch_number_threshold_stringent, actin_depolarized_patches_hit, actin_depolarized_patches_hit_stringent, actin_depolarized_patches_threshold, actin_depolarized_patches_threshold_stringent, coat_penetrance_hit, coat_penetrance_threshold, coat_aggregate_hit, coat_aggregate_hit_stringent, coat_aggregate_threshold, coat_aggregate_threshold_stringent, coat_decreased_patch_number_hit, coat_decreased_patch_number_hit_stringent, coat_decreased_patch_number_threshold, coat_decreased_patch_number_threshold_stringent, coat_depolarized_patches_hit, coat_depolarized_patches_hit_stringent, coat_depolarized_patches_threshold, coat_depolarized_patches_threshold_stringent, coat_increased_patch_number_hit, coat_increased_patch_number_hit_stringent, coat_increased_patch_number_threshold, coat_increased_patch_number_threshold_stringent, LE_penetrance_hit, LE_penetrance_threshold, LE_fragmented_hit, LE_fragmented_hit_stringent, LE_fragmented_threshold, LE_fragmented_threshold_stringent, LE_membrane_hit, LE_membrane_hit_stringent, LE_membrane_threshold, LE_membrane_threshold_stringent, LE_condensed_hit, LE_condensed_hit_stringent, LE_condensed_threshold, LE_condensed_threshold_stringent, vacuole_penetrance_hit, vacuole_penetrance_threshold, vacuole_class_E_hit, vacuole_class_E_hit_stringent, vacuole_class_E_threshold, vacuole_class_E_threshold_stringent, vacuole_enlarged_hit, ...]\n",
      "Index: []\n",
      "\n",
      "[0 rows x 119 columns]\n"
     ]
    }
   ],
   "source": [
    "print(original_data.loc[~t,])"
   ]
  },
  {
   "cell_type": "code",
   "execution_count": 103,
   "metadata": {},
   "outputs": [
    {
     "name": "stdout",
     "output_type": "stream",
     "text": [
      "(4628, 119)\n"
     ]
    }
   ],
   "source": [
    "# Eliminate strains that are not deletions\n",
    "dels = original_data['StrainID'].str.startswith('DMA')\n",
    "original_data = original_data.loc[dels.values,:]\n",
    "print(original_data.shape)"
   ]
  },
  {
   "cell_type": "code",
   "execution_count": 104,
   "metadata": {},
   "outputs": [],
   "source": [
    "original_data.set_index('ORF', inplace=True)\n",
    "original_data.index.name='orf'"
   ]
  },
  {
   "cell_type": "code",
   "execution_count": 105,
   "metadata": {},
   "outputs": [],
   "source": [
    "dataset_map = {'actin_aggregate': 16403,\n",
    "               'actin_bright_patches': 16415,\n",
    "               'actin_decreased_patch_number': 16416,\n",
    "               'actin_depolarized_patches': 16417,\n",
    "               'coat_aggregate': 16418,\n",
    "               'coat_decreased_patch_number': 16419,\n",
    "               'coat_depolarized_patches': 16420,\n",
    "               'coat_increased_patch_number': 16421,\n",
    "               'LE_fragmented': 16422,\n",
    "               'LE_membrane': 16423,\n",
    "               'LE_condensed': 16424,\n",
    "               'vacuole_class_E': 16425,\n",
    "               'vacuole_enlarged': 16426,\n",
    "               'vacuole_VATPase_defect': 16427,\n",
    "               'vacuole_fragmented': 16428,\n",
    "               'vacuole_class_G': 16429,\n",
    "               'vacuole_multilobed': 16430}"
   ]
  },
  {
   "cell_type": "code",
   "execution_count": 106,
   "metadata": {},
   "outputs": [],
   "source": [
    "# Get the relevant columns\n",
    "original_data = original_data.loc[:, dataset_map.keys()]"
   ]
  },
  {
   "cell_type": "code",
   "execution_count": 107,
   "metadata": {},
   "outputs": [
    {
     "name": "stdout",
     "output_type": "stream",
     "text": [
      "(4628, 17)\n"
     ]
    }
   ],
   "source": [
    "print(original_data.shape)"
   ]
  },
  {
   "cell_type": "code",
   "execution_count": 108,
   "metadata": {},
   "outputs": [],
   "source": [
    "# If the same strain is present more than once, average its values\n",
    "original_data = original_data.groupby(original_data.index).mean()"
   ]
  },
  {
   "cell_type": "code",
   "execution_count": 109,
   "metadata": {},
   "outputs": [
    {
     "name": "stdout",
     "output_type": "stream",
     "text": [
      "Final data dimensions: 4602 x 17\n"
     ]
    }
   ],
   "source": [
    "print('Final data dimensions: %d x %d' % (original_data.shape))"
   ]
  },
  {
   "cell_type": "markdown",
   "metadata": {},
   "source": [
    "# Prepare the final dataset"
   ]
  },
  {
   "cell_type": "code",
   "execution_count": 111,
   "metadata": {},
   "outputs": [],
   "source": [
    "data = original_data.copy()"
   ]
  },
  {
   "cell_type": "code",
   "execution_count": 112,
   "metadata": {},
   "outputs": [],
   "source": [
    "dataset_ids = [dataset_map[c] for c in data.columns.values]"
   ]
  },
  {
   "cell_type": "code",
   "execution_count": 113,
   "metadata": {},
   "outputs": [],
   "source": [
    "datasets = datasets.reindex(index=dataset_ids)"
   ]
  },
  {
   "cell_type": "code",
   "execution_count": 114,
   "metadata": {},
   "outputs": [],
   "source": [
    "lst = [datasets.index.values, ['value']*datasets.shape[0]]\n",
    "tuples = list(zip(*lst))\n",
    "idx = pd.MultiIndex.from_tuples(tuples, names=['dataset_id','data_type'])\n",
    "data.columns = idx"
   ]
  },
  {
   "cell_type": "markdown",
   "metadata": {},
   "source": [
    "## Subset to the genes currently in SGD"
   ]
  },
  {
   "cell_type": "code",
   "execution_count": 116,
   "metadata": {},
   "outputs": [
    {
     "name": "stdout",
     "output_type": "stream",
     "text": [
      "ORFs missing from SGD: 22\n"
     ]
    }
   ],
   "source": [
    "genes = pd.read_csv(path_to_genes, sep='\\t', index_col='id')\n",
    "genes = genes.reset_index().set_index('systematic_name')\n",
    "gene_ids = genes.reindex(index=data.index.values)['id'].values\n",
    "num_missing = np.sum(np.isnan(gene_ids))\n",
    "print('ORFs missing from SGD: %d' % num_missing)"
   ]
  },
  {
   "cell_type": "code",
   "execution_count": 118,
   "metadata": {},
   "outputs": [],
   "source": [
    "data['gene_id'] = gene_ids\n",
    "data = data.loc[data['gene_id'].notnull()]\n",
    "data['gene_id'] = data['gene_id'].astype(int)\n",
    "data = data.reset_index().set_index(['gene_id','orf'])"
   ]
  },
  {
   "cell_type": "markdown",
   "metadata": {},
   "source": [
    "# Normalize"
   ]
  },
  {
   "cell_type": "code",
   "execution_count": 119,
   "metadata": {},
   "outputs": [],
   "source": [
    "data_norm = normalize_phenotypic_scores(data, has_tested=True)"
   ]
  },
  {
   "cell_type": "code",
   "execution_count": 120,
   "metadata": {},
   "outputs": [],
   "source": [
    "# Assign proper column names\n",
    "lst = [datasets.index.values, ['valuez']*datasets.shape[0]]\n",
    "tuples = list(zip(*lst))\n",
    "idx = pd.MultiIndex.from_tuples(tuples, names=['dataset_id','data_type'])\n",
    "data_norm.columns = idx"
   ]
  },
  {
   "cell_type": "code",
   "execution_count": 121,
   "metadata": {},
   "outputs": [],
   "source": [
    "data_norm[data.isnull()] = np.nan"
   ]
  },
  {
   "cell_type": "code",
   "execution_count": 122,
   "metadata": {},
   "outputs": [],
   "source": [
    "data_all = data.join(data_norm)"
   ]
  },
  {
   "cell_type": "markdown",
   "metadata": {},
   "source": [
    "# Print out"
   ]
  },
  {
   "cell_type": "code",
   "execution_count": 123,
   "metadata": {},
   "outputs": [],
   "source": [
    "for f in ['value','valuez']:\n",
    "    df = data_all.xs(f, level='data_type', axis=1).copy()\n",
    "    df.columns = datasets['name'].values\n",
    "    df = df.droplevel('gene_id', axis=0)\n",
    "    df.to_csv(paper_name + '_' + f + '.txt', sep='\\t')"
   ]
  },
  {
   "cell_type": "markdown",
   "metadata": {},
   "source": [
    "# Save to DB"
   ]
  },
  {
   "cell_type": "code",
   "execution_count": 124,
   "metadata": {},
   "outputs": [],
   "source": [
    "from IO.save_data_to_db3 import *"
   ]
  },
  {
   "cell_type": "code",
   "execution_count": 125,
   "metadata": {},
   "outputs": [
    {
     "name": "stdout",
     "output_type": "stream",
     "text": [
      "Deleting all datasets for PMID 32064787...\n"
     ]
    },
    {
     "name": "stderr",
     "output_type": "stream",
     "text": [
      "  0%|          | 0/17 [00:00<?, ?it/s]"
     ]
    },
    {
     "name": "stdout",
     "output_type": "stream",
     "text": [
      "Inserting the new data...\n"
     ]
    },
    {
     "name": "stderr",
     "output_type": "stream",
     "text": [
      "100%|██████████| 17/17 [01:46<00:00,  6.25s/it]"
     ]
    },
    {
     "name": "stdout",
     "output_type": "stream",
     "text": [
      "Updating the data_modified_on field...\n"
     ]
    },
    {
     "name": "stderr",
     "output_type": "stream",
     "text": [
      "\n"
     ]
    }
   ],
   "source": [
    "save_data_to_db(data_all, paper_pmid)"
   ]
  },
  {
   "cell_type": "code",
   "execution_count": null,
   "metadata": {},
   "outputs": [],
   "source": []
  }
 ],
 "metadata": {
  "kernelspec": {
   "display_name": "yp-data",
   "language": "python",
   "name": "yp-data"
  },
  "language_info": {
   "codemirror_mode": {
    "name": "ipython",
    "version": 3
   },
   "file_extension": ".py",
   "mimetype": "text/x-python",
   "name": "python",
   "nbconvert_exporter": "python",
   "pygments_lexer": "ipython3",
   "version": "3.7.7"
  }
 },
 "nbformat": 4,
 "nbformat_minor": 4
}
