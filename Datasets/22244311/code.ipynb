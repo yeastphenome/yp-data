{
 "cells": [
  {
   "cell_type": "code",
   "execution_count": 1,
   "metadata": {},
   "outputs": [],
   "source": [
    "%run ../yp_utils.py"
   ]
  },
  {
   "cell_type": "markdown",
   "metadata": {},
   "source": [
    "# Initial setup"
   ]
  },
  {
   "cell_type": "code",
   "execution_count": 2,
   "metadata": {},
   "outputs": [],
   "source": [
    "paper_pmid = 22244311\n",
    "paper_name = 'pir_oliver_2012' "
   ]
  },
  {
   "cell_type": "code",
   "execution_count": 3,
   "metadata": {},
   "outputs": [],
   "source": [
    "datasets = pd.read_csv('extras/YeastPhenome_' + str(paper_pmid) + '_datasets_list.txt', sep='\\t', header=None, names=['dataset_id', 'name'])"
   ]
  },
  {
   "cell_type": "code",
   "execution_count": 4,
   "metadata": {},
   "outputs": [],
   "source": [
    "datasets.set_index('dataset_id', inplace=True)"
   ]
  },
  {
   "cell_type": "markdown",
   "metadata": {},
   "source": [
    "# Load & process the data"
   ]
  },
  {
   "cell_type": "code",
   "execution_count": 5,
   "metadata": {},
   "outputs": [],
   "source": [
    "original_data = pd.read_excel('raw_data/12918_2012_852_MOESM3_ESM.xlsx', sheet_name='data')"
   ]
  },
  {
   "cell_type": "code",
   "execution_count": 6,
   "metadata": {},
   "outputs": [
    {
     "name": "stdout",
     "output_type": "stream",
     "text": [
      "Original data dimensions: 5603 x 22\n"
     ]
    }
   ],
   "source": [
    "print('Original data dimensions: %d x %d' % (original_data.shape))"
   ]
  },
  {
   "cell_type": "code",
   "execution_count": 7,
   "metadata": {},
   "outputs": [
    {
     "data": {
      "text/html": [
       "<div>\n",
       "<style scoped>\n",
       "    .dataframe tbody tr th:only-of-type {\n",
       "        vertical-align: middle;\n",
       "    }\n",
       "\n",
       "    .dataframe tbody tr th {\n",
       "        vertical-align: top;\n",
       "    }\n",
       "\n",
       "    .dataframe thead th {\n",
       "        text-align: right;\n",
       "    }\n",
       "</style>\n",
       "<table border=\"1\" class=\"dataframe\">\n",
       "  <thead>\n",
       "    <tr style=\"text-align: right;\">\n",
       "      <th></th>\n",
       "      <th>ORF</th>\n",
       "      <th>C01.FCC'</th>\n",
       "      <th>C01.P</th>\n",
       "      <th>C01.FDR</th>\n",
       "      <th>N01.FCC'</th>\n",
       "      <th>N01.P</th>\n",
       "      <th>N01.FDR</th>\n",
       "      <th>P01.FCC'</th>\n",
       "      <th>P01.P</th>\n",
       "      <th>P01.FDR</th>\n",
       "      <th>...</th>\n",
       "      <th>N02.FDR</th>\n",
       "      <th>N03.FCC'</th>\n",
       "      <th>N03.P</th>\n",
       "      <th>N03.FDR</th>\n",
       "      <th>FPM03.FCC'</th>\n",
       "      <th>FPM03.P</th>\n",
       "      <th>FPM03.FDR</th>\n",
       "      <th>FPMTURB.FCC'</th>\n",
       "      <th>FPMTURB.P</th>\n",
       "      <th>FPMTURB.FDR</th>\n",
       "    </tr>\n",
       "  </thead>\n",
       "  <tbody>\n",
       "    <tr>\n",
       "      <th>0</th>\n",
       "      <td>YAL001C</td>\n",
       "      <td>0.000096</td>\n",
       "      <td>0.915260</td>\n",
       "      <td>0.944105</td>\n",
       "      <td>-0.001095</td>\n",
       "      <td>0.065967</td>\n",
       "      <td>0.109748</td>\n",
       "      <td>0.000170</td>\n",
       "      <td>0.835859</td>\n",
       "      <td>0.864944</td>\n",
       "      <td>...</td>\n",
       "      <td>0.141287</td>\n",
       "      <td>-0.000196</td>\n",
       "      <td>0.734214</td>\n",
       "      <td>0.839357</td>\n",
       "      <td>-0.000378</td>\n",
       "      <td>0.650849</td>\n",
       "      <td>0.801506</td>\n",
       "      <td>-0.006045</td>\n",
       "      <td>1.021981e-02</td>\n",
       "      <td>2.371797e-02</td>\n",
       "    </tr>\n",
       "    <tr>\n",
       "      <th>1</th>\n",
       "      <td>YAL002W</td>\n",
       "      <td>-0.001993</td>\n",
       "      <td>0.026023</td>\n",
       "      <td>0.068446</td>\n",
       "      <td>-0.003648</td>\n",
       "      <td>0.000111</td>\n",
       "      <td>0.000610</td>\n",
       "      <td>-0.001709</td>\n",
       "      <td>0.019267</td>\n",
       "      <td>0.036640</td>\n",
       "      <td>...</td>\n",
       "      <td>0.382266</td>\n",
       "      <td>0.001871</td>\n",
       "      <td>0.003500</td>\n",
       "      <td>0.027094</td>\n",
       "      <td>0.000887</td>\n",
       "      <td>0.037925</td>\n",
       "      <td>0.117223</td>\n",
       "      <td>-0.010963</td>\n",
       "      <td>1.965168e-05</td>\n",
       "      <td>1.158353e-04</td>\n",
       "    </tr>\n",
       "    <tr>\n",
       "      <th>2</th>\n",
       "      <td>YAL003W</td>\n",
       "      <td>-0.000943</td>\n",
       "      <td>0.229250</td>\n",
       "      <td>0.352757</td>\n",
       "      <td>-0.003003</td>\n",
       "      <td>0.003925</td>\n",
       "      <td>0.010802</td>\n",
       "      <td>0.001522</td>\n",
       "      <td>0.318443</td>\n",
       "      <td>0.384209</td>\n",
       "      <td>...</td>\n",
       "      <td>0.746753</td>\n",
       "      <td>-0.000987</td>\n",
       "      <td>0.153352</td>\n",
       "      <td>0.311051</td>\n",
       "      <td>-0.000441</td>\n",
       "      <td>0.562403</td>\n",
       "      <td>0.736396</td>\n",
       "      <td>-0.007982</td>\n",
       "      <td>9.259972e-04</td>\n",
       "      <td>3.151266e-03</td>\n",
       "    </tr>\n",
       "    <tr>\n",
       "      <th>3</th>\n",
       "      <td>YAL004W</td>\n",
       "      <td>-0.002382</td>\n",
       "      <td>0.007998</td>\n",
       "      <td>0.027760</td>\n",
       "      <td>-0.003644</td>\n",
       "      <td>0.000029</td>\n",
       "      <td>0.000213</td>\n",
       "      <td>-0.004601</td>\n",
       "      <td>0.000003</td>\n",
       "      <td>0.000022</td>\n",
       "      <td>...</td>\n",
       "      <td>0.000010</td>\n",
       "      <td>0.000551</td>\n",
       "      <td>0.124345</td>\n",
       "      <td>0.268653</td>\n",
       "      <td>0.000005</td>\n",
       "      <td>0.989529</td>\n",
       "      <td>0.994539</td>\n",
       "      <td>-0.002847</td>\n",
       "      <td>9.238832e-02</td>\n",
       "      <td>1.501247e-01</td>\n",
       "    </tr>\n",
       "    <tr>\n",
       "      <th>4</th>\n",
       "      <td>YAL005C</td>\n",
       "      <td>-0.013759</td>\n",
       "      <td>0.003949</td>\n",
       "      <td>0.016252</td>\n",
       "      <td>-0.013101</td>\n",
       "      <td>0.000027</td>\n",
       "      <td>0.000200</td>\n",
       "      <td>-0.006521</td>\n",
       "      <td>0.013591</td>\n",
       "      <td>0.027155</td>\n",
       "      <td>...</td>\n",
       "      <td>0.004946</td>\n",
       "      <td>0.000161</td>\n",
       "      <td>0.901788</td>\n",
       "      <td>0.948002</td>\n",
       "      <td>-0.003349</td>\n",
       "      <td>0.096879</td>\n",
       "      <td>0.230280</td>\n",
       "      <td>-0.045376</td>\n",
       "      <td>4.379848e-12</td>\n",
       "      <td>6.803134e-11</td>\n",
       "    </tr>\n",
       "  </tbody>\n",
       "</table>\n",
       "<p>5 rows × 22 columns</p>\n",
       "</div>"
      ],
      "text/plain": [
       "       ORF  C01.FCC'     C01.P   C01.FDR  N01.FCC'     N01.P   N01.FDR  \\\n",
       "0  YAL001C  0.000096  0.915260  0.944105 -0.001095  0.065967  0.109748   \n",
       "1  YAL002W -0.001993  0.026023  0.068446 -0.003648  0.000111  0.000610   \n",
       "2  YAL003W -0.000943  0.229250  0.352757 -0.003003  0.003925  0.010802   \n",
       "3  YAL004W -0.002382  0.007998  0.027760 -0.003644  0.000029  0.000213   \n",
       "4  YAL005C -0.013759  0.003949  0.016252 -0.013101  0.000027  0.000200   \n",
       "\n",
       "   P01.FCC'     P01.P   P01.FDR  ...   N02.FDR  N03.FCC'     N03.P   N03.FDR  \\\n",
       "0  0.000170  0.835859  0.864944  ...  0.141287 -0.000196  0.734214  0.839357   \n",
       "1 -0.001709  0.019267  0.036640  ...  0.382266  0.001871  0.003500  0.027094   \n",
       "2  0.001522  0.318443  0.384209  ...  0.746753 -0.000987  0.153352  0.311051   \n",
       "3 -0.004601  0.000003  0.000022  ...  0.000010  0.000551  0.124345  0.268653   \n",
       "4 -0.006521  0.013591  0.027155  ...  0.004946  0.000161  0.901788  0.948002   \n",
       "\n",
       "   FPM03.FCC'   FPM03.P  FPM03.FDR  FPMTURB.FCC'     FPMTURB.P   FPMTURB.FDR  \n",
       "0   -0.000378  0.650849   0.801506     -0.006045  1.021981e-02  2.371797e-02  \n",
       "1    0.000887  0.037925   0.117223     -0.010963  1.965168e-05  1.158353e-04  \n",
       "2   -0.000441  0.562403   0.736396     -0.007982  9.259972e-04  3.151266e-03  \n",
       "3    0.000005  0.989529   0.994539     -0.002847  9.238832e-02  1.501247e-01  \n",
       "4   -0.003349  0.096879   0.230280     -0.045376  4.379848e-12  6.803134e-11  \n",
       "\n",
       "[5 rows x 22 columns]"
      ]
     },
     "execution_count": 7,
     "metadata": {},
     "output_type": "execute_result"
    }
   ],
   "source": [
    "original_data.head()"
   ]
  },
  {
   "cell_type": "code",
   "execution_count": 8,
   "metadata": {},
   "outputs": [],
   "source": [
    "original_data['orf'] = original_data['ORF'].astype(str)"
   ]
  },
  {
   "cell_type": "code",
   "execution_count": 9,
   "metadata": {},
   "outputs": [],
   "source": [
    "# Eliminate all white spaces & capitalize\n",
    "original_data['orf'] = clean_orf(original_data['orf'])"
   ]
  },
  {
   "cell_type": "code",
   "execution_count": 10,
   "metadata": {},
   "outputs": [],
   "source": [
    "# Translate to ORFs \n",
    "original_data['orf'] = translate_sc(original_data['orf'], to='orf')"
   ]
  },
  {
   "cell_type": "code",
   "execution_count": 11,
   "metadata": {},
   "outputs": [
    {
     "name": "stdout",
     "output_type": "stream",
     "text": [
      "Empty DataFrame\n",
      "Columns: [ORF, C01.FCC', C01.P, C01.FDR, N01.FCC', N01.P, N01.FDR, P01.FCC', P01.P, P01.FDR, N02.FCC', N02.P, N02.FDR, N03.FCC', N03.P, N03.FDR, FPM03.FCC', FPM03.P, FPM03.FDR, FPMTURB.FCC', FPMTURB.P, FPMTURB.FDR, orf]\n",
      "Index: []\n",
      "\n",
      "[0 rows x 23 columns]\n"
     ]
    }
   ],
   "source": [
    "# Make sure everything translated ok\n",
    "t = looks_like_orf(original_data['orf'])\n",
    "print(original_data.loc[~t,])"
   ]
  },
  {
   "cell_type": "code",
   "execution_count": 12,
   "metadata": {},
   "outputs": [],
   "source": [
    "original_data.set_index('orf', inplace=True)"
   ]
  },
  {
   "cell_type": "code",
   "execution_count": 13,
   "metadata": {},
   "outputs": [],
   "source": [
    "data_cols = [c for c in original_data.columns.values if '.FCC' in c]"
   ]
  },
  {
   "cell_type": "code",
   "execution_count": 15,
   "metadata": {},
   "outputs": [],
   "source": [
    "original_data = original_data[data_cols].copy()"
   ]
  },
  {
   "cell_type": "code",
   "execution_count": 16,
   "metadata": {},
   "outputs": [],
   "source": [
    "original_data = original_data.groupby(original_data.index).mean()"
   ]
  },
  {
   "cell_type": "code",
   "execution_count": 17,
   "metadata": {},
   "outputs": [
    {
     "data": {
      "text/plain": [
       "(5580, 7)"
      ]
     },
     "execution_count": 17,
     "metadata": {},
     "output_type": "execute_result"
    }
   ],
   "source": [
    "original_data.shape"
   ]
  },
  {
   "cell_type": "markdown",
   "metadata": {},
   "source": [
    "# Prepare the final dataset"
   ]
  },
  {
   "cell_type": "code",
   "execution_count": 18,
   "metadata": {},
   "outputs": [],
   "source": [
    "data = original_data.copy()"
   ]
  },
  {
   "cell_type": "code",
   "execution_count": 19,
   "metadata": {},
   "outputs": [],
   "source": [
    "dataset_ids = [11859, 11860, 11861, 15991, 15992, 15995, 15996]\n",
    "datasets = datasets.reindex(index=dataset_ids)"
   ]
  },
  {
   "cell_type": "code",
   "execution_count": 20,
   "metadata": {},
   "outputs": [],
   "source": [
    "lst = [datasets.index.values, ['value']*datasets.shape[0]]\n",
    "tuples = list(zip(*lst))\n",
    "idx = pd.MultiIndex.from_tuples(tuples, names=['dataset_id','data_type'])\n",
    "data.columns = idx"
   ]
  },
  {
   "cell_type": "code",
   "execution_count": 21,
   "metadata": {},
   "outputs": [
    {
     "data": {
      "text/html": [
       "<div>\n",
       "<style scoped>\n",
       "    .dataframe tbody tr th:only-of-type {\n",
       "        vertical-align: middle;\n",
       "    }\n",
       "\n",
       "    .dataframe tbody tr th {\n",
       "        vertical-align: top;\n",
       "    }\n",
       "\n",
       "    .dataframe thead tr th {\n",
       "        text-align: left;\n",
       "    }\n",
       "\n",
       "    .dataframe thead tr:last-of-type th {\n",
       "        text-align: right;\n",
       "    }\n",
       "</style>\n",
       "<table border=\"1\" class=\"dataframe\">\n",
       "  <thead>\n",
       "    <tr>\n",
       "      <th>dataset_id</th>\n",
       "      <th>11859</th>\n",
       "      <th>11860</th>\n",
       "      <th>11861</th>\n",
       "      <th>15991</th>\n",
       "      <th>15992</th>\n",
       "      <th>15995</th>\n",
       "      <th>15996</th>\n",
       "    </tr>\n",
       "    <tr>\n",
       "      <th>data_type</th>\n",
       "      <th>value</th>\n",
       "      <th>value</th>\n",
       "      <th>value</th>\n",
       "      <th>value</th>\n",
       "      <th>value</th>\n",
       "      <th>value</th>\n",
       "      <th>value</th>\n",
       "    </tr>\n",
       "    <tr>\n",
       "      <th>orf</th>\n",
       "      <th></th>\n",
       "      <th></th>\n",
       "      <th></th>\n",
       "      <th></th>\n",
       "      <th></th>\n",
       "      <th></th>\n",
       "      <th></th>\n",
       "    </tr>\n",
       "  </thead>\n",
       "  <tbody>\n",
       "    <tr>\n",
       "      <th>YAL001C</th>\n",
       "      <td>0.000096</td>\n",
       "      <td>-0.001095</td>\n",
       "      <td>0.000170</td>\n",
       "      <td>0.003133</td>\n",
       "      <td>-0.000196</td>\n",
       "      <td>-0.000378</td>\n",
       "      <td>-0.006045</td>\n",
       "    </tr>\n",
       "    <tr>\n",
       "      <th>YAL002W</th>\n",
       "      <td>-0.001993</td>\n",
       "      <td>-0.003648</td>\n",
       "      <td>-0.001709</td>\n",
       "      <td>0.002064</td>\n",
       "      <td>0.001871</td>\n",
       "      <td>0.000887</td>\n",
       "      <td>-0.010963</td>\n",
       "    </tr>\n",
       "    <tr>\n",
       "      <th>YAL003W</th>\n",
       "      <td>-0.000943</td>\n",
       "      <td>-0.003003</td>\n",
       "      <td>0.001522</td>\n",
       "      <td>0.000586</td>\n",
       "      <td>-0.000987</td>\n",
       "      <td>-0.000441</td>\n",
       "      <td>-0.007982</td>\n",
       "    </tr>\n",
       "    <tr>\n",
       "      <th>YAL004W</th>\n",
       "      <td>-0.002382</td>\n",
       "      <td>-0.003644</td>\n",
       "      <td>-0.004601</td>\n",
       "      <td>-0.007209</td>\n",
       "      <td>0.000551</td>\n",
       "      <td>0.000005</td>\n",
       "      <td>-0.002847</td>\n",
       "    </tr>\n",
       "    <tr>\n",
       "      <th>YAL005C</th>\n",
       "      <td>-0.013759</td>\n",
       "      <td>-0.013101</td>\n",
       "      <td>-0.006521</td>\n",
       "      <td>-0.019683</td>\n",
       "      <td>0.000161</td>\n",
       "      <td>-0.003349</td>\n",
       "      <td>-0.045376</td>\n",
       "    </tr>\n",
       "  </tbody>\n",
       "</table>\n",
       "</div>"
      ],
      "text/plain": [
       "dataset_id     11859     11860     11861     15991     15992     15995  \\\n",
       "data_type      value     value     value     value     value     value   \n",
       "orf                                                                      \n",
       "YAL001C     0.000096 -0.001095  0.000170  0.003133 -0.000196 -0.000378   \n",
       "YAL002W    -0.001993 -0.003648 -0.001709  0.002064  0.001871  0.000887   \n",
       "YAL003W    -0.000943 -0.003003  0.001522  0.000586 -0.000987 -0.000441   \n",
       "YAL004W    -0.002382 -0.003644 -0.004601 -0.007209  0.000551  0.000005   \n",
       "YAL005C    -0.013759 -0.013101 -0.006521 -0.019683  0.000161 -0.003349   \n",
       "\n",
       "dataset_id     15996  \n",
       "data_type      value  \n",
       "orf                   \n",
       "YAL001C    -0.006045  \n",
       "YAL002W    -0.010963  \n",
       "YAL003W    -0.007982  \n",
       "YAL004W    -0.002847  \n",
       "YAL005C    -0.045376  "
      ]
     },
     "execution_count": 21,
     "metadata": {},
     "output_type": "execute_result"
    }
   ],
   "source": [
    "data.head()"
   ]
  },
  {
   "cell_type": "markdown",
   "metadata": {},
   "source": [
    "## Subset to the genes currently in SGD"
   ]
  },
  {
   "cell_type": "code",
   "execution_count": 22,
   "metadata": {},
   "outputs": [
    {
     "name": "stdout",
     "output_type": "stream",
     "text": [
      "ORFs missing from SGD: 23\n"
     ]
    }
   ],
   "source": [
    "genes = pd.read_csv(path_to_genes, sep='\\t', index_col='id')\n",
    "genes = genes.reset_index().set_index('systematic_name')\n",
    "gene_ids = genes.reindex(index=data.index.values)['id'].values\n",
    "num_missing = np.sum(np.isnan(gene_ids))\n",
    "print('ORFs missing from SGD: %d' % num_missing)"
   ]
  },
  {
   "cell_type": "code",
   "execution_count": 23,
   "metadata": {},
   "outputs": [
    {
     "data": {
      "text/html": [
       "<div>\n",
       "<style scoped>\n",
       "    .dataframe tbody tr th:only-of-type {\n",
       "        vertical-align: middle;\n",
       "    }\n",
       "\n",
       "    .dataframe tbody tr th {\n",
       "        vertical-align: top;\n",
       "    }\n",
       "\n",
       "    .dataframe thead tr th {\n",
       "        text-align: left;\n",
       "    }\n",
       "\n",
       "    .dataframe thead tr:last-of-type th {\n",
       "        text-align: right;\n",
       "    }\n",
       "</style>\n",
       "<table border=\"1\" class=\"dataframe\">\n",
       "  <thead>\n",
       "    <tr>\n",
       "      <th></th>\n",
       "      <th>dataset_id</th>\n",
       "      <th>11859</th>\n",
       "      <th>11860</th>\n",
       "      <th>11861</th>\n",
       "      <th>15991</th>\n",
       "      <th>15992</th>\n",
       "      <th>15995</th>\n",
       "      <th>15996</th>\n",
       "    </tr>\n",
       "    <tr>\n",
       "      <th></th>\n",
       "      <th>data_type</th>\n",
       "      <th>value</th>\n",
       "      <th>value</th>\n",
       "      <th>value</th>\n",
       "      <th>value</th>\n",
       "      <th>value</th>\n",
       "      <th>value</th>\n",
       "      <th>value</th>\n",
       "    </tr>\n",
       "    <tr>\n",
       "      <th>gene_id</th>\n",
       "      <th>orf</th>\n",
       "      <th></th>\n",
       "      <th></th>\n",
       "      <th></th>\n",
       "      <th></th>\n",
       "      <th></th>\n",
       "      <th></th>\n",
       "      <th></th>\n",
       "    </tr>\n",
       "  </thead>\n",
       "  <tbody>\n",
       "    <tr>\n",
       "      <th>1</th>\n",
       "      <th>YAL001C</th>\n",
       "      <td>0.000096</td>\n",
       "      <td>-0.001095</td>\n",
       "      <td>0.000170</td>\n",
       "      <td>0.003133</td>\n",
       "      <td>-0.000196</td>\n",
       "      <td>-0.000378</td>\n",
       "      <td>-0.006045</td>\n",
       "    </tr>\n",
       "    <tr>\n",
       "      <th>2</th>\n",
       "      <th>YAL002W</th>\n",
       "      <td>-0.001993</td>\n",
       "      <td>-0.003648</td>\n",
       "      <td>-0.001709</td>\n",
       "      <td>0.002064</td>\n",
       "      <td>0.001871</td>\n",
       "      <td>0.000887</td>\n",
       "      <td>-0.010963</td>\n",
       "    </tr>\n",
       "    <tr>\n",
       "      <th>3</th>\n",
       "      <th>YAL003W</th>\n",
       "      <td>-0.000943</td>\n",
       "      <td>-0.003003</td>\n",
       "      <td>0.001522</td>\n",
       "      <td>0.000586</td>\n",
       "      <td>-0.000987</td>\n",
       "      <td>-0.000441</td>\n",
       "      <td>-0.007982</td>\n",
       "    </tr>\n",
       "    <tr>\n",
       "      <th>1863</th>\n",
       "      <th>YAL004W</th>\n",
       "      <td>-0.002382</td>\n",
       "      <td>-0.003644</td>\n",
       "      <td>-0.004601</td>\n",
       "      <td>-0.007209</td>\n",
       "      <td>0.000551</td>\n",
       "      <td>0.000005</td>\n",
       "      <td>-0.002847</td>\n",
       "    </tr>\n",
       "    <tr>\n",
       "      <th>4</th>\n",
       "      <th>YAL005C</th>\n",
       "      <td>-0.013759</td>\n",
       "      <td>-0.013101</td>\n",
       "      <td>-0.006521</td>\n",
       "      <td>-0.019683</td>\n",
       "      <td>0.000161</td>\n",
       "      <td>-0.003349</td>\n",
       "      <td>-0.045376</td>\n",
       "    </tr>\n",
       "  </tbody>\n",
       "</table>\n",
       "</div>"
      ],
      "text/plain": [
       "dataset_id          11859     11860     11861     15991     15992     15995  \\\n",
       "data_type           value     value     value     value     value     value   \n",
       "gene_id orf                                                                   \n",
       "1       YAL001C  0.000096 -0.001095  0.000170  0.003133 -0.000196 -0.000378   \n",
       "2       YAL002W -0.001993 -0.003648 -0.001709  0.002064  0.001871  0.000887   \n",
       "3       YAL003W -0.000943 -0.003003  0.001522  0.000586 -0.000987 -0.000441   \n",
       "1863    YAL004W -0.002382 -0.003644 -0.004601 -0.007209  0.000551  0.000005   \n",
       "4       YAL005C -0.013759 -0.013101 -0.006521 -0.019683  0.000161 -0.003349   \n",
       "\n",
       "dataset_id          15996  \n",
       "data_type           value  \n",
       "gene_id orf                \n",
       "1       YAL001C -0.006045  \n",
       "2       YAL002W -0.010963  \n",
       "3       YAL003W -0.007982  \n",
       "1863    YAL004W -0.002847  \n",
       "4       YAL005C -0.045376  "
      ]
     },
     "execution_count": 23,
     "metadata": {},
     "output_type": "execute_result"
    }
   ],
   "source": [
    "data['gene_id'] = gene_ids\n",
    "data = data.loc[data['gene_id'].notnull()]\n",
    "data['gene_id'] = data['gene_id'].astype(int)\n",
    "data = data.reset_index().set_index(['gene_id','orf'])\n",
    "\n",
    "data.head()"
   ]
  },
  {
   "cell_type": "markdown",
   "metadata": {},
   "source": [
    "# Normalize"
   ]
  },
  {
   "cell_type": "code",
   "execution_count": 24,
   "metadata": {},
   "outputs": [],
   "source": [
    "data_norm = normalize_phenotypic_scores(data, has_tested=True)"
   ]
  },
  {
   "cell_type": "code",
   "execution_count": 25,
   "metadata": {},
   "outputs": [],
   "source": [
    "# Assign proper column names\n",
    "lst = [datasets.index.values, ['valuez']*datasets.shape[0]]\n",
    "tuples = list(zip(*lst))\n",
    "idx = pd.MultiIndex.from_tuples(tuples, names=['dataset_id','data_type'])\n",
    "data_norm.columns = idx"
   ]
  },
  {
   "cell_type": "code",
   "execution_count": 26,
   "metadata": {},
   "outputs": [
    {
     "data": {
      "text/html": [
       "<div>\n",
       "<style scoped>\n",
       "    .dataframe tbody tr th:only-of-type {\n",
       "        vertical-align: middle;\n",
       "    }\n",
       "\n",
       "    .dataframe tbody tr th {\n",
       "        vertical-align: top;\n",
       "    }\n",
       "\n",
       "    .dataframe thead tr th {\n",
       "        text-align: left;\n",
       "    }\n",
       "\n",
       "    .dataframe thead tr:last-of-type th {\n",
       "        text-align: right;\n",
       "    }\n",
       "</style>\n",
       "<table border=\"1\" class=\"dataframe\">\n",
       "  <thead>\n",
       "    <tr>\n",
       "      <th></th>\n",
       "      <th>dataset_id</th>\n",
       "      <th>11859</th>\n",
       "      <th>11860</th>\n",
       "      <th>11861</th>\n",
       "      <th>15991</th>\n",
       "      <th>15992</th>\n",
       "      <th>15995</th>\n",
       "      <th>15996</th>\n",
       "      <th>11859</th>\n",
       "      <th>11860</th>\n",
       "      <th>11861</th>\n",
       "      <th>15991</th>\n",
       "      <th>15992</th>\n",
       "      <th>15995</th>\n",
       "      <th>15996</th>\n",
       "    </tr>\n",
       "    <tr>\n",
       "      <th></th>\n",
       "      <th>data_type</th>\n",
       "      <th>value</th>\n",
       "      <th>value</th>\n",
       "      <th>value</th>\n",
       "      <th>value</th>\n",
       "      <th>value</th>\n",
       "      <th>value</th>\n",
       "      <th>value</th>\n",
       "      <th>valuez</th>\n",
       "      <th>valuez</th>\n",
       "      <th>valuez</th>\n",
       "      <th>valuez</th>\n",
       "      <th>valuez</th>\n",
       "      <th>valuez</th>\n",
       "      <th>valuez</th>\n",
       "    </tr>\n",
       "    <tr>\n",
       "      <th>gene_id</th>\n",
       "      <th>orf</th>\n",
       "      <th></th>\n",
       "      <th></th>\n",
       "      <th></th>\n",
       "      <th></th>\n",
       "      <th></th>\n",
       "      <th></th>\n",
       "      <th></th>\n",
       "      <th></th>\n",
       "      <th></th>\n",
       "      <th></th>\n",
       "      <th></th>\n",
       "      <th></th>\n",
       "      <th></th>\n",
       "      <th></th>\n",
       "    </tr>\n",
       "  </thead>\n",
       "  <tbody>\n",
       "    <tr>\n",
       "      <th>1</th>\n",
       "      <th>YAL001C</th>\n",
       "      <td>0.000096</td>\n",
       "      <td>-0.001095</td>\n",
       "      <td>0.000170</td>\n",
       "      <td>0.003133</td>\n",
       "      <td>-0.000196</td>\n",
       "      <td>-0.000378</td>\n",
       "      <td>-0.006045</td>\n",
       "      <td>-0.038939</td>\n",
       "      <td>-0.780892</td>\n",
       "      <td>0.333107</td>\n",
       "      <td>0.487558</td>\n",
       "      <td>0.009411</td>\n",
       "      <td>-0.246361</td>\n",
       "      <td>-0.745007</td>\n",
       "    </tr>\n",
       "    <tr>\n",
       "      <th>2</th>\n",
       "      <th>YAL002W</th>\n",
       "      <td>-0.001993</td>\n",
       "      <td>-0.003648</td>\n",
       "      <td>-0.001709</td>\n",
       "      <td>0.002064</td>\n",
       "      <td>0.001871</td>\n",
       "      <td>0.000887</td>\n",
       "      <td>-0.010963</td>\n",
       "      <td>-0.907388</td>\n",
       "      <td>-1.905312</td>\n",
       "      <td>-0.299871</td>\n",
       "      <td>0.205069</td>\n",
       "      <td>1.399358</td>\n",
       "      <td>0.273883</td>\n",
       "      <td>-1.563454</td>\n",
       "    </tr>\n",
       "    <tr>\n",
       "      <th>3</th>\n",
       "      <th>YAL003W</th>\n",
       "      <td>-0.000943</td>\n",
       "      <td>-0.003003</td>\n",
       "      <td>0.001522</td>\n",
       "      <td>0.000586</td>\n",
       "      <td>-0.000987</td>\n",
       "      <td>-0.000441</td>\n",
       "      <td>-0.007982</td>\n",
       "      <td>-0.470698</td>\n",
       "      <td>-1.621269</td>\n",
       "      <td>0.788807</td>\n",
       "      <td>-0.185024</td>\n",
       "      <td>-0.522747</td>\n",
       "      <td>-0.272237</td>\n",
       "      <td>-1.067468</td>\n",
       "    </tr>\n",
       "    <tr>\n",
       "      <th>1863</th>\n",
       "      <th>YAL004W</th>\n",
       "      <td>-0.002382</td>\n",
       "      <td>-0.003644</td>\n",
       "      <td>-0.004601</td>\n",
       "      <td>-0.007209</td>\n",
       "      <td>0.000551</td>\n",
       "      <td>0.000005</td>\n",
       "      <td>-0.002847</td>\n",
       "      <td>-1.068837</td>\n",
       "      <td>-1.903842</td>\n",
       "      <td>-1.274368</td>\n",
       "      <td>-2.243035</td>\n",
       "      <td>0.511675</td>\n",
       "      <td>-0.088775</td>\n",
       "      <td>-0.212773</td>\n",
       "    </tr>\n",
       "    <tr>\n",
       "      <th>4</th>\n",
       "      <th>YAL005C</th>\n",
       "      <td>-0.013759</td>\n",
       "      <td>-0.013101</td>\n",
       "      <td>-0.006521</td>\n",
       "      <td>-0.019683</td>\n",
       "      <td>0.000161</td>\n",
       "      <td>-0.003349</td>\n",
       "      <td>-0.045376</td>\n",
       "      <td>-5.799100</td>\n",
       "      <td>-6.069234</td>\n",
       "      <td>-1.921552</td>\n",
       "      <td>-5.536533</td>\n",
       "      <td>0.249319</td>\n",
       "      <td>-1.468565</td>\n",
       "      <td>-7.290446</td>\n",
       "    </tr>\n",
       "  </tbody>\n",
       "</table>\n",
       "</div>"
      ],
      "text/plain": [
       "dataset_id          11859     11860     11861     15991     15992     15995  \\\n",
       "data_type           value     value     value     value     value     value   \n",
       "gene_id orf                                                                   \n",
       "1       YAL001C  0.000096 -0.001095  0.000170  0.003133 -0.000196 -0.000378   \n",
       "2       YAL002W -0.001993 -0.003648 -0.001709  0.002064  0.001871  0.000887   \n",
       "3       YAL003W -0.000943 -0.003003  0.001522  0.000586 -0.000987 -0.000441   \n",
       "1863    YAL004W -0.002382 -0.003644 -0.004601 -0.007209  0.000551  0.000005   \n",
       "4       YAL005C -0.013759 -0.013101 -0.006521 -0.019683  0.000161 -0.003349   \n",
       "\n",
       "dataset_id          15996     11859     11860     11861     15991     15992  \\\n",
       "data_type           value    valuez    valuez    valuez    valuez    valuez   \n",
       "gene_id orf                                                                   \n",
       "1       YAL001C -0.006045 -0.038939 -0.780892  0.333107  0.487558  0.009411   \n",
       "2       YAL002W -0.010963 -0.907388 -1.905312 -0.299871  0.205069  1.399358   \n",
       "3       YAL003W -0.007982 -0.470698 -1.621269  0.788807 -0.185024 -0.522747   \n",
       "1863    YAL004W -0.002847 -1.068837 -1.903842 -1.274368 -2.243035  0.511675   \n",
       "4       YAL005C -0.045376 -5.799100 -6.069234 -1.921552 -5.536533  0.249319   \n",
       "\n",
       "dataset_id          15995     15996  \n",
       "data_type          valuez    valuez  \n",
       "gene_id orf                          \n",
       "1       YAL001C -0.246361 -0.745007  \n",
       "2       YAL002W  0.273883 -1.563454  \n",
       "3       YAL003W -0.272237 -1.067468  \n",
       "1863    YAL004W -0.088775 -0.212773  \n",
       "4       YAL005C -1.468565 -7.290446  "
      ]
     },
     "execution_count": 26,
     "metadata": {},
     "output_type": "execute_result"
    }
   ],
   "source": [
    "data_norm[data.isnull()] = np.nan\n",
    "data_all = data.join(data_norm)\n",
    "\n",
    "data_all.head()"
   ]
  },
  {
   "cell_type": "markdown",
   "metadata": {},
   "source": [
    "# Print out"
   ]
  },
  {
   "cell_type": "code",
   "execution_count": 27,
   "metadata": {},
   "outputs": [],
   "source": [
    "for f in ['value','valuez']:\n",
    "    df = data_all.xs(f, level='data_type', axis=1).copy()\n",
    "    df.columns = datasets['name'].values\n",
    "    df = df.droplevel('gene_id', axis=0)\n",
    "    df.to_csv(paper_name + '_' + f + '.txt', sep='\\t')"
   ]
  },
  {
   "cell_type": "markdown",
   "metadata": {},
   "source": [
    "# Save to DB"
   ]
  },
  {
   "cell_type": "code",
   "execution_count": 28,
   "metadata": {},
   "outputs": [],
   "source": [
    "from IO.save_data_to_db3 import *"
   ]
  },
  {
   "cell_type": "code",
   "execution_count": 29,
   "metadata": {},
   "outputs": [
    {
     "name": "stdout",
     "output_type": "stream",
     "text": [
      "Deleting all datasets for PMID 22244311...\n"
     ]
    },
    {
     "name": "stderr",
     "output_type": "stream",
     "text": [
      "  0%|          | 0/7 [00:00<?, ?it/s]"
     ]
    },
    {
     "name": "stdout",
     "output_type": "stream",
     "text": [
      "Inserting the new data...\n"
     ]
    },
    {
     "name": "stderr",
     "output_type": "stream",
     "text": [
      "100%|██████████| 7/7 [01:00<00:00,  8.59s/it]"
     ]
    },
    {
     "name": "stdout",
     "output_type": "stream",
     "text": [
      "Updating the data_modified_on field...\n"
     ]
    },
    {
     "name": "stderr",
     "output_type": "stream",
     "text": [
      "\n"
     ]
    }
   ],
   "source": [
    "save_data_to_db(data_all, paper_pmid)"
   ]
  },
  {
   "cell_type": "code",
   "execution_count": null,
   "metadata": {},
   "outputs": [],
   "source": []
  }
 ],
 "metadata": {
  "kernelspec": {
   "display_name": "yp-data",
   "language": "python",
   "name": "yp-data"
  },
  "language_info": {
   "codemirror_mode": {
    "name": "ipython",
    "version": 3
   },
   "file_extension": ".py",
   "mimetype": "text/x-python",
   "name": "python",
   "nbconvert_exporter": "python",
   "pygments_lexer": "ipython3",
   "version": "3.7.7"
  }
 },
 "nbformat": 4,
 "nbformat_minor": 4
}
