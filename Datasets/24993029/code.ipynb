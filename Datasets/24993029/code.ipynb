{
 "cells": [
  {
   "cell_type": "code",
   "execution_count": 1,
   "metadata": {},
   "outputs": [],
   "source": [
    "%run ../yp_utils.py"
   ]
  },
  {
   "cell_type": "markdown",
   "metadata": {},
   "source": [
    "# Initial setup"
   ]
  },
  {
   "cell_type": "code",
   "execution_count": 2,
   "metadata": {},
   "outputs": [],
   "source": [
    "paper_pmid = 24993029\n",
    "paper_name = 'walker_jiranek_2014' "
   ]
  },
  {
   "cell_type": "code",
   "execution_count": 3,
   "metadata": {},
   "outputs": [],
   "source": [
    "datasets = pd.read_csv('extras/YeastPhenome_' + str(paper_pmid) + '_datasets_list.txt', sep='\\t', header=None, names=['dataset_id', 'name'])"
   ]
  },
  {
   "cell_type": "code",
   "execution_count": 4,
   "metadata": {},
   "outputs": [],
   "source": [
    "datasets.set_index('dataset_id', inplace=True)"
   ]
  },
  {
   "cell_type": "markdown",
   "metadata": {},
   "source": [
    "# Load & process the data"
   ]
  },
  {
   "cell_type": "code",
   "execution_count": 77,
   "metadata": {},
   "outputs": [],
   "source": [
    "original_data = pd.read_excel('raw_data/12864_2013_6243_MOESM1_ESM.xlsx', sheet_name=\"Add' file 1 BMC Genomics 2013\", skiprows=10)"
   ]
  },
  {
   "cell_type": "code",
   "execution_count": 78,
   "metadata": {},
   "outputs": [
    {
     "name": "stdout",
     "output_type": "stream",
     "text": [
      "Original data dimensions: 413 x 38\n"
     ]
    }
   ],
   "source": [
    "print('Original data dimensions: %d x %d' % (original_data.shape))"
   ]
  },
  {
   "cell_type": "code",
   "execution_count": 79,
   "metadata": {},
   "outputs": [
    {
     "data": {
      "text/html": [
       "<div>\n",
       "<style scoped>\n",
       "    .dataframe tbody tr th:only-of-type {\n",
       "        vertical-align: middle;\n",
       "    }\n",
       "\n",
       "    .dataframe tbody tr th {\n",
       "        vertical-align: top;\n",
       "    }\n",
       "\n",
       "    .dataframe thead th {\n",
       "        text-align: right;\n",
       "    }\n",
       "</style>\n",
       "<table border=\"1\" class=\"dataframe\">\n",
       "  <thead>\n",
       "    <tr style=\"text-align: right;\">\n",
       "      <th></th>\n",
       "      <th>Gene name</th>\n",
       "      <th>Systematic Name</th>\n",
       "      <th>Average</th>\n",
       "      <th>±</th>\n",
       "      <th>SD @180 h</th>\n",
       "      <th>Average.1</th>\n",
       "      <th>±.1</th>\n",
       "      <th>SD @ 137 h</th>\n",
       "      <th>Average.2</th>\n",
       "      <th>±.2</th>\n",
       "      <th>...</th>\n",
       "      <th>±.8</th>\n",
       "      <th>SD @ 56 h.1</th>\n",
       "      <th>Unnamed: 30</th>\n",
       "      <th>Unnamed: 31</th>\n",
       "      <th>Unnamed: 32</th>\n",
       "      <th>Gene name.1</th>\n",
       "      <th>Unnamed: 34</th>\n",
       "      <th>Unnamed: 35</th>\n",
       "      <th>Unnamed: 36</th>\n",
       "      <th>Unnamed: 37</th>\n",
       "    </tr>\n",
       "  </thead>\n",
       "  <tbody>\n",
       "    <tr>\n",
       "      <th>0</th>\n",
       "      <td>NaN</td>\n",
       "      <td>BY4743</td>\n",
       "      <td>-0.578632</td>\n",
       "      <td>±</td>\n",
       "      <td>0.0591673</td>\n",
       "      <td>2.48459</td>\n",
       "      <td>±</td>\n",
       "      <td>4.76508</td>\n",
       "      <td>1.56616</td>\n",
       "      <td>±</td>\n",
       "      <td>...</td>\n",
       "      <td>±</td>\n",
       "      <td>0.0608632</td>\n",
       "      <td>NaN</td>\n",
       "      <td>NaN</td>\n",
       "      <td>NaN</td>\n",
       "      <td>NaN</td>\n",
       "      <td>NaN</td>\n",
       "      <td>NaN</td>\n",
       "      <td>NaN</td>\n",
       "      <td>NaN</td>\n",
       "    </tr>\n",
       "    <tr>\n",
       "      <th>1</th>\n",
       "      <td>PAU8</td>\n",
       "      <td>YAL068C</td>\n",
       "      <td>7.29814</td>\n",
       "      <td>±</td>\n",
       "      <td>0.072242</td>\n",
       "      <td>1.94381</td>\n",
       "      <td>±</td>\n",
       "      <td>2.57873</td>\n",
       "      <td>1.227</td>\n",
       "      <td>±</td>\n",
       "      <td>...</td>\n",
       "      <td>±</td>\n",
       "      <td>0.0219203</td>\n",
       "      <td>NaN</td>\n",
       "      <td>NaN</td>\n",
       "      <td>NaN</td>\n",
       "      <td>NaN</td>\n",
       "      <td>NaN</td>\n",
       "      <td>NaN</td>\n",
       "      <td>NaN</td>\n",
       "      <td>NaN</td>\n",
       "    </tr>\n",
       "    <tr>\n",
       "      <th>2</th>\n",
       "      <td>CCR4</td>\n",
       "      <td>YAL021C</td>\n",
       "      <td>22.7759</td>\n",
       "      <td>±</td>\n",
       "      <td>0.624761</td>\n",
       "      <td>55.8968</td>\n",
       "      <td>±</td>\n",
       "      <td>2.70858</td>\n",
       "      <td>0.7395</td>\n",
       "      <td>±</td>\n",
       "      <td>...</td>\n",
       "      <td>±</td>\n",
       "      <td>0.0219203</td>\n",
       "      <td>149</td>\n",
       "      <td>99</td>\n",
       "      <td>1.50505</td>\n",
       "      <td>CCR4</td>\n",
       "      <td>YAL021C</td>\n",
       "      <td>NaN</td>\n",
       "      <td>NaN</td>\n",
       "      <td>NaN</td>\n",
       "    </tr>\n",
       "    <tr>\n",
       "      <th>3</th>\n",
       "      <td>ADE1</td>\n",
       "      <td>YAR015W</td>\n",
       "      <td>165.411</td>\n",
       "      <td>±</td>\n",
       "      <td>0.782509</td>\n",
       "      <td>225.744</td>\n",
       "      <td>±</td>\n",
       "      <td>17.4048</td>\n",
       "      <td>0.175</td>\n",
       "      <td>±</td>\n",
       "      <td>...</td>\n",
       "      <td>±</td>\n",
       "      <td>0.00424264</td>\n",
       "      <td>NaN</td>\n",
       "      <td>NaN</td>\n",
       "      <td>NaN</td>\n",
       "      <td>NaN</td>\n",
       "      <td>NaN</td>\n",
       "      <td>NaN</td>\n",
       "      <td>NaN</td>\n",
       "      <td>NaN</td>\n",
       "    </tr>\n",
       "    <tr>\n",
       "      <th>4</th>\n",
       "      <td>NaN</td>\n",
       "      <td>YAR015W</td>\n",
       "      <td>137.931</td>\n",
       "      <td>±</td>\n",
       "      <td>0.868976</td>\n",
       "      <td>NaN</td>\n",
       "      <td>NaN</td>\n",
       "      <td>NaN</td>\n",
       "      <td>NaN</td>\n",
       "      <td>NaN</td>\n",
       "      <td>...</td>\n",
       "      <td>NaN</td>\n",
       "      <td>NaN</td>\n",
       "      <td>NaN</td>\n",
       "      <td>NaN</td>\n",
       "      <td>NaN</td>\n",
       "      <td>NaN</td>\n",
       "      <td>NaN</td>\n",
       "      <td>NaN</td>\n",
       "      <td>NaN</td>\n",
       "      <td>NaN</td>\n",
       "    </tr>\n",
       "  </tbody>\n",
       "</table>\n",
       "<p>5 rows × 38 columns</p>\n",
       "</div>"
      ],
      "text/plain": [
       "  Gene name Systematic Name   Average  ±  SD @180 h Average.1  ±.1 SD @ 137 h  \\\n",
       "0       NaN          BY4743 -0.578632  ±  0.0591673   2.48459    ±    4.76508   \n",
       "1      PAU8         YAL068C   7.29814  ±   0.072242   1.94381    ±    2.57873   \n",
       "2      CCR4         YAL021C   22.7759  ±   0.624761   55.8968    ±    2.70858   \n",
       "3     ADE1          YAR015W   165.411  ±   0.782509   225.744    ±    17.4048   \n",
       "4       NaN         YAR015W   137.931  ±   0.868976       NaN  NaN        NaN   \n",
       "\n",
       "  Average.2  ±.2  ...  ±.8 SD @ 56 h.1 Unnamed: 30 Unnamed: 31 Unnamed: 32  \\\n",
       "0   1.56616    ±  ...    ±   0.0608632         NaN         NaN         NaN   \n",
       "1     1.227    ±  ...    ±   0.0219203         NaN         NaN         NaN   \n",
       "2    0.7395    ±  ...    ±   0.0219203         149          99     1.50505   \n",
       "3     0.175    ±  ...    ±  0.00424264         NaN         NaN         NaN   \n",
       "4       NaN  NaN  ...  NaN         NaN         NaN         NaN         NaN   \n",
       "\n",
       "  Gene name.1 Unnamed: 34 Unnamed: 35 Unnamed: 36 Unnamed: 37  \n",
       "0         NaN         NaN         NaN         NaN         NaN  \n",
       "1         NaN         NaN         NaN         NaN         NaN  \n",
       "2        CCR4     YAL021C         NaN         NaN         NaN  \n",
       "3         NaN         NaN         NaN         NaN         NaN  \n",
       "4         NaN         NaN         NaN         NaN         NaN  \n",
       "\n",
       "[5 rows x 38 columns]"
      ]
     },
     "execution_count": 79,
     "metadata": {},
     "output_type": "execute_result"
    }
   ],
   "source": [
    "original_data.head()"
   ]
  },
  {
   "cell_type": "code",
   "execution_count": 80,
   "metadata": {},
   "outputs": [],
   "source": [
    "original_data['orf'] = original_data['Systematic Name'].astype(str)"
   ]
  },
  {
   "cell_type": "code",
   "execution_count": 81,
   "metadata": {},
   "outputs": [],
   "source": [
    "# Eliminate all white spaces & capitalize\n",
    "original_data['orf'] = clean_orf(original_data['orf'])"
   ]
  },
  {
   "cell_type": "code",
   "execution_count": 82,
   "metadata": {},
   "outputs": [],
   "source": [
    "# Translate to ORFs \n",
    "original_data['orf'] = translate_sc(original_data['orf'], to='orf')"
   ]
  },
  {
   "cell_type": "code",
   "execution_count": 83,
   "metadata": {},
   "outputs": [
    {
     "name": "stdout",
     "output_type": "stream",
     "text": [
      "                                                     Gene name  \\\n",
      "index_input                                                      \n",
      "0                                                          NaN   \n",
      "66                                                         NaN   \n",
      "126                                                        NaN   \n",
      "389                                                        NaN   \n",
      "390                                                        NaN   \n",
      "391                                                        NaN   \n",
      "392                                                        NaN   \n",
      "393                                       Total deletants: 336   \n",
      "394                                                        NaN   \n",
      "395          Genes related in function to identified genes ...   \n",
      "396                                                        NaN   \n",
      "397                                                        NaN   \n",
      "398                                                        NaN   \n",
      "399                                                        NaN   \n",
      "400                                                  Gene name   \n",
      "\n",
      "             Systematic Name                Average    ±   SD @180 h  \\\n",
      "index_input                                                            \n",
      "0                     BY4743              -0.578632    ±   0.0591673   \n",
      "66                       NaN                    NaN  NaN         NaN   \n",
      "126                      NaN                    NaN  NaN         NaN   \n",
      "389                 negative                190.275    ±     26.7229   \n",
      "390                      NaN                    NaN  NaN         NaN   \n",
      "391                      NaN                    NaN  NaN         NaN   \n",
      "392                      NaN                    NaN  NaN         NaN   \n",
      "393                      NaN                    NaN  NaN         NaN   \n",
      "394                      NaN                    NaN  NaN         NaN   \n",
      "395                      NaN                    NaN  NaN         NaN   \n",
      "396                      NaN                    NaN  NaN         NaN   \n",
      "397                      NaN        Micro-Ferment 1  NaN         NaN   \n",
      "398                      NaN  high sugar: CDGJM_200  NaN         NaN   \n",
      "399                      NaN         Residual Sugar  NaN         NaN   \n",
      "400          Systematic Name                average    ±  SD @ 180 h   \n",
      "\n",
      "                         Average.1  ±.1  SD @ 137 h Average.2  ±.2  ...  \\\n",
      "index_input                                                         ...   \n",
      "0                          2.48459    ±     4.76508   1.56616    ±  ...   \n",
      "66                             NaN  NaN         NaN       NaN  NaN  ...   \n",
      "126                            NaN  NaN         NaN       NaN  NaN  ...   \n",
      "389                        179.735    ±     15.2702  0.179432    ±  ...   \n",
      "390                            NaN  NaN         NaN       NaN  NaN  ...   \n",
      "391                            NaN  NaN         NaN       NaN  NaN  ...   \n",
      "392                            NaN  NaN         NaN       NaN  NaN  ...   \n",
      "393                            NaN  NaN         NaN       NaN  NaN  ...   \n",
      "394                            NaN  NaN         NaN       NaN  NaN  ...   \n",
      "395                            NaN  NaN         NaN       NaN  NaN  ...   \n",
      "396                            NaN  NaN         NaN       NaN  NaN  ...   \n",
      "397                Micro-Ferment 2  NaN         NaN       NaN  NaN  ...   \n",
      "398          high sugar: CDGJM_200  NaN         NaN       NaN  NaN  ...   \n",
      "399                 Residual Sugar  NaN         NaN     OD600  NaN  ...   \n",
      "400                        average    ±  SD @ 137 h   average    ±  ...   \n",
      "\n",
      "            SD @ 56 h.1                     Unnamed: 30  \\\n",
      "index_input                                               \n",
      "0             0.0608632                             NaN   \n",
      "66                  NaN                             NaN   \n",
      "126                 NaN                             NaN   \n",
      "389          0.00353553                             NaN   \n",
      "390                 NaN                             NaN   \n",
      "391                 NaN                             NaN   \n",
      "392                 NaN                             NaN   \n",
      "393                 NaN                             NaN   \n",
      "394                 NaN                             NaN   \n",
      "395                 NaN                             NaN   \n",
      "396                 NaN                             NaN   \n",
      "397                 NaN                  100 mL Ferment   \n",
      "398                 NaN           high sugar: CDGJM_200   \n",
      "399                 NaN  Fermentation duration (mutant)   \n",
      "400           SD @ 56 h                             NaN   \n",
      "\n",
      "                                Unnamed: 31  \\\n",
      "index_input                                   \n",
      "0                                       NaN   \n",
      "66                                      NaN   \n",
      "126                                     NaN   \n",
      "389                                     NaN   \n",
      "390                                     NaN   \n",
      "391                                     NaN   \n",
      "392                                     NaN   \n",
      "393                                     NaN   \n",
      "394                                     NaN   \n",
      "395                                     NaN   \n",
      "396                                     NaN   \n",
      "397                                     NaN   \n",
      "398                                     NaN   \n",
      "399          Fermentation duration (BY4743)   \n",
      "400                                     NaN   \n",
      "\n",
      "                                           Unnamed: 32 Gene name.1  \\\n",
      "index_input                                                          \n",
      "0                                                  NaN         NaN   \n",
      "66                                                 NaN         NaN   \n",
      "126                                                NaN         NaN   \n",
      "389                                                NaN         NaN   \n",
      "390                                                NaN         NaN   \n",
      "391                                                NaN         NaN   \n",
      "392                                                NaN         NaN   \n",
      "393                                                NaN         NaN   \n",
      "394                                                NaN         NaN   \n",
      "395                                                NaN         NaN   \n",
      "396                                                NaN         NaN   \n",
      "397                                                NaN         NaN   \n",
      "398                                                NaN         NaN   \n",
      "399          Fermentation duration ratio mutant:parent         NaN   \n",
      "400                                                NaN   Gene name   \n",
      "\n",
      "                 Unnamed: 34 Unnamed: 35 Unnamed: 36 Unnamed: 37  \\\n",
      "index_input                                                        \n",
      "0                        NaN         NaN         NaN         NaN   \n",
      "66                       NaN         NaN         NaN         NaN   \n",
      "126                      NaN         NaN         NaN         NaN   \n",
      "389                      NaN         NaN         NaN         NaN   \n",
      "390                      NaN         NaN         NaN         NaN   \n",
      "391                      NaN         NaN         NaN         NaN   \n",
      "392                      NaN         NaN         NaN         NaN   \n",
      "393                      NaN         NaN         NaN         NaN   \n",
      "394                      NaN         NaN         NaN         NaN   \n",
      "395                      NaN         NaN         NaN         NaN   \n",
      "396                      NaN         NaN         NaN         NaN   \n",
      "397                      NaN         NaN         NaN         NaN   \n",
      "398                      NaN         NaN         NaN         NaN   \n",
      "399                      NaN         NaN         NaN         NaN   \n",
      "400          Systematic Name         NaN         NaN         NaN   \n",
      "\n",
      "                        orf  \n",
      "index_input                  \n",
      "0                    BY4743  \n",
      "66                      NAN  \n",
      "126                     NAN  \n",
      "389                NEGATIVE  \n",
      "390                     NAN  \n",
      "391                     NAN  \n",
      "392                     NAN  \n",
      "393                     NAN  \n",
      "394                     NAN  \n",
      "395                     NAN  \n",
      "396                     NAN  \n",
      "397                     NAN  \n",
      "398                     NAN  \n",
      "399                     NAN  \n",
      "400          SYSTEMATICNAME  \n",
      "\n",
      "[15 rows x 39 columns]\n"
     ]
    }
   ],
   "source": [
    "# Make sure everything translated ok\n",
    "t = looks_like_orf(original_data['orf'])\n",
    "print(original_data.loc[~t,])"
   ]
  },
  {
   "cell_type": "code",
   "execution_count": 84,
   "metadata": {},
   "outputs": [],
   "source": [
    "original_data['data'] = pd.to_numeric(original_data['Average'], errors='coerce')"
   ]
  },
  {
   "cell_type": "code",
   "execution_count": 85,
   "metadata": {},
   "outputs": [
    {
     "data": {
      "text/plain": [
       "index_input\n",
       "0   -0.578632\n",
       "Name: data, dtype: float64"
      ]
     },
     "execution_count": 85,
     "metadata": {},
     "output_type": "execute_result"
    }
   ],
   "source": [
    "original_data.loc[original_data['orf']=='BY4743','data']"
   ]
  },
  {
   "cell_type": "code",
   "execution_count": 90,
   "metadata": {},
   "outputs": [],
   "source": [
    "# Normalize to WT\n",
    "original_data['data'] = original_data.loc[original_data['orf']=='BY4743','data'].values - original_data['data'].values"
   ]
  },
  {
   "cell_type": "code",
   "execution_count": 92,
   "metadata": {},
   "outputs": [],
   "source": [
    "original_data = original_data.loc[t,:]"
   ]
  },
  {
   "cell_type": "code",
   "execution_count": 93,
   "metadata": {},
   "outputs": [],
   "source": [
    "original_data.set_index('orf', inplace=True)"
   ]
  },
  {
   "cell_type": "code",
   "execution_count": 94,
   "metadata": {},
   "outputs": [],
   "source": [
    "original_data = original_data[['data']].copy()"
   ]
  },
  {
   "cell_type": "code",
   "execution_count": 95,
   "metadata": {},
   "outputs": [],
   "source": [
    "original_data = original_data.groupby(original_data.index).mean()"
   ]
  },
  {
   "cell_type": "code",
   "execution_count": 96,
   "metadata": {},
   "outputs": [
    {
     "data": {
      "text/plain": [
       "(348, 1)"
      ]
     },
     "execution_count": 96,
     "metadata": {},
     "output_type": "execute_result"
    }
   ],
   "source": [
    "original_data.shape"
   ]
  },
  {
   "cell_type": "markdown",
   "metadata": {},
   "source": [
    "# Prepare the final dataset"
   ]
  },
  {
   "cell_type": "code",
   "execution_count": 97,
   "metadata": {},
   "outputs": [],
   "source": [
    "data = original_data.copy()"
   ]
  },
  {
   "cell_type": "code",
   "execution_count": 98,
   "metadata": {},
   "outputs": [],
   "source": [
    "dataset_ids = [11811]\n",
    "datasets = datasets.reindex(index=dataset_ids)"
   ]
  },
  {
   "cell_type": "code",
   "execution_count": 99,
   "metadata": {},
   "outputs": [],
   "source": [
    "lst = [datasets.index.values, ['value']*datasets.shape[0]]\n",
    "tuples = list(zip(*lst))\n",
    "idx = pd.MultiIndex.from_tuples(tuples, names=['dataset_id','data_type'])\n",
    "data.columns = idx"
   ]
  },
  {
   "cell_type": "code",
   "execution_count": 100,
   "metadata": {},
   "outputs": [
    {
     "data": {
      "text/html": [
       "<div>\n",
       "<style scoped>\n",
       "    .dataframe tbody tr th:only-of-type {\n",
       "        vertical-align: middle;\n",
       "    }\n",
       "\n",
       "    .dataframe tbody tr th {\n",
       "        vertical-align: top;\n",
       "    }\n",
       "\n",
       "    .dataframe thead tr th {\n",
       "        text-align: left;\n",
       "    }\n",
       "\n",
       "    .dataframe thead tr:last-of-type th {\n",
       "        text-align: right;\n",
       "    }\n",
       "</style>\n",
       "<table border=\"1\" class=\"dataframe\">\n",
       "  <thead>\n",
       "    <tr>\n",
       "      <th>dataset_id</th>\n",
       "      <th>11811</th>\n",
       "    </tr>\n",
       "    <tr>\n",
       "      <th>data_type</th>\n",
       "      <th>value</th>\n",
       "    </tr>\n",
       "    <tr>\n",
       "      <th>orf</th>\n",
       "      <th></th>\n",
       "    </tr>\n",
       "  </thead>\n",
       "  <tbody>\n",
       "    <tr>\n",
       "      <th>YAL021C</th>\n",
       "      <td>-23.354524</td>\n",
       "    </tr>\n",
       "    <tr>\n",
       "      <th>YAL047C</th>\n",
       "      <td>-9.927619</td>\n",
       "    </tr>\n",
       "    <tr>\n",
       "      <th>YAL068C</th>\n",
       "      <td>-7.876768</td>\n",
       "    </tr>\n",
       "    <tr>\n",
       "      <th>YAR015W</th>\n",
       "      <td>-152.249731</td>\n",
       "    </tr>\n",
       "    <tr>\n",
       "      <th>YAR018C</th>\n",
       "      <td>-7.718761</td>\n",
       "    </tr>\n",
       "  </tbody>\n",
       "</table>\n",
       "</div>"
      ],
      "text/plain": [
       "dataset_id       11811\n",
       "data_type        value\n",
       "orf                   \n",
       "YAL021C     -23.354524\n",
       "YAL047C      -9.927619\n",
       "YAL068C      -7.876768\n",
       "YAR015W    -152.249731\n",
       "YAR018C      -7.718761"
      ]
     },
     "execution_count": 100,
     "metadata": {},
     "output_type": "execute_result"
    }
   ],
   "source": [
    "data.head()"
   ]
  },
  {
   "cell_type": "markdown",
   "metadata": {},
   "source": [
    "## Subset to the genes currently in SGD"
   ]
  },
  {
   "cell_type": "code",
   "execution_count": 101,
   "metadata": {},
   "outputs": [
    {
     "name": "stdout",
     "output_type": "stream",
     "text": [
      "ORFs missing from SGD: 3\n"
     ]
    }
   ],
   "source": [
    "genes = pd.read_csv(path_to_genes, sep='\\t', index_col='id')\n",
    "genes = genes.reset_index().set_index('systematic_name')\n",
    "gene_ids = genes.reindex(index=data.index.values)['id'].values\n",
    "num_missing = np.sum(np.isnan(gene_ids))\n",
    "print('ORFs missing from SGD: %d' % num_missing)"
   ]
  },
  {
   "cell_type": "code",
   "execution_count": 102,
   "metadata": {},
   "outputs": [
    {
     "data": {
      "text/html": [
       "<div>\n",
       "<style scoped>\n",
       "    .dataframe tbody tr th:only-of-type {\n",
       "        vertical-align: middle;\n",
       "    }\n",
       "\n",
       "    .dataframe tbody tr th {\n",
       "        vertical-align: top;\n",
       "    }\n",
       "\n",
       "    .dataframe thead tr th {\n",
       "        text-align: left;\n",
       "    }\n",
       "\n",
       "    .dataframe thead tr:last-of-type th {\n",
       "        text-align: right;\n",
       "    }\n",
       "</style>\n",
       "<table border=\"1\" class=\"dataframe\">\n",
       "  <thead>\n",
       "    <tr>\n",
       "      <th></th>\n",
       "      <th>dataset_id</th>\n",
       "      <th>11811</th>\n",
       "    </tr>\n",
       "    <tr>\n",
       "      <th></th>\n",
       "      <th>data_type</th>\n",
       "      <th>value</th>\n",
       "    </tr>\n",
       "    <tr>\n",
       "      <th>gene_id</th>\n",
       "      <th>orf</th>\n",
       "      <th></th>\n",
       "    </tr>\n",
       "  </thead>\n",
       "  <tbody>\n",
       "    <tr>\n",
       "      <th>19</th>\n",
       "      <th>YAL021C</th>\n",
       "      <td>-23.354524</td>\n",
       "    </tr>\n",
       "    <tr>\n",
       "      <th>45</th>\n",
       "      <th>YAL047C</th>\n",
       "      <td>-9.927619</td>\n",
       "    </tr>\n",
       "    <tr>\n",
       "      <th>1869</th>\n",
       "      <th>YAL068C</th>\n",
       "      <td>-7.876768</td>\n",
       "    </tr>\n",
       "    <tr>\n",
       "      <th>67</th>\n",
       "      <th>YAR015W</th>\n",
       "      <td>-152.249731</td>\n",
       "    </tr>\n",
       "    <tr>\n",
       "      <th>68</th>\n",
       "      <th>YAR018C</th>\n",
       "      <td>-7.718761</td>\n",
       "    </tr>\n",
       "  </tbody>\n",
       "</table>\n",
       "</div>"
      ],
      "text/plain": [
       "dataset_id            11811\n",
       "data_type             value\n",
       "gene_id orf                \n",
       "19      YAL021C  -23.354524\n",
       "45      YAL047C   -9.927619\n",
       "1869    YAL068C   -7.876768\n",
       "67      YAR015W -152.249731\n",
       "68      YAR018C   -7.718761"
      ]
     },
     "execution_count": 102,
     "metadata": {},
     "output_type": "execute_result"
    }
   ],
   "source": [
    "data['gene_id'] = gene_ids\n",
    "data = data.loc[data['gene_id'].notnull()]\n",
    "data['gene_id'] = data['gene_id'].astype(int)\n",
    "data = data.reset_index().set_index(['gene_id','orf'])\n",
    "\n",
    "data.head()"
   ]
  },
  {
   "cell_type": "markdown",
   "metadata": {},
   "source": [
    "# Normalize"
   ]
  },
  {
   "cell_type": "code",
   "execution_count": 103,
   "metadata": {},
   "outputs": [],
   "source": [
    "data_norm = normalize_phenotypic_scores(data, has_tested=False)"
   ]
  },
  {
   "cell_type": "code",
   "execution_count": 104,
   "metadata": {},
   "outputs": [],
   "source": [
    "# Assign proper column names\n",
    "lst = [datasets.index.values, ['valuez']*datasets.shape[0]]\n",
    "tuples = list(zip(*lst))\n",
    "idx = pd.MultiIndex.from_tuples(tuples, names=['dataset_id','data_type'])\n",
    "data_norm.columns = idx"
   ]
  },
  {
   "cell_type": "code",
   "execution_count": 105,
   "metadata": {},
   "outputs": [
    {
     "data": {
      "text/html": [
       "<div>\n",
       "<style scoped>\n",
       "    .dataframe tbody tr th:only-of-type {\n",
       "        vertical-align: middle;\n",
       "    }\n",
       "\n",
       "    .dataframe tbody tr th {\n",
       "        vertical-align: top;\n",
       "    }\n",
       "\n",
       "    .dataframe thead tr th {\n",
       "        text-align: left;\n",
       "    }\n",
       "\n",
       "    .dataframe thead tr:last-of-type th {\n",
       "        text-align: right;\n",
       "    }\n",
       "</style>\n",
       "<table border=\"1\" class=\"dataframe\">\n",
       "  <thead>\n",
       "    <tr>\n",
       "      <th></th>\n",
       "      <th>dataset_id</th>\n",
       "      <th colspan=\"2\" halign=\"left\">11811</th>\n",
       "    </tr>\n",
       "    <tr>\n",
       "      <th></th>\n",
       "      <th>data_type</th>\n",
       "      <th>value</th>\n",
       "      <th>valuez</th>\n",
       "    </tr>\n",
       "    <tr>\n",
       "      <th>gene_id</th>\n",
       "      <th>orf</th>\n",
       "      <th></th>\n",
       "      <th></th>\n",
       "    </tr>\n",
       "  </thead>\n",
       "  <tbody>\n",
       "    <tr>\n",
       "      <th>19</th>\n",
       "      <th>YAL021C</th>\n",
       "      <td>-23.354524</td>\n",
       "      <td>-1.458617</td>\n",
       "    </tr>\n",
       "    <tr>\n",
       "      <th>45</th>\n",
       "      <th>YAL047C</th>\n",
       "      <td>-9.927619</td>\n",
       "      <td>-0.620034</td>\n",
       "    </tr>\n",
       "    <tr>\n",
       "      <th>1869</th>\n",
       "      <th>YAL068C</th>\n",
       "      <td>-7.876768</td>\n",
       "      <td>-0.491947</td>\n",
       "    </tr>\n",
       "    <tr>\n",
       "      <th>67</th>\n",
       "      <th>YAR015W</th>\n",
       "      <td>-152.249731</td>\n",
       "      <td>-9.508825</td>\n",
       "    </tr>\n",
       "    <tr>\n",
       "      <th>68</th>\n",
       "      <th>YAR018C</th>\n",
       "      <td>-7.718761</td>\n",
       "      <td>-0.482079</td>\n",
       "    </tr>\n",
       "  </tbody>\n",
       "</table>\n",
       "</div>"
      ],
      "text/plain": [
       "dataset_id            11811          \n",
       "data_type             value    valuez\n",
       "gene_id orf                          \n",
       "19      YAL021C  -23.354524 -1.458617\n",
       "45      YAL047C   -9.927619 -0.620034\n",
       "1869    YAL068C   -7.876768 -0.491947\n",
       "67      YAR015W -152.249731 -9.508825\n",
       "68      YAR018C   -7.718761 -0.482079"
      ]
     },
     "execution_count": 105,
     "metadata": {},
     "output_type": "execute_result"
    }
   ],
   "source": [
    "data_norm[data.isnull()] = np.nan\n",
    "data_all = data.join(data_norm)\n",
    "\n",
    "data_all.head()"
   ]
  },
  {
   "cell_type": "markdown",
   "metadata": {},
   "source": [
    "# Print out"
   ]
  },
  {
   "cell_type": "code",
   "execution_count": 106,
   "metadata": {},
   "outputs": [],
   "source": [
    "for f in ['value','valuez']:\n",
    "    df = data_all.xs(f, level='data_type', axis=1).copy()\n",
    "    df.columns = datasets['name'].values\n",
    "    df = df.droplevel('gene_id', axis=0)\n",
    "    df.to_csv(paper_name + '_' + f + '.txt', sep='\\t')"
   ]
  },
  {
   "cell_type": "markdown",
   "metadata": {},
   "source": [
    "# Save to DB"
   ]
  },
  {
   "cell_type": "code",
   "execution_count": 107,
   "metadata": {},
   "outputs": [],
   "source": [
    "from IO.save_data_to_db3 import *"
   ]
  },
  {
   "cell_type": "code",
   "execution_count": 108,
   "metadata": {},
   "outputs": [
    {
     "name": "stderr",
     "output_type": "stream",
     "text": [
      "  0%|          | 0/1 [00:00<?, ?it/s]"
     ]
    },
    {
     "name": "stdout",
     "output_type": "stream",
     "text": [
      "Deleting all datasets for PMID 24993029...\n",
      "Inserting the new data...\n"
     ]
    },
    {
     "name": "stderr",
     "output_type": "stream",
     "text": [
      "100%|██████████| 1/1 [00:00<00:00,  1.30it/s]"
     ]
    },
    {
     "name": "stdout",
     "output_type": "stream",
     "text": [
      "Updating the data_modified_on field...\n"
     ]
    },
    {
     "name": "stderr",
     "output_type": "stream",
     "text": [
      "\n"
     ]
    }
   ],
   "source": [
    "save_data_to_db(data_all, paper_pmid)"
   ]
  },
  {
   "cell_type": "code",
   "execution_count": null,
   "metadata": {},
   "outputs": [],
   "source": []
  }
 ],
 "metadata": {
  "kernelspec": {
   "display_name": "yp-data",
   "language": "python",
   "name": "yp-data"
  },
  "language_info": {
   "codemirror_mode": {
    "name": "ipython",
    "version": 3
   },
   "file_extension": ".py",
   "mimetype": "text/x-python",
   "name": "python",
   "nbconvert_exporter": "python",
   "pygments_lexer": "ipython3",
   "version": "3.7.7"
  }
 },
 "nbformat": 4,
 "nbformat_minor": 4
}
