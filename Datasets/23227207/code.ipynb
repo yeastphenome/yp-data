{
 "cells": [
  {
   "cell_type": "code",
   "execution_count": 4,
   "metadata": {},
   "outputs": [],
   "source": [
    "%run ../yp_utils.py"
   ]
  },
  {
   "cell_type": "markdown",
   "metadata": {},
   "source": [
    "# Initial setup"
   ]
  },
  {
   "cell_type": "code",
   "execution_count": 5,
   "metadata": {},
   "outputs": [],
   "source": [
    "paper_pmid = 23227207\n",
    "paper_name = 'serviene_urbonavicius_2012' "
   ]
  },
  {
   "cell_type": "code",
   "execution_count": 6,
   "metadata": {},
   "outputs": [],
   "source": [
    "datasets = pd.read_csv('extras/YeastPhenome_' + str(paper_pmid) + '_datasets_list.txt', sep='\\t', header=None, names=['dataset_id', 'name'])"
   ]
  },
  {
   "cell_type": "code",
   "execution_count": 7,
   "metadata": {},
   "outputs": [],
   "source": [
    "datasets.set_index('dataset_id', inplace=True)"
   ]
  },
  {
   "cell_type": "markdown",
   "metadata": {},
   "source": [
    "# Load & process the data"
   ]
  },
  {
   "cell_type": "code",
   "execution_count": 60,
   "metadata": {},
   "outputs": [],
   "source": [
    "files = ['pone.0050779.s004.xls','pone.0050779.s005.xls']"
   ]
  },
  {
   "cell_type": "code",
   "execution_count": 61,
   "metadata": {},
   "outputs": [],
   "source": [
    "def get_score(s):\n",
    "    s = str(s).replace(\" \",\"\")\n",
    "    scale = {'+/-':1,'+':2,'++':3,'+++':4}\n",
    "    \n",
    "    if s[0] == 'R':\n",
    "        score = scale[s[1:]]\n",
    "    elif s[0] == 'S':\n",
    "        score = -scale[s[1:]]\n",
    "    else:\n",
    "        score = np.nan\n",
    "    return score"
   ]
  },
  {
   "cell_type": "code",
   "execution_count": 62,
   "metadata": {},
   "outputs": [
    {
     "name": "stdout",
     "output_type": "stream",
     "text": [
      "Original data dimensions: 238 x 9\n",
      "                  Cell wall organization and biogenesis Unnamed: 1  \\\n",
      "index_input                                                          \n",
      "11                                        Glycosylation        NaN   \n",
      "19                  Membrane organization and transport        NaN   \n",
      "36                      Transcription / gene expression        NaN   \n",
      "48                                       RNA processing        NaN   \n",
      "50                               Ribosome / translation        NaN   \n",
      "55           Protein folding, modification, degradation        NaN   \n",
      "67                                           Metabolism        NaN   \n",
      "76                                           Cell cycle        NaN   \n",
      "83                                        Mitochondrial        NaN   \n",
      "99                                     Unknown function        NaN   \n",
      "118                          Dubious open reading frame        NaN   \n",
      "128                                                 NaN        NaN   \n",
      "129                                        K2 sensitive        NaN   \n",
      "130                                                 NaN        NaN   \n",
      "131                                              ORF ID  Gene Name   \n",
      "132                                                 NaN        NaN   \n",
      "133                                           Signaling        NaN   \n",
      "141                                Secretion, transport        NaN   \n",
      "158            Chromosome organization, gene expression        NaN   \n",
      "177                                      RNA processing        NaN   \n",
      "183                                         Translation        NaN   \n",
      "195            Protein maturation, folding, degradation        NaN   \n",
      "203                                          Metabolism        NaN   \n",
      "211                           Cytoskeleton organization        NaN   \n",
      "216                                          Cell cycle        NaN   \n",
      "220                                        Mitochondria        NaN   \n",
      "224                                    Unknown function        NaN   \n",
      "231                          Dubious open reading frame        NaN   \n",
      "\n",
      "                 Unnamed: 2                           Unnamed: 3   Unnamed: 4  \\\n",
      "index_input                                                                     \n",
      "11                      NaN                                  NaN          NaN   \n",
      "19                      NaN                                  NaN          NaN   \n",
      "36                      NaN                                  NaN          NaN   \n",
      "48                      NaN                                  NaN          NaN   \n",
      "50                      NaN                                  NaN          NaN   \n",
      "55                      NaN                                  NaN          NaN   \n",
      "67                      NaN                                  NaN          NaN   \n",
      "76                      NaN                                  NaN          NaN   \n",
      "83                      NaN                                  NaN          NaN   \n",
      "99                      NaN                                  NaN          NaN   \n",
      "118                     NaN                                  NaN          NaN   \n",
      "128                     NaN                                  NaN          NaN   \n",
      "129                     NaN                                  NaN          NaN   \n",
      "130                     NaN                                  NaN          NaN   \n",
      "131          PCR validation  Phenotype from different K2 screens          NaN   \n",
      "132                     NaN                         MB/K2 cells*  MB/K2 Tox**   \n",
      "133                     NaN                                  NaN          NaN   \n",
      "141                     NaN                                  NaN          NaN   \n",
      "158                     NaN                                  NaN          NaN   \n",
      "177                     NaN                                  NaN          NaN   \n",
      "183                     NaN                                  NaN          NaN   \n",
      "195                     NaN                                  NaN          NaN   \n",
      "203                     NaN                                  NaN          NaN   \n",
      "211                     NaN                                  NaN          NaN   \n",
      "216                     NaN                                  NaN          NaN   \n",
      "220                     NaN                                  NaN          NaN   \n",
      "224                     NaN                                  NaN          NaN   \n",
      "231                     NaN                                  NaN          NaN   \n",
      "\n",
      "                  Unnamed: 5 Unnamed: 6  Unnamed: 7   Unnamed: 8  \\\n",
      "index_input                                                        \n",
      "11                       NaN        NaN         NaN          NaN   \n",
      "19                       NaN        NaN         NaN          NaN   \n",
      "36                       NaN        NaN         NaN          NaN   \n",
      "48                       NaN        NaN         NaN          NaN   \n",
      "50                       NaN        NaN         NaN          NaN   \n",
      "55                       NaN        NaN         NaN          NaN   \n",
      "67                       NaN        NaN         NaN          NaN   \n",
      "76                       NaN        NaN         NaN          NaN   \n",
      "83                       NaN        NaN         NaN          NaN   \n",
      "99                       NaN        NaN         NaN          NaN   \n",
      "118                      NaN        NaN         NaN          NaN   \n",
      "128                      NaN        NaN         NaN          NaN   \n",
      "129                      NaN        NaN         NaN          NaN   \n",
      "130                      NaN        NaN         NaN          NaN   \n",
      "131                      NaN  K1 screen  K28 screen  Description   \n",
      "132          Lysis zones***         NaN         NaN          NaN   \n",
      "133                      NaN        NaN         NaN          NaN   \n",
      "141                      NaN        NaN         NaN          NaN   \n",
      "158                      NaN        NaN         NaN          NaN   \n",
      "177                      NaN        NaN         NaN          NaN   \n",
      "183                      NaN        NaN         NaN          NaN   \n",
      "195                      NaN        NaN         NaN          NaN   \n",
      "203                      NaN        NaN         NaN          NaN   \n",
      "211                      NaN        NaN         NaN          NaN   \n",
      "216                      NaN        NaN         NaN          NaN   \n",
      "220                      NaN        NaN         NaN          NaN   \n",
      "224                      NaN        NaN         NaN          NaN   \n",
      "231                      NaN        NaN         NaN          NaN   \n",
      "\n",
      "                                               orf  \n",
      "index_input                                         \n",
      "11                                   GLYCOSYLATION  \n",
      "19                MEMBRANEORGANIZATIONANDTRANSPORT  \n",
      "36                     TRANSCRIPTIONGENEEXPRESSION  \n",
      "48                                   RNAPROCESSING  \n",
      "50                             RIBOSOMETRANSLATION  \n",
      "55           PROTEINFOLDINGMODIFICATIONDEGRADATION  \n",
      "67                                      METABOLISM  \n",
      "76                                       CELLCYCLE  \n",
      "83                                   MITOCHONDRIAL  \n",
      "99                                 UNKNOWNFUNCTION  \n",
      "118                        DUBIOUSOPENREADINGFRAME  \n",
      "128                                            NAN  \n",
      "129                                    K2SENSITIVE  \n",
      "130                                            NAN  \n",
      "131                                          ORFID  \n",
      "132                                            NAN  \n",
      "133                                      SIGNALING  \n",
      "141                             SECRETIONTRANSPORT  \n",
      "158           CHROMOSOMEORGANIZATIONGENEEXPRESSION  \n",
      "177                                  RNAPROCESSING  \n",
      "183                                    TRANSLATION  \n",
      "195            PROTEINMATURATIONFOLDINGDEGRADATION  \n",
      "203                                     METABOLISM  \n",
      "211                       CYTOSKELETONORGANIZATION  \n",
      "216                                      CELLCYCLE  \n",
      "220                                   MITOCHONDRIA  \n",
      "224                                UNKNOWNFUNCTION  \n",
      "231                        DUBIOUSOPENREADINGFRAME  \n",
      "(210, 3)\n",
      "Original data dimensions: 411 x 9\n",
      "            Cell wall organization and biogenesis Unnamed: 1 Unnamed: 2  \\\n",
      "index_input                                                               \n",
      "2                                   Glycosylation        NaN        NaN   \n",
      "7                             Membrane, transport        NaN        NaN   \n",
      "17                Transcription / gene expression        NaN        NaN   \n",
      "24                         Ribosome / translation        NaN        NaN   \n",
      "29              Protein modification, degradation        NaN        NaN   \n",
      "...                                           ...        ...        ...   \n",
      "406                                           NaN        NaN        NaN   \n",
      "407                                           NaN        NaN        NaN   \n",
      "408                                           NaN        NaN        NaN   \n",
      "409                                           NaN        NaN        NaN   \n",
      "410                                           NaN        NaN        NaN   \n",
      "\n",
      "            Unnamed: 3 Unnamed: 4   Unnamed: 5 Unnamed: 6 Unnamed: 7  \\\n",
      "index_input                                                            \n",
      "2                  NaN        NaN          NaN        NaN        NaN   \n",
      "7                  NaN        NaN          NaN        NaN        NaN   \n",
      "17                 NaN        NaN          NaN        NaN        NaN   \n",
      "24                 NaN        NaN          NaN        NaN        NaN   \n",
      "29                 NaN        NaN          NaN        NaN        NaN   \n",
      "...                ...        ...          ...        ...        ...   \n",
      "406                NaN        NaN          NaN        NaN        NaN   \n",
      "407                NaN        NaN          NaN        NaN        NaN   \n",
      "408                NaN        NaN          NaN        NaN        NaN   \n",
      "409                NaN        NaN          NaN        NaN        NaN   \n",
      "410                NaN        NaN  is viso 332        NaN        NaN   \n",
      "\n",
      "            Unnamed: 8                             orf  \n",
      "index_input                                             \n",
      "2                  NaN                   GLYCOSYLATION  \n",
      "7                  NaN               MEMBRANETRANSPORT  \n",
      "17                 NaN     TRANSCRIPTIONGENEEXPRESSION  \n",
      "24                 NaN             RIBOSOMETRANSLATION  \n",
      "29                 NaN  PROTEINMODIFICATIONDEGRADATION  \n",
      "...                ...                             ...  \n",
      "406                NaN                             NAN  \n",
      "407                NaN                             NAN  \n",
      "408                NaN                             NAN  \n",
      "409                NaN                             NAN  \n",
      "410                NaN                             NAN  \n",
      "\n",
      "[289 rows x 10 columns]\n",
      "(122, 3)\n"
     ]
    }
   ],
   "source": [
    "original_data_list = []\n",
    "\n",
    "for f  in files:\n",
    "    original_data = pd.read_excel('raw_data/' + f, sheet_name='Sheet1', skiprows=10)\n",
    "    print('Original data dimensions: %d x %d' % (original_data.shape))\n",
    "    original_data['orf'] = original_data.iloc[:,0].astype(str)\n",
    "    original_data['orf'] = clean_orf(original_data['orf'])\n",
    "    original_data['orf'] = translate_sc(original_data['orf'], to='orf')\n",
    "    t = looks_like_orf(original_data['orf'])\n",
    "    print(original_data.loc[~t,])\n",
    "    original_data = original_data.loc[t,:]\n",
    "    \n",
    "    for f in ['Unnamed: 3','Unnamed: 4','Unnamed: 5']:\n",
    "        original_data[f] = original_data[f].apply(get_score)\n",
    "        \n",
    "    original_data.set_index('orf', inplace=True)\n",
    "    original_data = original_data.loc[:,['Unnamed: 3','Unnamed: 4','Unnamed: 5']]\n",
    "    original_data = original_data.groupby(original_data.index).mean()\n",
    "    \n",
    "    print(original_data.shape)\n",
    "    original_data_list.append(original_data)"
   ]
  },
  {
   "cell_type": "code",
   "execution_count": 63,
   "metadata": {},
   "outputs": [],
   "source": [
    "original_data1, original_data2 = original_data_list"
   ]
  },
  {
   "cell_type": "code",
   "execution_count": 64,
   "metadata": {},
   "outputs": [],
   "source": [
    "original_data = original_data1.join(original_data2, how='outer', lsuffix='_1', rsuffix='_2')"
   ]
  },
  {
   "cell_type": "code",
   "execution_count": 66,
   "metadata": {},
   "outputs": [],
   "source": [
    "original_data['data'] = original_data.sum(axis=1)"
   ]
  },
  {
   "cell_type": "code",
   "execution_count": 69,
   "metadata": {},
   "outputs": [
    {
     "data": {
      "text/html": [
       "<div>\n",
       "<style scoped>\n",
       "    .dataframe tbody tr th:only-of-type {\n",
       "        vertical-align: middle;\n",
       "    }\n",
       "\n",
       "    .dataframe tbody tr th {\n",
       "        vertical-align: top;\n",
       "    }\n",
       "\n",
       "    .dataframe thead th {\n",
       "        text-align: right;\n",
       "    }\n",
       "</style>\n",
       "<table border=\"1\" class=\"dataframe\">\n",
       "  <thead>\n",
       "    <tr style=\"text-align: right;\">\n",
       "      <th></th>\n",
       "      <th>Unnamed: 3_1</th>\n",
       "      <th>Unnamed: 4_1</th>\n",
       "      <th>Unnamed: 5_1</th>\n",
       "      <th>Unnamed: 3_2</th>\n",
       "      <th>Unnamed: 4_2</th>\n",
       "      <th>Unnamed: 5_2</th>\n",
       "      <th>data</th>\n",
       "    </tr>\n",
       "    <tr>\n",
       "      <th>orf</th>\n",
       "      <th></th>\n",
       "      <th></th>\n",
       "      <th></th>\n",
       "      <th></th>\n",
       "      <th></th>\n",
       "      <th></th>\n",
       "      <th></th>\n",
       "    </tr>\n",
       "  </thead>\n",
       "  <tbody>\n",
       "    <tr>\n",
       "      <th>YNL322C</th>\n",
       "      <td>4.0</td>\n",
       "      <td>4.0</td>\n",
       "      <td>4.0</td>\n",
       "      <td>NaN</td>\n",
       "      <td>NaN</td>\n",
       "      <td>NaN</td>\n",
       "      <td>12.0</td>\n",
       "    </tr>\n",
       "    <tr>\n",
       "      <th>YOR003W</th>\n",
       "      <td>4.0</td>\n",
       "      <td>4.0</td>\n",
       "      <td>3.0</td>\n",
       "      <td>NaN</td>\n",
       "      <td>NaN</td>\n",
       "      <td>NaN</td>\n",
       "      <td>11.0</td>\n",
       "    </tr>\n",
       "    <tr>\n",
       "      <th>YNL309W</th>\n",
       "      <td>4.0</td>\n",
       "      <td>4.0</td>\n",
       "      <td>3.0</td>\n",
       "      <td>NaN</td>\n",
       "      <td>NaN</td>\n",
       "      <td>NaN</td>\n",
       "      <td>11.0</td>\n",
       "    </tr>\n",
       "    <tr>\n",
       "      <th>YER166W</th>\n",
       "      <td>4.0</td>\n",
       "      <td>4.0</td>\n",
       "      <td>3.0</td>\n",
       "      <td>NaN</td>\n",
       "      <td>NaN</td>\n",
       "      <td>NaN</td>\n",
       "      <td>11.0</td>\n",
       "    </tr>\n",
       "    <tr>\n",
       "      <th>YGR166W</th>\n",
       "      <td>4.0</td>\n",
       "      <td>4.0</td>\n",
       "      <td>3.0</td>\n",
       "      <td>NaN</td>\n",
       "      <td>NaN</td>\n",
       "      <td>NaN</td>\n",
       "      <td>11.0</td>\n",
       "    </tr>\n",
       "  </tbody>\n",
       "</table>\n",
       "</div>"
      ],
      "text/plain": [
       "         Unnamed: 3_1  Unnamed: 4_1  Unnamed: 5_1  Unnamed: 3_2  Unnamed: 4_2  \\\n",
       "orf                                                                             \n",
       "YNL322C           4.0           4.0           4.0           NaN           NaN   \n",
       "YOR003W           4.0           4.0           3.0           NaN           NaN   \n",
       "YNL309W           4.0           4.0           3.0           NaN           NaN   \n",
       "YER166W           4.0           4.0           3.0           NaN           NaN   \n",
       "YGR166W           4.0           4.0           3.0           NaN           NaN   \n",
       "\n",
       "         Unnamed: 5_2  data  \n",
       "orf                          \n",
       "YNL322C           NaN  12.0  \n",
       "YOR003W           NaN  11.0  \n",
       "YNL309W           NaN  11.0  \n",
       "YER166W           NaN  11.0  \n",
       "YGR166W           NaN  11.0  "
      ]
     },
     "execution_count": 69,
     "metadata": {},
     "output_type": "execute_result"
    }
   ],
   "source": [
    "original_data.sort_values(by='data', ascending=False).head()"
   ]
  },
  {
   "cell_type": "markdown",
   "metadata": {},
   "source": [
    "# Prepare the final dataset"
   ]
  },
  {
   "cell_type": "code",
   "execution_count": 70,
   "metadata": {},
   "outputs": [],
   "source": [
    "data = original_data[['data']].copy()"
   ]
  },
  {
   "cell_type": "code",
   "execution_count": 71,
   "metadata": {},
   "outputs": [],
   "source": [
    "dataset_ids = [16525]\n",
    "datasets = datasets.reindex(index=dataset_ids)"
   ]
  },
  {
   "cell_type": "code",
   "execution_count": 72,
   "metadata": {},
   "outputs": [],
   "source": [
    "lst = [datasets.index.values, ['value']*datasets.shape[0]]\n",
    "tuples = list(zip(*lst))\n",
    "idx = pd.MultiIndex.from_tuples(tuples, names=['dataset_id','data_type'])\n",
    "data.columns = idx"
   ]
  },
  {
   "cell_type": "code",
   "execution_count": 73,
   "metadata": {},
   "outputs": [
    {
     "data": {
      "text/html": [
       "<div>\n",
       "<style scoped>\n",
       "    .dataframe tbody tr th:only-of-type {\n",
       "        vertical-align: middle;\n",
       "    }\n",
       "\n",
       "    .dataframe tbody tr th {\n",
       "        vertical-align: top;\n",
       "    }\n",
       "\n",
       "    .dataframe thead tr th {\n",
       "        text-align: left;\n",
       "    }\n",
       "\n",
       "    .dataframe thead tr:last-of-type th {\n",
       "        text-align: right;\n",
       "    }\n",
       "</style>\n",
       "<table border=\"1\" class=\"dataframe\">\n",
       "  <thead>\n",
       "    <tr>\n",
       "      <th>dataset_id</th>\n",
       "      <th>16525</th>\n",
       "    </tr>\n",
       "    <tr>\n",
       "      <th>data_type</th>\n",
       "      <th>value</th>\n",
       "    </tr>\n",
       "    <tr>\n",
       "      <th>orf</th>\n",
       "      <th></th>\n",
       "    </tr>\n",
       "  </thead>\n",
       "  <tbody>\n",
       "    <tr>\n",
       "      <th>YAL010C</th>\n",
       "      <td>-5.0</td>\n",
       "    </tr>\n",
       "    <tr>\n",
       "      <th>YAL019W</th>\n",
       "      <td>7.0</td>\n",
       "    </tr>\n",
       "    <tr>\n",
       "      <th>YAL021C</th>\n",
       "      <td>9.0</td>\n",
       "    </tr>\n",
       "    <tr>\n",
       "      <th>YAL023C</th>\n",
       "      <td>8.0</td>\n",
       "    </tr>\n",
       "    <tr>\n",
       "      <th>YAL026C</th>\n",
       "      <td>8.0</td>\n",
       "    </tr>\n",
       "  </tbody>\n",
       "</table>\n",
       "</div>"
      ],
      "text/plain": [
       "dataset_id 16525\n",
       "data_type  value\n",
       "orf             \n",
       "YAL010C     -5.0\n",
       "YAL019W      7.0\n",
       "YAL021C      9.0\n",
       "YAL023C      8.0\n",
       "YAL026C      8.0"
      ]
     },
     "execution_count": 73,
     "metadata": {},
     "output_type": "execute_result"
    }
   ],
   "source": [
    "data.head()"
   ]
  },
  {
   "cell_type": "markdown",
   "metadata": {},
   "source": [
    "## Subset to the genes currently in SGD"
   ]
  },
  {
   "cell_type": "code",
   "execution_count": 74,
   "metadata": {},
   "outputs": [
    {
     "name": "stdout",
     "output_type": "stream",
     "text": [
      "ORFs missing from SGD: 2\n"
     ]
    }
   ],
   "source": [
    "genes = pd.read_csv(path_to_genes, sep='\\t', index_col='id')\n",
    "genes = genes.reset_index().set_index('systematic_name')\n",
    "gene_ids = genes.reindex(index=data.index.values)['id'].values\n",
    "num_missing = np.sum(np.isnan(gene_ids))\n",
    "print('ORFs missing from SGD: %d' % num_missing)"
   ]
  },
  {
   "cell_type": "code",
   "execution_count": 75,
   "metadata": {},
   "outputs": [],
   "source": [
    "data['gene_id'] = gene_ids\n",
    "data = data.loc[data['gene_id'].notnull()]\n",
    "data['gene_id'] = data['gene_id'].astype(int)\n",
    "data = data.reset_index().set_index(['gene_id','orf'])"
   ]
  },
  {
   "cell_type": "code",
   "execution_count": 76,
   "metadata": {},
   "outputs": [
    {
     "data": {
      "text/html": [
       "<div>\n",
       "<style scoped>\n",
       "    .dataframe tbody tr th:only-of-type {\n",
       "        vertical-align: middle;\n",
       "    }\n",
       "\n",
       "    .dataframe tbody tr th {\n",
       "        vertical-align: top;\n",
       "    }\n",
       "\n",
       "    .dataframe thead tr th {\n",
       "        text-align: left;\n",
       "    }\n",
       "\n",
       "    .dataframe thead tr:last-of-type th {\n",
       "        text-align: right;\n",
       "    }\n",
       "</style>\n",
       "<table border=\"1\" class=\"dataframe\">\n",
       "  <thead>\n",
       "    <tr>\n",
       "      <th></th>\n",
       "      <th>dataset_id</th>\n",
       "      <th>16525</th>\n",
       "    </tr>\n",
       "    <tr>\n",
       "      <th></th>\n",
       "      <th>data_type</th>\n",
       "      <th>value</th>\n",
       "    </tr>\n",
       "    <tr>\n",
       "      <th>gene_id</th>\n",
       "      <th>orf</th>\n",
       "      <th></th>\n",
       "    </tr>\n",
       "  </thead>\n",
       "  <tbody>\n",
       "    <tr>\n",
       "      <th>8</th>\n",
       "      <th>YAL010C</th>\n",
       "      <td>-5.0</td>\n",
       "    </tr>\n",
       "    <tr>\n",
       "      <th>17</th>\n",
       "      <th>YAL019W</th>\n",
       "      <td>7.0</td>\n",
       "    </tr>\n",
       "    <tr>\n",
       "      <th>19</th>\n",
       "      <th>YAL021C</th>\n",
       "      <td>9.0</td>\n",
       "    </tr>\n",
       "    <tr>\n",
       "      <th>21</th>\n",
       "      <th>YAL023C</th>\n",
       "      <td>8.0</td>\n",
       "    </tr>\n",
       "    <tr>\n",
       "      <th>24</th>\n",
       "      <th>YAL026C</th>\n",
       "      <td>8.0</td>\n",
       "    </tr>\n",
       "  </tbody>\n",
       "</table>\n",
       "</div>"
      ],
      "text/plain": [
       "dataset_id      16525\n",
       "data_type       value\n",
       "gene_id orf          \n",
       "8       YAL010C  -5.0\n",
       "17      YAL019W   7.0\n",
       "19      YAL021C   9.0\n",
       "21      YAL023C   8.0\n",
       "24      YAL026C   8.0"
      ]
     },
     "execution_count": 76,
     "metadata": {},
     "output_type": "execute_result"
    }
   ],
   "source": [
    "data.head()"
   ]
  },
  {
   "cell_type": "markdown",
   "metadata": {},
   "source": [
    "# Normalize"
   ]
  },
  {
   "cell_type": "code",
   "execution_count": 77,
   "metadata": {},
   "outputs": [],
   "source": [
    "data_norm = normalize_phenotypic_scores(data, has_tested=False)"
   ]
  },
  {
   "cell_type": "code",
   "execution_count": 78,
   "metadata": {},
   "outputs": [],
   "source": [
    "# Assign proper column names\n",
    "lst = [datasets.index.values, ['valuez']*datasets.shape[0]]\n",
    "tuples = list(zip(*lst))\n",
    "idx = pd.MultiIndex.from_tuples(tuples, names=['dataset_id','data_type'])\n",
    "data_norm.columns = idx"
   ]
  },
  {
   "cell_type": "code",
   "execution_count": 79,
   "metadata": {},
   "outputs": [],
   "source": [
    "data_norm[data.isnull()] = np.nan\n",
    "data_all = data.join(data_norm)"
   ]
  },
  {
   "cell_type": "code",
   "execution_count": 80,
   "metadata": {},
   "outputs": [
    {
     "data": {
      "text/html": [
       "<div>\n",
       "<style scoped>\n",
       "    .dataframe tbody tr th:only-of-type {\n",
       "        vertical-align: middle;\n",
       "    }\n",
       "\n",
       "    .dataframe tbody tr th {\n",
       "        vertical-align: top;\n",
       "    }\n",
       "\n",
       "    .dataframe thead tr th {\n",
       "        text-align: left;\n",
       "    }\n",
       "\n",
       "    .dataframe thead tr:last-of-type th {\n",
       "        text-align: right;\n",
       "    }\n",
       "</style>\n",
       "<table border=\"1\" class=\"dataframe\">\n",
       "  <thead>\n",
       "    <tr>\n",
       "      <th></th>\n",
       "      <th>dataset_id</th>\n",
       "      <th colspan=\"2\" halign=\"left\">16525</th>\n",
       "    </tr>\n",
       "    <tr>\n",
       "      <th></th>\n",
       "      <th>data_type</th>\n",
       "      <th>value</th>\n",
       "      <th>valuez</th>\n",
       "    </tr>\n",
       "    <tr>\n",
       "      <th>gene_id</th>\n",
       "      <th>orf</th>\n",
       "      <th></th>\n",
       "      <th></th>\n",
       "    </tr>\n",
       "  </thead>\n",
       "  <tbody>\n",
       "    <tr>\n",
       "      <th>8</th>\n",
       "      <th>YAL010C</th>\n",
       "      <td>-5.0</td>\n",
       "      <td>-2.381799</td>\n",
       "    </tr>\n",
       "    <tr>\n",
       "      <th>17</th>\n",
       "      <th>YAL019W</th>\n",
       "      <td>7.0</td>\n",
       "      <td>3.428421</td>\n",
       "    </tr>\n",
       "    <tr>\n",
       "      <th>19</th>\n",
       "      <th>YAL021C</th>\n",
       "      <td>9.0</td>\n",
       "      <td>4.396791</td>\n",
       "    </tr>\n",
       "    <tr>\n",
       "      <th>21</th>\n",
       "      <th>YAL023C</th>\n",
       "      <td>8.0</td>\n",
       "      <td>3.912606</td>\n",
       "    </tr>\n",
       "    <tr>\n",
       "      <th>24</th>\n",
       "      <th>YAL026C</th>\n",
       "      <td>8.0</td>\n",
       "      <td>3.912606</td>\n",
       "    </tr>\n",
       "  </tbody>\n",
       "</table>\n",
       "</div>"
      ],
      "text/plain": [
       "dataset_id      16525          \n",
       "data_type       value    valuez\n",
       "gene_id orf                    \n",
       "8       YAL010C  -5.0 -2.381799\n",
       "17      YAL019W   7.0  3.428421\n",
       "19      YAL021C   9.0  4.396791\n",
       "21      YAL023C   8.0  3.912606\n",
       "24      YAL026C   8.0  3.912606"
      ]
     },
     "execution_count": 80,
     "metadata": {},
     "output_type": "execute_result"
    }
   ],
   "source": [
    "data_all.head()\n"
   ]
  },
  {
   "cell_type": "markdown",
   "metadata": {},
   "source": [
    "# Print out"
   ]
  },
  {
   "cell_type": "code",
   "execution_count": 81,
   "metadata": {},
   "outputs": [],
   "source": [
    "for f in ['value','valuez']:\n",
    "    df = data_all.xs(f, level='data_type', axis=1).copy()\n",
    "    df.columns = datasets['name'].values\n",
    "    df = df.droplevel('gene_id', axis=0)\n",
    "    df.to_csv(paper_name + '_' + f + '.txt', sep='\\t')"
   ]
  },
  {
   "cell_type": "markdown",
   "metadata": {},
   "source": [
    "# Save to DB"
   ]
  },
  {
   "cell_type": "code",
   "execution_count": 82,
   "metadata": {},
   "outputs": [],
   "source": [
    "from IO.save_data_to_db3 import *"
   ]
  },
  {
   "cell_type": "code",
   "execution_count": 83,
   "metadata": {},
   "outputs": [
    {
     "name": "stderr",
     "output_type": "stream",
     "text": [
      "  0%|          | 0/1 [00:00<?, ?it/s]"
     ]
    },
    {
     "name": "stdout",
     "output_type": "stream",
     "text": [
      "Deleting all datasets for PMID 23227207...\n",
      "Inserting the new data...\n"
     ]
    },
    {
     "name": "stderr",
     "output_type": "stream",
     "text": [
      "100%|██████████| 1/1 [00:00<00:00,  1.42it/s]"
     ]
    },
    {
     "name": "stdout",
     "output_type": "stream",
     "text": [
      "Updating the data_modified_on field...\n"
     ]
    },
    {
     "name": "stderr",
     "output_type": "stream",
     "text": [
      "\n"
     ]
    }
   ],
   "source": [
    "save_data_to_db(data_all, paper_pmid)"
   ]
  },
  {
   "cell_type": "code",
   "execution_count": 84,
   "metadata": {},
   "outputs": [
    {
     "data": {
      "text/plain": [
       "(330, 2)"
      ]
     },
     "execution_count": 84,
     "metadata": {},
     "output_type": "execute_result"
    }
   ],
   "source": [
    "data_all.shape"
   ]
  },
  {
   "cell_type": "code",
   "execution_count": null,
   "metadata": {},
   "outputs": [],
   "source": []
  }
 ],
 "metadata": {
  "kernelspec": {
   "display_name": "yp-data",
   "language": "python",
   "name": "yp-data"
  },
  "language_info": {
   "codemirror_mode": {
    "name": "ipython",
    "version": 3
   },
   "file_extension": ".py",
   "mimetype": "text/x-python",
   "name": "python",
   "nbconvert_exporter": "python",
   "pygments_lexer": "ipython3",
   "version": "3.7.7"
  }
 },
 "nbformat": 4,
 "nbformat_minor": 4
}
