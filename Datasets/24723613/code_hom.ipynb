{
 "cells": [
  {
   "cell_type": "code",
   "execution_count": 1,
   "metadata": {},
   "outputs": [],
   "source": [
    "%run ../yp_utils.py"
   ]
  },
  {
   "cell_type": "markdown",
   "metadata": {},
   "source": [
    "# Initial setup"
   ]
  },
  {
   "cell_type": "code",
   "execution_count": 2,
   "metadata": {},
   "outputs": [],
   "source": [
    "paper_pmid = 24723613\n",
    "paper_name = 'lee_giaever_2014' "
   ]
  },
  {
   "cell_type": "code",
   "execution_count": 3,
   "metadata": {},
   "outputs": [],
   "source": [
    "datasets = pd.read_csv('extras/YeastPhenome_' + str(paper_pmid) + '_datasets_list.txt', sep='\\t', header=None, names=['dataset_id', 'name'])"
   ]
  },
  {
   "cell_type": "code",
   "execution_count": 4,
   "metadata": {},
   "outputs": [],
   "source": [
    "datasets.set_index('dataset_id', inplace=True)"
   ]
  },
  {
   "cell_type": "markdown",
   "metadata": {},
   "source": [
    "# Load & process the data"
   ]
  },
  {
   "cell_type": "code",
   "execution_count": 5,
   "metadata": {},
   "outputs": [],
   "source": [
    "compounds = pd.read_excel('raw_data/1250217s1.xlsx', sheet_name='compound library')"
   ]
  },
  {
   "cell_type": "code",
   "execution_count": 6,
   "metadata": {},
   "outputs": [],
   "source": [
    "screenid_datasetid = pd.read_excel('extras/screenid_datasetid.xlsx', \n",
    "                                   sheet_name='screenid_datasetid',\n",
    "                                   names=['compound','hom_dataset_id','conditionset_id','het_dataset_id'],\n",
    "                                  index_col='compound')"
   ]
  },
  {
   "cell_type": "code",
   "execution_count": 7,
   "metadata": {},
   "outputs": [
    {
     "data": {
      "text/html": [
       "<div>\n",
       "<style scoped>\n",
       "    .dataframe tbody tr th:only-of-type {\n",
       "        vertical-align: middle;\n",
       "    }\n",
       "\n",
       "    .dataframe tbody tr th {\n",
       "        vertical-align: top;\n",
       "    }\n",
       "\n",
       "    .dataframe thead th {\n",
       "        text-align: right;\n",
       "    }\n",
       "</style>\n",
       "<table border=\"1\" class=\"dataframe\">\n",
       "  <thead>\n",
       "    <tr style=\"text-align: right;\">\n",
       "      <th></th>\n",
       "      <th>hom_dataset_id</th>\n",
       "      <th>conditionset_id</th>\n",
       "      <th>het_dataset_id</th>\n",
       "    </tr>\n",
       "    <tr>\n",
       "      <th>compound</th>\n",
       "      <th></th>\n",
       "      <th></th>\n",
       "      <th></th>\n",
       "    </tr>\n",
       "  </thead>\n",
       "  <tbody>\n",
       "    <tr>\n",
       "      <th>SGTC_1</th>\n",
       "      <td>1353</td>\n",
       "      <td>4497</td>\n",
       "      <td>12712</td>\n",
       "    </tr>\n",
       "    <tr>\n",
       "      <th>SGTC_10</th>\n",
       "      <td>1354</td>\n",
       "      <td>4498</td>\n",
       "      <td>12713</td>\n",
       "    </tr>\n",
       "    <tr>\n",
       "      <th>SGTC_100</th>\n",
       "      <td>1355</td>\n",
       "      <td>4499</td>\n",
       "      <td>12714</td>\n",
       "    </tr>\n",
       "    <tr>\n",
       "      <th>SGTC_1000</th>\n",
       "      <td>1356</td>\n",
       "      <td>4500</td>\n",
       "      <td>14394</td>\n",
       "    </tr>\n",
       "    <tr>\n",
       "      <th>SGTC_1001</th>\n",
       "      <td>1357</td>\n",
       "      <td>4501</td>\n",
       "      <td>12715</td>\n",
       "    </tr>\n",
       "  </tbody>\n",
       "</table>\n",
       "</div>"
      ],
      "text/plain": [
       "           hom_dataset_id  conditionset_id  het_dataset_id\n",
       "compound                                                  \n",
       "SGTC_1               1353             4497           12712\n",
       "SGTC_10              1354             4498           12713\n",
       "SGTC_100             1355             4499           12714\n",
       "SGTC_1000            1356             4500           14394\n",
       "SGTC_1001            1357             4501           12715"
      ]
     },
     "execution_count": 7,
     "metadata": {},
     "output_type": "execute_result"
    }
   ],
   "source": [
    "screenid_datasetid.head()"
   ]
  },
  {
   "cell_type": "markdown",
   "metadata": {},
   "source": [
    "# Load & process the data"
   ]
  },
  {
   "cell_type": "code",
   "execution_count": 8,
   "metadata": {},
   "outputs": [],
   "source": [
    "original_data1 = pd.read_csv('raw_data/fitness_defect_matrix_hom.txt', sep='\\t')"
   ]
  },
  {
   "cell_type": "code",
   "execution_count": 9,
   "metadata": {},
   "outputs": [
    {
     "name": "stdout",
     "output_type": "stream",
     "text": [
      "Original data dimensions: 4810 x 3357\n"
     ]
    }
   ],
   "source": [
    "print('Original data dimensions: %d x %d' % (original_data1.shape))"
   ]
  },
  {
   "cell_type": "code",
   "execution_count": 10,
   "metadata": {},
   "outputs": [],
   "source": [
    "original_data1.rename(columns={'Unnamed: 0': 'orfs'}, inplace=True)"
   ]
  },
  {
   "cell_type": "code",
   "execution_count": 11,
   "metadata": {},
   "outputs": [],
   "source": [
    "original_data1['orfs'] = original_data1['orfs'].astype(str)"
   ]
  },
  {
   "cell_type": "code",
   "execution_count": 12,
   "metadata": {},
   "outputs": [],
   "source": [
    "# Eliminate all white spaces & capitalize\n",
    "original_data1['orfs'] = clean_orf(original_data1['orfs'])"
   ]
  },
  {
   "cell_type": "code",
   "execution_count": 13,
   "metadata": {},
   "outputs": [],
   "source": [
    "# Translate to ORFs \n",
    "original_data1['orfs'] = translate_sc(original_data1['orfs'], to='orf')"
   ]
  },
  {
   "cell_type": "code",
   "execution_count": 14,
   "metadata": {},
   "outputs": [
    {
     "name": "stdout",
     "output_type": "stream",
     "text": [
      "Empty DataFrame\n",
      "Columns: [orfs, SGTC_1, SGTC_2, SGTC_3, SGTC_4, SGTC_5, SGTC_6, SGTC_7, SGTC_8, SGTC_9, SGTC_10, SGTC_11, SGTC_12, SGTC_13, SGTC_14, SGTC_15, SGTC_16, SGTC_17, SGTC_18, SGTC_19, SGTC_20, SGTC_21, SGTC_22, SGTC_23, SGTC_24, SGTC_25, SGTC_26, SGTC_27, SGTC_28, SGTC_29, SGTC_30, SGTC_31, SGTC_32, SGTC_33, SGTC_34, SGTC_35, SGTC_36, SGTC_37, SGTC_38, SGTC_39, SGTC_40, SGTC_41, SGTC_42, SGTC_43, SGTC_44, SGTC_45, SGTC_46, SGTC_47, SGTC_48, SGTC_49, SGTC_50, SGTC_51, SGTC_52, SGTC_53, SGTC_54, SGTC_55, SGTC_56, SGTC_57, SGTC_58, SGTC_59, SGTC_60, SGTC_61, SGTC_62, SGTC_63, SGTC_64, SGTC_65, SGTC_66, SGTC_67, SGTC_68, SGTC_69, SGTC_70, SGTC_71, SGTC_72, SGTC_73, SGTC_74, SGTC_75, SGTC_76, SGTC_77, SGTC_78, SGTC_79, SGTC_80, SGTC_81, SGTC_82, SGTC_83, SGTC_84, SGTC_85, SGTC_86, SGTC_87, SGTC_88, SGTC_89, SGTC_90, SGTC_91, SGTC_92, SGTC_93, SGTC_94, SGTC_95, SGTC_96, SGTC_97, SGTC_98, SGTC_99, ...]\n",
      "Index: []\n",
      "\n",
      "[0 rows x 3357 columns]\n"
     ]
    }
   ],
   "source": [
    "# Make sure everything translated ok\n",
    "t = looks_like_orf(original_data1['orfs'])\n",
    "print(original_data1.loc[~t,])"
   ]
  },
  {
   "cell_type": "code",
   "execution_count": 15,
   "metadata": {},
   "outputs": [],
   "source": [
    "original_data1.set_index('orfs', inplace=True)\n",
    "original_data1.index.name='orf'"
   ]
  },
  {
   "cell_type": "code",
   "execution_count": 16,
   "metadata": {},
   "outputs": [],
   "source": [
    "original_data1 = original_data1.groupby(original_data1.index).mean()"
   ]
  },
  {
   "cell_type": "code",
   "execution_count": 17,
   "metadata": {},
   "outputs": [
    {
     "data": {
      "text/plain": [
       "(4808, 3356)"
      ]
     },
     "execution_count": 17,
     "metadata": {},
     "output_type": "execute_result"
    }
   ],
   "source": [
    "original_data1.shape"
   ]
  },
  {
   "cell_type": "code",
   "execution_count": 18,
   "metadata": {},
   "outputs": [],
   "source": [
    "# Switch sign (as per convention: lower values = lower phenotype)\n",
    "original_data1 = -original_data1"
   ]
  },
  {
   "cell_type": "code",
   "execution_count": 19,
   "metadata": {},
   "outputs": [],
   "source": [
    "# Match to dataset ids"
   ]
  },
  {
   "cell_type": "code",
   "execution_count": 20,
   "metadata": {},
   "outputs": [],
   "source": [
    "hom_dataset_ids = screenid_datasetid.reindex(index=original_data1.columns.values)['hom_dataset_id'].values"
   ]
  },
  {
   "cell_type": "code",
   "execution_count": 21,
   "metadata": {},
   "outputs": [
    {
     "data": {
      "text/plain": [
       "0"
      ]
     },
     "execution_count": 21,
     "metadata": {},
     "output_type": "execute_result"
    }
   ],
   "source": [
    "np.sum(np.isnan(hom_dataset_ids))"
   ]
  },
  {
   "cell_type": "code",
   "execution_count": 22,
   "metadata": {},
   "outputs": [],
   "source": [
    "# Average the replicates (same dataset id)\n",
    "original_data1.columns = hom_dataset_ids\n",
    "original_data1 = original_data1.T"
   ]
  },
  {
   "cell_type": "code",
   "execution_count": 23,
   "metadata": {},
   "outputs": [
    {
     "data": {
      "text/plain": [
       "(3351, 4808)"
      ]
     },
     "execution_count": 23,
     "metadata": {},
     "output_type": "execute_result"
    }
   ],
   "source": [
    "original_data1 = original_data1.groupby(original_data1.index).mean()\n",
    "original_data1.shape"
   ]
  },
  {
   "cell_type": "code",
   "execution_count": 24,
   "metadata": {},
   "outputs": [],
   "source": [
    "original_data1 = original_data1.T"
   ]
  },
  {
   "cell_type": "markdown",
   "metadata": {},
   "source": [
    "# Prepare the final dataset"
   ]
  },
  {
   "cell_type": "code",
   "execution_count": 25,
   "metadata": {},
   "outputs": [],
   "source": [
    "data = original_data1.copy()"
   ]
  },
  {
   "cell_type": "code",
   "execution_count": 26,
   "metadata": {},
   "outputs": [],
   "source": [
    "dataset_ids = original_data1.columns.values\n",
    "datasets = datasets.reindex(index=dataset_ids)"
   ]
  },
  {
   "cell_type": "code",
   "execution_count": 27,
   "metadata": {},
   "outputs": [],
   "source": [
    "lst = [datasets.index.values, ['value']*datasets.shape[0]]\n",
    "tuples = list(zip(*lst))\n",
    "idx = pd.MultiIndex.from_tuples(tuples, names=['dataset_id','data_type'])\n",
    "data.columns = idx"
   ]
  },
  {
   "cell_type": "code",
   "execution_count": 28,
   "metadata": {},
   "outputs": [
    {
     "data": {
      "text/html": [
       "<div>\n",
       "<style scoped>\n",
       "    .dataframe tbody tr th:only-of-type {\n",
       "        vertical-align: middle;\n",
       "    }\n",
       "\n",
       "    .dataframe tbody tr th {\n",
       "        vertical-align: top;\n",
       "    }\n",
       "\n",
       "    .dataframe thead tr th {\n",
       "        text-align: left;\n",
       "    }\n",
       "\n",
       "    .dataframe thead tr:last-of-type th {\n",
       "        text-align: right;\n",
       "    }\n",
       "</style>\n",
       "<table border=\"1\" class=\"dataframe\">\n",
       "  <thead>\n",
       "    <tr>\n",
       "      <th>dataset_id</th>\n",
       "      <th>1353</th>\n",
       "      <th>1354</th>\n",
       "      <th>1355</th>\n",
       "      <th>1356</th>\n",
       "      <th>1357</th>\n",
       "      <th>1358</th>\n",
       "      <th>1359</th>\n",
       "      <th>1360</th>\n",
       "      <th>1361</th>\n",
       "      <th>1362</th>\n",
       "      <th>...</th>\n",
       "      <th>4699</th>\n",
       "      <th>4700</th>\n",
       "      <th>4701</th>\n",
       "      <th>4702</th>\n",
       "      <th>4703</th>\n",
       "      <th>4704</th>\n",
       "      <th>4705</th>\n",
       "      <th>4706</th>\n",
       "      <th>4707</th>\n",
       "      <th>4708</th>\n",
       "    </tr>\n",
       "    <tr>\n",
       "      <th>data_type</th>\n",
       "      <th>value</th>\n",
       "      <th>value</th>\n",
       "      <th>value</th>\n",
       "      <th>value</th>\n",
       "      <th>value</th>\n",
       "      <th>value</th>\n",
       "      <th>value</th>\n",
       "      <th>value</th>\n",
       "      <th>value</th>\n",
       "      <th>value</th>\n",
       "      <th>...</th>\n",
       "      <th>value</th>\n",
       "      <th>value</th>\n",
       "      <th>value</th>\n",
       "      <th>value</th>\n",
       "      <th>value</th>\n",
       "      <th>value</th>\n",
       "      <th>value</th>\n",
       "      <th>value</th>\n",
       "      <th>value</th>\n",
       "      <th>value</th>\n",
       "    </tr>\n",
       "    <tr>\n",
       "      <th>orf</th>\n",
       "      <th></th>\n",
       "      <th></th>\n",
       "      <th></th>\n",
       "      <th></th>\n",
       "      <th></th>\n",
       "      <th></th>\n",
       "      <th></th>\n",
       "      <th></th>\n",
       "      <th></th>\n",
       "      <th></th>\n",
       "      <th></th>\n",
       "      <th></th>\n",
       "      <th></th>\n",
       "      <th></th>\n",
       "      <th></th>\n",
       "      <th></th>\n",
       "      <th></th>\n",
       "      <th></th>\n",
       "      <th></th>\n",
       "      <th></th>\n",
       "      <th></th>\n",
       "    </tr>\n",
       "  </thead>\n",
       "  <tbody>\n",
       "    <tr>\n",
       "      <th>YAL002W</th>\n",
       "      <td>-3.564202</td>\n",
       "      <td>-0.353220</td>\n",
       "      <td>-1.978155</td>\n",
       "      <td>-0.941862</td>\n",
       "      <td>-0.336995</td>\n",
       "      <td>-1.206435</td>\n",
       "      <td>0.264837</td>\n",
       "      <td>-0.350340</td>\n",
       "      <td>0.412929</td>\n",
       "      <td>0.424757</td>\n",
       "      <td>...</td>\n",
       "      <td>-0.085767</td>\n",
       "      <td>-0.012407</td>\n",
       "      <td>0.669360</td>\n",
       "      <td>1.454074</td>\n",
       "      <td>-0.737800</td>\n",
       "      <td>0.222105</td>\n",
       "      <td>-0.639059</td>\n",
       "      <td>0.716066</td>\n",
       "      <td>-1.469485</td>\n",
       "      <td>-0.712370</td>\n",
       "    </tr>\n",
       "    <tr>\n",
       "      <th>YAL004W</th>\n",
       "      <td>0.885645</td>\n",
       "      <td>-1.013808</td>\n",
       "      <td>0.622587</td>\n",
       "      <td>-2.297572</td>\n",
       "      <td>-0.347374</td>\n",
       "      <td>-0.101408</td>\n",
       "      <td>0.635994</td>\n",
       "      <td>-0.408350</td>\n",
       "      <td>-3.195733</td>\n",
       "      <td>0.083219</td>\n",
       "      <td>...</td>\n",
       "      <td>0.517328</td>\n",
       "      <td>-2.653658</td>\n",
       "      <td>-0.109715</td>\n",
       "      <td>1.161742</td>\n",
       "      <td>0.977498</td>\n",
       "      <td>-4.146284</td>\n",
       "      <td>1.130490</td>\n",
       "      <td>-1.481961</td>\n",
       "      <td>2.246581</td>\n",
       "      <td>1.041353</td>\n",
       "    </tr>\n",
       "    <tr>\n",
       "      <th>YAL005C</th>\n",
       "      <td>0.810421</td>\n",
       "      <td>-0.929355</td>\n",
       "      <td>-0.505755</td>\n",
       "      <td>0.118226</td>\n",
       "      <td>0.246723</td>\n",
       "      <td>-0.106781</td>\n",
       "      <td>0.258916</td>\n",
       "      <td>0.912332</td>\n",
       "      <td>-1.645592</td>\n",
       "      <td>-0.845358</td>\n",
       "      <td>...</td>\n",
       "      <td>-1.175725</td>\n",
       "      <td>0.472672</td>\n",
       "      <td>0.070476</td>\n",
       "      <td>-0.189061</td>\n",
       "      <td>0.393740</td>\n",
       "      <td>-2.125223</td>\n",
       "      <td>0.296836</td>\n",
       "      <td>-0.934903</td>\n",
       "      <td>1.196578</td>\n",
       "      <td>-1.505333</td>\n",
       "    </tr>\n",
       "    <tr>\n",
       "      <th>YAL007C</th>\n",
       "      <td>-0.750878</td>\n",
       "      <td>1.786408</td>\n",
       "      <td>-0.716383</td>\n",
       "      <td>-0.048343</td>\n",
       "      <td>0.308352</td>\n",
       "      <td>0.462982</td>\n",
       "      <td>-0.624150</td>\n",
       "      <td>-0.187065</td>\n",
       "      <td>-2.056260</td>\n",
       "      <td>-1.851755</td>\n",
       "      <td>...</td>\n",
       "      <td>-1.773152</td>\n",
       "      <td>1.809751</td>\n",
       "      <td>-0.126539</td>\n",
       "      <td>1.300545</td>\n",
       "      <td>0.040817</td>\n",
       "      <td>-1.969714</td>\n",
       "      <td>1.321792</td>\n",
       "      <td>0.275722</td>\n",
       "      <td>2.729434</td>\n",
       "      <td>0.204023</td>\n",
       "    </tr>\n",
       "    <tr>\n",
       "      <th>YAL008W</th>\n",
       "      <td>1.883027</td>\n",
       "      <td>0.189418</td>\n",
       "      <td>0.002204</td>\n",
       "      <td>1.259501</td>\n",
       "      <td>-0.964669</td>\n",
       "      <td>-0.522965</td>\n",
       "      <td>0.712050</td>\n",
       "      <td>-1.781294</td>\n",
       "      <td>0.066292</td>\n",
       "      <td>-0.078822</td>\n",
       "      <td>...</td>\n",
       "      <td>-0.253605</td>\n",
       "      <td>0.278854</td>\n",
       "      <td>-0.034391</td>\n",
       "      <td>1.240425</td>\n",
       "      <td>0.025583</td>\n",
       "      <td>-0.458295</td>\n",
       "      <td>1.049414</td>\n",
       "      <td>-1.408832</td>\n",
       "      <td>0.020373</td>\n",
       "      <td>-1.389672</td>\n",
       "    </tr>\n",
       "  </tbody>\n",
       "</table>\n",
       "<p>5 rows × 3351 columns</p>\n",
       "</div>"
      ],
      "text/plain": [
       "dataset_id      1353      1354      1355      1356      1357      1358  \\\n",
       "data_type      value     value     value     value     value     value   \n",
       "orf                                                                      \n",
       "YAL002W    -3.564202 -0.353220 -1.978155 -0.941862 -0.336995 -1.206435   \n",
       "YAL004W     0.885645 -1.013808  0.622587 -2.297572 -0.347374 -0.101408   \n",
       "YAL005C     0.810421 -0.929355 -0.505755  0.118226  0.246723 -0.106781   \n",
       "YAL007C    -0.750878  1.786408 -0.716383 -0.048343  0.308352  0.462982   \n",
       "YAL008W     1.883027  0.189418  0.002204  1.259501 -0.964669 -0.522965   \n",
       "\n",
       "dataset_id      1359      1360      1361      1362  ...      4699      4700  \\\n",
       "data_type      value     value     value     value  ...     value     value   \n",
       "orf                                                 ...                       \n",
       "YAL002W     0.264837 -0.350340  0.412929  0.424757  ... -0.085767 -0.012407   \n",
       "YAL004W     0.635994 -0.408350 -3.195733  0.083219  ...  0.517328 -2.653658   \n",
       "YAL005C     0.258916  0.912332 -1.645592 -0.845358  ... -1.175725  0.472672   \n",
       "YAL007C    -0.624150 -0.187065 -2.056260 -1.851755  ... -1.773152  1.809751   \n",
       "YAL008W     0.712050 -1.781294  0.066292 -0.078822  ... -0.253605  0.278854   \n",
       "\n",
       "dataset_id      4701      4702      4703      4704      4705      4706  \\\n",
       "data_type      value     value     value     value     value     value   \n",
       "orf                                                                      \n",
       "YAL002W     0.669360  1.454074 -0.737800  0.222105 -0.639059  0.716066   \n",
       "YAL004W    -0.109715  1.161742  0.977498 -4.146284  1.130490 -1.481961   \n",
       "YAL005C     0.070476 -0.189061  0.393740 -2.125223  0.296836 -0.934903   \n",
       "YAL007C    -0.126539  1.300545  0.040817 -1.969714  1.321792  0.275722   \n",
       "YAL008W    -0.034391  1.240425  0.025583 -0.458295  1.049414 -1.408832   \n",
       "\n",
       "dataset_id      4707      4708  \n",
       "data_type      value     value  \n",
       "orf                             \n",
       "YAL002W    -1.469485 -0.712370  \n",
       "YAL004W     2.246581  1.041353  \n",
       "YAL005C     1.196578 -1.505333  \n",
       "YAL007C     2.729434  0.204023  \n",
       "YAL008W     0.020373 -1.389672  \n",
       "\n",
       "[5 rows x 3351 columns]"
      ]
     },
     "execution_count": 28,
     "metadata": {},
     "output_type": "execute_result"
    }
   ],
   "source": [
    "data.head()"
   ]
  },
  {
   "cell_type": "markdown",
   "metadata": {},
   "source": [
    "## Subset to the genes currently in SGD"
   ]
  },
  {
   "cell_type": "code",
   "execution_count": 29,
   "metadata": {},
   "outputs": [
    {
     "name": "stdout",
     "output_type": "stream",
     "text": [
      "ORFs missing from SGD: 14\n"
     ]
    }
   ],
   "source": [
    "genes = pd.read_csv(path_to_genes, sep='\\t', index_col='id')\n",
    "genes = genes.reset_index().set_index('systematic_name')\n",
    "gene_ids = genes.reindex(index=data.index.values)['id'].values\n",
    "num_missing = np.sum(np.isnan(gene_ids))\n",
    "print('ORFs missing from SGD: %d' % num_missing)"
   ]
  },
  {
   "cell_type": "code",
   "execution_count": 30,
   "metadata": {},
   "outputs": [],
   "source": [
    "data['gene_id'] = gene_ids\n",
    "data = data.loc[data['gene_id'].notnull()]\n",
    "data['gene_id'] = data['gene_id'].astype(int)\n",
    "data = data.reset_index().set_index(['gene_id','orf'])"
   ]
  },
  {
   "cell_type": "code",
   "execution_count": 31,
   "metadata": {},
   "outputs": [
    {
     "data": {
      "text/html": [
       "<div>\n",
       "<style scoped>\n",
       "    .dataframe tbody tr th:only-of-type {\n",
       "        vertical-align: middle;\n",
       "    }\n",
       "\n",
       "    .dataframe tbody tr th {\n",
       "        vertical-align: top;\n",
       "    }\n",
       "\n",
       "    .dataframe thead tr th {\n",
       "        text-align: left;\n",
       "    }\n",
       "\n",
       "    .dataframe thead tr:last-of-type th {\n",
       "        text-align: right;\n",
       "    }\n",
       "</style>\n",
       "<table border=\"1\" class=\"dataframe\">\n",
       "  <thead>\n",
       "    <tr>\n",
       "      <th></th>\n",
       "      <th>dataset_id</th>\n",
       "      <th>1353</th>\n",
       "      <th>1354</th>\n",
       "      <th>1355</th>\n",
       "      <th>1356</th>\n",
       "      <th>1357</th>\n",
       "      <th>1358</th>\n",
       "      <th>1359</th>\n",
       "      <th>1360</th>\n",
       "      <th>1361</th>\n",
       "      <th>1362</th>\n",
       "      <th>...</th>\n",
       "      <th>4699</th>\n",
       "      <th>4700</th>\n",
       "      <th>4701</th>\n",
       "      <th>4702</th>\n",
       "      <th>4703</th>\n",
       "      <th>4704</th>\n",
       "      <th>4705</th>\n",
       "      <th>4706</th>\n",
       "      <th>4707</th>\n",
       "      <th>4708</th>\n",
       "    </tr>\n",
       "    <tr>\n",
       "      <th></th>\n",
       "      <th>data_type</th>\n",
       "      <th>value</th>\n",
       "      <th>value</th>\n",
       "      <th>value</th>\n",
       "      <th>value</th>\n",
       "      <th>value</th>\n",
       "      <th>value</th>\n",
       "      <th>value</th>\n",
       "      <th>value</th>\n",
       "      <th>value</th>\n",
       "      <th>value</th>\n",
       "      <th>...</th>\n",
       "      <th>value</th>\n",
       "      <th>value</th>\n",
       "      <th>value</th>\n",
       "      <th>value</th>\n",
       "      <th>value</th>\n",
       "      <th>value</th>\n",
       "      <th>value</th>\n",
       "      <th>value</th>\n",
       "      <th>value</th>\n",
       "      <th>value</th>\n",
       "    </tr>\n",
       "    <tr>\n",
       "      <th>gene_id</th>\n",
       "      <th>orf</th>\n",
       "      <th></th>\n",
       "      <th></th>\n",
       "      <th></th>\n",
       "      <th></th>\n",
       "      <th></th>\n",
       "      <th></th>\n",
       "      <th></th>\n",
       "      <th></th>\n",
       "      <th></th>\n",
       "      <th></th>\n",
       "      <th></th>\n",
       "      <th></th>\n",
       "      <th></th>\n",
       "      <th></th>\n",
       "      <th></th>\n",
       "      <th></th>\n",
       "      <th></th>\n",
       "      <th></th>\n",
       "      <th></th>\n",
       "      <th></th>\n",
       "      <th></th>\n",
       "    </tr>\n",
       "  </thead>\n",
       "  <tbody>\n",
       "    <tr>\n",
       "      <th>2</th>\n",
       "      <th>YAL002W</th>\n",
       "      <td>-3.564202</td>\n",
       "      <td>-0.353220</td>\n",
       "      <td>-1.978155</td>\n",
       "      <td>-0.941862</td>\n",
       "      <td>-0.336995</td>\n",
       "      <td>-1.206435</td>\n",
       "      <td>0.264837</td>\n",
       "      <td>-0.350340</td>\n",
       "      <td>0.412929</td>\n",
       "      <td>0.424757</td>\n",
       "      <td>...</td>\n",
       "      <td>-0.085767</td>\n",
       "      <td>-0.012407</td>\n",
       "      <td>0.669360</td>\n",
       "      <td>1.454074</td>\n",
       "      <td>-0.737800</td>\n",
       "      <td>0.222105</td>\n",
       "      <td>-0.639059</td>\n",
       "      <td>0.716066</td>\n",
       "      <td>-1.469485</td>\n",
       "      <td>-0.712370</td>\n",
       "    </tr>\n",
       "    <tr>\n",
       "      <th>1863</th>\n",
       "      <th>YAL004W</th>\n",
       "      <td>0.885645</td>\n",
       "      <td>-1.013808</td>\n",
       "      <td>0.622587</td>\n",
       "      <td>-2.297572</td>\n",
       "      <td>-0.347374</td>\n",
       "      <td>-0.101408</td>\n",
       "      <td>0.635994</td>\n",
       "      <td>-0.408350</td>\n",
       "      <td>-3.195733</td>\n",
       "      <td>0.083219</td>\n",
       "      <td>...</td>\n",
       "      <td>0.517328</td>\n",
       "      <td>-2.653658</td>\n",
       "      <td>-0.109715</td>\n",
       "      <td>1.161742</td>\n",
       "      <td>0.977498</td>\n",
       "      <td>-4.146284</td>\n",
       "      <td>1.130490</td>\n",
       "      <td>-1.481961</td>\n",
       "      <td>2.246581</td>\n",
       "      <td>1.041353</td>\n",
       "    </tr>\n",
       "    <tr>\n",
       "      <th>4</th>\n",
       "      <th>YAL005C</th>\n",
       "      <td>0.810421</td>\n",
       "      <td>-0.929355</td>\n",
       "      <td>-0.505755</td>\n",
       "      <td>0.118226</td>\n",
       "      <td>0.246723</td>\n",
       "      <td>-0.106781</td>\n",
       "      <td>0.258916</td>\n",
       "      <td>0.912332</td>\n",
       "      <td>-1.645592</td>\n",
       "      <td>-0.845358</td>\n",
       "      <td>...</td>\n",
       "      <td>-1.175725</td>\n",
       "      <td>0.472672</td>\n",
       "      <td>0.070476</td>\n",
       "      <td>-0.189061</td>\n",
       "      <td>0.393740</td>\n",
       "      <td>-2.125223</td>\n",
       "      <td>0.296836</td>\n",
       "      <td>-0.934903</td>\n",
       "      <td>1.196578</td>\n",
       "      <td>-1.505333</td>\n",
       "    </tr>\n",
       "    <tr>\n",
       "      <th>5</th>\n",
       "      <th>YAL007C</th>\n",
       "      <td>-0.750878</td>\n",
       "      <td>1.786408</td>\n",
       "      <td>-0.716383</td>\n",
       "      <td>-0.048343</td>\n",
       "      <td>0.308352</td>\n",
       "      <td>0.462982</td>\n",
       "      <td>-0.624150</td>\n",
       "      <td>-0.187065</td>\n",
       "      <td>-2.056260</td>\n",
       "      <td>-1.851755</td>\n",
       "      <td>...</td>\n",
       "      <td>-1.773152</td>\n",
       "      <td>1.809751</td>\n",
       "      <td>-0.126539</td>\n",
       "      <td>1.300545</td>\n",
       "      <td>0.040817</td>\n",
       "      <td>-1.969714</td>\n",
       "      <td>1.321792</td>\n",
       "      <td>0.275722</td>\n",
       "      <td>2.729434</td>\n",
       "      <td>0.204023</td>\n",
       "    </tr>\n",
       "    <tr>\n",
       "      <th>6</th>\n",
       "      <th>YAL008W</th>\n",
       "      <td>1.883027</td>\n",
       "      <td>0.189418</td>\n",
       "      <td>0.002204</td>\n",
       "      <td>1.259501</td>\n",
       "      <td>-0.964669</td>\n",
       "      <td>-0.522965</td>\n",
       "      <td>0.712050</td>\n",
       "      <td>-1.781294</td>\n",
       "      <td>0.066292</td>\n",
       "      <td>-0.078822</td>\n",
       "      <td>...</td>\n",
       "      <td>-0.253605</td>\n",
       "      <td>0.278854</td>\n",
       "      <td>-0.034391</td>\n",
       "      <td>1.240425</td>\n",
       "      <td>0.025583</td>\n",
       "      <td>-0.458295</td>\n",
       "      <td>1.049414</td>\n",
       "      <td>-1.408832</td>\n",
       "      <td>0.020373</td>\n",
       "      <td>-1.389672</td>\n",
       "    </tr>\n",
       "  </tbody>\n",
       "</table>\n",
       "<p>5 rows × 3351 columns</p>\n",
       "</div>"
      ],
      "text/plain": [
       "dataset_id           1353      1354      1355      1356      1357      1358  \\\n",
       "data_type           value     value     value     value     value     value   \n",
       "gene_id orf                                                                   \n",
       "2       YAL002W -3.564202 -0.353220 -1.978155 -0.941862 -0.336995 -1.206435   \n",
       "1863    YAL004W  0.885645 -1.013808  0.622587 -2.297572 -0.347374 -0.101408   \n",
       "4       YAL005C  0.810421 -0.929355 -0.505755  0.118226  0.246723 -0.106781   \n",
       "5       YAL007C -0.750878  1.786408 -0.716383 -0.048343  0.308352  0.462982   \n",
       "6       YAL008W  1.883027  0.189418  0.002204  1.259501 -0.964669 -0.522965   \n",
       "\n",
       "dataset_id           1359      1360      1361      1362  ...      4699  \\\n",
       "data_type           value     value     value     value  ...     value   \n",
       "gene_id orf                                              ...             \n",
       "2       YAL002W  0.264837 -0.350340  0.412929  0.424757  ... -0.085767   \n",
       "1863    YAL004W  0.635994 -0.408350 -3.195733  0.083219  ...  0.517328   \n",
       "4       YAL005C  0.258916  0.912332 -1.645592 -0.845358  ... -1.175725   \n",
       "5       YAL007C -0.624150 -0.187065 -2.056260 -1.851755  ... -1.773152   \n",
       "6       YAL008W  0.712050 -1.781294  0.066292 -0.078822  ... -0.253605   \n",
       "\n",
       "dataset_id           4700      4701      4702      4703      4704      4705  \\\n",
       "data_type           value     value     value     value     value     value   \n",
       "gene_id orf                                                                   \n",
       "2       YAL002W -0.012407  0.669360  1.454074 -0.737800  0.222105 -0.639059   \n",
       "1863    YAL004W -2.653658 -0.109715  1.161742  0.977498 -4.146284  1.130490   \n",
       "4       YAL005C  0.472672  0.070476 -0.189061  0.393740 -2.125223  0.296836   \n",
       "5       YAL007C  1.809751 -0.126539  1.300545  0.040817 -1.969714  1.321792   \n",
       "6       YAL008W  0.278854 -0.034391  1.240425  0.025583 -0.458295  1.049414   \n",
       "\n",
       "dataset_id           4706      4707      4708  \n",
       "data_type           value     value     value  \n",
       "gene_id orf                                    \n",
       "2       YAL002W  0.716066 -1.469485 -0.712370  \n",
       "1863    YAL004W -1.481961  2.246581  1.041353  \n",
       "4       YAL005C -0.934903  1.196578 -1.505333  \n",
       "5       YAL007C  0.275722  2.729434  0.204023  \n",
       "6       YAL008W -1.408832  0.020373 -1.389672  \n",
       "\n",
       "[5 rows x 3351 columns]"
      ]
     },
     "execution_count": 31,
     "metadata": {},
     "output_type": "execute_result"
    }
   ],
   "source": [
    "data.head()"
   ]
  },
  {
   "cell_type": "markdown",
   "metadata": {},
   "source": [
    "# Normalize"
   ]
  },
  {
   "cell_type": "code",
   "execution_count": 32,
   "metadata": {},
   "outputs": [],
   "source": [
    "data_norm = normalize_phenotypic_scores(data, has_tested=True)"
   ]
  },
  {
   "cell_type": "code",
   "execution_count": 33,
   "metadata": {},
   "outputs": [],
   "source": [
    "# Assign proper column names\n",
    "lst = [datasets.index.values, ['valuez']*datasets.shape[0]]\n",
    "tuples = list(zip(*lst))\n",
    "idx = pd.MultiIndex.from_tuples(tuples, names=['dataset_id','data_type'])\n",
    "data_norm.columns = idx"
   ]
  },
  {
   "cell_type": "code",
   "execution_count": 34,
   "metadata": {},
   "outputs": [],
   "source": [
    "ix = np.isnan(data.values)\n",
    "data_norm_values = data_norm.values\n",
    "data_norm_values[ix] = np.nan\n",
    "data_norm = pd.DataFrame(index=data_norm.index, \n",
    "                         columns=data_norm.columns, \n",
    "                         data=data_norm_values)"
   ]
  },
  {
   "cell_type": "code",
   "execution_count": 35,
   "metadata": {},
   "outputs": [],
   "source": [
    "data_all = data.join(data_norm)"
   ]
  },
  {
   "cell_type": "code",
   "execution_count": 36,
   "metadata": {},
   "outputs": [
    {
     "data": {
      "text/html": [
       "<div>\n",
       "<style scoped>\n",
       "    .dataframe tbody tr th:only-of-type {\n",
       "        vertical-align: middle;\n",
       "    }\n",
       "\n",
       "    .dataframe tbody tr th {\n",
       "        vertical-align: top;\n",
       "    }\n",
       "\n",
       "    .dataframe thead tr th {\n",
       "        text-align: left;\n",
       "    }\n",
       "\n",
       "    .dataframe thead tr:last-of-type th {\n",
       "        text-align: right;\n",
       "    }\n",
       "</style>\n",
       "<table border=\"1\" class=\"dataframe\">\n",
       "  <thead>\n",
       "    <tr>\n",
       "      <th></th>\n",
       "      <th>dataset_id</th>\n",
       "      <th>1353</th>\n",
       "      <th>1354</th>\n",
       "      <th>1355</th>\n",
       "      <th>1356</th>\n",
       "      <th>1357</th>\n",
       "      <th>1358</th>\n",
       "      <th>1359</th>\n",
       "      <th>1360</th>\n",
       "      <th>1361</th>\n",
       "      <th>1362</th>\n",
       "      <th>...</th>\n",
       "      <th>4699</th>\n",
       "      <th>4700</th>\n",
       "      <th>4701</th>\n",
       "      <th>4702</th>\n",
       "      <th>4703</th>\n",
       "      <th>4704</th>\n",
       "      <th>4705</th>\n",
       "      <th>4706</th>\n",
       "      <th>4707</th>\n",
       "      <th>4708</th>\n",
       "    </tr>\n",
       "    <tr>\n",
       "      <th></th>\n",
       "      <th>data_type</th>\n",
       "      <th>value</th>\n",
       "      <th>value</th>\n",
       "      <th>value</th>\n",
       "      <th>value</th>\n",
       "      <th>value</th>\n",
       "      <th>value</th>\n",
       "      <th>value</th>\n",
       "      <th>value</th>\n",
       "      <th>value</th>\n",
       "      <th>value</th>\n",
       "      <th>...</th>\n",
       "      <th>valuez</th>\n",
       "      <th>valuez</th>\n",
       "      <th>valuez</th>\n",
       "      <th>valuez</th>\n",
       "      <th>valuez</th>\n",
       "      <th>valuez</th>\n",
       "      <th>valuez</th>\n",
       "      <th>valuez</th>\n",
       "      <th>valuez</th>\n",
       "      <th>valuez</th>\n",
       "    </tr>\n",
       "    <tr>\n",
       "      <th>gene_id</th>\n",
       "      <th>orf</th>\n",
       "      <th></th>\n",
       "      <th></th>\n",
       "      <th></th>\n",
       "      <th></th>\n",
       "      <th></th>\n",
       "      <th></th>\n",
       "      <th></th>\n",
       "      <th></th>\n",
       "      <th></th>\n",
       "      <th></th>\n",
       "      <th></th>\n",
       "      <th></th>\n",
       "      <th></th>\n",
       "      <th></th>\n",
       "      <th></th>\n",
       "      <th></th>\n",
       "      <th></th>\n",
       "      <th></th>\n",
       "      <th></th>\n",
       "      <th></th>\n",
       "      <th></th>\n",
       "    </tr>\n",
       "  </thead>\n",
       "  <tbody>\n",
       "    <tr>\n",
       "      <th>2</th>\n",
       "      <th>YAL002W</th>\n",
       "      <td>-3.564202</td>\n",
       "      <td>-0.353220</td>\n",
       "      <td>-1.978155</td>\n",
       "      <td>-0.941862</td>\n",
       "      <td>-0.336995</td>\n",
       "      <td>-1.206435</td>\n",
       "      <td>0.264837</td>\n",
       "      <td>-0.350340</td>\n",
       "      <td>0.412929</td>\n",
       "      <td>0.424757</td>\n",
       "      <td>...</td>\n",
       "      <td>-0.156562</td>\n",
       "      <td>-0.058010</td>\n",
       "      <td>0.627496</td>\n",
       "      <td>1.345876</td>\n",
       "      <td>-0.671576</td>\n",
       "      <td>0.216722</td>\n",
       "      <td>-0.602522</td>\n",
       "      <td>0.601191</td>\n",
       "      <td>-1.341568</td>\n",
       "      <td>-0.678575</td>\n",
       "    </tr>\n",
       "    <tr>\n",
       "      <th>1863</th>\n",
       "      <th>YAL004W</th>\n",
       "      <td>0.885645</td>\n",
       "      <td>-1.013808</td>\n",
       "      <td>0.622587</td>\n",
       "      <td>-2.297572</td>\n",
       "      <td>-0.347374</td>\n",
       "      <td>-0.101408</td>\n",
       "      <td>0.635994</td>\n",
       "      <td>-0.408350</td>\n",
       "      <td>-3.195733</td>\n",
       "      <td>0.083219</td>\n",
       "      <td>...</td>\n",
       "      <td>0.355291</td>\n",
       "      <td>-2.451122</td>\n",
       "      <td>-0.081059</td>\n",
       "      <td>1.089638</td>\n",
       "      <td>0.615451</td>\n",
       "      <td>-3.554135</td>\n",
       "      <td>0.452632</td>\n",
       "      <td>-1.348896</td>\n",
       "      <td>1.902119</td>\n",
       "      <td>0.694645</td>\n",
       "    </tr>\n",
       "    <tr>\n",
       "      <th>4</th>\n",
       "      <th>YAL005C</th>\n",
       "      <td>0.810421</td>\n",
       "      <td>-0.929355</td>\n",
       "      <td>-0.505755</td>\n",
       "      <td>0.118226</td>\n",
       "      <td>0.246723</td>\n",
       "      <td>-0.106781</td>\n",
       "      <td>0.258916</td>\n",
       "      <td>0.912332</td>\n",
       "      <td>-1.645592</td>\n",
       "      <td>-0.845358</td>\n",
       "      <td>...</td>\n",
       "      <td>-1.081620</td>\n",
       "      <td>0.381497</td>\n",
       "      <td>0.082822</td>\n",
       "      <td>-0.094381</td>\n",
       "      <td>0.177444</td>\n",
       "      <td>-1.809526</td>\n",
       "      <td>-0.044462</td>\n",
       "      <td>-0.863547</td>\n",
       "      <td>0.985590</td>\n",
       "      <td>-1.299491</td>\n",
       "    </tr>\n",
       "    <tr>\n",
       "      <th>5</th>\n",
       "      <th>YAL007C</th>\n",
       "      <td>-0.750878</td>\n",
       "      <td>1.786408</td>\n",
       "      <td>-0.716383</td>\n",
       "      <td>-0.048343</td>\n",
       "      <td>0.308352</td>\n",
       "      <td>0.462982</td>\n",
       "      <td>-0.624150</td>\n",
       "      <td>-0.187065</td>\n",
       "      <td>-2.056260</td>\n",
       "      <td>-1.851755</td>\n",
       "      <td>...</td>\n",
       "      <td>-1.588663</td>\n",
       "      <td>1.592960</td>\n",
       "      <td>-0.096361</td>\n",
       "      <td>1.211303</td>\n",
       "      <td>-0.087362</td>\n",
       "      <td>-1.675288</td>\n",
       "      <td>0.566702</td>\n",
       "      <td>0.210518</td>\n",
       "      <td>2.323592</td>\n",
       "      <td>0.038990</td>\n",
       "    </tr>\n",
       "    <tr>\n",
       "      <th>6</th>\n",
       "      <th>YAL008W</th>\n",
       "      <td>1.883027</td>\n",
       "      <td>0.189418</td>\n",
       "      <td>0.002204</td>\n",
       "      <td>1.259501</td>\n",
       "      <td>-0.964669</td>\n",
       "      <td>-0.522965</td>\n",
       "      <td>0.712050</td>\n",
       "      <td>-1.781294</td>\n",
       "      <td>0.066292</td>\n",
       "      <td>-0.078822</td>\n",
       "      <td>...</td>\n",
       "      <td>-0.299008</td>\n",
       "      <td>0.205888</td>\n",
       "      <td>-0.012554</td>\n",
       "      <td>1.158606</td>\n",
       "      <td>-0.098792</td>\n",
       "      <td>-0.370609</td>\n",
       "      <td>0.404288</td>\n",
       "      <td>-1.284016</td>\n",
       "      <td>-0.041098</td>\n",
       "      <td>-1.208924</td>\n",
       "    </tr>\n",
       "  </tbody>\n",
       "</table>\n",
       "<p>5 rows × 6702 columns</p>\n",
       "</div>"
      ],
      "text/plain": [
       "dataset_id           1353      1354      1355      1356      1357      1358  \\\n",
       "data_type           value     value     value     value     value     value   \n",
       "gene_id orf                                                                   \n",
       "2       YAL002W -3.564202 -0.353220 -1.978155 -0.941862 -0.336995 -1.206435   \n",
       "1863    YAL004W  0.885645 -1.013808  0.622587 -2.297572 -0.347374 -0.101408   \n",
       "4       YAL005C  0.810421 -0.929355 -0.505755  0.118226  0.246723 -0.106781   \n",
       "5       YAL007C -0.750878  1.786408 -0.716383 -0.048343  0.308352  0.462982   \n",
       "6       YAL008W  1.883027  0.189418  0.002204  1.259501 -0.964669 -0.522965   \n",
       "\n",
       "dataset_id           1359      1360      1361      1362  ...      4699  \\\n",
       "data_type           value     value     value     value  ...    valuez   \n",
       "gene_id orf                                              ...             \n",
       "2       YAL002W  0.264837 -0.350340  0.412929  0.424757  ... -0.156562   \n",
       "1863    YAL004W  0.635994 -0.408350 -3.195733  0.083219  ...  0.355291   \n",
       "4       YAL005C  0.258916  0.912332 -1.645592 -0.845358  ... -1.081620   \n",
       "5       YAL007C -0.624150 -0.187065 -2.056260 -1.851755  ... -1.588663   \n",
       "6       YAL008W  0.712050 -1.781294  0.066292 -0.078822  ... -0.299008   \n",
       "\n",
       "dataset_id           4700      4701      4702      4703      4704      4705  \\\n",
       "data_type          valuez    valuez    valuez    valuez    valuez    valuez   \n",
       "gene_id orf                                                                   \n",
       "2       YAL002W -0.058010  0.627496  1.345876 -0.671576  0.216722 -0.602522   \n",
       "1863    YAL004W -2.451122 -0.081059  1.089638  0.615451 -3.554135  0.452632   \n",
       "4       YAL005C  0.381497  0.082822 -0.094381  0.177444 -1.809526 -0.044462   \n",
       "5       YAL007C  1.592960 -0.096361  1.211303 -0.087362 -1.675288  0.566702   \n",
       "6       YAL008W  0.205888 -0.012554  1.158606 -0.098792 -0.370609  0.404288   \n",
       "\n",
       "dataset_id           4706      4707      4708  \n",
       "data_type          valuez    valuez    valuez  \n",
       "gene_id orf                                    \n",
       "2       YAL002W  0.601191 -1.341568 -0.678575  \n",
       "1863    YAL004W -1.348896  1.902119  0.694645  \n",
       "4       YAL005C -0.863547  0.985590 -1.299491  \n",
       "5       YAL007C  0.210518  2.323592  0.038990  \n",
       "6       YAL008W -1.284016 -0.041098 -1.208924  \n",
       "\n",
       "[5 rows x 6702 columns]"
      ]
     },
     "execution_count": 36,
     "metadata": {},
     "output_type": "execute_result"
    }
   ],
   "source": [
    "data_all.head()"
   ]
  },
  {
   "cell_type": "markdown",
   "metadata": {},
   "source": [
    "# Print out"
   ]
  },
  {
   "cell_type": "code",
   "execution_count": 37,
   "metadata": {},
   "outputs": [],
   "source": [
    "for f in ['value','valuez']:\n",
    "    df = data_all.xs(f, level='data_type', axis=1).copy()\n",
    "    df.columns = datasets['name'].values\n",
    "    df = df.droplevel('gene_id', axis=0)\n",
    "    df.to_csv(paper_name + '_hom_' + f + '.txt', sep='\\t')"
   ]
  },
  {
   "cell_type": "markdown",
   "metadata": {},
   "source": [
    "# Save to DB"
   ]
  },
  {
   "cell_type": "code",
   "execution_count": 42,
   "metadata": {},
   "outputs": [],
   "source": [
    "# Special approach (dataset too large)"
   ]
  },
  {
   "cell_type": "code",
   "execution_count": 43,
   "metadata": {},
   "outputs": [],
   "source": [
    "f = 'value'\n",
    "df = data_all.xs(f, level='data_type', axis=1).copy()\n",
    "df = df.droplevel('orf', axis=0)"
   ]
  },
  {
   "cell_type": "code",
   "execution_count": 44,
   "metadata": {},
   "outputs": [],
   "source": [
    "df_long_value = pd.melt(df.reset_index(), id_vars=['gene_id'])"
   ]
  },
  {
   "cell_type": "code",
   "execution_count": 45,
   "metadata": {},
   "outputs": [
    {
     "data": {
      "text/plain": [
       "(16064694, 3)"
      ]
     },
     "execution_count": 45,
     "metadata": {},
     "output_type": "execute_result"
    }
   ],
   "source": [
    "df_long_value.shape"
   ]
  },
  {
   "cell_type": "code",
   "execution_count": 46,
   "metadata": {},
   "outputs": [],
   "source": [
    "f = 'valuez'\n",
    "df = data_all.xs(f, level='data_type', axis=1).copy()\n",
    "df = df.droplevel('orf', axis=0)\n",
    "df_long_valuez = pd.melt(df.reset_index(), id_vars=['gene_id'])"
   ]
  },
  {
   "cell_type": "code",
   "execution_count": 47,
   "metadata": {},
   "outputs": [
    {
     "data": {
      "text/html": [
       "<div>\n",
       "<style scoped>\n",
       "    .dataframe tbody tr th:only-of-type {\n",
       "        vertical-align: middle;\n",
       "    }\n",
       "\n",
       "    .dataframe tbody tr th {\n",
       "        vertical-align: top;\n",
       "    }\n",
       "\n",
       "    .dataframe thead th {\n",
       "        text-align: right;\n",
       "    }\n",
       "</style>\n",
       "<table border=\"1\" class=\"dataframe\">\n",
       "  <thead>\n",
       "    <tr style=\"text-align: right;\">\n",
       "      <th></th>\n",
       "      <th>gene_id</th>\n",
       "      <th>dataset_id</th>\n",
       "      <th>value</th>\n",
       "    </tr>\n",
       "  </thead>\n",
       "  <tbody>\n",
       "    <tr>\n",
       "      <th>0</th>\n",
       "      <td>2</td>\n",
       "      <td>1353</td>\n",
       "      <td>-3.321909</td>\n",
       "    </tr>\n",
       "    <tr>\n",
       "      <th>1</th>\n",
       "      <td>1863</td>\n",
       "      <td>1353</td>\n",
       "      <td>0.841825</td>\n",
       "    </tr>\n",
       "    <tr>\n",
       "      <th>2</th>\n",
       "      <td>4</td>\n",
       "      <td>1353</td>\n",
       "      <td>0.771437</td>\n",
       "    </tr>\n",
       "    <tr>\n",
       "      <th>3</th>\n",
       "      <td>5</td>\n",
       "      <td>1353</td>\n",
       "      <td>-0.689474</td>\n",
       "    </tr>\n",
       "    <tr>\n",
       "      <th>4</th>\n",
       "      <td>6</td>\n",
       "      <td>1353</td>\n",
       "      <td>1.775078</td>\n",
       "    </tr>\n",
       "  </tbody>\n",
       "</table>\n",
       "</div>"
      ],
      "text/plain": [
       "   gene_id dataset_id     value\n",
       "0        2       1353 -3.321909\n",
       "1     1863       1353  0.841825\n",
       "2        4       1353  0.771437\n",
       "3        5       1353 -0.689474\n",
       "4        6       1353  1.775078"
      ]
     },
     "execution_count": 47,
     "metadata": {},
     "output_type": "execute_result"
    }
   ],
   "source": [
    "df_long_valuez.head()"
   ]
  },
  {
   "cell_type": "code",
   "execution_count": 48,
   "metadata": {},
   "outputs": [
    {
     "data": {
      "text/plain": [
       "(16064694, 3)"
      ]
     },
     "execution_count": 48,
     "metadata": {},
     "output_type": "execute_result"
    }
   ],
   "source": [
    "df_long_valuez.shape"
   ]
  },
  {
   "cell_type": "code",
   "execution_count": 49,
   "metadata": {},
   "outputs": [],
   "source": [
    "df_long = df_long_value.merge(df_long_valuez, how='outer', left_on=['gene_id','dataset_id'], right_on=['gene_id','dataset_id'])"
   ]
  },
  {
   "cell_type": "code",
   "execution_count": 50,
   "metadata": {},
   "outputs": [
    {
     "data": {
      "text/plain": [
       "(16064694, 4)"
      ]
     },
     "execution_count": 50,
     "metadata": {},
     "output_type": "execute_result"
    }
   ],
   "source": [
    "df_long.shape"
   ]
  },
  {
   "cell_type": "code",
   "execution_count": 51,
   "metadata": {},
   "outputs": [],
   "source": [
    "df_long = df_long[df_long['value_x'].notnull()]"
   ]
  },
  {
   "cell_type": "code",
   "execution_count": 52,
   "metadata": {},
   "outputs": [],
   "source": [
    "df_long['id'] = np.arange(df_long.shape[0]) + 97509664"
   ]
  },
  {
   "cell_type": "code",
   "execution_count": 53,
   "metadata": {},
   "outputs": [],
   "source": [
    "df_long.columns = ['gene_id','dataset_id','value','valuez','id']"
   ]
  },
  {
   "cell_type": "code",
   "execution_count": 57,
   "metadata": {},
   "outputs": [
    {
     "data": {
      "text/html": [
       "<div>\n",
       "<style scoped>\n",
       "    .dataframe tbody tr th:only-of-type {\n",
       "        vertical-align: middle;\n",
       "    }\n",
       "\n",
       "    .dataframe tbody tr th {\n",
       "        vertical-align: top;\n",
       "    }\n",
       "\n",
       "    .dataframe thead th {\n",
       "        text-align: right;\n",
       "    }\n",
       "</style>\n",
       "<table border=\"1\" class=\"dataframe\">\n",
       "  <thead>\n",
       "    <tr style=\"text-align: right;\">\n",
       "      <th></th>\n",
       "      <th>gene_id</th>\n",
       "      <th>dataset_id</th>\n",
       "      <th>value</th>\n",
       "      <th>valuez</th>\n",
       "      <th>id</th>\n",
       "    </tr>\n",
       "  </thead>\n",
       "  <tbody>\n",
       "    <tr>\n",
       "      <th>16064689</th>\n",
       "      <td>6083</td>\n",
       "      <td>4708</td>\n",
       "      <td>0.817928</td>\n",
       "      <td>0.519697</td>\n",
       "      <td>113568089</td>\n",
       "    </tr>\n",
       "    <tr>\n",
       "      <th>16064690</th>\n",
       "      <td>6084</td>\n",
       "      <td>4708</td>\n",
       "      <td>1.498580</td>\n",
       "      <td>1.052669</td>\n",
       "      <td>113568090</td>\n",
       "    </tr>\n",
       "    <tr>\n",
       "      <th>16064691</th>\n",
       "      <td>6085</td>\n",
       "      <td>4708</td>\n",
       "      <td>-0.687806</td>\n",
       "      <td>-0.659341</td>\n",
       "      <td>113568091</td>\n",
       "    </tr>\n",
       "    <tr>\n",
       "      <th>16064692</th>\n",
       "      <td>6086</td>\n",
       "      <td>4708</td>\n",
       "      <td>3.526903</td>\n",
       "      <td>2.640911</td>\n",
       "      <td>113568092</td>\n",
       "    </tr>\n",
       "    <tr>\n",
       "      <th>16064693</th>\n",
       "      <td>6087</td>\n",
       "      <td>4708</td>\n",
       "      <td>0.527360</td>\n",
       "      <td>0.292173</td>\n",
       "      <td>113568093</td>\n",
       "    </tr>\n",
       "  </tbody>\n",
       "</table>\n",
       "</div>"
      ],
      "text/plain": [
       "          gene_id dataset_id     value    valuez         id\n",
       "16064689     6083       4708  0.817928  0.519697  113568089\n",
       "16064690     6084       4708  1.498580  1.052669  113568090\n",
       "16064691     6085       4708 -0.687806 -0.659341  113568091\n",
       "16064692     6086       4708  3.526903  2.640911  113568092\n",
       "16064693     6087       4708  0.527360  0.292173  113568093"
      ]
     },
     "execution_count": 57,
     "metadata": {},
     "output_type": "execute_result"
    }
   ],
   "source": [
    "df_long.tail()"
   ]
  },
  {
   "cell_type": "code",
   "execution_count": 59,
   "metadata": {},
   "outputs": [],
   "source": [
    "df_long[['id','dataset_id','value','gene_id','valuez']].to_csv('lee_giaever_2014_hom_long.txt', \n",
    "                                                               sep=',', header=False, index=False)"
   ]
  },
  {
   "cell_type": "code",
   "execution_count": 56,
   "metadata": {},
   "outputs": [
    {
     "data": {
      "text/plain": [
       "113568093"
      ]
     },
     "execution_count": 56,
     "metadata": {},
     "output_type": "execute_result"
    }
   ],
   "source": [
    "df_long['id'].max()"
   ]
  },
  {
   "cell_type": "code",
   "execution_count": null,
   "metadata": {},
   "outputs": [],
   "source": []
  }
 ],
 "metadata": {
  "kernelspec": {
   "display_name": "yp-data",
   "language": "python",
   "name": "yp-data"
  },
  "language_info": {
   "codemirror_mode": {
    "name": "ipython",
    "version": 3
   },
   "file_extension": ".py",
   "mimetype": "text/x-python",
   "name": "python",
   "nbconvert_exporter": "python",
   "pygments_lexer": "ipython3",
   "version": "3.7.7"
  }
 },
 "nbformat": 4,
 "nbformat_minor": 4
}
