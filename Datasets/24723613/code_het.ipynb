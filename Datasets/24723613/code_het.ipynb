{
 "cells": [
  {
   "cell_type": "code",
   "execution_count": 1,
   "metadata": {},
   "outputs": [],
   "source": [
    "%run ../yp_utils.py"
   ]
  },
  {
   "cell_type": "markdown",
   "metadata": {},
   "source": [
    "# Initial setup"
   ]
  },
  {
   "cell_type": "code",
   "execution_count": 2,
   "metadata": {},
   "outputs": [],
   "source": [
    "paper_pmid = 24723613\n",
    "paper_name = 'lee_giaever_2014' "
   ]
  },
  {
   "cell_type": "code",
   "execution_count": 3,
   "metadata": {},
   "outputs": [],
   "source": [
    "datasets = pd.read_csv('extras/YeastPhenome_' + str(paper_pmid) + '_datasets_list.txt', sep='\\t', header=None, names=['dataset_id', 'name'])"
   ]
  },
  {
   "cell_type": "code",
   "execution_count": 4,
   "metadata": {},
   "outputs": [],
   "source": [
    "datasets.set_index('dataset_id', inplace=True)"
   ]
  },
  {
   "cell_type": "markdown",
   "metadata": {},
   "source": [
    "# Load & process the data"
   ]
  },
  {
   "cell_type": "code",
   "execution_count": 5,
   "metadata": {},
   "outputs": [],
   "source": [
    "screenid_datasetid = pd.read_excel('extras/screenid_datasetid.xlsx', \n",
    "                                   sheet_name='screenid_datasetid',\n",
    "                                   names=['compound','hom_dataset_id','conditionset_id','het_dataset_id'],\n",
    "                                  index_col='compound')"
   ]
  },
  {
   "cell_type": "code",
   "execution_count": 6,
   "metadata": {},
   "outputs": [
    {
     "data": {
      "text/html": [
       "<div>\n",
       "<style scoped>\n",
       "    .dataframe tbody tr th:only-of-type {\n",
       "        vertical-align: middle;\n",
       "    }\n",
       "\n",
       "    .dataframe tbody tr th {\n",
       "        vertical-align: top;\n",
       "    }\n",
       "\n",
       "    .dataframe thead th {\n",
       "        text-align: right;\n",
       "    }\n",
       "</style>\n",
       "<table border=\"1\" class=\"dataframe\">\n",
       "  <thead>\n",
       "    <tr style=\"text-align: right;\">\n",
       "      <th></th>\n",
       "      <th>hom_dataset_id</th>\n",
       "      <th>conditionset_id</th>\n",
       "      <th>het_dataset_id</th>\n",
       "    </tr>\n",
       "    <tr>\n",
       "      <th>compound</th>\n",
       "      <th></th>\n",
       "      <th></th>\n",
       "      <th></th>\n",
       "    </tr>\n",
       "  </thead>\n",
       "  <tbody>\n",
       "    <tr>\n",
       "      <th>SGTC_1</th>\n",
       "      <td>1353</td>\n",
       "      <td>4497</td>\n",
       "      <td>12712</td>\n",
       "    </tr>\n",
       "    <tr>\n",
       "      <th>SGTC_10</th>\n",
       "      <td>1354</td>\n",
       "      <td>4498</td>\n",
       "      <td>12713</td>\n",
       "    </tr>\n",
       "    <tr>\n",
       "      <th>SGTC_100</th>\n",
       "      <td>1355</td>\n",
       "      <td>4499</td>\n",
       "      <td>12714</td>\n",
       "    </tr>\n",
       "    <tr>\n",
       "      <th>SGTC_1000</th>\n",
       "      <td>1356</td>\n",
       "      <td>4500</td>\n",
       "      <td>14394</td>\n",
       "    </tr>\n",
       "    <tr>\n",
       "      <th>SGTC_1001</th>\n",
       "      <td>1357</td>\n",
       "      <td>4501</td>\n",
       "      <td>12715</td>\n",
       "    </tr>\n",
       "  </tbody>\n",
       "</table>\n",
       "</div>"
      ],
      "text/plain": [
       "           hom_dataset_id  conditionset_id  het_dataset_id\n",
       "compound                                                  \n",
       "SGTC_1               1353             4497           12712\n",
       "SGTC_10              1354             4498           12713\n",
       "SGTC_100             1355             4499           12714\n",
       "SGTC_1000            1356             4500           14394\n",
       "SGTC_1001            1357             4501           12715"
      ]
     },
     "execution_count": 6,
     "metadata": {},
     "output_type": "execute_result"
    }
   ],
   "source": [
    "screenid_datasetid.head()"
   ]
  },
  {
   "cell_type": "markdown",
   "metadata": {},
   "source": [
    "# Load & process the data"
   ]
  },
  {
   "cell_type": "code",
   "execution_count": 7,
   "metadata": {},
   "outputs": [],
   "source": [
    "original_data1 = pd.read_csv('raw_data/fitness_defect_matrix_het.txt', sep='\\t')"
   ]
  },
  {
   "cell_type": "code",
   "execution_count": 8,
   "metadata": {},
   "outputs": [
    {
     "name": "stdout",
     "output_type": "stream",
     "text": [
      "Original data dimensions: 1095 x 3357\n"
     ]
    }
   ],
   "source": [
    "print('Original data dimensions: %d x %d' % (original_data1.shape))"
   ]
  },
  {
   "cell_type": "code",
   "execution_count": 9,
   "metadata": {},
   "outputs": [],
   "source": [
    "original_data1.rename(columns={'Unnamed: 0': 'orfs'}, inplace=True)"
   ]
  },
  {
   "cell_type": "code",
   "execution_count": 10,
   "metadata": {},
   "outputs": [],
   "source": [
    "original_data1['orfs'] = original_data1['orfs'].astype(str)"
   ]
  },
  {
   "cell_type": "code",
   "execution_count": 11,
   "metadata": {},
   "outputs": [],
   "source": [
    "# Eliminate all white spaces & capitalize\n",
    "original_data1['orfs'] = clean_orf(original_data1['orfs'])"
   ]
  },
  {
   "cell_type": "code",
   "execution_count": 12,
   "metadata": {},
   "outputs": [],
   "source": [
    "# Translate to ORFs \n",
    "original_data1['orfs'] = translate_sc(original_data1['orfs'], to='orf')"
   ]
  },
  {
   "cell_type": "code",
   "execution_count": 13,
   "metadata": {},
   "outputs": [
    {
     "name": "stdout",
     "output_type": "stream",
     "text": [
      "Empty DataFrame\n",
      "Columns: [orfs, SGTC_1, SGTC_2, SGTC_3, SGTC_4, SGTC_5, SGTC_6, SGTC_7, SGTC_8, SGTC_9, SGTC_10, SGTC_11, SGTC_12, SGTC_13, SGTC_14, SGTC_15, SGTC_16, SGTC_17, SGTC_18, SGTC_19, SGTC_20, SGTC_21, SGTC_22, SGTC_23, SGTC_24, SGTC_25, SGTC_26, SGTC_27, SGTC_28, SGTC_29, SGTC_30, SGTC_31, SGTC_32, SGTC_33, SGTC_34, SGTC_35, SGTC_36, SGTC_37, SGTC_38, SGTC_39, SGTC_40, SGTC_41, SGTC_42, SGTC_43, SGTC_44, SGTC_45, SGTC_46, SGTC_47, SGTC_48, SGTC_49, SGTC_50, SGTC_51, SGTC_52, SGTC_53, SGTC_54, SGTC_55, SGTC_56, SGTC_57, SGTC_58, SGTC_59, SGTC_60, SGTC_61, SGTC_62, SGTC_63, SGTC_64, SGTC_65, SGTC_66, SGTC_67, SGTC_68, SGTC_69, SGTC_70, SGTC_71, SGTC_72, SGTC_73, SGTC_74, SGTC_75, SGTC_76, SGTC_77, SGTC_78, SGTC_79, SGTC_80, SGTC_81, SGTC_82, SGTC_83, SGTC_84, SGTC_85, SGTC_86, SGTC_87, SGTC_88, SGTC_89, SGTC_90, SGTC_91, SGTC_92, SGTC_93, SGTC_94, SGTC_95, SGTC_96, SGTC_97, SGTC_98, SGTC_99, ...]\n",
      "Index: []\n",
      "\n",
      "[0 rows x 3357 columns]\n"
     ]
    }
   ],
   "source": [
    "# Make sure everything translated ok\n",
    "t = looks_like_orf(original_data1['orfs'])\n",
    "print(original_data1.loc[~t,])"
   ]
  },
  {
   "cell_type": "code",
   "execution_count": 14,
   "metadata": {},
   "outputs": [],
   "source": [
    "original_data1.set_index('orfs', inplace=True)\n",
    "original_data1.index.name='orf'"
   ]
  },
  {
   "cell_type": "code",
   "execution_count": 15,
   "metadata": {},
   "outputs": [],
   "source": [
    "original_data1 = original_data1.groupby(original_data1.index).mean()"
   ]
  },
  {
   "cell_type": "code",
   "execution_count": 16,
   "metadata": {},
   "outputs": [
    {
     "data": {
      "text/plain": [
       "(1095, 3356)"
      ]
     },
     "execution_count": 16,
     "metadata": {},
     "output_type": "execute_result"
    }
   ],
   "source": [
    "original_data1.shape"
   ]
  },
  {
   "cell_type": "code",
   "execution_count": 17,
   "metadata": {},
   "outputs": [],
   "source": [
    "# Switch sign (as per convention: lower values = lower phenotype)\n",
    "original_data1 = -original_data1"
   ]
  },
  {
   "cell_type": "code",
   "execution_count": 18,
   "metadata": {},
   "outputs": [],
   "source": [
    "# Match to dataset ids"
   ]
  },
  {
   "cell_type": "code",
   "execution_count": 19,
   "metadata": {},
   "outputs": [],
   "source": [
    "het_dataset_ids = screenid_datasetid.reindex(index=original_data1.columns.values)['het_dataset_id'].values"
   ]
  },
  {
   "cell_type": "code",
   "execution_count": 20,
   "metadata": {},
   "outputs": [
    {
     "data": {
      "text/plain": [
       "0"
      ]
     },
     "execution_count": 20,
     "metadata": {},
     "output_type": "execute_result"
    }
   ],
   "source": [
    "np.sum(np.isnan(het_dataset_ids))"
   ]
  },
  {
   "cell_type": "code",
   "execution_count": 21,
   "metadata": {},
   "outputs": [],
   "source": [
    "# Average the replicates (same dataset id)\n",
    "original_data1.columns = het_dataset_ids\n",
    "original_data1 = original_data1.T"
   ]
  },
  {
   "cell_type": "code",
   "execution_count": 22,
   "metadata": {},
   "outputs": [
    {
     "data": {
      "text/plain": [
       "(3351, 1095)"
      ]
     },
     "execution_count": 22,
     "metadata": {},
     "output_type": "execute_result"
    }
   ],
   "source": [
    "original_data1 = original_data1.groupby(original_data1.index).mean()\n",
    "original_data1.shape"
   ]
  },
  {
   "cell_type": "code",
   "execution_count": 23,
   "metadata": {},
   "outputs": [],
   "source": [
    "original_data1 = original_data1.T"
   ]
  },
  {
   "cell_type": "markdown",
   "metadata": {},
   "source": [
    "# Prepare the final dataset"
   ]
  },
  {
   "cell_type": "code",
   "execution_count": 24,
   "metadata": {},
   "outputs": [],
   "source": [
    "data = original_data1.copy()"
   ]
  },
  {
   "cell_type": "code",
   "execution_count": 25,
   "metadata": {},
   "outputs": [],
   "source": [
    "dataset_ids = original_data1.columns.values\n",
    "datasets = datasets.reindex(index=dataset_ids)"
   ]
  },
  {
   "cell_type": "code",
   "execution_count": 26,
   "metadata": {},
   "outputs": [
    {
     "data": {
      "text/html": [
       "<div>\n",
       "<style scoped>\n",
       "    .dataframe tbody tr th:only-of-type {\n",
       "        vertical-align: middle;\n",
       "    }\n",
       "\n",
       "    .dataframe tbody tr th {\n",
       "        vertical-align: top;\n",
       "    }\n",
       "\n",
       "    .dataframe thead th {\n",
       "        text-align: right;\n",
       "    }\n",
       "</style>\n",
       "<table border=\"1\" class=\"dataframe\">\n",
       "  <thead>\n",
       "    <tr style=\"text-align: right;\">\n",
       "      <th></th>\n",
       "      <th>name</th>\n",
       "    </tr>\n",
       "    <tr>\n",
       "      <th>dataset_id</th>\n",
       "      <th></th>\n",
       "    </tr>\n",
       "  </thead>\n",
       "  <tbody>\n",
       "  </tbody>\n",
       "</table>\n",
       "</div>"
      ],
      "text/plain": [
       "Empty DataFrame\n",
       "Columns: [name]\n",
       "Index: []"
      ]
     },
     "execution_count": 26,
     "metadata": {},
     "output_type": "execute_result"
    }
   ],
   "source": [
    "datasets.loc[datasets['name'].isnull()]"
   ]
  },
  {
   "cell_type": "code",
   "execution_count": 27,
   "metadata": {},
   "outputs": [],
   "source": [
    "lst = [datasets.index.values, ['value']*datasets.shape[0]]\n",
    "tuples = list(zip(*lst))\n",
    "idx = pd.MultiIndex.from_tuples(tuples, names=['dataset_id','data_type'])\n",
    "data.columns = idx"
   ]
  },
  {
   "cell_type": "code",
   "execution_count": 28,
   "metadata": {},
   "outputs": [
    {
     "data": {
      "text/html": [
       "<div>\n",
       "<style scoped>\n",
       "    .dataframe tbody tr th:only-of-type {\n",
       "        vertical-align: middle;\n",
       "    }\n",
       "\n",
       "    .dataframe tbody tr th {\n",
       "        vertical-align: top;\n",
       "    }\n",
       "\n",
       "    .dataframe thead tr th {\n",
       "        text-align: left;\n",
       "    }\n",
       "\n",
       "    .dataframe thead tr:last-of-type th {\n",
       "        text-align: right;\n",
       "    }\n",
       "</style>\n",
       "<table border=\"1\" class=\"dataframe\">\n",
       "  <thead>\n",
       "    <tr>\n",
       "      <th>dataset_id</th>\n",
       "      <th>12627</th>\n",
       "      <th>12628</th>\n",
       "      <th>12629</th>\n",
       "      <th>12630</th>\n",
       "      <th>12631</th>\n",
       "      <th>12632</th>\n",
       "      <th>12633</th>\n",
       "      <th>12634</th>\n",
       "      <th>12635</th>\n",
       "      <th>12636</th>\n",
       "      <th>...</th>\n",
       "      <th>15973</th>\n",
       "      <th>15974</th>\n",
       "      <th>15975</th>\n",
       "      <th>15976</th>\n",
       "      <th>15977</th>\n",
       "      <th>15978</th>\n",
       "      <th>15979</th>\n",
       "      <th>15980</th>\n",
       "      <th>15981</th>\n",
       "      <th>15982</th>\n",
       "    </tr>\n",
       "    <tr>\n",
       "      <th>data_type</th>\n",
       "      <th>value</th>\n",
       "      <th>value</th>\n",
       "      <th>value</th>\n",
       "      <th>value</th>\n",
       "      <th>value</th>\n",
       "      <th>value</th>\n",
       "      <th>value</th>\n",
       "      <th>value</th>\n",
       "      <th>value</th>\n",
       "      <th>value</th>\n",
       "      <th>...</th>\n",
       "      <th>value</th>\n",
       "      <th>value</th>\n",
       "      <th>value</th>\n",
       "      <th>value</th>\n",
       "      <th>value</th>\n",
       "      <th>value</th>\n",
       "      <th>value</th>\n",
       "      <th>value</th>\n",
       "      <th>value</th>\n",
       "      <th>value</th>\n",
       "    </tr>\n",
       "    <tr>\n",
       "      <th>orf</th>\n",
       "      <th></th>\n",
       "      <th></th>\n",
       "      <th></th>\n",
       "      <th></th>\n",
       "      <th></th>\n",
       "      <th></th>\n",
       "      <th></th>\n",
       "      <th></th>\n",
       "      <th></th>\n",
       "      <th></th>\n",
       "      <th></th>\n",
       "      <th></th>\n",
       "      <th></th>\n",
       "      <th></th>\n",
       "      <th></th>\n",
       "      <th></th>\n",
       "      <th></th>\n",
       "      <th></th>\n",
       "      <th></th>\n",
       "      <th></th>\n",
       "      <th></th>\n",
       "    </tr>\n",
       "  </thead>\n",
       "  <tbody>\n",
       "    <tr>\n",
       "      <th>YAL001C</th>\n",
       "      <td>2.854542</td>\n",
       "      <td>2.517708</td>\n",
       "      <td>-1.153309</td>\n",
       "      <td>-0.952176</td>\n",
       "      <td>1.920910</td>\n",
       "      <td>2.296125</td>\n",
       "      <td>-0.466234</td>\n",
       "      <td>1.027668</td>\n",
       "      <td>2.067729</td>\n",
       "      <td>-4.000097</td>\n",
       "      <td>...</td>\n",
       "      <td>-1.003608</td>\n",
       "      <td>0.139967</td>\n",
       "      <td>-2.348368</td>\n",
       "      <td>-3.200169</td>\n",
       "      <td>0.312923</td>\n",
       "      <td>1.260750</td>\n",
       "      <td>0.187037</td>\n",
       "      <td>0.412209</td>\n",
       "      <td>0.480659</td>\n",
       "      <td>-0.149563</td>\n",
       "    </tr>\n",
       "    <tr>\n",
       "      <th>YAL003W</th>\n",
       "      <td>2.065927</td>\n",
       "      <td>-0.963073</td>\n",
       "      <td>0.837815</td>\n",
       "      <td>0.609618</td>\n",
       "      <td>-1.494138</td>\n",
       "      <td>-0.037590</td>\n",
       "      <td>-0.478915</td>\n",
       "      <td>-0.591904</td>\n",
       "      <td>0.879805</td>\n",
       "      <td>0.469542</td>\n",
       "      <td>...</td>\n",
       "      <td>0.337857</td>\n",
       "      <td>1.778926</td>\n",
       "      <td>0.090333</td>\n",
       "      <td>-1.331668</td>\n",
       "      <td>-1.071445</td>\n",
       "      <td>0.232153</td>\n",
       "      <td>0.250174</td>\n",
       "      <td>-1.527926</td>\n",
       "      <td>0.176402</td>\n",
       "      <td>-0.603382</td>\n",
       "    </tr>\n",
       "    <tr>\n",
       "      <th>YAL025C</th>\n",
       "      <td>-0.771042</td>\n",
       "      <td>-1.008536</td>\n",
       "      <td>0.495327</td>\n",
       "      <td>-1.001732</td>\n",
       "      <td>-0.484244</td>\n",
       "      <td>-2.954500</td>\n",
       "      <td>-0.798520</td>\n",
       "      <td>0.189401</td>\n",
       "      <td>-1.293275</td>\n",
       "      <td>0.859315</td>\n",
       "      <td>...</td>\n",
       "      <td>-0.010238</td>\n",
       "      <td>0.863016</td>\n",
       "      <td>1.379514</td>\n",
       "      <td>-1.426761</td>\n",
       "      <td>-1.040631</td>\n",
       "      <td>2.344398</td>\n",
       "      <td>-1.489800</td>\n",
       "      <td>-0.737161</td>\n",
       "      <td>0.872477</td>\n",
       "      <td>0.080705</td>\n",
       "    </tr>\n",
       "    <tr>\n",
       "      <th>YAL032C</th>\n",
       "      <td>-1.097148</td>\n",
       "      <td>-2.154759</td>\n",
       "      <td>-0.274118</td>\n",
       "      <td>-1.247344</td>\n",
       "      <td>-0.213820</td>\n",
       "      <td>0.013804</td>\n",
       "      <td>0.531671</td>\n",
       "      <td>-0.596314</td>\n",
       "      <td>1.481032</td>\n",
       "      <td>-1.208819</td>\n",
       "      <td>...</td>\n",
       "      <td>-1.135614</td>\n",
       "      <td>1.722025</td>\n",
       "      <td>-2.145999</td>\n",
       "      <td>-0.508375</td>\n",
       "      <td>-1.047365</td>\n",
       "      <td>-1.093894</td>\n",
       "      <td>0.970007</td>\n",
       "      <td>0.477508</td>\n",
       "      <td>0.368423</td>\n",
       "      <td>0.489545</td>\n",
       "    </tr>\n",
       "    <tr>\n",
       "      <th>YAL033W</th>\n",
       "      <td>-1.792244</td>\n",
       "      <td>0.104146</td>\n",
       "      <td>-1.003579</td>\n",
       "      <td>-0.706570</td>\n",
       "      <td>-0.554360</td>\n",
       "      <td>2.762787</td>\n",
       "      <td>-0.216875</td>\n",
       "      <td>0.705120</td>\n",
       "      <td>-1.032982</td>\n",
       "      <td>-0.229230</td>\n",
       "      <td>...</td>\n",
       "      <td>0.238247</td>\n",
       "      <td>-0.615638</td>\n",
       "      <td>-0.436098</td>\n",
       "      <td>-0.361598</td>\n",
       "      <td>0.361720</td>\n",
       "      <td>-0.140814</td>\n",
       "      <td>0.900067</td>\n",
       "      <td>0.265923</td>\n",
       "      <td>-0.597290</td>\n",
       "      <td>0.174155</td>\n",
       "    </tr>\n",
       "  </tbody>\n",
       "</table>\n",
       "<p>5 rows × 3351 columns</p>\n",
       "</div>"
      ],
      "text/plain": [
       "dataset_id     12627     12628     12629     12630     12631     12632  \\\n",
       "data_type      value     value     value     value     value     value   \n",
       "orf                                                                      \n",
       "YAL001C     2.854542  2.517708 -1.153309 -0.952176  1.920910  2.296125   \n",
       "YAL003W     2.065927 -0.963073  0.837815  0.609618 -1.494138 -0.037590   \n",
       "YAL025C    -0.771042 -1.008536  0.495327 -1.001732 -0.484244 -2.954500   \n",
       "YAL032C    -1.097148 -2.154759 -0.274118 -1.247344 -0.213820  0.013804   \n",
       "YAL033W    -1.792244  0.104146 -1.003579 -0.706570 -0.554360  2.762787   \n",
       "\n",
       "dataset_id     12633     12634     12635     12636  ...     15973     15974  \\\n",
       "data_type      value     value     value     value  ...     value     value   \n",
       "orf                                                 ...                       \n",
       "YAL001C    -0.466234  1.027668  2.067729 -4.000097  ... -1.003608  0.139967   \n",
       "YAL003W    -0.478915 -0.591904  0.879805  0.469542  ...  0.337857  1.778926   \n",
       "YAL025C    -0.798520  0.189401 -1.293275  0.859315  ... -0.010238  0.863016   \n",
       "YAL032C     0.531671 -0.596314  1.481032 -1.208819  ... -1.135614  1.722025   \n",
       "YAL033W    -0.216875  0.705120 -1.032982 -0.229230  ...  0.238247 -0.615638   \n",
       "\n",
       "dataset_id     15975     15976     15977     15978     15979     15980  \\\n",
       "data_type      value     value     value     value     value     value   \n",
       "orf                                                                      \n",
       "YAL001C    -2.348368 -3.200169  0.312923  1.260750  0.187037  0.412209   \n",
       "YAL003W     0.090333 -1.331668 -1.071445  0.232153  0.250174 -1.527926   \n",
       "YAL025C     1.379514 -1.426761 -1.040631  2.344398 -1.489800 -0.737161   \n",
       "YAL032C    -2.145999 -0.508375 -1.047365 -1.093894  0.970007  0.477508   \n",
       "YAL033W    -0.436098 -0.361598  0.361720 -0.140814  0.900067  0.265923   \n",
       "\n",
       "dataset_id     15981     15982  \n",
       "data_type      value     value  \n",
       "orf                             \n",
       "YAL001C     0.480659 -0.149563  \n",
       "YAL003W     0.176402 -0.603382  \n",
       "YAL025C     0.872477  0.080705  \n",
       "YAL032C     0.368423  0.489545  \n",
       "YAL033W    -0.597290  0.174155  \n",
       "\n",
       "[5 rows x 3351 columns]"
      ]
     },
     "execution_count": 28,
     "metadata": {},
     "output_type": "execute_result"
    }
   ],
   "source": [
    "data.head()"
   ]
  },
  {
   "cell_type": "markdown",
   "metadata": {},
   "source": [
    "## Subset to the genes currently in SGD"
   ]
  },
  {
   "cell_type": "code",
   "execution_count": 29,
   "metadata": {},
   "outputs": [
    {
     "name": "stdout",
     "output_type": "stream",
     "text": [
      "ORFs missing from SGD: 0\n"
     ]
    }
   ],
   "source": [
    "genes = pd.read_csv(path_to_genes, sep='\\t', index_col='id')\n",
    "genes = genes.reset_index().set_index('systematic_name')\n",
    "gene_ids = genes.reindex(index=data.index.values)['id'].values\n",
    "num_missing = np.sum(np.isnan(gene_ids))\n",
    "print('ORFs missing from SGD: %d' % num_missing)"
   ]
  },
  {
   "cell_type": "code",
   "execution_count": 30,
   "metadata": {},
   "outputs": [],
   "source": [
    "data['gene_id'] = gene_ids\n",
    "data = data.loc[data['gene_id'].notnull()]\n",
    "data['gene_id'] = data['gene_id'].astype(int)\n",
    "data = data.reset_index().set_index(['gene_id','orf'])"
   ]
  },
  {
   "cell_type": "code",
   "execution_count": 31,
   "metadata": {},
   "outputs": [
    {
     "data": {
      "text/html": [
       "<div>\n",
       "<style scoped>\n",
       "    .dataframe tbody tr th:only-of-type {\n",
       "        vertical-align: middle;\n",
       "    }\n",
       "\n",
       "    .dataframe tbody tr th {\n",
       "        vertical-align: top;\n",
       "    }\n",
       "\n",
       "    .dataframe thead tr th {\n",
       "        text-align: left;\n",
       "    }\n",
       "\n",
       "    .dataframe thead tr:last-of-type th {\n",
       "        text-align: right;\n",
       "    }\n",
       "</style>\n",
       "<table border=\"1\" class=\"dataframe\">\n",
       "  <thead>\n",
       "    <tr>\n",
       "      <th></th>\n",
       "      <th>dataset_id</th>\n",
       "      <th>12627</th>\n",
       "      <th>12628</th>\n",
       "      <th>12629</th>\n",
       "      <th>12630</th>\n",
       "      <th>12631</th>\n",
       "      <th>12632</th>\n",
       "      <th>12633</th>\n",
       "      <th>12634</th>\n",
       "      <th>12635</th>\n",
       "      <th>12636</th>\n",
       "      <th>...</th>\n",
       "      <th>15973</th>\n",
       "      <th>15974</th>\n",
       "      <th>15975</th>\n",
       "      <th>15976</th>\n",
       "      <th>15977</th>\n",
       "      <th>15978</th>\n",
       "      <th>15979</th>\n",
       "      <th>15980</th>\n",
       "      <th>15981</th>\n",
       "      <th>15982</th>\n",
       "    </tr>\n",
       "    <tr>\n",
       "      <th></th>\n",
       "      <th>data_type</th>\n",
       "      <th>value</th>\n",
       "      <th>value</th>\n",
       "      <th>value</th>\n",
       "      <th>value</th>\n",
       "      <th>value</th>\n",
       "      <th>value</th>\n",
       "      <th>value</th>\n",
       "      <th>value</th>\n",
       "      <th>value</th>\n",
       "      <th>value</th>\n",
       "      <th>...</th>\n",
       "      <th>value</th>\n",
       "      <th>value</th>\n",
       "      <th>value</th>\n",
       "      <th>value</th>\n",
       "      <th>value</th>\n",
       "      <th>value</th>\n",
       "      <th>value</th>\n",
       "      <th>value</th>\n",
       "      <th>value</th>\n",
       "      <th>value</th>\n",
       "    </tr>\n",
       "    <tr>\n",
       "      <th>gene_id</th>\n",
       "      <th>orf</th>\n",
       "      <th></th>\n",
       "      <th></th>\n",
       "      <th></th>\n",
       "      <th></th>\n",
       "      <th></th>\n",
       "      <th></th>\n",
       "      <th></th>\n",
       "      <th></th>\n",
       "      <th></th>\n",
       "      <th></th>\n",
       "      <th></th>\n",
       "      <th></th>\n",
       "      <th></th>\n",
       "      <th></th>\n",
       "      <th></th>\n",
       "      <th></th>\n",
       "      <th></th>\n",
       "      <th></th>\n",
       "      <th></th>\n",
       "      <th></th>\n",
       "      <th></th>\n",
       "    </tr>\n",
       "  </thead>\n",
       "  <tbody>\n",
       "    <tr>\n",
       "      <th>1</th>\n",
       "      <th>YAL001C</th>\n",
       "      <td>2.854542</td>\n",
       "      <td>2.517708</td>\n",
       "      <td>-1.153309</td>\n",
       "      <td>-0.952176</td>\n",
       "      <td>1.920910</td>\n",
       "      <td>2.296125</td>\n",
       "      <td>-0.466234</td>\n",
       "      <td>1.027668</td>\n",
       "      <td>2.067729</td>\n",
       "      <td>-4.000097</td>\n",
       "      <td>...</td>\n",
       "      <td>-1.003608</td>\n",
       "      <td>0.139967</td>\n",
       "      <td>-2.348368</td>\n",
       "      <td>-3.200169</td>\n",
       "      <td>0.312923</td>\n",
       "      <td>1.260750</td>\n",
       "      <td>0.187037</td>\n",
       "      <td>0.412209</td>\n",
       "      <td>0.480659</td>\n",
       "      <td>-0.149563</td>\n",
       "    </tr>\n",
       "    <tr>\n",
       "      <th>3</th>\n",
       "      <th>YAL003W</th>\n",
       "      <td>2.065927</td>\n",
       "      <td>-0.963073</td>\n",
       "      <td>0.837815</td>\n",
       "      <td>0.609618</td>\n",
       "      <td>-1.494138</td>\n",
       "      <td>-0.037590</td>\n",
       "      <td>-0.478915</td>\n",
       "      <td>-0.591904</td>\n",
       "      <td>0.879805</td>\n",
       "      <td>0.469542</td>\n",
       "      <td>...</td>\n",
       "      <td>0.337857</td>\n",
       "      <td>1.778926</td>\n",
       "      <td>0.090333</td>\n",
       "      <td>-1.331668</td>\n",
       "      <td>-1.071445</td>\n",
       "      <td>0.232153</td>\n",
       "      <td>0.250174</td>\n",
       "      <td>-1.527926</td>\n",
       "      <td>0.176402</td>\n",
       "      <td>-0.603382</td>\n",
       "    </tr>\n",
       "    <tr>\n",
       "      <th>23</th>\n",
       "      <th>YAL025C</th>\n",
       "      <td>-0.771042</td>\n",
       "      <td>-1.008536</td>\n",
       "      <td>0.495327</td>\n",
       "      <td>-1.001732</td>\n",
       "      <td>-0.484244</td>\n",
       "      <td>-2.954500</td>\n",
       "      <td>-0.798520</td>\n",
       "      <td>0.189401</td>\n",
       "      <td>-1.293275</td>\n",
       "      <td>0.859315</td>\n",
       "      <td>...</td>\n",
       "      <td>-0.010238</td>\n",
       "      <td>0.863016</td>\n",
       "      <td>1.379514</td>\n",
       "      <td>-1.426761</td>\n",
       "      <td>-1.040631</td>\n",
       "      <td>2.344398</td>\n",
       "      <td>-1.489800</td>\n",
       "      <td>-0.737161</td>\n",
       "      <td>0.872477</td>\n",
       "      <td>0.080705</td>\n",
       "    </tr>\n",
       "    <tr>\n",
       "      <th>30</th>\n",
       "      <th>YAL032C</th>\n",
       "      <td>-1.097148</td>\n",
       "      <td>-2.154759</td>\n",
       "      <td>-0.274118</td>\n",
       "      <td>-1.247344</td>\n",
       "      <td>-0.213820</td>\n",
       "      <td>0.013804</td>\n",
       "      <td>0.531671</td>\n",
       "      <td>-0.596314</td>\n",
       "      <td>1.481032</td>\n",
       "      <td>-1.208819</td>\n",
       "      <td>...</td>\n",
       "      <td>-1.135614</td>\n",
       "      <td>1.722025</td>\n",
       "      <td>-2.145999</td>\n",
       "      <td>-0.508375</td>\n",
       "      <td>-1.047365</td>\n",
       "      <td>-1.093894</td>\n",
       "      <td>0.970007</td>\n",
       "      <td>0.477508</td>\n",
       "      <td>0.368423</td>\n",
       "      <td>0.489545</td>\n",
       "    </tr>\n",
       "    <tr>\n",
       "      <th>31</th>\n",
       "      <th>YAL033W</th>\n",
       "      <td>-1.792244</td>\n",
       "      <td>0.104146</td>\n",
       "      <td>-1.003579</td>\n",
       "      <td>-0.706570</td>\n",
       "      <td>-0.554360</td>\n",
       "      <td>2.762787</td>\n",
       "      <td>-0.216875</td>\n",
       "      <td>0.705120</td>\n",
       "      <td>-1.032982</td>\n",
       "      <td>-0.229230</td>\n",
       "      <td>...</td>\n",
       "      <td>0.238247</td>\n",
       "      <td>-0.615638</td>\n",
       "      <td>-0.436098</td>\n",
       "      <td>-0.361598</td>\n",
       "      <td>0.361720</td>\n",
       "      <td>-0.140814</td>\n",
       "      <td>0.900067</td>\n",
       "      <td>0.265923</td>\n",
       "      <td>-0.597290</td>\n",
       "      <td>0.174155</td>\n",
       "    </tr>\n",
       "  </tbody>\n",
       "</table>\n",
       "<p>5 rows × 3351 columns</p>\n",
       "</div>"
      ],
      "text/plain": [
       "dataset_id          12627     12628     12629     12630     12631     12632  \\\n",
       "data_type           value     value     value     value     value     value   \n",
       "gene_id orf                                                                   \n",
       "1       YAL001C  2.854542  2.517708 -1.153309 -0.952176  1.920910  2.296125   \n",
       "3       YAL003W  2.065927 -0.963073  0.837815  0.609618 -1.494138 -0.037590   \n",
       "23      YAL025C -0.771042 -1.008536  0.495327 -1.001732 -0.484244 -2.954500   \n",
       "30      YAL032C -1.097148 -2.154759 -0.274118 -1.247344 -0.213820  0.013804   \n",
       "31      YAL033W -1.792244  0.104146 -1.003579 -0.706570 -0.554360  2.762787   \n",
       "\n",
       "dataset_id          12633     12634     12635     12636  ...     15973  \\\n",
       "data_type           value     value     value     value  ...     value   \n",
       "gene_id orf                                              ...             \n",
       "1       YAL001C -0.466234  1.027668  2.067729 -4.000097  ... -1.003608   \n",
       "3       YAL003W -0.478915 -0.591904  0.879805  0.469542  ...  0.337857   \n",
       "23      YAL025C -0.798520  0.189401 -1.293275  0.859315  ... -0.010238   \n",
       "30      YAL032C  0.531671 -0.596314  1.481032 -1.208819  ... -1.135614   \n",
       "31      YAL033W -0.216875  0.705120 -1.032982 -0.229230  ...  0.238247   \n",
       "\n",
       "dataset_id          15974     15975     15976     15977     15978     15979  \\\n",
       "data_type           value     value     value     value     value     value   \n",
       "gene_id orf                                                                   \n",
       "1       YAL001C  0.139967 -2.348368 -3.200169  0.312923  1.260750  0.187037   \n",
       "3       YAL003W  1.778926  0.090333 -1.331668 -1.071445  0.232153  0.250174   \n",
       "23      YAL025C  0.863016  1.379514 -1.426761 -1.040631  2.344398 -1.489800   \n",
       "30      YAL032C  1.722025 -2.145999 -0.508375 -1.047365 -1.093894  0.970007   \n",
       "31      YAL033W -0.615638 -0.436098 -0.361598  0.361720 -0.140814  0.900067   \n",
       "\n",
       "dataset_id          15980     15981     15982  \n",
       "data_type           value     value     value  \n",
       "gene_id orf                                    \n",
       "1       YAL001C  0.412209  0.480659 -0.149563  \n",
       "3       YAL003W -1.527926  0.176402 -0.603382  \n",
       "23      YAL025C -0.737161  0.872477  0.080705  \n",
       "30      YAL032C  0.477508  0.368423  0.489545  \n",
       "31      YAL033W  0.265923 -0.597290  0.174155  \n",
       "\n",
       "[5 rows x 3351 columns]"
      ]
     },
     "execution_count": 31,
     "metadata": {},
     "output_type": "execute_result"
    }
   ],
   "source": [
    "data.head()"
   ]
  },
  {
   "cell_type": "markdown",
   "metadata": {},
   "source": [
    "# Normalize"
   ]
  },
  {
   "cell_type": "code",
   "execution_count": 32,
   "metadata": {},
   "outputs": [],
   "source": [
    "data_norm = normalize_phenotypic_scores(data, has_tested=True)"
   ]
  },
  {
   "cell_type": "code",
   "execution_count": 33,
   "metadata": {},
   "outputs": [],
   "source": [
    "# Assign proper column names\n",
    "lst = [datasets.index.values, ['valuez']*datasets.shape[0]]\n",
    "tuples = list(zip(*lst))\n",
    "idx = pd.MultiIndex.from_tuples(tuples, names=['dataset_id','data_type'])\n",
    "data_norm.columns = idx"
   ]
  },
  {
   "cell_type": "code",
   "execution_count": 34,
   "metadata": {},
   "outputs": [],
   "source": [
    "ix = np.isnan(data.values)"
   ]
  },
  {
   "cell_type": "code",
   "execution_count": 35,
   "metadata": {},
   "outputs": [],
   "source": [
    "data_norm_values = data_norm.values\n",
    "data_norm_values[ix] = np.nan"
   ]
  },
  {
   "cell_type": "code",
   "execution_count": 36,
   "metadata": {},
   "outputs": [],
   "source": [
    "data_norm = pd.DataFrame(index=data_norm.index, columns=data_norm.columns, data=data_norm_values)"
   ]
  },
  {
   "cell_type": "code",
   "execution_count": 37,
   "metadata": {},
   "outputs": [],
   "source": [
    "data_all = data.join(data_norm)"
   ]
  },
  {
   "cell_type": "code",
   "execution_count": 38,
   "metadata": {},
   "outputs": [
    {
     "data": {
      "text/html": [
       "<div>\n",
       "<style scoped>\n",
       "    .dataframe tbody tr th:only-of-type {\n",
       "        vertical-align: middle;\n",
       "    }\n",
       "\n",
       "    .dataframe tbody tr th {\n",
       "        vertical-align: top;\n",
       "    }\n",
       "\n",
       "    .dataframe thead tr th {\n",
       "        text-align: left;\n",
       "    }\n",
       "\n",
       "    .dataframe thead tr:last-of-type th {\n",
       "        text-align: right;\n",
       "    }\n",
       "</style>\n",
       "<table border=\"1\" class=\"dataframe\">\n",
       "  <thead>\n",
       "    <tr>\n",
       "      <th></th>\n",
       "      <th>dataset_id</th>\n",
       "      <th>12627</th>\n",
       "      <th>12628</th>\n",
       "      <th>12629</th>\n",
       "      <th>12630</th>\n",
       "      <th>12631</th>\n",
       "      <th>12632</th>\n",
       "      <th>12633</th>\n",
       "      <th>12634</th>\n",
       "      <th>12635</th>\n",
       "      <th>12636</th>\n",
       "      <th>...</th>\n",
       "      <th>15973</th>\n",
       "      <th>15974</th>\n",
       "      <th>15975</th>\n",
       "      <th>15976</th>\n",
       "      <th>15977</th>\n",
       "      <th>15978</th>\n",
       "      <th>15979</th>\n",
       "      <th>15980</th>\n",
       "      <th>15981</th>\n",
       "      <th>15982</th>\n",
       "    </tr>\n",
       "    <tr>\n",
       "      <th></th>\n",
       "      <th>data_type</th>\n",
       "      <th>value</th>\n",
       "      <th>value</th>\n",
       "      <th>value</th>\n",
       "      <th>value</th>\n",
       "      <th>value</th>\n",
       "      <th>value</th>\n",
       "      <th>value</th>\n",
       "      <th>value</th>\n",
       "      <th>value</th>\n",
       "      <th>value</th>\n",
       "      <th>...</th>\n",
       "      <th>valuez</th>\n",
       "      <th>valuez</th>\n",
       "      <th>valuez</th>\n",
       "      <th>valuez</th>\n",
       "      <th>valuez</th>\n",
       "      <th>valuez</th>\n",
       "      <th>valuez</th>\n",
       "      <th>valuez</th>\n",
       "      <th>valuez</th>\n",
       "      <th>valuez</th>\n",
       "    </tr>\n",
       "    <tr>\n",
       "      <th>gene_id</th>\n",
       "      <th>orf</th>\n",
       "      <th></th>\n",
       "      <th></th>\n",
       "      <th></th>\n",
       "      <th></th>\n",
       "      <th></th>\n",
       "      <th></th>\n",
       "      <th></th>\n",
       "      <th></th>\n",
       "      <th></th>\n",
       "      <th></th>\n",
       "      <th></th>\n",
       "      <th></th>\n",
       "      <th></th>\n",
       "      <th></th>\n",
       "      <th></th>\n",
       "      <th></th>\n",
       "      <th></th>\n",
       "      <th></th>\n",
       "      <th></th>\n",
       "      <th></th>\n",
       "      <th></th>\n",
       "    </tr>\n",
       "  </thead>\n",
       "  <tbody>\n",
       "    <tr>\n",
       "      <th>1</th>\n",
       "      <th>YAL001C</th>\n",
       "      <td>2.854542</td>\n",
       "      <td>2.517708</td>\n",
       "      <td>-1.153309</td>\n",
       "      <td>-0.952176</td>\n",
       "      <td>1.920910</td>\n",
       "      <td>2.296125</td>\n",
       "      <td>-0.466234</td>\n",
       "      <td>1.027668</td>\n",
       "      <td>2.067729</td>\n",
       "      <td>-4.000097</td>\n",
       "      <td>...</td>\n",
       "      <td>-0.891425</td>\n",
       "      <td>0.055741</td>\n",
       "      <td>-2.205544</td>\n",
       "      <td>-2.970069</td>\n",
       "      <td>0.192680</td>\n",
       "      <td>1.001627</td>\n",
       "      <td>0.134087</td>\n",
       "      <td>0.264971</td>\n",
       "      <td>0.442474</td>\n",
       "      <td>-0.290169</td>\n",
       "    </tr>\n",
       "    <tr>\n",
       "      <th>3</th>\n",
       "      <th>YAL003W</th>\n",
       "      <td>2.065927</td>\n",
       "      <td>-0.963073</td>\n",
       "      <td>0.837815</td>\n",
       "      <td>0.609618</td>\n",
       "      <td>-1.494138</td>\n",
       "      <td>-0.037590</td>\n",
       "      <td>-0.478915</td>\n",
       "      <td>-0.591904</td>\n",
       "      <td>0.879805</td>\n",
       "      <td>0.469542</td>\n",
       "      <td>...</td>\n",
       "      <td>0.362341</td>\n",
       "      <td>1.582325</td>\n",
       "      <td>0.000702</td>\n",
       "      <td>-1.296534</td>\n",
       "      <td>-1.067811</td>\n",
       "      <td>0.180979</td>\n",
       "      <td>0.194375</td>\n",
       "      <td>-1.289249</td>\n",
       "      <td>0.167416</td>\n",
       "      <td>-0.702663</td>\n",
       "    </tr>\n",
       "    <tr>\n",
       "      <th>23</th>\n",
       "      <th>YAL025C</th>\n",
       "      <td>-0.771042</td>\n",
       "      <td>-1.008536</td>\n",
       "      <td>0.495327</td>\n",
       "      <td>-1.001732</td>\n",
       "      <td>-0.484244</td>\n",
       "      <td>-2.954500</td>\n",
       "      <td>-0.798520</td>\n",
       "      <td>0.189401</td>\n",
       "      <td>-1.293275</td>\n",
       "      <td>0.859315</td>\n",
       "      <td>...</td>\n",
       "      <td>0.037003</td>\n",
       "      <td>0.729214</td>\n",
       "      <td>1.166999</td>\n",
       "      <td>-1.381705</td>\n",
       "      <td>-1.039754</td>\n",
       "      <td>1.866197</td>\n",
       "      <td>-1.467085</td>\n",
       "      <td>-0.655777</td>\n",
       "      <td>0.796689</td>\n",
       "      <td>-0.080868</td>\n",
       "    </tr>\n",
       "    <tr>\n",
       "      <th>30</th>\n",
       "      <th>YAL032C</th>\n",
       "      <td>-1.097148</td>\n",
       "      <td>-2.154759</td>\n",
       "      <td>-0.274118</td>\n",
       "      <td>-1.247344</td>\n",
       "      <td>-0.213820</td>\n",
       "      <td>0.013804</td>\n",
       "      <td>0.531671</td>\n",
       "      <td>-0.596314</td>\n",
       "      <td>1.481032</td>\n",
       "      <td>-1.208819</td>\n",
       "      <td>...</td>\n",
       "      <td>-1.014801</td>\n",
       "      <td>1.529325</td>\n",
       "      <td>-2.022464</td>\n",
       "      <td>-0.559146</td>\n",
       "      <td>-1.045886</td>\n",
       "      <td>-0.876985</td>\n",
       "      <td>0.881727</td>\n",
       "      <td>0.317280</td>\n",
       "      <td>0.341009</td>\n",
       "      <td>0.290744</td>\n",
       "    </tr>\n",
       "    <tr>\n",
       "      <th>31</th>\n",
       "      <th>YAL033W</th>\n",
       "      <td>-1.792244</td>\n",
       "      <td>0.104146</td>\n",
       "      <td>-1.003579</td>\n",
       "      <td>-0.706570</td>\n",
       "      <td>-0.554360</td>\n",
       "      <td>2.762787</td>\n",
       "      <td>-0.216875</td>\n",
       "      <td>0.705120</td>\n",
       "      <td>-1.032982</td>\n",
       "      <td>-0.229230</td>\n",
       "      <td>...</td>\n",
       "      <td>0.269243</td>\n",
       "      <td>-0.648055</td>\n",
       "      <td>-0.475550</td>\n",
       "      <td>-0.427684</td>\n",
       "      <td>0.237110</td>\n",
       "      <td>-0.116586</td>\n",
       "      <td>0.814942</td>\n",
       "      <td>0.147782</td>\n",
       "      <td>-0.532024</td>\n",
       "      <td>0.004073</td>\n",
       "    </tr>\n",
       "  </tbody>\n",
       "</table>\n",
       "<p>5 rows × 6702 columns</p>\n",
       "</div>"
      ],
      "text/plain": [
       "dataset_id          12627     12628     12629     12630     12631     12632  \\\n",
       "data_type           value     value     value     value     value     value   \n",
       "gene_id orf                                                                   \n",
       "1       YAL001C  2.854542  2.517708 -1.153309 -0.952176  1.920910  2.296125   \n",
       "3       YAL003W  2.065927 -0.963073  0.837815  0.609618 -1.494138 -0.037590   \n",
       "23      YAL025C -0.771042 -1.008536  0.495327 -1.001732 -0.484244 -2.954500   \n",
       "30      YAL032C -1.097148 -2.154759 -0.274118 -1.247344 -0.213820  0.013804   \n",
       "31      YAL033W -1.792244  0.104146 -1.003579 -0.706570 -0.554360  2.762787   \n",
       "\n",
       "dataset_id          12633     12634     12635     12636  ...     15973  \\\n",
       "data_type           value     value     value     value  ...    valuez   \n",
       "gene_id orf                                              ...             \n",
       "1       YAL001C -0.466234  1.027668  2.067729 -4.000097  ... -0.891425   \n",
       "3       YAL003W -0.478915 -0.591904  0.879805  0.469542  ...  0.362341   \n",
       "23      YAL025C -0.798520  0.189401 -1.293275  0.859315  ...  0.037003   \n",
       "30      YAL032C  0.531671 -0.596314  1.481032 -1.208819  ... -1.014801   \n",
       "31      YAL033W -0.216875  0.705120 -1.032982 -0.229230  ...  0.269243   \n",
       "\n",
       "dataset_id          15974     15975     15976     15977     15978     15979  \\\n",
       "data_type          valuez    valuez    valuez    valuez    valuez    valuez   \n",
       "gene_id orf                                                                   \n",
       "1       YAL001C  0.055741 -2.205544 -2.970069  0.192680  1.001627  0.134087   \n",
       "3       YAL003W  1.582325  0.000702 -1.296534 -1.067811  0.180979  0.194375   \n",
       "23      YAL025C  0.729214  1.166999 -1.381705 -1.039754  1.866197 -1.467085   \n",
       "30      YAL032C  1.529325 -2.022464 -0.559146 -1.045886 -0.876985  0.881727   \n",
       "31      YAL033W -0.648055 -0.475550 -0.427684  0.237110 -0.116586  0.814942   \n",
       "\n",
       "dataset_id          15980     15981     15982  \n",
       "data_type          valuez    valuez    valuez  \n",
       "gene_id orf                                    \n",
       "1       YAL001C  0.264971  0.442474 -0.290169  \n",
       "3       YAL003W -1.289249  0.167416 -0.702663  \n",
       "23      YAL025C -0.655777  0.796689 -0.080868  \n",
       "30      YAL032C  0.317280  0.341009  0.290744  \n",
       "31      YAL033W  0.147782 -0.532024  0.004073  \n",
       "\n",
       "[5 rows x 6702 columns]"
      ]
     },
     "execution_count": 38,
     "metadata": {},
     "output_type": "execute_result"
    }
   ],
   "source": [
    "data_all.head()"
   ]
  },
  {
   "cell_type": "markdown",
   "metadata": {},
   "source": [
    "# Print out"
   ]
  },
  {
   "cell_type": "code",
   "execution_count": 40,
   "metadata": {},
   "outputs": [],
   "source": [
    "for f in ['value','valuez']:\n",
    "    df = data_all.xs(f, level='data_type', axis=1).copy()\n",
    "    df.columns = datasets['name'].values\n",
    "    df = df.droplevel('gene_id', axis=0)\n",
    "    df.to_csv(paper_name + '_het_' + f + '.txt', sep='\\t')"
   ]
  },
  {
   "cell_type": "markdown",
   "metadata": {},
   "source": [
    "# Save to DB"
   ]
  },
  {
   "cell_type": "code",
   "execution_count": 41,
   "metadata": {},
   "outputs": [],
   "source": [
    "# Special approach (dataset too large)"
   ]
  },
  {
   "cell_type": "code",
   "execution_count": 42,
   "metadata": {},
   "outputs": [],
   "source": [
    "f = 'value'\n",
    "df = data_all.xs(f, level='data_type', axis=1).copy()\n",
    "df = df.droplevel('orf', axis=0)"
   ]
  },
  {
   "cell_type": "code",
   "execution_count": 43,
   "metadata": {},
   "outputs": [],
   "source": [
    "df_long_value = pd.melt(df.reset_index(), id_vars=['gene_id'])"
   ]
  },
  {
   "cell_type": "code",
   "execution_count": 44,
   "metadata": {},
   "outputs": [
    {
     "data": {
      "text/plain": [
       "(3669345, 3)"
      ]
     },
     "execution_count": 44,
     "metadata": {},
     "output_type": "execute_result"
    }
   ],
   "source": [
    "df_long_value.shape"
   ]
  },
  {
   "cell_type": "code",
   "execution_count": 45,
   "metadata": {},
   "outputs": [],
   "source": [
    "f = 'valuez'\n",
    "df = data_all.xs(f, level='data_type', axis=1).copy()\n",
    "df = df.droplevel('orf', axis=0)\n",
    "df_long_valuez = pd.melt(df.reset_index(), id_vars=['gene_id'])"
   ]
  },
  {
   "cell_type": "code",
   "execution_count": 46,
   "metadata": {},
   "outputs": [
    {
     "data": {
      "text/html": [
       "<div>\n",
       "<style scoped>\n",
       "    .dataframe tbody tr th:only-of-type {\n",
       "        vertical-align: middle;\n",
       "    }\n",
       "\n",
       "    .dataframe tbody tr th {\n",
       "        vertical-align: top;\n",
       "    }\n",
       "\n",
       "    .dataframe thead th {\n",
       "        text-align: right;\n",
       "    }\n",
       "</style>\n",
       "<table border=\"1\" class=\"dataframe\">\n",
       "  <thead>\n",
       "    <tr style=\"text-align: right;\">\n",
       "      <th></th>\n",
       "      <th>gene_id</th>\n",
       "      <th>dataset_id</th>\n",
       "      <th>value</th>\n",
       "    </tr>\n",
       "  </thead>\n",
       "  <tbody>\n",
       "    <tr>\n",
       "      <th>0</th>\n",
       "      <td>1</td>\n",
       "      <td>12627</td>\n",
       "      <td>2.131003</td>\n",
       "    </tr>\n",
       "    <tr>\n",
       "      <th>1</th>\n",
       "      <td>3</td>\n",
       "      <td>12627</td>\n",
       "      <td>1.570766</td>\n",
       "    </tr>\n",
       "    <tr>\n",
       "      <th>2</th>\n",
       "      <td>23</td>\n",
       "      <td>12627</td>\n",
       "      <td>-0.444634</td>\n",
       "    </tr>\n",
       "    <tr>\n",
       "      <th>3</th>\n",
       "      <td>30</td>\n",
       "      <td>12627</td>\n",
       "      <td>-0.676302</td>\n",
       "    </tr>\n",
       "    <tr>\n",
       "      <th>4</th>\n",
       "      <td>31</td>\n",
       "      <td>12627</td>\n",
       "      <td>-1.170102</td>\n",
       "    </tr>\n",
       "  </tbody>\n",
       "</table>\n",
       "</div>"
      ],
      "text/plain": [
       "   gene_id dataset_id     value\n",
       "0        1      12627  2.131003\n",
       "1        3      12627  1.570766\n",
       "2       23      12627 -0.444634\n",
       "3       30      12627 -0.676302\n",
       "4       31      12627 -1.170102"
      ]
     },
     "execution_count": 46,
     "metadata": {},
     "output_type": "execute_result"
    }
   ],
   "source": [
    "df_long_valuez.head()"
   ]
  },
  {
   "cell_type": "code",
   "execution_count": 47,
   "metadata": {},
   "outputs": [
    {
     "data": {
      "text/plain": [
       "(3669345, 3)"
      ]
     },
     "execution_count": 47,
     "metadata": {},
     "output_type": "execute_result"
    }
   ],
   "source": [
    "df_long_valuez.shape"
   ]
  },
  {
   "cell_type": "code",
   "execution_count": 48,
   "metadata": {},
   "outputs": [],
   "source": [
    "df_long = df_long_value.merge(df_long_valuez, how='outer', left_on=['gene_id','dataset_id'], right_on=['gene_id','dataset_id'])"
   ]
  },
  {
   "cell_type": "code",
   "execution_count": 49,
   "metadata": {},
   "outputs": [
    {
     "data": {
      "text/plain": [
       "(3669345, 4)"
      ]
     },
     "execution_count": 49,
     "metadata": {},
     "output_type": "execute_result"
    }
   ],
   "source": [
    "df_long.shape"
   ]
  },
  {
   "cell_type": "code",
   "execution_count": 50,
   "metadata": {},
   "outputs": [],
   "source": [
    "df_long = df_long[df_long['value_x'].notnull()]"
   ]
  },
  {
   "cell_type": "code",
   "execution_count": 57,
   "metadata": {},
   "outputs": [],
   "source": [
    "df_long['id'] = np.arange(df_long.shape[0]) + 113568094"
   ]
  },
  {
   "cell_type": "code",
   "execution_count": 58,
   "metadata": {},
   "outputs": [],
   "source": [
    "df_long.columns = ['gene_id','dataset_id','value','valuez','id']"
   ]
  },
  {
   "cell_type": "code",
   "execution_count": 59,
   "metadata": {},
   "outputs": [
    {
     "data": {
      "text/html": [
       "<div>\n",
       "<style scoped>\n",
       "    .dataframe tbody tr th:only-of-type {\n",
       "        vertical-align: middle;\n",
       "    }\n",
       "\n",
       "    .dataframe tbody tr th {\n",
       "        vertical-align: top;\n",
       "    }\n",
       "\n",
       "    .dataframe thead th {\n",
       "        text-align: right;\n",
       "    }\n",
       "</style>\n",
       "<table border=\"1\" class=\"dataframe\">\n",
       "  <thead>\n",
       "    <tr style=\"text-align: right;\">\n",
       "      <th></th>\n",
       "      <th>gene_id</th>\n",
       "      <th>dataset_id</th>\n",
       "      <th>value</th>\n",
       "      <th>valuez</th>\n",
       "      <th>id</th>\n",
       "    </tr>\n",
       "  </thead>\n",
       "  <tbody>\n",
       "    <tr>\n",
       "      <th>0</th>\n",
       "      <td>1</td>\n",
       "      <td>12627</td>\n",
       "      <td>2.854542</td>\n",
       "      <td>2.131003</td>\n",
       "      <td>113568094</td>\n",
       "    </tr>\n",
       "    <tr>\n",
       "      <th>1</th>\n",
       "      <td>3</td>\n",
       "      <td>12627</td>\n",
       "      <td>2.065927</td>\n",
       "      <td>1.570766</td>\n",
       "      <td>113568095</td>\n",
       "    </tr>\n",
       "    <tr>\n",
       "      <th>2</th>\n",
       "      <td>23</td>\n",
       "      <td>12627</td>\n",
       "      <td>-0.771042</td>\n",
       "      <td>-0.444634</td>\n",
       "      <td>113568096</td>\n",
       "    </tr>\n",
       "    <tr>\n",
       "      <th>3</th>\n",
       "      <td>30</td>\n",
       "      <td>12627</td>\n",
       "      <td>-1.097148</td>\n",
       "      <td>-0.676302</td>\n",
       "      <td>113568097</td>\n",
       "    </tr>\n",
       "    <tr>\n",
       "      <th>4</th>\n",
       "      <td>31</td>\n",
       "      <td>12627</td>\n",
       "      <td>-1.792244</td>\n",
       "      <td>-1.170102</td>\n",
       "      <td>113568098</td>\n",
       "    </tr>\n",
       "  </tbody>\n",
       "</table>\n",
       "</div>"
      ],
      "text/plain": [
       "   gene_id dataset_id     value    valuez         id\n",
       "0        1      12627  2.854542  2.131003  113568094\n",
       "1        3      12627  2.065927  1.570766  113568095\n",
       "2       23      12627 -0.771042 -0.444634  113568096\n",
       "3       30      12627 -1.097148 -0.676302  113568097\n",
       "4       31      12627 -1.792244 -1.170102  113568098"
      ]
     },
     "execution_count": 59,
     "metadata": {},
     "output_type": "execute_result"
    }
   ],
   "source": [
    "df_long.head()"
   ]
  },
  {
   "cell_type": "code",
   "execution_count": 63,
   "metadata": {},
   "outputs": [],
   "source": [
    "df_long[['id','dataset_id','value','gene_id','valuez']].to_csv('lee_giaever_2014_het_long.txt', \n",
    "                                                               sep=',', header=False, index=False)"
   ]
  },
  {
   "cell_type": "code",
   "execution_count": 60,
   "metadata": {},
   "outputs": [
    {
     "data": {
      "text/plain": [
       "113568094"
      ]
     },
     "execution_count": 60,
     "metadata": {},
     "output_type": "execute_result"
    }
   ],
   "source": [
    "df_long['id'].min()"
   ]
  },
  {
   "cell_type": "code",
   "execution_count": null,
   "metadata": {},
   "outputs": [],
   "source": []
  }
 ],
 "metadata": {
  "kernelspec": {
   "display_name": "yp-data",
   "language": "python",
   "name": "yp-data"
  },
  "language_info": {
   "codemirror_mode": {
    "name": "ipython",
    "version": 3
   },
   "file_extension": ".py",
   "mimetype": "text/x-python",
   "name": "python",
   "nbconvert_exporter": "python",
   "pygments_lexer": "ipython3",
   "version": "3.7.7"
  }
 },
 "nbformat": 4,
 "nbformat_minor": 4
}
