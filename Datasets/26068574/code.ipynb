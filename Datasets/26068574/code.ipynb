{
 "cells": [
  {
   "cell_type": "code",
   "execution_count": 1,
   "metadata": {},
   "outputs": [],
   "source": [
    "import numpy as np\n",
    "import pandas as pd\n",
    "\n",
    "import sys\n",
    "\n",
    "from os.path import expanduser\n",
    "sys.path.append(expanduser('~') + '/Lab/Utils/Python/')\n",
    "\n",
    "from Conversions.translate import *\n",
    "from Strings.is_a import *"
   ]
  },
  {
   "cell_type": "markdown",
   "metadata": {},
   "source": [
    "# Initial setup"
   ]
  },
  {
   "cell_type": "code",
   "execution_count": 2,
   "metadata": {},
   "outputs": [],
   "source": [
    "paper_pmid = 26068574\n",
    "paper_name = 'li_breeden_2015' "
   ]
  },
  {
   "cell_type": "code",
   "execution_count": 3,
   "metadata": {},
   "outputs": [],
   "source": [
    "datasets = pd.read_csv('extras/YeastPhenome_' + str(paper_pmid) + '_datasets_list.txt', sep='\\t', header=None, names=['pmid', 'name'])"
   ]
  },
  {
   "cell_type": "code",
   "execution_count": 4,
   "metadata": {},
   "outputs": [],
   "source": [
    "datasets.set_index('pmid', inplace=True)"
   ]
  },
  {
   "cell_type": "markdown",
   "metadata": {},
   "source": [
    "# Load & process the data"
   ]
  },
  {
   "cell_type": "code",
   "execution_count": 6,
   "metadata": {},
   "outputs": [],
   "source": [
    "original_data = pd.read_excel('raw_data/table_1.xlsx', sheet_name='Sheet1')"
   ]
  },
  {
   "cell_type": "code",
   "execution_count": 7,
   "metadata": {},
   "outputs": [
    {
     "name": "stdout",
     "output_type": "stream",
     "text": [
      "Original data dimensions: 150 x 4\n"
     ]
    }
   ],
   "source": [
    "print('Original data dimensions: %d x %d' % (original_data.shape))"
   ]
  },
  {
   "cell_type": "code",
   "execution_count": 9,
   "metadata": {},
   "outputs": [],
   "source": [
    "original_data['orfs'] = original_data['ORF ID'].astype(str)"
   ]
  },
  {
   "cell_type": "code",
   "execution_count": 10,
   "metadata": {},
   "outputs": [],
   "source": [
    "# Eliminate all white spaces & capitalize\n",
    "original_data['orfs'] = clean_orf(original_data['orfs'])"
   ]
  },
  {
   "cell_type": "code",
   "execution_count": 11,
   "metadata": {},
   "outputs": [],
   "source": [
    "# Translate to ORFs \n",
    "original_data['orfs'] = translate_sc(original_data['orfs'], to='orf')"
   ]
  },
  {
   "cell_type": "code",
   "execution_count": 12,
   "metadata": {},
   "outputs": [
    {
     "name": "stdout",
     "output_type": "stream",
     "text": [
      "                                             ORF ID Gene Name Trait  \\\n",
      "index_input                                                           \n",
      "0             Cell wall organization and biogenesis       NaN   NaN   \n",
      "14                               Protein lipidation       NaN   NaN   \n",
      "19                        Glycoprotein biosynthesis       NaN   NaN   \n",
      "29                       Vesicle-mediated transport       NaN   NaN   \n",
      "48                        Sites of polarized growth       NaN   NaN   \n",
      "62                                  Rim101 function       NaN   NaN   \n",
      "71                            Transcription factors       NaN   NaN   \n",
      "79           Ubiquitin-dependent protein catabolism       NaN   NaN   \n",
      "93                                        Autophagy       NaN   NaN   \n",
      "98                       DNA replication and repair       NaN   NaN   \n",
      "111                                     Translation       NaN   NaN   \n",
      "119                          Mitochondrial function       NaN   NaN   \n",
      "125                                           Other       NaN   NaN   \n",
      "\n",
      "            Description                                  orfs  \n",
      "index_input                                                    \n",
      "0                   NaN     CELLWALLORGANIZATIONANDBIOGENESIS  \n",
      "14                  NaN                     PROTEINLIPIDATION  \n",
      "19                  NaN              GLYCOPROTEINBIOSYNTHESIS  \n",
      "29                  NaN             VESICLE-MEDIATEDTRANSPORT  \n",
      "48                  NaN                SITESOFPOLARIZEDGROWTH  \n",
      "62                  NaN                        RIM101FUNCTION  \n",
      "71                  NaN                  TRANSCRIPTIONFACTORS  \n",
      "79                  NaN  UBIQUITIN-DEPENDENTPROTEINCATABOLISM  \n",
      "93                  NaN                             AUTOPHAGY  \n",
      "98                  NaN               DNAREPLICATIONANDREPAIR  \n",
      "111                 NaN                           TRANSLATION  \n",
      "119                 NaN                 MITOCHONDRIALFUNCTION  \n",
      "125                 NaN                                 OTHER  \n"
     ]
    }
   ],
   "source": [
    "# Make sure everything translated ok\n",
    "t = looks_like_orf(original_data['orfs'])\n",
    "print(original_data.loc[~t,])"
   ]
  },
  {
   "cell_type": "code",
   "execution_count": 13,
   "metadata": {},
   "outputs": [],
   "source": [
    "original_data = original_data.loc[t,]"
   ]
  },
  {
   "cell_type": "code",
   "execution_count": 14,
   "metadata": {},
   "outputs": [],
   "source": [
    "original_data['data'] = -1"
   ]
  },
  {
   "cell_type": "code",
   "execution_count": 15,
   "metadata": {},
   "outputs": [],
   "source": [
    "original_data.set_index('orfs', inplace=True)"
   ]
  },
  {
   "cell_type": "markdown",
   "metadata": {},
   "source": [
    "# Load & process tested strains"
   ]
  },
  {
   "cell_type": "code",
   "execution_count": 21,
   "metadata": {},
   "outputs": [],
   "source": [
    "tested = pd.read_excel('raw_data/library screen.xlsx', sheet_name='Sheet1')"
   ]
  },
  {
   "cell_type": "code",
   "execution_count": 22,
   "metadata": {},
   "outputs": [],
   "source": [
    "tested['orfs'] = tested['ORF name'].astype(str)\n",
    "tested['orfs'] = clean_orf(tested['orfs'])\n"
   ]
  },
  {
   "cell_type": "code",
   "execution_count": 23,
   "metadata": {},
   "outputs": [],
   "source": [
    "tested.loc[tested['orfs']=='YLR287-A','orfs'] = 'YLR287C-A'"
   ]
  },
  {
   "cell_type": "code",
   "execution_count": 24,
   "metadata": {},
   "outputs": [],
   "source": [
    "tested['orfs'] = translate_sc(tested['orfs'], to='orf')"
   ]
  },
  {
   "cell_type": "code",
   "execution_count": 25,
   "metadata": {},
   "outputs": [
    {
     "name": "stdout",
     "output_type": "stream",
     "text": [
      "                                                      ORF name   Gene orfs\n",
      "index_input                                                               \n",
      "0                                                          ...  MAL11     \n"
     ]
    }
   ],
   "source": [
    "# Make sure everything translated ok\n",
    "t = looks_like_orf(tested['orfs'])\n",
    "print(tested.loc[~t,])"
   ]
  },
  {
   "cell_type": "code",
   "execution_count": 26,
   "metadata": {},
   "outputs": [],
   "source": [
    "tested = tested.loc[t,]"
   ]
  },
  {
   "cell_type": "code",
   "execution_count": 27,
   "metadata": {},
   "outputs": [],
   "source": [
    "tested_orfs = tested['orfs'].unique()"
   ]
  },
  {
   "cell_type": "code",
   "execution_count": 32,
   "metadata": {},
   "outputs": [],
   "source": [
    "missing = [orf for orf in original_data.index.values if orf not in tested_orfs]"
   ]
  },
  {
   "cell_type": "code",
   "execution_count": 34,
   "metadata": {},
   "outputs": [
    {
     "name": "stdout",
     "output_type": "stream",
     "text": [
      "['YNR013C', 'YNR022C']\n"
     ]
    }
   ],
   "source": [
    "print(missing)"
   ]
  },
  {
   "cell_type": "code",
   "execution_count": 35,
   "metadata": {},
   "outputs": [],
   "source": [
    "# Adding the 2 missing hits to the list of tested strains\n",
    "tested_orfs = np.array(list(tested_orfs) + missing)"
   ]
  },
  {
   "cell_type": "markdown",
   "metadata": {},
   "source": [
    "# Prepare the final dataset"
   ]
  },
  {
   "cell_type": "code",
   "execution_count": 36,
   "metadata": {},
   "outputs": [],
   "source": [
    "dataset_ids = [16601]"
   ]
  },
  {
   "cell_type": "code",
   "execution_count": 37,
   "metadata": {},
   "outputs": [],
   "source": [
    "datasets = datasets.reindex(index=dataset_ids)"
   ]
  },
  {
   "cell_type": "code",
   "execution_count": 38,
   "metadata": {},
   "outputs": [],
   "source": [
    "data = pd.DataFrame(index=tested_orfs, columns=datasets['name'].values, data=0)"
   ]
  },
  {
   "cell_type": "code",
   "execution_count": 39,
   "metadata": {},
   "outputs": [],
   "source": [
    "data.loc[original_data.index, datasets['name'].values[0]] = original_data['data']"
   ]
  },
  {
   "cell_type": "code",
   "execution_count": 40,
   "metadata": {},
   "outputs": [],
   "source": [
    "data = data.groupby(data.index).mean()"
   ]
  },
  {
   "cell_type": "code",
   "execution_count": 41,
   "metadata": {},
   "outputs": [],
   "source": [
    "# Create row index\n",
    "data.index.name='orf'"
   ]
  },
  {
   "cell_type": "code",
   "execution_count": 42,
   "metadata": {},
   "outputs": [
    {
     "name": "stdout",
     "output_type": "stream",
     "text": [
      "Final data dimensions: 4748 x 1\n"
     ]
    }
   ],
   "source": [
    "print('Final data dimensions: %d x %d' % (data.shape))"
   ]
  },
  {
   "cell_type": "markdown",
   "metadata": {},
   "source": [
    "# Print out"
   ]
  },
  {
   "cell_type": "code",
   "execution_count": 44,
   "metadata": {},
   "outputs": [],
   "source": [
    "data.to_csv(paper_name + '.txt', sep='\\t')"
   ]
  },
  {
   "cell_type": "markdown",
   "metadata": {},
   "source": [
    "# Save to DB"
   ]
  },
  {
   "cell_type": "code",
   "execution_count": 45,
   "metadata": {},
   "outputs": [],
   "source": [
    "from IO.save_data_to_db2 import *"
   ]
  },
  {
   "cell_type": "code",
   "execution_count": 46,
   "metadata": {},
   "outputs": [],
   "source": [
    "# Create column index\n",
    "lst = [datasets.index.values, datasets['name'].values]\n",
    "tuples = list(zip(*lst))\n",
    "idx = pd.MultiIndex.from_tuples(tuples, names=['dataset_id','dataset_name'])\n",
    "data.columns = idx"
   ]
  },
  {
   "cell_type": "code",
   "execution_count": 47,
   "metadata": {},
   "outputs": [],
   "source": [
    "save_data_to_db(data, paper_pmid)"
   ]
  },
  {
   "cell_type": "code",
   "execution_count": null,
   "metadata": {},
   "outputs": [],
   "source": []
  }
 ],
 "metadata": {
  "kernelspec": {
   "display_name": "yp-data",
   "language": "python",
   "name": "yp-data"
  },
  "language_info": {
   "codemirror_mode": {
    "name": "ipython",
    "version": 3
   },
   "file_extension": ".py",
   "mimetype": "text/x-python",
   "name": "python",
   "nbconvert_exporter": "python",
   "pygments_lexer": "ipython3",
   "version": "3.7.7"
  }
 },
 "nbformat": 4,
 "nbformat_minor": 4
}
