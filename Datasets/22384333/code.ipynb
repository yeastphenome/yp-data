{
 "cells": [
  {
   "cell_type": "code",
   "execution_count": 1,
   "metadata": {},
   "outputs": [],
   "source": [
    "%run ../yp_utils.py"
   ]
  },
  {
   "cell_type": "markdown",
   "metadata": {},
   "source": [
    "# Initial setup"
   ]
  },
  {
   "cell_type": "code",
   "execution_count": 2,
   "metadata": {},
   "outputs": [],
   "source": [
    "paper_pmid = 22384333\n",
    "paper_name = 'hoon_nislow_2011' "
   ]
  },
  {
   "cell_type": "code",
   "execution_count": 3,
   "metadata": {},
   "outputs": [],
   "source": [
    "datasets = pd.read_csv('extras/YeastPhenome_' + str(paper_pmid) + '_datasets_list.txt', sep='\\t', header=None, names=['dataset_id', 'name'])"
   ]
  },
  {
   "cell_type": "code",
   "execution_count": 4,
   "metadata": {},
   "outputs": [],
   "source": [
    "datasets.set_index('dataset_id', inplace=True)"
   ]
  },
  {
   "cell_type": "markdown",
   "metadata": {},
   "source": [
    "# Load & process the data"
   ]
  },
  {
   "cell_type": "code",
   "execution_count": 6,
   "metadata": {},
   "outputs": [],
   "source": [
    "files = ['TableS1.xlsx','TableS2.xlsx','TableS3.xlsx']"
   ]
  },
  {
   "cell_type": "code",
   "execution_count": 12,
   "metadata": {},
   "outputs": [
    {
     "name": "stdout",
     "output_type": "stream",
     "text": [
      "Original data dimensions: 243 x 8\n",
      "Empty DataFrame\n",
      "Columns: [Number, ORF, GENE, Log2 ratio, Rankproduct, Evalue, FDR, Gene Description, orf]\n",
      "Index: []\n",
      "(243, 1)\n",
      "Original data dimensions: 256 x 8\n",
      "Empty DataFrame\n",
      "Columns: [Number, ORF, GENE, Log2 ratio, Rankproduct, Evalue, FDR, Gene Description, orf]\n",
      "Index: []\n",
      "(255, 1)\n",
      "Original data dimensions: 4287 x 9\n",
      "Empty DataFrame\n",
      "Columns: [strain, Gene, glyoxal 80mM (1), glyoxal 80mM (2), glyoxal 80mM (3), Average, Gene Description, Unnamed: 7, Unnamed: 8, orf]\n",
      "Index: []\n",
      "(4247, 1)\n"
     ]
    }
   ],
   "source": [
    "original_data_list = []\n",
    "for f in files:\n",
    "    xl = pd.ExcelFile('raw_data/' + f)\n",
    "    sheets = xl.sheet_names\n",
    "    original_data = pd.read_excel('raw_data/' + f, sheet_name=sheets[0], skiprows=3)\n",
    "    print('Original data dimensions: %d x %d' % (original_data.shape))\n",
    "#     print(original_data.head())\n",
    "    \n",
    "    if 'ORF' in original_data.columns:\n",
    "        c = 'ORF'\n",
    "        data_col = 'Log2 ratio'\n",
    "    else:\n",
    "        c = 'strain'\n",
    "        data_col = 'Average'\n",
    "    \n",
    "    original_data['orf'] = original_data[c].apply(lambda x: x.split(':')[0])\n",
    "    \n",
    "    # Eliminate all white spaces & capitalize\n",
    "    original_data['orf'] = clean_orf(original_data['orf'])\n",
    "    \n",
    "    # Translate to ORFs \n",
    "    original_data['orf'] = translate_sc(original_data['orf'], to='orf')\n",
    "    \n",
    "    # Make sure everything translated ok\n",
    "    t = looks_like_orf(original_data['orf'])\n",
    "    print(original_data.loc[~t,])\n",
    "    \n",
    "    original_data['data'] = original_data[data_col]\n",
    "    if c == 'strain':\n",
    "        original_data['data'] = -original_data['data']\n",
    "        \n",
    "    original_data.set_index('orf', inplace=True)\n",
    "    original_data = original_data[['data']].copy()\n",
    "    original_data = original_data.groupby(original_data.index).mean()\n",
    "    \n",
    "    print(original_data.shape)\n",
    "    original_data_list.append(original_data)"
   ]
  },
  {
   "cell_type": "code",
   "execution_count": 13,
   "metadata": {},
   "outputs": [],
   "source": [
    "original_data = pd.concat(original_data_list, axis=1)"
   ]
  },
  {
   "cell_type": "code",
   "execution_count": 15,
   "metadata": {},
   "outputs": [],
   "source": [
    "original_data.index.name='orf'"
   ]
  },
  {
   "cell_type": "code",
   "execution_count": 20,
   "metadata": {},
   "outputs": [],
   "source": [
    "dt = original_data.iloc[:,[0,1]].values\n",
    "dt[np.isnan(dt)] = 0\n",
    "original_data.iloc[:,[0,1]] = dt"
   ]
  },
  {
   "cell_type": "code",
   "execution_count": 21,
   "metadata": {},
   "outputs": [
    {
     "data": {
      "text/html": [
       "<div>\n",
       "<style scoped>\n",
       "    .dataframe tbody tr th:only-of-type {\n",
       "        vertical-align: middle;\n",
       "    }\n",
       "\n",
       "    .dataframe tbody tr th {\n",
       "        vertical-align: top;\n",
       "    }\n",
       "\n",
       "    .dataframe thead th {\n",
       "        text-align: right;\n",
       "    }\n",
       "</style>\n",
       "<table border=\"1\" class=\"dataframe\">\n",
       "  <thead>\n",
       "    <tr style=\"text-align: right;\">\n",
       "      <th></th>\n",
       "      <th>data</th>\n",
       "      <th>data</th>\n",
       "      <th>data</th>\n",
       "    </tr>\n",
       "    <tr>\n",
       "      <th>orf</th>\n",
       "      <th></th>\n",
       "      <th></th>\n",
       "      <th></th>\n",
       "    </tr>\n",
       "  </thead>\n",
       "  <tbody>\n",
       "    <tr>\n",
       "      <th>YAL002W</th>\n",
       "      <td>-1.861</td>\n",
       "      <td>0.000</td>\n",
       "      <td>4.152170</td>\n",
       "    </tr>\n",
       "    <tr>\n",
       "      <th>YAL021C</th>\n",
       "      <td>-7.058</td>\n",
       "      <td>0.000</td>\n",
       "      <td>0.527542</td>\n",
       "    </tr>\n",
       "    <tr>\n",
       "      <th>YAL024C</th>\n",
       "      <td>-5.923</td>\n",
       "      <td>-2.346</td>\n",
       "      <td>-1.189427</td>\n",
       "    </tr>\n",
       "    <tr>\n",
       "      <th>YAR002W</th>\n",
       "      <td>-2.106</td>\n",
       "      <td>0.000</td>\n",
       "      <td>NaN</td>\n",
       "    </tr>\n",
       "    <tr>\n",
       "      <th>YBL046W</th>\n",
       "      <td>-1.320</td>\n",
       "      <td>-3.262</td>\n",
       "      <td>-1.748643</td>\n",
       "    </tr>\n",
       "  </tbody>\n",
       "</table>\n",
       "</div>"
      ],
      "text/plain": [
       "          data   data      data\n",
       "orf                            \n",
       "YAL002W -1.861  0.000  4.152170\n",
       "YAL021C -7.058  0.000  0.527542\n",
       "YAL024C -5.923 -2.346 -1.189427\n",
       "YAR002W -2.106  0.000       NaN\n",
       "YBL046W -1.320 -3.262 -1.748643"
      ]
     },
     "execution_count": 21,
     "metadata": {},
     "output_type": "execute_result"
    }
   ],
   "source": [
    "original_data.head()"
   ]
  },
  {
   "cell_type": "markdown",
   "metadata": {},
   "source": [
    "# Prepare the final dataset"
   ]
  },
  {
   "cell_type": "code",
   "execution_count": 22,
   "metadata": {},
   "outputs": [],
   "source": [
    "data = original_data.copy()"
   ]
  },
  {
   "cell_type": "code",
   "execution_count": 23,
   "metadata": {},
   "outputs": [],
   "source": [
    "dataset_ids = [519, 755, 16253]\n",
    "datasets = datasets.reindex(index=dataset_ids)"
   ]
  },
  {
   "cell_type": "code",
   "execution_count": 24,
   "metadata": {},
   "outputs": [],
   "source": [
    "lst = [datasets.index.values, ['value']*datasets.shape[0]]\n",
    "tuples = list(zip(*lst))\n",
    "idx = pd.MultiIndex.from_tuples(tuples, names=['dataset_id','data_type'])\n",
    "data.columns = idx"
   ]
  },
  {
   "cell_type": "code",
   "execution_count": 25,
   "metadata": {},
   "outputs": [
    {
     "data": {
      "text/html": [
       "<div>\n",
       "<style scoped>\n",
       "    .dataframe tbody tr th:only-of-type {\n",
       "        vertical-align: middle;\n",
       "    }\n",
       "\n",
       "    .dataframe tbody tr th {\n",
       "        vertical-align: top;\n",
       "    }\n",
       "\n",
       "    .dataframe thead tr th {\n",
       "        text-align: left;\n",
       "    }\n",
       "\n",
       "    .dataframe thead tr:last-of-type th {\n",
       "        text-align: right;\n",
       "    }\n",
       "</style>\n",
       "<table border=\"1\" class=\"dataframe\">\n",
       "  <thead>\n",
       "    <tr>\n",
       "      <th>dataset_id</th>\n",
       "      <th>519</th>\n",
       "      <th>755</th>\n",
       "      <th>16253</th>\n",
       "    </tr>\n",
       "    <tr>\n",
       "      <th>data_type</th>\n",
       "      <th>value</th>\n",
       "      <th>value</th>\n",
       "      <th>value</th>\n",
       "    </tr>\n",
       "    <tr>\n",
       "      <th>orf</th>\n",
       "      <th></th>\n",
       "      <th></th>\n",
       "      <th></th>\n",
       "    </tr>\n",
       "  </thead>\n",
       "  <tbody>\n",
       "    <tr>\n",
       "      <th>YAL002W</th>\n",
       "      <td>-1.861</td>\n",
       "      <td>0.000</td>\n",
       "      <td>4.152170</td>\n",
       "    </tr>\n",
       "    <tr>\n",
       "      <th>YAL021C</th>\n",
       "      <td>-7.058</td>\n",
       "      <td>0.000</td>\n",
       "      <td>0.527542</td>\n",
       "    </tr>\n",
       "    <tr>\n",
       "      <th>YAL024C</th>\n",
       "      <td>-5.923</td>\n",
       "      <td>-2.346</td>\n",
       "      <td>-1.189427</td>\n",
       "    </tr>\n",
       "    <tr>\n",
       "      <th>YAR002W</th>\n",
       "      <td>-2.106</td>\n",
       "      <td>0.000</td>\n",
       "      <td>NaN</td>\n",
       "    </tr>\n",
       "    <tr>\n",
       "      <th>YBL046W</th>\n",
       "      <td>-1.320</td>\n",
       "      <td>-3.262</td>\n",
       "      <td>-1.748643</td>\n",
       "    </tr>\n",
       "  </tbody>\n",
       "</table>\n",
       "</div>"
      ],
      "text/plain": [
       "dataset_id  519    755       16253\n",
       "data_type   value  value     value\n",
       "orf                               \n",
       "YAL002W    -1.861  0.000  4.152170\n",
       "YAL021C    -7.058  0.000  0.527542\n",
       "YAL024C    -5.923 -2.346 -1.189427\n",
       "YAR002W    -2.106  0.000       NaN\n",
       "YBL046W    -1.320 -3.262 -1.748643"
      ]
     },
     "execution_count": 25,
     "metadata": {},
     "output_type": "execute_result"
    }
   ],
   "source": [
    "data.head()"
   ]
  },
  {
   "cell_type": "markdown",
   "metadata": {},
   "source": [
    "## Subset to the genes currently in SGD"
   ]
  },
  {
   "cell_type": "code",
   "execution_count": 26,
   "metadata": {},
   "outputs": [
    {
     "name": "stdout",
     "output_type": "stream",
     "text": [
      "ORFs missing from SGD: 22\n"
     ]
    }
   ],
   "source": [
    "genes = pd.read_csv(path_to_genes, sep='\\t', index_col='id')\n",
    "genes = genes.reset_index().set_index('systematic_name')\n",
    "gene_ids = genes.reindex(index=data.index.values)['id'].values\n",
    "num_missing = np.sum(np.isnan(gene_ids))\n",
    "print('ORFs missing from SGD: %d' % num_missing)"
   ]
  },
  {
   "cell_type": "code",
   "execution_count": 27,
   "metadata": {},
   "outputs": [
    {
     "data": {
      "text/html": [
       "<div>\n",
       "<style scoped>\n",
       "    .dataframe tbody tr th:only-of-type {\n",
       "        vertical-align: middle;\n",
       "    }\n",
       "\n",
       "    .dataframe tbody tr th {\n",
       "        vertical-align: top;\n",
       "    }\n",
       "\n",
       "    .dataframe thead tr th {\n",
       "        text-align: left;\n",
       "    }\n",
       "\n",
       "    .dataframe thead tr:last-of-type th {\n",
       "        text-align: right;\n",
       "    }\n",
       "</style>\n",
       "<table border=\"1\" class=\"dataframe\">\n",
       "  <thead>\n",
       "    <tr>\n",
       "      <th></th>\n",
       "      <th>dataset_id</th>\n",
       "      <th>519</th>\n",
       "      <th>755</th>\n",
       "      <th>16253</th>\n",
       "    </tr>\n",
       "    <tr>\n",
       "      <th></th>\n",
       "      <th>data_type</th>\n",
       "      <th>value</th>\n",
       "      <th>value</th>\n",
       "      <th>value</th>\n",
       "    </tr>\n",
       "    <tr>\n",
       "      <th>gene_id</th>\n",
       "      <th>orf</th>\n",
       "      <th></th>\n",
       "      <th></th>\n",
       "      <th></th>\n",
       "    </tr>\n",
       "  </thead>\n",
       "  <tbody>\n",
       "    <tr>\n",
       "      <th>2</th>\n",
       "      <th>YAL002W</th>\n",
       "      <td>-1.861</td>\n",
       "      <td>0.000</td>\n",
       "      <td>4.152170</td>\n",
       "    </tr>\n",
       "    <tr>\n",
       "      <th>19</th>\n",
       "      <th>YAL021C</th>\n",
       "      <td>-7.058</td>\n",
       "      <td>0.000</td>\n",
       "      <td>0.527542</td>\n",
       "    </tr>\n",
       "    <tr>\n",
       "      <th>22</th>\n",
       "      <th>YAL024C</th>\n",
       "      <td>-5.923</td>\n",
       "      <td>-2.346</td>\n",
       "      <td>-1.189427</td>\n",
       "    </tr>\n",
       "    <tr>\n",
       "      <th>62</th>\n",
       "      <th>YAR002W</th>\n",
       "      <td>-2.106</td>\n",
       "      <td>0.000</td>\n",
       "      <td>NaN</td>\n",
       "    </tr>\n",
       "    <tr>\n",
       "      <th>134</th>\n",
       "      <th>YBL046W</th>\n",
       "      <td>-1.320</td>\n",
       "      <td>-3.262</td>\n",
       "      <td>-1.748643</td>\n",
       "    </tr>\n",
       "  </tbody>\n",
       "</table>\n",
       "</div>"
      ],
      "text/plain": [
       "dataset_id       519    755       16253\n",
       "data_type        value  value     value\n",
       "gene_id orf                            \n",
       "2       YAL002W -1.861  0.000  4.152170\n",
       "19      YAL021C -7.058  0.000  0.527542\n",
       "22      YAL024C -5.923 -2.346 -1.189427\n",
       "62      YAR002W -2.106  0.000       NaN\n",
       "134     YBL046W -1.320 -3.262 -1.748643"
      ]
     },
     "execution_count": 27,
     "metadata": {},
     "output_type": "execute_result"
    }
   ],
   "source": [
    "data['gene_id'] = gene_ids\n",
    "data = data.loc[data['gene_id'].notnull()]\n",
    "data['gene_id'] = data['gene_id'].astype(int)\n",
    "data = data.reset_index().set_index(['gene_id','orf'])\n",
    "\n",
    "data.head()"
   ]
  },
  {
   "cell_type": "markdown",
   "metadata": {},
   "source": [
    "# Normalize"
   ]
  },
  {
   "cell_type": "code",
   "execution_count": 28,
   "metadata": {},
   "outputs": [],
   "source": [
    "data_norm = normalize_phenotypic_scores(data, has_tested=True)"
   ]
  },
  {
   "cell_type": "code",
   "execution_count": 29,
   "metadata": {},
   "outputs": [],
   "source": [
    "# Assign proper column names\n",
    "lst = [datasets.index.values, ['valuez']*datasets.shape[0]]\n",
    "tuples = list(zip(*lst))\n",
    "idx = pd.MultiIndex.from_tuples(tuples, names=['dataset_id','data_type'])\n",
    "data_norm.columns = idx"
   ]
  },
  {
   "cell_type": "code",
   "execution_count": 30,
   "metadata": {},
   "outputs": [
    {
     "data": {
      "text/html": [
       "<div>\n",
       "<style scoped>\n",
       "    .dataframe tbody tr th:only-of-type {\n",
       "        vertical-align: middle;\n",
       "    }\n",
       "\n",
       "    .dataframe tbody tr th {\n",
       "        vertical-align: top;\n",
       "    }\n",
       "\n",
       "    .dataframe thead tr th {\n",
       "        text-align: left;\n",
       "    }\n",
       "\n",
       "    .dataframe thead tr:last-of-type th {\n",
       "        text-align: right;\n",
       "    }\n",
       "</style>\n",
       "<table border=\"1\" class=\"dataframe\">\n",
       "  <thead>\n",
       "    <tr>\n",
       "      <th></th>\n",
       "      <th>dataset_id</th>\n",
       "      <th>519</th>\n",
       "      <th>755</th>\n",
       "      <th>16253</th>\n",
       "      <th>519</th>\n",
       "      <th>755</th>\n",
       "      <th>16253</th>\n",
       "    </tr>\n",
       "    <tr>\n",
       "      <th></th>\n",
       "      <th>data_type</th>\n",
       "      <th>value</th>\n",
       "      <th>value</th>\n",
       "      <th>value</th>\n",
       "      <th>valuez</th>\n",
       "      <th>valuez</th>\n",
       "      <th>valuez</th>\n",
       "    </tr>\n",
       "    <tr>\n",
       "      <th>gene_id</th>\n",
       "      <th>orf</th>\n",
       "      <th></th>\n",
       "      <th></th>\n",
       "      <th></th>\n",
       "      <th></th>\n",
       "      <th></th>\n",
       "      <th></th>\n",
       "    </tr>\n",
       "  </thead>\n",
       "  <tbody>\n",
       "    <tr>\n",
       "      <th>2</th>\n",
       "      <th>YAL002W</th>\n",
       "      <td>-1.861</td>\n",
       "      <td>0.000</td>\n",
       "      <td>4.152170</td>\n",
       "      <td>-2.858144</td>\n",
       "      <td>0.000000</td>\n",
       "      <td>3.884366</td>\n",
       "    </tr>\n",
       "    <tr>\n",
       "      <th>19</th>\n",
       "      <th>YAL021C</th>\n",
       "      <td>-7.058</td>\n",
       "      <td>0.000</td>\n",
       "      <td>0.527542</td>\n",
       "      <td>-10.839755</td>\n",
       "      <td>0.000000</td>\n",
       "      <td>1.506237</td>\n",
       "    </tr>\n",
       "    <tr>\n",
       "      <th>22</th>\n",
       "      <th>YAL024C</th>\n",
       "      <td>-5.923</td>\n",
       "      <td>-2.346</td>\n",
       "      <td>-1.189427</td>\n",
       "      <td>-9.096609</td>\n",
       "      <td>-4.169113</td>\n",
       "      <td>0.379729</td>\n",
       "    </tr>\n",
       "    <tr>\n",
       "      <th>62</th>\n",
       "      <th>YAR002W</th>\n",
       "      <td>-2.106</td>\n",
       "      <td>0.000</td>\n",
       "      <td>NaN</td>\n",
       "      <td>-3.234418</td>\n",
       "      <td>0.000000</td>\n",
       "      <td>NaN</td>\n",
       "    </tr>\n",
       "    <tr>\n",
       "      <th>134</th>\n",
       "      <th>YBL046W</th>\n",
       "      <td>-1.320</td>\n",
       "      <td>-3.262</td>\n",
       "      <td>-1.748643</td>\n",
       "      <td>-2.027271</td>\n",
       "      <td>-5.796951</td>\n",
       "      <td>0.012825</td>\n",
       "    </tr>\n",
       "  </tbody>\n",
       "</table>\n",
       "</div>"
      ],
      "text/plain": [
       "dataset_id       519    755       16253      519       755       16253\n",
       "data_type        value  value     value     valuez    valuez    valuez\n",
       "gene_id orf                                                           \n",
       "2       YAL002W -1.861  0.000  4.152170  -2.858144  0.000000  3.884366\n",
       "19      YAL021C -7.058  0.000  0.527542 -10.839755  0.000000  1.506237\n",
       "22      YAL024C -5.923 -2.346 -1.189427  -9.096609 -4.169113  0.379729\n",
       "62      YAR002W -2.106  0.000       NaN  -3.234418  0.000000       NaN\n",
       "134     YBL046W -1.320 -3.262 -1.748643  -2.027271 -5.796951  0.012825"
      ]
     },
     "execution_count": 30,
     "metadata": {},
     "output_type": "execute_result"
    }
   ],
   "source": [
    "data_norm[data.isnull()] = np.nan\n",
    "data_all = data.join(data_norm)\n",
    "\n",
    "data_all.head()"
   ]
  },
  {
   "cell_type": "markdown",
   "metadata": {},
   "source": [
    "# Print out"
   ]
  },
  {
   "cell_type": "code",
   "execution_count": 31,
   "metadata": {},
   "outputs": [],
   "source": [
    "for f in ['value','valuez']:\n",
    "    df = data_all.xs(f, level='data_type', axis=1).copy()\n",
    "    df.columns = datasets['name'].values\n",
    "    df = df.droplevel('gene_id', axis=0)\n",
    "    df.to_csv(paper_name + '_' + f + '.txt', sep='\\t')"
   ]
  },
  {
   "cell_type": "markdown",
   "metadata": {},
   "source": [
    "# Save to DB"
   ]
  },
  {
   "cell_type": "code",
   "execution_count": 32,
   "metadata": {},
   "outputs": [],
   "source": [
    "from IO.save_data_to_db3 import *"
   ]
  },
  {
   "cell_type": "code",
   "execution_count": 33,
   "metadata": {},
   "outputs": [
    {
     "name": "stderr",
     "output_type": "stream",
     "text": [
      "  0%|          | 0/3 [00:00<?, ?it/s]"
     ]
    },
    {
     "name": "stdout",
     "output_type": "stream",
     "text": [
      "Deleting all datasets for PMID 22384333...\n",
      "Inserting the new data...\n"
     ]
    },
    {
     "name": "stderr",
     "output_type": "stream",
     "text": [
      "100%|██████████| 3/3 [00:20<00:00,  6.83s/it]"
     ]
    },
    {
     "name": "stdout",
     "output_type": "stream",
     "text": [
      "Updating the data_modified_on field...\n"
     ]
    },
    {
     "name": "stderr",
     "output_type": "stream",
     "text": [
      "\n"
     ]
    }
   ],
   "source": [
    "save_data_to_db(data_all, paper_pmid)"
   ]
  },
  {
   "cell_type": "code",
   "execution_count": null,
   "metadata": {},
   "outputs": [],
   "source": []
  }
 ],
 "metadata": {
  "kernelspec": {
   "display_name": "yp-data",
   "language": "python",
   "name": "yp-data"
  },
  "language_info": {
   "codemirror_mode": {
    "name": "ipython",
    "version": 3
   },
   "file_extension": ".py",
   "mimetype": "text/x-python",
   "name": "python",
   "nbconvert_exporter": "python",
   "pygments_lexer": "ipython3",
   "version": "3.7.7"
  }
 },
 "nbformat": 4,
 "nbformat_minor": 4
}
