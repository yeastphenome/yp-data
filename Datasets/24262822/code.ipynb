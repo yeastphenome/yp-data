{
 "cells": [
  {
   "cell_type": "code",
   "execution_count": 1,
   "metadata": {},
   "outputs": [],
   "source": [
    "import numpy as np\n",
    "import pandas as pd\n",
    "\n",
    "import sys\n",
    "\n",
    "from os.path import expanduser\n",
    "sys.path.append(expanduser('~') + '/Lab/Utils/Python/')\n",
    "\n",
    "from Conversions.translate import *\n",
    "from Strings.is_a import *"
   ]
  },
  {
   "cell_type": "markdown",
   "metadata": {},
   "source": [
    "# Initial setup"
   ]
  },
  {
   "cell_type": "code",
   "execution_count": 3,
   "metadata": {},
   "outputs": [],
   "source": [
    "paper_pmid = 24262822\n",
    "paper_name = 'mattiazziusaj_petrovic_2014' "
   ]
  },
  {
   "cell_type": "code",
   "execution_count": 4,
   "metadata": {},
   "outputs": [],
   "source": [
    "datasets = pd.read_csv('extras/YeastPhenome_' + str(paper_pmid) + '_datasets_list.txt', sep='\\t', header=None, names=['pmid', 'name'])"
   ]
  },
  {
   "cell_type": "code",
   "execution_count": 5,
   "metadata": {},
   "outputs": [],
   "source": [
    "datasets.set_index('pmid', inplace=True)"
   ]
  },
  {
   "cell_type": "markdown",
   "metadata": {},
   "source": [
    "# Load & process the data"
   ]
  },
  {
   "cell_type": "code",
   "execution_count": 9,
   "metadata": {},
   "outputs": [],
   "source": [
    "original_data = pd.read_csv('raw_data/MattiazziUsaj_Chemosphere_2014.csv', sep=',')"
   ]
  },
  {
   "cell_type": "code",
   "execution_count": 10,
   "metadata": {},
   "outputs": [
    {
     "name": "stdout",
     "output_type": "stream",
     "text": [
      "Original data dimensions: 4308 x 11\n"
     ]
    }
   ],
   "source": [
    "print('Original data dimensions: %d x %d' % (original_data.shape))"
   ]
  },
  {
   "cell_type": "code",
   "execution_count": 11,
   "metadata": {},
   "outputs": [
    {
     "data": {
      "text/html": [
       "<div>\n",
       "<style scoped>\n",
       "    .dataframe tbody tr th:only-of-type {\n",
       "        vertical-align: middle;\n",
       "    }\n",
       "\n",
       "    .dataframe tbody tr th {\n",
       "        vertical-align: top;\n",
       "    }\n",
       "\n",
       "    .dataframe thead th {\n",
       "        text-align: right;\n",
       "    }\n",
       "</style>\n",
       "<table border=\"1\" class=\"dataframe\">\n",
       "  <thead>\n",
       "    <tr style=\"text-align: right;\">\n",
       "      <th></th>\n",
       "      <th>Plate</th>\n",
       "      <th>Row</th>\n",
       "      <th>Column</th>\n",
       "      <th>ORF</th>\n",
       "      <th>Name</th>\n",
       "      <th>Thiamethoxam</th>\n",
       "      <th>Actara</th>\n",
       "      <th>Acetamiprid</th>\n",
       "      <th>Mospilan</th>\n",
       "      <th>DMSO+Pyrrolidone</th>\n",
       "      <th>Confidor</th>\n",
       "    </tr>\n",
       "  </thead>\n",
       "  <tbody>\n",
       "    <tr>\n",
       "      <th>0</th>\n",
       "      <td>1</td>\n",
       "      <td>2</td>\n",
       "      <td>2</td>\n",
       "      <td>YBR030W</td>\n",
       "      <td>NaN</td>\n",
       "      <td>0.214</td>\n",
       "      <td>-0.010</td>\n",
       "      <td>-0.024</td>\n",
       "      <td>-0.282</td>\n",
       "      <td>-0.025</td>\n",
       "      <td>-0.276</td>\n",
       "    </tr>\n",
       "    <tr>\n",
       "      <th>1</th>\n",
       "      <td>1</td>\n",
       "      <td>2</td>\n",
       "      <td>3</td>\n",
       "      <td>YBR138C</td>\n",
       "      <td>HDR1</td>\n",
       "      <td>0.034</td>\n",
       "      <td>0.414</td>\n",
       "      <td>-0.585</td>\n",
       "      <td>-0.095</td>\n",
       "      <td>0.225</td>\n",
       "      <td>-0.227</td>\n",
       "    </tr>\n",
       "    <tr>\n",
       "      <th>2</th>\n",
       "      <td>1</td>\n",
       "      <td>2</td>\n",
       "      <td>4</td>\n",
       "      <td>YBR028C</td>\n",
       "      <td>NaN</td>\n",
       "      <td>0.346</td>\n",
       "      <td>0.021</td>\n",
       "      <td>0.216</td>\n",
       "      <td>-1.066</td>\n",
       "      <td>0.025</td>\n",
       "      <td>-0.889</td>\n",
       "    </tr>\n",
       "    <tr>\n",
       "      <th>3</th>\n",
       "      <td>1</td>\n",
       "      <td>2</td>\n",
       "      <td>5</td>\n",
       "      <td>YBR137W</td>\n",
       "      <td>NaN</td>\n",
       "      <td>0.314</td>\n",
       "      <td>0.183</td>\n",
       "      <td>0.135</td>\n",
       "      <td>-1.154</td>\n",
       "      <td>0.216</td>\n",
       "      <td>0.317</td>\n",
       "    </tr>\n",
       "    <tr>\n",
       "      <th>4</th>\n",
       "      <td>1</td>\n",
       "      <td>2</td>\n",
       "      <td>6</td>\n",
       "      <td>YBR027C</td>\n",
       "      <td>NaN</td>\n",
       "      <td>-0.010</td>\n",
       "      <td>-0.189</td>\n",
       "      <td>-0.141</td>\n",
       "      <td>-0.916</td>\n",
       "      <td>0.093</td>\n",
       "      <td>-0.825</td>\n",
       "    </tr>\n",
       "  </tbody>\n",
       "</table>\n",
       "</div>"
      ],
      "text/plain": [
       "   Plate  Row  Column      ORF  Name  Thiamethoxam  Actara  Acetamiprid  \\\n",
       "0      1    2       2  YBR030W   NaN         0.214  -0.010       -0.024   \n",
       "1      1    2       3  YBR138C  HDR1         0.034   0.414       -0.585   \n",
       "2      1    2       4  YBR028C   NaN         0.346   0.021        0.216   \n",
       "3      1    2       5  YBR137W   NaN         0.314   0.183        0.135   \n",
       "4      1    2       6  YBR027C   NaN        -0.010  -0.189       -0.141   \n",
       "\n",
       "   Mospilan  DMSO+Pyrrolidone  Confidor   \n",
       "0    -0.282            -0.025     -0.276  \n",
       "1    -0.095             0.225     -0.227  \n",
       "2    -1.066             0.025     -0.889  \n",
       "3    -1.154             0.216      0.317  \n",
       "4    -0.916             0.093     -0.825  "
      ]
     },
     "execution_count": 11,
     "metadata": {},
     "output_type": "execute_result"
    }
   ],
   "source": [
    "original_data.head()"
   ]
  },
  {
   "cell_type": "code",
   "execution_count": 12,
   "metadata": {},
   "outputs": [],
   "source": [
    "original_data['ORF'] = original_data['ORF'].astype(str)"
   ]
  },
  {
   "cell_type": "code",
   "execution_count": 13,
   "metadata": {},
   "outputs": [],
   "source": [
    "# Eliminate all white spaces & capitalize\n",
    "original_data['ORF'] = clean_orf(original_data['ORF'])"
   ]
  },
  {
   "cell_type": "code",
   "execution_count": 14,
   "metadata": {},
   "outputs": [],
   "source": [
    "# Translate to ORFs \n",
    "original_data['ORF'] = translate_sc(original_data['ORF'], to='orf')"
   ]
  },
  {
   "cell_type": "code",
   "execution_count": 15,
   "metadata": {},
   "outputs": [
    {
     "name": "stdout",
     "output_type": "stream",
     "text": [
      "Empty DataFrame\n",
      "Columns: [Plate, Row, Column, ORF, Name, Thiamethoxam, Actara, Acetamiprid, Mospilan, DMSO+Pyrrolidone, Confidor ]\n",
      "Index: []\n"
     ]
    }
   ],
   "source": [
    "# Make sure everything translated ok\n",
    "t = looks_like_orf(original_data['ORF'])\n",
    "print(original_data.loc[~t,])"
   ]
  },
  {
   "cell_type": "code",
   "execution_count": 26,
   "metadata": {},
   "outputs": [],
   "source": [
    "data = original_data.loc[:,['ORF','Thiamethoxam','Actara','Acetamiprid','Mospilan','DMSO+Pyrrolidone','Confidor ']]"
   ]
  },
  {
   "cell_type": "code",
   "execution_count": 27,
   "metadata": {},
   "outputs": [],
   "source": [
    "data.set_index('ORF',inplace=True)"
   ]
  },
  {
   "cell_type": "markdown",
   "metadata": {},
   "source": [
    "# Prepare the final dataset"
   ]
  },
  {
   "cell_type": "code",
   "execution_count": 28,
   "metadata": {},
   "outputs": [],
   "source": [
    "dataset_ids = [16502,16506,16503,16505,16504,16507]"
   ]
  },
  {
   "cell_type": "code",
   "execution_count": 29,
   "metadata": {},
   "outputs": [],
   "source": [
    "datasets = datasets.reindex(index=dataset_ids)"
   ]
  },
  {
   "cell_type": "code",
   "execution_count": 30,
   "metadata": {},
   "outputs": [],
   "source": [
    "data.columns = datasets['name'].values"
   ]
  },
  {
   "cell_type": "code",
   "execution_count": 31,
   "metadata": {},
   "outputs": [],
   "source": [
    "data = data.groupby(data.index).mean()"
   ]
  },
  {
   "cell_type": "code",
   "execution_count": 32,
   "metadata": {},
   "outputs": [],
   "source": [
    "# Create row index\n",
    "data.index.name='orf'"
   ]
  },
  {
   "cell_type": "code",
   "execution_count": 33,
   "metadata": {},
   "outputs": [
    {
     "name": "stdout",
     "output_type": "stream",
     "text": [
      "Final data dimensions: 4267 x 6\n"
     ]
    }
   ],
   "source": [
    "print('Final data dimensions: %d x %d' % (data.shape))"
   ]
  },
  {
   "cell_type": "markdown",
   "metadata": {},
   "source": [
    "# Print out"
   ]
  },
  {
   "cell_type": "code",
   "execution_count": 35,
   "metadata": {},
   "outputs": [],
   "source": [
    "data.to_csv(paper_name + '.txt', sep='\\t')"
   ]
  },
  {
   "cell_type": "markdown",
   "metadata": {},
   "source": [
    "# Save to DB"
   ]
  },
  {
   "cell_type": "code",
   "execution_count": 36,
   "metadata": {},
   "outputs": [],
   "source": [
    "from IO.save_data_to_db2 import *"
   ]
  },
  {
   "cell_type": "code",
   "execution_count": 37,
   "metadata": {},
   "outputs": [],
   "source": [
    "# Create column index\n",
    "lst = [datasets.index.values, datasets['name'].values]\n",
    "tuples = list(zip(*lst))\n",
    "idx = pd.MultiIndex.from_tuples(tuples, names=['dataset_id','dataset_name'])\n",
    "data.columns = idx"
   ]
  },
  {
   "cell_type": "code",
   "execution_count": 38,
   "metadata": {},
   "outputs": [],
   "source": [
    "save_data_to_db(data, paper_pmid)"
   ]
  },
  {
   "cell_type": "code",
   "execution_count": null,
   "metadata": {},
   "outputs": [],
   "source": []
  }
 ],
 "metadata": {
  "kernelspec": {
   "display_name": "yp-data",
   "language": "python",
   "name": "yp-data"
  },
  "language_info": {
   "codemirror_mode": {
    "name": "ipython",
    "version": 3
   },
   "file_extension": ".py",
   "mimetype": "text/x-python",
   "name": "python",
   "nbconvert_exporter": "python",
   "pygments_lexer": "ipython3",
   "version": "3.7.7"
  }
 },
 "nbformat": 4,
 "nbformat_minor": 4
}
