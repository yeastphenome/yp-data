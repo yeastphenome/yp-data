{
 "cells": [
  {
   "cell_type": "code",
   "execution_count": 1,
   "metadata": {},
   "outputs": [],
   "source": [
    "%run ../yp_utils.py"
   ]
  },
  {
   "cell_type": "markdown",
   "metadata": {},
   "source": [
    "# Initial setup"
   ]
  },
  {
   "cell_type": "code",
   "execution_count": 2,
   "metadata": {},
   "outputs": [],
   "source": [
    "paper_pmid = 24262822\n",
    "paper_name = 'mattiazziusaj_petrovic_2014' "
   ]
  },
  {
   "cell_type": "code",
   "execution_count": 3,
   "metadata": {},
   "outputs": [],
   "source": [
    "datasets = pd.read_csv('extras/YeastPhenome_' + str(paper_pmid) + '_datasets_list.txt', sep='\\t', header=None, names=['pmid', 'name'])"
   ]
  },
  {
   "cell_type": "code",
   "execution_count": 4,
   "metadata": {},
   "outputs": [],
   "source": [
    "datasets.set_index('pmid', inplace=True)"
   ]
  },
  {
   "cell_type": "markdown",
   "metadata": {},
   "source": [
    "# Load & process the data"
   ]
  },
  {
   "cell_type": "code",
   "execution_count": 5,
   "metadata": {},
   "outputs": [],
   "source": [
    "original_data = pd.read_csv('raw_data/MattiazziUsaj_Chemosphere_2014.csv', sep=',')"
   ]
  },
  {
   "cell_type": "code",
   "execution_count": 6,
   "metadata": {},
   "outputs": [
    {
     "name": "stdout",
     "output_type": "stream",
     "text": [
      "Original data dimensions: 4308 x 11\n"
     ]
    }
   ],
   "source": [
    "print('Original data dimensions: %d x %d' % (original_data.shape))"
   ]
  },
  {
   "cell_type": "code",
   "execution_count": 7,
   "metadata": {},
   "outputs": [
    {
     "data": {
      "text/html": [
       "<div>\n",
       "<style scoped>\n",
       "    .dataframe tbody tr th:only-of-type {\n",
       "        vertical-align: middle;\n",
       "    }\n",
       "\n",
       "    .dataframe tbody tr th {\n",
       "        vertical-align: top;\n",
       "    }\n",
       "\n",
       "    .dataframe thead th {\n",
       "        text-align: right;\n",
       "    }\n",
       "</style>\n",
       "<table border=\"1\" class=\"dataframe\">\n",
       "  <thead>\n",
       "    <tr style=\"text-align: right;\">\n",
       "      <th></th>\n",
       "      <th>Plate</th>\n",
       "      <th>Row</th>\n",
       "      <th>Column</th>\n",
       "      <th>ORF</th>\n",
       "      <th>Name</th>\n",
       "      <th>Thiamethoxam</th>\n",
       "      <th>Actara</th>\n",
       "      <th>Acetamiprid</th>\n",
       "      <th>Mospilan</th>\n",
       "      <th>DMSO+Pyrrolidone</th>\n",
       "      <th>Confidor</th>\n",
       "    </tr>\n",
       "  </thead>\n",
       "  <tbody>\n",
       "    <tr>\n",
       "      <th>0</th>\n",
       "      <td>1</td>\n",
       "      <td>2</td>\n",
       "      <td>2</td>\n",
       "      <td>YBR030W</td>\n",
       "      <td>NaN</td>\n",
       "      <td>0.214</td>\n",
       "      <td>-0.010</td>\n",
       "      <td>-0.024</td>\n",
       "      <td>-0.282</td>\n",
       "      <td>-0.025</td>\n",
       "      <td>-0.276</td>\n",
       "    </tr>\n",
       "    <tr>\n",
       "      <th>1</th>\n",
       "      <td>1</td>\n",
       "      <td>2</td>\n",
       "      <td>3</td>\n",
       "      <td>YBR138C</td>\n",
       "      <td>HDR1</td>\n",
       "      <td>0.034</td>\n",
       "      <td>0.414</td>\n",
       "      <td>-0.585</td>\n",
       "      <td>-0.095</td>\n",
       "      <td>0.225</td>\n",
       "      <td>-0.227</td>\n",
       "    </tr>\n",
       "    <tr>\n",
       "      <th>2</th>\n",
       "      <td>1</td>\n",
       "      <td>2</td>\n",
       "      <td>4</td>\n",
       "      <td>YBR028C</td>\n",
       "      <td>NaN</td>\n",
       "      <td>0.346</td>\n",
       "      <td>0.021</td>\n",
       "      <td>0.216</td>\n",
       "      <td>-1.066</td>\n",
       "      <td>0.025</td>\n",
       "      <td>-0.889</td>\n",
       "    </tr>\n",
       "    <tr>\n",
       "      <th>3</th>\n",
       "      <td>1</td>\n",
       "      <td>2</td>\n",
       "      <td>5</td>\n",
       "      <td>YBR137W</td>\n",
       "      <td>NaN</td>\n",
       "      <td>0.314</td>\n",
       "      <td>0.183</td>\n",
       "      <td>0.135</td>\n",
       "      <td>-1.154</td>\n",
       "      <td>0.216</td>\n",
       "      <td>0.317</td>\n",
       "    </tr>\n",
       "    <tr>\n",
       "      <th>4</th>\n",
       "      <td>1</td>\n",
       "      <td>2</td>\n",
       "      <td>6</td>\n",
       "      <td>YBR027C</td>\n",
       "      <td>NaN</td>\n",
       "      <td>-0.010</td>\n",
       "      <td>-0.189</td>\n",
       "      <td>-0.141</td>\n",
       "      <td>-0.916</td>\n",
       "      <td>0.093</td>\n",
       "      <td>-0.825</td>\n",
       "    </tr>\n",
       "  </tbody>\n",
       "</table>\n",
       "</div>"
      ],
      "text/plain": [
       "   Plate  Row  Column      ORF  Name  Thiamethoxam  Actara  Acetamiprid  \\\n",
       "0      1    2       2  YBR030W   NaN         0.214  -0.010       -0.024   \n",
       "1      1    2       3  YBR138C  HDR1         0.034   0.414       -0.585   \n",
       "2      1    2       4  YBR028C   NaN         0.346   0.021        0.216   \n",
       "3      1    2       5  YBR137W   NaN         0.314   0.183        0.135   \n",
       "4      1    2       6  YBR027C   NaN        -0.010  -0.189       -0.141   \n",
       "\n",
       "   Mospilan  DMSO+Pyrrolidone  Confidor   \n",
       "0    -0.282            -0.025     -0.276  \n",
       "1    -0.095             0.225     -0.227  \n",
       "2    -1.066             0.025     -0.889  \n",
       "3    -1.154             0.216      0.317  \n",
       "4    -0.916             0.093     -0.825  "
      ]
     },
     "execution_count": 7,
     "metadata": {},
     "output_type": "execute_result"
    }
   ],
   "source": [
    "original_data.head()"
   ]
  },
  {
   "cell_type": "code",
   "execution_count": 8,
   "metadata": {},
   "outputs": [],
   "source": [
    "original_data['ORF'] = original_data['ORF'].astype(str)"
   ]
  },
  {
   "cell_type": "code",
   "execution_count": 9,
   "metadata": {},
   "outputs": [],
   "source": [
    "# Eliminate all white spaces & capitalize\n",
    "original_data['ORF'] = clean_orf(original_data['ORF'])"
   ]
  },
  {
   "cell_type": "code",
   "execution_count": 10,
   "metadata": {},
   "outputs": [],
   "source": [
    "# Translate to ORFs \n",
    "original_data['ORF'] = translate_sc(original_data['ORF'], to='orf')"
   ]
  },
  {
   "cell_type": "code",
   "execution_count": 11,
   "metadata": {},
   "outputs": [
    {
     "name": "stdout",
     "output_type": "stream",
     "text": [
      "Empty DataFrame\n",
      "Columns: [Plate, Row, Column, ORF, Name, Thiamethoxam, Actara, Acetamiprid, Mospilan, DMSO+Pyrrolidone, Confidor ]\n",
      "Index: []\n"
     ]
    }
   ],
   "source": [
    "# Make sure everything translated ok\n",
    "t = looks_like_orf(original_data['ORF'])\n",
    "print(original_data.loc[~t,])"
   ]
  },
  {
   "cell_type": "code",
   "execution_count": 12,
   "metadata": {},
   "outputs": [],
   "source": [
    "original_data.set_index('ORF',inplace=True)\n",
    "original_data.index.name='orf'"
   ]
  },
  {
   "cell_type": "code",
   "execution_count": 13,
   "metadata": {},
   "outputs": [],
   "source": [
    "original_data = original_data[['Thiamethoxam','Actara','Acetamiprid','Mospilan','DMSO+Pyrrolidone','Confidor ']].copy()"
   ]
  },
  {
   "cell_type": "code",
   "execution_count": 14,
   "metadata": {},
   "outputs": [],
   "source": [
    "original_data = original_data.groupby(original_data.index).mean()"
   ]
  },
  {
   "cell_type": "code",
   "execution_count": 15,
   "metadata": {},
   "outputs": [
    {
     "data": {
      "text/plain": [
       "(4267, 6)"
      ]
     },
     "execution_count": 15,
     "metadata": {},
     "output_type": "execute_result"
    }
   ],
   "source": [
    "original_data.shape"
   ]
  },
  {
   "cell_type": "markdown",
   "metadata": {},
   "source": [
    "# Prepare the final dataset"
   ]
  },
  {
   "cell_type": "code",
   "execution_count": 16,
   "metadata": {},
   "outputs": [],
   "source": [
    "data = original_data.copy()"
   ]
  },
  {
   "cell_type": "code",
   "execution_count": 17,
   "metadata": {},
   "outputs": [],
   "source": [
    "dataset_ids = [16502,16506,16503,16505,16504,16507]\n",
    "datasets = datasets.reindex(index=dataset_ids)"
   ]
  },
  {
   "cell_type": "code",
   "execution_count": 18,
   "metadata": {},
   "outputs": [],
   "source": [
    "lst = [datasets.index.values, ['value']*datasets.shape[0]]\n",
    "tuples = list(zip(*lst))\n",
    "idx = pd.MultiIndex.from_tuples(tuples, names=['dataset_id','data_type'])\n",
    "data.columns = idx"
   ]
  },
  {
   "cell_type": "code",
   "execution_count": 19,
   "metadata": {},
   "outputs": [
    {
     "data": {
      "text/html": [
       "<div>\n",
       "<style scoped>\n",
       "    .dataframe tbody tr th:only-of-type {\n",
       "        vertical-align: middle;\n",
       "    }\n",
       "\n",
       "    .dataframe tbody tr th {\n",
       "        vertical-align: top;\n",
       "    }\n",
       "\n",
       "    .dataframe thead tr th {\n",
       "        text-align: left;\n",
       "    }\n",
       "\n",
       "    .dataframe thead tr:last-of-type th {\n",
       "        text-align: right;\n",
       "    }\n",
       "</style>\n",
       "<table border=\"1\" class=\"dataframe\">\n",
       "  <thead>\n",
       "    <tr>\n",
       "      <th>dataset_id</th>\n",
       "      <th>16502</th>\n",
       "      <th>16506</th>\n",
       "      <th>16503</th>\n",
       "      <th>16505</th>\n",
       "      <th>16504</th>\n",
       "      <th>16507</th>\n",
       "    </tr>\n",
       "    <tr>\n",
       "      <th>data_type</th>\n",
       "      <th>value</th>\n",
       "      <th>value</th>\n",
       "      <th>value</th>\n",
       "      <th>value</th>\n",
       "      <th>value</th>\n",
       "      <th>value</th>\n",
       "    </tr>\n",
       "    <tr>\n",
       "      <th>orf</th>\n",
       "      <th></th>\n",
       "      <th></th>\n",
       "      <th></th>\n",
       "      <th></th>\n",
       "      <th></th>\n",
       "      <th></th>\n",
       "    </tr>\n",
       "  </thead>\n",
       "  <tbody>\n",
       "    <tr>\n",
       "      <th>YAL002W</th>\n",
       "      <td>0.071</td>\n",
       "      <td>-0.614</td>\n",
       "      <td>-0.572</td>\n",
       "      <td>-3.279</td>\n",
       "      <td>0.037</td>\n",
       "      <td>-0.774</td>\n",
       "    </tr>\n",
       "    <tr>\n",
       "      <th>YAL004W</th>\n",
       "      <td>0.255</td>\n",
       "      <td>0.437</td>\n",
       "      <td>-0.073</td>\n",
       "      <td>-0.284</td>\n",
       "      <td>0.046</td>\n",
       "      <td>0.200</td>\n",
       "    </tr>\n",
       "    <tr>\n",
       "      <th>YAL005C</th>\n",
       "      <td>-0.113</td>\n",
       "      <td>0.129</td>\n",
       "      <td>0.125</td>\n",
       "      <td>-0.073</td>\n",
       "      <td>-0.139</td>\n",
       "      <td>-0.105</td>\n",
       "    </tr>\n",
       "    <tr>\n",
       "      <th>YAL007C</th>\n",
       "      <td>0.433</td>\n",
       "      <td>0.325</td>\n",
       "      <td>0.124</td>\n",
       "      <td>-0.210</td>\n",
       "      <td>-0.207</td>\n",
       "      <td>0.495</td>\n",
       "    </tr>\n",
       "    <tr>\n",
       "      <th>YAL008W</th>\n",
       "      <td>-0.273</td>\n",
       "      <td>0.188</td>\n",
       "      <td>-0.203</td>\n",
       "      <td>-0.711</td>\n",
       "      <td>0.076</td>\n",
       "      <td>-0.054</td>\n",
       "    </tr>\n",
       "  </tbody>\n",
       "</table>\n",
       "</div>"
      ],
      "text/plain": [
       "dataset_id  16502  16506  16503  16505  16504  16507\n",
       "data_type   value  value  value  value  value  value\n",
       "orf                                                 \n",
       "YAL002W     0.071 -0.614 -0.572 -3.279  0.037 -0.774\n",
       "YAL004W     0.255  0.437 -0.073 -0.284  0.046  0.200\n",
       "YAL005C    -0.113  0.129  0.125 -0.073 -0.139 -0.105\n",
       "YAL007C     0.433  0.325  0.124 -0.210 -0.207  0.495\n",
       "YAL008W    -0.273  0.188 -0.203 -0.711  0.076 -0.054"
      ]
     },
     "execution_count": 19,
     "metadata": {},
     "output_type": "execute_result"
    }
   ],
   "source": [
    "data.head()"
   ]
  },
  {
   "cell_type": "markdown",
   "metadata": {},
   "source": [
    "## Subset to the genes currently in SGD"
   ]
  },
  {
   "cell_type": "code",
   "execution_count": 20,
   "metadata": {},
   "outputs": [
    {
     "name": "stdout",
     "output_type": "stream",
     "text": [
      "ORFs missing from SGD: 22\n"
     ]
    }
   ],
   "source": [
    "genes = pd.read_csv(path_to_genes, sep='\\t', index_col='id')\n",
    "genes = genes.reset_index().set_index('systematic_name')\n",
    "gene_ids = genes.reindex(index=data.index.values)['id'].values\n",
    "num_missing = np.sum(np.isnan(gene_ids))\n",
    "print('ORFs missing from SGD: %d' % num_missing)"
   ]
  },
  {
   "cell_type": "code",
   "execution_count": 21,
   "metadata": {},
   "outputs": [
    {
     "data": {
      "text/html": [
       "<div>\n",
       "<style scoped>\n",
       "    .dataframe tbody tr th:only-of-type {\n",
       "        vertical-align: middle;\n",
       "    }\n",
       "\n",
       "    .dataframe tbody tr th {\n",
       "        vertical-align: top;\n",
       "    }\n",
       "\n",
       "    .dataframe thead tr th {\n",
       "        text-align: left;\n",
       "    }\n",
       "\n",
       "    .dataframe thead tr:last-of-type th {\n",
       "        text-align: right;\n",
       "    }\n",
       "</style>\n",
       "<table border=\"1\" class=\"dataframe\">\n",
       "  <thead>\n",
       "    <tr>\n",
       "      <th></th>\n",
       "      <th>dataset_id</th>\n",
       "      <th>16502</th>\n",
       "      <th>16506</th>\n",
       "      <th>16503</th>\n",
       "      <th>16505</th>\n",
       "      <th>16504</th>\n",
       "      <th>16507</th>\n",
       "    </tr>\n",
       "    <tr>\n",
       "      <th></th>\n",
       "      <th>data_type</th>\n",
       "      <th>value</th>\n",
       "      <th>value</th>\n",
       "      <th>value</th>\n",
       "      <th>value</th>\n",
       "      <th>value</th>\n",
       "      <th>value</th>\n",
       "    </tr>\n",
       "    <tr>\n",
       "      <th>gene_id</th>\n",
       "      <th>orf</th>\n",
       "      <th></th>\n",
       "      <th></th>\n",
       "      <th></th>\n",
       "      <th></th>\n",
       "      <th></th>\n",
       "      <th></th>\n",
       "    </tr>\n",
       "  </thead>\n",
       "  <tbody>\n",
       "    <tr>\n",
       "      <th>2</th>\n",
       "      <th>YAL002W</th>\n",
       "      <td>0.071</td>\n",
       "      <td>-0.614</td>\n",
       "      <td>-0.572</td>\n",
       "      <td>-3.279</td>\n",
       "      <td>0.037</td>\n",
       "      <td>-0.774</td>\n",
       "    </tr>\n",
       "    <tr>\n",
       "      <th>1863</th>\n",
       "      <th>YAL004W</th>\n",
       "      <td>0.255</td>\n",
       "      <td>0.437</td>\n",
       "      <td>-0.073</td>\n",
       "      <td>-0.284</td>\n",
       "      <td>0.046</td>\n",
       "      <td>0.200</td>\n",
       "    </tr>\n",
       "    <tr>\n",
       "      <th>4</th>\n",
       "      <th>YAL005C</th>\n",
       "      <td>-0.113</td>\n",
       "      <td>0.129</td>\n",
       "      <td>0.125</td>\n",
       "      <td>-0.073</td>\n",
       "      <td>-0.139</td>\n",
       "      <td>-0.105</td>\n",
       "    </tr>\n",
       "    <tr>\n",
       "      <th>5</th>\n",
       "      <th>YAL007C</th>\n",
       "      <td>0.433</td>\n",
       "      <td>0.325</td>\n",
       "      <td>0.124</td>\n",
       "      <td>-0.210</td>\n",
       "      <td>-0.207</td>\n",
       "      <td>0.495</td>\n",
       "    </tr>\n",
       "    <tr>\n",
       "      <th>6</th>\n",
       "      <th>YAL008W</th>\n",
       "      <td>-0.273</td>\n",
       "      <td>0.188</td>\n",
       "      <td>-0.203</td>\n",
       "      <td>-0.711</td>\n",
       "      <td>0.076</td>\n",
       "      <td>-0.054</td>\n",
       "    </tr>\n",
       "  </tbody>\n",
       "</table>\n",
       "</div>"
      ],
      "text/plain": [
       "dataset_id       16502  16506  16503  16505  16504  16507\n",
       "data_type        value  value  value  value  value  value\n",
       "gene_id orf                                              \n",
       "2       YAL002W  0.071 -0.614 -0.572 -3.279  0.037 -0.774\n",
       "1863    YAL004W  0.255  0.437 -0.073 -0.284  0.046  0.200\n",
       "4       YAL005C -0.113  0.129  0.125 -0.073 -0.139 -0.105\n",
       "5       YAL007C  0.433  0.325  0.124 -0.210 -0.207  0.495\n",
       "6       YAL008W -0.273  0.188 -0.203 -0.711  0.076 -0.054"
      ]
     },
     "execution_count": 21,
     "metadata": {},
     "output_type": "execute_result"
    }
   ],
   "source": [
    "data['gene_id'] = gene_ids\n",
    "data = data.loc[data['gene_id'].notnull()]\n",
    "data['gene_id'] = data['gene_id'].astype(int)\n",
    "data = data.reset_index().set_index(['gene_id','orf'])\n",
    "\n",
    "data.head()"
   ]
  },
  {
   "cell_type": "markdown",
   "metadata": {},
   "source": [
    "# Normalize"
   ]
  },
  {
   "cell_type": "code",
   "execution_count": 22,
   "metadata": {},
   "outputs": [],
   "source": [
    "data_norm = normalize_phenotypic_scores(data, has_tested=True)"
   ]
  },
  {
   "cell_type": "code",
   "execution_count": 23,
   "metadata": {},
   "outputs": [],
   "source": [
    "# Assign proper column names\n",
    "lst = [datasets.index.values, ['valuez']*datasets.shape[0]]\n",
    "tuples = list(zip(*lst))\n",
    "idx = pd.MultiIndex.from_tuples(tuples, names=['dataset_id','data_type'])\n",
    "data_norm.columns = idx"
   ]
  },
  {
   "cell_type": "code",
   "execution_count": 24,
   "metadata": {},
   "outputs": [
    {
     "data": {
      "text/html": [
       "<div>\n",
       "<style scoped>\n",
       "    .dataframe tbody tr th:only-of-type {\n",
       "        vertical-align: middle;\n",
       "    }\n",
       "\n",
       "    .dataframe tbody tr th {\n",
       "        vertical-align: top;\n",
       "    }\n",
       "\n",
       "    .dataframe thead tr th {\n",
       "        text-align: left;\n",
       "    }\n",
       "\n",
       "    .dataframe thead tr:last-of-type th {\n",
       "        text-align: right;\n",
       "    }\n",
       "</style>\n",
       "<table border=\"1\" class=\"dataframe\">\n",
       "  <thead>\n",
       "    <tr>\n",
       "      <th></th>\n",
       "      <th>dataset_id</th>\n",
       "      <th>16502</th>\n",
       "      <th>16506</th>\n",
       "      <th>16503</th>\n",
       "      <th>16505</th>\n",
       "      <th>16504</th>\n",
       "      <th>16507</th>\n",
       "      <th>16502</th>\n",
       "      <th>16506</th>\n",
       "      <th>16503</th>\n",
       "      <th>16505</th>\n",
       "      <th>16504</th>\n",
       "      <th>16507</th>\n",
       "    </tr>\n",
       "    <tr>\n",
       "      <th></th>\n",
       "      <th>data_type</th>\n",
       "      <th>value</th>\n",
       "      <th>value</th>\n",
       "      <th>value</th>\n",
       "      <th>value</th>\n",
       "      <th>value</th>\n",
       "      <th>value</th>\n",
       "      <th>valuez</th>\n",
       "      <th>valuez</th>\n",
       "      <th>valuez</th>\n",
       "      <th>valuez</th>\n",
       "      <th>valuez</th>\n",
       "      <th>valuez</th>\n",
       "    </tr>\n",
       "    <tr>\n",
       "      <th>gene_id</th>\n",
       "      <th>orf</th>\n",
       "      <th></th>\n",
       "      <th></th>\n",
       "      <th></th>\n",
       "      <th></th>\n",
       "      <th></th>\n",
       "      <th></th>\n",
       "      <th></th>\n",
       "      <th></th>\n",
       "      <th></th>\n",
       "      <th></th>\n",
       "      <th></th>\n",
       "      <th></th>\n",
       "    </tr>\n",
       "  </thead>\n",
       "  <tbody>\n",
       "    <tr>\n",
       "      <th>2</th>\n",
       "      <th>YAL002W</th>\n",
       "      <td>0.071</td>\n",
       "      <td>-0.614</td>\n",
       "      <td>-0.572</td>\n",
       "      <td>-3.279</td>\n",
       "      <td>0.037</td>\n",
       "      <td>-0.774</td>\n",
       "      <td>-0.138219</td>\n",
       "      <td>-0.736667</td>\n",
       "      <td>-0.775827</td>\n",
       "      <td>-3.557405</td>\n",
       "      <td>-0.470235</td>\n",
       "      <td>-1.126143</td>\n",
       "    </tr>\n",
       "    <tr>\n",
       "      <th>1863</th>\n",
       "      <th>YAL004W</th>\n",
       "      <td>0.255</td>\n",
       "      <td>0.437</td>\n",
       "      <td>-0.073</td>\n",
       "      <td>-0.284</td>\n",
       "      <td>0.046</td>\n",
       "      <td>0.200</td>\n",
       "      <td>0.390174</td>\n",
       "      <td>0.457529</td>\n",
       "      <td>-0.106413</td>\n",
       "      <td>-0.229629</td>\n",
       "      <td>-0.449897</td>\n",
       "      <td>0.353439</td>\n",
       "    </tr>\n",
       "    <tr>\n",
       "      <th>4</th>\n",
       "      <th>YAL005C</th>\n",
       "      <td>-0.113</td>\n",
       "      <td>0.129</td>\n",
       "      <td>0.125</td>\n",
       "      <td>-0.073</td>\n",
       "      <td>-0.139</td>\n",
       "      <td>-0.105</td>\n",
       "      <td>-0.666611</td>\n",
       "      <td>0.107565</td>\n",
       "      <td>0.159206</td>\n",
       "      <td>0.004815</td>\n",
       "      <td>-0.867952</td>\n",
       "      <td>-0.109880</td>\n",
       "    </tr>\n",
       "    <tr>\n",
       "      <th>5</th>\n",
       "      <th>YAL007C</th>\n",
       "      <td>0.433</td>\n",
       "      <td>0.325</td>\n",
       "      <td>0.124</td>\n",
       "      <td>-0.210</td>\n",
       "      <td>-0.207</td>\n",
       "      <td>0.495</td>\n",
       "      <td>0.901336</td>\n",
       "      <td>0.330269</td>\n",
       "      <td>0.157865</td>\n",
       "      <td>-0.147407</td>\n",
       "      <td>-1.021616</td>\n",
       "      <td>0.801567</td>\n",
       "    </tr>\n",
       "    <tr>\n",
       "      <th>6</th>\n",
       "      <th>YAL008W</th>\n",
       "      <td>-0.273</td>\n",
       "      <td>0.188</td>\n",
       "      <td>-0.203</td>\n",
       "      <td>-0.711</td>\n",
       "      <td>0.076</td>\n",
       "      <td>-0.054</td>\n",
       "      <td>-1.126082</td>\n",
       "      <td>0.174603</td>\n",
       "      <td>-0.280809</td>\n",
       "      <td>-0.704074</td>\n",
       "      <td>-0.382104</td>\n",
       "      <td>-0.032407</td>\n",
       "    </tr>\n",
       "  </tbody>\n",
       "</table>\n",
       "</div>"
      ],
      "text/plain": [
       "dataset_id       16502  16506  16503  16505  16504  16507     16502     16506  \\\n",
       "data_type        value  value  value  value  value  value    valuez    valuez   \n",
       "gene_id orf                                                                     \n",
       "2       YAL002W  0.071 -0.614 -0.572 -3.279  0.037 -0.774 -0.138219 -0.736667   \n",
       "1863    YAL004W  0.255  0.437 -0.073 -0.284  0.046  0.200  0.390174  0.457529   \n",
       "4       YAL005C -0.113  0.129  0.125 -0.073 -0.139 -0.105 -0.666611  0.107565   \n",
       "5       YAL007C  0.433  0.325  0.124 -0.210 -0.207  0.495  0.901336  0.330269   \n",
       "6       YAL008W -0.273  0.188 -0.203 -0.711  0.076 -0.054 -1.126082  0.174603   \n",
       "\n",
       "dataset_id          16503     16505     16504     16507  \n",
       "data_type          valuez    valuez    valuez    valuez  \n",
       "gene_id orf                                              \n",
       "2       YAL002W -0.775827 -3.557405 -0.470235 -1.126143  \n",
       "1863    YAL004W -0.106413 -0.229629 -0.449897  0.353439  \n",
       "4       YAL005C  0.159206  0.004815 -0.867952 -0.109880  \n",
       "5       YAL007C  0.157865 -0.147407 -1.021616  0.801567  \n",
       "6       YAL008W -0.280809 -0.704074 -0.382104 -0.032407  "
      ]
     },
     "execution_count": 24,
     "metadata": {},
     "output_type": "execute_result"
    }
   ],
   "source": [
    "data_norm[data.isnull()] = np.nan\n",
    "data_all = data.join(data_norm)\n",
    "\n",
    "data_all.head()"
   ]
  },
  {
   "cell_type": "markdown",
   "metadata": {},
   "source": [
    "# Print out"
   ]
  },
  {
   "cell_type": "code",
   "execution_count": 25,
   "metadata": {},
   "outputs": [],
   "source": [
    "for f in ['value','valuez']:\n",
    "    df = data_all.xs(f, level='data_type', axis=1).copy()\n",
    "    df.columns = datasets['name'].values\n",
    "    df = df.droplevel('gene_id', axis=0)\n",
    "    df.to_csv(paper_name + '_' + f + '.txt', sep='\\t')"
   ]
  },
  {
   "cell_type": "markdown",
   "metadata": {},
   "source": [
    "# Save to DB"
   ]
  },
  {
   "cell_type": "code",
   "execution_count": 26,
   "metadata": {},
   "outputs": [],
   "source": [
    "from IO.save_data_to_db3 import *"
   ]
  },
  {
   "cell_type": "code",
   "execution_count": 27,
   "metadata": {},
   "outputs": [
    {
     "name": "stderr",
     "output_type": "stream",
     "text": [
      "  0%|          | 0/6 [00:00<?, ?it/s]"
     ]
    },
    {
     "name": "stdout",
     "output_type": "stream",
     "text": [
      "Deleting all datasets for PMID 24262822...\n",
      "Inserting the new data...\n"
     ]
    },
    {
     "name": "stderr",
     "output_type": "stream",
     "text": [
      "100%|██████████| 6/6 [00:40<00:00,  6.73s/it]"
     ]
    },
    {
     "name": "stdout",
     "output_type": "stream",
     "text": [
      "Updating the data_modified_on field...\n"
     ]
    },
    {
     "name": "stderr",
     "output_type": "stream",
     "text": [
      "\n"
     ]
    }
   ],
   "source": [
    "save_data_to_db(data_all, paper_pmid)"
   ]
  },
  {
   "cell_type": "code",
   "execution_count": null,
   "metadata": {},
   "outputs": [],
   "source": []
  }
 ],
 "metadata": {
  "kernelspec": {
   "display_name": "yp-data",
   "language": "python",
   "name": "yp-data"
  },
  "language_info": {
   "codemirror_mode": {
    "name": "ipython",
    "version": 3
   },
   "file_extension": ".py",
   "mimetype": "text/x-python",
   "name": "python",
   "nbconvert_exporter": "python",
   "pygments_lexer": "ipython3",
   "version": "3.7.7"
  }
 },
 "nbformat": 4,
 "nbformat_minor": 4
}
