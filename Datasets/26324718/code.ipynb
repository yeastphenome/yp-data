{
 "cells": [
  {
   "cell_type": "code",
   "execution_count": 24,
   "metadata": {},
   "outputs": [],
   "source": [
    "%run ../yp_utils.py\n",
    "import itertools"
   ]
  },
  {
   "cell_type": "markdown",
   "metadata": {},
   "source": [
    "# Initial setup"
   ]
  },
  {
   "cell_type": "code",
   "execution_count": 2,
   "metadata": {},
   "outputs": [],
   "source": [
    "paper_pmid = 26324718\n",
    "paper_name = 'deranieh_greenberg_2015' "
   ]
  },
  {
   "cell_type": "code",
   "execution_count": 3,
   "metadata": {},
   "outputs": [],
   "source": [
    "datasets = pd.read_csv('extras/YeastPhenome_' + str(paper_pmid) + '_datasets_list.txt', sep='\\t', header=None, names=['dataset_id', 'name'])"
   ]
  },
  {
   "cell_type": "code",
   "execution_count": 4,
   "metadata": {},
   "outputs": [],
   "source": [
    "datasets.set_index('dataset_id', inplace=True)"
   ]
  },
  {
   "cell_type": "markdown",
   "metadata": {},
   "source": [
    "# Load & process the data"
   ]
  },
  {
   "cell_type": "code",
   "execution_count": 8,
   "metadata": {},
   "outputs": [],
   "source": [
    "original_data = pd.read_csv('raw_data/hit_list.txt', sep='\\t', header=None)"
   ]
  },
  {
   "cell_type": "code",
   "execution_count": 9,
   "metadata": {},
   "outputs": [
    {
     "name": "stdout",
     "output_type": "stream",
     "text": [
      "Original data dimensions: 7 x 3\n"
     ]
    }
   ],
   "source": [
    "print('Original data dimensions: %d x %d' % (original_data.shape))"
   ]
  },
  {
   "cell_type": "code",
   "execution_count": 22,
   "metadata": {},
   "outputs": [],
   "source": [
    "original_data[3] = original_data[2].apply(lambda x: [g.strip().split('/')[0] for g in x.split(',')])"
   ]
  },
  {
   "cell_type": "code",
   "execution_count": 23,
   "metadata": {},
   "outputs": [
    {
     "data": {
      "text/html": [
       "<div>\n",
       "<style scoped>\n",
       "    .dataframe tbody tr th:only-of-type {\n",
       "        vertical-align: middle;\n",
       "    }\n",
       "\n",
       "    .dataframe tbody tr th {\n",
       "        vertical-align: top;\n",
       "    }\n",
       "\n",
       "    .dataframe thead th {\n",
       "        text-align: right;\n",
       "    }\n",
       "</style>\n",
       "<table border=\"1\" class=\"dataframe\">\n",
       "  <thead>\n",
       "    <tr style=\"text-align: right;\">\n",
       "      <th></th>\n",
       "      <th>0</th>\n",
       "      <th>1</th>\n",
       "      <th>2</th>\n",
       "      <th>3</th>\n",
       "      <th>3</th>\n",
       "    </tr>\n",
       "  </thead>\n",
       "  <tbody>\n",
       "    <tr>\n",
       "      <th>0</th>\n",
       "      <td>1.0</td>\n",
       "      <td>Secretory pathway</td>\n",
       "      <td>VMA3/CUP5, VPS67/VPS51, SAC2/VPS52, VPS53, LUV...</td>\n",
       "      <td>[VMA3, VPS67, SAC2, VPS53, LUV1, SEC22, PEP12,...</td>\n",
       "      <td>NaN</td>\n",
       "    </tr>\n",
       "    <tr>\n",
       "      <th>1</th>\n",
       "      <td>2.0</td>\n",
       "      <td>Transcription complexes</td>\n",
       "      <td>CCR4, TAF14, MOT2, POP2, SNF4</td>\n",
       "      <td>[CCR4, TAF14, MOT2, POP2, SNF4]</td>\n",
       "      <td>NaN</td>\n",
       "    </tr>\n",
       "    <tr>\n",
       "      <th>2</th>\n",
       "      <td>3.0</td>\n",
       "      <td>Ubiquitin-dependent proteolytic pathway</td>\n",
       "      <td>MEP2, RPN4, DEF1, UBP3, BRE5,</td>\n",
       "      <td>[MEP2, RPN4, DEF1, UBP3, BRE5, ]</td>\n",
       "      <td>NaN</td>\n",
       "    </tr>\n",
       "    <tr>\n",
       "      <th>3</th>\n",
       "      <td>4.0</td>\n",
       "      <td>Mitochondrial function</td>\n",
       "      <td>AFG3, MGM101, MRPL27, MMT2, AIM13/MCS19</td>\n",
       "      <td>[AFG3, MGM101, MRPL27, MMT2, AIM13]</td>\n",
       "      <td>NaN</td>\n",
       "    </tr>\n",
       "    <tr>\n",
       "      <th>4</th>\n",
       "      <td>5.0</td>\n",
       "      <td>Transporters</td>\n",
       "      <td>TRK1, CTR1, GUP1, HXT12, AQR1, TFP3, ATP15, RT...</td>\n",
       "      <td>[TRK1, CTR1, GUP1, HXT12, AQR1, TFP3, ATP15, R...</td>\n",
       "      <td>NaN</td>\n",
       "    </tr>\n",
       "  </tbody>\n",
       "</table>\n",
       "</div>"
      ],
      "text/plain": [
       "     0                                        1  \\\n",
       "0  1.0                        Secretory pathway   \n",
       "1  2.0                  Transcription complexes   \n",
       "2  3.0  Ubiquitin-dependent proteolytic pathway   \n",
       "3  4.0                   Mitochondrial function   \n",
       "4  5.0                             Transporters   \n",
       "\n",
       "                                                   2  \\\n",
       "0  VMA3/CUP5, VPS67/VPS51, SAC2/VPS52, VPS53, LUV...   \n",
       "1                      CCR4, TAF14, MOT2, POP2, SNF4   \n",
       "2                      MEP2, RPN4, DEF1, UBP3, BRE5,   \n",
       "3            AFG3, MGM101, MRPL27, MMT2, AIM13/MCS19   \n",
       "4  TRK1, CTR1, GUP1, HXT12, AQR1, TFP3, ATP15, RT...   \n",
       "\n",
       "                                                   3   3  \n",
       "0  [VMA3, VPS67, SAC2, VPS53, LUV1, SEC22, PEP12,... NaN  \n",
       "1                    [CCR4, TAF14, MOT2, POP2, SNF4] NaN  \n",
       "2                   [MEP2, RPN4, DEF1, UBP3, BRE5, ] NaN  \n",
       "3                [AFG3, MGM101, MRPL27, MMT2, AIM13] NaN  \n",
       "4  [TRK1, CTR1, GUP1, HXT12, AQR1, TFP3, ATP15, R... NaN  "
      ]
     },
     "execution_count": 23,
     "metadata": {},
     "output_type": "execute_result"
    }
   ],
   "source": [
    "original_data.head()"
   ]
  },
  {
   "cell_type": "code",
   "execution_count": 26,
   "metadata": {},
   "outputs": [],
   "source": [
    "hit_list = list(itertools.chain.from_iterable(original_data[3]))"
   ]
  },
  {
   "cell_type": "code",
   "execution_count": 30,
   "metadata": {},
   "outputs": [],
   "source": [
    "original_data2 = pd.DataFrame(data={'genes': hit_list,'data': np.zeros(len(hit_list))-1})"
   ]
  },
  {
   "cell_type": "code",
   "execution_count": 32,
   "metadata": {},
   "outputs": [],
   "source": [
    "original_data2['genes'] = original_data2['genes'].astype(str)"
   ]
  },
  {
   "cell_type": "code",
   "execution_count": 33,
   "metadata": {},
   "outputs": [],
   "source": [
    "# Eliminate all white spaces & capitalize\n",
    "original_data2['genes'] = clean_genename(original_data2['genes'])"
   ]
  },
  {
   "cell_type": "code",
   "execution_count": 34,
   "metadata": {},
   "outputs": [],
   "source": [
    "# Translate to ORFs \n",
    "original_data2['orf'] = translate_sc(original_data2['genes'], to='orf')"
   ]
  },
  {
   "cell_type": "code",
   "execution_count": 35,
   "metadata": {},
   "outputs": [
    {
     "name": "stdout",
     "output_type": "stream",
     "text": [
      "             genes  data    orf\n",
      "index_input                    \n",
      "22                  -1.0       \n",
      "33                  -1.0       \n",
      "42           HXT12  -1.0  HXT12\n",
      "60            SDL1  -1.0   SDL1\n"
     ]
    }
   ],
   "source": [
    "# Make sure everything translated ok\n",
    "t = looks_like_orf(original_data2['orf'])\n",
    "print(original_data2.loc[~t,])"
   ]
  },
  {
   "cell_type": "code",
   "execution_count": 36,
   "metadata": {},
   "outputs": [],
   "source": [
    "original_data2 = original_data2.loc[t,:]"
   ]
  },
  {
   "cell_type": "code",
   "execution_count": 37,
   "metadata": {},
   "outputs": [],
   "source": [
    "original_data2.set_index('orf', inplace=True)"
   ]
  },
  {
   "cell_type": "code",
   "execution_count": 38,
   "metadata": {},
   "outputs": [],
   "source": [
    "original_data2 = original_data2[['data']].copy()"
   ]
  },
  {
   "cell_type": "code",
   "execution_count": 39,
   "metadata": {},
   "outputs": [],
   "source": [
    "original_data2 = original_data2.groupby(original_data2.index).mean()"
   ]
  },
  {
   "cell_type": "code",
   "execution_count": 40,
   "metadata": {},
   "outputs": [
    {
     "data": {
      "text/plain": [
       "(81, 1)"
      ]
     },
     "execution_count": 40,
     "metadata": {},
     "output_type": "execute_result"
    }
   ],
   "source": [
    "original_data2.shape"
   ]
  },
  {
   "cell_type": "markdown",
   "metadata": {},
   "source": [
    "# Prepare the final dataset"
   ]
  },
  {
   "cell_type": "code",
   "execution_count": 41,
   "metadata": {},
   "outputs": [],
   "source": [
    "data = original_data2.copy()"
   ]
  },
  {
   "cell_type": "code",
   "execution_count": 42,
   "metadata": {},
   "outputs": [],
   "source": [
    "dataset_ids = [4955]\n",
    "datasets = datasets.reindex(index=dataset_ids)"
   ]
  },
  {
   "cell_type": "code",
   "execution_count": 43,
   "metadata": {},
   "outputs": [],
   "source": [
    "lst = [datasets.index.values, ['value']*datasets.shape[0]]\n",
    "tuples = list(zip(*lst))\n",
    "idx = pd.MultiIndex.from_tuples(tuples, names=['dataset_id','data_type'])\n",
    "data.columns = idx"
   ]
  },
  {
   "cell_type": "code",
   "execution_count": 44,
   "metadata": {},
   "outputs": [
    {
     "data": {
      "text/html": [
       "<div>\n",
       "<style scoped>\n",
       "    .dataframe tbody tr th:only-of-type {\n",
       "        vertical-align: middle;\n",
       "    }\n",
       "\n",
       "    .dataframe tbody tr th {\n",
       "        vertical-align: top;\n",
       "    }\n",
       "\n",
       "    .dataframe thead tr th {\n",
       "        text-align: left;\n",
       "    }\n",
       "\n",
       "    .dataframe thead tr:last-of-type th {\n",
       "        text-align: right;\n",
       "    }\n",
       "</style>\n",
       "<table border=\"1\" class=\"dataframe\">\n",
       "  <thead>\n",
       "    <tr>\n",
       "      <th>dataset_id</th>\n",
       "      <th>4955</th>\n",
       "    </tr>\n",
       "    <tr>\n",
       "      <th>data_type</th>\n",
       "      <th>value</th>\n",
       "    </tr>\n",
       "    <tr>\n",
       "      <th>orf</th>\n",
       "      <th></th>\n",
       "    </tr>\n",
       "  </thead>\n",
       "  <tbody>\n",
       "    <tr>\n",
       "      <th>YAL021C</th>\n",
       "      <td>-1.0</td>\n",
       "    </tr>\n",
       "    <tr>\n",
       "      <th>YAL047C</th>\n",
       "      <td>-1.0</td>\n",
       "    </tr>\n",
       "    <tr>\n",
       "      <th>YBL024W</th>\n",
       "      <td>-1.0</td>\n",
       "    </tr>\n",
       "    <tr>\n",
       "      <th>YBR077C</th>\n",
       "      <td>-1.0</td>\n",
       "    </tr>\n",
       "    <tr>\n",
       "      <th>YBR140C</th>\n",
       "      <td>-1.0</td>\n",
       "    </tr>\n",
       "  </tbody>\n",
       "</table>\n",
       "</div>"
      ],
      "text/plain": [
       "dataset_id  4955\n",
       "data_type  value\n",
       "orf             \n",
       "YAL021C     -1.0\n",
       "YAL047C     -1.0\n",
       "YBL024W     -1.0\n",
       "YBR077C     -1.0\n",
       "YBR140C     -1.0"
      ]
     },
     "execution_count": 44,
     "metadata": {},
     "output_type": "execute_result"
    }
   ],
   "source": [
    "data.head()"
   ]
  },
  {
   "cell_type": "markdown",
   "metadata": {},
   "source": [
    "## Subset to the genes currently in SGD"
   ]
  },
  {
   "cell_type": "code",
   "execution_count": 45,
   "metadata": {},
   "outputs": [
    {
     "name": "stdout",
     "output_type": "stream",
     "text": [
      "ORFs missing from SGD: 0\n"
     ]
    }
   ],
   "source": [
    "genes = pd.read_csv(path_to_genes, sep='\\t', index_col='id')\n",
    "genes = genes.reset_index().set_index('systematic_name')\n",
    "gene_ids = genes.reindex(index=data.index.values)['id'].values\n",
    "num_missing = np.sum(np.isnan(gene_ids))\n",
    "print('ORFs missing from SGD: %d' % num_missing)"
   ]
  },
  {
   "cell_type": "code",
   "execution_count": 46,
   "metadata": {},
   "outputs": [
    {
     "data": {
      "text/html": [
       "<div>\n",
       "<style scoped>\n",
       "    .dataframe tbody tr th:only-of-type {\n",
       "        vertical-align: middle;\n",
       "    }\n",
       "\n",
       "    .dataframe tbody tr th {\n",
       "        vertical-align: top;\n",
       "    }\n",
       "\n",
       "    .dataframe thead tr th {\n",
       "        text-align: left;\n",
       "    }\n",
       "\n",
       "    .dataframe thead tr:last-of-type th {\n",
       "        text-align: right;\n",
       "    }\n",
       "</style>\n",
       "<table border=\"1\" class=\"dataframe\">\n",
       "  <thead>\n",
       "    <tr>\n",
       "      <th></th>\n",
       "      <th>dataset_id</th>\n",
       "      <th>4955</th>\n",
       "    </tr>\n",
       "    <tr>\n",
       "      <th></th>\n",
       "      <th>data_type</th>\n",
       "      <th>value</th>\n",
       "    </tr>\n",
       "    <tr>\n",
       "      <th>gene_id</th>\n",
       "      <th>orf</th>\n",
       "      <th></th>\n",
       "    </tr>\n",
       "  </thead>\n",
       "  <tbody>\n",
       "    <tr>\n",
       "      <th>19</th>\n",
       "      <th>YAL021C</th>\n",
       "      <td>-1.0</td>\n",
       "    </tr>\n",
       "    <tr>\n",
       "      <th>45</th>\n",
       "      <th>YAL047C</th>\n",
       "      <td>-1.0</td>\n",
       "    </tr>\n",
       "    <tr>\n",
       "      <th>112</th>\n",
       "      <th>YBL024W</th>\n",
       "      <td>-1.0</td>\n",
       "    </tr>\n",
       "    <tr>\n",
       "      <th>272</th>\n",
       "      <th>YBR077C</th>\n",
       "      <td>-1.0</td>\n",
       "    </tr>\n",
       "    <tr>\n",
       "      <th>334</th>\n",
       "      <th>YBR140C</th>\n",
       "      <td>-1.0</td>\n",
       "    </tr>\n",
       "  </tbody>\n",
       "</table>\n",
       "</div>"
      ],
      "text/plain": [
       "dataset_id       4955\n",
       "data_type       value\n",
       "gene_id orf          \n",
       "19      YAL021C  -1.0\n",
       "45      YAL047C  -1.0\n",
       "112     YBL024W  -1.0\n",
       "272     YBR077C  -1.0\n",
       "334     YBR140C  -1.0"
      ]
     },
     "execution_count": 46,
     "metadata": {},
     "output_type": "execute_result"
    }
   ],
   "source": [
    "data['gene_id'] = gene_ids\n",
    "data = data.loc[data['gene_id'].notnull()]\n",
    "data['gene_id'] = data['gene_id'].astype(int)\n",
    "data = data.reset_index().set_index(['gene_id','orf'])\n",
    "\n",
    "data.head()"
   ]
  },
  {
   "cell_type": "markdown",
   "metadata": {},
   "source": [
    "# Normalize"
   ]
  },
  {
   "cell_type": "code",
   "execution_count": 47,
   "metadata": {},
   "outputs": [],
   "source": [
    "data_norm = normalize_phenotypic_scores(data, has_tested=False)"
   ]
  },
  {
   "cell_type": "code",
   "execution_count": 48,
   "metadata": {},
   "outputs": [],
   "source": [
    "# Assign proper column names\n",
    "lst = [datasets.index.values, ['valuez']*datasets.shape[0]]\n",
    "tuples = list(zip(*lst))\n",
    "idx = pd.MultiIndex.from_tuples(tuples, names=['dataset_id','data_type'])\n",
    "data_norm.columns = idx"
   ]
  },
  {
   "cell_type": "code",
   "execution_count": 49,
   "metadata": {},
   "outputs": [
    {
     "data": {
      "text/html": [
       "<div>\n",
       "<style scoped>\n",
       "    .dataframe tbody tr th:only-of-type {\n",
       "        vertical-align: middle;\n",
       "    }\n",
       "\n",
       "    .dataframe tbody tr th {\n",
       "        vertical-align: top;\n",
       "    }\n",
       "\n",
       "    .dataframe thead tr th {\n",
       "        text-align: left;\n",
       "    }\n",
       "\n",
       "    .dataframe thead tr:last-of-type th {\n",
       "        text-align: right;\n",
       "    }\n",
       "</style>\n",
       "<table border=\"1\" class=\"dataframe\">\n",
       "  <thead>\n",
       "    <tr>\n",
       "      <th></th>\n",
       "      <th>dataset_id</th>\n",
       "      <th colspan=\"2\" halign=\"left\">4955</th>\n",
       "    </tr>\n",
       "    <tr>\n",
       "      <th></th>\n",
       "      <th>data_type</th>\n",
       "      <th>value</th>\n",
       "      <th>valuez</th>\n",
       "    </tr>\n",
       "    <tr>\n",
       "      <th>gene_id</th>\n",
       "      <th>orf</th>\n",
       "      <th></th>\n",
       "      <th></th>\n",
       "    </tr>\n",
       "  </thead>\n",
       "  <tbody>\n",
       "    <tr>\n",
       "      <th>19</th>\n",
       "      <th>YAL021C</th>\n",
       "      <td>-1.0</td>\n",
       "      <td>-7.500617</td>\n",
       "    </tr>\n",
       "    <tr>\n",
       "      <th>45</th>\n",
       "      <th>YAL047C</th>\n",
       "      <td>-1.0</td>\n",
       "      <td>-7.500617</td>\n",
       "    </tr>\n",
       "    <tr>\n",
       "      <th>112</th>\n",
       "      <th>YBL024W</th>\n",
       "      <td>-1.0</td>\n",
       "      <td>-7.500617</td>\n",
       "    </tr>\n",
       "    <tr>\n",
       "      <th>272</th>\n",
       "      <th>YBR077C</th>\n",
       "      <td>-1.0</td>\n",
       "      <td>-7.500617</td>\n",
       "    </tr>\n",
       "    <tr>\n",
       "      <th>334</th>\n",
       "      <th>YBR140C</th>\n",
       "      <td>-1.0</td>\n",
       "      <td>-7.500617</td>\n",
       "    </tr>\n",
       "  </tbody>\n",
       "</table>\n",
       "</div>"
      ],
      "text/plain": [
       "dataset_id       4955          \n",
       "data_type       value    valuez\n",
       "gene_id orf                    \n",
       "19      YAL021C  -1.0 -7.500617\n",
       "45      YAL047C  -1.0 -7.500617\n",
       "112     YBL024W  -1.0 -7.500617\n",
       "272     YBR077C  -1.0 -7.500617\n",
       "334     YBR140C  -1.0 -7.500617"
      ]
     },
     "execution_count": 49,
     "metadata": {},
     "output_type": "execute_result"
    }
   ],
   "source": [
    "data_norm[data.isnull()] = np.nan\n",
    "data_all = data.join(data_norm)\n",
    "\n",
    "data_all.head()"
   ]
  },
  {
   "cell_type": "markdown",
   "metadata": {},
   "source": [
    "# Print out"
   ]
  },
  {
   "cell_type": "code",
   "execution_count": 50,
   "metadata": {},
   "outputs": [],
   "source": [
    "for f in ['value','valuez']:\n",
    "    df = data_all.xs(f, level='data_type', axis=1).copy()\n",
    "    df.columns = datasets['name'].values\n",
    "    df = df.droplevel('gene_id', axis=0)\n",
    "    df.to_csv(paper_name + '_' + f + '.txt', sep='\\t')"
   ]
  },
  {
   "cell_type": "markdown",
   "metadata": {},
   "source": [
    "# Save to DB"
   ]
  },
  {
   "cell_type": "code",
   "execution_count": 51,
   "metadata": {},
   "outputs": [],
   "source": [
    "from IO.save_data_to_db3 import *"
   ]
  },
  {
   "cell_type": "code",
   "execution_count": 52,
   "metadata": {},
   "outputs": [
    {
     "name": "stderr",
     "output_type": "stream",
     "text": [
      "  0%|          | 0/1 [00:00<?, ?it/s]"
     ]
    },
    {
     "name": "stdout",
     "output_type": "stream",
     "text": [
      "Deleting all datasets for PMID 26324718...\n",
      "Inserting the new data...\n"
     ]
    },
    {
     "name": "stderr",
     "output_type": "stream",
     "text": [
      "100%|██████████| 1/1 [00:00<00:00,  3.83it/s]"
     ]
    },
    {
     "name": "stdout",
     "output_type": "stream",
     "text": [
      "Updating the data_modified_on field...\n"
     ]
    },
    {
     "name": "stderr",
     "output_type": "stream",
     "text": [
      "\n"
     ]
    }
   ],
   "source": [
    "save_data_to_db(data_all, paper_pmid)"
   ]
  },
  {
   "cell_type": "code",
   "execution_count": null,
   "metadata": {},
   "outputs": [],
   "source": []
  }
 ],
 "metadata": {
  "kernelspec": {
   "display_name": "yp-data",
   "language": "python",
   "name": "yp-data"
  },
  "language_info": {
   "codemirror_mode": {
    "name": "ipython",
    "version": 3
   },
   "file_extension": ".py",
   "mimetype": "text/x-python",
   "name": "python",
   "nbconvert_exporter": "python",
   "pygments_lexer": "ipython3",
   "version": "3.7.7"
  }
 },
 "nbformat": 4,
 "nbformat_minor": 4
}
