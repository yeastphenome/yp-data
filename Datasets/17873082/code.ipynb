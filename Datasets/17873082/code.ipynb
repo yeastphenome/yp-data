{
 "cells": [
  {
   "cell_type": "code",
   "execution_count": 1,
   "metadata": {},
   "outputs": [],
   "source": [
    "%run ../yp_utils.py"
   ]
  },
  {
   "cell_type": "markdown",
   "metadata": {},
   "source": [
    "# Initial setup"
   ]
  },
  {
   "cell_type": "code",
   "execution_count": 2,
   "metadata": {},
   "outputs": [],
   "source": [
    "paper_pmid = 17873082\n",
    "paper_name = 'botet_santos_2007' "
   ]
  },
  {
   "cell_type": "code",
   "execution_count": 3,
   "metadata": {},
   "outputs": [],
   "source": [
    "datasets = pd.read_csv('extras/YeastPhenome_' + str(paper_pmid) + '_datasets_list.txt', sep='\\t', header=None, names=['dataset_id', 'name'])"
   ]
  },
  {
   "cell_type": "code",
   "execution_count": 4,
   "metadata": {},
   "outputs": [],
   "source": [
    "datasets.set_index('dataset_id', inplace=True)"
   ]
  },
  {
   "cell_type": "markdown",
   "metadata": {},
   "source": [
    "# Load & process the data"
   ]
  },
  {
   "cell_type": "code",
   "execution_count": 51,
   "metadata": {},
   "outputs": [],
   "source": [
    "original_data = pd.read_excel('raw_data/1ScreenSULFA&MS&MS+PABA.xlsx', sheet_name='DATA')"
   ]
  },
  {
   "cell_type": "code",
   "execution_count": 52,
   "metadata": {},
   "outputs": [
    {
     "name": "stdout",
     "output_type": "stream",
     "text": [
      "Original data dimensions: 7270 x 41\n"
     ]
    }
   ],
   "source": [
    "print('Original data dimensions: %d x %d' % (original_data.shape))"
   ]
  },
  {
   "cell_type": "code",
   "execution_count": 53,
   "metadata": {},
   "outputs": [
    {
     "data": {
      "text/html": [
       "<div>\n",
       "<style scoped>\n",
       "    .dataframe tbody tr th:only-of-type {\n",
       "        vertical-align: middle;\n",
       "    }\n",
       "\n",
       "    .dataframe tbody tr th {\n",
       "        vertical-align: top;\n",
       "    }\n",
       "\n",
       "    .dataframe thead th {\n",
       "        text-align: right;\n",
       "    }\n",
       "</style>\n",
       "<table border=\"1\" class=\"dataframe\">\n",
       "  <thead>\n",
       "    <tr style=\"text-align: right;\">\n",
       "      <th></th>\n",
       "      <th>Record</th>\n",
       "      <th>Strain</th>\n",
       "      <th>Screen</th>\n",
       "      <th>N Screening</th>\n",
       "      <th>Plate</th>\n",
       "      <th>Chrom.</th>\n",
       "      <th>Row</th>\n",
       "      <th>Col.</th>\n",
       "      <th>Pos.</th>\n",
       "      <th>ORF</th>\n",
       "      <th>...</th>\n",
       "      <th>SULFA 0,1 mg/ml 120h</th>\n",
       "      <th>SULFA 0,2 mg/ml 120h</th>\n",
       "      <th>SMM 77h.2</th>\n",
       "      <th>SMM+PABA 2 µg/ml  77h</th>\n",
       "      <th>SULFA 0,1 mg/ml 77h.2</th>\n",
       "      <th>SULFA 0,1 mg/ml+PABA 2 µg/ml 77h</th>\n",
       "      <th>SMM 122h</th>\n",
       "      <th>SMM+PABA 2 µg/ml  122h</th>\n",
       "      <th>SULFA 0,1 mg/ml 122h</th>\n",
       "      <th>SULFA 0,1 mg/ml+PABA 2 µg/ml 122h</th>\n",
       "    </tr>\n",
       "  </thead>\n",
       "  <tbody>\n",
       "    <tr>\n",
       "      <th>0</th>\n",
       "      <td>NaN</td>\n",
       "      <td>NaN</td>\n",
       "      <td>S2</td>\n",
       "      <td>1.0</td>\n",
       "      <td>1.0</td>\n",
       "      <td>chr00_1</td>\n",
       "      <td>A</td>\n",
       "      <td>1.0</td>\n",
       "      <td>A01</td>\n",
       "      <td>NaN</td>\n",
       "      <td>...</td>\n",
       "      <td>NaN</td>\n",
       "      <td>NaN</td>\n",
       "      <td>NaN</td>\n",
       "      <td>NaN</td>\n",
       "      <td>NaN</td>\n",
       "      <td>NaN</td>\n",
       "      <td>NaN</td>\n",
       "      <td>NaN</td>\n",
       "      <td>NaN</td>\n",
       "      <td>NaN</td>\n",
       "    </tr>\n",
       "    <tr>\n",
       "      <th>1</th>\n",
       "      <td>15714.0</td>\n",
       "      <td>BY4742</td>\n",
       "      <td>S2</td>\n",
       "      <td>2.0</td>\n",
       "      <td>1.0</td>\n",
       "      <td>chr00_1</td>\n",
       "      <td>A</td>\n",
       "      <td>2.0</td>\n",
       "      <td>A02</td>\n",
       "      <td>YAL064C-A</td>\n",
       "      <td>...</td>\n",
       "      <td>NaN</td>\n",
       "      <td>NaN</td>\n",
       "      <td>NaN</td>\n",
       "      <td>NaN</td>\n",
       "      <td>NaN</td>\n",
       "      <td>NaN</td>\n",
       "      <td>NaN</td>\n",
       "      <td>NaN</td>\n",
       "      <td>NaN</td>\n",
       "      <td>NaN</td>\n",
       "    </tr>\n",
       "    <tr>\n",
       "      <th>2</th>\n",
       "      <td>NaN</td>\n",
       "      <td>NaN</td>\n",
       "      <td>S2</td>\n",
       "      <td>3.0</td>\n",
       "      <td>1.0</td>\n",
       "      <td>chr00_1</td>\n",
       "      <td>A</td>\n",
       "      <td>3.0</td>\n",
       "      <td>A03</td>\n",
       "      <td>NaN</td>\n",
       "      <td>...</td>\n",
       "      <td>NaN</td>\n",
       "      <td>NaN</td>\n",
       "      <td>NaN</td>\n",
       "      <td>NaN</td>\n",
       "      <td>NaN</td>\n",
       "      <td>NaN</td>\n",
       "      <td>NaN</td>\n",
       "      <td>NaN</td>\n",
       "      <td>NaN</td>\n",
       "      <td>NaN</td>\n",
       "    </tr>\n",
       "    <tr>\n",
       "      <th>3</th>\n",
       "      <td>15716.0</td>\n",
       "      <td>BY4742</td>\n",
       "      <td>S2</td>\n",
       "      <td>4.0</td>\n",
       "      <td>1.0</td>\n",
       "      <td>chr00_1</td>\n",
       "      <td>A</td>\n",
       "      <td>4.0</td>\n",
       "      <td>A04</td>\n",
       "      <td>YBL091C-A</td>\n",
       "      <td>...</td>\n",
       "      <td>NaN</td>\n",
       "      <td>NaN</td>\n",
       "      <td>NaN</td>\n",
       "      <td>NaN</td>\n",
       "      <td>NaN</td>\n",
       "      <td>NaN</td>\n",
       "      <td>NaN</td>\n",
       "      <td>NaN</td>\n",
       "      <td>NaN</td>\n",
       "      <td>NaN</td>\n",
       "    </tr>\n",
       "    <tr>\n",
       "      <th>4</th>\n",
       "      <td>15717.0</td>\n",
       "      <td>BY4742</td>\n",
       "      <td>S2</td>\n",
       "      <td>5.0</td>\n",
       "      <td>1.0</td>\n",
       "      <td>chr00_1</td>\n",
       "      <td>A</td>\n",
       "      <td>5.0</td>\n",
       "      <td>A05</td>\n",
       "      <td>YBR269C</td>\n",
       "      <td>...</td>\n",
       "      <td>NaN</td>\n",
       "      <td>NaN</td>\n",
       "      <td>NaN</td>\n",
       "      <td>NaN</td>\n",
       "      <td>NaN</td>\n",
       "      <td>NaN</td>\n",
       "      <td>NaN</td>\n",
       "      <td>NaN</td>\n",
       "      <td>NaN</td>\n",
       "      <td>NaN</td>\n",
       "    </tr>\n",
       "  </tbody>\n",
       "</table>\n",
       "<p>5 rows × 41 columns</p>\n",
       "</div>"
      ],
      "text/plain": [
       "    Record  Strain Screen  N Screening  Plate   Chrom. Row  Col. Pos.  \\\n",
       "0      NaN     NaN     S2          1.0    1.0  chr00_1   A   1.0  A01   \n",
       "1  15714.0  BY4742     S2          2.0    1.0  chr00_1   A   2.0  A02   \n",
       "2      NaN     NaN     S2          3.0    1.0  chr00_1   A   3.0  A03   \n",
       "3  15716.0  BY4742     S2          4.0    1.0  chr00_1   A   4.0  A04   \n",
       "4  15717.0  BY4742     S2          5.0    1.0  chr00_1   A   5.0  A05   \n",
       "\n",
       "         ORF  ... SULFA 0,1 mg/ml 120h SULFA 0,2 mg/ml 120h SMM 77h.2  \\\n",
       "0        NaN  ...                  NaN                  NaN       NaN   \n",
       "1  YAL064C-A  ...                  NaN                  NaN       NaN   \n",
       "2        NaN  ...                  NaN                  NaN       NaN   \n",
       "3  YBL091C-A  ...                  NaN                  NaN       NaN   \n",
       "4    YBR269C  ...                  NaN                  NaN       NaN   \n",
       "\n",
       "  SMM+PABA 2 µg/ml  77h  SULFA 0,1 mg/ml 77h.2  \\\n",
       "0                    NaN                   NaN   \n",
       "1                    NaN                   NaN   \n",
       "2                    NaN                   NaN   \n",
       "3                    NaN                   NaN   \n",
       "4                    NaN                   NaN   \n",
       "\n",
       "  SULFA 0,1 mg/ml+PABA 2 µg/ml 77h  SMM 122h SMM+PABA 2 µg/ml  122h   \\\n",
       "0                               NaN      NaN                     NaN   \n",
       "1                               NaN      NaN                     NaN   \n",
       "2                               NaN      NaN                     NaN   \n",
       "3                               NaN      NaN                     NaN   \n",
       "4                               NaN      NaN                     NaN   \n",
       "\n",
       "  SULFA 0,1 mg/ml 122h  SULFA 0,1 mg/ml+PABA 2 µg/ml 122h   \n",
       "0                  NaN                                 NaN  \n",
       "1                  NaN                                 NaN  \n",
       "2                  NaN                                 NaN  \n",
       "3                  NaN                                 NaN  \n",
       "4                  NaN                                 NaN  \n",
       "\n",
       "[5 rows x 41 columns]"
      ]
     },
     "execution_count": 53,
     "metadata": {},
     "output_type": "execute_result"
    }
   ],
   "source": [
    "original_data.head()"
   ]
  },
  {
   "cell_type": "code",
   "execution_count": 54,
   "metadata": {},
   "outputs": [],
   "source": [
    "original_data['orf'] = original_data['ORF'].astype(str)"
   ]
  },
  {
   "cell_type": "code",
   "execution_count": 55,
   "metadata": {},
   "outputs": [],
   "source": [
    "# Eliminate all white spaces & capitalize\n",
    "original_data['orf'] = clean_orf(original_data['orf'])"
   ]
  },
  {
   "cell_type": "code",
   "execution_count": 56,
   "metadata": {},
   "outputs": [],
   "source": [
    "original_data.loc[original_data['orf']=='YER050','orf'] = 'YER050C'"
   ]
  },
  {
   "cell_type": "code",
   "execution_count": 57,
   "metadata": {},
   "outputs": [],
   "source": [
    "# Translate to ORFs \n",
    "original_data['orf'] = translate_sc(original_data['orf'], to='orf')"
   ]
  },
  {
   "cell_type": "code",
   "execution_count": 58,
   "metadata": {},
   "outputs": [
    {
     "name": "stdout",
     "output_type": "stream",
     "text": [
      "             Record Strain Screen  N Screening  Plate   Chrom.  Row  Col.  \\\n",
      "index_input                                                                 \n",
      "0               NaN    NaN     S2          1.0    1.0  chr00_1    A   1.0   \n",
      "2               NaN    NaN     S2          3.0    1.0  chr00_1    A   3.0   \n",
      "5               NaN    NaN     S2          6.0    1.0  chr00_1    A   6.0   \n",
      "7               NaN    NaN     S2          8.0    1.0  chr00_1    A   8.0   \n",
      "10              1.0    NaN     S2         11.0    1.0  chr00_1    A  11.0   \n",
      "...             ...    ...    ...          ...    ...      ...  ...   ...   \n",
      "7265            NaN    NaN    NaN          NaN    NaN      NaN  NaN   NaN   \n",
      "7266            NaN    NaN    NaN          NaN    NaN      NaN  NaN   NaN   \n",
      "7267            NaN    NaN    NaN          NaN    NaN      NaN  NaN   NaN   \n",
      "7268            NaN    NaN    NaN          NaN    NaN      NaN  NaN   NaN   \n",
      "7269            NaN    NaN    NaN          NaN    NaN      NaN  NaN   NaN   \n",
      "\n",
      "               Pos.  ORF  ... SULFA 0,2 mg/ml 120h SMM 77h.2  \\\n",
      "index_input               ...                                  \n",
      "0               A01  NaN  ...                  NaN       NaN   \n",
      "2               A03  NaN  ...                  NaN       NaN   \n",
      "5               A06  NaN  ...                  NaN       NaN   \n",
      "7               A08  NaN  ...                  NaN       NaN   \n",
      "10           BY4742  NaN  ...                  NaN       NaN   \n",
      "...             ...  ...  ...                  ...       ...   \n",
      "7265            NaN  NaN  ...                0.082       NaN   \n",
      "7266            NaN  NaN  ...                0.517       NaN   \n",
      "7267            NaN  NaN  ...                0.071       NaN   \n",
      "7268            NaN  NaN  ...                0.554       NaN   \n",
      "7269            NaN  NaN  ...                0.072       NaN   \n",
      "\n",
      "            SMM+PABA 2 µg/ml  77h  SULFA 0,1 mg/ml 77h.2  \\\n",
      "index_input                                                \n",
      "0                              NaN                   NaN   \n",
      "2                              NaN                   NaN   \n",
      "5                              NaN                   NaN   \n",
      "7                              NaN                   NaN   \n",
      "10                             NaN                   NaN   \n",
      "...                            ...                   ...   \n",
      "7265                           NaN                   NaN   \n",
      "7266                           NaN                   NaN   \n",
      "7267                           NaN                   NaN   \n",
      "7268                           NaN                   NaN   \n",
      "7269                           NaN                   NaN   \n",
      "\n",
      "            SULFA 0,1 mg/ml+PABA 2 µg/ml 77h  SMM 122h  \\\n",
      "index_input                                              \n",
      "0                                         NaN      NaN   \n",
      "2                                         NaN      NaN   \n",
      "5                                         NaN      NaN   \n",
      "7                                         NaN      NaN   \n",
      "10                                        NaN      NaN   \n",
      "...                                       ...      ...   \n",
      "7265                                      NaN      NaN   \n",
      "7266                                      NaN      NaN   \n",
      "7267                                      NaN      NaN   \n",
      "7268                                      NaN      NaN   \n",
      "7269                                      NaN      NaN   \n",
      "\n",
      "            SMM+PABA 2 µg/ml  122h  SULFA 0,1 mg/ml 122h  \\\n",
      "index_input                                                \n",
      "0                               NaN                  NaN   \n",
      "2                               NaN                  NaN   \n",
      "5                               NaN                  NaN   \n",
      "7                               NaN                  NaN   \n",
      "10                              NaN                  NaN   \n",
      "...                             ...                  ...   \n",
      "7265                            NaN                  NaN   \n",
      "7266                            NaN                  NaN   \n",
      "7267                            NaN                  NaN   \n",
      "7268                            NaN                  NaN   \n",
      "7269                            NaN                  NaN   \n",
      "\n",
      "            SULFA 0,1 mg/ml+PABA 2 µg/ml 122h   orf  \n",
      "index_input                                          \n",
      "0                                          NaN  NAN  \n",
      "2                                          NaN  NAN  \n",
      "5                                          NaN  NAN  \n",
      "7                                          NaN  NAN  \n",
      "10                                         NaN  NAN  \n",
      "...                                        ...  ...  \n",
      "7265                                       NaN  NAN  \n",
      "7266                                       NaN  NAN  \n",
      "7267                                       NaN  NAN  \n",
      "7268                                       NaN  NAN  \n",
      "7269                                       NaN  NAN  \n",
      "\n",
      "[2402 rows x 42 columns]\n"
     ]
    }
   ],
   "source": [
    "# Make sure everything translated ok\n",
    "t = looks_like_orf(original_data['orf'])\n",
    "print(original_data.loc[~t,])"
   ]
  },
  {
   "cell_type": "code",
   "execution_count": 59,
   "metadata": {},
   "outputs": [],
   "source": [
    "original_data = original_data.loc[t,:]"
   ]
  },
  {
   "cell_type": "code",
   "execution_count": 60,
   "metadata": {},
   "outputs": [],
   "source": [
    "col_data = ['SMM 77h', 'SMM 120h', 'SULFA 0,1 mg/ml 77h', 'SULFA 0,1 mg/ml  120h']"
   ]
  },
  {
   "cell_type": "code",
   "execution_count": 61,
   "metadata": {},
   "outputs": [],
   "source": [
    "original_data.set_index('orf', inplace=True)"
   ]
  },
  {
   "cell_type": "code",
   "execution_count": 62,
   "metadata": {},
   "outputs": [],
   "source": [
    "original_data = original_data[col_data].copy()"
   ]
  },
  {
   "cell_type": "code",
   "execution_count": 63,
   "metadata": {},
   "outputs": [],
   "source": [
    "original_data = original_data.apply(pd.to_numeric, axis=1, errors='coerce')"
   ]
  },
  {
   "cell_type": "code",
   "execution_count": 64,
   "metadata": {},
   "outputs": [],
   "source": [
    "original_data = original_data.groupby(original_data.index).mean()"
   ]
  },
  {
   "cell_type": "code",
   "execution_count": 65,
   "metadata": {},
   "outputs": [
    {
     "data": {
      "text/plain": [
       "(4754, 4)"
      ]
     },
     "execution_count": 65,
     "metadata": {},
     "output_type": "execute_result"
    }
   ],
   "source": [
    "original_data.shape"
   ]
  },
  {
   "cell_type": "code",
   "execution_count": 66,
   "metadata": {},
   "outputs": [
    {
     "data": {
      "text/html": [
       "<div>\n",
       "<style scoped>\n",
       "    .dataframe tbody tr th:only-of-type {\n",
       "        vertical-align: middle;\n",
       "    }\n",
       "\n",
       "    .dataframe tbody tr th {\n",
       "        vertical-align: top;\n",
       "    }\n",
       "\n",
       "    .dataframe thead th {\n",
       "        text-align: right;\n",
       "    }\n",
       "</style>\n",
       "<table border=\"1\" class=\"dataframe\">\n",
       "  <thead>\n",
       "    <tr style=\"text-align: right;\">\n",
       "      <th></th>\n",
       "      <th>SMM 77h</th>\n",
       "      <th>SMM 120h</th>\n",
       "      <th>SULFA 0,1 mg/ml 77h</th>\n",
       "      <th>SULFA 0,1 mg/ml  120h</th>\n",
       "    </tr>\n",
       "    <tr>\n",
       "      <th>orf</th>\n",
       "      <th></th>\n",
       "      <th></th>\n",
       "      <th></th>\n",
       "      <th></th>\n",
       "    </tr>\n",
       "  </thead>\n",
       "  <tbody>\n",
       "    <tr>\n",
       "      <th>YAL002W</th>\n",
       "      <td>0.445</td>\n",
       "      <td>0.459</td>\n",
       "      <td>0.488</td>\n",
       "      <td>0.498</td>\n",
       "    </tr>\n",
       "    <tr>\n",
       "      <th>YAL004W</th>\n",
       "      <td>0.450</td>\n",
       "      <td>0.479</td>\n",
       "      <td>0.525</td>\n",
       "      <td>0.554</td>\n",
       "    </tr>\n",
       "    <tr>\n",
       "      <th>YAL005C</th>\n",
       "      <td>0.442</td>\n",
       "      <td>0.439</td>\n",
       "      <td>0.545</td>\n",
       "      <td>0.569</td>\n",
       "    </tr>\n",
       "    <tr>\n",
       "      <th>YAL007C</th>\n",
       "      <td>0.350</td>\n",
       "      <td>0.343</td>\n",
       "      <td>0.321</td>\n",
       "      <td>0.413</td>\n",
       "    </tr>\n",
       "    <tr>\n",
       "      <th>YAL008W</th>\n",
       "      <td>0.452</td>\n",
       "      <td>0.470</td>\n",
       "      <td>0.503</td>\n",
       "      <td>0.536</td>\n",
       "    </tr>\n",
       "  </tbody>\n",
       "</table>\n",
       "</div>"
      ],
      "text/plain": [
       "         SMM 77h  SMM 120h  SULFA 0,1 mg/ml 77h  SULFA 0,1 mg/ml  120h\n",
       "orf                                                                   \n",
       "YAL002W    0.445     0.459                0.488                  0.498\n",
       "YAL004W    0.450     0.479                0.525                  0.554\n",
       "YAL005C    0.442     0.439                0.545                  0.569\n",
       "YAL007C    0.350     0.343                0.321                  0.413\n",
       "YAL008W    0.452     0.470                0.503                  0.536"
      ]
     },
     "execution_count": 66,
     "metadata": {},
     "output_type": "execute_result"
    }
   ],
   "source": [
    "original_data.head()"
   ]
  },
  {
   "cell_type": "code",
   "execution_count": 67,
   "metadata": {},
   "outputs": [],
   "source": [
    "original_data['data1'] = original_data['SULFA 0,1 mg/ml 77h'] / original_data['SMM 77h']\n",
    "original_data['data2'] = original_data['SULFA 0,1 mg/ml  120h'] / original_data['SMM 120h']"
   ]
  },
  {
   "cell_type": "code",
   "execution_count": 68,
   "metadata": {},
   "outputs": [],
   "source": [
    "original_data = original_data[['data1','data2']].copy()"
   ]
  },
  {
   "cell_type": "markdown",
   "metadata": {},
   "source": [
    "# Prepare the final dataset"
   ]
  },
  {
   "cell_type": "code",
   "execution_count": 69,
   "metadata": {},
   "outputs": [],
   "source": [
    "data = original_data.copy()"
   ]
  },
  {
   "cell_type": "code",
   "execution_count": 70,
   "metadata": {},
   "outputs": [],
   "source": [
    "dataset_ids = [137, 244]\n",
    "datasets = datasets.reindex(index=dataset_ids)"
   ]
  },
  {
   "cell_type": "code",
   "execution_count": 71,
   "metadata": {},
   "outputs": [],
   "source": [
    "lst = [datasets.index.values, ['value']*datasets.shape[0]]\n",
    "tuples = list(zip(*lst))\n",
    "idx = pd.MultiIndex.from_tuples(tuples, names=['dataset_id','data_type'])\n",
    "data.columns = idx"
   ]
  },
  {
   "cell_type": "code",
   "execution_count": 72,
   "metadata": {},
   "outputs": [
    {
     "data": {
      "text/html": [
       "<div>\n",
       "<style scoped>\n",
       "    .dataframe tbody tr th:only-of-type {\n",
       "        vertical-align: middle;\n",
       "    }\n",
       "\n",
       "    .dataframe tbody tr th {\n",
       "        vertical-align: top;\n",
       "    }\n",
       "\n",
       "    .dataframe thead tr th {\n",
       "        text-align: left;\n",
       "    }\n",
       "\n",
       "    .dataframe thead tr:last-of-type th {\n",
       "        text-align: right;\n",
       "    }\n",
       "</style>\n",
       "<table border=\"1\" class=\"dataframe\">\n",
       "  <thead>\n",
       "    <tr>\n",
       "      <th>dataset_id</th>\n",
       "      <th>137</th>\n",
       "      <th>244</th>\n",
       "    </tr>\n",
       "    <tr>\n",
       "      <th>data_type</th>\n",
       "      <th>value</th>\n",
       "      <th>value</th>\n",
       "    </tr>\n",
       "    <tr>\n",
       "      <th>orf</th>\n",
       "      <th></th>\n",
       "      <th></th>\n",
       "    </tr>\n",
       "  </thead>\n",
       "  <tbody>\n",
       "    <tr>\n",
       "      <th>YAL002W</th>\n",
       "      <td>1.096629</td>\n",
       "      <td>1.084967</td>\n",
       "    </tr>\n",
       "    <tr>\n",
       "      <th>YAL004W</th>\n",
       "      <td>1.166667</td>\n",
       "      <td>1.156576</td>\n",
       "    </tr>\n",
       "    <tr>\n",
       "      <th>YAL005C</th>\n",
       "      <td>1.233032</td>\n",
       "      <td>1.296128</td>\n",
       "    </tr>\n",
       "    <tr>\n",
       "      <th>YAL007C</th>\n",
       "      <td>0.917143</td>\n",
       "      <td>1.204082</td>\n",
       "    </tr>\n",
       "    <tr>\n",
       "      <th>YAL008W</th>\n",
       "      <td>1.112832</td>\n",
       "      <td>1.140426</td>\n",
       "    </tr>\n",
       "  </tbody>\n",
       "</table>\n",
       "</div>"
      ],
      "text/plain": [
       "dataset_id       137       244\n",
       "data_type      value     value\n",
       "orf                           \n",
       "YAL002W     1.096629  1.084967\n",
       "YAL004W     1.166667  1.156576\n",
       "YAL005C     1.233032  1.296128\n",
       "YAL007C     0.917143  1.204082\n",
       "YAL008W     1.112832  1.140426"
      ]
     },
     "execution_count": 72,
     "metadata": {},
     "output_type": "execute_result"
    }
   ],
   "source": [
    "data.head()"
   ]
  },
  {
   "cell_type": "markdown",
   "metadata": {},
   "source": [
    "## Subset to the genes currently in SGD"
   ]
  },
  {
   "cell_type": "code",
   "execution_count": 73,
   "metadata": {},
   "outputs": [
    {
     "name": "stdout",
     "output_type": "stream",
     "text": [
      "ORFs missing from SGD: 23\n"
     ]
    }
   ],
   "source": [
    "genes = pd.read_csv(path_to_genes, sep='\\t', index_col='id')\n",
    "genes = genes.reset_index().set_index('systematic_name')\n",
    "gene_ids = genes.reindex(index=data.index.values)['id'].values\n",
    "num_missing = np.sum(np.isnan(gene_ids))\n",
    "print('ORFs missing from SGD: %d' % num_missing)"
   ]
  },
  {
   "cell_type": "code",
   "execution_count": 74,
   "metadata": {},
   "outputs": [
    {
     "data": {
      "text/html": [
       "<div>\n",
       "<style scoped>\n",
       "    .dataframe tbody tr th:only-of-type {\n",
       "        vertical-align: middle;\n",
       "    }\n",
       "\n",
       "    .dataframe tbody tr th {\n",
       "        vertical-align: top;\n",
       "    }\n",
       "\n",
       "    .dataframe thead tr th {\n",
       "        text-align: left;\n",
       "    }\n",
       "\n",
       "    .dataframe thead tr:last-of-type th {\n",
       "        text-align: right;\n",
       "    }\n",
       "</style>\n",
       "<table border=\"1\" class=\"dataframe\">\n",
       "  <thead>\n",
       "    <tr>\n",
       "      <th></th>\n",
       "      <th>dataset_id</th>\n",
       "      <th>137</th>\n",
       "      <th>244</th>\n",
       "    </tr>\n",
       "    <tr>\n",
       "      <th></th>\n",
       "      <th>data_type</th>\n",
       "      <th>value</th>\n",
       "      <th>value</th>\n",
       "    </tr>\n",
       "    <tr>\n",
       "      <th>gene_id</th>\n",
       "      <th>orf</th>\n",
       "      <th></th>\n",
       "      <th></th>\n",
       "    </tr>\n",
       "  </thead>\n",
       "  <tbody>\n",
       "    <tr>\n",
       "      <th>2</th>\n",
       "      <th>YAL002W</th>\n",
       "      <td>1.096629</td>\n",
       "      <td>1.084967</td>\n",
       "    </tr>\n",
       "    <tr>\n",
       "      <th>1863</th>\n",
       "      <th>YAL004W</th>\n",
       "      <td>1.166667</td>\n",
       "      <td>1.156576</td>\n",
       "    </tr>\n",
       "    <tr>\n",
       "      <th>4</th>\n",
       "      <th>YAL005C</th>\n",
       "      <td>1.233032</td>\n",
       "      <td>1.296128</td>\n",
       "    </tr>\n",
       "    <tr>\n",
       "      <th>5</th>\n",
       "      <th>YAL007C</th>\n",
       "      <td>0.917143</td>\n",
       "      <td>1.204082</td>\n",
       "    </tr>\n",
       "    <tr>\n",
       "      <th>6</th>\n",
       "      <th>YAL008W</th>\n",
       "      <td>1.112832</td>\n",
       "      <td>1.140426</td>\n",
       "    </tr>\n",
       "  </tbody>\n",
       "</table>\n",
       "</div>"
      ],
      "text/plain": [
       "dataset_id            137       244\n",
       "data_type           value     value\n",
       "gene_id orf                        \n",
       "2       YAL002W  1.096629  1.084967\n",
       "1863    YAL004W  1.166667  1.156576\n",
       "4       YAL005C  1.233032  1.296128\n",
       "5       YAL007C  0.917143  1.204082\n",
       "6       YAL008W  1.112832  1.140426"
      ]
     },
     "execution_count": 74,
     "metadata": {},
     "output_type": "execute_result"
    }
   ],
   "source": [
    "data['gene_id'] = gene_ids\n",
    "data = data.loc[data['gene_id'].notnull()]\n",
    "data['gene_id'] = data['gene_id'].astype(int)\n",
    "data = data.reset_index().set_index(['gene_id','orf'])\n",
    "\n",
    "data.head()"
   ]
  },
  {
   "cell_type": "markdown",
   "metadata": {},
   "source": [
    "# Normalize"
   ]
  },
  {
   "cell_type": "code",
   "execution_count": 75,
   "metadata": {},
   "outputs": [],
   "source": [
    "data_norm = normalize_phenotypic_scores(data, has_tested=True)"
   ]
  },
  {
   "cell_type": "code",
   "execution_count": 76,
   "metadata": {},
   "outputs": [],
   "source": [
    "# Assign proper column names\n",
    "lst = [datasets.index.values, ['valuez']*datasets.shape[0]]\n",
    "tuples = list(zip(*lst))\n",
    "idx = pd.MultiIndex.from_tuples(tuples, names=['dataset_id','data_type'])\n",
    "data_norm.columns = idx"
   ]
  },
  {
   "cell_type": "code",
   "execution_count": 77,
   "metadata": {},
   "outputs": [
    {
     "data": {
      "text/html": [
       "<div>\n",
       "<style scoped>\n",
       "    .dataframe tbody tr th:only-of-type {\n",
       "        vertical-align: middle;\n",
       "    }\n",
       "\n",
       "    .dataframe tbody tr th {\n",
       "        vertical-align: top;\n",
       "    }\n",
       "\n",
       "    .dataframe thead tr th {\n",
       "        text-align: left;\n",
       "    }\n",
       "\n",
       "    .dataframe thead tr:last-of-type th {\n",
       "        text-align: right;\n",
       "    }\n",
       "</style>\n",
       "<table border=\"1\" class=\"dataframe\">\n",
       "  <thead>\n",
       "    <tr>\n",
       "      <th></th>\n",
       "      <th>dataset_id</th>\n",
       "      <th>137</th>\n",
       "      <th>244</th>\n",
       "      <th>137</th>\n",
       "      <th>244</th>\n",
       "    </tr>\n",
       "    <tr>\n",
       "      <th></th>\n",
       "      <th>data_type</th>\n",
       "      <th>value</th>\n",
       "      <th>value</th>\n",
       "      <th>valuez</th>\n",
       "      <th>valuez</th>\n",
       "    </tr>\n",
       "    <tr>\n",
       "      <th>gene_id</th>\n",
       "      <th>orf</th>\n",
       "      <th></th>\n",
       "      <th></th>\n",
       "      <th></th>\n",
       "      <th></th>\n",
       "    </tr>\n",
       "  </thead>\n",
       "  <tbody>\n",
       "    <tr>\n",
       "      <th>2</th>\n",
       "      <th>YAL002W</th>\n",
       "      <td>1.096629</td>\n",
       "      <td>1.084967</td>\n",
       "      <td>0.213427</td>\n",
       "      <td>-0.245443</td>\n",
       "    </tr>\n",
       "    <tr>\n",
       "      <th>1863</th>\n",
       "      <th>YAL004W</th>\n",
       "      <td>1.166667</td>\n",
       "      <td>1.156576</td>\n",
       "      <td>0.561938</td>\n",
       "      <td>0.227904</td>\n",
       "    </tr>\n",
       "    <tr>\n",
       "      <th>4</th>\n",
       "      <th>YAL005C</th>\n",
       "      <td>1.233032</td>\n",
       "      <td>1.296128</td>\n",
       "      <td>0.892174</td>\n",
       "      <td>1.150362</td>\n",
       "    </tr>\n",
       "    <tr>\n",
       "      <th>5</th>\n",
       "      <th>YAL007C</th>\n",
       "      <td>0.917143</td>\n",
       "      <td>1.204082</td>\n",
       "      <td>-0.679707</td>\n",
       "      <td>0.541923</td>\n",
       "    </tr>\n",
       "    <tr>\n",
       "      <th>6</th>\n",
       "      <th>YAL008W</th>\n",
       "      <td>1.112832</td>\n",
       "      <td>1.140426</td>\n",
       "      <td>0.294053</td>\n",
       "      <td>0.121145</td>\n",
       "    </tr>\n",
       "  </tbody>\n",
       "</table>\n",
       "</div>"
      ],
      "text/plain": [
       "dataset_id            137       244       137       244\n",
       "data_type           value     value    valuez    valuez\n",
       "gene_id orf                                            \n",
       "2       YAL002W  1.096629  1.084967  0.213427 -0.245443\n",
       "1863    YAL004W  1.166667  1.156576  0.561938  0.227904\n",
       "4       YAL005C  1.233032  1.296128  0.892174  1.150362\n",
       "5       YAL007C  0.917143  1.204082 -0.679707  0.541923\n",
       "6       YAL008W  1.112832  1.140426  0.294053  0.121145"
      ]
     },
     "execution_count": 77,
     "metadata": {},
     "output_type": "execute_result"
    }
   ],
   "source": [
    "data_norm[data.isnull()] = np.nan\n",
    "data_all = data.join(data_norm)\n",
    "\n",
    "data_all.head()"
   ]
  },
  {
   "cell_type": "markdown",
   "metadata": {},
   "source": [
    "# Print out"
   ]
  },
  {
   "cell_type": "code",
   "execution_count": 78,
   "metadata": {},
   "outputs": [],
   "source": [
    "for f in ['value','valuez']:\n",
    "    df = data_all.xs(f, level='data_type', axis=1).copy()\n",
    "    df.columns = datasets['name'].values\n",
    "    df = df.droplevel('gene_id', axis=0)\n",
    "    df.to_csv(paper_name + '_' + f + '.txt', sep='\\t')"
   ]
  },
  {
   "cell_type": "markdown",
   "metadata": {},
   "source": [
    "# Save to DB"
   ]
  },
  {
   "cell_type": "code",
   "execution_count": 79,
   "metadata": {},
   "outputs": [],
   "source": [
    "from IO.save_data_to_db3 import *"
   ]
  },
  {
   "cell_type": "code",
   "execution_count": 80,
   "metadata": {},
   "outputs": [
    {
     "name": "stderr",
     "output_type": "stream",
     "text": [
      "  0%|          | 0/2 [00:00<?, ?it/s]"
     ]
    },
    {
     "name": "stdout",
     "output_type": "stream",
     "text": [
      "Deleting all datasets for PMID 17873082...\n",
      "Inserting the new data...\n"
     ]
    },
    {
     "name": "stderr",
     "output_type": "stream",
     "text": [
      "100%|██████████| 2/2 [00:13<00:00,  6.87s/it]"
     ]
    },
    {
     "name": "stdout",
     "output_type": "stream",
     "text": [
      "Updating the data_modified_on field...\n"
     ]
    },
    {
     "name": "stderr",
     "output_type": "stream",
     "text": [
      "\n"
     ]
    }
   ],
   "source": [
    "save_data_to_db(data_all, paper_pmid)"
   ]
  },
  {
   "cell_type": "code",
   "execution_count": null,
   "metadata": {},
   "outputs": [],
   "source": []
  }
 ],
 "metadata": {
  "kernelspec": {
   "display_name": "yp-data",
   "language": "python",
   "name": "yp-data"
  },
  "language_info": {
   "codemirror_mode": {
    "name": "ipython",
    "version": 3
   },
   "file_extension": ".py",
   "mimetype": "text/x-python",
   "name": "python",
   "nbconvert_exporter": "python",
   "pygments_lexer": "ipython3",
   "version": "3.7.7"
  }
 },
 "nbformat": 4,
 "nbformat_minor": 4
}
