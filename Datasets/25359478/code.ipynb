{
 "cells": [
  {
   "cell_type": "code",
   "execution_count": 1,
   "metadata": {},
   "outputs": [],
   "source": [
    "%run ../../Utils/yp_utils.py"
   ]
  },
  {
   "cell_type": "markdown",
   "metadata": {},
   "source": [
    "# Initial setup"
   ]
  },
  {
   "cell_type": "code",
   "execution_count": 2,
   "metadata": {},
   "outputs": [],
   "source": [
    "paper_pmid = 25359478\n",
    "paper_name = 'jayakody_kitagaki_2015' "
   ]
  },
  {
   "cell_type": "code",
   "execution_count": 3,
   "metadata": {},
   "outputs": [],
   "source": [
    "datasets = pd.read_csv('extras/YeastPhenome_' + str(paper_pmid) + '_datasets_list.txt', sep='\\t', header=None, names=['pmid', 'name'])"
   ]
  },
  {
   "cell_type": "code",
   "execution_count": 4,
   "metadata": {},
   "outputs": [],
   "source": [
    "datasets.set_index('pmid', inplace=True)"
   ]
  },
  {
   "cell_type": "markdown",
   "metadata": {},
   "source": [
    "# Load & process the data"
   ]
  },
  {
   "cell_type": "code",
   "execution_count": 5,
   "metadata": {},
   "outputs": [],
   "source": [
    "original_data = pd.read_excel('raw_data/Final results 1 fileLahiruscreening.xls', sheet_name='All screen data', skiprows=8)"
   ]
  },
  {
   "cell_type": "code",
   "execution_count": 6,
   "metadata": {},
   "outputs": [
    {
     "name": "stdout",
     "output_type": "stream",
     "text": [
      "Original data dimensions: 5139 x 6\n"
     ]
    }
   ],
   "source": [
    "print('Original data dimensions: %d x %d' % (original_data.shape))"
   ]
  },
  {
   "cell_type": "code",
   "execution_count": 7,
   "metadata": {},
   "outputs": [
    {
     "data": {
      "text/plain": [
       "Index(['Unnamed: 0', 'Unnamed: 1', 'Mutant ', 'SI AVG', 'SEM', 'Tscore'], dtype='object')"
      ]
     },
     "execution_count": 7,
     "metadata": {},
     "output_type": "execute_result"
    }
   ],
   "source": [
    "original_data.columns"
   ]
  },
  {
   "cell_type": "code",
   "execution_count": 8,
   "metadata": {},
   "outputs": [],
   "source": [
    "original_data['orfs'] = original_data['Mutant '].astype(str)"
   ]
  },
  {
   "cell_type": "code",
   "execution_count": 9,
   "metadata": {},
   "outputs": [],
   "source": [
    "# Eliminate all white spaces & capitalize\n",
    "original_data['orfs'] = clean_orf(original_data['orfs'])"
   ]
  },
  {
   "cell_type": "code",
   "execution_count": 10,
   "metadata": {},
   "outputs": [],
   "source": [
    "# Translate to ORFs \n",
    "original_data['orfs'] = translate_sc(original_data['orfs'], to='orf')"
   ]
  },
  {
   "cell_type": "code",
   "execution_count": 11,
   "metadata": {},
   "outputs": [
    {
     "name": "stdout",
     "output_type": "stream",
     "text": [
      "Empty DataFrame\n",
      "Columns: [Unnamed: 0, Unnamed: 1, Mutant , SI AVG, SEM, Tscore, orfs]\n",
      "Index: []\n"
     ]
    }
   ],
   "source": [
    "# Make sure everything translated ok\n",
    "t = looks_like_orf(original_data['orfs'])\n",
    "print(original_data.loc[~t,])"
   ]
  },
  {
   "cell_type": "code",
   "execution_count": 12,
   "metadata": {},
   "outputs": [],
   "source": [
    "original_data['data'] = original_data['SI AVG']"
   ]
  },
  {
   "cell_type": "code",
   "execution_count": 13,
   "metadata": {},
   "outputs": [],
   "source": [
    "original_data.set_index('orfs', inplace=True)"
   ]
  },
  {
   "cell_type": "code",
   "execution_count": 14,
   "metadata": {},
   "outputs": [],
   "source": [
    "original_data.index.name='orf'"
   ]
  },
  {
   "cell_type": "code",
   "execution_count": 15,
   "metadata": {},
   "outputs": [],
   "source": [
    "original_data['data'] = pd.to_numeric(original_data['data'], errors='coerce', downcast='float')"
   ]
  },
  {
   "cell_type": "code",
   "execution_count": 23,
   "metadata": {},
   "outputs": [],
   "source": [
    "original_data = original_data.groupby(original_data.index).mean()"
   ]
  },
  {
   "cell_type": "code",
   "execution_count": 24,
   "metadata": {},
   "outputs": [
    {
     "data": {
      "text/plain": [
       "(4301, 2)"
      ]
     },
     "execution_count": 24,
     "metadata": {},
     "output_type": "execute_result"
    }
   ],
   "source": [
    "original_data.shape"
   ]
  },
  {
   "cell_type": "markdown",
   "metadata": {},
   "source": [
    "# Prepare the final dataset"
   ]
  },
  {
   "cell_type": "code",
   "execution_count": 25,
   "metadata": {},
   "outputs": [],
   "source": [
    "data = original_data[['data']].copy()"
   ]
  },
  {
   "cell_type": "code",
   "execution_count": 26,
   "metadata": {},
   "outputs": [],
   "source": [
    "dataset_ids = [16610]\n",
    "datasets = datasets.reindex(index=dataset_ids)"
   ]
  },
  {
   "cell_type": "code",
   "execution_count": 27,
   "metadata": {},
   "outputs": [],
   "source": [
    "lst = [datasets.index.values, ['value']*datasets.shape[0]]\n",
    "tuples = list(zip(*lst))\n",
    "idx = pd.MultiIndex.from_tuples(tuples, names=['dataset_id','data_type'])\n",
    "data.columns = idx"
   ]
  },
  {
   "cell_type": "code",
   "execution_count": 28,
   "metadata": {},
   "outputs": [
    {
     "data": {
      "text/html": [
       "<div>\n",
       "<style scoped>\n",
       "    .dataframe tbody tr th:only-of-type {\n",
       "        vertical-align: middle;\n",
       "    }\n",
       "\n",
       "    .dataframe tbody tr th {\n",
       "        vertical-align: top;\n",
       "    }\n",
       "\n",
       "    .dataframe thead tr th {\n",
       "        text-align: left;\n",
       "    }\n",
       "\n",
       "    .dataframe thead tr:last-of-type th {\n",
       "        text-align: right;\n",
       "    }\n",
       "</style>\n",
       "<table border=\"1\" class=\"dataframe\">\n",
       "  <thead>\n",
       "    <tr>\n",
       "      <th>dataset_id</th>\n",
       "      <th>16610</th>\n",
       "    </tr>\n",
       "    <tr>\n",
       "      <th>data_type</th>\n",
       "      <th>value</th>\n",
       "    </tr>\n",
       "    <tr>\n",
       "      <th>orf</th>\n",
       "      <th></th>\n",
       "    </tr>\n",
       "  </thead>\n",
       "  <tbody>\n",
       "    <tr>\n",
       "      <th>YAL002W</th>\n",
       "      <td>0.957117</td>\n",
       "    </tr>\n",
       "    <tr>\n",
       "      <th>YAL004W</th>\n",
       "      <td>1.018766</td>\n",
       "    </tr>\n",
       "    <tr>\n",
       "      <th>YAL005C</th>\n",
       "      <td>0.980901</td>\n",
       "    </tr>\n",
       "    <tr>\n",
       "      <th>YAL007C</th>\n",
       "      <td>1.061417</td>\n",
       "    </tr>\n",
       "    <tr>\n",
       "      <th>YAL008W</th>\n",
       "      <td>0.994281</td>\n",
       "    </tr>\n",
       "  </tbody>\n",
       "</table>\n",
       "</div>"
      ],
      "text/plain": [
       "dataset_id     16610\n",
       "data_type      value\n",
       "orf                 \n",
       "YAL002W     0.957117\n",
       "YAL004W     1.018766\n",
       "YAL005C     0.980901\n",
       "YAL007C     1.061417\n",
       "YAL008W     0.994281"
      ]
     },
     "execution_count": 28,
     "metadata": {},
     "output_type": "execute_result"
    }
   ],
   "source": [
    "data.head()"
   ]
  },
  {
   "cell_type": "markdown",
   "metadata": {},
   "source": [
    "## Subset to the genes currently in SGD"
   ]
  },
  {
   "cell_type": "code",
   "execution_count": 29,
   "metadata": {},
   "outputs": [
    {
     "name": "stdout",
     "output_type": "stream",
     "text": [
      "ORFs missing from SGD: 20\n"
     ]
    }
   ],
   "source": [
    "genes = pd.read_csv(path_to_genes, sep='\\t', index_col='id')\n",
    "genes = genes.reset_index().set_index('systematic_name')\n",
    "gene_ids = genes.reindex(index=data.index.values)['id'].values\n",
    "num_missing = np.sum(np.isnan(gene_ids))\n",
    "print('ORFs missing from SGD: %d' % num_missing)"
   ]
  },
  {
   "cell_type": "code",
   "execution_count": 30,
   "metadata": {},
   "outputs": [
    {
     "data": {
      "text/html": [
       "<div>\n",
       "<style scoped>\n",
       "    .dataframe tbody tr th:only-of-type {\n",
       "        vertical-align: middle;\n",
       "    }\n",
       "\n",
       "    .dataframe tbody tr th {\n",
       "        vertical-align: top;\n",
       "    }\n",
       "\n",
       "    .dataframe thead tr th {\n",
       "        text-align: left;\n",
       "    }\n",
       "\n",
       "    .dataframe thead tr:last-of-type th {\n",
       "        text-align: right;\n",
       "    }\n",
       "</style>\n",
       "<table border=\"1\" class=\"dataframe\">\n",
       "  <thead>\n",
       "    <tr>\n",
       "      <th></th>\n",
       "      <th>dataset_id</th>\n",
       "      <th>16610</th>\n",
       "    </tr>\n",
       "    <tr>\n",
       "      <th></th>\n",
       "      <th>data_type</th>\n",
       "      <th>value</th>\n",
       "    </tr>\n",
       "    <tr>\n",
       "      <th>gene_id</th>\n",
       "      <th>orf</th>\n",
       "      <th></th>\n",
       "    </tr>\n",
       "  </thead>\n",
       "  <tbody>\n",
       "    <tr>\n",
       "      <th>2</th>\n",
       "      <th>YAL002W</th>\n",
       "      <td>0.957117</td>\n",
       "    </tr>\n",
       "    <tr>\n",
       "      <th>1863</th>\n",
       "      <th>YAL004W</th>\n",
       "      <td>1.018766</td>\n",
       "    </tr>\n",
       "    <tr>\n",
       "      <th>4</th>\n",
       "      <th>YAL005C</th>\n",
       "      <td>0.980901</td>\n",
       "    </tr>\n",
       "    <tr>\n",
       "      <th>5</th>\n",
       "      <th>YAL007C</th>\n",
       "      <td>1.061417</td>\n",
       "    </tr>\n",
       "    <tr>\n",
       "      <th>6</th>\n",
       "      <th>YAL008W</th>\n",
       "      <td>0.994281</td>\n",
       "    </tr>\n",
       "  </tbody>\n",
       "</table>\n",
       "</div>"
      ],
      "text/plain": [
       "dataset_id          16610\n",
       "data_type           value\n",
       "gene_id orf              \n",
       "2       YAL002W  0.957117\n",
       "1863    YAL004W  1.018766\n",
       "4       YAL005C  0.980901\n",
       "5       YAL007C  1.061417\n",
       "6       YAL008W  0.994281"
      ]
     },
     "execution_count": 30,
     "metadata": {},
     "output_type": "execute_result"
    }
   ],
   "source": [
    "data['gene_id'] = gene_ids\n",
    "data = data.loc[data['gene_id'].notnull()]\n",
    "data['gene_id'] = data['gene_id'].astype(int)\n",
    "data = data.reset_index().set_index(['gene_id','orf'])\n",
    "\n",
    "data.head()"
   ]
  },
  {
   "cell_type": "markdown",
   "metadata": {},
   "source": [
    "# Normalize"
   ]
  },
  {
   "cell_type": "code",
   "execution_count": 32,
   "metadata": {},
   "outputs": [],
   "source": [
    "data_norm = normalize_phenotypic_scores(data, has_tested=True)"
   ]
  },
  {
   "cell_type": "code",
   "execution_count": 33,
   "metadata": {},
   "outputs": [],
   "source": [
    "# Assign proper column names\n",
    "lst = [datasets.index.values, ['valuez']*datasets.shape[0]]\n",
    "tuples = list(zip(*lst))\n",
    "idx = pd.MultiIndex.from_tuples(tuples, names=['dataset_id','data_type'])\n",
    "data_norm.columns = idx"
   ]
  },
  {
   "cell_type": "code",
   "execution_count": 34,
   "metadata": {},
   "outputs": [
    {
     "data": {
      "text/html": [
       "<div>\n",
       "<style scoped>\n",
       "    .dataframe tbody tr th:only-of-type {\n",
       "        vertical-align: middle;\n",
       "    }\n",
       "\n",
       "    .dataframe tbody tr th {\n",
       "        vertical-align: top;\n",
       "    }\n",
       "\n",
       "    .dataframe thead tr th {\n",
       "        text-align: left;\n",
       "    }\n",
       "\n",
       "    .dataframe thead tr:last-of-type th {\n",
       "        text-align: right;\n",
       "    }\n",
       "</style>\n",
       "<table border=\"1\" class=\"dataframe\">\n",
       "  <thead>\n",
       "    <tr>\n",
       "      <th></th>\n",
       "      <th>dataset_id</th>\n",
       "      <th colspan=\"2\" halign=\"left\">16610</th>\n",
       "    </tr>\n",
       "    <tr>\n",
       "      <th></th>\n",
       "      <th>data_type</th>\n",
       "      <th>value</th>\n",
       "      <th>valuez</th>\n",
       "    </tr>\n",
       "    <tr>\n",
       "      <th>gene_id</th>\n",
       "      <th>orf</th>\n",
       "      <th></th>\n",
       "      <th></th>\n",
       "    </tr>\n",
       "  </thead>\n",
       "  <tbody>\n",
       "    <tr>\n",
       "      <th>2</th>\n",
       "      <th>YAL002W</th>\n",
       "      <td>0.957117</td>\n",
       "      <td>-0.413429</td>\n",
       "    </tr>\n",
       "    <tr>\n",
       "      <th>1863</th>\n",
       "      <th>YAL004W</th>\n",
       "      <td>1.018766</td>\n",
       "      <td>-0.084383</td>\n",
       "    </tr>\n",
       "    <tr>\n",
       "      <th>4</th>\n",
       "      <th>YAL005C</th>\n",
       "      <td>0.980901</td>\n",
       "      <td>-0.286482</td>\n",
       "    </tr>\n",
       "    <tr>\n",
       "      <th>5</th>\n",
       "      <th>YAL007C</th>\n",
       "      <td>1.061417</td>\n",
       "      <td>0.143262</td>\n",
       "    </tr>\n",
       "    <tr>\n",
       "      <th>6</th>\n",
       "      <th>YAL008W</th>\n",
       "      <td>0.994281</td>\n",
       "      <td>-0.215068</td>\n",
       "    </tr>\n",
       "  </tbody>\n",
       "</table>\n",
       "</div>"
      ],
      "text/plain": [
       "dataset_id          16610          \n",
       "data_type           value    valuez\n",
       "gene_id orf                        \n",
       "2       YAL002W  0.957117 -0.413429\n",
       "1863    YAL004W  1.018766 -0.084383\n",
       "4       YAL005C  0.980901 -0.286482\n",
       "5       YAL007C  1.061417  0.143262\n",
       "6       YAL008W  0.994281 -0.215068"
      ]
     },
     "execution_count": 34,
     "metadata": {},
     "output_type": "execute_result"
    }
   ],
   "source": [
    "data_norm[data.isnull()] = np.nan\n",
    "data_all = data.join(data_norm)\n",
    "\n",
    "data_all.head()"
   ]
  },
  {
   "cell_type": "markdown",
   "metadata": {},
   "source": [
    "# Print out"
   ]
  },
  {
   "cell_type": "code",
   "execution_count": 35,
   "metadata": {},
   "outputs": [],
   "source": [
    "for f in ['value','valuez']:\n",
    "    df = data_all.xs(f, level='data_type', axis=1).copy()\n",
    "    df.columns = datasets['name'].values\n",
    "    df = df.droplevel('gene_id', axis=0)\n",
    "    df.to_csv(paper_name + '_' + f + '.txt', sep='\\t')"
   ]
  },
  {
   "cell_type": "markdown",
   "metadata": {},
   "source": [
    "# Save to DB"
   ]
  },
  {
   "cell_type": "code",
   "execution_count": 36,
   "metadata": {},
   "outputs": [],
   "source": [
    "from IO.save_data_to_db3 import *"
   ]
  },
  {
   "cell_type": "code",
   "execution_count": 37,
   "metadata": {},
   "outputs": [
    {
     "name": "stderr",
     "output_type": "stream",
     "text": [
      "  0%|          | 0/1 [00:00<?, ?it/s]"
     ]
    },
    {
     "name": "stdout",
     "output_type": "stream",
     "text": [
      "Deleting all datasets for PMID 25359478...\n",
      "Inserting the new data...\n"
     ]
    },
    {
     "name": "stderr",
     "output_type": "stream",
     "text": [
      "100%|██████████| 1/1 [00:06<00:00,  6.84s/it]"
     ]
    },
    {
     "name": "stdout",
     "output_type": "stream",
     "text": [
      "Updating the data_modified_on field...\n"
     ]
    },
    {
     "name": "stderr",
     "output_type": "stream",
     "text": [
      "\n"
     ]
    }
   ],
   "source": [
    "save_data_to_db(data_all, paper_pmid)"
   ]
  },
  {
   "cell_type": "code",
   "execution_count": null,
   "metadata": {},
   "outputs": [],
   "source": []
  }
 ],
 "metadata": {
  "kernelspec": {
   "display_name": "yp-data",
   "language": "python",
   "name": "yp-data"
  },
  "language_info": {
   "codemirror_mode": {
    "name": "ipython",
    "version": 3
   },
   "file_extension": ".py",
   "mimetype": "text/x-python",
   "name": "python",
   "nbconvert_exporter": "python",
   "pygments_lexer": "ipython3",
   "version": "3.7.7"
  }
 },
 "nbformat": 4,
 "nbformat_minor": 4
}
