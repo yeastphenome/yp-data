{
 "cells": [
  {
   "cell_type": "code",
   "execution_count": 1,
   "metadata": {},
   "outputs": [],
   "source": [
    "%run ../../Utils/yp_utils.py"
   ]
  },
  {
   "cell_type": "markdown",
   "metadata": {},
   "source": [
    "# Initial setup"
   ]
  },
  {
   "cell_type": "code",
   "execution_count": 2,
   "metadata": {},
   "outputs": [],
   "source": [
    "paper_pmid = 25616894\n",
    "paper_name = 'junne_hoepfner_2015' "
   ]
  },
  {
   "cell_type": "code",
   "execution_count": 3,
   "metadata": {},
   "outputs": [],
   "source": [
    "datasets = pd.read_csv('extras/YeastPhenome_' + str(paper_pmid) + '_datasets_list.txt', sep='\\t', header=None, names=['dataset_id', 'name'])"
   ]
  },
  {
   "cell_type": "code",
   "execution_count": 4,
   "metadata": {},
   "outputs": [],
   "source": [
    "datasets.set_index('dataset_id', inplace=True)"
   ]
  },
  {
   "cell_type": "markdown",
   "metadata": {},
   "source": [
    "# Load & process the data"
   ]
  },
  {
   "cell_type": "code",
   "execution_count": 5,
   "metadata": {},
   "outputs": [],
   "source": [
    "sheet_names = ['Decatransin Cpd 1 Exp 1','Decatransin Cpd 2 Exp 2','Cotransin Cpd 2','Cotansin Cpd 3 (HUN-7293)']"
   ]
  },
  {
   "cell_type": "code",
   "execution_count": 7,
   "metadata": {},
   "outputs": [
    {
     "name": "stdout",
     "output_type": "stream",
     "text": [
      "Original data dimensions: 10122 x 7\n",
      "Empty DataFrame\n",
      "Columns: [EXPERIMENT_TYPE, GENE_NAME, SENSITIVITY SCORE, SCORE_TYPE, SYSTEMATIC_NAME, VIABILITY, Z_SCORE, orf]\n",
      "Index: []\n",
      "(5706, 1)\n",
      "(4400, 1)\n",
      "Original data dimensions: 10270 x 7\n",
      "Empty DataFrame\n",
      "Columns: [EXPERIMENT_TYPE, GENE_NAME, SENSITIVITY SCORE, SCORE_TYPE, SYSTEMATIC_NAME, VIABILITY, Z_SCORE, orf]\n",
      "Index: []\n",
      "(5755, 1)\n",
      "(4499, 1)\n",
      "Original data dimensions: 10254 x 7\n",
      "Empty DataFrame\n",
      "Columns: [EXPERIMENT_TYPE, GENE_NAME, SENSITIVITY SCORE, SCORE_TYPE, SYSTEMATIC_NAME, VIABILITY, Z_SCORE, orf]\n",
      "Index: []\n",
      "(5756, 1)\n",
      "(4482, 1)\n",
      "Original data dimensions: 10256 x 7\n",
      "Empty DataFrame\n",
      "Columns: [EXPERIMENT_TYPE, GENE_NAME, SENSITIVITY SCORE, SCORE_TYPE, SYSTEMATIC_NAME, VIABILITY, Z_SCORE, orf]\n",
      "Index: []\n",
      "(5744, 1)\n",
      "(4496, 1)\n"
     ]
    }
   ],
   "source": [
    "original_data1_list = []\n",
    "original_data2_list = []\n",
    "for s in sheet_names:\n",
    "    original_data = pd.read_excel('raw_data/Junnet_et_al_HIPHOPrawdata.xlsx', sheet_name=s)\n",
    "    print('Original data dimensions: %d x %d' % (original_data.shape))\n",
    "    original_data['orf'] = original_data['SYSTEMATIC_NAME'].astype(str)\n",
    "    original_data['orf'] = clean_orf(original_data['orf'])\n",
    "    original_data['orf'] = translate_sc(original_data['orf'], to='orf')\n",
    "    \n",
    "    # Make sure everything translated ok\n",
    "    t = looks_like_orf(original_data['orf'])\n",
    "    print(original_data.loc[~t,])\n",
    "    \n",
    "    original_data['data'] = original_data['Z_SCORE']\n",
    "    original_data.set_index('orf', inplace=True)\n",
    "    \n",
    "    original_data1 = original_data.loc[original_data['EXPERIMENT_TYPE']=='HIP',:].copy()\n",
    "    original_data2 = original_data.loc[original_data['EXPERIMENT_TYPE']=='HOP',:].copy()\n",
    "    \n",
    "    original_data1 = original_data1[['data']].copy()\n",
    "    original_data2 = original_data2[['data']].copy()\n",
    "    \n",
    "    original_data1 = original_data1.groupby(original_data1.index).mean()\n",
    "    original_data2 = original_data2.groupby(original_data2.index).mean()\n",
    "    \n",
    "    print(original_data1.shape)\n",
    "    print(original_data2.shape)\n",
    "    \n",
    "    original_data1_list.append(original_data1)\n",
    "    original_data2_list.append(original_data2)"
   ]
  },
  {
   "cell_type": "code",
   "execution_count": 17,
   "metadata": {},
   "outputs": [],
   "source": [
    "original_data1 = pd.concat(original_data1_list, axis=1)\n",
    "original_data2 = pd.concat(original_data2_list, axis=1)"
   ]
  },
  {
   "cell_type": "code",
   "execution_count": 18,
   "metadata": {},
   "outputs": [],
   "source": [
    "original_data1.columns = np.arange(4)\n",
    "original_data1[4] = original_data1[[0,1]].mean(axis=1)\n",
    "original_data1.drop(columns=[0,1], inplace=True)\n",
    "original_data1.head()"
   ]
  },
  {
   "cell_type": "code",
   "execution_count": 20,
   "metadata": {},
   "outputs": [
    {
     "data": {
      "text/html": [
       "<div>\n",
       "<style scoped>\n",
       "    .dataframe tbody tr th:only-of-type {\n",
       "        vertical-align: middle;\n",
       "    }\n",
       "\n",
       "    .dataframe tbody tr th {\n",
       "        vertical-align: top;\n",
       "    }\n",
       "\n",
       "    .dataframe thead th {\n",
       "        text-align: right;\n",
       "    }\n",
       "</style>\n",
       "<table border=\"1\" class=\"dataframe\">\n",
       "  <thead>\n",
       "    <tr style=\"text-align: right;\">\n",
       "      <th></th>\n",
       "      <th>2</th>\n",
       "      <th>3</th>\n",
       "      <th>4</th>\n",
       "    </tr>\n",
       "  </thead>\n",
       "  <tbody>\n",
       "    <tr>\n",
       "      <th>YAL001C</th>\n",
       "      <td>-0.077701</td>\n",
       "      <td>-2.199026</td>\n",
       "      <td>-2.274844</td>\n",
       "    </tr>\n",
       "    <tr>\n",
       "      <th>YAL002W</th>\n",
       "      <td>-0.076000</td>\n",
       "      <td>0.610906</td>\n",
       "      <td>-3.036789</td>\n",
       "    </tr>\n",
       "    <tr>\n",
       "      <th>YAL004W</th>\n",
       "      <td>-0.014744</td>\n",
       "      <td>-1.001728</td>\n",
       "      <td>-0.188456</td>\n",
       "    </tr>\n",
       "    <tr>\n",
       "      <th>YAL005C</th>\n",
       "      <td>0.310500</td>\n",
       "      <td>-1.278865</td>\n",
       "      <td>-0.020341</td>\n",
       "    </tr>\n",
       "    <tr>\n",
       "      <th>YAL007C</th>\n",
       "      <td>1.624255</td>\n",
       "      <td>0.133624</td>\n",
       "      <td>-0.715401</td>\n",
       "    </tr>\n",
       "  </tbody>\n",
       "</table>\n",
       "</div>"
      ],
      "text/plain": [
       "                2         3         4\n",
       "YAL001C -0.077701 -2.199026 -2.274844\n",
       "YAL002W -0.076000  0.610906 -3.036789\n",
       "YAL004W -0.014744 -1.001728 -0.188456\n",
       "YAL005C  0.310500 -1.278865 -0.020341\n",
       "YAL007C  1.624255  0.133624 -0.715401"
      ]
     },
     "execution_count": 20,
     "metadata": {},
     "output_type": "execute_result"
    }
   ],
   "source": [
    "original_data2.columns = np.arange(4)\n",
    "original_data2[4] = original_data2[[0,1]].mean(axis=1)\n",
    "original_data2.drop(columns=[0,1], inplace=True)\n",
    "original_data2.head()"
   ]
  },
  {
   "cell_type": "code",
   "execution_count": 21,
   "metadata": {},
   "outputs": [],
   "source": [
    "original_data = original_data1.join(original_data2, lsuffix='_1', rsuffix='_2')"
   ]
  },
  {
   "cell_type": "code",
   "execution_count": 24,
   "metadata": {},
   "outputs": [],
   "source": [
    "original_data.index.name='orf'"
   ]
  },
  {
   "cell_type": "code",
   "execution_count": 25,
   "metadata": {},
   "outputs": [
    {
     "data": {
      "text/html": [
       "<div>\n",
       "<style scoped>\n",
       "    .dataframe tbody tr th:only-of-type {\n",
       "        vertical-align: middle;\n",
       "    }\n",
       "\n",
       "    .dataframe tbody tr th {\n",
       "        vertical-align: top;\n",
       "    }\n",
       "\n",
       "    .dataframe thead th {\n",
       "        text-align: right;\n",
       "    }\n",
       "</style>\n",
       "<table border=\"1\" class=\"dataframe\">\n",
       "  <thead>\n",
       "    <tr style=\"text-align: right;\">\n",
       "      <th></th>\n",
       "      <th>2_1</th>\n",
       "      <th>3_1</th>\n",
       "      <th>4_1</th>\n",
       "      <th>2_2</th>\n",
       "      <th>3_2</th>\n",
       "      <th>4_2</th>\n",
       "    </tr>\n",
       "    <tr>\n",
       "      <th>orf</th>\n",
       "      <th></th>\n",
       "      <th></th>\n",
       "      <th></th>\n",
       "      <th></th>\n",
       "      <th></th>\n",
       "      <th></th>\n",
       "    </tr>\n",
       "  </thead>\n",
       "  <tbody>\n",
       "    <tr>\n",
       "      <th>YAL001C</th>\n",
       "      <td>0.026759</td>\n",
       "      <td>-0.574845</td>\n",
       "      <td>0.076030</td>\n",
       "      <td>-0.077701</td>\n",
       "      <td>-2.199026</td>\n",
       "      <td>-2.274844</td>\n",
       "    </tr>\n",
       "    <tr>\n",
       "      <th>YAL002W</th>\n",
       "      <td>0.053244</td>\n",
       "      <td>-1.485876</td>\n",
       "      <td>0.006303</td>\n",
       "      <td>-0.076000</td>\n",
       "      <td>0.610906</td>\n",
       "      <td>-3.036789</td>\n",
       "    </tr>\n",
       "    <tr>\n",
       "      <th>YAL003W</th>\n",
       "      <td>0.080687</td>\n",
       "      <td>-0.483062</td>\n",
       "      <td>0.286196</td>\n",
       "      <td>NaN</td>\n",
       "      <td>NaN</td>\n",
       "      <td>NaN</td>\n",
       "    </tr>\n",
       "    <tr>\n",
       "      <th>YAL004W</th>\n",
       "      <td>-0.369822</td>\n",
       "      <td>-1.214900</td>\n",
       "      <td>0.221975</td>\n",
       "      <td>-0.014744</td>\n",
       "      <td>-1.001728</td>\n",
       "      <td>-0.188456</td>\n",
       "    </tr>\n",
       "    <tr>\n",
       "      <th>YAL005C</th>\n",
       "      <td>0.171241</td>\n",
       "      <td>0.224126</td>\n",
       "      <td>0.269686</td>\n",
       "      <td>0.310500</td>\n",
       "      <td>-1.278865</td>\n",
       "      <td>-0.020341</td>\n",
       "    </tr>\n",
       "  </tbody>\n",
       "</table>\n",
       "</div>"
      ],
      "text/plain": [
       "              2_1       3_1       4_1       2_2       3_2       4_2\n",
       "orf                                                                \n",
       "YAL001C  0.026759 -0.574845  0.076030 -0.077701 -2.199026 -2.274844\n",
       "YAL002W  0.053244 -1.485876  0.006303 -0.076000  0.610906 -3.036789\n",
       "YAL003W  0.080687 -0.483062  0.286196       NaN       NaN       NaN\n",
       "YAL004W -0.369822 -1.214900  0.221975 -0.014744 -1.001728 -0.188456\n",
       "YAL005C  0.171241  0.224126  0.269686  0.310500 -1.278865 -0.020341"
      ]
     },
     "execution_count": 25,
     "metadata": {},
     "output_type": "execute_result"
    }
   ],
   "source": [
    "original_data.head()"
   ]
  },
  {
   "cell_type": "markdown",
   "metadata": {},
   "source": [
    "# Prepare the final dataset"
   ]
  },
  {
   "cell_type": "code",
   "execution_count": 27,
   "metadata": {},
   "outputs": [],
   "source": [
    "data = original_data.copy()"
   ]
  },
  {
   "cell_type": "code",
   "execution_count": 28,
   "metadata": {},
   "outputs": [],
   "source": [
    "dataset_ids = [5265,5267,773,5264,5266,772]\n",
    "datasets = datasets.reindex(index=dataset_ids)"
   ]
  },
  {
   "cell_type": "code",
   "execution_count": 29,
   "metadata": {},
   "outputs": [],
   "source": [
    "lst = [datasets.index.values, ['value']*datasets.shape[0]]\n",
    "tuples = list(zip(*lst))\n",
    "idx = pd.MultiIndex.from_tuples(tuples, names=['dataset_id','data_type'])\n",
    "data.columns = idx"
   ]
  },
  {
   "cell_type": "code",
   "execution_count": 30,
   "metadata": {},
   "outputs": [
    {
     "data": {
      "text/html": [
       "<div>\n",
       "<style scoped>\n",
       "    .dataframe tbody tr th:only-of-type {\n",
       "        vertical-align: middle;\n",
       "    }\n",
       "\n",
       "    .dataframe tbody tr th {\n",
       "        vertical-align: top;\n",
       "    }\n",
       "\n",
       "    .dataframe thead tr th {\n",
       "        text-align: left;\n",
       "    }\n",
       "\n",
       "    .dataframe thead tr:last-of-type th {\n",
       "        text-align: right;\n",
       "    }\n",
       "</style>\n",
       "<table border=\"1\" class=\"dataframe\">\n",
       "  <thead>\n",
       "    <tr>\n",
       "      <th>dataset_id</th>\n",
       "      <th>5265</th>\n",
       "      <th>5267</th>\n",
       "      <th>773</th>\n",
       "      <th>5264</th>\n",
       "      <th>5266</th>\n",
       "      <th>772</th>\n",
       "    </tr>\n",
       "    <tr>\n",
       "      <th>data_type</th>\n",
       "      <th>value</th>\n",
       "      <th>value</th>\n",
       "      <th>value</th>\n",
       "      <th>value</th>\n",
       "      <th>value</th>\n",
       "      <th>value</th>\n",
       "    </tr>\n",
       "    <tr>\n",
       "      <th>orf</th>\n",
       "      <th></th>\n",
       "      <th></th>\n",
       "      <th></th>\n",
       "      <th></th>\n",
       "      <th></th>\n",
       "      <th></th>\n",
       "    </tr>\n",
       "  </thead>\n",
       "  <tbody>\n",
       "    <tr>\n",
       "      <th>YAL001C</th>\n",
       "      <td>0.026759</td>\n",
       "      <td>-0.574845</td>\n",
       "      <td>0.076030</td>\n",
       "      <td>-0.077701</td>\n",
       "      <td>-2.199026</td>\n",
       "      <td>-2.274844</td>\n",
       "    </tr>\n",
       "    <tr>\n",
       "      <th>YAL002W</th>\n",
       "      <td>0.053244</td>\n",
       "      <td>-1.485876</td>\n",
       "      <td>0.006303</td>\n",
       "      <td>-0.076000</td>\n",
       "      <td>0.610906</td>\n",
       "      <td>-3.036789</td>\n",
       "    </tr>\n",
       "    <tr>\n",
       "      <th>YAL003W</th>\n",
       "      <td>0.080687</td>\n",
       "      <td>-0.483062</td>\n",
       "      <td>0.286196</td>\n",
       "      <td>NaN</td>\n",
       "      <td>NaN</td>\n",
       "      <td>NaN</td>\n",
       "    </tr>\n",
       "    <tr>\n",
       "      <th>YAL004W</th>\n",
       "      <td>-0.369822</td>\n",
       "      <td>-1.214900</td>\n",
       "      <td>0.221975</td>\n",
       "      <td>-0.014744</td>\n",
       "      <td>-1.001728</td>\n",
       "      <td>-0.188456</td>\n",
       "    </tr>\n",
       "    <tr>\n",
       "      <th>YAL005C</th>\n",
       "      <td>0.171241</td>\n",
       "      <td>0.224126</td>\n",
       "      <td>0.269686</td>\n",
       "      <td>0.310500</td>\n",
       "      <td>-1.278865</td>\n",
       "      <td>-0.020341</td>\n",
       "    </tr>\n",
       "  </tbody>\n",
       "</table>\n",
       "</div>"
      ],
      "text/plain": [
       "dataset_id      5265      5267      773       5264      5266      772 \n",
       "data_type      value     value     value     value     value     value\n",
       "orf                                                                   \n",
       "YAL001C     0.026759 -0.574845  0.076030 -0.077701 -2.199026 -2.274844\n",
       "YAL002W     0.053244 -1.485876  0.006303 -0.076000  0.610906 -3.036789\n",
       "YAL003W     0.080687 -0.483062  0.286196       NaN       NaN       NaN\n",
       "YAL004W    -0.369822 -1.214900  0.221975 -0.014744 -1.001728 -0.188456\n",
       "YAL005C     0.171241  0.224126  0.269686  0.310500 -1.278865 -0.020341"
      ]
     },
     "execution_count": 30,
     "metadata": {},
     "output_type": "execute_result"
    }
   ],
   "source": [
    "data.head()"
   ]
  },
  {
   "cell_type": "markdown",
   "metadata": {},
   "source": [
    "## Subset to the genes currently in SGD"
   ]
  },
  {
   "cell_type": "code",
   "execution_count": 31,
   "metadata": {},
   "outputs": [
    {
     "name": "stdout",
     "output_type": "stream",
     "text": [
      "ORFs missing from SGD: 10\n"
     ]
    }
   ],
   "source": [
    "genes = pd.read_csv(path_to_genes, sep='\\t', index_col='id')\n",
    "genes = genes.reset_index().set_index('systematic_name')\n",
    "gene_ids = genes.reindex(index=data.index.values)['id'].values\n",
    "num_missing = np.sum(np.isnan(gene_ids))\n",
    "print('ORFs missing from SGD: %d' % num_missing)"
   ]
  },
  {
   "cell_type": "code",
   "execution_count": 32,
   "metadata": {},
   "outputs": [
    {
     "data": {
      "text/html": [
       "<div>\n",
       "<style scoped>\n",
       "    .dataframe tbody tr th:only-of-type {\n",
       "        vertical-align: middle;\n",
       "    }\n",
       "\n",
       "    .dataframe tbody tr th {\n",
       "        vertical-align: top;\n",
       "    }\n",
       "\n",
       "    .dataframe thead tr th {\n",
       "        text-align: left;\n",
       "    }\n",
       "\n",
       "    .dataframe thead tr:last-of-type th {\n",
       "        text-align: right;\n",
       "    }\n",
       "</style>\n",
       "<table border=\"1\" class=\"dataframe\">\n",
       "  <thead>\n",
       "    <tr>\n",
       "      <th></th>\n",
       "      <th>dataset_id</th>\n",
       "      <th>5265</th>\n",
       "      <th>5267</th>\n",
       "      <th>773</th>\n",
       "      <th>5264</th>\n",
       "      <th>5266</th>\n",
       "      <th>772</th>\n",
       "    </tr>\n",
       "    <tr>\n",
       "      <th></th>\n",
       "      <th>data_type</th>\n",
       "      <th>value</th>\n",
       "      <th>value</th>\n",
       "      <th>value</th>\n",
       "      <th>value</th>\n",
       "      <th>value</th>\n",
       "      <th>value</th>\n",
       "    </tr>\n",
       "    <tr>\n",
       "      <th>gene_id</th>\n",
       "      <th>orf</th>\n",
       "      <th></th>\n",
       "      <th></th>\n",
       "      <th></th>\n",
       "      <th></th>\n",
       "      <th></th>\n",
       "      <th></th>\n",
       "    </tr>\n",
       "  </thead>\n",
       "  <tbody>\n",
       "    <tr>\n",
       "      <th>1</th>\n",
       "      <th>YAL001C</th>\n",
       "      <td>0.026759</td>\n",
       "      <td>-0.574845</td>\n",
       "      <td>0.076030</td>\n",
       "      <td>-0.077701</td>\n",
       "      <td>-2.199026</td>\n",
       "      <td>-2.274844</td>\n",
       "    </tr>\n",
       "    <tr>\n",
       "      <th>2</th>\n",
       "      <th>YAL002W</th>\n",
       "      <td>0.053244</td>\n",
       "      <td>-1.485876</td>\n",
       "      <td>0.006303</td>\n",
       "      <td>-0.076000</td>\n",
       "      <td>0.610906</td>\n",
       "      <td>-3.036789</td>\n",
       "    </tr>\n",
       "    <tr>\n",
       "      <th>3</th>\n",
       "      <th>YAL003W</th>\n",
       "      <td>0.080687</td>\n",
       "      <td>-0.483062</td>\n",
       "      <td>0.286196</td>\n",
       "      <td>NaN</td>\n",
       "      <td>NaN</td>\n",
       "      <td>NaN</td>\n",
       "    </tr>\n",
       "    <tr>\n",
       "      <th>1863</th>\n",
       "      <th>YAL004W</th>\n",
       "      <td>-0.369822</td>\n",
       "      <td>-1.214900</td>\n",
       "      <td>0.221975</td>\n",
       "      <td>-0.014744</td>\n",
       "      <td>-1.001728</td>\n",
       "      <td>-0.188456</td>\n",
       "    </tr>\n",
       "    <tr>\n",
       "      <th>4</th>\n",
       "      <th>YAL005C</th>\n",
       "      <td>0.171241</td>\n",
       "      <td>0.224126</td>\n",
       "      <td>0.269686</td>\n",
       "      <td>0.310500</td>\n",
       "      <td>-1.278865</td>\n",
       "      <td>-0.020341</td>\n",
       "    </tr>\n",
       "  </tbody>\n",
       "</table>\n",
       "</div>"
      ],
      "text/plain": [
       "dataset_id           5265      5267      773       5264      5266      772 \n",
       "data_type           value     value     value     value     value     value\n",
       "gene_id orf                                                                \n",
       "1       YAL001C  0.026759 -0.574845  0.076030 -0.077701 -2.199026 -2.274844\n",
       "2       YAL002W  0.053244 -1.485876  0.006303 -0.076000  0.610906 -3.036789\n",
       "3       YAL003W  0.080687 -0.483062  0.286196       NaN       NaN       NaN\n",
       "1863    YAL004W -0.369822 -1.214900  0.221975 -0.014744 -1.001728 -0.188456\n",
       "4       YAL005C  0.171241  0.224126  0.269686  0.310500 -1.278865 -0.020341"
      ]
     },
     "execution_count": 32,
     "metadata": {},
     "output_type": "execute_result"
    }
   ],
   "source": [
    "data['gene_id'] = gene_ids\n",
    "data = data.loc[data['gene_id'].notnull()]\n",
    "data['gene_id'] = data['gene_id'].astype(int)\n",
    "data = data.reset_index().set_index(['gene_id','orf'])\n",
    "\n",
    "data.head()"
   ]
  },
  {
   "cell_type": "markdown",
   "metadata": {},
   "source": [
    "# Normalize"
   ]
  },
  {
   "cell_type": "code",
   "execution_count": 33,
   "metadata": {},
   "outputs": [],
   "source": [
    "data_norm = normalize_phenotypic_scores(data, has_tested=True)"
   ]
  },
  {
   "cell_type": "code",
   "execution_count": 34,
   "metadata": {},
   "outputs": [],
   "source": [
    "# Assign proper column names\n",
    "lst = [datasets.index.values, ['valuez']*datasets.shape[0]]\n",
    "tuples = list(zip(*lst))\n",
    "idx = pd.MultiIndex.from_tuples(tuples, names=['dataset_id','data_type'])\n",
    "data_norm.columns = idx"
   ]
  },
  {
   "cell_type": "code",
   "execution_count": 35,
   "metadata": {},
   "outputs": [
    {
     "data": {
      "text/html": [
       "<div>\n",
       "<style scoped>\n",
       "    .dataframe tbody tr th:only-of-type {\n",
       "        vertical-align: middle;\n",
       "    }\n",
       "\n",
       "    .dataframe tbody tr th {\n",
       "        vertical-align: top;\n",
       "    }\n",
       "\n",
       "    .dataframe thead tr th {\n",
       "        text-align: left;\n",
       "    }\n",
       "\n",
       "    .dataframe thead tr:last-of-type th {\n",
       "        text-align: right;\n",
       "    }\n",
       "</style>\n",
       "<table border=\"1\" class=\"dataframe\">\n",
       "  <thead>\n",
       "    <tr>\n",
       "      <th></th>\n",
       "      <th>dataset_id</th>\n",
       "      <th>5265</th>\n",
       "      <th>5267</th>\n",
       "      <th>773</th>\n",
       "      <th>5264</th>\n",
       "      <th>5266</th>\n",
       "      <th>772</th>\n",
       "      <th>5265</th>\n",
       "      <th>5267</th>\n",
       "      <th>773</th>\n",
       "      <th>5264</th>\n",
       "      <th>5266</th>\n",
       "      <th>772</th>\n",
       "    </tr>\n",
       "    <tr>\n",
       "      <th></th>\n",
       "      <th>data_type</th>\n",
       "      <th>value</th>\n",
       "      <th>value</th>\n",
       "      <th>value</th>\n",
       "      <th>value</th>\n",
       "      <th>value</th>\n",
       "      <th>value</th>\n",
       "      <th>valuez</th>\n",
       "      <th>valuez</th>\n",
       "      <th>valuez</th>\n",
       "      <th>valuez</th>\n",
       "      <th>valuez</th>\n",
       "      <th>valuez</th>\n",
       "    </tr>\n",
       "    <tr>\n",
       "      <th>gene_id</th>\n",
       "      <th>orf</th>\n",
       "      <th></th>\n",
       "      <th></th>\n",
       "      <th></th>\n",
       "      <th></th>\n",
       "      <th></th>\n",
       "      <th></th>\n",
       "      <th></th>\n",
       "      <th></th>\n",
       "      <th></th>\n",
       "      <th></th>\n",
       "      <th></th>\n",
       "      <th></th>\n",
       "    </tr>\n",
       "  </thead>\n",
       "  <tbody>\n",
       "    <tr>\n",
       "      <th>1</th>\n",
       "      <th>YAL001C</th>\n",
       "      <td>0.026759</td>\n",
       "      <td>-0.574845</td>\n",
       "      <td>0.076030</td>\n",
       "      <td>-0.077701</td>\n",
       "      <td>-2.199026</td>\n",
       "      <td>-2.274844</td>\n",
       "      <td>0.134713</td>\n",
       "      <td>-0.758243</td>\n",
       "      <td>-0.115098</td>\n",
       "      <td>-0.124187</td>\n",
       "      <td>-2.218241</td>\n",
       "      <td>-1.930218</td>\n",
       "    </tr>\n",
       "    <tr>\n",
       "      <th>2</th>\n",
       "      <th>YAL002W</th>\n",
       "      <td>0.053244</td>\n",
       "      <td>-1.485876</td>\n",
       "      <td>0.006303</td>\n",
       "      <td>-0.076000</td>\n",
       "      <td>0.610906</td>\n",
       "      <td>-3.036789</td>\n",
       "      <td>0.152598</td>\n",
       "      <td>-1.685508</td>\n",
       "      <td>-0.174066</td>\n",
       "      <td>-0.122939</td>\n",
       "      <td>0.485040</td>\n",
       "      <td>-2.606917</td>\n",
       "    </tr>\n",
       "    <tr>\n",
       "      <th>3</th>\n",
       "      <th>YAL003W</th>\n",
       "      <td>0.080687</td>\n",
       "      <td>-0.483062</td>\n",
       "      <td>0.286196</td>\n",
       "      <td>NaN</td>\n",
       "      <td>NaN</td>\n",
       "      <td>NaN</td>\n",
       "      <td>0.171131</td>\n",
       "      <td>-0.664825</td>\n",
       "      <td>0.062639</td>\n",
       "      <td>NaN</td>\n",
       "      <td>NaN</td>\n",
       "      <td>NaN</td>\n",
       "    </tr>\n",
       "    <tr>\n",
       "      <th>1863</th>\n",
       "      <th>YAL004W</th>\n",
       "      <td>-0.369822</td>\n",
       "      <td>-1.214900</td>\n",
       "      <td>0.221975</td>\n",
       "      <td>-0.014744</td>\n",
       "      <td>-1.001728</td>\n",
       "      <td>-0.188456</td>\n",
       "      <td>-0.133113</td>\n",
       "      <td>-1.409703</td>\n",
       "      <td>0.008327</td>\n",
       "      <td>-0.078005</td>\n",
       "      <td>-1.066387</td>\n",
       "      <td>-0.077253</td>\n",
       "    </tr>\n",
       "    <tr>\n",
       "      <th>4</th>\n",
       "      <th>YAL005C</th>\n",
       "      <td>0.171241</td>\n",
       "      <td>0.224126</td>\n",
       "      <td>0.269686</td>\n",
       "      <td>0.310500</td>\n",
       "      <td>-1.278865</td>\n",
       "      <td>-0.020341</td>\n",
       "      <td>0.232286</td>\n",
       "      <td>0.054965</td>\n",
       "      <td>0.048676</td>\n",
       "      <td>0.160574</td>\n",
       "      <td>-1.333005</td>\n",
       "      <td>0.072053</td>\n",
       "    </tr>\n",
       "  </tbody>\n",
       "</table>\n",
       "</div>"
      ],
      "text/plain": [
       "dataset_id           5265      5267      773       5264      5266      772   \\\n",
       "data_type           value     value     value     value     value     value   \n",
       "gene_id orf                                                                   \n",
       "1       YAL001C  0.026759 -0.574845  0.076030 -0.077701 -2.199026 -2.274844   \n",
       "2       YAL002W  0.053244 -1.485876  0.006303 -0.076000  0.610906 -3.036789   \n",
       "3       YAL003W  0.080687 -0.483062  0.286196       NaN       NaN       NaN   \n",
       "1863    YAL004W -0.369822 -1.214900  0.221975 -0.014744 -1.001728 -0.188456   \n",
       "4       YAL005C  0.171241  0.224126  0.269686  0.310500 -1.278865 -0.020341   \n",
       "\n",
       "dataset_id           5265      5267      773       5264      5266      772   \n",
       "data_type          valuez    valuez    valuez    valuez    valuez    valuez  \n",
       "gene_id orf                                                                  \n",
       "1       YAL001C  0.134713 -0.758243 -0.115098 -0.124187 -2.218241 -1.930218  \n",
       "2       YAL002W  0.152598 -1.685508 -0.174066 -0.122939  0.485040 -2.606917  \n",
       "3       YAL003W  0.171131 -0.664825  0.062639       NaN       NaN       NaN  \n",
       "1863    YAL004W -0.133113 -1.409703  0.008327 -0.078005 -1.066387 -0.077253  \n",
       "4       YAL005C  0.232286  0.054965  0.048676  0.160574 -1.333005  0.072053  "
      ]
     },
     "execution_count": 35,
     "metadata": {},
     "output_type": "execute_result"
    }
   ],
   "source": [
    "data_norm[data.isnull()] = np.nan\n",
    "data_all = data.join(data_norm)\n",
    "\n",
    "data_all.head()"
   ]
  },
  {
   "cell_type": "markdown",
   "metadata": {},
   "source": [
    "# Print out"
   ]
  },
  {
   "cell_type": "code",
   "execution_count": 36,
   "metadata": {},
   "outputs": [],
   "source": [
    "for f in ['value','valuez']:\n",
    "    df = data_all.xs(f, level='data_type', axis=1).copy()\n",
    "    df.columns = datasets['name'].values\n",
    "    df = df.droplevel('gene_id', axis=0)\n",
    "    df.to_csv(paper_name + '_' + f + '.txt', sep='\\t')"
   ]
  },
  {
   "cell_type": "markdown",
   "metadata": {},
   "source": [
    "# Save to DB"
   ]
  },
  {
   "cell_type": "code",
   "execution_count": 37,
   "metadata": {},
   "outputs": [],
   "source": [
    "from IO.save_data_to_db3 import *"
   ]
  },
  {
   "cell_type": "code",
   "execution_count": 38,
   "metadata": {},
   "outputs": [
    {
     "name": "stderr",
     "output_type": "stream",
     "text": [
      "  0%|          | 0/6 [00:00<?, ?it/s]"
     ]
    },
    {
     "name": "stdout",
     "output_type": "stream",
     "text": [
      "Deleting all datasets for PMID 25616894...\n",
      "Inserting the new data...\n"
     ]
    },
    {
     "name": "stderr",
     "output_type": "stream",
     "text": [
      "100%|██████████| 6/6 [00:54<00:00,  9.04s/it]"
     ]
    },
    {
     "name": "stdout",
     "output_type": "stream",
     "text": [
      "Updating the data_modified_on field...\n"
     ]
    },
    {
     "name": "stderr",
     "output_type": "stream",
     "text": [
      "\n"
     ]
    }
   ],
   "source": [
    "save_data_to_db(data_all, paper_pmid)"
   ]
  },
  {
   "cell_type": "code",
   "execution_count": null,
   "metadata": {},
   "outputs": [],
   "source": []
  }
 ],
 "metadata": {
  "kernelspec": {
   "display_name": "yp-data",
   "language": "python",
   "name": "yp-data"
  },
  "language_info": {
   "codemirror_mode": {
    "name": "ipython",
    "version": 3
   },
   "file_extension": ".py",
   "mimetype": "text/x-python",
   "name": "python",
   "nbconvert_exporter": "python",
   "pygments_lexer": "ipython3",
   "version": "3.7.7"
  }
 },
 "nbformat": 4,
 "nbformat_minor": 4
}
