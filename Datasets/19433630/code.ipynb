{
 "cells": [
  {
   "cell_type": "code",
   "execution_count": 1,
   "metadata": {},
   "outputs": [],
   "source": [
    "%run ../../Utils/yp_utils.py"
   ]
  },
  {
   "cell_type": "markdown",
   "metadata": {},
   "source": [
    "# Initial setup"
   ]
  },
  {
   "cell_type": "code",
   "execution_count": 2,
   "metadata": {},
   "outputs": [],
   "source": [
    "paper_pmid = 19433630\n",
    "paper_name = 'copic_miller_2009' "
   ]
  },
  {
   "cell_type": "code",
   "execution_count": 3,
   "metadata": {},
   "outputs": [],
   "source": [
    "datasets = pd.read_csv('extras/YeastPhenome_' + str(paper_pmid) + '_datasets_list.txt', sep='\\t', header=None, names=['dataset_id', 'name'])"
   ]
  },
  {
   "cell_type": "code",
   "execution_count": 4,
   "metadata": {},
   "outputs": [],
   "source": [
    "datasets.set_index('dataset_id', inplace=True)"
   ]
  },
  {
   "cell_type": "markdown",
   "metadata": {},
   "source": [
    "# Load & process the data"
   ]
  },
  {
   "cell_type": "code",
   "execution_count": 11,
   "metadata": {},
   "outputs": [],
   "source": [
    "original_data = pd.read_excel('raw_data/TableS1.xlsx', sheet_name='TABLE S1', skiprows=3)"
   ]
  },
  {
   "cell_type": "code",
   "execution_count": 12,
   "metadata": {},
   "outputs": [
    {
     "name": "stdout",
     "output_type": "stream",
     "text": [
      "Original data dimensions: 132 x 13\n"
     ]
    }
   ],
   "source": [
    "print('Original data dimensions: %d x %d' % (original_data.shape))"
   ]
  },
  {
   "cell_type": "code",
   "execution_count": 13,
   "metadata": {},
   "outputs": [
    {
     "data": {
      "text/html": [
       "<div>\n",
       "<style scoped>\n",
       "    .dataframe tbody tr th:only-of-type {\n",
       "        vertical-align: middle;\n",
       "    }\n",
       "\n",
       "    .dataframe tbody tr th {\n",
       "        vertical-align: top;\n",
       "    }\n",
       "\n",
       "    .dataframe thead th {\n",
       "        text-align: right;\n",
       "    }\n",
       "</style>\n",
       "<table border=\"1\" class=\"dataframe\">\n",
       "  <thead>\n",
       "    <tr style=\"text-align: right;\">\n",
       "      <th></th>\n",
       "      <th>gene</th>\n",
       "      <th>Unnamed: 1</th>\n",
       "      <th>notes</th>\n",
       "      <th>Localization (1)</th>\n",
       "      <th>functional category (2)</th>\n",
       "      <th>Kar2secretion (3)</th>\n",
       "      <th>hac1 sl/ss (4)</th>\n",
       "      <th>kar2S in hac1D (5)</th>\n",
       "      <th>UPR (6)</th>\n",
       "      <th>Gas1 (7)</th>\n",
       "      <th>CPY (8)</th>\n",
       "      <th>Erd2p-GFP (9)</th>\n",
       "      <th>CPY* (10)</th>\n",
       "    </tr>\n",
       "  </thead>\n",
       "  <tbody>\n",
       "    <tr>\n",
       "      <th>0</th>\n",
       "      <td>YDR414C</td>\n",
       "      <td>Erd1</td>\n",
       "      <td>NaN</td>\n",
       "      <td>ambiguous</td>\n",
       "      <td>ambiguous</td>\n",
       "      <td>8.962673</td>\n",
       "      <td>-</td>\n",
       "      <td>+</td>\n",
       "      <td>N/D</td>\n",
       "      <td>-</td>\n",
       "      <td>-</td>\n",
       "      <td>ER</td>\n",
       "      <td>-</td>\n",
       "    </tr>\n",
       "    <tr>\n",
       "      <th>1</th>\n",
       "      <td>YGL200C</td>\n",
       "      <td>Emp24</td>\n",
       "      <td>NaN</td>\n",
       "      <td>punctate composite</td>\n",
       "      <td>ER-Golgi traffic</td>\n",
       "      <td>8.953327</td>\n",
       "      <td>+</td>\n",
       "      <td>N/D</td>\n",
       "      <td>+</td>\n",
       "      <td>++</td>\n",
       "      <td>-</td>\n",
       "      <td>ER</td>\n",
       "      <td>+</td>\n",
       "    </tr>\n",
       "    <tr>\n",
       "      <th>2</th>\n",
       "      <td>YFL025C</td>\n",
       "      <td>Bst1</td>\n",
       "      <td>NaN</td>\n",
       "      <td>ER</td>\n",
       "      <td>O-linked glyc./GPI</td>\n",
       "      <td>8.784216</td>\n",
       "      <td>+</td>\n",
       "      <td>N/D</td>\n",
       "      <td>+</td>\n",
       "      <td>++</td>\n",
       "      <td>-</td>\n",
       "      <td>ER</td>\n",
       "      <td>+</td>\n",
       "    </tr>\n",
       "    <tr>\n",
       "      <th>3</th>\n",
       "      <td>YML012W</td>\n",
       "      <td>Erv25</td>\n",
       "      <td>NaN</td>\n",
       "      <td>ER</td>\n",
       "      <td>ER-Golgi traffic</td>\n",
       "      <td>8.409055</td>\n",
       "      <td>+</td>\n",
       "      <td>N/D</td>\n",
       "      <td>+</td>\n",
       "      <td>++</td>\n",
       "      <td>-</td>\n",
       "      <td>ER</td>\n",
       "      <td>+</td>\n",
       "    </tr>\n",
       "    <tr>\n",
       "      <th>4</th>\n",
       "      <td>YKL073W</td>\n",
       "      <td>Lhs1</td>\n",
       "      <td>NaN</td>\n",
       "      <td>vacuole</td>\n",
       "      <td>Protein maturation</td>\n",
       "      <td>6.824582</td>\n",
       "      <td>+</td>\n",
       "      <td>N/D</td>\n",
       "      <td>+</td>\n",
       "      <td>+</td>\n",
       "      <td>-</td>\n",
       "      <td>diffuse</td>\n",
       "      <td>-</td>\n",
       "    </tr>\n",
       "  </tbody>\n",
       "</table>\n",
       "</div>"
      ],
      "text/plain": [
       "      gene Unnamed: 1 notes    Localization (1) functional category (2)  \\\n",
       "0  YDR414C       Erd1   NaN           ambiguous               ambiguous   \n",
       "1  YGL200C      Emp24   NaN  punctate composite        ER-Golgi traffic   \n",
       "2  YFL025C       Bst1   NaN                  ER      O-linked glyc./GPI   \n",
       "3  YML012W      Erv25   NaN                  ER        ER-Golgi traffic   \n",
       "4  YKL073W       Lhs1   NaN             vacuole      Protein maturation   \n",
       "\n",
       "   Kar2secretion (3) hac1 sl/ss (4) kar2S in hac1D (5) UPR (6) Gas1 (7)  \\\n",
       "0           8.962673              -                  +     N/D        -   \n",
       "1           8.953327              +                N/D       +       ++   \n",
       "2           8.784216              +                N/D       +       ++   \n",
       "3           8.409055              +                N/D       +       ++   \n",
       "4           6.824582              +                N/D       +        +   \n",
       "\n",
       "  CPY (8) Erd2p-GFP (9) CPY* (10)  \n",
       "0       -            ER         -  \n",
       "1       -            ER         +  \n",
       "2       -            ER         +  \n",
       "3       -            ER         +  \n",
       "4       -       diffuse         -  "
      ]
     },
     "execution_count": 13,
     "metadata": {},
     "output_type": "execute_result"
    }
   ],
   "source": [
    "original_data.head()"
   ]
  },
  {
   "cell_type": "code",
   "execution_count": 15,
   "metadata": {},
   "outputs": [],
   "source": [
    "original_data['gene'] = original_data['gene'].astype(str)"
   ]
  },
  {
   "cell_type": "code",
   "execution_count": 16,
   "metadata": {},
   "outputs": [],
   "source": [
    "# Eliminate all white spaces & capitalize\n",
    "original_data['gene'] = clean_genename(original_data['gene'])"
   ]
  },
  {
   "cell_type": "code",
   "execution_count": 17,
   "metadata": {},
   "outputs": [],
   "source": [
    "# Translate to ORFs \n",
    "original_data['orf'] = translate_sc(original_data['gene'], to='orf')"
   ]
  },
  {
   "cell_type": "code",
   "execution_count": 18,
   "metadata": {},
   "outputs": [
    {
     "name": "stdout",
     "output_type": "stream",
     "text": [
      "                                                          gene Unnamed: 1  \\\n",
      "index_input                                                                 \n",
      "73                                                         NAN        NaN   \n",
      "74                                                         NAN        NaN   \n",
      "121                                                        NAN        NaN   \n",
      "122          1LOCALIZATIONASDETERMINEDBYHIGHTHROUGHPUTGFPLO...        NaN   \n",
      "123              2FUNCTIONALCATEGORYASSIGNEDFROMSGDANNOTATIONS        NaN   \n",
      "124          3KAR2PSECRETIONINDEXDETERMINEDBYQUANTITATIVEIM...        NaN   \n",
      "125          4SYNTHETICGENETICINTERACTIONSBETWEENINDIVIDUAL...        NaN   \n",
      "126          5KAR2PSECRETIONWASMEASUREDINTHEDOUBLEMUTANTSTR...        NaN   \n",
      "127          6ACTIVATIONOFTHEUNFOLDEDPROTEINRESPONSEWASMEAS...        NaN   \n",
      "128          7GAS1MATURATIONWASMEASUREDBYPULSE-CHASEANDADEL...        NaN   \n",
      "129          8CPYMATURATIONWASMONITOREDBYPULSE-CHASEANDDEFE...        NaN   \n",
      "130          9LOCALIZATIONOFERD2P-GFPFOLLOWINGINTEGRATIONOF...        NaN   \n",
      "131          10GOLGIMODIFICATIONOFCPYWASMEASUREDBYPULSE-CHA...        NaN   \n",
      "\n",
      "            notes Localization (1) functional category (2)  Kar2secretion (3)  \\\n",
      "index_input                                                                     \n",
      "73            NaN              NaN                     NaN                NaN   \n",
      "74            NaN              NaN                     NaN                NaN   \n",
      "121           NaN              NaN                     NaN                NaN   \n",
      "122           NaN              NaN                     NaN                NaN   \n",
      "123           NaN              NaN                     NaN                NaN   \n",
      "124           NaN              NaN                     NaN                NaN   \n",
      "125           NaN              NaN                     NaN                NaN   \n",
      "126           NaN              NaN                     NaN                NaN   \n",
      "127           NaN              NaN                     NaN                NaN   \n",
      "128           NaN              NaN                     NaN                NaN   \n",
      "129           NaN              NaN                     NaN                NaN   \n",
      "130           NaN              NaN                     NaN                NaN   \n",
      "131           NaN              NaN                     NaN                NaN   \n",
      "\n",
      "            hac1 sl/ss (4) kar2S in hac1D (5) UPR (6) Gas1 (7) CPY (8)  \\\n",
      "index_input                                                              \n",
      "73                     NaN                NaN     NaN      NaN     NaN   \n",
      "74                     NaN                NaN     NaN      NaN     NaN   \n",
      "121                    NaN                NaN     NaN      NaN     NaN   \n",
      "122                    NaN                NaN     NaN      NaN     NaN   \n",
      "123                    NaN                NaN     NaN      NaN     NaN   \n",
      "124                    NaN                NaN     NaN      NaN     NaN   \n",
      "125                    NaN                NaN     NaN      NaN     NaN   \n",
      "126                    NaN                NaN     NaN      NaN     NaN   \n",
      "127                    NaN                NaN     NaN      NaN     NaN   \n",
      "128                    NaN                NaN     NaN      NaN     NaN   \n",
      "129                    NaN                NaN     NaN      NaN     NaN   \n",
      "130                    NaN                NaN     NaN      NaN     NaN   \n",
      "131                    NaN                NaN     NaN      NaN     NaN   \n",
      "\n",
      "            Erd2p-GFP (9) CPY* (10)  \\\n",
      "index_input                           \n",
      "73                    NaN       NaN   \n",
      "74                    NaN       NaN   \n",
      "121                   NaN       NaN   \n",
      "122                   NaN       NaN   \n",
      "123                   NaN       NaN   \n",
      "124                   NaN       NaN   \n",
      "125                   NaN       NaN   \n",
      "126                   NaN       NaN   \n",
      "127                   NaN       NaN   \n",
      "128                   NaN       NaN   \n",
      "129                   NaN       NaN   \n",
      "130                   NaN       NaN   \n",
      "131                   NaN       NaN   \n",
      "\n",
      "                                                           orf  \n",
      "index_input                                                     \n",
      "73                                                         NAN  \n",
      "74                                                         NAN  \n",
      "121                                                        NAN  \n",
      "122          1LOCALIZATIONASDETERMINEDBYHIGHTHROUGHPUTGFPLO...  \n",
      "123              2FUNCTIONALCATEGORYASSIGNEDFROMSGDANNOTATIONS  \n",
      "124          3KAR2PSECRETIONINDEXDETERMINEDBYQUANTITATIVEIM...  \n",
      "125          4SYNTHETICGENETICINTERACTIONSBETWEENINDIVIDUAL...  \n",
      "126          5KAR2PSECRETIONWASMEASUREDINTHEDOUBLEMUTANTSTR...  \n",
      "127          6ACTIVATIONOFTHEUNFOLDEDPROTEINRESPONSEWASMEAS...  \n",
      "128          7GAS1MATURATIONWASMEASUREDBYPULSE-CHASEANDADEL...  \n",
      "129          8CPYMATURATIONWASMONITOREDBYPULSE-CHASEANDDEFE...  \n",
      "130          9LOCALIZATIONOFERD2P-GFPFOLLOWINGINTEGRATIONOF...  \n",
      "131          10GOLGIMODIFICATIONOFCPYWASMEASUREDBYPULSE-CHA...  \n"
     ]
    }
   ],
   "source": [
    "# Make sure everything translated ok\n",
    "t = looks_like_orf(original_data['orf'])\n",
    "print(original_data.loc[~t,])"
   ]
  },
  {
   "cell_type": "code",
   "execution_count": 19,
   "metadata": {},
   "outputs": [],
   "source": [
    "original_data = original_data.loc[t,:]"
   ]
  },
  {
   "cell_type": "code",
   "execution_count": 22,
   "metadata": {},
   "outputs": [],
   "source": [
    "original_data['notes'] = original_data['notes'].astype(str)\n",
    "original_data = original_data.loc[original_data['notes'].isin(['nan','mat-alpha only']),:]"
   ]
  },
  {
   "cell_type": "code",
   "execution_count": 24,
   "metadata": {},
   "outputs": [],
   "source": [
    "original_data['data'] = original_data['Kar2secretion (3)']"
   ]
  },
  {
   "cell_type": "code",
   "execution_count": 25,
   "metadata": {},
   "outputs": [],
   "source": [
    "original_data.set_index('orf', inplace=True)"
   ]
  },
  {
   "cell_type": "code",
   "execution_count": 26,
   "metadata": {},
   "outputs": [],
   "source": [
    "original_data = original_data[['data']].copy()"
   ]
  },
  {
   "cell_type": "code",
   "execution_count": 27,
   "metadata": {},
   "outputs": [],
   "source": [
    "original_data = original_data.groupby(original_data.index).mean()"
   ]
  },
  {
   "cell_type": "code",
   "execution_count": 28,
   "metadata": {},
   "outputs": [
    {
     "data": {
      "text/plain": [
       "(113, 1)"
      ]
     },
     "execution_count": 28,
     "metadata": {},
     "output_type": "execute_result"
    }
   ],
   "source": [
    "original_data.shape"
   ]
  },
  {
   "cell_type": "markdown",
   "metadata": {},
   "source": [
    "# Load & process tested strains"
   ]
  },
  {
   "cell_type": "code",
   "execution_count": 29,
   "metadata": {},
   "outputs": [],
   "source": [
    "tested = pd.read_excel('raw_data/mat_alpha_obs_v1.0.xlsx', sheet_name='mat_alpha_obs')"
   ]
  },
  {
   "cell_type": "code",
   "execution_count": 30,
   "metadata": {},
   "outputs": [
    {
     "data": {
      "text/html": [
       "<div>\n",
       "<style scoped>\n",
       "    .dataframe tbody tr th:only-of-type {\n",
       "        vertical-align: middle;\n",
       "    }\n",
       "\n",
       "    .dataframe tbody tr th {\n",
       "        vertical-align: top;\n",
       "    }\n",
       "\n",
       "    .dataframe thead th {\n",
       "        text-align: right;\n",
       "    }\n",
       "</style>\n",
       "<table border=\"1\" class=\"dataframe\">\n",
       "  <thead>\n",
       "    <tr style=\"text-align: right;\">\n",
       "      <th></th>\n",
       "      <th>ORF name</th>\n",
       "      <th>strain</th>\n",
       "      <th>batch</th>\n",
       "      <th>plate</th>\n",
       "      <th>row</th>\n",
       "      <th>column</th>\n",
       "      <th>notes</th>\n",
       "    </tr>\n",
       "  </thead>\n",
       "  <tbody>\n",
       "    <tr>\n",
       "      <th>0</th>\n",
       "      <td>YAL068C</td>\n",
       "      <td>BY4739</td>\n",
       "      <td>01_1</td>\n",
       "      <td>101.0</td>\n",
       "      <td>A</td>\n",
       "      <td>2</td>\n",
       "      <td>NaN</td>\n",
       "    </tr>\n",
       "    <tr>\n",
       "      <th>1</th>\n",
       "      <td>YAL067C</td>\n",
       "      <td>BY4739</td>\n",
       "      <td>01_1</td>\n",
       "      <td>101.0</td>\n",
       "      <td>A</td>\n",
       "      <td>3</td>\n",
       "      <td>NaN</td>\n",
       "    </tr>\n",
       "    <tr>\n",
       "      <th>2</th>\n",
       "      <td>YAL066W</td>\n",
       "      <td>BY4739</td>\n",
       "      <td>01_1</td>\n",
       "      <td>101.0</td>\n",
       "      <td>A</td>\n",
       "      <td>4</td>\n",
       "      <td>NaN</td>\n",
       "    </tr>\n",
       "    <tr>\n",
       "      <th>3</th>\n",
       "      <td>YAL065C</td>\n",
       "      <td>BY4739</td>\n",
       "      <td>01_1</td>\n",
       "      <td>101.0</td>\n",
       "      <td>A</td>\n",
       "      <td>5</td>\n",
       "      <td>NaN</td>\n",
       "    </tr>\n",
       "    <tr>\n",
       "      <th>4</th>\n",
       "      <td>YAL062W</td>\n",
       "      <td>BY4739</td>\n",
       "      <td>01_1</td>\n",
       "      <td>101.0</td>\n",
       "      <td>A</td>\n",
       "      <td>6</td>\n",
       "      <td>NaN</td>\n",
       "    </tr>\n",
       "  </tbody>\n",
       "</table>\n",
       "</div>"
      ],
      "text/plain": [
       "  ORF name  strain batch  plate row column notes\n",
       "0  YAL068C  BY4739  01_1  101.0   A      2   NaN\n",
       "1  YAL067C  BY4739  01_1  101.0   A      3   NaN\n",
       "2  YAL066W  BY4739  01_1  101.0   A      4   NaN\n",
       "3  YAL065C  BY4739  01_1  101.0   A      5   NaN\n",
       "4  YAL062W  BY4739  01_1  101.0   A      6   NaN"
      ]
     },
     "execution_count": 30,
     "metadata": {},
     "output_type": "execute_result"
    }
   ],
   "source": [
    "tested.head()"
   ]
  },
  {
   "cell_type": "code",
   "execution_count": 31,
   "metadata": {},
   "outputs": [],
   "source": [
    "tested['orf'] = tested['ORF name'].astype(str)"
   ]
  },
  {
   "cell_type": "code",
   "execution_count": 32,
   "metadata": {},
   "outputs": [],
   "source": [
    "tested['orf'] = clean_orf(tested['orf'])"
   ]
  },
  {
   "cell_type": "code",
   "execution_count": 33,
   "metadata": {},
   "outputs": [],
   "source": [
    "tested['orf'] = translate_sc(tested['orf'], to='orf')"
   ]
  },
  {
   "cell_type": "code",
   "execution_count": 34,
   "metadata": {},
   "outputs": [
    {
     "name": "stdout",
     "output_type": "stream",
     "text": [
      "            ORF name strain batch  plate  row   column notes  orf\n",
      "index_input                                                      \n",
      "4826             NaN    NaN   NaN    NaN  NaN  end 150   NaN  NAN\n"
     ]
    }
   ],
   "source": [
    "# Make sure everything translated ok\n",
    "t = looks_like_orf(tested['orf'])\n",
    "print(tested.loc[~t,])"
   ]
  },
  {
   "cell_type": "code",
   "execution_count": 35,
   "metadata": {},
   "outputs": [],
   "source": [
    "tested = tested.loc[t,:]"
   ]
  },
  {
   "cell_type": "code",
   "execution_count": 36,
   "metadata": {},
   "outputs": [],
   "source": [
    "tested_orfs = tested['orf'].unique()"
   ]
  },
  {
   "cell_type": "code",
   "execution_count": 37,
   "metadata": {},
   "outputs": [
    {
     "data": {
      "text/plain": [
       "[]"
      ]
     },
     "execution_count": 37,
     "metadata": {},
     "output_type": "execute_result"
    }
   ],
   "source": [
    "missing = [orf for orf in original_data.index.values if orf not in tested_orfs]\n",
    "missing"
   ]
  },
  {
   "cell_type": "code",
   "execution_count": 38,
   "metadata": {},
   "outputs": [],
   "source": [
    "original_data = original_data.reindex(index=tested_orfs, fill_value=0)"
   ]
  },
  {
   "cell_type": "markdown",
   "metadata": {},
   "source": [
    "# Prepare the final dataset"
   ]
  },
  {
   "cell_type": "code",
   "execution_count": 39,
   "metadata": {},
   "outputs": [],
   "source": [
    "data = original_data.copy()"
   ]
  },
  {
   "cell_type": "code",
   "execution_count": 40,
   "metadata": {},
   "outputs": [],
   "source": [
    "dataset_ids = [194]\n",
    "datasets = datasets.reindex(index=dataset_ids)"
   ]
  },
  {
   "cell_type": "code",
   "execution_count": 41,
   "metadata": {},
   "outputs": [],
   "source": [
    "lst = [datasets.index.values, ['value']*datasets.shape[0]]\n",
    "tuples = list(zip(*lst))\n",
    "idx = pd.MultiIndex.from_tuples(tuples, names=['dataset_id','data_type'])\n",
    "data.columns = idx"
   ]
  },
  {
   "cell_type": "code",
   "execution_count": 42,
   "metadata": {},
   "outputs": [
    {
     "data": {
      "text/html": [
       "<div>\n",
       "<style scoped>\n",
       "    .dataframe tbody tr th:only-of-type {\n",
       "        vertical-align: middle;\n",
       "    }\n",
       "\n",
       "    .dataframe tbody tr th {\n",
       "        vertical-align: top;\n",
       "    }\n",
       "\n",
       "    .dataframe thead tr th {\n",
       "        text-align: left;\n",
       "    }\n",
       "\n",
       "    .dataframe thead tr:last-of-type th {\n",
       "        text-align: right;\n",
       "    }\n",
       "</style>\n",
       "<table border=\"1\" class=\"dataframe\">\n",
       "  <thead>\n",
       "    <tr>\n",
       "      <th>dataset_id</th>\n",
       "      <th>194</th>\n",
       "    </tr>\n",
       "    <tr>\n",
       "      <th>data_type</th>\n",
       "      <th>value</th>\n",
       "    </tr>\n",
       "    <tr>\n",
       "      <th>orf</th>\n",
       "      <th></th>\n",
       "    </tr>\n",
       "  </thead>\n",
       "  <tbody>\n",
       "    <tr>\n",
       "      <th>YAL068C</th>\n",
       "      <td>0.0</td>\n",
       "    </tr>\n",
       "    <tr>\n",
       "      <th>YAL067C</th>\n",
       "      <td>0.0</td>\n",
       "    </tr>\n",
       "    <tr>\n",
       "      <th>YAL066W</th>\n",
       "      <td>0.0</td>\n",
       "    </tr>\n",
       "    <tr>\n",
       "      <th>YAL065C</th>\n",
       "      <td>0.0</td>\n",
       "    </tr>\n",
       "    <tr>\n",
       "      <th>YAL062W</th>\n",
       "      <td>0.0</td>\n",
       "    </tr>\n",
       "  </tbody>\n",
       "</table>\n",
       "</div>"
      ],
      "text/plain": [
       "dataset_id   194\n",
       "data_type  value\n",
       "orf             \n",
       "YAL068C      0.0\n",
       "YAL067C      0.0\n",
       "YAL066W      0.0\n",
       "YAL065C      0.0\n",
       "YAL062W      0.0"
      ]
     },
     "execution_count": 42,
     "metadata": {},
     "output_type": "execute_result"
    }
   ],
   "source": [
    "data.head()"
   ]
  },
  {
   "cell_type": "markdown",
   "metadata": {},
   "source": [
    "## Subset to the genes currently in SGD"
   ]
  },
  {
   "cell_type": "code",
   "execution_count": 43,
   "metadata": {},
   "outputs": [
    {
     "name": "stdout",
     "output_type": "stream",
     "text": [
      "ORFs missing from SGD: 26\n"
     ]
    }
   ],
   "source": [
    "genes = pd.read_csv(path_to_genes, sep='\\t', index_col='id')\n",
    "genes = genes.reset_index().set_index('systematic_name')\n",
    "gene_ids = genes.reindex(index=data.index.values)['id'].values\n",
    "num_missing = np.sum(np.isnan(gene_ids))\n",
    "print('ORFs missing from SGD: %d' % num_missing)"
   ]
  },
  {
   "cell_type": "code",
   "execution_count": 44,
   "metadata": {},
   "outputs": [
    {
     "data": {
      "text/html": [
       "<div>\n",
       "<style scoped>\n",
       "    .dataframe tbody tr th:only-of-type {\n",
       "        vertical-align: middle;\n",
       "    }\n",
       "\n",
       "    .dataframe tbody tr th {\n",
       "        vertical-align: top;\n",
       "    }\n",
       "\n",
       "    .dataframe thead tr th {\n",
       "        text-align: left;\n",
       "    }\n",
       "\n",
       "    .dataframe thead tr:last-of-type th {\n",
       "        text-align: right;\n",
       "    }\n",
       "</style>\n",
       "<table border=\"1\" class=\"dataframe\">\n",
       "  <thead>\n",
       "    <tr>\n",
       "      <th></th>\n",
       "      <th>dataset_id</th>\n",
       "      <th>194</th>\n",
       "    </tr>\n",
       "    <tr>\n",
       "      <th></th>\n",
       "      <th>data_type</th>\n",
       "      <th>value</th>\n",
       "    </tr>\n",
       "    <tr>\n",
       "      <th>gene_id</th>\n",
       "      <th>orf</th>\n",
       "      <th></th>\n",
       "    </tr>\n",
       "  </thead>\n",
       "  <tbody>\n",
       "    <tr>\n",
       "      <th>1869</th>\n",
       "      <th>YAL068C</th>\n",
       "      <td>0.0</td>\n",
       "    </tr>\n",
       "    <tr>\n",
       "      <th>61</th>\n",
       "      <th>YAL067C</th>\n",
       "      <td>0.0</td>\n",
       "    </tr>\n",
       "    <tr>\n",
       "      <th>60</th>\n",
       "      <th>YAL066W</th>\n",
       "      <td>0.0</td>\n",
       "    </tr>\n",
       "    <tr>\n",
       "      <th>1727</th>\n",
       "      <th>YAL065C</th>\n",
       "      <td>0.0</td>\n",
       "    </tr>\n",
       "    <tr>\n",
       "      <th>57</th>\n",
       "      <th>YAL062W</th>\n",
       "      <td>0.0</td>\n",
       "    </tr>\n",
       "  </tbody>\n",
       "</table>\n",
       "</div>"
      ],
      "text/plain": [
       "dataset_id        194\n",
       "data_type       value\n",
       "gene_id orf          \n",
       "1869    YAL068C   0.0\n",
       "61      YAL067C   0.0\n",
       "60      YAL066W   0.0\n",
       "1727    YAL065C   0.0\n",
       "57      YAL062W   0.0"
      ]
     },
     "execution_count": 44,
     "metadata": {},
     "output_type": "execute_result"
    }
   ],
   "source": [
    "data['gene_id'] = gene_ids\n",
    "data = data.loc[data['gene_id'].notnull()]\n",
    "data['gene_id'] = data['gene_id'].astype(int)\n",
    "data = data.reset_index().set_index(['gene_id','orf'])\n",
    "\n",
    "data.head()"
   ]
  },
  {
   "cell_type": "markdown",
   "metadata": {},
   "source": [
    "# Normalize"
   ]
  },
  {
   "cell_type": "code",
   "execution_count": 45,
   "metadata": {},
   "outputs": [],
   "source": [
    "data_norm = normalize_phenotypic_scores(data, has_tested=True)"
   ]
  },
  {
   "cell_type": "code",
   "execution_count": 46,
   "metadata": {},
   "outputs": [],
   "source": [
    "# Assign proper column names\n",
    "lst = [datasets.index.values, ['valuez']*datasets.shape[0]]\n",
    "tuples = list(zip(*lst))\n",
    "idx = pd.MultiIndex.from_tuples(tuples, names=['dataset_id','data_type'])\n",
    "data_norm.columns = idx"
   ]
  },
  {
   "cell_type": "code",
   "execution_count": 47,
   "metadata": {},
   "outputs": [
    {
     "data": {
      "text/html": [
       "<div>\n",
       "<style scoped>\n",
       "    .dataframe tbody tr th:only-of-type {\n",
       "        vertical-align: middle;\n",
       "    }\n",
       "\n",
       "    .dataframe tbody tr th {\n",
       "        vertical-align: top;\n",
       "    }\n",
       "\n",
       "    .dataframe thead tr th {\n",
       "        text-align: left;\n",
       "    }\n",
       "\n",
       "    .dataframe thead tr:last-of-type th {\n",
       "        text-align: right;\n",
       "    }\n",
       "</style>\n",
       "<table border=\"1\" class=\"dataframe\">\n",
       "  <thead>\n",
       "    <tr>\n",
       "      <th></th>\n",
       "      <th>dataset_id</th>\n",
       "      <th colspan=\"2\" halign=\"left\">194</th>\n",
       "    </tr>\n",
       "    <tr>\n",
       "      <th></th>\n",
       "      <th>data_type</th>\n",
       "      <th>value</th>\n",
       "      <th>valuez</th>\n",
       "    </tr>\n",
       "    <tr>\n",
       "      <th>gene_id</th>\n",
       "      <th>orf</th>\n",
       "      <th></th>\n",
       "      <th></th>\n",
       "    </tr>\n",
       "  </thead>\n",
       "  <tbody>\n",
       "    <tr>\n",
       "      <th>1869</th>\n",
       "      <th>YAL068C</th>\n",
       "      <td>0.0</td>\n",
       "      <td>0.0</td>\n",
       "    </tr>\n",
       "    <tr>\n",
       "      <th>61</th>\n",
       "      <th>YAL067C</th>\n",
       "      <td>0.0</td>\n",
       "      <td>0.0</td>\n",
       "    </tr>\n",
       "    <tr>\n",
       "      <th>60</th>\n",
       "      <th>YAL066W</th>\n",
       "      <td>0.0</td>\n",
       "      <td>0.0</td>\n",
       "    </tr>\n",
       "    <tr>\n",
       "      <th>1727</th>\n",
       "      <th>YAL065C</th>\n",
       "      <td>0.0</td>\n",
       "      <td>0.0</td>\n",
       "    </tr>\n",
       "    <tr>\n",
       "      <th>57</th>\n",
       "      <th>YAL062W</th>\n",
       "      <td>0.0</td>\n",
       "      <td>0.0</td>\n",
       "    </tr>\n",
       "  </tbody>\n",
       "</table>\n",
       "</div>"
      ],
      "text/plain": [
       "dataset_id        194       \n",
       "data_type       value valuez\n",
       "gene_id orf                 \n",
       "1869    YAL068C   0.0    0.0\n",
       "61      YAL067C   0.0    0.0\n",
       "60      YAL066W   0.0    0.0\n",
       "1727    YAL065C   0.0    0.0\n",
       "57      YAL062W   0.0    0.0"
      ]
     },
     "execution_count": 47,
     "metadata": {},
     "output_type": "execute_result"
    }
   ],
   "source": [
    "data_norm[data.isnull()] = np.nan\n",
    "data_all = data.join(data_norm)\n",
    "\n",
    "data_all.head()"
   ]
  },
  {
   "cell_type": "markdown",
   "metadata": {},
   "source": [
    "# Print out"
   ]
  },
  {
   "cell_type": "code",
   "execution_count": 48,
   "metadata": {},
   "outputs": [],
   "source": [
    "for f in ['value','valuez']:\n",
    "    df = data_all.xs(f, level='data_type', axis=1).copy()\n",
    "    df.columns = datasets['name'].values\n",
    "    df = df.droplevel('gene_id', axis=0)\n",
    "    df.to_csv(paper_name + '_' + f + '.txt', sep='\\t')"
   ]
  },
  {
   "cell_type": "markdown",
   "metadata": {},
   "source": [
    "# Save to DB"
   ]
  },
  {
   "cell_type": "code",
   "execution_count": 49,
   "metadata": {},
   "outputs": [],
   "source": [
    "from IO.save_data_to_db3 import *"
   ]
  },
  {
   "cell_type": "code",
   "execution_count": 50,
   "metadata": {},
   "outputs": [
    {
     "name": "stderr",
     "output_type": "stream",
     "text": [
      "  0%|          | 0/1 [00:00<?, ?it/s]"
     ]
    },
    {
     "name": "stdout",
     "output_type": "stream",
     "text": [
      "Deleting all datasets for PMID 19433630...\n",
      "Inserting the new data...\n"
     ]
    },
    {
     "name": "stderr",
     "output_type": "stream",
     "text": [
      "100%|██████████| 1/1 [00:08<00:00,  8.85s/it]"
     ]
    },
    {
     "name": "stdout",
     "output_type": "stream",
     "text": [
      "Updating the data_modified_on field...\n"
     ]
    },
    {
     "name": "stderr",
     "output_type": "stream",
     "text": [
      "\n"
     ]
    }
   ],
   "source": [
    "save_data_to_db(data_all, paper_pmid)"
   ]
  },
  {
   "cell_type": "code",
   "execution_count": null,
   "metadata": {},
   "outputs": [],
   "source": []
  }
 ],
 "metadata": {
  "kernelspec": {
   "display_name": "yp-data",
   "language": "python",
   "name": "yp-data"
  },
  "language_info": {
   "codemirror_mode": {
    "name": "ipython",
    "version": 3
   },
   "file_extension": ".py",
   "mimetype": "text/x-python",
   "name": "python",
   "nbconvert_exporter": "python",
   "pygments_lexer": "ipython3",
   "version": "3.7.7"
  }
 },
 "nbformat": 4,
 "nbformat_minor": 4
}
