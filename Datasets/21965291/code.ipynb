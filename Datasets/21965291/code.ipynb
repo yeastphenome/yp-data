{
 "cells": [
  {
   "cell_type": "code",
   "execution_count": 1,
   "metadata": {},
   "outputs": [],
   "source": [
    "%run ../yp_utils.py"
   ]
  },
  {
   "cell_type": "markdown",
   "metadata": {},
   "source": [
    "# Initial setup"
   ]
  },
  {
   "cell_type": "code",
   "execution_count": 2,
   "metadata": {},
   "outputs": [],
   "source": [
    "paper_pmid = 21965291\n",
    "paper_name = 'zakrzewska_smits_2011' "
   ]
  },
  {
   "cell_type": "code",
   "execution_count": 3,
   "metadata": {},
   "outputs": [],
   "source": [
    "datasets = pd.read_csv('extras/YeastPhenome_' + str(paper_pmid) + '_datasets_list.txt', sep='\\t', header=None, names=['dataset_id', 'name'])"
   ]
  },
  {
   "cell_type": "code",
   "execution_count": 4,
   "metadata": {},
   "outputs": [],
   "source": [
    "datasets.set_index('dataset_id', inplace=True)"
   ]
  },
  {
   "cell_type": "markdown",
   "metadata": {},
   "source": [
    "# Load & process the data"
   ]
  },
  {
   "cell_type": "code",
   "execution_count": 28,
   "metadata": {},
   "outputs": [],
   "source": [
    "original_data = pd.read_excel('raw_data/mc-E10-08-0721-s06.xlsx', sheet_name='growth rates')"
   ]
  },
  {
   "cell_type": "code",
   "execution_count": 29,
   "metadata": {},
   "outputs": [
    {
     "name": "stdout",
     "output_type": "stream",
     "text": [
      "Original data dimensions: 4066 x 3\n"
     ]
    }
   ],
   "source": [
    "print('Original data dimensions: %d x %d' % (original_data.shape))"
   ]
  },
  {
   "cell_type": "code",
   "execution_count": 30,
   "metadata": {},
   "outputs": [
    {
     "data": {
      "text/html": [
       "<div>\n",
       "<style scoped>\n",
       "    .dataframe tbody tr th:only-of-type {\n",
       "        vertical-align: middle;\n",
       "    }\n",
       "\n",
       "    .dataframe tbody tr th {\n",
       "        vertical-align: top;\n",
       "    }\n",
       "\n",
       "    .dataframe thead th {\n",
       "        text-align: right;\n",
       "    }\n",
       "</style>\n",
       "<table border=\"1\" class=\"dataframe\">\n",
       "  <thead>\n",
       "    <tr style=\"text-align: right;\">\n",
       "      <th></th>\n",
       "      <th>rc&gt;0</th>\n",
       "      <th>mu 30</th>\n",
       "      <th>mu 38</th>\n",
       "    </tr>\n",
       "  </thead>\n",
       "  <tbody>\n",
       "    <tr>\n",
       "      <th>0</th>\n",
       "      <td>YAL004W</td>\n",
       "      <td>0.456596</td>\n",
       "      <td>0.402838</td>\n",
       "    </tr>\n",
       "    <tr>\n",
       "      <th>1</th>\n",
       "      <td>YAL005C</td>\n",
       "      <td>0.424050</td>\n",
       "      <td>0.363141</td>\n",
       "    </tr>\n",
       "    <tr>\n",
       "      <th>2</th>\n",
       "      <td>YAL008W</td>\n",
       "      <td>0.383094</td>\n",
       "      <td>0.344194</td>\n",
       "    </tr>\n",
       "    <tr>\n",
       "      <th>3</th>\n",
       "      <td>YAL010C</td>\n",
       "      <td>0.348863</td>\n",
       "      <td>0.382532</td>\n",
       "    </tr>\n",
       "    <tr>\n",
       "      <th>4</th>\n",
       "      <td>YAL011W</td>\n",
       "      <td>0.400872</td>\n",
       "      <td>0.441868</td>\n",
       "    </tr>\n",
       "  </tbody>\n",
       "</table>\n",
       "</div>"
      ],
      "text/plain": [
       "      rc>0     mu 30     mu 38\n",
       "0  YAL004W  0.456596  0.402838\n",
       "1  YAL005C  0.424050  0.363141\n",
       "2  YAL008W  0.383094  0.344194\n",
       "3  YAL010C  0.348863  0.382532\n",
       "4  YAL011W  0.400872  0.441868"
      ]
     },
     "execution_count": 30,
     "metadata": {},
     "output_type": "execute_result"
    }
   ],
   "source": [
    "original_data.head()"
   ]
  },
  {
   "cell_type": "code",
   "execution_count": 31,
   "metadata": {},
   "outputs": [],
   "source": [
    "original_data['orf'] = original_data['rc>0'].astype(str)"
   ]
  },
  {
   "cell_type": "code",
   "execution_count": 32,
   "metadata": {},
   "outputs": [],
   "source": [
    "# Eliminate all white spaces & capitalize\n",
    "original_data['orf'] = clean_orf(original_data['orf'])"
   ]
  },
  {
   "cell_type": "code",
   "execution_count": 33,
   "metadata": {},
   "outputs": [],
   "source": [
    "# Translate to ORFs \n",
    "original_data['orf'] = translate_sc(original_data['orf'], to='orf')"
   ]
  },
  {
   "cell_type": "code",
   "execution_count": 34,
   "metadata": {},
   "outputs": [
    {
     "name": "stdout",
     "output_type": "stream",
     "text": [
      "Empty DataFrame\n",
      "Columns: [rc>0, mu 30, mu 38, orf]\n",
      "Index: []\n"
     ]
    }
   ],
   "source": [
    "# Make sure everything translated ok\n",
    "t = looks_like_orf(original_data['orf'])\n",
    "print(original_data.loc[~t,])"
   ]
  },
  {
   "cell_type": "code",
   "execution_count": 35,
   "metadata": {},
   "outputs": [],
   "source": [
    "original_data.set_index('orf', inplace=True)"
   ]
  },
  {
   "cell_type": "code",
   "execution_count": 36,
   "metadata": {},
   "outputs": [],
   "source": [
    "original_data = original_data[['mu 30','mu 38']].copy()"
   ]
  },
  {
   "cell_type": "code",
   "execution_count": 37,
   "metadata": {},
   "outputs": [],
   "source": [
    "for c in original_data.columns:\n",
    "    original_data[c] = pd.to_numeric(original_data[c], errors='coerce')"
   ]
  },
  {
   "cell_type": "code",
   "execution_count": 38,
   "metadata": {},
   "outputs": [],
   "source": [
    "original_data = original_data.groupby(original_data.index).mean()"
   ]
  },
  {
   "cell_type": "code",
   "execution_count": 39,
   "metadata": {},
   "outputs": [
    {
     "data": {
      "text/plain": [
       "(4065, 2)"
      ]
     },
     "execution_count": 39,
     "metadata": {},
     "output_type": "execute_result"
    }
   ],
   "source": [
    "original_data.shape"
   ]
  },
  {
   "cell_type": "markdown",
   "metadata": {},
   "source": [
    "# Dataset 2"
   ]
  },
  {
   "cell_type": "code",
   "execution_count": 40,
   "metadata": {},
   "outputs": [],
   "source": [
    "original_data2 = pd.read_excel('raw_data/mc-E10-08-0721-s06.xlsx', sheet_name='survival % 95% CI')"
   ]
  },
  {
   "cell_type": "code",
   "execution_count": 41,
   "metadata": {},
   "outputs": [
    {
     "name": "stdout",
     "output_type": "stream",
     "text": [
      "Original data dimensions: 4066 x 24\n"
     ]
    }
   ],
   "source": [
    "print('Original data dimensions: %d x %d' % (original_data2.shape))"
   ]
  },
  {
   "cell_type": "code",
   "execution_count": 42,
   "metadata": {},
   "outputs": [
    {
     "data": {
      "text/html": [
       "<div>\n",
       "<style scoped>\n",
       "    .dataframe tbody tr th:only-of-type {\n",
       "        vertical-align: middle;\n",
       "    }\n",
       "\n",
       "    .dataframe tbody tr th {\n",
       "        vertical-align: top;\n",
       "    }\n",
       "\n",
       "    .dataframe thead th {\n",
       "        text-align: right;\n",
       "    }\n",
       "</style>\n",
       "<table border=\"1\" class=\"dataframe\">\n",
       "  <thead>\n",
       "    <tr style=\"text-align: right;\">\n",
       "      <th></th>\n",
       "      <th>rc&gt;0</th>\n",
       "      <th>30oC oxi</th>\n",
       "      <th>&lt;95%</th>\n",
       "      <th>&gt;95%</th>\n",
       "      <th>Unnamed: 4</th>\n",
       "      <th>30oC acid</th>\n",
       "      <th>&lt;95%.1</th>\n",
       "      <th>&gt;95%.1</th>\n",
       "      <th>Unnamed: 8</th>\n",
       "      <th>30oC heat</th>\n",
       "      <th>...</th>\n",
       "      <th>&lt;95%.3</th>\n",
       "      <th>&gt;95%.3</th>\n",
       "      <th>Unnamed: 16</th>\n",
       "      <th>38oC acid</th>\n",
       "      <th>&lt;95%.4</th>\n",
       "      <th>&gt;95%.4</th>\n",
       "      <th>Unnamed: 20</th>\n",
       "      <th>38oC heat</th>\n",
       "      <th>&lt;95%.5</th>\n",
       "      <th>&gt;95%.5</th>\n",
       "    </tr>\n",
       "  </thead>\n",
       "  <tbody>\n",
       "    <tr>\n",
       "      <th>0</th>\n",
       "      <td>YAL004W</td>\n",
       "      <td>9.856012</td>\n",
       "      <td>7.88978</td>\n",
       "      <td>11.8222</td>\n",
       "      <td>NaN</td>\n",
       "      <td>59.956620</td>\n",
       "      <td>58.0034</td>\n",
       "      <td>61.9099</td>\n",
       "      <td>NaN</td>\n",
       "      <td>0.014071</td>\n",
       "      <td>...</td>\n",
       "      <td>51.5178</td>\n",
       "      <td>53.9066</td>\n",
       "      <td>NaN</td>\n",
       "      <td>67.199106</td>\n",
       "      <td>64.8805</td>\n",
       "      <td>69.5177</td>\n",
       "      <td>NaN</td>\n",
       "      <td>65.112744</td>\n",
       "      <td>61.0327</td>\n",
       "      <td>69.1928</td>\n",
       "    </tr>\n",
       "    <tr>\n",
       "      <th>1</th>\n",
       "      <td>YAL005C</td>\n",
       "      <td>12.755347</td>\n",
       "      <td>10.212</td>\n",
       "      <td>15.2987</td>\n",
       "      <td>NaN</td>\n",
       "      <td>61.756668</td>\n",
       "      <td>60.3117</td>\n",
       "      <td>63.2016</td>\n",
       "      <td>NaN</td>\n",
       "      <td>0.018908</td>\n",
       "      <td>...</td>\n",
       "      <td>59.326</td>\n",
       "      <td>60.3164</td>\n",
       "      <td>NaN</td>\n",
       "      <td>67.758209</td>\n",
       "      <td>66.0676</td>\n",
       "      <td>69.4489</td>\n",
       "      <td>NaN</td>\n",
       "      <td>68.147767</td>\n",
       "      <td>65.5855</td>\n",
       "      <td>70.71</td>\n",
       "    </tr>\n",
       "    <tr>\n",
       "      <th>2</th>\n",
       "      <td>YAL008W</td>\n",
       "      <td>18.098631</td>\n",
       "      <td>14.9775</td>\n",
       "      <td>21.2197</td>\n",
       "      <td>NaN</td>\n",
       "      <td>80.905708</td>\n",
       "      <td>79.7747</td>\n",
       "      <td>82.0367</td>\n",
       "      <td>NaN</td>\n",
       "      <td>0.021217</td>\n",
       "      <td>...</td>\n",
       "      <td>57.7527</td>\n",
       "      <td>60.2097</td>\n",
       "      <td>NaN</td>\n",
       "      <td>110.869236</td>\n",
       "      <td>109.48</td>\n",
       "      <td>112.259</td>\n",
       "      <td>NaN</td>\n",
       "      <td>74.234596</td>\n",
       "      <td>73.5993</td>\n",
       "      <td>74.8699</td>\n",
       "    </tr>\n",
       "    <tr>\n",
       "      <th>3</th>\n",
       "      <td>YAL010C</td>\n",
       "      <td>24.721095</td>\n",
       "      <td>21.9863</td>\n",
       "      <td>27.4559</td>\n",
       "      <td>NaN</td>\n",
       "      <td>109.654126</td>\n",
       "      <td>107.86</td>\n",
       "      <td>111.448</td>\n",
       "      <td>NaN</td>\n",
       "      <td>0.080941</td>\n",
       "      <td>...</td>\n",
       "      <td>89.7102</td>\n",
       "      <td>107.269</td>\n",
       "      <td>NaN</td>\n",
       "      <td>150.446431</td>\n",
       "      <td>141.439</td>\n",
       "      <td>159.454</td>\n",
       "      <td>NaN</td>\n",
       "      <td>38.701433</td>\n",
       "      <td>36.4852</td>\n",
       "      <td>40.9177</td>\n",
       "    </tr>\n",
       "    <tr>\n",
       "      <th>4</th>\n",
       "      <td>YAL011W</td>\n",
       "      <td>24.443096</td>\n",
       "      <td>20.7042</td>\n",
       "      <td>28.182</td>\n",
       "      <td>NaN</td>\n",
       "      <td>73.838673</td>\n",
       "      <td>72.5728</td>\n",
       "      <td>75.1046</td>\n",
       "      <td>NaN</td>\n",
       "      <td>0.031438</td>\n",
       "      <td>...</td>\n",
       "      <td>62.5972</td>\n",
       "      <td>69.3505</td>\n",
       "      <td>NaN</td>\n",
       "      <td>81.689552</td>\n",
       "      <td>79.1452</td>\n",
       "      <td>84.2339</td>\n",
       "      <td>NaN</td>\n",
       "      <td>65.713649</td>\n",
       "      <td>62.3057</td>\n",
       "      <td>69.1216</td>\n",
       "    </tr>\n",
       "  </tbody>\n",
       "</table>\n",
       "<p>5 rows × 24 columns</p>\n",
       "</div>"
      ],
      "text/plain": [
       "      rc>0   30oC oxi     <95%     >95%  Unnamed: 4   30oC acid   <95%.1  \\\n",
       "0  YAL004W   9.856012  7.88978  11.8222         NaN   59.956620  58.0034   \n",
       "1  YAL005C  12.755347   10.212  15.2987         NaN   61.756668  60.3117   \n",
       "2  YAL008W  18.098631  14.9775  21.2197         NaN   80.905708  79.7747   \n",
       "3  YAL010C  24.721095  21.9863  27.4559         NaN  109.654126   107.86   \n",
       "4  YAL011W  24.443096  20.7042   28.182         NaN   73.838673  72.5728   \n",
       "\n",
       "    >95%.1  Unnamed: 8  30oC heat  ...   <95%.3   >95%.3  Unnamed: 16  \\\n",
       "0  61.9099         NaN   0.014071  ...  51.5178  53.9066          NaN   \n",
       "1  63.2016         NaN   0.018908  ...   59.326  60.3164          NaN   \n",
       "2  82.0367         NaN   0.021217  ...  57.7527  60.2097          NaN   \n",
       "3  111.448         NaN   0.080941  ...  89.7102  107.269          NaN   \n",
       "4  75.1046         NaN   0.031438  ...  62.5972  69.3505          NaN   \n",
       "\n",
       "    38oC acid   <95%.4   >95%.4  Unnamed: 20  38oC heat   <95%.5   >95%.5  \n",
       "0   67.199106  64.8805  69.5177          NaN  65.112744  61.0327  69.1928  \n",
       "1   67.758209  66.0676  69.4489          NaN  68.147767  65.5855    70.71  \n",
       "2  110.869236   109.48  112.259          NaN  74.234596  73.5993  74.8699  \n",
       "3  150.446431  141.439  159.454          NaN  38.701433  36.4852  40.9177  \n",
       "4   81.689552  79.1452  84.2339          NaN  65.713649  62.3057  69.1216  \n",
       "\n",
       "[5 rows x 24 columns]"
      ]
     },
     "execution_count": 42,
     "metadata": {},
     "output_type": "execute_result"
    }
   ],
   "source": [
    "original_data2.head()"
   ]
  },
  {
   "cell_type": "code",
   "execution_count": 43,
   "metadata": {},
   "outputs": [],
   "source": [
    "original_data2['orf'] = original_data2['rc>0'].astype(str)"
   ]
  },
  {
   "cell_type": "code",
   "execution_count": 44,
   "metadata": {},
   "outputs": [],
   "source": [
    "# Eliminate all white spaces & capitalize\n",
    "original_data2['orf'] = clean_orf(original_data2['orf'])"
   ]
  },
  {
   "cell_type": "code",
   "execution_count": 45,
   "metadata": {},
   "outputs": [],
   "source": [
    "# Translate to ORFs \n",
    "original_data2['orf'] = translate_sc(original_data2['orf'], to='orf')"
   ]
  },
  {
   "cell_type": "code",
   "execution_count": 46,
   "metadata": {},
   "outputs": [
    {
     "name": "stdout",
     "output_type": "stream",
     "text": [
      "Empty DataFrame\n",
      "Columns: [rc>0, 30oC oxi, <95%, >95%, Unnamed: 4, 30oC acid, <95%.1, >95%.1, Unnamed: 8, 30oC heat, <95%.2, >95%.2, Unnamed: 12, 38oC oxi, <95%.3, >95%.3, Unnamed: 16, 38oC acid, <95%.4, >95%.4, Unnamed: 20, 38oC heat, <95%.5, >95%.5, orf]\n",
      "Index: []\n",
      "\n",
      "[0 rows x 25 columns]\n"
     ]
    }
   ],
   "source": [
    "# Make sure everything translated ok\n",
    "t = looks_like_orf(original_data2['orf'])\n",
    "print(original_data2.loc[~t,])"
   ]
  },
  {
   "cell_type": "code",
   "execution_count": 47,
   "metadata": {},
   "outputs": [],
   "source": [
    "original_data2.set_index('orf', inplace=True)"
   ]
  },
  {
   "cell_type": "code",
   "execution_count": 48,
   "metadata": {},
   "outputs": [],
   "source": [
    "original_data2 = original_data2[['30oC oxi','30oC acid','30oC heat','38oC oxi','38oC acid','38oC heat']].copy()"
   ]
  },
  {
   "cell_type": "code",
   "execution_count": 50,
   "metadata": {},
   "outputs": [],
   "source": [
    "for c in original_data2.columns:\n",
    "    original_data2[c] = pd.to_numeric(original_data2[c], errors='coerce')"
   ]
  },
  {
   "cell_type": "code",
   "execution_count": 51,
   "metadata": {},
   "outputs": [],
   "source": [
    "original_data2 = original_data2.groupby(original_data2.index).mean()"
   ]
  },
  {
   "cell_type": "code",
   "execution_count": 52,
   "metadata": {},
   "outputs": [
    {
     "data": {
      "text/plain": [
       "(4065, 6)"
      ]
     },
     "execution_count": 52,
     "metadata": {},
     "output_type": "execute_result"
    }
   ],
   "source": [
    "original_data2.shape"
   ]
  },
  {
   "cell_type": "markdown",
   "metadata": {},
   "source": [
    "# Merge"
   ]
  },
  {
   "cell_type": "code",
   "execution_count": 53,
   "metadata": {},
   "outputs": [],
   "source": [
    "original_data = original_data.join(original_data2, how='outer', lsuffix='_1', rsuffix='_2')"
   ]
  },
  {
   "cell_type": "code",
   "execution_count": 54,
   "metadata": {},
   "outputs": [
    {
     "data": {
      "text/html": [
       "<div>\n",
       "<style scoped>\n",
       "    .dataframe tbody tr th:only-of-type {\n",
       "        vertical-align: middle;\n",
       "    }\n",
       "\n",
       "    .dataframe tbody tr th {\n",
       "        vertical-align: top;\n",
       "    }\n",
       "\n",
       "    .dataframe thead th {\n",
       "        text-align: right;\n",
       "    }\n",
       "</style>\n",
       "<table border=\"1\" class=\"dataframe\">\n",
       "  <thead>\n",
       "    <tr style=\"text-align: right;\">\n",
       "      <th></th>\n",
       "      <th>mu 30</th>\n",
       "      <th>mu 38</th>\n",
       "      <th>30oC oxi</th>\n",
       "      <th>30oC acid</th>\n",
       "      <th>30oC heat</th>\n",
       "      <th>38oC oxi</th>\n",
       "      <th>38oC acid</th>\n",
       "      <th>38oC heat</th>\n",
       "    </tr>\n",
       "    <tr>\n",
       "      <th>orf</th>\n",
       "      <th></th>\n",
       "      <th></th>\n",
       "      <th></th>\n",
       "      <th></th>\n",
       "      <th></th>\n",
       "      <th></th>\n",
       "      <th></th>\n",
       "      <th></th>\n",
       "    </tr>\n",
       "  </thead>\n",
       "  <tbody>\n",
       "    <tr>\n",
       "      <th>YAL004W</th>\n",
       "      <td>0.456596</td>\n",
       "      <td>0.402838</td>\n",
       "      <td>9.856012</td>\n",
       "      <td>59.956620</td>\n",
       "      <td>0.014071</td>\n",
       "      <td>52.712209</td>\n",
       "      <td>67.199106</td>\n",
       "      <td>65.112744</td>\n",
       "    </tr>\n",
       "    <tr>\n",
       "      <th>YAL005C</th>\n",
       "      <td>0.424050</td>\n",
       "      <td>0.363141</td>\n",
       "      <td>12.755347</td>\n",
       "      <td>61.756668</td>\n",
       "      <td>0.018908</td>\n",
       "      <td>59.821186</td>\n",
       "      <td>67.758209</td>\n",
       "      <td>68.147767</td>\n",
       "    </tr>\n",
       "    <tr>\n",
       "      <th>YAL008W</th>\n",
       "      <td>0.383094</td>\n",
       "      <td>0.344194</td>\n",
       "      <td>18.098631</td>\n",
       "      <td>80.905708</td>\n",
       "      <td>0.021217</td>\n",
       "      <td>58.981233</td>\n",
       "      <td>110.869236</td>\n",
       "      <td>74.234596</td>\n",
       "    </tr>\n",
       "    <tr>\n",
       "      <th>YAL010C</th>\n",
       "      <td>0.348863</td>\n",
       "      <td>0.382532</td>\n",
       "      <td>24.721095</td>\n",
       "      <td>109.654126</td>\n",
       "      <td>0.080941</td>\n",
       "      <td>98.489747</td>\n",
       "      <td>150.446431</td>\n",
       "      <td>38.701433</td>\n",
       "    </tr>\n",
       "    <tr>\n",
       "      <th>YAL011W</th>\n",
       "      <td>0.400872</td>\n",
       "      <td>0.441868</td>\n",
       "      <td>24.443096</td>\n",
       "      <td>73.838673</td>\n",
       "      <td>0.031438</td>\n",
       "      <td>65.973874</td>\n",
       "      <td>81.689552</td>\n",
       "      <td>65.713649</td>\n",
       "    </tr>\n",
       "  </tbody>\n",
       "</table>\n",
       "</div>"
      ],
      "text/plain": [
       "            mu 30     mu 38   30oC oxi   30oC acid  30oC heat   38oC oxi  \\\n",
       "orf                                                                        \n",
       "YAL004W  0.456596  0.402838   9.856012   59.956620   0.014071  52.712209   \n",
       "YAL005C  0.424050  0.363141  12.755347   61.756668   0.018908  59.821186   \n",
       "YAL008W  0.383094  0.344194  18.098631   80.905708   0.021217  58.981233   \n",
       "YAL010C  0.348863  0.382532  24.721095  109.654126   0.080941  98.489747   \n",
       "YAL011W  0.400872  0.441868  24.443096   73.838673   0.031438  65.973874   \n",
       "\n",
       "          38oC acid  38oC heat  \n",
       "orf                             \n",
       "YAL004W   67.199106  65.112744  \n",
       "YAL005C   67.758209  68.147767  \n",
       "YAL008W  110.869236  74.234596  \n",
       "YAL010C  150.446431  38.701433  \n",
       "YAL011W   81.689552  65.713649  "
      ]
     },
     "execution_count": 54,
     "metadata": {},
     "output_type": "execute_result"
    }
   ],
   "source": [
    "original_data.head()"
   ]
  },
  {
   "cell_type": "markdown",
   "metadata": {},
   "source": [
    "# Prepare the final dataset"
   ]
  },
  {
   "cell_type": "code",
   "execution_count": 55,
   "metadata": {},
   "outputs": [],
   "source": [
    "data = original_data.copy()"
   ]
  },
  {
   "cell_type": "code",
   "execution_count": 56,
   "metadata": {},
   "outputs": [],
   "source": [
    "dataset_ids = list(np.arange(16128,16136))\n",
    "datasets = datasets.reindex(index=dataset_ids)"
   ]
  },
  {
   "cell_type": "code",
   "execution_count": 57,
   "metadata": {},
   "outputs": [],
   "source": [
    "lst = [datasets.index.values, ['value']*datasets.shape[0]]\n",
    "tuples = list(zip(*lst))\n",
    "idx = pd.MultiIndex.from_tuples(tuples, names=['dataset_id','data_type'])\n",
    "data.columns = idx"
   ]
  },
  {
   "cell_type": "code",
   "execution_count": 58,
   "metadata": {},
   "outputs": [
    {
     "data": {
      "text/html": [
       "<div>\n",
       "<style scoped>\n",
       "    .dataframe tbody tr th:only-of-type {\n",
       "        vertical-align: middle;\n",
       "    }\n",
       "\n",
       "    .dataframe tbody tr th {\n",
       "        vertical-align: top;\n",
       "    }\n",
       "\n",
       "    .dataframe thead tr th {\n",
       "        text-align: left;\n",
       "    }\n",
       "\n",
       "    .dataframe thead tr:last-of-type th {\n",
       "        text-align: right;\n",
       "    }\n",
       "</style>\n",
       "<table border=\"1\" class=\"dataframe\">\n",
       "  <thead>\n",
       "    <tr>\n",
       "      <th>dataset_id</th>\n",
       "      <th>16128</th>\n",
       "      <th>16129</th>\n",
       "      <th>16130</th>\n",
       "      <th>16131</th>\n",
       "      <th>16132</th>\n",
       "      <th>16133</th>\n",
       "      <th>16134</th>\n",
       "      <th>16135</th>\n",
       "    </tr>\n",
       "    <tr>\n",
       "      <th>data_type</th>\n",
       "      <th>value</th>\n",
       "      <th>value</th>\n",
       "      <th>value</th>\n",
       "      <th>value</th>\n",
       "      <th>value</th>\n",
       "      <th>value</th>\n",
       "      <th>value</th>\n",
       "      <th>value</th>\n",
       "    </tr>\n",
       "    <tr>\n",
       "      <th>orf</th>\n",
       "      <th></th>\n",
       "      <th></th>\n",
       "      <th></th>\n",
       "      <th></th>\n",
       "      <th></th>\n",
       "      <th></th>\n",
       "      <th></th>\n",
       "      <th></th>\n",
       "    </tr>\n",
       "  </thead>\n",
       "  <tbody>\n",
       "    <tr>\n",
       "      <th>YAL004W</th>\n",
       "      <td>0.456596</td>\n",
       "      <td>0.402838</td>\n",
       "      <td>9.856012</td>\n",
       "      <td>59.956620</td>\n",
       "      <td>0.014071</td>\n",
       "      <td>52.712209</td>\n",
       "      <td>67.199106</td>\n",
       "      <td>65.112744</td>\n",
       "    </tr>\n",
       "    <tr>\n",
       "      <th>YAL005C</th>\n",
       "      <td>0.424050</td>\n",
       "      <td>0.363141</td>\n",
       "      <td>12.755347</td>\n",
       "      <td>61.756668</td>\n",
       "      <td>0.018908</td>\n",
       "      <td>59.821186</td>\n",
       "      <td>67.758209</td>\n",
       "      <td>68.147767</td>\n",
       "    </tr>\n",
       "    <tr>\n",
       "      <th>YAL008W</th>\n",
       "      <td>0.383094</td>\n",
       "      <td>0.344194</td>\n",
       "      <td>18.098631</td>\n",
       "      <td>80.905708</td>\n",
       "      <td>0.021217</td>\n",
       "      <td>58.981233</td>\n",
       "      <td>110.869236</td>\n",
       "      <td>74.234596</td>\n",
       "    </tr>\n",
       "    <tr>\n",
       "      <th>YAL010C</th>\n",
       "      <td>0.348863</td>\n",
       "      <td>0.382532</td>\n",
       "      <td>24.721095</td>\n",
       "      <td>109.654126</td>\n",
       "      <td>0.080941</td>\n",
       "      <td>98.489747</td>\n",
       "      <td>150.446431</td>\n",
       "      <td>38.701433</td>\n",
       "    </tr>\n",
       "    <tr>\n",
       "      <th>YAL011W</th>\n",
       "      <td>0.400872</td>\n",
       "      <td>0.441868</td>\n",
       "      <td>24.443096</td>\n",
       "      <td>73.838673</td>\n",
       "      <td>0.031438</td>\n",
       "      <td>65.973874</td>\n",
       "      <td>81.689552</td>\n",
       "      <td>65.713649</td>\n",
       "    </tr>\n",
       "  </tbody>\n",
       "</table>\n",
       "</div>"
      ],
      "text/plain": [
       "dataset_id     16128     16129      16130       16131     16132      16133  \\\n",
       "data_type      value     value      value       value     value      value   \n",
       "orf                                                                          \n",
       "YAL004W     0.456596  0.402838   9.856012   59.956620  0.014071  52.712209   \n",
       "YAL005C     0.424050  0.363141  12.755347   61.756668  0.018908  59.821186   \n",
       "YAL008W     0.383094  0.344194  18.098631   80.905708  0.021217  58.981233   \n",
       "YAL010C     0.348863  0.382532  24.721095  109.654126  0.080941  98.489747   \n",
       "YAL011W     0.400872  0.441868  24.443096   73.838673  0.031438  65.973874   \n",
       "\n",
       "dataset_id       16134      16135  \n",
       "data_type        value      value  \n",
       "orf                                \n",
       "YAL004W      67.199106  65.112744  \n",
       "YAL005C      67.758209  68.147767  \n",
       "YAL008W     110.869236  74.234596  \n",
       "YAL010C     150.446431  38.701433  \n",
       "YAL011W      81.689552  65.713649  "
      ]
     },
     "execution_count": 58,
     "metadata": {},
     "output_type": "execute_result"
    }
   ],
   "source": [
    "data.head()"
   ]
  },
  {
   "cell_type": "markdown",
   "metadata": {},
   "source": [
    "## Subset to the genes currently in SGD"
   ]
  },
  {
   "cell_type": "code",
   "execution_count": 59,
   "metadata": {},
   "outputs": [
    {
     "name": "stdout",
     "output_type": "stream",
     "text": [
      "ORFs missing from SGD: 3\n"
     ]
    }
   ],
   "source": [
    "genes = pd.read_csv(path_to_genes, sep='\\t', index_col='id')\n",
    "genes = genes.reset_index().set_index('systematic_name')\n",
    "gene_ids = genes.reindex(index=data.index.values)['id'].values\n",
    "num_missing = np.sum(np.isnan(gene_ids))\n",
    "print('ORFs missing from SGD: %d' % num_missing)"
   ]
  },
  {
   "cell_type": "code",
   "execution_count": 60,
   "metadata": {},
   "outputs": [
    {
     "data": {
      "text/html": [
       "<div>\n",
       "<style scoped>\n",
       "    .dataframe tbody tr th:only-of-type {\n",
       "        vertical-align: middle;\n",
       "    }\n",
       "\n",
       "    .dataframe tbody tr th {\n",
       "        vertical-align: top;\n",
       "    }\n",
       "\n",
       "    .dataframe thead tr th {\n",
       "        text-align: left;\n",
       "    }\n",
       "\n",
       "    .dataframe thead tr:last-of-type th {\n",
       "        text-align: right;\n",
       "    }\n",
       "</style>\n",
       "<table border=\"1\" class=\"dataframe\">\n",
       "  <thead>\n",
       "    <tr>\n",
       "      <th></th>\n",
       "      <th>dataset_id</th>\n",
       "      <th>16128</th>\n",
       "      <th>16129</th>\n",
       "      <th>16130</th>\n",
       "      <th>16131</th>\n",
       "      <th>16132</th>\n",
       "      <th>16133</th>\n",
       "      <th>16134</th>\n",
       "      <th>16135</th>\n",
       "    </tr>\n",
       "    <tr>\n",
       "      <th></th>\n",
       "      <th>data_type</th>\n",
       "      <th>value</th>\n",
       "      <th>value</th>\n",
       "      <th>value</th>\n",
       "      <th>value</th>\n",
       "      <th>value</th>\n",
       "      <th>value</th>\n",
       "      <th>value</th>\n",
       "      <th>value</th>\n",
       "    </tr>\n",
       "    <tr>\n",
       "      <th>gene_id</th>\n",
       "      <th>orf</th>\n",
       "      <th></th>\n",
       "      <th></th>\n",
       "      <th></th>\n",
       "      <th></th>\n",
       "      <th></th>\n",
       "      <th></th>\n",
       "      <th></th>\n",
       "      <th></th>\n",
       "    </tr>\n",
       "  </thead>\n",
       "  <tbody>\n",
       "    <tr>\n",
       "      <th>1863</th>\n",
       "      <th>YAL004W</th>\n",
       "      <td>0.456596</td>\n",
       "      <td>0.402838</td>\n",
       "      <td>9.856012</td>\n",
       "      <td>59.956620</td>\n",
       "      <td>0.014071</td>\n",
       "      <td>52.712209</td>\n",
       "      <td>67.199106</td>\n",
       "      <td>65.112744</td>\n",
       "    </tr>\n",
       "    <tr>\n",
       "      <th>4</th>\n",
       "      <th>YAL005C</th>\n",
       "      <td>0.424050</td>\n",
       "      <td>0.363141</td>\n",
       "      <td>12.755347</td>\n",
       "      <td>61.756668</td>\n",
       "      <td>0.018908</td>\n",
       "      <td>59.821186</td>\n",
       "      <td>67.758209</td>\n",
       "      <td>68.147767</td>\n",
       "    </tr>\n",
       "    <tr>\n",
       "      <th>6</th>\n",
       "      <th>YAL008W</th>\n",
       "      <td>0.383094</td>\n",
       "      <td>0.344194</td>\n",
       "      <td>18.098631</td>\n",
       "      <td>80.905708</td>\n",
       "      <td>0.021217</td>\n",
       "      <td>58.981233</td>\n",
       "      <td>110.869236</td>\n",
       "      <td>74.234596</td>\n",
       "    </tr>\n",
       "    <tr>\n",
       "      <th>8</th>\n",
       "      <th>YAL010C</th>\n",
       "      <td>0.348863</td>\n",
       "      <td>0.382532</td>\n",
       "      <td>24.721095</td>\n",
       "      <td>109.654126</td>\n",
       "      <td>0.080941</td>\n",
       "      <td>98.489747</td>\n",
       "      <td>150.446431</td>\n",
       "      <td>38.701433</td>\n",
       "    </tr>\n",
       "    <tr>\n",
       "      <th>9</th>\n",
       "      <th>YAL011W</th>\n",
       "      <td>0.400872</td>\n",
       "      <td>0.441868</td>\n",
       "      <td>24.443096</td>\n",
       "      <td>73.838673</td>\n",
       "      <td>0.031438</td>\n",
       "      <td>65.973874</td>\n",
       "      <td>81.689552</td>\n",
       "      <td>65.713649</td>\n",
       "    </tr>\n",
       "  </tbody>\n",
       "</table>\n",
       "</div>"
      ],
      "text/plain": [
       "dataset_id          16128     16129      16130       16131     16132  \\\n",
       "data_type           value     value      value       value     value   \n",
       "gene_id orf                                                            \n",
       "1863    YAL004W  0.456596  0.402838   9.856012   59.956620  0.014071   \n",
       "4       YAL005C  0.424050  0.363141  12.755347   61.756668  0.018908   \n",
       "6       YAL008W  0.383094  0.344194  18.098631   80.905708  0.021217   \n",
       "8       YAL010C  0.348863  0.382532  24.721095  109.654126  0.080941   \n",
       "9       YAL011W  0.400872  0.441868  24.443096   73.838673  0.031438   \n",
       "\n",
       "dataset_id           16133       16134      16135  \n",
       "data_type            value       value      value  \n",
       "gene_id orf                                        \n",
       "1863    YAL004W  52.712209   67.199106  65.112744  \n",
       "4       YAL005C  59.821186   67.758209  68.147767  \n",
       "6       YAL008W  58.981233  110.869236  74.234596  \n",
       "8       YAL010C  98.489747  150.446431  38.701433  \n",
       "9       YAL011W  65.973874   81.689552  65.713649  "
      ]
     },
     "execution_count": 60,
     "metadata": {},
     "output_type": "execute_result"
    }
   ],
   "source": [
    "data['gene_id'] = gene_ids\n",
    "data = data.loc[data['gene_id'].notnull()]\n",
    "data['gene_id'] = data['gene_id'].astype(int)\n",
    "data = data.reset_index().set_index(['gene_id','orf'])\n",
    "\n",
    "data.head()"
   ]
  },
  {
   "cell_type": "markdown",
   "metadata": {},
   "source": [
    "# Normalize"
   ]
  },
  {
   "cell_type": "code",
   "execution_count": 61,
   "metadata": {},
   "outputs": [],
   "source": [
    "data_norm = normalize_phenotypic_scores(data, has_tested=True)"
   ]
  },
  {
   "cell_type": "code",
   "execution_count": 62,
   "metadata": {},
   "outputs": [],
   "source": [
    "# Assign proper column names\n",
    "lst = [datasets.index.values, ['valuez']*datasets.shape[0]]\n",
    "tuples = list(zip(*lst))\n",
    "idx = pd.MultiIndex.from_tuples(tuples, names=['dataset_id','data_type'])\n",
    "data_norm.columns = idx"
   ]
  },
  {
   "cell_type": "code",
   "execution_count": 63,
   "metadata": {},
   "outputs": [
    {
     "data": {
      "text/html": [
       "<div>\n",
       "<style scoped>\n",
       "    .dataframe tbody tr th:only-of-type {\n",
       "        vertical-align: middle;\n",
       "    }\n",
       "\n",
       "    .dataframe tbody tr th {\n",
       "        vertical-align: top;\n",
       "    }\n",
       "\n",
       "    .dataframe thead tr th {\n",
       "        text-align: left;\n",
       "    }\n",
       "\n",
       "    .dataframe thead tr:last-of-type th {\n",
       "        text-align: right;\n",
       "    }\n",
       "</style>\n",
       "<table border=\"1\" class=\"dataframe\">\n",
       "  <thead>\n",
       "    <tr>\n",
       "      <th></th>\n",
       "      <th>dataset_id</th>\n",
       "      <th>16128</th>\n",
       "      <th>16129</th>\n",
       "      <th>16130</th>\n",
       "      <th>16131</th>\n",
       "      <th>16132</th>\n",
       "      <th>16133</th>\n",
       "      <th>16134</th>\n",
       "      <th>16135</th>\n",
       "      <th>16128</th>\n",
       "      <th>16129</th>\n",
       "      <th>16130</th>\n",
       "      <th>16131</th>\n",
       "      <th>16132</th>\n",
       "      <th>16133</th>\n",
       "      <th>16134</th>\n",
       "      <th>16135</th>\n",
       "    </tr>\n",
       "    <tr>\n",
       "      <th></th>\n",
       "      <th>data_type</th>\n",
       "      <th>value</th>\n",
       "      <th>value</th>\n",
       "      <th>value</th>\n",
       "      <th>value</th>\n",
       "      <th>value</th>\n",
       "      <th>value</th>\n",
       "      <th>value</th>\n",
       "      <th>value</th>\n",
       "      <th>valuez</th>\n",
       "      <th>valuez</th>\n",
       "      <th>valuez</th>\n",
       "      <th>valuez</th>\n",
       "      <th>valuez</th>\n",
       "      <th>valuez</th>\n",
       "      <th>valuez</th>\n",
       "      <th>valuez</th>\n",
       "    </tr>\n",
       "    <tr>\n",
       "      <th>gene_id</th>\n",
       "      <th>orf</th>\n",
       "      <th></th>\n",
       "      <th></th>\n",
       "      <th></th>\n",
       "      <th></th>\n",
       "      <th></th>\n",
       "      <th></th>\n",
       "      <th></th>\n",
       "      <th></th>\n",
       "      <th></th>\n",
       "      <th></th>\n",
       "      <th></th>\n",
       "      <th></th>\n",
       "      <th></th>\n",
       "      <th></th>\n",
       "      <th></th>\n",
       "      <th></th>\n",
       "    </tr>\n",
       "  </thead>\n",
       "  <tbody>\n",
       "    <tr>\n",
       "      <th>1863</th>\n",
       "      <th>YAL004W</th>\n",
       "      <td>0.456596</td>\n",
       "      <td>0.402838</td>\n",
       "      <td>9.856012</td>\n",
       "      <td>59.956620</td>\n",
       "      <td>0.014071</td>\n",
       "      <td>52.712209</td>\n",
       "      <td>67.199106</td>\n",
       "      <td>65.112744</td>\n",
       "      <td>2.024843</td>\n",
       "      <td>0.516808</td>\n",
       "      <td>-0.229673</td>\n",
       "      <td>-0.258965</td>\n",
       "      <td>0.019591</td>\n",
       "      <td>-0.277464</td>\n",
       "      <td>-0.675075</td>\n",
       "      <td>-0.308837</td>\n",
       "    </tr>\n",
       "    <tr>\n",
       "      <th>4</th>\n",
       "      <th>YAL005C</th>\n",
       "      <td>0.424050</td>\n",
       "      <td>0.363141</td>\n",
       "      <td>12.755347</td>\n",
       "      <td>61.756668</td>\n",
       "      <td>0.018908</td>\n",
       "      <td>59.821186</td>\n",
       "      <td>67.758209</td>\n",
       "      <td>68.147767</td>\n",
       "      <td>1.251848</td>\n",
       "      <td>0.072289</td>\n",
       "      <td>-0.028432</td>\n",
       "      <td>-0.197982</td>\n",
       "      <td>0.027009</td>\n",
       "      <td>0.001648</td>\n",
       "      <td>-0.661226</td>\n",
       "      <td>-0.219107</td>\n",
       "    </tr>\n",
       "    <tr>\n",
       "      <th>6</th>\n",
       "      <th>YAL008W</th>\n",
       "      <td>0.383094</td>\n",
       "      <td>0.344194</td>\n",
       "      <td>18.098631</td>\n",
       "      <td>80.905708</td>\n",
       "      <td>0.021217</td>\n",
       "      <td>58.981233</td>\n",
       "      <td>110.869236</td>\n",
       "      <td>74.234596</td>\n",
       "      <td>0.279134</td>\n",
       "      <td>-0.139876</td>\n",
       "      <td>0.342441</td>\n",
       "      <td>0.450752</td>\n",
       "      <td>0.030550</td>\n",
       "      <td>-0.031330</td>\n",
       "      <td>0.406635</td>\n",
       "      <td>-0.039153</td>\n",
       "    </tr>\n",
       "    <tr>\n",
       "      <th>8</th>\n",
       "      <th>YAL010C</th>\n",
       "      <td>0.348863</td>\n",
       "      <td>0.382532</td>\n",
       "      <td>24.721095</td>\n",
       "      <td>109.654126</td>\n",
       "      <td>0.080941</td>\n",
       "      <td>98.489747</td>\n",
       "      <td>150.446431</td>\n",
       "      <td>38.701433</td>\n",
       "      <td>-0.533893</td>\n",
       "      <td>0.289422</td>\n",
       "      <td>0.802101</td>\n",
       "      <td>1.424695</td>\n",
       "      <td>0.122136</td>\n",
       "      <td>1.519848</td>\n",
       "      <td>1.386963</td>\n",
       "      <td>-1.089676</td>\n",
       "    </tr>\n",
       "    <tr>\n",
       "      <th>9</th>\n",
       "      <th>YAL011W</th>\n",
       "      <td>0.400872</td>\n",
       "      <td>0.441868</td>\n",
       "      <td>24.443096</td>\n",
       "      <td>73.838673</td>\n",
       "      <td>0.031438</td>\n",
       "      <td>65.973874</td>\n",
       "      <td>81.689552</td>\n",
       "      <td>65.713649</td>\n",
       "      <td>0.701357</td>\n",
       "      <td>0.953851</td>\n",
       "      <td>0.782806</td>\n",
       "      <td>0.211334</td>\n",
       "      <td>0.046222</td>\n",
       "      <td>0.243214</td>\n",
       "      <td>-0.316147</td>\n",
       "      <td>-0.291071</td>\n",
       "    </tr>\n",
       "  </tbody>\n",
       "</table>\n",
       "</div>"
      ],
      "text/plain": [
       "dataset_id          16128     16129      16130       16131     16132  \\\n",
       "data_type           value     value      value       value     value   \n",
       "gene_id orf                                                            \n",
       "1863    YAL004W  0.456596  0.402838   9.856012   59.956620  0.014071   \n",
       "4       YAL005C  0.424050  0.363141  12.755347   61.756668  0.018908   \n",
       "6       YAL008W  0.383094  0.344194  18.098631   80.905708  0.021217   \n",
       "8       YAL010C  0.348863  0.382532  24.721095  109.654126  0.080941   \n",
       "9       YAL011W  0.400872  0.441868  24.443096   73.838673  0.031438   \n",
       "\n",
       "dataset_id           16133       16134      16135     16128     16129  \\\n",
       "data_type            value       value      value    valuez    valuez   \n",
       "gene_id orf                                                             \n",
       "1863    YAL004W  52.712209   67.199106  65.112744  2.024843  0.516808   \n",
       "4       YAL005C  59.821186   67.758209  68.147767  1.251848  0.072289   \n",
       "6       YAL008W  58.981233  110.869236  74.234596  0.279134 -0.139876   \n",
       "8       YAL010C  98.489747  150.446431  38.701433 -0.533893  0.289422   \n",
       "9       YAL011W  65.973874   81.689552  65.713649  0.701357  0.953851   \n",
       "\n",
       "dataset_id          16130     16131     16132     16133     16134     16135  \n",
       "data_type          valuez    valuez    valuez    valuez    valuez    valuez  \n",
       "gene_id orf                                                                  \n",
       "1863    YAL004W -0.229673 -0.258965  0.019591 -0.277464 -0.675075 -0.308837  \n",
       "4       YAL005C -0.028432 -0.197982  0.027009  0.001648 -0.661226 -0.219107  \n",
       "6       YAL008W  0.342441  0.450752  0.030550 -0.031330  0.406635 -0.039153  \n",
       "8       YAL010C  0.802101  1.424695  0.122136  1.519848  1.386963 -1.089676  \n",
       "9       YAL011W  0.782806  0.211334  0.046222  0.243214 -0.316147 -0.291071  "
      ]
     },
     "execution_count": 63,
     "metadata": {},
     "output_type": "execute_result"
    }
   ],
   "source": [
    "data_norm[data.isnull()] = np.nan\n",
    "data_all = data.join(data_norm)\n",
    "\n",
    "data_all.head()"
   ]
  },
  {
   "cell_type": "markdown",
   "metadata": {},
   "source": [
    "# Print out"
   ]
  },
  {
   "cell_type": "code",
   "execution_count": 64,
   "metadata": {},
   "outputs": [],
   "source": [
    "for f in ['value','valuez']:\n",
    "    df = data_all.xs(f, level='data_type', axis=1).copy()\n",
    "    df.columns = datasets['name'].values\n",
    "    df = df.droplevel('gene_id', axis=0)\n",
    "    df.to_csv(paper_name + '_' + f + '.txt', sep='\\t')"
   ]
  },
  {
   "cell_type": "markdown",
   "metadata": {},
   "source": [
    "# Save to DB"
   ]
  },
  {
   "cell_type": "code",
   "execution_count": 65,
   "metadata": {},
   "outputs": [],
   "source": [
    "from IO.save_data_to_db3 import *"
   ]
  },
  {
   "cell_type": "code",
   "execution_count": 66,
   "metadata": {},
   "outputs": [
    {
     "name": "stdout",
     "output_type": "stream",
     "text": [
      "Deleting all datasets for PMID 21965291...\n"
     ]
    },
    {
     "name": "stderr",
     "output_type": "stream",
     "text": [
      "  0%|          | 0/8 [00:00<?, ?it/s]"
     ]
    },
    {
     "name": "stdout",
     "output_type": "stream",
     "text": [
      "Inserting the new data...\n"
     ]
    },
    {
     "name": "stderr",
     "output_type": "stream",
     "text": [
      "100%|██████████| 8/8 [00:46<00:00,  5.79s/it]"
     ]
    },
    {
     "name": "stdout",
     "output_type": "stream",
     "text": [
      "Updating the data_modified_on field...\n"
     ]
    },
    {
     "name": "stderr",
     "output_type": "stream",
     "text": [
      "\n"
     ]
    }
   ],
   "source": [
    "save_data_to_db(data_all, paper_pmid)"
   ]
  },
  {
   "cell_type": "code",
   "execution_count": null,
   "metadata": {},
   "outputs": [],
   "source": []
  }
 ],
 "metadata": {
  "kernelspec": {
   "display_name": "yp-data",
   "language": "python",
   "name": "yp-data"
  },
  "language_info": {
   "codemirror_mode": {
    "name": "ipython",
    "version": 3
   },
   "file_extension": ".py",
   "mimetype": "text/x-python",
   "name": "python",
   "nbconvert_exporter": "python",
   "pygments_lexer": "ipython3",
   "version": "3.7.7"
  }
 },
 "nbformat": 4,
 "nbformat_minor": 4
}
