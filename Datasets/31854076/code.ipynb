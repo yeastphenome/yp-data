{
 "cells": [
  {
   "cell_type": "code",
   "execution_count": 1,
   "metadata": {},
   "outputs": [],
   "source": [
    "import numpy as np\n",
    "import pandas as pd\n",
    "\n",
    "import sys\n",
    "\n",
    "from os.path import expanduser\n",
    "sys.path.append(expanduser('~') + '/Lab/Utils/Python/')\n",
    "\n",
    "from Conversions.translate import *\n",
    "from Strings.is_a import *"
   ]
  },
  {
   "cell_type": "markdown",
   "metadata": {},
   "source": [
    "# Initial setup"
   ]
  },
  {
   "cell_type": "code",
   "execution_count": 2,
   "metadata": {},
   "outputs": [],
   "source": [
    "paper_pmid = 31854076\n",
    "paper_name = 'novarina_chang_2019' "
   ]
  },
  {
   "cell_type": "code",
   "execution_count": 3,
   "metadata": {},
   "outputs": [],
   "source": [
    "datasets = pd.read_csv('extras/YeastPhenome_' + str(paper_pmid) + '_datasets_list.txt', sep='\\t', header=None, names=['pmid', 'name'])"
   ]
  },
  {
   "cell_type": "code",
   "execution_count": 4,
   "metadata": {},
   "outputs": [],
   "source": [
    "datasets.set_index('pmid', inplace=True)"
   ]
  },
  {
   "cell_type": "markdown",
   "metadata": {},
   "source": [
    "# Load & process the data"
   ]
  },
  {
   "cell_type": "code",
   "execution_count": 29,
   "metadata": {},
   "outputs": [],
   "source": [
    "original_data = pd.read_excel('raw_data/acel13084-sup-0001-files1.xlsx', sheet_nam='Filtered', header=8, nrows=4898-9)"
   ]
  },
  {
   "cell_type": "code",
   "execution_count": 30,
   "metadata": {},
   "outputs": [
    {
     "name": "stdout",
     "output_type": "stream",
     "text": [
      "Original data dimensions: 4889 x 26\n"
     ]
    }
   ],
   "source": [
    "print('Original data dimensions: %d x %d' % (original_data.shape))"
   ]
  },
  {
   "cell_type": "code",
   "execution_count": 31,
   "metadata": {},
   "outputs": [],
   "source": [
    "original_data['Systematic_Name'] = original_data['Systematic_Name'].astype(str)"
   ]
  },
  {
   "cell_type": "code",
   "execution_count": 32,
   "metadata": {},
   "outputs": [],
   "source": [
    "# Eliminate all white spaces & capitalize\n",
    "original_data['Systematic_Name'] = clean_orf(original_data['Systematic_Name'])"
   ]
  },
  {
   "cell_type": "code",
   "execution_count": 33,
   "metadata": {},
   "outputs": [],
   "source": [
    "original_data.loc[original_data['Systematic_Name']=='YLR287-A','Systematic_Name'] = 'YLR287C-A'"
   ]
  },
  {
   "cell_type": "code",
   "execution_count": 34,
   "metadata": {},
   "outputs": [],
   "source": [
    "# Make sure everything translated ok\n",
    "t = looks_like_orf(original_data['Systematic_Name'])"
   ]
  },
  {
   "cell_type": "code",
   "execution_count": 26,
   "metadata": {},
   "outputs": [
    {
     "name": "stdout",
     "output_type": "stream",
     "text": [
      "     Systematic_Name Common_Name  total_colonies  total_escapers  \\\n",
      "3033           BLANK       BLANK              18               4   \n",
      "\n",
      "      percentage_escapers  pval_percent_escapers  median_size_escapers  \\\n",
      "3033            22.222222               0.901423                 596.0   \n",
      "\n",
      "      pval_size_escapers  escaper_size_1  escaper_size_2  ...  escaper_size_9  \\\n",
      "3033             0.35224           829.0           463.0  ...             NaN   \n",
      "\n",
      "      escaper_size_10  escaper_size_11  escaper_size_12  escaper_size_13  \\\n",
      "3033              NaN              NaN              NaN              NaN   \n",
      "\n",
      "      escaper_size_14  escaper_size_15  escaper_size_16  escaper_size_17  \\\n",
      "3033              NaN              NaN              NaN              NaN   \n",
      "\n",
      "      escaper_size_18  \n",
      "3033              NaN  \n",
      "\n",
      "[1 rows x 26 columns]\n"
     ]
    }
   ],
   "source": [
    "print(original_data.loc[~t,])"
   ]
  },
  {
   "cell_type": "code",
   "execution_count": 36,
   "metadata": {},
   "outputs": [],
   "source": [
    "original_data.drop(index=original_data.loc[~t,].index, inplace=True)"
   ]
  },
  {
   "cell_type": "code",
   "execution_count": 37,
   "metadata": {},
   "outputs": [
    {
     "name": "stdout",
     "output_type": "stream",
     "text": [
      "(4888, 26)\n"
     ]
    }
   ],
   "source": [
    "print(original_data.shape)"
   ]
  },
  {
   "cell_type": "code",
   "execution_count": 38,
   "metadata": {},
   "outputs": [
    {
     "data": {
      "text/html": [
       "<div>\n",
       "<style scoped>\n",
       "    .dataframe tbody tr th:only-of-type {\n",
       "        vertical-align: middle;\n",
       "    }\n",
       "\n",
       "    .dataframe tbody tr th {\n",
       "        vertical-align: top;\n",
       "    }\n",
       "\n",
       "    .dataframe thead th {\n",
       "        text-align: right;\n",
       "    }\n",
       "</style>\n",
       "<table border=\"1\" class=\"dataframe\">\n",
       "  <thead>\n",
       "    <tr style=\"text-align: right;\">\n",
       "      <th></th>\n",
       "      <th>Systematic_Name</th>\n",
       "      <th>Common_Name</th>\n",
       "      <th>total_colonies</th>\n",
       "      <th>total_escapers</th>\n",
       "      <th>percentage_escapers</th>\n",
       "      <th>pval_percent_escapers</th>\n",
       "      <th>median_size_escapers</th>\n",
       "      <th>pval_size_escapers</th>\n",
       "      <th>escaper_size_1</th>\n",
       "      <th>escaper_size_2</th>\n",
       "      <th>...</th>\n",
       "      <th>escaper_size_9</th>\n",
       "      <th>escaper_size_10</th>\n",
       "      <th>escaper_size_11</th>\n",
       "      <th>escaper_size_12</th>\n",
       "      <th>escaper_size_13</th>\n",
       "      <th>escaper_size_14</th>\n",
       "      <th>escaper_size_15</th>\n",
       "      <th>escaper_size_16</th>\n",
       "      <th>escaper_size_17</th>\n",
       "      <th>escaper_size_18</th>\n",
       "    </tr>\n",
       "  </thead>\n",
       "  <tbody>\n",
       "    <tr>\n",
       "      <th>0</th>\n",
       "      <td>YHL033C</td>\n",
       "      <td>RPL8A</td>\n",
       "      <td>18</td>\n",
       "      <td>18</td>\n",
       "      <td>100.0</td>\n",
       "      <td>9.988568e-12</td>\n",
       "      <td>4880.0</td>\n",
       "      <td>2.767236e-13</td>\n",
       "      <td>5366.0</td>\n",
       "      <td>5073.0</td>\n",
       "      <td>...</td>\n",
       "      <td>5299.0</td>\n",
       "      <td>4763.0</td>\n",
       "      <td>5113.0</td>\n",
       "      <td>4561.0</td>\n",
       "      <td>4503.0</td>\n",
       "      <td>4649.0</td>\n",
       "      <td>4191.0</td>\n",
       "      <td>4265.0</td>\n",
       "      <td>4512.0</td>\n",
       "      <td>4860.0</td>\n",
       "    </tr>\n",
       "    <tr>\n",
       "      <th>1</th>\n",
       "      <td>YGL115W</td>\n",
       "      <td>SNF4</td>\n",
       "      <td>18</td>\n",
       "      <td>18</td>\n",
       "      <td>100.0</td>\n",
       "      <td>9.988568e-12</td>\n",
       "      <td>4569.0</td>\n",
       "      <td>2.873003e-13</td>\n",
       "      <td>4927.0</td>\n",
       "      <td>4458.0</td>\n",
       "      <td>...</td>\n",
       "      <td>4306.0</td>\n",
       "      <td>3759.0</td>\n",
       "      <td>3984.0</td>\n",
       "      <td>4151.0</td>\n",
       "      <td>4789.0</td>\n",
       "      <td>4787.0</td>\n",
       "      <td>4620.0</td>\n",
       "      <td>3483.0</td>\n",
       "      <td>4015.0</td>\n",
       "      <td>5051.0</td>\n",
       "    </tr>\n",
       "    <tr>\n",
       "      <th>2</th>\n",
       "      <td>YLR399C</td>\n",
       "      <td>BDF1</td>\n",
       "      <td>18</td>\n",
       "      <td>18</td>\n",
       "      <td>100.0</td>\n",
       "      <td>9.988568e-12</td>\n",
       "      <td>4372.5</td>\n",
       "      <td>2.873003e-13</td>\n",
       "      <td>3913.0</td>\n",
       "      <td>5318.0</td>\n",
       "      <td>...</td>\n",
       "      <td>4386.0</td>\n",
       "      <td>4120.0</td>\n",
       "      <td>4777.0</td>\n",
       "      <td>4359.0</td>\n",
       "      <td>4071.0</td>\n",
       "      <td>4040.0</td>\n",
       "      <td>4412.0</td>\n",
       "      <td>4099.0</td>\n",
       "      <td>4439.0</td>\n",
       "      <td>4177.0</td>\n",
       "    </tr>\n",
       "    <tr>\n",
       "      <th>3</th>\n",
       "      <td>YEL044W</td>\n",
       "      <td>IES6</td>\n",
       "      <td>18</td>\n",
       "      <td>18</td>\n",
       "      <td>100.0</td>\n",
       "      <td>9.988568e-12</td>\n",
       "      <td>4059.5</td>\n",
       "      <td>3.569460e-13</td>\n",
       "      <td>4148.0</td>\n",
       "      <td>4493.0</td>\n",
       "      <td>...</td>\n",
       "      <td>4189.0</td>\n",
       "      <td>7256.0</td>\n",
       "      <td>3640.0</td>\n",
       "      <td>3080.0</td>\n",
       "      <td>3032.0</td>\n",
       "      <td>7127.0</td>\n",
       "      <td>3529.0</td>\n",
       "      <td>3396.0</td>\n",
       "      <td>3245.0</td>\n",
       "      <td>3734.0</td>\n",
       "    </tr>\n",
       "    <tr>\n",
       "      <th>4</th>\n",
       "      <td>YPR099C</td>\n",
       "      <td>-</td>\n",
       "      <td>18</td>\n",
       "      <td>18</td>\n",
       "      <td>100.0</td>\n",
       "      <td>9.988568e-12</td>\n",
       "      <td>3930.5</td>\n",
       "      <td>3.166931e-13</td>\n",
       "      <td>4719.0</td>\n",
       "      <td>4925.0</td>\n",
       "      <td>...</td>\n",
       "      <td>3569.0</td>\n",
       "      <td>3686.0</td>\n",
       "      <td>3835.0</td>\n",
       "      <td>3875.0</td>\n",
       "      <td>3717.0</td>\n",
       "      <td>3147.0</td>\n",
       "      <td>3986.0</td>\n",
       "      <td>3836.0</td>\n",
       "      <td>4393.0</td>\n",
       "      <td>4286.0</td>\n",
       "    </tr>\n",
       "  </tbody>\n",
       "</table>\n",
       "<p>5 rows × 26 columns</p>\n",
       "</div>"
      ],
      "text/plain": [
       "  Systematic_Name Common_Name  total_colonies  total_escapers  \\\n",
       "0         YHL033C       RPL8A              18              18   \n",
       "1         YGL115W        SNF4              18              18   \n",
       "2         YLR399C        BDF1              18              18   \n",
       "3         YEL044W        IES6              18              18   \n",
       "4         YPR099C           -              18              18   \n",
       "\n",
       "   percentage_escapers  pval_percent_escapers  median_size_escapers  \\\n",
       "0                100.0           9.988568e-12                4880.0   \n",
       "1                100.0           9.988568e-12                4569.0   \n",
       "2                100.0           9.988568e-12                4372.5   \n",
       "3                100.0           9.988568e-12                4059.5   \n",
       "4                100.0           9.988568e-12                3930.5   \n",
       "\n",
       "   pval_size_escapers  escaper_size_1  escaper_size_2  ...  escaper_size_9  \\\n",
       "0        2.767236e-13          5366.0          5073.0  ...          5299.0   \n",
       "1        2.873003e-13          4927.0          4458.0  ...          4306.0   \n",
       "2        2.873003e-13          3913.0          5318.0  ...          4386.0   \n",
       "3        3.569460e-13          4148.0          4493.0  ...          4189.0   \n",
       "4        3.166931e-13          4719.0          4925.0  ...          3569.0   \n",
       "\n",
       "   escaper_size_10  escaper_size_11  escaper_size_12  escaper_size_13  \\\n",
       "0           4763.0           5113.0           4561.0           4503.0   \n",
       "1           3759.0           3984.0           4151.0           4789.0   \n",
       "2           4120.0           4777.0           4359.0           4071.0   \n",
       "3           7256.0           3640.0           3080.0           3032.0   \n",
       "4           3686.0           3835.0           3875.0           3717.0   \n",
       "\n",
       "   escaper_size_14  escaper_size_15  escaper_size_16  escaper_size_17  \\\n",
       "0           4649.0           4191.0           4265.0           4512.0   \n",
       "1           4787.0           4620.0           3483.0           4015.0   \n",
       "2           4040.0           4412.0           4099.0           4439.0   \n",
       "3           7127.0           3529.0           3396.0           3245.0   \n",
       "4           3147.0           3986.0           3836.0           4393.0   \n",
       "\n",
       "   escaper_size_18  \n",
       "0           4860.0  \n",
       "1           5051.0  \n",
       "2           4177.0  \n",
       "3           3734.0  \n",
       "4           4286.0  \n",
       "\n",
       "[5 rows x 26 columns]"
      ]
     },
     "execution_count": 38,
     "metadata": {},
     "output_type": "execute_result"
    }
   ],
   "source": [
    "original_data.head()"
   ]
  },
  {
   "cell_type": "code",
   "execution_count": 39,
   "metadata": {},
   "outputs": [],
   "source": [
    "original_data.set_index('Systematic_Name', inplace=True)"
   ]
  },
  {
   "cell_type": "code",
   "execution_count": 40,
   "metadata": {},
   "outputs": [],
   "source": [
    "# Get the relevant columns\n",
    "original_data = original_data.loc[:, 'percentage_escapers'].to_frame()"
   ]
  },
  {
   "cell_type": "code",
   "execution_count": 41,
   "metadata": {},
   "outputs": [
    {
     "name": "stdout",
     "output_type": "stream",
     "text": [
      "(4888, 1)\n"
     ]
    }
   ],
   "source": [
    "print(original_data.shape)"
   ]
  },
  {
   "cell_type": "code",
   "execution_count": 42,
   "metadata": {},
   "outputs": [],
   "source": [
    "# If the same strain is present more than once, average its values\n",
    "data = original_data.groupby(original_data.index.values).mean()"
   ]
  },
  {
   "cell_type": "code",
   "execution_count": 43,
   "metadata": {},
   "outputs": [
    {
     "name": "stdout",
     "output_type": "stream",
     "text": [
      "Final data dimensions: 4640 x 1\n"
     ]
    }
   ],
   "source": [
    "print('Final data dimensions: %d x %d' % (data.shape))"
   ]
  },
  {
   "cell_type": "markdown",
   "metadata": {},
   "source": [
    "# Prepare the final dataset"
   ]
  },
  {
   "cell_type": "code",
   "execution_count": 44,
   "metadata": {},
   "outputs": [],
   "source": [
    "dataset_ids = [16401]"
   ]
  },
  {
   "cell_type": "code",
   "execution_count": 45,
   "metadata": {},
   "outputs": [],
   "source": [
    "datasets = datasets.reindex(index=dataset_ids)"
   ]
  },
  {
   "cell_type": "code",
   "execution_count": 46,
   "metadata": {},
   "outputs": [],
   "source": [
    "# Create row index\n",
    "data.index.name='orf'\n",
    "data.columns = datasets['name']"
   ]
  },
  {
   "cell_type": "markdown",
   "metadata": {},
   "source": [
    "# Print out"
   ]
  },
  {
   "cell_type": "code",
   "execution_count": 48,
   "metadata": {},
   "outputs": [],
   "source": [
    "data.to_csv(paper_name + '.txt', sep='\\t')"
   ]
  },
  {
   "cell_type": "markdown",
   "metadata": {},
   "source": [
    "# Save to DB"
   ]
  },
  {
   "cell_type": "code",
   "execution_count": 49,
   "metadata": {},
   "outputs": [],
   "source": [
    "from IO.save_data_to_db2 import *"
   ]
  },
  {
   "cell_type": "code",
   "execution_count": 50,
   "metadata": {},
   "outputs": [],
   "source": [
    "# Create column index\n",
    "lst = [datasets.index.values, datasets['name'].values]\n",
    "tuples = list(zip(*lst))\n",
    "idx = pd.MultiIndex.from_tuples(tuples, names=['dataset_id','dataset_name'])\n",
    "data.columns = idx"
   ]
  },
  {
   "cell_type": "code",
   "execution_count": 51,
   "metadata": {},
   "outputs": [],
   "source": [
    "save_data_to_db(data, paper_pmid)"
   ]
  },
  {
   "cell_type": "code",
   "execution_count": null,
   "metadata": {},
   "outputs": [],
   "source": []
  }
 ],
 "metadata": {
  "kernelspec": {
   "display_name": "yp-data",
   "language": "python",
   "name": "yp-data"
  },
  "language_info": {
   "codemirror_mode": {
    "name": "ipython",
    "version": 3
   },
   "file_extension": ".py",
   "mimetype": "text/x-python",
   "name": "python",
   "nbconvert_exporter": "python",
   "pygments_lexer": "ipython3",
   "version": "3.7.7"
  }
 },
 "nbformat": 4,
 "nbformat_minor": 4
}
