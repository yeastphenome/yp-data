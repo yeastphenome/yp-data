{
 "cells": [
  {
   "cell_type": "code",
   "execution_count": 1,
   "metadata": {},
   "outputs": [],
   "source": [
    "%run ../yp_utils.py"
   ]
  },
  {
   "cell_type": "markdown",
   "metadata": {},
   "source": [
    "# Initial setup"
   ]
  },
  {
   "cell_type": "code",
   "execution_count": 2,
   "metadata": {},
   "outputs": [],
   "source": [
    "paper_pmid = 35417721\n",
    "paper_name = 'stolp_hardwick_2022' "
   ]
  },
  {
   "cell_type": "code",
   "execution_count": 3,
   "metadata": {},
   "outputs": [],
   "source": [
    "datasets = pd.read_csv('extras/YeastPhenome_' + str(paper_pmid) + '_datasets_list.txt', sep='\\t', header=None, names=['dataset_id', 'name'])"
   ]
  },
  {
   "cell_type": "code",
   "execution_count": 4,
   "metadata": {},
   "outputs": [],
   "source": [
    "datasets.set_index('dataset_id', inplace=True)"
   ]
  },
  {
   "cell_type": "markdown",
   "metadata": {},
   "source": [
    "# Load & process the data"
   ]
  },
  {
   "cell_type": "code",
   "execution_count": 41,
   "metadata": {},
   "outputs": [],
   "source": [
    "original_data = pd.read_excel('raw_data/1-s2.0-S2211124722003990-mmc2.xlsx', sheet_name='TableS1_Heat-ramp screen', \n",
    "                              skiprows=1, skipfooter=25)"
   ]
  },
  {
   "cell_type": "code",
   "execution_count": 42,
   "metadata": {},
   "outputs": [
    {
     "name": "stdout",
     "output_type": "stream",
     "text": [
      "Original data dimensions: 4553 x 22\n"
     ]
    }
   ],
   "source": [
    "print('Original data dimensions: %d x %d' % (original_data.shape))"
   ]
  },
  {
   "cell_type": "code",
   "execution_count": 43,
   "metadata": {},
   "outputs": [
    {
     "data": {
      "text/html": [
       "<div>\n",
       "<style scoped>\n",
       "    .dataframe tbody tr th:only-of-type {\n",
       "        vertical-align: middle;\n",
       "    }\n",
       "\n",
       "    .dataframe tbody tr th {\n",
       "        vertical-align: top;\n",
       "    }\n",
       "\n",
       "    .dataframe thead th {\n",
       "        text-align: right;\n",
       "    }\n",
       "</style>\n",
       "<table border=\"1\" class=\"dataframe\">\n",
       "  <thead>\n",
       "    <tr style=\"text-align: right;\">\n",
       "      <th></th>\n",
       "      <th>rank</th>\n",
       "      <th>orf_name</th>\n",
       "      <th>gene</th>\n",
       "      <th>description</th>\n",
       "      <th>well_id</th>\n",
       "      <th>plate</th>\n",
       "      <th>row</th>\n",
       "      <th>column</th>\n",
       "      <th>n_undiluted</th>\n",
       "      <th>corr_mean_undiluted</th>\n",
       "      <th>...</th>\n",
       "      <th>n_diluted</th>\n",
       "      <th>corr_mean_diluted</th>\n",
       "      <th>var_diluted</th>\n",
       "      <th>mean_diluted</th>\n",
       "      <th>corr_mean</th>\n",
       "      <th>mean</th>\n",
       "      <th>ABS595</th>\n",
       "      <th>corr_mean_abs</th>\n",
       "      <th>z.score</th>\n",
       "      <th>corr_z</th>\n",
       "    </tr>\n",
       "  </thead>\n",
       "  <tbody>\n",
       "    <tr>\n",
       "      <th>0</th>\n",
       "      <td>1</td>\n",
       "      <td>YKL009W</td>\n",
       "      <td>MRT4</td>\n",
       "      <td>Protein involved in mRNA turnover and ribosome...</td>\n",
       "      <td>17_F_2</td>\n",
       "      <td>17</td>\n",
       "      <td>F</td>\n",
       "      <td>2</td>\n",
       "      <td>4</td>\n",
       "      <td>786.232521</td>\n",
       "      <td>...</td>\n",
       "      <td>4</td>\n",
       "      <td>512.585704</td>\n",
       "      <td>3635.126791</td>\n",
       "      <td>463.75</td>\n",
       "      <td>649.409113</td>\n",
       "      <td>398.500</td>\n",
       "      <td>1.033</td>\n",
       "      <td>628.663226</td>\n",
       "      <td>5.515282</td>\n",
       "      <td>5.568483</td>\n",
       "    </tr>\n",
       "    <tr>\n",
       "      <th>1</th>\n",
       "      <td>2</td>\n",
       "      <td>YEL054C</td>\n",
       "      <td>RPL12A</td>\n",
       "      <td>Protein component of the large (60S) ribosomal...</td>\n",
       "      <td>12_H_1</td>\n",
       "      <td>12</td>\n",
       "      <td>H</td>\n",
       "      <td>1</td>\n",
       "      <td>4</td>\n",
       "      <td>560.324538</td>\n",
       "      <td>...</td>\n",
       "      <td>4</td>\n",
       "      <td>453.709102</td>\n",
       "      <td>4635.895097</td>\n",
       "      <td>417.50</td>\n",
       "      <td>507.016820</td>\n",
       "      <td>350.500</td>\n",
       "      <td>1.088</td>\n",
       "      <td>466.008106</td>\n",
       "      <td>5.247989</td>\n",
       "      <td>5.369303</td>\n",
       "    </tr>\n",
       "    <tr>\n",
       "      <th>2</th>\n",
       "      <td>3</td>\n",
       "      <td>YPR134W</td>\n",
       "      <td>MSS18</td>\n",
       "      <td>Nuclear encoded protein needed for efficient s...</td>\n",
       "      <td>25_G_2</td>\n",
       "      <td>25</td>\n",
       "      <td>G</td>\n",
       "      <td>2</td>\n",
       "      <td>4</td>\n",
       "      <td>399.337638</td>\n",
       "      <td>...</td>\n",
       "      <td>4</td>\n",
       "      <td>271.752450</td>\n",
       "      <td>2359.136350</td>\n",
       "      <td>262.50</td>\n",
       "      <td>335.545044</td>\n",
       "      <td>249.875</td>\n",
       "      <td>0.979</td>\n",
       "      <td>342.742640</td>\n",
       "      <td>5.196129</td>\n",
       "      <td>5.121583</td>\n",
       "    </tr>\n",
       "    <tr>\n",
       "      <th>3</th>\n",
       "      <td>4</td>\n",
       "      <td>YBR048W</td>\n",
       "      <td>RPS11B</td>\n",
       "      <td>Protein component of the small (40S) ribosomal...</td>\n",
       "      <td>42_C_6</td>\n",
       "      <td>42</td>\n",
       "      <td>C</td>\n",
       "      <td>6</td>\n",
       "      <td>4</td>\n",
       "      <td>619.306335</td>\n",
       "      <td>...</td>\n",
       "      <td>4</td>\n",
       "      <td>535.242639</td>\n",
       "      <td>2074.767171</td>\n",
       "      <td>481.25</td>\n",
       "      <td>577.274487</td>\n",
       "      <td>390.250</td>\n",
       "      <td>0.998</td>\n",
       "      <td>578.431350</td>\n",
       "      <td>5.821500</td>\n",
       "      <td>4.978703</td>\n",
       "    </tr>\n",
       "    <tr>\n",
       "      <th>4</th>\n",
       "      <td>5</td>\n",
       "      <td>YHL011C</td>\n",
       "      <td>PRS3</td>\n",
       "      <td>5-phospho-ribosyl-1(alpha)-pyrophosphate synth...</td>\n",
       "      <td>36_C_2</td>\n",
       "      <td>36</td>\n",
       "      <td>C</td>\n",
       "      <td>2</td>\n",
       "      <td>4</td>\n",
       "      <td>1030.091709</td>\n",
       "      <td>...</td>\n",
       "      <td>4</td>\n",
       "      <td>452.867680</td>\n",
       "      <td>12789.811650</td>\n",
       "      <td>415.00</td>\n",
       "      <td>741.479695</td>\n",
       "      <td>396.250</td>\n",
       "      <td>0.975</td>\n",
       "      <td>760.491995</td>\n",
       "      <td>5.293253</td>\n",
       "      <td>4.953066</td>\n",
       "    </tr>\n",
       "  </tbody>\n",
       "</table>\n",
       "<p>5 rows × 22 columns</p>\n",
       "</div>"
      ],
      "text/plain": [
       "   rank orf_name    gene                                        description  \\\n",
       "0     1  YKL009W    MRT4  Protein involved in mRNA turnover and ribosome...   \n",
       "1     2  YEL054C  RPL12A  Protein component of the large (60S) ribosomal...   \n",
       "2     3  YPR134W   MSS18  Nuclear encoded protein needed for efficient s...   \n",
       "3     4  YBR048W  RPS11B  Protein component of the small (40S) ribosomal...   \n",
       "4     5  YHL011C    PRS3  5-phospho-ribosyl-1(alpha)-pyrophosphate synth...   \n",
       "\n",
       "  well_id  plate row  column  n_undiluted  corr_mean_undiluted  ...  \\\n",
       "0  17_F_2     17   F       2            4           786.232521  ...   \n",
       "1  12_H_1     12   H       1            4           560.324538  ...   \n",
       "2  25_G_2     25   G       2            4           399.337638  ...   \n",
       "3  42_C_6     42   C       6            4           619.306335  ...   \n",
       "4  36_C_2     36   C       2            4          1030.091709  ...   \n",
       "\n",
       "   n_diluted  corr_mean_diluted   var_diluted  mean_diluted   corr_mean  \\\n",
       "0          4         512.585704   3635.126791        463.75  649.409113   \n",
       "1          4         453.709102   4635.895097        417.50  507.016820   \n",
       "2          4         271.752450   2359.136350        262.50  335.545044   \n",
       "3          4         535.242639   2074.767171        481.25  577.274487   \n",
       "4          4         452.867680  12789.811650        415.00  741.479695   \n",
       "\n",
       "      mean  ABS595  corr_mean_abs   z.score    corr_z  \n",
       "0  398.500   1.033     628.663226  5.515282  5.568483  \n",
       "1  350.500   1.088     466.008106  5.247989  5.369303  \n",
       "2  249.875   0.979     342.742640  5.196129  5.121583  \n",
       "3  390.250   0.998     578.431350  5.821500  4.978703  \n",
       "4  396.250   0.975     760.491995  5.293253  4.953066  \n",
       "\n",
       "[5 rows x 22 columns]"
      ]
     },
     "execution_count": 43,
     "metadata": {},
     "output_type": "execute_result"
    }
   ],
   "source": [
    "original_data.head()"
   ]
  },
  {
   "cell_type": "code",
   "execution_count": 44,
   "metadata": {},
   "outputs": [],
   "source": [
    "original_data['orf'] = original_data['orf_name'].astype(str)"
   ]
  },
  {
   "cell_type": "code",
   "execution_count": 45,
   "metadata": {},
   "outputs": [],
   "source": [
    "# Eliminate all white spaces & capitalize\n",
    "original_data['orf'] = clean_orf(original_data['orf'])"
   ]
  },
  {
   "cell_type": "code",
   "execution_count": 46,
   "metadata": {},
   "outputs": [],
   "source": [
    "# Translate to ORFs \n",
    "original_data['orf'] = translate_sc(original_data['orf'], to='orf')"
   ]
  },
  {
   "cell_type": "code",
   "execution_count": 47,
   "metadata": {},
   "outputs": [],
   "source": [
    "original_data.loc[original_data['orf']=='YLR287-A','orf'] = 'YLR287C-A'"
   ]
  },
  {
   "cell_type": "code",
   "execution_count": 48,
   "metadata": {},
   "outputs": [
    {
     "name": "stdout",
     "output_type": "stream",
     "text": [
      "Empty DataFrame\n",
      "Columns: [rank, orf_name, gene, description, well_id, plate, row, column, n_undiluted, corr_mean_undiluted, var_undiluted, mean_undiluted, n_diluted, corr_mean_diluted, var_diluted, mean_diluted, corr_mean, mean, ABS595, corr_mean_abs, z.score, corr_z, orf]\n",
      "Index: []\n",
      "\n",
      "[0 rows x 23 columns]\n"
     ]
    }
   ],
   "source": [
    "# Make sure everything translated ok\n",
    "t = looks_like_orf(original_data['orf'])\n",
    "print(original_data.loc[~t,])"
   ]
  },
  {
   "cell_type": "code",
   "execution_count": 49,
   "metadata": {},
   "outputs": [],
   "source": [
    "original_data['data'] = original_data['corr_z']"
   ]
  },
  {
   "cell_type": "code",
   "execution_count": 50,
   "metadata": {},
   "outputs": [],
   "source": [
    "original_data.set_index('orf', inplace=True)"
   ]
  },
  {
   "cell_type": "code",
   "execution_count": 51,
   "metadata": {},
   "outputs": [],
   "source": [
    "original_data = original_data[['data']].copy()"
   ]
  },
  {
   "cell_type": "code",
   "execution_count": 52,
   "metadata": {},
   "outputs": [],
   "source": [
    "original_data = original_data.groupby(original_data.index).mean()"
   ]
  },
  {
   "cell_type": "code",
   "execution_count": 53,
   "metadata": {},
   "outputs": [
    {
     "data": {
      "text/plain": [
       "(4471, 1)"
      ]
     },
     "execution_count": 53,
     "metadata": {},
     "output_type": "execute_result"
    }
   ],
   "source": [
    "original_data.shape"
   ]
  },
  {
   "cell_type": "markdown",
   "metadata": {},
   "source": [
    "# Prepare the final dataset"
   ]
  },
  {
   "cell_type": "code",
   "execution_count": 54,
   "metadata": {},
   "outputs": [],
   "source": [
    "data = original_data.copy()"
   ]
  },
  {
   "cell_type": "code",
   "execution_count": 55,
   "metadata": {},
   "outputs": [],
   "source": [
    "dataset_ids = [22220]\n",
    "datasets = datasets.reindex(index=dataset_ids)"
   ]
  },
  {
   "cell_type": "code",
   "execution_count": 56,
   "metadata": {},
   "outputs": [],
   "source": [
    "lst = [datasets.index.values, ['value']*datasets.shape[0]]\n",
    "tuples = list(zip(*lst))\n",
    "idx = pd.MultiIndex.from_tuples(tuples, names=['dataset_id','data_type'])\n",
    "data.columns = idx"
   ]
  },
  {
   "cell_type": "code",
   "execution_count": 57,
   "metadata": {},
   "outputs": [
    {
     "data": {
      "text/html": [
       "<div>\n",
       "<style scoped>\n",
       "    .dataframe tbody tr th:only-of-type {\n",
       "        vertical-align: middle;\n",
       "    }\n",
       "\n",
       "    .dataframe tbody tr th {\n",
       "        vertical-align: top;\n",
       "    }\n",
       "\n",
       "    .dataframe thead tr th {\n",
       "        text-align: left;\n",
       "    }\n",
       "\n",
       "    .dataframe thead tr:last-of-type th {\n",
       "        text-align: right;\n",
       "    }\n",
       "</style>\n",
       "<table border=\"1\" class=\"dataframe\">\n",
       "  <thead>\n",
       "    <tr>\n",
       "      <th>dataset_id</th>\n",
       "      <th>22220</th>\n",
       "    </tr>\n",
       "    <tr>\n",
       "      <th>data_type</th>\n",
       "      <th>value</th>\n",
       "    </tr>\n",
       "    <tr>\n",
       "      <th>orf</th>\n",
       "      <th></th>\n",
       "    </tr>\n",
       "  </thead>\n",
       "  <tbody>\n",
       "    <tr>\n",
       "      <th>YAL012W</th>\n",
       "      <td>-1.041184</td>\n",
       "    </tr>\n",
       "    <tr>\n",
       "      <th>YAL016W</th>\n",
       "      <td>0.918156</td>\n",
       "    </tr>\n",
       "    <tr>\n",
       "      <th>YAL024C</th>\n",
       "      <td>0.362998</td>\n",
       "    </tr>\n",
       "    <tr>\n",
       "      <th>YAL047C</th>\n",
       "      <td>-0.898186</td>\n",
       "    </tr>\n",
       "    <tr>\n",
       "      <th>YAL054C</th>\n",
       "      <td>-0.071272</td>\n",
       "    </tr>\n",
       "  </tbody>\n",
       "</table>\n",
       "</div>"
      ],
      "text/plain": [
       "dataset_id     22220\n",
       "data_type      value\n",
       "orf                 \n",
       "YAL012W    -1.041184\n",
       "YAL016W     0.918156\n",
       "YAL024C     0.362998\n",
       "YAL047C    -0.898186\n",
       "YAL054C    -0.071272"
      ]
     },
     "execution_count": 57,
     "metadata": {},
     "output_type": "execute_result"
    }
   ],
   "source": [
    "data.head()"
   ]
  },
  {
   "cell_type": "markdown",
   "metadata": {},
   "source": [
    "## Subset to the genes currently in SGD"
   ]
  },
  {
   "cell_type": "code",
   "execution_count": 58,
   "metadata": {},
   "outputs": [
    {
     "name": "stdout",
     "output_type": "stream",
     "text": [
      "ORFs missing from SGD: 17\n"
     ]
    }
   ],
   "source": [
    "genes = pd.read_csv(path_to_genes, sep='\\t', index_col='id')\n",
    "genes = genes.reset_index().set_index('systematic_name')\n",
    "gene_ids = genes.reindex(index=data.index.values)['id'].values\n",
    "num_missing = np.sum(np.isnan(gene_ids))\n",
    "print('ORFs missing from SGD: %d' % num_missing)"
   ]
  },
  {
   "cell_type": "code",
   "execution_count": 59,
   "metadata": {},
   "outputs": [
    {
     "data": {
      "text/html": [
       "<div>\n",
       "<style scoped>\n",
       "    .dataframe tbody tr th:only-of-type {\n",
       "        vertical-align: middle;\n",
       "    }\n",
       "\n",
       "    .dataframe tbody tr th {\n",
       "        vertical-align: top;\n",
       "    }\n",
       "\n",
       "    .dataframe thead tr th {\n",
       "        text-align: left;\n",
       "    }\n",
       "\n",
       "    .dataframe thead tr:last-of-type th {\n",
       "        text-align: right;\n",
       "    }\n",
       "</style>\n",
       "<table border=\"1\" class=\"dataframe\">\n",
       "  <thead>\n",
       "    <tr>\n",
       "      <th></th>\n",
       "      <th>dataset_id</th>\n",
       "      <th>22220</th>\n",
       "    </tr>\n",
       "    <tr>\n",
       "      <th></th>\n",
       "      <th>data_type</th>\n",
       "      <th>value</th>\n",
       "    </tr>\n",
       "    <tr>\n",
       "      <th>gene_id</th>\n",
       "      <th>orf</th>\n",
       "      <th></th>\n",
       "    </tr>\n",
       "  </thead>\n",
       "  <tbody>\n",
       "    <tr>\n",
       "      <th>10</th>\n",
       "      <th>YAL012W</th>\n",
       "      <td>-1.041184</td>\n",
       "    </tr>\n",
       "    <tr>\n",
       "      <th>14</th>\n",
       "      <th>YAL016W</th>\n",
       "      <td>0.918156</td>\n",
       "    </tr>\n",
       "    <tr>\n",
       "      <th>22</th>\n",
       "      <th>YAL024C</th>\n",
       "      <td>0.362998</td>\n",
       "    </tr>\n",
       "    <tr>\n",
       "      <th>45</th>\n",
       "      <th>YAL047C</th>\n",
       "      <td>-0.898186</td>\n",
       "    </tr>\n",
       "    <tr>\n",
       "      <th>50</th>\n",
       "      <th>YAL054C</th>\n",
       "      <td>-0.071272</td>\n",
       "    </tr>\n",
       "  </tbody>\n",
       "</table>\n",
       "</div>"
      ],
      "text/plain": [
       "dataset_id          22220\n",
       "data_type           value\n",
       "gene_id orf              \n",
       "10      YAL012W -1.041184\n",
       "14      YAL016W  0.918156\n",
       "22      YAL024C  0.362998\n",
       "45      YAL047C -0.898186\n",
       "50      YAL054C -0.071272"
      ]
     },
     "execution_count": 59,
     "metadata": {},
     "output_type": "execute_result"
    }
   ],
   "source": [
    "data['gene_id'] = gene_ids\n",
    "data = data.loc[data['gene_id'].notnull()]\n",
    "data['gene_id'] = data['gene_id'].astype(int)\n",
    "data = data.reset_index().set_index(['gene_id','orf'])\n",
    "\n",
    "data.head()"
   ]
  },
  {
   "cell_type": "markdown",
   "metadata": {},
   "source": [
    "# Normalize"
   ]
  },
  {
   "cell_type": "code",
   "execution_count": 60,
   "metadata": {},
   "outputs": [],
   "source": [
    "data_norm = normalize_phenotypic_scores(data, has_tested=True)"
   ]
  },
  {
   "cell_type": "code",
   "execution_count": 61,
   "metadata": {},
   "outputs": [],
   "source": [
    "# Assign proper column names\n",
    "lst = [datasets.index.values, ['valuez']*datasets.shape[0]]\n",
    "tuples = list(zip(*lst))\n",
    "idx = pd.MultiIndex.from_tuples(tuples, names=['dataset_id','data_type'])\n",
    "data_norm.columns = idx"
   ]
  },
  {
   "cell_type": "code",
   "execution_count": 62,
   "metadata": {},
   "outputs": [
    {
     "data": {
      "text/html": [
       "<div>\n",
       "<style scoped>\n",
       "    .dataframe tbody tr th:only-of-type {\n",
       "        vertical-align: middle;\n",
       "    }\n",
       "\n",
       "    .dataframe tbody tr th {\n",
       "        vertical-align: top;\n",
       "    }\n",
       "\n",
       "    .dataframe thead tr th {\n",
       "        text-align: left;\n",
       "    }\n",
       "\n",
       "    .dataframe thead tr:last-of-type th {\n",
       "        text-align: right;\n",
       "    }\n",
       "</style>\n",
       "<table border=\"1\" class=\"dataframe\">\n",
       "  <thead>\n",
       "    <tr>\n",
       "      <th></th>\n",
       "      <th>dataset_id</th>\n",
       "      <th colspan=\"2\" halign=\"left\">22220</th>\n",
       "    </tr>\n",
       "    <tr>\n",
       "      <th></th>\n",
       "      <th>data_type</th>\n",
       "      <th>value</th>\n",
       "      <th>valuez</th>\n",
       "    </tr>\n",
       "    <tr>\n",
       "      <th>gene_id</th>\n",
       "      <th>orf</th>\n",
       "      <th></th>\n",
       "      <th></th>\n",
       "    </tr>\n",
       "  </thead>\n",
       "  <tbody>\n",
       "    <tr>\n",
       "      <th>10</th>\n",
       "      <th>YAL012W</th>\n",
       "      <td>-1.041184</td>\n",
       "      <td>-0.459166</td>\n",
       "    </tr>\n",
       "    <tr>\n",
       "      <th>14</th>\n",
       "      <th>YAL016W</th>\n",
       "      <td>0.918156</td>\n",
       "      <td>1.294026</td>\n",
       "    </tr>\n",
       "    <tr>\n",
       "      <th>22</th>\n",
       "      <th>YAL024C</th>\n",
       "      <td>0.362998</td>\n",
       "      <td>0.797278</td>\n",
       "    </tr>\n",
       "    <tr>\n",
       "      <th>45</th>\n",
       "      <th>YAL047C</th>\n",
       "      <td>-0.898186</td>\n",
       "      <td>-0.331213</td>\n",
       "    </tr>\n",
       "    <tr>\n",
       "      <th>50</th>\n",
       "      <th>YAL054C</th>\n",
       "      <td>-0.071272</td>\n",
       "      <td>0.408699</td>\n",
       "    </tr>\n",
       "  </tbody>\n",
       "</table>\n",
       "</div>"
      ],
      "text/plain": [
       "dataset_id          22220          \n",
       "data_type           value    valuez\n",
       "gene_id orf                        \n",
       "10      YAL012W -1.041184 -0.459166\n",
       "14      YAL016W  0.918156  1.294026\n",
       "22      YAL024C  0.362998  0.797278\n",
       "45      YAL047C -0.898186 -0.331213\n",
       "50      YAL054C -0.071272  0.408699"
      ]
     },
     "execution_count": 62,
     "metadata": {},
     "output_type": "execute_result"
    }
   ],
   "source": [
    "data_norm[data.isnull()] = np.nan\n",
    "data_all = data.join(data_norm)\n",
    "\n",
    "data_all.head()"
   ]
  },
  {
   "cell_type": "markdown",
   "metadata": {},
   "source": [
    "# Print out"
   ]
  },
  {
   "cell_type": "code",
   "execution_count": 63,
   "metadata": {},
   "outputs": [],
   "source": [
    "for f in ['value','valuez']:\n",
    "    df = data_all.xs(f, level='data_type', axis=1).copy()\n",
    "    df.columns = datasets['name'].values\n",
    "    df = df.droplevel('gene_id', axis=0)\n",
    "    df.to_csv(paper_name + '_' + f + '.txt', sep='\\t')"
   ]
  },
  {
   "cell_type": "markdown",
   "metadata": {},
   "source": [
    "# Save to DB"
   ]
  },
  {
   "cell_type": "code",
   "execution_count": 64,
   "metadata": {},
   "outputs": [],
   "source": [
    "from IO.save_data_to_db3 import *"
   ]
  },
  {
   "cell_type": "code",
   "execution_count": 65,
   "metadata": {},
   "outputs": [
    {
     "name": "stderr",
     "output_type": "stream",
     "text": [
      "  0%|          | 0/1 [00:00<?, ?it/s]"
     ]
    },
    {
     "name": "stdout",
     "output_type": "stream",
     "text": [
      "Deleting all datasets for PMID 35417721...\n",
      "Inserting the new data...\n"
     ]
    },
    {
     "name": "stderr",
     "output_type": "stream",
     "text": [
      "100%|██████████| 1/1 [00:08<00:00,  8.42s/it]"
     ]
    },
    {
     "name": "stdout",
     "output_type": "stream",
     "text": [
      "Updating the data_modified_on field...\n"
     ]
    },
    {
     "name": "stderr",
     "output_type": "stream",
     "text": [
      "\n"
     ]
    }
   ],
   "source": [
    "save_data_to_db(data_all, paper_pmid)"
   ]
  },
  {
   "cell_type": "code",
   "execution_count": null,
   "metadata": {},
   "outputs": [],
   "source": []
  }
 ],
 "metadata": {
  "kernelspec": {
   "display_name": "yp-data",
   "language": "python",
   "name": "yp-data"
  },
  "language_info": {
   "codemirror_mode": {
    "name": "ipython",
    "version": 3
   },
   "file_extension": ".py",
   "mimetype": "text/x-python",
   "name": "python",
   "nbconvert_exporter": "python",
   "pygments_lexer": "ipython3",
   "version": "3.7.7"
  }
 },
 "nbformat": 4,
 "nbformat_minor": 4
}
