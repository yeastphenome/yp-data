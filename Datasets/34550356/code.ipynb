{
 "cells": [
  {
   "cell_type": "code",
   "execution_count": 1,
   "metadata": {},
   "outputs": [],
   "source": [
    "%run ../yp_utils.py"
   ]
  },
  {
   "cell_type": "markdown",
   "metadata": {},
   "source": [
    "# Initial setup"
   ]
  },
  {
   "cell_type": "code",
   "execution_count": 2,
   "metadata": {},
   "outputs": [],
   "source": [
    "paper_pmid = 34550356\n",
    "paper_name = 'zhou_foijer_2021' "
   ]
  },
  {
   "cell_type": "code",
   "execution_count": 3,
   "metadata": {},
   "outputs": [],
   "source": [
    "datasets = pd.read_csv('extras/YeastPhenome_' + str(paper_pmid) + '_datasets_list.txt', sep='\\t', header=None, names=['dataset_id', 'name'])"
   ]
  },
  {
   "cell_type": "code",
   "execution_count": 4,
   "metadata": {},
   "outputs": [],
   "source": [
    "datasets.set_index('dataset_id', inplace=True)"
   ]
  },
  {
   "cell_type": "markdown",
   "metadata": {},
   "source": [
    "# Load & process the data"
   ]
  },
  {
   "cell_type": "code",
   "execution_count": 111,
   "metadata": {},
   "outputs": [],
   "source": [
    "sheets = ['Screen1-YKO raw data','Screen2-YKO raw data']"
   ]
  },
  {
   "cell_type": "code",
   "execution_count": 112,
   "metadata": {},
   "outputs": [
    {
     "name": "stdout",
     "output_type": "stream",
     "text": [
      "Original data dimensions: 10752 x 30\n",
      "               Query  Condition Plate # Row  Column   P-Value  Z-Score  \\\n",
      "index_input                                                              \n",
      "17              MELK        NaN     [1]   B       2  0.733240  0.34083   \n",
      "33              MELK        NaN     [1]   B       3  0.968280 -0.03976   \n",
      "46              MELK        NaN     [1]   O       3  0.968280 -0.03976   \n",
      "47              MELK        NaN     [1]   P       3  0.968280 -0.03976   \n",
      "62              MELK        NaN     [1]   O       4       NaN      NaN   \n",
      "...              ...        ...     ...  ..     ...       ...      ...   \n",
      "10431        MELK_kd        NaN     [9]   P       4       NaN      NaN   \n",
      "10645        MELK_kd        NaN     [9]   F      18  0.842400 -0.19882   \n",
      "10661        MELK_kd        NaN     [9]   F      19       NaN      NaN   \n",
      "10708        MELK_kd        NaN     [9]   E      22  0.842400 -0.19882   \n",
      "10724        MELK_kd        NaN     [9]   E      23  0.000007  4.47953   \n",
      "\n",
      "            Normalized Growth Ratio (Comparer::Exp)  \\\n",
      "index_input                                           \n",
      "17                           blank-1.19::1.01-blank   \n",
      "33                             dead-0.10::0.10-dead   \n",
      "46                             dead-0.10::0.10-dead   \n",
      "47                             dead-0.10::0.10-dead   \n",
      "62                     excluded-0.10::0.10-excluded   \n",
      "...                                             ...   \n",
      "10431                  excluded-0.02::0.03-excluded   \n",
      "10645                          dead-0.10::0.10-dead   \n",
      "10661                  excluded-0.10::0.10-excluded   \n",
      "10708                          dead-0.10::0.10-dead   \n",
      "10724                        blank-1.12::0.10-blank   \n",
      "\n",
      "             Growth Ratio (Comparer / Exp)  Log Growth Ratio  ... description  \\\n",
      "index_input                                                   ...               \n",
      "17                                    1.17           0.16099  ...         NaN   \n",
      "33                                    1.00           0.00000  ...         NaN   \n",
      "46                                    1.00           0.00000  ...         NaN   \n",
      "47                                    1.00           0.00000  ...         NaN   \n",
      "62                                    1.00           0.00000  ...         NaN   \n",
      "...                                    ...               ...  ...         ...   \n",
      "10431                                 0.82          -0.19353  ...         NaN   \n",
      "10645                                 1.00           0.00000  ...         NaN   \n",
      "10661                                 0.00           0.00000  ...         NaN   \n",
      "10708                                 1.00           0.00000  ...         NaN   \n",
      "10724                                11.18           2.41402  ...         NaN   \n",
      "\n",
      "            go biological process go molecular function go cellular component  \\\n",
      "index_input                                                                     \n",
      "17                            NaN                   NaN                   NaN   \n",
      "33                            NaN                   NaN                   NaN   \n",
      "46                            NaN                   NaN                   NaN   \n",
      "47                            NaN                   NaN                   NaN   \n",
      "62                            NaN                   NaN                   NaN   \n",
      "...                           ...                   ...                   ...   \n",
      "10431                         NaN                   NaN                   NaN   \n",
      "10645                         NaN                   NaN                   NaN   \n",
      "10661                         NaN                   NaN                   NaN   \n",
      "10708                         NaN                   NaN                   NaN   \n",
      "10724                         NaN                   NaN                   NaN   \n",
      "\n",
      "            plate rnum  op  or  oc    orf  \n",
      "index_input                                \n",
      "17            NaN  NaN NaN NaN NaN  BLANK  \n",
      "33            NaN  NaN NaN NaN NaN  BLANK  \n",
      "46            NaN  NaN NaN NaN NaN  BLANK  \n",
      "47            NaN  NaN NaN NaN NaN  BLANK  \n",
      "62            NaN  NaN NaN NaN NaN  BLANK  \n",
      "...           ...  ...  ..  ..  ..    ...  \n",
      "10431         NaN  NaN NaN NaN NaN  BLANK  \n",
      "10645         NaN  NaN NaN NaN NaN  BLANK  \n",
      "10661         NaN  NaN NaN NaN NaN  BLANK  \n",
      "10708         NaN  NaN NaN NaN NaN  BLANK  \n",
      "10724         NaN  NaN NaN NaN NaN  BLANK  \n",
      "\n",
      "[376 rows x 31 columns]\n",
      "(4314, 2)\n",
      "Original data dimensions: 10752 x 30\n",
      "                   Query  Condition Plate # Row  Column  P-Value  Z-Score  \\\n",
      "index_input                                                                 \n",
      "17           MELK_KD_YKO        NaN     [1]   B       2  0.99092  0.01137   \n",
      "33           MELK_KD_YKO        NaN     [1]   B       3      NaN      NaN   \n",
      "46           MELK_KD_YKO        NaN     [1]   O       3  0.99092  0.01137   \n",
      "47           MELK_KD_YKO        NaN     [1]   P       3  0.58500 -0.54609   \n",
      "62           MELK_KD_YKO        NaN     [1]   O       4      NaN      NaN   \n",
      "...                  ...        ...     ...  ..     ...      ...      ...   \n",
      "10431           MELK_YKO        NaN     [9]   P       4      NaN      NaN   \n",
      "10645           MELK_YKO        NaN     [9]   F      18  0.57846  0.55563   \n",
      "10661           MELK_YKO        NaN     [9]   F      19      NaN      NaN   \n",
      "10708           MELK_YKO        NaN     [9]   E      22      NaN      NaN   \n",
      "10724           MELK_YKO        NaN     [9]   E      23  0.80830  0.24261   \n",
      "\n",
      "            Normalized Growth Ratio (Comparer::Exp)  \\\n",
      "index_input                                           \n",
      "17                             dead-0.10::0.10-dead   \n",
      "33                     excluded-0.10::0.09-excluded   \n",
      "46                             dead-0.10::0.10-dead   \n",
      "47                             dead-0.12::0.15-dead   \n",
      "62                     excluded-0.04::0.10-excluded   \n",
      "...                                             ...   \n",
      "10431                  excluded-0.01::0.10-excluded   \n",
      "10645                          dead-0.13::0.10-dead   \n",
      "10661                  excluded-0.14::0.10-excluded   \n",
      "10708                  excluded-0.03::0.10-excluded   \n",
      "10724                        blank-1.20::1.06-blank   \n",
      "\n",
      "             Growth Ratio (Comparer / Exp)  Log Growth Ratio  ... description  \\\n",
      "index_input                                                   ...               \n",
      "17                                    1.00           0.00000  ...         NaN   \n",
      "33                                    1.09           0.08995  ...         NaN   \n",
      "46                                    1.00           0.00000  ...         NaN   \n",
      "47                                    0.80          -0.22243  ...         NaN   \n",
      "62                                    0.40          -0.92272  ...         NaN   \n",
      "...                                    ...               ...  ...         ...   \n",
      "10431                                 0.15          -1.90707  ...         NaN   \n",
      "10645                                 1.29           0.25241  ...         NaN   \n",
      "10661                                 1.39           0.32652  ...         NaN   \n",
      "10708                                 0.32          -1.13388  ...         NaN   \n",
      "10724                                 1.13           0.12251  ...         NaN   \n",
      "\n",
      "            go biological process go molecular function go cellular component  \\\n",
      "index_input                                                                     \n",
      "17                            NaN                   NaN                   NaN   \n",
      "33                            NaN                   NaN                   NaN   \n",
      "46                            NaN                   NaN                   NaN   \n",
      "47                            NaN                   NaN                   NaN   \n",
      "62                            NaN                   NaN                   NaN   \n",
      "...                           ...                   ...                   ...   \n",
      "10431                         NaN                   NaN                   NaN   \n",
      "10645                         NaN                   NaN                   NaN   \n",
      "10661                         NaN                   NaN                   NaN   \n",
      "10708                         NaN                   NaN                   NaN   \n",
      "10724                         NaN                   NaN                   NaN   \n",
      "\n",
      "            plate rnum  op  or  oc    orf  \n",
      "index_input                                \n",
      "17            NaN  NaN NaN NaN NaN  BLANK  \n",
      "33            NaN  NaN NaN NaN NaN  BLANK  \n",
      "46            NaN  NaN NaN NaN NaN  BLANK  \n",
      "47            NaN  NaN NaN NaN NaN  BLANK  \n",
      "62            NaN  NaN NaN NaN NaN  BLANK  \n",
      "...           ...  ...  ..  ..  ..    ...  \n",
      "10431         NaN  NaN NaN NaN NaN  BLANK  \n",
      "10645         NaN  NaN NaN NaN NaN  BLANK  \n",
      "10661         NaN  NaN NaN NaN NaN  BLANK  \n",
      "10708         NaN  NaN NaN NaN NaN  BLANK  \n",
      "10724         NaN  NaN NaN NaN NaN  BLANK  \n",
      "\n",
      "[376 rows x 31 columns]\n",
      "(4518, 2)\n"
     ]
    }
   ],
   "source": [
    "original_data = []\n",
    "for s in sheets:\n",
    "    original_data1 = pd.read_excel('raw_data/FileS1.xls', sheet_name=s, skiprows=16)\n",
    "    print('Original data dimensions: %d x %d' % (original_data1.shape))\n",
    "    original_data1['orf'] = original_data1['ID Column'].astype(str)\n",
    "    # Eliminate all white spaces & capitalize\n",
    "    original_data1['orf'] = clean_orf(original_data1['orf'])\n",
    "    # Translate to ORFs \n",
    "    original_data1['orf'] = translate_sc(original_data1['orf'], to='orf')\n",
    "    # Make sure everything translated ok\n",
    "    t = looks_like_orf(original_data1['orf'])\n",
    "    print(original_data1.loc[~t,])\n",
    "    original_data1 = original_data1.loc[t,]\n",
    "    \n",
    "    t = original_data1['Normalized Growth Ratio (Comparer::Exp)'].str.contains('excluded')\n",
    "    original_data1 = original_data1.loc[~t,]\n",
    "    \n",
    "    original_data1['data'] = 1/pd.to_numeric(original_data1['Growth Ratio (Comparer / Exp)'], errors='coerce')\n",
    "    original_data1 = pd.pivot_table(original_data1, index='orf', columns='Query', values='data')\n",
    "    original_data1 = original_data1.groupby(original_data1.index).mean()\n",
    "    print(original_data1.shape)\n",
    "    \n",
    "    original_data.append(original_data1)"
   ]
  },
  {
   "cell_type": "code",
   "execution_count": 113,
   "metadata": {},
   "outputs": [
    {
     "name": "stdout",
     "output_type": "stream",
     "text": [
      "Original data dimensions: 5376 x 30\n",
      "            scan_cond  plate row  column  norm.rep1  norm.rep2  norm.rep3  \\\n",
      "index_input                                                                 \n",
      "5                none      1   A       6        NaN        NaN        NaN   \n",
      "6                none      1   A       7        NaN        NaN        NaN   \n",
      "25               none      1   B       2        NaN        NaN        NaN   \n",
      "26               none      1   B       3        NaN        NaN        NaN   \n",
      "273              none      1   L      10        NaN        NaN        NaN   \n",
      "...               ...    ...  ..     ...        ...        ...        ...   \n",
      "5370             none     14   P      19        NaN        NaN        NaN   \n",
      "5372             none     14   P      21        NaN        NaN        NaN   \n",
      "5373             none     14   P      22        NaN        NaN        NaN   \n",
      "5374             none     14   P      23        NaN        NaN        NaN   \n",
      "5375             none     14   P      24        NaN        NaN        NaN   \n",
      "\n",
      "             norm.rep4  MELK_YKO3_size.mean  MELK_YKO3_size.mean.norm  ...  \\\n",
      "index_input                                                            ...   \n",
      "5                  NaN                  NaN                       NaN  ...   \n",
      "6                  NaN                  NaN                       NaN  ...   \n",
      "25                 NaN                  NaN                       NaN  ...   \n",
      "26                 NaN                  NaN                       NaN  ...   \n",
      "273                NaN                  NaN                       NaN  ...   \n",
      "...                ...                  ...                       ...  ...   \n",
      "5370               NaN                  NaN                       NaN  ...   \n",
      "5372               NaN                  NaN                       NaN  ...   \n",
      "5373               NaN                  NaN                       NaN  ...   \n",
      "5374               NaN                  NaN                       NaN  ...   \n",
      "5375               NaN                  NaN                       NaN  ...   \n",
      "\n",
      "             p.value.result.lgr_control_div_MELK_YKO3_size.mean.norm  \\\n",
      "index_input                                                            \n",
      "5                                                          NaN         \n",
      "6                                                          NaN         \n",
      "25                                                         NaN         \n",
      "26                                                         NaN         \n",
      "273                                                        NaN         \n",
      "...                                                        ...         \n",
      "5370                                                       NaN         \n",
      "5372                                                       NaN         \n",
      "5373                                                       NaN         \n",
      "5374                                                       NaN         \n",
      "5375                                                       NaN         \n",
      "\n",
      "             p.value.result.lgr_MELK_YKO3_size.mean.norm_div_control  \\\n",
      "index_input                                                            \n",
      "5                                                          NaN         \n",
      "6                                                          NaN         \n",
      "25                                                         NaN         \n",
      "26                                                         NaN         \n",
      "273                                                        NaN         \n",
      "...                                                        ...         \n",
      "5370                                                       NaN         \n",
      "5372                                                       NaN         \n",
      "5373                                                       NaN         \n",
      "5374                                                       NaN         \n",
      "5375                                                       NaN         \n",
      "\n",
      "             strain_id  strain_name  gene_id  plate_control  excluded  ORF  \\\n",
      "index_input                                                                  \n",
      "5                blank        blank        -           True     False  NaN   \n",
      "6                blank        blank        -           True     False  NaN   \n",
      "25               blank        blank        -           True     False  NaN   \n",
      "26               blank        blank        -           True     False  NaN   \n",
      "273             rec426      yar037w  YAR037W           True     False  NaN   \n",
      "...                ...          ...      ...            ...       ...  ...   \n",
      "5370             blank        blank        -           True     False  NaN   \n",
      "5372             blank        blank        -           True     False  NaN   \n",
      "5373             blank        blank        -           True     False  NaN   \n",
      "5374             blank        blank        -           True     False  NaN   \n",
      "5375             blank        blank        -           True     False  NaN   \n",
      "\n",
      "             description  orf  \n",
      "index_input                    \n",
      "5                    NaN  NAN  \n",
      "6                    NaN  NAN  \n",
      "25                   NaN  NAN  \n",
      "26                   NaN  NAN  \n",
      "273                  NaN  NAN  \n",
      "...                  ...  ...  \n",
      "5370                 NaN  NAN  \n",
      "5372                 NaN  NAN  \n",
      "5373                 NaN  NAN  \n",
      "5374                 NaN  NAN  \n",
      "5375                 NaN  NAN  \n",
      "\n",
      "[211 rows x 31 columns]\n",
      "(4875, 1)\n",
      "Original data dimensions: 5376 x 30\n",
      "            scan_cond  plate row  column  norm.rep1  norm.rep2  norm.rep3  \\\n",
      "index_input                                                                 \n",
      "5                none      1   A       6        NaN        NaN        NaN   \n",
      "6                none      1   A       7        NaN        NaN        NaN   \n",
      "25               none      1   B       2        NaN        NaN        NaN   \n",
      "26               none      1   B       3        NaN        NaN        NaN   \n",
      "273              none      1   L      10        NaN        NaN        NaN   \n",
      "...               ...    ...  ..     ...        ...        ...        ...   \n",
      "5370             none     14   P      19        NaN        NaN        NaN   \n",
      "5372             none     14   P      21        NaN        NaN        NaN   \n",
      "5373             none     14   P      22        NaN        NaN        NaN   \n",
      "5374             none     14   P      23        NaN        NaN        NaN   \n",
      "5375             none     14   P      24        NaN        NaN        NaN   \n",
      "\n",
      "             norm.rep4  MELK_KD_YKO3_size.mean  MELK_KD_YKO3_size.mean.norm  \\\n",
      "index_input                                                                   \n",
      "5                  NaN                     NaN                          NaN   \n",
      "6                  NaN                     NaN                          NaN   \n",
      "25                 NaN                     NaN                          NaN   \n",
      "26                 NaN                     NaN                          NaN   \n",
      "273                NaN                     NaN                          NaN   \n",
      "...                ...                     ...                          ...   \n",
      "5370               NaN                     NaN                          NaN   \n",
      "5372               NaN                     NaN                          NaN   \n",
      "5373               NaN                     NaN                          NaN   \n",
      "5374               NaN                     NaN                          NaN   \n",
      "5375               NaN                     NaN                          NaN   \n",
      "\n",
      "             ...  p.value.result.lgr_control_div_MELK_KD_YKO3_size.mean.norm  \\\n",
      "index_input  ...                                                               \n",
      "5            ...                                                NaN            \n",
      "6            ...                                                NaN            \n",
      "25           ...                                                NaN            \n",
      "26           ...                                                NaN            \n",
      "273          ...                                                NaN            \n",
      "...          ...                                                ...            \n",
      "5370         ...                                                NaN            \n",
      "5372         ...                                                NaN            \n",
      "5373         ...                                                NaN            \n",
      "5374         ...                                                NaN            \n",
      "5375         ...                                                NaN            \n",
      "\n",
      "             p.value.result.lgr_MELK_KD_YKO3_size.mean.norm_div_control  \\\n",
      "index_input                                                               \n",
      "5                                                          NaN            \n",
      "6                                                          NaN            \n",
      "25                                                         NaN            \n",
      "26                                                         NaN            \n",
      "273                                                        NaN            \n",
      "...                                                        ...            \n",
      "5370                                                       NaN            \n",
      "5372                                                       NaN            \n",
      "5373                                                       NaN            \n",
      "5374                                                       NaN            \n",
      "5375                                                       NaN            \n",
      "\n",
      "             strain_id  strain_name  gene_id  plate_control  excluded  ORF  \\\n",
      "index_input                                                                  \n",
      "5                blank        blank        -           True     False  NaN   \n",
      "6                blank        blank        -           True     False  NaN   \n",
      "25               blank        blank        -           True     False  NaN   \n",
      "26               blank        blank        -           True     False  NaN   \n",
      "273             rec426      yar037w  YAR037W           True     False  NaN   \n",
      "...                ...          ...      ...            ...       ...  ...   \n",
      "5370             blank        blank        -           True     False  NaN   \n",
      "5372             blank        blank        -           True     False  NaN   \n",
      "5373             blank        blank        -           True     False  NaN   \n",
      "5374             blank        blank        -           True     False  NaN   \n",
      "5375             blank        blank        -           True     False  NaN   \n",
      "\n",
      "             description  orf  \n",
      "index_input                    \n",
      "5                    NaN  NAN  \n",
      "6                    NaN  NAN  \n",
      "25                   NaN  NAN  \n",
      "26                   NaN  NAN  \n",
      "273                  NaN  NAN  \n",
      "...                  ...  ...  \n",
      "5370                 NaN  NAN  \n",
      "5372                 NaN  NAN  \n",
      "5373                 NaN  NAN  \n",
      "5374                 NaN  NAN  \n",
      "5375                 NaN  NAN  \n",
      "\n",
      "[211 rows x 31 columns]\n",
      "(4875, 1)\n"
     ]
    }
   ],
   "source": [
    "sheets = ['Screen3-MELK_YKO raw data','Screen3-MELK_KD_YKO raw data']\n",
    "data_cols = ['MELK_YKO3_size.mean.norm_div_control','MELK_KD_YKO3_size.mean.norm_div_control']\n",
    "for ix_s, s in enumerate(sheets):\n",
    "    original_data2 = pd.read_excel('raw_data/FileS1.xls', sheet_name=s)\n",
    "    print('Original data dimensions: %d x %d' % (original_data2.shape))\n",
    "    original_data2['orf'] = original_data2['ORF'].astype(str)\n",
    "    # Eliminate all white spaces & capitalize\n",
    "    original_data2['orf'] = clean_orf(original_data2['orf'])\n",
    "    # Translate to ORFs \n",
    "    original_data2['orf'] = translate_sc(original_data2['orf'], to='orf')\n",
    "    # Make sure everything translated ok\n",
    "    t = looks_like_orf(original_data2['orf'])\n",
    "    print(original_data2.loc[~t,])\n",
    "    \n",
    "    original_data2 = original_data2.loc[t,]\n",
    "    original_data2['data'] = pd.to_numeric(original_data2[data_cols[ix_s]], errors='coerce')\n",
    "    original_data2.set_index('orf', inplace=True)\n",
    "    original_data2 = original_data2[['data']]\n",
    "    original_data2 = original_data2.groupby(original_data2.index).mean()\n",
    "    print(original_data2.shape)\n",
    "    \n",
    "    original_data2.columns = [s]\n",
    "    \n",
    "    original_data.append(original_data2)"
   ]
  },
  {
   "cell_type": "code",
   "execution_count": 114,
   "metadata": {},
   "outputs": [
    {
     "data": {
      "text/plain": [
       "4"
      ]
     },
     "execution_count": 114,
     "metadata": {},
     "output_type": "execute_result"
    }
   ],
   "source": [
    "len(original_data)"
   ]
  },
  {
   "cell_type": "code",
   "execution_count": 162,
   "metadata": {},
   "outputs": [],
   "source": [
    "original_data_all = pd.concat(original_data, axis=1)"
   ]
  },
  {
   "cell_type": "code",
   "execution_count": 163,
   "metadata": {},
   "outputs": [
    {
     "data": {
      "text/html": [
       "<div>\n",
       "<style scoped>\n",
       "    .dataframe tbody tr th:only-of-type {\n",
       "        vertical-align: middle;\n",
       "    }\n",
       "\n",
       "    .dataframe tbody tr th {\n",
       "        vertical-align: top;\n",
       "    }\n",
       "\n",
       "    .dataframe thead th {\n",
       "        text-align: right;\n",
       "    }\n",
       "</style>\n",
       "<table border=\"1\" class=\"dataframe\">\n",
       "  <thead>\n",
       "    <tr style=\"text-align: right;\">\n",
       "      <th></th>\n",
       "      <th>MELK</th>\n",
       "      <th>MELK_kd</th>\n",
       "      <th>MELK_KD_YKO</th>\n",
       "      <th>MELK_YKO</th>\n",
       "      <th>Screen3-MELK_YKO raw data</th>\n",
       "      <th>Screen3-MELK_KD_YKO raw data</th>\n",
       "    </tr>\n",
       "  </thead>\n",
       "  <tbody>\n",
       "    <tr>\n",
       "      <th>YAL002W</th>\n",
       "      <td>0.917431</td>\n",
       "      <td>0.884956</td>\n",
       "      <td>2.083333</td>\n",
       "      <td>2.380952</td>\n",
       "      <td>0.693835</td>\n",
       "      <td>0.729166</td>\n",
       "    </tr>\n",
       "    <tr>\n",
       "      <th>YAL004W</th>\n",
       "      <td>0.943396</td>\n",
       "      <td>0.892857</td>\n",
       "      <td>0.909091</td>\n",
       "      <td>1.098901</td>\n",
       "      <td>0.973479</td>\n",
       "      <td>0.843560</td>\n",
       "    </tr>\n",
       "    <tr>\n",
       "      <th>YAL005C</th>\n",
       "      <td>0.819672</td>\n",
       "      <td>0.862069</td>\n",
       "      <td>1.041667</td>\n",
       "      <td>1.098901</td>\n",
       "      <td>0.706074</td>\n",
       "      <td>0.330806</td>\n",
       "    </tr>\n",
       "    <tr>\n",
       "      <th>YAL007C</th>\n",
       "      <td>1.123596</td>\n",
       "      <td>1.010101</td>\n",
       "      <td>0.970874</td>\n",
       "      <td>1.282051</td>\n",
       "      <td>0.504571</td>\n",
       "      <td>1.110399</td>\n",
       "    </tr>\n",
       "    <tr>\n",
       "      <th>YAL008W</th>\n",
       "      <td>0.970874</td>\n",
       "      <td>1.333333</td>\n",
       "      <td>1.724138</td>\n",
       "      <td>1.388889</td>\n",
       "      <td>1.472729</td>\n",
       "      <td>1.466907</td>\n",
       "    </tr>\n",
       "  </tbody>\n",
       "</table>\n",
       "</div>"
      ],
      "text/plain": [
       "             MELK   MELK_kd  MELK_KD_YKO  MELK_YKO  Screen3-MELK_YKO raw data  \\\n",
       "YAL002W  0.917431  0.884956     2.083333  2.380952                   0.693835   \n",
       "YAL004W  0.943396  0.892857     0.909091  1.098901                   0.973479   \n",
       "YAL005C  0.819672  0.862069     1.041667  1.098901                   0.706074   \n",
       "YAL007C  1.123596  1.010101     0.970874  1.282051                   0.504571   \n",
       "YAL008W  0.970874  1.333333     1.724138  1.388889                   1.472729   \n",
       "\n",
       "         Screen3-MELK_KD_YKO raw data  \n",
       "YAL002W                      0.729166  \n",
       "YAL004W                      0.843560  \n",
       "YAL005C                      0.330806  \n",
       "YAL007C                      1.110399  \n",
       "YAL008W                      1.466907  "
      ]
     },
     "execution_count": 163,
     "metadata": {},
     "output_type": "execute_result"
    }
   ],
   "source": [
    "original_data_all.head()"
   ]
  },
  {
   "cell_type": "code",
   "execution_count": 164,
   "metadata": {},
   "outputs": [],
   "source": [
    "original_data_all.columns = ['MELK','MELK_kd','MELK_kd','MELK','MELK','MELK_kd']"
   ]
  },
  {
   "cell_type": "code",
   "execution_count": 165,
   "metadata": {},
   "outputs": [],
   "source": [
    "original_data_all = original_data_all.T\n",
    "original_data_all = original_data_all.groupby(original_data_all.index.values).mean()\n",
    "original_data_all = original_data_all.T"
   ]
  },
  {
   "cell_type": "code",
   "execution_count": 166,
   "metadata": {},
   "outputs": [
    {
     "data": {
      "text/html": [
       "<div>\n",
       "<style scoped>\n",
       "    .dataframe tbody tr th:only-of-type {\n",
       "        vertical-align: middle;\n",
       "    }\n",
       "\n",
       "    .dataframe tbody tr th {\n",
       "        vertical-align: top;\n",
       "    }\n",
       "\n",
       "    .dataframe thead th {\n",
       "        text-align: right;\n",
       "    }\n",
       "</style>\n",
       "<table border=\"1\" class=\"dataframe\">\n",
       "  <thead>\n",
       "    <tr style=\"text-align: right;\">\n",
       "      <th></th>\n",
       "      <th>MELK</th>\n",
       "      <th>MELK_kd</th>\n",
       "    </tr>\n",
       "  </thead>\n",
       "  <tbody>\n",
       "    <tr>\n",
       "      <th>YAL002W</th>\n",
       "      <td>1.330739</td>\n",
       "      <td>1.232485</td>\n",
       "    </tr>\n",
       "    <tr>\n",
       "      <th>YAL004W</th>\n",
       "      <td>1.005259</td>\n",
       "      <td>0.881836</td>\n",
       "    </tr>\n",
       "    <tr>\n",
       "      <th>YAL005C</th>\n",
       "      <td>0.874882</td>\n",
       "      <td>0.744847</td>\n",
       "    </tr>\n",
       "    <tr>\n",
       "      <th>YAL007C</th>\n",
       "      <td>0.970073</td>\n",
       "      <td>1.030458</td>\n",
       "    </tr>\n",
       "    <tr>\n",
       "      <th>YAL008W</th>\n",
       "      <td>1.277497</td>\n",
       "      <td>1.508126</td>\n",
       "    </tr>\n",
       "  </tbody>\n",
       "</table>\n",
       "</div>"
      ],
      "text/plain": [
       "             MELK   MELK_kd\n",
       "YAL002W  1.330739  1.232485\n",
       "YAL004W  1.005259  0.881836\n",
       "YAL005C  0.874882  0.744847\n",
       "YAL007C  0.970073  1.030458\n",
       "YAL008W  1.277497  1.508126"
      ]
     },
     "execution_count": 166,
     "metadata": {},
     "output_type": "execute_result"
    }
   ],
   "source": [
    "original_data_all.head()"
   ]
  },
  {
   "cell_type": "code",
   "execution_count": 167,
   "metadata": {},
   "outputs": [
    {
     "data": {
      "text/plain": [
       "(4899, 2)"
      ]
     },
     "execution_count": 167,
     "metadata": {},
     "output_type": "execute_result"
    }
   ],
   "source": [
    "original_data_all.shape"
   ]
  },
  {
   "cell_type": "markdown",
   "metadata": {},
   "source": [
    "# Prepare the final dataset"
   ]
  },
  {
   "cell_type": "code",
   "execution_count": 168,
   "metadata": {},
   "outputs": [],
   "source": [
    "data = original_data_all.copy()"
   ]
  },
  {
   "cell_type": "code",
   "execution_count": 169,
   "metadata": {},
   "outputs": [],
   "source": [
    "data.index.names = ['orf']"
   ]
  },
  {
   "cell_type": "code",
   "execution_count": 170,
   "metadata": {},
   "outputs": [],
   "source": [
    "dataset_ids = [22059,22060]\n",
    "datasets = datasets.reindex(index=dataset_ids)"
   ]
  },
  {
   "cell_type": "code",
   "execution_count": 171,
   "metadata": {},
   "outputs": [],
   "source": [
    "lst = [datasets.index.values, ['value']*datasets.shape[0]]\n",
    "tuples = list(zip(*lst))\n",
    "idx = pd.MultiIndex.from_tuples(tuples, names=['dataset_id','data_type'])\n",
    "data.columns = idx"
   ]
  },
  {
   "cell_type": "code",
   "execution_count": 172,
   "metadata": {},
   "outputs": [
    {
     "data": {
      "text/html": [
       "<div>\n",
       "<style scoped>\n",
       "    .dataframe tbody tr th:only-of-type {\n",
       "        vertical-align: middle;\n",
       "    }\n",
       "\n",
       "    .dataframe tbody tr th {\n",
       "        vertical-align: top;\n",
       "    }\n",
       "\n",
       "    .dataframe thead tr th {\n",
       "        text-align: left;\n",
       "    }\n",
       "\n",
       "    .dataframe thead tr:last-of-type th {\n",
       "        text-align: right;\n",
       "    }\n",
       "</style>\n",
       "<table border=\"1\" class=\"dataframe\">\n",
       "  <thead>\n",
       "    <tr>\n",
       "      <th>dataset_id</th>\n",
       "      <th>22059</th>\n",
       "      <th>22060</th>\n",
       "    </tr>\n",
       "    <tr>\n",
       "      <th>data_type</th>\n",
       "      <th>value</th>\n",
       "      <th>value</th>\n",
       "    </tr>\n",
       "    <tr>\n",
       "      <th>orf</th>\n",
       "      <th></th>\n",
       "      <th></th>\n",
       "    </tr>\n",
       "  </thead>\n",
       "  <tbody>\n",
       "    <tr>\n",
       "      <th>YAL002W</th>\n",
       "      <td>1.330739</td>\n",
       "      <td>1.232485</td>\n",
       "    </tr>\n",
       "    <tr>\n",
       "      <th>YAL004W</th>\n",
       "      <td>1.005259</td>\n",
       "      <td>0.881836</td>\n",
       "    </tr>\n",
       "    <tr>\n",
       "      <th>YAL005C</th>\n",
       "      <td>0.874882</td>\n",
       "      <td>0.744847</td>\n",
       "    </tr>\n",
       "    <tr>\n",
       "      <th>YAL007C</th>\n",
       "      <td>0.970073</td>\n",
       "      <td>1.030458</td>\n",
       "    </tr>\n",
       "    <tr>\n",
       "      <th>YAL008W</th>\n",
       "      <td>1.277497</td>\n",
       "      <td>1.508126</td>\n",
       "    </tr>\n",
       "  </tbody>\n",
       "</table>\n",
       "</div>"
      ],
      "text/plain": [
       "dataset_id     22059     22060\n",
       "data_type      value     value\n",
       "orf                           \n",
       "YAL002W     1.330739  1.232485\n",
       "YAL004W     1.005259  0.881836\n",
       "YAL005C     0.874882  0.744847\n",
       "YAL007C     0.970073  1.030458\n",
       "YAL008W     1.277497  1.508126"
      ]
     },
     "execution_count": 172,
     "metadata": {},
     "output_type": "execute_result"
    }
   ],
   "source": [
    "data.head()"
   ]
  },
  {
   "cell_type": "markdown",
   "metadata": {},
   "source": [
    "## Subset to the genes currently in SGD"
   ]
  },
  {
   "cell_type": "code",
   "execution_count": 173,
   "metadata": {},
   "outputs": [
    {
     "name": "stdout",
     "output_type": "stream",
     "text": [
      "ORFs missing from SGD: 24\n"
     ]
    }
   ],
   "source": [
    "genes = pd.read_csv(path_to_genes, sep='\\t', index_col='id')\n",
    "genes = genes.reset_index().set_index('systematic_name')\n",
    "gene_ids = genes.reindex(index=data.index.values)['id'].values\n",
    "num_missing = np.sum(np.isnan(gene_ids))\n",
    "print('ORFs missing from SGD: %d' % num_missing)"
   ]
  },
  {
   "cell_type": "code",
   "execution_count": 174,
   "metadata": {},
   "outputs": [
    {
     "data": {
      "text/html": [
       "<div>\n",
       "<style scoped>\n",
       "    .dataframe tbody tr th:only-of-type {\n",
       "        vertical-align: middle;\n",
       "    }\n",
       "\n",
       "    .dataframe tbody tr th {\n",
       "        vertical-align: top;\n",
       "    }\n",
       "\n",
       "    .dataframe thead tr th {\n",
       "        text-align: left;\n",
       "    }\n",
       "\n",
       "    .dataframe thead tr:last-of-type th {\n",
       "        text-align: right;\n",
       "    }\n",
       "</style>\n",
       "<table border=\"1\" class=\"dataframe\">\n",
       "  <thead>\n",
       "    <tr>\n",
       "      <th></th>\n",
       "      <th>dataset_id</th>\n",
       "      <th>22059</th>\n",
       "      <th>22060</th>\n",
       "    </tr>\n",
       "    <tr>\n",
       "      <th></th>\n",
       "      <th>data_type</th>\n",
       "      <th>value</th>\n",
       "      <th>value</th>\n",
       "    </tr>\n",
       "    <tr>\n",
       "      <th>gene_id</th>\n",
       "      <th>orf</th>\n",
       "      <th></th>\n",
       "      <th></th>\n",
       "    </tr>\n",
       "  </thead>\n",
       "  <tbody>\n",
       "    <tr>\n",
       "      <th>2</th>\n",
       "      <th>YAL002W</th>\n",
       "      <td>1.330739</td>\n",
       "      <td>1.232485</td>\n",
       "    </tr>\n",
       "    <tr>\n",
       "      <th>1863</th>\n",
       "      <th>YAL004W</th>\n",
       "      <td>1.005259</td>\n",
       "      <td>0.881836</td>\n",
       "    </tr>\n",
       "    <tr>\n",
       "      <th>4</th>\n",
       "      <th>YAL005C</th>\n",
       "      <td>0.874882</td>\n",
       "      <td>0.744847</td>\n",
       "    </tr>\n",
       "    <tr>\n",
       "      <th>5</th>\n",
       "      <th>YAL007C</th>\n",
       "      <td>0.970073</td>\n",
       "      <td>1.030458</td>\n",
       "    </tr>\n",
       "    <tr>\n",
       "      <th>6</th>\n",
       "      <th>YAL008W</th>\n",
       "      <td>1.277497</td>\n",
       "      <td>1.508126</td>\n",
       "    </tr>\n",
       "  </tbody>\n",
       "</table>\n",
       "</div>"
      ],
      "text/plain": [
       "dataset_id          22059     22060\n",
       "data_type           value     value\n",
       "gene_id orf                        \n",
       "2       YAL002W  1.330739  1.232485\n",
       "1863    YAL004W  1.005259  0.881836\n",
       "4       YAL005C  0.874882  0.744847\n",
       "5       YAL007C  0.970073  1.030458\n",
       "6       YAL008W  1.277497  1.508126"
      ]
     },
     "execution_count": 174,
     "metadata": {},
     "output_type": "execute_result"
    }
   ],
   "source": [
    "data['gene_id'] = gene_ids\n",
    "data = data.loc[data['gene_id'].notnull()]\n",
    "data['gene_id'] = data['gene_id'].astype(int)\n",
    "data = data.reset_index().set_index(['gene_id','orf'])\n",
    "\n",
    "data.head()"
   ]
  },
  {
   "cell_type": "markdown",
   "metadata": {},
   "source": [
    "# Normalize"
   ]
  },
  {
   "cell_type": "code",
   "execution_count": 175,
   "metadata": {},
   "outputs": [],
   "source": [
    "data_norm = normalize_phenotypic_scores(data, has_tested=True)"
   ]
  },
  {
   "cell_type": "code",
   "execution_count": 176,
   "metadata": {},
   "outputs": [],
   "source": [
    "# Assign proper column names\n",
    "lst = [datasets.index.values, ['valuez']*datasets.shape[0]]\n",
    "tuples = list(zip(*lst))\n",
    "idx = pd.MultiIndex.from_tuples(tuples, names=['dataset_id','data_type'])\n",
    "data_norm.columns = idx"
   ]
  },
  {
   "cell_type": "code",
   "execution_count": 177,
   "metadata": {},
   "outputs": [
    {
     "data": {
      "text/html": [
       "<div>\n",
       "<style scoped>\n",
       "    .dataframe tbody tr th:only-of-type {\n",
       "        vertical-align: middle;\n",
       "    }\n",
       "\n",
       "    .dataframe tbody tr th {\n",
       "        vertical-align: top;\n",
       "    }\n",
       "\n",
       "    .dataframe thead tr th {\n",
       "        text-align: left;\n",
       "    }\n",
       "\n",
       "    .dataframe thead tr:last-of-type th {\n",
       "        text-align: right;\n",
       "    }\n",
       "</style>\n",
       "<table border=\"1\" class=\"dataframe\">\n",
       "  <thead>\n",
       "    <tr>\n",
       "      <th></th>\n",
       "      <th>dataset_id</th>\n",
       "      <th>22059</th>\n",
       "      <th>22060</th>\n",
       "      <th>22059</th>\n",
       "      <th>22060</th>\n",
       "    </tr>\n",
       "    <tr>\n",
       "      <th></th>\n",
       "      <th>data_type</th>\n",
       "      <th>value</th>\n",
       "      <th>value</th>\n",
       "      <th>valuez</th>\n",
       "      <th>valuez</th>\n",
       "    </tr>\n",
       "    <tr>\n",
       "      <th>gene_id</th>\n",
       "      <th>orf</th>\n",
       "      <th></th>\n",
       "      <th></th>\n",
       "      <th></th>\n",
       "      <th></th>\n",
       "    </tr>\n",
       "  </thead>\n",
       "  <tbody>\n",
       "    <tr>\n",
       "      <th>2</th>\n",
       "      <th>YAL002W</th>\n",
       "      <td>1.330739</td>\n",
       "      <td>1.232485</td>\n",
       "      <td>0.050444</td>\n",
       "      <td>0.041747</td>\n",
       "    </tr>\n",
       "    <tr>\n",
       "      <th>1863</th>\n",
       "      <th>YAL004W</th>\n",
       "      <td>1.005259</td>\n",
       "      <td>0.881836</td>\n",
       "      <td>-0.012234</td>\n",
       "      <td>-0.027207</td>\n",
       "    </tr>\n",
       "    <tr>\n",
       "      <th>4</th>\n",
       "      <th>YAL005C</th>\n",
       "      <td>0.874882</td>\n",
       "      <td>0.744847</td>\n",
       "      <td>-0.037341</td>\n",
       "      <td>-0.054146</td>\n",
       "    </tr>\n",
       "    <tr>\n",
       "      <th>5</th>\n",
       "      <th>YAL007C</th>\n",
       "      <td>0.970073</td>\n",
       "      <td>1.030458</td>\n",
       "      <td>-0.019010</td>\n",
       "      <td>0.002019</td>\n",
       "    </tr>\n",
       "    <tr>\n",
       "      <th>6</th>\n",
       "      <th>YAL008W</th>\n",
       "      <td>1.277497</td>\n",
       "      <td>1.508126</td>\n",
       "      <td>0.040191</td>\n",
       "      <td>0.095952</td>\n",
       "    </tr>\n",
       "  </tbody>\n",
       "</table>\n",
       "</div>"
      ],
      "text/plain": [
       "dataset_id          22059     22060     22059     22060\n",
       "data_type           value     value    valuez    valuez\n",
       "gene_id orf                                            \n",
       "2       YAL002W  1.330739  1.232485  0.050444  0.041747\n",
       "1863    YAL004W  1.005259  0.881836 -0.012234 -0.027207\n",
       "4       YAL005C  0.874882  0.744847 -0.037341 -0.054146\n",
       "5       YAL007C  0.970073  1.030458 -0.019010  0.002019\n",
       "6       YAL008W  1.277497  1.508126  0.040191  0.095952"
      ]
     },
     "execution_count": 177,
     "metadata": {},
     "output_type": "execute_result"
    }
   ],
   "source": [
    "data_norm[data.isnull()] = np.nan\n",
    "data_all = data.join(data_norm)\n",
    "\n",
    "data_all.head()"
   ]
  },
  {
   "cell_type": "code",
   "execution_count": 178,
   "metadata": {},
   "outputs": [
    {
     "data": {
      "text/html": [
       "<div>\n",
       "<style scoped>\n",
       "    .dataframe tbody tr th:only-of-type {\n",
       "        vertical-align: middle;\n",
       "    }\n",
       "\n",
       "    .dataframe tbody tr th {\n",
       "        vertical-align: top;\n",
       "    }\n",
       "\n",
       "    .dataframe thead tr th {\n",
       "        text-align: left;\n",
       "    }\n",
       "\n",
       "    .dataframe thead tr:last-of-type th {\n",
       "        text-align: right;\n",
       "    }\n",
       "</style>\n",
       "<table border=\"1\" class=\"dataframe\">\n",
       "  <thead>\n",
       "    <tr>\n",
       "      <th></th>\n",
       "      <th>dataset_id</th>\n",
       "      <th>22059</th>\n",
       "      <th>22060</th>\n",
       "      <th>22059</th>\n",
       "      <th>22060</th>\n",
       "    </tr>\n",
       "    <tr>\n",
       "      <th></th>\n",
       "      <th>data_type</th>\n",
       "      <th>value</th>\n",
       "      <th>value</th>\n",
       "      <th>valuez</th>\n",
       "      <th>valuez</th>\n",
       "    </tr>\n",
       "    <tr>\n",
       "      <th>gene_id</th>\n",
       "      <th>orf</th>\n",
       "      <th></th>\n",
       "      <th></th>\n",
       "      <th></th>\n",
       "      <th></th>\n",
       "    </tr>\n",
       "  </thead>\n",
       "  <tbody>\n",
       "    <tr>\n",
       "      <th>5074</th>\n",
       "      <th>YOL025W</th>\n",
       "      <td>0.654502</td>\n",
       "      <td>0.587189</td>\n",
       "      <td>-0.07978</td>\n",
       "      <td>-0.085149</td>\n",
       "    </tr>\n",
       "  </tbody>\n",
       "</table>\n",
       "</div>"
      ],
      "text/plain": [
       "dataset_id          22059     22060    22059     22060\n",
       "data_type           value     value   valuez    valuez\n",
       "gene_id orf                                           \n",
       "5074    YOL025W  0.654502  0.587189 -0.07978 -0.085149"
      ]
     },
     "execution_count": 178,
     "metadata": {},
     "output_type": "execute_result"
    }
   ],
   "source": [
    "data_all.loc[(slice(None),'YOL025W'),:]"
   ]
  },
  {
   "cell_type": "markdown",
   "metadata": {},
   "source": [
    "# Print out"
   ]
  },
  {
   "cell_type": "code",
   "execution_count": 179,
   "metadata": {},
   "outputs": [],
   "source": [
    "for f in ['value','valuez']:\n",
    "    df = data_all.xs(f, level='data_type', axis=1).copy()\n",
    "    df.columns = datasets['name'].values\n",
    "    df = df.droplevel('gene_id', axis=0)\n",
    "    df.to_csv(paper_name + '_' + f + '.txt', sep='\\t')"
   ]
  },
  {
   "cell_type": "markdown",
   "metadata": {},
   "source": [
    "# Save to DB"
   ]
  },
  {
   "cell_type": "code",
   "execution_count": 180,
   "metadata": {},
   "outputs": [],
   "source": [
    "from IO.save_data_to_db3 import *"
   ]
  },
  {
   "cell_type": "code",
   "execution_count": 181,
   "metadata": {},
   "outputs": [
    {
     "name": "stderr",
     "output_type": "stream",
     "text": [
      "  0%|          | 0/2 [00:00<?, ?it/s]"
     ]
    },
    {
     "name": "stdout",
     "output_type": "stream",
     "text": [
      "Deleting all datasets for PMID 34550356...\n",
      "Inserting the new data...\n"
     ]
    },
    {
     "name": "stderr",
     "output_type": "stream",
     "text": [
      "100%|██████████| 2/2 [00:12<00:00,  6.27s/it]"
     ]
    },
    {
     "name": "stdout",
     "output_type": "stream",
     "text": [
      "Updating the data_modified_on field...\n"
     ]
    },
    {
     "name": "stderr",
     "output_type": "stream",
     "text": [
      "\n"
     ]
    }
   ],
   "source": [
    "save_data_to_db(data_all, paper_pmid)"
   ]
  },
  {
   "cell_type": "code",
   "execution_count": null,
   "metadata": {},
   "outputs": [],
   "source": []
  }
 ],
 "metadata": {
  "kernelspec": {
   "display_name": "yp-data",
   "language": "python",
   "name": "yp-data"
  },
  "language_info": {
   "codemirror_mode": {
    "name": "ipython",
    "version": 3
   },
   "file_extension": ".py",
   "mimetype": "text/x-python",
   "name": "python",
   "nbconvert_exporter": "python",
   "pygments_lexer": "ipython3",
   "version": "3.7.7"
  }
 },
 "nbformat": 4,
 "nbformat_minor": 4
}
