{
 "cells": [
  {
   "cell_type": "code",
   "execution_count": 1,
   "metadata": {},
   "outputs": [],
   "source": [
    "%run ../../Utils/yp_utils.py"
   ]
  },
  {
   "cell_type": "markdown",
   "metadata": {},
   "source": [
    "# Initial setup"
   ]
  },
  {
   "cell_type": "code",
   "execution_count": 2,
   "metadata": {},
   "outputs": [],
   "source": [
    "paper_pmid = 14871844\n",
    "paper_name = 'aouida_ramotar_2004' "
   ]
  },
  {
   "cell_type": "code",
   "execution_count": 3,
   "metadata": {},
   "outputs": [],
   "source": [
    "datasets = pd.read_csv('extras/YeastPhenome_' + str(paper_pmid) + '_datasets_list.txt', sep='\\t', header=None, names=['dataset_id', 'name'])"
   ]
  },
  {
   "cell_type": "code",
   "execution_count": 4,
   "metadata": {},
   "outputs": [],
   "source": [
    "datasets.set_index('dataset_id', inplace=True)"
   ]
  },
  {
   "cell_type": "markdown",
   "metadata": {},
   "source": [
    "# Load & process the data"
   ]
  },
  {
   "cell_type": "code",
   "execution_count": 8,
   "metadata": {},
   "outputs": [],
   "source": [
    "original_data = pd.read_excel('raw_data/CAN_2-1-04_Aouida.xlsx', sheet_name='Sheet1', header=None)"
   ]
  },
  {
   "cell_type": "code",
   "execution_count": 9,
   "metadata": {},
   "outputs": [
    {
     "name": "stdout",
     "output_type": "stream",
     "text": [
      "Original data dimensions: 236 x 2\n"
     ]
    }
   ],
   "source": [
    "print('Original data dimensions: %d x %d' % (original_data.shape))"
   ]
  },
  {
   "cell_type": "code",
   "execution_count": 10,
   "metadata": {},
   "outputs": [
    {
     "data": {
      "text/html": [
       "<div>\n",
       "<style scoped>\n",
       "    .dataframe tbody tr th:only-of-type {\n",
       "        vertical-align: middle;\n",
       "    }\n",
       "\n",
       "    .dataframe tbody tr th {\n",
       "        vertical-align: top;\n",
       "    }\n",
       "\n",
       "    .dataframe thead th {\n",
       "        text-align: right;\n",
       "    }\n",
       "</style>\n",
       "<table border=\"1\" class=\"dataframe\">\n",
       "  <thead>\n",
       "    <tr style=\"text-align: right;\">\n",
       "      <th></th>\n",
       "      <th>0</th>\n",
       "      <th>1</th>\n",
       "    </tr>\n",
       "  </thead>\n",
       "  <tbody>\n",
       "    <tr>\n",
       "      <th>0</th>\n",
       "      <td>YBR101C</td>\n",
       "      <td>R+++</td>\n",
       "    </tr>\n",
       "    <tr>\n",
       "      <th>1</th>\n",
       "      <td>YJR059W</td>\n",
       "      <td>R+++</td>\n",
       "    </tr>\n",
       "    <tr>\n",
       "      <th>2</th>\n",
       "      <td>YBR132C</td>\n",
       "      <td>R++++</td>\n",
       "    </tr>\n",
       "    <tr>\n",
       "      <th>3</th>\n",
       "      <td>YGL007W</td>\n",
       "      <td>R++++</td>\n",
       "    </tr>\n",
       "    <tr>\n",
       "      <th>4</th>\n",
       "      <td>YMR216C</td>\n",
       "      <td>R++++</td>\n",
       "    </tr>\n",
       "  </tbody>\n",
       "</table>\n",
       "</div>"
      ],
      "text/plain": [
       "          0       1\n",
       "0  YBR101C    R+++ \n",
       "1  YJR059W    R+++ \n",
       "2  YBR132C   R++++ \n",
       "3  YGL007W   R++++ \n",
       "4  YMR216C   R++++ "
      ]
     },
     "execution_count": 10,
     "metadata": {},
     "output_type": "execute_result"
    }
   ],
   "source": [
    "original_data.head()"
   ]
  },
  {
   "cell_type": "code",
   "execution_count": 11,
   "metadata": {},
   "outputs": [],
   "source": [
    "original_data['orf'] = original_data[0].astype(str)"
   ]
  },
  {
   "cell_type": "code",
   "execution_count": 12,
   "metadata": {},
   "outputs": [],
   "source": [
    "# Eliminate all white spaces & capitalize\n",
    "original_data['orf'] = clean_orf(original_data['orf'])"
   ]
  },
  {
   "cell_type": "code",
   "execution_count": 13,
   "metadata": {},
   "outputs": [],
   "source": [
    "# Translate to ORFs \n",
    "original_data['orf'] = translate_sc(original_data['orf'], to='orf')"
   ]
  },
  {
   "cell_type": "code",
   "execution_count": 14,
   "metadata": {},
   "outputs": [
    {
     "name": "stdout",
     "output_type": "stream",
     "text": [
      "Empty DataFrame\n",
      "Columns: [0, 1, orf]\n",
      "Index: []\n"
     ]
    }
   ],
   "source": [
    "# Make sure everything translated ok\n",
    "t = looks_like_orf(original_data['orf'])\n",
    "print(original_data.loc[~t,])"
   ]
  },
  {
   "cell_type": "code",
   "execution_count": 15,
   "metadata": {},
   "outputs": [],
   "source": [
    "data_switch = {'R+++': 9, 'R++++': 10, 'S+': -1, 'S++': -2, 'S+++': -3, 'S++++': -4}"
   ]
  },
  {
   "cell_type": "code",
   "execution_count": 17,
   "metadata": {},
   "outputs": [],
   "source": [
    "original_data['data'] = original_data[1].apply(lambda x: data_switch[x.strip('\\xa0')])"
   ]
  },
  {
   "cell_type": "code",
   "execution_count": 18,
   "metadata": {},
   "outputs": [],
   "source": [
    "original_data.set_index('orf', inplace=True)"
   ]
  },
  {
   "cell_type": "code",
   "execution_count": 19,
   "metadata": {},
   "outputs": [],
   "source": [
    "original_data = original_data[['data']].copy()"
   ]
  },
  {
   "cell_type": "code",
   "execution_count": 20,
   "metadata": {},
   "outputs": [],
   "source": [
    "original_data = original_data.groupby(original_data.index).mean()"
   ]
  },
  {
   "cell_type": "code",
   "execution_count": 21,
   "metadata": {},
   "outputs": [
    {
     "data": {
      "text/plain": [
       "(236, 1)"
      ]
     },
     "execution_count": 21,
     "metadata": {},
     "output_type": "execute_result"
    }
   ],
   "source": [
    "original_data.shape"
   ]
  },
  {
   "cell_type": "markdown",
   "metadata": {},
   "source": [
    "# Load & process tested strains"
   ]
  },
  {
   "cell_type": "code",
   "execution_count": 25,
   "metadata": {},
   "outputs": [],
   "source": [
    "tested = pd.read_excel('raw_data/HU haploid.xlsx', sheet_name='Sheet1', skiprows=2)"
   ]
  },
  {
   "cell_type": "code",
   "execution_count": 26,
   "metadata": {},
   "outputs": [
    {
     "data": {
      "text/html": [
       "<div>\n",
       "<style scoped>\n",
       "    .dataframe tbody tr th:only-of-type {\n",
       "        vertical-align: middle;\n",
       "    }\n",
       "\n",
       "    .dataframe tbody tr th {\n",
       "        vertical-align: top;\n",
       "    }\n",
       "\n",
       "    .dataframe thead th {\n",
       "        text-align: right;\n",
       "    }\n",
       "</style>\n",
       "<table border=\"1\" class=\"dataframe\">\n",
       "  <thead>\n",
       "    <tr style=\"text-align: right;\">\n",
       "      <th></th>\n",
       "      <th>Plate</th>\n",
       "      <th>row</th>\n",
       "      <th>col</th>\n",
       "      <th>record #</th>\n",
       "      <th>ORF</th>\n",
       "      <th>strain</th>\n",
       "      <th>Euroscarf comments</th>\n",
       "      <th>Euroscarf growth comment</th>\n",
       "      <th>Freezing comments</th>\n",
       "      <th>Duplication in our collection</th>\n",
       "      <th>Unnamed: 10</th>\n",
       "      <th>Single on HU</th>\n",
       "      <th>gene name(s)</th>\n",
       "      <th>brief id (fromSGD)</th>\n",
       "    </tr>\n",
       "  </thead>\n",
       "  <tbody>\n",
       "    <tr>\n",
       "      <th>0</th>\n",
       "      <td>1</td>\n",
       "      <td>A</td>\n",
       "      <td>1</td>\n",
       "      <td>338.0</td>\n",
       "      <td>YAL068C</td>\n",
       "      <td>BY4741</td>\n",
       "      <td>NaN</td>\n",
       "      <td>NaN</td>\n",
       "      <td>NaN</td>\n",
       "      <td>NaN</td>\n",
       "      <td>NaN</td>\n",
       "      <td>NaN</td>\n",
       "      <td>NaN</td>\n",
       "      <td>biological_process unknown, molecular_function...</td>\n",
       "    </tr>\n",
       "    <tr>\n",
       "      <th>1</th>\n",
       "      <td>1</td>\n",
       "      <td>A</td>\n",
       "      <td>2</td>\n",
       "      <td>339.0</td>\n",
       "      <td>YAL067C</td>\n",
       "      <td>BY4741</td>\n",
       "      <td>NaN</td>\n",
       "      <td>NaN</td>\n",
       "      <td>NaN</td>\n",
       "      <td>NaN</td>\n",
       "      <td>NaN</td>\n",
       "      <td>NaN</td>\n",
       "      <td>SEO1</td>\n",
       "      <td>putative permease</td>\n",
       "    </tr>\n",
       "    <tr>\n",
       "      <th>2</th>\n",
       "      <td>1</td>\n",
       "      <td>A</td>\n",
       "      <td>3</td>\n",
       "      <td>340.0</td>\n",
       "      <td>YAL066W</td>\n",
       "      <td>BY4741</td>\n",
       "      <td>NaN</td>\n",
       "      <td>NaN</td>\n",
       "      <td>NaN</td>\n",
       "      <td>NaN</td>\n",
       "      <td>NaN</td>\n",
       "      <td>NaN</td>\n",
       "      <td>NaN</td>\n",
       "      <td>biological_process unknown, molecular_function...</td>\n",
       "    </tr>\n",
       "    <tr>\n",
       "      <th>3</th>\n",
       "      <td>1</td>\n",
       "      <td>A</td>\n",
       "      <td>4</td>\n",
       "      <td>341.0</td>\n",
       "      <td>YAL065C</td>\n",
       "      <td>BY4741</td>\n",
       "      <td>NaN</td>\n",
       "      <td>NaN</td>\n",
       "      <td>NaN</td>\n",
       "      <td>NaN</td>\n",
       "      <td>NaN</td>\n",
       "      <td>NaN</td>\n",
       "      <td>NaN</td>\n",
       "      <td>biological_process unknown, molecular_function...</td>\n",
       "    </tr>\n",
       "    <tr>\n",
       "      <th>4</th>\n",
       "      <td>1</td>\n",
       "      <td>A</td>\n",
       "      <td>5</td>\n",
       "      <td>345.0</td>\n",
       "      <td>YAL062W</td>\n",
       "      <td>BY4741</td>\n",
       "      <td>NaN</td>\n",
       "      <td>NaN</td>\n",
       "      <td>NaN</td>\n",
       "      <td>NaN</td>\n",
       "      <td>NaN</td>\n",
       "      <td>NaN</td>\n",
       "      <td>GDH3, FUN51</td>\n",
       "      <td>NADP-linked glutamate dehydrogenase,glutamate ...</td>\n",
       "    </tr>\n",
       "  </tbody>\n",
       "</table>\n",
       "</div>"
      ],
      "text/plain": [
       "   Plate row  col  record #      ORF  strain Euroscarf comments  \\\n",
       "0      1   A    1     338.0  YAL068C  BY4741                NaN   \n",
       "1      1   A    2     339.0  YAL067C  BY4741                NaN   \n",
       "2      1   A    3     340.0  YAL066W  BY4741                NaN   \n",
       "3      1   A    4     341.0  YAL065C  BY4741                NaN   \n",
       "4      1   A    5     345.0  YAL062W  BY4741                NaN   \n",
       "\n",
       "  Euroscarf growth comment Freezing comments Duplication in our collection  \\\n",
       "0                      NaN               NaN                           NaN   \n",
       "1                      NaN               NaN                           NaN   \n",
       "2                      NaN               NaN                           NaN   \n",
       "3                      NaN               NaN                           NaN   \n",
       "4                      NaN               NaN                           NaN   \n",
       "\n",
       "   Unnamed: 10 Single on HU gene name(s)  \\\n",
       "0          NaN          NaN          NaN   \n",
       "1          NaN          NaN         SEO1   \n",
       "2          NaN          NaN          NaN   \n",
       "3          NaN          NaN          NaN   \n",
       "4          NaN          NaN  GDH3, FUN51   \n",
       "\n",
       "                                  brief id (fromSGD)  \n",
       "0  biological_process unknown, molecular_function...  \n",
       "1                                 putative permease   \n",
       "2  biological_process unknown, molecular_function...  \n",
       "3  biological_process unknown, molecular_function...  \n",
       "4  NADP-linked glutamate dehydrogenase,glutamate ...  "
      ]
     },
     "execution_count": 26,
     "metadata": {},
     "output_type": "execute_result"
    }
   ],
   "source": [
    "tested.head()"
   ]
  },
  {
   "cell_type": "code",
   "execution_count": 27,
   "metadata": {},
   "outputs": [],
   "source": [
    "tested['orf'] = tested['ORF'].astype(str)"
   ]
  },
  {
   "cell_type": "code",
   "execution_count": 28,
   "metadata": {},
   "outputs": [],
   "source": [
    "tested['orf'] = clean_orf(tested['orf'])"
   ]
  },
  {
   "cell_type": "code",
   "execution_count": 29,
   "metadata": {},
   "outputs": [],
   "source": [
    "tested['orf'] = translate_sc(tested['orf'], to='orf')"
   ]
  },
  {
   "cell_type": "code",
   "execution_count": 30,
   "metadata": {},
   "outputs": [
    {
     "name": "stdout",
     "output_type": "stream",
     "text": [
      "             Plate row  col  record #  ORF strain Euroscarf comments  \\\n",
      "index_input                                                            \n",
      "1524            16   H    1       NaN  NaN    NaN                NaN   \n",
      "1525            16   H    2       NaN  NaN    NaN                NaN   \n",
      "1526            16   H    3       NaN  NaN    NaN                NaN   \n",
      "1527            16   H    4       NaN  NaN    NaN                NaN   \n",
      "1528            16   H    5       NaN  NaN    NaN                NaN   \n",
      "1529            16   H    6       NaN  NaN    NaN                NaN   \n",
      "1530            16   H    7       NaN  NaN    NaN                NaN   \n",
      "1531            16   H    8       NaN  NaN    NaN                NaN   \n",
      "1532            16   H    9       NaN  NaN    NaN                NaN   \n",
      "1533            16   H   10       NaN  NaN    NaN                NaN   \n",
      "1534            16   H   11       NaN  NaN    NaN                NaN   \n",
      "1535            16   H   12       NaN  NaN    NaN                NaN   \n",
      "3715            39   F    9       NaN  NaN    NaN                NaN   \n",
      "4867            51   F   10       NaN  NaN    NaN                NaN   \n",
      "4868            51   F   11       NaN  NaN    NaN                NaN   \n",
      "4869            51   F   12       NaN  NaN    NaN                NaN   \n",
      "4870            51   G    1       NaN  NaN    NaN                NaN   \n",
      "4871            51   G    2       NaN  NaN    NaN                NaN   \n",
      "4872            51   G    3       NaN  NaN    NaN                NaN   \n",
      "4873            51   G    4       NaN  NaN    NaN                NaN   \n",
      "4874            51   G    5       NaN  NaN    NaN                NaN   \n",
      "4875            51   G    6       NaN  NaN    NaN                NaN   \n",
      "4876            51   G    7       NaN  NaN    NaN                NaN   \n",
      "4877            51   G    8       NaN  NaN    NaN                NaN   \n",
      "4878            51   G    9       NaN  NaN    NaN                NaN   \n",
      "4879            51   G   10       NaN  NaN    NaN                NaN   \n",
      "4880            51   G   11       NaN  NaN    NaN                NaN   \n",
      "4881            51   G   12       NaN  NaN    NaN                NaN   \n",
      "4882            51   H    1       NaN  NaN    NaN                NaN   \n",
      "4883            51   H    2       NaN  NaN    NaN                NaN   \n",
      "4884            51   H    3       NaN  NaN    NaN                NaN   \n",
      "4885            51   H    4       NaN  NaN    NaN                NaN   \n",
      "4886            51   H    5       NaN  NaN    NaN                NaN   \n",
      "4887            51   H    6       NaN  NaN    NaN                NaN   \n",
      "4888            51   H    7       NaN  NaN    NaN                NaN   \n",
      "4889            51   H    8       NaN  NaN    NaN                NaN   \n",
      "4890            51   H    9       NaN  NaN    NaN                NaN   \n",
      "4891            51   H   10       NaN  NaN    NaN                NaN   \n",
      "4892            51   H   11       NaN  NaN    NaN                NaN   \n",
      "4893            51   H   12       NaN  NaN    NaN                NaN   \n",
      "\n",
      "            Euroscarf growth comment  \\\n",
      "index_input                            \n",
      "1524                             NaN   \n",
      "1525                             NaN   \n",
      "1526                             NaN   \n",
      "1527                             NaN   \n",
      "1528                             NaN   \n",
      "1529                             NaN   \n",
      "1530                             NaN   \n",
      "1531                             NaN   \n",
      "1532                             NaN   \n",
      "1533                             NaN   \n",
      "1534                             NaN   \n",
      "1535                             NaN   \n",
      "3715                             NaN   \n",
      "4867                             NaN   \n",
      "4868                             NaN   \n",
      "4869                             NaN   \n",
      "4870                             NaN   \n",
      "4871                             NaN   \n",
      "4872                             NaN   \n",
      "4873                             NaN   \n",
      "4874                             NaN   \n",
      "4875                             NaN   \n",
      "4876                             NaN   \n",
      "4877                             NaN   \n",
      "4878                             NaN   \n",
      "4879                             NaN   \n",
      "4880                             NaN   \n",
      "4881                             NaN   \n",
      "4882                             NaN   \n",
      "4883                             NaN   \n",
      "4884                             NaN   \n",
      "4885                             NaN   \n",
      "4886                             NaN   \n",
      "4887                             NaN   \n",
      "4888                             NaN   \n",
      "4889                             NaN   \n",
      "4890                             NaN   \n",
      "4891                             NaN   \n",
      "4892                             NaN   \n",
      "4893                             NaN   \n",
      "\n",
      "                                             Freezing comments  \\\n",
      "index_input                                                      \n",
      "1524                <<<<----- empty space in our ko collection   \n",
      "1525                <<<<----- empty space in our ko collection   \n",
      "1526                <<<<----- empty space in our ko collection   \n",
      "1527                <<<<----- empty space in our ko collection   \n",
      "1528                <<<<----- empty space in our ko collection   \n",
      "1529                <<<<----- empty space in our ko collection   \n",
      "1530                <<<<----- empty space in our ko collection   \n",
      "1531                <<<<----- empty space in our ko collection   \n",
      "1532                <<<<----- empty space in our ko collection   \n",
      "1533                <<<<----- empty space in our ko collection   \n",
      "1534                <<<<----- empty space in our ko collection   \n",
      "1535                <<<<----- empty space in our ko collection   \n",
      "3715         <<<<---- The strain at position 39F9 (chr2_3 E...   \n",
      "4867                                                       NaN   \n",
      "4868                                                       NaN   \n",
      "4869                                                       NaN   \n",
      "4870                                                       NaN   \n",
      "4871                                                       NaN   \n",
      "4872                                                       NaN   \n",
      "4873                                                       NaN   \n",
      "4874                                                       NaN   \n",
      "4875                                                       NaN   \n",
      "4876                                                       NaN   \n",
      "4877                                                       NaN   \n",
      "4878                                                       NaN   \n",
      "4879                                                       NaN   \n",
      "4880                                                       NaN   \n",
      "4881                                                       NaN   \n",
      "4882                                                       NaN   \n",
      "4883                                                       NaN   \n",
      "4884                                                       NaN   \n",
      "4885                                                       NaN   \n",
      "4886                                                       NaN   \n",
      "4887                                                       NaN   \n",
      "4888                                                       NaN   \n",
      "4889                                                       NaN   \n",
      "4890                                                       NaN   \n",
      "4891                                                       NaN   \n",
      "4892                                                       NaN   \n",
      "4893                                                       NaN   \n",
      "\n",
      "            Duplication in our collection  Unnamed: 10 Single on HU  \\\n",
      "index_input                                                           \n",
      "1524                                  NaN          NaN          NaN   \n",
      "1525                                  NaN          NaN          NaN   \n",
      "1526                                  NaN          NaN          NaN   \n",
      "1527                                  NaN          NaN           ss   \n",
      "1528                                  NaN          NaN          NaN   \n",
      "1529                                  NaN          NaN          NaN   \n",
      "1530                                  NaN          NaN          NaN   \n",
      "1531                                  NaN          NaN          NaN   \n",
      "1532                                  NaN          NaN          NaN   \n",
      "1533                                  NaN          NaN          NaN   \n",
      "1534                                  NaN          NaN          NaN   \n",
      "1535                                  NaN          NaN          NaN   \n",
      "3715                                  NaN          NaN           ss   \n",
      "4867                                  NaN          NaN          NaN   \n",
      "4868                                  NaN          NaN          NaN   \n",
      "4869                                  NaN          NaN          NaN   \n",
      "4870                                  NaN          NaN          NaN   \n",
      "4871                                  NaN          NaN          NaN   \n",
      "4872                                  NaN          NaN          NaN   \n",
      "4873                                  NaN          NaN          NaN   \n",
      "4874                                  NaN          NaN          NaN   \n",
      "4875                                  NaN          NaN          NaN   \n",
      "4876                                  NaN          NaN          NaN   \n",
      "4877                                  NaN          NaN          NaN   \n",
      "4878                                  NaN          NaN          NaN   \n",
      "4879                                  NaN          NaN          NaN   \n",
      "4880                                  NaN          NaN          NaN   \n",
      "4881                                  NaN          NaN          NaN   \n",
      "4882                                  NaN          NaN          NaN   \n",
      "4883                                  NaN          NaN          NaN   \n",
      "4884                                  NaN          NaN          NaN   \n",
      "4885                                  NaN          NaN          NaN   \n",
      "4886                                  NaN          NaN          NaN   \n",
      "4887                                  NaN          NaN          NaN   \n",
      "4888                                  NaN          NaN          NaN   \n",
      "4889                                  NaN          NaN          NaN   \n",
      "4890                                  NaN          NaN          NaN   \n",
      "4891                                  NaN          NaN          NaN   \n",
      "4892                                  NaN          NaN          NaN   \n",
      "4893                                  NaN          NaN          NaN   \n",
      "\n",
      "            gene name(s) brief id (fromSGD)  orf  \n",
      "index_input                                       \n",
      "1524                 NaN                NaN  NAN  \n",
      "1525                 NaN                NaN  NAN  \n",
      "1526                 NaN                NaN  NAN  \n",
      "1527                 NaN                NaN  NAN  \n",
      "1528                 NaN                NaN  NAN  \n",
      "1529                 NaN                NaN  NAN  \n",
      "1530                 NaN                NaN  NAN  \n",
      "1531                 NaN                NaN  NAN  \n",
      "1532                 NaN                NaN  NAN  \n",
      "1533                 NaN                NaN  NAN  \n",
      "1534                 NaN                NaN  NAN  \n",
      "1535                 NaN                NaN  NAN  \n",
      "3715                 NaN                NaN  NAN  \n",
      "4867                 NaN                NaN  NAN  \n",
      "4868                 NaN                NaN  NAN  \n",
      "4869                 NaN                NaN  NAN  \n",
      "4870                 NaN                NaN  NAN  \n",
      "4871                 NaN                NaN  NAN  \n",
      "4872                 NaN                NaN  NAN  \n",
      "4873                 NaN                NaN  NAN  \n",
      "4874                 NaN                NaN  NAN  \n",
      "4875                 NaN                NaN  NAN  \n",
      "4876                 NaN                NaN  NAN  \n",
      "4877                 NaN                NaN  NAN  \n",
      "4878                 NaN                NaN  NAN  \n",
      "4879                 NaN                NaN  NAN  \n",
      "4880                 NaN                NaN  NAN  \n",
      "4881                 NaN                NaN  NAN  \n",
      "4882                 NaN                NaN  NAN  \n",
      "4883                 NaN                NaN  NAN  \n",
      "4884                 NaN                NaN  NAN  \n",
      "4885                 NaN                NaN  NAN  \n",
      "4886                 NaN                NaN  NAN  \n",
      "4887                 NaN                NaN  NAN  \n",
      "4888                 NaN                NaN  NAN  \n",
      "4889                 NaN                NaN  NAN  \n",
      "4890                 NaN                NaN  NAN  \n",
      "4891                 NaN                NaN  NAN  \n",
      "4892                 NaN                NaN  NAN  \n",
      "4893                 NaN                NaN  NAN  \n"
     ]
    }
   ],
   "source": [
    "# Make sure everything translated ok\n",
    "t = looks_like_orf(tested['orf'])\n",
    "print(tested.loc[~t,])"
   ]
  },
  {
   "cell_type": "code",
   "execution_count": 31,
   "metadata": {},
   "outputs": [],
   "source": [
    "tested = tested.loc[t,:]"
   ]
  },
  {
   "cell_type": "code",
   "execution_count": 32,
   "metadata": {},
   "outputs": [],
   "source": [
    "tested_orfs = tested['orf'].unique()"
   ]
  },
  {
   "cell_type": "code",
   "execution_count": 33,
   "metadata": {},
   "outputs": [
    {
     "data": {
      "text/plain": [
       "[]"
      ]
     },
     "execution_count": 33,
     "metadata": {},
     "output_type": "execute_result"
    }
   ],
   "source": [
    "missing = [orf for orf in original_data.index.values if orf not in tested_orfs]\n",
    "missing"
   ]
  },
  {
   "cell_type": "code",
   "execution_count": 34,
   "metadata": {},
   "outputs": [],
   "source": [
    "original_data = original_data.reindex(index=tested_orfs, fill_value=0)"
   ]
  },
  {
   "cell_type": "markdown",
   "metadata": {},
   "source": [
    "# Prepare the final dataset"
   ]
  },
  {
   "cell_type": "code",
   "execution_count": 35,
   "metadata": {},
   "outputs": [],
   "source": [
    "data = original_data.copy()"
   ]
  },
  {
   "cell_type": "code",
   "execution_count": 36,
   "metadata": {},
   "outputs": [],
   "source": [
    "dataset_ids = [96]\n",
    "datasets = datasets.reindex(index=dataset_ids)"
   ]
  },
  {
   "cell_type": "code",
   "execution_count": 37,
   "metadata": {},
   "outputs": [],
   "source": [
    "lst = [datasets.index.values, ['value']*datasets.shape[0]]\n",
    "tuples = list(zip(*lst))\n",
    "idx = pd.MultiIndex.from_tuples(tuples, names=['dataset_id','data_type'])\n",
    "data.columns = idx"
   ]
  },
  {
   "cell_type": "code",
   "execution_count": 38,
   "metadata": {},
   "outputs": [
    {
     "data": {
      "text/html": [
       "<div>\n",
       "<style scoped>\n",
       "    .dataframe tbody tr th:only-of-type {\n",
       "        vertical-align: middle;\n",
       "    }\n",
       "\n",
       "    .dataframe tbody tr th {\n",
       "        vertical-align: top;\n",
       "    }\n",
       "\n",
       "    .dataframe thead tr th {\n",
       "        text-align: left;\n",
       "    }\n",
       "\n",
       "    .dataframe thead tr:last-of-type th {\n",
       "        text-align: right;\n",
       "    }\n",
       "</style>\n",
       "<table border=\"1\" class=\"dataframe\">\n",
       "  <thead>\n",
       "    <tr>\n",
       "      <th>dataset_id</th>\n",
       "      <th>96</th>\n",
       "    </tr>\n",
       "    <tr>\n",
       "      <th>data_type</th>\n",
       "      <th>value</th>\n",
       "    </tr>\n",
       "    <tr>\n",
       "      <th>orf</th>\n",
       "      <th></th>\n",
       "    </tr>\n",
       "  </thead>\n",
       "  <tbody>\n",
       "    <tr>\n",
       "      <th>YAL068C</th>\n",
       "      <td>0</td>\n",
       "    </tr>\n",
       "    <tr>\n",
       "      <th>YAL067C</th>\n",
       "      <td>0</td>\n",
       "    </tr>\n",
       "    <tr>\n",
       "      <th>YAL066W</th>\n",
       "      <td>0</td>\n",
       "    </tr>\n",
       "    <tr>\n",
       "      <th>YAL065C</th>\n",
       "      <td>0</td>\n",
       "    </tr>\n",
       "    <tr>\n",
       "      <th>YAL062W</th>\n",
       "      <td>0</td>\n",
       "    </tr>\n",
       "  </tbody>\n",
       "</table>\n",
       "</div>"
      ],
      "text/plain": [
       "dataset_id    96\n",
       "data_type  value\n",
       "orf             \n",
       "YAL068C        0\n",
       "YAL067C        0\n",
       "YAL066W        0\n",
       "YAL065C        0\n",
       "YAL062W        0"
      ]
     },
     "execution_count": 38,
     "metadata": {},
     "output_type": "execute_result"
    }
   ],
   "source": [
    "data.head()"
   ]
  },
  {
   "cell_type": "markdown",
   "metadata": {},
   "source": [
    "## Subset to the genes currently in SGD"
   ]
  },
  {
   "cell_type": "code",
   "execution_count": 39,
   "metadata": {},
   "outputs": [
    {
     "name": "stdout",
     "output_type": "stream",
     "text": [
      "ORFs missing from SGD: 22\n"
     ]
    }
   ],
   "source": [
    "genes = pd.read_csv(path_to_genes, sep='\\t', index_col='id')\n",
    "genes = genes.reset_index().set_index('systematic_name')\n",
    "gene_ids = genes.reindex(index=data.index.values)['id'].values\n",
    "num_missing = np.sum(np.isnan(gene_ids))\n",
    "print('ORFs missing from SGD: %d' % num_missing)"
   ]
  },
  {
   "cell_type": "code",
   "execution_count": 40,
   "metadata": {},
   "outputs": [
    {
     "data": {
      "text/html": [
       "<div>\n",
       "<style scoped>\n",
       "    .dataframe tbody tr th:only-of-type {\n",
       "        vertical-align: middle;\n",
       "    }\n",
       "\n",
       "    .dataframe tbody tr th {\n",
       "        vertical-align: top;\n",
       "    }\n",
       "\n",
       "    .dataframe thead tr th {\n",
       "        text-align: left;\n",
       "    }\n",
       "\n",
       "    .dataframe thead tr:last-of-type th {\n",
       "        text-align: right;\n",
       "    }\n",
       "</style>\n",
       "<table border=\"1\" class=\"dataframe\">\n",
       "  <thead>\n",
       "    <tr>\n",
       "      <th></th>\n",
       "      <th>dataset_id</th>\n",
       "      <th>96</th>\n",
       "    </tr>\n",
       "    <tr>\n",
       "      <th></th>\n",
       "      <th>data_type</th>\n",
       "      <th>value</th>\n",
       "    </tr>\n",
       "    <tr>\n",
       "      <th>gene_id</th>\n",
       "      <th>orf</th>\n",
       "      <th></th>\n",
       "    </tr>\n",
       "  </thead>\n",
       "  <tbody>\n",
       "    <tr>\n",
       "      <th>1869</th>\n",
       "      <th>YAL068C</th>\n",
       "      <td>0</td>\n",
       "    </tr>\n",
       "    <tr>\n",
       "      <th>61</th>\n",
       "      <th>YAL067C</th>\n",
       "      <td>0</td>\n",
       "    </tr>\n",
       "    <tr>\n",
       "      <th>60</th>\n",
       "      <th>YAL066W</th>\n",
       "      <td>0</td>\n",
       "    </tr>\n",
       "    <tr>\n",
       "      <th>1727</th>\n",
       "      <th>YAL065C</th>\n",
       "      <td>0</td>\n",
       "    </tr>\n",
       "    <tr>\n",
       "      <th>57</th>\n",
       "      <th>YAL062W</th>\n",
       "      <td>0</td>\n",
       "    </tr>\n",
       "  </tbody>\n",
       "</table>\n",
       "</div>"
      ],
      "text/plain": [
       "dataset_id         96\n",
       "data_type       value\n",
       "gene_id orf          \n",
       "1869    YAL068C     0\n",
       "61      YAL067C     0\n",
       "60      YAL066W     0\n",
       "1727    YAL065C     0\n",
       "57      YAL062W     0"
      ]
     },
     "execution_count": 40,
     "metadata": {},
     "output_type": "execute_result"
    }
   ],
   "source": [
    "data['gene_id'] = gene_ids\n",
    "data = data.loc[data['gene_id'].notnull()]\n",
    "data['gene_id'] = data['gene_id'].astype(int)\n",
    "data = data.reset_index().set_index(['gene_id','orf'])\n",
    "\n",
    "data.head()"
   ]
  },
  {
   "cell_type": "markdown",
   "metadata": {},
   "source": [
    "# Normalize"
   ]
  },
  {
   "cell_type": "code",
   "execution_count": 41,
   "metadata": {},
   "outputs": [],
   "source": [
    "data_norm = normalize_phenotypic_scores(data, has_tested=True)"
   ]
  },
  {
   "cell_type": "code",
   "execution_count": 42,
   "metadata": {},
   "outputs": [],
   "source": [
    "# Assign proper column names\n",
    "lst = [datasets.index.values, ['valuez']*datasets.shape[0]]\n",
    "tuples = list(zip(*lst))\n",
    "idx = pd.MultiIndex.from_tuples(tuples, names=['dataset_id','data_type'])\n",
    "data_norm.columns = idx"
   ]
  },
  {
   "cell_type": "code",
   "execution_count": 43,
   "metadata": {},
   "outputs": [
    {
     "data": {
      "text/html": [
       "<div>\n",
       "<style scoped>\n",
       "    .dataframe tbody tr th:only-of-type {\n",
       "        vertical-align: middle;\n",
       "    }\n",
       "\n",
       "    .dataframe tbody tr th {\n",
       "        vertical-align: top;\n",
       "    }\n",
       "\n",
       "    .dataframe thead tr th {\n",
       "        text-align: left;\n",
       "    }\n",
       "\n",
       "    .dataframe thead tr:last-of-type th {\n",
       "        text-align: right;\n",
       "    }\n",
       "</style>\n",
       "<table border=\"1\" class=\"dataframe\">\n",
       "  <thead>\n",
       "    <tr>\n",
       "      <th></th>\n",
       "      <th>dataset_id</th>\n",
       "      <th colspan=\"2\" halign=\"left\">96</th>\n",
       "    </tr>\n",
       "    <tr>\n",
       "      <th></th>\n",
       "      <th>data_type</th>\n",
       "      <th>value</th>\n",
       "      <th>valuez</th>\n",
       "    </tr>\n",
       "    <tr>\n",
       "      <th>gene_id</th>\n",
       "      <th>orf</th>\n",
       "      <th></th>\n",
       "      <th></th>\n",
       "    </tr>\n",
       "  </thead>\n",
       "  <tbody>\n",
       "    <tr>\n",
       "      <th>1869</th>\n",
       "      <th>YAL068C</th>\n",
       "      <td>0</td>\n",
       "      <td>0.052724</td>\n",
       "    </tr>\n",
       "    <tr>\n",
       "      <th>61</th>\n",
       "      <th>YAL067C</th>\n",
       "      <td>0</td>\n",
       "      <td>0.052724</td>\n",
       "    </tr>\n",
       "    <tr>\n",
       "      <th>60</th>\n",
       "      <th>YAL066W</th>\n",
       "      <td>0</td>\n",
       "      <td>0.052724</td>\n",
       "    </tr>\n",
       "    <tr>\n",
       "      <th>1727</th>\n",
       "      <th>YAL065C</th>\n",
       "      <td>0</td>\n",
       "      <td>0.052724</td>\n",
       "    </tr>\n",
       "    <tr>\n",
       "      <th>57</th>\n",
       "      <th>YAL062W</th>\n",
       "      <td>0</td>\n",
       "      <td>0.052724</td>\n",
       "    </tr>\n",
       "  </tbody>\n",
       "</table>\n",
       "</div>"
      ],
      "text/plain": [
       "dataset_id         96          \n",
       "data_type       value    valuez\n",
       "gene_id orf                    \n",
       "1869    YAL068C     0  0.052724\n",
       "61      YAL067C     0  0.052724\n",
       "60      YAL066W     0  0.052724\n",
       "1727    YAL065C     0  0.052724\n",
       "57      YAL062W     0  0.052724"
      ]
     },
     "execution_count": 43,
     "metadata": {},
     "output_type": "execute_result"
    }
   ],
   "source": [
    "data_norm[data.isnull()] = np.nan\n",
    "data_all = data.join(data_norm)\n",
    "\n",
    "data_all.head()"
   ]
  },
  {
   "cell_type": "markdown",
   "metadata": {},
   "source": [
    "# Print out"
   ]
  },
  {
   "cell_type": "code",
   "execution_count": 44,
   "metadata": {},
   "outputs": [],
   "source": [
    "for f in ['value','valuez']:\n",
    "    df = data_all.xs(f, level='data_type', axis=1).copy()\n",
    "    df.columns = datasets['name'].values\n",
    "    df = df.droplevel('gene_id', axis=0)\n",
    "    df.to_csv(paper_name + '_' + f + '.txt', sep='\\t')"
   ]
  },
  {
   "cell_type": "markdown",
   "metadata": {},
   "source": [
    "# Save to DB"
   ]
  },
  {
   "cell_type": "code",
   "execution_count": 45,
   "metadata": {},
   "outputs": [],
   "source": [
    "from IO.save_data_to_db3 import *"
   ]
  },
  {
   "cell_type": "code",
   "execution_count": 46,
   "metadata": {},
   "outputs": [
    {
     "name": "stderr",
     "output_type": "stream",
     "text": [
      "  0%|          | 0/1 [00:00<?, ?it/s]"
     ]
    },
    {
     "name": "stdout",
     "output_type": "stream",
     "text": [
      "Deleting all datasets for PMID 14871844...\n",
      "Inserting the new data...\n"
     ]
    },
    {
     "name": "stderr",
     "output_type": "stream",
     "text": [
      "100%|██████████| 1/1 [00:08<00:00,  8.08s/it]"
     ]
    },
    {
     "name": "stdout",
     "output_type": "stream",
     "text": [
      "Updating the data_modified_on field...\n"
     ]
    },
    {
     "name": "stderr",
     "output_type": "stream",
     "text": [
      "\n"
     ]
    }
   ],
   "source": [
    "save_data_to_db(data_all, paper_pmid)"
   ]
  },
  {
   "cell_type": "code",
   "execution_count": null,
   "metadata": {},
   "outputs": [],
   "source": []
  }
 ],
 "metadata": {
  "kernelspec": {
   "display_name": "yp-data",
   "language": "python",
   "name": "yp-data"
  },
  "language_info": {
   "codemirror_mode": {
    "name": "ipython",
    "version": 3
   },
   "file_extension": ".py",
   "mimetype": "text/x-python",
   "name": "python",
   "nbconvert_exporter": "python",
   "pygments_lexer": "ipython3",
   "version": "3.7.7"
  }
 },
 "nbformat": 4,
 "nbformat_minor": 4
}
