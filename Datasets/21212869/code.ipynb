{
 "cells": [
  {
   "cell_type": "code",
   "execution_count": 1,
   "metadata": {},
   "outputs": [],
   "source": [
    "%run ../../Utils/yp_utils.py"
   ]
  },
  {
   "cell_type": "markdown",
   "metadata": {},
   "source": [
    "# Initial setup"
   ]
  },
  {
   "cell_type": "code",
   "execution_count": 2,
   "metadata": {},
   "outputs": [],
   "source": [
    "paper_pmid = 21212869\n",
    "paper_name = 'bleackley_macgillivray_2011' "
   ]
  },
  {
   "cell_type": "code",
   "execution_count": 3,
   "metadata": {},
   "outputs": [],
   "source": [
    "datasets = pd.read_csv('extras/YeastPhenome_' + str(paper_pmid) + '_datasets_list.txt', sep='\\t', header=None, names=['dataset_id', 'name'])"
   ]
  },
  {
   "cell_type": "code",
   "execution_count": 4,
   "metadata": {},
   "outputs": [],
   "source": [
    "datasets.set_index('dataset_id', inplace=True)"
   ]
  },
  {
   "cell_type": "markdown",
   "metadata": {},
   "source": [
    "# Load & process the data"
   ]
  },
  {
   "cell_type": "code",
   "execution_count": 5,
   "metadata": {},
   "outputs": [],
   "source": [
    "original_data = pd.read_excel('raw_data/metallomicsbleackley raw data.xls', sheet_name='rawdata')"
   ]
  },
  {
   "cell_type": "code",
   "execution_count": 6,
   "metadata": {},
   "outputs": [
    {
     "name": "stdout",
     "output_type": "stream",
     "text": [
      "Original data dimensions: 24577 x 14\n"
     ]
    }
   ],
   "source": [
    "print('Original data dimensions: %d x %d' % (original_data.shape))"
   ]
  },
  {
   "cell_type": "code",
   "execution_count": 7,
   "metadata": {},
   "outputs": [
    {
     "data": {
      "text/html": [
       "<div>\n",
       "<style scoped>\n",
       "    .dataframe tbody tr th:only-of-type {\n",
       "        vertical-align: middle;\n",
       "    }\n",
       "\n",
       "    .dataframe tbody tr th {\n",
       "        vertical-align: top;\n",
       "    }\n",
       "\n",
       "    .dataframe thead th {\n",
       "        text-align: right;\n",
       "    }\n",
       "</style>\n",
       "<table border=\"1\" class=\"dataframe\">\n",
       "  <thead>\n",
       "    <tr style=\"text-align: right;\">\n",
       "      <th></th>\n",
       "      <th>Orf</th>\n",
       "      <th>Gene</th>\n",
       "      <th>Fe</th>\n",
       "      <th>p-value</th>\n",
       "      <th>Cu</th>\n",
       "      <th>p-value.1</th>\n",
       "      <th>Mn</th>\n",
       "      <th>p-value.2</th>\n",
       "      <th>Ni</th>\n",
       "      <th>p-value.3</th>\n",
       "      <th>Zn</th>\n",
       "      <th>p-value.4</th>\n",
       "      <th>Co</th>\n",
       "      <th>p-value.5</th>\n",
       "    </tr>\n",
       "  </thead>\n",
       "  <tbody>\n",
       "    <tr>\n",
       "      <th>0</th>\n",
       "      <td>undefined</td>\n",
       "      <td>undefined</td>\n",
       "      <td></td>\n",
       "      <td>NaN</td>\n",
       "      <td></td>\n",
       "      <td>NaN</td>\n",
       "      <td></td>\n",
       "      <td>NaN</td>\n",
       "      <td></td>\n",
       "      <td>NaN</td>\n",
       "      <td></td>\n",
       "      <td>NaN</td>\n",
       "      <td></td>\n",
       "      <td>NaN</td>\n",
       "    </tr>\n",
       "    <tr>\n",
       "      <th>1</th>\n",
       "      <td>YMR252C</td>\n",
       "      <td>YMR252C</td>\n",
       "      <td>0.866133</td>\n",
       "      <td>0.973444</td>\n",
       "      <td>1.02104</td>\n",
       "      <td>1.0</td>\n",
       "      <td>0.97292</td>\n",
       "      <td>1.000000</td>\n",
       "      <td>1.03667</td>\n",
       "      <td>1.000000</td>\n",
       "      <td>1.03562</td>\n",
       "      <td>1.000000</td>\n",
       "      <td>1.02811</td>\n",
       "      <td>1.000000</td>\n",
       "    </tr>\n",
       "    <tr>\n",
       "      <th>2</th>\n",
       "      <td>YLL040C</td>\n",
       "      <td>VPS13</td>\n",
       "      <td>0.711493</td>\n",
       "      <td>0.047270</td>\n",
       "      <td>1.13738</td>\n",
       "      <td>1.0</td>\n",
       "      <td>1.04188</td>\n",
       "      <td>1.000000</td>\n",
       "      <td>1.39008</td>\n",
       "      <td>1.000000</td>\n",
       "      <td>1.01973</td>\n",
       "      <td>1.000000</td>\n",
       "      <td>0.891561</td>\n",
       "      <td>0.981706</td>\n",
       "    </tr>\n",
       "    <tr>\n",
       "      <th>3</th>\n",
       "      <td>YNL276C</td>\n",
       "      <td>YNL276C</td>\n",
       "      <td>0.963582</td>\n",
       "      <td>0.904782</td>\n",
       "      <td>1.00037</td>\n",
       "      <td>1.0</td>\n",
       "      <td>0.947105</td>\n",
       "      <td>0.881325</td>\n",
       "      <td>0.993056</td>\n",
       "      <td>1.000000</td>\n",
       "      <td>0.814685</td>\n",
       "      <td>0.911056</td>\n",
       "      <td>1.14256</td>\n",
       "      <td>1.000000</td>\n",
       "    </tr>\n",
       "    <tr>\n",
       "      <th>4</th>\n",
       "      <td>YAL068C</td>\n",
       "      <td>YAL068C</td>\n",
       "      <td>0.875378</td>\n",
       "      <td>0.617833</td>\n",
       "      <td>1.02895</td>\n",
       "      <td>1.0</td>\n",
       "      <td>0.938812</td>\n",
       "      <td>0.984705</td>\n",
       "      <td>0.969529</td>\n",
       "      <td>0.983776</td>\n",
       "      <td>1.00913</td>\n",
       "      <td>1.000000</td>\n",
       "      <td>1.00164</td>\n",
       "      <td>1.000000</td>\n",
       "    </tr>\n",
       "  </tbody>\n",
       "</table>\n",
       "</div>"
      ],
      "text/plain": [
       "         Orf       Gene        Fe   p-value       Cu  p-value.1        Mn  \\\n",
       "0  undefined  undefined                 NaN                 NaN             \n",
       "1    YMR252C    YMR252C  0.866133  0.973444  1.02104        1.0   0.97292   \n",
       "2    YLL040C      VPS13  0.711493  0.047270  1.13738        1.0   1.04188   \n",
       "3    YNL276C    YNL276C  0.963582  0.904782  1.00037        1.0  0.947105   \n",
       "4    YAL068C    YAL068C  0.875378  0.617833  1.02895        1.0  0.938812   \n",
       "\n",
       "   p-value.2        Ni  p-value.3        Zn  p-value.4        Co  p-value.5  \n",
       "0        NaN                  NaN                  NaN                  NaN  \n",
       "1   1.000000   1.03667   1.000000   1.03562   1.000000   1.02811   1.000000  \n",
       "2   1.000000   1.39008   1.000000   1.01973   1.000000  0.891561   0.981706  \n",
       "3   0.881325  0.993056   1.000000  0.814685   0.911056   1.14256   1.000000  \n",
       "4   0.984705  0.969529   0.983776   1.00913   1.000000   1.00164   1.000000  "
      ]
     },
     "execution_count": 7,
     "metadata": {},
     "output_type": "execute_result"
    }
   ],
   "source": [
    "original_data.head()"
   ]
  },
  {
   "cell_type": "code",
   "execution_count": 8,
   "metadata": {},
   "outputs": [],
   "source": [
    "original_data['orf'] = original_data['Orf'].astype(str)"
   ]
  },
  {
   "cell_type": "code",
   "execution_count": 9,
   "metadata": {},
   "outputs": [],
   "source": [
    "# Eliminate all white spaces & capitalize\n",
    "original_data['orf'] = clean_orf(original_data['orf'])"
   ]
  },
  {
   "cell_type": "code",
   "execution_count": 10,
   "metadata": {},
   "outputs": [],
   "source": [
    "# Translate to ORFs \n",
    "original_data['orf'] = translate_sc(original_data['orf'], to='orf')"
   ]
  },
  {
   "cell_type": "code",
   "execution_count": 11,
   "metadata": {},
   "outputs": [
    {
     "name": "stdout",
     "output_type": "stream",
     "text": [
      "                   Orf       Gene Fe  p-value Cu  p-value.1 Mn  p-value.2 Ni  \\\n",
      "index_input                                                                    \n",
      "0            undefined  undefined         NaN           NaN           NaN      \n",
      "6            undefined  undefined         NaN           NaN           NaN      \n",
      "17           undefined  undefined         NaN           NaN           NaN      \n",
      "23           undefined  undefined         NaN           NaN           NaN      \n",
      "80           undefined  undefined         NaN           NaN           NaN      \n",
      "...                ...        ... ..      ... ..        ... ..        ... ..   \n",
      "24572                                     NaN           NaN           NaN      \n",
      "24573                                     NaN           NaN           NaN      \n",
      "24574                                     NaN           NaN           NaN      \n",
      "24575                                     NaN           NaN           NaN      \n",
      "24576                                     NaN           NaN           NaN      \n",
      "\n",
      "             p-value.3 Zn  p-value.4 Co  p-value.5        orf  \n",
      "index_input                                                    \n",
      "0                  NaN           NaN           NaN  UNDEFINED  \n",
      "6                  NaN           NaN           NaN  UNDEFINED  \n",
      "17                 NaN           NaN           NaN  UNDEFINED  \n",
      "23                 NaN           NaN           NaN  UNDEFINED  \n",
      "80                 NaN           NaN           NaN  UNDEFINED  \n",
      "...                ... ..        ... ..        ...        ...  \n",
      "24572              NaN           NaN           NaN             \n",
      "24573              NaN           NaN           NaN             \n",
      "24574              NaN           NaN           NaN             \n",
      "24575              NaN           NaN           NaN             \n",
      "24576              NaN           NaN           NaN             \n",
      "\n",
      "[18678 rows x 15 columns]\n"
     ]
    }
   ],
   "source": [
    "# Make sure everything translated ok\n",
    "t = looks_like_orf(original_data['orf'])\n",
    "print(original_data.loc[~t,])"
   ]
  },
  {
   "cell_type": "code",
   "execution_count": 14,
   "metadata": {},
   "outputs": [],
   "source": [
    "original_data = original_data.loc[t,:]"
   ]
  },
  {
   "cell_type": "code",
   "execution_count": 15,
   "metadata": {},
   "outputs": [],
   "source": [
    "original_data.set_index('orf', inplace=True)"
   ]
  },
  {
   "cell_type": "code",
   "execution_count": 16,
   "metadata": {},
   "outputs": [],
   "source": [
    "original_data = original_data[['Fe','Cu','Mn','Ni','Zn','Co']].copy()"
   ]
  },
  {
   "cell_type": "code",
   "execution_count": 17,
   "metadata": {},
   "outputs": [],
   "source": [
    "original_data = original_data.apply(pd.to_numeric, axis=1, errors='coerce')"
   ]
  },
  {
   "cell_type": "code",
   "execution_count": 18,
   "metadata": {},
   "outputs": [],
   "source": [
    "original_data = original_data.groupby(original_data.index).mean()"
   ]
  },
  {
   "cell_type": "code",
   "execution_count": 19,
   "metadata": {},
   "outputs": [
    {
     "data": {
      "text/plain": [
       "(4765, 6)"
      ]
     },
     "execution_count": 19,
     "metadata": {},
     "output_type": "execute_result"
    }
   ],
   "source": [
    "original_data.shape"
   ]
  },
  {
   "cell_type": "markdown",
   "metadata": {},
   "source": [
    "# Prepare the final dataset"
   ]
  },
  {
   "cell_type": "code",
   "execution_count": 20,
   "metadata": {},
   "outputs": [],
   "source": [
    "data = original_data.copy()"
   ]
  },
  {
   "cell_type": "code",
   "execution_count": 21,
   "metadata": {},
   "outputs": [],
   "source": [
    "dataset_ids = np.arange(20,26)\n",
    "datasets = datasets.reindex(index=dataset_ids)"
   ]
  },
  {
   "cell_type": "code",
   "execution_count": 22,
   "metadata": {},
   "outputs": [],
   "source": [
    "lst = [datasets.index.values, ['value']*datasets.shape[0]]\n",
    "tuples = list(zip(*lst))\n",
    "idx = pd.MultiIndex.from_tuples(tuples, names=['dataset_id','data_type'])\n",
    "data.columns = idx"
   ]
  },
  {
   "cell_type": "code",
   "execution_count": 23,
   "metadata": {},
   "outputs": [
    {
     "data": {
      "text/html": [
       "<div>\n",
       "<style scoped>\n",
       "    .dataframe tbody tr th:only-of-type {\n",
       "        vertical-align: middle;\n",
       "    }\n",
       "\n",
       "    .dataframe tbody tr th {\n",
       "        vertical-align: top;\n",
       "    }\n",
       "\n",
       "    .dataframe thead tr th {\n",
       "        text-align: left;\n",
       "    }\n",
       "\n",
       "    .dataframe thead tr:last-of-type th {\n",
       "        text-align: right;\n",
       "    }\n",
       "</style>\n",
       "<table border=\"1\" class=\"dataframe\">\n",
       "  <thead>\n",
       "    <tr>\n",
       "      <th>dataset_id</th>\n",
       "      <th>20</th>\n",
       "      <th>21</th>\n",
       "      <th>22</th>\n",
       "      <th>23</th>\n",
       "      <th>24</th>\n",
       "      <th>25</th>\n",
       "    </tr>\n",
       "    <tr>\n",
       "      <th>data_type</th>\n",
       "      <th>value</th>\n",
       "      <th>value</th>\n",
       "      <th>value</th>\n",
       "      <th>value</th>\n",
       "      <th>value</th>\n",
       "      <th>value</th>\n",
       "    </tr>\n",
       "    <tr>\n",
       "      <th>orf</th>\n",
       "      <th></th>\n",
       "      <th></th>\n",
       "      <th></th>\n",
       "      <th></th>\n",
       "      <th></th>\n",
       "      <th></th>\n",
       "    </tr>\n",
       "  </thead>\n",
       "  <tbody>\n",
       "    <tr>\n",
       "      <th>YAL002W</th>\n",
       "      <td>0.921386</td>\n",
       "      <td>0.839092</td>\n",
       "      <td>0.943714</td>\n",
       "      <td>1.166588</td>\n",
       "      <td>0.869552</td>\n",
       "      <td>0.461767</td>\n",
       "    </tr>\n",
       "    <tr>\n",
       "      <th>YAL004W</th>\n",
       "      <td>1.179340</td>\n",
       "      <td>1.031561</td>\n",
       "      <td>1.022911</td>\n",
       "      <td>0.919253</td>\n",
       "      <td>0.963030</td>\n",
       "      <td>1.142426</td>\n",
       "    </tr>\n",
       "    <tr>\n",
       "      <th>YAL005C</th>\n",
       "      <td>0.807115</td>\n",
       "      <td>0.954682</td>\n",
       "      <td>0.946250</td>\n",
       "      <td>1.038537</td>\n",
       "      <td>1.067878</td>\n",
       "      <td>0.784079</td>\n",
       "    </tr>\n",
       "    <tr>\n",
       "      <th>YAL007C</th>\n",
       "      <td>0.911574</td>\n",
       "      <td>0.929408</td>\n",
       "      <td>1.088321</td>\n",
       "      <td>0.980989</td>\n",
       "      <td>0.996680</td>\n",
       "      <td>0.921879</td>\n",
       "    </tr>\n",
       "    <tr>\n",
       "      <th>YAL008W</th>\n",
       "      <td>0.784962</td>\n",
       "      <td>1.026864</td>\n",
       "      <td>1.070975</td>\n",
       "      <td>0.898266</td>\n",
       "      <td>1.096596</td>\n",
       "      <td>0.980908</td>\n",
       "    </tr>\n",
       "  </tbody>\n",
       "</table>\n",
       "</div>"
      ],
      "text/plain": [
       "dataset_id        20        21        22        23        24        25\n",
       "data_type      value     value     value     value     value     value\n",
       "orf                                                                   \n",
       "YAL002W     0.921386  0.839092  0.943714  1.166588  0.869552  0.461767\n",
       "YAL004W     1.179340  1.031561  1.022911  0.919253  0.963030  1.142426\n",
       "YAL005C     0.807115  0.954682  0.946250  1.038537  1.067878  0.784079\n",
       "YAL007C     0.911574  0.929408  1.088321  0.980989  0.996680  0.921879\n",
       "YAL008W     0.784962  1.026864  1.070975  0.898266  1.096596  0.980908"
      ]
     },
     "execution_count": 23,
     "metadata": {},
     "output_type": "execute_result"
    }
   ],
   "source": [
    "data.head()"
   ]
  },
  {
   "cell_type": "markdown",
   "metadata": {},
   "source": [
    "## Subset to the genes currently in SGD"
   ]
  },
  {
   "cell_type": "code",
   "execution_count": 24,
   "metadata": {},
   "outputs": [
    {
     "name": "stdout",
     "output_type": "stream",
     "text": [
      "ORFs missing from SGD: 22\n"
     ]
    }
   ],
   "source": [
    "genes = pd.read_csv(path_to_genes, sep='\\t', index_col='id')\n",
    "genes = genes.reset_index().set_index('systematic_name')\n",
    "gene_ids = genes.reindex(index=data.index.values)['id'].values\n",
    "num_missing = np.sum(np.isnan(gene_ids))\n",
    "print('ORFs missing from SGD: %d' % num_missing)"
   ]
  },
  {
   "cell_type": "code",
   "execution_count": 25,
   "metadata": {},
   "outputs": [
    {
     "data": {
      "text/html": [
       "<div>\n",
       "<style scoped>\n",
       "    .dataframe tbody tr th:only-of-type {\n",
       "        vertical-align: middle;\n",
       "    }\n",
       "\n",
       "    .dataframe tbody tr th {\n",
       "        vertical-align: top;\n",
       "    }\n",
       "\n",
       "    .dataframe thead tr th {\n",
       "        text-align: left;\n",
       "    }\n",
       "\n",
       "    .dataframe thead tr:last-of-type th {\n",
       "        text-align: right;\n",
       "    }\n",
       "</style>\n",
       "<table border=\"1\" class=\"dataframe\">\n",
       "  <thead>\n",
       "    <tr>\n",
       "      <th></th>\n",
       "      <th>dataset_id</th>\n",
       "      <th>20</th>\n",
       "      <th>21</th>\n",
       "      <th>22</th>\n",
       "      <th>23</th>\n",
       "      <th>24</th>\n",
       "      <th>25</th>\n",
       "    </tr>\n",
       "    <tr>\n",
       "      <th></th>\n",
       "      <th>data_type</th>\n",
       "      <th>value</th>\n",
       "      <th>value</th>\n",
       "      <th>value</th>\n",
       "      <th>value</th>\n",
       "      <th>value</th>\n",
       "      <th>value</th>\n",
       "    </tr>\n",
       "    <tr>\n",
       "      <th>gene_id</th>\n",
       "      <th>orf</th>\n",
       "      <th></th>\n",
       "      <th></th>\n",
       "      <th></th>\n",
       "      <th></th>\n",
       "      <th></th>\n",
       "      <th></th>\n",
       "    </tr>\n",
       "  </thead>\n",
       "  <tbody>\n",
       "    <tr>\n",
       "      <th>2</th>\n",
       "      <th>YAL002W</th>\n",
       "      <td>0.921386</td>\n",
       "      <td>0.839092</td>\n",
       "      <td>0.943714</td>\n",
       "      <td>1.166588</td>\n",
       "      <td>0.869552</td>\n",
       "      <td>0.461767</td>\n",
       "    </tr>\n",
       "    <tr>\n",
       "      <th>1863</th>\n",
       "      <th>YAL004W</th>\n",
       "      <td>1.179340</td>\n",
       "      <td>1.031561</td>\n",
       "      <td>1.022911</td>\n",
       "      <td>0.919253</td>\n",
       "      <td>0.963030</td>\n",
       "      <td>1.142426</td>\n",
       "    </tr>\n",
       "    <tr>\n",
       "      <th>4</th>\n",
       "      <th>YAL005C</th>\n",
       "      <td>0.807115</td>\n",
       "      <td>0.954682</td>\n",
       "      <td>0.946250</td>\n",
       "      <td>1.038537</td>\n",
       "      <td>1.067878</td>\n",
       "      <td>0.784079</td>\n",
       "    </tr>\n",
       "    <tr>\n",
       "      <th>5</th>\n",
       "      <th>YAL007C</th>\n",
       "      <td>0.911574</td>\n",
       "      <td>0.929408</td>\n",
       "      <td>1.088321</td>\n",
       "      <td>0.980989</td>\n",
       "      <td>0.996680</td>\n",
       "      <td>0.921879</td>\n",
       "    </tr>\n",
       "    <tr>\n",
       "      <th>6</th>\n",
       "      <th>YAL008W</th>\n",
       "      <td>0.784962</td>\n",
       "      <td>1.026864</td>\n",
       "      <td>1.070975</td>\n",
       "      <td>0.898266</td>\n",
       "      <td>1.096596</td>\n",
       "      <td>0.980908</td>\n",
       "    </tr>\n",
       "  </tbody>\n",
       "</table>\n",
       "</div>"
      ],
      "text/plain": [
       "dataset_id             20        21        22        23        24        25\n",
       "data_type           value     value     value     value     value     value\n",
       "gene_id orf                                                                \n",
       "2       YAL002W  0.921386  0.839092  0.943714  1.166588  0.869552  0.461767\n",
       "1863    YAL004W  1.179340  1.031561  1.022911  0.919253  0.963030  1.142426\n",
       "4       YAL005C  0.807115  0.954682  0.946250  1.038537  1.067878  0.784079\n",
       "5       YAL007C  0.911574  0.929408  1.088321  0.980989  0.996680  0.921879\n",
       "6       YAL008W  0.784962  1.026864  1.070975  0.898266  1.096596  0.980908"
      ]
     },
     "execution_count": 25,
     "metadata": {},
     "output_type": "execute_result"
    }
   ],
   "source": [
    "data['gene_id'] = gene_ids\n",
    "data = data.loc[data['gene_id'].notnull()]\n",
    "data['gene_id'] = data['gene_id'].astype(int)\n",
    "data = data.reset_index().set_index(['gene_id','orf'])\n",
    "\n",
    "data.head()"
   ]
  },
  {
   "cell_type": "markdown",
   "metadata": {},
   "source": [
    "# Normalize"
   ]
  },
  {
   "cell_type": "code",
   "execution_count": 26,
   "metadata": {},
   "outputs": [],
   "source": [
    "data_norm = normalize_phenotypic_scores(data, has_tested=True)"
   ]
  },
  {
   "cell_type": "code",
   "execution_count": 27,
   "metadata": {},
   "outputs": [],
   "source": [
    "# Assign proper column names\n",
    "lst = [datasets.index.values, ['valuez']*datasets.shape[0]]\n",
    "tuples = list(zip(*lst))\n",
    "idx = pd.MultiIndex.from_tuples(tuples, names=['dataset_id','data_type'])\n",
    "data_norm.columns = idx"
   ]
  },
  {
   "cell_type": "code",
   "execution_count": 28,
   "metadata": {},
   "outputs": [
    {
     "data": {
      "text/html": [
       "<div>\n",
       "<style scoped>\n",
       "    .dataframe tbody tr th:only-of-type {\n",
       "        vertical-align: middle;\n",
       "    }\n",
       "\n",
       "    .dataframe tbody tr th {\n",
       "        vertical-align: top;\n",
       "    }\n",
       "\n",
       "    .dataframe thead tr th {\n",
       "        text-align: left;\n",
       "    }\n",
       "\n",
       "    .dataframe thead tr:last-of-type th {\n",
       "        text-align: right;\n",
       "    }\n",
       "</style>\n",
       "<table border=\"1\" class=\"dataframe\">\n",
       "  <thead>\n",
       "    <tr>\n",
       "      <th></th>\n",
       "      <th>dataset_id</th>\n",
       "      <th>20</th>\n",
       "      <th>21</th>\n",
       "      <th>22</th>\n",
       "      <th>23</th>\n",
       "      <th>24</th>\n",
       "      <th>25</th>\n",
       "      <th>20</th>\n",
       "      <th>21</th>\n",
       "      <th>22</th>\n",
       "      <th>23</th>\n",
       "      <th>24</th>\n",
       "      <th>25</th>\n",
       "    </tr>\n",
       "    <tr>\n",
       "      <th></th>\n",
       "      <th>data_type</th>\n",
       "      <th>value</th>\n",
       "      <th>value</th>\n",
       "      <th>value</th>\n",
       "      <th>value</th>\n",
       "      <th>value</th>\n",
       "      <th>value</th>\n",
       "      <th>valuez</th>\n",
       "      <th>valuez</th>\n",
       "      <th>valuez</th>\n",
       "      <th>valuez</th>\n",
       "      <th>valuez</th>\n",
       "      <th>valuez</th>\n",
       "    </tr>\n",
       "    <tr>\n",
       "      <th>gene_id</th>\n",
       "      <th>orf</th>\n",
       "      <th></th>\n",
       "      <th></th>\n",
       "      <th></th>\n",
       "      <th></th>\n",
       "      <th></th>\n",
       "      <th></th>\n",
       "      <th></th>\n",
       "      <th></th>\n",
       "      <th></th>\n",
       "      <th></th>\n",
       "      <th></th>\n",
       "      <th></th>\n",
       "    </tr>\n",
       "  </thead>\n",
       "  <tbody>\n",
       "    <tr>\n",
       "      <th>2</th>\n",
       "      <th>YAL002W</th>\n",
       "      <td>0.921386</td>\n",
       "      <td>0.839092</td>\n",
       "      <td>0.943714</td>\n",
       "      <td>1.166588</td>\n",
       "      <td>0.869552</td>\n",
       "      <td>0.461767</td>\n",
       "      <td>0.050301</td>\n",
       "      <td>-0.777008</td>\n",
       "      <td>-0.477528</td>\n",
       "      <td>0.993947</td>\n",
       "      <td>-1.088117</td>\n",
       "      <td>-2.058424</td>\n",
       "    </tr>\n",
       "    <tr>\n",
       "      <th>1863</th>\n",
       "      <th>YAL004W</th>\n",
       "      <td>1.179340</td>\n",
       "      <td>1.031561</td>\n",
       "      <td>1.022911</td>\n",
       "      <td>0.919253</td>\n",
       "      <td>0.963030</td>\n",
       "      <td>1.142426</td>\n",
       "      <td>0.455010</td>\n",
       "      <td>0.214307</td>\n",
       "      <td>-0.089968</td>\n",
       "      <td>-0.362082</td>\n",
       "      <td>-0.457769</td>\n",
       "      <td>0.172551</td>\n",
       "    </tr>\n",
       "    <tr>\n",
       "      <th>4</th>\n",
       "      <th>YAL005C</th>\n",
       "      <td>0.807115</td>\n",
       "      <td>0.954682</td>\n",
       "      <td>0.946250</td>\n",
       "      <td>1.038537</td>\n",
       "      <td>1.067878</td>\n",
       "      <td>0.784079</td>\n",
       "      <td>-0.128981</td>\n",
       "      <td>-0.181660</td>\n",
       "      <td>-0.465120</td>\n",
       "      <td>0.291897</td>\n",
       "      <td>0.249261</td>\n",
       "      <td>-1.001992</td>\n",
       "    </tr>\n",
       "    <tr>\n",
       "      <th>5</th>\n",
       "      <th>YAL007C</th>\n",
       "      <td>0.911574</td>\n",
       "      <td>0.929408</td>\n",
       "      <td>1.088321</td>\n",
       "      <td>0.980989</td>\n",
       "      <td>0.996680</td>\n",
       "      <td>0.921879</td>\n",
       "      <td>0.034906</td>\n",
       "      <td>-0.311833</td>\n",
       "      <td>0.230126</td>\n",
       "      <td>-0.023613</td>\n",
       "      <td>-0.230852</td>\n",
       "      <td>-0.550329</td>\n",
       "    </tr>\n",
       "    <tr>\n",
       "      <th>6</th>\n",
       "      <th>YAL008W</th>\n",
       "      <td>0.784962</td>\n",
       "      <td>1.026864</td>\n",
       "      <td>1.070975</td>\n",
       "      <td>0.898266</td>\n",
       "      <td>1.096596</td>\n",
       "      <td>0.980908</td>\n",
       "      <td>-0.163737</td>\n",
       "      <td>0.190115</td>\n",
       "      <td>0.145242</td>\n",
       "      <td>-0.477144</td>\n",
       "      <td>0.442915</td>\n",
       "      <td>-0.356853</td>\n",
       "    </tr>\n",
       "  </tbody>\n",
       "</table>\n",
       "</div>"
      ],
      "text/plain": [
       "dataset_id             20        21        22        23        24        25  \\\n",
       "data_type           value     value     value     value     value     value   \n",
       "gene_id orf                                                                   \n",
       "2       YAL002W  0.921386  0.839092  0.943714  1.166588  0.869552  0.461767   \n",
       "1863    YAL004W  1.179340  1.031561  1.022911  0.919253  0.963030  1.142426   \n",
       "4       YAL005C  0.807115  0.954682  0.946250  1.038537  1.067878  0.784079   \n",
       "5       YAL007C  0.911574  0.929408  1.088321  0.980989  0.996680  0.921879   \n",
       "6       YAL008W  0.784962  1.026864  1.070975  0.898266  1.096596  0.980908   \n",
       "\n",
       "dataset_id             20        21        22        23        24        25  \n",
       "data_type          valuez    valuez    valuez    valuez    valuez    valuez  \n",
       "gene_id orf                                                                  \n",
       "2       YAL002W  0.050301 -0.777008 -0.477528  0.993947 -1.088117 -2.058424  \n",
       "1863    YAL004W  0.455010  0.214307 -0.089968 -0.362082 -0.457769  0.172551  \n",
       "4       YAL005C -0.128981 -0.181660 -0.465120  0.291897  0.249261 -1.001992  \n",
       "5       YAL007C  0.034906 -0.311833  0.230126 -0.023613 -0.230852 -0.550329  \n",
       "6       YAL008W -0.163737  0.190115  0.145242 -0.477144  0.442915 -0.356853  "
      ]
     },
     "execution_count": 28,
     "metadata": {},
     "output_type": "execute_result"
    }
   ],
   "source": [
    "data_norm[data.isnull()] = np.nan\n",
    "data_all = data.join(data_norm)\n",
    "\n",
    "data_all.head()"
   ]
  },
  {
   "cell_type": "markdown",
   "metadata": {},
   "source": [
    "# Print out"
   ]
  },
  {
   "cell_type": "code",
   "execution_count": 29,
   "metadata": {},
   "outputs": [],
   "source": [
    "for f in ['value','valuez']:\n",
    "    df = data_all.xs(f, level='data_type', axis=1).copy()\n",
    "    df.columns = datasets['name'].values\n",
    "    df = df.droplevel('gene_id', axis=0)\n",
    "    df.to_csv(paper_name + '_' + f + '.txt', sep='\\t')"
   ]
  },
  {
   "cell_type": "markdown",
   "metadata": {},
   "source": [
    "# Save to DB"
   ]
  },
  {
   "cell_type": "code",
   "execution_count": 30,
   "metadata": {},
   "outputs": [],
   "source": [
    "from IO.save_data_to_db3 import *"
   ]
  },
  {
   "cell_type": "code",
   "execution_count": 31,
   "metadata": {},
   "outputs": [
    {
     "name": "stderr",
     "output_type": "stream",
     "text": [
      "  0%|          | 0/6 [00:00<?, ?it/s]"
     ]
    },
    {
     "name": "stdout",
     "output_type": "stream",
     "text": [
      "Deleting all datasets for PMID 21212869...\n",
      "Inserting the new data...\n"
     ]
    },
    {
     "name": "stderr",
     "output_type": "stream",
     "text": [
      "100%|██████████| 6/6 [00:40<00:00,  6.70s/it]"
     ]
    },
    {
     "name": "stdout",
     "output_type": "stream",
     "text": [
      "Updating the data_modified_on field...\n"
     ]
    },
    {
     "name": "stderr",
     "output_type": "stream",
     "text": [
      "\n"
     ]
    }
   ],
   "source": [
    "save_data_to_db(data_all, paper_pmid)"
   ]
  },
  {
   "cell_type": "code",
   "execution_count": null,
   "metadata": {},
   "outputs": [],
   "source": []
  }
 ],
 "metadata": {
  "kernelspec": {
   "display_name": "yp-data",
   "language": "python",
   "name": "yp-data"
  },
  "language_info": {
   "codemirror_mode": {
    "name": "ipython",
    "version": 3
   },
   "file_extension": ".py",
   "mimetype": "text/x-python",
   "name": "python",
   "nbconvert_exporter": "python",
   "pygments_lexer": "ipython3",
   "version": "3.7.7"
  }
 },
 "nbformat": 4,
 "nbformat_minor": 4
}
