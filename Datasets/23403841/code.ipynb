{
 "cells": [
  {
   "cell_type": "code",
   "execution_count": 1,
   "metadata": {},
   "outputs": [],
   "source": [
    "import numpy as np\n",
    "import pandas as pd\n",
    "\n",
    "import sys\n",
    "\n",
    "from os.path import expanduser\n",
    "sys.path.append(expanduser('~') + '/Lab/Utils/Python/')\n",
    "\n",
    "from Conversions.translate import *\n",
    "from Strings.is_a import *"
   ]
  },
  {
   "cell_type": "markdown",
   "metadata": {},
   "source": [
    "# Initial setup"
   ]
  },
  {
   "cell_type": "code",
   "execution_count": 2,
   "metadata": {},
   "outputs": [],
   "source": [
    "paper_pmid = 23403841\n",
    "paper_name = 'oconnor_vulpe_2012' "
   ]
  },
  {
   "cell_type": "code",
   "execution_count": 3,
   "metadata": {},
   "outputs": [],
   "source": [
    "datasets = pd.read_csv('extras/YeastPhenome_' + str(paper_pmid) + '_datasets_list.txt', sep='\\t', header=None, names=['pmid', 'name'])"
   ]
  },
  {
   "cell_type": "code",
   "execution_count": 4,
   "metadata": {},
   "outputs": [],
   "source": [
    "datasets.set_index('pmid', inplace=True)"
   ]
  },
  {
   "cell_type": "markdown",
   "metadata": {},
   "source": [
    "# Load & process the data"
   ]
  },
  {
   "cell_type": "code",
   "execution_count": 59,
   "metadata": {},
   "outputs": [
    {
     "name": "stdout",
     "output_type": "stream",
     "text": [
      "Empty DataFrame\n",
      "Columns: [genename, orf, 82.5 mM, 165 mM, 330 mM]\n",
      "Index: []\n",
      "Empty DataFrame\n",
      "Columns: [genename, orf, 82.5 mM, 165 mM, 330 mM]\n",
      "Index: []\n",
      "Empty DataFrame\n",
      "Columns: [genename, orf, 82.5 mM, 165 mM, 330 mM]\n",
      "Index: []\n",
      "Empty DataFrame\n",
      "Columns: [genename, orf, 82.5 mM, 165 mM, 330 mM]\n",
      "Index: []\n"
     ]
    }
   ],
   "source": [
    "original_data = {}\n",
    "time = {}\n",
    "for dt in np.arange(4)+1:\n",
    "    original_data[dt] = pd.read_excel('raw_data/data sheet ' + str(dt) + '.xlsx', sheet_name='Sheet1', skiprows=1)\n",
    "    time[dt] = original_data[dt].loc[0,'Treatment']\n",
    "    original_data[dt].columns = ['genename','orf','82.5 mM','165 mM','330 mM']\n",
    "    original_data[dt] = original_data[dt].drop(index=[0,1,2])\n",
    "    \n",
    "    original_data[dt]['orf'] = original_data[dt]['orf'].astype(str)\n",
    "    original_data[dt]['orf'] = clean_orf(original_data[dt]['orf'])\n",
    "    original_data[dt]['orf'] = translate_sc(original_data[dt]['orf'], to='orf')\n",
    "    \n",
    "    t = looks_like_orf(original_data[dt]['orf'])\n",
    "    print(original_data[dt].loc[~t,])\n",
    "    \n",
    "    original_data[dt].set_index('orf', inplace=True)"
   ]
  },
  {
   "cell_type": "code",
   "execution_count": 82,
   "metadata": {},
   "outputs": [],
   "source": [
    "for dt in np.arange(4)+1:\n",
    "    t = original_data[dt].copy()\n",
    "    t.drop(columns=['genename'], inplace=True)\n",
    "    t.columns = [c+'_'+time[dt] for c in t.columns]\n",
    "    if dt == 1:\n",
    "        data_5g = t.copy()\n",
    "    elif dt == 2:\n",
    "        data_15g = t.copy()\n",
    "    elif dt == 3:\n",
    "        data_5g = pd.concat((data_5g, t), axis=0)\n",
    "    elif dt == 4:\n",
    "        data_15g = pd.concat((data_15g, t), axis=0)"
   ]
  },
  {
   "cell_type": "code",
   "execution_count": 83,
   "metadata": {},
   "outputs": [],
   "source": [
    "data_5g[data_5g.isnull()] = 0\n",
    "data_15g[data_15g.isnull()] = 0"
   ]
  },
  {
   "cell_type": "code",
   "execution_count": 84,
   "metadata": {},
   "outputs": [],
   "source": [
    "data_5g = data_5g.astype(float)\n",
    "data_15g = data_15g.astype(float)"
   ]
  },
  {
   "cell_type": "code",
   "execution_count": 85,
   "metadata": {},
   "outputs": [],
   "source": [
    "data_5g = data_5g.groupby(data_5g.index).mean()\n",
    "data_15g = data_15g.groupby(data_15g.index).mean()"
   ]
  },
  {
   "cell_type": "code",
   "execution_count": 93,
   "metadata": {},
   "outputs": [],
   "source": [
    "data = data_5g.join(data_15g, how='outer')\n",
    "data[data.isnull()] = 0"
   ]
  },
  {
   "cell_type": "markdown",
   "metadata": {},
   "source": [
    "# Prepare the final dataset"
   ]
  },
  {
   "cell_type": "code",
   "execution_count": 97,
   "metadata": {},
   "outputs": [],
   "source": [
    "dataset_ids = [16531,16529,16526,16530,16528,16527]"
   ]
  },
  {
   "cell_type": "code",
   "execution_count": 98,
   "metadata": {},
   "outputs": [],
   "source": [
    "datasets = datasets.reindex(index=dataset_ids)"
   ]
  },
  {
   "cell_type": "code",
   "execution_count": 99,
   "metadata": {},
   "outputs": [],
   "source": [
    "data.columns = datasets['name'].values"
   ]
  },
  {
   "cell_type": "code",
   "execution_count": 100,
   "metadata": {},
   "outputs": [],
   "source": [
    "# Create row index\n",
    "data.index.name='orf'"
   ]
  },
  {
   "cell_type": "code",
   "execution_count": 101,
   "metadata": {},
   "outputs": [
    {
     "name": "stdout",
     "output_type": "stream",
     "text": [
      "Final data dimensions: 911 x 6\n"
     ]
    }
   ],
   "source": [
    "print('Final data dimensions: %d x %d' % (data.shape))"
   ]
  },
  {
   "cell_type": "markdown",
   "metadata": {},
   "source": [
    "# Print out"
   ]
  },
  {
   "cell_type": "code",
   "execution_count": 103,
   "metadata": {},
   "outputs": [],
   "source": [
    "data.to_csv(paper_name + '.txt', sep='\\t')"
   ]
  },
  {
   "cell_type": "markdown",
   "metadata": {},
   "source": [
    "# Save to DB"
   ]
  },
  {
   "cell_type": "code",
   "execution_count": 104,
   "metadata": {},
   "outputs": [],
   "source": [
    "from IO.save_data_to_db2 import *"
   ]
  },
  {
   "cell_type": "code",
   "execution_count": 105,
   "metadata": {},
   "outputs": [],
   "source": [
    "# Create column index\n",
    "lst = [datasets.index.values, datasets['name'].values]\n",
    "tuples = list(zip(*lst))\n",
    "idx = pd.MultiIndex.from_tuples(tuples, names=['dataset_id','dataset_name'])\n",
    "data.columns = idx"
   ]
  },
  {
   "cell_type": "code",
   "execution_count": 106,
   "metadata": {},
   "outputs": [],
   "source": [
    "save_data_to_db(data, paper_pmid)"
   ]
  },
  {
   "cell_type": "code",
   "execution_count": null,
   "metadata": {},
   "outputs": [],
   "source": []
  }
 ],
 "metadata": {
  "kernelspec": {
   "display_name": "yp-data",
   "language": "python",
   "name": "yp-data"
  },
  "language_info": {
   "codemirror_mode": {
    "name": "ipython",
    "version": 3
   },
   "file_extension": ".py",
   "mimetype": "text/x-python",
   "name": "python",
   "nbconvert_exporter": "python",
   "pygments_lexer": "ipython3",
   "version": "3.7.7"
  }
 },
 "nbformat": 4,
 "nbformat_minor": 4
}
