{
 "cells": [
  {
   "cell_type": "code",
   "execution_count": 1,
   "metadata": {},
   "outputs": [],
   "source": [
    "%run ../yp_utils.py"
   ]
  },
  {
   "cell_type": "markdown",
   "metadata": {},
   "source": [
    "# Initial setup"
   ]
  },
  {
   "cell_type": "code",
   "execution_count": 2,
   "metadata": {},
   "outputs": [],
   "source": [
    "paper_pmid = 35495664\n",
    "paper_name = 'cao_liu_2022' "
   ]
  },
  {
   "cell_type": "code",
   "execution_count": 3,
   "metadata": {},
   "outputs": [],
   "source": [
    "datasets = pd.read_csv('extras/YeastPhenome_' + str(paper_pmid) + '_datasets_list.txt', sep='\\t', header=None, names=['dataset_id', 'name'])"
   ]
  },
  {
   "cell_type": "code",
   "execution_count": 4,
   "metadata": {},
   "outputs": [],
   "source": [
    "datasets.set_index('dataset_id', inplace=True)"
   ]
  },
  {
   "cell_type": "markdown",
   "metadata": {},
   "source": [
    "# Load & process the data"
   ]
  },
  {
   "cell_type": "code",
   "execution_count": 5,
   "metadata": {},
   "outputs": [],
   "source": [
    "sheet_names = ['First screening','Second screening','Third screening']"
   ]
  },
  {
   "cell_type": "code",
   "execution_count": 6,
   "metadata": {},
   "outputs": [
    {
     "name": "stdout",
     "output_type": "stream",
     "text": [
      "Original data dimensions: 4129 x 12\n",
      "  Query ORF Query Name Array ORF Array Name  Array annotation  \\\n",
      "0    NAHCO3     NAHCO3   YOR202W       HIS3               NaN   \n",
      "1    NAHCO3     NAHCO3   YBL032W       HEK2               NaN   \n",
      "2    NAHCO3     NAHCO3   YBL031W       SHE1               NaN   \n",
      "3    NAHCO3     NAHCO3   YBL029W    YBL029W               NaN   \n",
      "4    NAHCO3     NAHCO3   YBL028C    YBL028C               NaN   \n",
      "\n",
      "   Normalized colony size (EXPERIMENT)  \\\n",
      "0                              0.98791   \n",
      "1                              1.20614   \n",
      "2                              0.95499   \n",
      "3                              1.26784   \n",
      "4                              1.47208   \n",
      "\n",
      "   Normalized colony std. dev. (EXPERIMENT)  Normalized colony size (CONTROL)  \\\n",
      "0                                     0.178                           1.04016   \n",
      "1                                     0.078                           1.00875   \n",
      "2                                     0.036                           0.89638   \n",
      "3                                     0.142                           0.98194   \n",
      "4                                     0.179                           1.08202   \n",
      "\n",
      "   Normalized colony std. dev. (CONTROL)    Score  Score stdev  p-Value  \n",
      "0                                  0.158 -0.00483        0.178  0.00000  \n",
      "1                                  0.021  0.19761        0.078  0.00007  \n",
      "2                                  0.008  0.06260        0.036  0.00002  \n",
      "3                                  0.017  0.28446        0.142  0.00038  \n",
      "4                                  0.060  0.39101        0.179  0.00049  \n",
      "Empty DataFrame\n",
      "Columns: [Query ORF, Query Name, Array ORF, Array Name, Array annotation, Normalized colony size (EXPERIMENT), Normalized colony std. dev. (EXPERIMENT), Normalized colony size (CONTROL), Normalized colony std. dev. (CONTROL), Score, Score stdev, p-Value, orf]\n",
      "Index: []\n",
      "Original data dimensions: 4129 x 12\n",
      "  Query ORF Query Name Array ORF Array Name  Array annotation  \\\n",
      "0    NAHCO3     NAHCO3   YOR202W       HIS3               NaN   \n",
      "1    NAHCO3     NAHCO3   YBL032W       HEK2               NaN   \n",
      "2    NAHCO3     NAHCO3   YBL031W       SHE1               NaN   \n",
      "3    NAHCO3     NAHCO3   YBL029W    YBL029W               NaN   \n",
      "4    NAHCO3     NAHCO3   YBL028C    YBL028C               NaN   \n",
      "\n",
      "   Normalized colony size (EXPERIMENT)  \\\n",
      "0                              0.98225   \n",
      "1                              1.17936   \n",
      "2                              1.00081   \n",
      "3                              1.35002   \n",
      "4                              1.36285   \n",
      "\n",
      "   Normalized colony std. dev. (EXPERIMENT)  Normalized colony size (CONTROL)  \\\n",
      "0                                     0.193                           1.01584   \n",
      "1                                     0.035                           0.95698   \n",
      "2                                     0.009                           0.91395   \n",
      "3                                     0.138                           1.10451   \n",
      "4                                     0.100                           1.18569   \n",
      "\n",
      "   Normalized colony std. dev. (CONTROL)    Score  Score stdev  p-Value  \n",
      "0                                  0.142 -0.01311        0.193  0.00000  \n",
      "1                                  0.009  0.22739        0.035  0.00001  \n",
      "2                                  0.004  0.08954        0.009  0.00003  \n",
      "3                                  0.052  0.23800        0.138  0.00029  \n",
      "4                                  0.078  0.16667        0.100  0.00011  \n",
      "Empty DataFrame\n",
      "Columns: [Query ORF, Query Name, Array ORF, Array Name, Array annotation, Normalized colony size (EXPERIMENT), Normalized colony std. dev. (EXPERIMENT), Normalized colony size (CONTROL), Normalized colony std. dev. (CONTROL), Score, Score stdev, p-Value, orf]\n",
      "Index: []\n",
      "Original data dimensions: 4129 x 12\n",
      "  Query ORF Query Name Array ORF Array Name  Array annotation  \\\n",
      "0    NAHCO3     NAHCO3   YOR202W       HIS3               NaN   \n",
      "1    NAHCO3     NAHCO3   YBL032W       HEK2               NaN   \n",
      "2    NAHCO3     NAHCO3   YBL031W       SHE1               NaN   \n",
      "3    NAHCO3     NAHCO3   YBL029W    YBL029W               NaN   \n",
      "4    NAHCO3     NAHCO3   YBL028C    YBL028C               NaN   \n",
      "\n",
      "   Normalized colony size (EXPERIMENT)  \\\n",
      "0                              0.98791   \n",
      "1                              1.20614   \n",
      "2                              0.95499   \n",
      "3                              1.26784   \n",
      "4                              1.47208   \n",
      "\n",
      "   Normalized colony std. dev. (EXPERIMENT)  Normalized colony size (CONTROL)  \\\n",
      "0                                     0.178                           1.02436   \n",
      "1                                     0.078                           1.02847   \n",
      "2                                     0.036                           0.94531   \n",
      "3                                     0.142                           1.08164   \n",
      "4                                     0.179                           1.24684   \n",
      "\n",
      "   Normalized colony std. dev. (CONTROL)    Score  Score stdev  p-Value  \n",
      "0                                  0.167 -0.01693        0.178  0.00000  \n",
      "1                                  0.053  0.18984        0.078  0.00007  \n",
      "2                                  0.002  0.01098        0.036  0.00002  \n",
      "3                                  0.097  0.20434        0.142  0.00038  \n",
      "4                                  0.128  0.22456        0.179  0.00049  \n",
      "Empty DataFrame\n",
      "Columns: [Query ORF, Query Name, Array ORF, Array Name, Array annotation, Normalized colony size (EXPERIMENT), Normalized colony std. dev. (EXPERIMENT), Normalized colony size (CONTROL), Normalized colony std. dev. (CONTROL), Score, Score stdev, p-Value, orf]\n",
      "Index: []\n"
     ]
    }
   ],
   "source": [
    "original_data_all = []\n",
    "for sheet_name in sheet_names:\n",
    "    original_data = pd.read_excel('raw_data/Table_1_Genome-Wide Identification of Cellular Pathways and Key Genes That Respond to Sodium Bicarbonate Stress in Saccharomyces cerevisiae.XLSX', \n",
    "                                  sheet_name=sheet_name)\n",
    "    print('Original data dimensions: %d x %d' % (original_data.shape))\n",
    "    print(original_data.head())\n",
    "    original_data['orf'] = original_data['Array ORF'].astype(str)\n",
    "    original_data['orf'] = clean_orf(original_data['orf'])\n",
    "    original_data['orf'] = translate_sc(original_data['orf'], to='orf')\n",
    "    \n",
    "    t = looks_like_orf(original_data['orf'])\n",
    "    print(original_data.loc[~t,])\n",
    "    \n",
    "    original_data['data'] = original_data['Score'].astype(float)\n",
    "    original_data.set_index('orf', inplace=True)\n",
    "    original_data = original_data[['data']].copy()\n",
    "    original_data = original_data.groupby(original_data.index).mean()\n",
    "    \n",
    "    original_data_all.append(original_data)"
   ]
  },
  {
   "cell_type": "code",
   "execution_count": 7,
   "metadata": {},
   "outputs": [],
   "source": [
    "original_data = pd.concat(original_data_all, axis=1)"
   ]
  },
  {
   "cell_type": "code",
   "execution_count": 8,
   "metadata": {},
   "outputs": [
    {
     "data": {
      "text/plain": [
       "(4081, 3)"
      ]
     },
     "execution_count": 8,
     "metadata": {},
     "output_type": "execute_result"
    }
   ],
   "source": [
    "original_data.shape"
   ]
  },
  {
   "cell_type": "code",
   "execution_count": 10,
   "metadata": {},
   "outputs": [],
   "source": [
    "original_data['data_mean'] = original_data.mean(axis=1)"
   ]
  },
  {
   "cell_type": "code",
   "execution_count": 12,
   "metadata": {},
   "outputs": [],
   "source": [
    "original_data = original_data[['data_mean']].copy()\n",
    "original_data.columns = ['data']"
   ]
  },
  {
   "cell_type": "markdown",
   "metadata": {},
   "source": [
    "# Prepare the final dataset"
   ]
  },
  {
   "cell_type": "code",
   "execution_count": 13,
   "metadata": {},
   "outputs": [],
   "source": [
    "data = original_data.copy()"
   ]
  },
  {
   "cell_type": "code",
   "execution_count": 14,
   "metadata": {},
   "outputs": [],
   "source": [
    "dataset_ids = [22228]\n",
    "datasets = datasets.reindex(index=dataset_ids)"
   ]
  },
  {
   "cell_type": "code",
   "execution_count": 15,
   "metadata": {},
   "outputs": [],
   "source": [
    "lst = [datasets.index.values, ['value']*datasets.shape[0]]\n",
    "tuples = list(zip(*lst))\n",
    "idx = pd.MultiIndex.from_tuples(tuples, names=['dataset_id','data_type'])\n",
    "data.columns = idx"
   ]
  },
  {
   "cell_type": "code",
   "execution_count": 16,
   "metadata": {},
   "outputs": [
    {
     "data": {
      "text/html": [
       "<div>\n",
       "<style scoped>\n",
       "    .dataframe tbody tr th:only-of-type {\n",
       "        vertical-align: middle;\n",
       "    }\n",
       "\n",
       "    .dataframe tbody tr th {\n",
       "        vertical-align: top;\n",
       "    }\n",
       "\n",
       "    .dataframe thead tr th {\n",
       "        text-align: left;\n",
       "    }\n",
       "\n",
       "    .dataframe thead tr:last-of-type th {\n",
       "        text-align: right;\n",
       "    }\n",
       "</style>\n",
       "<table border=\"1\" class=\"dataframe\">\n",
       "  <thead>\n",
       "    <tr>\n",
       "      <th>dataset_id</th>\n",
       "      <th>22228</th>\n",
       "    </tr>\n",
       "    <tr>\n",
       "      <th>data_type</th>\n",
       "      <th>value</th>\n",
       "    </tr>\n",
       "    <tr>\n",
       "      <th>orf</th>\n",
       "      <th></th>\n",
       "    </tr>\n",
       "  </thead>\n",
       "  <tbody>\n",
       "    <tr>\n",
       "      <th>YAL002W</th>\n",
       "      <td>-0.230927</td>\n",
       "    </tr>\n",
       "    <tr>\n",
       "      <th>YAL004W</th>\n",
       "      <td>-0.216047</td>\n",
       "    </tr>\n",
       "    <tr>\n",
       "      <th>YAL005C</th>\n",
       "      <td>-0.286283</td>\n",
       "    </tr>\n",
       "    <tr>\n",
       "      <th>YAL007C</th>\n",
       "      <td>-0.174313</td>\n",
       "    </tr>\n",
       "    <tr>\n",
       "      <th>YAL008W</th>\n",
       "      <td>0.184797</td>\n",
       "    </tr>\n",
       "  </tbody>\n",
       "</table>\n",
       "</div>"
      ],
      "text/plain": [
       "dataset_id     22228\n",
       "data_type      value\n",
       "orf                 \n",
       "YAL002W    -0.230927\n",
       "YAL004W    -0.216047\n",
       "YAL005C    -0.286283\n",
       "YAL007C    -0.174313\n",
       "YAL008W     0.184797"
      ]
     },
     "execution_count": 16,
     "metadata": {},
     "output_type": "execute_result"
    }
   ],
   "source": [
    "data.head()"
   ]
  },
  {
   "cell_type": "markdown",
   "metadata": {},
   "source": [
    "## Subset to the genes currently in SGD"
   ]
  },
  {
   "cell_type": "code",
   "execution_count": 17,
   "metadata": {},
   "outputs": [
    {
     "name": "stdout",
     "output_type": "stream",
     "text": [
      "ORFs missing from SGD: 20\n"
     ]
    }
   ],
   "source": [
    "genes = pd.read_csv(path_to_genes, sep='\\t', index_col='id')\n",
    "genes = genes.reset_index().set_index('systematic_name')\n",
    "gene_ids = genes.reindex(index=data.index.values)['id'].values\n",
    "num_missing = np.sum(np.isnan(gene_ids))\n",
    "print('ORFs missing from SGD: %d' % num_missing)"
   ]
  },
  {
   "cell_type": "code",
   "execution_count": 18,
   "metadata": {},
   "outputs": [
    {
     "data": {
      "text/html": [
       "<div>\n",
       "<style scoped>\n",
       "    .dataframe tbody tr th:only-of-type {\n",
       "        vertical-align: middle;\n",
       "    }\n",
       "\n",
       "    .dataframe tbody tr th {\n",
       "        vertical-align: top;\n",
       "    }\n",
       "\n",
       "    .dataframe thead tr th {\n",
       "        text-align: left;\n",
       "    }\n",
       "\n",
       "    .dataframe thead tr:last-of-type th {\n",
       "        text-align: right;\n",
       "    }\n",
       "</style>\n",
       "<table border=\"1\" class=\"dataframe\">\n",
       "  <thead>\n",
       "    <tr>\n",
       "      <th></th>\n",
       "      <th>dataset_id</th>\n",
       "      <th>22228</th>\n",
       "    </tr>\n",
       "    <tr>\n",
       "      <th></th>\n",
       "      <th>data_type</th>\n",
       "      <th>value</th>\n",
       "    </tr>\n",
       "    <tr>\n",
       "      <th>gene_id</th>\n",
       "      <th>orf</th>\n",
       "      <th></th>\n",
       "    </tr>\n",
       "  </thead>\n",
       "  <tbody>\n",
       "    <tr>\n",
       "      <th>2</th>\n",
       "      <th>YAL002W</th>\n",
       "      <td>-0.230927</td>\n",
       "    </tr>\n",
       "    <tr>\n",
       "      <th>1863</th>\n",
       "      <th>YAL004W</th>\n",
       "      <td>-0.216047</td>\n",
       "    </tr>\n",
       "    <tr>\n",
       "      <th>4</th>\n",
       "      <th>YAL005C</th>\n",
       "      <td>-0.286283</td>\n",
       "    </tr>\n",
       "    <tr>\n",
       "      <th>5</th>\n",
       "      <th>YAL007C</th>\n",
       "      <td>-0.174313</td>\n",
       "    </tr>\n",
       "    <tr>\n",
       "      <th>6</th>\n",
       "      <th>YAL008W</th>\n",
       "      <td>0.184797</td>\n",
       "    </tr>\n",
       "  </tbody>\n",
       "</table>\n",
       "</div>"
      ],
      "text/plain": [
       "dataset_id          22228\n",
       "data_type           value\n",
       "gene_id orf              \n",
       "2       YAL002W -0.230927\n",
       "1863    YAL004W -0.216047\n",
       "4       YAL005C -0.286283\n",
       "5       YAL007C -0.174313\n",
       "6       YAL008W  0.184797"
      ]
     },
     "execution_count": 18,
     "metadata": {},
     "output_type": "execute_result"
    }
   ],
   "source": [
    "data['gene_id'] = gene_ids\n",
    "data = data.loc[data['gene_id'].notnull()]\n",
    "data['gene_id'] = data['gene_id'].astype(int)\n",
    "data = data.reset_index().set_index(['gene_id','orf'])\n",
    "\n",
    "data.head()"
   ]
  },
  {
   "cell_type": "markdown",
   "metadata": {},
   "source": [
    "# Normalize"
   ]
  },
  {
   "cell_type": "code",
   "execution_count": 19,
   "metadata": {},
   "outputs": [],
   "source": [
    "data_norm = normalize_phenotypic_scores(data, has_tested=True)"
   ]
  },
  {
   "cell_type": "code",
   "execution_count": 20,
   "metadata": {},
   "outputs": [],
   "source": [
    "# Assign proper column names\n",
    "lst = [datasets.index.values, ['valuez']*datasets.shape[0]]\n",
    "tuples = list(zip(*lst))\n",
    "idx = pd.MultiIndex.from_tuples(tuples, names=['dataset_id','data_type'])\n",
    "data_norm.columns = idx"
   ]
  },
  {
   "cell_type": "code",
   "execution_count": 21,
   "metadata": {},
   "outputs": [
    {
     "data": {
      "text/html": [
       "<div>\n",
       "<style scoped>\n",
       "    .dataframe tbody tr th:only-of-type {\n",
       "        vertical-align: middle;\n",
       "    }\n",
       "\n",
       "    .dataframe tbody tr th {\n",
       "        vertical-align: top;\n",
       "    }\n",
       "\n",
       "    .dataframe thead tr th {\n",
       "        text-align: left;\n",
       "    }\n",
       "\n",
       "    .dataframe thead tr:last-of-type th {\n",
       "        text-align: right;\n",
       "    }\n",
       "</style>\n",
       "<table border=\"1\" class=\"dataframe\">\n",
       "  <thead>\n",
       "    <tr>\n",
       "      <th></th>\n",
       "      <th>dataset_id</th>\n",
       "      <th colspan=\"2\" halign=\"left\">22228</th>\n",
       "    </tr>\n",
       "    <tr>\n",
       "      <th></th>\n",
       "      <th>data_type</th>\n",
       "      <th>value</th>\n",
       "      <th>valuez</th>\n",
       "    </tr>\n",
       "    <tr>\n",
       "      <th>gene_id</th>\n",
       "      <th>orf</th>\n",
       "      <th></th>\n",
       "      <th></th>\n",
       "    </tr>\n",
       "  </thead>\n",
       "  <tbody>\n",
       "    <tr>\n",
       "      <th>2</th>\n",
       "      <th>YAL002W</th>\n",
       "      <td>-0.230927</td>\n",
       "      <td>-1.693574</td>\n",
       "    </tr>\n",
       "    <tr>\n",
       "      <th>1863</th>\n",
       "      <th>YAL004W</th>\n",
       "      <td>-0.216047</td>\n",
       "      <td>-1.610021</td>\n",
       "    </tr>\n",
       "    <tr>\n",
       "      <th>4</th>\n",
       "      <th>YAL005C</th>\n",
       "      <td>-0.286283</td>\n",
       "      <td>-2.004406</td>\n",
       "    </tr>\n",
       "    <tr>\n",
       "      <th>5</th>\n",
       "      <th>YAL007C</th>\n",
       "      <td>-0.174313</td>\n",
       "      <td>-1.375685</td>\n",
       "    </tr>\n",
       "    <tr>\n",
       "      <th>6</th>\n",
       "      <th>YAL008W</th>\n",
       "      <td>0.184797</td>\n",
       "      <td>0.640750</td>\n",
       "    </tr>\n",
       "  </tbody>\n",
       "</table>\n",
       "</div>"
      ],
      "text/plain": [
       "dataset_id          22228          \n",
       "data_type           value    valuez\n",
       "gene_id orf                        \n",
       "2       YAL002W -0.230927 -1.693574\n",
       "1863    YAL004W -0.216047 -1.610021\n",
       "4       YAL005C -0.286283 -2.004406\n",
       "5       YAL007C -0.174313 -1.375685\n",
       "6       YAL008W  0.184797  0.640750"
      ]
     },
     "execution_count": 21,
     "metadata": {},
     "output_type": "execute_result"
    }
   ],
   "source": [
    "data_norm[data.isnull()] = np.nan\n",
    "data_all = data.join(data_norm)\n",
    "\n",
    "data_all.head()"
   ]
  },
  {
   "cell_type": "markdown",
   "metadata": {},
   "source": [
    "# Print out"
   ]
  },
  {
   "cell_type": "code",
   "execution_count": 22,
   "metadata": {},
   "outputs": [],
   "source": [
    "for f in ['value','valuez']:\n",
    "    df = data_all.xs(f, level='data_type', axis=1).copy()\n",
    "    df.columns = datasets['name'].values\n",
    "    df = df.droplevel('gene_id', axis=0)\n",
    "    df.to_csv(paper_name + '_' + f + '.txt', sep='\\t')"
   ]
  },
  {
   "cell_type": "markdown",
   "metadata": {},
   "source": [
    "# Save to DB"
   ]
  },
  {
   "cell_type": "code",
   "execution_count": 23,
   "metadata": {},
   "outputs": [],
   "source": [
    "from IO.save_data_to_db3 import *"
   ]
  },
  {
   "cell_type": "code",
   "execution_count": 24,
   "metadata": {},
   "outputs": [
    {
     "name": "stderr",
     "output_type": "stream",
     "text": [
      "  0%|          | 0/1 [00:00<?, ?it/s]"
     ]
    },
    {
     "name": "stdout",
     "output_type": "stream",
     "text": [
      "Deleting all datasets for PMID 35495664...\n",
      "Inserting the new data...\n"
     ]
    },
    {
     "name": "stderr",
     "output_type": "stream",
     "text": [
      "100%|██████████| 1/1 [00:08<00:00,  8.07s/it]"
     ]
    },
    {
     "name": "stdout",
     "output_type": "stream",
     "text": [
      "Updating the data_modified_on field...\n"
     ]
    },
    {
     "name": "stderr",
     "output_type": "stream",
     "text": [
      "\n"
     ]
    }
   ],
   "source": [
    "save_data_to_db(data_all, paper_pmid)"
   ]
  },
  {
   "cell_type": "code",
   "execution_count": null,
   "metadata": {},
   "outputs": [],
   "source": []
  }
 ],
 "metadata": {
  "kernelspec": {
   "display_name": "yp-data",
   "language": "python",
   "name": "yp-data"
  },
  "language_info": {
   "codemirror_mode": {
    "name": "ipython",
    "version": 3
   },
   "file_extension": ".py",
   "mimetype": "text/x-python",
   "name": "python",
   "nbconvert_exporter": "python",
   "pygments_lexer": "ipython3",
   "version": "3.7.7"
  }
 },
 "nbformat": 4,
 "nbformat_minor": 4
}
