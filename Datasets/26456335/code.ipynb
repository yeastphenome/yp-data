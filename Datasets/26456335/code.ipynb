{
 "cells": [
  {
   "cell_type": "code",
   "execution_count": 1,
   "metadata": {},
   "outputs": [],
   "source": [
    "%run ../../Utils/yp_utils.py\n",
    "\n",
    "import itertools"
   ]
  },
  {
   "cell_type": "markdown",
   "metadata": {},
   "source": [
    "# Initial setup"
   ]
  },
  {
   "cell_type": "code",
   "execution_count": 2,
   "metadata": {},
   "outputs": [],
   "source": [
    "paper_pmid = 26456335\n",
    "paper_name = 'mccormick_kennedy_2015' "
   ]
  },
  {
   "cell_type": "code",
   "execution_count": 3,
   "metadata": {},
   "outputs": [],
   "source": [
    "datasets = pd.read_csv('extras/YeastPhenome_' + str(paper_pmid) + '_datasets_list.txt', sep='\\t', header=None, names=['dataset_id', 'name'])"
   ]
  },
  {
   "cell_type": "code",
   "execution_count": 4,
   "metadata": {},
   "outputs": [],
   "source": [
    "datasets.set_index('dataset_id', inplace=True)"
   ]
  },
  {
   "cell_type": "markdown",
   "metadata": {},
   "source": [
    "# Load & process the data"
   ]
  },
  {
   "cell_type": "code",
   "execution_count": 5,
   "metadata": {},
   "outputs": [],
   "source": [
    "original_data = pd.read_excel('raw_data/rls-summary-for-Anastasia-Baryshnikova-all-BY-haploid-deletion-YPD-30C-mm042018.xlsx', \n",
    "                            sheet_name='rls')"
   ]
  },
  {
   "cell_type": "code",
   "execution_count": 6,
   "metadata": {},
   "outputs": [
    {
     "name": "stdout",
     "output_type": "stream",
     "text": [
      "Original data dimensions: 15094 x 32\n"
     ]
    }
   ],
   "source": [
    "print('Original data dimensions: %d x %d' % (original_data.shape))"
   ]
  },
  {
   "cell_type": "code",
   "execution_count": 7,
   "metadata": {},
   "outputs": [],
   "source": [
    "# Fix a typo\n",
    "original_data.loc[original_data['set_background']=='BY4,742','set_background'] = 'BY4742'\n",
    "original_data['set_mating_type'] = original_data['set_mating_type'].str.lower()"
   ]
  },
  {
   "cell_type": "code",
   "execution_count": 8,
   "metadata": {},
   "outputs": [],
   "source": [
    "# Only keep BY4742 (systematic screen)\n",
    "original_data = original_data.loc[original_data['set_background'] == 'BY4742',:]"
   ]
  },
  {
   "cell_type": "code",
   "execution_count": 9,
   "metadata": {},
   "outputs": [],
   "source": [
    "# Only keep single mutants\n",
    "original_data['set_genotype'] = original_data['set_genotype'].str.strip()\n",
    "original_data = original_data.loc[~original_data['set_genotype'].str.contains(' '),:]"
   ]
  },
  {
   "cell_type": "code",
   "execution_count": 10,
   "metadata": {},
   "outputs": [
    {
     "data": {
      "text/html": [
       "<div>\n",
       "<style scoped>\n",
       "    .dataframe tbody tr th:only-of-type {\n",
       "        vertical-align: middle;\n",
       "    }\n",
       "\n",
       "    .dataframe tbody tr th {\n",
       "        vertical-align: top;\n",
       "    }\n",
       "\n",
       "    .dataframe thead th {\n",
       "        text-align: right;\n",
       "    }\n",
       "</style>\n",
       "<table border=\"1\" class=\"dataframe\">\n",
       "  <thead>\n",
       "    <tr style=\"text-align: right;\">\n",
       "      <th></th>\n",
       "      <th>id</th>\n",
       "      <th>experiments</th>\n",
       "      <th>set_name</th>\n",
       "      <th>set_strain</th>\n",
       "      <th>set_background</th>\n",
       "      <th>set_mating_type</th>\n",
       "      <th>set_locus_tag</th>\n",
       "      <th>set_genotype</th>\n",
       "      <th>set_media</th>\n",
       "      <th>set_temperature</th>\n",
       "      <th>...</th>\n",
       "      <th>ref_temperature</th>\n",
       "      <th>ref_lifespan_start_count</th>\n",
       "      <th>ref_lifespan_count</th>\n",
       "      <th>ref_lifespan_mean</th>\n",
       "      <th>ref_lifespan_stdev</th>\n",
       "      <th>ref_lifespans</th>\n",
       "      <th>percent_change</th>\n",
       "      <th>ranksum_u</th>\n",
       "      <th>ranksum_p</th>\n",
       "      <th>pooled_by</th>\n",
       "    </tr>\n",
       "  </thead>\n",
       "  <tbody>\n",
       "    <tr>\n",
       "      <th>1</th>\n",
       "      <td>13219</td>\n",
       "      <td>973</td>\n",
       "      <td>vma21</td>\n",
       "      <td>BW921</td>\n",
       "      <td>BY4742</td>\n",
       "      <td>matalpha</td>\n",
       "      <td>NaN</td>\n",
       "      <td>vma21</td>\n",
       "      <td>YPD</td>\n",
       "      <td>30</td>\n",
       "      <td>...</td>\n",
       "      <td>30</td>\n",
       "      <td>40</td>\n",
       "      <td>20</td>\n",
       "      <td>11.95000</td>\n",
       "      <td>10.308270</td>\n",
       "      <td>1,14,1,20,2,25,2,23,14,4,1,21,37,7,7,7,1,12,20,20</td>\n",
       "      <td>-56.29940</td>\n",
       "      <td>60.5</td>\n",
       "      <td>0.168289</td>\n",
       "      <td>file</td>\n",
       "    </tr>\n",
       "    <tr>\n",
       "      <th>2</th>\n",
       "      <td>13220</td>\n",
       "      <td>973</td>\n",
       "      <td>vma2</td>\n",
       "      <td>JS352</td>\n",
       "      <td>BY4742</td>\n",
       "      <td>matalpha</td>\n",
       "      <td>NaN</td>\n",
       "      <td>vma2</td>\n",
       "      <td>YPD</td>\n",
       "      <td>30</td>\n",
       "      <td>...</td>\n",
       "      <td>30</td>\n",
       "      <td>40</td>\n",
       "      <td>20</td>\n",
       "      <td>11.95000</td>\n",
       "      <td>10.308270</td>\n",
       "      <td>1,14,1,20,2,25,2,23,14,4,1,21,37,7,7,7,1,12,20,20</td>\n",
       "      <td>-71.03315</td>\n",
       "      <td>70.5</td>\n",
       "      <td>0.026303</td>\n",
       "      <td>file</td>\n",
       "    </tr>\n",
       "    <tr>\n",
       "      <th>6</th>\n",
       "      <td>23734</td>\n",
       "      <td>66</td>\n",
       "      <td>fob1::URA</td>\n",
       "      <td>JO204</td>\n",
       "      <td>BY4742</td>\n",
       "      <td>matalpha</td>\n",
       "      <td>NaN</td>\n",
       "      <td>fob1</td>\n",
       "      <td>YPD</td>\n",
       "      <td>30</td>\n",
       "      <td>...</td>\n",
       "      <td>30</td>\n",
       "      <td>42</td>\n",
       "      <td>42</td>\n",
       "      <td>28.38095</td>\n",
       "      <td>10.145170</td>\n",
       "      <td>1,18,23,24,31,29,38,36,38,28,41,38,12,25,31,28...</td>\n",
       "      <td>22.39933</td>\n",
       "      <td>1168.5</td>\n",
       "      <td>0.009875</td>\n",
       "      <td>file</td>\n",
       "    </tr>\n",
       "    <tr>\n",
       "      <th>16</th>\n",
       "      <td>3200</td>\n",
       "      <td>498</td>\n",
       "      <td>hap4::KanMX</td>\n",
       "      <td>GS163</td>\n",
       "      <td>BY4742</td>\n",
       "      <td>matalpha</td>\n",
       "      <td>NaN</td>\n",
       "      <td>hap4</td>\n",
       "      <td>YPD</td>\n",
       "      <td>30</td>\n",
       "      <td>...</td>\n",
       "      <td>30</td>\n",
       "      <td>20</td>\n",
       "      <td>17</td>\n",
       "      <td>16.94118</td>\n",
       "      <td>8.721171</td>\n",
       "      <td>1,24,23,21,19,10,23,27,2,23,18,19,26,26,10,12,4</td>\n",
       "      <td>-22.33187</td>\n",
       "      <td>125.5</td>\n",
       "      <td>0.259509</td>\n",
       "      <td>file</td>\n",
       "    </tr>\n",
       "    <tr>\n",
       "      <th>20</th>\n",
       "      <td>3213</td>\n",
       "      <td>498</td>\n",
       "      <td>rip1::KanMX</td>\n",
       "      <td>GS1391</td>\n",
       "      <td>BY4742</td>\n",
       "      <td>matalpha</td>\n",
       "      <td>NaN</td>\n",
       "      <td>rip1</td>\n",
       "      <td>YPD</td>\n",
       "      <td>30</td>\n",
       "      <td>...</td>\n",
       "      <td>30</td>\n",
       "      <td>20</td>\n",
       "      <td>17</td>\n",
       "      <td>16.94118</td>\n",
       "      <td>8.721171</td>\n",
       "      <td>1,24,23,21,19,10,23,27,2,23,18,19,26,26,10,12,4</td>\n",
       "      <td>-39.79167</td>\n",
       "      <td>72.0</td>\n",
       "      <td>0.035095</td>\n",
       "      <td>file</td>\n",
       "    </tr>\n",
       "  </tbody>\n",
       "</table>\n",
       "<p>5 rows × 32 columns</p>\n",
       "</div>"
      ],
      "text/plain": [
       "       id experiments     set_name set_strain set_background set_mating_type  \\\n",
       "1   13219         973        vma21      BW921         BY4742        matalpha   \n",
       "2   13220         973         vma2      JS352         BY4742        matalpha   \n",
       "6   23734          66    fob1::URA      JO204         BY4742        matalpha   \n",
       "16   3200         498  hap4::KanMX      GS163         BY4742        matalpha   \n",
       "20   3213         498  rip1::KanMX     GS1391         BY4742        matalpha   \n",
       "\n",
       "    set_locus_tag set_genotype set_media  set_temperature  ...  \\\n",
       "1             NaN        vma21       YPD               30  ...   \n",
       "2             NaN         vma2       YPD               30  ...   \n",
       "6             NaN         fob1       YPD               30  ...   \n",
       "16            NaN         hap4       YPD               30  ...   \n",
       "20            NaN         rip1       YPD               30  ...   \n",
       "\n",
       "    ref_temperature  ref_lifespan_start_count  ref_lifespan_count  \\\n",
       "1                30                        40                  20   \n",
       "2                30                        40                  20   \n",
       "6                30                        42                  42   \n",
       "16               30                        20                  17   \n",
       "20               30                        20                  17   \n",
       "\n",
       "    ref_lifespan_mean ref_lifespan_stdev  \\\n",
       "1            11.95000          10.308270   \n",
       "2            11.95000          10.308270   \n",
       "6            28.38095          10.145170   \n",
       "16           16.94118           8.721171   \n",
       "20           16.94118           8.721171   \n",
       "\n",
       "                                        ref_lifespans percent_change  \\\n",
       "1   1,14,1,20,2,25,2,23,14,4,1,21,37,7,7,7,1,12,20,20      -56.29940   \n",
       "2   1,14,1,20,2,25,2,23,14,4,1,21,37,7,7,7,1,12,20,20      -71.03315   \n",
       "6   1,18,23,24,31,29,38,36,38,28,41,38,12,25,31,28...       22.39933   \n",
       "16    1,24,23,21,19,10,23,27,2,23,18,19,26,26,10,12,4      -22.33187   \n",
       "20    1,24,23,21,19,10,23,27,2,23,18,19,26,26,10,12,4      -39.79167   \n",
       "\n",
       "   ranksum_u ranksum_p  pooled_by  \n",
       "1       60.5  0.168289       file  \n",
       "2       70.5  0.026303       file  \n",
       "6     1168.5  0.009875       file  \n",
       "16     125.5  0.259509       file  \n",
       "20      72.0  0.035095       file  \n",
       "\n",
       "[5 rows x 32 columns]"
      ]
     },
     "execution_count": 10,
     "metadata": {},
     "output_type": "execute_result"
    }
   ],
   "source": [
    "original_data.head()"
   ]
  },
  {
   "cell_type": "code",
   "execution_count": 11,
   "metadata": {},
   "outputs": [],
   "source": [
    "original_data['genes'] = original_data['set_genotype'].astype(str)"
   ]
  },
  {
   "cell_type": "code",
   "execution_count": 12,
   "metadata": {},
   "outputs": [],
   "source": [
    "# Eliminate all white spaces & capitalize\n",
    "original_data['genes'] = clean_genename(original_data['genes'])"
   ]
  },
  {
   "cell_type": "code",
   "execution_count": 13,
   "metadata": {},
   "outputs": [],
   "source": [
    "# Translate to ORFs \n",
    "original_data['orf'] = translate_sc(original_data['genes'], to='orf')"
   ]
  },
  {
   "cell_type": "code",
   "execution_count": 14,
   "metadata": {},
   "outputs": [
    {
     "name": "stdout",
     "output_type": "stream",
     "text": [
      "                        set_name    genes     orf\n",
      "index_input                                      \n",
      "399                      YPL220W    RPL1A   RPL1A\n",
      "1183                     YBR072W    HSP26   HSP26\n",
      "1223                     YMR251W     GTO3    GTO3\n",
      "1703                     YPR045C     MNI2    MNI2\n",
      "3023                      rpl20b   RPL20B  RPL20B\n",
      "...                          ...      ...     ...\n",
      "14539                    YCL075W  YCL075W     NaN\n",
      "14553                    YCL074W  YCL074W     NaN\n",
      "14570                    YNR065C     YSN1     NaN\n",
      "14613                    YCL006C  YCL006C     NaN\n",
      "14945        BY4742 ybr255::HIS3   YBR255     NaN\n",
      "\n",
      "[67 rows x 3 columns]\n"
     ]
    }
   ],
   "source": [
    "# Make sure everything translated ok\n",
    "t = looks_like_orf(original_data['orf'])\n",
    "print(original_data.loc[~t,['set_name','genes','orf']])"
   ]
  },
  {
   "cell_type": "code",
   "execution_count": 15,
   "metadata": {},
   "outputs": [],
   "source": [
    "original_data.loc[~t,'orf'] = original_data.loc[~t,'set_name']"
   ]
  },
  {
   "cell_type": "code",
   "execution_count": 16,
   "metadata": {},
   "outputs": [],
   "source": [
    "manual_fixes = {'rpl20b':'YOR312C','sus1':'YBR111W-A','afg3::KanMX':'YER017C',\n",
    "                'tor1':'YJR066W','pph22':'YDL188C','rpn4':'YDL020C',\n",
    "                'scp1':'YOR367W','por1':'YNL055C','pmt3':'YOR321W','sir2':'YDL042C',\n",
    "                'dbp3':'YGL078C','ymr226c': 'YMR226C'}\n",
    "\n",
    "for typo in manual_fixes.keys():\n",
    "    original_data.loc[original_data['orf']==typo,'orf'] = manual_fixes[typo]"
   ]
  },
  {
   "cell_type": "code",
   "execution_count": 17,
   "metadata": {},
   "outputs": [
    {
     "name": "stdout",
     "output_type": "stream",
     "text": [
      "                        set_name   genes                  orf\n",
      "index_input                                                  \n",
      "4302                        RAI1    RAI1                 RAI1\n",
      "5142                        psgf    PSGF                 psgf\n",
      "5143                        psgf    PSGF                 psgf\n",
      "6376                      ST2885   ZWF13               ST2885\n",
      "6377                      ST2886   ZWF14               ST2886\n",
      "10136                      EMP47   EMP47                EMP47\n",
      "14945        BY4742 ybr255::HIS3  YBR255  BY4742 ybr255::HIS3\n"
     ]
    }
   ],
   "source": [
    "# Make sure everything translated ok\n",
    "t = looks_like_orf(original_data['orf'])\n",
    "print(original_data.loc[~t,['set_name','genes','orf']])"
   ]
  },
  {
   "cell_type": "code",
   "execution_count": 18,
   "metadata": {},
   "outputs": [],
   "source": [
    "original_data = original_data.loc[t,:]"
   ]
  },
  {
   "cell_type": "code",
   "execution_count": 19,
   "metadata": {},
   "outputs": [],
   "source": [
    "original_data['rls'] = original_data['set_lifespans'].apply(lambda x: [int(t) for t in str(x).split(',')])"
   ]
  },
  {
   "cell_type": "code",
   "execution_count": 20,
   "metadata": {},
   "outputs": [],
   "source": [
    "original_data['ref_rls'] = original_data['ref_lifespans'].apply(lambda x: [int(t) for t in str(x).split(',')])"
   ]
  },
  {
   "cell_type": "code",
   "execution_count": 21,
   "metadata": {},
   "outputs": [],
   "source": [
    "# original_data.head()"
   ]
  },
  {
   "cell_type": "code",
   "execution_count": 22,
   "metadata": {},
   "outputs": [],
   "source": [
    "# Merge all raw measurements for all replicates\n",
    "all_orfs = np.unique(original_data['orf'].values)\n",
    "original_data2 = pd.DataFrame(index=all_orfs, columns=['rls','ref_rls'])"
   ]
  },
  {
   "cell_type": "code",
   "execution_count": 23,
   "metadata": {},
   "outputs": [
    {
     "data": {
      "text/plain": [
       "(4683,)"
      ]
     },
     "execution_count": 23,
     "metadata": {},
     "output_type": "execute_result"
    }
   ],
   "source": [
    "all_orfs.shape"
   ]
  },
  {
   "cell_type": "code",
   "execution_count": 24,
   "metadata": {},
   "outputs": [],
   "source": [
    "for orf in all_orfs:\n",
    "    this = original_data.loc[original_data['orf']==orf]\n",
    "    original_data2.loc[orf,'rls'] = list(itertools.chain.from_iterable(this['rls']))\n",
    "    original_data2.loc[orf,'ref_rls'] = list(itertools.chain.from_iterable(this['ref_rls']))"
   ]
  },
  {
   "cell_type": "code",
   "execution_count": 25,
   "metadata": {},
   "outputs": [],
   "source": [
    "original_data2['rls_num'] = original_data2['rls'].apply(lambda x: len(x))\n",
    "original_data2['ref_rls_num'] = original_data2['ref_rls'].apply(lambda x: len(x))"
   ]
  },
  {
   "cell_type": "code",
   "execution_count": 26,
   "metadata": {},
   "outputs": [],
   "source": [
    "original_data2['rls_mean'] = original_data2['rls'].apply(lambda x: np.nanmean(np.array(x)))\n",
    "original_data2['ref_rls_mean'] = original_data2['ref_rls'].apply(lambda x: np.nanmean(np.array(x)))"
   ]
  },
  {
   "cell_type": "code",
   "execution_count": 27,
   "metadata": {},
   "outputs": [],
   "source": [
    "original_data2['rls_ratio'] = original_data2['rls_mean'] / original_data2['ref_rls_mean']"
   ]
  },
  {
   "cell_type": "code",
   "execution_count": 28,
   "metadata": {},
   "outputs": [],
   "source": [
    "# % Only keep data with n > 5 (rest is unreliable)\n",
    "# % The authors subsequently retested these strains but the raw version of that data is\n",
    "# % (unfortunately) not recoverable. Only the published results.\n",
    "# % Since all but one of the published (most reliable) strains has n > 5,\n",
    "# % we've decided to set the n < 5 strains to 1 (instead of NaN) to indicate that they are\n",
    "# % likely neither short-lived nor long-lived (instead of \"not tested\")\n",
    "\n",
    "original_data2.loc[(original_data2['rls_num']<=5) & (original_data2['ref_rls_num']<=5),'rls_ratio'] = 1"
   ]
  },
  {
   "cell_type": "code",
   "execution_count": 29,
   "metadata": {},
   "outputs": [],
   "source": [
    "original_data2['data'] = original_data2['rls_ratio']"
   ]
  },
  {
   "cell_type": "code",
   "execution_count": 30,
   "metadata": {},
   "outputs": [],
   "source": [
    "original_data2 = original_data2[['data']].copy()"
   ]
  },
  {
   "cell_type": "code",
   "execution_count": 31,
   "metadata": {},
   "outputs": [],
   "source": [
    "original_data2.index.name='orf'"
   ]
  },
  {
   "cell_type": "code",
   "execution_count": 32,
   "metadata": {},
   "outputs": [
    {
     "data": {
      "text/plain": [
       "(4683, 1)"
      ]
     },
     "execution_count": 32,
     "metadata": {},
     "output_type": "execute_result"
    }
   ],
   "source": [
    "original_data2.shape"
   ]
  },
  {
   "cell_type": "markdown",
   "metadata": {},
   "source": [
    "# Prepare the final dataset"
   ]
  },
  {
   "cell_type": "code",
   "execution_count": 34,
   "metadata": {},
   "outputs": [],
   "source": [
    "data = original_data2.copy()"
   ]
  },
  {
   "cell_type": "code",
   "execution_count": 35,
   "metadata": {},
   "outputs": [],
   "source": [
    "dataset_ids = [696]\n",
    "datasets = datasets.reindex(index=dataset_ids)"
   ]
  },
  {
   "cell_type": "code",
   "execution_count": 36,
   "metadata": {},
   "outputs": [],
   "source": [
    "lst = [datasets.index.values, ['value']*datasets.shape[0]]\n",
    "tuples = list(zip(*lst))\n",
    "idx = pd.MultiIndex.from_tuples(tuples, names=['dataset_id','data_type'])\n",
    "data.columns = idx"
   ]
  },
  {
   "cell_type": "code",
   "execution_count": 37,
   "metadata": {},
   "outputs": [
    {
     "data": {
      "text/html": [
       "<div>\n",
       "<style scoped>\n",
       "    .dataframe tbody tr th:only-of-type {\n",
       "        vertical-align: middle;\n",
       "    }\n",
       "\n",
       "    .dataframe tbody tr th {\n",
       "        vertical-align: top;\n",
       "    }\n",
       "\n",
       "    .dataframe thead tr th {\n",
       "        text-align: left;\n",
       "    }\n",
       "\n",
       "    .dataframe thead tr:last-of-type th {\n",
       "        text-align: right;\n",
       "    }\n",
       "</style>\n",
       "<table border=\"1\" class=\"dataframe\">\n",
       "  <thead>\n",
       "    <tr>\n",
       "      <th>dataset_id</th>\n",
       "      <th>696</th>\n",
       "    </tr>\n",
       "    <tr>\n",
       "      <th>data_type</th>\n",
       "      <th>value</th>\n",
       "    </tr>\n",
       "    <tr>\n",
       "      <th>orf</th>\n",
       "      <th></th>\n",
       "    </tr>\n",
       "  </thead>\n",
       "  <tbody>\n",
       "    <tr>\n",
       "      <th>YAL010C</th>\n",
       "      <td>0.768248</td>\n",
       "    </tr>\n",
       "    <tr>\n",
       "      <th>YAL012W</th>\n",
       "      <td>1.161593</td>\n",
       "    </tr>\n",
       "    <tr>\n",
       "      <th>YAL016W</th>\n",
       "      <td>0.451522</td>\n",
       "    </tr>\n",
       "    <tr>\n",
       "      <th>YAL017W</th>\n",
       "      <td>1.048125</td>\n",
       "    </tr>\n",
       "    <tr>\n",
       "      <th>YAL023C</th>\n",
       "      <td>0.983755</td>\n",
       "    </tr>\n",
       "  </tbody>\n",
       "</table>\n",
       "</div>"
      ],
      "text/plain": [
       "dataset_id       696\n",
       "data_type      value\n",
       "orf                 \n",
       "YAL010C     0.768248\n",
       "YAL012W     1.161593\n",
       "YAL016W     0.451522\n",
       "YAL017W     1.048125\n",
       "YAL023C     0.983755"
      ]
     },
     "execution_count": 37,
     "metadata": {},
     "output_type": "execute_result"
    }
   ],
   "source": [
    "data.head()"
   ]
  },
  {
   "cell_type": "markdown",
   "metadata": {},
   "source": [
    "## Subset to the genes currently in SGD"
   ]
  },
  {
   "cell_type": "code",
   "execution_count": 38,
   "metadata": {},
   "outputs": [
    {
     "name": "stdout",
     "output_type": "stream",
     "text": [
      "ORFs missing from SGD: 23\n"
     ]
    }
   ],
   "source": [
    "genes = pd.read_csv(path_to_genes, sep='\\t', index_col='id')\n",
    "genes = genes.reset_index().set_index('systematic_name')\n",
    "gene_ids = genes.reindex(index=data.index.values)['id'].values\n",
    "num_missing = np.sum(np.isnan(gene_ids))\n",
    "print('ORFs missing from SGD: %d' % num_missing)"
   ]
  },
  {
   "cell_type": "code",
   "execution_count": 39,
   "metadata": {},
   "outputs": [
    {
     "data": {
      "text/html": [
       "<div>\n",
       "<style scoped>\n",
       "    .dataframe tbody tr th:only-of-type {\n",
       "        vertical-align: middle;\n",
       "    }\n",
       "\n",
       "    .dataframe tbody tr th {\n",
       "        vertical-align: top;\n",
       "    }\n",
       "\n",
       "    .dataframe thead tr th {\n",
       "        text-align: left;\n",
       "    }\n",
       "\n",
       "    .dataframe thead tr:last-of-type th {\n",
       "        text-align: right;\n",
       "    }\n",
       "</style>\n",
       "<table border=\"1\" class=\"dataframe\">\n",
       "  <thead>\n",
       "    <tr>\n",
       "      <th></th>\n",
       "      <th>dataset_id</th>\n",
       "      <th>696</th>\n",
       "    </tr>\n",
       "    <tr>\n",
       "      <th></th>\n",
       "      <th>data_type</th>\n",
       "      <th>value</th>\n",
       "    </tr>\n",
       "    <tr>\n",
       "      <th>gene_id</th>\n",
       "      <th>orf</th>\n",
       "      <th></th>\n",
       "    </tr>\n",
       "  </thead>\n",
       "  <tbody>\n",
       "    <tr>\n",
       "      <th>8</th>\n",
       "      <th>YAL010C</th>\n",
       "      <td>0.768248</td>\n",
       "    </tr>\n",
       "    <tr>\n",
       "      <th>10</th>\n",
       "      <th>YAL012W</th>\n",
       "      <td>1.161593</td>\n",
       "    </tr>\n",
       "    <tr>\n",
       "      <th>14</th>\n",
       "      <th>YAL016W</th>\n",
       "      <td>0.451522</td>\n",
       "    </tr>\n",
       "    <tr>\n",
       "      <th>15</th>\n",
       "      <th>YAL017W</th>\n",
       "      <td>1.048125</td>\n",
       "    </tr>\n",
       "    <tr>\n",
       "      <th>21</th>\n",
       "      <th>YAL023C</th>\n",
       "      <td>0.983755</td>\n",
       "    </tr>\n",
       "  </tbody>\n",
       "</table>\n",
       "</div>"
      ],
      "text/plain": [
       "dataset_id            696\n",
       "data_type           value\n",
       "gene_id orf              \n",
       "8       YAL010C  0.768248\n",
       "10      YAL012W  1.161593\n",
       "14      YAL016W  0.451522\n",
       "15      YAL017W  1.048125\n",
       "21      YAL023C  0.983755"
      ]
     },
     "execution_count": 39,
     "metadata": {},
     "output_type": "execute_result"
    }
   ],
   "source": [
    "data['gene_id'] = gene_ids\n",
    "data = data.loc[data['gene_id'].notnull()]\n",
    "data['gene_id'] = data['gene_id'].astype(int)\n",
    "data = data.reset_index().set_index(['gene_id','orf'])\n",
    "\n",
    "data.head()"
   ]
  },
  {
   "cell_type": "markdown",
   "metadata": {},
   "source": [
    "# Normalize"
   ]
  },
  {
   "cell_type": "code",
   "execution_count": 40,
   "metadata": {},
   "outputs": [],
   "source": [
    "data_norm = normalize_phenotypic_scores(data, has_tested=True)"
   ]
  },
  {
   "cell_type": "code",
   "execution_count": 41,
   "metadata": {},
   "outputs": [],
   "source": [
    "# Assign proper column names\n",
    "lst = [datasets.index.values, ['valuez']*datasets.shape[0]]\n",
    "tuples = list(zip(*lst))\n",
    "idx = pd.MultiIndex.from_tuples(tuples, names=['dataset_id','data_type'])\n",
    "data_norm.columns = idx"
   ]
  },
  {
   "cell_type": "code",
   "execution_count": 42,
   "metadata": {},
   "outputs": [
    {
     "data": {
      "text/html": [
       "<div>\n",
       "<style scoped>\n",
       "    .dataframe tbody tr th:only-of-type {\n",
       "        vertical-align: middle;\n",
       "    }\n",
       "\n",
       "    .dataframe tbody tr th {\n",
       "        vertical-align: top;\n",
       "    }\n",
       "\n",
       "    .dataframe thead tr th {\n",
       "        text-align: left;\n",
       "    }\n",
       "\n",
       "    .dataframe thead tr:last-of-type th {\n",
       "        text-align: right;\n",
       "    }\n",
       "</style>\n",
       "<table border=\"1\" class=\"dataframe\">\n",
       "  <thead>\n",
       "    <tr>\n",
       "      <th></th>\n",
       "      <th>dataset_id</th>\n",
       "      <th colspan=\"2\" halign=\"left\">696</th>\n",
       "    </tr>\n",
       "    <tr>\n",
       "      <th></th>\n",
       "      <th>data_type</th>\n",
       "      <th>value</th>\n",
       "      <th>valuez</th>\n",
       "    </tr>\n",
       "    <tr>\n",
       "      <th>gene_id</th>\n",
       "      <th>orf</th>\n",
       "      <th></th>\n",
       "      <th></th>\n",
       "    </tr>\n",
       "  </thead>\n",
       "  <tbody>\n",
       "    <tr>\n",
       "      <th>8</th>\n",
       "      <th>YAL010C</th>\n",
       "      <td>0.768248</td>\n",
       "      <td>-1.543955</td>\n",
       "    </tr>\n",
       "    <tr>\n",
       "      <th>10</th>\n",
       "      <th>YAL012W</th>\n",
       "      <td>1.161593</td>\n",
       "      <td>1.054655</td>\n",
       "    </tr>\n",
       "    <tr>\n",
       "      <th>14</th>\n",
       "      <th>YAL016W</th>\n",
       "      <td>0.451522</td>\n",
       "      <td>-3.636391</td>\n",
       "    </tr>\n",
       "    <tr>\n",
       "      <th>15</th>\n",
       "      <th>YAL017W</th>\n",
       "      <td>1.048125</td>\n",
       "      <td>0.305037</td>\n",
       "    </tr>\n",
       "    <tr>\n",
       "      <th>21</th>\n",
       "      <th>YAL023C</th>\n",
       "      <td>0.983755</td>\n",
       "      <td>-0.120223</td>\n",
       "    </tr>\n",
       "  </tbody>\n",
       "</table>\n",
       "</div>"
      ],
      "text/plain": [
       "dataset_id            696          \n",
       "data_type           value    valuez\n",
       "gene_id orf                        \n",
       "8       YAL010C  0.768248 -1.543955\n",
       "10      YAL012W  1.161593  1.054655\n",
       "14      YAL016W  0.451522 -3.636391\n",
       "15      YAL017W  1.048125  0.305037\n",
       "21      YAL023C  0.983755 -0.120223"
      ]
     },
     "execution_count": 42,
     "metadata": {},
     "output_type": "execute_result"
    }
   ],
   "source": [
    "data_norm[data.isnull()] = np.nan\n",
    "data_all = data.join(data_norm)\n",
    "\n",
    "data_all.head()"
   ]
  },
  {
   "cell_type": "markdown",
   "metadata": {},
   "source": [
    "# Print out"
   ]
  },
  {
   "cell_type": "code",
   "execution_count": 43,
   "metadata": {},
   "outputs": [],
   "source": [
    "for f in ['value','valuez']:\n",
    "    df = data_all.xs(f, level='data_type', axis=1).copy()\n",
    "    df.columns = datasets['name'].values\n",
    "    df = df.droplevel('gene_id', axis=0)\n",
    "    df.to_csv(paper_name + '_' + f + '.txt', sep='\\t')"
   ]
  },
  {
   "cell_type": "markdown",
   "metadata": {},
   "source": [
    "# Save to DB"
   ]
  },
  {
   "cell_type": "code",
   "execution_count": 44,
   "metadata": {},
   "outputs": [],
   "source": [
    "from IO.save_data_to_db3 import *"
   ]
  },
  {
   "cell_type": "code",
   "execution_count": 45,
   "metadata": {},
   "outputs": [
    {
     "name": "stderr",
     "output_type": "stream",
     "text": [
      "  0%|          | 0/1 [00:00<?, ?it/s]"
     ]
    },
    {
     "name": "stdout",
     "output_type": "stream",
     "text": [
      "Deleting all datasets for PMID 26456335...\n",
      "Inserting the new data...\n"
     ]
    },
    {
     "name": "stderr",
     "output_type": "stream",
     "text": [
      "100%|██████████| 1/1 [00:06<00:00,  6.68s/it]"
     ]
    },
    {
     "name": "stdout",
     "output_type": "stream",
     "text": [
      "Updating the data_modified_on field...\n"
     ]
    },
    {
     "name": "stderr",
     "output_type": "stream",
     "text": [
      "\n"
     ]
    }
   ],
   "source": [
    "save_data_to_db(data_all, paper_pmid)"
   ]
  },
  {
   "cell_type": "code",
   "execution_count": null,
   "metadata": {},
   "outputs": [],
   "source": []
  }
 ],
 "metadata": {
  "kernelspec": {
   "display_name": "yp-data",
   "language": "python",
   "name": "yp-data"
  },
  "language_info": {
   "codemirror_mode": {
    "name": "ipython",
    "version": 3
   },
   "file_extension": ".py",
   "mimetype": "text/x-python",
   "name": "python",
   "nbconvert_exporter": "python",
   "pygments_lexer": "ipython3",
   "version": "3.7.7"
  }
 },
 "nbformat": 4,
 "nbformat_minor": 4
}
