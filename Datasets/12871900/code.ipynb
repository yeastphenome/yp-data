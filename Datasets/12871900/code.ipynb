{
 "cells": [
  {
   "cell_type": "code",
   "execution_count": 1,
   "metadata": {},
   "outputs": [],
   "source": [
    "%run ../yp_utils.py"
   ]
  },
  {
   "cell_type": "markdown",
   "metadata": {},
   "source": [
    "# Initial setup"
   ]
  },
  {
   "cell_type": "code",
   "execution_count": 2,
   "metadata": {},
   "outputs": [],
   "source": [
    "paper_pmid = 12871900\n",
    "paper_name = 'griffith_devine_2003' "
   ]
  },
  {
   "cell_type": "code",
   "execution_count": 3,
   "metadata": {},
   "outputs": [],
   "source": [
    "datasets = pd.read_csv('extras/YeastPhenome_' + str(paper_pmid) + '_datasets_list.txt', sep='\\t', header=None, names=['dataset_id', 'name'])"
   ]
  },
  {
   "cell_type": "code",
   "execution_count": 4,
   "metadata": {},
   "outputs": [],
   "source": [
    "datasets.set_index('dataset_id', inplace=True)"
   ]
  },
  {
   "cell_type": "markdown",
   "metadata": {},
   "source": [
    "# Load & process the data"
   ]
  },
  {
   "cell_type": "code",
   "execution_count": 12,
   "metadata": {},
   "outputs": [],
   "source": [
    "original_data = pd.read_csv('raw_data/hits.txt', header=None, sep='\\t')"
   ]
  },
  {
   "cell_type": "code",
   "execution_count": 13,
   "metadata": {},
   "outputs": [
    {
     "name": "stdout",
     "output_type": "stream",
     "text": [
      "Original data dimensions: 101 x 2\n"
     ]
    }
   ],
   "source": [
    "print('Original data dimensions: %d x %d' % (original_data.shape))"
   ]
  },
  {
   "cell_type": "code",
   "execution_count": 14,
   "metadata": {},
   "outputs": [
    {
     "data": {
      "text/html": [
       "<div>\n",
       "<style scoped>\n",
       "    .dataframe tbody tr th:only-of-type {\n",
       "        vertical-align: middle;\n",
       "    }\n",
       "\n",
       "    .dataframe tbody tr th {\n",
       "        vertical-align: top;\n",
       "    }\n",
       "\n",
       "    .dataframe thead th {\n",
       "        text-align: right;\n",
       "    }\n",
       "</style>\n",
       "<table border=\"1\" class=\"dataframe\">\n",
       "  <thead>\n",
       "    <tr style=\"text-align: right;\">\n",
       "      <th></th>\n",
       "      <th>0</th>\n",
       "      <th>1</th>\n",
       "    </tr>\n",
       "  </thead>\n",
       "  <tbody>\n",
       "    <tr>\n",
       "      <th>0</th>\n",
       "      <td>ARD1</td>\n",
       "      <td>-1</td>\n",
       "    </tr>\n",
       "    <tr>\n",
       "      <th>1</th>\n",
       "      <td>NAT1</td>\n",
       "      <td>-1</td>\n",
       "    </tr>\n",
       "    <tr>\n",
       "      <th>2</th>\n",
       "      <td>SAP30</td>\n",
       "      <td>-1</td>\n",
       "    </tr>\n",
       "    <tr>\n",
       "      <th>3</th>\n",
       "      <td>SIN1 (SPT2)</td>\n",
       "      <td>-1</td>\n",
       "    </tr>\n",
       "    <tr>\n",
       "      <th>4</th>\n",
       "      <td>SIN3</td>\n",
       "      <td>-1</td>\n",
       "    </tr>\n",
       "  </tbody>\n",
       "</table>\n",
       "</div>"
      ],
      "text/plain": [
       "             0  1\n",
       "0         ARD1 -1\n",
       "1         NAT1 -1\n",
       "2        SAP30 -1\n",
       "3  SIN1 (SPT2) -1\n",
       "4         SIN3 -1"
      ]
     },
     "execution_count": 14,
     "metadata": {},
     "output_type": "execute_result"
    }
   ],
   "source": [
    "original_data.head()"
   ]
  },
  {
   "cell_type": "code",
   "execution_count": 15,
   "metadata": {},
   "outputs": [],
   "source": [
    "original_data['gene'] = original_data[0].astype(str)"
   ]
  },
  {
   "cell_type": "code",
   "execution_count": 16,
   "metadata": {},
   "outputs": [],
   "source": [
    "original_data['gene'] = original_data['gene'].apply(lambda x: x.split(' ')[0])"
   ]
  },
  {
   "cell_type": "code",
   "execution_count": 17,
   "metadata": {},
   "outputs": [],
   "source": [
    "# Eliminate all white spaces & capitalize\n",
    "original_data['gene'] = clean_genename(original_data['gene'])"
   ]
  },
  {
   "cell_type": "code",
   "execution_count": 18,
   "metadata": {},
   "outputs": [],
   "source": [
    "# Translate to ORFs \n",
    "original_data['orf'] = translate_sc(original_data['gene'], to='orf')"
   ]
  },
  {
   "cell_type": "code",
   "execution_count": 19,
   "metadata": {},
   "outputs": [
    {
     "name": "stdout",
     "output_type": "stream",
     "text": [
      "                 0  1   gene    orf\n",
      "index_input                        \n",
      "22            FYV3 -1   FYV3   FYV3\n",
      "26           KRE24 -1  KRE24  KRE24\n",
      "32            SDF1 -1   SDF1   SDF1\n",
      "50            TCI1 -1   TCI1   TCI1\n"
     ]
    }
   ],
   "source": [
    "# Make sure everything translated ok\n",
    "t = looks_like_orf(original_data['orf'])\n",
    "print(original_data.loc[~t,])"
   ]
  },
  {
   "cell_type": "code",
   "execution_count": 20,
   "metadata": {},
   "outputs": [],
   "source": [
    "original_data = original_data.loc[t,:]"
   ]
  },
  {
   "cell_type": "code",
   "execution_count": 21,
   "metadata": {},
   "outputs": [],
   "source": [
    "original_data['data'] = pd.to_numeric(original_data[1], errors='coerce')"
   ]
  },
  {
   "cell_type": "code",
   "execution_count": 22,
   "metadata": {},
   "outputs": [],
   "source": [
    "original_data.set_index('orf', inplace=True)"
   ]
  },
  {
   "cell_type": "code",
   "execution_count": 23,
   "metadata": {},
   "outputs": [],
   "source": [
    "original_data = original_data[['data']].copy()"
   ]
  },
  {
   "cell_type": "code",
   "execution_count": 24,
   "metadata": {},
   "outputs": [],
   "source": [
    "original_data = original_data.groupby(original_data.index).mean()"
   ]
  },
  {
   "cell_type": "code",
   "execution_count": 25,
   "metadata": {},
   "outputs": [
    {
     "data": {
      "text/plain": [
       "(97, 1)"
      ]
     },
     "execution_count": 25,
     "metadata": {},
     "output_type": "execute_result"
    }
   ],
   "source": [
    "original_data.shape"
   ]
  },
  {
   "cell_type": "markdown",
   "metadata": {},
   "source": [
    "# Load & process tested strains"
   ]
  },
  {
   "cell_type": "code",
   "execution_count": 26,
   "metadata": {},
   "outputs": [],
   "source": [
    "files = ['Res Gen diploid knock01.xlsx','Res Gen diploid knockouts02.xlsx']\n",
    "sheets = ['Res Gen diploid knock01.txt','Res Gen diploid knockouts02.txt']"
   ]
  },
  {
   "cell_type": "code",
   "execution_count": 33,
   "metadata": {},
   "outputs": [
    {
     "name": "stdout",
     "output_type": "stream",
     "text": [
      "                                        record no. ORF name   strain batch  \\\n",
      "index_input                                                                  \n",
      "346                                          30827   YMR41W  HOM DIP  13_5   \n",
      "3449         YPD +G418 +Riboflavin -glycerol media      NaN      NaN   NaN   \n",
      "3603                             Q.C. Failures V.1      NaN      NaN   NaN   \n",
      "\n",
      "             plate  row  column ResGen notes DB NOTES     orf  \n",
      "index_input                                                    \n",
      "346          304.0    F     6.0          NaN      NaN  YMR41W  \n",
      "3449           NaN  NaN     NaN          NaN      NaN     NAN  \n",
      "3603           NaN  NaN     NaN          NaN      NaN     NAN  \n",
      "             record no. ORF name strain batch  row column ResGen notes  \\\n",
      "index_input                                                              \n",
      "1042                NaN      NaN    NaN   NaN  NaN    NaN      end 349   \n",
      "1109                NaN      NaN    NaN   NaN  NaN    NaN      end 372   \n",
      "1121                NaN      NaN    NaN   NaN  NaN    NaN      end 381   \n",
      "1122                NaN      NaN    NaN   NaN  NaN    NaN          NaN   \n",
      "1123                NaN      NaN    NaN   NaN  NaN    NaN          NaN   \n",
      "1124                NaN      NaN    NaN   NaN  NaN    NaN          NaN   \n",
      "1125                NaN      NaN    NaN   NaN  NaN    NaN          NaN   \n",
      "1126                NaN      NaN    NaN   NaN  NaN    NaN          NaN   \n",
      "1127                NaN      NaN    NaN   NaN  NaN    NaN          NaN   \n",
      "1128                NaN      NaN    NaN   NaN  NaN    NaN          NaN   \n",
      "1129                NaN      NaN    NaN   NaN  NaN    NaN          NaN   \n",
      "1130                NaN      NaN    NaN   NaN  NaN    NaN          NaN   \n",
      "1131                NaN      NaN    NaN   NaN  NaN    NaN          NaN   \n",
      "1132                NaN      NaN    NaN   NaN  NaN    NaN          NaN   \n",
      "1133                NaN      NaN    NaN   NaN  NaN    NaN          NaN   \n",
      "1134                NaN      NaN    NaN   NaN  NaN    NaN          NaN   \n",
      "1135                NaN      NaN    NaN   NaN  NaN    NaN          NaN   \n",
      "1136                NaN      NaN    NaN   NaN  NaN    NaN          NaN   \n",
      "1137                NaN      NaN    NaN   NaN  NaN    NaN          NaN   \n",
      "1138                NaN      NaN    NaN   NaN  NaN    NaN          NaN   \n",
      "1139                NaN      NaN    NaN   NaN  NaN    NaN          NaN   \n",
      "1140                NaN      NaN    NaN   NaN  NaN    NaN          NaN   \n",
      "1141                NaN      NaN    NaN   NaN  NaN    NaN          NaN   \n",
      "1142                NaN      NaN    NaN   NaN  NaN    NaN          NaN   \n",
      "1143                NaN      NaN    NaN   NaN  NaN    NaN          NaN   \n",
      "1144                NaN      NaN    NaN   NaN  NaN    NaN          NaN   \n",
      "1145                NaN      NaN    NaN   NaN  NaN    NaN          NaN   \n",
      "1146                NaN      NaN    NaN   NaN  NaN    NaN          NaN   \n",
      "1147                NaN      NaN    NaN   NaN  NaN    NaN          NaN   \n",
      "1148                NaN      NaN    NaN   NaN  NaN    NaN          NaN   \n",
      "1149                NaN      NaN    NaN   NaN  NaN    NaN          NaN   \n",
      "1150                NaN      NaN    NaN   NaN  NaN    NaN          NaN   \n",
      "1151                NaN      NaN    NaN   NaN  NaN    NaN          NaN   \n",
      "1152                NaN      NaN    NaN   NaN  NaN    NaN          NaN   \n",
      "1153                NaN      NaN    NaN   NaN  NaN    NaN          NaN   \n",
      "1154                NaN      NaN    NaN   NaN  NaN    NaN          NaN   \n",
      "1155                NaN      NaN    NaN   NaN  NaN    NaN          NaN   \n",
      "1156                NaN      NaN    NaN   NaN  NaN    NaN          NaN   \n",
      "1157                NaN      NaN    NaN   NaN  NaN    NaN          NaN   \n",
      "1158                NaN      NaN    NaN   NaN  NaN    NaN          NaN   \n",
      "\n",
      "            DB NOTES Unnamed: 8  \\\n",
      "index_input                       \n",
      "1042             NaN        NaN   \n",
      "1109             NaN        NaN   \n",
      "1121             NaN        NaN   \n",
      "1122             NaN        NaN   \n",
      "1123             NaN        NaN   \n",
      "1124             NaN        NaN   \n",
      "1125             NaN        NaN   \n",
      "1126             NaN        NaN   \n",
      "1127             NaN        NaN   \n",
      "1128             NaN        NaN   \n",
      "1129             NaN        NaN   \n",
      "1130             NaN        NaN   \n",
      "1131             NaN        NaN   \n",
      "1132             NaN        NaN   \n",
      "1133             NaN        NaN   \n",
      "1134             NaN        NaN   \n",
      "1135             NaN        NaN   \n",
      "1136             NaN        NaN   \n",
      "1137             NaN        NaN   \n",
      "1138             NaN        NaN   \n",
      "1139             NaN        NaN   \n",
      "1140             NaN        NaN   \n",
      "1141             NaN        NaN   \n",
      "1142             NaN        NaN   \n",
      "1143             NaN        NaN   \n",
      "1144             NaN        NaN   \n",
      "1145             NaN        NaN   \n",
      "1146             NaN        NaN   \n",
      "1147             NaN        NaN   \n",
      "1148             NaN        NaN   \n",
      "1149             NaN        NaN   \n",
      "1150             NaN        NaN   \n",
      "1151             NaN        NaN   \n",
      "1152             NaN        NaN   \n",
      "1153             NaN        NaN   \n",
      "1154             NaN        NaN   \n",
      "1155             NaN        NaN   \n",
      "1156             NaN        NaN   \n",
      "1157             NaN        NaN   \n",
      "1158             NaN        NaN   \n",
      "\n",
      "                                                    Unnamed: 9  orf  \n",
      "index_input                                                          \n",
      "1042                                                       NaN  NAN  \n",
      "1109                                                       NaN  NAN  \n",
      "1121                                                       NaN  NAN  \n",
      "1122                                                       NaN  NAN  \n",
      "1123                                                       NaN  NAN  \n",
      "1124                                                       NaN  NAN  \n",
      "1125                                                       NaN  NAN  \n",
      "1126                                                       NaN  NAN  \n",
      "1127                                                       NaN  NAN  \n",
      "1128                                                       NaN  NAN  \n",
      "1129                                                       NaN  NAN  \n",
      "1130                                                       NaN  NAN  \n",
      "1131                                                       NaN  NAN  \n",
      "1132                                                       NaN  NAN  \n",
      "1133                                                       NaN  NAN  \n",
      "1134                                                       NaN  NAN  \n",
      "1135                                                       NaN  NAN  \n",
      "1136                                                       NaN  NAN  \n",
      "1137                                                       NaN  NAN  \n",
      "1138                                                       NaN  NAN  \n",
      "1139                                                       NaN  NAN  \n",
      "1140                                                       NaN  NAN  \n",
      "1141                                                       NaN  NAN  \n",
      "1142                                                       NaN  NAN  \n",
      "1143                                                       NaN  NAN  \n",
      "1144                                                       NaN  NAN  \n",
      "1145                                                       NaN  NAN  \n",
      "1146                                                       NaN  NAN  \n",
      "1147                                                       NaN  NAN  \n",
      "1148                                                       NaN  NAN  \n",
      "1149                                                       NaN  NAN  \n",
      "1150                                                       NaN  NAN  \n",
      "1151                                                       NaN  NAN  \n",
      "1152                                                       NaN  NAN  \n",
      "1153                                                       NaN  NAN  \n",
      "1154                                                       NaN  NAN  \n",
      "1155                                                       NaN  NAN  \n",
      "1156                                                       NaN  NAN  \n",
      "1157         mates as an a-stanford cannot grow from frozen...  NAN  \n",
      "1158                                           mates as an  a   NAN  \n"
     ]
    }
   ],
   "source": [
    "tested_list = []\n",
    "for ixf, f in enumerate(files):\n",
    "    tested = pd.read_excel('raw_data/' + f, sheet_name=sheets[ixf], skiprows=1)\n",
    "#     print(tested.head())\n",
    "    tested['orf'] = tested['ORF name'].astype(str)\n",
    "    tested['orf'] = clean_orf(tested['orf'])\n",
    "    \n",
    "    typo_fixes = {'TAL004W':'YAL004W','YELOO1C':'YEL001C','KL187C':'YKL187C'}\n",
    "    tested['orf'] = tested['orf'].apply(lambda x: typo_fixes[x] if x in typo_fixes.keys() else x)\n",
    "    tested['orf'] = translate_sc(tested['orf'], to='orf')\n",
    "    # Make sure everything translated ok\n",
    "    t = looks_like_orf(tested['orf'])\n",
    "    print(tested.loc[~t,])\n",
    "    tested = tested.loc[t,:]\n",
    "    \n",
    "    if 'plate' in tested.columns:\n",
    "        c = 'plate'\n",
    "    else:\n",
    "        c = 'row'\n",
    "    tested = tested.loc[(tested[c] >= 301) & (tested[c] <= 349)]\n",
    "    tested_list.append(tested[['orf']])"
   ]
  },
  {
   "cell_type": "code",
   "execution_count": 34,
   "metadata": {},
   "outputs": [],
   "source": [
    "tested = pd.concat(tested_list, axis=0)"
   ]
  },
  {
   "cell_type": "code",
   "execution_count": 35,
   "metadata": {},
   "outputs": [
    {
     "data": {
      "text/html": [
       "<div>\n",
       "<style scoped>\n",
       "    .dataframe tbody tr th:only-of-type {\n",
       "        vertical-align: middle;\n",
       "    }\n",
       "\n",
       "    .dataframe tbody tr th {\n",
       "        vertical-align: top;\n",
       "    }\n",
       "\n",
       "    .dataframe thead th {\n",
       "        text-align: right;\n",
       "    }\n",
       "</style>\n",
       "<table border=\"1\" class=\"dataframe\">\n",
       "  <thead>\n",
       "    <tr style=\"text-align: right;\">\n",
       "      <th></th>\n",
       "      <th>orf</th>\n",
       "    </tr>\n",
       "    <tr>\n",
       "      <th>index_input</th>\n",
       "      <th></th>\n",
       "    </tr>\n",
       "  </thead>\n",
       "  <tbody>\n",
       "    <tr>\n",
       "      <th>0</th>\n",
       "      <td>YAL068C</td>\n",
       "    </tr>\n",
       "    <tr>\n",
       "      <th>1</th>\n",
       "      <td>YAL067C</td>\n",
       "    </tr>\n",
       "    <tr>\n",
       "      <th>2</th>\n",
       "      <td>YAL066W</td>\n",
       "    </tr>\n",
       "    <tr>\n",
       "      <th>3</th>\n",
       "      <td>YAL065C</td>\n",
       "    </tr>\n",
       "    <tr>\n",
       "      <th>4</th>\n",
       "      <td>YAL062W</td>\n",
       "    </tr>\n",
       "  </tbody>\n",
       "</table>\n",
       "</div>"
      ],
      "text/plain": [
       "                 orf\n",
       "index_input         \n",
       "0            YAL068C\n",
       "1            YAL067C\n",
       "2            YAL066W\n",
       "3            YAL065C\n",
       "4            YAL062W"
      ]
     },
     "execution_count": 35,
     "metadata": {},
     "output_type": "execute_result"
    }
   ],
   "source": [
    "tested.head()"
   ]
  },
  {
   "cell_type": "code",
   "execution_count": 36,
   "metadata": {},
   "outputs": [],
   "source": [
    "tested_orfs = tested['orf'].unique()"
   ]
  },
  {
   "cell_type": "code",
   "execution_count": 37,
   "metadata": {},
   "outputs": [
    {
     "data": {
      "text/plain": [
       "['YML105C']"
      ]
     },
     "execution_count": 37,
     "metadata": {},
     "output_type": "execute_result"
    }
   ],
   "source": [
    "missing = [orf for orf in original_data.index.values if orf not in tested_orfs]\n",
    "missing"
   ]
  },
  {
   "cell_type": "code",
   "execution_count": 38,
   "metadata": {},
   "outputs": [],
   "source": [
    "tested_orfs = list(tested_orfs) + missing"
   ]
  },
  {
   "cell_type": "code",
   "execution_count": 39,
   "metadata": {},
   "outputs": [],
   "source": [
    "original_data = original_data.reindex(index=tested_orfs, fill_value=0)"
   ]
  },
  {
   "cell_type": "markdown",
   "metadata": {},
   "source": [
    "# Prepare the final dataset"
   ]
  },
  {
   "cell_type": "code",
   "execution_count": 40,
   "metadata": {},
   "outputs": [],
   "source": [
    "data = original_data.copy()"
   ]
  },
  {
   "cell_type": "code",
   "execution_count": 41,
   "metadata": {},
   "outputs": [],
   "source": [
    "dataset_ids = [480]\n",
    "datasets = datasets.reindex(index=dataset_ids)"
   ]
  },
  {
   "cell_type": "code",
   "execution_count": 42,
   "metadata": {},
   "outputs": [],
   "source": [
    "lst = [datasets.index.values, ['value']*datasets.shape[0]]\n",
    "tuples = list(zip(*lst))\n",
    "idx = pd.MultiIndex.from_tuples(tuples, names=['dataset_id','data_type'])\n",
    "data.columns = idx"
   ]
  },
  {
   "cell_type": "code",
   "execution_count": 43,
   "metadata": {},
   "outputs": [
    {
     "data": {
      "text/html": [
       "<div>\n",
       "<style scoped>\n",
       "    .dataframe tbody tr th:only-of-type {\n",
       "        vertical-align: middle;\n",
       "    }\n",
       "\n",
       "    .dataframe tbody tr th {\n",
       "        vertical-align: top;\n",
       "    }\n",
       "\n",
       "    .dataframe thead tr th {\n",
       "        text-align: left;\n",
       "    }\n",
       "\n",
       "    .dataframe thead tr:last-of-type th {\n",
       "        text-align: right;\n",
       "    }\n",
       "</style>\n",
       "<table border=\"1\" class=\"dataframe\">\n",
       "  <thead>\n",
       "    <tr>\n",
       "      <th>dataset_id</th>\n",
       "      <th>480</th>\n",
       "    </tr>\n",
       "    <tr>\n",
       "      <th>data_type</th>\n",
       "      <th>value</th>\n",
       "    </tr>\n",
       "    <tr>\n",
       "      <th>orf</th>\n",
       "      <th></th>\n",
       "    </tr>\n",
       "  </thead>\n",
       "  <tbody>\n",
       "    <tr>\n",
       "      <th>YAL068C</th>\n",
       "      <td>0</td>\n",
       "    </tr>\n",
       "    <tr>\n",
       "      <th>YAL067C</th>\n",
       "      <td>0</td>\n",
       "    </tr>\n",
       "    <tr>\n",
       "      <th>YAL066W</th>\n",
       "      <td>0</td>\n",
       "    </tr>\n",
       "    <tr>\n",
       "      <th>YAL065C</th>\n",
       "      <td>0</td>\n",
       "    </tr>\n",
       "    <tr>\n",
       "      <th>YAL062W</th>\n",
       "      <td>0</td>\n",
       "    </tr>\n",
       "  </tbody>\n",
       "</table>\n",
       "</div>"
      ],
      "text/plain": [
       "dataset_id   480\n",
       "data_type  value\n",
       "orf             \n",
       "YAL068C        0\n",
       "YAL067C        0\n",
       "YAL066W        0\n",
       "YAL065C        0\n",
       "YAL062W        0"
      ]
     },
     "execution_count": 43,
     "metadata": {},
     "output_type": "execute_result"
    }
   ],
   "source": [
    "data.head()"
   ]
  },
  {
   "cell_type": "markdown",
   "metadata": {},
   "source": [
    "## Subset to the genes currently in SGD"
   ]
  },
  {
   "cell_type": "code",
   "execution_count": 44,
   "metadata": {},
   "outputs": [
    {
     "name": "stdout",
     "output_type": "stream",
     "text": [
      "ORFs missing from SGD: 27\n"
     ]
    }
   ],
   "source": [
    "genes = pd.read_csv(path_to_genes, sep='\\t', index_col='id')\n",
    "genes = genes.reset_index().set_index('systematic_name')\n",
    "gene_ids = genes.reindex(index=data.index.values)['id'].values\n",
    "num_missing = np.sum(np.isnan(gene_ids))\n",
    "print('ORFs missing from SGD: %d' % num_missing)"
   ]
  },
  {
   "cell_type": "code",
   "execution_count": 45,
   "metadata": {},
   "outputs": [
    {
     "data": {
      "text/html": [
       "<div>\n",
       "<style scoped>\n",
       "    .dataframe tbody tr th:only-of-type {\n",
       "        vertical-align: middle;\n",
       "    }\n",
       "\n",
       "    .dataframe tbody tr th {\n",
       "        vertical-align: top;\n",
       "    }\n",
       "\n",
       "    .dataframe thead tr th {\n",
       "        text-align: left;\n",
       "    }\n",
       "\n",
       "    .dataframe thead tr:last-of-type th {\n",
       "        text-align: right;\n",
       "    }\n",
       "</style>\n",
       "<table border=\"1\" class=\"dataframe\">\n",
       "  <thead>\n",
       "    <tr>\n",
       "      <th></th>\n",
       "      <th>dataset_id</th>\n",
       "      <th>480</th>\n",
       "    </tr>\n",
       "    <tr>\n",
       "      <th></th>\n",
       "      <th>data_type</th>\n",
       "      <th>value</th>\n",
       "    </tr>\n",
       "    <tr>\n",
       "      <th>gene_id</th>\n",
       "      <th>orf</th>\n",
       "      <th></th>\n",
       "    </tr>\n",
       "  </thead>\n",
       "  <tbody>\n",
       "    <tr>\n",
       "      <th>1869</th>\n",
       "      <th>YAL068C</th>\n",
       "      <td>0</td>\n",
       "    </tr>\n",
       "    <tr>\n",
       "      <th>61</th>\n",
       "      <th>YAL067C</th>\n",
       "      <td>0</td>\n",
       "    </tr>\n",
       "    <tr>\n",
       "      <th>60</th>\n",
       "      <th>YAL066W</th>\n",
       "      <td>0</td>\n",
       "    </tr>\n",
       "    <tr>\n",
       "      <th>1727</th>\n",
       "      <th>YAL065C</th>\n",
       "      <td>0</td>\n",
       "    </tr>\n",
       "    <tr>\n",
       "      <th>57</th>\n",
       "      <th>YAL062W</th>\n",
       "      <td>0</td>\n",
       "    </tr>\n",
       "  </tbody>\n",
       "</table>\n",
       "</div>"
      ],
      "text/plain": [
       "dataset_id        480\n",
       "data_type       value\n",
       "gene_id orf          \n",
       "1869    YAL068C     0\n",
       "61      YAL067C     0\n",
       "60      YAL066W     0\n",
       "1727    YAL065C     0\n",
       "57      YAL062W     0"
      ]
     },
     "execution_count": 45,
     "metadata": {},
     "output_type": "execute_result"
    }
   ],
   "source": [
    "data['gene_id'] = gene_ids\n",
    "data = data.loc[data['gene_id'].notnull()]\n",
    "data['gene_id'] = data['gene_id'].astype(int)\n",
    "data = data.reset_index().set_index(['gene_id','orf'])\n",
    "\n",
    "data.head()"
   ]
  },
  {
   "cell_type": "markdown",
   "metadata": {},
   "source": [
    "# Normalize"
   ]
  },
  {
   "cell_type": "code",
   "execution_count": 46,
   "metadata": {},
   "outputs": [],
   "source": [
    "data_norm = normalize_phenotypic_scores(data, has_tested=True)"
   ]
  },
  {
   "cell_type": "code",
   "execution_count": 47,
   "metadata": {},
   "outputs": [],
   "source": [
    "# Assign proper column names\n",
    "lst = [datasets.index.values, ['valuez']*datasets.shape[0]]\n",
    "tuples = list(zip(*lst))\n",
    "idx = pd.MultiIndex.from_tuples(tuples, names=['dataset_id','data_type'])\n",
    "data_norm.columns = idx"
   ]
  },
  {
   "cell_type": "code",
   "execution_count": 48,
   "metadata": {},
   "outputs": [
    {
     "data": {
      "text/html": [
       "<div>\n",
       "<style scoped>\n",
       "    .dataframe tbody tr th:only-of-type {\n",
       "        vertical-align: middle;\n",
       "    }\n",
       "\n",
       "    .dataframe tbody tr th {\n",
       "        vertical-align: top;\n",
       "    }\n",
       "\n",
       "    .dataframe thead tr th {\n",
       "        text-align: left;\n",
       "    }\n",
       "\n",
       "    .dataframe thead tr:last-of-type th {\n",
       "        text-align: right;\n",
       "    }\n",
       "</style>\n",
       "<table border=\"1\" class=\"dataframe\">\n",
       "  <thead>\n",
       "    <tr>\n",
       "      <th></th>\n",
       "      <th>dataset_id</th>\n",
       "      <th colspan=\"2\" halign=\"left\">480</th>\n",
       "    </tr>\n",
       "    <tr>\n",
       "      <th></th>\n",
       "      <th>data_type</th>\n",
       "      <th>value</th>\n",
       "      <th>valuez</th>\n",
       "    </tr>\n",
       "    <tr>\n",
       "      <th>gene_id</th>\n",
       "      <th>orf</th>\n",
       "      <th></th>\n",
       "      <th></th>\n",
       "    </tr>\n",
       "  </thead>\n",
       "  <tbody>\n",
       "    <tr>\n",
       "      <th>1869</th>\n",
       "      <th>YAL068C</th>\n",
       "      <td>0</td>\n",
       "      <td>0.068196</td>\n",
       "    </tr>\n",
       "    <tr>\n",
       "      <th>61</th>\n",
       "      <th>YAL067C</th>\n",
       "      <td>0</td>\n",
       "      <td>0.068196</td>\n",
       "    </tr>\n",
       "    <tr>\n",
       "      <th>60</th>\n",
       "      <th>YAL066W</th>\n",
       "      <td>0</td>\n",
       "      <td>0.068196</td>\n",
       "    </tr>\n",
       "    <tr>\n",
       "      <th>1727</th>\n",
       "      <th>YAL065C</th>\n",
       "      <td>0</td>\n",
       "      <td>0.068196</td>\n",
       "    </tr>\n",
       "    <tr>\n",
       "      <th>57</th>\n",
       "      <th>YAL062W</th>\n",
       "      <td>0</td>\n",
       "      <td>0.068196</td>\n",
       "    </tr>\n",
       "  </tbody>\n",
       "</table>\n",
       "</div>"
      ],
      "text/plain": [
       "dataset_id        480          \n",
       "data_type       value    valuez\n",
       "gene_id orf                    \n",
       "1869    YAL068C     0  0.068196\n",
       "61      YAL067C     0  0.068196\n",
       "60      YAL066W     0  0.068196\n",
       "1727    YAL065C     0  0.068196\n",
       "57      YAL062W     0  0.068196"
      ]
     },
     "execution_count": 48,
     "metadata": {},
     "output_type": "execute_result"
    }
   ],
   "source": [
    "data_norm[data.isnull()] = np.nan\n",
    "data_all = data.join(data_norm)\n",
    "\n",
    "data_all.head()"
   ]
  },
  {
   "cell_type": "markdown",
   "metadata": {},
   "source": [
    "# Print out"
   ]
  },
  {
   "cell_type": "code",
   "execution_count": 49,
   "metadata": {},
   "outputs": [],
   "source": [
    "for f in ['value','valuez']:\n",
    "    df = data_all.xs(f, level='data_type', axis=1).copy()\n",
    "    df.columns = datasets['name'].values\n",
    "    df = df.droplevel('gene_id', axis=0)\n",
    "    df.to_csv(paper_name + '_' + f + '.txt', sep='\\t')"
   ]
  },
  {
   "cell_type": "markdown",
   "metadata": {},
   "source": [
    "# Save to DB"
   ]
  },
  {
   "cell_type": "code",
   "execution_count": 50,
   "metadata": {},
   "outputs": [],
   "source": [
    "from IO.save_data_to_db3 import *"
   ]
  },
  {
   "cell_type": "code",
   "execution_count": 51,
   "metadata": {},
   "outputs": [
    {
     "name": "stderr",
     "output_type": "stream",
     "text": [
      "  0%|          | 0/1 [00:00<?, ?it/s]"
     ]
    },
    {
     "name": "stdout",
     "output_type": "stream",
     "text": [
      "Deleting all datasets for PMID 12871900...\n",
      "Inserting the new data...\n"
     ]
    },
    {
     "name": "stderr",
     "output_type": "stream",
     "text": [
      "100%|██████████| 1/1 [00:08<00:00,  8.79s/it]"
     ]
    },
    {
     "name": "stdout",
     "output_type": "stream",
     "text": [
      "Updating the data_modified_on field...\n"
     ]
    },
    {
     "name": "stderr",
     "output_type": "stream",
     "text": [
      "\n"
     ]
    }
   ],
   "source": [
    "save_data_to_db(data_all, paper_pmid)"
   ]
  },
  {
   "cell_type": "code",
   "execution_count": null,
   "metadata": {},
   "outputs": [],
   "source": []
  }
 ],
 "metadata": {
  "kernelspec": {
   "display_name": "yp-data",
   "language": "python",
   "name": "yp-data"
  },
  "language_info": {
   "codemirror_mode": {
    "name": "ipython",
    "version": 3
   },
   "file_extension": ".py",
   "mimetype": "text/x-python",
   "name": "python",
   "nbconvert_exporter": "python",
   "pygments_lexer": "ipython3",
   "version": "3.7.7"
  }
 },
 "nbformat": 4,
 "nbformat_minor": 4
}
