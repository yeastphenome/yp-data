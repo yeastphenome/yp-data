{
 "cells": [
  {
   "cell_type": "code",
   "execution_count": 1,
   "metadata": {},
   "outputs": [],
   "source": [
    "%run ../yp_utils.py"
   ]
  },
  {
   "cell_type": "markdown",
   "metadata": {},
   "source": [
    "# Initial setup"
   ]
  },
  {
   "cell_type": "code",
   "execution_count": 2,
   "metadata": {},
   "outputs": [],
   "source": [
    "paper_pmid = 19043571\n",
    "paper_name = 'yu_bellaoui_2008' "
   ]
  },
  {
   "cell_type": "code",
   "execution_count": 3,
   "metadata": {},
   "outputs": [],
   "source": [
    "datasets = pd.read_csv('extras/YeastPhenome_' + str(paper_pmid) + '_datasets_list.txt', sep='\\t', header=None, names=['dataset_id', 'name'])"
   ]
  },
  {
   "cell_type": "code",
   "execution_count": 4,
   "metadata": {},
   "outputs": [],
   "source": [
    "datasets.set_index('dataset_id', inplace=True)"
   ]
  },
  {
   "cell_type": "markdown",
   "metadata": {},
   "source": [
    "# Load & process the data"
   ]
  },
  {
   "cell_type": "code",
   "execution_count": 6,
   "metadata": {},
   "outputs": [],
   "source": [
    "original_data = pd.read_excel('raw_data/13_15_data.xlsx', sheet_name='13&15 diploid (Figure 2)')"
   ]
  },
  {
   "cell_type": "code",
   "execution_count": 7,
   "metadata": {},
   "outputs": [
    {
     "name": "stdout",
     "output_type": "stream",
     "text": [
      "Original data dimensions: 5968 x 11\n"
     ]
    }
   ],
   "source": [
    "print('Original data dimensions: %d x %d' % (original_data.shape))"
   ]
  },
  {
   "cell_type": "code",
   "execution_count": 8,
   "metadata": {},
   "outputs": [
    {
     "data": {
      "text/html": [
       "<div>\n",
       "<style scoped>\n",
       "    .dataframe tbody tr th:only-of-type {\n",
       "        vertical-align: middle;\n",
       "    }\n",
       "\n",
       "    .dataframe tbody tr th {\n",
       "        vertical-align: top;\n",
       "    }\n",
       "\n",
       "    .dataframe thead th {\n",
       "        text-align: right;\n",
       "    }\n",
       "</style>\n",
       "<table border=\"1\" class=\"dataframe\">\n",
       "  <thead>\n",
       "    <tr style=\"text-align: right;\">\n",
       "      <th></th>\n",
       "      <th>strain</th>\n",
       "      <th>Gene</th>\n",
       "      <th>z_result_nq:07_04_18_t01:cpmd13:0.98:ug/ml::::5_20:heho_05_06:YPD</th>\n",
       "      <th>z_result_nq:07_04_18_t02:cmpd15:1:ug/ml::::5_20:heho_05_06:YPD</th>\n",
       "      <th>Description</th>\n",
       "      <th>feature_qualifier</th>\n",
       "      <th>GO_process</th>\n",
       "      <th>GO_function</th>\n",
       "      <th>GO_component</th>\n",
       "      <th>essential_gene</th>\n",
       "      <th>zygosity</th>\n",
       "    </tr>\n",
       "  </thead>\n",
       "  <tbody>\n",
       "    <tr>\n",
       "      <th>0</th>\n",
       "      <td>YBL074C::chr2_1</td>\n",
       "      <td>AAR2</td>\n",
       "      <td>0.755360</td>\n",
       "      <td>-0.222357</td>\n",
       "      <td>Component of the U5 snRNP, required for splici...</td>\n",
       "      <td>Verified</td>\n",
       "      <td>assembly of spliceosomal tri-snRNP</td>\n",
       "      <td>molecular function unknown</td>\n",
       "      <td>snRNP U5</td>\n",
       "      <td>yes</td>\n",
       "      <td>het</td>\n",
       "    </tr>\n",
       "    <tr>\n",
       "      <th>1</th>\n",
       "      <td>YBR236C::chr2_4</td>\n",
       "      <td>ABD1</td>\n",
       "      <td>-0.331585</td>\n",
       "      <td>-0.787958</td>\n",
       "      <td>Methyltransferase, catalyzes the transfer of a...</td>\n",
       "      <td>Verified</td>\n",
       "      <td>mRNA capping</td>\n",
       "      <td>mRNA (guanine-N7-)-methyltransferase activity</td>\n",
       "      <td>nucleus*</td>\n",
       "      <td>yes</td>\n",
       "      <td>het</td>\n",
       "    </tr>\n",
       "    <tr>\n",
       "      <th>2</th>\n",
       "      <td>YKL112W::chr11_2</td>\n",
       "      <td>ABF1</td>\n",
       "      <td>4.563140</td>\n",
       "      <td>-0.503318</td>\n",
       "      <td>DNA binding protein with possible chromatin-re...</td>\n",
       "      <td>Verified</td>\n",
       "      <td>positive regulation of transcription from RNA ...</td>\n",
       "      <td>DNA binding*</td>\n",
       "      <td>nucleus*</td>\n",
       "      <td>yes</td>\n",
       "      <td>het</td>\n",
       "    </tr>\n",
       "    <tr>\n",
       "      <th>3</th>\n",
       "      <td>YNR016C::chr14_4</td>\n",
       "      <td>ACC1</td>\n",
       "      <td>2.058820</td>\n",
       "      <td>2.097880</td>\n",
       "      <td>Acetyl-CoA carboxylase, biotin containing enzy...</td>\n",
       "      <td>Verified</td>\n",
       "      <td>protein import into nucleus*</td>\n",
       "      <td>acetyl-CoA carboxylase activity*</td>\n",
       "      <td>mitochondrion*</td>\n",
       "      <td>yes</td>\n",
       "      <td>het</td>\n",
       "    </tr>\n",
       "    <tr>\n",
       "      <th>4</th>\n",
       "      <td>YKL192C::chr11_3</td>\n",
       "      <td>ACP1</td>\n",
       "      <td>0.507806</td>\n",
       "      <td>0.100593</td>\n",
       "      <td>Mitochondrial matrix acyl carrier protein, inv...</td>\n",
       "      <td>Verified</td>\n",
       "      <td>fatty acid biosynthetic process</td>\n",
       "      <td>acyl carrier activity</td>\n",
       "      <td>mitochondrion</td>\n",
       "      <td>yes</td>\n",
       "      <td>het</td>\n",
       "    </tr>\n",
       "  </tbody>\n",
       "</table>\n",
       "</div>"
      ],
      "text/plain": [
       "             strain  Gene  \\\n",
       "0   YBL074C::chr2_1  AAR2   \n",
       "1   YBR236C::chr2_4  ABD1   \n",
       "2  YKL112W::chr11_2  ABF1   \n",
       "3  YNR016C::chr14_4  ACC1   \n",
       "4  YKL192C::chr11_3  ACP1   \n",
       "\n",
       "   z_result_nq:07_04_18_t01:cpmd13:0.98:ug/ml::::5_20:heho_05_06:YPD  \\\n",
       "0                                           0.755360                   \n",
       "1                                          -0.331585                   \n",
       "2                                           4.563140                   \n",
       "3                                           2.058820                   \n",
       "4                                           0.507806                   \n",
       "\n",
       "   z_result_nq:07_04_18_t02:cmpd15:1:ug/ml::::5_20:heho_05_06:YPD  \\\n",
       "0                                          -0.222357                \n",
       "1                                          -0.787958                \n",
       "2                                          -0.503318                \n",
       "3                                           2.097880                \n",
       "4                                           0.100593                \n",
       "\n",
       "                                         Description feature_qualifier  \\\n",
       "0  Component of the U5 snRNP, required for splici...          Verified   \n",
       "1  Methyltransferase, catalyzes the transfer of a...          Verified   \n",
       "2  DNA binding protein with possible chromatin-re...          Verified   \n",
       "3  Acetyl-CoA carboxylase, biotin containing enzy...          Verified   \n",
       "4  Mitochondrial matrix acyl carrier protein, inv...          Verified   \n",
       "\n",
       "                                          GO_process  \\\n",
       "0                 assembly of spliceosomal tri-snRNP   \n",
       "1                                       mRNA capping   \n",
       "2  positive regulation of transcription from RNA ...   \n",
       "3                       protein import into nucleus*   \n",
       "4                    fatty acid biosynthetic process   \n",
       "\n",
       "                                     GO_function    GO_component  \\\n",
       "0                     molecular function unknown        snRNP U5   \n",
       "1  mRNA (guanine-N7-)-methyltransferase activity        nucleus*   \n",
       "2                                   DNA binding*        nucleus*   \n",
       "3               acetyl-CoA carboxylase activity*  mitochondrion*   \n",
       "4                          acyl carrier activity   mitochondrion   \n",
       "\n",
       "  essential_gene zygosity  \n",
       "0            yes      het  \n",
       "1            yes      het  \n",
       "2            yes      het  \n",
       "3            yes      het  \n",
       "4            yes      het  "
      ]
     },
     "execution_count": 8,
     "metadata": {},
     "output_type": "execute_result"
    }
   ],
   "source": [
    "original_data.head()"
   ]
  },
  {
   "cell_type": "code",
   "execution_count": 9,
   "metadata": {},
   "outputs": [],
   "source": [
    "original_data['orf'] = original_data['strain'].apply(lambda x: x.split(':')[0])"
   ]
  },
  {
   "cell_type": "code",
   "execution_count": 10,
   "metadata": {},
   "outputs": [],
   "source": [
    "# Eliminate all white spaces & capitalize\n",
    "original_data['orf'] = clean_orf(original_data['orf'])"
   ]
  },
  {
   "cell_type": "code",
   "execution_count": 11,
   "metadata": {},
   "outputs": [],
   "source": [
    "# Translate to ORFs \n",
    "original_data['orf'] = translate_sc(original_data['orf'], to='orf')"
   ]
  },
  {
   "cell_type": "code",
   "execution_count": 12,
   "metadata": {},
   "outputs": [
    {
     "name": "stdout",
     "output_type": "stream",
     "text": [
      "Empty DataFrame\n",
      "Columns: [strain, Gene, z_result_nq:07_04_18_t01:cpmd13:0.98:ug/ml::::5_20:heho_05_06:YPD, z_result_nq:07_04_18_t02:cmpd15:1:ug/ml::::5_20:heho_05_06:YPD, Description, feature_qualifier, GO_process, GO_function, GO_component, essential_gene, zygosity, orf]\n",
      "Index: []\n"
     ]
    }
   ],
   "source": [
    "# Make sure everything translated ok\n",
    "t = looks_like_orf(original_data['orf'])\n",
    "print(original_data.loc[~t,])"
   ]
  },
  {
   "cell_type": "code",
   "execution_count": 13,
   "metadata": {},
   "outputs": [],
   "source": [
    "# Split het and hom\n",
    "original_data1 = original_data.loc[original_data['zygosity']=='hom'].copy()\n",
    "original_data2 = original_data.loc[original_data['zygosity']=='het'].copy()"
   ]
  },
  {
   "cell_type": "code",
   "execution_count": 14,
   "metadata": {},
   "outputs": [],
   "source": [
    "original_data1.set_index('orf', inplace=True)\n",
    "original_data2.set_index('orf', inplace=True)"
   ]
  },
  {
   "cell_type": "code",
   "execution_count": 15,
   "metadata": {},
   "outputs": [],
   "source": [
    "data_cols = ['z_result_nq:07_04_18_t01:cpmd13:0.98:ug/ml::::5_20:heho_05_06:YPD',\n",
    "             'z_result_nq:07_04_18_t02:cmpd15:1:ug/ml::::5_20:heho_05_06:YPD']\n",
    "original_data1 = original_data1[data_cols].copy()\n",
    "original_data2 = original_data2[data_cols].copy()"
   ]
  },
  {
   "cell_type": "code",
   "execution_count": 16,
   "metadata": {},
   "outputs": [],
   "source": [
    "original_data1 = original_data1.apply(pd.to_numeric, axis=1, errors='coerce')\n",
    "original_data2 = original_data2.apply(pd.to_numeric, axis=1, errors='coerce')"
   ]
  },
  {
   "cell_type": "code",
   "execution_count": 17,
   "metadata": {},
   "outputs": [],
   "source": [
    "original_data1 = original_data1.groupby(original_data1.index).mean()\n",
    "original_data2 = original_data2.groupby(original_data2.index).mean()"
   ]
  },
  {
   "cell_type": "code",
   "execution_count": 18,
   "metadata": {},
   "outputs": [
    {
     "name": "stdout",
     "output_type": "stream",
     "text": [
      "(4716, 2)\n",
      "(1142, 2)\n"
     ]
    }
   ],
   "source": [
    "print(original_data1.shape)\n",
    "print(original_data2.shape)"
   ]
  },
  {
   "cell_type": "markdown",
   "metadata": {},
   "source": [
    "# Load (haploid)"
   ]
  },
  {
   "cell_type": "code",
   "execution_count": 19,
   "metadata": {},
   "outputs": [
    {
     "name": "stdout",
     "output_type": "stream",
     "text": [
      "Original data dimensions: 3425 x 98\n"
     ]
    }
   ],
   "source": [
    "original_data3 = pd.read_excel('raw_data/HAP compendium May 12 19 2006 including compounds 13 and 15-without badtags.xlsx', \n",
    "                               sheet_name='Sheet1')\n",
    "print('Original data dimensions: %d x %d' % (original_data3.shape))"
   ]
  },
  {
   "cell_type": "code",
   "execution_count": 21,
   "metadata": {},
   "outputs": [
    {
     "data": {
      "text/html": [
       "<div>\n",
       "<style scoped>\n",
       "    .dataframe tbody tr th:only-of-type {\n",
       "        vertical-align: middle;\n",
       "    }\n",
       "\n",
       "    .dataframe tbody tr th {\n",
       "        vertical-align: top;\n",
       "    }\n",
       "\n",
       "    .dataframe thead th {\n",
       "        text-align: right;\n",
       "    }\n",
       "</style>\n",
       "<table border=\"1\" class=\"dataframe\">\n",
       "  <thead>\n",
       "    <tr style=\"text-align: right;\">\n",
       "      <th></th>\n",
       "      <th>strain</th>\n",
       "      <th>15Cmpd</th>\n",
       "      <th>13Cmpd</th>\n",
       "      <th>Lichen 3exp2</th>\n",
       "      <th>Lichen 18exp2</th>\n",
       "      <th>Fungal 1822</th>\n",
       "      <th>Fungal 1868</th>\n",
       "      <th>Fungal 1840exp2</th>\n",
       "      <th>Fungal 1807</th>\n",
       "      <th>Fungal 1799</th>\n",
       "      <th>...</th>\n",
       "      <th>Cytochalasin A</th>\n",
       "      <th>CG4-Theopalauamide</th>\n",
       "      <th>Caspofungin</th>\n",
       "      <th>Camptothecin</th>\n",
       "      <th>Basiliskamide</th>\n",
       "      <th>192A4-Stichloroside</th>\n",
       "      <th>Agelasine E</th>\n",
       "      <th>Fluconazole</th>\n",
       "      <th>Geldanamycin</th>\n",
       "      <th>Mibefradil</th>\n",
       "    </tr>\n",
       "  </thead>\n",
       "  <tbody>\n",
       "    <tr>\n",
       "      <th>0</th>\n",
       "      <td>YER014C-A</td>\n",
       "      <td>0.000000</td>\n",
       "      <td>2.885630</td>\n",
       "      <td>0.896489</td>\n",
       "      <td>0.000000</td>\n",
       "      <td>0.000000</td>\n",
       "      <td>1.761845</td>\n",
       "      <td>2.328814</td>\n",
       "      <td>3.096375</td>\n",
       "      <td>0.589179</td>\n",
       "      <td>...</td>\n",
       "      <td>0.969175</td>\n",
       "      <td>0.000000</td>\n",
       "      <td>1.172075</td>\n",
       "      <td>1.30135</td>\n",
       "      <td>1.294775</td>\n",
       "      <td>0.000000</td>\n",
       "      <td>1.1574</td>\n",
       "      <td>0.00000</td>\n",
       "      <td>0.896950</td>\n",
       "      <td>0.0</td>\n",
       "    </tr>\n",
       "    <tr>\n",
       "      <th>1</th>\n",
       "      <td>YDR484W</td>\n",
       "      <td>0.000000</td>\n",
       "      <td>0.000000</td>\n",
       "      <td>1.228097</td>\n",
       "      <td>0.924564</td>\n",
       "      <td>0.000000</td>\n",
       "      <td>1.424993</td>\n",
       "      <td>1.057255</td>\n",
       "      <td>1.361460</td>\n",
       "      <td>0.656819</td>\n",
       "      <td>...</td>\n",
       "      <td>1.879200</td>\n",
       "      <td>0.891675</td>\n",
       "      <td>1.090725</td>\n",
       "      <td>0.00000</td>\n",
       "      <td>0.563225</td>\n",
       "      <td>1.069125</td>\n",
       "      <td>0.0000</td>\n",
       "      <td>1.17515</td>\n",
       "      <td>1.262675</td>\n",
       "      <td>0.0</td>\n",
       "    </tr>\n",
       "    <tr>\n",
       "      <th>2</th>\n",
       "      <td>YIR033W</td>\n",
       "      <td>0.000000</td>\n",
       "      <td>2.793995</td>\n",
       "      <td>0.000000</td>\n",
       "      <td>0.000000</td>\n",
       "      <td>0.000000</td>\n",
       "      <td>0.000000</td>\n",
       "      <td>0.000000</td>\n",
       "      <td>0.000000</td>\n",
       "      <td>0.000000</td>\n",
       "      <td>...</td>\n",
       "      <td>0.839300</td>\n",
       "      <td>0.000000</td>\n",
       "      <td>0.733700</td>\n",
       "      <td>0.00000</td>\n",
       "      <td>0.758825</td>\n",
       "      <td>0.000000</td>\n",
       "      <td>1.2472</td>\n",
       "      <td>0.00000</td>\n",
       "      <td>0.000000</td>\n",
       "      <td>0.0</td>\n",
       "    </tr>\n",
       "    <tr>\n",
       "      <th>3</th>\n",
       "      <td>YLR262C</td>\n",
       "      <td>0.000000</td>\n",
       "      <td>0.000000</td>\n",
       "      <td>1.279586</td>\n",
       "      <td>0.569186</td>\n",
       "      <td>0.000000</td>\n",
       "      <td>1.454935</td>\n",
       "      <td>1.295387</td>\n",
       "      <td>1.526788</td>\n",
       "      <td>0.687485</td>\n",
       "      <td>...</td>\n",
       "      <td>0.509425</td>\n",
       "      <td>0.905650</td>\n",
       "      <td>1.175000</td>\n",
       "      <td>0.00000</td>\n",
       "      <td>0.979550</td>\n",
       "      <td>0.000000</td>\n",
       "      <td>0.0000</td>\n",
       "      <td>0.00000</td>\n",
       "      <td>0.861975</td>\n",
       "      <td>0.0</td>\n",
       "    </tr>\n",
       "    <tr>\n",
       "      <th>4</th>\n",
       "      <td>YGL071W</td>\n",
       "      <td>1.176245</td>\n",
       "      <td>0.000000</td>\n",
       "      <td>0.000000</td>\n",
       "      <td>0.000000</td>\n",
       "      <td>0.802201</td>\n",
       "      <td>0.000000</td>\n",
       "      <td>0.000000</td>\n",
       "      <td>1.063624</td>\n",
       "      <td>0.000000</td>\n",
       "      <td>...</td>\n",
       "      <td>0.517300</td>\n",
       "      <td>0.680600</td>\n",
       "      <td>0.000000</td>\n",
       "      <td>0.00000</td>\n",
       "      <td>0.000000</td>\n",
       "      <td>0.000000</td>\n",
       "      <td>0.0000</td>\n",
       "      <td>0.00000</td>\n",
       "      <td>0.000000</td>\n",
       "      <td>0.0</td>\n",
       "    </tr>\n",
       "  </tbody>\n",
       "</table>\n",
       "<p>5 rows × 98 columns</p>\n",
       "</div>"
      ],
      "text/plain": [
       "      strain    15Cmpd    13Cmpd  Lichen 3exp2  Lichen 18exp2  Fungal 1822  \\\n",
       "0  YER014C-A  0.000000  2.885630      0.896489       0.000000     0.000000   \n",
       "1    YDR484W  0.000000  0.000000      1.228097       0.924564     0.000000   \n",
       "2    YIR033W  0.000000  2.793995      0.000000       0.000000     0.000000   \n",
       "3    YLR262C  0.000000  0.000000      1.279586       0.569186     0.000000   \n",
       "4    YGL071W  1.176245  0.000000      0.000000       0.000000     0.802201   \n",
       "\n",
       "   Fungal 1868  Fungal 1840exp2  Fungal 1807  Fungal 1799  ...  \\\n",
       "0     1.761845         2.328814     3.096375     0.589179  ...   \n",
       "1     1.424993         1.057255     1.361460     0.656819  ...   \n",
       "2     0.000000         0.000000     0.000000     0.000000  ...   \n",
       "3     1.454935         1.295387     1.526788     0.687485  ...   \n",
       "4     0.000000         0.000000     1.063624     0.000000  ...   \n",
       "\n",
       "   Cytochalasin A   CG4-Theopalauamide   Caspofungin   Camptothecin   \\\n",
       "0         0.969175             0.000000      1.172075        1.30135   \n",
       "1         1.879200             0.891675      1.090725        0.00000   \n",
       "2         0.839300             0.000000      0.733700        0.00000   \n",
       "3         0.509425             0.905650      1.175000        0.00000   \n",
       "4         0.517300             0.680600      0.000000        0.00000   \n",
       "\n",
       "   Basiliskamide   192A4-Stichloroside   Agelasine E   Fluconazole   \\\n",
       "0        1.294775              0.000000        1.1574       0.00000   \n",
       "1        0.563225              1.069125        0.0000       1.17515   \n",
       "2        0.758825              0.000000        1.2472       0.00000   \n",
       "3        0.979550              0.000000        0.0000       0.00000   \n",
       "4        0.000000              0.000000        0.0000       0.00000   \n",
       "\n",
       "   Geldanamycin   Mibefradil   \n",
       "0       0.896950          0.0  \n",
       "1       1.262675          0.0  \n",
       "2       0.000000          0.0  \n",
       "3       0.861975          0.0  \n",
       "4       0.000000          0.0  \n",
       "\n",
       "[5 rows x 98 columns]"
      ]
     },
     "execution_count": 21,
     "metadata": {},
     "output_type": "execute_result"
    }
   ],
   "source": [
    "original_data3.head()"
   ]
  },
  {
   "cell_type": "code",
   "execution_count": 22,
   "metadata": {},
   "outputs": [],
   "source": [
    "original_data3['orf'] = original_data3['strain'].astype(str)"
   ]
  },
  {
   "cell_type": "code",
   "execution_count": 23,
   "metadata": {},
   "outputs": [],
   "source": [
    "original_data3['orf'] = clean_orf(original_data3['orf'])"
   ]
  },
  {
   "cell_type": "code",
   "execution_count": 24,
   "metadata": {},
   "outputs": [],
   "source": [
    "original_data3['orf'] = translate_sc(original_data3['orf'], to='orf')"
   ]
  },
  {
   "cell_type": "code",
   "execution_count": 25,
   "metadata": {},
   "outputs": [
    {
     "name": "stdout",
     "output_type": "stream",
     "text": [
      "Empty DataFrame\n",
      "Columns: [strain, 15Cmpd, 13Cmpd, Lichen 3exp2, Lichen 18exp2, Fungal 1822, Fungal 1868, Fungal 1840exp2, Fungal 1807, Fungal 1799, Haloperidol , Dyclonine , Lichen 11, Lichen 5, Myriocin, Lichen 1, Concanamycin, Vulpinic acid, Valproic acid 2, Metavanadate, Propranolol 373803, Pap B old p 44K, Flufenamic acid, Fendiline, Ro peptide B, Sulfometuron methyl , MMS , Clotrimazole , Benomyl , Plumbagin , Hydroxyurea , Artemisinin , Amantadine hydrochloride , 4-Hydroxytamoxifen , Usnic acid , Sodium Azide , Nystatin , Neomycin sulfate , Caffeine , Menthol , Verrucarin , Valinomycin , Trifluoroperazine , Tamoxifen , Raloxifene , Pentamidine , Nigericin , LY-294,002 , Latrunculin B , Hydroxyethilhidrazine , Hydrogen peroxide , Hoechst , Harmine , Fenpropimorph , Emetine , Doxycycline , Cyclopiazonic acid , Clomiphene , Cisplatin , Chlorpromazine , Cerulenin , Calcium ionophore , Anisomycin , Amphotericin , Amiodarone , Alamethicin , Actinomycin , Abietic acid , Wortmannin , Staurosporine , Conine , Parthenolide , Radicicol , Mitomycin C , Trichostatin A , FK506 , Brefeldin A , U73122 , Tunicamycin , Thialysine , Rapamycin , Phenylarsine oxide , Phenantroline , Oligomycin , Nocodazole , Hygromycin B , Emodin , Desipramine , Cytochalasin A , CG4-Theopalauamide , Caspofungin , Camptothecin , Basiliskamide , 192A4-Stichloroside , Agelasine E , Fluconazole , Geldanamycin , Mibefradil , orf]\n",
      "Index: []\n",
      "\n",
      "[0 rows x 99 columns]\n"
     ]
    }
   ],
   "source": [
    "t = looks_like_orf(original_data3['orf'])\n",
    "print(original_data3.loc[~t,])"
   ]
  },
  {
   "cell_type": "code",
   "execution_count": 26,
   "metadata": {},
   "outputs": [],
   "source": [
    "original_data3.set_index('orf', inplace=True)\n",
    "original_data3 = original_data3[['13Cmpd','15Cmpd']].astype(float)"
   ]
  },
  {
   "cell_type": "code",
   "execution_count": 27,
   "metadata": {},
   "outputs": [],
   "source": [
    "original_data3 = original_data3.groupby(original_data3.index).mean()"
   ]
  },
  {
   "cell_type": "code",
   "execution_count": 28,
   "metadata": {},
   "outputs": [
    {
     "name": "stdout",
     "output_type": "stream",
     "text": [
      "(3425, 2)\n"
     ]
    }
   ],
   "source": [
    "print(original_data3.shape)"
   ]
  },
  {
   "cell_type": "markdown",
   "metadata": {},
   "source": [
    "# Merge"
   ]
  },
  {
   "cell_type": "code",
   "execution_count": 34,
   "metadata": {},
   "outputs": [],
   "source": [
    "original_data = pd.concat([original_data1,original_data2,original_data3], axis=1)"
   ]
  },
  {
   "cell_type": "code",
   "execution_count": 36,
   "metadata": {},
   "outputs": [],
   "source": [
    "# Flipping the sign on all because fitness scores are originally reported on the UNT/TRT scale\n",
    "original_data = -original_data"
   ]
  },
  {
   "cell_type": "code",
   "execution_count": 38,
   "metadata": {},
   "outputs": [],
   "source": [
    "original_data.index.name='orf'"
   ]
  },
  {
   "cell_type": "markdown",
   "metadata": {},
   "source": [
    "# Prepare the final dataset"
   ]
  },
  {
   "cell_type": "code",
   "execution_count": 40,
   "metadata": {},
   "outputs": [],
   "source": [
    "data = original_data.copy()"
   ]
  },
  {
   "cell_type": "code",
   "execution_count": 41,
   "metadata": {},
   "outputs": [],
   "source": [
    "dataset_ids = [508,4982,5007,5008,511,4983]\n",
    "datasets = datasets.reindex(index=dataset_ids)"
   ]
  },
  {
   "cell_type": "code",
   "execution_count": 42,
   "metadata": {},
   "outputs": [],
   "source": [
    "lst = [datasets.index.values, ['value']*datasets.shape[0]]\n",
    "tuples = list(zip(*lst))\n",
    "idx = pd.MultiIndex.from_tuples(tuples, names=['dataset_id','data_type'])\n",
    "data.columns = idx"
   ]
  },
  {
   "cell_type": "code",
   "execution_count": 43,
   "metadata": {},
   "outputs": [
    {
     "data": {
      "text/html": [
       "<div>\n",
       "<style scoped>\n",
       "    .dataframe tbody tr th:only-of-type {\n",
       "        vertical-align: middle;\n",
       "    }\n",
       "\n",
       "    .dataframe tbody tr th {\n",
       "        vertical-align: top;\n",
       "    }\n",
       "\n",
       "    .dataframe thead tr th {\n",
       "        text-align: left;\n",
       "    }\n",
       "\n",
       "    .dataframe thead tr:last-of-type th {\n",
       "        text-align: right;\n",
       "    }\n",
       "</style>\n",
       "<table border=\"1\" class=\"dataframe\">\n",
       "  <thead>\n",
       "    <tr>\n",
       "      <th>dataset_id</th>\n",
       "      <th>508</th>\n",
       "      <th>4982</th>\n",
       "      <th>5007</th>\n",
       "      <th>5008</th>\n",
       "      <th>511</th>\n",
       "      <th>4983</th>\n",
       "    </tr>\n",
       "    <tr>\n",
       "      <th>data_type</th>\n",
       "      <th>value</th>\n",
       "      <th>value</th>\n",
       "      <th>value</th>\n",
       "      <th>value</th>\n",
       "      <th>value</th>\n",
       "      <th>value</th>\n",
       "    </tr>\n",
       "    <tr>\n",
       "      <th>orf</th>\n",
       "      <th></th>\n",
       "      <th></th>\n",
       "      <th></th>\n",
       "      <th></th>\n",
       "      <th></th>\n",
       "      <th></th>\n",
       "    </tr>\n",
       "  </thead>\n",
       "  <tbody>\n",
       "    <tr>\n",
       "      <th>YAL002W</th>\n",
       "      <td>-0.841143</td>\n",
       "      <td>-0.746910</td>\n",
       "      <td>NaN</td>\n",
       "      <td>NaN</td>\n",
       "      <td>NaN</td>\n",
       "      <td>NaN</td>\n",
       "    </tr>\n",
       "    <tr>\n",
       "      <th>YAL004W</th>\n",
       "      <td>-1.352050</td>\n",
       "      <td>-0.824693</td>\n",
       "      <td>NaN</td>\n",
       "      <td>NaN</td>\n",
       "      <td>NaN</td>\n",
       "      <td>NaN</td>\n",
       "    </tr>\n",
       "    <tr>\n",
       "      <th>YAL005C</th>\n",
       "      <td>-1.028730</td>\n",
       "      <td>-0.114911</td>\n",
       "      <td>NaN</td>\n",
       "      <td>NaN</td>\n",
       "      <td>-0.0</td>\n",
       "      <td>-0.0</td>\n",
       "    </tr>\n",
       "    <tr>\n",
       "      <th>YAL007C</th>\n",
       "      <td>-0.990538</td>\n",
       "      <td>0.467629</td>\n",
       "      <td>NaN</td>\n",
       "      <td>NaN</td>\n",
       "      <td>-0.0</td>\n",
       "      <td>-0.0</td>\n",
       "    </tr>\n",
       "    <tr>\n",
       "      <th>YAL008W</th>\n",
       "      <td>-1.124590</td>\n",
       "      <td>0.213372</td>\n",
       "      <td>NaN</td>\n",
       "      <td>NaN</td>\n",
       "      <td>-0.0</td>\n",
       "      <td>-0.0</td>\n",
       "    </tr>\n",
       "  </tbody>\n",
       "</table>\n",
       "</div>"
      ],
      "text/plain": [
       "dataset_id      508       4982  5007  5008  511   4983\n",
       "data_type      value     value value value value value\n",
       "orf                                                   \n",
       "YAL002W    -0.841143 -0.746910   NaN   NaN   NaN   NaN\n",
       "YAL004W    -1.352050 -0.824693   NaN   NaN   NaN   NaN\n",
       "YAL005C    -1.028730 -0.114911   NaN   NaN  -0.0  -0.0\n",
       "YAL007C    -0.990538  0.467629   NaN   NaN  -0.0  -0.0\n",
       "YAL008W    -1.124590  0.213372   NaN   NaN  -0.0  -0.0"
      ]
     },
     "execution_count": 43,
     "metadata": {},
     "output_type": "execute_result"
    }
   ],
   "source": [
    "data.head()"
   ]
  },
  {
   "cell_type": "markdown",
   "metadata": {},
   "source": [
    "## Subset to the genes currently in SGD"
   ]
  },
  {
   "cell_type": "code",
   "execution_count": 44,
   "metadata": {},
   "outputs": [
    {
     "name": "stdout",
     "output_type": "stream",
     "text": [
      "ORFs missing from SGD: 24\n"
     ]
    }
   ],
   "source": [
    "genes = pd.read_csv(path_to_genes, sep='\\t', index_col='id')\n",
    "genes = genes.reset_index().set_index('systematic_name')\n",
    "gene_ids = genes.reindex(index=data.index.values)['id'].values\n",
    "num_missing = np.sum(np.isnan(gene_ids))\n",
    "print('ORFs missing from SGD: %d' % num_missing)"
   ]
  },
  {
   "cell_type": "code",
   "execution_count": 45,
   "metadata": {},
   "outputs": [
    {
     "data": {
      "text/html": [
       "<div>\n",
       "<style scoped>\n",
       "    .dataframe tbody tr th:only-of-type {\n",
       "        vertical-align: middle;\n",
       "    }\n",
       "\n",
       "    .dataframe tbody tr th {\n",
       "        vertical-align: top;\n",
       "    }\n",
       "\n",
       "    .dataframe thead tr th {\n",
       "        text-align: left;\n",
       "    }\n",
       "\n",
       "    .dataframe thead tr:last-of-type th {\n",
       "        text-align: right;\n",
       "    }\n",
       "</style>\n",
       "<table border=\"1\" class=\"dataframe\">\n",
       "  <thead>\n",
       "    <tr>\n",
       "      <th></th>\n",
       "      <th>dataset_id</th>\n",
       "      <th>508</th>\n",
       "      <th>4982</th>\n",
       "      <th>5007</th>\n",
       "      <th>5008</th>\n",
       "      <th>511</th>\n",
       "      <th>4983</th>\n",
       "    </tr>\n",
       "    <tr>\n",
       "      <th></th>\n",
       "      <th>data_type</th>\n",
       "      <th>value</th>\n",
       "      <th>value</th>\n",
       "      <th>value</th>\n",
       "      <th>value</th>\n",
       "      <th>value</th>\n",
       "      <th>value</th>\n",
       "    </tr>\n",
       "    <tr>\n",
       "      <th>gene_id</th>\n",
       "      <th>orf</th>\n",
       "      <th></th>\n",
       "      <th></th>\n",
       "      <th></th>\n",
       "      <th></th>\n",
       "      <th></th>\n",
       "      <th></th>\n",
       "    </tr>\n",
       "  </thead>\n",
       "  <tbody>\n",
       "    <tr>\n",
       "      <th>2</th>\n",
       "      <th>YAL002W</th>\n",
       "      <td>-0.841143</td>\n",
       "      <td>-0.746910</td>\n",
       "      <td>NaN</td>\n",
       "      <td>NaN</td>\n",
       "      <td>NaN</td>\n",
       "      <td>NaN</td>\n",
       "    </tr>\n",
       "    <tr>\n",
       "      <th>1863</th>\n",
       "      <th>YAL004W</th>\n",
       "      <td>-1.352050</td>\n",
       "      <td>-0.824693</td>\n",
       "      <td>NaN</td>\n",
       "      <td>NaN</td>\n",
       "      <td>NaN</td>\n",
       "      <td>NaN</td>\n",
       "    </tr>\n",
       "    <tr>\n",
       "      <th>4</th>\n",
       "      <th>YAL005C</th>\n",
       "      <td>-1.028730</td>\n",
       "      <td>-0.114911</td>\n",
       "      <td>NaN</td>\n",
       "      <td>NaN</td>\n",
       "      <td>-0.0</td>\n",
       "      <td>-0.0</td>\n",
       "    </tr>\n",
       "    <tr>\n",
       "      <th>5</th>\n",
       "      <th>YAL007C</th>\n",
       "      <td>-0.990538</td>\n",
       "      <td>0.467629</td>\n",
       "      <td>NaN</td>\n",
       "      <td>NaN</td>\n",
       "      <td>-0.0</td>\n",
       "      <td>-0.0</td>\n",
       "    </tr>\n",
       "    <tr>\n",
       "      <th>6</th>\n",
       "      <th>YAL008W</th>\n",
       "      <td>-1.124590</td>\n",
       "      <td>0.213372</td>\n",
       "      <td>NaN</td>\n",
       "      <td>NaN</td>\n",
       "      <td>-0.0</td>\n",
       "      <td>-0.0</td>\n",
       "    </tr>\n",
       "  </tbody>\n",
       "</table>\n",
       "</div>"
      ],
      "text/plain": [
       "dataset_id           508       4982  5007  5008  511   4983\n",
       "data_type           value     value value value value value\n",
       "gene_id orf                                                \n",
       "2       YAL002W -0.841143 -0.746910   NaN   NaN   NaN   NaN\n",
       "1863    YAL004W -1.352050 -0.824693   NaN   NaN   NaN   NaN\n",
       "4       YAL005C -1.028730 -0.114911   NaN   NaN  -0.0  -0.0\n",
       "5       YAL007C -0.990538  0.467629   NaN   NaN  -0.0  -0.0\n",
       "6       YAL008W -1.124590  0.213372   NaN   NaN  -0.0  -0.0"
      ]
     },
     "execution_count": 45,
     "metadata": {},
     "output_type": "execute_result"
    }
   ],
   "source": [
    "data['gene_id'] = gene_ids\n",
    "data = data.loc[data['gene_id'].notnull()]\n",
    "data['gene_id'] = data['gene_id'].astype(int)\n",
    "data = data.reset_index().set_index(['gene_id','orf'])\n",
    "\n",
    "data.head()"
   ]
  },
  {
   "cell_type": "markdown",
   "metadata": {},
   "source": [
    "# Normalize"
   ]
  },
  {
   "cell_type": "code",
   "execution_count": 46,
   "metadata": {},
   "outputs": [],
   "source": [
    "data_norm = normalize_phenotypic_scores(data, has_tested=True)"
   ]
  },
  {
   "cell_type": "code",
   "execution_count": 47,
   "metadata": {},
   "outputs": [],
   "source": [
    "# Assign proper column names\n",
    "lst = [datasets.index.values, ['valuez']*datasets.shape[0]]\n",
    "tuples = list(zip(*lst))\n",
    "idx = pd.MultiIndex.from_tuples(tuples, names=['dataset_id','data_type'])\n",
    "data_norm.columns = idx"
   ]
  },
  {
   "cell_type": "code",
   "execution_count": 48,
   "metadata": {},
   "outputs": [
    {
     "data": {
      "text/html": [
       "<div>\n",
       "<style scoped>\n",
       "    .dataframe tbody tr th:only-of-type {\n",
       "        vertical-align: middle;\n",
       "    }\n",
       "\n",
       "    .dataframe tbody tr th {\n",
       "        vertical-align: top;\n",
       "    }\n",
       "\n",
       "    .dataframe thead tr th {\n",
       "        text-align: left;\n",
       "    }\n",
       "\n",
       "    .dataframe thead tr:last-of-type th {\n",
       "        text-align: right;\n",
       "    }\n",
       "</style>\n",
       "<table border=\"1\" class=\"dataframe\">\n",
       "  <thead>\n",
       "    <tr>\n",
       "      <th></th>\n",
       "      <th>dataset_id</th>\n",
       "      <th>508</th>\n",
       "      <th>4982</th>\n",
       "      <th>5007</th>\n",
       "      <th>5008</th>\n",
       "      <th>511</th>\n",
       "      <th>4983</th>\n",
       "      <th>508</th>\n",
       "      <th>4982</th>\n",
       "      <th>5007</th>\n",
       "      <th>5008</th>\n",
       "      <th>511</th>\n",
       "      <th>4983</th>\n",
       "    </tr>\n",
       "    <tr>\n",
       "      <th></th>\n",
       "      <th>data_type</th>\n",
       "      <th>value</th>\n",
       "      <th>value</th>\n",
       "      <th>value</th>\n",
       "      <th>value</th>\n",
       "      <th>value</th>\n",
       "      <th>value</th>\n",
       "      <th>valuez</th>\n",
       "      <th>valuez</th>\n",
       "      <th>valuez</th>\n",
       "      <th>valuez</th>\n",
       "      <th>valuez</th>\n",
       "      <th>valuez</th>\n",
       "    </tr>\n",
       "    <tr>\n",
       "      <th>gene_id</th>\n",
       "      <th>orf</th>\n",
       "      <th></th>\n",
       "      <th></th>\n",
       "      <th></th>\n",
       "      <th></th>\n",
       "      <th></th>\n",
       "      <th></th>\n",
       "      <th></th>\n",
       "      <th></th>\n",
       "      <th></th>\n",
       "      <th></th>\n",
       "      <th></th>\n",
       "      <th></th>\n",
       "    </tr>\n",
       "  </thead>\n",
       "  <tbody>\n",
       "    <tr>\n",
       "      <th>2</th>\n",
       "      <th>YAL002W</th>\n",
       "      <td>-0.841143</td>\n",
       "      <td>-0.746910</td>\n",
       "      <td>NaN</td>\n",
       "      <td>NaN</td>\n",
       "      <td>NaN</td>\n",
       "      <td>NaN</td>\n",
       "      <td>-0.704143</td>\n",
       "      <td>-0.766043</td>\n",
       "      <td>NaN</td>\n",
       "      <td>NaN</td>\n",
       "      <td>NaN</td>\n",
       "      <td>NaN</td>\n",
       "    </tr>\n",
       "    <tr>\n",
       "      <th>1863</th>\n",
       "      <th>YAL004W</th>\n",
       "      <td>-1.352050</td>\n",
       "      <td>-0.824693</td>\n",
       "      <td>NaN</td>\n",
       "      <td>NaN</td>\n",
       "      <td>NaN</td>\n",
       "      <td>NaN</td>\n",
       "      <td>-1.021994</td>\n",
       "      <td>-0.824643</td>\n",
       "      <td>NaN</td>\n",
       "      <td>NaN</td>\n",
       "      <td>NaN</td>\n",
       "      <td>NaN</td>\n",
       "    </tr>\n",
       "    <tr>\n",
       "      <th>4</th>\n",
       "      <th>YAL005C</th>\n",
       "      <td>-1.028730</td>\n",
       "      <td>-0.114911</td>\n",
       "      <td>NaN</td>\n",
       "      <td>NaN</td>\n",
       "      <td>-0.0</td>\n",
       "      <td>-0.0</td>\n",
       "      <td>-0.820846</td>\n",
       "      <td>-0.289905</td>\n",
       "      <td>NaN</td>\n",
       "      <td>NaN</td>\n",
       "      <td>0.0</td>\n",
       "      <td>0.0</td>\n",
       "    </tr>\n",
       "    <tr>\n",
       "      <th>5</th>\n",
       "      <th>YAL007C</th>\n",
       "      <td>-0.990538</td>\n",
       "      <td>0.467629</td>\n",
       "      <td>NaN</td>\n",
       "      <td>NaN</td>\n",
       "      <td>-0.0</td>\n",
       "      <td>-0.0</td>\n",
       "      <td>-0.797086</td>\n",
       "      <td>0.148972</td>\n",
       "      <td>NaN</td>\n",
       "      <td>NaN</td>\n",
       "      <td>0.0</td>\n",
       "      <td>0.0</td>\n",
       "    </tr>\n",
       "    <tr>\n",
       "      <th>6</th>\n",
       "      <th>YAL008W</th>\n",
       "      <td>-1.124590</td>\n",
       "      <td>0.213372</td>\n",
       "      <td>NaN</td>\n",
       "      <td>NaN</td>\n",
       "      <td>-0.0</td>\n",
       "      <td>-0.0</td>\n",
       "      <td>-0.880484</td>\n",
       "      <td>-0.042581</td>\n",
       "      <td>NaN</td>\n",
       "      <td>NaN</td>\n",
       "      <td>0.0</td>\n",
       "      <td>0.0</td>\n",
       "    </tr>\n",
       "  </tbody>\n",
       "</table>\n",
       "</div>"
      ],
      "text/plain": [
       "dataset_id           508       4982  5007  5008  511   4983      508   \\\n",
       "data_type           value     value value value value value    valuez   \n",
       "gene_id orf                                                             \n",
       "2       YAL002W -0.841143 -0.746910   NaN   NaN   NaN   NaN -0.704143   \n",
       "1863    YAL004W -1.352050 -0.824693   NaN   NaN   NaN   NaN -1.021994   \n",
       "4       YAL005C -1.028730 -0.114911   NaN   NaN  -0.0  -0.0 -0.820846   \n",
       "5       YAL007C -0.990538  0.467629   NaN   NaN  -0.0  -0.0 -0.797086   \n",
       "6       YAL008W -1.124590  0.213372   NaN   NaN  -0.0  -0.0 -0.880484   \n",
       "\n",
       "dataset_id           4982   5007   5008   511    4983  \n",
       "data_type          valuez valuez valuez valuez valuez  \n",
       "gene_id orf                                            \n",
       "2       YAL002W -0.766043    NaN    NaN    NaN    NaN  \n",
       "1863    YAL004W -0.824643    NaN    NaN    NaN    NaN  \n",
       "4       YAL005C -0.289905    NaN    NaN    0.0    0.0  \n",
       "5       YAL007C  0.148972    NaN    NaN    0.0    0.0  \n",
       "6       YAL008W -0.042581    NaN    NaN    0.0    0.0  "
      ]
     },
     "execution_count": 48,
     "metadata": {},
     "output_type": "execute_result"
    }
   ],
   "source": [
    "data_norm[data.isnull()] = np.nan\n",
    "data_all = data.join(data_norm)\n",
    "\n",
    "data_all.head()"
   ]
  },
  {
   "cell_type": "markdown",
   "metadata": {},
   "source": [
    "# Print out"
   ]
  },
  {
   "cell_type": "code",
   "execution_count": 49,
   "metadata": {},
   "outputs": [],
   "source": [
    "for f in ['value','valuez']:\n",
    "    df = data_all.xs(f, level='data_type', axis=1).copy()\n",
    "    df.columns = datasets['name'].values\n",
    "    df = df.droplevel('gene_id', axis=0)\n",
    "    df.to_csv(paper_name + '_' + f + '.txt', sep='\\t')"
   ]
  },
  {
   "cell_type": "markdown",
   "metadata": {},
   "source": [
    "# Save to DB"
   ]
  },
  {
   "cell_type": "code",
   "execution_count": 50,
   "metadata": {},
   "outputs": [],
   "source": [
    "from IO.save_data_to_db3 import *"
   ]
  },
  {
   "cell_type": "code",
   "execution_count": 51,
   "metadata": {},
   "outputs": [
    {
     "name": "stderr",
     "output_type": "stream",
     "text": [
      "  0%|          | 0/6 [00:00<?, ?it/s]"
     ]
    },
    {
     "name": "stdout",
     "output_type": "stream",
     "text": [
      "Deleting all datasets for PMID 19043571...\n",
      "Inserting the new data...\n"
     ]
    },
    {
     "name": "stderr",
     "output_type": "stream",
     "text": [
      "100%|██████████| 6/6 [00:45<00:00,  7.61s/it]"
     ]
    },
    {
     "name": "stdout",
     "output_type": "stream",
     "text": [
      "Updating the data_modified_on field...\n"
     ]
    },
    {
     "name": "stderr",
     "output_type": "stream",
     "text": [
      "\n"
     ]
    }
   ],
   "source": [
    "save_data_to_db(data_all, paper_pmid)"
   ]
  },
  {
   "cell_type": "code",
   "execution_count": null,
   "metadata": {},
   "outputs": [],
   "source": []
  }
 ],
 "metadata": {
  "kernelspec": {
   "display_name": "yp-data",
   "language": "python",
   "name": "yp-data"
  },
  "language_info": {
   "codemirror_mode": {
    "name": "ipython",
    "version": 3
   },
   "file_extension": ".py",
   "mimetype": "text/x-python",
   "name": "python",
   "nbconvert_exporter": "python",
   "pygments_lexer": "ipython3",
   "version": "3.7.7"
  }
 },
 "nbformat": 4,
 "nbformat_minor": 4
}
