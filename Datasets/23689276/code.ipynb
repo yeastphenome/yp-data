{
 "cells": [
  {
   "cell_type": "code",
   "execution_count": 1,
   "metadata": {},
   "outputs": [],
   "source": [
    "import numpy as np\n",
    "import pandas as pd\n",
    "\n",
    "import sys\n",
    "\n",
    "from os.path import expanduser\n",
    "sys.path.append(expanduser('~') + '/Lab/Utils/Python/')\n",
    "\n",
    "from Conversions.translate import *\n",
    "from Strings.is_a import *"
   ]
  },
  {
   "cell_type": "markdown",
   "metadata": {},
   "source": [
    "# Initial setup"
   ]
  },
  {
   "cell_type": "code",
   "execution_count": 2,
   "metadata": {},
   "outputs": [],
   "source": [
    "paper_pmid = 23689276\n",
    "paper_name = 'bowie_fyles_2013' "
   ]
  },
  {
   "cell_type": "code",
   "execution_count": 3,
   "metadata": {},
   "outputs": [],
   "source": [
    "datasets = pd.read_csv('extras/YeastPhenome_' + str(paper_pmid) + '_datasets_list.txt', sep='\\t', header=None, names=['pmid', 'name'])"
   ]
  },
  {
   "cell_type": "code",
   "execution_count": 4,
   "metadata": {},
   "outputs": [],
   "source": [
    "datasets.set_index('pmid', inplace=True)"
   ]
  },
  {
   "cell_type": "markdown",
   "metadata": {},
   "source": [
    "# Load & process the data"
   ]
  },
  {
   "cell_type": "code",
   "execution_count": 12,
   "metadata": {},
   "outputs": [],
   "source": [
    "original_data1 = pd.read_excel('raw_data/c3ob40593a.xlsx', sheet_name='Table S1', skiprows=2)\n",
    "original_data2 = pd.read_excel('raw_data/c3ob40593a.xlsx', sheet_name='Table S2', skiprows=2)"
   ]
  },
  {
   "cell_type": "code",
   "execution_count": 9,
   "metadata": {},
   "outputs": [
    {
     "name": "stdout",
     "output_type": "stream",
     "text": [
      "Original data dimensions: 6144 x 13\n"
     ]
    }
   ],
   "source": [
    "print('Original data dimensions: %d x %d' % (original_data1.shape))"
   ]
  },
  {
   "cell_type": "code",
   "execution_count": 13,
   "metadata": {},
   "outputs": [],
   "source": [
    "original_data1['Orf'] = original_data1['Orf'].astype(str)\n",
    "original_data2['Orf'] = original_data2['Orf'].astype(str)"
   ]
  },
  {
   "cell_type": "code",
   "execution_count": 14,
   "metadata": {},
   "outputs": [],
   "source": [
    "# Eliminate all white spaces & capitalize\n",
    "original_data1['Orf'] = clean_orf(original_data1['Orf'])\n",
    "original_data2['Orf'] = clean_orf(original_data2['Orf'])"
   ]
  },
  {
   "cell_type": "code",
   "execution_count": 15,
   "metadata": {},
   "outputs": [],
   "source": [
    "# Translate to ORFs \n",
    "original_data1['Orf'] = translate_sc(original_data1['Orf'], to='orf')\n",
    "original_data2['Orf'] = translate_sc(original_data2['Orf'], to='orf')"
   ]
  },
  {
   "cell_type": "code",
   "execution_count": 17,
   "metadata": {},
   "outputs": [
    {
     "name": "stdout",
     "output_type": "stream",
     "text": [
      "             P   R   C        Orf       Gene  Info Ignore?  SL  SR  Hits  \\\n",
      "index_input                                                                \n",
      "5516         4  28  44  UNDEFINED  undefined  INFO       N   3   0     3   \n",
      "5522         4  15  28  UNDEFINED  undefined  INFO       N   2   0     2   \n",
      "5523         4  23  47  UNDEFINED  undefined  INFO       N   2   0     2   \n",
      "5524         4  27  44  UNDEFINED  undefined  INFO       N   2   0     2   \n",
      "5525         4  27  48  UNDEFINED  undefined  INFO       N   2   0     2   \n",
      "...         ..  ..  ..        ...        ...   ...     ...  ..  ..   ...   \n",
      "6139         4  32  36  UNDEFINED  undefined  INFO       N   0   0     0   \n",
      "6140         4  32  39  UNDEFINED  undefined  INFO       N   0   0     0   \n",
      "6141         4  32  40  UNDEFINED  undefined  INFO       N   0   0     0   \n",
      "6142         4  32  47  UNDEFINED  undefined  INFO       N   0   0     0   \n",
      "6143         4  32  48  UNDEFINED  undefined  INFO       N   0   0     0   \n",
      "\n",
      "            Ratio s.d.  p-value  \n",
      "index_input                      \n",
      "5516          NaN  NaN      NaN  \n",
      "5522          NaN  NaN      NaN  \n",
      "5523          NaN  NaN      NaN  \n",
      "5524          NaN  NaN      NaN  \n",
      "5525          NaN  NaN      NaN  \n",
      "...           ...  ...      ...  \n",
      "6139          NaN  NaN      NaN  \n",
      "6140          NaN  NaN      NaN  \n",
      "6141          NaN  NaN      NaN  \n",
      "6142          NaN  NaN      NaN  \n",
      "6143          NaN  NaN      NaN  \n",
      "\n",
      "[245 rows x 13 columns]\n"
     ]
    }
   ],
   "source": [
    "# Make sure everything translated ok\n",
    "t = looks_like_orf(original_data1['Orf'])\n",
    "print(original_data1.loc[~t,])"
   ]
  },
  {
   "cell_type": "code",
   "execution_count": 18,
   "metadata": {},
   "outputs": [],
   "source": [
    "original_data1 = original_data1.loc[t,:]"
   ]
  },
  {
   "cell_type": "code",
   "execution_count": 19,
   "metadata": {},
   "outputs": [
    {
     "name": "stdout",
     "output_type": "stream",
     "text": [
      "             P   R   C        Orf       Gene  Info Ignore?  SL  SR  Hits  \\\n",
      "index_input                                                                \n",
      "5693         1   1  18  UNDEFINED  undefined  INFO       N   1   0     0   \n",
      "5704         4  23  28  UNDEFINED  undefined  INFO       N   1   0     0   \n",
      "5705         4  24   4  UNDEFINED  undefined  INFO       N   1   0     0   \n",
      "5706         4  24  28  UNDEFINED  undefined  INFO       N   1   0     0   \n",
      "5707         4  29  38  UNDEFINED  undefined  INFO       N   1   0     0   \n",
      "...         ..  ..  ..        ...        ...   ...     ...  ..  ..   ...   \n",
      "6137         4  32  40  UNDEFINED  undefined  INFO       N   0   0     0   \n",
      "6140         4  32  43  UNDEFINED  undefined  INFO       N   0   0     0   \n",
      "6141         4  32  44  UNDEFINED  undefined  INFO       N   0   0     0   \n",
      "6142         4  32  47  UNDEFINED  undefined  INFO       N   0   0     0   \n",
      "6143         4  32  48  UNDEFINED  undefined  INFO       N   0   0     0   \n",
      "\n",
      "            Ratio s.d.  p-value  \n",
      "index_input                      \n",
      "5693          NaN  NaN      NaN  \n",
      "5704          NaN  NaN      NaN  \n",
      "5705          NaN  NaN      NaN  \n",
      "5706          NaN  NaN      NaN  \n",
      "5707          NaN  NaN      NaN  \n",
      "...           ...  ...      ...  \n",
      "6137          NaN  NaN      NaN  \n",
      "6140          NaN  NaN      NaN  \n",
      "6141          NaN  NaN      NaN  \n",
      "6142          NaN  NaN      NaN  \n",
      "6143          NaN  NaN      NaN  \n",
      "\n",
      "[245 rows x 13 columns]\n"
     ]
    }
   ],
   "source": [
    "# Make sure everything translated ok\n",
    "t = looks_like_orf(original_data2['Orf'])\n",
    "print(original_data2.loc[~t,])"
   ]
  },
  {
   "cell_type": "code",
   "execution_count": 20,
   "metadata": {},
   "outputs": [],
   "source": [
    "original_data2 = original_data2.loc[t,:]"
   ]
  },
  {
   "cell_type": "code",
   "execution_count": 21,
   "metadata": {},
   "outputs": [],
   "source": [
    "original_data1.set_index('Orf', inplace=True)\n",
    "original_data2.set_index('Orf', inplace=True)"
   ]
  },
  {
   "cell_type": "code",
   "execution_count": 24,
   "metadata": {},
   "outputs": [],
   "source": [
    "data = original_data1['Ratio'].to_frame().join(original_data2['Ratio'].to_frame(), lsuffix='_1', rsuffix='_2')"
   ]
  },
  {
   "cell_type": "code",
   "execution_count": 25,
   "metadata": {},
   "outputs": [
    {
     "data": {
      "text/html": [
       "<div>\n",
       "<style scoped>\n",
       "    .dataframe tbody tr th:only-of-type {\n",
       "        vertical-align: middle;\n",
       "    }\n",
       "\n",
       "    .dataframe tbody tr th {\n",
       "        vertical-align: top;\n",
       "    }\n",
       "\n",
       "    .dataframe thead th {\n",
       "        text-align: right;\n",
       "    }\n",
       "</style>\n",
       "<table border=\"1\" class=\"dataframe\">\n",
       "  <thead>\n",
       "    <tr style=\"text-align: right;\">\n",
       "      <th></th>\n",
       "      <th>Ratio_1</th>\n",
       "      <th>Ratio_2</th>\n",
       "    </tr>\n",
       "    <tr>\n",
       "      <th>Orf</th>\n",
       "      <th></th>\n",
       "      <th></th>\n",
       "    </tr>\n",
       "  </thead>\n",
       "  <tbody>\n",
       "    <tr>\n",
       "      <th>YAL002W</th>\n",
       "      <td>1.11361</td>\n",
       "      <td>1.03978</td>\n",
       "    </tr>\n",
       "    <tr>\n",
       "      <th>YAL004W</th>\n",
       "      <td>0.96741</td>\n",
       "      <td>0.949484</td>\n",
       "    </tr>\n",
       "    <tr>\n",
       "      <th>YAL005C</th>\n",
       "      <td>1.07586</td>\n",
       "      <td>0.940879</td>\n",
       "    </tr>\n",
       "    <tr>\n",
       "      <th>YAL007C</th>\n",
       "      <td>1.0699</td>\n",
       "      <td>1.03287</td>\n",
       "    </tr>\n",
       "    <tr>\n",
       "      <th>YAL008W</th>\n",
       "      <td>0.999591</td>\n",
       "      <td>1.00335</td>\n",
       "    </tr>\n",
       "  </tbody>\n",
       "</table>\n",
       "</div>"
      ],
      "text/plain": [
       "          Ratio_1   Ratio_2\n",
       "Orf                        \n",
       "YAL002W   1.11361   1.03978\n",
       "YAL004W   0.96741  0.949484\n",
       "YAL005C   1.07586  0.940879\n",
       "YAL007C    1.0699   1.03287\n",
       "YAL008W  0.999591   1.00335"
      ]
     },
     "execution_count": 25,
     "metadata": {},
     "output_type": "execute_result"
    }
   ],
   "source": [
    "data.head()"
   ]
  },
  {
   "cell_type": "markdown",
   "metadata": {},
   "source": [
    "# Prepare the final dataset"
   ]
  },
  {
   "cell_type": "code",
   "execution_count": 26,
   "metadata": {},
   "outputs": [],
   "source": [
    "dataset_ids = [16557, 16558]"
   ]
  },
  {
   "cell_type": "code",
   "execution_count": 27,
   "metadata": {},
   "outputs": [],
   "source": [
    "datasets = datasets.reindex(index=dataset_ids)"
   ]
  },
  {
   "cell_type": "code",
   "execution_count": 28,
   "metadata": {},
   "outputs": [],
   "source": [
    "data.columns = datasets['name'].values"
   ]
  },
  {
   "cell_type": "code",
   "execution_count": 33,
   "metadata": {},
   "outputs": [],
   "source": [
    "for c in data.columns:\n",
    "    data[c] = pd.to_numeric(data[c], errors='coerce')"
   ]
  },
  {
   "cell_type": "code",
   "execution_count": 34,
   "metadata": {},
   "outputs": [],
   "source": [
    "data = data.groupby(data.index).mean()"
   ]
  },
  {
   "cell_type": "code",
   "execution_count": 35,
   "metadata": {},
   "outputs": [],
   "source": [
    "# Create row index\n",
    "data.index.name='orf'"
   ]
  },
  {
   "cell_type": "code",
   "execution_count": 36,
   "metadata": {},
   "outputs": [
    {
     "name": "stdout",
     "output_type": "stream",
     "text": [
      "Final data dimensions: 4765 x 2\n"
     ]
    }
   ],
   "source": [
    "print('Final data dimensions: %d x %d' % (data.shape))"
   ]
  },
  {
   "cell_type": "code",
   "execution_count": 37,
   "metadata": {},
   "outputs": [
    {
     "data": {
      "text/html": [
       "<div>\n",
       "<style scoped>\n",
       "    .dataframe tbody tr th:only-of-type {\n",
       "        vertical-align: middle;\n",
       "    }\n",
       "\n",
       "    .dataframe tbody tr th {\n",
       "        vertical-align: top;\n",
       "    }\n",
       "\n",
       "    .dataframe thead th {\n",
       "        text-align: right;\n",
       "    }\n",
       "</style>\n",
       "<table border=\"1\" class=\"dataframe\">\n",
       "  <thead>\n",
       "    <tr style=\"text-align: right;\">\n",
       "      <th></th>\n",
       "      <th>hap a | growth (colony size) | N-Butyl-N′-decylguanidinium chloride [30 uM] | YPD + MeOH [1%] | Bowie D~Fyles TM, 2013</th>\n",
       "      <th>hap a | growth (colony size) | N-hexyl-N′-(3-hydroxypropyl)-N′′-octylguanidinium chloride [100 uM] | YPD + MeOH [1%] | Bowie D~Fyles TM, 2013</th>\n",
       "    </tr>\n",
       "    <tr>\n",
       "      <th>orf</th>\n",
       "      <th></th>\n",
       "      <th></th>\n",
       "    </tr>\n",
       "  </thead>\n",
       "  <tbody>\n",
       "    <tr>\n",
       "      <th>YAL002W</th>\n",
       "      <td>1.113614</td>\n",
       "      <td>1.039779</td>\n",
       "    </tr>\n",
       "    <tr>\n",
       "      <th>YAL004W</th>\n",
       "      <td>0.967410</td>\n",
       "      <td>0.949484</td>\n",
       "    </tr>\n",
       "    <tr>\n",
       "      <th>YAL005C</th>\n",
       "      <td>1.075862</td>\n",
       "      <td>0.940879</td>\n",
       "    </tr>\n",
       "    <tr>\n",
       "      <th>YAL007C</th>\n",
       "      <td>1.069896</td>\n",
       "      <td>1.032866</td>\n",
       "    </tr>\n",
       "    <tr>\n",
       "      <th>YAL008W</th>\n",
       "      <td>0.999591</td>\n",
       "      <td>1.003353</td>\n",
       "    </tr>\n",
       "  </tbody>\n",
       "</table>\n",
       "</div>"
      ],
      "text/plain": [
       "         hap a | growth (colony size) | N-Butyl-N′-decylguanidinium chloride [30 uM] | YPD + MeOH [1%] | Bowie D~Fyles TM, 2013  \\\n",
       "orf                                                                                                                               \n",
       "YAL002W                                           1.113614                                                                        \n",
       "YAL004W                                           0.967410                                                                        \n",
       "YAL005C                                           1.075862                                                                        \n",
       "YAL007C                                           1.069896                                                                        \n",
       "YAL008W                                           0.999591                                                                        \n",
       "\n",
       "         hap a | growth (colony size) | N-hexyl-N′-(3-hydroxypropyl)-N′′-octylguanidinium chloride [100 uM] | YPD + MeOH [1%] | Bowie D~Fyles TM, 2013  \n",
       "orf                                                                                                                                                     \n",
       "YAL002W                                           1.039779                                                                                              \n",
       "YAL004W                                           0.949484                                                                                              \n",
       "YAL005C                                           0.940879                                                                                              \n",
       "YAL007C                                           1.032866                                                                                              \n",
       "YAL008W                                           1.003353                                                                                              "
      ]
     },
     "execution_count": 37,
     "metadata": {},
     "output_type": "execute_result"
    }
   ],
   "source": [
    "data.head()"
   ]
  },
  {
   "cell_type": "markdown",
   "metadata": {},
   "source": [
    "# Print out"
   ]
  },
  {
   "cell_type": "code",
   "execution_count": 38,
   "metadata": {},
   "outputs": [],
   "source": [
    "data.to_csv(paper_name + '.txt', sep='\\t')"
   ]
  },
  {
   "cell_type": "markdown",
   "metadata": {},
   "source": [
    "# Save to DB"
   ]
  },
  {
   "cell_type": "code",
   "execution_count": 39,
   "metadata": {},
   "outputs": [],
   "source": [
    "from IO.save_data_to_db2 import *"
   ]
  },
  {
   "cell_type": "code",
   "execution_count": 40,
   "metadata": {},
   "outputs": [],
   "source": [
    "# Create column index\n",
    "lst = [datasets.index.values, datasets['name'].values]\n",
    "tuples = list(zip(*lst))\n",
    "idx = pd.MultiIndex.from_tuples(tuples, names=['dataset_id','dataset_name'])\n",
    "data.columns = idx"
   ]
  },
  {
   "cell_type": "code",
   "execution_count": 41,
   "metadata": {},
   "outputs": [],
   "source": [
    "save_data_to_db(data, paper_pmid)"
   ]
  },
  {
   "cell_type": "code",
   "execution_count": null,
   "metadata": {},
   "outputs": [],
   "source": []
  }
 ],
 "metadata": {
  "kernelspec": {
   "display_name": "yp-data",
   "language": "python",
   "name": "yp-data"
  },
  "language_info": {
   "codemirror_mode": {
    "name": "ipython",
    "version": 3
   },
   "file_extension": ".py",
   "mimetype": "text/x-python",
   "name": "python",
   "nbconvert_exporter": "python",
   "pygments_lexer": "ipython3",
   "version": "3.7.7"
  }
 },
 "nbformat": 4,
 "nbformat_minor": 4
}
