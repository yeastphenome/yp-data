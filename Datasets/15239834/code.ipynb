{
 "cells": [
  {
   "cell_type": "code",
   "execution_count": 1,
   "metadata": {},
   "outputs": [],
   "source": [
    "%run ../../Utils/yp_utils.py"
   ]
  },
  {
   "cell_type": "markdown",
   "metadata": {},
   "source": [
    "# Initial setup"
   ]
  },
  {
   "cell_type": "code",
   "execution_count": 2,
   "metadata": {},
   "outputs": [],
   "source": [
    "paper_pmid = 15239834\n",
    "paper_name = 'hartman_tippery_2004' "
   ]
  },
  {
   "cell_type": "code",
   "execution_count": 3,
   "metadata": {},
   "outputs": [],
   "source": [
    "datasets = pd.read_csv('extras/YeastPhenome_' + str(paper_pmid) + '_datasets_list.txt', sep='\\t', header=None, names=['dataset_id', 'name'])"
   ]
  },
  {
   "cell_type": "code",
   "execution_count": 4,
   "metadata": {},
   "outputs": [],
   "source": [
    "datasets.set_index('dataset_id', inplace=True)"
   ]
  },
  {
   "cell_type": "markdown",
   "metadata": {},
   "source": [
    "# Load & process the data"
   ]
  },
  {
   "cell_type": "code",
   "execution_count": 52,
   "metadata": {},
   "outputs": [],
   "source": [
    "original_data = pd.read_excel('raw_data/gb-2004-5-7-r49-s7.xlsx', sheet_name='data')"
   ]
  },
  {
   "cell_type": "code",
   "execution_count": 53,
   "metadata": {},
   "outputs": [
    {
     "name": "stdout",
     "output_type": "stream",
     "text": [
      "Original data dimensions: 5292 x 12\n"
     ]
    }
   ],
   "source": [
    "print('Original data dimensions: %d x %d' % (original_data.shape))"
   ]
  },
  {
   "cell_type": "code",
   "execution_count": 54,
   "metadata": {},
   "outputs": [
    {
     "data": {
      "text/html": [
       "<div>\n",
       "<style scoped>\n",
       "    .dataframe tbody tr th:only-of-type {\n",
       "        vertical-align: middle;\n",
       "    }\n",
       "\n",
       "    .dataframe tbody tr th {\n",
       "        vertical-align: top;\n",
       "    }\n",
       "\n",
       "    .dataframe thead th {\n",
       "        text-align: right;\n",
       "    }\n",
       "</style>\n",
       "<table border=\"1\" class=\"dataframe\">\n",
       "  <thead>\n",
       "    <tr style=\"text-align: right;\">\n",
       "      <th></th>\n",
       "      <th>Plate</th>\n",
       "      <th>Loc</th>\n",
       "      <th>ORF</th>\n",
       "      <th>SGD Gene</th>\n",
       "      <th>C AUGC</th>\n",
       "      <th>50 mM HU AUGC</th>\n",
       "      <th>150 mM HU AUGC</th>\n",
       "      <th>50 mM HU / C</th>\n",
       "      <th>150 mM HU / C</th>\n",
       "      <th>No HU- Growth Index</th>\n",
       "      <th>50mM HU Growth Index</th>\n",
       "      <th>150 mM HU Growth Index</th>\n",
       "    </tr>\n",
       "  </thead>\n",
       "  <tbody>\n",
       "    <tr>\n",
       "      <th>0</th>\n",
       "      <td>1</td>\n",
       "      <td>A01</td>\n",
       "      <td>NaN</td>\n",
       "      <td>NaN</td>\n",
       "      <td>0.000</td>\n",
       "      <td>0.000</td>\n",
       "      <td>0.000</td>\n",
       "      <td>AUGC [0] &lt;600</td>\n",
       "      <td>AUGC [0] &lt;600</td>\n",
       "      <td>NaN</td>\n",
       "      <td>AUGC [0] &lt;600</td>\n",
       "      <td>AUGC [0] &lt;600</td>\n",
       "    </tr>\n",
       "    <tr>\n",
       "      <th>1</th>\n",
       "      <td>1</td>\n",
       "      <td>A02</td>\n",
       "      <td>YAL068C</td>\n",
       "      <td>0</td>\n",
       "      <td>4003.730</td>\n",
       "      <td>3900.105</td>\n",
       "      <td>2790.225</td>\n",
       "      <td>0.974118</td>\n",
       "      <td>0.696906</td>\n",
       "      <td>-0.867974</td>\n",
       "      <td>2.0089</td>\n",
       "      <td>1.29009</td>\n",
       "    </tr>\n",
       "    <tr>\n",
       "      <th>2</th>\n",
       "      <td>1</td>\n",
       "      <td>A03</td>\n",
       "      <td>YAL067C</td>\n",
       "      <td>SEO1</td>\n",
       "      <td>3795.605</td>\n",
       "      <td>3254.830</td>\n",
       "      <td>2415.390</td>\n",
       "      <td>0.857526</td>\n",
       "      <td>0.636365</td>\n",
       "      <td>-1.713229</td>\n",
       "      <td>0.113024</td>\n",
       "      <td>0.344657</td>\n",
       "    </tr>\n",
       "    <tr>\n",
       "      <th>3</th>\n",
       "      <td>1</td>\n",
       "      <td>A04</td>\n",
       "      <td>YAL066W</td>\n",
       "      <td>NaN</td>\n",
       "      <td>3713.920</td>\n",
       "      <td>3518.945</td>\n",
       "      <td>2707.400</td>\n",
       "      <td>0.947502</td>\n",
       "      <td>0.728987</td>\n",
       "      <td>-2.044975</td>\n",
       "      <td>1.5761</td>\n",
       "      <td>1.79108</td>\n",
       "    </tr>\n",
       "    <tr>\n",
       "      <th>4</th>\n",
       "      <td>1</td>\n",
       "      <td>A05</td>\n",
       "      <td>YAL065C</td>\n",
       "      <td>0</td>\n",
       "      <td>4006.465</td>\n",
       "      <td>3661.550</td>\n",
       "      <td>2758.440</td>\n",
       "      <td>0.91391</td>\n",
       "      <td>0.688497</td>\n",
       "      <td>-0.856866</td>\n",
       "      <td>1.02988</td>\n",
       "      <td>1.15877</td>\n",
       "    </tr>\n",
       "  </tbody>\n",
       "</table>\n",
       "</div>"
      ],
      "text/plain": [
       "  Plate  Loc      ORF SGD Gene    C AUGC  50 mM HU AUGC  150 mM HU AUGC  \\\n",
       "0     1  A01      NaN      NaN     0.000          0.000           0.000   \n",
       "1     1  A02  YAL068C        0  4003.730       3900.105        2790.225   \n",
       "2     1  A03  YAL067C     SEO1  3795.605       3254.830        2415.390   \n",
       "3     1  A04  YAL066W      NaN  3713.920       3518.945        2707.400   \n",
       "4     1  A05  YAL065C        0  4006.465       3661.550        2758.440   \n",
       "\n",
       "    50 mM HU / C  150 mM HU / C  No HU- Growth Index 50mM HU Growth Index  \\\n",
       "0  AUGC [0] <600  AUGC [0] <600                  NaN        AUGC [0] <600   \n",
       "1       0.974118       0.696906            -0.867974               2.0089   \n",
       "2       0.857526       0.636365            -1.713229             0.113024   \n",
       "3       0.947502       0.728987            -2.044975               1.5761   \n",
       "4        0.91391       0.688497            -0.856866              1.02988   \n",
       "\n",
       "  150 mM HU Growth Index  \n",
       "0          AUGC [0] <600  \n",
       "1                1.29009  \n",
       "2               0.344657  \n",
       "3                1.79108  \n",
       "4                1.15877  "
      ]
     },
     "execution_count": 54,
     "metadata": {},
     "output_type": "execute_result"
    }
   ],
   "source": [
    "original_data.head()"
   ]
  },
  {
   "cell_type": "code",
   "execution_count": 55,
   "metadata": {},
   "outputs": [],
   "source": [
    "original_data['orf'] = original_data['ORF'].astype(str)"
   ]
  },
  {
   "cell_type": "code",
   "execution_count": 56,
   "metadata": {},
   "outputs": [],
   "source": [
    "# Eliminate all white spaces & capitalize\n",
    "original_data['orf'] = clean_orf(original_data['orf'])"
   ]
  },
  {
   "cell_type": "code",
   "execution_count": 57,
   "metadata": {},
   "outputs": [],
   "source": [
    "# Remove trailing \"B\" from ORFs\n",
    "original_data['orf'] = original_data['orf'].apply(lambda x: x.strip('B') if '-' not in x else x)"
   ]
  },
  {
   "cell_type": "code",
   "execution_count": 58,
   "metadata": {},
   "outputs": [],
   "source": [
    "typo_fixes = {'YJR055WC':'YJR055W','YNL089CC':'YNL089C','YNL096CC':'YNL096C','YOR298C-AB':'YOR298C-A'}\n",
    "original_data['orf'] = original_data['orf'].apply(lambda x: typo_fixes[x] if x in typo_fixes.keys() else x)"
   ]
  },
  {
   "cell_type": "code",
   "execution_count": 59,
   "metadata": {},
   "outputs": [],
   "source": [
    "# Translate to ORFs \n",
    "original_data['orf'] = translate_sc(original_data['orf'], to='orf')"
   ]
  },
  {
   "cell_type": "code",
   "execution_count": 60,
   "metadata": {},
   "outputs": [
    {
     "name": "stdout",
     "output_type": "stream",
     "text": [
      "            Plate  Loc             ORF SGD Gene      C AUGC  50 mM HU AUGC  \\\n",
      "index_input                                                                  \n",
      "0               1  A01             NaN      NaN    0.000000       0.000000   \n",
      "85              1  H02             NaN      NaN    0.000000       0.000000   \n",
      "97              2  A02             NaN      NaN  102.540000       0.000000   \n",
      "181             2  H02             NaN      NaN    0.275000       0.000000   \n",
      "194             3  A03             NaN      NaN    0.000000       0.000000   \n",
      "...           ...  ...             ...      ...         ...            ...   \n",
      "5287          NaN  NaN    both WT s.d.      NaN  246.227441     300.780129   \n",
      "5288          NaN  NaN             NaN      NaN         NaN            NaN   \n",
      "5289          NaN  NaN      WT1 % s.d.      NaN    4.560414       7.489630   \n",
      "5290          NaN  NaN      WT2 % s.d.      NaN    6.266160       8.423282   \n",
      "5291          NaN  NaN  both WT % s.d.      NaN    5.838303       8.390922   \n",
      "\n",
      "             150 mM HU AUGC   50 mM HU / C  150 mM HU / C  \\\n",
      "index_input                                                 \n",
      "0                  0.000000  AUGC [0] <600  AUGC [0] <600   \n",
      "85                 0.000000  AUGC [0] <600  AUGC [0] <600   \n",
      "97                 0.000000  AUGC [0] <600  AUGC [0] <600   \n",
      "181                0.000000  AUGC [0] <600  AUGC [0] <600   \n",
      "194                0.000000  AUGC [0] <600  AUGC [0] <600   \n",
      "...                     ...            ...            ...   \n",
      "5287             294.265066      0.0614976      0.0640354   \n",
      "5288                    NaN            NaN            NaN   \n",
      "5289               9.651185        5.48131        7.49281   \n",
      "5290              11.568237        5.53328        9.49604   \n",
      "5291              11.365832        7.23011        10.4242   \n",
      "\n",
      "             No HU- Growth Index 50mM HU Growth Index 150 mM HU Growth Index  \\\n",
      "index_input                                                                    \n",
      "0                            NaN        AUGC [0] <600          AUGC [0] <600   \n",
      "85                           NaN        AUGC [0] <600          AUGC [0] <600   \n",
      "97                           NaN        AUGC [0] <600          AUGC [0] <600   \n",
      "181                          NaN        AUGC [0] <600          AUGC [0] <600   \n",
      "194                          NaN        AUGC [0] <600          AUGC [0] <600   \n",
      "...                          ...                  ...                    ...   \n",
      "5287                         NaN                    1                      1   \n",
      "5288                         NaN                  NaN                    NaN   \n",
      "5289                         NaN                  NaN                    NaN   \n",
      "5290                         NaN                  NaN                    NaN   \n",
      "5291                         NaN                  NaN                    NaN   \n",
      "\n",
      "                 orf  \n",
      "index_input           \n",
      "0                NAN  \n",
      "85               NAN  \n",
      "97               NAN  \n",
      "181              NAN  \n",
      "194              NAN  \n",
      "...              ...  \n",
      "5287         OTHWTSD  \n",
      "5288             NAN  \n",
      "5289           WT1SD  \n",
      "5290           WT2SD  \n",
      "5291         OTHWTSD  \n",
      "\n",
      "[440 rows x 13 columns]\n"
     ]
    }
   ],
   "source": [
    "# Make sure everything translated ok\n",
    "t = looks_like_orf(original_data['orf'])\n",
    "print(original_data.loc[~t,])"
   ]
  },
  {
   "cell_type": "code",
   "execution_count": 61,
   "metadata": {},
   "outputs": [],
   "source": [
    "original_data = original_data.loc[t,:]"
   ]
  },
  {
   "cell_type": "code",
   "execution_count": 62,
   "metadata": {},
   "outputs": [],
   "source": [
    "original_data.set_index('orf', inplace=True)"
   ]
  },
  {
   "cell_type": "code",
   "execution_count": 63,
   "metadata": {},
   "outputs": [],
   "source": [
    "original_data = original_data[['No HU- Growth Index','50mM HU Growth Index','150 mM HU Growth Index']].apply(pd.to_numeric, axis=1, errors='coerce')"
   ]
  },
  {
   "cell_type": "code",
   "execution_count": 64,
   "metadata": {},
   "outputs": [],
   "source": [
    "original_data.columns = ['unt','50','150']"
   ]
  },
  {
   "cell_type": "code",
   "execution_count": 65,
   "metadata": {},
   "outputs": [],
   "source": [
    "original_data['50'] = original_data['50'] - original_data['unt']\n",
    "original_data['150'] = original_data['150'] - original_data['unt']"
   ]
  },
  {
   "cell_type": "code",
   "execution_count": 66,
   "metadata": {},
   "outputs": [],
   "source": [
    "original_data = original_data.groupby(original_data.index).mean()"
   ]
  },
  {
   "cell_type": "code",
   "execution_count": 67,
   "metadata": {},
   "outputs": [
    {
     "data": {
      "text/plain": [
       "(4757, 3)"
      ]
     },
     "execution_count": 67,
     "metadata": {},
     "output_type": "execute_result"
    }
   ],
   "source": [
    "original_data.shape"
   ]
  },
  {
   "cell_type": "markdown",
   "metadata": {},
   "source": [
    "# Prepare the final dataset"
   ]
  },
  {
   "cell_type": "code",
   "execution_count": 68,
   "metadata": {},
   "outputs": [],
   "source": [
    "data = original_data.copy()"
   ]
  },
  {
   "cell_type": "code",
   "execution_count": 69,
   "metadata": {},
   "outputs": [],
   "source": [
    "dataset_ids = [16186, 52, 53]\n",
    "datasets = datasets.reindex(index=dataset_ids)"
   ]
  },
  {
   "cell_type": "code",
   "execution_count": 70,
   "metadata": {},
   "outputs": [],
   "source": [
    "lst = [datasets.index.values, ['value']*datasets.shape[0]]\n",
    "tuples = list(zip(*lst))\n",
    "idx = pd.MultiIndex.from_tuples(tuples, names=['dataset_id','data_type'])\n",
    "data.columns = idx"
   ]
  },
  {
   "cell_type": "code",
   "execution_count": 71,
   "metadata": {},
   "outputs": [
    {
     "data": {
      "text/html": [
       "<div>\n",
       "<style scoped>\n",
       "    .dataframe tbody tr th:only-of-type {\n",
       "        vertical-align: middle;\n",
       "    }\n",
       "\n",
       "    .dataframe tbody tr th {\n",
       "        vertical-align: top;\n",
       "    }\n",
       "\n",
       "    .dataframe thead tr th {\n",
       "        text-align: left;\n",
       "    }\n",
       "\n",
       "    .dataframe thead tr:last-of-type th {\n",
       "        text-align: right;\n",
       "    }\n",
       "</style>\n",
       "<table border=\"1\" class=\"dataframe\">\n",
       "  <thead>\n",
       "    <tr>\n",
       "      <th>dataset_id</th>\n",
       "      <th>16186</th>\n",
       "      <th>52</th>\n",
       "      <th>53</th>\n",
       "    </tr>\n",
       "    <tr>\n",
       "      <th>data_type</th>\n",
       "      <th>value</th>\n",
       "      <th>value</th>\n",
       "      <th>value</th>\n",
       "    </tr>\n",
       "    <tr>\n",
       "      <th>orf</th>\n",
       "      <th></th>\n",
       "      <th></th>\n",
       "      <th></th>\n",
       "    </tr>\n",
       "  </thead>\n",
       "  <tbody>\n",
       "    <tr>\n",
       "      <th>YAL002W</th>\n",
       "      <td>0.821115</td>\n",
       "      <td>-3.522394</td>\n",
       "      <td>-3.526310</td>\n",
       "    </tr>\n",
       "    <tr>\n",
       "      <th>YAL004W</th>\n",
       "      <td>-1.221062</td>\n",
       "      <td>2.983007</td>\n",
       "      <td>2.396385</td>\n",
       "    </tr>\n",
       "    <tr>\n",
       "      <th>YAL005C</th>\n",
       "      <td>-2.463795</td>\n",
       "      <td>3.998175</td>\n",
       "      <td>2.699299</td>\n",
       "    </tr>\n",
       "    <tr>\n",
       "      <th>YAL007C</th>\n",
       "      <td>0.986876</td>\n",
       "      <td>0.703589</td>\n",
       "      <td>1.226565</td>\n",
       "    </tr>\n",
       "    <tr>\n",
       "      <th>YAL008W</th>\n",
       "      <td>-0.955474</td>\n",
       "      <td>1.601330</td>\n",
       "      <td>1.745804</td>\n",
       "    </tr>\n",
       "  </tbody>\n",
       "</table>\n",
       "</div>"
      ],
      "text/plain": [
       "dataset_id     16186     52        53   \n",
       "data_type      value     value     value\n",
       "orf                                     \n",
       "YAL002W     0.821115 -3.522394 -3.526310\n",
       "YAL004W    -1.221062  2.983007  2.396385\n",
       "YAL005C    -2.463795  3.998175  2.699299\n",
       "YAL007C     0.986876  0.703589  1.226565\n",
       "YAL008W    -0.955474  1.601330  1.745804"
      ]
     },
     "execution_count": 71,
     "metadata": {},
     "output_type": "execute_result"
    }
   ],
   "source": [
    "data.head()"
   ]
  },
  {
   "cell_type": "markdown",
   "metadata": {},
   "source": [
    "## Subset to the genes currently in SGD"
   ]
  },
  {
   "cell_type": "code",
   "execution_count": 72,
   "metadata": {},
   "outputs": [
    {
     "name": "stdout",
     "output_type": "stream",
     "text": [
      "ORFs missing from SGD: 23\n"
     ]
    }
   ],
   "source": [
    "genes = pd.read_csv(path_to_genes, sep='\\t', index_col='id')\n",
    "genes = genes.reset_index().set_index('systematic_name')\n",
    "gene_ids = genes.reindex(index=data.index.values)['id'].values\n",
    "num_missing = np.sum(np.isnan(gene_ids))\n",
    "print('ORFs missing from SGD: %d' % num_missing)"
   ]
  },
  {
   "cell_type": "code",
   "execution_count": 73,
   "metadata": {},
   "outputs": [
    {
     "data": {
      "text/html": [
       "<div>\n",
       "<style scoped>\n",
       "    .dataframe tbody tr th:only-of-type {\n",
       "        vertical-align: middle;\n",
       "    }\n",
       "\n",
       "    .dataframe tbody tr th {\n",
       "        vertical-align: top;\n",
       "    }\n",
       "\n",
       "    .dataframe thead tr th {\n",
       "        text-align: left;\n",
       "    }\n",
       "\n",
       "    .dataframe thead tr:last-of-type th {\n",
       "        text-align: right;\n",
       "    }\n",
       "</style>\n",
       "<table border=\"1\" class=\"dataframe\">\n",
       "  <thead>\n",
       "    <tr>\n",
       "      <th></th>\n",
       "      <th>dataset_id</th>\n",
       "      <th>16186</th>\n",
       "      <th>52</th>\n",
       "      <th>53</th>\n",
       "    </tr>\n",
       "    <tr>\n",
       "      <th></th>\n",
       "      <th>data_type</th>\n",
       "      <th>value</th>\n",
       "      <th>value</th>\n",
       "      <th>value</th>\n",
       "    </tr>\n",
       "    <tr>\n",
       "      <th>gene_id</th>\n",
       "      <th>orf</th>\n",
       "      <th></th>\n",
       "      <th></th>\n",
       "      <th></th>\n",
       "    </tr>\n",
       "  </thead>\n",
       "  <tbody>\n",
       "    <tr>\n",
       "      <th>2</th>\n",
       "      <th>YAL002W</th>\n",
       "      <td>0.821115</td>\n",
       "      <td>-3.522394</td>\n",
       "      <td>-3.526310</td>\n",
       "    </tr>\n",
       "    <tr>\n",
       "      <th>1863</th>\n",
       "      <th>YAL004W</th>\n",
       "      <td>-1.221062</td>\n",
       "      <td>2.983007</td>\n",
       "      <td>2.396385</td>\n",
       "    </tr>\n",
       "    <tr>\n",
       "      <th>4</th>\n",
       "      <th>YAL005C</th>\n",
       "      <td>-2.463795</td>\n",
       "      <td>3.998175</td>\n",
       "      <td>2.699299</td>\n",
       "    </tr>\n",
       "    <tr>\n",
       "      <th>5</th>\n",
       "      <th>YAL007C</th>\n",
       "      <td>0.986876</td>\n",
       "      <td>0.703589</td>\n",
       "      <td>1.226565</td>\n",
       "    </tr>\n",
       "    <tr>\n",
       "      <th>6</th>\n",
       "      <th>YAL008W</th>\n",
       "      <td>-0.955474</td>\n",
       "      <td>1.601330</td>\n",
       "      <td>1.745804</td>\n",
       "    </tr>\n",
       "  </tbody>\n",
       "</table>\n",
       "</div>"
      ],
      "text/plain": [
       "dataset_id          16186     52        53   \n",
       "data_type           value     value     value\n",
       "gene_id orf                                  \n",
       "2       YAL002W  0.821115 -3.522394 -3.526310\n",
       "1863    YAL004W -1.221062  2.983007  2.396385\n",
       "4       YAL005C -2.463795  3.998175  2.699299\n",
       "5       YAL007C  0.986876  0.703589  1.226565\n",
       "6       YAL008W -0.955474  1.601330  1.745804"
      ]
     },
     "execution_count": 73,
     "metadata": {},
     "output_type": "execute_result"
    }
   ],
   "source": [
    "data['gene_id'] = gene_ids\n",
    "data = data.loc[data['gene_id'].notnull()]\n",
    "data['gene_id'] = data['gene_id'].astype(int)\n",
    "data = data.reset_index().set_index(['gene_id','orf'])\n",
    "\n",
    "data.head()"
   ]
  },
  {
   "cell_type": "markdown",
   "metadata": {},
   "source": [
    "# Normalize"
   ]
  },
  {
   "cell_type": "code",
   "execution_count": 74,
   "metadata": {},
   "outputs": [],
   "source": [
    "data_norm = normalize_phenotypic_scores(data, has_tested=True)"
   ]
  },
  {
   "cell_type": "code",
   "execution_count": 75,
   "metadata": {},
   "outputs": [],
   "source": [
    "# Assign proper column names\n",
    "lst = [datasets.index.values, ['valuez']*datasets.shape[0]]\n",
    "tuples = list(zip(*lst))\n",
    "idx = pd.MultiIndex.from_tuples(tuples, names=['dataset_id','data_type'])\n",
    "data_norm.columns = idx"
   ]
  },
  {
   "cell_type": "code",
   "execution_count": 76,
   "metadata": {},
   "outputs": [
    {
     "data": {
      "text/html": [
       "<div>\n",
       "<style scoped>\n",
       "    .dataframe tbody tr th:only-of-type {\n",
       "        vertical-align: middle;\n",
       "    }\n",
       "\n",
       "    .dataframe tbody tr th {\n",
       "        vertical-align: top;\n",
       "    }\n",
       "\n",
       "    .dataframe thead tr th {\n",
       "        text-align: left;\n",
       "    }\n",
       "\n",
       "    .dataframe thead tr:last-of-type th {\n",
       "        text-align: right;\n",
       "    }\n",
       "</style>\n",
       "<table border=\"1\" class=\"dataframe\">\n",
       "  <thead>\n",
       "    <tr>\n",
       "      <th></th>\n",
       "      <th>dataset_id</th>\n",
       "      <th>16186</th>\n",
       "      <th>52</th>\n",
       "      <th>53</th>\n",
       "      <th>16186</th>\n",
       "      <th>52</th>\n",
       "      <th>53</th>\n",
       "    </tr>\n",
       "    <tr>\n",
       "      <th></th>\n",
       "      <th>data_type</th>\n",
       "      <th>value</th>\n",
       "      <th>value</th>\n",
       "      <th>value</th>\n",
       "      <th>valuez</th>\n",
       "      <th>valuez</th>\n",
       "      <th>valuez</th>\n",
       "    </tr>\n",
       "    <tr>\n",
       "      <th>gene_id</th>\n",
       "      <th>orf</th>\n",
       "      <th></th>\n",
       "      <th></th>\n",
       "      <th></th>\n",
       "      <th></th>\n",
       "      <th></th>\n",
       "      <th></th>\n",
       "    </tr>\n",
       "  </thead>\n",
       "  <tbody>\n",
       "    <tr>\n",
       "      <th>2</th>\n",
       "      <th>YAL002W</th>\n",
       "      <td>0.821115</td>\n",
       "      <td>-3.522394</td>\n",
       "      <td>-3.526310</td>\n",
       "      <td>0.364591</td>\n",
       "      <td>-1.057966</td>\n",
       "      <td>-1.295498</td>\n",
       "    </tr>\n",
       "    <tr>\n",
       "      <th>1863</th>\n",
       "      <th>YAL004W</th>\n",
       "      <td>-1.221062</td>\n",
       "      <td>2.983007</td>\n",
       "      <td>2.396385</td>\n",
       "      <td>-0.265152</td>\n",
       "      <td>0.758304</td>\n",
       "      <td>0.530081</td>\n",
       "    </tr>\n",
       "    <tr>\n",
       "      <th>4</th>\n",
       "      <th>YAL005C</th>\n",
       "      <td>-2.463795</td>\n",
       "      <td>3.998175</td>\n",
       "      <td>2.699299</td>\n",
       "      <td>-0.648372</td>\n",
       "      <td>1.041733</td>\n",
       "      <td>0.623449</td>\n",
       "    </tr>\n",
       "    <tr>\n",
       "      <th>5</th>\n",
       "      <th>YAL007C</th>\n",
       "      <td>0.986876</td>\n",
       "      <td>0.703589</td>\n",
       "      <td>1.226565</td>\n",
       "      <td>0.415707</td>\n",
       "      <td>0.121904</td>\n",
       "      <td>0.169502</td>\n",
       "    </tr>\n",
       "    <tr>\n",
       "      <th>6</th>\n",
       "      <th>YAL008W</th>\n",
       "      <td>-0.955474</td>\n",
       "      <td>1.601330</td>\n",
       "      <td>1.745804</td>\n",
       "      <td>-0.183253</td>\n",
       "      <td>0.372548</td>\n",
       "      <td>0.329549</td>\n",
       "    </tr>\n",
       "  </tbody>\n",
       "</table>\n",
       "</div>"
      ],
      "text/plain": [
       "dataset_id          16186     52        53        16186     52        53   \n",
       "data_type           value     value     value    valuez    valuez    valuez\n",
       "gene_id orf                                                                \n",
       "2       YAL002W  0.821115 -3.522394 -3.526310  0.364591 -1.057966 -1.295498\n",
       "1863    YAL004W -1.221062  2.983007  2.396385 -0.265152  0.758304  0.530081\n",
       "4       YAL005C -2.463795  3.998175  2.699299 -0.648372  1.041733  0.623449\n",
       "5       YAL007C  0.986876  0.703589  1.226565  0.415707  0.121904  0.169502\n",
       "6       YAL008W -0.955474  1.601330  1.745804 -0.183253  0.372548  0.329549"
      ]
     },
     "execution_count": 76,
     "metadata": {},
     "output_type": "execute_result"
    }
   ],
   "source": [
    "data_norm[data.isnull()] = np.nan\n",
    "data_all = data.join(data_norm)\n",
    "\n",
    "data_all.head()"
   ]
  },
  {
   "cell_type": "markdown",
   "metadata": {},
   "source": [
    "# Print out"
   ]
  },
  {
   "cell_type": "code",
   "execution_count": 77,
   "metadata": {},
   "outputs": [],
   "source": [
    "for f in ['value','valuez']:\n",
    "    df = data_all.xs(f, level='data_type', axis=1).copy()\n",
    "    df.columns = datasets['name'].values\n",
    "    df = df.droplevel('gene_id', axis=0)\n",
    "    df.to_csv(paper_name + '_' + f + '.txt', sep='\\t')"
   ]
  },
  {
   "cell_type": "markdown",
   "metadata": {},
   "source": [
    "# Save to DB"
   ]
  },
  {
   "cell_type": "code",
   "execution_count": 78,
   "metadata": {},
   "outputs": [],
   "source": [
    "from IO.save_data_to_db3 import *"
   ]
  },
  {
   "cell_type": "code",
   "execution_count": 79,
   "metadata": {},
   "outputs": [
    {
     "name": "stderr",
     "output_type": "stream",
     "text": [
      "  0%|          | 0/3 [00:00<?, ?it/s]"
     ]
    },
    {
     "name": "stdout",
     "output_type": "stream",
     "text": [
      "Deleting all datasets for PMID 15239834...\n",
      "Inserting the new data...\n"
     ]
    },
    {
     "name": "stderr",
     "output_type": "stream",
     "text": [
      "100%|██████████| 3/3 [00:21<00:00,  7.04s/it]"
     ]
    },
    {
     "name": "stdout",
     "output_type": "stream",
     "text": [
      "Updating the data_modified_on field...\n"
     ]
    },
    {
     "name": "stderr",
     "output_type": "stream",
     "text": [
      "\n"
     ]
    }
   ],
   "source": [
    "save_data_to_db(data_all, paper_pmid)"
   ]
  },
  {
   "cell_type": "code",
   "execution_count": null,
   "metadata": {},
   "outputs": [],
   "source": []
  }
 ],
 "metadata": {
  "kernelspec": {
   "display_name": "yp-data",
   "language": "python",
   "name": "yp-data"
  },
  "language_info": {
   "codemirror_mode": {
    "name": "ipython",
    "version": 3
   },
   "file_extension": ".py",
   "mimetype": "text/x-python",
   "name": "python",
   "nbconvert_exporter": "python",
   "pygments_lexer": "ipython3",
   "version": "3.7.7"
  }
 },
 "nbformat": 4,
 "nbformat_minor": 4
}
