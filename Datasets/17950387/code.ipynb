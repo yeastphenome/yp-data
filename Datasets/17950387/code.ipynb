{
 "cells": [
  {
   "cell_type": "code",
   "execution_count": 1,
   "metadata": {},
   "outputs": [],
   "source": [
    "%run ../yp_utils.py"
   ]
  },
  {
   "cell_type": "markdown",
   "metadata": {},
   "source": [
    "# Initial setup"
   ]
  },
  {
   "cell_type": "code",
   "execution_count": 2,
   "metadata": {},
   "outputs": [],
   "source": [
    "paper_pmid = 17950387\n",
    "paper_name = 'galvan_smith_2008' "
   ]
  },
  {
   "cell_type": "code",
   "execution_count": 3,
   "metadata": {},
   "outputs": [],
   "source": [
    "datasets = pd.read_csv('extras/YeastPhenome_' + str(paper_pmid) + '_datasets_list.txt', sep='\\t', header=None, names=['dataset_id', 'name'])"
   ]
  },
  {
   "cell_type": "code",
   "execution_count": 4,
   "metadata": {},
   "outputs": [],
   "source": [
    "datasets.set_index('dataset_id', inplace=True)"
   ]
  },
  {
   "cell_type": "markdown",
   "metadata": {},
   "source": [
    "# Load & process the data"
   ]
  },
  {
   "cell_type": "code",
   "execution_count": 5,
   "metadata": {},
   "outputs": [],
   "source": [
    "original_data = pd.read_excel('raw_data/IMELDA 08Feb2006GDAraw data.xls', sheet_name='Sheet1')"
   ]
  },
  {
   "cell_type": "code",
   "execution_count": 6,
   "metadata": {},
   "outputs": [
    {
     "name": "stdout",
     "output_type": "stream",
     "text": [
      "Original data dimensions: 6144 x 13\n"
     ]
    }
   ],
   "source": [
    "print('Original data dimensions: %d x %d' % (original_data.shape))"
   ]
  },
  {
   "cell_type": "code",
   "execution_count": 7,
   "metadata": {},
   "outputs": [
    {
     "data": {
      "text/html": [
       "<div>\n",
       "<style scoped>\n",
       "    .dataframe tbody tr th:only-of-type {\n",
       "        vertical-align: middle;\n",
       "    }\n",
       "\n",
       "    .dataframe tbody tr th {\n",
       "        vertical-align: top;\n",
       "    }\n",
       "\n",
       "    .dataframe thead th {\n",
       "        text-align: right;\n",
       "    }\n",
       "</style>\n",
       "<table border=\"1\" class=\"dataframe\">\n",
       "  <thead>\n",
       "    <tr style=\"text-align: right;\">\n",
       "      <th></th>\n",
       "      <th>Plate Number</th>\n",
       "      <th>Plate X</th>\n",
       "      <th>Plate Y</th>\n",
       "      <th>Area CON</th>\n",
       "      <th>Deviation CON</th>\n",
       "      <th>Area TEST</th>\n",
       "      <th>Deviation TEST</th>\n",
       "      <th>Area Difference ( CON - TEST )</th>\n",
       "      <th>Percentage of reduction</th>\n",
       "      <th>CON Normalized</th>\n",
       "      <th>TEST Normalized</th>\n",
       "      <th>Normalized Difference</th>\n",
       "      <th>Percentage</th>\n",
       "    </tr>\n",
       "  </thead>\n",
       "  <tbody>\n",
       "    <tr>\n",
       "      <th>0</th>\n",
       "      <td>1</td>\n",
       "      <td>1</td>\n",
       "      <td>1</td>\n",
       "      <td>347</td>\n",
       "      <td>-85.474</td>\n",
       "      <td>411</td>\n",
       "      <td>159.57</td>\n",
       "      <td>-64</td>\n",
       "      <td>-18.4440</td>\n",
       "      <td>0.80236</td>\n",
       "      <td>1.6347</td>\n",
       "      <td>-0.83229</td>\n",
       "      <td>-83.229</td>\n",
       "    </tr>\n",
       "    <tr>\n",
       "      <th>1</th>\n",
       "      <td>1</td>\n",
       "      <td>1</td>\n",
       "      <td>2</td>\n",
       "      <td>527</td>\n",
       "      <td>94.526</td>\n",
       "      <td>627</td>\n",
       "      <td>375.57</td>\n",
       "      <td>-100</td>\n",
       "      <td>-18.9750</td>\n",
       "      <td>1.21860</td>\n",
       "      <td>2.4937</td>\n",
       "      <td>-1.27520</td>\n",
       "      <td>-127.520</td>\n",
       "    </tr>\n",
       "    <tr>\n",
       "      <th>2</th>\n",
       "      <td>1</td>\n",
       "      <td>1</td>\n",
       "      <td>3</td>\n",
       "      <td>418</td>\n",
       "      <td>-14.474</td>\n",
       "      <td>480</td>\n",
       "      <td>228.57</td>\n",
       "      <td>-62</td>\n",
       "      <td>-14.8330</td>\n",
       "      <td>0.96653</td>\n",
       "      <td>1.9091</td>\n",
       "      <td>-0.94255</td>\n",
       "      <td>-94.255</td>\n",
       "    </tr>\n",
       "    <tr>\n",
       "      <th>3</th>\n",
       "      <td>1</td>\n",
       "      <td>1</td>\n",
       "      <td>4</td>\n",
       "      <td>630</td>\n",
       "      <td>197.530</td>\n",
       "      <td>647</td>\n",
       "      <td>395.57</td>\n",
       "      <td>-17</td>\n",
       "      <td>-2.6984</td>\n",
       "      <td>1.45670</td>\n",
       "      <td>2.5733</td>\n",
       "      <td>-1.11660</td>\n",
       "      <td>-111.660</td>\n",
       "    </tr>\n",
       "    <tr>\n",
       "      <th>4</th>\n",
       "      <td>1</td>\n",
       "      <td>1</td>\n",
       "      <td>5</td>\n",
       "      <td>603</td>\n",
       "      <td>170.530</td>\n",
       "      <td>533</td>\n",
       "      <td>281.57</td>\n",
       "      <td>70</td>\n",
       "      <td>11.6090</td>\n",
       "      <td>1.39430</td>\n",
       "      <td>2.1199</td>\n",
       "      <td>-0.72558</td>\n",
       "      <td>-72.558</td>\n",
       "    </tr>\n",
       "  </tbody>\n",
       "</table>\n",
       "</div>"
      ],
      "text/plain": [
       "   Plate Number  Plate X  Plate Y  Area CON  Deviation CON  Area TEST  \\\n",
       "0             1        1        1       347        -85.474        411   \n",
       "1             1        1        2       527         94.526        627   \n",
       "2             1        1        3       418        -14.474        480   \n",
       "3             1        1        4       630        197.530        647   \n",
       "4             1        1        5       603        170.530        533   \n",
       "\n",
       "   Deviation TEST  Area Difference ( CON - TEST )  Percentage of reduction  \\\n",
       "0          159.57                             -64                 -18.4440   \n",
       "1          375.57                            -100                 -18.9750   \n",
       "2          228.57                             -62                 -14.8330   \n",
       "3          395.57                             -17                  -2.6984   \n",
       "4          281.57                              70                  11.6090   \n",
       "\n",
       "   CON Normalized  TEST Normalized  Normalized Difference  Percentage  \n",
       "0         0.80236           1.6347               -0.83229     -83.229  \n",
       "1         1.21860           2.4937               -1.27520    -127.520  \n",
       "2         0.96653           1.9091               -0.94255     -94.255  \n",
       "3         1.45670           2.5733               -1.11660    -111.660  \n",
       "4         1.39430           2.1199               -0.72558     -72.558  "
      ]
     },
     "execution_count": 7,
     "metadata": {},
     "output_type": "execute_result"
    }
   ],
   "source": [
    "original_data.head()"
   ]
  },
  {
   "cell_type": "code",
   "execution_count": 8,
   "metadata": {},
   "outputs": [],
   "source": [
    "# Load plate maps\n",
    "pm = pd.read_excel('raw_data/yGDA-Master_Plate_list_Combined(New).xlsx', sheet_name='Sheet1')"
   ]
  },
  {
   "cell_type": "code",
   "execution_count": 11,
   "metadata": {},
   "outputs": [],
   "source": [
    "pm.set_index(['Plate Number','Plate X','Plate Y'], inplace=True)"
   ]
  },
  {
   "cell_type": "code",
   "execution_count": 12,
   "metadata": {},
   "outputs": [],
   "source": [
    "original_data.set_index(['Plate Number','Plate X','Plate Y'], inplace=True)"
   ]
  },
  {
   "cell_type": "code",
   "execution_count": 13,
   "metadata": {},
   "outputs": [],
   "source": [
    "original_data = original_data.join(pm, how='left')"
   ]
  },
  {
   "cell_type": "code",
   "execution_count": 15,
   "metadata": {},
   "outputs": [],
   "source": [
    "original_data['orf'] = original_data['Systematic Name'].astype(str)"
   ]
  },
  {
   "cell_type": "code",
   "execution_count": 16,
   "metadata": {},
   "outputs": [],
   "source": [
    "# Eliminate all white spaces & capitalize\n",
    "original_data['orf'] = clean_orf(original_data['orf'])"
   ]
  },
  {
   "cell_type": "code",
   "execution_count": 21,
   "metadata": {},
   "outputs": [],
   "source": [
    "original_data.loc[original_data['orf']=='YPL072WA','orf'] = 'YPL072W'"
   ]
  },
  {
   "cell_type": "code",
   "execution_count": 22,
   "metadata": {},
   "outputs": [],
   "source": [
    "# Translate to ORFs \n",
    "original_data['orf'] = translate_sc(original_data['orf'].values, to='orf')"
   ]
  },
  {
   "cell_type": "code",
   "execution_count": 23,
   "metadata": {},
   "outputs": [
    {
     "name": "stdout",
     "output_type": "stream",
     "text": [
      "                              Area CON  Deviation CON  Area TEST  \\\n",
      "Plate Number Plate X Plate Y                                       \n",
      "8            2       5               0      -470.6600          0   \n",
      "                     7               0      -470.6600          0   \n",
      "                     9               0      -470.6600          0   \n",
      "                     11              0      -470.6600          0   \n",
      "                     13              0      -470.6600          0   \n",
      "...                                ...            ...        ...   \n",
      "16           16      20            579        79.8070        297   \n",
      "                     21              0      -499.1900          0   \n",
      "                     22            533        33.8070        229   \n",
      "                     23              0      -499.1900          0   \n",
      "                     24            505         5.8073        224   \n",
      "\n",
      "                              Deviation TEST  Area Difference ( CON - TEST )  \\\n",
      "Plate Number Plate X Plate Y                                                   \n",
      "8            2       5             -282.8800                               0   \n",
      "                     7             -282.8800                               0   \n",
      "                     9             -282.8800                               0   \n",
      "                     11            -282.8800                               0   \n",
      "                     13            -282.8800                               0   \n",
      "...                                      ...                             ...   \n",
      "16           16      20              -1.1737                             282   \n",
      "                     21            -298.1700                               0   \n",
      "                     22             -69.1740                             304   \n",
      "                     23            -298.1700                               0   \n",
      "                     24             -74.1740                             281   \n",
      "\n",
      "                              Percentage of reduction  CON Normalized  \\\n",
      "Plate Number Plate X Plate Y                                            \n",
      "8            2       5                            NaN          0.0000   \n",
      "                     7                            NaN          0.0000   \n",
      "                     9                            NaN          0.0000   \n",
      "                     11                           NaN          0.0000   \n",
      "                     13                           NaN          0.0000   \n",
      "...                                               ...             ...   \n",
      "16           16      20                        48.705          1.1599   \n",
      "                     21                           NaN          0.0000   \n",
      "                     22                        57.036          1.0677   \n",
      "                     23                           NaN          0.0000   \n",
      "                     24                        55.644          1.0116   \n",
      "\n",
      "                              TEST Normalized  Normalized Difference  \\\n",
      "Plate Number Plate X Plate Y                                           \n",
      "8            2       5                0.00000                0.00000   \n",
      "                     7                0.00000                0.00000   \n",
      "                     9                0.00000                0.00000   \n",
      "                     11               0.00000                0.00000   \n",
      "                     13               0.00000                0.00000   \n",
      "...                                       ...                    ...   \n",
      "16           16      20               0.99606                0.16381   \n",
      "                     21               0.00000                0.00000   \n",
      "                     22               0.76801                0.29972   \n",
      "                     23               0.00000                0.00000   \n",
      "                     24               0.75124                0.26039   \n",
      "\n",
      "                              Percentage Gene Systematic Name Description  orf  \n",
      "Plate Number Plate X Plate Y                                                    \n",
      "8            2       5             0.000  NaN             NaN         NaN  NAN  \n",
      "                     7             0.000  NaN             NaN         NaN  NAN  \n",
      "                     9             0.000  NaN             NaN         NaN  NAN  \n",
      "                     11            0.000  NaN             NaN         NaN  NAN  \n",
      "                     13            0.000  NaN             NaN         NaN  NAN  \n",
      "...                                  ...  ...             ...         ...  ...  \n",
      "16           16      20           16.381  NaN             NaN         NaN  NAN  \n",
      "                     21            0.000  NaN             NaN         NaN  NAN  \n",
      "                     22           29.972  NaN             NaN         NaN  NAN  \n",
      "                     23            0.000  NaN             NaN         NaN  NAN  \n",
      "                     24           26.039  NaN             NaN         NaN  NAN  \n",
      "\n",
      "[233 rows x 14 columns]\n"
     ]
    }
   ],
   "source": [
    "# Make sure everything translated ok\n",
    "t = looks_like_orf(original_data['orf'])\n",
    "print(original_data.loc[~t,])"
   ]
  },
  {
   "cell_type": "code",
   "execution_count": 24,
   "metadata": {},
   "outputs": [],
   "source": [
    "original_data = original_data.loc[t,:]"
   ]
  },
  {
   "cell_type": "code",
   "execution_count": 25,
   "metadata": {},
   "outputs": [
    {
     "data": {
      "text/html": [
       "<div>\n",
       "<style scoped>\n",
       "    .dataframe tbody tr th:only-of-type {\n",
       "        vertical-align: middle;\n",
       "    }\n",
       "\n",
       "    .dataframe tbody tr th {\n",
       "        vertical-align: top;\n",
       "    }\n",
       "\n",
       "    .dataframe thead th {\n",
       "        text-align: right;\n",
       "    }\n",
       "</style>\n",
       "<table border=\"1\" class=\"dataframe\">\n",
       "  <thead>\n",
       "    <tr style=\"text-align: right;\">\n",
       "      <th></th>\n",
       "      <th></th>\n",
       "      <th></th>\n",
       "      <th>Area CON</th>\n",
       "      <th>Deviation CON</th>\n",
       "      <th>Area TEST</th>\n",
       "      <th>Deviation TEST</th>\n",
       "      <th>Area Difference ( CON - TEST )</th>\n",
       "      <th>Percentage of reduction</th>\n",
       "      <th>CON Normalized</th>\n",
       "      <th>TEST Normalized</th>\n",
       "      <th>Normalized Difference</th>\n",
       "      <th>Percentage</th>\n",
       "      <th>Gene</th>\n",
       "      <th>Systematic Name</th>\n",
       "      <th>Description</th>\n",
       "      <th>orf</th>\n",
       "    </tr>\n",
       "    <tr>\n",
       "      <th>Plate Number</th>\n",
       "      <th>Plate X</th>\n",
       "      <th>Plate Y</th>\n",
       "      <th></th>\n",
       "      <th></th>\n",
       "      <th></th>\n",
       "      <th></th>\n",
       "      <th></th>\n",
       "      <th></th>\n",
       "      <th></th>\n",
       "      <th></th>\n",
       "      <th></th>\n",
       "      <th></th>\n",
       "      <th></th>\n",
       "      <th></th>\n",
       "      <th></th>\n",
       "      <th></th>\n",
       "    </tr>\n",
       "  </thead>\n",
       "  <tbody>\n",
       "    <tr>\n",
       "      <th rowspan=\"5\" valign=\"top\">1</th>\n",
       "      <th rowspan=\"5\" valign=\"top\">1</th>\n",
       "      <th>1</th>\n",
       "      <td>347</td>\n",
       "      <td>-85.474</td>\n",
       "      <td>411</td>\n",
       "      <td>159.57</td>\n",
       "      <td>-64</td>\n",
       "      <td>-18.4440</td>\n",
       "      <td>0.80236</td>\n",
       "      <td>1.6347</td>\n",
       "      <td>-0.83229</td>\n",
       "      <td>-83.229</td>\n",
       "      <td>TCI1</td>\n",
       "      <td>YDR161W</td>\n",
       "      <td>Protein that interacts with protein phosphatas...</td>\n",
       "      <td>YDR161W</td>\n",
       "    </tr>\n",
       "    <tr>\n",
       "      <th>2</th>\n",
       "      <td>527</td>\n",
       "      <td>94.526</td>\n",
       "      <td>627</td>\n",
       "      <td>375.57</td>\n",
       "      <td>-100</td>\n",
       "      <td>-18.9750</td>\n",
       "      <td>1.21860</td>\n",
       "      <td>2.4937</td>\n",
       "      <td>-1.27520</td>\n",
       "      <td>-127.520</td>\n",
       "      <td>YCR017C</td>\n",
       "      <td>YCR017C</td>\n",
       "      <td>Protein involved in sensitivity to certain drugs</td>\n",
       "      <td>YCR017C</td>\n",
       "    </tr>\n",
       "    <tr>\n",
       "      <th>3</th>\n",
       "      <td>418</td>\n",
       "      <td>-14.474</td>\n",
       "      <td>480</td>\n",
       "      <td>228.57</td>\n",
       "      <td>-62</td>\n",
       "      <td>-14.8330</td>\n",
       "      <td>0.96653</td>\n",
       "      <td>1.9091</td>\n",
       "      <td>-0.94255</td>\n",
       "      <td>-94.255</td>\n",
       "      <td>NBP2</td>\n",
       "      <td>YDR162C</td>\n",
       "      <td>Nap1p-binding protein, has an SH3 domain</td>\n",
       "      <td>YDR162C</td>\n",
       "    </tr>\n",
       "    <tr>\n",
       "      <th>4</th>\n",
       "      <td>630</td>\n",
       "      <td>197.530</td>\n",
       "      <td>647</td>\n",
       "      <td>395.57</td>\n",
       "      <td>-17</td>\n",
       "      <td>-2.6984</td>\n",
       "      <td>1.45670</td>\n",
       "      <td>2.5733</td>\n",
       "      <td>-1.11660</td>\n",
       "      <td>-111.660</td>\n",
       "      <td>MAK32</td>\n",
       "      <td>YCR019W</td>\n",
       "      <td>Protein required for structural stability of L...</td>\n",
       "      <td>YCR019W</td>\n",
       "    </tr>\n",
       "    <tr>\n",
       "      <th>5</th>\n",
       "      <td>603</td>\n",
       "      <td>170.530</td>\n",
       "      <td>533</td>\n",
       "      <td>281.57</td>\n",
       "      <td>70</td>\n",
       "      <td>11.6090</td>\n",
       "      <td>1.39430</td>\n",
       "      <td>2.1199</td>\n",
       "      <td>-0.72558</td>\n",
       "      <td>-72.558</td>\n",
       "      <td>YDR163W</td>\n",
       "      <td>YDR163W</td>\n",
       "      <td>Protein of unknown function</td>\n",
       "      <td>YDR163W</td>\n",
       "    </tr>\n",
       "  </tbody>\n",
       "</table>\n",
       "</div>"
      ],
      "text/plain": [
       "                              Area CON  Deviation CON  Area TEST  \\\n",
       "Plate Number Plate X Plate Y                                       \n",
       "1            1       1             347        -85.474        411   \n",
       "                     2             527         94.526        627   \n",
       "                     3             418        -14.474        480   \n",
       "                     4             630        197.530        647   \n",
       "                     5             603        170.530        533   \n",
       "\n",
       "                              Deviation TEST  Area Difference ( CON - TEST )  \\\n",
       "Plate Number Plate X Plate Y                                                   \n",
       "1            1       1                159.57                             -64   \n",
       "                     2                375.57                            -100   \n",
       "                     3                228.57                             -62   \n",
       "                     4                395.57                             -17   \n",
       "                     5                281.57                              70   \n",
       "\n",
       "                              Percentage of reduction  CON Normalized  \\\n",
       "Plate Number Plate X Plate Y                                            \n",
       "1            1       1                       -18.4440         0.80236   \n",
       "                     2                       -18.9750         1.21860   \n",
       "                     3                       -14.8330         0.96653   \n",
       "                     4                        -2.6984         1.45670   \n",
       "                     5                        11.6090         1.39430   \n",
       "\n",
       "                              TEST Normalized  Normalized Difference  \\\n",
       "Plate Number Plate X Plate Y                                           \n",
       "1            1       1                 1.6347               -0.83229   \n",
       "                     2                 2.4937               -1.27520   \n",
       "                     3                 1.9091               -0.94255   \n",
       "                     4                 2.5733               -1.11660   \n",
       "                     5                 2.1199               -0.72558   \n",
       "\n",
       "                              Percentage     Gene Systematic Name  \\\n",
       "Plate Number Plate X Plate Y                                        \n",
       "1            1       1           -83.229     TCI1         YDR161W   \n",
       "                     2          -127.520  YCR017C         YCR017C   \n",
       "                     3           -94.255     NBP2         YDR162C   \n",
       "                     4          -111.660    MAK32         YCR019W   \n",
       "                     5           -72.558  YDR163W         YDR163W   \n",
       "\n",
       "                                                                    Description  \\\n",
       "Plate Number Plate X Plate Y                                                      \n",
       "1            1       1        Protein that interacts with protein phosphatas...   \n",
       "                     2         Protein involved in sensitivity to certain drugs   \n",
       "                     3                 Nap1p-binding protein, has an SH3 domain   \n",
       "                     4        Protein required for structural stability of L...   \n",
       "                     5                              Protein of unknown function   \n",
       "\n",
       "                                  orf  \n",
       "Plate Number Plate X Plate Y           \n",
       "1            1       1        YDR161W  \n",
       "                     2        YCR017C  \n",
       "                     3        YDR162C  \n",
       "                     4        YCR019W  \n",
       "                     5        YDR163W  "
      ]
     },
     "execution_count": 25,
     "metadata": {},
     "output_type": "execute_result"
    }
   ],
   "source": [
    "original_data.head()"
   ]
  },
  {
   "cell_type": "code",
   "execution_count": 26,
   "metadata": {},
   "outputs": [],
   "source": [
    "original_data['data'] = original_data['TEST Normalized'] / original_data['CON Normalized']"
   ]
  },
  {
   "cell_type": "code",
   "execution_count": 27,
   "metadata": {},
   "outputs": [],
   "source": [
    "original_data.set_index('orf', inplace=True)"
   ]
  },
  {
   "cell_type": "code",
   "execution_count": 28,
   "metadata": {},
   "outputs": [],
   "source": [
    "original_data = original_data[['data']].copy()"
   ]
  },
  {
   "cell_type": "code",
   "execution_count": 29,
   "metadata": {},
   "outputs": [],
   "source": [
    "original_data = original_data.groupby(original_data.index).mean()"
   ]
  },
  {
   "cell_type": "code",
   "execution_count": 30,
   "metadata": {},
   "outputs": [
    {
     "data": {
      "text/plain": [
       "(4645, 1)"
      ]
     },
     "execution_count": 30,
     "metadata": {},
     "output_type": "execute_result"
    }
   ],
   "source": [
    "original_data.shape"
   ]
  },
  {
   "cell_type": "markdown",
   "metadata": {},
   "source": [
    "# Prepare the final dataset"
   ]
  },
  {
   "cell_type": "code",
   "execution_count": 31,
   "metadata": {},
   "outputs": [],
   "source": [
    "data = original_data.copy()"
   ]
  },
  {
   "cell_type": "code",
   "execution_count": 32,
   "metadata": {},
   "outputs": [],
   "source": [
    "dataset_ids = [134]\n",
    "datasets = datasets.reindex(index=dataset_ids)"
   ]
  },
  {
   "cell_type": "code",
   "execution_count": 33,
   "metadata": {},
   "outputs": [],
   "source": [
    "lst = [datasets.index.values, ['value']*datasets.shape[0]]\n",
    "tuples = list(zip(*lst))\n",
    "idx = pd.MultiIndex.from_tuples(tuples, names=['dataset_id','data_type'])\n",
    "data.columns = idx"
   ]
  },
  {
   "cell_type": "code",
   "execution_count": 34,
   "metadata": {},
   "outputs": [
    {
     "data": {
      "text/html": [
       "<div>\n",
       "<style scoped>\n",
       "    .dataframe tbody tr th:only-of-type {\n",
       "        vertical-align: middle;\n",
       "    }\n",
       "\n",
       "    .dataframe tbody tr th {\n",
       "        vertical-align: top;\n",
       "    }\n",
       "\n",
       "    .dataframe thead tr th {\n",
       "        text-align: left;\n",
       "    }\n",
       "\n",
       "    .dataframe thead tr:last-of-type th {\n",
       "        text-align: right;\n",
       "    }\n",
       "</style>\n",
       "<table border=\"1\" class=\"dataframe\">\n",
       "  <thead>\n",
       "    <tr>\n",
       "      <th>dataset_id</th>\n",
       "      <th>134</th>\n",
       "    </tr>\n",
       "    <tr>\n",
       "      <th>data_type</th>\n",
       "      <th>value</th>\n",
       "    </tr>\n",
       "    <tr>\n",
       "      <th>orf</th>\n",
       "      <th></th>\n",
       "    </tr>\n",
       "  </thead>\n",
       "  <tbody>\n",
       "    <tr>\n",
       "      <th>YAL002W</th>\n",
       "      <td>0.730410</td>\n",
       "    </tr>\n",
       "    <tr>\n",
       "      <th>YAL004W</th>\n",
       "      <td>1.241952</td>\n",
       "    </tr>\n",
       "    <tr>\n",
       "      <th>YAL005C</th>\n",
       "      <td>1.068869</td>\n",
       "    </tr>\n",
       "    <tr>\n",
       "      <th>YAL007C</th>\n",
       "      <td>1.258973</td>\n",
       "    </tr>\n",
       "    <tr>\n",
       "      <th>YAL008W</th>\n",
       "      <td>0.147912</td>\n",
       "    </tr>\n",
       "  </tbody>\n",
       "</table>\n",
       "</div>"
      ],
      "text/plain": [
       "dataset_id       134\n",
       "data_type      value\n",
       "orf                 \n",
       "YAL002W     0.730410\n",
       "YAL004W     1.241952\n",
       "YAL005C     1.068869\n",
       "YAL007C     1.258973\n",
       "YAL008W     0.147912"
      ]
     },
     "execution_count": 34,
     "metadata": {},
     "output_type": "execute_result"
    }
   ],
   "source": [
    "data.head()"
   ]
  },
  {
   "cell_type": "markdown",
   "metadata": {},
   "source": [
    "## Subset to the genes currently in SGD"
   ]
  },
  {
   "cell_type": "code",
   "execution_count": 35,
   "metadata": {},
   "outputs": [
    {
     "name": "stdout",
     "output_type": "stream",
     "text": [
      "ORFs missing from SGD: 21\n"
     ]
    }
   ],
   "source": [
    "genes = pd.read_csv(path_to_genes, sep='\\t', index_col='id')\n",
    "genes = genes.reset_index().set_index('systematic_name')\n",
    "gene_ids = genes.reindex(index=data.index.values)['id'].values\n",
    "num_missing = np.sum(np.isnan(gene_ids))\n",
    "print('ORFs missing from SGD: %d' % num_missing)"
   ]
  },
  {
   "cell_type": "code",
   "execution_count": 36,
   "metadata": {},
   "outputs": [
    {
     "data": {
      "text/html": [
       "<div>\n",
       "<style scoped>\n",
       "    .dataframe tbody tr th:only-of-type {\n",
       "        vertical-align: middle;\n",
       "    }\n",
       "\n",
       "    .dataframe tbody tr th {\n",
       "        vertical-align: top;\n",
       "    }\n",
       "\n",
       "    .dataframe thead tr th {\n",
       "        text-align: left;\n",
       "    }\n",
       "\n",
       "    .dataframe thead tr:last-of-type th {\n",
       "        text-align: right;\n",
       "    }\n",
       "</style>\n",
       "<table border=\"1\" class=\"dataframe\">\n",
       "  <thead>\n",
       "    <tr>\n",
       "      <th></th>\n",
       "      <th>dataset_id</th>\n",
       "      <th>134</th>\n",
       "    </tr>\n",
       "    <tr>\n",
       "      <th></th>\n",
       "      <th>data_type</th>\n",
       "      <th>value</th>\n",
       "    </tr>\n",
       "    <tr>\n",
       "      <th>gene_id</th>\n",
       "      <th>orf</th>\n",
       "      <th></th>\n",
       "    </tr>\n",
       "  </thead>\n",
       "  <tbody>\n",
       "    <tr>\n",
       "      <th>2</th>\n",
       "      <th>YAL002W</th>\n",
       "      <td>0.730410</td>\n",
       "    </tr>\n",
       "    <tr>\n",
       "      <th>1863</th>\n",
       "      <th>YAL004W</th>\n",
       "      <td>1.241952</td>\n",
       "    </tr>\n",
       "    <tr>\n",
       "      <th>4</th>\n",
       "      <th>YAL005C</th>\n",
       "      <td>1.068869</td>\n",
       "    </tr>\n",
       "    <tr>\n",
       "      <th>5</th>\n",
       "      <th>YAL007C</th>\n",
       "      <td>1.258973</td>\n",
       "    </tr>\n",
       "    <tr>\n",
       "      <th>6</th>\n",
       "      <th>YAL008W</th>\n",
       "      <td>0.147912</td>\n",
       "    </tr>\n",
       "  </tbody>\n",
       "</table>\n",
       "</div>"
      ],
      "text/plain": [
       "dataset_id            134\n",
       "data_type           value\n",
       "gene_id orf              \n",
       "2       YAL002W  0.730410\n",
       "1863    YAL004W  1.241952\n",
       "4       YAL005C  1.068869\n",
       "5       YAL007C  1.258973\n",
       "6       YAL008W  0.147912"
      ]
     },
     "execution_count": 36,
     "metadata": {},
     "output_type": "execute_result"
    }
   ],
   "source": [
    "data['gene_id'] = gene_ids\n",
    "data = data.loc[data['gene_id'].notnull()]\n",
    "data['gene_id'] = data['gene_id'].astype(int)\n",
    "data = data.reset_index().set_index(['gene_id','orf'])\n",
    "\n",
    "data.head()"
   ]
  },
  {
   "cell_type": "markdown",
   "metadata": {},
   "source": [
    "# Normalize"
   ]
  },
  {
   "cell_type": "code",
   "execution_count": 37,
   "metadata": {},
   "outputs": [],
   "source": [
    "data_norm = normalize_phenotypic_scores(data, has_tested=True)"
   ]
  },
  {
   "cell_type": "code",
   "execution_count": 38,
   "metadata": {},
   "outputs": [],
   "source": [
    "# Assign proper column names\n",
    "lst = [datasets.index.values, ['valuez']*datasets.shape[0]]\n",
    "tuples = list(zip(*lst))\n",
    "idx = pd.MultiIndex.from_tuples(tuples, names=['dataset_id','data_type'])\n",
    "data_norm.columns = idx"
   ]
  },
  {
   "cell_type": "code",
   "execution_count": 39,
   "metadata": {},
   "outputs": [
    {
     "data": {
      "text/html": [
       "<div>\n",
       "<style scoped>\n",
       "    .dataframe tbody tr th:only-of-type {\n",
       "        vertical-align: middle;\n",
       "    }\n",
       "\n",
       "    .dataframe tbody tr th {\n",
       "        vertical-align: top;\n",
       "    }\n",
       "\n",
       "    .dataframe thead tr th {\n",
       "        text-align: left;\n",
       "    }\n",
       "\n",
       "    .dataframe thead tr:last-of-type th {\n",
       "        text-align: right;\n",
       "    }\n",
       "</style>\n",
       "<table border=\"1\" class=\"dataframe\">\n",
       "  <thead>\n",
       "    <tr>\n",
       "      <th></th>\n",
       "      <th>dataset_id</th>\n",
       "      <th colspan=\"2\" halign=\"left\">134</th>\n",
       "    </tr>\n",
       "    <tr>\n",
       "      <th></th>\n",
       "      <th>data_type</th>\n",
       "      <th>value</th>\n",
       "      <th>valuez</th>\n",
       "    </tr>\n",
       "    <tr>\n",
       "      <th>gene_id</th>\n",
       "      <th>orf</th>\n",
       "      <th></th>\n",
       "      <th></th>\n",
       "    </tr>\n",
       "  </thead>\n",
       "  <tbody>\n",
       "    <tr>\n",
       "      <th>2</th>\n",
       "      <th>YAL002W</th>\n",
       "      <td>0.730410</td>\n",
       "      <td>-0.658646</td>\n",
       "    </tr>\n",
       "    <tr>\n",
       "      <th>1863</th>\n",
       "      <th>YAL004W</th>\n",
       "      <td>1.241952</td>\n",
       "      <td>0.947866</td>\n",
       "    </tr>\n",
       "    <tr>\n",
       "      <th>4</th>\n",
       "      <th>YAL005C</th>\n",
       "      <td>1.068869</td>\n",
       "      <td>0.404293</td>\n",
       "    </tr>\n",
       "    <tr>\n",
       "      <th>5</th>\n",
       "      <th>YAL007C</th>\n",
       "      <td>1.258973</td>\n",
       "      <td>1.001322</td>\n",
       "    </tr>\n",
       "    <tr>\n",
       "      <th>6</th>\n",
       "      <th>YAL008W</th>\n",
       "      <td>0.147912</td>\n",
       "      <td>-2.488002</td>\n",
       "    </tr>\n",
       "  </tbody>\n",
       "</table>\n",
       "</div>"
      ],
      "text/plain": [
       "dataset_id            134          \n",
       "data_type           value    valuez\n",
       "gene_id orf                        \n",
       "2       YAL002W  0.730410 -0.658646\n",
       "1863    YAL004W  1.241952  0.947866\n",
       "4       YAL005C  1.068869  0.404293\n",
       "5       YAL007C  1.258973  1.001322\n",
       "6       YAL008W  0.147912 -2.488002"
      ]
     },
     "execution_count": 39,
     "metadata": {},
     "output_type": "execute_result"
    }
   ],
   "source": [
    "data_norm[data.isnull()] = np.nan\n",
    "data_all = data.join(data_norm)\n",
    "\n",
    "data_all.head()"
   ]
  },
  {
   "cell_type": "markdown",
   "metadata": {},
   "source": [
    "# Print out"
   ]
  },
  {
   "cell_type": "code",
   "execution_count": 40,
   "metadata": {},
   "outputs": [],
   "source": [
    "for f in ['value','valuez']:\n",
    "    df = data_all.xs(f, level='data_type', axis=1).copy()\n",
    "    df.columns = datasets['name'].values\n",
    "    df = df.droplevel('gene_id', axis=0)\n",
    "    df.to_csv(paper_name + '_' + f + '.txt', sep='\\t')"
   ]
  },
  {
   "cell_type": "markdown",
   "metadata": {},
   "source": [
    "# Save to DB"
   ]
  },
  {
   "cell_type": "code",
   "execution_count": 41,
   "metadata": {},
   "outputs": [],
   "source": [
    "from IO.save_data_to_db3 import *"
   ]
  },
  {
   "cell_type": "code",
   "execution_count": 42,
   "metadata": {},
   "outputs": [
    {
     "name": "stderr",
     "output_type": "stream",
     "text": [
      "  0%|          | 0/1 [00:00<?, ?it/s]"
     ]
    },
    {
     "name": "stdout",
     "output_type": "stream",
     "text": [
      "Deleting all datasets for PMID 17950387...\n",
      "Inserting the new data...\n"
     ]
    },
    {
     "name": "stderr",
     "output_type": "stream",
     "text": [
      "100%|██████████| 1/1 [00:07<00:00,  7.54s/it]"
     ]
    },
    {
     "name": "stdout",
     "output_type": "stream",
     "text": [
      "Updating the data_modified_on field...\n"
     ]
    },
    {
     "name": "stderr",
     "output_type": "stream",
     "text": [
      "\n"
     ]
    }
   ],
   "source": [
    "save_data_to_db(data_all, paper_pmid)"
   ]
  },
  {
   "cell_type": "code",
   "execution_count": null,
   "metadata": {},
   "outputs": [],
   "source": []
  }
 ],
 "metadata": {
  "kernelspec": {
   "display_name": "yp-data",
   "language": "python",
   "name": "yp-data"
  },
  "language_info": {
   "codemirror_mode": {
    "name": "ipython",
    "version": 3
   },
   "file_extension": ".py",
   "mimetype": "text/x-python",
   "name": "python",
   "nbconvert_exporter": "python",
   "pygments_lexer": "ipython3",
   "version": "3.7.7"
  }
 },
 "nbformat": 4,
 "nbformat_minor": 4
}
