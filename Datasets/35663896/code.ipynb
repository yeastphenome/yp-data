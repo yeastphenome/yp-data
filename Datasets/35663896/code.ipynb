{
 "cells": [
  {
   "cell_type": "code",
   "execution_count": 1,
   "metadata": {},
   "outputs": [],
   "source": [
    "%run ../../Utils/yp_utils.py"
   ]
  },
  {
   "cell_type": "markdown",
   "metadata": {},
   "source": [
    "# Initial setup"
   ]
  },
  {
   "cell_type": "code",
   "execution_count": 2,
   "metadata": {},
   "outputs": [],
   "source": [
    "paper_pmid = 35663896\n",
    "paper_name = 'grosjean_blaudez_2022' "
   ]
  },
  {
   "cell_type": "code",
   "execution_count": 3,
   "metadata": {},
   "outputs": [],
   "source": [
    "datasets = pd.read_csv('extras/YeastPhenome_' + str(paper_pmid) + '_datasets_list.txt', sep='\\t', header=None, names=['dataset_id', 'name'])"
   ]
  },
  {
   "cell_type": "code",
   "execution_count": 4,
   "metadata": {},
   "outputs": [],
   "source": [
    "datasets.set_index('dataset_id', inplace=True)"
   ]
  },
  {
   "cell_type": "markdown",
   "metadata": {},
   "source": [
    "# Load & process the data"
   ]
  },
  {
   "cell_type": "code",
   "execution_count": 5,
   "metadata": {},
   "outputs": [],
   "source": [
    "original_data = pd.read_excel('raw_data/Table_2_Genome-Wide Mutant Screening in Yeast Reveals that the Cell Wall is a First Shield to Discriminate Light From Heavy Lanthanides.XLSX', \n",
    "                              sheet_name='Table S1', skiprows=1)"
   ]
  },
  {
   "cell_type": "code",
   "execution_count": 6,
   "metadata": {},
   "outputs": [
    {
     "name": "stdout",
     "output_type": "stream",
     "text": [
      "Original data dimensions: 630 x 14\n"
     ]
    }
   ],
   "source": [
    "print('Original data dimensions: %d x %d' % (original_data.shape))"
   ]
  },
  {
   "cell_type": "code",
   "execution_count": 7,
   "metadata": {},
   "outputs": [
    {
     "data": {
      "text/html": [
       "<div>\n",
       "<style scoped>\n",
       "    .dataframe tbody tr th:only-of-type {\n",
       "        vertical-align: middle;\n",
       "    }\n",
       "\n",
       "    .dataframe tbody tr th {\n",
       "        vertical-align: top;\n",
       "    }\n",
       "\n",
       "    .dataframe thead th {\n",
       "        text-align: right;\n",
       "    }\n",
       "</style>\n",
       "<table border=\"1\" class=\"dataframe\">\n",
       "  <thead>\n",
       "    <tr style=\"text-align: right;\">\n",
       "      <th></th>\n",
       "      <th>SGD ID</th>\n",
       "      <th>ORF</th>\n",
       "      <th>La</th>\n",
       "      <th>Yb</th>\n",
       "      <th>ORF name</th>\n",
       "      <th>ORF name description</th>\n",
       "      <th>Description</th>\n",
       "      <th>ORF type</th>\n",
       "      <th>Aliases</th>\n",
       "      <th>H. sapiens homologs</th>\n",
       "      <th>H. sapiens homologs name description</th>\n",
       "      <th>H. sapiens disease</th>\n",
       "      <th>La specific</th>\n",
       "      <th>Yb specific</th>\n",
       "    </tr>\n",
       "  </thead>\n",
       "  <tbody>\n",
       "    <tr>\n",
       "      <th>0</th>\n",
       "      <td>S000006050</td>\n",
       "      <td>YPL129W</td>\n",
       "      <td>MS</td>\n",
       "      <td>-</td>\n",
       "      <td>TAF14</td>\n",
       "      <td>TATA binding protein-Associated Factor</td>\n",
       "      <td>Subunit of TFIID, TFIIF, INO80, SWI/SNF, and N...</td>\n",
       "      <td>Verified</td>\n",
       "      <td>TATA-binding protein-associated factor TAF14|T...</td>\n",
       "      <td>MLLT1, MLLT3, YEATS4</td>\n",
       "      <td>myeloid/lymphoid or mixed-lineage leukemia; tr...</td>\n",
       "      <td>-----</td>\n",
       "      <td>-----</td>\n",
       "      <td>-----</td>\n",
       "    </tr>\n",
       "    <tr>\n",
       "      <th>1</th>\n",
       "      <td>S000003589</td>\n",
       "      <td>YJL053W</td>\n",
       "      <td>MS</td>\n",
       "      <td>-</td>\n",
       "      <td>PEP8</td>\n",
       "      <td>carboxyPEPtidase Y-deficient</td>\n",
       "      <td>Vacuolar protein component of the retromer; fo...</td>\n",
       "      <td>Verified</td>\n",
       "      <td>retromer subunit PEP8|VPT4|VPS26|GRD6</td>\n",
       "      <td>VPS26A, VPS26B</td>\n",
       "      <td>VPS26 retromer complex component A, VPS26 retr...</td>\n",
       "      <td>-----</td>\n",
       "      <td>-----</td>\n",
       "      <td>-----</td>\n",
       "    </tr>\n",
       "    <tr>\n",
       "      <th>2</th>\n",
       "      <td>S000005000</td>\n",
       "      <td>YNL055C</td>\n",
       "      <td>LS</td>\n",
       "      <td>-</td>\n",
       "      <td>POR1</td>\n",
       "      <td>PORin</td>\n",
       "      <td>Mitochondrial porin (voltage-dependent anion c...</td>\n",
       "      <td>Verified</td>\n",
       "      <td>porin POR1|VDAC|YVDAC1|OMP2</td>\n",
       "      <td>VDAC1, VDAC2, VDAC3</td>\n",
       "      <td>voltage-dependent anion channel 1, voltage-dep...</td>\n",
       "      <td>-----</td>\n",
       "      <td>-----</td>\n",
       "      <td>-----</td>\n",
       "    </tr>\n",
       "    <tr>\n",
       "      <th>3</th>\n",
       "      <td>S000006377</td>\n",
       "      <td>YPR173C</td>\n",
       "      <td>HR</td>\n",
       "      <td>LR</td>\n",
       "      <td>VPS4</td>\n",
       "      <td>Vacuolar Protein Sorting</td>\n",
       "      <td>AAA-ATPase involved in multivesicular body (MV...</td>\n",
       "      <td>Verified</td>\n",
       "      <td>AAA family ATPase VPS4|DID6|VPT10|VPL4|GRD13|E...</td>\n",
       "      <td>KATNA1, KATNAL1, KATNAL2, VPS4A, VPS4B</td>\n",
       "      <td>katanin p60 (ATPase containing) subunit A 1, k...</td>\n",
       "      <td>-----</td>\n",
       "      <td>-----</td>\n",
       "      <td>-----</td>\n",
       "    </tr>\n",
       "    <tr>\n",
       "      <th>4</th>\n",
       "      <td>S000000690</td>\n",
       "      <td>YCR094W</td>\n",
       "      <td>MS</td>\n",
       "      <td>MS</td>\n",
       "      <td>CDC50</td>\n",
       "      <td>Cell Division Cycle</td>\n",
       "      <td>Endosomal protein that interacts with phosphol...</td>\n",
       "      <td>Verified</td>\n",
       "      <td>aminophospholipid translocase regulatory prote...</td>\n",
       "      <td>TMEM30A, TMEM30B, TMEM30C</td>\n",
       "      <td>transmembrane protein 30A, transmembrane prote...</td>\n",
       "      <td>-----</td>\n",
       "      <td>-----</td>\n",
       "      <td>-----</td>\n",
       "    </tr>\n",
       "  </tbody>\n",
       "</table>\n",
       "</div>"
      ],
      "text/plain": [
       "       SGD ID      ORF  La  Yb ORF name  \\\n",
       "0  S000006050  YPL129W  MS   -    TAF14   \n",
       "1  S000003589  YJL053W  MS   -     PEP8   \n",
       "2  S000005000  YNL055C  LS   -     POR1   \n",
       "3  S000006377  YPR173C  HR  LR     VPS4   \n",
       "4  S000000690  YCR094W  MS  MS    CDC50   \n",
       "\n",
       "                     ORF name description  \\\n",
       "0  TATA binding protein-Associated Factor   \n",
       "1            carboxyPEPtidase Y-deficient   \n",
       "2                                   PORin   \n",
       "3                Vacuolar Protein Sorting   \n",
       "4                     Cell Division Cycle   \n",
       "\n",
       "                                         Description  ORF type  \\\n",
       "0  Subunit of TFIID, TFIIF, INO80, SWI/SNF, and N...  Verified   \n",
       "1  Vacuolar protein component of the retromer; fo...  Verified   \n",
       "2  Mitochondrial porin (voltage-dependent anion c...  Verified   \n",
       "3  AAA-ATPase involved in multivesicular body (MV...  Verified   \n",
       "4  Endosomal protein that interacts with phosphol...  Verified   \n",
       "\n",
       "                                             Aliases  \\\n",
       "0  TATA-binding protein-associated factor TAF14|T...   \n",
       "1              retromer subunit PEP8|VPT4|VPS26|GRD6   \n",
       "2                        porin POR1|VDAC|YVDAC1|OMP2   \n",
       "3  AAA family ATPase VPS4|DID6|VPT10|VPL4|GRD13|E...   \n",
       "4  aminophospholipid translocase regulatory prote...   \n",
       "\n",
       "                      H. sapiens homologs  \\\n",
       "0                    MLLT1, MLLT3, YEATS4   \n",
       "1                          VPS26A, VPS26B   \n",
       "2                     VDAC1, VDAC2, VDAC3   \n",
       "3  KATNA1, KATNAL1, KATNAL2, VPS4A, VPS4B   \n",
       "4               TMEM30A, TMEM30B, TMEM30C   \n",
       "\n",
       "                H. sapiens homologs name description H. sapiens disease  \\\n",
       "0  myeloid/lymphoid or mixed-lineage leukemia; tr...             -----    \n",
       "1  VPS26 retromer complex component A, VPS26 retr...             -----    \n",
       "2  voltage-dependent anion channel 1, voltage-dep...             -----    \n",
       "3  katanin p60 (ATPase containing) subunit A 1, k...             -----    \n",
       "4  transmembrane protein 30A, transmembrane prote...             -----    \n",
       "\n",
       "  La specific Yb specific  \n",
       "0      -----       -----   \n",
       "1      -----       -----   \n",
       "2      -----       -----   \n",
       "3      -----       -----   \n",
       "4      -----       -----   "
      ]
     },
     "execution_count": 7,
     "metadata": {},
     "output_type": "execute_result"
    }
   ],
   "source": [
    "original_data.head()"
   ]
  },
  {
   "cell_type": "code",
   "execution_count": 8,
   "metadata": {},
   "outputs": [],
   "source": [
    "original_data['orf'] = original_data['ORF'].astype(str)"
   ]
  },
  {
   "cell_type": "code",
   "execution_count": 9,
   "metadata": {},
   "outputs": [],
   "source": [
    "# Eliminate all white spaces & capitalize\n",
    "original_data['orf'] = clean_orf(original_data['orf'])"
   ]
  },
  {
   "cell_type": "code",
   "execution_count": 10,
   "metadata": {},
   "outputs": [],
   "source": [
    "# Translate to ORFs \n",
    "original_data['orf'] = translate_sc(original_data['orf'], to='orf')"
   ]
  },
  {
   "cell_type": "code",
   "execution_count": 11,
   "metadata": {},
   "outputs": [
    {
     "name": "stdout",
     "output_type": "stream",
     "text": [
      "Empty DataFrame\n",
      "Columns: [SGD ID, ORF, La, Yb, ORF name, ORF name description, Description, ORF type, Aliases, H. sapiens homologs, H. sapiens homologs name description, H. sapiens disease, La specific, Yb specific, orf]\n",
      "Index: []\n"
     ]
    }
   ],
   "source": [
    "# Make sure everything translated ok\n",
    "t = looks_like_orf(original_data['orf'])\n",
    "print(original_data.loc[~t,])"
   ]
  },
  {
   "cell_type": "code",
   "execution_count": 12,
   "metadata": {},
   "outputs": [
    {
     "data": {
      "text/plain": [
       "array(['MS', 'LS', 'HR', 'MR', '-', 'LR', 'HS'], dtype=object)"
      ]
     },
     "execution_count": 12,
     "metadata": {},
     "output_type": "execute_result"
    }
   ],
   "source": [
    "original_data['La'].unique()"
   ]
  },
  {
   "cell_type": "code",
   "execution_count": 13,
   "metadata": {},
   "outputs": [
    {
     "data": {
      "text/plain": [
       "array(['-', 'LR', 'MS', 'MR', 'LS', 'HS', 'HR'], dtype=object)"
      ]
     },
     "execution_count": 13,
     "metadata": {},
     "output_type": "execute_result"
    }
   ],
   "source": [
    "original_data['Yb'].unique()"
   ]
  },
  {
   "cell_type": "code",
   "execution_count": 14,
   "metadata": {},
   "outputs": [],
   "source": [
    "data_dict = {'HS': -3, 'MS': -2, 'LS': -1, '-': 0, 'LR': 1, 'MR': 2, 'HR': 3}"
   ]
  },
  {
   "cell_type": "code",
   "execution_count": 15,
   "metadata": {},
   "outputs": [],
   "source": [
    "original_data['La2'] = original_data['La'].apply(lambda x: data_dict[x])\n",
    "original_data['Yb2'] = original_data['Yb'].apply(lambda x: data_dict[x])"
   ]
  },
  {
   "cell_type": "code",
   "execution_count": 17,
   "metadata": {},
   "outputs": [],
   "source": [
    "original_data.set_index('orf', inplace=True)"
   ]
  },
  {
   "cell_type": "code",
   "execution_count": 18,
   "metadata": {},
   "outputs": [],
   "source": [
    "original_data = original_data[['La2','Yb2']].copy()"
   ]
  },
  {
   "cell_type": "code",
   "execution_count": 19,
   "metadata": {},
   "outputs": [],
   "source": [
    "original_data = original_data.groupby(original_data.index).mean()"
   ]
  },
  {
   "cell_type": "code",
   "execution_count": 20,
   "metadata": {},
   "outputs": [
    {
     "data": {
      "text/plain": [
       "(629, 2)"
      ]
     },
     "execution_count": 20,
     "metadata": {},
     "output_type": "execute_result"
    }
   ],
   "source": [
    "original_data.shape"
   ]
  },
  {
   "cell_type": "markdown",
   "metadata": {},
   "source": [
    "# Prepare the final dataset"
   ]
  },
  {
   "cell_type": "code",
   "execution_count": 21,
   "metadata": {},
   "outputs": [],
   "source": [
    "data = original_data.copy()"
   ]
  },
  {
   "cell_type": "code",
   "execution_count": 22,
   "metadata": {},
   "outputs": [],
   "source": [
    "dataset_ids = [22225, 22226]\n",
    "datasets = datasets.reindex(index=dataset_ids)"
   ]
  },
  {
   "cell_type": "code",
   "execution_count": 23,
   "metadata": {},
   "outputs": [],
   "source": [
    "lst = [datasets.index.values, ['value']*datasets.shape[0]]\n",
    "tuples = list(zip(*lst))\n",
    "idx = pd.MultiIndex.from_tuples(tuples, names=['dataset_id','data_type'])\n",
    "data.columns = idx"
   ]
  },
  {
   "cell_type": "code",
   "execution_count": 24,
   "metadata": {},
   "outputs": [
    {
     "data": {
      "text/html": [
       "<div>\n",
       "<style scoped>\n",
       "    .dataframe tbody tr th:only-of-type {\n",
       "        vertical-align: middle;\n",
       "    }\n",
       "\n",
       "    .dataframe tbody tr th {\n",
       "        vertical-align: top;\n",
       "    }\n",
       "\n",
       "    .dataframe thead tr th {\n",
       "        text-align: left;\n",
       "    }\n",
       "\n",
       "    .dataframe thead tr:last-of-type th {\n",
       "        text-align: right;\n",
       "    }\n",
       "</style>\n",
       "<table border=\"1\" class=\"dataframe\">\n",
       "  <thead>\n",
       "    <tr>\n",
       "      <th>dataset_id</th>\n",
       "      <th>22225</th>\n",
       "      <th>22226</th>\n",
       "    </tr>\n",
       "    <tr>\n",
       "      <th>data_type</th>\n",
       "      <th>value</th>\n",
       "      <th>value</th>\n",
       "    </tr>\n",
       "    <tr>\n",
       "      <th>orf</th>\n",
       "      <th></th>\n",
       "      <th></th>\n",
       "    </tr>\n",
       "  </thead>\n",
       "  <tbody>\n",
       "    <tr>\n",
       "      <th>YAL016W</th>\n",
       "      <td>-1.0</td>\n",
       "      <td>0.0</td>\n",
       "    </tr>\n",
       "    <tr>\n",
       "      <th>YAL020C</th>\n",
       "      <td>0.0</td>\n",
       "      <td>1.0</td>\n",
       "    </tr>\n",
       "    <tr>\n",
       "      <th>YAL026C</th>\n",
       "      <td>-2.0</td>\n",
       "      <td>0.0</td>\n",
       "    </tr>\n",
       "    <tr>\n",
       "      <th>YAL053W</th>\n",
       "      <td>-2.0</td>\n",
       "      <td>1.0</td>\n",
       "    </tr>\n",
       "    <tr>\n",
       "      <th>YAL058W</th>\n",
       "      <td>2.0</td>\n",
       "      <td>1.0</td>\n",
       "    </tr>\n",
       "  </tbody>\n",
       "</table>\n",
       "</div>"
      ],
      "text/plain": [
       "dataset_id 22225 22226\n",
       "data_type  value value\n",
       "orf                   \n",
       "YAL016W     -1.0   0.0\n",
       "YAL020C      0.0   1.0\n",
       "YAL026C     -2.0   0.0\n",
       "YAL053W     -2.0   1.0\n",
       "YAL058W      2.0   1.0"
      ]
     },
     "execution_count": 24,
     "metadata": {},
     "output_type": "execute_result"
    }
   ],
   "source": [
    "data.head()"
   ]
  },
  {
   "cell_type": "markdown",
   "metadata": {},
   "source": [
    "## Subset to the genes currently in SGD"
   ]
  },
  {
   "cell_type": "code",
   "execution_count": 25,
   "metadata": {},
   "outputs": [
    {
     "name": "stdout",
     "output_type": "stream",
     "text": [
      "ORFs missing from SGD: 0\n"
     ]
    }
   ],
   "source": [
    "genes = pd.read_csv(path_to_genes, sep='\\t', index_col='id')\n",
    "genes = genes.reset_index().set_index('systematic_name')\n",
    "gene_ids = genes.reindex(index=data.index.values)['id'].values\n",
    "num_missing = np.sum(np.isnan(gene_ids))\n",
    "print('ORFs missing from SGD: %d' % num_missing)"
   ]
  },
  {
   "cell_type": "code",
   "execution_count": 26,
   "metadata": {},
   "outputs": [
    {
     "data": {
      "text/html": [
       "<div>\n",
       "<style scoped>\n",
       "    .dataframe tbody tr th:only-of-type {\n",
       "        vertical-align: middle;\n",
       "    }\n",
       "\n",
       "    .dataframe tbody tr th {\n",
       "        vertical-align: top;\n",
       "    }\n",
       "\n",
       "    .dataframe thead tr th {\n",
       "        text-align: left;\n",
       "    }\n",
       "\n",
       "    .dataframe thead tr:last-of-type th {\n",
       "        text-align: right;\n",
       "    }\n",
       "</style>\n",
       "<table border=\"1\" class=\"dataframe\">\n",
       "  <thead>\n",
       "    <tr>\n",
       "      <th></th>\n",
       "      <th>dataset_id</th>\n",
       "      <th>22225</th>\n",
       "      <th>22226</th>\n",
       "    </tr>\n",
       "    <tr>\n",
       "      <th></th>\n",
       "      <th>data_type</th>\n",
       "      <th>value</th>\n",
       "      <th>value</th>\n",
       "    </tr>\n",
       "    <tr>\n",
       "      <th>gene_id</th>\n",
       "      <th>orf</th>\n",
       "      <th></th>\n",
       "      <th></th>\n",
       "    </tr>\n",
       "  </thead>\n",
       "  <tbody>\n",
       "    <tr>\n",
       "      <th>14</th>\n",
       "      <th>YAL016W</th>\n",
       "      <td>-1.0</td>\n",
       "      <td>0.0</td>\n",
       "    </tr>\n",
       "    <tr>\n",
       "      <th>18</th>\n",
       "      <th>YAL020C</th>\n",
       "      <td>0.0</td>\n",
       "      <td>1.0</td>\n",
       "    </tr>\n",
       "    <tr>\n",
       "      <th>24</th>\n",
       "      <th>YAL026C</th>\n",
       "      <td>-2.0</td>\n",
       "      <td>0.0</td>\n",
       "    </tr>\n",
       "    <tr>\n",
       "      <th>49</th>\n",
       "      <th>YAL053W</th>\n",
       "      <td>-2.0</td>\n",
       "      <td>1.0</td>\n",
       "    </tr>\n",
       "    <tr>\n",
       "      <th>53</th>\n",
       "      <th>YAL058W</th>\n",
       "      <td>2.0</td>\n",
       "      <td>1.0</td>\n",
       "    </tr>\n",
       "  </tbody>\n",
       "</table>\n",
       "</div>"
      ],
      "text/plain": [
       "dataset_id      22225 22226\n",
       "data_type       value value\n",
       "gene_id orf                \n",
       "14      YAL016W  -1.0   0.0\n",
       "18      YAL020C   0.0   1.0\n",
       "24      YAL026C  -2.0   0.0\n",
       "49      YAL053W  -2.0   1.0\n",
       "53      YAL058W   2.0   1.0"
      ]
     },
     "execution_count": 26,
     "metadata": {},
     "output_type": "execute_result"
    }
   ],
   "source": [
    "data['gene_id'] = gene_ids\n",
    "data = data.loc[data['gene_id'].notnull()]\n",
    "data['gene_id'] = data['gene_id'].astype(int)\n",
    "data = data.reset_index().set_index(['gene_id','orf'])\n",
    "\n",
    "data.head()"
   ]
  },
  {
   "cell_type": "markdown",
   "metadata": {},
   "source": [
    "# Normalize"
   ]
  },
  {
   "cell_type": "code",
   "execution_count": 27,
   "metadata": {},
   "outputs": [],
   "source": [
    "data_norm = normalize_phenotypic_scores(data, has_tested=False)"
   ]
  },
  {
   "cell_type": "code",
   "execution_count": 28,
   "metadata": {},
   "outputs": [],
   "source": [
    "# Assign proper column names\n",
    "lst = [datasets.index.values, ['valuez']*datasets.shape[0]]\n",
    "tuples = list(zip(*lst))\n",
    "idx = pd.MultiIndex.from_tuples(tuples, names=['dataset_id','data_type'])\n",
    "data_norm.columns = idx"
   ]
  },
  {
   "cell_type": "code",
   "execution_count": 29,
   "metadata": {},
   "outputs": [
    {
     "data": {
      "text/html": [
       "<div>\n",
       "<style scoped>\n",
       "    .dataframe tbody tr th:only-of-type {\n",
       "        vertical-align: middle;\n",
       "    }\n",
       "\n",
       "    .dataframe tbody tr th {\n",
       "        vertical-align: top;\n",
       "    }\n",
       "\n",
       "    .dataframe thead tr th {\n",
       "        text-align: left;\n",
       "    }\n",
       "\n",
       "    .dataframe thead tr:last-of-type th {\n",
       "        text-align: right;\n",
       "    }\n",
       "</style>\n",
       "<table border=\"1\" class=\"dataframe\">\n",
       "  <thead>\n",
       "    <tr>\n",
       "      <th></th>\n",
       "      <th>dataset_id</th>\n",
       "      <th>22225</th>\n",
       "      <th>22226</th>\n",
       "      <th>22225</th>\n",
       "      <th>22226</th>\n",
       "    </tr>\n",
       "    <tr>\n",
       "      <th></th>\n",
       "      <th>data_type</th>\n",
       "      <th>value</th>\n",
       "      <th>value</th>\n",
       "      <th>valuez</th>\n",
       "      <th>valuez</th>\n",
       "    </tr>\n",
       "    <tr>\n",
       "      <th>gene_id</th>\n",
       "      <th>orf</th>\n",
       "      <th></th>\n",
       "      <th></th>\n",
       "      <th></th>\n",
       "      <th></th>\n",
       "    </tr>\n",
       "  </thead>\n",
       "  <tbody>\n",
       "    <tr>\n",
       "      <th>14</th>\n",
       "      <th>YAL016W</th>\n",
       "      <td>-1.0</td>\n",
       "      <td>0.0</td>\n",
       "      <td>-1.620299</td>\n",
       "      <td>0.071027</td>\n",
       "    </tr>\n",
       "    <tr>\n",
       "      <th>18</th>\n",
       "      <th>YAL020C</th>\n",
       "      <td>0.0</td>\n",
       "      <td>1.0</td>\n",
       "      <td>-0.047656</td>\n",
       "      <td>2.414925</td>\n",
       "    </tr>\n",
       "    <tr>\n",
       "      <th>24</th>\n",
       "      <th>YAL026C</th>\n",
       "      <td>-2.0</td>\n",
       "      <td>0.0</td>\n",
       "      <td>-3.192942</td>\n",
       "      <td>0.071027</td>\n",
       "    </tr>\n",
       "    <tr>\n",
       "      <th>49</th>\n",
       "      <th>YAL053W</th>\n",
       "      <td>-2.0</td>\n",
       "      <td>1.0</td>\n",
       "      <td>-3.192942</td>\n",
       "      <td>2.414925</td>\n",
       "    </tr>\n",
       "    <tr>\n",
       "      <th>53</th>\n",
       "      <th>YAL058W</th>\n",
       "      <td>2.0</td>\n",
       "      <td>1.0</td>\n",
       "      <td>3.097630</td>\n",
       "      <td>2.414925</td>\n",
       "    </tr>\n",
       "  </tbody>\n",
       "</table>\n",
       "</div>"
      ],
      "text/plain": [
       "dataset_id      22225 22226     22225     22226\n",
       "data_type       value value    valuez    valuez\n",
       "gene_id orf                                    \n",
       "14      YAL016W  -1.0   0.0 -1.620299  0.071027\n",
       "18      YAL020C   0.0   1.0 -0.047656  2.414925\n",
       "24      YAL026C  -2.0   0.0 -3.192942  0.071027\n",
       "49      YAL053W  -2.0   1.0 -3.192942  2.414925\n",
       "53      YAL058W   2.0   1.0  3.097630  2.414925"
      ]
     },
     "execution_count": 29,
     "metadata": {},
     "output_type": "execute_result"
    }
   ],
   "source": [
    "data_norm[data.isnull()] = np.nan\n",
    "data_all = data.join(data_norm)\n",
    "\n",
    "data_all.head()"
   ]
  },
  {
   "cell_type": "markdown",
   "metadata": {},
   "source": [
    "# Print out"
   ]
  },
  {
   "cell_type": "code",
   "execution_count": 30,
   "metadata": {},
   "outputs": [],
   "source": [
    "for f in ['value','valuez']:\n",
    "    df = data_all.xs(f, level='data_type', axis=1).copy()\n",
    "    df.columns = datasets['name'].values\n",
    "    df = df.droplevel('gene_id', axis=0)\n",
    "    df.to_csv(paper_name + '_' + f + '.txt', sep='\\t')"
   ]
  },
  {
   "cell_type": "markdown",
   "metadata": {},
   "source": [
    "# Save to DB"
   ]
  },
  {
   "cell_type": "code",
   "execution_count": 32,
   "metadata": {},
   "outputs": [],
   "source": [
    "# from IO.save_data_to_db3 import *"
   ]
  },
  {
   "cell_type": "code",
   "execution_count": 34,
   "metadata": {},
   "outputs": [],
   "source": [
    "# save_data_to_db(data_all, paper_pmid)"
   ]
  },
  {
   "cell_type": "code",
   "execution_count": null,
   "metadata": {},
   "outputs": [],
   "source": []
  }
 ],
 "metadata": {
  "kernelspec": {
   "display_name": "yp-data",
   "language": "python",
   "name": "yp-data"
  },
  "language_info": {
   "codemirror_mode": {
    "name": "ipython",
    "version": 3
   },
   "file_extension": ".py",
   "mimetype": "text/x-python",
   "name": "python",
   "nbconvert_exporter": "python",
   "pygments_lexer": "ipython3",
   "version": "3.7.7"
  }
 },
 "nbformat": 4,
 "nbformat_minor": 4
}
