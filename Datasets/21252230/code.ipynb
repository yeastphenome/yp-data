{
 "cells": [
  {
   "cell_type": "code",
   "execution_count": 2,
   "metadata": {},
   "outputs": [],
   "source": [
    "%run ../yp_utils.py"
   ]
  },
  {
   "cell_type": "markdown",
   "metadata": {},
   "source": [
    "# Initial setup"
   ]
  },
  {
   "cell_type": "code",
   "execution_count": 3,
   "metadata": {},
   "outputs": [],
   "source": [
    "paper_pmid = 21252230\n",
    "paper_name = 'martin_cunningham_2011' "
   ]
  },
  {
   "cell_type": "code",
   "execution_count": 4,
   "metadata": {},
   "outputs": [],
   "source": [
    "datasets = pd.read_csv('extras/YeastPhenome_' + str(paper_pmid) + '_datasets_list.txt', sep='\\t', header=None, names=['dataset_id', 'name'])"
   ]
  },
  {
   "cell_type": "code",
   "execution_count": 5,
   "metadata": {},
   "outputs": [],
   "source": [
    "datasets.set_index('dataset_id', inplace=True)"
   ]
  },
  {
   "cell_type": "markdown",
   "metadata": {},
   "source": [
    "# Load & process the data"
   ]
  },
  {
   "cell_type": "code",
   "execution_count": 6,
   "metadata": {},
   "outputs": [],
   "source": [
    "original_data = pd.read_excel('raw_data/1-s2.0-S0021925820538970-mmc1.xls', sheet_name='data')"
   ]
  },
  {
   "cell_type": "code",
   "execution_count": 7,
   "metadata": {},
   "outputs": [
    {
     "name": "stdout",
     "output_type": "stream",
     "text": [
      "Original data dimensions: 4955 x 16\n"
     ]
    }
   ],
   "source": [
    "print('Original data dimensions: %d x %d' % (original_data.shape))"
   ]
  },
  {
   "cell_type": "code",
   "execution_count": 8,
   "metadata": {},
   "outputs": [
    {
     "data": {
      "text/html": [
       "<div>\n",
       "<style scoped>\n",
       "    .dataframe tbody tr th:only-of-type {\n",
       "        vertical-align: middle;\n",
       "    }\n",
       "\n",
       "    .dataframe tbody tr th {\n",
       "        vertical-align: top;\n",
       "    }\n",
       "\n",
       "    .dataframe thead th {\n",
       "        text-align: right;\n",
       "    }\n",
       "</style>\n",
       "<table border=\"1\" class=\"dataframe\">\n",
       "  <thead>\n",
       "    <tr style=\"text-align: right;\">\n",
       "      <th></th>\n",
       "      <th>ORF</th>\n",
       "      <th>gene</th>\n",
       "      <th>n(0)</th>\n",
       "      <th>n(FK)</th>\n",
       "      <th>n(TM)</th>\n",
       "      <th>n(TMFK)</th>\n",
       "      <th>n(AF)</th>\n",
       "      <th>n(AFFK)</th>\n",
       "      <th>MD-6</th>\n",
       "      <th>MD-2</th>\n",
       "      <th>flags</th>\n",
       "      <th>group</th>\n",
       "      <th>line</th>\n",
       "      <th>cluster</th>\n",
       "      <th>SL's</th>\n",
       "      <th>VPS</th>\n",
       "    </tr>\n",
       "  </thead>\n",
       "  <tbody>\n",
       "    <tr>\n",
       "      <th>0</th>\n",
       "      <td>YOL143C</td>\n",
       "      <td>RIB4</td>\n",
       "      <td>0.3491</td>\n",
       "      <td>0.6636</td>\n",
       "      <td>1.0601</td>\n",
       "      <td>1.7492</td>\n",
       "      <td>0.9022</td>\n",
       "      <td>2.8714</td>\n",
       "      <td>827.112647</td>\n",
       "      <td>45.083915</td>\n",
       "      <td>NaN</td>\n",
       "      <td>A</td>\n",
       "      <td>1.0</td>\n",
       "      <td>few cells</td>\n",
       "      <td>0</td>\n",
       "      <td>NaN</td>\n",
       "    </tr>\n",
       "    <tr>\n",
       "      <th>1</th>\n",
       "      <td>YNR010W</td>\n",
       "      <td>CSE2</td>\n",
       "      <td>0.3036</td>\n",
       "      <td>0.7391</td>\n",
       "      <td>0.2786</td>\n",
       "      <td>1.7014</td>\n",
       "      <td>1.3013</td>\n",
       "      <td>2.2578</td>\n",
       "      <td>929.808483</td>\n",
       "      <td>59.825139</td>\n",
       "      <td>NaN</td>\n",
       "      <td>A</td>\n",
       "      <td>2.0</td>\n",
       "      <td>few cells</td>\n",
       "      <td>0</td>\n",
       "      <td>NaN</td>\n",
       "    </tr>\n",
       "    <tr>\n",
       "      <th>2</th>\n",
       "      <td>YHR120W</td>\n",
       "      <td>MSH1</td>\n",
       "      <td>0.4282</td>\n",
       "      <td>0.8490</td>\n",
       "      <td>0.4423</td>\n",
       "      <td>0.7674</td>\n",
       "      <td>1.2522</td>\n",
       "      <td>2.3904</td>\n",
       "      <td>1051.644722</td>\n",
       "      <td>30.112191</td>\n",
       "      <td>NaN</td>\n",
       "      <td>A</td>\n",
       "      <td>3.0</td>\n",
       "      <td>few cells</td>\n",
       "      <td>0</td>\n",
       "      <td>NaN</td>\n",
       "    </tr>\n",
       "    <tr>\n",
       "      <th>3</th>\n",
       "      <td>YPR072W</td>\n",
       "      <td>NOT5</td>\n",
       "      <td>0.5751</td>\n",
       "      <td>0.4358</td>\n",
       "      <td>0.5329</td>\n",
       "      <td>0.8912</td>\n",
       "      <td>0.2764</td>\n",
       "      <td>0.5106</td>\n",
       "      <td>1720.249369</td>\n",
       "      <td>36.935031</td>\n",
       "      <td>NaN</td>\n",
       "      <td>A</td>\n",
       "      <td>4.0</td>\n",
       "      <td>few cells</td>\n",
       "      <td>0</td>\n",
       "      <td>NaN</td>\n",
       "    </tr>\n",
       "    <tr>\n",
       "      <th>4</th>\n",
       "      <td>YOR008C-a</td>\n",
       "      <td>NaN</td>\n",
       "      <td>0.7507</td>\n",
       "      <td>0.3424</td>\n",
       "      <td>0.8165</td>\n",
       "      <td>0.5677</td>\n",
       "      <td>0.2083</td>\n",
       "      <td>0.5106</td>\n",
       "      <td>1967.032166</td>\n",
       "      <td>63.329453</td>\n",
       "      <td>NaN</td>\n",
       "      <td>A</td>\n",
       "      <td>5.0</td>\n",
       "      <td>few cells</td>\n",
       "      <td>0</td>\n",
       "      <td>NaN</td>\n",
       "    </tr>\n",
       "  </tbody>\n",
       "</table>\n",
       "</div>"
      ],
      "text/plain": [
       "         ORF  gene    n(0)   n(FK)   n(TM)  n(TMFK)   n(AF)  n(AFFK)  \\\n",
       "0    YOL143C  RIB4  0.3491  0.6636  1.0601   1.7492  0.9022   2.8714   \n",
       "1    YNR010W  CSE2  0.3036  0.7391  0.2786   1.7014  1.3013   2.2578   \n",
       "2    YHR120W  MSH1  0.4282  0.8490  0.4423   0.7674  1.2522   2.3904   \n",
       "3    YPR072W  NOT5  0.5751  0.4358  0.5329   0.8912  0.2764   0.5106   \n",
       "4  YOR008C-a   NaN  0.7507  0.3424  0.8165   0.5677  0.2083   0.5106   \n",
       "\n",
       "          MD-6       MD-2  flags group  line    cluster  SL's  VPS  \n",
       "0   827.112647  45.083915    NaN     A   1.0  few cells     0  NaN  \n",
       "1   929.808483  59.825139    NaN     A   2.0  few cells     0  NaN  \n",
       "2  1051.644722  30.112191    NaN     A   3.0  few cells     0  NaN  \n",
       "3  1720.249369  36.935031    NaN     A   4.0  few cells     0  NaN  \n",
       "4  1967.032166  63.329453    NaN     A   5.0  few cells     0  NaN  "
      ]
     },
     "execution_count": 8,
     "metadata": {},
     "output_type": "execute_result"
    }
   ],
   "source": [
    "original_data.head()"
   ]
  },
  {
   "cell_type": "code",
   "execution_count": 9,
   "metadata": {},
   "outputs": [],
   "source": [
    "original_data['orf'] = original_data['ORF'].astype(str)"
   ]
  },
  {
   "cell_type": "code",
   "execution_count": 10,
   "metadata": {},
   "outputs": [],
   "source": [
    "# Eliminate all white spaces & capitalize\n",
    "original_data['orf'] = clean_orf(original_data['orf'])"
   ]
  },
  {
   "cell_type": "code",
   "execution_count": 11,
   "metadata": {},
   "outputs": [],
   "source": [
    "# Translate to ORFs \n",
    "original_data['orf'] = translate_sc(original_data['orf'], to='orf')"
   ]
  },
  {
   "cell_type": "code",
   "execution_count": 12,
   "metadata": {},
   "outputs": [
    {
     "name": "stdout",
     "output_type": "stream",
     "text": [
      "            ORF gene    n(0)   n(FK)    n(TM)  n(TMFK)    n(AF)  n(AFFK)  \\\n",
      "index_input                                                                \n",
      "776          wt  NaN  1.2337  2.2135   8.7616  50.9251  14.0312  44.6603   \n",
      "4379         wt  NaN  1.2755  2.5045  11.0827  44.4959  20.0904  42.1672   \n",
      "4527         wt  NaN  1.2327  1.9896   9.2019  45.9105  15.0678  40.4559   \n",
      "\n",
      "                  MD-6       MD-2  flags group  line cluster  SL's  VPS orf  \n",
      "index_input                                                                  \n",
      "776          46.157065  11.959187    NaN     C   NaN     NaN     0  NaN  WT  \n",
      "4379         17.330361  17.692191    NaN    wt   NaN     NaN     0  NaN  WT  \n",
      "4527         20.125595   7.786368    NaN    wt   NaN     NaN     0  NaN  WT  \n"
     ]
    }
   ],
   "source": [
    "# Make sure everything translated ok\n",
    "t = looks_like_orf(original_data['orf'])\n",
    "print(original_data.loc[~t,])"
   ]
  },
  {
   "cell_type": "code",
   "execution_count": 13,
   "metadata": {},
   "outputs": [],
   "source": [
    "original_data = original_data.loc[t,:]"
   ]
  },
  {
   "cell_type": "code",
   "execution_count": 14,
   "metadata": {},
   "outputs": [],
   "source": [
    "original_data.set_index('orf', inplace=True)"
   ]
  },
  {
   "cell_type": "code",
   "execution_count": 15,
   "metadata": {},
   "outputs": [],
   "source": [
    "data_cols = ['n(0)', 'n(FK)', 'n(TM)', 'n(TMFK)', 'n(AF)', 'n(AFFK)']"
   ]
  },
  {
   "cell_type": "code",
   "execution_count": 16,
   "metadata": {},
   "outputs": [],
   "source": [
    "original_data = original_data[data_cols].apply(pd.to_numeric, axis=1, errors='coerce')"
   ]
  },
  {
   "cell_type": "code",
   "execution_count": 17,
   "metadata": {},
   "outputs": [],
   "source": [
    "original_data = original_data.groupby(original_data.index).mean()"
   ]
  },
  {
   "cell_type": "code",
   "execution_count": 18,
   "metadata": {},
   "outputs": [
    {
     "data": {
      "text/plain": [
       "(4756, 6)"
      ]
     },
     "execution_count": 18,
     "metadata": {},
     "output_type": "execute_result"
    }
   ],
   "source": [
    "original_data.shape"
   ]
  },
  {
   "cell_type": "code",
   "execution_count": 20,
   "metadata": {},
   "outputs": [],
   "source": [
    "# Normalize by control (n(0))\n",
    "original_data = original_data.div(original_data['n(0)'], axis=0)"
   ]
  },
  {
   "cell_type": "code",
   "execution_count": 22,
   "metadata": {},
   "outputs": [],
   "source": [
    "original_data.drop(columns='n(0)', inplace=True)"
   ]
  },
  {
   "cell_type": "markdown",
   "metadata": {},
   "source": [
    "# Prepare the final dataset"
   ]
  },
  {
   "cell_type": "code",
   "execution_count": 23,
   "metadata": {},
   "outputs": [],
   "source": [
    "data = original_data.copy()"
   ]
  },
  {
   "cell_type": "code",
   "execution_count": 24,
   "metadata": {},
   "outputs": [],
   "source": [
    "dataset_ids = [21844, 21843, 21841, 21842, 21840]\n",
    "datasets = datasets.reindex(index=dataset_ids)"
   ]
  },
  {
   "cell_type": "code",
   "execution_count": 25,
   "metadata": {},
   "outputs": [],
   "source": [
    "lst = [datasets.index.values, ['value']*datasets.shape[0]]\n",
    "tuples = list(zip(*lst))\n",
    "idx = pd.MultiIndex.from_tuples(tuples, names=['dataset_id','data_type'])\n",
    "data.columns = idx"
   ]
  },
  {
   "cell_type": "code",
   "execution_count": 26,
   "metadata": {},
   "outputs": [
    {
     "data": {
      "text/html": [
       "<div>\n",
       "<style scoped>\n",
       "    .dataframe tbody tr th:only-of-type {\n",
       "        vertical-align: middle;\n",
       "    }\n",
       "\n",
       "    .dataframe tbody tr th {\n",
       "        vertical-align: top;\n",
       "    }\n",
       "\n",
       "    .dataframe thead tr th {\n",
       "        text-align: left;\n",
       "    }\n",
       "\n",
       "    .dataframe thead tr:last-of-type th {\n",
       "        text-align: right;\n",
       "    }\n",
       "</style>\n",
       "<table border=\"1\" class=\"dataframe\">\n",
       "  <thead>\n",
       "    <tr>\n",
       "      <th>dataset_id</th>\n",
       "      <th>21844</th>\n",
       "      <th>21843</th>\n",
       "      <th>21841</th>\n",
       "      <th>21842</th>\n",
       "      <th>21840</th>\n",
       "    </tr>\n",
       "    <tr>\n",
       "      <th>data_type</th>\n",
       "      <th>value</th>\n",
       "      <th>value</th>\n",
       "      <th>value</th>\n",
       "      <th>value</th>\n",
       "      <th>value</th>\n",
       "    </tr>\n",
       "    <tr>\n",
       "      <th>orf</th>\n",
       "      <th></th>\n",
       "      <th></th>\n",
       "      <th></th>\n",
       "      <th></th>\n",
       "      <th></th>\n",
       "    </tr>\n",
       "  </thead>\n",
       "  <tbody>\n",
       "    <tr>\n",
       "      <th>YAL002W</th>\n",
       "      <td>2.559678</td>\n",
       "      <td>4.218115</td>\n",
       "      <td>9.980415</td>\n",
       "      <td>7.404586</td>\n",
       "      <td>16.775724</td>\n",
       "    </tr>\n",
       "    <tr>\n",
       "      <th>YAL004W</th>\n",
       "      <td>1.189413</td>\n",
       "      <td>6.587335</td>\n",
       "      <td>39.399486</td>\n",
       "      <td>18.413111</td>\n",
       "      <td>41.103082</td>\n",
       "    </tr>\n",
       "    <tr>\n",
       "      <th>YAL005C</th>\n",
       "      <td>1.209389</td>\n",
       "      <td>5.009878</td>\n",
       "      <td>23.363619</td>\n",
       "      <td>14.758142</td>\n",
       "      <td>35.169291</td>\n",
       "    </tr>\n",
       "    <tr>\n",
       "      <th>YAL007C</th>\n",
       "      <td>0.953318</td>\n",
       "      <td>5.268621</td>\n",
       "      <td>35.972676</td>\n",
       "      <td>10.208635</td>\n",
       "      <td>32.839640</td>\n",
       "    </tr>\n",
       "    <tr>\n",
       "      <th>YAL008W</th>\n",
       "      <td>1.344249</td>\n",
       "      <td>7.160894</td>\n",
       "      <td>49.305206</td>\n",
       "      <td>13.253254</td>\n",
       "      <td>40.336587</td>\n",
       "    </tr>\n",
       "  </tbody>\n",
       "</table>\n",
       "</div>"
      ],
      "text/plain": [
       "dataset_id     21844     21843      21841      21842      21840\n",
       "data_type      value     value      value      value      value\n",
       "orf                                                            \n",
       "YAL002W     2.559678  4.218115   9.980415   7.404586  16.775724\n",
       "YAL004W     1.189413  6.587335  39.399486  18.413111  41.103082\n",
       "YAL005C     1.209389  5.009878  23.363619  14.758142  35.169291\n",
       "YAL007C     0.953318  5.268621  35.972676  10.208635  32.839640\n",
       "YAL008W     1.344249  7.160894  49.305206  13.253254  40.336587"
      ]
     },
     "execution_count": 26,
     "metadata": {},
     "output_type": "execute_result"
    }
   ],
   "source": [
    "data.head()"
   ]
  },
  {
   "cell_type": "markdown",
   "metadata": {},
   "source": [
    "## Subset to the genes currently in SGD"
   ]
  },
  {
   "cell_type": "code",
   "execution_count": 27,
   "metadata": {},
   "outputs": [
    {
     "name": "stdout",
     "output_type": "stream",
     "text": [
      "ORFs missing from SGD: 23\n"
     ]
    }
   ],
   "source": [
    "genes = pd.read_csv(path_to_genes, sep='\\t', index_col='id')\n",
    "genes = genes.reset_index().set_index('systematic_name')\n",
    "gene_ids = genes.reindex(index=data.index.values)['id'].values\n",
    "num_missing = np.sum(np.isnan(gene_ids))\n",
    "print('ORFs missing from SGD: %d' % num_missing)"
   ]
  },
  {
   "cell_type": "code",
   "execution_count": 28,
   "metadata": {},
   "outputs": [
    {
     "data": {
      "text/html": [
       "<div>\n",
       "<style scoped>\n",
       "    .dataframe tbody tr th:only-of-type {\n",
       "        vertical-align: middle;\n",
       "    }\n",
       "\n",
       "    .dataframe tbody tr th {\n",
       "        vertical-align: top;\n",
       "    }\n",
       "\n",
       "    .dataframe thead tr th {\n",
       "        text-align: left;\n",
       "    }\n",
       "\n",
       "    .dataframe thead tr:last-of-type th {\n",
       "        text-align: right;\n",
       "    }\n",
       "</style>\n",
       "<table border=\"1\" class=\"dataframe\">\n",
       "  <thead>\n",
       "    <tr>\n",
       "      <th></th>\n",
       "      <th>dataset_id</th>\n",
       "      <th>21844</th>\n",
       "      <th>21843</th>\n",
       "      <th>21841</th>\n",
       "      <th>21842</th>\n",
       "      <th>21840</th>\n",
       "    </tr>\n",
       "    <tr>\n",
       "      <th></th>\n",
       "      <th>data_type</th>\n",
       "      <th>value</th>\n",
       "      <th>value</th>\n",
       "      <th>value</th>\n",
       "      <th>value</th>\n",
       "      <th>value</th>\n",
       "    </tr>\n",
       "    <tr>\n",
       "      <th>gene_id</th>\n",
       "      <th>orf</th>\n",
       "      <th></th>\n",
       "      <th></th>\n",
       "      <th></th>\n",
       "      <th></th>\n",
       "      <th></th>\n",
       "    </tr>\n",
       "  </thead>\n",
       "  <tbody>\n",
       "    <tr>\n",
       "      <th>2</th>\n",
       "      <th>YAL002W</th>\n",
       "      <td>2.559678</td>\n",
       "      <td>4.218115</td>\n",
       "      <td>9.980415</td>\n",
       "      <td>7.404586</td>\n",
       "      <td>16.775724</td>\n",
       "    </tr>\n",
       "    <tr>\n",
       "      <th>1863</th>\n",
       "      <th>YAL004W</th>\n",
       "      <td>1.189413</td>\n",
       "      <td>6.587335</td>\n",
       "      <td>39.399486</td>\n",
       "      <td>18.413111</td>\n",
       "      <td>41.103082</td>\n",
       "    </tr>\n",
       "    <tr>\n",
       "      <th>4</th>\n",
       "      <th>YAL005C</th>\n",
       "      <td>1.209389</td>\n",
       "      <td>5.009878</td>\n",
       "      <td>23.363619</td>\n",
       "      <td>14.758142</td>\n",
       "      <td>35.169291</td>\n",
       "    </tr>\n",
       "    <tr>\n",
       "      <th>5</th>\n",
       "      <th>YAL007C</th>\n",
       "      <td>0.953318</td>\n",
       "      <td>5.268621</td>\n",
       "      <td>35.972676</td>\n",
       "      <td>10.208635</td>\n",
       "      <td>32.839640</td>\n",
       "    </tr>\n",
       "    <tr>\n",
       "      <th>6</th>\n",
       "      <th>YAL008W</th>\n",
       "      <td>1.344249</td>\n",
       "      <td>7.160894</td>\n",
       "      <td>49.305206</td>\n",
       "      <td>13.253254</td>\n",
       "      <td>40.336587</td>\n",
       "    </tr>\n",
       "  </tbody>\n",
       "</table>\n",
       "</div>"
      ],
      "text/plain": [
       "dataset_id          21844     21843      21841      21842      21840\n",
       "data_type           value     value      value      value      value\n",
       "gene_id orf                                                         \n",
       "2       YAL002W  2.559678  4.218115   9.980415   7.404586  16.775724\n",
       "1863    YAL004W  1.189413  6.587335  39.399486  18.413111  41.103082\n",
       "4       YAL005C  1.209389  5.009878  23.363619  14.758142  35.169291\n",
       "5       YAL007C  0.953318  5.268621  35.972676  10.208635  32.839640\n",
       "6       YAL008W  1.344249  7.160894  49.305206  13.253254  40.336587"
      ]
     },
     "execution_count": 28,
     "metadata": {},
     "output_type": "execute_result"
    }
   ],
   "source": [
    "data['gene_id'] = gene_ids\n",
    "data = data.loc[data['gene_id'].notnull()]\n",
    "data['gene_id'] = data['gene_id'].astype(int)\n",
    "data = data.reset_index().set_index(['gene_id','orf'])\n",
    "\n",
    "data.head()"
   ]
  },
  {
   "cell_type": "markdown",
   "metadata": {},
   "source": [
    "# Normalize"
   ]
  },
  {
   "cell_type": "code",
   "execution_count": 29,
   "metadata": {},
   "outputs": [],
   "source": [
    "data_norm = normalize_phenotypic_scores(data, has_tested=True)"
   ]
  },
  {
   "cell_type": "code",
   "execution_count": 30,
   "metadata": {},
   "outputs": [],
   "source": [
    "# Assign proper column names\n",
    "lst = [datasets.index.values, ['valuez']*datasets.shape[0]]\n",
    "tuples = list(zip(*lst))\n",
    "idx = pd.MultiIndex.from_tuples(tuples, names=['dataset_id','data_type'])\n",
    "data_norm.columns = idx"
   ]
  },
  {
   "cell_type": "code",
   "execution_count": 31,
   "metadata": {},
   "outputs": [
    {
     "data": {
      "text/html": [
       "<div>\n",
       "<style scoped>\n",
       "    .dataframe tbody tr th:only-of-type {\n",
       "        vertical-align: middle;\n",
       "    }\n",
       "\n",
       "    .dataframe tbody tr th {\n",
       "        vertical-align: top;\n",
       "    }\n",
       "\n",
       "    .dataframe thead tr th {\n",
       "        text-align: left;\n",
       "    }\n",
       "\n",
       "    .dataframe thead tr:last-of-type th {\n",
       "        text-align: right;\n",
       "    }\n",
       "</style>\n",
       "<table border=\"1\" class=\"dataframe\">\n",
       "  <thead>\n",
       "    <tr>\n",
       "      <th></th>\n",
       "      <th>dataset_id</th>\n",
       "      <th>21844</th>\n",
       "      <th>21843</th>\n",
       "      <th>21841</th>\n",
       "      <th>21842</th>\n",
       "      <th>21840</th>\n",
       "      <th>21844</th>\n",
       "      <th>21843</th>\n",
       "      <th>21841</th>\n",
       "      <th>21842</th>\n",
       "      <th>21840</th>\n",
       "    </tr>\n",
       "    <tr>\n",
       "      <th></th>\n",
       "      <th>data_type</th>\n",
       "      <th>value</th>\n",
       "      <th>value</th>\n",
       "      <th>value</th>\n",
       "      <th>value</th>\n",
       "      <th>value</th>\n",
       "      <th>valuez</th>\n",
       "      <th>valuez</th>\n",
       "      <th>valuez</th>\n",
       "      <th>valuez</th>\n",
       "      <th>valuez</th>\n",
       "    </tr>\n",
       "    <tr>\n",
       "      <th>gene_id</th>\n",
       "      <th>orf</th>\n",
       "      <th></th>\n",
       "      <th></th>\n",
       "      <th></th>\n",
       "      <th></th>\n",
       "      <th></th>\n",
       "      <th></th>\n",
       "      <th></th>\n",
       "      <th></th>\n",
       "      <th></th>\n",
       "      <th></th>\n",
       "    </tr>\n",
       "  </thead>\n",
       "  <tbody>\n",
       "    <tr>\n",
       "      <th>2</th>\n",
       "      <th>YAL002W</th>\n",
       "      <td>2.559678</td>\n",
       "      <td>4.218115</td>\n",
       "      <td>9.980415</td>\n",
       "      <td>7.404586</td>\n",
       "      <td>16.775724</td>\n",
       "      <td>2.497680</td>\n",
       "      <td>-0.989706</td>\n",
       "      <td>-2.207680</td>\n",
       "      <td>-1.119656</td>\n",
       "      <td>-1.555388</td>\n",
       "    </tr>\n",
       "    <tr>\n",
       "      <th>1863</th>\n",
       "      <th>YAL004W</th>\n",
       "      <td>1.189413</td>\n",
       "      <td>6.587335</td>\n",
       "      <td>39.399486</td>\n",
       "      <td>18.413111</td>\n",
       "      <td>41.103082</td>\n",
       "      <td>-0.136606</td>\n",
       "      <td>0.346264</td>\n",
       "      <td>0.176755</td>\n",
       "      <td>1.736748</td>\n",
       "      <td>0.660980</td>\n",
       "    </tr>\n",
       "    <tr>\n",
       "      <th>4</th>\n",
       "      <th>YAL005C</th>\n",
       "      <td>1.209389</td>\n",
       "      <td>5.009878</td>\n",
       "      <td>23.363619</td>\n",
       "      <td>14.758142</td>\n",
       "      <td>35.169291</td>\n",
       "      <td>-0.098203</td>\n",
       "      <td>-0.543242</td>\n",
       "      <td>-1.122963</td>\n",
       "      <td>0.788386</td>\n",
       "      <td>0.120376</td>\n",
       "    </tr>\n",
       "    <tr>\n",
       "      <th>5</th>\n",
       "      <th>YAL007C</th>\n",
       "      <td>0.953318</td>\n",
       "      <td>5.268621</td>\n",
       "      <td>35.972676</td>\n",
       "      <td>10.208635</td>\n",
       "      <td>32.839640</td>\n",
       "      <td>-0.590490</td>\n",
       "      <td>-0.397340</td>\n",
       "      <td>-0.100990</td>\n",
       "      <td>-0.392083</td>\n",
       "      <td>-0.091869</td>\n",
       "    </tr>\n",
       "    <tr>\n",
       "      <th>6</th>\n",
       "      <th>YAL008W</th>\n",
       "      <td>1.344249</td>\n",
       "      <td>7.160894</td>\n",
       "      <td>49.305206</td>\n",
       "      <td>13.253254</td>\n",
       "      <td>40.336587</td>\n",
       "      <td>0.161060</td>\n",
       "      <td>0.669686</td>\n",
       "      <td>0.979620</td>\n",
       "      <td>0.397909</td>\n",
       "      <td>0.591147</td>\n",
       "    </tr>\n",
       "  </tbody>\n",
       "</table>\n",
       "</div>"
      ],
      "text/plain": [
       "dataset_id          21844     21843      21841      21842      21840  \\\n",
       "data_type           value     value      value      value      value   \n",
       "gene_id orf                                                            \n",
       "2       YAL002W  2.559678  4.218115   9.980415   7.404586  16.775724   \n",
       "1863    YAL004W  1.189413  6.587335  39.399486  18.413111  41.103082   \n",
       "4       YAL005C  1.209389  5.009878  23.363619  14.758142  35.169291   \n",
       "5       YAL007C  0.953318  5.268621  35.972676  10.208635  32.839640   \n",
       "6       YAL008W  1.344249  7.160894  49.305206  13.253254  40.336587   \n",
       "\n",
       "dataset_id          21844     21843     21841     21842     21840  \n",
       "data_type          valuez    valuez    valuez    valuez    valuez  \n",
       "gene_id orf                                                        \n",
       "2       YAL002W  2.497680 -0.989706 -2.207680 -1.119656 -1.555388  \n",
       "1863    YAL004W -0.136606  0.346264  0.176755  1.736748  0.660980  \n",
       "4       YAL005C -0.098203 -0.543242 -1.122963  0.788386  0.120376  \n",
       "5       YAL007C -0.590490 -0.397340 -0.100990 -0.392083 -0.091869  \n",
       "6       YAL008W  0.161060  0.669686  0.979620  0.397909  0.591147  "
      ]
     },
     "execution_count": 31,
     "metadata": {},
     "output_type": "execute_result"
    }
   ],
   "source": [
    "data_norm[data.isnull()] = np.nan\n",
    "data_all = data.join(data_norm)\n",
    "\n",
    "data_all.head()"
   ]
  },
  {
   "cell_type": "markdown",
   "metadata": {},
   "source": [
    "# Print out"
   ]
  },
  {
   "cell_type": "code",
   "execution_count": 32,
   "metadata": {},
   "outputs": [],
   "source": [
    "for f in ['value','valuez']:\n",
    "    df = data_all.xs(f, level='data_type', axis=1).copy()\n",
    "    df.columns = datasets['name'].values\n",
    "    df = df.droplevel('gene_id', axis=0)\n",
    "    df.to_csv(paper_name + '_' + f + '.txt', sep='\\t')"
   ]
  },
  {
   "cell_type": "markdown",
   "metadata": {},
   "source": [
    "# Save to DB"
   ]
  },
  {
   "cell_type": "code",
   "execution_count": 33,
   "metadata": {},
   "outputs": [],
   "source": [
    "from IO.save_data_to_db3 import *"
   ]
  },
  {
   "cell_type": "code",
   "execution_count": 34,
   "metadata": {},
   "outputs": [
    {
     "name": "stderr",
     "output_type": "stream",
     "text": [
      "  0%|          | 0/5 [00:00<?, ?it/s]"
     ]
    },
    {
     "name": "stdout",
     "output_type": "stream",
     "text": [
      "Deleting all datasets for PMID 21252230...\n",
      "Inserting the new data...\n"
     ]
    },
    {
     "name": "stderr",
     "output_type": "stream",
     "text": [
      "100%|██████████| 5/5 [00:36<00:00,  7.26s/it]"
     ]
    },
    {
     "name": "stdout",
     "output_type": "stream",
     "text": [
      "Updating the data_modified_on field...\n"
     ]
    },
    {
     "name": "stderr",
     "output_type": "stream",
     "text": [
      "\n"
     ]
    }
   ],
   "source": [
    "save_data_to_db(data_all, paper_pmid)"
   ]
  },
  {
   "cell_type": "code",
   "execution_count": null,
   "metadata": {},
   "outputs": [],
   "source": []
  }
 ],
 "metadata": {
  "kernelspec": {
   "display_name": "yp-data",
   "language": "python",
   "name": "yp-data"
  },
  "language_info": {
   "codemirror_mode": {
    "name": "ipython",
    "version": 3
   },
   "file_extension": ".py",
   "mimetype": "text/x-python",
   "name": "python",
   "nbconvert_exporter": "python",
   "pygments_lexer": "ipython3",
   "version": "3.7.7"
  }
 },
 "nbformat": 4,
 "nbformat_minor": 4
}
