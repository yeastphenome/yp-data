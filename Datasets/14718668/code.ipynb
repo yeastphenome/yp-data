{
 "cells": [
  {
   "cell_type": "code",
   "execution_count": 1,
   "metadata": {},
   "outputs": [],
   "source": [
    "%run ../../Utils/yp_utils.py"
   ]
  },
  {
   "cell_type": "markdown",
   "metadata": {},
   "source": [
    "# Initial setup"
   ]
  },
  {
   "cell_type": "code",
   "execution_count": 2,
   "metadata": {},
   "outputs": [],
   "source": [
    "paper_pmid = 14718668\n",
    "paper_name = 'giaever_davis_2004' "
   ]
  },
  {
   "cell_type": "code",
   "execution_count": 103,
   "metadata": {},
   "outputs": [],
   "source": [
    "datasets = pd.read_csv('extras/YeastPhenome_' + str(paper_pmid) + '_datasets_list.txt', sep='\\t', header=None, names=['dataset_id', 'name'])"
   ]
  },
  {
   "cell_type": "code",
   "execution_count": 104,
   "metadata": {},
   "outputs": [],
   "source": [
    "datasets.set_index('dataset_id', inplace=True)"
   ]
  },
  {
   "cell_type": "markdown",
   "metadata": {},
   "source": [
    "# Load & process the data"
   ]
  },
  {
   "cell_type": "code",
   "execution_count": 5,
   "metadata": {},
   "outputs": [],
   "source": [
    "original_data = pd.read_csv('raw_data/analyzed_data_hom.txt', sep='\\t')"
   ]
  },
  {
   "cell_type": "code",
   "execution_count": 6,
   "metadata": {},
   "outputs": [
    {
     "name": "stdout",
     "output_type": "stream",
     "text": [
      "Original data dimensions: 5918 x 11\n"
     ]
    }
   ],
   "source": [
    "print('Original data dimensions: %d x %d' % (original_data.shape))"
   ]
  },
  {
   "cell_type": "code",
   "execution_count": 7,
   "metadata": {},
   "outputs": [
    {
     "data": {
      "text/html": [
       "<div>\n",
       "<style scoped>\n",
       "    .dataframe tbody tr th:only-of-type {\n",
       "        vertical-align: middle;\n",
       "    }\n",
       "\n",
       "    .dataframe tbody tr th {\n",
       "        vertical-align: top;\n",
       "    }\n",
       "\n",
       "    .dataframe thead th {\n",
       "        text-align: right;\n",
       "    }\n",
       "</style>\n",
       "<table border=\"1\" class=\"dataframe\">\n",
       "  <thead>\n",
       "    <tr style=\"text-align: right;\">\n",
       "      <th></th>\n",
       "      <th>orf</th>\n",
       "      <th>gene</th>\n",
       "      <th>cisplatin_125_1</th>\n",
       "      <th>cisplatin_125_2</th>\n",
       "      <th>cisplatin_125_3</th>\n",
       "      <th>cisplatin_250_1</th>\n",
       "      <th>cisplatin_250_2</th>\n",
       "      <th>cisplatin_500_1</th>\n",
       "      <th>cisplatin_500_2</th>\n",
       "      <th>cisplatin_66_1</th>\n",
       "      <th>cisplatin_66_2</th>\n",
       "    </tr>\n",
       "  </thead>\n",
       "  <tbody>\n",
       "    <tr>\n",
       "      <th>0</th>\n",
       "      <td>YAL001C</td>\n",
       "      <td>TFC3</td>\n",
       "      <td>0.000000</td>\n",
       "      <td>0.000000</td>\n",
       "      <td>0.000000</td>\n",
       "      <td>0.000000</td>\n",
       "      <td>0.000000</td>\n",
       "      <td>0.000000</td>\n",
       "      <td>0.000000</td>\n",
       "      <td>0.000000</td>\n",
       "      <td>0.000000</td>\n",
       "    </tr>\n",
       "    <tr>\n",
       "      <th>1</th>\n",
       "      <td>YAL002W</td>\n",
       "      <td>VPS8</td>\n",
       "      <td>6.435788</td>\n",
       "      <td>7.618749</td>\n",
       "      <td>3.775775</td>\n",
       "      <td>7.083423</td>\n",
       "      <td>8.708809</td>\n",
       "      <td>6.785060</td>\n",
       "      <td>7.797910</td>\n",
       "      <td>8.222179</td>\n",
       "      <td>8.407304</td>\n",
       "    </tr>\n",
       "    <tr>\n",
       "      <th>2</th>\n",
       "      <td>YAL003W</td>\n",
       "      <td>EFB1</td>\n",
       "      <td>0.000000</td>\n",
       "      <td>0.000000</td>\n",
       "      <td>0.000000</td>\n",
       "      <td>0.000000</td>\n",
       "      <td>0.000000</td>\n",
       "      <td>0.000000</td>\n",
       "      <td>0.000000</td>\n",
       "      <td>0.000000</td>\n",
       "      <td>0.000000</td>\n",
       "    </tr>\n",
       "    <tr>\n",
       "      <th>3</th>\n",
       "      <td>YAL004W</td>\n",
       "      <td>YAL004W</td>\n",
       "      <td>9.072408</td>\n",
       "      <td>8.489710</td>\n",
       "      <td>10.388901</td>\n",
       "      <td>6.866116</td>\n",
       "      <td>7.557835</td>\n",
       "      <td>7.939483</td>\n",
       "      <td>3.695684</td>\n",
       "      <td>8.638723</td>\n",
       "      <td>10.603179</td>\n",
       "    </tr>\n",
       "    <tr>\n",
       "      <th>4</th>\n",
       "      <td>YAL005C</td>\n",
       "      <td>SSA1</td>\n",
       "      <td>7.695610</td>\n",
       "      <td>9.398894</td>\n",
       "      <td>9.857931</td>\n",
       "      <td>6.768785</td>\n",
       "      <td>5.622647</td>\n",
       "      <td>7.994116</td>\n",
       "      <td>8.934242</td>\n",
       "      <td>9.257118</td>\n",
       "      <td>8.550701</td>\n",
       "    </tr>\n",
       "  </tbody>\n",
       "</table>\n",
       "</div>"
      ],
      "text/plain": [
       "       orf     gene  cisplatin_125_1  cisplatin_125_2  cisplatin_125_3  \\\n",
       "0  YAL001C     TFC3         0.000000         0.000000         0.000000   \n",
       "1  YAL002W     VPS8         6.435788         7.618749         3.775775   \n",
       "2  YAL003W     EFB1         0.000000         0.000000         0.000000   \n",
       "3  YAL004W  YAL004W         9.072408         8.489710        10.388901   \n",
       "4  YAL005C     SSA1         7.695610         9.398894         9.857931   \n",
       "\n",
       "   cisplatin_250_1  cisplatin_250_2  cisplatin_500_1  cisplatin_500_2  \\\n",
       "0         0.000000         0.000000         0.000000         0.000000   \n",
       "1         7.083423         8.708809         6.785060         7.797910   \n",
       "2         0.000000         0.000000         0.000000         0.000000   \n",
       "3         6.866116         7.557835         7.939483         3.695684   \n",
       "4         6.768785         5.622647         7.994116         8.934242   \n",
       "\n",
       "   cisplatin_66_1  cisplatin_66_2  \n",
       "0        0.000000        0.000000  \n",
       "1        8.222179        8.407304  \n",
       "2        0.000000        0.000000  \n",
       "3        8.638723       10.603179  \n",
       "4        9.257118        8.550701  "
      ]
     },
     "execution_count": 7,
     "metadata": {},
     "output_type": "execute_result"
    }
   ],
   "source": [
    "original_data.head()"
   ]
  },
  {
   "cell_type": "code",
   "execution_count": 8,
   "metadata": {},
   "outputs": [],
   "source": [
    "original_data['orf'] = original_data['orf'].astype(str)"
   ]
  },
  {
   "cell_type": "code",
   "execution_count": 9,
   "metadata": {},
   "outputs": [],
   "source": [
    "# Eliminate all white spaces & capitalize\n",
    "original_data['orf'] = clean_orf(original_data['orf'])"
   ]
  },
  {
   "cell_type": "code",
   "execution_count": 10,
   "metadata": {},
   "outputs": [],
   "source": [
    "# Translate to ORFs \n",
    "original_data['orf'] = translate_sc(original_data['orf'], to='orf')"
   ]
  },
  {
   "cell_type": "code",
   "execution_count": 11,
   "metadata": {},
   "outputs": [
    {
     "name": "stdout",
     "output_type": "stream",
     "text": [
      "Empty DataFrame\n",
      "Columns: [orf, gene, cisplatin_125_1, cisplatin_125_2, cisplatin_125_3, cisplatin_250_1, cisplatin_250_2, cisplatin_500_1, cisplatin_500_2, cisplatin_66_1, cisplatin_66_2]\n",
      "Index: []\n"
     ]
    }
   ],
   "source": [
    "# Make sure everything translated ok\n",
    "t = looks_like_orf(original_data['orf'])\n",
    "print(original_data.loc[~t,])"
   ]
  },
  {
   "cell_type": "code",
   "execution_count": 12,
   "metadata": {},
   "outputs": [],
   "source": [
    "original_data.set_index('orf', inplace=True)"
   ]
  },
  {
   "cell_type": "code",
   "execution_count": 14,
   "metadata": {},
   "outputs": [],
   "source": [
    "original_data.drop(columns=['gene'], inplace=True)"
   ]
  },
  {
   "cell_type": "code",
   "execution_count": 16,
   "metadata": {},
   "outputs": [],
   "source": [
    "original_data = original_data.apply(pd.to_numeric, errors='coerce')"
   ]
  },
  {
   "cell_type": "code",
   "execution_count": 17,
   "metadata": {},
   "outputs": [],
   "source": [
    "original_data = original_data.groupby(original_data.index).mean()"
   ]
  },
  {
   "cell_type": "code",
   "execution_count": 18,
   "metadata": {},
   "outputs": [
    {
     "data": {
      "text/plain": [
       "(5890, 9)"
      ]
     },
     "execution_count": 18,
     "metadata": {},
     "output_type": "execute_result"
    }
   ],
   "source": [
    "original_data.shape"
   ]
  },
  {
   "cell_type": "markdown",
   "metadata": {},
   "source": [
    "# Clean-up"
   ]
  },
  {
   "cell_type": "code",
   "execution_count": 21,
   "metadata": {},
   "outputs": [],
   "source": [
    "eliminated = pd.read_csv('raw_data/background_tags_base_hom.txt', sep='\\t', header=None)"
   ]
  },
  {
   "cell_type": "code",
   "execution_count": 22,
   "metadata": {},
   "outputs": [
    {
     "data": {
      "text/html": [
       "<div>\n",
       "<style scoped>\n",
       "    .dataframe tbody tr th:only-of-type {\n",
       "        vertical-align: middle;\n",
       "    }\n",
       "\n",
       "    .dataframe tbody tr th {\n",
       "        vertical-align: top;\n",
       "    }\n",
       "\n",
       "    .dataframe thead th {\n",
       "        text-align: right;\n",
       "    }\n",
       "</style>\n",
       "<table border=\"1\" class=\"dataframe\">\n",
       "  <thead>\n",
       "    <tr style=\"text-align: right;\">\n",
       "      <th></th>\n",
       "      <th>0</th>\n",
       "    </tr>\n",
       "  </thead>\n",
       "  <tbody>\n",
       "    <tr>\n",
       "      <th>0</th>\n",
       "      <td>YAL034W-A</td>\n",
       "    </tr>\n",
       "    <tr>\n",
       "      <th>1</th>\n",
       "      <td>YAL046C</td>\n",
       "    </tr>\n",
       "    <tr>\n",
       "      <th>2</th>\n",
       "      <td>YAL048C</td>\n",
       "    </tr>\n",
       "    <tr>\n",
       "      <th>3</th>\n",
       "      <td>YBL016W</td>\n",
       "    </tr>\n",
       "    <tr>\n",
       "      <th>4</th>\n",
       "      <td>YBL025W</td>\n",
       "    </tr>\n",
       "  </tbody>\n",
       "</table>\n",
       "</div>"
      ],
      "text/plain": [
       "           0\n",
       "0  YAL034W-A\n",
       "1    YAL046C\n",
       "2    YAL048C\n",
       "3    YBL016W\n",
       "4    YBL025W"
      ]
     },
     "execution_count": 22,
     "metadata": {},
     "output_type": "execute_result"
    }
   ],
   "source": [
    "eliminated.head()"
   ]
  },
  {
   "cell_type": "code",
   "execution_count": 23,
   "metadata": {},
   "outputs": [],
   "source": [
    "eliminated['orf'] = eliminated[0].astype(str)"
   ]
  },
  {
   "cell_type": "code",
   "execution_count": 25,
   "metadata": {},
   "outputs": [],
   "source": [
    "eliminated['orf'] = clean_orf(eliminated['orf'])"
   ]
  },
  {
   "cell_type": "code",
   "execution_count": 26,
   "metadata": {},
   "outputs": [],
   "source": [
    "eliminated['orf'] = translate_sc(eliminated['orf'], to='orf')"
   ]
  },
  {
   "cell_type": "code",
   "execution_count": 27,
   "metadata": {},
   "outputs": [
    {
     "name": "stdout",
     "output_type": "stream",
     "text": [
      "Empty DataFrame\n",
      "Columns: [0, orf]\n",
      "Index: []\n"
     ]
    }
   ],
   "source": [
    "# Make sure everything translated ok\n",
    "t = looks_like_orf(eliminated['orf'])\n",
    "print(eliminated.loc[~t,])"
   ]
  },
  {
   "cell_type": "code",
   "execution_count": 28,
   "metadata": {},
   "outputs": [],
   "source": [
    "eliminated_orfs = eliminated['orf'].unique()"
   ]
  },
  {
   "cell_type": "code",
   "execution_count": 29,
   "metadata": {},
   "outputs": [],
   "source": [
    "original_data.drop(index=eliminated_orfs, inplace=True)"
   ]
  },
  {
   "cell_type": "code",
   "execution_count": 32,
   "metadata": {},
   "outputs": [],
   "source": [
    "# Remove all ORFs that only have 0s because >90% of them are essential genes\n",
    "\n",
    "n = original_data.sum(axis=1)"
   ]
  },
  {
   "cell_type": "code",
   "execution_count": 35,
   "metadata": {},
   "outputs": [],
   "source": [
    "original_data = original_data.loc[n > 0,:]"
   ]
  },
  {
   "cell_type": "code",
   "execution_count": 36,
   "metadata": {},
   "outputs": [
    {
     "data": {
      "text/plain": [
       "(4679, 9)"
      ]
     },
     "execution_count": 36,
     "metadata": {},
     "output_type": "execute_result"
    }
   ],
   "source": [
    "original_data.shape"
   ]
  },
  {
   "cell_type": "code",
   "execution_count": 37,
   "metadata": {},
   "outputs": [],
   "source": [
    "original_data.columns = [5316, 5316, 5316, 5317, 5317, 5318, 5318, 5313, 5313]"
   ]
  },
  {
   "cell_type": "code",
   "execution_count": 38,
   "metadata": {},
   "outputs": [],
   "source": [
    "original_data = original_data.T\n",
    "original_data = original_data.groupby(original_data.index).mean()\n",
    "original_data = original_data.T"
   ]
  },
  {
   "cell_type": "markdown",
   "metadata": {},
   "source": [
    "# Load HET data"
   ]
  },
  {
   "cell_type": "code",
   "execution_count": 51,
   "metadata": {},
   "outputs": [],
   "source": [
    "original_data2 = pd.read_csv('raw_data/analyzed_data_het.txt', sep='\\t')"
   ]
  },
  {
   "cell_type": "code",
   "execution_count": 52,
   "metadata": {},
   "outputs": [
    {
     "name": "stdout",
     "output_type": "stream",
     "text": [
      "Original data dimensions: 5918 x 73\n"
     ]
    }
   ],
   "source": [
    "print('Original data dimensions: %d x %d' % (original_data2.shape))"
   ]
  },
  {
   "cell_type": "code",
   "execution_count": 53,
   "metadata": {},
   "outputs": [
    {
     "data": {
      "text/html": [
       "<div>\n",
       "<style scoped>\n",
       "    .dataframe tbody tr th:only-of-type {\n",
       "        vertical-align: middle;\n",
       "    }\n",
       "\n",
       "    .dataframe tbody tr th {\n",
       "        vertical-align: top;\n",
       "    }\n",
       "\n",
       "    .dataframe thead th {\n",
       "        text-align: right;\n",
       "    }\n",
       "</style>\n",
       "<table border=\"1\" class=\"dataframe\">\n",
       "  <thead>\n",
       "    <tr style=\"text-align: right;\">\n",
       "      <th></th>\n",
       "      <th>orf</th>\n",
       "      <th>gene</th>\n",
       "      <th>5-fluorouracil_19.2_1</th>\n",
       "      <th>5-fluorouracil_19.2_2</th>\n",
       "      <th>5-fluorouracil_19.2_3</th>\n",
       "      <th>5-fluorouracil_19.2_4</th>\n",
       "      <th>5-fluorouracil_19.2_5</th>\n",
       "      <th>5-fluorouracil_38.5_1</th>\n",
       "      <th>5-fluorouracil_38.5_2</th>\n",
       "      <th>5-fluorouracil_4.8_1</th>\n",
       "      <th>...</th>\n",
       "      <th>miconazole_0.025_1</th>\n",
       "      <th>miconazole_0.025_2</th>\n",
       "      <th>miconazole_0.05_1</th>\n",
       "      <th>miconazole_0.05_2</th>\n",
       "      <th>miconazole_0.05_3</th>\n",
       "      <th>miconazole_0.05_4</th>\n",
       "      <th>miconazole_0.1_1</th>\n",
       "      <th>miconazole_0.1_2</th>\n",
       "      <th>miconazole_0.2_1</th>\n",
       "      <th>miconazole_0.2_2</th>\n",
       "    </tr>\n",
       "  </thead>\n",
       "  <tbody>\n",
       "    <tr>\n",
       "      <th>0</th>\n",
       "      <td>YMR056C</td>\n",
       "      <td>AAC1</td>\n",
       "      <td>9.526545</td>\n",
       "      <td>7.951773</td>\n",
       "      <td>8.721741</td>\n",
       "      <td>8.346657</td>\n",
       "      <td>4.263601</td>\n",
       "      <td>8.825512</td>\n",
       "      <td>2.692640</td>\n",
       "      <td>7.968219</td>\n",
       "      <td>...</td>\n",
       "      <td>9.312516</td>\n",
       "      <td>9.294373</td>\n",
       "      <td>7.704134</td>\n",
       "      <td>8.931694</td>\n",
       "      <td>9.090973</td>\n",
       "      <td>7.850144</td>\n",
       "      <td>8.901877</td>\n",
       "      <td>7.779176</td>\n",
       "      <td>9.336565</td>\n",
       "      <td>8.923584</td>\n",
       "    </tr>\n",
       "    <tr>\n",
       "      <th>1</th>\n",
       "      <td>YBR085W</td>\n",
       "      <td>AAC3</td>\n",
       "      <td>6.453701</td>\n",
       "      <td>10.765296</td>\n",
       "      <td>6.320682</td>\n",
       "      <td>10.383714</td>\n",
       "      <td>11.965008</td>\n",
       "      <td>11.045340</td>\n",
       "      <td>11.969012</td>\n",
       "      <td>11.909970</td>\n",
       "      <td>...</td>\n",
       "      <td>11.644741</td>\n",
       "      <td>11.920223</td>\n",
       "      <td>9.542753</td>\n",
       "      <td>11.970307</td>\n",
       "      <td>11.867074</td>\n",
       "      <td>11.882815</td>\n",
       "      <td>11.451223</td>\n",
       "      <td>11.232877</td>\n",
       "      <td>11.883097</td>\n",
       "      <td>11.970710</td>\n",
       "    </tr>\n",
       "    <tr>\n",
       "      <th>2</th>\n",
       "      <td>YNL331C</td>\n",
       "      <td>AAD14</td>\n",
       "      <td>6.524357</td>\n",
       "      <td>6.718113</td>\n",
       "      <td>7.730328</td>\n",
       "      <td>7.950801</td>\n",
       "      <td>6.449246</td>\n",
       "      <td>8.021753</td>\n",
       "      <td>3.075224</td>\n",
       "      <td>5.572534</td>\n",
       "      <td>...</td>\n",
       "      <td>8.802488</td>\n",
       "      <td>8.655241</td>\n",
       "      <td>8.794877</td>\n",
       "      <td>2.469489</td>\n",
       "      <td>8.717330</td>\n",
       "      <td>8.556588</td>\n",
       "      <td>8.616406</td>\n",
       "      <td>8.332019</td>\n",
       "      <td>5.491288</td>\n",
       "      <td>6.489976</td>\n",
       "    </tr>\n",
       "    <tr>\n",
       "      <th>3</th>\n",
       "      <td>YCR107W</td>\n",
       "      <td>AAD3</td>\n",
       "      <td>7.457117</td>\n",
       "      <td>8.633749</td>\n",
       "      <td>6.251683</td>\n",
       "      <td>11.965718</td>\n",
       "      <td>11.913022</td>\n",
       "      <td>11.289882</td>\n",
       "      <td>11.435796</td>\n",
       "      <td>11.533248</td>\n",
       "      <td>...</td>\n",
       "      <td>12.027601</td>\n",
       "      <td>8.473162</td>\n",
       "      <td>11.823576</td>\n",
       "      <td>11.998384</td>\n",
       "      <td>12.089701</td>\n",
       "      <td>12.018176</td>\n",
       "      <td>11.883272</td>\n",
       "      <td>12.089652</td>\n",
       "      <td>12.094551</td>\n",
       "      <td>12.062554</td>\n",
       "    </tr>\n",
       "    <tr>\n",
       "      <th>4</th>\n",
       "      <td>YDL243C</td>\n",
       "      <td>AAD4</td>\n",
       "      <td>2.168064</td>\n",
       "      <td>6.792825</td>\n",
       "      <td>6.338006</td>\n",
       "      <td>3.879814</td>\n",
       "      <td>9.186689</td>\n",
       "      <td>0.965466</td>\n",
       "      <td>8.789847</td>\n",
       "      <td>7.873645</td>\n",
       "      <td>...</td>\n",
       "      <td>9.092628</td>\n",
       "      <td>8.845137</td>\n",
       "      <td>3.284954</td>\n",
       "      <td>8.006100</td>\n",
       "      <td>8.802386</td>\n",
       "      <td>8.060388</td>\n",
       "      <td>8.540803</td>\n",
       "      <td>9.041727</td>\n",
       "      <td>5.251110</td>\n",
       "      <td>6.069802</td>\n",
       "    </tr>\n",
       "  </tbody>\n",
       "</table>\n",
       "<p>5 rows × 73 columns</p>\n",
       "</div>"
      ],
      "text/plain": [
       "       orf   gene  5-fluorouracil_19.2_1  5-fluorouracil_19.2_2  \\\n",
       "0  YMR056C   AAC1               9.526545               7.951773   \n",
       "1  YBR085W   AAC3               6.453701              10.765296   \n",
       "2  YNL331C  AAD14               6.524357               6.718113   \n",
       "3  YCR107W   AAD3               7.457117               8.633749   \n",
       "4  YDL243C   AAD4               2.168064               6.792825   \n",
       "\n",
       "   5-fluorouracil_19.2_3  5-fluorouracil_19.2_4  5-fluorouracil_19.2_5  \\\n",
       "0               8.721741               8.346657               4.263601   \n",
       "1               6.320682              10.383714              11.965008   \n",
       "2               7.730328               7.950801               6.449246   \n",
       "3               6.251683              11.965718              11.913022   \n",
       "4               6.338006               3.879814               9.186689   \n",
       "\n",
       "   5-fluorouracil_38.5_1  5-fluorouracil_38.5_2  5-fluorouracil_4.8_1  ...  \\\n",
       "0               8.825512               2.692640              7.968219  ...   \n",
       "1              11.045340              11.969012             11.909970  ...   \n",
       "2               8.021753               3.075224              5.572534  ...   \n",
       "3              11.289882              11.435796             11.533248  ...   \n",
       "4               0.965466               8.789847              7.873645  ...   \n",
       "\n",
       "   miconazole_0.025_1  miconazole_0.025_2  miconazole_0.05_1  \\\n",
       "0            9.312516            9.294373           7.704134   \n",
       "1           11.644741           11.920223           9.542753   \n",
       "2            8.802488            8.655241           8.794877   \n",
       "3           12.027601            8.473162          11.823576   \n",
       "4            9.092628            8.845137           3.284954   \n",
       "\n",
       "   miconazole_0.05_2  miconazole_0.05_3  miconazole_0.05_4  miconazole_0.1_1  \\\n",
       "0           8.931694           9.090973           7.850144          8.901877   \n",
       "1          11.970307          11.867074          11.882815         11.451223   \n",
       "2           2.469489           8.717330           8.556588          8.616406   \n",
       "3          11.998384          12.089701          12.018176         11.883272   \n",
       "4           8.006100           8.802386           8.060388          8.540803   \n",
       "\n",
       "   miconazole_0.1_2  miconazole_0.2_1  miconazole_0.2_2  \n",
       "0          7.779176          9.336565          8.923584  \n",
       "1         11.232877         11.883097         11.970710  \n",
       "2          8.332019          5.491288          6.489976  \n",
       "3         12.089652         12.094551         12.062554  \n",
       "4          9.041727          5.251110          6.069802  \n",
       "\n",
       "[5 rows x 73 columns]"
      ]
     },
     "execution_count": 53,
     "metadata": {},
     "output_type": "execute_result"
    }
   ],
   "source": [
    "original_data2.head()"
   ]
  },
  {
   "cell_type": "code",
   "execution_count": 54,
   "metadata": {},
   "outputs": [],
   "source": [
    "original_data2['orf'] = original_data2['orf'].astype(str)"
   ]
  },
  {
   "cell_type": "code",
   "execution_count": 56,
   "metadata": {},
   "outputs": [],
   "source": [
    "# Eliminate all white spaces & capitalize\n",
    "original_data2['orf'] = clean_orf(original_data2['orf'])"
   ]
  },
  {
   "cell_type": "code",
   "execution_count": 57,
   "metadata": {},
   "outputs": [],
   "source": [
    "# Translate to ORFs \n",
    "original_data2['orf'] = translate_sc(original_data2['orf'], to='orf')"
   ]
  },
  {
   "cell_type": "code",
   "execution_count": 58,
   "metadata": {},
   "outputs": [
    {
     "name": "stdout",
     "output_type": "stream",
     "text": [
      "Empty DataFrame\n",
      "Columns: [orf, gene, 5-fluorouracil_19.2_1, 5-fluorouracil_19.2_2, 5-fluorouracil_19.2_3, 5-fluorouracil_19.2_4, 5-fluorouracil_19.2_5, 5-fluorouracil_38.5_1, 5-fluorouracil_38.5_2, 5-fluorouracil_4.8_1, 5-fluorouracil_76.9_1, 5-fluorouracil_76.9_2, 5-fluorouracil_9.6_1, alverine-citrate_500_1, alverine-citrate_500_2, alverine-citrate_500_3, alverine-citrate_500_4, atorvastatin_125_1, atorvastatin_125_2, atorvastatin_62.5_1, atorvastatin_62.5_2, atorvastatin_62.5_3, cisplatin_125_1, cisplatin_125_2, cisplatin_125_3, cisplatin_31.25_1, cisplatin_31.25_2, cisplatin_62.5_1, cisplatin_62.5_2, dyclonine_250_1, dyclonine_500_1, dyclonine_500_2, dyclonine_500_3, dyclonine_500_4, fenpropimorph_1.17_1, fenpropimorph_2.34_1, fenpropimorph_2.34_2, fenpropimorph_4.69_1, fenpropimorph_4.69_2, fluconazole_130.6_1, fluconazole_130.6_2, fluconazole_16.3_1, fluconazole_32.6_1, fluconazole_32.6_2, fluconazole_65.3_1, fluconazole_65.3_2, lovastatin_154.5_1, lovastatin_154.5_2, lovastatin_154.5_3, lovastatin_77.2_1, methotrexate_125_1, methotrexate_125_2, methotrexate_125_3, methotrexate_250_1, methotrexate_250_2, methotrexate_250_3, methotrexate_250_4, methotrexate_250_5, methotrexate_250_6, methotrexate_250_7, methotrexate_250_8, methotrexate_250_9, methotrexate_500_1, miconazole_0.025_1, miconazole_0.025_2, miconazole_0.05_1, miconazole_0.05_2, miconazole_0.05_3, miconazole_0.05_4, miconazole_0.1_1, miconazole_0.1_2, miconazole_0.2_1, miconazole_0.2_2]\n",
      "Index: []\n",
      "\n",
      "[0 rows x 73 columns]\n"
     ]
    }
   ],
   "source": [
    "# Make sure everything translated ok\n",
    "t = looks_like_orf(original_data2['orf'])\n",
    "print(original_data2.loc[~t,])"
   ]
  },
  {
   "cell_type": "code",
   "execution_count": 59,
   "metadata": {},
   "outputs": [],
   "source": [
    "original_data2.set_index('orf', inplace=True)"
   ]
  },
  {
   "cell_type": "code",
   "execution_count": 60,
   "metadata": {},
   "outputs": [],
   "source": [
    "original_data2.drop(columns=['gene'], inplace=True)"
   ]
  },
  {
   "cell_type": "code",
   "execution_count": 61,
   "metadata": {},
   "outputs": [],
   "source": [
    "original_data2 = original_data2.apply(pd.to_numeric, errors='coerce')"
   ]
  },
  {
   "cell_type": "code",
   "execution_count": 62,
   "metadata": {},
   "outputs": [],
   "source": [
    "original_data2 = original_data2.groupby(original_data2.index).mean()"
   ]
  },
  {
   "cell_type": "code",
   "execution_count": 63,
   "metadata": {},
   "outputs": [
    {
     "data": {
      "text/plain": [
       "(5890, 71)"
      ]
     },
     "execution_count": 63,
     "metadata": {},
     "output_type": "execute_result"
    }
   ],
   "source": [
    "original_data2.shape"
   ]
  },
  {
   "cell_type": "markdown",
   "metadata": {},
   "source": [
    "# Clean-up"
   ]
  },
  {
   "cell_type": "code",
   "execution_count": 64,
   "metadata": {},
   "outputs": [],
   "source": [
    "eliminated = pd.read_csv('raw_data/background_tags_base.txt', sep='\\t', header=None)"
   ]
  },
  {
   "cell_type": "code",
   "execution_count": 65,
   "metadata": {},
   "outputs": [
    {
     "data": {
      "text/html": [
       "<div>\n",
       "<style scoped>\n",
       "    .dataframe tbody tr th:only-of-type {\n",
       "        vertical-align: middle;\n",
       "    }\n",
       "\n",
       "    .dataframe tbody tr th {\n",
       "        vertical-align: top;\n",
       "    }\n",
       "\n",
       "    .dataframe thead th {\n",
       "        text-align: right;\n",
       "    }\n",
       "</style>\n",
       "<table border=\"1\" class=\"dataframe\">\n",
       "  <thead>\n",
       "    <tr style=\"text-align: right;\">\n",
       "      <th></th>\n",
       "      <th>0</th>\n",
       "    </tr>\n",
       "  </thead>\n",
       "  <tbody>\n",
       "    <tr>\n",
       "      <th>0</th>\n",
       "      <td>YAL046C</td>\n",
       "    </tr>\n",
       "    <tr>\n",
       "      <th>1</th>\n",
       "      <td>YAL048C</td>\n",
       "    </tr>\n",
       "    <tr>\n",
       "      <th>2</th>\n",
       "      <td>YBL075C</td>\n",
       "    </tr>\n",
       "    <tr>\n",
       "      <th>3</th>\n",
       "      <td>YBR041W</td>\n",
       "    </tr>\n",
       "    <tr>\n",
       "      <th>4</th>\n",
       "      <td>YBR075W</td>\n",
       "    </tr>\n",
       "  </tbody>\n",
       "</table>\n",
       "</div>"
      ],
      "text/plain": [
       "           0\n",
       "0  YAL046C  \n",
       "1  YAL048C  \n",
       "2  YBL075C  \n",
       "3  YBR041W  \n",
       "4  YBR075W  "
      ]
     },
     "execution_count": 65,
     "metadata": {},
     "output_type": "execute_result"
    }
   ],
   "source": [
    "eliminated.head()"
   ]
  },
  {
   "cell_type": "code",
   "execution_count": 66,
   "metadata": {},
   "outputs": [],
   "source": [
    "eliminated['orf'] = eliminated[0].astype(str)"
   ]
  },
  {
   "cell_type": "code",
   "execution_count": 67,
   "metadata": {},
   "outputs": [],
   "source": [
    "eliminated['orf'] = clean_orf(eliminated['orf'])"
   ]
  },
  {
   "cell_type": "code",
   "execution_count": 68,
   "metadata": {},
   "outputs": [],
   "source": [
    "eliminated['orf'] = translate_sc(eliminated['orf'], to='orf')"
   ]
  },
  {
   "cell_type": "code",
   "execution_count": 69,
   "metadata": {},
   "outputs": [
    {
     "name": "stdout",
     "output_type": "stream",
     "text": [
      "Empty DataFrame\n",
      "Columns: [0, orf]\n",
      "Index: []\n"
     ]
    }
   ],
   "source": [
    "# Make sure everything translated ok\n",
    "t = looks_like_orf(eliminated['orf'])\n",
    "print(eliminated.loc[~t,])"
   ]
  },
  {
   "cell_type": "code",
   "execution_count": 70,
   "metadata": {},
   "outputs": [],
   "source": [
    "eliminated_orfs = eliminated['orf'].unique()"
   ]
  },
  {
   "cell_type": "code",
   "execution_count": 71,
   "metadata": {},
   "outputs": [],
   "source": [
    "original_data2.drop(index=eliminated_orfs, inplace=True)"
   ]
  },
  {
   "cell_type": "code",
   "execution_count": 72,
   "metadata": {},
   "outputs": [],
   "source": [
    "het_dataset_ids1 = [5312, 5312, 5312, 5312, 5312, 5314, 5314, 5310, 5315, 5315, 5311, 5337, 5337, 5337, 5337, 5323, 5323, 5322, 5322, 5322]\n",
    "het_dataset_ids2 = [5321, 5321, 5321, 5319, 5319, 5320, 5320, 5338, 5339, 5339, 5339, 5339]\n",
    "het_dataset_ids3 = [5334, 5335, 5335, 5336, 5336, 5333, 5333, 5330, 5331, 5331, 5332, 5332, 5325, 5325, 5325, 5324]\n",
    "het_dataset_ids4 = [484, 484, 484, 5308, 5308, 5308, 5308, 5308, 5308, 5308, 5308, 5308, 5309]\n",
    "het_dataset_ids5 = [5326, 5326, 5327, 5327, 5327, 5327, 5328, 5328, 5329, 5329]\n",
    "\n",
    "het_dataset_ids = het_dataset_ids1 + het_dataset_ids2 + het_dataset_ids3 + het_dataset_ids4 + het_dataset_ids5"
   ]
  },
  {
   "cell_type": "code",
   "execution_count": 73,
   "metadata": {},
   "outputs": [],
   "source": [
    "original_data2.columns = het_dataset_ids"
   ]
  },
  {
   "cell_type": "code",
   "execution_count": 74,
   "metadata": {},
   "outputs": [],
   "source": [
    "original_data2 = original_data2.T\n",
    "original_data2 = original_data2.groupby(original_data2.index).mean()\n",
    "original_data2 = original_data2.T"
   ]
  },
  {
   "cell_type": "markdown",
   "metadata": {},
   "source": [
    "# Merge"
   ]
  },
  {
   "cell_type": "code",
   "execution_count": 76,
   "metadata": {},
   "outputs": [],
   "source": [
    "original_data = original_data.join(original_data2, how='outer')"
   ]
  },
  {
   "cell_type": "code",
   "execution_count": 90,
   "metadata": {},
   "outputs": [],
   "source": [
    "# Taking the opposite to make sure that low number indicate low growth and viceversa\n",
    "original_data = -original_data"
   ]
  },
  {
   "cell_type": "markdown",
   "metadata": {},
   "source": [
    "# Prepare the final dataset"
   ]
  },
  {
   "cell_type": "code",
   "execution_count": 105,
   "metadata": {},
   "outputs": [],
   "source": [
    "data = original_data.copy()"
   ]
  },
  {
   "cell_type": "code",
   "execution_count": 106,
   "metadata": {},
   "outputs": [],
   "source": [
    "dataset_ids = original_data.columns.values\n",
    "datasets = datasets.reindex(index=dataset_ids)"
   ]
  },
  {
   "cell_type": "code",
   "execution_count": 107,
   "metadata": {},
   "outputs": [],
   "source": [
    "lst = [datasets.index.values, ['value']*datasets.shape[0]]\n",
    "tuples = list(zip(*lst))\n",
    "idx = pd.MultiIndex.from_tuples(tuples, names=['dataset_id','data_type'])\n",
    "data.columns = idx"
   ]
  },
  {
   "cell_type": "code",
   "execution_count": 108,
   "metadata": {},
   "outputs": [
    {
     "data": {
      "text/html": [
       "<div>\n",
       "<style scoped>\n",
       "    .dataframe tbody tr th:only-of-type {\n",
       "        vertical-align: middle;\n",
       "    }\n",
       "\n",
       "    .dataframe tbody tr th {\n",
       "        vertical-align: top;\n",
       "    }\n",
       "\n",
       "    .dataframe thead tr th {\n",
       "        text-align: left;\n",
       "    }\n",
       "\n",
       "    .dataframe thead tr:last-of-type th {\n",
       "        text-align: right;\n",
       "    }\n",
       "</style>\n",
       "<table border=\"1\" class=\"dataframe\">\n",
       "  <thead>\n",
       "    <tr>\n",
       "      <th>dataset_id</th>\n",
       "      <th>5313</th>\n",
       "      <th>5316</th>\n",
       "      <th>5317</th>\n",
       "      <th>5318</th>\n",
       "      <th>484</th>\n",
       "      <th>5308</th>\n",
       "      <th>5309</th>\n",
       "      <th>5310</th>\n",
       "      <th>5311</th>\n",
       "      <th>5312</th>\n",
       "      <th>...</th>\n",
       "      <th>5330</th>\n",
       "      <th>5331</th>\n",
       "      <th>5332</th>\n",
       "      <th>5333</th>\n",
       "      <th>5334</th>\n",
       "      <th>5335</th>\n",
       "      <th>5336</th>\n",
       "      <th>5337</th>\n",
       "      <th>5338</th>\n",
       "      <th>5339</th>\n",
       "    </tr>\n",
       "    <tr>\n",
       "      <th>data_type</th>\n",
       "      <th>value</th>\n",
       "      <th>value</th>\n",
       "      <th>value</th>\n",
       "      <th>value</th>\n",
       "      <th>value</th>\n",
       "      <th>value</th>\n",
       "      <th>value</th>\n",
       "      <th>value</th>\n",
       "      <th>value</th>\n",
       "      <th>value</th>\n",
       "      <th>...</th>\n",
       "      <th>value</th>\n",
       "      <th>value</th>\n",
       "      <th>value</th>\n",
       "      <th>value</th>\n",
       "      <th>value</th>\n",
       "      <th>value</th>\n",
       "      <th>value</th>\n",
       "      <th>value</th>\n",
       "      <th>value</th>\n",
       "      <th>value</th>\n",
       "    </tr>\n",
       "    <tr>\n",
       "      <th>orf</th>\n",
       "      <th></th>\n",
       "      <th></th>\n",
       "      <th></th>\n",
       "      <th></th>\n",
       "      <th></th>\n",
       "      <th></th>\n",
       "      <th></th>\n",
       "      <th></th>\n",
       "      <th></th>\n",
       "      <th></th>\n",
       "      <th></th>\n",
       "      <th></th>\n",
       "      <th></th>\n",
       "      <th></th>\n",
       "      <th></th>\n",
       "      <th></th>\n",
       "      <th></th>\n",
       "      <th></th>\n",
       "      <th></th>\n",
       "      <th></th>\n",
       "      <th></th>\n",
       "    </tr>\n",
       "  </thead>\n",
       "  <tbody>\n",
       "    <tr>\n",
       "      <th>YAL001C</th>\n",
       "      <td>NaN</td>\n",
       "      <td>NaN</td>\n",
       "      <td>NaN</td>\n",
       "      <td>NaN</td>\n",
       "      <td>-10.241723</td>\n",
       "      <td>-8.394513</td>\n",
       "      <td>-12.963801</td>\n",
       "      <td>-5.305541</td>\n",
       "      <td>-12.777055</td>\n",
       "      <td>-14.862464</td>\n",
       "      <td>...</td>\n",
       "      <td>-12.756595</td>\n",
       "      <td>-12.744340</td>\n",
       "      <td>-37.104401</td>\n",
       "      <td>-6.220064</td>\n",
       "      <td>-11.965642</td>\n",
       "      <td>-12.169580</td>\n",
       "      <td>-10.486425</td>\n",
       "      <td>-11.234607</td>\n",
       "      <td>-11.504931</td>\n",
       "      <td>-12.550038</td>\n",
       "    </tr>\n",
       "    <tr>\n",
       "      <th>YAL002W</th>\n",
       "      <td>-8.314742</td>\n",
       "      <td>-5.943437</td>\n",
       "      <td>-7.896116</td>\n",
       "      <td>-7.291485</td>\n",
       "      <td>-4.606831</td>\n",
       "      <td>-4.655540</td>\n",
       "      <td>-5.151632</td>\n",
       "      <td>-10.826237</td>\n",
       "      <td>-11.320897</td>\n",
       "      <td>-7.855313</td>\n",
       "      <td>...</td>\n",
       "      <td>-11.360089</td>\n",
       "      <td>-10.073073</td>\n",
       "      <td>-6.074381</td>\n",
       "      <td>-7.628480</td>\n",
       "      <td>-11.216772</td>\n",
       "      <td>-11.303706</td>\n",
       "      <td>-0.000000</td>\n",
       "      <td>-7.683093</td>\n",
       "      <td>-7.473625</td>\n",
       "      <td>-8.000328</td>\n",
       "    </tr>\n",
       "    <tr>\n",
       "      <th>YAL003W</th>\n",
       "      <td>NaN</td>\n",
       "      <td>NaN</td>\n",
       "      <td>NaN</td>\n",
       "      <td>NaN</td>\n",
       "      <td>-11.399370</td>\n",
       "      <td>-11.383999</td>\n",
       "      <td>-11.846263</td>\n",
       "      <td>-11.431457</td>\n",
       "      <td>-11.093273</td>\n",
       "      <td>-14.452351</td>\n",
       "      <td>...</td>\n",
       "      <td>-12.447660</td>\n",
       "      <td>-11.964288</td>\n",
       "      <td>-16.708642</td>\n",
       "      <td>-9.905243</td>\n",
       "      <td>-9.511714</td>\n",
       "      <td>-5.222946</td>\n",
       "      <td>-0.000000</td>\n",
       "      <td>-11.625859</td>\n",
       "      <td>-12.559666</td>\n",
       "      <td>-11.406546</td>\n",
       "    </tr>\n",
       "    <tr>\n",
       "      <th>YAL004W</th>\n",
       "      <td>-9.620951</td>\n",
       "      <td>-9.317006</td>\n",
       "      <td>-7.211976</td>\n",
       "      <td>-5.817583</td>\n",
       "      <td>-10.543800</td>\n",
       "      <td>-12.249503</td>\n",
       "      <td>-10.459395</td>\n",
       "      <td>-12.291015</td>\n",
       "      <td>-0.000000</td>\n",
       "      <td>-8.455324</td>\n",
       "      <td>...</td>\n",
       "      <td>-12.228788</td>\n",
       "      <td>-9.156718</td>\n",
       "      <td>-5.819805</td>\n",
       "      <td>-4.800479</td>\n",
       "      <td>-9.804812</td>\n",
       "      <td>-10.205156</td>\n",
       "      <td>-4.260552</td>\n",
       "      <td>-12.303574</td>\n",
       "      <td>-9.858953</td>\n",
       "      <td>-12.693315</td>\n",
       "    </tr>\n",
       "    <tr>\n",
       "      <th>YAL005C</th>\n",
       "      <td>-8.903910</td>\n",
       "      <td>-8.984145</td>\n",
       "      <td>-6.195716</td>\n",
       "      <td>-8.464179</td>\n",
       "      <td>-9.711878</td>\n",
       "      <td>-7.926802</td>\n",
       "      <td>-10.909778</td>\n",
       "      <td>-10.883547</td>\n",
       "      <td>-7.499103</td>\n",
       "      <td>-8.548105</td>\n",
       "      <td>...</td>\n",
       "      <td>-10.373533</td>\n",
       "      <td>-9.685622</td>\n",
       "      <td>-10.111358</td>\n",
       "      <td>-2.222977</td>\n",
       "      <td>-8.846109</td>\n",
       "      <td>-9.656358</td>\n",
       "      <td>-13.498609</td>\n",
       "      <td>-16.329477</td>\n",
       "      <td>-9.055622</td>\n",
       "      <td>-7.412484</td>\n",
       "    </tr>\n",
       "  </tbody>\n",
       "</table>\n",
       "<p>5 rows × 33 columns</p>\n",
       "</div>"
      ],
      "text/plain": [
       "dataset_id      5313      5316      5317      5318       484        5308  \\\n",
       "data_type      value     value     value     value      value      value   \n",
       "orf                                                                        \n",
       "YAL001C          NaN       NaN       NaN       NaN -10.241723  -8.394513   \n",
       "YAL002W    -8.314742 -5.943437 -7.896116 -7.291485  -4.606831  -4.655540   \n",
       "YAL003W          NaN       NaN       NaN       NaN -11.399370 -11.383999   \n",
       "YAL004W    -9.620951 -9.317006 -7.211976 -5.817583 -10.543800 -12.249503   \n",
       "YAL005C    -8.903910 -8.984145 -6.195716 -8.464179  -9.711878  -7.926802   \n",
       "\n",
       "dataset_id       5309       5310       5311       5312  ...       5330  \\\n",
       "data_type       value      value      value      value  ...      value   \n",
       "orf                                                     ...              \n",
       "YAL001C    -12.963801  -5.305541 -12.777055 -14.862464  ... -12.756595   \n",
       "YAL002W     -5.151632 -10.826237 -11.320897  -7.855313  ... -11.360089   \n",
       "YAL003W    -11.846263 -11.431457 -11.093273 -14.452351  ... -12.447660   \n",
       "YAL004W    -10.459395 -12.291015  -0.000000  -8.455324  ... -12.228788   \n",
       "YAL005C    -10.909778 -10.883547  -7.499103  -8.548105  ... -10.373533   \n",
       "\n",
       "dataset_id       5331       5332      5333       5334       5335       5336  \\\n",
       "data_type       value      value     value      value      value      value   \n",
       "orf                                                                           \n",
       "YAL001C    -12.744340 -37.104401 -6.220064 -11.965642 -12.169580 -10.486425   \n",
       "YAL002W    -10.073073  -6.074381 -7.628480 -11.216772 -11.303706  -0.000000   \n",
       "YAL003W    -11.964288 -16.708642 -9.905243  -9.511714  -5.222946  -0.000000   \n",
       "YAL004W     -9.156718  -5.819805 -4.800479  -9.804812 -10.205156  -4.260552   \n",
       "YAL005C     -9.685622 -10.111358 -2.222977  -8.846109  -9.656358 -13.498609   \n",
       "\n",
       "dataset_id       5337       5338       5339  \n",
       "data_type       value      value      value  \n",
       "orf                                          \n",
       "YAL001C    -11.234607 -11.504931 -12.550038  \n",
       "YAL002W     -7.683093  -7.473625  -8.000328  \n",
       "YAL003W    -11.625859 -12.559666 -11.406546  \n",
       "YAL004W    -12.303574  -9.858953 -12.693315  \n",
       "YAL005C    -16.329477  -9.055622  -7.412484  \n",
       "\n",
       "[5 rows x 33 columns]"
      ]
     },
     "execution_count": 108,
     "metadata": {},
     "output_type": "execute_result"
    }
   ],
   "source": [
    "data.head()"
   ]
  },
  {
   "cell_type": "markdown",
   "metadata": {},
   "source": [
    "## Subset to the genes currently in SGD"
   ]
  },
  {
   "cell_type": "code",
   "execution_count": 109,
   "metadata": {},
   "outputs": [
    {
     "name": "stdout",
     "output_type": "stream",
     "text": [
      "ORFs missing from SGD: 24\n"
     ]
    }
   ],
   "source": [
    "genes = pd.read_csv(path_to_genes, sep='\\t', index_col='id')\n",
    "genes = genes.reset_index().set_index('systematic_name')\n",
    "gene_ids = genes.reindex(index=data.index.values)['id'].values\n",
    "num_missing = np.sum(np.isnan(gene_ids))\n",
    "print('ORFs missing from SGD: %d' % num_missing)"
   ]
  },
  {
   "cell_type": "code",
   "execution_count": 110,
   "metadata": {},
   "outputs": [
    {
     "data": {
      "text/html": [
       "<div>\n",
       "<style scoped>\n",
       "    .dataframe tbody tr th:only-of-type {\n",
       "        vertical-align: middle;\n",
       "    }\n",
       "\n",
       "    .dataframe tbody tr th {\n",
       "        vertical-align: top;\n",
       "    }\n",
       "\n",
       "    .dataframe thead tr th {\n",
       "        text-align: left;\n",
       "    }\n",
       "\n",
       "    .dataframe thead tr:last-of-type th {\n",
       "        text-align: right;\n",
       "    }\n",
       "</style>\n",
       "<table border=\"1\" class=\"dataframe\">\n",
       "  <thead>\n",
       "    <tr>\n",
       "      <th></th>\n",
       "      <th>dataset_id</th>\n",
       "      <th>5313</th>\n",
       "      <th>5316</th>\n",
       "      <th>5317</th>\n",
       "      <th>5318</th>\n",
       "      <th>484</th>\n",
       "      <th>5308</th>\n",
       "      <th>5309</th>\n",
       "      <th>5310</th>\n",
       "      <th>5311</th>\n",
       "      <th>5312</th>\n",
       "      <th>...</th>\n",
       "      <th>5330</th>\n",
       "      <th>5331</th>\n",
       "      <th>5332</th>\n",
       "      <th>5333</th>\n",
       "      <th>5334</th>\n",
       "      <th>5335</th>\n",
       "      <th>5336</th>\n",
       "      <th>5337</th>\n",
       "      <th>5338</th>\n",
       "      <th>5339</th>\n",
       "    </tr>\n",
       "    <tr>\n",
       "      <th></th>\n",
       "      <th>data_type</th>\n",
       "      <th>value</th>\n",
       "      <th>value</th>\n",
       "      <th>value</th>\n",
       "      <th>value</th>\n",
       "      <th>value</th>\n",
       "      <th>value</th>\n",
       "      <th>value</th>\n",
       "      <th>value</th>\n",
       "      <th>value</th>\n",
       "      <th>value</th>\n",
       "      <th>...</th>\n",
       "      <th>value</th>\n",
       "      <th>value</th>\n",
       "      <th>value</th>\n",
       "      <th>value</th>\n",
       "      <th>value</th>\n",
       "      <th>value</th>\n",
       "      <th>value</th>\n",
       "      <th>value</th>\n",
       "      <th>value</th>\n",
       "      <th>value</th>\n",
       "    </tr>\n",
       "    <tr>\n",
       "      <th>gene_id</th>\n",
       "      <th>orf</th>\n",
       "      <th></th>\n",
       "      <th></th>\n",
       "      <th></th>\n",
       "      <th></th>\n",
       "      <th></th>\n",
       "      <th></th>\n",
       "      <th></th>\n",
       "      <th></th>\n",
       "      <th></th>\n",
       "      <th></th>\n",
       "      <th></th>\n",
       "      <th></th>\n",
       "      <th></th>\n",
       "      <th></th>\n",
       "      <th></th>\n",
       "      <th></th>\n",
       "      <th></th>\n",
       "      <th></th>\n",
       "      <th></th>\n",
       "      <th></th>\n",
       "      <th></th>\n",
       "    </tr>\n",
       "  </thead>\n",
       "  <tbody>\n",
       "    <tr>\n",
       "      <th>1</th>\n",
       "      <th>YAL001C</th>\n",
       "      <td>NaN</td>\n",
       "      <td>NaN</td>\n",
       "      <td>NaN</td>\n",
       "      <td>NaN</td>\n",
       "      <td>-10.241723</td>\n",
       "      <td>-8.394513</td>\n",
       "      <td>-12.963801</td>\n",
       "      <td>-5.305541</td>\n",
       "      <td>-12.777055</td>\n",
       "      <td>-14.862464</td>\n",
       "      <td>...</td>\n",
       "      <td>-12.756595</td>\n",
       "      <td>-12.744340</td>\n",
       "      <td>-37.104401</td>\n",
       "      <td>-6.220064</td>\n",
       "      <td>-11.965642</td>\n",
       "      <td>-12.169580</td>\n",
       "      <td>-10.486425</td>\n",
       "      <td>-11.234607</td>\n",
       "      <td>-11.504931</td>\n",
       "      <td>-12.550038</td>\n",
       "    </tr>\n",
       "    <tr>\n",
       "      <th>2</th>\n",
       "      <th>YAL002W</th>\n",
       "      <td>-8.314742</td>\n",
       "      <td>-5.943437</td>\n",
       "      <td>-7.896116</td>\n",
       "      <td>-7.291485</td>\n",
       "      <td>-4.606831</td>\n",
       "      <td>-4.655540</td>\n",
       "      <td>-5.151632</td>\n",
       "      <td>-10.826237</td>\n",
       "      <td>-11.320897</td>\n",
       "      <td>-7.855313</td>\n",
       "      <td>...</td>\n",
       "      <td>-11.360089</td>\n",
       "      <td>-10.073073</td>\n",
       "      <td>-6.074381</td>\n",
       "      <td>-7.628480</td>\n",
       "      <td>-11.216772</td>\n",
       "      <td>-11.303706</td>\n",
       "      <td>-0.000000</td>\n",
       "      <td>-7.683093</td>\n",
       "      <td>-7.473625</td>\n",
       "      <td>-8.000328</td>\n",
       "    </tr>\n",
       "    <tr>\n",
       "      <th>3</th>\n",
       "      <th>YAL003W</th>\n",
       "      <td>NaN</td>\n",
       "      <td>NaN</td>\n",
       "      <td>NaN</td>\n",
       "      <td>NaN</td>\n",
       "      <td>-11.399370</td>\n",
       "      <td>-11.383999</td>\n",
       "      <td>-11.846263</td>\n",
       "      <td>-11.431457</td>\n",
       "      <td>-11.093273</td>\n",
       "      <td>-14.452351</td>\n",
       "      <td>...</td>\n",
       "      <td>-12.447660</td>\n",
       "      <td>-11.964288</td>\n",
       "      <td>-16.708642</td>\n",
       "      <td>-9.905243</td>\n",
       "      <td>-9.511714</td>\n",
       "      <td>-5.222946</td>\n",
       "      <td>-0.000000</td>\n",
       "      <td>-11.625859</td>\n",
       "      <td>-12.559666</td>\n",
       "      <td>-11.406546</td>\n",
       "    </tr>\n",
       "    <tr>\n",
       "      <th>1863</th>\n",
       "      <th>YAL004W</th>\n",
       "      <td>-9.620951</td>\n",
       "      <td>-9.317006</td>\n",
       "      <td>-7.211976</td>\n",
       "      <td>-5.817583</td>\n",
       "      <td>-10.543800</td>\n",
       "      <td>-12.249503</td>\n",
       "      <td>-10.459395</td>\n",
       "      <td>-12.291015</td>\n",
       "      <td>-0.000000</td>\n",
       "      <td>-8.455324</td>\n",
       "      <td>...</td>\n",
       "      <td>-12.228788</td>\n",
       "      <td>-9.156718</td>\n",
       "      <td>-5.819805</td>\n",
       "      <td>-4.800479</td>\n",
       "      <td>-9.804812</td>\n",
       "      <td>-10.205156</td>\n",
       "      <td>-4.260552</td>\n",
       "      <td>-12.303574</td>\n",
       "      <td>-9.858953</td>\n",
       "      <td>-12.693315</td>\n",
       "    </tr>\n",
       "    <tr>\n",
       "      <th>4</th>\n",
       "      <th>YAL005C</th>\n",
       "      <td>-8.903910</td>\n",
       "      <td>-8.984145</td>\n",
       "      <td>-6.195716</td>\n",
       "      <td>-8.464179</td>\n",
       "      <td>-9.711878</td>\n",
       "      <td>-7.926802</td>\n",
       "      <td>-10.909778</td>\n",
       "      <td>-10.883547</td>\n",
       "      <td>-7.499103</td>\n",
       "      <td>-8.548105</td>\n",
       "      <td>...</td>\n",
       "      <td>-10.373533</td>\n",
       "      <td>-9.685622</td>\n",
       "      <td>-10.111358</td>\n",
       "      <td>-2.222977</td>\n",
       "      <td>-8.846109</td>\n",
       "      <td>-9.656358</td>\n",
       "      <td>-13.498609</td>\n",
       "      <td>-16.329477</td>\n",
       "      <td>-9.055622</td>\n",
       "      <td>-7.412484</td>\n",
       "    </tr>\n",
       "  </tbody>\n",
       "</table>\n",
       "<p>5 rows × 33 columns</p>\n",
       "</div>"
      ],
      "text/plain": [
       "dataset_id           5313      5316      5317      5318       484        5308  \\\n",
       "data_type           value     value     value     value      value      value   \n",
       "gene_id orf                                                                     \n",
       "1       YAL001C       NaN       NaN       NaN       NaN -10.241723  -8.394513   \n",
       "2       YAL002W -8.314742 -5.943437 -7.896116 -7.291485  -4.606831  -4.655540   \n",
       "3       YAL003W       NaN       NaN       NaN       NaN -11.399370 -11.383999   \n",
       "1863    YAL004W -9.620951 -9.317006 -7.211976 -5.817583 -10.543800 -12.249503   \n",
       "4       YAL005C -8.903910 -8.984145 -6.195716 -8.464179  -9.711878  -7.926802   \n",
       "\n",
       "dataset_id            5309       5310       5311       5312  ...       5330  \\\n",
       "data_type            value      value      value      value  ...      value   \n",
       "gene_id orf                                                  ...              \n",
       "1       YAL001C -12.963801  -5.305541 -12.777055 -14.862464  ... -12.756595   \n",
       "2       YAL002W  -5.151632 -10.826237 -11.320897  -7.855313  ... -11.360089   \n",
       "3       YAL003W -11.846263 -11.431457 -11.093273 -14.452351  ... -12.447660   \n",
       "1863    YAL004W -10.459395 -12.291015  -0.000000  -8.455324  ... -12.228788   \n",
       "4       YAL005C -10.909778 -10.883547  -7.499103  -8.548105  ... -10.373533   \n",
       "\n",
       "dataset_id            5331       5332      5333       5334       5335  \\\n",
       "data_type            value      value     value      value      value   \n",
       "gene_id orf                                                             \n",
       "1       YAL001C -12.744340 -37.104401 -6.220064 -11.965642 -12.169580   \n",
       "2       YAL002W -10.073073  -6.074381 -7.628480 -11.216772 -11.303706   \n",
       "3       YAL003W -11.964288 -16.708642 -9.905243  -9.511714  -5.222946   \n",
       "1863    YAL004W  -9.156718  -5.819805 -4.800479  -9.804812 -10.205156   \n",
       "4       YAL005C  -9.685622 -10.111358 -2.222977  -8.846109  -9.656358   \n",
       "\n",
       "dataset_id            5336       5337       5338       5339  \n",
       "data_type            value      value      value      value  \n",
       "gene_id orf                                                  \n",
       "1       YAL001C -10.486425 -11.234607 -11.504931 -12.550038  \n",
       "2       YAL002W  -0.000000  -7.683093  -7.473625  -8.000328  \n",
       "3       YAL003W  -0.000000 -11.625859 -12.559666 -11.406546  \n",
       "1863    YAL004W  -4.260552 -12.303574  -9.858953 -12.693315  \n",
       "4       YAL005C -13.498609 -16.329477  -9.055622  -7.412484  \n",
       "\n",
       "[5 rows x 33 columns]"
      ]
     },
     "execution_count": 110,
     "metadata": {},
     "output_type": "execute_result"
    }
   ],
   "source": [
    "data['gene_id'] = gene_ids\n",
    "data = data.loc[data['gene_id'].notnull()]\n",
    "data['gene_id'] = data['gene_id'].astype(int)\n",
    "data = data.reset_index().set_index(['gene_id','orf'])\n",
    "\n",
    "data.head()"
   ]
  },
  {
   "cell_type": "markdown",
   "metadata": {},
   "source": [
    "# Normalize"
   ]
  },
  {
   "cell_type": "code",
   "execution_count": 111,
   "metadata": {},
   "outputs": [],
   "source": [
    "data_norm = normalize_phenotypic_scores(data, has_tested=True)"
   ]
  },
  {
   "cell_type": "code",
   "execution_count": 112,
   "metadata": {},
   "outputs": [],
   "source": [
    "# Assign proper column names\n",
    "lst = [datasets.index.values, ['valuez']*datasets.shape[0]]\n",
    "tuples = list(zip(*lst))\n",
    "idx = pd.MultiIndex.from_tuples(tuples, names=['dataset_id','data_type'])\n",
    "data_norm.columns = idx"
   ]
  },
  {
   "cell_type": "code",
   "execution_count": 113,
   "metadata": {},
   "outputs": [
    {
     "data": {
      "text/html": [
       "<div>\n",
       "<style scoped>\n",
       "    .dataframe tbody tr th:only-of-type {\n",
       "        vertical-align: middle;\n",
       "    }\n",
       "\n",
       "    .dataframe tbody tr th {\n",
       "        vertical-align: top;\n",
       "    }\n",
       "\n",
       "    .dataframe thead tr th {\n",
       "        text-align: left;\n",
       "    }\n",
       "\n",
       "    .dataframe thead tr:last-of-type th {\n",
       "        text-align: right;\n",
       "    }\n",
       "</style>\n",
       "<table border=\"1\" class=\"dataframe\">\n",
       "  <thead>\n",
       "    <tr>\n",
       "      <th></th>\n",
       "      <th>dataset_id</th>\n",
       "      <th>5313</th>\n",
       "      <th>5316</th>\n",
       "      <th>5317</th>\n",
       "      <th>5318</th>\n",
       "      <th>484</th>\n",
       "      <th>5308</th>\n",
       "      <th>5309</th>\n",
       "      <th>5310</th>\n",
       "      <th>5311</th>\n",
       "      <th>5312</th>\n",
       "      <th>...</th>\n",
       "      <th>5330</th>\n",
       "      <th>5331</th>\n",
       "      <th>5332</th>\n",
       "      <th>5333</th>\n",
       "      <th>5334</th>\n",
       "      <th>5335</th>\n",
       "      <th>5336</th>\n",
       "      <th>5337</th>\n",
       "      <th>5338</th>\n",
       "      <th>5339</th>\n",
       "    </tr>\n",
       "    <tr>\n",
       "      <th></th>\n",
       "      <th>data_type</th>\n",
       "      <th>value</th>\n",
       "      <th>value</th>\n",
       "      <th>value</th>\n",
       "      <th>value</th>\n",
       "      <th>value</th>\n",
       "      <th>value</th>\n",
       "      <th>value</th>\n",
       "      <th>value</th>\n",
       "      <th>value</th>\n",
       "      <th>value</th>\n",
       "      <th>...</th>\n",
       "      <th>valuez</th>\n",
       "      <th>valuez</th>\n",
       "      <th>valuez</th>\n",
       "      <th>valuez</th>\n",
       "      <th>valuez</th>\n",
       "      <th>valuez</th>\n",
       "      <th>valuez</th>\n",
       "      <th>valuez</th>\n",
       "      <th>valuez</th>\n",
       "      <th>valuez</th>\n",
       "    </tr>\n",
       "    <tr>\n",
       "      <th>gene_id</th>\n",
       "      <th>orf</th>\n",
       "      <th></th>\n",
       "      <th></th>\n",
       "      <th></th>\n",
       "      <th></th>\n",
       "      <th></th>\n",
       "      <th></th>\n",
       "      <th></th>\n",
       "      <th></th>\n",
       "      <th></th>\n",
       "      <th></th>\n",
       "      <th></th>\n",
       "      <th></th>\n",
       "      <th></th>\n",
       "      <th></th>\n",
       "      <th></th>\n",
       "      <th></th>\n",
       "      <th></th>\n",
       "      <th></th>\n",
       "      <th></th>\n",
       "      <th></th>\n",
       "      <th></th>\n",
       "    </tr>\n",
       "  </thead>\n",
       "  <tbody>\n",
       "    <tr>\n",
       "      <th>1</th>\n",
       "      <th>YAL001C</th>\n",
       "      <td>NaN</td>\n",
       "      <td>NaN</td>\n",
       "      <td>NaN</td>\n",
       "      <td>NaN</td>\n",
       "      <td>-10.241723</td>\n",
       "      <td>-8.394513</td>\n",
       "      <td>-12.963801</td>\n",
       "      <td>-5.305541</td>\n",
       "      <td>-12.777055</td>\n",
       "      <td>-14.862464</td>\n",
       "      <td>...</td>\n",
       "      <td>-1.887700</td>\n",
       "      <td>-0.523506</td>\n",
       "      <td>-1.520588</td>\n",
       "      <td>0.149969</td>\n",
       "      <td>-0.694591</td>\n",
       "      <td>-0.621363</td>\n",
       "      <td>-0.172332</td>\n",
       "      <td>-0.311926</td>\n",
       "      <td>-0.785159</td>\n",
       "      <td>-1.026414</td>\n",
       "    </tr>\n",
       "    <tr>\n",
       "      <th>2</th>\n",
       "      <th>YAL002W</th>\n",
       "      <td>-8.314742</td>\n",
       "      <td>-5.943437</td>\n",
       "      <td>-7.896116</td>\n",
       "      <td>-7.291485</td>\n",
       "      <td>-4.606831</td>\n",
       "      <td>-4.655540</td>\n",
       "      <td>-5.151632</td>\n",
       "      <td>-10.826237</td>\n",
       "      <td>-11.320897</td>\n",
       "      <td>-7.855313</td>\n",
       "      <td>...</td>\n",
       "      <td>-1.124286</td>\n",
       "      <td>-0.154045</td>\n",
       "      <td>-0.027042</td>\n",
       "      <td>0.036571</td>\n",
       "      <td>-0.531683</td>\n",
       "      <td>-0.535954</td>\n",
       "      <td>0.282120</td>\n",
       "      <td>0.002433</td>\n",
       "      <td>0.648787</td>\n",
       "      <td>0.446637</td>\n",
       "    </tr>\n",
       "    <tr>\n",
       "      <th>3</th>\n",
       "      <th>YAL003W</th>\n",
       "      <td>NaN</td>\n",
       "      <td>NaN</td>\n",
       "      <td>NaN</td>\n",
       "      <td>NaN</td>\n",
       "      <td>-11.399370</td>\n",
       "      <td>-11.383999</td>\n",
       "      <td>-11.846263</td>\n",
       "      <td>-11.431457</td>\n",
       "      <td>-11.093273</td>\n",
       "      <td>-14.452351</td>\n",
       "      <td>...</td>\n",
       "      <td>-1.718818</td>\n",
       "      <td>-0.415617</td>\n",
       "      <td>-0.538894</td>\n",
       "      <td>-0.146741</td>\n",
       "      <td>-0.160766</td>\n",
       "      <td>0.063841</td>\n",
       "      <td>0.282120</td>\n",
       "      <td>-0.346558</td>\n",
       "      <td>-1.160331</td>\n",
       "      <td>-0.656188</td>\n",
       "    </tr>\n",
       "    <tr>\n",
       "      <th>1863</th>\n",
       "      <th>YAL004W</th>\n",
       "      <td>-9.620951</td>\n",
       "      <td>-9.317006</td>\n",
       "      <td>-7.211976</td>\n",
       "      <td>-5.817583</td>\n",
       "      <td>-10.543800</td>\n",
       "      <td>-12.249503</td>\n",
       "      <td>-10.459395</td>\n",
       "      <td>-12.291015</td>\n",
       "      <td>-0.000000</td>\n",
       "      <td>-8.455324</td>\n",
       "      <td>...</td>\n",
       "      <td>-1.599169</td>\n",
       "      <td>-0.027305</td>\n",
       "      <td>-0.014789</td>\n",
       "      <td>0.264266</td>\n",
       "      <td>-0.224527</td>\n",
       "      <td>-0.427595</td>\n",
       "      <td>0.097480</td>\n",
       "      <td>-0.406545</td>\n",
       "      <td>-0.199680</td>\n",
       "      <td>-1.072803</td>\n",
       "    </tr>\n",
       "    <tr>\n",
       "      <th>4</th>\n",
       "      <th>YAL005C</th>\n",
       "      <td>-8.903910</td>\n",
       "      <td>-8.984145</td>\n",
       "      <td>-6.195716</td>\n",
       "      <td>-8.464179</td>\n",
       "      <td>-9.711878</td>\n",
       "      <td>-7.926802</td>\n",
       "      <td>-10.909778</td>\n",
       "      <td>-10.883547</td>\n",
       "      <td>-7.499103</td>\n",
       "      <td>-8.548105</td>\n",
       "      <td>...</td>\n",
       "      <td>-0.584975</td>\n",
       "      <td>-0.100457</td>\n",
       "      <td>-0.221351</td>\n",
       "      <td>0.471792</td>\n",
       "      <td>-0.015971</td>\n",
       "      <td>-0.373463</td>\n",
       "      <td>-0.302872</td>\n",
       "      <td>-0.762894</td>\n",
       "      <td>0.086067</td>\n",
       "      <td>0.636962</td>\n",
       "    </tr>\n",
       "  </tbody>\n",
       "</table>\n",
       "<p>5 rows × 66 columns</p>\n",
       "</div>"
      ],
      "text/plain": [
       "dataset_id           5313      5316      5317      5318       484        5308  \\\n",
       "data_type           value     value     value     value      value      value   \n",
       "gene_id orf                                                                     \n",
       "1       YAL001C       NaN       NaN       NaN       NaN -10.241723  -8.394513   \n",
       "2       YAL002W -8.314742 -5.943437 -7.896116 -7.291485  -4.606831  -4.655540   \n",
       "3       YAL003W       NaN       NaN       NaN       NaN -11.399370 -11.383999   \n",
       "1863    YAL004W -9.620951 -9.317006 -7.211976 -5.817583 -10.543800 -12.249503   \n",
       "4       YAL005C -8.903910 -8.984145 -6.195716 -8.464179  -9.711878  -7.926802   \n",
       "\n",
       "dataset_id            5309       5310       5311       5312  ...      5330  \\\n",
       "data_type            value      value      value      value  ...    valuez   \n",
       "gene_id orf                                                  ...             \n",
       "1       YAL001C -12.963801  -5.305541 -12.777055 -14.862464  ... -1.887700   \n",
       "2       YAL002W  -5.151632 -10.826237 -11.320897  -7.855313  ... -1.124286   \n",
       "3       YAL003W -11.846263 -11.431457 -11.093273 -14.452351  ... -1.718818   \n",
       "1863    YAL004W -10.459395 -12.291015  -0.000000  -8.455324  ... -1.599169   \n",
       "4       YAL005C -10.909778 -10.883547  -7.499103  -8.548105  ... -0.584975   \n",
       "\n",
       "dataset_id           5331      5332      5333      5334      5335      5336  \\\n",
       "data_type          valuez    valuez    valuez    valuez    valuez    valuez   \n",
       "gene_id orf                                                                   \n",
       "1       YAL001C -0.523506 -1.520588  0.149969 -0.694591 -0.621363 -0.172332   \n",
       "2       YAL002W -0.154045 -0.027042  0.036571 -0.531683 -0.535954  0.282120   \n",
       "3       YAL003W -0.415617 -0.538894 -0.146741 -0.160766  0.063841  0.282120   \n",
       "1863    YAL004W -0.027305 -0.014789  0.264266 -0.224527 -0.427595  0.097480   \n",
       "4       YAL005C -0.100457 -0.221351  0.471792 -0.015971 -0.373463 -0.302872   \n",
       "\n",
       "dataset_id           5337      5338      5339  \n",
       "data_type          valuez    valuez    valuez  \n",
       "gene_id orf                                    \n",
       "1       YAL001C -0.311926 -0.785159 -1.026414  \n",
       "2       YAL002W  0.002433  0.648787  0.446637  \n",
       "3       YAL003W -0.346558 -1.160331 -0.656188  \n",
       "1863    YAL004W -0.406545 -0.199680 -1.072803  \n",
       "4       YAL005C -0.762894  0.086067  0.636962  \n",
       "\n",
       "[5 rows x 66 columns]"
      ]
     },
     "execution_count": 113,
     "metadata": {},
     "output_type": "execute_result"
    }
   ],
   "source": [
    "data_norm[data.isnull()] = np.nan\n",
    "data_all = data.join(data_norm)\n",
    "\n",
    "data_all.head()"
   ]
  },
  {
   "cell_type": "markdown",
   "metadata": {},
   "source": [
    "# Print out"
   ]
  },
  {
   "cell_type": "code",
   "execution_count": 114,
   "metadata": {},
   "outputs": [],
   "source": [
    "for f in ['value','valuez']:\n",
    "    df = data_all.xs(f, level='data_type', axis=1).copy()\n",
    "    df.columns = datasets['name'].values\n",
    "    df = df.droplevel('gene_id', axis=0)\n",
    "    df.to_csv(paper_name + '_' + f + '.txt', sep='\\t')"
   ]
  },
  {
   "cell_type": "markdown",
   "metadata": {},
   "source": [
    "# Save to DB"
   ]
  },
  {
   "cell_type": "code",
   "execution_count": 115,
   "metadata": {},
   "outputs": [],
   "source": [
    "from IO.save_data_to_db3 import *"
   ]
  },
  {
   "cell_type": "code",
   "execution_count": 116,
   "metadata": {},
   "outputs": [
    {
     "name": "stderr",
     "output_type": "stream",
     "text": [
      "  0%|          | 0/33 [00:00<?, ?it/s]"
     ]
    },
    {
     "name": "stdout",
     "output_type": "stream",
     "text": [
      "Deleting all datasets for PMID 14718668...\n",
      "Inserting the new data...\n"
     ]
    },
    {
     "name": "stderr",
     "output_type": "stream",
     "text": [
      "100%|██████████| 33/33 [04:43<00:00,  8.60s/it]"
     ]
    },
    {
     "name": "stdout",
     "output_type": "stream",
     "text": [
      "Updating the data_modified_on field...\n"
     ]
    },
    {
     "name": "stderr",
     "output_type": "stream",
     "text": [
      "\n"
     ]
    }
   ],
   "source": [
    "save_data_to_db(data_all, paper_pmid)"
   ]
  },
  {
   "cell_type": "code",
   "execution_count": null,
   "metadata": {},
   "outputs": [],
   "source": []
  }
 ],
 "metadata": {
  "kernelspec": {
   "display_name": "yp-data",
   "language": "python",
   "name": "yp-data"
  },
  "language_info": {
   "codemirror_mode": {
    "name": "ipython",
    "version": 3
   },
   "file_extension": ".py",
   "mimetype": "text/x-python",
   "name": "python",
   "nbconvert_exporter": "python",
   "pygments_lexer": "ipython3",
   "version": "3.7.7"
  }
 },
 "nbformat": 4,
 "nbformat_minor": 4
}
