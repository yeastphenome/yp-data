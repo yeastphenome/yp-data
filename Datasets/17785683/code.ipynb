{
 "cells": [
  {
   "cell_type": "code",
   "execution_count": 1,
   "metadata": {},
   "outputs": [],
   "source": [
    "%run ../yp_utils.py"
   ]
  },
  {
   "cell_type": "markdown",
   "metadata": {},
   "source": [
    "# Initial setup"
   ]
  },
  {
   "cell_type": "code",
   "execution_count": 2,
   "metadata": {},
   "outputs": [],
   "source": [
    "paper_pmid = 17785683\n",
    "paper_name = 'jo_vulpe_2007' "
   ]
  },
  {
   "cell_type": "code",
   "execution_count": 3,
   "metadata": {},
   "outputs": [],
   "source": [
    "datasets = pd.read_csv('extras/YeastPhenome_' + str(paper_pmid) + '_datasets_list.txt', sep='\\t', header=None, names=['dataset_id', 'name'])"
   ]
  },
  {
   "cell_type": "code",
   "execution_count": 4,
   "metadata": {},
   "outputs": [],
   "source": [
    "datasets.set_index('dataset_id', inplace=True)"
   ]
  },
  {
   "cell_type": "markdown",
   "metadata": {},
   "source": [
    "# Load & process the data"
   ]
  },
  {
   "cell_type": "code",
   "execution_count": 5,
   "metadata": {},
   "outputs": [],
   "source": [
    "files = ['toxsci-07-0195-File012_kfm226.xlsx','toxsci-07-0195-File013_kfm226.xlsx']"
   ]
  },
  {
   "cell_type": "code",
   "execution_count": 10,
   "metadata": {},
   "outputs": [
    {
     "name": "stdout",
     "output_type": "stream",
     "text": [
      "Original data dimensions: 94 x 8\n",
      "                                              Systematic\\nName  \\\n",
      "index_input                                                      \n",
      "9                                                          NaN   \n",
      "10                                                         NaN   \n",
      "21                                                         NaN   \n",
      "28                                                         NaN   \n",
      "29                                                         NaN   \n",
      "30                                                         NaN   \n",
      "31                                                         NaN   \n",
      "41                                                         NaN   \n",
      "45                                                         NaN   \n",
      "56                                                         NaN   \n",
      "57                                                         NaN   \n",
      "58                                                         NaN   \n",
      "65                                                         NaN   \n",
      "68                                                         NaN   \n",
      "71                                                         NaN   \n",
      "77                                                         NaN   \n",
      "90           a The fitness score is a measure of the relati...   \n",
      "91           b Information for homologous genes in humans w...   \n",
      "92           c The expect threshold (E-value) represents th...   \n",
      "93           d Gene name as indicated by the HUGO Gene Nome...   \n",
      "\n",
      "            Standard\\nGene Name Alias  Fitness\\nScorea  \\\n",
      "index_input                                              \n",
      "9                           NaN   NaN              NaN   \n",
      "10                          NaN   NaN              NaN   \n",
      "21                          NaN   NaN              NaN   \n",
      "28                          NaN   NaN              NaN   \n",
      "29                          NaN   NaN              NaN   \n",
      "30                          NaN   NaN              NaN   \n",
      "31                          NaN   NaN              NaN   \n",
      "41                          NaN   NaN              NaN   \n",
      "45                          NaN   NaN              NaN   \n",
      "56                          NaN   NaN              NaN   \n",
      "57                          NaN   NaN              NaN   \n",
      "58                          NaN   NaN              NaN   \n",
      "65                          NaN   NaN              NaN   \n",
      "68                          NaN   NaN              NaN   \n",
      "71                          NaN   NaN              NaN   \n",
      "77                          NaN   NaN              NaN   \n",
      "90                          NaN   NaN              NaN   \n",
      "91                          NaN   NaN              NaN   \n",
      "92                          NaN   NaN              NaN   \n",
      "93                          NaN   NaN              NaN   \n",
      "\n",
      "            Human Best Hitb\\nEnsembl Peptide ID  Ln (E-value)c  \\\n",
      "index_input                                                      \n",
      "9                               ENSP00000355565   1.000000e-20   \n",
      "10                              ENSP00000354765   1.000000e-20   \n",
      "21                              ENSP00000304504   1.000000e-09   \n",
      "28                              ENSP00000361430   4.000000e-18   \n",
      "29                              ENSP00000361435   4.000000e-18   \n",
      "30                              ENSP00000336696   4.000000e-18   \n",
      "31                              ENSP00000354074   4.000000e-18   \n",
      "41                              ENSP00000357876            NaN   \n",
      "45                              ENSP00000370484   6.000000e-09   \n",
      "56                              ENSP00000371400   2.000000e-93   \n",
      "57                              ENSP00000341595   2.000000e-93   \n",
      "58                              ENSP00000339247   2.000000e-93   \n",
      "65                              ENSP00000354931   3.000000e-06   \n",
      "68                              ENSP00000364060   3.000000e-09   \n",
      "71                              ENSP00000363054   1.000000e-04   \n",
      "77                              ENSP00000277804   4.000000e-18   \n",
      "90                                          NaN            NaN   \n",
      "91                                          NaN            NaN   \n",
      "92                                          NaN            NaN   \n",
      "93                                          NaN            NaN   \n",
      "\n",
      "             Ensembl Gene ID HGNC Gene\\nNamed  \\\n",
      "index_input                                     \n",
      "9            ENSG00000188739            RBM34   \n",
      "10           ENSG00000188739            RBM34   \n",
      "21           ENSG00000102158              NaN   \n",
      "28           ENSG00000138326            RPS24   \n",
      "29           ENSG00000138326            RPS24   \n",
      "30           ENSG00000138326            RPS24   \n",
      "31           ENSG00000138326            RPS24   \n",
      "41           ENSG00000159352              NaN   \n",
      "45           ENSG00000108590            MED31   \n",
      "56           ENSG00000101266          CSNK2A1   \n",
      "57           ENSG00000101266          CSNK2A1   \n",
      "58           ENSG00000101266          CSNK2A1   \n",
      "65           ENSG00000198917         C9orf114   \n",
      "68           ENSG00000188021           UBQLN2   \n",
      "71           ENSG00000117758            STX12   \n",
      "77           ENSG00000107625            DDX50   \n",
      "90                       NaN              NaN   \n",
      "91                       NaN              NaN   \n",
      "92                       NaN              NaN   \n",
      "93                       NaN              NaN   \n",
      "\n",
      "                                                           orf  \n",
      "index_input                                                     \n",
      "9                                                          NAN  \n",
      "10                                                         NAN  \n",
      "21                                                         NAN  \n",
      "28                                                         NAN  \n",
      "29                                                         NAN  \n",
      "30                                                         NAN  \n",
      "31                                                         NAN  \n",
      "41                                                         NAN  \n",
      "45                                                         NAN  \n",
      "56                                                         NAN  \n",
      "57                                                         NAN  \n",
      "58                                                         NAN  \n",
      "65                                                         NAN  \n",
      "68                                                         NAN  \n",
      "71                                                         NAN  \n",
      "77                                                         NAN  \n",
      "90           ATHEFITNESSSCOREISAMEASUREOFTHERELATIVEGROWTHO...  \n",
      "91           BINFORMATIONFORHOMOLOGOUSGENESINHUMANSWASOBTAI...  \n",
      "92           CTHEEXPECTTHRESHOLDE-VALUEREPRESENTSTHENUMBERO...  \n",
      "93           DGENENAMEASINDICATEDBYTHEHUGOGENENOMENCLATUREC...  \n",
      "(74, 1)\n",
      "Original data dimensions: 233 x 8\n",
      "                                              Systematic\\nName  \\\n",
      "index_input                                                      \n",
      "11                                                         NaN   \n",
      "23                                                         NaN   \n",
      "24                                                         NaN   \n",
      "25                                                         NaN   \n",
      "30                                                         NaN   \n",
      "32                                                         NaN   \n",
      "34                                                         NaN   \n",
      "39                                                         NaN   \n",
      "72                                                         NaN   \n",
      "80                                                         NaN   \n",
      "97                                                         NaN   \n",
      "99                                                         NaN   \n",
      "114                                                        NaN   \n",
      "123                                                        NaN   \n",
      "126                                                        NaN   \n",
      "137                                                        NaN   \n",
      "141                                                        NaN   \n",
      "142                                                        NaN   \n",
      "146                                                        NaN   \n",
      "158                                                        NaN   \n",
      "179                                                        NaN   \n",
      "180                                                        NaN   \n",
      "200                                                        NaN   \n",
      "209                                                        NaN   \n",
      "210                                                        NaN   \n",
      "211                                                        NaN   \n",
      "212                                                        NaN   \n",
      "213                                                        NaN   \n",
      "220                                                        NaN   \n",
      "229          a The fitness score is a measure of the relati...   \n",
      "230          b Information for homologous genes in humans w...   \n",
      "231          c The expect threshold (E-value) represents th...   \n",
      "232          d Gene name as indicated by the HUGO Gene Nome...   \n",
      "\n",
      "            Standard\\nGene Name Alias  Fitness\\nScorea  \\\n",
      "index_input                                              \n",
      "11                          NaN   NaN              NaN   \n",
      "23                          NaN   NaN              NaN   \n",
      "24                          NaN   NaN              NaN   \n",
      "25                          NaN   NaN              NaN   \n",
      "30                          NaN   NaN              NaN   \n",
      "32                          NaN   NaN              NaN   \n",
      "34                          NaN   NaN              NaN   \n",
      "39                          NaN   NaN              NaN   \n",
      "72                          NaN   NaN              NaN   \n",
      "80                          NaN   NaN              NaN   \n",
      "97                          NaN   NaN              NaN   \n",
      "99                          NaN   NaN              NaN   \n",
      "114                         NaN   NaN              NaN   \n",
      "123                         NaN   NaN              NaN   \n",
      "126                         NaN   NaN              NaN   \n",
      "137                         NaN   NaN              NaN   \n",
      "141                         NaN   NaN              NaN   \n",
      "142                         NaN   NaN              NaN   \n",
      "146                         NaN   NaN              NaN   \n",
      "158                         NaN   NaN              NaN   \n",
      "179                         NaN   NaN              NaN   \n",
      "180                         NaN   NaN              NaN   \n",
      "200                         NaN   NaN              NaN   \n",
      "209                         NaN   NaN              NaN   \n",
      "210                         NaN   NaN              NaN   \n",
      "211                         NaN   NaN              NaN   \n",
      "212                         NaN   NaN              NaN   \n",
      "213                         NaN   NaN              NaN   \n",
      "220                         NaN   NaN              NaN   \n",
      "229                         NaN   NaN              NaN   \n",
      "230                         NaN   NaN              NaN   \n",
      "231                         NaN   NaN              NaN   \n",
      "232                         NaN   NaN              NaN   \n",
      "\n",
      "            Human Best Hitb\\nEnsembl Peptide ID  Ln (E-value)c  \\\n",
      "index_input                                                      \n",
      "11                              ENSP00000371591            NaN   \n",
      "23                                          NaN            NaN   \n",
      "24                              ENSP00000372257   2.000000e-11   \n",
      "25                                          NaN            NaN   \n",
      "30                                          NaN            NaN   \n",
      "32                                          NaN            NaN   \n",
      "34                              ENSP00000362480   9.000000e-51   \n",
      "39                              ENSP00000360576   3.000000e-09   \n",
      "72                              ENSP00000352746            NaN   \n",
      "80                              ENSP00000223136   1.000000e-06   \n",
      "97                              ENSP00000369876  1.000000e-125   \n",
      "99                              ENSP00000368916   1.000000e-12   \n",
      "114                             ENSP00000370208   3.000000e-19   \n",
      "123                             ENSP00000347646   2.000000e-05   \n",
      "126                             ENSP00000339883   3.000000e-37   \n",
      "137                             ENSP00000368183   7.000000e-28   \n",
      "141                             ENSP00000339247   2.000000e-93   \n",
      "142                             ENSP00000371400   2.000000e-93   \n",
      "146                             ENSP00000350723            NaN   \n",
      "158                             ENSP00000355565   1.000000e-20   \n",
      "179                             ENSP00000310180   1.000000e-13   \n",
      "180                             ENSP00000310180   1.000000e-13   \n",
      "200                             ENSP00000297332   2.000000e-51   \n",
      "209                             ENSP00000262366   1.000000e-04   \n",
      "210                             ENSP00000318057   1.000000e-04   \n",
      "211                             ENSP00000361373   1.000000e-04   \n",
      "212                             ENSP00000370556   1.000000e-04   \n",
      "213                             ENSP00000371382   1.000000e-04   \n",
      "220                             ENSP00000266564   6.000000e-44   \n",
      "229                                         NaN            NaN   \n",
      "230                                         NaN            NaN   \n",
      "231                                         NaN            NaN   \n",
      "232                                         NaN            NaN   \n",
      "\n",
      "             Ensembl Gene ID HGNC Gene\\nNamed  \\\n",
      "index_input                                     \n",
      "11           ENSG00000113384              NaN   \n",
      "23                       NaN            PDCD6   \n",
      "24           ENSG00000063438             AHRR   \n",
      "25                       NaN            PDCD6   \n",
      "30                       NaN           TXNDC5   \n",
      "32                       NaN              PDF   \n",
      "34           ENSG00000122958           VPS26A   \n",
      "39           ENSG00000188566            NDOR1   \n",
      "72           ENSG00000101246              NaN   \n",
      "80           ENSG00000106404             FIS1   \n",
      "97           ENSG00000113161            HMGCR   \n",
      "99           ENSG00000086065            CHMP5   \n",
      "114          ENSG00000154710          RABGEF1   \n",
      "123          ENSG00000177732            SOX12   \n",
      "126          ENSG00000143815              LBR   \n",
      "137          ENSG00000143891             GALM   \n",
      "141          ENSG00000101266          CSNK2A1   \n",
      "142          ENSG00000101266          CSNK2A1   \n",
      "146          ENSG00000124222            STX16   \n",
      "158          ENSG00000188739            RBM34   \n",
      "179          ENSG00000055955           MUSTN1   \n",
      "180          ENSG00000055955          TMEM110   \n",
      "200          ENSG00000085511           MAP3K4   \n",
      "209          ENSG00000126603            GLIS2   \n",
      "210          ENSG00000179388             EGR3   \n",
      "211          ENSG00000171872            KLF17   \n",
      "212          ENSG00000179388             EGR3   \n",
      "213          ENSG00000109787             KLF3   \n",
      "220          ENSG00000139197             PEX5   \n",
      "229                      NaN              NaN   \n",
      "230                      NaN              NaN   \n",
      "231                      NaN              NaN   \n",
      "232                      NaN              NaN   \n",
      "\n",
      "                                                           orf  \n",
      "index_input                                                     \n",
      "11                                                         NAN  \n",
      "23                                                         NAN  \n",
      "24                                                         NAN  \n",
      "25                                                         NAN  \n",
      "30                                                         NAN  \n",
      "32                                                         NAN  \n",
      "34                                                         NAN  \n",
      "39                                                         NAN  \n",
      "72                                                         NAN  \n",
      "80                                                         NAN  \n",
      "97                                                         NAN  \n",
      "99                                                         NAN  \n",
      "114                                                        NAN  \n",
      "123                                                        NAN  \n",
      "126                                                        NAN  \n",
      "137                                                        NAN  \n",
      "141                                                        NAN  \n",
      "142                                                        NAN  \n",
      "146                                                        NAN  \n",
      "158                                                        NAN  \n",
      "179                                                        NAN  \n",
      "180                                                        NAN  \n",
      "200                                                        NAN  \n",
      "209                                                        NAN  \n",
      "210                                                        NAN  \n",
      "211                                                        NAN  \n",
      "212                                                        NAN  \n",
      "213                                                        NAN  \n",
      "220                                                        NAN  \n",
      "229          ATHEFITNESSSCOREISAMEASUREOFTHERELATIVEGROWTHO...  \n",
      "230          BINFORMATIONFORHOMOLOGOUSGENESINHUMANSWASOBTAI...  \n",
      "231          CTHEEXPECTTHRESHOLDE-VALUEREPRESENTSTHENUMBERO...  \n",
      "232          DGENENAMEASINDICATEDBYTHEHUGOGENENOMENCLATUREC...  \n",
      "(200, 1)\n"
     ]
    }
   ],
   "source": [
    "original_data_list = []\n",
    "for f in files:\n",
    "    original_data = pd.read_excel('raw_data/' + f, sheet_name='Table 1', skiprows=1)\n",
    "    print('Original data dimensions: %d x %d' % (original_data.shape))\n",
    "#     print(original_data.head())\n",
    "    \n",
    "    original_data['orf'] = original_data['Systematic\\nName'].astype(str)\n",
    "    original_data['orf'] = clean_orf(original_data['orf'])\n",
    "    original_data['orf'] = translate_sc(original_data['orf'], to='orf')\n",
    "    \n",
    "    # Make sure everything translated ok\n",
    "    t = looks_like_orf(original_data['orf'])\n",
    "    print(original_data.loc[~t,])\n",
    "    original_data = original_data.loc[t,:]\n",
    "    \n",
    "    original_data['data'] = original_data['Fitness\\nScorea'].astype(float)\n",
    "    original_data.set_index('orf', inplace=True)\n",
    "    original_data = original_data[['data']].copy()\n",
    "    original_data = original_data.groupby(original_data.index).mean()\n",
    "    print(original_data.shape)\n",
    "    \n",
    "    original_data_list.append(original_data)"
   ]
  },
  {
   "cell_type": "code",
   "execution_count": 11,
   "metadata": {},
   "outputs": [],
   "source": [
    "# Merge\n",
    "original_data = pd.concat(original_data_list, axis=1)"
   ]
  },
  {
   "cell_type": "code",
   "execution_count": 13,
   "metadata": {},
   "outputs": [],
   "source": [
    "original_data.index.name = 'orf'"
   ]
  },
  {
   "cell_type": "code",
   "execution_count": 15,
   "metadata": {},
   "outputs": [],
   "source": [
    "original_data[original_data.isnull()] = 0"
   ]
  },
  {
   "cell_type": "code",
   "execution_count": 16,
   "metadata": {},
   "outputs": [
    {
     "data": {
      "text/html": [
       "<div>\n",
       "<style scoped>\n",
       "    .dataframe tbody tr th:only-of-type {\n",
       "        vertical-align: middle;\n",
       "    }\n",
       "\n",
       "    .dataframe tbody tr th {\n",
       "        vertical-align: top;\n",
       "    }\n",
       "\n",
       "    .dataframe thead th {\n",
       "        text-align: right;\n",
       "    }\n",
       "</style>\n",
       "<table border=\"1\" class=\"dataframe\">\n",
       "  <thead>\n",
       "    <tr style=\"text-align: right;\">\n",
       "      <th></th>\n",
       "      <th>data</th>\n",
       "      <th>data</th>\n",
       "    </tr>\n",
       "    <tr>\n",
       "      <th>orf</th>\n",
       "      <th></th>\n",
       "      <th></th>\n",
       "    </tr>\n",
       "  </thead>\n",
       "  <tbody>\n",
       "    <tr>\n",
       "      <th>YBR036C</th>\n",
       "      <td>-2.79</td>\n",
       "      <td>-2.59</td>\n",
       "    </tr>\n",
       "    <tr>\n",
       "      <th>YCR028C</th>\n",
       "      <td>-1.42</td>\n",
       "      <td>0.00</td>\n",
       "    </tr>\n",
       "    <tr>\n",
       "      <th>YCR031C</th>\n",
       "      <td>-1.94</td>\n",
       "      <td>0.00</td>\n",
       "    </tr>\n",
       "    <tr>\n",
       "      <th>YDL118W</th>\n",
       "      <td>-1.47</td>\n",
       "      <td>-1.91</td>\n",
       "    </tr>\n",
       "    <tr>\n",
       "      <th>YDR004W</th>\n",
       "      <td>-1.69</td>\n",
       "      <td>0.00</td>\n",
       "    </tr>\n",
       "  </tbody>\n",
       "</table>\n",
       "</div>"
      ],
      "text/plain": [
       "         data  data\n",
       "orf                \n",
       "YBR036C -2.79 -2.59\n",
       "YCR028C -1.42  0.00\n",
       "YCR031C -1.94  0.00\n",
       "YDL118W -1.47 -1.91\n",
       "YDR004W -1.69  0.00"
      ]
     },
     "execution_count": 16,
     "metadata": {},
     "output_type": "execute_result"
    }
   ],
   "source": [
    "original_data.head()"
   ]
  },
  {
   "cell_type": "code",
   "execution_count": 17,
   "metadata": {},
   "outputs": [
    {
     "data": {
      "text/plain": [
       "(247, 2)"
      ]
     },
     "execution_count": 17,
     "metadata": {},
     "output_type": "execute_result"
    }
   ],
   "source": [
    "original_data.shape"
   ]
  },
  {
   "cell_type": "markdown",
   "metadata": {},
   "source": [
    "# Prepare the final dataset"
   ]
  },
  {
   "cell_type": "code",
   "execution_count": 18,
   "metadata": {},
   "outputs": [],
   "source": [
    "data = original_data.copy()"
   ]
  },
  {
   "cell_type": "code",
   "execution_count": 19,
   "metadata": {},
   "outputs": [],
   "source": [
    "dataset_ids = [501, 1346]\n",
    "datasets = datasets.reindex(index=dataset_ids)"
   ]
  },
  {
   "cell_type": "code",
   "execution_count": 20,
   "metadata": {},
   "outputs": [],
   "source": [
    "lst = [datasets.index.values, ['value']*datasets.shape[0]]\n",
    "tuples = list(zip(*lst))\n",
    "idx = pd.MultiIndex.from_tuples(tuples, names=['dataset_id','data_type'])\n",
    "data.columns = idx"
   ]
  },
  {
   "cell_type": "code",
   "execution_count": 21,
   "metadata": {},
   "outputs": [
    {
     "data": {
      "text/html": [
       "<div>\n",
       "<style scoped>\n",
       "    .dataframe tbody tr th:only-of-type {\n",
       "        vertical-align: middle;\n",
       "    }\n",
       "\n",
       "    .dataframe tbody tr th {\n",
       "        vertical-align: top;\n",
       "    }\n",
       "\n",
       "    .dataframe thead tr th {\n",
       "        text-align: left;\n",
       "    }\n",
       "\n",
       "    .dataframe thead tr:last-of-type th {\n",
       "        text-align: right;\n",
       "    }\n",
       "</style>\n",
       "<table border=\"1\" class=\"dataframe\">\n",
       "  <thead>\n",
       "    <tr>\n",
       "      <th>dataset_id</th>\n",
       "      <th>501</th>\n",
       "      <th>1346</th>\n",
       "    </tr>\n",
       "    <tr>\n",
       "      <th>data_type</th>\n",
       "      <th>value</th>\n",
       "      <th>value</th>\n",
       "    </tr>\n",
       "    <tr>\n",
       "      <th>orf</th>\n",
       "      <th></th>\n",
       "      <th></th>\n",
       "    </tr>\n",
       "  </thead>\n",
       "  <tbody>\n",
       "    <tr>\n",
       "      <th>YBR036C</th>\n",
       "      <td>-2.79</td>\n",
       "      <td>-2.59</td>\n",
       "    </tr>\n",
       "    <tr>\n",
       "      <th>YCR028C</th>\n",
       "      <td>-1.42</td>\n",
       "      <td>0.00</td>\n",
       "    </tr>\n",
       "    <tr>\n",
       "      <th>YCR031C</th>\n",
       "      <td>-1.94</td>\n",
       "      <td>0.00</td>\n",
       "    </tr>\n",
       "    <tr>\n",
       "      <th>YDL118W</th>\n",
       "      <td>-1.47</td>\n",
       "      <td>-1.91</td>\n",
       "    </tr>\n",
       "    <tr>\n",
       "      <th>YDR004W</th>\n",
       "      <td>-1.69</td>\n",
       "      <td>0.00</td>\n",
       "    </tr>\n",
       "  </tbody>\n",
       "</table>\n",
       "</div>"
      ],
      "text/plain": [
       "dataset_id  501   1346\n",
       "data_type  value value\n",
       "orf                   \n",
       "YBR036C    -2.79 -2.59\n",
       "YCR028C    -1.42  0.00\n",
       "YCR031C    -1.94  0.00\n",
       "YDL118W    -1.47 -1.91\n",
       "YDR004W    -1.69  0.00"
      ]
     },
     "execution_count": 21,
     "metadata": {},
     "output_type": "execute_result"
    }
   ],
   "source": [
    "data.head()"
   ]
  },
  {
   "cell_type": "markdown",
   "metadata": {},
   "source": [
    "## Subset to the genes currently in SGD"
   ]
  },
  {
   "cell_type": "code",
   "execution_count": 22,
   "metadata": {},
   "outputs": [
    {
     "name": "stdout",
     "output_type": "stream",
     "text": [
      "ORFs missing from SGD: 0\n"
     ]
    }
   ],
   "source": [
    "genes = pd.read_csv(path_to_genes, sep='\\t', index_col='id')\n",
    "genes = genes.reset_index().set_index('systematic_name')\n",
    "gene_ids = genes.reindex(index=data.index.values)['id'].values\n",
    "num_missing = np.sum(np.isnan(gene_ids))\n",
    "print('ORFs missing from SGD: %d' % num_missing)"
   ]
  },
  {
   "cell_type": "code",
   "execution_count": 23,
   "metadata": {},
   "outputs": [
    {
     "data": {
      "text/html": [
       "<div>\n",
       "<style scoped>\n",
       "    .dataframe tbody tr th:only-of-type {\n",
       "        vertical-align: middle;\n",
       "    }\n",
       "\n",
       "    .dataframe tbody tr th {\n",
       "        vertical-align: top;\n",
       "    }\n",
       "\n",
       "    .dataframe thead tr th {\n",
       "        text-align: left;\n",
       "    }\n",
       "\n",
       "    .dataframe thead tr:last-of-type th {\n",
       "        text-align: right;\n",
       "    }\n",
       "</style>\n",
       "<table border=\"1\" class=\"dataframe\">\n",
       "  <thead>\n",
       "    <tr>\n",
       "      <th></th>\n",
       "      <th>dataset_id</th>\n",
       "      <th>501</th>\n",
       "      <th>1346</th>\n",
       "    </tr>\n",
       "    <tr>\n",
       "      <th></th>\n",
       "      <th>data_type</th>\n",
       "      <th>value</th>\n",
       "      <th>value</th>\n",
       "    </tr>\n",
       "    <tr>\n",
       "      <th>gene_id</th>\n",
       "      <th>orf</th>\n",
       "      <th></th>\n",
       "      <th></th>\n",
       "    </tr>\n",
       "  </thead>\n",
       "  <tbody>\n",
       "    <tr>\n",
       "      <th>232</th>\n",
       "      <th>YBR036C</th>\n",
       "      <td>-2.79</td>\n",
       "      <td>-2.59</td>\n",
       "    </tr>\n",
       "    <tr>\n",
       "      <th>586</th>\n",
       "      <th>YCR028C</th>\n",
       "      <td>-1.42</td>\n",
       "      <td>0.00</td>\n",
       "    </tr>\n",
       "    <tr>\n",
       "      <th>588</th>\n",
       "      <th>YCR031C</th>\n",
       "      <td>-1.94</td>\n",
       "      <td>0.00</td>\n",
       "    </tr>\n",
       "    <tr>\n",
       "      <th>1996</th>\n",
       "      <th>YDL118W</th>\n",
       "      <td>-1.47</td>\n",
       "      <td>-1.91</td>\n",
       "    </tr>\n",
       "    <tr>\n",
       "      <th>2131</th>\n",
       "      <th>YDR004W</th>\n",
       "      <td>-1.69</td>\n",
       "      <td>0.00</td>\n",
       "    </tr>\n",
       "  </tbody>\n",
       "</table>\n",
       "</div>"
      ],
      "text/plain": [
       "dataset_id       501   1346\n",
       "data_type       value value\n",
       "gene_id orf                \n",
       "232     YBR036C -2.79 -2.59\n",
       "586     YCR028C -1.42  0.00\n",
       "588     YCR031C -1.94  0.00\n",
       "1996    YDL118W -1.47 -1.91\n",
       "2131    YDR004W -1.69  0.00"
      ]
     },
     "execution_count": 23,
     "metadata": {},
     "output_type": "execute_result"
    }
   ],
   "source": [
    "data['gene_id'] = gene_ids\n",
    "data = data.loc[data['gene_id'].notnull()]\n",
    "data['gene_id'] = data['gene_id'].astype(int)\n",
    "data = data.reset_index().set_index(['gene_id','orf'])\n",
    "\n",
    "data.head()"
   ]
  },
  {
   "cell_type": "markdown",
   "metadata": {},
   "source": [
    "# Normalize"
   ]
  },
  {
   "cell_type": "code",
   "execution_count": 24,
   "metadata": {},
   "outputs": [],
   "source": [
    "data_norm = normalize_phenotypic_scores(data, has_tested=False)"
   ]
  },
  {
   "cell_type": "code",
   "execution_count": 25,
   "metadata": {},
   "outputs": [],
   "source": [
    "# Assign proper column names\n",
    "lst = [datasets.index.values, ['valuez']*datasets.shape[0]]\n",
    "tuples = list(zip(*lst))\n",
    "idx = pd.MultiIndex.from_tuples(tuples, names=['dataset_id','data_type'])\n",
    "data_norm.columns = idx"
   ]
  },
  {
   "cell_type": "code",
   "execution_count": 26,
   "metadata": {},
   "outputs": [
    {
     "data": {
      "text/html": [
       "<div>\n",
       "<style scoped>\n",
       "    .dataframe tbody tr th:only-of-type {\n",
       "        vertical-align: middle;\n",
       "    }\n",
       "\n",
       "    .dataframe tbody tr th {\n",
       "        vertical-align: top;\n",
       "    }\n",
       "\n",
       "    .dataframe thead tr th {\n",
       "        text-align: left;\n",
       "    }\n",
       "\n",
       "    .dataframe thead tr:last-of-type th {\n",
       "        text-align: right;\n",
       "    }\n",
       "</style>\n",
       "<table border=\"1\" class=\"dataframe\">\n",
       "  <thead>\n",
       "    <tr>\n",
       "      <th></th>\n",
       "      <th>dataset_id</th>\n",
       "      <th>501</th>\n",
       "      <th>1346</th>\n",
       "      <th>501</th>\n",
       "      <th>1346</th>\n",
       "    </tr>\n",
       "    <tr>\n",
       "      <th></th>\n",
       "      <th>data_type</th>\n",
       "      <th>value</th>\n",
       "      <th>value</th>\n",
       "      <th>valuez</th>\n",
       "      <th>valuez</th>\n",
       "    </tr>\n",
       "    <tr>\n",
       "      <th>gene_id</th>\n",
       "      <th>orf</th>\n",
       "      <th></th>\n",
       "      <th></th>\n",
       "      <th></th>\n",
       "      <th></th>\n",
       "    </tr>\n",
       "  </thead>\n",
       "  <tbody>\n",
       "    <tr>\n",
       "      <th>232</th>\n",
       "      <th>YBR036C</th>\n",
       "      <td>-2.79</td>\n",
       "      <td>-2.59</td>\n",
       "      <td>-13.489098</td>\n",
       "      <td>-5.118381</td>\n",
       "    </tr>\n",
       "    <tr>\n",
       "      <th>586</th>\n",
       "      <th>YCR028C</th>\n",
       "      <td>-1.42</td>\n",
       "      <td>0.00</td>\n",
       "      <td>-6.871409</td>\n",
       "      <td>-0.034105</td>\n",
       "    </tr>\n",
       "    <tr>\n",
       "      <th>588</th>\n",
       "      <th>YCR031C</th>\n",
       "      <td>-1.94</td>\n",
       "      <td>0.00</td>\n",
       "      <td>-9.383232</td>\n",
       "      <td>-0.034105</td>\n",
       "    </tr>\n",
       "    <tr>\n",
       "      <th>1996</th>\n",
       "      <th>YDL118W</th>\n",
       "      <td>-1.47</td>\n",
       "      <td>-1.91</td>\n",
       "      <td>-7.112930</td>\n",
       "      <td>-3.783513</td>\n",
       "    </tr>\n",
       "    <tr>\n",
       "      <th>2131</th>\n",
       "      <th>YDR004W</th>\n",
       "      <td>-1.69</td>\n",
       "      <td>0.00</td>\n",
       "      <td>-8.175625</td>\n",
       "      <td>-0.034105</td>\n",
       "    </tr>\n",
       "  </tbody>\n",
       "</table>\n",
       "</div>"
      ],
      "text/plain": [
       "dataset_id       501   1346       501       1346\n",
       "data_type       value value     valuez    valuez\n",
       "gene_id orf                                     \n",
       "232     YBR036C -2.79 -2.59 -13.489098 -5.118381\n",
       "586     YCR028C -1.42  0.00  -6.871409 -0.034105\n",
       "588     YCR031C -1.94  0.00  -9.383232 -0.034105\n",
       "1996    YDL118W -1.47 -1.91  -7.112930 -3.783513\n",
       "2131    YDR004W -1.69  0.00  -8.175625 -0.034105"
      ]
     },
     "execution_count": 26,
     "metadata": {},
     "output_type": "execute_result"
    }
   ],
   "source": [
    "data_norm[data.isnull()] = np.nan\n",
    "data_all = data.join(data_norm)\n",
    "\n",
    "data_all.head()"
   ]
  },
  {
   "cell_type": "markdown",
   "metadata": {},
   "source": [
    "# Print out"
   ]
  },
  {
   "cell_type": "code",
   "execution_count": 27,
   "metadata": {},
   "outputs": [],
   "source": [
    "for f in ['value','valuez']:\n",
    "    df = data_all.xs(f, level='data_type', axis=1).copy()\n",
    "    df.columns = datasets['name'].values\n",
    "    df = df.droplevel('gene_id', axis=0)\n",
    "    df.to_csv(paper_name + '_' + f + '.txt', sep='\\t')"
   ]
  },
  {
   "cell_type": "markdown",
   "metadata": {},
   "source": [
    "# Save to DB"
   ]
  },
  {
   "cell_type": "code",
   "execution_count": 28,
   "metadata": {},
   "outputs": [],
   "source": [
    "from IO.save_data_to_db3 import *"
   ]
  },
  {
   "cell_type": "code",
   "execution_count": 29,
   "metadata": {},
   "outputs": [
    {
     "name": "stderr",
     "output_type": "stream",
     "text": [
      "  0%|          | 0/2 [00:00<?, ?it/s]"
     ]
    },
    {
     "name": "stdout",
     "output_type": "stream",
     "text": [
      "Deleting all datasets for PMID 17785683...\n",
      "Inserting the new data...\n"
     ]
    },
    {
     "name": "stderr",
     "output_type": "stream",
     "text": [
      "100%|██████████| 2/2 [00:00<00:00,  2.02it/s]"
     ]
    },
    {
     "name": "stdout",
     "output_type": "stream",
     "text": [
      "Updating the data_modified_on field...\n"
     ]
    },
    {
     "name": "stderr",
     "output_type": "stream",
     "text": [
      "\n"
     ]
    }
   ],
   "source": [
    "save_data_to_db(data_all, paper_pmid)"
   ]
  },
  {
   "cell_type": "code",
   "execution_count": null,
   "metadata": {},
   "outputs": [],
   "source": []
  }
 ],
 "metadata": {
  "kernelspec": {
   "display_name": "yp-data",
   "language": "python",
   "name": "yp-data"
  },
  "language_info": {
   "codemirror_mode": {
    "name": "ipython",
    "version": 3
   },
   "file_extension": ".py",
   "mimetype": "text/x-python",
   "name": "python",
   "nbconvert_exporter": "python",
   "pygments_lexer": "ipython3",
   "version": "3.7.7"
  }
 },
 "nbformat": 4,
 "nbformat_minor": 4
}
