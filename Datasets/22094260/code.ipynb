{
 "cells": [
  {
   "cell_type": "code",
   "execution_count": 1,
   "metadata": {},
   "outputs": [],
   "source": [
    "%run ../../Utils/yp_utils.py"
   ]
  },
  {
   "cell_type": "markdown",
   "metadata": {},
   "source": [
    "# Initial setup"
   ]
  },
  {
   "cell_type": "code",
   "execution_count": 2,
   "metadata": {},
   "outputs": [],
   "source": [
    "paper_pmid = 22094260\n",
    "paper_name = 'skrtic_schimmer_2011' "
   ]
  },
  {
   "cell_type": "code",
   "execution_count": 3,
   "metadata": {},
   "outputs": [],
   "source": [
    "datasets = pd.read_csv('extras/YeastPhenome_' + str(paper_pmid) + '_datasets_list.txt', sep='\\t', header=None, names=['pmid', 'name'])"
   ]
  },
  {
   "cell_type": "code",
   "execution_count": 4,
   "metadata": {},
   "outputs": [],
   "source": [
    "datasets.set_index('pmid', inplace=True)"
   ]
  },
  {
   "cell_type": "markdown",
   "metadata": {},
   "source": [
    "# Load & process the data"
   ]
  },
  {
   "cell_type": "code",
   "execution_count": 27,
   "metadata": {},
   "outputs": [],
   "source": [
    "original_data = pd.read_csv('raw_data/het_damp.rawsummary', sep='\\t')"
   ]
  },
  {
   "cell_type": "code",
   "execution_count": 28,
   "metadata": {},
   "outputs": [
    {
     "name": "stdout",
     "output_type": "stream",
     "text": [
      "Original data dimensions: 13891 x 11\n"
     ]
    }
   ],
   "source": [
    "print('Original data dimensions: %d x %d' % (original_data.shape))"
   ]
  },
  {
   "cell_type": "code",
   "execution_count": 29,
   "metadata": {},
   "outputs": [
    {
     "data": {
      "text/html": [
       "<div>\n",
       "<style scoped>\n",
       "    .dataframe tbody tr th:only-of-type {\n",
       "        vertical-align: middle;\n",
       "    }\n",
       "\n",
       "    .dataframe tbody tr th {\n",
       "        vertical-align: top;\n",
       "    }\n",
       "\n",
       "    .dataframe thead th {\n",
       "        text-align: right;\n",
       "    }\n",
       "</style>\n",
       "<table border=\"1\" class=\"dataframe\">\n",
       "  <thead>\n",
       "    <tr style=\"text-align: right;\">\n",
       "      <th></th>\n",
       "      <th>Hybridization REF</th>\n",
       "      <th>10_11_24_YPGE_DMSO</th>\n",
       "      <th>10_11_24_YPGE_DMSO_2</th>\n",
       "      <th>10_11_24_YPGE_chloramph_0.79</th>\n",
       "      <th>10_11_24_YPGE_chloramph_0.99</th>\n",
       "      <th>10_11_24_YPGE_doxorub.12.5</th>\n",
       "      <th>10_11_24_YPGE_linezol_47.1</th>\n",
       "      <th>10_12_10_tigecyc51.5uM</th>\n",
       "      <th>10_12_10_tigecyc64.4uM</th>\n",
       "      <th>10_12_10_tigecyc80.5uM</th>\n",
       "      <th>10_12_10_tigecycDMSOctrl</th>\n",
       "    </tr>\n",
       "  </thead>\n",
       "  <tbody>\n",
       "    <tr>\n",
       "      <th>0</th>\n",
       "      <td>Composite Element REF</td>\n",
       "      <td>strain::batch:tag</td>\n",
       "      <td>strain::batch:tag</td>\n",
       "      <td>strain::batch:tag</td>\n",
       "      <td>strain::batch:tag</td>\n",
       "      <td>strain::batch:tag</td>\n",
       "      <td>strain::batch:tag</td>\n",
       "      <td>strain::batch:tag</td>\n",
       "      <td>strain::batch:tag</td>\n",
       "      <td>strain::batch:tag</td>\n",
       "      <td>strain::batch:tag</td>\n",
       "    </tr>\n",
       "    <tr>\n",
       "      <th>1</th>\n",
       "      <td>YDL227C::ctrl_1:uptag</td>\n",
       "      <td>80.4</td>\n",
       "      <td>75.2</td>\n",
       "      <td>77.6</td>\n",
       "      <td>71</td>\n",
       "      <td>72</td>\n",
       "      <td>77.8</td>\n",
       "      <td>86</td>\n",
       "      <td>91.6</td>\n",
       "      <td>92.2</td>\n",
       "      <td>89.8</td>\n",
       "    </tr>\n",
       "    <tr>\n",
       "      <th>2</th>\n",
       "      <td>YDL171C::chr4_2:dntag</td>\n",
       "      <td>2044.6</td>\n",
       "      <td>1932.6</td>\n",
       "      <td>1823.8</td>\n",
       "      <td>1382.4</td>\n",
       "      <td>1464.6</td>\n",
       "      <td>1791.8</td>\n",
       "      <td>2499</td>\n",
       "      <td>3091.2</td>\n",
       "      <td>3224.2</td>\n",
       "      <td>3075.8</td>\n",
       "    </tr>\n",
       "    <tr>\n",
       "      <th>3</th>\n",
       "      <td>YDL172C::chr4_2:dntag</td>\n",
       "      <td>5179.4</td>\n",
       "      <td>4082.8</td>\n",
       "      <td>3080.4</td>\n",
       "      <td>2842.2</td>\n",
       "      <td>2433.8</td>\n",
       "      <td>3880.4</td>\n",
       "      <td>5492</td>\n",
       "      <td>4988</td>\n",
       "      <td>5252.2</td>\n",
       "      <td>5403.8</td>\n",
       "    </tr>\n",
       "    <tr>\n",
       "      <th>4</th>\n",
       "      <td>YGR044C::chr7_4:dntag</td>\n",
       "      <td>2220.2</td>\n",
       "      <td>2562.2</td>\n",
       "      <td>1553</td>\n",
       "      <td>1351</td>\n",
       "      <td>2383.4</td>\n",
       "      <td>1813.4</td>\n",
       "      <td>3595.6</td>\n",
       "      <td>3123.2</td>\n",
       "      <td>3048</td>\n",
       "      <td>2250.8</td>\n",
       "    </tr>\n",
       "  </tbody>\n",
       "</table>\n",
       "</div>"
      ],
      "text/plain": [
       "       Hybridization REF 10_11_24_YPGE_DMSO 10_11_24_YPGE_DMSO_2  \\\n",
       "0  Composite Element REF  strain::batch:tag    strain::batch:tag   \n",
       "1  YDL227C::ctrl_1:uptag               80.4                 75.2   \n",
       "2  YDL171C::chr4_2:dntag             2044.6               1932.6   \n",
       "3  YDL172C::chr4_2:dntag             5179.4               4082.8   \n",
       "4  YGR044C::chr7_4:dntag             2220.2               2562.2   \n",
       "\n",
       "  10_11_24_YPGE_chloramph_0.79 10_11_24_YPGE_chloramph_0.99  \\\n",
       "0            strain::batch:tag            strain::batch:tag   \n",
       "1                         77.6                           71   \n",
       "2                       1823.8                       1382.4   \n",
       "3                       3080.4                       2842.2   \n",
       "4                         1553                         1351   \n",
       "\n",
       "  10_11_24_YPGE_doxorub.12.5 10_11_24_YPGE_linezol_47.1  \\\n",
       "0          strain::batch:tag          strain::batch:tag   \n",
       "1                         72                       77.8   \n",
       "2                     1464.6                     1791.8   \n",
       "3                     2433.8                     3880.4   \n",
       "4                     2383.4                     1813.4   \n",
       "\n",
       "  10_12_10_tigecyc51.5uM 10_12_10_tigecyc64.4uM 10_12_10_tigecyc80.5uM  \\\n",
       "0      strain::batch:tag      strain::batch:tag      strain::batch:tag   \n",
       "1                     86                   91.6                   92.2   \n",
       "2                   2499                 3091.2                 3224.2   \n",
       "3                   5492                   4988                 5252.2   \n",
       "4                 3595.6                 3123.2                   3048   \n",
       "\n",
       "  10_12_10_tigecycDMSOctrl  \n",
       "0        strain::batch:tag  \n",
       "1                     89.8  \n",
       "2                   3075.8  \n",
       "3                   5403.8  \n",
       "4                   2250.8  "
      ]
     },
     "execution_count": 29,
     "metadata": {},
     "output_type": "execute_result"
    }
   ],
   "source": [
    "original_data.head()"
   ]
  },
  {
   "cell_type": "code",
   "execution_count": 30,
   "metadata": {},
   "outputs": [
    {
     "data": {
      "text/plain": [
       "(11883, 11)"
      ]
     },
     "execution_count": 30,
     "metadata": {},
     "output_type": "execute_result"
    }
   ],
   "source": [
    "# First, eliminate the data for the DAMP strains\n",
    "original_data = original_data.loc[~original_data['Hybridization REF'].str.contains('DAMP'),]\n",
    "original_data.shape"
   ]
  },
  {
   "cell_type": "code",
   "execution_count": 31,
   "metadata": {},
   "outputs": [],
   "source": [
    "# Now, extract the ORF\n",
    "original_data['orf'] = original_data['Hybridization REF'].apply(lambda x: x[0:x.find(':')])"
   ]
  },
  {
   "cell_type": "code",
   "execution_count": 32,
   "metadata": {},
   "outputs": [],
   "source": [
    "original_data['orf'] = original_data['orf'].astype(str)"
   ]
  },
  {
   "cell_type": "code",
   "execution_count": 33,
   "metadata": {},
   "outputs": [],
   "source": [
    "# Eliminate all white spaces & capitalize\n",
    "original_data['orf'] = clean_orf(original_data['orf'])"
   ]
  },
  {
   "cell_type": "code",
   "execution_count": 34,
   "metadata": {},
   "outputs": [],
   "source": [
    "# Translate to ORFs \n",
    "original_data['orf'] = translate_sc(original_data['orf'], to='orf')"
   ]
  },
  {
   "cell_type": "code",
   "execution_count": 35,
   "metadata": {},
   "outputs": [
    {
     "name": "stdout",
     "output_type": "stream",
     "text": [
      "                   Hybridization REF 10_11_24_YPGE_DMSO 10_11_24_YPGE_DMSO_2  \\\n",
      "index_input                                                                    \n",
      "0              Composite Element REF  strain::batch:tag    strain::batch:tag   \n",
      "3224         YBR160W_AS::shawn:dntag             5171.6               5256.6   \n",
      "3234         YBR160W_AS::shawn:uptag             2233.2               2511.6   \n",
      "\n",
      "            10_11_24_YPGE_chloramph_0.79 10_11_24_YPGE_chloramph_0.99  \\\n",
      "index_input                                                             \n",
      "0                      strain::batch:tag            strain::batch:tag   \n",
      "3224                              5717.4                       5190.8   \n",
      "3234                                2792                       2867.4   \n",
      "\n",
      "            10_11_24_YPGE_doxorub.12.5 10_11_24_YPGE_linezol_47.1  \\\n",
      "index_input                                                         \n",
      "0                    strain::batch:tag          strain::batch:tag   \n",
      "3224                            4021.2                     5756.2   \n",
      "3234                            3484.2                     3406.8   \n",
      "\n",
      "            10_12_10_tigecyc51.5uM 10_12_10_tigecyc64.4uM  \\\n",
      "index_input                                                 \n",
      "0                strain::batch:tag      strain::batch:tag   \n",
      "3224                        5322.8                 5989.4   \n",
      "3234                        2331.8                   2799   \n",
      "\n",
      "            10_12_10_tigecyc80.5uM 10_12_10_tigecycDMSOctrl  \\\n",
      "index_input                                                   \n",
      "0                strain::batch:tag        strain::batch:tag   \n",
      "3224                        4841.2                   4682.8   \n",
      "3234                        2072.8                   1992.4   \n",
      "\n",
      "                            orf  \n",
      "index_input                      \n",
      "0            COMPOSITEELEMENTRE  \n",
      "3224                  YBR160WAS  \n",
      "3234                  YBR160WAS  \n"
     ]
    }
   ],
   "source": [
    "# Make sure everything translated ok\n",
    "t = looks_like_orf(original_data['orf'])\n",
    "print(original_data.loc[~t,])"
   ]
  },
  {
   "cell_type": "code",
   "execution_count": 36,
   "metadata": {},
   "outputs": [],
   "source": [
    "original_data = original_data.loc[t,]"
   ]
  },
  {
   "cell_type": "code",
   "execution_count": 37,
   "metadata": {},
   "outputs": [],
   "source": [
    "original_data.set_index('orf', inplace=True)"
   ]
  },
  {
   "cell_type": "code",
   "execution_count": 38,
   "metadata": {},
   "outputs": [],
   "source": [
    "for c in original_data.columns.values[1:]:\n",
    "    original_data[c] = pd.to_numeric(original_data[c])"
   ]
  },
  {
   "cell_type": "code",
   "execution_count": 39,
   "metadata": {},
   "outputs": [],
   "source": [
    "# Take the average of the 2 YPGE_DMSO controls\n",
    "original_data['YPGE_DMSO_avg'] = original_data[['10_11_24_YPGE_DMSO','10_11_24_YPGE_DMSO_2']].mean(axis=1)"
   ]
  },
  {
   "cell_type": "code",
   "execution_count": 40,
   "metadata": {},
   "outputs": [],
   "source": [
    "# Divide each treatment by its control\n",
    "original_data['10_11_24_YPGE_chloramph_0.79_norm'] = original_data['10_11_24_YPGE_chloramph_0.79'] / original_data['YPGE_DMSO_avg']\n",
    "original_data['10_11_24_YPGE_chloramph_0.99_norm'] = original_data['10_11_24_YPGE_chloramph_0.99'] / original_data['YPGE_DMSO_avg']\n",
    "original_data['10_11_24_YPGE_doxorub.12.5_norm'] = original_data['10_11_24_YPGE_doxorub.12.5'] / original_data['YPGE_DMSO_avg']\n",
    "original_data['10_11_24_YPGE_linezol_47.1_norm'] = original_data['10_11_24_YPGE_linezol_47.1'] / original_data['YPGE_DMSO_avg']\n",
    "\n",
    "original_data['10_12_10_tigecyc51.5uM_norm'] = original_data['10_12_10_tigecyc51.5uM'] / original_data['10_12_10_tigecycDMSOctrl']\n",
    "original_data['10_12_10_tigecyc64.4uM_norm'] = original_data['10_12_10_tigecyc64.4uM'] / original_data['10_12_10_tigecycDMSOctrl']\n",
    "original_data['10_12_10_tigecyc80.5uM_norm'] = original_data['10_12_10_tigecyc80.5uM'] / original_data['10_12_10_tigecycDMSOctrl']\n"
   ]
  },
  {
   "cell_type": "code",
   "execution_count": 41,
   "metadata": {},
   "outputs": [],
   "source": [
    "cols_to_keep = ['10_11_24_YPGE_chloramph_0.79_norm','10_11_24_YPGE_chloramph_0.99_norm',\n",
    "                '10_11_24_YPGE_doxorub.12.5_norm',\n",
    "                '10_11_24_YPGE_linezol_47.1_norm',\n",
    "                '10_12_10_tigecyc51.5uM_norm','10_12_10_tigecyc64.4uM_norm','10_12_10_tigecyc80.5uM_norm']"
   ]
  },
  {
   "cell_type": "code",
   "execution_count": 42,
   "metadata": {},
   "outputs": [],
   "source": [
    "original_data = original_data[cols_to_keep]"
   ]
  },
  {
   "cell_type": "code",
   "execution_count": 43,
   "metadata": {},
   "outputs": [],
   "source": [
    "original_data = original_data.groupby(original_data.index).mean()"
   ]
  },
  {
   "cell_type": "code",
   "execution_count": 44,
   "metadata": {},
   "outputs": [
    {
     "data": {
      "text/plain": [
       "(5895, 7)"
      ]
     },
     "execution_count": 44,
     "metadata": {},
     "output_type": "execute_result"
    }
   ],
   "source": [
    "original_data.shape"
   ]
  },
  {
   "cell_type": "code",
   "execution_count": 45,
   "metadata": {},
   "outputs": [
    {
     "data": {
      "text/html": [
       "<div>\n",
       "<style scoped>\n",
       "    .dataframe tbody tr th:only-of-type {\n",
       "        vertical-align: middle;\n",
       "    }\n",
       "\n",
       "    .dataframe tbody tr th {\n",
       "        vertical-align: top;\n",
       "    }\n",
       "\n",
       "    .dataframe thead th {\n",
       "        text-align: right;\n",
       "    }\n",
       "</style>\n",
       "<table border=\"1\" class=\"dataframe\">\n",
       "  <thead>\n",
       "    <tr style=\"text-align: right;\">\n",
       "      <th></th>\n",
       "      <th>10_11_24_YPGE_chloramph_0.79_norm</th>\n",
       "      <th>10_11_24_YPGE_chloramph_0.99_norm</th>\n",
       "      <th>10_11_24_YPGE_doxorub.12.5_norm</th>\n",
       "      <th>10_11_24_YPGE_linezol_47.1_norm</th>\n",
       "      <th>10_12_10_tigecyc51.5uM_norm</th>\n",
       "      <th>10_12_10_tigecyc64.4uM_norm</th>\n",
       "      <th>10_12_10_tigecyc80.5uM_norm</th>\n",
       "    </tr>\n",
       "    <tr>\n",
       "      <th>orf</th>\n",
       "      <th></th>\n",
       "      <th></th>\n",
       "      <th></th>\n",
       "      <th></th>\n",
       "      <th></th>\n",
       "      <th></th>\n",
       "      <th></th>\n",
       "    </tr>\n",
       "  </thead>\n",
       "  <tbody>\n",
       "    <tr>\n",
       "      <th>YAL001C</th>\n",
       "      <td>1.176373</td>\n",
       "      <td>1.045644</td>\n",
       "      <td>0.900349</td>\n",
       "      <td>0.862081</td>\n",
       "      <td>0.847753</td>\n",
       "      <td>0.976785</td>\n",
       "      <td>0.936862</td>\n",
       "    </tr>\n",
       "    <tr>\n",
       "      <th>YAL002W</th>\n",
       "      <td>0.943034</td>\n",
       "      <td>0.964386</td>\n",
       "      <td>1.204338</td>\n",
       "      <td>1.134889</td>\n",
       "      <td>1.089684</td>\n",
       "      <td>0.995914</td>\n",
       "      <td>0.958980</td>\n",
       "    </tr>\n",
       "    <tr>\n",
       "      <th>YAL003W</th>\n",
       "      <td>1.013223</td>\n",
       "      <td>0.973051</td>\n",
       "      <td>0.863083</td>\n",
       "      <td>0.988750</td>\n",
       "      <td>1.160143</td>\n",
       "      <td>1.051605</td>\n",
       "      <td>1.115577</td>\n",
       "    </tr>\n",
       "    <tr>\n",
       "      <th>YAL004W</th>\n",
       "      <td>0.925641</td>\n",
       "      <td>1.069155</td>\n",
       "      <td>0.843608</td>\n",
       "      <td>1.158093</td>\n",
       "      <td>1.063357</td>\n",
       "      <td>1.164821</td>\n",
       "      <td>1.037537</td>\n",
       "    </tr>\n",
       "    <tr>\n",
       "      <th>YAL005C</th>\n",
       "      <td>0.831773</td>\n",
       "      <td>0.869758</td>\n",
       "      <td>0.673640</td>\n",
       "      <td>0.755510</td>\n",
       "      <td>0.915132</td>\n",
       "      <td>0.983192</td>\n",
       "      <td>0.729415</td>\n",
       "    </tr>\n",
       "  </tbody>\n",
       "</table>\n",
       "</div>"
      ],
      "text/plain": [
       "         10_11_24_YPGE_chloramph_0.79_norm  10_11_24_YPGE_chloramph_0.99_norm  \\\n",
       "orf                                                                             \n",
       "YAL001C                           1.176373                           1.045644   \n",
       "YAL002W                           0.943034                           0.964386   \n",
       "YAL003W                           1.013223                           0.973051   \n",
       "YAL004W                           0.925641                           1.069155   \n",
       "YAL005C                           0.831773                           0.869758   \n",
       "\n",
       "         10_11_24_YPGE_doxorub.12.5_norm  10_11_24_YPGE_linezol_47.1_norm  \\\n",
       "orf                                                                         \n",
       "YAL001C                         0.900349                         0.862081   \n",
       "YAL002W                         1.204338                         1.134889   \n",
       "YAL003W                         0.863083                         0.988750   \n",
       "YAL004W                         0.843608                         1.158093   \n",
       "YAL005C                         0.673640                         0.755510   \n",
       "\n",
       "         10_12_10_tigecyc51.5uM_norm  10_12_10_tigecyc64.4uM_norm  \\\n",
       "orf                                                                 \n",
       "YAL001C                     0.847753                     0.976785   \n",
       "YAL002W                     1.089684                     0.995914   \n",
       "YAL003W                     1.160143                     1.051605   \n",
       "YAL004W                     1.063357                     1.164821   \n",
       "YAL005C                     0.915132                     0.983192   \n",
       "\n",
       "         10_12_10_tigecyc80.5uM_norm  \n",
       "orf                                   \n",
       "YAL001C                     0.936862  \n",
       "YAL002W                     0.958980  \n",
       "YAL003W                     1.115577  \n",
       "YAL004W                     1.037537  \n",
       "YAL005C                     0.729415  "
      ]
     },
     "execution_count": 45,
     "metadata": {},
     "output_type": "execute_result"
    }
   ],
   "source": [
    "original_data.head()"
   ]
  },
  {
   "cell_type": "markdown",
   "metadata": {},
   "source": [
    "# Prepare the final dataset"
   ]
  },
  {
   "cell_type": "code",
   "execution_count": 46,
   "metadata": {},
   "outputs": [],
   "source": [
    "data = original_data.copy()"
   ]
  },
  {
   "cell_type": "code",
   "execution_count": 47,
   "metadata": {},
   "outputs": [],
   "source": [
    "dataset_ids = [16572,16591,16570,16573,16571,16592,16593]\n",
    "datasets = datasets.reindex(index=dataset_ids)"
   ]
  },
  {
   "cell_type": "code",
   "execution_count": 48,
   "metadata": {},
   "outputs": [],
   "source": [
    "lst = [datasets.index.values, ['value']*datasets.shape[0]]\n",
    "tuples = list(zip(*lst))\n",
    "idx = pd.MultiIndex.from_tuples(tuples, names=['dataset_id','data_type'])\n",
    "data.columns = idx"
   ]
  },
  {
   "cell_type": "code",
   "execution_count": 49,
   "metadata": {},
   "outputs": [
    {
     "data": {
      "text/html": [
       "<div>\n",
       "<style scoped>\n",
       "    .dataframe tbody tr th:only-of-type {\n",
       "        vertical-align: middle;\n",
       "    }\n",
       "\n",
       "    .dataframe tbody tr th {\n",
       "        vertical-align: top;\n",
       "    }\n",
       "\n",
       "    .dataframe thead tr th {\n",
       "        text-align: left;\n",
       "    }\n",
       "\n",
       "    .dataframe thead tr:last-of-type th {\n",
       "        text-align: right;\n",
       "    }\n",
       "</style>\n",
       "<table border=\"1\" class=\"dataframe\">\n",
       "  <thead>\n",
       "    <tr>\n",
       "      <th>dataset_id</th>\n",
       "      <th>16572</th>\n",
       "      <th>16591</th>\n",
       "      <th>16570</th>\n",
       "      <th>16573</th>\n",
       "      <th>16571</th>\n",
       "      <th>16592</th>\n",
       "      <th>16593</th>\n",
       "    </tr>\n",
       "    <tr>\n",
       "      <th>data_type</th>\n",
       "      <th>value</th>\n",
       "      <th>value</th>\n",
       "      <th>value</th>\n",
       "      <th>value</th>\n",
       "      <th>value</th>\n",
       "      <th>value</th>\n",
       "      <th>value</th>\n",
       "    </tr>\n",
       "    <tr>\n",
       "      <th>orf</th>\n",
       "      <th></th>\n",
       "      <th></th>\n",
       "      <th></th>\n",
       "      <th></th>\n",
       "      <th></th>\n",
       "      <th></th>\n",
       "      <th></th>\n",
       "    </tr>\n",
       "  </thead>\n",
       "  <tbody>\n",
       "    <tr>\n",
       "      <th>YAL001C</th>\n",
       "      <td>1.176373</td>\n",
       "      <td>1.045644</td>\n",
       "      <td>0.900349</td>\n",
       "      <td>0.862081</td>\n",
       "      <td>0.847753</td>\n",
       "      <td>0.976785</td>\n",
       "      <td>0.936862</td>\n",
       "    </tr>\n",
       "    <tr>\n",
       "      <th>YAL002W</th>\n",
       "      <td>0.943034</td>\n",
       "      <td>0.964386</td>\n",
       "      <td>1.204338</td>\n",
       "      <td>1.134889</td>\n",
       "      <td>1.089684</td>\n",
       "      <td>0.995914</td>\n",
       "      <td>0.958980</td>\n",
       "    </tr>\n",
       "    <tr>\n",
       "      <th>YAL003W</th>\n",
       "      <td>1.013223</td>\n",
       "      <td>0.973051</td>\n",
       "      <td>0.863083</td>\n",
       "      <td>0.988750</td>\n",
       "      <td>1.160143</td>\n",
       "      <td>1.051605</td>\n",
       "      <td>1.115577</td>\n",
       "    </tr>\n",
       "    <tr>\n",
       "      <th>YAL004W</th>\n",
       "      <td>0.925641</td>\n",
       "      <td>1.069155</td>\n",
       "      <td>0.843608</td>\n",
       "      <td>1.158093</td>\n",
       "      <td>1.063357</td>\n",
       "      <td>1.164821</td>\n",
       "      <td>1.037537</td>\n",
       "    </tr>\n",
       "    <tr>\n",
       "      <th>YAL005C</th>\n",
       "      <td>0.831773</td>\n",
       "      <td>0.869758</td>\n",
       "      <td>0.673640</td>\n",
       "      <td>0.755510</td>\n",
       "      <td>0.915132</td>\n",
       "      <td>0.983192</td>\n",
       "      <td>0.729415</td>\n",
       "    </tr>\n",
       "  </tbody>\n",
       "</table>\n",
       "</div>"
      ],
      "text/plain": [
       "dataset_id     16572     16591     16570     16573     16571     16592  \\\n",
       "data_type      value     value     value     value     value     value   \n",
       "orf                                                                      \n",
       "YAL001C     1.176373  1.045644  0.900349  0.862081  0.847753  0.976785   \n",
       "YAL002W     0.943034  0.964386  1.204338  1.134889  1.089684  0.995914   \n",
       "YAL003W     1.013223  0.973051  0.863083  0.988750  1.160143  1.051605   \n",
       "YAL004W     0.925641  1.069155  0.843608  1.158093  1.063357  1.164821   \n",
       "YAL005C     0.831773  0.869758  0.673640  0.755510  0.915132  0.983192   \n",
       "\n",
       "dataset_id     16593  \n",
       "data_type      value  \n",
       "orf                   \n",
       "YAL001C     0.936862  \n",
       "YAL002W     0.958980  \n",
       "YAL003W     1.115577  \n",
       "YAL004W     1.037537  \n",
       "YAL005C     0.729415  "
      ]
     },
     "execution_count": 49,
     "metadata": {},
     "output_type": "execute_result"
    }
   ],
   "source": [
    "data.head()"
   ]
  },
  {
   "cell_type": "markdown",
   "metadata": {},
   "source": [
    "## Subset to the genes currently in SGD"
   ]
  },
  {
   "cell_type": "code",
   "execution_count": 50,
   "metadata": {},
   "outputs": [
    {
     "name": "stdout",
     "output_type": "stream",
     "text": [
      "ORFs missing from SGD: 24\n"
     ]
    }
   ],
   "source": [
    "genes = pd.read_csv(path_to_genes, sep='\\t', index_col='id')\n",
    "genes = genes.reset_index().set_index('systematic_name')\n",
    "gene_ids = genes.reindex(index=data.index.values)['id'].values\n",
    "num_missing = np.sum(np.isnan(gene_ids))\n",
    "print('ORFs missing from SGD: %d' % num_missing)"
   ]
  },
  {
   "cell_type": "code",
   "execution_count": 51,
   "metadata": {},
   "outputs": [
    {
     "data": {
      "text/html": [
       "<div>\n",
       "<style scoped>\n",
       "    .dataframe tbody tr th:only-of-type {\n",
       "        vertical-align: middle;\n",
       "    }\n",
       "\n",
       "    .dataframe tbody tr th {\n",
       "        vertical-align: top;\n",
       "    }\n",
       "\n",
       "    .dataframe thead tr th {\n",
       "        text-align: left;\n",
       "    }\n",
       "\n",
       "    .dataframe thead tr:last-of-type th {\n",
       "        text-align: right;\n",
       "    }\n",
       "</style>\n",
       "<table border=\"1\" class=\"dataframe\">\n",
       "  <thead>\n",
       "    <tr>\n",
       "      <th></th>\n",
       "      <th>dataset_id</th>\n",
       "      <th>16572</th>\n",
       "      <th>16591</th>\n",
       "      <th>16570</th>\n",
       "      <th>16573</th>\n",
       "      <th>16571</th>\n",
       "      <th>16592</th>\n",
       "      <th>16593</th>\n",
       "    </tr>\n",
       "    <tr>\n",
       "      <th></th>\n",
       "      <th>data_type</th>\n",
       "      <th>value</th>\n",
       "      <th>value</th>\n",
       "      <th>value</th>\n",
       "      <th>value</th>\n",
       "      <th>value</th>\n",
       "      <th>value</th>\n",
       "      <th>value</th>\n",
       "    </tr>\n",
       "    <tr>\n",
       "      <th>gene_id</th>\n",
       "      <th>orf</th>\n",
       "      <th></th>\n",
       "      <th></th>\n",
       "      <th></th>\n",
       "      <th></th>\n",
       "      <th></th>\n",
       "      <th></th>\n",
       "      <th></th>\n",
       "    </tr>\n",
       "  </thead>\n",
       "  <tbody>\n",
       "    <tr>\n",
       "      <th>1</th>\n",
       "      <th>YAL001C</th>\n",
       "      <td>1.176373</td>\n",
       "      <td>1.045644</td>\n",
       "      <td>0.900349</td>\n",
       "      <td>0.862081</td>\n",
       "      <td>0.847753</td>\n",
       "      <td>0.976785</td>\n",
       "      <td>0.936862</td>\n",
       "    </tr>\n",
       "    <tr>\n",
       "      <th>2</th>\n",
       "      <th>YAL002W</th>\n",
       "      <td>0.943034</td>\n",
       "      <td>0.964386</td>\n",
       "      <td>1.204338</td>\n",
       "      <td>1.134889</td>\n",
       "      <td>1.089684</td>\n",
       "      <td>0.995914</td>\n",
       "      <td>0.958980</td>\n",
       "    </tr>\n",
       "    <tr>\n",
       "      <th>3</th>\n",
       "      <th>YAL003W</th>\n",
       "      <td>1.013223</td>\n",
       "      <td>0.973051</td>\n",
       "      <td>0.863083</td>\n",
       "      <td>0.988750</td>\n",
       "      <td>1.160143</td>\n",
       "      <td>1.051605</td>\n",
       "      <td>1.115577</td>\n",
       "    </tr>\n",
       "    <tr>\n",
       "      <th>1863</th>\n",
       "      <th>YAL004W</th>\n",
       "      <td>0.925641</td>\n",
       "      <td>1.069155</td>\n",
       "      <td>0.843608</td>\n",
       "      <td>1.158093</td>\n",
       "      <td>1.063357</td>\n",
       "      <td>1.164821</td>\n",
       "      <td>1.037537</td>\n",
       "    </tr>\n",
       "    <tr>\n",
       "      <th>4</th>\n",
       "      <th>YAL005C</th>\n",
       "      <td>0.831773</td>\n",
       "      <td>0.869758</td>\n",
       "      <td>0.673640</td>\n",
       "      <td>0.755510</td>\n",
       "      <td>0.915132</td>\n",
       "      <td>0.983192</td>\n",
       "      <td>0.729415</td>\n",
       "    </tr>\n",
       "  </tbody>\n",
       "</table>\n",
       "</div>"
      ],
      "text/plain": [
       "dataset_id          16572     16591     16570     16573     16571     16592  \\\n",
       "data_type           value     value     value     value     value     value   \n",
       "gene_id orf                                                                   \n",
       "1       YAL001C  1.176373  1.045644  0.900349  0.862081  0.847753  0.976785   \n",
       "2       YAL002W  0.943034  0.964386  1.204338  1.134889  1.089684  0.995914   \n",
       "3       YAL003W  1.013223  0.973051  0.863083  0.988750  1.160143  1.051605   \n",
       "1863    YAL004W  0.925641  1.069155  0.843608  1.158093  1.063357  1.164821   \n",
       "4       YAL005C  0.831773  0.869758  0.673640  0.755510  0.915132  0.983192   \n",
       "\n",
       "dataset_id          16593  \n",
       "data_type           value  \n",
       "gene_id orf                \n",
       "1       YAL001C  0.936862  \n",
       "2       YAL002W  0.958980  \n",
       "3       YAL003W  1.115577  \n",
       "1863    YAL004W  1.037537  \n",
       "4       YAL005C  0.729415  "
      ]
     },
     "execution_count": 51,
     "metadata": {},
     "output_type": "execute_result"
    }
   ],
   "source": [
    "data['gene_id'] = gene_ids\n",
    "data = data.loc[data['gene_id'].notnull()]\n",
    "data['gene_id'] = data['gene_id'].astype(int)\n",
    "data = data.reset_index().set_index(['gene_id','orf'])\n",
    "\n",
    "data.head()"
   ]
  },
  {
   "cell_type": "markdown",
   "metadata": {},
   "source": [
    "# Normalize"
   ]
  },
  {
   "cell_type": "code",
   "execution_count": 52,
   "metadata": {},
   "outputs": [],
   "source": [
    "data_norm = normalize_phenotypic_scores(data, has_tested=True)"
   ]
  },
  {
   "cell_type": "code",
   "execution_count": 53,
   "metadata": {},
   "outputs": [],
   "source": [
    "# Assign proper column names\n",
    "lst = [datasets.index.values, ['valuez']*datasets.shape[0]]\n",
    "tuples = list(zip(*lst))\n",
    "idx = pd.MultiIndex.from_tuples(tuples, names=['dataset_id','data_type'])\n",
    "data_norm.columns = idx"
   ]
  },
  {
   "cell_type": "code",
   "execution_count": 54,
   "metadata": {},
   "outputs": [
    {
     "data": {
      "text/html": [
       "<div>\n",
       "<style scoped>\n",
       "    .dataframe tbody tr th:only-of-type {\n",
       "        vertical-align: middle;\n",
       "    }\n",
       "\n",
       "    .dataframe tbody tr th {\n",
       "        vertical-align: top;\n",
       "    }\n",
       "\n",
       "    .dataframe thead tr th {\n",
       "        text-align: left;\n",
       "    }\n",
       "\n",
       "    .dataframe thead tr:last-of-type th {\n",
       "        text-align: right;\n",
       "    }\n",
       "</style>\n",
       "<table border=\"1\" class=\"dataframe\">\n",
       "  <thead>\n",
       "    <tr>\n",
       "      <th></th>\n",
       "      <th>dataset_id</th>\n",
       "      <th>16572</th>\n",
       "      <th>16591</th>\n",
       "      <th>16570</th>\n",
       "      <th>16573</th>\n",
       "      <th>16571</th>\n",
       "      <th>16592</th>\n",
       "      <th>16593</th>\n",
       "      <th>16572</th>\n",
       "      <th>16591</th>\n",
       "      <th>16570</th>\n",
       "      <th>16573</th>\n",
       "      <th>16571</th>\n",
       "      <th>16592</th>\n",
       "      <th>16593</th>\n",
       "    </tr>\n",
       "    <tr>\n",
       "      <th></th>\n",
       "      <th>data_type</th>\n",
       "      <th>value</th>\n",
       "      <th>value</th>\n",
       "      <th>value</th>\n",
       "      <th>value</th>\n",
       "      <th>value</th>\n",
       "      <th>value</th>\n",
       "      <th>value</th>\n",
       "      <th>valuez</th>\n",
       "      <th>valuez</th>\n",
       "      <th>valuez</th>\n",
       "      <th>valuez</th>\n",
       "      <th>valuez</th>\n",
       "      <th>valuez</th>\n",
       "      <th>valuez</th>\n",
       "    </tr>\n",
       "    <tr>\n",
       "      <th>gene_id</th>\n",
       "      <th>orf</th>\n",
       "      <th></th>\n",
       "      <th></th>\n",
       "      <th></th>\n",
       "      <th></th>\n",
       "      <th></th>\n",
       "      <th></th>\n",
       "      <th></th>\n",
       "      <th></th>\n",
       "      <th></th>\n",
       "      <th></th>\n",
       "      <th></th>\n",
       "      <th></th>\n",
       "      <th></th>\n",
       "      <th></th>\n",
       "    </tr>\n",
       "  </thead>\n",
       "  <tbody>\n",
       "    <tr>\n",
       "      <th>1</th>\n",
       "      <th>YAL001C</th>\n",
       "      <td>1.176373</td>\n",
       "      <td>1.045644</td>\n",
       "      <td>0.900349</td>\n",
       "      <td>0.862081</td>\n",
       "      <td>0.847753</td>\n",
       "      <td>0.976785</td>\n",
       "      <td>0.936862</td>\n",
       "      <td>0.878919</td>\n",
       "      <td>0.802283</td>\n",
       "      <td>-0.165168</td>\n",
       "      <td>-0.425400</td>\n",
       "      <td>-0.608465</td>\n",
       "      <td>-0.119822</td>\n",
       "      <td>-0.216708</td>\n",
       "    </tr>\n",
       "    <tr>\n",
       "      <th>2</th>\n",
       "      <th>YAL002W</th>\n",
       "      <td>0.943034</td>\n",
       "      <td>0.964386</td>\n",
       "      <td>1.204338</td>\n",
       "      <td>1.134889</td>\n",
       "      <td>1.089684</td>\n",
       "      <td>0.995914</td>\n",
       "      <td>0.958980</td>\n",
       "      <td>-0.027454</td>\n",
       "      <td>0.499078</td>\n",
       "      <td>0.979614</td>\n",
       "      <td>0.422360</td>\n",
       "      <td>0.126422</td>\n",
       "      <td>-0.075134</td>\n",
       "      <td>-0.167173</td>\n",
       "    </tr>\n",
       "    <tr>\n",
       "      <th>3</th>\n",
       "      <th>YAL003W</th>\n",
       "      <td>1.013223</td>\n",
       "      <td>0.973051</td>\n",
       "      <td>0.863083</td>\n",
       "      <td>0.988750</td>\n",
       "      <td>1.160143</td>\n",
       "      <td>1.051605</td>\n",
       "      <td>1.115577</td>\n",
       "      <td>0.245185</td>\n",
       "      <td>0.531413</td>\n",
       "      <td>-0.305506</td>\n",
       "      <td>-0.031772</td>\n",
       "      <td>0.340446</td>\n",
       "      <td>0.054968</td>\n",
       "      <td>0.183544</td>\n",
       "    </tr>\n",
       "    <tr>\n",
       "      <th>1863</th>\n",
       "      <th>YAL004W</th>\n",
       "      <td>0.925641</td>\n",
       "      <td>1.069155</td>\n",
       "      <td>0.843608</td>\n",
       "      <td>1.158093</td>\n",
       "      <td>1.063357</td>\n",
       "      <td>1.164821</td>\n",
       "      <td>1.037537</td>\n",
       "      <td>-0.095016</td>\n",
       "      <td>0.890012</td>\n",
       "      <td>-0.378845</td>\n",
       "      <td>0.494469</td>\n",
       "      <td>0.046451</td>\n",
       "      <td>0.319456</td>\n",
       "      <td>0.008764</td>\n",
       "    </tr>\n",
       "    <tr>\n",
       "      <th>4</th>\n",
       "      <th>YAL005C</th>\n",
       "      <td>0.831773</td>\n",
       "      <td>0.869758</td>\n",
       "      <td>0.673640</td>\n",
       "      <td>0.755510</td>\n",
       "      <td>0.915132</td>\n",
       "      <td>0.983192</td>\n",
       "      <td>0.729415</td>\n",
       "      <td>-0.459632</td>\n",
       "      <td>0.145989</td>\n",
       "      <td>-1.018923</td>\n",
       "      <td>-0.756571</td>\n",
       "      <td>-0.403794</td>\n",
       "      <td>-0.104856</td>\n",
       "      <td>-0.681312</td>\n",
       "    </tr>\n",
       "  </tbody>\n",
       "</table>\n",
       "</div>"
      ],
      "text/plain": [
       "dataset_id          16572     16591     16570     16573     16571     16592  \\\n",
       "data_type           value     value     value     value     value     value   \n",
       "gene_id orf                                                                   \n",
       "1       YAL001C  1.176373  1.045644  0.900349  0.862081  0.847753  0.976785   \n",
       "2       YAL002W  0.943034  0.964386  1.204338  1.134889  1.089684  0.995914   \n",
       "3       YAL003W  1.013223  0.973051  0.863083  0.988750  1.160143  1.051605   \n",
       "1863    YAL004W  0.925641  1.069155  0.843608  1.158093  1.063357  1.164821   \n",
       "4       YAL005C  0.831773  0.869758  0.673640  0.755510  0.915132  0.983192   \n",
       "\n",
       "dataset_id          16593     16572     16591     16570     16573     16571  \\\n",
       "data_type           value    valuez    valuez    valuez    valuez    valuez   \n",
       "gene_id orf                                                                   \n",
       "1       YAL001C  0.936862  0.878919  0.802283 -0.165168 -0.425400 -0.608465   \n",
       "2       YAL002W  0.958980 -0.027454  0.499078  0.979614  0.422360  0.126422   \n",
       "3       YAL003W  1.115577  0.245185  0.531413 -0.305506 -0.031772  0.340446   \n",
       "1863    YAL004W  1.037537 -0.095016  0.890012 -0.378845  0.494469  0.046451   \n",
       "4       YAL005C  0.729415 -0.459632  0.145989 -1.018923 -0.756571 -0.403794   \n",
       "\n",
       "dataset_id          16592     16593  \n",
       "data_type          valuez    valuez  \n",
       "gene_id orf                          \n",
       "1       YAL001C -0.119822 -0.216708  \n",
       "2       YAL002W -0.075134 -0.167173  \n",
       "3       YAL003W  0.054968  0.183544  \n",
       "1863    YAL004W  0.319456  0.008764  \n",
       "4       YAL005C -0.104856 -0.681312  "
      ]
     },
     "execution_count": 54,
     "metadata": {},
     "output_type": "execute_result"
    }
   ],
   "source": [
    "data_norm[data.isnull()] = np.nan\n",
    "data_all = data.join(data_norm)\n",
    "\n",
    "data_all.head()"
   ]
  },
  {
   "cell_type": "markdown",
   "metadata": {},
   "source": [
    "# Print out"
   ]
  },
  {
   "cell_type": "code",
   "execution_count": 55,
   "metadata": {},
   "outputs": [],
   "source": [
    "for f in ['value','valuez']:\n",
    "    df = data_all.xs(f, level='data_type', axis=1).copy()\n",
    "    df.columns = datasets['name'].values\n",
    "    df = df.droplevel('gene_id', axis=0)\n",
    "    df.to_csv(paper_name + '_' + f + '.txt', sep='\\t')"
   ]
  },
  {
   "cell_type": "markdown",
   "metadata": {},
   "source": [
    "# Save to DB"
   ]
  },
  {
   "cell_type": "code",
   "execution_count": 56,
   "metadata": {},
   "outputs": [],
   "source": [
    "from IO.save_data_to_db3 import *"
   ]
  },
  {
   "cell_type": "code",
   "execution_count": 57,
   "metadata": {},
   "outputs": [
    {
     "name": "stdout",
     "output_type": "stream",
     "text": [
      "Deleting all datasets for PMID 22094260...\n"
     ]
    },
    {
     "name": "stderr",
     "output_type": "stream",
     "text": [
      "  0%|          | 0/7 [00:00<?, ?it/s]"
     ]
    },
    {
     "name": "stdout",
     "output_type": "stream",
     "text": [
      "Inserting the new data...\n"
     ]
    },
    {
     "name": "stderr",
     "output_type": "stream",
     "text": [
      "100%|██████████| 7/7 [00:57<00:00,  8.22s/it]"
     ]
    },
    {
     "name": "stdout",
     "output_type": "stream",
     "text": [
      "Updating the data_modified_on field...\n"
     ]
    },
    {
     "name": "stderr",
     "output_type": "stream",
     "text": [
      "\n"
     ]
    }
   ],
   "source": [
    "save_data_to_db(data_all, paper_pmid)"
   ]
  },
  {
   "cell_type": "code",
   "execution_count": null,
   "metadata": {},
   "outputs": [],
   "source": []
  }
 ],
 "metadata": {
  "kernelspec": {
   "display_name": "yp-data",
   "language": "python",
   "name": "yp-data"
  },
  "language_info": {
   "codemirror_mode": {
    "name": "ipython",
    "version": 3
   },
   "file_extension": ".py",
   "mimetype": "text/x-python",
   "name": "python",
   "nbconvert_exporter": "python",
   "pygments_lexer": "ipython3",
   "version": "3.7.7"
  }
 },
 "nbformat": 4,
 "nbformat_minor": 4
}
