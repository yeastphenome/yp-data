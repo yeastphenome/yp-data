{
 "cells": [
  {
   "cell_type": "code",
   "execution_count": 1,
   "metadata": {},
   "outputs": [],
   "source": [
    "%run ../yp_utils.py\n",
    "\n",
    "import re"
   ]
  },
  {
   "cell_type": "markdown",
   "metadata": {},
   "source": [
    "# Initial setup"
   ]
  },
  {
   "cell_type": "code",
   "execution_count": 2,
   "metadata": {},
   "outputs": [],
   "source": [
    "paper_pmid = 12663529\n",
    "paper_name = 'page_bussey_2003' "
   ]
  },
  {
   "cell_type": "code",
   "execution_count": 3,
   "metadata": {},
   "outputs": [],
   "source": [
    "datasets = pd.read_csv('extras/YeastPhenome_' + str(paper_pmid) + '_datasets_list.txt', sep='\\t', header=None, names=['dataset_id', 'name'])"
   ]
  },
  {
   "cell_type": "code",
   "execution_count": 4,
   "metadata": {},
   "outputs": [],
   "source": [
    "datasets.set_index('dataset_id', inplace=True)"
   ]
  },
  {
   "cell_type": "markdown",
   "metadata": {},
   "source": [
    "# Load & process the data"
   ]
  },
  {
   "cell_type": "code",
   "execution_count": 5,
   "metadata": {},
   "outputs": [],
   "source": [
    "files = ['Table 2.txt','Table 3.txt','Table 4.txt']\n",
    "patterns = ['(wt|\\d+)\\s(wt|\\d+)\\s(wt|\\d+|NA)','(wt|\\s\\d+)\\s(wt|\\d+)\\s(wt|\\d+|NA)','\\s(wt|\\d+)']"
   ]
  },
  {
   "cell_type": "code",
   "execution_count": 6,
   "metadata": {},
   "outputs": [
    {
     "name": "stdout",
     "output_type": "stream",
     "text": [
      "Original data dimensions: 165 x 1\n",
      "                                                   0\n",
      "0  PHO80 YOL001W Cyclin that interacts with Pho85...\n",
      "1  PHO85 YPL031C Cyclin-dependent protein kinase ...\n",
      "2  PTP3 YER075C Protein tyrosine phosphatase 65 w...\n",
      "3  CKA2 YOR061W Casein kinase II \u0002\\t chain 65 wt ...\n",
      "4  SAC7a YDR389W GTPase-activating protein for Rh...\n",
      "                                                             0 orf  info  \\\n",
      "index_input                                                                \n",
      "16                                 2. Transcription (21 genes)   2  None   \n",
      "38                             3. Actin organization (7 genes)   3  None   \n",
      "46                         4. Lipid/sterol synthesis (9 genes)   4  None   \n",
      "56                         5. Secretion/endocytosis (23 genes)   5  None   \n",
      "80                         6. Protein glycosylation (13 genes)   6  None   \n",
      "94            7. Protein modification or degradation (6 genes)   7  None   \n",
      "101                        8. Cell wall organization (8 genes)   8  None   \n",
      "110          9. Mitochondrial, respiratory, and ATP metabol...   9  None   \n",
      "128                             10. Ungrouped genes (16 genes)  10  None   \n",
      "145          11. Genes of currently unknown function or poo...  11  None   \n",
      "\n",
      "                       info2  data1  data2  data3  \n",
      "index_input                                        \n",
      "16           [nan, nan, nan]    NaN    NaN    NaN  \n",
      "38           [nan, nan, nan]    NaN    NaN    NaN  \n",
      "46           [nan, nan, nan]    NaN    NaN    NaN  \n",
      "56           [nan, nan, nan]    NaN    NaN    NaN  \n",
      "80           [nan, nan, nan]    NaN    NaN    NaN  \n",
      "94           [nan, nan, nan]    NaN    NaN    NaN  \n",
      "101          [nan, nan, nan]    NaN    NaN    NaN  \n",
      "110          [nan, nan, nan]    NaN    NaN    NaN  \n",
      "128          [nan, nan, nan]    NaN    NaN    NaN  \n",
      "145          [nan, nan, nan]    NaN    NaN    NaN  \n",
      "(155, 3)\n",
      "Original data dimensions: 80 x 1\n",
      "                                                   0\n",
      "0  1. Kinases, phosphatases, signal transduction ...\n",
      "1  HOG1 YLR113W ser/thr protein kinase of MAPK fa...\n",
      "2  PBS2 YJL128C Tyrosine protein kinase of the MA...\n",
      "3      SPS1 YDR523C ser/thr protein kinase 152 wt NA\n",
      "4  STE11 YLR362W ser/thr protein kinase of the ME...\n",
      "                                                             0 orf  info  \\\n",
      "index_input                                                                \n",
      "0            1. Kinases, phosphatases, signal transduction ...   1  None   \n",
      "9                                   2. Transcription (7 genes)   2  None   \n",
      "17                                 3. RNA processing (6 genes)   3  None   \n",
      "24           4. Ribosomal and translation initiation protei...   4  None   \n",
      "25                                                    2 genes)      None   \n",
      "46           5. Protein modification or N-glycosylation (5 ...   5  None   \n",
      "52                              6. Cellular polarity (5 genes)   6  None   \n",
      "58                                  7. New FYV genes (8 genes)   7  None   \n",
      "67           8. Ungrouped or poorly characterized genes (12...   8  None   \n",
      "\n",
      "                       info2  data1  data2  data3  \n",
      "index_input                                        \n",
      "0            [nan, nan, nan]    NaN    NaN    NaN  \n",
      "9            [nan, nan, nan]    NaN    NaN    NaN  \n",
      "17           [nan, nan, nan]    NaN    NaN    NaN  \n",
      "24           [nan, nan, nan]    NaN    NaN    NaN  \n",
      "25           [nan, nan, nan]    NaN    NaN    NaN  \n",
      "46           [nan, nan, nan]    NaN    NaN    NaN  \n",
      "52           [nan, nan, nan]    NaN    NaN    NaN  \n",
      "58           [nan, nan, nan]    NaN    NaN    NaN  \n",
      "67           [nan, nan, nan]    NaN    NaN    NaN  \n",
      "(71, 3)\n",
      "Original data dimensions: 47 x 1\n",
      "                                                   0\n",
      "0                           1. Resistant (death zone\n",
      "1                          \u000790% of the wild type; 28\n",
      "2                                           3 genes)\n",
      "3           RSP5 YER125W Ubiquitin-protein ligase 59\n",
      "4  GLC7 YER133W ser/thr phosphoprotein phosphatas...\n",
      "                                                             0  orf  \\\n",
      "index_input                                                           \n",
      "0                                     1. Resistant (death zone    1   \n",
      "1                                    \u000790% of the wild type; 28   90   \n",
      "2                                                     3 genes)        \n",
      "32                                               New KRE genes  NEW   \n",
      "35           2. Hypersensitive (death zone 110% of the wild...    2   \n",
      "\n",
      "                                                       info            info2  \\\n",
      "index_input                                                                    \n",
      "0                                                      None  [nan, nan, nan]   \n",
      "1             <re.Match object; span=(22, 25), match=' 28'>             [28]   \n",
      "2                <re.Match object; span=(0, 2), match=' 3'>              [3]   \n",
      "32                                                     None  [nan, nan, nan]   \n",
      "35           <re.Match object; span=(29, 33), match=' 110'>            [110]   \n",
      "\n",
      "             data1  data2  data3  \n",
      "index_input                       \n",
      "0              NaN    NaN    NaN  \n",
      "1             28.0    NaN    NaN  \n",
      "2              3.0    NaN    NaN  \n",
      "32             NaN    NaN    NaN  \n",
      "35           110.0    NaN    NaN  \n",
      "(42, 3)\n"
     ]
    }
   ],
   "source": [
    "original_data_list = []\n",
    "for ixf, f in enumerate(files):\n",
    "    original_data = pd.read_csv('raw_data/' + f, header=None, sep='\\n')\n",
    "    print('Original data dimensions: %d x %d' % (original_data.shape))\n",
    "    print(original_data.head())\n",
    "    original_data['orf'] = original_data[0].apply(lambda x: x.split(' ')[1] if looks_like_orf(x.split(' ')[1]) else x.split(' ')[0])\n",
    "    original_data['info'] = original_data[0].apply(lambda x: re.search(patterns[ixf], x))\n",
    "    original_data['info2'] = original_data['info'].apply(lambda x: x.group(0) if x else 'nan nan nan')\n",
    "    original_data['info2'] = original_data['info2'].apply(lambda x: [y for y in x.strip().split(' ')])\n",
    "    original_data[['data1','data2','data3']] = pd.DataFrame(original_data['info2'].to_list())\n",
    "    \n",
    "    for c in ['data1','data2','data3']:\n",
    "        original_data.loc[original_data[c]=='wt', c] = '100'\n",
    "        original_data[c] = pd.to_numeric(original_data[c], errors='coerce')\n",
    "        \n",
    "    original_data['orf'] = original_data['orf'].astype(str)\n",
    "    original_data['orf'] = clean_orf(original_data['orf'])\n",
    "    original_data['orf'] = translate_sc(original_data['orf'], to='orf')\n",
    "    t = looks_like_orf(original_data['orf'])\n",
    "    print(original_data.loc[~t,])\n",
    "    original_data = original_data.loc[t,:]\n",
    "    original_data.set_index('orf', inplace=True)\n",
    "    original_data = original_data[['data1','data2','data3']].copy()\n",
    "    original_data = original_data.groupby(original_data.index).mean()\n",
    "    \n",
    "    print(original_data.shape)\n",
    "    \n",
    "    original_data_list.append(original_data)"
   ]
  },
  {
   "cell_type": "code",
   "execution_count": 7,
   "metadata": {},
   "outputs": [],
   "source": [
    "original_data = pd.concat(original_data_list, axis=0)"
   ]
  },
  {
   "cell_type": "code",
   "execution_count": 8,
   "metadata": {},
   "outputs": [
    {
     "data": {
      "text/plain": [
       "(268, 3)"
      ]
     },
     "execution_count": 8,
     "metadata": {},
     "output_type": "execute_result"
    }
   ],
   "source": [
    "original_data.shape"
   ]
  },
  {
   "cell_type": "code",
   "execution_count": 9,
   "metadata": {},
   "outputs": [],
   "source": [
    "original_data = 100 - original_data"
   ]
  },
  {
   "cell_type": "code",
   "execution_count": 10,
   "metadata": {},
   "outputs": [],
   "source": [
    "original_data = original_data.groupby(original_data.index).mean()"
   ]
  },
  {
   "cell_type": "code",
   "execution_count": 11,
   "metadata": {},
   "outputs": [
    {
     "data": {
      "text/plain": [
       "(268, 3)"
      ]
     },
     "execution_count": 11,
     "metadata": {},
     "output_type": "execute_result"
    }
   ],
   "source": [
    "original_data.shape"
   ]
  },
  {
   "cell_type": "markdown",
   "metadata": {},
   "source": [
    "# Prepare the final dataset"
   ]
  },
  {
   "cell_type": "code",
   "execution_count": 12,
   "metadata": {},
   "outputs": [],
   "source": [
    "data = original_data.copy()"
   ]
  },
  {
   "cell_type": "code",
   "execution_count": 13,
   "metadata": {},
   "outputs": [],
   "source": [
    "dataset_ids = [81, 83, 82]\n",
    "datasets = datasets.reindex(index=dataset_ids)"
   ]
  },
  {
   "cell_type": "code",
   "execution_count": 14,
   "metadata": {},
   "outputs": [],
   "source": [
    "lst = [datasets.index.values, ['value']*datasets.shape[0]]\n",
    "tuples = list(zip(*lst))\n",
    "idx = pd.MultiIndex.from_tuples(tuples, names=['dataset_id','data_type'])\n",
    "data.columns = idx"
   ]
  },
  {
   "cell_type": "code",
   "execution_count": 15,
   "metadata": {},
   "outputs": [
    {
     "data": {
      "text/html": [
       "<div>\n",
       "<style scoped>\n",
       "    .dataframe tbody tr th:only-of-type {\n",
       "        vertical-align: middle;\n",
       "    }\n",
       "\n",
       "    .dataframe tbody tr th {\n",
       "        vertical-align: top;\n",
       "    }\n",
       "\n",
       "    .dataframe thead tr th {\n",
       "        text-align: left;\n",
       "    }\n",
       "\n",
       "    .dataframe thead tr:last-of-type th {\n",
       "        text-align: right;\n",
       "    }\n",
       "</style>\n",
       "<table border=\"1\" class=\"dataframe\">\n",
       "  <thead>\n",
       "    <tr>\n",
       "      <th>dataset_id</th>\n",
       "      <th>81</th>\n",
       "      <th>83</th>\n",
       "      <th>82</th>\n",
       "    </tr>\n",
       "    <tr>\n",
       "      <th>data_type</th>\n",
       "      <th>value</th>\n",
       "      <th>value</th>\n",
       "      <th>value</th>\n",
       "    </tr>\n",
       "    <tr>\n",
       "      <th>orf</th>\n",
       "      <th></th>\n",
       "      <th></th>\n",
       "      <th></th>\n",
       "    </tr>\n",
       "  </thead>\n",
       "  <tbody>\n",
       "    <tr>\n",
       "      <th>YAL013W</th>\n",
       "      <td>27.0</td>\n",
       "      <td>0.0</td>\n",
       "      <td>28.0</td>\n",
       "    </tr>\n",
       "    <tr>\n",
       "      <th>YAL016W</th>\n",
       "      <td>-22.0</td>\n",
       "      <td>0.0</td>\n",
       "      <td>NaN</td>\n",
       "    </tr>\n",
       "    <tr>\n",
       "      <th>YAL019W</th>\n",
       "      <td>24.0</td>\n",
       "      <td>0.0</td>\n",
       "      <td>28.0</td>\n",
       "    </tr>\n",
       "    <tr>\n",
       "      <th>YAL020C</th>\n",
       "      <td>29.0</td>\n",
       "      <td>0.0</td>\n",
       "      <td>22.0</td>\n",
       "    </tr>\n",
       "    <tr>\n",
       "      <th>YAL021C</th>\n",
       "      <td>58.0</td>\n",
       "      <td>0.0</td>\n",
       "      <td>43.0</td>\n",
       "    </tr>\n",
       "  </tbody>\n",
       "</table>\n",
       "</div>"
      ],
      "text/plain": [
       "dataset_id    81    83    82\n",
       "data_type  value value value\n",
       "orf                         \n",
       "YAL013W     27.0   0.0  28.0\n",
       "YAL016W    -22.0   0.0   NaN\n",
       "YAL019W     24.0   0.0  28.0\n",
       "YAL020C     29.0   0.0  22.0\n",
       "YAL021C     58.0   0.0  43.0"
      ]
     },
     "execution_count": 15,
     "metadata": {},
     "output_type": "execute_result"
    }
   ],
   "source": [
    "data.head()"
   ]
  },
  {
   "cell_type": "markdown",
   "metadata": {},
   "source": [
    "## Subset to the genes currently in SGD"
   ]
  },
  {
   "cell_type": "code",
   "execution_count": 16,
   "metadata": {},
   "outputs": [
    {
     "name": "stdout",
     "output_type": "stream",
     "text": [
      "ORFs missing from SGD: 0\n"
     ]
    }
   ],
   "source": [
    "genes = pd.read_csv(path_to_genes, sep='\\t', index_col='id')\n",
    "genes = genes.reset_index().set_index('systematic_name')\n",
    "gene_ids = genes.reindex(index=data.index.values)['id'].values\n",
    "num_missing = np.sum(np.isnan(gene_ids))\n",
    "print('ORFs missing from SGD: %d' % num_missing)"
   ]
  },
  {
   "cell_type": "code",
   "execution_count": 17,
   "metadata": {},
   "outputs": [
    {
     "data": {
      "text/html": [
       "<div>\n",
       "<style scoped>\n",
       "    .dataframe tbody tr th:only-of-type {\n",
       "        vertical-align: middle;\n",
       "    }\n",
       "\n",
       "    .dataframe tbody tr th {\n",
       "        vertical-align: top;\n",
       "    }\n",
       "\n",
       "    .dataframe thead tr th {\n",
       "        text-align: left;\n",
       "    }\n",
       "\n",
       "    .dataframe thead tr:last-of-type th {\n",
       "        text-align: right;\n",
       "    }\n",
       "</style>\n",
       "<table border=\"1\" class=\"dataframe\">\n",
       "  <thead>\n",
       "    <tr>\n",
       "      <th></th>\n",
       "      <th>dataset_id</th>\n",
       "      <th>81</th>\n",
       "      <th>83</th>\n",
       "      <th>82</th>\n",
       "    </tr>\n",
       "    <tr>\n",
       "      <th></th>\n",
       "      <th>data_type</th>\n",
       "      <th>value</th>\n",
       "      <th>value</th>\n",
       "      <th>value</th>\n",
       "    </tr>\n",
       "    <tr>\n",
       "      <th>gene_id</th>\n",
       "      <th>orf</th>\n",
       "      <th></th>\n",
       "      <th></th>\n",
       "      <th></th>\n",
       "    </tr>\n",
       "  </thead>\n",
       "  <tbody>\n",
       "    <tr>\n",
       "      <th>11</th>\n",
       "      <th>YAL013W</th>\n",
       "      <td>27.0</td>\n",
       "      <td>0.0</td>\n",
       "      <td>28.0</td>\n",
       "    </tr>\n",
       "    <tr>\n",
       "      <th>14</th>\n",
       "      <th>YAL016W</th>\n",
       "      <td>-22.0</td>\n",
       "      <td>0.0</td>\n",
       "      <td>NaN</td>\n",
       "    </tr>\n",
       "    <tr>\n",
       "      <th>17</th>\n",
       "      <th>YAL019W</th>\n",
       "      <td>24.0</td>\n",
       "      <td>0.0</td>\n",
       "      <td>28.0</td>\n",
       "    </tr>\n",
       "    <tr>\n",
       "      <th>18</th>\n",
       "      <th>YAL020C</th>\n",
       "      <td>29.0</td>\n",
       "      <td>0.0</td>\n",
       "      <td>22.0</td>\n",
       "    </tr>\n",
       "    <tr>\n",
       "      <th>19</th>\n",
       "      <th>YAL021C</th>\n",
       "      <td>58.0</td>\n",
       "      <td>0.0</td>\n",
       "      <td>43.0</td>\n",
       "    </tr>\n",
       "  </tbody>\n",
       "</table>\n",
       "</div>"
      ],
      "text/plain": [
       "dataset_id         81    83    82\n",
       "data_type       value value value\n",
       "gene_id orf                      \n",
       "11      YAL013W  27.0   0.0  28.0\n",
       "14      YAL016W -22.0   0.0   NaN\n",
       "17      YAL019W  24.0   0.0  28.0\n",
       "18      YAL020C  29.0   0.0  22.0\n",
       "19      YAL021C  58.0   0.0  43.0"
      ]
     },
     "execution_count": 17,
     "metadata": {},
     "output_type": "execute_result"
    }
   ],
   "source": [
    "data['gene_id'] = gene_ids\n",
    "data = data.loc[data['gene_id'].notnull()]\n",
    "data['gene_id'] = data['gene_id'].astype(int)\n",
    "data = data.reset_index().set_index(['gene_id','orf'])\n",
    "\n",
    "data.head()"
   ]
  },
  {
   "cell_type": "markdown",
   "metadata": {},
   "source": [
    "# Normalize"
   ]
  },
  {
   "cell_type": "code",
   "execution_count": 18,
   "metadata": {},
   "outputs": [],
   "source": [
    "data_norm = normalize_phenotypic_scores(data, has_tested=False)"
   ]
  },
  {
   "cell_type": "code",
   "execution_count": 19,
   "metadata": {},
   "outputs": [],
   "source": [
    "# Assign proper column names\n",
    "lst = [datasets.index.values, ['valuez']*datasets.shape[0]]\n",
    "tuples = list(zip(*lst))\n",
    "idx = pd.MultiIndex.from_tuples(tuples, names=['dataset_id','data_type'])\n",
    "data_norm.columns = idx"
   ]
  },
  {
   "cell_type": "code",
   "execution_count": 20,
   "metadata": {},
   "outputs": [
    {
     "data": {
      "text/html": [
       "<div>\n",
       "<style scoped>\n",
       "    .dataframe tbody tr th:only-of-type {\n",
       "        vertical-align: middle;\n",
       "    }\n",
       "\n",
       "    .dataframe tbody tr th {\n",
       "        vertical-align: top;\n",
       "    }\n",
       "\n",
       "    .dataframe thead tr th {\n",
       "        text-align: left;\n",
       "    }\n",
       "\n",
       "    .dataframe thead tr:last-of-type th {\n",
       "        text-align: right;\n",
       "    }\n",
       "</style>\n",
       "<table border=\"1\" class=\"dataframe\">\n",
       "  <thead>\n",
       "    <tr>\n",
       "      <th></th>\n",
       "      <th>dataset_id</th>\n",
       "      <th>81</th>\n",
       "      <th>83</th>\n",
       "      <th>82</th>\n",
       "      <th>81</th>\n",
       "      <th>83</th>\n",
       "      <th>82</th>\n",
       "    </tr>\n",
       "    <tr>\n",
       "      <th></th>\n",
       "      <th>data_type</th>\n",
       "      <th>value</th>\n",
       "      <th>value</th>\n",
       "      <th>value</th>\n",
       "      <th>valuez</th>\n",
       "      <th>valuez</th>\n",
       "      <th>valuez</th>\n",
       "    </tr>\n",
       "    <tr>\n",
       "      <th>gene_id</th>\n",
       "      <th>orf</th>\n",
       "      <th></th>\n",
       "      <th></th>\n",
       "      <th></th>\n",
       "      <th></th>\n",
       "      <th></th>\n",
       "      <th></th>\n",
       "    </tr>\n",
       "  </thead>\n",
       "  <tbody>\n",
       "    <tr>\n",
       "      <th>11</th>\n",
       "      <th>YAL013W</th>\n",
       "      <td>27.0</td>\n",
       "      <td>0.0</td>\n",
       "      <td>28.0</td>\n",
       "      <td>2.467444</td>\n",
       "      <td>0.008511</td>\n",
       "      <td>2.677568</td>\n",
       "    </tr>\n",
       "    <tr>\n",
       "      <th>14</th>\n",
       "      <th>YAL016W</th>\n",
       "      <td>-22.0</td>\n",
       "      <td>0.0</td>\n",
       "      <td>NaN</td>\n",
       "      <td>-1.855261</td>\n",
       "      <td>0.008511</td>\n",
       "      <td>NaN</td>\n",
       "    </tr>\n",
       "    <tr>\n",
       "      <th>17</th>\n",
       "      <th>YAL019W</th>\n",
       "      <td>24.0</td>\n",
       "      <td>0.0</td>\n",
       "      <td>28.0</td>\n",
       "      <td>2.202788</td>\n",
       "      <td>0.008511</td>\n",
       "      <td>2.677568</td>\n",
       "    </tr>\n",
       "    <tr>\n",
       "      <th>18</th>\n",
       "      <th>YAL020C</th>\n",
       "      <td>29.0</td>\n",
       "      <td>0.0</td>\n",
       "      <td>22.0</td>\n",
       "      <td>2.643881</td>\n",
       "      <td>0.008511</td>\n",
       "      <td>2.092189</td>\n",
       "    </tr>\n",
       "    <tr>\n",
       "      <th>19</th>\n",
       "      <th>YAL021C</th>\n",
       "      <td>58.0</td>\n",
       "      <td>0.0</td>\n",
       "      <td>43.0</td>\n",
       "      <td>5.202216</td>\n",
       "      <td>0.008511</td>\n",
       "      <td>4.141016</td>\n",
       "    </tr>\n",
       "  </tbody>\n",
       "</table>\n",
       "</div>"
      ],
      "text/plain": [
       "dataset_id         81    83    82        81        83        82\n",
       "data_type       value value value    valuez    valuez    valuez\n",
       "gene_id orf                                                    \n",
       "11      YAL013W  27.0   0.0  28.0  2.467444  0.008511  2.677568\n",
       "14      YAL016W -22.0   0.0   NaN -1.855261  0.008511       NaN\n",
       "17      YAL019W  24.0   0.0  28.0  2.202788  0.008511  2.677568\n",
       "18      YAL020C  29.0   0.0  22.0  2.643881  0.008511  2.092189\n",
       "19      YAL021C  58.0   0.0  43.0  5.202216  0.008511  4.141016"
      ]
     },
     "execution_count": 20,
     "metadata": {},
     "output_type": "execute_result"
    }
   ],
   "source": [
    "data_norm[data.isnull()] = np.nan\n",
    "data_all = data.join(data_norm)\n",
    "\n",
    "data_all.head()"
   ]
  },
  {
   "cell_type": "markdown",
   "metadata": {},
   "source": [
    "# Print out"
   ]
  },
  {
   "cell_type": "code",
   "execution_count": 21,
   "metadata": {},
   "outputs": [],
   "source": [
    "for f in ['value','valuez']:\n",
    "    df = data_all.xs(f, level='data_type', axis=1).copy()\n",
    "    df.columns = datasets['name'].values\n",
    "    df = df.droplevel('gene_id', axis=0)\n",
    "    df.to_csv(paper_name + '_' + f + '.txt', sep='\\t')"
   ]
  },
  {
   "cell_type": "markdown",
   "metadata": {},
   "source": [
    "# Save to DB"
   ]
  },
  {
   "cell_type": "code",
   "execution_count": 22,
   "metadata": {},
   "outputs": [],
   "source": [
    "from IO.save_data_to_db3 import *"
   ]
  },
  {
   "cell_type": "code",
   "execution_count": 23,
   "metadata": {},
   "outputs": [
    {
     "name": "stderr",
     "output_type": "stream",
     "text": [
      "  0%|          | 0/3 [00:00<?, ?it/s]"
     ]
    },
    {
     "name": "stdout",
     "output_type": "stream",
     "text": [
      "Deleting all datasets for PMID 12663529...\n",
      "Inserting the new data...\n"
     ]
    },
    {
     "name": "stderr",
     "output_type": "stream",
     "text": [
      "100%|██████████| 3/3 [00:01<00:00,  1.91it/s]"
     ]
    },
    {
     "name": "stdout",
     "output_type": "stream",
     "text": [
      "Updating the data_modified_on field...\n"
     ]
    },
    {
     "name": "stderr",
     "output_type": "stream",
     "text": [
      "\n"
     ]
    }
   ],
   "source": [
    "save_data_to_db(data_all, paper_pmid)"
   ]
  },
  {
   "cell_type": "code",
   "execution_count": null,
   "metadata": {},
   "outputs": [],
   "source": []
  }
 ],
 "metadata": {
  "kernelspec": {
   "display_name": "yp-data",
   "language": "python",
   "name": "yp-data"
  },
  "language_info": {
   "codemirror_mode": {
    "name": "ipython",
    "version": 3
   },
   "file_extension": ".py",
   "mimetype": "text/x-python",
   "name": "python",
   "nbconvert_exporter": "python",
   "pygments_lexer": "ipython3",
   "version": "3.7.7"
  }
 },
 "nbformat": 4,
 "nbformat_minor": 4
}
