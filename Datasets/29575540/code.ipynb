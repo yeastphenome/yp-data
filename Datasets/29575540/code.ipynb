{
 "cells": [
  {
   "cell_type": "code",
   "execution_count": 1,
   "metadata": {},
   "outputs": [],
   "source": [
    "%run ../yp_utils.py"
   ]
  },
  {
   "cell_type": "markdown",
   "metadata": {},
   "source": [
    "# Initial setup"
   ]
  },
  {
   "cell_type": "code",
   "execution_count": 2,
   "metadata": {},
   "outputs": [],
   "source": [
    "paper_pmid = 29575540\n",
    "paper_name = 'campos_deluna_2018' "
   ]
  },
  {
   "cell_type": "code",
   "execution_count": 3,
   "metadata": {},
   "outputs": [],
   "source": [
    "datasets = pd.read_csv('extras/YeastPhenome_' + str(paper_pmid) + '_datasets_list.txt', sep='\\t', header=None, names=['dataset_id', 'name'])"
   ]
  },
  {
   "cell_type": "code",
   "execution_count": 4,
   "metadata": {},
   "outputs": [],
   "source": [
    "datasets.set_index('dataset_id', inplace=True)"
   ]
  },
  {
   "cell_type": "markdown",
   "metadata": {},
   "source": [
    "# Load & process the data"
   ]
  },
  {
   "cell_type": "code",
   "execution_count": 5,
   "metadata": {},
   "outputs": [],
   "source": [
    "original_data = pd.read_excel('raw_data/DATA-S1_CAMPOS.xlsx', sheet_name='Data_S1')"
   ]
  },
  {
   "cell_type": "code",
   "execution_count": 6,
   "metadata": {},
   "outputs": [
    {
     "name": "stdout",
     "output_type": "stream",
     "text": [
      "Original data dimensions: 3718 x 18\n"
     ]
    }
   ],
   "source": [
    "print('Original data dimensions: %d x %d' % (original_data.shape))"
   ]
  },
  {
   "cell_type": "code",
   "execution_count": 7,
   "metadata": {},
   "outputs": [
    {
     "data": {
      "text/html": [
       "<div>\n",
       "<style scoped>\n",
       "    .dataframe tbody tr th:only-of-type {\n",
       "        vertical-align: middle;\n",
       "    }\n",
       "\n",
       "    .dataframe tbody tr th {\n",
       "        vertical-align: top;\n",
       "    }\n",
       "\n",
       "    .dataframe thead th {\n",
       "        text-align: right;\n",
       "    }\n",
       "</style>\n",
       "<table border=\"1\" class=\"dataframe\">\n",
       "  <thead>\n",
       "    <tr style=\"text-align: right;\">\n",
       "      <th></th>\n",
       "      <th>ORF</th>\n",
       "      <th>genes</th>\n",
       "      <th>s_Gln</th>\n",
       "      <th>Gln_err</th>\n",
       "      <th>s_GABA</th>\n",
       "      <th>GABA_err</th>\n",
       "      <th>p_long Gln</th>\n",
       "      <th>p_long GABA</th>\n",
       "      <th>p_short Gln</th>\n",
       "      <th>p_short GABA</th>\n",
       "      <th>q_long Gln</th>\n",
       "      <th>q_long GABA</th>\n",
       "      <th>q_short Gln</th>\n",
       "      <th>q_short GABA</th>\n",
       "      <th>Z_Gln</th>\n",
       "      <th>Z_GABA</th>\n",
       "      <th>offset_log(RFP/CFP)_Gln</th>\n",
       "      <th>offset_log(RFP/CFP)_GABA</th>\n",
       "    </tr>\n",
       "  </thead>\n",
       "  <tbody>\n",
       "    <tr>\n",
       "      <th>0</th>\n",
       "      <td>YAL002W</td>\n",
       "      <td>VPS8</td>\n",
       "      <td>-0.021639</td>\n",
       "      <td>0.004160</td>\n",
       "      <td>0.004058</td>\n",
       "      <td>0.006624</td>\n",
       "      <td>1.000000</td>\n",
       "      <td>0.143022</td>\n",
       "      <td>1.436795e-08</td>\n",
       "      <td>0.856978</td>\n",
       "      <td>0.897779</td>\n",
       "      <td>0.606409</td>\n",
       "      <td>2.872017e-07</td>\n",
       "      <td>0.797287</td>\n",
       "      <td>-5.548969e+00</td>\n",
       "      <td>1.066842</td>\n",
       "      <td>-2.984716</td>\n",
       "      <td>-0.355407</td>\n",
       "    </tr>\n",
       "    <tr>\n",
       "      <th>1</th>\n",
       "      <td>YAL004W</td>\n",
       "      <td>YAL004W</td>\n",
       "      <td>-0.002997</td>\n",
       "      <td>0.002705</td>\n",
       "      <td>0.005513</td>\n",
       "      <td>0.006587</td>\n",
       "      <td>0.778912</td>\n",
       "      <td>0.073609</td>\n",
       "      <td>2.210879e-01</td>\n",
       "      <td>0.926391</td>\n",
       "      <td>0.897779</td>\n",
       "      <td>0.414917</td>\n",
       "      <td>4.720158e-01</td>\n",
       "      <td>0.797287</td>\n",
       "      <td>-7.685242e-01</td>\n",
       "      <td>1.449428</td>\n",
       "      <td>-0.602746</td>\n",
       "      <td>0.081176</td>\n",
       "    </tr>\n",
       "    <tr>\n",
       "      <th>2</th>\n",
       "      <td>YAL005C</td>\n",
       "      <td>SSA1</td>\n",
       "      <td>-0.006459</td>\n",
       "      <td>0.010005</td>\n",
       "      <td>0.013952</td>\n",
       "      <td>0.009603</td>\n",
       "      <td>0.951179</td>\n",
       "      <td>0.000122</td>\n",
       "      <td>4.882138e-02</td>\n",
       "      <td>0.999878</td>\n",
       "      <td>0.897779</td>\n",
       "      <td>0.003190</td>\n",
       "      <td>1.716742e-01</td>\n",
       "      <td>0.797287</td>\n",
       "      <td>-1.656391e+00</td>\n",
       "      <td>3.668313</td>\n",
       "      <td>0.317402</td>\n",
       "      <td>0.164893</td>\n",
       "    </tr>\n",
       "    <tr>\n",
       "      <th>3</th>\n",
       "      <td>YAL007C</td>\n",
       "      <td>ERP2</td>\n",
       "      <td>0.000000</td>\n",
       "      <td>0.006097</td>\n",
       "      <td>-0.000206</td>\n",
       "      <td>0.005788</td>\n",
       "      <td>0.500000</td>\n",
       "      <td>0.521560</td>\n",
       "      <td>5.000000e-01</td>\n",
       "      <td>0.478440</td>\n",
       "      <td>0.897779</td>\n",
       "      <td>0.906613</td>\n",
       "      <td>7.201143e-01</td>\n",
       "      <td>0.713709</td>\n",
       "      <td>3.677429e-17</td>\n",
       "      <td>-0.054069</td>\n",
       "      <td>-1.031513</td>\n",
       "      <td>-0.116392</td>\n",
       "    </tr>\n",
       "    <tr>\n",
       "      <th>4</th>\n",
       "      <td>YAL008W</td>\n",
       "      <td>FUN14</td>\n",
       "      <td>-0.001761</td>\n",
       "      <td>0.002439</td>\n",
       "      <td>-0.001505</td>\n",
       "      <td>0.003807</td>\n",
       "      <td>0.674192</td>\n",
       "      <td>0.653882</td>\n",
       "      <td>3.258081e-01</td>\n",
       "      <td>0.346118</td>\n",
       "      <td>0.897779</td>\n",
       "      <td>0.906613</td>\n",
       "      <td>5.824590e-01</td>\n",
       "      <td>0.597712</td>\n",
       "      <td>-4.515180e-01</td>\n",
       "      <td>-0.395822</td>\n",
       "      <td>0.135165</td>\n",
       "      <td>0.446107</td>\n",
       "    </tr>\n",
       "  </tbody>\n",
       "</table>\n",
       "</div>"
      ],
      "text/plain": [
       "       ORF    genes     s_Gln   Gln_err    s_GABA  GABA_err  p_long Gln  \\\n",
       "0  YAL002W     VPS8 -0.021639  0.004160  0.004058  0.006624    1.000000   \n",
       "1  YAL004W  YAL004W -0.002997  0.002705  0.005513  0.006587    0.778912   \n",
       "2  YAL005C     SSA1 -0.006459  0.010005  0.013952  0.009603    0.951179   \n",
       "3  YAL007C     ERP2  0.000000  0.006097 -0.000206  0.005788    0.500000   \n",
       "4  YAL008W    FUN14 -0.001761  0.002439 -0.001505  0.003807    0.674192   \n",
       "\n",
       "   p_long GABA   p_short Gln  p_short GABA  q_long Gln  q_long GABA  \\\n",
       "0     0.143022  1.436795e-08      0.856978    0.897779     0.606409   \n",
       "1     0.073609  2.210879e-01      0.926391    0.897779     0.414917   \n",
       "2     0.000122  4.882138e-02      0.999878    0.897779     0.003190   \n",
       "3     0.521560  5.000000e-01      0.478440    0.897779     0.906613   \n",
       "4     0.653882  3.258081e-01      0.346118    0.897779     0.906613   \n",
       "\n",
       "    q_short Gln  q_short GABA         Z_Gln    Z_GABA  \\\n",
       "0  2.872017e-07      0.797287 -5.548969e+00  1.066842   \n",
       "1  4.720158e-01      0.797287 -7.685242e-01  1.449428   \n",
       "2  1.716742e-01      0.797287 -1.656391e+00  3.668313   \n",
       "3  7.201143e-01      0.713709  3.677429e-17 -0.054069   \n",
       "4  5.824590e-01      0.597712 -4.515180e-01 -0.395822   \n",
       "\n",
       "   offset_log(RFP/CFP)_Gln  offset_log(RFP/CFP)_GABA  \n",
       "0                -2.984716                 -0.355407  \n",
       "1                -0.602746                  0.081176  \n",
       "2                 0.317402                  0.164893  \n",
       "3                -1.031513                 -0.116392  \n",
       "4                 0.135165                  0.446107  "
      ]
     },
     "execution_count": 7,
     "metadata": {},
     "output_type": "execute_result"
    }
   ],
   "source": [
    "original_data.head()"
   ]
  },
  {
   "cell_type": "code",
   "execution_count": 14,
   "metadata": {},
   "outputs": [],
   "source": [
    "original_data['orf'] = original_data['ORF'].astype(str)"
   ]
  },
  {
   "cell_type": "code",
   "execution_count": 15,
   "metadata": {},
   "outputs": [],
   "source": [
    "# Eliminate all white spaces & capitalize\n",
    "original_data['orf'] = clean_orf(original_data['orf'])"
   ]
  },
  {
   "cell_type": "code",
   "execution_count": 16,
   "metadata": {},
   "outputs": [],
   "source": [
    "original_data.loc[original_data['orf']=='YLR287-A','orf'] = 'YLR287C-A'"
   ]
  },
  {
   "cell_type": "code",
   "execution_count": 17,
   "metadata": {},
   "outputs": [],
   "source": [
    "# Translate to ORFs \n",
    "original_data['orf'] = translate_sc(original_data['orf'], to='orf')"
   ]
  },
  {
   "cell_type": "code",
   "execution_count": 18,
   "metadata": {},
   "outputs": [
    {
     "name": "stdout",
     "output_type": "stream",
     "text": [
      "Empty DataFrame\n",
      "Columns: [ORF, genes, s_Gln, Gln_err, s_GABA, GABA_err, p_long Gln, p_long GABA, p_short Gln, p_short GABA, q_long Gln, q_long GABA, q_short Gln, q_short GABA, Z_Gln, Z_GABA, offset_log(RFP/CFP)_Gln, offset_log(RFP/CFP)_GABA, orf]\n",
      "Index: []\n"
     ]
    }
   ],
   "source": [
    "# Make sure everything translated ok\n",
    "t = looks_like_orf(original_data['orf'])\n",
    "print(original_data.loc[~t,])"
   ]
  },
  {
   "cell_type": "code",
   "execution_count": 19,
   "metadata": {},
   "outputs": [],
   "source": [
    "original_data = original_data.loc[:,['orf','s_Gln','s_GABA']]"
   ]
  },
  {
   "cell_type": "code",
   "execution_count": 20,
   "metadata": {},
   "outputs": [],
   "source": [
    "original_data.set_index('orf', inplace=True)"
   ]
  },
  {
   "cell_type": "code",
   "execution_count": 21,
   "metadata": {},
   "outputs": [],
   "source": [
    "original_data = original_data.groupby(original_data.index).mean()"
   ]
  },
  {
   "cell_type": "code",
   "execution_count": 22,
   "metadata": {},
   "outputs": [
    {
     "data": {
      "text/plain": [
       "(3696, 2)"
      ]
     },
     "execution_count": 22,
     "metadata": {},
     "output_type": "execute_result"
    }
   ],
   "source": [
    "original_data.shape"
   ]
  },
  {
   "cell_type": "markdown",
   "metadata": {},
   "source": [
    "# Prepare the final dataset"
   ]
  },
  {
   "cell_type": "code",
   "execution_count": 23,
   "metadata": {},
   "outputs": [],
   "source": [
    "data = original_data.copy()"
   ]
  },
  {
   "cell_type": "code",
   "execution_count": 24,
   "metadata": {},
   "outputs": [],
   "source": [
    "dataset_ids = [16173,16174]\n",
    "datasets = datasets.reindex(index=dataset_ids)"
   ]
  },
  {
   "cell_type": "code",
   "execution_count": 25,
   "metadata": {},
   "outputs": [],
   "source": [
    "lst = [datasets.index.values, ['value']*datasets.shape[0]]\n",
    "tuples = list(zip(*lst))\n",
    "idx = pd.MultiIndex.from_tuples(tuples, names=['dataset_id','data_type'])\n",
    "data.columns = idx"
   ]
  },
  {
   "cell_type": "code",
   "execution_count": 26,
   "metadata": {},
   "outputs": [
    {
     "data": {
      "text/html": [
       "<div>\n",
       "<style scoped>\n",
       "    .dataframe tbody tr th:only-of-type {\n",
       "        vertical-align: middle;\n",
       "    }\n",
       "\n",
       "    .dataframe tbody tr th {\n",
       "        vertical-align: top;\n",
       "    }\n",
       "\n",
       "    .dataframe thead tr th {\n",
       "        text-align: left;\n",
       "    }\n",
       "\n",
       "    .dataframe thead tr:last-of-type th {\n",
       "        text-align: right;\n",
       "    }\n",
       "</style>\n",
       "<table border=\"1\" class=\"dataframe\">\n",
       "  <thead>\n",
       "    <tr>\n",
       "      <th>dataset_id</th>\n",
       "      <th>16173</th>\n",
       "      <th>16174</th>\n",
       "    </tr>\n",
       "    <tr>\n",
       "      <th>data_type</th>\n",
       "      <th>value</th>\n",
       "      <th>value</th>\n",
       "    </tr>\n",
       "    <tr>\n",
       "      <th>orf</th>\n",
       "      <th></th>\n",
       "      <th></th>\n",
       "    </tr>\n",
       "  </thead>\n",
       "  <tbody>\n",
       "    <tr>\n",
       "      <th>YAL002W</th>\n",
       "      <td>-0.021639</td>\n",
       "      <td>0.004058</td>\n",
       "    </tr>\n",
       "    <tr>\n",
       "      <th>YAL004W</th>\n",
       "      <td>-0.002997</td>\n",
       "      <td>0.005513</td>\n",
       "    </tr>\n",
       "    <tr>\n",
       "      <th>YAL005C</th>\n",
       "      <td>-0.006459</td>\n",
       "      <td>0.013952</td>\n",
       "    </tr>\n",
       "    <tr>\n",
       "      <th>YAL007C</th>\n",
       "      <td>0.000000</td>\n",
       "      <td>-0.000206</td>\n",
       "    </tr>\n",
       "    <tr>\n",
       "      <th>YAL008W</th>\n",
       "      <td>-0.001761</td>\n",
       "      <td>-0.001505</td>\n",
       "    </tr>\n",
       "  </tbody>\n",
       "</table>\n",
       "</div>"
      ],
      "text/plain": [
       "dataset_id     16173     16174\n",
       "data_type      value     value\n",
       "orf                           \n",
       "YAL002W    -0.021639  0.004058\n",
       "YAL004W    -0.002997  0.005513\n",
       "YAL005C    -0.006459  0.013952\n",
       "YAL007C     0.000000 -0.000206\n",
       "YAL008W    -0.001761 -0.001505"
      ]
     },
     "execution_count": 26,
     "metadata": {},
     "output_type": "execute_result"
    }
   ],
   "source": [
    "data.head()"
   ]
  },
  {
   "cell_type": "markdown",
   "metadata": {},
   "source": [
    "## Subset to the genes currently in SGD"
   ]
  },
  {
   "cell_type": "code",
   "execution_count": 27,
   "metadata": {},
   "outputs": [
    {
     "name": "stdout",
     "output_type": "stream",
     "text": [
      "ORFs missing from SGD: 21\n"
     ]
    }
   ],
   "source": [
    "genes = pd.read_csv(path_to_genes, sep='\\t', index_col='id')\n",
    "genes = genes.reset_index().set_index('systematic_name')\n",
    "gene_ids = genes.reindex(index=data.index.values)['id'].values\n",
    "num_missing = np.sum(np.isnan(gene_ids))\n",
    "print('ORFs missing from SGD: %d' % num_missing)"
   ]
  },
  {
   "cell_type": "code",
   "execution_count": 28,
   "metadata": {},
   "outputs": [],
   "source": [
    "data['gene_id'] = gene_ids\n",
    "data = data.loc[data['gene_id'].notnull()]\n",
    "data['gene_id'] = data['gene_id'].astype(int)\n",
    "data = data.reset_index().set_index(['gene_id','orf'])"
   ]
  },
  {
   "cell_type": "code",
   "execution_count": 29,
   "metadata": {},
   "outputs": [
    {
     "data": {
      "text/html": [
       "<div>\n",
       "<style scoped>\n",
       "    .dataframe tbody tr th:only-of-type {\n",
       "        vertical-align: middle;\n",
       "    }\n",
       "\n",
       "    .dataframe tbody tr th {\n",
       "        vertical-align: top;\n",
       "    }\n",
       "\n",
       "    .dataframe thead tr th {\n",
       "        text-align: left;\n",
       "    }\n",
       "\n",
       "    .dataframe thead tr:last-of-type th {\n",
       "        text-align: right;\n",
       "    }\n",
       "</style>\n",
       "<table border=\"1\" class=\"dataframe\">\n",
       "  <thead>\n",
       "    <tr>\n",
       "      <th></th>\n",
       "      <th>dataset_id</th>\n",
       "      <th>16173</th>\n",
       "      <th>16174</th>\n",
       "    </tr>\n",
       "    <tr>\n",
       "      <th></th>\n",
       "      <th>data_type</th>\n",
       "      <th>value</th>\n",
       "      <th>value</th>\n",
       "    </tr>\n",
       "    <tr>\n",
       "      <th>gene_id</th>\n",
       "      <th>orf</th>\n",
       "      <th></th>\n",
       "      <th></th>\n",
       "    </tr>\n",
       "  </thead>\n",
       "  <tbody>\n",
       "    <tr>\n",
       "      <th>2</th>\n",
       "      <th>YAL002W</th>\n",
       "      <td>-0.021639</td>\n",
       "      <td>0.004058</td>\n",
       "    </tr>\n",
       "    <tr>\n",
       "      <th>1863</th>\n",
       "      <th>YAL004W</th>\n",
       "      <td>-0.002997</td>\n",
       "      <td>0.005513</td>\n",
       "    </tr>\n",
       "    <tr>\n",
       "      <th>4</th>\n",
       "      <th>YAL005C</th>\n",
       "      <td>-0.006459</td>\n",
       "      <td>0.013952</td>\n",
       "    </tr>\n",
       "    <tr>\n",
       "      <th>5</th>\n",
       "      <th>YAL007C</th>\n",
       "      <td>0.000000</td>\n",
       "      <td>-0.000206</td>\n",
       "    </tr>\n",
       "    <tr>\n",
       "      <th>6</th>\n",
       "      <th>YAL008W</th>\n",
       "      <td>-0.001761</td>\n",
       "      <td>-0.001505</td>\n",
       "    </tr>\n",
       "  </tbody>\n",
       "</table>\n",
       "</div>"
      ],
      "text/plain": [
       "dataset_id          16173     16174\n",
       "data_type           value     value\n",
       "gene_id orf                        \n",
       "2       YAL002W -0.021639  0.004058\n",
       "1863    YAL004W -0.002997  0.005513\n",
       "4       YAL005C -0.006459  0.013952\n",
       "5       YAL007C  0.000000 -0.000206\n",
       "6       YAL008W -0.001761 -0.001505"
      ]
     },
     "execution_count": 29,
     "metadata": {},
     "output_type": "execute_result"
    }
   ],
   "source": [
    "data.head()"
   ]
  },
  {
   "cell_type": "markdown",
   "metadata": {},
   "source": [
    "# Normalize"
   ]
  },
  {
   "cell_type": "code",
   "execution_count": 30,
   "metadata": {},
   "outputs": [],
   "source": [
    "data_norm = normalize_phenotypic_scores(data, has_tested=True)"
   ]
  },
  {
   "cell_type": "code",
   "execution_count": 31,
   "metadata": {},
   "outputs": [],
   "source": [
    "# Assign proper column names\n",
    "lst = [datasets.index.values, ['valuez']*datasets.shape[0]]\n",
    "tuples = list(zip(*lst))\n",
    "idx = pd.MultiIndex.from_tuples(tuples, names=['dataset_id','data_type'])\n",
    "data_norm.columns = idx"
   ]
  },
  {
   "cell_type": "code",
   "execution_count": 32,
   "metadata": {},
   "outputs": [],
   "source": [
    "data_norm[data.isnull()] = np.nan\n",
    "data_all = data.join(data_norm)"
   ]
  },
  {
   "cell_type": "code",
   "execution_count": 33,
   "metadata": {},
   "outputs": [
    {
     "data": {
      "text/html": [
       "<div>\n",
       "<style scoped>\n",
       "    .dataframe tbody tr th:only-of-type {\n",
       "        vertical-align: middle;\n",
       "    }\n",
       "\n",
       "    .dataframe tbody tr th {\n",
       "        vertical-align: top;\n",
       "    }\n",
       "\n",
       "    .dataframe thead tr th {\n",
       "        text-align: left;\n",
       "    }\n",
       "\n",
       "    .dataframe thead tr:last-of-type th {\n",
       "        text-align: right;\n",
       "    }\n",
       "</style>\n",
       "<table border=\"1\" class=\"dataframe\">\n",
       "  <thead>\n",
       "    <tr>\n",
       "      <th></th>\n",
       "      <th>dataset_id</th>\n",
       "      <th>16173</th>\n",
       "      <th>16174</th>\n",
       "      <th>16173</th>\n",
       "      <th>16174</th>\n",
       "    </tr>\n",
       "    <tr>\n",
       "      <th></th>\n",
       "      <th>data_type</th>\n",
       "      <th>value</th>\n",
       "      <th>value</th>\n",
       "      <th>valuez</th>\n",
       "      <th>valuez</th>\n",
       "    </tr>\n",
       "    <tr>\n",
       "      <th>gene_id</th>\n",
       "      <th>orf</th>\n",
       "      <th></th>\n",
       "      <th></th>\n",
       "      <th></th>\n",
       "      <th></th>\n",
       "    </tr>\n",
       "  </thead>\n",
       "  <tbody>\n",
       "    <tr>\n",
       "      <th>2</th>\n",
       "      <th>YAL002W</th>\n",
       "      <td>-0.021639</td>\n",
       "      <td>0.004058</td>\n",
       "      <td>-1.952510</td>\n",
       "      <td>0.514059</td>\n",
       "    </tr>\n",
       "    <tr>\n",
       "      <th>1863</th>\n",
       "      <th>YAL004W</th>\n",
       "      <td>-0.002997</td>\n",
       "      <td>0.005513</td>\n",
       "      <td>-0.197526</td>\n",
       "      <td>0.663749</td>\n",
       "    </tr>\n",
       "    <tr>\n",
       "      <th>4</th>\n",
       "      <th>YAL005C</th>\n",
       "      <td>-0.006459</td>\n",
       "      <td>0.013952</td>\n",
       "      <td>-0.523477</td>\n",
       "      <td>1.531906</td>\n",
       "    </tr>\n",
       "    <tr>\n",
       "      <th>5</th>\n",
       "      <th>YAL007C</th>\n",
       "      <td>0.000000</td>\n",
       "      <td>-0.000206</td>\n",
       "      <td>0.084612</td>\n",
       "      <td>0.075493</td>\n",
       "    </tr>\n",
       "    <tr>\n",
       "      <th>6</th>\n",
       "      <th>YAL008W</th>\n",
       "      <td>-0.001761</td>\n",
       "      <td>-0.001505</td>\n",
       "      <td>-0.081148</td>\n",
       "      <td>-0.058221</td>\n",
       "    </tr>\n",
       "  </tbody>\n",
       "</table>\n",
       "</div>"
      ],
      "text/plain": [
       "dataset_id          16173     16174     16173     16174\n",
       "data_type           value     value    valuez    valuez\n",
       "gene_id orf                                            \n",
       "2       YAL002W -0.021639  0.004058 -1.952510  0.514059\n",
       "1863    YAL004W -0.002997  0.005513 -0.197526  0.663749\n",
       "4       YAL005C -0.006459  0.013952 -0.523477  1.531906\n",
       "5       YAL007C  0.000000 -0.000206  0.084612  0.075493\n",
       "6       YAL008W -0.001761 -0.001505 -0.081148 -0.058221"
      ]
     },
     "execution_count": 33,
     "metadata": {},
     "output_type": "execute_result"
    }
   ],
   "source": [
    "data_all.head()\n"
   ]
  },
  {
   "cell_type": "markdown",
   "metadata": {},
   "source": [
    "# Print out"
   ]
  },
  {
   "cell_type": "code",
   "execution_count": 34,
   "metadata": {},
   "outputs": [],
   "source": [
    "for f in ['value','valuez']:\n",
    "    df = data_all.xs(f, level='data_type', axis=1).copy()\n",
    "    df.columns = datasets['name'].values\n",
    "    df = df.droplevel('gene_id', axis=0)\n",
    "    df.to_csv(paper_name + '_' + f + '.txt', sep='\\t')"
   ]
  },
  {
   "cell_type": "markdown",
   "metadata": {},
   "source": [
    "# Save to DB"
   ]
  },
  {
   "cell_type": "code",
   "execution_count": 35,
   "metadata": {},
   "outputs": [],
   "source": [
    "from IO.save_data_to_db3 import *"
   ]
  },
  {
   "cell_type": "code",
   "execution_count": 36,
   "metadata": {},
   "outputs": [
    {
     "name": "stderr",
     "output_type": "stream",
     "text": [
      "  0%|          | 0/2 [00:00<?, ?it/s]"
     ]
    },
    {
     "name": "stdout",
     "output_type": "stream",
     "text": [
      "Deleting all datasets for PMID 29575540...\n",
      "Inserting the new data...\n"
     ]
    },
    {
     "name": "stderr",
     "output_type": "stream",
     "text": [
      "100%|██████████| 2/2 [00:10<00:00,  5.46s/it]"
     ]
    },
    {
     "name": "stdout",
     "output_type": "stream",
     "text": [
      "Updating the data_modified_on field...\n"
     ]
    },
    {
     "name": "stderr",
     "output_type": "stream",
     "text": [
      "\n"
     ]
    }
   ],
   "source": [
    "save_data_to_db(data_all, paper_pmid)"
   ]
  },
  {
   "cell_type": "code",
   "execution_count": null,
   "metadata": {},
   "outputs": [],
   "source": []
  }
 ],
 "metadata": {
  "kernelspec": {
   "display_name": "yp-data",
   "language": "python",
   "name": "yp-data"
  },
  "language_info": {
   "codemirror_mode": {
    "name": "ipython",
    "version": 3
   },
   "file_extension": ".py",
   "mimetype": "text/x-python",
   "name": "python",
   "nbconvert_exporter": "python",
   "pygments_lexer": "ipython3",
   "version": "3.7.7"
  }
 },
 "nbformat": 4,
 "nbformat_minor": 4
}
