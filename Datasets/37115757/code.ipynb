{
 "cells": [
  {
   "cell_type": "code",
   "execution_count": 1,
   "metadata": {},
   "outputs": [],
   "source": [
    "%run ../../Utils/yp_utils.py"
   ]
  },
  {
   "cell_type": "markdown",
   "metadata": {},
   "source": [
    "# Initial setup"
   ]
  },
  {
   "cell_type": "code",
   "execution_count": 2,
   "metadata": {},
   "outputs": [],
   "source": [
    "paper_pmid = 37115757\n",
    "paper_name = 'saeki_moriya_2023' "
   ]
  },
  {
   "cell_type": "code",
   "execution_count": 3,
   "metadata": {},
   "outputs": [],
   "source": [
    "datasets = pd.read_csv('extras/YeastPhenome_' + str(paper_pmid) + '_datasets_list.txt', sep='\\t', header=None, names=['dataset_id', 'name'])"
   ]
  },
  {
   "cell_type": "code",
   "execution_count": 4,
   "metadata": {},
   "outputs": [],
   "source": [
    "datasets.set_index('dataset_id', inplace=True)"
   ]
  },
  {
   "cell_type": "markdown",
   "metadata": {},
   "source": [
    "# Load & process the data"
   ]
  },
  {
   "cell_type": "code",
   "execution_count": 26,
   "metadata": {},
   "outputs": [],
   "source": [
    "original_data = pd.read_excel('raw_data/Large_Data.xlsx', sheet_name='Fig.5C-I (Z)')"
   ]
  },
  {
   "cell_type": "code",
   "execution_count": 27,
   "metadata": {},
   "outputs": [
    {
     "name": "stdout",
     "output_type": "stream",
     "text": [
      "Original data dimensions: 4321 x 12\n"
     ]
    }
   ],
   "source": [
    "print('Original data dimensions: %d x %d' % (original_data.shape))"
   ]
  },
  {
   "cell_type": "code",
   "execution_count": 28,
   "metadata": {},
   "outputs": [
    {
     "data": {
      "text/html": [
       "<div>\n",
       "<style scoped>\n",
       "    .dataframe tbody tr th:only-of-type {\n",
       "        vertical-align: middle;\n",
       "    }\n",
       "\n",
       "    .dataframe tbody tr th {\n",
       "        vertical-align: top;\n",
       "    }\n",
       "\n",
       "    .dataframe thead th {\n",
       "        text-align: right;\n",
       "    }\n",
       "</style>\n",
       "<table border=\"1\" class=\"dataframe\">\n",
       "  <thead>\n",
       "    <tr style=\"text-align: right;\">\n",
       "      <th></th>\n",
       "      <th>Unnamed: 0</th>\n",
       "      <th>Z_YPD</th>\n",
       "      <th>Z_Na</th>\n",
       "      <th>Z_NaCa</th>\n",
       "      <th>pvalues (Na vs NaCa)</th>\n",
       "      <th>pvalues (YPD vs Na)</th>\n",
       "      <th>pvalues  (YPD vs NaCa)</th>\n",
       "      <th>qvalues (Na vs NaCa)</th>\n",
       "      <th>qvalues  (YPD vs Na)</th>\n",
       "      <th>qvalues  (YPD vs NaCa)</th>\n",
       "      <th>Fig.5C</th>\n",
       "      <th>Fig.5F</th>\n",
       "    </tr>\n",
       "  </thead>\n",
       "  <tbody>\n",
       "    <tr>\n",
       "      <th>0</th>\n",
       "      <td>YAL001C</td>\n",
       "      <td>-0.737584</td>\n",
       "      <td>-1.594022</td>\n",
       "      <td>-1.650956</td>\n",
       "      <td>0.234157</td>\n",
       "      <td>0.122482</td>\n",
       "      <td>0.008652</td>\n",
       "      <td>0.280664</td>\n",
       "      <td>0.183893</td>\n",
       "      <td>0.022852</td>\n",
       "      <td>False</td>\n",
       "      <td>False</td>\n",
       "    </tr>\n",
       "    <tr>\n",
       "      <th>1</th>\n",
       "      <td>YAL004W</td>\n",
       "      <td>0.909522</td>\n",
       "      <td>0.331849</td>\n",
       "      <td>0.905389</td>\n",
       "      <td>0.042300</td>\n",
       "      <td>0.004469</td>\n",
       "      <td>0.096406</td>\n",
       "      <td>0.076285</td>\n",
       "      <td>0.023961</td>\n",
       "      <td>0.132750</td>\n",
       "      <td>False</td>\n",
       "      <td>False</td>\n",
       "    </tr>\n",
       "    <tr>\n",
       "      <th>2</th>\n",
       "      <td>YAL005C</td>\n",
       "      <td>0.520592</td>\n",
       "      <td>-0.295495</td>\n",
       "      <td>0.176687</td>\n",
       "      <td>0.635032</td>\n",
       "      <td>0.000547</td>\n",
       "      <td>0.013318</td>\n",
       "      <td>0.672872</td>\n",
       "      <td>0.007504</td>\n",
       "      <td>0.030611</td>\n",
       "      <td>False</td>\n",
       "      <td>False</td>\n",
       "    </tr>\n",
       "    <tr>\n",
       "      <th>3</th>\n",
       "      <td>YAL008W</td>\n",
       "      <td>0.239820</td>\n",
       "      <td>-0.000081</td>\n",
       "      <td>-0.719041</td>\n",
       "      <td>0.005399</td>\n",
       "      <td>0.138748</td>\n",
       "      <td>0.004811</td>\n",
       "      <td>0.032359</td>\n",
       "      <td>0.201184</td>\n",
       "      <td>0.015871</td>\n",
       "      <td>False</td>\n",
       "      <td>False</td>\n",
       "    </tr>\n",
       "    <tr>\n",
       "      <th>4</th>\n",
       "      <td>YAL011W</td>\n",
       "      <td>-0.268009</td>\n",
       "      <td>-1.036829</td>\n",
       "      <td>-0.987850</td>\n",
       "      <td>0.030444</td>\n",
       "      <td>0.001502</td>\n",
       "      <td>0.001955</td>\n",
       "      <td>0.064676</td>\n",
       "      <td>0.012557</td>\n",
       "      <td>0.009621</td>\n",
       "      <td>False</td>\n",
       "      <td>False</td>\n",
       "    </tr>\n",
       "  </tbody>\n",
       "</table>\n",
       "</div>"
      ],
      "text/plain": [
       "  Unnamed: 0     Z_YPD      Z_Na    Z_NaCa  pvalues (Na vs NaCa)  \\\n",
       "0    YAL001C -0.737584 -1.594022 -1.650956              0.234157   \n",
       "1    YAL004W  0.909522  0.331849  0.905389              0.042300   \n",
       "2    YAL005C  0.520592 -0.295495  0.176687              0.635032   \n",
       "3    YAL008W  0.239820 -0.000081 -0.719041              0.005399   \n",
       "4    YAL011W -0.268009 -1.036829 -0.987850              0.030444   \n",
       "\n",
       "   pvalues (YPD vs Na)  pvalues  (YPD vs NaCa)  qvalues (Na vs NaCa)  \\\n",
       "0             0.122482                0.008652              0.280664   \n",
       "1             0.004469                0.096406              0.076285   \n",
       "2             0.000547                0.013318              0.672872   \n",
       "3             0.138748                0.004811              0.032359   \n",
       "4             0.001502                0.001955              0.064676   \n",
       "\n",
       "   qvalues  (YPD vs Na)  qvalues  (YPD vs NaCa)  Fig.5C Fig.5F  \n",
       "0              0.183893                0.022852   False  False  \n",
       "1              0.023961                0.132750   False  False  \n",
       "2              0.007504                0.030611   False  False  \n",
       "3              0.201184                0.015871   False  False  \n",
       "4              0.012557                0.009621   False  False  "
      ]
     },
     "execution_count": 28,
     "metadata": {},
     "output_type": "execute_result"
    }
   ],
   "source": [
    "original_data.head()"
   ]
  },
  {
   "cell_type": "code",
   "execution_count": 29,
   "metadata": {},
   "outputs": [],
   "source": [
    "original_data['orf'] = original_data['Unnamed: 0'].astype(str)"
   ]
  },
  {
   "cell_type": "code",
   "execution_count": 30,
   "metadata": {},
   "outputs": [],
   "source": [
    "# Eliminate all white spaces & capitalize\n",
    "original_data['orf'] = clean_orf(original_data['orf'])"
   ]
  },
  {
   "cell_type": "code",
   "execution_count": 31,
   "metadata": {},
   "outputs": [],
   "source": [
    "# Translate to ORFs \n",
    "original_data['orf'] = translate_sc(original_data['orf'], to='orf')"
   ]
  },
  {
   "cell_type": "code",
   "execution_count": 32,
   "metadata": {},
   "outputs": [
    {
     "name": "stdout",
     "output_type": "stream",
     "text": [
      "Empty DataFrame\n",
      "Columns: [Unnamed: 0, Z_YPD, Z_Na, Z_NaCa, pvalues (Na vs NaCa), pvalues (YPD vs Na), pvalues  (YPD vs NaCa), qvalues (Na vs NaCa), qvalues  (YPD vs Na), qvalues  (YPD vs NaCa), Fig.5C, Fig.5F, orf]\n",
      "Index: []\n"
     ]
    }
   ],
   "source": [
    "# Make sure everything translated ok\n",
    "t = looks_like_orf(original_data['orf'])\n",
    "print(original_data.loc[~t,])"
   ]
  },
  {
   "cell_type": "code",
   "execution_count": 33,
   "metadata": {},
   "outputs": [],
   "source": [
    "original_data = original_data[['orf','Z_YPD','Z_Na','Z_NaCa']]"
   ]
  },
  {
   "cell_type": "code",
   "execution_count": 34,
   "metadata": {},
   "outputs": [],
   "source": [
    "original_data.set_index('orf', inplace=True)"
   ]
  },
  {
   "cell_type": "code",
   "execution_count": 35,
   "metadata": {},
   "outputs": [],
   "source": [
    "original_data['Z_Na_YPD'] = original_data['Z_Na'] - original_data['Z_YPD']\n",
    "original_data['Z_NaCa_YPD'] = original_data['Z_NaCa'] - original_data['Z_YPD']"
   ]
  },
  {
   "cell_type": "code",
   "execution_count": 36,
   "metadata": {},
   "outputs": [],
   "source": [
    "original_data = original_data.groupby(original_data.index).mean()"
   ]
  },
  {
   "cell_type": "code",
   "execution_count": 37,
   "metadata": {},
   "outputs": [
    {
     "data": {
      "text/plain": [
       "(4200, 5)"
      ]
     },
     "execution_count": 37,
     "metadata": {},
     "output_type": "execute_result"
    }
   ],
   "source": [
    "original_data.shape"
   ]
  },
  {
   "cell_type": "code",
   "execution_count": 39,
   "metadata": {},
   "outputs": [],
   "source": [
    "original_data = original_data[['Z_YPD','Z_Na_YPD','Z_NaCa_YPD']]"
   ]
  },
  {
   "cell_type": "markdown",
   "metadata": {},
   "source": [
    "# Prepare the final dataset"
   ]
  },
  {
   "cell_type": "code",
   "execution_count": 40,
   "metadata": {},
   "outputs": [],
   "source": [
    "data = original_data.copy()"
   ]
  },
  {
   "cell_type": "code",
   "execution_count": 41,
   "metadata": {},
   "outputs": [],
   "source": [
    "dataset_ids = [22249,22250,22251]\n",
    "datasets = datasets.reindex(index=dataset_ids)"
   ]
  },
  {
   "cell_type": "code",
   "execution_count": 42,
   "metadata": {},
   "outputs": [],
   "source": [
    "lst = [datasets.index.values, ['value']*datasets.shape[0]]\n",
    "tuples = list(zip(*lst))\n",
    "idx = pd.MultiIndex.from_tuples(tuples, names=['dataset_id','data_type'])\n",
    "data.columns = idx"
   ]
  },
  {
   "cell_type": "code",
   "execution_count": 43,
   "metadata": {},
   "outputs": [
    {
     "data": {
      "text/html": [
       "<div>\n",
       "<style scoped>\n",
       "    .dataframe tbody tr th:only-of-type {\n",
       "        vertical-align: middle;\n",
       "    }\n",
       "\n",
       "    .dataframe tbody tr th {\n",
       "        vertical-align: top;\n",
       "    }\n",
       "\n",
       "    .dataframe thead tr th {\n",
       "        text-align: left;\n",
       "    }\n",
       "\n",
       "    .dataframe thead tr:last-of-type th {\n",
       "        text-align: right;\n",
       "    }\n",
       "</style>\n",
       "<table border=\"1\" class=\"dataframe\">\n",
       "  <thead>\n",
       "    <tr>\n",
       "      <th>dataset_id</th>\n",
       "      <th>22249</th>\n",
       "      <th>22250</th>\n",
       "      <th>22251</th>\n",
       "    </tr>\n",
       "    <tr>\n",
       "      <th>data_type</th>\n",
       "      <th>value</th>\n",
       "      <th>value</th>\n",
       "      <th>value</th>\n",
       "    </tr>\n",
       "    <tr>\n",
       "      <th>orf</th>\n",
       "      <th></th>\n",
       "      <th></th>\n",
       "      <th></th>\n",
       "    </tr>\n",
       "  </thead>\n",
       "  <tbody>\n",
       "    <tr>\n",
       "      <th>YAL001C</th>\n",
       "      <td>-0.737584</td>\n",
       "      <td>-0.856438</td>\n",
       "      <td>-0.913372</td>\n",
       "    </tr>\n",
       "    <tr>\n",
       "      <th>YAL004W</th>\n",
       "      <td>0.909522</td>\n",
       "      <td>-0.577673</td>\n",
       "      <td>-0.004133</td>\n",
       "    </tr>\n",
       "    <tr>\n",
       "      <th>YAL005C</th>\n",
       "      <td>0.520592</td>\n",
       "      <td>-0.816086</td>\n",
       "      <td>-0.343904</td>\n",
       "    </tr>\n",
       "    <tr>\n",
       "      <th>YAL008W</th>\n",
       "      <td>0.239820</td>\n",
       "      <td>-0.239902</td>\n",
       "      <td>-0.958861</td>\n",
       "    </tr>\n",
       "    <tr>\n",
       "      <th>YAL011W</th>\n",
       "      <td>-0.268009</td>\n",
       "      <td>-0.768820</td>\n",
       "      <td>-0.719841</td>\n",
       "    </tr>\n",
       "  </tbody>\n",
       "</table>\n",
       "</div>"
      ],
      "text/plain": [
       "dataset_id     22249     22250     22251\n",
       "data_type      value     value     value\n",
       "orf                                     \n",
       "YAL001C    -0.737584 -0.856438 -0.913372\n",
       "YAL004W     0.909522 -0.577673 -0.004133\n",
       "YAL005C     0.520592 -0.816086 -0.343904\n",
       "YAL008W     0.239820 -0.239902 -0.958861\n",
       "YAL011W    -0.268009 -0.768820 -0.719841"
      ]
     },
     "execution_count": 43,
     "metadata": {},
     "output_type": "execute_result"
    }
   ],
   "source": [
    "data.head()"
   ]
  },
  {
   "cell_type": "markdown",
   "metadata": {},
   "source": [
    "## Subset to the genes currently in SGD"
   ]
  },
  {
   "cell_type": "code",
   "execution_count": 44,
   "metadata": {},
   "outputs": [
    {
     "name": "stdout",
     "output_type": "stream",
     "text": [
      "ORFs missing from SGD: 20\n"
     ]
    }
   ],
   "source": [
    "genes = pd.read_csv(path_to_genes, sep='\\t', index_col='id')\n",
    "genes = genes.reset_index().set_index('systematic_name')\n",
    "gene_ids = genes.reindex(index=data.index.values)['id'].values\n",
    "num_missing = np.sum(np.isnan(gene_ids))\n",
    "print('ORFs missing from SGD: %d' % num_missing)"
   ]
  },
  {
   "cell_type": "code",
   "execution_count": 45,
   "metadata": {},
   "outputs": [
    {
     "data": {
      "text/html": [
       "<div>\n",
       "<style scoped>\n",
       "    .dataframe tbody tr th:only-of-type {\n",
       "        vertical-align: middle;\n",
       "    }\n",
       "\n",
       "    .dataframe tbody tr th {\n",
       "        vertical-align: top;\n",
       "    }\n",
       "\n",
       "    .dataframe thead tr th {\n",
       "        text-align: left;\n",
       "    }\n",
       "\n",
       "    .dataframe thead tr:last-of-type th {\n",
       "        text-align: right;\n",
       "    }\n",
       "</style>\n",
       "<table border=\"1\" class=\"dataframe\">\n",
       "  <thead>\n",
       "    <tr>\n",
       "      <th></th>\n",
       "      <th>dataset_id</th>\n",
       "      <th>22249</th>\n",
       "      <th>22250</th>\n",
       "      <th>22251</th>\n",
       "    </tr>\n",
       "    <tr>\n",
       "      <th></th>\n",
       "      <th>data_type</th>\n",
       "      <th>value</th>\n",
       "      <th>value</th>\n",
       "      <th>value</th>\n",
       "    </tr>\n",
       "    <tr>\n",
       "      <th>gene_id</th>\n",
       "      <th>orf</th>\n",
       "      <th></th>\n",
       "      <th></th>\n",
       "      <th></th>\n",
       "    </tr>\n",
       "  </thead>\n",
       "  <tbody>\n",
       "    <tr>\n",
       "      <th>1</th>\n",
       "      <th>YAL001C</th>\n",
       "      <td>-0.737584</td>\n",
       "      <td>-0.856438</td>\n",
       "      <td>-0.913372</td>\n",
       "    </tr>\n",
       "    <tr>\n",
       "      <th>1863</th>\n",
       "      <th>YAL004W</th>\n",
       "      <td>0.909522</td>\n",
       "      <td>-0.577673</td>\n",
       "      <td>-0.004133</td>\n",
       "    </tr>\n",
       "    <tr>\n",
       "      <th>4</th>\n",
       "      <th>YAL005C</th>\n",
       "      <td>0.520592</td>\n",
       "      <td>-0.816086</td>\n",
       "      <td>-0.343904</td>\n",
       "    </tr>\n",
       "    <tr>\n",
       "      <th>6</th>\n",
       "      <th>YAL008W</th>\n",
       "      <td>0.239820</td>\n",
       "      <td>-0.239902</td>\n",
       "      <td>-0.958861</td>\n",
       "    </tr>\n",
       "    <tr>\n",
       "      <th>9</th>\n",
       "      <th>YAL011W</th>\n",
       "      <td>-0.268009</td>\n",
       "      <td>-0.768820</td>\n",
       "      <td>-0.719841</td>\n",
       "    </tr>\n",
       "  </tbody>\n",
       "</table>\n",
       "</div>"
      ],
      "text/plain": [
       "dataset_id          22249     22250     22251\n",
       "data_type           value     value     value\n",
       "gene_id orf                                  \n",
       "1       YAL001C -0.737584 -0.856438 -0.913372\n",
       "1863    YAL004W  0.909522 -0.577673 -0.004133\n",
       "4       YAL005C  0.520592 -0.816086 -0.343904\n",
       "6       YAL008W  0.239820 -0.239902 -0.958861\n",
       "9       YAL011W -0.268009 -0.768820 -0.719841"
      ]
     },
     "execution_count": 45,
     "metadata": {},
     "output_type": "execute_result"
    }
   ],
   "source": [
    "data['gene_id'] = gene_ids\n",
    "data = data.loc[data['gene_id'].notnull()]\n",
    "data['gene_id'] = data['gene_id'].astype(int)\n",
    "data = data.reset_index().set_index(['gene_id','orf'])\n",
    "\n",
    "data.head()"
   ]
  },
  {
   "cell_type": "markdown",
   "metadata": {},
   "source": [
    "# Normalize"
   ]
  },
  {
   "cell_type": "code",
   "execution_count": 46,
   "metadata": {},
   "outputs": [],
   "source": [
    "data_norm = normalize_phenotypic_scores(data, has_tested=True)"
   ]
  },
  {
   "cell_type": "code",
   "execution_count": 47,
   "metadata": {},
   "outputs": [],
   "source": [
    "# Assign proper column names\n",
    "lst = [datasets.index.values, ['valuez']*datasets.shape[0]]\n",
    "tuples = list(zip(*lst))\n",
    "idx = pd.MultiIndex.from_tuples(tuples, names=['dataset_id','data_type'])\n",
    "data_norm.columns = idx"
   ]
  },
  {
   "cell_type": "code",
   "execution_count": 48,
   "metadata": {},
   "outputs": [
    {
     "data": {
      "text/html": [
       "<div>\n",
       "<style scoped>\n",
       "    .dataframe tbody tr th:only-of-type {\n",
       "        vertical-align: middle;\n",
       "    }\n",
       "\n",
       "    .dataframe tbody tr th {\n",
       "        vertical-align: top;\n",
       "    }\n",
       "\n",
       "    .dataframe thead tr th {\n",
       "        text-align: left;\n",
       "    }\n",
       "\n",
       "    .dataframe thead tr:last-of-type th {\n",
       "        text-align: right;\n",
       "    }\n",
       "</style>\n",
       "<table border=\"1\" class=\"dataframe\">\n",
       "  <thead>\n",
       "    <tr>\n",
       "      <th></th>\n",
       "      <th>dataset_id</th>\n",
       "      <th>22249</th>\n",
       "      <th>22250</th>\n",
       "      <th>22251</th>\n",
       "      <th>22249</th>\n",
       "      <th>22250</th>\n",
       "      <th>22251</th>\n",
       "    </tr>\n",
       "    <tr>\n",
       "      <th></th>\n",
       "      <th>data_type</th>\n",
       "      <th>value</th>\n",
       "      <th>value</th>\n",
       "      <th>value</th>\n",
       "      <th>valuez</th>\n",
       "      <th>valuez</th>\n",
       "      <th>valuez</th>\n",
       "    </tr>\n",
       "    <tr>\n",
       "      <th>gene_id</th>\n",
       "      <th>orf</th>\n",
       "      <th></th>\n",
       "      <th></th>\n",
       "      <th></th>\n",
       "      <th></th>\n",
       "      <th></th>\n",
       "      <th></th>\n",
       "    </tr>\n",
       "  </thead>\n",
       "  <tbody>\n",
       "    <tr>\n",
       "      <th>1</th>\n",
       "      <th>YAL001C</th>\n",
       "      <td>-0.737584</td>\n",
       "      <td>-0.856438</td>\n",
       "      <td>-0.913372</td>\n",
       "      <td>-0.958677</td>\n",
       "      <td>-0.495179</td>\n",
       "      <td>-1.433517</td>\n",
       "    </tr>\n",
       "    <tr>\n",
       "      <th>1863</th>\n",
       "      <th>YAL004W</th>\n",
       "      <td>0.909522</td>\n",
       "      <td>-0.577673</td>\n",
       "      <td>-0.004133</td>\n",
       "      <td>0.639026</td>\n",
       "      <td>-0.248104</td>\n",
       "      <td>-0.284936</td>\n",
       "    </tr>\n",
       "    <tr>\n",
       "      <th>4</th>\n",
       "      <th>YAL005C</th>\n",
       "      <td>0.520592</td>\n",
       "      <td>-0.816086</td>\n",
       "      <td>-0.343904</td>\n",
       "      <td>0.261761</td>\n",
       "      <td>-0.459415</td>\n",
       "      <td>-0.714146</td>\n",
       "    </tr>\n",
       "    <tr>\n",
       "      <th>6</th>\n",
       "      <th>YAL008W</th>\n",
       "      <td>0.239820</td>\n",
       "      <td>-0.239902</td>\n",
       "      <td>-0.958861</td>\n",
       "      <td>-0.010589</td>\n",
       "      <td>0.051270</td>\n",
       "      <td>-1.490980</td>\n",
       "    </tr>\n",
       "    <tr>\n",
       "      <th>9</th>\n",
       "      <th>YAL011W</th>\n",
       "      <td>-0.268009</td>\n",
       "      <td>-0.768820</td>\n",
       "      <td>-0.719841</td>\n",
       "      <td>-0.503186</td>\n",
       "      <td>-0.417522</td>\n",
       "      <td>-1.189042</td>\n",
       "    </tr>\n",
       "  </tbody>\n",
       "</table>\n",
       "</div>"
      ],
      "text/plain": [
       "dataset_id          22249     22250     22251     22249     22250     22251\n",
       "data_type           value     value     value    valuez    valuez    valuez\n",
       "gene_id orf                                                                \n",
       "1       YAL001C -0.737584 -0.856438 -0.913372 -0.958677 -0.495179 -1.433517\n",
       "1863    YAL004W  0.909522 -0.577673 -0.004133  0.639026 -0.248104 -0.284936\n",
       "4       YAL005C  0.520592 -0.816086 -0.343904  0.261761 -0.459415 -0.714146\n",
       "6       YAL008W  0.239820 -0.239902 -0.958861 -0.010589  0.051270 -1.490980\n",
       "9       YAL011W -0.268009 -0.768820 -0.719841 -0.503186 -0.417522 -1.189042"
      ]
     },
     "execution_count": 48,
     "metadata": {},
     "output_type": "execute_result"
    }
   ],
   "source": [
    "data_norm[data.isnull()] = np.nan\n",
    "data_all = data.join(data_norm)\n",
    "\n",
    "data_all.head()"
   ]
  },
  {
   "cell_type": "markdown",
   "metadata": {},
   "source": [
    "# Print out"
   ]
  },
  {
   "cell_type": "code",
   "execution_count": 49,
   "metadata": {},
   "outputs": [],
   "source": [
    "for f in ['value','valuez']:\n",
    "    df = data_all.xs(f, level='data_type', axis=1).copy()\n",
    "    df.columns = datasets['name'].values\n",
    "    df = df.droplevel('gene_id', axis=0)\n",
    "    df.to_csv(paper_name + '_' + f + '.txt', sep='\\t')"
   ]
  },
  {
   "cell_type": "code",
   "execution_count": null,
   "metadata": {},
   "outputs": [],
   "source": []
  }
 ],
 "metadata": {
  "kernelspec": {
   "display_name": "yp-data",
   "language": "python",
   "name": "yp-data"
  },
  "language_info": {
   "codemirror_mode": {
    "name": "ipython",
    "version": 3
   },
   "file_extension": ".py",
   "mimetype": "text/x-python",
   "name": "python",
   "nbconvert_exporter": "python",
   "pygments_lexer": "ipython3",
   "version": "3.7.7"
  }
 },
 "nbformat": 4,
 "nbformat_minor": 4
}
