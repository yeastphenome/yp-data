{
 "cells": [
  {
   "cell_type": "code",
   "execution_count": 1,
   "metadata": {},
   "outputs": [],
   "source": [
    "%run ../yp_utils.py"
   ]
  },
  {
   "cell_type": "markdown",
   "metadata": {},
   "source": [
    "# Initial setup"
   ]
  },
  {
   "cell_type": "code",
   "execution_count": 2,
   "metadata": {},
   "outputs": [],
   "source": [
    "paper_pmid = 24273168\n",
    "paper_name = 'ruggles_sturley_2014' "
   ]
  },
  {
   "cell_type": "code",
   "execution_count": 3,
   "metadata": {},
   "outputs": [],
   "source": [
    "datasets = pd.read_csv('extras/YeastPhenome_' + str(paper_pmid) + '_datasets_list.txt', sep='\\t', header=None, names=['dataset_id', 'name'])"
   ]
  },
  {
   "cell_type": "code",
   "execution_count": 4,
   "metadata": {},
   "outputs": [],
   "source": [
    "datasets.set_index('dataset_id', inplace=True)"
   ]
  },
  {
   "cell_type": "markdown",
   "metadata": {},
   "source": [
    "# Load & process the data"
   ]
  },
  {
   "cell_type": "code",
   "execution_count": 11,
   "metadata": {},
   "outputs": [],
   "source": [
    "original_data = pd.read_excel('raw_data/jbc.M113.515197-2.xlsx', sheet_name='Table S1A', skiprows=2)"
   ]
  },
  {
   "cell_type": "code",
   "execution_count": 12,
   "metadata": {},
   "outputs": [
    {
     "name": "stdout",
     "output_type": "stream",
     "text": [
      "Original data dimensions: 152 x 21\n"
     ]
    }
   ],
   "source": [
    "print('Original data dimensions: %d x %d' % (original_data.shape))"
   ]
  },
  {
   "cell_type": "code",
   "execution_count": 13,
   "metadata": {},
   "outputs": [
    {
     "data": {
      "text/html": [
       "<div>\n",
       "<style scoped>\n",
       "    .dataframe tbody tr th:only-of-type {\n",
       "        vertical-align: middle;\n",
       "    }\n",
       "\n",
       "    .dataframe tbody tr th {\n",
       "        vertical-align: top;\n",
       "    }\n",
       "\n",
       "    .dataframe thead th {\n",
       "        text-align: right;\n",
       "    }\n",
       "</style>\n",
       "<table border=\"1\" class=\"dataframe\">\n",
       "  <thead>\n",
       "    <tr style=\"text-align: right;\">\n",
       "      <th></th>\n",
       "      <th>Unnamed: 0</th>\n",
       "      <th>Rank</th>\n",
       "      <th>Yeast Gene</th>\n",
       "      <th>ORF</th>\n",
       "      <th>Rate</th>\n",
       "      <th>time</th>\n",
       "      <th>OD</th>\n",
       "      <th>Rate.1</th>\n",
       "      <th>Time</th>\n",
       "      <th>OD.1</th>\n",
       "      <th>...</th>\n",
       "      <th>Calculated Ratio</th>\n",
       "      <th>p-value</th>\n",
       "      <th>Gene Function</th>\n",
       "      <th>GO PROCESS</th>\n",
       "      <th>Complex</th>\n",
       "      <th>Human Ortholog (Sequence Identity)</th>\n",
       "      <th>human orthologous function</th>\n",
       "      <th>Altered UPRE reporter levels (Jonikas, 2009)</th>\n",
       "      <th>Previous LD screens</th>\n",
       "      <th>YPO screens</th>\n",
       "    </tr>\n",
       "  </thead>\n",
       "  <tbody>\n",
       "    <tr>\n",
       "      <th>0</th>\n",
       "      <td>NaN</td>\n",
       "      <td>1</td>\n",
       "      <td>ARV1</td>\n",
       "      <td>YLR242C</td>\n",
       "      <td>10.102732</td>\n",
       "      <td>31.0001</td>\n",
       "      <td>5.973771</td>\n",
       "      <td>0.1074</td>\n",
       "      <td>0.0012</td>\n",
       "      <td>0.0025</td>\n",
       "      <td>...</td>\n",
       "      <td>-1.969573</td>\n",
       "      <td>2.570400e-03</td>\n",
       "      <td>Protein functioning in transport of glycosylph...</td>\n",
       "      <td>LIPID METABOLISM</td>\n",
       "      <td>NaN</td>\n",
       "      <td>ARV1</td>\n",
       "      <td>ARV1 ortholog, restores defective sterol uptak...</td>\n",
       "      <td>4.042453</td>\n",
       "      <td>Increased (Fei, 2008)</td>\n",
       "      <td>NaN</td>\n",
       "    </tr>\n",
       "    <tr>\n",
       "      <th>1</th>\n",
       "      <td>NaN</td>\n",
       "      <td>2</td>\n",
       "      <td>VMA1</td>\n",
       "      <td>YDL185W</td>\n",
       "      <td>5.735593</td>\n",
       "      <td>11.9994</td>\n",
       "      <td>4.277698</td>\n",
       "      <td>0.0113</td>\n",
       "      <td>0.0001</td>\n",
       "      <td>0.0293</td>\n",
       "      <td>...</td>\n",
       "      <td>-4.787492</td>\n",
       "      <td>1.483480e-14</td>\n",
       "      <td>Subunit A of the eight-subunit V1 peripheral m...</td>\n",
       "      <td>DNA METABOLISM, CELLULAR HOMEOSTASIS</td>\n",
       "      <td>H+-transporting ATPase, Vacuolar</td>\n",
       "      <td>ATP6V1A (37.8%)</td>\n",
       "      <td>ATPase H+ transporting lysosomal subunit A1, a...</td>\n",
       "      <td>NaN</td>\n",
       "      <td>Decreased (Fei, 2008)    Larger (Szymanski, 20...</td>\n",
       "      <td>NaN</td>\n",
       "    </tr>\n",
       "    <tr>\n",
       "      <th>2</th>\n",
       "      <td>NaN</td>\n",
       "      <td>3</td>\n",
       "      <td>IES6</td>\n",
       "      <td>YEL044W</td>\n",
       "      <td>5.927361</td>\n",
       "      <td>7.0017</td>\n",
       "      <td>3.598350</td>\n",
       "      <td>0.0217</td>\n",
       "      <td>0.0704</td>\n",
       "      <td>0.0439</td>\n",
       "      <td>...</td>\n",
       "      <td>-2.995732</td>\n",
       "      <td>2.393600e-06</td>\n",
       "      <td>Protein that associates with the INO80 chromat...</td>\n",
       "      <td>UNKNOWN</td>\n",
       "      <td>Ino80 complex</td>\n",
       "      <td>NaN</td>\n",
       "      <td>NaN</td>\n",
       "      <td>NaN</td>\n",
       "      <td>NaN</td>\n",
       "      <td>NaN</td>\n",
       "    </tr>\n",
       "    <tr>\n",
       "      <th>3</th>\n",
       "      <td>NaN</td>\n",
       "      <td>4</td>\n",
       "      <td>ARO1</td>\n",
       "      <td>YDR127W</td>\n",
       "      <td>5.080243</td>\n",
       "      <td>19.0002</td>\n",
       "      <td>3.461699</td>\n",
       "      <td>0.0602</td>\n",
       "      <td>0.0002</td>\n",
       "      <td>0.0708</td>\n",
       "      <td>...</td>\n",
       "      <td>-3.465169</td>\n",
       "      <td>3.893000e-08</td>\n",
       "      <td>Pentafunctional arom protein, catalyzes steps ...</td>\n",
       "      <td>AMINO ACID METABOLISM</td>\n",
       "      <td>NaN</td>\n",
       "      <td>NaN</td>\n",
       "      <td>NaN</td>\n",
       "      <td>1.126595</td>\n",
       "      <td>NaN</td>\n",
       "      <td>NaN</td>\n",
       "    </tr>\n",
       "    <tr>\n",
       "      <th>4</th>\n",
       "      <td>NaN</td>\n",
       "      <td>5</td>\n",
       "      <td>VPS69</td>\n",
       "      <td>YPR087W</td>\n",
       "      <td>5.152941</td>\n",
       "      <td>8.0012</td>\n",
       "      <td>3.383636</td>\n",
       "      <td>0.1858</td>\n",
       "      <td>0.1048</td>\n",
       "      <td>0.0435</td>\n",
       "      <td>...</td>\n",
       "      <td>-1.837296</td>\n",
       "      <td>5.181600e-03</td>\n",
       "      <td>Dubious open reading frame, unlikely to encode...</td>\n",
       "      <td>TRANSPORT PEROXISOME ORGANIZATION</td>\n",
       "      <td>NaN</td>\n",
       "      <td>NaN</td>\n",
       "      <td>NaN</td>\n",
       "      <td>NaN</td>\n",
       "      <td>Increased (Fei, 2008)</td>\n",
       "      <td>OA Sensitive (Lockshon, 2007) OA Sensitive (Sm...</td>\n",
       "    </tr>\n",
       "  </tbody>\n",
       "</table>\n",
       "<p>5 rows × 21 columns</p>\n",
       "</div>"
      ],
      "text/plain": [
       "   Unnamed: 0  Rank Yeast Gene       ORF       Rate     time        OD  \\\n",
       "0         NaN     1        ARV1  YLR242C  10.102732  31.0001  5.973771   \n",
       "1         NaN     2        VMA1  YDL185W   5.735593  11.9994  4.277698   \n",
       "2         NaN     3        IES6  YEL044W   5.927361   7.0017  3.598350   \n",
       "3         NaN     4        ARO1  YDR127W   5.080243  19.0002  3.461699   \n",
       "4         NaN     5       VPS69  YPR087W   5.152941   8.0012  3.383636   \n",
       "\n",
       "   Rate.1    Time    OD.1  ...  Calculated Ratio       p-value   \\\n",
       "0  0.1074  0.0012  0.0025  ...          -1.969573  2.570400e-03   \n",
       "1  0.0113  0.0001  0.0293  ...          -4.787492  1.483480e-14   \n",
       "2  0.0217  0.0704  0.0439  ...          -2.995732  2.393600e-06   \n",
       "3  0.0602  0.0002  0.0708  ...          -3.465169  3.893000e-08   \n",
       "4  0.1858  0.1048  0.0435  ...          -1.837296  5.181600e-03   \n",
       "\n",
       "                                      Gene Function   \\\n",
       "0  Protein functioning in transport of glycosylph...   \n",
       "1  Subunit A of the eight-subunit V1 peripheral m...   \n",
       "2  Protein that associates with the INO80 chromat...   \n",
       "3  Pentafunctional arom protein, catalyzes steps ...   \n",
       "4  Dubious open reading frame, unlikely to encode...   \n",
       "\n",
       "                             GO PROCESS                            Complex  \\\n",
       "0                      LIPID METABOLISM                                NaN   \n",
       "1  DNA METABOLISM, CELLULAR HOMEOSTASIS   H+-transporting ATPase, Vacuolar   \n",
       "2                               UNKNOWN                      Ino80 complex   \n",
       "3                 AMINO ACID METABOLISM                                NaN   \n",
       "4     TRANSPORT PEROXISOME ORGANIZATION                                NaN   \n",
       "\n",
       "  Human Ortholog (Sequence Identity)  \\\n",
       "0                              ARV1    \n",
       "1                    ATP6V1A (37.8%)   \n",
       "2                                NaN   \n",
       "3                                NaN   \n",
       "4                                NaN   \n",
       "\n",
       "                          human orthologous function  \\\n",
       "0  ARV1 ortholog, restores defective sterol uptak...   \n",
       "1  ATPase H+ transporting lysosomal subunit A1, a...   \n",
       "2                                                NaN   \n",
       "3                                                NaN   \n",
       "4                                                NaN   \n",
       "\n",
       "  Altered UPRE reporter levels (Jonikas, 2009)  \\\n",
       "0                                     4.042453   \n",
       "1                                          NaN   \n",
       "2                                          NaN   \n",
       "3                                     1.126595   \n",
       "4                                          NaN   \n",
       "\n",
       "                                 Previous LD screens  \\\n",
       "0                              Increased (Fei, 2008)   \n",
       "1  Decreased (Fei, 2008)    Larger (Szymanski, 20...   \n",
       "2                                                NaN   \n",
       "3                                                NaN   \n",
       "4                             Increased (Fei, 2008)    \n",
       "\n",
       "                                        YPO screens   \n",
       "0                                                NaN  \n",
       "1                                                NaN  \n",
       "2                                                NaN  \n",
       "3                                                NaN  \n",
       "4  OA Sensitive (Lockshon, 2007) OA Sensitive (Sm...  \n",
       "\n",
       "[5 rows x 21 columns]"
      ]
     },
     "execution_count": 13,
     "metadata": {},
     "output_type": "execute_result"
    }
   ],
   "source": [
    "original_data.head()"
   ]
  },
  {
   "cell_type": "code",
   "execution_count": 14,
   "metadata": {},
   "outputs": [],
   "source": [
    "original_data['orf'] = original_data['ORF'].astype(str)"
   ]
  },
  {
   "cell_type": "code",
   "execution_count": 15,
   "metadata": {},
   "outputs": [],
   "source": [
    "# Eliminate all white spaces & capitalize\n",
    "original_data['orf'] = clean_orf(original_data['orf'])"
   ]
  },
  {
   "cell_type": "code",
   "execution_count": 16,
   "metadata": {},
   "outputs": [],
   "source": [
    "# Translate to ORFs \n",
    "original_data['orf'] = translate_sc(original_data['orf'], to='orf')"
   ]
  },
  {
   "cell_type": "code",
   "execution_count": 17,
   "metadata": {},
   "outputs": [
    {
     "name": "stdout",
     "output_type": "stream",
     "text": [
      "Empty DataFrame\n",
      "Columns: [Unnamed: 0, Rank, Yeast Gene , ORF, Rate, time, OD, Rate.1, Time, OD.1, Toxicity score, Calculated Ratio , p-value , Gene Function , GO PROCESS, Complex, Human Ortholog (Sequence Identity), human orthologous function, Altered UPRE reporter levels (Jonikas, 2009), Previous LD screens, YPO screens , orf]\n",
      "Index: []\n",
      "\n",
      "[0 rows x 22 columns]\n"
     ]
    }
   ],
   "source": [
    "# Make sure everything translated ok\n",
    "t = looks_like_orf(original_data['orf'])\n",
    "print(original_data.loc[~t,])"
   ]
  },
  {
   "cell_type": "code",
   "execution_count": 18,
   "metadata": {},
   "outputs": [],
   "source": [
    "original_data['data'] = original_data['Calculated Ratio ']"
   ]
  },
  {
   "cell_type": "code",
   "execution_count": 19,
   "metadata": {},
   "outputs": [],
   "source": [
    "original_data.set_index('orf', inplace=True)"
   ]
  },
  {
   "cell_type": "code",
   "execution_count": 20,
   "metadata": {},
   "outputs": [],
   "source": [
    "original_data = original_data[['data']].copy()"
   ]
  },
  {
   "cell_type": "code",
   "execution_count": 21,
   "metadata": {},
   "outputs": [],
   "source": [
    "original_data = original_data.groupby(original_data.index).mean()"
   ]
  },
  {
   "cell_type": "code",
   "execution_count": 22,
   "metadata": {},
   "outputs": [
    {
     "data": {
      "text/plain": [
       "(152, 1)"
      ]
     },
     "execution_count": 22,
     "metadata": {},
     "output_type": "execute_result"
    }
   ],
   "source": [
    "original_data.shape"
   ]
  },
  {
   "cell_type": "markdown",
   "metadata": {},
   "source": [
    "# Prepare the final dataset"
   ]
  },
  {
   "cell_type": "code",
   "execution_count": 23,
   "metadata": {},
   "outputs": [],
   "source": [
    "data = original_data.copy()"
   ]
  },
  {
   "cell_type": "code",
   "execution_count": 24,
   "metadata": {},
   "outputs": [],
   "source": [
    "dataset_ids = [15989]\n",
    "datasets = datasets.reindex(index=dataset_ids)"
   ]
  },
  {
   "cell_type": "code",
   "execution_count": 25,
   "metadata": {},
   "outputs": [],
   "source": [
    "lst = [datasets.index.values, ['value']*datasets.shape[0]]\n",
    "tuples = list(zip(*lst))\n",
    "idx = pd.MultiIndex.from_tuples(tuples, names=['dataset_id','data_type'])\n",
    "data.columns = idx"
   ]
  },
  {
   "cell_type": "code",
   "execution_count": 26,
   "metadata": {},
   "outputs": [
    {
     "data": {
      "text/html": [
       "<div>\n",
       "<style scoped>\n",
       "    .dataframe tbody tr th:only-of-type {\n",
       "        vertical-align: middle;\n",
       "    }\n",
       "\n",
       "    .dataframe tbody tr th {\n",
       "        vertical-align: top;\n",
       "    }\n",
       "\n",
       "    .dataframe thead tr th {\n",
       "        text-align: left;\n",
       "    }\n",
       "\n",
       "    .dataframe thead tr:last-of-type th {\n",
       "        text-align: right;\n",
       "    }\n",
       "</style>\n",
       "<table border=\"1\" class=\"dataframe\">\n",
       "  <thead>\n",
       "    <tr>\n",
       "      <th>dataset_id</th>\n",
       "      <th>15989</th>\n",
       "    </tr>\n",
       "    <tr>\n",
       "      <th>data_type</th>\n",
       "      <th>value</th>\n",
       "    </tr>\n",
       "    <tr>\n",
       "      <th>orf</th>\n",
       "      <th></th>\n",
       "    </tr>\n",
       "  </thead>\n",
       "  <tbody>\n",
       "    <tr>\n",
       "      <th>YAL013W</th>\n",
       "      <td>-0.992019</td>\n",
       "    </tr>\n",
       "    <tr>\n",
       "      <th>YBL002W</th>\n",
       "      <td>-1.977412</td>\n",
       "    </tr>\n",
       "    <tr>\n",
       "      <th>YBL006C</th>\n",
       "      <td>-3.179322</td>\n",
       "    </tr>\n",
       "    <tr>\n",
       "      <th>YBL021C</th>\n",
       "      <td>-1.958689</td>\n",
       "    </tr>\n",
       "    <tr>\n",
       "      <th>YBL094C</th>\n",
       "      <td>-2.053961</td>\n",
       "    </tr>\n",
       "  </tbody>\n",
       "</table>\n",
       "</div>"
      ],
      "text/plain": [
       "dataset_id     15989\n",
       "data_type      value\n",
       "orf                 \n",
       "YAL013W    -0.992019\n",
       "YBL002W    -1.977412\n",
       "YBL006C    -3.179322\n",
       "YBL021C    -1.958689\n",
       "YBL094C    -2.053961"
      ]
     },
     "execution_count": 26,
     "metadata": {},
     "output_type": "execute_result"
    }
   ],
   "source": [
    "data.head()"
   ]
  },
  {
   "cell_type": "markdown",
   "metadata": {},
   "source": [
    "## Subset to the genes currently in SGD"
   ]
  },
  {
   "cell_type": "code",
   "execution_count": 27,
   "metadata": {},
   "outputs": [
    {
     "name": "stdout",
     "output_type": "stream",
     "text": [
      "ORFs missing from SGD: 0\n"
     ]
    }
   ],
   "source": [
    "genes = pd.read_csv(path_to_genes, sep='\\t', index_col='id')\n",
    "genes = genes.reset_index().set_index('systematic_name')\n",
    "gene_ids = genes.reindex(index=data.index.values)['id'].values\n",
    "num_missing = np.sum(np.isnan(gene_ids))\n",
    "print('ORFs missing from SGD: %d' % num_missing)"
   ]
  },
  {
   "cell_type": "code",
   "execution_count": 28,
   "metadata": {},
   "outputs": [
    {
     "data": {
      "text/html": [
       "<div>\n",
       "<style scoped>\n",
       "    .dataframe tbody tr th:only-of-type {\n",
       "        vertical-align: middle;\n",
       "    }\n",
       "\n",
       "    .dataframe tbody tr th {\n",
       "        vertical-align: top;\n",
       "    }\n",
       "\n",
       "    .dataframe thead tr th {\n",
       "        text-align: left;\n",
       "    }\n",
       "\n",
       "    .dataframe thead tr:last-of-type th {\n",
       "        text-align: right;\n",
       "    }\n",
       "</style>\n",
       "<table border=\"1\" class=\"dataframe\">\n",
       "  <thead>\n",
       "    <tr>\n",
       "      <th></th>\n",
       "      <th>dataset_id</th>\n",
       "      <th>15989</th>\n",
       "    </tr>\n",
       "    <tr>\n",
       "      <th></th>\n",
       "      <th>data_type</th>\n",
       "      <th>value</th>\n",
       "    </tr>\n",
       "    <tr>\n",
       "      <th>gene_id</th>\n",
       "      <th>orf</th>\n",
       "      <th></th>\n",
       "    </tr>\n",
       "  </thead>\n",
       "  <tbody>\n",
       "    <tr>\n",
       "      <th>11</th>\n",
       "      <th>YAL013W</th>\n",
       "      <td>-0.992019</td>\n",
       "    </tr>\n",
       "    <tr>\n",
       "      <th>90</th>\n",
       "      <th>YBL002W</th>\n",
       "      <td>-1.977412</td>\n",
       "    </tr>\n",
       "    <tr>\n",
       "      <th>94</th>\n",
       "      <th>YBL006C</th>\n",
       "      <td>-3.179322</td>\n",
       "    </tr>\n",
       "    <tr>\n",
       "      <th>109</th>\n",
       "      <th>YBL021C</th>\n",
       "      <td>-1.958689</td>\n",
       "    </tr>\n",
       "    <tr>\n",
       "      <th>182</th>\n",
       "      <th>YBL094C</th>\n",
       "      <td>-2.053961</td>\n",
       "    </tr>\n",
       "  </tbody>\n",
       "</table>\n",
       "</div>"
      ],
      "text/plain": [
       "dataset_id          15989\n",
       "data_type           value\n",
       "gene_id orf              \n",
       "11      YAL013W -0.992019\n",
       "90      YBL002W -1.977412\n",
       "94      YBL006C -3.179322\n",
       "109     YBL021C -1.958689\n",
       "182     YBL094C -2.053961"
      ]
     },
     "execution_count": 28,
     "metadata": {},
     "output_type": "execute_result"
    }
   ],
   "source": [
    "data['gene_id'] = gene_ids\n",
    "data = data.loc[data['gene_id'].notnull()]\n",
    "data['gene_id'] = data['gene_id'].astype(int)\n",
    "data = data.reset_index().set_index(['gene_id','orf'])\n",
    "\n",
    "data.head()"
   ]
  },
  {
   "cell_type": "markdown",
   "metadata": {},
   "source": [
    "# Normalize"
   ]
  },
  {
   "cell_type": "code",
   "execution_count": 29,
   "metadata": {},
   "outputs": [],
   "source": [
    "data_norm = normalize_phenotypic_scores(data, has_tested=False)"
   ]
  },
  {
   "cell_type": "code",
   "execution_count": 30,
   "metadata": {},
   "outputs": [],
   "source": [
    "# Assign proper column names\n",
    "lst = [datasets.index.values, ['valuez']*datasets.shape[0]]\n",
    "tuples = list(zip(*lst))\n",
    "idx = pd.MultiIndex.from_tuples(tuples, names=['dataset_id','data_type'])\n",
    "data_norm.columns = idx"
   ]
  },
  {
   "cell_type": "code",
   "execution_count": 31,
   "metadata": {},
   "outputs": [
    {
     "data": {
      "text/html": [
       "<div>\n",
       "<style scoped>\n",
       "    .dataframe tbody tr th:only-of-type {\n",
       "        vertical-align: middle;\n",
       "    }\n",
       "\n",
       "    .dataframe tbody tr th {\n",
       "        vertical-align: top;\n",
       "    }\n",
       "\n",
       "    .dataframe thead tr th {\n",
       "        text-align: left;\n",
       "    }\n",
       "\n",
       "    .dataframe thead tr:last-of-type th {\n",
       "        text-align: right;\n",
       "    }\n",
       "</style>\n",
       "<table border=\"1\" class=\"dataframe\">\n",
       "  <thead>\n",
       "    <tr>\n",
       "      <th></th>\n",
       "      <th>dataset_id</th>\n",
       "      <th colspan=\"2\" halign=\"left\">15989</th>\n",
       "    </tr>\n",
       "    <tr>\n",
       "      <th></th>\n",
       "      <th>data_type</th>\n",
       "      <th>value</th>\n",
       "      <th>valuez</th>\n",
       "    </tr>\n",
       "    <tr>\n",
       "      <th>gene_id</th>\n",
       "      <th>orf</th>\n",
       "      <th></th>\n",
       "      <th></th>\n",
       "    </tr>\n",
       "  </thead>\n",
       "  <tbody>\n",
       "    <tr>\n",
       "      <th>11</th>\n",
       "      <th>YAL013W</th>\n",
       "      <td>-0.992019</td>\n",
       "      <td>-2.096690</td>\n",
       "    </tr>\n",
       "    <tr>\n",
       "      <th>90</th>\n",
       "      <th>YBL002W</th>\n",
       "      <td>-1.977412</td>\n",
       "      <td>-4.127962</td>\n",
       "    </tr>\n",
       "    <tr>\n",
       "      <th>94</th>\n",
       "      <th>YBL006C</th>\n",
       "      <td>-3.179322</td>\n",
       "      <td>-6.605558</td>\n",
       "    </tr>\n",
       "    <tr>\n",
       "      <th>109</th>\n",
       "      <th>YBL021C</th>\n",
       "      <td>-1.958689</td>\n",
       "      <td>-4.089366</td>\n",
       "    </tr>\n",
       "    <tr>\n",
       "      <th>182</th>\n",
       "      <th>YBL094C</th>\n",
       "      <td>-2.053961</td>\n",
       "      <td>-4.285760</td>\n",
       "    </tr>\n",
       "  </tbody>\n",
       "</table>\n",
       "</div>"
      ],
      "text/plain": [
       "dataset_id          15989          \n",
       "data_type           value    valuez\n",
       "gene_id orf                        \n",
       "11      YAL013W -0.992019 -2.096690\n",
       "90      YBL002W -1.977412 -4.127962\n",
       "94      YBL006C -3.179322 -6.605558\n",
       "109     YBL021C -1.958689 -4.089366\n",
       "182     YBL094C -2.053961 -4.285760"
      ]
     },
     "execution_count": 31,
     "metadata": {},
     "output_type": "execute_result"
    }
   ],
   "source": [
    "data_norm[data.isnull()] = np.nan\n",
    "data_all = data.join(data_norm)\n",
    "\n",
    "data_all.head()"
   ]
  },
  {
   "cell_type": "markdown",
   "metadata": {},
   "source": [
    "# Print out"
   ]
  },
  {
   "cell_type": "code",
   "execution_count": 32,
   "metadata": {},
   "outputs": [],
   "source": [
    "for f in ['value','valuez']:\n",
    "    df = data_all.xs(f, level='data_type', axis=1).copy()\n",
    "    df.columns = datasets['name'].values\n",
    "    df = df.droplevel('gene_id', axis=0)\n",
    "    df.to_csv(paper_name + '_' + f + '.txt', sep='\\t')"
   ]
  },
  {
   "cell_type": "markdown",
   "metadata": {},
   "source": [
    "# Save to DB"
   ]
  },
  {
   "cell_type": "code",
   "execution_count": 33,
   "metadata": {},
   "outputs": [],
   "source": [
    "from IO.save_data_to_db3 import *"
   ]
  },
  {
   "cell_type": "code",
   "execution_count": 34,
   "metadata": {},
   "outputs": [
    {
     "name": "stderr",
     "output_type": "stream",
     "text": [
      "  0%|          | 0/1 [00:00<?, ?it/s]"
     ]
    },
    {
     "name": "stdout",
     "output_type": "stream",
     "text": [
      "Deleting all datasets for PMID 24273168...\n",
      "Inserting the new data...\n"
     ]
    },
    {
     "name": "stderr",
     "output_type": "stream",
     "text": [
      "100%|██████████| 1/1 [00:00<00:00,  2.41it/s]"
     ]
    },
    {
     "name": "stdout",
     "output_type": "stream",
     "text": [
      "Updating the data_modified_on field...\n"
     ]
    },
    {
     "name": "stderr",
     "output_type": "stream",
     "text": [
      "\n"
     ]
    }
   ],
   "source": [
    "save_data_to_db(data_all, paper_pmid)"
   ]
  },
  {
   "cell_type": "code",
   "execution_count": null,
   "metadata": {},
   "outputs": [],
   "source": []
  }
 ],
 "metadata": {
  "kernelspec": {
   "display_name": "yp-data",
   "language": "python",
   "name": "yp-data"
  },
  "language_info": {
   "codemirror_mode": {
    "name": "ipython",
    "version": 3
   },
   "file_extension": ".py",
   "mimetype": "text/x-python",
   "name": "python",
   "nbconvert_exporter": "python",
   "pygments_lexer": "ipython3",
   "version": "3.7.7"
  }
 },
 "nbformat": 4,
 "nbformat_minor": 4
}
