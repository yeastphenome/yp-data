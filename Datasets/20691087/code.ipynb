{
 "cells": [
  {
   "cell_type": "code",
   "execution_count": 1,
   "metadata": {},
   "outputs": [],
   "source": [
    "%run ../yp_utils.py"
   ]
  },
  {
   "cell_type": "markdown",
   "metadata": {},
   "source": [
    "# Initial setup"
   ]
  },
  {
   "cell_type": "code",
   "execution_count": 2,
   "metadata": {},
   "outputs": [],
   "source": [
    "paper_pmid = 20691087\n",
    "paper_name = 'alamgir_golshani_2010' "
   ]
  },
  {
   "cell_type": "code",
   "execution_count": 3,
   "metadata": {},
   "outputs": [],
   "source": [
    "datasets = pd.read_csv('extras/YeastPhenome_' + str(paper_pmid) + '_datasets_list.txt', sep='\\t', header=None, names=['dataset_id', 'name'])"
   ]
  },
  {
   "cell_type": "code",
   "execution_count": 4,
   "metadata": {},
   "outputs": [],
   "source": [
    "datasets.set_index('dataset_id', inplace=True)"
   ]
  },
  {
   "cell_type": "markdown",
   "metadata": {},
   "source": [
    "# Load & process the data"
   ]
  },
  {
   "cell_type": "code",
   "execution_count": 26,
   "metadata": {},
   "outputs": [],
   "source": [
    "original_data = pd.read_excel('raw_data/1472-6769-10-6-s1.xlsx', sheet_name='Raw genome-wide data', skiprows=1)"
   ]
  },
  {
   "cell_type": "code",
   "execution_count": 27,
   "metadata": {},
   "outputs": [
    {
     "name": "stdout",
     "output_type": "stream",
     "text": [
      "Original data dimensions: 6097 x 14\n"
     ]
    }
   ],
   "source": [
    "print('Original data dimensions: %d x %d' % (original_data.shape))"
   ]
  },
  {
   "cell_type": "code",
   "execution_count": 28,
   "metadata": {},
   "outputs": [
    {
     "data": {
      "text/html": [
       "<div>\n",
       "<style scoped>\n",
       "    .dataframe tbody tr th:only-of-type {\n",
       "        vertical-align: middle;\n",
       "    }\n",
       "\n",
       "    .dataframe tbody tr th {\n",
       "        vertical-align: top;\n",
       "    }\n",
       "\n",
       "    .dataframe thead th {\n",
       "        text-align: right;\n",
       "    }\n",
       "</style>\n",
       "<table border=\"1\" class=\"dataframe\">\n",
       "  <thead>\n",
       "    <tr style=\"text-align: right;\">\n",
       "      <th></th>\n",
       "      <th>Systematic Name</th>\n",
       "      <th>Standard Name</th>\n",
       "      <th>3-AT</th>\n",
       "      <th>Unnamed: 3</th>\n",
       "      <th>Unnamed: 4</th>\n",
       "      <th>Cycloheximide</th>\n",
       "      <th>Unnamed: 6</th>\n",
       "      <th>Unnamed: 7</th>\n",
       "      <th>Streptomycin</th>\n",
       "      <th>Unnamed: 9</th>\n",
       "      <th>Unnamed: 10</th>\n",
       "      <th>Neomycin</th>\n",
       "      <th>Unnamed: 12</th>\n",
       "      <th>Unnamed: 13</th>\n",
       "    </tr>\n",
       "  </thead>\n",
       "  <tbody>\n",
       "    <tr>\n",
       "      <th>0</th>\n",
       "      <td>YDR161W</td>\n",
       "      <td>TCI1</td>\n",
       "      <td>18.100000</td>\n",
       "      <td>-37.5520</td>\n",
       "      <td>48.809291</td>\n",
       "      <td>-24.8350</td>\n",
       "      <td>-7.9355</td>\n",
       "      <td>-111.2900</td>\n",
       "      <td>-14.990633</td>\n",
       "      <td>59.157762</td>\n",
       "      <td>70.395611</td>\n",
       "      <td>18.373604</td>\n",
       "      <td>56.480779</td>\n",
       "      <td>37.427191</td>\n",
       "    </tr>\n",
       "    <tr>\n",
       "      <th>1</th>\n",
       "      <td>YCR017C</td>\n",
       "      <td>YCR017C</td>\n",
       "      <td>-6.286000</td>\n",
       "      <td>-29.3660</td>\n",
       "      <td>23.623414</td>\n",
       "      <td>-25.6110</td>\n",
       "      <td>15.2710</td>\n",
       "      <td>-8.4096</td>\n",
       "      <td>-27.312799</td>\n",
       "      <td>33.190599</td>\n",
       "      <td>28.895269</td>\n",
       "      <td>12.526707</td>\n",
       "      <td>49.755869</td>\n",
       "      <td>31.141288</td>\n",
       "    </tr>\n",
       "    <tr>\n",
       "      <th>2</th>\n",
       "      <td>YDR162C</td>\n",
       "      <td>NBP2</td>\n",
       "      <td>6.634200</td>\n",
       "      <td>-1.5312</td>\n",
       "      <td>23.493208</td>\n",
       "      <td>-11.6950</td>\n",
       "      <td>2.4591</td>\n",
       "      <td>6.2857</td>\n",
       "      <td>-40.302128</td>\n",
       "      <td>36.033953</td>\n",
       "      <td>32.921972</td>\n",
       "      <td>-8.874513</td>\n",
       "      <td>-7.113722</td>\n",
       "      <td>-7.994117</td>\n",
       "    </tr>\n",
       "    <tr>\n",
       "      <th>3</th>\n",
       "      <td>YCR019W</td>\n",
       "      <td>MAK32</td>\n",
       "      <td>-0.045249</td>\n",
       "      <td>38.1010</td>\n",
       "      <td>2.979396</td>\n",
       "      <td>-26.0190</td>\n",
       "      <td>5.3746</td>\n",
       "      <td>20.4870</td>\n",
       "      <td>-20.738572</td>\n",
       "      <td>3.551175</td>\n",
       "      <td>29.330686</td>\n",
       "      <td>22.069155</td>\n",
       "      <td>18.693827</td>\n",
       "      <td>20.381491</td>\n",
       "    </tr>\n",
       "    <tr>\n",
       "      <th>4</th>\n",
       "      <td>YDR163W</td>\n",
       "      <td>YDR163W</td>\n",
       "      <td>11.377000</td>\n",
       "      <td>38.2060</td>\n",
       "      <td>38.920663</td>\n",
       "      <td>-1.0957</td>\n",
       "      <td>13.3930</td>\n",
       "      <td>46.4100</td>\n",
       "      <td>-30.165870</td>\n",
       "      <td>82.581561</td>\n",
       "      <td>51.215577</td>\n",
       "      <td>-10.904799</td>\n",
       "      <td>-42.271084</td>\n",
       "      <td>-26.587941</td>\n",
       "    </tr>\n",
       "  </tbody>\n",
       "</table>\n",
       "</div>"
      ],
      "text/plain": [
       "  Systematic Name Standard Name       3-AT  Unnamed: 3  Unnamed: 4  \\\n",
       "0         YDR161W          TCI1  18.100000    -37.5520   48.809291   \n",
       "1         YCR017C       YCR017C  -6.286000    -29.3660   23.623414   \n",
       "2         YDR162C          NBP2   6.634200     -1.5312   23.493208   \n",
       "3         YCR019W         MAK32  -0.045249     38.1010    2.979396   \n",
       "4         YDR163W       YDR163W  11.377000     38.2060   38.920663   \n",
       "\n",
       "   Cycloheximide  Unnamed: 6  Unnamed: 7  Streptomycin  Unnamed: 9  \\\n",
       "0       -24.8350     -7.9355   -111.2900    -14.990633   59.157762   \n",
       "1       -25.6110     15.2710     -8.4096    -27.312799   33.190599   \n",
       "2       -11.6950      2.4591      6.2857    -40.302128   36.033953   \n",
       "3       -26.0190      5.3746     20.4870    -20.738572    3.551175   \n",
       "4        -1.0957     13.3930     46.4100    -30.165870   82.581561   \n",
       "\n",
       "   Unnamed: 10   Neomycin  Unnamed: 12  Unnamed: 13  \n",
       "0    70.395611  18.373604    56.480779    37.427191  \n",
       "1    28.895269  12.526707    49.755869    31.141288  \n",
       "2    32.921972  -8.874513    -7.113722    -7.994117  \n",
       "3    29.330686  22.069155    18.693827    20.381491  \n",
       "4    51.215577 -10.904799   -42.271084   -26.587941  "
      ]
     },
     "execution_count": 28,
     "metadata": {},
     "output_type": "execute_result"
    }
   ],
   "source": [
    "original_data.head()"
   ]
  },
  {
   "cell_type": "code",
   "execution_count": 29,
   "metadata": {},
   "outputs": [],
   "source": [
    "original_data['orf'] = original_data['Systematic Name'].astype(str)"
   ]
  },
  {
   "cell_type": "code",
   "execution_count": 30,
   "metadata": {},
   "outputs": [],
   "source": [
    "# Eliminate all white spaces & capitalize\n",
    "original_data['orf'] = clean_orf(original_data['orf'])"
   ]
  },
  {
   "cell_type": "code",
   "execution_count": 31,
   "metadata": {},
   "outputs": [],
   "source": [
    "original_data.loc[original_data['orf']=='YPL072WA','orf'] = 'YPL072W-A'"
   ]
  },
  {
   "cell_type": "code",
   "execution_count": 32,
   "metadata": {},
   "outputs": [],
   "source": [
    "# Translate to ORFs \n",
    "original_data['orf'] = translate_sc(original_data['orf'], to='orf')"
   ]
  },
  {
   "cell_type": "code",
   "execution_count": 33,
   "metadata": {},
   "outputs": [
    {
     "name": "stdout",
     "output_type": "stream",
     "text": [
      "            Systematic Name Standard Name     3-AT  Unnamed: 3  Unnamed: 4  \\\n",
      "index_input                                                                  \n",
      "2716                    NaN           NaN   0.0000      0.0000         0.0   \n",
      "2718                    NaN           NaN   0.0000      0.0000         0.0   \n",
      "2720                    NaN           NaN   0.0000      0.0000         0.0   \n",
      "2722                    NaN           NaN   0.0000      0.0000         0.0   \n",
      "2724                    NaN           NaN   0.0000      0.0000         0.0   \n",
      "...                     ...           ...      ...         ...         ...   \n",
      "6068                    NaN           NaN  -5.2861      2.6002         NaN   \n",
      "6069                    NaN           NaN   0.0000      0.0000         NaN   \n",
      "6070                    NaN           NaN  -1.1848     13.0710         NaN   \n",
      "6071                    NaN           NaN   0.0000      0.0000         NaN   \n",
      "6072                    NaN           NaN -21.7830     30.2370         NaN   \n",
      "\n",
      "             Cycloheximide  Unnamed: 6  Unnamed: 7  Streptomycin  Unnamed: 9  \\\n",
      "index_input                                                                    \n",
      "2716                 0.000      0.0000      0.0000           0.0         0.0   \n",
      "2718                 0.000      0.0000      0.0000           0.0         0.0   \n",
      "2720                 0.000      0.0000      0.0000           0.0         0.0   \n",
      "2722                 0.000      0.0000      0.0000           0.0         0.0   \n",
      "2724                 0.000      0.0000      0.0000           0.0         0.0   \n",
      "...                    ...         ...         ...           ...         ...   \n",
      "6068                90.176      6.7654     -2.2238           NaN         NaN   \n",
      "6069                 0.000      0.0000      0.0000           NaN         NaN   \n",
      "6070               -11.093     -6.5112    -38.3380           NaN         NaN   \n",
      "6071                 0.000      0.0000      0.0000           NaN         NaN   \n",
      "6072                19.847      2.3308    -10.7730           NaN         NaN   \n",
      "\n",
      "             Unnamed: 10   Neomycin  Unnamed: 12  Unnamed: 13  orf  \n",
      "index_input                                                         \n",
      "2716            0.000000   0.000000     0.000000     0.000000  NAN  \n",
      "2718            0.000000   0.000000     0.000000     0.000000  NAN  \n",
      "2720            0.000000   0.000000     0.000000     0.000000  NAN  \n",
      "2722            0.000000   0.000000     0.000000     0.000000  NAN  \n",
      "2724            0.000000   0.000000     0.000000     0.000000  NAN  \n",
      "...                  ...        ...          ...          ...  ...  \n",
      "6068          -51.695289  10.075566    60.752777   -20.838999  NAN  \n",
      "6069           35.310589   0.000000     0.000000     0.000000  NAN  \n",
      "6070            0.000000 -33.349185    46.946901     4.341378  NAN  \n",
      "6071           43.575393   0.000000     0.000000     0.000000  NAN  \n",
      "6072          -40.968496   0.000000     0.000000    14.831011  NAN  \n",
      "\n",
      "[186 rows x 15 columns]\n"
     ]
    }
   ],
   "source": [
    "# Make sure everything translated ok\n",
    "t = looks_like_orf(original_data['orf'])\n",
    "print(original_data.loc[~t,])"
   ]
  },
  {
   "cell_type": "code",
   "execution_count": 34,
   "metadata": {},
   "outputs": [],
   "source": [
    "original_data = original_data.loc[t,:]"
   ]
  },
  {
   "cell_type": "code",
   "execution_count": 35,
   "metadata": {},
   "outputs": [],
   "source": [
    "original_data.set_index('orf', inplace=True)"
   ]
  },
  {
   "cell_type": "code",
   "execution_count": 36,
   "metadata": {},
   "outputs": [],
   "source": [
    "original_data = original_data.iloc[:,2:14]"
   ]
  },
  {
   "cell_type": "code",
   "execution_count": 37,
   "metadata": {},
   "outputs": [],
   "source": [
    "original_data = -original_data.apply(pd.to_numeric, axis=1, errors='coerce')"
   ]
  },
  {
   "cell_type": "code",
   "execution_count": 38,
   "metadata": {},
   "outputs": [],
   "source": [
    "original_data = original_data.groupby(original_data.index).mean()"
   ]
  },
  {
   "cell_type": "code",
   "execution_count": 39,
   "metadata": {},
   "outputs": [
    {
     "data": {
      "text/plain": [
       "(4645, 12)"
      ]
     },
     "execution_count": 39,
     "metadata": {},
     "output_type": "execute_result"
    }
   ],
   "source": [
    "original_data.shape"
   ]
  },
  {
   "cell_type": "code",
   "execution_count": 43,
   "metadata": {},
   "outputs": [],
   "source": [
    "original_data.columns = [9, 9, 9, 10, 10, 10, 7, 7, 7, 8, 8, 8]"
   ]
  },
  {
   "cell_type": "code",
   "execution_count": 44,
   "metadata": {},
   "outputs": [],
   "source": [
    "original_data = original_data.T\n",
    "original_data = original_data.groupby(original_data.index).mean()\n",
    "original_data = original_data.T"
   ]
  },
  {
   "cell_type": "code",
   "execution_count": 45,
   "metadata": {},
   "outputs": [
    {
     "data": {
      "text/html": [
       "<div>\n",
       "<style scoped>\n",
       "    .dataframe tbody tr th:only-of-type {\n",
       "        vertical-align: middle;\n",
       "    }\n",
       "\n",
       "    .dataframe tbody tr th {\n",
       "        vertical-align: top;\n",
       "    }\n",
       "\n",
       "    .dataframe thead th {\n",
       "        text-align: right;\n",
       "    }\n",
       "</style>\n",
       "<table border=\"1\" class=\"dataframe\">\n",
       "  <thead>\n",
       "    <tr style=\"text-align: right;\">\n",
       "      <th></th>\n",
       "      <th>7</th>\n",
       "      <th>8</th>\n",
       "      <th>9</th>\n",
       "      <th>10</th>\n",
       "    </tr>\n",
       "    <tr>\n",
       "      <th>orf</th>\n",
       "      <th></th>\n",
       "      <th></th>\n",
       "      <th></th>\n",
       "      <th></th>\n",
       "    </tr>\n",
       "  </thead>\n",
       "  <tbody>\n",
       "    <tr>\n",
       "      <th>YAL002W</th>\n",
       "      <td>0.361654</td>\n",
       "      <td>-10.430456</td>\n",
       "      <td>-3.522839</td>\n",
       "      <td>-5.113000</td>\n",
       "    </tr>\n",
       "    <tr>\n",
       "      <th>YAL004W</th>\n",
       "      <td>-3.009357</td>\n",
       "      <td>-6.797788</td>\n",
       "      <td>6.142922</td>\n",
       "      <td>-22.567633</td>\n",
       "    </tr>\n",
       "    <tr>\n",
       "      <th>YAL005C</th>\n",
       "      <td>-3.479459</td>\n",
       "      <td>-4.360418</td>\n",
       "      <td>-1.721913</td>\n",
       "      <td>4.844467</td>\n",
       "    </tr>\n",
       "    <tr>\n",
       "      <th>YAL007C</th>\n",
       "      <td>9.940971</td>\n",
       "      <td>5.861502</td>\n",
       "      <td>9.731506</td>\n",
       "      <td>2.763097</td>\n",
       "    </tr>\n",
       "    <tr>\n",
       "      <th>YAL008W</th>\n",
       "      <td>20.969247</td>\n",
       "      <td>2.199986</td>\n",
       "      <td>-8.984067</td>\n",
       "      <td>-18.213333</td>\n",
       "    </tr>\n",
       "  </tbody>\n",
       "</table>\n",
       "</div>"
      ],
      "text/plain": [
       "                7          8         9          10\n",
       "orf                                               \n",
       "YAL002W   0.361654 -10.430456 -3.522839  -5.113000\n",
       "YAL004W  -3.009357  -6.797788  6.142922 -22.567633\n",
       "YAL005C  -3.479459  -4.360418 -1.721913   4.844467\n",
       "YAL007C   9.940971   5.861502  9.731506   2.763097\n",
       "YAL008W  20.969247   2.199986 -8.984067 -18.213333"
      ]
     },
     "execution_count": 45,
     "metadata": {},
     "output_type": "execute_result"
    }
   ],
   "source": [
    "original_data.head()"
   ]
  },
  {
   "cell_type": "markdown",
   "metadata": {},
   "source": [
    "# Prepare the final dataset"
   ]
  },
  {
   "cell_type": "code",
   "execution_count": 46,
   "metadata": {},
   "outputs": [],
   "source": [
    "data = original_data.copy()"
   ]
  },
  {
   "cell_type": "code",
   "execution_count": 47,
   "metadata": {},
   "outputs": [],
   "source": [
    "dataset_ids = [7,8,9,10]\n",
    "datasets = datasets.reindex(index=dataset_ids)"
   ]
  },
  {
   "cell_type": "code",
   "execution_count": 48,
   "metadata": {},
   "outputs": [],
   "source": [
    "lst = [datasets.index.values, ['value']*datasets.shape[0]]\n",
    "tuples = list(zip(*lst))\n",
    "idx = pd.MultiIndex.from_tuples(tuples, names=['dataset_id','data_type'])\n",
    "data.columns = idx"
   ]
  },
  {
   "cell_type": "code",
   "execution_count": 49,
   "metadata": {},
   "outputs": [
    {
     "data": {
      "text/html": [
       "<div>\n",
       "<style scoped>\n",
       "    .dataframe tbody tr th:only-of-type {\n",
       "        vertical-align: middle;\n",
       "    }\n",
       "\n",
       "    .dataframe tbody tr th {\n",
       "        vertical-align: top;\n",
       "    }\n",
       "\n",
       "    .dataframe thead tr th {\n",
       "        text-align: left;\n",
       "    }\n",
       "\n",
       "    .dataframe thead tr:last-of-type th {\n",
       "        text-align: right;\n",
       "    }\n",
       "</style>\n",
       "<table border=\"1\" class=\"dataframe\">\n",
       "  <thead>\n",
       "    <tr>\n",
       "      <th>dataset_id</th>\n",
       "      <th>7</th>\n",
       "      <th>8</th>\n",
       "      <th>9</th>\n",
       "      <th>10</th>\n",
       "    </tr>\n",
       "    <tr>\n",
       "      <th>data_type</th>\n",
       "      <th>value</th>\n",
       "      <th>value</th>\n",
       "      <th>value</th>\n",
       "      <th>value</th>\n",
       "    </tr>\n",
       "    <tr>\n",
       "      <th>orf</th>\n",
       "      <th></th>\n",
       "      <th></th>\n",
       "      <th></th>\n",
       "      <th></th>\n",
       "    </tr>\n",
       "  </thead>\n",
       "  <tbody>\n",
       "    <tr>\n",
       "      <th>YAL002W</th>\n",
       "      <td>0.361654</td>\n",
       "      <td>-10.430456</td>\n",
       "      <td>-3.522839</td>\n",
       "      <td>-5.113000</td>\n",
       "    </tr>\n",
       "    <tr>\n",
       "      <th>YAL004W</th>\n",
       "      <td>-3.009357</td>\n",
       "      <td>-6.797788</td>\n",
       "      <td>6.142922</td>\n",
       "      <td>-22.567633</td>\n",
       "    </tr>\n",
       "    <tr>\n",
       "      <th>YAL005C</th>\n",
       "      <td>-3.479459</td>\n",
       "      <td>-4.360418</td>\n",
       "      <td>-1.721913</td>\n",
       "      <td>4.844467</td>\n",
       "    </tr>\n",
       "    <tr>\n",
       "      <th>YAL007C</th>\n",
       "      <td>9.940971</td>\n",
       "      <td>5.861502</td>\n",
       "      <td>9.731506</td>\n",
       "      <td>2.763097</td>\n",
       "    </tr>\n",
       "    <tr>\n",
       "      <th>YAL008W</th>\n",
       "      <td>20.969247</td>\n",
       "      <td>2.199986</td>\n",
       "      <td>-8.984067</td>\n",
       "      <td>-18.213333</td>\n",
       "    </tr>\n",
       "  </tbody>\n",
       "</table>\n",
       "</div>"
      ],
      "text/plain": [
       "dataset_id         7          8         9          10\n",
       "data_type       value      value     value      value\n",
       "orf                                                  \n",
       "YAL002W      0.361654 -10.430456 -3.522839  -5.113000\n",
       "YAL004W     -3.009357  -6.797788  6.142922 -22.567633\n",
       "YAL005C     -3.479459  -4.360418 -1.721913   4.844467\n",
       "YAL007C      9.940971   5.861502  9.731506   2.763097\n",
       "YAL008W     20.969247   2.199986 -8.984067 -18.213333"
      ]
     },
     "execution_count": 49,
     "metadata": {},
     "output_type": "execute_result"
    }
   ],
   "source": [
    "data.head()"
   ]
  },
  {
   "cell_type": "markdown",
   "metadata": {},
   "source": [
    "## Subset to the genes currently in SGD"
   ]
  },
  {
   "cell_type": "code",
   "execution_count": 50,
   "metadata": {},
   "outputs": [
    {
     "name": "stdout",
     "output_type": "stream",
     "text": [
      "ORFs missing from SGD: 22\n"
     ]
    }
   ],
   "source": [
    "genes = pd.read_csv(path_to_genes, sep='\\t', index_col='id')\n",
    "genes = genes.reset_index().set_index('systematic_name')\n",
    "gene_ids = genes.reindex(index=data.index.values)['id'].values\n",
    "num_missing = np.sum(np.isnan(gene_ids))\n",
    "print('ORFs missing from SGD: %d' % num_missing)"
   ]
  },
  {
   "cell_type": "code",
   "execution_count": 51,
   "metadata": {},
   "outputs": [
    {
     "data": {
      "text/html": [
       "<div>\n",
       "<style scoped>\n",
       "    .dataframe tbody tr th:only-of-type {\n",
       "        vertical-align: middle;\n",
       "    }\n",
       "\n",
       "    .dataframe tbody tr th {\n",
       "        vertical-align: top;\n",
       "    }\n",
       "\n",
       "    .dataframe thead tr th {\n",
       "        text-align: left;\n",
       "    }\n",
       "\n",
       "    .dataframe thead tr:last-of-type th {\n",
       "        text-align: right;\n",
       "    }\n",
       "</style>\n",
       "<table border=\"1\" class=\"dataframe\">\n",
       "  <thead>\n",
       "    <tr>\n",
       "      <th></th>\n",
       "      <th>dataset_id</th>\n",
       "      <th>7</th>\n",
       "      <th>8</th>\n",
       "      <th>9</th>\n",
       "      <th>10</th>\n",
       "    </tr>\n",
       "    <tr>\n",
       "      <th></th>\n",
       "      <th>data_type</th>\n",
       "      <th>value</th>\n",
       "      <th>value</th>\n",
       "      <th>value</th>\n",
       "      <th>value</th>\n",
       "    </tr>\n",
       "    <tr>\n",
       "      <th>gene_id</th>\n",
       "      <th>orf</th>\n",
       "      <th></th>\n",
       "      <th></th>\n",
       "      <th></th>\n",
       "      <th></th>\n",
       "    </tr>\n",
       "  </thead>\n",
       "  <tbody>\n",
       "    <tr>\n",
       "      <th>2</th>\n",
       "      <th>YAL002W</th>\n",
       "      <td>0.361654</td>\n",
       "      <td>-10.430456</td>\n",
       "      <td>-3.522839</td>\n",
       "      <td>-5.113000</td>\n",
       "    </tr>\n",
       "    <tr>\n",
       "      <th>1863</th>\n",
       "      <th>YAL004W</th>\n",
       "      <td>-3.009357</td>\n",
       "      <td>-6.797788</td>\n",
       "      <td>6.142922</td>\n",
       "      <td>-22.567633</td>\n",
       "    </tr>\n",
       "    <tr>\n",
       "      <th>4</th>\n",
       "      <th>YAL005C</th>\n",
       "      <td>-3.479459</td>\n",
       "      <td>-4.360418</td>\n",
       "      <td>-1.721913</td>\n",
       "      <td>4.844467</td>\n",
       "    </tr>\n",
       "    <tr>\n",
       "      <th>5</th>\n",
       "      <th>YAL007C</th>\n",
       "      <td>9.940971</td>\n",
       "      <td>5.861502</td>\n",
       "      <td>9.731506</td>\n",
       "      <td>2.763097</td>\n",
       "    </tr>\n",
       "    <tr>\n",
       "      <th>6</th>\n",
       "      <th>YAL008W</th>\n",
       "      <td>20.969247</td>\n",
       "      <td>2.199986</td>\n",
       "      <td>-8.984067</td>\n",
       "      <td>-18.213333</td>\n",
       "    </tr>\n",
       "  </tbody>\n",
       "</table>\n",
       "</div>"
      ],
      "text/plain": [
       "dataset_id              7          8         9          10\n",
       "data_type            value      value     value      value\n",
       "gene_id orf                                               \n",
       "2       YAL002W   0.361654 -10.430456 -3.522839  -5.113000\n",
       "1863    YAL004W  -3.009357  -6.797788  6.142922 -22.567633\n",
       "4       YAL005C  -3.479459  -4.360418 -1.721913   4.844467\n",
       "5       YAL007C   9.940971   5.861502  9.731506   2.763097\n",
       "6       YAL008W  20.969247   2.199986 -8.984067 -18.213333"
      ]
     },
     "execution_count": 51,
     "metadata": {},
     "output_type": "execute_result"
    }
   ],
   "source": [
    "data['gene_id'] = gene_ids\n",
    "data = data.loc[data['gene_id'].notnull()]\n",
    "data['gene_id'] = data['gene_id'].astype(int)\n",
    "data = data.reset_index().set_index(['gene_id','orf'])\n",
    "\n",
    "data.head()"
   ]
  },
  {
   "cell_type": "markdown",
   "metadata": {},
   "source": [
    "# Normalize"
   ]
  },
  {
   "cell_type": "code",
   "execution_count": 52,
   "metadata": {},
   "outputs": [],
   "source": [
    "data_norm = normalize_phenotypic_scores(data, has_tested=True)"
   ]
  },
  {
   "cell_type": "code",
   "execution_count": 53,
   "metadata": {},
   "outputs": [],
   "source": [
    "# Assign proper column names\n",
    "lst = [datasets.index.values, ['valuez']*datasets.shape[0]]\n",
    "tuples = list(zip(*lst))\n",
    "idx = pd.MultiIndex.from_tuples(tuples, names=['dataset_id','data_type'])\n",
    "data_norm.columns = idx"
   ]
  },
  {
   "cell_type": "code",
   "execution_count": 54,
   "metadata": {},
   "outputs": [
    {
     "data": {
      "text/html": [
       "<div>\n",
       "<style scoped>\n",
       "    .dataframe tbody tr th:only-of-type {\n",
       "        vertical-align: middle;\n",
       "    }\n",
       "\n",
       "    .dataframe tbody tr th {\n",
       "        vertical-align: top;\n",
       "    }\n",
       "\n",
       "    .dataframe thead tr th {\n",
       "        text-align: left;\n",
       "    }\n",
       "\n",
       "    .dataframe thead tr:last-of-type th {\n",
       "        text-align: right;\n",
       "    }\n",
       "</style>\n",
       "<table border=\"1\" class=\"dataframe\">\n",
       "  <thead>\n",
       "    <tr>\n",
       "      <th></th>\n",
       "      <th>dataset_id</th>\n",
       "      <th>7</th>\n",
       "      <th>8</th>\n",
       "      <th>9</th>\n",
       "      <th>10</th>\n",
       "      <th>7</th>\n",
       "      <th>8</th>\n",
       "      <th>9</th>\n",
       "      <th>10</th>\n",
       "    </tr>\n",
       "    <tr>\n",
       "      <th></th>\n",
       "      <th>data_type</th>\n",
       "      <th>value</th>\n",
       "      <th>value</th>\n",
       "      <th>value</th>\n",
       "      <th>value</th>\n",
       "      <th>valuez</th>\n",
       "      <th>valuez</th>\n",
       "      <th>valuez</th>\n",
       "      <th>valuez</th>\n",
       "    </tr>\n",
       "    <tr>\n",
       "      <th>gene_id</th>\n",
       "      <th>orf</th>\n",
       "      <th></th>\n",
       "      <th></th>\n",
       "      <th></th>\n",
       "      <th></th>\n",
       "      <th></th>\n",
       "      <th></th>\n",
       "      <th></th>\n",
       "      <th></th>\n",
       "    </tr>\n",
       "  </thead>\n",
       "  <tbody>\n",
       "    <tr>\n",
       "      <th>2</th>\n",
       "      <th>YAL002W</th>\n",
       "      <td>0.361654</td>\n",
       "      <td>-10.430456</td>\n",
       "      <td>-3.522839</td>\n",
       "      <td>-5.113000</td>\n",
       "      <td>0.021849</td>\n",
       "      <td>-0.640828</td>\n",
       "      <td>-0.244842</td>\n",
       "      <td>-0.290847</td>\n",
       "    </tr>\n",
       "    <tr>\n",
       "      <th>1863</th>\n",
       "      <th>YAL004W</th>\n",
       "      <td>-3.009357</td>\n",
       "      <td>-6.797788</td>\n",
       "      <td>6.142922</td>\n",
       "      <td>-22.567633</td>\n",
       "      <td>-0.204610</td>\n",
       "      <td>-0.412378</td>\n",
       "      <td>0.342729</td>\n",
       "      <td>-1.236119</td>\n",
       "    </tr>\n",
       "    <tr>\n",
       "      <th>4</th>\n",
       "      <th>YAL005C</th>\n",
       "      <td>-3.479459</td>\n",
       "      <td>-4.360418</td>\n",
       "      <td>-1.721913</td>\n",
       "      <td>4.844467</td>\n",
       "      <td>-0.236191</td>\n",
       "      <td>-0.259097</td>\n",
       "      <td>-0.135366</td>\n",
       "      <td>0.248408</td>\n",
       "    </tr>\n",
       "    <tr>\n",
       "      <th>5</th>\n",
       "      <th>YAL007C</th>\n",
       "      <td>9.940971</td>\n",
       "      <td>5.861502</td>\n",
       "      <td>9.731506</td>\n",
       "      <td>2.763097</td>\n",
       "      <td>0.665374</td>\n",
       "      <td>0.383737</td>\n",
       "      <td>0.560876</td>\n",
       "      <td>0.135690</td>\n",
       "    </tr>\n",
       "    <tr>\n",
       "      <th>6</th>\n",
       "      <th>YAL008W</th>\n",
       "      <td>20.969247</td>\n",
       "      <td>2.199986</td>\n",
       "      <td>-8.984067</td>\n",
       "      <td>-18.213333</td>\n",
       "      <td>1.406238</td>\n",
       "      <td>0.153472</td>\n",
       "      <td>-0.576825</td>\n",
       "      <td>-1.000308</td>\n",
       "    </tr>\n",
       "  </tbody>\n",
       "</table>\n",
       "</div>"
      ],
      "text/plain": [
       "dataset_id              7          8         9          10        7   \\\n",
       "data_type            value      value     value      value    valuez   \n",
       "gene_id orf                                                            \n",
       "2       YAL002W   0.361654 -10.430456 -3.522839  -5.113000  0.021849   \n",
       "1863    YAL004W  -3.009357  -6.797788  6.142922 -22.567633 -0.204610   \n",
       "4       YAL005C  -3.479459  -4.360418 -1.721913   4.844467 -0.236191   \n",
       "5       YAL007C   9.940971   5.861502  9.731506   2.763097  0.665374   \n",
       "6       YAL008W  20.969247   2.199986 -8.984067 -18.213333  1.406238   \n",
       "\n",
       "dataset_id             8         9         10  \n",
       "data_type          valuez    valuez    valuez  \n",
       "gene_id orf                                    \n",
       "2       YAL002W -0.640828 -0.244842 -0.290847  \n",
       "1863    YAL004W -0.412378  0.342729 -1.236119  \n",
       "4       YAL005C -0.259097 -0.135366  0.248408  \n",
       "5       YAL007C  0.383737  0.560876  0.135690  \n",
       "6       YAL008W  0.153472 -0.576825 -1.000308  "
      ]
     },
     "execution_count": 54,
     "metadata": {},
     "output_type": "execute_result"
    }
   ],
   "source": [
    "data_norm[data.isnull()] = np.nan\n",
    "data_all = data.join(data_norm)\n",
    "\n",
    "data_all.head()"
   ]
  },
  {
   "cell_type": "markdown",
   "metadata": {},
   "source": [
    "# Print out"
   ]
  },
  {
   "cell_type": "code",
   "execution_count": 55,
   "metadata": {},
   "outputs": [],
   "source": [
    "for f in ['value','valuez']:\n",
    "    df = data_all.xs(f, level='data_type', axis=1).copy()\n",
    "    df.columns = datasets['name'].values\n",
    "    df = df.droplevel('gene_id', axis=0)\n",
    "    df.to_csv(paper_name + '_' + f + '.txt', sep='\\t')"
   ]
  },
  {
   "cell_type": "markdown",
   "metadata": {},
   "source": [
    "# Save to DB"
   ]
  },
  {
   "cell_type": "code",
   "execution_count": 56,
   "metadata": {},
   "outputs": [],
   "source": [
    "from IO.save_data_to_db3 import *"
   ]
  },
  {
   "cell_type": "code",
   "execution_count": 57,
   "metadata": {},
   "outputs": [
    {
     "name": "stderr",
     "output_type": "stream",
     "text": [
      "  0%|          | 0/4 [00:00<?, ?it/s]"
     ]
    },
    {
     "name": "stdout",
     "output_type": "stream",
     "text": [
      "Deleting all datasets for PMID 20691087...\n",
      "Inserting the new data...\n"
     ]
    },
    {
     "name": "stderr",
     "output_type": "stream",
     "text": [
      "100%|██████████| 4/4 [00:29<00:00,  7.32s/it]"
     ]
    },
    {
     "name": "stdout",
     "output_type": "stream",
     "text": [
      "Updating the data_modified_on field...\n"
     ]
    },
    {
     "name": "stderr",
     "output_type": "stream",
     "text": [
      "\n"
     ]
    }
   ],
   "source": [
    "save_data_to_db(data_all, paper_pmid)"
   ]
  },
  {
   "cell_type": "code",
   "execution_count": null,
   "metadata": {},
   "outputs": [],
   "source": []
  }
 ],
 "metadata": {
  "kernelspec": {
   "display_name": "yp-data",
   "language": "python",
   "name": "yp-data"
  },
  "language_info": {
   "codemirror_mode": {
    "name": "ipython",
    "version": 3
   },
   "file_extension": ".py",
   "mimetype": "text/x-python",
   "name": "python",
   "nbconvert_exporter": "python",
   "pygments_lexer": "ipython3",
   "version": "3.7.7"
  }
 },
 "nbformat": 4,
 "nbformat_minor": 4
}
