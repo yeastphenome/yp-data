{
 "cells": [
  {
   "cell_type": "code",
   "execution_count": 1,
   "metadata": {},
   "outputs": [],
   "source": [
    "%run ../yp_utils.py"
   ]
  },
  {
   "cell_type": "markdown",
   "metadata": {},
   "source": [
    "# Initial setup"
   ]
  },
  {
   "cell_type": "code",
   "execution_count": 2,
   "metadata": {},
   "outputs": [],
   "source": [
    "paper_pmid = 24040173\n",
    "paper_name = 'novo_gonzalez_2013' "
   ]
  },
  {
   "cell_type": "code",
   "execution_count": 3,
   "metadata": {},
   "outputs": [],
   "source": [
    "datasets = pd.read_csv('extras/YeastPhenome_' + str(paper_pmid) + '_datasets_list.txt', sep='\\t', header=None, names=['dataset_id', 'name'])"
   ]
  },
  {
   "cell_type": "code",
   "execution_count": 4,
   "metadata": {},
   "outputs": [],
   "source": [
    "datasets.set_index('dataset_id', inplace=True)"
   ]
  },
  {
   "cell_type": "markdown",
   "metadata": {},
   "source": [
    "# Load & process the data"
   ]
  },
  {
   "cell_type": "code",
   "execution_count": 32,
   "metadata": {},
   "outputs": [],
   "source": [
    "files = ['Only original foldchanges/Direct comparison/Phase I/HOP_t0vsYPD10 (dir) PhI.xlsx',\n",
    "         'Only original foldchanges/Direct comparison/Phase I/HOP_t0vsMS10 (dir) PhI.xlsx',\n",
    "         'Only original foldchanges/Direct comparison/Phase II/HOP_t0vsYPD10 (dir) PhII.xlsx',\n",
    "         'Only original foldchanges/Direct comparison/Phase II/HOPt0vsHOP10 (dir) PhII.xlsx']\n",
    "\n",
    "sheets = ['HOPt0vsYPD10_t0','HOPt0vsMS10_t0','HOPt0vsYPD10_t0','HOPt0vsHOP10_out0']"
   ]
  },
  {
   "cell_type": "code",
   "execution_count": 33,
   "metadata": {},
   "outputs": [
    {
     "name": "stdout",
     "output_type": "stream",
     "text": [
      "Original data dimensions: 6431 x 9\n",
      "                               strain  Log2Ratio  p-value        gene  \\\n",
      "index_input                                                             \n",
      "5732                 YLL017W::chr12_1  -0.660960   0.85492    YLL017W   \n",
      "5742         YCL006C::chr3_1/chr00_12  -0.662117   0.90562  YCL006C_d   \n",
      "5878                 YOR031W::chr15_1  -0.702252   0.98758       CRS5   \n",
      "6084                  YAR037W::chr1_1  -0.781383   0.91388  YAR037W_d   \n",
      "6103                  YFL056C::chr6_1  -0.789630   0.88873       AAD6   \n",
      "6153                  YIL167W::chr9_2  -0.810263   0.89513       SDL1   \n",
      "6344                  YAR043C::chr1_1  -0.988869   0.95602  YAR043C_d   \n",
      "\n",
      "            essential_gene   feature_type  \\\n",
      "index_input                                 \n",
      "5732                    no            NaN   \n",
      "5742                    no   ORF::Deleted   \n",
      "5878                    no  ORF::Verified   \n",
      "6084                    no            NaN   \n",
      "6103                    no  ORF::Verified   \n",
      "6153                    no            NaN   \n",
      "6344                    no            NaN   \n",
      "\n",
      "                                      GO_process  \\\n",
      "index_input                                        \n",
      "5732             Ras protein signal transduction   \n",
      "5742                                         NaN   \n",
      "5878                       response to metal ion   \n",
      "6084                                         NaN   \n",
      "6103                         aldehyde metabolism   \n",
      "6153         serine family amino acid metabolism   \n",
      "6344                                         NaN   \n",
      "\n",
      "                                                GO_function  \\\n",
      "index_input                                                   \n",
      "5732         Ras guanyl-nucleotide exchange factor activity   \n",
      "5742                                                    NaN   \n",
      "5878                                     copper ion binding   \n",
      "6084                                                    NaN   \n",
      "6103                    aryl-alcohol dehydrogenase activity   \n",
      "6153                        L-serine ammonia-lyase activity   \n",
      "6344                                                    NaN   \n",
      "\n",
      "                           GO_component  orf  \n",
      "index_input                                   \n",
      "5732                           membrane  NaN  \n",
      "5742                                NaN  NaN  \n",
      "5878                          cytoplasm  NaN  \n",
      "6084                                NaN  NaN  \n",
      "6103         cellular component unknown  NaN  \n",
      "6153         cellular component unknown  NaN  \n",
      "6344                                NaN  NaN  \n",
      "(4778, 1)\n",
      "Original data dimensions: 6431 x 9\n",
      "                               strain  Log2Ratio  p-value        gene  \\\n",
      "index_input                                                             \n",
      "5160                  YIL167W::chr9_2  -0.491675   0.80779       SDL1   \n",
      "5197         YCL006C::chr3_1/chr00_12  -0.502625   0.85155  YCL006C_d   \n",
      "5403                YCL074W::chr00_12  -0.567152   0.90567    YCL074W   \n",
      "5522                 YLL017W::chr12_1  -0.613509   0.85158    YLL017W   \n",
      "5703                YCL075W::chr00_12  -0.684872   0.99395    YCL075W   \n",
      "5930                  YAR037W::chr1_1  -0.806874   0.91981  YAR037W_d   \n",
      "6018                  YFL056C::chr6_1  -0.870722   0.89846       AAD6   \n",
      "6091                  YAR043C::chr1_1  -0.944364   0.95408  YAR043C_d   \n",
      "\n",
      "            essential_gene   feature_type  \\\n",
      "index_input                                 \n",
      "5160                    no            NaN   \n",
      "5197                    no   ORF::Deleted   \n",
      "5403                    no            NaN   \n",
      "5522                    no            NaN   \n",
      "5703                    no            NaN   \n",
      "5930                    no            NaN   \n",
      "6018                    no  ORF::Verified   \n",
      "6091                    no            NaN   \n",
      "\n",
      "                                      GO_process  \\\n",
      "index_input                                        \n",
      "5160         serine family amino acid metabolism   \n",
      "5197                                         NaN   \n",
      "5403                    Ty element transposition   \n",
      "5522             Ras protein signal transduction   \n",
      "5703                    Ty element transposition   \n",
      "5930                                         NaN   \n",
      "6018                         aldehyde metabolism   \n",
      "6091                                         NaN   \n",
      "\n",
      "                                                GO_function  \\\n",
      "index_input                                                   \n",
      "5160                        L-serine ammonia-lyase activity   \n",
      "5197                                                    NaN   \n",
      "5403                                       protein binding*   \n",
      "5522         Ras guanyl-nucleotide exchange factor activity   \n",
      "5703                                       protein binding*   \n",
      "5930                                                    NaN   \n",
      "6018                    aryl-alcohol dehydrogenase activity   \n",
      "6091                                                    NaN   \n",
      "\n",
      "                             GO_component  orf  \n",
      "index_input                                     \n",
      "5160           cellular component unknown  NaN  \n",
      "5197                                  NaN  NaN  \n",
      "5403         retrotransposon nucleocapsid  NaN  \n",
      "5522                             membrane  NaN  \n",
      "5703         retrotransposon nucleocapsid  NaN  \n",
      "5930                                  NaN  NaN  \n",
      "6018           cellular component unknown  NaN  \n",
      "6091                                  NaN  NaN  \n",
      "(4777, 1)\n",
      "Original data dimensions: 6431 x 9\n",
      "                               strain  Log2Ratio  p-value        gene  \\\n",
      "index_input                                                             \n",
      "5732                 YLL017W::chr12_1  -0.660960   0.85492    YLL017W   \n",
      "5742         YCL006C::chr3_1/chr00_12  -0.662117   0.90562  YCL006C_d   \n",
      "5878                 YOR031W::chr15_1  -0.702252   0.98758       CRS5   \n",
      "6084                  YAR037W::chr1_1  -0.781383   0.91388  YAR037W_d   \n",
      "6103                  YFL056C::chr6_1  -0.789630   0.88873       AAD6   \n",
      "6153                  YIL167W::chr9_2  -0.810263   0.89513       SDL1   \n",
      "6344                  YAR043C::chr1_1  -0.988869   0.95602  YAR043C_d   \n",
      "\n",
      "            essential_gene   feature_type  \\\n",
      "index_input                                 \n",
      "5732                    no            NaN   \n",
      "5742                    no   ORF::Deleted   \n",
      "5878                    no  ORF::Verified   \n",
      "6084                    no            NaN   \n",
      "6103                    no  ORF::Verified   \n",
      "6153                    no            NaN   \n",
      "6344                    no            NaN   \n",
      "\n",
      "                                      GO_process  \\\n",
      "index_input                                        \n",
      "5732             Ras protein signal transduction   \n",
      "5742                                         NaN   \n",
      "5878                       response to metal ion   \n",
      "6084                                         NaN   \n",
      "6103                         aldehyde metabolism   \n",
      "6153         serine family amino acid metabolism   \n",
      "6344                                         NaN   \n",
      "\n",
      "                                                GO_function  \\\n",
      "index_input                                                   \n",
      "5732         Ras guanyl-nucleotide exchange factor activity   \n",
      "5742                                                    NaN   \n",
      "5878                                     copper ion binding   \n",
      "6084                                                    NaN   \n",
      "6103                    aryl-alcohol dehydrogenase activity   \n",
      "6153                        L-serine ammonia-lyase activity   \n",
      "6344                                                    NaN   \n",
      "\n",
      "                           GO_component  orf  \n",
      "index_input                                   \n",
      "5732                           membrane  NaN  \n",
      "5742                                NaN  NaN  \n",
      "5878                          cytoplasm  NaN  \n",
      "6084                                NaN  NaN  \n",
      "6103         cellular component unknown  NaN  \n",
      "6153         cellular component unknown  NaN  \n",
      "6344                                NaN  NaN  \n",
      "(4778, 1)\n",
      "Original data dimensions: 6431 x 10\n",
      "              strain       gene  Log2Ratio  p-value  essential_gene  \\\n",
      "index_input                                                           \n",
      "5074         YLL016W      SDC25  -0.390628   0.71896             no   \n",
      "5305         YCL006C  YCL006C_d  -0.445239   0.75344             no   \n",
      "5316         YOR031W       CRS5  -0.449834   0.88170             no   \n",
      "5362         YCL074W    YCL074W  -0.462998   0.99860             no   \n",
      "5537         YAR040C  YAR040C_d  -0.531131   0.96192             no   \n",
      "5576         YCL013W  YCL013W_d  -0.544453   0.85850             no   \n",
      "5684         YOL153C    YOL153C  -0.587308   0.90798             no   \n",
      "5736         YCL026C  YCL026C_d  -0.615043   0.78524             no   \n",
      "5854         YER109C       FLO8  -0.677991   0.93386             no   \n",
      "5939         YAR037W  YAR037W_d  -0.739437   0.94294             no   \n",
      "6179         YIL170W      HXT12  -1.001976   0.93404             no   \n",
      "\n",
      "              feature_type                       GO_process  \\\n",
      "index_input                                                   \n",
      "5074                   NaN  Ras protein signal transduction   \n",
      "5305          ORF::Deleted                              NaN   \n",
      "5316         ORF::Verified            response to metal ion   \n",
      "5362                   NaN         Ty element transposition   \n",
      "5537                   NaN                              NaN   \n",
      "5576          ORF::Deleted                              NaN   \n",
      "5684                   NaN       biological process unknown   \n",
      "5736          ORF::Deleted                              NaN   \n",
      "5854         ORF::Verified             pseudohyphal growth*   \n",
      "5939                   NaN                              NaN   \n",
      "6179                   NaN      biological process unknown*   \n",
      "\n",
      "                                                   GO_function  \\\n",
      "index_input                                                      \n",
      "5074            Ras guanyl-nucleotide exchange factor activity   \n",
      "5305                                                       NaN   \n",
      "5316                                        copper ion binding   \n",
      "5362                                          protein binding*   \n",
      "5537                                                       NaN   \n",
      "5576                                                       NaN   \n",
      "5684                                molecular function unknown   \n",
      "5736                                                       NaN   \n",
      "5854         specific RNA polymerase II transcription facto...   \n",
      "5939                                                       NaN   \n",
      "6179                               molecular function unknown*   \n",
      "\n",
      "                             GO_component  notes  orf  \n",
      "index_input                                            \n",
      "5074           cellular component unknown    NaN  NaN  \n",
      "5305                                  NaN    NaN  NaN  \n",
      "5316                            cytoplasm    NaN  NaN  \n",
      "5362         retrotransposon nucleocapsid    NaN  NaN  \n",
      "5537                                  NaN    NaN  NaN  \n",
      "5576                                  NaN    NaN  NaN  \n",
      "5684           cellular component unknown    NaN  NaN  \n",
      "5736                                  NaN    NaN  NaN  \n",
      "5854                           cytoplasm*    NaN  NaN  \n",
      "5939                                  NaN    NaN  NaN  \n",
      "6179           cellular component unknown    NaN  NaN  \n",
      "(4776, 1)\n"
     ]
    }
   ],
   "source": [
    "original_data_list = []\n",
    "for ixf, f in enumerate(files):\n",
    "    original_data = pd.read_excel('raw_data/' + f, sheet_name=sheets[ixf])\n",
    "    print('Original data dimensions: %d x %d' % (original_data.shape))\n",
    "    \n",
    "    original_data = original_data.loc[original_data['essential_gene']=='no',:]\n",
    "    \n",
    "    original_data['orf'] = original_data['strain'].apply(lambda x: x.split(':')[0])\n",
    "    original_data['orf'] = clean_orf(original_data['orf'])\n",
    "    original_data['orf'] = translate_sc(original_data['orf'], to='orf')\n",
    "    # Make sure everything translated ok\n",
    "    t = looks_like_orf(original_data['orf'])\n",
    "    print(original_data.loc[~t,])\n",
    "    original_data = original_data.loc[t,:]\n",
    "    \n",
    "    original_data['data'] = original_data['Log2Ratio']\n",
    "    original_data.set_index('orf', inplace=True)\n",
    "    original_data = original_data[['data']].copy()\n",
    "    original_data = original_data.groupby(original_data.index).mean()\n",
    "    print(original_data.shape)\n",
    "    \n",
    "    original_data_list.append(original_data)"
   ]
  },
  {
   "cell_type": "code",
   "execution_count": 34,
   "metadata": {},
   "outputs": [],
   "source": [
    "original_data1 = pd.concat(original_data_list, axis=1)"
   ]
  },
  {
   "cell_type": "code",
   "execution_count": 35,
   "metadata": {},
   "outputs": [],
   "source": [
    "original_data1.columns = ['data1','data2','data3','data4']\n",
    "original_data1.index.name='orf'"
   ]
  },
  {
   "cell_type": "code",
   "execution_count": 36,
   "metadata": {},
   "outputs": [],
   "source": [
    "original_data1['data1'] = original_data1['data1'] - original_data1['data2']\n",
    "original_data1['data3'] = original_data1['data3'] - original_data1['data4']"
   ]
  },
  {
   "cell_type": "code",
   "execution_count": 37,
   "metadata": {},
   "outputs": [],
   "source": [
    "original_data1.drop(columns=['data2','data4'], inplace=True)"
   ]
  },
  {
   "cell_type": "code",
   "execution_count": 38,
   "metadata": {},
   "outputs": [
    {
     "data": {
      "text/html": [
       "<div>\n",
       "<style scoped>\n",
       "    .dataframe tbody tr th:only-of-type {\n",
       "        vertical-align: middle;\n",
       "    }\n",
       "\n",
       "    .dataframe tbody tr th {\n",
       "        vertical-align: top;\n",
       "    }\n",
       "\n",
       "    .dataframe thead th {\n",
       "        text-align: right;\n",
       "    }\n",
       "</style>\n",
       "<table border=\"1\" class=\"dataframe\">\n",
       "  <thead>\n",
       "    <tr style=\"text-align: right;\">\n",
       "      <th></th>\n",
       "      <th>data1</th>\n",
       "      <th>data3</th>\n",
       "    </tr>\n",
       "    <tr>\n",
       "      <th>orf</th>\n",
       "      <th></th>\n",
       "      <th></th>\n",
       "    </tr>\n",
       "  </thead>\n",
       "  <tbody>\n",
       "    <tr>\n",
       "      <th>YAL002W</th>\n",
       "      <td>0.335177</td>\n",
       "      <td>0.767759</td>\n",
       "    </tr>\n",
       "    <tr>\n",
       "      <th>YAL004W</th>\n",
       "      <td>-0.472267</td>\n",
       "      <td>-2.102164</td>\n",
       "    </tr>\n",
       "    <tr>\n",
       "      <th>YAL005C</th>\n",
       "      <td>0.147738</td>\n",
       "      <td>-2.807503</td>\n",
       "    </tr>\n",
       "    <tr>\n",
       "      <th>YAL007C</th>\n",
       "      <td>0.027676</td>\n",
       "      <td>-0.571977</td>\n",
       "    </tr>\n",
       "    <tr>\n",
       "      <th>YAL008W</th>\n",
       "      <td>0.221088</td>\n",
       "      <td>1.626694</td>\n",
       "    </tr>\n",
       "  </tbody>\n",
       "</table>\n",
       "</div>"
      ],
      "text/plain": [
       "            data1     data3\n",
       "orf                        \n",
       "YAL002W  0.335177  0.767759\n",
       "YAL004W -0.472267 -2.102164\n",
       "YAL005C  0.147738 -2.807503\n",
       "YAL007C  0.027676 -0.571977\n",
       "YAL008W  0.221088  1.626694"
      ]
     },
     "execution_count": 38,
     "metadata": {},
     "output_type": "execute_result"
    }
   ],
   "source": [
    "original_data1.head()"
   ]
  },
  {
   "cell_type": "markdown",
   "metadata": {},
   "source": [
    "# Load & process data (het)"
   ]
  },
  {
   "cell_type": "code",
   "execution_count": 23,
   "metadata": {},
   "outputs": [],
   "source": [
    "files = ['Only original foldchanges/Direct comparison/Phase I/HIP_t0vsYPD20 (dir) PhI.xlsx',\n",
    "         'Only original foldchanges/Direct comparison/Phase I/HIP_t0vsMS20 (dir) PhI.xlsx',\n",
    "         'Only original foldchanges/Direct comparison/Phase II/HIP_t0vsYPD20 (dir) PhII.xlsx',\n",
    "         'Only original foldchanges/Direct comparison/Phase II/HIPt0vsHIP10 (dir) PhII.xlsx']\n",
    "\n",
    "sheets = ['HIPt0vsYPD20_t0','HIPt0vsMS20_tr0','HIPt0vsYPD20_t0','HIPt0vsHIP10_out0']"
   ]
  },
  {
   "cell_type": "code",
   "execution_count": 24,
   "metadata": {},
   "outputs": [
    {
     "name": "stdout",
     "output_type": "stream",
     "text": [
      "Original data dimensions: 6431 x 9\n",
      "                        strain  Log2Ratio  p-value         gene  \\\n",
      "index_input                                                       \n",
      "5761         YBR160W_AS::shawn   0.035693   0.57269  YBR160W_AS   \n",
      "\n",
      "            essential_gene feature_type GO_process GO_function GO_component  \\\n",
      "index_input                                                                   \n",
      "5761          undetermined          NaN        NaN         NaN          NaN   \n",
      "\n",
      "                   orf  \n",
      "index_input             \n",
      "5761         YBR160WAS  \n",
      "(6116, 1)\n",
      "Original data dimensions: 6431 x 14\n",
      "                        strain  Log2Ratio  p-value         gene  \\\n",
      "index_input                                                       \n",
      "5121         YBR160W_AS::shawn   0.063321   0.49504  YBR160W_AS   \n",
      "\n",
      "            essential_gene feature_type GO_process GO_function GO_component  \\\n",
      "index_input                                                                   \n",
      "5121          undetermined          NaN        NaN         NaN          NaN   \n",
      "\n",
      "             Unnamed: 9  Unnamed: 10  Unnamed: 11  Unnamed: 12 Unnamed: 13  \\\n",
      "index_input                                                                  \n",
      "5121                NaN          NaN          NaN          NaN         NaN   \n",
      "\n",
      "                   orf  \n",
      "index_input             \n",
      "5121         YBR160WAS  \n",
      "(6116, 1)\n",
      "Original data dimensions: 6431 x 9\n",
      "                        strain  Log2Ratio  p-value         gene  \\\n",
      "index_input                                                       \n",
      "5761         YBR160W_AS::shawn   0.035693   0.57269  YBR160W_AS   \n",
      "\n",
      "            essential_gene feature_type GO_process GO_function GO_component  \\\n",
      "index_input                                                                   \n",
      "5761          undetermined          NaN        NaN         NaN          NaN   \n",
      "\n",
      "                   orf  \n",
      "index_input             \n",
      "5761         YBR160WAS  \n",
      "(6116, 1)\n",
      "Original data dimensions: 6431 x 10\n",
      "                        strain        gene  Log2Ratio  p-value   \\\n",
      "index_input                                                       \n",
      "4276         YBR160W_AS::shawn  YBR160W_AS  -0.336594    0.7093   \n",
      "\n",
      "            essential_gene feature_type GO_process GO_function GO_component  \\\n",
      "index_input                                                                   \n",
      "4276          undetermined          NaN        NaN         NaN          NaN   \n",
      "\n",
      "             notes        orf  \n",
      "index_input                    \n",
      "4276           NaN  YBR160WAS  \n",
      "(6116, 1)\n"
     ]
    }
   ],
   "source": [
    "original_data_list = []\n",
    "for ixf, f in enumerate(files):\n",
    "    original_data = pd.read_excel('raw_data/' + f, sheet_name=sheets[ixf])\n",
    "    print('Original data dimensions: %d x %d' % (original_data.shape))\n",
    "    \n",
    "    original_data['orf'] = original_data['strain'].apply(lambda x: x.split(':')[0])\n",
    "    original_data['orf'] = clean_orf(original_data['orf'])\n",
    "    original_data['orf'] = translate_sc(original_data['orf'], to='orf')\n",
    "    # Make sure everything translated ok\n",
    "    t = looks_like_orf(original_data['orf'])\n",
    "    print(original_data.loc[~t,])\n",
    "    original_data = original_data.loc[t,:]\n",
    "    \n",
    "    original_data['data'] = original_data['Log2Ratio']\n",
    "    original_data.set_index('orf', inplace=True)\n",
    "    original_data = original_data[['data']].copy()\n",
    "    original_data = original_data.groupby(original_data.index).mean()\n",
    "    print(original_data.shape)\n",
    "    \n",
    "    original_data_list.append(original_data)"
   ]
  },
  {
   "cell_type": "code",
   "execution_count": 25,
   "metadata": {},
   "outputs": [],
   "source": [
    "original_data2 = pd.concat(original_data_list, axis=1)"
   ]
  },
  {
   "cell_type": "code",
   "execution_count": 26,
   "metadata": {},
   "outputs": [],
   "source": [
    "original_data2.columns = ['data1','data2','data3','data4']\n",
    "original_data2.index.name='orf'"
   ]
  },
  {
   "cell_type": "code",
   "execution_count": 27,
   "metadata": {},
   "outputs": [],
   "source": [
    "original_data2['data1'] = original_data2['data1'] - original_data2['data2']\n",
    "original_data2['data3'] = original_data2['data3'] - original_data2['data4']"
   ]
  },
  {
   "cell_type": "code",
   "execution_count": 28,
   "metadata": {},
   "outputs": [],
   "source": [
    "original_data2.drop(columns=['data2','data4'], inplace=True)"
   ]
  },
  {
   "cell_type": "code",
   "execution_count": 31,
   "metadata": {},
   "outputs": [
    {
     "data": {
      "text/html": [
       "<div>\n",
       "<style scoped>\n",
       "    .dataframe tbody tr th:only-of-type {\n",
       "        vertical-align: middle;\n",
       "    }\n",
       "\n",
       "    .dataframe tbody tr th {\n",
       "        vertical-align: top;\n",
       "    }\n",
       "\n",
       "    .dataframe thead th {\n",
       "        text-align: right;\n",
       "    }\n",
       "</style>\n",
       "<table border=\"1\" class=\"dataframe\">\n",
       "  <thead>\n",
       "    <tr style=\"text-align: right;\">\n",
       "      <th></th>\n",
       "      <th>data1</th>\n",
       "      <th>data3</th>\n",
       "    </tr>\n",
       "    <tr>\n",
       "      <th>orf</th>\n",
       "      <th></th>\n",
       "      <th></th>\n",
       "    </tr>\n",
       "  </thead>\n",
       "  <tbody>\n",
       "    <tr>\n",
       "      <th>YAL001C</th>\n",
       "      <td>-0.005866</td>\n",
       "      <td>0.952995</td>\n",
       "    </tr>\n",
       "    <tr>\n",
       "      <th>YAL002W</th>\n",
       "      <td>-0.072421</td>\n",
       "      <td>0.317301</td>\n",
       "    </tr>\n",
       "    <tr>\n",
       "      <th>YAL003W</th>\n",
       "      <td>-0.439218</td>\n",
       "      <td>1.511621</td>\n",
       "    </tr>\n",
       "    <tr>\n",
       "      <th>YAL004W</th>\n",
       "      <td>-2.083094</td>\n",
       "      <td>-0.466739</td>\n",
       "    </tr>\n",
       "    <tr>\n",
       "      <th>YAL005C</th>\n",
       "      <td>1.189116</td>\n",
       "      <td>1.875475</td>\n",
       "    </tr>\n",
       "  </tbody>\n",
       "</table>\n",
       "</div>"
      ],
      "text/plain": [
       "            data1     data3\n",
       "orf                        \n",
       "YAL001C -0.005866  0.952995\n",
       "YAL002W -0.072421  0.317301\n",
       "YAL003W -0.439218  1.511621\n",
       "YAL004W -2.083094 -0.466739\n",
       "YAL005C  1.189116  1.875475"
      ]
     },
     "execution_count": 31,
     "metadata": {},
     "output_type": "execute_result"
    }
   ],
   "source": [
    "original_data2.head()"
   ]
  },
  {
   "cell_type": "markdown",
   "metadata": {},
   "source": [
    "# Merge all"
   ]
  },
  {
   "cell_type": "code",
   "execution_count": 39,
   "metadata": {},
   "outputs": [],
   "source": [
    "original_data = original_data1.join(original_data2, how='outer', lsuffix='_1', rsuffix='_2')"
   ]
  },
  {
   "cell_type": "code",
   "execution_count": 40,
   "metadata": {},
   "outputs": [
    {
     "data": {
      "text/html": [
       "<div>\n",
       "<style scoped>\n",
       "    .dataframe tbody tr th:only-of-type {\n",
       "        vertical-align: middle;\n",
       "    }\n",
       "\n",
       "    .dataframe tbody tr th {\n",
       "        vertical-align: top;\n",
       "    }\n",
       "\n",
       "    .dataframe thead th {\n",
       "        text-align: right;\n",
       "    }\n",
       "</style>\n",
       "<table border=\"1\" class=\"dataframe\">\n",
       "  <thead>\n",
       "    <tr style=\"text-align: right;\">\n",
       "      <th></th>\n",
       "      <th>data1_1</th>\n",
       "      <th>data3_1</th>\n",
       "      <th>data1_2</th>\n",
       "      <th>data3_2</th>\n",
       "    </tr>\n",
       "    <tr>\n",
       "      <th>orf</th>\n",
       "      <th></th>\n",
       "      <th></th>\n",
       "      <th></th>\n",
       "      <th></th>\n",
       "    </tr>\n",
       "  </thead>\n",
       "  <tbody>\n",
       "    <tr>\n",
       "      <th>YAL001C</th>\n",
       "      <td>NaN</td>\n",
       "      <td>NaN</td>\n",
       "      <td>-0.005866</td>\n",
       "      <td>0.952995</td>\n",
       "    </tr>\n",
       "    <tr>\n",
       "      <th>YAL002W</th>\n",
       "      <td>0.335177</td>\n",
       "      <td>0.767759</td>\n",
       "      <td>-0.072421</td>\n",
       "      <td>0.317301</td>\n",
       "    </tr>\n",
       "    <tr>\n",
       "      <th>YAL003W</th>\n",
       "      <td>NaN</td>\n",
       "      <td>NaN</td>\n",
       "      <td>-0.439218</td>\n",
       "      <td>1.511621</td>\n",
       "    </tr>\n",
       "    <tr>\n",
       "      <th>YAL004W</th>\n",
       "      <td>-0.472267</td>\n",
       "      <td>-2.102164</td>\n",
       "      <td>-2.083094</td>\n",
       "      <td>-0.466739</td>\n",
       "    </tr>\n",
       "    <tr>\n",
       "      <th>YAL005C</th>\n",
       "      <td>0.147738</td>\n",
       "      <td>-2.807503</td>\n",
       "      <td>1.189116</td>\n",
       "      <td>1.875475</td>\n",
       "    </tr>\n",
       "  </tbody>\n",
       "</table>\n",
       "</div>"
      ],
      "text/plain": [
       "          data1_1   data3_1   data1_2   data3_2\n",
       "orf                                            \n",
       "YAL001C       NaN       NaN -0.005866  0.952995\n",
       "YAL002W  0.335177  0.767759 -0.072421  0.317301\n",
       "YAL003W       NaN       NaN -0.439218  1.511621\n",
       "YAL004W -0.472267 -2.102164 -2.083094 -0.466739\n",
       "YAL005C  0.147738 -2.807503  1.189116  1.875475"
      ]
     },
     "execution_count": 40,
     "metadata": {},
     "output_type": "execute_result"
    }
   ],
   "source": [
    "original_data.head()"
   ]
  },
  {
   "cell_type": "markdown",
   "metadata": {},
   "source": [
    "# Prepare the final dataset"
   ]
  },
  {
   "cell_type": "code",
   "execution_count": 41,
   "metadata": {},
   "outputs": [],
   "source": [
    "data = original_data.copy()"
   ]
  },
  {
   "cell_type": "code",
   "execution_count": 42,
   "metadata": {},
   "outputs": [],
   "source": [
    "dataset_ids = [197, 198, 15993, 15994]\n",
    "datasets = datasets.reindex(index=dataset_ids)"
   ]
  },
  {
   "cell_type": "code",
   "execution_count": 43,
   "metadata": {},
   "outputs": [],
   "source": [
    "lst = [datasets.index.values, ['value']*datasets.shape[0]]\n",
    "tuples = list(zip(*lst))\n",
    "idx = pd.MultiIndex.from_tuples(tuples, names=['dataset_id','data_type'])\n",
    "data.columns = idx"
   ]
  },
  {
   "cell_type": "code",
   "execution_count": 44,
   "metadata": {},
   "outputs": [
    {
     "data": {
      "text/html": [
       "<div>\n",
       "<style scoped>\n",
       "    .dataframe tbody tr th:only-of-type {\n",
       "        vertical-align: middle;\n",
       "    }\n",
       "\n",
       "    .dataframe tbody tr th {\n",
       "        vertical-align: top;\n",
       "    }\n",
       "\n",
       "    .dataframe thead tr th {\n",
       "        text-align: left;\n",
       "    }\n",
       "\n",
       "    .dataframe thead tr:last-of-type th {\n",
       "        text-align: right;\n",
       "    }\n",
       "</style>\n",
       "<table border=\"1\" class=\"dataframe\">\n",
       "  <thead>\n",
       "    <tr>\n",
       "      <th>dataset_id</th>\n",
       "      <th>197</th>\n",
       "      <th>198</th>\n",
       "      <th>15993</th>\n",
       "      <th>15994</th>\n",
       "    </tr>\n",
       "    <tr>\n",
       "      <th>data_type</th>\n",
       "      <th>value</th>\n",
       "      <th>value</th>\n",
       "      <th>value</th>\n",
       "      <th>value</th>\n",
       "    </tr>\n",
       "    <tr>\n",
       "      <th>orf</th>\n",
       "      <th></th>\n",
       "      <th></th>\n",
       "      <th></th>\n",
       "      <th></th>\n",
       "    </tr>\n",
       "  </thead>\n",
       "  <tbody>\n",
       "    <tr>\n",
       "      <th>YAL001C</th>\n",
       "      <td>NaN</td>\n",
       "      <td>NaN</td>\n",
       "      <td>-0.005866</td>\n",
       "      <td>0.952995</td>\n",
       "    </tr>\n",
       "    <tr>\n",
       "      <th>YAL002W</th>\n",
       "      <td>0.335177</td>\n",
       "      <td>0.767759</td>\n",
       "      <td>-0.072421</td>\n",
       "      <td>0.317301</td>\n",
       "    </tr>\n",
       "    <tr>\n",
       "      <th>YAL003W</th>\n",
       "      <td>NaN</td>\n",
       "      <td>NaN</td>\n",
       "      <td>-0.439218</td>\n",
       "      <td>1.511621</td>\n",
       "    </tr>\n",
       "    <tr>\n",
       "      <th>YAL004W</th>\n",
       "      <td>-0.472267</td>\n",
       "      <td>-2.102164</td>\n",
       "      <td>-2.083094</td>\n",
       "      <td>-0.466739</td>\n",
       "    </tr>\n",
       "    <tr>\n",
       "      <th>YAL005C</th>\n",
       "      <td>0.147738</td>\n",
       "      <td>-2.807503</td>\n",
       "      <td>1.189116</td>\n",
       "      <td>1.875475</td>\n",
       "    </tr>\n",
       "  </tbody>\n",
       "</table>\n",
       "</div>"
      ],
      "text/plain": [
       "dataset_id     197       198       15993     15994\n",
       "data_type      value     value     value     value\n",
       "orf                                               \n",
       "YAL001C          NaN       NaN -0.005866  0.952995\n",
       "YAL002W     0.335177  0.767759 -0.072421  0.317301\n",
       "YAL003W          NaN       NaN -0.439218  1.511621\n",
       "YAL004W    -0.472267 -2.102164 -2.083094 -0.466739\n",
       "YAL005C     0.147738 -2.807503  1.189116  1.875475"
      ]
     },
     "execution_count": 44,
     "metadata": {},
     "output_type": "execute_result"
    }
   ],
   "source": [
    "data.head()"
   ]
  },
  {
   "cell_type": "markdown",
   "metadata": {},
   "source": [
    "## Subset to the genes currently in SGD"
   ]
  },
  {
   "cell_type": "code",
   "execution_count": 45,
   "metadata": {},
   "outputs": [
    {
     "name": "stdout",
     "output_type": "stream",
     "text": [
      "ORFs missing from SGD: 27\n"
     ]
    }
   ],
   "source": [
    "genes = pd.read_csv(path_to_genes, sep='\\t', index_col='id')\n",
    "genes = genes.reset_index().set_index('systematic_name')\n",
    "gene_ids = genes.reindex(index=data.index.values)['id'].values\n",
    "num_missing = np.sum(np.isnan(gene_ids))\n",
    "print('ORFs missing from SGD: %d' % num_missing)"
   ]
  },
  {
   "cell_type": "code",
   "execution_count": 46,
   "metadata": {},
   "outputs": [
    {
     "data": {
      "text/html": [
       "<div>\n",
       "<style scoped>\n",
       "    .dataframe tbody tr th:only-of-type {\n",
       "        vertical-align: middle;\n",
       "    }\n",
       "\n",
       "    .dataframe tbody tr th {\n",
       "        vertical-align: top;\n",
       "    }\n",
       "\n",
       "    .dataframe thead tr th {\n",
       "        text-align: left;\n",
       "    }\n",
       "\n",
       "    .dataframe thead tr:last-of-type th {\n",
       "        text-align: right;\n",
       "    }\n",
       "</style>\n",
       "<table border=\"1\" class=\"dataframe\">\n",
       "  <thead>\n",
       "    <tr>\n",
       "      <th></th>\n",
       "      <th>dataset_id</th>\n",
       "      <th>197</th>\n",
       "      <th>198</th>\n",
       "      <th>15993</th>\n",
       "      <th>15994</th>\n",
       "    </tr>\n",
       "    <tr>\n",
       "      <th></th>\n",
       "      <th>data_type</th>\n",
       "      <th>value</th>\n",
       "      <th>value</th>\n",
       "      <th>value</th>\n",
       "      <th>value</th>\n",
       "    </tr>\n",
       "    <tr>\n",
       "      <th>gene_id</th>\n",
       "      <th>orf</th>\n",
       "      <th></th>\n",
       "      <th></th>\n",
       "      <th></th>\n",
       "      <th></th>\n",
       "    </tr>\n",
       "  </thead>\n",
       "  <tbody>\n",
       "    <tr>\n",
       "      <th>1</th>\n",
       "      <th>YAL001C</th>\n",
       "      <td>NaN</td>\n",
       "      <td>NaN</td>\n",
       "      <td>-0.005866</td>\n",
       "      <td>0.952995</td>\n",
       "    </tr>\n",
       "    <tr>\n",
       "      <th>2</th>\n",
       "      <th>YAL002W</th>\n",
       "      <td>0.335177</td>\n",
       "      <td>0.767759</td>\n",
       "      <td>-0.072421</td>\n",
       "      <td>0.317301</td>\n",
       "    </tr>\n",
       "    <tr>\n",
       "      <th>3</th>\n",
       "      <th>YAL003W</th>\n",
       "      <td>NaN</td>\n",
       "      <td>NaN</td>\n",
       "      <td>-0.439218</td>\n",
       "      <td>1.511621</td>\n",
       "    </tr>\n",
       "    <tr>\n",
       "      <th>1863</th>\n",
       "      <th>YAL004W</th>\n",
       "      <td>-0.472267</td>\n",
       "      <td>-2.102164</td>\n",
       "      <td>-2.083094</td>\n",
       "      <td>-0.466739</td>\n",
       "    </tr>\n",
       "    <tr>\n",
       "      <th>4</th>\n",
       "      <th>YAL005C</th>\n",
       "      <td>0.147738</td>\n",
       "      <td>-2.807503</td>\n",
       "      <td>1.189116</td>\n",
       "      <td>1.875475</td>\n",
       "    </tr>\n",
       "  </tbody>\n",
       "</table>\n",
       "</div>"
      ],
      "text/plain": [
       "dataset_id          197       198       15993     15994\n",
       "data_type           value     value     value     value\n",
       "gene_id orf                                            \n",
       "1       YAL001C       NaN       NaN -0.005866  0.952995\n",
       "2       YAL002W  0.335177  0.767759 -0.072421  0.317301\n",
       "3       YAL003W       NaN       NaN -0.439218  1.511621\n",
       "1863    YAL004W -0.472267 -2.102164 -2.083094 -0.466739\n",
       "4       YAL005C  0.147738 -2.807503  1.189116  1.875475"
      ]
     },
     "execution_count": 46,
     "metadata": {},
     "output_type": "execute_result"
    }
   ],
   "source": [
    "data['gene_id'] = gene_ids\n",
    "data = data.loc[data['gene_id'].notnull()]\n",
    "data['gene_id'] = data['gene_id'].astype(int)\n",
    "data = data.reset_index().set_index(['gene_id','orf'])\n",
    "\n",
    "data.head()"
   ]
  },
  {
   "cell_type": "markdown",
   "metadata": {},
   "source": [
    "# Normalize"
   ]
  },
  {
   "cell_type": "code",
   "execution_count": 47,
   "metadata": {},
   "outputs": [],
   "source": [
    "data_norm = normalize_phenotypic_scores(data, has_tested=True)"
   ]
  },
  {
   "cell_type": "code",
   "execution_count": 48,
   "metadata": {},
   "outputs": [],
   "source": [
    "# Assign proper column names\n",
    "lst = [datasets.index.values, ['valuez']*datasets.shape[0]]\n",
    "tuples = list(zip(*lst))\n",
    "idx = pd.MultiIndex.from_tuples(tuples, names=['dataset_id','data_type'])\n",
    "data_norm.columns = idx"
   ]
  },
  {
   "cell_type": "code",
   "execution_count": 49,
   "metadata": {},
   "outputs": [
    {
     "data": {
      "text/html": [
       "<div>\n",
       "<style scoped>\n",
       "    .dataframe tbody tr th:only-of-type {\n",
       "        vertical-align: middle;\n",
       "    }\n",
       "\n",
       "    .dataframe tbody tr th {\n",
       "        vertical-align: top;\n",
       "    }\n",
       "\n",
       "    .dataframe thead tr th {\n",
       "        text-align: left;\n",
       "    }\n",
       "\n",
       "    .dataframe thead tr:last-of-type th {\n",
       "        text-align: right;\n",
       "    }\n",
       "</style>\n",
       "<table border=\"1\" class=\"dataframe\">\n",
       "  <thead>\n",
       "    <tr>\n",
       "      <th></th>\n",
       "      <th>dataset_id</th>\n",
       "      <th>197</th>\n",
       "      <th>198</th>\n",
       "      <th>15993</th>\n",
       "      <th>15994</th>\n",
       "      <th>197</th>\n",
       "      <th>198</th>\n",
       "      <th>15993</th>\n",
       "      <th>15994</th>\n",
       "    </tr>\n",
       "    <tr>\n",
       "      <th></th>\n",
       "      <th>data_type</th>\n",
       "      <th>value</th>\n",
       "      <th>value</th>\n",
       "      <th>value</th>\n",
       "      <th>value</th>\n",
       "      <th>valuez</th>\n",
       "      <th>valuez</th>\n",
       "      <th>valuez</th>\n",
       "      <th>valuez</th>\n",
       "    </tr>\n",
       "    <tr>\n",
       "      <th>gene_id</th>\n",
       "      <th>orf</th>\n",
       "      <th></th>\n",
       "      <th></th>\n",
       "      <th></th>\n",
       "      <th></th>\n",
       "      <th></th>\n",
       "      <th></th>\n",
       "      <th></th>\n",
       "      <th></th>\n",
       "    </tr>\n",
       "  </thead>\n",
       "  <tbody>\n",
       "    <tr>\n",
       "      <th>1</th>\n",
       "      <th>YAL001C</th>\n",
       "      <td>NaN</td>\n",
       "      <td>NaN</td>\n",
       "      <td>-0.005866</td>\n",
       "      <td>0.952995</td>\n",
       "      <td>NaN</td>\n",
       "      <td>NaN</td>\n",
       "      <td>-0.039525</td>\n",
       "      <td>0.309928</td>\n",
       "    </tr>\n",
       "    <tr>\n",
       "      <th>2</th>\n",
       "      <th>YAL002W</th>\n",
       "      <td>0.335177</td>\n",
       "      <td>0.767759</td>\n",
       "      <td>-0.072421</td>\n",
       "      <td>0.317301</td>\n",
       "      <td>0.660212</td>\n",
       "      <td>0.975482</td>\n",
       "      <td>-0.149877</td>\n",
       "      <td>-0.290474</td>\n",
       "    </tr>\n",
       "    <tr>\n",
       "      <th>3</th>\n",
       "      <th>YAL003W</th>\n",
       "      <td>NaN</td>\n",
       "      <td>NaN</td>\n",
       "      <td>-0.439218</td>\n",
       "      <td>1.511621</td>\n",
       "      <td>NaN</td>\n",
       "      <td>NaN</td>\n",
       "      <td>-0.758051</td>\n",
       "      <td>0.837541</td>\n",
       "    </tr>\n",
       "    <tr>\n",
       "      <th>1863</th>\n",
       "      <th>YAL004W</th>\n",
       "      <td>-0.472267</td>\n",
       "      <td>-2.102164</td>\n",
       "      <td>-2.083094</td>\n",
       "      <td>-0.466739</td>\n",
       "      <td>-0.605812</td>\n",
       "      <td>-1.876850</td>\n",
       "      <td>-3.483708</td>\n",
       "      <td>-1.030988</td>\n",
       "    </tr>\n",
       "    <tr>\n",
       "      <th>4</th>\n",
       "      <th>YAL005C</th>\n",
       "      <td>0.147738</td>\n",
       "      <td>-2.807503</td>\n",
       "      <td>1.189116</td>\n",
       "      <td>1.875475</td>\n",
       "      <td>0.366319</td>\n",
       "      <td>-2.577866</td>\n",
       "      <td>1.941835</td>\n",
       "      <td>1.181195</td>\n",
       "    </tr>\n",
       "  </tbody>\n",
       "</table>\n",
       "</div>"
      ],
      "text/plain": [
       "dataset_id          197       198       15993     15994     197       198    \\\n",
       "data_type           value     value     value     value    valuez    valuez   \n",
       "gene_id orf                                                                   \n",
       "1       YAL001C       NaN       NaN -0.005866  0.952995       NaN       NaN   \n",
       "2       YAL002W  0.335177  0.767759 -0.072421  0.317301  0.660212  0.975482   \n",
       "3       YAL003W       NaN       NaN -0.439218  1.511621       NaN       NaN   \n",
       "1863    YAL004W -0.472267 -2.102164 -2.083094 -0.466739 -0.605812 -1.876850   \n",
       "4       YAL005C  0.147738 -2.807503  1.189116  1.875475  0.366319 -2.577866   \n",
       "\n",
       "dataset_id          15993     15994  \n",
       "data_type          valuez    valuez  \n",
       "gene_id orf                          \n",
       "1       YAL001C -0.039525  0.309928  \n",
       "2       YAL002W -0.149877 -0.290474  \n",
       "3       YAL003W -0.758051  0.837541  \n",
       "1863    YAL004W -3.483708 -1.030988  \n",
       "4       YAL005C  1.941835  1.181195  "
      ]
     },
     "execution_count": 49,
     "metadata": {},
     "output_type": "execute_result"
    }
   ],
   "source": [
    "data_norm[data.isnull()] = np.nan\n",
    "data_all = data.join(data_norm)\n",
    "\n",
    "data_all.head()"
   ]
  },
  {
   "cell_type": "markdown",
   "metadata": {},
   "source": [
    "# Print out"
   ]
  },
  {
   "cell_type": "code",
   "execution_count": 50,
   "metadata": {},
   "outputs": [],
   "source": [
    "for f in ['value','valuez']:\n",
    "    df = data_all.xs(f, level='data_type', axis=1).copy()\n",
    "    df.columns = datasets['name'].values\n",
    "    df = df.droplevel('gene_id', axis=0)\n",
    "    df.to_csv(paper_name + '_' + f + '.txt', sep='\\t')"
   ]
  },
  {
   "cell_type": "markdown",
   "metadata": {},
   "source": [
    "# Save to DB"
   ]
  },
  {
   "cell_type": "code",
   "execution_count": 51,
   "metadata": {},
   "outputs": [],
   "source": [
    "from IO.save_data_to_db3 import *"
   ]
  },
  {
   "cell_type": "code",
   "execution_count": 52,
   "metadata": {},
   "outputs": [
    {
     "name": "stderr",
     "output_type": "stream",
     "text": [
      "  0%|          | 0/4 [00:00<?, ?it/s]"
     ]
    },
    {
     "name": "stdout",
     "output_type": "stream",
     "text": [
      "Deleting all datasets for PMID 24040173...\n",
      "Inserting the new data...\n"
     ]
    },
    {
     "name": "stderr",
     "output_type": "stream",
     "text": [
      "100%|██████████| 4/4 [00:34<00:00,  8.66s/it]"
     ]
    },
    {
     "name": "stdout",
     "output_type": "stream",
     "text": [
      "Updating the data_modified_on field...\n"
     ]
    },
    {
     "name": "stderr",
     "output_type": "stream",
     "text": [
      "\n"
     ]
    }
   ],
   "source": [
    "save_data_to_db(data_all, paper_pmid)"
   ]
  },
  {
   "cell_type": "code",
   "execution_count": null,
   "metadata": {},
   "outputs": [],
   "source": []
  }
 ],
 "metadata": {
  "kernelspec": {
   "display_name": "yp-data",
   "language": "python",
   "name": "yp-data"
  },
  "language_info": {
   "codemirror_mode": {
    "name": "ipython",
    "version": 3
   },
   "file_extension": ".py",
   "mimetype": "text/x-python",
   "name": "python",
   "nbconvert_exporter": "python",
   "pygments_lexer": "ipython3",
   "version": "3.7.7"
  }
 },
 "nbformat": 4,
 "nbformat_minor": 4
}
