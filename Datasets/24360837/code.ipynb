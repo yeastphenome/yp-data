{
 "cells": [
  {
   "cell_type": "code",
   "execution_count": 1,
   "metadata": {},
   "outputs": [],
   "source": [
    "import numpy as np\n",
    "import pandas as pd\n",
    "\n",
    "import sys\n",
    "\n",
    "from os.path import expanduser\n",
    "sys.path.append(expanduser('~') + '/Lab/Utils/Python/')\n",
    "\n",
    "from Conversions.translate import *\n",
    "from Strings.is_a import *"
   ]
  },
  {
   "cell_type": "markdown",
   "metadata": {},
   "source": [
    "# Initial setup"
   ]
  },
  {
   "cell_type": "code",
   "execution_count": 2,
   "metadata": {},
   "outputs": [],
   "source": [
    "paper_pmid = 24360837\n",
    "paper_name = 'hoepfner_movva_2014' "
   ]
  },
  {
   "cell_type": "code",
   "execution_count": 3,
   "metadata": {},
   "outputs": [],
   "source": [
    "datasets = pd.read_csv('extras/YeastPhenome_' + str(paper_pmid) + '_datasets_list.txt', sep='\\t', header=None, names=['pmid', 'name'])"
   ]
  },
  {
   "cell_type": "code",
   "execution_count": 4,
   "metadata": {},
   "outputs": [],
   "source": [
    "datasets.set_index('pmid', inplace=True)"
   ]
  },
  {
   "cell_type": "markdown",
   "metadata": {},
   "source": [
    "# Load & process the data - Benomyl"
   ]
  },
  {
   "cell_type": "code",
   "execution_count": 5,
   "metadata": {},
   "outputs": [],
   "source": [
    "original_data1 = pd.read_csv('large_files/raw_data/HOP_scores-benomyl.txt', sep='\\t')\n",
    "original_data2 = pd.read_csv('large_files/raw_data/HIP_scores-benomyl.txt', sep='\\t')"
   ]
  },
  {
   "cell_type": "code",
   "execution_count": 6,
   "metadata": {},
   "outputs": [
    {
     "name": "stdout",
     "output_type": "stream",
     "text": [
      "Original data dimensions: 6681 x 195\n",
      "Original data dimensions: 6681 x 189\n"
     ]
    }
   ],
   "source": [
    "print('Original data dimensions: %d x %d' % (original_data1.shape))\n",
    "print('Original data dimensions: %d x %d' % (original_data2.shape))"
   ]
  },
  {
   "cell_type": "code",
   "execution_count": 7,
   "metadata": {},
   "outputs": [],
   "source": [
    "# Keep the sensitivity scores, not z-scores (z-score normalize each strain to its phenotype to all other compounds in the dataset)"
   ]
  },
  {
   "cell_type": "code",
   "execution_count": 8,
   "metadata": {},
   "outputs": [],
   "source": [
    "cols1 = [c for c in original_data1.columns.values if 'z-score' not in c]\n",
    "cols2 = [c for c in original_data2.columns.values if 'z-score' not in c]"
   ]
  },
  {
   "cell_type": "code",
   "execution_count": 9,
   "metadata": {},
   "outputs": [],
   "source": [
    "original_data1 = original_data1.loc[:, cols1]\n",
    "original_data2 = original_data2.loc[:, cols2]"
   ]
  },
  {
   "cell_type": "code",
   "execution_count": 10,
   "metadata": {},
   "outputs": [],
   "source": [
    "orf_col = 'Systematic Name'"
   ]
  },
  {
   "cell_type": "code",
   "execution_count": 11,
   "metadata": {},
   "outputs": [],
   "source": [
    "original_data1[orf_col] = original_data1[orf_col].astype(str)\n",
    "original_data2[orf_col] = original_data2[orf_col].astype(str)"
   ]
  },
  {
   "cell_type": "code",
   "execution_count": 12,
   "metadata": {},
   "outputs": [],
   "source": [
    "# Eliminate all white spaces & capitalize\n",
    "original_data1[orf_col] = clean_orf(original_data1[orf_col])\n",
    "original_data2[orf_col] = clean_orf(original_data2[orf_col])"
   ]
  },
  {
   "cell_type": "code",
   "execution_count": 13,
   "metadata": {},
   "outputs": [],
   "source": [
    "# Translate to ORFs \n",
    "original_data1['orfs'] = translate_sc(original_data1[orf_col], to='orf')\n",
    "original_data2['orfs'] = translate_sc(original_data2[orf_col], to='orf')"
   ]
  },
  {
   "cell_type": "code",
   "execution_count": 14,
   "metadata": {},
   "outputs": [],
   "source": [
    "original_data1.loc[original_data1['orfs'] == 'YBR160WAS','orfs'] = 'YBR160W'\n",
    "original_data2.loc[original_data2['orfs'] == 'YBR160WAS','orfs'] = 'YBR160W'"
   ]
  },
  {
   "cell_type": "code",
   "execution_count": 15,
   "metadata": {},
   "outputs": [
    {
     "name": "stdout",
     "output_type": "stream",
     "text": [
      "            Systematic Name  Ad. scores for Exp. 991_26.84_HOP_0018A  \\\n",
      "index_input                                                            \n",
      "28                   R0010W                                      NaN   \n",
      "29                   R0020C                                      NaN   \n",
      "30                   R0030W                                      NaN   \n",
      "31                   R0040C                                      NaN   \n",
      "\n",
      "             Ad. scores for Exp. 991_26.84_HOP_0018B  \\\n",
      "index_input                                            \n",
      "28                                               NaN   \n",
      "29                                               NaN   \n",
      "30                                               NaN   \n",
      "31                                               NaN   \n",
      "\n",
      "             Ad. scores for Exp. 991_26.84_HOP_0019A  \\\n",
      "index_input                                            \n",
      "28                                               NaN   \n",
      "29                                               NaN   \n",
      "30                                               NaN   \n",
      "31                                               NaN   \n",
      "\n",
      "             Ad. scores for Exp. 991_26.84_HOP_0019B  \\\n",
      "index_input                                            \n",
      "28                                               NaN   \n",
      "29                                               NaN   \n",
      "30                                               NaN   \n",
      "31                                               NaN   \n",
      "\n",
      "             Ad. scores for Exp. 991_26.84_HOP_0020A  \\\n",
      "index_input                                            \n",
      "28                                               NaN   \n",
      "29                                               NaN   \n",
      "30                                               NaN   \n",
      "31                                               NaN   \n",
      "\n",
      "             Ad. scores for Exp. 991_26.84_HOP_0020B  \\\n",
      "index_input                                            \n",
      "28                                               NaN   \n",
      "29                                               NaN   \n",
      "30                                               NaN   \n",
      "31                                               NaN   \n",
      "\n",
      "             Ad. scores for Exp. 991_26.84_HOP_0023  \\\n",
      "index_input                                           \n",
      "28                                              NaN   \n",
      "29                                              NaN   \n",
      "30                                              NaN   \n",
      "31                                              NaN   \n",
      "\n",
      "             Ad. scores for Exp. 991_26.84_HOP_0024  \\\n",
      "index_input                                           \n",
      "28                                              NaN   \n",
      "29                                              NaN   \n",
      "30                                              NaN   \n",
      "31                                              NaN   \n",
      "\n",
      "             Ad. scores for Exp. 991_26.835_HOP_0025  ...  \\\n",
      "index_input                                           ...   \n",
      "28                                               NaN  ...   \n",
      "29                                               NaN  ...   \n",
      "30                                               NaN  ...   \n",
      "31                                               NaN  ...   \n",
      "\n",
      "             Ad. scores for Exp. 991_26.835_HOP_0180  \\\n",
      "index_input                                            \n",
      "28                                               NaN   \n",
      "29                                               NaN   \n",
      "30                                               NaN   \n",
      "31                                               NaN   \n",
      "\n",
      "             Ad. scores for Exp. 991_26.835_HOP_0182  \\\n",
      "index_input                                            \n",
      "28                                               NaN   \n",
      "29                                               NaN   \n",
      "30                                               NaN   \n",
      "31                                               NaN   \n",
      "\n",
      "             Ad. scores for Exp. 991_26.835_HOP_0184  \\\n",
      "index_input                                            \n",
      "28                                               NaN   \n",
      "29                                               NaN   \n",
      "30                                               NaN   \n",
      "31                                               NaN   \n",
      "\n",
      "             Ad. scores for Exp. 991_26.835_HOP_0186  \\\n",
      "index_input                                            \n",
      "28                                               NaN   \n",
      "29                                               NaN   \n",
      "30                                               NaN   \n",
      "31                                               NaN   \n",
      "\n",
      "             Ad. scores for Exp. 991_26.835_HOP_0188  \\\n",
      "index_input                                            \n",
      "28                                               NaN   \n",
      "29                                               NaN   \n",
      "30                                               NaN   \n",
      "31                                               NaN   \n",
      "\n",
      "             Ad. scores for Exp. 991_26.835_HOP_0191  \\\n",
      "index_input                                            \n",
      "28                                               NaN   \n",
      "29                                               NaN   \n",
      "30                                               NaN   \n",
      "31                                               NaN   \n",
      "\n",
      "             Ad. scores for Exp. 991_26.835_HOP_0193  \\\n",
      "index_input                                            \n",
      "28                                               NaN   \n",
      "29                                               NaN   \n",
      "30                                               NaN   \n",
      "31                                               NaN   \n",
      "\n",
      "             Ad. scores for Exp. 991_31.6_HOP_0044  \\\n",
      "index_input                                          \n",
      "28                                             NaN   \n",
      "29                                             NaN   \n",
      "30                                             NaN   \n",
      "31                                             NaN   \n",
      "\n",
      "             Ad. scores for Exp. 991_37.8_HOP_0044    orfs  \n",
      "index_input                                                 \n",
      "28                                             NaN  R0010W  \n",
      "29                                             NaN  R0020C  \n",
      "30                                             NaN  R0030W  \n",
      "31                                             NaN  R0040C  \n",
      "\n",
      "[4 rows x 99 columns]\n"
     ]
    }
   ],
   "source": [
    "# Make sure everything translated ok\n",
    "t = looks_like_orf(original_data1['orfs'])\n",
    "print(original_data1.loc[~t,])"
   ]
  },
  {
   "cell_type": "code",
   "execution_count": 16,
   "metadata": {},
   "outputs": [
    {
     "name": "stdout",
     "output_type": "stream",
     "text": [
      "            Systematic Name  Ad. scores for Exp. 991_26.84_HIP_0018A  \\\n",
      "index_input                                                            \n",
      "28                   R0010W                                      NaN   \n",
      "29                   R0020C                                      NaN   \n",
      "30                   R0030W                                      NaN   \n",
      "31                   R0040C                                      NaN   \n",
      "\n",
      "             MADL scores for Exp. 991_26.84_HIP_0018B  \\\n",
      "index_input                                             \n",
      "28                                                NaN   \n",
      "29                                                NaN   \n",
      "30                                                NaN   \n",
      "31                                                NaN   \n",
      "\n",
      "             Ad. scores for Exp. 991_26.84_HIP_0019A  \\\n",
      "index_input                                            \n",
      "28                                               NaN   \n",
      "29                                               NaN   \n",
      "30                                               NaN   \n",
      "31                                               NaN   \n",
      "\n",
      "             Ad. scores for Exp. 991_26.84_HIP_0019B  \\\n",
      "index_input                                            \n",
      "28                                               NaN   \n",
      "29                                               NaN   \n",
      "30                                               NaN   \n",
      "31                                               NaN   \n",
      "\n",
      "             MADL scores for Exp. 991_26.84_HIP_0020A  \\\n",
      "index_input                                             \n",
      "28                                                NaN   \n",
      "29                                                NaN   \n",
      "30                                                NaN   \n",
      "31                                                NaN   \n",
      "\n",
      "             Ad. scores for Exp. 991_26.84_HIP_0020B  \\\n",
      "index_input                                            \n",
      "28                                               NaN   \n",
      "29                                               NaN   \n",
      "30                                               NaN   \n",
      "31                                               NaN   \n",
      "\n",
      "             Ad. scores for Exp. 991_26.84_HIP_0023  \\\n",
      "index_input                                           \n",
      "28                                              NaN   \n",
      "29                                              NaN   \n",
      "30                                              NaN   \n",
      "31                                              NaN   \n",
      "\n",
      "             Ad. scores for Exp. 991_26.84_HIP_0024  \\\n",
      "index_input                                           \n",
      "28                                              NaN   \n",
      "29                                              NaN   \n",
      "30                                              NaN   \n",
      "31                                              NaN   \n",
      "\n",
      "             Ad. scores for Exp. 991_26.835_HIP_0025  ...  \\\n",
      "index_input                                           ...   \n",
      "28                                               NaN  ...   \n",
      "29                                               NaN  ...   \n",
      "30                                               NaN  ...   \n",
      "31                                               NaN  ...   \n",
      "\n",
      "             Ad. scores for Exp. 991_26.835_HIP_0179  \\\n",
      "index_input                                            \n",
      "28                                               NaN   \n",
      "29                                               NaN   \n",
      "30                                               NaN   \n",
      "31                                               NaN   \n",
      "\n",
      "             Ad. scores for Exp. 991_26.835_HIP_0181  \\\n",
      "index_input                                            \n",
      "28                                               NaN   \n",
      "29                                               NaN   \n",
      "30                                               NaN   \n",
      "31                                               NaN   \n",
      "\n",
      "             Ad. scores for Exp. 991_26.835_HIP_0183  \\\n",
      "index_input                                            \n",
      "28                                               NaN   \n",
      "29                                               NaN   \n",
      "30                                               NaN   \n",
      "31                                               NaN   \n",
      "\n",
      "             Ad. scores for Exp. 991_26.835_HIP_0185  \\\n",
      "index_input                                            \n",
      "28                                               NaN   \n",
      "29                                               NaN   \n",
      "30                                               NaN   \n",
      "31                                               NaN   \n",
      "\n",
      "             Ad. scores for Exp. 991_26.835_HIP_0187  \\\n",
      "index_input                                            \n",
      "28                                               NaN   \n",
      "29                                               NaN   \n",
      "30                                               NaN   \n",
      "31                                               NaN   \n",
      "\n",
      "             Ad. scores for Exp. 991_26.835_HIP_0190  \\\n",
      "index_input                                            \n",
      "28                                               NaN   \n",
      "29                                               NaN   \n",
      "30                                               NaN   \n",
      "31                                               NaN   \n",
      "\n",
      "             Ad. scores for Exp. 991_26.835_HIP_0192  \\\n",
      "index_input                                            \n",
      "28                                               NaN   \n",
      "29                                               NaN   \n",
      "30                                               NaN   \n",
      "31                                               NaN   \n",
      "\n",
      "             Ad. scores for Exp. 991_31.6_HIP_0044  \\\n",
      "index_input                                          \n",
      "28                                             NaN   \n",
      "29                                             NaN   \n",
      "30                                             NaN   \n",
      "31                                             NaN   \n",
      "\n",
      "             Ad. scores for Exp. 991_37.8_HIP_0044    orfs  \n",
      "index_input                                                 \n",
      "28                                             NaN  R0010W  \n",
      "29                                             NaN  R0020C  \n",
      "30                                             NaN  R0030W  \n",
      "31                                             NaN  R0040C  \n",
      "\n",
      "[4 rows x 96 columns]\n"
     ]
    }
   ],
   "source": [
    "# Make sure everything translated ok\n",
    "t = looks_like_orf(original_data2['orfs'])\n",
    "print(original_data2.loc[~t,])"
   ]
  },
  {
   "cell_type": "code",
   "execution_count": 17,
   "metadata": {},
   "outputs": [],
   "source": [
    "original_data1 = original_data1.loc[t,:]\n",
    "original_data2 = original_data2.loc[t,:]"
   ]
  },
  {
   "cell_type": "code",
   "execution_count": 18,
   "metadata": {},
   "outputs": [],
   "source": [
    "original_data1.set_index('orfs', inplace=True)\n",
    "original_data2.set_index('orfs', inplace=True)"
   ]
  },
  {
   "cell_type": "code",
   "execution_count": 19,
   "metadata": {},
   "outputs": [],
   "source": [
    "original_data1['data'] = original_data1.mean(axis=1)\n",
    "original_data2['data'] = original_data2.mean(axis=1)"
   ]
  },
  {
   "cell_type": "code",
   "execution_count": 20,
   "metadata": {},
   "outputs": [],
   "source": [
    "original_data = original_data1[['data']].join(original_data2[['data']], how='outer', rsuffix='_hop', lsuffix='_hip')"
   ]
  },
  {
   "cell_type": "code",
   "execution_count": 21,
   "metadata": {},
   "outputs": [],
   "source": [
    "dataset_ids = [1087, 16622]"
   ]
  },
  {
   "cell_type": "code",
   "execution_count": 22,
   "metadata": {},
   "outputs": [],
   "source": [
    "datasets = datasets.reindex(index=dataset_ids)"
   ]
  },
  {
   "cell_type": "code",
   "execution_count": 23,
   "metadata": {},
   "outputs": [],
   "source": [
    "data = original_data[['data_hop','data_hip']].copy()"
   ]
  },
  {
   "cell_type": "code",
   "execution_count": 24,
   "metadata": {},
   "outputs": [],
   "source": [
    "data.columns = datasets['name'].values"
   ]
  },
  {
   "cell_type": "code",
   "execution_count": 25,
   "metadata": {},
   "outputs": [],
   "source": [
    "data = data.groupby(data.index).mean()"
   ]
  },
  {
   "cell_type": "code",
   "execution_count": 26,
   "metadata": {},
   "outputs": [],
   "source": [
    "# Create row index\n",
    "data.index.name='orf'"
   ]
  },
  {
   "cell_type": "code",
   "execution_count": 27,
   "metadata": {},
   "outputs": [
    {
     "name": "stdout",
     "output_type": "stream",
     "text": [
      "Final data dimensions: 6634 x 2\n"
     ]
    }
   ],
   "source": [
    "print('Final data dimensions: %d x %d' % (data.shape))"
   ]
  },
  {
   "cell_type": "code",
   "execution_count": 28,
   "metadata": {},
   "outputs": [],
   "source": [
    "data_benomyl = data.copy()"
   ]
  },
  {
   "cell_type": "code",
   "execution_count": 29,
   "metadata": {},
   "outputs": [],
   "source": [
    "data_benomyl.to_csv(paper_name + '_benomyl.txt', sep='\\t')"
   ]
  },
  {
   "cell_type": "markdown",
   "metadata": {},
   "source": [
    "# Save to DB"
   ]
  },
  {
   "cell_type": "code",
   "execution_count": 30,
   "metadata": {},
   "outputs": [],
   "source": [
    "from IO.save_data_to_db2 import *"
   ]
  },
  {
   "cell_type": "code",
   "execution_count": 31,
   "metadata": {},
   "outputs": [],
   "source": [
    "# Create column index\n",
    "lst = [datasets.index.values, datasets['name'].values]\n",
    "tuples = list(zip(*lst))\n",
    "idx = pd.MultiIndex.from_tuples(tuples, names=['dataset_id','dataset_name'])\n",
    "data.columns = idx"
   ]
  },
  {
   "cell_type": "code",
   "execution_count": 32,
   "metadata": {},
   "outputs": [
    {
     "data": {
      "text/html": [
       "<div>\n",
       "<style scoped>\n",
       "    .dataframe tbody tr th:only-of-type {\n",
       "        vertical-align: middle;\n",
       "    }\n",
       "\n",
       "    .dataframe tbody tr th {\n",
       "        vertical-align: top;\n",
       "    }\n",
       "\n",
       "    .dataframe thead tr th {\n",
       "        text-align: left;\n",
       "    }\n",
       "\n",
       "    .dataframe thead tr:last-of-type th {\n",
       "        text-align: right;\n",
       "    }\n",
       "</style>\n",
       "<table border=\"1\" class=\"dataframe\">\n",
       "  <thead>\n",
       "    <tr>\n",
       "      <th>dataset_id</th>\n",
       "      <th>1087</th>\n",
       "      <th>16622</th>\n",
       "    </tr>\n",
       "    <tr>\n",
       "      <th>dataset_name</th>\n",
       "      <th>hom | growth (pooled culture) | benomyl [57.746 uM] | YPD + DMSO [2%] | Hoepfner D~Movva NR, 2014</th>\n",
       "      <th>het | growth (pooled culture) | benomyl [57.746 uM] | YPD + DMSO [2%] | Hoepfner D~Movva NR, 2014</th>\n",
       "    </tr>\n",
       "    <tr>\n",
       "      <th>orf</th>\n",
       "      <th></th>\n",
       "      <th></th>\n",
       "    </tr>\n",
       "  </thead>\n",
       "  <tbody>\n",
       "    <tr>\n",
       "      <th>Q0010</th>\n",
       "      <td>NaN</td>\n",
       "      <td>NaN</td>\n",
       "    </tr>\n",
       "    <tr>\n",
       "      <th>Q0017</th>\n",
       "      <td>NaN</td>\n",
       "      <td>NaN</td>\n",
       "    </tr>\n",
       "    <tr>\n",
       "      <th>Q0032</th>\n",
       "      <td>NaN</td>\n",
       "      <td>NaN</td>\n",
       "    </tr>\n",
       "    <tr>\n",
       "      <th>Q0045</th>\n",
       "      <td>NaN</td>\n",
       "      <td>NaN</td>\n",
       "    </tr>\n",
       "    <tr>\n",
       "      <th>Q0050</th>\n",
       "      <td>NaN</td>\n",
       "      <td>NaN</td>\n",
       "    </tr>\n",
       "  </tbody>\n",
       "</table>\n",
       "</div>"
      ],
      "text/plain": [
       "dataset_id                                                                                               1087   \\\n",
       "dataset_name hom | growth (pooled culture) | benomyl [57.746 uM] | YPD + DMSO [2%] | Hoepfner D~Movva NR, 2014   \n",
       "orf                                                                                                              \n",
       "Q0010                                                       NaN                                                  \n",
       "Q0017                                                       NaN                                                  \n",
       "Q0032                                                       NaN                                                  \n",
       "Q0045                                                       NaN                                                  \n",
       "Q0050                                                       NaN                                                  \n",
       "\n",
       "dataset_id                                                                                               16622  \n",
       "dataset_name het | growth (pooled culture) | benomyl [57.746 uM] | YPD + DMSO [2%] | Hoepfner D~Movva NR, 2014  \n",
       "orf                                                                                                             \n",
       "Q0010                                                       NaN                                                 \n",
       "Q0017                                                       NaN                                                 \n",
       "Q0032                                                       NaN                                                 \n",
       "Q0045                                                       NaN                                                 \n",
       "Q0050                                                       NaN                                                 "
      ]
     },
     "execution_count": 32,
     "metadata": {},
     "output_type": "execute_result"
    }
   ],
   "source": [
    "data.head()"
   ]
  },
  {
   "cell_type": "code",
   "execution_count": 33,
   "metadata": {},
   "outputs": [],
   "source": [
    "save_data_to_db(data, paper_pmid, delete=False)"
   ]
  },
  {
   "cell_type": "code",
   "execution_count": null,
   "metadata": {},
   "outputs": [],
   "source": []
  }
 ],
 "metadata": {
  "kernelspec": {
   "display_name": "yp-data",
   "language": "python",
   "name": "yp-data"
  },
  "language_info": {
   "codemirror_mode": {
    "name": "ipython",
    "version": 3
   },
   "file_extension": ".py",
   "mimetype": "text/x-python",
   "name": "python",
   "nbconvert_exporter": "python",
   "pygments_lexer": "ipython3",
   "version": "3.7.7"
  }
 },
 "nbformat": 4,
 "nbformat_minor": 4
}
