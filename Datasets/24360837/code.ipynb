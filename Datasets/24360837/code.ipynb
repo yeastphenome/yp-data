{
 "cells": [
  {
   "cell_type": "code",
   "execution_count": 80,
   "metadata": {},
   "outputs": [],
   "source": [
    "%run ../yp_utils.py"
   ]
  },
  {
   "cell_type": "markdown",
   "metadata": {},
   "source": [
    "# Initial setup"
   ]
  },
  {
   "cell_type": "code",
   "execution_count": 81,
   "metadata": {},
   "outputs": [],
   "source": [
    "paper_pmid = 24360837\n",
    "paper_name = 'hoepfner_movva_2014' "
   ]
  },
  {
   "cell_type": "code",
   "execution_count": 82,
   "metadata": {},
   "outputs": [],
   "source": [
    "datasets = pd.read_csv('extras/YeastPhenome_' + str(paper_pmid) + '_datasets_list.txt', sep='\\t', header=None, names=['pmid', 'name'])"
   ]
  },
  {
   "cell_type": "code",
   "execution_count": 83,
   "metadata": {},
   "outputs": [],
   "source": [
    "datasets.set_index('pmid', inplace=True)"
   ]
  },
  {
   "cell_type": "markdown",
   "metadata": {},
   "source": [
    "# Load & process the data - Benomyl"
   ]
  },
  {
   "cell_type": "code",
   "execution_count": 84,
   "metadata": {},
   "outputs": [],
   "source": [
    "original_data1 = pd.read_csv('large_files/raw_data/HOP_scores-benomyl.txt', sep='\\t')\n",
    "original_data2 = pd.read_csv('large_files/raw_data/HIP_scores-benomyl.txt', sep='\\t')"
   ]
  },
  {
   "cell_type": "code",
   "execution_count": 85,
   "metadata": {},
   "outputs": [
    {
     "name": "stdout",
     "output_type": "stream",
     "text": [
      "Original data dimensions: 6681 x 195\n",
      "Original data dimensions: 6681 x 189\n"
     ]
    }
   ],
   "source": [
    "print('Original data dimensions: %d x %d' % (original_data1.shape))\n",
    "print('Original data dimensions: %d x %d' % (original_data2.shape))"
   ]
  },
  {
   "cell_type": "code",
   "execution_count": 86,
   "metadata": {},
   "outputs": [],
   "source": [
    "# Keep the sensitivity scores, not z-scores (z-score normalize each strain to its phenotype to all other compounds in the dataset)"
   ]
  },
  {
   "cell_type": "code",
   "execution_count": 87,
   "metadata": {},
   "outputs": [],
   "source": [
    "cols1 = [c for c in original_data1.columns.values if 'z-score' not in c]\n",
    "cols2 = [c for c in original_data2.columns.values if 'z-score' not in c]"
   ]
  },
  {
   "cell_type": "code",
   "execution_count": 88,
   "metadata": {},
   "outputs": [],
   "source": [
    "original_data1 = original_data1.loc[:, cols1]\n",
    "original_data2 = original_data2.loc[:, cols2]"
   ]
  },
  {
   "cell_type": "code",
   "execution_count": 89,
   "metadata": {},
   "outputs": [],
   "source": [
    "orf_col = 'Systematic Name'"
   ]
  },
  {
   "cell_type": "code",
   "execution_count": 90,
   "metadata": {},
   "outputs": [],
   "source": [
    "original_data1[orf_col] = original_data1[orf_col].astype(str)\n",
    "original_data2[orf_col] = original_data2[orf_col].astype(str)"
   ]
  },
  {
   "cell_type": "code",
   "execution_count": 91,
   "metadata": {},
   "outputs": [],
   "source": [
    "# Eliminate all white spaces & capitalize\n",
    "original_data1[orf_col] = clean_orf(original_data1[orf_col])\n",
    "original_data2[orf_col] = clean_orf(original_data2[orf_col])"
   ]
  },
  {
   "cell_type": "code",
   "execution_count": 92,
   "metadata": {},
   "outputs": [],
   "source": [
    "# Translate to ORFs \n",
    "original_data1['orfs'] = translate_sc(original_data1[orf_col], to='orf')\n",
    "original_data2['orfs'] = translate_sc(original_data2[orf_col], to='orf')"
   ]
  },
  {
   "cell_type": "code",
   "execution_count": 93,
   "metadata": {},
   "outputs": [],
   "source": [
    "original_data1.loc[original_data1['orfs'] == 'YBR160WAS','orfs'] = 'YBR160W'\n",
    "original_data2.loc[original_data2['orfs'] == 'YBR160WAS','orfs'] = 'YBR160W'"
   ]
  },
  {
   "cell_type": "code",
   "execution_count": 94,
   "metadata": {},
   "outputs": [
    {
     "name": "stdout",
     "output_type": "stream",
     "text": [
      "            Systematic Name  Ad. scores for Exp. 991_26.84_HOP_0018A  \\\n",
      "index_input                                                            \n",
      "28                   R0010W                                      NaN   \n",
      "29                   R0020C                                      NaN   \n",
      "30                   R0030W                                      NaN   \n",
      "31                   R0040C                                      NaN   \n",
      "\n",
      "             Ad. scores for Exp. 991_26.84_HOP_0018B  \\\n",
      "index_input                                            \n",
      "28                                               NaN   \n",
      "29                                               NaN   \n",
      "30                                               NaN   \n",
      "31                                               NaN   \n",
      "\n",
      "             Ad. scores for Exp. 991_26.84_HOP_0019A  \\\n",
      "index_input                                            \n",
      "28                                               NaN   \n",
      "29                                               NaN   \n",
      "30                                               NaN   \n",
      "31                                               NaN   \n",
      "\n",
      "             Ad. scores for Exp. 991_26.84_HOP_0019B  \\\n",
      "index_input                                            \n",
      "28                                               NaN   \n",
      "29                                               NaN   \n",
      "30                                               NaN   \n",
      "31                                               NaN   \n",
      "\n",
      "             Ad. scores for Exp. 991_26.84_HOP_0020A  \\\n",
      "index_input                                            \n",
      "28                                               NaN   \n",
      "29                                               NaN   \n",
      "30                                               NaN   \n",
      "31                                               NaN   \n",
      "\n",
      "             Ad. scores for Exp. 991_26.84_HOP_0020B  \\\n",
      "index_input                                            \n",
      "28                                               NaN   \n",
      "29                                               NaN   \n",
      "30                                               NaN   \n",
      "31                                               NaN   \n",
      "\n",
      "             Ad. scores for Exp. 991_26.84_HOP_0023  \\\n",
      "index_input                                           \n",
      "28                                              NaN   \n",
      "29                                              NaN   \n",
      "30                                              NaN   \n",
      "31                                              NaN   \n",
      "\n",
      "             Ad. scores for Exp. 991_26.84_HOP_0024  \\\n",
      "index_input                                           \n",
      "28                                              NaN   \n",
      "29                                              NaN   \n",
      "30                                              NaN   \n",
      "31                                              NaN   \n",
      "\n",
      "             Ad. scores for Exp. 991_26.835_HOP_0025  ...  \\\n",
      "index_input                                           ...   \n",
      "28                                               NaN  ...   \n",
      "29                                               NaN  ...   \n",
      "30                                               NaN  ...   \n",
      "31                                               NaN  ...   \n",
      "\n",
      "             Ad. scores for Exp. 991_26.835_HOP_0180  \\\n",
      "index_input                                            \n",
      "28                                               NaN   \n",
      "29                                               NaN   \n",
      "30                                               NaN   \n",
      "31                                               NaN   \n",
      "\n",
      "             Ad. scores for Exp. 991_26.835_HOP_0182  \\\n",
      "index_input                                            \n",
      "28                                               NaN   \n",
      "29                                               NaN   \n",
      "30                                               NaN   \n",
      "31                                               NaN   \n",
      "\n",
      "             Ad. scores for Exp. 991_26.835_HOP_0184  \\\n",
      "index_input                                            \n",
      "28                                               NaN   \n",
      "29                                               NaN   \n",
      "30                                               NaN   \n",
      "31                                               NaN   \n",
      "\n",
      "             Ad. scores for Exp. 991_26.835_HOP_0186  \\\n",
      "index_input                                            \n",
      "28                                               NaN   \n",
      "29                                               NaN   \n",
      "30                                               NaN   \n",
      "31                                               NaN   \n",
      "\n",
      "             Ad. scores for Exp. 991_26.835_HOP_0188  \\\n",
      "index_input                                            \n",
      "28                                               NaN   \n",
      "29                                               NaN   \n",
      "30                                               NaN   \n",
      "31                                               NaN   \n",
      "\n",
      "             Ad. scores for Exp. 991_26.835_HOP_0191  \\\n",
      "index_input                                            \n",
      "28                                               NaN   \n",
      "29                                               NaN   \n",
      "30                                               NaN   \n",
      "31                                               NaN   \n",
      "\n",
      "             Ad. scores for Exp. 991_26.835_HOP_0193  \\\n",
      "index_input                                            \n",
      "28                                               NaN   \n",
      "29                                               NaN   \n",
      "30                                               NaN   \n",
      "31                                               NaN   \n",
      "\n",
      "             Ad. scores for Exp. 991_31.6_HOP_0044  \\\n",
      "index_input                                          \n",
      "28                                             NaN   \n",
      "29                                             NaN   \n",
      "30                                             NaN   \n",
      "31                                             NaN   \n",
      "\n",
      "             Ad. scores for Exp. 991_37.8_HOP_0044    orfs  \n",
      "index_input                                                 \n",
      "28                                             NaN  R0010W  \n",
      "29                                             NaN  R0020C  \n",
      "30                                             NaN  R0030W  \n",
      "31                                             NaN  R0040C  \n",
      "\n",
      "[4 rows x 99 columns]\n"
     ]
    }
   ],
   "source": [
    "# Make sure everything translated ok\n",
    "t = looks_like_orf(original_data1['orfs'])\n",
    "print(original_data1.loc[~t,])"
   ]
  },
  {
   "cell_type": "code",
   "execution_count": 95,
   "metadata": {},
   "outputs": [
    {
     "name": "stdout",
     "output_type": "stream",
     "text": [
      "            Systematic Name  Ad. scores for Exp. 991_26.84_HIP_0018A  \\\n",
      "index_input                                                            \n",
      "28                   R0010W                                      NaN   \n",
      "29                   R0020C                                      NaN   \n",
      "30                   R0030W                                      NaN   \n",
      "31                   R0040C                                      NaN   \n",
      "\n",
      "             MADL scores for Exp. 991_26.84_HIP_0018B  \\\n",
      "index_input                                             \n",
      "28                                                NaN   \n",
      "29                                                NaN   \n",
      "30                                                NaN   \n",
      "31                                                NaN   \n",
      "\n",
      "             Ad. scores for Exp. 991_26.84_HIP_0019A  \\\n",
      "index_input                                            \n",
      "28                                               NaN   \n",
      "29                                               NaN   \n",
      "30                                               NaN   \n",
      "31                                               NaN   \n",
      "\n",
      "             Ad. scores for Exp. 991_26.84_HIP_0019B  \\\n",
      "index_input                                            \n",
      "28                                               NaN   \n",
      "29                                               NaN   \n",
      "30                                               NaN   \n",
      "31                                               NaN   \n",
      "\n",
      "             MADL scores for Exp. 991_26.84_HIP_0020A  \\\n",
      "index_input                                             \n",
      "28                                                NaN   \n",
      "29                                                NaN   \n",
      "30                                                NaN   \n",
      "31                                                NaN   \n",
      "\n",
      "             Ad. scores for Exp. 991_26.84_HIP_0020B  \\\n",
      "index_input                                            \n",
      "28                                               NaN   \n",
      "29                                               NaN   \n",
      "30                                               NaN   \n",
      "31                                               NaN   \n",
      "\n",
      "             Ad. scores for Exp. 991_26.84_HIP_0023  \\\n",
      "index_input                                           \n",
      "28                                              NaN   \n",
      "29                                              NaN   \n",
      "30                                              NaN   \n",
      "31                                              NaN   \n",
      "\n",
      "             Ad. scores for Exp. 991_26.84_HIP_0024  \\\n",
      "index_input                                           \n",
      "28                                              NaN   \n",
      "29                                              NaN   \n",
      "30                                              NaN   \n",
      "31                                              NaN   \n",
      "\n",
      "             Ad. scores for Exp. 991_26.835_HIP_0025  ...  \\\n",
      "index_input                                           ...   \n",
      "28                                               NaN  ...   \n",
      "29                                               NaN  ...   \n",
      "30                                               NaN  ...   \n",
      "31                                               NaN  ...   \n",
      "\n",
      "             Ad. scores for Exp. 991_26.835_HIP_0179  \\\n",
      "index_input                                            \n",
      "28                                               NaN   \n",
      "29                                               NaN   \n",
      "30                                               NaN   \n",
      "31                                               NaN   \n",
      "\n",
      "             Ad. scores for Exp. 991_26.835_HIP_0181  \\\n",
      "index_input                                            \n",
      "28                                               NaN   \n",
      "29                                               NaN   \n",
      "30                                               NaN   \n",
      "31                                               NaN   \n",
      "\n",
      "             Ad. scores for Exp. 991_26.835_HIP_0183  \\\n",
      "index_input                                            \n",
      "28                                               NaN   \n",
      "29                                               NaN   \n",
      "30                                               NaN   \n",
      "31                                               NaN   \n",
      "\n",
      "             Ad. scores for Exp. 991_26.835_HIP_0185  \\\n",
      "index_input                                            \n",
      "28                                               NaN   \n",
      "29                                               NaN   \n",
      "30                                               NaN   \n",
      "31                                               NaN   \n",
      "\n",
      "             Ad. scores for Exp. 991_26.835_HIP_0187  \\\n",
      "index_input                                            \n",
      "28                                               NaN   \n",
      "29                                               NaN   \n",
      "30                                               NaN   \n",
      "31                                               NaN   \n",
      "\n",
      "             Ad. scores for Exp. 991_26.835_HIP_0190  \\\n",
      "index_input                                            \n",
      "28                                               NaN   \n",
      "29                                               NaN   \n",
      "30                                               NaN   \n",
      "31                                               NaN   \n",
      "\n",
      "             Ad. scores for Exp. 991_26.835_HIP_0192  \\\n",
      "index_input                                            \n",
      "28                                               NaN   \n",
      "29                                               NaN   \n",
      "30                                               NaN   \n",
      "31                                               NaN   \n",
      "\n",
      "             Ad. scores for Exp. 991_31.6_HIP_0044  \\\n",
      "index_input                                          \n",
      "28                                             NaN   \n",
      "29                                             NaN   \n",
      "30                                             NaN   \n",
      "31                                             NaN   \n",
      "\n",
      "             Ad. scores for Exp. 991_37.8_HIP_0044    orfs  \n",
      "index_input                                                 \n",
      "28                                             NaN  R0010W  \n",
      "29                                             NaN  R0020C  \n",
      "30                                             NaN  R0030W  \n",
      "31                                             NaN  R0040C  \n",
      "\n",
      "[4 rows x 96 columns]\n"
     ]
    }
   ],
   "source": [
    "# Make sure everything translated ok\n",
    "t = looks_like_orf(original_data2['orfs'])\n",
    "print(original_data2.loc[~t,])"
   ]
  },
  {
   "cell_type": "code",
   "execution_count": 96,
   "metadata": {},
   "outputs": [],
   "source": [
    "original_data1 = original_data1.loc[t,:]\n",
    "original_data2 = original_data2.loc[t,:]"
   ]
  },
  {
   "cell_type": "code",
   "execution_count": 97,
   "metadata": {},
   "outputs": [],
   "source": [
    "original_data1.set_index('orfs', inplace=True)\n",
    "original_data2.set_index('orfs', inplace=True)\n",
    "original_data1.index.name='orf'\n",
    "original_data2.index.name='orf'"
   ]
  },
  {
   "cell_type": "code",
   "execution_count": 98,
   "metadata": {},
   "outputs": [],
   "source": [
    "original_data1['data'] = original_data1.mean(axis=1)\n",
    "original_data2['data'] = original_data2.mean(axis=1)"
   ]
  },
  {
   "cell_type": "code",
   "execution_count": 99,
   "metadata": {},
   "outputs": [],
   "source": [
    "original_data = original_data1[['data']].join(original_data2[['data']], how='outer', lsuffix='_hop', rsuffix='_hip')"
   ]
  },
  {
   "cell_type": "code",
   "execution_count": 100,
   "metadata": {},
   "outputs": [],
   "source": [
    "original_data = original_data.groupby(original_data.index).mean()"
   ]
  },
  {
   "cell_type": "code",
   "execution_count": 101,
   "metadata": {},
   "outputs": [],
   "source": [
    "dataset_ids = [1087, 16622]\n",
    "data_benomyl = original_data[['data_hop','data_hip']].copy()"
   ]
  },
  {
   "cell_type": "code",
   "execution_count": 102,
   "metadata": {},
   "outputs": [],
   "source": [
    "data_benomyl.columns = dataset_ids"
   ]
  },
  {
   "cell_type": "code",
   "execution_count": 103,
   "metadata": {},
   "outputs": [
    {
     "data": {
      "text/html": [
       "<div>\n",
       "<style scoped>\n",
       "    .dataframe tbody tr th:only-of-type {\n",
       "        vertical-align: middle;\n",
       "    }\n",
       "\n",
       "    .dataframe tbody tr th {\n",
       "        vertical-align: top;\n",
       "    }\n",
       "\n",
       "    .dataframe thead th {\n",
       "        text-align: right;\n",
       "    }\n",
       "</style>\n",
       "<table border=\"1\" class=\"dataframe\">\n",
       "  <thead>\n",
       "    <tr style=\"text-align: right;\">\n",
       "      <th></th>\n",
       "      <th>1087</th>\n",
       "      <th>16622</th>\n",
       "    </tr>\n",
       "    <tr>\n",
       "      <th>orf</th>\n",
       "      <th></th>\n",
       "      <th></th>\n",
       "    </tr>\n",
       "  </thead>\n",
       "  <tbody>\n",
       "    <tr>\n",
       "      <th>Q0010</th>\n",
       "      <td>NaN</td>\n",
       "      <td>NaN</td>\n",
       "    </tr>\n",
       "    <tr>\n",
       "      <th>Q0017</th>\n",
       "      <td>NaN</td>\n",
       "      <td>NaN</td>\n",
       "    </tr>\n",
       "    <tr>\n",
       "      <th>Q0032</th>\n",
       "      <td>NaN</td>\n",
       "      <td>NaN</td>\n",
       "    </tr>\n",
       "    <tr>\n",
       "      <th>Q0045</th>\n",
       "      <td>NaN</td>\n",
       "      <td>NaN</td>\n",
       "    </tr>\n",
       "    <tr>\n",
       "      <th>Q0050</th>\n",
       "      <td>NaN</td>\n",
       "      <td>NaN</td>\n",
       "    </tr>\n",
       "  </tbody>\n",
       "</table>\n",
       "</div>"
      ],
      "text/plain": [
       "       1087   16622\n",
       "orf                \n",
       "Q0010    NaN    NaN\n",
       "Q0017    NaN    NaN\n",
       "Q0032    NaN    NaN\n",
       "Q0045    NaN    NaN\n",
       "Q0050    NaN    NaN"
      ]
     },
     "execution_count": 103,
     "metadata": {},
     "output_type": "execute_result"
    }
   ],
   "source": [
    "data_benomyl.head()"
   ]
  },
  {
   "cell_type": "markdown",
   "metadata": {},
   "source": [
    "# Load and process data -- all others"
   ]
  },
  {
   "cell_type": "code",
   "execution_count": 104,
   "metadata": {},
   "outputs": [],
   "source": [
    "original_data1 = pd.read_csv('large_files/raw_data/HOP_scores.txt', sep='\\t')\n",
    "original_data2 = pd.read_csv('large_files/raw_data/HIP_scores.txt', sep='\\t')"
   ]
  },
  {
   "cell_type": "code",
   "execution_count": 105,
   "metadata": {},
   "outputs": [
    {
     "name": "stdout",
     "output_type": "stream",
     "text": [
      "Original data dimensions: 6681 x 5847\n",
      "Original data dimensions: 6681 x 5913\n"
     ]
    }
   ],
   "source": [
    "print('Original data dimensions: %d x %d' % (original_data1.shape))\n",
    "print('Original data dimensions: %d x %d' % (original_data2.shape))"
   ]
  },
  {
   "cell_type": "code",
   "execution_count": 106,
   "metadata": {},
   "outputs": [],
   "source": [
    "cols1 = [c for c in original_data1.columns.values if 'z-score' not in c]\n",
    "cols2 = [c for c in original_data2.columns.values if 'z-score' not in c]"
   ]
  },
  {
   "cell_type": "code",
   "execution_count": 107,
   "metadata": {},
   "outputs": [],
   "source": [
    "original_data1 = original_data1.loc[:, cols1]\n",
    "original_data2 = original_data2.loc[:, cols2]"
   ]
  },
  {
   "cell_type": "code",
   "execution_count": 108,
   "metadata": {},
   "outputs": [
    {
     "name": "stdout",
     "output_type": "stream",
     "text": [
      "Original data dimensions: 6681 x 2924\n",
      "Original data dimensions: 6681 x 2957\n"
     ]
    }
   ],
   "source": [
    "print('Original data dimensions: %d x %d' % (original_data1.shape))\n",
    "print('Original data dimensions: %d x %d' % (original_data2.shape))"
   ]
  },
  {
   "cell_type": "code",
   "execution_count": 109,
   "metadata": {},
   "outputs": [],
   "source": [
    "orf_col = 'Systematic Name'"
   ]
  },
  {
   "cell_type": "code",
   "execution_count": 110,
   "metadata": {},
   "outputs": [],
   "source": [
    "original_data1[orf_col] = original_data1[orf_col].astype(str)\n",
    "original_data2[orf_col] = original_data2[orf_col].astype(str)"
   ]
  },
  {
   "cell_type": "code",
   "execution_count": 111,
   "metadata": {},
   "outputs": [],
   "source": [
    "# Eliminate all white spaces & capitalize\n",
    "original_data1[orf_col] = clean_orf(original_data1[orf_col])\n",
    "original_data2[orf_col] = clean_orf(original_data2[orf_col])"
   ]
  },
  {
   "cell_type": "code",
   "execution_count": 112,
   "metadata": {},
   "outputs": [],
   "source": [
    "# Translate to ORFs \n",
    "original_data1['orfs'] = translate_sc(original_data1[orf_col], to='orf')\n",
    "original_data2['orfs'] = translate_sc(original_data2[orf_col], to='orf')"
   ]
  },
  {
   "cell_type": "code",
   "execution_count": 113,
   "metadata": {},
   "outputs": [],
   "source": [
    "original_data1.loc[original_data1['orfs'] == 'YBR160WAS','orfs'] = 'YBR160W'\n",
    "original_data2.loc[original_data2['orfs'] == 'YBR160WAS','orfs'] = 'YBR160W'"
   ]
  },
  {
   "cell_type": "code",
   "execution_count": 114,
   "metadata": {},
   "outputs": [
    {
     "name": "stdout",
     "output_type": "stream",
     "text": [
      "            Systematic Name  Ad. scores for Exp. 2_200_HOP_0020A  \\\n",
      "index_input                                                        \n",
      "28                   R0010W                                  NaN   \n",
      "29                   R0020C                                  NaN   \n",
      "30                   R0030W                                  NaN   \n",
      "31                   R0040C                                  NaN   \n",
      "\n",
      "             Ad. scores for Exp. 3_50_HOP_0078  \\\n",
      "index_input                                      \n",
      "28                                         NaN   \n",
      "29                                         NaN   \n",
      "30                                         NaN   \n",
      "31                                         NaN   \n",
      "\n",
      "             Ad. scores for Exp. 6_173.545_HOP_0090  \\\n",
      "index_input                                           \n",
      "28                                              NaN   \n",
      "29                                              NaN   \n",
      "30                                              NaN   \n",
      "31                                              NaN   \n",
      "\n",
      "             Ad. scores for Exp. 6_200_HOP_0114  \\\n",
      "index_input                                       \n",
      "28                                          NaN   \n",
      "29                                          NaN   \n",
      "30                                          NaN   \n",
      "31                                          NaN   \n",
      "\n",
      "             Ad. scores for Exp. 13_80_HOP_0088  \\\n",
      "index_input                                       \n",
      "28                                          NaN   \n",
      "29                                          NaN   \n",
      "30                                          NaN   \n",
      "31                                          NaN   \n",
      "\n",
      "             Ad. scores for Exp. 19_2.3_HOP_0088  \\\n",
      "index_input                                        \n",
      "28                                           NaN   \n",
      "29                                           NaN   \n",
      "30                                           NaN   \n",
      "31                                           NaN   \n",
      "\n",
      "             Ad. scores for Exp. 21_200_HOP_0076  \\\n",
      "index_input                                        \n",
      "28                                           NaN   \n",
      "29                                           NaN   \n",
      "30                                           NaN   \n",
      "31                                           NaN   \n",
      "\n",
      "             Ad. scores for Exp. 49_49.11_HOP_0018A  \\\n",
      "index_input                                           \n",
      "28                                              NaN   \n",
      "29                                              NaN   \n",
      "30                                              NaN   \n",
      "31                                              NaN   \n",
      "\n",
      "             Ad. scores for Exp. 49_60_HOP_0153  ...  \\\n",
      "index_input                                      ...   \n",
      "28                                          NaN  ...   \n",
      "29                                          NaN  ...   \n",
      "30                                          NaN  ...   \n",
      "31                                          NaN  ...   \n",
      "\n",
      "             Ad. scores for Exp. 5813_200_HOP_0193  \\\n",
      "index_input                                          \n",
      "28                                             NaN   \n",
      "29                                             NaN   \n",
      "30                                             NaN   \n",
      "31                                             NaN   \n",
      "\n",
      "             Ad. scores for Exp. 5814_200_HOP_0193  \\\n",
      "index_input                                          \n",
      "28                                             NaN   \n",
      "29                                             NaN   \n",
      "30                                             NaN   \n",
      "31                                             NaN   \n",
      "\n",
      "             Ad. scores for Exp. 5821_30_HOP_0191  \\\n",
      "index_input                                         \n",
      "28                                            NaN   \n",
      "29                                            NaN   \n",
      "30                                            NaN   \n",
      "31                                            NaN   \n",
      "\n",
      "             Ad. scores for Exp. 5821_45_HOP_0191  \\\n",
      "index_input                                         \n",
      "28                                            NaN   \n",
      "29                                            NaN   \n",
      "30                                            NaN   \n",
      "31                                            NaN   \n",
      "\n",
      "             Ad. scores for Exp. 5823_200_HOP_0188  \\\n",
      "index_input                                          \n",
      "28                                             NaN   \n",
      "29                                             NaN   \n",
      "30                                             NaN   \n",
      "31                                             NaN   \n",
      "\n",
      "             Ad. scores for Exp. 5989_200_HOP_0191  \\\n",
      "index_input                                          \n",
      "28                                             NaN   \n",
      "29                                             NaN   \n",
      "30                                             NaN   \n",
      "31                                             NaN   \n",
      "\n",
      "             Ad. scores for Exp. 5990_50.012_HOP_0193  \\\n",
      "index_input                                             \n",
      "28                                                NaN   \n",
      "29                                                NaN   \n",
      "30                                                NaN   \n",
      "31                                                NaN   \n",
      "\n",
      "             Ad. scores for Exp. 1129_30_HOP_0251  \\\n",
      "index_input                                         \n",
      "28                                            NaN   \n",
      "29                                            NaN   \n",
      "30                                            NaN   \n",
      "31                                            NaN   \n",
      "\n",
      "             Ad. scores for Exp. 1129_60_HOP_0251    orfs  \n",
      "index_input                                                \n",
      "28                                            NaN  R0010W  \n",
      "29                                            NaN  R0020C  \n",
      "30                                            NaN  R0030W  \n",
      "31                                            NaN  R0040C  \n",
      "\n",
      "[4 rows x 2925 columns]\n"
     ]
    }
   ],
   "source": [
    "# Make sure everything translated ok\n",
    "t = looks_like_orf(original_data1['orfs'])\n",
    "print(original_data1.loc[~t,])"
   ]
  },
  {
   "cell_type": "code",
   "execution_count": 115,
   "metadata": {},
   "outputs": [
    {
     "name": "stdout",
     "output_type": "stream",
     "text": [
      "            Systematic Name  Ad. scores for Exp. 2_200_HIP_0020A  \\\n",
      "index_input                                                        \n",
      "28                   R0010W                                  NaN   \n",
      "29                   R0020C                                  NaN   \n",
      "30                   R0030W                                  NaN   \n",
      "31                   R0040C                                  NaN   \n",
      "\n",
      "             Ad. scores for Exp. 3_50_HIP_0077  \\\n",
      "index_input                                      \n",
      "28                                         NaN   \n",
      "29                                         NaN   \n",
      "30                                         NaN   \n",
      "31                                         NaN   \n",
      "\n",
      "             Ad. scores for Exp. 6_173.545_HIP_0089  \\\n",
      "index_input                                           \n",
      "28                                              NaN   \n",
      "29                                              NaN   \n",
      "30                                              NaN   \n",
      "31                                              NaN   \n",
      "\n",
      "             Ad. scores for Exp. 6_200_HIP_0113  \\\n",
      "index_input                                       \n",
      "28                                          NaN   \n",
      "29                                          NaN   \n",
      "30                                          NaN   \n",
      "31                                          NaN   \n",
      "\n",
      "             Ad. scores for Exp. 13_80_HIP_0087  \\\n",
      "index_input                                       \n",
      "28                                          NaN   \n",
      "29                                          NaN   \n",
      "30                                          NaN   \n",
      "31                                          NaN   \n",
      "\n",
      "             MADL scores for Exp. 19_2.3_HIP_0087  \\\n",
      "index_input                                         \n",
      "28                                            NaN   \n",
      "29                                            NaN   \n",
      "30                                            NaN   \n",
      "31                                            NaN   \n",
      "\n",
      "             Ad. scores for Exp. 21_200_HIP_0075  \\\n",
      "index_input                                        \n",
      "28                                           NaN   \n",
      "29                                           NaN   \n",
      "30                                           NaN   \n",
      "31                                           NaN   \n",
      "\n",
      "             Ad. scores for Exp. 49_49.11_HIP_0018A  \\\n",
      "index_input                                           \n",
      "28                                              NaN   \n",
      "29                                              NaN   \n",
      "30                                              NaN   \n",
      "31                                              NaN   \n",
      "\n",
      "             Ad. scores for Exp. 49_60_HIP_0152  ...  \\\n",
      "index_input                                      ...   \n",
      "28                                          NaN  ...   \n",
      "29                                          NaN  ...   \n",
      "30                                          NaN  ...   \n",
      "31                                          NaN  ...   \n",
      "\n",
      "             Ad. scores for Exp. 5814_200_HIP_0192  \\\n",
      "index_input                                          \n",
      "28                                             NaN   \n",
      "29                                             NaN   \n",
      "30                                             NaN   \n",
      "31                                             NaN   \n",
      "\n",
      "             Ad. scores for Exp. 5821_30_HIP_0190  \\\n",
      "index_input                                         \n",
      "28                                            NaN   \n",
      "29                                            NaN   \n",
      "30                                            NaN   \n",
      "31                                            NaN   \n",
      "\n",
      "             Ad. scores for Exp. 5821_45_HIP_0190  \\\n",
      "index_input                                         \n",
      "28                                            NaN   \n",
      "29                                            NaN   \n",
      "30                                            NaN   \n",
      "31                                            NaN   \n",
      "\n",
      "             Ad. scores for Exp. 5823_200_HIP_0187  \\\n",
      "index_input                                          \n",
      "28                                             NaN   \n",
      "29                                             NaN   \n",
      "30                                             NaN   \n",
      "31                                             NaN   \n",
      "\n",
      "             Ad. scores for Exp. 5989_200_HIP_0190  \\\n",
      "index_input                                          \n",
      "28                                             NaN   \n",
      "29                                             NaN   \n",
      "30                                             NaN   \n",
      "31                                             NaN   \n",
      "\n",
      "             Ad. scores for Exp. 5990_50.012_HIP_0192  \\\n",
      "index_input                                             \n",
      "28                                                NaN   \n",
      "29                                                NaN   \n",
      "30                                                NaN   \n",
      "31                                                NaN   \n",
      "\n",
      "             Ad. scores for Exp. 1129_30_HIP_0250  \\\n",
      "index_input                                         \n",
      "28                                            NaN   \n",
      "29                                            NaN   \n",
      "30                                            NaN   \n",
      "31                                            NaN   \n",
      "\n",
      "             Ad. scores for Exp. 1129_60_HIP_0250  \\\n",
      "index_input                                         \n",
      "28                                            NaN   \n",
      "29                                            NaN   \n",
      "30                                            NaN   \n",
      "31                                            NaN   \n",
      "\n",
      "             Ad. scores for Exp. 6518_0.05_HIP_0223    orfs  \n",
      "index_input                                                  \n",
      "28                                              NaN  R0010W  \n",
      "29                                              NaN  R0020C  \n",
      "30                                              NaN  R0030W  \n",
      "31                                              NaN  R0040C  \n",
      "\n",
      "[4 rows x 2958 columns]\n"
     ]
    }
   ],
   "source": [
    "# Make sure everything translated ok\n",
    "t = looks_like_orf(original_data2['orfs'])\n",
    "print(original_data2.loc[~t,])"
   ]
  },
  {
   "cell_type": "code",
   "execution_count": 116,
   "metadata": {},
   "outputs": [],
   "source": [
    "original_data1 = original_data1.loc[t,:]\n",
    "original_data2 = original_data2.loc[t,:]"
   ]
  },
  {
   "cell_type": "code",
   "execution_count": 117,
   "metadata": {},
   "outputs": [],
   "source": [
    "original_data1.set_index('orfs', inplace=True)\n",
    "original_data2.set_index('orfs', inplace=True)\n",
    "original_data1.index.name='orf'\n",
    "original_data2.index.name='orf'"
   ]
  },
  {
   "cell_type": "code",
   "execution_count": 118,
   "metadata": {},
   "outputs": [],
   "source": [
    "original_data1.drop(columns=['Systematic Name'], inplace=True)"
   ]
  },
  {
   "cell_type": "code",
   "execution_count": 119,
   "metadata": {},
   "outputs": [],
   "source": [
    "original_data2.drop(columns=['Systematic Name'], inplace=True)"
   ]
  },
  {
   "cell_type": "markdown",
   "metadata": {},
   "source": [
    "### Map dataset IDs to data columns"
   ]
  },
  {
   "cell_type": "code",
   "execution_count": 120,
   "metadata": {},
   "outputs": [],
   "source": [
    "compound_map = pd.read_csv('extras/type_cmb_dose_dataset.txt', sep='\\t')"
   ]
  },
  {
   "cell_type": "code",
   "execution_count": 121,
   "metadata": {},
   "outputs": [
    {
     "data": {
      "text/html": [
       "<div>\n",
       "<style scoped>\n",
       "    .dataframe tbody tr th:only-of-type {\n",
       "        vertical-align: middle;\n",
       "    }\n",
       "\n",
       "    .dataframe tbody tr th {\n",
       "        vertical-align: top;\n",
       "    }\n",
       "\n",
       "    .dataframe thead th {\n",
       "        text-align: right;\n",
       "    }\n",
       "</style>\n",
       "<table border=\"1\" class=\"dataframe\">\n",
       "  <thead>\n",
       "    <tr style=\"text-align: right;\">\n",
       "      <th></th>\n",
       "      <th>Type</th>\n",
       "      <th>CMB</th>\n",
       "      <th>Dose</th>\n",
       "      <th>Dataset HOP</th>\n",
       "      <th>Dataset HIP</th>\n",
       "    </tr>\n",
       "  </thead>\n",
       "  <tbody>\n",
       "    <tr>\n",
       "      <th>188</th>\n",
       "      <td>Ad.</td>\n",
       "      <td>1084</td>\n",
       "      <td>0.0005</td>\n",
       "      <td>1226</td>\n",
       "      <td>12043</td>\n",
       "    </tr>\n",
       "  </tbody>\n",
       "</table>\n",
       "</div>"
      ],
      "text/plain": [
       "    Type   CMB    Dose  Dataset HOP  Dataset HIP\n",
       "188  Ad.  1084  0.0005         1226        12043"
      ]
     },
     "execution_count": 121,
     "metadata": {},
     "output_type": "execute_result"
    }
   ],
   "source": [
    "compound_map.loc[compound_map.loc[:,'Dataset HOP']==1226]"
   ]
  },
  {
   "cell_type": "code",
   "execution_count": 122,
   "metadata": {},
   "outputs": [],
   "source": [
    "dt_ids = []\n",
    "for s in original_data1.columns.values:\n",
    "    s_parts = re.split(' |_',s)\n",
    "    cmb = int(s_parts[4])\n",
    "    dose = float(s_parts[5])\n",
    "    \n",
    "    dt = compound_map.loc[(compound_map['CMB'] == cmb) & (round(compound_map['Dose'],4) == round(dose,4))]\n",
    "    if dt.shape[0] > 0:\n",
    "        dataset_id = dt['Dataset HOP'].values[0]\n",
    "    else:\n",
    "        dataset_id = np.nan\n",
    "    \n",
    "    dt_ids.append(dataset_id)\n"
   ]
  },
  {
   "cell_type": "code",
   "execution_count": 123,
   "metadata": {},
   "outputs": [],
   "source": [
    "t = original_data1.drop(columns=original_data1.columns[np.isnan(np.array(dt_ids))])"
   ]
  },
  {
   "cell_type": "code",
   "execution_count": 124,
   "metadata": {},
   "outputs": [],
   "source": [
    "dt_ids = np.array(dt_ids)[~np.isnan(np.array(dt_ids))]"
   ]
  },
  {
   "cell_type": "code",
   "execution_count": 125,
   "metadata": {},
   "outputs": [],
   "source": [
    "dt_ids = dt_ids.astype(int)"
   ]
  },
  {
   "cell_type": "code",
   "execution_count": 126,
   "metadata": {},
   "outputs": [],
   "source": [
    "t.columns = dt_ids"
   ]
  },
  {
   "cell_type": "code",
   "execution_count": 127,
   "metadata": {},
   "outputs": [],
   "source": [
    "# Average values for duplicated (replicated) datasets\n",
    "t = t.T\n",
    "t = t.groupby(t.index).mean().T"
   ]
  },
  {
   "cell_type": "code",
   "execution_count": 128,
   "metadata": {},
   "outputs": [
    {
     "data": {
      "text/plain": [
       "(6677, 245)"
      ]
     },
     "execution_count": 128,
     "metadata": {},
     "output_type": "execute_result"
    }
   ],
   "source": [
    "t.shape"
   ]
  },
  {
   "cell_type": "code",
   "execution_count": 129,
   "metadata": {},
   "outputs": [],
   "source": [
    "original_data1 = t.copy()"
   ]
  },
  {
   "cell_type": "code",
   "execution_count": 130,
   "metadata": {},
   "outputs": [],
   "source": [
    "dt_ids = []\n",
    "for s in original_data2.columns.values:\n",
    "    s_parts = re.split(' |_',s)\n",
    "    cmb = int(s_parts[4])\n",
    "    dose = float(s_parts[5])\n",
    "    \n",
    "    dt = compound_map.loc[(compound_map['CMB'] == cmb) & (round(compound_map['Dose'],4) == round(dose,4))]\n",
    "    if dt.shape[0] > 0:\n",
    "        dataset_id = dt['Dataset HIP'].values[0]\n",
    "    else:\n",
    "        dataset_id = np.nan\n",
    "    \n",
    "    dt_ids.append(dataset_id)\n"
   ]
  },
  {
   "cell_type": "code",
   "execution_count": 131,
   "metadata": {},
   "outputs": [],
   "source": [
    "t = original_data2.drop(columns=original_data2.columns[np.isnan(np.array(dt_ids))])"
   ]
  },
  {
   "cell_type": "code",
   "execution_count": 132,
   "metadata": {},
   "outputs": [],
   "source": [
    "dt_ids = np.array(dt_ids)[~np.isnan(np.array(dt_ids))]"
   ]
  },
  {
   "cell_type": "code",
   "execution_count": 133,
   "metadata": {},
   "outputs": [],
   "source": [
    "dt_ids = dt_ids.astype(int)"
   ]
  },
  {
   "cell_type": "code",
   "execution_count": 134,
   "metadata": {},
   "outputs": [],
   "source": [
    "t.columns = dt_ids"
   ]
  },
  {
   "cell_type": "code",
   "execution_count": 135,
   "metadata": {},
   "outputs": [],
   "source": [
    "# Average values for duplicated (replicated) datasets\n",
    "t = t.T\n",
    "t = t.groupby(t.index).mean().T"
   ]
  },
  {
   "cell_type": "code",
   "execution_count": 136,
   "metadata": {},
   "outputs": [
    {
     "data": {
      "text/plain": [
       "(6677, 224)"
      ]
     },
     "execution_count": 136,
     "metadata": {},
     "output_type": "execute_result"
    }
   ],
   "source": [
    "t.shape"
   ]
  },
  {
   "cell_type": "code",
   "execution_count": 137,
   "metadata": {},
   "outputs": [],
   "source": [
    "original_data2 = t.copy()"
   ]
  },
  {
   "cell_type": "code",
   "execution_count": 138,
   "metadata": {},
   "outputs": [
    {
     "data": {
      "text/plain": [
       "(6677, 224)"
      ]
     },
     "execution_count": 138,
     "metadata": {},
     "output_type": "execute_result"
    }
   ],
   "source": [
    "original_data2.shape"
   ]
  },
  {
   "cell_type": "markdown",
   "metadata": {},
   "source": [
    "### Average and merge"
   ]
  },
  {
   "cell_type": "code",
   "execution_count": 139,
   "metadata": {},
   "outputs": [],
   "source": [
    "original_data1 = original_data1.groupby(original_data1.index).mean()"
   ]
  },
  {
   "cell_type": "code",
   "execution_count": 140,
   "metadata": {},
   "outputs": [],
   "source": [
    "original_data2 = original_data2.groupby(original_data2.index).mean()"
   ]
  },
  {
   "cell_type": "code",
   "execution_count": 141,
   "metadata": {},
   "outputs": [],
   "source": [
    "original_data = original_data1.join(original_data2, how='outer', lsuffix='_hop', rsuffix='_hip')"
   ]
  },
  {
   "cell_type": "code",
   "execution_count": 146,
   "metadata": {},
   "outputs": [],
   "source": [
    "data_final = data_benomyl.join(original_data, how='outer', lsuffix='_benomyl', rsuffix='_other')"
   ]
  },
  {
   "cell_type": "code",
   "execution_count": 147,
   "metadata": {},
   "outputs": [
    {
     "data": {
      "text/plain": [
       "(6620, 471)"
      ]
     },
     "execution_count": 147,
     "metadata": {},
     "output_type": "execute_result"
    }
   ],
   "source": [
    "data_final.shape"
   ]
  },
  {
   "cell_type": "code",
   "execution_count": 148,
   "metadata": {},
   "outputs": [
    {
     "data": {
      "text/plain": [
       "(6620, 2)"
      ]
     },
     "execution_count": 148,
     "metadata": {},
     "output_type": "execute_result"
    }
   ],
   "source": [
    "data_benomyl.shape"
   ]
  },
  {
   "cell_type": "code",
   "execution_count": 149,
   "metadata": {},
   "outputs": [
    {
     "data": {
      "text/plain": [
       "(5864, 469)"
      ]
     },
     "execution_count": 149,
     "metadata": {},
     "output_type": "execute_result"
    }
   ],
   "source": [
    "original_data.shape"
   ]
  },
  {
   "cell_type": "code",
   "execution_count": 156,
   "metadata": {},
   "outputs": [],
   "source": [
    "# Remove ORFs that are all NaNs\n",
    "num_vals = data_final.notnull().sum(axis=1)"
   ]
  },
  {
   "cell_type": "code",
   "execution_count": 157,
   "metadata": {},
   "outputs": [],
   "source": [
    "data_final = data_final.loc[num_vals>0,:]"
   ]
  },
  {
   "cell_type": "code",
   "execution_count": 158,
   "metadata": {},
   "outputs": [
    {
     "data": {
      "text/plain": [
       "(5867, 471)"
      ]
     },
     "execution_count": 158,
     "metadata": {},
     "output_type": "execute_result"
    }
   ],
   "source": [
    "data_final.shape"
   ]
  },
  {
   "cell_type": "markdown",
   "metadata": {},
   "source": [
    "# Prepare final dataset"
   ]
  },
  {
   "cell_type": "code",
   "execution_count": 159,
   "metadata": {},
   "outputs": [],
   "source": [
    "data = data_final.copy()"
   ]
  },
  {
   "cell_type": "code",
   "execution_count": 160,
   "metadata": {},
   "outputs": [],
   "source": [
    "dataset_ids = data_final.columns.values\n",
    "datasets = datasets.reindex(index=dataset_ids)"
   ]
  },
  {
   "cell_type": "code",
   "execution_count": 161,
   "metadata": {},
   "outputs": [],
   "source": [
    "lst = [datasets.index.values, ['value']*datasets.shape[0]]\n",
    "tuples = list(zip(*lst))\n",
    "idx = pd.MultiIndex.from_tuples(tuples, names=['dataset_id','data_type'])\n",
    "data.columns = idx"
   ]
  },
  {
   "cell_type": "code",
   "execution_count": 162,
   "metadata": {},
   "outputs": [
    {
     "data": {
      "text/html": [
       "<div>\n",
       "<style scoped>\n",
       "    .dataframe tbody tr th:only-of-type {\n",
       "        vertical-align: middle;\n",
       "    }\n",
       "\n",
       "    .dataframe tbody tr th {\n",
       "        vertical-align: top;\n",
       "    }\n",
       "\n",
       "    .dataframe thead tr th {\n",
       "        text-align: left;\n",
       "    }\n",
       "\n",
       "    .dataframe thead tr:last-of-type th {\n",
       "        text-align: right;\n",
       "    }\n",
       "</style>\n",
       "<table border=\"1\" class=\"dataframe\">\n",
       "  <thead>\n",
       "    <tr>\n",
       "      <th>dataset_id</th>\n",
       "      <th>1087</th>\n",
       "      <th>16622</th>\n",
       "      <th>456</th>\n",
       "      <th>1052</th>\n",
       "      <th>1053</th>\n",
       "      <th>1054</th>\n",
       "      <th>1055</th>\n",
       "      <th>1056</th>\n",
       "      <th>1057</th>\n",
       "      <th>1058</th>\n",
       "      <th>...</th>\n",
       "      <th>12118</th>\n",
       "      <th>12119</th>\n",
       "      <th>16666</th>\n",
       "      <th>16667</th>\n",
       "      <th>16668</th>\n",
       "      <th>16669</th>\n",
       "      <th>16670</th>\n",
       "      <th>16671</th>\n",
       "      <th>16672</th>\n",
       "      <th>16673</th>\n",
       "    </tr>\n",
       "    <tr>\n",
       "      <th>data_type</th>\n",
       "      <th>value</th>\n",
       "      <th>value</th>\n",
       "      <th>value</th>\n",
       "      <th>value</th>\n",
       "      <th>value</th>\n",
       "      <th>value</th>\n",
       "      <th>value</th>\n",
       "      <th>value</th>\n",
       "      <th>value</th>\n",
       "      <th>value</th>\n",
       "      <th>...</th>\n",
       "      <th>value</th>\n",
       "      <th>value</th>\n",
       "      <th>value</th>\n",
       "      <th>value</th>\n",
       "      <th>value</th>\n",
       "      <th>value</th>\n",
       "      <th>value</th>\n",
       "      <th>value</th>\n",
       "      <th>value</th>\n",
       "      <th>value</th>\n",
       "    </tr>\n",
       "    <tr>\n",
       "      <th>orf</th>\n",
       "      <th></th>\n",
       "      <th></th>\n",
       "      <th></th>\n",
       "      <th></th>\n",
       "      <th></th>\n",
       "      <th></th>\n",
       "      <th></th>\n",
       "      <th></th>\n",
       "      <th></th>\n",
       "      <th></th>\n",
       "      <th></th>\n",
       "      <th></th>\n",
       "      <th></th>\n",
       "      <th></th>\n",
       "      <th></th>\n",
       "      <th></th>\n",
       "      <th></th>\n",
       "      <th></th>\n",
       "      <th></th>\n",
       "      <th></th>\n",
       "      <th></th>\n",
       "    </tr>\n",
       "  </thead>\n",
       "  <tbody>\n",
       "    <tr>\n",
       "      <th>YAL001C</th>\n",
       "      <td>0.153577</td>\n",
       "      <td>-0.039887</td>\n",
       "      <td>0.065251</td>\n",
       "      <td>-1.965097</td>\n",
       "      <td>-0.004813</td>\n",
       "      <td>-0.032265</td>\n",
       "      <td>-0.941140</td>\n",
       "      <td>-0.076135</td>\n",
       "      <td>0.072909</td>\n",
       "      <td>-1.365976</td>\n",
       "      <td>...</td>\n",
       "      <td>-0.129320</td>\n",
       "      <td>-0.062104</td>\n",
       "      <td>-0.577013</td>\n",
       "      <td>0.140638</td>\n",
       "      <td>-1.327481</td>\n",
       "      <td>-0.111386</td>\n",
       "      <td>0.666092</td>\n",
       "      <td>0.906919</td>\n",
       "      <td>0.890081</td>\n",
       "      <td>0.779373</td>\n",
       "    </tr>\n",
       "    <tr>\n",
       "      <th>YAL002W</th>\n",
       "      <td>-0.093247</td>\n",
       "      <td>0.261198</td>\n",
       "      <td>-7.264610</td>\n",
       "      <td>-7.892758</td>\n",
       "      <td>0.107382</td>\n",
       "      <td>-10.748092</td>\n",
       "      <td>-0.228372</td>\n",
       "      <td>0.014193</td>\n",
       "      <td>-7.588114</td>\n",
       "      <td>0.001553</td>\n",
       "      <td>...</td>\n",
       "      <td>1.916211</td>\n",
       "      <td>-0.066242</td>\n",
       "      <td>-0.418985</td>\n",
       "      <td>-2.554950</td>\n",
       "      <td>2.632633</td>\n",
       "      <td>0.013553</td>\n",
       "      <td>-0.420891</td>\n",
       "      <td>0.055596</td>\n",
       "      <td>0.270976</td>\n",
       "      <td>1.123511</td>\n",
       "    </tr>\n",
       "    <tr>\n",
       "      <th>YAL003W</th>\n",
       "      <td>NaN</td>\n",
       "      <td>0.126743</td>\n",
       "      <td>NaN</td>\n",
       "      <td>NaN</td>\n",
       "      <td>NaN</td>\n",
       "      <td>NaN</td>\n",
       "      <td>NaN</td>\n",
       "      <td>NaN</td>\n",
       "      <td>NaN</td>\n",
       "      <td>NaN</td>\n",
       "      <td>...</td>\n",
       "      <td>0.088859</td>\n",
       "      <td>-0.684067</td>\n",
       "      <td>-0.053482</td>\n",
       "      <td>1.291628</td>\n",
       "      <td>-0.654019</td>\n",
       "      <td>0.356714</td>\n",
       "      <td>0.877756</td>\n",
       "      <td>0.014747</td>\n",
       "      <td>1.142378</td>\n",
       "      <td>-0.021768</td>\n",
       "    </tr>\n",
       "    <tr>\n",
       "      <th>YAL004W</th>\n",
       "      <td>0.195749</td>\n",
       "      <td>0.303275</td>\n",
       "      <td>-0.440025</td>\n",
       "      <td>-0.445849</td>\n",
       "      <td>0.054191</td>\n",
       "      <td>0.328757</td>\n",
       "      <td>-0.044282</td>\n",
       "      <td>-0.161686</td>\n",
       "      <td>-0.006767</td>\n",
       "      <td>-0.019377</td>\n",
       "      <td>...</td>\n",
       "      <td>-0.479153</td>\n",
       "      <td>-0.057955</td>\n",
       "      <td>1.159240</td>\n",
       "      <td>1.278874</td>\n",
       "      <td>1.295541</td>\n",
       "      <td>2.606816</td>\n",
       "      <td>0.901954</td>\n",
       "      <td>-0.223452</td>\n",
       "      <td>-6.253787</td>\n",
       "      <td>-0.028462</td>\n",
       "    </tr>\n",
       "    <tr>\n",
       "      <th>YAL005C</th>\n",
       "      <td>0.105597</td>\n",
       "      <td>-1.476444</td>\n",
       "      <td>0.886466</td>\n",
       "      <td>-0.108302</td>\n",
       "      <td>0.081409</td>\n",
       "      <td>-0.796944</td>\n",
       "      <td>-0.108440</td>\n",
       "      <td>-0.015199</td>\n",
       "      <td>0.045282</td>\n",
       "      <td>0.140557</td>\n",
       "      <td>...</td>\n",
       "      <td>-0.158417</td>\n",
       "      <td>0.223860</td>\n",
       "      <td>-3.966082</td>\n",
       "      <td>-10.466046</td>\n",
       "      <td>-2.659423</td>\n",
       "      <td>1.181533</td>\n",
       "      <td>-0.863032</td>\n",
       "      <td>-0.057493</td>\n",
       "      <td>-0.206393</td>\n",
       "      <td>-7.498802</td>\n",
       "    </tr>\n",
       "  </tbody>\n",
       "</table>\n",
       "<p>5 rows × 471 columns</p>\n",
       "</div>"
      ],
      "text/plain": [
       "dataset_id     1087      16622     456       1052      1053       1054   \\\n",
       "data_type      value     value     value     value     value      value   \n",
       "orf                                                                       \n",
       "YAL001C     0.153577 -0.039887  0.065251 -1.965097 -0.004813  -0.032265   \n",
       "YAL002W    -0.093247  0.261198 -7.264610 -7.892758  0.107382 -10.748092   \n",
       "YAL003W          NaN  0.126743       NaN       NaN       NaN        NaN   \n",
       "YAL004W     0.195749  0.303275 -0.440025 -0.445849  0.054191   0.328757   \n",
       "YAL005C     0.105597 -1.476444  0.886466 -0.108302  0.081409  -0.796944   \n",
       "\n",
       "dataset_id     1055      1056      1057      1058   ...     12118     12119  \\\n",
       "data_type      value     value     value     value  ...     value     value   \n",
       "orf                                                 ...                       \n",
       "YAL001C    -0.941140 -0.076135  0.072909 -1.365976  ... -0.129320 -0.062104   \n",
       "YAL002W    -0.228372  0.014193 -7.588114  0.001553  ...  1.916211 -0.066242   \n",
       "YAL003W          NaN       NaN       NaN       NaN  ...  0.088859 -0.684067   \n",
       "YAL004W    -0.044282 -0.161686 -0.006767 -0.019377  ... -0.479153 -0.057955   \n",
       "YAL005C    -0.108440 -0.015199  0.045282  0.140557  ... -0.158417  0.223860   \n",
       "\n",
       "dataset_id     16666      16667     16668     16669     16670     16671  \\\n",
       "data_type      value      value     value     value     value     value   \n",
       "orf                                                                       \n",
       "YAL001C    -0.577013   0.140638 -1.327481 -0.111386  0.666092  0.906919   \n",
       "YAL002W    -0.418985  -2.554950  2.632633  0.013553 -0.420891  0.055596   \n",
       "YAL003W    -0.053482   1.291628 -0.654019  0.356714  0.877756  0.014747   \n",
       "YAL004W     1.159240   1.278874  1.295541  2.606816  0.901954 -0.223452   \n",
       "YAL005C    -3.966082 -10.466046 -2.659423  1.181533 -0.863032 -0.057493   \n",
       "\n",
       "dataset_id     16672     16673  \n",
       "data_type      value     value  \n",
       "orf                             \n",
       "YAL001C     0.890081  0.779373  \n",
       "YAL002W     0.270976  1.123511  \n",
       "YAL003W     1.142378 -0.021768  \n",
       "YAL004W    -6.253787 -0.028462  \n",
       "YAL005C    -0.206393 -7.498802  \n",
       "\n",
       "[5 rows x 471 columns]"
      ]
     },
     "execution_count": 162,
     "metadata": {},
     "output_type": "execute_result"
    }
   ],
   "source": [
    "data.head()"
   ]
  },
  {
   "cell_type": "markdown",
   "metadata": {},
   "source": [
    "## Subset to the genes currently in SGD"
   ]
  },
  {
   "cell_type": "code",
   "execution_count": 163,
   "metadata": {},
   "outputs": [
    {
     "name": "stdout",
     "output_type": "stream",
     "text": [
      "ORFs missing from SGD: 24\n"
     ]
    }
   ],
   "source": [
    "genes = pd.read_csv(path_to_genes, sep='\\t', index_col='id')\n",
    "genes = genes.reset_index().set_index('systematic_name')\n",
    "gene_ids = genes.reindex(index=data.index.values)['id'].values\n",
    "num_missing = np.sum(np.isnan(gene_ids))\n",
    "print('ORFs missing from SGD: %d' % num_missing)"
   ]
  },
  {
   "cell_type": "code",
   "execution_count": 164,
   "metadata": {},
   "outputs": [
    {
     "data": {
      "text/html": [
       "<div>\n",
       "<style scoped>\n",
       "    .dataframe tbody tr th:only-of-type {\n",
       "        vertical-align: middle;\n",
       "    }\n",
       "\n",
       "    .dataframe tbody tr th {\n",
       "        vertical-align: top;\n",
       "    }\n",
       "\n",
       "    .dataframe thead tr th {\n",
       "        text-align: left;\n",
       "    }\n",
       "\n",
       "    .dataframe thead tr:last-of-type th {\n",
       "        text-align: right;\n",
       "    }\n",
       "</style>\n",
       "<table border=\"1\" class=\"dataframe\">\n",
       "  <thead>\n",
       "    <tr>\n",
       "      <th></th>\n",
       "      <th>dataset_id</th>\n",
       "      <th>1087</th>\n",
       "      <th>16622</th>\n",
       "      <th>456</th>\n",
       "      <th>1052</th>\n",
       "      <th>1053</th>\n",
       "      <th>1054</th>\n",
       "      <th>1055</th>\n",
       "      <th>1056</th>\n",
       "      <th>1057</th>\n",
       "      <th>1058</th>\n",
       "      <th>...</th>\n",
       "      <th>12118</th>\n",
       "      <th>12119</th>\n",
       "      <th>16666</th>\n",
       "      <th>16667</th>\n",
       "      <th>16668</th>\n",
       "      <th>16669</th>\n",
       "      <th>16670</th>\n",
       "      <th>16671</th>\n",
       "      <th>16672</th>\n",
       "      <th>16673</th>\n",
       "    </tr>\n",
       "    <tr>\n",
       "      <th></th>\n",
       "      <th>data_type</th>\n",
       "      <th>value</th>\n",
       "      <th>value</th>\n",
       "      <th>value</th>\n",
       "      <th>value</th>\n",
       "      <th>value</th>\n",
       "      <th>value</th>\n",
       "      <th>value</th>\n",
       "      <th>value</th>\n",
       "      <th>value</th>\n",
       "      <th>value</th>\n",
       "      <th>...</th>\n",
       "      <th>value</th>\n",
       "      <th>value</th>\n",
       "      <th>value</th>\n",
       "      <th>value</th>\n",
       "      <th>value</th>\n",
       "      <th>value</th>\n",
       "      <th>value</th>\n",
       "      <th>value</th>\n",
       "      <th>value</th>\n",
       "      <th>value</th>\n",
       "    </tr>\n",
       "    <tr>\n",
       "      <th>gene_id</th>\n",
       "      <th>orf</th>\n",
       "      <th></th>\n",
       "      <th></th>\n",
       "      <th></th>\n",
       "      <th></th>\n",
       "      <th></th>\n",
       "      <th></th>\n",
       "      <th></th>\n",
       "      <th></th>\n",
       "      <th></th>\n",
       "      <th></th>\n",
       "      <th></th>\n",
       "      <th></th>\n",
       "      <th></th>\n",
       "      <th></th>\n",
       "      <th></th>\n",
       "      <th></th>\n",
       "      <th></th>\n",
       "      <th></th>\n",
       "      <th></th>\n",
       "      <th></th>\n",
       "      <th></th>\n",
       "    </tr>\n",
       "  </thead>\n",
       "  <tbody>\n",
       "    <tr>\n",
       "      <th>1</th>\n",
       "      <th>YAL001C</th>\n",
       "      <td>0.153577</td>\n",
       "      <td>-0.039887</td>\n",
       "      <td>0.065251</td>\n",
       "      <td>-1.965097</td>\n",
       "      <td>-0.004813</td>\n",
       "      <td>-0.032265</td>\n",
       "      <td>-0.941140</td>\n",
       "      <td>-0.076135</td>\n",
       "      <td>0.072909</td>\n",
       "      <td>-1.365976</td>\n",
       "      <td>...</td>\n",
       "      <td>-0.129320</td>\n",
       "      <td>-0.062104</td>\n",
       "      <td>-0.577013</td>\n",
       "      <td>0.140638</td>\n",
       "      <td>-1.327481</td>\n",
       "      <td>-0.111386</td>\n",
       "      <td>0.666092</td>\n",
       "      <td>0.906919</td>\n",
       "      <td>0.890081</td>\n",
       "      <td>0.779373</td>\n",
       "    </tr>\n",
       "    <tr>\n",
       "      <th>2</th>\n",
       "      <th>YAL002W</th>\n",
       "      <td>-0.093247</td>\n",
       "      <td>0.261198</td>\n",
       "      <td>-7.264610</td>\n",
       "      <td>-7.892758</td>\n",
       "      <td>0.107382</td>\n",
       "      <td>-10.748092</td>\n",
       "      <td>-0.228372</td>\n",
       "      <td>0.014193</td>\n",
       "      <td>-7.588114</td>\n",
       "      <td>0.001553</td>\n",
       "      <td>...</td>\n",
       "      <td>1.916211</td>\n",
       "      <td>-0.066242</td>\n",
       "      <td>-0.418985</td>\n",
       "      <td>-2.554950</td>\n",
       "      <td>2.632633</td>\n",
       "      <td>0.013553</td>\n",
       "      <td>-0.420891</td>\n",
       "      <td>0.055596</td>\n",
       "      <td>0.270976</td>\n",
       "      <td>1.123511</td>\n",
       "    </tr>\n",
       "    <tr>\n",
       "      <th>3</th>\n",
       "      <th>YAL003W</th>\n",
       "      <td>NaN</td>\n",
       "      <td>0.126743</td>\n",
       "      <td>NaN</td>\n",
       "      <td>NaN</td>\n",
       "      <td>NaN</td>\n",
       "      <td>NaN</td>\n",
       "      <td>NaN</td>\n",
       "      <td>NaN</td>\n",
       "      <td>NaN</td>\n",
       "      <td>NaN</td>\n",
       "      <td>...</td>\n",
       "      <td>0.088859</td>\n",
       "      <td>-0.684067</td>\n",
       "      <td>-0.053482</td>\n",
       "      <td>1.291628</td>\n",
       "      <td>-0.654019</td>\n",
       "      <td>0.356714</td>\n",
       "      <td>0.877756</td>\n",
       "      <td>0.014747</td>\n",
       "      <td>1.142378</td>\n",
       "      <td>-0.021768</td>\n",
       "    </tr>\n",
       "    <tr>\n",
       "      <th>1863</th>\n",
       "      <th>YAL004W</th>\n",
       "      <td>0.195749</td>\n",
       "      <td>0.303275</td>\n",
       "      <td>-0.440025</td>\n",
       "      <td>-0.445849</td>\n",
       "      <td>0.054191</td>\n",
       "      <td>0.328757</td>\n",
       "      <td>-0.044282</td>\n",
       "      <td>-0.161686</td>\n",
       "      <td>-0.006767</td>\n",
       "      <td>-0.019377</td>\n",
       "      <td>...</td>\n",
       "      <td>-0.479153</td>\n",
       "      <td>-0.057955</td>\n",
       "      <td>1.159240</td>\n",
       "      <td>1.278874</td>\n",
       "      <td>1.295541</td>\n",
       "      <td>2.606816</td>\n",
       "      <td>0.901954</td>\n",
       "      <td>-0.223452</td>\n",
       "      <td>-6.253787</td>\n",
       "      <td>-0.028462</td>\n",
       "    </tr>\n",
       "    <tr>\n",
       "      <th>4</th>\n",
       "      <th>YAL005C</th>\n",
       "      <td>0.105597</td>\n",
       "      <td>-1.476444</td>\n",
       "      <td>0.886466</td>\n",
       "      <td>-0.108302</td>\n",
       "      <td>0.081409</td>\n",
       "      <td>-0.796944</td>\n",
       "      <td>-0.108440</td>\n",
       "      <td>-0.015199</td>\n",
       "      <td>0.045282</td>\n",
       "      <td>0.140557</td>\n",
       "      <td>...</td>\n",
       "      <td>-0.158417</td>\n",
       "      <td>0.223860</td>\n",
       "      <td>-3.966082</td>\n",
       "      <td>-10.466046</td>\n",
       "      <td>-2.659423</td>\n",
       "      <td>1.181533</td>\n",
       "      <td>-0.863032</td>\n",
       "      <td>-0.057493</td>\n",
       "      <td>-0.206393</td>\n",
       "      <td>-7.498802</td>\n",
       "    </tr>\n",
       "  </tbody>\n",
       "</table>\n",
       "<p>5 rows × 471 columns</p>\n",
       "</div>"
      ],
      "text/plain": [
       "dataset_id          1087      16622     456       1052      1053       1054   \\\n",
       "data_type           value     value     value     value     value      value   \n",
       "gene_id orf                                                                    \n",
       "1       YAL001C  0.153577 -0.039887  0.065251 -1.965097 -0.004813  -0.032265   \n",
       "2       YAL002W -0.093247  0.261198 -7.264610 -7.892758  0.107382 -10.748092   \n",
       "3       YAL003W       NaN  0.126743       NaN       NaN       NaN        NaN   \n",
       "1863    YAL004W  0.195749  0.303275 -0.440025 -0.445849  0.054191   0.328757   \n",
       "4       YAL005C  0.105597 -1.476444  0.886466 -0.108302  0.081409  -0.796944   \n",
       "\n",
       "dataset_id          1055      1056      1057      1058   ...     12118  \\\n",
       "data_type           value     value     value     value  ...     value   \n",
       "gene_id orf                                              ...             \n",
       "1       YAL001C -0.941140 -0.076135  0.072909 -1.365976  ... -0.129320   \n",
       "2       YAL002W -0.228372  0.014193 -7.588114  0.001553  ...  1.916211   \n",
       "3       YAL003W       NaN       NaN       NaN       NaN  ...  0.088859   \n",
       "1863    YAL004W -0.044282 -0.161686 -0.006767 -0.019377  ... -0.479153   \n",
       "4       YAL005C -0.108440 -0.015199  0.045282  0.140557  ... -0.158417   \n",
       "\n",
       "dataset_id          12119     16666      16667     16668     16669     16670  \\\n",
       "data_type           value     value      value     value     value     value   \n",
       "gene_id orf                                                                    \n",
       "1       YAL001C -0.062104 -0.577013   0.140638 -1.327481 -0.111386  0.666092   \n",
       "2       YAL002W -0.066242 -0.418985  -2.554950  2.632633  0.013553 -0.420891   \n",
       "3       YAL003W -0.684067 -0.053482   1.291628 -0.654019  0.356714  0.877756   \n",
       "1863    YAL004W -0.057955  1.159240   1.278874  1.295541  2.606816  0.901954   \n",
       "4       YAL005C  0.223860 -3.966082 -10.466046 -2.659423  1.181533 -0.863032   \n",
       "\n",
       "dataset_id          16671     16672     16673  \n",
       "data_type           value     value     value  \n",
       "gene_id orf                                    \n",
       "1       YAL001C  0.906919  0.890081  0.779373  \n",
       "2       YAL002W  0.055596  0.270976  1.123511  \n",
       "3       YAL003W  0.014747  1.142378 -0.021768  \n",
       "1863    YAL004W -0.223452 -6.253787 -0.028462  \n",
       "4       YAL005C -0.057493 -0.206393 -7.498802  \n",
       "\n",
       "[5 rows x 471 columns]"
      ]
     },
     "execution_count": 164,
     "metadata": {},
     "output_type": "execute_result"
    }
   ],
   "source": [
    "data['gene_id'] = gene_ids\n",
    "data = data.loc[data['gene_id'].notnull()]\n",
    "data['gene_id'] = data['gene_id'].astype(int)\n",
    "data = data.reset_index().set_index(['gene_id','orf'])\n",
    "\n",
    "data.head()"
   ]
  },
  {
   "cell_type": "markdown",
   "metadata": {},
   "source": [
    "# Normalize"
   ]
  },
  {
   "cell_type": "code",
   "execution_count": 165,
   "metadata": {},
   "outputs": [],
   "source": [
    "data_norm = normalize_phenotypic_scores(data, has_tested=True)"
   ]
  },
  {
   "cell_type": "code",
   "execution_count": 166,
   "metadata": {},
   "outputs": [],
   "source": [
    "# Assign proper column names\n",
    "lst = [datasets.index.values, ['valuez']*datasets.shape[0]]\n",
    "tuples = list(zip(*lst))\n",
    "idx = pd.MultiIndex.from_tuples(tuples, names=['dataset_id','data_type'])\n",
    "data_norm.columns = idx"
   ]
  },
  {
   "cell_type": "code",
   "execution_count": 167,
   "metadata": {},
   "outputs": [
    {
     "data": {
      "text/html": [
       "<div>\n",
       "<style scoped>\n",
       "    .dataframe tbody tr th:only-of-type {\n",
       "        vertical-align: middle;\n",
       "    }\n",
       "\n",
       "    .dataframe tbody tr th {\n",
       "        vertical-align: top;\n",
       "    }\n",
       "\n",
       "    .dataframe thead tr th {\n",
       "        text-align: left;\n",
       "    }\n",
       "\n",
       "    .dataframe thead tr:last-of-type th {\n",
       "        text-align: right;\n",
       "    }\n",
       "</style>\n",
       "<table border=\"1\" class=\"dataframe\">\n",
       "  <thead>\n",
       "    <tr>\n",
       "      <th></th>\n",
       "      <th>dataset_id</th>\n",
       "      <th>1087</th>\n",
       "      <th>16622</th>\n",
       "      <th>456</th>\n",
       "      <th>1052</th>\n",
       "      <th>1053</th>\n",
       "      <th>1054</th>\n",
       "      <th>1055</th>\n",
       "      <th>1056</th>\n",
       "      <th>1057</th>\n",
       "      <th>1058</th>\n",
       "      <th>...</th>\n",
       "      <th>12118</th>\n",
       "      <th>12119</th>\n",
       "      <th>16666</th>\n",
       "      <th>16667</th>\n",
       "      <th>16668</th>\n",
       "      <th>16669</th>\n",
       "      <th>16670</th>\n",
       "      <th>16671</th>\n",
       "      <th>16672</th>\n",
       "      <th>16673</th>\n",
       "    </tr>\n",
       "    <tr>\n",
       "      <th></th>\n",
       "      <th>data_type</th>\n",
       "      <th>value</th>\n",
       "      <th>value</th>\n",
       "      <th>value</th>\n",
       "      <th>value</th>\n",
       "      <th>value</th>\n",
       "      <th>value</th>\n",
       "      <th>value</th>\n",
       "      <th>value</th>\n",
       "      <th>value</th>\n",
       "      <th>value</th>\n",
       "      <th>...</th>\n",
       "      <th>valuez</th>\n",
       "      <th>valuez</th>\n",
       "      <th>valuez</th>\n",
       "      <th>valuez</th>\n",
       "      <th>valuez</th>\n",
       "      <th>valuez</th>\n",
       "      <th>valuez</th>\n",
       "      <th>valuez</th>\n",
       "      <th>valuez</th>\n",
       "      <th>valuez</th>\n",
       "    </tr>\n",
       "    <tr>\n",
       "      <th>gene_id</th>\n",
       "      <th>orf</th>\n",
       "      <th></th>\n",
       "      <th></th>\n",
       "      <th></th>\n",
       "      <th></th>\n",
       "      <th></th>\n",
       "      <th></th>\n",
       "      <th></th>\n",
       "      <th></th>\n",
       "      <th></th>\n",
       "      <th></th>\n",
       "      <th></th>\n",
       "      <th></th>\n",
       "      <th></th>\n",
       "      <th></th>\n",
       "      <th></th>\n",
       "      <th></th>\n",
       "      <th></th>\n",
       "      <th></th>\n",
       "      <th></th>\n",
       "      <th></th>\n",
       "      <th></th>\n",
       "    </tr>\n",
       "  </thead>\n",
       "  <tbody>\n",
       "    <tr>\n",
       "      <th>1</th>\n",
       "      <th>YAL001C</th>\n",
       "      <td>0.153577</td>\n",
       "      <td>-0.039887</td>\n",
       "      <td>0.065251</td>\n",
       "      <td>-1.965097</td>\n",
       "      <td>-0.004813</td>\n",
       "      <td>-0.032265</td>\n",
       "      <td>-0.941140</td>\n",
       "      <td>-0.076135</td>\n",
       "      <td>0.072909</td>\n",
       "      <td>-1.365976</td>\n",
       "      <td>...</td>\n",
       "      <td>-0.197240</td>\n",
       "      <td>-0.218056</td>\n",
       "      <td>-0.542188</td>\n",
       "      <td>-0.006149</td>\n",
       "      <td>-0.695214</td>\n",
       "      <td>-0.027648</td>\n",
       "      <td>0.391079</td>\n",
       "      <td>1.209110</td>\n",
       "      <td>0.426105</td>\n",
       "      <td>0.326920</td>\n",
       "    </tr>\n",
       "    <tr>\n",
       "      <th>2</th>\n",
       "      <th>YAL002W</th>\n",
       "      <td>-0.093247</td>\n",
       "      <td>0.261198</td>\n",
       "      <td>-7.264610</td>\n",
       "      <td>-7.892758</td>\n",
       "      <td>0.107382</td>\n",
       "      <td>-10.748092</td>\n",
       "      <td>-0.228372</td>\n",
       "      <td>0.014193</td>\n",
       "      <td>-7.588114</td>\n",
       "      <td>0.001553</td>\n",
       "      <td>...</td>\n",
       "      <td>2.302140</td>\n",
       "      <td>-0.222446</td>\n",
       "      <td>-0.421950</td>\n",
       "      <td>-1.140231</td>\n",
       "      <td>1.444715</td>\n",
       "      <td>0.032857</td>\n",
       "      <td>-0.528355</td>\n",
       "      <td>0.135516</td>\n",
       "      <td>0.128879</td>\n",
       "      <td>0.543422</td>\n",
       "    </tr>\n",
       "    <tr>\n",
       "      <th>3</th>\n",
       "      <th>YAL003W</th>\n",
       "      <td>NaN</td>\n",
       "      <td>0.126743</td>\n",
       "      <td>NaN</td>\n",
       "      <td>NaN</td>\n",
       "      <td>NaN</td>\n",
       "      <td>NaN</td>\n",
       "      <td>NaN</td>\n",
       "      <td>NaN</td>\n",
       "      <td>NaN</td>\n",
       "      <td>NaN</td>\n",
       "      <td>...</td>\n",
       "      <td>0.069347</td>\n",
       "      <td>-0.877865</td>\n",
       "      <td>-0.143850</td>\n",
       "      <td>0.478092</td>\n",
       "      <td>-0.331295</td>\n",
       "      <td>0.199041</td>\n",
       "      <td>0.570116</td>\n",
       "      <td>0.084001</td>\n",
       "      <td>0.547230</td>\n",
       "      <td>-0.177089</td>\n",
       "    </tr>\n",
       "    <tr>\n",
       "      <th>1863</th>\n",
       "      <th>YAL004W</th>\n",
       "      <td>0.195749</td>\n",
       "      <td>0.303275</td>\n",
       "      <td>-0.440025</td>\n",
       "      <td>-0.445849</td>\n",
       "      <td>0.054191</td>\n",
       "      <td>0.328757</td>\n",
       "      <td>-0.044282</td>\n",
       "      <td>-0.161686</td>\n",
       "      <td>-0.006767</td>\n",
       "      <td>-0.019377</td>\n",
       "      <td>...</td>\n",
       "      <td>-0.624691</td>\n",
       "      <td>-0.213655</td>\n",
       "      <td>0.778871</td>\n",
       "      <td>0.472726</td>\n",
       "      <td>0.722190</td>\n",
       "      <td>1.288709</td>\n",
       "      <td>0.590584</td>\n",
       "      <td>-0.216388</td>\n",
       "      <td>-3.003589</td>\n",
       "      <td>-0.181300</td>\n",
       "    </tr>\n",
       "    <tr>\n",
       "      <th>4</th>\n",
       "      <th>YAL005C</th>\n",
       "      <td>0.105597</td>\n",
       "      <td>-1.476444</td>\n",
       "      <td>0.886466</td>\n",
       "      <td>-0.108302</td>\n",
       "      <td>0.081409</td>\n",
       "      <td>-0.796944</td>\n",
       "      <td>-0.108440</td>\n",
       "      <td>-0.015199</td>\n",
       "      <td>0.045282</td>\n",
       "      <td>0.140557</td>\n",
       "      <td>...</td>\n",
       "      <td>-0.232793</td>\n",
       "      <td>0.085308</td>\n",
       "      <td>-3.120819</td>\n",
       "      <td>-4.468570</td>\n",
       "      <td>-1.414956</td>\n",
       "      <td>0.598480</td>\n",
       "      <td>-0.902345</td>\n",
       "      <td>-0.007100</td>\n",
       "      <td>-0.100301</td>\n",
       "      <td>-4.880992</td>\n",
       "    </tr>\n",
       "  </tbody>\n",
       "</table>\n",
       "<p>5 rows × 942 columns</p>\n",
       "</div>"
      ],
      "text/plain": [
       "dataset_id          1087      16622     456       1052      1053       1054   \\\n",
       "data_type           value     value     value     value     value      value   \n",
       "gene_id orf                                                                    \n",
       "1       YAL001C  0.153577 -0.039887  0.065251 -1.965097 -0.004813  -0.032265   \n",
       "2       YAL002W -0.093247  0.261198 -7.264610 -7.892758  0.107382 -10.748092   \n",
       "3       YAL003W       NaN  0.126743       NaN       NaN       NaN        NaN   \n",
       "1863    YAL004W  0.195749  0.303275 -0.440025 -0.445849  0.054191   0.328757   \n",
       "4       YAL005C  0.105597 -1.476444  0.886466 -0.108302  0.081409  -0.796944   \n",
       "\n",
       "dataset_id          1055      1056      1057      1058   ...     12118  \\\n",
       "data_type           value     value     value     value  ...    valuez   \n",
       "gene_id orf                                              ...             \n",
       "1       YAL001C -0.941140 -0.076135  0.072909 -1.365976  ... -0.197240   \n",
       "2       YAL002W -0.228372  0.014193 -7.588114  0.001553  ...  2.302140   \n",
       "3       YAL003W       NaN       NaN       NaN       NaN  ...  0.069347   \n",
       "1863    YAL004W -0.044282 -0.161686 -0.006767 -0.019377  ... -0.624691   \n",
       "4       YAL005C -0.108440 -0.015199  0.045282  0.140557  ... -0.232793   \n",
       "\n",
       "dataset_id          12119     16666     16667     16668     16669     16670  \\\n",
       "data_type          valuez    valuez    valuez    valuez    valuez    valuez   \n",
       "gene_id orf                                                                   \n",
       "1       YAL001C -0.218056 -0.542188 -0.006149 -0.695214 -0.027648  0.391079   \n",
       "2       YAL002W -0.222446 -0.421950 -1.140231  1.444715  0.032857 -0.528355   \n",
       "3       YAL003W -0.877865 -0.143850  0.478092 -0.331295  0.199041  0.570116   \n",
       "1863    YAL004W -0.213655  0.778871  0.472726  0.722190  1.288709  0.590584   \n",
       "4       YAL005C  0.085308 -3.120819 -4.468570 -1.414956  0.598480 -0.902345   \n",
       "\n",
       "dataset_id          16671     16672     16673  \n",
       "data_type          valuez    valuez    valuez  \n",
       "gene_id orf                                    \n",
       "1       YAL001C  1.209110  0.426105  0.326920  \n",
       "2       YAL002W  0.135516  0.128879  0.543422  \n",
       "3       YAL003W  0.084001  0.547230 -0.177089  \n",
       "1863    YAL004W -0.216388 -3.003589 -0.181300  \n",
       "4       YAL005C -0.007100 -0.100301 -4.880992  \n",
       "\n",
       "[5 rows x 942 columns]"
      ]
     },
     "execution_count": 167,
     "metadata": {},
     "output_type": "execute_result"
    }
   ],
   "source": [
    "data_norm[data.isnull()] = np.nan\n",
    "data_all = data.join(data_norm)\n",
    "\n",
    "data_all.head()"
   ]
  },
  {
   "cell_type": "markdown",
   "metadata": {},
   "source": [
    "# Print out"
   ]
  },
  {
   "cell_type": "code",
   "execution_count": 168,
   "metadata": {},
   "outputs": [],
   "source": [
    "for f in ['value','valuez']:\n",
    "    df = data_all.xs(f, level='data_type', axis=1).copy()\n",
    "    df.columns = datasets['name'].values\n",
    "    df = df.droplevel('gene_id', axis=0)\n",
    "    df.to_csv(paper_name + '_' + f + '.txt', sep='\\t')"
   ]
  },
  {
   "cell_type": "markdown",
   "metadata": {},
   "source": [
    "# Save to DB"
   ]
  },
  {
   "cell_type": "code",
   "execution_count": 169,
   "metadata": {},
   "outputs": [],
   "source": [
    "from IO.save_data_to_db3 import *"
   ]
  },
  {
   "cell_type": "code",
   "execution_count": 170,
   "metadata": {},
   "outputs": [
    {
     "name": "stderr",
     "output_type": "stream",
     "text": [
      "  0%|          | 0/471 [00:00<?, ?it/s]"
     ]
    },
    {
     "name": "stdout",
     "output_type": "stream",
     "text": [
      "Inserting the new data...\n"
     ]
    },
    {
     "name": "stderr",
     "output_type": "stream",
     "text": [
      "100%|██████████| 471/471 [1:02:29<00:00,  7.96s/it]"
     ]
    },
    {
     "name": "stdout",
     "output_type": "stream",
     "text": [
      "Updating the data_modified_on field...\n"
     ]
    },
    {
     "name": "stderr",
     "output_type": "stream",
     "text": [
      "\n"
     ]
    }
   ],
   "source": [
    "save_data_to_db(data_all, paper_pmid, delete=False)"
   ]
  },
  {
   "cell_type": "code",
   "execution_count": null,
   "metadata": {},
   "outputs": [],
   "source": []
  }
 ],
 "metadata": {
  "kernelspec": {
   "display_name": "yp-data",
   "language": "python",
   "name": "yp-data"
  },
  "language_info": {
   "codemirror_mode": {
    "name": "ipython",
    "version": 3
   },
   "file_extension": ".py",
   "mimetype": "text/x-python",
   "name": "python",
   "nbconvert_exporter": "python",
   "pygments_lexer": "ipython3",
   "version": "3.7.7"
  }
 },
 "nbformat": 4,
 "nbformat_minor": 4
}
