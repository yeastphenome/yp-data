{
 "cells": [
  {
   "cell_type": "code",
   "execution_count": 219,
   "metadata": {},
   "outputs": [],
   "source": [
    "%run ../../Utils/yp_utils.py"
   ]
  },
  {
   "cell_type": "markdown",
   "metadata": {},
   "source": [
    "# Initial setup"
   ]
  },
  {
   "cell_type": "code",
   "execution_count": 220,
   "metadata": {},
   "outputs": [],
   "source": [
    "paper_pmid = 24360837\n",
    "paper_name = 'hoepfner_movva_2014' "
   ]
  },
  {
   "cell_type": "code",
   "execution_count": 221,
   "metadata": {},
   "outputs": [],
   "source": [
    "datasets = pd.read_csv('extras/YeastPhenome_' + str(paper_pmid) + '_datasets_list.txt', sep='\\t', header=None, names=['pmid', 'name'])"
   ]
  },
  {
   "cell_type": "code",
   "execution_count": 222,
   "metadata": {},
   "outputs": [],
   "source": [
    "datasets.set_index('pmid', inplace=True)"
   ]
  },
  {
   "cell_type": "markdown",
   "metadata": {},
   "source": [
    "# Load & process the data - Benomyl"
   ]
  },
  {
   "cell_type": "code",
   "execution_count": 104,
   "metadata": {},
   "outputs": [],
   "source": [
    "original_data1 = pd.read_csv('large_files/raw_data/HOP_scores-benomyl.txt', sep='\\t')\n",
    "original_data2 = pd.read_csv('large_files/raw_data/HIP_scores-benomyl.txt', sep='\\t')"
   ]
  },
  {
   "cell_type": "code",
   "execution_count": 105,
   "metadata": {},
   "outputs": [
    {
     "name": "stdout",
     "output_type": "stream",
     "text": [
      "Original data dimensions: 6681 x 195\n",
      "Original data dimensions: 6681 x 189\n"
     ]
    }
   ],
   "source": [
    "print('Original data dimensions: %d x %d' % (original_data1.shape))\n",
    "print('Original data dimensions: %d x %d' % (original_data2.shape))"
   ]
  },
  {
   "cell_type": "code",
   "execution_count": 106,
   "metadata": {},
   "outputs": [],
   "source": [
    "# Keep the sensitivity scores, not z-scores (z-score normalize each strain to its phenotype to all other compounds in the dataset)"
   ]
  },
  {
   "cell_type": "code",
   "execution_count": 107,
   "metadata": {},
   "outputs": [],
   "source": [
    "cols1 = [c for c in original_data1.columns.values if 'z-score' not in c]\n",
    "cols2 = [c for c in original_data2.columns.values if 'z-score' not in c]"
   ]
  },
  {
   "cell_type": "code",
   "execution_count": 108,
   "metadata": {},
   "outputs": [],
   "source": [
    "original_data1 = original_data1.loc[:, cols1]\n",
    "original_data2 = original_data2.loc[:, cols2]"
   ]
  },
  {
   "cell_type": "code",
   "execution_count": 109,
   "metadata": {},
   "outputs": [],
   "source": [
    "orf_col = 'Systematic Name'"
   ]
  },
  {
   "cell_type": "code",
   "execution_count": 110,
   "metadata": {},
   "outputs": [],
   "source": [
    "original_data1[orf_col] = original_data1[orf_col].astype(str)\n",
    "original_data2[orf_col] = original_data2[orf_col].astype(str)"
   ]
  },
  {
   "cell_type": "code",
   "execution_count": 111,
   "metadata": {},
   "outputs": [],
   "source": [
    "# Eliminate all white spaces & capitalize\n",
    "original_data1[orf_col] = clean_orf(original_data1[orf_col])\n",
    "original_data2[orf_col] = clean_orf(original_data2[orf_col])"
   ]
  },
  {
   "cell_type": "code",
   "execution_count": 112,
   "metadata": {},
   "outputs": [],
   "source": [
    "# Translate to ORFs \n",
    "original_data1['orfs'] = translate_sc(original_data1[orf_col], to='orf')\n",
    "original_data2['orfs'] = translate_sc(original_data2[orf_col], to='orf')"
   ]
  },
  {
   "cell_type": "code",
   "execution_count": 113,
   "metadata": {},
   "outputs": [],
   "source": [
    "original_data1.loc[original_data1['orfs'] == 'YBR160WAS','orfs'] = 'YBR160W'\n",
    "original_data2.loc[original_data2['orfs'] == 'YBR160WAS','orfs'] = 'YBR160W'"
   ]
  },
  {
   "cell_type": "code",
   "execution_count": 114,
   "metadata": {},
   "outputs": [],
   "source": [
    "# Make sure everything translated ok\n",
    "t = looks_like_orf(original_data1['orfs'])\n",
    "# print(original_data1.loc[~t,])"
   ]
  },
  {
   "cell_type": "code",
   "execution_count": 115,
   "metadata": {},
   "outputs": [],
   "source": [
    "# Make sure everything translated ok\n",
    "t = looks_like_orf(original_data2['orfs'])\n",
    "# print(original_data2.loc[~t,])"
   ]
  },
  {
   "cell_type": "code",
   "execution_count": 116,
   "metadata": {},
   "outputs": [],
   "source": [
    "original_data1 = original_data1.loc[t,:]\n",
    "original_data2 = original_data2.loc[t,:]"
   ]
  },
  {
   "cell_type": "code",
   "execution_count": 117,
   "metadata": {},
   "outputs": [],
   "source": [
    "original_data1.set_index('orfs', inplace=True)\n",
    "original_data2.set_index('orfs', inplace=True)\n",
    "original_data1.index.name='orf'\n",
    "original_data2.index.name='orf'"
   ]
  },
  {
   "cell_type": "code",
   "execution_count": 118,
   "metadata": {},
   "outputs": [],
   "source": [
    "original_data1['data'] = original_data1.mean(axis=1)\n",
    "original_data2['data'] = original_data2.mean(axis=1)"
   ]
  },
  {
   "cell_type": "code",
   "execution_count": 119,
   "metadata": {},
   "outputs": [],
   "source": [
    "original_data = original_data1[['data']].join(original_data2[['data']], how='outer', lsuffix='_hop', rsuffix='_hip')"
   ]
  },
  {
   "cell_type": "code",
   "execution_count": 120,
   "metadata": {},
   "outputs": [],
   "source": [
    "original_data = original_data.groupby(original_data.index).mean()"
   ]
  },
  {
   "cell_type": "code",
   "execution_count": 121,
   "metadata": {},
   "outputs": [],
   "source": [
    "dataset_ids = [1087, 16622]\n",
    "data_benomyl = original_data[['data_hop','data_hip']].copy()"
   ]
  },
  {
   "cell_type": "code",
   "execution_count": 122,
   "metadata": {},
   "outputs": [],
   "source": [
    "data_benomyl.columns = dataset_ids"
   ]
  },
  {
   "cell_type": "code",
   "execution_count": 123,
   "metadata": {},
   "outputs": [
    {
     "data": {
      "text/html": [
       "<div>\n",
       "<style scoped>\n",
       "    .dataframe tbody tr th:only-of-type {\n",
       "        vertical-align: middle;\n",
       "    }\n",
       "\n",
       "    .dataframe tbody tr th {\n",
       "        vertical-align: top;\n",
       "    }\n",
       "\n",
       "    .dataframe thead th {\n",
       "        text-align: right;\n",
       "    }\n",
       "</style>\n",
       "<table border=\"1\" class=\"dataframe\">\n",
       "  <thead>\n",
       "    <tr style=\"text-align: right;\">\n",
       "      <th></th>\n",
       "      <th>1087</th>\n",
       "      <th>16622</th>\n",
       "    </tr>\n",
       "    <tr>\n",
       "      <th>orf</th>\n",
       "      <th></th>\n",
       "      <th></th>\n",
       "    </tr>\n",
       "  </thead>\n",
       "  <tbody>\n",
       "    <tr>\n",
       "      <th>Q0010</th>\n",
       "      <td>NaN</td>\n",
       "      <td>NaN</td>\n",
       "    </tr>\n",
       "    <tr>\n",
       "      <th>Q0017</th>\n",
       "      <td>NaN</td>\n",
       "      <td>NaN</td>\n",
       "    </tr>\n",
       "    <tr>\n",
       "      <th>Q0032</th>\n",
       "      <td>NaN</td>\n",
       "      <td>NaN</td>\n",
       "    </tr>\n",
       "    <tr>\n",
       "      <th>Q0045</th>\n",
       "      <td>NaN</td>\n",
       "      <td>NaN</td>\n",
       "    </tr>\n",
       "    <tr>\n",
       "      <th>Q0050</th>\n",
       "      <td>NaN</td>\n",
       "      <td>NaN</td>\n",
       "    </tr>\n",
       "  </tbody>\n",
       "</table>\n",
       "</div>"
      ],
      "text/plain": [
       "       1087   16622\n",
       "orf                \n",
       "Q0010    NaN    NaN\n",
       "Q0017    NaN    NaN\n",
       "Q0032    NaN    NaN\n",
       "Q0045    NaN    NaN\n",
       "Q0050    NaN    NaN"
      ]
     },
     "execution_count": 123,
     "metadata": {},
     "output_type": "execute_result"
    }
   ],
   "source": [
    "data_benomyl.head()"
   ]
  },
  {
   "cell_type": "markdown",
   "metadata": {},
   "source": [
    "# Load and process data -- all others"
   ]
  },
  {
   "cell_type": "code",
   "execution_count": 232,
   "metadata": {},
   "outputs": [],
   "source": [
    "original_data1 = pd.read_csv('large_files/raw_data/HOP_scores.txt', sep='\\t')\n",
    "original_data2 = pd.read_csv('large_files/raw_data/HIP_scores.txt', sep='\\t')"
   ]
  },
  {
   "cell_type": "code",
   "execution_count": 239,
   "metadata": {},
   "outputs": [],
   "source": [
    "original_data1.set_index('Systematic Name', inplace=True)"
   ]
  },
  {
   "cell_type": "code",
   "execution_count": 240,
   "metadata": {},
   "outputs": [
    {
     "name": "stdout",
     "output_type": "stream",
     "text": [
      "Original data dimensions: 6681 x 5846\n",
      "Original data dimensions: 6681 x 5913\n"
     ]
    }
   ],
   "source": [
    "print('Original data dimensions: %d x %d' % (original_data1.shape))\n",
    "print('Original data dimensions: %d x %d' % (original_data2.shape))"
   ]
  },
  {
   "cell_type": "code",
   "execution_count": 245,
   "metadata": {},
   "outputs": [
    {
     "data": {
      "text/html": [
       "<div>\n",
       "<style scoped>\n",
       "    .dataframe tbody tr th:only-of-type {\n",
       "        vertical-align: middle;\n",
       "    }\n",
       "\n",
       "    .dataframe tbody tr th {\n",
       "        vertical-align: top;\n",
       "    }\n",
       "\n",
       "    .dataframe thead th {\n",
       "        text-align: right;\n",
       "    }\n",
       "</style>\n",
       "<table border=\"1\" class=\"dataframe\">\n",
       "  <thead>\n",
       "    <tr style=\"text-align: right;\">\n",
       "      <th></th>\n",
       "      <th>Ad. scores for Exp. 696_120_HOP_0120</th>\n",
       "      <th>Ad. scores for Exp. 5455_35_HOP_0178 z-score</th>\n",
       "      <th>Ad. scores for Exp. 2368_100_HOP_0078 z-score</th>\n",
       "      <th>MADL scores for Exp. 189_75_HOP_0120 z-score</th>\n",
       "      <th>Ad. scores for Exp. 2796_1_HOP_0096 z-score</th>\n",
       "    </tr>\n",
       "    <tr>\n",
       "      <th>Systematic Name</th>\n",
       "      <th></th>\n",
       "      <th></th>\n",
       "      <th></th>\n",
       "      <th></th>\n",
       "      <th></th>\n",
       "    </tr>\n",
       "  </thead>\n",
       "  <tbody>\n",
       "    <tr>\n",
       "      <th>YER087C-A</th>\n",
       "      <td>-0.278046</td>\n",
       "      <td>0.243508</td>\n",
       "      <td>-0.219257</td>\n",
       "      <td>-2.143087</td>\n",
       "      <td>-1.294666</td>\n",
       "    </tr>\n",
       "    <tr>\n",
       "      <th>YKL103C</th>\n",
       "      <td>0.351753</td>\n",
       "      <td>-0.046032</td>\n",
       "      <td>-0.071848</td>\n",
       "      <td>0.187157</td>\n",
       "      <td>0.019149</td>\n",
       "    </tr>\n",
       "    <tr>\n",
       "      <th>YER031C</th>\n",
       "      <td>-0.101430</td>\n",
       "      <td>0.010982</td>\n",
       "      <td>0.022837</td>\n",
       "      <td>-0.753961</td>\n",
       "      <td>-0.045918</td>\n",
       "    </tr>\n",
       "    <tr>\n",
       "      <th>YKL105C</th>\n",
       "      <td>0.633896</td>\n",
       "      <td>0.072092</td>\n",
       "      <td>-0.061220</td>\n",
       "      <td>-0.098761</td>\n",
       "      <td>0.287690</td>\n",
       "    </tr>\n",
       "    <tr>\n",
       "      <th>YJR154W</th>\n",
       "      <td>-0.039013</td>\n",
       "      <td>0.824515</td>\n",
       "      <td>0.005363</td>\n",
       "      <td>-0.027320</td>\n",
       "      <td>-0.117204</td>\n",
       "    </tr>\n",
       "  </tbody>\n",
       "</table>\n",
       "</div>"
      ],
      "text/plain": [
       "                 Ad. scores for Exp. 696_120_HOP_0120  \\\n",
       "Systematic Name                                         \n",
       "YER087C-A                                   -0.278046   \n",
       "YKL103C                                      0.351753   \n",
       "YER031C                                     -0.101430   \n",
       "YKL105C                                      0.633896   \n",
       "YJR154W                                     -0.039013   \n",
       "\n",
       "                 Ad. scores for Exp. 5455_35_HOP_0178 z-score  \\\n",
       "Systematic Name                                                 \n",
       "YER087C-A                                            0.243508   \n",
       "YKL103C                                             -0.046032   \n",
       "YER031C                                              0.010982   \n",
       "YKL105C                                              0.072092   \n",
       "YJR154W                                              0.824515   \n",
       "\n",
       "                 Ad. scores for Exp. 2368_100_HOP_0078 z-score  \\\n",
       "Systematic Name                                                  \n",
       "YER087C-A                                            -0.219257   \n",
       "YKL103C                                              -0.071848   \n",
       "YER031C                                               0.022837   \n",
       "YKL105C                                              -0.061220   \n",
       "YJR154W                                               0.005363   \n",
       "\n",
       "                 MADL scores for Exp. 189_75_HOP_0120 z-score  \\\n",
       "Systematic Name                                                 \n",
       "YER087C-A                                           -2.143087   \n",
       "YKL103C                                              0.187157   \n",
       "YER031C                                             -0.753961   \n",
       "YKL105C                                             -0.098761   \n",
       "YJR154W                                             -0.027320   \n",
       "\n",
       "                 Ad. scores for Exp. 2796_1_HOP_0096 z-score  \n",
       "Systematic Name                                               \n",
       "YER087C-A                                          -1.294666  \n",
       "YKL103C                                             0.019149  \n",
       "YER031C                                            -0.045918  \n",
       "YKL105C                                             0.287690  \n",
       "YJR154W                                            -0.117204  "
      ]
     },
     "execution_count": 245,
     "metadata": {},
     "output_type": "execute_result"
    }
   ],
   "source": [
    "random_rows = np.random.choice(original_data1.index, 5)\n",
    "random_cols = np.random.choice(original_data1.columns, 5)\n",
    "original_data1.loc[random_rows, random_cols]"
   ]
  },
  {
   "cell_type": "code",
   "execution_count": 227,
   "metadata": {},
   "outputs": [],
   "source": [
    "cols1 = [c for c in original_data1.columns.values if 'z-score' not in c]\n",
    "cols2 = [c for c in original_data2.columns.values if 'z-score' not in c]"
   ]
  },
  {
   "cell_type": "code",
   "execution_count": 228,
   "metadata": {},
   "outputs": [],
   "source": [
    "original_data1 = original_data1.loc[:, cols1]\n",
    "original_data2 = original_data2.loc[:, cols2]"
   ]
  },
  {
   "cell_type": "code",
   "execution_count": 229,
   "metadata": {},
   "outputs": [
    {
     "name": "stdout",
     "output_type": "stream",
     "text": [
      "Original data dimensions: 6681 x 2924\n",
      "Original data dimensions: 6681 x 2957\n"
     ]
    }
   ],
   "source": [
    "print('Original data dimensions: %d x %d' % (original_data1.shape))\n",
    "print('Original data dimensions: %d x %d' % (original_data2.shape))"
   ]
  },
  {
   "cell_type": "code",
   "execution_count": 129,
   "metadata": {},
   "outputs": [],
   "source": [
    "orf_col = 'Systematic Name'"
   ]
  },
  {
   "cell_type": "code",
   "execution_count": 130,
   "metadata": {},
   "outputs": [],
   "source": [
    "original_data1[orf_col] = original_data1[orf_col].astype(str)\n",
    "original_data2[orf_col] = original_data2[orf_col].astype(str)"
   ]
  },
  {
   "cell_type": "code",
   "execution_count": 131,
   "metadata": {},
   "outputs": [],
   "source": [
    "# Eliminate all white spaces & capitalize\n",
    "original_data1[orf_col] = clean_orf(original_data1[orf_col])\n",
    "original_data2[orf_col] = clean_orf(original_data2[orf_col])"
   ]
  },
  {
   "cell_type": "code",
   "execution_count": 132,
   "metadata": {},
   "outputs": [],
   "source": [
    "# Translate to ORFs \n",
    "original_data1['orfs'] = translate_sc(original_data1[orf_col], to='orf')\n",
    "original_data2['orfs'] = translate_sc(original_data2[orf_col], to='orf')"
   ]
  },
  {
   "cell_type": "code",
   "execution_count": 133,
   "metadata": {},
   "outputs": [],
   "source": [
    "original_data1.loc[original_data1['orfs'] == 'YBR160WAS','orfs'] = 'YBR160W'\n",
    "original_data2.loc[original_data2['orfs'] == 'YBR160WAS','orfs'] = 'YBR160W'"
   ]
  },
  {
   "cell_type": "code",
   "execution_count": 134,
   "metadata": {},
   "outputs": [],
   "source": [
    "# Make sure everything translated ok\n",
    "t = looks_like_orf(original_data1['orfs'])\n",
    "# print(original_data1.loc[~t,])"
   ]
  },
  {
   "cell_type": "code",
   "execution_count": 135,
   "metadata": {},
   "outputs": [],
   "source": [
    "# Make sure everything translated ok\n",
    "t = looks_like_orf(original_data2['orfs'])\n",
    "# print(original_data2.loc[~t,])"
   ]
  },
  {
   "cell_type": "code",
   "execution_count": 136,
   "metadata": {},
   "outputs": [],
   "source": [
    "original_data1 = original_data1.loc[t,:]\n",
    "original_data2 = original_data2.loc[t,:]"
   ]
  },
  {
   "cell_type": "code",
   "execution_count": 137,
   "metadata": {},
   "outputs": [],
   "source": [
    "original_data1.set_index('orfs', inplace=True)\n",
    "original_data2.set_index('orfs', inplace=True)\n",
    "original_data1.index.name='orf'\n",
    "original_data2.index.name='orf'"
   ]
  },
  {
   "cell_type": "code",
   "execution_count": 138,
   "metadata": {},
   "outputs": [],
   "source": [
    "original_data1.drop(columns=['Systematic Name'], inplace=True)"
   ]
  },
  {
   "cell_type": "code",
   "execution_count": 139,
   "metadata": {},
   "outputs": [],
   "source": [
    "original_data2.drop(columns=['Systematic Name'], inplace=True)"
   ]
  },
  {
   "cell_type": "code",
   "execution_count": 140,
   "metadata": {},
   "outputs": [],
   "source": [
    "original_data1 = original_data1.groupby(original_data1.index).mean()"
   ]
  },
  {
   "cell_type": "code",
   "execution_count": 141,
   "metadata": {},
   "outputs": [],
   "source": [
    "original_data2 = original_data2.groupby(original_data2.index).mean()"
   ]
  },
  {
   "cell_type": "markdown",
   "metadata": {},
   "source": [
    "### Map data columns to dataset_ids"
   ]
  },
  {
   "cell_type": "code",
   "execution_count": 142,
   "metadata": {},
   "outputs": [],
   "source": [
    "dt = pd.read_csv('extras/datasets_name_to_id.txt', sep='\\t')"
   ]
  },
  {
   "cell_type": "code",
   "execution_count": 143,
   "metadata": {},
   "outputs": [
    {
     "data": {
      "text/html": [
       "<div>\n",
       "<style scoped>\n",
       "    .dataframe tbody tr th:only-of-type {\n",
       "        vertical-align: middle;\n",
       "    }\n",
       "\n",
       "    .dataframe tbody tr th {\n",
       "        vertical-align: top;\n",
       "    }\n",
       "\n",
       "    .dataframe thead th {\n",
       "        text-align: right;\n",
       "    }\n",
       "</style>\n",
       "<table border=\"1\" class=\"dataframe\">\n",
       "  <thead>\n",
       "    <tr style=\"text-align: right;\">\n",
       "      <th></th>\n",
       "      <th>Unnamed: 0</th>\n",
       "      <th>name</th>\n",
       "      <th>cmb</th>\n",
       "      <th>dose</th>\n",
       "      <th>exp</th>\n",
       "      <th>type</th>\n",
       "      <th>new</th>\n",
       "      <th>conditionset_id</th>\n",
       "      <th>dataset</th>\n",
       "    </tr>\n",
       "  </thead>\n",
       "  <tbody>\n",
       "    <tr>\n",
       "      <th>0</th>\n",
       "      <td>0</td>\n",
       "      <td>Ad. scores for Exp. 2_200_HOP_0020A</td>\n",
       "      <td>2</td>\n",
       "      <td>200.000</td>\n",
       "      <td>HOP</td>\n",
       "      <td>Ad.</td>\n",
       "      <td>True</td>\n",
       "      <td>9164.0</td>\n",
       "      <td>16714</td>\n",
       "    </tr>\n",
       "    <tr>\n",
       "      <th>1</th>\n",
       "      <td>1</td>\n",
       "      <td>Ad. scores for Exp. 6_173.545_HOP_0090</td>\n",
       "      <td>6</td>\n",
       "      <td>173.545</td>\n",
       "      <td>HOP</td>\n",
       "      <td>Ad.</td>\n",
       "      <td>True</td>\n",
       "      <td>9165.0</td>\n",
       "      <td>16715</td>\n",
       "    </tr>\n",
       "    <tr>\n",
       "      <th>2</th>\n",
       "      <td>2</td>\n",
       "      <td>Ad. scores for Exp. 6_200_HOP_0114</td>\n",
       "      <td>6</td>\n",
       "      <td>200.000</td>\n",
       "      <td>HOP</td>\n",
       "      <td>Ad.</td>\n",
       "      <td>True</td>\n",
       "      <td>9166.0</td>\n",
       "      <td>16716</td>\n",
       "    </tr>\n",
       "    <tr>\n",
       "      <th>3</th>\n",
       "      <td>3</td>\n",
       "      <td>Ad. scores for Exp. 13_80_HOP_0088</td>\n",
       "      <td>13</td>\n",
       "      <td>80.000</td>\n",
       "      <td>HOP</td>\n",
       "      <td>Ad.</td>\n",
       "      <td>True</td>\n",
       "      <td>9167.0</td>\n",
       "      <td>16717</td>\n",
       "    </tr>\n",
       "    <tr>\n",
       "      <th>4</th>\n",
       "      <td>4</td>\n",
       "      <td>Ad. scores for Exp. 19_2.3_HOP_0088</td>\n",
       "      <td>19</td>\n",
       "      <td>2.300</td>\n",
       "      <td>HOP</td>\n",
       "      <td>Ad.</td>\n",
       "      <td>True</td>\n",
       "      <td>9168.0</td>\n",
       "      <td>16718</td>\n",
       "    </tr>\n",
       "  </tbody>\n",
       "</table>\n",
       "</div>"
      ],
      "text/plain": [
       "   Unnamed: 0                                    name  cmb     dose  exp type  \\\n",
       "0           0     Ad. scores for Exp. 2_200_HOP_0020A    2  200.000  HOP  Ad.   \n",
       "1           1  Ad. scores for Exp. 6_173.545_HOP_0090    6  173.545  HOP  Ad.   \n",
       "2           2      Ad. scores for Exp. 6_200_HOP_0114    6  200.000  HOP  Ad.   \n",
       "3           3      Ad. scores for Exp. 13_80_HOP_0088   13   80.000  HOP  Ad.   \n",
       "4           4     Ad. scores for Exp. 19_2.3_HOP_0088   19    2.300  HOP  Ad.   \n",
       "\n",
       "    new  conditionset_id  dataset  \n",
       "0  True           9164.0    16714  \n",
       "1  True           9165.0    16715  \n",
       "2  True           9166.0    16716  \n",
       "3  True           9167.0    16717  \n",
       "4  True           9168.0    16718  "
      ]
     },
     "execution_count": 143,
     "metadata": {},
     "output_type": "execute_result"
    }
   ],
   "source": [
    "dt.head()"
   ]
  },
  {
   "cell_type": "code",
   "execution_count": 144,
   "metadata": {},
   "outputs": [],
   "source": [
    "dt.set_index('name', inplace=True)"
   ]
  },
  {
   "cell_type": "code",
   "execution_count": 145,
   "metadata": {},
   "outputs": [],
   "source": [
    "dt1 = dt.reindex(index=original_data1.columns.values)"
   ]
  },
  {
   "cell_type": "code",
   "execution_count": 146,
   "metadata": {},
   "outputs": [],
   "source": [
    "dt2 = dt.reindex(index=original_data2.columns.values)"
   ]
  },
  {
   "cell_type": "code",
   "execution_count": 147,
   "metadata": {},
   "outputs": [
    {
     "data": {
      "text/html": [
       "<div>\n",
       "<style scoped>\n",
       "    .dataframe tbody tr th:only-of-type {\n",
       "        vertical-align: middle;\n",
       "    }\n",
       "\n",
       "    .dataframe tbody tr th {\n",
       "        vertical-align: top;\n",
       "    }\n",
       "\n",
       "    .dataframe thead th {\n",
       "        text-align: right;\n",
       "    }\n",
       "</style>\n",
       "<table border=\"1\" class=\"dataframe\">\n",
       "  <thead>\n",
       "    <tr style=\"text-align: right;\">\n",
       "      <th></th>\n",
       "      <th>Unnamed: 0</th>\n",
       "      <th>cmb</th>\n",
       "      <th>dose</th>\n",
       "      <th>exp</th>\n",
       "      <th>type</th>\n",
       "      <th>new</th>\n",
       "      <th>conditionset_id</th>\n",
       "      <th>dataset</th>\n",
       "    </tr>\n",
       "    <tr>\n",
       "      <th>name</th>\n",
       "      <th></th>\n",
       "      <th></th>\n",
       "      <th></th>\n",
       "      <th></th>\n",
       "      <th></th>\n",
       "      <th></th>\n",
       "      <th></th>\n",
       "      <th></th>\n",
       "    </tr>\n",
       "  </thead>\n",
       "  <tbody>\n",
       "    <tr>\n",
       "      <th>Ad. scores for Exp. 2_200_HIP_0020A</th>\n",
       "      <td>0</td>\n",
       "      <td>2</td>\n",
       "      <td>200.000</td>\n",
       "      <td>HIP</td>\n",
       "      <td>Ad.</td>\n",
       "      <td>True</td>\n",
       "      <td>9164.0</td>\n",
       "      <td>19243</td>\n",
       "    </tr>\n",
       "    <tr>\n",
       "      <th>Ad. scores for Exp. 3_50_HIP_0077</th>\n",
       "      <td>2924</td>\n",
       "      <td>3</td>\n",
       "      <td>50.000</td>\n",
       "      <td>HIP</td>\n",
       "      <td>Ad.</td>\n",
       "      <td>False</td>\n",
       "      <td>NaN</td>\n",
       "      <td>11874</td>\n",
       "    </tr>\n",
       "    <tr>\n",
       "      <th>Ad. scores for Exp. 6_173.545_HIP_0089</th>\n",
       "      <td>1</td>\n",
       "      <td>6</td>\n",
       "      <td>173.545</td>\n",
       "      <td>HIP</td>\n",
       "      <td>Ad.</td>\n",
       "      <td>True</td>\n",
       "      <td>9165.0</td>\n",
       "      <td>19244</td>\n",
       "    </tr>\n",
       "    <tr>\n",
       "      <th>Ad. scores for Exp. 6_200_HIP_0113</th>\n",
       "      <td>2</td>\n",
       "      <td>6</td>\n",
       "      <td>200.000</td>\n",
       "      <td>HIP</td>\n",
       "      <td>Ad.</td>\n",
       "      <td>True</td>\n",
       "      <td>9166.0</td>\n",
       "      <td>19245</td>\n",
       "    </tr>\n",
       "    <tr>\n",
       "      <th>Ad. scores for Exp. 13_80_HIP_0087</th>\n",
       "      <td>3</td>\n",
       "      <td>13</td>\n",
       "      <td>80.000</td>\n",
       "      <td>HIP</td>\n",
       "      <td>Ad.</td>\n",
       "      <td>True</td>\n",
       "      <td>9167.0</td>\n",
       "      <td>19246</td>\n",
       "    </tr>\n",
       "  </tbody>\n",
       "</table>\n",
       "</div>"
      ],
      "text/plain": [
       "                                        Unnamed: 0  cmb     dose  exp type  \\\n",
       "name                                                                         \n",
       "Ad. scores for Exp. 2_200_HIP_0020A              0    2  200.000  HIP  Ad.   \n",
       "Ad. scores for Exp. 3_50_HIP_0077             2924    3   50.000  HIP  Ad.   \n",
       "Ad. scores for Exp. 6_173.545_HIP_0089           1    6  173.545  HIP  Ad.   \n",
       "Ad. scores for Exp. 6_200_HIP_0113               2    6  200.000  HIP  Ad.   \n",
       "Ad. scores for Exp. 13_80_HIP_0087               3   13   80.000  HIP  Ad.   \n",
       "\n",
       "                                          new  conditionset_id  dataset  \n",
       "name                                                                     \n",
       "Ad. scores for Exp. 2_200_HIP_0020A      True           9164.0    19243  \n",
       "Ad. scores for Exp. 3_50_HIP_0077       False              NaN    11874  \n",
       "Ad. scores for Exp. 6_173.545_HIP_0089   True           9165.0    19244  \n",
       "Ad. scores for Exp. 6_200_HIP_0113       True           9166.0    19245  \n",
       "Ad. scores for Exp. 13_80_HIP_0087       True           9167.0    19246  "
      ]
     },
     "execution_count": 147,
     "metadata": {},
     "output_type": "execute_result"
    }
   ],
   "source": [
    "dt2.head()"
   ]
  },
  {
   "cell_type": "code",
   "execution_count": 148,
   "metadata": {},
   "outputs": [
    {
     "data": {
      "text/plain": [
       "(6620, 2774)"
      ]
     },
     "execution_count": 148,
     "metadata": {},
     "output_type": "execute_result"
    }
   ],
   "source": [
    "original_data1.columns = dt1['dataset'].values\n",
    "original_data1 = original_data1.T\n",
    "original_data1 = original_data1.groupby(original_data1.index).mean()\n",
    "original_data1 = original_data1.T\n",
    "original_data1.shape"
   ]
  },
  {
   "cell_type": "code",
   "execution_count": 149,
   "metadata": {},
   "outputs": [
    {
     "data": {
      "text/plain": [
       "(6620, 2814)"
      ]
     },
     "execution_count": 149,
     "metadata": {},
     "output_type": "execute_result"
    }
   ],
   "source": [
    "original_data2.columns = dt2['dataset'].values\n",
    "original_data2 = original_data2.T\n",
    "original_data2 = original_data2.groupby(original_data2.index).mean()\n",
    "original_data2 = original_data2.T\n",
    "original_data2.shape"
   ]
  },
  {
   "cell_type": "markdown",
   "metadata": {},
   "source": [
    "### Merge"
   ]
  },
  {
   "cell_type": "code",
   "execution_count": 150,
   "metadata": {},
   "outputs": [],
   "source": [
    "original_data = original_data1.join(original_data2, how='outer')"
   ]
  },
  {
   "cell_type": "code",
   "execution_count": 151,
   "metadata": {},
   "outputs": [
    {
     "data": {
      "text/plain": [
       "(6620, 5588)"
      ]
     },
     "execution_count": 151,
     "metadata": {},
     "output_type": "execute_result"
    }
   ],
   "source": [
    "original_data.shape"
   ]
  },
  {
   "cell_type": "code",
   "execution_count": 152,
   "metadata": {},
   "outputs": [],
   "source": [
    "original_data_final = data_benomyl.join(original_data, how='outer', lsuffix='_benomyl', rsuffix='_other')"
   ]
  },
  {
   "cell_type": "code",
   "execution_count": 153,
   "metadata": {},
   "outputs": [
    {
     "data": {
      "text/plain": [
       "(6620, 5590)"
      ]
     },
     "execution_count": 153,
     "metadata": {},
     "output_type": "execute_result"
    }
   ],
   "source": [
    "original_data_final.shape"
   ]
  },
  {
   "cell_type": "code",
   "execution_count": 154,
   "metadata": {},
   "outputs": [
    {
     "data": {
      "text/plain": [
       "(6620, 2)"
      ]
     },
     "execution_count": 154,
     "metadata": {},
     "output_type": "execute_result"
    }
   ],
   "source": [
    "data_benomyl.shape"
   ]
  },
  {
   "cell_type": "code",
   "execution_count": 155,
   "metadata": {},
   "outputs": [
    {
     "data": {
      "text/plain": [
       "(6620, 5588)"
      ]
     },
     "execution_count": 155,
     "metadata": {},
     "output_type": "execute_result"
    }
   ],
   "source": [
    "original_data.shape"
   ]
  },
  {
   "cell_type": "code",
   "execution_count": 156,
   "metadata": {},
   "outputs": [],
   "source": [
    "# Remove ORFs that are all NaNs\n",
    "num_vals = original_data_final.notnull().sum(axis=1)"
   ]
  },
  {
   "cell_type": "code",
   "execution_count": 157,
   "metadata": {},
   "outputs": [],
   "source": [
    "original_data_final = original_data_final.loc[num_vals>0,:]"
   ]
  },
  {
   "cell_type": "code",
   "execution_count": 158,
   "metadata": {},
   "outputs": [
    {
     "data": {
      "text/plain": [
       "(5867, 5590)"
      ]
     },
     "execution_count": 158,
     "metadata": {},
     "output_type": "execute_result"
    }
   ],
   "source": [
    "original_data_final.shape"
   ]
  },
  {
   "cell_type": "code",
   "execution_count": 159,
   "metadata": {},
   "outputs": [
    {
     "data": {
      "text/html": [
       "<div>\n",
       "<style scoped>\n",
       "    .dataframe tbody tr th:only-of-type {\n",
       "        vertical-align: middle;\n",
       "    }\n",
       "\n",
       "    .dataframe tbody tr th {\n",
       "        vertical-align: top;\n",
       "    }\n",
       "\n",
       "    .dataframe thead th {\n",
       "        text-align: right;\n",
       "    }\n",
       "</style>\n",
       "<table border=\"1\" class=\"dataframe\">\n",
       "  <thead>\n",
       "    <tr style=\"text-align: right;\">\n",
       "      <th></th>\n",
       "      <th>1087</th>\n",
       "      <th>16622</th>\n",
       "      <th>456</th>\n",
       "      <th>1052</th>\n",
       "      <th>1053</th>\n",
       "      <th>1054</th>\n",
       "      <th>1055</th>\n",
       "      <th>1056</th>\n",
       "      <th>1057</th>\n",
       "      <th>1058</th>\n",
       "      <th>...</th>\n",
       "      <th>21823</th>\n",
       "      <th>21824</th>\n",
       "      <th>21825</th>\n",
       "      <th>21826</th>\n",
       "      <th>21827</th>\n",
       "      <th>21828</th>\n",
       "      <th>21829</th>\n",
       "      <th>21830</th>\n",
       "      <th>21831</th>\n",
       "      <th>21832</th>\n",
       "    </tr>\n",
       "    <tr>\n",
       "      <th>orf</th>\n",
       "      <th></th>\n",
       "      <th></th>\n",
       "      <th></th>\n",
       "      <th></th>\n",
       "      <th></th>\n",
       "      <th></th>\n",
       "      <th></th>\n",
       "      <th></th>\n",
       "      <th></th>\n",
       "      <th></th>\n",
       "      <th></th>\n",
       "      <th></th>\n",
       "      <th></th>\n",
       "      <th></th>\n",
       "      <th></th>\n",
       "      <th></th>\n",
       "      <th></th>\n",
       "      <th></th>\n",
       "      <th></th>\n",
       "      <th></th>\n",
       "      <th></th>\n",
       "    </tr>\n",
       "  </thead>\n",
       "  <tbody>\n",
       "    <tr>\n",
       "      <th>YAL001C</th>\n",
       "      <td>0.153577</td>\n",
       "      <td>-0.039887</td>\n",
       "      <td>0.065251</td>\n",
       "      <td>-1.965097</td>\n",
       "      <td>-0.004813</td>\n",
       "      <td>-0.032265</td>\n",
       "      <td>-0.941140</td>\n",
       "      <td>-0.076135</td>\n",
       "      <td>0.072909</td>\n",
       "      <td>-1.365976</td>\n",
       "      <td>...</td>\n",
       "      <td>0.778166</td>\n",
       "      <td>0.050034</td>\n",
       "      <td>-1.294978</td>\n",
       "      <td>1.094208</td>\n",
       "      <td>-0.079728</td>\n",
       "      <td>-0.660730</td>\n",
       "      <td>-0.169347</td>\n",
       "      <td>0.391134</td>\n",
       "      <td>0.632678</td>\n",
       "      <td>-0.011431</td>\n",
       "    </tr>\n",
       "    <tr>\n",
       "      <th>YAL002W</th>\n",
       "      <td>-0.093247</td>\n",
       "      <td>0.261198</td>\n",
       "      <td>-7.264610</td>\n",
       "      <td>-7.892758</td>\n",
       "      <td>0.107382</td>\n",
       "      <td>-10.748092</td>\n",
       "      <td>-0.228372</td>\n",
       "      <td>0.014193</td>\n",
       "      <td>-7.588114</td>\n",
       "      <td>0.001553</td>\n",
       "      <td>...</td>\n",
       "      <td>0.910103</td>\n",
       "      <td>-0.100594</td>\n",
       "      <td>-0.603035</td>\n",
       "      <td>-0.433792</td>\n",
       "      <td>0.312510</td>\n",
       "      <td>1.488788</td>\n",
       "      <td>-1.736656</td>\n",
       "      <td>2.267683</td>\n",
       "      <td>-0.620552</td>\n",
       "      <td>-0.110128</td>\n",
       "    </tr>\n",
       "    <tr>\n",
       "      <th>YAL003W</th>\n",
       "      <td>NaN</td>\n",
       "      <td>0.126743</td>\n",
       "      <td>NaN</td>\n",
       "      <td>NaN</td>\n",
       "      <td>NaN</td>\n",
       "      <td>NaN</td>\n",
       "      <td>NaN</td>\n",
       "      <td>NaN</td>\n",
       "      <td>NaN</td>\n",
       "      <td>NaN</td>\n",
       "      <td>...</td>\n",
       "      <td>-1.002932</td>\n",
       "      <td>-0.154591</td>\n",
       "      <td>-0.645912</td>\n",
       "      <td>2.670172</td>\n",
       "      <td>0.040620</td>\n",
       "      <td>0.940628</td>\n",
       "      <td>0.188706</td>\n",
       "      <td>-0.320287</td>\n",
       "      <td>-0.102011</td>\n",
       "      <td>0.127858</td>\n",
       "    </tr>\n",
       "    <tr>\n",
       "      <th>YAL004W</th>\n",
       "      <td>0.195749</td>\n",
       "      <td>0.303275</td>\n",
       "      <td>-0.440025</td>\n",
       "      <td>-0.445849</td>\n",
       "      <td>0.054191</td>\n",
       "      <td>0.328757</td>\n",
       "      <td>-0.044282</td>\n",
       "      <td>-0.161686</td>\n",
       "      <td>-0.006767</td>\n",
       "      <td>-0.019377</td>\n",
       "      <td>...</td>\n",
       "      <td>0.186409</td>\n",
       "      <td>2.190569</td>\n",
       "      <td>-0.051758</td>\n",
       "      <td>-1.646874</td>\n",
       "      <td>0.143214</td>\n",
       "      <td>0.497081</td>\n",
       "      <td>-2.862873</td>\n",
       "      <td>-0.394184</td>\n",
       "      <td>-2.654636</td>\n",
       "      <td>-0.060194</td>\n",
       "    </tr>\n",
       "    <tr>\n",
       "      <th>YAL005C</th>\n",
       "      <td>0.105597</td>\n",
       "      <td>-1.476444</td>\n",
       "      <td>0.886466</td>\n",
       "      <td>-0.108302</td>\n",
       "      <td>0.081409</td>\n",
       "      <td>-0.796944</td>\n",
       "      <td>-0.108440</td>\n",
       "      <td>-0.015199</td>\n",
       "      <td>0.045282</td>\n",
       "      <td>0.140557</td>\n",
       "      <td>...</td>\n",
       "      <td>-0.144813</td>\n",
       "      <td>-0.238780</td>\n",
       "      <td>-2.591392</td>\n",
       "      <td>-1.666898</td>\n",
       "      <td>1.274340</td>\n",
       "      <td>-0.454355</td>\n",
       "      <td>-1.535710</td>\n",
       "      <td>0.053646</td>\n",
       "      <td>-0.077133</td>\n",
       "      <td>-9.861199</td>\n",
       "    </tr>\n",
       "  </tbody>\n",
       "</table>\n",
       "<p>5 rows × 5590 columns</p>\n",
       "</div>"
      ],
      "text/plain": [
       "            1087      16622     456       1052      1053       1054   \\\n",
       "orf                                                                    \n",
       "YAL001C  0.153577 -0.039887  0.065251 -1.965097 -0.004813  -0.032265   \n",
       "YAL002W -0.093247  0.261198 -7.264610 -7.892758  0.107382 -10.748092   \n",
       "YAL003W       NaN  0.126743       NaN       NaN       NaN        NaN   \n",
       "YAL004W  0.195749  0.303275 -0.440025 -0.445849  0.054191   0.328757   \n",
       "YAL005C  0.105597 -1.476444  0.886466 -0.108302  0.081409  -0.796944   \n",
       "\n",
       "            1055      1056      1057      1058   ...     21823     21824  \\\n",
       "orf                                              ...                       \n",
       "YAL001C -0.941140 -0.076135  0.072909 -1.365976  ...  0.778166  0.050034   \n",
       "YAL002W -0.228372  0.014193 -7.588114  0.001553  ...  0.910103 -0.100594   \n",
       "YAL003W       NaN       NaN       NaN       NaN  ... -1.002932 -0.154591   \n",
       "YAL004W -0.044282 -0.161686 -0.006767 -0.019377  ...  0.186409  2.190569   \n",
       "YAL005C -0.108440 -0.015199  0.045282  0.140557  ... -0.144813 -0.238780   \n",
       "\n",
       "            21825     21826     21827     21828     21829     21830     21831  \\\n",
       "orf                                                                             \n",
       "YAL001C -1.294978  1.094208 -0.079728 -0.660730 -0.169347  0.391134  0.632678   \n",
       "YAL002W -0.603035 -0.433792  0.312510  1.488788 -1.736656  2.267683 -0.620552   \n",
       "YAL003W -0.645912  2.670172  0.040620  0.940628  0.188706 -0.320287 -0.102011   \n",
       "YAL004W -0.051758 -1.646874  0.143214  0.497081 -2.862873 -0.394184 -2.654636   \n",
       "YAL005C -2.591392 -1.666898  1.274340 -0.454355 -1.535710  0.053646 -0.077133   \n",
       "\n",
       "            21832  \n",
       "orf                \n",
       "YAL001C -0.011431  \n",
       "YAL002W -0.110128  \n",
       "YAL003W  0.127858  \n",
       "YAL004W -0.060194  \n",
       "YAL005C -9.861199  \n",
       "\n",
       "[5 rows x 5590 columns]"
      ]
     },
     "execution_count": 159,
     "metadata": {},
     "output_type": "execute_result"
    }
   ],
   "source": [
    "original_data_final.head()"
   ]
  },
  {
   "cell_type": "markdown",
   "metadata": {},
   "source": [
    "# Prepare final dataset"
   ]
  },
  {
   "cell_type": "code",
   "execution_count": 160,
   "metadata": {},
   "outputs": [],
   "source": [
    "data = original_data_final.copy()"
   ]
  },
  {
   "cell_type": "code",
   "execution_count": 161,
   "metadata": {},
   "outputs": [],
   "source": [
    "dataset_ids = original_data_final.columns.values\n",
    "datasets = datasets.reindex(index=dataset_ids)"
   ]
  },
  {
   "cell_type": "code",
   "execution_count": 162,
   "metadata": {},
   "outputs": [],
   "source": [
    "lst = [datasets.index.values, ['value']*datasets.shape[0]]\n",
    "tuples = list(zip(*lst))\n",
    "idx = pd.MultiIndex.from_tuples(tuples, names=['dataset_id','data_type'])\n",
    "data.columns = idx"
   ]
  },
  {
   "cell_type": "code",
   "execution_count": 163,
   "metadata": {},
   "outputs": [
    {
     "data": {
      "text/html": [
       "<div>\n",
       "<style scoped>\n",
       "    .dataframe tbody tr th:only-of-type {\n",
       "        vertical-align: middle;\n",
       "    }\n",
       "\n",
       "    .dataframe tbody tr th {\n",
       "        vertical-align: top;\n",
       "    }\n",
       "\n",
       "    .dataframe thead tr th {\n",
       "        text-align: left;\n",
       "    }\n",
       "\n",
       "    .dataframe thead tr:last-of-type th {\n",
       "        text-align: right;\n",
       "    }\n",
       "</style>\n",
       "<table border=\"1\" class=\"dataframe\">\n",
       "  <thead>\n",
       "    <tr>\n",
       "      <th>dataset_id</th>\n",
       "      <th>1087</th>\n",
       "      <th>16622</th>\n",
       "      <th>456</th>\n",
       "      <th>1052</th>\n",
       "      <th>1053</th>\n",
       "      <th>1054</th>\n",
       "      <th>1055</th>\n",
       "      <th>1056</th>\n",
       "      <th>1057</th>\n",
       "      <th>1058</th>\n",
       "      <th>...</th>\n",
       "      <th>21823</th>\n",
       "      <th>21824</th>\n",
       "      <th>21825</th>\n",
       "      <th>21826</th>\n",
       "      <th>21827</th>\n",
       "      <th>21828</th>\n",
       "      <th>21829</th>\n",
       "      <th>21830</th>\n",
       "      <th>21831</th>\n",
       "      <th>21832</th>\n",
       "    </tr>\n",
       "    <tr>\n",
       "      <th>data_type</th>\n",
       "      <th>value</th>\n",
       "      <th>value</th>\n",
       "      <th>value</th>\n",
       "      <th>value</th>\n",
       "      <th>value</th>\n",
       "      <th>value</th>\n",
       "      <th>value</th>\n",
       "      <th>value</th>\n",
       "      <th>value</th>\n",
       "      <th>value</th>\n",
       "      <th>...</th>\n",
       "      <th>value</th>\n",
       "      <th>value</th>\n",
       "      <th>value</th>\n",
       "      <th>value</th>\n",
       "      <th>value</th>\n",
       "      <th>value</th>\n",
       "      <th>value</th>\n",
       "      <th>value</th>\n",
       "      <th>value</th>\n",
       "      <th>value</th>\n",
       "    </tr>\n",
       "    <tr>\n",
       "      <th>orf</th>\n",
       "      <th></th>\n",
       "      <th></th>\n",
       "      <th></th>\n",
       "      <th></th>\n",
       "      <th></th>\n",
       "      <th></th>\n",
       "      <th></th>\n",
       "      <th></th>\n",
       "      <th></th>\n",
       "      <th></th>\n",
       "      <th></th>\n",
       "      <th></th>\n",
       "      <th></th>\n",
       "      <th></th>\n",
       "      <th></th>\n",
       "      <th></th>\n",
       "      <th></th>\n",
       "      <th></th>\n",
       "      <th></th>\n",
       "      <th></th>\n",
       "      <th></th>\n",
       "    </tr>\n",
       "  </thead>\n",
       "  <tbody>\n",
       "    <tr>\n",
       "      <th>YAL001C</th>\n",
       "      <td>0.153577</td>\n",
       "      <td>-0.039887</td>\n",
       "      <td>0.065251</td>\n",
       "      <td>-1.965097</td>\n",
       "      <td>-0.004813</td>\n",
       "      <td>-0.032265</td>\n",
       "      <td>-0.941140</td>\n",
       "      <td>-0.076135</td>\n",
       "      <td>0.072909</td>\n",
       "      <td>-1.365976</td>\n",
       "      <td>...</td>\n",
       "      <td>0.778166</td>\n",
       "      <td>0.050034</td>\n",
       "      <td>-1.294978</td>\n",
       "      <td>1.094208</td>\n",
       "      <td>-0.079728</td>\n",
       "      <td>-0.660730</td>\n",
       "      <td>-0.169347</td>\n",
       "      <td>0.391134</td>\n",
       "      <td>0.632678</td>\n",
       "      <td>-0.011431</td>\n",
       "    </tr>\n",
       "    <tr>\n",
       "      <th>YAL002W</th>\n",
       "      <td>-0.093247</td>\n",
       "      <td>0.261198</td>\n",
       "      <td>-7.264610</td>\n",
       "      <td>-7.892758</td>\n",
       "      <td>0.107382</td>\n",
       "      <td>-10.748092</td>\n",
       "      <td>-0.228372</td>\n",
       "      <td>0.014193</td>\n",
       "      <td>-7.588114</td>\n",
       "      <td>0.001553</td>\n",
       "      <td>...</td>\n",
       "      <td>0.910103</td>\n",
       "      <td>-0.100594</td>\n",
       "      <td>-0.603035</td>\n",
       "      <td>-0.433792</td>\n",
       "      <td>0.312510</td>\n",
       "      <td>1.488788</td>\n",
       "      <td>-1.736656</td>\n",
       "      <td>2.267683</td>\n",
       "      <td>-0.620552</td>\n",
       "      <td>-0.110128</td>\n",
       "    </tr>\n",
       "    <tr>\n",
       "      <th>YAL003W</th>\n",
       "      <td>NaN</td>\n",
       "      <td>0.126743</td>\n",
       "      <td>NaN</td>\n",
       "      <td>NaN</td>\n",
       "      <td>NaN</td>\n",
       "      <td>NaN</td>\n",
       "      <td>NaN</td>\n",
       "      <td>NaN</td>\n",
       "      <td>NaN</td>\n",
       "      <td>NaN</td>\n",
       "      <td>...</td>\n",
       "      <td>-1.002932</td>\n",
       "      <td>-0.154591</td>\n",
       "      <td>-0.645912</td>\n",
       "      <td>2.670172</td>\n",
       "      <td>0.040620</td>\n",
       "      <td>0.940628</td>\n",
       "      <td>0.188706</td>\n",
       "      <td>-0.320287</td>\n",
       "      <td>-0.102011</td>\n",
       "      <td>0.127858</td>\n",
       "    </tr>\n",
       "    <tr>\n",
       "      <th>YAL004W</th>\n",
       "      <td>0.195749</td>\n",
       "      <td>0.303275</td>\n",
       "      <td>-0.440025</td>\n",
       "      <td>-0.445849</td>\n",
       "      <td>0.054191</td>\n",
       "      <td>0.328757</td>\n",
       "      <td>-0.044282</td>\n",
       "      <td>-0.161686</td>\n",
       "      <td>-0.006767</td>\n",
       "      <td>-0.019377</td>\n",
       "      <td>...</td>\n",
       "      <td>0.186409</td>\n",
       "      <td>2.190569</td>\n",
       "      <td>-0.051758</td>\n",
       "      <td>-1.646874</td>\n",
       "      <td>0.143214</td>\n",
       "      <td>0.497081</td>\n",
       "      <td>-2.862873</td>\n",
       "      <td>-0.394184</td>\n",
       "      <td>-2.654636</td>\n",
       "      <td>-0.060194</td>\n",
       "    </tr>\n",
       "    <tr>\n",
       "      <th>YAL005C</th>\n",
       "      <td>0.105597</td>\n",
       "      <td>-1.476444</td>\n",
       "      <td>0.886466</td>\n",
       "      <td>-0.108302</td>\n",
       "      <td>0.081409</td>\n",
       "      <td>-0.796944</td>\n",
       "      <td>-0.108440</td>\n",
       "      <td>-0.015199</td>\n",
       "      <td>0.045282</td>\n",
       "      <td>0.140557</td>\n",
       "      <td>...</td>\n",
       "      <td>-0.144813</td>\n",
       "      <td>-0.238780</td>\n",
       "      <td>-2.591392</td>\n",
       "      <td>-1.666898</td>\n",
       "      <td>1.274340</td>\n",
       "      <td>-0.454355</td>\n",
       "      <td>-1.535710</td>\n",
       "      <td>0.053646</td>\n",
       "      <td>-0.077133</td>\n",
       "      <td>-9.861199</td>\n",
       "    </tr>\n",
       "  </tbody>\n",
       "</table>\n",
       "<p>5 rows × 5590 columns</p>\n",
       "</div>"
      ],
      "text/plain": [
       "dataset_id     1087      16622     456       1052      1053       1054   \\\n",
       "data_type      value     value     value     value     value      value   \n",
       "orf                                                                       \n",
       "YAL001C     0.153577 -0.039887  0.065251 -1.965097 -0.004813  -0.032265   \n",
       "YAL002W    -0.093247  0.261198 -7.264610 -7.892758  0.107382 -10.748092   \n",
       "YAL003W          NaN  0.126743       NaN       NaN       NaN        NaN   \n",
       "YAL004W     0.195749  0.303275 -0.440025 -0.445849  0.054191   0.328757   \n",
       "YAL005C     0.105597 -1.476444  0.886466 -0.108302  0.081409  -0.796944   \n",
       "\n",
       "dataset_id     1055      1056      1057      1058   ...     21823     21824  \\\n",
       "data_type      value     value     value     value  ...     value     value   \n",
       "orf                                                 ...                       \n",
       "YAL001C    -0.941140 -0.076135  0.072909 -1.365976  ...  0.778166  0.050034   \n",
       "YAL002W    -0.228372  0.014193 -7.588114  0.001553  ...  0.910103 -0.100594   \n",
       "YAL003W          NaN       NaN       NaN       NaN  ... -1.002932 -0.154591   \n",
       "YAL004W    -0.044282 -0.161686 -0.006767 -0.019377  ...  0.186409  2.190569   \n",
       "YAL005C    -0.108440 -0.015199  0.045282  0.140557  ... -0.144813 -0.238780   \n",
       "\n",
       "dataset_id     21825     21826     21827     21828     21829     21830  \\\n",
       "data_type      value     value     value     value     value     value   \n",
       "orf                                                                      \n",
       "YAL001C    -1.294978  1.094208 -0.079728 -0.660730 -0.169347  0.391134   \n",
       "YAL002W    -0.603035 -0.433792  0.312510  1.488788 -1.736656  2.267683   \n",
       "YAL003W    -0.645912  2.670172  0.040620  0.940628  0.188706 -0.320287   \n",
       "YAL004W    -0.051758 -1.646874  0.143214  0.497081 -2.862873 -0.394184   \n",
       "YAL005C    -2.591392 -1.666898  1.274340 -0.454355 -1.535710  0.053646   \n",
       "\n",
       "dataset_id     21831     21832  \n",
       "data_type      value     value  \n",
       "orf                             \n",
       "YAL001C     0.632678 -0.011431  \n",
       "YAL002W    -0.620552 -0.110128  \n",
       "YAL003W    -0.102011  0.127858  \n",
       "YAL004W    -2.654636 -0.060194  \n",
       "YAL005C    -0.077133 -9.861199  \n",
       "\n",
       "[5 rows x 5590 columns]"
      ]
     },
     "execution_count": 163,
     "metadata": {},
     "output_type": "execute_result"
    }
   ],
   "source": [
    "data.head()"
   ]
  },
  {
   "cell_type": "markdown",
   "metadata": {},
   "source": [
    "## Subset to the genes currently in SGD"
   ]
  },
  {
   "cell_type": "code",
   "execution_count": 164,
   "metadata": {},
   "outputs": [
    {
     "name": "stdout",
     "output_type": "stream",
     "text": [
      "ORFs missing from SGD: 24\n"
     ]
    }
   ],
   "source": [
    "genes = pd.read_csv(path_to_genes, sep='\\t', index_col='id')\n",
    "genes = genes.reset_index().set_index('systematic_name')\n",
    "gene_ids = genes.reindex(index=data.index.values)['id'].values\n",
    "num_missing = np.sum(np.isnan(gene_ids))\n",
    "print('ORFs missing from SGD: %d' % num_missing)"
   ]
  },
  {
   "cell_type": "code",
   "execution_count": 165,
   "metadata": {},
   "outputs": [
    {
     "data": {
      "text/html": [
       "<div>\n",
       "<style scoped>\n",
       "    .dataframe tbody tr th:only-of-type {\n",
       "        vertical-align: middle;\n",
       "    }\n",
       "\n",
       "    .dataframe tbody tr th {\n",
       "        vertical-align: top;\n",
       "    }\n",
       "\n",
       "    .dataframe thead tr th {\n",
       "        text-align: left;\n",
       "    }\n",
       "\n",
       "    .dataframe thead tr:last-of-type th {\n",
       "        text-align: right;\n",
       "    }\n",
       "</style>\n",
       "<table border=\"1\" class=\"dataframe\">\n",
       "  <thead>\n",
       "    <tr>\n",
       "      <th></th>\n",
       "      <th>dataset_id</th>\n",
       "      <th>1087</th>\n",
       "      <th>16622</th>\n",
       "      <th>456</th>\n",
       "      <th>1052</th>\n",
       "      <th>1053</th>\n",
       "      <th>1054</th>\n",
       "      <th>1055</th>\n",
       "      <th>1056</th>\n",
       "      <th>1057</th>\n",
       "      <th>1058</th>\n",
       "      <th>...</th>\n",
       "      <th>21823</th>\n",
       "      <th>21824</th>\n",
       "      <th>21825</th>\n",
       "      <th>21826</th>\n",
       "      <th>21827</th>\n",
       "      <th>21828</th>\n",
       "      <th>21829</th>\n",
       "      <th>21830</th>\n",
       "      <th>21831</th>\n",
       "      <th>21832</th>\n",
       "    </tr>\n",
       "    <tr>\n",
       "      <th></th>\n",
       "      <th>data_type</th>\n",
       "      <th>value</th>\n",
       "      <th>value</th>\n",
       "      <th>value</th>\n",
       "      <th>value</th>\n",
       "      <th>value</th>\n",
       "      <th>value</th>\n",
       "      <th>value</th>\n",
       "      <th>value</th>\n",
       "      <th>value</th>\n",
       "      <th>value</th>\n",
       "      <th>...</th>\n",
       "      <th>value</th>\n",
       "      <th>value</th>\n",
       "      <th>value</th>\n",
       "      <th>value</th>\n",
       "      <th>value</th>\n",
       "      <th>value</th>\n",
       "      <th>value</th>\n",
       "      <th>value</th>\n",
       "      <th>value</th>\n",
       "      <th>value</th>\n",
       "    </tr>\n",
       "    <tr>\n",
       "      <th>gene_id</th>\n",
       "      <th>orf</th>\n",
       "      <th></th>\n",
       "      <th></th>\n",
       "      <th></th>\n",
       "      <th></th>\n",
       "      <th></th>\n",
       "      <th></th>\n",
       "      <th></th>\n",
       "      <th></th>\n",
       "      <th></th>\n",
       "      <th></th>\n",
       "      <th></th>\n",
       "      <th></th>\n",
       "      <th></th>\n",
       "      <th></th>\n",
       "      <th></th>\n",
       "      <th></th>\n",
       "      <th></th>\n",
       "      <th></th>\n",
       "      <th></th>\n",
       "      <th></th>\n",
       "      <th></th>\n",
       "    </tr>\n",
       "  </thead>\n",
       "  <tbody>\n",
       "    <tr>\n",
       "      <th>1</th>\n",
       "      <th>YAL001C</th>\n",
       "      <td>0.153577</td>\n",
       "      <td>-0.039887</td>\n",
       "      <td>0.065251</td>\n",
       "      <td>-1.965097</td>\n",
       "      <td>-0.004813</td>\n",
       "      <td>-0.032265</td>\n",
       "      <td>-0.941140</td>\n",
       "      <td>-0.076135</td>\n",
       "      <td>0.072909</td>\n",
       "      <td>-1.365976</td>\n",
       "      <td>...</td>\n",
       "      <td>0.778166</td>\n",
       "      <td>0.050034</td>\n",
       "      <td>-1.294978</td>\n",
       "      <td>1.094208</td>\n",
       "      <td>-0.079728</td>\n",
       "      <td>-0.660730</td>\n",
       "      <td>-0.169347</td>\n",
       "      <td>0.391134</td>\n",
       "      <td>0.632678</td>\n",
       "      <td>-0.011431</td>\n",
       "    </tr>\n",
       "    <tr>\n",
       "      <th>2</th>\n",
       "      <th>YAL002W</th>\n",
       "      <td>-0.093247</td>\n",
       "      <td>0.261198</td>\n",
       "      <td>-7.264610</td>\n",
       "      <td>-7.892758</td>\n",
       "      <td>0.107382</td>\n",
       "      <td>-10.748092</td>\n",
       "      <td>-0.228372</td>\n",
       "      <td>0.014193</td>\n",
       "      <td>-7.588114</td>\n",
       "      <td>0.001553</td>\n",
       "      <td>...</td>\n",
       "      <td>0.910103</td>\n",
       "      <td>-0.100594</td>\n",
       "      <td>-0.603035</td>\n",
       "      <td>-0.433792</td>\n",
       "      <td>0.312510</td>\n",
       "      <td>1.488788</td>\n",
       "      <td>-1.736656</td>\n",
       "      <td>2.267683</td>\n",
       "      <td>-0.620552</td>\n",
       "      <td>-0.110128</td>\n",
       "    </tr>\n",
       "    <tr>\n",
       "      <th>3</th>\n",
       "      <th>YAL003W</th>\n",
       "      <td>NaN</td>\n",
       "      <td>0.126743</td>\n",
       "      <td>NaN</td>\n",
       "      <td>NaN</td>\n",
       "      <td>NaN</td>\n",
       "      <td>NaN</td>\n",
       "      <td>NaN</td>\n",
       "      <td>NaN</td>\n",
       "      <td>NaN</td>\n",
       "      <td>NaN</td>\n",
       "      <td>...</td>\n",
       "      <td>-1.002932</td>\n",
       "      <td>-0.154591</td>\n",
       "      <td>-0.645912</td>\n",
       "      <td>2.670172</td>\n",
       "      <td>0.040620</td>\n",
       "      <td>0.940628</td>\n",
       "      <td>0.188706</td>\n",
       "      <td>-0.320287</td>\n",
       "      <td>-0.102011</td>\n",
       "      <td>0.127858</td>\n",
       "    </tr>\n",
       "    <tr>\n",
       "      <th>1863</th>\n",
       "      <th>YAL004W</th>\n",
       "      <td>0.195749</td>\n",
       "      <td>0.303275</td>\n",
       "      <td>-0.440025</td>\n",
       "      <td>-0.445849</td>\n",
       "      <td>0.054191</td>\n",
       "      <td>0.328757</td>\n",
       "      <td>-0.044282</td>\n",
       "      <td>-0.161686</td>\n",
       "      <td>-0.006767</td>\n",
       "      <td>-0.019377</td>\n",
       "      <td>...</td>\n",
       "      <td>0.186409</td>\n",
       "      <td>2.190569</td>\n",
       "      <td>-0.051758</td>\n",
       "      <td>-1.646874</td>\n",
       "      <td>0.143214</td>\n",
       "      <td>0.497081</td>\n",
       "      <td>-2.862873</td>\n",
       "      <td>-0.394184</td>\n",
       "      <td>-2.654636</td>\n",
       "      <td>-0.060194</td>\n",
       "    </tr>\n",
       "    <tr>\n",
       "      <th>4</th>\n",
       "      <th>YAL005C</th>\n",
       "      <td>0.105597</td>\n",
       "      <td>-1.476444</td>\n",
       "      <td>0.886466</td>\n",
       "      <td>-0.108302</td>\n",
       "      <td>0.081409</td>\n",
       "      <td>-0.796944</td>\n",
       "      <td>-0.108440</td>\n",
       "      <td>-0.015199</td>\n",
       "      <td>0.045282</td>\n",
       "      <td>0.140557</td>\n",
       "      <td>...</td>\n",
       "      <td>-0.144813</td>\n",
       "      <td>-0.238780</td>\n",
       "      <td>-2.591392</td>\n",
       "      <td>-1.666898</td>\n",
       "      <td>1.274340</td>\n",
       "      <td>-0.454355</td>\n",
       "      <td>-1.535710</td>\n",
       "      <td>0.053646</td>\n",
       "      <td>-0.077133</td>\n",
       "      <td>-9.861199</td>\n",
       "    </tr>\n",
       "  </tbody>\n",
       "</table>\n",
       "<p>5 rows × 5590 columns</p>\n",
       "</div>"
      ],
      "text/plain": [
       "dataset_id          1087      16622     456       1052      1053       1054   \\\n",
       "data_type           value     value     value     value     value      value   \n",
       "gene_id orf                                                                    \n",
       "1       YAL001C  0.153577 -0.039887  0.065251 -1.965097 -0.004813  -0.032265   \n",
       "2       YAL002W -0.093247  0.261198 -7.264610 -7.892758  0.107382 -10.748092   \n",
       "3       YAL003W       NaN  0.126743       NaN       NaN       NaN        NaN   \n",
       "1863    YAL004W  0.195749  0.303275 -0.440025 -0.445849  0.054191   0.328757   \n",
       "4       YAL005C  0.105597 -1.476444  0.886466 -0.108302  0.081409  -0.796944   \n",
       "\n",
       "dataset_id          1055      1056      1057      1058   ...     21823  \\\n",
       "data_type           value     value     value     value  ...     value   \n",
       "gene_id orf                                              ...             \n",
       "1       YAL001C -0.941140 -0.076135  0.072909 -1.365976  ...  0.778166   \n",
       "2       YAL002W -0.228372  0.014193 -7.588114  0.001553  ...  0.910103   \n",
       "3       YAL003W       NaN       NaN       NaN       NaN  ... -1.002932   \n",
       "1863    YAL004W -0.044282 -0.161686 -0.006767 -0.019377  ...  0.186409   \n",
       "4       YAL005C -0.108440 -0.015199  0.045282  0.140557  ... -0.144813   \n",
       "\n",
       "dataset_id          21824     21825     21826     21827     21828     21829  \\\n",
       "data_type           value     value     value     value     value     value   \n",
       "gene_id orf                                                                   \n",
       "1       YAL001C  0.050034 -1.294978  1.094208 -0.079728 -0.660730 -0.169347   \n",
       "2       YAL002W -0.100594 -0.603035 -0.433792  0.312510  1.488788 -1.736656   \n",
       "3       YAL003W -0.154591 -0.645912  2.670172  0.040620  0.940628  0.188706   \n",
       "1863    YAL004W  2.190569 -0.051758 -1.646874  0.143214  0.497081 -2.862873   \n",
       "4       YAL005C -0.238780 -2.591392 -1.666898  1.274340 -0.454355 -1.535710   \n",
       "\n",
       "dataset_id          21830     21831     21832  \n",
       "data_type           value     value     value  \n",
       "gene_id orf                                    \n",
       "1       YAL001C  0.391134  0.632678 -0.011431  \n",
       "2       YAL002W  2.267683 -0.620552 -0.110128  \n",
       "3       YAL003W -0.320287 -0.102011  0.127858  \n",
       "1863    YAL004W -0.394184 -2.654636 -0.060194  \n",
       "4       YAL005C  0.053646 -0.077133 -9.861199  \n",
       "\n",
       "[5 rows x 5590 columns]"
      ]
     },
     "execution_count": 165,
     "metadata": {},
     "output_type": "execute_result"
    }
   ],
   "source": [
    "data['gene_id'] = gene_ids\n",
    "data = data.loc[data['gene_id'].notnull()]\n",
    "data['gene_id'] = data['gene_id'].astype(int)\n",
    "data = data.reset_index().set_index(['gene_id','orf'])\n",
    "\n",
    "data.head()"
   ]
  },
  {
   "cell_type": "markdown",
   "metadata": {},
   "source": [
    "# Normalize"
   ]
  },
  {
   "cell_type": "code",
   "execution_count": 166,
   "metadata": {},
   "outputs": [],
   "source": [
    "data_norm = normalize_phenotypic_scores(data, has_tested=True)"
   ]
  },
  {
   "cell_type": "code",
   "execution_count": 167,
   "metadata": {},
   "outputs": [],
   "source": [
    "# Assign proper column names\n",
    "lst = [datasets.index.values, ['valuez']*datasets.shape[0]]\n",
    "tuples = list(zip(*lst))\n",
    "idx = pd.MultiIndex.from_tuples(tuples, names=['dataset_id','data_type'])\n",
    "data_norm.columns = idx"
   ]
  },
  {
   "cell_type": "code",
   "execution_count": 168,
   "metadata": {},
   "outputs": [],
   "source": [
    "data_vals = data.values\n",
    "data_norm_vals = data_norm.values\n",
    "\n",
    "data_norm_vals[np.isnan(data_vals)] = np.nan\n",
    "\n",
    "data_norm = pd.DataFrame(index=data_norm.index, columns=data_norm.columns, data=data_norm_vals)"
   ]
  },
  {
   "cell_type": "code",
   "execution_count": 169,
   "metadata": {},
   "outputs": [
    {
     "data": {
      "text/html": [
       "<div>\n",
       "<style scoped>\n",
       "    .dataframe tbody tr th:only-of-type {\n",
       "        vertical-align: middle;\n",
       "    }\n",
       "\n",
       "    .dataframe tbody tr th {\n",
       "        vertical-align: top;\n",
       "    }\n",
       "\n",
       "    .dataframe thead tr th {\n",
       "        text-align: left;\n",
       "    }\n",
       "\n",
       "    .dataframe thead tr:last-of-type th {\n",
       "        text-align: right;\n",
       "    }\n",
       "</style>\n",
       "<table border=\"1\" class=\"dataframe\">\n",
       "  <thead>\n",
       "    <tr>\n",
       "      <th></th>\n",
       "      <th>dataset_id</th>\n",
       "      <th>1087</th>\n",
       "      <th>16622</th>\n",
       "      <th>456</th>\n",
       "      <th>1052</th>\n",
       "      <th>1053</th>\n",
       "      <th>1054</th>\n",
       "      <th>1055</th>\n",
       "      <th>1056</th>\n",
       "      <th>1057</th>\n",
       "      <th>1058</th>\n",
       "      <th>...</th>\n",
       "      <th>21823</th>\n",
       "      <th>21824</th>\n",
       "      <th>21825</th>\n",
       "      <th>21826</th>\n",
       "      <th>21827</th>\n",
       "      <th>21828</th>\n",
       "      <th>21829</th>\n",
       "      <th>21830</th>\n",
       "      <th>21831</th>\n",
       "      <th>21832</th>\n",
       "    </tr>\n",
       "    <tr>\n",
       "      <th></th>\n",
       "      <th>data_type</th>\n",
       "      <th>value</th>\n",
       "      <th>value</th>\n",
       "      <th>value</th>\n",
       "      <th>value</th>\n",
       "      <th>value</th>\n",
       "      <th>value</th>\n",
       "      <th>value</th>\n",
       "      <th>value</th>\n",
       "      <th>value</th>\n",
       "      <th>value</th>\n",
       "      <th>...</th>\n",
       "      <th>valuez</th>\n",
       "      <th>valuez</th>\n",
       "      <th>valuez</th>\n",
       "      <th>valuez</th>\n",
       "      <th>valuez</th>\n",
       "      <th>valuez</th>\n",
       "      <th>valuez</th>\n",
       "      <th>valuez</th>\n",
       "      <th>valuez</th>\n",
       "      <th>valuez</th>\n",
       "    </tr>\n",
       "    <tr>\n",
       "      <th>gene_id</th>\n",
       "      <th>orf</th>\n",
       "      <th></th>\n",
       "      <th></th>\n",
       "      <th></th>\n",
       "      <th></th>\n",
       "      <th></th>\n",
       "      <th></th>\n",
       "      <th></th>\n",
       "      <th></th>\n",
       "      <th></th>\n",
       "      <th></th>\n",
       "      <th></th>\n",
       "      <th></th>\n",
       "      <th></th>\n",
       "      <th></th>\n",
       "      <th></th>\n",
       "      <th></th>\n",
       "      <th></th>\n",
       "      <th></th>\n",
       "      <th></th>\n",
       "      <th></th>\n",
       "      <th></th>\n",
       "    </tr>\n",
       "  </thead>\n",
       "  <tbody>\n",
       "    <tr>\n",
       "      <th>1</th>\n",
       "      <th>YAL001C</th>\n",
       "      <td>0.153577</td>\n",
       "      <td>-0.039887</td>\n",
       "      <td>0.065251</td>\n",
       "      <td>-1.965097</td>\n",
       "      <td>-0.004813</td>\n",
       "      <td>-0.032265</td>\n",
       "      <td>-0.941140</td>\n",
       "      <td>-0.076135</td>\n",
       "      <td>0.072909</td>\n",
       "      <td>-1.365976</td>\n",
       "      <td>...</td>\n",
       "      <td>0.635389</td>\n",
       "      <td>0.094559</td>\n",
       "      <td>-1.426501</td>\n",
       "      <td>0.795991</td>\n",
       "      <td>0.027872</td>\n",
       "      <td>-0.396927</td>\n",
       "      <td>-0.295679</td>\n",
       "      <td>0.439669</td>\n",
       "      <td>0.713175</td>\n",
       "      <td>0.024946</td>\n",
       "    </tr>\n",
       "    <tr>\n",
       "      <th>2</th>\n",
       "      <th>YAL002W</th>\n",
       "      <td>-0.093247</td>\n",
       "      <td>0.261198</td>\n",
       "      <td>-7.264610</td>\n",
       "      <td>-7.892758</td>\n",
       "      <td>0.107382</td>\n",
       "      <td>-10.748092</td>\n",
       "      <td>-0.228372</td>\n",
       "      <td>0.014193</td>\n",
       "      <td>-7.588114</td>\n",
       "      <td>0.001553</td>\n",
       "      <td>...</td>\n",
       "      <td>0.734004</td>\n",
       "      <td>-0.061829</td>\n",
       "      <td>-0.746929</td>\n",
       "      <td>-0.258524</td>\n",
       "      <td>0.260448</td>\n",
       "      <td>0.901057</td>\n",
       "      <td>-2.291429</td>\n",
       "      <td>2.570595</td>\n",
       "      <td>-0.704679</td>\n",
       "      <td>-0.064953</td>\n",
       "    </tr>\n",
       "    <tr>\n",
       "      <th>3</th>\n",
       "      <th>YAL003W</th>\n",
       "      <td>NaN</td>\n",
       "      <td>0.126743</td>\n",
       "      <td>NaN</td>\n",
       "      <td>NaN</td>\n",
       "      <td>NaN</td>\n",
       "      <td>NaN</td>\n",
       "      <td>NaN</td>\n",
       "      <td>NaN</td>\n",
       "      <td>NaN</td>\n",
       "      <td>NaN</td>\n",
       "      <td>...</td>\n",
       "      <td>-0.695882</td>\n",
       "      <td>-0.117891</td>\n",
       "      <td>-0.789039</td>\n",
       "      <td>1.883608</td>\n",
       "      <td>0.099232</td>\n",
       "      <td>0.570052</td>\n",
       "      <td>0.160251</td>\n",
       "      <td>-0.368190</td>\n",
       "      <td>-0.118022</td>\n",
       "      <td>0.151820</td>\n",
       "    </tr>\n",
       "    <tr>\n",
       "      <th>1863</th>\n",
       "      <th>YAL004W</th>\n",
       "      <td>0.195749</td>\n",
       "      <td>0.303275</td>\n",
       "      <td>-0.440025</td>\n",
       "      <td>-0.445849</td>\n",
       "      <td>0.054191</td>\n",
       "      <td>0.328757</td>\n",
       "      <td>-0.044282</td>\n",
       "      <td>-0.161686</td>\n",
       "      <td>-0.006767</td>\n",
       "      <td>-0.019377</td>\n",
       "      <td>...</td>\n",
       "      <td>0.193083</td>\n",
       "      <td>2.316947</td>\n",
       "      <td>-0.205508</td>\n",
       "      <td>-1.095705</td>\n",
       "      <td>0.160065</td>\n",
       "      <td>0.302216</td>\n",
       "      <td>-3.725510</td>\n",
       "      <td>-0.452105</td>\n",
       "      <td>-3.005959</td>\n",
       "      <td>-0.019470</td>\n",
       "    </tr>\n",
       "    <tr>\n",
       "      <th>4</th>\n",
       "      <th>YAL005C</th>\n",
       "      <td>0.105597</td>\n",
       "      <td>-1.476444</td>\n",
       "      <td>0.886466</td>\n",
       "      <td>-0.108302</td>\n",
       "      <td>0.081409</td>\n",
       "      <td>-0.796944</td>\n",
       "      <td>-0.108440</td>\n",
       "      <td>-0.015199</td>\n",
       "      <td>0.045282</td>\n",
       "      <td>0.140557</td>\n",
       "      <td>...</td>\n",
       "      <td>-0.054487</td>\n",
       "      <td>-0.205299</td>\n",
       "      <td>-2.699737</td>\n",
       "      <td>-1.109525</td>\n",
       "      <td>0.830762</td>\n",
       "      <td>-0.272307</td>\n",
       "      <td>-2.035553</td>\n",
       "      <td>0.056431</td>\n",
       "      <td>-0.089876</td>\n",
       "      <td>-8.946863</td>\n",
       "    </tr>\n",
       "  </tbody>\n",
       "</table>\n",
       "<p>5 rows × 11180 columns</p>\n",
       "</div>"
      ],
      "text/plain": [
       "dataset_id          1087      16622     456       1052      1053       1054   \\\n",
       "data_type           value     value     value     value     value      value   \n",
       "gene_id orf                                                                    \n",
       "1       YAL001C  0.153577 -0.039887  0.065251 -1.965097 -0.004813  -0.032265   \n",
       "2       YAL002W -0.093247  0.261198 -7.264610 -7.892758  0.107382 -10.748092   \n",
       "3       YAL003W       NaN  0.126743       NaN       NaN       NaN        NaN   \n",
       "1863    YAL004W  0.195749  0.303275 -0.440025 -0.445849  0.054191   0.328757   \n",
       "4       YAL005C  0.105597 -1.476444  0.886466 -0.108302  0.081409  -0.796944   \n",
       "\n",
       "dataset_id          1055      1056      1057      1058   ...     21823  \\\n",
       "data_type           value     value     value     value  ...    valuez   \n",
       "gene_id orf                                              ...             \n",
       "1       YAL001C -0.941140 -0.076135  0.072909 -1.365976  ...  0.635389   \n",
       "2       YAL002W -0.228372  0.014193 -7.588114  0.001553  ...  0.734004   \n",
       "3       YAL003W       NaN       NaN       NaN       NaN  ... -0.695882   \n",
       "1863    YAL004W -0.044282 -0.161686 -0.006767 -0.019377  ...  0.193083   \n",
       "4       YAL005C -0.108440 -0.015199  0.045282  0.140557  ... -0.054487   \n",
       "\n",
       "dataset_id          21824     21825     21826     21827     21828     21829  \\\n",
       "data_type          valuez    valuez    valuez    valuez    valuez    valuez   \n",
       "gene_id orf                                                                   \n",
       "1       YAL001C  0.094559 -1.426501  0.795991  0.027872 -0.396927 -0.295679   \n",
       "2       YAL002W -0.061829 -0.746929 -0.258524  0.260448  0.901057 -2.291429   \n",
       "3       YAL003W -0.117891 -0.789039  1.883608  0.099232  0.570052  0.160251   \n",
       "1863    YAL004W  2.316947 -0.205508 -1.095705  0.160065  0.302216 -3.725510   \n",
       "4       YAL005C -0.205299 -2.699737 -1.109525  0.830762 -0.272307 -2.035553   \n",
       "\n",
       "dataset_id          21830     21831     21832  \n",
       "data_type          valuez    valuez    valuez  \n",
       "gene_id orf                                    \n",
       "1       YAL001C  0.439669  0.713175  0.024946  \n",
       "2       YAL002W  2.570595 -0.704679 -0.064953  \n",
       "3       YAL003W -0.368190 -0.118022  0.151820  \n",
       "1863    YAL004W -0.452105 -3.005959 -0.019470  \n",
       "4       YAL005C  0.056431 -0.089876 -8.946863  \n",
       "\n",
       "[5 rows x 11180 columns]"
      ]
     },
     "execution_count": 169,
     "metadata": {},
     "output_type": "execute_result"
    }
   ],
   "source": [
    "data_all = data.join(data_norm)\n",
    "data_all.head()"
   ]
  },
  {
   "cell_type": "markdown",
   "metadata": {},
   "source": [
    "# Print out"
   ]
  },
  {
   "cell_type": "code",
   "execution_count": 71,
   "metadata": {},
   "outputs": [],
   "source": [
    "for f in ['value','valuez']:\n",
    "    df = data_all.xs(f, level='data_type', axis=1).copy()\n",
    "    df.columns = datasets['name'].values\n",
    "    df = df.droplevel('gene_id', axis=0)\n",
    "    df.to_csv(paper_name + '_' + f + '.txt', sep='\\t')"
   ]
  },
  {
   "cell_type": "markdown",
   "metadata": {},
   "source": [
    "# Save to DB"
   ]
  },
  {
   "cell_type": "code",
   "execution_count": 170,
   "metadata": {},
   "outputs": [],
   "source": [
    "# from IO.save_data_to_db3 import *"
   ]
  },
  {
   "cell_type": "code",
   "execution_count": 171,
   "metadata": {},
   "outputs": [],
   "source": [
    "# save_data_to_db(data_all, paper_pmid, delete=True)"
   ]
  },
  {
   "cell_type": "code",
   "execution_count": null,
   "metadata": {},
   "outputs": [],
   "source": []
  }
 ],
 "metadata": {
  "kernelspec": {
   "display_name": "yp-data",
   "language": "python",
   "name": "yp-data"
  },
  "language_info": {
   "codemirror_mode": {
    "name": "ipython",
    "version": 3
   },
   "file_extension": ".py",
   "mimetype": "text/x-python",
   "name": "python",
   "nbconvert_exporter": "python",
   "pygments_lexer": "ipython3",
   "version": "3.7.7"
  }
 },
 "nbformat": 4,
 "nbformat_minor": 4
}
