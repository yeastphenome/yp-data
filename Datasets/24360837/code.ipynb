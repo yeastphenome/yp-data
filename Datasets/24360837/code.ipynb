{
 "cells": [
  {
   "cell_type": "code",
   "execution_count": 1,
   "metadata": {},
   "outputs": [],
   "source": [
    "import numpy as np\n",
    "import pandas as pd\n",
    "\n",
    "import sys\n",
    "import re\n",
    "\n",
    "from os.path import expanduser\n",
    "sys.path.append(expanduser('~') + '/Lab/Utils/Python/')\n",
    "\n",
    "from Conversions.translate import *\n",
    "from Strings.is_a import *"
   ]
  },
  {
   "cell_type": "markdown",
   "metadata": {},
   "source": [
    "# Initial setup"
   ]
  },
  {
   "cell_type": "code",
   "execution_count": 2,
   "metadata": {},
   "outputs": [],
   "source": [
    "paper_pmid = 24360837\n",
    "paper_name = 'hoepfner_movva_2014' "
   ]
  },
  {
   "cell_type": "code",
   "execution_count": 3,
   "metadata": {},
   "outputs": [],
   "source": [
    "datasets = pd.read_csv('extras/YeastPhenome_' + str(paper_pmid) + '_datasets_list.txt', sep='\\t', header=None, names=['pmid', 'name'])"
   ]
  },
  {
   "cell_type": "code",
   "execution_count": 4,
   "metadata": {},
   "outputs": [],
   "source": [
    "datasets.set_index('pmid', inplace=True)"
   ]
  },
  {
   "cell_type": "markdown",
   "metadata": {},
   "source": [
    "# Load & process the data - Benomyl"
   ]
  },
  {
   "cell_type": "code",
   "execution_count": 5,
   "metadata": {},
   "outputs": [],
   "source": [
    "original_data1 = pd.read_csv('large_files/raw_data/HOP_scores-benomyl.txt', sep='\\t')\n",
    "original_data2 = pd.read_csv('large_files/raw_data/HIP_scores-benomyl.txt', sep='\\t')"
   ]
  },
  {
   "cell_type": "code",
   "execution_count": 6,
   "metadata": {},
   "outputs": [
    {
     "name": "stdout",
     "output_type": "stream",
     "text": [
      "Original data dimensions: 6681 x 195\n",
      "Original data dimensions: 6681 x 189\n"
     ]
    }
   ],
   "source": [
    "print('Original data dimensions: %d x %d' % (original_data1.shape))\n",
    "print('Original data dimensions: %d x %d' % (original_data2.shape))"
   ]
  },
  {
   "cell_type": "code",
   "execution_count": 7,
   "metadata": {},
   "outputs": [],
   "source": [
    "# Keep the sensitivity scores, not z-scores (z-score normalize each strain to its phenotype to all other compounds in the dataset)"
   ]
  },
  {
   "cell_type": "code",
   "execution_count": 8,
   "metadata": {},
   "outputs": [],
   "source": [
    "cols1 = [c for c in original_data1.columns.values if 'z-score' not in c]\n",
    "cols2 = [c for c in original_data2.columns.values if 'z-score' not in c]"
   ]
  },
  {
   "cell_type": "code",
   "execution_count": 9,
   "metadata": {},
   "outputs": [],
   "source": [
    "original_data1 = original_data1.loc[:, cols1]\n",
    "original_data2 = original_data2.loc[:, cols2]"
   ]
  },
  {
   "cell_type": "code",
   "execution_count": 10,
   "metadata": {},
   "outputs": [],
   "source": [
    "orf_col = 'Systematic Name'"
   ]
  },
  {
   "cell_type": "code",
   "execution_count": 11,
   "metadata": {},
   "outputs": [],
   "source": [
    "original_data1[orf_col] = original_data1[orf_col].astype(str)\n",
    "original_data2[orf_col] = original_data2[orf_col].astype(str)"
   ]
  },
  {
   "cell_type": "code",
   "execution_count": 12,
   "metadata": {},
   "outputs": [],
   "source": [
    "# Eliminate all white spaces & capitalize\n",
    "original_data1[orf_col] = clean_orf(original_data1[orf_col])\n",
    "original_data2[orf_col] = clean_orf(original_data2[orf_col])"
   ]
  },
  {
   "cell_type": "code",
   "execution_count": 13,
   "metadata": {},
   "outputs": [],
   "source": [
    "# Translate to ORFs \n",
    "original_data1['orfs'] = translate_sc(original_data1[orf_col], to='orf')\n",
    "original_data2['orfs'] = translate_sc(original_data2[orf_col], to='orf')"
   ]
  },
  {
   "cell_type": "code",
   "execution_count": 14,
   "metadata": {},
   "outputs": [],
   "source": [
    "original_data1.loc[original_data1['orfs'] == 'YBR160WAS','orfs'] = 'YBR160W'\n",
    "original_data2.loc[original_data2['orfs'] == 'YBR160WAS','orfs'] = 'YBR160W'"
   ]
  },
  {
   "cell_type": "code",
   "execution_count": 15,
   "metadata": {},
   "outputs": [
    {
     "name": "stdout",
     "output_type": "stream",
     "text": [
      "            Systematic Name  Ad. scores for Exp. 991_26.84_HOP_0018A  \\\n",
      "index_input                                                            \n",
      "28                   R0010W                                      NaN   \n",
      "29                   R0020C                                      NaN   \n",
      "30                   R0030W                                      NaN   \n",
      "31                   R0040C                                      NaN   \n",
      "\n",
      "             Ad. scores for Exp. 991_26.84_HOP_0018B  \\\n",
      "index_input                                            \n",
      "28                                               NaN   \n",
      "29                                               NaN   \n",
      "30                                               NaN   \n",
      "31                                               NaN   \n",
      "\n",
      "             Ad. scores for Exp. 991_26.84_HOP_0019A  \\\n",
      "index_input                                            \n",
      "28                                               NaN   \n",
      "29                                               NaN   \n",
      "30                                               NaN   \n",
      "31                                               NaN   \n",
      "\n",
      "             Ad. scores for Exp. 991_26.84_HOP_0019B  \\\n",
      "index_input                                            \n",
      "28                                               NaN   \n",
      "29                                               NaN   \n",
      "30                                               NaN   \n",
      "31                                               NaN   \n",
      "\n",
      "             Ad. scores for Exp. 991_26.84_HOP_0020A  \\\n",
      "index_input                                            \n",
      "28                                               NaN   \n",
      "29                                               NaN   \n",
      "30                                               NaN   \n",
      "31                                               NaN   \n",
      "\n",
      "             Ad. scores for Exp. 991_26.84_HOP_0020B  \\\n",
      "index_input                                            \n",
      "28                                               NaN   \n",
      "29                                               NaN   \n",
      "30                                               NaN   \n",
      "31                                               NaN   \n",
      "\n",
      "             Ad. scores for Exp. 991_26.84_HOP_0023  \\\n",
      "index_input                                           \n",
      "28                                              NaN   \n",
      "29                                              NaN   \n",
      "30                                              NaN   \n",
      "31                                              NaN   \n",
      "\n",
      "             Ad. scores for Exp. 991_26.84_HOP_0024  \\\n",
      "index_input                                           \n",
      "28                                              NaN   \n",
      "29                                              NaN   \n",
      "30                                              NaN   \n",
      "31                                              NaN   \n",
      "\n",
      "             Ad. scores for Exp. 991_26.835_HOP_0025  ...  \\\n",
      "index_input                                           ...   \n",
      "28                                               NaN  ...   \n",
      "29                                               NaN  ...   \n",
      "30                                               NaN  ...   \n",
      "31                                               NaN  ...   \n",
      "\n",
      "             Ad. scores for Exp. 991_26.835_HOP_0180  \\\n",
      "index_input                                            \n",
      "28                                               NaN   \n",
      "29                                               NaN   \n",
      "30                                               NaN   \n",
      "31                                               NaN   \n",
      "\n",
      "             Ad. scores for Exp. 991_26.835_HOP_0182  \\\n",
      "index_input                                            \n",
      "28                                               NaN   \n",
      "29                                               NaN   \n",
      "30                                               NaN   \n",
      "31                                               NaN   \n",
      "\n",
      "             Ad. scores for Exp. 991_26.835_HOP_0184  \\\n",
      "index_input                                            \n",
      "28                                               NaN   \n",
      "29                                               NaN   \n",
      "30                                               NaN   \n",
      "31                                               NaN   \n",
      "\n",
      "             Ad. scores for Exp. 991_26.835_HOP_0186  \\\n",
      "index_input                                            \n",
      "28                                               NaN   \n",
      "29                                               NaN   \n",
      "30                                               NaN   \n",
      "31                                               NaN   \n",
      "\n",
      "             Ad. scores for Exp. 991_26.835_HOP_0188  \\\n",
      "index_input                                            \n",
      "28                                               NaN   \n",
      "29                                               NaN   \n",
      "30                                               NaN   \n",
      "31                                               NaN   \n",
      "\n",
      "             Ad. scores for Exp. 991_26.835_HOP_0191  \\\n",
      "index_input                                            \n",
      "28                                               NaN   \n",
      "29                                               NaN   \n",
      "30                                               NaN   \n",
      "31                                               NaN   \n",
      "\n",
      "             Ad. scores for Exp. 991_26.835_HOP_0193  \\\n",
      "index_input                                            \n",
      "28                                               NaN   \n",
      "29                                               NaN   \n",
      "30                                               NaN   \n",
      "31                                               NaN   \n",
      "\n",
      "             Ad. scores for Exp. 991_31.6_HOP_0044  \\\n",
      "index_input                                          \n",
      "28                                             NaN   \n",
      "29                                             NaN   \n",
      "30                                             NaN   \n",
      "31                                             NaN   \n",
      "\n",
      "             Ad. scores for Exp. 991_37.8_HOP_0044    orfs  \n",
      "index_input                                                 \n",
      "28                                             NaN  R0010W  \n",
      "29                                             NaN  R0020C  \n",
      "30                                             NaN  R0030W  \n",
      "31                                             NaN  R0040C  \n",
      "\n",
      "[4 rows x 99 columns]\n"
     ]
    }
   ],
   "source": [
    "# Make sure everything translated ok\n",
    "t = looks_like_orf(original_data1['orfs'])\n",
    "print(original_data1.loc[~t,])"
   ]
  },
  {
   "cell_type": "code",
   "execution_count": 16,
   "metadata": {},
   "outputs": [
    {
     "name": "stdout",
     "output_type": "stream",
     "text": [
      "            Systematic Name  Ad. scores for Exp. 991_26.84_HIP_0018A  \\\n",
      "index_input                                                            \n",
      "28                   R0010W                                      NaN   \n",
      "29                   R0020C                                      NaN   \n",
      "30                   R0030W                                      NaN   \n",
      "31                   R0040C                                      NaN   \n",
      "\n",
      "             MADL scores for Exp. 991_26.84_HIP_0018B  \\\n",
      "index_input                                             \n",
      "28                                                NaN   \n",
      "29                                                NaN   \n",
      "30                                                NaN   \n",
      "31                                                NaN   \n",
      "\n",
      "             Ad. scores for Exp. 991_26.84_HIP_0019A  \\\n",
      "index_input                                            \n",
      "28                                               NaN   \n",
      "29                                               NaN   \n",
      "30                                               NaN   \n",
      "31                                               NaN   \n",
      "\n",
      "             Ad. scores for Exp. 991_26.84_HIP_0019B  \\\n",
      "index_input                                            \n",
      "28                                               NaN   \n",
      "29                                               NaN   \n",
      "30                                               NaN   \n",
      "31                                               NaN   \n",
      "\n",
      "             MADL scores for Exp. 991_26.84_HIP_0020A  \\\n",
      "index_input                                             \n",
      "28                                                NaN   \n",
      "29                                                NaN   \n",
      "30                                                NaN   \n",
      "31                                                NaN   \n",
      "\n",
      "             Ad. scores for Exp. 991_26.84_HIP_0020B  \\\n",
      "index_input                                            \n",
      "28                                               NaN   \n",
      "29                                               NaN   \n",
      "30                                               NaN   \n",
      "31                                               NaN   \n",
      "\n",
      "             Ad. scores for Exp. 991_26.84_HIP_0023  \\\n",
      "index_input                                           \n",
      "28                                              NaN   \n",
      "29                                              NaN   \n",
      "30                                              NaN   \n",
      "31                                              NaN   \n",
      "\n",
      "             Ad. scores for Exp. 991_26.84_HIP_0024  \\\n",
      "index_input                                           \n",
      "28                                              NaN   \n",
      "29                                              NaN   \n",
      "30                                              NaN   \n",
      "31                                              NaN   \n",
      "\n",
      "             Ad. scores for Exp. 991_26.835_HIP_0025  ...  \\\n",
      "index_input                                           ...   \n",
      "28                                               NaN  ...   \n",
      "29                                               NaN  ...   \n",
      "30                                               NaN  ...   \n",
      "31                                               NaN  ...   \n",
      "\n",
      "             Ad. scores for Exp. 991_26.835_HIP_0179  \\\n",
      "index_input                                            \n",
      "28                                               NaN   \n",
      "29                                               NaN   \n",
      "30                                               NaN   \n",
      "31                                               NaN   \n",
      "\n",
      "             Ad. scores for Exp. 991_26.835_HIP_0181  \\\n",
      "index_input                                            \n",
      "28                                               NaN   \n",
      "29                                               NaN   \n",
      "30                                               NaN   \n",
      "31                                               NaN   \n",
      "\n",
      "             Ad. scores for Exp. 991_26.835_HIP_0183  \\\n",
      "index_input                                            \n",
      "28                                               NaN   \n",
      "29                                               NaN   \n",
      "30                                               NaN   \n",
      "31                                               NaN   \n",
      "\n",
      "             Ad. scores for Exp. 991_26.835_HIP_0185  \\\n",
      "index_input                                            \n",
      "28                                               NaN   \n",
      "29                                               NaN   \n",
      "30                                               NaN   \n",
      "31                                               NaN   \n",
      "\n",
      "             Ad. scores for Exp. 991_26.835_HIP_0187  \\\n",
      "index_input                                            \n",
      "28                                               NaN   \n",
      "29                                               NaN   \n",
      "30                                               NaN   \n",
      "31                                               NaN   \n",
      "\n",
      "             Ad. scores for Exp. 991_26.835_HIP_0190  \\\n",
      "index_input                                            \n",
      "28                                               NaN   \n",
      "29                                               NaN   \n",
      "30                                               NaN   \n",
      "31                                               NaN   \n",
      "\n",
      "             Ad. scores for Exp. 991_26.835_HIP_0192  \\\n",
      "index_input                                            \n",
      "28                                               NaN   \n",
      "29                                               NaN   \n",
      "30                                               NaN   \n",
      "31                                               NaN   \n",
      "\n",
      "             Ad. scores for Exp. 991_31.6_HIP_0044  \\\n",
      "index_input                                          \n",
      "28                                             NaN   \n",
      "29                                             NaN   \n",
      "30                                             NaN   \n",
      "31                                             NaN   \n",
      "\n",
      "             Ad. scores for Exp. 991_37.8_HIP_0044    orfs  \n",
      "index_input                                                 \n",
      "28                                             NaN  R0010W  \n",
      "29                                             NaN  R0020C  \n",
      "30                                             NaN  R0030W  \n",
      "31                                             NaN  R0040C  \n",
      "\n",
      "[4 rows x 96 columns]\n"
     ]
    }
   ],
   "source": [
    "# Make sure everything translated ok\n",
    "t = looks_like_orf(original_data2['orfs'])\n",
    "print(original_data2.loc[~t,])"
   ]
  },
  {
   "cell_type": "code",
   "execution_count": 17,
   "metadata": {},
   "outputs": [],
   "source": [
    "original_data1 = original_data1.loc[t,:]\n",
    "original_data2 = original_data2.loc[t,:]"
   ]
  },
  {
   "cell_type": "code",
   "execution_count": 18,
   "metadata": {},
   "outputs": [],
   "source": [
    "original_data1.set_index('orfs', inplace=True)\n",
    "original_data2.set_index('orfs', inplace=True)"
   ]
  },
  {
   "cell_type": "code",
   "execution_count": 19,
   "metadata": {},
   "outputs": [],
   "source": [
    "original_data1['data'] = original_data1.mean(axis=1)\n",
    "original_data2['data'] = original_data2.mean(axis=1)"
   ]
  },
  {
   "cell_type": "code",
   "execution_count": 20,
   "metadata": {},
   "outputs": [],
   "source": [
    "original_data = original_data1[['data']].join(original_data2[['data']], how='outer', lsuffix='_hop', rsuffix='_hip')"
   ]
  },
  {
   "cell_type": "code",
   "execution_count": 21,
   "metadata": {},
   "outputs": [],
   "source": [
    "dataset_ids = [1087, 16622]"
   ]
  },
  {
   "cell_type": "code",
   "execution_count": 22,
   "metadata": {},
   "outputs": [],
   "source": [
    "data_benomyl = original_data[['data_hop','data_hip']].copy()"
   ]
  },
  {
   "cell_type": "code",
   "execution_count": 23,
   "metadata": {},
   "outputs": [],
   "source": [
    "data_benomyl.columns = dataset_ids"
   ]
  },
  {
   "cell_type": "code",
   "execution_count": 24,
   "metadata": {},
   "outputs": [],
   "source": [
    "data_benomyl = data_benomyl.groupby(data_benomyl.index).mean()"
   ]
  },
  {
   "cell_type": "code",
   "execution_count": 25,
   "metadata": {},
   "outputs": [],
   "source": [
    "# Create row index\n",
    "data_benomyl.index.name='orf'"
   ]
  },
  {
   "cell_type": "code",
   "execution_count": 26,
   "metadata": {},
   "outputs": [],
   "source": [
    "num_vals = data_benomyl.notnull().sum(axis=1)"
   ]
  },
  {
   "cell_type": "code",
   "execution_count": 27,
   "metadata": {},
   "outputs": [],
   "source": [
    "data_benomyl = data_benomyl.loc[num_vals > 0]"
   ]
  },
  {
   "cell_type": "code",
   "execution_count": 28,
   "metadata": {},
   "outputs": [
    {
     "name": "stdout",
     "output_type": "stream",
     "text": [
      "Final data dimensions: 5867 x 2\n"
     ]
    }
   ],
   "source": [
    "print('Final data dimensions: %d x %d' % (data_benomyl.shape))"
   ]
  },
  {
   "cell_type": "code",
   "execution_count": 29,
   "metadata": {},
   "outputs": [
    {
     "data": {
      "text/html": [
       "<div>\n",
       "<style scoped>\n",
       "    .dataframe tbody tr th:only-of-type {\n",
       "        vertical-align: middle;\n",
       "    }\n",
       "\n",
       "    .dataframe tbody tr th {\n",
       "        vertical-align: top;\n",
       "    }\n",
       "\n",
       "    .dataframe thead th {\n",
       "        text-align: right;\n",
       "    }\n",
       "</style>\n",
       "<table border=\"1\" class=\"dataframe\">\n",
       "  <thead>\n",
       "    <tr style=\"text-align: right;\">\n",
       "      <th></th>\n",
       "      <th>1087</th>\n",
       "      <th>16622</th>\n",
       "    </tr>\n",
       "    <tr>\n",
       "      <th>orf</th>\n",
       "      <th></th>\n",
       "      <th></th>\n",
       "    </tr>\n",
       "  </thead>\n",
       "  <tbody>\n",
       "    <tr>\n",
       "      <th>YAL001C</th>\n",
       "      <td>0.153577</td>\n",
       "      <td>-0.039887</td>\n",
       "    </tr>\n",
       "    <tr>\n",
       "      <th>YAL002W</th>\n",
       "      <td>-0.093247</td>\n",
       "      <td>0.261198</td>\n",
       "    </tr>\n",
       "    <tr>\n",
       "      <th>YAL003W</th>\n",
       "      <td>NaN</td>\n",
       "      <td>0.126743</td>\n",
       "    </tr>\n",
       "    <tr>\n",
       "      <th>YAL004W</th>\n",
       "      <td>0.195749</td>\n",
       "      <td>0.303275</td>\n",
       "    </tr>\n",
       "    <tr>\n",
       "      <th>YAL005C</th>\n",
       "      <td>0.105597</td>\n",
       "      <td>-1.476444</td>\n",
       "    </tr>\n",
       "  </tbody>\n",
       "</table>\n",
       "</div>"
      ],
      "text/plain": [
       "            1087      16622\n",
       "orf                        \n",
       "YAL001C  0.153577 -0.039887\n",
       "YAL002W -0.093247  0.261198\n",
       "YAL003W       NaN  0.126743\n",
       "YAL004W  0.195749  0.303275\n",
       "YAL005C  0.105597 -1.476444"
      ]
     },
     "execution_count": 29,
     "metadata": {},
     "output_type": "execute_result"
    }
   ],
   "source": [
    "data_benomyl.head()"
   ]
  },
  {
   "cell_type": "markdown",
   "metadata": {},
   "source": [
    "# Load and process data -- all others"
   ]
  },
  {
   "cell_type": "code",
   "execution_count": 30,
   "metadata": {},
   "outputs": [],
   "source": [
    "original_data1 = pd.read_csv('large_files/raw_data/HOP_scores.txt', sep='\\t')\n",
    "original_data2 = pd.read_csv('large_files/raw_data/HIP_scores.txt', sep='\\t')"
   ]
  },
  {
   "cell_type": "code",
   "execution_count": 31,
   "metadata": {},
   "outputs": [
    {
     "name": "stdout",
     "output_type": "stream",
     "text": [
      "Original data dimensions: 6681 x 5847\n",
      "Original data dimensions: 6681 x 5913\n"
     ]
    }
   ],
   "source": [
    "print('Original data dimensions: %d x %d' % (original_data1.shape))\n",
    "print('Original data dimensions: %d x %d' % (original_data2.shape))"
   ]
  },
  {
   "cell_type": "code",
   "execution_count": 32,
   "metadata": {},
   "outputs": [],
   "source": [
    "cols1 = [c for c in original_data1.columns.values if 'z-score' not in c]\n",
    "cols2 = [c for c in original_data2.columns.values if 'z-score' not in c]"
   ]
  },
  {
   "cell_type": "code",
   "execution_count": 33,
   "metadata": {},
   "outputs": [],
   "source": [
    "original_data1 = original_data1.loc[:, cols1]\n",
    "original_data2 = original_data2.loc[:, cols2]"
   ]
  },
  {
   "cell_type": "code",
   "execution_count": 34,
   "metadata": {},
   "outputs": [
    {
     "name": "stdout",
     "output_type": "stream",
     "text": [
      "Original data dimensions: 6681 x 2924\n",
      "Original data dimensions: 6681 x 2957\n"
     ]
    }
   ],
   "source": [
    "print('Original data dimensions: %d x %d' % (original_data1.shape))\n",
    "print('Original data dimensions: %d x %d' % (original_data2.shape))"
   ]
  },
  {
   "cell_type": "code",
   "execution_count": 35,
   "metadata": {},
   "outputs": [],
   "source": [
    "orf_col = 'Systematic Name'"
   ]
  },
  {
   "cell_type": "code",
   "execution_count": 36,
   "metadata": {},
   "outputs": [],
   "source": [
    "original_data1[orf_col] = original_data1[orf_col].astype(str)\n",
    "original_data2[orf_col] = original_data2[orf_col].astype(str)"
   ]
  },
  {
   "cell_type": "code",
   "execution_count": 37,
   "metadata": {},
   "outputs": [],
   "source": [
    "# Eliminate all white spaces & capitalize\n",
    "original_data1[orf_col] = clean_orf(original_data1[orf_col])\n",
    "original_data2[orf_col] = clean_orf(original_data2[orf_col])"
   ]
  },
  {
   "cell_type": "code",
   "execution_count": 38,
   "metadata": {},
   "outputs": [],
   "source": [
    "# Translate to ORFs \n",
    "original_data1['orfs'] = translate_sc(original_data1[orf_col], to='orf')\n",
    "original_data2['orfs'] = translate_sc(original_data2[orf_col], to='orf')"
   ]
  },
  {
   "cell_type": "code",
   "execution_count": 39,
   "metadata": {},
   "outputs": [],
   "source": [
    "original_data1.loc[original_data1['orfs'] == 'YBR160WAS','orfs'] = 'YBR160W'\n",
    "original_data2.loc[original_data2['orfs'] == 'YBR160WAS','orfs'] = 'YBR160W'"
   ]
  },
  {
   "cell_type": "code",
   "execution_count": 40,
   "metadata": {},
   "outputs": [
    {
     "name": "stdout",
     "output_type": "stream",
     "text": [
      "            Systematic Name  Ad. scores for Exp. 2_200_HOP_0020A  \\\n",
      "index_input                                                        \n",
      "28                   R0010W                                  NaN   \n",
      "29                   R0020C                                  NaN   \n",
      "30                   R0030W                                  NaN   \n",
      "31                   R0040C                                  NaN   \n",
      "\n",
      "             Ad. scores for Exp. 3_50_HOP_0078  \\\n",
      "index_input                                      \n",
      "28                                         NaN   \n",
      "29                                         NaN   \n",
      "30                                         NaN   \n",
      "31                                         NaN   \n",
      "\n",
      "             Ad. scores for Exp. 6_173.545_HOP_0090  \\\n",
      "index_input                                           \n",
      "28                                              NaN   \n",
      "29                                              NaN   \n",
      "30                                              NaN   \n",
      "31                                              NaN   \n",
      "\n",
      "             Ad. scores for Exp. 6_200_HOP_0114  \\\n",
      "index_input                                       \n",
      "28                                          NaN   \n",
      "29                                          NaN   \n",
      "30                                          NaN   \n",
      "31                                          NaN   \n",
      "\n",
      "             Ad. scores for Exp. 13_80_HOP_0088  \\\n",
      "index_input                                       \n",
      "28                                          NaN   \n",
      "29                                          NaN   \n",
      "30                                          NaN   \n",
      "31                                          NaN   \n",
      "\n",
      "             Ad. scores for Exp. 19_2.3_HOP_0088  \\\n",
      "index_input                                        \n",
      "28                                           NaN   \n",
      "29                                           NaN   \n",
      "30                                           NaN   \n",
      "31                                           NaN   \n",
      "\n",
      "             Ad. scores for Exp. 21_200_HOP_0076  \\\n",
      "index_input                                        \n",
      "28                                           NaN   \n",
      "29                                           NaN   \n",
      "30                                           NaN   \n",
      "31                                           NaN   \n",
      "\n",
      "             Ad. scores for Exp. 49_49.11_HOP_0018A  \\\n",
      "index_input                                           \n",
      "28                                              NaN   \n",
      "29                                              NaN   \n",
      "30                                              NaN   \n",
      "31                                              NaN   \n",
      "\n",
      "             Ad. scores for Exp. 49_60_HOP_0153  ...  \\\n",
      "index_input                                      ...   \n",
      "28                                          NaN  ...   \n",
      "29                                          NaN  ...   \n",
      "30                                          NaN  ...   \n",
      "31                                          NaN  ...   \n",
      "\n",
      "             Ad. scores for Exp. 5813_200_HOP_0193  \\\n",
      "index_input                                          \n",
      "28                                             NaN   \n",
      "29                                             NaN   \n",
      "30                                             NaN   \n",
      "31                                             NaN   \n",
      "\n",
      "             Ad. scores for Exp. 5814_200_HOP_0193  \\\n",
      "index_input                                          \n",
      "28                                             NaN   \n",
      "29                                             NaN   \n",
      "30                                             NaN   \n",
      "31                                             NaN   \n",
      "\n",
      "             Ad. scores for Exp. 5821_30_HOP_0191  \\\n",
      "index_input                                         \n",
      "28                                            NaN   \n",
      "29                                            NaN   \n",
      "30                                            NaN   \n",
      "31                                            NaN   \n",
      "\n",
      "             Ad. scores for Exp. 5821_45_HOP_0191  \\\n",
      "index_input                                         \n",
      "28                                            NaN   \n",
      "29                                            NaN   \n",
      "30                                            NaN   \n",
      "31                                            NaN   \n",
      "\n",
      "             Ad. scores for Exp. 5823_200_HOP_0188  \\\n",
      "index_input                                          \n",
      "28                                             NaN   \n",
      "29                                             NaN   \n",
      "30                                             NaN   \n",
      "31                                             NaN   \n",
      "\n",
      "             Ad. scores for Exp. 5989_200_HOP_0191  \\\n",
      "index_input                                          \n",
      "28                                             NaN   \n",
      "29                                             NaN   \n",
      "30                                             NaN   \n",
      "31                                             NaN   \n",
      "\n",
      "             Ad. scores for Exp. 5990_50.012_HOP_0193  \\\n",
      "index_input                                             \n",
      "28                                                NaN   \n",
      "29                                                NaN   \n",
      "30                                                NaN   \n",
      "31                                                NaN   \n",
      "\n",
      "             Ad. scores for Exp. 1129_30_HOP_0251  \\\n",
      "index_input                                         \n",
      "28                                            NaN   \n",
      "29                                            NaN   \n",
      "30                                            NaN   \n",
      "31                                            NaN   \n",
      "\n",
      "             Ad. scores for Exp. 1129_60_HOP_0251    orfs  \n",
      "index_input                                                \n",
      "28                                            NaN  R0010W  \n",
      "29                                            NaN  R0020C  \n",
      "30                                            NaN  R0030W  \n",
      "31                                            NaN  R0040C  \n",
      "\n",
      "[4 rows x 2925 columns]\n"
     ]
    }
   ],
   "source": [
    "# Make sure everything translated ok\n",
    "t = looks_like_orf(original_data1['orfs'])\n",
    "print(original_data1.loc[~t,])"
   ]
  },
  {
   "cell_type": "code",
   "execution_count": 41,
   "metadata": {},
   "outputs": [
    {
     "name": "stdout",
     "output_type": "stream",
     "text": [
      "            Systematic Name  Ad. scores for Exp. 2_200_HIP_0020A  \\\n",
      "index_input                                                        \n",
      "28                   R0010W                                  NaN   \n",
      "29                   R0020C                                  NaN   \n",
      "30                   R0030W                                  NaN   \n",
      "31                   R0040C                                  NaN   \n",
      "\n",
      "             Ad. scores for Exp. 3_50_HIP_0077  \\\n",
      "index_input                                      \n",
      "28                                         NaN   \n",
      "29                                         NaN   \n",
      "30                                         NaN   \n",
      "31                                         NaN   \n",
      "\n",
      "             Ad. scores for Exp. 6_173.545_HIP_0089  \\\n",
      "index_input                                           \n",
      "28                                              NaN   \n",
      "29                                              NaN   \n",
      "30                                              NaN   \n",
      "31                                              NaN   \n",
      "\n",
      "             Ad. scores for Exp. 6_200_HIP_0113  \\\n",
      "index_input                                       \n",
      "28                                          NaN   \n",
      "29                                          NaN   \n",
      "30                                          NaN   \n",
      "31                                          NaN   \n",
      "\n",
      "             Ad. scores for Exp. 13_80_HIP_0087  \\\n",
      "index_input                                       \n",
      "28                                          NaN   \n",
      "29                                          NaN   \n",
      "30                                          NaN   \n",
      "31                                          NaN   \n",
      "\n",
      "             MADL scores for Exp. 19_2.3_HIP_0087  \\\n",
      "index_input                                         \n",
      "28                                            NaN   \n",
      "29                                            NaN   \n",
      "30                                            NaN   \n",
      "31                                            NaN   \n",
      "\n",
      "             Ad. scores for Exp. 21_200_HIP_0075  \\\n",
      "index_input                                        \n",
      "28                                           NaN   \n",
      "29                                           NaN   \n",
      "30                                           NaN   \n",
      "31                                           NaN   \n",
      "\n",
      "             Ad. scores for Exp. 49_49.11_HIP_0018A  \\\n",
      "index_input                                           \n",
      "28                                              NaN   \n",
      "29                                              NaN   \n",
      "30                                              NaN   \n",
      "31                                              NaN   \n",
      "\n",
      "             Ad. scores for Exp. 49_60_HIP_0152  ...  \\\n",
      "index_input                                      ...   \n",
      "28                                          NaN  ...   \n",
      "29                                          NaN  ...   \n",
      "30                                          NaN  ...   \n",
      "31                                          NaN  ...   \n",
      "\n",
      "             Ad. scores for Exp. 5814_200_HIP_0192  \\\n",
      "index_input                                          \n",
      "28                                             NaN   \n",
      "29                                             NaN   \n",
      "30                                             NaN   \n",
      "31                                             NaN   \n",
      "\n",
      "             Ad. scores for Exp. 5821_30_HIP_0190  \\\n",
      "index_input                                         \n",
      "28                                            NaN   \n",
      "29                                            NaN   \n",
      "30                                            NaN   \n",
      "31                                            NaN   \n",
      "\n",
      "             Ad. scores for Exp. 5821_45_HIP_0190  \\\n",
      "index_input                                         \n",
      "28                                            NaN   \n",
      "29                                            NaN   \n",
      "30                                            NaN   \n",
      "31                                            NaN   \n",
      "\n",
      "             Ad. scores for Exp. 5823_200_HIP_0187  \\\n",
      "index_input                                          \n",
      "28                                             NaN   \n",
      "29                                             NaN   \n",
      "30                                             NaN   \n",
      "31                                             NaN   \n",
      "\n",
      "             Ad. scores for Exp. 5989_200_HIP_0190  \\\n",
      "index_input                                          \n",
      "28                                             NaN   \n",
      "29                                             NaN   \n",
      "30                                             NaN   \n",
      "31                                             NaN   \n",
      "\n",
      "             Ad. scores for Exp. 5990_50.012_HIP_0192  \\\n",
      "index_input                                             \n",
      "28                                                NaN   \n",
      "29                                                NaN   \n",
      "30                                                NaN   \n",
      "31                                                NaN   \n",
      "\n",
      "             Ad. scores for Exp. 1129_30_HIP_0250  \\\n",
      "index_input                                         \n",
      "28                                            NaN   \n",
      "29                                            NaN   \n",
      "30                                            NaN   \n",
      "31                                            NaN   \n",
      "\n",
      "             Ad. scores for Exp. 1129_60_HIP_0250  \\\n",
      "index_input                                         \n",
      "28                                            NaN   \n",
      "29                                            NaN   \n",
      "30                                            NaN   \n",
      "31                                            NaN   \n",
      "\n",
      "             Ad. scores for Exp. 6518_0.05_HIP_0223    orfs  \n",
      "index_input                                                  \n",
      "28                                              NaN  R0010W  \n",
      "29                                              NaN  R0020C  \n",
      "30                                              NaN  R0030W  \n",
      "31                                              NaN  R0040C  \n",
      "\n",
      "[4 rows x 2958 columns]\n"
     ]
    }
   ],
   "source": [
    "# Make sure everything translated ok\n",
    "t = looks_like_orf(original_data2['orfs'])\n",
    "print(original_data2.loc[~t,])"
   ]
  },
  {
   "cell_type": "code",
   "execution_count": 42,
   "metadata": {},
   "outputs": [],
   "source": [
    "original_data1 = original_data1.loc[t,:]\n",
    "original_data2 = original_data2.loc[t,:]"
   ]
  },
  {
   "cell_type": "code",
   "execution_count": 43,
   "metadata": {},
   "outputs": [],
   "source": [
    "original_data1.set_index('orfs', inplace=True)\n",
    "original_data2.set_index('orfs', inplace=True)"
   ]
  },
  {
   "cell_type": "code",
   "execution_count": 44,
   "metadata": {},
   "outputs": [],
   "source": [
    "original_data1.drop(columns=['Systematic Name'], inplace=True)"
   ]
  },
  {
   "cell_type": "code",
   "execution_count": 45,
   "metadata": {},
   "outputs": [],
   "source": [
    "original_data2.drop(columns=['Systematic Name'], inplace=True)"
   ]
  },
  {
   "cell_type": "markdown",
   "metadata": {},
   "source": [
    "### Map dataset IDs to data columns"
   ]
  },
  {
   "cell_type": "code",
   "execution_count": 46,
   "metadata": {},
   "outputs": [],
   "source": [
    "compound_map = pd.read_csv('extras/type_cmb_dose_dataset.txt', sep='\\t')"
   ]
  },
  {
   "cell_type": "code",
   "execution_count": 47,
   "metadata": {},
   "outputs": [
    {
     "data": {
      "text/html": [
       "<div>\n",
       "<style scoped>\n",
       "    .dataframe tbody tr th:only-of-type {\n",
       "        vertical-align: middle;\n",
       "    }\n",
       "\n",
       "    .dataframe tbody tr th {\n",
       "        vertical-align: top;\n",
       "    }\n",
       "\n",
       "    .dataframe thead th {\n",
       "        text-align: right;\n",
       "    }\n",
       "</style>\n",
       "<table border=\"1\" class=\"dataframe\">\n",
       "  <thead>\n",
       "    <tr style=\"text-align: right;\">\n",
       "      <th></th>\n",
       "      <th>Type</th>\n",
       "      <th>CMB</th>\n",
       "      <th>Dose</th>\n",
       "      <th>Dataset HOP</th>\n",
       "      <th>Dataset HIP</th>\n",
       "    </tr>\n",
       "  </thead>\n",
       "  <tbody>\n",
       "    <tr>\n",
       "      <th>188</th>\n",
       "      <td>Ad.</td>\n",
       "      <td>1084</td>\n",
       "      <td>0.0005</td>\n",
       "      <td>1226</td>\n",
       "      <td>12043</td>\n",
       "    </tr>\n",
       "  </tbody>\n",
       "</table>\n",
       "</div>"
      ],
      "text/plain": [
       "    Type   CMB    Dose  Dataset HOP  Dataset HIP\n",
       "188  Ad.  1084  0.0005         1226        12043"
      ]
     },
     "execution_count": 47,
     "metadata": {},
     "output_type": "execute_result"
    }
   ],
   "source": [
    "compound_map.loc[compound_map.loc[:,'Dataset HOP']==1226]"
   ]
  },
  {
   "cell_type": "code",
   "execution_count": 48,
   "metadata": {},
   "outputs": [],
   "source": [
    "dt_ids = []\n",
    "for s in original_data1.columns.values:\n",
    "    s_parts = re.split(' |_',s)\n",
    "    cmb = int(s_parts[4])\n",
    "    dose = float(s_parts[5])\n",
    "    \n",
    "    dt = compound_map.loc[(compound_map['CMB'] == cmb) & (round(compound_map['Dose'],4) == round(dose,4))]\n",
    "    if dt.shape[0] > 0:\n",
    "        dataset_id = dt['Dataset HOP'].values[0]\n",
    "    else:\n",
    "        dataset_id = np.nan\n",
    "    \n",
    "    dt_ids.append(dataset_id)\n"
   ]
  },
  {
   "cell_type": "code",
   "execution_count": 49,
   "metadata": {},
   "outputs": [],
   "source": [
    "t = original_data1.drop(columns=original_data1.columns[np.isnan(np.array(dt_ids))])"
   ]
  },
  {
   "cell_type": "code",
   "execution_count": 50,
   "metadata": {},
   "outputs": [],
   "source": [
    "dt_ids = np.array(dt_ids)[~np.isnan(np.array(dt_ids))]"
   ]
  },
  {
   "cell_type": "code",
   "execution_count": 51,
   "metadata": {},
   "outputs": [],
   "source": [
    "dt_ids = dt_ids.astype(int)"
   ]
  },
  {
   "cell_type": "code",
   "execution_count": 52,
   "metadata": {},
   "outputs": [],
   "source": [
    "t.columns = dt_ids"
   ]
  },
  {
   "cell_type": "code",
   "execution_count": 53,
   "metadata": {},
   "outputs": [],
   "source": [
    "# Average values for duplicated (replicated) datasets\n",
    "t = t.T\n",
    "t = t.groupby(t.index).mean().T"
   ]
  },
  {
   "cell_type": "code",
   "execution_count": 54,
   "metadata": {},
   "outputs": [
    {
     "data": {
      "text/plain": [
       "(6677, 245)"
      ]
     },
     "execution_count": 54,
     "metadata": {},
     "output_type": "execute_result"
    }
   ],
   "source": [
    "t.shape"
   ]
  },
  {
   "cell_type": "code",
   "execution_count": 55,
   "metadata": {},
   "outputs": [],
   "source": [
    "original_data1 = t.copy()"
   ]
  },
  {
   "cell_type": "code",
   "execution_count": 56,
   "metadata": {},
   "outputs": [],
   "source": [
    "dt_ids = []\n",
    "for s in original_data2.columns.values:\n",
    "    s_parts = re.split(' |_',s)\n",
    "    cmb = int(s_parts[4])\n",
    "    dose = float(s_parts[5])\n",
    "    \n",
    "    dt = compound_map.loc[(compound_map['CMB'] == cmb) & (round(compound_map['Dose'],4) == round(dose,4))]\n",
    "    if dt.shape[0] > 0:\n",
    "        dataset_id = dt['Dataset HIP'].values[0]\n",
    "    else:\n",
    "        dataset_id = np.nan\n",
    "    \n",
    "    dt_ids.append(dataset_id)\n"
   ]
  },
  {
   "cell_type": "code",
   "execution_count": 57,
   "metadata": {},
   "outputs": [],
   "source": [
    "t = original_data2.drop(columns=original_data2.columns[np.isnan(np.array(dt_ids))])"
   ]
  },
  {
   "cell_type": "code",
   "execution_count": 58,
   "metadata": {},
   "outputs": [],
   "source": [
    "dt_ids = np.array(dt_ids)[~np.isnan(np.array(dt_ids))]"
   ]
  },
  {
   "cell_type": "code",
   "execution_count": 59,
   "metadata": {},
   "outputs": [],
   "source": [
    "dt_ids = dt_ids.astype(int)"
   ]
  },
  {
   "cell_type": "code",
   "execution_count": 60,
   "metadata": {},
   "outputs": [],
   "source": [
    "t.columns = dt_ids"
   ]
  },
  {
   "cell_type": "code",
   "execution_count": 61,
   "metadata": {},
   "outputs": [],
   "source": [
    "# Average values for duplicated (replicated) datasets\n",
    "t = t.T\n",
    "t = t.groupby(t.index).mean().T"
   ]
  },
  {
   "cell_type": "code",
   "execution_count": 62,
   "metadata": {},
   "outputs": [
    {
     "data": {
      "text/plain": [
       "(6677, 224)"
      ]
     },
     "execution_count": 62,
     "metadata": {},
     "output_type": "execute_result"
    }
   ],
   "source": [
    "t.shape"
   ]
  },
  {
   "cell_type": "code",
   "execution_count": 63,
   "metadata": {},
   "outputs": [],
   "source": [
    "original_data2 = t.copy()"
   ]
  },
  {
   "cell_type": "code",
   "execution_count": 64,
   "metadata": {},
   "outputs": [
    {
     "data": {
      "text/plain": [
       "(6677, 224)"
      ]
     },
     "execution_count": 64,
     "metadata": {},
     "output_type": "execute_result"
    }
   ],
   "source": [
    "original_data2.shape"
   ]
  },
  {
   "cell_type": "markdown",
   "metadata": {},
   "source": [
    "### Average and merge"
   ]
  },
  {
   "cell_type": "code",
   "execution_count": 65,
   "metadata": {},
   "outputs": [],
   "source": [
    "original_data1 = original_data1.groupby(original_data1.index).mean()"
   ]
  },
  {
   "cell_type": "code",
   "execution_count": 66,
   "metadata": {},
   "outputs": [],
   "source": [
    "original_data2 = original_data2.groupby(original_data2.index).mean()"
   ]
  },
  {
   "cell_type": "code",
   "execution_count": 67,
   "metadata": {},
   "outputs": [],
   "source": [
    "original_data = original_data1.join(original_data2, how='outer', lsuffix='_hop', rsuffix='_hip')"
   ]
  },
  {
   "cell_type": "code",
   "execution_count": 68,
   "metadata": {},
   "outputs": [],
   "source": [
    "# Remove ORFs that are all NaNs\n",
    "num_vals = original_data.notnull().sum(axis=1)"
   ]
  },
  {
   "cell_type": "code",
   "execution_count": 69,
   "metadata": {},
   "outputs": [],
   "source": [
    "original_data = original_data.loc[num_vals>0,:]"
   ]
  },
  {
   "cell_type": "code",
   "execution_count": 70,
   "metadata": {},
   "outputs": [
    {
     "data": {
      "text/html": [
       "<div>\n",
       "<style scoped>\n",
       "    .dataframe tbody tr th:only-of-type {\n",
       "        vertical-align: middle;\n",
       "    }\n",
       "\n",
       "    .dataframe tbody tr th {\n",
       "        vertical-align: top;\n",
       "    }\n",
       "\n",
       "    .dataframe thead th {\n",
       "        text-align: right;\n",
       "    }\n",
       "</style>\n",
       "<table border=\"1\" class=\"dataframe\">\n",
       "  <thead>\n",
       "    <tr style=\"text-align: right;\">\n",
       "      <th></th>\n",
       "      <th>456</th>\n",
       "      <th>1052</th>\n",
       "      <th>1053</th>\n",
       "      <th>1054</th>\n",
       "      <th>1055</th>\n",
       "      <th>1056</th>\n",
       "      <th>1057</th>\n",
       "      <th>1058</th>\n",
       "      <th>1059</th>\n",
       "      <th>1060</th>\n",
       "      <th>...</th>\n",
       "      <th>12118</th>\n",
       "      <th>12119</th>\n",
       "      <th>16666</th>\n",
       "      <th>16667</th>\n",
       "      <th>16668</th>\n",
       "      <th>16669</th>\n",
       "      <th>16670</th>\n",
       "      <th>16671</th>\n",
       "      <th>16672</th>\n",
       "      <th>16673</th>\n",
       "    </tr>\n",
       "    <tr>\n",
       "      <th>orfs</th>\n",
       "      <th></th>\n",
       "      <th></th>\n",
       "      <th></th>\n",
       "      <th></th>\n",
       "      <th></th>\n",
       "      <th></th>\n",
       "      <th></th>\n",
       "      <th></th>\n",
       "      <th></th>\n",
       "      <th></th>\n",
       "      <th></th>\n",
       "      <th></th>\n",
       "      <th></th>\n",
       "      <th></th>\n",
       "      <th></th>\n",
       "      <th></th>\n",
       "      <th></th>\n",
       "      <th></th>\n",
       "      <th></th>\n",
       "      <th></th>\n",
       "      <th></th>\n",
       "    </tr>\n",
       "  </thead>\n",
       "  <tbody>\n",
       "    <tr>\n",
       "      <th>YAL001C</th>\n",
       "      <td>0.065251</td>\n",
       "      <td>-1.965097</td>\n",
       "      <td>-0.004813</td>\n",
       "      <td>-0.032265</td>\n",
       "      <td>-0.941140</td>\n",
       "      <td>-0.076135</td>\n",
       "      <td>0.072909</td>\n",
       "      <td>-1.365976</td>\n",
       "      <td>3.076409</td>\n",
       "      <td>0.248131</td>\n",
       "      <td>...</td>\n",
       "      <td>-0.129320</td>\n",
       "      <td>-0.062104</td>\n",
       "      <td>-0.577013</td>\n",
       "      <td>0.140638</td>\n",
       "      <td>-1.327481</td>\n",
       "      <td>-0.111386</td>\n",
       "      <td>0.666092</td>\n",
       "      <td>0.906919</td>\n",
       "      <td>0.890081</td>\n",
       "      <td>0.779373</td>\n",
       "    </tr>\n",
       "    <tr>\n",
       "      <th>YAL002W</th>\n",
       "      <td>-7.264610</td>\n",
       "      <td>-7.892758</td>\n",
       "      <td>0.107382</td>\n",
       "      <td>-10.748092</td>\n",
       "      <td>-0.228372</td>\n",
       "      <td>0.014193</td>\n",
       "      <td>-7.588114</td>\n",
       "      <td>0.001553</td>\n",
       "      <td>2.177835</td>\n",
       "      <td>0.476039</td>\n",
       "      <td>...</td>\n",
       "      <td>1.916211</td>\n",
       "      <td>-0.066242</td>\n",
       "      <td>-0.418985</td>\n",
       "      <td>-2.554950</td>\n",
       "      <td>2.632633</td>\n",
       "      <td>0.013553</td>\n",
       "      <td>-0.420891</td>\n",
       "      <td>0.055596</td>\n",
       "      <td>0.270976</td>\n",
       "      <td>1.123511</td>\n",
       "    </tr>\n",
       "    <tr>\n",
       "      <th>YAL003W</th>\n",
       "      <td>NaN</td>\n",
       "      <td>NaN</td>\n",
       "      <td>NaN</td>\n",
       "      <td>NaN</td>\n",
       "      <td>NaN</td>\n",
       "      <td>NaN</td>\n",
       "      <td>NaN</td>\n",
       "      <td>NaN</td>\n",
       "      <td>NaN</td>\n",
       "      <td>NaN</td>\n",
       "      <td>...</td>\n",
       "      <td>0.088859</td>\n",
       "      <td>-0.684067</td>\n",
       "      <td>-0.053482</td>\n",
       "      <td>1.291628</td>\n",
       "      <td>-0.654019</td>\n",
       "      <td>0.356714</td>\n",
       "      <td>0.877756</td>\n",
       "      <td>0.014747</td>\n",
       "      <td>1.142378</td>\n",
       "      <td>-0.021768</td>\n",
       "    </tr>\n",
       "    <tr>\n",
       "      <th>YAL004W</th>\n",
       "      <td>-0.440025</td>\n",
       "      <td>-0.445849</td>\n",
       "      <td>0.054191</td>\n",
       "      <td>0.328757</td>\n",
       "      <td>-0.044282</td>\n",
       "      <td>-0.161686</td>\n",
       "      <td>-0.006767</td>\n",
       "      <td>-0.019377</td>\n",
       "      <td>-0.024070</td>\n",
       "      <td>-0.078569</td>\n",
       "      <td>...</td>\n",
       "      <td>-0.479153</td>\n",
       "      <td>-0.057955</td>\n",
       "      <td>1.159240</td>\n",
       "      <td>1.278874</td>\n",
       "      <td>1.295541</td>\n",
       "      <td>2.606816</td>\n",
       "      <td>0.901954</td>\n",
       "      <td>-0.223452</td>\n",
       "      <td>-6.253787</td>\n",
       "      <td>-0.028462</td>\n",
       "    </tr>\n",
       "    <tr>\n",
       "      <th>YAL005C</th>\n",
       "      <td>0.886466</td>\n",
       "      <td>-0.108302</td>\n",
       "      <td>0.081409</td>\n",
       "      <td>-0.796944</td>\n",
       "      <td>-0.108440</td>\n",
       "      <td>-0.015199</td>\n",
       "      <td>0.045282</td>\n",
       "      <td>0.140557</td>\n",
       "      <td>0.017870</td>\n",
       "      <td>0.078094</td>\n",
       "      <td>...</td>\n",
       "      <td>-0.158417</td>\n",
       "      <td>0.223860</td>\n",
       "      <td>-3.966082</td>\n",
       "      <td>-10.466046</td>\n",
       "      <td>-2.659423</td>\n",
       "      <td>1.181533</td>\n",
       "      <td>-0.863032</td>\n",
       "      <td>-0.057493</td>\n",
       "      <td>-0.206393</td>\n",
       "      <td>-7.498802</td>\n",
       "    </tr>\n",
       "  </tbody>\n",
       "</table>\n",
       "<p>5 rows × 469 columns</p>\n",
       "</div>"
      ],
      "text/plain": [
       "            456       1052      1053       1054      1055      1056   \\\n",
       "orfs                                                                   \n",
       "YAL001C  0.065251 -1.965097 -0.004813  -0.032265 -0.941140 -0.076135   \n",
       "YAL002W -7.264610 -7.892758  0.107382 -10.748092 -0.228372  0.014193   \n",
       "YAL003W       NaN       NaN       NaN        NaN       NaN       NaN   \n",
       "YAL004W -0.440025 -0.445849  0.054191   0.328757 -0.044282 -0.161686   \n",
       "YAL005C  0.886466 -0.108302  0.081409  -0.796944 -0.108440 -0.015199   \n",
       "\n",
       "            1057      1058      1059      1060   ...     12118     12119  \\\n",
       "orfs                                             ...                       \n",
       "YAL001C  0.072909 -1.365976  3.076409  0.248131  ... -0.129320 -0.062104   \n",
       "YAL002W -7.588114  0.001553  2.177835  0.476039  ...  1.916211 -0.066242   \n",
       "YAL003W       NaN       NaN       NaN       NaN  ...  0.088859 -0.684067   \n",
       "YAL004W -0.006767 -0.019377 -0.024070 -0.078569  ... -0.479153 -0.057955   \n",
       "YAL005C  0.045282  0.140557  0.017870  0.078094  ... -0.158417  0.223860   \n",
       "\n",
       "            16666      16667     16668     16669     16670     16671  \\\n",
       "orfs                                                                   \n",
       "YAL001C -0.577013   0.140638 -1.327481 -0.111386  0.666092  0.906919   \n",
       "YAL002W -0.418985  -2.554950  2.632633  0.013553 -0.420891  0.055596   \n",
       "YAL003W -0.053482   1.291628 -0.654019  0.356714  0.877756  0.014747   \n",
       "YAL004W  1.159240   1.278874  1.295541  2.606816  0.901954 -0.223452   \n",
       "YAL005C -3.966082 -10.466046 -2.659423  1.181533 -0.863032 -0.057493   \n",
       "\n",
       "            16672     16673  \n",
       "orfs                         \n",
       "YAL001C  0.890081  0.779373  \n",
       "YAL002W  0.270976  1.123511  \n",
       "YAL003W  1.142378 -0.021768  \n",
       "YAL004W -6.253787 -0.028462  \n",
       "YAL005C -0.206393 -7.498802  \n",
       "\n",
       "[5 rows x 469 columns]"
      ]
     },
     "execution_count": 70,
     "metadata": {},
     "output_type": "execute_result"
    }
   ],
   "source": [
    "original_data.head()"
   ]
  },
  {
   "cell_type": "code",
   "execution_count": 71,
   "metadata": {},
   "outputs": [
    {
     "data": {
      "text/html": [
       "<div>\n",
       "<style scoped>\n",
       "    .dataframe tbody tr th:only-of-type {\n",
       "        vertical-align: middle;\n",
       "    }\n",
       "\n",
       "    .dataframe tbody tr th {\n",
       "        vertical-align: top;\n",
       "    }\n",
       "\n",
       "    .dataframe thead th {\n",
       "        text-align: right;\n",
       "    }\n",
       "</style>\n",
       "<table border=\"1\" class=\"dataframe\">\n",
       "  <thead>\n",
       "    <tr style=\"text-align: right;\">\n",
       "      <th></th>\n",
       "      <th>1087</th>\n",
       "      <th>16622</th>\n",
       "    </tr>\n",
       "    <tr>\n",
       "      <th>orf</th>\n",
       "      <th></th>\n",
       "      <th></th>\n",
       "    </tr>\n",
       "  </thead>\n",
       "  <tbody>\n",
       "    <tr>\n",
       "      <th>YAL001C</th>\n",
       "      <td>0.153577</td>\n",
       "      <td>-0.039887</td>\n",
       "    </tr>\n",
       "    <tr>\n",
       "      <th>YAL002W</th>\n",
       "      <td>-0.093247</td>\n",
       "      <td>0.261198</td>\n",
       "    </tr>\n",
       "    <tr>\n",
       "      <th>YAL003W</th>\n",
       "      <td>NaN</td>\n",
       "      <td>0.126743</td>\n",
       "    </tr>\n",
       "    <tr>\n",
       "      <th>YAL004W</th>\n",
       "      <td>0.195749</td>\n",
       "      <td>0.303275</td>\n",
       "    </tr>\n",
       "    <tr>\n",
       "      <th>YAL005C</th>\n",
       "      <td>0.105597</td>\n",
       "      <td>-1.476444</td>\n",
       "    </tr>\n",
       "  </tbody>\n",
       "</table>\n",
       "</div>"
      ],
      "text/plain": [
       "            1087      16622\n",
       "orf                        \n",
       "YAL001C  0.153577 -0.039887\n",
       "YAL002W -0.093247  0.261198\n",
       "YAL003W       NaN  0.126743\n",
       "YAL004W  0.195749  0.303275\n",
       "YAL005C  0.105597 -1.476444"
      ]
     },
     "execution_count": 71,
     "metadata": {},
     "output_type": "execute_result"
    }
   ],
   "source": [
    "data_benomyl.head()"
   ]
  },
  {
   "cell_type": "code",
   "execution_count": 72,
   "metadata": {},
   "outputs": [],
   "source": [
    "data_final = data_benomyl.join(original_data, how='outer', lsuffix='_benomyl', rsuffix='_other')"
   ]
  },
  {
   "cell_type": "code",
   "execution_count": 73,
   "metadata": {},
   "outputs": [
    {
     "data": {
      "text/plain": [
       "(5867, 471)"
      ]
     },
     "execution_count": 73,
     "metadata": {},
     "output_type": "execute_result"
    }
   ],
   "source": [
    "data_final.shape"
   ]
  },
  {
   "cell_type": "code",
   "execution_count": 74,
   "metadata": {},
   "outputs": [
    {
     "data": {
      "text/plain": [
       "(5867, 2)"
      ]
     },
     "execution_count": 74,
     "metadata": {},
     "output_type": "execute_result"
    }
   ],
   "source": [
    "data_benomyl.shape"
   ]
  },
  {
   "cell_type": "code",
   "execution_count": 75,
   "metadata": {},
   "outputs": [
    {
     "data": {
      "text/plain": [
       "(5864, 469)"
      ]
     },
     "execution_count": 75,
     "metadata": {},
     "output_type": "execute_result"
    }
   ],
   "source": [
    "original_data.shape"
   ]
  },
  {
   "cell_type": "markdown",
   "metadata": {},
   "source": [
    "# Prepare final dataset"
   ]
  },
  {
   "cell_type": "code",
   "execution_count": 77,
   "metadata": {},
   "outputs": [],
   "source": [
    "dataset_ids = data_final.columns.values\n",
    "datasets = datasets.reindex(index=dataset_ids)"
   ]
  },
  {
   "cell_type": "code",
   "execution_count": 78,
   "metadata": {},
   "outputs": [],
   "source": [
    "data = data_final.copy()"
   ]
  },
  {
   "cell_type": "code",
   "execution_count": 79,
   "metadata": {},
   "outputs": [],
   "source": [
    "data.columns = datasets['name'].values"
   ]
  },
  {
   "cell_type": "code",
   "execution_count": 80,
   "metadata": {},
   "outputs": [],
   "source": [
    "data = data.groupby(data.index).mean()"
   ]
  },
  {
   "cell_type": "code",
   "execution_count": 81,
   "metadata": {},
   "outputs": [],
   "source": [
    "# Create row index\n",
    "data.index.name='orf'"
   ]
  },
  {
   "cell_type": "code",
   "execution_count": 82,
   "metadata": {},
   "outputs": [
    {
     "name": "stdout",
     "output_type": "stream",
     "text": [
      "Final data dimensions: 5867 x 471\n"
     ]
    }
   ],
   "source": [
    "print('Final data dimensions: %d x %d' % (data.shape))"
   ]
  },
  {
   "cell_type": "markdown",
   "metadata": {},
   "source": [
    "# Print out"
   ]
  },
  {
   "cell_type": "code",
   "execution_count": 83,
   "metadata": {},
   "outputs": [],
   "source": [
    "data.to_csv(paper_name + '.txt', sep='\\t')"
   ]
  },
  {
   "cell_type": "markdown",
   "metadata": {},
   "source": [
    "# Save to DB"
   ]
  },
  {
   "cell_type": "code",
   "execution_count": 30,
   "metadata": {},
   "outputs": [],
   "source": [
    "from IO.save_data_to_db2 import *"
   ]
  },
  {
   "cell_type": "code",
   "execution_count": 31,
   "metadata": {},
   "outputs": [],
   "source": [
    "# Create column index\n",
    "lst = [datasets.index.values, datasets['name'].values]\n",
    "tuples = list(zip(*lst))\n",
    "idx = pd.MultiIndex.from_tuples(tuples, names=['dataset_id','dataset_name'])\n",
    "data.columns = idx"
   ]
  },
  {
   "cell_type": "code",
   "execution_count": 33,
   "metadata": {},
   "outputs": [],
   "source": [
    "save_data_to_db(data, paper_pmid, delete=False)"
   ]
  },
  {
   "cell_type": "code",
   "execution_count": null,
   "metadata": {},
   "outputs": [],
   "source": []
  }
 ],
 "metadata": {
  "kernelspec": {
   "display_name": "yp-data",
   "language": "python",
   "name": "yp-data"
  },
  "language_info": {
   "codemirror_mode": {
    "name": "ipython",
    "version": 3
   },
   "file_extension": ".py",
   "mimetype": "text/x-python",
   "name": "python",
   "nbconvert_exporter": "python",
   "pygments_lexer": "ipython3",
   "version": "3.7.7"
  }
 },
 "nbformat": 4,
 "nbformat_minor": 4
}
