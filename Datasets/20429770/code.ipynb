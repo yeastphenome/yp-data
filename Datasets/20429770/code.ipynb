{
 "cells": [
  {
   "cell_type": "code",
   "execution_count": 1,
   "metadata": {},
   "outputs": [],
   "source": [
    "import numpy as np\n",
    "import pandas as pd\n",
    "\n",
    "import sys\n",
    "\n",
    "from os.path import expanduser\n",
    "sys.path.append(expanduser('~') + '/Lab/Utils/Python/')\n",
    "\n",
    "from Conversions.translate import *\n",
    "from Strings.is_a import *"
   ]
  },
  {
   "cell_type": "markdown",
   "metadata": {},
   "source": [
    "# Initial setup"
   ]
  },
  {
   "cell_type": "code",
   "execution_count": 2,
   "metadata": {},
   "outputs": [],
   "source": [
    "paper_pmid = 20429770\n",
    "paper_name = 'mir_rashed_smith_2010' "
   ]
  },
  {
   "cell_type": "code",
   "execution_count": 3,
   "metadata": {},
   "outputs": [],
   "source": [
    "datasets = pd.read_csv('extras/YeastPhenome_' + str(paper_pmid) + '_datasets_list.txt', sep='\\t', header=None, names=['pmid', 'name'])"
   ]
  },
  {
   "cell_type": "code",
   "execution_count": 4,
   "metadata": {},
   "outputs": [],
   "source": [
    "datasets.set_index('pmid', inplace=True)"
   ]
  },
  {
   "cell_type": "markdown",
   "metadata": {},
   "source": [
    "# Load & process the data"
   ]
  },
  {
   "cell_type": "code",
   "execution_count": 5,
   "metadata": {},
   "outputs": [],
   "source": [
    "original_data = pd.read_excel('raw_data/Ech sup Table work 5.xls', sheet_name='Sheet1', skiprows=4)"
   ]
  },
  {
   "cell_type": "code",
   "execution_count": 6,
   "metadata": {},
   "outputs": [
    {
     "name": "stdout",
     "output_type": "stream",
     "text": [
      "Original data dimensions: 231 x 47\n"
     ]
    }
   ],
   "source": [
    "print('Original data dimensions: %d x %d' % (original_data.shape))"
   ]
  },
  {
   "cell_type": "code",
   "execution_count": 10,
   "metadata": {},
   "outputs": [],
   "source": [
    "original_data.drop(columns=original_data.columns[2::3], inplace=True)"
   ]
  },
  {
   "cell_type": "code",
   "execution_count": 17,
   "metadata": {},
   "outputs": [],
   "source": [
    "cols_orfs = np.arange(32)[0::2]"
   ]
  },
  {
   "cell_type": "code",
   "execution_count": 22,
   "metadata": {},
   "outputs": [],
   "source": [
    "all_orfs = []\n",
    "all_datasets = []\n",
    "for ix_dataset in np.arange(16):\n",
    "    col_orf = cols_orfs[ix_dataset]\n",
    "    all_orfs = all_orfs + original_data.iloc[:,col_orf].to_list()\n",
    "    all_datasets = all_datasets + [original_data.columns.values[col_orf]]"
   ]
  },
  {
   "cell_type": "code",
   "execution_count": 23,
   "metadata": {},
   "outputs": [],
   "source": [
    "all_orfs = np.unique(np.array(all_orfs))"
   ]
  },
  {
   "cell_type": "code",
   "execution_count": 35,
   "metadata": {},
   "outputs": [],
   "source": [
    "data = pd.DataFrame(index=all_orfs, columns=all_datasets)"
   ]
  },
  {
   "cell_type": "code",
   "execution_count": 36,
   "metadata": {},
   "outputs": [],
   "source": [
    "for ix_dataset in np.arange(16):\n",
    "    col_orf = cols_orfs[ix_dataset]\n",
    "    col_data = col_orf+1\n",
    "    \n",
    "    this_dataset_name = original_data.columns.values[col_orf]\n",
    "    this_orfs = original_data.iloc[:, col_orf].astype(str).values[1:]\n",
    "    this_data = original_data.iloc[:, col_data].values[1:]\n",
    "    \n",
    "    ix = (this_orfs != 'nan')\n",
    "    this_data = this_data[ix]\n",
    "    this_orfs = this_orfs[ix]\n",
    "    \n",
    "    data.loc[this_orfs, this_dataset_name] = this_data"
   ]
  },
  {
   "cell_type": "code",
   "execution_count": 38,
   "metadata": {},
   "outputs": [],
   "source": [
    "orfs = data.index.values"
   ]
  },
  {
   "cell_type": "code",
   "execution_count": 39,
   "metadata": {},
   "outputs": [],
   "source": [
    "# Eliminate all white spaces & capitalize\n",
    "orfs = clean_orf(orfs)"
   ]
  },
  {
   "cell_type": "code",
   "execution_count": 40,
   "metadata": {},
   "outputs": [],
   "source": [
    "# Translate to ORFs \n",
    "orfs = translate_sc(orfs, to='orf')"
   ]
  },
  {
   "cell_type": "code",
   "execution_count": 42,
   "metadata": {},
   "outputs": [
    {
     "name": "stdout",
     "output_type": "stream",
     "text": [
      "['GENEID' 'NAN']\n"
     ]
    }
   ],
   "source": [
    "# Make sure everything translated ok\n",
    "t = looks_like_orf(orfs)\n",
    "print(orfs[~np.array(t),])"
   ]
  },
  {
   "cell_type": "code",
   "execution_count": 43,
   "metadata": {},
   "outputs": [],
   "source": [
    "orfs = orfs[np.array(t)]"
   ]
  },
  {
   "cell_type": "code",
   "execution_count": 44,
   "metadata": {},
   "outputs": [],
   "source": [
    "data = data.reindex(index=orfs)"
   ]
  },
  {
   "cell_type": "code",
   "execution_count": 47,
   "metadata": {},
   "outputs": [],
   "source": [
    "# Transform data to follow convention (0 = WT, negative values = less growth than WT)\n",
    "data = -data\n",
    "data[data.isnull()] = 0"
   ]
  },
  {
   "cell_type": "code",
   "execution_count": 60,
   "metadata": {},
   "outputs": [],
   "source": [
    "data = data.astype(float)"
   ]
  },
  {
   "cell_type": "code",
   "execution_count": 48,
   "metadata": {},
   "outputs": [
    {
     "data": {
      "text/html": [
       "<div>\n",
       "<style scoped>\n",
       "    .dataframe tbody tr th:only-of-type {\n",
       "        vertical-align: middle;\n",
       "    }\n",
       "\n",
       "    .dataframe tbody tr th {\n",
       "        vertical-align: top;\n",
       "    }\n",
       "\n",
       "    .dataframe thead th {\n",
       "        text-align: right;\n",
       "    }\n",
       "</style>\n",
       "<table border=\"1\" class=\"dataframe\">\n",
       "  <thead>\n",
       "    <tr style=\"text-align: right;\">\n",
       "      <th></th>\n",
       "      <th>SGEPH.Dark</th>\n",
       "      <th>SGEPH.UV</th>\n",
       "      <th>SGEPR.Dark</th>\n",
       "      <th>SGEPR.UV</th>\n",
       "      <th>SG1.Dark</th>\n",
       "      <th>SG1.UV</th>\n",
       "      <th>SG7a.Dark</th>\n",
       "      <th>SG7a.UV</th>\n",
       "      <th>SGEPF.Dark</th>\n",
       "      <th>SGEPF.UV</th>\n",
       "      <th>SGEPLS.Dark</th>\n",
       "      <th>SGEPLS.UV</th>\n",
       "      <th>SGEARa.Dark</th>\n",
       "      <th>SGEARa.UV</th>\n",
       "      <th>SGEARb.Dark</th>\n",
       "      <th>SGEARb.UV</th>\n",
       "    </tr>\n",
       "  </thead>\n",
       "  <tbody>\n",
       "    <tr>\n",
       "      <th>YAL004W</th>\n",
       "      <td>-24.418</td>\n",
       "      <td>0</td>\n",
       "      <td>0</td>\n",
       "      <td>0</td>\n",
       "      <td>0</td>\n",
       "      <td>-105.83</td>\n",
       "      <td>0</td>\n",
       "      <td>0</td>\n",
       "      <td>-59.33</td>\n",
       "      <td>-65.554</td>\n",
       "      <td>0</td>\n",
       "      <td>0</td>\n",
       "      <td>0</td>\n",
       "      <td>0</td>\n",
       "      <td>0</td>\n",
       "      <td>0</td>\n",
       "    </tr>\n",
       "    <tr>\n",
       "      <th>YAL005C</th>\n",
       "      <td>0</td>\n",
       "      <td>0</td>\n",
       "      <td>0</td>\n",
       "      <td>-35.325</td>\n",
       "      <td>0</td>\n",
       "      <td>0</td>\n",
       "      <td>0</td>\n",
       "      <td>0</td>\n",
       "      <td>0</td>\n",
       "      <td>-58.985</td>\n",
       "      <td>0</td>\n",
       "      <td>0</td>\n",
       "      <td>0</td>\n",
       "      <td>0</td>\n",
       "      <td>0</td>\n",
       "      <td>0</td>\n",
       "    </tr>\n",
       "    <tr>\n",
       "      <th>YAL008W</th>\n",
       "      <td>-61.631</td>\n",
       "      <td>0</td>\n",
       "      <td>0</td>\n",
       "      <td>0</td>\n",
       "      <td>0</td>\n",
       "      <td>0</td>\n",
       "      <td>-38.155</td>\n",
       "      <td>0</td>\n",
       "      <td>0</td>\n",
       "      <td>-53.989</td>\n",
       "      <td>-45.218</td>\n",
       "      <td>0</td>\n",
       "      <td>0</td>\n",
       "      <td>0</td>\n",
       "      <td>0</td>\n",
       "      <td>0</td>\n",
       "    </tr>\n",
       "    <tr>\n",
       "      <th>YAL010C</th>\n",
       "      <td>0</td>\n",
       "      <td>0</td>\n",
       "      <td>0</td>\n",
       "      <td>0</td>\n",
       "      <td>0</td>\n",
       "      <td>0</td>\n",
       "      <td>-37.999</td>\n",
       "      <td>0</td>\n",
       "      <td>0</td>\n",
       "      <td>0</td>\n",
       "      <td>0</td>\n",
       "      <td>0</td>\n",
       "      <td>0</td>\n",
       "      <td>0</td>\n",
       "      <td>0</td>\n",
       "      <td>0</td>\n",
       "    </tr>\n",
       "    <tr>\n",
       "      <th>YAL012W</th>\n",
       "      <td>0</td>\n",
       "      <td>-47.29</td>\n",
       "      <td>0</td>\n",
       "      <td>0</td>\n",
       "      <td>0</td>\n",
       "      <td>0</td>\n",
       "      <td>0</td>\n",
       "      <td>0</td>\n",
       "      <td>0</td>\n",
       "      <td>0</td>\n",
       "      <td>0</td>\n",
       "      <td>0</td>\n",
       "      <td>0</td>\n",
       "      <td>0</td>\n",
       "      <td>0</td>\n",
       "      <td>0</td>\n",
       "    </tr>\n",
       "  </tbody>\n",
       "</table>\n",
       "</div>"
      ],
      "text/plain": [
       "        SGEPH.Dark SGEPH.UV SGEPR.Dark SGEPR.UV SG1.Dark  SG1.UV SG7a.Dark  \\\n",
       "YAL004W    -24.418        0          0        0        0 -105.83         0   \n",
       "YAL005C          0        0          0  -35.325        0       0         0   \n",
       "YAL008W    -61.631        0          0        0        0       0   -38.155   \n",
       "YAL010C          0        0          0        0        0       0   -37.999   \n",
       "YAL012W          0   -47.29          0        0        0       0         0   \n",
       "\n",
       "        SG7a.UV SGEPF.Dark SGEPF.UV SGEPLS.Dark SGEPLS.UV SGEARa.Dark  \\\n",
       "YAL004W       0     -59.33  -65.554           0         0           0   \n",
       "YAL005C       0          0  -58.985           0         0           0   \n",
       "YAL008W       0          0  -53.989     -45.218         0           0   \n",
       "YAL010C       0          0        0           0         0           0   \n",
       "YAL012W       0          0        0           0         0           0   \n",
       "\n",
       "        SGEARa.UV SGEARb.Dark SGEARb.UV  \n",
       "YAL004W         0           0         0  \n",
       "YAL005C         0           0         0  \n",
       "YAL008W         0           0         0  \n",
       "YAL010C         0           0         0  \n",
       "YAL012W         0           0         0  "
      ]
     },
     "execution_count": 48,
     "metadata": {},
     "output_type": "execute_result"
    }
   ],
   "source": [
    "data.head()"
   ]
  },
  {
   "cell_type": "markdown",
   "metadata": {},
   "source": [
    "# Prepare the final dataset"
   ]
  },
  {
   "cell_type": "code",
   "execution_count": 51,
   "metadata": {},
   "outputs": [],
   "source": [
    "dataset_names = dict.fromkeys(data.columns.values)"
   ]
  },
  {
   "cell_type": "code",
   "execution_count": 53,
   "metadata": {},
   "outputs": [],
   "source": [
    "dataset_names['SG1.Dark'] = 16457\n",
    "dataset_names['SG1.UV'] = 16575\n",
    "dataset_names['SGEPR.Dark'] = 16576\n",
    "dataset_names['SGEPR.UV'] = 16577\n",
    "dataset_names['SGEPF.Dark'] = 16578\n",
    "dataset_names['SGEPF.UV'] = 16579\n",
    "dataset_names['SGEPH.Dark'] = 16580\n",
    "dataset_names['SGEPH.UV'] = 16581\n",
    "dataset_names['SGEPLS.Dark'] = 16582\n",
    "dataset_names['SGEPLS.UV'] = 16583\n",
    "dataset_names['SG7a.Dark'] = 16584\n",
    "dataset_names['SG7a.UV'] = 16585\n",
    "dataset_names['SGEARa.Dark'] = 16586\n",
    "dataset_names['SGEARa.UV'] = 16587\n",
    "dataset_names['SGEARb.Dark'] = 16588\n",
    "dataset_names['SGEARb.UV'] = 16589"
   ]
  },
  {
   "cell_type": "code",
   "execution_count": 55,
   "metadata": {},
   "outputs": [],
   "source": [
    "dataset_ids = [dataset_names[d] for d in data.columns.values]"
   ]
  },
  {
   "cell_type": "code",
   "execution_count": 57,
   "metadata": {},
   "outputs": [],
   "source": [
    "datasets = datasets.reindex(index=dataset_ids)"
   ]
  },
  {
   "cell_type": "code",
   "execution_count": 58,
   "metadata": {},
   "outputs": [],
   "source": [
    "data.columns = datasets['name'].values"
   ]
  },
  {
   "cell_type": "code",
   "execution_count": 61,
   "metadata": {},
   "outputs": [],
   "source": [
    "data = data.groupby(data.index).mean()"
   ]
  },
  {
   "cell_type": "code",
   "execution_count": 62,
   "metadata": {},
   "outputs": [],
   "source": [
    "# Create row index\n",
    "data.index.name='orf'"
   ]
  },
  {
   "cell_type": "code",
   "execution_count": 63,
   "metadata": {},
   "outputs": [
    {
     "name": "stdout",
     "output_type": "stream",
     "text": [
      "Final data dimensions: 2134 x 16\n"
     ]
    }
   ],
   "source": [
    "print('Final data dimensions: %d x %d' % (data.shape))"
   ]
  },
  {
   "cell_type": "markdown",
   "metadata": {},
   "source": [
    "# Print out"
   ]
  },
  {
   "cell_type": "code",
   "execution_count": 65,
   "metadata": {},
   "outputs": [],
   "source": [
    "data.to_csv(paper_name + '.txt', sep='\\t')"
   ]
  },
  {
   "cell_type": "markdown",
   "metadata": {},
   "source": [
    "# Save to DB"
   ]
  },
  {
   "cell_type": "code",
   "execution_count": 66,
   "metadata": {},
   "outputs": [],
   "source": [
    "from IO.save_data_to_db2 import *"
   ]
  },
  {
   "cell_type": "code",
   "execution_count": 67,
   "metadata": {},
   "outputs": [],
   "source": [
    "# Create column index\n",
    "lst = [datasets.index.values, datasets['name'].values]\n",
    "tuples = list(zip(*lst))\n",
    "idx = pd.MultiIndex.from_tuples(tuples, names=['dataset_id','dataset_name'])\n",
    "data.columns = idx"
   ]
  },
  {
   "cell_type": "code",
   "execution_count": 68,
   "metadata": {},
   "outputs": [],
   "source": [
    "save_data_to_db(data, paper_pmid)"
   ]
  },
  {
   "cell_type": "code",
   "execution_count": null,
   "metadata": {},
   "outputs": [],
   "source": []
  }
 ],
 "metadata": {
  "kernelspec": {
   "display_name": "yp-data",
   "language": "python",
   "name": "yp-data"
  },
  "language_info": {
   "codemirror_mode": {
    "name": "ipython",
    "version": 3
   },
   "file_extension": ".py",
   "mimetype": "text/x-python",
   "name": "python",
   "nbconvert_exporter": "python",
   "pygments_lexer": "ipython3",
   "version": "3.7.7"
  }
 },
 "nbformat": 4,
 "nbformat_minor": 4
}
