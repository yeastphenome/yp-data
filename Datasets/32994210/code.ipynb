{
 "cells": [
  {
   "cell_type": "code",
   "execution_count": 32,
   "metadata": {},
   "outputs": [],
   "source": [
    "%run ../yp_utils.py\n",
    "\n",
    "import matplotlib.pyplot as plt"
   ]
  },
  {
   "cell_type": "markdown",
   "metadata": {},
   "source": [
    "# Initial setup"
   ]
  },
  {
   "cell_type": "code",
   "execution_count": 2,
   "metadata": {},
   "outputs": [],
   "source": [
    "paper_pmid = 32994210\n",
    "paper_name = 'stjohn_fasullo_2020' "
   ]
  },
  {
   "cell_type": "code",
   "execution_count": 3,
   "metadata": {},
   "outputs": [],
   "source": [
    "datasets = pd.read_csv('extras/YeastPhenome_' + str(paper_pmid) + '_datasets_list.txt', sep='\\t', header=None, names=['dataset_id', 'name'])"
   ]
  },
  {
   "cell_type": "code",
   "execution_count": 4,
   "metadata": {},
   "outputs": [],
   "source": [
    "datasets.set_index('dataset_id', inplace=True)"
   ]
  },
  {
   "cell_type": "markdown",
   "metadata": {},
   "source": [
    "# Load & process the data"
   ]
  },
  {
   "cell_type": "code",
   "execution_count": 18,
   "metadata": {},
   "outputs": [],
   "source": [
    "files = ['GSE129699_C8B0CANXX_Results__No_CYP_uptag_only__DMSO_AFB1.xls', \n",
    "         'GSE129699_C8B0CANXX_Results__CYP1A2_uptag_only__DMSO_AFB1.xls', \n",
    "         'GSE129699_C8B0CANXX_Results__CYP1A2nat214_uptag_only__DMSO_AFB1.xls']"
   ]
  },
  {
   "cell_type": "code",
   "execution_count": 34,
   "metadata": {},
   "outputs": [],
   "source": [
    "original_data = []\n",
    "for f in files:\n",
    "    path_to_file = 'raw_data/' + f\n",
    "    data = pd.read_excel(path_to_file, sheet_name=None)\n",
    "    \n",
    "    sheet_name = list(data.keys())[0]\n",
    "    original_data.append(data[sheet_name])"
   ]
  },
  {
   "cell_type": "code",
   "execution_count": 38,
   "metadata": {},
   "outputs": [
    {
     "name": "stdout",
     "output_type": "stream",
     "text": [
      "Loading SGD features from 2017-04-03.\n",
      "(4791, 7)\n",
      "Loading SGD features from 2017-04-03.\n",
      "(4791, 7)\n",
      "Loading SGD features from 2017-04-03.\n",
      "(4791, 7)\n"
     ]
    }
   ],
   "source": [
    "original_data2 = []\n",
    "for df in original_data:\n",
    "    df['orfs'] = df['gene_id'].astype(str)\n",
    "    df['orfs'] = clean_orf(df['orfs'])\n",
    "    df['orfs'] = translate_sc(df['orfs'], to='orf')\n",
    "    t = looks_like_orf(df['orfs'])\n",
    "    df = df.loc[t,:]\n",
    "    df = df.groupby('orfs').mean()\n",
    "    df.index.name='orf'\n",
    "    df['data'] = df['m.value']\n",
    "    \n",
    "    # For some reason, essential genes are present in the list, but they all have low values\n",
    "    # So, it's probably an effect of mapping dictionary. Will remove\n",
    "    ess = is_essential(df.index.values)\n",
    "    df.drop(index=df.index.values[ess.values], inplace=True)\n",
    "    \n",
    "    print(df.shape)\n",
    "    original_data2.append(df)"
   ]
  },
  {
   "cell_type": "code",
   "execution_count": 41,
   "metadata": {},
   "outputs": [],
   "source": [
    "data = pd.concat([df['data'] for df in original_data2], axis=1)"
   ]
  },
  {
   "cell_type": "code",
   "execution_count": 42,
   "metadata": {},
   "outputs": [
    {
     "data": {
      "text/plain": [
       "(4791, 3)"
      ]
     },
     "execution_count": 42,
     "metadata": {},
     "output_type": "execute_result"
    }
   ],
   "source": [
    "data.shape"
   ]
  },
  {
   "cell_type": "code",
   "execution_count": 43,
   "metadata": {},
   "outputs": [
    {
     "data": {
      "text/html": [
       "<div>\n",
       "<style scoped>\n",
       "    .dataframe tbody tr th:only-of-type {\n",
       "        vertical-align: middle;\n",
       "    }\n",
       "\n",
       "    .dataframe tbody tr th {\n",
       "        vertical-align: top;\n",
       "    }\n",
       "\n",
       "    .dataframe thead th {\n",
       "        text-align: right;\n",
       "    }\n",
       "</style>\n",
       "<table border=\"1\" class=\"dataframe\">\n",
       "  <thead>\n",
       "    <tr style=\"text-align: right;\">\n",
       "      <th></th>\n",
       "      <th>data</th>\n",
       "      <th>data</th>\n",
       "      <th>data</th>\n",
       "    </tr>\n",
       "    <tr>\n",
       "      <th>orf</th>\n",
       "      <th></th>\n",
       "      <th></th>\n",
       "      <th></th>\n",
       "    </tr>\n",
       "  </thead>\n",
       "  <tbody>\n",
       "    <tr>\n",
       "      <th>YAL002W</th>\n",
       "      <td>-0.291978</td>\n",
       "      <td>-1.394985</td>\n",
       "      <td>0.508432</td>\n",
       "    </tr>\n",
       "    <tr>\n",
       "      <th>YAL004W</th>\n",
       "      <td>-0.107245</td>\n",
       "      <td>0.352685</td>\n",
       "      <td>-0.296746</td>\n",
       "    </tr>\n",
       "    <tr>\n",
       "      <th>YAL005C</th>\n",
       "      <td>-0.082557</td>\n",
       "      <td>-0.028998</td>\n",
       "      <td>0.090148</td>\n",
       "    </tr>\n",
       "    <tr>\n",
       "      <th>YAL007C</th>\n",
       "      <td>0.038590</td>\n",
       "      <td>0.383025</td>\n",
       "      <td>-0.183724</td>\n",
       "    </tr>\n",
       "    <tr>\n",
       "      <th>YAL008W</th>\n",
       "      <td>0.183626</td>\n",
       "      <td>0.038429</td>\n",
       "      <td>0.203388</td>\n",
       "    </tr>\n",
       "  </tbody>\n",
       "</table>\n",
       "</div>"
      ],
      "text/plain": [
       "             data      data      data\n",
       "orf                                  \n",
       "YAL002W -0.291978 -1.394985  0.508432\n",
       "YAL004W -0.107245  0.352685 -0.296746\n",
       "YAL005C -0.082557 -0.028998  0.090148\n",
       "YAL007C  0.038590  0.383025 -0.183724\n",
       "YAL008W  0.183626  0.038429  0.203388"
      ]
     },
     "execution_count": 43,
     "metadata": {},
     "output_type": "execute_result"
    }
   ],
   "source": [
    "data.head()"
   ]
  },
  {
   "cell_type": "markdown",
   "metadata": {},
   "source": [
    "# Prepare the final dataset"
   ]
  },
  {
   "cell_type": "code",
   "execution_count": 44,
   "metadata": {},
   "outputs": [],
   "source": [
    "dataset_ids = [16686,16647,16687]\n",
    "datasets = datasets.reindex(index=dataset_ids)"
   ]
  },
  {
   "cell_type": "code",
   "execution_count": 45,
   "metadata": {},
   "outputs": [],
   "source": [
    "lst = [datasets.index.values, ['value']*datasets.shape[0]]\n",
    "tuples = list(zip(*lst))\n",
    "idx = pd.MultiIndex.from_tuples(tuples, names=['dataset_id','data_type'])\n",
    "data.columns = idx"
   ]
  },
  {
   "cell_type": "code",
   "execution_count": 46,
   "metadata": {},
   "outputs": [
    {
     "data": {
      "text/html": [
       "<div>\n",
       "<style scoped>\n",
       "    .dataframe tbody tr th:only-of-type {\n",
       "        vertical-align: middle;\n",
       "    }\n",
       "\n",
       "    .dataframe tbody tr th {\n",
       "        vertical-align: top;\n",
       "    }\n",
       "\n",
       "    .dataframe thead tr th {\n",
       "        text-align: left;\n",
       "    }\n",
       "\n",
       "    .dataframe thead tr:last-of-type th {\n",
       "        text-align: right;\n",
       "    }\n",
       "</style>\n",
       "<table border=\"1\" class=\"dataframe\">\n",
       "  <thead>\n",
       "    <tr>\n",
       "      <th>dataset_id</th>\n",
       "      <th>16686</th>\n",
       "      <th>16647</th>\n",
       "      <th>16687</th>\n",
       "    </tr>\n",
       "    <tr>\n",
       "      <th>data_type</th>\n",
       "      <th>value</th>\n",
       "      <th>value</th>\n",
       "      <th>value</th>\n",
       "    </tr>\n",
       "    <tr>\n",
       "      <th>orf</th>\n",
       "      <th></th>\n",
       "      <th></th>\n",
       "      <th></th>\n",
       "    </tr>\n",
       "  </thead>\n",
       "  <tbody>\n",
       "    <tr>\n",
       "      <th>YAL002W</th>\n",
       "      <td>-0.291978</td>\n",
       "      <td>-1.394985</td>\n",
       "      <td>0.508432</td>\n",
       "    </tr>\n",
       "    <tr>\n",
       "      <th>YAL004W</th>\n",
       "      <td>-0.107245</td>\n",
       "      <td>0.352685</td>\n",
       "      <td>-0.296746</td>\n",
       "    </tr>\n",
       "    <tr>\n",
       "      <th>YAL005C</th>\n",
       "      <td>-0.082557</td>\n",
       "      <td>-0.028998</td>\n",
       "      <td>0.090148</td>\n",
       "    </tr>\n",
       "    <tr>\n",
       "      <th>YAL007C</th>\n",
       "      <td>0.038590</td>\n",
       "      <td>0.383025</td>\n",
       "      <td>-0.183724</td>\n",
       "    </tr>\n",
       "    <tr>\n",
       "      <th>YAL008W</th>\n",
       "      <td>0.183626</td>\n",
       "      <td>0.038429</td>\n",
       "      <td>0.203388</td>\n",
       "    </tr>\n",
       "  </tbody>\n",
       "</table>\n",
       "</div>"
      ],
      "text/plain": [
       "dataset_id     16686     16647     16687\n",
       "data_type      value     value     value\n",
       "orf                                     \n",
       "YAL002W    -0.291978 -1.394985  0.508432\n",
       "YAL004W    -0.107245  0.352685 -0.296746\n",
       "YAL005C    -0.082557 -0.028998  0.090148\n",
       "YAL007C     0.038590  0.383025 -0.183724\n",
       "YAL008W     0.183626  0.038429  0.203388"
      ]
     },
     "execution_count": 46,
     "metadata": {},
     "output_type": "execute_result"
    }
   ],
   "source": [
    "data.head()"
   ]
  },
  {
   "cell_type": "markdown",
   "metadata": {},
   "source": [
    "## Subset to the genes currently in SGD"
   ]
  },
  {
   "cell_type": "code",
   "execution_count": 47,
   "metadata": {},
   "outputs": [
    {
     "name": "stdout",
     "output_type": "stream",
     "text": [
      "ORFs missing from SGD: 24\n"
     ]
    }
   ],
   "source": [
    "genes = pd.read_csv(path_to_genes, sep='\\t', index_col='id')\n",
    "genes = genes.reset_index().set_index('systematic_name')\n",
    "gene_ids = genes.reindex(index=data.index.values)['id'].values\n",
    "num_missing = np.sum(np.isnan(gene_ids))\n",
    "print('ORFs missing from SGD: %d' % num_missing)"
   ]
  },
  {
   "cell_type": "code",
   "execution_count": 48,
   "metadata": {},
   "outputs": [],
   "source": [
    "data['gene_id'] = gene_ids\n",
    "data = data.loc[data['gene_id'].notnull()]\n",
    "data['gene_id'] = data['gene_id'].astype(int)\n",
    "data = data.reset_index().set_index(['gene_id','orf'])"
   ]
  },
  {
   "cell_type": "code",
   "execution_count": 49,
   "metadata": {},
   "outputs": [
    {
     "data": {
      "text/html": [
       "<div>\n",
       "<style scoped>\n",
       "    .dataframe tbody tr th:only-of-type {\n",
       "        vertical-align: middle;\n",
       "    }\n",
       "\n",
       "    .dataframe tbody tr th {\n",
       "        vertical-align: top;\n",
       "    }\n",
       "\n",
       "    .dataframe thead tr th {\n",
       "        text-align: left;\n",
       "    }\n",
       "\n",
       "    .dataframe thead tr:last-of-type th {\n",
       "        text-align: right;\n",
       "    }\n",
       "</style>\n",
       "<table border=\"1\" class=\"dataframe\">\n",
       "  <thead>\n",
       "    <tr>\n",
       "      <th></th>\n",
       "      <th>dataset_id</th>\n",
       "      <th>16686</th>\n",
       "      <th>16647</th>\n",
       "      <th>16687</th>\n",
       "    </tr>\n",
       "    <tr>\n",
       "      <th></th>\n",
       "      <th>data_type</th>\n",
       "      <th>value</th>\n",
       "      <th>value</th>\n",
       "      <th>value</th>\n",
       "    </tr>\n",
       "    <tr>\n",
       "      <th>gene_id</th>\n",
       "      <th>orf</th>\n",
       "      <th></th>\n",
       "      <th></th>\n",
       "      <th></th>\n",
       "    </tr>\n",
       "  </thead>\n",
       "  <tbody>\n",
       "    <tr>\n",
       "      <th>2</th>\n",
       "      <th>YAL002W</th>\n",
       "      <td>-0.291978</td>\n",
       "      <td>-1.394985</td>\n",
       "      <td>0.508432</td>\n",
       "    </tr>\n",
       "    <tr>\n",
       "      <th>1863</th>\n",
       "      <th>YAL004W</th>\n",
       "      <td>-0.107245</td>\n",
       "      <td>0.352685</td>\n",
       "      <td>-0.296746</td>\n",
       "    </tr>\n",
       "    <tr>\n",
       "      <th>4</th>\n",
       "      <th>YAL005C</th>\n",
       "      <td>-0.082557</td>\n",
       "      <td>-0.028998</td>\n",
       "      <td>0.090148</td>\n",
       "    </tr>\n",
       "    <tr>\n",
       "      <th>5</th>\n",
       "      <th>YAL007C</th>\n",
       "      <td>0.038590</td>\n",
       "      <td>0.383025</td>\n",
       "      <td>-0.183724</td>\n",
       "    </tr>\n",
       "    <tr>\n",
       "      <th>6</th>\n",
       "      <th>YAL008W</th>\n",
       "      <td>0.183626</td>\n",
       "      <td>0.038429</td>\n",
       "      <td>0.203388</td>\n",
       "    </tr>\n",
       "  </tbody>\n",
       "</table>\n",
       "</div>"
      ],
      "text/plain": [
       "dataset_id          16686     16647     16687\n",
       "data_type           value     value     value\n",
       "gene_id orf                                  \n",
       "2       YAL002W -0.291978 -1.394985  0.508432\n",
       "1863    YAL004W -0.107245  0.352685 -0.296746\n",
       "4       YAL005C -0.082557 -0.028998  0.090148\n",
       "5       YAL007C  0.038590  0.383025 -0.183724\n",
       "6       YAL008W  0.183626  0.038429  0.203388"
      ]
     },
     "execution_count": 49,
     "metadata": {},
     "output_type": "execute_result"
    }
   ],
   "source": [
    "data.head()"
   ]
  },
  {
   "cell_type": "markdown",
   "metadata": {},
   "source": [
    "# Normalize"
   ]
  },
  {
   "cell_type": "code",
   "execution_count": 50,
   "metadata": {},
   "outputs": [],
   "source": [
    "data_norm = normalize_phenotypic_scores(data, has_tested=True)"
   ]
  },
  {
   "cell_type": "code",
   "execution_count": 51,
   "metadata": {},
   "outputs": [],
   "source": [
    "# Assign proper column names\n",
    "lst = [datasets.index.values, ['valuez']*datasets.shape[0]]\n",
    "tuples = list(zip(*lst))\n",
    "idx = pd.MultiIndex.from_tuples(tuples, names=['dataset_id','data_type'])\n",
    "data_norm.columns = idx"
   ]
  },
  {
   "cell_type": "code",
   "execution_count": 52,
   "metadata": {},
   "outputs": [],
   "source": [
    "data_norm[data.isnull()] = np.nan"
   ]
  },
  {
   "cell_type": "code",
   "execution_count": 53,
   "metadata": {},
   "outputs": [],
   "source": [
    "data_all = data.join(data_norm)"
   ]
  },
  {
   "cell_type": "code",
   "execution_count": 54,
   "metadata": {},
   "outputs": [
    {
     "data": {
      "text/html": [
       "<div>\n",
       "<style scoped>\n",
       "    .dataframe tbody tr th:only-of-type {\n",
       "        vertical-align: middle;\n",
       "    }\n",
       "\n",
       "    .dataframe tbody tr th {\n",
       "        vertical-align: top;\n",
       "    }\n",
       "\n",
       "    .dataframe thead tr th {\n",
       "        text-align: left;\n",
       "    }\n",
       "\n",
       "    .dataframe thead tr:last-of-type th {\n",
       "        text-align: right;\n",
       "    }\n",
       "</style>\n",
       "<table border=\"1\" class=\"dataframe\">\n",
       "  <thead>\n",
       "    <tr>\n",
       "      <th></th>\n",
       "      <th>dataset_id</th>\n",
       "      <th>16686</th>\n",
       "      <th>16647</th>\n",
       "      <th>16687</th>\n",
       "      <th>16686</th>\n",
       "      <th>16647</th>\n",
       "      <th>16687</th>\n",
       "    </tr>\n",
       "    <tr>\n",
       "      <th></th>\n",
       "      <th>data_type</th>\n",
       "      <th>value</th>\n",
       "      <th>value</th>\n",
       "      <th>value</th>\n",
       "      <th>valuez</th>\n",
       "      <th>valuez</th>\n",
       "      <th>valuez</th>\n",
       "    </tr>\n",
       "    <tr>\n",
       "      <th>gene_id</th>\n",
       "      <th>orf</th>\n",
       "      <th></th>\n",
       "      <th></th>\n",
       "      <th></th>\n",
       "      <th></th>\n",
       "      <th></th>\n",
       "      <th></th>\n",
       "    </tr>\n",
       "  </thead>\n",
       "  <tbody>\n",
       "    <tr>\n",
       "      <th>2</th>\n",
       "      <th>YAL002W</th>\n",
       "      <td>-0.291978</td>\n",
       "      <td>-1.394985</td>\n",
       "      <td>0.508432</td>\n",
       "      <td>-0.676855</td>\n",
       "      <td>-0.053793</td>\n",
       "      <td>0.086083</td>\n",
       "    </tr>\n",
       "    <tr>\n",
       "      <th>1863</th>\n",
       "      <th>YAL004W</th>\n",
       "      <td>-0.107245</td>\n",
       "      <td>0.352685</td>\n",
       "      <td>-0.296746</td>\n",
       "      <td>-0.233629</td>\n",
       "      <td>0.985017</td>\n",
       "      <td>-0.327897</td>\n",
       "    </tr>\n",
       "    <tr>\n",
       "      <th>4</th>\n",
       "      <th>YAL005C</th>\n",
       "      <td>-0.082557</td>\n",
       "      <td>-0.028998</td>\n",
       "      <td>0.090148</td>\n",
       "      <td>-0.174394</td>\n",
       "      <td>0.758145</td>\n",
       "      <td>-0.128976</td>\n",
       "    </tr>\n",
       "    <tr>\n",
       "      <th>5</th>\n",
       "      <th>YAL007C</th>\n",
       "      <td>0.038590</td>\n",
       "      <td>0.383025</td>\n",
       "      <td>-0.183724</td>\n",
       "      <td>0.116270</td>\n",
       "      <td>1.003051</td>\n",
       "      <td>-0.269787</td>\n",
       "    </tr>\n",
       "    <tr>\n",
       "      <th>6</th>\n",
       "      <th>YAL008W</th>\n",
       "      <td>0.183626</td>\n",
       "      <td>0.038429</td>\n",
       "      <td>0.203388</td>\n",
       "      <td>0.464251</td>\n",
       "      <td>0.798224</td>\n",
       "      <td>-0.070754</td>\n",
       "    </tr>\n",
       "  </tbody>\n",
       "</table>\n",
       "</div>"
      ],
      "text/plain": [
       "dataset_id          16686     16647     16687     16686     16647     16687\n",
       "data_type           value     value     value    valuez    valuez    valuez\n",
       "gene_id orf                                                                \n",
       "2       YAL002W -0.291978 -1.394985  0.508432 -0.676855 -0.053793  0.086083\n",
       "1863    YAL004W -0.107245  0.352685 -0.296746 -0.233629  0.985017 -0.327897\n",
       "4       YAL005C -0.082557 -0.028998  0.090148 -0.174394  0.758145 -0.128976\n",
       "5       YAL007C  0.038590  0.383025 -0.183724  0.116270  1.003051 -0.269787\n",
       "6       YAL008W  0.183626  0.038429  0.203388  0.464251  0.798224 -0.070754"
      ]
     },
     "execution_count": 54,
     "metadata": {},
     "output_type": "execute_result"
    }
   ],
   "source": [
    "data_all.head()\n"
   ]
  },
  {
   "cell_type": "code",
   "execution_count": 58,
   "metadata": {},
   "outputs": [
    {
     "data": {
      "text/html": [
       "<div>\n",
       "<style scoped>\n",
       "    .dataframe tbody tr th:only-of-type {\n",
       "        vertical-align: middle;\n",
       "    }\n",
       "\n",
       "    .dataframe tbody tr th {\n",
       "        vertical-align: top;\n",
       "    }\n",
       "\n",
       "    .dataframe thead tr th {\n",
       "        text-align: left;\n",
       "    }\n",
       "\n",
       "    .dataframe thead tr:last-of-type th {\n",
       "        text-align: right;\n",
       "    }\n",
       "</style>\n",
       "<table border=\"1\" class=\"dataframe\">\n",
       "  <thead>\n",
       "    <tr>\n",
       "      <th></th>\n",
       "      <th>dataset_id</th>\n",
       "      <th>16686</th>\n",
       "      <th>16647</th>\n",
       "      <th>16687</th>\n",
       "      <th>16686</th>\n",
       "      <th>16647</th>\n",
       "      <th>16687</th>\n",
       "    </tr>\n",
       "    <tr>\n",
       "      <th></th>\n",
       "      <th>data_type</th>\n",
       "      <th>value</th>\n",
       "      <th>value</th>\n",
       "      <th>value</th>\n",
       "      <th>valuez</th>\n",
       "      <th>valuez</th>\n",
       "      <th>valuez</th>\n",
       "    </tr>\n",
       "    <tr>\n",
       "      <th>gene_id</th>\n",
       "      <th>orf</th>\n",
       "      <th></th>\n",
       "      <th></th>\n",
       "      <th></th>\n",
       "      <th></th>\n",
       "      <th></th>\n",
       "      <th></th>\n",
       "    </tr>\n",
       "  </thead>\n",
       "  <tbody>\n",
       "    <tr>\n",
       "      <th>2420</th>\n",
       "      <th>YDR293C</th>\n",
       "      <td>-4.769363</td>\n",
       "      <td>0.995428</td>\n",
       "      <td>-0.417997</td>\n",
       "      <td>-11.419328</td>\n",
       "      <td>1.367061</td>\n",
       "      <td>-0.390238</td>\n",
       "    </tr>\n",
       "    <tr>\n",
       "      <th>5535</th>\n",
       "      <th>YOR323C</th>\n",
       "      <td>-4.557205</td>\n",
       "      <td>-1.326500</td>\n",
       "      <td>0.508432</td>\n",
       "      <td>-10.910302</td>\n",
       "      <td>-0.013085</td>\n",
       "      <td>0.086083</td>\n",
       "    </tr>\n",
       "    <tr>\n",
       "      <th>4414</th>\n",
       "      <th>YMR119W</th>\n",
       "      <td>-4.188914</td>\n",
       "      <td>-0.091089</td>\n",
       "      <td>0.508432</td>\n",
       "      <td>-10.026670</td>\n",
       "      <td>0.721239</td>\n",
       "      <td>0.086083</td>\n",
       "    </tr>\n",
       "    <tr>\n",
       "      <th>4033</th>\n",
       "      <th>YLR342W</th>\n",
       "      <td>-4.029450</td>\n",
       "      <td>0.137754</td>\n",
       "      <td>-0.055176</td>\n",
       "      <td>-9.644074</td>\n",
       "      <td>0.857262</td>\n",
       "      <td>-0.203694</td>\n",
       "    </tr>\n",
       "    <tr>\n",
       "      <th>5794</th>\n",
       "      <th>YPL188W</th>\n",
       "      <td>-3.791036</td>\n",
       "      <td>-0.011814</td>\n",
       "      <td>0.508432</td>\n",
       "      <td>-9.072053</td>\n",
       "      <td>0.768359</td>\n",
       "      <td>0.086083</td>\n",
       "    </tr>\n",
       "    <tr>\n",
       "      <th>...</th>\n",
       "      <th>...</th>\n",
       "      <td>...</td>\n",
       "      <td>...</td>\n",
       "      <td>...</td>\n",
       "      <td>...</td>\n",
       "      <td>...</td>\n",
       "      <td>...</td>\n",
       "    </tr>\n",
       "    <tr>\n",
       "      <th>2021</th>\n",
       "      <th>YDL142C</th>\n",
       "      <td>2.859289</td>\n",
       "      <td>-1.326500</td>\n",
       "      <td>0.508432</td>\n",
       "      <td>6.883899</td>\n",
       "      <td>-0.013085</td>\n",
       "      <td>0.086083</td>\n",
       "    </tr>\n",
       "    <tr>\n",
       "      <th>6018</th>\n",
       "      <th>YPR132W</th>\n",
       "      <td>3.006722</td>\n",
       "      <td>-1.326500</td>\n",
       "      <td>0.508432</td>\n",
       "      <td>7.237630</td>\n",
       "      <td>-0.013085</td>\n",
       "      <td>0.086083</td>\n",
       "    </tr>\n",
       "    <tr>\n",
       "      <th>5625</th>\n",
       "      <th>YPL019C</th>\n",
       "      <td>3.110094</td>\n",
       "      <td>-1.326500</td>\n",
       "      <td>0.508432</td>\n",
       "      <td>7.485650</td>\n",
       "      <td>-0.013085</td>\n",
       "      <td>0.086083</td>\n",
       "    </tr>\n",
       "    <tr>\n",
       "      <th>2256</th>\n",
       "      <th>YDR129C</th>\n",
       "      <td>3.861001</td>\n",
       "      <td>-1.326500</td>\n",
       "      <td>0.508432</td>\n",
       "      <td>9.287281</td>\n",
       "      <td>-0.013085</td>\n",
       "      <td>0.086083</td>\n",
       "    </tr>\n",
       "    <tr>\n",
       "      <th>1227</th>\n",
       "      <th>YIL040W</th>\n",
       "      <td>5.255952</td>\n",
       "      <td>-1.326500</td>\n",
       "      <td>0.508432</td>\n",
       "      <td>12.634150</td>\n",
       "      <td>-0.013085</td>\n",
       "      <td>0.086083</td>\n",
       "    </tr>\n",
       "  </tbody>\n",
       "</table>\n",
       "<p>4767 rows × 6 columns</p>\n",
       "</div>"
      ],
      "text/plain": [
       "dataset_id          16686     16647     16687      16686     16647     16687\n",
       "data_type           value     value     value     valuez    valuez    valuez\n",
       "gene_id orf                                                                 \n",
       "2420    YDR293C -4.769363  0.995428 -0.417997 -11.419328  1.367061 -0.390238\n",
       "5535    YOR323C -4.557205 -1.326500  0.508432 -10.910302 -0.013085  0.086083\n",
       "4414    YMR119W -4.188914 -0.091089  0.508432 -10.026670  0.721239  0.086083\n",
       "4033    YLR342W -4.029450  0.137754 -0.055176  -9.644074  0.857262 -0.203694\n",
       "5794    YPL188W -3.791036 -0.011814  0.508432  -9.072053  0.768359  0.086083\n",
       "...                   ...       ...       ...        ...       ...       ...\n",
       "2021    YDL142C  2.859289 -1.326500  0.508432   6.883899 -0.013085  0.086083\n",
       "6018    YPR132W  3.006722 -1.326500  0.508432   7.237630 -0.013085  0.086083\n",
       "5625    YPL019C  3.110094 -1.326500  0.508432   7.485650 -0.013085  0.086083\n",
       "2256    YDR129C  3.861001 -1.326500  0.508432   9.287281 -0.013085  0.086083\n",
       "1227    YIL040W  5.255952 -1.326500  0.508432  12.634150 -0.013085  0.086083\n",
       "\n",
       "[4767 rows x 6 columns]"
      ]
     },
     "execution_count": 58,
     "metadata": {},
     "output_type": "execute_result"
    }
   ],
   "source": [
    "data_all.sort_values(by=(16686,'value'))"
   ]
  },
  {
   "cell_type": "markdown",
   "metadata": {},
   "source": [
    "# Print out"
   ]
  },
  {
   "cell_type": "code",
   "execution_count": 55,
   "metadata": {},
   "outputs": [],
   "source": [
    "for f in ['value','valuez']:\n",
    "    df = data_all.xs(f, level='data_type', axis=1).copy()\n",
    "    df.columns = datasets['name'].values\n",
    "    df = df.droplevel('gene_id', axis=0)\n",
    "    df.to_csv(paper_name + '_' + f + '.txt', sep='\\t')"
   ]
  },
  {
   "cell_type": "markdown",
   "metadata": {},
   "source": [
    "# Save to DB"
   ]
  },
  {
   "cell_type": "code",
   "execution_count": 59,
   "metadata": {},
   "outputs": [],
   "source": [
    "from IO.save_data_to_db3 import *"
   ]
  },
  {
   "cell_type": "code",
   "execution_count": 60,
   "metadata": {},
   "outputs": [
    {
     "name": "stderr",
     "output_type": "stream",
     "text": [
      "  0%|          | 0/3 [00:00<?, ?it/s]"
     ]
    },
    {
     "name": "stdout",
     "output_type": "stream",
     "text": [
      "Deleting all datasets for PMID 32994210...\n",
      "Inserting the new data...\n"
     ]
    },
    {
     "name": "stderr",
     "output_type": "stream",
     "text": [
      "100%|██████████| 3/3 [00:23<00:00,  7.80s/it]"
     ]
    },
    {
     "name": "stdout",
     "output_type": "stream",
     "text": [
      "Updating the data_modified_on field...\n"
     ]
    },
    {
     "name": "stderr",
     "output_type": "stream",
     "text": [
      "\n"
     ]
    }
   ],
   "source": [
    "save_data_to_db(data_all, paper_pmid)"
   ]
  },
  {
   "cell_type": "code",
   "execution_count": null,
   "metadata": {},
   "outputs": [],
   "source": []
  }
 ],
 "metadata": {
  "kernelspec": {
   "display_name": "yp-data",
   "language": "python",
   "name": "yp-data"
  },
  "language_info": {
   "codemirror_mode": {
    "name": "ipython",
    "version": 3
   },
   "file_extension": ".py",
   "mimetype": "text/x-python",
   "name": "python",
   "nbconvert_exporter": "python",
   "pygments_lexer": "ipython3",
   "version": "3.7.7"
  }
 },
 "nbformat": 4,
 "nbformat_minor": 4
}
