{
 "cells": [
  {
   "cell_type": "code",
   "execution_count": 1,
   "metadata": {},
   "outputs": [],
   "source": [
    "import numpy as np\n",
    "import pandas as pd\n",
    "\n",
    "import sys\n",
    "\n",
    "from os.path import expanduser\n",
    "sys.path.append(expanduser('~') + '/Lab/Utils/Python/')\n",
    "\n",
    "from Conversions.translate import *\n",
    "from Strings.is_a import *"
   ]
  },
  {
   "cell_type": "markdown",
   "metadata": {},
   "source": [
    "# Initial setup"
   ]
  },
  {
   "cell_type": "code",
   "execution_count": 2,
   "metadata": {},
   "outputs": [],
   "source": [
    "paper_pmid = 26267134\n",
    "paper_name = 'costa_texeira_2015' "
   ]
  },
  {
   "cell_type": "code",
   "execution_count": 3,
   "metadata": {},
   "outputs": [],
   "source": [
    "datasets = pd.read_csv('extras/YeastPhenome_' + str(paper_pmid) + '_datasets_list.txt', sep='\\t', header=None, names=['pmid', 'name'])"
   ]
  },
  {
   "cell_type": "code",
   "execution_count": 4,
   "metadata": {},
   "outputs": [],
   "source": [
    "datasets.set_index('pmid', inplace=True)"
   ]
  },
  {
   "cell_type": "markdown",
   "metadata": {},
   "source": [
    "# Load & process the data"
   ]
  },
  {
   "cell_type": "code",
   "execution_count": 14,
   "metadata": {},
   "outputs": [],
   "source": [
    "original_data = pd.read_excel('raw_data/journal.pone.0135110.s002.XLSX',sheet_name='Resistance determinants', skiprows=4, header=None)"
   ]
  },
  {
   "cell_type": "code",
   "execution_count": 15,
   "metadata": {},
   "outputs": [
    {
     "name": "stdout",
     "output_type": "stream",
     "text": [
      "Original data dimensions: 203 x 4\n"
     ]
    }
   ],
   "source": [
    "print('Original data dimensions: %d x %d' % (original_data.shape))"
   ]
  },
  {
   "cell_type": "code",
   "execution_count": 16,
   "metadata": {},
   "outputs": [
    {
     "data": {
      "text/html": [
       "<div>\n",
       "<style scoped>\n",
       "    .dataframe tbody tr th:only-of-type {\n",
       "        vertical-align: middle;\n",
       "    }\n",
       "\n",
       "    .dataframe tbody tr th {\n",
       "        vertical-align: top;\n",
       "    }\n",
       "\n",
       "    .dataframe thead th {\n",
       "        text-align: right;\n",
       "    }\n",
       "</style>\n",
       "<table border=\"1\" class=\"dataframe\">\n",
       "  <thead>\n",
       "    <tr style=\"text-align: right;\">\n",
       "      <th></th>\n",
       "      <th>0</th>\n",
       "      <th>1</th>\n",
       "      <th>2</th>\n",
       "      <th>3</th>\n",
       "    </tr>\n",
       "  </thead>\n",
       "  <tbody>\n",
       "    <tr>\n",
       "      <th>0</th>\n",
       "      <td>NaN</td>\n",
       "      <td>YLL043W</td>\n",
       "      <td>FPS1</td>\n",
       "      <td>Plasma membrane glycerol channel, member of th...</td>\n",
       "    </tr>\n",
       "    <tr>\n",
       "      <th>1</th>\n",
       "      <td>NaN</td>\n",
       "      <td>YGR240C</td>\n",
       "      <td>PFK1</td>\n",
       "      <td>Alpha subunit of heterooctameric phosphofructo...</td>\n",
       "    </tr>\n",
       "    <tr>\n",
       "      <th>2</th>\n",
       "      <td>NaN</td>\n",
       "      <td>YFL033C</td>\n",
       "      <td>RIM15</td>\n",
       "      <td>Glucose-repressible protein kinase involved in...</td>\n",
       "    </tr>\n",
       "    <tr>\n",
       "      <th>3</th>\n",
       "      <td>NaN</td>\n",
       "      <td>YGR192C</td>\n",
       "      <td>TDH3</td>\n",
       "      <td>Glyceraldehyde-3-phosphate dehydrogenase, isoz...</td>\n",
       "    </tr>\n",
       "    <tr>\n",
       "      <th>4</th>\n",
       "      <td>NaN</td>\n",
       "      <td>YMR261C</td>\n",
       "      <td>TPS3</td>\n",
       "      <td>Regulatory subunit of trehalose-6-phosphate sy...</td>\n",
       "    </tr>\n",
       "  </tbody>\n",
       "</table>\n",
       "</div>"
      ],
      "text/plain": [
       "    0        1      2                                                  3\n",
       "0 NaN  YLL043W   FPS1  Plasma membrane glycerol channel, member of th...\n",
       "1 NaN  YGR240C   PFK1  Alpha subunit of heterooctameric phosphofructo...\n",
       "2 NaN  YFL033C  RIM15  Glucose-repressible protein kinase involved in...\n",
       "3 NaN  YGR192C   TDH3  Glyceraldehyde-3-phosphate dehydrogenase, isoz...\n",
       "4 NaN  YMR261C   TPS3  Regulatory subunit of trehalose-6-phosphate sy..."
      ]
     },
     "execution_count": 16,
     "metadata": {},
     "output_type": "execute_result"
    }
   ],
   "source": [
    "original_data.head()"
   ]
  },
  {
   "cell_type": "code",
   "execution_count": 17,
   "metadata": {},
   "outputs": [],
   "source": [
    "original_data['orfs'] = original_data[1].astype(str)"
   ]
  },
  {
   "cell_type": "code",
   "execution_count": 18,
   "metadata": {},
   "outputs": [],
   "source": [
    "# Eliminate all white spaces & capitalize\n",
    "original_data['orfs'] = clean_orf(original_data['orfs'])"
   ]
  },
  {
   "cell_type": "code",
   "execution_count": 19,
   "metadata": {},
   "outputs": [],
   "source": [
    "# Translate to ORFs \n",
    "original_data['orfs'] = translate_sc(original_data['orfs'], to='orf')"
   ]
  },
  {
   "cell_type": "code",
   "execution_count": 20,
   "metadata": {},
   "outputs": [
    {
     "name": "stdout",
     "output_type": "stream",
     "text": [
      "              0                                                  1    2    3  \\\n",
      "index_input                                                                    \n",
      "7           NaN                          Oxidative phosphorylation  NaN  NaN   \n",
      "12          NaN              Mitochondrial biogenesis and function  NaN  NaN   \n",
      "15          NaN  Peroxisome biogenesis and fatty acid beta-oxid...  NaN  NaN   \n",
      "19          NaN  Nitrogen metabolism (ammonium, amino acid, pol...  NaN  NaN   \n",
      "37          NaN                               Phosphate metabolism  NaN  NaN   \n",
      "40          NaN             Ergosterol and phospholipid metabolism  NaN  NaN   \n",
      "49          NaN                Cell wall biogenesis and remodeling  NaN  NaN   \n",
      "58          NaN                                      Ion transport  NaN  NaN   \n",
      "64          NaN     Stress response (osmotic, oxidative, alkaline)  NaN  NaN   \n",
      "71          NaN                                         Cell cycle  NaN  NaN   \n",
      "87          NaN                                         DNA repair  NaN  NaN   \n",
      "93          NaN  Chromatine remodeling, telomere and histone me...  NaN  NaN   \n",
      "102         NaN                      Nuclear biogenesis and growth  NaN  NaN   \n",
      "106         NaN                       RNA metabolism/Transcription  NaN  NaN   \n",
      "124         NaN                                Ribosome biogenesis  NaN  NaN   \n",
      "138         NaN                    Translation and protein folding  NaN  NaN   \n",
      "147         NaN             Ubiquitination and protein degradation  NaN  NaN   \n",
      "152         NaN                           Intracellular traficking  NaN  NaN   \n",
      "160         NaN                   Unknown function or dubious ORFs  NaN  NaN   \n",
      "\n",
      "                                                          orfs  \n",
      "index_input                                                     \n",
      "7                                     OXIDATIVEPHOSPHORYLATION  \n",
      "12                          MITOCHONDRIALBIOGENESISANDFUNCTION  \n",
      "15              PEROXISOMEBIOGENESISANDFATTYACIDBETA-OXIDATION  \n",
      "19           NITROGENMETABOLISMAMMONIUMAMINOACIDPOLYAMINEAN...  \n",
      "37                                         PHOSPHATEMETABOLISM  \n",
      "40                         ERGOSTEROLANDPHOSPHOLIPIDMETABOLISM  \n",
      "49                             CELLWALLBIOGENESISANDREMODELING  \n",
      "58                                                IONTRANSPORT  \n",
      "64                      STRESSRESPONSEOSMOTICOXIDATIVEALKALINE  \n",
      "71                                                   CELLCYCLE  \n",
      "87                                                   DNAREPAIR  \n",
      "93            CHROMATINEREMODELINGTELOMEREANDHISTONEMETABOLISM  \n",
      "102                                 NUCLEARBIOGENESISANDGROWTH  \n",
      "106                                 RNAMETABOLISMTRANSCRIPTION  \n",
      "124                                         RIBOSOMEBIOGENESIS  \n",
      "138                               TRANSLATIONANDPROTEINFOLDING  \n",
      "147                        UBIQUITINATIONANDPROTEINDEGRADATION  \n",
      "152                                    INTRACELLULARTRAFICKING  \n",
      "160                               UNKNOWNFUNCTIONORDUBIOUSORFS  \n"
     ]
    }
   ],
   "source": [
    "# Make sure everything translated ok\n",
    "t = looks_like_orf(original_data['orfs'])\n",
    "print(original_data.loc[~t,])"
   ]
  },
  {
   "cell_type": "code",
   "execution_count": 21,
   "metadata": {},
   "outputs": [],
   "source": [
    "original_data = original_data.loc[t,]"
   ]
  },
  {
   "cell_type": "code",
   "execution_count": 49,
   "metadata": {},
   "outputs": [],
   "source": [
    "original_data['data'] = 1"
   ]
  },
  {
   "cell_type": "code",
   "execution_count": 50,
   "metadata": {},
   "outputs": [],
   "source": [
    "original_data.set_index('orfs', inplace=True)"
   ]
  },
  {
   "cell_type": "code",
   "execution_count": 59,
   "metadata": {},
   "outputs": [
    {
     "data": {
      "text/plain": [
       "(184, 5)"
      ]
     },
     "execution_count": 59,
     "metadata": {},
     "output_type": "execute_result"
    }
   ],
   "source": [
    "original_data.shape"
   ]
  },
  {
   "cell_type": "markdown",
   "metadata": {},
   "source": [
    "# Load & process tested strains"
   ]
  },
  {
   "cell_type": "code",
   "execution_count": 24,
   "metadata": {},
   "outputs": [],
   "source": [
    "tested1 = pd.read_excel('raw_data/BY4741-1stDelivery.xls', sheet_name='Tabelle1')\n",
    "tested2 = pd.read_excel('raw_data/BY4741-2nd Delivery.xls', sheet_name='chr11_1yes')\n",
    "tested3 = pd.read_excel('raw_data/BY4741-3rd Delivery.xls', sheet_name='Tabelle1')\n"
   ]
  },
  {
   "cell_type": "code",
   "execution_count": 37,
   "metadata": {},
   "outputs": [],
   "source": [
    "tested = pd.concat((tested1['ORF'], tested2['ORF'], tested3['orf']), axis=0)"
   ]
  },
  {
   "cell_type": "code",
   "execution_count": 38,
   "metadata": {},
   "outputs": [],
   "source": [
    "tested = clean_orf(tested)"
   ]
  },
  {
   "cell_type": "code",
   "execution_count": 39,
   "metadata": {},
   "outputs": [],
   "source": [
    "tested = translate_sc(tested, to='orf')"
   ]
  },
  {
   "cell_type": "code",
   "execution_count": 40,
   "metadata": {},
   "outputs": [],
   "source": [
    "tested = np.unique(tested)"
   ]
  },
  {
   "cell_type": "code",
   "execution_count": 42,
   "metadata": {},
   "outputs": [],
   "source": [
    "missing = [orf for orf in original_data['orfs'] if orf not in tested]"
   ]
  },
  {
   "cell_type": "code",
   "execution_count": 44,
   "metadata": {},
   "outputs": [],
   "source": [
    "tested = list(tested) + missing"
   ]
  },
  {
   "cell_type": "markdown",
   "metadata": {},
   "source": [
    "# Prepare the final dataset"
   ]
  },
  {
   "cell_type": "code",
   "execution_count": 46,
   "metadata": {},
   "outputs": [],
   "source": [
    "dataset_ids = [16462]"
   ]
  },
  {
   "cell_type": "code",
   "execution_count": 47,
   "metadata": {},
   "outputs": [],
   "source": [
    "datasets = datasets.reindex(index=dataset_ids)"
   ]
  },
  {
   "cell_type": "code",
   "execution_count": 48,
   "metadata": {},
   "outputs": [],
   "source": [
    "data = pd.DataFrame(index=tested, columns=datasets['name'].values, data=0)"
   ]
  },
  {
   "cell_type": "code",
   "execution_count": 53,
   "metadata": {},
   "outputs": [],
   "source": [
    "data.loc[original_data.index, datasets['name'].values[0]] = original_data['data']"
   ]
  },
  {
   "cell_type": "code",
   "execution_count": 54,
   "metadata": {},
   "outputs": [],
   "source": [
    "data = data.groupby(data.index).mean()"
   ]
  },
  {
   "cell_type": "code",
   "execution_count": 55,
   "metadata": {},
   "outputs": [],
   "source": [
    "# Create row index\n",
    "data.index.name='orf'"
   ]
  },
  {
   "cell_type": "code",
   "execution_count": 56,
   "metadata": {},
   "outputs": [
    {
     "name": "stdout",
     "output_type": "stream",
     "text": [
      "Final data dimensions: 4936 x 1\n"
     ]
    }
   ],
   "source": [
    "print('Final data dimensions: %d x %d' % (data.shape))"
   ]
  },
  {
   "cell_type": "markdown",
   "metadata": {},
   "source": [
    "# Print out"
   ]
  },
  {
   "cell_type": "code",
   "execution_count": 60,
   "metadata": {},
   "outputs": [],
   "source": [
    "data.to_csv(paper_name + '.txt', sep='\\t')"
   ]
  },
  {
   "cell_type": "markdown",
   "metadata": {},
   "source": [
    "# Save to DB"
   ]
  },
  {
   "cell_type": "code",
   "execution_count": 61,
   "metadata": {},
   "outputs": [],
   "source": [
    "from IO.save_data_to_db2 import *"
   ]
  },
  {
   "cell_type": "code",
   "execution_count": 62,
   "metadata": {},
   "outputs": [],
   "source": [
    "# Create column index\n",
    "lst = [datasets.index.values, datasets['name'].values]\n",
    "tuples = list(zip(*lst))\n",
    "idx = pd.MultiIndex.from_tuples(tuples, names=['dataset_id','dataset_name'])\n",
    "data.columns = idx"
   ]
  },
  {
   "cell_type": "code",
   "execution_count": 63,
   "metadata": {},
   "outputs": [],
   "source": [
    "save_data_to_db(data, paper_pmid)"
   ]
  },
  {
   "cell_type": "code",
   "execution_count": null,
   "metadata": {},
   "outputs": [],
   "source": []
  }
 ],
 "metadata": {
  "kernelspec": {
   "display_name": "yp-data",
   "language": "python",
   "name": "yp-data"
  },
  "language_info": {
   "codemirror_mode": {
    "name": "ipython",
    "version": 3
   },
   "file_extension": ".py",
   "mimetype": "text/x-python",
   "name": "python",
   "nbconvert_exporter": "python",
   "pygments_lexer": "ipython3",
   "version": "3.7.7"
  }
 },
 "nbformat": 4,
 "nbformat_minor": 4
}
