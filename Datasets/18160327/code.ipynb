{
 "cells": [
  {
   "cell_type": "code",
   "execution_count": 1,
   "metadata": {},
   "outputs": [],
   "source": [
    "%run ../yp_utils.py"
   ]
  },
  {
   "cell_type": "markdown",
   "metadata": {},
   "source": [
    "# Initial setup"
   ]
  },
  {
   "cell_type": "code",
   "execution_count": 2,
   "metadata": {},
   "outputs": [],
   "source": [
    "paper_pmid = 18160327\n",
    "paper_name = 'dilda_hogg_2008' "
   ]
  },
  {
   "cell_type": "code",
   "execution_count": 3,
   "metadata": {},
   "outputs": [],
   "source": [
    "datasets = pd.read_csv('extras/YeastPhenome_' + str(paper_pmid) + '_datasets_list.txt', sep='\\t', header=None, names=['dataset_id', 'name'])"
   ]
  },
  {
   "cell_type": "code",
   "execution_count": 4,
   "metadata": {},
   "outputs": [],
   "source": [
    "datasets.set_index('dataset_id', inplace=True)"
   ]
  },
  {
   "cell_type": "markdown",
   "metadata": {},
   "source": [
    "# Load & process the data"
   ]
  },
  {
   "cell_type": "code",
   "execution_count": 5,
   "metadata": {},
   "outputs": [],
   "source": [
    "sheets = ['Sensitivity','Resistance']"
   ]
  },
  {
   "cell_type": "code",
   "execution_count": 11,
   "metadata": {},
   "outputs": [
    {
     "name": "stdout",
     "output_type": "stream",
     "text": [
      "Original data dimensions: 384 x 3\n",
      "       0    1     2\n",
      "0  PAC10   60  18.3\n",
      "1  CNM67  204   5.4\n",
      "2   GIM5  300   3.7\n",
      "3   CIN1  370   3.0\n",
      "4   GIM4  372   3.0\n",
      "                 0    1    2   gene    orf\n",
      "index_input                               \n",
      "270          CWH33  807  1.4  CWH33  CWH33\n",
      "(344, 1)\n",
      "Original data dimensions: 73 x 3\n",
      "        0     1    2\n",
      "0   RPS4B  1950  1.5\n",
      "1  RPS19A  1808  1.4\n",
      "2  RPS18B  1805  1.4\n",
      "3   RPS0B  1743  1.3\n",
      "4  RPS24B  1625  1.2\n",
      "Empty DataFrame\n",
      "Columns: [0, 1, 2, gene, orf]\n",
      "Index: []\n",
      "(72, 1)\n"
     ]
    }
   ],
   "source": [
    "original_data_list = []\n",
    "for s in sheets:\n",
    "    original_data = pd.read_excel('raw_data/Tables12.xlsx', sheet_name=s, header=None)\n",
    "    print('Original data dimensions: %d x %d' % (original_data.shape))\n",
    "    print(original_data.head())\n",
    "    original_data['gene'] = original_data[0].astype(str)\n",
    "    original_data['gene'] = clean_genename(original_data['gene'])\n",
    "    original_data.loc[original_data['gene']=='CRS5','gene'] = 'YOR031W' \n",
    "    original_data['orf'] = translate_sc(original_data['gene'], to='orf')\n",
    "    t = looks_like_orf(original_data['orf'])\n",
    "    print(original_data.loc[~t,])\n",
    "    original_data = original_data.loc[t,]\n",
    "    original_data['data'] = pd.to_numeric(original_data[1], errors='coerce')\n",
    "    original_data.loc[original_data['data'].isnull()] = 4000\n",
    "    original_data.set_index('orf', inplace=True)\n",
    "    original_data = original_data[['data']].copy()\n",
    "    original_data = original_data.groupby(original_data.index).mean()\n",
    "    print(original_data.shape)\n",
    "    \n",
    "    original_data_list.append(original_data)"
   ]
  },
  {
   "cell_type": "code",
   "execution_count": 15,
   "metadata": {},
   "outputs": [],
   "source": [
    "original_data = pd.concat(original_data_list, axis=0)"
   ]
  },
  {
   "cell_type": "code",
   "execution_count": 16,
   "metadata": {},
   "outputs": [
    {
     "data": {
      "text/plain": [
       "(416, 1)"
      ]
     },
     "execution_count": 16,
     "metadata": {},
     "output_type": "execute_result"
    }
   ],
   "source": [
    "original_data.shape"
   ]
  },
  {
   "cell_type": "code",
   "execution_count": 18,
   "metadata": {},
   "outputs": [],
   "source": [
    "original_data['data'] = np.log(original_data['data'].values / 1100)"
   ]
  },
  {
   "cell_type": "code",
   "execution_count": 20,
   "metadata": {},
   "outputs": [],
   "source": [
    "original_data = original_data.groupby(original_data.index).mean()"
   ]
  },
  {
   "cell_type": "code",
   "execution_count": 21,
   "metadata": {},
   "outputs": [
    {
     "data": {
      "text/plain": [
       "(415, 1)"
      ]
     },
     "execution_count": 21,
     "metadata": {},
     "output_type": "execute_result"
    }
   ],
   "source": [
    "original_data.shape"
   ]
  },
  {
   "cell_type": "markdown",
   "metadata": {},
   "source": [
    "# Prepare the final dataset"
   ]
  },
  {
   "cell_type": "code",
   "execution_count": 22,
   "metadata": {},
   "outputs": [],
   "source": [
    "data = original_data.copy()"
   ]
  },
  {
   "cell_type": "code",
   "execution_count": 23,
   "metadata": {},
   "outputs": [],
   "source": [
    "dataset_ids = [1323]\n",
    "datasets = datasets.reindex(index=dataset_ids)"
   ]
  },
  {
   "cell_type": "code",
   "execution_count": 24,
   "metadata": {},
   "outputs": [],
   "source": [
    "lst = [datasets.index.values, ['value']*datasets.shape[0]]\n",
    "tuples = list(zip(*lst))\n",
    "idx = pd.MultiIndex.from_tuples(tuples, names=['dataset_id','data_type'])\n",
    "data.columns = idx"
   ]
  },
  {
   "cell_type": "code",
   "execution_count": 25,
   "metadata": {},
   "outputs": [
    {
     "data": {
      "text/html": [
       "<div>\n",
       "<style scoped>\n",
       "    .dataframe tbody tr th:only-of-type {\n",
       "        vertical-align: middle;\n",
       "    }\n",
       "\n",
       "    .dataframe tbody tr th {\n",
       "        vertical-align: top;\n",
       "    }\n",
       "\n",
       "    .dataframe thead tr th {\n",
       "        text-align: left;\n",
       "    }\n",
       "\n",
       "    .dataframe thead tr:last-of-type th {\n",
       "        text-align: right;\n",
       "    }\n",
       "</style>\n",
       "<table border=\"1\" class=\"dataframe\">\n",
       "  <thead>\n",
       "    <tr>\n",
       "      <th>dataset_id</th>\n",
       "      <th>1323</th>\n",
       "    </tr>\n",
       "    <tr>\n",
       "      <th>data_type</th>\n",
       "      <th>value</th>\n",
       "    </tr>\n",
       "    <tr>\n",
       "      <th>orf</th>\n",
       "      <th></th>\n",
       "    </tr>\n",
       "  </thead>\n",
       "  <tbody>\n",
       "    <tr>\n",
       "      <th>4000</th>\n",
       "      <td>1.290984</td>\n",
       "    </tr>\n",
       "    <tr>\n",
       "      <th>YAL011W</th>\n",
       "      <td>-1.203973</td>\n",
       "    </tr>\n",
       "    <tr>\n",
       "      <th>YAL012W</th>\n",
       "      <td>-1.804568</td>\n",
       "    </tr>\n",
       "    <tr>\n",
       "      <th>YAL013W</th>\n",
       "      <td>-0.749237</td>\n",
       "    </tr>\n",
       "    <tr>\n",
       "      <th>YAL021C</th>\n",
       "      <td>-0.839751</td>\n",
       "    </tr>\n",
       "  </tbody>\n",
       "</table>\n",
       "</div>"
      ],
      "text/plain": [
       "dataset_id      1323\n",
       "data_type      value\n",
       "orf                 \n",
       "4000        1.290984\n",
       "YAL011W    -1.203973\n",
       "YAL012W    -1.804568\n",
       "YAL013W    -0.749237\n",
       "YAL021C    -0.839751"
      ]
     },
     "execution_count": 25,
     "metadata": {},
     "output_type": "execute_result"
    }
   ],
   "source": [
    "data.head()"
   ]
  },
  {
   "cell_type": "markdown",
   "metadata": {},
   "source": [
    "## Subset to the genes currently in SGD"
   ]
  },
  {
   "cell_type": "code",
   "execution_count": 26,
   "metadata": {},
   "outputs": [
    {
     "name": "stdout",
     "output_type": "stream",
     "text": [
      "ORFs missing from SGD: 2\n"
     ]
    }
   ],
   "source": [
    "genes = pd.read_csv(path_to_genes, sep='\\t', index_col='id')\n",
    "genes = genes.reset_index().set_index('systematic_name')\n",
    "gene_ids = genes.reindex(index=data.index.values)['id'].values\n",
    "num_missing = np.sum(np.isnan(gene_ids))\n",
    "print('ORFs missing from SGD: %d' % num_missing)"
   ]
  },
  {
   "cell_type": "code",
   "execution_count": 27,
   "metadata": {},
   "outputs": [
    {
     "data": {
      "text/html": [
       "<div>\n",
       "<style scoped>\n",
       "    .dataframe tbody tr th:only-of-type {\n",
       "        vertical-align: middle;\n",
       "    }\n",
       "\n",
       "    .dataframe tbody tr th {\n",
       "        vertical-align: top;\n",
       "    }\n",
       "\n",
       "    .dataframe thead tr th {\n",
       "        text-align: left;\n",
       "    }\n",
       "\n",
       "    .dataframe thead tr:last-of-type th {\n",
       "        text-align: right;\n",
       "    }\n",
       "</style>\n",
       "<table border=\"1\" class=\"dataframe\">\n",
       "  <thead>\n",
       "    <tr>\n",
       "      <th></th>\n",
       "      <th>dataset_id</th>\n",
       "      <th>1323</th>\n",
       "    </tr>\n",
       "    <tr>\n",
       "      <th></th>\n",
       "      <th>data_type</th>\n",
       "      <th>value</th>\n",
       "    </tr>\n",
       "    <tr>\n",
       "      <th>gene_id</th>\n",
       "      <th>orf</th>\n",
       "      <th></th>\n",
       "    </tr>\n",
       "  </thead>\n",
       "  <tbody>\n",
       "    <tr>\n",
       "      <th>9</th>\n",
       "      <th>YAL011W</th>\n",
       "      <td>-1.203973</td>\n",
       "    </tr>\n",
       "    <tr>\n",
       "      <th>10</th>\n",
       "      <th>YAL012W</th>\n",
       "      <td>-1.804568</td>\n",
       "    </tr>\n",
       "    <tr>\n",
       "      <th>11</th>\n",
       "      <th>YAL013W</th>\n",
       "      <td>-0.749237</td>\n",
       "    </tr>\n",
       "    <tr>\n",
       "      <th>19</th>\n",
       "      <th>YAL021C</th>\n",
       "      <td>-0.839751</td>\n",
       "    </tr>\n",
       "    <tr>\n",
       "      <th>22</th>\n",
       "      <th>YAL024C</th>\n",
       "      <td>-1.084172</td>\n",
       "    </tr>\n",
       "  </tbody>\n",
       "</table>\n",
       "</div>"
      ],
      "text/plain": [
       "dataset_id           1323\n",
       "data_type           value\n",
       "gene_id orf              \n",
       "9       YAL011W -1.203973\n",
       "10      YAL012W -1.804568\n",
       "11      YAL013W -0.749237\n",
       "19      YAL021C -0.839751\n",
       "22      YAL024C -1.084172"
      ]
     },
     "execution_count": 27,
     "metadata": {},
     "output_type": "execute_result"
    }
   ],
   "source": [
    "data['gene_id'] = gene_ids\n",
    "data = data.loc[data['gene_id'].notnull()]\n",
    "data['gene_id'] = data['gene_id'].astype(int)\n",
    "data = data.reset_index().set_index(['gene_id','orf'])\n",
    "\n",
    "data.head()"
   ]
  },
  {
   "cell_type": "markdown",
   "metadata": {},
   "source": [
    "# Normalize"
   ]
  },
  {
   "cell_type": "code",
   "execution_count": 28,
   "metadata": {},
   "outputs": [],
   "source": [
    "data_norm = normalize_phenotypic_scores(data, has_tested=False)"
   ]
  },
  {
   "cell_type": "code",
   "execution_count": 29,
   "metadata": {},
   "outputs": [],
   "source": [
    "# Assign proper column names\n",
    "lst = [datasets.index.values, ['valuez']*datasets.shape[0]]\n",
    "tuples = list(zip(*lst))\n",
    "idx = pd.MultiIndex.from_tuples(tuples, names=['dataset_id','data_type'])\n",
    "data_norm.columns = idx"
   ]
  },
  {
   "cell_type": "code",
   "execution_count": 30,
   "metadata": {},
   "outputs": [
    {
     "data": {
      "text/html": [
       "<div>\n",
       "<style scoped>\n",
       "    .dataframe tbody tr th:only-of-type {\n",
       "        vertical-align: middle;\n",
       "    }\n",
       "\n",
       "    .dataframe tbody tr th {\n",
       "        vertical-align: top;\n",
       "    }\n",
       "\n",
       "    .dataframe thead tr th {\n",
       "        text-align: left;\n",
       "    }\n",
       "\n",
       "    .dataframe thead tr:last-of-type th {\n",
       "        text-align: right;\n",
       "    }\n",
       "</style>\n",
       "<table border=\"1\" class=\"dataframe\">\n",
       "  <thead>\n",
       "    <tr>\n",
       "      <th></th>\n",
       "      <th>dataset_id</th>\n",
       "      <th colspan=\"2\" halign=\"left\">1323</th>\n",
       "    </tr>\n",
       "    <tr>\n",
       "      <th></th>\n",
       "      <th>data_type</th>\n",
       "      <th>value</th>\n",
       "      <th>valuez</th>\n",
       "    </tr>\n",
       "    <tr>\n",
       "      <th>gene_id</th>\n",
       "      <th>orf</th>\n",
       "      <th></th>\n",
       "      <th></th>\n",
       "    </tr>\n",
       "  </thead>\n",
       "  <tbody>\n",
       "    <tr>\n",
       "      <th>9</th>\n",
       "      <th>YAL011W</th>\n",
       "      <td>-1.203973</td>\n",
       "      <td>-4.310529</td>\n",
       "    </tr>\n",
       "    <tr>\n",
       "      <th>10</th>\n",
       "      <th>YAL012W</th>\n",
       "      <td>-1.804568</td>\n",
       "      <td>-6.492379</td>\n",
       "    </tr>\n",
       "    <tr>\n",
       "      <th>11</th>\n",
       "      <th>YAL013W</th>\n",
       "      <td>-0.749237</td>\n",
       "      <td>-2.658559</td>\n",
       "    </tr>\n",
       "    <tr>\n",
       "      <th>19</th>\n",
       "      <th>YAL021C</th>\n",
       "      <td>-0.839751</td>\n",
       "      <td>-2.987379</td>\n",
       "    </tr>\n",
       "    <tr>\n",
       "      <th>22</th>\n",
       "      <th>YAL024C</th>\n",
       "      <td>-1.084172</td>\n",
       "      <td>-3.875314</td>\n",
       "    </tr>\n",
       "  </tbody>\n",
       "</table>\n",
       "</div>"
      ],
      "text/plain": [
       "dataset_id           1323          \n",
       "data_type           value    valuez\n",
       "gene_id orf                        \n",
       "9       YAL011W -1.203973 -4.310529\n",
       "10      YAL012W -1.804568 -6.492379\n",
       "11      YAL013W -0.749237 -2.658559\n",
       "19      YAL021C -0.839751 -2.987379\n",
       "22      YAL024C -1.084172 -3.875314"
      ]
     },
     "execution_count": 30,
     "metadata": {},
     "output_type": "execute_result"
    }
   ],
   "source": [
    "data_norm[data.isnull()] = np.nan\n",
    "data_all = data.join(data_norm)\n",
    "\n",
    "data_all.head()"
   ]
  },
  {
   "cell_type": "markdown",
   "metadata": {},
   "source": [
    "# Print out"
   ]
  },
  {
   "cell_type": "code",
   "execution_count": 31,
   "metadata": {},
   "outputs": [],
   "source": [
    "for f in ['value','valuez']:\n",
    "    df = data_all.xs(f, level='data_type', axis=1).copy()\n",
    "    df.columns = datasets['name'].values\n",
    "    df = df.droplevel('gene_id', axis=0)\n",
    "    df.to_csv(paper_name + '_' + f + '.txt', sep='\\t')"
   ]
  },
  {
   "cell_type": "markdown",
   "metadata": {},
   "source": [
    "# Save to DB"
   ]
  },
  {
   "cell_type": "code",
   "execution_count": 32,
   "metadata": {},
   "outputs": [],
   "source": [
    "from IO.save_data_to_db3 import *"
   ]
  },
  {
   "cell_type": "code",
   "execution_count": 33,
   "metadata": {},
   "outputs": [
    {
     "name": "stderr",
     "output_type": "stream",
     "text": [
      "  0%|          | 0/1 [00:00<?, ?it/s]"
     ]
    },
    {
     "name": "stdout",
     "output_type": "stream",
     "text": [
      "Deleting all datasets for PMID 18160327...\n",
      "Inserting the new data...\n"
     ]
    },
    {
     "name": "stderr",
     "output_type": "stream",
     "text": [
      "100%|██████████| 1/1 [00:00<00:00,  1.16it/s]"
     ]
    },
    {
     "name": "stdout",
     "output_type": "stream",
     "text": [
      "Updating the data_modified_on field...\n"
     ]
    },
    {
     "name": "stderr",
     "output_type": "stream",
     "text": [
      "\n"
     ]
    }
   ],
   "source": [
    "save_data_to_db(data_all, paper_pmid)"
   ]
  },
  {
   "cell_type": "code",
   "execution_count": null,
   "metadata": {},
   "outputs": [],
   "source": []
  }
 ],
 "metadata": {
  "kernelspec": {
   "display_name": "yp-data",
   "language": "python",
   "name": "yp-data"
  },
  "language_info": {
   "codemirror_mode": {
    "name": "ipython",
    "version": 3
   },
   "file_extension": ".py",
   "mimetype": "text/x-python",
   "name": "python",
   "nbconvert_exporter": "python",
   "pygments_lexer": "ipython3",
   "version": "3.7.7"
  }
 },
 "nbformat": 4,
 "nbformat_minor": 4
}
