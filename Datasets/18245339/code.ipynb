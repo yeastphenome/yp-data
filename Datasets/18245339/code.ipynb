{
 "cells": [
  {
   "cell_type": "code",
   "execution_count": 1,
   "metadata": {},
   "outputs": [],
   "source": [
    "%run ../yp_utils.py"
   ]
  },
  {
   "cell_type": "markdown",
   "metadata": {},
   "source": [
    "# Initial setup"
   ]
  },
  {
   "cell_type": "code",
   "execution_count": 2,
   "metadata": {},
   "outputs": [],
   "source": [
    "paper_pmid = 18245339\n",
    "paper_name = 'abe_minegishi_2008' "
   ]
  },
  {
   "cell_type": "code",
   "execution_count": 3,
   "metadata": {},
   "outputs": [],
   "source": [
    "datasets = pd.read_csv('extras/YeastPhenome_' + str(paper_pmid) + '_datasets_list.txt', sep='\\t', header=None, names=['dataset_id', 'name'])"
   ]
  },
  {
   "cell_type": "code",
   "execution_count": 4,
   "metadata": {},
   "outputs": [],
   "source": [
    "datasets.set_index('dataset_id', inplace=True)"
   ]
  },
  {
   "cell_type": "markdown",
   "metadata": {},
   "source": [
    "# Load & process the data"
   ]
  },
  {
   "cell_type": "code",
   "execution_count": 134,
   "metadata": {},
   "outputs": [],
   "source": [
    "original_data = pd.read_excel('raw_data/Table1_Abe_Genetics.xlsx', sheet_name='Table 1 (2)', skiprows=5)"
   ]
  },
  {
   "cell_type": "code",
   "execution_count": 135,
   "metadata": {},
   "outputs": [
    {
     "name": "stdout",
     "output_type": "stream",
     "text": [
      "Original data dimensions: 95 x 35\n"
     ]
    }
   ],
   "source": [
    "print('Original data dimensions: %d x %d' % (original_data.shape))"
   ]
  },
  {
   "cell_type": "code",
   "execution_count": 136,
   "metadata": {},
   "outputs": [
    {
     "data": {
      "text/html": [
       "<div>\n",
       "<style scoped>\n",
       "    .dataframe tbody tr th:only-of-type {\n",
       "        vertical-align: middle;\n",
       "    }\n",
       "\n",
       "    .dataframe tbody tr th {\n",
       "        vertical-align: top;\n",
       "    }\n",
       "\n",
       "    .dataframe thead th {\n",
       "        text-align: right;\n",
       "    }\n",
       "</style>\n",
       "<table border=\"1\" class=\"dataframe\">\n",
       "  <thead>\n",
       "    <tr style=\"text-align: right;\">\n",
       "      <th></th>\n",
       "      <th>Amino acid biosynthesis</th>\n",
       "      <th>Unnamed: 1</th>\n",
       "      <th>Unnamed: 2</th>\n",
       "      <th>Unnamed: 3</th>\n",
       "      <th>Unnamed: 4</th>\n",
       "      <th>Unnamed: 5</th>\n",
       "      <th>Unnamed: 6</th>\n",
       "      <th>Unnamed: 7</th>\n",
       "      <th>Unnamed: 8</th>\n",
       "      <th>Unnamed: 9</th>\n",
       "      <th>...</th>\n",
       "      <th>Unnamed: 25</th>\n",
       "      <th>Unnamed: 26</th>\n",
       "      <th>Unnamed: 27</th>\n",
       "      <th>Unnamed: 28</th>\n",
       "      <th>Unnamed: 29</th>\n",
       "      <th>Unnamed: 30</th>\n",
       "      <th>Unnamed: 31</th>\n",
       "      <th>Unnamed: 32</th>\n",
       "      <th>Unnamed: 33</th>\n",
       "      <th>Unnamed: 34</th>\n",
       "    </tr>\n",
       "  </thead>\n",
       "  <tbody>\n",
       "    <tr>\n",
       "      <th>0</th>\n",
       "      <td>NaN</td>\n",
       "      <td>TRP1</td>\n",
       "      <td>YDR007W</td>\n",
       "      <td>NaN</td>\n",
       "      <td>4.687151</td>\n",
       "      <td>±</td>\n",
       "      <td>0.560721</td>\n",
       "      <td>NaN</td>\n",
       "      <td>0.253382</td>\n",
       "      <td>±</td>\n",
       "      <td>...</td>\n",
       "      <td>11.919475</td>\n",
       "      <td>±</td>\n",
       "      <td>2.550579</td>\n",
       "      <td>NaN</td>\n",
       "      <td>●</td>\n",
       "      <td>22.582288</td>\n",
       "      <td>±</td>\n",
       "      <td>1.453790</td>\n",
       "      <td>NaN</td>\n",
       "      <td>Phosphoribosylanthranilate isomerase</td>\n",
       "    </tr>\n",
       "    <tr>\n",
       "      <th>1</th>\n",
       "      <td>NaN</td>\n",
       "      <td>TRP4</td>\n",
       "      <td>YDR354W</td>\n",
       "      <td>NaN</td>\n",
       "      <td>4.913743</td>\n",
       "      <td>±</td>\n",
       "      <td>0.198626</td>\n",
       "      <td>NaN</td>\n",
       "      <td>0.262297</td>\n",
       "      <td>±</td>\n",
       "      <td>...</td>\n",
       "      <td>11.938503</td>\n",
       "      <td>±</td>\n",
       "      <td>2.967158</td>\n",
       "      <td>NaN</td>\n",
       "      <td>●</td>\n",
       "      <td>20.879572</td>\n",
       "      <td>±</td>\n",
       "      <td>7.523058</td>\n",
       "      <td>NaN</td>\n",
       "      <td>Anthranilate phosphoribosyl transferase</td>\n",
       "    </tr>\n",
       "    <tr>\n",
       "      <th>2</th>\n",
       "      <td>NaN</td>\n",
       "      <td>THR4</td>\n",
       "      <td>YCR053W</td>\n",
       "      <td>NaN</td>\n",
       "      <td>4.227805</td>\n",
       "      <td>±</td>\n",
       "      <td>0.644339</td>\n",
       "      <td>NaN</td>\n",
       "      <td>0.235872</td>\n",
       "      <td>±</td>\n",
       "      <td>...</td>\n",
       "      <td>12.624784</td>\n",
       "      <td>±</td>\n",
       "      <td>2.836274</td>\n",
       "      <td>NaN</td>\n",
       "      <td>●</td>\n",
       "      <td>18.598417</td>\n",
       "      <td>±</td>\n",
       "      <td>7.172750</td>\n",
       "      <td>NaN</td>\n",
       "      <td>Threonine synthase</td>\n",
       "    </tr>\n",
       "    <tr>\n",
       "      <th>3</th>\n",
       "      <td>NaN</td>\n",
       "      <td>ARO2</td>\n",
       "      <td>YGL148W</td>\n",
       "      <td>NaN</td>\n",
       "      <td>4.974547</td>\n",
       "      <td>±</td>\n",
       "      <td>0.139738</td>\n",
       "      <td>NaN</td>\n",
       "      <td>0.291314</td>\n",
       "      <td>±</td>\n",
       "      <td>...</td>\n",
       "      <td>13.047383</td>\n",
       "      <td>±</td>\n",
       "      <td>1.039195</td>\n",
       "      <td>NaN</td>\n",
       "      <td>●</td>\n",
       "      <td>25.384984</td>\n",
       "      <td>±</td>\n",
       "      <td>6.011236</td>\n",
       "      <td>NaN</td>\n",
       "      <td>Bifunctional chorismate synthase and flavin re...</td>\n",
       "    </tr>\n",
       "    <tr>\n",
       "      <th>4</th>\n",
       "      <td>NaN</td>\n",
       "      <td>ARO1</td>\n",
       "      <td>YDR127W</td>\n",
       "      <td>NaN</td>\n",
       "      <td>4.702884</td>\n",
       "      <td>±</td>\n",
       "      <td>0.189422</td>\n",
       "      <td>NaN</td>\n",
       "      <td>0.296969</td>\n",
       "      <td>±</td>\n",
       "      <td>...</td>\n",
       "      <td>14.082465</td>\n",
       "      <td>±</td>\n",
       "      <td>2.021527</td>\n",
       "      <td>NaN</td>\n",
       "      <td>○</td>\n",
       "      <td>34.487548</td>\n",
       "      <td>±</td>\n",
       "      <td>3.807489</td>\n",
       "      <td>NaN</td>\n",
       "      <td>Arom protein, catalyzes steps 2 through 6 in t...</td>\n",
       "    </tr>\n",
       "  </tbody>\n",
       "</table>\n",
       "<p>5 rows × 35 columns</p>\n",
       "</div>"
      ],
      "text/plain": [
       "  Amino acid biosynthesis Unnamed: 1 Unnamed: 2  Unnamed: 3  Unnamed: 4  \\\n",
       "0                     NaN       TRP1    YDR007W         NaN    4.687151   \n",
       "1                     NaN       TRP4    YDR354W         NaN    4.913743   \n",
       "2                     NaN       THR4    YCR053W         NaN    4.227805   \n",
       "3                     NaN       ARO2    YGL148W         NaN    4.974547   \n",
       "4                     NaN       ARO1    YDR127W         NaN    4.702884   \n",
       "\n",
       "  Unnamed: 5  Unnamed: 6  Unnamed: 7  Unnamed: 8 Unnamed: 9  ...  Unnamed: 25  \\\n",
       "0          ±    0.560721         NaN    0.253382          ±  ...    11.919475   \n",
       "1          ±    0.198626         NaN    0.262297          ±  ...    11.938503   \n",
       "2          ±    0.644339         NaN    0.235872          ±  ...    12.624784   \n",
       "3          ±    0.139738         NaN    0.291314          ±  ...    13.047383   \n",
       "4          ±    0.189422         NaN    0.296969          ±  ...    14.082465   \n",
       "\n",
       "   Unnamed: 26  Unnamed: 27 Unnamed: 28  Unnamed: 29  Unnamed: 30  \\\n",
       "0            ±     2.550579         NaN            ●    22.582288   \n",
       "1            ±     2.967158         NaN            ●    20.879572   \n",
       "2            ±     2.836274         NaN            ●    18.598417   \n",
       "3            ±     1.039195         NaN            ●    25.384984   \n",
       "4            ±     2.021527         NaN            ○    34.487548   \n",
       "\n",
       "   Unnamed: 31 Unnamed: 32  Unnamed: 33  \\\n",
       "0            ±    1.453790          NaN   \n",
       "1            ±    7.523058          NaN   \n",
       "2            ±    7.172750          NaN   \n",
       "3            ±    6.011236          NaN   \n",
       "4            ±    3.807489          NaN   \n",
       "\n",
       "                                         Unnamed: 34  \n",
       "0               Phosphoribosylanthranilate isomerase  \n",
       "1            Anthranilate phosphoribosyl transferase  \n",
       "2                                 Threonine synthase  \n",
       "3  Bifunctional chorismate synthase and flavin re...  \n",
       "4  Arom protein, catalyzes steps 2 through 6 in t...  \n",
       "\n",
       "[5 rows x 35 columns]"
      ]
     },
     "execution_count": 136,
     "metadata": {},
     "output_type": "execute_result"
    }
   ],
   "source": [
    "original_data.head()"
   ]
  },
  {
   "cell_type": "code",
   "execution_count": 137,
   "metadata": {},
   "outputs": [],
   "source": [
    "original_data['orf'] = original_data['Unnamed: 2'].astype(str)"
   ]
  },
  {
   "cell_type": "code",
   "execution_count": 138,
   "metadata": {},
   "outputs": [],
   "source": [
    "# Eliminate all white spaces & capitalize\n",
    "original_data['orf'] = clean_orf(original_data['orf'])"
   ]
  },
  {
   "cell_type": "code",
   "execution_count": 139,
   "metadata": {},
   "outputs": [],
   "source": [
    "# Translate to ORFs \n",
    "original_data['orf'] = translate_sc(original_data['orf'], to='orf')"
   ]
  },
  {
   "cell_type": "code",
   "execution_count": 140,
   "metadata": {},
   "outputs": [
    {
     "name": "stdout",
     "output_type": "stream",
     "text": [
      "                      Amino acid biosynthesis  \\\n",
      "index_input                                     \n",
      "10                             Microautophagy   \n",
      "15                     Mitochondrial function   \n",
      "25           Actin organization/bud formation   \n",
      "32                       Membrane trafficking   \n",
      "44              Inositol phosphate metabolism   \n",
      "49              Transcriptio/mRNA degradation   \n",
      "64                                   Ribosome   \n",
      "68                      Chromatin maintenance   \n",
      "74                            Stress response   \n",
      "77                              Unknown genes   \n",
      "90                                        NaN   \n",
      "91                                        NaN   \n",
      "92                                        NaN   \n",
      "93                                        NaN   \n",
      "94                                        NaN   \n",
      "\n",
      "                                                    Unnamed: 1 Unnamed: 2  \\\n",
      "index_input                                                                 \n",
      "10                                                         NaN        NaN   \n",
      "15                                                         NaN        NaN   \n",
      "25                                                         NaN        NaN   \n",
      "32                                                         NaN        NaN   \n",
      "44                                                         NaN        NaN   \n",
      "49                                                         NaN        NaN   \n",
      "64                                                         NaN        NaN   \n",
      "68                                                         NaN        NaN   \n",
      "74                                                         NaN        NaN   \n",
      "77                                                         NaN        NaN   \n",
      "90                                                         NaN        NaN   \n",
      "91                                          ND, not determined        NaN   \n",
      "92           a) Closed circles represent genes ranked in th...        NaN   \n",
      "93           b) Relative growth is represented as percentag...        NaN   \n",
      "94           c) Values are represented as percentages of gr...        NaN   \n",
      "\n",
      "             Unnamed: 3  Unnamed: 4 Unnamed: 5  Unnamed: 6  Unnamed: 7  \\\n",
      "index_input                                                              \n",
      "10                  NaN         NaN        NaN         NaN         NaN   \n",
      "15                  NaN         NaN        NaN         NaN         NaN   \n",
      "25                  NaN         NaN        NaN         NaN         NaN   \n",
      "32                  NaN         NaN        NaN         NaN         NaN   \n",
      "44                  NaN         NaN        NaN         NaN         NaN   \n",
      "49                  NaN         NaN        NaN         NaN         NaN   \n",
      "64                  NaN         NaN        NaN         NaN         NaN   \n",
      "68                  NaN         NaN        NaN         NaN         NaN   \n",
      "74                  NaN         NaN        NaN         NaN         NaN   \n",
      "77                  NaN         NaN        NaN         NaN         NaN   \n",
      "90                  NaN         NaN        NaN         NaN         NaN   \n",
      "91                  NaN         NaN        NaN         NaN         NaN   \n",
      "92                  NaN         NaN        NaN         NaN         NaN   \n",
      "93                  NaN         NaN        NaN         NaN         NaN   \n",
      "94                  NaN         NaN        NaN         NaN         NaN   \n",
      "\n",
      "             Unnamed: 8 Unnamed: 9  ...  Unnamed: 26  Unnamed: 27  \\\n",
      "index_input                         ...                             \n",
      "10                  NaN        NaN  ...          NaN          NaN   \n",
      "15                  NaN        NaN  ...          NaN          NaN   \n",
      "25                  NaN        NaN  ...          NaN          NaN   \n",
      "32                  NaN        NaN  ...          NaN          NaN   \n",
      "44                  NaN        NaN  ...          NaN          NaN   \n",
      "49                  NaN        NaN  ...          NaN          NaN   \n",
      "64                  NaN        NaN  ...          NaN          NaN   \n",
      "68                  NaN        NaN  ...          NaN          NaN   \n",
      "74                  NaN        NaN  ...          NaN          NaN   \n",
      "77                  NaN        NaN  ...          NaN          NaN   \n",
      "90                  NaN        NaN  ...          NaN          NaN   \n",
      "91                  NaN        NaN  ...          NaN          NaN   \n",
      "92                  NaN        NaN  ...          NaN          NaN   \n",
      "93                  NaN        NaN  ...          NaN          NaN   \n",
      "94                  NaN        NaN  ...          NaN          NaN   \n",
      "\n",
      "             Unnamed: 28 Unnamed: 29  Unnamed: 30  Unnamed: 31  Unnamed: 32  \\\n",
      "index_input                                                                   \n",
      "10                   NaN         NaN          NaN          NaN          NaN   \n",
      "15                   NaN         NaN          NaN          NaN          NaN   \n",
      "25                   NaN         NaN          NaN          NaN          NaN   \n",
      "32                   NaN         NaN          NaN          NaN          NaN   \n",
      "44                   NaN         NaN          NaN          NaN          NaN   \n",
      "49                   NaN         NaN          NaN          NaN          NaN   \n",
      "64                   NaN         NaN          NaN          NaN          NaN   \n",
      "68                   NaN         NaN          NaN          NaN          NaN   \n",
      "74                   NaN         NaN          NaN          NaN          NaN   \n",
      "77                   NaN         NaN          NaN          NaN          NaN   \n",
      "90                   NaN         NaN          NaN          NaN          NaN   \n",
      "91                   NaN         NaN          NaN          NaN          NaN   \n",
      "92                   NaN         NaN          NaN          NaN          NaN   \n",
      "93                   NaN         NaN          NaN          NaN          NaN   \n",
      "94                   NaN         NaN          NaN          NaN          NaN   \n",
      "\n",
      "            Unnamed: 33  Unnamed: 34  orf  \n",
      "index_input                                \n",
      "10                  NaN          NaN  NAN  \n",
      "15                  NaN          NaN  NAN  \n",
      "25                  NaN          NaN  NAN  \n",
      "32                  NaN          NaN  NAN  \n",
      "44                  NaN          NaN  NAN  \n",
      "49                  NaN          NaN  NAN  \n",
      "64                  NaN          NaN  NAN  \n",
      "68                  NaN          NaN  NAN  \n",
      "74                  NaN          NaN  NAN  \n",
      "77                  NaN          NaN  NAN  \n",
      "90                  NaN          NaN  NAN  \n",
      "91                  NaN          NaN  NAN  \n",
      "92                  NaN          NaN  NAN  \n",
      "93                  NaN          NaN  NAN  \n",
      "94                  NaN          NaN  NAN  \n",
      "\n",
      "[15 rows x 36 columns]\n"
     ]
    }
   ],
   "source": [
    "# Make sure everything translated ok\n",
    "t = looks_like_orf(original_data['orf'])\n",
    "print(original_data.loc[~t,])"
   ]
  },
  {
   "cell_type": "code",
   "execution_count": 141,
   "metadata": {},
   "outputs": [],
   "source": [
    "original_data = original_data.loc[t,:]"
   ]
  },
  {
   "cell_type": "code",
   "execution_count": 142,
   "metadata": {},
   "outputs": [],
   "source": [
    "original_data.set_index('orf', inplace=True)"
   ]
  },
  {
   "cell_type": "code",
   "execution_count": 143,
   "metadata": {},
   "outputs": [],
   "source": [
    "# Data originally reported as percent relative to WT (100%). \n",
    "# So we're scaling back to fraction and shifting by 1, so that lower percentages correspond to the most negative values\n",
    "original_data = original_data.iloc[:,[25,30]]/100 - 1"
   ]
  },
  {
   "cell_type": "code",
   "execution_count": 144,
   "metadata": {},
   "outputs": [],
   "source": [
    "original_data = original_data.apply(pd.to_numeric, axis=1, errors='coerce')"
   ]
  },
  {
   "cell_type": "code",
   "execution_count": 145,
   "metadata": {},
   "outputs": [],
   "source": [
    "original_data = original_data.groupby(original_data.index).mean()"
   ]
  },
  {
   "cell_type": "code",
   "execution_count": 146,
   "metadata": {},
   "outputs": [
    {
     "data": {
      "text/plain": [
       "(80, 2)"
      ]
     },
     "execution_count": 146,
     "metadata": {},
     "output_type": "execute_result"
    }
   ],
   "source": [
    "original_data.shape"
   ]
  },
  {
   "cell_type": "markdown",
   "metadata": {},
   "source": [
    "# Load & process tested strains"
   ]
  },
  {
   "cell_type": "code",
   "execution_count": 147,
   "metadata": {},
   "outputs": [],
   "source": [
    "tested = pd.read_excel('raw_data/mat_alpha_041902.xlsx', sheet_name='mat_alpha_041902.txt', skiprows=1)"
   ]
  },
  {
   "cell_type": "code",
   "execution_count": 148,
   "metadata": {},
   "outputs": [
    {
     "data": {
      "text/html": [
       "<div>\n",
       "<style scoped>\n",
       "    .dataframe tbody tr th:only-of-type {\n",
       "        vertical-align: middle;\n",
       "    }\n",
       "\n",
       "    .dataframe tbody tr th {\n",
       "        vertical-align: top;\n",
       "    }\n",
       "\n",
       "    .dataframe thead th {\n",
       "        text-align: right;\n",
       "    }\n",
       "</style>\n",
       "<table border=\"1\" class=\"dataframe\">\n",
       "  <thead>\n",
       "    <tr style=\"text-align: right;\">\n",
       "      <th></th>\n",
       "      <th>Unnamed: 0</th>\n",
       "      <th>record no.</th>\n",
       "      <th>ORF name</th>\n",
       "      <th>strain</th>\n",
       "      <th>batch</th>\n",
       "      <th>re-array</th>\n",
       "      <th>re-array.1</th>\n",
       "      <th>re-array.2</th>\n",
       "      <th>RG notes</th>\n",
       "      <th>QC Notes</th>\n",
       "    </tr>\n",
       "  </thead>\n",
       "  <tbody>\n",
       "    <tr>\n",
       "      <th>0</th>\n",
       "      <td>NaN</td>\n",
       "      <td>NaN</td>\n",
       "      <td>NaN</td>\n",
       "      <td>NaN</td>\n",
       "      <td>NaN</td>\n",
       "      <td>NaN</td>\n",
       "      <td>NaN</td>\n",
       "      <td>NaN</td>\n",
       "      <td>NaN</td>\n",
       "      <td>NaN</td>\n",
       "    </tr>\n",
       "    <tr>\n",
       "      <th>1</th>\n",
       "      <td>1.0</td>\n",
       "      <td>10338.0</td>\n",
       "      <td>YAL068C</td>\n",
       "      <td>BY4739</td>\n",
       "      <td>01_1</td>\n",
       "      <td>101.0</td>\n",
       "      <td>A</td>\n",
       "      <td>2</td>\n",
       "      <td>NaN</td>\n",
       "      <td>NaN</td>\n",
       "    </tr>\n",
       "    <tr>\n",
       "      <th>2</th>\n",
       "      <td>2.0</td>\n",
       "      <td>10339.0</td>\n",
       "      <td>YAL067C</td>\n",
       "      <td>BY4739</td>\n",
       "      <td>01_1</td>\n",
       "      <td>101.0</td>\n",
       "      <td>A</td>\n",
       "      <td>3</td>\n",
       "      <td>NaN</td>\n",
       "      <td>NaN</td>\n",
       "    </tr>\n",
       "    <tr>\n",
       "      <th>3</th>\n",
       "      <td>3.0</td>\n",
       "      <td>10340.0</td>\n",
       "      <td>YAL066W</td>\n",
       "      <td>BY4739</td>\n",
       "      <td>01_1</td>\n",
       "      <td>101.0</td>\n",
       "      <td>A</td>\n",
       "      <td>4</td>\n",
       "      <td>NaN</td>\n",
       "      <td>NaN</td>\n",
       "    </tr>\n",
       "    <tr>\n",
       "      <th>4</th>\n",
       "      <td>4.0</td>\n",
       "      <td>10341.0</td>\n",
       "      <td>YAL065C</td>\n",
       "      <td>BY4739</td>\n",
       "      <td>01_1</td>\n",
       "      <td>101.0</td>\n",
       "      <td>A</td>\n",
       "      <td>5</td>\n",
       "      <td>NaN</td>\n",
       "      <td>NaN</td>\n",
       "    </tr>\n",
       "  </tbody>\n",
       "</table>\n",
       "</div>"
      ],
      "text/plain": [
       "   Unnamed: 0  record no. ORF name  strain batch  re-array re-array.1  \\\n",
       "0         NaN         NaN      NaN     NaN   NaN       NaN        NaN   \n",
       "1         1.0     10338.0  YAL068C  BY4739  01_1     101.0          A   \n",
       "2         2.0     10339.0  YAL067C  BY4739  01_1     101.0          A   \n",
       "3         3.0     10340.0  YAL066W  BY4739  01_1     101.0          A   \n",
       "4         4.0     10341.0  YAL065C  BY4739  01_1     101.0          A   \n",
       "\n",
       "  re-array.2 RG notes QC Notes  \n",
       "0        NaN      NaN      NaN  \n",
       "1          2      NaN      NaN  \n",
       "2          3      NaN      NaN  \n",
       "3          4      NaN      NaN  \n",
       "4          5      NaN      NaN  "
      ]
     },
     "execution_count": 148,
     "metadata": {},
     "output_type": "execute_result"
    }
   ],
   "source": [
    "tested.head()"
   ]
  },
  {
   "cell_type": "code",
   "execution_count": 149,
   "metadata": {},
   "outputs": [],
   "source": [
    "tested['orf'] = tested['ORF name'].astype(str)"
   ]
  },
  {
   "cell_type": "code",
   "execution_count": 150,
   "metadata": {},
   "outputs": [],
   "source": [
    "tested['orf'] = clean_orf(tested['orf'])"
   ]
  },
  {
   "cell_type": "code",
   "execution_count": 151,
   "metadata": {},
   "outputs": [],
   "source": [
    "tested['orf'] = translate_sc(tested['orf'], to='orf')"
   ]
  },
  {
   "cell_type": "code",
   "execution_count": 152,
   "metadata": {},
   "outputs": [
    {
     "name": "stdout",
     "output_type": "stream",
     "text": [
      "             Unnamed: 0  record no. ORF name strain batch  re-array  \\\n",
      "index_input                                                           \n",
      "0                   NaN         NaN      NaN    NaN   NaN       NaN   \n",
      "4668             4668.0         NaN      NaN    NaN   NaN       NaN   \n",
      "4829             4829.0         NaN      NaN    NaN   NaN       NaN   \n",
      "\n",
      "            re-array.1 re-array.2 RG notes QC Notes  orf  \n",
      "index_input                                               \n",
      "0                  NaN        NaN      NaN      NaN  NAN  \n",
      "4668               NaN    end 150      NaN      NaN  NAN  \n",
      "4829               NaN    end 171      NaN      NaN  NAN  \n"
     ]
    }
   ],
   "source": [
    "# Make sure everything translated ok\n",
    "t = looks_like_orf(tested['orf'])\n",
    "print(tested.loc[~t,])"
   ]
  },
  {
   "cell_type": "code",
   "execution_count": 153,
   "metadata": {},
   "outputs": [],
   "source": [
    "tested = tested.loc[t,:]"
   ]
  },
  {
   "cell_type": "code",
   "execution_count": 154,
   "metadata": {},
   "outputs": [],
   "source": [
    "tested_orfs = tested['orf'].unique()"
   ]
  },
  {
   "cell_type": "code",
   "execution_count": 155,
   "metadata": {},
   "outputs": [
    {
     "data": {
      "text/plain": [
       "[]"
      ]
     },
     "execution_count": 155,
     "metadata": {},
     "output_type": "execute_result"
    }
   ],
   "source": [
    "missing = [orf for orf in original_data.index.values if orf not in tested_orfs]\n",
    "missing"
   ]
  },
  {
   "cell_type": "code",
   "execution_count": 156,
   "metadata": {},
   "outputs": [],
   "source": [
    "original_data = original_data.reindex(index=tested_orfs, fill_value=0)"
   ]
  },
  {
   "cell_type": "markdown",
   "metadata": {},
   "source": [
    "# Prepare the final dataset"
   ]
  },
  {
   "cell_type": "code",
   "execution_count": 157,
   "metadata": {},
   "outputs": [],
   "source": [
    "data = original_data.copy()"
   ]
  },
  {
   "cell_type": "code",
   "execution_count": 158,
   "metadata": {},
   "outputs": [],
   "source": [
    "dataset_ids = [537,538]\n",
    "datasets = datasets.reindex(index=dataset_ids)"
   ]
  },
  {
   "cell_type": "code",
   "execution_count": 159,
   "metadata": {},
   "outputs": [],
   "source": [
    "lst = [datasets.index.values, ['value']*datasets.shape[0]]\n",
    "tuples = list(zip(*lst))\n",
    "idx = pd.MultiIndex.from_tuples(tuples, names=['dataset_id','data_type'])\n",
    "data.columns = idx"
   ]
  },
  {
   "cell_type": "code",
   "execution_count": 160,
   "metadata": {},
   "outputs": [
    {
     "data": {
      "text/html": [
       "<div>\n",
       "<style scoped>\n",
       "    .dataframe tbody tr th:only-of-type {\n",
       "        vertical-align: middle;\n",
       "    }\n",
       "\n",
       "    .dataframe tbody tr th {\n",
       "        vertical-align: top;\n",
       "    }\n",
       "\n",
       "    .dataframe thead tr th {\n",
       "        text-align: left;\n",
       "    }\n",
       "\n",
       "    .dataframe thead tr:last-of-type th {\n",
       "        text-align: right;\n",
       "    }\n",
       "</style>\n",
       "<table border=\"1\" class=\"dataframe\">\n",
       "  <thead>\n",
       "    <tr>\n",
       "      <th>dataset_id</th>\n",
       "      <th>537</th>\n",
       "      <th>538</th>\n",
       "    </tr>\n",
       "    <tr>\n",
       "      <th>data_type</th>\n",
       "      <th>value</th>\n",
       "      <th>value</th>\n",
       "    </tr>\n",
       "    <tr>\n",
       "      <th>orf</th>\n",
       "      <th></th>\n",
       "      <th></th>\n",
       "    </tr>\n",
       "  </thead>\n",
       "  <tbody>\n",
       "    <tr>\n",
       "      <th>YAL068C</th>\n",
       "      <td>0.0</td>\n",
       "      <td>0.0</td>\n",
       "    </tr>\n",
       "    <tr>\n",
       "      <th>YAL067C</th>\n",
       "      <td>0.0</td>\n",
       "      <td>0.0</td>\n",
       "    </tr>\n",
       "    <tr>\n",
       "      <th>YAL066W</th>\n",
       "      <td>0.0</td>\n",
       "      <td>0.0</td>\n",
       "    </tr>\n",
       "    <tr>\n",
       "      <th>YAL065C</th>\n",
       "      <td>0.0</td>\n",
       "      <td>0.0</td>\n",
       "    </tr>\n",
       "    <tr>\n",
       "      <th>YAL062W</th>\n",
       "      <td>0.0</td>\n",
       "      <td>0.0</td>\n",
       "    </tr>\n",
       "  </tbody>\n",
       "</table>\n",
       "</div>"
      ],
      "text/plain": [
       "dataset_id   537   538\n",
       "data_type  value value\n",
       "orf                   \n",
       "YAL068C      0.0   0.0\n",
       "YAL067C      0.0   0.0\n",
       "YAL066W      0.0   0.0\n",
       "YAL065C      0.0   0.0\n",
       "YAL062W      0.0   0.0"
      ]
     },
     "execution_count": 160,
     "metadata": {},
     "output_type": "execute_result"
    }
   ],
   "source": [
    "data.head()"
   ]
  },
  {
   "cell_type": "markdown",
   "metadata": {},
   "source": [
    "## Subset to the genes currently in SGD"
   ]
  },
  {
   "cell_type": "code",
   "execution_count": 161,
   "metadata": {},
   "outputs": [
    {
     "name": "stdout",
     "output_type": "stream",
     "text": [
      "ORFs missing from SGD: 26\n"
     ]
    }
   ],
   "source": [
    "genes = pd.read_csv(path_to_genes, sep='\\t', index_col='id')\n",
    "genes = genes.reset_index().set_index('systematic_name')\n",
    "gene_ids = genes.reindex(index=data.index.values)['id'].values\n",
    "num_missing = np.sum(np.isnan(gene_ids))\n",
    "print('ORFs missing from SGD: %d' % num_missing)"
   ]
  },
  {
   "cell_type": "code",
   "execution_count": 162,
   "metadata": {},
   "outputs": [
    {
     "data": {
      "text/html": [
       "<div>\n",
       "<style scoped>\n",
       "    .dataframe tbody tr th:only-of-type {\n",
       "        vertical-align: middle;\n",
       "    }\n",
       "\n",
       "    .dataframe tbody tr th {\n",
       "        vertical-align: top;\n",
       "    }\n",
       "\n",
       "    .dataframe thead tr th {\n",
       "        text-align: left;\n",
       "    }\n",
       "\n",
       "    .dataframe thead tr:last-of-type th {\n",
       "        text-align: right;\n",
       "    }\n",
       "</style>\n",
       "<table border=\"1\" class=\"dataframe\">\n",
       "  <thead>\n",
       "    <tr>\n",
       "      <th></th>\n",
       "      <th>dataset_id</th>\n",
       "      <th>537</th>\n",
       "      <th>538</th>\n",
       "    </tr>\n",
       "    <tr>\n",
       "      <th></th>\n",
       "      <th>data_type</th>\n",
       "      <th>value</th>\n",
       "      <th>value</th>\n",
       "    </tr>\n",
       "    <tr>\n",
       "      <th>gene_id</th>\n",
       "      <th>orf</th>\n",
       "      <th></th>\n",
       "      <th></th>\n",
       "    </tr>\n",
       "  </thead>\n",
       "  <tbody>\n",
       "    <tr>\n",
       "      <th>1869</th>\n",
       "      <th>YAL068C</th>\n",
       "      <td>0.0</td>\n",
       "      <td>0.0</td>\n",
       "    </tr>\n",
       "    <tr>\n",
       "      <th>61</th>\n",
       "      <th>YAL067C</th>\n",
       "      <td>0.0</td>\n",
       "      <td>0.0</td>\n",
       "    </tr>\n",
       "    <tr>\n",
       "      <th>60</th>\n",
       "      <th>YAL066W</th>\n",
       "      <td>0.0</td>\n",
       "      <td>0.0</td>\n",
       "    </tr>\n",
       "    <tr>\n",
       "      <th>1727</th>\n",
       "      <th>YAL065C</th>\n",
       "      <td>0.0</td>\n",
       "      <td>0.0</td>\n",
       "    </tr>\n",
       "    <tr>\n",
       "      <th>57</th>\n",
       "      <th>YAL062W</th>\n",
       "      <td>0.0</td>\n",
       "      <td>0.0</td>\n",
       "    </tr>\n",
       "  </tbody>\n",
       "</table>\n",
       "</div>"
      ],
      "text/plain": [
       "dataset_id        537   538\n",
       "data_type       value value\n",
       "gene_id orf                \n",
       "1869    YAL068C   0.0   0.0\n",
       "61      YAL067C   0.0   0.0\n",
       "60      YAL066W   0.0   0.0\n",
       "1727    YAL065C   0.0   0.0\n",
       "57      YAL062W   0.0   0.0"
      ]
     },
     "execution_count": 162,
     "metadata": {},
     "output_type": "execute_result"
    }
   ],
   "source": [
    "data['gene_id'] = gene_ids\n",
    "data = data.loc[data['gene_id'].notnull()]\n",
    "data['gene_id'] = data['gene_id'].astype(int)\n",
    "data = data.reset_index().set_index(['gene_id','orf'])\n",
    "\n",
    "data.head()"
   ]
  },
  {
   "cell_type": "markdown",
   "metadata": {},
   "source": [
    "# Normalize"
   ]
  },
  {
   "cell_type": "code",
   "execution_count": 163,
   "metadata": {},
   "outputs": [],
   "source": [
    "data_norm = normalize_phenotypic_scores(data, has_tested=True)"
   ]
  },
  {
   "cell_type": "code",
   "execution_count": 164,
   "metadata": {},
   "outputs": [],
   "source": [
    "# Assign proper column names\n",
    "lst = [datasets.index.values, ['valuez']*datasets.shape[0]]\n",
    "tuples = list(zip(*lst))\n",
    "idx = pd.MultiIndex.from_tuples(tuples, names=['dataset_id','data_type'])\n",
    "data_norm.columns = idx"
   ]
  },
  {
   "cell_type": "code",
   "execution_count": 165,
   "metadata": {},
   "outputs": [
    {
     "data": {
      "text/html": [
       "<div>\n",
       "<style scoped>\n",
       "    .dataframe tbody tr th:only-of-type {\n",
       "        vertical-align: middle;\n",
       "    }\n",
       "\n",
       "    .dataframe tbody tr th {\n",
       "        vertical-align: top;\n",
       "    }\n",
       "\n",
       "    .dataframe thead tr th {\n",
       "        text-align: left;\n",
       "    }\n",
       "\n",
       "    .dataframe thead tr:last-of-type th {\n",
       "        text-align: right;\n",
       "    }\n",
       "</style>\n",
       "<table border=\"1\" class=\"dataframe\">\n",
       "  <thead>\n",
       "    <tr>\n",
       "      <th></th>\n",
       "      <th>dataset_id</th>\n",
       "      <th>537</th>\n",
       "      <th>538</th>\n",
       "      <th>537</th>\n",
       "      <th>538</th>\n",
       "    </tr>\n",
       "    <tr>\n",
       "      <th></th>\n",
       "      <th>data_type</th>\n",
       "      <th>value</th>\n",
       "      <th>value</th>\n",
       "      <th>valuez</th>\n",
       "      <th>valuez</th>\n",
       "    </tr>\n",
       "    <tr>\n",
       "      <th>gene_id</th>\n",
       "      <th>orf</th>\n",
       "      <th></th>\n",
       "      <th></th>\n",
       "      <th></th>\n",
       "      <th></th>\n",
       "    </tr>\n",
       "  </thead>\n",
       "  <tbody>\n",
       "    <tr>\n",
       "      <th>1869</th>\n",
       "      <th>YAL068C</th>\n",
       "      <td>0.0</td>\n",
       "      <td>0.0</td>\n",
       "      <td>0.009038</td>\n",
       "      <td>0.0</td>\n",
       "    </tr>\n",
       "    <tr>\n",
       "      <th>61</th>\n",
       "      <th>YAL067C</th>\n",
       "      <td>0.0</td>\n",
       "      <td>0.0</td>\n",
       "      <td>0.009038</td>\n",
       "      <td>0.0</td>\n",
       "    </tr>\n",
       "    <tr>\n",
       "      <th>60</th>\n",
       "      <th>YAL066W</th>\n",
       "      <td>0.0</td>\n",
       "      <td>0.0</td>\n",
       "      <td>0.009038</td>\n",
       "      <td>0.0</td>\n",
       "    </tr>\n",
       "    <tr>\n",
       "      <th>1727</th>\n",
       "      <th>YAL065C</th>\n",
       "      <td>0.0</td>\n",
       "      <td>0.0</td>\n",
       "      <td>0.009038</td>\n",
       "      <td>0.0</td>\n",
       "    </tr>\n",
       "    <tr>\n",
       "      <th>57</th>\n",
       "      <th>YAL062W</th>\n",
       "      <td>0.0</td>\n",
       "      <td>0.0</td>\n",
       "      <td>0.009038</td>\n",
       "      <td>0.0</td>\n",
       "    </tr>\n",
       "  </tbody>\n",
       "</table>\n",
       "</div>"
      ],
      "text/plain": [
       "dataset_id        537   538       537    538\n",
       "data_type       value value    valuez valuez\n",
       "gene_id orf                                 \n",
       "1869    YAL068C   0.0   0.0  0.009038    0.0\n",
       "61      YAL067C   0.0   0.0  0.009038    0.0\n",
       "60      YAL066W   0.0   0.0  0.009038    0.0\n",
       "1727    YAL065C   0.0   0.0  0.009038    0.0\n",
       "57      YAL062W   0.0   0.0  0.009038    0.0"
      ]
     },
     "execution_count": 165,
     "metadata": {},
     "output_type": "execute_result"
    }
   ],
   "source": [
    "data_norm[data.isnull()] = np.nan\n",
    "data_all = data.join(data_norm)\n",
    "\n",
    "data_all.head()"
   ]
  },
  {
   "cell_type": "markdown",
   "metadata": {},
   "source": [
    "# Print out"
   ]
  },
  {
   "cell_type": "code",
   "execution_count": 166,
   "metadata": {},
   "outputs": [],
   "source": [
    "for f in ['value','valuez']:\n",
    "    df = data_all.xs(f, level='data_type', axis=1).copy()\n",
    "    df.columns = datasets['name'].values\n",
    "    df = df.droplevel('gene_id', axis=0)\n",
    "    df.to_csv(paper_name + '_' + f + '.txt', sep='\\t')"
   ]
  },
  {
   "cell_type": "markdown",
   "metadata": {},
   "source": [
    "# Save to DB"
   ]
  },
  {
   "cell_type": "code",
   "execution_count": 167,
   "metadata": {},
   "outputs": [],
   "source": [
    "from IO.save_data_to_db3 import *"
   ]
  },
  {
   "cell_type": "code",
   "execution_count": 168,
   "metadata": {},
   "outputs": [
    {
     "name": "stderr",
     "output_type": "stream",
     "text": [
      "  0%|          | 0/2 [00:00<?, ?it/s]"
     ]
    },
    {
     "name": "stdout",
     "output_type": "stream",
     "text": [
      "Deleting all datasets for PMID 18245339...\n",
      "Inserting the new data...\n"
     ]
    },
    {
     "name": "stderr",
     "output_type": "stream",
     "text": [
      "100%|██████████| 2/2 [00:17<00:00,  8.86s/it]"
     ]
    },
    {
     "name": "stdout",
     "output_type": "stream",
     "text": [
      "Updating the data_modified_on field...\n"
     ]
    },
    {
     "name": "stderr",
     "output_type": "stream",
     "text": [
      "\n"
     ]
    }
   ],
   "source": [
    "save_data_to_db(data_all, paper_pmid)"
   ]
  },
  {
   "cell_type": "code",
   "execution_count": null,
   "metadata": {},
   "outputs": [],
   "source": []
  }
 ],
 "metadata": {
  "kernelspec": {
   "display_name": "yp-data",
   "language": "python",
   "name": "yp-data"
  },
  "language_info": {
   "codemirror_mode": {
    "name": "ipython",
    "version": 3
   },
   "file_extension": ".py",
   "mimetype": "text/x-python",
   "name": "python",
   "nbconvert_exporter": "python",
   "pygments_lexer": "ipython3",
   "version": "3.7.7"
  }
 },
 "nbformat": 4,
 "nbformat_minor": 4
}
