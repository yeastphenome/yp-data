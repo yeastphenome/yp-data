{
 "cells": [
  {
   "cell_type": "code",
   "execution_count": 10,
   "metadata": {},
   "outputs": [],
   "source": [
    "%run ../../Utils/yp_utils.py\n",
    "\n",
    "from functools import reduce"
   ]
  },
  {
   "cell_type": "markdown",
   "metadata": {},
   "source": [
    "# Initial setup"
   ]
  },
  {
   "cell_type": "code",
   "execution_count": 2,
   "metadata": {},
   "outputs": [],
   "source": [
    "paper_pmid = 28472365\n",
    "paper_name = 'maclean_zhang_2017' "
   ]
  },
  {
   "cell_type": "code",
   "execution_count": 3,
   "metadata": {},
   "outputs": [],
   "source": [
    "datasets = pd.read_csv('extras/YeastPhenome_' + str(paper_pmid) + '_datasets_list.txt', sep='\\t', header=None, names=['dataset_id', 'name'])"
   ]
  },
  {
   "cell_type": "code",
   "execution_count": 4,
   "metadata": {},
   "outputs": [],
   "source": [
    "datasets.set_index('dataset_id', inplace=True)"
   ]
  },
  {
   "cell_type": "markdown",
   "metadata": {},
   "source": [
    "# Load & process the data"
   ]
  },
  {
   "cell_type": "code",
   "execution_count": 5,
   "metadata": {},
   "outputs": [],
   "source": [
    "sheet_names = ['High Temp. (40C)','EtOH','H2O2','NaCl','CoCL2','SO']"
   ]
  },
  {
   "cell_type": "code",
   "execution_count": 9,
   "metadata": {},
   "outputs": [
    {
     "name": "stdout",
     "output_type": "stream",
     "text": [
      "Original data dimensions: 4520 x 10\n",
      "Empty DataFrame\n",
      "Columns: [Strain, Fitness relative to HO in YPD, Fitness relative to HO in 40C, Ratio (40C/YPD), strain/HO read ratio in YPD1, strain/HO read ratio in YPD2, strain/HO ratio in 40C, SD, P-value, Q-value, orf]\n",
      "Index: []\n",
      "(4481, 1)\n",
      "Original data dimensions: 4520 x 10\n",
      "Empty DataFrame\n",
      "Columns: [Strain, Fitness relative to HO in YPD, Fitness relative to HO in EtOH, Ratio (EtOH/YPD), strain/HO read ratio in YPD1, strain/HO read ratio in YPD2, strain/HO read ratio in EtOH, SD, P-value, Q-value, orf]\n",
      "Index: []\n",
      "(4481, 1)\n",
      "Original data dimensions: 4520 x 10\n",
      "Empty DataFrame\n",
      "Columns: [Strain, Fitness relative to HO in YPD, Fitness relative to HO in H2O2, Ratio (H2O2/YPD), strain/HO read ratio in YPD1, strain/HO read ratio in YPD2, strain/HO read ratio in H2O2, SD, P-value, Q-value, orf]\n",
      "Index: []\n",
      "(4481, 1)\n",
      "Original data dimensions: 4520 x 10\n",
      "Empty DataFrame\n",
      "Columns: [Strain, Fitness relative to HO in YPD, Fitness relative to HO in NaCl, Ratio (NaCl/YPD), strain/HO read ratio in YPD1, strain/HO read ratio in YPD2, strain/HO read ratio in NaCl, SD, P-value, Q-value, orf]\n",
      "Index: []\n",
      "(4481, 1)\n",
      "Original data dimensions: 4520 x 10\n",
      "Empty DataFrame\n",
      "Columns: [Strain, Fitnessrelative to HO in YPD, Fitness relative to HO in CoCl2, Ratio (CoCL2/YPD), strain/HO read ratio in YPD1, strain/HO read ratio in YPD2, strain/HO read ratio in CoCL2, SD, P-value, Q-value, orf]\n",
      "Index: []\n",
      "(4481, 1)\n",
      "Original data dimensions: 4520 x 10\n",
      "Empty DataFrame\n",
      "Columns: [Strain, Fitness relative to HO in YPD, Fitness relative to HO in CoCl2, Ratio (SO/YPD), strain/HO read ratio in YPD1, strain/HO read ratio in YPD2, strain/HO read ratio in SO, SD, P-value, Q-value, orf]\n",
      "Index: []\n",
      "(4481, 1)\n"
     ]
    }
   ],
   "source": [
    "original_data_list = []\n",
    "for s in sheet_names:\n",
    "    original_data = pd.read_excel('raw_data/supplementary_data_6.xlsx', sheet_name=s)\n",
    "    print('Original data dimensions: %d x %d' % (original_data.shape))\n",
    "    original_data['orf'] = original_data['Strain'].astype(str)\n",
    "    \n",
    "    # Remove underscore annotations\n",
    "    original_data['orf'] = original_data['orf'].apply(lambda x: x.split('_')[0])\n",
    "    \n",
    "    original_data['orf'] = clean_orf(original_data['orf'])\n",
    "    original_data['orf'] = translate_sc(original_data['orf'], to='orf')\n",
    "    t = looks_like_orf(original_data['orf'])\n",
    "    print(original_data.loc[~t,])\n",
    "    original_data['data'] = original_data.iloc[:,2].astype(float)\n",
    "    original_data.set_index('orf', inplace=True)\n",
    "    original_data = original_data[['data']].copy()\n",
    "    original_data = original_data.groupby(original_data.index).mean()\n",
    "    print(original_data.shape)\n",
    "    \n",
    "    original_data_list.append(original_data)"
   ]
  },
  {
   "cell_type": "code",
   "execution_count": 15,
   "metadata": {},
   "outputs": [],
   "source": [
    "original_data = reduce(lambda x, y: pd.merge(x, y, how='outer', on='orf'), original_data_list)\n"
   ]
  },
  {
   "cell_type": "code",
   "execution_count": 17,
   "metadata": {},
   "outputs": [],
   "source": [
    "dataset_ids = [16395, 16397, 16399, 16396, 16400, 16398]"
   ]
  },
  {
   "cell_type": "markdown",
   "metadata": {},
   "source": [
    "# Prepare the final dataset"
   ]
  },
  {
   "cell_type": "code",
   "execution_count": 18,
   "metadata": {},
   "outputs": [],
   "source": [
    "data = original_data.copy()"
   ]
  },
  {
   "cell_type": "code",
   "execution_count": 19,
   "metadata": {},
   "outputs": [],
   "source": [
    "datasets = datasets.reindex(index=dataset_ids)"
   ]
  },
  {
   "cell_type": "code",
   "execution_count": 20,
   "metadata": {},
   "outputs": [],
   "source": [
    "lst = [datasets.index.values, ['value']*datasets.shape[0]]\n",
    "tuples = list(zip(*lst))\n",
    "idx = pd.MultiIndex.from_tuples(tuples, names=['dataset_id','data_type'])\n",
    "data.columns = idx"
   ]
  },
  {
   "cell_type": "code",
   "execution_count": 21,
   "metadata": {},
   "outputs": [
    {
     "data": {
      "text/html": [
       "<div>\n",
       "<style scoped>\n",
       "    .dataframe tbody tr th:only-of-type {\n",
       "        vertical-align: middle;\n",
       "    }\n",
       "\n",
       "    .dataframe tbody tr th {\n",
       "        vertical-align: top;\n",
       "    }\n",
       "\n",
       "    .dataframe thead tr th {\n",
       "        text-align: left;\n",
       "    }\n",
       "\n",
       "    .dataframe thead tr:last-of-type th {\n",
       "        text-align: right;\n",
       "    }\n",
       "</style>\n",
       "<table border=\"1\" class=\"dataframe\">\n",
       "  <thead>\n",
       "    <tr>\n",
       "      <th>dataset_id</th>\n",
       "      <th>16395</th>\n",
       "      <th>16397</th>\n",
       "      <th>16399</th>\n",
       "      <th>16396</th>\n",
       "      <th>16400</th>\n",
       "      <th>16398</th>\n",
       "    </tr>\n",
       "    <tr>\n",
       "      <th>data_type</th>\n",
       "      <th>value</th>\n",
       "      <th>value</th>\n",
       "      <th>value</th>\n",
       "      <th>value</th>\n",
       "      <th>value</th>\n",
       "      <th>value</th>\n",
       "    </tr>\n",
       "    <tr>\n",
       "      <th>orf</th>\n",
       "      <th></th>\n",
       "      <th></th>\n",
       "      <th></th>\n",
       "      <th></th>\n",
       "      <th></th>\n",
       "      <th></th>\n",
       "    </tr>\n",
       "  </thead>\n",
       "  <tbody>\n",
       "    <tr>\n",
       "      <th>YAL001C</th>\n",
       "      <td>0.955657</td>\n",
       "      <td>1.046975</td>\n",
       "      <td>0.947927</td>\n",
       "      <td>0.986013</td>\n",
       "      <td>0.902596</td>\n",
       "      <td>0.947244</td>\n",
       "    </tr>\n",
       "    <tr>\n",
       "      <th>YAL002W</th>\n",
       "      <td>0.836811</td>\n",
       "      <td>1.012243</td>\n",
       "      <td>1.017282</td>\n",
       "      <td>0.727588</td>\n",
       "      <td>0.836118</td>\n",
       "      <td>0.753172</td>\n",
       "    </tr>\n",
       "    <tr>\n",
       "      <th>YAL004W</th>\n",
       "      <td>0.970256</td>\n",
       "      <td>0.988769</td>\n",
       "      <td>1.023451</td>\n",
       "      <td>1.024669</td>\n",
       "      <td>0.965046</td>\n",
       "      <td>1.039818</td>\n",
       "    </tr>\n",
       "    <tr>\n",
       "      <th>YAL005C</th>\n",
       "      <td>0.951158</td>\n",
       "      <td>0.987666</td>\n",
       "      <td>1.006057</td>\n",
       "      <td>0.999740</td>\n",
       "      <td>0.962266</td>\n",
       "      <td>1.001685</td>\n",
       "    </tr>\n",
       "    <tr>\n",
       "      <th>YAL007C</th>\n",
       "      <td>0.983390</td>\n",
       "      <td>1.033139</td>\n",
       "      <td>0.989239</td>\n",
       "      <td>0.969792</td>\n",
       "      <td>0.930264</td>\n",
       "      <td>0.965912</td>\n",
       "    </tr>\n",
       "  </tbody>\n",
       "</table>\n",
       "</div>"
      ],
      "text/plain": [
       "dataset_id     16395     16397     16399     16396     16400     16398\n",
       "data_type      value     value     value     value     value     value\n",
       "orf                                                                   \n",
       "YAL001C     0.955657  1.046975  0.947927  0.986013  0.902596  0.947244\n",
       "YAL002W     0.836811  1.012243  1.017282  0.727588  0.836118  0.753172\n",
       "YAL004W     0.970256  0.988769  1.023451  1.024669  0.965046  1.039818\n",
       "YAL005C     0.951158  0.987666  1.006057  0.999740  0.962266  1.001685\n",
       "YAL007C     0.983390  1.033139  0.989239  0.969792  0.930264  0.965912"
      ]
     },
     "execution_count": 21,
     "metadata": {},
     "output_type": "execute_result"
    }
   ],
   "source": [
    "data.head()"
   ]
  },
  {
   "cell_type": "markdown",
   "metadata": {},
   "source": [
    "## Subset to the genes currently in SGD"
   ]
  },
  {
   "cell_type": "code",
   "execution_count": 22,
   "metadata": {},
   "outputs": [
    {
     "name": "stdout",
     "output_type": "stream",
     "text": [
      "ORFs missing from SGD: 22\n"
     ]
    }
   ],
   "source": [
    "genes = pd.read_csv(path_to_genes, sep='\\t', index_col='id')\n",
    "genes = genes.reset_index().set_index('systematic_name')\n",
    "gene_ids = genes.reindex(index=data.index.values)['id'].values\n",
    "num_missing = np.sum(np.isnan(gene_ids))\n",
    "print('ORFs missing from SGD: %d' % num_missing)"
   ]
  },
  {
   "cell_type": "code",
   "execution_count": 23,
   "metadata": {},
   "outputs": [],
   "source": [
    "data['gene_id'] = gene_ids\n",
    "data = data.loc[data['gene_id'].notnull()]\n",
    "data['gene_id'] = data['gene_id'].astype(int)\n",
    "data = data.reset_index().set_index(['gene_id','orf'])"
   ]
  },
  {
   "cell_type": "code",
   "execution_count": 24,
   "metadata": {},
   "outputs": [
    {
     "data": {
      "text/html": [
       "<div>\n",
       "<style scoped>\n",
       "    .dataframe tbody tr th:only-of-type {\n",
       "        vertical-align: middle;\n",
       "    }\n",
       "\n",
       "    .dataframe tbody tr th {\n",
       "        vertical-align: top;\n",
       "    }\n",
       "\n",
       "    .dataframe thead tr th {\n",
       "        text-align: left;\n",
       "    }\n",
       "\n",
       "    .dataframe thead tr:last-of-type th {\n",
       "        text-align: right;\n",
       "    }\n",
       "</style>\n",
       "<table border=\"1\" class=\"dataframe\">\n",
       "  <thead>\n",
       "    <tr>\n",
       "      <th></th>\n",
       "      <th>dataset_id</th>\n",
       "      <th>16395</th>\n",
       "      <th>16397</th>\n",
       "      <th>16399</th>\n",
       "      <th>16396</th>\n",
       "      <th>16400</th>\n",
       "      <th>16398</th>\n",
       "    </tr>\n",
       "    <tr>\n",
       "      <th></th>\n",
       "      <th>data_type</th>\n",
       "      <th>value</th>\n",
       "      <th>value</th>\n",
       "      <th>value</th>\n",
       "      <th>value</th>\n",
       "      <th>value</th>\n",
       "      <th>value</th>\n",
       "    </tr>\n",
       "    <tr>\n",
       "      <th>gene_id</th>\n",
       "      <th>orf</th>\n",
       "      <th></th>\n",
       "      <th></th>\n",
       "      <th></th>\n",
       "      <th></th>\n",
       "      <th></th>\n",
       "      <th></th>\n",
       "    </tr>\n",
       "  </thead>\n",
       "  <tbody>\n",
       "    <tr>\n",
       "      <th>1</th>\n",
       "      <th>YAL001C</th>\n",
       "      <td>0.955657</td>\n",
       "      <td>1.046975</td>\n",
       "      <td>0.947927</td>\n",
       "      <td>0.986013</td>\n",
       "      <td>0.902596</td>\n",
       "      <td>0.947244</td>\n",
       "    </tr>\n",
       "    <tr>\n",
       "      <th>2</th>\n",
       "      <th>YAL002W</th>\n",
       "      <td>0.836811</td>\n",
       "      <td>1.012243</td>\n",
       "      <td>1.017282</td>\n",
       "      <td>0.727588</td>\n",
       "      <td>0.836118</td>\n",
       "      <td>0.753172</td>\n",
       "    </tr>\n",
       "    <tr>\n",
       "      <th>1863</th>\n",
       "      <th>YAL004W</th>\n",
       "      <td>0.970256</td>\n",
       "      <td>0.988769</td>\n",
       "      <td>1.023451</td>\n",
       "      <td>1.024669</td>\n",
       "      <td>0.965046</td>\n",
       "      <td>1.039818</td>\n",
       "    </tr>\n",
       "    <tr>\n",
       "      <th>4</th>\n",
       "      <th>YAL005C</th>\n",
       "      <td>0.951158</td>\n",
       "      <td>0.987666</td>\n",
       "      <td>1.006057</td>\n",
       "      <td>0.999740</td>\n",
       "      <td>0.962266</td>\n",
       "      <td>1.001685</td>\n",
       "    </tr>\n",
       "    <tr>\n",
       "      <th>5</th>\n",
       "      <th>YAL007C</th>\n",
       "      <td>0.983390</td>\n",
       "      <td>1.033139</td>\n",
       "      <td>0.989239</td>\n",
       "      <td>0.969792</td>\n",
       "      <td>0.930264</td>\n",
       "      <td>0.965912</td>\n",
       "    </tr>\n",
       "  </tbody>\n",
       "</table>\n",
       "</div>"
      ],
      "text/plain": [
       "dataset_id          16395     16397     16399     16396     16400     16398\n",
       "data_type           value     value     value     value     value     value\n",
       "gene_id orf                                                                \n",
       "1       YAL001C  0.955657  1.046975  0.947927  0.986013  0.902596  0.947244\n",
       "2       YAL002W  0.836811  1.012243  1.017282  0.727588  0.836118  0.753172\n",
       "1863    YAL004W  0.970256  0.988769  1.023451  1.024669  0.965046  1.039818\n",
       "4       YAL005C  0.951158  0.987666  1.006057  0.999740  0.962266  1.001685\n",
       "5       YAL007C  0.983390  1.033139  0.989239  0.969792  0.930264  0.965912"
      ]
     },
     "execution_count": 24,
     "metadata": {},
     "output_type": "execute_result"
    }
   ],
   "source": [
    "data.head()"
   ]
  },
  {
   "cell_type": "markdown",
   "metadata": {},
   "source": [
    "# Normalize"
   ]
  },
  {
   "cell_type": "code",
   "execution_count": 25,
   "metadata": {},
   "outputs": [],
   "source": [
    "data_norm = normalize_phenotypic_scores(data, has_tested=True)"
   ]
  },
  {
   "cell_type": "code",
   "execution_count": 26,
   "metadata": {},
   "outputs": [],
   "source": [
    "# Assign proper column names\n",
    "lst = [datasets.index.values, ['valuez']*datasets.shape[0]]\n",
    "tuples = list(zip(*lst))\n",
    "idx = pd.MultiIndex.from_tuples(tuples, names=['dataset_id','data_type'])\n",
    "data_norm.columns = idx"
   ]
  },
  {
   "cell_type": "code",
   "execution_count": 27,
   "metadata": {},
   "outputs": [],
   "source": [
    "data_norm[data.isnull()] = np.nan\n",
    "data_all = data.join(data_norm)"
   ]
  },
  {
   "cell_type": "code",
   "execution_count": 28,
   "metadata": {},
   "outputs": [
    {
     "data": {
      "text/html": [
       "<div>\n",
       "<style scoped>\n",
       "    .dataframe tbody tr th:only-of-type {\n",
       "        vertical-align: middle;\n",
       "    }\n",
       "\n",
       "    .dataframe tbody tr th {\n",
       "        vertical-align: top;\n",
       "    }\n",
       "\n",
       "    .dataframe thead tr th {\n",
       "        text-align: left;\n",
       "    }\n",
       "\n",
       "    .dataframe thead tr:last-of-type th {\n",
       "        text-align: right;\n",
       "    }\n",
       "</style>\n",
       "<table border=\"1\" class=\"dataframe\">\n",
       "  <thead>\n",
       "    <tr>\n",
       "      <th></th>\n",
       "      <th>dataset_id</th>\n",
       "      <th>16395</th>\n",
       "      <th>16397</th>\n",
       "      <th>16399</th>\n",
       "      <th>16396</th>\n",
       "      <th>16400</th>\n",
       "      <th>16398</th>\n",
       "      <th>16395</th>\n",
       "      <th>16397</th>\n",
       "      <th>16399</th>\n",
       "      <th>16396</th>\n",
       "      <th>16400</th>\n",
       "      <th>16398</th>\n",
       "    </tr>\n",
       "    <tr>\n",
       "      <th></th>\n",
       "      <th>data_type</th>\n",
       "      <th>value</th>\n",
       "      <th>value</th>\n",
       "      <th>value</th>\n",
       "      <th>value</th>\n",
       "      <th>value</th>\n",
       "      <th>value</th>\n",
       "      <th>valuez</th>\n",
       "      <th>valuez</th>\n",
       "      <th>valuez</th>\n",
       "      <th>valuez</th>\n",
       "      <th>valuez</th>\n",
       "      <th>valuez</th>\n",
       "    </tr>\n",
       "    <tr>\n",
       "      <th>gene_id</th>\n",
       "      <th>orf</th>\n",
       "      <th></th>\n",
       "      <th></th>\n",
       "      <th></th>\n",
       "      <th></th>\n",
       "      <th></th>\n",
       "      <th></th>\n",
       "      <th></th>\n",
       "      <th></th>\n",
       "      <th></th>\n",
       "      <th></th>\n",
       "      <th></th>\n",
       "      <th></th>\n",
       "    </tr>\n",
       "  </thead>\n",
       "  <tbody>\n",
       "    <tr>\n",
       "      <th>1</th>\n",
       "      <th>YAL001C</th>\n",
       "      <td>0.955657</td>\n",
       "      <td>1.046975</td>\n",
       "      <td>0.947927</td>\n",
       "      <td>0.986013</td>\n",
       "      <td>0.902596</td>\n",
       "      <td>0.947244</td>\n",
       "      <td>-0.228488</td>\n",
       "      <td>0.481811</td>\n",
       "      <td>-0.493745</td>\n",
       "      <td>0.147078</td>\n",
       "      <td>-0.904414</td>\n",
       "      <td>-0.382720</td>\n",
       "    </tr>\n",
       "    <tr>\n",
       "      <th>2</th>\n",
       "      <th>YAL002W</th>\n",
       "      <td>0.836811</td>\n",
       "      <td>1.012243</td>\n",
       "      <td>1.017282</td>\n",
       "      <td>0.727588</td>\n",
       "      <td>0.836118</td>\n",
       "      <td>0.753172</td>\n",
       "      <td>-1.314935</td>\n",
       "      <td>0.146515</td>\n",
       "      <td>0.278193</td>\n",
       "      <td>-3.149696</td>\n",
       "      <td>-1.583290</td>\n",
       "      <td>-2.457544</td>\n",
       "    </tr>\n",
       "    <tr>\n",
       "      <th>1863</th>\n",
       "      <th>YAL004W</th>\n",
       "      <td>0.970256</td>\n",
       "      <td>0.988769</td>\n",
       "      <td>1.023451</td>\n",
       "      <td>1.024669</td>\n",
       "      <td>0.965046</td>\n",
       "      <td>1.039818</td>\n",
       "      <td>-0.095027</td>\n",
       "      <td>-0.080096</td>\n",
       "      <td>0.346858</td>\n",
       "      <td>0.640221</td>\n",
       "      <td>-0.266676</td>\n",
       "      <td>0.606997</td>\n",
       "    </tr>\n",
       "    <tr>\n",
       "      <th>4</th>\n",
       "      <th>YAL005C</th>\n",
       "      <td>0.951158</td>\n",
       "      <td>0.987666</td>\n",
       "      <td>1.006057</td>\n",
       "      <td>0.999740</td>\n",
       "      <td>0.962266</td>\n",
       "      <td>1.001685</td>\n",
       "      <td>-0.269609</td>\n",
       "      <td>-0.090744</td>\n",
       "      <td>0.153255</td>\n",
       "      <td>0.322193</td>\n",
       "      <td>-0.295066</td>\n",
       "      <td>0.199308</td>\n",
       "    </tr>\n",
       "    <tr>\n",
       "      <th>5</th>\n",
       "      <th>YAL007C</th>\n",
       "      <td>0.983390</td>\n",
       "      <td>1.033139</td>\n",
       "      <td>0.989239</td>\n",
       "      <td>0.969792</td>\n",
       "      <td>0.930264</td>\n",
       "      <td>0.965912</td>\n",
       "      <td>0.025043</td>\n",
       "      <td>0.348245</td>\n",
       "      <td>-0.033926</td>\n",
       "      <td>-0.059861</td>\n",
       "      <td>-0.621873</td>\n",
       "      <td>-0.183142</td>\n",
       "    </tr>\n",
       "  </tbody>\n",
       "</table>\n",
       "</div>"
      ],
      "text/plain": [
       "dataset_id          16395     16397     16399     16396     16400     16398  \\\n",
       "data_type           value     value     value     value     value     value   \n",
       "gene_id orf                                                                   \n",
       "1       YAL001C  0.955657  1.046975  0.947927  0.986013  0.902596  0.947244   \n",
       "2       YAL002W  0.836811  1.012243  1.017282  0.727588  0.836118  0.753172   \n",
       "1863    YAL004W  0.970256  0.988769  1.023451  1.024669  0.965046  1.039818   \n",
       "4       YAL005C  0.951158  0.987666  1.006057  0.999740  0.962266  1.001685   \n",
       "5       YAL007C  0.983390  1.033139  0.989239  0.969792  0.930264  0.965912   \n",
       "\n",
       "dataset_id          16395     16397     16399     16396     16400     16398  \n",
       "data_type          valuez    valuez    valuez    valuez    valuez    valuez  \n",
       "gene_id orf                                                                  \n",
       "1       YAL001C -0.228488  0.481811 -0.493745  0.147078 -0.904414 -0.382720  \n",
       "2       YAL002W -1.314935  0.146515  0.278193 -3.149696 -1.583290 -2.457544  \n",
       "1863    YAL004W -0.095027 -0.080096  0.346858  0.640221 -0.266676  0.606997  \n",
       "4       YAL005C -0.269609 -0.090744  0.153255  0.322193 -0.295066  0.199308  \n",
       "5       YAL007C  0.025043  0.348245 -0.033926 -0.059861 -0.621873 -0.183142  "
      ]
     },
     "execution_count": 28,
     "metadata": {},
     "output_type": "execute_result"
    }
   ],
   "source": [
    "data_all.head()\n"
   ]
  },
  {
   "cell_type": "markdown",
   "metadata": {},
   "source": [
    "# Print out"
   ]
  },
  {
   "cell_type": "code",
   "execution_count": 29,
   "metadata": {},
   "outputs": [],
   "source": [
    "for f in ['value','valuez']:\n",
    "    df = data_all.xs(f, level='data_type', axis=1).copy()\n",
    "    df.columns = datasets['name'].values\n",
    "    df = df.droplevel('gene_id', axis=0)\n",
    "    df.to_csv(paper_name + '_' + f + '.txt', sep='\\t')"
   ]
  },
  {
   "cell_type": "markdown",
   "metadata": {},
   "source": [
    "# Save to DB"
   ]
  },
  {
   "cell_type": "code",
   "execution_count": 30,
   "metadata": {},
   "outputs": [],
   "source": [
    "from IO.save_data_to_db3 import *"
   ]
  },
  {
   "cell_type": "code",
   "execution_count": 31,
   "metadata": {},
   "outputs": [
    {
     "name": "stderr",
     "output_type": "stream",
     "text": [
      "  0%|          | 0/6 [00:00<?, ?it/s]"
     ]
    },
    {
     "name": "stdout",
     "output_type": "stream",
     "text": [
      "Deleting all datasets for PMID 28472365...\n",
      "Inserting the new data...\n"
     ]
    },
    {
     "name": "stderr",
     "output_type": "stream",
     "text": [
      "100%|██████████| 6/6 [00:38<00:00,  6.42s/it]"
     ]
    },
    {
     "name": "stdout",
     "output_type": "stream",
     "text": [
      "Updating the data_modified_on field...\n"
     ]
    },
    {
     "name": "stderr",
     "output_type": "stream",
     "text": [
      "\n"
     ]
    }
   ],
   "source": [
    "save_data_to_db(data_all, paper_pmid)"
   ]
  },
  {
   "cell_type": "code",
   "execution_count": null,
   "metadata": {},
   "outputs": [],
   "source": []
  }
 ],
 "metadata": {
  "kernelspec": {
   "display_name": "yp-data",
   "language": "python",
   "name": "yp-data"
  },
  "language_info": {
   "codemirror_mode": {
    "name": "ipython",
    "version": 3
   },
   "file_extension": ".py",
   "mimetype": "text/x-python",
   "name": "python",
   "nbconvert_exporter": "python",
   "pygments_lexer": "ipython3",
   "version": "3.7.7"
  }
 },
 "nbformat": 4,
 "nbformat_minor": 4
}
