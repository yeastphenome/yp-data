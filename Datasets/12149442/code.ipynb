{
 "cells": [
  {
   "cell_type": "code",
   "execution_count": 1,
   "metadata": {},
   "outputs": [],
   "source": [
    "%run ../yp_utils.py"
   ]
  },
  {
   "cell_type": "markdown",
   "metadata": {},
   "source": [
    "# Initial setup"
   ]
  },
  {
   "cell_type": "code",
   "execution_count": 2,
   "metadata": {},
   "outputs": [],
   "source": [
    "paper_pmid = 12149442\n",
    "paper_name = 'hanway_romesberg_2002' "
   ]
  },
  {
   "cell_type": "code",
   "execution_count": 3,
   "metadata": {},
   "outputs": [],
   "source": [
    "datasets = pd.read_csv('extras/YeastPhenome_' + str(paper_pmid) + '_datasets_list.txt', sep='\\t', header=None, names=['dataset_id', 'name'])"
   ]
  },
  {
   "cell_type": "code",
   "execution_count": 4,
   "metadata": {},
   "outputs": [],
   "source": [
    "datasets.set_index('dataset_id', inplace=True)"
   ]
  },
  {
   "cell_type": "markdown",
   "metadata": {},
   "source": [
    "# Load & process the data"
   ]
  },
  {
   "cell_type": "code",
   "execution_count": 5,
   "metadata": {},
   "outputs": [],
   "source": [
    "sheet_names = ['UV','MMS']"
   ]
  },
  {
   "cell_type": "code",
   "execution_count": 9,
   "metadata": {},
   "outputs": [
    {
     "name": "stdout",
     "output_type": "stream",
     "text": [
      "Original data dimensions: 167 x 9\n",
      "                              ORF  RF 90%  RF 80%  RF 70%  RF 60%  RF 50%  \\\n",
      "index_input                                                                 \n",
      "0                  High sensitivy     NaN     NaN     NaN     NaN     NaN   \n",
      "37           Moderate sensitivity     NaN     NaN     NaN     NaN     NaN   \n",
      "90                Low sensitivity     NaN     NaN     NaN     NaN     NaN   \n",
      "\n",
      "             RF 40%  RF 30%  RF 50%4pts                 gene  \\\n",
      "index_input                                                    \n",
      "0               NaN     NaN         NaN        HIGHSENSITIVY   \n",
      "37              NaN     NaN         NaN  MODERATESENSITIVITY   \n",
      "90              NaN     NaN         NaN       LOWSENSITIVITY   \n",
      "\n",
      "                             orf  \n",
      "index_input                       \n",
      "0                  HIGHSENSITIVY  \n",
      "37           MODERATESENSITIVITY  \n",
      "90                LOWSENSITIVITY  \n",
      "(164, 8)\n",
      "Original data dimensions: 150 x 3\n",
      "                              ORF  RF 0.001%4pts  RF 0.01%4pts  \\\n",
      "index_input                                                      \n",
      "0                High sensitivity            NaN           NaN   \n",
      "29           Moderate sensitivity            NaN           NaN   \n",
      "86                Low sensitivity            NaN           NaN   \n",
      "\n",
      "                            gene                  orf  \n",
      "index_input                                            \n",
      "0                HIGHSENSITIVITY      HIGHSENSITIVITY  \n",
      "29           MODERATESENSITIVITY  MODERATESENSITIVITY  \n",
      "86                LOWSENSITIVITY       LOWSENSITIVITY  \n",
      "(147, 2)\n"
     ]
    }
   ],
   "source": [
    "original_data_list = []\n",
    "for s in sheet_names:\n",
    "    original_data = pd.read_excel('raw_data/uv_hits.xlsx', sheet_name=s)\n",
    "    print('Original data dimensions: %d x %d' % (original_data.shape))\n",
    "#     print(original_data.head())\n",
    "    original_data['gene'] = original_data['ORF'].astype(str)\n",
    "    original_data['gene'] = clean_orf(original_data['gene'])\n",
    "    \n",
    "    typo_fixes = {'NTG1D':'NTG1','TOS10': 'YGR153W'}\n",
    "    original_data['gene'] = original_data['gene'].apply(lambda x: typo_fixes[x] if x in typo_fixes.keys() else x)\n",
    "    \n",
    "    original_data['orf'] = translate_sc(original_data['gene'], to='orf')\n",
    "    t = looks_like_orf(original_data['orf'])\n",
    "    print(original_data.loc[~t,])\n",
    "    original_data = original_data.loc[t,:]\n",
    "    \n",
    "    original_data.set_index('orf', inplace=True)\n",
    "    \n",
    "    data_cols = [c for c in original_data.columns if c.startswith('RF')]\n",
    "    original_data = original_data[data_cols].apply(pd.to_numeric, axis=1, errors='coerce')\n",
    "    original_data = original_data.groupby(original_data.index).mean()\n",
    "    \n",
    "    print(original_data.shape)\n",
    "    \n",
    "    original_data_list.append(original_data)"
   ]
  },
  {
   "cell_type": "code",
   "execution_count": 10,
   "metadata": {},
   "outputs": [],
   "source": [
    "original_data = pd.concat(original_data_list, axis=1)"
   ]
  },
  {
   "cell_type": "code",
   "execution_count": 12,
   "metadata": {},
   "outputs": [],
   "source": [
    "original_data.index.name='orf'\n",
    "\n",
    "# Converting to scale so that wt = 0 and negative values = sensitivity\n",
    "original_data = original_data-1"
   ]
  },
  {
   "cell_type": "code",
   "execution_count": 13,
   "metadata": {},
   "outputs": [
    {
     "data": {
      "text/plain": [
       "(282, 10)"
      ]
     },
     "execution_count": 13,
     "metadata": {},
     "output_type": "execute_result"
    }
   ],
   "source": [
    "original_data.shape"
   ]
  },
  {
   "cell_type": "code",
   "execution_count": 24,
   "metadata": {},
   "outputs": [],
   "source": [
    "# Assuming all non-hits were tested in the other screen\n",
    "original_data[original_data.isnull()] = 0"
   ]
  },
  {
   "cell_type": "markdown",
   "metadata": {},
   "source": [
    "# Prepare the final dataset"
   ]
  },
  {
   "cell_type": "code",
   "execution_count": 25,
   "metadata": {},
   "outputs": [],
   "source": [
    "data = original_data.copy()"
   ]
  },
  {
   "cell_type": "code",
   "execution_count": 26,
   "metadata": {},
   "outputs": [],
   "source": [
    "dataset_ids = [474, 11850, 11851, 11852, 11853, 11854, 11855, 11856, 4951, 4967]\n",
    "datasets = datasets.reindex(index=dataset_ids)"
   ]
  },
  {
   "cell_type": "code",
   "execution_count": 27,
   "metadata": {},
   "outputs": [],
   "source": [
    "lst = [datasets.index.values, ['value']*datasets.shape[0]]\n",
    "tuples = list(zip(*lst))\n",
    "idx = pd.MultiIndex.from_tuples(tuples, names=['dataset_id','data_type'])\n",
    "data.columns = idx"
   ]
  },
  {
   "cell_type": "code",
   "execution_count": 28,
   "metadata": {},
   "outputs": [
    {
     "data": {
      "text/html": [
       "<div>\n",
       "<style scoped>\n",
       "    .dataframe tbody tr th:only-of-type {\n",
       "        vertical-align: middle;\n",
       "    }\n",
       "\n",
       "    .dataframe tbody tr th {\n",
       "        vertical-align: top;\n",
       "    }\n",
       "\n",
       "    .dataframe thead tr th {\n",
       "        text-align: left;\n",
       "    }\n",
       "\n",
       "    .dataframe thead tr:last-of-type th {\n",
       "        text-align: right;\n",
       "    }\n",
       "</style>\n",
       "<table border=\"1\" class=\"dataframe\">\n",
       "  <thead>\n",
       "    <tr>\n",
       "      <th>dataset_id</th>\n",
       "      <th>474</th>\n",
       "      <th>11850</th>\n",
       "      <th>11851</th>\n",
       "      <th>11852</th>\n",
       "      <th>11853</th>\n",
       "      <th>11854</th>\n",
       "      <th>11855</th>\n",
       "      <th>11856</th>\n",
       "      <th>4951</th>\n",
       "      <th>4967</th>\n",
       "    </tr>\n",
       "    <tr>\n",
       "      <th>data_type</th>\n",
       "      <th>value</th>\n",
       "      <th>value</th>\n",
       "      <th>value</th>\n",
       "      <th>value</th>\n",
       "      <th>value</th>\n",
       "      <th>value</th>\n",
       "      <th>value</th>\n",
       "      <th>value</th>\n",
       "      <th>value</th>\n",
       "      <th>value</th>\n",
       "    </tr>\n",
       "    <tr>\n",
       "      <th>orf</th>\n",
       "      <th></th>\n",
       "      <th></th>\n",
       "      <th></th>\n",
       "      <th></th>\n",
       "      <th></th>\n",
       "      <th></th>\n",
       "      <th></th>\n",
       "      <th></th>\n",
       "      <th></th>\n",
       "      <th></th>\n",
       "    </tr>\n",
       "  </thead>\n",
       "  <tbody>\n",
       "    <tr>\n",
       "      <th>YAL002W</th>\n",
       "      <td>-0.03</td>\n",
       "      <td>-0.03</td>\n",
       "      <td>-0.06</td>\n",
       "      <td>-0.04</td>\n",
       "      <td>-0.07</td>\n",
       "      <td>-0.13</td>\n",
       "      <td>-0.08</td>\n",
       "      <td>-0.03</td>\n",
       "      <td>0.00</td>\n",
       "      <td>0.00</td>\n",
       "    </tr>\n",
       "    <tr>\n",
       "      <th>YAL005C</th>\n",
       "      <td>-0.01</td>\n",
       "      <td>0.00</td>\n",
       "      <td>0.01</td>\n",
       "      <td>0.00</td>\n",
       "      <td>0.00</td>\n",
       "      <td>-0.10</td>\n",
       "      <td>-0.06</td>\n",
       "      <td>0.06</td>\n",
       "      <td>0.00</td>\n",
       "      <td>0.00</td>\n",
       "    </tr>\n",
       "    <tr>\n",
       "      <th>YAL007C</th>\n",
       "      <td>-0.01</td>\n",
       "      <td>-0.01</td>\n",
       "      <td>0.01</td>\n",
       "      <td>0.00</td>\n",
       "      <td>0.00</td>\n",
       "      <td>-0.11</td>\n",
       "      <td>-0.06</td>\n",
       "      <td>0.07</td>\n",
       "      <td>0.00</td>\n",
       "      <td>0.00</td>\n",
       "    </tr>\n",
       "    <tr>\n",
       "      <th>YAL008W</th>\n",
       "      <td>-0.01</td>\n",
       "      <td>0.01</td>\n",
       "      <td>0.00</td>\n",
       "      <td>0.00</td>\n",
       "      <td>-0.01</td>\n",
       "      <td>-0.11</td>\n",
       "      <td>-0.04</td>\n",
       "      <td>0.06</td>\n",
       "      <td>0.00</td>\n",
       "      <td>0.00</td>\n",
       "    </tr>\n",
       "    <tr>\n",
       "      <th>YAL009W</th>\n",
       "      <td>0.03</td>\n",
       "      <td>0.02</td>\n",
       "      <td>0.04</td>\n",
       "      <td>0.02</td>\n",
       "      <td>0.00</td>\n",
       "      <td>-0.09</td>\n",
       "      <td>-0.06</td>\n",
       "      <td>0.14</td>\n",
       "      <td>-0.03</td>\n",
       "      <td>-0.09</td>\n",
       "    </tr>\n",
       "  </tbody>\n",
       "</table>\n",
       "</div>"
      ],
      "text/plain": [
       "dataset_id 474   11850 11851 11852 11853 11854 11855 11856 4951  4967 \n",
       "data_type  value value value value value value value value value value\n",
       "orf                                                                   \n",
       "YAL002W    -0.03 -0.03 -0.06 -0.04 -0.07 -0.13 -0.08 -0.03  0.00  0.00\n",
       "YAL005C    -0.01  0.00  0.01  0.00  0.00 -0.10 -0.06  0.06  0.00  0.00\n",
       "YAL007C    -0.01 -0.01  0.01  0.00  0.00 -0.11 -0.06  0.07  0.00  0.00\n",
       "YAL008W    -0.01  0.01  0.00  0.00 -0.01 -0.11 -0.04  0.06  0.00  0.00\n",
       "YAL009W     0.03  0.02  0.04  0.02  0.00 -0.09 -0.06  0.14 -0.03 -0.09"
      ]
     },
     "execution_count": 28,
     "metadata": {},
     "output_type": "execute_result"
    }
   ],
   "source": [
    "data.head()"
   ]
  },
  {
   "cell_type": "markdown",
   "metadata": {},
   "source": [
    "## Subset to the genes currently in SGD"
   ]
  },
  {
   "cell_type": "code",
   "execution_count": 29,
   "metadata": {},
   "outputs": [
    {
     "name": "stdout",
     "output_type": "stream",
     "text": [
      "ORFs missing from SGD: 2\n"
     ]
    }
   ],
   "source": [
    "genes = pd.read_csv(path_to_genes, sep='\\t', index_col='id')\n",
    "genes = genes.reset_index().set_index('systematic_name')\n",
    "gene_ids = genes.reindex(index=data.index.values)['id'].values\n",
    "num_missing = np.sum(np.isnan(gene_ids))\n",
    "print('ORFs missing from SGD: %d' % num_missing)"
   ]
  },
  {
   "cell_type": "code",
   "execution_count": 30,
   "metadata": {},
   "outputs": [
    {
     "data": {
      "text/html": [
       "<div>\n",
       "<style scoped>\n",
       "    .dataframe tbody tr th:only-of-type {\n",
       "        vertical-align: middle;\n",
       "    }\n",
       "\n",
       "    .dataframe tbody tr th {\n",
       "        vertical-align: top;\n",
       "    }\n",
       "\n",
       "    .dataframe thead tr th {\n",
       "        text-align: left;\n",
       "    }\n",
       "\n",
       "    .dataframe thead tr:last-of-type th {\n",
       "        text-align: right;\n",
       "    }\n",
       "</style>\n",
       "<table border=\"1\" class=\"dataframe\">\n",
       "  <thead>\n",
       "    <tr>\n",
       "      <th></th>\n",
       "      <th>dataset_id</th>\n",
       "      <th>474</th>\n",
       "      <th>11850</th>\n",
       "      <th>11851</th>\n",
       "      <th>11852</th>\n",
       "      <th>11853</th>\n",
       "      <th>11854</th>\n",
       "      <th>11855</th>\n",
       "      <th>11856</th>\n",
       "      <th>4951</th>\n",
       "      <th>4967</th>\n",
       "    </tr>\n",
       "    <tr>\n",
       "      <th></th>\n",
       "      <th>data_type</th>\n",
       "      <th>value</th>\n",
       "      <th>value</th>\n",
       "      <th>value</th>\n",
       "      <th>value</th>\n",
       "      <th>value</th>\n",
       "      <th>value</th>\n",
       "      <th>value</th>\n",
       "      <th>value</th>\n",
       "      <th>value</th>\n",
       "      <th>value</th>\n",
       "    </tr>\n",
       "    <tr>\n",
       "      <th>gene_id</th>\n",
       "      <th>orf</th>\n",
       "      <th></th>\n",
       "      <th></th>\n",
       "      <th></th>\n",
       "      <th></th>\n",
       "      <th></th>\n",
       "      <th></th>\n",
       "      <th></th>\n",
       "      <th></th>\n",
       "      <th></th>\n",
       "      <th></th>\n",
       "    </tr>\n",
       "  </thead>\n",
       "  <tbody>\n",
       "    <tr>\n",
       "      <th>2</th>\n",
       "      <th>YAL002W</th>\n",
       "      <td>-0.03</td>\n",
       "      <td>-0.03</td>\n",
       "      <td>-0.06</td>\n",
       "      <td>-0.04</td>\n",
       "      <td>-0.07</td>\n",
       "      <td>-0.13</td>\n",
       "      <td>-0.08</td>\n",
       "      <td>-0.03</td>\n",
       "      <td>0.00</td>\n",
       "      <td>0.00</td>\n",
       "    </tr>\n",
       "    <tr>\n",
       "      <th>4</th>\n",
       "      <th>YAL005C</th>\n",
       "      <td>-0.01</td>\n",
       "      <td>0.00</td>\n",
       "      <td>0.01</td>\n",
       "      <td>0.00</td>\n",
       "      <td>0.00</td>\n",
       "      <td>-0.10</td>\n",
       "      <td>-0.06</td>\n",
       "      <td>0.06</td>\n",
       "      <td>0.00</td>\n",
       "      <td>0.00</td>\n",
       "    </tr>\n",
       "    <tr>\n",
       "      <th>5</th>\n",
       "      <th>YAL007C</th>\n",
       "      <td>-0.01</td>\n",
       "      <td>-0.01</td>\n",
       "      <td>0.01</td>\n",
       "      <td>0.00</td>\n",
       "      <td>0.00</td>\n",
       "      <td>-0.11</td>\n",
       "      <td>-0.06</td>\n",
       "      <td>0.07</td>\n",
       "      <td>0.00</td>\n",
       "      <td>0.00</td>\n",
       "    </tr>\n",
       "    <tr>\n",
       "      <th>6</th>\n",
       "      <th>YAL008W</th>\n",
       "      <td>-0.01</td>\n",
       "      <td>0.01</td>\n",
       "      <td>0.00</td>\n",
       "      <td>0.00</td>\n",
       "      <td>-0.01</td>\n",
       "      <td>-0.11</td>\n",
       "      <td>-0.04</td>\n",
       "      <td>0.06</td>\n",
       "      <td>0.00</td>\n",
       "      <td>0.00</td>\n",
       "    </tr>\n",
       "    <tr>\n",
       "      <th>7</th>\n",
       "      <th>YAL009W</th>\n",
       "      <td>0.03</td>\n",
       "      <td>0.02</td>\n",
       "      <td>0.04</td>\n",
       "      <td>0.02</td>\n",
       "      <td>0.00</td>\n",
       "      <td>-0.09</td>\n",
       "      <td>-0.06</td>\n",
       "      <td>0.14</td>\n",
       "      <td>-0.03</td>\n",
       "      <td>-0.09</td>\n",
       "    </tr>\n",
       "  </tbody>\n",
       "</table>\n",
       "</div>"
      ],
      "text/plain": [
       "dataset_id      474   11850 11851 11852 11853 11854 11855 11856 4951  4967 \n",
       "data_type       value value value value value value value value value value\n",
       "gene_id orf                                                                \n",
       "2       YAL002W -0.03 -0.03 -0.06 -0.04 -0.07 -0.13 -0.08 -0.03  0.00  0.00\n",
       "4       YAL005C -0.01  0.00  0.01  0.00  0.00 -0.10 -0.06  0.06  0.00  0.00\n",
       "5       YAL007C -0.01 -0.01  0.01  0.00  0.00 -0.11 -0.06  0.07  0.00  0.00\n",
       "6       YAL008W -0.01  0.01  0.00  0.00 -0.01 -0.11 -0.04  0.06  0.00  0.00\n",
       "7       YAL009W  0.03  0.02  0.04  0.02  0.00 -0.09 -0.06  0.14 -0.03 -0.09"
      ]
     },
     "execution_count": 30,
     "metadata": {},
     "output_type": "execute_result"
    }
   ],
   "source": [
    "data['gene_id'] = gene_ids\n",
    "data = data.loc[data['gene_id'].notnull()]\n",
    "data['gene_id'] = data['gene_id'].astype(int)\n",
    "data = data.reset_index().set_index(['gene_id','orf'])\n",
    "\n",
    "data.head()"
   ]
  },
  {
   "cell_type": "markdown",
   "metadata": {},
   "source": [
    "# Normalize"
   ]
  },
  {
   "cell_type": "code",
   "execution_count": 31,
   "metadata": {},
   "outputs": [],
   "source": [
    "data_norm = normalize_phenotypic_scores(data, has_tested=False)"
   ]
  },
  {
   "cell_type": "code",
   "execution_count": 32,
   "metadata": {},
   "outputs": [],
   "source": [
    "# Assign proper column names\n",
    "lst = [datasets.index.values, ['valuez']*datasets.shape[0]]\n",
    "tuples = list(zip(*lst))\n",
    "idx = pd.MultiIndex.from_tuples(tuples, names=['dataset_id','data_type'])\n",
    "data_norm.columns = idx"
   ]
  },
  {
   "cell_type": "code",
   "execution_count": 33,
   "metadata": {},
   "outputs": [
    {
     "data": {
      "text/html": [
       "<div>\n",
       "<style scoped>\n",
       "    .dataframe tbody tr th:only-of-type {\n",
       "        vertical-align: middle;\n",
       "    }\n",
       "\n",
       "    .dataframe tbody tr th {\n",
       "        vertical-align: top;\n",
       "    }\n",
       "\n",
       "    .dataframe thead tr th {\n",
       "        text-align: left;\n",
       "    }\n",
       "\n",
       "    .dataframe thead tr:last-of-type th {\n",
       "        text-align: right;\n",
       "    }\n",
       "</style>\n",
       "<table border=\"1\" class=\"dataframe\">\n",
       "  <thead>\n",
       "    <tr>\n",
       "      <th></th>\n",
       "      <th>dataset_id</th>\n",
       "      <th>474</th>\n",
       "      <th>11850</th>\n",
       "      <th>11851</th>\n",
       "      <th>11852</th>\n",
       "      <th>11853</th>\n",
       "      <th>11854</th>\n",
       "      <th>11855</th>\n",
       "      <th>11856</th>\n",
       "      <th>4951</th>\n",
       "      <th>4967</th>\n",
       "      <th>474</th>\n",
       "      <th>11850</th>\n",
       "      <th>11851</th>\n",
       "      <th>11852</th>\n",
       "      <th>11853</th>\n",
       "      <th>11854</th>\n",
       "      <th>11855</th>\n",
       "      <th>11856</th>\n",
       "      <th>4951</th>\n",
       "      <th>4967</th>\n",
       "    </tr>\n",
       "    <tr>\n",
       "      <th></th>\n",
       "      <th>data_type</th>\n",
       "      <th>value</th>\n",
       "      <th>value</th>\n",
       "      <th>value</th>\n",
       "      <th>value</th>\n",
       "      <th>value</th>\n",
       "      <th>value</th>\n",
       "      <th>value</th>\n",
       "      <th>value</th>\n",
       "      <th>value</th>\n",
       "      <th>value</th>\n",
       "      <th>valuez</th>\n",
       "      <th>valuez</th>\n",
       "      <th>valuez</th>\n",
       "      <th>valuez</th>\n",
       "      <th>valuez</th>\n",
       "      <th>valuez</th>\n",
       "      <th>valuez</th>\n",
       "      <th>valuez</th>\n",
       "      <th>valuez</th>\n",
       "      <th>valuez</th>\n",
       "    </tr>\n",
       "    <tr>\n",
       "      <th>gene_id</th>\n",
       "      <th>orf</th>\n",
       "      <th></th>\n",
       "      <th></th>\n",
       "      <th></th>\n",
       "      <th></th>\n",
       "      <th></th>\n",
       "      <th></th>\n",
       "      <th></th>\n",
       "      <th></th>\n",
       "      <th></th>\n",
       "      <th></th>\n",
       "      <th></th>\n",
       "      <th></th>\n",
       "      <th></th>\n",
       "      <th></th>\n",
       "      <th></th>\n",
       "      <th></th>\n",
       "      <th></th>\n",
       "      <th></th>\n",
       "      <th></th>\n",
       "      <th></th>\n",
       "    </tr>\n",
       "  </thead>\n",
       "  <tbody>\n",
       "    <tr>\n",
       "      <th>2</th>\n",
       "      <th>YAL002W</th>\n",
       "      <td>-0.03</td>\n",
       "      <td>-0.03</td>\n",
       "      <td>-0.06</td>\n",
       "      <td>-0.04</td>\n",
       "      <td>-0.07</td>\n",
       "      <td>-0.13</td>\n",
       "      <td>-0.08</td>\n",
       "      <td>-0.03</td>\n",
       "      <td>0.00</td>\n",
       "      <td>0.00</td>\n",
       "      <td>-2.876794</td>\n",
       "      <td>-2.246007</td>\n",
       "      <td>-4.403108</td>\n",
       "      <td>-1.933319</td>\n",
       "      <td>-3.537734</td>\n",
       "      <td>-6.427632</td>\n",
       "      <td>-2.714565</td>\n",
       "      <td>-1.095905</td>\n",
       "      <td>0.311315</td>\n",
       "      <td>-0.030537</td>\n",
       "    </tr>\n",
       "    <tr>\n",
       "      <th>4</th>\n",
       "      <th>YAL005C</th>\n",
       "      <td>-0.01</td>\n",
       "      <td>0.00</td>\n",
       "      <td>0.01</td>\n",
       "      <td>0.00</td>\n",
       "      <td>0.00</td>\n",
       "      <td>-0.10</td>\n",
       "      <td>-0.06</td>\n",
       "      <td>0.06</td>\n",
       "      <td>0.00</td>\n",
       "      <td>0.00</td>\n",
       "      <td>-0.958931</td>\n",
       "      <td>-0.080215</td>\n",
       "      <td>0.640452</td>\n",
       "      <td>0.004404</td>\n",
       "      <td>0.009213</td>\n",
       "      <td>-4.926841</td>\n",
       "      <td>-2.003325</td>\n",
       "      <td>1.927165</td>\n",
       "      <td>0.311315</td>\n",
       "      <td>-0.030537</td>\n",
       "    </tr>\n",
       "    <tr>\n",
       "      <th>5</th>\n",
       "      <th>YAL007C</th>\n",
       "      <td>-0.01</td>\n",
       "      <td>-0.01</td>\n",
       "      <td>0.01</td>\n",
       "      <td>0.00</td>\n",
       "      <td>0.00</td>\n",
       "      <td>-0.11</td>\n",
       "      <td>-0.06</td>\n",
       "      <td>0.07</td>\n",
       "      <td>0.00</td>\n",
       "      <td>0.00</td>\n",
       "      <td>-0.958931</td>\n",
       "      <td>-0.802145</td>\n",
       "      <td>0.640452</td>\n",
       "      <td>0.004404</td>\n",
       "      <td>0.009213</td>\n",
       "      <td>-5.427104</td>\n",
       "      <td>-2.003325</td>\n",
       "      <td>2.263061</td>\n",
       "      <td>0.311315</td>\n",
       "      <td>-0.030537</td>\n",
       "    </tr>\n",
       "    <tr>\n",
       "      <th>6</th>\n",
       "      <th>YAL008W</th>\n",
       "      <td>-0.01</td>\n",
       "      <td>0.01</td>\n",
       "      <td>0.00</td>\n",
       "      <td>0.00</td>\n",
       "      <td>-0.01</td>\n",
       "      <td>-0.11</td>\n",
       "      <td>-0.04</td>\n",
       "      <td>0.06</td>\n",
       "      <td>0.00</td>\n",
       "      <td>0.00</td>\n",
       "      <td>-0.958931</td>\n",
       "      <td>0.641716</td>\n",
       "      <td>-0.080057</td>\n",
       "      <td>0.004404</td>\n",
       "      <td>-0.497494</td>\n",
       "      <td>-5.427104</td>\n",
       "      <td>-1.292086</td>\n",
       "      <td>1.927165</td>\n",
       "      <td>0.311315</td>\n",
       "      <td>-0.030537</td>\n",
       "    </tr>\n",
       "    <tr>\n",
       "      <th>7</th>\n",
       "      <th>YAL009W</th>\n",
       "      <td>0.03</td>\n",
       "      <td>0.02</td>\n",
       "      <td>0.04</td>\n",
       "      <td>0.02</td>\n",
       "      <td>0.00</td>\n",
       "      <td>-0.09</td>\n",
       "      <td>-0.06</td>\n",
       "      <td>0.14</td>\n",
       "      <td>-0.03</td>\n",
       "      <td>-0.09</td>\n",
       "      <td>2.876794</td>\n",
       "      <td>1.363647</td>\n",
       "      <td>2.801978</td>\n",
       "      <td>0.973265</td>\n",
       "      <td>0.009213</td>\n",
       "      <td>-4.426577</td>\n",
       "      <td>-2.003325</td>\n",
       "      <td>4.614338</td>\n",
       "      <td>0.285372</td>\n",
       "      <td>-2.698010</td>\n",
       "    </tr>\n",
       "  </tbody>\n",
       "</table>\n",
       "</div>"
      ],
      "text/plain": [
       "dataset_id      474   11850 11851 11852 11853 11854 11855 11856 4951  4967   \\\n",
       "data_type       value value value value value value value value value value   \n",
       "gene_id orf                                                                   \n",
       "2       YAL002W -0.03 -0.03 -0.06 -0.04 -0.07 -0.13 -0.08 -0.03  0.00  0.00   \n",
       "4       YAL005C -0.01  0.00  0.01  0.00  0.00 -0.10 -0.06  0.06  0.00  0.00   \n",
       "5       YAL007C -0.01 -0.01  0.01  0.00  0.00 -0.11 -0.06  0.07  0.00  0.00   \n",
       "6       YAL008W -0.01  0.01  0.00  0.00 -0.01 -0.11 -0.04  0.06  0.00  0.00   \n",
       "7       YAL009W  0.03  0.02  0.04  0.02  0.00 -0.09 -0.06  0.14 -0.03 -0.09   \n",
       "\n",
       "dataset_id          474       11850     11851     11852     11853     11854  \\\n",
       "data_type          valuez    valuez    valuez    valuez    valuez    valuez   \n",
       "gene_id orf                                                                   \n",
       "2       YAL002W -2.876794 -2.246007 -4.403108 -1.933319 -3.537734 -6.427632   \n",
       "4       YAL005C -0.958931 -0.080215  0.640452  0.004404  0.009213 -4.926841   \n",
       "5       YAL007C -0.958931 -0.802145  0.640452  0.004404  0.009213 -5.427104   \n",
       "6       YAL008W -0.958931  0.641716 -0.080057  0.004404 -0.497494 -5.427104   \n",
       "7       YAL009W  2.876794  1.363647  2.801978  0.973265  0.009213 -4.426577   \n",
       "\n",
       "dataset_id          11855     11856     4951      4967   \n",
       "data_type          valuez    valuez    valuez    valuez  \n",
       "gene_id orf                                              \n",
       "2       YAL002W -2.714565 -1.095905  0.311315 -0.030537  \n",
       "4       YAL005C -2.003325  1.927165  0.311315 -0.030537  \n",
       "5       YAL007C -2.003325  2.263061  0.311315 -0.030537  \n",
       "6       YAL008W -1.292086  1.927165  0.311315 -0.030537  \n",
       "7       YAL009W -2.003325  4.614338  0.285372 -2.698010  "
      ]
     },
     "execution_count": 33,
     "metadata": {},
     "output_type": "execute_result"
    }
   ],
   "source": [
    "data_norm[data.isnull()] = np.nan\n",
    "data_all = data.join(data_norm)\n",
    "\n",
    "data_all.head()"
   ]
  },
  {
   "cell_type": "markdown",
   "metadata": {},
   "source": [
    "# Print out"
   ]
  },
  {
   "cell_type": "code",
   "execution_count": 34,
   "metadata": {},
   "outputs": [],
   "source": [
    "for f in ['value','valuez']:\n",
    "    df = data_all.xs(f, level='data_type', axis=1).copy()\n",
    "    df.columns = datasets['name'].values\n",
    "    df = df.droplevel('gene_id', axis=0)\n",
    "    df.to_csv(paper_name + '_' + f + '.txt', sep='\\t')"
   ]
  },
  {
   "cell_type": "markdown",
   "metadata": {},
   "source": [
    "# Save to DB"
   ]
  },
  {
   "cell_type": "code",
   "execution_count": 35,
   "metadata": {},
   "outputs": [],
   "source": [
    "from IO.save_data_to_db3 import *"
   ]
  },
  {
   "cell_type": "code",
   "execution_count": 36,
   "metadata": {},
   "outputs": [
    {
     "name": "stderr",
     "output_type": "stream",
     "text": [
      "  0%|          | 0/10 [00:00<?, ?it/s]"
     ]
    },
    {
     "name": "stdout",
     "output_type": "stream",
     "text": [
      "Deleting all datasets for PMID 12149442...\n",
      "Inserting the new data...\n"
     ]
    },
    {
     "name": "stderr",
     "output_type": "stream",
     "text": [
      "100%|██████████| 10/10 [00:04<00:00,  2.11it/s]"
     ]
    },
    {
     "name": "stdout",
     "output_type": "stream",
     "text": [
      "Updating the data_modified_on field...\n"
     ]
    },
    {
     "name": "stderr",
     "output_type": "stream",
     "text": [
      "\n"
     ]
    }
   ],
   "source": [
    "save_data_to_db(data_all, paper_pmid)"
   ]
  },
  {
   "cell_type": "code",
   "execution_count": null,
   "metadata": {},
   "outputs": [],
   "source": []
  }
 ],
 "metadata": {
  "kernelspec": {
   "display_name": "yp-data",
   "language": "python",
   "name": "yp-data"
  },
  "language_info": {
   "codemirror_mode": {
    "name": "ipython",
    "version": 3
   },
   "file_extension": ".py",
   "mimetype": "text/x-python",
   "name": "python",
   "nbconvert_exporter": "python",
   "pygments_lexer": "ipython3",
   "version": "3.7.7"
  }
 },
 "nbformat": 4,
 "nbformat_minor": 4
}
