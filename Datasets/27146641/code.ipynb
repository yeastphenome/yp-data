{
 "cells": [
  {
   "cell_type": "code",
   "execution_count": 1,
   "metadata": {},
   "outputs": [],
   "source": [
    "%run ../../Utils/yp_utils.py"
   ]
  },
  {
   "cell_type": "markdown",
   "metadata": {},
   "source": [
    "# Initial setup"
   ]
  },
  {
   "cell_type": "code",
   "execution_count": 2,
   "metadata": {},
   "outputs": [],
   "source": [
    "paper_pmid = 27146641\n",
    "paper_name = 'johnson_wu_2016' "
   ]
  },
  {
   "cell_type": "code",
   "execution_count": 3,
   "metadata": {},
   "outputs": [],
   "source": [
    "datasets = pd.read_csv('extras/YeastPhenome_' + str(paper_pmid) + '_datasets_list.txt', sep='\\t', header=None, names=['pmid', 'name'])"
   ]
  },
  {
   "cell_type": "code",
   "execution_count": 4,
   "metadata": {},
   "outputs": [],
   "source": [
    "datasets.set_index('pmid', inplace=True)"
   ]
  },
  {
   "cell_type": "markdown",
   "metadata": {},
   "source": [
    "# Load & process the data"
   ]
  },
  {
   "cell_type": "code",
   "execution_count": 5,
   "metadata": {},
   "outputs": [],
   "source": [
    "original_data = pd.read_excel('raw_data/c6mt00039h1.xlsx', sheet_name='Sheet1', skiprows=1, \n",
    "                              names=['orf','h2o_t0','h2o_t16','chr5_t0','chr5_t16','chr1_t0','chr1_t16'])"
   ]
  },
  {
   "cell_type": "code",
   "execution_count": 6,
   "metadata": {},
   "outputs": [
    {
     "name": "stdout",
     "output_type": "stream",
     "text": [
      "Original data dimensions: 4874 x 7\n"
     ]
    }
   ],
   "source": [
    "print('Original data dimensions: %d x %d' % (original_data.shape))"
   ]
  },
  {
   "cell_type": "code",
   "execution_count": 7,
   "metadata": {},
   "outputs": [
    {
     "data": {
      "text/html": [
       "<div>\n",
       "<style scoped>\n",
       "    .dataframe tbody tr th:only-of-type {\n",
       "        vertical-align: middle;\n",
       "    }\n",
       "\n",
       "    .dataframe tbody tr th {\n",
       "        vertical-align: top;\n",
       "    }\n",
       "\n",
       "    .dataframe thead th {\n",
       "        text-align: right;\n",
       "    }\n",
       "</style>\n",
       "<table border=\"1\" class=\"dataframe\">\n",
       "  <thead>\n",
       "    <tr style=\"text-align: right;\">\n",
       "      <th></th>\n",
       "      <th>orf</th>\n",
       "      <th>h2o_t0</th>\n",
       "      <th>h2o_t16</th>\n",
       "      <th>chr5_t0</th>\n",
       "      <th>chr5_t16</th>\n",
       "      <th>chr1_t0</th>\n",
       "      <th>chr1_t16</th>\n",
       "    </tr>\n",
       "  </thead>\n",
       "  <tbody>\n",
       "    <tr>\n",
       "      <th>0</th>\n",
       "      <td>BY4743 Average (n=128)</td>\n",
       "      <td>0.041889</td>\n",
       "      <td>0.900905</td>\n",
       "      <td>0.041722</td>\n",
       "      <td>0.799802</td>\n",
       "      <td>0.041778</td>\n",
       "      <td>0.511198</td>\n",
       "    </tr>\n",
       "    <tr>\n",
       "      <th>1</th>\n",
       "      <td>YAL002W</td>\n",
       "      <td>0.039000</td>\n",
       "      <td>0.692000</td>\n",
       "      <td>0.043000</td>\n",
       "      <td>0.110000</td>\n",
       "      <td>0.043000</td>\n",
       "      <td>0.097000</td>\n",
       "    </tr>\n",
       "    <tr>\n",
       "      <th>2</th>\n",
       "      <td>YAL004W</td>\n",
       "      <td>0.041000</td>\n",
       "      <td>0.960000</td>\n",
       "      <td>0.047000</td>\n",
       "      <td>0.858000</td>\n",
       "      <td>0.045000</td>\n",
       "      <td>0.480000</td>\n",
       "    </tr>\n",
       "    <tr>\n",
       "      <th>3</th>\n",
       "      <td>YAL005C</td>\n",
       "      <td>0.040000</td>\n",
       "      <td>0.921000</td>\n",
       "      <td>0.049000</td>\n",
       "      <td>0.866000</td>\n",
       "      <td>0.042000</td>\n",
       "      <td>0.330000</td>\n",
       "    </tr>\n",
       "    <tr>\n",
       "      <th>4</th>\n",
       "      <td>YAL007C</td>\n",
       "      <td>0.042000</td>\n",
       "      <td>1.047000</td>\n",
       "      <td>0.046000</td>\n",
       "      <td>0.831000</td>\n",
       "      <td>0.045000</td>\n",
       "      <td>0.456000</td>\n",
       "    </tr>\n",
       "  </tbody>\n",
       "</table>\n",
       "</div>"
      ],
      "text/plain": [
       "                      orf    h2o_t0   h2o_t16   chr5_t0  chr5_t16   chr1_t0  \\\n",
       "0  BY4743 Average (n=128)  0.041889  0.900905  0.041722  0.799802  0.041778   \n",
       "1                 YAL002W  0.039000  0.692000  0.043000  0.110000  0.043000   \n",
       "2                 YAL004W  0.041000  0.960000  0.047000  0.858000  0.045000   \n",
       "3                 YAL005C  0.040000  0.921000  0.049000  0.866000  0.042000   \n",
       "4                 YAL007C  0.042000  1.047000  0.046000  0.831000  0.045000   \n",
       "\n",
       "   chr1_t16  \n",
       "0  0.511198  \n",
       "1  0.097000  \n",
       "2  0.480000  \n",
       "3  0.330000  \n",
       "4  0.456000  "
      ]
     },
     "execution_count": 7,
     "metadata": {},
     "output_type": "execute_result"
    }
   ],
   "source": [
    "original_data.head()"
   ]
  },
  {
   "cell_type": "code",
   "execution_count": 8,
   "metadata": {},
   "outputs": [],
   "source": [
    "original_data['orf'] = original_data['orf'].astype(str)"
   ]
  },
  {
   "cell_type": "code",
   "execution_count": 9,
   "metadata": {},
   "outputs": [],
   "source": [
    "# Eliminate all white spaces & capitalize\n",
    "original_data['orf'] = clean_orf(original_data['orf'])"
   ]
  },
  {
   "cell_type": "code",
   "execution_count": 10,
   "metadata": {},
   "outputs": [],
   "source": [
    "# If possible, fix typos, omissions, etc.\n",
    "original_data.loc[original_data['orf'].str.contains('BY4743AVERAGEN128'),'orf'] = 'WT'"
   ]
  },
  {
   "cell_type": "code",
   "execution_count": 11,
   "metadata": {},
   "outputs": [],
   "source": [
    "# Translate to ORFs \n",
    "original_data['orf'] = translate_sc(original_data['orf'], to='orf')"
   ]
  },
  {
   "cell_type": "code",
   "execution_count": 12,
   "metadata": {},
   "outputs": [],
   "source": [
    "# Make sure everything translated ok\n",
    "t = looks_like_orf(original_data['orf'])"
   ]
  },
  {
   "cell_type": "code",
   "execution_count": 13,
   "metadata": {},
   "outputs": [
    {
     "name": "stdout",
     "output_type": "stream",
     "text": [
      "            orf    h2o_t0   h2o_t16   chr5_t0  chr5_t16   chr1_t0  chr1_t16\n",
      "index_input                                                                \n",
      "0            WT  0.041889  0.900905  0.041722  0.799802  0.041778  0.511198\n"
     ]
    }
   ],
   "source": [
    "print(original_data.loc[~t,])"
   ]
  },
  {
   "cell_type": "code",
   "execution_count": 14,
   "metadata": {},
   "outputs": [],
   "source": [
    "# Normalize by t16 by t0, treated vs untreated and mut vs wt\n",
    "original_data['h2o_ratio'] = original_data['h2o_t16'] / original_data['h2o_t0']\n",
    "original_data['chr5_ratio'] = original_data['chr5_t16'] / original_data['chr5_t0']\n",
    "original_data['chr1_ratio'] = original_data['chr1_t16'] / original_data['chr1_t0']"
   ]
  },
  {
   "cell_type": "code",
   "execution_count": 15,
   "metadata": {},
   "outputs": [],
   "source": [
    "original_data['h2o_ratio_wt'] = original_data['h2o_ratio'] / original_data.loc[original_data['orf']=='WT','h2o_ratio'].values\n",
    "original_data['chr5_ratio_wt'] = original_data['chr5_ratio'] / original_data.loc[original_data['orf']=='WT','chr5_ratio'].values\n",
    "original_data['chr1_ratio_wt'] = original_data['chr1_ratio'] / original_data.loc[original_data['orf']=='WT','chr1_ratio'].values"
   ]
  },
  {
   "cell_type": "code",
   "execution_count": 16,
   "metadata": {},
   "outputs": [],
   "source": [
    "original_data['chr5_ratio_wt_unt'] = original_data['chr5_ratio_wt'] / original_data['h2o_ratio_wt']\n",
    "original_data['chr1_ratio_wt_unt'] = original_data['chr1_ratio_wt'] / original_data['h2o_ratio_wt']"
   ]
  },
  {
   "cell_type": "code",
   "execution_count": 17,
   "metadata": {},
   "outputs": [
    {
     "data": {
      "text/html": [
       "<div>\n",
       "<style scoped>\n",
       "    .dataframe tbody tr th:only-of-type {\n",
       "        vertical-align: middle;\n",
       "    }\n",
       "\n",
       "    .dataframe tbody tr th {\n",
       "        vertical-align: top;\n",
       "    }\n",
       "\n",
       "    .dataframe thead th {\n",
       "        text-align: right;\n",
       "    }\n",
       "</style>\n",
       "<table border=\"1\" class=\"dataframe\">\n",
       "  <thead>\n",
       "    <tr style=\"text-align: right;\">\n",
       "      <th></th>\n",
       "      <th>orf</th>\n",
       "      <th>h2o_t0</th>\n",
       "      <th>h2o_t16</th>\n",
       "      <th>chr5_t0</th>\n",
       "      <th>chr5_t16</th>\n",
       "      <th>chr1_t0</th>\n",
       "      <th>chr1_t16</th>\n",
       "      <th>h2o_ratio</th>\n",
       "      <th>chr5_ratio</th>\n",
       "      <th>chr1_ratio</th>\n",
       "      <th>h2o_ratio_wt</th>\n",
       "      <th>chr5_ratio_wt</th>\n",
       "      <th>chr1_ratio_wt</th>\n",
       "      <th>chr5_ratio_wt_unt</th>\n",
       "      <th>chr1_ratio_wt_unt</th>\n",
       "    </tr>\n",
       "    <tr>\n",
       "      <th>index_input</th>\n",
       "      <th></th>\n",
       "      <th></th>\n",
       "      <th></th>\n",
       "      <th></th>\n",
       "      <th></th>\n",
       "      <th></th>\n",
       "      <th></th>\n",
       "      <th></th>\n",
       "      <th></th>\n",
       "      <th></th>\n",
       "      <th></th>\n",
       "      <th></th>\n",
       "      <th></th>\n",
       "      <th></th>\n",
       "      <th></th>\n",
       "    </tr>\n",
       "  </thead>\n",
       "  <tbody>\n",
       "    <tr>\n",
       "      <th>0</th>\n",
       "      <td>WT</td>\n",
       "      <td>0.041889</td>\n",
       "      <td>0.900905</td>\n",
       "      <td>0.041722</td>\n",
       "      <td>0.799802</td>\n",
       "      <td>0.041778</td>\n",
       "      <td>0.511198</td>\n",
       "      <td>21.507010</td>\n",
       "      <td>19.169679</td>\n",
       "      <td>12.236132</td>\n",
       "      <td>1.000000</td>\n",
       "      <td>1.000000</td>\n",
       "      <td>1.000000</td>\n",
       "      <td>1.000000</td>\n",
       "      <td>1.000000</td>\n",
       "    </tr>\n",
       "    <tr>\n",
       "      <th>1</th>\n",
       "      <td>YAL002W</td>\n",
       "      <td>0.039000</td>\n",
       "      <td>0.692000</td>\n",
       "      <td>0.043000</td>\n",
       "      <td>0.110000</td>\n",
       "      <td>0.043000</td>\n",
       "      <td>0.097000</td>\n",
       "      <td>17.743590</td>\n",
       "      <td>2.558140</td>\n",
       "      <td>2.255814</td>\n",
       "      <td>0.825014</td>\n",
       "      <td>0.133447</td>\n",
       "      <td>0.184357</td>\n",
       "      <td>0.161751</td>\n",
       "      <td>0.223459</td>\n",
       "    </tr>\n",
       "    <tr>\n",
       "      <th>2</th>\n",
       "      <td>YAL004W</td>\n",
       "      <td>0.041000</td>\n",
       "      <td>0.960000</td>\n",
       "      <td>0.047000</td>\n",
       "      <td>0.858000</td>\n",
       "      <td>0.045000</td>\n",
       "      <td>0.480000</td>\n",
       "      <td>23.414634</td>\n",
       "      <td>18.255319</td>\n",
       "      <td>10.666667</td>\n",
       "      <td>1.088698</td>\n",
       "      <td>0.952302</td>\n",
       "      <td>0.871735</td>\n",
       "      <td>0.874716</td>\n",
       "      <td>0.800714</td>\n",
       "    </tr>\n",
       "    <tr>\n",
       "      <th>3</th>\n",
       "      <td>YAL005C</td>\n",
       "      <td>0.040000</td>\n",
       "      <td>0.921000</td>\n",
       "      <td>0.049000</td>\n",
       "      <td>0.866000</td>\n",
       "      <td>0.042000</td>\n",
       "      <td>0.330000</td>\n",
       "      <td>23.025000</td>\n",
       "      <td>17.673469</td>\n",
       "      <td>7.857143</td>\n",
       "      <td>1.070581</td>\n",
       "      <td>0.921949</td>\n",
       "      <td>0.642126</td>\n",
       "      <td>0.861167</td>\n",
       "      <td>0.599792</td>\n",
       "    </tr>\n",
       "    <tr>\n",
       "      <th>4</th>\n",
       "      <td>YAL007C</td>\n",
       "      <td>0.042000</td>\n",
       "      <td>1.047000</td>\n",
       "      <td>0.046000</td>\n",
       "      <td>0.831000</td>\n",
       "      <td>0.045000</td>\n",
       "      <td>0.456000</td>\n",
       "      <td>24.928571</td>\n",
       "      <td>18.065217</td>\n",
       "      <td>10.133333</td>\n",
       "      <td>1.159091</td>\n",
       "      <td>0.942385</td>\n",
       "      <td>0.828148</td>\n",
       "      <td>0.813038</td>\n",
       "      <td>0.714481</td>\n",
       "    </tr>\n",
       "  </tbody>\n",
       "</table>\n",
       "</div>"
      ],
      "text/plain": [
       "                 orf    h2o_t0   h2o_t16   chr5_t0  chr5_t16   chr1_t0  \\\n",
       "index_input                                                              \n",
       "0                 WT  0.041889  0.900905  0.041722  0.799802  0.041778   \n",
       "1            YAL002W  0.039000  0.692000  0.043000  0.110000  0.043000   \n",
       "2            YAL004W  0.041000  0.960000  0.047000  0.858000  0.045000   \n",
       "3            YAL005C  0.040000  0.921000  0.049000  0.866000  0.042000   \n",
       "4            YAL007C  0.042000  1.047000  0.046000  0.831000  0.045000   \n",
       "\n",
       "             chr1_t16  h2o_ratio  chr5_ratio  chr1_ratio  h2o_ratio_wt  \\\n",
       "index_input                                                              \n",
       "0            0.511198  21.507010   19.169679   12.236132      1.000000   \n",
       "1            0.097000  17.743590    2.558140    2.255814      0.825014   \n",
       "2            0.480000  23.414634   18.255319   10.666667      1.088698   \n",
       "3            0.330000  23.025000   17.673469    7.857143      1.070581   \n",
       "4            0.456000  24.928571   18.065217   10.133333      1.159091   \n",
       "\n",
       "             chr5_ratio_wt  chr1_ratio_wt  chr5_ratio_wt_unt  \\\n",
       "index_input                                                    \n",
       "0                 1.000000       1.000000           1.000000   \n",
       "1                 0.133447       0.184357           0.161751   \n",
       "2                 0.952302       0.871735           0.874716   \n",
       "3                 0.921949       0.642126           0.861167   \n",
       "4                 0.942385       0.828148           0.813038   \n",
       "\n",
       "             chr1_ratio_wt_unt  \n",
       "index_input                     \n",
       "0                     1.000000  \n",
       "1                     0.223459  \n",
       "2                     0.800714  \n",
       "3                     0.599792  \n",
       "4                     0.714481  "
      ]
     },
     "execution_count": 17,
     "metadata": {},
     "output_type": "execute_result"
    }
   ],
   "source": [
    "original_data.head()"
   ]
  },
  {
   "cell_type": "code",
   "execution_count": 18,
   "metadata": {},
   "outputs": [],
   "source": [
    "# If the same strain is present more than once, average its values\n",
    "data = original_data.groupby('orf')[['chr5_ratio_wt_unt','chr1_ratio_wt_unt']].mean()"
   ]
  },
  {
   "cell_type": "code",
   "execution_count": 19,
   "metadata": {},
   "outputs": [],
   "source": [
    "data.drop(index='WT', inplace=True)"
   ]
  },
  {
   "cell_type": "code",
   "execution_count": 20,
   "metadata": {},
   "outputs": [
    {
     "name": "stdout",
     "output_type": "stream",
     "text": [
      "Final data dimensions: 4841 x 2\n"
     ]
    }
   ],
   "source": [
    "print('Final data dimensions: %d x %d' % (data.shape))"
   ]
  },
  {
   "cell_type": "code",
   "execution_count": 21,
   "metadata": {},
   "outputs": [
    {
     "data": {
      "text/html": [
       "<div>\n",
       "<style scoped>\n",
       "    .dataframe tbody tr th:only-of-type {\n",
       "        vertical-align: middle;\n",
       "    }\n",
       "\n",
       "    .dataframe tbody tr th {\n",
       "        vertical-align: top;\n",
       "    }\n",
       "\n",
       "    .dataframe thead th {\n",
       "        text-align: right;\n",
       "    }\n",
       "</style>\n",
       "<table border=\"1\" class=\"dataframe\">\n",
       "  <thead>\n",
       "    <tr style=\"text-align: right;\">\n",
       "      <th></th>\n",
       "      <th>chr5_ratio_wt_unt</th>\n",
       "      <th>chr1_ratio_wt_unt</th>\n",
       "    </tr>\n",
       "    <tr>\n",
       "      <th>orf</th>\n",
       "      <th></th>\n",
       "      <th></th>\n",
       "    </tr>\n",
       "  </thead>\n",
       "  <tbody>\n",
       "    <tr>\n",
       "      <th>YAL002W</th>\n",
       "      <td>0.161751</td>\n",
       "      <td>0.223459</td>\n",
       "    </tr>\n",
       "    <tr>\n",
       "      <th>YAL004W</th>\n",
       "      <td>0.874716</td>\n",
       "      <td>0.800714</td>\n",
       "    </tr>\n",
       "    <tr>\n",
       "      <th>YAL005C</th>\n",
       "      <td>0.861167</td>\n",
       "      <td>0.599792</td>\n",
       "    </tr>\n",
       "    <tr>\n",
       "      <th>YAL007C</th>\n",
       "      <td>0.813038</td>\n",
       "      <td>0.714481</td>\n",
       "    </tr>\n",
       "    <tr>\n",
       "      <th>YAL008W</th>\n",
       "      <td>0.770730</td>\n",
       "      <td>0.708292</td>\n",
       "    </tr>\n",
       "  </tbody>\n",
       "</table>\n",
       "</div>"
      ],
      "text/plain": [
       "         chr5_ratio_wt_unt  chr1_ratio_wt_unt\n",
       "orf                                          \n",
       "YAL002W           0.161751           0.223459\n",
       "YAL004W           0.874716           0.800714\n",
       "YAL005C           0.861167           0.599792\n",
       "YAL007C           0.813038           0.714481\n",
       "YAL008W           0.770730           0.708292"
      ]
     },
     "execution_count": 21,
     "metadata": {},
     "output_type": "execute_result"
    }
   ],
   "source": [
    "data.head()"
   ]
  },
  {
   "cell_type": "markdown",
   "metadata": {},
   "source": [
    "# Prepare the final dataset"
   ]
  },
  {
   "cell_type": "code",
   "execution_count": 22,
   "metadata": {},
   "outputs": [],
   "source": [
    "dataset_ids = [16447, 16446]"
   ]
  },
  {
   "cell_type": "code",
   "execution_count": 23,
   "metadata": {},
   "outputs": [],
   "source": [
    "datasets = datasets.reindex(index=dataset_ids)"
   ]
  },
  {
   "cell_type": "code",
   "execution_count": 24,
   "metadata": {},
   "outputs": [],
   "source": [
    "lst = [datasets.index.values, ['value']*datasets.shape[0]]\n",
    "tuples = list(zip(*lst))\n",
    "idx = pd.MultiIndex.from_tuples(tuples, names=['dataset_id','data_type'])\n",
    "data.columns = idx"
   ]
  },
  {
   "cell_type": "code",
   "execution_count": 25,
   "metadata": {},
   "outputs": [
    {
     "data": {
      "text/html": [
       "<div>\n",
       "<style scoped>\n",
       "    .dataframe tbody tr th:only-of-type {\n",
       "        vertical-align: middle;\n",
       "    }\n",
       "\n",
       "    .dataframe tbody tr th {\n",
       "        vertical-align: top;\n",
       "    }\n",
       "\n",
       "    .dataframe thead tr th {\n",
       "        text-align: left;\n",
       "    }\n",
       "\n",
       "    .dataframe thead tr:last-of-type th {\n",
       "        text-align: right;\n",
       "    }\n",
       "</style>\n",
       "<table border=\"1\" class=\"dataframe\">\n",
       "  <thead>\n",
       "    <tr>\n",
       "      <th>dataset_id</th>\n",
       "      <th>16447</th>\n",
       "      <th>16446</th>\n",
       "    </tr>\n",
       "    <tr>\n",
       "      <th>data_type</th>\n",
       "      <th>value</th>\n",
       "      <th>value</th>\n",
       "    </tr>\n",
       "    <tr>\n",
       "      <th>orf</th>\n",
       "      <th></th>\n",
       "      <th></th>\n",
       "    </tr>\n",
       "  </thead>\n",
       "  <tbody>\n",
       "    <tr>\n",
       "      <th>YAL002W</th>\n",
       "      <td>0.161751</td>\n",
       "      <td>0.223459</td>\n",
       "    </tr>\n",
       "    <tr>\n",
       "      <th>YAL004W</th>\n",
       "      <td>0.874716</td>\n",
       "      <td>0.800714</td>\n",
       "    </tr>\n",
       "    <tr>\n",
       "      <th>YAL005C</th>\n",
       "      <td>0.861167</td>\n",
       "      <td>0.599792</td>\n",
       "    </tr>\n",
       "    <tr>\n",
       "      <th>YAL007C</th>\n",
       "      <td>0.813038</td>\n",
       "      <td>0.714481</td>\n",
       "    </tr>\n",
       "    <tr>\n",
       "      <th>YAL008W</th>\n",
       "      <td>0.770730</td>\n",
       "      <td>0.708292</td>\n",
       "    </tr>\n",
       "  </tbody>\n",
       "</table>\n",
       "</div>"
      ],
      "text/plain": [
       "dataset_id     16447     16446\n",
       "data_type      value     value\n",
       "orf                           \n",
       "YAL002W     0.161751  0.223459\n",
       "YAL004W     0.874716  0.800714\n",
       "YAL005C     0.861167  0.599792\n",
       "YAL007C     0.813038  0.714481\n",
       "YAL008W     0.770730  0.708292"
      ]
     },
     "execution_count": 25,
     "metadata": {},
     "output_type": "execute_result"
    }
   ],
   "source": [
    "data.head()"
   ]
  },
  {
   "cell_type": "markdown",
   "metadata": {},
   "source": [
    "## Subset to the genes currently in SGD"
   ]
  },
  {
   "cell_type": "code",
   "execution_count": 26,
   "metadata": {},
   "outputs": [
    {
     "name": "stdout",
     "output_type": "stream",
     "text": [
      "ORFs missing from SGD: 23\n"
     ]
    }
   ],
   "source": [
    "genes = pd.read_csv(path_to_genes, sep='\\t', index_col='id')\n",
    "genes = genes.reset_index().set_index('systematic_name')\n",
    "gene_ids = genes.reindex(index=data.index.values)['id'].values\n",
    "num_missing = np.sum(np.isnan(gene_ids))\n",
    "print('ORFs missing from SGD: %d' % num_missing)"
   ]
  },
  {
   "cell_type": "code",
   "execution_count": 27,
   "metadata": {},
   "outputs": [],
   "source": [
    "data['gene_id'] = gene_ids\n",
    "data = data.loc[data['gene_id'].notnull()]\n",
    "data['gene_id'] = data['gene_id'].astype(int)\n",
    "data = data.reset_index().set_index(['gene_id','orf'])"
   ]
  },
  {
   "cell_type": "code",
   "execution_count": 28,
   "metadata": {},
   "outputs": [
    {
     "data": {
      "text/html": [
       "<div>\n",
       "<style scoped>\n",
       "    .dataframe tbody tr th:only-of-type {\n",
       "        vertical-align: middle;\n",
       "    }\n",
       "\n",
       "    .dataframe tbody tr th {\n",
       "        vertical-align: top;\n",
       "    }\n",
       "\n",
       "    .dataframe thead tr th {\n",
       "        text-align: left;\n",
       "    }\n",
       "\n",
       "    .dataframe thead tr:last-of-type th {\n",
       "        text-align: right;\n",
       "    }\n",
       "</style>\n",
       "<table border=\"1\" class=\"dataframe\">\n",
       "  <thead>\n",
       "    <tr>\n",
       "      <th></th>\n",
       "      <th>dataset_id</th>\n",
       "      <th>16447</th>\n",
       "      <th>16446</th>\n",
       "    </tr>\n",
       "    <tr>\n",
       "      <th></th>\n",
       "      <th>data_type</th>\n",
       "      <th>value</th>\n",
       "      <th>value</th>\n",
       "    </tr>\n",
       "    <tr>\n",
       "      <th>gene_id</th>\n",
       "      <th>orf</th>\n",
       "      <th></th>\n",
       "      <th></th>\n",
       "    </tr>\n",
       "  </thead>\n",
       "  <tbody>\n",
       "    <tr>\n",
       "      <th>2</th>\n",
       "      <th>YAL002W</th>\n",
       "      <td>0.161751</td>\n",
       "      <td>0.223459</td>\n",
       "    </tr>\n",
       "    <tr>\n",
       "      <th>1863</th>\n",
       "      <th>YAL004W</th>\n",
       "      <td>0.874716</td>\n",
       "      <td>0.800714</td>\n",
       "    </tr>\n",
       "    <tr>\n",
       "      <th>4</th>\n",
       "      <th>YAL005C</th>\n",
       "      <td>0.861167</td>\n",
       "      <td>0.599792</td>\n",
       "    </tr>\n",
       "    <tr>\n",
       "      <th>5</th>\n",
       "      <th>YAL007C</th>\n",
       "      <td>0.813038</td>\n",
       "      <td>0.714481</td>\n",
       "    </tr>\n",
       "    <tr>\n",
       "      <th>6</th>\n",
       "      <th>YAL008W</th>\n",
       "      <td>0.770730</td>\n",
       "      <td>0.708292</td>\n",
       "    </tr>\n",
       "  </tbody>\n",
       "</table>\n",
       "</div>"
      ],
      "text/plain": [
       "dataset_id          16447     16446\n",
       "data_type           value     value\n",
       "gene_id orf                        \n",
       "2       YAL002W  0.161751  0.223459\n",
       "1863    YAL004W  0.874716  0.800714\n",
       "4       YAL005C  0.861167  0.599792\n",
       "5       YAL007C  0.813038  0.714481\n",
       "6       YAL008W  0.770730  0.708292"
      ]
     },
     "execution_count": 28,
     "metadata": {},
     "output_type": "execute_result"
    }
   ],
   "source": [
    "data.head()"
   ]
  },
  {
   "cell_type": "markdown",
   "metadata": {},
   "source": [
    "# Normalize"
   ]
  },
  {
   "cell_type": "code",
   "execution_count": 29,
   "metadata": {},
   "outputs": [],
   "source": [
    "data_norm = normalize_phenotypic_scores(data, has_tested=True)"
   ]
  },
  {
   "cell_type": "code",
   "execution_count": 30,
   "metadata": {},
   "outputs": [],
   "source": [
    "# Assign proper column names\n",
    "lst = [datasets.index.values, ['valuez']*datasets.shape[0]]\n",
    "tuples = list(zip(*lst))\n",
    "idx = pd.MultiIndex.from_tuples(tuples, names=['dataset_id','data_type'])\n",
    "data_norm.columns = idx"
   ]
  },
  {
   "cell_type": "code",
   "execution_count": 31,
   "metadata": {},
   "outputs": [],
   "source": [
    "data_norm[data.isnull()] = np.nan\n",
    "data_all = data.join(data_norm)"
   ]
  },
  {
   "cell_type": "code",
   "execution_count": 32,
   "metadata": {},
   "outputs": [
    {
     "data": {
      "text/html": [
       "<div>\n",
       "<style scoped>\n",
       "    .dataframe tbody tr th:only-of-type {\n",
       "        vertical-align: middle;\n",
       "    }\n",
       "\n",
       "    .dataframe tbody tr th {\n",
       "        vertical-align: top;\n",
       "    }\n",
       "\n",
       "    .dataframe thead tr th {\n",
       "        text-align: left;\n",
       "    }\n",
       "\n",
       "    .dataframe thead tr:last-of-type th {\n",
       "        text-align: right;\n",
       "    }\n",
       "</style>\n",
       "<table border=\"1\" class=\"dataframe\">\n",
       "  <thead>\n",
       "    <tr>\n",
       "      <th></th>\n",
       "      <th>dataset_id</th>\n",
       "      <th>16447</th>\n",
       "      <th>16446</th>\n",
       "    </tr>\n",
       "    <tr>\n",
       "      <th></th>\n",
       "      <th>data_type</th>\n",
       "      <th>value</th>\n",
       "      <th>value</th>\n",
       "    </tr>\n",
       "    <tr>\n",
       "      <th>gene_id</th>\n",
       "      <th>orf</th>\n",
       "      <th></th>\n",
       "      <th></th>\n",
       "    </tr>\n",
       "  </thead>\n",
       "  <tbody>\n",
       "    <tr>\n",
       "      <th>2</th>\n",
       "      <th>YAL002W</th>\n",
       "      <td>0.161751</td>\n",
       "      <td>0.223459</td>\n",
       "    </tr>\n",
       "    <tr>\n",
       "      <th>1863</th>\n",
       "      <th>YAL004W</th>\n",
       "      <td>0.874716</td>\n",
       "      <td>0.800714</td>\n",
       "    </tr>\n",
       "    <tr>\n",
       "      <th>4</th>\n",
       "      <th>YAL005C</th>\n",
       "      <td>0.861167</td>\n",
       "      <td>0.599792</td>\n",
       "    </tr>\n",
       "    <tr>\n",
       "      <th>5</th>\n",
       "      <th>YAL007C</th>\n",
       "      <td>0.813038</td>\n",
       "      <td>0.714481</td>\n",
       "    </tr>\n",
       "    <tr>\n",
       "      <th>6</th>\n",
       "      <th>YAL008W</th>\n",
       "      <td>0.770730</td>\n",
       "      <td>0.708292</td>\n",
       "    </tr>\n",
       "  </tbody>\n",
       "</table>\n",
       "</div>"
      ],
      "text/plain": [
       "dataset_id          16447     16446\n",
       "data_type           value     value\n",
       "gene_id orf                        \n",
       "2       YAL002W  0.161751  0.223459\n",
       "1863    YAL004W  0.874716  0.800714\n",
       "4       YAL005C  0.861167  0.599792\n",
       "5       YAL007C  0.813038  0.714481\n",
       "6       YAL008W  0.770730  0.708292"
      ]
     },
     "execution_count": 32,
     "metadata": {},
     "output_type": "execute_result"
    }
   ],
   "source": [
    "data.head()"
   ]
  },
  {
   "cell_type": "markdown",
   "metadata": {},
   "source": [
    "# Print out"
   ]
  },
  {
   "cell_type": "code",
   "execution_count": 33,
   "metadata": {},
   "outputs": [],
   "source": [
    "for f in ['value','valuez']:\n",
    "    df = data_all.xs(f, level='data_type', axis=1).copy()\n",
    "    df.columns = datasets['name'].values\n",
    "    df = df.droplevel('gene_id', axis=0)\n",
    "    df.to_csv(paper_name + '_' + f + '.txt', sep='\\t')"
   ]
  },
  {
   "cell_type": "markdown",
   "metadata": {},
   "source": [
    "# Save to DB"
   ]
  },
  {
   "cell_type": "code",
   "execution_count": 34,
   "metadata": {},
   "outputs": [],
   "source": [
    "from IO.save_data_to_db3 import *"
   ]
  },
  {
   "cell_type": "code",
   "execution_count": 35,
   "metadata": {},
   "outputs": [
    {
     "name": "stderr",
     "output_type": "stream",
     "text": [
      "  0%|          | 0/2 [00:00<?, ?it/s]"
     ]
    },
    {
     "name": "stdout",
     "output_type": "stream",
     "text": [
      "Deleting all datasets for PMID 27146641...\n",
      "Inserting the new data...\n"
     ]
    },
    {
     "name": "stderr",
     "output_type": "stream",
     "text": [
      "100%|██████████| 2/2 [00:13<00:00,  6.96s/it]"
     ]
    },
    {
     "name": "stdout",
     "output_type": "stream",
     "text": [
      "Updating the data_modified_on field...\n"
     ]
    },
    {
     "name": "stderr",
     "output_type": "stream",
     "text": [
      "\n"
     ]
    }
   ],
   "source": [
    "save_data_to_db(data_all, paper_pmid)"
   ]
  },
  {
   "cell_type": "code",
   "execution_count": null,
   "metadata": {},
   "outputs": [],
   "source": []
  }
 ],
 "metadata": {
  "kernelspec": {
   "display_name": "yp-data",
   "language": "python",
   "name": "yp-data"
  },
  "language_info": {
   "codemirror_mode": {
    "name": "ipython",
    "version": 3
   },
   "file_extension": ".py",
   "mimetype": "text/x-python",
   "name": "python",
   "nbconvert_exporter": "python",
   "pygments_lexer": "ipython3",
   "version": "3.7.7"
  }
 },
 "nbformat": 4,
 "nbformat_minor": 4
}
