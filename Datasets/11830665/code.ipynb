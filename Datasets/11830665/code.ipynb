{
 "cells": [
  {
   "cell_type": "code",
   "execution_count": 1,
   "metadata": {},
   "outputs": [],
   "source": [
    "%run ../../Utils/yp_utils.py"
   ]
  },
  {
   "cell_type": "markdown",
   "metadata": {},
   "source": [
    "# Initial setup"
   ]
  },
  {
   "cell_type": "code",
   "execution_count": 2,
   "metadata": {},
   "outputs": [],
   "source": [
    "paper_pmid = 11830665\n",
    "paper_name = 'fleming_blackman_2002' "
   ]
  },
  {
   "cell_type": "code",
   "execution_count": 3,
   "metadata": {},
   "outputs": [],
   "source": [
    "datasets = pd.read_csv('extras/YeastPhenome_' + str(paper_pmid) + '_datasets_list.txt', sep='\\t', header=None, names=['dataset_id', 'name'])"
   ]
  },
  {
   "cell_type": "code",
   "execution_count": 4,
   "metadata": {},
   "outputs": [],
   "source": [
    "datasets.set_index('dataset_id', inplace=True)"
   ]
  },
  {
   "cell_type": "markdown",
   "metadata": {},
   "source": [
    "# Load & process the data"
   ]
  },
  {
   "cell_type": "code",
   "execution_count": 5,
   "metadata": {},
   "outputs": [],
   "source": [
    "files = ['hit_data.txt','hit_data2.txt']"
   ]
  },
  {
   "cell_type": "code",
   "execution_count": 64,
   "metadata": {},
   "outputs": [
    {
     "name": "stdout",
     "output_type": "stream",
     "text": [
      "Original data dimensions: 53 x 3\n",
      "  genenames  ps-341  ps-519\n",
      "0        wt    1300    1200\n",
      "1      rpn4      50      10\n",
      "2     rpn10     200      40\n",
      "3      pre9     650     150\n",
      "4     apg17     250     120\n",
      "            genenames  ps-341  ps-519 gene orf\n",
      "index_input                                   \n",
      "0                  wt    1300    1200   WT  WT\n",
      "(52, 2)\n",
      "Original data dimensions: 7 x 1\n",
      "  genenames\n",
      "0   ydr136c\n",
      "1      ypt6\n",
      "2      ric1\n",
      "3      bem4\n",
      "4      yme1\n",
      "Empty DataFrame\n",
      "Columns: [genenames, gene, orf]\n",
      "Index: []\n",
      "(7, 2)\n"
     ]
    }
   ],
   "source": [
    "original_data_list = []\n",
    "for ixf, f in enumerate(files):\n",
    "    original_data = pd.read_csv('raw_data/' + f, sep='\\t')\n",
    "    print('Original data dimensions: %d x %d' % (original_data.shape))\n",
    "    print(original_data.head())\n",
    "    original_data['gene'] = original_data['genenames'].astype(str)\n",
    "    original_data['gene'] = clean_genename(original_data['gene'])\n",
    "    original_data['orf'] = translate_sc(original_data['gene'], to='orf')\n",
    "    # Make sure everything translated ok\n",
    "    t = looks_like_orf(original_data['orf'])\n",
    "    print(original_data.loc[~t,])\n",
    "    \n",
    "    original_data.set_index('orf', inplace=True)\n",
    "    \n",
    "    if ixf == 1:\n",
    "        data_cols = ['ps-519','ps-341']\n",
    "        for c in data_cols:\n",
    "            original_data[c] = 1\n",
    "    else:\n",
    "        data_cols = ['ps-519','ps-341']\n",
    "        original_data[data_cols] = original_data[data_cols].apply(pd.to_numeric, axis=1, errors='coerce')\n",
    "        \n",
    "        wt = original_data.loc['WT',data_cols]\n",
    "        \n",
    "        original_data[data_cols] = original_data[data_cols].subtract(wt, axis=1).divide(wt, axis=1)\n",
    "        original_data.drop(index='WT', inplace=True)\n",
    "        \n",
    "    original_data = original_data[data_cols].copy()\n",
    "    original_data = original_data.groupby(original_data.index).mean()\n",
    "    print(original_data.shape)\n",
    "    \n",
    "    original_data_list.append(original_data)"
   ]
  },
  {
   "cell_type": "code",
   "execution_count": 65,
   "metadata": {},
   "outputs": [],
   "source": [
    "original_data = pd.concat(original_data_list, axis=0)"
   ]
  },
  {
   "cell_type": "code",
   "execution_count": 66,
   "metadata": {},
   "outputs": [
    {
     "data": {
      "text/plain": [
       "(59, 2)"
      ]
     },
     "execution_count": 66,
     "metadata": {},
     "output_type": "execute_result"
    }
   ],
   "source": [
    "original_data.shape"
   ]
  },
  {
   "cell_type": "code",
   "execution_count": 67,
   "metadata": {},
   "outputs": [],
   "source": [
    "original_data = original_data.groupby(original_data.index).mean()"
   ]
  },
  {
   "cell_type": "code",
   "execution_count": 68,
   "metadata": {},
   "outputs": [
    {
     "data": {
      "text/plain": [
       "(59, 2)"
      ]
     },
     "execution_count": 68,
     "metadata": {},
     "output_type": "execute_result"
    }
   ],
   "source": [
    "original_data.shape"
   ]
  },
  {
   "cell_type": "markdown",
   "metadata": {},
   "source": [
    "# Load & process tested strains"
   ]
  },
  {
   "cell_type": "code",
   "execution_count": 69,
   "metadata": {},
   "outputs": [],
   "source": [
    "tested = pd.read_excel('raw_data/Table 2 (web supplement).xlsx', sheet_name='Sheet1', skiprows=4)"
   ]
  },
  {
   "cell_type": "code",
   "execution_count": 70,
   "metadata": {},
   "outputs": [
    {
     "data": {
      "text/html": [
       "<div>\n",
       "<style scoped>\n",
       "    .dataframe tbody tr th:only-of-type {\n",
       "        vertical-align: middle;\n",
       "    }\n",
       "\n",
       "    .dataframe tbody tr th {\n",
       "        vertical-align: top;\n",
       "    }\n",
       "\n",
       "    .dataframe thead th {\n",
       "        text-align: right;\n",
       "    }\n",
       "</style>\n",
       "<table border=\"1\" class=\"dataframe\">\n",
       "  <thead>\n",
       "    <tr style=\"text-align: right;\">\n",
       "      <th></th>\n",
       "      <th>ORF Name</th>\n",
       "      <th>Gene Name</th>\n",
       "      <th>Genomics</th>\n",
       "      <th>1 hr</th>\n",
       "      <th>2 hr</th>\n",
       "      <th>4 hr</th>\n",
       "      <th>1 hr.1</th>\n",
       "      <th>2 hr.1</th>\n",
       "      <th>4 hr.1</th>\n",
       "      <th>1 hr.2</th>\n",
       "      <th>...</th>\n",
       "      <th>2 hr.7</th>\n",
       "      <th>4 hr.7</th>\n",
       "      <th>2 hr.8</th>\n",
       "      <th>4 hr.8</th>\n",
       "      <th>1 hr.6</th>\n",
       "      <th>2 hr.9</th>\n",
       "      <th>4 hr.9</th>\n",
       "      <th>1 hr.7</th>\n",
       "      <th>2 hr.10</th>\n",
       "      <th>4 hr.10</th>\n",
       "    </tr>\n",
       "  </thead>\n",
       "  <tbody>\n",
       "    <tr>\n",
       "      <th>0</th>\n",
       "      <td>YAL001C</td>\n",
       "      <td>TFC3</td>\n",
       "      <td>NaN</td>\n",
       "      <td>0.832</td>\n",
       "      <td>0.967</td>\n",
       "      <td>0.966</td>\n",
       "      <td>0.886</td>\n",
       "      <td>1.129</td>\n",
       "      <td>0.654</td>\n",
       "      <td>1.061</td>\n",
       "      <td>...</td>\n",
       "      <td>0.960</td>\n",
       "      <td>1.413</td>\n",
       "      <td>0.817</td>\n",
       "      <td>1.381</td>\n",
       "      <td>0.958</td>\n",
       "      <td>1.155</td>\n",
       "      <td>1.083</td>\n",
       "      <td>1.121</td>\n",
       "      <td>1.068</td>\n",
       "      <td>0.838</td>\n",
       "    </tr>\n",
       "    <tr>\n",
       "      <th>1</th>\n",
       "      <td>YAL002W</td>\n",
       "      <td>VPS8</td>\n",
       "      <td>+</td>\n",
       "      <td>0.830</td>\n",
       "      <td>0.878</td>\n",
       "      <td>0.946</td>\n",
       "      <td>1.084</td>\n",
       "      <td>1.485</td>\n",
       "      <td>1.157</td>\n",
       "      <td>1.149</td>\n",
       "      <td>...</td>\n",
       "      <td>1.176</td>\n",
       "      <td>1.261</td>\n",
       "      <td>1.085</td>\n",
       "      <td>1.310</td>\n",
       "      <td>1.053</td>\n",
       "      <td>1.013</td>\n",
       "      <td>1.069</td>\n",
       "      <td>1.041</td>\n",
       "      <td>1.091</td>\n",
       "      <td>1.039</td>\n",
       "    </tr>\n",
       "    <tr>\n",
       "      <th>2</th>\n",
       "      <td>YAL003W</td>\n",
       "      <td>EFB1</td>\n",
       "      <td>NaN</td>\n",
       "      <td>0.931</td>\n",
       "      <td>0.894</td>\n",
       "      <td>0.969</td>\n",
       "      <td>0.932</td>\n",
       "      <td>0.796</td>\n",
       "      <td>0.982</td>\n",
       "      <td>0.724</td>\n",
       "      <td>...</td>\n",
       "      <td>0.900</td>\n",
       "      <td>1.268</td>\n",
       "      <td>0.832</td>\n",
       "      <td>0.918</td>\n",
       "      <td>0.943</td>\n",
       "      <td>0.806</td>\n",
       "      <td>0.987</td>\n",
       "      <td>0.729</td>\n",
       "      <td>0.726</td>\n",
       "      <td>1.038</td>\n",
       "    </tr>\n",
       "    <tr>\n",
       "      <th>3</th>\n",
       "      <td>YAL004W</td>\n",
       "      <td>YAL004W</td>\n",
       "      <td>+</td>\n",
       "      <td>NaN</td>\n",
       "      <td>NaN</td>\n",
       "      <td>NaN</td>\n",
       "      <td>NaN</td>\n",
       "      <td>NaN</td>\n",
       "      <td>NaN</td>\n",
       "      <td>NaN</td>\n",
       "      <td>...</td>\n",
       "      <td>NaN</td>\n",
       "      <td>NaN</td>\n",
       "      <td>NaN</td>\n",
       "      <td>NaN</td>\n",
       "      <td>NaN</td>\n",
       "      <td>NaN</td>\n",
       "      <td>NaN</td>\n",
       "      <td>NaN</td>\n",
       "      <td>NaN</td>\n",
       "      <td>NaN</td>\n",
       "    </tr>\n",
       "    <tr>\n",
       "      <th>4</th>\n",
       "      <td>YAL005C</td>\n",
       "      <td>SSA1</td>\n",
       "      <td>+</td>\n",
       "      <td>1.544</td>\n",
       "      <td>1.199</td>\n",
       "      <td>1.037</td>\n",
       "      <td>2.478</td>\n",
       "      <td>0.871</td>\n",
       "      <td>2.135</td>\n",
       "      <td>2.974</td>\n",
       "      <td>...</td>\n",
       "      <td>1.209</td>\n",
       "      <td>1.228</td>\n",
       "      <td>1.968</td>\n",
       "      <td>1.638</td>\n",
       "      <td>1.387</td>\n",
       "      <td>1.749</td>\n",
       "      <td>1.843</td>\n",
       "      <td>2.119</td>\n",
       "      <td>1.676</td>\n",
       "      <td>2.093</td>\n",
       "    </tr>\n",
       "  </tbody>\n",
       "</table>\n",
       "<p>5 rows × 33 columns</p>\n",
       "</div>"
      ],
      "text/plain": [
       "  ORF Name Gene Name Genomics   1 hr   2 hr   4 hr  1 hr.1  2 hr.1  4 hr.1  \\\n",
       "0  YAL001C      TFC3      NaN  0.832  0.967  0.966   0.886   1.129   0.654   \n",
       "1  YAL002W      VPS8        +  0.830  0.878  0.946   1.084   1.485   1.157   \n",
       "2  YAL003W      EFB1      NaN  0.931  0.894  0.969   0.932   0.796   0.982   \n",
       "3  YAL004W   YAL004W        +    NaN    NaN    NaN     NaN     NaN     NaN   \n",
       "4  YAL005C      SSA1        +  1.544  1.199  1.037   2.478   0.871   2.135   \n",
       "\n",
       "   1 hr.2  ...  2 hr.7  4 hr.7  2 hr.8  4 hr.8  1 hr.6  2 hr.9  4 hr.9  \\\n",
       "0   1.061  ...   0.960   1.413   0.817   1.381   0.958   1.155   1.083   \n",
       "1   1.149  ...   1.176   1.261   1.085   1.310   1.053   1.013   1.069   \n",
       "2   0.724  ...   0.900   1.268   0.832   0.918   0.943   0.806   0.987   \n",
       "3     NaN  ...     NaN     NaN     NaN     NaN     NaN     NaN     NaN   \n",
       "4   2.974  ...   1.209   1.228   1.968   1.638   1.387   1.749   1.843   \n",
       "\n",
       "   1 hr.7  2 hr.10  4 hr.10  \n",
       "0   1.121    1.068    0.838  \n",
       "1   1.041    1.091    1.039  \n",
       "2   0.729    0.726    1.038  \n",
       "3     NaN      NaN      NaN  \n",
       "4   2.119    1.676    2.093  \n",
       "\n",
       "[5 rows x 33 columns]"
      ]
     },
     "execution_count": 70,
     "metadata": {},
     "output_type": "execute_result"
    }
   ],
   "source": [
    "tested.head()"
   ]
  },
  {
   "cell_type": "code",
   "execution_count": 71,
   "metadata": {},
   "outputs": [
    {
     "data": {
      "text/plain": [
       "(6086, 33)"
      ]
     },
     "execution_count": 71,
     "metadata": {},
     "output_type": "execute_result"
    }
   ],
   "source": [
    "tested.shape"
   ]
  },
  {
   "cell_type": "code",
   "execution_count": 72,
   "metadata": {},
   "outputs": [
    {
     "data": {
      "text/plain": [
       "(4276, 33)"
      ]
     },
     "execution_count": 72,
     "metadata": {},
     "output_type": "execute_result"
    }
   ],
   "source": [
    "tested = tested.loc[tested['Genomics']=='+',:]\n",
    "tested.shape"
   ]
  },
  {
   "cell_type": "code",
   "execution_count": 73,
   "metadata": {},
   "outputs": [],
   "source": [
    "tested['orf'] = tested['ORF Name'].astype(str)"
   ]
  },
  {
   "cell_type": "code",
   "execution_count": 74,
   "metadata": {},
   "outputs": [],
   "source": [
    "tested['orf'] = clean_orf(tested['orf'])"
   ]
  },
  {
   "cell_type": "code",
   "execution_count": 75,
   "metadata": {},
   "outputs": [],
   "source": [
    "# Insert missing '-'\n",
    "tested['orf'] = tested['orf'].apply(lambda x: x[:7] + '-' + x[7] if len(x) == 8 else x)"
   ]
  },
  {
   "cell_type": "code",
   "execution_count": 76,
   "metadata": {},
   "outputs": [],
   "source": [
    "tested['orf'] = translate_sc(tested['orf'].values, to='orf')"
   ]
  },
  {
   "cell_type": "code",
   "execution_count": 77,
   "metadata": {},
   "outputs": [
    {
     "name": "stdout",
     "output_type": "stream",
     "text": [
      "Empty DataFrame\n",
      "Columns: [ORF Name, Gene Name, Genomics, 1 hr, 2 hr, 4 hr, 1 hr.1, 2 hr.1, 4 hr.1, 1 hr.2, 2 hr.2, 4 hr.2, 1 hr.3, 2 hr.3, 4 hr.3, 1 hr.4, 2 hr.4, 4 hr.4, 1 hr.5, 2 hr.5, 4 hr.5, 2 hr.6, 4 hr.6, 2 hr.7, 4 hr.7, 2 hr.8, 4 hr.8, 1 hr.6, 2 hr.9, 4 hr.9, 1 hr.7, 2 hr.10, 4 hr.10, orf]\n",
      "Index: []\n",
      "\n",
      "[0 rows x 34 columns]\n"
     ]
    }
   ],
   "source": [
    "# Make sure everything translated ok\n",
    "t = looks_like_orf(tested['orf'])\n",
    "print(tested.loc[~t,])"
   ]
  },
  {
   "cell_type": "code",
   "execution_count": 78,
   "metadata": {},
   "outputs": [],
   "source": [
    "tested_orfs = tested['orf'].unique()"
   ]
  },
  {
   "cell_type": "code",
   "execution_count": 79,
   "metadata": {},
   "outputs": [
    {
     "data": {
      "text/plain": [
       "['YDR300C', 'YLR423C']"
      ]
     },
     "execution_count": 79,
     "metadata": {},
     "output_type": "execute_result"
    }
   ],
   "source": [
    "missing = [orf for orf in original_data.index.values if orf not in tested_orfs]\n",
    "missing"
   ]
  },
  {
   "cell_type": "code",
   "execution_count": 80,
   "metadata": {},
   "outputs": [],
   "source": [
    "tested_orfs = list(tested_orfs) + missing"
   ]
  },
  {
   "cell_type": "code",
   "execution_count": 81,
   "metadata": {},
   "outputs": [],
   "source": [
    "original_data = original_data.reindex(index=tested_orfs, fill_value=0)"
   ]
  },
  {
   "cell_type": "markdown",
   "metadata": {},
   "source": [
    "# Prepare the final dataset"
   ]
  },
  {
   "cell_type": "code",
   "execution_count": 82,
   "metadata": {},
   "outputs": [],
   "source": [
    "data = original_data.copy()"
   ]
  },
  {
   "cell_type": "code",
   "execution_count": 83,
   "metadata": {},
   "outputs": [],
   "source": [
    "dataset_ids = [1308, 471]\n",
    "datasets = datasets.reindex(index=dataset_ids)"
   ]
  },
  {
   "cell_type": "code",
   "execution_count": 84,
   "metadata": {},
   "outputs": [],
   "source": [
    "lst = [datasets.index.values, ['value']*datasets.shape[0]]\n",
    "tuples = list(zip(*lst))\n",
    "idx = pd.MultiIndex.from_tuples(tuples, names=['dataset_id','data_type'])\n",
    "data.columns = idx"
   ]
  },
  {
   "cell_type": "code",
   "execution_count": 85,
   "metadata": {},
   "outputs": [
    {
     "data": {
      "text/html": [
       "<div>\n",
       "<style scoped>\n",
       "    .dataframe tbody tr th:only-of-type {\n",
       "        vertical-align: middle;\n",
       "    }\n",
       "\n",
       "    .dataframe tbody tr th {\n",
       "        vertical-align: top;\n",
       "    }\n",
       "\n",
       "    .dataframe thead tr th {\n",
       "        text-align: left;\n",
       "    }\n",
       "\n",
       "    .dataframe thead tr:last-of-type th {\n",
       "        text-align: right;\n",
       "    }\n",
       "</style>\n",
       "<table border=\"1\" class=\"dataframe\">\n",
       "  <thead>\n",
       "    <tr>\n",
       "      <th>dataset_id</th>\n",
       "      <th>1308</th>\n",
       "      <th>471</th>\n",
       "    </tr>\n",
       "    <tr>\n",
       "      <th>data_type</th>\n",
       "      <th>value</th>\n",
       "      <th>value</th>\n",
       "    </tr>\n",
       "    <tr>\n",
       "      <th>orf</th>\n",
       "      <th></th>\n",
       "      <th></th>\n",
       "    </tr>\n",
       "  </thead>\n",
       "  <tbody>\n",
       "    <tr>\n",
       "      <th>YAL002W</th>\n",
       "      <td>0.0</td>\n",
       "      <td>0.0</td>\n",
       "    </tr>\n",
       "    <tr>\n",
       "      <th>YAL004W</th>\n",
       "      <td>0.0</td>\n",
       "      <td>0.0</td>\n",
       "    </tr>\n",
       "    <tr>\n",
       "      <th>YAL005C</th>\n",
       "      <td>0.0</td>\n",
       "      <td>0.0</td>\n",
       "    </tr>\n",
       "    <tr>\n",
       "      <th>YAL007C</th>\n",
       "      <td>0.0</td>\n",
       "      <td>0.0</td>\n",
       "    </tr>\n",
       "    <tr>\n",
       "      <th>YAL008W</th>\n",
       "      <td>0.0</td>\n",
       "      <td>0.0</td>\n",
       "    </tr>\n",
       "  </tbody>\n",
       "</table>\n",
       "</div>"
      ],
      "text/plain": [
       "dataset_id  1308  471 \n",
       "data_type  value value\n",
       "orf                   \n",
       "YAL002W      0.0   0.0\n",
       "YAL004W      0.0   0.0\n",
       "YAL005C      0.0   0.0\n",
       "YAL007C      0.0   0.0\n",
       "YAL008W      0.0   0.0"
      ]
     },
     "execution_count": 85,
     "metadata": {},
     "output_type": "execute_result"
    }
   ],
   "source": [
    "data.head()"
   ]
  },
  {
   "cell_type": "markdown",
   "metadata": {},
   "source": [
    "## Subset to the genes currently in SGD"
   ]
  },
  {
   "cell_type": "code",
   "execution_count": 86,
   "metadata": {},
   "outputs": [
    {
     "name": "stdout",
     "output_type": "stream",
     "text": [
      "ORFs missing from SGD: 18\n"
     ]
    }
   ],
   "source": [
    "genes = pd.read_csv(path_to_genes, sep='\\t', index_col='id')\n",
    "genes = genes.reset_index().set_index('systematic_name')\n",
    "gene_ids = genes.reindex(index=data.index.values)['id'].values\n",
    "num_missing = np.sum(np.isnan(gene_ids))\n",
    "print('ORFs missing from SGD: %d' % num_missing)"
   ]
  },
  {
   "cell_type": "code",
   "execution_count": 87,
   "metadata": {},
   "outputs": [
    {
     "data": {
      "text/html": [
       "<div>\n",
       "<style scoped>\n",
       "    .dataframe tbody tr th:only-of-type {\n",
       "        vertical-align: middle;\n",
       "    }\n",
       "\n",
       "    .dataframe tbody tr th {\n",
       "        vertical-align: top;\n",
       "    }\n",
       "\n",
       "    .dataframe thead tr th {\n",
       "        text-align: left;\n",
       "    }\n",
       "\n",
       "    .dataframe thead tr:last-of-type th {\n",
       "        text-align: right;\n",
       "    }\n",
       "</style>\n",
       "<table border=\"1\" class=\"dataframe\">\n",
       "  <thead>\n",
       "    <tr>\n",
       "      <th></th>\n",
       "      <th>dataset_id</th>\n",
       "      <th>1308</th>\n",
       "      <th>471</th>\n",
       "    </tr>\n",
       "    <tr>\n",
       "      <th></th>\n",
       "      <th>data_type</th>\n",
       "      <th>value</th>\n",
       "      <th>value</th>\n",
       "    </tr>\n",
       "    <tr>\n",
       "      <th>gene_id</th>\n",
       "      <th>orf</th>\n",
       "      <th></th>\n",
       "      <th></th>\n",
       "    </tr>\n",
       "  </thead>\n",
       "  <tbody>\n",
       "    <tr>\n",
       "      <th>2</th>\n",
       "      <th>YAL002W</th>\n",
       "      <td>0.0</td>\n",
       "      <td>0.0</td>\n",
       "    </tr>\n",
       "    <tr>\n",
       "      <th>1863</th>\n",
       "      <th>YAL004W</th>\n",
       "      <td>0.0</td>\n",
       "      <td>0.0</td>\n",
       "    </tr>\n",
       "    <tr>\n",
       "      <th>4</th>\n",
       "      <th>YAL005C</th>\n",
       "      <td>0.0</td>\n",
       "      <td>0.0</td>\n",
       "    </tr>\n",
       "    <tr>\n",
       "      <th>5</th>\n",
       "      <th>YAL007C</th>\n",
       "      <td>0.0</td>\n",
       "      <td>0.0</td>\n",
       "    </tr>\n",
       "    <tr>\n",
       "      <th>6</th>\n",
       "      <th>YAL008W</th>\n",
       "      <td>0.0</td>\n",
       "      <td>0.0</td>\n",
       "    </tr>\n",
       "  </tbody>\n",
       "</table>\n",
       "</div>"
      ],
      "text/plain": [
       "dataset_id       1308  471 \n",
       "data_type       value value\n",
       "gene_id orf                \n",
       "2       YAL002W   0.0   0.0\n",
       "1863    YAL004W   0.0   0.0\n",
       "4       YAL005C   0.0   0.0\n",
       "5       YAL007C   0.0   0.0\n",
       "6       YAL008W   0.0   0.0"
      ]
     },
     "execution_count": 87,
     "metadata": {},
     "output_type": "execute_result"
    }
   ],
   "source": [
    "data['gene_id'] = gene_ids\n",
    "data = data.loc[data['gene_id'].notnull()]\n",
    "data['gene_id'] = data['gene_id'].astype(int)\n",
    "data = data.reset_index().set_index(['gene_id','orf'])\n",
    "\n",
    "data.head()"
   ]
  },
  {
   "cell_type": "markdown",
   "metadata": {},
   "source": [
    "# Normalize"
   ]
  },
  {
   "cell_type": "code",
   "execution_count": 88,
   "metadata": {},
   "outputs": [],
   "source": [
    "data_norm = normalize_phenotypic_scores(data, has_tested=True)"
   ]
  },
  {
   "cell_type": "code",
   "execution_count": 89,
   "metadata": {},
   "outputs": [],
   "source": [
    "# Assign proper column names\n",
    "lst = [datasets.index.values, ['valuez']*datasets.shape[0]]\n",
    "tuples = list(zip(*lst))\n",
    "idx = pd.MultiIndex.from_tuples(tuples, names=['dataset_id','data_type'])\n",
    "data_norm.columns = idx"
   ]
  },
  {
   "cell_type": "code",
   "execution_count": 90,
   "metadata": {},
   "outputs": [
    {
     "data": {
      "text/html": [
       "<div>\n",
       "<style scoped>\n",
       "    .dataframe tbody tr th:only-of-type {\n",
       "        vertical-align: middle;\n",
       "    }\n",
       "\n",
       "    .dataframe tbody tr th {\n",
       "        vertical-align: top;\n",
       "    }\n",
       "\n",
       "    .dataframe thead tr th {\n",
       "        text-align: left;\n",
       "    }\n",
       "\n",
       "    .dataframe thead tr:last-of-type th {\n",
       "        text-align: right;\n",
       "    }\n",
       "</style>\n",
       "<table border=\"1\" class=\"dataframe\">\n",
       "  <thead>\n",
       "    <tr>\n",
       "      <th></th>\n",
       "      <th>dataset_id</th>\n",
       "      <th>1308</th>\n",
       "      <th>471</th>\n",
       "      <th>1308</th>\n",
       "      <th>471</th>\n",
       "    </tr>\n",
       "    <tr>\n",
       "      <th></th>\n",
       "      <th>data_type</th>\n",
       "      <th>value</th>\n",
       "      <th>value</th>\n",
       "      <th>valuez</th>\n",
       "      <th>valuez</th>\n",
       "    </tr>\n",
       "    <tr>\n",
       "      <th>gene_id</th>\n",
       "      <th>orf</th>\n",
       "      <th></th>\n",
       "      <th></th>\n",
       "      <th></th>\n",
       "      <th></th>\n",
       "    </tr>\n",
       "  </thead>\n",
       "  <tbody>\n",
       "    <tr>\n",
       "      <th>2</th>\n",
       "      <th>YAL002W</th>\n",
       "      <td>0.0</td>\n",
       "      <td>0.0</td>\n",
       "      <td>0.059668</td>\n",
       "      <td>-0.108176</td>\n",
       "    </tr>\n",
       "    <tr>\n",
       "      <th>1863</th>\n",
       "      <th>YAL004W</th>\n",
       "      <td>0.0</td>\n",
       "      <td>0.0</td>\n",
       "      <td>0.059668</td>\n",
       "      <td>-0.108176</td>\n",
       "    </tr>\n",
       "    <tr>\n",
       "      <th>4</th>\n",
       "      <th>YAL005C</th>\n",
       "      <td>0.0</td>\n",
       "      <td>0.0</td>\n",
       "      <td>0.059668</td>\n",
       "      <td>-0.108176</td>\n",
       "    </tr>\n",
       "    <tr>\n",
       "      <th>5</th>\n",
       "      <th>YAL007C</th>\n",
       "      <td>0.0</td>\n",
       "      <td>0.0</td>\n",
       "      <td>0.059668</td>\n",
       "      <td>-0.108176</td>\n",
       "    </tr>\n",
       "    <tr>\n",
       "      <th>6</th>\n",
       "      <th>YAL008W</th>\n",
       "      <td>0.0</td>\n",
       "      <td>0.0</td>\n",
       "      <td>0.059668</td>\n",
       "      <td>-0.108176</td>\n",
       "    </tr>\n",
       "  </tbody>\n",
       "</table>\n",
       "</div>"
      ],
      "text/plain": [
       "dataset_id       1308  471       1308      471 \n",
       "data_type       value value    valuez    valuez\n",
       "gene_id orf                                    \n",
       "2       YAL002W   0.0   0.0  0.059668 -0.108176\n",
       "1863    YAL004W   0.0   0.0  0.059668 -0.108176\n",
       "4       YAL005C   0.0   0.0  0.059668 -0.108176\n",
       "5       YAL007C   0.0   0.0  0.059668 -0.108176\n",
       "6       YAL008W   0.0   0.0  0.059668 -0.108176"
      ]
     },
     "execution_count": 90,
     "metadata": {},
     "output_type": "execute_result"
    }
   ],
   "source": [
    "data_norm[data.isnull()] = np.nan\n",
    "data_all = data.join(data_norm)\n",
    "\n",
    "data_all.head()"
   ]
  },
  {
   "cell_type": "markdown",
   "metadata": {},
   "source": [
    "# Print out"
   ]
  },
  {
   "cell_type": "code",
   "execution_count": 91,
   "metadata": {},
   "outputs": [],
   "source": [
    "for f in ['value','valuez']:\n",
    "    df = data_all.xs(f, level='data_type', axis=1).copy()\n",
    "    df.columns = datasets['name'].values\n",
    "    df = df.droplevel('gene_id', axis=0)\n",
    "    df.to_csv(paper_name + '_' + f + '.txt', sep='\\t')"
   ]
  },
  {
   "cell_type": "markdown",
   "metadata": {},
   "source": [
    "# Save to DB"
   ]
  },
  {
   "cell_type": "code",
   "execution_count": 92,
   "metadata": {},
   "outputs": [],
   "source": [
    "from IO.save_data_to_db3 import *"
   ]
  },
  {
   "cell_type": "code",
   "execution_count": 93,
   "metadata": {},
   "outputs": [
    {
     "name": "stderr",
     "output_type": "stream",
     "text": [
      "  0%|          | 0/2 [00:00<?, ?it/s]"
     ]
    },
    {
     "name": "stdout",
     "output_type": "stream",
     "text": [
      "Deleting all datasets for PMID 11830665...\n",
      "Inserting the new data...\n"
     ]
    },
    {
     "name": "stderr",
     "output_type": "stream",
     "text": [
      "100%|██████████| 2/2 [00:13<00:00,  6.77s/it]"
     ]
    },
    {
     "name": "stdout",
     "output_type": "stream",
     "text": [
      "Updating the data_modified_on field...\n"
     ]
    },
    {
     "name": "stderr",
     "output_type": "stream",
     "text": [
      "\n"
     ]
    }
   ],
   "source": [
    "save_data_to_db(data_all, paper_pmid)"
   ]
  },
  {
   "cell_type": "code",
   "execution_count": null,
   "metadata": {},
   "outputs": [],
   "source": []
  }
 ],
 "metadata": {
  "kernelspec": {
   "display_name": "yp-data",
   "language": "python",
   "name": "yp-data"
  },
  "language_info": {
   "codemirror_mode": {
    "name": "ipython",
    "version": 3
   },
   "file_extension": ".py",
   "mimetype": "text/x-python",
   "name": "python",
   "nbconvert_exporter": "python",
   "pygments_lexer": "ipython3",
   "version": "3.7.7"
  }
 },
 "nbformat": 4,
 "nbformat_minor": 4
}
