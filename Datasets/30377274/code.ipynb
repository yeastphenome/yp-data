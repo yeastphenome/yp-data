{
 "cells": [
  {
   "cell_type": "code",
   "execution_count": 1,
   "metadata": {},
   "outputs": [],
   "source": [
    "%run ../yp_utils.py"
   ]
  },
  {
   "cell_type": "markdown",
   "metadata": {},
   "source": [
    "# Initial setup"
   ]
  },
  {
   "cell_type": "code",
   "execution_count": 2,
   "metadata": {},
   "outputs": [],
   "source": [
    "paper_pmid = 30377274\n",
    "paper_name = 'perez_samper_verstrepen_2018' "
   ]
  },
  {
   "cell_type": "code",
   "execution_count": 3,
   "metadata": {},
   "outputs": [],
   "source": [
    "datasets = pd.read_csv('extras/YeastPhenome_' + str(paper_pmid) + '_datasets_list.txt', sep='\\t', header=None, names=['dataset_id', 'name'])"
   ]
  },
  {
   "cell_type": "code",
   "execution_count": 4,
   "metadata": {},
   "outputs": [],
   "source": [
    "datasets.set_index('dataset_id', inplace=True)"
   ]
  },
  {
   "cell_type": "markdown",
   "metadata": {},
   "source": [
    "# Load & process the data"
   ]
  },
  {
   "cell_type": "code",
   "execution_count": 5,
   "metadata": {},
   "outputs": [],
   "source": [
    "original_data = pd.read_excel('raw_data/RawData_BarSeq_Gemma.xlsx', sheet_name='Calculate_extendedGRs', skiprows=23)"
   ]
  },
  {
   "cell_type": "code",
   "execution_count": 6,
   "metadata": {},
   "outputs": [
    {
     "name": "stdout",
     "output_type": "stream",
     "text": [
      "Original data dimensions: 4997 x 125\n"
     ]
    }
   ],
   "source": [
    "print('Original data dimensions: %d x %d' % (original_data.shape))"
   ]
  },
  {
   "cell_type": "code",
   "execution_count": 7,
   "metadata": {},
   "outputs": [
    {
     "data": {
      "text/html": [
       "<div>\n",
       "<style scoped>\n",
       "    .dataframe tbody tr th:only-of-type {\n",
       "        vertical-align: middle;\n",
       "    }\n",
       "\n",
       "    .dataframe tbody tr th {\n",
       "        vertical-align: top;\n",
       "    }\n",
       "\n",
       "    .dataframe thead th {\n",
       "        text-align: right;\n",
       "    }\n",
       "</style>\n",
       "<table border=\"1\" class=\"dataframe\">\n",
       "  <thead>\n",
       "    <tr style=\"text-align: right;\">\n",
       "      <th></th>\n",
       "      <th>Unnamed: 0</th>\n",
       "      <th>Unnamed: 1</th>\n",
       "      <th>NameGen</th>\n",
       "      <th>NameTriv</th>\n",
       "      <th>Class_Stab_Glu_Up_A</th>\n",
       "      <th>Class_Stab_Glu_Up_B</th>\n",
       "      <th>Class_Stab_Gal_Up_A</th>\n",
       "      <th>Class_Stab_Gal_Up_B</th>\n",
       "      <th>Class_Grad_Gal_Up_A</th>\n",
       "      <th>Class_Grad_Gal_Up_B</th>\n",
       "      <th>...</th>\n",
       "      <th>NameGen.5</th>\n",
       "      <th>NameTriv.5</th>\n",
       "      <th>ExtRatio_Stab_Gal_Up_A.1</th>\n",
       "      <th>ExtRatio_Stab_Gal_Up_B.1</th>\n",
       "      <th>ExtRatio_Grad_Gal_Up_A.1</th>\n",
       "      <th>ExtRatio_Grad_Gal_Up_B.1</th>\n",
       "      <th>ExtRatio_Stab_Gal_Dn_A.1</th>\n",
       "      <th>ExtRatio_Stab_Gal_Dn_B.1</th>\n",
       "      <th>ExtRatio_Grad_Gal_Dn_A.1</th>\n",
       "      <th>ExtRatio_Grad_Gal_Dn_B.1</th>\n",
       "    </tr>\n",
       "  </thead>\n",
       "  <tbody>\n",
       "    <tr>\n",
       "      <th>0</th>\n",
       "      <td>NaN</td>\n",
       "      <td>NaN</td>\n",
       "      <td>YAL002W</td>\n",
       "      <td>VPS8</td>\n",
       "      <td>A</td>\n",
       "      <td>A</td>\n",
       "      <td>A</td>\n",
       "      <td>A</td>\n",
       "      <td>A</td>\n",
       "      <td>A</td>\n",
       "      <td>...</td>\n",
       "      <td>YAL002W</td>\n",
       "      <td>VPS8</td>\n",
       "      <td>0.557287</td>\n",
       "      <td>0.612309</td>\n",
       "      <td>NaN</td>\n",
       "      <td>NaN</td>\n",
       "      <td>NaN</td>\n",
       "      <td>NaN</td>\n",
       "      <td>NaN</td>\n",
       "      <td>NaN</td>\n",
       "    </tr>\n",
       "    <tr>\n",
       "      <th>1</th>\n",
       "      <td>NaN</td>\n",
       "      <td>NaN</td>\n",
       "      <td>YAL004W</td>\n",
       "      <td>YAL004W</td>\n",
       "      <td>A</td>\n",
       "      <td>A</td>\n",
       "      <td>A</td>\n",
       "      <td>A</td>\n",
       "      <td>A</td>\n",
       "      <td>A</td>\n",
       "      <td>...</td>\n",
       "      <td>YAL004W</td>\n",
       "      <td>YAL004W</td>\n",
       "      <td>0.686534</td>\n",
       "      <td>0.706888</td>\n",
       "      <td>NaN</td>\n",
       "      <td>NaN</td>\n",
       "      <td>NaN</td>\n",
       "      <td>NaN</td>\n",
       "      <td>NaN</td>\n",
       "      <td>NaN</td>\n",
       "    </tr>\n",
       "    <tr>\n",
       "      <th>2</th>\n",
       "      <td>NaN</td>\n",
       "      <td>NaN</td>\n",
       "      <td>YAL005C</td>\n",
       "      <td>SSA1</td>\n",
       "      <td>A</td>\n",
       "      <td>A</td>\n",
       "      <td>A</td>\n",
       "      <td>A</td>\n",
       "      <td>A</td>\n",
       "      <td>A</td>\n",
       "      <td>...</td>\n",
       "      <td>YAL005C</td>\n",
       "      <td>SSA1</td>\n",
       "      <td>0.687902</td>\n",
       "      <td>0.699443</td>\n",
       "      <td>NaN</td>\n",
       "      <td>NaN</td>\n",
       "      <td>NaN</td>\n",
       "      <td>NaN</td>\n",
       "      <td>NaN</td>\n",
       "      <td>NaN</td>\n",
       "    </tr>\n",
       "    <tr>\n",
       "      <th>3</th>\n",
       "      <td>NaN</td>\n",
       "      <td>NaN</td>\n",
       "      <td>YAL007C</td>\n",
       "      <td>ERP2</td>\n",
       "      <td>A</td>\n",
       "      <td>A</td>\n",
       "      <td>A</td>\n",
       "      <td>A</td>\n",
       "      <td>A</td>\n",
       "      <td>A</td>\n",
       "      <td>...</td>\n",
       "      <td>YAL007C</td>\n",
       "      <td>ERP2</td>\n",
       "      <td>0.687088</td>\n",
       "      <td>0.693878</td>\n",
       "      <td>NaN</td>\n",
       "      <td>NaN</td>\n",
       "      <td>NaN</td>\n",
       "      <td>NaN</td>\n",
       "      <td>NaN</td>\n",
       "      <td>NaN</td>\n",
       "    </tr>\n",
       "    <tr>\n",
       "      <th>4</th>\n",
       "      <td>NaN</td>\n",
       "      <td>NaN</td>\n",
       "      <td>YAL008W</td>\n",
       "      <td>FUN14</td>\n",
       "      <td>A</td>\n",
       "      <td>A</td>\n",
       "      <td>A</td>\n",
       "      <td>A</td>\n",
       "      <td>A</td>\n",
       "      <td>A</td>\n",
       "      <td>...</td>\n",
       "      <td>YAL008W</td>\n",
       "      <td>FUN14</td>\n",
       "      <td>0.664669</td>\n",
       "      <td>0.688202</td>\n",
       "      <td>NaN</td>\n",
       "      <td>NaN</td>\n",
       "      <td>NaN</td>\n",
       "      <td>NaN</td>\n",
       "      <td>NaN</td>\n",
       "      <td>NaN</td>\n",
       "    </tr>\n",
       "  </tbody>\n",
       "</table>\n",
       "<p>5 rows × 125 columns</p>\n",
       "</div>"
      ],
      "text/plain": [
       "   Unnamed: 0  Unnamed: 1  NameGen NameTriv Class_Stab_Glu_Up_A  \\\n",
       "0         NaN         NaN  YAL002W     VPS8                   A   \n",
       "1         NaN         NaN  YAL004W  YAL004W                   A   \n",
       "2         NaN         NaN  YAL005C     SSA1                   A   \n",
       "3         NaN         NaN  YAL007C     ERP2                   A   \n",
       "4         NaN         NaN  YAL008W    FUN14                   A   \n",
       "\n",
       "  Class_Stab_Glu_Up_B Class_Stab_Gal_Up_A Class_Stab_Gal_Up_B  \\\n",
       "0                   A                   A                   A   \n",
       "1                   A                   A                   A   \n",
       "2                   A                   A                   A   \n",
       "3                   A                   A                   A   \n",
       "4                   A                   A                   A   \n",
       "\n",
       "  Class_Grad_Gal_Up_A Class_Grad_Gal_Up_B  ... NameGen.5 NameTriv.5  \\\n",
       "0                   A                   A  ...   YAL002W       VPS8   \n",
       "1                   A                   A  ...   YAL004W    YAL004W   \n",
       "2                   A                   A  ...   YAL005C       SSA1   \n",
       "3                   A                   A  ...   YAL007C       ERP2   \n",
       "4                   A                   A  ...   YAL008W      FUN14   \n",
       "\n",
       "  ExtRatio_Stab_Gal_Up_A.1 ExtRatio_Stab_Gal_Up_B.1 ExtRatio_Grad_Gal_Up_A.1  \\\n",
       "0                 0.557287                 0.612309                      NaN   \n",
       "1                 0.686534                 0.706888                      NaN   \n",
       "2                 0.687902                 0.699443                      NaN   \n",
       "3                 0.687088                 0.693878                      NaN   \n",
       "4                 0.664669                 0.688202                      NaN   \n",
       "\n",
       "  ExtRatio_Grad_Gal_Up_B.1  ExtRatio_Stab_Gal_Dn_A.1  \\\n",
       "0                      NaN                       NaN   \n",
       "1                      NaN                       NaN   \n",
       "2                      NaN                       NaN   \n",
       "3                      NaN                       NaN   \n",
       "4                      NaN                       NaN   \n",
       "\n",
       "   ExtRatio_Stab_Gal_Dn_B.1  ExtRatio_Grad_Gal_Dn_A.1  \\\n",
       "0                       NaN                       NaN   \n",
       "1                       NaN                       NaN   \n",
       "2                       NaN                       NaN   \n",
       "3                       NaN                       NaN   \n",
       "4                       NaN                       NaN   \n",
       "\n",
       "   ExtRatio_Grad_Gal_Dn_B.1  \n",
       "0                       NaN  \n",
       "1                       NaN  \n",
       "2                       NaN  \n",
       "3                       NaN  \n",
       "4                       NaN  \n",
       "\n",
       "[5 rows x 125 columns]"
      ]
     },
     "execution_count": 7,
     "metadata": {},
     "output_type": "execute_result"
    }
   ],
   "source": [
    "original_data.head()"
   ]
  },
  {
   "cell_type": "code",
   "execution_count": 17,
   "metadata": {},
   "outputs": [],
   "source": [
    "original_data['orf'] = original_data['NameGen'].astype(str)"
   ]
  },
  {
   "cell_type": "code",
   "execution_count": 18,
   "metadata": {},
   "outputs": [],
   "source": [
    "original_data['orf'] = original_data['orf'].apply(lambda x: x.replace('_','-'))"
   ]
  },
  {
   "cell_type": "code",
   "execution_count": 19,
   "metadata": {},
   "outputs": [],
   "source": [
    "# Eliminate all white spaces & capitalize\n",
    "original_data['orf'] = clean_orf(original_data['orf'])"
   ]
  },
  {
   "cell_type": "code",
   "execution_count": 20,
   "metadata": {},
   "outputs": [],
   "source": [
    "# Translate to ORFs \n",
    "original_data['orf'] = translate_sc(original_data['orf'], to='orf')"
   ]
  },
  {
   "cell_type": "code",
   "execution_count": 21,
   "metadata": {},
   "outputs": [
    {
     "name": "stdout",
     "output_type": "stream",
     "text": [
      "Empty DataFrame\n",
      "Columns: [Unnamed: 0, Unnamed: 1, NameGen, NameTriv, Class_Stab_Glu_Up_A, Class_Stab_Glu_Up_B, Class_Stab_Gal_Up_A, Class_Stab_Gal_Up_B, Class_Grad_Gal_Up_A, Class_Grad_Gal_Up_B, Class_Stab_Glu_Dn_A, Class_Stab_Glu_Dn_B, Class_Stab_Gal_Dn_A, Class_Stab_Gal_Dn_B, Class_Grad_Gal_Dn_A, Class_Grad_Gal_Dn_B, GR_Stab_Glu_Up_A, GR_Stab_Glu_Up_B, GR_Stab_Gal_Up_A, GR_Stab_Gal_Up_B, GR_Grad_Gal_Up_A, GR_Grad_Gal_Up_B, GR_Stab_Glu_Dn_A, GR_Stab_Glu_Dn_B, GR_Stab_Gal_Dn_A, GR_Stab_Gal_Dn_B, GR_Grad_Gal_Dn_A, GR_Grad_Gal_Dn_B, Unnamed: 28, NameGen.1, NameTriv.1, InitFreq_Stab_Up, Unnamed: 32, Unnamed: 33, Unnamed: 34, Unnamed: 35, Unnamed: 36, InitFreq_Grad_Up, Unnamed: 38, Unnamed: 39, Unnamed: 40, Unnamed: 41, Unnamed: 42, InitFreq_Stab_Dn, Unnamed: 44, Unnamed: 45, Unnamed: 46, Unnamed: 47, Unnamed: 48, InitFreq_Grad_Dn, Unnamed: 50, Unnamed: 51, Unnamed: 52, Unnamed: 53, Unnamed: 54, Unnamed: 55, NameGen.2, NameTriv.2, FinalFreq_Stab_Glu_Up_A, FinalFreq_Stab_Glu_Up_B, FinalFreq_Stab_Gal_Up_A, FinalFreq_Stab_Gal_Up_B, FinalFreq_Grad_Gal_Up_A, FinalFreq_Grad_Gal_Up_B, FinalFreq_Stab_Glu_Dn_A, FinalFreq_Stab_Glu_Dn_B, FinalFreq_Stab_Gal_Dn_A, FinalFreq_Stab_Gal_Dn_B, FinalFreq_Grad_Gal_Dn_A, FinalFreq_Grad_Gal_Dn_B, Unnamed: 70, Unnamed: 71, Unnamed: 72, Unnamed: 73, Unnamed: 74, Unnamed: 75, Unnamed: 76, Unnamed: 77, Unnamed: 78, Unnamed: 79, Unnamed: 80, Unnamed: 81, NameGen.3, NameTriv.3, ExtGR_Stab_Glu_Up_A, ExtGR_Stab_Glu_Up_B, ExtGR_Stab_Gal_Up_A, ExtGR_Stab_Gal_Up_B, ExtGR_Grad_Gal_Up_A, ExtGR_Grad_Gal_Up_B, ExtGR_Stab_Glu_Dn_A, ExtGR_Stab_Glu_Dn_B, ExtGR_Stab_Gal_Dn_A, ExtGR_Stab_Gal_Dn_B, ExtGR_Grad_Gal_Dn_A, ExtGR_Grad_Gal_Dn_B, Unnamed: 96, Unnamed: 97, Unnamed: 98, Unnamed: 99, ...]\n",
      "Index: []\n",
      "\n",
      "[0 rows x 126 columns]\n"
     ]
    }
   ],
   "source": [
    "# Make sure everything translated ok\n",
    "t = looks_like_orf(original_data['orf'])\n",
    "print(original_data.loc[~t,])"
   ]
  },
  {
   "cell_type": "code",
   "execution_count": 22,
   "metadata": {},
   "outputs": [],
   "source": [
    "data_cols = [c for c in original_data.columns if c.startswith('GR')]"
   ]
  },
  {
   "cell_type": "code",
   "execution_count": 23,
   "metadata": {},
   "outputs": [
    {
     "data": {
      "text/plain": [
       "['GR_Stab_Glu_Up_A',\n",
       " 'GR_Stab_Glu_Up_B',\n",
       " 'GR_Stab_Gal_Up_A',\n",
       " 'GR_Stab_Gal_Up_B',\n",
       " 'GR_Grad_Gal_Up_A',\n",
       " 'GR_Grad_Gal_Up_B',\n",
       " 'GR_Stab_Glu_Dn_A',\n",
       " 'GR_Stab_Glu_Dn_B',\n",
       " 'GR_Stab_Gal_Dn_A',\n",
       " 'GR_Stab_Gal_Dn_B',\n",
       " 'GR_Grad_Gal_Dn_A',\n",
       " 'GR_Grad_Gal_Dn_B']"
      ]
     },
     "execution_count": 23,
     "metadata": {},
     "output_type": "execute_result"
    }
   ],
   "source": [
    "data_cols"
   ]
  },
  {
   "cell_type": "code",
   "execution_count": 24,
   "metadata": {},
   "outputs": [],
   "source": [
    "original_data.set_index('orf', inplace=True)"
   ]
  },
  {
   "cell_type": "code",
   "execution_count": 25,
   "metadata": {},
   "outputs": [],
   "source": [
    "original_data = original_data[data_cols].copy()"
   ]
  },
  {
   "cell_type": "code",
   "execution_count": 29,
   "metadata": {},
   "outputs": [],
   "source": [
    "# Average A and B, Up and Down\n",
    "cs = ['_'.join(c.split('_')[:3]) for c in data_cols]"
   ]
  },
  {
   "cell_type": "code",
   "execution_count": 31,
   "metadata": {},
   "outputs": [],
   "source": [
    "original_data.columns = cs\n",
    "original_data = original_data.groupby(original_data.columns, axis=1).mean()"
   ]
  },
  {
   "cell_type": "code",
   "execution_count": 32,
   "metadata": {},
   "outputs": [
    {
     "data": {
      "text/plain": [
       "(4997, 3)"
      ]
     },
     "execution_count": 32,
     "metadata": {},
     "output_type": "execute_result"
    }
   ],
   "source": [
    "original_data.shape"
   ]
  },
  {
   "cell_type": "code",
   "execution_count": 33,
   "metadata": {},
   "outputs": [],
   "source": [
    "original_data = original_data.groupby(original_data.index).mean()"
   ]
  },
  {
   "cell_type": "code",
   "execution_count": 34,
   "metadata": {},
   "outputs": [
    {
     "data": {
      "text/plain": [
       "(4961, 3)"
      ]
     },
     "execution_count": 34,
     "metadata": {},
     "output_type": "execute_result"
    }
   ],
   "source": [
    "original_data.shape"
   ]
  },
  {
   "cell_type": "code",
   "execution_count": 35,
   "metadata": {},
   "outputs": [
    {
     "data": {
      "text/html": [
       "<div>\n",
       "<style scoped>\n",
       "    .dataframe tbody tr th:only-of-type {\n",
       "        vertical-align: middle;\n",
       "    }\n",
       "\n",
       "    .dataframe tbody tr th {\n",
       "        vertical-align: top;\n",
       "    }\n",
       "\n",
       "    .dataframe thead th {\n",
       "        text-align: right;\n",
       "    }\n",
       "</style>\n",
       "<table border=\"1\" class=\"dataframe\">\n",
       "  <thead>\n",
       "    <tr style=\"text-align: right;\">\n",
       "      <th></th>\n",
       "      <th>GR_Grad_Gal</th>\n",
       "      <th>GR_Stab_Gal</th>\n",
       "      <th>GR_Stab_Glu</th>\n",
       "    </tr>\n",
       "    <tr>\n",
       "      <th>orf</th>\n",
       "      <th></th>\n",
       "      <th></th>\n",
       "      <th></th>\n",
       "    </tr>\n",
       "  </thead>\n",
       "  <tbody>\n",
       "    <tr>\n",
       "      <th>YAL002W</th>\n",
       "      <td>0.129686</td>\n",
       "      <td>0.136258</td>\n",
       "      <td>0.233565</td>\n",
       "    </tr>\n",
       "    <tr>\n",
       "      <th>YAL004W</th>\n",
       "      <td>0.128749</td>\n",
       "      <td>0.169507</td>\n",
       "      <td>0.243335</td>\n",
       "    </tr>\n",
       "    <tr>\n",
       "      <th>YAL005C</th>\n",
       "      <td>0.130646</td>\n",
       "      <td>0.169959</td>\n",
       "      <td>0.245045</td>\n",
       "    </tr>\n",
       "    <tr>\n",
       "      <th>YAL007C</th>\n",
       "      <td>0.139847</td>\n",
       "      <td>0.186705</td>\n",
       "      <td>0.270419</td>\n",
       "    </tr>\n",
       "    <tr>\n",
       "      <th>YAL008W</th>\n",
       "      <td>0.134678</td>\n",
       "      <td>0.169771</td>\n",
       "      <td>0.251057</td>\n",
       "    </tr>\n",
       "  </tbody>\n",
       "</table>\n",
       "</div>"
      ],
      "text/plain": [
       "         GR_Grad_Gal  GR_Stab_Gal  GR_Stab_Glu\n",
       "orf                                           \n",
       "YAL002W     0.129686     0.136258     0.233565\n",
       "YAL004W     0.128749     0.169507     0.243335\n",
       "YAL005C     0.130646     0.169959     0.245045\n",
       "YAL007C     0.139847     0.186705     0.270419\n",
       "YAL008W     0.134678     0.169771     0.251057"
      ]
     },
     "execution_count": 35,
     "metadata": {},
     "output_type": "execute_result"
    }
   ],
   "source": [
    "original_data.head()"
   ]
  },
  {
   "cell_type": "code",
   "execution_count": 48,
   "metadata": {},
   "outputs": [],
   "source": [
    "# Normalize gradual shift to glucose 5%\n",
    "original_data['GR_Grad_Gal'] = original_data['GR_Grad_Gal'] / original_data['GR_Stab_Glu']"
   ]
  },
  {
   "cell_type": "markdown",
   "metadata": {},
   "source": [
    "# Prepare the final dataset"
   ]
  },
  {
   "cell_type": "code",
   "execution_count": 49,
   "metadata": {},
   "outputs": [],
   "source": [
    "data = original_data.copy()"
   ]
  },
  {
   "cell_type": "code",
   "execution_count": 50,
   "metadata": {},
   "outputs": [],
   "source": [
    "dataset_ids = [21907, 21961, 21960]\n",
    "datasets = datasets.reindex(index=dataset_ids)"
   ]
  },
  {
   "cell_type": "code",
   "execution_count": 51,
   "metadata": {},
   "outputs": [],
   "source": [
    "lst = [datasets.index.values, ['value']*datasets.shape[0]]\n",
    "tuples = list(zip(*lst))\n",
    "idx = pd.MultiIndex.from_tuples(tuples, names=['dataset_id','data_type'])\n",
    "data.columns = idx"
   ]
  },
  {
   "cell_type": "code",
   "execution_count": 52,
   "metadata": {},
   "outputs": [
    {
     "data": {
      "text/html": [
       "<div>\n",
       "<style scoped>\n",
       "    .dataframe tbody tr th:only-of-type {\n",
       "        vertical-align: middle;\n",
       "    }\n",
       "\n",
       "    .dataframe tbody tr th {\n",
       "        vertical-align: top;\n",
       "    }\n",
       "\n",
       "    .dataframe thead tr th {\n",
       "        text-align: left;\n",
       "    }\n",
       "\n",
       "    .dataframe thead tr:last-of-type th {\n",
       "        text-align: right;\n",
       "    }\n",
       "</style>\n",
       "<table border=\"1\" class=\"dataframe\">\n",
       "  <thead>\n",
       "    <tr>\n",
       "      <th>dataset_id</th>\n",
       "      <th>21907</th>\n",
       "      <th>21961</th>\n",
       "      <th>21960</th>\n",
       "    </tr>\n",
       "    <tr>\n",
       "      <th>data_type</th>\n",
       "      <th>value</th>\n",
       "      <th>value</th>\n",
       "      <th>value</th>\n",
       "    </tr>\n",
       "    <tr>\n",
       "      <th>orf</th>\n",
       "      <th></th>\n",
       "      <th></th>\n",
       "      <th></th>\n",
       "    </tr>\n",
       "  </thead>\n",
       "  <tbody>\n",
       "    <tr>\n",
       "      <th>YAL002W</th>\n",
       "      <td>0.555246</td>\n",
       "      <td>0.136258</td>\n",
       "      <td>0.233565</td>\n",
       "    </tr>\n",
       "    <tr>\n",
       "      <th>YAL004W</th>\n",
       "      <td>0.529100</td>\n",
       "      <td>0.169507</td>\n",
       "      <td>0.243335</td>\n",
       "    </tr>\n",
       "    <tr>\n",
       "      <th>YAL005C</th>\n",
       "      <td>0.533151</td>\n",
       "      <td>0.169959</td>\n",
       "      <td>0.245045</td>\n",
       "    </tr>\n",
       "    <tr>\n",
       "      <th>YAL007C</th>\n",
       "      <td>0.517149</td>\n",
       "      <td>0.186705</td>\n",
       "      <td>0.270419</td>\n",
       "    </tr>\n",
       "    <tr>\n",
       "      <th>YAL008W</th>\n",
       "      <td>0.536442</td>\n",
       "      <td>0.169771</td>\n",
       "      <td>0.251057</td>\n",
       "    </tr>\n",
       "  </tbody>\n",
       "</table>\n",
       "</div>"
      ],
      "text/plain": [
       "dataset_id     21907     21961     21960\n",
       "data_type      value     value     value\n",
       "orf                                     \n",
       "YAL002W     0.555246  0.136258  0.233565\n",
       "YAL004W     0.529100  0.169507  0.243335\n",
       "YAL005C     0.533151  0.169959  0.245045\n",
       "YAL007C     0.517149  0.186705  0.270419\n",
       "YAL008W     0.536442  0.169771  0.251057"
      ]
     },
     "execution_count": 52,
     "metadata": {},
     "output_type": "execute_result"
    }
   ],
   "source": [
    "data.head()"
   ]
  },
  {
   "cell_type": "markdown",
   "metadata": {},
   "source": [
    "## Subset to the genes currently in SGD"
   ]
  },
  {
   "cell_type": "code",
   "execution_count": 53,
   "metadata": {},
   "outputs": [
    {
     "name": "stdout",
     "output_type": "stream",
     "text": [
      "ORFs missing from SGD: 23\n"
     ]
    }
   ],
   "source": [
    "genes = pd.read_csv(path_to_genes, sep='\\t', index_col='id')\n",
    "genes = genes.reset_index().set_index('systematic_name')\n",
    "gene_ids = genes.reindex(index=data.index.values)['id'].values\n",
    "num_missing = np.sum(np.isnan(gene_ids))\n",
    "print('ORFs missing from SGD: %d' % num_missing)"
   ]
  },
  {
   "cell_type": "code",
   "execution_count": 54,
   "metadata": {},
   "outputs": [
    {
     "data": {
      "text/html": [
       "<div>\n",
       "<style scoped>\n",
       "    .dataframe tbody tr th:only-of-type {\n",
       "        vertical-align: middle;\n",
       "    }\n",
       "\n",
       "    .dataframe tbody tr th {\n",
       "        vertical-align: top;\n",
       "    }\n",
       "\n",
       "    .dataframe thead tr th {\n",
       "        text-align: left;\n",
       "    }\n",
       "\n",
       "    .dataframe thead tr:last-of-type th {\n",
       "        text-align: right;\n",
       "    }\n",
       "</style>\n",
       "<table border=\"1\" class=\"dataframe\">\n",
       "  <thead>\n",
       "    <tr>\n",
       "      <th></th>\n",
       "      <th>dataset_id</th>\n",
       "      <th>21907</th>\n",
       "      <th>21961</th>\n",
       "      <th>21960</th>\n",
       "    </tr>\n",
       "    <tr>\n",
       "      <th></th>\n",
       "      <th>data_type</th>\n",
       "      <th>value</th>\n",
       "      <th>value</th>\n",
       "      <th>value</th>\n",
       "    </tr>\n",
       "    <tr>\n",
       "      <th>gene_id</th>\n",
       "      <th>orf</th>\n",
       "      <th></th>\n",
       "      <th></th>\n",
       "      <th></th>\n",
       "    </tr>\n",
       "  </thead>\n",
       "  <tbody>\n",
       "    <tr>\n",
       "      <th>2</th>\n",
       "      <th>YAL002W</th>\n",
       "      <td>0.555246</td>\n",
       "      <td>0.136258</td>\n",
       "      <td>0.233565</td>\n",
       "    </tr>\n",
       "    <tr>\n",
       "      <th>1863</th>\n",
       "      <th>YAL004W</th>\n",
       "      <td>0.529100</td>\n",
       "      <td>0.169507</td>\n",
       "      <td>0.243335</td>\n",
       "    </tr>\n",
       "    <tr>\n",
       "      <th>4</th>\n",
       "      <th>YAL005C</th>\n",
       "      <td>0.533151</td>\n",
       "      <td>0.169959</td>\n",
       "      <td>0.245045</td>\n",
       "    </tr>\n",
       "    <tr>\n",
       "      <th>5</th>\n",
       "      <th>YAL007C</th>\n",
       "      <td>0.517149</td>\n",
       "      <td>0.186705</td>\n",
       "      <td>0.270419</td>\n",
       "    </tr>\n",
       "    <tr>\n",
       "      <th>6</th>\n",
       "      <th>YAL008W</th>\n",
       "      <td>0.536442</td>\n",
       "      <td>0.169771</td>\n",
       "      <td>0.251057</td>\n",
       "    </tr>\n",
       "  </tbody>\n",
       "</table>\n",
       "</div>"
      ],
      "text/plain": [
       "dataset_id          21907     21961     21960\n",
       "data_type           value     value     value\n",
       "gene_id orf                                  \n",
       "2       YAL002W  0.555246  0.136258  0.233565\n",
       "1863    YAL004W  0.529100  0.169507  0.243335\n",
       "4       YAL005C  0.533151  0.169959  0.245045\n",
       "5       YAL007C  0.517149  0.186705  0.270419\n",
       "6       YAL008W  0.536442  0.169771  0.251057"
      ]
     },
     "execution_count": 54,
     "metadata": {},
     "output_type": "execute_result"
    }
   ],
   "source": [
    "data['gene_id'] = gene_ids\n",
    "data = data.loc[data['gene_id'].notnull()]\n",
    "data['gene_id'] = data['gene_id'].astype(int)\n",
    "data = data.reset_index().set_index(['gene_id','orf'])\n",
    "\n",
    "data.head()"
   ]
  },
  {
   "cell_type": "markdown",
   "metadata": {},
   "source": [
    "# Normalize"
   ]
  },
  {
   "cell_type": "code",
   "execution_count": 55,
   "metadata": {},
   "outputs": [],
   "source": [
    "data_norm = normalize_phenotypic_scores(data, has_tested=True)"
   ]
  },
  {
   "cell_type": "code",
   "execution_count": 56,
   "metadata": {},
   "outputs": [],
   "source": [
    "# Assign proper column names\n",
    "lst = [datasets.index.values, ['valuez']*datasets.shape[0]]\n",
    "tuples = list(zip(*lst))\n",
    "idx = pd.MultiIndex.from_tuples(tuples, names=['dataset_id','data_type'])\n",
    "data_norm.columns = idx"
   ]
  },
  {
   "cell_type": "code",
   "execution_count": 57,
   "metadata": {},
   "outputs": [
    {
     "data": {
      "text/html": [
       "<div>\n",
       "<style scoped>\n",
       "    .dataframe tbody tr th:only-of-type {\n",
       "        vertical-align: middle;\n",
       "    }\n",
       "\n",
       "    .dataframe tbody tr th {\n",
       "        vertical-align: top;\n",
       "    }\n",
       "\n",
       "    .dataframe thead tr th {\n",
       "        text-align: left;\n",
       "    }\n",
       "\n",
       "    .dataframe thead tr:last-of-type th {\n",
       "        text-align: right;\n",
       "    }\n",
       "</style>\n",
       "<table border=\"1\" class=\"dataframe\">\n",
       "  <thead>\n",
       "    <tr>\n",
       "      <th></th>\n",
       "      <th>dataset_id</th>\n",
       "      <th>21907</th>\n",
       "      <th>21961</th>\n",
       "      <th>21960</th>\n",
       "      <th>21907</th>\n",
       "      <th>21961</th>\n",
       "      <th>21960</th>\n",
       "    </tr>\n",
       "    <tr>\n",
       "      <th></th>\n",
       "      <th>data_type</th>\n",
       "      <th>value</th>\n",
       "      <th>value</th>\n",
       "      <th>value</th>\n",
       "      <th>valuez</th>\n",
       "      <th>valuez</th>\n",
       "      <th>valuez</th>\n",
       "    </tr>\n",
       "    <tr>\n",
       "      <th>gene_id</th>\n",
       "      <th>orf</th>\n",
       "      <th></th>\n",
       "      <th></th>\n",
       "      <th></th>\n",
       "      <th></th>\n",
       "      <th></th>\n",
       "      <th></th>\n",
       "    </tr>\n",
       "  </thead>\n",
       "  <tbody>\n",
       "    <tr>\n",
       "      <th>2</th>\n",
       "      <th>YAL002W</th>\n",
       "      <td>0.555246</td>\n",
       "      <td>0.136258</td>\n",
       "      <td>0.233565</td>\n",
       "      <td>0.629761</td>\n",
       "      <td>-3.277333</td>\n",
       "      <td>-1.009457</td>\n",
       "    </tr>\n",
       "    <tr>\n",
       "      <th>1863</th>\n",
       "      <th>YAL004W</th>\n",
       "      <td>0.529100</td>\n",
       "      <td>0.169507</td>\n",
       "      <td>0.243335</td>\n",
       "      <td>-0.332166</td>\n",
       "      <td>-0.165697</td>\n",
       "      <td>-0.457754</td>\n",
       "    </tr>\n",
       "    <tr>\n",
       "      <th>4</th>\n",
       "      <th>YAL005C</th>\n",
       "      <td>0.533151</td>\n",
       "      <td>0.169959</td>\n",
       "      <td>0.245045</td>\n",
       "      <td>-0.183133</td>\n",
       "      <td>-0.123391</td>\n",
       "      <td>-0.361201</td>\n",
       "    </tr>\n",
       "    <tr>\n",
       "      <th>5</th>\n",
       "      <th>YAL007C</th>\n",
       "      <td>0.517149</td>\n",
       "      <td>0.186705</td>\n",
       "      <td>0.270419</td>\n",
       "      <td>-0.771839</td>\n",
       "      <td>1.443754</td>\n",
       "      <td>1.071597</td>\n",
       "    </tr>\n",
       "    <tr>\n",
       "      <th>6</th>\n",
       "      <th>YAL008W</th>\n",
       "      <td>0.536442</td>\n",
       "      <td>0.169771</td>\n",
       "      <td>0.251057</td>\n",
       "      <td>-0.062047</td>\n",
       "      <td>-0.141035</td>\n",
       "      <td>-0.021709</td>\n",
       "    </tr>\n",
       "  </tbody>\n",
       "</table>\n",
       "</div>"
      ],
      "text/plain": [
       "dataset_id          21907     21961     21960     21907     21961     21960\n",
       "data_type           value     value     value    valuez    valuez    valuez\n",
       "gene_id orf                                                                \n",
       "2       YAL002W  0.555246  0.136258  0.233565  0.629761 -3.277333 -1.009457\n",
       "1863    YAL004W  0.529100  0.169507  0.243335 -0.332166 -0.165697 -0.457754\n",
       "4       YAL005C  0.533151  0.169959  0.245045 -0.183133 -0.123391 -0.361201\n",
       "5       YAL007C  0.517149  0.186705  0.270419 -0.771839  1.443754  1.071597\n",
       "6       YAL008W  0.536442  0.169771  0.251057 -0.062047 -0.141035 -0.021709"
      ]
     },
     "execution_count": 57,
     "metadata": {},
     "output_type": "execute_result"
    }
   ],
   "source": [
    "data_norm[data.isnull()] = np.nan\n",
    "data_all = data.join(data_norm)\n",
    "\n",
    "data_all.head()"
   ]
  },
  {
   "cell_type": "markdown",
   "metadata": {},
   "source": [
    "# Print out"
   ]
  },
  {
   "cell_type": "code",
   "execution_count": 58,
   "metadata": {},
   "outputs": [],
   "source": [
    "for f in ['value','valuez']:\n",
    "    df = data_all.xs(f, level='data_type', axis=1).copy()\n",
    "    df.columns = datasets['name'].values\n",
    "    df = df.droplevel('gene_id', axis=0)\n",
    "    df.to_csv(paper_name + '_' + f + '.txt', sep='\\t')"
   ]
  },
  {
   "cell_type": "markdown",
   "metadata": {},
   "source": [
    "# Save to DB"
   ]
  },
  {
   "cell_type": "code",
   "execution_count": 59,
   "metadata": {},
   "outputs": [],
   "source": [
    "from IO.save_data_to_db3 import *"
   ]
  },
  {
   "cell_type": "code",
   "execution_count": 60,
   "metadata": {},
   "outputs": [
    {
     "name": "stderr",
     "output_type": "stream",
     "text": [
      "  0%|          | 0/3 [00:00<?, ?it/s]"
     ]
    },
    {
     "name": "stdout",
     "output_type": "stream",
     "text": [
      "Deleting all datasets for PMID 30377274...\n",
      "Inserting the new data...\n"
     ]
    },
    {
     "name": "stderr",
     "output_type": "stream",
     "text": [
      "100%|██████████| 3/3 [00:15<00:00,  5.22s/it]"
     ]
    },
    {
     "name": "stdout",
     "output_type": "stream",
     "text": [
      "Updating the data_modified_on field...\n"
     ]
    },
    {
     "name": "stderr",
     "output_type": "stream",
     "text": [
      "\n"
     ]
    }
   ],
   "source": [
    "save_data_to_db(data_all, paper_pmid)"
   ]
  },
  {
   "cell_type": "code",
   "execution_count": null,
   "metadata": {},
   "outputs": [],
   "source": []
  }
 ],
 "metadata": {
  "kernelspec": {
   "display_name": "yp-data",
   "language": "python",
   "name": "yp-data"
  },
  "language_info": {
   "codemirror_mode": {
    "name": "ipython",
    "version": 3
   },
   "file_extension": ".py",
   "mimetype": "text/x-python",
   "name": "python",
   "nbconvert_exporter": "python",
   "pygments_lexer": "ipython3",
   "version": "3.7.7"
  }
 },
 "nbformat": 4,
 "nbformat_minor": 4
}
