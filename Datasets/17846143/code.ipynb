{
 "cells": [
  {
   "cell_type": "code",
   "execution_count": 1,
   "metadata": {},
   "outputs": [],
   "source": [
    "import numpy as np\n",
    "import pandas as pd\n",
    "\n",
    "import sys\n",
    "\n",
    "from os.path import expanduser\n",
    "sys.path.append(expanduser('~') + '/Lab/Utils/Python/')\n",
    "\n",
    "from Conversions.translate import *\n",
    "from Strings.is_a import *"
   ]
  },
  {
   "cell_type": "markdown",
   "metadata": {},
   "source": [
    "# Initial setup"
   ]
  },
  {
   "cell_type": "code",
   "execution_count": 2,
   "metadata": {},
   "outputs": [],
   "source": [
    "paper_pmid = 17846143\n",
    "paper_name = 'morton_coote_2007' "
   ]
  },
  {
   "cell_type": "code",
   "execution_count": 3,
   "metadata": {},
   "outputs": [],
   "source": [
    "datasets = pd.read_csv('extras/YeastPhenome_' + str(paper_pmid) + '_datasets_list.txt', sep='\\t', header=None, names=['pmid', 'name'])"
   ]
  },
  {
   "cell_type": "code",
   "execution_count": 4,
   "metadata": {},
   "outputs": [],
   "source": [
    "datasets.set_index('pmid', inplace=True)"
   ]
  },
  {
   "cell_type": "markdown",
   "metadata": {},
   "source": [
    "# Load & process the data"
   ]
  },
  {
   "cell_type": "code",
   "execution_count": 5,
   "metadata": {},
   "outputs": [],
   "source": [
    "original_data = pd.read_excel('raw_data/Table1.xlsx', sheet_name='Sheet1')"
   ]
  },
  {
   "cell_type": "code",
   "execution_count": 6,
   "metadata": {},
   "outputs": [
    {
     "name": "stdout",
     "output_type": "stream",
     "text": [
      "Original data dimensions: 32 x 5\n"
     ]
    }
   ],
   "source": [
    "print('Original data dimensions: %d x %d' % (original_data.shape))"
   ]
  },
  {
   "cell_type": "code",
   "execution_count": 7,
   "metadata": {},
   "outputs": [
    {
     "data": {
      "text/html": [
       "<div>\n",
       "<style scoped>\n",
       "    .dataframe tbody tr th:only-of-type {\n",
       "        vertical-align: middle;\n",
       "    }\n",
       "\n",
       "    .dataframe tbody tr th {\n",
       "        vertical-align: top;\n",
       "    }\n",
       "\n",
       "    .dataframe thead th {\n",
       "        text-align: right;\n",
       "    }\n",
       "</style>\n",
       "<table border=\"1\" class=\"dataframe\">\n",
       "  <thead>\n",
       "    <tr style=\"text-align: right;\">\n",
       "      <th></th>\n",
       "      <th>Functional category</th>\n",
       "      <th>% deletion mutants</th>\n",
       "      <th>DsS3(1-16) and Mag 2</th>\n",
       "      <th>DsS3(1-16) only</th>\n",
       "      <th>Mag 2 only</th>\n",
       "    </tr>\n",
       "  </thead>\n",
       "  <tbody>\n",
       "    <tr>\n",
       "      <th>0</th>\n",
       "      <td>Metabolism</td>\n",
       "      <td>7</td>\n",
       "      <td>ARV1</td>\n",
       "      <td>PPM1, TMA29, AMD1, YMR010W, GLO1, ARO8, SAM1</td>\n",
       "      <td>PGM1, PRP18</td>\n",
       "    </tr>\n",
       "    <tr>\n",
       "      <th>1</th>\n",
       "      <td>Cell cycle</td>\n",
       "      <td>7</td>\n",
       "      <td>KIN3, CLG1, CDC50</td>\n",
       "      <td>SRC1, SAP4, BFR1, KAR3, MSC1</td>\n",
       "      <td>HOP2</td>\n",
       "    </tr>\n",
       "    <tr>\n",
       "      <th>2</th>\n",
       "      <td>DNA repair</td>\n",
       "      <td>5</td>\n",
       "      <td>RSC1, MMS22, RSC2, IMP2′</td>\n",
       "      <td>MRE11, CTF4, DPB3</td>\n",
       "      <td>NaN</td>\n",
       "    </tr>\n",
       "    <tr>\n",
       "      <th>3</th>\n",
       "      <td>Biosynthesis</td>\n",
       "      <td>5</td>\n",
       "      <td>NaN</td>\n",
       "      <td>HFA1, GLY1, RTS1, DGA1, SUR4, AAT2</td>\n",
       "      <td>FEN1, ERG4</td>\n",
       "    </tr>\n",
       "    <tr>\n",
       "      <th>4</th>\n",
       "      <td>Cell wall organization and biogenesis</td>\n",
       "      <td>5</td>\n",
       "      <td>LDB7</td>\n",
       "      <td>GAS1, ECM19, YLR020C</td>\n",
       "      <td>CWH41, ROM1</td>\n",
       "    </tr>\n",
       "  </tbody>\n",
       "</table>\n",
       "</div>"
      ],
      "text/plain": [
       "                     Functional category  % deletion mutants  \\\n",
       "0                             Metabolism                   7   \n",
       "1                             Cell cycle                   7   \n",
       "2                             DNA repair                   5   \n",
       "3                           Biosynthesis                   5   \n",
       "4  Cell wall organization and biogenesis                   5   \n",
       "\n",
       "       DsS3(1-16) and Mag 2                               DsS3(1-16) only  \\\n",
       "0                      ARV1  PPM1, TMA29, AMD1, YMR010W, GLO1, ARO8, SAM1   \n",
       "1         KIN3, CLG1, CDC50                  SRC1, SAP4, BFR1, KAR3, MSC1   \n",
       "2  RSC1, MMS22, RSC2, IMP2′                             MRE11, CTF4, DPB3   \n",
       "3                       NaN            HFA1, GLY1, RTS1, DGA1, SUR4, AAT2   \n",
       "4                      LDB7                          GAS1, ECM19, YLR020C   \n",
       "\n",
       "    Mag 2 only  \n",
       "0  PGM1, PRP18  \n",
       "1         HOP2  \n",
       "2          NaN  \n",
       "3   FEN1, ERG4  \n",
       "4  CWH41, ROM1  "
      ]
     },
     "execution_count": 7,
     "metadata": {},
     "output_type": "execute_result"
    }
   ],
   "source": [
    "original_data.head()"
   ]
  },
  {
   "cell_type": "code",
   "execution_count": 33,
   "metadata": {},
   "outputs": [
    {
     "data": {
      "text/plain": [
       "array(['DsS3(1-16) and Mag 2', 'DsS3(1-16) only', 'Mag 2 only'],\n",
       "      dtype=object)"
      ]
     },
     "execution_count": 33,
     "metadata": {},
     "output_type": "execute_result"
    }
   ],
   "source": [
    "cols"
   ]
  },
  {
   "cell_type": "code",
   "execution_count": 35,
   "metadata": {},
   "outputs": [],
   "source": [
    "d_genes = []\n",
    "mag_genes = []\n",
    "\n",
    "cols = original_data.columns.values[2:]\n",
    "for r in original_data.iterrows():\n",
    "    for c in cols:\n",
    "        s = str(r[1][c])\n",
    "        s = s.replace('\\xa0','')\n",
    "        genes = s.split(',')\n",
    "        if not isinstance(genes, list):\n",
    "            genes = [genes]\n",
    "        if c == cols[0]:\n",
    "            d_genes = d_genes + genes\n",
    "            mag_genes = mag_genes + genes\n",
    "        elif c == cols[1]:\n",
    "            d_genes = d_genes + genes\n",
    "        elif c == cols[2]:\n",
    "            mag_genes = mag_genes + genes"
   ]
  },
  {
   "cell_type": "code",
   "execution_count": 39,
   "metadata": {},
   "outputs": [],
   "source": [
    "d_genes = [s.strip() for s in d_genes if not s == 'nan']\n",
    "mag_genes = [s.strip() for s in mag_genes if not s == 'nan']"
   ]
  },
  {
   "cell_type": "code",
   "execution_count": 45,
   "metadata": {},
   "outputs": [],
   "source": [
    "d_genes = clean_genename(d_genes)\n",
    "mag_genes = clean_genename(mag_genes)"
   ]
  },
  {
   "cell_type": "code",
   "execution_count": 46,
   "metadata": {},
   "outputs": [],
   "source": [
    "d_orfs = translate_sc(d_genes, to='orf')\n",
    "mag_orfs = translate_sc(mag_genes, to='orf')"
   ]
  },
  {
   "cell_type": "code",
   "execution_count": 51,
   "metadata": {},
   "outputs": [],
   "source": [
    "d_orfs = np.array(d_orfs)\n",
    "mag_orfs = np.array(mag_orfs)"
   ]
  },
  {
   "cell_type": "code",
   "execution_count": 56,
   "metadata": {},
   "outputs": [],
   "source": [
    "d_orfs[d_orfs=='TMA29'] = 'YMR226C'"
   ]
  },
  {
   "cell_type": "code",
   "execution_count": 57,
   "metadata": {},
   "outputs": [
    {
     "name": "stdout",
     "output_type": "stream",
     "text": [
      "[]\n"
     ]
    }
   ],
   "source": [
    "t = looks_like_orf(d_orfs)\n",
    "print(d_orfs[~np.array(t)])"
   ]
  },
  {
   "cell_type": "code",
   "execution_count": 58,
   "metadata": {},
   "outputs": [
    {
     "name": "stdout",
     "output_type": "stream",
     "text": [
      "[]\n"
     ]
    }
   ],
   "source": [
    "t = looks_like_orf(mag_orfs)\n",
    "print(mag_orfs[~np.array(t)])"
   ]
  },
  {
   "cell_type": "code",
   "execution_count": 60,
   "metadata": {},
   "outputs": [],
   "source": [
    "all_orfs = np.unique(np.concatenate((d_orfs, mag_orfs)))"
   ]
  },
  {
   "cell_type": "code",
   "execution_count": 63,
   "metadata": {},
   "outputs": [],
   "source": [
    "data = pd.DataFrame(index=all_orfs, columns=['D','M'], data=np.zeros((len(all_orfs),2)))"
   ]
  },
  {
   "cell_type": "code",
   "execution_count": 64,
   "metadata": {},
   "outputs": [],
   "source": [
    "data.loc[d_orfs,'D'] = -1\n",
    "data.loc[mag_orfs,'M'] = -1"
   ]
  },
  {
   "cell_type": "markdown",
   "metadata": {},
   "source": [
    "# Prepare the final dataset"
   ]
  },
  {
   "cell_type": "code",
   "execution_count": 67,
   "metadata": {},
   "outputs": [],
   "source": [
    "dataset_ids = [16536,16535]"
   ]
  },
  {
   "cell_type": "code",
   "execution_count": 68,
   "metadata": {},
   "outputs": [],
   "source": [
    "datasets = datasets.reindex(index=dataset_ids)"
   ]
  },
  {
   "cell_type": "code",
   "execution_count": 69,
   "metadata": {},
   "outputs": [],
   "source": [
    "data.columns = datasets['name'].values"
   ]
  },
  {
   "cell_type": "code",
   "execution_count": 70,
   "metadata": {},
   "outputs": [],
   "source": [
    "data = data.groupby(data.index).mean()"
   ]
  },
  {
   "cell_type": "code",
   "execution_count": 71,
   "metadata": {},
   "outputs": [],
   "source": [
    "# Create row index\n",
    "data.index.name='orf'"
   ]
  },
  {
   "cell_type": "code",
   "execution_count": 72,
   "metadata": {},
   "outputs": [
    {
     "name": "stdout",
     "output_type": "stream",
     "text": [
      "Final data dimensions: 135 x 2\n"
     ]
    }
   ],
   "source": [
    "print('Final data dimensions: %d x %d' % (data.shape))"
   ]
  },
  {
   "cell_type": "markdown",
   "metadata": {},
   "source": [
    "# Print out"
   ]
  },
  {
   "cell_type": "code",
   "execution_count": 75,
   "metadata": {},
   "outputs": [],
   "source": [
    "data.to_csv(paper_name + '.txt', sep='\\t')"
   ]
  },
  {
   "cell_type": "markdown",
   "metadata": {},
   "source": [
    "# Save to DB"
   ]
  },
  {
   "cell_type": "code",
   "execution_count": 76,
   "metadata": {},
   "outputs": [],
   "source": [
    "from IO.save_data_to_db2 import *"
   ]
  },
  {
   "cell_type": "code",
   "execution_count": 77,
   "metadata": {},
   "outputs": [],
   "source": [
    "# Create column index\n",
    "lst = [datasets.index.values, datasets['name'].values]\n",
    "tuples = list(zip(*lst))\n",
    "idx = pd.MultiIndex.from_tuples(tuples, names=['dataset_id','dataset_name'])\n",
    "data.columns = idx"
   ]
  },
  {
   "cell_type": "code",
   "execution_count": 79,
   "metadata": {},
   "outputs": [],
   "source": [
    "save_data_to_db(data, paper_pmid)"
   ]
  },
  {
   "cell_type": "code",
   "execution_count": null,
   "metadata": {},
   "outputs": [],
   "source": []
  }
 ],
 "metadata": {
  "kernelspec": {
   "display_name": "yp-data",
   "language": "python",
   "name": "yp-data"
  },
  "language_info": {
   "codemirror_mode": {
    "name": "ipython",
    "version": 3
   },
   "file_extension": ".py",
   "mimetype": "text/x-python",
   "name": "python",
   "nbconvert_exporter": "python",
   "pygments_lexer": "ipython3",
   "version": "3.7.7"
  }
 },
 "nbformat": 4,
 "nbformat_minor": 4
}
