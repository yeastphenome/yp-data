{
 "cells": [
  {
   "cell_type": "code",
   "execution_count": 1,
   "metadata": {},
   "outputs": [],
   "source": [
    "import numpy as np\n",
    "import pandas as pd\n",
    "\n",
    "import sys\n",
    "\n",
    "from os.path import expanduser\n",
    "sys.path.append(expanduser('~') + '/Lab/Utils/Python/')\n",
    "\n",
    "from Conversions.translate import *\n",
    "from Strings.is_a import *"
   ]
  },
  {
   "cell_type": "markdown",
   "metadata": {},
   "source": [
    "# Initial setup"
   ]
  },
  {
   "cell_type": "code",
   "execution_count": 2,
   "metadata": {},
   "outputs": [],
   "source": [
    "paper_pmid = 31422915\n",
    "paper_name = 'barbosa_siniossoglou_2019' "
   ]
  },
  {
   "cell_type": "code",
   "execution_count": 3,
   "metadata": {},
   "outputs": [],
   "source": [
    "datasets = pd.read_csv('extras/YeastPhenome_' + str(paper_pmid) + '_datasets_list.txt', sep='\\t', header=None, names=['pmid', 'name'])"
   ]
  },
  {
   "cell_type": "code",
   "execution_count": 4,
   "metadata": {},
   "outputs": [],
   "source": [
    "datasets.set_index('pmid', inplace=True)"
   ]
  },
  {
   "cell_type": "markdown",
   "metadata": {},
   "source": [
    "# Load & process the data"
   ]
  },
  {
   "cell_type": "code",
   "execution_count": 5,
   "metadata": {},
   "outputs": [],
   "source": [
    "original_data = pd.read_excel('raw_data/mmc2.xlsx', sheet_name='Sheet1', skiprows=7)"
   ]
  },
  {
   "cell_type": "code",
   "execution_count": 6,
   "metadata": {},
   "outputs": [
    {
     "name": "stdout",
     "output_type": "stream",
     "text": [
      "Original data dimensions: 136 x 4\n"
     ]
    }
   ],
   "source": [
    "print('Original data dimensions: %d x %d' % (original_data.shape))"
   ]
  },
  {
   "cell_type": "code",
   "execution_count": 8,
   "metadata": {},
   "outputs": [],
   "source": [
    "d1 = 'ER+puncta'\n",
    "d2 = 'Low signal'"
   ]
  },
  {
   "cell_type": "code",
   "execution_count": 51,
   "metadata": {},
   "outputs": [],
   "source": [
    "d1_ix = 0\n",
    "d2_ix = original_data.loc[original_data.iloc[:,0]==d2].index.values[0]"
   ]
  },
  {
   "cell_type": "code",
   "execution_count": 52,
   "metadata": {},
   "outputs": [],
   "source": [
    "data1 = original_data.iloc[d1_ix:d2_ix,:].copy()\n",
    "data2 = original_data.iloc[d2_ix+1:,:].copy()"
   ]
  },
  {
   "cell_type": "code",
   "execution_count": 53,
   "metadata": {},
   "outputs": [],
   "source": [
    "data1.columns = data1.iloc[0,:].copy()"
   ]
  },
  {
   "cell_type": "code",
   "execution_count": 54,
   "metadata": {},
   "outputs": [],
   "source": [
    "data2.columns = data2.iloc[0,:].copy()"
   ]
  },
  {
   "cell_type": "code",
   "execution_count": 55,
   "metadata": {},
   "outputs": [
    {
     "data": {
      "text/html": [
       "<div>\n",
       "<style scoped>\n",
       "    .dataframe tbody tr th:only-of-type {\n",
       "        vertical-align: middle;\n",
       "    }\n",
       "\n",
       "    .dataframe tbody tr th {\n",
       "        vertical-align: top;\n",
       "    }\n",
       "\n",
       "    .dataframe thead th {\n",
       "        text-align: right;\n",
       "    }\n",
       "</style>\n",
       "<table border=\"1\" class=\"dataframe\">\n",
       "  <thead>\n",
       "    <tr style=\"text-align: right;\">\n",
       "      <th></th>\n",
       "      <th>Systematic Name</th>\n",
       "      <th>Standard Name</th>\n",
       "      <th>Function</th>\n",
       "      <th>Validation</th>\n",
       "    </tr>\n",
       "  </thead>\n",
       "  <tbody>\n",
       "    <tr>\n",
       "      <th>0</th>\n",
       "      <td>Systematic Name</td>\n",
       "      <td>Standard Name</td>\n",
       "      <td>Function</td>\n",
       "      <td>Validation</td>\n",
       "    </tr>\n",
       "    <tr>\n",
       "      <th>1</th>\n",
       "      <td>YLR014C</td>\n",
       "      <td>PPR1</td>\n",
       "      <td>Zinc finger transcription factor</td>\n",
       "      <td>⏤</td>\n",
       "    </tr>\n",
       "    <tr>\n",
       "      <th>2</th>\n",
       "      <td>YLR056W</td>\n",
       "      <td>ERG3</td>\n",
       "      <td>C-5 sterol desaturase</td>\n",
       "      <td>Nc</td>\n",
       "    </tr>\n",
       "    <tr>\n",
       "      <th>3</th>\n",
       "      <td>YAR015W</td>\n",
       "      <td>ADE1</td>\n",
       "      <td>N-succinyl-5-aminoimidazole-4-carboxamide ribo...</td>\n",
       "      <td>Nc</td>\n",
       "    </tr>\n",
       "    <tr>\n",
       "      <th>4</th>\n",
       "      <td>YLR068W</td>\n",
       "      <td>FYV7</td>\n",
       "      <td>Essential protein required for maturation of 1...</td>\n",
       "      <td>Nc</td>\n",
       "    </tr>\n",
       "  </tbody>\n",
       "</table>\n",
       "</div>"
      ],
      "text/plain": [
       "0  Systematic Name  Standard Name  \\\n",
       "0  Systematic Name  Standard Name   \n",
       "1          YLR014C          PPR1    \n",
       "2          YLR056W          ERG3    \n",
       "3          YAR015W          ADE1    \n",
       "4          YLR068W          FYV7    \n",
       "\n",
       "0                                           Function  Validation  \n",
       "0                                           Function  Validation  \n",
       "1                   Zinc finger transcription factor           ⏤  \n",
       "2                              C-5 sterol desaturase          Nc  \n",
       "3  N-succinyl-5-aminoimidazole-4-carboxamide ribo...          Nc  \n",
       "4  Essential protein required for maturation of 1...          Nc  "
      ]
     },
     "execution_count": 55,
     "metadata": {},
     "output_type": "execute_result"
    }
   ],
   "source": [
    "data1.head()"
   ]
  },
  {
   "cell_type": "code",
   "execution_count": 56,
   "metadata": {},
   "outputs": [],
   "source": [
    "c = 'Systematic Name'\n",
    "data1[c] = data1[c].astype(str)\n",
    "data2[c] = data2[c].astype(str)"
   ]
  },
  {
   "cell_type": "code",
   "execution_count": 57,
   "metadata": {},
   "outputs": [],
   "source": [
    "# Eliminate all white spaces & capitalize\n",
    "data1[c] = clean_orf(data1[c])\n",
    "data2[c] = clean_orf(data2[c])"
   ]
  },
  {
   "cell_type": "code",
   "execution_count": 58,
   "metadata": {},
   "outputs": [],
   "source": [
    "# Translate to ORFs \n",
    "data1[c] = translate_sc(data1[c], to='orf')\n",
    "data2[c] = translate_sc(data2[c], to='orf')"
   ]
  },
  {
   "cell_type": "code",
   "execution_count": 59,
   "metadata": {},
   "outputs": [
    {
     "name": "stdout",
     "output_type": "stream",
     "text": [
      "0           Systematic Name  Standard Name  Function  Validation\n",
      "index_input                                                     \n",
      "0            SYSTEMATICNAME  Standard Name  Function  Validation\n"
     ]
    }
   ],
   "source": [
    "# Make sure everything translated ok\n",
    "t = looks_like_orf(data1[c])\n",
    "print(data1.loc[~t,])"
   ]
  },
  {
   "cell_type": "code",
   "execution_count": 60,
   "metadata": {},
   "outputs": [],
   "source": [
    "data1 = data1.loc[t,:]"
   ]
  },
  {
   "cell_type": "code",
   "execution_count": 61,
   "metadata": {},
   "outputs": [
    {
     "name": "stdout",
     "output_type": "stream",
     "text": [
      "76          Systematic Name  Standard Name  Function  Validation\n",
      "index_input                                                     \n",
      "76                      NaN  Standard Name  Function  Validation\n"
     ]
    }
   ],
   "source": [
    "# Make sure everything translated ok\n",
    "t = looks_like_orf(data2[c])\n",
    "print(data2.loc[~t,])"
   ]
  },
  {
   "cell_type": "code",
   "execution_count": 62,
   "metadata": {},
   "outputs": [],
   "source": [
    "data2 = data2.loc[t,:]"
   ]
  },
  {
   "cell_type": "code",
   "execution_count": 63,
   "metadata": {},
   "outputs": [],
   "source": [
    "data1['data'] = 1\n",
    "data2['data'] = 1"
   ]
  },
  {
   "cell_type": "code",
   "execution_count": 64,
   "metadata": {},
   "outputs": [
    {
     "data": {
      "text/html": [
       "<div>\n",
       "<style scoped>\n",
       "    .dataframe tbody tr th:only-of-type {\n",
       "        vertical-align: middle;\n",
       "    }\n",
       "\n",
       "    .dataframe tbody tr th {\n",
       "        vertical-align: top;\n",
       "    }\n",
       "\n",
       "    .dataframe thead th {\n",
       "        text-align: right;\n",
       "    }\n",
       "</style>\n",
       "<table border=\"1\" class=\"dataframe\">\n",
       "  <thead>\n",
       "    <tr style=\"text-align: right;\">\n",
       "      <th></th>\n",
       "      <th>Systematic Name</th>\n",
       "      <th>Standard Name</th>\n",
       "      <th>Function</th>\n",
       "      <th>Validation</th>\n",
       "      <th>data</th>\n",
       "    </tr>\n",
       "    <tr>\n",
       "      <th>index_input</th>\n",
       "      <th></th>\n",
       "      <th></th>\n",
       "      <th></th>\n",
       "      <th></th>\n",
       "      <th></th>\n",
       "    </tr>\n",
       "  </thead>\n",
       "  <tbody>\n",
       "    <tr>\n",
       "      <th>1</th>\n",
       "      <td>YLR014C</td>\n",
       "      <td>PPR1</td>\n",
       "      <td>Zinc finger transcription factor</td>\n",
       "      <td>⏤</td>\n",
       "      <td>1</td>\n",
       "    </tr>\n",
       "    <tr>\n",
       "      <th>2</th>\n",
       "      <td>YLR056W</td>\n",
       "      <td>ERG3</td>\n",
       "      <td>C-5 sterol desaturase</td>\n",
       "      <td>Nc</td>\n",
       "      <td>1</td>\n",
       "    </tr>\n",
       "    <tr>\n",
       "      <th>3</th>\n",
       "      <td>YAR015W</td>\n",
       "      <td>ADE1</td>\n",
       "      <td>N-succinyl-5-aminoimidazole-4-carboxamide ribo...</td>\n",
       "      <td>Nc</td>\n",
       "      <td>1</td>\n",
       "    </tr>\n",
       "    <tr>\n",
       "      <th>4</th>\n",
       "      <td>YLR068W</td>\n",
       "      <td>FYV7</td>\n",
       "      <td>Essential protein required for maturation of 1...</td>\n",
       "      <td>Nc</td>\n",
       "      <td>1</td>\n",
       "    </tr>\n",
       "    <tr>\n",
       "      <th>5</th>\n",
       "      <td>YML014W</td>\n",
       "      <td>TRM9</td>\n",
       "      <td>tRNA methyltransferase</td>\n",
       "      <td>⏤</td>\n",
       "      <td>1</td>\n",
       "    </tr>\n",
       "  </tbody>\n",
       "</table>\n",
       "</div>"
      ],
      "text/plain": [
       "0           Systematic Name Standard Name  \\\n",
       "index_input                                 \n",
       "1                   YLR014C         PPR1    \n",
       "2                   YLR056W         ERG3    \n",
       "3                   YAR015W         ADE1    \n",
       "4                   YLR068W         FYV7    \n",
       "5                   YML014W         TRM9    \n",
       "\n",
       "0                                                     Function Validation  \\\n",
       "index_input                                                                 \n",
       "1                             Zinc finger transcription factor          ⏤   \n",
       "2                                        C-5 sterol desaturase         Nc   \n",
       "3            N-succinyl-5-aminoimidazole-4-carboxamide ribo...         Nc   \n",
       "4            Essential protein required for maturation of 1...         Nc   \n",
       "5                                       tRNA methyltransferase          ⏤   \n",
       "\n",
       "0            data  \n",
       "index_input        \n",
       "1               1  \n",
       "2               1  \n",
       "3               1  \n",
       "4               1  \n",
       "5               1  "
      ]
     },
     "execution_count": 64,
     "metadata": {},
     "output_type": "execute_result"
    }
   ],
   "source": [
    "data1.head()"
   ]
  },
  {
   "cell_type": "code",
   "execution_count": 65,
   "metadata": {},
   "outputs": [],
   "source": [
    "data1.set_index(c, inplace=True)\n",
    "data2.set_index(c, inplace=True)"
   ]
  },
  {
   "cell_type": "code",
   "execution_count": 96,
   "metadata": {},
   "outputs": [
    {
     "data": {
      "text/html": [
       "<div>\n",
       "<style scoped>\n",
       "    .dataframe tbody tr th:only-of-type {\n",
       "        vertical-align: middle;\n",
       "    }\n",
       "\n",
       "    .dataframe tbody tr th {\n",
       "        vertical-align: top;\n",
       "    }\n",
       "\n",
       "    .dataframe thead th {\n",
       "        text-align: right;\n",
       "    }\n",
       "</style>\n",
       "<table border=\"1\" class=\"dataframe\">\n",
       "  <thead>\n",
       "    <tr style=\"text-align: right;\">\n",
       "      <th>76</th>\n",
       "      <th>Standard Name</th>\n",
       "      <th>Function</th>\n",
       "      <th>Validation</th>\n",
       "      <th>data</th>\n",
       "    </tr>\n",
       "    <tr>\n",
       "      <th>Systematic Name</th>\n",
       "      <th></th>\n",
       "      <th></th>\n",
       "      <th></th>\n",
       "      <th></th>\n",
       "    </tr>\n",
       "  </thead>\n",
       "  <tbody>\n",
       "    <tr>\n",
       "      <th>YLR025W</th>\n",
       "      <td>SNF7</td>\n",
       "      <td>One of four subunits of the ESCRT-III complex</td>\n",
       "      <td>Puncta</td>\n",
       "      <td>1</td>\n",
       "    </tr>\n",
       "    <tr>\n",
       "      <th>YLR027C</th>\n",
       "      <td>AAT2</td>\n",
       "      <td>Cytosolic aspartate aminotransferase involved ...</td>\n",
       "      <td>⏤</td>\n",
       "      <td>1</td>\n",
       "    </tr>\n",
       "    <tr>\n",
       "      <th>YMR214W</th>\n",
       "      <td>SCJ1</td>\n",
       "      <td>Bacterial chaperone DnaJ homolog</td>\n",
       "      <td>Low Signal</td>\n",
       "      <td>1</td>\n",
       "    </tr>\n",
       "    <tr>\n",
       "      <th>YLR087C</th>\n",
       "      <td>CSF1</td>\n",
       "      <td>Protein required for fermentation at low tempe...</td>\n",
       "      <td>⏤</td>\n",
       "      <td>1</td>\n",
       "    </tr>\n",
       "    <tr>\n",
       "      <th>YLR098C</th>\n",
       "      <td>CHA4</td>\n",
       "      <td>DNA binding transcriptional activator;</td>\n",
       "      <td>⏤</td>\n",
       "      <td>1</td>\n",
       "    </tr>\n",
       "  </tbody>\n",
       "</table>\n",
       "</div>"
      ],
      "text/plain": [
       "76              Standard Name  \\\n",
       "Systematic Name                 \n",
       "YLR025W                 SNF7    \n",
       "YLR027C                 AAT2    \n",
       "YMR214W                 SCJ1    \n",
       "YLR087C                 CSF1    \n",
       "YLR098C                 CHA4    \n",
       "\n",
       "76                                                        Function  \\\n",
       "Systematic Name                                                      \n",
       "YLR025W              One of four subunits of the ESCRT-III complex   \n",
       "YLR027C          Cytosolic aspartate aminotransferase involved ...   \n",
       "YMR214W                           Bacterial chaperone DnaJ homolog   \n",
       "YLR087C          Protein required for fermentation at low tempe...   \n",
       "YLR098C                     DNA binding transcriptional activator;   \n",
       "\n",
       "76               Validation  data  \n",
       "Systematic Name                    \n",
       "YLR025W              Puncta     1  \n",
       "YLR027C                   ⏤     1  \n",
       "YMR214W          Low Signal     1  \n",
       "YLR087C                   ⏤     1  \n",
       "YLR098C                   ⏤     1  "
      ]
     },
     "execution_count": 96,
     "metadata": {},
     "output_type": "execute_result"
    }
   ],
   "source": [
    "data2.head()"
   ]
  },
  {
   "cell_type": "code",
   "execution_count": 97,
   "metadata": {},
   "outputs": [],
   "source": [
    "data = data1[['data']].join(data2[['data']], lsuffix='_1', rsuffix='_2', how='outer')"
   ]
  },
  {
   "cell_type": "code",
   "execution_count": 98,
   "metadata": {},
   "outputs": [],
   "source": [
    "data.loc[data['data_1'].isnull(),'data_1'] = 0\n",
    "data.loc[data['data_2'].isnull(),'data_2'] = 0"
   ]
  },
  {
   "cell_type": "code",
   "execution_count": 99,
   "metadata": {},
   "outputs": [
    {
     "data": {
      "text/plain": [
       "(133, 2)"
      ]
     },
     "execution_count": 99,
     "metadata": {},
     "output_type": "execute_result"
    }
   ],
   "source": [
    "data.shape"
   ]
  },
  {
   "cell_type": "code",
   "execution_count": 100,
   "metadata": {},
   "outputs": [
    {
     "data": {
      "text/plain": [
       "data_1    74.0\n",
       "data_2    59.0\n",
       "dtype: float64"
      ]
     },
     "execution_count": 100,
     "metadata": {},
     "output_type": "execute_result"
    }
   ],
   "source": [
    "data.sum(axis=0)"
   ]
  },
  {
   "cell_type": "code",
   "execution_count": 103,
   "metadata": {},
   "outputs": [],
   "source": [
    "data2 = data.copy()"
   ]
  },
  {
   "cell_type": "markdown",
   "metadata": {},
   "source": [
    "# Load & process tested strains"
   ]
  },
  {
   "cell_type": "code",
   "execution_count": 70,
   "metadata": {},
   "outputs": [],
   "source": [
    "tested = pd.read_excel('raw_data/KO_DAmP_ORFs.xlsx', sheet_name='Sheet1', skiprows=1)"
   ]
  },
  {
   "cell_type": "code",
   "execution_count": 71,
   "metadata": {},
   "outputs": [],
   "source": [
    "tested = tested.iloc[:,0].to_frame()"
   ]
  },
  {
   "cell_type": "code",
   "execution_count": 76,
   "metadata": {},
   "outputs": [],
   "source": [
    "tested.columns = ['ORF']"
   ]
  },
  {
   "cell_type": "code",
   "execution_count": 77,
   "metadata": {},
   "outputs": [],
   "source": [
    "tested['ORF'] = clean_orf(tested['ORF'])"
   ]
  },
  {
   "cell_type": "code",
   "execution_count": 78,
   "metadata": {},
   "outputs": [],
   "source": [
    "tested['ORF'] = translate_sc(tested['ORF'], to='orf')"
   ]
  },
  {
   "cell_type": "code",
   "execution_count": 80,
   "metadata": {},
   "outputs": [],
   "source": [
    "tested.loc[tested['ORF'] == 'YOLO57W','ORF'] = 'YOL057W'\n",
    "tested.loc[tested['ORF'] == 'YOLO62C','ORF'] = 'YOL062C'\n",
    "tested.loc[tested['ORF'] == 'YJL206-A','ORF'] = 'YJL206C'\n",
    "tested.loc[tested['ORF'] == 'YLR287-A','ORF'] = 'YLR287C-A'\n",
    "tested.loc[tested['ORF'] == 'YBRF182C-A','ORF'] = 'YBR182C-A'\n"
   ]
  },
  {
   "cell_type": "code",
   "execution_count": 81,
   "metadata": {},
   "outputs": [
    {
     "name": "stdout",
     "output_type": "stream",
     "text": [
      "            ORF\n",
      "index_input    \n",
      "1963           \n"
     ]
    }
   ],
   "source": [
    "# Make sure everything translated ok\n",
    "t = looks_like_orf(tested['ORF'])\n",
    "print(tested.loc[~t,])"
   ]
  },
  {
   "cell_type": "code",
   "execution_count": 82,
   "metadata": {},
   "outputs": [],
   "source": [
    "tested = tested.loc[t,:]"
   ]
  },
  {
   "cell_type": "code",
   "execution_count": 84,
   "metadata": {},
   "outputs": [],
   "source": [
    "tested = tested.drop_duplicates()"
   ]
  },
  {
   "cell_type": "code",
   "execution_count": 113,
   "metadata": {},
   "outputs": [],
   "source": [
    "missing = [orf for orf in data2.index.values if orf not in tested['ORF'].values]"
   ]
  },
  {
   "cell_type": "code",
   "execution_count": 117,
   "metadata": {},
   "outputs": [],
   "source": [
    "# In this case, the missing orf are DAMP strains which were included in the results but which we'll have to remove (only non-essential gene knockouts are kept)\n",
    "data2 = data2.drop(index=missing)"
   ]
  },
  {
   "cell_type": "code",
   "execution_count": 118,
   "metadata": {},
   "outputs": [
    {
     "data": {
      "text/plain": [
       "(101, 2)"
      ]
     },
     "execution_count": 118,
     "metadata": {},
     "output_type": "execute_result"
    }
   ],
   "source": [
    "data2.shape"
   ]
  },
  {
   "cell_type": "markdown",
   "metadata": {},
   "source": [
    "# Prepare the final dataset"
   ]
  },
  {
   "cell_type": "code",
   "execution_count": 119,
   "metadata": {},
   "outputs": [],
   "source": [
    "dataset_ids = [16546,16590]"
   ]
  },
  {
   "cell_type": "code",
   "execution_count": 120,
   "metadata": {},
   "outputs": [],
   "source": [
    "datasets = datasets.reindex(index=dataset_ids)"
   ]
  },
  {
   "cell_type": "code",
   "execution_count": 121,
   "metadata": {},
   "outputs": [],
   "source": [
    "data = pd.DataFrame(index=tested['ORF'].values, columns=datasets['name'].values, data=0)"
   ]
  },
  {
   "cell_type": "code",
   "execution_count": 122,
   "metadata": {},
   "outputs": [],
   "source": [
    "data.loc[data2.index, :] = data2.values"
   ]
  },
  {
   "cell_type": "code",
   "execution_count": 124,
   "metadata": {},
   "outputs": [
    {
     "data": {
      "text/plain": [
       "hap a (post-SGA) | protein retention in the ER (Lro1-GFP) | standard | SC - Ura (2) | Barbosa AD~Siniossoglou S, 2019          53.0\n",
       "hap a (post-SGA) | ER-associated protein degradation (Lro1-GFP) | standard | SC - Ura (2) | Barbosa AD~Siniossoglou S, 2019    48.0\n",
       "dtype: float64"
      ]
     },
     "execution_count": 124,
     "metadata": {},
     "output_type": "execute_result"
    }
   ],
   "source": [
    "data.sum(axis=0)"
   ]
  },
  {
   "cell_type": "code",
   "execution_count": 125,
   "metadata": {},
   "outputs": [],
   "source": [
    "data = data.groupby(data.index).mean()"
   ]
  },
  {
   "cell_type": "code",
   "execution_count": 126,
   "metadata": {},
   "outputs": [],
   "source": [
    "# Create row index\n",
    "data.index.name='orf'"
   ]
  },
  {
   "cell_type": "code",
   "execution_count": 127,
   "metadata": {},
   "outputs": [
    {
     "name": "stdout",
     "output_type": "stream",
     "text": [
      "Final data dimensions: 4883 x 2\n"
     ]
    }
   ],
   "source": [
    "print('Final data dimensions: %d x %d' % (data.shape))"
   ]
  },
  {
   "cell_type": "markdown",
   "metadata": {},
   "source": [
    "# Print out"
   ]
  },
  {
   "cell_type": "code",
   "execution_count": 128,
   "metadata": {},
   "outputs": [],
   "source": [
    "data.to_csv(paper_name + '.txt', sep='\\t')"
   ]
  },
  {
   "cell_type": "markdown",
   "metadata": {},
   "source": [
    "# Save to DB"
   ]
  },
  {
   "cell_type": "code",
   "execution_count": 129,
   "metadata": {},
   "outputs": [],
   "source": [
    "from IO.save_data_to_db2 import *"
   ]
  },
  {
   "cell_type": "code",
   "execution_count": 130,
   "metadata": {},
   "outputs": [],
   "source": [
    "# Create column index\n",
    "lst = [datasets.index.values, datasets['name'].values]\n",
    "tuples = list(zip(*lst))\n",
    "idx = pd.MultiIndex.from_tuples(tuples, names=['dataset_id','dataset_name'])\n",
    "data.columns = idx"
   ]
  },
  {
   "cell_type": "code",
   "execution_count": 131,
   "metadata": {},
   "outputs": [],
   "source": [
    "save_data_to_db(data, paper_pmid)"
   ]
  },
  {
   "cell_type": "code",
   "execution_count": null,
   "metadata": {},
   "outputs": [],
   "source": []
  }
 ],
 "metadata": {
  "kernelspec": {
   "display_name": "yp-data",
   "language": "python",
   "name": "yp-data"
  },
  "language_info": {
   "codemirror_mode": {
    "name": "ipython",
    "version": 3
   },
   "file_extension": ".py",
   "mimetype": "text/x-python",
   "name": "python",
   "nbconvert_exporter": "python",
   "pygments_lexer": "ipython3",
   "version": "3.7.7"
  }
 },
 "nbformat": 4,
 "nbformat_minor": 4
}
