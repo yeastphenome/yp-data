{
 "cells": [
  {
   "cell_type": "code",
   "execution_count": 1,
   "metadata": {},
   "outputs": [],
   "source": [
    "%run ../../Utils/yp_utils.py"
   ]
  },
  {
   "cell_type": "markdown",
   "metadata": {},
   "source": [
    "# Initial setup"
   ]
  },
  {
   "cell_type": "code",
   "execution_count": 2,
   "metadata": {},
   "outputs": [],
   "source": [
    "paper_pmid = 12432101\n",
    "paper_name = 'deutschbauer_davis_2002' "
   ]
  },
  {
   "cell_type": "code",
   "execution_count": 3,
   "metadata": {},
   "outputs": [],
   "source": [
    "datasets = pd.read_csv('extras/YeastPhenome_' + str(paper_pmid) + '_datasets_list.txt', sep='\\t', header=None, names=['dataset_id', 'name'])"
   ]
  },
  {
   "cell_type": "code",
   "execution_count": 4,
   "metadata": {},
   "outputs": [],
   "source": [
    "datasets.set_index('dataset_id', inplace=True)"
   ]
  },
  {
   "cell_type": "markdown",
   "metadata": {},
   "source": [
    "# Load & process the data"
   ]
  },
  {
   "cell_type": "code",
   "execution_count": 54,
   "metadata": {},
   "outputs": [],
   "source": [
    "files = ['sporulation_deficient.txt','sporulation_proficient.txt','germination.txt']"
   ]
  },
  {
   "cell_type": "code",
   "execution_count": 55,
   "metadata": {},
   "outputs": [
    {
     "name": "stdout",
     "output_type": "stream",
     "text": [
      "Original data dimensions: 261 x 11\n",
      "        Gene        Orf   Spo1   Spo2  HomDip oligo microarray Under 15%  \\\n",
      "0       SWI4    YER111C  2.146  1.706   0.896   SK1                        \n",
      "1      ISC10    YER180C  2.461  3.338   1.008  Both    induced             \n",
      "2       NDI1    YML120C  1.904  4.154   0.994  W303                        \n",
      "3       SMA2    YML066C  2.787  5.121   1.011  Both    induced       yes   \n",
      "4  YML010W-A  YML010W-A  1.831  1.623   0.878                              \n",
      "\n",
      "               Biological Process          Molecular Function  \\\n",
      "0                      cell cycle        transcription factor   \n",
      "1               not yet annotated  molecular_function unknown   \n",
      "2  complex I (NADH to ubiquinone)           not yet annotated   \n",
      "3      biological_process unknown  molecular_function unknown   \n",
      "4      biological_process unknown  molecular_function unknown   \n",
      "\n",
      "                Cellular Component  \n",
      "0                not yet annotated  \n",
      "1                not yet annotated  \n",
      "2  NADH dehydrogenase (ubiquinone)  \n",
      "3                not yet annotated  \n",
      "4                not yet annotated  \n",
      "Empty DataFrame\n",
      "Columns: [Gene, Orf, Spo1, Spo2, HomDip, oligo, microarray, Under 15%, Biological Process, Molecular Function, Cellular Component, orf]\n",
      "Index: []\n",
      "(261, 1)\n",
      "Original data dimensions: 102 x 9\n",
      "      Gene      Orf      Spo1      Spo2 oligo microarray  \\\n",
      "0  YER139C  YER139C  0.738531  0.745296                    \n",
      "1     bem2  YER155C  0.494159  0.691747  Both              \n",
      "2     BCK2  YER167W  0.631887  0.681181                    \n",
      "3     van1  YML115C  0.493218  0.693087   SK1  repressed   \n",
      "4    gal80  YML051W  0.752027  0.796879                    \n",
      "\n",
      "                                  Biological Process  \\\n",
      "0                         biological_process unknown   \n",
      "1  establishment of cell polarity (sensu Saccharo...   \n",
      "2                                 cell cycle control   \n",
      "3                                  not yet annotated   \n",
      "4                          transcription regulation*   \n",
      "\n",
      "           Molecular Function          Cellular Component  \n",
      "0  molecular_function unknown           not yet annotated  \n",
      "1          signal transducer*               intracellular  \n",
      "2  molecular_function unknown  cellular_component unknown  \n",
      "3         mannosyltransferase           not yet annotated  \n",
      "4  transcription co-repressor                     nucleus  \n",
      "Empty DataFrame\n",
      "Columns: [Gene, Orf, Spo1, Spo2, oligo, microarray, Biological Process, Molecular Function, Cellular Component, orf]\n",
      "Index: []\n",
      "(102, 1)\n",
      "Original data dimensions: 158 x 10\n",
      "      Gene      Orf   Spo1   Spo2  HomDip  Germ1  Germ2  \\\n",
      "0     MAM1  YER106W  0.986  1.098   1.020  0.946  0.951   \n",
      "1     YCK3  YER123W  1.368  2.824   1.006  0.892  0.946   \n",
      "2     PAK1  YER129W  0.957  0.973   1.023  0.971  0.919   \n",
      "3  YML117W  YML117W  0.772  0.968   1.002  0.693  0.606   \n",
      "4     CST9  YLR394W  1.266  1.208   1.019  0.954  0.946   \n",
      "\n",
      "                     Biological Process          Molecular Function  \\\n",
      "0            biological_process unknown  molecular_function unknown   \n",
      "1                    cell proliferation           not yet annotated   \n",
      "2   protein amino acid phosphorylation*              protein kinase   \n",
      "3            biological_process unknown  molecular_function unknown   \n",
      "4  DNA replication and chromosome cycle                 DNA binding   \n",
      "\n",
      "           Cellular Component  \n",
      "0           not yet annotated  \n",
      "1           not yet annotated  \n",
      "2                        cell  \n",
      "3           not yet annotated  \n",
      "4  cellular_component unknown  \n",
      "Empty DataFrame\n",
      "Columns: [Gene, Orf, Spo1, Spo2, HomDip, Germ1, Germ2, Biological Process, Molecular Function, Cellular Component, orf]\n",
      "Index: []\n",
      "(158, 1)\n"
     ]
    }
   ],
   "source": [
    "original_data_list = []\n",
    "for f in files:\n",
    "    original_data = pd.read_csv('raw_data/' + f, sep='\\t')\n",
    "    print('Original data dimensions: %d x %d' % (original_data.shape))\n",
    "    print(original_data.head())\n",
    "    original_data['orf'] = original_data['Orf'].astype(str)\n",
    "    original_data['orf'] = clean_orf(original_data['orf'])\n",
    "    original_data['orf'] = translate_sc(original_data['orf'], to='orf')\n",
    "    t = looks_like_orf(original_data['orf'])\n",
    "    print(original_data.loc[~t,])\n",
    "    original_data.set_index('orf', inplace=True)\n",
    "    \n",
    "    if f.startswith('sporulation'):\n",
    "        original_data = original_data[['Spo1','Spo2']].apply(pd.to_numeric, axis=1, errors='coerce')\n",
    "        original_data[['Spo1','Spo2']] = 1/original_data[['Spo1','Spo2']]\n",
    "    else:\n",
    "        original_data = original_data[['Germ1','Germ2']].apply(pd.to_numeric, axis=1, errors='coerce')\n",
    "        \n",
    "    original_data['data'] = original_data.mean(axis=1)\n",
    "    \n",
    "    original_data = original_data[['data']].copy()\n",
    "    \n",
    "    original_data = original_data.groupby(original_data.index).mean()\n",
    "    \n",
    "    print(original_data.shape)\n",
    "    \n",
    "    original_data_list.append(original_data)"
   ]
  },
  {
   "cell_type": "code",
   "execution_count": 56,
   "metadata": {},
   "outputs": [],
   "source": [
    "original_data1 = pd.concat(original_data_list[:2], axis=0)\n",
    "original_data1 = original_data1.groupby(original_data1.index).mean()"
   ]
  },
  {
   "cell_type": "code",
   "execution_count": 57,
   "metadata": {},
   "outputs": [],
   "source": [
    "original_data2 = original_data_list[2]"
   ]
  },
  {
   "cell_type": "code",
   "execution_count": 58,
   "metadata": {},
   "outputs": [],
   "source": [
    "original_data = original_data1.join(original_data2, how='outer', lsuffix='_1', rsuffix='_2')"
   ]
  },
  {
   "cell_type": "code",
   "execution_count": 59,
   "metadata": {},
   "outputs": [
    {
     "data": {
      "text/plain": [
       "(511, 2)"
      ]
     },
     "execution_count": 59,
     "metadata": {},
     "output_type": "execute_result"
    }
   ],
   "source": [
    "original_data.shape"
   ]
  },
  {
   "cell_type": "code",
   "execution_count": 60,
   "metadata": {},
   "outputs": [
    {
     "data": {
      "text/html": [
       "<div>\n",
       "<style scoped>\n",
       "    .dataframe tbody tr th:only-of-type {\n",
       "        vertical-align: middle;\n",
       "    }\n",
       "\n",
       "    .dataframe tbody tr th {\n",
       "        vertical-align: top;\n",
       "    }\n",
       "\n",
       "    .dataframe thead th {\n",
       "        text-align: right;\n",
       "    }\n",
       "</style>\n",
       "<table border=\"1\" class=\"dataframe\">\n",
       "  <thead>\n",
       "    <tr style=\"text-align: right;\">\n",
       "      <th></th>\n",
       "      <th>data_1</th>\n",
       "      <th>data_2</th>\n",
       "    </tr>\n",
       "    <tr>\n",
       "      <th>orf</th>\n",
       "      <th></th>\n",
       "      <th></th>\n",
       "    </tr>\n",
       "  </thead>\n",
       "  <tbody>\n",
       "    <tr>\n",
       "      <th>YAL009W</th>\n",
       "      <td>0.481032</td>\n",
       "      <td>NaN</td>\n",
       "    </tr>\n",
       "    <tr>\n",
       "      <th>YAL011W</th>\n",
       "      <td>1.813767</td>\n",
       "      <td>NaN</td>\n",
       "    </tr>\n",
       "    <tr>\n",
       "      <th>YAL021C</th>\n",
       "      <td>0.299158</td>\n",
       "      <td>NaN</td>\n",
       "    </tr>\n",
       "    <tr>\n",
       "      <th>YAL023C</th>\n",
       "      <td>1.559497</td>\n",
       "      <td>NaN</td>\n",
       "    </tr>\n",
       "    <tr>\n",
       "      <th>YAL040C</th>\n",
       "      <td>3.653337</td>\n",
       "      <td>NaN</td>\n",
       "    </tr>\n",
       "  </tbody>\n",
       "</table>\n",
       "</div>"
      ],
      "text/plain": [
       "           data_1  data_2\n",
       "orf                      \n",
       "YAL009W  0.481032     NaN\n",
       "YAL011W  1.813767     NaN\n",
       "YAL021C  0.299158     NaN\n",
       "YAL023C  1.559497     NaN\n",
       "YAL040C  3.653337     NaN"
      ]
     },
     "execution_count": 60,
     "metadata": {},
     "output_type": "execute_result"
    }
   ],
   "source": [
    "original_data.head()"
   ]
  },
  {
   "cell_type": "markdown",
   "metadata": {},
   "source": [
    "# Load & process tested strains"
   ]
  },
  {
   "cell_type": "code",
   "execution_count": 61,
   "metadata": {},
   "outputs": [],
   "source": [
    "tested = pd.read_csv('raw_data/SpoGerm_RawData.txt', sep='\\t')"
   ]
  },
  {
   "cell_type": "code",
   "execution_count": 62,
   "metadata": {},
   "outputs": [
    {
     "data": {
      "text/html": [
       "<div>\n",
       "<style scoped>\n",
       "    .dataframe tbody tr th:only-of-type {\n",
       "        vertical-align: middle;\n",
       "    }\n",
       "\n",
       "    .dataframe tbody tr th {\n",
       "        vertical-align: top;\n",
       "    }\n",
       "\n",
       "    .dataframe thead th {\n",
       "        text-align: right;\n",
       "    }\n",
       "</style>\n",
       "<table border=\"1\" class=\"dataframe\">\n",
       "  <thead>\n",
       "    <tr style=\"text-align: right;\">\n",
       "      <th></th>\n",
       "      <th>ORF</th>\n",
       "      <th>TAG</th>\n",
       "      <th>PreSpo1</th>\n",
       "      <th>Spore1</th>\n",
       "      <th>Germ1_0</th>\n",
       "      <th>Germ1_1</th>\n",
       "      <th>Germ1_2</th>\n",
       "      <th>Germ1_3</th>\n",
       "      <th>Germ1_4</th>\n",
       "      <th>PreSpo2</th>\n",
       "      <th>Spore2</th>\n",
       "      <th>Germ2_0</th>\n",
       "      <th>Germ2_1</th>\n",
       "      <th>Germ2_2</th>\n",
       "      <th>Germ2_3</th>\n",
       "      <th>HomDip1</th>\n",
       "      <th>HomDip2</th>\n",
       "      <th>HomDip3</th>\n",
       "      <th>HomDip4</th>\n",
       "      <th>HomDip5</th>\n",
       "    </tr>\n",
       "  </thead>\n",
       "  <tbody>\n",
       "    <tr>\n",
       "      <th>0</th>\n",
       "      <td>YAL001C</td>\n",
       "      <td>tag_504_at</td>\n",
       "      <td>4493.5</td>\n",
       "      <td>3859.510</td>\n",
       "      <td>6054.720</td>\n",
       "      <td>9187.320</td>\n",
       "      <td>6446.8</td>\n",
       "      <td>7044.920</td>\n",
       "      <td>7094.82</td>\n",
       "      <td>8424.5</td>\n",
       "      <td>9522.99</td>\n",
       "      <td>8390.94</td>\n",
       "      <td>11803.5</td>\n",
       "      <td>12326.200</td>\n",
       "      <td>16568.000</td>\n",
       "      <td>17379.8</td>\n",
       "      <td>22187.20</td>\n",
       "      <td>15202.200</td>\n",
       "      <td>16804.300</td>\n",
       "      <td>11942.500</td>\n",
       "    </tr>\n",
       "    <tr>\n",
       "      <th>1</th>\n",
       "      <td>YAL001C</td>\n",
       "      <td>tag_504_st</td>\n",
       "      <td>1346.8</td>\n",
       "      <td>1584.370</td>\n",
       "      <td>2485.530</td>\n",
       "      <td>4449.700</td>\n",
       "      <td>3604.0</td>\n",
       "      <td>3409.650</td>\n",
       "      <td>4348.13</td>\n",
       "      <td>2632.0</td>\n",
       "      <td>4148.20</td>\n",
       "      <td>3655.08</td>\n",
       "      <td>3330.3</td>\n",
       "      <td>2992.700</td>\n",
       "      <td>4072.030</td>\n",
       "      <td>7049.5</td>\n",
       "      <td>3571.54</td>\n",
       "      <td>4541.910</td>\n",
       "      <td>4308.060</td>\n",
       "      <td>4049.180</td>\n",
       "    </tr>\n",
       "    <tr>\n",
       "      <th>2</th>\n",
       "      <td>YAL002W</td>\n",
       "      <td>tag_503_at</td>\n",
       "      <td>14272.5</td>\n",
       "      <td>14658.500</td>\n",
       "      <td>22995.900</td>\n",
       "      <td>16368.500</td>\n",
       "      <td>11318.5</td>\n",
       "      <td>10084.800</td>\n",
       "      <td>9199.27</td>\n",
       "      <td>16980.3</td>\n",
       "      <td>14116.00</td>\n",
       "      <td>12438.00</td>\n",
       "      <td>6537.8</td>\n",
       "      <td>4795.830</td>\n",
       "      <td>5004.240</td>\n",
       "      <td>19607.8</td>\n",
       "      <td>36820.10</td>\n",
       "      <td>20150.100</td>\n",
       "      <td>27186.100</td>\n",
       "      <td>19964.200</td>\n",
       "    </tr>\n",
       "    <tr>\n",
       "      <th>3</th>\n",
       "      <td>YAL002W</td>\n",
       "      <td>tag_503_st</td>\n",
       "      <td>15677.0</td>\n",
       "      <td>20186.900</td>\n",
       "      <td>31668.800</td>\n",
       "      <td>18967.400</td>\n",
       "      <td>14515.8</td>\n",
       "      <td>12260.700</td>\n",
       "      <td>13379.9</td>\n",
       "      <td>19562.5</td>\n",
       "      <td>20254.20</td>\n",
       "      <td>17846.50</td>\n",
       "      <td>4940.5</td>\n",
       "      <td>3395.100</td>\n",
       "      <td>4190.340</td>\n",
       "      <td>26168.3</td>\n",
       "      <td>24247.90</td>\n",
       "      <td>22050.400</td>\n",
       "      <td>27313.000</td>\n",
       "      <td>25009.100</td>\n",
       "    </tr>\n",
       "    <tr>\n",
       "      <th>4</th>\n",
       "      <td>YAL003W</td>\n",
       "      <td>tag_502_at</td>\n",
       "      <td>539.3</td>\n",
       "      <td>575.698</td>\n",
       "      <td>903.143</td>\n",
       "      <td>670.166</td>\n",
       "      <td>516.3</td>\n",
       "      <td>618.163</td>\n",
       "      <td>688.684</td>\n",
       "      <td>652.5</td>\n",
       "      <td>1577.45</td>\n",
       "      <td>1389.93</td>\n",
       "      <td>671.0</td>\n",
       "      <td>688.043</td>\n",
       "      <td>869.671</td>\n",
       "      <td>610.5</td>\n",
       "      <td>1073.07</td>\n",
       "      <td>592.109</td>\n",
       "      <td>896.593</td>\n",
       "      <td>724.973</td>\n",
       "    </tr>\n",
       "  </tbody>\n",
       "</table>\n",
       "</div>"
      ],
      "text/plain": [
       "    ORF         TAG            PreSpo1     Spore1    Germ1_0    Germ1_1  \\\n",
       "0  YAL001C    tag_504_at        4493.5   3859.510   6054.720   9187.320   \n",
       "1  YAL001C    tag_504_st        1346.8   1584.370   2485.530   4449.700   \n",
       "2  YAL002W    tag_503_at       14272.5  14658.500  22995.900  16368.500   \n",
       "3  YAL002W    tag_503_st       15677.0  20186.900  31668.800  18967.400   \n",
       "4  YAL003W    tag_502_at         539.3    575.698    903.143    670.166   \n",
       "\n",
       "   Germ1_2    Germ1_3  Germ1_4  PreSpo2    Spore2   Germ2_0  Germ2_1  \\\n",
       "0   6446.8   7044.920  7094.82   8424.5   9522.99   8390.94  11803.5   \n",
       "1   3604.0   3409.650  4348.13   2632.0   4148.20   3655.08   3330.3   \n",
       "2  11318.5  10084.800  9199.27  16980.3  14116.00  12438.00   6537.8   \n",
       "3  14515.8  12260.700  13379.9  19562.5  20254.20  17846.50   4940.5   \n",
       "4    516.3    618.163  688.684    652.5   1577.45   1389.93    671.0   \n",
       "\n",
       "     Germ2_2    Germ2_3  HomDip1   HomDip2    HomDip3    HomDip4    HomDip5  \n",
       "0  12326.200  16568.000  17379.8  22187.20  15202.200  16804.300  11942.500  \n",
       "1   2992.700   4072.030   7049.5   3571.54   4541.910   4308.060   4049.180  \n",
       "2   4795.830   5004.240  19607.8  36820.10  20150.100  27186.100  19964.200  \n",
       "3   3395.100   4190.340  26168.3  24247.90  22050.400  27313.000  25009.100  \n",
       "4    688.043    869.671    610.5   1073.07    592.109    896.593    724.973  "
      ]
     },
     "execution_count": 62,
     "metadata": {},
     "output_type": "execute_result"
    }
   ],
   "source": [
    "tested.head()"
   ]
  },
  {
   "cell_type": "code",
   "execution_count": 63,
   "metadata": {},
   "outputs": [],
   "source": [
    "tested['orf'] = tested['ORF     '].astype(str)"
   ]
  },
  {
   "cell_type": "code",
   "execution_count": 64,
   "metadata": {},
   "outputs": [],
   "source": [
    "tested['orf'] = clean_orf(tested['orf'])"
   ]
  },
  {
   "cell_type": "code",
   "execution_count": 65,
   "metadata": {},
   "outputs": [],
   "source": [
    "tested['orf'] = translate_sc(tested['orf'], to='orf')"
   ]
  },
  {
   "cell_type": "code",
   "execution_count": 66,
   "metadata": {},
   "outputs": [
    {
     "name": "stdout",
     "output_type": "stream",
     "text": [
      "Empty DataFrame\n",
      "Columns: [ORF     , TAG          , PreSpo1, Spore1, Germ1_0, Germ1_1, Germ1_2, Germ1_3, Germ1_4, PreSpo2, Spore2, Germ2_0, Germ2_1, Germ2_2, Germ2_3, HomDip1, HomDip2, HomDip3, HomDip4, HomDip5, orf]\n",
      "Index: []\n",
      "\n",
      "[0 rows x 21 columns]\n"
     ]
    }
   ],
   "source": [
    "# Make sure everything translated ok\n",
    "t = looks_like_orf(tested['orf'])\n",
    "print(tested.loc[~t,])"
   ]
  },
  {
   "cell_type": "code",
   "execution_count": 67,
   "metadata": {},
   "outputs": [
    {
     "name": "stdout",
     "output_type": "stream",
     "text": [
      "Loading SGD features from 2017-04-03.\n"
     ]
    }
   ],
   "source": [
    "tested['essential'] = is_essential(tested['orf'])"
   ]
  },
  {
   "cell_type": "code",
   "execution_count": 68,
   "metadata": {},
   "outputs": [],
   "source": [
    "tested = tested.loc[~tested['essential']]"
   ]
  },
  {
   "cell_type": "code",
   "execution_count": 69,
   "metadata": {},
   "outputs": [
    {
     "data": {
      "text/plain": [
       "(19184, 22)"
      ]
     },
     "execution_count": 69,
     "metadata": {},
     "output_type": "execute_result"
    }
   ],
   "source": [
    "tested.shape"
   ]
  },
  {
   "cell_type": "code",
   "execution_count": 70,
   "metadata": {},
   "outputs": [],
   "source": [
    "tested_orfs = tested['orf'].unique()"
   ]
  },
  {
   "cell_type": "code",
   "execution_count": 71,
   "metadata": {},
   "outputs": [
    {
     "data": {
      "text/plain": [
       "[]"
      ]
     },
     "execution_count": 71,
     "metadata": {},
     "output_type": "execute_result"
    }
   ],
   "source": [
    "missing = [orf for orf in original_data.index.values if orf not in tested_orfs]\n",
    "missing"
   ]
  },
  {
   "cell_type": "code",
   "execution_count": 72,
   "metadata": {},
   "outputs": [],
   "source": [
    "# WT = 1\n",
    "original_data = original_data.reindex(index=tested_orfs, fill_value=1)"
   ]
  },
  {
   "cell_type": "code",
   "execution_count": 73,
   "metadata": {},
   "outputs": [
    {
     "data": {
      "text/plain": [
       "(4791, 2)"
      ]
     },
     "execution_count": 73,
     "metadata": {},
     "output_type": "execute_result"
    }
   ],
   "source": [
    "original_data.shape"
   ]
  },
  {
   "cell_type": "markdown",
   "metadata": {},
   "source": [
    "# Prepare the final dataset"
   ]
  },
  {
   "cell_type": "code",
   "execution_count": 74,
   "metadata": {},
   "outputs": [],
   "source": [
    "data = original_data.copy()"
   ]
  },
  {
   "cell_type": "code",
   "execution_count": 75,
   "metadata": {},
   "outputs": [],
   "source": [
    "dataset_ids = [478, 16004]\n",
    "datasets = datasets.reindex(index=dataset_ids)"
   ]
  },
  {
   "cell_type": "code",
   "execution_count": 76,
   "metadata": {},
   "outputs": [],
   "source": [
    "lst = [datasets.index.values, ['value']*datasets.shape[0]]\n",
    "tuples = list(zip(*lst))\n",
    "idx = pd.MultiIndex.from_tuples(tuples, names=['dataset_id','data_type'])\n",
    "data.columns = idx"
   ]
  },
  {
   "cell_type": "code",
   "execution_count": 77,
   "metadata": {},
   "outputs": [
    {
     "data": {
      "text/html": [
       "<div>\n",
       "<style scoped>\n",
       "    .dataframe tbody tr th:only-of-type {\n",
       "        vertical-align: middle;\n",
       "    }\n",
       "\n",
       "    .dataframe tbody tr th {\n",
       "        vertical-align: top;\n",
       "    }\n",
       "\n",
       "    .dataframe thead tr th {\n",
       "        text-align: left;\n",
       "    }\n",
       "\n",
       "    .dataframe thead tr:last-of-type th {\n",
       "        text-align: right;\n",
       "    }\n",
       "</style>\n",
       "<table border=\"1\" class=\"dataframe\">\n",
       "  <thead>\n",
       "    <tr>\n",
       "      <th>dataset_id</th>\n",
       "      <th>478</th>\n",
       "      <th>16004</th>\n",
       "    </tr>\n",
       "    <tr>\n",
       "      <th>data_type</th>\n",
       "      <th>value</th>\n",
       "      <th>value</th>\n",
       "    </tr>\n",
       "    <tr>\n",
       "      <th>orf</th>\n",
       "      <th></th>\n",
       "      <th></th>\n",
       "    </tr>\n",
       "  </thead>\n",
       "  <tbody>\n",
       "    <tr>\n",
       "      <th>YAL002W</th>\n",
       "      <td>1.0</td>\n",
       "      <td>1.0</td>\n",
       "    </tr>\n",
       "    <tr>\n",
       "      <th>YAL004W</th>\n",
       "      <td>1.0</td>\n",
       "      <td>1.0</td>\n",
       "    </tr>\n",
       "    <tr>\n",
       "      <th>YAL005C</th>\n",
       "      <td>1.0</td>\n",
       "      <td>1.0</td>\n",
       "    </tr>\n",
       "    <tr>\n",
       "      <th>YAL007C</th>\n",
       "      <td>1.0</td>\n",
       "      <td>1.0</td>\n",
       "    </tr>\n",
       "    <tr>\n",
       "      <th>YAL008W</th>\n",
       "      <td>1.0</td>\n",
       "      <td>1.0</td>\n",
       "    </tr>\n",
       "  </tbody>\n",
       "</table>\n",
       "</div>"
      ],
      "text/plain": [
       "dataset_id 478   16004\n",
       "data_type  value value\n",
       "orf                   \n",
       "YAL002W      1.0   1.0\n",
       "YAL004W      1.0   1.0\n",
       "YAL005C      1.0   1.0\n",
       "YAL007C      1.0   1.0\n",
       "YAL008W      1.0   1.0"
      ]
     },
     "execution_count": 77,
     "metadata": {},
     "output_type": "execute_result"
    }
   ],
   "source": [
    "data.head()"
   ]
  },
  {
   "cell_type": "markdown",
   "metadata": {},
   "source": [
    "## Subset to the genes currently in SGD"
   ]
  },
  {
   "cell_type": "code",
   "execution_count": 78,
   "metadata": {},
   "outputs": [
    {
     "name": "stdout",
     "output_type": "stream",
     "text": [
      "ORFs missing from SGD: 24\n"
     ]
    }
   ],
   "source": [
    "genes = pd.read_csv(path_to_genes, sep='\\t', index_col='id')\n",
    "genes = genes.reset_index().set_index('systematic_name')\n",
    "gene_ids = genes.reindex(index=data.index.values)['id'].values\n",
    "num_missing = np.sum(np.isnan(gene_ids))\n",
    "print('ORFs missing from SGD: %d' % num_missing)"
   ]
  },
  {
   "cell_type": "code",
   "execution_count": 79,
   "metadata": {},
   "outputs": [
    {
     "data": {
      "text/html": [
       "<div>\n",
       "<style scoped>\n",
       "    .dataframe tbody tr th:only-of-type {\n",
       "        vertical-align: middle;\n",
       "    }\n",
       "\n",
       "    .dataframe tbody tr th {\n",
       "        vertical-align: top;\n",
       "    }\n",
       "\n",
       "    .dataframe thead tr th {\n",
       "        text-align: left;\n",
       "    }\n",
       "\n",
       "    .dataframe thead tr:last-of-type th {\n",
       "        text-align: right;\n",
       "    }\n",
       "</style>\n",
       "<table border=\"1\" class=\"dataframe\">\n",
       "  <thead>\n",
       "    <tr>\n",
       "      <th></th>\n",
       "      <th>dataset_id</th>\n",
       "      <th>478</th>\n",
       "      <th>16004</th>\n",
       "    </tr>\n",
       "    <tr>\n",
       "      <th></th>\n",
       "      <th>data_type</th>\n",
       "      <th>value</th>\n",
       "      <th>value</th>\n",
       "    </tr>\n",
       "    <tr>\n",
       "      <th>gene_id</th>\n",
       "      <th>orf</th>\n",
       "      <th></th>\n",
       "      <th></th>\n",
       "    </tr>\n",
       "  </thead>\n",
       "  <tbody>\n",
       "    <tr>\n",
       "      <th>2</th>\n",
       "      <th>YAL002W</th>\n",
       "      <td>1.0</td>\n",
       "      <td>1.0</td>\n",
       "    </tr>\n",
       "    <tr>\n",
       "      <th>1863</th>\n",
       "      <th>YAL004W</th>\n",
       "      <td>1.0</td>\n",
       "      <td>1.0</td>\n",
       "    </tr>\n",
       "    <tr>\n",
       "      <th>4</th>\n",
       "      <th>YAL005C</th>\n",
       "      <td>1.0</td>\n",
       "      <td>1.0</td>\n",
       "    </tr>\n",
       "    <tr>\n",
       "      <th>5</th>\n",
       "      <th>YAL007C</th>\n",
       "      <td>1.0</td>\n",
       "      <td>1.0</td>\n",
       "    </tr>\n",
       "    <tr>\n",
       "      <th>6</th>\n",
       "      <th>YAL008W</th>\n",
       "      <td>1.0</td>\n",
       "      <td>1.0</td>\n",
       "    </tr>\n",
       "  </tbody>\n",
       "</table>\n",
       "</div>"
      ],
      "text/plain": [
       "dataset_id      478   16004\n",
       "data_type       value value\n",
       "gene_id orf                \n",
       "2       YAL002W   1.0   1.0\n",
       "1863    YAL004W   1.0   1.0\n",
       "4       YAL005C   1.0   1.0\n",
       "5       YAL007C   1.0   1.0\n",
       "6       YAL008W   1.0   1.0"
      ]
     },
     "execution_count": 79,
     "metadata": {},
     "output_type": "execute_result"
    }
   ],
   "source": [
    "data['gene_id'] = gene_ids\n",
    "data = data.loc[data['gene_id'].notnull()]\n",
    "data['gene_id'] = data['gene_id'].astype(int)\n",
    "data = data.reset_index().set_index(['gene_id','orf'])\n",
    "\n",
    "data.head()"
   ]
  },
  {
   "cell_type": "markdown",
   "metadata": {},
   "source": [
    "# Normalize"
   ]
  },
  {
   "cell_type": "code",
   "execution_count": 80,
   "metadata": {},
   "outputs": [],
   "source": [
    "data_norm = normalize_phenotypic_scores(data, has_tested=True)"
   ]
  },
  {
   "cell_type": "code",
   "execution_count": 81,
   "metadata": {},
   "outputs": [],
   "source": [
    "# Assign proper column names\n",
    "lst = [datasets.index.values, ['valuez']*datasets.shape[0]]\n",
    "tuples = list(zip(*lst))\n",
    "idx = pd.MultiIndex.from_tuples(tuples, names=['dataset_id','data_type'])\n",
    "data_norm.columns = idx"
   ]
  },
  {
   "cell_type": "code",
   "execution_count": 82,
   "metadata": {},
   "outputs": [
    {
     "data": {
      "text/html": [
       "<div>\n",
       "<style scoped>\n",
       "    .dataframe tbody tr th:only-of-type {\n",
       "        vertical-align: middle;\n",
       "    }\n",
       "\n",
       "    .dataframe tbody tr th {\n",
       "        vertical-align: top;\n",
       "    }\n",
       "\n",
       "    .dataframe thead tr th {\n",
       "        text-align: left;\n",
       "    }\n",
       "\n",
       "    .dataframe thead tr:last-of-type th {\n",
       "        text-align: right;\n",
       "    }\n",
       "</style>\n",
       "<table border=\"1\" class=\"dataframe\">\n",
       "  <thead>\n",
       "    <tr>\n",
       "      <th></th>\n",
       "      <th>dataset_id</th>\n",
       "      <th>478</th>\n",
       "      <th>16004</th>\n",
       "      <th>478</th>\n",
       "      <th>16004</th>\n",
       "    </tr>\n",
       "    <tr>\n",
       "      <th></th>\n",
       "      <th>data_type</th>\n",
       "      <th>value</th>\n",
       "      <th>value</th>\n",
       "      <th>valuez</th>\n",
       "      <th>valuez</th>\n",
       "    </tr>\n",
       "    <tr>\n",
       "      <th>gene_id</th>\n",
       "      <th>orf</th>\n",
       "      <th></th>\n",
       "      <th></th>\n",
       "      <th></th>\n",
       "      <th></th>\n",
       "    </tr>\n",
       "  </thead>\n",
       "  <tbody>\n",
       "    <tr>\n",
       "      <th>2</th>\n",
       "      <th>YAL002W</th>\n",
       "      <td>1.0</td>\n",
       "      <td>1.0</td>\n",
       "      <td>-0.078737</td>\n",
       "      <td>0.0</td>\n",
       "    </tr>\n",
       "    <tr>\n",
       "      <th>1863</th>\n",
       "      <th>YAL004W</th>\n",
       "      <td>1.0</td>\n",
       "      <td>1.0</td>\n",
       "      <td>-0.078737</td>\n",
       "      <td>0.0</td>\n",
       "    </tr>\n",
       "    <tr>\n",
       "      <th>4</th>\n",
       "      <th>YAL005C</th>\n",
       "      <td>1.0</td>\n",
       "      <td>1.0</td>\n",
       "      <td>-0.078737</td>\n",
       "      <td>0.0</td>\n",
       "    </tr>\n",
       "    <tr>\n",
       "      <th>5</th>\n",
       "      <th>YAL007C</th>\n",
       "      <td>1.0</td>\n",
       "      <td>1.0</td>\n",
       "      <td>-0.078737</td>\n",
       "      <td>0.0</td>\n",
       "    </tr>\n",
       "    <tr>\n",
       "      <th>6</th>\n",
       "      <th>YAL008W</th>\n",
       "      <td>1.0</td>\n",
       "      <td>1.0</td>\n",
       "      <td>-0.078737</td>\n",
       "      <td>0.0</td>\n",
       "    </tr>\n",
       "  </tbody>\n",
       "</table>\n",
       "</div>"
      ],
      "text/plain": [
       "dataset_id      478   16004     478    16004\n",
       "data_type       value value    valuez valuez\n",
       "gene_id orf                                 \n",
       "2       YAL002W   1.0   1.0 -0.078737    0.0\n",
       "1863    YAL004W   1.0   1.0 -0.078737    0.0\n",
       "4       YAL005C   1.0   1.0 -0.078737    0.0\n",
       "5       YAL007C   1.0   1.0 -0.078737    0.0\n",
       "6       YAL008W   1.0   1.0 -0.078737    0.0"
      ]
     },
     "execution_count": 82,
     "metadata": {},
     "output_type": "execute_result"
    }
   ],
   "source": [
    "data_norm[data.isnull()] = np.nan\n",
    "data_all = data.join(data_norm)\n",
    "\n",
    "data_all.head()"
   ]
  },
  {
   "cell_type": "markdown",
   "metadata": {},
   "source": [
    "# Print out"
   ]
  },
  {
   "cell_type": "code",
   "execution_count": 83,
   "metadata": {},
   "outputs": [],
   "source": [
    "for f in ['value','valuez']:\n",
    "    df = data_all.xs(f, level='data_type', axis=1).copy()\n",
    "    df.columns = datasets['name'].values\n",
    "    df = df.droplevel('gene_id', axis=0)\n",
    "    df.to_csv(paper_name + '_' + f + '.txt', sep='\\t')"
   ]
  },
  {
   "cell_type": "markdown",
   "metadata": {},
   "source": [
    "# Save to DB"
   ]
  },
  {
   "cell_type": "code",
   "execution_count": 52,
   "metadata": {},
   "outputs": [],
   "source": [
    "from IO.save_data_to_db3 import *"
   ]
  },
  {
   "cell_type": "code",
   "execution_count": 53,
   "metadata": {},
   "outputs": [
    {
     "name": "stderr",
     "output_type": "stream",
     "text": [
      "  0%|          | 0/2 [00:00<?, ?it/s]"
     ]
    },
    {
     "name": "stdout",
     "output_type": "stream",
     "text": [
      "Deleting all datasets for PMID 12432101...\n",
      "Inserting the new data...\n"
     ]
    },
    {
     "name": "stderr",
     "output_type": "stream",
     "text": [
      "100%|██████████| 2/2 [00:14<00:00,  7.07s/it]"
     ]
    },
    {
     "name": "stdout",
     "output_type": "stream",
     "text": [
      "Updating the data_modified_on field...\n"
     ]
    },
    {
     "name": "stderr",
     "output_type": "stream",
     "text": [
      "\n"
     ]
    }
   ],
   "source": [
    "save_data_to_db(data_all, paper_pmid)"
   ]
  },
  {
   "cell_type": "code",
   "execution_count": null,
   "metadata": {},
   "outputs": [],
   "source": []
  }
 ],
 "metadata": {
  "kernelspec": {
   "display_name": "yp-data",
   "language": "python",
   "name": "yp-data"
  },
  "language_info": {
   "codemirror_mode": {
    "name": "ipython",
    "version": 3
   },
   "file_extension": ".py",
   "mimetype": "text/x-python",
   "name": "python",
   "nbconvert_exporter": "python",
   "pygments_lexer": "ipython3",
   "version": "3.7.7"
  }
 },
 "nbformat": 4,
 "nbformat_minor": 4
}
