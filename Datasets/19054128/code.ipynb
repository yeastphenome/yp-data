{
 "cells": [
  {
   "cell_type": "code",
   "execution_count": 5,
   "metadata": {},
   "outputs": [],
   "source": [
    "%run ../yp_utils.py"
   ]
  },
  {
   "cell_type": "markdown",
   "metadata": {},
   "source": [
    "# Initial setup"
   ]
  },
  {
   "cell_type": "code",
   "execution_count": 6,
   "metadata": {},
   "outputs": [],
   "source": [
    "paper_pmid = 19054128\n",
    "paper_name = 'yoshikawa_shimizu_2009' "
   ]
  },
  {
   "cell_type": "code",
   "execution_count": 7,
   "metadata": {},
   "outputs": [],
   "source": [
    "datasets = pd.read_csv('extras/YeastPhenome_' + str(paper_pmid) + '_datasets_list.txt', sep='\\t', header=None, names=['dataset_id', 'name'])"
   ]
  },
  {
   "cell_type": "code",
   "execution_count": 8,
   "metadata": {},
   "outputs": [],
   "source": [
    "datasets.set_index('dataset_id', inplace=True)"
   ]
  },
  {
   "cell_type": "markdown",
   "metadata": {},
   "source": [
    "# Load & process the data"
   ]
  },
  {
   "cell_type": "code",
   "execution_count": 12,
   "metadata": {},
   "outputs": [],
   "source": [
    "original_data = pd.read_excel('raw_data/FYR_456_sm_tableS1.xlsx', sheet_name='data', skiprows=1)"
   ]
  },
  {
   "cell_type": "code",
   "execution_count": 13,
   "metadata": {},
   "outputs": [
    {
     "name": "stdout",
     "output_type": "stream",
     "text": [
      "Original data dimensions: 4729 x 14\n"
     ]
    }
   ],
   "source": [
    "print('Original data dimensions: %d x %d' % (original_data.shape))"
   ]
  },
  {
   "cell_type": "code",
   "execution_count": 14,
   "metadata": {},
   "outputs": [
    {
     "data": {
      "text/html": [
       "<div>\n",
       "<style scoped>\n",
       "    .dataframe tbody tr th:only-of-type {\n",
       "        vertical-align: middle;\n",
       "    }\n",
       "\n",
       "    .dataframe tbody tr th {\n",
       "        vertical-align: top;\n",
       "    }\n",
       "\n",
       "    .dataframe thead th {\n",
       "        text-align: right;\n",
       "    }\n",
       "</style>\n",
       "<table border=\"1\" class=\"dataframe\">\n",
       "  <thead>\n",
       "    <tr style=\"text-align: right;\">\n",
       "      <th></th>\n",
       "      <th>Name</th>\n",
       "      <th>Name.1</th>\n",
       "      <th>specific growth rate at 1st experiment (1/h)</th>\n",
       "      <th>specific growth rate at 2nd experiment (1/h)</th>\n",
       "      <th>growth behavior (0: sensitive, 1: no-change, 2: tolerant)</th>\n",
       "      <th>specific growth rate at 1st experiment (1/h) .1</th>\n",
       "      <th>specific growth rate at 2nd experiment (1/h) .1</th>\n",
       "      <th>growth behavior (0: sensitive, 1: no-change, 2: tolerant).1</th>\n",
       "      <th>specific growth rate at 1st experiment (1/h) .2</th>\n",
       "      <th>specific growth rate at 2nd experiment (1/h) .2</th>\n",
       "      <th>growth behavior (0: sensitive, 1: no-change, 2: tolerant).2</th>\n",
       "      <th>specific growth rate at 1st experiment (1/h) .3</th>\n",
       "      <th>specific growth rate at 2nd experiment (1/h) .3</th>\n",
       "      <th>growth behavior (0: sensitive, 1: no-change, 2: tolerant).3</th>\n",
       "    </tr>\n",
       "  </thead>\n",
       "  <tbody>\n",
       "    <tr>\n",
       "      <th>0</th>\n",
       "      <td>YAL068C</td>\n",
       "      <td>YAL068C</td>\n",
       "      <td>0.4549</td>\n",
       "      <td>0.4505</td>\n",
       "      <td>1</td>\n",
       "      <td>0.3045</td>\n",
       "      <td>0.3187</td>\n",
       "      <td>1</td>\n",
       "      <td>0.1795</td>\n",
       "      <td>0.1839</td>\n",
       "      <td>1</td>\n",
       "      <td>0.2066</td>\n",
       "      <td>0.2048</td>\n",
       "      <td>1</td>\n",
       "    </tr>\n",
       "    <tr>\n",
       "      <th>1</th>\n",
       "      <td>YAL067C</td>\n",
       "      <td>SEO1</td>\n",
       "      <td>0.4499</td>\n",
       "      <td>0.4423</td>\n",
       "      <td>1</td>\n",
       "      <td>0.2923</td>\n",
       "      <td>0.3006</td>\n",
       "      <td>1</td>\n",
       "      <td>0.1812</td>\n",
       "      <td>0.1855</td>\n",
       "      <td>1</td>\n",
       "      <td>0.2093</td>\n",
       "      <td>0.1988</td>\n",
       "      <td>1</td>\n",
       "    </tr>\n",
       "    <tr>\n",
       "      <th>2</th>\n",
       "      <td>YAL066W</td>\n",
       "      <td>YAL066W</td>\n",
       "      <td>0.4558</td>\n",
       "      <td>0.4759</td>\n",
       "      <td>1</td>\n",
       "      <td>0.3023</td>\n",
       "      <td>0.3112</td>\n",
       "      <td>1</td>\n",
       "      <td>0.1649</td>\n",
       "      <td>0.1565</td>\n",
       "      <td>1</td>\n",
       "      <td>0.2000</td>\n",
       "      <td>0.1896</td>\n",
       "      <td>1</td>\n",
       "    </tr>\n",
       "    <tr>\n",
       "      <th>3</th>\n",
       "      <td>YAL065C</td>\n",
       "      <td>YAL065C</td>\n",
       "      <td>0.4411</td>\n",
       "      <td>0.4447</td>\n",
       "      <td>1</td>\n",
       "      <td>0.3028</td>\n",
       "      <td>0.3138</td>\n",
       "      <td>1</td>\n",
       "      <td>0.1759</td>\n",
       "      <td>0.1736</td>\n",
       "      <td>1</td>\n",
       "      <td>0.1565</td>\n",
       "      <td>0.1470</td>\n",
       "      <td>0</td>\n",
       "    </tr>\n",
       "    <tr>\n",
       "      <th>4</th>\n",
       "      <td>YAL062W</td>\n",
       "      <td>GDH3</td>\n",
       "      <td>0.4548</td>\n",
       "      <td>0.4803</td>\n",
       "      <td>1</td>\n",
       "      <td>0.3194</td>\n",
       "      <td>0.3160</td>\n",
       "      <td>2</td>\n",
       "      <td>0.1652</td>\n",
       "      <td>0.1664</td>\n",
       "      <td>1</td>\n",
       "      <td>0.1911</td>\n",
       "      <td>0.1838</td>\n",
       "      <td>1</td>\n",
       "    </tr>\n",
       "  </tbody>\n",
       "</table>\n",
       "</div>"
      ],
      "text/plain": [
       "      Name   Name.1  specific growth rate at 1st experiment (1/h)   \\\n",
       "0  YAL068C  YAL068C                                         0.4549   \n",
       "1  YAL067C     SEO1                                         0.4499   \n",
       "2  YAL066W  YAL066W                                         0.4558   \n",
       "3  YAL065C  YAL065C                                         0.4411   \n",
       "4  YAL062W     GDH3                                         0.4548   \n",
       "\n",
       "   specific growth rate at 2nd experiment (1/h)   \\\n",
       "0                                         0.4505   \n",
       "1                                         0.4423   \n",
       "2                                         0.4759   \n",
       "3                                         0.4447   \n",
       "4                                         0.4803   \n",
       "\n",
       "   growth behavior (0: sensitive, 1: no-change, 2: tolerant)  \\\n",
       "0                                                  1           \n",
       "1                                                  1           \n",
       "2                                                  1           \n",
       "3                                                  1           \n",
       "4                                                  1           \n",
       "\n",
       "   specific growth rate at 1st experiment (1/h) .1  \\\n",
       "0                                           0.3045   \n",
       "1                                           0.2923   \n",
       "2                                           0.3023   \n",
       "3                                           0.3028   \n",
       "4                                           0.3194   \n",
       "\n",
       "   specific growth rate at 2nd experiment (1/h) .1  \\\n",
       "0                                           0.3187   \n",
       "1                                           0.3006   \n",
       "2                                           0.3112   \n",
       "3                                           0.3138   \n",
       "4                                           0.3160   \n",
       "\n",
       "   growth behavior (0: sensitive, 1: no-change, 2: tolerant).1  \\\n",
       "0                                                  1             \n",
       "1                                                  1             \n",
       "2                                                  1             \n",
       "3                                                  1             \n",
       "4                                                  2             \n",
       "\n",
       "   specific growth rate at 1st experiment (1/h) .2  \\\n",
       "0                                           0.1795   \n",
       "1                                           0.1812   \n",
       "2                                           0.1649   \n",
       "3                                           0.1759   \n",
       "4                                           0.1652   \n",
       "\n",
       "   specific growth rate at 2nd experiment (1/h) .2  \\\n",
       "0                                           0.1839   \n",
       "1                                           0.1855   \n",
       "2                                           0.1565   \n",
       "3                                           0.1736   \n",
       "4                                           0.1664   \n",
       "\n",
       "   growth behavior (0: sensitive, 1: no-change, 2: tolerant).2  \\\n",
       "0                                                  1             \n",
       "1                                                  1             \n",
       "2                                                  1             \n",
       "3                                                  1             \n",
       "4                                                  1             \n",
       "\n",
       "   specific growth rate at 1st experiment (1/h) .3  \\\n",
       "0                                           0.2066   \n",
       "1                                           0.2093   \n",
       "2                                           0.2000   \n",
       "3                                           0.1565   \n",
       "4                                           0.1911   \n",
       "\n",
       "   specific growth rate at 2nd experiment (1/h) .3  \\\n",
       "0                                           0.2048   \n",
       "1                                           0.1988   \n",
       "2                                           0.1896   \n",
       "3                                           0.1470   \n",
       "4                                           0.1838   \n",
       "\n",
       "   growth behavior (0: sensitive, 1: no-change, 2: tolerant).3  \n",
       "0                                                  1            \n",
       "1                                                  1            \n",
       "2                                                  1            \n",
       "3                                                  0            \n",
       "4                                                  1            "
      ]
     },
     "execution_count": 14,
     "metadata": {},
     "output_type": "execute_result"
    }
   ],
   "source": [
    "original_data.head()"
   ]
  },
  {
   "cell_type": "code",
   "execution_count": 15,
   "metadata": {},
   "outputs": [],
   "source": [
    "original_data['orf'] = original_data['Name'].astype(str)"
   ]
  },
  {
   "cell_type": "code",
   "execution_count": 16,
   "metadata": {},
   "outputs": [],
   "source": [
    "# Eliminate all white spaces & capitalize\n",
    "original_data['orf'] = clean_orf(original_data['orf'])"
   ]
  },
  {
   "cell_type": "code",
   "execution_count": 17,
   "metadata": {},
   "outputs": [],
   "source": [
    "# Translate to ORFs \n",
    "original_data['orf'] = translate_sc(original_data['orf'], to='orf')"
   ]
  },
  {
   "cell_type": "code",
   "execution_count": 18,
   "metadata": {},
   "outputs": [
    {
     "name": "stdout",
     "output_type": "stream",
     "text": [
      "Empty DataFrame\n",
      "Columns: [Name, Name.1, specific growth rate at 1st experiment (1/h) , specific growth rate at 2nd experiment (1/h) , growth behavior (0: sensitive, 1: no-change, 2: tolerant), specific growth rate at 1st experiment (1/h) .1, specific growth rate at 2nd experiment (1/h) .1, growth behavior (0: sensitive, 1: no-change, 2: tolerant).1, specific growth rate at 1st experiment (1/h) .2, specific growth rate at 2nd experiment (1/h) .2, growth behavior (0: sensitive, 1: no-change, 2: tolerant).2, specific growth rate at 1st experiment (1/h) .3, specific growth rate at 2nd experiment (1/h) .3, growth behavior (0: sensitive, 1: no-change, 2: tolerant).3, orf]\n",
      "Index: []\n"
     ]
    }
   ],
   "source": [
    "# Make sure everything translated ok\n",
    "t = looks_like_orf(original_data['orf'])\n",
    "print(original_data.loc[~t,])"
   ]
  },
  {
   "cell_type": "code",
   "execution_count": 19,
   "metadata": {},
   "outputs": [],
   "source": [
    "original_data.set_index('orf', inplace=True)"
   ]
  },
  {
   "cell_type": "code",
   "execution_count": 21,
   "metadata": {},
   "outputs": [],
   "source": [
    "data_cols = [c for c in original_data.columns if 'specific growth rate' in c]"
   ]
  },
  {
   "cell_type": "code",
   "execution_count": 22,
   "metadata": {},
   "outputs": [],
   "source": [
    "original_data = original_data[data_cols].copy()"
   ]
  },
  {
   "cell_type": "code",
   "execution_count": 23,
   "metadata": {},
   "outputs": [],
   "source": [
    "original_data = original_data.apply(pd.to_numeric, axis=1, errors='coerce')"
   ]
  },
  {
   "cell_type": "code",
   "execution_count": 24,
   "metadata": {},
   "outputs": [],
   "source": [
    "original_data = original_data.groupby(original_data.index).mean()"
   ]
  },
  {
   "cell_type": "code",
   "execution_count": 25,
   "metadata": {},
   "outputs": [
    {
     "data": {
      "text/plain": [
       "(4705, 8)"
      ]
     },
     "execution_count": 25,
     "metadata": {},
     "output_type": "execute_result"
    }
   ],
   "source": [
    "original_data.shape"
   ]
  },
  {
   "cell_type": "code",
   "execution_count": 27,
   "metadata": {},
   "outputs": [],
   "source": [
    "dataset_ids = [100, 100, 523, 523, 4, 4, 5, 5]\n",
    "original_data.columns = dataset_ids"
   ]
  },
  {
   "cell_type": "code",
   "execution_count": 28,
   "metadata": {},
   "outputs": [],
   "source": [
    "original_data = original_data.T\n",
    "original_data = original_data.groupby(original_data.index).mean()\n",
    "original_data = original_data.T"
   ]
  },
  {
   "cell_type": "code",
   "execution_count": 29,
   "metadata": {},
   "outputs": [
    {
     "data": {
      "text/plain": [
       "(4705, 4)"
      ]
     },
     "execution_count": 29,
     "metadata": {},
     "output_type": "execute_result"
    }
   ],
   "source": [
    "original_data.shape"
   ]
  },
  {
   "cell_type": "code",
   "execution_count": 31,
   "metadata": {},
   "outputs": [
    {
     "data": {
      "text/html": [
       "<div>\n",
       "<style scoped>\n",
       "    .dataframe tbody tr th:only-of-type {\n",
       "        vertical-align: middle;\n",
       "    }\n",
       "\n",
       "    .dataframe tbody tr th {\n",
       "        vertical-align: top;\n",
       "    }\n",
       "\n",
       "    .dataframe thead th {\n",
       "        text-align: right;\n",
       "    }\n",
       "</style>\n",
       "<table border=\"1\" class=\"dataframe\">\n",
       "  <thead>\n",
       "    <tr style=\"text-align: right;\">\n",
       "      <th></th>\n",
       "      <th>4</th>\n",
       "      <th>5</th>\n",
       "      <th>100</th>\n",
       "      <th>523</th>\n",
       "    </tr>\n",
       "    <tr>\n",
       "      <th>orf</th>\n",
       "      <th></th>\n",
       "      <th></th>\n",
       "      <th></th>\n",
       "      <th></th>\n",
       "    </tr>\n",
       "  </thead>\n",
       "  <tbody>\n",
       "    <tr>\n",
       "      <th>YAL002W</th>\n",
       "      <td>0.369395</td>\n",
       "      <td>0.433857</td>\n",
       "      <td>1.0</td>\n",
       "      <td>0.682175</td>\n",
       "    </tr>\n",
       "    <tr>\n",
       "      <th>YAL004W</th>\n",
       "      <td>0.381866</td>\n",
       "      <td>0.484486</td>\n",
       "      <td>1.0</td>\n",
       "      <td>0.716042</td>\n",
       "    </tr>\n",
       "    <tr>\n",
       "      <th>YAL005C</th>\n",
       "      <td>0.358770</td>\n",
       "      <td>0.433311</td>\n",
       "      <td>1.0</td>\n",
       "      <td>0.689781</td>\n",
       "    </tr>\n",
       "    <tr>\n",
       "      <th>YAL007C</th>\n",
       "      <td>0.371400</td>\n",
       "      <td>0.355228</td>\n",
       "      <td>1.0</td>\n",
       "      <td>0.685645</td>\n",
       "    </tr>\n",
       "    <tr>\n",
       "      <th>YAL008W</th>\n",
       "      <td>0.375338</td>\n",
       "      <td>0.443483</td>\n",
       "      <td>1.0</td>\n",
       "      <td>0.674310</td>\n",
       "    </tr>\n",
       "  </tbody>\n",
       "</table>\n",
       "</div>"
      ],
      "text/plain": [
       "              4         5    100       523\n",
       "orf                                       \n",
       "YAL002W  0.369395  0.433857  1.0  0.682175\n",
       "YAL004W  0.381866  0.484486  1.0  0.716042\n",
       "YAL005C  0.358770  0.433311  1.0  0.689781\n",
       "YAL007C  0.371400  0.355228  1.0  0.685645\n",
       "YAL008W  0.375338  0.443483  1.0  0.674310"
      ]
     },
     "execution_count": 31,
     "metadata": {},
     "output_type": "execute_result"
    }
   ],
   "source": [
    "# Normalize by the untreated sample\n",
    "original_data = original_data.div(original_data[100], axis=0)\n",
    "original_data.head()"
   ]
  },
  {
   "cell_type": "code",
   "execution_count": 32,
   "metadata": {},
   "outputs": [],
   "source": [
    "original_data.drop(columns=[100], inplace=True)"
   ]
  },
  {
   "cell_type": "markdown",
   "metadata": {},
   "source": [
    "# Prepare the final dataset"
   ]
  },
  {
   "cell_type": "code",
   "execution_count": 33,
   "metadata": {},
   "outputs": [],
   "source": [
    "data = original_data.copy()"
   ]
  },
  {
   "cell_type": "code",
   "execution_count": 34,
   "metadata": {},
   "outputs": [],
   "source": [
    "dataset_ids = original_data.columns.values\n",
    "datasets = datasets.reindex(index=dataset_ids)"
   ]
  },
  {
   "cell_type": "code",
   "execution_count": 35,
   "metadata": {},
   "outputs": [],
   "source": [
    "lst = [datasets.index.values, ['value']*datasets.shape[0]]\n",
    "tuples = list(zip(*lst))\n",
    "idx = pd.MultiIndex.from_tuples(tuples, names=['dataset_id','data_type'])\n",
    "data.columns = idx"
   ]
  },
  {
   "cell_type": "code",
   "execution_count": 36,
   "metadata": {},
   "outputs": [
    {
     "data": {
      "text/html": [
       "<div>\n",
       "<style scoped>\n",
       "    .dataframe tbody tr th:only-of-type {\n",
       "        vertical-align: middle;\n",
       "    }\n",
       "\n",
       "    .dataframe tbody tr th {\n",
       "        vertical-align: top;\n",
       "    }\n",
       "\n",
       "    .dataframe thead tr th {\n",
       "        text-align: left;\n",
       "    }\n",
       "\n",
       "    .dataframe thead tr:last-of-type th {\n",
       "        text-align: right;\n",
       "    }\n",
       "</style>\n",
       "<table border=\"1\" class=\"dataframe\">\n",
       "  <thead>\n",
       "    <tr>\n",
       "      <th>dataset_id</th>\n",
       "      <th>4</th>\n",
       "      <th>5</th>\n",
       "      <th>523</th>\n",
       "    </tr>\n",
       "    <tr>\n",
       "      <th>data_type</th>\n",
       "      <th>value</th>\n",
       "      <th>value</th>\n",
       "      <th>value</th>\n",
       "    </tr>\n",
       "    <tr>\n",
       "      <th>orf</th>\n",
       "      <th></th>\n",
       "      <th></th>\n",
       "      <th></th>\n",
       "    </tr>\n",
       "  </thead>\n",
       "  <tbody>\n",
       "    <tr>\n",
       "      <th>YAL002W</th>\n",
       "      <td>0.369395</td>\n",
       "      <td>0.433857</td>\n",
       "      <td>0.682175</td>\n",
       "    </tr>\n",
       "    <tr>\n",
       "      <th>YAL004W</th>\n",
       "      <td>0.381866</td>\n",
       "      <td>0.484486</td>\n",
       "      <td>0.716042</td>\n",
       "    </tr>\n",
       "    <tr>\n",
       "      <th>YAL005C</th>\n",
       "      <td>0.358770</td>\n",
       "      <td>0.433311</td>\n",
       "      <td>0.689781</td>\n",
       "    </tr>\n",
       "    <tr>\n",
       "      <th>YAL007C</th>\n",
       "      <td>0.371400</td>\n",
       "      <td>0.355228</td>\n",
       "      <td>0.685645</td>\n",
       "    </tr>\n",
       "    <tr>\n",
       "      <th>YAL008W</th>\n",
       "      <td>0.375338</td>\n",
       "      <td>0.443483</td>\n",
       "      <td>0.674310</td>\n",
       "    </tr>\n",
       "  </tbody>\n",
       "</table>\n",
       "</div>"
      ],
      "text/plain": [
       "dataset_id       4         5         523\n",
       "data_type      value     value     value\n",
       "orf                                     \n",
       "YAL002W     0.369395  0.433857  0.682175\n",
       "YAL004W     0.381866  0.484486  0.716042\n",
       "YAL005C     0.358770  0.433311  0.689781\n",
       "YAL007C     0.371400  0.355228  0.685645\n",
       "YAL008W     0.375338  0.443483  0.674310"
      ]
     },
     "execution_count": 36,
     "metadata": {},
     "output_type": "execute_result"
    }
   ],
   "source": [
    "data.head()"
   ]
  },
  {
   "cell_type": "markdown",
   "metadata": {},
   "source": [
    "## Subset to the genes currently in SGD"
   ]
  },
  {
   "cell_type": "code",
   "execution_count": 37,
   "metadata": {},
   "outputs": [
    {
     "name": "stdout",
     "output_type": "stream",
     "text": [
      "ORFs missing from SGD: 26\n"
     ]
    }
   ],
   "source": [
    "genes = pd.read_csv(path_to_genes, sep='\\t', index_col='id')\n",
    "genes = genes.reset_index().set_index('systematic_name')\n",
    "gene_ids = genes.reindex(index=data.index.values)['id'].values\n",
    "num_missing = np.sum(np.isnan(gene_ids))\n",
    "print('ORFs missing from SGD: %d' % num_missing)"
   ]
  },
  {
   "cell_type": "code",
   "execution_count": 38,
   "metadata": {},
   "outputs": [
    {
     "data": {
      "text/html": [
       "<div>\n",
       "<style scoped>\n",
       "    .dataframe tbody tr th:only-of-type {\n",
       "        vertical-align: middle;\n",
       "    }\n",
       "\n",
       "    .dataframe tbody tr th {\n",
       "        vertical-align: top;\n",
       "    }\n",
       "\n",
       "    .dataframe thead tr th {\n",
       "        text-align: left;\n",
       "    }\n",
       "\n",
       "    .dataframe thead tr:last-of-type th {\n",
       "        text-align: right;\n",
       "    }\n",
       "</style>\n",
       "<table border=\"1\" class=\"dataframe\">\n",
       "  <thead>\n",
       "    <tr>\n",
       "      <th></th>\n",
       "      <th>dataset_id</th>\n",
       "      <th>4</th>\n",
       "      <th>5</th>\n",
       "      <th>523</th>\n",
       "    </tr>\n",
       "    <tr>\n",
       "      <th></th>\n",
       "      <th>data_type</th>\n",
       "      <th>value</th>\n",
       "      <th>value</th>\n",
       "      <th>value</th>\n",
       "    </tr>\n",
       "    <tr>\n",
       "      <th>gene_id</th>\n",
       "      <th>orf</th>\n",
       "      <th></th>\n",
       "      <th></th>\n",
       "      <th></th>\n",
       "    </tr>\n",
       "  </thead>\n",
       "  <tbody>\n",
       "    <tr>\n",
       "      <th>2</th>\n",
       "      <th>YAL002W</th>\n",
       "      <td>0.369395</td>\n",
       "      <td>0.433857</td>\n",
       "      <td>0.682175</td>\n",
       "    </tr>\n",
       "    <tr>\n",
       "      <th>1863</th>\n",
       "      <th>YAL004W</th>\n",
       "      <td>0.381866</td>\n",
       "      <td>0.484486</td>\n",
       "      <td>0.716042</td>\n",
       "    </tr>\n",
       "    <tr>\n",
       "      <th>4</th>\n",
       "      <th>YAL005C</th>\n",
       "      <td>0.358770</td>\n",
       "      <td>0.433311</td>\n",
       "      <td>0.689781</td>\n",
       "    </tr>\n",
       "    <tr>\n",
       "      <th>5</th>\n",
       "      <th>YAL007C</th>\n",
       "      <td>0.371400</td>\n",
       "      <td>0.355228</td>\n",
       "      <td>0.685645</td>\n",
       "    </tr>\n",
       "    <tr>\n",
       "      <th>6</th>\n",
       "      <th>YAL008W</th>\n",
       "      <td>0.375338</td>\n",
       "      <td>0.443483</td>\n",
       "      <td>0.674310</td>\n",
       "    </tr>\n",
       "  </tbody>\n",
       "</table>\n",
       "</div>"
      ],
      "text/plain": [
       "dataset_id            4         5         523\n",
       "data_type           value     value     value\n",
       "gene_id orf                                  \n",
       "2       YAL002W  0.369395  0.433857  0.682175\n",
       "1863    YAL004W  0.381866  0.484486  0.716042\n",
       "4       YAL005C  0.358770  0.433311  0.689781\n",
       "5       YAL007C  0.371400  0.355228  0.685645\n",
       "6       YAL008W  0.375338  0.443483  0.674310"
      ]
     },
     "execution_count": 38,
     "metadata": {},
     "output_type": "execute_result"
    }
   ],
   "source": [
    "data['gene_id'] = gene_ids\n",
    "data = data.loc[data['gene_id'].notnull()]\n",
    "data['gene_id'] = data['gene_id'].astype(int)\n",
    "data = data.reset_index().set_index(['gene_id','orf'])\n",
    "\n",
    "data.head()"
   ]
  },
  {
   "cell_type": "markdown",
   "metadata": {},
   "source": [
    "# Normalize"
   ]
  },
  {
   "cell_type": "code",
   "execution_count": 39,
   "metadata": {},
   "outputs": [],
   "source": [
    "data_norm = normalize_phenotypic_scores(data, has_tested=True)"
   ]
  },
  {
   "cell_type": "code",
   "execution_count": 40,
   "metadata": {},
   "outputs": [],
   "source": [
    "# Assign proper column names\n",
    "lst = [datasets.index.values, ['valuez']*datasets.shape[0]]\n",
    "tuples = list(zip(*lst))\n",
    "idx = pd.MultiIndex.from_tuples(tuples, names=['dataset_id','data_type'])\n",
    "data_norm.columns = idx"
   ]
  },
  {
   "cell_type": "code",
   "execution_count": 41,
   "metadata": {},
   "outputs": [
    {
     "data": {
      "text/html": [
       "<div>\n",
       "<style scoped>\n",
       "    .dataframe tbody tr th:only-of-type {\n",
       "        vertical-align: middle;\n",
       "    }\n",
       "\n",
       "    .dataframe tbody tr th {\n",
       "        vertical-align: top;\n",
       "    }\n",
       "\n",
       "    .dataframe thead tr th {\n",
       "        text-align: left;\n",
       "    }\n",
       "\n",
       "    .dataframe thead tr:last-of-type th {\n",
       "        text-align: right;\n",
       "    }\n",
       "</style>\n",
       "<table border=\"1\" class=\"dataframe\">\n",
       "  <thead>\n",
       "    <tr>\n",
       "      <th></th>\n",
       "      <th>dataset_id</th>\n",
       "      <th>4</th>\n",
       "      <th>5</th>\n",
       "      <th>523</th>\n",
       "      <th>4</th>\n",
       "      <th>5</th>\n",
       "      <th>523</th>\n",
       "    </tr>\n",
       "    <tr>\n",
       "      <th></th>\n",
       "      <th>data_type</th>\n",
       "      <th>value</th>\n",
       "      <th>value</th>\n",
       "      <th>value</th>\n",
       "      <th>valuez</th>\n",
       "      <th>valuez</th>\n",
       "      <th>valuez</th>\n",
       "    </tr>\n",
       "    <tr>\n",
       "      <th>gene_id</th>\n",
       "      <th>orf</th>\n",
       "      <th></th>\n",
       "      <th></th>\n",
       "      <th></th>\n",
       "      <th></th>\n",
       "      <th></th>\n",
       "      <th></th>\n",
       "    </tr>\n",
       "  </thead>\n",
       "  <tbody>\n",
       "    <tr>\n",
       "      <th>2</th>\n",
       "      <th>YAL002W</th>\n",
       "      <td>0.369395</td>\n",
       "      <td>0.433857</td>\n",
       "      <td>0.682175</td>\n",
       "      <td>-0.356622</td>\n",
       "      <td>-0.273392</td>\n",
       "      <td>0.294598</td>\n",
       "    </tr>\n",
       "    <tr>\n",
       "      <th>1863</th>\n",
       "      <th>YAL004W</th>\n",
       "      <td>0.381866</td>\n",
       "      <td>0.484486</td>\n",
       "      <td>0.716042</td>\n",
       "      <td>-0.133611</td>\n",
       "      <td>0.660291</td>\n",
       "      <td>1.104287</td>\n",
       "    </tr>\n",
       "    <tr>\n",
       "      <th>4</th>\n",
       "      <th>YAL005C</th>\n",
       "      <td>0.358770</td>\n",
       "      <td>0.433311</td>\n",
       "      <td>0.689781</td>\n",
       "      <td>-0.546602</td>\n",
       "      <td>-0.283448</td>\n",
       "      <td>0.476443</td>\n",
       "    </tr>\n",
       "    <tr>\n",
       "      <th>5</th>\n",
       "      <th>YAL007C</th>\n",
       "      <td>0.371400</td>\n",
       "      <td>0.355228</td>\n",
       "      <td>0.685645</td>\n",
       "      <td>-0.320761</td>\n",
       "      <td>-1.723406</td>\n",
       "      <td>0.377552</td>\n",
       "    </tr>\n",
       "    <tr>\n",
       "      <th>6</th>\n",
       "      <th>YAL008W</th>\n",
       "      <td>0.375338</td>\n",
       "      <td>0.443483</td>\n",
       "      <td>0.674310</td>\n",
       "      <td>-0.250345</td>\n",
       "      <td>-0.095867</td>\n",
       "      <td>0.106577</td>\n",
       "    </tr>\n",
       "  </tbody>\n",
       "</table>\n",
       "</div>"
      ],
      "text/plain": [
       "dataset_id            4         5         523       4         5         523\n",
       "data_type           value     value     value    valuez    valuez    valuez\n",
       "gene_id orf                                                                \n",
       "2       YAL002W  0.369395  0.433857  0.682175 -0.356622 -0.273392  0.294598\n",
       "1863    YAL004W  0.381866  0.484486  0.716042 -0.133611  0.660291  1.104287\n",
       "4       YAL005C  0.358770  0.433311  0.689781 -0.546602 -0.283448  0.476443\n",
       "5       YAL007C  0.371400  0.355228  0.685645 -0.320761 -1.723406  0.377552\n",
       "6       YAL008W  0.375338  0.443483  0.674310 -0.250345 -0.095867  0.106577"
      ]
     },
     "execution_count": 41,
     "metadata": {},
     "output_type": "execute_result"
    }
   ],
   "source": [
    "data_norm[data.isnull()] = np.nan\n",
    "data_all = data.join(data_norm)\n",
    "\n",
    "data_all.head()"
   ]
  },
  {
   "cell_type": "markdown",
   "metadata": {},
   "source": [
    "# Print out"
   ]
  },
  {
   "cell_type": "code",
   "execution_count": 42,
   "metadata": {},
   "outputs": [],
   "source": [
    "for f in ['value','valuez']:\n",
    "    df = data_all.xs(f, level='data_type', axis=1).copy()\n",
    "    df.columns = datasets['name'].values\n",
    "    df = df.droplevel('gene_id', axis=0)\n",
    "    df.to_csv(paper_name + '_' + f + '.txt', sep='\\t')"
   ]
  },
  {
   "cell_type": "markdown",
   "metadata": {},
   "source": [
    "# Save to DB"
   ]
  },
  {
   "cell_type": "code",
   "execution_count": 43,
   "metadata": {},
   "outputs": [],
   "source": [
    "from IO.save_data_to_db3 import *"
   ]
  },
  {
   "cell_type": "code",
   "execution_count": 44,
   "metadata": {},
   "outputs": [
    {
     "name": "stderr",
     "output_type": "stream",
     "text": [
      "  0%|          | 0/3 [00:00<?, ?it/s]"
     ]
    },
    {
     "name": "stdout",
     "output_type": "stream",
     "text": [
      "Deleting all datasets for PMID 19054128...\n",
      "Inserting the new data...\n"
     ]
    },
    {
     "name": "stderr",
     "output_type": "stream",
     "text": [
      "100%|██████████| 3/3 [00:20<00:00,  6.82s/it]"
     ]
    },
    {
     "name": "stdout",
     "output_type": "stream",
     "text": [
      "Updating the data_modified_on field...\n"
     ]
    },
    {
     "name": "stderr",
     "output_type": "stream",
     "text": [
      "\n"
     ]
    }
   ],
   "source": [
    "save_data_to_db(data_all, paper_pmid)"
   ]
  },
  {
   "cell_type": "code",
   "execution_count": null,
   "metadata": {},
   "outputs": [],
   "source": []
  }
 ],
 "metadata": {
  "kernelspec": {
   "display_name": "yp-data",
   "language": "python",
   "name": "yp-data"
  },
  "language_info": {
   "codemirror_mode": {
    "name": "ipython",
    "version": 3
   },
   "file_extension": ".py",
   "mimetype": "text/x-python",
   "name": "python",
   "nbconvert_exporter": "python",
   "pygments_lexer": "ipython3",
   "version": "3.7.7"
  }
 },
 "nbformat": 4,
 "nbformat_minor": 4
}
