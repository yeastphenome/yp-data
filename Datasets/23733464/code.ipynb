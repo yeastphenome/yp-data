{
 "cells": [
  {
   "cell_type": "code",
   "execution_count": 1,
   "metadata": {},
   "outputs": [],
   "source": [
    "import numpy as np\n",
    "import pandas as pd\n",
    "\n",
    "import sys\n",
    "\n",
    "from os.path import expanduser\n",
    "sys.path.append(expanduser('~') + '/Lab/Utils/Python/')\n",
    "\n",
    "from Conversions.translate import *\n",
    "from Strings.is_a import *"
   ]
  },
  {
   "cell_type": "markdown",
   "metadata": {},
   "source": [
    "# Initial setup"
   ]
  },
  {
   "cell_type": "code",
   "execution_count": 2,
   "metadata": {},
   "outputs": [],
   "source": [
    "paper_pmid = 23733464\n",
    "paper_name = 'islahudin_avery_2013' "
   ]
  },
  {
   "cell_type": "code",
   "execution_count": 3,
   "metadata": {},
   "outputs": [],
   "source": [
    "datasets = pd.read_csv('extras/YeastPhenome_' + str(paper_pmid) + '_datasets_list.txt', sep='\\t', header=None, names=['pmid', 'name'])"
   ]
  },
  {
   "cell_type": "code",
   "execution_count": 4,
   "metadata": {},
   "outputs": [],
   "source": [
    "datasets.set_index('pmid', inplace=True)"
   ]
  },
  {
   "cell_type": "markdown",
   "metadata": {},
   "source": [
    "# Load & process the data"
   ]
  },
  {
   "cell_type": "code",
   "execution_count": 5,
   "metadata": {},
   "outputs": [],
   "source": [
    "original_data = pd.read_excel('raw_data/zac999102061sd2.xlsx', sheet_name='Initial CQ Screen', skiprows=3)"
   ]
  },
  {
   "cell_type": "code",
   "execution_count": 6,
   "metadata": {},
   "outputs": [
    {
     "name": "stdout",
     "output_type": "stream",
     "text": [
      "Original data dimensions: 5664 x 13\n"
     ]
    }
   ],
   "source": [
    "print('Original data dimensions: %d x %d' % (original_data.shape))"
   ]
  },
  {
   "cell_type": "code",
   "execution_count": 7,
   "metadata": {},
   "outputs": [
    {
     "data": {
      "text/html": [
       "<div>\n",
       "<style scoped>\n",
       "    .dataframe tbody tr th:only-of-type {\n",
       "        vertical-align: middle;\n",
       "    }\n",
       "\n",
       "    .dataframe tbody tr th {\n",
       "        vertical-align: top;\n",
       "    }\n",
       "\n",
       "    .dataframe thead th {\n",
       "        text-align: right;\n",
       "    }\n",
       "</style>\n",
       "<table border=\"1\" class=\"dataframe\">\n",
       "  <thead>\n",
       "    <tr style=\"text-align: right;\">\n",
       "      <th></th>\n",
       "      <th>ORF</th>\n",
       "      <th>Plate</th>\n",
       "      <th>Row</th>\n",
       "      <th>Col</th>\n",
       "      <th>Control A</th>\n",
       "      <th>Control B</th>\n",
       "      <th>Chloroquine A</th>\n",
       "      <th>Chloroquine  B</th>\n",
       "      <th>MEAN Control</th>\n",
       "      <th>MEAN +Chloroquine</th>\n",
       "      <th>Growth Ratio (GR)</th>\n",
       "      <th>Plate Median</th>\n",
       "      <th>Adjusted GR</th>\n",
       "    </tr>\n",
       "  </thead>\n",
       "  <tbody>\n",
       "    <tr>\n",
       "      <th>0</th>\n",
       "      <td>EMPTY</td>\n",
       "      <td>1</td>\n",
       "      <td>A</td>\n",
       "      <td>1</td>\n",
       "      <td>0.117</td>\n",
       "      <td>0.116</td>\n",
       "      <td>0.110</td>\n",
       "      <td>0.105</td>\n",
       "      <td>0.1165</td>\n",
       "      <td>0.1075</td>\n",
       "      <td>SLOW</td>\n",
       "      <td>1.277311</td>\n",
       "      <td>SLOW</td>\n",
       "    </tr>\n",
       "    <tr>\n",
       "      <th>1</th>\n",
       "      <td>YHL047C</td>\n",
       "      <td>1</td>\n",
       "      <td>A</td>\n",
       "      <td>2</td>\n",
       "      <td>0.471</td>\n",
       "      <td>0.443</td>\n",
       "      <td>0.432</td>\n",
       "      <td>0.389</td>\n",
       "      <td>0.4570</td>\n",
       "      <td>0.4105</td>\n",
       "      <td>1.11328</td>\n",
       "      <td>1.277311</td>\n",
       "      <td>0.871578</td>\n",
       "    </tr>\n",
       "    <tr>\n",
       "      <th>2</th>\n",
       "      <td>YHL046C</td>\n",
       "      <td>1</td>\n",
       "      <td>A</td>\n",
       "      <td>3</td>\n",
       "      <td>0.736</td>\n",
       "      <td>0.509</td>\n",
       "      <td>0.392</td>\n",
       "      <td>0.424</td>\n",
       "      <td>0.6225</td>\n",
       "      <td>0.4080</td>\n",
       "      <td>1.52574</td>\n",
       "      <td>1.277311</td>\n",
       "      <td>1.19449</td>\n",
       "    </tr>\n",
       "    <tr>\n",
       "      <th>3</th>\n",
       "      <td>YHL045W</td>\n",
       "      <td>1</td>\n",
       "      <td>A</td>\n",
       "      <td>4</td>\n",
       "      <td>0.667</td>\n",
       "      <td>0.461</td>\n",
       "      <td>0.520</td>\n",
       "      <td>0.380</td>\n",
       "      <td>0.5640</td>\n",
       "      <td>0.4500</td>\n",
       "      <td>1.25333</td>\n",
       "      <td>1.277311</td>\n",
       "      <td>0.981228</td>\n",
       "    </tr>\n",
       "    <tr>\n",
       "      <th>4</th>\n",
       "      <td>YHL044W</td>\n",
       "      <td>1</td>\n",
       "      <td>A</td>\n",
       "      <td>5</td>\n",
       "      <td>0.117</td>\n",
       "      <td>0.119</td>\n",
       "      <td>0.107</td>\n",
       "      <td>0.107</td>\n",
       "      <td>0.1180</td>\n",
       "      <td>0.1070</td>\n",
       "      <td>SLOW</td>\n",
       "      <td>1.277311</td>\n",
       "      <td>SLOW</td>\n",
       "    </tr>\n",
       "  </tbody>\n",
       "</table>\n",
       "</div>"
      ],
      "text/plain": [
       "       ORF  Plate Row Col  Control A  ...  MEAN Control  MEAN +Chloroquine  Growth Ratio (GR)  Plate Median  Adjusted GR\n",
       "0    EMPTY      1   A   1      0.117  ...        0.1165             0.1075               SLOW      1.277311         SLOW\n",
       "1  YHL047C      1   A   2      0.471  ...        0.4570             0.4105            1.11328      1.277311     0.871578\n",
       "2  YHL046C      1   A   3      0.736  ...        0.6225             0.4080            1.52574      1.277311      1.19449\n",
       "3  YHL045W      1   A   4      0.667  ...        0.5640             0.4500            1.25333      1.277311     0.981228\n",
       "4  YHL044W      1   A   5      0.117  ...        0.1180             0.1070               SLOW      1.277311         SLOW\n",
       "\n",
       "[5 rows x 13 columns]"
      ]
     },
     "execution_count": 7,
     "metadata": {},
     "output_type": "execute_result"
    }
   ],
   "source": [
    "original_data.head()"
   ]
  },
  {
   "cell_type": "code",
   "execution_count": 8,
   "metadata": {},
   "outputs": [],
   "source": [
    "original_data['ORF'] = original_data['ORF'].astype(str)"
   ]
  },
  {
   "cell_type": "code",
   "execution_count": 9,
   "metadata": {},
   "outputs": [],
   "source": [
    "# Eliminate all white spaces & capitalize\n",
    "original_data['ORF'] = clean_orf(original_data['ORF'])"
   ]
  },
  {
   "cell_type": "code",
   "execution_count": 10,
   "metadata": {},
   "outputs": [],
   "source": [
    "# Translate to ORFs \n",
    "original_data['ORF'] = translate_sc(original_data['ORF'], to='orf')"
   ]
  },
  {
   "cell_type": "code",
   "execution_count": 11,
   "metadata": {},
   "outputs": [],
   "source": [
    "to_drop = original_data.loc[original_data['ORF']=='EMPTY',]"
   ]
  },
  {
   "cell_type": "code",
   "execution_count": 12,
   "metadata": {},
   "outputs": [],
   "source": [
    "original_data.drop(index=to_drop.index, inplace=True)"
   ]
  },
  {
   "cell_type": "code",
   "execution_count": 13,
   "metadata": {},
   "outputs": [
    {
     "name": "stdout",
     "output_type": "stream",
     "text": [
      "                  ORF  Plate Row Col  Control A  ...  MEAN Control  MEAN +Chloroquine  Growth Ratio (GR)  Plate Median  Adjusted GR\n",
      "index_input                                      ...                                                                               \n",
      "5604         WTBY4743     71   D   1      0.082  ...        0.0815             0.0845               SLOW           NaN         SLOW\n",
      "5605         WTBY4743     71   D   2      0.083  ...        0.0820             0.0830               SLOW           NaN         SLOW\n",
      "\n",
      "[2 rows x 13 columns]\n"
     ]
    }
   ],
   "source": [
    "# Make sure everything translated ok\n",
    "t = looks_like_orf(original_data['ORF'])\n",
    "print(original_data.loc[~t,])"
   ]
  },
  {
   "cell_type": "code",
   "execution_count": 14,
   "metadata": {},
   "outputs": [],
   "source": [
    "original_data.drop(index=original_data.loc[~t,:].index, inplace=True)"
   ]
  },
  {
   "cell_type": "code",
   "execution_count": 15,
   "metadata": {},
   "outputs": [],
   "source": [
    "# Eliminate the slow growin strains for which no accurate growth ratio could be calculated\n",
    "to_drop = original_data.loc[original_data['Adjusted GR']=='SLOW',]"
   ]
  },
  {
   "cell_type": "code",
   "execution_count": 16,
   "metadata": {},
   "outputs": [],
   "source": [
    "original_data.drop(index=to_drop.index, inplace=True)"
   ]
  },
  {
   "cell_type": "code",
   "execution_count": 17,
   "metadata": {},
   "outputs": [
    {
     "data": {
      "text/plain": [
       "(4394, 13)"
      ]
     },
     "execution_count": 17,
     "metadata": {},
     "output_type": "execute_result"
    }
   ],
   "source": [
    "original_data.shape"
   ]
  },
  {
   "cell_type": "code",
   "execution_count": 18,
   "metadata": {},
   "outputs": [],
   "source": [
    "# Reverse the growth ratio so that lower values correspond to decreased growth and viceversa (originally, GR is reported as untreated vs treated)\n",
    "original_data['GR2'] = 1 / original_data['Growth Ratio (GR)']"
   ]
  },
  {
   "cell_type": "code",
   "execution_count": 19,
   "metadata": {},
   "outputs": [],
   "source": [
    "# Normalize by plate median (as done oridinally)\n",
    "def normalize_by_plate_median(plate_data):\n",
    "    plate_median = plate_data['GR2'].median()\n",
    "    plate_data['GR2_adjusted'] = plate_data['GR2'] / plate_median\n",
    "    return plate_data"
   ]
  },
  {
   "cell_type": "code",
   "execution_count": 20,
   "metadata": {},
   "outputs": [],
   "source": [
    "original_data2 = original_data.groupby('Plate').apply(normalize_by_plate_median)"
   ]
  },
  {
   "cell_type": "code",
   "execution_count": 21,
   "metadata": {},
   "outputs": [
    {
     "data": {
      "text/html": [
       "<div>\n",
       "<style scoped>\n",
       "    .dataframe tbody tr th:only-of-type {\n",
       "        vertical-align: middle;\n",
       "    }\n",
       "\n",
       "    .dataframe tbody tr th {\n",
       "        vertical-align: top;\n",
       "    }\n",
       "\n",
       "    .dataframe thead th {\n",
       "        text-align: right;\n",
       "    }\n",
       "</style>\n",
       "<table border=\"1\" class=\"dataframe\">\n",
       "  <thead>\n",
       "    <tr style=\"text-align: right;\">\n",
       "      <th></th>\n",
       "      <th>ORF</th>\n",
       "      <th>Plate</th>\n",
       "      <th>Row</th>\n",
       "      <th>Col</th>\n",
       "      <th>Control A</th>\n",
       "      <th>Control B</th>\n",
       "      <th>Chloroquine A</th>\n",
       "      <th>Chloroquine  B</th>\n",
       "      <th>MEAN Control</th>\n",
       "      <th>MEAN +Chloroquine</th>\n",
       "      <th>Growth Ratio (GR)</th>\n",
       "      <th>Plate Median</th>\n",
       "      <th>Adjusted GR</th>\n",
       "      <th>GR2</th>\n",
       "      <th>GR2_adjusted</th>\n",
       "    </tr>\n",
       "    <tr>\n",
       "      <th>index_input</th>\n",
       "      <th></th>\n",
       "      <th></th>\n",
       "      <th></th>\n",
       "      <th></th>\n",
       "      <th></th>\n",
       "      <th></th>\n",
       "      <th></th>\n",
       "      <th></th>\n",
       "      <th></th>\n",
       "      <th></th>\n",
       "      <th></th>\n",
       "      <th></th>\n",
       "      <th></th>\n",
       "      <th></th>\n",
       "      <th></th>\n",
       "    </tr>\n",
       "  </thead>\n",
       "  <tbody>\n",
       "    <tr>\n",
       "      <th>1</th>\n",
       "      <td>YHL047C</td>\n",
       "      <td>1</td>\n",
       "      <td>A</td>\n",
       "      <td>2</td>\n",
       "      <td>0.471</td>\n",
       "      <td>0.443</td>\n",
       "      <td>0.432</td>\n",
       "      <td>0.389</td>\n",
       "      <td>0.4570</td>\n",
       "      <td>0.4105</td>\n",
       "      <td>1.11328</td>\n",
       "      <td>1.277311</td>\n",
       "      <td>0.871578</td>\n",
       "      <td>0.898249</td>\n",
       "      <td>1.14734</td>\n",
       "    </tr>\n",
       "    <tr>\n",
       "      <th>2</th>\n",
       "      <td>YHL046C</td>\n",
       "      <td>1</td>\n",
       "      <td>A</td>\n",
       "      <td>3</td>\n",
       "      <td>0.736</td>\n",
       "      <td>0.509</td>\n",
       "      <td>0.392</td>\n",
       "      <td>0.424</td>\n",
       "      <td>0.6225</td>\n",
       "      <td>0.4080</td>\n",
       "      <td>1.52574</td>\n",
       "      <td>1.277311</td>\n",
       "      <td>1.19449</td>\n",
       "      <td>0.655422</td>\n",
       "      <td>0.837177</td>\n",
       "    </tr>\n",
       "    <tr>\n",
       "      <th>3</th>\n",
       "      <td>YHL045W</td>\n",
       "      <td>1</td>\n",
       "      <td>A</td>\n",
       "      <td>4</td>\n",
       "      <td>0.667</td>\n",
       "      <td>0.461</td>\n",
       "      <td>0.520</td>\n",
       "      <td>0.380</td>\n",
       "      <td>0.5640</td>\n",
       "      <td>0.4500</td>\n",
       "      <td>1.25333</td>\n",
       "      <td>1.277311</td>\n",
       "      <td>0.981228</td>\n",
       "      <td>0.797872</td>\n",
       "      <td>1.01913</td>\n",
       "    </tr>\n",
       "    <tr>\n",
       "      <th>5</th>\n",
       "      <td>YHL043W</td>\n",
       "      <td>1</td>\n",
       "      <td>A</td>\n",
       "      <td>6</td>\n",
       "      <td>0.659</td>\n",
       "      <td>0.576</td>\n",
       "      <td>0.402</td>\n",
       "      <td>0.306</td>\n",
       "      <td>0.6175</td>\n",
       "      <td>0.3540</td>\n",
       "      <td>1.74435</td>\n",
       "      <td>1.277311</td>\n",
       "      <td>1.36564</td>\n",
       "      <td>0.573279</td>\n",
       "      <td>0.732256</td>\n",
       "    </tr>\n",
       "    <tr>\n",
       "      <th>7</th>\n",
       "      <td>YHL041W</td>\n",
       "      <td>1</td>\n",
       "      <td>A</td>\n",
       "      <td>8</td>\n",
       "      <td>0.617</td>\n",
       "      <td>0.428</td>\n",
       "      <td>0.304</td>\n",
       "      <td>0.332</td>\n",
       "      <td>0.5225</td>\n",
       "      <td>0.3180</td>\n",
       "      <td>1.64308</td>\n",
       "      <td>1.277311</td>\n",
       "      <td>1.28636</td>\n",
       "      <td>0.608612</td>\n",
       "      <td>0.777387</td>\n",
       "    </tr>\n",
       "  </tbody>\n",
       "</table>\n",
       "</div>"
      ],
      "text/plain": [
       "                 ORF  Plate Row Col  Control A  ...  Growth Ratio (GR)  Plate Median  Adjusted GR       GR2  GR2_adjusted\n",
       "index_input                                     ...                                                                      \n",
       "1            YHL047C      1   A   2      0.471  ...            1.11328      1.277311     0.871578  0.898249       1.14734\n",
       "2            YHL046C      1   A   3      0.736  ...            1.52574      1.277311      1.19449  0.655422      0.837177\n",
       "3            YHL045W      1   A   4      0.667  ...            1.25333      1.277311     0.981228  0.797872       1.01913\n",
       "5            YHL043W      1   A   6      0.659  ...            1.74435      1.277311      1.36564  0.573279      0.732256\n",
       "7            YHL041W      1   A   8      0.617  ...            1.64308      1.277311      1.28636  0.608612      0.777387\n",
       "\n",
       "[5 rows x 15 columns]"
      ]
     },
     "execution_count": 21,
     "metadata": {},
     "output_type": "execute_result"
    }
   ],
   "source": [
    "original_data2.head()"
   ]
  },
  {
   "cell_type": "code",
   "execution_count": 22,
   "metadata": {},
   "outputs": [],
   "source": [
    "data = original_data2[['ORF','GR2_adjusted']].copy()"
   ]
  },
  {
   "cell_type": "code",
   "execution_count": 23,
   "metadata": {},
   "outputs": [],
   "source": [
    "data['GR2_adjusted'] = data['GR2_adjusted'].astype(float)"
   ]
  },
  {
   "cell_type": "code",
   "execution_count": 24,
   "metadata": {},
   "outputs": [],
   "source": [
    "data.set_index('ORF', inplace=True)"
   ]
  },
  {
   "cell_type": "markdown",
   "metadata": {},
   "source": [
    "# Prepare the final dataset"
   ]
  },
  {
   "cell_type": "code",
   "execution_count": 25,
   "metadata": {},
   "outputs": [],
   "source": [
    "dataset_ids = [16532]"
   ]
  },
  {
   "cell_type": "code",
   "execution_count": 26,
   "metadata": {},
   "outputs": [],
   "source": [
    "datasets = datasets.reindex(index=dataset_ids)"
   ]
  },
  {
   "cell_type": "code",
   "execution_count": 27,
   "metadata": {},
   "outputs": [],
   "source": [
    "data.columns = datasets['name'].values"
   ]
  },
  {
   "cell_type": "code",
   "execution_count": 28,
   "metadata": {},
   "outputs": [],
   "source": [
    "data = data.groupby(data.index).mean()"
   ]
  },
  {
   "cell_type": "code",
   "execution_count": 29,
   "metadata": {},
   "outputs": [],
   "source": [
    "# Create row index\n",
    "data.index.name='orf'"
   ]
  },
  {
   "cell_type": "code",
   "execution_count": 30,
   "metadata": {},
   "outputs": [
    {
     "name": "stdout",
     "output_type": "stream",
     "text": [
      "Final data dimensions: 4251 x 1\n"
     ]
    }
   ],
   "source": [
    "print('Final data dimensions: %d x %d' % (data.shape))"
   ]
  },
  {
   "cell_type": "markdown",
   "metadata": {},
   "source": [
    "# Print out"
   ]
  },
  {
   "cell_type": "code",
   "execution_count": 31,
   "metadata": {},
   "outputs": [],
   "source": [
    "data.to_csv(paper_name + '.txt', sep='\\t')"
   ]
  },
  {
   "cell_type": "markdown",
   "metadata": {},
   "source": [
    "# Save to DB"
   ]
  },
  {
   "cell_type": "code",
   "execution_count": 32,
   "metadata": {},
   "outputs": [],
   "source": [
    "from IO.save_data_to_db2 import *"
   ]
  },
  {
   "cell_type": "code",
   "execution_count": 33,
   "metadata": {},
   "outputs": [],
   "source": [
    "# Create column index\n",
    "lst = [datasets.index.values, datasets['name'].values]\n",
    "tuples = list(zip(*lst))\n",
    "idx = pd.MultiIndex.from_tuples(tuples, names=['dataset_id','dataset_name'])\n",
    "data.columns = idx"
   ]
  },
  {
   "cell_type": "code",
   "execution_count": 34,
   "metadata": {},
   "outputs": [],
   "source": [
    "save_data_to_db(data, paper_pmid)"
   ]
  },
  {
   "cell_type": "code",
   "execution_count": null,
   "metadata": {},
   "outputs": [],
   "source": []
  }
 ],
 "metadata": {
  "kernelspec": {
   "display_name": "yp-data",
   "language": "python",
   "name": "yp-data"
  },
  "language_info": {
   "codemirror_mode": {
    "name": "ipython",
    "version": 3
   },
   "file_extension": ".py",
   "mimetype": "text/x-python",
   "name": "python",
   "nbconvert_exporter": "python",
   "pygments_lexer": "ipython3",
   "version": "3.7.7"
  }
 },
 "nbformat": 4,
 "nbformat_minor": 4
}
