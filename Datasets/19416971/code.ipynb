{
 "cells": [
  {
   "cell_type": "code",
   "execution_count": 1,
   "metadata": {},
   "outputs": [],
   "source": [
    "import numpy as np\n",
    "import pandas as pd\n",
    "\n",
    "import sys\n",
    "\n",
    "from os.path import expanduser\n",
    "sys.path.append(expanduser('~') + '/Lab/Utils/Python/')\n",
    "\n",
    "from Conversions.translate import *\n",
    "from Strings.is_a import *"
   ]
  },
  {
   "cell_type": "markdown",
   "metadata": {},
   "source": [
    "# Initial setup"
   ]
  },
  {
   "cell_type": "code",
   "execution_count": 2,
   "metadata": {},
   "outputs": [],
   "source": [
    "paper_pmid = 19416971\n",
    "paper_name = 'khozoie_avery_2009' "
   ]
  },
  {
   "cell_type": "code",
   "execution_count": 3,
   "metadata": {},
   "outputs": [],
   "source": [
    "datasets = pd.read_csv('extras/YeastPhenome_' + str(paper_pmid) + '_datasets_list.txt', sep='\\t', header=None, names=['pmid', 'name'])"
   ]
  },
  {
   "cell_type": "code",
   "execution_count": 4,
   "metadata": {},
   "outputs": [],
   "source": [
    "datasets.set_index('pmid', inplace=True)"
   ]
  },
  {
   "cell_type": "markdown",
   "metadata": {},
   "source": [
    "# Load & process the data"
   ]
  },
  {
   "cell_type": "code",
   "execution_count": 5,
   "metadata": {},
   "outputs": [],
   "source": [
    "original_data = pd.read_excel('raw_data/jbc.M109.005843-1.xls', sheet_name='Initial QN Screen', skiprows=3)"
   ]
  },
  {
   "cell_type": "code",
   "execution_count": 6,
   "metadata": {},
   "outputs": [
    {
     "name": "stdout",
     "output_type": "stream",
     "text": [
      "Original data dimensions: 5664 x 13\n"
     ]
    }
   ],
   "source": [
    "print('Original data dimensions: %d x %d' % (original_data.shape))"
   ]
  },
  {
   "cell_type": "code",
   "execution_count": 7,
   "metadata": {},
   "outputs": [
    {
     "data": {
      "text/html": [
       "<div>\n",
       "<style scoped>\n",
       "    .dataframe tbody tr th:only-of-type {\n",
       "        vertical-align: middle;\n",
       "    }\n",
       "\n",
       "    .dataframe tbody tr th {\n",
       "        vertical-align: top;\n",
       "    }\n",
       "\n",
       "    .dataframe thead th {\n",
       "        text-align: right;\n",
       "    }\n",
       "</style>\n",
       "<table border=\"1\" class=\"dataframe\">\n",
       "  <thead>\n",
       "    <tr style=\"text-align: right;\">\n",
       "      <th></th>\n",
       "      <th>ORF</th>\n",
       "      <th>Plate</th>\n",
       "      <th>Row</th>\n",
       "      <th>Col</th>\n",
       "      <th>Control A</th>\n",
       "      <th>Control B</th>\n",
       "      <th>Quinine A</th>\n",
       "      <th>Quinine B</th>\n",
       "      <th>MEAN Control</th>\n",
       "      <th>MEAN +Quinine</th>\n",
       "      <th>Growth Ratio (GR)</th>\n",
       "      <th>Plate Median</th>\n",
       "      <th>Adjusted GR</th>\n",
       "    </tr>\n",
       "  </thead>\n",
       "  <tbody>\n",
       "    <tr>\n",
       "      <th>0</th>\n",
       "      <td>EMPTY</td>\n",
       "      <td>1</td>\n",
       "      <td>A</td>\n",
       "      <td>1</td>\n",
       "      <td>0.117</td>\n",
       "      <td>0.116</td>\n",
       "      <td>0.110</td>\n",
       "      <td>0.110</td>\n",
       "      <td>0.1165</td>\n",
       "      <td>0.1100</td>\n",
       "      <td>SLOW</td>\n",
       "      <td>1.56586</td>\n",
       "      <td>SLOW</td>\n",
       "    </tr>\n",
       "    <tr>\n",
       "      <th>1</th>\n",
       "      <td>YHL047C</td>\n",
       "      <td>1</td>\n",
       "      <td>A</td>\n",
       "      <td>2</td>\n",
       "      <td>0.471</td>\n",
       "      <td>0.443</td>\n",
       "      <td>0.489</td>\n",
       "      <td>0.466</td>\n",
       "      <td>0.4570</td>\n",
       "      <td>0.4775</td>\n",
       "      <td>0.957068</td>\n",
       "      <td>1.56586</td>\n",
       "      <td>0.611209</td>\n",
       "    </tr>\n",
       "    <tr>\n",
       "      <th>2</th>\n",
       "      <td>YHL046C</td>\n",
       "      <td>1</td>\n",
       "      <td>A</td>\n",
       "      <td>3</td>\n",
       "      <td>0.736</td>\n",
       "      <td>0.509</td>\n",
       "      <td>0.406</td>\n",
       "      <td>0.454</td>\n",
       "      <td>0.6225</td>\n",
       "      <td>0.4300</td>\n",
       "      <td>1.44767</td>\n",
       "      <td>1.56586</td>\n",
       "      <td>0.924523</td>\n",
       "    </tr>\n",
       "    <tr>\n",
       "      <th>3</th>\n",
       "      <td>YHL045W</td>\n",
       "      <td>1</td>\n",
       "      <td>A</td>\n",
       "      <td>4</td>\n",
       "      <td>0.667</td>\n",
       "      <td>0.461</td>\n",
       "      <td>0.509</td>\n",
       "      <td>0.485</td>\n",
       "      <td>0.5640</td>\n",
       "      <td>0.4970</td>\n",
       "      <td>1.13481</td>\n",
       "      <td>1.56586</td>\n",
       "      <td>0.724719</td>\n",
       "    </tr>\n",
       "    <tr>\n",
       "      <th>4</th>\n",
       "      <td>YHL044W</td>\n",
       "      <td>1</td>\n",
       "      <td>A</td>\n",
       "      <td>5</td>\n",
       "      <td>0.117</td>\n",
       "      <td>0.119</td>\n",
       "      <td>0.111</td>\n",
       "      <td>0.110</td>\n",
       "      <td>0.1180</td>\n",
       "      <td>0.1105</td>\n",
       "      <td>SLOW</td>\n",
       "      <td>1.56586</td>\n",
       "      <td>SLOW</td>\n",
       "    </tr>\n",
       "  </tbody>\n",
       "</table>\n",
       "</div>"
      ],
      "text/plain": [
       "       ORF  Plate Row Col  Control A  Control B  ...  Quinine B  MEAN Control  MEAN +Quinine  Growth Ratio (GR) Plate Median  Adjusted GR\n",
       "0    EMPTY      1   A   1      0.117      0.116  ...      0.110        0.1165         0.1100               SLOW      1.56586         SLOW\n",
       "1  YHL047C      1   A   2      0.471      0.443  ...      0.466        0.4570         0.4775           0.957068      1.56586     0.611209\n",
       "2  YHL046C      1   A   3      0.736      0.509  ...      0.454        0.6225         0.4300            1.44767      1.56586     0.924523\n",
       "3  YHL045W      1   A   4      0.667      0.461  ...      0.485        0.5640         0.4970            1.13481      1.56586     0.724719\n",
       "4  YHL044W      1   A   5      0.117      0.119  ...      0.110        0.1180         0.1105               SLOW      1.56586         SLOW\n",
       "\n",
       "[5 rows x 13 columns]"
      ]
     },
     "execution_count": 7,
     "metadata": {},
     "output_type": "execute_result"
    }
   ],
   "source": [
    "original_data.head()"
   ]
  },
  {
   "cell_type": "code",
   "execution_count": 8,
   "metadata": {},
   "outputs": [],
   "source": [
    "original_data['ORF'] = original_data['ORF'].astype(str)"
   ]
  },
  {
   "cell_type": "code",
   "execution_count": 9,
   "metadata": {},
   "outputs": [],
   "source": [
    "# Eliminate all white spaces & capitalize\n",
    "original_data['ORF'] = clean_orf(original_data['ORF'])"
   ]
  },
  {
   "cell_type": "code",
   "execution_count": 10,
   "metadata": {},
   "outputs": [],
   "source": [
    "# Translate to ORFs \n",
    "original_data['ORF'] = translate_sc(original_data['ORF'], to='orf')"
   ]
  },
  {
   "cell_type": "code",
   "execution_count": 11,
   "metadata": {},
   "outputs": [],
   "source": [
    "to_drop = original_data.loc[original_data['ORF']=='EMPTY',]"
   ]
  },
  {
   "cell_type": "code",
   "execution_count": 12,
   "metadata": {},
   "outputs": [],
   "source": [
    "original_data.drop(index=to_drop.index, inplace=True)"
   ]
  },
  {
   "cell_type": "code",
   "execution_count": 13,
   "metadata": {},
   "outputs": [
    {
     "name": "stdout",
     "output_type": "stream",
     "text": [
      "                  ORF  Plate Row Col  Control A  ...  MEAN Control  MEAN +Quinine  Growth Ratio (GR)  Plate Median  Adjusted GR\n",
      "index_input                                      ...                                                                           \n",
      "5604         WTBY4743     71   D   1      0.082  ...        0.0815         0.0825               SLOW           NaN         SLOW\n",
      "5605         WTBY4743     71   D   2      0.083  ...        0.0820         0.0840               SLOW           NaN         SLOW\n",
      "\n",
      "[2 rows x 13 columns]\n"
     ]
    }
   ],
   "source": [
    "# Make sure everything translated ok\n",
    "t = looks_like_orf(original_data['ORF'])\n",
    "print(original_data.loc[~t,])"
   ]
  },
  {
   "cell_type": "code",
   "execution_count": 14,
   "metadata": {},
   "outputs": [],
   "source": [
    "original_data.drop(index=original_data.loc[~t,:].index, inplace=True)"
   ]
  },
  {
   "cell_type": "code",
   "execution_count": 15,
   "metadata": {},
   "outputs": [],
   "source": [
    "# Eliminate the slow growin strains for which no accurate growth ratio could be calculated\n",
    "to_drop = original_data.loc[original_data['Adjusted GR']=='SLOW',]"
   ]
  },
  {
   "cell_type": "code",
   "execution_count": 16,
   "metadata": {},
   "outputs": [],
   "source": [
    "original_data.drop(index=to_drop.index, inplace=True)"
   ]
  },
  {
   "cell_type": "code",
   "execution_count": 17,
   "metadata": {},
   "outputs": [
    {
     "data": {
      "text/plain": [
       "(4394, 13)"
      ]
     },
     "execution_count": 17,
     "metadata": {},
     "output_type": "execute_result"
    }
   ],
   "source": [
    "original_data.shape"
   ]
  },
  {
   "cell_type": "code",
   "execution_count": 25,
   "metadata": {},
   "outputs": [],
   "source": [
    "# Reverse the growth ratio so that lower values correspond to decreased growth and viceversa (originally, GR is reported as untreated vs treated)\n",
    "original_data['GR2'] = 1 / original_data['Growth Ratio (GR)']"
   ]
  },
  {
   "cell_type": "code",
   "execution_count": 26,
   "metadata": {},
   "outputs": [],
   "source": [
    "# Normalize by plate median (as done oridinally)\n",
    "def normalize_by_plate_median(plate_data):\n",
    "    plate_median = plate_data['GR2'].median()\n",
    "    plate_data['GR2_adjusted'] = plate_data['GR2'] / plate_median\n",
    "    return plate_data"
   ]
  },
  {
   "cell_type": "code",
   "execution_count": 27,
   "metadata": {},
   "outputs": [],
   "source": [
    "original_data2 = original_data.groupby('Plate').apply(normalize_by_plate_median)"
   ]
  },
  {
   "cell_type": "code",
   "execution_count": 28,
   "metadata": {},
   "outputs": [
    {
     "data": {
      "text/html": [
       "<div>\n",
       "<style scoped>\n",
       "    .dataframe tbody tr th:only-of-type {\n",
       "        vertical-align: middle;\n",
       "    }\n",
       "\n",
       "    .dataframe tbody tr th {\n",
       "        vertical-align: top;\n",
       "    }\n",
       "\n",
       "    .dataframe thead th {\n",
       "        text-align: right;\n",
       "    }\n",
       "</style>\n",
       "<table border=\"1\" class=\"dataframe\">\n",
       "  <thead>\n",
       "    <tr style=\"text-align: right;\">\n",
       "      <th></th>\n",
       "      <th>ORF</th>\n",
       "      <th>Plate</th>\n",
       "      <th>Row</th>\n",
       "      <th>Col</th>\n",
       "      <th>Control A</th>\n",
       "      <th>Control B</th>\n",
       "      <th>Quinine A</th>\n",
       "      <th>Quinine B</th>\n",
       "      <th>MEAN Control</th>\n",
       "      <th>MEAN +Quinine</th>\n",
       "      <th>Growth Ratio (GR)</th>\n",
       "      <th>Plate Median</th>\n",
       "      <th>Adjusted GR</th>\n",
       "      <th>GR2</th>\n",
       "      <th>GR2_adjusted</th>\n",
       "    </tr>\n",
       "    <tr>\n",
       "      <th>index_input</th>\n",
       "      <th></th>\n",
       "      <th></th>\n",
       "      <th></th>\n",
       "      <th></th>\n",
       "      <th></th>\n",
       "      <th></th>\n",
       "      <th></th>\n",
       "      <th></th>\n",
       "      <th></th>\n",
       "      <th></th>\n",
       "      <th></th>\n",
       "      <th></th>\n",
       "      <th></th>\n",
       "      <th></th>\n",
       "      <th></th>\n",
       "    </tr>\n",
       "  </thead>\n",
       "  <tbody>\n",
       "    <tr>\n",
       "      <th>1</th>\n",
       "      <td>YHL047C</td>\n",
       "      <td>1</td>\n",
       "      <td>A</td>\n",
       "      <td>2</td>\n",
       "      <td>0.471</td>\n",
       "      <td>0.443</td>\n",
       "      <td>0.489</td>\n",
       "      <td>0.466</td>\n",
       "      <td>0.4570</td>\n",
       "      <td>0.4775</td>\n",
       "      <td>0.957068</td>\n",
       "      <td>1.56586</td>\n",
       "      <td>0.611209</td>\n",
       "      <td>1.04486</td>\n",
       "      <td>1.6361</td>\n",
       "    </tr>\n",
       "    <tr>\n",
       "      <th>2</th>\n",
       "      <td>YHL046C</td>\n",
       "      <td>1</td>\n",
       "      <td>A</td>\n",
       "      <td>3</td>\n",
       "      <td>0.736</td>\n",
       "      <td>0.509</td>\n",
       "      <td>0.406</td>\n",
       "      <td>0.454</td>\n",
       "      <td>0.6225</td>\n",
       "      <td>0.4300</td>\n",
       "      <td>1.44767</td>\n",
       "      <td>1.56586</td>\n",
       "      <td>0.924523</td>\n",
       "      <td>0.690763</td>\n",
       "      <td>1.08164</td>\n",
       "    </tr>\n",
       "    <tr>\n",
       "      <th>3</th>\n",
       "      <td>YHL045W</td>\n",
       "      <td>1</td>\n",
       "      <td>A</td>\n",
       "      <td>4</td>\n",
       "      <td>0.667</td>\n",
       "      <td>0.461</td>\n",
       "      <td>0.509</td>\n",
       "      <td>0.485</td>\n",
       "      <td>0.5640</td>\n",
       "      <td>0.4970</td>\n",
       "      <td>1.13481</td>\n",
       "      <td>1.56586</td>\n",
       "      <td>0.724719</td>\n",
       "      <td>0.881206</td>\n",
       "      <td>1.37984</td>\n",
       "    </tr>\n",
       "    <tr>\n",
       "      <th>5</th>\n",
       "      <td>YHL043W</td>\n",
       "      <td>1</td>\n",
       "      <td>A</td>\n",
       "      <td>6</td>\n",
       "      <td>0.659</td>\n",
       "      <td>0.576</td>\n",
       "      <td>0.495</td>\n",
       "      <td>0.497</td>\n",
       "      <td>0.6175</td>\n",
       "      <td>0.4960</td>\n",
       "      <td>1.24496</td>\n",
       "      <td>1.56586</td>\n",
       "      <td>0.795064</td>\n",
       "      <td>0.803239</td>\n",
       "      <td>1.25776</td>\n",
       "    </tr>\n",
       "    <tr>\n",
       "      <th>7</th>\n",
       "      <td>YHL041W</td>\n",
       "      <td>1</td>\n",
       "      <td>A</td>\n",
       "      <td>8</td>\n",
       "      <td>0.617</td>\n",
       "      <td>0.428</td>\n",
       "      <td>0.564</td>\n",
       "      <td>0.461</td>\n",
       "      <td>0.5225</td>\n",
       "      <td>0.5125</td>\n",
       "      <td>1.01951</td>\n",
       "      <td>1.56586</td>\n",
       "      <td>0.651088</td>\n",
       "      <td>0.980861</td>\n",
       "      <td>1.53589</td>\n",
       "    </tr>\n",
       "  </tbody>\n",
       "</table>\n",
       "</div>"
      ],
      "text/plain": [
       "                 ORF  Plate Row Col  Control A  Control B  ...  MEAN +Quinine  Growth Ratio (GR)  Plate Median  Adjusted GR       GR2  GR2_adjusted\n",
       "index_input                                                ...                                                                                     \n",
       "1            YHL047C      1   A   2      0.471      0.443  ...         0.4775           0.957068       1.56586     0.611209   1.04486        1.6361\n",
       "2            YHL046C      1   A   3      0.736      0.509  ...         0.4300            1.44767       1.56586     0.924523  0.690763       1.08164\n",
       "3            YHL045W      1   A   4      0.667      0.461  ...         0.4970            1.13481       1.56586     0.724719  0.881206       1.37984\n",
       "5            YHL043W      1   A   6      0.659      0.576  ...         0.4960            1.24496       1.56586     0.795064  0.803239       1.25776\n",
       "7            YHL041W      1   A   8      0.617      0.428  ...         0.5125            1.01951       1.56586     0.651088  0.980861       1.53589\n",
       "\n",
       "[5 rows x 15 columns]"
      ]
     },
     "execution_count": 28,
     "metadata": {},
     "output_type": "execute_result"
    }
   ],
   "source": [
    "original_data2.head()"
   ]
  },
  {
   "cell_type": "code",
   "execution_count": 40,
   "metadata": {},
   "outputs": [],
   "source": [
    "data = original_data2[['ORF','GR2_adjusted']].copy()"
   ]
  },
  {
   "cell_type": "code",
   "execution_count": 41,
   "metadata": {},
   "outputs": [],
   "source": [
    "data['GR2_adjusted'] = data['GR2_adjusted'].astype(float)"
   ]
  },
  {
   "cell_type": "code",
   "execution_count": 42,
   "metadata": {},
   "outputs": [],
   "source": [
    "data.set_index('ORF', inplace=True)"
   ]
  },
  {
   "cell_type": "markdown",
   "metadata": {},
   "source": [
    "# Prepare the final dataset"
   ]
  },
  {
   "cell_type": "code",
   "execution_count": 43,
   "metadata": {},
   "outputs": [],
   "source": [
    "dataset_ids = [16533]"
   ]
  },
  {
   "cell_type": "code",
   "execution_count": 44,
   "metadata": {},
   "outputs": [],
   "source": [
    "datasets = datasets.reindex(index=dataset_ids)"
   ]
  },
  {
   "cell_type": "code",
   "execution_count": 45,
   "metadata": {},
   "outputs": [],
   "source": [
    "data.columns = datasets['name'].values"
   ]
  },
  {
   "cell_type": "code",
   "execution_count": 47,
   "metadata": {},
   "outputs": [],
   "source": [
    "data = data.groupby(data.index).mean()"
   ]
  },
  {
   "cell_type": "code",
   "execution_count": 48,
   "metadata": {},
   "outputs": [],
   "source": [
    "# Create row index\n",
    "data.index.name='orf'"
   ]
  },
  {
   "cell_type": "code",
   "execution_count": 49,
   "metadata": {},
   "outputs": [
    {
     "name": "stdout",
     "output_type": "stream",
     "text": [
      "Final data dimensions: 4251 x 1\n"
     ]
    }
   ],
   "source": [
    "print('Final data dimensions: %d x %d' % (data.shape))"
   ]
  },
  {
   "cell_type": "markdown",
   "metadata": {},
   "source": [
    "# Print out"
   ]
  },
  {
   "cell_type": "code",
   "execution_count": 50,
   "metadata": {},
   "outputs": [],
   "source": [
    "data.to_csv(paper_name + '.txt', sep='\\t')"
   ]
  },
  {
   "cell_type": "markdown",
   "metadata": {},
   "source": [
    "# Save to DB"
   ]
  },
  {
   "cell_type": "code",
   "execution_count": 51,
   "metadata": {},
   "outputs": [],
   "source": [
    "from IO.save_data_to_db2 import *"
   ]
  },
  {
   "cell_type": "code",
   "execution_count": 52,
   "metadata": {},
   "outputs": [],
   "source": [
    "# Create column index\n",
    "lst = [datasets.index.values, datasets['name'].values]\n",
    "tuples = list(zip(*lst))\n",
    "idx = pd.MultiIndex.from_tuples(tuples, names=['dataset_id','dataset_name'])\n",
    "data.columns = idx"
   ]
  },
  {
   "cell_type": "code",
   "execution_count": 53,
   "metadata": {},
   "outputs": [],
   "source": [
    "save_data_to_db(data, paper_pmid)"
   ]
  },
  {
   "cell_type": "code",
   "execution_count": null,
   "metadata": {},
   "outputs": [],
   "source": []
  }
 ],
 "metadata": {
  "kernelspec": {
   "display_name": "yp-data",
   "language": "python",
   "name": "yp-data"
  },
  "language_info": {
   "codemirror_mode": {
    "name": "ipython",
    "version": 3
   },
   "file_extension": ".py",
   "mimetype": "text/x-python",
   "name": "python",
   "nbconvert_exporter": "python",
   "pygments_lexer": "ipython3",
   "version": "3.7.7"
  }
 },
 "nbformat": 4,
 "nbformat_minor": 4
}
