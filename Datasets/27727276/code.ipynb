{
 "cells": [
  {
   "cell_type": "code",
   "execution_count": 1,
   "metadata": {},
   "outputs": [],
   "source": [
    "%run ../../Utils/yp_utils.py"
   ]
  },
  {
   "cell_type": "markdown",
   "metadata": {},
   "source": [
    "# Initial setup"
   ]
  },
  {
   "cell_type": "code",
   "execution_count": 2,
   "metadata": {},
   "outputs": [],
   "source": [
    "paper_pmid = 27727276\n",
    "paper_name = 'payen_dunham_2016' "
   ]
  },
  {
   "cell_type": "code",
   "execution_count": 3,
   "metadata": {},
   "outputs": [],
   "source": [
    "datasets = pd.read_csv('extras/YeastPhenome_' + str(paper_pmid) + '_datasets_list.txt', sep='\\t', header=None, names=['dataset_id', 'name'])"
   ]
  },
  {
   "cell_type": "code",
   "execution_count": 4,
   "metadata": {},
   "outputs": [],
   "source": [
    "datasets.set_index('dataset_id', inplace=True)"
   ]
  },
  {
   "cell_type": "markdown",
   "metadata": {},
   "source": [
    "# Load & process the data"
   ]
  },
  {
   "cell_type": "code",
   "execution_count": 9,
   "metadata": {},
   "outputs": [],
   "source": [
    "original_data = pd.read_excel('raw_data/journal.pgen.1006339.s008.xlsx', sheet_name='Sheet1', skiprows=8)"
   ]
  },
  {
   "cell_type": "code",
   "execution_count": 10,
   "metadata": {},
   "outputs": [
    {
     "name": "stdout",
     "output_type": "stream",
     "text": [
      "Original data dimensions: 5632 x 14\n"
     ]
    }
   ],
   "source": [
    "print('Original data dimensions: %d x %d' % (original_data.shape))"
   ]
  },
  {
   "cell_type": "code",
   "execution_count": 11,
   "metadata": {},
   "outputs": [
    {
     "data": {
      "text/html": [
       "<div>\n",
       "<style scoped>\n",
       "    .dataframe tbody tr th:only-of-type {\n",
       "        vertical-align: middle;\n",
       "    }\n",
       "\n",
       "    .dataframe tbody tr th {\n",
       "        vertical-align: top;\n",
       "    }\n",
       "\n",
       "    .dataframe thead th {\n",
       "        text-align: right;\n",
       "    }\n",
       "</style>\n",
       "<table border=\"1\" class=\"dataframe\">\n",
       "  <thead>\n",
       "    <tr style=\"text-align: right;\">\n",
       "      <th></th>\n",
       "      <th>Name</th>\n",
       "      <th>MM1N-Phosphate</th>\n",
       "      <th>MM2N-Phosphate</th>\n",
       "      <th>CEN-Phosphate</th>\n",
       "      <th>2micron-Phosphate</th>\n",
       "      <th>MM1N-Sulfate</th>\n",
       "      <th>MM2N-Sulfate</th>\n",
       "      <th>CEN-Sulfate</th>\n",
       "      <th>2micron-Sulfate</th>\n",
       "      <th>MM1N-Glucose</th>\n",
       "      <th>MM2N-Glucose</th>\n",
       "      <th>CEN-Glucose</th>\n",
       "      <th>2micron-Glucose</th>\n",
       "      <th># replicates</th>\n",
       "    </tr>\n",
       "  </thead>\n",
       "  <tbody>\n",
       "    <tr>\n",
       "      <th>0</th>\n",
       "      <td>YAL001C</td>\n",
       "      <td>NaN</td>\n",
       "      <td>0.007918</td>\n",
       "      <td>-0.08260</td>\n",
       "      <td>-0.005923</td>\n",
       "      <td>NaN</td>\n",
       "      <td>-0.064626</td>\n",
       "      <td>0.016187</td>\n",
       "      <td>0.042277</td>\n",
       "      <td>NaN</td>\n",
       "      <td>-0.075990</td>\n",
       "      <td>NaN</td>\n",
       "      <td>0.035646</td>\n",
       "      <td>8</td>\n",
       "    </tr>\n",
       "    <tr>\n",
       "      <th>1</th>\n",
       "      <td>YAL002W</td>\n",
       "      <td>NaN</td>\n",
       "      <td>-0.016999</td>\n",
       "      <td>-0.01310</td>\n",
       "      <td>NaN</td>\n",
       "      <td>NaN</td>\n",
       "      <td>-0.005073</td>\n",
       "      <td>0.051772</td>\n",
       "      <td>NaN</td>\n",
       "      <td>NaN</td>\n",
       "      <td>0.008071</td>\n",
       "      <td>0.014010</td>\n",
       "      <td>NaN</td>\n",
       "      <td>6</td>\n",
       "    </tr>\n",
       "    <tr>\n",
       "      <th>2</th>\n",
       "      <td>YAL003W</td>\n",
       "      <td>-0.084682</td>\n",
       "      <td>-0.007208</td>\n",
       "      <td>-0.01205</td>\n",
       "      <td>-0.089589</td>\n",
       "      <td>-0.081194</td>\n",
       "      <td>-0.012135</td>\n",
       "      <td>-0.020084</td>\n",
       "      <td>-0.100065</td>\n",
       "      <td>-0.039218</td>\n",
       "      <td>-0.009811</td>\n",
       "      <td>-0.018207</td>\n",
       "      <td>-0.046407</td>\n",
       "      <td>12</td>\n",
       "    </tr>\n",
       "    <tr>\n",
       "      <th>3</th>\n",
       "      <td>YAL004W</td>\n",
       "      <td>0.012654</td>\n",
       "      <td>0.006390</td>\n",
       "      <td>NaN</td>\n",
       "      <td>NaN</td>\n",
       "      <td>-0.017815</td>\n",
       "      <td>-0.013990</td>\n",
       "      <td>NaN</td>\n",
       "      <td>NaN</td>\n",
       "      <td>-0.137926</td>\n",
       "      <td>0.011175</td>\n",
       "      <td>NaN</td>\n",
       "      <td>NaN</td>\n",
       "      <td>6</td>\n",
       "    </tr>\n",
       "    <tr>\n",
       "      <th>4</th>\n",
       "      <td>YAL005C</td>\n",
       "      <td>-0.002357</td>\n",
       "      <td>-0.042974</td>\n",
       "      <td>-0.00235</td>\n",
       "      <td>NaN</td>\n",
       "      <td>0.002517</td>\n",
       "      <td>NaN</td>\n",
       "      <td>-0.177540</td>\n",
       "      <td>NaN</td>\n",
       "      <td>-0.105089</td>\n",
       "      <td>NaN</td>\n",
       "      <td>0.121381</td>\n",
       "      <td>NaN</td>\n",
       "      <td>7</td>\n",
       "    </tr>\n",
       "  </tbody>\n",
       "</table>\n",
       "</div>"
      ],
      "text/plain": [
       "      Name  MM1N-Phosphate  MM2N-Phosphate  CEN-Phosphate  2micron-Phosphate  \\\n",
       "0  YAL001C             NaN        0.007918       -0.08260          -0.005923   \n",
       "1  YAL002W             NaN       -0.016999       -0.01310                NaN   \n",
       "2  YAL003W       -0.084682       -0.007208       -0.01205          -0.089589   \n",
       "3  YAL004W        0.012654        0.006390            NaN                NaN   \n",
       "4  YAL005C       -0.002357       -0.042974       -0.00235                NaN   \n",
       "\n",
       "   MM1N-Sulfate  MM2N-Sulfate  CEN-Sulfate  2micron-Sulfate  MM1N-Glucose  \\\n",
       "0           NaN     -0.064626     0.016187         0.042277           NaN   \n",
       "1           NaN     -0.005073     0.051772              NaN           NaN   \n",
       "2     -0.081194     -0.012135    -0.020084        -0.100065     -0.039218   \n",
       "3     -0.017815     -0.013990          NaN              NaN     -0.137926   \n",
       "4      0.002517           NaN    -0.177540              NaN     -0.105089   \n",
       "\n",
       "   MM2N-Glucose  CEN-Glucose  2micron-Glucose  # replicates  \n",
       "0     -0.075990          NaN         0.035646             8  \n",
       "1      0.008071     0.014010              NaN             6  \n",
       "2     -0.009811    -0.018207        -0.046407            12  \n",
       "3      0.011175          NaN              NaN             6  \n",
       "4           NaN     0.121381              NaN             7  "
      ]
     },
     "execution_count": 11,
     "metadata": {},
     "output_type": "execute_result"
    }
   ],
   "source": [
    "original_data.head()"
   ]
  },
  {
   "cell_type": "code",
   "execution_count": 12,
   "metadata": {},
   "outputs": [],
   "source": [
    "original_data['orf'] = original_data['Name'].astype(str)"
   ]
  },
  {
   "cell_type": "code",
   "execution_count": 13,
   "metadata": {},
   "outputs": [],
   "source": [
    "# Eliminate all white spaces & capitalize\n",
    "original_data['orf'] = clean_orf(original_data['orf'])"
   ]
  },
  {
   "cell_type": "code",
   "execution_count": 14,
   "metadata": {},
   "outputs": [],
   "source": [
    "# Translate to ORFs \n",
    "original_data['orf'] = translate_sc(original_data['orf'], to='orf')"
   ]
  },
  {
   "cell_type": "code",
   "execution_count": 15,
   "metadata": {},
   "outputs": [
    {
     "name": "stdout",
     "output_type": "stream",
     "text": [
      "Empty DataFrame\n",
      "Columns: [Name, MM1N-Phosphate, MM2N-Phosphate, CEN-Phosphate, 2micron-Phosphate, MM1N-Sulfate, MM2N-Sulfate, CEN-Sulfate, 2micron-Sulfate, MM1N-Glucose, MM2N-Glucose, CEN-Glucose, 2micron-Glucose, # replicates, orf]\n",
      "Index: []\n"
     ]
    }
   ],
   "source": [
    "# Make sure everything translated ok\n",
    "t = looks_like_orf(original_data['orf'])\n",
    "print(original_data.loc[~t,])"
   ]
  },
  {
   "cell_type": "code",
   "execution_count": 16,
   "metadata": {},
   "outputs": [],
   "source": [
    "original_data.set_index('orf', inplace=True)"
   ]
  },
  {
   "cell_type": "code",
   "execution_count": 17,
   "metadata": {},
   "outputs": [],
   "source": [
    "original_data = original_data[['MM1N-Phosphate','MM2N-Phosphate','MM1N-Sulfate','MM2N-Sulfate','MM1N-Glucose','MM2N-Glucose']].copy()"
   ]
  },
  {
   "cell_type": "code",
   "execution_count": 18,
   "metadata": {},
   "outputs": [],
   "source": [
    "original_data = original_data.groupby(original_data.index).mean()"
   ]
  },
  {
   "cell_type": "code",
   "execution_count": 19,
   "metadata": {},
   "outputs": [
    {
     "data": {
      "text/plain": [
       "(5632, 6)"
      ]
     },
     "execution_count": 19,
     "metadata": {},
     "output_type": "execute_result"
    }
   ],
   "source": [
    "original_data.shape"
   ]
  },
  {
   "cell_type": "markdown",
   "metadata": {},
   "source": [
    "# Prepare the final dataset"
   ]
  },
  {
   "cell_type": "code",
   "execution_count": 20,
   "metadata": {},
   "outputs": [],
   "source": [
    "data = original_data.copy()"
   ]
  },
  {
   "cell_type": "code",
   "execution_count": 21,
   "metadata": {},
   "outputs": [],
   "source": [
    "dataset_ids = [16195, 16199, 16210, 16197, 16196, 16198]\n",
    "datasets = datasets.reindex(index=dataset_ids)"
   ]
  },
  {
   "cell_type": "code",
   "execution_count": 22,
   "metadata": {},
   "outputs": [],
   "source": [
    "lst = [datasets.index.values, ['value']*datasets.shape[0]]\n",
    "tuples = list(zip(*lst))\n",
    "idx = pd.MultiIndex.from_tuples(tuples, names=['dataset_id','data_type'])\n",
    "data.columns = idx"
   ]
  },
  {
   "cell_type": "code",
   "execution_count": 23,
   "metadata": {},
   "outputs": [
    {
     "data": {
      "text/html": [
       "<div>\n",
       "<style scoped>\n",
       "    .dataframe tbody tr th:only-of-type {\n",
       "        vertical-align: middle;\n",
       "    }\n",
       "\n",
       "    .dataframe tbody tr th {\n",
       "        vertical-align: top;\n",
       "    }\n",
       "\n",
       "    .dataframe thead tr th {\n",
       "        text-align: left;\n",
       "    }\n",
       "\n",
       "    .dataframe thead tr:last-of-type th {\n",
       "        text-align: right;\n",
       "    }\n",
       "</style>\n",
       "<table border=\"1\" class=\"dataframe\">\n",
       "  <thead>\n",
       "    <tr>\n",
       "      <th>dataset_id</th>\n",
       "      <th>16195</th>\n",
       "      <th>16199</th>\n",
       "      <th>16210</th>\n",
       "      <th>16197</th>\n",
       "      <th>16196</th>\n",
       "      <th>16198</th>\n",
       "    </tr>\n",
       "    <tr>\n",
       "      <th>data_type</th>\n",
       "      <th>value</th>\n",
       "      <th>value</th>\n",
       "      <th>value</th>\n",
       "      <th>value</th>\n",
       "      <th>value</th>\n",
       "      <th>value</th>\n",
       "    </tr>\n",
       "    <tr>\n",
       "      <th>orf</th>\n",
       "      <th></th>\n",
       "      <th></th>\n",
       "      <th></th>\n",
       "      <th></th>\n",
       "      <th></th>\n",
       "      <th></th>\n",
       "    </tr>\n",
       "  </thead>\n",
       "  <tbody>\n",
       "    <tr>\n",
       "      <th>YAL001C</th>\n",
       "      <td>NaN</td>\n",
       "      <td>0.007918</td>\n",
       "      <td>NaN</td>\n",
       "      <td>-0.064626</td>\n",
       "      <td>NaN</td>\n",
       "      <td>-0.075990</td>\n",
       "    </tr>\n",
       "    <tr>\n",
       "      <th>YAL002W</th>\n",
       "      <td>NaN</td>\n",
       "      <td>-0.016999</td>\n",
       "      <td>NaN</td>\n",
       "      <td>-0.005073</td>\n",
       "      <td>NaN</td>\n",
       "      <td>0.008071</td>\n",
       "    </tr>\n",
       "    <tr>\n",
       "      <th>YAL003W</th>\n",
       "      <td>-0.084682</td>\n",
       "      <td>-0.007208</td>\n",
       "      <td>-0.081194</td>\n",
       "      <td>-0.012135</td>\n",
       "      <td>-0.039218</td>\n",
       "      <td>-0.009811</td>\n",
       "    </tr>\n",
       "    <tr>\n",
       "      <th>YAL004W</th>\n",
       "      <td>0.012654</td>\n",
       "      <td>0.006390</td>\n",
       "      <td>-0.017815</td>\n",
       "      <td>-0.013990</td>\n",
       "      <td>-0.137926</td>\n",
       "      <td>0.011175</td>\n",
       "    </tr>\n",
       "    <tr>\n",
       "      <th>YAL005C</th>\n",
       "      <td>-0.002357</td>\n",
       "      <td>-0.042974</td>\n",
       "      <td>0.002517</td>\n",
       "      <td>NaN</td>\n",
       "      <td>-0.105089</td>\n",
       "      <td>NaN</td>\n",
       "    </tr>\n",
       "  </tbody>\n",
       "</table>\n",
       "</div>"
      ],
      "text/plain": [
       "dataset_id     16195     16199     16210     16197     16196     16198\n",
       "data_type      value     value     value     value     value     value\n",
       "orf                                                                   \n",
       "YAL001C          NaN  0.007918       NaN -0.064626       NaN -0.075990\n",
       "YAL002W          NaN -0.016999       NaN -0.005073       NaN  0.008071\n",
       "YAL003W    -0.084682 -0.007208 -0.081194 -0.012135 -0.039218 -0.009811\n",
       "YAL004W     0.012654  0.006390 -0.017815 -0.013990 -0.137926  0.011175\n",
       "YAL005C    -0.002357 -0.042974  0.002517       NaN -0.105089       NaN"
      ]
     },
     "execution_count": 23,
     "metadata": {},
     "output_type": "execute_result"
    }
   ],
   "source": [
    "data.head()"
   ]
  },
  {
   "cell_type": "markdown",
   "metadata": {},
   "source": [
    "## Subset to the genes currently in SGD"
   ]
  },
  {
   "cell_type": "code",
   "execution_count": 26,
   "metadata": {},
   "outputs": [
    {
     "name": "stdout",
     "output_type": "stream",
     "text": [
      "ORFs missing from SGD: 16\n"
     ]
    }
   ],
   "source": [
    "genes = pd.read_csv(path_to_genes, sep='\\t', index_col='id')\n",
    "genes = genes.reset_index().set_index('systematic_name')\n",
    "gene_ids = genes.reindex(index=data.index.values)['id'].values\n",
    "num_missing = np.sum(np.isnan(gene_ids))\n",
    "print('ORFs missing from SGD: %d' % num_missing)"
   ]
  },
  {
   "cell_type": "code",
   "execution_count": 27,
   "metadata": {},
   "outputs": [],
   "source": [
    "data['gene_id'] = gene_ids\n",
    "data = data.loc[data['gene_id'].notnull()]\n",
    "data['gene_id'] = data['gene_id'].astype(int)\n",
    "data = data.reset_index().set_index(['gene_id','orf'])"
   ]
  },
  {
   "cell_type": "code",
   "execution_count": 28,
   "metadata": {},
   "outputs": [
    {
     "data": {
      "text/html": [
       "<div>\n",
       "<style scoped>\n",
       "    .dataframe tbody tr th:only-of-type {\n",
       "        vertical-align: middle;\n",
       "    }\n",
       "\n",
       "    .dataframe tbody tr th {\n",
       "        vertical-align: top;\n",
       "    }\n",
       "\n",
       "    .dataframe thead tr th {\n",
       "        text-align: left;\n",
       "    }\n",
       "\n",
       "    .dataframe thead tr:last-of-type th {\n",
       "        text-align: right;\n",
       "    }\n",
       "</style>\n",
       "<table border=\"1\" class=\"dataframe\">\n",
       "  <thead>\n",
       "    <tr>\n",
       "      <th></th>\n",
       "      <th>dataset_id</th>\n",
       "      <th>16195</th>\n",
       "      <th>16199</th>\n",
       "      <th>16210</th>\n",
       "      <th>16197</th>\n",
       "      <th>16196</th>\n",
       "      <th>16198</th>\n",
       "    </tr>\n",
       "    <tr>\n",
       "      <th></th>\n",
       "      <th>data_type</th>\n",
       "      <th>value</th>\n",
       "      <th>value</th>\n",
       "      <th>value</th>\n",
       "      <th>value</th>\n",
       "      <th>value</th>\n",
       "      <th>value</th>\n",
       "    </tr>\n",
       "    <tr>\n",
       "      <th>gene_id</th>\n",
       "      <th>orf</th>\n",
       "      <th></th>\n",
       "      <th></th>\n",
       "      <th></th>\n",
       "      <th></th>\n",
       "      <th></th>\n",
       "      <th></th>\n",
       "    </tr>\n",
       "  </thead>\n",
       "  <tbody>\n",
       "    <tr>\n",
       "      <th>1</th>\n",
       "      <th>YAL001C</th>\n",
       "      <td>NaN</td>\n",
       "      <td>0.007918</td>\n",
       "      <td>NaN</td>\n",
       "      <td>-0.064626</td>\n",
       "      <td>NaN</td>\n",
       "      <td>-0.075990</td>\n",
       "    </tr>\n",
       "    <tr>\n",
       "      <th>2</th>\n",
       "      <th>YAL002W</th>\n",
       "      <td>NaN</td>\n",
       "      <td>-0.016999</td>\n",
       "      <td>NaN</td>\n",
       "      <td>-0.005073</td>\n",
       "      <td>NaN</td>\n",
       "      <td>0.008071</td>\n",
       "    </tr>\n",
       "    <tr>\n",
       "      <th>3</th>\n",
       "      <th>YAL003W</th>\n",
       "      <td>-0.084682</td>\n",
       "      <td>-0.007208</td>\n",
       "      <td>-0.081194</td>\n",
       "      <td>-0.012135</td>\n",
       "      <td>-0.039218</td>\n",
       "      <td>-0.009811</td>\n",
       "    </tr>\n",
       "    <tr>\n",
       "      <th>1863</th>\n",
       "      <th>YAL004W</th>\n",
       "      <td>0.012654</td>\n",
       "      <td>0.006390</td>\n",
       "      <td>-0.017815</td>\n",
       "      <td>-0.013990</td>\n",
       "      <td>-0.137926</td>\n",
       "      <td>0.011175</td>\n",
       "    </tr>\n",
       "    <tr>\n",
       "      <th>4</th>\n",
       "      <th>YAL005C</th>\n",
       "      <td>-0.002357</td>\n",
       "      <td>-0.042974</td>\n",
       "      <td>0.002517</td>\n",
       "      <td>NaN</td>\n",
       "      <td>-0.105089</td>\n",
       "      <td>NaN</td>\n",
       "    </tr>\n",
       "  </tbody>\n",
       "</table>\n",
       "</div>"
      ],
      "text/plain": [
       "dataset_id          16195     16199     16210     16197     16196     16198\n",
       "data_type           value     value     value     value     value     value\n",
       "gene_id orf                                                                \n",
       "1       YAL001C       NaN  0.007918       NaN -0.064626       NaN -0.075990\n",
       "2       YAL002W       NaN -0.016999       NaN -0.005073       NaN  0.008071\n",
       "3       YAL003W -0.084682 -0.007208 -0.081194 -0.012135 -0.039218 -0.009811\n",
       "1863    YAL004W  0.012654  0.006390 -0.017815 -0.013990 -0.137926  0.011175\n",
       "4       YAL005C -0.002357 -0.042974  0.002517       NaN -0.105089       NaN"
      ]
     },
     "execution_count": 28,
     "metadata": {},
     "output_type": "execute_result"
    }
   ],
   "source": [
    "data.head()"
   ]
  },
  {
   "cell_type": "markdown",
   "metadata": {},
   "source": [
    "# Normalize"
   ]
  },
  {
   "cell_type": "code",
   "execution_count": 29,
   "metadata": {},
   "outputs": [],
   "source": [
    "data_norm = normalize_phenotypic_scores(data, has_tested=True)"
   ]
  },
  {
   "cell_type": "code",
   "execution_count": 30,
   "metadata": {},
   "outputs": [],
   "source": [
    "# Assign proper column names\n",
    "lst = [datasets.index.values, ['valuez']*datasets.shape[0]]\n",
    "tuples = list(zip(*lst))\n",
    "idx = pd.MultiIndex.from_tuples(tuples, names=['dataset_id','data_type'])\n",
    "data_norm.columns = idx"
   ]
  },
  {
   "cell_type": "code",
   "execution_count": 31,
   "metadata": {},
   "outputs": [],
   "source": [
    "data_norm[data.isnull()] = np.nan\n",
    "data_all = data.join(data_norm)"
   ]
  },
  {
   "cell_type": "code",
   "execution_count": 32,
   "metadata": {},
   "outputs": [
    {
     "data": {
      "text/html": [
       "<div>\n",
       "<style scoped>\n",
       "    .dataframe tbody tr th:only-of-type {\n",
       "        vertical-align: middle;\n",
       "    }\n",
       "\n",
       "    .dataframe tbody tr th {\n",
       "        vertical-align: top;\n",
       "    }\n",
       "\n",
       "    .dataframe thead tr th {\n",
       "        text-align: left;\n",
       "    }\n",
       "\n",
       "    .dataframe thead tr:last-of-type th {\n",
       "        text-align: right;\n",
       "    }\n",
       "</style>\n",
       "<table border=\"1\" class=\"dataframe\">\n",
       "  <thead>\n",
       "    <tr>\n",
       "      <th></th>\n",
       "      <th>dataset_id</th>\n",
       "      <th>16195</th>\n",
       "      <th>16199</th>\n",
       "      <th>16210</th>\n",
       "      <th>16197</th>\n",
       "      <th>16196</th>\n",
       "      <th>16198</th>\n",
       "      <th>16195</th>\n",
       "      <th>16199</th>\n",
       "      <th>16210</th>\n",
       "      <th>16197</th>\n",
       "      <th>16196</th>\n",
       "      <th>16198</th>\n",
       "    </tr>\n",
       "    <tr>\n",
       "      <th></th>\n",
       "      <th>data_type</th>\n",
       "      <th>value</th>\n",
       "      <th>value</th>\n",
       "      <th>value</th>\n",
       "      <th>value</th>\n",
       "      <th>value</th>\n",
       "      <th>value</th>\n",
       "      <th>valuez</th>\n",
       "      <th>valuez</th>\n",
       "      <th>valuez</th>\n",
       "      <th>valuez</th>\n",
       "      <th>valuez</th>\n",
       "      <th>valuez</th>\n",
       "    </tr>\n",
       "    <tr>\n",
       "      <th>gene_id</th>\n",
       "      <th>orf</th>\n",
       "      <th></th>\n",
       "      <th></th>\n",
       "      <th></th>\n",
       "      <th></th>\n",
       "      <th></th>\n",
       "      <th></th>\n",
       "      <th></th>\n",
       "      <th></th>\n",
       "      <th></th>\n",
       "      <th></th>\n",
       "      <th></th>\n",
       "      <th></th>\n",
       "    </tr>\n",
       "  </thead>\n",
       "  <tbody>\n",
       "    <tr>\n",
       "      <th>1</th>\n",
       "      <th>YAL001C</th>\n",
       "      <td>NaN</td>\n",
       "      <td>0.007918</td>\n",
       "      <td>NaN</td>\n",
       "      <td>-0.064626</td>\n",
       "      <td>NaN</td>\n",
       "      <td>-0.075990</td>\n",
       "      <td>NaN</td>\n",
       "      <td>0.292940</td>\n",
       "      <td>NaN</td>\n",
       "      <td>-1.862701</td>\n",
       "      <td>NaN</td>\n",
       "      <td>-1.817783</td>\n",
       "    </tr>\n",
       "    <tr>\n",
       "      <th>2</th>\n",
       "      <th>YAL002W</th>\n",
       "      <td>NaN</td>\n",
       "      <td>-0.016999</td>\n",
       "      <td>NaN</td>\n",
       "      <td>-0.005073</td>\n",
       "      <td>NaN</td>\n",
       "      <td>0.008071</td>\n",
       "      <td>NaN</td>\n",
       "      <td>-0.695176</td>\n",
       "      <td>NaN</td>\n",
       "      <td>-0.052073</td>\n",
       "      <td>NaN</td>\n",
       "      <td>0.255222</td>\n",
       "    </tr>\n",
       "    <tr>\n",
       "      <th>3</th>\n",
       "      <th>YAL003W</th>\n",
       "      <td>-0.084682</td>\n",
       "      <td>-0.007208</td>\n",
       "      <td>-0.081194</td>\n",
       "      <td>-0.012135</td>\n",
       "      <td>-0.039218</td>\n",
       "      <td>-0.009811</td>\n",
       "      <td>-1.452869</td>\n",
       "      <td>-0.306915</td>\n",
       "      <td>-1.470815</td>\n",
       "      <td>-0.266787</td>\n",
       "      <td>-0.620117</td>\n",
       "      <td>-0.185742</td>\n",
       "    </tr>\n",
       "    <tr>\n",
       "      <th>1863</th>\n",
       "      <th>YAL004W</th>\n",
       "      <td>0.012654</td>\n",
       "      <td>0.006390</td>\n",
       "      <td>-0.017815</td>\n",
       "      <td>-0.013990</td>\n",
       "      <td>-0.137926</td>\n",
       "      <td>0.011175</td>\n",
       "      <td>0.145105</td>\n",
       "      <td>0.232363</td>\n",
       "      <td>-0.388552</td>\n",
       "      <td>-0.323172</td>\n",
       "      <td>-2.210413</td>\n",
       "      <td>0.331787</td>\n",
       "    </tr>\n",
       "    <tr>\n",
       "      <th>4</th>\n",
       "      <th>YAL005C</th>\n",
       "      <td>-0.002357</td>\n",
       "      <td>-0.042974</td>\n",
       "      <td>0.002517</td>\n",
       "      <td>NaN</td>\n",
       "      <td>-0.105089</td>\n",
       "      <td>NaN</td>\n",
       "      <td>-0.101336</td>\n",
       "      <td>-1.725291</td>\n",
       "      <td>-0.041348</td>\n",
       "      <td>NaN</td>\n",
       "      <td>-1.681383</td>\n",
       "      <td>NaN</td>\n",
       "    </tr>\n",
       "  </tbody>\n",
       "</table>\n",
       "</div>"
      ],
      "text/plain": [
       "dataset_id          16195     16199     16210     16197     16196     16198  \\\n",
       "data_type           value     value     value     value     value     value   \n",
       "gene_id orf                                                                   \n",
       "1       YAL001C       NaN  0.007918       NaN -0.064626       NaN -0.075990   \n",
       "2       YAL002W       NaN -0.016999       NaN -0.005073       NaN  0.008071   \n",
       "3       YAL003W -0.084682 -0.007208 -0.081194 -0.012135 -0.039218 -0.009811   \n",
       "1863    YAL004W  0.012654  0.006390 -0.017815 -0.013990 -0.137926  0.011175   \n",
       "4       YAL005C -0.002357 -0.042974  0.002517       NaN -0.105089       NaN   \n",
       "\n",
       "dataset_id          16195     16199     16210     16197     16196     16198  \n",
       "data_type          valuez    valuez    valuez    valuez    valuez    valuez  \n",
       "gene_id orf                                                                  \n",
       "1       YAL001C       NaN  0.292940       NaN -1.862701       NaN -1.817783  \n",
       "2       YAL002W       NaN -0.695176       NaN -0.052073       NaN  0.255222  \n",
       "3       YAL003W -1.452869 -0.306915 -1.470815 -0.266787 -0.620117 -0.185742  \n",
       "1863    YAL004W  0.145105  0.232363 -0.388552 -0.323172 -2.210413  0.331787  \n",
       "4       YAL005C -0.101336 -1.725291 -0.041348       NaN -1.681383       NaN  "
      ]
     },
     "execution_count": 32,
     "metadata": {},
     "output_type": "execute_result"
    }
   ],
   "source": [
    "data_all.head()\n"
   ]
  },
  {
   "cell_type": "markdown",
   "metadata": {},
   "source": [
    "# Print out"
   ]
  },
  {
   "cell_type": "code",
   "execution_count": 33,
   "metadata": {},
   "outputs": [],
   "source": [
    "for f in ['value','valuez']:\n",
    "    df = data_all.xs(f, level='data_type', axis=1).copy()\n",
    "    df.columns = datasets['name'].values\n",
    "    df = df.droplevel('gene_id', axis=0)\n",
    "    df.to_csv(paper_name + '_' + f + '.txt', sep='\\t')"
   ]
  },
  {
   "cell_type": "markdown",
   "metadata": {},
   "source": [
    "# Save to DB"
   ]
  },
  {
   "cell_type": "code",
   "execution_count": 34,
   "metadata": {},
   "outputs": [],
   "source": [
    "from IO.save_data_to_db3 import *"
   ]
  },
  {
   "cell_type": "code",
   "execution_count": 35,
   "metadata": {},
   "outputs": [
    {
     "name": "stderr",
     "output_type": "stream",
     "text": [
      "  0%|          | 0/6 [00:00<?, ?it/s]"
     ]
    },
    {
     "name": "stdout",
     "output_type": "stream",
     "text": [
      "Deleting all datasets for PMID 27727276...\n",
      "Inserting the new data...\n"
     ]
    },
    {
     "name": "stderr",
     "output_type": "stream",
     "text": [
      "100%|██████████| 6/6 [00:51<00:00,  8.56s/it]"
     ]
    },
    {
     "name": "stdout",
     "output_type": "stream",
     "text": [
      "Updating the data_modified_on field...\n"
     ]
    },
    {
     "name": "stderr",
     "output_type": "stream",
     "text": [
      "\n"
     ]
    }
   ],
   "source": [
    "save_data_to_db(data_all, paper_pmid)"
   ]
  },
  {
   "cell_type": "code",
   "execution_count": null,
   "metadata": {},
   "outputs": [],
   "source": []
  }
 ],
 "metadata": {
  "kernelspec": {
   "display_name": "yp-data",
   "language": "python",
   "name": "yp-data"
  },
  "language_info": {
   "codemirror_mode": {
    "name": "ipython",
    "version": 3
   },
   "file_extension": ".py",
   "mimetype": "text/x-python",
   "name": "python",
   "nbconvert_exporter": "python",
   "pygments_lexer": "ipython3",
   "version": "3.7.7"
  }
 },
 "nbformat": 4,
 "nbformat_minor": 4
}
