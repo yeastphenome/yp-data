{
 "cells": [
  {
   "cell_type": "code",
   "execution_count": 1,
   "metadata": {},
   "outputs": [],
   "source": [
    "%run ../../Utils/yp_utils.py"
   ]
  },
  {
   "cell_type": "markdown",
   "metadata": {},
   "source": [
    "# Initial setup"
   ]
  },
  {
   "cell_type": "code",
   "execution_count": 2,
   "metadata": {},
   "outputs": [],
   "source": [
    "paper_pmid = 14671320\n",
    "paper_name = 'kushner_ahlquist_2003' "
   ]
  },
  {
   "cell_type": "code",
   "execution_count": 3,
   "metadata": {},
   "outputs": [],
   "source": [
    "datasets = pd.read_csv('extras/YeastPhenome_' + str(paper_pmid) + '_datasets_list.txt', sep='\\t', header=None, names=['dataset_id', 'name'])"
   ]
  },
  {
   "cell_type": "code",
   "execution_count": 4,
   "metadata": {},
   "outputs": [],
   "source": [
    "datasets.set_index('dataset_id', inplace=True)"
   ]
  },
  {
   "cell_type": "markdown",
   "metadata": {},
   "source": [
    "# Load & process the data"
   ]
  },
  {
   "cell_type": "code",
   "execution_count": 11,
   "metadata": {},
   "outputs": [],
   "source": [
    "original_data = pd.read_excel('raw_data/6857Table3.xlsx', sheet_name='Sheet1', skiprows=10)"
   ]
  },
  {
   "cell_type": "code",
   "execution_count": 12,
   "metadata": {},
   "outputs": [
    {
     "name": "stdout",
     "output_type": "stream",
     "text": [
      "Original data dimensions: 4792 x 9\n"
     ]
    }
   ],
   "source": [
    "print('Original data dimensions: %d x %d' % (original_data.shape))"
   ]
  },
  {
   "cell_type": "code",
   "execution_count": 13,
   "metadata": {},
   "outputs": [
    {
     "data": {
      "text/html": [
       "<div>\n",
       "<style scoped>\n",
       "    .dataframe tbody tr th:only-of-type {\n",
       "        vertical-align: middle;\n",
       "    }\n",
       "\n",
       "    .dataframe tbody tr th {\n",
       "        vertical-align: top;\n",
       "    }\n",
       "\n",
       "    .dataframe thead th {\n",
       "        text-align: right;\n",
       "    }\n",
       "</style>\n",
       "<table border=\"1\" class=\"dataframe\">\n",
       "  <thead>\n",
       "    <tr style=\"text-align: right;\">\n",
       "      <th></th>\n",
       "      <th>ORF</th>\n",
       "      <th>name</th>\n",
       "      <th>% wt Rluc</th>\n",
       "      <th>activity 1</th>\n",
       "      <th>notes 1</th>\n",
       "      <th>notes 1.1</th>\n",
       "      <th>activity 2</th>\n",
       "      <th>notes 2</th>\n",
       "      <th>notes 2.1</th>\n",
       "    </tr>\n",
       "  </thead>\n",
       "  <tbody>\n",
       "    <tr>\n",
       "      <th>0</th>\n",
       "      <td>YAL002W</td>\n",
       "      <td>VPS8</td>\n",
       "      <td>163.919012</td>\n",
       "      <td>166.080946</td>\n",
       "      <td></td>\n",
       "      <td></td>\n",
       "      <td>161.757077</td>\n",
       "      <td></td>\n",
       "      <td></td>\n",
       "    </tr>\n",
       "    <tr>\n",
       "      <th>1</th>\n",
       "      <td>YAL004W</td>\n",
       "      <td>NaN</td>\n",
       "      <td>157.897736</td>\n",
       "      <td>198.830915</td>\n",
       "      <td></td>\n",
       "      <td></td>\n",
       "      <td>116.964557</td>\n",
       "      <td></td>\n",
       "      <td></td>\n",
       "    </tr>\n",
       "    <tr>\n",
       "      <th>2</th>\n",
       "      <td>YAL005C</td>\n",
       "      <td>SSA1</td>\n",
       "      <td>195.307831</td>\n",
       "      <td>231.299046</td>\n",
       "      <td></td>\n",
       "      <td></td>\n",
       "      <td>159.316616</td>\n",
       "      <td></td>\n",
       "      <td></td>\n",
       "    </tr>\n",
       "    <tr>\n",
       "      <th>3</th>\n",
       "      <td>YAL007C</td>\n",
       "      <td>ERP2</td>\n",
       "      <td>69.358685</td>\n",
       "      <td>67.896887</td>\n",
       "      <td></td>\n",
       "      <td>g</td>\n",
       "      <td>70.820482</td>\n",
       "      <td></td>\n",
       "      <td>g</td>\n",
       "    </tr>\n",
       "    <tr>\n",
       "      <th>4</th>\n",
       "      <td>YAL008W</td>\n",
       "      <td>FUN14</td>\n",
       "      <td>109.664038</td>\n",
       "      <td>96.854861</td>\n",
       "      <td></td>\n",
       "      <td></td>\n",
       "      <td>122.473215</td>\n",
       "      <td></td>\n",
       "      <td></td>\n",
       "    </tr>\n",
       "  </tbody>\n",
       "</table>\n",
       "</div>"
      ],
      "text/plain": [
       "       ORF   name   % wt Rluc  activity 1 notes 1 notes 1.1  activity 2  \\\n",
       "0  YAL002W   VPS8  163.919012  166.080946                    161.757077   \n",
       "1  YAL004W    NaN  157.897736  198.830915                    116.964557   \n",
       "2  YAL005C   SSA1  195.307831  231.299046                    159.316616   \n",
       "3  YAL007C   ERP2   69.358685   67.896887                 g   70.820482   \n",
       "4  YAL008W  FUN14  109.664038   96.854861                    122.473215   \n",
       "\n",
       "  notes 2 notes 2.1  \n",
       "0                    \n",
       "1                    \n",
       "2                    \n",
       "3                 g  \n",
       "4                    "
      ]
     },
     "execution_count": 13,
     "metadata": {},
     "output_type": "execute_result"
    }
   ],
   "source": [
    "original_data.head()"
   ]
  },
  {
   "cell_type": "code",
   "execution_count": 14,
   "metadata": {},
   "outputs": [],
   "source": [
    "original_data['orf'] = original_data['ORF'].astype(str)"
   ]
  },
  {
   "cell_type": "code",
   "execution_count": 15,
   "metadata": {},
   "outputs": [],
   "source": [
    "# Eliminate all white spaces & capitalize\n",
    "original_data['orf'] = clean_orf(original_data['orf'])"
   ]
  },
  {
   "cell_type": "code",
   "execution_count": 16,
   "metadata": {},
   "outputs": [],
   "source": [
    "# Translate to ORFs \n",
    "original_data['orf'] = translate_sc(original_data['orf'], to='orf')"
   ]
  },
  {
   "cell_type": "code",
   "execution_count": 17,
   "metadata": {},
   "outputs": [
    {
     "name": "stdout",
     "output_type": "stream",
     "text": [
      "Empty DataFrame\n",
      "Columns: [ORF, name, % wt Rluc, activity 1, notes 1, notes 1.1, activity 2, notes 2, notes 2.1, orf]\n",
      "Index: []\n"
     ]
    }
   ],
   "source": [
    "# Make sure everything translated ok\n",
    "t = looks_like_orf(original_data['orf'])\n",
    "print(original_data.loc[~t,])"
   ]
  },
  {
   "cell_type": "code",
   "execution_count": 18,
   "metadata": {},
   "outputs": [],
   "source": [
    "original_data['data'] = pd.to_numeric(original_data['% wt Rluc'], errors='coerce')"
   ]
  },
  {
   "cell_type": "code",
   "execution_count": 19,
   "metadata": {},
   "outputs": [],
   "source": [
    "original_data.set_index('orf', inplace=True)"
   ]
  },
  {
   "cell_type": "code",
   "execution_count": 20,
   "metadata": {},
   "outputs": [],
   "source": [
    "original_data = original_data[['data']].copy()"
   ]
  },
  {
   "cell_type": "code",
   "execution_count": 21,
   "metadata": {},
   "outputs": [],
   "source": [
    "original_data = original_data.groupby(original_data.index).mean()"
   ]
  },
  {
   "cell_type": "code",
   "execution_count": 22,
   "metadata": {},
   "outputs": [
    {
     "data": {
      "text/plain": [
       "(4679, 1)"
      ]
     },
     "execution_count": 22,
     "metadata": {},
     "output_type": "execute_result"
    }
   ],
   "source": [
    "original_data.shape"
   ]
  },
  {
   "cell_type": "markdown",
   "metadata": {},
   "source": [
    "# Prepare the final dataset"
   ]
  },
  {
   "cell_type": "code",
   "execution_count": 23,
   "metadata": {},
   "outputs": [],
   "source": [
    "data = original_data.copy()"
   ]
  },
  {
   "cell_type": "code",
   "execution_count": 24,
   "metadata": {},
   "outputs": [],
   "source": [
    "dataset_ids = [481]\n",
    "datasets = datasets.reindex(index=dataset_ids)"
   ]
  },
  {
   "cell_type": "code",
   "execution_count": 25,
   "metadata": {},
   "outputs": [],
   "source": [
    "lst = [datasets.index.values, ['value']*datasets.shape[0]]\n",
    "tuples = list(zip(*lst))\n",
    "idx = pd.MultiIndex.from_tuples(tuples, names=['dataset_id','data_type'])\n",
    "data.columns = idx"
   ]
  },
  {
   "cell_type": "code",
   "execution_count": 26,
   "metadata": {},
   "outputs": [
    {
     "data": {
      "text/html": [
       "<div>\n",
       "<style scoped>\n",
       "    .dataframe tbody tr th:only-of-type {\n",
       "        vertical-align: middle;\n",
       "    }\n",
       "\n",
       "    .dataframe tbody tr th {\n",
       "        vertical-align: top;\n",
       "    }\n",
       "\n",
       "    .dataframe thead tr th {\n",
       "        text-align: left;\n",
       "    }\n",
       "\n",
       "    .dataframe thead tr:last-of-type th {\n",
       "        text-align: right;\n",
       "    }\n",
       "</style>\n",
       "<table border=\"1\" class=\"dataframe\">\n",
       "  <thead>\n",
       "    <tr>\n",
       "      <th>dataset_id</th>\n",
       "      <th>481</th>\n",
       "    </tr>\n",
       "    <tr>\n",
       "      <th>data_type</th>\n",
       "      <th>value</th>\n",
       "    </tr>\n",
       "    <tr>\n",
       "      <th>orf</th>\n",
       "      <th></th>\n",
       "    </tr>\n",
       "  </thead>\n",
       "  <tbody>\n",
       "    <tr>\n",
       "      <th>YAL002W</th>\n",
       "      <td>163.919012</td>\n",
       "    </tr>\n",
       "    <tr>\n",
       "      <th>YAL004W</th>\n",
       "      <td>157.897736</td>\n",
       "    </tr>\n",
       "    <tr>\n",
       "      <th>YAL005C</th>\n",
       "      <td>195.307831</td>\n",
       "    </tr>\n",
       "    <tr>\n",
       "      <th>YAL007C</th>\n",
       "      <td>69.358685</td>\n",
       "    </tr>\n",
       "    <tr>\n",
       "      <th>YAL008W</th>\n",
       "      <td>109.664038</td>\n",
       "    </tr>\n",
       "  </tbody>\n",
       "</table>\n",
       "</div>"
      ],
      "text/plain": [
       "dataset_id         481\n",
       "data_type        value\n",
       "orf                   \n",
       "YAL002W     163.919012\n",
       "YAL004W     157.897736\n",
       "YAL005C     195.307831\n",
       "YAL007C      69.358685\n",
       "YAL008W     109.664038"
      ]
     },
     "execution_count": 26,
     "metadata": {},
     "output_type": "execute_result"
    }
   ],
   "source": [
    "data.head()"
   ]
  },
  {
   "cell_type": "markdown",
   "metadata": {},
   "source": [
    "## Subset to the genes currently in SGD"
   ]
  },
  {
   "cell_type": "code",
   "execution_count": 27,
   "metadata": {},
   "outputs": [
    {
     "name": "stdout",
     "output_type": "stream",
     "text": [
      "ORFs missing from SGD: 27\n"
     ]
    }
   ],
   "source": [
    "genes = pd.read_csv(path_to_genes, sep='\\t', index_col='id')\n",
    "genes = genes.reset_index().set_index('systematic_name')\n",
    "gene_ids = genes.reindex(index=data.index.values)['id'].values\n",
    "num_missing = np.sum(np.isnan(gene_ids))\n",
    "print('ORFs missing from SGD: %d' % num_missing)"
   ]
  },
  {
   "cell_type": "code",
   "execution_count": 28,
   "metadata": {},
   "outputs": [
    {
     "data": {
      "text/html": [
       "<div>\n",
       "<style scoped>\n",
       "    .dataframe tbody tr th:only-of-type {\n",
       "        vertical-align: middle;\n",
       "    }\n",
       "\n",
       "    .dataframe tbody tr th {\n",
       "        vertical-align: top;\n",
       "    }\n",
       "\n",
       "    .dataframe thead tr th {\n",
       "        text-align: left;\n",
       "    }\n",
       "\n",
       "    .dataframe thead tr:last-of-type th {\n",
       "        text-align: right;\n",
       "    }\n",
       "</style>\n",
       "<table border=\"1\" class=\"dataframe\">\n",
       "  <thead>\n",
       "    <tr>\n",
       "      <th></th>\n",
       "      <th>dataset_id</th>\n",
       "      <th>481</th>\n",
       "    </tr>\n",
       "    <tr>\n",
       "      <th></th>\n",
       "      <th>data_type</th>\n",
       "      <th>value</th>\n",
       "    </tr>\n",
       "    <tr>\n",
       "      <th>gene_id</th>\n",
       "      <th>orf</th>\n",
       "      <th></th>\n",
       "    </tr>\n",
       "  </thead>\n",
       "  <tbody>\n",
       "    <tr>\n",
       "      <th>2</th>\n",
       "      <th>YAL002W</th>\n",
       "      <td>163.919012</td>\n",
       "    </tr>\n",
       "    <tr>\n",
       "      <th>1863</th>\n",
       "      <th>YAL004W</th>\n",
       "      <td>157.897736</td>\n",
       "    </tr>\n",
       "    <tr>\n",
       "      <th>4</th>\n",
       "      <th>YAL005C</th>\n",
       "      <td>195.307831</td>\n",
       "    </tr>\n",
       "    <tr>\n",
       "      <th>5</th>\n",
       "      <th>YAL007C</th>\n",
       "      <td>69.358685</td>\n",
       "    </tr>\n",
       "    <tr>\n",
       "      <th>6</th>\n",
       "      <th>YAL008W</th>\n",
       "      <td>109.664038</td>\n",
       "    </tr>\n",
       "  </tbody>\n",
       "</table>\n",
       "</div>"
      ],
      "text/plain": [
       "dataset_id              481\n",
       "data_type             value\n",
       "gene_id orf                \n",
       "2       YAL002W  163.919012\n",
       "1863    YAL004W  157.897736\n",
       "4       YAL005C  195.307831\n",
       "5       YAL007C   69.358685\n",
       "6       YAL008W  109.664038"
      ]
     },
     "execution_count": 28,
     "metadata": {},
     "output_type": "execute_result"
    }
   ],
   "source": [
    "data['gene_id'] = gene_ids\n",
    "data = data.loc[data['gene_id'].notnull()]\n",
    "data['gene_id'] = data['gene_id'].astype(int)\n",
    "data = data.reset_index().set_index(['gene_id','orf'])\n",
    "\n",
    "data.head()"
   ]
  },
  {
   "cell_type": "markdown",
   "metadata": {},
   "source": [
    "# Normalize"
   ]
  },
  {
   "cell_type": "code",
   "execution_count": 29,
   "metadata": {},
   "outputs": [],
   "source": [
    "data_norm = normalize_phenotypic_scores(data, has_tested=True)"
   ]
  },
  {
   "cell_type": "code",
   "execution_count": 30,
   "metadata": {},
   "outputs": [],
   "source": [
    "# Assign proper column names\n",
    "lst = [datasets.index.values, ['valuez']*datasets.shape[0]]\n",
    "tuples = list(zip(*lst))\n",
    "idx = pd.MultiIndex.from_tuples(tuples, names=['dataset_id','data_type'])\n",
    "data_norm.columns = idx"
   ]
  },
  {
   "cell_type": "code",
   "execution_count": 31,
   "metadata": {},
   "outputs": [
    {
     "data": {
      "text/html": [
       "<div>\n",
       "<style scoped>\n",
       "    .dataframe tbody tr th:only-of-type {\n",
       "        vertical-align: middle;\n",
       "    }\n",
       "\n",
       "    .dataframe tbody tr th {\n",
       "        vertical-align: top;\n",
       "    }\n",
       "\n",
       "    .dataframe thead tr th {\n",
       "        text-align: left;\n",
       "    }\n",
       "\n",
       "    .dataframe thead tr:last-of-type th {\n",
       "        text-align: right;\n",
       "    }\n",
       "</style>\n",
       "<table border=\"1\" class=\"dataframe\">\n",
       "  <thead>\n",
       "    <tr>\n",
       "      <th></th>\n",
       "      <th>dataset_id</th>\n",
       "      <th colspan=\"2\" halign=\"left\">481</th>\n",
       "    </tr>\n",
       "    <tr>\n",
       "      <th></th>\n",
       "      <th>data_type</th>\n",
       "      <th>value</th>\n",
       "      <th>valuez</th>\n",
       "    </tr>\n",
       "    <tr>\n",
       "      <th>gene_id</th>\n",
       "      <th>orf</th>\n",
       "      <th></th>\n",
       "      <th></th>\n",
       "    </tr>\n",
       "  </thead>\n",
       "  <tbody>\n",
       "    <tr>\n",
       "      <th>2</th>\n",
       "      <th>YAL002W</th>\n",
       "      <td>163.919012</td>\n",
       "      <td>1.318740</td>\n",
       "    </tr>\n",
       "    <tr>\n",
       "      <th>1863</th>\n",
       "      <th>YAL004W</th>\n",
       "      <td>157.897736</td>\n",
       "      <td>1.198743</td>\n",
       "    </tr>\n",
       "    <tr>\n",
       "      <th>4</th>\n",
       "      <th>YAL005C</th>\n",
       "      <td>195.307831</td>\n",
       "      <td>1.944278</td>\n",
       "    </tr>\n",
       "    <tr>\n",
       "      <th>5</th>\n",
       "      <th>YAL007C</th>\n",
       "      <td>69.358685</td>\n",
       "      <td>-0.565725</td>\n",
       "    </tr>\n",
       "    <tr>\n",
       "      <th>6</th>\n",
       "      <th>YAL008W</th>\n",
       "      <td>109.664038</td>\n",
       "      <td>0.237508</td>\n",
       "    </tr>\n",
       "  </tbody>\n",
       "</table>\n",
       "</div>"
      ],
      "text/plain": [
       "dataset_id              481          \n",
       "data_type             value    valuez\n",
       "gene_id orf                          \n",
       "2       YAL002W  163.919012  1.318740\n",
       "1863    YAL004W  157.897736  1.198743\n",
       "4       YAL005C  195.307831  1.944278\n",
       "5       YAL007C   69.358685 -0.565725\n",
       "6       YAL008W  109.664038  0.237508"
      ]
     },
     "execution_count": 31,
     "metadata": {},
     "output_type": "execute_result"
    }
   ],
   "source": [
    "data_norm[data.isnull()] = np.nan\n",
    "data_all = data.join(data_norm)\n",
    "\n",
    "data_all.head()"
   ]
  },
  {
   "cell_type": "markdown",
   "metadata": {},
   "source": [
    "# Print out"
   ]
  },
  {
   "cell_type": "code",
   "execution_count": 32,
   "metadata": {},
   "outputs": [],
   "source": [
    "for f in ['value','valuez']:\n",
    "    df = data_all.xs(f, level='data_type', axis=1).copy()\n",
    "    df.columns = datasets['name'].values\n",
    "    df = df.droplevel('gene_id', axis=0)\n",
    "    df.to_csv(paper_name + '_' + f + '.txt', sep='\\t')"
   ]
  },
  {
   "cell_type": "markdown",
   "metadata": {},
   "source": [
    "# Save to DB"
   ]
  },
  {
   "cell_type": "code",
   "execution_count": 33,
   "metadata": {},
   "outputs": [],
   "source": [
    "from IO.save_data_to_db3 import *"
   ]
  },
  {
   "cell_type": "code",
   "execution_count": 34,
   "metadata": {},
   "outputs": [
    {
     "name": "stderr",
     "output_type": "stream",
     "text": [
      "  0%|          | 0/1 [00:00<?, ?it/s]"
     ]
    },
    {
     "name": "stdout",
     "output_type": "stream",
     "text": [
      "Deleting all datasets for PMID 14671320...\n",
      "Inserting the new data...\n"
     ]
    },
    {
     "name": "stderr",
     "output_type": "stream",
     "text": [
      "100%|██████████| 1/1 [00:06<00:00,  6.81s/it]"
     ]
    },
    {
     "name": "stdout",
     "output_type": "stream",
     "text": [
      "Updating the data_modified_on field...\n"
     ]
    },
    {
     "name": "stderr",
     "output_type": "stream",
     "text": [
      "\n"
     ]
    }
   ],
   "source": [
    "save_data_to_db(data_all, paper_pmid)"
   ]
  },
  {
   "cell_type": "code",
   "execution_count": null,
   "metadata": {},
   "outputs": [],
   "source": []
  }
 ],
 "metadata": {
  "kernelspec": {
   "display_name": "yp-data",
   "language": "python",
   "name": "yp-data"
  },
  "language_info": {
   "codemirror_mode": {
    "name": "ipython",
    "version": 3
   },
   "file_extension": ".py",
   "mimetype": "text/x-python",
   "name": "python",
   "nbconvert_exporter": "python",
   "pygments_lexer": "ipython3",
   "version": "3.7.7"
  }
 },
 "nbformat": 4,
 "nbformat_minor": 4
}
