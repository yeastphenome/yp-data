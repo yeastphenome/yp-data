{
 "cells": [
  {
   "cell_type": "code",
   "execution_count": 1,
   "metadata": {},
   "outputs": [],
   "source": [
    "%run ../../Utils/yp_utils.py"
   ]
  },
  {
   "cell_type": "markdown",
   "metadata": {},
   "source": [
    "# Initial setup"
   ]
  },
  {
   "cell_type": "code",
   "execution_count": 2,
   "metadata": {},
   "outputs": [],
   "source": [
    "paper_pmid = 15716499\n",
    "paper_name = 'deutschbauer_giaever_2005' "
   ]
  },
  {
   "cell_type": "code",
   "execution_count": 3,
   "metadata": {},
   "outputs": [],
   "source": [
    "datasets = pd.read_csv('extras/YeastPhenome_' + str(paper_pmid) + '_datasets_list.txt', sep='\\t', header=None, names=['dataset_id', 'name'])"
   ]
  },
  {
   "cell_type": "code",
   "execution_count": 4,
   "metadata": {},
   "outputs": [],
   "source": [
    "datasets.set_index('dataset_id', inplace=True)"
   ]
  },
  {
   "cell_type": "markdown",
   "metadata": {},
   "source": [
    "# Load & process the data"
   ]
  },
  {
   "cell_type": "code",
   "execution_count": 5,
   "metadata": {},
   "outputs": [],
   "source": [
    "original_data = pd.read_excel('raw_data/OrfGeneData.xlsx', sheet_name='OrfGeneData')"
   ]
  },
  {
   "cell_type": "code",
   "execution_count": 6,
   "metadata": {},
   "outputs": [
    {
     "name": "stdout",
     "output_type": "stream",
     "text": [
      "Original data dimensions: 5922 x 18\n"
     ]
    }
   ],
   "source": [
    "print('Original data dimensions: %d x %d' % (original_data.shape))"
   ]
  },
  {
   "cell_type": "code",
   "execution_count": 7,
   "metadata": {},
   "outputs": [
    {
     "data": {
      "text/html": [
       "<div>\n",
       "<style scoped>\n",
       "    .dataframe tbody tr th:only-of-type {\n",
       "        vertical-align: middle;\n",
       "    }\n",
       "\n",
       "    .dataframe tbody tr th {\n",
       "        vertical-align: top;\n",
       "    }\n",
       "\n",
       "    .dataframe thead th {\n",
       "        text-align: right;\n",
       "    }\n",
       "</style>\n",
       "<table border=\"1\" class=\"dataframe\">\n",
       "  <thead>\n",
       "    <tr style=\"text-align: right;\">\n",
       "      <th></th>\n",
       "      <th>orf</th>\n",
       "      <th>gene</th>\n",
       "      <th>go_process</th>\n",
       "      <th>go_function</th>\n",
       "      <th>go_component</th>\n",
       "      <th>essential</th>\n",
       "      <th>het_ypd_A</th>\n",
       "      <th>het_ypd_B</th>\n",
       "      <th>HET_AV</th>\n",
       "      <th>slow_ypd_het</th>\n",
       "      <th>hom_ypd_C</th>\n",
       "      <th>hom_ypd_D</th>\n",
       "      <th>HOM_AV</th>\n",
       "      <th>slow_ypd_hom</th>\n",
       "      <th>het_mm_B</th>\n",
       "      <th>slow_mm_het</th>\n",
       "      <th>hom_mm_D</th>\n",
       "      <th>slow_mm_hom</th>\n",
       "    </tr>\n",
       "  </thead>\n",
       "  <tbody>\n",
       "    <tr>\n",
       "      <th>0</th>\n",
       "      <td>YAL001C</td>\n",
       "      <td>TFC3</td>\n",
       "      <td>transcription initiation from Pol III promoter</td>\n",
       "      <td>RNA polymerase III transcription factor activity</td>\n",
       "      <td>transcription factor TFIIIC complex</td>\n",
       "      <td>YES</td>\n",
       "      <td>1.006</td>\n",
       "      <td>1.007</td>\n",
       "      <td>1.006</td>\n",
       "      <td>no</td>\n",
       "      <td>ND</td>\n",
       "      <td>ND</td>\n",
       "      <td>ND</td>\n",
       "      <td>Essential</td>\n",
       "      <td>1.007</td>\n",
       "      <td>no</td>\n",
       "      <td>ND</td>\n",
       "      <td>Essential</td>\n",
       "    </tr>\n",
       "    <tr>\n",
       "      <th>1</th>\n",
       "      <td>YAL002W</td>\n",
       "      <td>VPS8</td>\n",
       "      <td>late endosome to vacuole transport</td>\n",
       "      <td>molecular_function unknown</td>\n",
       "      <td>membrane fraction</td>\n",
       "      <td>NO</td>\n",
       "      <td>0.953</td>\n",
       "      <td>0.928</td>\n",
       "      <td>0.941</td>\n",
       "      <td>no</td>\n",
       "      <td>0.976</td>\n",
       "      <td>0.991</td>\n",
       "      <td>0.983</td>\n",
       "      <td>no</td>\n",
       "      <td>1.013</td>\n",
       "      <td>no</td>\n",
       "      <td>0.837</td>\n",
       "      <td>YES</td>\n",
       "    </tr>\n",
       "    <tr>\n",
       "      <th>2</th>\n",
       "      <td>YAL003W</td>\n",
       "      <td>EFB1</td>\n",
       "      <td>translational elongation</td>\n",
       "      <td>translation elongation factor activity</td>\n",
       "      <td>ribosome</td>\n",
       "      <td>YES</td>\n",
       "      <td>1.019</td>\n",
       "      <td>1.01</td>\n",
       "      <td>1.014</td>\n",
       "      <td>no</td>\n",
       "      <td>ND</td>\n",
       "      <td>ND</td>\n",
       "      <td>ND</td>\n",
       "      <td>Essential</td>\n",
       "      <td>0.987</td>\n",
       "      <td>no</td>\n",
       "      <td>ND</td>\n",
       "      <td>Essential</td>\n",
       "    </tr>\n",
       "    <tr>\n",
       "      <th>3</th>\n",
       "      <td>YAL004W</td>\n",
       "      <td>YAL004W</td>\n",
       "      <td>NaN</td>\n",
       "      <td>NaN</td>\n",
       "      <td>NaN</td>\n",
       "      <td>NO</td>\n",
       "      <td>1.019</td>\n",
       "      <td>0.998</td>\n",
       "      <td>1.009</td>\n",
       "      <td>no</td>\n",
       "      <td>1</td>\n",
       "      <td>1.011</td>\n",
       "      <td>1.005</td>\n",
       "      <td>no</td>\n",
       "      <td>0.999</td>\n",
       "      <td>no</td>\n",
       "      <td>0.999</td>\n",
       "      <td>NO</td>\n",
       "    </tr>\n",
       "    <tr>\n",
       "      <th>4</th>\n",
       "      <td>YAL005C</td>\n",
       "      <td>ssa1</td>\n",
       "      <td>protein folding*</td>\n",
       "      <td>chaperone activity*</td>\n",
       "      <td>cytoplasm*</td>\n",
       "      <td>NO</td>\n",
       "      <td>0.97</td>\n",
       "      <td>0.931</td>\n",
       "      <td>0.95</td>\n",
       "      <td>no</td>\n",
       "      <td>1.006</td>\n",
       "      <td>1.009</td>\n",
       "      <td>1.008</td>\n",
       "      <td>no</td>\n",
       "      <td>0.933</td>\n",
       "      <td>no</td>\n",
       "      <td>1.013</td>\n",
       "      <td>NO</td>\n",
       "    </tr>\n",
       "  </tbody>\n",
       "</table>\n",
       "</div>"
      ],
      "text/plain": [
       "         orf        gene                                      go_process  \\\n",
       "0  YAL001C    TFC3        transcription initiation from Pol III promoter   \n",
       "1  YAL002W    VPS8                    late endosome to vacuole transport   \n",
       "2  YAL003W    EFB1                              translational elongation   \n",
       "3  YAL004W    YAL004W                                                NaN   \n",
       "4  YAL005C    ssa1                                      protein folding*   \n",
       "\n",
       "                                        go_function  \\\n",
       "0  RNA polymerase III transcription factor activity   \n",
       "1                        molecular_function unknown   \n",
       "2            translation elongation factor activity   \n",
       "3                                               NaN   \n",
       "4                               chaperone activity*   \n",
       "\n",
       "                          go_component essential het_ypd_A het_ypd_B HET_AV  \\\n",
       "0  transcription factor TFIIIC complex       YES     1.006     1.007  1.006   \n",
       "1                    membrane fraction        NO     0.953     0.928  0.941   \n",
       "2                             ribosome       YES     1.019      1.01  1.014   \n",
       "3                                  NaN        NO     1.019     0.998  1.009   \n",
       "4                           cytoplasm*        NO      0.97     0.931   0.95   \n",
       "\n",
       "  slow_ypd_het hom_ypd_C hom_ypd_D HOM_AV slow_ypd_hom het_mm_B slow_mm_het  \\\n",
       "0           no        ND        ND     ND    Essential    1.007          no   \n",
       "1           no     0.976     0.991  0.983           no    1.013          no   \n",
       "2           no        ND        ND     ND    Essential    0.987          no   \n",
       "3           no         1     1.011  1.005           no    0.999          no   \n",
       "4           no     1.006     1.009  1.008           no    0.933          no   \n",
       "\n",
       "  hom_mm_D slow_mm_hom  \n",
       "0       ND   Essential  \n",
       "1    0.837         YES  \n",
       "2       ND   Essential  \n",
       "3    0.999          NO  \n",
       "4    1.013          NO  "
      ]
     },
     "execution_count": 7,
     "metadata": {},
     "output_type": "execute_result"
    }
   ],
   "source": [
    "original_data.head()"
   ]
  },
  {
   "cell_type": "code",
   "execution_count": 8,
   "metadata": {},
   "outputs": [],
   "source": [
    "original_data['orf'] = original_data['orf'].astype(str)"
   ]
  },
  {
   "cell_type": "code",
   "execution_count": 9,
   "metadata": {},
   "outputs": [],
   "source": [
    "# Eliminate all white spaces & capitalize\n",
    "original_data['orf'] = clean_orf(original_data['orf'])"
   ]
  },
  {
   "cell_type": "code",
   "execution_count": 10,
   "metadata": {},
   "outputs": [],
   "source": [
    "# Translate to ORFs \n",
    "original_data['orf'] = translate_sc(original_data['orf'], to='orf')"
   ]
  },
  {
   "cell_type": "code",
   "execution_count": 11,
   "metadata": {},
   "outputs": [
    {
     "name": "stdout",
     "output_type": "stream",
     "text": [
      "Empty DataFrame\n",
      "Columns: [orf, gene, go_process, go_function, go_component, essential, het_ypd_A, het_ypd_B, HET_AV, slow_ypd_het, hom_ypd_C, hom_ypd_D, HOM_AV, slow_ypd_hom, het_mm_B, slow_mm_het, hom_mm_D, slow_mm_hom]\n",
      "Index: []\n"
     ]
    }
   ],
   "source": [
    "# Make sure everything translated ok\n",
    "t = looks_like_orf(original_data['orf'])\n",
    "print(original_data.loc[~t,])"
   ]
  },
  {
   "cell_type": "code",
   "execution_count": 12,
   "metadata": {},
   "outputs": [],
   "source": [
    "original_data.set_index('orf', inplace=True)"
   ]
  },
  {
   "cell_type": "code",
   "execution_count": 13,
   "metadata": {},
   "outputs": [],
   "source": [
    "original_data = original_data[['HET_AV','HOM_AV','het_mm_B','hom_mm_D']].apply(pd.to_numeric, axis=1, errors='coerce')"
   ]
  },
  {
   "cell_type": "code",
   "execution_count": 14,
   "metadata": {},
   "outputs": [],
   "source": [
    "original_data = original_data.groupby(original_data.index).mean()"
   ]
  },
  {
   "cell_type": "code",
   "execution_count": 15,
   "metadata": {},
   "outputs": [
    {
     "data": {
      "text/plain": [
       "(5890, 4)"
      ]
     },
     "execution_count": 15,
     "metadata": {},
     "output_type": "execute_result"
    }
   ],
   "source": [
    "original_data.shape"
   ]
  },
  {
   "cell_type": "markdown",
   "metadata": {},
   "source": [
    "# Prepare the final dataset"
   ]
  },
  {
   "cell_type": "code",
   "execution_count": 16,
   "metadata": {},
   "outputs": [],
   "source": [
    "data = original_data.copy()"
   ]
  },
  {
   "cell_type": "code",
   "execution_count": 17,
   "metadata": {},
   "outputs": [],
   "source": [
    "dataset_ids = [521, 5257, 522, 5258]\n",
    "datasets = datasets.reindex(index=dataset_ids)"
   ]
  },
  {
   "cell_type": "code",
   "execution_count": 18,
   "metadata": {},
   "outputs": [],
   "source": [
    "lst = [datasets.index.values, ['value']*datasets.shape[0]]\n",
    "tuples = list(zip(*lst))\n",
    "idx = pd.MultiIndex.from_tuples(tuples, names=['dataset_id','data_type'])\n",
    "data.columns = idx"
   ]
  },
  {
   "cell_type": "code",
   "execution_count": 19,
   "metadata": {},
   "outputs": [
    {
     "data": {
      "text/html": [
       "<div>\n",
       "<style scoped>\n",
       "    .dataframe tbody tr th:only-of-type {\n",
       "        vertical-align: middle;\n",
       "    }\n",
       "\n",
       "    .dataframe tbody tr th {\n",
       "        vertical-align: top;\n",
       "    }\n",
       "\n",
       "    .dataframe thead tr th {\n",
       "        text-align: left;\n",
       "    }\n",
       "\n",
       "    .dataframe thead tr:last-of-type th {\n",
       "        text-align: right;\n",
       "    }\n",
       "</style>\n",
       "<table border=\"1\" class=\"dataframe\">\n",
       "  <thead>\n",
       "    <tr>\n",
       "      <th>dataset_id</th>\n",
       "      <th>521</th>\n",
       "      <th>5257</th>\n",
       "      <th>522</th>\n",
       "      <th>5258</th>\n",
       "    </tr>\n",
       "    <tr>\n",
       "      <th>data_type</th>\n",
       "      <th>value</th>\n",
       "      <th>value</th>\n",
       "      <th>value</th>\n",
       "      <th>value</th>\n",
       "    </tr>\n",
       "    <tr>\n",
       "      <th>orf</th>\n",
       "      <th></th>\n",
       "      <th></th>\n",
       "      <th></th>\n",
       "      <th></th>\n",
       "    </tr>\n",
       "  </thead>\n",
       "  <tbody>\n",
       "    <tr>\n",
       "      <th>YAL001C</th>\n",
       "      <td>1.006</td>\n",
       "      <td>NaN</td>\n",
       "      <td>1.007</td>\n",
       "      <td>NaN</td>\n",
       "    </tr>\n",
       "    <tr>\n",
       "      <th>YAL002W</th>\n",
       "      <td>0.941</td>\n",
       "      <td>0.983</td>\n",
       "      <td>1.013</td>\n",
       "      <td>0.837</td>\n",
       "    </tr>\n",
       "    <tr>\n",
       "      <th>YAL003W</th>\n",
       "      <td>1.014</td>\n",
       "      <td>NaN</td>\n",
       "      <td>0.987</td>\n",
       "      <td>NaN</td>\n",
       "    </tr>\n",
       "    <tr>\n",
       "      <th>YAL004W</th>\n",
       "      <td>1.009</td>\n",
       "      <td>1.005</td>\n",
       "      <td>0.999</td>\n",
       "      <td>0.999</td>\n",
       "    </tr>\n",
       "    <tr>\n",
       "      <th>YAL005C</th>\n",
       "      <td>0.950</td>\n",
       "      <td>1.008</td>\n",
       "      <td>0.933</td>\n",
       "      <td>1.013</td>\n",
       "    </tr>\n",
       "  </tbody>\n",
       "</table>\n",
       "</div>"
      ],
      "text/plain": [
       "dataset_id   521    5257   522    5258\n",
       "data_type   value  value  value  value\n",
       "orf                                   \n",
       "YAL001C     1.006    NaN  1.007    NaN\n",
       "YAL002W     0.941  0.983  1.013  0.837\n",
       "YAL003W     1.014    NaN  0.987    NaN\n",
       "YAL004W     1.009  1.005  0.999  0.999\n",
       "YAL005C     0.950  1.008  0.933  1.013"
      ]
     },
     "execution_count": 19,
     "metadata": {},
     "output_type": "execute_result"
    }
   ],
   "source": [
    "data.head()"
   ]
  },
  {
   "cell_type": "markdown",
   "metadata": {},
   "source": [
    "## Subset to the genes currently in SGD"
   ]
  },
  {
   "cell_type": "code",
   "execution_count": 20,
   "metadata": {},
   "outputs": [
    {
     "name": "stdout",
     "output_type": "stream",
     "text": [
      "ORFs missing from SGD: 24\n"
     ]
    }
   ],
   "source": [
    "genes = pd.read_csv(path_to_genes, sep='\\t', index_col='id')\n",
    "genes = genes.reset_index().set_index('systematic_name')\n",
    "gene_ids = genes.reindex(index=data.index.values)['id'].values\n",
    "num_missing = np.sum(np.isnan(gene_ids))\n",
    "print('ORFs missing from SGD: %d' % num_missing)"
   ]
  },
  {
   "cell_type": "code",
   "execution_count": 21,
   "metadata": {},
   "outputs": [
    {
     "data": {
      "text/html": [
       "<div>\n",
       "<style scoped>\n",
       "    .dataframe tbody tr th:only-of-type {\n",
       "        vertical-align: middle;\n",
       "    }\n",
       "\n",
       "    .dataframe tbody tr th {\n",
       "        vertical-align: top;\n",
       "    }\n",
       "\n",
       "    .dataframe thead tr th {\n",
       "        text-align: left;\n",
       "    }\n",
       "\n",
       "    .dataframe thead tr:last-of-type th {\n",
       "        text-align: right;\n",
       "    }\n",
       "</style>\n",
       "<table border=\"1\" class=\"dataframe\">\n",
       "  <thead>\n",
       "    <tr>\n",
       "      <th></th>\n",
       "      <th>dataset_id</th>\n",
       "      <th>521</th>\n",
       "      <th>5257</th>\n",
       "      <th>522</th>\n",
       "      <th>5258</th>\n",
       "    </tr>\n",
       "    <tr>\n",
       "      <th></th>\n",
       "      <th>data_type</th>\n",
       "      <th>value</th>\n",
       "      <th>value</th>\n",
       "      <th>value</th>\n",
       "      <th>value</th>\n",
       "    </tr>\n",
       "    <tr>\n",
       "      <th>gene_id</th>\n",
       "      <th>orf</th>\n",
       "      <th></th>\n",
       "      <th></th>\n",
       "      <th></th>\n",
       "      <th></th>\n",
       "    </tr>\n",
       "  </thead>\n",
       "  <tbody>\n",
       "    <tr>\n",
       "      <th>1</th>\n",
       "      <th>YAL001C</th>\n",
       "      <td>1.006</td>\n",
       "      <td>NaN</td>\n",
       "      <td>1.007</td>\n",
       "      <td>NaN</td>\n",
       "    </tr>\n",
       "    <tr>\n",
       "      <th>2</th>\n",
       "      <th>YAL002W</th>\n",
       "      <td>0.941</td>\n",
       "      <td>0.983</td>\n",
       "      <td>1.013</td>\n",
       "      <td>0.837</td>\n",
       "    </tr>\n",
       "    <tr>\n",
       "      <th>3</th>\n",
       "      <th>YAL003W</th>\n",
       "      <td>1.014</td>\n",
       "      <td>NaN</td>\n",
       "      <td>0.987</td>\n",
       "      <td>NaN</td>\n",
       "    </tr>\n",
       "    <tr>\n",
       "      <th>1863</th>\n",
       "      <th>YAL004W</th>\n",
       "      <td>1.009</td>\n",
       "      <td>1.005</td>\n",
       "      <td>0.999</td>\n",
       "      <td>0.999</td>\n",
       "    </tr>\n",
       "    <tr>\n",
       "      <th>4</th>\n",
       "      <th>YAL005C</th>\n",
       "      <td>0.950</td>\n",
       "      <td>1.008</td>\n",
       "      <td>0.933</td>\n",
       "      <td>1.013</td>\n",
       "    </tr>\n",
       "  </tbody>\n",
       "</table>\n",
       "</div>"
      ],
      "text/plain": [
       "dataset_id        521    5257   522    5258\n",
       "data_type        value  value  value  value\n",
       "gene_id orf                                \n",
       "1       YAL001C  1.006    NaN  1.007    NaN\n",
       "2       YAL002W  0.941  0.983  1.013  0.837\n",
       "3       YAL003W  1.014    NaN  0.987    NaN\n",
       "1863    YAL004W  1.009  1.005  0.999  0.999\n",
       "4       YAL005C  0.950  1.008  0.933  1.013"
      ]
     },
     "execution_count": 21,
     "metadata": {},
     "output_type": "execute_result"
    }
   ],
   "source": [
    "data['gene_id'] = gene_ids\n",
    "data = data.loc[data['gene_id'].notnull()]\n",
    "data['gene_id'] = data['gene_id'].astype(int)\n",
    "data = data.reset_index().set_index(['gene_id','orf'])\n",
    "\n",
    "data.head()"
   ]
  },
  {
   "cell_type": "markdown",
   "metadata": {},
   "source": [
    "# Normalize"
   ]
  },
  {
   "cell_type": "code",
   "execution_count": 22,
   "metadata": {},
   "outputs": [],
   "source": [
    "data_norm = normalize_phenotypic_scores(data, has_tested=True)"
   ]
  },
  {
   "cell_type": "code",
   "execution_count": 23,
   "metadata": {},
   "outputs": [],
   "source": [
    "# Assign proper column names\n",
    "lst = [datasets.index.values, ['valuez']*datasets.shape[0]]\n",
    "tuples = list(zip(*lst))\n",
    "idx = pd.MultiIndex.from_tuples(tuples, names=['dataset_id','data_type'])\n",
    "data_norm.columns = idx"
   ]
  },
  {
   "cell_type": "code",
   "execution_count": 24,
   "metadata": {},
   "outputs": [
    {
     "data": {
      "text/html": [
       "<div>\n",
       "<style scoped>\n",
       "    .dataframe tbody tr th:only-of-type {\n",
       "        vertical-align: middle;\n",
       "    }\n",
       "\n",
       "    .dataframe tbody tr th {\n",
       "        vertical-align: top;\n",
       "    }\n",
       "\n",
       "    .dataframe thead tr th {\n",
       "        text-align: left;\n",
       "    }\n",
       "\n",
       "    .dataframe thead tr:last-of-type th {\n",
       "        text-align: right;\n",
       "    }\n",
       "</style>\n",
       "<table border=\"1\" class=\"dataframe\">\n",
       "  <thead>\n",
       "    <tr>\n",
       "      <th></th>\n",
       "      <th>dataset_id</th>\n",
       "      <th>521</th>\n",
       "      <th>5257</th>\n",
       "      <th>522</th>\n",
       "      <th>5258</th>\n",
       "      <th>521</th>\n",
       "      <th>5257</th>\n",
       "      <th>522</th>\n",
       "      <th>5258</th>\n",
       "    </tr>\n",
       "    <tr>\n",
       "      <th></th>\n",
       "      <th>data_type</th>\n",
       "      <th>value</th>\n",
       "      <th>value</th>\n",
       "      <th>value</th>\n",
       "      <th>value</th>\n",
       "      <th>valuez</th>\n",
       "      <th>valuez</th>\n",
       "      <th>valuez</th>\n",
       "      <th>valuez</th>\n",
       "    </tr>\n",
       "    <tr>\n",
       "      <th>gene_id</th>\n",
       "      <th>orf</th>\n",
       "      <th></th>\n",
       "      <th></th>\n",
       "      <th></th>\n",
       "      <th></th>\n",
       "      <th></th>\n",
       "      <th></th>\n",
       "      <th></th>\n",
       "      <th></th>\n",
       "    </tr>\n",
       "  </thead>\n",
       "  <tbody>\n",
       "    <tr>\n",
       "      <th>1</th>\n",
       "      <th>YAL001C</th>\n",
       "      <td>1.006</td>\n",
       "      <td>NaN</td>\n",
       "      <td>1.007</td>\n",
       "      <td>NaN</td>\n",
       "      <td>0.184571</td>\n",
       "      <td>NaN</td>\n",
       "      <td>0.205387</td>\n",
       "      <td>NaN</td>\n",
       "    </tr>\n",
       "    <tr>\n",
       "      <th>2</th>\n",
       "      <th>YAL002W</th>\n",
       "      <td>0.941</td>\n",
       "      <td>0.983</td>\n",
       "      <td>1.013</td>\n",
       "      <td>0.837</td>\n",
       "      <td>-2.853061</td>\n",
       "      <td>-0.435290</td>\n",
       "      <td>0.326418</td>\n",
       "      <td>-2.043128</td>\n",
       "    </tr>\n",
       "    <tr>\n",
       "      <th>3</th>\n",
       "      <th>YAL003W</th>\n",
       "      <td>1.014</td>\n",
       "      <td>NaN</td>\n",
       "      <td>0.987</td>\n",
       "      <td>NaN</td>\n",
       "      <td>0.558433</td>\n",
       "      <td>NaN</td>\n",
       "      <td>-0.198052</td>\n",
       "      <td>NaN</td>\n",
       "    </tr>\n",
       "    <tr>\n",
       "      <th>1863</th>\n",
       "      <th>YAL004W</th>\n",
       "      <td>1.009</td>\n",
       "      <td>1.005</td>\n",
       "      <td>0.999</td>\n",
       "      <td>0.999</td>\n",
       "      <td>0.324769</td>\n",
       "      <td>-0.092782</td>\n",
       "      <td>0.044011</td>\n",
       "      <td>-0.170796</td>\n",
       "    </tr>\n",
       "    <tr>\n",
       "      <th>4</th>\n",
       "      <th>YAL005C</th>\n",
       "      <td>0.950</td>\n",
       "      <td>1.008</td>\n",
       "      <td>0.933</td>\n",
       "      <td>1.013</td>\n",
       "      <td>-2.432466</td>\n",
       "      <td>-0.046077</td>\n",
       "      <td>-1.287336</td>\n",
       "      <td>-0.008989</td>\n",
       "    </tr>\n",
       "  </tbody>\n",
       "</table>\n",
       "</div>"
      ],
      "text/plain": [
       "dataset_id        521    5257   522    5258      521       5257      522   \\\n",
       "data_type        value  value  value  value    valuez    valuez    valuez   \n",
       "gene_id orf                                                                 \n",
       "1       YAL001C  1.006    NaN  1.007    NaN  0.184571       NaN  0.205387   \n",
       "2       YAL002W  0.941  0.983  1.013  0.837 -2.853061 -0.435290  0.326418   \n",
       "3       YAL003W  1.014    NaN  0.987    NaN  0.558433       NaN -0.198052   \n",
       "1863    YAL004W  1.009  1.005  0.999  0.999  0.324769 -0.092782  0.044011   \n",
       "4       YAL005C  0.950  1.008  0.933  1.013 -2.432466 -0.046077 -1.287336   \n",
       "\n",
       "dataset_id           5258  \n",
       "data_type          valuez  \n",
       "gene_id orf                \n",
       "1       YAL001C       NaN  \n",
       "2       YAL002W -2.043128  \n",
       "3       YAL003W       NaN  \n",
       "1863    YAL004W -0.170796  \n",
       "4       YAL005C -0.008989  "
      ]
     },
     "execution_count": 24,
     "metadata": {},
     "output_type": "execute_result"
    }
   ],
   "source": [
    "data_norm[data.isnull()] = np.nan\n",
    "data_all = data.join(data_norm)\n",
    "\n",
    "data_all.head()"
   ]
  },
  {
   "cell_type": "markdown",
   "metadata": {},
   "source": [
    "# Print out"
   ]
  },
  {
   "cell_type": "code",
   "execution_count": 25,
   "metadata": {},
   "outputs": [],
   "source": [
    "for f in ['value','valuez']:\n",
    "    df = data_all.xs(f, level='data_type', axis=1).copy()\n",
    "    df.columns = datasets['name'].values\n",
    "    df = df.droplevel('gene_id', axis=0)\n",
    "    df.to_csv(paper_name + '_' + f + '.txt', sep='\\t')"
   ]
  },
  {
   "cell_type": "markdown",
   "metadata": {},
   "source": [
    "# Save to DB"
   ]
  },
  {
   "cell_type": "code",
   "execution_count": 26,
   "metadata": {},
   "outputs": [],
   "source": [
    "from IO.save_data_to_db3 import *"
   ]
  },
  {
   "cell_type": "code",
   "execution_count": 27,
   "metadata": {},
   "outputs": [
    {
     "name": "stderr",
     "output_type": "stream",
     "text": [
      "  0%|          | 0/4 [00:00<?, ?it/s]"
     ]
    },
    {
     "name": "stdout",
     "output_type": "stream",
     "text": [
      "Deleting all datasets for PMID 15716499...\n",
      "Inserting the new data...\n"
     ]
    },
    {
     "name": "stderr",
     "output_type": "stream",
     "text": [
      "100%|██████████| 4/4 [00:36<00:00,  9.10s/it]"
     ]
    },
    {
     "name": "stdout",
     "output_type": "stream",
     "text": [
      "Updating the data_modified_on field...\n"
     ]
    },
    {
     "name": "stderr",
     "output_type": "stream",
     "text": [
      "\n"
     ]
    }
   ],
   "source": [
    "save_data_to_db(data_all, paper_pmid)"
   ]
  },
  {
   "cell_type": "code",
   "execution_count": null,
   "metadata": {},
   "outputs": [],
   "source": []
  }
 ],
 "metadata": {
  "kernelspec": {
   "display_name": "yp-data",
   "language": "python",
   "name": "yp-data"
  },
  "language_info": {
   "codemirror_mode": {
    "name": "ipython",
    "version": 3
   },
   "file_extension": ".py",
   "mimetype": "text/x-python",
   "name": "python",
   "nbconvert_exporter": "python",
   "pygments_lexer": "ipython3",
   "version": "3.7.7"
  }
 },
 "nbformat": 4,
 "nbformat_minor": 4
}
