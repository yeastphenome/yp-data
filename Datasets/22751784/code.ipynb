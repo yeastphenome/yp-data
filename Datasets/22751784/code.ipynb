{
 "cells": [
  {
   "cell_type": "code",
   "execution_count": 1,
   "metadata": {},
   "outputs": [],
   "source": [
    "%run ../yp_utils.py"
   ]
  },
  {
   "cell_type": "markdown",
   "metadata": {},
   "source": [
    "# Initial setup"
   ]
  },
  {
   "cell_type": "code",
   "execution_count": 2,
   "metadata": {},
   "outputs": [],
   "source": [
    "paper_pmid = 22751784\n",
    "paper_name = 'singh_babak_cowen_2012' "
   ]
  },
  {
   "cell_type": "code",
   "execution_count": 3,
   "metadata": {},
   "outputs": [],
   "source": [
    "datasets = pd.read_csv('extras/YeastPhenome_' + str(paper_pmid) + '_datasets_list.txt', sep='\\t', header=None, names=['dataset_id', 'name'])"
   ]
  },
  {
   "cell_type": "code",
   "execution_count": 4,
   "metadata": {},
   "outputs": [],
   "source": [
    "datasets.set_index('dataset_id', inplace=True)"
   ]
  },
  {
   "cell_type": "markdown",
   "metadata": {},
   "source": [
    "# Load & process the data"
   ]
  },
  {
   "cell_type": "code",
   "execution_count": 27,
   "metadata": {},
   "outputs": [],
   "source": [
    "original_data = pd.read_excel('raw_data/Singh-Babak2012_HIPHOPData.xlsx', sheet_name='Sheet1')"
   ]
  },
  {
   "cell_type": "code",
   "execution_count": 28,
   "metadata": {},
   "outputs": [
    {
     "name": "stdout",
     "output_type": "stream",
     "text": [
      "Original data dimensions: 5968 x 17\n"
     ]
    }
   ],
   "source": [
    "print('Original data dimensions: %d x %d' % (original_data.shape))"
   ]
  },
  {
   "cell_type": "code",
   "execution_count": 29,
   "metadata": {},
   "outputs": [
    {
     "data": {
      "text/html": [
       "<div>\n",
       "<style scoped>\n",
       "    .dataframe tbody tr th:only-of-type {\n",
       "        vertical-align: middle;\n",
       "    }\n",
       "\n",
       "    .dataframe tbody tr th {\n",
       "        vertical-align: top;\n",
       "    }\n",
       "\n",
       "    .dataframe thead th {\n",
       "        text-align: right;\n",
       "    }\n",
       "</style>\n",
       "<table border=\"1\" class=\"dataframe\">\n",
       "  <thead>\n",
       "    <tr style=\"text-align: right;\">\n",
       "      <th></th>\n",
       "      <th>strain</th>\n",
       "      <th>Gene</th>\n",
       "      <th>z_score:DMSO:2:%:YPD</th>\n",
       "      <th>ratio:DMSO:2:%:YPD</th>\n",
       "      <th>z_score:CsA:10uM:YPD</th>\n",
       "      <th>ratio:CsA10:uM:YPD</th>\n",
       "      <th>z_score:Micafungin:0.045ug/ml:YPD</th>\n",
       "      <th>ratio:Micafungin:0.045ug/ml:YPD</th>\n",
       "      <th>z_score:Micafungin:0.045ug/ml:CsA:10uM:YPD</th>\n",
       "      <th>ratio:Micafungin:0.045ug/ml:CsA:10uM:YPD</th>\n",
       "      <th>Description</th>\n",
       "      <th>feature_qualifier</th>\n",
       "      <th>GO_process</th>\n",
       "      <th>GO_function</th>\n",
       "      <th>GO_component</th>\n",
       "      <th>essential_gene</th>\n",
       "      <th>zygosity</th>\n",
       "    </tr>\n",
       "  </thead>\n",
       "  <tbody>\n",
       "    <tr>\n",
       "      <th>0</th>\n",
       "      <td>YDR064W::chr4_4</td>\n",
       "      <td>RPS13</td>\n",
       "      <td>3.29052</td>\n",
       "      <td>1.142170</td>\n",
       "      <td>4.84532</td>\n",
       "      <td>1.656130</td>\n",
       "      <td>-2.10947</td>\n",
       "      <td>-0.670230</td>\n",
       "      <td>0.964944</td>\n",
       "      <td>0.351430</td>\n",
       "      <td>Protein component of the small (40S) ribosomal...</td>\n",
       "      <td>Verified</td>\n",
       "      <td>translation</td>\n",
       "      <td>structural constituent of ribosome</td>\n",
       "      <td>cytosolic small ribosomal subunit (sensu Eukar...</td>\n",
       "      <td>yes</td>\n",
       "      <td>het</td>\n",
       "    </tr>\n",
       "    <tr>\n",
       "      <th>1</th>\n",
       "      <td>YDR230W::chr4_5</td>\n",
       "      <td>YDR230W</td>\n",
       "      <td>1.94163</td>\n",
       "      <td>0.409216</td>\n",
       "      <td>4.48081</td>\n",
       "      <td>0.883803</td>\n",
       "      <td>4.02308</td>\n",
       "      <td>0.779177</td>\n",
       "      <td>2.196150</td>\n",
       "      <td>0.428502</td>\n",
       "      <td>NaN</td>\n",
       "      <td>Dubious</td>\n",
       "      <td>NaN</td>\n",
       "      <td>NaN</td>\n",
       "      <td>NaN</td>\n",
       "      <td>no</td>\n",
       "      <td>hom</td>\n",
       "    </tr>\n",
       "    <tr>\n",
       "      <th>2</th>\n",
       "      <td>YBR069C::chr2_2</td>\n",
       "      <td>TAT1</td>\n",
       "      <td>3.27743</td>\n",
       "      <td>1.080310</td>\n",
       "      <td>4.46854</td>\n",
       "      <td>1.462520</td>\n",
       "      <td>2.44488</td>\n",
       "      <td>0.816327</td>\n",
       "      <td>4.093420</td>\n",
       "      <td>1.334230</td>\n",
       "      <td>Amino acid transport protein for valine, leuci...</td>\n",
       "      <td>Verified</td>\n",
       "      <td>amino acid transport</td>\n",
       "      <td>amino acid transporter activity</td>\n",
       "      <td>plasma membrane</td>\n",
       "      <td>no</td>\n",
       "      <td>hom</td>\n",
       "    </tr>\n",
       "    <tr>\n",
       "      <th>3</th>\n",
       "      <td>YOR330C::chr15_4</td>\n",
       "      <td>MIP1</td>\n",
       "      <td>3.29937</td>\n",
       "      <td>0.743917</td>\n",
       "      <td>4.15444</td>\n",
       "      <td>0.932741</td>\n",
       "      <td>2.75272</td>\n",
       "      <td>0.623232</td>\n",
       "      <td>-0.285326</td>\n",
       "      <td>-0.047535</td>\n",
       "      <td>Catalytic subunit of the mitochondrial DNA pol...</td>\n",
       "      <td>Verified</td>\n",
       "      <td>DNA-dependent DNA replication*</td>\n",
       "      <td>gamma DNA-directed DNA polymerase activity</td>\n",
       "      <td>mitochondrion</td>\n",
       "      <td>no</td>\n",
       "      <td>hom</td>\n",
       "    </tr>\n",
       "    <tr>\n",
       "      <th>4</th>\n",
       "      <td>YPL169C::chr16_2</td>\n",
       "      <td>MEX67</td>\n",
       "      <td>2.72995</td>\n",
       "      <td>0.679498</td>\n",
       "      <td>4.12155</td>\n",
       "      <td>1.015730</td>\n",
       "      <td>-0.19170</td>\n",
       "      <td>-0.027006</td>\n",
       "      <td>1.829730</td>\n",
       "      <td>0.461834</td>\n",
       "      <td>Poly(A)RNA binding protein involved in nuclear...</td>\n",
       "      <td>Verified</td>\n",
       "      <td>mRNA export from nucleus</td>\n",
       "      <td>protein binding*</td>\n",
       "      <td>cytoplasm*</td>\n",
       "      <td>yes</td>\n",
       "      <td>het</td>\n",
       "    </tr>\n",
       "  </tbody>\n",
       "</table>\n",
       "</div>"
      ],
      "text/plain": [
       "             strain     Gene  z_score:DMSO:2:%:YPD  ratio:DMSO:2:%:YPD  \\\n",
       "0   YDR064W::chr4_4    RPS13               3.29052            1.142170   \n",
       "1   YDR230W::chr4_5  YDR230W               1.94163            0.409216   \n",
       "2   YBR069C::chr2_2     TAT1               3.27743            1.080310   \n",
       "3  YOR330C::chr15_4     MIP1               3.29937            0.743917   \n",
       "4  YPL169C::chr16_2    MEX67               2.72995            0.679498   \n",
       "\n",
       "   z_score:CsA:10uM:YPD  ratio:CsA10:uM:YPD  \\\n",
       "0               4.84532            1.656130   \n",
       "1               4.48081            0.883803   \n",
       "2               4.46854            1.462520   \n",
       "3               4.15444            0.932741   \n",
       "4               4.12155            1.015730   \n",
       "\n",
       "   z_score:Micafungin:0.045ug/ml:YPD  ratio:Micafungin:0.045ug/ml:YPD  \\\n",
       "0                           -2.10947                        -0.670230   \n",
       "1                            4.02308                         0.779177   \n",
       "2                            2.44488                         0.816327   \n",
       "3                            2.75272                         0.623232   \n",
       "4                           -0.19170                        -0.027006   \n",
       "\n",
       "   z_score:Micafungin:0.045ug/ml:CsA:10uM:YPD  \\\n",
       "0                                    0.964944   \n",
       "1                                    2.196150   \n",
       "2                                    4.093420   \n",
       "3                                   -0.285326   \n",
       "4                                    1.829730   \n",
       "\n",
       "   ratio:Micafungin:0.045ug/ml:CsA:10uM:YPD  \\\n",
       "0                                  0.351430   \n",
       "1                                  0.428502   \n",
       "2                                  1.334230   \n",
       "3                                 -0.047535   \n",
       "4                                  0.461834   \n",
       "\n",
       "                                         Description feature_qualifier  \\\n",
       "0  Protein component of the small (40S) ribosomal...          Verified   \n",
       "1                                                NaN           Dubious   \n",
       "2  Amino acid transport protein for valine, leuci...          Verified   \n",
       "3  Catalytic subunit of the mitochondrial DNA pol...          Verified   \n",
       "4  Poly(A)RNA binding protein involved in nuclear...          Verified   \n",
       "\n",
       "                       GO_process                                 GO_function  \\\n",
       "0                     translation          structural constituent of ribosome   \n",
       "1                             NaN                                         NaN   \n",
       "2            amino acid transport             amino acid transporter activity   \n",
       "3  DNA-dependent DNA replication*  gamma DNA-directed DNA polymerase activity   \n",
       "4        mRNA export from nucleus                            protein binding*   \n",
       "\n",
       "                                        GO_component essential_gene zygosity  \n",
       "0  cytosolic small ribosomal subunit (sensu Eukar...            yes      het  \n",
       "1                                                NaN             no      hom  \n",
       "2                                    plasma membrane             no      hom  \n",
       "3                                      mitochondrion             no      hom  \n",
       "4                                         cytoplasm*            yes      het  "
      ]
     },
     "execution_count": 29,
     "metadata": {},
     "output_type": "execute_result"
    }
   ],
   "source": [
    "original_data.head()"
   ]
  },
  {
   "cell_type": "code",
   "execution_count": 30,
   "metadata": {},
   "outputs": [],
   "source": [
    "original_data1 = original_data.loc[original_data['zygosity'] == 'hom',:].copy()\n",
    "original_data2 = original_data.loc[original_data['zygosity'] == 'het',:].copy()\n",
    "\n",
    "original_data_list = [original_data1, original_data2]"
   ]
  },
  {
   "cell_type": "code",
   "execution_count": 32,
   "metadata": {},
   "outputs": [
    {
     "name": "stdout",
     "output_type": "stream",
     "text": [
      "Empty DataFrame\n",
      "Columns: [strain, Gene, z_score:DMSO:2:%:YPD, ratio:DMSO:2:%:YPD, z_score:CsA:10uM:YPD, ratio:CsA10:uM:YPD, z_score:Micafungin:0.045ug/ml:YPD, ratio:Micafungin:0.045ug/ml:YPD, z_score:Micafungin:0.045ug/ml:CsA:10uM:YPD, ratio:Micafungin:0.045ug/ml:CsA:10uM:YPD, Description, feature_qualifier, GO_process, GO_function, GO_component, essential_gene, zygosity, orf]\n",
      "Index: []\n",
      "Empty DataFrame\n",
      "Columns: [strain, Gene, z_score:DMSO:2:%:YPD, ratio:DMSO:2:%:YPD, z_score:CsA:10uM:YPD, ratio:CsA10:uM:YPD, z_score:Micafungin:0.045ug/ml:YPD, ratio:Micafungin:0.045ug/ml:YPD, z_score:Micafungin:0.045ug/ml:CsA:10uM:YPD, ratio:Micafungin:0.045ug/ml:CsA:10uM:YPD, Description, feature_qualifier, GO_process, GO_function, GO_component, essential_gene, zygosity, orf]\n",
      "Index: []\n"
     ]
    }
   ],
   "source": [
    "original_data_list2 = []\n",
    "for original_data in original_data_list:\n",
    "    original_data['orf'] = original_data['strain'].apply(lambda x: x.split(':')[0])\n",
    "    # Eliminate all white spaces & capitalize\n",
    "    original_data['orf'] = clean_orf(original_data['orf'])\n",
    "    # Translate to ORFs \n",
    "    original_data['orf'] = translate_sc(original_data['orf'].values, to='orf')\n",
    "    # Make sure everything translated ok\n",
    "    t = looks_like_orf(original_data['orf'])\n",
    "    print(original_data.loc[~t,])\n",
    "    original_data.set_index('orf', inplace=True)\n",
    "    data_cols = [c for c in original_data.columns.values if 'z_score' in c]\n",
    "    original_data = original_data[data_cols]\n",
    "    original_data = original_data.groupby(original_data.index).mean()\n",
    "    original_data = original_data.sub(original_data['z_score:DMSO:2:%:YPD'], axis=0)\n",
    "    original_data.drop(columns = ['z_score:DMSO:2:%:YPD'], inplace=True)\n",
    "    \n",
    "    original_data_list2.append(original_data)"
   ]
  },
  {
   "cell_type": "code",
   "execution_count": 33,
   "metadata": {},
   "outputs": [],
   "source": [
    "original_data = pd.concat(original_data_list2, axis=1)"
   ]
  },
  {
   "cell_type": "code",
   "execution_count": 36,
   "metadata": {},
   "outputs": [
    {
     "data": {
      "text/plain": [
       "(5854, 6)"
      ]
     },
     "execution_count": 36,
     "metadata": {},
     "output_type": "execute_result"
    }
   ],
   "source": [
    "original_data.shape"
   ]
  },
  {
   "cell_type": "code",
   "execution_count": 38,
   "metadata": {},
   "outputs": [],
   "source": [
    "original_data.index.name = 'orf'"
   ]
  },
  {
   "cell_type": "markdown",
   "metadata": {},
   "source": [
    "# Prepare the final dataset"
   ]
  },
  {
   "cell_type": "code",
   "execution_count": 39,
   "metadata": {},
   "outputs": [],
   "source": [
    "data = original_data.copy()"
   ]
  },
  {
   "cell_type": "code",
   "execution_count": 40,
   "metadata": {},
   "outputs": [],
   "source": [
    "dataset_ids = [5346, 5348, 5350, 5343, 5347, 5349]\n",
    "datasets = datasets.reindex(index=dataset_ids)"
   ]
  },
  {
   "cell_type": "code",
   "execution_count": 41,
   "metadata": {},
   "outputs": [],
   "source": [
    "lst = [datasets.index.values, ['value']*datasets.shape[0]]\n",
    "tuples = list(zip(*lst))\n",
    "idx = pd.MultiIndex.from_tuples(tuples, names=['dataset_id','data_type'])\n",
    "data.columns = idx"
   ]
  },
  {
   "cell_type": "code",
   "execution_count": 42,
   "metadata": {},
   "outputs": [
    {
     "data": {
      "text/html": [
       "<div>\n",
       "<style scoped>\n",
       "    .dataframe tbody tr th:only-of-type {\n",
       "        vertical-align: middle;\n",
       "    }\n",
       "\n",
       "    .dataframe tbody tr th {\n",
       "        vertical-align: top;\n",
       "    }\n",
       "\n",
       "    .dataframe thead tr th {\n",
       "        text-align: left;\n",
       "    }\n",
       "\n",
       "    .dataframe thead tr:last-of-type th {\n",
       "        text-align: right;\n",
       "    }\n",
       "</style>\n",
       "<table border=\"1\" class=\"dataframe\">\n",
       "  <thead>\n",
       "    <tr>\n",
       "      <th>dataset_id</th>\n",
       "      <th>5346</th>\n",
       "      <th>5348</th>\n",
       "      <th>5350</th>\n",
       "      <th>5343</th>\n",
       "      <th>5347</th>\n",
       "      <th>5349</th>\n",
       "    </tr>\n",
       "    <tr>\n",
       "      <th>data_type</th>\n",
       "      <th>value</th>\n",
       "      <th>value</th>\n",
       "      <th>value</th>\n",
       "      <th>value</th>\n",
       "      <th>value</th>\n",
       "      <th>value</th>\n",
       "    </tr>\n",
       "    <tr>\n",
       "      <th>orf</th>\n",
       "      <th></th>\n",
       "      <th></th>\n",
       "      <th></th>\n",
       "      <th></th>\n",
       "      <th></th>\n",
       "      <th></th>\n",
       "    </tr>\n",
       "  </thead>\n",
       "  <tbody>\n",
       "    <tr>\n",
       "      <th>YAL002W</th>\n",
       "      <td>0.341656</td>\n",
       "      <td>0.569368</td>\n",
       "      <td>0.533673</td>\n",
       "      <td>NaN</td>\n",
       "      <td>NaN</td>\n",
       "      <td>NaN</td>\n",
       "    </tr>\n",
       "    <tr>\n",
       "      <th>YAL004W</th>\n",
       "      <td>0.134467</td>\n",
       "      <td>0.526533</td>\n",
       "      <td>-0.141512</td>\n",
       "      <td>NaN</td>\n",
       "      <td>NaN</td>\n",
       "      <td>NaN</td>\n",
       "    </tr>\n",
       "    <tr>\n",
       "      <th>YAL005C</th>\n",
       "      <td>-1.091689</td>\n",
       "      <td>-1.428365</td>\n",
       "      <td>-1.611746</td>\n",
       "      <td>NaN</td>\n",
       "      <td>NaN</td>\n",
       "      <td>NaN</td>\n",
       "    </tr>\n",
       "    <tr>\n",
       "      <th>YAL007C</th>\n",
       "      <td>2.296222</td>\n",
       "      <td>2.180659</td>\n",
       "      <td>1.277347</td>\n",
       "      <td>NaN</td>\n",
       "      <td>NaN</td>\n",
       "      <td>NaN</td>\n",
       "    </tr>\n",
       "    <tr>\n",
       "      <th>YAL008W</th>\n",
       "      <td>0.427628</td>\n",
       "      <td>-0.436984</td>\n",
       "      <td>0.056136</td>\n",
       "      <td>NaN</td>\n",
       "      <td>NaN</td>\n",
       "      <td>NaN</td>\n",
       "    </tr>\n",
       "  </tbody>\n",
       "</table>\n",
       "</div>"
      ],
      "text/plain": [
       "dataset_id      5346      5348      5350  5343  5347  5349\n",
       "data_type      value     value     value value value value\n",
       "orf                                                       \n",
       "YAL002W     0.341656  0.569368  0.533673   NaN   NaN   NaN\n",
       "YAL004W     0.134467  0.526533 -0.141512   NaN   NaN   NaN\n",
       "YAL005C    -1.091689 -1.428365 -1.611746   NaN   NaN   NaN\n",
       "YAL007C     2.296222  2.180659  1.277347   NaN   NaN   NaN\n",
       "YAL008W     0.427628 -0.436984  0.056136   NaN   NaN   NaN"
      ]
     },
     "execution_count": 42,
     "metadata": {},
     "output_type": "execute_result"
    }
   ],
   "source": [
    "data.head()"
   ]
  },
  {
   "cell_type": "markdown",
   "metadata": {},
   "source": [
    "## Subset to the genes currently in SGD"
   ]
  },
  {
   "cell_type": "code",
   "execution_count": 43,
   "metadata": {},
   "outputs": [
    {
     "name": "stdout",
     "output_type": "stream",
     "text": [
      "ORFs missing from SGD: 24\n"
     ]
    }
   ],
   "source": [
    "genes = pd.read_csv(path_to_genes, sep='\\t', index_col='id')\n",
    "genes = genes.reset_index().set_index('systematic_name')\n",
    "gene_ids = genes.reindex(index=data.index.values)['id'].values\n",
    "num_missing = np.sum(np.isnan(gene_ids))\n",
    "print('ORFs missing from SGD: %d' % num_missing)"
   ]
  },
  {
   "cell_type": "code",
   "execution_count": 44,
   "metadata": {},
   "outputs": [
    {
     "data": {
      "text/html": [
       "<div>\n",
       "<style scoped>\n",
       "    .dataframe tbody tr th:only-of-type {\n",
       "        vertical-align: middle;\n",
       "    }\n",
       "\n",
       "    .dataframe tbody tr th {\n",
       "        vertical-align: top;\n",
       "    }\n",
       "\n",
       "    .dataframe thead tr th {\n",
       "        text-align: left;\n",
       "    }\n",
       "\n",
       "    .dataframe thead tr:last-of-type th {\n",
       "        text-align: right;\n",
       "    }\n",
       "</style>\n",
       "<table border=\"1\" class=\"dataframe\">\n",
       "  <thead>\n",
       "    <tr>\n",
       "      <th></th>\n",
       "      <th>dataset_id</th>\n",
       "      <th>5346</th>\n",
       "      <th>5348</th>\n",
       "      <th>5350</th>\n",
       "      <th>5343</th>\n",
       "      <th>5347</th>\n",
       "      <th>5349</th>\n",
       "    </tr>\n",
       "    <tr>\n",
       "      <th></th>\n",
       "      <th>data_type</th>\n",
       "      <th>value</th>\n",
       "      <th>value</th>\n",
       "      <th>value</th>\n",
       "      <th>value</th>\n",
       "      <th>value</th>\n",
       "      <th>value</th>\n",
       "    </tr>\n",
       "    <tr>\n",
       "      <th>gene_id</th>\n",
       "      <th>orf</th>\n",
       "      <th></th>\n",
       "      <th></th>\n",
       "      <th></th>\n",
       "      <th></th>\n",
       "      <th></th>\n",
       "      <th></th>\n",
       "    </tr>\n",
       "  </thead>\n",
       "  <tbody>\n",
       "    <tr>\n",
       "      <th>2</th>\n",
       "      <th>YAL002W</th>\n",
       "      <td>0.341656</td>\n",
       "      <td>0.569368</td>\n",
       "      <td>0.533673</td>\n",
       "      <td>NaN</td>\n",
       "      <td>NaN</td>\n",
       "      <td>NaN</td>\n",
       "    </tr>\n",
       "    <tr>\n",
       "      <th>1863</th>\n",
       "      <th>YAL004W</th>\n",
       "      <td>0.134467</td>\n",
       "      <td>0.526533</td>\n",
       "      <td>-0.141512</td>\n",
       "      <td>NaN</td>\n",
       "      <td>NaN</td>\n",
       "      <td>NaN</td>\n",
       "    </tr>\n",
       "    <tr>\n",
       "      <th>4</th>\n",
       "      <th>YAL005C</th>\n",
       "      <td>-1.091689</td>\n",
       "      <td>-1.428365</td>\n",
       "      <td>-1.611746</td>\n",
       "      <td>NaN</td>\n",
       "      <td>NaN</td>\n",
       "      <td>NaN</td>\n",
       "    </tr>\n",
       "    <tr>\n",
       "      <th>5</th>\n",
       "      <th>YAL007C</th>\n",
       "      <td>2.296222</td>\n",
       "      <td>2.180659</td>\n",
       "      <td>1.277347</td>\n",
       "      <td>NaN</td>\n",
       "      <td>NaN</td>\n",
       "      <td>NaN</td>\n",
       "    </tr>\n",
       "    <tr>\n",
       "      <th>6</th>\n",
       "      <th>YAL008W</th>\n",
       "      <td>0.427628</td>\n",
       "      <td>-0.436984</td>\n",
       "      <td>0.056136</td>\n",
       "      <td>NaN</td>\n",
       "      <td>NaN</td>\n",
       "      <td>NaN</td>\n",
       "    </tr>\n",
       "  </tbody>\n",
       "</table>\n",
       "</div>"
      ],
      "text/plain": [
       "dataset_id           5346      5348      5350  5343  5347  5349\n",
       "data_type           value     value     value value value value\n",
       "gene_id orf                                                    \n",
       "2       YAL002W  0.341656  0.569368  0.533673   NaN   NaN   NaN\n",
       "1863    YAL004W  0.134467  0.526533 -0.141512   NaN   NaN   NaN\n",
       "4       YAL005C -1.091689 -1.428365 -1.611746   NaN   NaN   NaN\n",
       "5       YAL007C  2.296222  2.180659  1.277347   NaN   NaN   NaN\n",
       "6       YAL008W  0.427628 -0.436984  0.056136   NaN   NaN   NaN"
      ]
     },
     "execution_count": 44,
     "metadata": {},
     "output_type": "execute_result"
    }
   ],
   "source": [
    "data['gene_id'] = gene_ids\n",
    "data = data.loc[data['gene_id'].notnull()]\n",
    "data['gene_id'] = data['gene_id'].astype(int)\n",
    "data = data.reset_index().set_index(['gene_id','orf'])\n",
    "\n",
    "data.head()"
   ]
  },
  {
   "cell_type": "markdown",
   "metadata": {},
   "source": [
    "# Normalize"
   ]
  },
  {
   "cell_type": "code",
   "execution_count": 45,
   "metadata": {},
   "outputs": [],
   "source": [
    "data_norm = normalize_phenotypic_scores(data, has_tested=True)"
   ]
  },
  {
   "cell_type": "code",
   "execution_count": 46,
   "metadata": {},
   "outputs": [],
   "source": [
    "# Assign proper column names\n",
    "lst = [datasets.index.values, ['valuez']*datasets.shape[0]]\n",
    "tuples = list(zip(*lst))\n",
    "idx = pd.MultiIndex.from_tuples(tuples, names=['dataset_id','data_type'])\n",
    "data_norm.columns = idx"
   ]
  },
  {
   "cell_type": "code",
   "execution_count": 47,
   "metadata": {},
   "outputs": [
    {
     "data": {
      "text/html": [
       "<div>\n",
       "<style scoped>\n",
       "    .dataframe tbody tr th:only-of-type {\n",
       "        vertical-align: middle;\n",
       "    }\n",
       "\n",
       "    .dataframe tbody tr th {\n",
       "        vertical-align: top;\n",
       "    }\n",
       "\n",
       "    .dataframe thead tr th {\n",
       "        text-align: left;\n",
       "    }\n",
       "\n",
       "    .dataframe thead tr:last-of-type th {\n",
       "        text-align: right;\n",
       "    }\n",
       "</style>\n",
       "<table border=\"1\" class=\"dataframe\">\n",
       "  <thead>\n",
       "    <tr>\n",
       "      <th></th>\n",
       "      <th>dataset_id</th>\n",
       "      <th>5346</th>\n",
       "      <th>5348</th>\n",
       "      <th>5350</th>\n",
       "      <th>5343</th>\n",
       "      <th>5347</th>\n",
       "      <th>5349</th>\n",
       "      <th>5346</th>\n",
       "      <th>5348</th>\n",
       "      <th>5350</th>\n",
       "      <th>5343</th>\n",
       "      <th>5347</th>\n",
       "      <th>5349</th>\n",
       "    </tr>\n",
       "    <tr>\n",
       "      <th></th>\n",
       "      <th>data_type</th>\n",
       "      <th>value</th>\n",
       "      <th>value</th>\n",
       "      <th>value</th>\n",
       "      <th>value</th>\n",
       "      <th>value</th>\n",
       "      <th>value</th>\n",
       "      <th>valuez</th>\n",
       "      <th>valuez</th>\n",
       "      <th>valuez</th>\n",
       "      <th>valuez</th>\n",
       "      <th>valuez</th>\n",
       "      <th>valuez</th>\n",
       "    </tr>\n",
       "    <tr>\n",
       "      <th>gene_id</th>\n",
       "      <th>orf</th>\n",
       "      <th></th>\n",
       "      <th></th>\n",
       "      <th></th>\n",
       "      <th></th>\n",
       "      <th></th>\n",
       "      <th></th>\n",
       "      <th></th>\n",
       "      <th></th>\n",
       "      <th></th>\n",
       "      <th></th>\n",
       "      <th></th>\n",
       "      <th></th>\n",
       "    </tr>\n",
       "  </thead>\n",
       "  <tbody>\n",
       "    <tr>\n",
       "      <th>2</th>\n",
       "      <th>YAL002W</th>\n",
       "      <td>0.341656</td>\n",
       "      <td>0.569368</td>\n",
       "      <td>0.533673</td>\n",
       "      <td>NaN</td>\n",
       "      <td>NaN</td>\n",
       "      <td>NaN</td>\n",
       "      <td>0.459459</td>\n",
       "      <td>0.520268</td>\n",
       "      <td>0.541617</td>\n",
       "      <td>NaN</td>\n",
       "      <td>NaN</td>\n",
       "      <td>NaN</td>\n",
       "    </tr>\n",
       "    <tr>\n",
       "      <th>1863</th>\n",
       "      <th>YAL004W</th>\n",
       "      <td>0.134467</td>\n",
       "      <td>0.526533</td>\n",
       "      <td>-0.141512</td>\n",
       "      <td>NaN</td>\n",
       "      <td>NaN</td>\n",
       "      <td>NaN</td>\n",
       "      <td>0.214484</td>\n",
       "      <td>0.492815</td>\n",
       "      <td>0.024688</td>\n",
       "      <td>NaN</td>\n",
       "      <td>NaN</td>\n",
       "      <td>NaN</td>\n",
       "    </tr>\n",
       "    <tr>\n",
       "      <th>4</th>\n",
       "      <th>YAL005C</th>\n",
       "      <td>-1.091689</td>\n",
       "      <td>-1.428365</td>\n",
       "      <td>-1.611746</td>\n",
       "      <td>NaN</td>\n",
       "      <td>NaN</td>\n",
       "      <td>NaN</td>\n",
       "      <td>-1.235288</td>\n",
       "      <td>-0.760073</td>\n",
       "      <td>-1.100940</td>\n",
       "      <td>NaN</td>\n",
       "      <td>NaN</td>\n",
       "      <td>NaN</td>\n",
       "    </tr>\n",
       "    <tr>\n",
       "      <th>5</th>\n",
       "      <th>YAL007C</th>\n",
       "      <td>2.296222</td>\n",
       "      <td>2.180659</td>\n",
       "      <td>1.277347</td>\n",
       "      <td>NaN</td>\n",
       "      <td>NaN</td>\n",
       "      <td>NaN</td>\n",
       "      <td>2.770482</td>\n",
       "      <td>1.552939</td>\n",
       "      <td>1.110981</td>\n",
       "      <td>NaN</td>\n",
       "      <td>NaN</td>\n",
       "      <td>NaN</td>\n",
       "    </tr>\n",
       "    <tr>\n",
       "      <th>6</th>\n",
       "      <th>YAL008W</th>\n",
       "      <td>0.427628</td>\n",
       "      <td>-0.436984</td>\n",
       "      <td>0.056136</td>\n",
       "      <td>NaN</td>\n",
       "      <td>NaN</td>\n",
       "      <td>NaN</td>\n",
       "      <td>0.561110</td>\n",
       "      <td>-0.124700</td>\n",
       "      <td>0.176009</td>\n",
       "      <td>NaN</td>\n",
       "      <td>NaN</td>\n",
       "      <td>NaN</td>\n",
       "    </tr>\n",
       "  </tbody>\n",
       "</table>\n",
       "</div>"
      ],
      "text/plain": [
       "dataset_id           5346      5348      5350  5343  5347  5349      5346  \\\n",
       "data_type           value     value     value value value value    valuez   \n",
       "gene_id orf                                                                 \n",
       "2       YAL002W  0.341656  0.569368  0.533673   NaN   NaN   NaN  0.459459   \n",
       "1863    YAL004W  0.134467  0.526533 -0.141512   NaN   NaN   NaN  0.214484   \n",
       "4       YAL005C -1.091689 -1.428365 -1.611746   NaN   NaN   NaN -1.235288   \n",
       "5       YAL007C  2.296222  2.180659  1.277347   NaN   NaN   NaN  2.770482   \n",
       "6       YAL008W  0.427628 -0.436984  0.056136   NaN   NaN   NaN  0.561110   \n",
       "\n",
       "dataset_id           5348      5350   5343   5347   5349  \n",
       "data_type          valuez    valuez valuez valuez valuez  \n",
       "gene_id orf                                               \n",
       "2       YAL002W  0.520268  0.541617    NaN    NaN    NaN  \n",
       "1863    YAL004W  0.492815  0.024688    NaN    NaN    NaN  \n",
       "4       YAL005C -0.760073 -1.100940    NaN    NaN    NaN  \n",
       "5       YAL007C  1.552939  1.110981    NaN    NaN    NaN  \n",
       "6       YAL008W -0.124700  0.176009    NaN    NaN    NaN  "
      ]
     },
     "execution_count": 47,
     "metadata": {},
     "output_type": "execute_result"
    }
   ],
   "source": [
    "data_norm[data.isnull()] = np.nan\n",
    "data_all = data.join(data_norm)\n",
    "\n",
    "data_all.head()"
   ]
  },
  {
   "cell_type": "markdown",
   "metadata": {},
   "source": [
    "# Print out"
   ]
  },
  {
   "cell_type": "code",
   "execution_count": 48,
   "metadata": {},
   "outputs": [],
   "source": [
    "for f in ['value','valuez']:\n",
    "    df = data_all.xs(f, level='data_type', axis=1).copy()\n",
    "    df.columns = datasets['name'].values\n",
    "    df = df.droplevel('gene_id', axis=0)\n",
    "    df.to_csv(paper_name + '_' + f + '.txt', sep='\\t')"
   ]
  },
  {
   "cell_type": "markdown",
   "metadata": {},
   "source": [
    "# Save to DB"
   ]
  },
  {
   "cell_type": "code",
   "execution_count": 49,
   "metadata": {},
   "outputs": [],
   "source": [
    "from IO.save_data_to_db3 import *"
   ]
  },
  {
   "cell_type": "code",
   "execution_count": 50,
   "metadata": {},
   "outputs": [
    {
     "name": "stderr",
     "output_type": "stream",
     "text": [
      "  0%|          | 0/6 [00:00<?, ?it/s]"
     ]
    },
    {
     "name": "stdout",
     "output_type": "stream",
     "text": [
      "Deleting all datasets for PMID 22751784...\n",
      "Inserting the new data...\n"
     ]
    },
    {
     "name": "stderr",
     "output_type": "stream",
     "text": [
      "100%|██████████| 6/6 [00:45<00:00,  7.65s/it]"
     ]
    },
    {
     "name": "stdout",
     "output_type": "stream",
     "text": [
      "Updating the data_modified_on field...\n"
     ]
    },
    {
     "name": "stderr",
     "output_type": "stream",
     "text": [
      "\n"
     ]
    }
   ],
   "source": [
    "save_data_to_db(data_all, paper_pmid)"
   ]
  },
  {
   "cell_type": "code",
   "execution_count": null,
   "metadata": {},
   "outputs": [],
   "source": []
  }
 ],
 "metadata": {
  "kernelspec": {
   "display_name": "yp-data",
   "language": "python",
   "name": "yp-data"
  },
  "language_info": {
   "codemirror_mode": {
    "name": "ipython",
    "version": 3
   },
   "file_extension": ".py",
   "mimetype": "text/x-python",
   "name": "python",
   "nbconvert_exporter": "python",
   "pygments_lexer": "ipython3",
   "version": "3.7.7"
  }
 },
 "nbformat": 4,
 "nbformat_minor": 4
}
