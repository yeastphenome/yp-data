{
 "cells": [
  {
   "cell_type": "code",
   "execution_count": 1,
   "metadata": {},
   "outputs": [],
   "source": [
    "%run ../../Utils/yp_utils.py"
   ]
  },
  {
   "cell_type": "markdown",
   "metadata": {},
   "source": [
    "# Initial setup"
   ]
  },
  {
   "cell_type": "code",
   "execution_count": 2,
   "metadata": {},
   "outputs": [],
   "source": [
    "paper_pmid = 33146608\n",
    "paper_name = 'kintaka_moriya_2020' "
   ]
  },
  {
   "cell_type": "code",
   "execution_count": 3,
   "metadata": {},
   "outputs": [],
   "source": [
    "datasets = pd.read_csv('extras/YeastPhenome_' + str(paper_pmid) + '_datasets_list.txt', sep='\\t', header=None, names=['dataset_id', 'name'])"
   ]
  },
  {
   "cell_type": "code",
   "execution_count": 4,
   "metadata": {},
   "outputs": [],
   "source": [
    "datasets.set_index('dataset_id', inplace=True)"
   ]
  },
  {
   "cell_type": "markdown",
   "metadata": {},
   "source": [
    "# Load & process the data"
   ]
  },
  {
   "cell_type": "code",
   "execution_count": 5,
   "metadata": {},
   "outputs": [],
   "source": [
    "sga_results_files = ['elife-54080-fig2-data1-v2.xlsx','Data_S3_tGFP_SGA_raw data.xlsx','Data_S4_NES-tGFP_SGA_raw data.xlsx']"
   ]
  },
  {
   "cell_type": "code",
   "execution_count": 6,
   "metadata": {},
   "outputs": [],
   "source": [
    "sheet_names = [['DMA U Rep1','DMA U Rep2'],['DMA LU Rep1','DMA LU Rep2']]\n",
    "original_data_list = []"
   ]
  },
  {
   "cell_type": "code",
   "execution_count": 7,
   "metadata": {},
   "outputs": [],
   "source": [
    "dataset_ids = [16674,16675,16681,16677,16682,16678,16683,16685,16684]"
   ]
  },
  {
   "cell_type": "code",
   "execution_count": 8,
   "metadata": {},
   "outputs": [
    {
     "name": "stdout",
     "output_type": "stream",
     "text": [
      "File elife-54080-fig2-data1-v2.xlsx\n",
      "Sheet DMA U Rep1\n",
      "Original data dimensions: 4322 x 11\n",
      "Sheet DMA U Rep2\n",
      "Original data dimensions: 4322 x 11\n",
      "Sheet DMA LU Rep1\n",
      "Original data dimensions: 4322 x 11\n",
      "Sheet DMA LU Rep2\n",
      "Original data dimensions: 4322 x 11\n",
      "File Data_S3_tGFP_SGA_raw data.xlsx\n",
      "Sheet DMA U Rep1\n",
      "Original data dimensions: 4322 x 11\n",
      "Sheet DMA U Rep2\n",
      "Original data dimensions: 4322 x 11\n",
      "Sheet DMA LU Rep1\n",
      "Original data dimensions: 4322 x 11\n",
      "Sheet DMA LU Rep2\n",
      "Original data dimensions: 4322 x 11\n",
      "File Data_S4_NES-tGFP_SGA_raw data.xlsx\n",
      "Sheet DMA U Rep1\n",
      "Original data dimensions: 4322 x 11\n",
      "Sheet DMA U Rep2\n",
      "Original data dimensions: 4322 x 11\n",
      "Sheet DMA LU Rep1\n",
      "Original data dimensions: 4322 x 11\n",
      "Sheet DMA LU Rep2\n",
      "Original data dimensions: 4322 x 11\n"
     ]
    }
   ],
   "source": [
    "num_dataset = 0\n",
    "for f in sga_results_files:\n",
    "    print('File %s' % f)\n",
    "    for sheet_names_this in sheet_names:\n",
    "        this_data = pd.DataFrame()\n",
    "        for s in sheet_names_this:\n",
    "            print('Sheet %s' % s)\n",
    "            t = pd.read_excel('raw_data/' + f, sheet_name=s)\n",
    "            print('Original data dimensions: %d x %d' % (t.shape))\n",
    "            t = t[['Array ORF','Score']]\n",
    "            t['Score'] = t['Score'].astype(float)\n",
    "            this_data = pd.concat((this_data, t), axis=0)\n",
    "        this_data.columns = ['orf', dataset_ids[num_dataset]]\n",
    "        num_dataset += 1\n",
    "        original_data_list.append(this_data)"
   ]
  },
  {
   "cell_type": "code",
   "execution_count": 9,
   "metadata": {},
   "outputs": [],
   "source": [
    "gfp_expression_file = 'elife-54080-fig4-data1-v2.xlsx'\n",
    "sheet_names = ['GFPunit (GFP)','GFPunit(NES-tGFP)','GFPunit(tGFP)']"
   ]
  },
  {
   "cell_type": "code",
   "execution_count": 10,
   "metadata": {},
   "outputs": [
    {
     "name": "stdout",
     "output_type": "stream",
     "text": [
      "Original data dimensions: 4989 x 11\n",
      "Original data dimensions: 5095 x 11\n",
      "Original data dimensions: 5095 x 11\n"
     ]
    }
   ],
   "source": [
    "for s in sheet_names:\n",
    "    t = pd.read_excel('raw_data/' + gfp_expression_file, sheet_name=s)\n",
    "    print('Original data dimensions: %d x %d' % (t.shape))\n",
    "    t = t.loc[t['array name']=='DMA']\n",
    "    t = t[['ORF','GFPunit_Average']]\n",
    "    t['GFPunit_Average'] = t['GFPunit_Average'].astype(float)\n",
    "    t.columns = ['orf', dataset_ids[num_dataset]]\n",
    "    num_dataset += 1\n",
    "    original_data_list.append(t)"
   ]
  },
  {
   "cell_type": "code",
   "execution_count": 11,
   "metadata": {},
   "outputs": [
    {
     "data": {
      "text/plain": [
       "9"
      ]
     },
     "execution_count": 11,
     "metadata": {},
     "output_type": "execute_result"
    }
   ],
   "source": [
    "len(original_data_list)"
   ]
  },
  {
   "cell_type": "code",
   "execution_count": 12,
   "metadata": {},
   "outputs": [
    {
     "name": "stdout",
     "output_type": "stream",
     "text": [
      "Empty DataFrame\n",
      "Columns: [orf, 16674]\n",
      "Index: []\n",
      "Empty DataFrame\n",
      "Columns: [orf, 16675]\n",
      "Index: []\n",
      "Empty DataFrame\n",
      "Columns: [orf, 16681]\n",
      "Index: []\n",
      "Empty DataFrame\n",
      "Columns: [orf, 16677]\n",
      "Index: []\n",
      "Empty DataFrame\n",
      "Columns: [orf, 16682]\n",
      "Index: []\n",
      "Empty DataFrame\n",
      "Columns: [orf, 16678]\n",
      "Index: []\n",
      "Empty DataFrame\n",
      "Columns: [orf, 16683]\n",
      "Index: []\n",
      "Empty DataFrame\n",
      "Columns: [orf, 16685]\n",
      "Index: []\n",
      "Empty DataFrame\n",
      "Columns: [orf, 16684]\n",
      "Index: []\n"
     ]
    }
   ],
   "source": [
    "data_list = []\n",
    "for df in original_data_list:\n",
    "    df['orf'] = df['orf'].astype(str)\n",
    "    df['orf'] = clean_orf(df['orf'])\n",
    "    df = df.groupby('orf').mean().reset_index()\n",
    "    df['orf'] = translate_sc(df['orf'], to='orf')\n",
    "    t = looks_like_orf(df['orf'])\n",
    "    print(df.loc[~t,])\n",
    "    df = df.groupby('orf').mean()\n",
    "    data_list.append(df)"
   ]
  },
  {
   "cell_type": "code",
   "execution_count": 13,
   "metadata": {},
   "outputs": [],
   "source": [
    "data = pd.concat(data_list, axis=1, join='outer')"
   ]
  },
  {
   "cell_type": "code",
   "execution_count": 14,
   "metadata": {},
   "outputs": [
    {
     "data": {
      "text/plain": [
       "(4268, 9)"
      ]
     },
     "execution_count": 14,
     "metadata": {},
     "output_type": "execute_result"
    }
   ],
   "source": [
    "data.shape"
   ]
  },
  {
   "cell_type": "code",
   "execution_count": 15,
   "metadata": {},
   "outputs": [],
   "source": [
    "data.index.name='orf'"
   ]
  },
  {
   "cell_type": "markdown",
   "metadata": {},
   "source": [
    "# Prepare the final dataset"
   ]
  },
  {
   "cell_type": "code",
   "execution_count": 16,
   "metadata": {},
   "outputs": [],
   "source": [
    "datasets = datasets.reindex(index=dataset_ids)"
   ]
  },
  {
   "cell_type": "code",
   "execution_count": 17,
   "metadata": {},
   "outputs": [],
   "source": [
    "lst = [datasets.index.values, ['value']*datasets.shape[0]]\n",
    "tuples = list(zip(*lst))\n",
    "idx = pd.MultiIndex.from_tuples(tuples, names=['dataset_id','data_type'])\n",
    "data.columns = idx"
   ]
  },
  {
   "cell_type": "code",
   "execution_count": 18,
   "metadata": {},
   "outputs": [
    {
     "data": {
      "text/html": [
       "<div>\n",
       "<style scoped>\n",
       "    .dataframe tbody tr th:only-of-type {\n",
       "        vertical-align: middle;\n",
       "    }\n",
       "\n",
       "    .dataframe tbody tr th {\n",
       "        vertical-align: top;\n",
       "    }\n",
       "\n",
       "    .dataframe thead tr th {\n",
       "        text-align: left;\n",
       "    }\n",
       "\n",
       "    .dataframe thead tr:last-of-type th {\n",
       "        text-align: right;\n",
       "    }\n",
       "</style>\n",
       "<table border=\"1\" class=\"dataframe\">\n",
       "  <thead>\n",
       "    <tr>\n",
       "      <th>dataset_id</th>\n",
       "      <th>16674</th>\n",
       "      <th>16675</th>\n",
       "      <th>16681</th>\n",
       "      <th>16677</th>\n",
       "      <th>16682</th>\n",
       "      <th>16678</th>\n",
       "      <th>16683</th>\n",
       "      <th>16685</th>\n",
       "      <th>16684</th>\n",
       "    </tr>\n",
       "    <tr>\n",
       "      <th>data_type</th>\n",
       "      <th>value</th>\n",
       "      <th>value</th>\n",
       "      <th>value</th>\n",
       "      <th>value</th>\n",
       "      <th>value</th>\n",
       "      <th>value</th>\n",
       "      <th>value</th>\n",
       "      <th>value</th>\n",
       "      <th>value</th>\n",
       "    </tr>\n",
       "    <tr>\n",
       "      <th>orf</th>\n",
       "      <th></th>\n",
       "      <th></th>\n",
       "      <th></th>\n",
       "      <th></th>\n",
       "      <th></th>\n",
       "      <th></th>\n",
       "      <th></th>\n",
       "      <th></th>\n",
       "      <th></th>\n",
       "    </tr>\n",
       "  </thead>\n",
       "  <tbody>\n",
       "    <tr>\n",
       "      <th>YAL002W</th>\n",
       "      <td>-0.158555</td>\n",
       "      <td>-0.445345</td>\n",
       "      <td>-0.107395</td>\n",
       "      <td>-0.180620</td>\n",
       "      <td>-0.070805</td>\n",
       "      <td>-0.222020</td>\n",
       "      <td>0.765489</td>\n",
       "      <td>0.85</td>\n",
       "      <td>0.80</td>\n",
       "    </tr>\n",
       "    <tr>\n",
       "      <th>YAL004W</th>\n",
       "      <td>0.040180</td>\n",
       "      <td>-0.074145</td>\n",
       "      <td>-0.059960</td>\n",
       "      <td>-0.125135</td>\n",
       "      <td>0.018800</td>\n",
       "      <td>-0.087520</td>\n",
       "      <td>1.049857</td>\n",
       "      <td>0.85</td>\n",
       "      <td>1.05</td>\n",
       "    </tr>\n",
       "    <tr>\n",
       "      <th>YAL005C</th>\n",
       "      <td>0.020125</td>\n",
       "      <td>0.001315</td>\n",
       "      <td>0.006005</td>\n",
       "      <td>-0.016695</td>\n",
       "      <td>-0.017935</td>\n",
       "      <td>-0.079770</td>\n",
       "      <td>1.086268</td>\n",
       "      <td>0.95</td>\n",
       "      <td>1.00</td>\n",
       "    </tr>\n",
       "    <tr>\n",
       "      <th>YAL007C</th>\n",
       "      <td>-0.080920</td>\n",
       "      <td>-0.015805</td>\n",
       "      <td>-0.075265</td>\n",
       "      <td>0.005355</td>\n",
       "      <td>-0.032655</td>\n",
       "      <td>-0.003115</td>\n",
       "      <td>1.169982</td>\n",
       "      <td>1.15</td>\n",
       "      <td>1.10</td>\n",
       "    </tr>\n",
       "    <tr>\n",
       "      <th>YAL008W</th>\n",
       "      <td>-0.027970</td>\n",
       "      <td>0.026235</td>\n",
       "      <td>0.004385</td>\n",
       "      <td>0.033825</td>\n",
       "      <td>0.056235</td>\n",
       "      <td>0.018810</td>\n",
       "      <td>1.206636</td>\n",
       "      <td>1.60</td>\n",
       "      <td>1.30</td>\n",
       "    </tr>\n",
       "  </tbody>\n",
       "</table>\n",
       "</div>"
      ],
      "text/plain": [
       "dataset_id     16674     16675     16681     16677     16682     16678  \\\n",
       "data_type      value     value     value     value     value     value   \n",
       "orf                                                                      \n",
       "YAL002W    -0.158555 -0.445345 -0.107395 -0.180620 -0.070805 -0.222020   \n",
       "YAL004W     0.040180 -0.074145 -0.059960 -0.125135  0.018800 -0.087520   \n",
       "YAL005C     0.020125  0.001315  0.006005 -0.016695 -0.017935 -0.079770   \n",
       "YAL007C    -0.080920 -0.015805 -0.075265  0.005355 -0.032655 -0.003115   \n",
       "YAL008W    -0.027970  0.026235  0.004385  0.033825  0.056235  0.018810   \n",
       "\n",
       "dataset_id     16683 16685 16684  \n",
       "data_type      value value value  \n",
       "orf                               \n",
       "YAL002W     0.765489  0.85  0.80  \n",
       "YAL004W     1.049857  0.85  1.05  \n",
       "YAL005C     1.086268  0.95  1.00  \n",
       "YAL007C     1.169982  1.15  1.10  \n",
       "YAL008W     1.206636  1.60  1.30  "
      ]
     },
     "execution_count": 18,
     "metadata": {},
     "output_type": "execute_result"
    }
   ],
   "source": [
    "data.head()"
   ]
  },
  {
   "cell_type": "markdown",
   "metadata": {},
   "source": [
    "## Subset to the genes currently in SGD"
   ]
  },
  {
   "cell_type": "code",
   "execution_count": 19,
   "metadata": {},
   "outputs": [
    {
     "name": "stdout",
     "output_type": "stream",
     "text": [
      "ORFs missing from SGD: 22\n"
     ]
    }
   ],
   "source": [
    "genes = pd.read_csv(path_to_genes, sep='\\t', index_col='id')\n",
    "genes = genes.reset_index().set_index('systematic_name')\n",
    "gene_ids = genes.reindex(index=data.index.values)['id'].values\n",
    "num_missing = np.sum(np.isnan(gene_ids))\n",
    "print('ORFs missing from SGD: %d' % num_missing)"
   ]
  },
  {
   "cell_type": "code",
   "execution_count": 20,
   "metadata": {},
   "outputs": [],
   "source": [
    "data['gene_id'] = gene_ids\n",
    "data = data.loc[data['gene_id'].notnull()]\n",
    "data['gene_id'] = data['gene_id'].astype(int)\n",
    "data = data.reset_index().set_index(['gene_id','orf'])"
   ]
  },
  {
   "cell_type": "code",
   "execution_count": 21,
   "metadata": {},
   "outputs": [
    {
     "data": {
      "text/html": [
       "<div>\n",
       "<style scoped>\n",
       "    .dataframe tbody tr th:only-of-type {\n",
       "        vertical-align: middle;\n",
       "    }\n",
       "\n",
       "    .dataframe tbody tr th {\n",
       "        vertical-align: top;\n",
       "    }\n",
       "\n",
       "    .dataframe thead tr th {\n",
       "        text-align: left;\n",
       "    }\n",
       "\n",
       "    .dataframe thead tr:last-of-type th {\n",
       "        text-align: right;\n",
       "    }\n",
       "</style>\n",
       "<table border=\"1\" class=\"dataframe\">\n",
       "  <thead>\n",
       "    <tr>\n",
       "      <th></th>\n",
       "      <th>dataset_id</th>\n",
       "      <th>16674</th>\n",
       "      <th>16675</th>\n",
       "      <th>16681</th>\n",
       "      <th>16677</th>\n",
       "      <th>16682</th>\n",
       "      <th>16678</th>\n",
       "      <th>16683</th>\n",
       "      <th>16685</th>\n",
       "      <th>16684</th>\n",
       "    </tr>\n",
       "    <tr>\n",
       "      <th></th>\n",
       "      <th>data_type</th>\n",
       "      <th>value</th>\n",
       "      <th>value</th>\n",
       "      <th>value</th>\n",
       "      <th>value</th>\n",
       "      <th>value</th>\n",
       "      <th>value</th>\n",
       "      <th>value</th>\n",
       "      <th>value</th>\n",
       "      <th>value</th>\n",
       "    </tr>\n",
       "    <tr>\n",
       "      <th>gene_id</th>\n",
       "      <th>orf</th>\n",
       "      <th></th>\n",
       "      <th></th>\n",
       "      <th></th>\n",
       "      <th></th>\n",
       "      <th></th>\n",
       "      <th></th>\n",
       "      <th></th>\n",
       "      <th></th>\n",
       "      <th></th>\n",
       "    </tr>\n",
       "  </thead>\n",
       "  <tbody>\n",
       "    <tr>\n",
       "      <th>2</th>\n",
       "      <th>YAL002W</th>\n",
       "      <td>-0.158555</td>\n",
       "      <td>-0.445345</td>\n",
       "      <td>-0.107395</td>\n",
       "      <td>-0.180620</td>\n",
       "      <td>-0.070805</td>\n",
       "      <td>-0.222020</td>\n",
       "      <td>0.765489</td>\n",
       "      <td>0.85</td>\n",
       "      <td>0.80</td>\n",
       "    </tr>\n",
       "    <tr>\n",
       "      <th>1863</th>\n",
       "      <th>YAL004W</th>\n",
       "      <td>0.040180</td>\n",
       "      <td>-0.074145</td>\n",
       "      <td>-0.059960</td>\n",
       "      <td>-0.125135</td>\n",
       "      <td>0.018800</td>\n",
       "      <td>-0.087520</td>\n",
       "      <td>1.049857</td>\n",
       "      <td>0.85</td>\n",
       "      <td>1.05</td>\n",
       "    </tr>\n",
       "    <tr>\n",
       "      <th>4</th>\n",
       "      <th>YAL005C</th>\n",
       "      <td>0.020125</td>\n",
       "      <td>0.001315</td>\n",
       "      <td>0.006005</td>\n",
       "      <td>-0.016695</td>\n",
       "      <td>-0.017935</td>\n",
       "      <td>-0.079770</td>\n",
       "      <td>1.086268</td>\n",
       "      <td>0.95</td>\n",
       "      <td>1.00</td>\n",
       "    </tr>\n",
       "    <tr>\n",
       "      <th>5</th>\n",
       "      <th>YAL007C</th>\n",
       "      <td>-0.080920</td>\n",
       "      <td>-0.015805</td>\n",
       "      <td>-0.075265</td>\n",
       "      <td>0.005355</td>\n",
       "      <td>-0.032655</td>\n",
       "      <td>-0.003115</td>\n",
       "      <td>1.169982</td>\n",
       "      <td>1.15</td>\n",
       "      <td>1.10</td>\n",
       "    </tr>\n",
       "    <tr>\n",
       "      <th>6</th>\n",
       "      <th>YAL008W</th>\n",
       "      <td>-0.027970</td>\n",
       "      <td>0.026235</td>\n",
       "      <td>0.004385</td>\n",
       "      <td>0.033825</td>\n",
       "      <td>0.056235</td>\n",
       "      <td>0.018810</td>\n",
       "      <td>1.206636</td>\n",
       "      <td>1.60</td>\n",
       "      <td>1.30</td>\n",
       "    </tr>\n",
       "  </tbody>\n",
       "</table>\n",
       "</div>"
      ],
      "text/plain": [
       "dataset_id          16674     16675     16681     16677     16682     16678  \\\n",
       "data_type           value     value     value     value     value     value   \n",
       "gene_id orf                                                                   \n",
       "2       YAL002W -0.158555 -0.445345 -0.107395 -0.180620 -0.070805 -0.222020   \n",
       "1863    YAL004W  0.040180 -0.074145 -0.059960 -0.125135  0.018800 -0.087520   \n",
       "4       YAL005C  0.020125  0.001315  0.006005 -0.016695 -0.017935 -0.079770   \n",
       "5       YAL007C -0.080920 -0.015805 -0.075265  0.005355 -0.032655 -0.003115   \n",
       "6       YAL008W -0.027970  0.026235  0.004385  0.033825  0.056235  0.018810   \n",
       "\n",
       "dataset_id          16683 16685 16684  \n",
       "data_type           value value value  \n",
       "gene_id orf                            \n",
       "2       YAL002W  0.765489  0.85  0.80  \n",
       "1863    YAL004W  1.049857  0.85  1.05  \n",
       "4       YAL005C  1.086268  0.95  1.00  \n",
       "5       YAL007C  1.169982  1.15  1.10  \n",
       "6       YAL008W  1.206636  1.60  1.30  "
      ]
     },
     "execution_count": 21,
     "metadata": {},
     "output_type": "execute_result"
    }
   ],
   "source": [
    "data.head()"
   ]
  },
  {
   "cell_type": "markdown",
   "metadata": {},
   "source": [
    "# Normalize"
   ]
  },
  {
   "cell_type": "code",
   "execution_count": 22,
   "metadata": {},
   "outputs": [],
   "source": [
    "data_norm = normalize_phenotypic_scores(data, has_tested=True)"
   ]
  },
  {
   "cell_type": "code",
   "execution_count": 23,
   "metadata": {},
   "outputs": [],
   "source": [
    "# Assign proper column names\n",
    "lst = [datasets.index.values, ['valuez']*datasets.shape[0]]\n",
    "tuples = list(zip(*lst))\n",
    "idx = pd.MultiIndex.from_tuples(tuples, names=['dataset_id','data_type'])\n",
    "data_norm.columns = idx"
   ]
  },
  {
   "cell_type": "code",
   "execution_count": 24,
   "metadata": {},
   "outputs": [],
   "source": [
    "data_norm[data.isnull()] = np.nan"
   ]
  },
  {
   "cell_type": "code",
   "execution_count": 25,
   "metadata": {},
   "outputs": [],
   "source": [
    "data_all = data.join(data_norm)"
   ]
  },
  {
   "cell_type": "code",
   "execution_count": 26,
   "metadata": {},
   "outputs": [
    {
     "data": {
      "text/html": [
       "<div>\n",
       "<style scoped>\n",
       "    .dataframe tbody tr th:only-of-type {\n",
       "        vertical-align: middle;\n",
       "    }\n",
       "\n",
       "    .dataframe tbody tr th {\n",
       "        vertical-align: top;\n",
       "    }\n",
       "\n",
       "    .dataframe thead tr th {\n",
       "        text-align: left;\n",
       "    }\n",
       "\n",
       "    .dataframe thead tr:last-of-type th {\n",
       "        text-align: right;\n",
       "    }\n",
       "</style>\n",
       "<table border=\"1\" class=\"dataframe\">\n",
       "  <thead>\n",
       "    <tr>\n",
       "      <th></th>\n",
       "      <th>dataset_id</th>\n",
       "      <th>16674</th>\n",
       "      <th>16675</th>\n",
       "      <th>16681</th>\n",
       "      <th>16677</th>\n",
       "      <th>16682</th>\n",
       "      <th>16678</th>\n",
       "      <th>16683</th>\n",
       "      <th>16685</th>\n",
       "      <th>16684</th>\n",
       "      <th>16674</th>\n",
       "      <th>16675</th>\n",
       "      <th>16681</th>\n",
       "      <th>16677</th>\n",
       "      <th>16682</th>\n",
       "      <th>16678</th>\n",
       "      <th>16683</th>\n",
       "      <th>16685</th>\n",
       "      <th>16684</th>\n",
       "    </tr>\n",
       "    <tr>\n",
       "      <th></th>\n",
       "      <th>data_type</th>\n",
       "      <th>value</th>\n",
       "      <th>value</th>\n",
       "      <th>value</th>\n",
       "      <th>value</th>\n",
       "      <th>value</th>\n",
       "      <th>value</th>\n",
       "      <th>value</th>\n",
       "      <th>value</th>\n",
       "      <th>value</th>\n",
       "      <th>valuez</th>\n",
       "      <th>valuez</th>\n",
       "      <th>valuez</th>\n",
       "      <th>valuez</th>\n",
       "      <th>valuez</th>\n",
       "      <th>valuez</th>\n",
       "      <th>valuez</th>\n",
       "      <th>valuez</th>\n",
       "      <th>valuez</th>\n",
       "    </tr>\n",
       "    <tr>\n",
       "      <th>gene_id</th>\n",
       "      <th>orf</th>\n",
       "      <th></th>\n",
       "      <th></th>\n",
       "      <th></th>\n",
       "      <th></th>\n",
       "      <th></th>\n",
       "      <th></th>\n",
       "      <th></th>\n",
       "      <th></th>\n",
       "      <th></th>\n",
       "      <th></th>\n",
       "      <th></th>\n",
       "      <th></th>\n",
       "      <th></th>\n",
       "      <th></th>\n",
       "      <th></th>\n",
       "      <th></th>\n",
       "      <th></th>\n",
       "      <th></th>\n",
       "    </tr>\n",
       "  </thead>\n",
       "  <tbody>\n",
       "    <tr>\n",
       "      <th>2</th>\n",
       "      <th>YAL002W</th>\n",
       "      <td>-0.158555</td>\n",
       "      <td>-0.445345</td>\n",
       "      <td>-0.107395</td>\n",
       "      <td>-0.180620</td>\n",
       "      <td>-0.070805</td>\n",
       "      <td>-0.222020</td>\n",
       "      <td>0.765489</td>\n",
       "      <td>0.85</td>\n",
       "      <td>0.80</td>\n",
       "      <td>-2.400198</td>\n",
       "      <td>-5.249360</td>\n",
       "      <td>-1.943343</td>\n",
       "      <td>-2.755363</td>\n",
       "      <td>-1.082138</td>\n",
       "      <td>-2.691196</td>\n",
       "      <td>-1.779535</td>\n",
       "      <td>-0.902991</td>\n",
       "      <td>-1.231421</td>\n",
       "    </tr>\n",
       "    <tr>\n",
       "      <th>1863</th>\n",
       "      <th>YAL004W</th>\n",
       "      <td>0.040180</td>\n",
       "      <td>-0.074145</td>\n",
       "      <td>-0.059960</td>\n",
       "      <td>-0.125135</td>\n",
       "      <td>0.018800</td>\n",
       "      <td>-0.087520</td>\n",
       "      <td>1.049857</td>\n",
       "      <td>0.85</td>\n",
       "      <td>1.05</td>\n",
       "      <td>0.620518</td>\n",
       "      <td>-0.785642</td>\n",
       "      <td>-1.056426</td>\n",
       "      <td>-1.917299</td>\n",
       "      <td>0.315063</td>\n",
       "      <td>-1.013373</td>\n",
       "      <td>-0.024446</td>\n",
       "      <td>-0.902991</td>\n",
       "      <td>-0.144873</td>\n",
       "    </tr>\n",
       "    <tr>\n",
       "      <th>4</th>\n",
       "      <th>YAL005C</th>\n",
       "      <td>0.020125</td>\n",
       "      <td>0.001315</td>\n",
       "      <td>0.006005</td>\n",
       "      <td>-0.016695</td>\n",
       "      <td>-0.017935</td>\n",
       "      <td>-0.079770</td>\n",
       "      <td>1.086268</td>\n",
       "      <td>0.95</td>\n",
       "      <td>1.00</td>\n",
       "      <td>0.315687</td>\n",
       "      <td>0.121772</td>\n",
       "      <td>0.176955</td>\n",
       "      <td>-0.279385</td>\n",
       "      <td>-0.257742</td>\n",
       "      <td>-0.916696</td>\n",
       "      <td>0.200276</td>\n",
       "      <td>-0.520138</td>\n",
       "      <td>-0.362183</td>\n",
       "    </tr>\n",
       "    <tr>\n",
       "      <th>5</th>\n",
       "      <th>YAL007C</th>\n",
       "      <td>-0.080920</td>\n",
       "      <td>-0.015805</td>\n",
       "      <td>-0.075265</td>\n",
       "      <td>0.005355</td>\n",
       "      <td>-0.032655</td>\n",
       "      <td>-0.003115</td>\n",
       "      <td>1.169982</td>\n",
       "      <td>1.15</td>\n",
       "      <td>1.10</td>\n",
       "      <td>-1.220168</td>\n",
       "      <td>-0.084097</td>\n",
       "      <td>-1.342592</td>\n",
       "      <td>0.053666</td>\n",
       "      <td>-0.487269</td>\n",
       "      <td>0.039539</td>\n",
       "      <td>0.716948</td>\n",
       "      <td>0.245567</td>\n",
       "      <td>0.072437</td>\n",
       "    </tr>\n",
       "    <tr>\n",
       "      <th>6</th>\n",
       "      <th>YAL008W</th>\n",
       "      <td>-0.027970</td>\n",
       "      <td>0.026235</td>\n",
       "      <td>0.004385</td>\n",
       "      <td>0.033825</td>\n",
       "      <td>0.056235</td>\n",
       "      <td>0.018810</td>\n",
       "      <td>1.206636</td>\n",
       "      <td>1.60</td>\n",
       "      <td>1.30</td>\n",
       "      <td>-0.415343</td>\n",
       "      <td>0.421438</td>\n",
       "      <td>0.146665</td>\n",
       "      <td>0.483687</td>\n",
       "      <td>0.898783</td>\n",
       "      <td>0.313042</td>\n",
       "      <td>0.943175</td>\n",
       "      <td>1.968403</td>\n",
       "      <td>0.941675</td>\n",
       "    </tr>\n",
       "  </tbody>\n",
       "</table>\n",
       "</div>"
      ],
      "text/plain": [
       "dataset_id          16674     16675     16681     16677     16682     16678  \\\n",
       "data_type           value     value     value     value     value     value   \n",
       "gene_id orf                                                                   \n",
       "2       YAL002W -0.158555 -0.445345 -0.107395 -0.180620 -0.070805 -0.222020   \n",
       "1863    YAL004W  0.040180 -0.074145 -0.059960 -0.125135  0.018800 -0.087520   \n",
       "4       YAL005C  0.020125  0.001315  0.006005 -0.016695 -0.017935 -0.079770   \n",
       "5       YAL007C -0.080920 -0.015805 -0.075265  0.005355 -0.032655 -0.003115   \n",
       "6       YAL008W -0.027970  0.026235  0.004385  0.033825  0.056235  0.018810   \n",
       "\n",
       "dataset_id          16683 16685 16684     16674     16675     16681     16677  \\\n",
       "data_type           value value value    valuez    valuez    valuez    valuez   \n",
       "gene_id orf                                                                     \n",
       "2       YAL002W  0.765489  0.85  0.80 -2.400198 -5.249360 -1.943343 -2.755363   \n",
       "1863    YAL004W  1.049857  0.85  1.05  0.620518 -0.785642 -1.056426 -1.917299   \n",
       "4       YAL005C  1.086268  0.95  1.00  0.315687  0.121772  0.176955 -0.279385   \n",
       "5       YAL007C  1.169982  1.15  1.10 -1.220168 -0.084097 -1.342592  0.053666   \n",
       "6       YAL008W  1.206636  1.60  1.30 -0.415343  0.421438  0.146665  0.483687   \n",
       "\n",
       "dataset_id          16682     16678     16683     16685     16684  \n",
       "data_type          valuez    valuez    valuez    valuez    valuez  \n",
       "gene_id orf                                                        \n",
       "2       YAL002W -1.082138 -2.691196 -1.779535 -0.902991 -1.231421  \n",
       "1863    YAL004W  0.315063 -1.013373 -0.024446 -0.902991 -0.144873  \n",
       "4       YAL005C -0.257742 -0.916696  0.200276 -0.520138 -0.362183  \n",
       "5       YAL007C -0.487269  0.039539  0.716948  0.245567  0.072437  \n",
       "6       YAL008W  0.898783  0.313042  0.943175  1.968403  0.941675  "
      ]
     },
     "execution_count": 26,
     "metadata": {},
     "output_type": "execute_result"
    }
   ],
   "source": [
    "data_all.head()\n"
   ]
  },
  {
   "cell_type": "markdown",
   "metadata": {},
   "source": [
    "# Print out"
   ]
  },
  {
   "cell_type": "code",
   "execution_count": 27,
   "metadata": {},
   "outputs": [],
   "source": [
    "for f in ['value','valuez']:\n",
    "    df = data_all.xs(f, level='data_type', axis=1).copy()\n",
    "    df.columns = datasets['name'].values\n",
    "    df = df.droplevel('gene_id', axis=0)\n",
    "    df.to_csv(paper_name + '_' + f + '.txt', sep='\\t')"
   ]
  },
  {
   "cell_type": "markdown",
   "metadata": {},
   "source": [
    "# Save to DB"
   ]
  },
  {
   "cell_type": "code",
   "execution_count": 28,
   "metadata": {},
   "outputs": [],
   "source": [
    "from IO.save_data_to_db3 import *"
   ]
  },
  {
   "cell_type": "code",
   "execution_count": 29,
   "metadata": {},
   "outputs": [
    {
     "name": "stderr",
     "output_type": "stream",
     "text": [
      "  0%|          | 0/9 [00:00<?, ?it/s]"
     ]
    },
    {
     "name": "stdout",
     "output_type": "stream",
     "text": [
      "Deleting all datasets for PMID 33146608...\n",
      "Inserting the new data...\n"
     ]
    },
    {
     "name": "stderr",
     "output_type": "stream",
     "text": [
      "100%|██████████| 9/9 [00:56<00:00,  6.24s/it]"
     ]
    },
    {
     "name": "stdout",
     "output_type": "stream",
     "text": [
      "Updating the data_modified_on field...\n"
     ]
    },
    {
     "name": "stderr",
     "output_type": "stream",
     "text": [
      "\n"
     ]
    }
   ],
   "source": [
    "save_data_to_db(data_all, paper_pmid)"
   ]
  },
  {
   "cell_type": "code",
   "execution_count": null,
   "metadata": {},
   "outputs": [],
   "source": []
  }
 ],
 "metadata": {
  "kernelspec": {
   "display_name": "yp-data",
   "language": "python",
   "name": "yp-data"
  },
  "language_info": {
   "codemirror_mode": {
    "name": "ipython",
    "version": 3
   },
   "file_extension": ".py",
   "mimetype": "text/x-python",
   "name": "python",
   "nbconvert_exporter": "python",
   "pygments_lexer": "ipython3",
   "version": "3.7.7"
  }
 },
 "nbformat": 4,
 "nbformat_minor": 4
}
