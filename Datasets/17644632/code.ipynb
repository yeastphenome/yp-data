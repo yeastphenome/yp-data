{
 "cells": [
  {
   "cell_type": "code",
   "execution_count": 1,
   "metadata": {},
   "outputs": [],
   "source": [
    "%run ../yp_utils.py"
   ]
  },
  {
   "cell_type": "markdown",
   "metadata": {},
   "source": [
    "# Initial setup"
   ]
  },
  {
   "cell_type": "code",
   "execution_count": 2,
   "metadata": {},
   "outputs": [],
   "source": [
    "paper_pmid = 17644632\n",
    "paper_name = 'cheng_bakalinsky_2007' "
   ]
  },
  {
   "cell_type": "code",
   "execution_count": 3,
   "metadata": {},
   "outputs": [],
   "source": [
    "datasets = pd.read_csv('extras/YeastPhenome_' + str(paper_pmid) + '_datasets_list.txt', sep='\\t', header=None, names=['dataset_id', 'name'])"
   ]
  },
  {
   "cell_type": "code",
   "execution_count": 4,
   "metadata": {},
   "outputs": [],
   "source": [
    "datasets.set_index('dataset_id', inplace=True)"
   ]
  },
  {
   "cell_type": "markdown",
   "metadata": {},
   "source": [
    "# Load & process the data"
   ]
  },
  {
   "cell_type": "code",
   "execution_count": 8,
   "metadata": {},
   "outputs": [],
   "source": [
    "original_data = pd.read_excel('raw_data/Supplementary_Table_1.xlsx', sheet_name='Table 1', skiprows=1)"
   ]
  },
  {
   "cell_type": "code",
   "execution_count": 9,
   "metadata": {},
   "outputs": [
    {
     "name": "stdout",
     "output_type": "stream",
     "text": [
      "Original data dimensions: 250 x 17\n"
     ]
    }
   ],
   "source": [
    "print('Original data dimensions: %d x %d' % (original_data.shape))"
   ]
  },
  {
   "cell_type": "code",
   "execution_count": 10,
   "metadata": {},
   "outputs": [
    {
     "data": {
      "text/html": [
       "<div>\n",
       "<style scoped>\n",
       "    .dataframe tbody tr th:only-of-type {\n",
       "        vertical-align: middle;\n",
       "    }\n",
       "\n",
       "    .dataframe tbody tr th {\n",
       "        vertical-align: top;\n",
       "    }\n",
       "\n",
       "    .dataframe thead th {\n",
       "        text-align: right;\n",
       "    }\n",
       "</style>\n",
       "<table border=\"1\" class=\"dataframe\">\n",
       "  <thead>\n",
       "    <tr style=\"text-align: right;\">\n",
       "      <th></th>\n",
       "      <th>Gene1</th>\n",
       "      <th>Yeast ORF</th>\n",
       "      <th>Minimum inhibitory concentration (mM)2\\nOxalate     Malonate     Formate    Acetate     Propionate</th>\n",
       "      <th>Unnamed: 3</th>\n",
       "      <th>Unnamed: 4</th>\n",
       "      <th>Unnamed: 5</th>\n",
       "      <th>Unnamed: 6</th>\n",
       "      <th>Unnamed: 7</th>\n",
       "      <th>S/C3</th>\n",
       "      <th>Function</th>\n",
       "      <th>Unnamed: 10</th>\n",
       "      <th>Unnamed: 11</th>\n",
       "      <th>Arabidopsis\\nAccession4        E-value5</th>\n",
       "      <th>Unnamed: 13</th>\n",
       "      <th>Unnamed: 14</th>\n",
       "      <th>Sclerotinia\\nAccession4         E-value5</th>\n",
       "      <th>Unnamed: 16</th>\n",
       "    </tr>\n",
       "  </thead>\n",
       "  <tbody>\n",
       "    <tr>\n",
       "      <th>0</th>\n",
       "      <td>Transport:</td>\n",
       "      <td>NaN</td>\n",
       "      <td>NaN</td>\n",
       "      <td>NaN</td>\n",
       "      <td>NaN</td>\n",
       "      <td>NaN</td>\n",
       "      <td>NaN</td>\n",
       "      <td>NaN</td>\n",
       "      <td>NaN</td>\n",
       "      <td>NaN</td>\n",
       "      <td>NaN</td>\n",
       "      <td>NaN</td>\n",
       "      <td>NaN</td>\n",
       "      <td>NaN</td>\n",
       "      <td>NaN</td>\n",
       "      <td>NaN</td>\n",
       "      <td>NaN</td>\n",
       "    </tr>\n",
       "    <tr>\n",
       "      <th>1</th>\n",
       "      <td>ARL1</td>\n",
       "      <td>YBR164C</td>\n",
       "      <td>10.0</td>\n",
       "      <td>105.0</td>\n",
       "      <td>10.0</td>\n",
       "      <td>30.0</td>\n",
       "      <td>20.0</td>\n",
       "      <td>NaN</td>\n",
       "      <td>n/n</td>\n",
       "      <td>Soluble GTPase with role in membrane traffic</td>\n",
       "      <td>NaN</td>\n",
       "      <td>NaN</td>\n",
       "      <td>At2g24765</td>\n",
       "      <td>NaN</td>\n",
       "      <td>4.000000e-54</td>\n",
       "      <td>SS1G01065.1</td>\n",
       "      <td>1.00E-36</td>\n",
       "    </tr>\n",
       "    <tr>\n",
       "      <th>2</th>\n",
       "      <td>ARP5</td>\n",
       "      <td>YNL059C</td>\n",
       "      <td>10.0</td>\n",
       "      <td>105.0</td>\n",
       "      <td>10.0</td>\n",
       "      <td>30.0</td>\n",
       "      <td>20.0</td>\n",
       "      <td>NaN</td>\n",
       "      <td>n/n</td>\n",
       "      <td>Actin-related protein involved in chromatin re...</td>\n",
       "      <td>NaN</td>\n",
       "      <td>NaN</td>\n",
       "      <td>At3g12380</td>\n",
       "      <td>NaN</td>\n",
       "      <td>2.000000e-70</td>\n",
       "      <td>SS1G13066.1</td>\n",
       "      <td>E-129</td>\n",
       "    </tr>\n",
       "    <tr>\n",
       "      <th>3</th>\n",
       "      <td>BAP3</td>\n",
       "      <td>YDR046C</td>\n",
       "      <td>10.0</td>\n",
       "      <td>105.0</td>\n",
       "      <td>10.0</td>\n",
       "      <td>40.0</td>\n",
       "      <td>20.0</td>\n",
       "      <td>NaN</td>\n",
       "      <td>n/n</td>\n",
       "      <td>Amino acid transporter</td>\n",
       "      <td>NaN</td>\n",
       "      <td>NaN</td>\n",
       "      <td>NaN</td>\n",
       "      <td>NaN</td>\n",
       "      <td>NaN</td>\n",
       "      <td>SS1G10461.1</td>\n",
       "      <td>3.00E-99</td>\n",
       "    </tr>\n",
       "    <tr>\n",
       "      <th>4</th>\n",
       "      <td>CCS1</td>\n",
       "      <td>YMR038C</td>\n",
       "      <td>10.0</td>\n",
       "      <td>105.0</td>\n",
       "      <td>10.0</td>\n",
       "      <td>30.0</td>\n",
       "      <td>20.0</td>\n",
       "      <td>NaN</td>\n",
       "      <td>n/n</td>\n",
       "      <td>SOD copper chaperone</td>\n",
       "      <td>NaN</td>\n",
       "      <td>NaN</td>\n",
       "      <td>At1g12520</td>\n",
       "      <td>NaN</td>\n",
       "      <td>8.000000e-20</td>\n",
       "      <td>SS1G00102.1</td>\n",
       "      <td>6.00E-32</td>\n",
       "    </tr>\n",
       "  </tbody>\n",
       "</table>\n",
       "</div>"
      ],
      "text/plain": [
       "        Gene1 Yeast ORF  \\\n",
       "0  Transport:       NaN   \n",
       "1        ARL1   YBR164C   \n",
       "2        ARP5   YNL059C   \n",
       "3        BAP3   YDR046C   \n",
       "4        CCS1   YMR038C   \n",
       "\n",
       "   Minimum inhibitory concentration (mM)2\\nOxalate     Malonate     Formate    Acetate     Propionate  \\\n",
       "0                                                NaN                                                    \n",
       "1                                               10.0                                                    \n",
       "2                                               10.0                                                    \n",
       "3                                               10.0                                                    \n",
       "4                                               10.0                                                    \n",
       "\n",
       "   Unnamed: 3  Unnamed: 4  Unnamed: 5  Unnamed: 6 Unnamed: 7 S/C3  \\\n",
       "0         NaN         NaN         NaN         NaN        NaN  NaN   \n",
       "1       105.0        10.0        30.0        20.0        NaN  n/n   \n",
       "2       105.0        10.0        30.0        20.0        NaN  n/n   \n",
       "3       105.0        10.0        40.0        20.0        NaN  n/n   \n",
       "4       105.0        10.0        30.0        20.0        NaN  n/n   \n",
       "\n",
       "                                            Function Unnamed: 10 Unnamed: 11  \\\n",
       "0                                                NaN         NaN         NaN   \n",
       "1       Soluble GTPase with role in membrane traffic         NaN         NaN   \n",
       "2  Actin-related protein involved in chromatin re...         NaN         NaN   \n",
       "3                             Amino acid transporter         NaN         NaN   \n",
       "4                               SOD copper chaperone         NaN         NaN   \n",
       "\n",
       "  Arabidopsis\\nAccession4        E-value5 Unnamed: 13   Unnamed: 14  \\\n",
       "0                                     NaN         NaN           NaN   \n",
       "1                               At2g24765         NaN  4.000000e-54   \n",
       "2                               At3g12380         NaN  2.000000e-70   \n",
       "3                                     NaN         NaN           NaN   \n",
       "4                               At1g12520         NaN  8.000000e-20   \n",
       "\n",
       "  Sclerotinia\\nAccession4         E-value5 Unnamed: 16  \n",
       "0                                      NaN         NaN  \n",
       "1                              SS1G01065.1    1.00E-36  \n",
       "2                              SS1G13066.1       E-129  \n",
       "3                              SS1G10461.1    3.00E-99  \n",
       "4                              SS1G00102.1    6.00E-32  "
      ]
     },
     "execution_count": 10,
     "metadata": {},
     "output_type": "execute_result"
    }
   ],
   "source": [
    "original_data.head()"
   ]
  },
  {
   "cell_type": "code",
   "execution_count": 11,
   "metadata": {},
   "outputs": [],
   "source": [
    "original_data['orf'] = original_data['Yeast ORF'].astype(str)"
   ]
  },
  {
   "cell_type": "code",
   "execution_count": 12,
   "metadata": {},
   "outputs": [],
   "source": [
    "# Eliminate all white spaces & capitalize\n",
    "original_data['orf'] = clean_orf(original_data['orf'])"
   ]
  },
  {
   "cell_type": "code",
   "execution_count": 13,
   "metadata": {},
   "outputs": [],
   "source": [
    "# Translate to ORFs \n",
    "original_data['orf'] = translate_sc(original_data['orf'], to='orf')"
   ]
  },
  {
   "cell_type": "code",
   "execution_count": 14,
   "metadata": {},
   "outputs": [
    {
     "name": "stdout",
     "output_type": "stream",
     "text": [
      "                                                         Gene1 Yeast ORF  \\\n",
      "index_input                                                                \n",
      "0                                                   Transport:       NaN   \n",
      "37                      Organelle organization and biogenesis:       NaN   \n",
      "62                                 Vesicle-mediated transport:       NaN   \n",
      "79                                             RNA metabolism:       NaN   \n",
      "93                                                 Cell cycle:       NaN   \n",
      "105                                            DNA metabolism:       NaN   \n",
      "116                                             Transcription:       NaN   \n",
      "126                                      Protein modification:       NaN   \n",
      "136                                      Protein biosynthesis:       NaN   \n",
      "137          ANP1        YEL036C               15          ...       NaN   \n",
      "145                                          Cell homeostasis:       NaN   \n",
      "153          VMA8        YEL051W               5           ...       NaN   \n",
      "154                      Membrane organization and biogenesis:       NaN   \n",
      "162                  Cytoskeleton organization and biogenesis:       NaN   \n",
      "169                      Amino acid and derivative metabolism:       NaN   \n",
      "175                                                   Meiosis:       NaN   \n",
      "180                                       Signal transduction:       NaN   \n",
      "185                                        Protein catabolism:       NaN   \n",
      "190                                          Lipid metabolism:       NaN   \n",
      "195                                        Response to stress:       NaN   \n",
      "200          Generation of precursor metabolites and energy...       NaN   \n",
      "204                     Cell wall organization and biogenesis:       NaN   \n",
      "208                          Ribosome biogenesis and assembly:       NaN   \n",
      "212                                              Cell budding:       NaN   \n",
      "215                               Cytokinesis & morphogenesis:       NaN   \n",
      "217                                               Sporulation:       NaN   \n",
      "218          YVH1        YIR026C               10          ...       NaN   \n",
      "219                                               Conjugation:       NaN   \n",
      "220          MOT2        YER068W              5           1...       NaN   \n",
      "221                                        Vitamin metabolism:       NaN   \n",
      "227                                Biological process unknown:       NaN   \n",
      "243          Entries in bold font are the subset of 28 gene...       NaN   \n",
      "244          1Genes are listed alphabetically within biolog...       NaN   \n",
      "245          2Minimum concentration of acid which caused po...       NaN   \n",
      "246          3Oxalate mutants isolated (y) or not (n) in pr...       NaN   \n",
      "247          and citrate-sensitive mutants (400 mM, pH 3.5:...       NaN   \n",
      "248                     4Locus in Arabidopsis and Sclerotinia.       NaN   \n",
      "249          5E-value for Arabidopsis and Sclerotinia ortho...       NaN   \n",
      "\n",
      "             Minimum inhibitory concentration (mM)2\\nOxalate     Malonate     Formate    Acetate     Propionate  \\\n",
      "index_input                                                                                                       \n",
      "0                                                          NaN                                                    \n",
      "37                                                         NaN                                                    \n",
      "62                                                         NaN                                                    \n",
      "79                                                         NaN                                                    \n",
      "93                                                         NaN                                                    \n",
      "105                                                        NaN                                                    \n",
      "116                                                        NaN                                                    \n",
      "126                                                        NaN                                                    \n",
      "136                                                        NaN                                                    \n",
      "137                                                        NaN                                                    \n",
      "145                                                        NaN                                                    \n",
      "153                                                        NaN                                                    \n",
      "154                                                        NaN                                                    \n",
      "162                                                        NaN                                                    \n",
      "169                                                        NaN                                                    \n",
      "175                                                        NaN                                                    \n",
      "180                                                        NaN                                                    \n",
      "185                                                        NaN                                                    \n",
      "190                                                        NaN                                                    \n",
      "195                                                        NaN                                                    \n",
      "200                                                        NaN                                                    \n",
      "204                                                        NaN                                                    \n",
      "208                                                        NaN                                                    \n",
      "212                                                        NaN                                                    \n",
      "215                                                        NaN                                                    \n",
      "217                                                        NaN                                                    \n",
      "218                                                        NaN                                                    \n",
      "219                                                        NaN                                                    \n",
      "220                                                        NaN                                                    \n",
      "221                                                        NaN                                                    \n",
      "227                                                        NaN                                                    \n",
      "243                                                        NaN                                                    \n",
      "244                                                        NaN                                                    \n",
      "245                                                        NaN                                                    \n",
      "246                                                        NaN                                                    \n",
      "247                                                        NaN                                                    \n",
      "248                                                        NaN                                                    \n",
      "249                                                        NaN                                                    \n",
      "\n",
      "             Unnamed: 3  Unnamed: 4  Unnamed: 5  Unnamed: 6 Unnamed: 7 S/C3  \\\n",
      "index_input                                                                   \n",
      "0                   NaN         NaN         NaN         NaN        NaN  NaN   \n",
      "37                  NaN         NaN         NaN         NaN        NaN  NaN   \n",
      "62                  NaN         NaN         NaN         NaN        NaN  NaN   \n",
      "79                  NaN         NaN         NaN         NaN        NaN  NaN   \n",
      "93                  NaN         NaN         NaN         NaN        NaN  NaN   \n",
      "105                 NaN         NaN         NaN         NaN        NaN  NaN   \n",
      "116                 NaN         NaN         NaN         NaN        NaN  NaN   \n",
      "126                 NaN         NaN         NaN         NaN        NaN  NaN   \n",
      "136                 NaN         NaN         NaN         NaN        NaN  NaN   \n",
      "137                 NaN         NaN         NaN         NaN        NaN  NaN   \n",
      "145                 NaN         NaN         NaN         NaN        NaN  NaN   \n",
      "153                 NaN         NaN         NaN         NaN        NaN  NaN   \n",
      "154                 NaN         NaN         NaN         NaN        NaN  NaN   \n",
      "162                 NaN         NaN         NaN         NaN        NaN  NaN   \n",
      "169                 NaN         NaN         NaN         NaN        NaN  NaN   \n",
      "175                 NaN         NaN         NaN         NaN        NaN  NaN   \n",
      "180                 NaN         NaN         NaN         NaN        NaN  NaN   \n",
      "185                 NaN         NaN         NaN         NaN        NaN  NaN   \n",
      "190                 NaN         NaN         NaN         NaN        NaN  NaN   \n",
      "195                 NaN         NaN         NaN         NaN        NaN  NaN   \n",
      "200                 NaN         NaN         NaN         NaN        NaN  NaN   \n",
      "204                 NaN         NaN         NaN         NaN        NaN  NaN   \n",
      "208                 NaN         NaN         NaN         NaN        NaN  NaN   \n",
      "212                 NaN         NaN         NaN         NaN        NaN  NaN   \n",
      "215                 NaN         NaN         NaN         NaN        NaN  NaN   \n",
      "217                 NaN         NaN         NaN         NaN        NaN  NaN   \n",
      "218                 NaN         NaN         NaN         NaN        NaN  NaN   \n",
      "219                 NaN         NaN         NaN         NaN        NaN  NaN   \n",
      "220                 NaN         NaN         NaN         NaN        NaN  NaN   \n",
      "221                 NaN         NaN         NaN         NaN        NaN  NaN   \n",
      "227                 NaN         NaN         NaN         NaN        NaN  NaN   \n",
      "243                 NaN         NaN         NaN         NaN        NaN  NaN   \n",
      "244                 NaN         NaN         NaN         NaN        NaN  NaN   \n",
      "245                 NaN         NaN         NaN         NaN        NaN  NaN   \n",
      "246                 NaN         NaN         NaN         NaN        NaN  NaN   \n",
      "247                 NaN         NaN         NaN         NaN        NaN  NaN   \n",
      "248                 NaN         NaN         NaN         NaN        NaN  NaN   \n",
      "249                 NaN         NaN         NaN         NaN        NaN  NaN   \n",
      "\n",
      "            Function Unnamed: 10 Unnamed: 11  \\\n",
      "index_input                                    \n",
      "0                NaN         NaN         NaN   \n",
      "37               NaN         NaN         NaN   \n",
      "62               NaN         NaN         NaN   \n",
      "79               NaN         NaN         NaN   \n",
      "93               NaN         NaN         NaN   \n",
      "105              NaN         NaN         NaN   \n",
      "116              NaN         NaN         NaN   \n",
      "126              NaN         NaN         NaN   \n",
      "136              NaN         NaN         NaN   \n",
      "137              NaN         NaN         NaN   \n",
      "145              NaN         NaN         NaN   \n",
      "153              NaN         NaN         NaN   \n",
      "154              NaN         NaN         NaN   \n",
      "162              NaN         NaN         NaN   \n",
      "169              NaN         NaN         NaN   \n",
      "175              NaN         NaN         NaN   \n",
      "180              NaN         NaN         NaN   \n",
      "185              NaN         NaN         NaN   \n",
      "190              NaN         NaN         NaN   \n",
      "195              NaN         NaN         NaN   \n",
      "200              NaN         NaN         NaN   \n",
      "204              NaN         NaN         NaN   \n",
      "208              NaN         NaN         NaN   \n",
      "212              NaN         NaN         NaN   \n",
      "215              NaN         NaN         NaN   \n",
      "217              NaN         NaN         NaN   \n",
      "218              NaN         NaN         NaN   \n",
      "219              NaN         NaN         NaN   \n",
      "220              NaN         NaN         NaN   \n",
      "221              NaN         NaN         NaN   \n",
      "227              NaN         NaN         NaN   \n",
      "243              NaN         NaN         NaN   \n",
      "244              NaN         NaN         NaN   \n",
      "245              NaN         NaN         NaN   \n",
      "246              NaN         NaN         NaN   \n",
      "247              NaN         NaN         NaN   \n",
      "248              NaN         NaN         NaN   \n",
      "249              NaN         NaN         NaN   \n",
      "\n",
      "            Arabidopsis\\nAccession4        E-value5 Unnamed: 13  Unnamed: 14  \\\n",
      "index_input                                                                    \n",
      "0                                               NaN         NaN          NaN   \n",
      "37                                              NaN         NaN          NaN   \n",
      "62                                              NaN         NaN          NaN   \n",
      "79                                              NaN         NaN          NaN   \n",
      "93                                              NaN         NaN          NaN   \n",
      "105                                             NaN         NaN          NaN   \n",
      "116                                             NaN         NaN          NaN   \n",
      "126                                             NaN         NaN          NaN   \n",
      "136                                             NaN         NaN          NaN   \n",
      "137                                             NaN         NaN          NaN   \n",
      "145                                             NaN         NaN          NaN   \n",
      "153                                             NaN         NaN          NaN   \n",
      "154                                             NaN         NaN          NaN   \n",
      "162                                             NaN         NaN          NaN   \n",
      "169                                             NaN         NaN          NaN   \n",
      "175                                             NaN         NaN          NaN   \n",
      "180                                             NaN         NaN          NaN   \n",
      "185                                             NaN         NaN          NaN   \n",
      "190                                             NaN         NaN          NaN   \n",
      "195                                             NaN         NaN          NaN   \n",
      "200                                             NaN         NaN          NaN   \n",
      "204                                             NaN         NaN          NaN   \n",
      "208                                             NaN         NaN          NaN   \n",
      "212                                             NaN         NaN          NaN   \n",
      "215                                             NaN         NaN          NaN   \n",
      "217                                             NaN         NaN          NaN   \n",
      "218                                             NaN         NaN          NaN   \n",
      "219                                             NaN         NaN          NaN   \n",
      "220                                             NaN         NaN          NaN   \n",
      "221                                             NaN         NaN          NaN   \n",
      "227                                             NaN         NaN          NaN   \n",
      "243                                             NaN         NaN          NaN   \n",
      "244                                             NaN         NaN          NaN   \n",
      "245                                             NaN         NaN          NaN   \n",
      "246                                             NaN         NaN          NaN   \n",
      "247                                             NaN         NaN          NaN   \n",
      "248                                             NaN         NaN          NaN   \n",
      "249                                             NaN         NaN          NaN   \n",
      "\n",
      "            Sclerotinia\\nAccession4         E-value5 Unnamed: 16  orf  \n",
      "index_input                                                            \n",
      "0                                                NaN         NaN  NAN  \n",
      "37                                               NaN         NaN  NAN  \n",
      "62                                               NaN         NaN  NAN  \n",
      "79                                               NaN         NaN  NAN  \n",
      "93                                               NaN         NaN  NAN  \n",
      "105                                              NaN         NaN  NAN  \n",
      "116                                              NaN         NaN  NAN  \n",
      "126                                              NaN         NaN  NAN  \n",
      "136                                              NaN         NaN  NAN  \n",
      "137                                              NaN         NaN  NAN  \n",
      "145                                              NaN         NaN  NAN  \n",
      "153                                              NaN         NaN  NAN  \n",
      "154                                              NaN         NaN  NAN  \n",
      "162                                              NaN         NaN  NAN  \n",
      "169                                              NaN         NaN  NAN  \n",
      "175                                              NaN         NaN  NAN  \n",
      "180                                              NaN         NaN  NAN  \n",
      "185                                              NaN         NaN  NAN  \n",
      "190                                              NaN         NaN  NAN  \n",
      "195                                              NaN         NaN  NAN  \n",
      "200                                              NaN         NaN  NAN  \n",
      "204                                              NaN         NaN  NAN  \n",
      "208                                              NaN         NaN  NAN  \n",
      "212                                              NaN         NaN  NAN  \n",
      "215                                              NaN         NaN  NAN  \n",
      "217                                              NaN         NaN  NAN  \n",
      "218                                              NaN         NaN  NAN  \n",
      "219                                              NaN         NaN  NAN  \n",
      "220                                              NaN         NaN  NAN  \n",
      "221                                              NaN         NaN  NAN  \n",
      "227                                              NaN         NaN  NAN  \n",
      "243                                              NaN         NaN  NAN  \n",
      "244                                              NaN         NaN  NAN  \n",
      "245                                              NaN         NaN  NAN  \n",
      "246                                              NaN         NaN  NAN  \n",
      "247                                              NaN         NaN  NAN  \n",
      "248                                              NaN         NaN  NAN  \n",
      "249                                              NaN         NaN  NAN  \n"
     ]
    }
   ],
   "source": [
    "# Make sure everything translated ok\n",
    "t = looks_like_orf(original_data['orf'])\n",
    "print(original_data.loc[~t,])"
   ]
  },
  {
   "cell_type": "code",
   "execution_count": 15,
   "metadata": {},
   "outputs": [],
   "source": [
    "original_data = original_data.loc[t,:]"
   ]
  },
  {
   "cell_type": "code",
   "execution_count": 19,
   "metadata": {},
   "outputs": [],
   "source": [
    "original_data['data'] = original_data['Minimum inhibitory concentration (mM)2\\nOxalate     Malonate     Formate    Acetate     Propionate'].astype(float)"
   ]
  },
  {
   "cell_type": "code",
   "execution_count": 20,
   "metadata": {},
   "outputs": [],
   "source": [
    "original_data.set_index('orf', inplace=True)"
   ]
  },
  {
   "cell_type": "code",
   "execution_count": 21,
   "metadata": {},
   "outputs": [],
   "source": [
    "original_data = original_data[['data']].copy()"
   ]
  },
  {
   "cell_type": "code",
   "execution_count": 22,
   "metadata": {},
   "outputs": [],
   "source": [
    "original_data = original_data.groupby(original_data.index).mean()"
   ]
  },
  {
   "cell_type": "code",
   "execution_count": 23,
   "metadata": {},
   "outputs": [
    {
     "data": {
      "text/plain": [
       "(105, 1)"
      ]
     },
     "execution_count": 23,
     "metadata": {},
     "output_type": "execute_result"
    }
   ],
   "source": [
    "original_data.shape"
   ]
  },
  {
   "cell_type": "markdown",
   "metadata": {},
   "source": [
    "# Load & process tested strains"
   ]
  },
  {
   "cell_type": "code",
   "execution_count": 24,
   "metadata": {},
   "outputs": [],
   "source": [
    "tested = pd.read_excel('raw_data/YSC1054Y.copy.xlsx', sheet_name='mat_alpha_obs')"
   ]
  },
  {
   "cell_type": "code",
   "execution_count": 25,
   "metadata": {},
   "outputs": [
    {
     "data": {
      "text/html": [
       "<div>\n",
       "<style scoped>\n",
       "    .dataframe tbody tr th:only-of-type {\n",
       "        vertical-align: middle;\n",
       "    }\n",
       "\n",
       "    .dataframe tbody tr th {\n",
       "        vertical-align: top;\n",
       "    }\n",
       "\n",
       "    .dataframe thead th {\n",
       "        text-align: right;\n",
       "    }\n",
       "</style>\n",
       "<table border=\"1\" class=\"dataframe\">\n",
       "  <thead>\n",
       "    <tr style=\"text-align: right;\">\n",
       "      <th></th>\n",
       "      <th>record no.</th>\n",
       "      <th>ORF name</th>\n",
       "      <th>strain</th>\n",
       "      <th>batch</th>\n",
       "      <th>plate</th>\n",
       "      <th>row</th>\n",
       "      <th>column</th>\n",
       "      <th>notes</th>\n",
       "    </tr>\n",
       "  </thead>\n",
       "  <tbody>\n",
       "    <tr>\n",
       "      <th>0</th>\n",
       "      <td>10405.0</td>\n",
       "      <td>YAL002W</td>\n",
       "      <td>BY4739</td>\n",
       "      <td>01_1</td>\n",
       "      <td>101.0</td>\n",
       "      <td>E</td>\n",
       "      <td>1</td>\n",
       "      <td>NaN</td>\n",
       "    </tr>\n",
       "    <tr>\n",
       "      <th>1</th>\n",
       "      <td>10402.0</td>\n",
       "      <td>YAL004W</td>\n",
       "      <td>BY4739</td>\n",
       "      <td>01_1</td>\n",
       "      <td>101.0</td>\n",
       "      <td>D</td>\n",
       "      <td>11</td>\n",
       "      <td>NaN</td>\n",
       "    </tr>\n",
       "    <tr>\n",
       "      <th>2</th>\n",
       "      <td>10403.0</td>\n",
       "      <td>YAL005C</td>\n",
       "      <td>BY4739</td>\n",
       "      <td>01_1</td>\n",
       "      <td>101.0</td>\n",
       "      <td>D</td>\n",
       "      <td>12</td>\n",
       "      <td>NaN</td>\n",
       "    </tr>\n",
       "    <tr>\n",
       "      <th>3</th>\n",
       "      <td>10401.0</td>\n",
       "      <td>YAL007C</td>\n",
       "      <td>BY4739</td>\n",
       "      <td>01_1</td>\n",
       "      <td>101.0</td>\n",
       "      <td>D</td>\n",
       "      <td>10</td>\n",
       "      <td>NaN</td>\n",
       "    </tr>\n",
       "    <tr>\n",
       "      <th>4</th>\n",
       "      <td>10400.0</td>\n",
       "      <td>YAL008W</td>\n",
       "      <td>BY4739</td>\n",
       "      <td>01_1</td>\n",
       "      <td>101.0</td>\n",
       "      <td>D</td>\n",
       "      <td>9</td>\n",
       "      <td>NaN</td>\n",
       "    </tr>\n",
       "  </tbody>\n",
       "</table>\n",
       "</div>"
      ],
      "text/plain": [
       "   record no. ORF name  strain batch  plate row column notes\n",
       "0     10405.0  YAL002W  BY4739  01_1  101.0   E      1   NaN\n",
       "1     10402.0  YAL004W  BY4739  01_1  101.0   D     11   NaN\n",
       "2     10403.0  YAL005C  BY4739  01_1  101.0   D     12   NaN\n",
       "3     10401.0  YAL007C  BY4739  01_1  101.0   D     10   NaN\n",
       "4     10400.0  YAL008W  BY4739  01_1  101.0   D      9   NaN"
      ]
     },
     "execution_count": 25,
     "metadata": {},
     "output_type": "execute_result"
    }
   ],
   "source": [
    "tested.head()"
   ]
  },
  {
   "cell_type": "code",
   "execution_count": 26,
   "metadata": {},
   "outputs": [],
   "source": [
    "tested['orf'] = tested['ORF name'].astype(str)"
   ]
  },
  {
   "cell_type": "code",
   "execution_count": 27,
   "metadata": {},
   "outputs": [],
   "source": [
    "tested['orf'] = clean_orf(tested['orf'])"
   ]
  },
  {
   "cell_type": "code",
   "execution_count": 28,
   "metadata": {},
   "outputs": [],
   "source": [
    "tested['orf'] = translate_sc(tested['orf'], to='orf')"
   ]
  },
  {
   "cell_type": "code",
   "execution_count": 29,
   "metadata": {},
   "outputs": [
    {
     "name": "stdout",
     "output_type": "stream",
     "text": [
      "             record no. ORF name strain batch  plate  row   column notes  orf\n",
      "index_input                                                                  \n",
      "4826                NaN      NaN    NaN   NaN    NaN  NaN  end 150   NaN  NAN\n"
     ]
    }
   ],
   "source": [
    "# Make sure everything translated ok\n",
    "t = looks_like_orf(tested['orf'])\n",
    "print(tested.loc[~t,])"
   ]
  },
  {
   "cell_type": "code",
   "execution_count": 30,
   "metadata": {},
   "outputs": [],
   "source": [
    "tested = tested.loc[t,:]"
   ]
  },
  {
   "cell_type": "code",
   "execution_count": 31,
   "metadata": {},
   "outputs": [],
   "source": [
    "tested_orfs = tested['orf'].unique()"
   ]
  },
  {
   "cell_type": "code",
   "execution_count": 32,
   "metadata": {},
   "outputs": [
    {
     "data": {
      "text/plain": [
       "[]"
      ]
     },
     "execution_count": 32,
     "metadata": {},
     "output_type": "execute_result"
    }
   ],
   "source": [
    "missing = [orf for orf in original_data.index.values if orf not in tested_orfs]\n",
    "missing"
   ]
  },
  {
   "cell_type": "code",
   "execution_count": 33,
   "metadata": {},
   "outputs": [],
   "source": [
    "original_data = original_data.reindex(index=tested_orfs, fill_value=0)"
   ]
  },
  {
   "cell_type": "markdown",
   "metadata": {},
   "source": [
    "# Prepare the final dataset"
   ]
  },
  {
   "cell_type": "code",
   "execution_count": 34,
   "metadata": {},
   "outputs": [],
   "source": [
    "data = original_data.copy()"
   ]
  },
  {
   "cell_type": "code",
   "execution_count": 35,
   "metadata": {},
   "outputs": [],
   "source": [
    "dataset_ids = [114]\n",
    "datasets = datasets.reindex(index=dataset_ids)"
   ]
  },
  {
   "cell_type": "code",
   "execution_count": 36,
   "metadata": {},
   "outputs": [],
   "source": [
    "lst = [datasets.index.values, ['value']*datasets.shape[0]]\n",
    "tuples = list(zip(*lst))\n",
    "idx = pd.MultiIndex.from_tuples(tuples, names=['dataset_id','data_type'])\n",
    "data.columns = idx"
   ]
  },
  {
   "cell_type": "code",
   "execution_count": 37,
   "metadata": {},
   "outputs": [
    {
     "data": {
      "text/html": [
       "<div>\n",
       "<style scoped>\n",
       "    .dataframe tbody tr th:only-of-type {\n",
       "        vertical-align: middle;\n",
       "    }\n",
       "\n",
       "    .dataframe tbody tr th {\n",
       "        vertical-align: top;\n",
       "    }\n",
       "\n",
       "    .dataframe thead tr th {\n",
       "        text-align: left;\n",
       "    }\n",
       "\n",
       "    .dataframe thead tr:last-of-type th {\n",
       "        text-align: right;\n",
       "    }\n",
       "</style>\n",
       "<table border=\"1\" class=\"dataframe\">\n",
       "  <thead>\n",
       "    <tr>\n",
       "      <th>dataset_id</th>\n",
       "      <th>114</th>\n",
       "    </tr>\n",
       "    <tr>\n",
       "      <th>data_type</th>\n",
       "      <th>value</th>\n",
       "    </tr>\n",
       "    <tr>\n",
       "      <th>orf</th>\n",
       "      <th></th>\n",
       "    </tr>\n",
       "  </thead>\n",
       "  <tbody>\n",
       "    <tr>\n",
       "      <th>YAL002W</th>\n",
       "      <td>0.0</td>\n",
       "    </tr>\n",
       "    <tr>\n",
       "      <th>YAL004W</th>\n",
       "      <td>0.0</td>\n",
       "    </tr>\n",
       "    <tr>\n",
       "      <th>YAL005C</th>\n",
       "      <td>0.0</td>\n",
       "    </tr>\n",
       "    <tr>\n",
       "      <th>YAL007C</th>\n",
       "      <td>0.0</td>\n",
       "    </tr>\n",
       "    <tr>\n",
       "      <th>YAL008W</th>\n",
       "      <td>0.0</td>\n",
       "    </tr>\n",
       "  </tbody>\n",
       "</table>\n",
       "</div>"
      ],
      "text/plain": [
       "dataset_id   114\n",
       "data_type  value\n",
       "orf             \n",
       "YAL002W      0.0\n",
       "YAL004W      0.0\n",
       "YAL005C      0.0\n",
       "YAL007C      0.0\n",
       "YAL008W      0.0"
      ]
     },
     "execution_count": 37,
     "metadata": {},
     "output_type": "execute_result"
    }
   ],
   "source": [
    "data.head()"
   ]
  },
  {
   "cell_type": "markdown",
   "metadata": {},
   "source": [
    "## Subset to the genes currently in SGD"
   ]
  },
  {
   "cell_type": "code",
   "execution_count": 38,
   "metadata": {},
   "outputs": [
    {
     "name": "stdout",
     "output_type": "stream",
     "text": [
      "ORFs missing from SGD: 26\n"
     ]
    }
   ],
   "source": [
    "genes = pd.read_csv(path_to_genes, sep='\\t', index_col='id')\n",
    "genes = genes.reset_index().set_index('systematic_name')\n",
    "gene_ids = genes.reindex(index=data.index.values)['id'].values\n",
    "num_missing = np.sum(np.isnan(gene_ids))\n",
    "print('ORFs missing from SGD: %d' % num_missing)"
   ]
  },
  {
   "cell_type": "code",
   "execution_count": 39,
   "metadata": {},
   "outputs": [
    {
     "data": {
      "text/html": [
       "<div>\n",
       "<style scoped>\n",
       "    .dataframe tbody tr th:only-of-type {\n",
       "        vertical-align: middle;\n",
       "    }\n",
       "\n",
       "    .dataframe tbody tr th {\n",
       "        vertical-align: top;\n",
       "    }\n",
       "\n",
       "    .dataframe thead tr th {\n",
       "        text-align: left;\n",
       "    }\n",
       "\n",
       "    .dataframe thead tr:last-of-type th {\n",
       "        text-align: right;\n",
       "    }\n",
       "</style>\n",
       "<table border=\"1\" class=\"dataframe\">\n",
       "  <thead>\n",
       "    <tr>\n",
       "      <th></th>\n",
       "      <th>dataset_id</th>\n",
       "      <th>114</th>\n",
       "    </tr>\n",
       "    <tr>\n",
       "      <th></th>\n",
       "      <th>data_type</th>\n",
       "      <th>value</th>\n",
       "    </tr>\n",
       "    <tr>\n",
       "      <th>gene_id</th>\n",
       "      <th>orf</th>\n",
       "      <th></th>\n",
       "    </tr>\n",
       "  </thead>\n",
       "  <tbody>\n",
       "    <tr>\n",
       "      <th>2</th>\n",
       "      <th>YAL002W</th>\n",
       "      <td>0.0</td>\n",
       "    </tr>\n",
       "    <tr>\n",
       "      <th>1863</th>\n",
       "      <th>YAL004W</th>\n",
       "      <td>0.0</td>\n",
       "    </tr>\n",
       "    <tr>\n",
       "      <th>4</th>\n",
       "      <th>YAL005C</th>\n",
       "      <td>0.0</td>\n",
       "    </tr>\n",
       "    <tr>\n",
       "      <th>5</th>\n",
       "      <th>YAL007C</th>\n",
       "      <td>0.0</td>\n",
       "    </tr>\n",
       "    <tr>\n",
       "      <th>6</th>\n",
       "      <th>YAL008W</th>\n",
       "      <td>0.0</td>\n",
       "    </tr>\n",
       "  </tbody>\n",
       "</table>\n",
       "</div>"
      ],
      "text/plain": [
       "dataset_id        114\n",
       "data_type       value\n",
       "gene_id orf          \n",
       "2       YAL002W   0.0\n",
       "1863    YAL004W   0.0\n",
       "4       YAL005C   0.0\n",
       "5       YAL007C   0.0\n",
       "6       YAL008W   0.0"
      ]
     },
     "execution_count": 39,
     "metadata": {},
     "output_type": "execute_result"
    }
   ],
   "source": [
    "data['gene_id'] = gene_ids\n",
    "data = data.loc[data['gene_id'].notnull()]\n",
    "data['gene_id'] = data['gene_id'].astype(int)\n",
    "data = data.reset_index().set_index(['gene_id','orf'])\n",
    "\n",
    "data.head()"
   ]
  },
  {
   "cell_type": "markdown",
   "metadata": {},
   "source": [
    "# Normalize"
   ]
  },
  {
   "cell_type": "code",
   "execution_count": 40,
   "metadata": {},
   "outputs": [],
   "source": [
    "data_norm = normalize_phenotypic_scores(data, has_tested=True)"
   ]
  },
  {
   "cell_type": "code",
   "execution_count": 41,
   "metadata": {},
   "outputs": [],
   "source": [
    "# Assign proper column names\n",
    "lst = [datasets.index.values, ['valuez']*datasets.shape[0]]\n",
    "tuples = list(zip(*lst))\n",
    "idx = pd.MultiIndex.from_tuples(tuples, names=['dataset_id','data_type'])\n",
    "data_norm.columns = idx"
   ]
  },
  {
   "cell_type": "code",
   "execution_count": 42,
   "metadata": {},
   "outputs": [
    {
     "data": {
      "text/html": [
       "<div>\n",
       "<style scoped>\n",
       "    .dataframe tbody tr th:only-of-type {\n",
       "        vertical-align: middle;\n",
       "    }\n",
       "\n",
       "    .dataframe tbody tr th {\n",
       "        vertical-align: top;\n",
       "    }\n",
       "\n",
       "    .dataframe thead tr th {\n",
       "        text-align: left;\n",
       "    }\n",
       "\n",
       "    .dataframe thead tr:last-of-type th {\n",
       "        text-align: right;\n",
       "    }\n",
       "</style>\n",
       "<table border=\"1\" class=\"dataframe\">\n",
       "  <thead>\n",
       "    <tr>\n",
       "      <th></th>\n",
       "      <th>dataset_id</th>\n",
       "      <th colspan=\"2\" halign=\"left\">114</th>\n",
       "    </tr>\n",
       "    <tr>\n",
       "      <th></th>\n",
       "      <th>data_type</th>\n",
       "      <th>value</th>\n",
       "      <th>valuez</th>\n",
       "    </tr>\n",
       "    <tr>\n",
       "      <th>gene_id</th>\n",
       "      <th>orf</th>\n",
       "      <th></th>\n",
       "      <th></th>\n",
       "    </tr>\n",
       "  </thead>\n",
       "  <tbody>\n",
       "    <tr>\n",
       "      <th>2</th>\n",
       "      <th>YAL002W</th>\n",
       "      <td>0.0</td>\n",
       "      <td>0.0</td>\n",
       "    </tr>\n",
       "    <tr>\n",
       "      <th>1863</th>\n",
       "      <th>YAL004W</th>\n",
       "      <td>0.0</td>\n",
       "      <td>0.0</td>\n",
       "    </tr>\n",
       "    <tr>\n",
       "      <th>4</th>\n",
       "      <th>YAL005C</th>\n",
       "      <td>0.0</td>\n",
       "      <td>0.0</td>\n",
       "    </tr>\n",
       "    <tr>\n",
       "      <th>5</th>\n",
       "      <th>YAL007C</th>\n",
       "      <td>0.0</td>\n",
       "      <td>0.0</td>\n",
       "    </tr>\n",
       "    <tr>\n",
       "      <th>6</th>\n",
       "      <th>YAL008W</th>\n",
       "      <td>0.0</td>\n",
       "      <td>0.0</td>\n",
       "    </tr>\n",
       "  </tbody>\n",
       "</table>\n",
       "</div>"
      ],
      "text/plain": [
       "dataset_id        114       \n",
       "data_type       value valuez\n",
       "gene_id orf                 \n",
       "2       YAL002W   0.0    0.0\n",
       "1863    YAL004W   0.0    0.0\n",
       "4       YAL005C   0.0    0.0\n",
       "5       YAL007C   0.0    0.0\n",
       "6       YAL008W   0.0    0.0"
      ]
     },
     "execution_count": 42,
     "metadata": {},
     "output_type": "execute_result"
    }
   ],
   "source": [
    "data_norm[data.isnull()] = np.nan\n",
    "data_all = data.join(data_norm)\n",
    "\n",
    "data_all.head()"
   ]
  },
  {
   "cell_type": "markdown",
   "metadata": {},
   "source": [
    "# Print out"
   ]
  },
  {
   "cell_type": "code",
   "execution_count": 43,
   "metadata": {},
   "outputs": [],
   "source": [
    "for f in ['value','valuez']:\n",
    "    df = data_all.xs(f, level='data_type', axis=1).copy()\n",
    "    df.columns = datasets['name'].values\n",
    "    df = df.droplevel('gene_id', axis=0)\n",
    "    df.to_csv(paper_name + '_' + f + '.txt', sep='\\t')"
   ]
  },
  {
   "cell_type": "markdown",
   "metadata": {},
   "source": [
    "# Save to DB"
   ]
  },
  {
   "cell_type": "code",
   "execution_count": 44,
   "metadata": {},
   "outputs": [],
   "source": [
    "from IO.save_data_to_db3 import *"
   ]
  },
  {
   "cell_type": "code",
   "execution_count": 45,
   "metadata": {},
   "outputs": [
    {
     "name": "stderr",
     "output_type": "stream",
     "text": [
      "  0%|          | 0/1 [00:00<?, ?it/s]"
     ]
    },
    {
     "name": "stdout",
     "output_type": "stream",
     "text": [
      "Deleting all datasets for PMID 17644632...\n",
      "Inserting the new data...\n"
     ]
    },
    {
     "name": "stderr",
     "output_type": "stream",
     "text": [
      "100%|██████████| 1/1 [00:07<00:00,  7.01s/it]"
     ]
    },
    {
     "name": "stdout",
     "output_type": "stream",
     "text": [
      "Updating the data_modified_on field...\n"
     ]
    },
    {
     "name": "stderr",
     "output_type": "stream",
     "text": [
      "\n"
     ]
    }
   ],
   "source": [
    "save_data_to_db(data_all, paper_pmid)"
   ]
  },
  {
   "cell_type": "code",
   "execution_count": null,
   "metadata": {},
   "outputs": [],
   "source": []
  }
 ],
 "metadata": {
  "kernelspec": {
   "display_name": "yp-data",
   "language": "python",
   "name": "yp-data"
  },
  "language_info": {
   "codemirror_mode": {
    "name": "ipython",
    "version": 3
   },
   "file_extension": ".py",
   "mimetype": "text/x-python",
   "name": "python",
   "nbconvert_exporter": "python",
   "pygments_lexer": "ipython3",
   "version": "3.7.7"
  }
 },
 "nbformat": 4,
 "nbformat_minor": 4
}
