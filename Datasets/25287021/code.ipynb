{
 "cells": [
  {
   "cell_type": "code",
   "execution_count": 1,
   "metadata": {},
   "outputs": [],
   "source": [
    "%run ../yp_utils.py"
   ]
  },
  {
   "cell_type": "markdown",
   "metadata": {},
   "source": [
    "# Initial setup"
   ]
  },
  {
   "cell_type": "code",
   "execution_count": 2,
   "metadata": {},
   "outputs": [],
   "source": [
    "paper_pmid = 25287021\n",
    "paper_name = 'pereira_domingues_2014' "
   ]
  },
  {
   "cell_type": "code",
   "execution_count": 3,
   "metadata": {},
   "outputs": [],
   "source": [
    "datasets = pd.read_csv('extras/YeastPhenome_' + str(paper_pmid) + '_datasets_list.txt', sep='\\t', header=None, names=['dataset_id', 'name'])"
   ]
  },
  {
   "cell_type": "code",
   "execution_count": 4,
   "metadata": {},
   "outputs": [],
   "source": [
    "datasets.set_index('dataset_id', inplace=True)"
   ]
  },
  {
   "cell_type": "markdown",
   "metadata": {},
   "source": [
    "# Load & process the data"
   ]
  },
  {
   "cell_type": "code",
   "execution_count": 7,
   "metadata": {},
   "outputs": [],
   "source": [
    "files = ['10295_2014_1519_MOESM1_ESM.xlsx','10295_2014_1519_MOESM2_ESM.xlsx']\n",
    "sheets = ['Table S1','Table S2']"
   ]
  },
  {
   "cell_type": "code",
   "execution_count": 12,
   "metadata": {},
   "outputs": [
    {
     "name": "stdout",
     "output_type": "stream",
     "text": [
      "Original data dimensions: 291 x 12\n",
      "                                                          0    1   2   3   4  \\\n",
      "index_input                                                                    \n",
      "7                                                       NaN  NaN NaN NaN NaN   \n",
      "8                            Carbohydrate/energy metabolism  NaN NaN NaN NaN   \n",
      "19                                                      NaN  NaN NaN NaN NaN   \n",
      "20                                     Aminoacid metabolism  NaN NaN NaN NaN   \n",
      "33                                                      NaN  NaN NaN NaN NaN   \n",
      "34                                       Vitamin metabolism  NaN NaN NaN NaN   \n",
      "42                                                      NaN  NaN NaN NaN NaN   \n",
      "43                                    Nucleotide metabolism  NaN NaN NaN NaN   \n",
      "47                                                      NaN  NaN NaN NaN NaN   \n",
      "48                                            Ion transport  NaN NaN NaN NaN   \n",
      "59                                                      NaN  NaN NaN NaN NaN   \n",
      "60                                         Lipid metabolism  NaN NaN NaN NaN   \n",
      "75                                                      NaN  NaN NaN NaN NaN   \n",
      "76                                   Cell wall organization  NaN NaN NaN NaN   \n",
      "85                                                      NaN  NaN NaN NaN NaN   \n",
      "86           Cytoskeleton organization and cell morphology   NaN NaN NaN NaN   \n",
      "99                                                      NaN  NaN NaN NaN NaN   \n",
      "100                                  Mitochondrial function  NaN NaN NaN NaN   \n",
      "109                                                     NaN  NaN NaN NaN NaN   \n",
      "110                                   Peroxissomal function  NaN NaN NaN NaN   \n",
      "114                                                     NaN  NaN NaN NaN NaN   \n",
      "115                                  Vacuolar acidification  NaN NaN NaN NaN   \n",
      "123                                                     NaN  NaN NaN NaN NaN   \n",
      "124            Intracellular traficking and protein sorting  NaN NaN NaN NaN   \n",
      "159                                                     NaN  NaN NaN NaN NaN   \n",
      "160                                     Ribosome biogenesis  NaN NaN NaN NaN   \n",
      "178                                                     NaN  NaN NaN NaN NaN   \n",
      "179                                         Protein folding  NaN NaN NaN NaN   \n",
      "185                                                     NaN  NaN NaN NaN NaN   \n",
      "186                                     Protein degradation  NaN NaN NaN NaN   \n",
      "193                                                     NaN  NaN NaN NaN NaN   \n",
      "194              Transcription machinery and RNA processing  NaN NaN NaN NaN   \n",
      "225                                                     NaN  NaN NaN NaN NaN   \n",
      "226                                         tRNA metabolism  NaN NaN NaN NaN   \n",
      "235                                                     NaN  NaN NaN NaN NaN   \n",
      "236                                              DNA repair  NaN NaN NaN NaN   \n",
      "241                                                     NaN  NaN NaN NaN NaN   \n",
      "242                                                 Unknown  NaN NaN NaN NaN   \n",
      "279                                                     NaN  NaN NaN NaN NaN   \n",
      "280                                                     NaN  NaN NaN NaN NaN   \n",
      "281                                                     NaN  NaN NaN NaN NaN   \n",
      "282                                                     NaN  NaN NaN NaN NaN   \n",
      "283                                                     NaN  NaN NaN NaN NaN   \n",
      "284                                                     NaN  NaN NaN NaN NaN   \n",
      "285                                                     NaN  NaN NaN NaN NaN   \n",
      "286                                                     NaN  NaN NaN NaN NaN   \n",
      "287                                                     NaN  NaN NaN NaN NaN   \n",
      "288                                                     NaN  NaN NaN NaN NaN   \n",
      "289                                                     NaN  NaN NaN NaN NaN   \n",
      "290                                                     NaN  NaN NaN NaN NaN   \n",
      "\n",
      "              5   6   7   8   9   10  11  \\\n",
      "index_input                                \n",
      "7           NaN NaN NaN NaN NaN  NaN NaN   \n",
      "8           NaN NaN NaN NaN NaN  NaN NaN   \n",
      "19          NaN NaN NaN NaN NaN  NaN NaN   \n",
      "20          NaN NaN NaN NaN NaN  NaN NaN   \n",
      "33          NaN NaN NaN NaN NaN  NaN NaN   \n",
      "34          NaN NaN NaN NaN NaN  NaN NaN   \n",
      "42          NaN NaN NaN NaN NaN  NaN NaN   \n",
      "43          NaN NaN NaN NaN NaN  NaN NaN   \n",
      "47          NaN NaN NaN NaN NaN  NaN NaN   \n",
      "48          NaN NaN NaN NaN NaN  NaN NaN   \n",
      "59          NaN NaN NaN NaN NaN  NaN NaN   \n",
      "60          NaN NaN NaN NaN NaN  NaN NaN   \n",
      "75          NaN NaN NaN NaN NaN  NaN NaN   \n",
      "76          NaN NaN NaN NaN NaN  NaN NaN   \n",
      "85          NaN NaN NaN NaN NaN  NaN NaN   \n",
      "86          NaN NaN NaN NaN NaN  NaN NaN   \n",
      "99          NaN NaN NaN NaN NaN  NaN NaN   \n",
      "100         NaN NaN NaN NaN NaN  NaN NaN   \n",
      "109         NaN NaN NaN NaN NaN  NaN NaN   \n",
      "110         NaN NaN NaN NaN NaN  NaN NaN   \n",
      "114         NaN NaN NaN NaN NaN  NaN NaN   \n",
      "115         NaN NaN NaN NaN NaN  NaN NaN   \n",
      "123         NaN NaN NaN NaN NaN  NaN NaN   \n",
      "124         NaN NaN NaN NaN NaN  NaN NaN   \n",
      "159         NaN NaN NaN NaN NaN  NaN NaN   \n",
      "160         NaN NaN NaN NaN NaN  NaN NaN   \n",
      "178         NaN NaN NaN NaN NaN  NaN NaN   \n",
      "179         NaN NaN NaN NaN NaN  NaN NaN   \n",
      "185         NaN NaN NaN NaN NaN  NaN NaN   \n",
      "186         NaN NaN NaN NaN NaN  NaN NaN   \n",
      "193         NaN NaN NaN NaN NaN  NaN NaN   \n",
      "194         NaN NaN NaN NaN NaN  NaN NaN   \n",
      "225         NaN NaN NaN NaN NaN  NaN NaN   \n",
      "226         NaN NaN NaN NaN NaN  NaN NaN   \n",
      "235         NaN NaN NaN NaN NaN  NaN NaN   \n",
      "236         NaN NaN NaN NaN NaN  NaN NaN   \n",
      "241         NaN NaN NaN NaN NaN  NaN NaN   \n",
      "242         NaN NaN NaN NaN NaN  NaN NaN   \n",
      "279         NaN NaN NaN NaN NaN  NaN NaN   \n",
      "280         NaN NaN NaN NaN NaN  NaN NaN   \n",
      "281         NaN NaN NaN NaN NaN  NaN NaN   \n",
      "282         NaN NaN NaN NaN NaN  NaN NaN   \n",
      "283         NaN NaN NaN NaN NaN  NaN NaN   \n",
      "284         NaN NaN NaN NaN NaN  NaN NaN   \n",
      "285         NaN NaN NaN NaN NaN  NaN NaN   \n",
      "286         NaN NaN NaN NaN NaN  NaN NaN   \n",
      "287         NaN NaN NaN NaN NaN  NaN NaN   \n",
      "288         NaN NaN NaN NaN NaN  NaN NaN   \n",
      "289         NaN NaN NaN NaN NaN  NaN NaN   \n",
      "290         NaN NaN NaN NaN NaN  NaN NaN   \n",
      "\n",
      "                                                 genes  \\\n",
      "index_input                                              \n",
      "7                                                  NAN   \n",
      "8                         CARBOHYDRATEENERGYMETABOLISM   \n",
      "19                                                 NAN   \n",
      "20                                 AMINOACIDMETABOLISM   \n",
      "33                                                 NAN   \n",
      "34                                   VITAMINMETABOLISM   \n",
      "42                                                 NAN   \n",
      "43                                NUCLEOTIDEMETABOLISM   \n",
      "47                                                 NAN   \n",
      "48                                        IONTRANSPORT   \n",
      "59                                                 NAN   \n",
      "60                                     LIPIDMETABOLISM   \n",
      "75                                                 NAN   \n",
      "76                                CELLWALLORGANIZATION   \n",
      "85                                                 NAN   \n",
      "86           CYTOSKELETONORGANIZATIONANDCELLMORPHOLOGY   \n",
      "99                                                 NAN   \n",
      "100                              MITOCHONDRIALFUNCTION   \n",
      "109                                                NAN   \n",
      "110                               PEROXISSOMALFUNCTION   \n",
      "114                                                NAN   \n",
      "115                              VACUOLARACIDIFICATION   \n",
      "123                                                NAN   \n",
      "124           INTRACELLULARTRAFICKINGANDPROTEINSORTING   \n",
      "159                                                NAN   \n",
      "160                                 RIBOSOMEBIOGENESIS   \n",
      "178                                                NAN   \n",
      "179                                     PROTEINFOLDING   \n",
      "185                                                NAN   \n",
      "186                                 PROTEINDEGRADATION   \n",
      "193                                                NAN   \n",
      "194             TRANSCRIPTIONMACHINERYANDRNAPROCESSING   \n",
      "225                                                NAN   \n",
      "226                                     TRNAMETABOLISM   \n",
      "235                                                NAN   \n",
      "236                                          DNAREPAIR   \n",
      "241                                                NAN   \n",
      "242                                            UNKNOWN   \n",
      "279                                                NAN   \n",
      "280                                                NAN   \n",
      "281                                                NAN   \n",
      "282                                                NAN   \n",
      "283                                                NAN   \n",
      "284                                                NAN   \n",
      "285                                                NAN   \n",
      "286                                                NAN   \n",
      "287                                                NAN   \n",
      "288                                                NAN   \n",
      "289                                                NAN   \n",
      "290                                                NAN   \n",
      "\n",
      "                                                   orf  \n",
      "index_input                                             \n",
      "7                                                  NAN  \n",
      "8                         CARBOHYDRATEENERGYMETABOLISM  \n",
      "19                                                 NAN  \n",
      "20                                 AMINOACIDMETABOLISM  \n",
      "33                                                 NAN  \n",
      "34                                   VITAMINMETABOLISM  \n",
      "42                                                 NAN  \n",
      "43                                NUCLEOTIDEMETABOLISM  \n",
      "47                                                 NAN  \n",
      "48                                        IONTRANSPORT  \n",
      "59                                                 NAN  \n",
      "60                                     LIPIDMETABOLISM  \n",
      "75                                                 NAN  \n",
      "76                                CELLWALLORGANIZATION  \n",
      "85                                                 NAN  \n",
      "86           CYTOSKELETONORGANIZATIONANDCELLMORPHOLOGY  \n",
      "99                                                 NAN  \n",
      "100                              MITOCHONDRIALFUNCTION  \n",
      "109                                                NAN  \n",
      "110                               PEROXISSOMALFUNCTION  \n",
      "114                                                NAN  \n",
      "115                              VACUOLARACIDIFICATION  \n",
      "123                                                NAN  \n",
      "124           INTRACELLULARTRAFICKINGANDPROTEINSORTING  \n",
      "159                                                NAN  \n",
      "160                                 RIBOSOMEBIOGENESIS  \n",
      "178                                                NAN  \n",
      "179                                     PROTEINFOLDING  \n",
      "185                                                NAN  \n",
      "186                                 PROTEINDEGRADATION  \n",
      "193                                                NAN  \n",
      "194             TRANSCRIPTIONMACHINERYANDRNAPROCESSING  \n",
      "225                                                NAN  \n",
      "226                                     TRNAMETABOLISM  \n",
      "235                                                NAN  \n",
      "236                                          DNAREPAIR  \n",
      "241                                                NAN  \n",
      "242                                            UNKNOWN  \n",
      "279                                                NAN  \n",
      "280                                                NAN  \n",
      "281                                                NAN  \n",
      "282                                                NAN  \n",
      "283                                                NAN  \n",
      "284                                                NAN  \n",
      "285                                                NAN  \n",
      "286                                                NAN  \n",
      "287                                                NAN  \n",
      "288                                                NAN  \n",
      "289                                                NAN  \n",
      "290                                                NAN  \n",
      "Original data dimensions: 280 x 12\n",
      "                                          0    1   2   3   4   5   6   7   8  \\\n",
      "index_input                                                                    \n",
      "5                                       NaN  NaN NaN NaN NaN NaN NaN NaN NaN   \n",
      "6            Carbohydrate/energy metabolism  NaN NaN NaN NaN NaN NaN NaN NaN   \n",
      "13                                      NaN  NaN NaN NaN NaN NaN NaN NaN NaN   \n",
      "14                     Aminoacid metabolism  NaN NaN NaN NaN NaN NaN NaN NaN   \n",
      "25                                      NaN  NaN NaN NaN NaN NaN NaN NaN NaN   \n",
      "...                                     ...  ...  ..  ..  ..  ..  ..  ..  ..   \n",
      "275                                     NaN  NaN NaN NaN NaN NaN NaN NaN NaN   \n",
      "276                                     NaN  NaN NaN NaN NaN NaN NaN NaN NaN   \n",
      "277                                     NaN  NaN NaN NaN NaN NaN NaN NaN NaN   \n",
      "278                                     NaN  NaN NaN NaN NaN NaN NaN NaN NaN   \n",
      "279                                     NaN  NaN NaN NaN NaN NaN NaN NaN NaN   \n",
      "\n",
      "              9   10  11                         genes  \\\n",
      "index_input                                              \n",
      "5           NaN  NaN NaN                           NAN   \n",
      "6           NaN  NaN NaN  CARBOHYDRATEENERGYMETABOLISM   \n",
      "13          NaN  NaN NaN                           NAN   \n",
      "14          NaN  NaN NaN           AMINOACIDMETABOLISM   \n",
      "25          NaN  NaN NaN                           NAN   \n",
      "...          ..  ...  ..                           ...   \n",
      "275         NaN  NaN NaN                           NAN   \n",
      "276         NaN  NaN NaN                           NAN   \n",
      "277         NaN  NaN NaN                           NAN   \n",
      "278         NaN  NaN NaN                           NAN   \n",
      "279         NaN  NaN NaN                           NAN   \n",
      "\n",
      "                                      orf  \n",
      "index_input                                \n",
      "5                                     NAN  \n",
      "6            CARBOHYDRATEENERGYMETABOLISM  \n",
      "13                                    NAN  \n",
      "14                    AMINOACIDMETABOLISM  \n",
      "25                                    NAN  \n",
      "...                                   ...  \n",
      "275                                   NAN  \n",
      "276                                   NAN  \n",
      "277                                   NAN  \n",
      "278                                   NAN  \n",
      "279                                   NAN  \n",
      "\n",
      "[64 rows x 14 columns]\n"
     ]
    }
   ],
   "source": [
    "original_data_list = []\n",
    "for ixf, f in enumerate(files):\n",
    "    original_data = pd.read_excel('raw_data/' + f, sheet_name=sheets[ixf], skiprows=9, header=None)\n",
    "    print('Original data dimensions: %d x %d' % (original_data.shape))\n",
    "    original_data['genes'] = original_data[0].astype(str)\n",
    "    original_data['genes'] = clean_genename(original_data['genes'])\n",
    "    original_data['orf'] = translate_sc(original_data['genes'], to='orf')\n",
    "    t = looks_like_orf(original_data['orf'])\n",
    "    print(original_data.loc[~t,])\n",
    "    \n",
    "    original_data = original_data.loc[t,:]\n",
    "    \n",
    "    original_data.loc[original_data[10].isnull(),10] = ''\n",
    "    original_data['data'] = original_data[10].apply(lambda x: -len(x))\n",
    "    \n",
    "    original_data.set_index('orf', inplace=True)\n",
    "    original_data = original_data[['data']].copy()\n",
    "    \n",
    "    original_data = original_data.groupby(original_data.index).mean()\n",
    "    \n",
    "    original_data_list.append(original_data)"
   ]
  },
  {
   "cell_type": "code",
   "execution_count": 59,
   "metadata": {},
   "outputs": [],
   "source": [
    "original_data = pd.concat(original_data_list, axis=1)"
   ]
  },
  {
   "cell_type": "code",
   "execution_count": 60,
   "metadata": {},
   "outputs": [],
   "source": [
    "original_data.index.name = 'orf'"
   ]
  },
  {
   "cell_type": "code",
   "execution_count": 61,
   "metadata": {},
   "outputs": [],
   "source": [
    "original_data[original_data.isnull()] = 0"
   ]
  },
  {
   "cell_type": "code",
   "execution_count": 62,
   "metadata": {},
   "outputs": [
    {
     "data": {
      "text/html": [
       "<div>\n",
       "<style scoped>\n",
       "    .dataframe tbody tr th:only-of-type {\n",
       "        vertical-align: middle;\n",
       "    }\n",
       "\n",
       "    .dataframe tbody tr th {\n",
       "        vertical-align: top;\n",
       "    }\n",
       "\n",
       "    .dataframe thead th {\n",
       "        text-align: right;\n",
       "    }\n",
       "</style>\n",
       "<table border=\"1\" class=\"dataframe\">\n",
       "  <thead>\n",
       "    <tr style=\"text-align: right;\">\n",
       "      <th></th>\n",
       "      <th>data</th>\n",
       "      <th>data</th>\n",
       "    </tr>\n",
       "    <tr>\n",
       "      <th>orf</th>\n",
       "      <th></th>\n",
       "      <th></th>\n",
       "    </tr>\n",
       "  </thead>\n",
       "  <tbody>\n",
       "    <tr>\n",
       "      <th>YBR131W</th>\n",
       "      <td>-1.0</td>\n",
       "      <td>0.0</td>\n",
       "    </tr>\n",
       "    <tr>\n",
       "      <th>YBR147W</th>\n",
       "      <td>-2.0</td>\n",
       "      <td>-2.0</td>\n",
       "    </tr>\n",
       "    <tr>\n",
       "      <th>YBR171W</th>\n",
       "      <td>-1.0</td>\n",
       "      <td>-1.0</td>\n",
       "    </tr>\n",
       "    <tr>\n",
       "      <th>YBR173C</th>\n",
       "      <td>-2.0</td>\n",
       "      <td>-1.0</td>\n",
       "    </tr>\n",
       "    <tr>\n",
       "      <th>YBR176W</th>\n",
       "      <td>-1.0</td>\n",
       "      <td>0.0</td>\n",
       "    </tr>\n",
       "  </tbody>\n",
       "</table>\n",
       "</div>"
      ],
      "text/plain": [
       "         data  data\n",
       "orf                \n",
       "YBR131W  -1.0   0.0\n",
       "YBR147W  -2.0  -2.0\n",
       "YBR171W  -1.0  -1.0\n",
       "YBR173C  -2.0  -1.0\n",
       "YBR176W  -1.0   0.0"
      ]
     },
     "execution_count": 62,
     "metadata": {},
     "output_type": "execute_result"
    }
   ],
   "source": [
    "original_data.head()"
   ]
  },
  {
   "cell_type": "code",
   "execution_count": 63,
   "metadata": {},
   "outputs": [
    {
     "data": {
      "text/plain": [
       "(286, 2)"
      ]
     },
     "execution_count": 63,
     "metadata": {},
     "output_type": "execute_result"
    }
   ],
   "source": [
    "original_data.shape"
   ]
  },
  {
   "cell_type": "markdown",
   "metadata": {},
   "source": [
    "# Load & process tested strains"
   ]
  },
  {
   "cell_type": "code",
   "execution_count": 64,
   "metadata": {},
   "outputs": [],
   "source": [
    "tested = pd.read_excel('raw_data/chemogenomics.xlsx', sheet_name='hom.z_tdist_pval_nm.smallmol.co')"
   ]
  },
  {
   "cell_type": "code",
   "execution_count": 65,
   "metadata": {},
   "outputs": [],
   "source": [
    "tested['orf'] = tested['Orf '].astype(str)"
   ]
  },
  {
   "cell_type": "code",
   "execution_count": 66,
   "metadata": {},
   "outputs": [],
   "source": [
    "tested['orf'] = clean_orf(tested['orf'])"
   ]
  },
  {
   "cell_type": "code",
   "execution_count": 67,
   "metadata": {},
   "outputs": [],
   "source": [
    "tested['orf'] = translate_sc(tested['orf'], to='orf')"
   ]
  },
  {
   "cell_type": "code",
   "execution_count": 68,
   "metadata": {},
   "outputs": [
    {
     "name": "stdout",
     "output_type": "stream",
     "text": [
      "Empty DataFrame\n",
      "Columns: [Orf , Gene, Essential phenotype in rich media (Giaever 2002), Slow heterozygote phenotype in rich media (Deutschbauer 2005), Slow homozygote phenotype in rich media (Deutschbauer 2005), GO terms (biological process : molecular function : cellular component), Number of unique conditions of sensitivity (p < .01) out of 145 homozygous small molecule conditions \n",
      "(yellow = MDR), Names of conditions of sensitivity \n",
      "(p < .01), Note: some of the compound names were updated (corrected or clarified) after performing this MDR analysis, causing very slight differences between this document and one generated directly from the supplemental fitness defect scores (which contain the updated names)., Unnamed: 9, Unnamed: 10, Unnamed: 11, Unnamed: 12, Unnamed: 13, Unnamed: 14, Unnamed: 15, Unnamed: 16, Unnamed: 17, Unnamed: 18, Unnamed: 19, Unnamed: 20, Unnamed: 21, Unnamed: 22, Unnamed: 23, Unnamed: 24, Unnamed: 25, Unnamed: 26, Unnamed: 27, Unnamed: 28, Unnamed: 29, Unnamed: 30, Unnamed: 31, Unnamed: 32, Unnamed: 33, Unnamed: 34, Unnamed: 35, Unnamed: 36, Unnamed: 37, Unnamed: 38, Unnamed: 39, Unnamed: 40, Unnamed: 41, Unnamed: 42, Unnamed: 43, Unnamed: 44, Unnamed: 45, Unnamed: 46, Unnamed: 47, Unnamed: 48, Unnamed: 49, Unnamed: 50, Unnamed: 51, Unnamed: 52, Unnamed: 53, Unnamed: 54, Unnamed: 55, Unnamed: 56, Unnamed: 57, Unnamed: 58, Unnamed: 59, Unnamed: 60, Unnamed: 61, Unnamed: 62, Unnamed: 63, Unnamed: 64, Unnamed: 65, Unnamed: 66, Unnamed: 67, Unnamed: 68, Unnamed: 69, Unnamed: 70, Unnamed: 71, Unnamed: 72, Unnamed: 73, Unnamed: 74, Unnamed: 75, Unnamed: 76, Unnamed: 77, Unnamed: 78, Unnamed: 79, Unnamed: 80, Unnamed: 81, Unnamed: 82, Unnamed: 83, Unnamed: 84, Unnamed: 85, Unnamed: 86, Unnamed: 87, orf]\n",
      "Index: []\n",
      "\n",
      "[0 rows x 89 columns]\n"
     ]
    }
   ],
   "source": [
    "t = looks_like_orf(tested['orf'])\n",
    "print(tested.loc[~t,])"
   ]
  },
  {
   "cell_type": "code",
   "execution_count": 69,
   "metadata": {},
   "outputs": [],
   "source": [
    "tested_orfs = np.unique(tested['orf'].values)"
   ]
  },
  {
   "cell_type": "code",
   "execution_count": 70,
   "metadata": {},
   "outputs": [
    {
     "data": {
      "text/plain": [
       "['YCR095W-A',\n",
       " 'YGL024W',\n",
       " 'YGL173C',\n",
       " 'YHR141C',\n",
       " 'YKR004C',\n",
       " 'YMR231W',\n",
       " 'YNL153C',\n",
       " 'YNL170C',\n",
       " 'YPL249C-A',\n",
       " 'YPR141C',\n",
       " 'YGL007C-A',\n",
       " 'YGL188C-A',\n",
       " 'YHL015W-A',\n",
       " 'YNL037C',\n",
       " 'YOL145C']"
      ]
     },
     "execution_count": 70,
     "metadata": {},
     "output_type": "execute_result"
    }
   ],
   "source": [
    "missing = [orf for orf in original_data.index.values if orf not in tested_orfs]\n",
    "missing"
   ]
  },
  {
   "cell_type": "code",
   "execution_count": 71,
   "metadata": {},
   "outputs": [],
   "source": [
    "# Add the missing strains\n",
    "tested_orfs = list(tested_orfs) + missing"
   ]
  },
  {
   "cell_type": "code",
   "execution_count": 72,
   "metadata": {},
   "outputs": [],
   "source": [
    "original_data = original_data.reindex(index=tested_orfs, fill_value=0)"
   ]
  },
  {
   "cell_type": "markdown",
   "metadata": {},
   "source": [
    "# Prepare the final dataset"
   ]
  },
  {
   "cell_type": "code",
   "execution_count": 73,
   "metadata": {},
   "outputs": [],
   "source": [
    "data = original_data.copy()"
   ]
  },
  {
   "cell_type": "code",
   "execution_count": 74,
   "metadata": {},
   "outputs": [],
   "source": [
    "dataset_ids = [751, 752]\n",
    "datasets = datasets.reindex(index=dataset_ids)"
   ]
  },
  {
   "cell_type": "code",
   "execution_count": 75,
   "metadata": {},
   "outputs": [],
   "source": [
    "lst = [datasets.index.values, ['value']*datasets.shape[0]]\n",
    "tuples = list(zip(*lst))\n",
    "idx = pd.MultiIndex.from_tuples(tuples, names=['dataset_id','data_type'])\n",
    "data.columns = idx"
   ]
  },
  {
   "cell_type": "code",
   "execution_count": 76,
   "metadata": {},
   "outputs": [
    {
     "data": {
      "text/html": [
       "<div>\n",
       "<style scoped>\n",
       "    .dataframe tbody tr th:only-of-type {\n",
       "        vertical-align: middle;\n",
       "    }\n",
       "\n",
       "    .dataframe tbody tr th {\n",
       "        vertical-align: top;\n",
       "    }\n",
       "\n",
       "    .dataframe thead tr th {\n",
       "        text-align: left;\n",
       "    }\n",
       "\n",
       "    .dataframe thead tr:last-of-type th {\n",
       "        text-align: right;\n",
       "    }\n",
       "</style>\n",
       "<table border=\"1\" class=\"dataframe\">\n",
       "  <thead>\n",
       "    <tr>\n",
       "      <th>dataset_id</th>\n",
       "      <th>751</th>\n",
       "      <th>752</th>\n",
       "    </tr>\n",
       "    <tr>\n",
       "      <th>data_type</th>\n",
       "      <th>value</th>\n",
       "      <th>value</th>\n",
       "    </tr>\n",
       "    <tr>\n",
       "      <th>orf</th>\n",
       "      <th></th>\n",
       "      <th></th>\n",
       "    </tr>\n",
       "  </thead>\n",
       "  <tbody>\n",
       "    <tr>\n",
       "      <th>YAL002W</th>\n",
       "      <td>0.0</td>\n",
       "      <td>0.0</td>\n",
       "    </tr>\n",
       "    <tr>\n",
       "      <th>YAL004W</th>\n",
       "      <td>0.0</td>\n",
       "      <td>0.0</td>\n",
       "    </tr>\n",
       "    <tr>\n",
       "      <th>YAL005C</th>\n",
       "      <td>0.0</td>\n",
       "      <td>0.0</td>\n",
       "    </tr>\n",
       "    <tr>\n",
       "      <th>YAL007C</th>\n",
       "      <td>0.0</td>\n",
       "      <td>0.0</td>\n",
       "    </tr>\n",
       "    <tr>\n",
       "      <th>YAL008W</th>\n",
       "      <td>0.0</td>\n",
       "      <td>0.0</td>\n",
       "    </tr>\n",
       "  </tbody>\n",
       "</table>\n",
       "</div>"
      ],
      "text/plain": [
       "dataset_id   751   752\n",
       "data_type  value value\n",
       "orf                   \n",
       "YAL002W      0.0   0.0\n",
       "YAL004W      0.0   0.0\n",
       "YAL005C      0.0   0.0\n",
       "YAL007C      0.0   0.0\n",
       "YAL008W      0.0   0.0"
      ]
     },
     "execution_count": 76,
     "metadata": {},
     "output_type": "execute_result"
    }
   ],
   "source": [
    "data.head()"
   ]
  },
  {
   "cell_type": "markdown",
   "metadata": {},
   "source": [
    "## Subset to the genes currently in SGD"
   ]
  },
  {
   "cell_type": "code",
   "execution_count": 77,
   "metadata": {},
   "outputs": [
    {
     "name": "stdout",
     "output_type": "stream",
     "text": [
      "ORFs missing from SGD: 23\n"
     ]
    }
   ],
   "source": [
    "genes = pd.read_csv(path_to_genes, sep='\\t', index_col='id')\n",
    "genes = genes.reset_index().set_index('systematic_name')\n",
    "gene_ids = genes.reindex(index=data.index.values)['id'].values\n",
    "num_missing = np.sum(np.isnan(gene_ids))\n",
    "print('ORFs missing from SGD: %d' % num_missing)"
   ]
  },
  {
   "cell_type": "code",
   "execution_count": 78,
   "metadata": {},
   "outputs": [
    {
     "data": {
      "text/html": [
       "<div>\n",
       "<style scoped>\n",
       "    .dataframe tbody tr th:only-of-type {\n",
       "        vertical-align: middle;\n",
       "    }\n",
       "\n",
       "    .dataframe tbody tr th {\n",
       "        vertical-align: top;\n",
       "    }\n",
       "\n",
       "    .dataframe thead tr th {\n",
       "        text-align: left;\n",
       "    }\n",
       "\n",
       "    .dataframe thead tr:last-of-type th {\n",
       "        text-align: right;\n",
       "    }\n",
       "</style>\n",
       "<table border=\"1\" class=\"dataframe\">\n",
       "  <thead>\n",
       "    <tr>\n",
       "      <th></th>\n",
       "      <th>dataset_id</th>\n",
       "      <th>751</th>\n",
       "      <th>752</th>\n",
       "    </tr>\n",
       "    <tr>\n",
       "      <th></th>\n",
       "      <th>data_type</th>\n",
       "      <th>value</th>\n",
       "      <th>value</th>\n",
       "    </tr>\n",
       "    <tr>\n",
       "      <th>gene_id</th>\n",
       "      <th>orf</th>\n",
       "      <th></th>\n",
       "      <th></th>\n",
       "    </tr>\n",
       "  </thead>\n",
       "  <tbody>\n",
       "    <tr>\n",
       "      <th>2</th>\n",
       "      <th>YAL002W</th>\n",
       "      <td>0.0</td>\n",
       "      <td>0.0</td>\n",
       "    </tr>\n",
       "    <tr>\n",
       "      <th>1863</th>\n",
       "      <th>YAL004W</th>\n",
       "      <td>0.0</td>\n",
       "      <td>0.0</td>\n",
       "    </tr>\n",
       "    <tr>\n",
       "      <th>4</th>\n",
       "      <th>YAL005C</th>\n",
       "      <td>0.0</td>\n",
       "      <td>0.0</td>\n",
       "    </tr>\n",
       "    <tr>\n",
       "      <th>5</th>\n",
       "      <th>YAL007C</th>\n",
       "      <td>0.0</td>\n",
       "      <td>0.0</td>\n",
       "    </tr>\n",
       "    <tr>\n",
       "      <th>6</th>\n",
       "      <th>YAL008W</th>\n",
       "      <td>0.0</td>\n",
       "      <td>0.0</td>\n",
       "    </tr>\n",
       "  </tbody>\n",
       "</table>\n",
       "</div>"
      ],
      "text/plain": [
       "dataset_id        751   752\n",
       "data_type       value value\n",
       "gene_id orf                \n",
       "2       YAL002W   0.0   0.0\n",
       "1863    YAL004W   0.0   0.0\n",
       "4       YAL005C   0.0   0.0\n",
       "5       YAL007C   0.0   0.0\n",
       "6       YAL008W   0.0   0.0"
      ]
     },
     "execution_count": 78,
     "metadata": {},
     "output_type": "execute_result"
    }
   ],
   "source": [
    "data['gene_id'] = gene_ids\n",
    "data = data.loc[data['gene_id'].notnull()]\n",
    "data['gene_id'] = data['gene_id'].astype(int)\n",
    "data = data.reset_index().set_index(['gene_id','orf'])\n",
    "\n",
    "data.head()"
   ]
  },
  {
   "cell_type": "markdown",
   "metadata": {},
   "source": [
    "# Normalize"
   ]
  },
  {
   "cell_type": "code",
   "execution_count": 79,
   "metadata": {},
   "outputs": [],
   "source": [
    "data_norm = normalize_phenotypic_scores(data, has_tested=True)"
   ]
  },
  {
   "cell_type": "code",
   "execution_count": 80,
   "metadata": {},
   "outputs": [],
   "source": [
    "# Assign proper column names\n",
    "lst = [datasets.index.values, ['valuez']*datasets.shape[0]]\n",
    "tuples = list(zip(*lst))\n",
    "idx = pd.MultiIndex.from_tuples(tuples, names=['dataset_id','data_type'])\n",
    "data_norm.columns = idx"
   ]
  },
  {
   "cell_type": "code",
   "execution_count": 81,
   "metadata": {},
   "outputs": [
    {
     "data": {
      "text/html": [
       "<div>\n",
       "<style scoped>\n",
       "    .dataframe tbody tr th:only-of-type {\n",
       "        vertical-align: middle;\n",
       "    }\n",
       "\n",
       "    .dataframe tbody tr th {\n",
       "        vertical-align: top;\n",
       "    }\n",
       "\n",
       "    .dataframe thead tr th {\n",
       "        text-align: left;\n",
       "    }\n",
       "\n",
       "    .dataframe thead tr:last-of-type th {\n",
       "        text-align: right;\n",
       "    }\n",
       "</style>\n",
       "<table border=\"1\" class=\"dataframe\">\n",
       "  <thead>\n",
       "    <tr>\n",
       "      <th></th>\n",
       "      <th>dataset_id</th>\n",
       "      <th>751</th>\n",
       "      <th>752</th>\n",
       "      <th>751</th>\n",
       "      <th>752</th>\n",
       "    </tr>\n",
       "    <tr>\n",
       "      <th></th>\n",
       "      <th>data_type</th>\n",
       "      <th>value</th>\n",
       "      <th>value</th>\n",
       "      <th>valuez</th>\n",
       "      <th>valuez</th>\n",
       "    </tr>\n",
       "    <tr>\n",
       "      <th>gene_id</th>\n",
       "      <th>orf</th>\n",
       "      <th></th>\n",
       "      <th></th>\n",
       "      <th></th>\n",
       "      <th></th>\n",
       "    </tr>\n",
       "  </thead>\n",
       "  <tbody>\n",
       "    <tr>\n",
       "      <th>2</th>\n",
       "      <th>YAL002W</th>\n",
       "      <td>0.0</td>\n",
       "      <td>0.0</td>\n",
       "      <td>0.0</td>\n",
       "      <td>0.0</td>\n",
       "    </tr>\n",
       "    <tr>\n",
       "      <th>1863</th>\n",
       "      <th>YAL004W</th>\n",
       "      <td>0.0</td>\n",
       "      <td>0.0</td>\n",
       "      <td>0.0</td>\n",
       "      <td>0.0</td>\n",
       "    </tr>\n",
       "    <tr>\n",
       "      <th>4</th>\n",
       "      <th>YAL005C</th>\n",
       "      <td>0.0</td>\n",
       "      <td>0.0</td>\n",
       "      <td>0.0</td>\n",
       "      <td>0.0</td>\n",
       "    </tr>\n",
       "    <tr>\n",
       "      <th>5</th>\n",
       "      <th>YAL007C</th>\n",
       "      <td>0.0</td>\n",
       "      <td>0.0</td>\n",
       "      <td>0.0</td>\n",
       "      <td>0.0</td>\n",
       "    </tr>\n",
       "    <tr>\n",
       "      <th>6</th>\n",
       "      <th>YAL008W</th>\n",
       "      <td>0.0</td>\n",
       "      <td>0.0</td>\n",
       "      <td>0.0</td>\n",
       "      <td>0.0</td>\n",
       "    </tr>\n",
       "  </tbody>\n",
       "</table>\n",
       "</div>"
      ],
      "text/plain": [
       "dataset_id        751   752    751    752\n",
       "data_type       value value valuez valuez\n",
       "gene_id orf                              \n",
       "2       YAL002W   0.0   0.0    0.0    0.0\n",
       "1863    YAL004W   0.0   0.0    0.0    0.0\n",
       "4       YAL005C   0.0   0.0    0.0    0.0\n",
       "5       YAL007C   0.0   0.0    0.0    0.0\n",
       "6       YAL008W   0.0   0.0    0.0    0.0"
      ]
     },
     "execution_count": 81,
     "metadata": {},
     "output_type": "execute_result"
    }
   ],
   "source": [
    "data_norm[data.isnull()] = np.nan\n",
    "data_all = data.join(data_norm)\n",
    "\n",
    "data_all.head()"
   ]
  },
  {
   "cell_type": "markdown",
   "metadata": {},
   "source": [
    "# Print out"
   ]
  },
  {
   "cell_type": "code",
   "execution_count": 82,
   "metadata": {},
   "outputs": [],
   "source": [
    "for f in ['value','valuez']:\n",
    "    df = data_all.xs(f, level='data_type', axis=1).copy()\n",
    "    df.columns = datasets['name'].values\n",
    "    df = df.droplevel('gene_id', axis=0)\n",
    "    df.to_csv(paper_name + '_' + f + '.txt', sep='\\t')"
   ]
  },
  {
   "cell_type": "markdown",
   "metadata": {},
   "source": [
    "# Save to DB"
   ]
  },
  {
   "cell_type": "code",
   "execution_count": 83,
   "metadata": {},
   "outputs": [],
   "source": [
    "from IO.save_data_to_db3 import *"
   ]
  },
  {
   "cell_type": "code",
   "execution_count": 84,
   "metadata": {},
   "outputs": [
    {
     "name": "stderr",
     "output_type": "stream",
     "text": [
      "  0%|          | 0/2 [00:00<?, ?it/s]"
     ]
    },
    {
     "name": "stdout",
     "output_type": "stream",
     "text": [
      "Deleting all datasets for PMID 25287021...\n",
      "Inserting the new data...\n"
     ]
    },
    {
     "name": "stderr",
     "output_type": "stream",
     "text": [
      "100%|██████████| 2/2 [00:15<00:00,  7.55s/it]"
     ]
    },
    {
     "name": "stdout",
     "output_type": "stream",
     "text": [
      "Updating the data_modified_on field...\n"
     ]
    },
    {
     "name": "stderr",
     "output_type": "stream",
     "text": [
      "\n"
     ]
    }
   ],
   "source": [
    "save_data_to_db(data_all, paper_pmid)"
   ]
  },
  {
   "cell_type": "code",
   "execution_count": null,
   "metadata": {},
   "outputs": [],
   "source": []
  }
 ],
 "metadata": {
  "kernelspec": {
   "display_name": "yp-data",
   "language": "python",
   "name": "yp-data"
  },
  "language_info": {
   "codemirror_mode": {
    "name": "ipython",
    "version": 3
   },
   "file_extension": ".py",
   "mimetype": "text/x-python",
   "name": "python",
   "nbconvert_exporter": "python",
   "pygments_lexer": "ipython3",
   "version": "3.7.7"
  }
 },
 "nbformat": 4,
 "nbformat_minor": 4
}
