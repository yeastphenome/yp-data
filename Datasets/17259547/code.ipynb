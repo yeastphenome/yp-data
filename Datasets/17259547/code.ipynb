{
 "cells": [
  {
   "cell_type": "code",
   "execution_count": 1,
   "metadata": {},
   "outputs": [],
   "source": [
    "%run ../yp_utils.py"
   ]
  },
  {
   "cell_type": "markdown",
   "metadata": {},
   "source": [
    "# Initial setup"
   ]
  },
  {
   "cell_type": "code",
   "execution_count": 2,
   "metadata": {},
   "outputs": [],
   "source": [
    "paper_pmid = 17259547\n",
    "paper_name = 'zakrzewska_klis_2007' "
   ]
  },
  {
   "cell_type": "code",
   "execution_count": 3,
   "metadata": {},
   "outputs": [],
   "source": [
    "datasets = pd.read_csv('extras/YeastPhenome_' + str(paper_pmid) + '_datasets_list.txt', sep='\\t', header=None, names=['dataset_id', 'name'])"
   ]
  },
  {
   "cell_type": "code",
   "execution_count": 4,
   "metadata": {},
   "outputs": [],
   "source": [
    "datasets.set_index('dataset_id', inplace=True)"
   ]
  },
  {
   "cell_type": "markdown",
   "metadata": {},
   "source": [
    "# Load & process the data"
   ]
  },
  {
   "cell_type": "code",
   "execution_count": 5,
   "metadata": {},
   "outputs": [],
   "source": [
    "sheets = ['5h_non-essential','5h_essential','9h_non-essential','9h_essential']"
   ]
  },
  {
   "cell_type": "code",
   "execution_count": 7,
   "metadata": {},
   "outputs": [
    {
     "name": "stdout",
     "output_type": "stream",
     "text": [
      "Original data dimensions: 4587 x 2\n",
      "  ORF NAME  log2 ratio after a 5-h exposure to chitosan\n",
      "0  YBR274W                                     9.574846\n",
      "1  YJR118C                                     7.642990\n",
      "2  YGR272C                                     6.910552\n",
      "3  YGL084C                                     6.465861\n",
      "4  YGR165W                                     6.313246\n",
      "Empty DataFrame\n",
      "Columns: [ORF NAME, log2 ratio after a 5-h exposure to chitosan, orf]\n",
      "Index: []\n",
      "(4527, 1)\n",
      "Original data dimensions: 1073 x 2\n",
      "  ORF NAME  log2 ratio after a 5-h exposure to chitosan\n",
      "0  YCL003W                                     1.458425\n",
      "1  YDL007W                                     1.382834\n",
      "2  YBR029C                                     1.335235\n",
      "3  YFL002C                                     1.288893\n",
      "4  YGR046W                                     1.155988\n",
      "Empty DataFrame\n",
      "Columns: [ORF NAME, log2 ratio after a 5-h exposure to chitosan, orf]\n",
      "Index: []\n",
      "(1071, 1)\n",
      "Original data dimensions: 4558 x 2\n",
      "  ORF NAME  log2 ratio after a 9-h exposure to chitosan\n",
      "0  YMR188C                                     9.390668\n",
      "1  YGL058W                                     7.925999\n",
      "2  YDR200C                                     6.637060\n",
      "3  YLR268W                                     5.727833\n",
      "4  YPR139C                                     5.483329\n",
      "Empty DataFrame\n",
      "Columns: [ORF NAME, log2 ratio after a 9-h exposure to chitosan, orf]\n",
      "Index: []\n",
      "(4498, 1)\n",
      "Original data dimensions: 1070 x 2\n",
      "  ORF NAME  log2 ratio after a 9-h exposure to chitosan\n",
      "0  YDL007W                                     1.753704\n",
      "1  YOR319W                                     1.697323\n",
      "2  YOR340C                                     1.688822\n",
      "3  YLR103C                                     1.554945\n",
      "4  YNL026W                                     1.483457\n",
      "Empty DataFrame\n",
      "Columns: [ORF NAME, log2 ratio after a 9-h exposure to chitosan, orf]\n",
      "Index: []\n",
      "(1068, 1)\n"
     ]
    }
   ],
   "source": [
    "original_data_list = []\n",
    "for s in sheets:\n",
    "    original_data = pd.read_excel('raw_data/SD1.xlsx', sheet_name=s)\n",
    "    print('Original data dimensions: %d x %d' % (original_data.shape))\n",
    "    print(original_data.head())\n",
    "    original_data['orf'] = original_data['ORF NAME'].astype(str)\n",
    "    original_data['orf'] = clean_orf(original_data['orf'])\n",
    "    original_data['orf'] = translate_sc(original_data['orf'], to='orf')\n",
    "    t = looks_like_orf(original_data['orf'])\n",
    "    print(original_data.loc[~t,])\n",
    "    original_data['data'] = pd.to_numeric(original_data.iloc[:,1], errors='coerce')\n",
    "    original_data.set_index('orf', inplace=True)\n",
    "    original_data = original_data[['data']].copy()\n",
    "    original_data = original_data.groupby(original_data.index).mean()\n",
    "    \n",
    "    print(original_data.shape)\n",
    "    original_data_list.append(original_data)"
   ]
  },
  {
   "cell_type": "code",
   "execution_count": 8,
   "metadata": {},
   "outputs": [],
   "source": [
    "original_data = pd.concat(original_data_list, axis=1)"
   ]
  },
  {
   "cell_type": "code",
   "execution_count": 11,
   "metadata": {},
   "outputs": [],
   "source": [
    "original_data.index.name='orf'"
   ]
  },
  {
   "cell_type": "code",
   "execution_count": 12,
   "metadata": {},
   "outputs": [
    {
     "data": {
      "text/html": [
       "<div>\n",
       "<style scoped>\n",
       "    .dataframe tbody tr th:only-of-type {\n",
       "        vertical-align: middle;\n",
       "    }\n",
       "\n",
       "    .dataframe tbody tr th {\n",
       "        vertical-align: top;\n",
       "    }\n",
       "\n",
       "    .dataframe thead th {\n",
       "        text-align: right;\n",
       "    }\n",
       "</style>\n",
       "<table border=\"1\" class=\"dataframe\">\n",
       "  <thead>\n",
       "    <tr style=\"text-align: right;\">\n",
       "      <th></th>\n",
       "      <th>data</th>\n",
       "      <th>data</th>\n",
       "      <th>data</th>\n",
       "      <th>data</th>\n",
       "    </tr>\n",
       "    <tr>\n",
       "      <th>orf</th>\n",
       "      <th></th>\n",
       "      <th></th>\n",
       "      <th></th>\n",
       "      <th></th>\n",
       "    </tr>\n",
       "  </thead>\n",
       "  <tbody>\n",
       "    <tr>\n",
       "      <th>YAL002W</th>\n",
       "      <td>0.831695</td>\n",
       "      <td>NaN</td>\n",
       "      <td>0.908913</td>\n",
       "      <td>NaN</td>\n",
       "    </tr>\n",
       "    <tr>\n",
       "      <th>YAL004W</th>\n",
       "      <td>0.093487</td>\n",
       "      <td>NaN</td>\n",
       "      <td>-0.125043</td>\n",
       "      <td>NaN</td>\n",
       "    </tr>\n",
       "    <tr>\n",
       "      <th>YAL005C</th>\n",
       "      <td>0.361769</td>\n",
       "      <td>NaN</td>\n",
       "      <td>-0.170290</td>\n",
       "      <td>NaN</td>\n",
       "    </tr>\n",
       "    <tr>\n",
       "      <th>YAL007C</th>\n",
       "      <td>0.161059</td>\n",
       "      <td>NaN</td>\n",
       "      <td>0.068949</td>\n",
       "      <td>NaN</td>\n",
       "    </tr>\n",
       "    <tr>\n",
       "      <th>YAL008W</th>\n",
       "      <td>0.016272</td>\n",
       "      <td>NaN</td>\n",
       "      <td>0.067879</td>\n",
       "      <td>NaN</td>\n",
       "    </tr>\n",
       "  </tbody>\n",
       "</table>\n",
       "</div>"
      ],
      "text/plain": [
       "             data  data      data  data\n",
       "orf                                    \n",
       "YAL002W  0.831695   NaN  0.908913   NaN\n",
       "YAL004W  0.093487   NaN -0.125043   NaN\n",
       "YAL005C  0.361769   NaN -0.170290   NaN\n",
       "YAL007C  0.161059   NaN  0.068949   NaN\n",
       "YAL008W  0.016272   NaN  0.067879   NaN"
      ]
     },
     "execution_count": 12,
     "metadata": {},
     "output_type": "execute_result"
    }
   ],
   "source": [
    "original_data.head()"
   ]
  },
  {
   "cell_type": "code",
   "execution_count": 13,
   "metadata": {},
   "outputs": [
    {
     "data": {
      "text/plain": [
       "(5616, 4)"
      ]
     },
     "execution_count": 13,
     "metadata": {},
     "output_type": "execute_result"
    }
   ],
   "source": [
    "original_data.shape"
   ]
  },
  {
   "cell_type": "markdown",
   "metadata": {},
   "source": [
    "# Prepare the final dataset"
   ]
  },
  {
   "cell_type": "code",
   "execution_count": 14,
   "metadata": {},
   "outputs": [],
   "source": [
    "data = original_data.copy()"
   ]
  },
  {
   "cell_type": "code",
   "execution_count": 15,
   "metadata": {},
   "outputs": [],
   "source": [
    "dataset_ids = [605, 5291, 5292, 5293]\n",
    "datasets = datasets.reindex(index=dataset_ids)"
   ]
  },
  {
   "cell_type": "code",
   "execution_count": 16,
   "metadata": {},
   "outputs": [],
   "source": [
    "lst = [datasets.index.values, ['value']*datasets.shape[0]]\n",
    "tuples = list(zip(*lst))\n",
    "idx = pd.MultiIndex.from_tuples(tuples, names=['dataset_id','data_type'])\n",
    "data.columns = idx"
   ]
  },
  {
   "cell_type": "code",
   "execution_count": 17,
   "metadata": {},
   "outputs": [
    {
     "data": {
      "text/html": [
       "<div>\n",
       "<style scoped>\n",
       "    .dataframe tbody tr th:only-of-type {\n",
       "        vertical-align: middle;\n",
       "    }\n",
       "\n",
       "    .dataframe tbody tr th {\n",
       "        vertical-align: top;\n",
       "    }\n",
       "\n",
       "    .dataframe thead tr th {\n",
       "        text-align: left;\n",
       "    }\n",
       "\n",
       "    .dataframe thead tr:last-of-type th {\n",
       "        text-align: right;\n",
       "    }\n",
       "</style>\n",
       "<table border=\"1\" class=\"dataframe\">\n",
       "  <thead>\n",
       "    <tr>\n",
       "      <th>dataset_id</th>\n",
       "      <th>605</th>\n",
       "      <th>5291</th>\n",
       "      <th>5292</th>\n",
       "      <th>5293</th>\n",
       "    </tr>\n",
       "    <tr>\n",
       "      <th>data_type</th>\n",
       "      <th>value</th>\n",
       "      <th>value</th>\n",
       "      <th>value</th>\n",
       "      <th>value</th>\n",
       "    </tr>\n",
       "    <tr>\n",
       "      <th>orf</th>\n",
       "      <th></th>\n",
       "      <th></th>\n",
       "      <th></th>\n",
       "      <th></th>\n",
       "    </tr>\n",
       "  </thead>\n",
       "  <tbody>\n",
       "    <tr>\n",
       "      <th>YAL002W</th>\n",
       "      <td>0.831695</td>\n",
       "      <td>NaN</td>\n",
       "      <td>0.908913</td>\n",
       "      <td>NaN</td>\n",
       "    </tr>\n",
       "    <tr>\n",
       "      <th>YAL004W</th>\n",
       "      <td>0.093487</td>\n",
       "      <td>NaN</td>\n",
       "      <td>-0.125043</td>\n",
       "      <td>NaN</td>\n",
       "    </tr>\n",
       "    <tr>\n",
       "      <th>YAL005C</th>\n",
       "      <td>0.361769</td>\n",
       "      <td>NaN</td>\n",
       "      <td>-0.170290</td>\n",
       "      <td>NaN</td>\n",
       "    </tr>\n",
       "    <tr>\n",
       "      <th>YAL007C</th>\n",
       "      <td>0.161059</td>\n",
       "      <td>NaN</td>\n",
       "      <td>0.068949</td>\n",
       "      <td>NaN</td>\n",
       "    </tr>\n",
       "    <tr>\n",
       "      <th>YAL008W</th>\n",
       "      <td>0.016272</td>\n",
       "      <td>NaN</td>\n",
       "      <td>0.067879</td>\n",
       "      <td>NaN</td>\n",
       "    </tr>\n",
       "  </tbody>\n",
       "</table>\n",
       "</div>"
      ],
      "text/plain": [
       "dataset_id      605   5291      5292  5293\n",
       "data_type      value value     value value\n",
       "orf                                       \n",
       "YAL002W     0.831695   NaN  0.908913   NaN\n",
       "YAL004W     0.093487   NaN -0.125043   NaN\n",
       "YAL005C     0.361769   NaN -0.170290   NaN\n",
       "YAL007C     0.161059   NaN  0.068949   NaN\n",
       "YAL008W     0.016272   NaN  0.067879   NaN"
      ]
     },
     "execution_count": 17,
     "metadata": {},
     "output_type": "execute_result"
    }
   ],
   "source": [
    "data.head()"
   ]
  },
  {
   "cell_type": "markdown",
   "metadata": {},
   "source": [
    "## Subset to the genes currently in SGD"
   ]
  },
  {
   "cell_type": "code",
   "execution_count": 18,
   "metadata": {},
   "outputs": [
    {
     "name": "stdout",
     "output_type": "stream",
     "text": [
      "ORFs missing from SGD: 24\n"
     ]
    }
   ],
   "source": [
    "genes = pd.read_csv(path_to_genes, sep='\\t', index_col='id')\n",
    "genes = genes.reset_index().set_index('systematic_name')\n",
    "gene_ids = genes.reindex(index=data.index.values)['id'].values\n",
    "num_missing = np.sum(np.isnan(gene_ids))\n",
    "print('ORFs missing from SGD: %d' % num_missing)"
   ]
  },
  {
   "cell_type": "code",
   "execution_count": 19,
   "metadata": {},
   "outputs": [
    {
     "data": {
      "text/html": [
       "<div>\n",
       "<style scoped>\n",
       "    .dataframe tbody tr th:only-of-type {\n",
       "        vertical-align: middle;\n",
       "    }\n",
       "\n",
       "    .dataframe tbody tr th {\n",
       "        vertical-align: top;\n",
       "    }\n",
       "\n",
       "    .dataframe thead tr th {\n",
       "        text-align: left;\n",
       "    }\n",
       "\n",
       "    .dataframe thead tr:last-of-type th {\n",
       "        text-align: right;\n",
       "    }\n",
       "</style>\n",
       "<table border=\"1\" class=\"dataframe\">\n",
       "  <thead>\n",
       "    <tr>\n",
       "      <th></th>\n",
       "      <th>dataset_id</th>\n",
       "      <th>605</th>\n",
       "      <th>5291</th>\n",
       "      <th>5292</th>\n",
       "      <th>5293</th>\n",
       "    </tr>\n",
       "    <tr>\n",
       "      <th></th>\n",
       "      <th>data_type</th>\n",
       "      <th>value</th>\n",
       "      <th>value</th>\n",
       "      <th>value</th>\n",
       "      <th>value</th>\n",
       "    </tr>\n",
       "    <tr>\n",
       "      <th>gene_id</th>\n",
       "      <th>orf</th>\n",
       "      <th></th>\n",
       "      <th></th>\n",
       "      <th></th>\n",
       "      <th></th>\n",
       "    </tr>\n",
       "  </thead>\n",
       "  <tbody>\n",
       "    <tr>\n",
       "      <th>2</th>\n",
       "      <th>YAL002W</th>\n",
       "      <td>0.831695</td>\n",
       "      <td>NaN</td>\n",
       "      <td>0.908913</td>\n",
       "      <td>NaN</td>\n",
       "    </tr>\n",
       "    <tr>\n",
       "      <th>1863</th>\n",
       "      <th>YAL004W</th>\n",
       "      <td>0.093487</td>\n",
       "      <td>NaN</td>\n",
       "      <td>-0.125043</td>\n",
       "      <td>NaN</td>\n",
       "    </tr>\n",
       "    <tr>\n",
       "      <th>4</th>\n",
       "      <th>YAL005C</th>\n",
       "      <td>0.361769</td>\n",
       "      <td>NaN</td>\n",
       "      <td>-0.170290</td>\n",
       "      <td>NaN</td>\n",
       "    </tr>\n",
       "    <tr>\n",
       "      <th>5</th>\n",
       "      <th>YAL007C</th>\n",
       "      <td>0.161059</td>\n",
       "      <td>NaN</td>\n",
       "      <td>0.068949</td>\n",
       "      <td>NaN</td>\n",
       "    </tr>\n",
       "    <tr>\n",
       "      <th>6</th>\n",
       "      <th>YAL008W</th>\n",
       "      <td>0.016272</td>\n",
       "      <td>NaN</td>\n",
       "      <td>0.067879</td>\n",
       "      <td>NaN</td>\n",
       "    </tr>\n",
       "  </tbody>\n",
       "</table>\n",
       "</div>"
      ],
      "text/plain": [
       "dataset_id           605   5291      5292  5293\n",
       "data_type           value value     value value\n",
       "gene_id orf                                    \n",
       "2       YAL002W  0.831695   NaN  0.908913   NaN\n",
       "1863    YAL004W  0.093487   NaN -0.125043   NaN\n",
       "4       YAL005C  0.361769   NaN -0.170290   NaN\n",
       "5       YAL007C  0.161059   NaN  0.068949   NaN\n",
       "6       YAL008W  0.016272   NaN  0.067879   NaN"
      ]
     },
     "execution_count": 19,
     "metadata": {},
     "output_type": "execute_result"
    }
   ],
   "source": [
    "data['gene_id'] = gene_ids\n",
    "data = data.loc[data['gene_id'].notnull()]\n",
    "data['gene_id'] = data['gene_id'].astype(int)\n",
    "data = data.reset_index().set_index(['gene_id','orf'])\n",
    "\n",
    "data.head()"
   ]
  },
  {
   "cell_type": "markdown",
   "metadata": {},
   "source": [
    "# Normalize"
   ]
  },
  {
   "cell_type": "code",
   "execution_count": 20,
   "metadata": {},
   "outputs": [],
   "source": [
    "data_norm = normalize_phenotypic_scores(data, has_tested=True)"
   ]
  },
  {
   "cell_type": "code",
   "execution_count": 21,
   "metadata": {},
   "outputs": [],
   "source": [
    "# Assign proper column names\n",
    "lst = [datasets.index.values, ['valuez']*datasets.shape[0]]\n",
    "tuples = list(zip(*lst))\n",
    "idx = pd.MultiIndex.from_tuples(tuples, names=['dataset_id','data_type'])\n",
    "data_norm.columns = idx"
   ]
  },
  {
   "cell_type": "code",
   "execution_count": 22,
   "metadata": {},
   "outputs": [
    {
     "data": {
      "text/html": [
       "<div>\n",
       "<style scoped>\n",
       "    .dataframe tbody tr th:only-of-type {\n",
       "        vertical-align: middle;\n",
       "    }\n",
       "\n",
       "    .dataframe tbody tr th {\n",
       "        vertical-align: top;\n",
       "    }\n",
       "\n",
       "    .dataframe thead tr th {\n",
       "        text-align: left;\n",
       "    }\n",
       "\n",
       "    .dataframe thead tr:last-of-type th {\n",
       "        text-align: right;\n",
       "    }\n",
       "</style>\n",
       "<table border=\"1\" class=\"dataframe\">\n",
       "  <thead>\n",
       "    <tr>\n",
       "      <th></th>\n",
       "      <th>dataset_id</th>\n",
       "      <th>605</th>\n",
       "      <th>5291</th>\n",
       "      <th>5292</th>\n",
       "      <th>5293</th>\n",
       "      <th>605</th>\n",
       "      <th>5291</th>\n",
       "      <th>5292</th>\n",
       "      <th>5293</th>\n",
       "    </tr>\n",
       "    <tr>\n",
       "      <th></th>\n",
       "      <th>data_type</th>\n",
       "      <th>value</th>\n",
       "      <th>value</th>\n",
       "      <th>value</th>\n",
       "      <th>value</th>\n",
       "      <th>valuez</th>\n",
       "      <th>valuez</th>\n",
       "      <th>valuez</th>\n",
       "      <th>valuez</th>\n",
       "    </tr>\n",
       "    <tr>\n",
       "      <th>gene_id</th>\n",
       "      <th>orf</th>\n",
       "      <th></th>\n",
       "      <th></th>\n",
       "      <th></th>\n",
       "      <th></th>\n",
       "      <th></th>\n",
       "      <th></th>\n",
       "      <th></th>\n",
       "      <th></th>\n",
       "    </tr>\n",
       "  </thead>\n",
       "  <tbody>\n",
       "    <tr>\n",
       "      <th>2</th>\n",
       "      <th>YAL002W</th>\n",
       "      <td>0.831695</td>\n",
       "      <td>NaN</td>\n",
       "      <td>0.908913</td>\n",
       "      <td>NaN</td>\n",
       "      <td>1.509686</td>\n",
       "      <td>NaN</td>\n",
       "      <td>1.326076</td>\n",
       "      <td>NaN</td>\n",
       "    </tr>\n",
       "    <tr>\n",
       "      <th>1863</th>\n",
       "      <th>YAL004W</th>\n",
       "      <td>0.093487</td>\n",
       "      <td>NaN</td>\n",
       "      <td>-0.125043</td>\n",
       "      <td>NaN</td>\n",
       "      <td>0.121073</td>\n",
       "      <td>NaN</td>\n",
       "      <td>-0.222719</td>\n",
       "      <td>NaN</td>\n",
       "    </tr>\n",
       "    <tr>\n",
       "      <th>4</th>\n",
       "      <th>YAL005C</th>\n",
       "      <td>0.361769</td>\n",
       "      <td>NaN</td>\n",
       "      <td>-0.170290</td>\n",
       "      <td>NaN</td>\n",
       "      <td>0.625728</td>\n",
       "      <td>NaN</td>\n",
       "      <td>-0.290495</td>\n",
       "      <td>NaN</td>\n",
       "    </tr>\n",
       "    <tr>\n",
       "      <th>5</th>\n",
       "      <th>YAL007C</th>\n",
       "      <td>0.161059</td>\n",
       "      <td>NaN</td>\n",
       "      <td>0.068949</td>\n",
       "      <td>NaN</td>\n",
       "      <td>0.248181</td>\n",
       "      <td>NaN</td>\n",
       "      <td>0.067869</td>\n",
       "      <td>NaN</td>\n",
       "    </tr>\n",
       "    <tr>\n",
       "      <th>6</th>\n",
       "      <th>YAL008W</th>\n",
       "      <td>0.016272</td>\n",
       "      <td>NaN</td>\n",
       "      <td>0.067879</td>\n",
       "      <td>NaN</td>\n",
       "      <td>-0.024173</td>\n",
       "      <td>NaN</td>\n",
       "      <td>0.066265</td>\n",
       "      <td>NaN</td>\n",
       "    </tr>\n",
       "  </tbody>\n",
       "</table>\n",
       "</div>"
      ],
      "text/plain": [
       "dataset_id           605   5291      5292  5293      605    5291      5292  \\\n",
       "data_type           value value     value value    valuez valuez    valuez   \n",
       "gene_id orf                                                                  \n",
       "2       YAL002W  0.831695   NaN  0.908913   NaN  1.509686    NaN  1.326076   \n",
       "1863    YAL004W  0.093487   NaN -0.125043   NaN  0.121073    NaN -0.222719   \n",
       "4       YAL005C  0.361769   NaN -0.170290   NaN  0.625728    NaN -0.290495   \n",
       "5       YAL007C  0.161059   NaN  0.068949   NaN  0.248181    NaN  0.067869   \n",
       "6       YAL008W  0.016272   NaN  0.067879   NaN -0.024173    NaN  0.066265   \n",
       "\n",
       "dataset_id        5293  \n",
       "data_type       valuez  \n",
       "gene_id orf             \n",
       "2       YAL002W    NaN  \n",
       "1863    YAL004W    NaN  \n",
       "4       YAL005C    NaN  \n",
       "5       YAL007C    NaN  \n",
       "6       YAL008W    NaN  "
      ]
     },
     "execution_count": 22,
     "metadata": {},
     "output_type": "execute_result"
    }
   ],
   "source": [
    "data_norm[data.isnull()] = np.nan\n",
    "data_all = data.join(data_norm)\n",
    "\n",
    "data_all.head()"
   ]
  },
  {
   "cell_type": "markdown",
   "metadata": {},
   "source": [
    "# Print out"
   ]
  },
  {
   "cell_type": "code",
   "execution_count": 23,
   "metadata": {},
   "outputs": [],
   "source": [
    "for f in ['value','valuez']:\n",
    "    df = data_all.xs(f, level='data_type', axis=1).copy()\n",
    "    df.columns = datasets['name'].values\n",
    "    df = df.droplevel('gene_id', axis=0)\n",
    "    df.to_csv(paper_name + '_' + f + '.txt', sep='\\t')"
   ]
  },
  {
   "cell_type": "markdown",
   "metadata": {},
   "source": [
    "# Save to DB"
   ]
  },
  {
   "cell_type": "code",
   "execution_count": 24,
   "metadata": {},
   "outputs": [],
   "source": [
    "from IO.save_data_to_db3 import *"
   ]
  },
  {
   "cell_type": "code",
   "execution_count": 25,
   "metadata": {},
   "outputs": [
    {
     "name": "stderr",
     "output_type": "stream",
     "text": [
      "  0%|          | 0/4 [00:00<?, ?it/s]"
     ]
    },
    {
     "name": "stdout",
     "output_type": "stream",
     "text": [
      "Deleting all datasets for PMID 17259547...\n",
      "Inserting the new data...\n"
     ]
    },
    {
     "name": "stderr",
     "output_type": "stream",
     "text": [
      "100%|██████████| 4/4 [00:29<00:00,  7.29s/it]"
     ]
    },
    {
     "name": "stdout",
     "output_type": "stream",
     "text": [
      "Updating the data_modified_on field...\n"
     ]
    },
    {
     "name": "stderr",
     "output_type": "stream",
     "text": [
      "\n"
     ]
    }
   ],
   "source": [
    "save_data_to_db(data_all, paper_pmid)"
   ]
  },
  {
   "cell_type": "code",
   "execution_count": null,
   "metadata": {},
   "outputs": [],
   "source": []
  }
 ],
 "metadata": {
  "kernelspec": {
   "display_name": "yp-data",
   "language": "python",
   "name": "yp-data"
  },
  "language_info": {
   "codemirror_mode": {
    "name": "ipython",
    "version": 3
   },
   "file_extension": ".py",
   "mimetype": "text/x-python",
   "name": "python",
   "nbconvert_exporter": "python",
   "pygments_lexer": "ipython3",
   "version": "3.7.7"
  }
 },
 "nbformat": 4,
 "nbformat_minor": 4
}
