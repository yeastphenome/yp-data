{
 "cells": [
  {
   "cell_type": "code",
   "execution_count": 1,
   "metadata": {},
   "outputs": [],
   "source": [
    "%run ../yp_utils.py"
   ]
  },
  {
   "cell_type": "markdown",
   "metadata": {},
   "source": [
    "# Initial setup"
   ]
  },
  {
   "cell_type": "code",
   "execution_count": 2,
   "metadata": {},
   "outputs": [],
   "source": [
    "paper_pmid = 14676322\n",
    "paper_name = 'warringer_blomberg_2003' "
   ]
  },
  {
   "cell_type": "code",
   "execution_count": 3,
   "metadata": {},
   "outputs": [],
   "source": [
    "datasets = pd.read_csv('extras/YeastPhenome_' + str(paper_pmid) + '_datasets_list.txt', sep='\\t', header=None, names=['dataset_id', 'name'])"
   ]
  },
  {
   "cell_type": "code",
   "execution_count": 4,
   "metadata": {},
   "outputs": [],
   "source": [
    "datasets.set_index('dataset_id', inplace=True)"
   ]
  },
  {
   "cell_type": "markdown",
   "metadata": {},
   "source": [
    "# Load & process the data"
   ]
  },
  {
   "cell_type": "code",
   "execution_count": 8,
   "metadata": {},
   "outputs": [],
   "source": [
    "original_data = pd.read_excel('raw_data/LPI NaCl.xlsx', sheet_name='LPI', skiprows=3)"
   ]
  },
  {
   "cell_type": "code",
   "execution_count": 9,
   "metadata": {},
   "outputs": [
    {
     "name": "stdout",
     "output_type": "stream",
     "text": [
      "Original data dimensions: 4712 x 7\n"
     ]
    }
   ],
   "source": [
    "print('Original data dimensions: %d x %d' % (original_data.shape))"
   ]
  },
  {
   "cell_type": "code",
   "execution_count": 10,
   "metadata": {},
   "outputs": [
    {
     "data": {
      "text/html": [
       "<div>\n",
       "<style scoped>\n",
       "    .dataframe tbody tr th:only-of-type {\n",
       "        vertical-align: middle;\n",
       "    }\n",
       "\n",
       "    .dataframe tbody tr th {\n",
       "        vertical-align: top;\n",
       "    }\n",
       "\n",
       "    .dataframe thead th {\n",
       "        text-align: right;\n",
       "    }\n",
       "</style>\n",
       "<table border=\"1\" class=\"dataframe\">\n",
       "  <thead>\n",
       "    <tr style=\"text-align: right;\">\n",
       "      <th></th>\n",
       "      <th>Unnamed: 0</th>\n",
       "      <th>Adaptation</th>\n",
       "      <th>GrowthRate</th>\n",
       "      <th>Stationary Phase</th>\n",
       "      <th>Unnamed: 4</th>\n",
       "      <th>Unnamed: 5</th>\n",
       "      <th>Unnamed: 6</th>\n",
       "    </tr>\n",
       "  </thead>\n",
       "  <tbody>\n",
       "    <tr>\n",
       "      <th>0</th>\n",
       "      <td>YAL068C</td>\n",
       "      <td>0.082697</td>\n",
       "      <td>-0.018907</td>\n",
       "      <td>0.069628</td>\n",
       "      <td>NaN</td>\n",
       "      <td>YAL068C</td>\n",
       "      <td>strong similarity to subtelomeric encoded prot...</td>\n",
       "    </tr>\n",
       "    <tr>\n",
       "      <th>1</th>\n",
       "      <td>YAL067C</td>\n",
       "      <td>-0.031704</td>\n",
       "      <td>0.046266</td>\n",
       "      <td>0.025456</td>\n",
       "      <td>NaN</td>\n",
       "      <td>SEO1</td>\n",
       "      <td>suppressor of sulfoxyde ethionine resistance</td>\n",
       "    </tr>\n",
       "    <tr>\n",
       "      <th>2</th>\n",
       "      <td>YAL066W</td>\n",
       "      <td>-0.029038</td>\n",
       "      <td>-0.010681</td>\n",
       "      <td>-0.080685</td>\n",
       "      <td>NaN</td>\n",
       "      <td>YAL066W</td>\n",
       "      <td>weak similarity to membrane protein yybF - Bac...</td>\n",
       "    </tr>\n",
       "    <tr>\n",
       "      <th>3</th>\n",
       "      <td>YAL065C</td>\n",
       "      <td>-0.030004</td>\n",
       "      <td>0.051430</td>\n",
       "      <td>0.004502</td>\n",
       "      <td>NaN</td>\n",
       "      <td>YAL065C</td>\n",
       "      <td>strong similarity to Flo1p and Flo9p - putativ...</td>\n",
       "    </tr>\n",
       "    <tr>\n",
       "      <th>4</th>\n",
       "      <td>YAL062W</td>\n",
       "      <td>-0.033322</td>\n",
       "      <td>0.027315</td>\n",
       "      <td>-0.113903</td>\n",
       "      <td>NaN</td>\n",
       "      <td>GDH3</td>\n",
       "      <td>NADP-glutamate dehydrogenase</td>\n",
       "    </tr>\n",
       "  </tbody>\n",
       "</table>\n",
       "</div>"
      ],
      "text/plain": [
       "  Unnamed: 0  Adaptation  GrowthRate  Stationary Phase  Unnamed: 4 Unnamed: 5  \\\n",
       "0    YAL068C    0.082697   -0.018907          0.069628         NaN    YAL068C   \n",
       "1    YAL067C   -0.031704    0.046266          0.025456         NaN       SEO1   \n",
       "2    YAL066W   -0.029038   -0.010681         -0.080685         NaN    YAL066W   \n",
       "3    YAL065C   -0.030004    0.051430          0.004502         NaN    YAL065C   \n",
       "4    YAL062W   -0.033322    0.027315         -0.113903         NaN       GDH3   \n",
       "\n",
       "                                          Unnamed: 6  \n",
       "0  strong similarity to subtelomeric encoded prot...  \n",
       "1       suppressor of sulfoxyde ethionine resistance  \n",
       "2  weak similarity to membrane protein yybF - Bac...  \n",
       "3  strong similarity to Flo1p and Flo9p - putativ...  \n",
       "4                       NADP-glutamate dehydrogenase  "
      ]
     },
     "execution_count": 10,
     "metadata": {},
     "output_type": "execute_result"
    }
   ],
   "source": [
    "original_data.head()"
   ]
  },
  {
   "cell_type": "code",
   "execution_count": 11,
   "metadata": {},
   "outputs": [],
   "source": [
    "original_data['orf'] = original_data['Unnamed: 0'].astype(str)"
   ]
  },
  {
   "cell_type": "code",
   "execution_count": 12,
   "metadata": {},
   "outputs": [],
   "source": [
    "# Eliminate all white spaces & capitalize\n",
    "original_data['orf'] = clean_orf(original_data['orf'])"
   ]
  },
  {
   "cell_type": "code",
   "execution_count": 13,
   "metadata": {},
   "outputs": [],
   "source": [
    "# Translate to ORFs \n",
    "original_data['orf'] = translate_sc(original_data['orf'], to='orf')"
   ]
  },
  {
   "cell_type": "code",
   "execution_count": 14,
   "metadata": {},
   "outputs": [
    {
     "name": "stdout",
     "output_type": "stream",
     "text": [
      "            Unnamed: 0  Adaptation  GrowthRate  Stationary Phase  Unnamed: 4  \\\n",
      "index_input                                                                    \n",
      "576             BY4741         NaN         NaN               NaN         NaN   \n",
      "\n",
      "            Unnamed: 5 Unnamed: 6     orf  \n",
      "index_input                                \n",
      "576                NaN        NaN  BY4741  \n"
     ]
    }
   ],
   "source": [
    "# Make sure everything translated ok\n",
    "t = looks_like_orf(original_data['orf'])\n",
    "print(original_data.loc[~t,])"
   ]
  },
  {
   "cell_type": "code",
   "execution_count": 15,
   "metadata": {},
   "outputs": [],
   "source": [
    "original_data = original_data.loc[t,:]"
   ]
  },
  {
   "cell_type": "code",
   "execution_count": 16,
   "metadata": {},
   "outputs": [],
   "source": [
    "original_data.set_index('orf', inplace=True)"
   ]
  },
  {
   "cell_type": "code",
   "execution_count": 17,
   "metadata": {},
   "outputs": [],
   "source": [
    "original_data = original_data[['Adaptation','GrowthRate','Stationary Phase']].apply(pd.to_numeric, axis=1, errors='coerce')"
   ]
  },
  {
   "cell_type": "code",
   "execution_count": 18,
   "metadata": {},
   "outputs": [],
   "source": [
    "original_data = original_data.groupby(original_data.index).mean()"
   ]
  },
  {
   "cell_type": "code",
   "execution_count": 19,
   "metadata": {},
   "outputs": [
    {
     "data": {
      "text/plain": [
       "(4688, 3)"
      ]
     },
     "execution_count": 19,
     "metadata": {},
     "output_type": "execute_result"
    }
   ],
   "source": [
    "original_data.shape"
   ]
  },
  {
   "cell_type": "markdown",
   "metadata": {},
   "source": [
    "# Load control data"
   ]
  },
  {
   "cell_type": "code",
   "execution_count": 20,
   "metadata": {},
   "outputs": [],
   "source": [
    "original_data2 = pd.read_excel('raw_data/LSC Reference.xlsx', sheet_name='LSC', skiprows=3)"
   ]
  },
  {
   "cell_type": "code",
   "execution_count": 21,
   "metadata": {},
   "outputs": [
    {
     "name": "stdout",
     "output_type": "stream",
     "text": [
      "Original data dimensions: 4712 x 16\n"
     ]
    }
   ],
   "source": [
    "print('Original data dimensions: %d x %d' % (original_data2.shape))"
   ]
  },
  {
   "cell_type": "code",
   "execution_count": 22,
   "metadata": {},
   "outputs": [
    {
     "data": {
      "text/html": [
       "<div>\n",
       "<style scoped>\n",
       "    .dataframe tbody tr th:only-of-type {\n",
       "        vertical-align: middle;\n",
       "    }\n",
       "\n",
       "    .dataframe tbody tr th {\n",
       "        vertical-align: top;\n",
       "    }\n",
       "\n",
       "    .dataframe thead th {\n",
       "        text-align: right;\n",
       "    }\n",
       "</style>\n",
       "<table border=\"1\" class=\"dataframe\">\n",
       "  <thead>\n",
       "    <tr style=\"text-align: right;\">\n",
       "      <th></th>\n",
       "      <th>Unnamed: 0</th>\n",
       "      <th>Replicate 1</th>\n",
       "      <th>Replicate 2</th>\n",
       "      <th>Average</th>\n",
       "      <th>CV</th>\n",
       "      <th>Replicate 1.1</th>\n",
       "      <th>Replicate 2.1</th>\n",
       "      <th>Average.1</th>\n",
       "      <th>CV.1</th>\n",
       "      <th>Replicate 1.2</th>\n",
       "      <th>Replicate 2.2</th>\n",
       "      <th>Average.2</th>\n",
       "      <th>CV.2</th>\n",
       "      <th>Unnamed: 13</th>\n",
       "      <th>Gene Name</th>\n",
       "      <th>Annotattion</th>\n",
       "    </tr>\n",
       "  </thead>\n",
       "  <tbody>\n",
       "    <tr>\n",
       "      <th>0</th>\n",
       "      <td>YAL068C</td>\n",
       "      <td>-0.039933</td>\n",
       "      <td>0.007426</td>\n",
       "      <td>-0.016254</td>\n",
       "      <td>0.033488</td>\n",
       "      <td>-0.034754</td>\n",
       "      <td>-0.092148</td>\n",
       "      <td>-0.063451</td>\n",
       "      <td>0.040584</td>\n",
       "      <td>-0.011807</td>\n",
       "      <td>-0.151855</td>\n",
       "      <td>-0.081831</td>\n",
       "      <td>0.099029</td>\n",
       "      <td>NaN</td>\n",
       "      <td>YAL068C</td>\n",
       "      <td>strong similarity to subtelomeric encoded prot...</td>\n",
       "    </tr>\n",
       "    <tr>\n",
       "      <th>1</th>\n",
       "      <td>YAL067C</td>\n",
       "      <td>-0.010405</td>\n",
       "      <td>-0.020715</td>\n",
       "      <td>-0.015560</td>\n",
       "      <td>0.007291</td>\n",
       "      <td>-0.012421</td>\n",
       "      <td>-0.045736</td>\n",
       "      <td>-0.029079</td>\n",
       "      <td>0.023557</td>\n",
       "      <td>0.015682</td>\n",
       "      <td>-0.151448</td>\n",
       "      <td>-0.067883</td>\n",
       "      <td>0.118179</td>\n",
       "      <td>NaN</td>\n",
       "      <td>SEO1</td>\n",
       "      <td>suppressor of sulfoxyde ethionine resistance</td>\n",
       "    </tr>\n",
       "    <tr>\n",
       "      <th>2</th>\n",
       "      <td>YAL066W</td>\n",
       "      <td>-0.065153</td>\n",
       "      <td>0.024885</td>\n",
       "      <td>-0.020134</td>\n",
       "      <td>0.063667</td>\n",
       "      <td>0.023042</td>\n",
       "      <td>-0.005128</td>\n",
       "      <td>0.008957</td>\n",
       "      <td>0.019919</td>\n",
       "      <td>0.027850</td>\n",
       "      <td>-0.001593</td>\n",
       "      <td>0.013129</td>\n",
       "      <td>0.020819</td>\n",
       "      <td>NaN</td>\n",
       "      <td>YAL066W</td>\n",
       "      <td>weak similarity to membrane protein yybF - Bac...</td>\n",
       "    </tr>\n",
       "    <tr>\n",
       "      <th>3</th>\n",
       "      <td>YAL065C</td>\n",
       "      <td>-0.054250</td>\n",
       "      <td>0.007751</td>\n",
       "      <td>-0.023249</td>\n",
       "      <td>0.043842</td>\n",
       "      <td>-0.025460</td>\n",
       "      <td>-0.039013</td>\n",
       "      <td>-0.032237</td>\n",
       "      <td>0.009583</td>\n",
       "      <td>0.009143</td>\n",
       "      <td>-0.135203</td>\n",
       "      <td>-0.063030</td>\n",
       "      <td>0.102068</td>\n",
       "      <td>NaN</td>\n",
       "      <td>YAL065C</td>\n",
       "      <td>strong similarity to Flo1p and Flo9p - putativ...</td>\n",
       "    </tr>\n",
       "    <tr>\n",
       "      <th>4</th>\n",
       "      <td>YAL062W</td>\n",
       "      <td>-0.100666</td>\n",
       "      <td>-0.050238</td>\n",
       "      <td>-0.075452</td>\n",
       "      <td>0.035658</td>\n",
       "      <td>-0.011975</td>\n",
       "      <td>-0.033242</td>\n",
       "      <td>-0.022608</td>\n",
       "      <td>0.015038</td>\n",
       "      <td>0.023829</td>\n",
       "      <td>-0.112399</td>\n",
       "      <td>-0.044285</td>\n",
       "      <td>0.096328</td>\n",
       "      <td>NaN</td>\n",
       "      <td>GDH3</td>\n",
       "      <td>NADP-glutamate dehydrogenase</td>\n",
       "    </tr>\n",
       "  </tbody>\n",
       "</table>\n",
       "</div>"
      ],
      "text/plain": [
       "  Unnamed: 0  Replicate 1  Replicate 2   Average        CV  Replicate 1.1  \\\n",
       "0    YAL068C    -0.039933     0.007426 -0.016254  0.033488      -0.034754   \n",
       "1    YAL067C    -0.010405    -0.020715 -0.015560  0.007291      -0.012421   \n",
       "2    YAL066W    -0.065153     0.024885 -0.020134  0.063667       0.023042   \n",
       "3    YAL065C    -0.054250     0.007751 -0.023249  0.043842      -0.025460   \n",
       "4    YAL062W    -0.100666    -0.050238 -0.075452  0.035658      -0.011975   \n",
       "\n",
       "   Replicate 2.1  Average.1      CV.1  Replicate 1.2  Replicate 2.2  \\\n",
       "0      -0.092148  -0.063451  0.040584      -0.011807      -0.151855   \n",
       "1      -0.045736  -0.029079  0.023557       0.015682      -0.151448   \n",
       "2      -0.005128   0.008957  0.019919       0.027850      -0.001593   \n",
       "3      -0.039013  -0.032237  0.009583       0.009143      -0.135203   \n",
       "4      -0.033242  -0.022608  0.015038       0.023829      -0.112399   \n",
       "\n",
       "   Average.2      CV.2  Unnamed: 13 Gene Name  \\\n",
       "0  -0.081831  0.099029          NaN   YAL068C   \n",
       "1  -0.067883  0.118179          NaN      SEO1   \n",
       "2   0.013129  0.020819          NaN   YAL066W   \n",
       "3  -0.063030  0.102068          NaN   YAL065C   \n",
       "4  -0.044285  0.096328          NaN      GDH3   \n",
       "\n",
       "                                         Annotattion  \n",
       "0  strong similarity to subtelomeric encoded prot...  \n",
       "1       suppressor of sulfoxyde ethionine resistance  \n",
       "2  weak similarity to membrane protein yybF - Bac...  \n",
       "3  strong similarity to Flo1p and Flo9p - putativ...  \n",
       "4                       NADP-glutamate dehydrogenase  "
      ]
     },
     "execution_count": 22,
     "metadata": {},
     "output_type": "execute_result"
    }
   ],
   "source": [
    "original_data2.head()"
   ]
  },
  {
   "cell_type": "code",
   "execution_count": 23,
   "metadata": {},
   "outputs": [],
   "source": [
    "original_data2['orf'] = original_data2['Unnamed: 0'].astype(str)"
   ]
  },
  {
   "cell_type": "code",
   "execution_count": 24,
   "metadata": {},
   "outputs": [],
   "source": [
    "# Eliminate all white spaces & capitalize\n",
    "original_data2['orf'] = clean_orf(original_data2['orf'])"
   ]
  },
  {
   "cell_type": "code",
   "execution_count": 25,
   "metadata": {},
   "outputs": [],
   "source": [
    "# Translate to ORFs \n",
    "original_data2['orf'] = translate_sc(original_data2['orf'], to='orf')"
   ]
  },
  {
   "cell_type": "code",
   "execution_count": 26,
   "metadata": {},
   "outputs": [
    {
     "name": "stdout",
     "output_type": "stream",
     "text": [
      "            Unnamed: 0  Replicate 1  Replicate 2  Average  CV  Replicate 1.1  \\\n",
      "index_input                                                                    \n",
      "576             BY4741          NaN          NaN      NaN NaN            NaN   \n",
      "\n",
      "             Replicate 2.1  Average.1  CV.1  Replicate 1.2  Replicate 2.2  \\\n",
      "index_input                                                                 \n",
      "576                    NaN        NaN   NaN            NaN            NaN   \n",
      "\n",
      "             Average.2  CV.2  Unnamed: 13 Gene Name Annotattion     orf  \n",
      "index_input                                                              \n",
      "576                NaN   NaN          NaN       NaN         NaN  BY4741  \n"
     ]
    }
   ],
   "source": [
    "# Make sure everything translated ok\n",
    "t = looks_like_orf(original_data2['orf'])\n",
    "print(original_data2.loc[~t,])"
   ]
  },
  {
   "cell_type": "code",
   "execution_count": 27,
   "metadata": {},
   "outputs": [],
   "source": [
    "original_data2 = original_data2.loc[t,:]"
   ]
  },
  {
   "cell_type": "code",
   "execution_count": 28,
   "metadata": {},
   "outputs": [],
   "source": [
    "original_data2.set_index('orf', inplace=True)"
   ]
  },
  {
   "cell_type": "code",
   "execution_count": 31,
   "metadata": {},
   "outputs": [],
   "source": [
    "original_data2 = original_data2[['Average','Average.1','Average.2']].apply(pd.to_numeric, axis=1, errors='coerce')"
   ]
  },
  {
   "cell_type": "code",
   "execution_count": 32,
   "metadata": {},
   "outputs": [],
   "source": [
    "original_data2 = original_data2.groupby(original_data2.index).mean()"
   ]
  },
  {
   "cell_type": "code",
   "execution_count": 33,
   "metadata": {},
   "outputs": [
    {
     "data": {
      "text/plain": [
       "(4688, 3)"
      ]
     },
     "execution_count": 33,
     "metadata": {},
     "output_type": "execute_result"
    }
   ],
   "source": [
    "original_data2.shape"
   ]
  },
  {
   "cell_type": "code",
   "execution_count": 34,
   "metadata": {},
   "outputs": [],
   "source": [
    "original_data = original_data.join(original_data2, how='outer')"
   ]
  },
  {
   "cell_type": "markdown",
   "metadata": {},
   "source": [
    "# Prepare the final dataset"
   ]
  },
  {
   "cell_type": "code",
   "execution_count": 35,
   "metadata": {},
   "outputs": [],
   "source": [
    "data = original_data.copy()"
   ]
  },
  {
   "cell_type": "code",
   "execution_count": 36,
   "metadata": {},
   "outputs": [],
   "source": [
    "dataset_ids = [50, 49, 51, 16184, 16183, 16185]\n",
    "datasets = datasets.reindex(index=dataset_ids)"
   ]
  },
  {
   "cell_type": "code",
   "execution_count": 37,
   "metadata": {},
   "outputs": [],
   "source": [
    "lst = [datasets.index.values, ['value']*datasets.shape[0]]\n",
    "tuples = list(zip(*lst))\n",
    "idx = pd.MultiIndex.from_tuples(tuples, names=['dataset_id','data_type'])\n",
    "data.columns = idx"
   ]
  },
  {
   "cell_type": "code",
   "execution_count": 38,
   "metadata": {},
   "outputs": [
    {
     "data": {
      "text/html": [
       "<div>\n",
       "<style scoped>\n",
       "    .dataframe tbody tr th:only-of-type {\n",
       "        vertical-align: middle;\n",
       "    }\n",
       "\n",
       "    .dataframe tbody tr th {\n",
       "        vertical-align: top;\n",
       "    }\n",
       "\n",
       "    .dataframe thead tr th {\n",
       "        text-align: left;\n",
       "    }\n",
       "\n",
       "    .dataframe thead tr:last-of-type th {\n",
       "        text-align: right;\n",
       "    }\n",
       "</style>\n",
       "<table border=\"1\" class=\"dataframe\">\n",
       "  <thead>\n",
       "    <tr>\n",
       "      <th>dataset_id</th>\n",
       "      <th>50</th>\n",
       "      <th>49</th>\n",
       "      <th>51</th>\n",
       "      <th>16184</th>\n",
       "      <th>16183</th>\n",
       "      <th>16185</th>\n",
       "    </tr>\n",
       "    <tr>\n",
       "      <th>data_type</th>\n",
       "      <th>value</th>\n",
       "      <th>value</th>\n",
       "      <th>value</th>\n",
       "      <th>value</th>\n",
       "      <th>value</th>\n",
       "      <th>value</th>\n",
       "    </tr>\n",
       "    <tr>\n",
       "      <th>orf</th>\n",
       "      <th></th>\n",
       "      <th></th>\n",
       "      <th></th>\n",
       "      <th></th>\n",
       "      <th></th>\n",
       "      <th></th>\n",
       "    </tr>\n",
       "  </thead>\n",
       "  <tbody>\n",
       "    <tr>\n",
       "      <th>YAL002W</th>\n",
       "      <td>-0.277892</td>\n",
       "      <td>0.100993</td>\n",
       "      <td>-0.119706</td>\n",
       "      <td>0.043742</td>\n",
       "      <td>-0.120684</td>\n",
       "      <td>-0.179924</td>\n",
       "    </tr>\n",
       "    <tr>\n",
       "      <th>YAL004W</th>\n",
       "      <td>0.100443</td>\n",
       "      <td>0.019982</td>\n",
       "      <td>-0.188730</td>\n",
       "      <td>0.085478</td>\n",
       "      <td>-0.016071</td>\n",
       "      <td>0.177220</td>\n",
       "    </tr>\n",
       "    <tr>\n",
       "      <th>YAL005C</th>\n",
       "      <td>1.098624</td>\n",
       "      <td>0.021619</td>\n",
       "      <td>-0.047312</td>\n",
       "      <td>-1.079390</td>\n",
       "      <td>0.016431</td>\n",
       "      <td>0.054458</td>\n",
       "    </tr>\n",
       "    <tr>\n",
       "      <th>YAL007C</th>\n",
       "      <td>0.098086</td>\n",
       "      <td>-0.066312</td>\n",
       "      <td>0.053256</td>\n",
       "      <td>0.065898</td>\n",
       "      <td>-0.004938</td>\n",
       "      <td>0.013076</td>\n",
       "    </tr>\n",
       "    <tr>\n",
       "      <th>YAL008W</th>\n",
       "      <td>0.030349</td>\n",
       "      <td>0.060066</td>\n",
       "      <td>0.114024</td>\n",
       "      <td>-0.015770</td>\n",
       "      <td>-0.025707</td>\n",
       "      <td>-0.057815</td>\n",
       "    </tr>\n",
       "  </tbody>\n",
       "</table>\n",
       "</div>"
      ],
      "text/plain": [
       "dataset_id     50        49        51        16184     16183     16185\n",
       "data_type      value     value     value     value     value     value\n",
       "orf                                                                   \n",
       "YAL002W    -0.277892  0.100993 -0.119706  0.043742 -0.120684 -0.179924\n",
       "YAL004W     0.100443  0.019982 -0.188730  0.085478 -0.016071  0.177220\n",
       "YAL005C     1.098624  0.021619 -0.047312 -1.079390  0.016431  0.054458\n",
       "YAL007C     0.098086 -0.066312  0.053256  0.065898 -0.004938  0.013076\n",
       "YAL008W     0.030349  0.060066  0.114024 -0.015770 -0.025707 -0.057815"
      ]
     },
     "execution_count": 38,
     "metadata": {},
     "output_type": "execute_result"
    }
   ],
   "source": [
    "data.head()"
   ]
  },
  {
   "cell_type": "markdown",
   "metadata": {},
   "source": [
    "## Subset to the genes currently in SGD"
   ]
  },
  {
   "cell_type": "code",
   "execution_count": 39,
   "metadata": {},
   "outputs": [
    {
     "name": "stdout",
     "output_type": "stream",
     "text": [
      "ORFs missing from SGD: 22\n"
     ]
    }
   ],
   "source": [
    "genes = pd.read_csv(path_to_genes, sep='\\t', index_col='id')\n",
    "genes = genes.reset_index().set_index('systematic_name')\n",
    "gene_ids = genes.reindex(index=data.index.values)['id'].values\n",
    "num_missing = np.sum(np.isnan(gene_ids))\n",
    "print('ORFs missing from SGD: %d' % num_missing)"
   ]
  },
  {
   "cell_type": "code",
   "execution_count": 40,
   "metadata": {},
   "outputs": [
    {
     "data": {
      "text/html": [
       "<div>\n",
       "<style scoped>\n",
       "    .dataframe tbody tr th:only-of-type {\n",
       "        vertical-align: middle;\n",
       "    }\n",
       "\n",
       "    .dataframe tbody tr th {\n",
       "        vertical-align: top;\n",
       "    }\n",
       "\n",
       "    .dataframe thead tr th {\n",
       "        text-align: left;\n",
       "    }\n",
       "\n",
       "    .dataframe thead tr:last-of-type th {\n",
       "        text-align: right;\n",
       "    }\n",
       "</style>\n",
       "<table border=\"1\" class=\"dataframe\">\n",
       "  <thead>\n",
       "    <tr>\n",
       "      <th></th>\n",
       "      <th>dataset_id</th>\n",
       "      <th>50</th>\n",
       "      <th>49</th>\n",
       "      <th>51</th>\n",
       "      <th>16184</th>\n",
       "      <th>16183</th>\n",
       "      <th>16185</th>\n",
       "    </tr>\n",
       "    <tr>\n",
       "      <th></th>\n",
       "      <th>data_type</th>\n",
       "      <th>value</th>\n",
       "      <th>value</th>\n",
       "      <th>value</th>\n",
       "      <th>value</th>\n",
       "      <th>value</th>\n",
       "      <th>value</th>\n",
       "    </tr>\n",
       "    <tr>\n",
       "      <th>gene_id</th>\n",
       "      <th>orf</th>\n",
       "      <th></th>\n",
       "      <th></th>\n",
       "      <th></th>\n",
       "      <th></th>\n",
       "      <th></th>\n",
       "      <th></th>\n",
       "    </tr>\n",
       "  </thead>\n",
       "  <tbody>\n",
       "    <tr>\n",
       "      <th>2</th>\n",
       "      <th>YAL002W</th>\n",
       "      <td>-0.277892</td>\n",
       "      <td>0.100993</td>\n",
       "      <td>-0.119706</td>\n",
       "      <td>0.043742</td>\n",
       "      <td>-0.120684</td>\n",
       "      <td>-0.179924</td>\n",
       "    </tr>\n",
       "    <tr>\n",
       "      <th>1863</th>\n",
       "      <th>YAL004W</th>\n",
       "      <td>0.100443</td>\n",
       "      <td>0.019982</td>\n",
       "      <td>-0.188730</td>\n",
       "      <td>0.085478</td>\n",
       "      <td>-0.016071</td>\n",
       "      <td>0.177220</td>\n",
       "    </tr>\n",
       "    <tr>\n",
       "      <th>4</th>\n",
       "      <th>YAL005C</th>\n",
       "      <td>1.098624</td>\n",
       "      <td>0.021619</td>\n",
       "      <td>-0.047312</td>\n",
       "      <td>-1.079390</td>\n",
       "      <td>0.016431</td>\n",
       "      <td>0.054458</td>\n",
       "    </tr>\n",
       "    <tr>\n",
       "      <th>5</th>\n",
       "      <th>YAL007C</th>\n",
       "      <td>0.098086</td>\n",
       "      <td>-0.066312</td>\n",
       "      <td>0.053256</td>\n",
       "      <td>0.065898</td>\n",
       "      <td>-0.004938</td>\n",
       "      <td>0.013076</td>\n",
       "    </tr>\n",
       "    <tr>\n",
       "      <th>6</th>\n",
       "      <th>YAL008W</th>\n",
       "      <td>0.030349</td>\n",
       "      <td>0.060066</td>\n",
       "      <td>0.114024</td>\n",
       "      <td>-0.015770</td>\n",
       "      <td>-0.025707</td>\n",
       "      <td>-0.057815</td>\n",
       "    </tr>\n",
       "  </tbody>\n",
       "</table>\n",
       "</div>"
      ],
      "text/plain": [
       "dataset_id          50        49        51        16184     16183     16185\n",
       "data_type           value     value     value     value     value     value\n",
       "gene_id orf                                                                \n",
       "2       YAL002W -0.277892  0.100993 -0.119706  0.043742 -0.120684 -0.179924\n",
       "1863    YAL004W  0.100443  0.019982 -0.188730  0.085478 -0.016071  0.177220\n",
       "4       YAL005C  1.098624  0.021619 -0.047312 -1.079390  0.016431  0.054458\n",
       "5       YAL007C  0.098086 -0.066312  0.053256  0.065898 -0.004938  0.013076\n",
       "6       YAL008W  0.030349  0.060066  0.114024 -0.015770 -0.025707 -0.057815"
      ]
     },
     "execution_count": 40,
     "metadata": {},
     "output_type": "execute_result"
    }
   ],
   "source": [
    "data['gene_id'] = gene_ids\n",
    "data = data.loc[data['gene_id'].notnull()]\n",
    "data['gene_id'] = data['gene_id'].astype(int)\n",
    "data = data.reset_index().set_index(['gene_id','orf'])\n",
    "\n",
    "data.head()"
   ]
  },
  {
   "cell_type": "markdown",
   "metadata": {},
   "source": [
    "# Normalize"
   ]
  },
  {
   "cell_type": "code",
   "execution_count": 41,
   "metadata": {},
   "outputs": [],
   "source": [
    "data_norm = normalize_phenotypic_scores(data, has_tested=True)"
   ]
  },
  {
   "cell_type": "code",
   "execution_count": 42,
   "metadata": {},
   "outputs": [],
   "source": [
    "# Assign proper column names\n",
    "lst = [datasets.index.values, ['valuez']*datasets.shape[0]]\n",
    "tuples = list(zip(*lst))\n",
    "idx = pd.MultiIndex.from_tuples(tuples, names=['dataset_id','data_type'])\n",
    "data_norm.columns = idx"
   ]
  },
  {
   "cell_type": "code",
   "execution_count": 43,
   "metadata": {},
   "outputs": [
    {
     "data": {
      "text/html": [
       "<div>\n",
       "<style scoped>\n",
       "    .dataframe tbody tr th:only-of-type {\n",
       "        vertical-align: middle;\n",
       "    }\n",
       "\n",
       "    .dataframe tbody tr th {\n",
       "        vertical-align: top;\n",
       "    }\n",
       "\n",
       "    .dataframe thead tr th {\n",
       "        text-align: left;\n",
       "    }\n",
       "\n",
       "    .dataframe thead tr:last-of-type th {\n",
       "        text-align: right;\n",
       "    }\n",
       "</style>\n",
       "<table border=\"1\" class=\"dataframe\">\n",
       "  <thead>\n",
       "    <tr>\n",
       "      <th></th>\n",
       "      <th>dataset_id</th>\n",
       "      <th>50</th>\n",
       "      <th>49</th>\n",
       "      <th>51</th>\n",
       "      <th>16184</th>\n",
       "      <th>16183</th>\n",
       "      <th>16185</th>\n",
       "      <th>50</th>\n",
       "      <th>49</th>\n",
       "      <th>51</th>\n",
       "      <th>16184</th>\n",
       "      <th>16183</th>\n",
       "      <th>16185</th>\n",
       "    </tr>\n",
       "    <tr>\n",
       "      <th></th>\n",
       "      <th>data_type</th>\n",
       "      <th>value</th>\n",
       "      <th>value</th>\n",
       "      <th>value</th>\n",
       "      <th>value</th>\n",
       "      <th>value</th>\n",
       "      <th>value</th>\n",
       "      <th>valuez</th>\n",
       "      <th>valuez</th>\n",
       "      <th>valuez</th>\n",
       "      <th>valuez</th>\n",
       "      <th>valuez</th>\n",
       "      <th>valuez</th>\n",
       "    </tr>\n",
       "    <tr>\n",
       "      <th>gene_id</th>\n",
       "      <th>orf</th>\n",
       "      <th></th>\n",
       "      <th></th>\n",
       "      <th></th>\n",
       "      <th></th>\n",
       "      <th></th>\n",
       "      <th></th>\n",
       "      <th></th>\n",
       "      <th></th>\n",
       "      <th></th>\n",
       "      <th></th>\n",
       "      <th></th>\n",
       "      <th></th>\n",
       "    </tr>\n",
       "  </thead>\n",
       "  <tbody>\n",
       "    <tr>\n",
       "      <th>2</th>\n",
       "      <th>YAL002W</th>\n",
       "      <td>-0.277892</td>\n",
       "      <td>0.100993</td>\n",
       "      <td>-0.119706</td>\n",
       "      <td>0.043742</td>\n",
       "      <td>-0.120684</td>\n",
       "      <td>-0.179924</td>\n",
       "      <td>-1.013636</td>\n",
       "      <td>0.760886</td>\n",
       "      <td>-1.173085</td>\n",
       "      <td>-0.053566</td>\n",
       "      <td>-1.104821</td>\n",
       "      <td>-1.499460</td>\n",
       "    </tr>\n",
       "    <tr>\n",
       "      <th>1863</th>\n",
       "      <th>YAL004W</th>\n",
       "      <td>0.100443</td>\n",
       "      <td>0.019982</td>\n",
       "      <td>-0.188730</td>\n",
       "      <td>0.085478</td>\n",
       "      <td>-0.016071</td>\n",
       "      <td>0.177220</td>\n",
       "      <td>0.571872</td>\n",
       "      <td>-0.001653</td>\n",
       "      <td>-1.634917</td>\n",
       "      <td>0.118618</td>\n",
       "      <td>-0.225317</td>\n",
       "      <td>1.732890</td>\n",
       "    </tr>\n",
       "    <tr>\n",
       "      <th>4</th>\n",
       "      <th>YAL005C</th>\n",
       "      <td>1.098624</td>\n",
       "      <td>0.021619</td>\n",
       "      <td>-0.047312</td>\n",
       "      <td>-1.079390</td>\n",
       "      <td>0.016431</td>\n",
       "      <td>0.054458</td>\n",
       "      <td>4.754989</td>\n",
       "      <td>0.013751</td>\n",
       "      <td>-0.688697</td>\n",
       "      <td>-4.687099</td>\n",
       "      <td>0.047933</td>\n",
       "      <td>0.621824</td>\n",
       "    </tr>\n",
       "    <tr>\n",
       "      <th>5</th>\n",
       "      <th>YAL007C</th>\n",
       "      <td>0.098086</td>\n",
       "      <td>-0.066312</td>\n",
       "      <td>0.053256</td>\n",
       "      <td>0.065898</td>\n",
       "      <td>-0.004938</td>\n",
       "      <td>0.013076</td>\n",
       "      <td>0.561993</td>\n",
       "      <td>-0.813926</td>\n",
       "      <td>-0.015796</td>\n",
       "      <td>0.037839</td>\n",
       "      <td>-0.131721</td>\n",
       "      <td>0.247296</td>\n",
       "    </tr>\n",
       "    <tr>\n",
       "      <th>6</th>\n",
       "      <th>YAL008W</th>\n",
       "      <td>0.030349</td>\n",
       "      <td>0.060066</td>\n",
       "      <td>0.114024</td>\n",
       "      <td>-0.015770</td>\n",
       "      <td>-0.025707</td>\n",
       "      <td>-0.057815</td>\n",
       "      <td>0.278126</td>\n",
       "      <td>0.375649</td>\n",
       "      <td>0.390804</td>\n",
       "      <td>-0.299088</td>\n",
       "      <td>-0.306333</td>\n",
       "      <td>-0.394306</td>\n",
       "    </tr>\n",
       "  </tbody>\n",
       "</table>\n",
       "</div>"
      ],
      "text/plain": [
       "dataset_id          50        49        51        16184     16183     16185  \\\n",
       "data_type           value     value     value     value     value     value   \n",
       "gene_id orf                                                                   \n",
       "2       YAL002W -0.277892  0.100993 -0.119706  0.043742 -0.120684 -0.179924   \n",
       "1863    YAL004W  0.100443  0.019982 -0.188730  0.085478 -0.016071  0.177220   \n",
       "4       YAL005C  1.098624  0.021619 -0.047312 -1.079390  0.016431  0.054458   \n",
       "5       YAL007C  0.098086 -0.066312  0.053256  0.065898 -0.004938  0.013076   \n",
       "6       YAL008W  0.030349  0.060066  0.114024 -0.015770 -0.025707 -0.057815   \n",
       "\n",
       "dataset_id          50        49        51        16184     16183     16185  \n",
       "data_type          valuez    valuez    valuez    valuez    valuez    valuez  \n",
       "gene_id orf                                                                  \n",
       "2       YAL002W -1.013636  0.760886 -1.173085 -0.053566 -1.104821 -1.499460  \n",
       "1863    YAL004W  0.571872 -0.001653 -1.634917  0.118618 -0.225317  1.732890  \n",
       "4       YAL005C  4.754989  0.013751 -0.688697 -4.687099  0.047933  0.621824  \n",
       "5       YAL007C  0.561993 -0.813926 -0.015796  0.037839 -0.131721  0.247296  \n",
       "6       YAL008W  0.278126  0.375649  0.390804 -0.299088 -0.306333 -0.394306  "
      ]
     },
     "execution_count": 43,
     "metadata": {},
     "output_type": "execute_result"
    }
   ],
   "source": [
    "data_norm[data.isnull()] = np.nan\n",
    "data_all = data.join(data_norm)\n",
    "\n",
    "data_all.head()"
   ]
  },
  {
   "cell_type": "markdown",
   "metadata": {},
   "source": [
    "# Print out"
   ]
  },
  {
   "cell_type": "code",
   "execution_count": 44,
   "metadata": {},
   "outputs": [],
   "source": [
    "for f in ['value','valuez']:\n",
    "    df = data_all.xs(f, level='data_type', axis=1).copy()\n",
    "    df.columns = datasets['name'].values\n",
    "    df = df.droplevel('gene_id', axis=0)\n",
    "    df.to_csv(paper_name + '_' + f + '.txt', sep='\\t')"
   ]
  },
  {
   "cell_type": "markdown",
   "metadata": {},
   "source": [
    "# Save to DB"
   ]
  },
  {
   "cell_type": "code",
   "execution_count": 45,
   "metadata": {},
   "outputs": [],
   "source": [
    "from IO.save_data_to_db3 import *"
   ]
  },
  {
   "cell_type": "code",
   "execution_count": 46,
   "metadata": {},
   "outputs": [
    {
     "name": "stderr",
     "output_type": "stream",
     "text": [
      "  0%|          | 0/6 [00:00<?, ?it/s]"
     ]
    },
    {
     "name": "stdout",
     "output_type": "stream",
     "text": [
      "Deleting all datasets for PMID 14676322...\n",
      "Inserting the new data...\n"
     ]
    },
    {
     "name": "stderr",
     "output_type": "stream",
     "text": [
      "100%|██████████| 6/6 [00:40<00:00,  6.82s/it]"
     ]
    },
    {
     "name": "stdout",
     "output_type": "stream",
     "text": [
      "Updating the data_modified_on field...\n"
     ]
    },
    {
     "name": "stderr",
     "output_type": "stream",
     "text": [
      "\n"
     ]
    }
   ],
   "source": [
    "save_data_to_db(data_all, paper_pmid)"
   ]
  },
  {
   "cell_type": "code",
   "execution_count": null,
   "metadata": {},
   "outputs": [],
   "source": []
  }
 ],
 "metadata": {
  "kernelspec": {
   "display_name": "yp-data",
   "language": "python",
   "name": "yp-data"
  },
  "language_info": {
   "codemirror_mode": {
    "name": "ipython",
    "version": 3
   },
   "file_extension": ".py",
   "mimetype": "text/x-python",
   "name": "python",
   "nbconvert_exporter": "python",
   "pygments_lexer": "ipython3",
   "version": "3.7.7"
  }
 },
 "nbformat": 4,
 "nbformat_minor": 4
}
