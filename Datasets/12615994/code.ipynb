{
 "cells": [
  {
   "cell_type": "code",
   "execution_count": 1,
   "metadata": {},
   "outputs": [],
   "source": [
    "%run ../yp_utils.py"
   ]
  },
  {
   "cell_type": "markdown",
   "metadata": {},
   "source": [
    "# Initial setup"
   ]
  },
  {
   "cell_type": "code",
   "execution_count": 2,
   "metadata": {},
   "outputs": [],
   "source": [
    "paper_pmid = 12615994\n",
    "paper_name = 'zewaii_huang_2003' "
   ]
  },
  {
   "cell_type": "code",
   "execution_count": 3,
   "metadata": {},
   "outputs": [],
   "source": [
    "datasets = pd.read_csv('extras/YeastPhenome_' + str(paper_pmid) + '_datasets_list.txt', sep='\\t', header=None, names=['dataset_id', 'name'])"
   ]
  },
  {
   "cell_type": "code",
   "execution_count": 4,
   "metadata": {},
   "outputs": [],
   "source": [
    "datasets.set_index('dataset_id', inplace=True)"
   ]
  },
  {
   "cell_type": "markdown",
   "metadata": {},
   "source": [
    "# Load & process the data"
   ]
  },
  {
   "cell_type": "code",
   "execution_count": 5,
   "metadata": {},
   "outputs": [],
   "source": [
    "files = ['0118Table3.xlsx','0118Table4.xlsx','0118Table5.xlsx']"
   ]
  },
  {
   "cell_type": "code",
   "execution_count": 20,
   "metadata": {},
   "outputs": [
    {
     "name": "stdout",
     "output_type": "stream",
     "text": [
      "Original data dimensions: 72 x 6\n",
      "   Unnamed: 0  Score     ORF  Gene name   \\\n",
      "0         NaN   ++++  YPL268W       PLC1   \n",
      "1         NaN      +  YLR305C       STT4   \n",
      "2         NaN      +  YDR208W       MSS4   \n",
      "3         NaN  -----  YKL212W       SAC1   \n",
      "4         NaN     ++  YIL002C      INP51   \n",
      "\n",
      "                                    Protein function Cell type  \n",
      "0          Phosphoinositide-specific phospholipase C         a  \n",
      "1                      Phosphatidylinositol 4-kinase       a/a  \n",
      "2          Phosphatidylinositol-4-phosphate 5-kinase       a/a  \n",
      "3                   Polyphosphoinositide phosphatase         a  \n",
      "4  Phosphatidylinositol 4,5-bisphosphate 5-phosph...         a  \n",
      "             Unnamed: 0 Score  ORF Gene name Protein function Cell type  orf\n",
      "index_input                                                                 \n",
      "25                  NaN   NaN  NaN       NaN              NaN       NaN  NAN\n",
      "26                  NaN   NaN  NaN       NaN              NaN       NaN  NAN\n",
      "27                  NaN   NaN  NaN       NaN              NaN       NaN  NAN\n",
      "28                  NaN   NaN  NaN       NaN              NaN       NaN  NAN\n",
      "29                  NaN   NaN  NaN       NaN              NaN       NaN  NAN\n",
      "30                  NaN   NaN  NaN       NaN              NaN       NaN  NAN\n",
      "31                  NaN   NaN  NaN       NaN              NaN       NaN  NAN\n",
      "32                  NaN   NaN  NaN       NaN              NaN       NaN  NAN\n",
      "33                  NaN   NaN  NaN       NaN              NaN       NaN  NAN\n",
      "34                  NaN   NaN  NaN       NaN              NaN       NaN  NAN\n",
      "35                  NaN   NaN  NaN       NaN              NaN       NaN  NAN\n",
      "36                  NaN   NaN  NaN       NaN              NaN       NaN  NAN\n",
      "37                  NaN   NaN  NaN       NaN              NaN       NaN  NAN\n",
      "38                  NaN   NaN  NaN       NaN              NaN       NaN  NAN\n",
      "39                  NaN   NaN  NaN       NaN              NaN       NaN  NAN\n",
      "40                  NaN   NaN  NaN       NaN              NaN       NaN  NAN\n",
      "41                  NaN   NaN  NaN       NaN              NaN       NaN  NAN\n",
      "42                  NaN   NaN  NaN       NaN              NaN       NaN  NAN\n",
      "43                  NaN   NaN  NaN       NaN              NaN       NaN  NAN\n",
      "44                  NaN   NaN  NaN       NaN              NaN       NaN  NAN\n",
      "45                  NaN   NaN  NaN       NaN              NaN       NaN  NAN\n",
      "46                  NaN   NaN  NaN       NaN              NaN       NaN  NAN\n",
      "47                  NaN   NaN  NaN       NaN              NaN       NaN  NAN\n",
      "48                  NaN   NaN  NaN       NaN              NaN       NaN  NAN\n",
      "49                  NaN   NaN  NaN       NaN              NaN       NaN  NAN\n",
      "50                  NaN   NaN  NaN       NaN              NaN       NaN  NAN\n",
      "51                  NaN   NaN  NaN       NaN              NaN       NaN  NAN\n",
      "52                  NaN   NaN  NaN       NaN              NaN       NaN  NAN\n",
      "53                  NaN   NaN  NaN       NaN              NaN       NaN  NAN\n",
      "54                  NaN   NaN  NaN       NaN              NaN       NaN  NAN\n",
      "55                  NaN   NaN  NaN       NaN              NaN       NaN  NAN\n",
      "56                  NaN   NaN  NaN       NaN              NaN       NaN  NAN\n",
      "57                  NaN   NaN  NaN       NaN              NaN       NaN  NAN\n",
      "58                  NaN   NaN  NaN       NaN              NaN       NaN  NAN\n",
      "59                  NaN   NaN  NaN       NaN              NaN       NaN  NAN\n",
      "60                  NaN   NaN  NaN       NaN              NaN       NaN  NAN\n",
      "61                  NaN   NaN  NaN       NaN              NaN       NaN  NAN\n",
      "62                  NaN   NaN  NaN       NaN              NaN       NaN  NAN\n",
      "63                  NaN   NaN  NaN       NaN              NaN       NaN  NAN\n",
      "64                  NaN   NaN  NaN       NaN              NaN       NaN  NAN\n",
      "65                  NaN   NaN  NaN       NaN              NaN       NaN  NAN\n",
      "66                  NaN   NaN  NaN       NaN              NaN       NaN  NAN\n",
      "67                  NaN   NaN  NaN       NaN              NaN       NaN  NAN\n",
      "68                  NaN   NaN  NaN       NaN              NaN       NaN  NAN\n",
      "69                  NaN   NaN  NaN       NaN              NaN       NaN  NAN\n",
      "70                  NaN   NaN  NaN       NaN              NaN       NaN  NAN\n",
      "71                  NaN   NaN  NaN       NaN              NaN       NaN  NAN\n",
      "Original data dimensions: 45 x 6\n",
      "                  Unnamed: 0  Score     ORF  Gene name   \\\n",
      "0  (i) Nucleotide metabolism   ----  YML058W       SML1   \n",
      "1                        NaN     ++  YKR091W       SRL3   \n",
      "2                        NaN      +  YIL066C       RNR3   \n",
      "3                        NaN     ++  YGR180C       RNR4   \n",
      "4                        NaN  +++++  YGL107C        NaN   \n",
      "\n",
      "                               Protein function Cell type  \n",
      "0             Null suppressor of mec1 lethality         a  \n",
      "1  Multicopy suppressor of rad53 null lethality         a  \n",
      "2        Ribonucleotide reductase large subunit         a  \n",
      "3        Ribonucleotide reductase small subunit         a  \n",
      "4      Unknown; has RNR small subunit signature         a  \n",
      "Empty DataFrame\n",
      "Columns: [Unnamed: 0, Score, ORF, Gene name, Protein function, Cell type, orf]\n",
      "Index: []\n",
      "Original data dimensions: 1025 x 6\n",
      "                  Unnamed: 0 Score     ORF  Gene name   \\\n",
      "0    III.  Protein synthesis   NaN      NaN        NaN   \n",
      "1  A.  Translational control   NaN      NaN        NaN   \n",
      "2                        NaN    --  YJR007W       SUI2   \n",
      "3                        NaN    ++  YDR283C       GCN2   \n",
      "4                        NaN  ----  YOR260W       GCD1   \n",
      "\n",
      "                                   Protein function Cell type  \n",
      "0                                               NaN       NaN  \n",
      "1                                               NaN       NaN  \n",
      "2  Translation initiation factor eIF2-alpha subunit       a/a  \n",
      "3                                 eIF2-alpha kinase         a  \n",
      "4                     Translation initiation factor       a/a  \n",
      "                                                    Unnamed: 0 Score  ORF  \\\n",
      "index_input                                                                 \n",
      "0                                      III.  Protein synthesis   NaN  NaN   \n",
      "1                                    A.  Translational control   NaN  NaN   \n",
      "20                              B.  Aminoacyl-tRNA synthetases   NaN  NaN   \n",
      "32                                    C.  Ribosomal biogenesis   NaN  NaN   \n",
      "118                                            IV.  Proteasome   NaN  NaN   \n",
      "156                                             V.  Metabolism   NaN  NaN   \n",
      "157                     A.  Amino acid and nitrogen metabolism   NaN  NaN   \n",
      "181                                  B.  Nucleotide metabolism   NaN  NaN   \n",
      "189          C.  C-compound, carbohydrate and energy metabo...   NaN  NaN   \n",
      "244                        D.  Lipid and fatty-acid metabolism   NaN  NaN   \n",
      "255                                   E.  Phosphate metabolism   NaN  NaN   \n",
      "260                        F.  Vitamins, cofactors, and metals   NaN  NaN   \n",
      "284          G.  Other mitochondrial or peroxisomal localiz...   NaN  NaN   \n",
      "309                            VI.  Chromatin andTranscription   NaN  NaN   \n",
      "310                  A.  Chromatin modification and remodeling   NaN  NaN   \n",
      "337                                          B.  Transcription   NaN  NaN   \n",
      "362                                       VII.  RNA processing   NaN  NaN   \n",
      "386                                  VIII.  Cellular Transport   NaN  NaN   \n",
      "387                            A.  Nucleocytoplasmic transport   NaN  NaN   \n",
      "395                                  B.  ER to Golgi transport   NaN  NaN   \n",
      "405          C.  Golgi retention, intra-Golgi and Golgi to ...   NaN  NaN   \n",
      "415                                     D.  Vacuolar transport   NaN  NaN   \n",
      "447                             C.  Vesicle-mediated transport   NaN  NaN   \n",
      "454                                        D.  Protein folding   NaN  NaN   \n",
      "472                                        E.  Stress response   NaN  NaN   \n",
      "493               IX.  Cytoskeleton and cell wall organization   NaN  NaN   \n",
      "554                X.  Cell cycle control, signal transduction   NaN  NaN   \n",
      "616                               XI.  Unclassified or unknown   NaN  NaN   \n",
      "\n",
      "            Gene name Protein function Cell type  orf  \n",
      "index_input                                            \n",
      "0                 NaN              NaN       NaN  NAN  \n",
      "1                 NaN              NaN       NaN  NAN  \n",
      "20                NaN              NaN       NaN  NAN  \n",
      "32                NaN              NaN       NaN  NAN  \n",
      "118               NaN              NaN       NaN  NAN  \n",
      "156               NaN              NaN       NaN  NAN  \n",
      "157               NaN              NaN       NaN  NAN  \n",
      "181               NaN              NaN       NaN  NAN  \n",
      "189               NaN              NaN       NaN  NAN  \n",
      "244               NaN              NaN       NaN  NAN  \n",
      "255               NaN              NaN       NaN  NAN  \n",
      "260               NaN              NaN       NaN  NAN  \n",
      "284               NaN              NaN       NaN  NAN  \n",
      "309               NaN              NaN       NaN  NAN  \n",
      "310               NaN              NaN       NaN  NAN  \n",
      "337               NaN              NaN       NaN  NAN  \n",
      "362               NaN              NaN       NaN  NAN  \n",
      "386               NaN              NaN       NaN  NAN  \n",
      "387               NaN              NaN       NaN  NAN  \n",
      "395               NaN              NaN       NaN  NAN  \n",
      "405               NaN              NaN       NaN  NAN  \n",
      "415               NaN              NaN       NaN  NAN  \n",
      "447               NaN              NaN       NaN  NAN  \n",
      "454               NaN              NaN       NaN  NAN  \n",
      "472               NaN              NaN       NaN  NAN  \n",
      "493               NaN              NaN       NaN  NAN  \n",
      "554               NaN              NaN       NaN  NAN  \n",
      "616               NaN              NaN       NaN  NAN  \n"
     ]
    }
   ],
   "source": [
    "original_data1_list = []\n",
    "original_data2_list = []\n",
    "for ixf, f in enumerate(files):\n",
    "    sr = 3 if ixf == 0 else 2\n",
    "    original_data = pd.read_excel('raw_data/' + f, sheet_name='Sheet1', skiprows=sr)\n",
    "    print('Original data dimensions: %d x %d' % (original_data.shape))\n",
    "    print(original_data.head())\n",
    "    \n",
    "    original_data.columns = [c.strip() for c in original_data.columns]\n",
    "    \n",
    "    original_data['orf'] = original_data['ORF'].astype(str)\n",
    "    original_data['orf'] = clean_orf(original_data['orf'])\n",
    "    \n",
    "    original_data.loc[original_data['orf']=='YLR287-A','orf'] = 'YLR287C-A'\n",
    "    \n",
    "    original_data['orf'] = translate_sc(original_data['orf'], to='orf')\n",
    "    t = looks_like_orf(original_data['orf'])\n",
    "    print(original_data.loc[~t,])\n",
    "    original_data = original_data.loc[t,:]\n",
    "    \n",
    "    original_data['data'] = original_data['Score'].apply(lambda x: len(x.strip()) if '+' in x else -len(x.strip()))\n",
    "    \n",
    "    original_data.set_index('orf', inplace=True)\n",
    "    \n",
    "    original_data1 = original_data.loc[original_data['Cell type']=='a'].copy()\n",
    "    original_data2 = original_data.loc[original_data['Cell type']=='a/a'].copy()\n",
    "    \n",
    "    original_data1 = original_data1[['data']].copy()\n",
    "    original_data1 = original_data1.groupby(original_data1.index).mean()\n",
    "    \n",
    "    original_data2 = original_data2[['data']].copy()\n",
    "    original_data2 = original_data2.groupby(original_data2.index).mean()\n",
    "    \n",
    "    original_data1_list.append(original_data1)\n",
    "    original_data2_list.append(original_data2)"
   ]
  },
  {
   "cell_type": "code",
   "execution_count": 21,
   "metadata": {},
   "outputs": [],
   "source": [
    "original_data1 = pd.concat(original_data1_list, axis=0)\n",
    "original_data2 = pd.concat(original_data2_list, axis=0)"
   ]
  },
  {
   "cell_type": "code",
   "execution_count": 22,
   "metadata": {},
   "outputs": [],
   "source": [
    "original_data = original_data1.join(original_data2, how='outer', lsuffix='_1', rsuffix='_2')"
   ]
  },
  {
   "cell_type": "code",
   "execution_count": 23,
   "metadata": {},
   "outputs": [
    {
     "data": {
      "text/html": [
       "<div>\n",
       "<style scoped>\n",
       "    .dataframe tbody tr th:only-of-type {\n",
       "        vertical-align: middle;\n",
       "    }\n",
       "\n",
       "    .dataframe tbody tr th {\n",
       "        vertical-align: top;\n",
       "    }\n",
       "\n",
       "    .dataframe thead th {\n",
       "        text-align: right;\n",
       "    }\n",
       "</style>\n",
       "<table border=\"1\" class=\"dataframe\">\n",
       "  <thead>\n",
       "    <tr style=\"text-align: right;\">\n",
       "      <th></th>\n",
       "      <th>data_1</th>\n",
       "      <th>data_2</th>\n",
       "    </tr>\n",
       "    <tr>\n",
       "      <th>orf</th>\n",
       "      <th></th>\n",
       "      <th></th>\n",
       "    </tr>\n",
       "  </thead>\n",
       "  <tbody>\n",
       "    <tr>\n",
       "      <th>YAL004W</th>\n",
       "      <td>-2.0</td>\n",
       "      <td>NaN</td>\n",
       "    </tr>\n",
       "    <tr>\n",
       "      <th>YAL005C</th>\n",
       "      <td>-4.0</td>\n",
       "      <td>NaN</td>\n",
       "    </tr>\n",
       "    <tr>\n",
       "      <th>YAL009W</th>\n",
       "      <td>2.0</td>\n",
       "      <td>NaN</td>\n",
       "    </tr>\n",
       "    <tr>\n",
       "      <th>YAL010C</th>\n",
       "      <td>3.0</td>\n",
       "      <td>NaN</td>\n",
       "    </tr>\n",
       "    <tr>\n",
       "      <th>YAL013W</th>\n",
       "      <td>-5.0</td>\n",
       "      <td>NaN</td>\n",
       "    </tr>\n",
       "  </tbody>\n",
       "</table>\n",
       "</div>"
      ],
      "text/plain": [
       "         data_1  data_2\n",
       "orf                    \n",
       "YAL004W    -2.0     NaN\n",
       "YAL005C    -4.0     NaN\n",
       "YAL009W     2.0     NaN\n",
       "YAL010C     3.0     NaN\n",
       "YAL013W    -5.0     NaN"
      ]
     },
     "execution_count": 23,
     "metadata": {},
     "output_type": "execute_result"
    }
   ],
   "source": [
    "original_data.head()"
   ]
  },
  {
   "cell_type": "markdown",
   "metadata": {},
   "source": [
    "# Prepare the final dataset"
   ]
  },
  {
   "cell_type": "code",
   "execution_count": 24,
   "metadata": {},
   "outputs": [],
   "source": [
    "data = original_data.copy()"
   ]
  },
  {
   "cell_type": "code",
   "execution_count": 25,
   "metadata": {},
   "outputs": [],
   "source": [
    "dataset_ids = [73, 414]\n",
    "datasets = datasets.reindex(index=dataset_ids)"
   ]
  },
  {
   "cell_type": "code",
   "execution_count": 26,
   "metadata": {},
   "outputs": [],
   "source": [
    "lst = [datasets.index.values, ['value']*datasets.shape[0]]\n",
    "tuples = list(zip(*lst))\n",
    "idx = pd.MultiIndex.from_tuples(tuples, names=['dataset_id','data_type'])\n",
    "data.columns = idx"
   ]
  },
  {
   "cell_type": "code",
   "execution_count": 27,
   "metadata": {},
   "outputs": [
    {
     "data": {
      "text/html": [
       "<div>\n",
       "<style scoped>\n",
       "    .dataframe tbody tr th:only-of-type {\n",
       "        vertical-align: middle;\n",
       "    }\n",
       "\n",
       "    .dataframe tbody tr th {\n",
       "        vertical-align: top;\n",
       "    }\n",
       "\n",
       "    .dataframe thead tr th {\n",
       "        text-align: left;\n",
       "    }\n",
       "\n",
       "    .dataframe thead tr:last-of-type th {\n",
       "        text-align: right;\n",
       "    }\n",
       "</style>\n",
       "<table border=\"1\" class=\"dataframe\">\n",
       "  <thead>\n",
       "    <tr>\n",
       "      <th>dataset_id</th>\n",
       "      <th>73</th>\n",
       "      <th>414</th>\n",
       "    </tr>\n",
       "    <tr>\n",
       "      <th>data_type</th>\n",
       "      <th>value</th>\n",
       "      <th>value</th>\n",
       "    </tr>\n",
       "    <tr>\n",
       "      <th>orf</th>\n",
       "      <th></th>\n",
       "      <th></th>\n",
       "    </tr>\n",
       "  </thead>\n",
       "  <tbody>\n",
       "    <tr>\n",
       "      <th>YAL004W</th>\n",
       "      <td>-2.0</td>\n",
       "      <td>NaN</td>\n",
       "    </tr>\n",
       "    <tr>\n",
       "      <th>YAL005C</th>\n",
       "      <td>-4.0</td>\n",
       "      <td>NaN</td>\n",
       "    </tr>\n",
       "    <tr>\n",
       "      <th>YAL009W</th>\n",
       "      <td>2.0</td>\n",
       "      <td>NaN</td>\n",
       "    </tr>\n",
       "    <tr>\n",
       "      <th>YAL010C</th>\n",
       "      <td>3.0</td>\n",
       "      <td>NaN</td>\n",
       "    </tr>\n",
       "    <tr>\n",
       "      <th>YAL013W</th>\n",
       "      <td>-5.0</td>\n",
       "      <td>NaN</td>\n",
       "    </tr>\n",
       "  </tbody>\n",
       "</table>\n",
       "</div>"
      ],
      "text/plain": [
       "dataset_id   73    414\n",
       "data_type  value value\n",
       "orf                   \n",
       "YAL004W     -2.0   NaN\n",
       "YAL005C     -4.0   NaN\n",
       "YAL009W      2.0   NaN\n",
       "YAL010C      3.0   NaN\n",
       "YAL013W     -5.0   NaN"
      ]
     },
     "execution_count": 27,
     "metadata": {},
     "output_type": "execute_result"
    }
   ],
   "source": [
    "data.head()"
   ]
  },
  {
   "cell_type": "markdown",
   "metadata": {},
   "source": [
    "## Subset to the genes currently in SGD"
   ]
  },
  {
   "cell_type": "code",
   "execution_count": 28,
   "metadata": {},
   "outputs": [
    {
     "name": "stdout",
     "output_type": "stream",
     "text": [
      "ORFs missing from SGD: 4\n"
     ]
    }
   ],
   "source": [
    "genes = pd.read_csv(path_to_genes, sep='\\t', index_col='id')\n",
    "genes = genes.reset_index().set_index('systematic_name')\n",
    "gene_ids = genes.reindex(index=data.index.values)['id'].values\n",
    "num_missing = np.sum(np.isnan(gene_ids))\n",
    "print('ORFs missing from SGD: %d' % num_missing)"
   ]
  },
  {
   "cell_type": "code",
   "execution_count": 29,
   "metadata": {},
   "outputs": [
    {
     "data": {
      "text/html": [
       "<div>\n",
       "<style scoped>\n",
       "    .dataframe tbody tr th:only-of-type {\n",
       "        vertical-align: middle;\n",
       "    }\n",
       "\n",
       "    .dataframe tbody tr th {\n",
       "        vertical-align: top;\n",
       "    }\n",
       "\n",
       "    .dataframe thead tr th {\n",
       "        text-align: left;\n",
       "    }\n",
       "\n",
       "    .dataframe thead tr:last-of-type th {\n",
       "        text-align: right;\n",
       "    }\n",
       "</style>\n",
       "<table border=\"1\" class=\"dataframe\">\n",
       "  <thead>\n",
       "    <tr>\n",
       "      <th></th>\n",
       "      <th>dataset_id</th>\n",
       "      <th>73</th>\n",
       "      <th>414</th>\n",
       "    </tr>\n",
       "    <tr>\n",
       "      <th></th>\n",
       "      <th>data_type</th>\n",
       "      <th>value</th>\n",
       "      <th>value</th>\n",
       "    </tr>\n",
       "    <tr>\n",
       "      <th>gene_id</th>\n",
       "      <th>orf</th>\n",
       "      <th></th>\n",
       "      <th></th>\n",
       "    </tr>\n",
       "  </thead>\n",
       "  <tbody>\n",
       "    <tr>\n",
       "      <th>1863</th>\n",
       "      <th>YAL004W</th>\n",
       "      <td>-2.0</td>\n",
       "      <td>NaN</td>\n",
       "    </tr>\n",
       "    <tr>\n",
       "      <th>4</th>\n",
       "      <th>YAL005C</th>\n",
       "      <td>-4.0</td>\n",
       "      <td>NaN</td>\n",
       "    </tr>\n",
       "    <tr>\n",
       "      <th>7</th>\n",
       "      <th>YAL009W</th>\n",
       "      <td>2.0</td>\n",
       "      <td>NaN</td>\n",
       "    </tr>\n",
       "    <tr>\n",
       "      <th>8</th>\n",
       "      <th>YAL010C</th>\n",
       "      <td>3.0</td>\n",
       "      <td>NaN</td>\n",
       "    </tr>\n",
       "    <tr>\n",
       "      <th>11</th>\n",
       "      <th>YAL013W</th>\n",
       "      <td>-5.0</td>\n",
       "      <td>NaN</td>\n",
       "    </tr>\n",
       "  </tbody>\n",
       "</table>\n",
       "</div>"
      ],
      "text/plain": [
       "dataset_id        73    414\n",
       "data_type       value value\n",
       "gene_id orf                \n",
       "1863    YAL004W  -2.0   NaN\n",
       "4       YAL005C  -4.0   NaN\n",
       "7       YAL009W   2.0   NaN\n",
       "8       YAL010C   3.0   NaN\n",
       "11      YAL013W  -5.0   NaN"
      ]
     },
     "execution_count": 29,
     "metadata": {},
     "output_type": "execute_result"
    }
   ],
   "source": [
    "data['gene_id'] = gene_ids\n",
    "data = data.loc[data['gene_id'].notnull()]\n",
    "data['gene_id'] = data['gene_id'].astype(int)\n",
    "data = data.reset_index().set_index(['gene_id','orf'])\n",
    "\n",
    "data.head()"
   ]
  },
  {
   "cell_type": "markdown",
   "metadata": {},
   "source": [
    "# Normalize"
   ]
  },
  {
   "cell_type": "code",
   "execution_count": 30,
   "metadata": {},
   "outputs": [],
   "source": [
    "data_norm = normalize_phenotypic_scores(data, has_tested=False)"
   ]
  },
  {
   "cell_type": "code",
   "execution_count": 31,
   "metadata": {},
   "outputs": [],
   "source": [
    "# Assign proper column names\n",
    "lst = [datasets.index.values, ['valuez']*datasets.shape[0]]\n",
    "tuples = list(zip(*lst))\n",
    "idx = pd.MultiIndex.from_tuples(tuples, names=['dataset_id','data_type'])\n",
    "data_norm.columns = idx"
   ]
  },
  {
   "cell_type": "code",
   "execution_count": 32,
   "metadata": {},
   "outputs": [
    {
     "data": {
      "text/html": [
       "<div>\n",
       "<style scoped>\n",
       "    .dataframe tbody tr th:only-of-type {\n",
       "        vertical-align: middle;\n",
       "    }\n",
       "\n",
       "    .dataframe tbody tr th {\n",
       "        vertical-align: top;\n",
       "    }\n",
       "\n",
       "    .dataframe thead tr th {\n",
       "        text-align: left;\n",
       "    }\n",
       "\n",
       "    .dataframe thead tr:last-of-type th {\n",
       "        text-align: right;\n",
       "    }\n",
       "</style>\n",
       "<table border=\"1\" class=\"dataframe\">\n",
       "  <thead>\n",
       "    <tr>\n",
       "      <th></th>\n",
       "      <th>dataset_id</th>\n",
       "      <th>73</th>\n",
       "      <th>414</th>\n",
       "      <th>73</th>\n",
       "      <th>414</th>\n",
       "    </tr>\n",
       "    <tr>\n",
       "      <th></th>\n",
       "      <th>data_type</th>\n",
       "      <th>value</th>\n",
       "      <th>value</th>\n",
       "      <th>valuez</th>\n",
       "      <th>valuez</th>\n",
       "    </tr>\n",
       "    <tr>\n",
       "      <th>gene_id</th>\n",
       "      <th>orf</th>\n",
       "      <th></th>\n",
       "      <th></th>\n",
       "      <th></th>\n",
       "      <th></th>\n",
       "    </tr>\n",
       "  </thead>\n",
       "  <tbody>\n",
       "    <tr>\n",
       "      <th>1863</th>\n",
       "      <th>YAL004W</th>\n",
       "      <td>-2.0</td>\n",
       "      <td>NaN</td>\n",
       "      <td>-1.590766</td>\n",
       "      <td>NaN</td>\n",
       "    </tr>\n",
       "    <tr>\n",
       "      <th>4</th>\n",
       "      <th>YAL005C</th>\n",
       "      <td>-4.0</td>\n",
       "      <td>NaN</td>\n",
       "      <td>-3.142350</td>\n",
       "      <td>NaN</td>\n",
       "    </tr>\n",
       "    <tr>\n",
       "      <th>7</th>\n",
       "      <th>YAL009W</th>\n",
       "      <td>2.0</td>\n",
       "      <td>NaN</td>\n",
       "      <td>1.512403</td>\n",
       "      <td>NaN</td>\n",
       "    </tr>\n",
       "    <tr>\n",
       "      <th>8</th>\n",
       "      <th>YAL010C</th>\n",
       "      <td>3.0</td>\n",
       "      <td>NaN</td>\n",
       "      <td>2.288195</td>\n",
       "      <td>NaN</td>\n",
       "    </tr>\n",
       "    <tr>\n",
       "      <th>11</th>\n",
       "      <th>YAL013W</th>\n",
       "      <td>-5.0</td>\n",
       "      <td>NaN</td>\n",
       "      <td>-3.918142</td>\n",
       "      <td>NaN</td>\n",
       "    </tr>\n",
       "  </tbody>\n",
       "</table>\n",
       "</div>"
      ],
      "text/plain": [
       "dataset_id        73    414       73     414\n",
       "data_type       value value    valuez valuez\n",
       "gene_id orf                                 \n",
       "1863    YAL004W  -2.0   NaN -1.590766    NaN\n",
       "4       YAL005C  -4.0   NaN -3.142350    NaN\n",
       "7       YAL009W   2.0   NaN  1.512403    NaN\n",
       "8       YAL010C   3.0   NaN  2.288195    NaN\n",
       "11      YAL013W  -5.0   NaN -3.918142    NaN"
      ]
     },
     "execution_count": 32,
     "metadata": {},
     "output_type": "execute_result"
    }
   ],
   "source": [
    "data_norm[data.isnull()] = np.nan\n",
    "data_all = data.join(data_norm)\n",
    "\n",
    "data_all.head()"
   ]
  },
  {
   "cell_type": "markdown",
   "metadata": {},
   "source": [
    "# Print out"
   ]
  },
  {
   "cell_type": "code",
   "execution_count": 33,
   "metadata": {},
   "outputs": [],
   "source": [
    "for f in ['value','valuez']:\n",
    "    df = data_all.xs(f, level='data_type', axis=1).copy()\n",
    "    df.columns = datasets['name'].values\n",
    "    df = df.droplevel('gene_id', axis=0)\n",
    "    df.to_csv(paper_name + '_' + f + '.txt', sep='\\t')"
   ]
  },
  {
   "cell_type": "markdown",
   "metadata": {},
   "source": [
    "# Save to DB"
   ]
  },
  {
   "cell_type": "code",
   "execution_count": 34,
   "metadata": {},
   "outputs": [],
   "source": [
    "from IO.save_data_to_db3 import *"
   ]
  },
  {
   "cell_type": "code",
   "execution_count": 35,
   "metadata": {},
   "outputs": [
    {
     "name": "stderr",
     "output_type": "stream",
     "text": [
      "  0%|          | 0/2 [00:00<?, ?it/s]"
     ]
    },
    {
     "name": "stdout",
     "output_type": "stream",
     "text": [
      "Deleting all datasets for PMID 12615994...\n",
      "Inserting the new data...\n"
     ]
    },
    {
     "name": "stderr",
     "output_type": "stream",
     "text": [
      "100%|██████████| 2/2 [00:03<00:00,  1.75s/it]"
     ]
    },
    {
     "name": "stdout",
     "output_type": "stream",
     "text": [
      "Updating the data_modified_on field...\n"
     ]
    },
    {
     "name": "stderr",
     "output_type": "stream",
     "text": [
      "\n"
     ]
    }
   ],
   "source": [
    "save_data_to_db(data_all, paper_pmid)"
   ]
  },
  {
   "cell_type": "code",
   "execution_count": null,
   "metadata": {},
   "outputs": [],
   "source": []
  }
 ],
 "metadata": {
  "kernelspec": {
   "display_name": "yp-data",
   "language": "python",
   "name": "yp-data"
  },
  "language_info": {
   "codemirror_mode": {
    "name": "ipython",
    "version": 3
   },
   "file_extension": ".py",
   "mimetype": "text/x-python",
   "name": "python",
   "nbconvert_exporter": "python",
   "pygments_lexer": "ipython3",
   "version": "3.7.7"
  }
 },
 "nbformat": 4,
 "nbformat_minor": 4
}
