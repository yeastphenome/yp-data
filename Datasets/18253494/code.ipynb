{
 "cells": [
  {
   "cell_type": "code",
   "execution_count": 1,
   "metadata": {},
   "outputs": [],
   "source": [
    "%run ../yp_utils.py"
   ]
  },
  {
   "cell_type": "markdown",
   "metadata": {},
   "source": [
    "# Initial setup"
   ]
  },
  {
   "cell_type": "code",
   "execution_count": 2,
   "metadata": {},
   "outputs": [],
   "source": [
    "paper_pmid = 18253494\n",
    "paper_name = 'cook_ho_2008' "
   ]
  },
  {
   "cell_type": "code",
   "execution_count": 3,
   "metadata": {},
   "outputs": [],
   "source": [
    "datasets = pd.read_csv('extras/YeastPhenome_' + str(paper_pmid) + '_datasets_list.txt', sep='\\t', header=None, names=['dataset_id', 'name'])"
   ]
  },
  {
   "cell_type": "code",
   "execution_count": 4,
   "metadata": {},
   "outputs": [],
   "source": [
    "datasets.set_index('dataset_id', inplace=True)"
   ]
  },
  {
   "cell_type": "markdown",
   "metadata": {},
   "source": [
    "# Load & process the data"
   ]
  },
  {
   "cell_type": "code",
   "execution_count": 10,
   "metadata": {},
   "outputs": [],
   "source": [
    "original_data = pd.read_excel('raw_data/pone.0001546.s015.xlsx', sheet_name='Sheet1', header=[0,1])"
   ]
  },
  {
   "cell_type": "code",
   "execution_count": 11,
   "metadata": {},
   "outputs": [
    {
     "name": "stdout",
     "output_type": "stream",
     "text": [
      "Original data dimensions: 4651 x 18\n"
     ]
    }
   ],
   "source": [
    "print('Original data dimensions: %d x %d' % (original_data.shape))"
   ]
  },
  {
   "cell_type": "code",
   "execution_count": 12,
   "metadata": {},
   "outputs": [
    {
     "data": {
      "text/html": [
       "<div>\n",
       "<style scoped>\n",
       "    .dataframe tbody tr th:only-of-type {\n",
       "        vertical-align: middle;\n",
       "    }\n",
       "\n",
       "    .dataframe tbody tr th {\n",
       "        vertical-align: top;\n",
       "    }\n",
       "\n",
       "    .dataframe thead tr th {\n",
       "        text-align: left;\n",
       "    }\n",
       "</style>\n",
       "<table border=\"1\" class=\"dataframe\">\n",
       "  <thead>\n",
       "    <tr>\n",
       "      <th></th>\n",
       "      <th>Unnamed: 0_level_0</th>\n",
       "      <th>Unnamed: 1_level_0</th>\n",
       "      <th colspan=\"2\" halign=\"left\">Exp 1 - 24 ml/min</th>\n",
       "      <th colspan=\"2\" halign=\"left\">Exp 2 - 24 ml/min</th>\n",
       "      <th colspan=\"2\" halign=\"left\">Exp 2 (average) - 21 ml/min</th>\n",
       "      <th colspan=\"2\" halign=\"left\">Exp 3 - 16 ml/min (average)</th>\n",
       "      <th colspan=\"8\" halign=\"left\">Exp 3 - 24 ml/min (average)</th>\n",
       "    </tr>\n",
       "    <tr>\n",
       "      <th></th>\n",
       "      <th>ORF</th>\n",
       "      <th>Name</th>\n",
       "      <th>UP</th>\n",
       "      <th>DN</th>\n",
       "      <th>UP</th>\n",
       "      <th>DN</th>\n",
       "      <th>UP</th>\n",
       "      <th>DN</th>\n",
       "      <th>UP</th>\n",
       "      <th>DN</th>\n",
       "      <th>UP</th>\n",
       "      <th>DN</th>\n",
       "      <th>Average across all arrays and UP/DN tags</th>\n",
       "      <th>Average across all arrays and UP/DN tags.1</th>\n",
       "      <th>Average across all arrays and UP/DN tags.2</th>\n",
       "      <th>Average across all arrays and UP/DN tags.3</th>\n",
       "      <th>Average across all arrays and UP/DN tags.4</th>\n",
       "      <th>Average across all arrays and UP/DN tags.5</th>\n",
       "    </tr>\n",
       "  </thead>\n",
       "  <tbody>\n",
       "    <tr>\n",
       "      <th>0</th>\n",
       "      <td>YIL134W</td>\n",
       "      <td>FLX1</td>\n",
       "      <td>-5.04366</td>\n",
       "      <td>NaN</td>\n",
       "      <td>-6.14723</td>\n",
       "      <td>NaN</td>\n",
       "      <td>-4.46741</td>\n",
       "      <td>NaN</td>\n",
       "      <td>-5.28773</td>\n",
       "      <td>NaN</td>\n",
       "      <td>-6.23994</td>\n",
       "      <td>NaN</td>\n",
       "      <td>-5.437195</td>\n",
       "      <td>LGE</td>\n",
       "      <td>NaN</td>\n",
       "      <td>NaN</td>\n",
       "      <td>NaN</td>\n",
       "      <td>NaN</td>\n",
       "    </tr>\n",
       "    <tr>\n",
       "      <th>1</th>\n",
       "      <td>YNR068C</td>\n",
       "      <td>NaN</td>\n",
       "      <td>-5.78244</td>\n",
       "      <td>-5.83223</td>\n",
       "      <td>-6.76548</td>\n",
       "      <td>-6.0021</td>\n",
       "      <td>-4.8086</td>\n",
       "      <td>-4.74011</td>\n",
       "      <td>-4.52202</td>\n",
       "      <td>-4.64037</td>\n",
       "      <td>-5.32549</td>\n",
       "      <td>-5.03435</td>\n",
       "      <td>-5.345320</td>\n",
       "      <td>NaN</td>\n",
       "      <td>NaN</td>\n",
       "      <td>NaN</td>\n",
       "      <td>NaN</td>\n",
       "      <td>NaN</td>\n",
       "    </tr>\n",
       "    <tr>\n",
       "      <th>2</th>\n",
       "      <td>YHR177W</td>\n",
       "      <td>NaN</td>\n",
       "      <td>-4.8244</td>\n",
       "      <td>-5.18674</td>\n",
       "      <td>-4.25115</td>\n",
       "      <td>-8.89745</td>\n",
       "      <td>-4.04819</td>\n",
       "      <td>-3.97647</td>\n",
       "      <td>-5.24499</td>\n",
       "      <td>-5.65722</td>\n",
       "      <td>-5.39264</td>\n",
       "      <td>-5.86538</td>\n",
       "      <td>-5.334465</td>\n",
       "      <td>NaN</td>\n",
       "      <td>NaN</td>\n",
       "      <td>NaN</td>\n",
       "      <td>X = no tag in this collection</td>\n",
       "      <td>NaN</td>\n",
       "    </tr>\n",
       "    <tr>\n",
       "      <th>3</th>\n",
       "      <td>YER111C</td>\n",
       "      <td>SWI4</td>\n",
       "      <td>-6.79369</td>\n",
       "      <td>-2.5688</td>\n",
       "      <td>-10</td>\n",
       "      <td>-4.04553</td>\n",
       "      <td>-6.00561</td>\n",
       "      <td>-5.00752</td>\n",
       "      <td>-3.73092</td>\n",
       "      <td>-3.45563</td>\n",
       "      <td>-5.32274</td>\n",
       "      <td>-3.96127</td>\n",
       "      <td>-5.089171</td>\n",
       "      <td>NaN</td>\n",
       "      <td>NaN</td>\n",
       "      <td>NaN</td>\n",
       "      <td>blank = signal below thresholds</td>\n",
       "      <td>NaN</td>\n",
       "    </tr>\n",
       "    <tr>\n",
       "      <th>4</th>\n",
       "      <td>YIL154C</td>\n",
       "      <td>IMP2'</td>\n",
       "      <td>NaN</td>\n",
       "      <td>NaN</td>\n",
       "      <td>NaN</td>\n",
       "      <td>-10</td>\n",
       "      <td>-0.753583</td>\n",
       "      <td>-4.98514</td>\n",
       "      <td>NaN</td>\n",
       "      <td>-4.63905</td>\n",
       "      <td>NaN</td>\n",
       "      <td>-5.06264</td>\n",
       "      <td>-5.088084</td>\n",
       "      <td>NaN</td>\n",
       "      <td>NaN</td>\n",
       "      <td>NaN</td>\n",
       "      <td>Value of 10 or -10 [arbitrarily set; significa...</td>\n",
       "      <td>NaN</td>\n",
       "    </tr>\n",
       "  </tbody>\n",
       "</table>\n",
       "</div>"
      ],
      "text/plain": [
       "  Unnamed: 0_level_0 Unnamed: 1_level_0 Exp 1 - 24 ml/min           \\\n",
       "                 ORF               Name                UP       DN   \n",
       "0            YIL134W               FLX1          -5.04366      NaN   \n",
       "1            YNR068C                NaN          -5.78244 -5.83223   \n",
       "2            YHR177W                NaN           -4.8244 -5.18674   \n",
       "3            YER111C               SWI4          -6.79369  -2.5688   \n",
       "4            YIL154C              IMP2'               NaN      NaN   \n",
       "\n",
       "  Exp 2 - 24 ml/min          Exp 2 (average) - 21 ml/min           \\\n",
       "                 UP       DN                          UP       DN   \n",
       "0          -6.14723      NaN                    -4.46741      NaN   \n",
       "1          -6.76548  -6.0021                     -4.8086 -4.74011   \n",
       "2          -4.25115 -8.89745                    -4.04819 -3.97647   \n",
       "3               -10 -4.04553                    -6.00561 -5.00752   \n",
       "4               NaN      -10                   -0.753583 -4.98514   \n",
       "\n",
       "  Exp 3 - 16 ml/min (average)          Exp 3 - 24 ml/min (average)           \\\n",
       "                           UP       DN                          UP       DN   \n",
       "0                    -5.28773      NaN                    -6.23994      NaN   \n",
       "1                    -4.52202 -4.64037                    -5.32549 -5.03435   \n",
       "2                    -5.24499 -5.65722                    -5.39264 -5.86538   \n",
       "3                    -3.73092 -3.45563                    -5.32274 -3.96127   \n",
       "4                         NaN -4.63905                         NaN -5.06264   \n",
       "\n",
       "                                            \\\n",
       "  Average across all arrays and UP/DN tags   \n",
       "0                                -5.437195   \n",
       "1                                -5.345320   \n",
       "2                                -5.334465   \n",
       "3                                -5.089171   \n",
       "4                                -5.088084   \n",
       "\n",
       "                                              \\\n",
       "  Average across all arrays and UP/DN tags.1   \n",
       "0                                        LGE   \n",
       "1                                        NaN   \n",
       "2                                        NaN   \n",
       "3                                        NaN   \n",
       "4                                        NaN   \n",
       "\n",
       "                                              \\\n",
       "  Average across all arrays and UP/DN tags.2   \n",
       "0                                        NaN   \n",
       "1                                        NaN   \n",
       "2                                        NaN   \n",
       "3                                        NaN   \n",
       "4                                        NaN   \n",
       "\n",
       "                                              \\\n",
       "  Average across all arrays and UP/DN tags.3   \n",
       "0                                        NaN   \n",
       "1                                        NaN   \n",
       "2                                        NaN   \n",
       "3                                        NaN   \n",
       "4                                        NaN   \n",
       "\n",
       "                                                      \\\n",
       "          Average across all arrays and UP/DN tags.4   \n",
       "0                                                NaN   \n",
       "1                                                NaN   \n",
       "2                      X = no tag in this collection   \n",
       "3                    blank = signal below thresholds   \n",
       "4  Value of 10 or -10 [arbitrarily set; significa...   \n",
       "\n",
       "                                              \n",
       "  Average across all arrays and UP/DN tags.5  \n",
       "0                                        NaN  \n",
       "1                                        NaN  \n",
       "2                                        NaN  \n",
       "3                                        NaN  \n",
       "4                                        NaN  "
      ]
     },
     "execution_count": 12,
     "metadata": {},
     "output_type": "execute_result"
    }
   ],
   "source": [
    "original_data.head()"
   ]
  },
  {
   "cell_type": "code",
   "execution_count": 13,
   "metadata": {},
   "outputs": [],
   "source": [
    "original_data['orf'] = original_data[('Unnamed: 0_level_0','ORF')].astype(str)"
   ]
  },
  {
   "cell_type": "code",
   "execution_count": 14,
   "metadata": {},
   "outputs": [],
   "source": [
    "# Eliminate all white spaces & capitalize\n",
    "original_data['orf'] = clean_orf(original_data['orf'])"
   ]
  },
  {
   "cell_type": "code",
   "execution_count": 15,
   "metadata": {},
   "outputs": [],
   "source": [
    "# Translate to ORFs \n",
    "original_data['orf'] = translate_sc(original_data['orf'], to='orf')"
   ]
  },
  {
   "cell_type": "code",
   "execution_count": 16,
   "metadata": {},
   "outputs": [
    {
     "name": "stdout",
     "output_type": "stream",
     "text": [
      "Empty DataFrame\n",
      "Columns: [(Unnamed: 0_level_0, ORF), (Unnamed: 1_level_0, Name), (Exp 1 - 24 ml/min, UP), (Exp 1 - 24 ml/min, DN), (Exp 2 - 24 ml/min, UP), (Exp 2 - 24 ml/min, DN), (Exp 2 (average) - 21 ml/min, UP), (Exp 2 (average) - 21 ml/min, DN), (Exp 3 - 16 ml/min (average), UP), (Exp 3 - 16 ml/min (average), DN), (Exp 3 - 24 ml/min (average), UP), (Exp 3 - 24 ml/min (average), DN), (Exp 3 - 24 ml/min (average), Average across all arrays and UP/DN tags), (Exp 3 - 24 ml/min (average), Average across all arrays and UP/DN tags.1), (Exp 3 - 24 ml/min (average), Average across all arrays and UP/DN tags.2), (Exp 3 - 24 ml/min (average), Average across all arrays and UP/DN tags.3), (Exp 3 - 24 ml/min (average), Average across all arrays and UP/DN tags.4), (Exp 3 - 24 ml/min (average), Average across all arrays and UP/DN tags.5), (orf, )]\n",
      "Index: []\n"
     ]
    }
   ],
   "source": [
    "# Make sure everything translated ok\n",
    "t = looks_like_orf(original_data['orf'])\n",
    "print(original_data.loc[~t,])"
   ]
  },
  {
   "cell_type": "code",
   "execution_count": 20,
   "metadata": {},
   "outputs": [],
   "source": [
    "# Seems that, originally, negative values = large cells, positive values = small cells. By convention, we revert that.\n",
    "original_data['data'] = -original_data[('Exp 3 - 24 ml/min (average)', 'Average across all arrays and UP/DN tags')].astype(float)"
   ]
  },
  {
   "cell_type": "code",
   "execution_count": 21,
   "metadata": {},
   "outputs": [],
   "source": [
    "original_data.set_index('orf', inplace=True)"
   ]
  },
  {
   "cell_type": "code",
   "execution_count": 22,
   "metadata": {},
   "outputs": [],
   "source": [
    "original_data = original_data[['data']].copy()"
   ]
  },
  {
   "cell_type": "code",
   "execution_count": 23,
   "metadata": {},
   "outputs": [],
   "source": [
    "original_data = original_data.groupby(original_data.index).mean()"
   ]
  },
  {
   "cell_type": "code",
   "execution_count": 24,
   "metadata": {},
   "outputs": [
    {
     "data": {
      "text/plain": [
       "(4627, 1)"
      ]
     },
     "execution_count": 24,
     "metadata": {},
     "output_type": "execute_result"
    }
   ],
   "source": [
    "original_data.shape"
   ]
  },
  {
   "cell_type": "markdown",
   "metadata": {},
   "source": [
    "# Prepare the final dataset"
   ]
  },
  {
   "cell_type": "code",
   "execution_count": 25,
   "metadata": {},
   "outputs": [],
   "source": [
    "data = original_data.copy()"
   ]
  },
  {
   "cell_type": "code",
   "execution_count": 26,
   "metadata": {},
   "outputs": [],
   "source": [
    "dataset_ids = [5374]\n",
    "datasets = datasets.reindex(index=dataset_ids)"
   ]
  },
  {
   "cell_type": "code",
   "execution_count": 27,
   "metadata": {},
   "outputs": [],
   "source": [
    "lst = [datasets.index.values, ['value']*datasets.shape[0]]\n",
    "tuples = list(zip(*lst))\n",
    "idx = pd.MultiIndex.from_tuples(tuples, names=['dataset_id','data_type'])\n",
    "data.columns = idx"
   ]
  },
  {
   "cell_type": "code",
   "execution_count": 28,
   "metadata": {},
   "outputs": [
    {
     "data": {
      "text/html": [
       "<div>\n",
       "<style scoped>\n",
       "    .dataframe tbody tr th:only-of-type {\n",
       "        vertical-align: middle;\n",
       "    }\n",
       "\n",
       "    .dataframe tbody tr th {\n",
       "        vertical-align: top;\n",
       "    }\n",
       "\n",
       "    .dataframe thead tr th {\n",
       "        text-align: left;\n",
       "    }\n",
       "\n",
       "    .dataframe thead tr:last-of-type th {\n",
       "        text-align: right;\n",
       "    }\n",
       "</style>\n",
       "<table border=\"1\" class=\"dataframe\">\n",
       "  <thead>\n",
       "    <tr>\n",
       "      <th>dataset_id</th>\n",
       "      <th>5374</th>\n",
       "    </tr>\n",
       "    <tr>\n",
       "      <th>data_type</th>\n",
       "      <th>value</th>\n",
       "    </tr>\n",
       "    <tr>\n",
       "      <th>orf</th>\n",
       "      <th></th>\n",
       "    </tr>\n",
       "  </thead>\n",
       "  <tbody>\n",
       "    <tr>\n",
       "      <th>YAL002W</th>\n",
       "      <td>1.344456</td>\n",
       "    </tr>\n",
       "    <tr>\n",
       "      <th>YAL004W</th>\n",
       "      <td>0.382591</td>\n",
       "    </tr>\n",
       "    <tr>\n",
       "      <th>YAL005C</th>\n",
       "      <td>-0.009773</td>\n",
       "    </tr>\n",
       "    <tr>\n",
       "      <th>YAL007C</th>\n",
       "      <td>0.206225</td>\n",
       "    </tr>\n",
       "    <tr>\n",
       "      <th>YAL009W</th>\n",
       "      <td>-2.217163</td>\n",
       "    </tr>\n",
       "  </tbody>\n",
       "</table>\n",
       "</div>"
      ],
      "text/plain": [
       "dataset_id      5374\n",
       "data_type      value\n",
       "orf                 \n",
       "YAL002W     1.344456\n",
       "YAL004W     0.382591\n",
       "YAL005C    -0.009773\n",
       "YAL007C     0.206225\n",
       "YAL009W    -2.217163"
      ]
     },
     "execution_count": 28,
     "metadata": {},
     "output_type": "execute_result"
    }
   ],
   "source": [
    "data.head()"
   ]
  },
  {
   "cell_type": "markdown",
   "metadata": {},
   "source": [
    "## Subset to the genes currently in SGD"
   ]
  },
  {
   "cell_type": "code",
   "execution_count": 29,
   "metadata": {},
   "outputs": [
    {
     "name": "stdout",
     "output_type": "stream",
     "text": [
      "ORFs missing from SGD: 22\n"
     ]
    }
   ],
   "source": [
    "genes = pd.read_csv(path_to_genes, sep='\\t', index_col='id')\n",
    "genes = genes.reset_index().set_index('systematic_name')\n",
    "gene_ids = genes.reindex(index=data.index.values)['id'].values\n",
    "num_missing = np.sum(np.isnan(gene_ids))\n",
    "print('ORFs missing from SGD: %d' % num_missing)"
   ]
  },
  {
   "cell_type": "code",
   "execution_count": 30,
   "metadata": {},
   "outputs": [
    {
     "data": {
      "text/html": [
       "<div>\n",
       "<style scoped>\n",
       "    .dataframe tbody tr th:only-of-type {\n",
       "        vertical-align: middle;\n",
       "    }\n",
       "\n",
       "    .dataframe tbody tr th {\n",
       "        vertical-align: top;\n",
       "    }\n",
       "\n",
       "    .dataframe thead tr th {\n",
       "        text-align: left;\n",
       "    }\n",
       "\n",
       "    .dataframe thead tr:last-of-type th {\n",
       "        text-align: right;\n",
       "    }\n",
       "</style>\n",
       "<table border=\"1\" class=\"dataframe\">\n",
       "  <thead>\n",
       "    <tr>\n",
       "      <th></th>\n",
       "      <th>dataset_id</th>\n",
       "      <th>5374</th>\n",
       "    </tr>\n",
       "    <tr>\n",
       "      <th></th>\n",
       "      <th>data_type</th>\n",
       "      <th>value</th>\n",
       "    </tr>\n",
       "    <tr>\n",
       "      <th>gene_id</th>\n",
       "      <th>orf</th>\n",
       "      <th></th>\n",
       "    </tr>\n",
       "  </thead>\n",
       "  <tbody>\n",
       "    <tr>\n",
       "      <th>2</th>\n",
       "      <th>YAL002W</th>\n",
       "      <td>1.344456</td>\n",
       "    </tr>\n",
       "    <tr>\n",
       "      <th>1863</th>\n",
       "      <th>YAL004W</th>\n",
       "      <td>0.382591</td>\n",
       "    </tr>\n",
       "    <tr>\n",
       "      <th>4</th>\n",
       "      <th>YAL005C</th>\n",
       "      <td>-0.009773</td>\n",
       "    </tr>\n",
       "    <tr>\n",
       "      <th>5</th>\n",
       "      <th>YAL007C</th>\n",
       "      <td>0.206225</td>\n",
       "    </tr>\n",
       "    <tr>\n",
       "      <th>7</th>\n",
       "      <th>YAL009W</th>\n",
       "      <td>-2.217163</td>\n",
       "    </tr>\n",
       "  </tbody>\n",
       "</table>\n",
       "</div>"
      ],
      "text/plain": [
       "dataset_id           5374\n",
       "data_type           value\n",
       "gene_id orf              \n",
       "2       YAL002W  1.344456\n",
       "1863    YAL004W  0.382591\n",
       "4       YAL005C -0.009773\n",
       "5       YAL007C  0.206225\n",
       "7       YAL009W -2.217163"
      ]
     },
     "execution_count": 30,
     "metadata": {},
     "output_type": "execute_result"
    }
   ],
   "source": [
    "data['gene_id'] = gene_ids\n",
    "data = data.loc[data['gene_id'].notnull()]\n",
    "data['gene_id'] = data['gene_id'].astype(int)\n",
    "data = data.reset_index().set_index(['gene_id','orf'])\n",
    "\n",
    "data.head()"
   ]
  },
  {
   "cell_type": "markdown",
   "metadata": {},
   "source": [
    "# Normalize"
   ]
  },
  {
   "cell_type": "code",
   "execution_count": 31,
   "metadata": {},
   "outputs": [],
   "source": [
    "data_norm = normalize_phenotypic_scores(data, has_tested=True)"
   ]
  },
  {
   "cell_type": "code",
   "execution_count": 32,
   "metadata": {},
   "outputs": [],
   "source": [
    "# Assign proper column names\n",
    "lst = [datasets.index.values, ['valuez']*datasets.shape[0]]\n",
    "tuples = list(zip(*lst))\n",
    "idx = pd.MultiIndex.from_tuples(tuples, names=['dataset_id','data_type'])\n",
    "data_norm.columns = idx"
   ]
  },
  {
   "cell_type": "code",
   "execution_count": 33,
   "metadata": {},
   "outputs": [
    {
     "data": {
      "text/html": [
       "<div>\n",
       "<style scoped>\n",
       "    .dataframe tbody tr th:only-of-type {\n",
       "        vertical-align: middle;\n",
       "    }\n",
       "\n",
       "    .dataframe tbody tr th {\n",
       "        vertical-align: top;\n",
       "    }\n",
       "\n",
       "    .dataframe thead tr th {\n",
       "        text-align: left;\n",
       "    }\n",
       "\n",
       "    .dataframe thead tr:last-of-type th {\n",
       "        text-align: right;\n",
       "    }\n",
       "</style>\n",
       "<table border=\"1\" class=\"dataframe\">\n",
       "  <thead>\n",
       "    <tr>\n",
       "      <th></th>\n",
       "      <th>dataset_id</th>\n",
       "      <th colspan=\"2\" halign=\"left\">5374</th>\n",
       "    </tr>\n",
       "    <tr>\n",
       "      <th></th>\n",
       "      <th>data_type</th>\n",
       "      <th>value</th>\n",
       "      <th>valuez</th>\n",
       "    </tr>\n",
       "    <tr>\n",
       "      <th>gene_id</th>\n",
       "      <th>orf</th>\n",
       "      <th></th>\n",
       "      <th></th>\n",
       "    </tr>\n",
       "  </thead>\n",
       "  <tbody>\n",
       "    <tr>\n",
       "      <th>2</th>\n",
       "      <th>YAL002W</th>\n",
       "      <td>1.344456</td>\n",
       "      <td>1.602666</td>\n",
       "    </tr>\n",
       "    <tr>\n",
       "      <th>1863</th>\n",
       "      <th>YAL004W</th>\n",
       "      <td>0.382591</td>\n",
       "      <td>0.507620</td>\n",
       "    </tr>\n",
       "    <tr>\n",
       "      <th>4</th>\n",
       "      <th>YAL005C</th>\n",
       "      <td>-0.009773</td>\n",
       "      <td>0.060928</td>\n",
       "    </tr>\n",
       "    <tr>\n",
       "      <th>5</th>\n",
       "      <th>YAL007C</th>\n",
       "      <td>0.206225</td>\n",
       "      <td>0.306834</td>\n",
       "    </tr>\n",
       "    <tr>\n",
       "      <th>7</th>\n",
       "      <th>YAL009W</th>\n",
       "      <td>-2.217163</td>\n",
       "      <td>-2.452099</td>\n",
       "    </tr>\n",
       "  </tbody>\n",
       "</table>\n",
       "</div>"
      ],
      "text/plain": [
       "dataset_id           5374          \n",
       "data_type           value    valuez\n",
       "gene_id orf                        \n",
       "2       YAL002W  1.344456  1.602666\n",
       "1863    YAL004W  0.382591  0.507620\n",
       "4       YAL005C -0.009773  0.060928\n",
       "5       YAL007C  0.206225  0.306834\n",
       "7       YAL009W -2.217163 -2.452099"
      ]
     },
     "execution_count": 33,
     "metadata": {},
     "output_type": "execute_result"
    }
   ],
   "source": [
    "data_norm[data.isnull()] = np.nan\n",
    "data_all = data.join(data_norm)\n",
    "\n",
    "data_all.head()"
   ]
  },
  {
   "cell_type": "markdown",
   "metadata": {},
   "source": [
    "# Print out"
   ]
  },
  {
   "cell_type": "code",
   "execution_count": 34,
   "metadata": {},
   "outputs": [],
   "source": [
    "for f in ['value','valuez']:\n",
    "    df = data_all.xs(f, level='data_type', axis=1).copy()\n",
    "    df.columns = datasets['name'].values\n",
    "    df = df.droplevel('gene_id', axis=0)\n",
    "    df.to_csv(paper_name + '_' + f + '.txt', sep='\\t')"
   ]
  },
  {
   "cell_type": "markdown",
   "metadata": {},
   "source": [
    "# Save to DB"
   ]
  },
  {
   "cell_type": "code",
   "execution_count": 35,
   "metadata": {},
   "outputs": [],
   "source": [
    "from IO.save_data_to_db3 import *"
   ]
  },
  {
   "cell_type": "code",
   "execution_count": 36,
   "metadata": {},
   "outputs": [
    {
     "name": "stderr",
     "output_type": "stream",
     "text": [
      "  0%|          | 0/1 [00:00<?, ?it/s]"
     ]
    },
    {
     "name": "stdout",
     "output_type": "stream",
     "text": [
      "Deleting all datasets for PMID 18253494...\n",
      "Inserting the new data...\n"
     ]
    },
    {
     "name": "stderr",
     "output_type": "stream",
     "text": [
      "100%|██████████| 1/1 [00:06<00:00,  6.99s/it]"
     ]
    },
    {
     "name": "stdout",
     "output_type": "stream",
     "text": [
      "Updating the data_modified_on field...\n"
     ]
    },
    {
     "name": "stderr",
     "output_type": "stream",
     "text": [
      "\n"
     ]
    }
   ],
   "source": [
    "save_data_to_db(data_all, paper_pmid)"
   ]
  },
  {
   "cell_type": "code",
   "execution_count": null,
   "metadata": {},
   "outputs": [],
   "source": []
  }
 ],
 "metadata": {
  "kernelspec": {
   "display_name": "yp-data",
   "language": "python",
   "name": "yp-data"
  },
  "language_info": {
   "codemirror_mode": {
    "name": "ipython",
    "version": 3
   },
   "file_extension": ".py",
   "mimetype": "text/x-python",
   "name": "python",
   "nbconvert_exporter": "python",
   "pygments_lexer": "ipython3",
   "version": "3.7.7"
  }
 },
 "nbformat": 4,
 "nbformat_minor": 4
}
