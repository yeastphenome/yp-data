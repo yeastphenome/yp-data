{
 "cells": [
  {
   "cell_type": "code",
   "execution_count": 1,
   "metadata": {},
   "outputs": [],
   "source": [
    "%run ../yp_utils.py"
   ]
  },
  {
   "cell_type": "markdown",
   "metadata": {},
   "source": [
    "# Initial setup"
   ]
  },
  {
   "cell_type": "code",
   "execution_count": 2,
   "metadata": {},
   "outputs": [],
   "source": [
    "paper_pmid = 27088128\n",
    "paper_name = 'koselny_krysan_2016' "
   ]
  },
  {
   "cell_type": "code",
   "execution_count": 3,
   "metadata": {},
   "outputs": [],
   "source": [
    "datasets = pd.read_csv('extras/YeastPhenome_' + str(paper_pmid) + '_datasets_list.txt', sep='\\t', header=None, names=['dataset_id', 'name'])"
   ]
  },
  {
   "cell_type": "code",
   "execution_count": 4,
   "metadata": {},
   "outputs": [],
   "source": [
    "datasets.set_index('dataset_id', inplace=True)"
   ]
  },
  {
   "cell_type": "markdown",
   "metadata": {},
   "source": [
    "# Load & process the data"
   ]
  },
  {
   "cell_type": "code",
   "execution_count": 23,
   "metadata": {},
   "outputs": [],
   "source": [
    "original_data1 = pd.read_excel(\"raw_data/deliv_AltComparisons - Lacey's data - Sorted by Pvalue.xlsx\", sheet_name='DowntagFC', skiprows=1)\n",
    "original_data2 = pd.read_excel(\"raw_data/deliv_AltComparisons - Lacey's data - Sorted by Pvalue.xlsx\", sheet_name='UptagFC', skiprows=1)"
   ]
  },
  {
   "cell_type": "code",
   "execution_count": 24,
   "metadata": {},
   "outputs": [
    {
     "name": "stdout",
     "output_type": "stream",
     "text": [
      "Original data dimensions: 6293 x 12\n",
      "Original data dimensions: 6446 x 12\n"
     ]
    }
   ],
   "source": [
    "print('Original data dimensions: %d x %d' % (original_data1.shape))\n",
    "print('Original data dimensions: %d x %d' % (original_data2.shape))"
   ]
  },
  {
   "cell_type": "code",
   "execution_count": 25,
   "metadata": {},
   "outputs": [
    {
     "data": {
      "text/html": [
       "<div>\n",
       "<style scoped>\n",
       "    .dataframe tbody tr th:only-of-type {\n",
       "        vertical-align: middle;\n",
       "    }\n",
       "\n",
       "    .dataframe tbody tr th {\n",
       "        vertical-align: top;\n",
       "    }\n",
       "\n",
       "    .dataframe thead th {\n",
       "        text-align: right;\n",
       "    }\n",
       "</style>\n",
       "<table border=\"1\" class=\"dataframe\">\n",
       "  <thead>\n",
       "    <tr style=\"text-align: right;\">\n",
       "      <th></th>\n",
       "      <th>orf_name</th>\n",
       "      <th>A</th>\n",
       "      <th>B</th>\n",
       "      <th>C</th>\n",
       "      <th>D</th>\n",
       "      <th>All 2's vs. All 0's</th>\n",
       "      <th>Unnamed: 6</th>\n",
       "      <th>Unnamed: 7</th>\n",
       "      <th>&lt;-1</th>\n",
       "      <th>0.6307692307692307</th>\n",
       "      <th>Unnamed: 10</th>\n",
       "      <th>Unnamed: 11</th>\n",
       "    </tr>\n",
       "  </thead>\n",
       "  <tbody>\n",
       "    <tr>\n",
       "      <th>0</th>\n",
       "      <td>YPR188C</td>\n",
       "      <td>-0.489753</td>\n",
       "      <td>-0.288484</td>\n",
       "      <td>-0.491991</td>\n",
       "      <td>-0.42718</td>\n",
       "      <td>0.000014</td>\n",
       "      <td>NaN</td>\n",
       "      <td>NaN</td>\n",
       "      <td>NaN</td>\n",
       "      <td>NaN</td>\n",
       "      <td>NaN</td>\n",
       "      <td>NaN</td>\n",
       "    </tr>\n",
       "    <tr>\n",
       "      <th>1</th>\n",
       "      <td>YCR092C</td>\n",
       "      <td>0.580636</td>\n",
       "      <td>0.915609</td>\n",
       "      <td>0.866217</td>\n",
       "      <td>0.581488</td>\n",
       "      <td>0.000044</td>\n",
       "      <td>NaN</td>\n",
       "      <td>NaN</td>\n",
       "      <td>NaN</td>\n",
       "      <td>NaN</td>\n",
       "      <td>NaN</td>\n",
       "      <td>NaN</td>\n",
       "    </tr>\n",
       "    <tr>\n",
       "      <th>2</th>\n",
       "      <td>YDR481C</td>\n",
       "      <td>-0.584633</td>\n",
       "      <td>-0.783874</td>\n",
       "      <td>-1.16579</td>\n",
       "      <td>-0.787227</td>\n",
       "      <td>0.000066</td>\n",
       "      <td>NaN</td>\n",
       "      <td>NaN</td>\n",
       "      <td>NaN</td>\n",
       "      <td>NaN</td>\n",
       "      <td>NaN</td>\n",
       "      <td>NaN</td>\n",
       "    </tr>\n",
       "    <tr>\n",
       "      <th>3</th>\n",
       "      <td>YLR206W</td>\n",
       "      <td>-0.755624</td>\n",
       "      <td>-0.683381</td>\n",
       "      <td>-0.759622</td>\n",
       "      <td>-0.624486</td>\n",
       "      <td>0.000070</td>\n",
       "      <td>NaN</td>\n",
       "      <td>NaN</td>\n",
       "      <td>NaN</td>\n",
       "      <td>NaN</td>\n",
       "      <td>NaN</td>\n",
       "      <td>NaN</td>\n",
       "    </tr>\n",
       "    <tr>\n",
       "      <th>4</th>\n",
       "      <td>YCR025C</td>\n",
       "      <td>-3.75288</td>\n",
       "      <td>-8.58357</td>\n",
       "      <td>-2.42621</td>\n",
       "      <td>ABSENT</td>\n",
       "      <td>0.000105</td>\n",
       "      <td>NaN</td>\n",
       "      <td>YCR025C</td>\n",
       "      <td>NaN</td>\n",
       "      <td>Dubious</td>\n",
       "      <td>Dubious open reading frame; unlikely to encode...</td>\n",
       "      <td>NaN</td>\n",
       "    </tr>\n",
       "  </tbody>\n",
       "</table>\n",
       "</div>"
      ],
      "text/plain": [
       "  orf_name         A         B         C         D  All 2's vs. All 0's  \\\n",
       "0  YPR188C -0.489753 -0.288484 -0.491991  -0.42718             0.000014   \n",
       "1  YCR092C  0.580636  0.915609  0.866217  0.581488             0.000044   \n",
       "2  YDR481C -0.584633 -0.783874  -1.16579 -0.787227             0.000066   \n",
       "3  YLR206W -0.755624 -0.683381 -0.759622 -0.624486             0.000070   \n",
       "4  YCR025C  -3.75288  -8.58357  -2.42621    ABSENT             0.000105   \n",
       "\n",
       "   Unnamed: 6 Unnamed: 7  <-1 0.6307692307692307  \\\n",
       "0         NaN        NaN  NaN                NaN   \n",
       "1         NaN        NaN  NaN                NaN   \n",
       "2         NaN        NaN  NaN                NaN   \n",
       "3         NaN        NaN  NaN                NaN   \n",
       "4         NaN    YCR025C  NaN            Dubious   \n",
       "\n",
       "                                         Unnamed: 10  Unnamed: 11  \n",
       "0                                                NaN          NaN  \n",
       "1                                                NaN          NaN  \n",
       "2                                                NaN          NaN  \n",
       "3                                                NaN          NaN  \n",
       "4  Dubious open reading frame; unlikely to encode...          NaN  "
      ]
     },
     "execution_count": 25,
     "metadata": {},
     "output_type": "execute_result"
    }
   ],
   "source": [
    "original_data1.head()"
   ]
  },
  {
   "cell_type": "code",
   "execution_count": 26,
   "metadata": {},
   "outputs": [],
   "source": [
    "original_data1['orf'] = original_data1['orf_name'].astype(str)\n",
    "original_data2['orf'] = original_data2['orf_name'].astype(str)"
   ]
  },
  {
   "cell_type": "code",
   "execution_count": 27,
   "metadata": {},
   "outputs": [],
   "source": [
    "# Eliminate all white spaces & capitalize\n",
    "original_data1['orf'] = clean_orf(original_data1['orf'])\n",
    "original_data2['orf'] = clean_orf(original_data2['orf'])"
   ]
  },
  {
   "cell_type": "code",
   "execution_count": 28,
   "metadata": {},
   "outputs": [],
   "source": [
    "# Translate to ORFs \n",
    "original_data1['orf'] = translate_sc(original_data1['orf'], to='orf')\n",
    "original_data2['orf'] = translate_sc(original_data2['orf'], to='orf')"
   ]
  },
  {
   "cell_type": "code",
   "execution_count": 29,
   "metadata": {},
   "outputs": [
    {
     "name": "stdout",
     "output_type": "stream",
     "text": [
      "               orf_name   A                   B       C   D  \\\n",
      "index_input                                                   \n",
      "5045         YBR160W_AS  +0  +0.185634523863225  ABSENT  +0   \n",
      "\n",
      "             All 2's vs. All 0's  Unnamed: 6 Unnamed: 7  <-1  \\\n",
      "index_input                                                    \n",
      "5045                     0.36474         NaN        NaN  NaN   \n",
      "\n",
      "            0.6307692307692307 Unnamed: 10  Unnamed: 11        orf  \n",
      "index_input                                                         \n",
      "5045                       NaN         NaN          NaN  YBR160WAS  \n"
     ]
    }
   ],
   "source": [
    "# Make sure everything translated ok\n",
    "t = looks_like_orf(original_data1['orf'])\n",
    "print(original_data1.loc[~t,])"
   ]
  },
  {
   "cell_type": "code",
   "execution_count": 30,
   "metadata": {},
   "outputs": [
    {
     "name": "stdout",
     "output_type": "stream",
     "text": [
      "               orf_name                   A       B                    C  \\\n",
      "index_input                                                                \n",
      "6123         YBR160W_AS  +0.189381206377223 -1.5736  +0.0870193951438478   \n",
      "\n",
      "                  D  All 2's vs. All 0's  Unnamed: 6 Unnamed: 7   <1  \\\n",
      "index_input                                                            \n",
      "6123         ABSENT             0.465656         NaN        NaN  NaN   \n",
      "\n",
      "            0.43373493975903615 Unnamed: 10  Unnamed: 11        orf  \n",
      "index_input                                                          \n",
      "6123                        NaN         NaN          NaN  YBR160WAS  \n"
     ]
    }
   ],
   "source": [
    "# Make sure everything translated ok\n",
    "t = looks_like_orf(original_data2['orf'])\n",
    "print(original_data2.loc[~t,])"
   ]
  },
  {
   "cell_type": "code",
   "execution_count": 31,
   "metadata": {},
   "outputs": [],
   "source": [
    "original_data1.loc[original_data1['orf'] == 'YBR160W_AS','orf'] = 'YBR160W'\n",
    "original_data2.loc[original_data2['orf'] == 'YBR160W_AS','orf'] = 'YBR160W'"
   ]
  },
  {
   "cell_type": "code",
   "execution_count": 32,
   "metadata": {},
   "outputs": [],
   "source": [
    "for c in ['A','B','C','D']:\n",
    "    original_data1[c] = pd.to_numeric(original_data1[c], errors='coerce')\n",
    "    original_data2[c] = pd.to_numeric(original_data2[c], errors='coerce')"
   ]
  },
  {
   "cell_type": "code",
   "execution_count": 33,
   "metadata": {},
   "outputs": [],
   "source": [
    "original_data1 = original_data1.groupby(original_data1['orf']).mean()\n",
    "original_data2 = original_data2.groupby(original_data2['orf']).mean()"
   ]
  },
  {
   "cell_type": "code",
   "execution_count": 34,
   "metadata": {},
   "outputs": [
    {
     "name": "stdout",
     "output_type": "stream",
     "text": [
      "(5716, 7)\n",
      "(5899, 7)\n"
     ]
    }
   ],
   "source": [
    "print(original_data1.shape)\n",
    "print(original_data2.shape)"
   ]
  },
  {
   "cell_type": "code",
   "execution_count": 37,
   "metadata": {},
   "outputs": [],
   "source": [
    "original_data = original_data1[['A','B','C','D']].join(original_data2[['A','B','C','D']], lsuffix='_down', rsuffix='_up')"
   ]
  },
  {
   "cell_type": "code",
   "execution_count": 38,
   "metadata": {},
   "outputs": [
    {
     "data": {
      "text/html": [
       "<div>\n",
       "<style scoped>\n",
       "    .dataframe tbody tr th:only-of-type {\n",
       "        vertical-align: middle;\n",
       "    }\n",
       "\n",
       "    .dataframe tbody tr th {\n",
       "        vertical-align: top;\n",
       "    }\n",
       "\n",
       "    .dataframe thead th {\n",
       "        text-align: right;\n",
       "    }\n",
       "</style>\n",
       "<table border=\"1\" class=\"dataframe\">\n",
       "  <thead>\n",
       "    <tr style=\"text-align: right;\">\n",
       "      <th></th>\n",
       "      <th>A_down</th>\n",
       "      <th>B_down</th>\n",
       "      <th>C_down</th>\n",
       "      <th>D_down</th>\n",
       "      <th>A_up</th>\n",
       "      <th>B_up</th>\n",
       "      <th>C_up</th>\n",
       "      <th>D_up</th>\n",
       "    </tr>\n",
       "    <tr>\n",
       "      <th>orf</th>\n",
       "      <th></th>\n",
       "      <th></th>\n",
       "      <th></th>\n",
       "      <th></th>\n",
       "      <th></th>\n",
       "      <th></th>\n",
       "      <th></th>\n",
       "      <th></th>\n",
       "    </tr>\n",
       "  </thead>\n",
       "  <tbody>\n",
       "    <tr>\n",
       "      <th>YAL012W</th>\n",
       "      <td>-1.214814</td>\n",
       "      <td>0.447090</td>\n",
       "      <td>-0.824963</td>\n",
       "      <td>0.230506</td>\n",
       "      <td>-1.146863</td>\n",
       "      <td>0.336091</td>\n",
       "      <td>-1.880935</td>\n",
       "      <td>1.248505</td>\n",
       "    </tr>\n",
       "    <tr>\n",
       "      <th>YAL016W</th>\n",
       "      <td>-0.218436</td>\n",
       "      <td>0.276031</td>\n",
       "      <td>-0.560689</td>\n",
       "      <td>NaN</td>\n",
       "      <td>-0.526832</td>\n",
       "      <td>0.067229</td>\n",
       "      <td>-1.168750</td>\n",
       "      <td>-3.836371</td>\n",
       "    </tr>\n",
       "    <tr>\n",
       "      <th>YAL024C</th>\n",
       "      <td>-0.526201</td>\n",
       "      <td>-0.077825</td>\n",
       "      <td>-0.135837</td>\n",
       "      <td>0.127956</td>\n",
       "      <td>-0.405916</td>\n",
       "      <td>-0.221996</td>\n",
       "      <td>0.212038</td>\n",
       "      <td>0.182649</td>\n",
       "    </tr>\n",
       "    <tr>\n",
       "      <th>YAL047C</th>\n",
       "      <td>0.264278</td>\n",
       "      <td>0.126090</td>\n",
       "      <td>0.534486</td>\n",
       "      <td>-0.644725</td>\n",
       "      <td>0.250593</td>\n",
       "      <td>0.197676</td>\n",
       "      <td>0.305322</td>\n",
       "      <td>1.533319</td>\n",
       "    </tr>\n",
       "    <tr>\n",
       "      <th>YAL054C</th>\n",
       "      <td>-0.297919</td>\n",
       "      <td>0.222354</td>\n",
       "      <td>0.091307</td>\n",
       "      <td>-0.392657</td>\n",
       "      <td>0.162762</td>\n",
       "      <td>-0.387185</td>\n",
       "      <td>-0.078196</td>\n",
       "      <td>-0.077585</td>\n",
       "    </tr>\n",
       "  </tbody>\n",
       "</table>\n",
       "</div>"
      ],
      "text/plain": [
       "           A_down    B_down    C_down    D_down      A_up      B_up      C_up  \\\n",
       "orf                                                                             \n",
       "YAL012W -1.214814  0.447090 -0.824963  0.230506 -1.146863  0.336091 -1.880935   \n",
       "YAL016W -0.218436  0.276031 -0.560689       NaN -0.526832  0.067229 -1.168750   \n",
       "YAL024C -0.526201 -0.077825 -0.135837  0.127956 -0.405916 -0.221996  0.212038   \n",
       "YAL047C  0.264278  0.126090  0.534486 -0.644725  0.250593  0.197676  0.305322   \n",
       "YAL054C -0.297919  0.222354  0.091307 -0.392657  0.162762 -0.387185 -0.078196   \n",
       "\n",
       "             D_up  \n",
       "orf                \n",
       "YAL012W  1.248505  \n",
       "YAL016W -3.836371  \n",
       "YAL024C  0.182649  \n",
       "YAL047C  1.533319  \n",
       "YAL054C -0.077585  "
      ]
     },
     "execution_count": 38,
     "metadata": {},
     "output_type": "execute_result"
    }
   ],
   "source": [
    "original_data.head()"
   ]
  },
  {
   "cell_type": "code",
   "execution_count": 39,
   "metadata": {},
   "outputs": [],
   "source": [
    "original_data['data'] = original_data.mean(axis=1)"
   ]
  },
  {
   "cell_type": "code",
   "execution_count": 41,
   "metadata": {},
   "outputs": [
    {
     "data": {
      "text/html": [
       "<div>\n",
       "<style scoped>\n",
       "    .dataframe tbody tr th:only-of-type {\n",
       "        vertical-align: middle;\n",
       "    }\n",
       "\n",
       "    .dataframe tbody tr th {\n",
       "        vertical-align: top;\n",
       "    }\n",
       "\n",
       "    .dataframe thead th {\n",
       "        text-align: right;\n",
       "    }\n",
       "</style>\n",
       "<table border=\"1\" class=\"dataframe\">\n",
       "  <thead>\n",
       "    <tr style=\"text-align: right;\">\n",
       "      <th></th>\n",
       "      <th>A_down</th>\n",
       "      <th>B_down</th>\n",
       "      <th>C_down</th>\n",
       "      <th>D_down</th>\n",
       "      <th>A_up</th>\n",
       "      <th>B_up</th>\n",
       "      <th>C_up</th>\n",
       "      <th>D_up</th>\n",
       "      <th>data</th>\n",
       "    </tr>\n",
       "    <tr>\n",
       "      <th>orf</th>\n",
       "      <th></th>\n",
       "      <th></th>\n",
       "      <th></th>\n",
       "      <th></th>\n",
       "      <th></th>\n",
       "      <th></th>\n",
       "      <th></th>\n",
       "      <th></th>\n",
       "      <th></th>\n",
       "    </tr>\n",
       "  </thead>\n",
       "  <tbody>\n",
       "    <tr>\n",
       "      <th>YAL012W</th>\n",
       "      <td>-1.214814</td>\n",
       "      <td>0.447090</td>\n",
       "      <td>-0.824963</td>\n",
       "      <td>0.230506</td>\n",
       "      <td>-1.146863</td>\n",
       "      <td>0.336091</td>\n",
       "      <td>-1.880935</td>\n",
       "      <td>1.248505</td>\n",
       "      <td>-0.350673</td>\n",
       "    </tr>\n",
       "    <tr>\n",
       "      <th>YAL016W</th>\n",
       "      <td>-0.218436</td>\n",
       "      <td>0.276031</td>\n",
       "      <td>-0.560689</td>\n",
       "      <td>NaN</td>\n",
       "      <td>-0.526832</td>\n",
       "      <td>0.067229</td>\n",
       "      <td>-1.168750</td>\n",
       "      <td>-3.836371</td>\n",
       "      <td>-0.852545</td>\n",
       "    </tr>\n",
       "    <tr>\n",
       "      <th>YAL024C</th>\n",
       "      <td>-0.526201</td>\n",
       "      <td>-0.077825</td>\n",
       "      <td>-0.135837</td>\n",
       "      <td>0.127956</td>\n",
       "      <td>-0.405916</td>\n",
       "      <td>-0.221996</td>\n",
       "      <td>0.212038</td>\n",
       "      <td>0.182649</td>\n",
       "      <td>-0.105642</td>\n",
       "    </tr>\n",
       "    <tr>\n",
       "      <th>YAL047C</th>\n",
       "      <td>0.264278</td>\n",
       "      <td>0.126090</td>\n",
       "      <td>0.534486</td>\n",
       "      <td>-0.644725</td>\n",
       "      <td>0.250593</td>\n",
       "      <td>0.197676</td>\n",
       "      <td>0.305322</td>\n",
       "      <td>1.533319</td>\n",
       "      <td>0.320880</td>\n",
       "    </tr>\n",
       "    <tr>\n",
       "      <th>YAL054C</th>\n",
       "      <td>-0.297919</td>\n",
       "      <td>0.222354</td>\n",
       "      <td>0.091307</td>\n",
       "      <td>-0.392657</td>\n",
       "      <td>0.162762</td>\n",
       "      <td>-0.387185</td>\n",
       "      <td>-0.078196</td>\n",
       "      <td>-0.077585</td>\n",
       "      <td>-0.094640</td>\n",
       "    </tr>\n",
       "  </tbody>\n",
       "</table>\n",
       "</div>"
      ],
      "text/plain": [
       "           A_down    B_down    C_down    D_down      A_up      B_up      C_up  \\\n",
       "orf                                                                             \n",
       "YAL012W -1.214814  0.447090 -0.824963  0.230506 -1.146863  0.336091 -1.880935   \n",
       "YAL016W -0.218436  0.276031 -0.560689       NaN -0.526832  0.067229 -1.168750   \n",
       "YAL024C -0.526201 -0.077825 -0.135837  0.127956 -0.405916 -0.221996  0.212038   \n",
       "YAL047C  0.264278  0.126090  0.534486 -0.644725  0.250593  0.197676  0.305322   \n",
       "YAL054C -0.297919  0.222354  0.091307 -0.392657  0.162762 -0.387185 -0.078196   \n",
       "\n",
       "             D_up      data  \n",
       "orf                          \n",
       "YAL012W  1.248505 -0.350673  \n",
       "YAL016W -3.836371 -0.852545  \n",
       "YAL024C  0.182649 -0.105642  \n",
       "YAL047C  1.533319  0.320880  \n",
       "YAL054C -0.077585 -0.094640  "
      ]
     },
     "execution_count": 41,
     "metadata": {},
     "output_type": "execute_result"
    }
   ],
   "source": [
    "original_data.head()"
   ]
  },
  {
   "cell_type": "markdown",
   "metadata": {},
   "source": [
    "# Prepare the final dataset"
   ]
  },
  {
   "cell_type": "code",
   "execution_count": 54,
   "metadata": {},
   "outputs": [],
   "source": [
    "data = original_data[['data']].copy()"
   ]
  },
  {
   "cell_type": "code",
   "execution_count": 55,
   "metadata": {},
   "outputs": [],
   "source": [
    "dataset_ids = [22077]\n",
    "datasets = datasets.reindex(index=dataset_ids)"
   ]
  },
  {
   "cell_type": "code",
   "execution_count": 56,
   "metadata": {},
   "outputs": [],
   "source": [
    "lst = [datasets.index.values, ['value']*datasets.shape[0]]\n",
    "tuples = list(zip(*lst))\n",
    "idx = pd.MultiIndex.from_tuples(tuples, names=['dataset_id','data_type'])\n",
    "data.columns = idx"
   ]
  },
  {
   "cell_type": "code",
   "execution_count": 57,
   "metadata": {},
   "outputs": [
    {
     "data": {
      "text/html": [
       "<div>\n",
       "<style scoped>\n",
       "    .dataframe tbody tr th:only-of-type {\n",
       "        vertical-align: middle;\n",
       "    }\n",
       "\n",
       "    .dataframe tbody tr th {\n",
       "        vertical-align: top;\n",
       "    }\n",
       "\n",
       "    .dataframe thead tr th {\n",
       "        text-align: left;\n",
       "    }\n",
       "\n",
       "    .dataframe thead tr:last-of-type th {\n",
       "        text-align: right;\n",
       "    }\n",
       "</style>\n",
       "<table border=\"1\" class=\"dataframe\">\n",
       "  <thead>\n",
       "    <tr>\n",
       "      <th>dataset_id</th>\n",
       "      <th>22077</th>\n",
       "    </tr>\n",
       "    <tr>\n",
       "      <th>data_type</th>\n",
       "      <th>value</th>\n",
       "    </tr>\n",
       "    <tr>\n",
       "      <th>orf</th>\n",
       "      <th></th>\n",
       "    </tr>\n",
       "  </thead>\n",
       "  <tbody>\n",
       "    <tr>\n",
       "      <th>YAL012W</th>\n",
       "      <td>-0.350673</td>\n",
       "    </tr>\n",
       "    <tr>\n",
       "      <th>YAL016W</th>\n",
       "      <td>-0.852545</td>\n",
       "    </tr>\n",
       "    <tr>\n",
       "      <th>YAL024C</th>\n",
       "      <td>-0.105642</td>\n",
       "    </tr>\n",
       "    <tr>\n",
       "      <th>YAL047C</th>\n",
       "      <td>0.320880</td>\n",
       "    </tr>\n",
       "    <tr>\n",
       "      <th>YAL054C</th>\n",
       "      <td>-0.094640</td>\n",
       "    </tr>\n",
       "  </tbody>\n",
       "</table>\n",
       "</div>"
      ],
      "text/plain": [
       "dataset_id     22077\n",
       "data_type      value\n",
       "orf                 \n",
       "YAL012W    -0.350673\n",
       "YAL016W    -0.852545\n",
       "YAL024C    -0.105642\n",
       "YAL047C     0.320880\n",
       "YAL054C    -0.094640"
      ]
     },
     "execution_count": 57,
     "metadata": {},
     "output_type": "execute_result"
    }
   ],
   "source": [
    "data.head()"
   ]
  },
  {
   "cell_type": "markdown",
   "metadata": {},
   "source": [
    "## Subset to the genes currently in SGD"
   ]
  },
  {
   "cell_type": "code",
   "execution_count": 58,
   "metadata": {},
   "outputs": [
    {
     "name": "stdout",
     "output_type": "stream",
     "text": [
      "ORFs missing from SGD: 22\n"
     ]
    }
   ],
   "source": [
    "genes = pd.read_csv(path_to_genes, sep='\\t', index_col='id')\n",
    "genes = genes.reset_index().set_index('systematic_name')\n",
    "gene_ids = genes.reindex(index=data.index.values)['id'].values\n",
    "num_missing = np.sum(np.isnan(gene_ids))\n",
    "print('ORFs missing from SGD: %d' % num_missing)"
   ]
  },
  {
   "cell_type": "code",
   "execution_count": 59,
   "metadata": {},
   "outputs": [
    {
     "data": {
      "text/html": [
       "<div>\n",
       "<style scoped>\n",
       "    .dataframe tbody tr th:only-of-type {\n",
       "        vertical-align: middle;\n",
       "    }\n",
       "\n",
       "    .dataframe tbody tr th {\n",
       "        vertical-align: top;\n",
       "    }\n",
       "\n",
       "    .dataframe thead tr th {\n",
       "        text-align: left;\n",
       "    }\n",
       "\n",
       "    .dataframe thead tr:last-of-type th {\n",
       "        text-align: right;\n",
       "    }\n",
       "</style>\n",
       "<table border=\"1\" class=\"dataframe\">\n",
       "  <thead>\n",
       "    <tr>\n",
       "      <th></th>\n",
       "      <th>dataset_id</th>\n",
       "      <th>22077</th>\n",
       "    </tr>\n",
       "    <tr>\n",
       "      <th></th>\n",
       "      <th>data_type</th>\n",
       "      <th>value</th>\n",
       "    </tr>\n",
       "    <tr>\n",
       "      <th>gene_id</th>\n",
       "      <th>orf</th>\n",
       "      <th></th>\n",
       "    </tr>\n",
       "  </thead>\n",
       "  <tbody>\n",
       "    <tr>\n",
       "      <th>10</th>\n",
       "      <th>YAL012W</th>\n",
       "      <td>-0.350673</td>\n",
       "    </tr>\n",
       "    <tr>\n",
       "      <th>14</th>\n",
       "      <th>YAL016W</th>\n",
       "      <td>-0.852545</td>\n",
       "    </tr>\n",
       "    <tr>\n",
       "      <th>22</th>\n",
       "      <th>YAL024C</th>\n",
       "      <td>-0.105642</td>\n",
       "    </tr>\n",
       "    <tr>\n",
       "      <th>45</th>\n",
       "      <th>YAL047C</th>\n",
       "      <td>0.320880</td>\n",
       "    </tr>\n",
       "    <tr>\n",
       "      <th>50</th>\n",
       "      <th>YAL054C</th>\n",
       "      <td>-0.094640</td>\n",
       "    </tr>\n",
       "  </tbody>\n",
       "</table>\n",
       "</div>"
      ],
      "text/plain": [
       "dataset_id          22077\n",
       "data_type           value\n",
       "gene_id orf              \n",
       "10      YAL012W -0.350673\n",
       "14      YAL016W -0.852545\n",
       "22      YAL024C -0.105642\n",
       "45      YAL047C  0.320880\n",
       "50      YAL054C -0.094640"
      ]
     },
     "execution_count": 59,
     "metadata": {},
     "output_type": "execute_result"
    }
   ],
   "source": [
    "data['gene_id'] = gene_ids\n",
    "data = data.loc[data['gene_id'].notnull()]\n",
    "data['gene_id'] = data['gene_id'].astype(int)\n",
    "data = data.reset_index().set_index(['gene_id','orf'])\n",
    "\n",
    "data.head()"
   ]
  },
  {
   "cell_type": "markdown",
   "metadata": {},
   "source": [
    "# Normalize"
   ]
  },
  {
   "cell_type": "code",
   "execution_count": 60,
   "metadata": {},
   "outputs": [],
   "source": [
    "data_norm = normalize_phenotypic_scores(data, has_tested=True)"
   ]
  },
  {
   "cell_type": "code",
   "execution_count": 61,
   "metadata": {},
   "outputs": [],
   "source": [
    "# Assign proper column names\n",
    "lst = [datasets.index.values, ['valuez']*datasets.shape[0]]\n",
    "tuples = list(zip(*lst))\n",
    "idx = pd.MultiIndex.from_tuples(tuples, names=['dataset_id','data_type'])\n",
    "data_norm.columns = idx"
   ]
  },
  {
   "cell_type": "code",
   "execution_count": 62,
   "metadata": {},
   "outputs": [
    {
     "data": {
      "text/html": [
       "<div>\n",
       "<style scoped>\n",
       "    .dataframe tbody tr th:only-of-type {\n",
       "        vertical-align: middle;\n",
       "    }\n",
       "\n",
       "    .dataframe tbody tr th {\n",
       "        vertical-align: top;\n",
       "    }\n",
       "\n",
       "    .dataframe thead tr th {\n",
       "        text-align: left;\n",
       "    }\n",
       "\n",
       "    .dataframe thead tr:last-of-type th {\n",
       "        text-align: right;\n",
       "    }\n",
       "</style>\n",
       "<table border=\"1\" class=\"dataframe\">\n",
       "  <thead>\n",
       "    <tr>\n",
       "      <th></th>\n",
       "      <th>dataset_id</th>\n",
       "      <th colspan=\"2\" halign=\"left\">22077</th>\n",
       "    </tr>\n",
       "    <tr>\n",
       "      <th></th>\n",
       "      <th>data_type</th>\n",
       "      <th>value</th>\n",
       "      <th>valuez</th>\n",
       "    </tr>\n",
       "    <tr>\n",
       "      <th>gene_id</th>\n",
       "      <th>orf</th>\n",
       "      <th></th>\n",
       "      <th></th>\n",
       "    </tr>\n",
       "  </thead>\n",
       "  <tbody>\n",
       "    <tr>\n",
       "      <th>10</th>\n",
       "      <th>YAL012W</th>\n",
       "      <td>-0.350673</td>\n",
       "      <td>-0.347129</td>\n",
       "    </tr>\n",
       "    <tr>\n",
       "      <th>14</th>\n",
       "      <th>YAL016W</th>\n",
       "      <td>-0.852545</td>\n",
       "      <td>-1.020353</td>\n",
       "    </tr>\n",
       "    <tr>\n",
       "      <th>22</th>\n",
       "      <th>YAL024C</th>\n",
       "      <td>-0.105642</td>\n",
       "      <td>-0.018438</td>\n",
       "    </tr>\n",
       "    <tr>\n",
       "      <th>45</th>\n",
       "      <th>YAL047C</th>\n",
       "      <td>0.320880</td>\n",
       "      <td>0.553708</td>\n",
       "    </tr>\n",
       "    <tr>\n",
       "      <th>50</th>\n",
       "      <th>YAL054C</th>\n",
       "      <td>-0.094640</td>\n",
       "      <td>-0.003680</td>\n",
       "    </tr>\n",
       "  </tbody>\n",
       "</table>\n",
       "</div>"
      ],
      "text/plain": [
       "dataset_id          22077          \n",
       "data_type           value    valuez\n",
       "gene_id orf                        \n",
       "10      YAL012W -0.350673 -0.347129\n",
       "14      YAL016W -0.852545 -1.020353\n",
       "22      YAL024C -0.105642 -0.018438\n",
       "45      YAL047C  0.320880  0.553708\n",
       "50      YAL054C -0.094640 -0.003680"
      ]
     },
     "execution_count": 62,
     "metadata": {},
     "output_type": "execute_result"
    }
   ],
   "source": [
    "data_norm[data.isnull()] = np.nan\n",
    "data_all = data.join(data_norm)\n",
    "\n",
    "data_all.head()"
   ]
  },
  {
   "cell_type": "markdown",
   "metadata": {},
   "source": [
    "# Print out"
   ]
  },
  {
   "cell_type": "code",
   "execution_count": 63,
   "metadata": {},
   "outputs": [],
   "source": [
    "for f in ['value','valuez']:\n",
    "    df = data_all.xs(f, level='data_type', axis=1).copy()\n",
    "    df.columns = datasets['name'].values\n",
    "    df = df.droplevel('gene_id', axis=0)\n",
    "    df.to_csv(paper_name + '_' + f + '.txt', sep='\\t')"
   ]
  },
  {
   "cell_type": "markdown",
   "metadata": {},
   "source": [
    "# Save to DB"
   ]
  },
  {
   "cell_type": "code",
   "execution_count": 64,
   "metadata": {},
   "outputs": [],
   "source": [
    "from IO.save_data_to_db3 import *"
   ]
  },
  {
   "cell_type": "code",
   "execution_count": 65,
   "metadata": {},
   "outputs": [
    {
     "name": "stderr",
     "output_type": "stream",
     "text": [
      "  0%|          | 0/1 [00:00<?, ?it/s]"
     ]
    },
    {
     "name": "stdout",
     "output_type": "stream",
     "text": [
      "Deleting all datasets for PMID 27088128...\n",
      "Inserting the new data...\n"
     ]
    },
    {
     "name": "stderr",
     "output_type": "stream",
     "text": [
      "100%|██████████| 1/1 [00:07<00:00,  7.48s/it]"
     ]
    },
    {
     "name": "stdout",
     "output_type": "stream",
     "text": [
      "Updating the data_modified_on field...\n"
     ]
    },
    {
     "name": "stderr",
     "output_type": "stream",
     "text": [
      "\n"
     ]
    }
   ],
   "source": [
    "save_data_to_db(data_all, paper_pmid)"
   ]
  },
  {
   "cell_type": "code",
   "execution_count": null,
   "metadata": {},
   "outputs": [],
   "source": []
  }
 ],
 "metadata": {
  "kernelspec": {
   "display_name": "yp-data",
   "language": "python",
   "name": "yp-data"
  },
  "language_info": {
   "codemirror_mode": {
    "name": "ipython",
    "version": 3
   },
   "file_extension": ".py",
   "mimetype": "text/x-python",
   "name": "python",
   "nbconvert_exporter": "python",
   "pygments_lexer": "ipython3",
   "version": "3.7.7"
  }
 },
 "nbformat": 4,
 "nbformat_minor": 4
}
