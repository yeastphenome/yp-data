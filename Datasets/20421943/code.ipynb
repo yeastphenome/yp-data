{
 "cells": [
  {
   "cell_type": "code",
   "execution_count": 1,
   "metadata": {},
   "outputs": [],
   "source": [
    "%run ../../Utils/yp_utils.py"
   ]
  },
  {
   "cell_type": "markdown",
   "metadata": {},
   "source": [
    "# Initial setup"
   ]
  },
  {
   "cell_type": "code",
   "execution_count": 2,
   "metadata": {},
   "outputs": [],
   "source": [
    "paper_pmid = 20421943\n",
    "paper_name = 'matecic_smith_2010' "
   ]
  },
  {
   "cell_type": "code",
   "execution_count": 3,
   "metadata": {},
   "outputs": [],
   "source": [
    "datasets = pd.read_csv('extras/YeastPhenome_' + str(paper_pmid) + '_datasets_list.txt', sep='\\t', header=None, names=['dataset_id', 'name'])"
   ]
  },
  {
   "cell_type": "code",
   "execution_count": 4,
   "metadata": {},
   "outputs": [],
   "source": [
    "datasets.set_index('dataset_id', inplace=True)"
   ]
  },
  {
   "cell_type": "markdown",
   "metadata": {},
   "source": [
    "# Load & process the data"
   ]
  },
  {
   "cell_type": "code",
   "execution_count": 6,
   "metadata": {},
   "outputs": [],
   "source": [
    "sheet_names = ['DN-tag signal ratio, log2 ranks','UP-tag signal ratio, log2 ranks']"
   ]
  },
  {
   "cell_type": "code",
   "execution_count": 9,
   "metadata": {},
   "outputs": [
    {
     "data": {
      "text/plain": [
       "Index(['ORF', 'GENE', '(d9/d1) 2%', '(d21/d1) 2%', '(d33/d1) 2%', 'Unnamed: 5',\n",
       "       '(d9/d1) 0.5%', '(d21/d1) 0.5%', '(d33/d1) 0.5%', 'Unnamed: 9',\n",
       "       '(d9/d1) 2%.1', '(d21/d1) 2%.1', '(d33/d1) 2%.1', 'Unnamed: 13',\n",
       "       '(d9/d1) 0.5%.1', '(d21/d1) 0.5%.1', '(d33/d1) 0.5%.1', 'Unnamed: 17',\n",
       "       'ORF.1', 'GENE.1', '(d9/d1) 2%.2', '(d21/d1) 2%.2', '(d33/d1) 2%.2',\n",
       "       'Unnamed: 23', '(d9/d1) 0.5%.2', '(d21/d1) 0.5%.2', '(d33/d1) 0.5%.2'],\n",
       "      dtype='object')"
      ]
     },
     "execution_count": 9,
     "metadata": {},
     "output_type": "execute_result"
    }
   ],
   "source": [
    "original_data.columns"
   ]
  },
  {
   "cell_type": "code",
   "execution_count": 11,
   "metadata": {},
   "outputs": [
    {
     "name": "stdout",
     "output_type": "stream",
     "text": [
      "Original data dimensions: 2699 x 27\n",
      "             ORF GENE  (d9/d1) 2%  (d21/d1) 2%  (d33/d1) 2%  Unnamed: 5  \\\n",
      "index_input                                                               \n",
      "0            NaN  NaN         NaN          NaN          NaN         NaN   \n",
      "\n",
      "             (d9/d1) 0.5%  (d21/d1) 0.5%  (d33/d1) 0.5%  Unnamed: 9  ...  \\\n",
      "index_input                                                          ...   \n",
      "0                     NaN            NaN            NaN         NaN  ...   \n",
      "\n",
      "             ORF.1  GENE.1  D9 2%  D21 2%  D33 2%  Unnamed: 23  D9 0.5%  \\\n",
      "index_input                                                               \n",
      "0              NaN     NaN    NaN     NaN     NaN          NaN      NaN   \n",
      "\n",
      "             D21 0.5% D33 0.5%  orf  \n",
      "index_input                          \n",
      "0                 NaN      NaN  NAN  \n",
      "\n",
      "[1 rows x 28 columns]\n",
      "(2654, 5)\n",
      "Original data dimensions: 3479 x 27\n",
      "             ORF GENE  (d9/d1) 2%  (d21/d1) 2%  (d33/d1) 2%  Unnamed: 5  \\\n",
      "index_input                                                               \n",
      "0            NaN  NaN         NaN          NaN          NaN         NaN   \n",
      "\n",
      "             (d9/d1) 0.5%  (d21/d1) 0.5%  (d33/d1) 0.5%  Unnamed: 9  ...  \\\n",
      "index_input                                                          ...   \n",
      "0                     NaN            NaN            NaN         NaN  ...   \n",
      "\n",
      "             ORF.1  GENE.1  (d9/d1) 2%.2  (d21/d1) 2%.2  (d33/d1) 2%.2  \\\n",
      "index_input                                                              \n",
      "0              NaN     NaN           NaN            NaN            NaN   \n",
      "\n",
      "             Unnamed: 23  (d9/d1) 0.5%.2  (d21/d1) 0.5%.2 (d33/d1) 0.5%.2  orf  \n",
      "index_input                                                                     \n",
      "0                    NaN             NaN              NaN             NaN  NAN  \n",
      "\n",
      "[1 rows x 28 columns]\n",
      "(3417, 5)\n"
     ]
    }
   ],
   "source": [
    "original_data_list = []\n",
    "for s in sheet_names:\n",
    "    original_data = pd.read_excel('raw_data/journal.pgen.1000921.s002.xlsx', sheet_name=s, skiprows=2)\n",
    "    print('Original data dimensions: %d x %d' % (original_data.shape))\n",
    "#     print(original_data.head())\n",
    "    original_data['orf'] = original_data['ORF'].astype(str)\n",
    "    original_data['orf'] = clean_orf(original_data['orf'])\n",
    "    original_data['orf'] = translate_sc(original_data['orf'], to='orf')\n",
    "    t = looks_like_orf(original_data['orf'])\n",
    "    print(original_data.loc[~t,])\n",
    "    original_data = original_data.loc[t,:]\n",
    "    original_data.set_index('orf', inplace=True)\n",
    "    \n",
    "    # Excluding Day33 on 2% because (unlike other datasets) UP and DN tags show inconsistent results. The average seems to be meaningless for most strains.\n",
    "    original_data = original_data[['(d9/d1) 2%.1', '(d21/d1) 2%.1','(d9/d1) 0.5%.1', '(d21/d1) 0.5%.1', '(d33/d1) 0.5%.1']]\n",
    "    original_data = original_data.apply(pd.to_numeric, axis=1, errors='coerce')\n",
    "    original_data = original_data.groupby(original_data.index).mean()\n",
    "    print(original_data.shape)\n",
    "    original_data_list.append(original_data)"
   ]
  },
  {
   "cell_type": "code",
   "execution_count": 18,
   "metadata": {},
   "outputs": [],
   "source": [
    "original_data = pd.concat(original_data_list, axis=0)"
   ]
  },
  {
   "cell_type": "code",
   "execution_count": 19,
   "metadata": {},
   "outputs": [
    {
     "data": {
      "text/html": [
       "<div>\n",
       "<style scoped>\n",
       "    .dataframe tbody tr th:only-of-type {\n",
       "        vertical-align: middle;\n",
       "    }\n",
       "\n",
       "    .dataframe tbody tr th {\n",
       "        vertical-align: top;\n",
       "    }\n",
       "\n",
       "    .dataframe thead th {\n",
       "        text-align: right;\n",
       "    }\n",
       "</style>\n",
       "<table border=\"1\" class=\"dataframe\">\n",
       "  <thead>\n",
       "    <tr style=\"text-align: right;\">\n",
       "      <th></th>\n",
       "      <th>(d9/d1) 2%.1</th>\n",
       "      <th>(d21/d1) 2%.1</th>\n",
       "      <th>(d9/d1) 0.5%.1</th>\n",
       "      <th>(d21/d1) 0.5%.1</th>\n",
       "      <th>(d33/d1) 0.5%.1</th>\n",
       "    </tr>\n",
       "    <tr>\n",
       "      <th>orf</th>\n",
       "      <th></th>\n",
       "      <th></th>\n",
       "      <th></th>\n",
       "      <th></th>\n",
       "      <th></th>\n",
       "    </tr>\n",
       "  </thead>\n",
       "  <tbody>\n",
       "    <tr>\n",
       "      <th>YAL012W</th>\n",
       "      <td>-0.202026</td>\n",
       "      <td>1.032526</td>\n",
       "      <td>-0.400359</td>\n",
       "      <td>1.073145</td>\n",
       "      <td>0.614606</td>\n",
       "    </tr>\n",
       "    <tr>\n",
       "      <th>YAL024C</th>\n",
       "      <td>0.368843</td>\n",
       "      <td>-0.335718</td>\n",
       "      <td>-0.016153</td>\n",
       "      <td>-0.493526</td>\n",
       "      <td>-2.113458</td>\n",
       "    </tr>\n",
       "    <tr>\n",
       "      <th>YAL049C</th>\n",
       "      <td>0.087702</td>\n",
       "      <td>-1.368829</td>\n",
       "      <td>-1.479619</td>\n",
       "      <td>-0.513816</td>\n",
       "      <td>-1.104796</td>\n",
       "    </tr>\n",
       "    <tr>\n",
       "      <th>YAL054C</th>\n",
       "      <td>0.269325</td>\n",
       "      <td>0.384789</td>\n",
       "      <td>0.234830</td>\n",
       "      <td>-2.081109</td>\n",
       "      <td>-6.148392</td>\n",
       "    </tr>\n",
       "    <tr>\n",
       "      <th>YAL056C-A</th>\n",
       "      <td>-0.483965</td>\n",
       "      <td>-0.330431</td>\n",
       "      <td>0.101902</td>\n",
       "      <td>0.101598</td>\n",
       "      <td>-2.736966</td>\n",
       "    </tr>\n",
       "  </tbody>\n",
       "</table>\n",
       "</div>"
      ],
      "text/plain": [
       "           (d9/d1) 2%.1  (d21/d1) 2%.1  (d9/d1) 0.5%.1  (d21/d1) 0.5%.1  \\\n",
       "orf                                                                       \n",
       "YAL012W       -0.202026       1.032526       -0.400359         1.073145   \n",
       "YAL024C        0.368843      -0.335718       -0.016153        -0.493526   \n",
       "YAL049C        0.087702      -1.368829       -1.479619        -0.513816   \n",
       "YAL054C        0.269325       0.384789        0.234830        -2.081109   \n",
       "YAL056C-A     -0.483965      -0.330431        0.101902         0.101598   \n",
       "\n",
       "           (d33/d1) 0.5%.1  \n",
       "orf                         \n",
       "YAL012W           0.614606  \n",
       "YAL024C          -2.113458  \n",
       "YAL049C          -1.104796  \n",
       "YAL054C          -6.148392  \n",
       "YAL056C-A        -2.736966  "
      ]
     },
     "execution_count": 19,
     "metadata": {},
     "output_type": "execute_result"
    }
   ],
   "source": [
    "original_data.head()"
   ]
  },
  {
   "cell_type": "code",
   "execution_count": 20,
   "metadata": {},
   "outputs": [],
   "source": [
    "# Average UP and DN tags\n",
    "original_data = original_data.groupby(original_data.index).mean()"
   ]
  },
  {
   "cell_type": "code",
   "execution_count": 21,
   "metadata": {},
   "outputs": [
    {
     "data": {
      "text/html": [
       "<div>\n",
       "<style scoped>\n",
       "    .dataframe tbody tr th:only-of-type {\n",
       "        vertical-align: middle;\n",
       "    }\n",
       "\n",
       "    .dataframe tbody tr th {\n",
       "        vertical-align: top;\n",
       "    }\n",
       "\n",
       "    .dataframe thead th {\n",
       "        text-align: right;\n",
       "    }\n",
       "</style>\n",
       "<table border=\"1\" class=\"dataframe\">\n",
       "  <thead>\n",
       "    <tr style=\"text-align: right;\">\n",
       "      <th></th>\n",
       "      <th>(d9/d1) 2%.1</th>\n",
       "      <th>(d21/d1) 2%.1</th>\n",
       "      <th>(d9/d1) 0.5%.1</th>\n",
       "      <th>(d21/d1) 0.5%.1</th>\n",
       "      <th>(d33/d1) 0.5%.1</th>\n",
       "    </tr>\n",
       "    <tr>\n",
       "      <th>orf</th>\n",
       "      <th></th>\n",
       "      <th></th>\n",
       "      <th></th>\n",
       "      <th></th>\n",
       "      <th></th>\n",
       "    </tr>\n",
       "  </thead>\n",
       "  <tbody>\n",
       "    <tr>\n",
       "      <th>YAL002W</th>\n",
       "      <td>-0.663079</td>\n",
       "      <td>-2.636625</td>\n",
       "      <td>-2.893052</td>\n",
       "      <td>-2.072377</td>\n",
       "      <td>-2.947533</td>\n",
       "    </tr>\n",
       "    <tr>\n",
       "      <th>YAL004W</th>\n",
       "      <td>-0.973443</td>\n",
       "      <td>-3.299888</td>\n",
       "      <td>-0.447756</td>\n",
       "      <td>-1.763872</td>\n",
       "      <td>-3.775156</td>\n",
       "    </tr>\n",
       "    <tr>\n",
       "      <th>YAL005C</th>\n",
       "      <td>-0.451959</td>\n",
       "      <td>-1.992544</td>\n",
       "      <td>-0.394764</td>\n",
       "      <td>-1.229691</td>\n",
       "      <td>-4.904059</td>\n",
       "    </tr>\n",
       "    <tr>\n",
       "      <th>YAL007C</th>\n",
       "      <td>0.218488</td>\n",
       "      <td>0.100929</td>\n",
       "      <td>-0.085496</td>\n",
       "      <td>-0.082342</td>\n",
       "      <td>-2.096215</td>\n",
       "    </tr>\n",
       "    <tr>\n",
       "      <th>YAL008W</th>\n",
       "      <td>0.655704</td>\n",
       "      <td>0.080652</td>\n",
       "      <td>0.396308</td>\n",
       "      <td>0.055863</td>\n",
       "      <td>-2.391714</td>\n",
       "    </tr>\n",
       "  </tbody>\n",
       "</table>\n",
       "</div>"
      ],
      "text/plain": [
       "         (d9/d1) 2%.1  (d21/d1) 2%.1  (d9/d1) 0.5%.1  (d21/d1) 0.5%.1  \\\n",
       "orf                                                                     \n",
       "YAL002W     -0.663079      -2.636625       -2.893052        -2.072377   \n",
       "YAL004W     -0.973443      -3.299888       -0.447756        -1.763872   \n",
       "YAL005C     -0.451959      -1.992544       -0.394764        -1.229691   \n",
       "YAL007C      0.218488       0.100929       -0.085496        -0.082342   \n",
       "YAL008W      0.655704       0.080652        0.396308         0.055863   \n",
       "\n",
       "         (d33/d1) 0.5%.1  \n",
       "orf                       \n",
       "YAL002W        -2.947533  \n",
       "YAL004W        -3.775156  \n",
       "YAL005C        -4.904059  \n",
       "YAL007C        -2.096215  \n",
       "YAL008W        -2.391714  "
      ]
     },
     "execution_count": 21,
     "metadata": {},
     "output_type": "execute_result"
    }
   ],
   "source": [
    "original_data.head()"
   ]
  },
  {
   "cell_type": "code",
   "execution_count": 22,
   "metadata": {},
   "outputs": [
    {
     "data": {
      "text/plain": [
       "(3417, 5)"
      ]
     },
     "execution_count": 22,
     "metadata": {},
     "output_type": "execute_result"
    }
   ],
   "source": [
    "original_data.shape"
   ]
  },
  {
   "cell_type": "markdown",
   "metadata": {},
   "source": [
    "# Prepare the final dataset"
   ]
  },
  {
   "cell_type": "code",
   "execution_count": 23,
   "metadata": {},
   "outputs": [],
   "source": [
    "data = original_data.copy()"
   ]
  },
  {
   "cell_type": "code",
   "execution_count": 24,
   "metadata": {},
   "outputs": [],
   "source": [
    "dataset_ids = [4712, 5354, 5356, 5357, 5358]\n",
    "datasets = datasets.reindex(index=dataset_ids)"
   ]
  },
  {
   "cell_type": "code",
   "execution_count": 25,
   "metadata": {},
   "outputs": [],
   "source": [
    "lst = [datasets.index.values, ['value']*datasets.shape[0]]\n",
    "tuples = list(zip(*lst))\n",
    "idx = pd.MultiIndex.from_tuples(tuples, names=['dataset_id','data_type'])\n",
    "data.columns = idx"
   ]
  },
  {
   "cell_type": "code",
   "execution_count": 26,
   "metadata": {},
   "outputs": [
    {
     "data": {
      "text/html": [
       "<div>\n",
       "<style scoped>\n",
       "    .dataframe tbody tr th:only-of-type {\n",
       "        vertical-align: middle;\n",
       "    }\n",
       "\n",
       "    .dataframe tbody tr th {\n",
       "        vertical-align: top;\n",
       "    }\n",
       "\n",
       "    .dataframe thead tr th {\n",
       "        text-align: left;\n",
       "    }\n",
       "\n",
       "    .dataframe thead tr:last-of-type th {\n",
       "        text-align: right;\n",
       "    }\n",
       "</style>\n",
       "<table border=\"1\" class=\"dataframe\">\n",
       "  <thead>\n",
       "    <tr>\n",
       "      <th>dataset_id</th>\n",
       "      <th>4712</th>\n",
       "      <th>5354</th>\n",
       "      <th>5356</th>\n",
       "      <th>5357</th>\n",
       "      <th>5358</th>\n",
       "    </tr>\n",
       "    <tr>\n",
       "      <th>data_type</th>\n",
       "      <th>value</th>\n",
       "      <th>value</th>\n",
       "      <th>value</th>\n",
       "      <th>value</th>\n",
       "      <th>value</th>\n",
       "    </tr>\n",
       "    <tr>\n",
       "      <th>orf</th>\n",
       "      <th></th>\n",
       "      <th></th>\n",
       "      <th></th>\n",
       "      <th></th>\n",
       "      <th></th>\n",
       "    </tr>\n",
       "  </thead>\n",
       "  <tbody>\n",
       "    <tr>\n",
       "      <th>YAL002W</th>\n",
       "      <td>-0.663079</td>\n",
       "      <td>-2.636625</td>\n",
       "      <td>-2.893052</td>\n",
       "      <td>-2.072377</td>\n",
       "      <td>-2.947533</td>\n",
       "    </tr>\n",
       "    <tr>\n",
       "      <th>YAL004W</th>\n",
       "      <td>-0.973443</td>\n",
       "      <td>-3.299888</td>\n",
       "      <td>-0.447756</td>\n",
       "      <td>-1.763872</td>\n",
       "      <td>-3.775156</td>\n",
       "    </tr>\n",
       "    <tr>\n",
       "      <th>YAL005C</th>\n",
       "      <td>-0.451959</td>\n",
       "      <td>-1.992544</td>\n",
       "      <td>-0.394764</td>\n",
       "      <td>-1.229691</td>\n",
       "      <td>-4.904059</td>\n",
       "    </tr>\n",
       "    <tr>\n",
       "      <th>YAL007C</th>\n",
       "      <td>0.218488</td>\n",
       "      <td>0.100929</td>\n",
       "      <td>-0.085496</td>\n",
       "      <td>-0.082342</td>\n",
       "      <td>-2.096215</td>\n",
       "    </tr>\n",
       "    <tr>\n",
       "      <th>YAL008W</th>\n",
       "      <td>0.655704</td>\n",
       "      <td>0.080652</td>\n",
       "      <td>0.396308</td>\n",
       "      <td>0.055863</td>\n",
       "      <td>-2.391714</td>\n",
       "    </tr>\n",
       "  </tbody>\n",
       "</table>\n",
       "</div>"
      ],
      "text/plain": [
       "dataset_id      4712      5354      5356      5357      5358\n",
       "data_type      value     value     value     value     value\n",
       "orf                                                         \n",
       "YAL002W    -0.663079 -2.636625 -2.893052 -2.072377 -2.947533\n",
       "YAL004W    -0.973443 -3.299888 -0.447756 -1.763872 -3.775156\n",
       "YAL005C    -0.451959 -1.992544 -0.394764 -1.229691 -4.904059\n",
       "YAL007C     0.218488  0.100929 -0.085496 -0.082342 -2.096215\n",
       "YAL008W     0.655704  0.080652  0.396308  0.055863 -2.391714"
      ]
     },
     "execution_count": 26,
     "metadata": {},
     "output_type": "execute_result"
    }
   ],
   "source": [
    "data.head()"
   ]
  },
  {
   "cell_type": "markdown",
   "metadata": {},
   "source": [
    "## Subset to the genes currently in SGD"
   ]
  },
  {
   "cell_type": "code",
   "execution_count": 27,
   "metadata": {},
   "outputs": [
    {
     "name": "stdout",
     "output_type": "stream",
     "text": [
      "ORFs missing from SGD: 19\n"
     ]
    }
   ],
   "source": [
    "genes = pd.read_csv(path_to_genes, sep='\\t', index_col='id')\n",
    "genes = genes.reset_index().set_index('systematic_name')\n",
    "gene_ids = genes.reindex(index=data.index.values)['id'].values\n",
    "num_missing = np.sum(np.isnan(gene_ids))\n",
    "print('ORFs missing from SGD: %d' % num_missing)"
   ]
  },
  {
   "cell_type": "code",
   "execution_count": 28,
   "metadata": {},
   "outputs": [
    {
     "data": {
      "text/html": [
       "<div>\n",
       "<style scoped>\n",
       "    .dataframe tbody tr th:only-of-type {\n",
       "        vertical-align: middle;\n",
       "    }\n",
       "\n",
       "    .dataframe tbody tr th {\n",
       "        vertical-align: top;\n",
       "    }\n",
       "\n",
       "    .dataframe thead tr th {\n",
       "        text-align: left;\n",
       "    }\n",
       "\n",
       "    .dataframe thead tr:last-of-type th {\n",
       "        text-align: right;\n",
       "    }\n",
       "</style>\n",
       "<table border=\"1\" class=\"dataframe\">\n",
       "  <thead>\n",
       "    <tr>\n",
       "      <th></th>\n",
       "      <th>dataset_id</th>\n",
       "      <th>4712</th>\n",
       "      <th>5354</th>\n",
       "      <th>5356</th>\n",
       "      <th>5357</th>\n",
       "      <th>5358</th>\n",
       "    </tr>\n",
       "    <tr>\n",
       "      <th></th>\n",
       "      <th>data_type</th>\n",
       "      <th>value</th>\n",
       "      <th>value</th>\n",
       "      <th>value</th>\n",
       "      <th>value</th>\n",
       "      <th>value</th>\n",
       "    </tr>\n",
       "    <tr>\n",
       "      <th>gene_id</th>\n",
       "      <th>orf</th>\n",
       "      <th></th>\n",
       "      <th></th>\n",
       "      <th></th>\n",
       "      <th></th>\n",
       "      <th></th>\n",
       "    </tr>\n",
       "  </thead>\n",
       "  <tbody>\n",
       "    <tr>\n",
       "      <th>2</th>\n",
       "      <th>YAL002W</th>\n",
       "      <td>-0.663079</td>\n",
       "      <td>-2.636625</td>\n",
       "      <td>-2.893052</td>\n",
       "      <td>-2.072377</td>\n",
       "      <td>-2.947533</td>\n",
       "    </tr>\n",
       "    <tr>\n",
       "      <th>1863</th>\n",
       "      <th>YAL004W</th>\n",
       "      <td>-0.973443</td>\n",
       "      <td>-3.299888</td>\n",
       "      <td>-0.447756</td>\n",
       "      <td>-1.763872</td>\n",
       "      <td>-3.775156</td>\n",
       "    </tr>\n",
       "    <tr>\n",
       "      <th>4</th>\n",
       "      <th>YAL005C</th>\n",
       "      <td>-0.451959</td>\n",
       "      <td>-1.992544</td>\n",
       "      <td>-0.394764</td>\n",
       "      <td>-1.229691</td>\n",
       "      <td>-4.904059</td>\n",
       "    </tr>\n",
       "    <tr>\n",
       "      <th>5</th>\n",
       "      <th>YAL007C</th>\n",
       "      <td>0.218488</td>\n",
       "      <td>0.100929</td>\n",
       "      <td>-0.085496</td>\n",
       "      <td>-0.082342</td>\n",
       "      <td>-2.096215</td>\n",
       "    </tr>\n",
       "    <tr>\n",
       "      <th>6</th>\n",
       "      <th>YAL008W</th>\n",
       "      <td>0.655704</td>\n",
       "      <td>0.080652</td>\n",
       "      <td>0.396308</td>\n",
       "      <td>0.055863</td>\n",
       "      <td>-2.391714</td>\n",
       "    </tr>\n",
       "  </tbody>\n",
       "</table>\n",
       "</div>"
      ],
      "text/plain": [
       "dataset_id           4712      5354      5356      5357      5358\n",
       "data_type           value     value     value     value     value\n",
       "gene_id orf                                                      \n",
       "2       YAL002W -0.663079 -2.636625 -2.893052 -2.072377 -2.947533\n",
       "1863    YAL004W -0.973443 -3.299888 -0.447756 -1.763872 -3.775156\n",
       "4       YAL005C -0.451959 -1.992544 -0.394764 -1.229691 -4.904059\n",
       "5       YAL007C  0.218488  0.100929 -0.085496 -0.082342 -2.096215\n",
       "6       YAL008W  0.655704  0.080652  0.396308  0.055863 -2.391714"
      ]
     },
     "execution_count": 28,
     "metadata": {},
     "output_type": "execute_result"
    }
   ],
   "source": [
    "data['gene_id'] = gene_ids\n",
    "data = data.loc[data['gene_id'].notnull()]\n",
    "data['gene_id'] = data['gene_id'].astype(int)\n",
    "data = data.reset_index().set_index(['gene_id','orf'])\n",
    "\n",
    "data.head()"
   ]
  },
  {
   "cell_type": "markdown",
   "metadata": {},
   "source": [
    "# Normalize"
   ]
  },
  {
   "cell_type": "code",
   "execution_count": 29,
   "metadata": {},
   "outputs": [],
   "source": [
    "data_norm = normalize_phenotypic_scores(data, has_tested=True)"
   ]
  },
  {
   "cell_type": "code",
   "execution_count": 30,
   "metadata": {},
   "outputs": [],
   "source": [
    "# Assign proper column names\n",
    "lst = [datasets.index.values, ['valuez']*datasets.shape[0]]\n",
    "tuples = list(zip(*lst))\n",
    "idx = pd.MultiIndex.from_tuples(tuples, names=['dataset_id','data_type'])\n",
    "data_norm.columns = idx"
   ]
  },
  {
   "cell_type": "code",
   "execution_count": 31,
   "metadata": {},
   "outputs": [
    {
     "data": {
      "text/html": [
       "<div>\n",
       "<style scoped>\n",
       "    .dataframe tbody tr th:only-of-type {\n",
       "        vertical-align: middle;\n",
       "    }\n",
       "\n",
       "    .dataframe tbody tr th {\n",
       "        vertical-align: top;\n",
       "    }\n",
       "\n",
       "    .dataframe thead tr th {\n",
       "        text-align: left;\n",
       "    }\n",
       "\n",
       "    .dataframe thead tr:last-of-type th {\n",
       "        text-align: right;\n",
       "    }\n",
       "</style>\n",
       "<table border=\"1\" class=\"dataframe\">\n",
       "  <thead>\n",
       "    <tr>\n",
       "      <th></th>\n",
       "      <th>dataset_id</th>\n",
       "      <th>4712</th>\n",
       "      <th>5354</th>\n",
       "      <th>5356</th>\n",
       "      <th>5357</th>\n",
       "      <th>5358</th>\n",
       "      <th>4712</th>\n",
       "      <th>5354</th>\n",
       "      <th>5356</th>\n",
       "      <th>5357</th>\n",
       "      <th>5358</th>\n",
       "    </tr>\n",
       "    <tr>\n",
       "      <th></th>\n",
       "      <th>data_type</th>\n",
       "      <th>value</th>\n",
       "      <th>value</th>\n",
       "      <th>value</th>\n",
       "      <th>value</th>\n",
       "      <th>value</th>\n",
       "      <th>valuez</th>\n",
       "      <th>valuez</th>\n",
       "      <th>valuez</th>\n",
       "      <th>valuez</th>\n",
       "      <th>valuez</th>\n",
       "    </tr>\n",
       "    <tr>\n",
       "      <th>gene_id</th>\n",
       "      <th>orf</th>\n",
       "      <th></th>\n",
       "      <th></th>\n",
       "      <th></th>\n",
       "      <th></th>\n",
       "      <th></th>\n",
       "      <th></th>\n",
       "      <th></th>\n",
       "      <th></th>\n",
       "      <th></th>\n",
       "      <th></th>\n",
       "    </tr>\n",
       "  </thead>\n",
       "  <tbody>\n",
       "    <tr>\n",
       "      <th>2</th>\n",
       "      <th>YAL002W</th>\n",
       "      <td>-0.663079</td>\n",
       "      <td>-2.636625</td>\n",
       "      <td>-2.893052</td>\n",
       "      <td>-2.072377</td>\n",
       "      <td>-2.947533</td>\n",
       "      <td>-0.672408</td>\n",
       "      <td>-1.193695</td>\n",
       "      <td>-3.080222</td>\n",
       "      <td>-1.169173</td>\n",
       "      <td>-0.131407</td>\n",
       "    </tr>\n",
       "    <tr>\n",
       "      <th>1863</th>\n",
       "      <th>YAL004W</th>\n",
       "      <td>-0.973443</td>\n",
       "      <td>-3.299888</td>\n",
       "      <td>-0.447756</td>\n",
       "      <td>-1.763872</td>\n",
       "      <td>-3.775156</td>\n",
       "      <td>-0.891656</td>\n",
       "      <td>-1.524357</td>\n",
       "      <td>-0.561812</td>\n",
       "      <td>-0.974653</td>\n",
       "      <td>-0.628103</td>\n",
       "    </tr>\n",
       "    <tr>\n",
       "      <th>4</th>\n",
       "      <th>YAL005C</th>\n",
       "      <td>-0.451959</td>\n",
       "      <td>-1.992544</td>\n",
       "      <td>-0.394764</td>\n",
       "      <td>-1.229691</td>\n",
       "      <td>-4.904059</td>\n",
       "      <td>-0.523268</td>\n",
       "      <td>-0.872597</td>\n",
       "      <td>-0.507235</td>\n",
       "      <td>-0.637838</td>\n",
       "      <td>-1.305611</td>\n",
       "    </tr>\n",
       "    <tr>\n",
       "      <th>5</th>\n",
       "      <th>YAL007C</th>\n",
       "      <td>0.218488</td>\n",
       "      <td>0.100929</td>\n",
       "      <td>-0.085496</td>\n",
       "      <td>-0.082342</td>\n",
       "      <td>-2.096215</td>\n",
       "      <td>-0.049649</td>\n",
       "      <td>0.171080</td>\n",
       "      <td>-0.188720</td>\n",
       "      <td>0.085596</td>\n",
       "      <td>0.379509</td>\n",
       "    </tr>\n",
       "    <tr>\n",
       "      <th>6</th>\n",
       "      <th>YAL008W</th>\n",
       "      <td>0.655704</td>\n",
       "      <td>0.080652</td>\n",
       "      <td>0.396308</td>\n",
       "      <td>0.055863</td>\n",
       "      <td>-2.391714</td>\n",
       "      <td>0.259211</td>\n",
       "      <td>0.160971</td>\n",
       "      <td>0.307489</td>\n",
       "      <td>0.172738</td>\n",
       "      <td>0.202167</td>\n",
       "    </tr>\n",
       "  </tbody>\n",
       "</table>\n",
       "</div>"
      ],
      "text/plain": [
       "dataset_id           4712      5354      5356      5357      5358      4712  \\\n",
       "data_type           value     value     value     value     value    valuez   \n",
       "gene_id orf                                                                   \n",
       "2       YAL002W -0.663079 -2.636625 -2.893052 -2.072377 -2.947533 -0.672408   \n",
       "1863    YAL004W -0.973443 -3.299888 -0.447756 -1.763872 -3.775156 -0.891656   \n",
       "4       YAL005C -0.451959 -1.992544 -0.394764 -1.229691 -4.904059 -0.523268   \n",
       "5       YAL007C  0.218488  0.100929 -0.085496 -0.082342 -2.096215 -0.049649   \n",
       "6       YAL008W  0.655704  0.080652  0.396308  0.055863 -2.391714  0.259211   \n",
       "\n",
       "dataset_id           5354      5356      5357      5358  \n",
       "data_type          valuez    valuez    valuez    valuez  \n",
       "gene_id orf                                              \n",
       "2       YAL002W -1.193695 -3.080222 -1.169173 -0.131407  \n",
       "1863    YAL004W -1.524357 -0.561812 -0.974653 -0.628103  \n",
       "4       YAL005C -0.872597 -0.507235 -0.637838 -1.305611  \n",
       "5       YAL007C  0.171080 -0.188720  0.085596  0.379509  \n",
       "6       YAL008W  0.160971  0.307489  0.172738  0.202167  "
      ]
     },
     "execution_count": 31,
     "metadata": {},
     "output_type": "execute_result"
    }
   ],
   "source": [
    "data_norm[data.isnull()] = np.nan\n",
    "data_all = data.join(data_norm)\n",
    "\n",
    "data_all.head()"
   ]
  },
  {
   "cell_type": "markdown",
   "metadata": {},
   "source": [
    "# Print out"
   ]
  },
  {
   "cell_type": "code",
   "execution_count": 32,
   "metadata": {},
   "outputs": [],
   "source": [
    "for f in ['value','valuez']:\n",
    "    df = data_all.xs(f, level='data_type', axis=1).copy()\n",
    "    df.columns = datasets['name'].values\n",
    "    df = df.droplevel('gene_id', axis=0)\n",
    "    df.to_csv(paper_name + '_' + f + '.txt', sep='\\t')"
   ]
  },
  {
   "cell_type": "markdown",
   "metadata": {},
   "source": [
    "# Save to DB"
   ]
  },
  {
   "cell_type": "code",
   "execution_count": 33,
   "metadata": {},
   "outputs": [],
   "source": [
    "from IO.save_data_to_db3 import *"
   ]
  },
  {
   "cell_type": "code",
   "execution_count": 34,
   "metadata": {},
   "outputs": [
    {
     "name": "stderr",
     "output_type": "stream",
     "text": [
      "  0%|          | 0/5 [00:00<?, ?it/s]"
     ]
    },
    {
     "name": "stdout",
     "output_type": "stream",
     "text": [
      "Deleting all datasets for PMID 20421943...\n",
      "Inserting the new data...\n"
     ]
    },
    {
     "name": "stderr",
     "output_type": "stream",
     "text": [
      "100%|██████████| 5/5 [00:29<00:00,  5.83s/it]"
     ]
    },
    {
     "name": "stdout",
     "output_type": "stream",
     "text": [
      "Updating the data_modified_on field...\n"
     ]
    },
    {
     "name": "stderr",
     "output_type": "stream",
     "text": [
      "\n"
     ]
    }
   ],
   "source": [
    "save_data_to_db(data_all, paper_pmid)"
   ]
  },
  {
   "cell_type": "code",
   "execution_count": null,
   "metadata": {},
   "outputs": [],
   "source": []
  }
 ],
 "metadata": {
  "kernelspec": {
   "display_name": "yp-data",
   "language": "python",
   "name": "yp-data"
  },
  "language_info": {
   "codemirror_mode": {
    "name": "ipython",
    "version": 3
   },
   "file_extension": ".py",
   "mimetype": "text/x-python",
   "name": "python",
   "nbconvert_exporter": "python",
   "pygments_lexer": "ipython3",
   "version": "3.7.7"
  }
 },
 "nbformat": 4,
 "nbformat_minor": 4
}
