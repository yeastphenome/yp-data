{
 "cells": [
  {
   "cell_type": "code",
   "execution_count": 1,
   "metadata": {},
   "outputs": [],
   "source": [
    "import numpy as np\n",
    "import pandas as pd\n",
    "\n",
    "import sys\n",
    "\n",
    "from os.path import expanduser\n",
    "sys.path.append(expanduser('~') + '/Lab/Utils/Python/')\n",
    "\n",
    "from Conversions.translate import *\n",
    "from Strings.is_a import *"
   ]
  },
  {
   "cell_type": "markdown",
   "metadata": {},
   "source": [
    "# Initial setup"
   ]
  },
  {
   "cell_type": "code",
   "execution_count": 2,
   "metadata": {},
   "outputs": [],
   "source": [
    "paper_pmid = 19635755\n",
    "paper_name = 'jo_vulpe_2009' "
   ]
  },
  {
   "cell_type": "code",
   "execution_count": 3,
   "metadata": {},
   "outputs": [],
   "source": [
    "datasets = pd.read_csv('extras/YeastPhenome_' + str(paper_pmid) + '_datasets_list.txt', sep='\\t', header=None, names=['pmid', 'name'])"
   ]
  },
  {
   "cell_type": "code",
   "execution_count": 4,
   "metadata": {},
   "outputs": [],
   "source": [
    "datasets.set_index('pmid', inplace=True)"
   ]
  },
  {
   "cell_type": "markdown",
   "metadata": {},
   "source": [
    "# Load & process the data"
   ]
  },
  {
   "cell_type": "code",
   "execution_count": 10,
   "metadata": {},
   "outputs": [],
   "source": [
    "original_data1 = pd.read_excel('raw_data/Table_S2.xlsx', sheet_name='Table 1', skiprows=4, header=None)\n",
    "original_data2 = pd.read_excel('raw_data/Table_S3.xlsx', sheet_name='Table 1', skiprows=4, header=None)"
   ]
  },
  {
   "cell_type": "code",
   "execution_count": 11,
   "metadata": {},
   "outputs": [
    {
     "name": "stdout",
     "output_type": "stream",
     "text": [
      "Original data dimensions: 953 x 10\n",
      "Original data dimensions: 669 x 10\n"
     ]
    }
   ],
   "source": [
    "print('Original data dimensions: %d x %d' % (original_data1.shape))\n",
    "print('Original data dimensions: %d x %d' % (original_data2.shape))"
   ]
  },
  {
   "cell_type": "code",
   "execution_count": 15,
   "metadata": {},
   "outputs": [
    {
     "data": {
      "text/html": [
       "<div>\n",
       "<style scoped>\n",
       "    .dataframe tbody tr th:only-of-type {\n",
       "        vertical-align: middle;\n",
       "    }\n",
       "\n",
       "    .dataframe tbody tr th {\n",
       "        vertical-align: top;\n",
       "    }\n",
       "\n",
       "    .dataframe thead th {\n",
       "        text-align: right;\n",
       "    }\n",
       "</style>\n",
       "<table border=\"1\" class=\"dataframe\">\n",
       "  <thead>\n",
       "    <tr style=\"text-align: right;\">\n",
       "      <th></th>\n",
       "      <th>0</th>\n",
       "      <th>1</th>\n",
       "      <th>2</th>\n",
       "      <th>3</th>\n",
       "      <th>4</th>\n",
       "      <th>5</th>\n",
       "      <th>6</th>\n",
       "      <th>7</th>\n",
       "      <th>8</th>\n",
       "      <th>9</th>\n",
       "    </tr>\n",
       "  </thead>\n",
       "  <tbody>\n",
       "    <tr>\n",
       "      <th>0</th>\n",
       "      <td>YJL101C</td>\n",
       "      <td>GSH1</td>\n",
       "      <td>-3.45</td>\n",
       "      <td>-2.1</td>\n",
       "      <td>-4.45</td>\n",
       "      <td>-4.3</td>\n",
       "      <td>NaN</td>\n",
       "      <td>-4.9</td>\n",
       "      <td>5</td>\n",
       "      <td>NaN</td>\n",
       "    </tr>\n",
       "    <tr>\n",
       "      <th>1</th>\n",
       "      <td>YFR036W</td>\n",
       "      <td>CDC26</td>\n",
       "      <td>-1.7</td>\n",
       "      <td>NaN</td>\n",
       "      <td>-2.8</td>\n",
       "      <td>-4.15</td>\n",
       "      <td>-5.7</td>\n",
       "      <td>-3.9</td>\n",
       "      <td>5</td>\n",
       "      <td>NaN</td>\n",
       "    </tr>\n",
       "    <tr>\n",
       "      <th>2</th>\n",
       "      <td>YMR275C</td>\n",
       "      <td>BUL1</td>\n",
       "      <td>-1.4</td>\n",
       "      <td>-2.25</td>\n",
       "      <td>-3.15</td>\n",
       "      <td>-4.55</td>\n",
       "      <td>NaN</td>\n",
       "      <td>-4.5</td>\n",
       "      <td>5</td>\n",
       "      <td>NaN</td>\n",
       "    </tr>\n",
       "    <tr>\n",
       "      <th>3</th>\n",
       "      <td>YDR135C</td>\n",
       "      <td>YCF1</td>\n",
       "      <td>-0.8</td>\n",
       "      <td>NaN</td>\n",
       "      <td>-1.4</td>\n",
       "      <td>-2.85</td>\n",
       "      <td>-4.8</td>\n",
       "      <td>-4.2</td>\n",
       "      <td>5</td>\n",
       "      <td>NaN</td>\n",
       "    </tr>\n",
       "    <tr>\n",
       "      <th>4</th>\n",
       "      <td>YPL066W</td>\n",
       "      <td>NaN</td>\n",
       "      <td>NaN</td>\n",
       "      <td>-1.35</td>\n",
       "      <td>-1.7</td>\n",
       "      <td>-2.45</td>\n",
       "      <td>-4.75</td>\n",
       "      <td>-3.3</td>\n",
       "      <td>5</td>\n",
       "      <td>NaN</td>\n",
       "    </tr>\n",
       "  </tbody>\n",
       "</table>\n",
       "</div>"
      ],
      "text/plain": [
       "         0      1     2     3     4     5     6    7  8   9\n",
       "0  YJL101C   GSH1 -3.45  -2.1 -4.45  -4.3   NaN -4.9  5 NaN\n",
       "1  YFR036W  CDC26  -1.7   NaN  -2.8 -4.15  -5.7 -3.9  5 NaN\n",
       "2  YMR275C   BUL1  -1.4 -2.25 -3.15 -4.55   NaN -4.5  5 NaN\n",
       "3  YDR135C   YCF1  -0.8   NaN  -1.4 -2.85  -4.8 -4.2  5 NaN\n",
       "4  YPL066W    NaN   NaN -1.35  -1.7 -2.45 -4.75 -3.3  5 NaN"
      ]
     },
     "execution_count": 15,
     "metadata": {},
     "output_type": "execute_result"
    }
   ],
   "source": [
    "original_data1.head()"
   ]
  },
  {
   "cell_type": "code",
   "execution_count": 16,
   "metadata": {},
   "outputs": [],
   "source": [
    "original_data1.columns = ['orfs','genes','37uM_5gen','75uM_5gen','150uM_5gen','37uM_15gen','75uM_15gen','150uM_15gen', 'num_hits','t']\n",
    "original_data2.columns = ['orfs','genes','75uM_5gen','150uM_5gen','300uM_5gen','75ug_15gen','150uM_15gen','300uM_15gen', 'num_hits','t']"
   ]
  },
  {
   "cell_type": "code",
   "execution_count": 19,
   "metadata": {},
   "outputs": [],
   "source": [
    "original_data1['orfs'] = original_data1['orfs'].astype(str)\n",
    "original_data2['orfs'] = original_data2['orfs'].astype(str)"
   ]
  },
  {
   "cell_type": "code",
   "execution_count": 20,
   "metadata": {},
   "outputs": [],
   "source": [
    "# Eliminate all white spaces & capitalize\n",
    "original_data1['orfs'] = clean_orf(original_data1['orfs'])\n",
    "original_data2['orfs'] = clean_orf(original_data2['orfs'])"
   ]
  },
  {
   "cell_type": "code",
   "execution_count": 21,
   "metadata": {},
   "outputs": [],
   "source": [
    "# Translate to ORFs \n",
    "original_data1['orfs'] = translate_sc(original_data1['orfs'], to='orf')\n",
    "original_data2['orfs'] = translate_sc(original_data2['orfs'], to='orf')"
   ]
  },
  {
   "cell_type": "code",
   "execution_count": 22,
   "metadata": {},
   "outputs": [
    {
     "name": "stdout",
     "output_type": "stream",
     "text": [
      "            orfs genes      37uM_5gen 75uM_5gen 150uM_5gen      37uM_15gen  \\\n",
      "index_input                                                                  \n",
      "43           ORF  Gene  5 generations       NaN        NaN  15 generations   \n",
      "44           NAN   NaN         37.5µM      75µM      150µM          37.5µM   \n",
      "102          ORF  Gene  5 generations       NaN        NaN  15 generations   \n",
      "103          NAN   NaN         37.5µM      75µM      150µM          37.5µM   \n",
      "161          ORF  Gene  5 generations       NaN        NaN  15 generations   \n",
      "162          NAN   NaN         37.5µM      75µM      150µM          37.5µM   \n",
      "220          ORF  Gene  5 generations       NaN        NaN  15 generations   \n",
      "221          NAN   NaN         37.5µM      75µM      150µM          37.5µM   \n",
      "279          ORF  Gene  5 generations       NaN        NaN  15 generations   \n",
      "280          NAN   NaN         37.5µM      75µM      150µM          37.5µM   \n",
      "338          ORF  Gene  5 generations       NaN        NaN  15 generations   \n",
      "339          NAN   NaN         37.5µM      75µM      150µM          37.5µM   \n",
      "397          ORF  Gene  5 generations       NaN        NaN  15 generations   \n",
      "398          NAN   NaN         37.5µM      75µM      150µM          37.5µM   \n",
      "456          ORF  Gene  5 generations       NaN        NaN  15 generations   \n",
      "457          NAN   NaN         37.5µM      75µM      150µM          37.5µM   \n",
      "515          ORF  Gene  5 generations       NaN        NaN  15 generations   \n",
      "516          NAN   NaN         37.5µM      75µM      150µM          37.5µM   \n",
      "574          ORF  Gene  5 generations       NaN        NaN  15 generations   \n",
      "575          NAN   NaN         37.5µM      75µM      150µM          37.5µM   \n",
      "633          ORF  Gene  5 generations       NaN        NaN  15 generations   \n",
      "634          NAN   NaN         37.5µM      75µM      150µM          37.5µM   \n",
      "692          ORF  Gene  5 generations       NaN        NaN  15 generations   \n",
      "693          NAN   NaN         37.5µM      75µM      150µM          37.5µM   \n",
      "751          ORF  Gene  5 generations       NaN        NaN  15 generations   \n",
      "752          NAN   NaN         37.5µM      75µM      150µM          37.5µM   \n",
      "810          ORF  Gene  5 generations       NaN        NaN  15 generations   \n",
      "811          NAN   NaN         37.5µM      75µM      150µM          37.5µM   \n",
      "869          ORF  Gene  5 generations       NaN        NaN  15 generations   \n",
      "870          NAN   NaN         37.5µM      75µM      150µM          37.5µM   \n",
      "928          ORF  Gene  5 generations       NaN        NaN  15 generations   \n",
      "929          NAN   NaN         37.5µM      75µM      150µM          37.5µM   \n",
      "\n",
      "            75uM_15gen 150uM_15gen   num_hits   t  \n",
      "index_input                                        \n",
      "43                 NaN         NaN  # of hits NaN  \n",
      "44                75µM       150µM        NaN NaN  \n",
      "102                NaN         NaN  # of hits NaN  \n",
      "103               75µM       150µM        NaN NaN  \n",
      "161                NaN         NaN  # of hits NaN  \n",
      "162               75µM       150µM        NaN NaN  \n",
      "220                NaN         NaN  # of hits NaN  \n",
      "221               75µM       150µM        NaN NaN  \n",
      "279                NaN         NaN  # of hits NaN  \n",
      "280               75µM       150µM        NaN NaN  \n",
      "338                NaN         NaN  # of hits NaN  \n",
      "339               75µM       150µM        NaN NaN  \n",
      "397                NaN         NaN  # of hits NaN  \n",
      "398               75µM       150µM        NaN NaN  \n",
      "456                NaN         NaN  # of hits NaN  \n",
      "457               75µM       150µM        NaN NaN  \n",
      "515                NaN         NaN  # of hits NaN  \n",
      "516               75µM       150µM        NaN NaN  \n",
      "574                NaN         NaN  # of hits NaN  \n",
      "575               75µM       150µM        NaN NaN  \n",
      "633                NaN         NaN  # of hits NaN  \n",
      "634               75µM       150µM        NaN NaN  \n",
      "692                NaN         NaN  # of hits NaN  \n",
      "693               75µM       150µM        NaN NaN  \n",
      "751                NaN         NaN  # of hits NaN  \n",
      "752               75µM       150µM        NaN NaN  \n",
      "810                NaN         NaN  # of hits NaN  \n",
      "811               75µM       150µM        NaN NaN  \n",
      "869                NaN         NaN  # of hits NaN  \n",
      "870               75µM       150µM        NaN NaN  \n",
      "928                NaN         NaN  # of hits NaN  \n",
      "929               75µM       150µM        NaN NaN  \n"
     ]
    }
   ],
   "source": [
    "# Make sure everything translated ok\n",
    "t = looks_like_orf(original_data1['orfs'])\n",
    "print(original_data1.loc[~t,])"
   ]
  },
  {
   "cell_type": "code",
   "execution_count": 23,
   "metadata": {},
   "outputs": [],
   "source": [
    "original_data1 = original_data1.loc[t,]"
   ]
  },
  {
   "cell_type": "code",
   "execution_count": 24,
   "metadata": {},
   "outputs": [
    {
     "name": "stdout",
     "output_type": "stream",
     "text": [
      "            orfs genes      75uM_5gen 150uM_5gen 300uM_5gen      75ug_15gen  \\\n",
      "index_input                                                                   \n",
      "44           ORF  Gene  5 generations        NaN        NaN  15 generations   \n",
      "45           NAN   NaN         37.5µM       75µM      150µM          37.5µM   \n",
      "103          ORF  Gene  5 generations        NaN        NaN  15 generations   \n",
      "104          NAN   NaN         37.5µM       75µM      150µM          37.5µM   \n",
      "162          ORF  Gene  5 generations        NaN        NaN  15 generations   \n",
      "163          NAN   NaN         37.5µM       75µM      150µM          37.5µM   \n",
      "221          ORF  Gene  5 generations        NaN        NaN  15 generations   \n",
      "222          NAN   NaN         37.5µM       75µM      150µM          37.5µM   \n",
      "280          ORF  Gene  5 generations        NaN        NaN  15 generations   \n",
      "281          NAN   NaN         37.5µM       75µM      150µM          37.5µM   \n",
      "339          ORF  Gene  5 generations        NaN        NaN  15 generations   \n",
      "340          NAN   NaN         37.5µM       75µM      150µM          37.5µM   \n",
      "398          ORF  Gene  5 generations        NaN        NaN  15 generations   \n",
      "399          NAN   NaN         37.5µM       75µM      150µM          37.5µM   \n",
      "457          ORF  Gene  5 generations        NaN        NaN  15 generations   \n",
      "458          NAN   NaN         37.5µM       75µM      150µM          37.5µM   \n",
      "516          ORF  Gene  5 generations        NaN        NaN  15 generations   \n",
      "517          NAN   NaN         37.5µM       75µM      150µM          37.5µM   \n",
      "575          ORF  Gene  5 generations        NaN        NaN  15 generations   \n",
      "576          NAN   NaN         37.5µM       75µM      150µM          37.5µM   \n",
      "634          ORF  Gene  5 generations        NaN        NaN  15 generations   \n",
      "635          NAN   NaN         37.5µM       75µM      150µM          37.5µM   \n",
      "\n",
      "            150uM_15gen 300uM_15gen   num_hits   t  \n",
      "index_input                                         \n",
      "44                  NaN         NaN  # of hits NaN  \n",
      "45                 75µM       150µM        NaN NaN  \n",
      "103                 NaN         NaN  # of hits NaN  \n",
      "104                75µM       150µM        NaN NaN  \n",
      "162                 NaN         NaN  # of hits NaN  \n",
      "163                75µM       150µM        NaN NaN  \n",
      "221                 NaN         NaN  # of hits NaN  \n",
      "222                75µM       150µM        NaN NaN  \n",
      "280                 NaN         NaN  # of hits NaN  \n",
      "281                75µM       150µM        NaN NaN  \n",
      "339                 NaN         NaN  # of hits NaN  \n",
      "340                75µM       150µM        NaN NaN  \n",
      "398                 NaN         NaN  # of hits NaN  \n",
      "399                75µM       150µM        NaN NaN  \n",
      "457                 NaN         NaN  # of hits NaN  \n",
      "458                75µM       150µM        NaN NaN  \n",
      "516                 NaN         NaN  # of hits NaN  \n",
      "517                75µM       150µM        NaN NaN  \n",
      "575                 NaN         NaN  # of hits NaN  \n",
      "576                75µM       150µM        NaN NaN  \n",
      "634                 NaN         NaN  # of hits NaN  \n",
      "635                75µM       150µM        NaN NaN  \n"
     ]
    }
   ],
   "source": [
    "# Make sure everything translated ok\n",
    "t = looks_like_orf(original_data2['orfs'])\n",
    "print(original_data2.loc[~t,])"
   ]
  },
  {
   "cell_type": "code",
   "execution_count": 25,
   "metadata": {},
   "outputs": [],
   "source": [
    "original_data2 = original_data2.loc[t,]"
   ]
  },
  {
   "cell_type": "code",
   "execution_count": 28,
   "metadata": {},
   "outputs": [],
   "source": [
    "original_data1.set_index('orfs', inplace=True)\n",
    "original_data2.set_index('orfs', inplace=True)"
   ]
  },
  {
   "cell_type": "code",
   "execution_count": 30,
   "metadata": {},
   "outputs": [],
   "source": [
    "original_data = original_data1[['37uM_5gen','75uM_5gen','150uM_5gen','37uM_15gen','75uM_15gen','150uM_15gen']].join(\n",
    "    original_data2[['75uM_5gen','150uM_5gen','300uM_5gen','75ug_15gen','150uM_15gen','300uM_15gen']], \n",
    "    lsuffix='_mma', rsuffix='_as', how='outer')"
   ]
  },
  {
   "cell_type": "code",
   "execution_count": 33,
   "metadata": {},
   "outputs": [],
   "source": [
    "original_data[original_data.isnull()] = 0"
   ]
  },
  {
   "cell_type": "code",
   "execution_count": 41,
   "metadata": {},
   "outputs": [],
   "source": [
    "original_data = original_data.astype(float)"
   ]
  },
  {
   "cell_type": "markdown",
   "metadata": {},
   "source": [
    "# Prepare the final dataset"
   ]
  },
  {
   "cell_type": "code",
   "execution_count": 42,
   "metadata": {},
   "outputs": [],
   "source": [
    "dataset_ids = [16656,16655,16654,16653,16652,16651,16659,16658,16657,16662,16661,16660]"
   ]
  },
  {
   "cell_type": "code",
   "execution_count": 43,
   "metadata": {},
   "outputs": [],
   "source": [
    "datasets = datasets.reindex(index=dataset_ids)"
   ]
  },
  {
   "cell_type": "code",
   "execution_count": 44,
   "metadata": {},
   "outputs": [],
   "source": [
    "data = original_data.copy()"
   ]
  },
  {
   "cell_type": "code",
   "execution_count": 45,
   "metadata": {},
   "outputs": [],
   "source": [
    "data.columns = datasets['name'].values"
   ]
  },
  {
   "cell_type": "code",
   "execution_count": 46,
   "metadata": {},
   "outputs": [],
   "source": [
    "data = data.groupby(data.index).mean()"
   ]
  },
  {
   "cell_type": "code",
   "execution_count": 47,
   "metadata": {},
   "outputs": [],
   "source": [
    "# Create row index\n",
    "data.index.name='orf'"
   ]
  },
  {
   "cell_type": "code",
   "execution_count": 48,
   "metadata": {},
   "outputs": [
    {
     "name": "stdout",
     "output_type": "stream",
     "text": [
      "Final data dimensions: 1166 x 12\n"
     ]
    }
   ],
   "source": [
    "print('Final data dimensions: %d x %d' % (data.shape))"
   ]
  },
  {
   "cell_type": "markdown",
   "metadata": {},
   "source": [
    "# Print out"
   ]
  },
  {
   "cell_type": "code",
   "execution_count": 49,
   "metadata": {},
   "outputs": [],
   "source": [
    "data.to_csv(paper_name + '.txt', sep='\\t')"
   ]
  },
  {
   "cell_type": "markdown",
   "metadata": {},
   "source": [
    "# Save to DB"
   ]
  },
  {
   "cell_type": "code",
   "execution_count": 50,
   "metadata": {},
   "outputs": [],
   "source": [
    "from IO.save_data_to_db2 import *"
   ]
  },
  {
   "cell_type": "code",
   "execution_count": 51,
   "metadata": {},
   "outputs": [],
   "source": [
    "# Create column index\n",
    "lst = [datasets.index.values, datasets['name'].values]\n",
    "tuples = list(zip(*lst))\n",
    "idx = pd.MultiIndex.from_tuples(tuples, names=['dataset_id','dataset_name'])\n",
    "data.columns = idx"
   ]
  },
  {
   "cell_type": "code",
   "execution_count": 52,
   "metadata": {},
   "outputs": [],
   "source": [
    "save_data_to_db(data, paper_pmid)"
   ]
  },
  {
   "cell_type": "code",
   "execution_count": null,
   "metadata": {},
   "outputs": [],
   "source": []
  }
 ],
 "metadata": {
  "kernelspec": {
   "display_name": "yp-data",
   "language": "python",
   "name": "yp-data"
  },
  "language_info": {
   "codemirror_mode": {
    "name": "ipython",
    "version": 3
   },
   "file_extension": ".py",
   "mimetype": "text/x-python",
   "name": "python",
   "nbconvert_exporter": "python",
   "pygments_lexer": "ipython3",
   "version": "3.7.7"
  }
 },
 "nbformat": 4,
 "nbformat_minor": 4
}
