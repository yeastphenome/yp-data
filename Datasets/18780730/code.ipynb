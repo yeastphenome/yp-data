{
 "cells": [
  {
   "cell_type": "code",
   "execution_count": 2,
   "metadata": {},
   "outputs": [],
   "source": [
    "import numpy as np\n",
    "import pandas as pd\n",
    "\n",
    "import sys\n",
    "\n",
    "from os.path import expanduser\n",
    "sys.path.append(expanduser('~') + '/Lab/Utils/Python/')\n",
    "\n",
    "from Conversions.translate import *\n",
    "from Strings.is_a import *"
   ]
  },
  {
   "cell_type": "markdown",
   "metadata": {},
   "source": [
    "# Initial setup"
   ]
  },
  {
   "cell_type": "code",
   "execution_count": 34,
   "metadata": {},
   "outputs": [],
   "source": [
    "paper_pmid = 18780730\n",
    "paper_name = 'sinha_steinmetz_2008' "
   ]
  },
  {
   "cell_type": "code",
   "execution_count": 35,
   "metadata": {},
   "outputs": [],
   "source": [
    "datasets = pd.read_csv('extras/YeastPhenome_' + str(paper_pmid) + '_datasets_list.txt', sep='\\t', header=None, names=['pmid', 'name'])"
   ]
  },
  {
   "cell_type": "code",
   "execution_count": 36,
   "metadata": {},
   "outputs": [],
   "source": [
    "datasets.set_index('pmid', inplace=True)"
   ]
  },
  {
   "cell_type": "markdown",
   "metadata": {},
   "source": [
    "# Load & process the data"
   ]
  },
  {
   "cell_type": "code",
   "execution_count": 3,
   "metadata": {},
   "outputs": [],
   "source": [
    "original_data = pd.read_csv('raw_data/deletion_pool_data.txt', sep='\\t')"
   ]
  },
  {
   "cell_type": "code",
   "execution_count": 4,
   "metadata": {},
   "outputs": [
    {
     "name": "stdout",
     "output_type": "stream",
     "text": [
      "Original data dimensions: 12489 x 23\n"
     ]
    }
   ],
   "source": [
    "print('Original data dimensions: %d x %d' % (original_data.shape))"
   ]
  },
  {
   "cell_type": "code",
   "execution_count": 6,
   "metadata": {},
   "outputs": [
    {
     "data": {
      "text/plain": [
       "Index(['orf::batch:tagtype', 'Gene', 'T0', '30C_T1', '30C_T2', '30C_T3',\n",
       "       '30C_T4', '30C_T5', '37C_T1', '37C_T2', '37C_T3', '37C_T4', '37C_T5',\n",
       "       '30C_RAPA_T1', '30C_RAPA_T2', '30C_RAPA_T3', 'Description',\n",
       "       'feature_qualifier', 'GO_process', 'GO_function', 'GO_component',\n",
       "       'essential_gene', 'zygosity'],\n",
       "      dtype='object')"
      ]
     },
     "execution_count": 6,
     "metadata": {},
     "output_type": "execute_result"
    }
   ],
   "source": [
    "original_data.columns"
   ]
  },
  {
   "cell_type": "code",
   "execution_count": 7,
   "metadata": {},
   "outputs": [
    {
     "data": {
      "text/html": [
       "<div>\n",
       "<style scoped>\n",
       "    .dataframe tbody tr th:only-of-type {\n",
       "        vertical-align: middle;\n",
       "    }\n",
       "\n",
       "    .dataframe tbody tr th {\n",
       "        vertical-align: top;\n",
       "    }\n",
       "\n",
       "    .dataframe thead th {\n",
       "        text-align: right;\n",
       "    }\n",
       "</style>\n",
       "<table border=\"1\" class=\"dataframe\">\n",
       "  <thead>\n",
       "    <tr style=\"text-align: right;\">\n",
       "      <th></th>\n",
       "      <th>orf::batch:tagtype</th>\n",
       "      <th>Gene</th>\n",
       "      <th>T0</th>\n",
       "      <th>30C_T1</th>\n",
       "      <th>30C_T2</th>\n",
       "      <th>30C_T3</th>\n",
       "      <th>30C_T4</th>\n",
       "      <th>30C_T5</th>\n",
       "      <th>37C_T1</th>\n",
       "      <th>37C_T2</th>\n",
       "      <th>...</th>\n",
       "      <th>30C_RAPA_T1</th>\n",
       "      <th>30C_RAPA_T2</th>\n",
       "      <th>30C_RAPA_T3</th>\n",
       "      <th>Description</th>\n",
       "      <th>feature_qualifier</th>\n",
       "      <th>GO_process</th>\n",
       "      <th>GO_function</th>\n",
       "      <th>GO_component</th>\n",
       "      <th>essential_gene</th>\n",
       "      <th>zygosity</th>\n",
       "    </tr>\n",
       "  </thead>\n",
       "  <tbody>\n",
       "    <tr>\n",
       "      <th>0</th>\n",
       "      <td>YAL001C::chr1_1:uptag</td>\n",
       "      <td>TFC3</td>\n",
       "      <td>1192.6</td>\n",
       "      <td>1539.8</td>\n",
       "      <td>1190.4</td>\n",
       "      <td>1085.8</td>\n",
       "      <td>937.8</td>\n",
       "      <td>822.0</td>\n",
       "      <td>1214.4</td>\n",
       "      <td>1229.2</td>\n",
       "      <td>...</td>\n",
       "      <td>1284.0</td>\n",
       "      <td>1589.8</td>\n",
       "      <td>770.6</td>\n",
       "      <td>Largest of six subunits of the RNA polymerase ...</td>\n",
       "      <td>Verified</td>\n",
       "      <td>transcription initiation from RNA polymerase I...</td>\n",
       "      <td>RNA polymerase III transcription factor activity</td>\n",
       "      <td>mitochondrion*</td>\n",
       "      <td>yes</td>\n",
       "      <td>het</td>\n",
       "    </tr>\n",
       "    <tr>\n",
       "      <th>1</th>\n",
       "      <td>YAL002W::chr1_1:uptag</td>\n",
       "      <td>VPS8</td>\n",
       "      <td>1791.0</td>\n",
       "      <td>2296.4</td>\n",
       "      <td>1861.4</td>\n",
       "      <td>1181.6</td>\n",
       "      <td>1616.2</td>\n",
       "      <td>908.4</td>\n",
       "      <td>1305.2</td>\n",
       "      <td>1121.6</td>\n",
       "      <td>...</td>\n",
       "      <td>1228.2</td>\n",
       "      <td>1436.4</td>\n",
       "      <td>45.4</td>\n",
       "      <td>Membrane-associated hydrophilic protein that i...</td>\n",
       "      <td>Verified</td>\n",
       "      <td>late endosome to vacuole transport</td>\n",
       "      <td>molecular function unknown</td>\n",
       "      <td>membrane fraction</td>\n",
       "      <td>no</td>\n",
       "      <td>hom</td>\n",
       "    </tr>\n",
       "    <tr>\n",
       "      <th>2</th>\n",
       "      <td>YAL003W::chr1_1:uptag</td>\n",
       "      <td>EFB1</td>\n",
       "      <td>1521.4</td>\n",
       "      <td>2024.0</td>\n",
       "      <td>1517.4</td>\n",
       "      <td>1541.2</td>\n",
       "      <td>1606.0</td>\n",
       "      <td>1387.6</td>\n",
       "      <td>1469.6</td>\n",
       "      <td>1626.2</td>\n",
       "      <td>...</td>\n",
       "      <td>1473.0</td>\n",
       "      <td>1495.8</td>\n",
       "      <td>920.8</td>\n",
       "      <td>Translation elongation factor 1 beta; stimulat...</td>\n",
       "      <td>Verified</td>\n",
       "      <td>translational elongation</td>\n",
       "      <td>translation elongation factor activity</td>\n",
       "      <td>ribosome*</td>\n",
       "      <td>yes</td>\n",
       "      <td>het</td>\n",
       "    </tr>\n",
       "    <tr>\n",
       "      <th>3</th>\n",
       "      <td>YAL004W::chr1_1:uptag</td>\n",
       "      <td>YAL004W</td>\n",
       "      <td>1467.2</td>\n",
       "      <td>2204.6</td>\n",
       "      <td>1925.0</td>\n",
       "      <td>1705.0</td>\n",
       "      <td>2196.6</td>\n",
       "      <td>1450.4</td>\n",
       "      <td>1635.8</td>\n",
       "      <td>1936.6</td>\n",
       "      <td>...</td>\n",
       "      <td>2182.4</td>\n",
       "      <td>2748.0</td>\n",
       "      <td>662.4</td>\n",
       "      <td>NaN</td>\n",
       "      <td>Dubious</td>\n",
       "      <td>NaN</td>\n",
       "      <td>NaN</td>\n",
       "      <td>NaN</td>\n",
       "      <td>no</td>\n",
       "      <td>hom</td>\n",
       "    </tr>\n",
       "    <tr>\n",
       "      <th>4</th>\n",
       "      <td>YAL005C::chr1_1:uptag</td>\n",
       "      <td>SSA1</td>\n",
       "      <td>2280.2</td>\n",
       "      <td>3030.6</td>\n",
       "      <td>2477.4</td>\n",
       "      <td>2351.2</td>\n",
       "      <td>2602.0</td>\n",
       "      <td>2255.4</td>\n",
       "      <td>2484.0</td>\n",
       "      <td>2270.0</td>\n",
       "      <td>...</td>\n",
       "      <td>2334.0</td>\n",
       "      <td>3145.2</td>\n",
       "      <td>1515.4</td>\n",
       "      <td>ATPase involved in protein folding and nuclear...</td>\n",
       "      <td>Verified</td>\n",
       "      <td>translation*</td>\n",
       "      <td>ATPase activity*</td>\n",
       "      <td>cytoplasm*</td>\n",
       "      <td>no</td>\n",
       "      <td>hom</td>\n",
       "    </tr>\n",
       "  </tbody>\n",
       "</table>\n",
       "<p>5 rows × 23 columns</p>\n",
       "</div>"
      ],
      "text/plain": [
       "      orf::batch:tagtype     Gene      T0  30C_T1  30C_T2  30C_T3  30C_T4  \\\n",
       "0  YAL001C::chr1_1:uptag     TFC3  1192.6  1539.8  1190.4  1085.8   937.8   \n",
       "1  YAL002W::chr1_1:uptag     VPS8  1791.0  2296.4  1861.4  1181.6  1616.2   \n",
       "2  YAL003W::chr1_1:uptag     EFB1  1521.4  2024.0  1517.4  1541.2  1606.0   \n",
       "3  YAL004W::chr1_1:uptag  YAL004W  1467.2  2204.6  1925.0  1705.0  2196.6   \n",
       "4  YAL005C::chr1_1:uptag     SSA1  2280.2  3030.6  2477.4  2351.2  2602.0   \n",
       "\n",
       "   30C_T5  37C_T1  37C_T2  ...  30C_RAPA_T1  30C_RAPA_T2  30C_RAPA_T3  \\\n",
       "0   822.0  1214.4  1229.2  ...       1284.0       1589.8        770.6   \n",
       "1   908.4  1305.2  1121.6  ...       1228.2       1436.4         45.4   \n",
       "2  1387.6  1469.6  1626.2  ...       1473.0       1495.8        920.8   \n",
       "3  1450.4  1635.8  1936.6  ...       2182.4       2748.0        662.4   \n",
       "4  2255.4  2484.0  2270.0  ...       2334.0       3145.2       1515.4   \n",
       "\n",
       "                                         Description  feature_qualifier  \\\n",
       "0  Largest of six subunits of the RNA polymerase ...           Verified   \n",
       "1  Membrane-associated hydrophilic protein that i...           Verified   \n",
       "2  Translation elongation factor 1 beta; stimulat...           Verified   \n",
       "3                                                NaN            Dubious   \n",
       "4  ATPase involved in protein folding and nuclear...           Verified   \n",
       "\n",
       "                                          GO_process  \\\n",
       "0  transcription initiation from RNA polymerase I...   \n",
       "1                 late endosome to vacuole transport   \n",
       "2                           translational elongation   \n",
       "3                                                NaN   \n",
       "4                                       translation*   \n",
       "\n",
       "                                        GO_function       GO_component  \\\n",
       "0  RNA polymerase III transcription factor activity     mitochondrion*   \n",
       "1                        molecular function unknown  membrane fraction   \n",
       "2            translation elongation factor activity          ribosome*   \n",
       "3                                               NaN                NaN   \n",
       "4                                  ATPase activity*         cytoplasm*   \n",
       "\n",
       "  essential_gene zygosity  \n",
       "0            yes      het  \n",
       "1             no      hom  \n",
       "2            yes      het  \n",
       "3             no      hom  \n",
       "4             no      hom  \n",
       "\n",
       "[5 rows x 23 columns]"
      ]
     },
     "execution_count": 7,
     "metadata": {},
     "output_type": "execute_result"
    }
   ],
   "source": [
    "original_data.head()"
   ]
  },
  {
   "cell_type": "code",
   "execution_count": 10,
   "metadata": {},
   "outputs": [],
   "source": [
    "original_data['orfs'] = original_data['orf::batch:tagtype'].apply(lambda x: x.split(':')[0])"
   ]
  },
  {
   "cell_type": "code",
   "execution_count": 12,
   "metadata": {},
   "outputs": [],
   "source": [
    "original_data['orfs'] = original_data['orfs'].astype(str)"
   ]
  },
  {
   "cell_type": "code",
   "execution_count": 13,
   "metadata": {},
   "outputs": [],
   "source": [
    "# Eliminate all white spaces & capitalize\n",
    "original_data['orfs'] = clean_orf(original_data['orfs'])"
   ]
  },
  {
   "cell_type": "code",
   "execution_count": 14,
   "metadata": {},
   "outputs": [],
   "source": [
    "# Translate to ORFs \n",
    "original_data['orfs'] = translate_sc(original_data['orfs'], to='orf')"
   ]
  },
  {
   "cell_type": "code",
   "execution_count": 15,
   "metadata": {},
   "outputs": [
    {
     "name": "stdout",
     "output_type": "stream",
     "text": [
      "Empty DataFrame\n",
      "Columns: [orf::batch:tagtype, Gene, T0, 30C_T1, 30C_T2, 30C_T3, 30C_T4, 30C_T5, 37C_T1, 37C_T2, 37C_T3, 37C_T4, 37C_T5, 30C_RAPA_T1, 30C_RAPA_T2, 30C_RAPA_T3, Description, feature_qualifier, GO_process, GO_function, GO_component, essential_gene, zygosity, orfs]\n",
      "Index: []\n",
      "\n",
      "[0 rows x 24 columns]\n"
     ]
    }
   ],
   "source": [
    "# Make sure everything translated ok\n",
    "t = looks_like_orf(original_data['orfs'])\n",
    "print(original_data.loc[~t,])"
   ]
  },
  {
   "cell_type": "code",
   "execution_count": 16,
   "metadata": {},
   "outputs": [],
   "source": [
    "original_data['37C'] = (original_data['37C_T5'] / original_data['T0']) / (original_data['30C_T5'] / original_data['T0'])"
   ]
  },
  {
   "cell_type": "code",
   "execution_count": 22,
   "metadata": {},
   "outputs": [
    {
     "data": {
      "text/html": [
       "<div>\n",
       "<style scoped>\n",
       "    .dataframe tbody tr th:only-of-type {\n",
       "        vertical-align: middle;\n",
       "    }\n",
       "\n",
       "    .dataframe tbody tr th {\n",
       "        vertical-align: top;\n",
       "    }\n",
       "\n",
       "    .dataframe thead th {\n",
       "        text-align: right;\n",
       "    }\n",
       "</style>\n",
       "<table border=\"1\" class=\"dataframe\">\n",
       "  <thead>\n",
       "    <tr style=\"text-align: right;\">\n",
       "      <th></th>\n",
       "      <th>orfs</th>\n",
       "      <th>T0</th>\n",
       "      <th>30C_T1</th>\n",
       "      <th>30C_T2</th>\n",
       "      <th>30C_T3</th>\n",
       "      <th>30C_T4</th>\n",
       "      <th>30C_T5</th>\n",
       "      <th>37C_T1</th>\n",
       "      <th>37C_T2</th>\n",
       "      <th>37C_T3</th>\n",
       "      <th>37C_T4</th>\n",
       "      <th>37C_T5</th>\n",
       "    </tr>\n",
       "    <tr>\n",
       "      <th>index_input</th>\n",
       "      <th></th>\n",
       "      <th></th>\n",
       "      <th></th>\n",
       "      <th></th>\n",
       "      <th></th>\n",
       "      <th></th>\n",
       "      <th></th>\n",
       "      <th></th>\n",
       "      <th></th>\n",
       "      <th></th>\n",
       "      <th></th>\n",
       "      <th></th>\n",
       "    </tr>\n",
       "  </thead>\n",
       "  <tbody>\n",
       "    <tr>\n",
       "      <th>9977</th>\n",
       "      <td>YNL226W</td>\n",
       "      <td>1875.40</td>\n",
       "      <td>1432.4</td>\n",
       "      <td>313.6</td>\n",
       "      <td>41.0</td>\n",
       "      <td>40.0</td>\n",
       "      <td>52.4</td>\n",
       "      <td>1620.6</td>\n",
       "      <td>1793.0</td>\n",
       "      <td>1867.8</td>\n",
       "      <td>1615.4</td>\n",
       "      <td>1710.4</td>\n",
       "    </tr>\n",
       "    <tr>\n",
       "      <th>11935</th>\n",
       "      <td>YPL205C</td>\n",
       "      <td>2316.20</td>\n",
       "      <td>2031.0</td>\n",
       "      <td>1082.5</td>\n",
       "      <td>407.6</td>\n",
       "      <td>114.4</td>\n",
       "      <td>52.0</td>\n",
       "      <td>2537.6</td>\n",
       "      <td>2129.6</td>\n",
       "      <td>2385.8</td>\n",
       "      <td>1439.6</td>\n",
       "      <td>1357.4</td>\n",
       "    </tr>\n",
       "    <tr>\n",
       "      <th>9264</th>\n",
       "      <td>YMR193C-A</td>\n",
       "      <td>2642.25</td>\n",
       "      <td>2391.8</td>\n",
       "      <td>914.4</td>\n",
       "      <td>341.6</td>\n",
       "      <td>271.2</td>\n",
       "      <td>61.4</td>\n",
       "      <td>2075.4</td>\n",
       "      <td>2055.6</td>\n",
       "      <td>1808.2</td>\n",
       "      <td>1684.4</td>\n",
       "      <td>1554.8</td>\n",
       "    </tr>\n",
       "    <tr>\n",
       "      <th>197</th>\n",
       "      <td>YBL039C</td>\n",
       "      <td>1082.40</td>\n",
       "      <td>606.8</td>\n",
       "      <td>289.4</td>\n",
       "      <td>79.6</td>\n",
       "      <td>211.8</td>\n",
       "      <td>49.2</td>\n",
       "      <td>895.4</td>\n",
       "      <td>1087.0</td>\n",
       "      <td>1005.6</td>\n",
       "      <td>1451.2</td>\n",
       "      <td>1093.0</td>\n",
       "    </tr>\n",
       "    <tr>\n",
       "      <th>2918</th>\n",
       "      <td>YDR463W</td>\n",
       "      <td>1007.20</td>\n",
       "      <td>581.2</td>\n",
       "      <td>169.0</td>\n",
       "      <td>41.0</td>\n",
       "      <td>63.0</td>\n",
       "      <td>54.8</td>\n",
       "      <td>1410.0</td>\n",
       "      <td>1701.0</td>\n",
       "      <td>1867.4</td>\n",
       "      <td>1408.2</td>\n",
       "      <td>1057.8</td>\n",
       "    </tr>\n",
       "  </tbody>\n",
       "</table>\n",
       "</div>"
      ],
      "text/plain": [
       "                  orfs       T0  30C_T1  30C_T2  30C_T3  30C_T4  30C_T5  \\\n",
       "index_input                                                               \n",
       "9977           YNL226W  1875.40  1432.4   313.6    41.0    40.0    52.4   \n",
       "11935          YPL205C  2316.20  2031.0  1082.5   407.6   114.4    52.0   \n",
       "9264         YMR193C-A  2642.25  2391.8   914.4   341.6   271.2    61.4   \n",
       "197            YBL039C  1082.40   606.8   289.4    79.6   211.8    49.2   \n",
       "2918           YDR463W  1007.20   581.2   169.0    41.0    63.0    54.8   \n",
       "\n",
       "             37C_T1  37C_T2  37C_T3  37C_T4  37C_T5  \n",
       "index_input                                          \n",
       "9977         1620.6  1793.0  1867.8  1615.4  1710.4  \n",
       "11935        2537.6  2129.6  2385.8  1439.6  1357.4  \n",
       "9264         2075.4  2055.6  1808.2  1684.4  1554.8  \n",
       "197           895.4  1087.0  1005.6  1451.2  1093.0  \n",
       "2918         1410.0  1701.0  1867.4  1408.2  1057.8  "
      ]
     },
     "execution_count": 22,
     "metadata": {},
     "output_type": "execute_result"
    }
   ],
   "source": [
    "original_data.sort_values(by='37C', ascending=False)[['orfs','T0','30C_T1','30C_T2','30C_T3','30C_T4','30C_T5','37C_T1','37C_T2','37C_T3','37C_T4','37C_T5']].head()"
   ]
  },
  {
   "cell_type": "code",
   "execution_count": 23,
   "metadata": {},
   "outputs": [],
   "source": [
    "original_data['rapa_12h'] = original_data['30C_RAPA_T1'] / original_data['T0']\n",
    "original_data['rapa_24h'] = original_data['30C_RAPA_T2'] / original_data['T0']\n",
    "original_data['rapa_36h'] = original_data['30C_RAPA_T3'] / original_data['T0']"
   ]
  },
  {
   "cell_type": "code",
   "execution_count": 24,
   "metadata": {},
   "outputs": [],
   "source": [
    "original_data.set_index('orfs', inplace=True)"
   ]
  },
  {
   "cell_type": "code",
   "execution_count": 25,
   "metadata": {},
   "outputs": [],
   "source": [
    "# Splits homozygous and heterozygous mutants\n",
    "original_data_hom = original_data.loc[original_data['zygosity']=='hom'].copy()\n",
    "original_data_het = original_data.loc[original_data['zygosity']=='het'].copy()"
   ]
  },
  {
   "cell_type": "code",
   "execution_count": 28,
   "metadata": {},
   "outputs": [
    {
     "data": {
      "text/plain": [
       "(4956, 18)"
      ]
     },
     "execution_count": 28,
     "metadata": {},
     "output_type": "execute_result"
    }
   ],
   "source": [
    "original_data_hom = original_data_hom.groupby(original_data_hom.index).mean()\n",
    "original_data_hom.shape"
   ]
  },
  {
   "cell_type": "code",
   "execution_count": 29,
   "metadata": {},
   "outputs": [
    {
     "data": {
      "text/plain": [
       "(1142, 18)"
      ]
     },
     "execution_count": 29,
     "metadata": {},
     "output_type": "execute_result"
    }
   ],
   "source": [
    "original_data_het = original_data_het.groupby(original_data_het.index).mean()\n",
    "original_data_het.shape"
   ]
  },
  {
   "cell_type": "code",
   "execution_count": 42,
   "metadata": {},
   "outputs": [],
   "source": [
    "# Pull them back together\n",
    "data = original_data_hom[['37C','rapa_12h','rapa_24h','rapa_36h']].join(original_data_het[['37C','rapa_12h','rapa_24h','rapa_36h']],\n",
    "                                                                       lsuffix='_hom', rsuffix='_het', how='outer')"
   ]
  },
  {
   "cell_type": "markdown",
   "metadata": {},
   "source": [
    "# Prepare the final dataset"
   ]
  },
  {
   "cell_type": "code",
   "execution_count": 43,
   "metadata": {},
   "outputs": [],
   "source": [
    "dataset_ids = [16511,16639,16640,16641,16638,16642,16643,16644]"
   ]
  },
  {
   "cell_type": "code",
   "execution_count": 44,
   "metadata": {},
   "outputs": [],
   "source": [
    "datasets = datasets.reindex(index=dataset_ids)"
   ]
  },
  {
   "cell_type": "code",
   "execution_count": 45,
   "metadata": {},
   "outputs": [],
   "source": [
    "data.columns = datasets['name'].values"
   ]
  },
  {
   "cell_type": "code",
   "execution_count": 46,
   "metadata": {},
   "outputs": [],
   "source": [
    "data = data.groupby(data.index).mean()"
   ]
  },
  {
   "cell_type": "code",
   "execution_count": 47,
   "metadata": {},
   "outputs": [],
   "source": [
    "# Create row index\n",
    "data.index.name='orf'"
   ]
  },
  {
   "cell_type": "code",
   "execution_count": 48,
   "metadata": {},
   "outputs": [
    {
     "name": "stdout",
     "output_type": "stream",
     "text": [
      "Final data dimensions: 6074 x 8\n"
     ]
    }
   ],
   "source": [
    "print('Final data dimensions: %d x %d' % (data.shape))"
   ]
  },
  {
   "cell_type": "markdown",
   "metadata": {},
   "source": [
    "# Print out"
   ]
  },
  {
   "cell_type": "code",
   "execution_count": 51,
   "metadata": {},
   "outputs": [],
   "source": [
    "data.to_csv(paper_name + '.txt', sep='\\t')"
   ]
  },
  {
   "cell_type": "markdown",
   "metadata": {},
   "source": [
    "# Save to DB"
   ]
  },
  {
   "cell_type": "code",
   "execution_count": 50,
   "metadata": {},
   "outputs": [],
   "source": [
    "from IO.save_data_to_db2 import *"
   ]
  },
  {
   "cell_type": "code",
   "execution_count": 52,
   "metadata": {},
   "outputs": [],
   "source": [
    "# Create column index\n",
    "lst = [datasets.index.values, datasets['name'].values]\n",
    "tuples = list(zip(*lst))\n",
    "idx = pd.MultiIndex.from_tuples(tuples, names=['dataset_id','dataset_name'])\n",
    "data.columns = idx"
   ]
  },
  {
   "cell_type": "code",
   "execution_count": 53,
   "metadata": {},
   "outputs": [],
   "source": [
    "save_data_to_db(data, paper_pmid)"
   ]
  },
  {
   "cell_type": "code",
   "execution_count": null,
   "metadata": {},
   "outputs": [],
   "source": []
  }
 ],
 "metadata": {
  "kernelspec": {
   "display_name": "yp-data",
   "language": "python",
   "name": "yp-data"
  },
  "language_info": {
   "codemirror_mode": {
    "name": "ipython",
    "version": 3
   },
   "file_extension": ".py",
   "mimetype": "text/x-python",
   "name": "python",
   "nbconvert_exporter": "python",
   "pygments_lexer": "ipython3",
   "version": "3.7.7"
  }
 },
 "nbformat": 4,
 "nbformat_minor": 4
}
