{
 "cells": [
  {
   "cell_type": "code",
   "execution_count": 1,
   "metadata": {},
   "outputs": [],
   "source": [
    "%run ../yp_utils.py"
   ]
  },
  {
   "cell_type": "markdown",
   "metadata": {},
   "source": [
    "# Initial setup"
   ]
  },
  {
   "cell_type": "code",
   "execution_count": 2,
   "metadata": {},
   "outputs": [],
   "source": [
    "paper_pmid = 20498295\n",
    "paper_name = 'dakshinamurthy_garfinkel_2010' "
   ]
  },
  {
   "cell_type": "code",
   "execution_count": 39,
   "metadata": {},
   "outputs": [],
   "source": [
    "datasets = pd.read_csv('extras/YeastPhenome_' + str(paper_pmid) + '_datasets_list.txt', sep='\\t', header=None, names=['dataset_id', 'name'])"
   ]
  },
  {
   "cell_type": "code",
   "execution_count": 40,
   "metadata": {},
   "outputs": [],
   "source": [
    "datasets.set_index('dataset_id', inplace=True)"
   ]
  },
  {
   "cell_type": "markdown",
   "metadata": {},
   "source": [
    "# Load & process the data"
   ]
  },
  {
   "cell_type": "code",
   "execution_count": 8,
   "metadata": {},
   "outputs": [],
   "source": [
    "original_data = pd.read_excel('raw_data/TableS1-2.xlsx', sheet_name='Sheet2', skiprows=3)"
   ]
  },
  {
   "cell_type": "code",
   "execution_count": 9,
   "metadata": {},
   "outputs": [
    {
     "name": "stdout",
     "output_type": "stream",
     "text": [
      "Original data dimensions: 173 x 15\n"
     ]
    }
   ],
   "source": [
    "print('Original data dimensions: %d x %d' % (original_data.shape))"
   ]
  },
  {
   "cell_type": "code",
   "execution_count": 10,
   "metadata": {},
   "outputs": [
    {
     "data": {
      "text/html": [
       "<div>\n",
       "<style scoped>\n",
       "    .dataframe tbody tr th:only-of-type {\n",
       "        vertical-align: middle;\n",
       "    }\n",
       "\n",
       "    .dataframe tbody tr th {\n",
       "        vertical-align: top;\n",
       "    }\n",
       "\n",
       "    .dataframe thead th {\n",
       "        text-align: right;\n",
       "    }\n",
       "</style>\n",
       "<table border=\"1\" class=\"dataframe\">\n",
       "  <thead>\n",
       "    <tr style=\"text-align: right;\">\n",
       "      <th></th>\n",
       "      <th>Gene deleted</th>\n",
       "      <th>Unnamed: 1</th>\n",
       "      <th>Decrease in Ty1his3-AI mobility</th>\n",
       "      <th>Unnamed: 3</th>\n",
       "      <th>Unnamed: 4</th>\n",
       "      <th>Function</th>\n",
       "      <th>Unnamed: 6</th>\n",
       "      <th>Unnamed: 7</th>\n",
       "      <th>Unnamed: 8</th>\n",
       "      <th>Unnamed: 9</th>\n",
       "      <th>Unnamed: 10</th>\n",
       "      <th>Unnamed: 11</th>\n",
       "      <th>Unnamed: 12</th>\n",
       "      <th>Unnamed: 13</th>\n",
       "      <th>Unnamed: 14</th>\n",
       "    </tr>\n",
       "  </thead>\n",
       "  <tbody>\n",
       "    <tr>\n",
       "      <th>0</th>\n",
       "      <td>AAH1</td>\n",
       "      <td>YNL141W</td>\n",
       "      <td>*</td>\n",
       "      <td>Adenine deaminase (adenine aminohydrolase), co...</td>\n",
       "      <td>NaN</td>\n",
       "      <td>NaN</td>\n",
       "      <td>NaN</td>\n",
       "      <td>NaN</td>\n",
       "      <td>NaN</td>\n",
       "      <td>NaN</td>\n",
       "      <td>NaN</td>\n",
       "      <td>NaN</td>\n",
       "      <td>NaN</td>\n",
       "      <td>NaN</td>\n",
       "      <td>NaN</td>\n",
       "    </tr>\n",
       "    <tr>\n",
       "      <th>1</th>\n",
       "      <td>AGE1</td>\n",
       "      <td>YDR524C</td>\n",
       "      <td>**</td>\n",
       "      <td>ADP-ribosylation factor (ARF) GTPase activatin...</td>\n",
       "      <td>NaN</td>\n",
       "      <td>NaN</td>\n",
       "      <td>NaN</td>\n",
       "      <td>NaN</td>\n",
       "      <td>NaN</td>\n",
       "      <td>NaN</td>\n",
       "      <td>NaN</td>\n",
       "      <td>NaN</td>\n",
       "      <td>NaN</td>\n",
       "      <td>NaN</td>\n",
       "      <td>NaN</td>\n",
       "    </tr>\n",
       "    <tr>\n",
       "      <th>2</th>\n",
       "      <td>AKR1</td>\n",
       "      <td>YDR264C</td>\n",
       "      <td>***</td>\n",
       "      <td>Palmitoyl transferase involved in protein palm...</td>\n",
       "      <td>NaN</td>\n",
       "      <td>NaN</td>\n",
       "      <td>NaN</td>\n",
       "      <td>NaN</td>\n",
       "      <td>NaN</td>\n",
       "      <td>NaN</td>\n",
       "      <td>NaN</td>\n",
       "      <td>NaN</td>\n",
       "      <td>NaN</td>\n",
       "      <td>NaN</td>\n",
       "      <td>NaN</td>\n",
       "    </tr>\n",
       "    <tr>\n",
       "      <th>3</th>\n",
       "      <td>APQ12</td>\n",
       "      <td>YIL040W</td>\n",
       "      <td>**</td>\n",
       "      <td>Protein involved in nucleocytoplasmic transpor...</td>\n",
       "      <td>NaN</td>\n",
       "      <td>NaN</td>\n",
       "      <td>NaN</td>\n",
       "      <td>NaN</td>\n",
       "      <td>NaN</td>\n",
       "      <td>NaN</td>\n",
       "      <td>NaN</td>\n",
       "      <td>NaN</td>\n",
       "      <td>NaN</td>\n",
       "      <td>NaN</td>\n",
       "      <td>NaN</td>\n",
       "    </tr>\n",
       "    <tr>\n",
       "      <th>4</th>\n",
       "      <td>ARP5</td>\n",
       "      <td>YNL059C</td>\n",
       "      <td>***</td>\n",
       "      <td>Nuclear actin-related protein involved in chro...</td>\n",
       "      <td>NaN</td>\n",
       "      <td>NaN</td>\n",
       "      <td>NaN</td>\n",
       "      <td>NaN</td>\n",
       "      <td>NaN</td>\n",
       "      <td>NaN</td>\n",
       "      <td>NaN</td>\n",
       "      <td>NaN</td>\n",
       "      <td>NaN</td>\n",
       "      <td>NaN</td>\n",
       "      <td>NaN</td>\n",
       "    </tr>\n",
       "  </tbody>\n",
       "</table>\n",
       "</div>"
      ],
      "text/plain": [
       "  Gene deleted Unnamed: 1 Decrease in Ty1his3-AI mobility  \\\n",
       "0         AAH1    YNL141W                               *   \n",
       "1         AGE1    YDR524C                              **   \n",
       "2         AKR1    YDR264C                             ***   \n",
       "3        APQ12    YIL040W                              **   \n",
       "4         ARP5    YNL059C                             ***   \n",
       "\n",
       "                                          Unnamed: 3  Unnamed: 4  Function  \\\n",
       "0  Adenine deaminase (adenine aminohydrolase), co...         NaN       NaN   \n",
       "1  ADP-ribosylation factor (ARF) GTPase activatin...         NaN       NaN   \n",
       "2  Palmitoyl transferase involved in protein palm...         NaN       NaN   \n",
       "3  Protein involved in nucleocytoplasmic transpor...         NaN       NaN   \n",
       "4  Nuclear actin-related protein involved in chro...         NaN       NaN   \n",
       "\n",
       "   Unnamed: 6  Unnamed: 7  Unnamed: 8  Unnamed: 9  Unnamed: 10  Unnamed: 11  \\\n",
       "0         NaN         NaN         NaN         NaN          NaN          NaN   \n",
       "1         NaN         NaN         NaN         NaN          NaN          NaN   \n",
       "2         NaN         NaN         NaN         NaN          NaN          NaN   \n",
       "3         NaN         NaN         NaN         NaN          NaN          NaN   \n",
       "4         NaN         NaN         NaN         NaN          NaN          NaN   \n",
       "\n",
       "   Unnamed: 12  Unnamed: 13  Unnamed: 14  \n",
       "0          NaN          NaN          NaN  \n",
       "1          NaN          NaN          NaN  \n",
       "2          NaN          NaN          NaN  \n",
       "3          NaN          NaN          NaN  \n",
       "4          NaN          NaN          NaN  "
      ]
     },
     "execution_count": 10,
     "metadata": {},
     "output_type": "execute_result"
    }
   ],
   "source": [
    "original_data.head()"
   ]
  },
  {
   "cell_type": "code",
   "execution_count": 11,
   "metadata": {},
   "outputs": [],
   "source": [
    "original_data['orf'] = original_data['Unnamed: 1'].astype(str)"
   ]
  },
  {
   "cell_type": "code",
   "execution_count": 12,
   "metadata": {},
   "outputs": [],
   "source": [
    "# Eliminate all white spaces & capitalize\n",
    "original_data['orf'] = clean_orf(original_data['orf'])"
   ]
  },
  {
   "cell_type": "code",
   "execution_count": 13,
   "metadata": {},
   "outputs": [],
   "source": [
    "# Translate to ORFs \n",
    "original_data['orf'] = translate_sc(original_data['orf'], to='orf')"
   ]
  },
  {
   "cell_type": "code",
   "execution_count": 14,
   "metadata": {},
   "outputs": [
    {
     "name": "stdout",
     "output_type": "stream",
     "text": [
      "                                                  Gene deleted Unnamed: 1  \\\n",
      "index_input                                                                 \n",
      "168                                                        NaN        NaN   \n",
      "169          Ty1 cofactor mutants analyzed for the level of...        NaN   \n",
      "170                                                        NaN        NaN   \n",
      "171          Ty1his3-AI mobility: * (modest decrease) **** ...        NaN   \n",
      "172          Data obtained from the SGD project. \"Saccharom...        NaN   \n",
      "\n",
      "            Decrease in Ty1his3-AI mobility Unnamed: 3  Unnamed: 4  Function  \\\n",
      "index_input                                                                    \n",
      "168                                     NaN        NaN         NaN       NaN   \n",
      "169                                     NaN        NaN         NaN       NaN   \n",
      "170                                     NaN        NaN         NaN       NaN   \n",
      "171                                     NaN        NaN         NaN       NaN   \n",
      "172                                     NaN        NaN         NaN       NaN   \n",
      "\n",
      "             Unnamed: 6  Unnamed: 7  Unnamed: 8  Unnamed: 9  Unnamed: 10  \\\n",
      "index_input                                                                \n",
      "168                 NaN         NaN         NaN         NaN          NaN   \n",
      "169                 NaN         NaN         NaN         NaN          NaN   \n",
      "170                 NaN         NaN         NaN         NaN          NaN   \n",
      "171                 NaN         NaN         NaN         NaN          NaN   \n",
      "172                 NaN         NaN         NaN         NaN          NaN   \n",
      "\n",
      "             Unnamed: 11  Unnamed: 12  Unnamed: 13  Unnamed: 14  orf  \n",
      "index_input                                                           \n",
      "168                  NaN          NaN          NaN          NaN  NAN  \n",
      "169                  NaN          NaN          NaN          NaN  NAN  \n",
      "170                  NaN          NaN          NaN          NaN  NAN  \n",
      "171                  NaN          NaN          NaN          NaN  NAN  \n",
      "172                  NaN          NaN          NaN          NaN  NAN  \n"
     ]
    }
   ],
   "source": [
    "# Make sure everything translated ok\n",
    "t = looks_like_orf(original_data['orf'])\n",
    "print(original_data.loc[~t,])"
   ]
  },
  {
   "cell_type": "code",
   "execution_count": 15,
   "metadata": {},
   "outputs": [],
   "source": [
    "original_data = original_data.loc[t,:]"
   ]
  },
  {
   "cell_type": "code",
   "execution_count": 16,
   "metadata": {},
   "outputs": [],
   "source": [
    "original_data.set_index('orf', inplace=True)"
   ]
  },
  {
   "cell_type": "code",
   "execution_count": 17,
   "metadata": {},
   "outputs": [],
   "source": [
    "# These data describes a decrease in the number if His+ cells, thus a decrease in the frequency of Ty1 transposition\n",
    "original_data['data'] = original_data['Decrease in Ty1his3-AI mobility'].apply(lambda x: -len(x))"
   ]
  },
  {
   "cell_type": "code",
   "execution_count": 18,
   "metadata": {},
   "outputs": [],
   "source": [
    "original_data = original_data[['data']].copy()"
   ]
  },
  {
   "cell_type": "code",
   "execution_count": 19,
   "metadata": {},
   "outputs": [],
   "source": [
    "original_data = original_data.groupby(original_data.index).mean()"
   ]
  },
  {
   "cell_type": "code",
   "execution_count": 20,
   "metadata": {},
   "outputs": [
    {
     "data": {
      "text/plain": [
       "(168, 1)"
      ]
     },
     "execution_count": 20,
     "metadata": {},
     "output_type": "execute_result"
    }
   ],
   "source": [
    "original_data.shape"
   ]
  },
  {
   "cell_type": "markdown",
   "metadata": {},
   "source": [
    "# Load & process tested strains"
   ]
  },
  {
   "cell_type": "code",
   "execution_count": 23,
   "metadata": {},
   "outputs": [],
   "source": [
    "tested = pd.read_excel('raw_data/Matalphakos counted.xlsx', sheet_name='Sheet2', skiprows=4)"
   ]
  },
  {
   "cell_type": "code",
   "execution_count": 24,
   "metadata": {},
   "outputs": [
    {
     "data": {
      "text/html": [
       "<div>\n",
       "<style scoped>\n",
       "    .dataframe tbody tr th:only-of-type {\n",
       "        vertical-align: middle;\n",
       "    }\n",
       "\n",
       "    .dataframe tbody tr th {\n",
       "        vertical-align: top;\n",
       "    }\n",
       "\n",
       "    .dataframe thead th {\n",
       "        text-align: right;\n",
       "    }\n",
       "</style>\n",
       "<table border=\"1\" class=\"dataframe\">\n",
       "  <thead>\n",
       "    <tr style=\"text-align: right;\">\n",
       "      <th></th>\n",
       "      <th>record</th>\n",
       "      <th>no.</th>\n",
       "      <th>ORF</th>\n",
       "      <th>name</th>\n",
       "      <th>strain</th>\n",
       "      <th>batch</th>\n",
       "      <th>plate</th>\n",
       "      <th>row</th>\n",
       "      <th>column</th>\n",
       "      <th>RG</th>\n",
       "      <th>notes</th>\n",
       "      <th>Consortium</th>\n",
       "      <th>Notes</th>\n",
       "      <th>Unnamed: 13</th>\n",
       "      <th>Unnamed: 14</th>\n",
       "      <th>Unnamed: 15</th>\n",
       "      <th>Unnamed: 16</th>\n",
       "    </tr>\n",
       "  </thead>\n",
       "  <tbody>\n",
       "    <tr>\n",
       "      <th>0</th>\n",
       "      <td>10338</td>\n",
       "      <td>YAL068C</td>\n",
       "      <td>BY4739</td>\n",
       "      <td>01_1</td>\n",
       "      <td>101</td>\n",
       "      <td>A</td>\n",
       "      <td>2</td>\n",
       "      <td>NaN</td>\n",
       "      <td>NaN</td>\n",
       "      <td>NaN</td>\n",
       "      <td>NaN</td>\n",
       "      <td>NaN</td>\n",
       "      <td>NaN</td>\n",
       "      <td>NaN</td>\n",
       "      <td>NaN</td>\n",
       "      <td>NaN</td>\n",
       "      <td>NaN</td>\n",
       "    </tr>\n",
       "    <tr>\n",
       "      <th>1</th>\n",
       "      <td>10339</td>\n",
       "      <td>YAL067C</td>\n",
       "      <td>BY4739</td>\n",
       "      <td>01_1</td>\n",
       "      <td>101</td>\n",
       "      <td>A</td>\n",
       "      <td>3</td>\n",
       "      <td>NaN</td>\n",
       "      <td>NaN</td>\n",
       "      <td>NaN</td>\n",
       "      <td>NaN</td>\n",
       "      <td>NaN</td>\n",
       "      <td>NaN</td>\n",
       "      <td>NaN</td>\n",
       "      <td>NaN</td>\n",
       "      <td>NaN</td>\n",
       "      <td>NaN</td>\n",
       "    </tr>\n",
       "    <tr>\n",
       "      <th>2</th>\n",
       "      <td>10340</td>\n",
       "      <td>YAL066W</td>\n",
       "      <td>BY4739</td>\n",
       "      <td>01_1</td>\n",
       "      <td>101</td>\n",
       "      <td>A</td>\n",
       "      <td>4</td>\n",
       "      <td>NaN</td>\n",
       "      <td>NaN</td>\n",
       "      <td>NaN</td>\n",
       "      <td>NaN</td>\n",
       "      <td>NaN</td>\n",
       "      <td>NaN</td>\n",
       "      <td>NaN</td>\n",
       "      <td>NaN</td>\n",
       "      <td>NaN</td>\n",
       "      <td>NaN</td>\n",
       "    </tr>\n",
       "    <tr>\n",
       "      <th>3</th>\n",
       "      <td>10341</td>\n",
       "      <td>YAL065C</td>\n",
       "      <td>BY4739</td>\n",
       "      <td>01_1</td>\n",
       "      <td>101</td>\n",
       "      <td>A</td>\n",
       "      <td>5</td>\n",
       "      <td>NaN</td>\n",
       "      <td>NaN</td>\n",
       "      <td>NaN</td>\n",
       "      <td>NaN</td>\n",
       "      <td>NaN</td>\n",
       "      <td>NaN</td>\n",
       "      <td>NaN</td>\n",
       "      <td>NaN</td>\n",
       "      <td>NaN</td>\n",
       "      <td>NaN</td>\n",
       "    </tr>\n",
       "    <tr>\n",
       "      <th>4</th>\n",
       "      <td>10345</td>\n",
       "      <td>YAL062W</td>\n",
       "      <td>BY4739</td>\n",
       "      <td>01_1</td>\n",
       "      <td>101</td>\n",
       "      <td>A</td>\n",
       "      <td>6</td>\n",
       "      <td>NaN</td>\n",
       "      <td>NaN</td>\n",
       "      <td>NaN</td>\n",
       "      <td>NaN</td>\n",
       "      <td>NaN</td>\n",
       "      <td>NaN</td>\n",
       "      <td>NaN</td>\n",
       "      <td>NaN</td>\n",
       "      <td>NaN</td>\n",
       "      <td>NaN</td>\n",
       "    </tr>\n",
       "  </tbody>\n",
       "</table>\n",
       "</div>"
      ],
      "text/plain": [
       "  record      no.     ORF  name strain batch plate  row column   RG notes  \\\n",
       "0  10338  YAL068C  BY4739  01_1    101     A     2  NaN    NaN  NaN   NaN   \n",
       "1  10339  YAL067C  BY4739  01_1    101     A     3  NaN    NaN  NaN   NaN   \n",
       "2  10340  YAL066W  BY4739  01_1    101     A     4  NaN    NaN  NaN   NaN   \n",
       "3  10341  YAL065C  BY4739  01_1    101     A     5  NaN    NaN  NaN   NaN   \n",
       "4  10345  YAL062W  BY4739  01_1    101     A     6  NaN    NaN  NaN   NaN   \n",
       "\n",
       "  Consortium Notes Unnamed: 13 Unnamed: 14 Unnamed: 15 Unnamed: 16  \n",
       "0        NaN   NaN         NaN         NaN         NaN         NaN  \n",
       "1        NaN   NaN         NaN         NaN         NaN         NaN  \n",
       "2        NaN   NaN         NaN         NaN         NaN         NaN  \n",
       "3        NaN   NaN         NaN         NaN         NaN         NaN  \n",
       "4        NaN   NaN         NaN         NaN         NaN         NaN  "
      ]
     },
     "execution_count": 24,
     "metadata": {},
     "output_type": "execute_result"
    }
   ],
   "source": [
    "tested.head()"
   ]
  },
  {
   "cell_type": "code",
   "execution_count": 25,
   "metadata": {},
   "outputs": [],
   "source": [
    "tested['orf'] = tested['no.'].astype(str)"
   ]
  },
  {
   "cell_type": "code",
   "execution_count": 26,
   "metadata": {},
   "outputs": [],
   "source": [
    "tested['orf'] = clean_orf(tested['orf'])"
   ]
  },
  {
   "cell_type": "code",
   "execution_count": 29,
   "metadata": {},
   "outputs": [],
   "source": [
    "typo_fixes = {'YLR228':'YLR228C','YMR062':'YMR062C','YYKL138C':'YKL138C'}\n",
    "tested['orf'] = tested['orf'].apply(lambda x: typo_fixes[x] if x in typo_fixes.keys() else x)"
   ]
  },
  {
   "cell_type": "code",
   "execution_count": 30,
   "metadata": {},
   "outputs": [],
   "source": [
    "tested['orf'] = translate_sc(tested['orf'], to='orf')"
   ]
  },
  {
   "cell_type": "code",
   "execution_count": 31,
   "metadata": {},
   "outputs": [
    {
     "name": "stdout",
     "output_type": "stream",
     "text": [
      "             record                                    no.   ORF  name strain  \\\n",
      "index_input                                                                     \n",
      "1922           4742                                   05_2   121     D      7   \n",
      "1933             42                                   08_1   121     E      5   \n",
      "1944         BY4742                                   08_3   121     F      3   \n",
      "3282              1                                    NaN   NaN   NaN    NaN   \n",
      "4620            742                                  00_17   150     A     10   \n",
      "4689            NaN                                   slow  grow   NaN    NaN   \n",
      "4726            NaN                                   slow  grow   NaN    NaN   \n",
      "4739           grow                                    NaN   NaN   NaN    NaN   \n",
      "4776            row                                    NaN   NaN   NaN    NaN   \n",
      "4789              w                                    NaN   NaN   NaN    NaN   \n",
      "4801             ow  slow grow, no growth auxotrophy plate   NaN   NaN    NaN   \n",
      "4813            row                                   slow  grow   NaN    NaN   \n",
      "4823             42                                   12_4   171     E      2   \n",
      "4832              E                                     10    rg  slow   grow   \n",
      "\n",
      "                                                         batch   plate  \\\n",
      "index_input                                                              \n",
      "1922         Failed qc-- growth-lys, ng -met, ng aux ,no  m...     NaN   \n",
      "1933                                                   R21-R30  FAILED   \n",
      "1944         Failed QC--growth -Lys, n/g -Met, n/g Aux, no ...     NaN   \n",
      "3282                                                       NaN     NaN   \n",
      "4620                                                        rg  growth   \n",
      "4689                                                       NaN     NaN   \n",
      "4726                                                       NaN     NaN   \n",
      "4739                                                       NaN     NaN   \n",
      "4776                                                       NaN     NaN   \n",
      "4789                                                       NaN     NaN   \n",
      "4801                                                       NaN     NaN   \n",
      "4813                                                       NaN     NaN   \n",
      "4823                                                        rg    slow   \n",
      "4832                                                       NaN     NaN   \n",
      "\n",
      "                    row column    RG notes Consortium Notes Unnamed: 13  \\\n",
      "index_input                                                               \n",
      "1922                NaN    NaN   NaN   NaN        NaN   NaN         NaN   \n",
      "1933         QC-DIPLOID    NaN   NaN   NaN        NaN   NaN         NaN   \n",
      "1944                NaN    NaN   NaN   NaN        NaN   NaN         NaN   \n",
      "3282                NaN    NaN   NaN   NaN        NaN   NaN         NaN   \n",
      "4620                 ok   slow  grow   NaN        NaN   NaN         NaN   \n",
      "4689                NaN    NaN   NaN   NaN        NaN   NaN         NaN   \n",
      "4726                NaN    NaN   NaN   NaN        NaN   NaN         NaN   \n",
      "4739                NaN    NaN   NaN   NaN        NaN   NaN         NaN   \n",
      "4776                NaN    NaN   NaN   NaN        NaN   NaN         NaN   \n",
      "4789                NaN    NaN   NaN   NaN        NaN   NaN         NaN   \n",
      "4801                NaN    NaN   NaN   NaN        NaN   NaN         NaN   \n",
      "4813                NaN    NaN   NaN   NaN        NaN   NaN         NaN   \n",
      "4823               grow   slow  grow   NaN        NaN   NaN         NaN   \n",
      "4832                NaN    NaN   NaN   NaN        NaN   NaN         NaN   \n",
      "\n",
      "            Unnamed: 14 Unnamed: 15 Unnamed: 16  \\\n",
      "index_input                                       \n",
      "1922                NaN         NaN         NaN   \n",
      "1933                NaN         NaN         NaN   \n",
      "1944                NaN         NaN         NaN   \n",
      "3282                NaN         NaN         NaN   \n",
      "4620                NaN         NaN         NaN   \n",
      "4689                NaN         NaN         NaN   \n",
      "4726                NaN         NaN         NaN   \n",
      "4739                NaN         NaN         NaN   \n",
      "4776                NaN         NaN         NaN   \n",
      "4789                NaN         NaN         NaN   \n",
      "4801                NaN         NaN         NaN   \n",
      "4813                NaN         NaN         NaN   \n",
      "4823                NaN         NaN         NaN   \n",
      "4832                NaN         NaN         NaN   \n",
      "\n",
      "                                         orf  \n",
      "index_input                                   \n",
      "1922                                     052  \n",
      "1933                                     081  \n",
      "1944                                     083  \n",
      "3282                                     NAN  \n",
      "4620                                    0017  \n",
      "4689                                    SLOW  \n",
      "4726                                    SLOW  \n",
      "4739                                     NAN  \n",
      "4776                                     NAN  \n",
      "4789                                     NAN  \n",
      "4801         SLOWGROWNOGROWTHAUXOTROPHYPLATE  \n",
      "4813                                    SLOW  \n",
      "4823                                     124  \n",
      "4832                                      10  \n"
     ]
    }
   ],
   "source": [
    "# Make sure everything translated ok\n",
    "t = looks_like_orf(tested['orf'])\n",
    "print(tested.loc[~t,])"
   ]
  },
  {
   "cell_type": "code",
   "execution_count": 32,
   "metadata": {},
   "outputs": [],
   "source": [
    "tested = tested.loc[t,:]"
   ]
  },
  {
   "cell_type": "code",
   "execution_count": 33,
   "metadata": {},
   "outputs": [],
   "source": [
    "tested_orfs = tested['orf'].unique()"
   ]
  },
  {
   "cell_type": "code",
   "execution_count": 34,
   "metadata": {},
   "outputs": [
    {
     "data": {
      "text/plain": [
       "['YCL005W-A', 'YHR010W', 'YOL120C']"
      ]
     },
     "execution_count": 34,
     "metadata": {},
     "output_type": "execute_result"
    }
   ],
   "source": [
    "missing = [orf for orf in original_data.index.values if orf not in tested_orfs]\n",
    "missing"
   ]
  },
  {
   "cell_type": "code",
   "execution_count": 35,
   "metadata": {},
   "outputs": [],
   "source": [
    "tested_orfs = list(tested_orfs) + missing"
   ]
  },
  {
   "cell_type": "code",
   "execution_count": 36,
   "metadata": {},
   "outputs": [],
   "source": [
    "original_data = original_data.reindex(index=tested_orfs, fill_value=0)"
   ]
  },
  {
   "cell_type": "markdown",
   "metadata": {},
   "source": [
    "# Prepare the final dataset"
   ]
  },
  {
   "cell_type": "code",
   "execution_count": 37,
   "metadata": {},
   "outputs": [],
   "source": [
    "data = original_data.copy()"
   ]
  },
  {
   "cell_type": "code",
   "execution_count": 41,
   "metadata": {},
   "outputs": [],
   "source": [
    "dataset_ids = [102]\n",
    "datasets = datasets.reindex(index=dataset_ids)"
   ]
  },
  {
   "cell_type": "code",
   "execution_count": 42,
   "metadata": {},
   "outputs": [],
   "source": [
    "lst = [datasets.index.values, ['value']*datasets.shape[0]]\n",
    "tuples = list(zip(*lst))\n",
    "idx = pd.MultiIndex.from_tuples(tuples, names=['dataset_id','data_type'])\n",
    "data.columns = idx"
   ]
  },
  {
   "cell_type": "code",
   "execution_count": 43,
   "metadata": {},
   "outputs": [
    {
     "data": {
      "text/html": [
       "<div>\n",
       "<style scoped>\n",
       "    .dataframe tbody tr th:only-of-type {\n",
       "        vertical-align: middle;\n",
       "    }\n",
       "\n",
       "    .dataframe tbody tr th {\n",
       "        vertical-align: top;\n",
       "    }\n",
       "\n",
       "    .dataframe thead tr th {\n",
       "        text-align: left;\n",
       "    }\n",
       "\n",
       "    .dataframe thead tr:last-of-type th {\n",
       "        text-align: right;\n",
       "    }\n",
       "</style>\n",
       "<table border=\"1\" class=\"dataframe\">\n",
       "  <thead>\n",
       "    <tr>\n",
       "      <th>dataset_id</th>\n",
       "      <th>102</th>\n",
       "    </tr>\n",
       "    <tr>\n",
       "      <th>data_type</th>\n",
       "      <th>value</th>\n",
       "    </tr>\n",
       "    <tr>\n",
       "      <th>orf</th>\n",
       "      <th></th>\n",
       "    </tr>\n",
       "  </thead>\n",
       "  <tbody>\n",
       "    <tr>\n",
       "      <th>YAL068C</th>\n",
       "      <td>0</td>\n",
       "    </tr>\n",
       "    <tr>\n",
       "      <th>YAL067C</th>\n",
       "      <td>0</td>\n",
       "    </tr>\n",
       "    <tr>\n",
       "      <th>YAL066W</th>\n",
       "      <td>0</td>\n",
       "    </tr>\n",
       "    <tr>\n",
       "      <th>YAL065C</th>\n",
       "      <td>0</td>\n",
       "    </tr>\n",
       "    <tr>\n",
       "      <th>YAL062W</th>\n",
       "      <td>0</td>\n",
       "    </tr>\n",
       "  </tbody>\n",
       "</table>\n",
       "</div>"
      ],
      "text/plain": [
       "dataset_id   102\n",
       "data_type  value\n",
       "orf             \n",
       "YAL068C        0\n",
       "YAL067C        0\n",
       "YAL066W        0\n",
       "YAL065C        0\n",
       "YAL062W        0"
      ]
     },
     "execution_count": 43,
     "metadata": {},
     "output_type": "execute_result"
    }
   ],
   "source": [
    "data.head()"
   ]
  },
  {
   "cell_type": "markdown",
   "metadata": {},
   "source": [
    "## Subset to the genes currently in SGD"
   ]
  },
  {
   "cell_type": "code",
   "execution_count": 44,
   "metadata": {},
   "outputs": [
    {
     "name": "stdout",
     "output_type": "stream",
     "text": [
      "ORFs missing from SGD: 30\n"
     ]
    }
   ],
   "source": [
    "genes = pd.read_csv(path_to_genes, sep='\\t', index_col='id')\n",
    "genes = genes.reset_index().set_index('systematic_name')\n",
    "gene_ids = genes.reindex(index=data.index.values)['id'].values\n",
    "num_missing = np.sum(np.isnan(gene_ids))\n",
    "print('ORFs missing from SGD: %d' % num_missing)"
   ]
  },
  {
   "cell_type": "code",
   "execution_count": 45,
   "metadata": {},
   "outputs": [
    {
     "data": {
      "text/html": [
       "<div>\n",
       "<style scoped>\n",
       "    .dataframe tbody tr th:only-of-type {\n",
       "        vertical-align: middle;\n",
       "    }\n",
       "\n",
       "    .dataframe tbody tr th {\n",
       "        vertical-align: top;\n",
       "    }\n",
       "\n",
       "    .dataframe thead tr th {\n",
       "        text-align: left;\n",
       "    }\n",
       "\n",
       "    .dataframe thead tr:last-of-type th {\n",
       "        text-align: right;\n",
       "    }\n",
       "</style>\n",
       "<table border=\"1\" class=\"dataframe\">\n",
       "  <thead>\n",
       "    <tr>\n",
       "      <th></th>\n",
       "      <th>dataset_id</th>\n",
       "      <th>102</th>\n",
       "    </tr>\n",
       "    <tr>\n",
       "      <th></th>\n",
       "      <th>data_type</th>\n",
       "      <th>value</th>\n",
       "    </tr>\n",
       "    <tr>\n",
       "      <th>gene_id</th>\n",
       "      <th>orf</th>\n",
       "      <th></th>\n",
       "    </tr>\n",
       "  </thead>\n",
       "  <tbody>\n",
       "    <tr>\n",
       "      <th>1869</th>\n",
       "      <th>YAL068C</th>\n",
       "      <td>0</td>\n",
       "    </tr>\n",
       "    <tr>\n",
       "      <th>61</th>\n",
       "      <th>YAL067C</th>\n",
       "      <td>0</td>\n",
       "    </tr>\n",
       "    <tr>\n",
       "      <th>60</th>\n",
       "      <th>YAL066W</th>\n",
       "      <td>0</td>\n",
       "    </tr>\n",
       "    <tr>\n",
       "      <th>1727</th>\n",
       "      <th>YAL065C</th>\n",
       "      <td>0</td>\n",
       "    </tr>\n",
       "    <tr>\n",
       "      <th>57</th>\n",
       "      <th>YAL062W</th>\n",
       "      <td>0</td>\n",
       "    </tr>\n",
       "  </tbody>\n",
       "</table>\n",
       "</div>"
      ],
      "text/plain": [
       "dataset_id        102\n",
       "data_type       value\n",
       "gene_id orf          \n",
       "1869    YAL068C     0\n",
       "61      YAL067C     0\n",
       "60      YAL066W     0\n",
       "1727    YAL065C     0\n",
       "57      YAL062W     0"
      ]
     },
     "execution_count": 45,
     "metadata": {},
     "output_type": "execute_result"
    }
   ],
   "source": [
    "data['gene_id'] = gene_ids\n",
    "data = data.loc[data['gene_id'].notnull()]\n",
    "data['gene_id'] = data['gene_id'].astype(int)\n",
    "data = data.reset_index().set_index(['gene_id','orf'])\n",
    "\n",
    "data.head()"
   ]
  },
  {
   "cell_type": "markdown",
   "metadata": {},
   "source": [
    "# Normalize"
   ]
  },
  {
   "cell_type": "code",
   "execution_count": 46,
   "metadata": {},
   "outputs": [],
   "source": [
    "data_norm = normalize_phenotypic_scores(data, has_tested=True)"
   ]
  },
  {
   "cell_type": "code",
   "execution_count": 47,
   "metadata": {},
   "outputs": [],
   "source": [
    "# Assign proper column names\n",
    "lst = [datasets.index.values, ['valuez']*datasets.shape[0]]\n",
    "tuples = list(zip(*lst))\n",
    "idx = pd.MultiIndex.from_tuples(tuples, names=['dataset_id','data_type'])\n",
    "data_norm.columns = idx"
   ]
  },
  {
   "cell_type": "code",
   "execution_count": 48,
   "metadata": {},
   "outputs": [
    {
     "data": {
      "text/html": [
       "<div>\n",
       "<style scoped>\n",
       "    .dataframe tbody tr th:only-of-type {\n",
       "        vertical-align: middle;\n",
       "    }\n",
       "\n",
       "    .dataframe tbody tr th {\n",
       "        vertical-align: top;\n",
       "    }\n",
       "\n",
       "    .dataframe thead tr th {\n",
       "        text-align: left;\n",
       "    }\n",
       "\n",
       "    .dataframe thead tr:last-of-type th {\n",
       "        text-align: right;\n",
       "    }\n",
       "</style>\n",
       "<table border=\"1\" class=\"dataframe\">\n",
       "  <thead>\n",
       "    <tr>\n",
       "      <th></th>\n",
       "      <th>dataset_id</th>\n",
       "      <th colspan=\"2\" halign=\"left\">102</th>\n",
       "    </tr>\n",
       "    <tr>\n",
       "      <th></th>\n",
       "      <th>data_type</th>\n",
       "      <th>value</th>\n",
       "      <th>valuez</th>\n",
       "    </tr>\n",
       "    <tr>\n",
       "      <th>gene_id</th>\n",
       "      <th>orf</th>\n",
       "      <th></th>\n",
       "      <th></th>\n",
       "    </tr>\n",
       "  </thead>\n",
       "  <tbody>\n",
       "    <tr>\n",
       "      <th>1869</th>\n",
       "      <th>YAL068C</th>\n",
       "      <td>0</td>\n",
       "      <td>0.0</td>\n",
       "    </tr>\n",
       "    <tr>\n",
       "      <th>61</th>\n",
       "      <th>YAL067C</th>\n",
       "      <td>0</td>\n",
       "      <td>0.0</td>\n",
       "    </tr>\n",
       "    <tr>\n",
       "      <th>60</th>\n",
       "      <th>YAL066W</th>\n",
       "      <td>0</td>\n",
       "      <td>0.0</td>\n",
       "    </tr>\n",
       "    <tr>\n",
       "      <th>1727</th>\n",
       "      <th>YAL065C</th>\n",
       "      <td>0</td>\n",
       "      <td>0.0</td>\n",
       "    </tr>\n",
       "    <tr>\n",
       "      <th>57</th>\n",
       "      <th>YAL062W</th>\n",
       "      <td>0</td>\n",
       "      <td>0.0</td>\n",
       "    </tr>\n",
       "  </tbody>\n",
       "</table>\n",
       "</div>"
      ],
      "text/plain": [
       "dataset_id        102       \n",
       "data_type       value valuez\n",
       "gene_id orf                 \n",
       "1869    YAL068C     0    0.0\n",
       "61      YAL067C     0    0.0\n",
       "60      YAL066W     0    0.0\n",
       "1727    YAL065C     0    0.0\n",
       "57      YAL062W     0    0.0"
      ]
     },
     "execution_count": 48,
     "metadata": {},
     "output_type": "execute_result"
    }
   ],
   "source": [
    "data_norm[data.isnull()] = np.nan\n",
    "data_all = data.join(data_norm)\n",
    "\n",
    "data_all.head()"
   ]
  },
  {
   "cell_type": "markdown",
   "metadata": {},
   "source": [
    "# Print out"
   ]
  },
  {
   "cell_type": "code",
   "execution_count": 49,
   "metadata": {},
   "outputs": [],
   "source": [
    "for f in ['value','valuez']:\n",
    "    df = data_all.xs(f, level='data_type', axis=1).copy()\n",
    "    df.columns = datasets['name'].values\n",
    "    df = df.droplevel('gene_id', axis=0)\n",
    "    df.to_csv(paper_name + '_' + f + '.txt', sep='\\t')"
   ]
  },
  {
   "cell_type": "markdown",
   "metadata": {},
   "source": [
    "# Save to DB"
   ]
  },
  {
   "cell_type": "code",
   "execution_count": 50,
   "metadata": {},
   "outputs": [],
   "source": [
    "from IO.save_data_to_db3 import *"
   ]
  },
  {
   "cell_type": "code",
   "execution_count": 51,
   "metadata": {},
   "outputs": [
    {
     "name": "stderr",
     "output_type": "stream",
     "text": [
      "  0%|          | 0/1 [00:00<?, ?it/s]"
     ]
    },
    {
     "name": "stdout",
     "output_type": "stream",
     "text": [
      "Deleting all datasets for PMID 20498295...\n",
      "Inserting the new data...\n"
     ]
    },
    {
     "name": "stderr",
     "output_type": "stream",
     "text": [
      "100%|██████████| 1/1 [00:08<00:00,  8.47s/it]"
     ]
    },
    {
     "name": "stdout",
     "output_type": "stream",
     "text": [
      "Updating the data_modified_on field...\n"
     ]
    },
    {
     "name": "stderr",
     "output_type": "stream",
     "text": [
      "\n"
     ]
    }
   ],
   "source": [
    "save_data_to_db(data_all, paper_pmid)"
   ]
  },
  {
   "cell_type": "code",
   "execution_count": null,
   "metadata": {},
   "outputs": [],
   "source": []
  }
 ],
 "metadata": {
  "kernelspec": {
   "display_name": "yp-data",
   "language": "python",
   "name": "yp-data"
  },
  "language_info": {
   "codemirror_mode": {
    "name": "ipython",
    "version": 3
   },
   "file_extension": ".py",
   "mimetype": "text/x-python",
   "name": "python",
   "nbconvert_exporter": "python",
   "pygments_lexer": "ipython3",
   "version": "3.7.7"
  }
 },
 "nbformat": 4,
 "nbformat_minor": 4
}
